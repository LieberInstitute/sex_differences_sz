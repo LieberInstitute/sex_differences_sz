{
 "cells": [
  {
   "cell_type": "markdown",
   "metadata": {},
   "source": [
    "# Feature summary analysis of gender only differential expression"
   ]
  },
  {
   "cell_type": "code",
   "execution_count": 1,
   "metadata": {},
   "outputs": [],
   "source": [
    "import numpy as np\n",
    "import pandas as pd"
   ]
  },
  {
   "cell_type": "markdown",
   "metadata": {},
   "source": [
    "## Summary plots"
   ]
  },
  {
   "cell_type": "code",
   "execution_count": 11,
   "metadata": {},
   "outputs": [],
   "source": [
    "def subset_deg(fn, feature):\n",
    "    feature_dict = {\n",
    "        'genes': 'Gene', \n",
    "        'transcripts': 'Transcript', \n",
    "        'exons': 'Exon', \n",
    "        'junctions': 'Junction'}\n",
    "    df = pd.read_csv(fn, sep='\\t', index_col=0)\n",
    "    if feature == 'transcripts':\n",
    "        df['Feature'] = df.index\n",
    "        df['ensemblID'] = df.gene_id.str.replace('\\\\.\\d+', '', regex=True)\n",
    "        df.rename(columns={'gene_name': 'Symbol'}, inplace=True)\n",
    "    elif feature == 'genes':\n",
    "        df['Feature'] = df.gencodeID\n",
    "    else:\n",
    "        df['Feature'] = df.index\n",
    "    df = df[['Feature', 'Symbol', 'ensemblID', 'logFC', 'adj.P.Val']].copy()\n",
    "    df['Type'] = feature_dict[feature]\n",
    "    return df\n",
    "\n",
    "\n",
    "def extract_deg(feature):\n",
    "    config = {\n",
    "        'CvD': '../../_m/%s/diffExpr_CvD_sex_FDR05.txt' % feature, \n",
    "        'CvH': '../../_m/%s/diffExpr_CvH_sex_FDR05.txt' % feature,\n",
    "        'DvH': '../../_m/%s/diffExpr_DvH_sex_FDR05.txt' % feature,\n",
    "    }\n",
    "    cvd = subset_deg(config['CvD'], feature)\n",
    "    cvd['Comparison'] = 'CvD'\n",
    "    cvh = subset_deg(config['CvH'], feature)\n",
    "    cvh['Comparison'] = 'CvH'\n",
    "    dvh = subset_deg(config['DvH'], feature)\n",
    "    dvh['Comparison'] = 'DvH'\n",
    "    return cvd, cvh, dvh"
   ]
  },
  {
   "cell_type": "markdown",
   "metadata": {},
   "source": [
    "### Genes"
   ]
  },
  {
   "cell_type": "code",
   "execution_count": 3,
   "metadata": {},
   "outputs": [
    {
     "data": {
      "text/html": [
       "<div>\n",
       "<style scoped>\n",
       "    .dataframe tbody tr th:only-of-type {\n",
       "        vertical-align: middle;\n",
       "    }\n",
       "\n",
       "    .dataframe tbody tr th {\n",
       "        vertical-align: top;\n",
       "    }\n",
       "\n",
       "    .dataframe thead th {\n",
       "        text-align: right;\n",
       "    }\n",
       "</style>\n",
       "<table border=\"1\" class=\"dataframe\">\n",
       "  <thead>\n",
       "    <tr style=\"text-align: right;\">\n",
       "      <th></th>\n",
       "      <th>Feature</th>\n",
       "      <th>Symbol</th>\n",
       "      <th>ensemblID</th>\n",
       "      <th>logFC</th>\n",
       "      <th>adj.P.Val</th>\n",
       "      <th>Type</th>\n",
       "      <th>Comparison</th>\n",
       "    </tr>\n",
       "  </thead>\n",
       "  <tbody>\n",
       "    <tr>\n",
       "      <th>ENSG00000184991.2</th>\n",
       "      <td>ENSG00000184991.2</td>\n",
       "      <td>TTTY13</td>\n",
       "      <td>ENSG00000184991</td>\n",
       "      <td>-4.360657</td>\n",
       "      <td>5.005190e-133</td>\n",
       "      <td>Gene</td>\n",
       "      <td>CvD</td>\n",
       "    </tr>\n",
       "    <tr>\n",
       "      <th>ENSG00000092377.13</th>\n",
       "      <td>ENSG00000092377.13</td>\n",
       "      <td>TBL1Y</td>\n",
       "      <td>ENSG00000092377</td>\n",
       "      <td>-3.627633</td>\n",
       "      <td>6.609422e-76</td>\n",
       "      <td>Gene</td>\n",
       "      <td>CvD</td>\n",
       "    </tr>\n",
       "  </tbody>\n",
       "</table>\n",
       "</div>"
      ],
      "text/plain": [
       "                               Feature  Symbol        ensemblID     logFC  \\\n",
       "ENSG00000184991.2    ENSG00000184991.2  TTTY13  ENSG00000184991 -4.360657   \n",
       "ENSG00000092377.13  ENSG00000092377.13   TBL1Y  ENSG00000092377 -3.627633   \n",
       "\n",
       "                        adj.P.Val  Type Comparison  \n",
       "ENSG00000184991.2   5.005190e-133  Gene        CvD  \n",
       "ENSG00000092377.13   6.609422e-76  Gene        CvD  "
      ]
     },
     "execution_count": 3,
     "metadata": {},
     "output_type": "execute_result"
    }
   ],
   "source": [
    "feature = 'genes'\n",
    "genes_cvd, genes_cvh, genes_dvh = extract_deg(feature)\n",
    "genes = pd.concat([genes_cvd, genes_cvh, genes_dvh])\n",
    "genes.head(2)"
   ]
  },
  {
   "cell_type": "code",
   "execution_count": 4,
   "metadata": {},
   "outputs": [
    {
     "name": "stdout",
     "output_type": "stream",
     "text": [
      "There are 17 genes that interact for caudate between DLPFC and Hippocampus!\n"
     ]
    },
    {
     "data": {
      "text/html": [
       "<div>\n",
       "<style scoped>\n",
       "    .dataframe tbody tr th:only-of-type {\n",
       "        vertical-align: middle;\n",
       "    }\n",
       "\n",
       "    .dataframe tbody tr th {\n",
       "        vertical-align: top;\n",
       "    }\n",
       "\n",
       "    .dataframe thead th {\n",
       "        text-align: right;\n",
       "    }\n",
       "</style>\n",
       "<table border=\"1\" class=\"dataframe\">\n",
       "  <thead>\n",
       "    <tr style=\"text-align: right;\">\n",
       "      <th></th>\n",
       "      <th>Symbol</th>\n",
       "      <th>ensemblID</th>\n",
       "      <th>logFC</th>\n",
       "      <th>adj.P.Val</th>\n",
       "      <th>Type</th>\n",
       "      <th>Comparison</th>\n",
       "    </tr>\n",
       "    <tr>\n",
       "      <th>Feature</th>\n",
       "      <th></th>\n",
       "      <th></th>\n",
       "      <th></th>\n",
       "      <th></th>\n",
       "      <th></th>\n",
       "      <th></th>\n",
       "    </tr>\n",
       "  </thead>\n",
       "  <tbody>\n",
       "    <tr>\n",
       "      <th>ENSG00000228223.2</th>\n",
       "      <td>HCG11</td>\n",
       "      <td>ENSG00000228223</td>\n",
       "      <td>0.131063</td>\n",
       "      <td>4.230495e-02</td>\n",
       "      <td>Gene</td>\n",
       "      <td>CvD</td>\n",
       "    </tr>\n",
       "    <tr>\n",
       "      <th>ENSG00000185275.6</th>\n",
       "      <td>CD24P4</td>\n",
       "      <td>ENSG00000185275</td>\n",
       "      <td>1.269074</td>\n",
       "      <td>1.052913e-06</td>\n",
       "      <td>Gene</td>\n",
       "      <td>CvD</td>\n",
       "    </tr>\n",
       "    <tr>\n",
       "      <th>ENSG00000066629.16</th>\n",
       "      <td>EML1</td>\n",
       "      <td>ENSG00000066629</td>\n",
       "      <td>-0.222427</td>\n",
       "      <td>1.412821e-04</td>\n",
       "      <td>Gene</td>\n",
       "      <td>CvD</td>\n",
       "    </tr>\n",
       "    <tr>\n",
       "      <th>ENSG00000092377.13</th>\n",
       "      <td>TBL1Y</td>\n",
       "      <td>ENSG00000092377</td>\n",
       "      <td>-3.627633</td>\n",
       "      <td>6.609422e-76</td>\n",
       "      <td>Gene</td>\n",
       "      <td>CvD</td>\n",
       "    </tr>\n",
       "    <tr>\n",
       "      <th>ENSG00000173809.16</th>\n",
       "      <td>TDRD12</td>\n",
       "      <td>ENSG00000173809</td>\n",
       "      <td>-0.462759</td>\n",
       "      <td>1.872604e-03</td>\n",
       "      <td>Gene</td>\n",
       "      <td>CvD</td>\n",
       "    </tr>\n",
       "    <tr>\n",
       "      <th>ENSG00000277438.1</th>\n",
       "      <td>NaN</td>\n",
       "      <td>ENSG00000277438</td>\n",
       "      <td>0.919121</td>\n",
       "      <td>2.146899e-07</td>\n",
       "      <td>Gene</td>\n",
       "      <td>CvD</td>\n",
       "    </tr>\n",
       "    <tr>\n",
       "      <th>ENSG00000184991.2</th>\n",
       "      <td>TTTY13</td>\n",
       "      <td>ENSG00000184991</td>\n",
       "      <td>-4.360657</td>\n",
       "      <td>5.005190e-133</td>\n",
       "      <td>Gene</td>\n",
       "      <td>CvD</td>\n",
       "    </tr>\n",
       "    <tr>\n",
       "      <th>ENSG00000252766.1</th>\n",
       "      <td>RNU6-255P</td>\n",
       "      <td>ENSG00000252766</td>\n",
       "      <td>1.353570</td>\n",
       "      <td>1.141351e-13</td>\n",
       "      <td>Gene</td>\n",
       "      <td>CvD</td>\n",
       "    </tr>\n",
       "    <tr>\n",
       "      <th>ENSG00000232348.2</th>\n",
       "      <td>LINC00279</td>\n",
       "      <td>ENSG00000232348</td>\n",
       "      <td>-1.334907</td>\n",
       "      <td>5.750720e-13</td>\n",
       "      <td>Gene</td>\n",
       "      <td>CvD</td>\n",
       "    </tr>\n",
       "    <tr>\n",
       "      <th>ENSG00000099715.14</th>\n",
       "      <td>PCDH11Y</td>\n",
       "      <td>ENSG00000099715</td>\n",
       "      <td>2.519740</td>\n",
       "      <td>3.588357e-32</td>\n",
       "      <td>Gene</td>\n",
       "      <td>CvD</td>\n",
       "    </tr>\n",
       "    <tr>\n",
       "      <th>ENSG00000238241.1</th>\n",
       "      <td>CCR12P</td>\n",
       "      <td>ENSG00000238241</td>\n",
       "      <td>-0.588489</td>\n",
       "      <td>7.882787e-03</td>\n",
       "      <td>Gene</td>\n",
       "      <td>CvD</td>\n",
       "    </tr>\n",
       "    <tr>\n",
       "      <th>ENSG00000146674.14</th>\n",
       "      <td>IGFBP3</td>\n",
       "      <td>ENSG00000146674</td>\n",
       "      <td>0.949975</td>\n",
       "      <td>1.836787e-12</td>\n",
       "      <td>Gene</td>\n",
       "      <td>CvD</td>\n",
       "    </tr>\n",
       "    <tr>\n",
       "      <th>ENSG00000170011.13</th>\n",
       "      <td>MYRIP</td>\n",
       "      <td>ENSG00000170011</td>\n",
       "      <td>0.238429</td>\n",
       "      <td>3.461297e-03</td>\n",
       "      <td>Gene</td>\n",
       "      <td>CvD</td>\n",
       "    </tr>\n",
       "    <tr>\n",
       "      <th>ENSG00000273906.1</th>\n",
       "      <td>NaN</td>\n",
       "      <td>ENSG00000273906</td>\n",
       "      <td>-3.585686</td>\n",
       "      <td>9.649875e-67</td>\n",
       "      <td>Gene</td>\n",
       "      <td>CvD</td>\n",
       "    </tr>\n",
       "    <tr>\n",
       "      <th>ENSG00000197181.11</th>\n",
       "      <td>PIWIL2</td>\n",
       "      <td>ENSG00000197181</td>\n",
       "      <td>-0.393875</td>\n",
       "      <td>9.253554e-03</td>\n",
       "      <td>Gene</td>\n",
       "      <td>CvD</td>\n",
       "    </tr>\n",
       "    <tr>\n",
       "      <th>ENSG00000121743.3</th>\n",
       "      <td>GJA3</td>\n",
       "      <td>ENSG00000121743</td>\n",
       "      <td>-0.518816</td>\n",
       "      <td>3.419185e-02</td>\n",
       "      <td>Gene</td>\n",
       "      <td>CvD</td>\n",
       "    </tr>\n",
       "    <tr>\n",
       "      <th>ENSG00000231436.1</th>\n",
       "      <td>RBMY3AP</td>\n",
       "      <td>ENSG00000231436</td>\n",
       "      <td>-3.634175</td>\n",
       "      <td>1.955784e-50</td>\n",
       "      <td>Gene</td>\n",
       "      <td>CvD</td>\n",
       "    </tr>\n",
       "  </tbody>\n",
       "</table>\n",
       "</div>"
      ],
      "text/plain": [
       "                       Symbol        ensemblID     logFC      adj.P.Val  Type  \\\n",
       "Feature                                                                         \n",
       "ENSG00000228223.2       HCG11  ENSG00000228223  0.131063   4.230495e-02  Gene   \n",
       "ENSG00000185275.6      CD24P4  ENSG00000185275  1.269074   1.052913e-06  Gene   \n",
       "ENSG00000066629.16       EML1  ENSG00000066629 -0.222427   1.412821e-04  Gene   \n",
       "ENSG00000092377.13      TBL1Y  ENSG00000092377 -3.627633   6.609422e-76  Gene   \n",
       "ENSG00000173809.16     TDRD12  ENSG00000173809 -0.462759   1.872604e-03  Gene   \n",
       "ENSG00000277438.1         NaN  ENSG00000277438  0.919121   2.146899e-07  Gene   \n",
       "ENSG00000184991.2      TTTY13  ENSG00000184991 -4.360657  5.005190e-133  Gene   \n",
       "ENSG00000252766.1   RNU6-255P  ENSG00000252766  1.353570   1.141351e-13  Gene   \n",
       "ENSG00000232348.2   LINC00279  ENSG00000232348 -1.334907   5.750720e-13  Gene   \n",
       "ENSG00000099715.14    PCDH11Y  ENSG00000099715  2.519740   3.588357e-32  Gene   \n",
       "ENSG00000238241.1      CCR12P  ENSG00000238241 -0.588489   7.882787e-03  Gene   \n",
       "ENSG00000146674.14     IGFBP3  ENSG00000146674  0.949975   1.836787e-12  Gene   \n",
       "ENSG00000170011.13      MYRIP  ENSG00000170011  0.238429   3.461297e-03  Gene   \n",
       "ENSG00000273906.1         NaN  ENSG00000273906 -3.585686   9.649875e-67  Gene   \n",
       "ENSG00000197181.11     PIWIL2  ENSG00000197181 -0.393875   9.253554e-03  Gene   \n",
       "ENSG00000121743.3        GJA3  ENSG00000121743 -0.518816   3.419185e-02  Gene   \n",
       "ENSG00000231436.1     RBMY3AP  ENSG00000231436 -3.634175   1.955784e-50  Gene   \n",
       "\n",
       "                   Comparison  \n",
       "Feature                        \n",
       "ENSG00000228223.2         CvD  \n",
       "ENSG00000185275.6         CvD  \n",
       "ENSG00000066629.16        CvD  \n",
       "ENSG00000092377.13        CvD  \n",
       "ENSG00000173809.16        CvD  \n",
       "ENSG00000277438.1         CvD  \n",
       "ENSG00000184991.2         CvD  \n",
       "ENSG00000252766.1         CvD  \n",
       "ENSG00000232348.2         CvD  \n",
       "ENSG00000099715.14        CvD  \n",
       "ENSG00000238241.1         CvD  \n",
       "ENSG00000146674.14        CvD  \n",
       "ENSG00000170011.13        CvD  \n",
       "ENSG00000273906.1         CvD  \n",
       "ENSG00000197181.11        CvD  \n",
       "ENSG00000121743.3         CvD  \n",
       "ENSG00000231436.1         CvD  "
      ]
     },
     "execution_count": 4,
     "metadata": {},
     "output_type": "execute_result"
    }
   ],
   "source": [
    "shared = set(genes_cvd.Feature) & set(genes_cvh.Feature)\n",
    "print(\"There are %d genes that interact for caudate between DLPFC and Hippocampus!\" % len(shared))\n",
    "genes_cvd.set_index('Feature').loc[np.array(list(shared)), :]"
   ]
  },
  {
   "cell_type": "code",
   "execution_count": 5,
   "metadata": {},
   "outputs": [
    {
     "name": "stdout",
     "output_type": "stream",
     "text": [
      "There are 20 genes that interact for DLPFC between caudate and Hippocampus!\n"
     ]
    },
    {
     "data": {
      "text/html": [
       "<div>\n",
       "<style scoped>\n",
       "    .dataframe tbody tr th:only-of-type {\n",
       "        vertical-align: middle;\n",
       "    }\n",
       "\n",
       "    .dataframe tbody tr th {\n",
       "        vertical-align: top;\n",
       "    }\n",
       "\n",
       "    .dataframe thead th {\n",
       "        text-align: right;\n",
       "    }\n",
       "</style>\n",
       "<table border=\"1\" class=\"dataframe\">\n",
       "  <thead>\n",
       "    <tr style=\"text-align: right;\">\n",
       "      <th></th>\n",
       "      <th>Symbol</th>\n",
       "      <th>ensemblID</th>\n",
       "      <th>logFC</th>\n",
       "      <th>adj.P.Val</th>\n",
       "      <th>Type</th>\n",
       "      <th>Comparison</th>\n",
       "    </tr>\n",
       "    <tr>\n",
       "      <th>Feature</th>\n",
       "      <th></th>\n",
       "      <th></th>\n",
       "      <th></th>\n",
       "      <th></th>\n",
       "      <th></th>\n",
       "      <th></th>\n",
       "    </tr>\n",
       "  </thead>\n",
       "  <tbody>\n",
       "    <tr>\n",
       "      <th>ENSG00000185275.6</th>\n",
       "      <td>CD24P4</td>\n",
       "      <td>ENSG00000185275</td>\n",
       "      <td>1.269074</td>\n",
       "      <td>1.052913e-06</td>\n",
       "      <td>Gene</td>\n",
       "      <td>CvD</td>\n",
       "    </tr>\n",
       "    <tr>\n",
       "      <th>ENSG00000129824.15</th>\n",
       "      <td>RPS4Y1</td>\n",
       "      <td>ENSG00000129824</td>\n",
       "      <td>0.809539</td>\n",
       "      <td>3.393715e-03</td>\n",
       "      <td>Gene</td>\n",
       "      <td>CvD</td>\n",
       "    </tr>\n",
       "    <tr>\n",
       "      <th>ENSG00000176728.7</th>\n",
       "      <td>TTTY14</td>\n",
       "      <td>ENSG00000176728</td>\n",
       "      <td>0.559170</td>\n",
       "      <td>3.879491e-02</td>\n",
       "      <td>Gene</td>\n",
       "      <td>CvD</td>\n",
       "    </tr>\n",
       "    <tr>\n",
       "      <th>ENSG00000067048.16</th>\n",
       "      <td>DDX3Y</td>\n",
       "      <td>ENSG00000067048</td>\n",
       "      <td>0.976405</td>\n",
       "      <td>3.043073e-05</td>\n",
       "      <td>Gene</td>\n",
       "      <td>CvD</td>\n",
       "    </tr>\n",
       "    <tr>\n",
       "      <th>ENSG00000099725.14</th>\n",
       "      <td>PRKY</td>\n",
       "      <td>ENSG00000099725</td>\n",
       "      <td>0.912710</td>\n",
       "      <td>1.195206e-04</td>\n",
       "      <td>Gene</td>\n",
       "      <td>CvD</td>\n",
       "    </tr>\n",
       "    <tr>\n",
       "      <th>ENSG00000131002.11</th>\n",
       "      <td>TXLNGY</td>\n",
       "      <td>ENSG00000131002</td>\n",
       "      <td>0.843662</td>\n",
       "      <td>3.393715e-03</td>\n",
       "      <td>Gene</td>\n",
       "      <td>CvD</td>\n",
       "    </tr>\n",
       "    <tr>\n",
       "      <th>ENSG00000239893.1</th>\n",
       "      <td>ZNF736P9Y</td>\n",
       "      <td>ENSG00000239893</td>\n",
       "      <td>-3.128749</td>\n",
       "      <td>3.952339e-33</td>\n",
       "      <td>Gene</td>\n",
       "      <td>CvD</td>\n",
       "    </tr>\n",
       "    <tr>\n",
       "      <th>ENSG00000260197.1</th>\n",
       "      <td>NaN</td>\n",
       "      <td>ENSG00000260197</td>\n",
       "      <td>0.604253</td>\n",
       "      <td>6.546653e-03</td>\n",
       "      <td>Gene</td>\n",
       "      <td>CvD</td>\n",
       "    </tr>\n",
       "    <tr>\n",
       "      <th>ENSG00000151923.17</th>\n",
       "      <td>TIAL1</td>\n",
       "      <td>ENSG00000151923</td>\n",
       "      <td>-0.090797</td>\n",
       "      <td>3.656674e-02</td>\n",
       "      <td>Gene</td>\n",
       "      <td>CvD</td>\n",
       "    </tr>\n",
       "    <tr>\n",
       "      <th>ENSG00000012817.15</th>\n",
       "      <td>KDM5D</td>\n",
       "      <td>ENSG00000012817</td>\n",
       "      <td>1.018661</td>\n",
       "      <td>4.159236e-06</td>\n",
       "      <td>Gene</td>\n",
       "      <td>CvD</td>\n",
       "    </tr>\n",
       "    <tr>\n",
       "      <th>ENSG00000205664.10</th>\n",
       "      <td>NaN</td>\n",
       "      <td>ENSG00000205664</td>\n",
       "      <td>0.366608</td>\n",
       "      <td>6.489451e-09</td>\n",
       "      <td>Gene</td>\n",
       "      <td>CvD</td>\n",
       "    </tr>\n",
       "    <tr>\n",
       "      <th>ENSG00000273906.1</th>\n",
       "      <td>NaN</td>\n",
       "      <td>ENSG00000273906</td>\n",
       "      <td>-3.585686</td>\n",
       "      <td>9.649875e-67</td>\n",
       "      <td>Gene</td>\n",
       "      <td>CvD</td>\n",
       "    </tr>\n",
       "    <tr>\n",
       "      <th>ENSG00000183878.15</th>\n",
       "      <td>UTY</td>\n",
       "      <td>ENSG00000183878</td>\n",
       "      <td>1.156821</td>\n",
       "      <td>1.252025e-06</td>\n",
       "      <td>Gene</td>\n",
       "      <td>CvD</td>\n",
       "    </tr>\n",
       "    <tr>\n",
       "      <th>ENSG00000092377.13</th>\n",
       "      <td>TBL1Y</td>\n",
       "      <td>ENSG00000092377</td>\n",
       "      <td>-3.627633</td>\n",
       "      <td>6.609422e-76</td>\n",
       "      <td>Gene</td>\n",
       "      <td>CvD</td>\n",
       "    </tr>\n",
       "    <tr>\n",
       "      <th>ENSG00000229807.10</th>\n",
       "      <td>XIST</td>\n",
       "      <td>ENSG00000229807</td>\n",
       "      <td>-0.956805</td>\n",
       "      <td>1.145939e-04</td>\n",
       "      <td>Gene</td>\n",
       "      <td>CvD</td>\n",
       "    </tr>\n",
       "    <tr>\n",
       "      <th>ENSG00000234449.2</th>\n",
       "      <td>NaN</td>\n",
       "      <td>ENSG00000234449</td>\n",
       "      <td>0.393613</td>\n",
       "      <td>1.380234e-03</td>\n",
       "      <td>Gene</td>\n",
       "      <td>CvD</td>\n",
       "    </tr>\n",
       "    <tr>\n",
       "      <th>ENSG00000227494.2</th>\n",
       "      <td>USP9YP14</td>\n",
       "      <td>ENSG00000227494</td>\n",
       "      <td>1.398617</td>\n",
       "      <td>3.384241e-12</td>\n",
       "      <td>Gene</td>\n",
       "      <td>CvD</td>\n",
       "    </tr>\n",
       "    <tr>\n",
       "      <th>ENSG00000233864.7</th>\n",
       "      <td>TTTY15</td>\n",
       "      <td>ENSG00000233864</td>\n",
       "      <td>0.933324</td>\n",
       "      <td>4.252748e-05</td>\n",
       "      <td>Gene</td>\n",
       "      <td>CvD</td>\n",
       "    </tr>\n",
       "    <tr>\n",
       "      <th>ENSG00000006757.11</th>\n",
       "      <td>PNPLA4</td>\n",
       "      <td>ENSG00000006757</td>\n",
       "      <td>0.316647</td>\n",
       "      <td>2.421224e-14</td>\n",
       "      <td>Gene</td>\n",
       "      <td>CvD</td>\n",
       "    </tr>\n",
       "    <tr>\n",
       "      <th>ENSG00000114374.12</th>\n",
       "      <td>USP9Y</td>\n",
       "      <td>ENSG00000114374</td>\n",
       "      <td>1.253950</td>\n",
       "      <td>3.318947e-10</td>\n",
       "      <td>Gene</td>\n",
       "      <td>CvD</td>\n",
       "    </tr>\n",
       "  </tbody>\n",
       "</table>\n",
       "</div>"
      ],
      "text/plain": [
       "                       Symbol        ensemblID     logFC     adj.P.Val  Type  \\\n",
       "Feature                                                                        \n",
       "ENSG00000185275.6      CD24P4  ENSG00000185275  1.269074  1.052913e-06  Gene   \n",
       "ENSG00000129824.15     RPS4Y1  ENSG00000129824  0.809539  3.393715e-03  Gene   \n",
       "ENSG00000176728.7      TTTY14  ENSG00000176728  0.559170  3.879491e-02  Gene   \n",
       "ENSG00000067048.16      DDX3Y  ENSG00000067048  0.976405  3.043073e-05  Gene   \n",
       "ENSG00000099725.14       PRKY  ENSG00000099725  0.912710  1.195206e-04  Gene   \n",
       "ENSG00000131002.11     TXLNGY  ENSG00000131002  0.843662  3.393715e-03  Gene   \n",
       "ENSG00000239893.1   ZNF736P9Y  ENSG00000239893 -3.128749  3.952339e-33  Gene   \n",
       "ENSG00000260197.1         NaN  ENSG00000260197  0.604253  6.546653e-03  Gene   \n",
       "ENSG00000151923.17      TIAL1  ENSG00000151923 -0.090797  3.656674e-02  Gene   \n",
       "ENSG00000012817.15      KDM5D  ENSG00000012817  1.018661  4.159236e-06  Gene   \n",
       "ENSG00000205664.10        NaN  ENSG00000205664  0.366608  6.489451e-09  Gene   \n",
       "ENSG00000273906.1         NaN  ENSG00000273906 -3.585686  9.649875e-67  Gene   \n",
       "ENSG00000183878.15        UTY  ENSG00000183878  1.156821  1.252025e-06  Gene   \n",
       "ENSG00000092377.13      TBL1Y  ENSG00000092377 -3.627633  6.609422e-76  Gene   \n",
       "ENSG00000229807.10       XIST  ENSG00000229807 -0.956805  1.145939e-04  Gene   \n",
       "ENSG00000234449.2         NaN  ENSG00000234449  0.393613  1.380234e-03  Gene   \n",
       "ENSG00000227494.2    USP9YP14  ENSG00000227494  1.398617  3.384241e-12  Gene   \n",
       "ENSG00000233864.7      TTTY15  ENSG00000233864  0.933324  4.252748e-05  Gene   \n",
       "ENSG00000006757.11     PNPLA4  ENSG00000006757  0.316647  2.421224e-14  Gene   \n",
       "ENSG00000114374.12      USP9Y  ENSG00000114374  1.253950  3.318947e-10  Gene   \n",
       "\n",
       "                   Comparison  \n",
       "Feature                        \n",
       "ENSG00000185275.6         CvD  \n",
       "ENSG00000129824.15        CvD  \n",
       "ENSG00000176728.7         CvD  \n",
       "ENSG00000067048.16        CvD  \n",
       "ENSG00000099725.14        CvD  \n",
       "ENSG00000131002.11        CvD  \n",
       "ENSG00000239893.1         CvD  \n",
       "ENSG00000260197.1         CvD  \n",
       "ENSG00000151923.17        CvD  \n",
       "ENSG00000012817.15        CvD  \n",
       "ENSG00000205664.10        CvD  \n",
       "ENSG00000273906.1         CvD  \n",
       "ENSG00000183878.15        CvD  \n",
       "ENSG00000092377.13        CvD  \n",
       "ENSG00000229807.10        CvD  \n",
       "ENSG00000234449.2         CvD  \n",
       "ENSG00000227494.2         CvD  \n",
       "ENSG00000233864.7         CvD  \n",
       "ENSG00000006757.11        CvD  \n",
       "ENSG00000114374.12        CvD  "
      ]
     },
     "execution_count": 5,
     "metadata": {},
     "output_type": "execute_result"
    }
   ],
   "source": [
    "shared = set(genes_cvd.Feature) & set(genes_dvh.Feature)\n",
    "print(\"There are %d genes that interact for DLPFC between caudate and Hippocampus!\" % len(shared))\n",
    "genes_cvd.set_index('Feature').loc[np.array(list(shared)), :]"
   ]
  },
  {
   "cell_type": "code",
   "execution_count": 6,
   "metadata": {},
   "outputs": [
    {
     "name": "stdout",
     "output_type": "stream",
     "text": [
      "There are 3 genes that interact for Hippocampus between caudate and DLPFC!\n"
     ]
    },
    {
     "data": {
      "text/html": [
       "<div>\n",
       "<style scoped>\n",
       "    .dataframe tbody tr th:only-of-type {\n",
       "        vertical-align: middle;\n",
       "    }\n",
       "\n",
       "    .dataframe tbody tr th {\n",
       "        vertical-align: top;\n",
       "    }\n",
       "\n",
       "    .dataframe thead th {\n",
       "        text-align: right;\n",
       "    }\n",
       "</style>\n",
       "<table border=\"1\" class=\"dataframe\">\n",
       "  <thead>\n",
       "    <tr style=\"text-align: right;\">\n",
       "      <th></th>\n",
       "      <th>Symbol</th>\n",
       "      <th>ensemblID</th>\n",
       "      <th>logFC</th>\n",
       "      <th>adj.P.Val</th>\n",
       "      <th>Type</th>\n",
       "      <th>Comparison</th>\n",
       "    </tr>\n",
       "    <tr>\n",
       "      <th>Feature</th>\n",
       "      <th></th>\n",
       "      <th></th>\n",
       "      <th></th>\n",
       "      <th></th>\n",
       "      <th></th>\n",
       "      <th></th>\n",
       "    </tr>\n",
       "  </thead>\n",
       "  <tbody>\n",
       "    <tr>\n",
       "      <th>ENSG00000273906.1</th>\n",
       "      <td>NaN</td>\n",
       "      <td>ENSG00000273906</td>\n",
       "      <td>-2.789483</td>\n",
       "      <td>4.378328e-45</td>\n",
       "      <td>Gene</td>\n",
       "      <td>CvH</td>\n",
       "    </tr>\n",
       "    <tr>\n",
       "      <th>ENSG00000185275.6</th>\n",
       "      <td>CD24P4</td>\n",
       "      <td>ENSG00000185275</td>\n",
       "      <td>-0.837700</td>\n",
       "      <td>6.893577e-04</td>\n",
       "      <td>Gene</td>\n",
       "      <td>CvH</td>\n",
       "    </tr>\n",
       "    <tr>\n",
       "      <th>ENSG00000092377.13</th>\n",
       "      <td>TBL1Y</td>\n",
       "      <td>ENSG00000092377</td>\n",
       "      <td>-2.825989</td>\n",
       "      <td>6.275529e-52</td>\n",
       "      <td>Gene</td>\n",
       "      <td>CvH</td>\n",
       "    </tr>\n",
       "  </tbody>\n",
       "</table>\n",
       "</div>"
      ],
      "text/plain": [
       "                    Symbol        ensemblID     logFC     adj.P.Val  Type  \\\n",
       "Feature                                                                     \n",
       "ENSG00000273906.1      NaN  ENSG00000273906 -2.789483  4.378328e-45  Gene   \n",
       "ENSG00000185275.6   CD24P4  ENSG00000185275 -0.837700  6.893577e-04  Gene   \n",
       "ENSG00000092377.13   TBL1Y  ENSG00000092377 -2.825989  6.275529e-52  Gene   \n",
       "\n",
       "                   Comparison  \n",
       "Feature                        \n",
       "ENSG00000273906.1         CvH  \n",
       "ENSG00000185275.6         CvH  \n",
       "ENSG00000092377.13        CvH  "
      ]
     },
     "execution_count": 6,
     "metadata": {},
     "output_type": "execute_result"
    }
   ],
   "source": [
    "shared = set(genes_cvh.Feature) & set(genes_dvh.Feature)\n",
    "print(\"There are %d genes that interact for Hippocampus between caudate and DLPFC!\" % len(shared))\n",
    "genes_cvh.set_index('Feature').loc[np.array(list(shared)), :]"
   ]
  },
  {
   "cell_type": "markdown",
   "metadata": {},
   "source": [
    "### Transcripts"
   ]
  },
  {
   "cell_type": "code",
   "execution_count": 9,
   "metadata": {},
   "outputs": [
    {
     "data": {
      "text/html": [
       "<div>\n",
       "<style scoped>\n",
       "    .dataframe tbody tr th:only-of-type {\n",
       "        vertical-align: middle;\n",
       "    }\n",
       "\n",
       "    .dataframe tbody tr th {\n",
       "        vertical-align: top;\n",
       "    }\n",
       "\n",
       "    .dataframe thead th {\n",
       "        text-align: right;\n",
       "    }\n",
       "</style>\n",
       "<table border=\"1\" class=\"dataframe\">\n",
       "  <thead>\n",
       "    <tr style=\"text-align: right;\">\n",
       "      <th></th>\n",
       "      <th>Feature</th>\n",
       "      <th>Symbol</th>\n",
       "      <th>ensemblID</th>\n",
       "      <th>logFC</th>\n",
       "      <th>adj.P.Val</th>\n",
       "      <th>Type</th>\n",
       "      <th>Comparison</th>\n",
       "    </tr>\n",
       "  </thead>\n",
       "  <tbody>\n",
       "    <tr>\n",
       "      <th>ENST00000418290.1</th>\n",
       "      <td>ENST00000418290.1</td>\n",
       "      <td>CDY4P</td>\n",
       "      <td>ENSG00000228411</td>\n",
       "      <td>-5.77571</td>\n",
       "      <td>6.693728e-291</td>\n",
       "      <td>Transcript</td>\n",
       "      <td>CvD</td>\n",
       "    </tr>\n",
       "    <tr>\n",
       "      <th>ENST00000400275.2</th>\n",
       "      <td>ENST00000400275.2</td>\n",
       "      <td>PSMA6P1</td>\n",
       "      <td>ENSG00000215414</td>\n",
       "      <td>-5.64374</td>\n",
       "      <td>1.051031e-288</td>\n",
       "      <td>Transcript</td>\n",
       "      <td>CvD</td>\n",
       "    </tr>\n",
       "  </tbody>\n",
       "</table>\n",
       "</div>"
      ],
      "text/plain": [
       "                             Feature   Symbol        ensemblID    logFC  \\\n",
       "ENST00000418290.1  ENST00000418290.1    CDY4P  ENSG00000228411 -5.77571   \n",
       "ENST00000400275.2  ENST00000400275.2  PSMA6P1  ENSG00000215414 -5.64374   \n",
       "\n",
       "                       adj.P.Val        Type Comparison  \n",
       "ENST00000418290.1  6.693728e-291  Transcript        CvD  \n",
       "ENST00000400275.2  1.051031e-288  Transcript        CvD  "
      ]
     },
     "execution_count": 9,
     "metadata": {},
     "output_type": "execute_result"
    }
   ],
   "source": [
    "feature = 'transcripts'\n",
    "trans_cvd, trans_cvh, trans_dvh = extract_deg(feature)\n",
    "trans = pd.concat([trans_cvd, trans_cvh, trans_dvh])\n",
    "trans.head(2)"
   ]
  },
  {
   "cell_type": "markdown",
   "metadata": {},
   "source": [
    "### Exons"
   ]
  },
  {
   "cell_type": "code",
   "execution_count": 12,
   "metadata": {},
   "outputs": [
    {
     "data": {
      "text/html": [
       "<div>\n",
       "<style scoped>\n",
       "    .dataframe tbody tr th:only-of-type {\n",
       "        vertical-align: middle;\n",
       "    }\n",
       "\n",
       "    .dataframe tbody tr th {\n",
       "        vertical-align: top;\n",
       "    }\n",
       "\n",
       "    .dataframe thead th {\n",
       "        text-align: right;\n",
       "    }\n",
       "</style>\n",
       "<table border=\"1\" class=\"dataframe\">\n",
       "  <thead>\n",
       "    <tr style=\"text-align: right;\">\n",
       "      <th></th>\n",
       "      <th>Feature</th>\n",
       "      <th>Symbol</th>\n",
       "      <th>ensemblID</th>\n",
       "      <th>logFC</th>\n",
       "      <th>adj.P.Val</th>\n",
       "      <th>Type</th>\n",
       "      <th>Comparison</th>\n",
       "    </tr>\n",
       "  </thead>\n",
       "  <tbody>\n",
       "    <tr>\n",
       "      <th>e1181198</th>\n",
       "      <td>e1181198</td>\n",
       "      <td>TTTY13</td>\n",
       "      <td>ENSG00000184991</td>\n",
       "      <td>-4.158493</td>\n",
       "      <td>2.766886e-127</td>\n",
       "      <td>Exon</td>\n",
       "      <td>CvD</td>\n",
       "    </tr>\n",
       "    <tr>\n",
       "      <th>e1179056</th>\n",
       "      <td>e1179056</td>\n",
       "      <td>TBL1Y</td>\n",
       "      <td>ENSG00000092377</td>\n",
       "      <td>-4.247636</td>\n",
       "      <td>1.583091e-117</td>\n",
       "      <td>Exon</td>\n",
       "      <td>CvD</td>\n",
       "    </tr>\n",
       "  </tbody>\n",
       "</table>\n",
       "</div>"
      ],
      "text/plain": [
       "           Feature  Symbol        ensemblID     logFC      adj.P.Val  Type  \\\n",
       "e1181198  e1181198  TTTY13  ENSG00000184991 -4.158493  2.766886e-127  Exon   \n",
       "e1179056  e1179056   TBL1Y  ENSG00000092377 -4.247636  1.583091e-117  Exon   \n",
       "\n",
       "         Comparison  \n",
       "e1181198        CvD  \n",
       "e1179056        CvD  "
      ]
     },
     "execution_count": 12,
     "metadata": {},
     "output_type": "execute_result"
    }
   ],
   "source": [
    "feature = 'exons'\n",
    "exons_cvd, exons_cvh, exons_dvh = extract_deg(feature)\n",
    "exons = pd.concat([exons_cvd, exons_cvh, exons_dvh])\n",
    "exons.head(2)"
   ]
  },
  {
   "cell_type": "markdown",
   "metadata": {},
   "source": [
    "### Junctions"
   ]
  },
  {
   "cell_type": "code",
   "execution_count": 13,
   "metadata": {},
   "outputs": [
    {
     "data": {
      "text/html": [
       "<div>\n",
       "<style scoped>\n",
       "    .dataframe tbody tr th:only-of-type {\n",
       "        vertical-align: middle;\n",
       "    }\n",
       "\n",
       "    .dataframe tbody tr th {\n",
       "        vertical-align: top;\n",
       "    }\n",
       "\n",
       "    .dataframe thead th {\n",
       "        text-align: right;\n",
       "    }\n",
       "</style>\n",
       "<table border=\"1\" class=\"dataframe\">\n",
       "  <thead>\n",
       "    <tr style=\"text-align: right;\">\n",
       "      <th></th>\n",
       "      <th>Feature</th>\n",
       "      <th>Symbol</th>\n",
       "      <th>ensemblID</th>\n",
       "      <th>logFC</th>\n",
       "      <th>adj.P.Val</th>\n",
       "      <th>Type</th>\n",
       "      <th>Comparison</th>\n",
       "    </tr>\n",
       "  </thead>\n",
       "  <tbody>\n",
       "    <tr>\n",
       "      <th>chrY:5002759-5031905(+)</th>\n",
       "      <td>chrY:5002759-5031905(+)</td>\n",
       "      <td>PCDH11Y</td>\n",
       "      <td>ENSG00000099715</td>\n",
       "      <td>2.978971</td>\n",
       "      <td>1.725570e-32</td>\n",
       "      <td>Junction</td>\n",
       "      <td>CvD</td>\n",
       "    </tr>\n",
       "    <tr>\n",
       "      <th>chrY:5100708-5104343(+)</th>\n",
       "      <td>chrY:5100708-5104343(+)</td>\n",
       "      <td>PCDH11Y</td>\n",
       "      <td>ENSG00000099715</td>\n",
       "      <td>3.068750</td>\n",
       "      <td>2.870987e-30</td>\n",
       "      <td>Junction</td>\n",
       "      <td>CvD</td>\n",
       "    </tr>\n",
       "  </tbody>\n",
       "</table>\n",
       "</div>"
      ],
      "text/plain": [
       "                                         Feature   Symbol        ensemblID  \\\n",
       "chrY:5002759-5031905(+)  chrY:5002759-5031905(+)  PCDH11Y  ENSG00000099715   \n",
       "chrY:5100708-5104343(+)  chrY:5100708-5104343(+)  PCDH11Y  ENSG00000099715   \n",
       "\n",
       "                            logFC     adj.P.Val      Type Comparison  \n",
       "chrY:5002759-5031905(+)  2.978971  1.725570e-32  Junction        CvD  \n",
       "chrY:5100708-5104343(+)  3.068750  2.870987e-30  Junction        CvD  "
      ]
     },
     "execution_count": 13,
     "metadata": {},
     "output_type": "execute_result"
    }
   ],
   "source": [
    "feature = 'junctions'\n",
    "juncs_cvd, juncs_cvh, juncs_dvh = extract_deg(feature)\n",
    "juncs = pd.concat([juncs_cvd, juncs_cvh, juncs_dvh])\n",
    "juncs.head(2)"
   ]
  },
  {
   "cell_type": "markdown",
   "metadata": {},
   "source": [
    "### Merge data frame"
   ]
  },
  {
   "cell_type": "code",
   "execution_count": 14,
   "metadata": {},
   "outputs": [
    {
     "data": {
      "text/plain": [
       "(4507, 7)"
      ]
     },
     "execution_count": 14,
     "metadata": {},
     "output_type": "execute_result"
    }
   ],
   "source": [
    "df = pd.concat([genes, trans, exons, juncs], axis=0)\n",
    "df.to_csv('differential_expression_region_interaction_sex_4features.txt', sep='\\t', index=False)\n",
    "df.shape"
   ]
  },
  {
   "cell_type": "markdown",
   "metadata": {},
   "source": [
    "## DE summary"
   ]
  },
  {
   "cell_type": "markdown",
   "metadata": {},
   "source": [
    "### Caudate and DLPFC"
   ]
  },
  {
   "cell_type": "markdown",
   "metadata": {},
   "source": [
    "#### DE (feature)"
   ]
  },
  {
   "cell_type": "code",
   "execution_count": 15,
   "metadata": {},
   "outputs": [
    {
     "name": "stdout",
     "output_type": "stream",
     "text": [
      "\n",
      "Gene:\t\t668\n",
      "Transcript:\t642\n",
      "Exon:\t\t2254\n",
      "Junction:\t324\n"
     ]
    }
   ],
   "source": [
    "gg = len(set(genes_cvd['Feature']))\n",
    "tt = len(set(trans_cvd['Feature']))\n",
    "ee = len(set(exons_cvd['Feature']))\n",
    "jj = len(set(juncs_cvd['Feature']))\n",
    "\n",
    "print(\"\\nGene:\\t\\t%d\\nTranscript:\\t%d\\nExon:\\t\\t%d\\nJunction:\\t%d\" % (gg, tt, ee, jj)) "
   ]
  },
  {
   "cell_type": "markdown",
   "metadata": {},
   "source": [
    "#### DE (EnsemblID)"
   ]
  },
  {
   "cell_type": "code",
   "execution_count": 16,
   "metadata": {},
   "outputs": [
    {
     "name": "stdout",
     "output_type": "stream",
     "text": [
      "\n",
      "Gene:\t\t668\n",
      "Transcript:\t569\n",
      "Exon:\t\t649\n",
      "Junction:\t147\n"
     ]
    }
   ],
   "source": [
    "gg = len(set(genes_cvd['ensemblID']))\n",
    "tt = len(set(trans_cvd['ensemblID']))\n",
    "ee = len(set(exons_cvd['ensemblID']))\n",
    "jj = len(set(juncs_cvd['ensemblID']))\n",
    "\n",
    "print(\"\\nGene:\\t\\t%d\\nTranscript:\\t%d\\nExon:\\t\\t%d\\nJunction:\\t%d\" % (gg, tt, ee, jj)) "
   ]
  },
  {
   "cell_type": "markdown",
   "metadata": {},
   "source": [
    "#### DE (Gene Symbol)"
   ]
  },
  {
   "cell_type": "code",
   "execution_count": 17,
   "metadata": {},
   "outputs": [
    {
     "name": "stdout",
     "output_type": "stream",
     "text": [
      "\n",
      "Gene:\t\t564\n",
      "Transcript:\t569\n",
      "Exon:\t\t597\n",
      "Junction:\t147\n"
     ]
    }
   ],
   "source": [
    "gg = len(set(genes_cvd['Symbol']))\n",
    "tt = len(set(trans_cvd['Symbol']))\n",
    "ee = len(set(exons_cvd['Symbol']))\n",
    "jj = len(set(juncs_cvd['Symbol']))\n",
    "\n",
    "print(\"\\nGene:\\t\\t%d\\nTranscript:\\t%d\\nExon:\\t\\t%d\\nJunction:\\t%d\" % (gg, tt, ee, jj)) "
   ]
  },
  {
   "cell_type": "markdown",
   "metadata": {},
   "source": [
    "### Caudate and Hippocampus"
   ]
  },
  {
   "cell_type": "markdown",
   "metadata": {},
   "source": [
    "#### DE (feature)"
   ]
  },
  {
   "cell_type": "code",
   "execution_count": 18,
   "metadata": {},
   "outputs": [
    {
     "name": "stdout",
     "output_type": "stream",
     "text": [
      "\n",
      "Gene:\t\t23\n",
      "Transcript:\t177\n",
      "Exon:\t\t129\n",
      "Junction:\t47\n"
     ]
    }
   ],
   "source": [
    "gg = len(set(genes_cvh['Feature']))\n",
    "tt = len(set(trans_cvh['Feature']))\n",
    "ee = len(set(exons_cvh['Feature']))\n",
    "jj = len(set(juncs_cvh['Feature']))\n",
    "\n",
    "print(\"\\nGene:\\t\\t%d\\nTranscript:\\t%d\\nExon:\\t\\t%d\\nJunction:\\t%d\" % (gg, tt, ee, jj)) "
   ]
  },
  {
   "cell_type": "markdown",
   "metadata": {},
   "source": [
    "#### DE (EnsemblID)"
   ]
  },
  {
   "cell_type": "code",
   "execution_count": 19,
   "metadata": {},
   "outputs": [
    {
     "name": "stdout",
     "output_type": "stream",
     "text": [
      "\n",
      "Gene:\t\t23\n",
      "Transcript:\t129\n",
      "Exon:\t\t38\n",
      "Junction:\t17\n"
     ]
    }
   ],
   "source": [
    "gg = len(set(genes_cvh['ensemblID']))\n",
    "tt = len(set(trans_cvh['ensemblID']))\n",
    "ee = len(set(exons_cvh['ensemblID']))\n",
    "jj = len(set(juncs_cvh['ensemblID']))\n",
    "\n",
    "print(\"\\nGene:\\t\\t%d\\nTranscript:\\t%d\\nExon:\\t\\t%d\\nJunction:\\t%d\" % (gg, tt, ee, jj)) "
   ]
  },
  {
   "cell_type": "markdown",
   "metadata": {},
   "source": [
    "#### DE (Gene Symbol)"
   ]
  },
  {
   "cell_type": "code",
   "execution_count": 20,
   "metadata": {},
   "outputs": [
    {
     "name": "stdout",
     "output_type": "stream",
     "text": [
      "\n",
      "Gene:\t\t19\n",
      "Transcript:\t129\n",
      "Exon:\t\t36\n",
      "Junction:\t17\n"
     ]
    }
   ],
   "source": [
    "gg = len(set(genes_cvh['Symbol']))\n",
    "tt = len(set(trans_cvh['Symbol']))\n",
    "ee = len(set(exons_cvh['Symbol']))\n",
    "jj = len(set(juncs_cvh['Symbol']))\n",
    "\n",
    "print(\"\\nGene:\\t\\t%d\\nTranscript:\\t%d\\nExon:\\t\\t%d\\nJunction:\\t%d\" % (gg, tt, ee, jj)) "
   ]
  },
  {
   "cell_type": "markdown",
   "metadata": {},
   "source": [
    "### DLPFC and Hippocampus"
   ]
  },
  {
   "cell_type": "markdown",
   "metadata": {},
   "source": [
    "#### DE (feature)"
   ]
  },
  {
   "cell_type": "code",
   "execution_count": 21,
   "metadata": {},
   "outputs": [
    {
     "name": "stdout",
     "output_type": "stream",
     "text": [
      "\n",
      "Gene:\t\t26\n",
      "Transcript:\t28\n",
      "Exon:\t\t131\n",
      "Junction:\t58\n"
     ]
    }
   ],
   "source": [
    "gg = len(set(genes_dvh['Feature']))\n",
    "tt = len(set(trans_dvh['Feature']))\n",
    "ee = len(set(exons_dvh['Feature']))\n",
    "jj = len(set(juncs_dvh['Feature']))\n",
    "\n",
    "print(\"\\nGene:\\t\\t%d\\nTranscript:\\t%d\\nExon:\\t\\t%d\\nJunction:\\t%d\" % (gg, tt, ee, jj)) "
   ]
  },
  {
   "cell_type": "markdown",
   "metadata": {},
   "source": [
    "#### DE (EnsemblID)"
   ]
  },
  {
   "cell_type": "code",
   "execution_count": 22,
   "metadata": {},
   "outputs": [
    {
     "name": "stdout",
     "output_type": "stream",
     "text": [
      "\n",
      "Gene:\t\t26\n",
      "Transcript:\t19\n",
      "Exon:\t\t24\n",
      "Junction:\t16\n"
     ]
    }
   ],
   "source": [
    "gg = len(set(genes_dvh['ensemblID']))\n",
    "tt = len(set(trans_dvh['ensemblID']))\n",
    "ee = len(set(exons_dvh['ensemblID']))\n",
    "jj = len(set(juncs_dvh['ensemblID']))\n",
    "\n",
    "print(\"\\nGene:\\t\\t%d\\nTranscript:\\t%d\\nExon:\\t\\t%d\\nJunction:\\t%d\" % (gg, tt, ee, jj)) "
   ]
  },
  {
   "cell_type": "markdown",
   "metadata": {},
   "source": [
    "#### DE (Gene Symbol)"
   ]
  },
  {
   "cell_type": "code",
   "execution_count": 23,
   "metadata": {},
   "outputs": [
    {
     "name": "stdout",
     "output_type": "stream",
     "text": [
      "\n",
      "Gene:\t\t23\n",
      "Transcript:\t19\n",
      "Exon:\t\t23\n",
      "Junction:\t16\n"
     ]
    }
   ],
   "source": [
    "gg = len(set(genes_dvh['Symbol']))\n",
    "tt = len(set(trans_dvh['Symbol']))\n",
    "ee = len(set(exons_dvh['Symbol']))\n",
    "jj = len(set(juncs_dvh['Symbol']))\n",
    "\n",
    "print(\"\\nGene:\\t\\t%d\\nTranscript:\\t%d\\nExon:\\t\\t%d\\nJunction:\\t%d\" % (gg, tt, ee, jj)) "
   ]
  },
  {
   "cell_type": "code",
   "execution_count": null,
   "metadata": {},
   "outputs": [],
   "source": []
  }
 ],
 "metadata": {
  "kernelspec": {
   "display_name": "Python 3",
   "language": "python",
   "name": "python3"
  },
  "language_info": {
   "codemirror_mode": {
    "name": "ipython",
    "version": 3
   },
   "file_extension": ".py",
   "mimetype": "text/x-python",
   "name": "python",
   "nbconvert_exporter": "python",
   "pygments_lexer": "ipython3",
   "version": "3.9.1"
  }
 },
 "nbformat": 4,
 "nbformat_minor": 4
}
