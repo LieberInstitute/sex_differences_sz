{
 "cells": [
  {
   "cell_type": "markdown",
   "metadata": {},
   "source": [
    "# Feature summary analysis of gender only differential expression"
   ]
  },
  {
   "cell_type": "code",
   "execution_count": 1,
   "metadata": {},
   "outputs": [],
   "source": [
    "import numpy as np\n",
    "import pandas as pd"
   ]
  },
  {
   "cell_type": "markdown",
   "metadata": {},
   "source": [
    "## Summary plots"
   ]
  },
  {
   "cell_type": "code",
   "execution_count": 2,
   "metadata": {},
   "outputs": [],
   "source": [
    "def subset_deg(fn, feature):\n",
    "    feature_dict = {\n",
    "        'genes': 'Gene', \n",
    "        'transcripts': 'Transcript', \n",
    "        'exons': 'Exon', \n",
    "        'junctions': 'Junction'}\n",
    "    df = pd.read_csv(fn, sep='\\t')\n",
    "    if feature == 'transcripts':\n",
    "        df['Feature'] = df.transcript_id\n",
    "        df['ensemblID'] = df.gene_id.str.replace('\\\\.\\d+', '')\n",
    "        df.rename(columns={'gene_name': 'Symbol'}, inplace=True)\n",
    "    elif feature == 'genes':\n",
    "        df['Feature'] = df.gencodeID\n",
    "    else:\n",
    "        df['Feature'] = df['Unnamed: 0']\n",
    "    df = df[['Feature', 'Symbol', 'ensemblID', 'logFC', 'adj.P.Val']].copy()\n",
    "    df['Type'] = feature_dict[feature]\n",
    "    return df\n",
    "\n",
    "\n",
    "def extract_deg(feature):\n",
    "    config = {\n",
    "        'CvD': '../../_m/%s/diffExpr_CvD_sex_FDR05.txt' % feature, \n",
    "        'CvH': '../../_m/%s/diffExpr_CvH_sex_FDR05.txt' % feature,\n",
    "        'DvH': '../../_m/%s/diffExpr_DvH_sex_FDR05.txt' % feature,\n",
    "    }\n",
    "    cvd = subset_deg(config['CvD'], feature)\n",
    "    cvd['Comparison'] = 'CvD'\n",
    "    cvh = subset_deg(config['CvH'], feature)\n",
    "    cvh['Comparison'] = 'CvH'\n",
    "    dvh = subset_deg(config['DvH'], feature)\n",
    "    dvh['Comparison'] = 'DvH'\n",
    "    return cvd, cvh, dvh"
   ]
  },
  {
   "cell_type": "markdown",
   "metadata": {},
   "source": [
    "### Genes"
   ]
  },
  {
   "cell_type": "code",
   "execution_count": 3,
   "metadata": {},
   "outputs": [
    {
     "data": {
      "text/html": [
       "<div>\n",
       "<style scoped>\n",
       "    .dataframe tbody tr th:only-of-type {\n",
       "        vertical-align: middle;\n",
       "    }\n",
       "\n",
       "    .dataframe tbody tr th {\n",
       "        vertical-align: top;\n",
       "    }\n",
       "\n",
       "    .dataframe thead th {\n",
       "        text-align: right;\n",
       "    }\n",
       "</style>\n",
       "<table border=\"1\" class=\"dataframe\">\n",
       "  <thead>\n",
       "    <tr style=\"text-align: right;\">\n",
       "      <th></th>\n",
       "      <th>Feature</th>\n",
       "      <th>Symbol</th>\n",
       "      <th>ensemblID</th>\n",
       "      <th>logFC</th>\n",
       "      <th>adj.P.Val</th>\n",
       "      <th>Type</th>\n",
       "      <th>Comparison</th>\n",
       "    </tr>\n",
       "  </thead>\n",
       "  <tbody>\n",
       "    <tr>\n",
       "      <th>0</th>\n",
       "      <td>ENSG00000184991.2</td>\n",
       "      <td>TTTY13</td>\n",
       "      <td>ENSG00000184991</td>\n",
       "      <td>-4.413303</td>\n",
       "      <td>7.363062e-135</td>\n",
       "      <td>Gene</td>\n",
       "      <td>CvD</td>\n",
       "    </tr>\n",
       "    <tr>\n",
       "      <th>1</th>\n",
       "      <td>ENSG00000092377.13</td>\n",
       "      <td>TBL1Y</td>\n",
       "      <td>ENSG00000092377</td>\n",
       "      <td>-3.622407</td>\n",
       "      <td>3.477221e-75</td>\n",
       "      <td>Gene</td>\n",
       "      <td>CvD</td>\n",
       "    </tr>\n",
       "  </tbody>\n",
       "</table>\n",
       "</div>"
      ],
      "text/plain": [
       "              Feature  Symbol        ensemblID     logFC      adj.P.Val  Type  \\\n",
       "0   ENSG00000184991.2  TTTY13  ENSG00000184991 -4.413303  7.363062e-135  Gene   \n",
       "1  ENSG00000092377.13   TBL1Y  ENSG00000092377 -3.622407   3.477221e-75  Gene   \n",
       "\n",
       "  Comparison  \n",
       "0        CvD  \n",
       "1        CvD  "
      ]
     },
     "execution_count": 3,
     "metadata": {},
     "output_type": "execute_result"
    }
   ],
   "source": [
    "feature = 'genes'\n",
    "genes_cvd, genes_cvh, genes_dvh = extract_deg(feature)\n",
    "genes = pd.concat([genes_cvd, genes_cvh, genes_dvh])\n",
    "genes.head(2)"
   ]
  },
  {
   "cell_type": "code",
   "execution_count": 19,
   "metadata": {},
   "outputs": [
    {
     "name": "stdout",
     "output_type": "stream",
     "text": [
      "There are 17 genes that interact for caudate between DLPFC and Hippocampus!\n"
     ]
    },
    {
     "data": {
      "text/html": [
       "<div>\n",
       "<style scoped>\n",
       "    .dataframe tbody tr th:only-of-type {\n",
       "        vertical-align: middle;\n",
       "    }\n",
       "\n",
       "    .dataframe tbody tr th {\n",
       "        vertical-align: top;\n",
       "    }\n",
       "\n",
       "    .dataframe thead th {\n",
       "        text-align: right;\n",
       "    }\n",
       "</style>\n",
       "<table border=\"1\" class=\"dataframe\">\n",
       "  <thead>\n",
       "    <tr style=\"text-align: right;\">\n",
       "      <th></th>\n",
       "      <th>Symbol</th>\n",
       "      <th>ensemblID</th>\n",
       "      <th>logFC</th>\n",
       "      <th>adj.P.Val</th>\n",
       "      <th>Type</th>\n",
       "      <th>Comparison</th>\n",
       "    </tr>\n",
       "    <tr>\n",
       "      <th>Feature</th>\n",
       "      <th></th>\n",
       "      <th></th>\n",
       "      <th></th>\n",
       "      <th></th>\n",
       "      <th></th>\n",
       "      <th></th>\n",
       "    </tr>\n",
       "  </thead>\n",
       "  <tbody>\n",
       "    <tr>\n",
       "      <th>ENSG00000277438.1</th>\n",
       "      <td>NaN</td>\n",
       "      <td>ENSG00000277438</td>\n",
       "      <td>0.904521</td>\n",
       "      <td>4.667421e-07</td>\n",
       "      <td>Gene</td>\n",
       "      <td>CvD</td>\n",
       "    </tr>\n",
       "    <tr>\n",
       "      <th>ENSG00000006757.11</th>\n",
       "      <td>PNPLA4</td>\n",
       "      <td>ENSG00000006757</td>\n",
       "      <td>0.332948</td>\n",
       "      <td>5.803679e-16</td>\n",
       "      <td>Gene</td>\n",
       "      <td>CvD</td>\n",
       "    </tr>\n",
       "    <tr>\n",
       "      <th>ENSG00000273906.1</th>\n",
       "      <td>NaN</td>\n",
       "      <td>ENSG00000273906</td>\n",
       "      <td>-3.570382</td>\n",
       "      <td>8.796435e-66</td>\n",
       "      <td>Gene</td>\n",
       "      <td>CvD</td>\n",
       "    </tr>\n",
       "    <tr>\n",
       "      <th>ENSG00000185275.6</th>\n",
       "      <td>CD24P4</td>\n",
       "      <td>ENSG00000185275</td>\n",
       "      <td>1.311070</td>\n",
       "      <td>3.355042e-07</td>\n",
       "      <td>Gene</td>\n",
       "      <td>CvD</td>\n",
       "    </tr>\n",
       "    <tr>\n",
       "      <th>ENSG00000252766.1</th>\n",
       "      <td>RNU6-255P</td>\n",
       "      <td>ENSG00000252766</td>\n",
       "      <td>1.355991</td>\n",
       "      <td>1.070528e-13</td>\n",
       "      <td>Gene</td>\n",
       "      <td>CvD</td>\n",
       "    </tr>\n",
       "    <tr>\n",
       "      <th>ENSG00000228223.2</th>\n",
       "      <td>HCG11</td>\n",
       "      <td>ENSG00000228223</td>\n",
       "      <td>0.134635</td>\n",
       "      <td>4.923225e-02</td>\n",
       "      <td>Gene</td>\n",
       "      <td>CvD</td>\n",
       "    </tr>\n",
       "    <tr>\n",
       "      <th>ENSG00000173809.16</th>\n",
       "      <td>TDRD12</td>\n",
       "      <td>ENSG00000173809</td>\n",
       "      <td>-0.435453</td>\n",
       "      <td>5.884162e-03</td>\n",
       "      <td>Gene</td>\n",
       "      <td>CvD</td>\n",
       "    </tr>\n",
       "    <tr>\n",
       "      <th>ENSG00000099715.14</th>\n",
       "      <td>PCDH11Y</td>\n",
       "      <td>ENSG00000099715</td>\n",
       "      <td>2.472148</td>\n",
       "      <td>5.569986e-31</td>\n",
       "      <td>Gene</td>\n",
       "      <td>CvD</td>\n",
       "    </tr>\n",
       "    <tr>\n",
       "      <th>ENSG00000197181.11</th>\n",
       "      <td>PIWIL2</td>\n",
       "      <td>ENSG00000197181</td>\n",
       "      <td>-0.360354</td>\n",
       "      <td>2.658008e-02</td>\n",
       "      <td>Gene</td>\n",
       "      <td>CvD</td>\n",
       "    </tr>\n",
       "    <tr>\n",
       "      <th>ENSG00000146674.14</th>\n",
       "      <td>IGFBP3</td>\n",
       "      <td>ENSG00000146674</td>\n",
       "      <td>0.927830</td>\n",
       "      <td>7.779732e-12</td>\n",
       "      <td>Gene</td>\n",
       "      <td>CvD</td>\n",
       "    </tr>\n",
       "    <tr>\n",
       "      <th>ENSG00000092377.13</th>\n",
       "      <td>TBL1Y</td>\n",
       "      <td>ENSG00000092377</td>\n",
       "      <td>-3.622407</td>\n",
       "      <td>3.477221e-75</td>\n",
       "      <td>Gene</td>\n",
       "      <td>CvD</td>\n",
       "    </tr>\n",
       "    <tr>\n",
       "      <th>ENSG00000232348.2</th>\n",
       "      <td>LINC00279</td>\n",
       "      <td>ENSG00000232348</td>\n",
       "      <td>-1.333550</td>\n",
       "      <td>8.366780e-13</td>\n",
       "      <td>Gene</td>\n",
       "      <td>CvD</td>\n",
       "    </tr>\n",
       "    <tr>\n",
       "      <th>ENSG00000184991.2</th>\n",
       "      <td>TTTY13</td>\n",
       "      <td>ENSG00000184991</td>\n",
       "      <td>-4.413303</td>\n",
       "      <td>7.363062e-135</td>\n",
       "      <td>Gene</td>\n",
       "      <td>CvD</td>\n",
       "    </tr>\n",
       "    <tr>\n",
       "      <th>ENSG00000238241.1</th>\n",
       "      <td>CCR12P</td>\n",
       "      <td>ENSG00000238241</td>\n",
       "      <td>-0.585060</td>\n",
       "      <td>1.185374e-02</td>\n",
       "      <td>Gene</td>\n",
       "      <td>CvD</td>\n",
       "    </tr>\n",
       "    <tr>\n",
       "      <th>ENSG00000231436.1</th>\n",
       "      <td>RBMY3AP</td>\n",
       "      <td>ENSG00000231436</td>\n",
       "      <td>-3.667481</td>\n",
       "      <td>9.102850e-51</td>\n",
       "      <td>Gene</td>\n",
       "      <td>CvD</td>\n",
       "    </tr>\n",
       "    <tr>\n",
       "      <th>ENSG00000066629.16</th>\n",
       "      <td>EML1</td>\n",
       "      <td>ENSG00000066629</td>\n",
       "      <td>-0.223693</td>\n",
       "      <td>1.955926e-04</td>\n",
       "      <td>Gene</td>\n",
       "      <td>CvD</td>\n",
       "    </tr>\n",
       "    <tr>\n",
       "      <th>ENSG00000121743.3</th>\n",
       "      <td>GJA3</td>\n",
       "      <td>ENSG00000121743</td>\n",
       "      <td>-0.505444</td>\n",
       "      <td>4.918964e-02</td>\n",
       "      <td>Gene</td>\n",
       "      <td>CvD</td>\n",
       "    </tr>\n",
       "  </tbody>\n",
       "</table>\n",
       "</div>"
      ],
      "text/plain": [
       "                       Symbol        ensemblID     logFC      adj.P.Val  Type  \\\n",
       "Feature                                                                         \n",
       "ENSG00000277438.1         NaN  ENSG00000277438  0.904521   4.667421e-07  Gene   \n",
       "ENSG00000006757.11     PNPLA4  ENSG00000006757  0.332948   5.803679e-16  Gene   \n",
       "ENSG00000273906.1         NaN  ENSG00000273906 -3.570382   8.796435e-66  Gene   \n",
       "ENSG00000185275.6      CD24P4  ENSG00000185275  1.311070   3.355042e-07  Gene   \n",
       "ENSG00000252766.1   RNU6-255P  ENSG00000252766  1.355991   1.070528e-13  Gene   \n",
       "ENSG00000228223.2       HCG11  ENSG00000228223  0.134635   4.923225e-02  Gene   \n",
       "ENSG00000173809.16     TDRD12  ENSG00000173809 -0.435453   5.884162e-03  Gene   \n",
       "ENSG00000099715.14    PCDH11Y  ENSG00000099715  2.472148   5.569986e-31  Gene   \n",
       "ENSG00000197181.11     PIWIL2  ENSG00000197181 -0.360354   2.658008e-02  Gene   \n",
       "ENSG00000146674.14     IGFBP3  ENSG00000146674  0.927830   7.779732e-12  Gene   \n",
       "ENSG00000092377.13      TBL1Y  ENSG00000092377 -3.622407   3.477221e-75  Gene   \n",
       "ENSG00000232348.2   LINC00279  ENSG00000232348 -1.333550   8.366780e-13  Gene   \n",
       "ENSG00000184991.2      TTTY13  ENSG00000184991 -4.413303  7.363062e-135  Gene   \n",
       "ENSG00000238241.1      CCR12P  ENSG00000238241 -0.585060   1.185374e-02  Gene   \n",
       "ENSG00000231436.1     RBMY3AP  ENSG00000231436 -3.667481   9.102850e-51  Gene   \n",
       "ENSG00000066629.16       EML1  ENSG00000066629 -0.223693   1.955926e-04  Gene   \n",
       "ENSG00000121743.3        GJA3  ENSG00000121743 -0.505444   4.918964e-02  Gene   \n",
       "\n",
       "                   Comparison  \n",
       "Feature                        \n",
       "ENSG00000277438.1         CvD  \n",
       "ENSG00000006757.11        CvD  \n",
       "ENSG00000273906.1         CvD  \n",
       "ENSG00000185275.6         CvD  \n",
       "ENSG00000252766.1         CvD  \n",
       "ENSG00000228223.2         CvD  \n",
       "ENSG00000173809.16        CvD  \n",
       "ENSG00000099715.14        CvD  \n",
       "ENSG00000197181.11        CvD  \n",
       "ENSG00000146674.14        CvD  \n",
       "ENSG00000092377.13        CvD  \n",
       "ENSG00000232348.2         CvD  \n",
       "ENSG00000184991.2         CvD  \n",
       "ENSG00000238241.1         CvD  \n",
       "ENSG00000231436.1         CvD  \n",
       "ENSG00000066629.16        CvD  \n",
       "ENSG00000121743.3         CvD  "
      ]
     },
     "execution_count": 19,
     "metadata": {},
     "output_type": "execute_result"
    }
   ],
   "source": [
    "shared = set(genes_cvd.Feature) & set(genes_cvh.Feature)\n",
    "print(\"There are %d genes that interact for caudate between DLPFC and Hippocampus!\" % len(shared))\n",
    "genes_cvd.set_index('Feature').loc[np.array(list(shared)), :]"
   ]
  },
  {
   "cell_type": "code",
   "execution_count": 20,
   "metadata": {},
   "outputs": [
    {
     "name": "stdout",
     "output_type": "stream",
     "text": [
      "There are 19 genes that interact for DLPFC between caudate and Hippocampus!\n"
     ]
    },
    {
     "data": {
      "text/html": [
       "<div>\n",
       "<style scoped>\n",
       "    .dataframe tbody tr th:only-of-type {\n",
       "        vertical-align: middle;\n",
       "    }\n",
       "\n",
       "    .dataframe tbody tr th {\n",
       "        vertical-align: top;\n",
       "    }\n",
       "\n",
       "    .dataframe thead th {\n",
       "        text-align: right;\n",
       "    }\n",
       "</style>\n",
       "<table border=\"1\" class=\"dataframe\">\n",
       "  <thead>\n",
       "    <tr style=\"text-align: right;\">\n",
       "      <th></th>\n",
       "      <th>Symbol</th>\n",
       "      <th>ensemblID</th>\n",
       "      <th>logFC</th>\n",
       "      <th>adj.P.Val</th>\n",
       "      <th>Type</th>\n",
       "      <th>Comparison</th>\n",
       "    </tr>\n",
       "    <tr>\n",
       "      <th>Feature</th>\n",
       "      <th></th>\n",
       "      <th></th>\n",
       "      <th></th>\n",
       "      <th></th>\n",
       "      <th></th>\n",
       "      <th></th>\n",
       "    </tr>\n",
       "  </thead>\n",
       "  <tbody>\n",
       "    <tr>\n",
       "      <th>ENSG00000006757.11</th>\n",
       "      <td>PNPLA4</td>\n",
       "      <td>ENSG00000006757</td>\n",
       "      <td>0.332948</td>\n",
       "      <td>5.803679e-16</td>\n",
       "      <td>Gene</td>\n",
       "      <td>CvD</td>\n",
       "    </tr>\n",
       "    <tr>\n",
       "      <th>ENSG00000234449.2</th>\n",
       "      <td>NaN</td>\n",
       "      <td>ENSG00000234449</td>\n",
       "      <td>0.370420</td>\n",
       "      <td>5.161683e-03</td>\n",
       "      <td>Gene</td>\n",
       "      <td>CvD</td>\n",
       "    </tr>\n",
       "    <tr>\n",
       "      <th>ENSG00000099725.14</th>\n",
       "      <td>PRKY</td>\n",
       "      <td>ENSG00000099725</td>\n",
       "      <td>0.919332</td>\n",
       "      <td>1.123099e-04</td>\n",
       "      <td>Gene</td>\n",
       "      <td>CvD</td>\n",
       "    </tr>\n",
       "    <tr>\n",
       "      <th>ENSG00000012817.15</th>\n",
       "      <td>KDM5D</td>\n",
       "      <td>ENSG00000012817</td>\n",
       "      <td>1.016437</td>\n",
       "      <td>4.800939e-06</td>\n",
       "      <td>Gene</td>\n",
       "      <td>CvD</td>\n",
       "    </tr>\n",
       "    <tr>\n",
       "      <th>ENSG00000131002.11</th>\n",
       "      <td>TXLNGY</td>\n",
       "      <td>ENSG00000131002</td>\n",
       "      <td>0.834063</td>\n",
       "      <td>4.644665e-03</td>\n",
       "      <td>Gene</td>\n",
       "      <td>CvD</td>\n",
       "    </tr>\n",
       "    <tr>\n",
       "      <th>ENSG00000239893.1</th>\n",
       "      <td>ZNF736P9Y</td>\n",
       "      <td>ENSG00000239893</td>\n",
       "      <td>-3.170469</td>\n",
       "      <td>8.255369e-34</td>\n",
       "      <td>Gene</td>\n",
       "      <td>CvD</td>\n",
       "    </tr>\n",
       "    <tr>\n",
       "      <th>ENSG00000227494.2</th>\n",
       "      <td>USP9YP14</td>\n",
       "      <td>ENSG00000227494</td>\n",
       "      <td>1.410983</td>\n",
       "      <td>3.137787e-12</td>\n",
       "      <td>Gene</td>\n",
       "      <td>CvD</td>\n",
       "    </tr>\n",
       "    <tr>\n",
       "      <th>ENSG00000260197.1</th>\n",
       "      <td>NaN</td>\n",
       "      <td>ENSG00000260197</td>\n",
       "      <td>0.602172</td>\n",
       "      <td>9.237491e-03</td>\n",
       "      <td>Gene</td>\n",
       "      <td>CvD</td>\n",
       "    </tr>\n",
       "    <tr>\n",
       "      <th>ENSG00000273906.1</th>\n",
       "      <td>NaN</td>\n",
       "      <td>ENSG00000273906</td>\n",
       "      <td>-3.570382</td>\n",
       "      <td>8.796435e-66</td>\n",
       "      <td>Gene</td>\n",
       "      <td>CvD</td>\n",
       "    </tr>\n",
       "    <tr>\n",
       "      <th>ENSG00000185275.6</th>\n",
       "      <td>CD24P4</td>\n",
       "      <td>ENSG00000185275</td>\n",
       "      <td>1.311070</td>\n",
       "      <td>3.355042e-07</td>\n",
       "      <td>Gene</td>\n",
       "      <td>CvD</td>\n",
       "    </tr>\n",
       "    <tr>\n",
       "      <th>ENSG00000183878.15</th>\n",
       "      <td>UTY</td>\n",
       "      <td>ENSG00000183878</td>\n",
       "      <td>1.151302</td>\n",
       "      <td>1.437766e-06</td>\n",
       "      <td>Gene</td>\n",
       "      <td>CvD</td>\n",
       "    </tr>\n",
       "    <tr>\n",
       "      <th>ENSG00000205664.10</th>\n",
       "      <td>NaN</td>\n",
       "      <td>ENSG00000205664</td>\n",
       "      <td>0.358230</td>\n",
       "      <td>3.572070e-08</td>\n",
       "      <td>Gene</td>\n",
       "      <td>CvD</td>\n",
       "    </tr>\n",
       "    <tr>\n",
       "      <th>ENSG00000092377.13</th>\n",
       "      <td>TBL1Y</td>\n",
       "      <td>ENSG00000092377</td>\n",
       "      <td>-3.622407</td>\n",
       "      <td>3.477221e-75</td>\n",
       "      <td>Gene</td>\n",
       "      <td>CvD</td>\n",
       "    </tr>\n",
       "    <tr>\n",
       "      <th>ENSG00000067048.16</th>\n",
       "      <td>DDX3Y</td>\n",
       "      <td>ENSG00000067048</td>\n",
       "      <td>0.963342</td>\n",
       "      <td>5.159445e-05</td>\n",
       "      <td>Gene</td>\n",
       "      <td>CvD</td>\n",
       "    </tr>\n",
       "    <tr>\n",
       "      <th>ENSG00000176728.7</th>\n",
       "      <td>TTTY14</td>\n",
       "      <td>ENSG00000176728</td>\n",
       "      <td>0.558607</td>\n",
       "      <td>4.737766e-02</td>\n",
       "      <td>Gene</td>\n",
       "      <td>CvD</td>\n",
       "    </tr>\n",
       "    <tr>\n",
       "      <th>ENSG00000229807.10</th>\n",
       "      <td>XIST</td>\n",
       "      <td>ENSG00000229807</td>\n",
       "      <td>-0.963999</td>\n",
       "      <td>9.704713e-05</td>\n",
       "      <td>Gene</td>\n",
       "      <td>CvD</td>\n",
       "    </tr>\n",
       "    <tr>\n",
       "      <th>ENSG00000233864.7</th>\n",
       "      <td>TTTY15</td>\n",
       "      <td>ENSG00000233864</td>\n",
       "      <td>0.915006</td>\n",
       "      <td>8.262719e-05</td>\n",
       "      <td>Gene</td>\n",
       "      <td>CvD</td>\n",
       "    </tr>\n",
       "    <tr>\n",
       "      <th>ENSG00000114374.12</th>\n",
       "      <td>USP9Y</td>\n",
       "      <td>ENSG00000114374</td>\n",
       "      <td>1.230649</td>\n",
       "      <td>1.086670e-09</td>\n",
       "      <td>Gene</td>\n",
       "      <td>CvD</td>\n",
       "    </tr>\n",
       "    <tr>\n",
       "      <th>ENSG00000129824.15</th>\n",
       "      <td>RPS4Y1</td>\n",
       "      <td>ENSG00000129824</td>\n",
       "      <td>0.806791</td>\n",
       "      <td>4.422841e-03</td>\n",
       "      <td>Gene</td>\n",
       "      <td>CvD</td>\n",
       "    </tr>\n",
       "  </tbody>\n",
       "</table>\n",
       "</div>"
      ],
      "text/plain": [
       "                       Symbol        ensemblID     logFC     adj.P.Val  Type  \\\n",
       "Feature                                                                        \n",
       "ENSG00000006757.11     PNPLA4  ENSG00000006757  0.332948  5.803679e-16  Gene   \n",
       "ENSG00000234449.2         NaN  ENSG00000234449  0.370420  5.161683e-03  Gene   \n",
       "ENSG00000099725.14       PRKY  ENSG00000099725  0.919332  1.123099e-04  Gene   \n",
       "ENSG00000012817.15      KDM5D  ENSG00000012817  1.016437  4.800939e-06  Gene   \n",
       "ENSG00000131002.11     TXLNGY  ENSG00000131002  0.834063  4.644665e-03  Gene   \n",
       "ENSG00000239893.1   ZNF736P9Y  ENSG00000239893 -3.170469  8.255369e-34  Gene   \n",
       "ENSG00000227494.2    USP9YP14  ENSG00000227494  1.410983  3.137787e-12  Gene   \n",
       "ENSG00000260197.1         NaN  ENSG00000260197  0.602172  9.237491e-03  Gene   \n",
       "ENSG00000273906.1         NaN  ENSG00000273906 -3.570382  8.796435e-66  Gene   \n",
       "ENSG00000185275.6      CD24P4  ENSG00000185275  1.311070  3.355042e-07  Gene   \n",
       "ENSG00000183878.15        UTY  ENSG00000183878  1.151302  1.437766e-06  Gene   \n",
       "ENSG00000205664.10        NaN  ENSG00000205664  0.358230  3.572070e-08  Gene   \n",
       "ENSG00000092377.13      TBL1Y  ENSG00000092377 -3.622407  3.477221e-75  Gene   \n",
       "ENSG00000067048.16      DDX3Y  ENSG00000067048  0.963342  5.159445e-05  Gene   \n",
       "ENSG00000176728.7      TTTY14  ENSG00000176728  0.558607  4.737766e-02  Gene   \n",
       "ENSG00000229807.10       XIST  ENSG00000229807 -0.963999  9.704713e-05  Gene   \n",
       "ENSG00000233864.7      TTTY15  ENSG00000233864  0.915006  8.262719e-05  Gene   \n",
       "ENSG00000114374.12      USP9Y  ENSG00000114374  1.230649  1.086670e-09  Gene   \n",
       "ENSG00000129824.15     RPS4Y1  ENSG00000129824  0.806791  4.422841e-03  Gene   \n",
       "\n",
       "                   Comparison  \n",
       "Feature                        \n",
       "ENSG00000006757.11        CvD  \n",
       "ENSG00000234449.2         CvD  \n",
       "ENSG00000099725.14        CvD  \n",
       "ENSG00000012817.15        CvD  \n",
       "ENSG00000131002.11        CvD  \n",
       "ENSG00000239893.1         CvD  \n",
       "ENSG00000227494.2         CvD  \n",
       "ENSG00000260197.1         CvD  \n",
       "ENSG00000273906.1         CvD  \n",
       "ENSG00000185275.6         CvD  \n",
       "ENSG00000183878.15        CvD  \n",
       "ENSG00000205664.10        CvD  \n",
       "ENSG00000092377.13        CvD  \n",
       "ENSG00000067048.16        CvD  \n",
       "ENSG00000176728.7         CvD  \n",
       "ENSG00000229807.10        CvD  \n",
       "ENSG00000233864.7         CvD  \n",
       "ENSG00000114374.12        CvD  \n",
       "ENSG00000129824.15        CvD  "
      ]
     },
     "execution_count": 20,
     "metadata": {},
     "output_type": "execute_result"
    }
   ],
   "source": [
    "shared = set(genes_cvd.Feature) & set(genes_dvh.Feature)\n",
    "print(\"There are %d genes that interact for DLPFC between caudate and Hippocampus!\" % len(shared))\n",
    "genes_cvd.set_index('Feature').loc[np.array(list(shared)), :]"
   ]
  },
  {
   "cell_type": "code",
   "execution_count": 21,
   "metadata": {},
   "outputs": [
    {
     "name": "stdout",
     "output_type": "stream",
     "text": [
      "There are 4 genes that interact for Hippocampus between caudate and DLPFC!\n"
     ]
    },
    {
     "data": {
      "text/html": [
       "<div>\n",
       "<style scoped>\n",
       "    .dataframe tbody tr th:only-of-type {\n",
       "        vertical-align: middle;\n",
       "    }\n",
       "\n",
       "    .dataframe tbody tr th {\n",
       "        vertical-align: top;\n",
       "    }\n",
       "\n",
       "    .dataframe thead th {\n",
       "        text-align: right;\n",
       "    }\n",
       "</style>\n",
       "<table border=\"1\" class=\"dataframe\">\n",
       "  <thead>\n",
       "    <tr style=\"text-align: right;\">\n",
       "      <th></th>\n",
       "      <th>Symbol</th>\n",
       "      <th>ensemblID</th>\n",
       "      <th>logFC</th>\n",
       "      <th>adj.P.Val</th>\n",
       "      <th>Type</th>\n",
       "      <th>Comparison</th>\n",
       "    </tr>\n",
       "    <tr>\n",
       "      <th>Feature</th>\n",
       "      <th></th>\n",
       "      <th></th>\n",
       "      <th></th>\n",
       "      <th></th>\n",
       "      <th></th>\n",
       "      <th></th>\n",
       "    </tr>\n",
       "  </thead>\n",
       "  <tbody>\n",
       "    <tr>\n",
       "      <th>ENSG00000092377.13</th>\n",
       "      <td>TBL1Y</td>\n",
       "      <td>ENSG00000092377</td>\n",
       "      <td>-2.836381</td>\n",
       "      <td>7.858324e-52</td>\n",
       "      <td>Gene</td>\n",
       "      <td>CvH</td>\n",
       "    </tr>\n",
       "    <tr>\n",
       "      <th>ENSG00000006757.11</th>\n",
       "      <td>PNPLA4</td>\n",
       "      <td>ENSG00000006757</td>\n",
       "      <td>0.158100</td>\n",
       "      <td>1.150521e-02</td>\n",
       "      <td>Gene</td>\n",
       "      <td>CvH</td>\n",
       "    </tr>\n",
       "    <tr>\n",
       "      <th>ENSG00000273906.1</th>\n",
       "      <td>NaN</td>\n",
       "      <td>ENSG00000273906</td>\n",
       "      <td>-2.790511</td>\n",
       "      <td>9.669762e-45</td>\n",
       "      <td>Gene</td>\n",
       "      <td>CvH</td>\n",
       "    </tr>\n",
       "    <tr>\n",
       "      <th>ENSG00000185275.6</th>\n",
       "      <td>CD24P4</td>\n",
       "      <td>ENSG00000185275</td>\n",
       "      <td>-0.796622</td>\n",
       "      <td>2.324493e-03</td>\n",
       "      <td>Gene</td>\n",
       "      <td>CvH</td>\n",
       "    </tr>\n",
       "  </tbody>\n",
       "</table>\n",
       "</div>"
      ],
      "text/plain": [
       "                    Symbol        ensemblID     logFC     adj.P.Val  Type  \\\n",
       "Feature                                                                     \n",
       "ENSG00000092377.13   TBL1Y  ENSG00000092377 -2.836381  7.858324e-52  Gene   \n",
       "ENSG00000006757.11  PNPLA4  ENSG00000006757  0.158100  1.150521e-02  Gene   \n",
       "ENSG00000273906.1      NaN  ENSG00000273906 -2.790511  9.669762e-45  Gene   \n",
       "ENSG00000185275.6   CD24P4  ENSG00000185275 -0.796622  2.324493e-03  Gene   \n",
       "\n",
       "                   Comparison  \n",
       "Feature                        \n",
       "ENSG00000092377.13        CvH  \n",
       "ENSG00000006757.11        CvH  \n",
       "ENSG00000273906.1         CvH  \n",
       "ENSG00000185275.6         CvH  "
      ]
     },
     "execution_count": 21,
     "metadata": {},
     "output_type": "execute_result"
    }
   ],
   "source": [
    "shared = set(genes_cvh.Feature) & set(genes_dvh.Feature)\n",
    "print(\"There are %d genes that interact for Hippocampus between caudate and DLPFC!\" % len(shared))\n",
    "genes_cvh.set_index('Feature').loc[np.array(list(shared)), :]"
   ]
  },
  {
   "cell_type": "markdown",
   "metadata": {},
   "source": [
    "### Transcripts"
   ]
  },
  {
   "cell_type": "code",
   "execution_count": 4,
   "metadata": {},
   "outputs": [
    {
     "data": {
      "text/html": [
       "<div>\n",
       "<style scoped>\n",
       "    .dataframe tbody tr th:only-of-type {\n",
       "        vertical-align: middle;\n",
       "    }\n",
       "\n",
       "    .dataframe tbody tr th {\n",
       "        vertical-align: top;\n",
       "    }\n",
       "\n",
       "    .dataframe thead th {\n",
       "        text-align: right;\n",
       "    }\n",
       "</style>\n",
       "<table border=\"1\" class=\"dataframe\">\n",
       "  <thead>\n",
       "    <tr style=\"text-align: right;\">\n",
       "      <th></th>\n",
       "      <th>Feature</th>\n",
       "      <th>Symbol</th>\n",
       "      <th>ensemblID</th>\n",
       "      <th>logFC</th>\n",
       "      <th>adj.P.Val</th>\n",
       "      <th>Type</th>\n",
       "      <th>Comparison</th>\n",
       "    </tr>\n",
       "  </thead>\n",
       "  <tbody>\n",
       "    <tr>\n",
       "      <th>0</th>\n",
       "      <td>ENST00000418290.1</td>\n",
       "      <td>CDY4P</td>\n",
       "      <td>ENSG00000228411</td>\n",
       "      <td>-5.801820</td>\n",
       "      <td>1.556539e-291</td>\n",
       "      <td>Transcript</td>\n",
       "      <td>CvD</td>\n",
       "    </tr>\n",
       "    <tr>\n",
       "      <th>1</th>\n",
       "      <td>ENST00000400275.2</td>\n",
       "      <td>PSMA6P1</td>\n",
       "      <td>ENSG00000215414</td>\n",
       "      <td>-5.655728</td>\n",
       "      <td>5.081686e-288</td>\n",
       "      <td>Transcript</td>\n",
       "      <td>CvD</td>\n",
       "    </tr>\n",
       "  </tbody>\n",
       "</table>\n",
       "</div>"
      ],
      "text/plain": [
       "             Feature   Symbol        ensemblID     logFC      adj.P.Val  \\\n",
       "0  ENST00000418290.1    CDY4P  ENSG00000228411 -5.801820  1.556539e-291   \n",
       "1  ENST00000400275.2  PSMA6P1  ENSG00000215414 -5.655728  5.081686e-288   \n",
       "\n",
       "         Type Comparison  \n",
       "0  Transcript        CvD  \n",
       "1  Transcript        CvD  "
      ]
     },
     "execution_count": 4,
     "metadata": {},
     "output_type": "execute_result"
    }
   ],
   "source": [
    "feature = 'transcripts'\n",
    "trans_cvd, trans_cvh, trans_dvh = extract_deg(feature)\n",
    "trans = pd.concat([trans_cvd, trans_cvh, trans_dvh])\n",
    "trans.head(2)"
   ]
  },
  {
   "cell_type": "markdown",
   "metadata": {},
   "source": [
    "### Exons"
   ]
  },
  {
   "cell_type": "code",
   "execution_count": 5,
   "metadata": {},
   "outputs": [
    {
     "data": {
      "text/html": [
       "<div>\n",
       "<style scoped>\n",
       "    .dataframe tbody tr th:only-of-type {\n",
       "        vertical-align: middle;\n",
       "    }\n",
       "\n",
       "    .dataframe tbody tr th {\n",
       "        vertical-align: top;\n",
       "    }\n",
       "\n",
       "    .dataframe thead th {\n",
       "        text-align: right;\n",
       "    }\n",
       "</style>\n",
       "<table border=\"1\" class=\"dataframe\">\n",
       "  <thead>\n",
       "    <tr style=\"text-align: right;\">\n",
       "      <th></th>\n",
       "      <th>Feature</th>\n",
       "      <th>Symbol</th>\n",
       "      <th>ensemblID</th>\n",
       "      <th>logFC</th>\n",
       "      <th>adj.P.Val</th>\n",
       "      <th>Type</th>\n",
       "      <th>Comparison</th>\n",
       "    </tr>\n",
       "  </thead>\n",
       "  <tbody>\n",
       "    <tr>\n",
       "      <th>0</th>\n",
       "      <td>e1181198</td>\n",
       "      <td>TTTY13</td>\n",
       "      <td>ENSG00000184991</td>\n",
       "      <td>-4.212665</td>\n",
       "      <td>1.326308e-129</td>\n",
       "      <td>Exon</td>\n",
       "      <td>CvD</td>\n",
       "    </tr>\n",
       "    <tr>\n",
       "      <th>1</th>\n",
       "      <td>e1179056</td>\n",
       "      <td>TBL1Y</td>\n",
       "      <td>ENSG00000092377</td>\n",
       "      <td>-4.239987</td>\n",
       "      <td>2.409323e-116</td>\n",
       "      <td>Exon</td>\n",
       "      <td>CvD</td>\n",
       "    </tr>\n",
       "  </tbody>\n",
       "</table>\n",
       "</div>"
      ],
      "text/plain": [
       "    Feature  Symbol        ensemblID     logFC      adj.P.Val  Type Comparison\n",
       "0  e1181198  TTTY13  ENSG00000184991 -4.212665  1.326308e-129  Exon        CvD\n",
       "1  e1179056   TBL1Y  ENSG00000092377 -4.239987  2.409323e-116  Exon        CvD"
      ]
     },
     "execution_count": 5,
     "metadata": {},
     "output_type": "execute_result"
    }
   ],
   "source": [
    "feature = 'exons'\n",
    "exons_cvd, exons_cvh, exons_dvh = extract_deg(feature)\n",
    "exons = pd.concat([exons_cvd, exons_cvh, exons_dvh])\n",
    "exons.head(2)"
   ]
  },
  {
   "cell_type": "markdown",
   "metadata": {},
   "source": [
    "### Junctions"
   ]
  },
  {
   "cell_type": "code",
   "execution_count": 6,
   "metadata": {},
   "outputs": [
    {
     "data": {
      "text/html": [
       "<div>\n",
       "<style scoped>\n",
       "    .dataframe tbody tr th:only-of-type {\n",
       "        vertical-align: middle;\n",
       "    }\n",
       "\n",
       "    .dataframe tbody tr th {\n",
       "        vertical-align: top;\n",
       "    }\n",
       "\n",
       "    .dataframe thead th {\n",
       "        text-align: right;\n",
       "    }\n",
       "</style>\n",
       "<table border=\"1\" class=\"dataframe\">\n",
       "  <thead>\n",
       "    <tr style=\"text-align: right;\">\n",
       "      <th></th>\n",
       "      <th>Feature</th>\n",
       "      <th>Symbol</th>\n",
       "      <th>ensemblID</th>\n",
       "      <th>logFC</th>\n",
       "      <th>adj.P.Val</th>\n",
       "      <th>Type</th>\n",
       "      <th>Comparison</th>\n",
       "    </tr>\n",
       "  </thead>\n",
       "  <tbody>\n",
       "    <tr>\n",
       "      <th>0</th>\n",
       "      <td>chrY:5002759-5031905(+)</td>\n",
       "      <td>PCDH11Y</td>\n",
       "      <td>ENSG00000099715</td>\n",
       "      <td>2.939596</td>\n",
       "      <td>2.263458e-31</td>\n",
       "      <td>Junction</td>\n",
       "      <td>CvD</td>\n",
       "    </tr>\n",
       "    <tr>\n",
       "      <th>1</th>\n",
       "      <td>chrY:5100708-5104343(+)</td>\n",
       "      <td>PCDH11Y</td>\n",
       "      <td>ENSG00000099715</td>\n",
       "      <td>3.039568</td>\n",
       "      <td>2.463896e-29</td>\n",
       "      <td>Junction</td>\n",
       "      <td>CvD</td>\n",
       "    </tr>\n",
       "  </tbody>\n",
       "</table>\n",
       "</div>"
      ],
      "text/plain": [
       "                   Feature   Symbol        ensemblID     logFC     adj.P.Val  \\\n",
       "0  chrY:5002759-5031905(+)  PCDH11Y  ENSG00000099715  2.939596  2.263458e-31   \n",
       "1  chrY:5100708-5104343(+)  PCDH11Y  ENSG00000099715  3.039568  2.463896e-29   \n",
       "\n",
       "       Type Comparison  \n",
       "0  Junction        CvD  \n",
       "1  Junction        CvD  "
      ]
     },
     "execution_count": 6,
     "metadata": {},
     "output_type": "execute_result"
    }
   ],
   "source": [
    "feature = 'junctions'\n",
    "juncs_cvd, juncs_cvh, juncs_dvh = extract_deg(feature)\n",
    "juncs = pd.concat([juncs_cvd, juncs_cvh, juncs_dvh])\n",
    "juncs.head(2)"
   ]
  },
  {
   "cell_type": "markdown",
   "metadata": {},
   "source": [
    "### Merge data frame"
   ]
  },
  {
   "cell_type": "code",
   "execution_count": 11,
   "metadata": {},
   "outputs": [
    {
     "data": {
      "text/plain": [
       "(3116, 7)"
      ]
     },
     "execution_count": 11,
     "metadata": {},
     "output_type": "execute_result"
    }
   ],
   "source": [
    "df = pd.concat([genes, trans, exons, juncs], axis=0)\n",
    "df.to_csv('region_interaction_4features.txt', sep='\\t', index=False)\n",
    "df.shape"
   ]
  },
  {
   "cell_type": "markdown",
   "metadata": {},
   "source": [
    "## DE summary"
   ]
  },
  {
   "cell_type": "markdown",
   "metadata": {},
   "source": [
    "### Caudate and DLPFC"
   ]
  },
  {
   "cell_type": "markdown",
   "metadata": {},
   "source": [
    "#### DE (feature)"
   ]
  },
  {
   "cell_type": "code",
   "execution_count": 12,
   "metadata": {},
   "outputs": [
    {
     "name": "stdout",
     "output_type": "stream",
     "text": [
      "\n",
      "Gene:\t\t421\n",
      "Transcript:\t433\n",
      "Exon:\t\t1451\n",
      "Junction:\t208\n"
     ]
    }
   ],
   "source": [
    "gg = len(set(genes_cvd['Feature']))\n",
    "tt = len(set(trans_cvd['Feature']))\n",
    "ee = len(set(exons_cvd['Feature']))\n",
    "jj = len(set(juncs_cvd['Feature']))\n",
    "\n",
    "print(\"\\nGene:\\t\\t%d\\nTranscript:\\t%d\\nExon:\\t\\t%d\\nJunction:\\t%d\" % (gg, tt, ee, jj)) "
   ]
  },
  {
   "cell_type": "markdown",
   "metadata": {},
   "source": [
    "#### DE (EnsemblID)"
   ]
  },
  {
   "cell_type": "code",
   "execution_count": 13,
   "metadata": {},
   "outputs": [
    {
     "name": "stdout",
     "output_type": "stream",
     "text": [
      "\n",
      "Gene:\t\t421\n",
      "Transcript:\t377\n",
      "Exon:\t\t447\n",
      "Junction:\t92\n"
     ]
    }
   ],
   "source": [
    "gg = len(set(genes_cvd['ensemblID']))\n",
    "tt = len(set(trans_cvd['ensemblID']))\n",
    "ee = len(set(exons_cvd['ensemblID']))\n",
    "jj = len(set(juncs_cvd['ensemblID']))\n",
    "\n",
    "print(\"\\nGene:\\t\\t%d\\nTranscript:\\t%d\\nExon:\\t\\t%d\\nJunction:\\t%d\" % (gg, tt, ee, jj)) "
   ]
  },
  {
   "cell_type": "markdown",
   "metadata": {},
   "source": [
    "#### DE (Gene Symbol)"
   ]
  },
  {
   "cell_type": "code",
   "execution_count": 14,
   "metadata": {},
   "outputs": [
    {
     "name": "stdout",
     "output_type": "stream",
     "text": [
      "\n",
      "Gene:\t\t363\n",
      "Transcript:\t377\n",
      "Exon:\t\t408\n",
      "Junction:\t92\n"
     ]
    }
   ],
   "source": [
    "gg = len(set(genes_cvd['Symbol']))\n",
    "tt = len(set(trans_cvd['Symbol']))\n",
    "ee = len(set(exons_cvd['Symbol']))\n",
    "jj = len(set(juncs_cvd['Symbol']))\n",
    "\n",
    "print(\"\\nGene:\\t\\t%d\\nTranscript:\\t%d\\nExon:\\t\\t%d\\nJunction:\\t%d\" % (gg, tt, ee, jj)) "
   ]
  },
  {
   "cell_type": "markdown",
   "metadata": {},
   "source": [
    "### Caudate and Hippocampus"
   ]
  },
  {
   "cell_type": "markdown",
   "metadata": {},
   "source": [
    "#### DE (feature)"
   ]
  },
  {
   "cell_type": "code",
   "execution_count": 15,
   "metadata": {},
   "outputs": [
    {
     "name": "stdout",
     "output_type": "stream",
     "text": [
      "\n",
      "Gene:\t\t22\n",
      "Transcript:\t170\n",
      "Exon:\t\t121\n",
      "Junction:\t48\n"
     ]
    }
   ],
   "source": [
    "gg = len(set(genes_cvh['Feature']))\n",
    "tt = len(set(trans_cvh['Feature']))\n",
    "ee = len(set(exons_cvh['Feature']))\n",
    "jj = len(set(juncs_cvh['Feature']))\n",
    "\n",
    "print(\"\\nGene:\\t\\t%d\\nTranscript:\\t%d\\nExon:\\t\\t%d\\nJunction:\\t%d\" % (gg, tt, ee, jj)) "
   ]
  },
  {
   "cell_type": "markdown",
   "metadata": {},
   "source": [
    "#### DE (EnsemblID)"
   ]
  },
  {
   "cell_type": "code",
   "execution_count": 16,
   "metadata": {},
   "outputs": [
    {
     "name": "stdout",
     "output_type": "stream",
     "text": [
      "\n",
      "Gene:\t\t22\n",
      "Transcript:\t123\n",
      "Exon:\t\t35\n",
      "Junction:\t16\n"
     ]
    }
   ],
   "source": [
    "gg = len(set(genes_cvh['ensemblID']))\n",
    "tt = len(set(trans_cvh['ensemblID']))\n",
    "ee = len(set(exons_cvh['ensemblID']))\n",
    "jj = len(set(juncs_cvh['ensemblID']))\n",
    "\n",
    "print(\"\\nGene:\\t\\t%d\\nTranscript:\\t%d\\nExon:\\t\\t%d\\nJunction:\\t%d\" % (gg, tt, ee, jj)) "
   ]
  },
  {
   "cell_type": "markdown",
   "metadata": {},
   "source": [
    "#### DE (Gene Symbol)"
   ]
  },
  {
   "cell_type": "code",
   "execution_count": 17,
   "metadata": {},
   "outputs": [
    {
     "name": "stdout",
     "output_type": "stream",
     "text": [
      "\n",
      "Gene:\t\t18\n",
      "Transcript:\t123\n",
      "Exon:\t\t33\n",
      "Junction:\t16\n"
     ]
    }
   ],
   "source": [
    "gg = len(set(genes_cvh['Symbol']))\n",
    "tt = len(set(trans_cvh['Symbol']))\n",
    "ee = len(set(exons_cvh['Symbol']))\n",
    "jj = len(set(juncs_cvh['Symbol']))\n",
    "\n",
    "print(\"\\nGene:\\t\\t%d\\nTranscript:\\t%d\\nExon:\\t\\t%d\\nJunction:\\t%d\" % (gg, tt, ee, jj)) "
   ]
  },
  {
   "cell_type": "markdown",
   "metadata": {},
   "source": [
    "### DLPFC and Hippocampus"
   ]
  },
  {
   "cell_type": "markdown",
   "metadata": {},
   "source": [
    "#### DE (feature)"
   ]
  },
  {
   "cell_type": "code",
   "execution_count": 18,
   "metadata": {},
   "outputs": [
    {
     "name": "stdout",
     "output_type": "stream",
     "text": [
      "\n",
      "Gene:\t\t25\n",
      "Transcript:\t28\n",
      "Exon:\t\t130\n",
      "Junction:\t59\n"
     ]
    }
   ],
   "source": [
    "gg = len(set(genes_dvh['Feature']))\n",
    "tt = len(set(trans_dvh['Feature']))\n",
    "ee = len(set(exons_dvh['Feature']))\n",
    "jj = len(set(juncs_dvh['Feature']))\n",
    "\n",
    "print(\"\\nGene:\\t\\t%d\\nTranscript:\\t%d\\nExon:\\t\\t%d\\nJunction:\\t%d\" % (gg, tt, ee, jj)) "
   ]
  },
  {
   "cell_type": "markdown",
   "metadata": {},
   "source": [
    "#### DE (EnsemblID)"
   ]
  },
  {
   "cell_type": "code",
   "execution_count": 19,
   "metadata": {},
   "outputs": [
    {
     "name": "stdout",
     "output_type": "stream",
     "text": [
      "\n",
      "Gene:\t\t25\n",
      "Transcript:\t19\n",
      "Exon:\t\t24\n",
      "Junction:\t16\n"
     ]
    }
   ],
   "source": [
    "gg = len(set(genes_dvh['ensemblID']))\n",
    "tt = len(set(trans_dvh['ensemblID']))\n",
    "ee = len(set(exons_dvh['ensemblID']))\n",
    "jj = len(set(juncs_dvh['ensemblID']))\n",
    "\n",
    "print(\"\\nGene:\\t\\t%d\\nTranscript:\\t%d\\nExon:\\t\\t%d\\nJunction:\\t%d\" % (gg, tt, ee, jj)) "
   ]
  },
  {
   "cell_type": "markdown",
   "metadata": {},
   "source": [
    "#### DE (Gene Symbol)"
   ]
  },
  {
   "cell_type": "code",
   "execution_count": 20,
   "metadata": {},
   "outputs": [
    {
     "name": "stdout",
     "output_type": "stream",
     "text": [
      "\n",
      "Gene:\t\t22\n",
      "Transcript:\t19\n",
      "Exon:\t\t23\n",
      "Junction:\t16\n"
     ]
    }
   ],
   "source": [
    "gg = len(set(genes_dvh['Symbol']))\n",
    "tt = len(set(trans_dvh['Symbol']))\n",
    "ee = len(set(exons_dvh['Symbol']))\n",
    "jj = len(set(juncs_dvh['Symbol']))\n",
    "\n",
    "print(\"\\nGene:\\t\\t%d\\nTranscript:\\t%d\\nExon:\\t\\t%d\\nJunction:\\t%d\" % (gg, tt, ee, jj)) "
   ]
  },
  {
   "cell_type": "code",
   "execution_count": null,
   "metadata": {},
   "outputs": [],
   "source": []
  }
 ],
 "metadata": {
  "kernelspec": {
   "display_name": "Python 3",
   "language": "python",
   "name": "python3"
  },
  "language_info": {
   "codemirror_mode": {
    "name": "ipython",
    "version": 3
   },
   "file_extension": ".py",
   "mimetype": "text/x-python",
   "name": "python",
   "nbconvert_exporter": "python",
   "pygments_lexer": "ipython3",
   "version": "3.8.6"
  }
 },
 "nbformat": 4,
 "nbformat_minor": 4
}
