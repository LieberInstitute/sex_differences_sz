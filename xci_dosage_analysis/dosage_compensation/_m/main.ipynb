{
 "cells": [
  {
   "cell_type": "markdown",
   "metadata": {},
   "source": [
    "# Calculate RXE for public dataset, females only based on Apua's script\n",
    "This has been edited from Apua's script."
   ]
  },
  {
   "cell_type": "code",
   "execution_count": 1,
   "metadata": {
    "execution": {
     "iopub.execute_input": "2023-03-17T16:12:57.993352Z",
     "iopub.status.busy": "2023-03-17T16:12:57.992919Z",
     "iopub.status.idle": "2023-03-17T16:13:03.941969Z",
     "shell.execute_reply": "2023-03-17T16:13:03.940477Z"
    }
   },
   "outputs": [],
   "source": [
    "import numpy as np\n",
    "import pandas as pd\n",
    "from os import environ\n",
    "from plotnine import *\n",
    "from pyhere import here\n",
    "import re, session_info\n",
    "import statsmodels.api as sm\n",
    "from functools import lru_cache\n",
    "from scipy.stats import variation\n",
    "from warnings import filterwarnings\n",
    "from scipy.stats import mannwhitneyu\n",
    "from statsmodels.formula.api import ols\n",
    "from matplotlib.cbook import mplDeprecation"
   ]
  },
  {
   "cell_type": "code",
   "execution_count": 2,
   "metadata": {
    "execution": {
     "iopub.execute_input": "2023-03-17T16:13:03.949803Z",
     "iopub.status.busy": "2023-03-17T16:13:03.948523Z",
     "iopub.status.idle": "2023-03-17T16:13:03.955746Z",
     "shell.execute_reply": "2023-03-17T16:13:03.954700Z"
    }
   },
   "outputs": [],
   "source": [
    "filterwarnings('ignore',category=mplDeprecation)\n",
    "filterwarnings('ignore', category=UserWarning, module='plotnine.*')\n",
    "filterwarnings('ignore', category=DeprecationWarning, module='plotnine.*')"
   ]
  },
  {
   "cell_type": "code",
   "execution_count": 3,
   "metadata": {
    "execution": {
     "iopub.execute_input": "2023-03-17T16:13:03.961710Z",
     "iopub.status.busy": "2023-03-17T16:13:03.961230Z",
     "iopub.status.idle": "2023-03-17T16:13:03.968280Z",
     "shell.execute_reply": "2023-03-17T16:13:03.967431Z"
    }
   },
   "outputs": [],
   "source": [
    "environ['NUMEXPR_MAX_THREADS'] = '4'"
   ]
  },
  {
   "cell_type": "markdown",
   "metadata": {},
   "source": [
    "## Functions"
   ]
  },
  {
   "cell_type": "code",
   "execution_count": 4,
   "metadata": {
    "execution": {
     "iopub.execute_input": "2023-03-17T16:13:03.973245Z",
     "iopub.status.busy": "2023-03-17T16:13:03.972809Z",
     "iopub.status.idle": "2023-03-17T16:13:03.982325Z",
     "shell.execute_reply": "2023-03-17T16:13:03.981366Z"
    }
   },
   "outputs": [],
   "source": [
    "@lru_cache()\n",
    "def get_pheno():\n",
    "    return pd.read_csv(here('input/phenotypes/_m/phenotypes.csv'), index_col=0)\n",
    "\n",
    "\n",
    "@lru_cache()\n",
    "def get_logTPM(tissue):\n",
    "    fn = here(f'input/counts/text_files_counts/tpm/_m/{tissue}/gene.log2tpm.csv')\n",
    "    return pd.read_csv(fn, index_col=0)\n",
    "\n",
    "\n",
    "@lru_cache()\n",
    "def get_annotation():\n",
    "    \"\"\"\n",
    "    Get the annotation file for genes.\n",
    "    \"\"\"\n",
    "    fn = here('input/counts/text_files_counts/_m',\n",
    "              'caudate/gene_annotation.txt')\n",
    "    return pd.read_csv(fn, sep='\\t')"
   ]
  },
  {
   "cell_type": "code",
   "execution_count": 5,
   "metadata": {
    "execution": {
     "iopub.execute_input": "2023-03-17T16:13:03.987257Z",
     "iopub.status.busy": "2023-03-17T16:13:03.986794Z",
     "iopub.status.idle": "2023-03-17T16:13:03.998319Z",
     "shell.execute_reply": "2023-03-17T16:13:03.997232Z"
    }
   },
   "outputs": [],
   "source": [
    "def save_ggplot(p, fn):\n",
    "    for ext in ['.pdf', '.png', '.svg']:\n",
    "        p.save(fn+ext, width=10, height=7)\n",
    "        \n",
    "\n",
    "def rge(df, chrom):\n",
    "    return df[df['seqname']==chrom][samples].mean() \\\n",
    "    - df[(df['chrom_type']=='autosome') & (df['seqname']!=chrom)][samples].mean()\n",
    "\n",
    "\n",
    "def annotate_chrom(df):\n",
    "    df.loc[:, 'chrom_types'] = 'Other'\n",
    "    df.loc[df['seqnames'].isin(['chrX', 'chrY']), 'chrom_types'] = 'Allosome'\n",
    "    df.loc[df['seqnames'].str.contains('chr\\d+'), 'chrom_types'] = 'Autosome'\n",
    "    df.loc[df['seqnames'] == 'chrM', 'chrom_types'] = 'Mitochondria'\n",
    "    df.loc[df['seqnames'] == 'chrX', 'chrom_types'] = 'X'\n",
    "    return df"
   ]
  },
  {
   "cell_type": "markdown",
   "metadata": {},
   "source": [
    "## Load and merge data"
   ]
  },
  {
   "cell_type": "code",
   "execution_count": 6,
   "metadata": {
    "execution": {
     "iopub.execute_input": "2023-03-17T16:13:04.005320Z",
     "iopub.status.busy": "2023-03-17T16:13:04.004796Z",
     "iopub.status.idle": "2023-03-17T16:13:15.999847Z",
     "shell.execute_reply": "2023-03-17T16:13:15.997985Z"
    }
   },
   "outputs": [
    {
     "name": "stdout",
     "output_type": "stream",
     "text": [
      "(52569, 1217)\n"
     ]
    },
    {
     "data": {
      "text/html": [
       "<div>\n",
       "<style scoped>\n",
       "    .dataframe tbody tr th:only-of-type {\n",
       "        vertical-align: middle;\n",
       "    }\n",
       "\n",
       "    .dataframe tbody tr th {\n",
       "        vertical-align: top;\n",
       "    }\n",
       "\n",
       "    .dataframe thead th {\n",
       "        text-align: right;\n",
       "    }\n",
       "</style>\n",
       "<table border=\"1\" class=\"dataframe\">\n",
       "  <thead>\n",
       "    <tr style=\"text-align: right;\">\n",
       "      <th></th>\n",
       "      <th>R12864</th>\n",
       "      <th>R12865</th>\n",
       "      <th>R12866</th>\n",
       "      <th>R12867</th>\n",
       "      <th>R12868</th>\n",
       "    </tr>\n",
       "    <tr>\n",
       "      <th>name</th>\n",
       "      <th></th>\n",
       "      <th></th>\n",
       "      <th></th>\n",
       "      <th></th>\n",
       "      <th></th>\n",
       "    </tr>\n",
       "  </thead>\n",
       "  <tbody>\n",
       "    <tr>\n",
       "      <th>TSPAN6|ENSG00000000003.15</th>\n",
       "      <td>2.441001</td>\n",
       "      <td>3.844446</td>\n",
       "      <td>3.045605</td>\n",
       "      <td>2.788269</td>\n",
       "      <td>2.901279</td>\n",
       "    </tr>\n",
       "    <tr>\n",
       "      <th>TNMD|ENSG00000000005.6</th>\n",
       "      <td>0.000000</td>\n",
       "      <td>0.000000</td>\n",
       "      <td>0.082527</td>\n",
       "      <td>0.000000</td>\n",
       "      <td>0.000000</td>\n",
       "    </tr>\n",
       "  </tbody>\n",
       "</table>\n",
       "</div>"
      ],
      "text/plain": [
       "                             R12864    R12865    R12866    R12867    R12868\n",
       "name                                                                       \n",
       "TSPAN6|ENSG00000000003.15  2.441001  3.844446  3.045605  2.788269  2.901279\n",
       "TNMD|ENSG00000000005.6     0.000000  0.000000  0.082527  0.000000  0.000000"
      ]
     },
     "execution_count": 6,
     "metadata": {},
     "output_type": "execute_result"
    }
   ],
   "source": [
    "log2tpm = pd.DataFrame()\n",
    "for tissue in ['caudate', 'dlpfc', 'hippocampus']:\n",
    "    log2tpm = pd.concat([log2tpm, get_logTPM(tissue)], axis=1)\n",
    "print(log2tpm.shape)\n",
    "log2tpm.iloc[0:2, 0:5]"
   ]
  },
  {
   "cell_type": "markdown",
   "metadata": {
    "tags": []
   },
   "source": [
    "## Annotate TPM"
   ]
  },
  {
   "cell_type": "code",
   "execution_count": 7,
   "metadata": {
    "execution": {
     "iopub.execute_input": "2023-03-17T16:13:16.056080Z",
     "iopub.status.busy": "2023-03-17T16:13:16.055517Z",
     "iopub.status.idle": "2023-03-17T16:13:16.210798Z",
     "shell.execute_reply": "2023-03-17T16:13:16.210008Z"
    }
   },
   "outputs": [
    {
     "data": {
      "text/html": [
       "<div>\n",
       "<style scoped>\n",
       "    .dataframe tbody tr th:only-of-type {\n",
       "        vertical-align: middle;\n",
       "    }\n",
       "\n",
       "    .dataframe tbody tr th {\n",
       "        vertical-align: top;\n",
       "    }\n",
       "\n",
       "    .dataframe thead th {\n",
       "        text-align: right;\n",
       "    }\n",
       "</style>\n",
       "<table border=\"1\" class=\"dataframe\">\n",
       "  <thead>\n",
       "    <tr style=\"text-align: right;\">\n",
       "      <th></th>\n",
       "      <th>name</th>\n",
       "      <th>seqnames</th>\n",
       "      <th>start</th>\n",
       "      <th>end</th>\n",
       "      <th>width</th>\n",
       "      <th>gene_name</th>\n",
       "    </tr>\n",
       "  </thead>\n",
       "  <tbody>\n",
       "    <tr>\n",
       "      <th>0</th>\n",
       "      <td>TSPAN6|ENSG00000000003.15</td>\n",
       "      <td>chrX</td>\n",
       "      <td>100627108</td>\n",
       "      <td>100639991</td>\n",
       "      <td>12884</td>\n",
       "      <td>TSPAN6</td>\n",
       "    </tr>\n",
       "    <tr>\n",
       "      <th>1</th>\n",
       "      <td>TNMD|ENSG00000000005.6</td>\n",
       "      <td>chrX</td>\n",
       "      <td>100584936</td>\n",
       "      <td>100599885</td>\n",
       "      <td>14950</td>\n",
       "      <td>TNMD</td>\n",
       "    </tr>\n",
       "  </tbody>\n",
       "</table>\n",
       "</div>"
      ],
      "text/plain": [
       "                        name seqnames      start        end  width gene_name\n",
       "0  TSPAN6|ENSG00000000003.15     chrX  100627108  100639991  12884    TSPAN6\n",
       "1     TNMD|ENSG00000000005.6     chrX  100584936  100599885  14950      TNMD"
      ]
     },
     "execution_count": 7,
     "metadata": {},
     "output_type": "execute_result"
    }
   ],
   "source": [
    "get_annotation().head(2)"
   ]
  },
  {
   "cell_type": "code",
   "execution_count": 8,
   "metadata": {
    "execution": {
     "iopub.execute_input": "2023-03-17T16:13:16.214361Z",
     "iopub.status.busy": "2023-03-17T16:13:16.214075Z",
     "iopub.status.idle": "2023-03-17T16:13:16.613381Z",
     "shell.execute_reply": "2023-03-17T16:13:16.612614Z"
    }
   },
   "outputs": [
    {
     "name": "stdout",
     "output_type": "stream",
     "text": [
      "(52569, 1221)\n"
     ]
    },
    {
     "data": {
      "text/plain": [
       "chrom_types\n",
       "Allosome          501\n",
       "Autosome        50034\n",
       "Mitochondria       14\n",
       "X                2020\n",
       "dtype: int64"
      ]
     },
     "execution_count": 8,
     "metadata": {},
     "output_type": "execute_result"
    }
   ],
   "source": [
    "df0 = log2tpm.merge(get_annotation().loc[:, ['name', 'gene_name', 'seqnames']], \n",
    "                    left_index=True, right_on='name')\n",
    "df0 = annotate_chrom(df0)\n",
    "print(df0.shape)\n",
    "df0.groupby('chrom_types').size()"
   ]
  },
  {
   "cell_type": "markdown",
   "metadata": {},
   "source": [
    "## Filtering genes"
   ]
  },
  {
   "cell_type": "code",
   "execution_count": 9,
   "metadata": {
    "execution": {
     "iopub.execute_input": "2023-03-17T16:13:16.617970Z",
     "iopub.status.busy": "2023-03-17T16:13:16.617644Z",
     "iopub.status.idle": "2023-03-17T16:13:19.063935Z",
     "shell.execute_reply": "2023-03-17T16:13:19.063008Z"
    }
   },
   "outputs": [
    {
     "data": {
      "text/plain": [
       "(24499, 1221)"
      ]
     },
     "execution_count": 9,
     "metadata": {},
     "output_type": "execute_result"
    }
   ],
   "source": [
    "samples = [x for x in log2tpm.columns if re.match('R\\d+', x)]\n",
    "df = df0[(df0[samples].sum(axis=1) >= 0.2 * len(samples)) & \n",
    "         (df0['chrom_types'].isin(['X', 'Autosome']))].copy()\n",
    "df.shape"
   ]
  },
  {
   "cell_type": "markdown",
   "metadata": {},
   "source": [
    "## Generate RXE"
   ]
  },
  {
   "cell_type": "code",
   "execution_count": 10,
   "metadata": {
    "execution": {
     "iopub.execute_input": "2023-03-17T16:13:19.069514Z",
     "iopub.status.busy": "2023-03-17T16:13:19.069020Z",
     "iopub.status.idle": "2023-03-17T16:13:19.398300Z",
     "shell.execute_reply": "2023-03-17T16:13:19.397457Z"
    }
   },
   "outputs": [
    {
     "data": {
      "text/html": [
       "<div>\n",
       "<style scoped>\n",
       "    .dataframe tbody tr th:only-of-type {\n",
       "        vertical-align: middle;\n",
       "    }\n",
       "\n",
       "    .dataframe tbody tr th {\n",
       "        vertical-align: top;\n",
       "    }\n",
       "\n",
       "    .dataframe thead th {\n",
       "        text-align: right;\n",
       "    }\n",
       "</style>\n",
       "<table border=\"1\" class=\"dataframe\">\n",
       "  <thead>\n",
       "    <tr style=\"text-align: right;\">\n",
       "      <th>chrom_types</th>\n",
       "      <th>Autosome</th>\n",
       "      <th>X</th>\n",
       "    </tr>\n",
       "  </thead>\n",
       "  <tbody>\n",
       "    <tr>\n",
       "      <th>R12864</th>\n",
       "      <td>2.332196</td>\n",
       "      <td>2.461731</td>\n",
       "    </tr>\n",
       "    <tr>\n",
       "      <th>R12865</th>\n",
       "      <td>2.740215</td>\n",
       "      <td>2.829693</td>\n",
       "    </tr>\n",
       "  </tbody>\n",
       "</table>\n",
       "</div>"
      ],
      "text/plain": [
       "chrom_types  Autosome         X\n",
       "R12864       2.332196  2.461731\n",
       "R12865       2.740215  2.829693"
      ]
     },
     "execution_count": 10,
     "metadata": {},
     "output_type": "execute_result"
    }
   ],
   "source": [
    "df1  = df.groupby('chrom_types').mean(numeric_only=True).transpose()\n",
    "df1.head(2)"
   ]
  },
  {
   "cell_type": "code",
   "execution_count": 11,
   "metadata": {
    "execution": {
     "iopub.execute_input": "2023-03-17T16:13:19.403750Z",
     "iopub.status.busy": "2023-03-17T16:13:19.403324Z",
     "iopub.status.idle": "2023-03-17T16:13:19.415779Z",
     "shell.execute_reply": "2023-03-17T16:13:19.414940Z"
    }
   },
   "outputs": [
    {
     "data": {
      "text/html": [
       "<div>\n",
       "<style scoped>\n",
       "    .dataframe tbody tr th:only-of-type {\n",
       "        vertical-align: middle;\n",
       "    }\n",
       "\n",
       "    .dataframe tbody tr th {\n",
       "        vertical-align: top;\n",
       "    }\n",
       "\n",
       "    .dataframe thead th {\n",
       "        text-align: right;\n",
       "    }\n",
       "</style>\n",
       "<table border=\"1\" class=\"dataframe\">\n",
       "  <thead>\n",
       "    <tr style=\"text-align: right;\">\n",
       "      <th>chrom_types</th>\n",
       "      <th>Autosome</th>\n",
       "      <th>X</th>\n",
       "      <th>sample</th>\n",
       "      <th>RXE</th>\n",
       "    </tr>\n",
       "  </thead>\n",
       "  <tbody>\n",
       "    <tr>\n",
       "      <th>R12864</th>\n",
       "      <td>2.332196</td>\n",
       "      <td>2.461731</td>\n",
       "      <td>R12864</td>\n",
       "      <td>0.129535</td>\n",
       "    </tr>\n",
       "    <tr>\n",
       "      <th>R12865</th>\n",
       "      <td>2.740215</td>\n",
       "      <td>2.829693</td>\n",
       "      <td>R12865</td>\n",
       "      <td>0.089478</td>\n",
       "    </tr>\n",
       "  </tbody>\n",
       "</table>\n",
       "</div>"
      ],
      "text/plain": [
       "chrom_types  Autosome         X  sample       RXE\n",
       "R12864       2.332196  2.461731  R12864  0.129535\n",
       "R12865       2.740215  2.829693  R12865  0.089478"
      ]
     },
     "execution_count": 11,
     "metadata": {},
     "output_type": "execute_result"
    }
   ],
   "source": [
    "df1['sample'] = df1.index\n",
    "df1['RXE'] = df1['X'] - df1['Autosome']\n",
    "df1.head(2)"
   ]
  },
  {
   "cell_type": "markdown",
   "metadata": {},
   "source": [
    "## Annotated sample IDs"
   ]
  },
  {
   "cell_type": "code",
   "execution_count": 12,
   "metadata": {
    "execution": {
     "iopub.execute_input": "2023-03-17T16:13:19.422350Z",
     "iopub.status.busy": "2023-03-17T16:13:19.421861Z",
     "iopub.status.idle": "2023-03-17T16:13:19.628860Z",
     "shell.execute_reply": "2023-03-17T16:13:19.627973Z"
    }
   },
   "outputs": [
    {
     "data": {
      "text/html": [
       "<div>\n",
       "<style scoped>\n",
       "    .dataframe tbody tr th:only-of-type {\n",
       "        vertical-align: middle;\n",
       "    }\n",
       "\n",
       "    .dataframe tbody tr th {\n",
       "        vertical-align: top;\n",
       "    }\n",
       "\n",
       "    .dataframe thead tr th {\n",
       "        text-align: left;\n",
       "    }\n",
       "\n",
       "    .dataframe thead tr:last-of-type th {\n",
       "        text-align: right;\n",
       "    }\n",
       "</style>\n",
       "<table border=\"1\" class=\"dataframe\">\n",
       "  <thead>\n",
       "    <tr>\n",
       "      <th></th>\n",
       "      <th></th>\n",
       "      <th colspan=\"8\" halign=\"left\">RXE</th>\n",
       "    </tr>\n",
       "    <tr>\n",
       "      <th></th>\n",
       "      <th></th>\n",
       "      <th>count</th>\n",
       "      <th>mean</th>\n",
       "      <th>std</th>\n",
       "      <th>min</th>\n",
       "      <th>25%</th>\n",
       "      <th>50%</th>\n",
       "      <th>75%</th>\n",
       "      <th>max</th>\n",
       "    </tr>\n",
       "    <tr>\n",
       "      <th>Region</th>\n",
       "      <th>Sex</th>\n",
       "      <th></th>\n",
       "      <th></th>\n",
       "      <th></th>\n",
       "      <th></th>\n",
       "      <th></th>\n",
       "      <th></th>\n",
       "      <th></th>\n",
       "      <th></th>\n",
       "    </tr>\n",
       "  </thead>\n",
       "  <tbody>\n",
       "    <tr>\n",
       "      <th rowspan=\"2\" valign=\"top\">Caudate</th>\n",
       "      <th>F</th>\n",
       "      <td>129.0</td>\n",
       "      <td>0.072434</td>\n",
       "      <td>0.066423</td>\n",
       "      <td>-0.116318</td>\n",
       "      <td>0.037158</td>\n",
       "      <td>0.087259</td>\n",
       "      <td>0.120710</td>\n",
       "      <td>0.180794</td>\n",
       "    </tr>\n",
       "    <tr>\n",
       "      <th>M</th>\n",
       "      <td>289.0</td>\n",
       "      <td>0.073250</td>\n",
       "      <td>0.055947</td>\n",
       "      <td>-0.144156</td>\n",
       "      <td>0.046930</td>\n",
       "      <td>0.085875</td>\n",
       "      <td>0.111217</td>\n",
       "      <td>0.162486</td>\n",
       "    </tr>\n",
       "    <tr>\n",
       "      <th rowspan=\"2\" valign=\"top\">DLPFC</th>\n",
       "      <th>F</th>\n",
       "      <td>125.0</td>\n",
       "      <td>0.105212</td>\n",
       "      <td>0.042601</td>\n",
       "      <td>-0.026092</td>\n",
       "      <td>0.089677</td>\n",
       "      <td>0.119341</td>\n",
       "      <td>0.132669</td>\n",
       "      <td>0.171622</td>\n",
       "    </tr>\n",
       "    <tr>\n",
       "      <th>M</th>\n",
       "      <td>263.0</td>\n",
       "      <td>0.102371</td>\n",
       "      <td>0.068521</td>\n",
       "      <td>-0.919013</td>\n",
       "      <td>0.093479</td>\n",
       "      <td>0.109438</td>\n",
       "      <td>0.124097</td>\n",
       "      <td>0.155076</td>\n",
       "    </tr>\n",
       "    <tr>\n",
       "      <th rowspan=\"2\" valign=\"top\">HIPPO</th>\n",
       "      <th>F</th>\n",
       "      <td>132.0</td>\n",
       "      <td>0.111335</td>\n",
       "      <td>0.032613</td>\n",
       "      <td>0.018946</td>\n",
       "      <td>0.094986</td>\n",
       "      <td>0.114084</td>\n",
       "      <td>0.133184</td>\n",
       "      <td>0.178053</td>\n",
       "    </tr>\n",
       "    <tr>\n",
       "      <th>M</th>\n",
       "      <td>276.0</td>\n",
       "      <td>0.106895</td>\n",
       "      <td>0.032326</td>\n",
       "      <td>-0.005364</td>\n",
       "      <td>0.090518</td>\n",
       "      <td>0.112290</td>\n",
       "      <td>0.127329</td>\n",
       "      <td>0.208088</td>\n",
       "    </tr>\n",
       "  </tbody>\n",
       "</table>\n",
       "</div>"
      ],
      "text/plain": [
       "               RXE                                                    \\\n",
       "             count      mean       std       min       25%       50%   \n",
       "Region  Sex                                                            \n",
       "Caudate F    129.0  0.072434  0.066423 -0.116318  0.037158  0.087259   \n",
       "        M    289.0  0.073250  0.055947 -0.144156  0.046930  0.085875   \n",
       "DLPFC   F    125.0  0.105212  0.042601 -0.026092  0.089677  0.119341   \n",
       "        M    263.0  0.102371  0.068521 -0.919013  0.093479  0.109438   \n",
       "HIPPO   F    132.0  0.111335  0.032613  0.018946  0.094986  0.114084   \n",
       "        M    276.0  0.106895  0.032326 -0.005364  0.090518  0.112290   \n",
       "\n",
       "                                 \n",
       "                  75%       max  \n",
       "Region  Sex                      \n",
       "Caudate F    0.120710  0.180794  \n",
       "        M    0.111217  0.162486  \n",
       "DLPFC   F    0.132669  0.171622  \n",
       "        M    0.124097  0.155076  \n",
       "HIPPO   F    0.133184  0.178053  \n",
       "        M    0.127329  0.208088  "
      ]
     },
     "execution_count": 12,
     "metadata": {},
     "output_type": "execute_result"
    }
   ],
   "source": [
    "df2 = df1.merge(get_pheno().loc[:, ['RNum', 'Sex', 'Dx', 'Region']], \n",
    "                left_index=True, right_on='RNum')\n",
    "df2.loc[:, ['Region', 'Sex', 'RXE']].groupby(['Region', 'Sex']).describe()"
   ]
  },
  {
   "cell_type": "markdown",
   "metadata": {},
   "source": [
    "## Metrics summary"
   ]
  },
  {
   "cell_type": "markdown",
   "metadata": {},
   "source": [
    "### Variation of RXE"
   ]
  },
  {
   "cell_type": "code",
   "execution_count": 13,
   "metadata": {
    "execution": {
     "iopub.execute_input": "2023-03-17T16:13:19.634247Z",
     "iopub.status.busy": "2023-03-17T16:13:19.633612Z",
     "iopub.status.idle": "2023-03-17T16:13:19.650814Z",
     "shell.execute_reply": "2023-03-17T16:13:19.650030Z"
    }
   },
   "outputs": [
    {
     "name": "stdout",
     "output_type": "stream",
     "text": [
      "There is 0.913 variation for F in Caudate.\n",
      "There is 0.762 variation for M in Caudate.\n",
      "There is 0.403 variation for F in DLPFC.\n",
      "There is 0.668 variation for M in DLPFC.\n",
      "There is 0.292 variation for F in HIPPO.\n",
      "There is 0.302 variation for M in HIPPO.\n"
     ]
    }
   ],
   "source": [
    "for tissue in ['Caudate', 'DLPFC', 'HIPPO']:\n",
    "    for sex in ['F', 'M']:\n",
    "        var = variation(df2[(df2['Region']==tissue) & (df2['Sex']==sex)].RXE)\n",
    "        print(f'There is {var:.3} variation for {sex} in {tissue}.')"
   ]
  },
  {
   "cell_type": "code",
   "execution_count": 14,
   "metadata": {
    "execution": {
     "iopub.execute_input": "2023-03-17T16:13:19.655701Z",
     "iopub.status.busy": "2023-03-17T16:13:19.655016Z",
     "iopub.status.idle": "2023-03-17T16:13:19.663755Z",
     "shell.execute_reply": "2023-03-17T16:13:19.662985Z"
    },
    "tags": []
   },
   "outputs": [],
   "source": [
    "## Separate out tissues\n",
    "\n",
    "caudate = df2[(df2['Region']=='Caudate')].copy()\n",
    "dlpfc = df2[(df2['Region']=='DLPFC')].copy()\n",
    "hippo = df2[(df2['Region']=='HIPPO')].copy()"
   ]
  },
  {
   "cell_type": "markdown",
   "metadata": {},
   "source": [
    "### Mann-WhitneyU (Female to Male)"
   ]
  },
  {
   "cell_type": "code",
   "execution_count": 15,
   "metadata": {
    "execution": {
     "iopub.execute_input": "2023-03-17T16:13:19.668493Z",
     "iopub.status.busy": "2023-03-17T16:13:19.668113Z",
     "iopub.status.idle": "2023-03-17T16:13:19.685674Z",
     "shell.execute_reply": "2023-03-17T16:13:19.683861Z"
    }
   },
   "outputs": [
    {
     "name": "stdout",
     "output_type": "stream",
     "text": [
      "Mann-WhitneyU for female vs male (RXE) for caudate: 0.5742\n",
      "Mann-WhitneyU for female vs male (RXE) for DLPFC: 0.04684\n",
      "Mann-WhitneyU for female vs male (RXE) for hippocampus: 0.1329\n"
     ]
    }
   ],
   "source": [
    "for tissue in ['caudate', 'DLPFC', 'hippocampus']:\n",
    "    df_config = {'caudate': caudate,'DLPFC': dlpfc,'hippocampus': hippo}\n",
    "    stat, pval = mannwhitneyu(df_config[tissue][(df_config[tissue]['Sex']=='F')].RXE, \n",
    "                              df_config[tissue][(df_config[tissue]['Sex']=='M')].RXE)\n",
    "    print(f'Mann-WhitneyU for female vs male (RXE) for {tissue}: {pval:.4}')"
   ]
  },
  {
   "cell_type": "markdown",
   "metadata": {},
   "source": [
    "### Mann-WhitneyU (CTL vs SZ)"
   ]
  },
  {
   "cell_type": "code",
   "execution_count": 16,
   "metadata": {
    "execution": {
     "iopub.execute_input": "2023-03-17T16:13:19.690592Z",
     "iopub.status.busy": "2023-03-17T16:13:19.689557Z",
     "iopub.status.idle": "2023-03-17T16:13:19.704724Z",
     "shell.execute_reply": "2023-03-17T16:13:19.703842Z"
    }
   },
   "outputs": [
    {
     "name": "stdout",
     "output_type": "stream",
     "text": [
      "Mann-WhitneyU for ctl vs sz (RXE) for caudate: 0.6328\n",
      "Mann-WhitneyU for ctl vs sz (RXE) for DLPFC: 0.0736\n",
      "Mann-WhitneyU for ctl vs sz (RXE) for hippocampus: 0.004401\n"
     ]
    }
   ],
   "source": [
    "for tissue in ['caudate', 'DLPFC', 'hippocampus']:\n",
    "    df_config = {'caudate': caudate,'DLPFC': dlpfc,'hippocampus': hippo}\n",
    "    stat, pval = mannwhitneyu(df_config[tissue][(df_config[tissue]['Dx']=='Control')].RXE, \n",
    "                              df_config[tissue][(df_config[tissue]['Dx']=='SCZD')].RXE)\n",
    "    print(f'Mann-WhitneyU for ctl vs sz (RXE) for {tissue}: {pval:.4}')"
   ]
  },
  {
   "cell_type": "markdown",
   "metadata": {},
   "source": [
    "### Subset by sex: diagnosis status"
   ]
  },
  {
   "cell_type": "code",
   "execution_count": 17,
   "metadata": {
    "execution": {
     "iopub.execute_input": "2023-03-17T16:13:19.709966Z",
     "iopub.status.busy": "2023-03-17T16:13:19.709519Z",
     "iopub.status.idle": "2023-03-17T16:13:19.735063Z",
     "shell.execute_reply": "2023-03-17T16:13:19.734059Z"
    }
   },
   "outputs": [
    {
     "name": "stdout",
     "output_type": "stream",
     "text": [
      "Mann-WhitneyU of female, ctl vs sz (RXE) for caudate: 0.2795\n",
      "Mann-WhitneyU of male, ctl vs sz (RXE) for caudate: 0.1496\n",
      "Mann-WhitneyU of female, ctl vs sz (RXE) for DLPFC: 0.6639\n",
      "Mann-WhitneyU of male, ctl vs sz (RXE) for DLPFC: 0.06367\n",
      "Mann-WhitneyU of female, ctl vs sz (RXE) for hippocampus: 0.2548\n",
      "Mann-WhitneyU of male, ctl vs sz (RXE) for hippocampus: 0.004064\n"
     ]
    }
   ],
   "source": [
    "for tissue in ['caudate', 'DLPFC', 'hippocampus']:\n",
    "    df_config = {'caudate': caudate,'DLPFC': dlpfc,'hippocampus': hippo}\n",
    "    female = df_config[tissue][(df_config[tissue]['Sex']=='F')].copy()\n",
    "    male = df_config[tissue][(df_config[tissue]['Sex']=='M')].copy()\n",
    "    stat_f, pval_f = mannwhitneyu(female[(female['Dx']=='Control')].RXE, \n",
    "                                  female[(female['Dx']=='SCZD')].RXE)\n",
    "    stat_m, pval_m = mannwhitneyu(male[(male['Dx']=='Control')].RXE, \n",
    "                                  male[(male['Dx']=='SCZD')].RXE)\n",
    "    print(f'Mann-WhitneyU of female, ctl vs sz (RXE) for {tissue}: {pval_f:.4}')\n",
    "    print(f'Mann-WhitneyU of male, ctl vs sz (RXE) for {tissue}: {pval_m:.4}')"
   ]
  },
  {
   "cell_type": "markdown",
   "metadata": {},
   "source": [
    "### X chromosome expression differences"
   ]
  },
  {
   "cell_type": "code",
   "execution_count": 18,
   "metadata": {
    "execution": {
     "iopub.execute_input": "2023-03-17T16:13:19.740724Z",
     "iopub.status.busy": "2023-03-17T16:13:19.740349Z",
     "iopub.status.idle": "2023-03-17T16:13:19.766180Z",
     "shell.execute_reply": "2023-03-17T16:13:19.765233Z"
    }
   },
   "outputs": [
    {
     "name": "stdout",
     "output_type": "stream",
     "text": [
      "Mann-WhitneyU of female, ctl vs sz (RXE) for caudate: 0.132\n",
      "Mann-WhitneyU of male, ctl vs sz (RXE) for caudate: 0.2937\n",
      "Mann-WhitneyU of female, ctl vs sz (RXE) for DLPFC: 0.2231\n",
      "Mann-WhitneyU of male, ctl vs sz (RXE) for DLPFC: 0.01622\n",
      "Mann-WhitneyU of female, ctl vs sz (RXE) for hippocampus: 0.9944\n",
      "Mann-WhitneyU of male, ctl vs sz (RXE) for hippocampus: 0.1167\n"
     ]
    }
   ],
   "source": [
    "for tissue in ['caudate', 'DLPFC', 'hippocampus']:\n",
    "    df_config = {'caudate': caudate,'DLPFC': dlpfc,'hippocampus': hippo}\n",
    "    female = df_config[tissue][(df_config[tissue]['Sex']=='F')].copy()\n",
    "    male = df_config[tissue][(df_config[tissue]['Sex']=='M')].copy()\n",
    "    stat_f, pval_f = mannwhitneyu(female[(female['Dx']=='Control')].X, \n",
    "                                  female[(female['Dx']=='SCZD')].X)\n",
    "    stat_m, pval_m = mannwhitneyu(male[(male['Dx']=='Control')].X, \n",
    "                                  male[(male['Dx']=='SCZD')].X)\n",
    "    print(f'Mann-WhitneyU of female, ctl vs sz (RXE) for {tissue}: {pval_f:.4}')\n",
    "    print(f'Mann-WhitneyU of male, ctl vs sz (RXE) for {tissue}: {pval_m:.4}')"
   ]
  },
  {
   "cell_type": "markdown",
   "metadata": {},
   "source": [
    "### Autosome expression"
   ]
  },
  {
   "cell_type": "code",
   "execution_count": 19,
   "metadata": {
    "execution": {
     "iopub.execute_input": "2023-03-17T16:13:19.771573Z",
     "iopub.status.busy": "2023-03-17T16:13:19.771112Z",
     "iopub.status.idle": "2023-03-17T16:13:19.795446Z",
     "shell.execute_reply": "2023-03-17T16:13:19.794515Z"
    }
   },
   "outputs": [
    {
     "name": "stdout",
     "output_type": "stream",
     "text": [
      "Mann-WhitneyU of female, ctl vs sz (RXE) for caudate: 0.2489\n",
      "Mann-WhitneyU of male, ctl vs sz (RXE) for caudate: 0.2242\n",
      "Mann-WhitneyU of female, ctl vs sz (RXE) for DLPFC: 0.251\n",
      "Mann-WhitneyU of male, ctl vs sz (RXE) for DLPFC: 0.006911\n",
      "Mann-WhitneyU of female, ctl vs sz (RXE) for hippocampus: 0.7817\n",
      "Mann-WhitneyU of male, ctl vs sz (RXE) for hippocampus: 0.6085\n"
     ]
    }
   ],
   "source": [
    "for tissue in ['caudate', 'DLPFC', 'hippocampus']:\n",
    "    df_config = {'caudate': caudate,\n",
    "                 'DLPFC': dlpfc, \n",
    "                 'hippocampus': hippo}\n",
    "    female = df_config[tissue][(df_config[tissue]['Sex']=='F')].copy()\n",
    "    male = df_config[tissue][(df_config[tissue]['Sex']=='M')].copy()\n",
    "    stat_f, pval_f = mannwhitneyu(female[(female['Dx']=='Control')].Autosome, \n",
    "                                  female[(female['Dx']=='SCZD')].Autosome)\n",
    "    stat_m, pval_m = mannwhitneyu(male[(male['Dx']=='Control')].Autosome, \n",
    "                                  male[(male['Dx']=='SCZD')].Autosome)\n",
    "    print(f'Mann-WhitneyU of female, ctl vs sz (RXE) for {tissue}: {pval_f:.4}')\n",
    "    print(f'Mann-WhitneyU of male, ctl vs sz (RXE) for {tissue}: {pval_m:.4}')"
   ]
  },
  {
   "cell_type": "markdown",
   "metadata": {},
   "source": [
    "### Interaction model"
   ]
  },
  {
   "cell_type": "code",
   "execution_count": 20,
   "metadata": {
    "execution": {
     "iopub.execute_input": "2023-03-17T16:13:19.800864Z",
     "iopub.status.busy": "2023-03-17T16:13:19.800523Z",
     "iopub.status.idle": "2023-03-17T16:13:19.818682Z",
     "shell.execute_reply": "2023-03-17T16:13:19.817866Z"
    }
   },
   "outputs": [
    {
     "data": {
      "text/html": [
       "<div>\n",
       "<style scoped>\n",
       "    .dataframe tbody tr th:only-of-type {\n",
       "        vertical-align: middle;\n",
       "    }\n",
       "\n",
       "    .dataframe tbody tr th {\n",
       "        vertical-align: top;\n",
       "    }\n",
       "\n",
       "    .dataframe thead th {\n",
       "        text-align: right;\n",
       "    }\n",
       "</style>\n",
       "<table border=\"1\" class=\"dataframe\">\n",
       "  <thead>\n",
       "    <tr style=\"text-align: right;\">\n",
       "      <th></th>\n",
       "      <th>Autosome</th>\n",
       "      <th>X</th>\n",
       "      <th>sample</th>\n",
       "      <th>RXE</th>\n",
       "      <th>RNum</th>\n",
       "      <th>Sex</th>\n",
       "      <th>Dx</th>\n",
       "      <th>Region</th>\n",
       "    </tr>\n",
       "    <tr>\n",
       "      <th>SAMPLE_ID</th>\n",
       "      <th></th>\n",
       "      <th></th>\n",
       "      <th></th>\n",
       "      <th></th>\n",
       "      <th></th>\n",
       "      <th></th>\n",
       "      <th></th>\n",
       "      <th></th>\n",
       "    </tr>\n",
       "  </thead>\n",
       "  <tbody>\n",
       "    <tr>\n",
       "      <th>R12864_H5FM2BBXX</th>\n",
       "      <td>2.332196</td>\n",
       "      <td>2.461731</td>\n",
       "      <td>R12864</td>\n",
       "      <td>0.129535</td>\n",
       "      <td>R12864</td>\n",
       "      <td>Female</td>\n",
       "      <td>SZ</td>\n",
       "      <td>Caudate</td>\n",
       "    </tr>\n",
       "    <tr>\n",
       "      <th>R12865_H5FM2BBXX</th>\n",
       "      <td>2.740215</td>\n",
       "      <td>2.829693</td>\n",
       "      <td>R12865</td>\n",
       "      <td>0.089478</td>\n",
       "      <td>R12865</td>\n",
       "      <td>Male</td>\n",
       "      <td>SZ</td>\n",
       "      <td>Caudate</td>\n",
       "    </tr>\n",
       "  </tbody>\n",
       "</table>\n",
       "</div>"
      ],
      "text/plain": [
       "                  Autosome         X  sample       RXE    RNum     Sex  Dx  \\\n",
       "SAMPLE_ID                                                                    \n",
       "R12864_H5FM2BBXX  2.332196  2.461731  R12864  0.129535  R12864  Female  SZ   \n",
       "R12865_H5FM2BBXX  2.740215  2.829693  R12865  0.089478  R12865    Male  SZ   \n",
       "\n",
       "                   Region  \n",
       "SAMPLE_ID                  \n",
       "R12864_H5FM2BBXX  Caudate  \n",
       "R12865_H5FM2BBXX  Caudate  "
      ]
     },
     "execution_count": 20,
     "metadata": {},
     "output_type": "execute_result"
    }
   ],
   "source": [
    "df2.Sex = df2.Sex.astype('category').cat.rename_categories({'F': 'Female', 'M': 'Male'})\n",
    "df2.Dx = df2.Dx.astype('category').cat.rename_categories({'SCZD': 'SZ', 'Control': 'CTL'})\n",
    "df2.head(2)"
   ]
  },
  {
   "cell_type": "code",
   "execution_count": 21,
   "metadata": {
    "execution": {
     "iopub.execute_input": "2023-03-17T16:13:19.824198Z",
     "iopub.status.busy": "2023-03-17T16:13:19.823782Z",
     "iopub.status.idle": "2023-03-17T16:13:19.840661Z",
     "shell.execute_reply": "2023-03-17T16:13:19.839856Z"
    }
   },
   "outputs": [
    {
     "data": {
      "text/html": [
       "<div>\n",
       "<style scoped>\n",
       "    .dataframe tbody tr th:only-of-type {\n",
       "        vertical-align: middle;\n",
       "    }\n",
       "\n",
       "    .dataframe tbody tr th {\n",
       "        vertical-align: top;\n",
       "    }\n",
       "\n",
       "    .dataframe thead th {\n",
       "        text-align: right;\n",
       "    }\n",
       "</style>\n",
       "<table border=\"1\" class=\"dataframe\">\n",
       "  <thead>\n",
       "    <tr style=\"text-align: right;\">\n",
       "      <th></th>\n",
       "      <th>RXE</th>\n",
       "      <th>Sex</th>\n",
       "      <th>Dx</th>\n",
       "      <th>Region</th>\n",
       "    </tr>\n",
       "    <tr>\n",
       "      <th>RNum</th>\n",
       "      <th></th>\n",
       "      <th></th>\n",
       "      <th></th>\n",
       "      <th></th>\n",
       "    </tr>\n",
       "  </thead>\n",
       "  <tbody>\n",
       "    <tr>\n",
       "      <th>R12864</th>\n",
       "      <td>0.129535</td>\n",
       "      <td>0</td>\n",
       "      <td>1</td>\n",
       "      <td>0</td>\n",
       "    </tr>\n",
       "    <tr>\n",
       "      <th>R12865</th>\n",
       "      <td>0.089478</td>\n",
       "      <td>1</td>\n",
       "      <td>1</td>\n",
       "      <td>0</td>\n",
       "    </tr>\n",
       "  </tbody>\n",
       "</table>\n",
       "</div>"
      ],
      "text/plain": [
       "             RXE  Sex  Dx  Region\n",
       "RNum                             \n",
       "R12864  0.129535    0   1       0\n",
       "R12865  0.089478    1   1       0"
      ]
     },
     "execution_count": 21,
     "metadata": {},
     "output_type": "execute_result"
    }
   ],
   "source": [
    "df3 = df2.reset_index()[['RNum', 'RXE', 'Sex', 'Dx', 'Region']].set_index('RNum')\n",
    "df3[df3.columns[1]] = df3.Sex.cat.codes\n",
    "df3[df3.columns[2]] = df3.Dx.cat.codes\n",
    "df3[df3.columns[3]] = df3.Region.astype('category').cat.codes\n",
    "df3.head(2)"
   ]
  },
  {
   "cell_type": "code",
   "execution_count": 22,
   "metadata": {
    "execution": {
     "iopub.execute_input": "2023-03-17T16:13:19.845967Z",
     "iopub.status.busy": "2023-03-17T16:13:19.845395Z",
     "iopub.status.idle": "2023-03-17T16:13:19.890888Z",
     "shell.execute_reply": "2023-03-17T16:13:19.889963Z"
    }
   },
   "outputs": [
    {
     "name": "stdout",
     "output_type": "stream",
     "text": [
      "                    sum_sq      df          F        PR(>F)\n",
      "C(Sex)            0.001895     1.0   0.690473  4.061684e-01\n",
      "C(Dx)             0.030385     1.0  11.072889  9.024554e-04\n",
      "C(Region)         0.296575     2.0  54.038442  3.354717e-23\n",
      "C(Sex):C(Dx)      0.010747     1.0   3.916503  4.804177e-02\n",
      "C(Sex):C(Region)  0.001777     2.0   0.323846  7.234250e-01\n",
      "C(Dx):C(Region)   0.003186     2.0   0.580494  5.597787e-01\n",
      "Residual          3.303914  1204.0        NaN           NaN\n"
     ]
    }
   ],
   "source": [
    "anova_df = df2.loc[:,['RXE','Sex','Dx','Region']]\n",
    "\n",
    "# ANOVA results with combinations of 2 groups:\n",
    "formula = 'RXE ~ C(Sex) + C(Dx) + C(Region) + C(Sex):C(Dx) + C(Sex):C(Region) + C(Dx):C(Region)'\n",
    "lm = ols(formula, anova_df).fit()\n",
    "table = sm.stats.anova_lm(lm, typ=2)\n",
    "print(table)"
   ]
  },
  {
   "cell_type": "markdown",
   "metadata": {},
   "source": [
    "#### By tissue interaction"
   ]
  },
  {
   "cell_type": "code",
   "execution_count": 23,
   "metadata": {
    "execution": {
     "iopub.execute_input": "2023-03-17T16:13:19.896009Z",
     "iopub.status.busy": "2023-03-17T16:13:19.895446Z",
     "iopub.status.idle": "2023-03-17T16:13:21.379660Z",
     "shell.execute_reply": "2023-03-17T16:13:21.378696Z"
    }
   },
   "outputs": [
    {
     "name": "stdout",
     "output_type": "stream",
     "text": [
      "caudate\n",
      "                sum_sq     df         F    PR(>F)\n",
      "C(Sex)        0.000021    1.0  0.006019  0.938196\n",
      "C(Dx)         0.003460    1.0  0.983331  0.321957\n",
      "C(Sex):C(Dx)  0.006188    1.0  1.758856  0.185499\n",
      "Residual      1.456543  414.0       NaN       NaN\n",
      "\n",
      "\n",
      "There is no significant interactions!\n",
      "\n",
      "\n",
      "DLPFC\n",
      "                sum_sq     df         F    PR(>F)\n",
      "C(Sex)        0.000870    1.0  0.232827  0.629711\n",
      "C(Dx)         0.015831    1.0  4.236993  0.040226\n",
      "C(Sex):C(Dx)  0.004534    1.0  1.213578  0.271315\n",
      "Residual      1.434789  384.0       NaN       NaN\n",
      "\n",
      "\n",
      "There is no significant interactions!\n",
      "\n",
      "\n",
      "hippocampus\n",
      "                sum_sq     df          F    PR(>F)\n",
      "C(Sex)        0.002564    1.0   2.516841  0.113418\n",
      "C(Dx)         0.014101    1.0  13.843822  0.000227\n",
      "C(Sex):C(Dx)  0.001110    1.0   1.089551  0.297195\n",
      "Residual      0.411496  404.0        NaN       NaN\n",
      "\n",
      "\n",
      "        group1    group2  meandiff   p-adj   lower   upper  reject\n",
      "2  F / Control  M / SCZD   -0.0176  0.0022 -0.0303 -0.0049    True\n",
      "5  M / Control  M / SCZD   -0.0149  0.0018 -0.0256 -0.0043    True\n",
      "\n",
      "\n"
     ]
    }
   ],
   "source": [
    "from statsmodels.stats.multicomp import pairwise_tukeyhsd\n",
    "# Assumes parametric\n",
    "\n",
    "for tissue in ['caudate', 'DLPFC', 'hippocampus']:\n",
    "    df_config = {'caudate': caudate,'DLPFC': dlpfc,'hippocampus': hippo}\n",
    "    anova_df = df_config[tissue].loc[:, ['RXE', 'Sex', 'Dx']]\n",
    "    # ANOVA results with combinations of 2 groups:\n",
    "    formula = 'RXE ~ C(Sex) + C(Dx) + C(Sex):C(Dx)'\n",
    "    lm = ols(formula, anova_df).fit()\n",
    "    table = sm.stats.anova_lm(lm, typ=2)\n",
    "    print(tissue)\n",
    "    print(table)\n",
    "    print('\\n')\n",
    "    anova_df['combination'] = anova_df.Sex.astype('str') + ' / ' + anova_df.Dx.astype('str')\n",
    "    anova_df['combination'] = anova_df.Sex.astype('str') + ' / ' + anova_df.Dx.astype('str')\n",
    "    # perform multiple pairwise comparison (Tukey HSD)\n",
    "    m_comp = pairwise_tukeyhsd(endog=anova_df['RXE'], groups=anova_df['combination'], alpha=0.05)\n",
    "    # coerce the tukeyhsd table to a DataFrame\n",
    "    tukey_data = pd.DataFrame(data=m_comp._results_table.data[1:], columns = m_comp._results_table.data[0])\n",
    "    if tukey_data[(tukey_data['p-adj'] < 0.05)].shape[0] == 0:\n",
    "        print('There is no significant interactions!')\n",
    "    else:\n",
    "        print(tukey_data[(tukey_data['p-adj'] < 0.05)])\n",
    "    print('\\n')"
   ]
  },
  {
   "cell_type": "markdown",
   "metadata": {},
   "source": [
    "## Plot RXE"
   ]
  },
  {
   "cell_type": "code",
   "execution_count": 24,
   "metadata": {
    "execution": {
     "iopub.execute_input": "2023-03-17T16:13:21.386034Z",
     "iopub.status.busy": "2023-03-17T16:13:21.385354Z",
     "iopub.status.idle": "2023-03-17T16:13:22.661289Z",
     "shell.execute_reply": "2023-03-17T16:13:22.660362Z"
    }
   },
   "outputs": [
    {
     "name": "stderr",
     "output_type": "stream",
     "text": [
      "/users/jbenjami/.local/lib/python3.9/site-packages/plotnine/utils.py:371: FutureWarning: The frame.append method is deprecated and will be removed from pandas in a future version. Use pandas.concat instead.\n"
     ]
    },
    {
     "data": {
      "image/png": "[encoded data removed]",
      "text/plain": [
       "<Figure size 640x480 with 2 Axes>"
      ]
     },
     "metadata": {},
     "output_type": "display_data"
    },
    {
     "data": {
      "text/plain": [
       "<ggplot: (8792500059356)>"
      ]
     },
     "execution_count": 24,
     "metadata": {},
     "output_type": "execute_result"
    }
   ],
   "source": [
    "p = ggplot(df2, aes(x='Region', y='X', fill='Dx')) \\\n",
    "    + geom_boxplot() \\\n",
    "    + facet_grid('~Sex')\\\n",
    "    + ylab('X Chromosome Expression')\\\n",
    "    + theme_matplotlib()\n",
    "p"
   ]
  },
  {
   "cell_type": "code",
   "execution_count": 25,
   "metadata": {
    "execution": {
     "iopub.execute_input": "2023-03-17T16:13:22.666039Z",
     "iopub.status.busy": "2023-03-17T16:13:22.665451Z",
     "iopub.status.idle": "2023-03-17T16:13:23.875244Z",
     "shell.execute_reply": "2023-03-17T16:13:23.874256Z"
    }
   },
   "outputs": [
    {
     "name": "stderr",
     "output_type": "stream",
     "text": [
      "/users/jbenjami/.local/lib/python3.9/site-packages/plotnine/utils.py:371: FutureWarning: The frame.append method is deprecated and will be removed from pandas in a future version. Use pandas.concat instead.\n"
     ]
    },
    {
     "data": {
      "image/png": "[encoded data removed]",
      "text/plain": [
       "<Figure size 640x480 with 2 Axes>"
      ]
     },
     "metadata": {},
     "output_type": "display_data"
    },
    {
     "data": {
      "text/plain": [
       "<ggplot: (8792499901486)>"
      ]
     },
     "execution_count": 25,
     "metadata": {},
     "output_type": "execute_result"
    }
   ],
   "source": [
    "p = ggplot(df2, aes(x='Region', y='Autosome', fill='Dx')) \\\n",
    "    + geom_boxplot() \\\n",
    "    + facet_grid('~Sex')\\\n",
    "    + ylab('Autosome Expression')\\\n",
    "    + theme_matplotlib()\n",
    "p"
   ]
  },
  {
   "cell_type": "code",
   "execution_count": 26,
   "metadata": {
    "execution": {
     "iopub.execute_input": "2023-03-17T16:13:23.880799Z",
     "iopub.status.busy": "2023-03-17T16:13:23.880123Z",
     "iopub.status.idle": "2023-03-17T16:13:25.093803Z",
     "shell.execute_reply": "2023-03-17T16:13:25.092994Z"
    }
   },
   "outputs": [
    {
     "name": "stderr",
     "output_type": "stream",
     "text": [
      "/users/jbenjami/.local/lib/python3.9/site-packages/plotnine/utils.py:371: FutureWarning: The frame.append method is deprecated and will be removed from pandas in a future version. Use pandas.concat instead.\n"
     ]
    },
    {
     "data": {
      "image/png": "[encoded data removed]",
      "text/plain": [
       "<Figure size 640x480 with 2 Axes>"
      ]
     },
     "metadata": {},
     "output_type": "display_data"
    },
    {
     "data": {
      "text/plain": [
       "<ggplot: (8792499801338)>"
      ]
     },
     "execution_count": 26,
     "metadata": {},
     "output_type": "execute_result"
    }
   ],
   "source": [
    "p = ggplot(df2, aes(x='Region', y='RXE', fill='Dx')) \\\n",
    "    + geom_boxplot() \\\n",
    "    + facet_grid('~Sex')\\\n",
    "    + ylab('Relative X Expression')\\\n",
    "    + theme_matplotlib()\n",
    "p"
   ]
  },
  {
   "cell_type": "code",
   "execution_count": 27,
   "metadata": {
    "execution": {
     "iopub.execute_input": "2023-03-17T16:13:25.099619Z",
     "iopub.status.busy": "2023-03-17T16:13:25.098938Z",
     "iopub.status.idle": "2023-03-17T16:13:30.665241Z",
     "shell.execute_reply": "2023-03-17T16:13:30.664264Z"
    }
   },
   "outputs": [
    {
     "name": "stderr",
     "output_type": "stream",
     "text": [
      "/users/jbenjami/.local/lib/python3.9/site-packages/plotnine/utils.py:371: FutureWarning: The frame.append method is deprecated and will be removed from pandas in a future version. Use pandas.concat instead.\n"
     ]
    },
    {
     "data": {
      "image/png": "[encoded data removed]",
      "text/plain": [
       "<Figure size 640x480 with 2 Axes>"
      ]
     },
     "metadata": {},
     "output_type": "display_data"
    },
    {
     "data": {
      "text/plain": [
       "<ggplot: (8792499708100)>"
      ]
     },
     "execution_count": 27,
     "metadata": {},
     "output_type": "execute_result"
    }
   ],
   "source": [
    "p = ggplot(df2, aes(x='sample', y='RXE', fill='Dx', shape='Region')) \\\n",
    "+ geom_point() + ylim([-0.25, 0.5]) + xlab('Samples')\\\n",
    "+ ylab('Relative X Expression') + facet_grid('Sex~.')\\\n",
    "+ theme_matplotlib() \\\n",
    "+ theme(axis_text_x=element_blank(), \n",
    "        axis_text=element_text(size=13), \n",
    "        legend_title=element_text(size=15, face='bold'), \n",
    "        legend_text=element_text(size=13),\n",
    "        axis_title=element_text(size=16, face='bold'), \n",
    "        strip_text=element_text(size=14, face='bold'))\n",
    "p"
   ]
  },
  {
   "cell_type": "code",
   "execution_count": 28,
   "metadata": {
    "execution": {
     "iopub.execute_input": "2023-03-17T16:13:30.669389Z",
     "iopub.status.busy": "2023-03-17T16:13:30.668985Z",
     "iopub.status.idle": "2023-03-17T16:13:49.940929Z",
     "shell.execute_reply": "2023-03-17T16:13:49.940103Z"
    }
   },
   "outputs": [
    {
     "name": "stderr",
     "output_type": "stream",
     "text": [
      "/users/jbenjami/.local/lib/python3.9/site-packages/plotnine/utils.py:371: FutureWarning: The frame.append method is deprecated and will be removed from pandas in a future version. Use pandas.concat instead.\n",
      "/users/jbenjami/.local/lib/python3.9/site-packages/plotnine/utils.py:371: FutureWarning: The frame.append method is deprecated and will be removed from pandas in a future version. Use pandas.concat instead.\n",
      "/users/jbenjami/.local/lib/python3.9/site-packages/plotnine/utils.py:371: FutureWarning: The frame.append method is deprecated and will be removed from pandas in a future version. Use pandas.concat instead.\n"
     ]
    }
   ],
   "source": [
    "df2.to_csv('RXE_public.csv')\n",
    "save_ggplot(p, 'RXE_public_bySex')"
   ]
  },
  {
   "cell_type": "markdown",
   "metadata": {},
   "source": [
    "## Session information"
   ]
  },
  {
   "cell_type": "code",
   "execution_count": 29,
   "metadata": {
    "execution": {
     "iopub.execute_input": "2023-03-17T16:13:49.945305Z",
     "iopub.status.busy": "2023-03-17T16:13:49.944979Z",
     "iopub.status.idle": "2023-03-17T16:13:55.130453Z",
     "shell.execute_reply": "2023-03-17T16:13:55.129655Z"
    }
   },
   "outputs": [
    {
     "data": {
      "text/html": [
       "<details>\n",
       "<summary>Click to view session information</summary>\n",
       "<pre>\n",
       "-----\n",
       "matplotlib          3.5.2\n",
       "numpy               1.20.2\n",
       "pandas              1.4.3\n",
       "plotnine            0.8.0\n",
       "pyhere              1.0.0\n",
       "scipy               1.8.1\n",
       "session_info        1.0.0\n",
       "statsmodels         0.13.2\n",
       "-----\n",
       "</pre>\n",
       "<details>\n",
       "<summary>Click to view modules imported as dependencies</summary>\n",
       "<pre>\n",
       "PIL                 8.2.0\n",
       "anyio               NA\n",
       "arrow               1.2.3\n",
       "asttokens           NA\n",
       "attr                21.4.0\n",
       "babel               2.10.3\n",
       "backcall            0.2.0\n",
       "beta_ufunc          NA\n",
       "binom_ufunc         NA\n",
       "certifi             2021.10.08\n",
       "cffi                1.15.0\n",
       "chardet             4.0.0\n",
       "charset_normalizer  2.0.12\n",
       "cloudpickle         2.1.0\n",
       "cycler              0.10.0\n",
       "cython_runtime      NA\n",
       "dateutil            2.8.2\n",
       "debugpy             1.6.3\n",
       "decorator           5.1.1\n",
       "descartes           NA\n",
       "executing           0.10.0\n",
       "fastjsonschema      NA\n",
       "fontTools           4.33.3\n",
       "fqdn                NA\n",
       "google              NA\n",
       "hypergeom_ufunc     NA\n",
       "idna                2.10\n",
       "importlib_metadata  NA\n",
       "ipykernel           6.15.1\n",
       "ipython_genutils    0.2.0\n",
       "isoduration         NA\n",
       "jedi                0.18.1\n",
       "jinja2              3.1.1\n",
       "joblib              1.1.0\n",
       "json5               NA\n",
       "jsonpointer         2.3\n",
       "jsonschema          4.17.3\n",
       "jupyter_server      1.23.5\n",
       "jupyterlab_server   2.19.0\n",
       "kiwisolver          1.4.3\n",
       "lxml                4.9.1\n",
       "markupsafe          2.1.1\n",
       "matplotlib_inline   0.1.6\n",
       "mizani              0.7.4\n",
       "mpl_toolkits        NA\n",
       "nbformat            5.4.0\n",
       "nbinom_ufunc        NA\n",
       "packaging           21.3\n",
       "palettable          3.3.0\n",
       "parso               0.8.3\n",
       "patsy               0.5.2\n",
       "pexpect             4.8.0\n",
       "pickleshare         0.7.5\n",
       "pkg_resources       NA\n",
       "platformdirs        3.0.0\n",
       "prometheus_client   NA\n",
       "prompt_toolkit      3.0.30\n",
       "psutil              5.9.1\n",
       "ptyprocess          0.7.0\n",
       "pure_eval           0.2.2\n",
       "pvectorc            NA\n",
       "pyarrow             7.0.0\n",
       "pycparser           2.21\n",
       "pydev_ipython       NA\n",
       "pydevconsole        NA\n",
       "pydevd              2.8.0\n",
       "pydevd_file_utils   NA\n",
       "pydevd_plugins      NA\n",
       "pydevd_tracing      NA\n",
       "pygments            2.13.0\n",
       "pyparsing           3.0.9\n",
       "pyrsistent          NA\n",
       "pytz                2022.1\n",
       "requests            2.28.2\n",
       "rfc3339_validator   0.1.4\n",
       "rfc3986_validator   0.1.1\n",
       "send2trash          NA\n",
       "six                 1.16.0\n",
       "sklearn             1.1.1\n",
       "sniffio             1.2.0\n",
       "stack_data          0.4.0\n",
       "terminado           0.15.0\n",
       "threadpoolctl       3.1.0\n",
       "tornado             6.2\n",
       "traitlets           5.9.0\n",
       "typing_extensions   NA\n",
       "uri_template        NA\n",
       "urllib3             1.26.8\n",
       "wcwidth             0.2.5\n",
       "webcolors           1.11.1\n",
       "websocket           1.4.0\n",
       "zipp                NA\n",
       "zmq                 25.0.0\n",
       "zstandard           0.18.0\n",
       "</pre>\n",
       "</details> <!-- seems like this ends pre, so might as well be explicit -->\n",
       "<pre>\n",
       "-----\n",
       "IPython             8.4.0\n",
       "jupyter_client      8.0.2\n",
       "jupyter_core        5.2.0\n",
       "jupyterlab          3.6.1\n",
       "notebook            6.4.12\n",
       "-----\n",
       "Python 3.9.10 (main, Feb 22 2022, 16:34:24) [GCC 4.8.5 20150623 (Red Hat 4.8.5-44)]\n",
       "Linux-3.10.0-1160.el7.x86_64-x86_64-with-glibc2.17\n",
       "-----\n",
       "Session information updated at 2023-03-17 12:13\n",
       "</pre>\n",
       "</details>"
      ],
      "text/plain": [
       "<IPython.core.display.HTML object>"
      ]
     },
     "execution_count": 29,
     "metadata": {},
     "output_type": "execute_result"
    }
   ],
   "source": [
    "session_info.show()"
   ]
  }
 ],
 "metadata": {
  "kernelspec": {
   "display_name": "Python 3 (ipykernel)",
   "language": "python",
   "name": "python3"
  },
  "language_info": {
   "codemirror_mode": {
    "name": "ipython",
    "version": 3
   },
   "file_extension": ".py",
   "mimetype": "text/x-python",
   "name": "python",
   "nbconvert_exporter": "python",
   "pygments_lexer": "ipython3",
   "version": "3.9.10"
  }
 },
 "nbformat": 4,
 "nbformat_minor": 4
}
