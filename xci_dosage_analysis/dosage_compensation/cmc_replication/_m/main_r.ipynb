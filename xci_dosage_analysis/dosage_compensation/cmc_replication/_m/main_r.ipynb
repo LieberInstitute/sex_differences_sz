{
 "cells": [
  {
   "cell_type": "markdown",
   "metadata": {},
   "source": [
    "# Generate log2CPM for CMC data"
   ]
  },
  {
   "cell_type": "code",
   "execution_count": 1,
   "metadata": {
    "execution": {
     "iopub.execute_input": "2021-07-10T14:10:02.901198Z",
     "iopub.status.busy": "2021-07-10T14:10:02.898851Z",
     "iopub.status.idle": "2021-07-10T14:10:06.555709Z",
     "shell.execute_reply": "2021-07-10T14:10:06.553116Z"
    }
   },
   "outputs": [
    {
     "name": "stderr",
     "output_type": "stream",
     "text": [
      "── \u001b[1mAttaching packages\u001b[22m ─────────────────────────────────────── tidyverse 1.3.1 ──\n",
      "\n",
      "\u001b[32m✔\u001b[39m \u001b[34mggplot2\u001b[39m 3.3.5     \u001b[32m✔\u001b[39m \u001b[34mpurrr  \u001b[39m 0.3.4\n",
      "\u001b[32m✔\u001b[39m \u001b[34mtibble \u001b[39m 3.1.2     \u001b[32m✔\u001b[39m \u001b[34mdplyr  \u001b[39m 1.0.7\n",
      "\u001b[32m✔\u001b[39m \u001b[34mtidyr  \u001b[39m 1.1.3     \u001b[32m✔\u001b[39m \u001b[34mstringr\u001b[39m 1.4.0\n",
      "\u001b[32m✔\u001b[39m \u001b[34mreadr  \u001b[39m 1.4.0     \u001b[32m✔\u001b[39m \u001b[34mforcats\u001b[39m 0.5.1\n",
      "\n",
      "── \u001b[1mConflicts\u001b[22m ────────────────────────────────────────── tidyverse_conflicts() ──\n",
      "\u001b[31m✖\u001b[39m \u001b[34mdplyr\u001b[39m::\u001b[32mfilter()\u001b[39m masks \u001b[34mstats\u001b[39m::filter()\n",
      "\u001b[31m✖\u001b[39m \u001b[34mdplyr\u001b[39m::\u001b[32mlag()\u001b[39m    masks \u001b[34mstats\u001b[39m::lag()\n",
      "\n",
      "\n",
      "New synapser version detected: \n",
      "    You are using synapser version 0.9.77.\n",
      "    synapser version 0.10.101 is detected at http://ran.synapse.org.\n",
      "    To upgrade to the latest version of synapser, please run the following command:\n",
      "    install.packages(\"synapser\", repos=\"http://ran.synapse.org\")\n",
      "\n",
      "\n",
      "\n",
      "TERMS OF USE NOTICE:\n",
      "  When using Synapse, remember that the terms and conditions of use require that you:\n",
      "  1) Attribute data contributors when discussing these data or results from these data.\n",
      "  2) Not discriminate, identify, or recontact individuals or groups represented by the data.\n",
      "  3) Use and contribute only data de-identified to HIPAA standards.\n",
      "  4) Redistribute data only under these same terms of use.\n",
      "\n",
      "\n"
     ]
    }
   ],
   "source": [
    "library(tidyverse)\n",
    "library(synapser)"
   ]
  },
  {
   "cell_type": "code",
   "execution_count": 2,
   "metadata": {
    "execution": {
     "iopub.execute_input": "2021-07-10T14:10:06.600925Z",
     "iopub.status.busy": "2021-07-10T14:10:06.560631Z",
     "iopub.status.idle": "2021-07-10T14:10:06.846027Z",
     "shell.execute_reply": "2021-07-10T14:10:06.843679Z"
    }
   },
   "outputs": [
    {
     "name": "stdout",
     "output_type": "stream",
     "text": [
      "Welcome, kj.benjamin!"
     ]
    },
    {
     "data": {
      "text/plain": [
       "NULL"
      ]
     },
     "metadata": {},
     "output_type": "display_data"
    }
   ],
   "source": [
    "synLogin()"
   ]
  },
  {
   "cell_type": "markdown",
   "metadata": {},
   "source": [
    "## Phenotypes"
   ]
  },
  {
   "cell_type": "code",
   "execution_count": 3,
   "metadata": {
    "execution": {
     "iopub.execute_input": "2021-07-10T14:10:06.855791Z",
     "iopub.status.busy": "2021-07-10T14:10:06.851856Z",
     "iopub.status.idle": "2021-07-10T14:10:07.988351Z",
     "shell.execute_reply": "2021-07-10T14:10:07.986925Z"
    }
   },
   "outputs": [
    {
     "data": {
      "text/html": [
       "<style>\n",
       ".list-inline {list-style: none; margin:0; padding: 0}\n",
       ".list-inline>li {display: inline-block}\n",
       ".list-inline>li:not(:last-child)::after {content: \"\\00b7\"; padding: 0 .5ex}\n",
       "</style>\n",
       "<ol class=list-inline><li>858</li><li>65</li></ol>\n"
      ],
      "text/latex": [
       "\\begin{enumerate*}\n",
       "\\item 858\n",
       "\\item 65\n",
       "\\end{enumerate*}\n"
      ],
      "text/markdown": [
       "1. 858\n",
       "2. 65\n",
       "\n",
       "\n"
      ],
      "text/plain": [
       "[1] 858  65"
      ]
     },
     "metadata": {},
     "output_type": "display_data"
    }
   ],
   "source": [
    "# Download clinical metadata \n",
    "CLINICAL_ID = 'syn3354385'\n",
    "clinical = data.table::fread(synGet(CLINICAL_ID, version = 4)$path)\n",
    "\n",
    "# Download RNASeq metadata\n",
    "METADATA_QC_DLPFC_ID = 'syn18358379' \n",
    "metadata = data.table::fread(synGet(METADATA_QC_DLPFC_ID, version = 3)$path)\n",
    "\n",
    "# Join clinical and RNASeq metadata \n",
    "md = right_join(clinical, metadata, by = c(\"Individual ID\" = \"Individual_ID\")) %>% \n",
    "    mutate(Dx = fct_recode(Dx, AFF_BP = \"BP\", AFF_BP = \"AFF\", Other = \"undetermined\", \n",
    "                           Control = \"Control\", SCZ = \"SCZ\")) %>%\n",
    "    filter(Dx %in% c(\"Control\", \"SCZ\"), Sex %in% c('XX', 'XY'))\n",
    "\n",
    "# Compute read pair metrics and add Institution-Dx variable\n",
    "md <- md %>%\n",
    "  mutate(MappedRead_Pairs = Mapped_Reads/2) %>%\n",
    "  mutate(`Institution-Dx` = paste0(`Institution`, \"-\", `Dx`)) %>% \n",
    "  mutate(TotalRead_Pairs = Total_Reads/2)\n",
    "\n",
    "# Add MDS from SNPs\n",
    "mds_file = paste0('/ceph/users/jbenja13/projects/sex_sz_ria/input/commonMind/',\n",
    "                  'genotypes/mds/_m/CMC_MSSM-Penn-Pitt_DLPFC_QC.mds')\n",
    "mds = data.table::fread(mds_file)\n",
    "colnames(mds) = gsub('C', 'snpPC', colnames(mds))\n",
    "\n",
    "pheno_file = paste0('/ceph/users/jbenja13/projects/sex_sz_ria/input/commonMind/', \n",
    "                    'phenotypes/combine_files/_m/CMC_phenotypes_all.csv')\n",
    "pheno = read.csv(pheno_file, stringsAsFactors = F) \n",
    "genotypes = merge(pheno, mds, by.y='IID', by.x='Genotypes.Genotyping_Sample_ID') \n",
    "\n",
    "genotypes = genotypes %>% \n",
    "    dplyr::select(\"Individual_ID\", starts_with(\"snpPC\")) %>%\n",
    "    rename(\"Individual ID\"=Individual_ID)\n",
    "\n",
    "md = md %>% left_join(genotypes, by=\"Individual ID\") %>% distinct\n",
    "\n",
    "md %>% dim"
   ]
  },
  {
   "cell_type": "code",
   "execution_count": 4,
   "metadata": {
    "execution": {
     "iopub.execute_input": "2021-07-10T14:10:07.993660Z",
     "iopub.status.busy": "2021-07-10T14:10:07.992116Z",
     "iopub.status.idle": "2021-07-10T14:10:08.039241Z",
     "shell.execute_reply": "2021-07-10T14:10:08.037597Z"
    }
   },
   "outputs": [
    {
     "data": {
      "text/html": [
       "<table class=\"dataframe\">\n",
       "<caption>A data.table: 2 × 6</caption>\n",
       "<thead>\n",
       "\t<tr><th scope=col>SampleID</th><th scope=col>Individual_ID</th><th scope=col>Institution</th><th scope=col>Reported_Gender</th><th scope=col>Dx</th><th scope=col>Age_of_Death</th></tr>\n",
       "\t<tr><th scope=col>&lt;chr&gt;</th><th scope=col>&lt;chr&gt;</th><th scope=col>&lt;chr&gt;</th><th scope=col>&lt;chr&gt;</th><th scope=col>&lt;fct&gt;</th><th scope=col>&lt;chr&gt;</th></tr>\n",
       "</thead>\n",
       "<tbody>\n",
       "\t<tr><td>MSSM_RNA_PFC_155</td><td>CMC_MSSM_087</td><td>MSSM</td><td>Female</td><td>Control</td><td>90</td></tr>\n",
       "\t<tr><td>MSSM_RNA_PFC_280</td><td>CMC_MSSM_226</td><td>MSSM</td><td>Female</td><td>Control</td><td>90</td></tr>\n",
       "</tbody>\n",
       "</table>\n"
      ],
      "text/latex": [
       "A data.table: 2 × 6\n",
       "\\begin{tabular}{llllll}\n",
       " SampleID & Individual\\_ID & Institution & Reported\\_Gender & Dx & Age\\_of\\_Death\\\\\n",
       " <chr> & <chr> & <chr> & <chr> & <fct> & <chr>\\\\\n",
       "\\hline\n",
       "\t MSSM\\_RNA\\_PFC\\_155 & CMC\\_MSSM\\_087 & MSSM & Female & Control & 90\\\\\n",
       "\t MSSM\\_RNA\\_PFC\\_280 & CMC\\_MSSM\\_226 & MSSM & Female & Control & 90\\\\\n",
       "\\end{tabular}\n"
      ],
      "text/markdown": [
       "\n",
       "A data.table: 2 × 6\n",
       "\n",
       "| SampleID &lt;chr&gt; | Individual_ID &lt;chr&gt; | Institution &lt;chr&gt; | Reported_Gender &lt;chr&gt; | Dx &lt;fct&gt; | Age_of_Death &lt;chr&gt; |\n",
       "|---|---|---|---|---|---|\n",
       "| MSSM_RNA_PFC_155 | CMC_MSSM_087 | MSSM | Female | Control | 90 |\n",
       "| MSSM_RNA_PFC_280 | CMC_MSSM_226 | MSSM | Female | Control | 90 |\n",
       "\n"
      ],
      "text/plain": [
       "  SampleID         Individual_ID Institution Reported_Gender Dx     \n",
       "1 MSSM_RNA_PFC_155 CMC_MSSM_087  MSSM        Female          Control\n",
       "2 MSSM_RNA_PFC_280 CMC_MSSM_226  MSSM        Female          Control\n",
       "  Age_of_Death\n",
       "1 90          \n",
       "2 90          "
      ]
     },
     "metadata": {},
     "output_type": "display_data"
    }
   ],
   "source": [
    "phenotypes = md %>% select(\"SampleID\", \"Individual ID\", \"Institution\", \n",
    "                           \"Reported Gender\", \"Dx\", \"Age of Death\") %>%\n",
    "    mutate(`Age of Death` = ifelse(`Age of Death` == \"90+\", \"90\", `Age of Death`))\n",
    "colnames(phenotypes) <- gsub(' ', '_', colnames(phenotypes))\n",
    "phenotypes %>% data.table::fwrite(\"cmc_phenotypes.csv\", sep=',')\n",
    "phenotypes %>% head(2)"
   ]
  },
  {
   "cell_type": "markdown",
   "metadata": {},
   "source": [
    "## Gene expression (counts)"
   ]
  },
  {
   "cell_type": "markdown",
   "metadata": {},
   "source": [
    "### Combined counts"
   ]
  },
  {
   "cell_type": "code",
   "execution_count": 5,
   "metadata": {
    "execution": {
     "iopub.execute_input": "2021-07-10T14:10:08.045051Z",
     "iopub.status.busy": "2021-07-10T14:10:08.043451Z",
     "iopub.status.idle": "2021-07-10T14:10:41.688223Z",
     "shell.execute_reply": "2021-07-10T14:10:41.686071Z"
    }
   },
   "outputs": [
    {
     "data": {
      "text/html": [
       "<table class=\"dataframe\">\n",
       "<caption>A data.frame: 2 × 5</caption>\n",
       "<thead>\n",
       "\t<tr><th></th><th scope=col>MSSM_RNA_PFC_1</th><th scope=col>MSSM_RNA_PFC_2</th><th scope=col>MSSM_RNA_PFC_3</th><th scope=col>MSSM_RNA_PFC_4</th><th scope=col>MSSM_RNA_PFC_5</th></tr>\n",
       "\t<tr><th></th><th scope=col>&lt;dbl&gt;</th><th scope=col>&lt;dbl&gt;</th><th scope=col>&lt;dbl&gt;</th><th scope=col>&lt;dbl&gt;</th><th scope=col>&lt;dbl&gt;</th></tr>\n",
       "</thead>\n",
       "<tbody>\n",
       "\t<tr><th scope=row>ENSG00000000003.14</th><td>124</td><td>103</td><td>160</td><td>366</td><td>268</td></tr>\n",
       "\t<tr><th scope=row>ENSG00000000005.5</th><td>  1</td><td>  0</td><td>  1</td><td>  4</td><td>  2</td></tr>\n",
       "</tbody>\n",
       "</table>\n"
      ],
      "text/latex": [
       "A data.frame: 2 × 5\n",
       "\\begin{tabular}{r|lllll}\n",
       "  & MSSM\\_RNA\\_PFC\\_1 & MSSM\\_RNA\\_PFC\\_2 & MSSM\\_RNA\\_PFC\\_3 & MSSM\\_RNA\\_PFC\\_4 & MSSM\\_RNA\\_PFC\\_5\\\\\n",
       "  & <dbl> & <dbl> & <dbl> & <dbl> & <dbl>\\\\\n",
       "\\hline\n",
       "\tENSG00000000003.14 & 124 & 103 & 160 & 366 & 268\\\\\n",
       "\tENSG00000000005.5 &   1 &   0 &   1 &   4 &   2\\\\\n",
       "\\end{tabular}\n"
      ],
      "text/markdown": [
       "\n",
       "A data.frame: 2 × 5\n",
       "\n",
       "| <!--/--> | MSSM_RNA_PFC_1 &lt;dbl&gt; | MSSM_RNA_PFC_2 &lt;dbl&gt; | MSSM_RNA_PFC_3 &lt;dbl&gt; | MSSM_RNA_PFC_4 &lt;dbl&gt; | MSSM_RNA_PFC_5 &lt;dbl&gt; |\n",
       "|---|---|---|---|---|---|\n",
       "| ENSG00000000003.14 | 124 | 103 | 160 | 366 | 268 |\n",
       "| ENSG00000000005.5 |   1 |   0 |   1 |   4 |   2 |\n",
       "\n"
      ],
      "text/plain": [
       "                   MSSM_RNA_PFC_1 MSSM_RNA_PFC_2 MSSM_RNA_PFC_3 MSSM_RNA_PFC_4\n",
       "ENSG00000000003.14 124            103            160            366           \n",
       "ENSG00000000005.5    1              0              1              4           \n",
       "                   MSSM_RNA_PFC_5\n",
       "ENSG00000000003.14 268           \n",
       "ENSG00000000005.5    2           "
      ]
     },
     "metadata": {},
     "output_type": "display_data"
    }
   ],
   "source": [
    "# Download counts (DLPFC - MSSM)\n",
    "COUNT_ID = 'syn17346208'\n",
    "count = data.table::fread(synGet(COUNT_ID, version=2)$path) #synapser has updated without backwards compatibility\n",
    "count$transcript_id.s. = NULL\n",
    "\n",
    "# Download gene lengths (DLPFC - MSSM)\n",
    "genelen_CMC = data.table::fread(synGet('syn17346397', version = 2)$path) %>%\n",
    "    gather(sampleID, Length, -gene_id, -`transcript_id(s)`) %>%\n",
    "    group_by(gene_id) %>%\n",
    "    summarise(Length = median(Length, na.rm = T)) %>%\n",
    "    ungroup() %>% data.frame()\n",
    "\n",
    " # Download counts (DLPFC - HBCC)\n",
    "COUNT_ID = 'syn17894685'\n",
    "count_HBCC = data.table::fread(synGet(COUNT_ID, version = 4)$path)\n",
    "count_HBCC$transcript_id.s. = NULL\n",
    "\n",
    "# Join HBCC and MSSM counts\n",
    "NEW.COUNTS = full_join(count, count_HBCC, by = c(\"gene_id\")) %>%\n",
    "    column_to_rownames(var='gene_id') %>% t %>%\n",
    "    as.data.frame %>% rownames_to_column %>% \n",
    "    filter(rowname %in% md$SampleID) %>% \n",
    "    column_to_rownames(var=\"rowname\") %>% t %>%\n",
    "    as.data.frame\n",
    "NEW.COUNTS[1:2, 1:5]"
   ]
  },
  {
   "cell_type": "code",
   "execution_count": 6,
   "metadata": {
    "execution": {
     "iopub.execute_input": "2021-07-10T14:10:41.697957Z",
     "iopub.status.busy": "2021-07-10T14:10:41.695803Z",
     "iopub.status.idle": "2021-07-10T14:10:41.718236Z",
     "shell.execute_reply": "2021-07-10T14:10:41.716438Z"
    }
   },
   "outputs": [
    {
     "data": {
      "text/html": [
       "<style>\n",
       ".list-inline {list-style: none; margin:0; padding: 0}\n",
       ".list-inline>li {display: inline-block}\n",
       ".list-inline>li:not(:last-child)::after {content: \"\\00b7\"; padding: 0 .5ex}\n",
       "</style>\n",
       "<ol class=list-inline><li>58347</li><li>858</li></ol>\n"
      ],
      "text/latex": [
       "\\begin{enumerate*}\n",
       "\\item 58347\n",
       "\\item 858\n",
       "\\end{enumerate*}\n"
      ],
      "text/markdown": [
       "1. 58347\n",
       "2. 858\n",
       "\n",
       "\n"
      ],
      "text/plain": [
       "[1] 58347   858"
      ]
     },
     "metadata": {},
     "output_type": "display_data"
    }
   ],
   "source": [
    "NEW.COUNTS %>% dim"
   ]
  },
  {
   "cell_type": "markdown",
   "metadata": {},
   "source": [
    "### CPM transformation and save"
   ]
  },
  {
   "cell_type": "code",
   "execution_count": 7,
   "metadata": {
    "execution": {
     "iopub.execute_input": "2021-07-10T14:10:41.728803Z",
     "iopub.status.busy": "2021-07-10T14:10:41.726046Z",
     "iopub.status.idle": "2021-07-10T14:10:45.722852Z",
     "shell.execute_reply": "2021-07-10T14:10:45.722063Z"
    }
   },
   "outputs": [],
   "source": [
    "edgeR::cpm(NEW.COUNTS, log=TRUE) %>% as.data.frame %>% \n",
    "    rownames_to_column %>% rename(\"Geneid\"=\"rowname\") %>%\n",
    "    data.table::fwrite(\"cmc_log2cpm.tsv\", sep='\\t')"
   ]
  },
  {
   "cell_type": "markdown",
   "metadata": {},
   "source": [
    "## Gene annotation"
   ]
  },
  {
   "cell_type": "code",
   "execution_count": 8,
   "metadata": {
    "execution": {
     "iopub.execute_input": "2021-07-10T14:10:45.728636Z",
     "iopub.status.busy": "2021-07-10T14:10:45.727258Z",
     "iopub.status.idle": "2021-07-10T14:12:35.387657Z",
     "shell.execute_reply": "2021-07-10T14:12:35.386060Z"
    }
   },
   "outputs": [],
   "source": [
    "# Get background genes \n",
    "backgroundGenes = data.frame(gene_id = rownames(NEW.COUNTS)) %>%\n",
    "  mutate(id = gene_id) %>%\n",
    "  separate(id, c('ensembl_gene_id','position'), sep = '\\\\.')\n",
    "\n",
    "# Define biomart object\n",
    "mart <- biomaRt::useMart(biomart = \"ENSEMBL_MART_ENSEMBL\",\n",
    "                host = \"uswest.ensembl.org\", # Ensembl Release 99 (January 2020)\n",
    "                dataset = \"hsapiens_gene_ensembl\")\n",
    "# Query biomart\n",
    "Ensemble2HGNC <- biomaRt::getBM(attributes = c(\"ensembl_gene_id\", \"hgnc_symbol\", \n",
    "                                      \"percentage_gene_gc_content\", \"gene_biotype\", \n",
    "                                      \"chromosome_name\"),\n",
    "                       filters = \"ensembl_gene_id\", \n",
    "                       values = backgroundGenes$ensembl_gene_id,\n",
    "                       mart = mart)"
   ]
  },
  {
   "cell_type": "code",
   "execution_count": 9,
   "metadata": {
    "execution": {
     "iopub.execute_input": "2021-07-10T14:12:35.405469Z",
     "iopub.status.busy": "2021-07-10T14:12:35.402924Z",
     "iopub.status.idle": "2021-07-10T14:12:35.466239Z",
     "shell.execute_reply": "2021-07-10T14:12:35.464959Z"
    }
   },
   "outputs": [],
   "source": [
    "backgroundGenes %>% \n",
    "    inner_join(Ensemble2HGNC, by=c(\"ensembl_gene_id\")) %>% \n",
    "    select(-c(percentage_gene_gc_content, gene_biotype, position)) %>% \n",
    "    data.table::fwrite(\"cmc_gene_annotation.tsv\", sep='\\t')"
   ]
  },
  {
   "cell_type": "markdown",
   "metadata": {},
   "source": [
    "## Repreducibility Information"
   ]
  },
  {
   "cell_type": "code",
   "execution_count": 10,
   "metadata": {
    "execution": {
     "iopub.execute_input": "2021-07-10T14:12:35.472697Z",
     "iopub.status.busy": "2021-07-10T14:12:35.471163Z",
     "iopub.status.idle": "2021-07-10T14:12:35.703370Z",
     "shell.execute_reply": "2021-07-10T14:12:35.701715Z"
    }
   },
   "outputs": [
    {
     "data": {
      "text/plain": [
       "[1] \"2021-07-10 10:12:35 EDT\""
      ]
     },
     "metadata": {},
     "output_type": "display_data"
    },
    {
     "data": {
      "text/plain": [
       "   user  system elapsed \n",
       " 56.632   6.197 153.661 "
      ]
     },
     "metadata": {},
     "output_type": "display_data"
    },
    {
     "data": {
      "text/plain": [
       "─ Session info ───────────────────────────────────────────────────────────────────────────────────────────────────────\n",
       " setting  value                       \n",
       " version  R version 4.0.3 (2020-10-10)\n",
       " os       Arch Linux                  \n",
       " system   x86_64, linux-gnu           \n",
       " ui       X11                         \n",
       " language (EN)                        \n",
       " collate  en_US.UTF-8                 \n",
       " ctype    en_US.UTF-8                 \n",
       " tz       America/New_York            \n",
       " date     2021-07-10                  \n",
       "\n",
       "─ Packages ───────────────────────────────────────────────────────────────────────────────────────────────────────────\n",
       " package        * version  date       lib source        \n",
       " AnnotationDbi    1.52.0   2020-10-27 [1] Bioconductor  \n",
       " askpass          1.1      2019-01-13 [1] CRAN (R 4.0.2)\n",
       " assertthat       0.2.1    2019-03-21 [1] CRAN (R 4.0.2)\n",
       " backports        1.2.1    2020-12-09 [1] CRAN (R 4.0.2)\n",
       " base64enc        0.1-3    2015-07-28 [1] CRAN (R 4.0.2)\n",
       " Biobase          2.50.0   2020-10-27 [1] Bioconductor  \n",
       " BiocFileCache    1.14.0   2020-10-27 [1] Bioconductor  \n",
       " BiocGenerics     0.36.1   2021-04-16 [1] Bioconductor  \n",
       " biomaRt          2.46.3   2021-02-09 [1] Bioconductor  \n",
       " bit              4.0.4    2020-08-04 [1] CRAN (R 4.0.2)\n",
       " bit64            4.0.5    2020-08-30 [1] CRAN (R 4.0.2)\n",
       " blob             1.2.1    2020-01-20 [1] CRAN (R 4.0.2)\n",
       " broom            0.7.8    2021-06-24 [1] CRAN (R 4.0.3)\n",
       " cachem           1.0.5    2021-05-15 [1] CRAN (R 4.0.3)\n",
       " cellranger       1.1.0    2016-07-27 [1] CRAN (R 4.0.2)\n",
       " cli              3.0.0    2021-06-30 [1] CRAN (R 4.0.3)\n",
       " codetools        0.2-16   2018-12-24 [2] CRAN (R 4.0.3)\n",
       " colorspace       2.0-2    2021-06-24 [1] CRAN (R 4.0.3)\n",
       " crayon           1.4.1    2021-02-08 [1] CRAN (R 4.0.3)\n",
       " curl             4.3.2    2021-06-23 [1] CRAN (R 4.0.3)\n",
       " data.table       1.14.0   2021-02-21 [1] CRAN (R 4.0.3)\n",
       " DBI              1.1.1    2021-01-15 [1] CRAN (R 4.0.2)\n",
       " dbplyr           2.1.1    2021-04-06 [1] CRAN (R 4.0.3)\n",
       " digest           0.6.27   2020-10-24 [1] CRAN (R 4.0.2)\n",
       " dplyr          * 1.0.7    2021-06-18 [1] CRAN (R 4.0.3)\n",
       " edgeR            3.32.1   2021-01-14 [1] Bioconductor  \n",
       " ellipsis         0.3.2    2021-04-29 [1] CRAN (R 4.0.3)\n",
       " evaluate         0.14     2019-05-28 [1] CRAN (R 4.0.2)\n",
       " fansi            0.5.0    2021-05-25 [1] CRAN (R 4.0.3)\n",
       " fastmap          1.1.0    2021-01-25 [1] CRAN (R 4.0.2)\n",
       " forcats        * 0.5.1    2021-01-27 [1] CRAN (R 4.0.2)\n",
       " fs               1.5.0    2020-07-31 [1] CRAN (R 4.0.2)\n",
       " generics         0.1.0    2020-10-31 [1] CRAN (R 4.0.2)\n",
       " ggplot2        * 3.3.5    2021-06-25 [1] CRAN (R 4.0.3)\n",
       " glue             1.4.2    2020-08-27 [1] CRAN (R 4.0.2)\n",
       " gtable           0.3.0    2019-03-25 [1] CRAN (R 4.0.2)\n",
       " haven            2.4.1    2021-04-23 [1] CRAN (R 4.0.3)\n",
       " hms              1.1.0    2021-05-17 [1] CRAN (R 4.0.3)\n",
       " htmltools        0.5.1.1  2021-01-22 [1] CRAN (R 4.0.2)\n",
       " httr             1.4.2    2020-07-20 [1] CRAN (R 4.0.2)\n",
       " IRanges          2.24.1   2020-12-12 [1] Bioconductor  \n",
       " IRdisplay        1.0      2021-01-20 [1] CRAN (R 4.0.2)\n",
       " IRkernel         1.2      2021-05-11 [1] CRAN (R 4.0.3)\n",
       " jsonlite         1.7.2    2020-12-09 [1] CRAN (R 4.0.2)\n",
       " lattice          0.20-41  2020-04-02 [2] CRAN (R 4.0.3)\n",
       " lifecycle        1.0.0    2021-02-15 [1] CRAN (R 4.0.3)\n",
       " limma            3.46.0   2020-10-27 [1] Bioconductor  \n",
       " locfit           1.5-9.4  2020-03-25 [1] CRAN (R 4.0.2)\n",
       " lubridate        1.7.10   2021-02-26 [1] CRAN (R 4.0.3)\n",
       " magrittr         2.0.1    2020-11-17 [1] CRAN (R 4.0.2)\n",
       " memoise          2.0.0    2021-01-26 [1] CRAN (R 4.0.2)\n",
       " modelr           0.1.8    2020-05-19 [1] CRAN (R 4.0.2)\n",
       " munsell          0.5.0    2018-06-12 [1] CRAN (R 4.0.2)\n",
       " openssl          1.4.4    2021-04-30 [1] CRAN (R 4.0.3)\n",
       " pack             0.1-1    2021-02-23 [1] local         \n",
       " pbdZMQ           0.3-5    2021-02-10 [1] CRAN (R 4.0.3)\n",
       " pillar           1.6.1    2021-05-16 [1] CRAN (R 4.0.3)\n",
       " pkgconfig        2.0.3    2019-09-22 [1] CRAN (R 4.0.2)\n",
       " prettyunits      1.1.1    2020-01-24 [1] CRAN (R 4.0.2)\n",
       " progress         1.2.2    2019-05-16 [1] CRAN (R 4.0.2)\n",
       " purrr          * 0.3.4    2020-04-17 [1] CRAN (R 4.0.2)\n",
       " PythonEmbedInR   0.6.76   2021-02-23 [1] local         \n",
       " R6               2.5.0    2020-10-28 [1] CRAN (R 4.0.2)\n",
       " rappdirs         0.3.3    2021-01-31 [1] CRAN (R 4.0.2)\n",
       " Rcpp             1.0.7    2021-07-07 [1] CRAN (R 4.0.3)\n",
       " readr          * 1.4.0    2020-10-05 [1] CRAN (R 4.0.2)\n",
       " readxl           1.3.1    2019-03-13 [1] CRAN (R 4.0.2)\n",
       " repr             1.1.3    2021-01-21 [1] CRAN (R 4.0.2)\n",
       " reprex           2.0.0    2021-04-02 [1] CRAN (R 4.0.3)\n",
       " rlang            0.4.11   2021-04-30 [1] CRAN (R 4.0.3)\n",
       " RSQLite          2.2.7    2021-04-22 [1] CRAN (R 4.0.3)\n",
       " rstudioapi       0.13     2020-11-12 [1] CRAN (R 4.0.2)\n",
       " rvest            1.0.0    2021-03-09 [1] CRAN (R 4.0.3)\n",
       " S4Vectors        0.28.1   2020-12-09 [1] Bioconductor  \n",
       " scales           1.1.1    2020-05-11 [1] CRAN (R 4.0.2)\n",
       " sessioninfo      1.1.1    2018-11-05 [1] CRAN (R 4.0.2)\n",
       " stringi          1.6.2    2021-05-17 [1] CRAN (R 4.0.3)\n",
       " stringr        * 1.4.0    2019-02-10 [1] CRAN (R 4.0.2)\n",
       " synapser       * 0.9.77   2021-02-23 [1] local         \n",
       " tibble         * 3.1.2    2021-05-16 [1] CRAN (R 4.0.3)\n",
       " tidyr          * 1.1.3    2021-03-03 [1] CRAN (R 4.0.3)\n",
       " tidyselect       1.1.1    2021-04-30 [1] CRAN (R 4.0.3)\n",
       " tidyverse      * 1.3.1    2021-04-15 [1] CRAN (R 4.0.3)\n",
       " utf8             1.2.1    2021-03-12 [1] CRAN (R 4.0.3)\n",
       " uuid             0.1-4    2020-02-26 [1] CRAN (R 4.0.2)\n",
       " vctrs            0.3.8    2021-04-29 [1] CRAN (R 4.0.3)\n",
       " withr            2.4.2    2021-04-18 [1] CRAN (R 4.0.3)\n",
       " XML              3.99-0.6 2021-03-16 [1] CRAN (R 4.0.3)\n",
       " xml2             1.3.2    2020-04-23 [1] CRAN (R 4.0.2)\n",
       "\n",
       "[1] /home/jbenja13/R/x86_64-pc-linux-gnu-library/4.0\n",
       "[2] /usr/lib/R/library"
      ]
     },
     "metadata": {},
     "output_type": "display_data"
    }
   ],
   "source": [
    "Sys.time()\n",
    "proc.time()\n",
    "options(width = 120)\n",
    "sessioninfo::session_info()"
   ]
  },
  {
   "cell_type": "code",
   "execution_count": null,
   "metadata": {},
   "outputs": [],
   "source": []
  }
 ],
 "metadata": {
  "kernelspec": {
   "display_name": "R",
   "language": "R",
   "name": "ir"
  },
  "language_info": {
   "codemirror_mode": "r",
   "file_extension": ".r",
   "mimetype": "text/x-r-source",
   "name": "R",
   "pygments_lexer": "r",
   "version": "4.0.3"
  }
 },
 "nbformat": 4,
 "nbformat_minor": 4
}
