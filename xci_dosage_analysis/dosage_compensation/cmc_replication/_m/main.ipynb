{
 "cells": [
  {
   "cell_type": "markdown",
   "metadata": {},
   "source": [
    "# Calculate RXE for public dataset, females only based on Apua's script"
   ]
  },
  {
   "cell_type": "code",
   "execution_count": 1,
   "metadata": {
    "execution": {
     "iopub.execute_input": "2021-07-10T14:12:51.030441Z",
     "iopub.status.busy": "2021-07-10T14:12:51.029697Z",
     "iopub.status.idle": "2021-07-10T14:12:53.113107Z",
     "shell.execute_reply": "2021-07-10T14:12:53.112323Z"
    }
   },
   "outputs": [],
   "source": [
    "import re\n",
    "import functools\n",
    "import numpy as np\n",
    "import pandas as pd\n",
    "from os import environ\n",
    "from plotnine import *\n",
    "from scipy.stats import variation\n",
    "from warnings import filterwarnings\n",
    "from scipy.stats import mannwhitneyu\n",
    "from matplotlib.cbook import mplDeprecation"
   ]
  },
  {
   "cell_type": "code",
   "execution_count": 2,
   "metadata": {
    "execution": {
     "iopub.execute_input": "2021-07-10T14:12:53.117804Z",
     "iopub.status.busy": "2021-07-10T14:12:53.117232Z",
     "iopub.status.idle": "2021-07-10T14:12:53.119787Z",
     "shell.execute_reply": "2021-07-10T14:12:53.119158Z"
    }
   },
   "outputs": [],
   "source": [
    "filterwarnings(\"ignore\",category=mplDeprecation)\n",
    "filterwarnings('ignore', category=UserWarning, module='plotnine.*')\n",
    "filterwarnings('ignore', category=DeprecationWarning, module='plotnine.*')"
   ]
  },
  {
   "cell_type": "code",
   "execution_count": 3,
   "metadata": {
    "execution": {
     "iopub.execute_input": "2021-07-10T14:12:53.124108Z",
     "iopub.status.busy": "2021-07-10T14:12:53.123492Z",
     "iopub.status.idle": "2021-07-10T14:12:53.125954Z",
     "shell.execute_reply": "2021-07-10T14:12:53.125342Z"
    }
   },
   "outputs": [],
   "source": [
    "environ['NUMEXPR_MAX_THREADS'] = '10'"
   ]
  },
  {
   "cell_type": "code",
   "execution_count": 4,
   "metadata": {
    "execution": {
     "iopub.execute_input": "2021-07-10T14:12:53.130559Z",
     "iopub.status.busy": "2021-07-10T14:12:53.129557Z",
     "iopub.status.idle": "2021-07-10T14:12:53.131648Z",
     "shell.execute_reply": "2021-07-10T14:12:53.132506Z"
    }
   },
   "outputs": [],
   "source": [
    "config = {\n",
    "    'pheno_file': 'cmc_phenotypes.csv',\n",
    "    'cpm_file': 'cmc_log2tpm.tsv',\n",
    "    'tpm_file': '/ceph/users/jbenja13/projects/sex_sz_ria/input/commonMind/counts/gene_tpm/_m/log2tpm.csv',\n",
    "    'annot_file': 'cmc_gene_annotation.tsv',\n",
    "}"
   ]
  },
  {
   "cell_type": "code",
   "execution_count": 5,
   "metadata": {
    "execution": {
     "iopub.execute_input": "2021-07-10T14:12:53.137194Z",
     "iopub.status.busy": "2021-07-10T14:12:53.136610Z",
     "iopub.status.idle": "2021-07-10T14:12:53.138903Z",
     "shell.execute_reply": "2021-07-10T14:12:53.138283Z"
    }
   },
   "outputs": [],
   "source": [
    "@functools.lru_cache()\n",
    "def get_pheno():\n",
    "    return pd.read_csv(config['pheno_file'], index_col=0)\n",
    "\n",
    "\n",
    "@functools.lru_cache()\n",
    "def get_annotation():\n",
    "    return pd.read_csv(config['annot_file'], index_col=0, sep='\\t')\n"
   ]
  },
  {
   "cell_type": "code",
   "execution_count": 6,
   "metadata": {
    "execution": {
     "iopub.execute_input": "2021-07-10T14:12:53.143744Z",
     "iopub.status.busy": "2021-07-10T14:12:53.143126Z",
     "iopub.status.idle": "2021-07-10T14:12:53.145519Z",
     "shell.execute_reply": "2021-07-10T14:12:53.145019Z"
    }
   },
   "outputs": [],
   "source": [
    "def chrom_type(chrom):\n",
    "    if chrom=='X':\n",
    "        return 'X'\n",
    "    elif re.search('^\\d+', chrom):\n",
    "        return 'autosome'\n",
    "    else:\n",
    "        return 'other'\n",
    "    \n",
    "    \n",
    "def save_ggplot(p, fn):\n",
    "    for ext in ['.pdf', '.png', '.svg']:\n",
    "        p.save(fn+ext, width=10, height=7)\n"
   ]
  },
  {
   "cell_type": "code",
   "execution_count": 7,
   "metadata": {
    "execution": {
     "iopub.execute_input": "2021-07-10T14:12:53.150303Z",
     "iopub.status.busy": "2021-07-10T14:12:53.149725Z",
     "iopub.status.idle": "2021-07-10T14:12:53.273681Z",
     "shell.execute_reply": "2021-07-10T14:12:53.273015Z"
    }
   },
   "outputs": [
    {
     "data": {
      "text/html": [
       "<div>\n",
       "<style scoped>\n",
       "    .dataframe tbody tr th:only-of-type {\n",
       "        vertical-align: middle;\n",
       "    }\n",
       "\n",
       "    .dataframe tbody tr th {\n",
       "        vertical-align: top;\n",
       "    }\n",
       "\n",
       "    .dataframe thead th {\n",
       "        text-align: right;\n",
       "    }\n",
       "</style>\n",
       "<table border=\"1\" class=\"dataframe\">\n",
       "  <thead>\n",
       "    <tr style=\"text-align: right;\">\n",
       "      <th></th>\n",
       "      <th>ensembl_gene_id</th>\n",
       "      <th>hgnc_symbol</th>\n",
       "      <th>chromosome_name</th>\n",
       "    </tr>\n",
       "    <tr>\n",
       "      <th>gene_id</th>\n",
       "      <th></th>\n",
       "      <th></th>\n",
       "      <th></th>\n",
       "    </tr>\n",
       "  </thead>\n",
       "  <tbody>\n",
       "    <tr>\n",
       "      <th>ENSG00000000003.14</th>\n",
       "      <td>ENSG00000000003</td>\n",
       "      <td>TSPAN6</td>\n",
       "      <td>X</td>\n",
       "    </tr>\n",
       "    <tr>\n",
       "      <th>ENSG00000000005.5</th>\n",
       "      <td>ENSG00000000005</td>\n",
       "      <td>TNMD</td>\n",
       "      <td>X</td>\n",
       "    </tr>\n",
       "  </tbody>\n",
       "</table>\n",
       "</div>"
      ],
      "text/plain": [
       "                    ensembl_gene_id hgnc_symbol chromosome_name\n",
       "gene_id                                                        \n",
       "ENSG00000000003.14  ENSG00000000003      TSPAN6               X\n",
       "ENSG00000000005.5   ENSG00000000005        TNMD               X"
      ]
     },
     "execution_count": 1,
     "metadata": {},
     "output_type": "execute_result"
    }
   ],
   "source": [
    "gene_annot = get_annotation()\n",
    "gene_annot.head(2)"
   ]
  },
  {
   "cell_type": "code",
   "execution_count": 8,
   "metadata": {
    "execution": {
     "iopub.execute_input": "2021-07-10T14:12:53.278814Z",
     "iopub.status.busy": "2021-07-10T14:12:53.278061Z",
     "iopub.status.idle": "2021-07-10T14:12:53.282221Z",
     "shell.execute_reply": "2021-07-10T14:12:53.281569Z"
    }
   },
   "outputs": [
    {
     "data": {
      "text/plain": [
       "(57765, 3)"
      ]
     },
     "execution_count": 1,
     "metadata": {},
     "output_type": "execute_result"
    }
   ],
   "source": [
    "gene_annot.shape"
   ]
  },
  {
   "cell_type": "code",
   "execution_count": 9,
   "metadata": {
    "execution": {
     "iopub.execute_input": "2021-07-10T14:12:53.288823Z",
     "iopub.status.busy": "2021-07-10T14:12:53.288166Z",
     "iopub.status.idle": "2021-07-10T14:12:59.670067Z",
     "shell.execute_reply": "2021-07-10T14:12:59.670901Z"
    }
   },
   "outputs": [
    {
     "data": {
      "text/html": [
       "<div>\n",
       "<style scoped>\n",
       "    .dataframe tbody tr th:only-of-type {\n",
       "        vertical-align: middle;\n",
       "    }\n",
       "\n",
       "    .dataframe tbody tr th {\n",
       "        vertical-align: top;\n",
       "    }\n",
       "\n",
       "    .dataframe thead th {\n",
       "        text-align: right;\n",
       "    }\n",
       "</style>\n",
       "<table border=\"1\" class=\"dataframe\">\n",
       "  <thead>\n",
       "    <tr style=\"text-align: right;\">\n",
       "      <th></th>\n",
       "      <th>MSSM_RNA_BP_PFC_2</th>\n",
       "      <th>MSSM_RNA_BP_PFC_4</th>\n",
       "      <th>MSSM_RNA_BP_PFC_5</th>\n",
       "      <th>MSSM_RNA_BP_PFC_6</th>\n",
       "      <th>MSSM_RNA_BP_PFC_7</th>\n",
       "    </tr>\n",
       "    <tr>\n",
       "      <th>gene_id</th>\n",
       "      <th></th>\n",
       "      <th></th>\n",
       "      <th></th>\n",
       "      <th></th>\n",
       "      <th></th>\n",
       "    </tr>\n",
       "  </thead>\n",
       "  <tbody>\n",
       "    <tr>\n",
       "      <th>ENSG00000000003.14</th>\n",
       "      <td>1.927755</td>\n",
       "      <td>1.341998</td>\n",
       "      <td>1.531728</td>\n",
       "      <td>1.565244</td>\n",
       "      <td>2.178456</td>\n",
       "    </tr>\n",
       "    <tr>\n",
       "      <th>ENSG00000000005.5</th>\n",
       "      <td>0.089456</td>\n",
       "      <td>0.036288</td>\n",
       "      <td>0.030684</td>\n",
       "      <td>0.088621</td>\n",
       "      <td>0.235076</td>\n",
       "    </tr>\n",
       "  </tbody>\n",
       "</table>\n",
       "</div>"
      ],
      "text/plain": [
       "                    MSSM_RNA_BP_PFC_2  MSSM_RNA_BP_PFC_4  MSSM_RNA_BP_PFC_5  \\\n",
       "gene_id                                                                       \n",
       "ENSG00000000003.14           1.927755           1.341998           1.531728   \n",
       "ENSG00000000005.5            0.089456           0.036288           0.030684   \n",
       "\n",
       "                    MSSM_RNA_BP_PFC_6  MSSM_RNA_BP_PFC_7  \n",
       "gene_id                                                   \n",
       "ENSG00000000003.14           1.565244           2.178456  \n",
       "ENSG00000000005.5            0.088621           0.235076  "
      ]
     },
     "execution_count": 1,
     "metadata": {},
     "output_type": "execute_result"
    }
   ],
   "source": [
    "log2tpm = pd.read_csv(config['tpm_file'], index_col=0, sep=',', engine='c')\n",
    "log2tpm.iloc[0:2, 0:5]"
   ]
  },
  {
   "cell_type": "code",
   "execution_count": 10,
   "metadata": {
    "execution": {
     "iopub.execute_input": "2021-07-10T14:12:59.676538Z",
     "iopub.status.busy": "2021-07-10T14:12:59.675685Z",
     "iopub.status.idle": "2021-07-10T14:12:59.679553Z",
     "shell.execute_reply": "2021-07-10T14:12:59.678684Z"
    }
   },
   "outputs": [
    {
     "data": {
      "text/plain": [
       "(50689, 606)"
      ]
     },
     "execution_count": 1,
     "metadata": {},
     "output_type": "execute_result"
    }
   ],
   "source": [
    "log2tpm.shape"
   ]
  },
  {
   "cell_type": "code",
   "execution_count": 11,
   "metadata": {
    "execution": {
     "iopub.execute_input": "2021-07-10T14:12:59.708947Z",
     "iopub.status.busy": "2021-07-10T14:12:59.703269Z",
     "iopub.status.idle": "2021-07-10T14:12:59.908118Z",
     "shell.execute_reply": "2021-07-10T14:12:59.907424Z"
    }
   },
   "outputs": [
    {
     "data": {
      "text/plain": [
       "(50097, 609)"
      ]
     },
     "execution_count": 1,
     "metadata": {},
     "output_type": "execute_result"
    }
   ],
   "source": [
    "df0 = gene_annot.merge(log2tpm, right_index=True, left_index=True).drop_duplicates(subset=['ensembl_gene_id'])\n",
    "df0.shape"
   ]
  },
  {
   "cell_type": "code",
   "execution_count": 12,
   "metadata": {
    "execution": {
     "iopub.execute_input": "2021-07-10T14:12:59.911993Z",
     "iopub.status.busy": "2021-07-10T14:12:59.911431Z",
     "iopub.status.idle": "2021-07-10T14:12:59.979106Z",
     "shell.execute_reply": "2021-07-10T14:12:59.978437Z"
    }
   },
   "outputs": [
    {
     "data": {
      "text/plain": [
       "(50097, 610)"
      ]
     },
     "execution_count": 1,
     "metadata": {},
     "output_type": "execute_result"
    }
   ],
   "source": [
    "df0['chrom_type'] = df0['chromosome_name'].apply(chrom_type)\n",
    "df0.shape"
   ]
  },
  {
   "cell_type": "code",
   "execution_count": 13,
   "metadata": {
    "execution": {
     "iopub.execute_input": "2021-07-10T14:12:59.987387Z",
     "iopub.status.busy": "2021-07-10T14:12:59.985900Z",
     "iopub.status.idle": "2021-07-10T14:12:59.994177Z",
     "shell.execute_reply": "2021-07-10T14:12:59.992929Z"
    }
   },
   "outputs": [
    {
     "data": {
      "text/plain": [
       "chrom_type\n",
       "X            1970\n",
       "autosome    47618\n",
       "other         509\n",
       "dtype: int64"
      ]
     },
     "execution_count": 1,
     "metadata": {},
     "output_type": "execute_result"
    }
   ],
   "source": [
    "df0.groupby('chrom_type').size()"
   ]
  },
  {
   "cell_type": "code",
   "execution_count": 14,
   "metadata": {
    "execution": {
     "iopub.execute_input": "2021-07-10T14:13:00.002005Z",
     "iopub.status.busy": "2021-07-10T14:13:00.000404Z",
     "iopub.status.idle": "2021-07-10T14:13:00.384129Z",
     "shell.execute_reply": "2021-07-10T14:13:00.383456Z"
    }
   },
   "outputs": [
    {
     "data": {
      "text/html": [
       "<div>\n",
       "<style scoped>\n",
       "    .dataframe tbody tr th:only-of-type {\n",
       "        vertical-align: middle;\n",
       "    }\n",
       "\n",
       "    .dataframe tbody tr th {\n",
       "        vertical-align: top;\n",
       "    }\n",
       "\n",
       "    .dataframe thead th {\n",
       "        text-align: right;\n",
       "    }\n",
       "</style>\n",
       "<table border=\"1\" class=\"dataframe\">\n",
       "  <thead>\n",
       "    <tr style=\"text-align: right;\">\n",
       "      <th>chrom_type</th>\n",
       "      <th>X</th>\n",
       "      <th>autosome</th>\n",
       "      <th>sample</th>\n",
       "      <th>RXE</th>\n",
       "    </tr>\n",
       "  </thead>\n",
       "  <tbody>\n",
       "    <tr>\n",
       "      <th>MSSM_RNA_BP_PFC_2</th>\n",
       "      <td>2.200941</td>\n",
       "      <td>2.124278</td>\n",
       "      <td>MSSM_RNA_BP_PFC_2</td>\n",
       "      <td>0.076663</td>\n",
       "    </tr>\n",
       "    <tr>\n",
       "      <th>MSSM_RNA_BP_PFC_4</th>\n",
       "      <td>1.666506</td>\n",
       "      <td>1.628365</td>\n",
       "      <td>MSSM_RNA_BP_PFC_4</td>\n",
       "      <td>0.038141</td>\n",
       "    </tr>\n",
       "  </tbody>\n",
       "</table>\n",
       "</div>"
      ],
      "text/plain": [
       "chrom_type                X  autosome             sample       RXE\n",
       "MSSM_RNA_BP_PFC_2  2.200941  2.124278  MSSM_RNA_BP_PFC_2  0.076663\n",
       "MSSM_RNA_BP_PFC_4  1.666506  1.628365  MSSM_RNA_BP_PFC_4  0.038141"
      ]
     },
     "execution_count": 1,
     "metadata": {},
     "output_type": "execute_result"
    }
   ],
   "source": [
    "samples = np.array(log2tpm.columns[log2tpm.columns.str.contains(\"RNA|CMC\", regex=True)])\n",
    "df = df0[(df0[samples].sum(axis=1) >= 0.2 * len(samples)) & (df0['chrom_type'] != 'other')]\n",
    "df1  = df.groupby('chrom_type').mean().transpose()\n",
    "df1['sample'] = df1.index\n",
    "df1['RXE'] = df1['X'] - df1['autosome']\n",
    "df1.head(2)"
   ]
  },
  {
   "cell_type": "code",
   "execution_count": 15,
   "metadata": {
    "execution": {
     "iopub.execute_input": "2021-07-10T14:13:00.388855Z",
     "iopub.status.busy": "2021-07-10T14:13:00.388266Z",
     "iopub.status.idle": "2021-07-10T14:13:00.407218Z",
     "shell.execute_reply": "2021-07-10T14:13:00.407824Z"
    }
   },
   "outputs": [
    {
     "data": {
      "text/html": [
       "<div>\n",
       "<style scoped>\n",
       "    .dataframe tbody tr th:only-of-type {\n",
       "        vertical-align: middle;\n",
       "    }\n",
       "\n",
       "    .dataframe tbody tr th {\n",
       "        vertical-align: top;\n",
       "    }\n",
       "\n",
       "    .dataframe thead th {\n",
       "        text-align: right;\n",
       "    }\n",
       "</style>\n",
       "<table border=\"1\" class=\"dataframe\">\n",
       "  <thead>\n",
       "    <tr style=\"text-align: right;\">\n",
       "      <th></th>\n",
       "      <th>X</th>\n",
       "      <th>autosome</th>\n",
       "      <th>sample</th>\n",
       "      <th>RXE</th>\n",
       "      <th>Individual_ID</th>\n",
       "      <th>Institution</th>\n",
       "      <th>Reported_Gender</th>\n",
       "      <th>Dx</th>\n",
       "      <th>Age_of_Death</th>\n",
       "    </tr>\n",
       "  </thead>\n",
       "  <tbody>\n",
       "    <tr>\n",
       "      <th>MSSM_RNA_PFC_1</th>\n",
       "      <td>2.594985</td>\n",
       "      <td>2.529523</td>\n",
       "      <td>MSSM_RNA_PFC_1</td>\n",
       "      <td>0.065462</td>\n",
       "      <td>CMC_MSSM_025</td>\n",
       "      <td>MSSM</td>\n",
       "      <td>Male</td>\n",
       "      <td>SCZ</td>\n",
       "      <td>68.0</td>\n",
       "    </tr>\n",
       "    <tr>\n",
       "      <th>MSSM_RNA_PFC_2</th>\n",
       "      <td>2.672613</td>\n",
       "      <td>2.594684</td>\n",
       "      <td>MSSM_RNA_PFC_2</td>\n",
       "      <td>0.077929</td>\n",
       "      <td>CMC_MSSM_136</td>\n",
       "      <td>MSSM</td>\n",
       "      <td>Male</td>\n",
       "      <td>Control</td>\n",
       "      <td>76.0</td>\n",
       "    </tr>\n",
       "  </tbody>\n",
       "</table>\n",
       "</div>"
      ],
      "text/plain": [
       "                       X  autosome          sample       RXE Individual_ID  \\\n",
       "MSSM_RNA_PFC_1  2.594985  2.529523  MSSM_RNA_PFC_1  0.065462  CMC_MSSM_025   \n",
       "MSSM_RNA_PFC_2  2.672613  2.594684  MSSM_RNA_PFC_2  0.077929  CMC_MSSM_136   \n",
       "\n",
       "               Institution Reported_Gender       Dx  Age_of_Death  \n",
       "MSSM_RNA_PFC_1        MSSM            Male      SCZ          68.0  \n",
       "MSSM_RNA_PFC_2        MSSM            Male  Control          76.0  "
      ]
     },
     "execution_count": 1,
     "metadata": {},
     "output_type": "execute_result"
    }
   ],
   "source": [
    "df2 = df1.merge(get_pheno(), left_index=True, right_index=True)\n",
    "df2.head(2)"
   ]
  },
  {
   "cell_type": "code",
   "execution_count": 16,
   "metadata": {
    "execution": {
     "iopub.execute_input": "2021-07-10T14:13:00.415722Z",
     "iopub.status.busy": "2021-07-10T14:13:00.414855Z",
     "iopub.status.idle": "2021-07-10T14:13:00.465003Z",
     "shell.execute_reply": "2021-07-10T14:13:00.464163Z"
    }
   },
   "outputs": [
    {
     "data": {
      "text/html": [
       "<div>\n",
       "<style scoped>\n",
       "    .dataframe tbody tr th:only-of-type {\n",
       "        vertical-align: middle;\n",
       "    }\n",
       "\n",
       "    .dataframe tbody tr th {\n",
       "        vertical-align: top;\n",
       "    }\n",
       "\n",
       "    .dataframe thead tr th {\n",
       "        text-align: left;\n",
       "    }\n",
       "\n",
       "    .dataframe thead tr:last-of-type th {\n",
       "        text-align: right;\n",
       "    }\n",
       "</style>\n",
       "<table border=\"1\" class=\"dataframe\">\n",
       "  <thead>\n",
       "    <tr>\n",
       "      <th></th>\n",
       "      <th></th>\n",
       "      <th colspan=\"8\" halign=\"left\">RXE</th>\n",
       "    </tr>\n",
       "    <tr>\n",
       "      <th></th>\n",
       "      <th></th>\n",
       "      <th>count</th>\n",
       "      <th>mean</th>\n",
       "      <th>std</th>\n",
       "      <th>min</th>\n",
       "      <th>25%</th>\n",
       "      <th>50%</th>\n",
       "      <th>75%</th>\n",
       "      <th>max</th>\n",
       "    </tr>\n",
       "    <tr>\n",
       "      <th>Institution</th>\n",
       "      <th>Reported_Gender</th>\n",
       "      <th></th>\n",
       "      <th></th>\n",
       "      <th></th>\n",
       "      <th></th>\n",
       "      <th></th>\n",
       "      <th></th>\n",
       "      <th></th>\n",
       "      <th></th>\n",
       "    </tr>\n",
       "  </thead>\n",
       "  <tbody>\n",
       "    <tr>\n",
       "      <th rowspan=\"2\" valign=\"top\">MSSM</th>\n",
       "      <th>Female</th>\n",
       "      <td>126.0</td>\n",
       "      <td>0.065413</td>\n",
       "      <td>0.067790</td>\n",
       "      <td>-0.090430</td>\n",
       "      <td>0.012126</td>\n",
       "      <td>0.077704</td>\n",
       "      <td>0.109618</td>\n",
       "      <td>0.255605</td>\n",
       "    </tr>\n",
       "    <tr>\n",
       "      <th>Male</th>\n",
       "      <td>181.0</td>\n",
       "      <td>0.058109</td>\n",
       "      <td>0.061735</td>\n",
       "      <td>-0.122148</td>\n",
       "      <td>0.028566</td>\n",
       "      <td>0.071640</td>\n",
       "      <td>0.100297</td>\n",
       "      <td>0.192727</td>\n",
       "    </tr>\n",
       "    <tr>\n",
       "      <th rowspan=\"2\" valign=\"top\">Penn</th>\n",
       "      <th>Female</th>\n",
       "      <td>54.0</td>\n",
       "      <td>0.089080</td>\n",
       "      <td>0.050252</td>\n",
       "      <td>-0.061299</td>\n",
       "      <td>0.057125</td>\n",
       "      <td>0.088885</td>\n",
       "      <td>0.118559</td>\n",
       "      <td>0.238989</td>\n",
       "    </tr>\n",
       "    <tr>\n",
       "      <th>Male</th>\n",
       "      <td>40.0</td>\n",
       "      <td>0.087665</td>\n",
       "      <td>0.060816</td>\n",
       "      <td>-0.053713</td>\n",
       "      <td>0.051894</td>\n",
       "      <td>0.090865</td>\n",
       "      <td>0.115655</td>\n",
       "      <td>0.243992</td>\n",
       "    </tr>\n",
       "    <tr>\n",
       "      <th rowspan=\"2\" valign=\"top\">Pitt</th>\n",
       "      <th>Female</th>\n",
       "      <td>41.0</td>\n",
       "      <td>0.097466</td>\n",
       "      <td>0.031784</td>\n",
       "      <td>0.035957</td>\n",
       "      <td>0.074324</td>\n",
       "      <td>0.096307</td>\n",
       "      <td>0.126792</td>\n",
       "      <td>0.157051</td>\n",
       "    </tr>\n",
       "    <tr>\n",
       "      <th>Male</th>\n",
       "      <td>106.0</td>\n",
       "      <td>0.088188</td>\n",
       "      <td>0.038642</td>\n",
       "      <td>0.013731</td>\n",
       "      <td>0.061899</td>\n",
       "      <td>0.085425</td>\n",
       "      <td>0.115341</td>\n",
       "      <td>0.186669</td>\n",
       "    </tr>\n",
       "  </tbody>\n",
       "</table>\n",
       "</div>"
      ],
      "text/plain": [
       "                               RXE                                          \\\n",
       "                             count      mean       std       min       25%   \n",
       "Institution Reported_Gender                                                  \n",
       "MSSM        Female           126.0  0.065413  0.067790 -0.090430  0.012126   \n",
       "            Male             181.0  0.058109  0.061735 -0.122148  0.028566   \n",
       "Penn        Female            54.0  0.089080  0.050252 -0.061299  0.057125   \n",
       "            Male              40.0  0.087665  0.060816 -0.053713  0.051894   \n",
       "Pitt        Female            41.0  0.097466  0.031784  0.035957  0.074324   \n",
       "            Male             106.0  0.088188  0.038642  0.013731  0.061899   \n",
       "\n",
       "                                                           \n",
       "                                  50%       75%       max  \n",
       "Institution Reported_Gender                                \n",
       "MSSM        Female           0.077704  0.109618  0.255605  \n",
       "            Male             0.071640  0.100297  0.192727  \n",
       "Penn        Female           0.088885  0.118559  0.238989  \n",
       "            Male             0.090865  0.115655  0.243992  \n",
       "Pitt        Female           0.096307  0.126792  0.157051  \n",
       "            Male             0.085425  0.115341  0.186669  "
      ]
     },
     "execution_count": 1,
     "metadata": {},
     "output_type": "execute_result"
    }
   ],
   "source": [
    "df2.loc[:, ['Reported_Gender', 'Institution', 'RXE']].groupby([\"Institution\", 'Reported_Gender']).describe()"
   ]
  },
  {
   "cell_type": "code",
   "execution_count": 17,
   "metadata": {
    "execution": {
     "iopub.execute_input": "2021-07-10T14:13:00.477451Z",
     "iopub.status.busy": "2021-07-10T14:13:00.471593Z",
     "iopub.status.idle": "2021-07-10T14:13:00.481719Z",
     "shell.execute_reply": "2021-07-10T14:13:00.480781Z"
    }
   },
   "outputs": [
    {
     "name": "stdout",
     "output_type": "stream",
     "text": [
      "There is 1.032 variation for Female in MSSM.\n",
      "There is 1.059 variation for Male in MSSM.\n",
      "There is 0.559 variation for Female in Penn.\n",
      "There is 0.685 variation for Male in Penn.\n",
      "There is 0.322 variation for Female in Pitt.\n",
      "There is 0.436 variation for Male in Pitt.\n"
     ]
    }
   ],
   "source": [
    "for institution in df2.Institution.unique():\n",
    "    for sex in [\"Female\", \"Male\"]:\n",
    "        var = variation(df2[(df2['Institution']==institution) & \n",
    "                            (df2['Reported_Gender']==sex)].RXE)\n",
    "        print(\"There is %.3f variation for %s in %s.\" % (var, sex, institution))"
   ]
  },
  {
   "cell_type": "code",
   "execution_count": 18,
   "metadata": {
    "execution": {
     "iopub.execute_input": "2021-07-10T14:13:00.491813Z",
     "iopub.status.busy": "2021-07-10T14:13:00.488411Z",
     "iopub.status.idle": "2021-07-10T14:13:00.514204Z",
     "shell.execute_reply": "2021-07-10T14:13:00.513533Z"
    }
   },
   "outputs": [
    {
     "data": {
      "text/html": [
       "<div>\n",
       "<style scoped>\n",
       "    .dataframe tbody tr th:only-of-type {\n",
       "        vertical-align: middle;\n",
       "    }\n",
       "\n",
       "    .dataframe tbody tr th {\n",
       "        vertical-align: top;\n",
       "    }\n",
       "\n",
       "    .dataframe thead tr th {\n",
       "        text-align: left;\n",
       "    }\n",
       "\n",
       "    .dataframe thead tr:last-of-type th {\n",
       "        text-align: right;\n",
       "    }\n",
       "</style>\n",
       "<table border=\"1\" class=\"dataframe\">\n",
       "  <thead>\n",
       "    <tr>\n",
       "      <th></th>\n",
       "      <th colspan=\"8\" halign=\"left\">RXE</th>\n",
       "    </tr>\n",
       "    <tr>\n",
       "      <th></th>\n",
       "      <th>count</th>\n",
       "      <th>mean</th>\n",
       "      <th>std</th>\n",
       "      <th>min</th>\n",
       "      <th>25%</th>\n",
       "      <th>50%</th>\n",
       "      <th>75%</th>\n",
       "      <th>max</th>\n",
       "    </tr>\n",
       "    <tr>\n",
       "      <th>Reported_Gender</th>\n",
       "      <th></th>\n",
       "      <th></th>\n",
       "      <th></th>\n",
       "      <th></th>\n",
       "      <th></th>\n",
       "      <th></th>\n",
       "      <th></th>\n",
       "      <th></th>\n",
       "    </tr>\n",
       "  </thead>\n",
       "  <tbody>\n",
       "    <tr>\n",
       "      <th>Female</th>\n",
       "      <td>221.0</td>\n",
       "      <td>0.077142</td>\n",
       "      <td>0.059949</td>\n",
       "      <td>-0.090430</td>\n",
       "      <td>0.047601</td>\n",
       "      <td>0.085898</td>\n",
       "      <td>0.113375</td>\n",
       "      <td>0.255605</td>\n",
       "    </tr>\n",
       "    <tr>\n",
       "      <th>Male</th>\n",
       "      <td>327.0</td>\n",
       "      <td>0.071475</td>\n",
       "      <td>0.057008</td>\n",
       "      <td>-0.122148</td>\n",
       "      <td>0.044566</td>\n",
       "      <td>0.077639</td>\n",
       "      <td>0.106715</td>\n",
       "      <td>0.243992</td>\n",
       "    </tr>\n",
       "  </tbody>\n",
       "</table>\n",
       "</div>"
      ],
      "text/plain": [
       "                   RXE                                                    \\\n",
       "                 count      mean       std       min       25%       50%   \n",
       "Reported_Gender                                                            \n",
       "Female           221.0  0.077142  0.059949 -0.090430  0.047601  0.085898   \n",
       "Male             327.0  0.071475  0.057008 -0.122148  0.044566  0.077639   \n",
       "\n",
       "                                     \n",
       "                      75%       max  \n",
       "Reported_Gender                      \n",
       "Female           0.113375  0.255605  \n",
       "Male             0.106715  0.243992  "
      ]
     },
     "execution_count": 1,
     "metadata": {},
     "output_type": "execute_result"
    }
   ],
   "source": [
    "df2.loc[:, ['Reported_Gender', 'Institution', 'RXE']].groupby(['Reported_Gender']).describe()"
   ]
  },
  {
   "cell_type": "code",
   "execution_count": 19,
   "metadata": {
    "execution": {
     "iopub.execute_input": "2021-07-10T14:13:00.520769Z",
     "iopub.status.busy": "2021-07-10T14:13:00.520150Z",
     "iopub.status.idle": "2021-07-10T14:13:00.523436Z",
     "shell.execute_reply": "2021-07-10T14:13:00.522901Z"
    }
   },
   "outputs": [
    {
     "name": "stdout",
     "output_type": "stream",
     "text": [
      "There is 0.775 variation for Female.\n",
      "There is 0.796 variation for Male.\n"
     ]
    }
   ],
   "source": [
    "for sex in [\"Female\", \"Male\"]:\n",
    "    var = variation(df2[(df2['Reported_Gender']==sex)].RXE)\n",
    "    print(\"There is %.3f variation for %s.\" % (var, sex)) # Not sure if this variation is real"
   ]
  },
  {
   "cell_type": "markdown",
   "metadata": {},
   "source": [
    "### Separate out tissues"
   ]
  },
  {
   "cell_type": "code",
   "execution_count": 20,
   "metadata": {
    "execution": {
     "iopub.execute_input": "2021-07-10T14:13:00.531782Z",
     "iopub.status.busy": "2021-07-10T14:13:00.530808Z",
     "iopub.status.idle": "2021-07-10T14:13:00.543025Z",
     "shell.execute_reply": "2021-07-10T14:13:00.541725Z"
    }
   },
   "outputs": [
    {
     "name": "stdout",
     "output_type": "stream",
     "text": [
      "Mann-WhitneyU for female vs male (RXE) for MSSM: 0.1548\n",
      "Mann-WhitneyU for female vs male (RXE) for Penn: 0.4137\n",
      "Mann-WhitneyU for female vs male (RXE) for Pitt: 0.0719\n"
     ]
    }
   ],
   "source": [
    "for institution in df2.Institution.unique():\n",
    "    dft = df2[(df2['Institution'] == institution)].copy()\n",
    "    stat, pval = mannwhitneyu(dft[(dft['Reported_Gender']==\"Female\")].RXE,\n",
    "                              dft[(dft['Reported_Gender']==\"Male\")].RXE)\n",
    "    print(\"Mann-WhitneyU for female vs male (RXE) for %s: %.4f\" % (institution, pval))"
   ]
  },
  {
   "cell_type": "code",
   "execution_count": 21,
   "metadata": {
    "execution": {
     "iopub.execute_input": "2021-07-10T14:13:00.551138Z",
     "iopub.status.busy": "2021-07-10T14:13:00.550572Z",
     "iopub.status.idle": "2021-07-10T14:13:00.555882Z",
     "shell.execute_reply": "2021-07-10T14:13:00.556921Z"
    }
   },
   "outputs": [
    {
     "name": "stdout",
     "output_type": "stream",
     "text": [
      "Mann-WhitneyU for female vs male (RXE) for DLPFC: 0.0734, 33495.0\n"
     ]
    }
   ],
   "source": [
    "stat, pval = mannwhitneyu(df2[(df2['Reported_Gender']==\"Female\")].RXE,\n",
    "                          df2[(df2['Reported_Gender']==\"Male\")].RXE)\n",
    "print(\"Mann-WhitneyU for female vs male (RXE) for %s: %.4f, %.1f\" % (\"DLPFC\", pval, stat))"
   ]
  },
  {
   "cell_type": "code",
   "execution_count": 22,
   "metadata": {
    "execution": {
     "iopub.execute_input": "2021-07-10T14:13:00.564662Z",
     "iopub.status.busy": "2021-07-10T14:13:00.564114Z",
     "iopub.status.idle": "2021-07-10T14:13:00.573307Z",
     "shell.execute_reply": "2021-07-10T14:13:00.572717Z"
    }
   },
   "outputs": [
    {
     "name": "stdout",
     "output_type": "stream",
     "text": [
      "Mann-WhitneyU for ctl vs sz (RXE) for MSSM: 1.6429e-02\n",
      "Mann-WhitneyU for ctl vs sz (RXE) for Penn: 1.6475e-01\n",
      "Mann-WhitneyU for ctl vs sz (RXE) for Pitt: 1.7510e-01\n"
     ]
    }
   ],
   "source": [
    "for institution in df2.Institution.unique():\n",
    "    dft = df2[(df2['Institution'] == institution)].copy()\n",
    "    stat, pval = mannwhitneyu(dft[(dft['Dx']=='Control')].RXE, \n",
    "                              dft[(dft['Dx']=='SCZ')].RXE)\n",
    "    print(\"Mann-WhitneyU for ctl vs sz (RXE) for %s: %.4e\" % (institution, pval))"
   ]
  },
  {
   "cell_type": "code",
   "execution_count": 23,
   "metadata": {
    "execution": {
     "iopub.execute_input": "2021-07-10T14:13:00.580166Z",
     "iopub.status.busy": "2021-07-10T14:13:00.578961Z",
     "iopub.status.idle": "2021-07-10T14:13:00.583405Z",
     "shell.execute_reply": "2021-07-10T14:13:00.584587Z"
    }
   },
   "outputs": [
    {
     "name": "stdout",
     "output_type": "stream",
     "text": [
      "Mann-WhitneyU for female vs male (RXE) for DLPFC: 3.1883e-02, 33911.0\n"
     ]
    }
   ],
   "source": [
    "stat, pval = mannwhitneyu(df2[(df2['Dx']==\"Control\")].RXE,\n",
    "                          df2[(df2['Dx']==\"SCZ\")].RXE)\n",
    "print(\"Mann-WhitneyU for female vs male (RXE) for %s: %.4e, %.1f\" % (\"DLPFC\", pval, stat))"
   ]
  },
  {
   "cell_type": "code",
   "execution_count": 24,
   "metadata": {
    "execution": {
     "iopub.execute_input": "2021-07-10T14:13:00.597705Z",
     "iopub.status.busy": "2021-07-10T14:13:00.593350Z",
     "iopub.status.idle": "2021-07-10T14:13:00.612776Z",
     "shell.execute_reply": "2021-07-10T14:13:00.613864Z"
    }
   },
   "outputs": [
    {
     "name": "stdout",
     "output_type": "stream",
     "text": [
      "Mann-WhitneyU of female, ctl vs sz (RXE) for MSSM: 0.1330\n",
      "Mann-WhitneyU of male, ctl vs sz (RXE) for MSSM: 0.0499\n",
      "Mann-WhitneyU of female, ctl vs sz (RXE) for Penn: 0.3124\n",
      "Mann-WhitneyU of male, ctl vs sz (RXE) for Penn: 0.0294\n",
      "Mann-WhitneyU of female, ctl vs sz (RXE) for Pitt: 0.3120\n",
      "Mann-WhitneyU of male, ctl vs sz (RXE) for Pitt: 0.1254\n"
     ]
    }
   ],
   "source": [
    "for institution in df2.Institution.unique():\n",
    "    dft = df2[(df2['Institution'] == institution)].copy()\n",
    "    female = dft[(dft['Reported_Gender']=='Female')].copy()\n",
    "    male = dft[(dft['Reported_Gender']=='Male')].copy()\n",
    "    stat_f, pval_f = mannwhitneyu(female[(female['Dx']=='Control')].RXE, \n",
    "                                  female[(female['Dx']=='SCZ')].RXE)\n",
    "    stat_m, pval_m = mannwhitneyu(male[(male['Dx']=='Control')].RXE, \n",
    "                                  male[(male['Dx']=='SCZ')].RXE)\n",
    "    print(\"Mann-WhitneyU of female, ctl vs sz (RXE) for %s: %.4f\" % (institution, pval_f))\n",
    "    print(\"Mann-WhitneyU of male, ctl vs sz (RXE) for %s: %.4f\" % (institution, pval_m))"
   ]
  },
  {
   "cell_type": "code",
   "execution_count": 25,
   "metadata": {
    "execution": {
     "iopub.execute_input": "2021-07-10T14:13:00.625044Z",
     "iopub.status.busy": "2021-07-10T14:13:00.623756Z",
     "iopub.status.idle": "2021-07-10T14:13:00.631869Z",
     "shell.execute_reply": "2021-07-10T14:13:00.630688Z"
    }
   },
   "outputs": [
    {
     "name": "stdout",
     "output_type": "stream",
     "text": [
      "Mann-WhitneyU of female, ctl vs sz (RXE) for DLPFC: 0.2171, 5601.00\n",
      "Mann-WhitneyU of male, ctl vs sz (RXE) for DLPFC: 0.0487, 11943.00\n"
     ]
    }
   ],
   "source": [
    "female = df2[(df2['Reported_Gender']=='Female')].copy()\n",
    "male = df2[(df2['Reported_Gender']=='Male')].copy()\n",
    "stat_f, pval_f = mannwhitneyu(female[(female['Dx']=='Control')].RXE, \n",
    "                                  female[(female['Dx']=='SCZ')].RXE)\n",
    "stat_m, pval_m = mannwhitneyu(male[(male['Dx']=='Control')].RXE, \n",
    "                                  male[(male['Dx']=='SCZ')].RXE)\n",
    "print(\"Mann-WhitneyU of female, ctl vs sz (RXE) for %s: %.4f, %.2f\" % (\"DLPFC\", pval_f, stat_f))\n",
    "print(\"Mann-WhitneyU of male, ctl vs sz (RXE) for %s: %.4f, %.2f\" % (\"DLPFC\", pval_m, stat_m))"
   ]
  },
  {
   "cell_type": "markdown",
   "metadata": {},
   "source": [
    "### Interaction model"
   ]
  },
  {
   "cell_type": "code",
   "execution_count": 26,
   "metadata": {
    "execution": {
     "iopub.execute_input": "2021-07-10T14:13:00.638792Z",
     "iopub.status.busy": "2021-07-10T14:13:00.637439Z",
     "iopub.status.idle": "2021-07-10T14:13:00.652380Z",
     "shell.execute_reply": "2021-07-10T14:13:00.651797Z"
    }
   },
   "outputs": [
    {
     "data": {
      "text/html": [
       "<div>\n",
       "<style scoped>\n",
       "    .dataframe tbody tr th:only-of-type {\n",
       "        vertical-align: middle;\n",
       "    }\n",
       "\n",
       "    .dataframe tbody tr th {\n",
       "        vertical-align: top;\n",
       "    }\n",
       "\n",
       "    .dataframe thead th {\n",
       "        text-align: right;\n",
       "    }\n",
       "</style>\n",
       "<table border=\"1\" class=\"dataframe\">\n",
       "  <thead>\n",
       "    <tr style=\"text-align: right;\">\n",
       "      <th></th>\n",
       "      <th>X</th>\n",
       "      <th>autosome</th>\n",
       "      <th>sample</th>\n",
       "      <th>RXE</th>\n",
       "      <th>Individual_ID</th>\n",
       "      <th>Institution</th>\n",
       "      <th>Reported_Gender</th>\n",
       "      <th>Dx</th>\n",
       "      <th>Age_of_Death</th>\n",
       "    </tr>\n",
       "  </thead>\n",
       "  <tbody>\n",
       "    <tr>\n",
       "      <th>MSSM_RNA_PFC_1</th>\n",
       "      <td>2.594985</td>\n",
       "      <td>2.529523</td>\n",
       "      <td>MSSM_RNA_PFC_1</td>\n",
       "      <td>0.065462</td>\n",
       "      <td>CMC_MSSM_025</td>\n",
       "      <td>MSSM</td>\n",
       "      <td>Male</td>\n",
       "      <td>SZ</td>\n",
       "      <td>68.0</td>\n",
       "    </tr>\n",
       "    <tr>\n",
       "      <th>MSSM_RNA_PFC_2</th>\n",
       "      <td>2.672613</td>\n",
       "      <td>2.594684</td>\n",
       "      <td>MSSM_RNA_PFC_2</td>\n",
       "      <td>0.077929</td>\n",
       "      <td>CMC_MSSM_136</td>\n",
       "      <td>MSSM</td>\n",
       "      <td>Male</td>\n",
       "      <td>CTL</td>\n",
       "      <td>76.0</td>\n",
       "    </tr>\n",
       "  </tbody>\n",
       "</table>\n",
       "</div>"
      ],
      "text/plain": [
       "                       X  autosome          sample       RXE Individual_ID  \\\n",
       "MSSM_RNA_PFC_1  2.594985  2.529523  MSSM_RNA_PFC_1  0.065462  CMC_MSSM_025   \n",
       "MSSM_RNA_PFC_2  2.672613  2.594684  MSSM_RNA_PFC_2  0.077929  CMC_MSSM_136   \n",
       "\n",
       "               Institution Reported_Gender   Dx  Age_of_Death  \n",
       "MSSM_RNA_PFC_1        MSSM            Male   SZ          68.0  \n",
       "MSSM_RNA_PFC_2        MSSM            Male  CTL          76.0  "
      ]
     },
     "execution_count": 1,
     "metadata": {},
     "output_type": "execute_result"
    }
   ],
   "source": [
    "df2.Reported_Gender = df2.Reported_Gender.astype(\"category\").cat.reorder_categories([\"Female\", \"Male\"], ordered=True)\n",
    "df2.Dx = df2.Dx.astype(\"category\").cat.rename_categories({\"SCZ\": \"SZ\", \"Control\": \"CTL\"})\n",
    "df2.head(2)"
   ]
  },
  {
   "cell_type": "code",
   "execution_count": 27,
   "metadata": {
    "execution": {
     "iopub.execute_input": "2021-07-10T14:13:00.668805Z",
     "iopub.status.busy": "2021-07-10T14:13:00.667443Z",
     "iopub.status.idle": "2021-07-10T14:13:00.672109Z",
     "shell.execute_reply": "2021-07-10T14:13:00.673276Z"
    }
   },
   "outputs": [
    {
     "data": {
      "text/html": [
       "<div>\n",
       "<style scoped>\n",
       "    .dataframe tbody tr th:only-of-type {\n",
       "        vertical-align: middle;\n",
       "    }\n",
       "\n",
       "    .dataframe tbody tr th {\n",
       "        vertical-align: top;\n",
       "    }\n",
       "\n",
       "    .dataframe thead th {\n",
       "        text-align: right;\n",
       "    }\n",
       "</style>\n",
       "<table border=\"1\" class=\"dataframe\">\n",
       "  <thead>\n",
       "    <tr style=\"text-align: right;\">\n",
       "      <th></th>\n",
       "      <th>RXE</th>\n",
       "      <th>Reported_Gender</th>\n",
       "      <th>Dx</th>\n",
       "      <th>Institution</th>\n",
       "    </tr>\n",
       "  </thead>\n",
       "  <tbody>\n",
       "    <tr>\n",
       "      <th>MSSM_RNA_PFC_1</th>\n",
       "      <td>0.065462</td>\n",
       "      <td>1</td>\n",
       "      <td>1</td>\n",
       "      <td>0</td>\n",
       "    </tr>\n",
       "    <tr>\n",
       "      <th>MSSM_RNA_PFC_2</th>\n",
       "      <td>0.077929</td>\n",
       "      <td>1</td>\n",
       "      <td>0</td>\n",
       "      <td>0</td>\n",
       "    </tr>\n",
       "  </tbody>\n",
       "</table>\n",
       "</div>"
      ],
      "text/plain": [
       "                     RXE  Reported_Gender  Dx  Institution\n",
       "MSSM_RNA_PFC_1  0.065462                1   1            0\n",
       "MSSM_RNA_PFC_2  0.077929                1   0            0"
      ]
     },
     "execution_count": 1,
     "metadata": {},
     "output_type": "execute_result"
    }
   ],
   "source": [
    "df3 = df2.loc[:, ['RXE', 'Reported_Gender', \"Dx\", 'Institution']]\n",
    "df3.loc[:, \"Reported_Gender\"] = df3.Reported_Gender.cat.codes\n",
    "df3.Dx = df3.Dx.cat.codes\n",
    "df3.loc[:, \"Institution\"] = df3.Institution.astype(\"category\").cat.codes\n",
    "df3.head(2)"
   ]
  },
  {
   "cell_type": "code",
   "execution_count": 28,
   "metadata": {
    "execution": {
     "iopub.execute_input": "2021-07-10T14:13:00.693318Z",
     "iopub.status.busy": "2021-07-10T14:13:00.692709Z",
     "iopub.status.idle": "2021-07-10T14:13:00.719400Z",
     "shell.execute_reply": "2021-07-10T14:13:00.718526Z"
    }
   },
   "outputs": [
    {
     "name": "stdout",
     "output_type": "stream",
     "text": [
      "                                     sum_sq     df          F        PR(>F)\n",
      "C(Reported_Gender)                 0.002992    1.0   0.938861  3.330063e-01\n",
      "C(Dx)                              0.008155    1.0   2.559338  1.102315e-01\n",
      "C(Institution)                     0.111778    2.0  17.540066  4.173517e-08\n",
      "C(Reported_Gender):C(Dx)           0.000445    1.0   0.139511  7.089152e-01\n",
      "C(Reported_Gender):C(Institution)  0.000732    2.0   0.114794  8.915716e-01\n",
      "C(Dx):C(Institution)               0.013260    2.0   2.080725  1.258432e-01\n",
      "Residual                           1.714256  538.0        NaN           NaN\n"
     ]
    }
   ],
   "source": [
    "import statsmodels.api as sm\n",
    "from statsmodels.formula.api import ols\n",
    "\n",
    "anova_df = df2.loc[:,['RXE','Reported_Gender', \"Dx\", 'Institution']]\n",
    "\n",
    "# ANOVA results with combinations of 2 groups:\n",
    "formula = 'RXE ~ C(Reported_Gender) + C(Dx) + C(Institution) + C(Reported_Gender):C(Dx) + C(Reported_Gender):C(Institution) + C(Dx):C(Institution)'\n",
    "lm = ols(formula, anova_df).fit()\n",
    "table = sm.stats.anova_lm(lm, typ=2)\n",
    "print(table)"
   ]
  },
  {
   "cell_type": "markdown",
   "metadata": {},
   "source": [
    "#### There is a massive difference between institutions, but no interaction between institution and sex or sex and diagnosis"
   ]
  },
  {
   "cell_type": "markdown",
   "metadata": {},
   "source": [
    "### Plot RXE"
   ]
  },
  {
   "cell_type": "code",
   "execution_count": 29,
   "metadata": {
    "execution": {
     "iopub.execute_input": "2021-07-10T14:13:00.736771Z",
     "iopub.status.busy": "2021-07-10T14:13:00.729775Z",
     "iopub.status.idle": "2021-07-10T14:13:01.465240Z",
     "shell.execute_reply": "2021-07-10T14:13:01.464333Z"
    }
   },
   "outputs": [
    {
     "data": {
      "image/png": "[encoded data removed]",
      "text/plain": [
       "<Figure size 640x480 with 1 Axes>"
      ]
     },
     "metadata": {
      "needs_background": "light"
     },
     "output_type": "display_data"
    },
    {
     "data": {
      "text/plain": [
       "<ggplot: (8781457543801)>"
      ]
     },
     "execution_count": 1,
     "metadata": {},
     "output_type": "execute_result"
    }
   ],
   "source": [
    "p = ggplot(df2, aes(x='Reported_Gender', y='RXE', fill='Dx')) \\\n",
    "+ geom_boxplot()\\\n",
    "+ ylab(\"Relative X Expression\")\\\n",
    "+ theme_matplotlib()\n",
    "p + theme(axis_text_x = element_text(angle = 45))"
   ]
  },
  {
   "cell_type": "code",
   "execution_count": 30,
   "metadata": {
    "execution": {
     "iopub.execute_input": "2021-07-10T14:13:01.489890Z",
     "iopub.status.busy": "2021-07-10T14:13:01.488351Z",
     "iopub.status.idle": "2021-07-10T14:13:03.072570Z",
     "shell.execute_reply": "2021-07-10T14:13:03.071916Z"
    }
   },
   "outputs": [
    {
     "name": "stderr",
     "output_type": "stream",
     "text": [
      "/home/jbenja13/.local/lib/python3.9/site-packages/plotnine/facets/facet_grid.py:136: FutureWarning: Index.__and__ operating as a set operation is deprecated, in the future this will be a logical operation matching Series.__and__.  Use index.intersection(other) instead\n",
      "/home/jbenja13/.local/lib/python3.9/site-packages/plotnine/facets/facet_grid.py:137: FutureWarning: Index.__and__ operating as a set operation is deprecated, in the future this will be a logical operation matching Series.__and__.  Use index.intersection(other) instead\n"
     ]
    },
    {
     "data": {
      "image/png": "[encoded data removed]",
      "text/plain": [
       "<Figure size 640x480 with 2 Axes>"
      ]
     },
     "metadata": {
      "needs_background": "light"
     },
     "output_type": "display_data"
    },
    {
     "data": {
      "text/plain": [
       "<ggplot: (8781457543774)>"
      ]
     },
     "execution_count": 1,
     "metadata": {},
     "output_type": "execute_result"
    }
   ],
   "source": [
    "p = ggplot(df2, aes(x='Institution', y='RXE', fill='Dx')) \\\n",
    "+ geom_boxplot()\\\n",
    "+ ylab(\"Relative X Expression\")\\\n",
    "+ facet_grid(\"~Reported_Gender\")\\\n",
    "+ theme_matplotlib()\n",
    "p + theme(axis_text_x = element_text(angle = 90))"
   ]
  },
  {
   "cell_type": "code",
   "execution_count": 31,
   "metadata": {
    "execution": {
     "iopub.execute_input": "2021-07-10T14:13:03.089252Z",
     "iopub.status.busy": "2021-07-10T14:13:03.088690Z",
     "iopub.status.idle": "2021-07-10T14:13:03.972186Z",
     "shell.execute_reply": "2021-07-10T14:13:03.972894Z"
    }
   },
   "outputs": [
    {
     "data": {
      "image/png": "[encoded data removed]",
      "text/plain": [
       "<Figure size 640x480 with 1 Axes>"
      ]
     },
     "metadata": {
      "needs_background": "light"
     },
     "output_type": "display_data"
    },
    {
     "data": {
      "text/plain": [
       "<ggplot: (8781458928014)>"
      ]
     },
     "execution_count": 1,
     "metadata": {},
     "output_type": "execute_result"
    }
   ],
   "source": [
    "p = ggplot(df2, aes(x='Institution', y='RXE', fill='Reported_Gender')) \\\n",
    "+ geom_boxplot()\\\n",
    "+ ylab(\"Relative X Expression\")\\\n",
    "+ theme_matplotlib()\n",
    "p + theme(axis_text_x = element_text(angle = 90))"
   ]
  },
  {
   "cell_type": "code",
   "execution_count": 32,
   "metadata": {
    "execution": {
     "iopub.execute_input": "2021-07-10T14:13:04.003888Z",
     "iopub.status.busy": "2021-07-10T14:13:03.999619Z",
     "iopub.status.idle": "2021-07-10T14:13:07.788235Z",
     "shell.execute_reply": "2021-07-10T14:13:07.788740Z"
    }
   },
   "outputs": [
    {
     "name": "stderr",
     "output_type": "stream",
     "text": [
      "/home/jbenja13/.local/lib/python3.9/site-packages/plotnine/facets/facet_grid.py:136: FutureWarning: Index.__and__ operating as a set operation is deprecated, in the future this will be a logical operation matching Series.__and__.  Use index.intersection(other) instead\n",
      "/home/jbenja13/.local/lib/python3.9/site-packages/plotnine/facets/facet_grid.py:137: FutureWarning: Index.__and__ operating as a set operation is deprecated, in the future this will be a logical operation matching Series.__and__.  Use index.intersection(other) instead\n"
     ]
    },
    {
     "data": {
      "image/png": "[encoded data removed]",
      "text/plain": [
       "<Figure size 640x480 with 2 Axes>"
      ]
     },
     "metadata": {
      "needs_background": "light"
     },
     "output_type": "display_data"
    },
    {
     "data": {
      "text/plain": [
       "<ggplot: (8781458553733)>"
      ]
     },
     "execution_count": 1,
     "metadata": {},
     "output_type": "execute_result"
    }
   ],
   "source": [
    "p = ggplot(df2, aes(x='sample', y='RXE', shape=\"Dx\", fill='Institution')) \\\n",
    "+ geom_point() + ylim([-0.5, 0.5]) + xlab(\"Samples\")\\\n",
    "+ ylab(\"Relative X Expression\") + facet_grid(\"Reported_Gender~.\")\\\n",
    "+ theme_matplotlib() \\\n",
    "+ theme(axis_text_x=element_blank(), \n",
    "        axis_text=element_text(size=13), \n",
    "        legend_title=element_text(size=15, face=\"bold\"), \n",
    "        legend_text=element_text(size=13),\n",
    "        axis_title=element_text(size=16, face=\"bold\"), \n",
    "        strip_text=element_text(size=14, face=\"bold\"))\n",
    "p"
   ]
  },
  {
   "cell_type": "code",
   "execution_count": 33,
   "metadata": {
    "execution": {
     "iopub.execute_input": "2021-07-10T14:13:07.793828Z",
     "iopub.status.busy": "2021-07-10T14:13:07.793113Z",
     "iopub.status.idle": "2021-07-10T14:13:19.717936Z",
     "shell.execute_reply": "2021-07-10T14:13:19.718451Z"
    }
   },
   "outputs": [
    {
     "name": "stderr",
     "output_type": "stream",
     "text": [
      "/home/jbenja13/.local/lib/python3.9/site-packages/plotnine/facets/facet_grid.py:136: FutureWarning: Index.__and__ operating as a set operation is deprecated, in the future this will be a logical operation matching Series.__and__.  Use index.intersection(other) instead\n",
      "/home/jbenja13/.local/lib/python3.9/site-packages/plotnine/facets/facet_grid.py:137: FutureWarning: Index.__and__ operating as a set operation is deprecated, in the future this will be a logical operation matching Series.__and__.  Use index.intersection(other) instead\n",
      "/home/jbenja13/.local/lib/python3.9/site-packages/plotnine/facets/facet_grid.py:136: FutureWarning: Index.__and__ operating as a set operation is deprecated, in the future this will be a logical operation matching Series.__and__.  Use index.intersection(other) instead\n",
      "/home/jbenja13/.local/lib/python3.9/site-packages/plotnine/facets/facet_grid.py:137: FutureWarning: Index.__and__ operating as a set operation is deprecated, in the future this will be a logical operation matching Series.__and__.  Use index.intersection(other) instead\n",
      "/home/jbenja13/.local/lib/python3.9/site-packages/plotnine/facets/facet_grid.py:136: FutureWarning: Index.__and__ operating as a set operation is deprecated, in the future this will be a logical operation matching Series.__and__.  Use index.intersection(other) instead\n",
      "/home/jbenja13/.local/lib/python3.9/site-packages/plotnine/facets/facet_grid.py:137: FutureWarning: Index.__and__ operating as a set operation is deprecated, in the future this will be a logical operation matching Series.__and__.  Use index.intersection(other) instead\n"
     ]
    }
   ],
   "source": [
    "df2.to_csv('RXE_public.csv')\n",
    "save_ggplot(p, \"RXE_public_bySex\")"
   ]
  },
  {
   "cell_type": "code",
   "execution_count": null,
   "metadata": {},
   "outputs": [],
   "source": []
  }
 ],
 "metadata": {
  "kernelspec": {
   "display_name": "Python 3",
   "language": "python",
   "name": "python3"
  },
  "language_info": {
   "codemirror_mode": {
    "name": "ipython",
    "version": 3
   },
   "file_extension": ".py",
   "mimetype": "text/x-python",
   "name": "python",
   "nbconvert_exporter": "python",
   "pygments_lexer": "ipython3",
   "version": "3.9.1"
  }
 },
 "nbformat": 4,
 "nbformat_minor": 4
}
