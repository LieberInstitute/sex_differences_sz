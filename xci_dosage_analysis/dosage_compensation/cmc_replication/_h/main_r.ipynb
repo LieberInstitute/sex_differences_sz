{
 "cells": [
  {
   "cell_type": "markdown",
   "metadata": {},
   "source": [
    "# Generate log2CPM for CMC data"
   ]
  },
  {
   "cell_type": "code",
   "execution_count": 1,
   "metadata": {},
   "outputs": [
    {
     "name": "stderr",
     "output_type": "stream",
     "text": [
      "-- \u001b[1mAttaching packages\u001b[22m --------------------------------------------------------------------------------------------------------------------- tidyverse 1.3.0 --\n",
      "\n",
      "\u001b[32mv\u001b[39m \u001b[34mggplot2\u001b[39m 3.3.3     \u001b[32mv\u001b[39m \u001b[34mpurrr  \u001b[39m 0.3.4\n",
      "\u001b[32mv\u001b[39m \u001b[34mtibble \u001b[39m 3.0.6     \u001b[32mv\u001b[39m \u001b[34mdplyr  \u001b[39m 1.0.4\n",
      "\u001b[32mv\u001b[39m \u001b[34mtidyr  \u001b[39m 1.1.2     \u001b[32mv\u001b[39m \u001b[34mstringr\u001b[39m 1.4.0\n",
      "\u001b[32mv\u001b[39m \u001b[34mreadr  \u001b[39m 1.4.0     \u001b[32mv\u001b[39m \u001b[34mforcats\u001b[39m 0.5.1\n",
      "\n",
      "-- \u001b[1mConflicts\u001b[22m ------------------------------------------------------------------------------------------------------------------------ tidyverse_conflicts() --\n",
      "\u001b[31mx\u001b[39m \u001b[34mdplyr\u001b[39m::\u001b[32mfilter()\u001b[39m masks \u001b[34mstats\u001b[39m::filter()\n",
      "\u001b[31mx\u001b[39m \u001b[34mdplyr\u001b[39m::\u001b[32mlag()\u001b[39m    masks \u001b[34mstats\u001b[39m::lag()\n",
      "\n",
      "\n",
      "TERMS OF USE NOTICE:\n",
      "  When using Synapse, remember that the terms and conditions of use require that you:\n",
      "  1) Attribute data contributors when discussing these data or results from these data.\n",
      "  2) Not discriminate, identify, or recontact individuals or groups represented by the data.\n",
      "  3) Use and contribute only data de-identified to HIPAA standards.\n",
      "  4) Redistribute data only under these same terms of use.\n",
      "\n",
      "\n"
     ]
    }
   ],
   "source": [
    "library(tidyverse)\n",
    "library(synapser)"
   ]
  },
  {
   "cell_type": "code",
   "execution_count": 2,
   "metadata": {},
   "outputs": [
    {
     "name": "stdout",
     "output_type": "stream",
     "text": [
      "Welcome, kj.benjamin!"
     ]
    },
    {
     "data": {
      "text/plain": [
       "NULL"
      ]
     },
     "metadata": {},
     "output_type": "display_data"
    }
   ],
   "source": [
    "synLogin()"
   ]
  },
  {
   "cell_type": "markdown",
   "metadata": {},
   "source": [
    "## Phenotypes"
   ]
  },
  {
   "cell_type": "code",
   "execution_count": 3,
   "metadata": {},
   "outputs": [
    {
     "data": {
      "text/html": [
       "<style>\n",
       ".list-inline {list-style: none; margin:0; padding: 0}\n",
       ".list-inline>li {display: inline-block}\n",
       ".list-inline>li:not(:last-child)::after {content: \"\\00b7\"; padding: 0 .5ex}\n",
       "</style>\n",
       "<ol class=list-inline><li>858</li><li>65</li></ol>\n"
      ],
      "text/latex": [
       "\\begin{enumerate*}\n",
       "\\item 858\n",
       "\\item 65\n",
       "\\end{enumerate*}\n"
      ],
      "text/markdown": [
       "1. 858\n",
       "2. 65\n",
       "\n",
       "\n"
      ],
      "text/plain": [
       "[1] 858  65"
      ]
     },
     "metadata": {},
     "output_type": "display_data"
    }
   ],
   "source": [
    "# Download clinical metadata \n",
    "CLINICAL_ID = 'syn3354385'\n",
    "clinical = data.table::fread(synGet(CLINICAL_ID, version = 4)$path)\n",
    "\n",
    "# Download RNASeq metadata\n",
    "METADATA_QC_DLPFC_ID = 'syn18358379' \n",
    "metadata = data.table::fread(synGet(METADATA_QC_DLPFC_ID, version = 3)$path)\n",
    "\n",
    "# Join clinical and RNASeq metadata \n",
    "md = right_join(clinical, metadata, by = c(\"Individual ID\" = \"Individual_ID\")) %>% \n",
    "    mutate(Dx = fct_recode(Dx, AFF_BP = \"BP\", AFF_BP = \"AFF\", Other = \"undetermined\", \n",
    "                           Control = \"Control\", SCZ = \"SCZ\")) %>%\n",
    "    filter(Dx %in% c(\"Control\", \"SCZ\"), Sex %in% c('XX', 'XY'))\n",
    "\n",
    "# Compute read pair metrics and add Institution-Dx variable\n",
    "md <- md %>%\n",
    "  mutate(MappedRead_Pairs = Mapped_Reads/2) %>%\n",
    "  mutate(`Institution-Dx` = paste0(`Institution`, \"-\", `Dx`)) %>% \n",
    "  mutate(TotalRead_Pairs = Total_Reads/2)\n",
    "\n",
    "# Add MDS from SNPs\n",
    "mds_file = paste0('/ceph/users/jbenja13/projects/sex_sz_ria/input/commonMind/',\n",
    "                  'genotypes/mds/_m/CMC_MSSM-Penn-Pitt_DLPFC_QC.mds')\n",
    "mds = data.table::fread(mds_file)\n",
    "colnames(mds) = gsub('C', 'snpPC', colnames(mds))\n",
    "\n",
    "pheno_file = paste0('/ceph/users/jbenja13/projects/sex_sz_ria/input/commonMind/', \n",
    "                    'phenotypes/combine_files/_m/CMC_phenotypes_all.csv')\n",
    "pheno = read.csv(pheno_file, stringsAsFactors = F) \n",
    "genotypes = merge(pheno, mds, by.y='IID', by.x='Genotypes.Genotyping_Sample_ID') \n",
    "\n",
    "genotypes = genotypes %>% \n",
    "    dplyr::select(\"Individual_ID\", starts_with(\"snpPC\")) %>%\n",
    "    rename(\"Individual ID\"=Individual_ID)\n",
    "\n",
    "md = md %>% left_join(genotypes, by=\"Individual ID\") %>% distinct\n",
    "\n",
    "md %>% dim"
   ]
  },
  {
   "cell_type": "code",
   "execution_count": 4,
   "metadata": {},
   "outputs": [
    {
     "data": {
      "text/html": [
       "<table class=\"dataframe\">\n",
       "<caption>A data.table: 2 × 6</caption>\n",
       "<thead>\n",
       "\t<tr><th scope=col>SampleID</th><th scope=col>Individual_ID</th><th scope=col>Institution</th><th scope=col>Reported_Gender</th><th scope=col>Dx</th><th scope=col>Age_of_Death</th></tr>\n",
       "\t<tr><th scope=col>&lt;chr&gt;</th><th scope=col>&lt;chr&gt;</th><th scope=col>&lt;chr&gt;</th><th scope=col>&lt;chr&gt;</th><th scope=col>&lt;fct&gt;</th><th scope=col>&lt;chr&gt;</th></tr>\n",
       "</thead>\n",
       "<tbody>\n",
       "\t<tr><td>MSSM_RNA_PFC_155</td><td>CMC_MSSM_087</td><td>MSSM</td><td>Female</td><td>Control</td><td>90</td></tr>\n",
       "\t<tr><td>MSSM_RNA_PFC_280</td><td>CMC_MSSM_226</td><td>MSSM</td><td>Female</td><td>Control</td><td>90</td></tr>\n",
       "</tbody>\n",
       "</table>\n"
      ],
      "text/latex": [
       "A data.table: 2 × 6\n",
       "\\begin{tabular}{llllll}\n",
       " SampleID & Individual\\_ID & Institution & Reported\\_Gender & Dx & Age\\_of\\_Death\\\\\n",
       " <chr> & <chr> & <chr> & <chr> & <fct> & <chr>\\\\\n",
       "\\hline\n",
       "\t MSSM\\_RNA\\_PFC\\_155 & CMC\\_MSSM\\_087 & MSSM & Female & Control & 90\\\\\n",
       "\t MSSM\\_RNA\\_PFC\\_280 & CMC\\_MSSM\\_226 & MSSM & Female & Control & 90\\\\\n",
       "\\end{tabular}\n"
      ],
      "text/markdown": [
       "\n",
       "A data.table: 2 × 6\n",
       "\n",
       "| SampleID &lt;chr&gt; | Individual_ID &lt;chr&gt; | Institution &lt;chr&gt; | Reported_Gender &lt;chr&gt; | Dx &lt;fct&gt; | Age_of_Death &lt;chr&gt; |\n",
       "|---|---|---|---|---|---|\n",
       "| MSSM_RNA_PFC_155 | CMC_MSSM_087 | MSSM | Female | Control | 90 |\n",
       "| MSSM_RNA_PFC_280 | CMC_MSSM_226 | MSSM | Female | Control | 90 |\n",
       "\n"
      ],
      "text/plain": [
       "  SampleID         Individual_ID Institution Reported_Gender Dx     \n",
       "1 MSSM_RNA_PFC_155 CMC_MSSM_087  MSSM        Female          Control\n",
       "2 MSSM_RNA_PFC_280 CMC_MSSM_226  MSSM        Female          Control\n",
       "  Age_of_Death\n",
       "1 90          \n",
       "2 90          "
      ]
     },
     "metadata": {},
     "output_type": "display_data"
    }
   ],
   "source": [
    "phenotypes = md %>% select(\"SampleID\", \"Individual ID\", \"Institution\", \n",
    "                           \"Reported Gender\", \"Dx\", \"Age of Death\") %>%\n",
    "    mutate(`Age of Death` = ifelse(`Age of Death` == \"90+\", \"90\", `Age of Death`))\n",
    "colnames(phenotypes) <- gsub(' ', '_', colnames(phenotypes))\n",
    "phenotypes %>% data.table::fwrite(\"cmc_phenotypes.csv\", sep=',')\n",
    "phenotypes %>% head(2)"
   ]
  },
  {
   "cell_type": "markdown",
   "metadata": {},
   "source": [
    "## Gene expression (counts)"
   ]
  },
  {
   "cell_type": "markdown",
   "metadata": {},
   "source": [
    "### Combined counts"
   ]
  },
  {
   "cell_type": "code",
   "execution_count": 5,
   "metadata": {},
   "outputs": [
    {
     "data": {
      "text/html": [
       "<table class=\"dataframe\">\n",
       "<caption>A data.frame: 2 × 5</caption>\n",
       "<thead>\n",
       "\t<tr><th></th><th scope=col>MSSM_RNA_PFC_1</th><th scope=col>MSSM_RNA_PFC_2</th><th scope=col>MSSM_RNA_PFC_3</th><th scope=col>MSSM_RNA_PFC_4</th><th scope=col>MSSM_RNA_PFC_5</th></tr>\n",
       "\t<tr><th></th><th scope=col>&lt;dbl&gt;</th><th scope=col>&lt;dbl&gt;</th><th scope=col>&lt;dbl&gt;</th><th scope=col>&lt;dbl&gt;</th><th scope=col>&lt;dbl&gt;</th></tr>\n",
       "</thead>\n",
       "<tbody>\n",
       "\t<tr><th scope=row>ENSG00000000003.14</th><td>124</td><td>103</td><td>160</td><td>366</td><td>268</td></tr>\n",
       "\t<tr><th scope=row>ENSG00000000005.5</th><td>  1</td><td>  0</td><td>  1</td><td>  4</td><td>  2</td></tr>\n",
       "</tbody>\n",
       "</table>\n"
      ],
      "text/latex": [
       "A data.frame: 2 × 5\n",
       "\\begin{tabular}{r|lllll}\n",
       "  & MSSM\\_RNA\\_PFC\\_1 & MSSM\\_RNA\\_PFC\\_2 & MSSM\\_RNA\\_PFC\\_3 & MSSM\\_RNA\\_PFC\\_4 & MSSM\\_RNA\\_PFC\\_5\\\\\n",
       "  & <dbl> & <dbl> & <dbl> & <dbl> & <dbl>\\\\\n",
       "\\hline\n",
       "\tENSG00000000003.14 & 124 & 103 & 160 & 366 & 268\\\\\n",
       "\tENSG00000000005.5 &   1 &   0 &   1 &   4 &   2\\\\\n",
       "\\end{tabular}\n"
      ],
      "text/markdown": [
       "\n",
       "A data.frame: 2 × 5\n",
       "\n",
       "| <!--/--> | MSSM_RNA_PFC_1 &lt;dbl&gt; | MSSM_RNA_PFC_2 &lt;dbl&gt; | MSSM_RNA_PFC_3 &lt;dbl&gt; | MSSM_RNA_PFC_4 &lt;dbl&gt; | MSSM_RNA_PFC_5 &lt;dbl&gt; |\n",
       "|---|---|---|---|---|---|\n",
       "| ENSG00000000003.14 | 124 | 103 | 160 | 366 | 268 |\n",
       "| ENSG00000000005.5 |   1 |   0 |   1 |   4 |   2 |\n",
       "\n"
      ],
      "text/plain": [
       "                   MSSM_RNA_PFC_1 MSSM_RNA_PFC_2 MSSM_RNA_PFC_3 MSSM_RNA_PFC_4\n",
       "ENSG00000000003.14 124            103            160            366           \n",
       "ENSG00000000005.5    1              0              1              4           \n",
       "                   MSSM_RNA_PFC_5\n",
       "ENSG00000000003.14 268           \n",
       "ENSG00000000005.5    2           "
      ]
     },
     "metadata": {},
     "output_type": "display_data"
    }
   ],
   "source": [
    "# Download counts (DLPFC - MSSM)\n",
    "COUNT_ID = 'syn17346208'\n",
    "count = data.table::fread(synGet(COUNT_ID, version=2)$path) #synapser has updated without backwards compatibility\n",
    "count$transcript_id.s. = NULL\n",
    "\n",
    "# Download gene lengths (DLPFC - MSSM)\n",
    "genelen_CMC = data.table::fread(synGet('syn17346397', version = 2)$path) %>%\n",
    "    gather(sampleID, Length, -gene_id, -`transcript_id(s)`) %>%\n",
    "    group_by(gene_id) %>%\n",
    "    summarise(Length = median(Length, na.rm = T)) %>%\n",
    "    ungroup() %>% data.frame()\n",
    "\n",
    " # Download counts (DLPFC - HBCC)\n",
    "COUNT_ID = 'syn17894685'\n",
    "count_HBCC = data.table::fread(synGet(COUNT_ID, version = 4)$path)\n",
    "count_HBCC$transcript_id.s. = NULL\n",
    "\n",
    "# Join HBCC and MSSM counts\n",
    "NEW.COUNTS = full_join(count, count_HBCC, by = c(\"gene_id\")) %>%\n",
    "    column_to_rownames(var='gene_id') %>% t %>%\n",
    "    as.data.frame %>% rownames_to_column %>% \n",
    "    filter(rowname %in% md$SampleID) %>% \n",
    "    column_to_rownames(var=\"rowname\") %>% t %>%\n",
    "    as.data.frame\n",
    "NEW.COUNTS[1:2, 1:5]"
   ]
  },
  {
   "cell_type": "code",
   "execution_count": 6,
   "metadata": {},
   "outputs": [
    {
     "data": {
      "text/html": [
       "<style>\n",
       ".list-inline {list-style: none; margin:0; padding: 0}\n",
       ".list-inline>li {display: inline-block}\n",
       ".list-inline>li:not(:last-child)::after {content: \"\\00b7\"; padding: 0 .5ex}\n",
       "</style>\n",
       "<ol class=list-inline><li>58347</li><li>858</li></ol>\n"
      ],
      "text/latex": [
       "\\begin{enumerate*}\n",
       "\\item 58347\n",
       "\\item 858\n",
       "\\end{enumerate*}\n"
      ],
      "text/markdown": [
       "1. 58347\n",
       "2. 858\n",
       "\n",
       "\n"
      ],
      "text/plain": [
       "[1] 58347   858"
      ]
     },
     "metadata": {},
     "output_type": "display_data"
    }
   ],
   "source": [
    "NEW.COUNTS %>% dim"
   ]
  },
  {
   "cell_type": "markdown",
   "metadata": {},
   "source": [
    "### CPM transformation and save"
   ]
  },
  {
   "cell_type": "code",
   "execution_count": 38,
   "metadata": {},
   "outputs": [],
   "source": [
    "edgeR::cpm(NEW.COUNTS, log=TRUE) %>% as.data.frame %>% \n",
    "    rownames_to_column %>% rename(\"Geneid\"=\"rowname\") %>%\n",
    "    data.table::fwrite(\"cmc_log2cpm.tsv\", sep='\\t')"
   ]
  },
  {
   "cell_type": "markdown",
   "metadata": {},
   "source": [
    "## Gene annotation"
   ]
  },
  {
   "cell_type": "code",
   "execution_count": 7,
   "metadata": {},
   "outputs": [],
   "source": [
    "# Get background genes \n",
    "backgroundGenes = data.frame(gene_id = rownames(NEW.COUNTS)) %>%\n",
    "  mutate(id = gene_id) %>%\n",
    "  separate(id, c('ensembl_gene_id','position'), sep = '\\\\.')\n",
    "\n",
    "# Define biomart object\n",
    "mart <- biomaRt::useMart(biomart = \"ENSEMBL_MART_ENSEMBL\",\n",
    "                host = \"uswest.ensembl.org\", # Ensembl Release 99 (January 2020)\n",
    "                dataset = \"hsapiens_gene_ensembl\")\n",
    "# Query biomart\n",
    "Ensemble2HGNC <- biomaRt::getBM(attributes = c(\"ensembl_gene_id\", \"hgnc_symbol\", \n",
    "                                      \"percentage_gene_gc_content\", \"gene_biotype\", \n",
    "                                      \"chromosome_name\"),\n",
    "                       filters = \"ensembl_gene_id\", \n",
    "                       values = backgroundGenes$ensembl_gene_id,\n",
    "                       mart = mart)"
   ]
  },
  {
   "cell_type": "code",
   "execution_count": 8,
   "metadata": {},
   "outputs": [],
   "source": [
    "backgroundGenes %>% \n",
    "    inner_join(Ensemble2HGNC, by=c(\"ensembl_gene_id\")) %>% \n",
    "    select(-c(percentage_gene_gc_content, gene_biotype, position)) %>% \n",
    "    data.table::fwrite(\"cmc_gene_annotation.tsv\", sep='\\t')"
   ]
  },
  {
   "cell_type": "code",
   "execution_count": null,
   "metadata": {},
   "outputs": [],
   "source": []
  }
 ],
 "metadata": {
  "kernelspec": {
   "display_name": "R",
   "language": "R",
   "name": "ir"
  },
  "language_info": {
   "codemirror_mode": "r",
   "file_extension": ".r",
   "mimetype": "text/x-r-source",
   "name": "R",
   "pygments_lexer": "r",
   "version": "4.0.3"
  }
 },
 "nbformat": 4,
 "nbformat_minor": 4
}
