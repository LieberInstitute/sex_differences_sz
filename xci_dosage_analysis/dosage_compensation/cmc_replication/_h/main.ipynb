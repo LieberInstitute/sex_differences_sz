{
 "cells": [
  {
   "cell_type": "markdown",
   "metadata": {},
   "source": [
    "# Calculate RXE for public dataset, females only based on Apua's script"
   ]
  },
  {
   "cell_type": "code",
   "execution_count": 1,
   "metadata": {},
   "outputs": [],
   "source": [
    "import re\n",
    "import functools\n",
    "import numpy as np\n",
    "import pandas as pd\n",
    "from os import environ\n",
    "from plotnine import *\n",
    "from scipy.stats import variation\n",
    "from warnings import filterwarnings\n",
    "from scipy.stats import mannwhitneyu\n",
    "from matplotlib.cbook import mplDeprecation"
   ]
  },
  {
   "cell_type": "code",
   "execution_count": 2,
   "metadata": {},
   "outputs": [],
   "source": [
    "filterwarnings(\"ignore\",category=mplDeprecation)\n",
    "filterwarnings('ignore', category=UserWarning, module='plotnine.*')\n",
    "filterwarnings('ignore', category=DeprecationWarning, module='plotnine.*')"
   ]
  },
  {
   "cell_type": "code",
   "execution_count": 3,
   "metadata": {},
   "outputs": [],
   "source": [
    "environ['NUMEXPR_MAX_THREADS'] = '10'"
   ]
  },
  {
   "cell_type": "code",
   "execution_count": 4,
   "metadata": {},
   "outputs": [],
   "source": [
    "config = {\n",
    "    'pheno_file': 'cmc_phenotypes.csv',\n",
    "    'cpm_file': 'cmc_log2tpm.tsv',\n",
    "    'tpm_file': '/ceph/users/jbenja13/projects/sex_sz_ria/input/commonMind/counts/gene_tpm/_m/log2tpm.csv',\n",
    "    'annot_file': 'cmc_gene_annotation.tsv',\n",
    "}"
   ]
  },
  {
   "cell_type": "code",
   "execution_count": 5,
   "metadata": {},
   "outputs": [],
   "source": [
    "@functools.lru_cache()\n",
    "def get_pheno():\n",
    "    return pd.read_csv(config['pheno_file'], index_col=0)\n",
    "\n",
    "\n",
    "@functools.lru_cache()\n",
    "def get_annotation():\n",
    "    return pd.read_csv(config['annot_file'], index_col=0, sep='\\t')\n"
   ]
  },
  {
   "cell_type": "code",
   "execution_count": 6,
   "metadata": {},
   "outputs": [],
   "source": [
    "def chrom_type(chrom):\n",
    "    if chrom=='X':\n",
    "        return 'X'\n",
    "    elif re.search('^\\d+', chrom):\n",
    "        return 'autosome'\n",
    "    else:\n",
    "        return 'other'\n",
    "    \n",
    "    \n",
    "def save_ggplot(p, fn):\n",
    "    for ext in ['.pdf', '.png', '.svg']:\n",
    "        p.save(fn+ext, width=10, height=7)\n"
   ]
  },
  {
   "cell_type": "code",
   "execution_count": 7,
   "metadata": {},
   "outputs": [
    {
     "data": {
      "text/html": [
       "<div>\n",
       "<style scoped>\n",
       "    .dataframe tbody tr th:only-of-type {\n",
       "        vertical-align: middle;\n",
       "    }\n",
       "\n",
       "    .dataframe tbody tr th {\n",
       "        vertical-align: top;\n",
       "    }\n",
       "\n",
       "    .dataframe thead th {\n",
       "        text-align: right;\n",
       "    }\n",
       "</style>\n",
       "<table border=\"1\" class=\"dataframe\">\n",
       "  <thead>\n",
       "    <tr style=\"text-align: right;\">\n",
       "      <th></th>\n",
       "      <th>ensembl_gene_id</th>\n",
       "      <th>hgnc_symbol</th>\n",
       "      <th>chromosome_name</th>\n",
       "    </tr>\n",
       "    <tr>\n",
       "      <th>gene_id</th>\n",
       "      <th></th>\n",
       "      <th></th>\n",
       "      <th></th>\n",
       "    </tr>\n",
       "  </thead>\n",
       "  <tbody>\n",
       "    <tr>\n",
       "      <th>ENSG00000000003.14</th>\n",
       "      <td>ENSG00000000003</td>\n",
       "      <td>TSPAN6</td>\n",
       "      <td>X</td>\n",
       "    </tr>\n",
       "    <tr>\n",
       "      <th>ENSG00000000005.5</th>\n",
       "      <td>ENSG00000000005</td>\n",
       "      <td>TNMD</td>\n",
       "      <td>X</td>\n",
       "    </tr>\n",
       "  </tbody>\n",
       "</table>\n",
       "</div>"
      ],
      "text/plain": [
       "                    ensembl_gene_id hgnc_symbol chromosome_name\n",
       "gene_id                                                        \n",
       "ENSG00000000003.14  ENSG00000000003      TSPAN6               X\n",
       "ENSG00000000005.5   ENSG00000000005        TNMD               X"
      ]
     },
     "execution_count": 7,
     "metadata": {},
     "output_type": "execute_result"
    }
   ],
   "source": [
    "gene_annot = get_annotation()\n",
    "gene_annot.head(2)"
   ]
  },
  {
   "cell_type": "code",
   "execution_count": 8,
   "metadata": {},
   "outputs": [
    {
     "data": {
      "text/plain": [
       "(57786, 3)"
      ]
     },
     "execution_count": 8,
     "metadata": {},
     "output_type": "execute_result"
    }
   ],
   "source": [
    "gene_annot.shape"
   ]
  },
  {
   "cell_type": "code",
   "execution_count": 10,
   "metadata": {},
   "outputs": [
    {
     "data": {
      "text/html": [
       "<div>\n",
       "<style scoped>\n",
       "    .dataframe tbody tr th:only-of-type {\n",
       "        vertical-align: middle;\n",
       "    }\n",
       "\n",
       "    .dataframe tbody tr th {\n",
       "        vertical-align: top;\n",
       "    }\n",
       "\n",
       "    .dataframe thead th {\n",
       "        text-align: right;\n",
       "    }\n",
       "</style>\n",
       "<table border=\"1\" class=\"dataframe\">\n",
       "  <thead>\n",
       "    <tr style=\"text-align: right;\">\n",
       "      <th></th>\n",
       "      <th>MSSM_RNA_BP_PFC_2</th>\n",
       "      <th>MSSM_RNA_BP_PFC_4</th>\n",
       "      <th>MSSM_RNA_BP_PFC_5</th>\n",
       "      <th>MSSM_RNA_BP_PFC_6</th>\n",
       "      <th>MSSM_RNA_BP_PFC_7</th>\n",
       "    </tr>\n",
       "    <tr>\n",
       "      <th>gene_id</th>\n",
       "      <th></th>\n",
       "      <th></th>\n",
       "      <th></th>\n",
       "      <th></th>\n",
       "      <th></th>\n",
       "    </tr>\n",
       "  </thead>\n",
       "  <tbody>\n",
       "    <tr>\n",
       "      <th>ENSG00000000003.14</th>\n",
       "      <td>1.927755</td>\n",
       "      <td>1.341998</td>\n",
       "      <td>1.531728</td>\n",
       "      <td>1.565244</td>\n",
       "      <td>2.178456</td>\n",
       "    </tr>\n",
       "    <tr>\n",
       "      <th>ENSG00000000005.5</th>\n",
       "      <td>0.089456</td>\n",
       "      <td>0.036288</td>\n",
       "      <td>0.030684</td>\n",
       "      <td>0.088621</td>\n",
       "      <td>0.235076</td>\n",
       "    </tr>\n",
       "  </tbody>\n",
       "</table>\n",
       "</div>"
      ],
      "text/plain": [
       "                    MSSM_RNA_BP_PFC_2  MSSM_RNA_BP_PFC_4  MSSM_RNA_BP_PFC_5  \\\n",
       "gene_id                                                                       \n",
       "ENSG00000000003.14           1.927755           1.341998           1.531728   \n",
       "ENSG00000000005.5            0.089456           0.036288           0.030684   \n",
       "\n",
       "                    MSSM_RNA_BP_PFC_6  MSSM_RNA_BP_PFC_7  \n",
       "gene_id                                                   \n",
       "ENSG00000000003.14           1.565244           2.178456  \n",
       "ENSG00000000005.5            0.088621           0.235076  "
      ]
     },
     "execution_count": 10,
     "metadata": {},
     "output_type": "execute_result"
    }
   ],
   "source": [
    "log2tpm = pd.read_csv(config['tpm_file'], index_col=0, sep=',', engine='c')\n",
    "log2tpm.iloc[0:2, 0:5]"
   ]
  },
  {
   "cell_type": "code",
   "execution_count": 11,
   "metadata": {},
   "outputs": [
    {
     "data": {
      "text/plain": [
       "(50689, 606)"
      ]
     },
     "execution_count": 11,
     "metadata": {},
     "output_type": "execute_result"
    }
   ],
   "source": [
    "log2tpm.shape"
   ]
  },
  {
   "cell_type": "code",
   "execution_count": 12,
   "metadata": {},
   "outputs": [
    {
     "data": {
      "text/plain": [
       "(50116, 609)"
      ]
     },
     "execution_count": 12,
     "metadata": {},
     "output_type": "execute_result"
    }
   ],
   "source": [
    "df0 = gene_annot.merge(log2tpm, right_index=True, left_index=True).drop_duplicates(subset=['ensembl_gene_id'])\n",
    "df0.shape"
   ]
  },
  {
   "cell_type": "code",
   "execution_count": 13,
   "metadata": {},
   "outputs": [
    {
     "data": {
      "text/plain": [
       "(50116, 610)"
      ]
     },
     "execution_count": 13,
     "metadata": {},
     "output_type": "execute_result"
    }
   ],
   "source": [
    "df0['chrom_type'] = df0['chromosome_name'].apply(chrom_type)\n",
    "df0.shape"
   ]
  },
  {
   "cell_type": "code",
   "execution_count": 14,
   "metadata": {},
   "outputs": [
    {
     "data": {
      "text/plain": [
       "chrom_type\n",
       "X            1973\n",
       "autosome    47634\n",
       "other         509\n",
       "dtype: int64"
      ]
     },
     "execution_count": 14,
     "metadata": {},
     "output_type": "execute_result"
    }
   ],
   "source": [
    "df0.groupby('chrom_type').size()"
   ]
  },
  {
   "cell_type": "code",
   "execution_count": 15,
   "metadata": {},
   "outputs": [
    {
     "data": {
      "text/html": [
       "<div>\n",
       "<style scoped>\n",
       "    .dataframe tbody tr th:only-of-type {\n",
       "        vertical-align: middle;\n",
       "    }\n",
       "\n",
       "    .dataframe tbody tr th {\n",
       "        vertical-align: top;\n",
       "    }\n",
       "\n",
       "    .dataframe thead th {\n",
       "        text-align: right;\n",
       "    }\n",
       "</style>\n",
       "<table border=\"1\" class=\"dataframe\">\n",
       "  <thead>\n",
       "    <tr style=\"text-align: right;\">\n",
       "      <th>chrom_type</th>\n",
       "      <th>X</th>\n",
       "      <th>autosome</th>\n",
       "      <th>sample</th>\n",
       "      <th>RXE</th>\n",
       "    </tr>\n",
       "  </thead>\n",
       "  <tbody>\n",
       "    <tr>\n",
       "      <th>MSSM_RNA_BP_PFC_2</th>\n",
       "      <td>2.200046</td>\n",
       "      <td>2.123956</td>\n",
       "      <td>MSSM_RNA_BP_PFC_2</td>\n",
       "      <td>0.076090</td>\n",
       "    </tr>\n",
       "    <tr>\n",
       "      <th>MSSM_RNA_BP_PFC_4</th>\n",
       "      <td>1.666547</td>\n",
       "      <td>1.628119</td>\n",
       "      <td>MSSM_RNA_BP_PFC_4</td>\n",
       "      <td>0.038429</td>\n",
       "    </tr>\n",
       "  </tbody>\n",
       "</table>\n",
       "</div>"
      ],
      "text/plain": [
       "chrom_type                X  autosome             sample       RXE\n",
       "MSSM_RNA_BP_PFC_2  2.200046  2.123956  MSSM_RNA_BP_PFC_2  0.076090\n",
       "MSSM_RNA_BP_PFC_4  1.666547  1.628119  MSSM_RNA_BP_PFC_4  0.038429"
      ]
     },
     "execution_count": 15,
     "metadata": {},
     "output_type": "execute_result"
    }
   ],
   "source": [
    "samples = np.array(log2tpm.columns[log2tpm.columns.str.contains(\"RNA|CMC\", regex=True)])\n",
    "df = df0[(df0[samples].sum(axis=1) >= 0.2 * len(samples)) & (df0['chrom_type'] != 'other')]\n",
    "df1  = df.groupby('chrom_type').mean().transpose()\n",
    "df1['sample'] = df1.index\n",
    "df1['RXE'] = df1['X'] - df1['autosome']\n",
    "df1.head(2)"
   ]
  },
  {
   "cell_type": "code",
   "execution_count": 16,
   "metadata": {},
   "outputs": [
    {
     "data": {
      "text/html": [
       "<div>\n",
       "<style scoped>\n",
       "    .dataframe tbody tr th:only-of-type {\n",
       "        vertical-align: middle;\n",
       "    }\n",
       "\n",
       "    .dataframe tbody tr th {\n",
       "        vertical-align: top;\n",
       "    }\n",
       "\n",
       "    .dataframe thead th {\n",
       "        text-align: right;\n",
       "    }\n",
       "</style>\n",
       "<table border=\"1\" class=\"dataframe\">\n",
       "  <thead>\n",
       "    <tr style=\"text-align: right;\">\n",
       "      <th></th>\n",
       "      <th>X</th>\n",
       "      <th>autosome</th>\n",
       "      <th>sample</th>\n",
       "      <th>RXE</th>\n",
       "      <th>Individual_ID</th>\n",
       "      <th>Institution</th>\n",
       "      <th>Reported_Gender</th>\n",
       "      <th>Dx</th>\n",
       "      <th>Age_of_Death</th>\n",
       "    </tr>\n",
       "  </thead>\n",
       "  <tbody>\n",
       "    <tr>\n",
       "      <th>MSSM_RNA_PFC_1</th>\n",
       "      <td>2.593434</td>\n",
       "      <td>2.529137</td>\n",
       "      <td>MSSM_RNA_PFC_1</td>\n",
       "      <td>0.064297</td>\n",
       "      <td>CMC_MSSM_025</td>\n",
       "      <td>MSSM</td>\n",
       "      <td>Male</td>\n",
       "      <td>SCZ</td>\n",
       "      <td>68.0</td>\n",
       "    </tr>\n",
       "    <tr>\n",
       "      <th>MSSM_RNA_PFC_2</th>\n",
       "      <td>2.671583</td>\n",
       "      <td>2.594232</td>\n",
       "      <td>MSSM_RNA_PFC_2</td>\n",
       "      <td>0.077351</td>\n",
       "      <td>CMC_MSSM_136</td>\n",
       "      <td>MSSM</td>\n",
       "      <td>Male</td>\n",
       "      <td>Control</td>\n",
       "      <td>76.0</td>\n",
       "    </tr>\n",
       "  </tbody>\n",
       "</table>\n",
       "</div>"
      ],
      "text/plain": [
       "                       X  autosome          sample       RXE Individual_ID  \\\n",
       "MSSM_RNA_PFC_1  2.593434  2.529137  MSSM_RNA_PFC_1  0.064297  CMC_MSSM_025   \n",
       "MSSM_RNA_PFC_2  2.671583  2.594232  MSSM_RNA_PFC_2  0.077351  CMC_MSSM_136   \n",
       "\n",
       "               Institution Reported_Gender       Dx  Age_of_Death  \n",
       "MSSM_RNA_PFC_1        MSSM            Male      SCZ          68.0  \n",
       "MSSM_RNA_PFC_2        MSSM            Male  Control          76.0  "
      ]
     },
     "execution_count": 16,
     "metadata": {},
     "output_type": "execute_result"
    }
   ],
   "source": [
    "df2 = df1.merge(get_pheno(), left_index=True, right_index=True)\n",
    "df2.head(2)"
   ]
  },
  {
   "cell_type": "code",
   "execution_count": 17,
   "metadata": {},
   "outputs": [
    {
     "data": {
      "text/html": [
       "<div>\n",
       "<style scoped>\n",
       "    .dataframe tbody tr th:only-of-type {\n",
       "        vertical-align: middle;\n",
       "    }\n",
       "\n",
       "    .dataframe tbody tr th {\n",
       "        vertical-align: top;\n",
       "    }\n",
       "\n",
       "    .dataframe thead tr th {\n",
       "        text-align: left;\n",
       "    }\n",
       "\n",
       "    .dataframe thead tr:last-of-type th {\n",
       "        text-align: right;\n",
       "    }\n",
       "</style>\n",
       "<table border=\"1\" class=\"dataframe\">\n",
       "  <thead>\n",
       "    <tr>\n",
       "      <th></th>\n",
       "      <th></th>\n",
       "      <th colspan=\"8\" halign=\"left\">RXE</th>\n",
       "    </tr>\n",
       "    <tr>\n",
       "      <th></th>\n",
       "      <th></th>\n",
       "      <th>count</th>\n",
       "      <th>mean</th>\n",
       "      <th>std</th>\n",
       "      <th>min</th>\n",
       "      <th>25%</th>\n",
       "      <th>50%</th>\n",
       "      <th>75%</th>\n",
       "      <th>max</th>\n",
       "    </tr>\n",
       "    <tr>\n",
       "      <th>Institution</th>\n",
       "      <th>Reported_Gender</th>\n",
       "      <th></th>\n",
       "      <th></th>\n",
       "      <th></th>\n",
       "      <th></th>\n",
       "      <th></th>\n",
       "      <th></th>\n",
       "      <th></th>\n",
       "      <th></th>\n",
       "    </tr>\n",
       "  </thead>\n",
       "  <tbody>\n",
       "    <tr>\n",
       "      <th rowspan=\"2\" valign=\"top\">MSSM</th>\n",
       "      <th>Female</th>\n",
       "      <td>126.0</td>\n",
       "      <td>0.064452</td>\n",
       "      <td>0.067471</td>\n",
       "      <td>-0.091223</td>\n",
       "      <td>0.011314</td>\n",
       "      <td>0.077272</td>\n",
       "      <td>0.108856</td>\n",
       "      <td>0.252011</td>\n",
       "    </tr>\n",
       "    <tr>\n",
       "      <th>Male</th>\n",
       "      <td>181.0</td>\n",
       "      <td>0.057084</td>\n",
       "      <td>0.061493</td>\n",
       "      <td>-0.123864</td>\n",
       "      <td>0.028780</td>\n",
       "      <td>0.069662</td>\n",
       "      <td>0.098850</td>\n",
       "      <td>0.191223</td>\n",
       "    </tr>\n",
       "    <tr>\n",
       "      <th rowspan=\"2\" valign=\"top\">Penn</th>\n",
       "      <th>Female</th>\n",
       "      <td>54.0</td>\n",
       "      <td>0.087981</td>\n",
       "      <td>0.050013</td>\n",
       "      <td>-0.061658</td>\n",
       "      <td>0.056191</td>\n",
       "      <td>0.087779</td>\n",
       "      <td>0.117958</td>\n",
       "      <td>0.237269</td>\n",
       "    </tr>\n",
       "    <tr>\n",
       "      <th>Male</th>\n",
       "      <td>40.0</td>\n",
       "      <td>0.086565</td>\n",
       "      <td>0.060443</td>\n",
       "      <td>-0.054610</td>\n",
       "      <td>0.052106</td>\n",
       "      <td>0.089127</td>\n",
       "      <td>0.114203</td>\n",
       "      <td>0.241984</td>\n",
       "    </tr>\n",
       "    <tr>\n",
       "      <th rowspan=\"2\" valign=\"top\">Pitt</th>\n",
       "      <th>Female</th>\n",
       "      <td>41.0</td>\n",
       "      <td>0.096361</td>\n",
       "      <td>0.031602</td>\n",
       "      <td>0.035355</td>\n",
       "      <td>0.072419</td>\n",
       "      <td>0.095637</td>\n",
       "      <td>0.125129</td>\n",
       "      <td>0.155254</td>\n",
       "    </tr>\n",
       "    <tr>\n",
       "      <th>Male</th>\n",
       "      <td>106.0</td>\n",
       "      <td>0.086847</td>\n",
       "      <td>0.038292</td>\n",
       "      <td>0.013630</td>\n",
       "      <td>0.061782</td>\n",
       "      <td>0.083307</td>\n",
       "      <td>0.113255</td>\n",
       "      <td>0.183857</td>\n",
       "    </tr>\n",
       "  </tbody>\n",
       "</table>\n",
       "</div>"
      ],
      "text/plain": [
       "                               RXE                                          \\\n",
       "                             count      mean       std       min       25%   \n",
       "Institution Reported_Gender                                                  \n",
       "MSSM        Female           126.0  0.064452  0.067471 -0.091223  0.011314   \n",
       "            Male             181.0  0.057084  0.061493 -0.123864  0.028780   \n",
       "Penn        Female            54.0  0.087981  0.050013 -0.061658  0.056191   \n",
       "            Male              40.0  0.086565  0.060443 -0.054610  0.052106   \n",
       "Pitt        Female            41.0  0.096361  0.031602  0.035355  0.072419   \n",
       "            Male             106.0  0.086847  0.038292  0.013630  0.061782   \n",
       "\n",
       "                                                           \n",
       "                                  50%       75%       max  \n",
       "Institution Reported_Gender                                \n",
       "MSSM        Female           0.077272  0.108856  0.252011  \n",
       "            Male             0.069662  0.098850  0.191223  \n",
       "Penn        Female           0.087779  0.117958  0.237269  \n",
       "            Male             0.089127  0.114203  0.241984  \n",
       "Pitt        Female           0.095637  0.125129  0.155254  \n",
       "            Male             0.083307  0.113255  0.183857  "
      ]
     },
     "execution_count": 17,
     "metadata": {},
     "output_type": "execute_result"
    }
   ],
   "source": [
    "df2.loc[:, ['Reported_Gender', 'Institution', 'RXE']].groupby([\"Institution\", 'Reported_Gender']).describe()"
   ]
  },
  {
   "cell_type": "code",
   "execution_count": 18,
   "metadata": {},
   "outputs": [
    {
     "name": "stdout",
     "output_type": "stream",
     "text": [
      "There is 1.043 variation for Female in MSSM.\n",
      "There is 1.074 variation for Male in MSSM.\n",
      "There is 0.563 variation for Female in Penn.\n",
      "There is 0.689 variation for Male in Penn.\n",
      "There is 0.324 variation for Female in Pitt.\n",
      "There is 0.439 variation for Male in Pitt.\n"
     ]
    }
   ],
   "source": [
    "for institution in df2.Institution.unique():\n",
    "    for sex in [\"Female\", \"Male\"]:\n",
    "        var = variation(df2[(df2['Institution']==institution) & \n",
    "                            (df2['Reported_Gender']==sex)].RXE)\n",
    "        print(\"There is %.3f variation for %s in %s.\" % (var, sex, institution))"
   ]
  },
  {
   "cell_type": "code",
   "execution_count": 19,
   "metadata": {},
   "outputs": [
    {
     "data": {
      "text/html": [
       "<div>\n",
       "<style scoped>\n",
       "    .dataframe tbody tr th:only-of-type {\n",
       "        vertical-align: middle;\n",
       "    }\n",
       "\n",
       "    .dataframe tbody tr th {\n",
       "        vertical-align: top;\n",
       "    }\n",
       "\n",
       "    .dataframe thead tr th {\n",
       "        text-align: left;\n",
       "    }\n",
       "\n",
       "    .dataframe thead tr:last-of-type th {\n",
       "        text-align: right;\n",
       "    }\n",
       "</style>\n",
       "<table border=\"1\" class=\"dataframe\">\n",
       "  <thead>\n",
       "    <tr>\n",
       "      <th></th>\n",
       "      <th colspan=\"8\" halign=\"left\">RXE</th>\n",
       "    </tr>\n",
       "    <tr>\n",
       "      <th></th>\n",
       "      <th>count</th>\n",
       "      <th>mean</th>\n",
       "      <th>std</th>\n",
       "      <th>min</th>\n",
       "      <th>25%</th>\n",
       "      <th>50%</th>\n",
       "      <th>75%</th>\n",
       "      <th>max</th>\n",
       "    </tr>\n",
       "    <tr>\n",
       "      <th>Reported_Gender</th>\n",
       "      <th></th>\n",
       "      <th></th>\n",
       "      <th></th>\n",
       "      <th></th>\n",
       "      <th></th>\n",
       "      <th></th>\n",
       "      <th></th>\n",
       "      <th></th>\n",
       "    </tr>\n",
       "  </thead>\n",
       "  <tbody>\n",
       "    <tr>\n",
       "      <th>Female</th>\n",
       "      <td>221.0</td>\n",
       "      <td>0.076121</td>\n",
       "      <td>0.059662</td>\n",
       "      <td>-0.091223</td>\n",
       "      <td>0.046247</td>\n",
       "      <td>0.084960</td>\n",
       "      <td>0.112245</td>\n",
       "      <td>0.252011</td>\n",
       "    </tr>\n",
       "    <tr>\n",
       "      <th>Male</th>\n",
       "      <td>327.0</td>\n",
       "      <td>0.070338</td>\n",
       "      <td>0.056707</td>\n",
       "      <td>-0.123864</td>\n",
       "      <td>0.043616</td>\n",
       "      <td>0.076682</td>\n",
       "      <td>0.105211</td>\n",
       "      <td>0.241984</td>\n",
       "    </tr>\n",
       "  </tbody>\n",
       "</table>\n",
       "</div>"
      ],
      "text/plain": [
       "                   RXE                                                    \\\n",
       "                 count      mean       std       min       25%       50%   \n",
       "Reported_Gender                                                            \n",
       "Female           221.0  0.076121  0.059662 -0.091223  0.046247  0.084960   \n",
       "Male             327.0  0.070338  0.056707 -0.123864  0.043616  0.076682   \n",
       "\n",
       "                                     \n",
       "                      75%       max  \n",
       "Reported_Gender                      \n",
       "Female           0.112245  0.252011  \n",
       "Male             0.105211  0.241984  "
      ]
     },
     "execution_count": 19,
     "metadata": {},
     "output_type": "execute_result"
    }
   ],
   "source": [
    "df2.loc[:, ['Reported_Gender', 'Institution', 'RXE']].groupby(['Reported_Gender']).describe()"
   ]
  },
  {
   "cell_type": "code",
   "execution_count": 20,
   "metadata": {},
   "outputs": [
    {
     "name": "stdout",
     "output_type": "stream",
     "text": [
      "There is 0.782 variation for Female.\n",
      "There is 0.805 variation for Male.\n"
     ]
    }
   ],
   "source": [
    "for sex in [\"Female\", \"Male\"]:\n",
    "    var = variation(df2[(df2['Reported_Gender']==sex)].RXE)\n",
    "    print(\"There is %.3f variation for %s.\" % (var, sex)) # Not sure if this variation is real"
   ]
  },
  {
   "cell_type": "markdown",
   "metadata": {},
   "source": [
    "### Separate out tissues"
   ]
  },
  {
   "cell_type": "code",
   "execution_count": 21,
   "metadata": {},
   "outputs": [
    {
     "name": "stdout",
     "output_type": "stream",
     "text": [
      "Mann-WhitneyU for female vs male (RXE) for MSSM: 0.1465\n",
      "Mann-WhitneyU for female vs male (RXE) for Penn: 0.4347\n",
      "Mann-WhitneyU for female vs male (RXE) for Pitt: 0.0639\n"
     ]
    }
   ],
   "source": [
    "for institution in df2.Institution.unique():\n",
    "    dft = df2[(df2['Institution'] == institution)].copy()\n",
    "    stat, pval = mannwhitneyu(dft[(dft['Reported_Gender']==\"Female\")].RXE,\n",
    "                              dft[(dft['Reported_Gender']==\"Male\")].RXE)\n",
    "    print(\"Mann-WhitneyU for female vs male (RXE) for %s: %.4f\" % (institution, pval))"
   ]
  },
  {
   "cell_type": "code",
   "execution_count": 22,
   "metadata": {},
   "outputs": [
    {
     "name": "stdout",
     "output_type": "stream",
     "text": [
      "Mann-WhitneyU for female vs male (RXE) for DLPFC: 0.0668\n"
     ]
    }
   ],
   "source": [
    "stat, pval = mannwhitneyu(df2[(df2['Reported_Gender']==\"Female\")].RXE,\n",
    "                          df2[(df2['Reported_Gender']==\"Male\")].RXE)\n",
    "print(\"Mann-WhitneyU for female vs male (RXE) for %s: %.4f, %.1f\" % (\"DLPFC\", pval, stat))"
   ]
  },
  {
   "cell_type": "code",
   "execution_count": 27,
   "metadata": {},
   "outputs": [
    {
     "name": "stdout",
     "output_type": "stream",
     "text": [
      "Mann-WhitneyU for ctl vs sz (RXE) for MSSM: 1.6856e-02\n",
      "Mann-WhitneyU for ctl vs sz (RXE) for Penn: 1.5906e-01\n",
      "Mann-WhitneyU for ctl vs sz (RXE) for Pitt: 1.6895e-01\n"
     ]
    }
   ],
   "source": [
    "for institution in df2.Institution.unique():\n",
    "    dft = df2[(df2['Institution'] == institution)].copy()\n",
    "    stat, pval = mannwhitneyu(dft[(dft['Dx']=='Control')].RXE, \n",
    "                              dft[(dft['Dx']=='SCZ')].RXE)\n",
    "    print(\"Mann-WhitneyU for ctl vs sz (RXE) for %s: %.4e\" % (institution, pval))"
   ]
  },
  {
   "cell_type": "code",
   "execution_count": 26,
   "metadata": {},
   "outputs": [
    {
     "name": "stdout",
     "output_type": "stream",
     "text": [
      "Mann-WhitneyU for female vs male (RXE) for DLPFC: 3.1961e-02\n"
     ]
    }
   ],
   "source": [
    "stat, pval = mannwhitneyu(df2[(df2['Dx']==\"Control\")].RXE,\n",
    "                          df2[(df2['Dx']==\"SCZ\")].RXE)\n",
    "print(\"Mann-WhitneyU for female vs male (RXE) for %s: %.4e, %.1f\" % (\"DLPFC\", pval, stat))"
   ]
  },
  {
   "cell_type": "code",
   "execution_count": 28,
   "metadata": {},
   "outputs": [
    {
     "name": "stdout",
     "output_type": "stream",
     "text": [
      "Mann-WhitneyU of female, ctl vs sz (RXE) for MSSM: 0.1266\n",
      "Mann-WhitneyU of male, ctl vs sz (RXE) for MSSM: 0.0520\n",
      "Mann-WhitneyU of female, ctl vs sz (RXE) for Penn: 0.3124\n",
      "Mann-WhitneyU of male, ctl vs sz (RXE) for Penn: 0.0294\n",
      "Mann-WhitneyU of female, ctl vs sz (RXE) for Pitt: 0.2924\n",
      "Mann-WhitneyU of male, ctl vs sz (RXE) for Pitt: 0.1202\n"
     ]
    }
   ],
   "source": [
    "for institution in df2.Institution.unique():\n",
    "    dft = df2[(df2['Institution'] == institution)].copy()\n",
    "    female = dft[(dft['Reported_Gender']=='Female')].copy()\n",
    "    male = dft[(dft['Reported_Gender']=='Male')].copy()\n",
    "    stat_f, pval_f = mannwhitneyu(female[(female['Dx']=='Control')].RXE, \n",
    "                                  female[(female['Dx']=='SCZ')].RXE)\n",
    "    stat_m, pval_m = mannwhitneyu(male[(male['Dx']=='Control')].RXE, \n",
    "                                  male[(male['Dx']=='SCZ')].RXE)\n",
    "    print(\"Mann-WhitneyU of female, ctl vs sz (RXE) for %s: %.4f\" % (institution, pval_f))\n",
    "    print(\"Mann-WhitneyU of male, ctl vs sz (RXE) for %s: %.4f\" % (institution, pval_m))"
   ]
  },
  {
   "cell_type": "code",
   "execution_count": 29,
   "metadata": {},
   "outputs": [
    {
     "name": "stdout",
     "output_type": "stream",
     "text": [
      "Mann-WhitneyU of female, ctl vs sz (RXE) for DLPFC: 0.2115\n",
      "Mann-WhitneyU of male, ctl vs sz (RXE) for DLPFC: 0.0504\n"
     ]
    }
   ],
   "source": [
    "female = df2[(df2['Reported_Gender']=='Female')].copy()\n",
    "male = df2[(df2['Reported_Gender']=='Male')].copy()\n",
    "stat_f, pval_f = mannwhitneyu(female[(female['Dx']=='Control')].RXE, \n",
    "                                  female[(female['Dx']=='SCZ')].RXE)\n",
    "stat_m, pval_m = mannwhitneyu(male[(male['Dx']=='Control')].RXE, \n",
    "                                  male[(male['Dx']=='SCZ')].RXE)\n",
    "print(\"Mann-WhitneyU of female, ctl vs sz (RXE) for %s: %.4f, %.2f\" % (\"DLPFC\", pval_f, stat_f))\n",
    "print(\"Mann-WhitneyU of male, ctl vs sz (RXE) for %s: %.4f, %.2f\" % (\"DLPFC\", pval_m, stat_m))"
   ]
  },
  {
   "cell_type": "markdown",
   "metadata": {},
   "source": [
    "### Interaction model"
   ]
  },
  {
   "cell_type": "code",
   "execution_count": 30,
   "metadata": {},
   "outputs": [
    {
     "data": {
      "text/html": [
       "<div>\n",
       "<style scoped>\n",
       "    .dataframe tbody tr th:only-of-type {\n",
       "        vertical-align: middle;\n",
       "    }\n",
       "\n",
       "    .dataframe tbody tr th {\n",
       "        vertical-align: top;\n",
       "    }\n",
       "\n",
       "    .dataframe thead th {\n",
       "        text-align: right;\n",
       "    }\n",
       "</style>\n",
       "<table border=\"1\" class=\"dataframe\">\n",
       "  <thead>\n",
       "    <tr style=\"text-align: right;\">\n",
       "      <th></th>\n",
       "      <th>X</th>\n",
       "      <th>autosome</th>\n",
       "      <th>sample</th>\n",
       "      <th>RXE</th>\n",
       "      <th>Individual_ID</th>\n",
       "      <th>Institution</th>\n",
       "      <th>Reported_Gender</th>\n",
       "      <th>Dx</th>\n",
       "      <th>Age_of_Death</th>\n",
       "    </tr>\n",
       "  </thead>\n",
       "  <tbody>\n",
       "    <tr>\n",
       "      <th>MSSM_RNA_PFC_1</th>\n",
       "      <td>2.593434</td>\n",
       "      <td>2.529137</td>\n",
       "      <td>MSSM_RNA_PFC_1</td>\n",
       "      <td>0.064297</td>\n",
       "      <td>CMC_MSSM_025</td>\n",
       "      <td>MSSM</td>\n",
       "      <td>Male</td>\n",
       "      <td>SZ</td>\n",
       "      <td>68.0</td>\n",
       "    </tr>\n",
       "    <tr>\n",
       "      <th>MSSM_RNA_PFC_2</th>\n",
       "      <td>2.671583</td>\n",
       "      <td>2.594232</td>\n",
       "      <td>MSSM_RNA_PFC_2</td>\n",
       "      <td>0.077351</td>\n",
       "      <td>CMC_MSSM_136</td>\n",
       "      <td>MSSM</td>\n",
       "      <td>Male</td>\n",
       "      <td>CTL</td>\n",
       "      <td>76.0</td>\n",
       "    </tr>\n",
       "  </tbody>\n",
       "</table>\n",
       "</div>"
      ],
      "text/plain": [
       "                       X  autosome          sample       RXE Individual_ID  \\\n",
       "MSSM_RNA_PFC_1  2.593434  2.529137  MSSM_RNA_PFC_1  0.064297  CMC_MSSM_025   \n",
       "MSSM_RNA_PFC_2  2.671583  2.594232  MSSM_RNA_PFC_2  0.077351  CMC_MSSM_136   \n",
       "\n",
       "               Institution Reported_Gender   Dx  Age_of_Death  \n",
       "MSSM_RNA_PFC_1        MSSM            Male   SZ          68.0  \n",
       "MSSM_RNA_PFC_2        MSSM            Male  CTL          76.0  "
      ]
     },
     "execution_count": 30,
     "metadata": {},
     "output_type": "execute_result"
    }
   ],
   "source": [
    "df2.Reported_Gender = df2.Reported_Gender.astype(\"category\").cat.reorder_categories([\"Female\", \"Male\"], ordered=True)\n",
    "df2.Dx = df2.Dx.astype(\"category\").cat.rename_categories({\"SCZ\": \"SZ\", \"Control\": \"CTL\"})\n",
    "df2.head(2)"
   ]
  },
  {
   "cell_type": "code",
   "execution_count": 31,
   "metadata": {},
   "outputs": [
    {
     "data": {
      "text/html": [
       "<div>\n",
       "<style scoped>\n",
       "    .dataframe tbody tr th:only-of-type {\n",
       "        vertical-align: middle;\n",
       "    }\n",
       "\n",
       "    .dataframe tbody tr th {\n",
       "        vertical-align: top;\n",
       "    }\n",
       "\n",
       "    .dataframe thead th {\n",
       "        text-align: right;\n",
       "    }\n",
       "</style>\n",
       "<table border=\"1\" class=\"dataframe\">\n",
       "  <thead>\n",
       "    <tr style=\"text-align: right;\">\n",
       "      <th></th>\n",
       "      <th>RXE</th>\n",
       "      <th>Reported_Gender</th>\n",
       "      <th>Dx</th>\n",
       "      <th>Institution</th>\n",
       "    </tr>\n",
       "  </thead>\n",
       "  <tbody>\n",
       "    <tr>\n",
       "      <th>MSSM_RNA_PFC_1</th>\n",
       "      <td>0.064297</td>\n",
       "      <td>1</td>\n",
       "      <td>1</td>\n",
       "      <td>0</td>\n",
       "    </tr>\n",
       "    <tr>\n",
       "      <th>MSSM_RNA_PFC_2</th>\n",
       "      <td>0.077351</td>\n",
       "      <td>1</td>\n",
       "      <td>0</td>\n",
       "      <td>0</td>\n",
       "    </tr>\n",
       "  </tbody>\n",
       "</table>\n",
       "</div>"
      ],
      "text/plain": [
       "                     RXE  Reported_Gender  Dx  Institution\n",
       "MSSM_RNA_PFC_1  0.064297                1   1            0\n",
       "MSSM_RNA_PFC_2  0.077351                1   0            0"
      ]
     },
     "execution_count": 31,
     "metadata": {},
     "output_type": "execute_result"
    }
   ],
   "source": [
    "df3 = df2.loc[:, ['RXE', 'Reported_Gender', \"Dx\", 'Institution']]\n",
    "df3.loc[:, \"Reported_Gender\"] = df3.Reported_Gender.cat.codes\n",
    "df3.Dx = df3.Dx.cat.codes\n",
    "df3.loc[:, \"Institution\"] = df3.Institution.astype(\"category\").cat.codes\n",
    "df3.head(2)"
   ]
  },
  {
   "cell_type": "code",
   "execution_count": 32,
   "metadata": {},
   "outputs": [
    {
     "name": "stdout",
     "output_type": "stream",
     "text": [
      "                                     sum_sq     df          F        PR(>F)\n",
      "C(Reported_Gender)                 0.003124    1.0   0.989977  3.201953e-01\n",
      "C(Dx)                              0.008015    1.0   2.540253  1.115643e-01\n",
      "C(Institution)                     0.110131    2.0  17.452435  4.531437e-08\n",
      "C(Reported_Gender):C(Dx)           0.000422    1.0   0.133855  7.146118e-01\n",
      "C(Reported_Gender):C(Institution)  0.000782    2.0   0.123878  8.835131e-01\n",
      "C(Dx):C(Institution)               0.013091    2.0   2.074470  1.266267e-01\n",
      "Residual                           1.697487  538.0        NaN           NaN\n"
     ]
    }
   ],
   "source": [
    "import statsmodels.api as sm\n",
    "from statsmodels.formula.api import ols\n",
    "\n",
    "anova_df = df2.loc[:,['RXE','Reported_Gender', \"Dx\", 'Institution']]\n",
    "\n",
    "# ANOVA results with combinations of 2 groups:\n",
    "formula = 'RXE ~ C(Reported_Gender) + C(Dx) + C(Institution) + C(Reported_Gender):C(Dx) + C(Reported_Gender):C(Institution) + C(Dx):C(Institution)'\n",
    "lm = ols(formula, anova_df).fit()\n",
    "table = sm.stats.anova_lm(lm, typ=2)\n",
    "print(table)"
   ]
  },
  {
   "cell_type": "markdown",
   "metadata": {},
   "source": [
    "#### There is a massive difference between institutions, but no interaction between institution and sex or sex and diagnosis"
   ]
  },
  {
   "cell_type": "markdown",
   "metadata": {},
   "source": [
    "### Plot RXE"
   ]
  },
  {
   "cell_type": "code",
   "execution_count": 33,
   "metadata": {},
   "outputs": [
    {
     "data": {
      "image/png": "[encoded data removed]",
      "text/plain": [
       "<Figure size 640x480 with 1 Axes>"
      ]
     },
     "metadata": {
      "needs_background": "light"
     },
     "output_type": "display_data"
    },
    {
     "data": {
      "text/plain": [
       "<ggplot: (8771964066166)>"
      ]
     },
     "execution_count": 33,
     "metadata": {},
     "output_type": "execute_result"
    }
   ],
   "source": [
    "p = ggplot(df2, aes(x='Reported_Gender', y='RXE', fill='Dx')) \\\n",
    "+ geom_boxplot()\\\n",
    "+ ylab(\"Relative X Expression\")\\\n",
    "+ theme_matplotlib()\n",
    "p + theme(axis_text_x = element_text(angle = 45))"
   ]
  },
  {
   "cell_type": "code",
   "execution_count": 34,
   "metadata": {},
   "outputs": [
    {
     "name": "stderr",
     "output_type": "stream",
     "text": [
      "/home/jbenja13/.local/lib/python3.9/site-packages/plotnine/facets/facet_grid.py:136: FutureWarning: Index.__and__ operating as a set operation is deprecated, in the future this will be a logical operation matching Series.__and__.  Use index.intersection(other) instead\n",
      "/home/jbenja13/.local/lib/python3.9/site-packages/plotnine/facets/facet_grid.py:137: FutureWarning: Index.__and__ operating as a set operation is deprecated, in the future this will be a logical operation matching Series.__and__.  Use index.intersection(other) instead\n"
     ]
    },
    {
     "data": {
      "image/png": "[encoded data removed]",
      "text/plain": [
       "<Figure size 640x480 with 2 Axes>"
      ]
     },
     "metadata": {
      "needs_background": "light"
     },
     "output_type": "display_data"
    },
    {
     "data": {
      "text/plain": [
       "<ggplot: (8771964066121)>"
      ]
     },
     "execution_count": 34,
     "metadata": {},
     "output_type": "execute_result"
    }
   ],
   "source": [
    "p = ggplot(df2, aes(x='Institution', y='RXE', fill='Dx')) \\\n",
    "+ geom_boxplot()\\\n",
    "+ ylab(\"Relative X Expression\")\\\n",
    "+ facet_grid(\"~Reported_Gender\")\\\n",
    "+ theme_matplotlib()\n",
    "p + theme(axis_text_x = element_text(angle = 90))"
   ]
  },
  {
   "cell_type": "code",
   "execution_count": 35,
   "metadata": {},
   "outputs": [
    {
     "data": {
      "image/png": "[encoded data removed]",
      "text/plain": [
       "<Figure size 640x480 with 1 Axes>"
      ]
     },
     "metadata": {
      "needs_background": "light"
     },
     "output_type": "display_data"
    },
    {
     "data": {
      "text/plain": [
       "<ggplot: (8771965471130)>"
      ]
     },
     "execution_count": 35,
     "metadata": {},
     "output_type": "execute_result"
    }
   ],
   "source": [
    "p = ggplot(df2, aes(x='Institution', y='RXE', fill='Reported_Gender')) \\\n",
    "+ geom_boxplot()\\\n",
    "+ ylab(\"Relative X Expression\")\\\n",
    "+ theme_matplotlib()\n",
    "p + theme(axis_text_x = element_text(angle = 90))"
   ]
  },
  {
   "cell_type": "code",
   "execution_count": 36,
   "metadata": {},
   "outputs": [
    {
     "name": "stderr",
     "output_type": "stream",
     "text": [
      "/home/jbenja13/.local/lib/python3.9/site-packages/plotnine/facets/facet_grid.py:136: FutureWarning: Index.__and__ operating as a set operation is deprecated, in the future this will be a logical operation matching Series.__and__.  Use index.intersection(other) instead\n",
      "/home/jbenja13/.local/lib/python3.9/site-packages/plotnine/facets/facet_grid.py:137: FutureWarning: Index.__and__ operating as a set operation is deprecated, in the future this will be a logical operation matching Series.__and__.  Use index.intersection(other) instead\n"
     ]
    },
    {
     "data": {
      "image/png": "[encoded data removed]",
      "text/plain": [
       "<Figure size 640x480 with 2 Axes>"
      ]
     },
     "metadata": {
      "needs_background": "light"
     },
     "output_type": "display_data"
    },
    {
     "data": {
      "text/plain": [
       "<ggplot: (8771965135945)>"
      ]
     },
     "execution_count": 36,
     "metadata": {},
     "output_type": "execute_result"
    }
   ],
   "source": [
    "p = ggplot(df2, aes(x='sample', y='RXE', shape=\"Dx\", fill='Institution')) \\\n",
    "+ geom_point() + ylim([-0.5, 0.5]) + xlab(\"Samples\")\\\n",
    "+ ylab(\"Relative X Expression\") + facet_grid(\"Reported_Gender~.\")\\\n",
    "+ theme_matplotlib() \\\n",
    "+ theme(axis_text_x=element_blank(), \n",
    "        axis_text=element_text(size=13), \n",
    "        legend_title=element_text(size=15, face=\"bold\"), \n",
    "        legend_text=element_text(size=13),\n",
    "        axis_title=element_text(size=16, face=\"bold\"), \n",
    "        strip_text=element_text(size=14, face=\"bold\"))\n",
    "p"
   ]
  },
  {
   "cell_type": "code",
   "execution_count": 46,
   "metadata": {},
   "outputs": [],
   "source": [
    "df2.to_csv('RXE_public.csv')\n",
    "save_ggplot(p, \"RXE_public_bySex\")"
   ]
  },
  {
   "cell_type": "code",
   "execution_count": null,
   "metadata": {},
   "outputs": [],
   "source": []
  }
 ],
 "metadata": {
  "kernelspec": {
   "display_name": "Python 3",
   "language": "python",
   "name": "python3"
  },
  "language_info": {
   "codemirror_mode": {
    "name": "ipython",
    "version": 3
   },
   "file_extension": ".py",
   "mimetype": "text/x-python",
   "name": "python",
   "nbconvert_exporter": "python",
   "pygments_lexer": "ipython3",
   "version": "3.9.1"
  }
 },
 "nbformat": 4,
 "nbformat_minor": 4
}
