{
 "cells": [
  {
   "cell_type": "markdown",
   "metadata": {},
   "source": [
    "# Calculate RXE for public dataset, females only based on Apua's script\n",
    "This has been edited from Apua's script."
   ]
  },
  {
   "cell_type": "code",
   "execution_count": null,
   "metadata": {},
   "outputs": [],
   "source": [
    "import numpy as np\n",
    "import pandas as pd\n",
    "from os import environ\n",
    "from plotnine import *\n",
    "from pyhere import here\n",
    "import re, session_info\n",
    "import statsmodels.api as sm\n",
    "from functools import lru_cache\n",
    "from scipy.stats import variation\n",
    "from warnings import filterwarnings\n",
    "from scipy.stats import mannwhitneyu\n",
    "from statsmodels.formula.api import ols\n",
    "from matplotlib.cbook import mplDeprecation"
   ]
  },
  {
   "cell_type": "code",
   "execution_count": null,
   "metadata": {},
   "outputs": [],
   "source": [
    "filterwarnings(\"ignore\",category=mplDeprecation)\n",
    "filterwarnings('ignore', category=UserWarning, module='plotnine.*')\n",
    "filterwarnings('ignore', category=DeprecationWarning, module='plotnine.*')"
   ]
  },
  {
   "cell_type": "code",
   "execution_count": null,
   "metadata": {},
   "outputs": [],
   "source": [
    "environ['NUMEXPR_MAX_THREADS'] = '4'"
   ]
  },
  {
   "cell_type": "markdown",
   "metadata": {},
   "source": [
    "## Functions"
   ]
  },
  {
   "cell_type": "code",
   "execution_count": null,
   "metadata": {},
   "outputs": [],
   "source": [
    "@lru_cache()\n",
    "def get_pheno():\n",
    "    return pd.read_csv(here('input/phenotypes/_m/phenotypes.csv'), index_col=0)\n",
    "\n",
    "\n",
    "@lru_cache()\n",
    "def get_logTPM(tissue):\n",
    "    fn = here(f'input/counts/text_files_counts/tpm/_m/{tissue}/gene.log2tpm.csv')\n",
    "    return pd.read_csv(fn, index_col=0)\n",
    "\n",
    "\n",
    "@lru_cache()\n",
    "def get_annotation():\n",
    "    \"\"\"\n",
    "    Get the annotation file for genes.\n",
    "    \"\"\"\n",
    "    fn = here(\"input/counts/text_files_counts/_m\",\n",
    "              \"caudate/gene_annotation.txt\")\n",
    "    return pd.read_csv(fn, sep=\"\\t\")"
   ]
  },
  {
   "cell_type": "code",
   "execution_count": null,
   "metadata": {},
   "outputs": [],
   "source": [
    "def save_ggplot(p, fn):\n",
    "    for ext in ['.pdf', '.png', '.svg']:\n",
    "        p.save(fn+ext, width=10, height=7)\n",
    "        \n",
    "\n",
    "def rge(df, chrom):\n",
    "    return df[df['seqname']==chrom][samples].mean() \\\n",
    "    - df[(df['chrom_type']=='autosome') & (df['seqname']!=chrom)][samples].mean()\n",
    "\n",
    "\n",
    "def annotate_chrom(df):\n",
    "    df.loc[:, \"chrom_types\"] = \"Other\"\n",
    "    df.loc[df[\"seqnames\"].isin([\"chrX\", \"chrY\"]), \"chrom_types\"] = \"Allosome\"\n",
    "    df.loc[df[\"seqnames\"].str.contains(\"chr\\d+\"), \"chrom_types\"] = \"Autosome\"\n",
    "    df.loc[df[\"seqnames\"] == \"chrM\", \"chrom_types\"] = \"Mitochondria\"\n",
    "    df.loc[df[\"seqnames\"] == \"chrX\", \"chrom_types\"] = \"X\"\n",
    "    return df"
   ]
  },
  {
   "cell_type": "markdown",
   "metadata": {},
   "source": [
    "## Load and merge data"
   ]
  },
  {
   "cell_type": "code",
   "execution_count": null,
   "metadata": {},
   "outputs": [],
   "source": [
    "log2tpm = pd.DataFrame()\n",
    "for tissue in [\"caudate\", \"dlpfc\", \"hippocampus\"]:\n",
    "    log2tpm = pd.concat([log2tpm, get_logTPM(tissue)], axis=1)\n",
    "print(log2tpm.shape)\n",
    "log2tpm.iloc[0:2, 0:5]"
   ]
  },
  {
   "cell_type": "markdown",
   "metadata": {
    "tags": []
   },
   "source": [
    "## Annotate TPM"
   ]
  },
  {
   "cell_type": "code",
   "execution_count": null,
   "metadata": {},
   "outputs": [],
   "source": [
    "get_annotation().head(2)"
   ]
  },
  {
   "cell_type": "code",
   "execution_count": null,
   "metadata": {},
   "outputs": [],
   "source": [
    "df0 = log2tpm.merge(get_annotation().loc[:, [\"name\", \"gene_name\", \"seqnames\"]], \n",
    "                    left_index=True, right_on=\"name\")\n",
    "df0 = annotate_chrom(df0)\n",
    "print(df0.shape)\n",
    "df0.groupby('chrom_types').size()"
   ]
  },
  {
   "cell_type": "markdown",
   "metadata": {},
   "source": [
    "## Filtering genes"
   ]
  },
  {
   "cell_type": "code",
   "execution_count": null,
   "metadata": {},
   "outputs": [],
   "source": [
    "samples = [x for x in log2tpm.columns if re.match('R\\d+', x)]\n",
    "df = df0[(df0[samples].sum(axis=1) >= 0.2 * len(samples)) & \n",
    "         (df0['chrom_types'].isin([\"X\", \"Autosome\"]))].copy()\n",
    "df.shape"
   ]
  },
  {
   "cell_type": "markdown",
   "metadata": {},
   "source": [
    "## Generate RXE"
   ]
  },
  {
   "cell_type": "code",
   "execution_count": null,
   "metadata": {},
   "outputs": [],
   "source": [
    "df1  = df.groupby('chrom_types').mean(numeric_only=True).transpose()\n",
    "df1.head(2)"
   ]
  },
  {
   "cell_type": "code",
   "execution_count": null,
   "metadata": {},
   "outputs": [],
   "source": [
    "df1['sample'] = df1.index\n",
    "df1['RXE'] = df1['X'] - df1['Autosome']\n",
    "df1.head(2)"
   ]
  },
  {
   "cell_type": "markdown",
   "metadata": {},
   "source": [
    "## Annotated sample IDs"
   ]
  },
  {
   "cell_type": "code",
   "execution_count": null,
   "metadata": {},
   "outputs": [],
   "source": [
    "df2 = df1.merge(get_pheno().loc[:, ['RNum', 'Sex', 'Dx', 'Region']], \n",
    "                left_index=True, right_on=\"RNum\")\n",
    "df2.loc[:, ['Region', 'Sex', 'RXE']].groupby(['Region', 'Sex']).describe()"
   ]
  },
  {
   "cell_type": "markdown",
   "metadata": {},
   "source": [
    "## Metrics summary"
   ]
  },
  {
   "cell_type": "markdown",
   "metadata": {},
   "source": [
    "### Variation of RXE"
   ]
  },
  {
   "cell_type": "code",
   "execution_count": null,
   "metadata": {},
   "outputs": [],
   "source": [
    "for tissue in ['Caudate', 'DLPFC', 'HIPPO']:\n",
    "    for sex in ['F', 'M']:\n",
    "        var = variation(df2[(df2['Region']==tissue) & (df2['Sex']==sex)].RXE)\n",
    "        print(f\"There is {var:.3} variation for {sex} in {tissue}.\")"
   ]
  },
  {
   "cell_type": "code",
   "execution_count": null,
   "metadata": {
    "tags": []
   },
   "outputs": [],
   "source": [
    "## Separate out tissues\n",
    "\n",
    "caudate = df2[(df2['Region']=='Caudate')].copy()\n",
    "dlpfc = df2[(df2['Region']=='DLPFC')].copy()\n",
    "hippo = df2[(df2['Region']=='HIPPO')].copy()"
   ]
  },
  {
   "cell_type": "markdown",
   "metadata": {},
   "source": [
    "### Mann-WhitneyU (Female to Male)"
   ]
  },
  {
   "cell_type": "code",
   "execution_count": null,
   "metadata": {},
   "outputs": [],
   "source": [
    "for tissue in ['caudate', 'DLPFC', \"hippocampus\"]:\n",
    "    df_config = {'caudate': caudate,'DLPFC': dlpfc,'hippocampus': hippo}\n",
    "    stat, pval = mannwhitneyu(df_config[tissue][(df_config[tissue]['Sex']=='F')].RXE, \n",
    "                              df_config[tissue][(df_config[tissue]['Sex']=='M')].RXE)\n",
    "    print(f\"Mann-WhitneyU for female vs male (RXE) for {tissue}: {pval:.4}\")"
   ]
  },
  {
   "cell_type": "markdown",
   "metadata": {},
   "source": [
    "### Mann-WhitneyU (CTL vs SZ)"
   ]
  },
  {
   "cell_type": "code",
   "execution_count": null,
   "metadata": {},
   "outputs": [],
   "source": [
    "for tissue in ['caudate', 'DLPFC', \"hippocampus\"]:\n",
    "    df_config = {'caudate': caudate,'DLPFC': dlpfc,'hippocampus': hippo}\n",
    "    stat, pval = mannwhitneyu(df_config[tissue][(df_config[tissue]['Dx']=='Control')].RXE, \n",
    "                              df_config[tissue][(df_config[tissue]['Dx']=='SCZD')].RXE)\n",
    "    print(f\"Mann-WhitneyU for ctl vs sz (RXE) for {tissue}: {pval:.4}\")"
   ]
  },
  {
   "cell_type": "markdown",
   "metadata": {},
   "source": [
    "### Subset by sex: diagnosis status"
   ]
  },
  {
   "cell_type": "code",
   "execution_count": null,
   "metadata": {},
   "outputs": [],
   "source": [
    "for tissue in ['caudate', 'DLPFC', \"hippocampus\"]:\n",
    "    df_config = {'caudate': caudate,'DLPFC': dlpfc,'hippocampus': hippo}\n",
    "    female = df_config[tissue][(df_config[tissue]['Sex']=='F')].copy()\n",
    "    male = df_config[tissue][(df_config[tissue]['Sex']=='M')].copy()\n",
    "    stat_f, pval_f = mannwhitneyu(female[(female['Dx']=='Control')].RXE, \n",
    "                                  female[(female['Dx']=='SCZD')].RXE)\n",
    "    stat_m, pval_m = mannwhitneyu(male[(male['Dx']=='Control')].RXE, \n",
    "                                  male[(male['Dx']=='SCZD')].RXE)\n",
    "    print(f\"Mann-WhitneyU of female, ctl vs sz (RXE) for {tissue}: {pval_f:.4}\")\n",
    "    print(f\"Mann-WhitneyU of male, ctl vs sz (RXE) for {tissue}: {pval_m:.4}\")"
   ]
  },
  {
   "cell_type": "markdown",
   "metadata": {},
   "source": [
    "### X chromosome expression differences"
   ]
  },
  {
   "cell_type": "code",
   "execution_count": null,
   "metadata": {},
   "outputs": [],
   "source": [
    "for tissue in ['caudate', 'DLPFC', \"hippocampus\"]:\n",
    "    df_config = {'caudate': caudate,'DLPFC': dlpfc,'hippocampus': hippo}\n",
    "    female = df_config[tissue][(df_config[tissue]['Sex']=='F')].copy()\n",
    "    male = df_config[tissue][(df_config[tissue]['Sex']=='M')].copy()\n",
    "    stat_f, pval_f = mannwhitneyu(female[(female['Dx']=='Control')].X, \n",
    "                                  female[(female['Dx']=='SCZD')].X)\n",
    "    stat_m, pval_m = mannwhitneyu(male[(male['Dx']=='Control')].X, \n",
    "                                  male[(male['Dx']=='SCZD')].X)\n",
    "    print(f\"Mann-WhitneyU of female, ctl vs sz (RXE) for {tissue}: {pval_f:.4}\")\n",
    "    print(f\"Mann-WhitneyU of male, ctl vs sz (RXE) for {tissue}: {pval_m:.4}\")"
   ]
  },
  {
   "cell_type": "markdown",
   "metadata": {},
   "source": [
    "### Autosome expression"
   ]
  },
  {
   "cell_type": "code",
   "execution_count": null,
   "metadata": {},
   "outputs": [],
   "source": [
    "for tissue in ['caudate', 'DLPFC', \"hippocampus\"]:\n",
    "    df_config = {'caudate': caudate,\n",
    "                 'DLPFC': dlpfc, \n",
    "                 'hippocampus': hippo}\n",
    "    female = df_config[tissue][(df_config[tissue]['Sex']=='F')].copy()\n",
    "    male = df_config[tissue][(df_config[tissue]['Sex']=='M')].copy()\n",
    "    stat_f, pval_f = mannwhitneyu(female[(female['Dx']=='Control')].Autosome, \n",
    "                                  female[(female['Dx']=='SCZD')].Autosome)\n",
    "    stat_m, pval_m = mannwhitneyu(male[(male['Dx']=='Control')].Autosome, \n",
    "                                  male[(male['Dx']=='SCZD')].Autosome)\n",
    "    print(f\"Mann-WhitneyU of female, ctl vs sz (RXE) for {tissue}: {pval_f:.4}\")\n",
    "    print(f\"Mann-WhitneyU of male, ctl vs sz (RXE) for {tissue}: {pval_m:.4}\")"
   ]
  },
  {
   "cell_type": "markdown",
   "metadata": {},
   "source": [
    "### Interaction model"
   ]
  },
  {
   "cell_type": "code",
   "execution_count": null,
   "metadata": {},
   "outputs": [],
   "source": [
    "df2.Sex = df2.Sex.astype(\"category\").cat.rename_categories({\"F\": \"Female\", \"M\": \"Male\"})\n",
    "df2.Dx = df2.Dx.astype(\"category\").cat.rename_categories({\"SCZD\": \"SZ\", \"Control\": \"CTL\"})\n",
    "df2.head(2)"
   ]
  },
  {
   "cell_type": "code",
   "execution_count": null,
   "metadata": {},
   "outputs": [],
   "source": [
    "df3 = df2.reset_index()[['RNum', 'RXE', 'Sex', 'Dx', 'Region']].set_index(\"RNum\")\n",
    "df3[df3.columns[1]] = df3.Sex.cat.codes\n",
    "df3[df3.columns[2]] = df3.Dx.cat.codes\n",
    "df3[df3.columns[3]] = df3.Region.astype(\"category\").cat.codes\n",
    "df3.head(2)"
   ]
  },
  {
   "cell_type": "code",
   "execution_count": null,
   "metadata": {},
   "outputs": [],
   "source": [
    "anova_df = df2.loc[:,['RXE','Sex','Dx','Region']]\n",
    "\n",
    "# ANOVA results with combinations of 2 groups:\n",
    "formula = 'RXE ~ C(Sex) + C(Dx) + C(Region) + C(Sex):C(Dx) + C(Sex):C(Region) + C(Dx):C(Region)'\n",
    "lm = ols(formula, anova_df).fit()\n",
    "table = sm.stats.anova_lm(lm, typ=2)\n",
    "print(table)"
   ]
  },
  {
   "cell_type": "markdown",
   "metadata": {},
   "source": [
    "#### By tissue interaction"
   ]
  },
  {
   "cell_type": "code",
   "execution_count": null,
   "metadata": {},
   "outputs": [],
   "source": [
    "from statsmodels.stats.multicomp import pairwise_tukeyhsd\n",
    "# Assumes parametric\n",
    "\n",
    "for tissue in ['caudate', 'DLPFC', \"hippocampus\"]:\n",
    "    df_config = {'caudate': caudate,'DLPFC': dlpfc,'hippocampus': hippo}\n",
    "    anova_df = df_config[tissue].loc[:, ['RXE', 'Sex', 'Dx']]\n",
    "    # ANOVA results with combinations of 2 groups:\n",
    "    formula = 'RXE ~ C(Sex) + C(Dx) + C(Sex):C(Dx)'\n",
    "    lm = ols(formula, anova_df).fit()\n",
    "    table = sm.stats.anova_lm(lm, typ=2)\n",
    "    print(tissue)\n",
    "    print(table)\n",
    "    print(\"\\n\")\n",
    "    anova_df['combination'] = anova_df.Sex.astype(\"str\") + \" / \" + anova_df.Dx.astype(\"str\")\n",
    "    anova_df['combination'] = anova_df.Sex.astype(\"str\") + \" / \" + anova_df.Dx.astype(\"str\")\n",
    "    # perform multiple pairwise comparison (Tukey HSD)\n",
    "    m_comp = pairwise_tukeyhsd(endog=anova_df['RXE'], groups=anova_df['combination'], alpha=0.05)\n",
    "    # coerce the tukeyhsd table to a DataFrame\n",
    "    tukey_data = pd.DataFrame(data=m_comp._results_table.data[1:], columns = m_comp._results_table.data[0])\n",
    "    if tukey_data[(tukey_data['p-adj'] < 0.05)].shape[0] == 0:\n",
    "        print(\"There is no significant interactions!\")\n",
    "    else:\n",
    "        print(tukey_data[(tukey_data['p-adj'] < 0.05)])\n",
    "    print(\"\\n\")"
   ]
  },
  {
   "cell_type": "markdown",
   "metadata": {},
   "source": [
    "## Plot RXE"
   ]
  },
  {
   "cell_type": "code",
   "execution_count": null,
   "metadata": {},
   "outputs": [],
   "source": [
    "p = ggplot(df2, aes(x='Region', y='X', fill='Dx')) \\\n",
    "    + geom_boxplot() \\\n",
    "    + facet_grid(\"~Sex\")\\\n",
    "    + ylab(\"X Chromosome Expression\")\\\n",
    "    + theme_matplotlib()\n",
    "p"
   ]
  },
  {
   "cell_type": "code",
   "execution_count": null,
   "metadata": {},
   "outputs": [],
   "source": [
    "p = ggplot(df2, aes(x='Region', y='Autosome', fill='Dx')) \\\n",
    "    + geom_boxplot() \\\n",
    "    + facet_grid(\"~Sex\")\\\n",
    "    + ylab(\"Autosome Expression\")\\\n",
    "    + theme_matplotlib()\n",
    "p"
   ]
  },
  {
   "cell_type": "code",
   "execution_count": null,
   "metadata": {},
   "outputs": [],
   "source": [
    "p = ggplot(df2, aes(x='Region', y='RXE', fill='Dx')) \\\n",
    "    + geom_boxplot() \\\n",
    "    + facet_grid(\"~Sex\")\\\n",
    "    + ylab(\"Relative X Expression\")\\\n",
    "    + theme_matplotlib()\n",
    "p"
   ]
  },
  {
   "cell_type": "code",
   "execution_count": null,
   "metadata": {},
   "outputs": [],
   "source": [
    "p = ggplot(df2, aes(x='sample', y='RXE', fill='Dx', shape='Region')) \\\n",
    "+ geom_point() + ylim([-0.25, 0.5]) + xlab(\"Samples\")\\\n",
    "+ ylab(\"Relative X Expression\") + facet_grid(\"Sex~.\")\\\n",
    "+ theme_matplotlib() \\\n",
    "+ theme(axis_text_x=element_blank(), \n",
    "        axis_text=element_text(size=13), \n",
    "        legend_title=element_text(size=15, face=\"bold\"), \n",
    "        legend_text=element_text(size=13),\n",
    "        axis_title=element_text(size=16, face=\"bold\"), \n",
    "        strip_text=element_text(size=14, face=\"bold\"))\n",
    "p"
   ]
  },
  {
   "cell_type": "code",
   "execution_count": null,
   "metadata": {},
   "outputs": [],
   "source": [
    "df2.to_csv('RXE_public.csv')\n",
    "save_ggplot(p, \"RXE_public_bySex\")"
   ]
  },
  {
   "cell_type": "markdown",
   "metadata": {},
   "source": [
    "## Session information"
   ]
  },
  {
   "cell_type": "code",
   "execution_count": null,
   "metadata": {},
   "outputs": [],
   "source": [
    "session_info.show()"
   ]
  }
 ],
 "metadata": {
  "kernelspec": {
   "display_name": "Python 3 (ipykernel)",
   "language": "python",
   "name": "python3"
  },
  "language_info": {
   "codemirror_mode": {
    "name": "ipython",
    "version": 3
   },
   "file_extension": ".py",
   "mimetype": "text/x-python",
   "name": "python",
   "nbconvert_exporter": "python",
   "pygments_lexer": "ipython3",
   "version": "3.10.9"
  }
 },
 "nbformat": 4,
 "nbformat_minor": 4
}
