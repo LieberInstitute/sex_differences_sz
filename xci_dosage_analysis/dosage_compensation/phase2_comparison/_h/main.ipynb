{
 "cells": [
  {
   "cell_type": "markdown",
   "metadata": {},
   "source": [
    "# Examine if there is an enrichment of sex linked genes within Phase 2"
   ]
  },
  {
   "cell_type": "code",
   "execution_count": 1,
   "metadata": {},
   "outputs": [],
   "source": [
    "import functools\n",
    "import numpy as np\n",
    "import pandas as pd\n",
    "from os import environ\n",
    "from gtfparse import read_gtf\n",
    "from scipy.stats import fisher_exact\n",
    "from statsmodels.stats.multitest import multipletests"
   ]
  },
  {
   "cell_type": "code",
   "execution_count": 2,
   "metadata": {},
   "outputs": [],
   "source": [
    "environ['NUMEXPR_MAX_THREADS'] = '32'"
   ]
  },
  {
   "cell_type": "markdown",
   "metadata": {},
   "source": [
    "## Load phase 2 results"
   ]
  },
  {
   "cell_type": "code",
   "execution_count": 43,
   "metadata": {},
   "outputs": [],
   "source": [
    "config = {\n",
    "    \"dlpfc_file\": \"/ceph/users/jbenja13/phase3_paper/phase2/extract_de/_m/dlpfc_diffExpr_szVctl_full.txt\",\n",
    "    \"caud8_file\": \"/ceph/projects/v3_phase3_paper/analysis/differential_expression/_m/genes/diffExpr_szVctl_full.txt\",\n",
    "    \"hippo_file\": \"/ceph/users/jbenja13/phase3_paper/phase2/extract_de/_m/hippo_diffExpr_szVctl_full.txt\",\n",
    "    'xci_file': '/ceph/users/jbenja13/projects/sex_sz_ria/input/xci_classes/_m/xci_status_hg19.txt',\n",
    "    \"gtf_file\": '/ceph/genome/human/gencode25/gtf.CHR/_m/gencode.v25.annotation.gtf',\n",
    "    'cmc_file': '/ceph/projects/v3_phase3_paper/inputs/cmc/_m/CMC_MSSM-Penn-Pitt_DLPFC_mRNA_IlluminaHiSeq2500_gene-adjustedSVA-differentialExpression-includeAncestry-DxSCZ-DE.tsv'\n",
    "}"
   ]
  },
  {
   "cell_type": "code",
   "execution_count": 44,
   "metadata": {},
   "outputs": [],
   "source": [
    "@functools.lru_cache()\n",
    "def get_cmc():\n",
    "    return pd.read_csv(config['cmc_file'], sep='\\t')\n",
    "\n",
    "\n",
    "@functools.lru_cache()\n",
    "def get_xci():\n",
    "    return pd.read_csv(config['xci_file'], sep='\\t')\n",
    "\n",
    "\n",
    "@functools.lru_cache()\n",
    "def get_gtf(gtf_file):\n",
    "    return read_gtf(gtf_file)\n",
    "\n",
    "\n",
    "@functools.lru_cache()\n",
    "def get_dlpfc():\n",
    "    return pd.read_csv(config[\"dlpfc_file\"], sep='\\t')\n",
    "\n",
    "\n",
    "@functools.lru_cache()\n",
    "def get_hippo():\n",
    "    return pd.read_csv(config[\"hippo_file\"], sep='\\t')\n",
    "\n",
    "\n",
    "@functools.lru_cache()\n",
    "def get_caudate():\n",
    "    return pd.read_csv(config[\"caud8_file\"], sep='\\t')"
   ]
  },
  {
   "cell_type": "code",
   "execution_count": 7,
   "metadata": {},
   "outputs": [],
   "source": [
    "def gene_annotation():\n",
    "    gtf0 = get_gtf(config[\"gtf_file\"])\n",
    "    gtf = gtf0[gtf0[\"feature\"] == \"gene\"]\n",
    "    return gtf[[\"gene_id\", \"gene_name\", \"seqname\", \"start\", \"end\", \"strand\"]]"
   ]
  },
  {
   "cell_type": "markdown",
   "metadata": {},
   "source": [
    "## Hippocampus"
   ]
  },
  {
   "cell_type": "code",
   "execution_count": 8,
   "metadata": {},
   "outputs": [
    {
     "name": "stderr",
     "output_type": "stream",
     "text": [
      "INFO:root:Extracted GTF attributes: ['gene_id', 'gene_type', 'gene_status', 'gene_name', 'level', 'havana_gene', 'transcript_id', 'transcript_type', 'transcript_status', 'transcript_name', 'transcript_support_level', 'tag', 'havana_transcript', 'exon_number', 'exon_id', 'ont', 'protein_id', 'ccdsid']\n"
     ]
    }
   ],
   "source": [
    "hippo = gene_annotation().merge(get_hippo()[(get_hippo()[\"type\"] == 'gene')], \n",
    "                                left_on=\"gene_id\", right_on=\"gencodeID\")"
   ]
  },
  {
   "cell_type": "code",
   "execution_count": 9,
   "metadata": {},
   "outputs": [
    {
     "name": "stdout",
     "output_type": "stream",
     "text": [
      "[[7, 325], [829, 23491]]\n"
     ]
    },
    {
     "data": {
      "text/plain": [
       "(0.6103256936067551, 0.22311752769934323)"
      ]
     },
     "execution_count": 9,
     "metadata": {},
     "output_type": "execute_result"
    }
   ],
   "source": [
    "table = [[np.sum((hippo['adj.P.Val']<0.20) & (hippo['seqname'] == 'chrX')),\n",
    "          np.sum((hippo['adj.P.Val']<0.20) & (hippo['seqname'] != 'chrX'))], \n",
    "         [np.sum((hippo['adj.P.Val']>=0.20) & (hippo['seqname'] == 'chrX')), \n",
    "          np.sum((hippo['adj.P.Val']>=0.20) & (hippo['seqname'] != 'chrX'))]]\n",
    "print(table)\n",
    "fisher_exact(table)"
   ]
  },
  {
   "cell_type": "code",
   "execution_count": 10,
   "metadata": {},
   "outputs": [
    {
     "name": "stdout",
     "output_type": "stream",
     "text": [
      "[[4, 167], [461, 12220]]\n"
     ]
    },
    {
     "data": {
      "text/plain": [
       "(0.6349123878057334, 0.5330876730005754)"
      ]
     },
     "execution_count": 10,
     "metadata": {},
     "output_type": "execute_result"
    }
   ],
   "source": [
    "table = [[np.sum((hippo['adj.P.Val']<0.20) & (hippo['t']<0) & (hippo['seqname'] == 'chrX')),\n",
    "          np.sum((hippo['adj.P.Val']<0.20) & (hippo['t']<0) & (hippo['seqname'] != 'chrX'))], \n",
    "         [np.sum((hippo['adj.P.Val']>=0.20) & (hippo['t']<0) & (hippo['seqname'] == 'chrX')), \n",
    "          np.sum((hippo['adj.P.Val']>=0.20) & (hippo['t']<0) & (hippo['seqname'] != 'chrX'))]]\n",
    "print(table)\n",
    "fisher_exact(table)"
   ]
  },
  {
   "cell_type": "code",
   "execution_count": 11,
   "metadata": {},
   "outputs": [
    {
     "name": "stdout",
     "output_type": "stream",
     "text": [
      "[[3, 158], [368, 11271]]\n"
     ]
    },
    {
     "data": {
      "text/plain": [
       "(0.5815389378095762, 0.493689880575509)"
      ]
     },
     "execution_count": 11,
     "metadata": {},
     "output_type": "execute_result"
    }
   ],
   "source": [
    "table = [[np.sum((hippo['adj.P.Val']<0.20) & (hippo['t']>0) & (hippo['seqname'] == 'chrX')),\n",
    "          np.sum((hippo['adj.P.Val']<0.20) & (hippo['t']>0) & (hippo['seqname'] != 'chrX'))], \n",
    "         [np.sum((hippo['adj.P.Val']>=0.20) & (hippo['t']>0) & (hippo['seqname'] == 'chrX')), \n",
    "          np.sum((hippo['adj.P.Val']>=0.20) & (hippo['t']>0) & (hippo['seqname'] != 'chrX'))]]\n",
    "print(table)\n",
    "fisher_exact(table)"
   ]
  },
  {
   "cell_type": "markdown",
   "metadata": {},
   "source": [
    "## DLPFC"
   ]
  },
  {
   "cell_type": "code",
   "execution_count": 12,
   "metadata": {},
   "outputs": [],
   "source": [
    "dlpfc = gene_annotation().merge(get_dlpfc()[(get_dlpfc()[\"type\"] == 'gene')], \n",
    "                                left_on=\"gene_id\", right_on=\"gencodeID\")"
   ]
  },
  {
   "cell_type": "code",
   "execution_count": 13,
   "metadata": {},
   "outputs": [
    {
     "name": "stdout",
     "output_type": "stream",
     "text": [
      "[[10, 235], [826, 23581]]\n"
     ]
    },
    {
     "data": {
      "text/plain": [
       "(1.2148266446860028, 0.47891981920788795)"
      ]
     },
     "execution_count": 13,
     "metadata": {},
     "output_type": "execute_result"
    }
   ],
   "source": [
    "table = [[np.sum((dlpfc['adj.P.Val']<0.05) & (dlpfc['seqname'] == 'chrX')),\n",
    "          np.sum((dlpfc['adj.P.Val']<0.05) & (dlpfc['seqname'] != 'chrX'))], \n",
    "         [np.sum((dlpfc['adj.P.Val']>=0.05) & (dlpfc['seqname'] == 'chrX')), \n",
    "          np.sum((dlpfc['adj.P.Val']>=0.05) & (dlpfc['seqname'] != 'chrX'))]]\n",
    "print(table)\n",
    "fisher_exact(table)"
   ]
  },
  {
   "cell_type": "code",
   "execution_count": 14,
   "metadata": {},
   "outputs": [
    {
     "name": "stdout",
     "output_type": "stream",
     "text": [
      "[[2, 140], [423, 12642]]\n"
     ]
    },
    {
     "data": {
      "text/plain": [
       "(0.4269503546099291, 0.3337250489445369)"
      ]
     },
     "execution_count": 14,
     "metadata": {},
     "output_type": "execute_result"
    }
   ],
   "source": [
    "table = [[np.sum((dlpfc['adj.P.Val']<0.05) & (dlpfc['t']<0) & (dlpfc['seqname'] == 'chrX')),\n",
    "          np.sum((dlpfc['adj.P.Val']<0.05) & (dlpfc['t']<0) & (dlpfc['seqname'] != 'chrX'))], \n",
    "         [np.sum((dlpfc['adj.P.Val']>=0.05) & (dlpfc['t']<0) & (dlpfc['seqname'] == 'chrX')), \n",
    "          np.sum((dlpfc['adj.P.Val']>=0.05) & (dlpfc['t']<0) & (dlpfc['seqname'] != 'chrX'))]]\n",
    "print(table)\n",
    "fisher_exact(table)"
   ]
  },
  {
   "cell_type": "code",
   "execution_count": 15,
   "metadata": {},
   "outputs": [
    {
     "name": "stdout",
     "output_type": "stream",
     "text": [
      "[[8, 95], [403, 10939]]\n"
     ]
    },
    {
     "data": {
      "text/plain": [
       "(2.2858038396238736, 0.03174889585949236)"
      ]
     },
     "execution_count": 15,
     "metadata": {},
     "output_type": "execute_result"
    }
   ],
   "source": [
    "table = [[np.sum((dlpfc['adj.P.Val']<0.05) & (dlpfc['t']>0) & (dlpfc['seqname'] == 'chrX')),\n",
    "          np.sum((dlpfc['adj.P.Val']<0.05) & (dlpfc['t']>0) & (dlpfc['seqname'] != 'chrX'))], \n",
    "         [np.sum((dlpfc['adj.P.Val']>=0.05) & (dlpfc['t']>0) & (dlpfc['seqname'] == 'chrX')), \n",
    "          np.sum((dlpfc['adj.P.Val']>=0.05) & (dlpfc['t']>0) & (dlpfc['seqname'] != 'chrX'))]]\n",
    "print(table)\n",
    "fisher_exact(table)"
   ]
  },
  {
   "cell_type": "markdown",
   "metadata": {},
   "source": [
    "## Caudate nucleus"
   ]
  },
  {
   "cell_type": "code",
   "execution_count": 16,
   "metadata": {},
   "outputs": [],
   "source": [
    "caudate = gene_annotation().merge(get_caudate(), left_on=\"gene_id\", right_on=\"gencodeID\")"
   ]
  },
  {
   "cell_type": "code",
   "execution_count": 17,
   "metadata": {},
   "outputs": [
    {
     "name": "stdout",
     "output_type": "stream",
     "text": [
      "[[109, 2590], [645, 19625]]\n"
     ]
    },
    {
     "data": {
      "text/plain": [
       "(1.2804914549100597, 0.021367252364169496)"
      ]
     },
     "execution_count": 17,
     "metadata": {},
     "output_type": "execute_result"
    }
   ],
   "source": [
    "table = [[np.sum((caudate['adj.P.Val']<0.05) & (caudate['seqname'] == 'chrX')),\n",
    "          np.sum((caudate['adj.P.Val']<0.05) & (caudate['seqname'] != 'chrX'))], \n",
    "         [np.sum((caudate['adj.P.Val']>=0.05) & (caudate['seqname'] == 'chrX')), \n",
    "          np.sum((caudate['adj.P.Val']>=0.05) & (caudate['seqname'] != 'chrX'))]]\n",
    "print(table)\n",
    "fisher_exact(table)"
   ]
  },
  {
   "cell_type": "code",
   "execution_count": 18,
   "metadata": {},
   "outputs": [
    {
     "name": "stdout",
     "output_type": "stream",
     "text": [
      "[[54, 1363], [329, 10378]]\n"
     ]
    },
    {
     "data": {
      "text/plain": [
       "(1.249728495384979, 0.14518794185021228)"
      ]
     },
     "execution_count": 18,
     "metadata": {},
     "output_type": "execute_result"
    }
   ],
   "source": [
    "table = [[np.sum((caudate['adj.P.Val']<0.05) & (caudate['t']<0) & (caudate['seqname'] == 'chrX')),\n",
    "          np.sum((caudate['adj.P.Val']<0.05) & (caudate['t']<0) & (caudate['seqname'] != 'chrX'))], \n",
    "         [np.sum((caudate['adj.P.Val']>=0.05) & (caudate['t']<0) & (caudate['seqname'] == 'chrX')), \n",
    "          np.sum((caudate['adj.P.Val']>=0.05) & (caudate['t']<0) & (caudate['seqname'] != 'chrX'))]]\n",
    "print(table)\n",
    "fisher_exact(table)"
   ]
  },
  {
   "cell_type": "code",
   "execution_count": 19,
   "metadata": {},
   "outputs": [
    {
     "name": "stdout",
     "output_type": "stream",
     "text": [
      "[[55, 1227], [316, 9247]]\n"
     ]
    },
    {
     "data": {
      "text/plain": [
       "(1.311692096602808, 0.07178070649603144)"
      ]
     },
     "execution_count": 19,
     "metadata": {},
     "output_type": "execute_result"
    }
   ],
   "source": [
    "table = [[np.sum((caudate['adj.P.Val']<0.05) & (caudate['t']>0) & (caudate['seqname'] == 'chrX')),\n",
    "          np.sum((caudate['adj.P.Val']<0.05) & (caudate['t']>0) & (caudate['seqname'] != 'chrX'))], \n",
    "         [np.sum((caudate['adj.P.Val']>=0.05) & (caudate['t']>0) & (caudate['seqname'] == 'chrX')), \n",
    "          np.sum((caudate['adj.P.Val']>=0.05) & (caudate['t']>0) & (caudate['seqname'] != 'chrX'))]]\n",
    "print(table)\n",
    "fisher_exact(table)"
   ]
  },
  {
   "cell_type": "markdown",
   "metadata": {},
   "source": [
    "## CMC DLPFC (SVA)"
   ]
  },
  {
   "cell_type": "code",
   "execution_count": 45,
   "metadata": {},
   "outputs": [
    {
     "name": "stderr",
     "output_type": "stream",
     "text": [
      "INFO:root:Extracted GTF attributes: ['gene_id', 'gene_type', 'gene_status', 'gene_name', 'level', 'havana_gene', 'transcript_id', 'transcript_type', 'transcript_status', 'transcript_name', 'transcript_support_level', 'tag', 'havana_transcript', 'exon_number', 'exon_id', 'ont', 'protein_id', 'ccdsid']\n"
     ]
    }
   ],
   "source": [
    "annot = gene_annotation()\n",
    "annot[\"genes\"] = annot.gene_id.str.replace(\"\\\\..*\", \"\", regex=True)\n",
    "cmc = annot.merge(get_cmc(), on=\"genes\")"
   ]
  },
  {
   "cell_type": "code",
   "execution_count": 46,
   "metadata": {},
   "outputs": [
    {
     "name": "stdout",
     "output_type": "stream",
     "text": [
      "[[13, 401], [546, 15026]]\n"
     ]
    },
    {
     "data": {
      "text/plain": [
       "(0.8921743260895381, 0.7869905606431027)"
      ]
     },
     "execution_count": 46,
     "metadata": {},
     "output_type": "execute_result"
    }
   ],
   "source": [
    "table = [[np.sum((cmc['adj.P.Val']<0.05) & (cmc['seqname'] == 'chrX')),\n",
    "          np.sum((cmc['adj.P.Val']<0.05) & (cmc['seqname'] != 'chrX'))], \n",
    "         [np.sum((cmc['adj.P.Val']>=0.05) & (cmc['seqname'] == 'chrX')), \n",
    "          np.sum((cmc['adj.P.Val']>=0.05) & (cmc['seqname'] != 'chrX'))]]\n",
    "print(table)\n",
    "fisher_exact(table)"
   ]
  },
  {
   "cell_type": "code",
   "execution_count": 47,
   "metadata": {},
   "outputs": [
    {
     "name": "stdout",
     "output_type": "stream",
     "text": [
      "[[4, 225], [284, 8140]]\n"
     ]
    },
    {
     "data": {
      "text/plain": [
       "(0.5095461658841941, 0.2578853679103255)"
      ]
     },
     "execution_count": 47,
     "metadata": {},
     "output_type": "execute_result"
    }
   ],
   "source": [
    "table = [[np.sum((cmc['adj.P.Val']<0.05) & (cmc['t']<0) & (cmc['seqname'] == 'chrX')),\n",
    "          np.sum((cmc['adj.P.Val']<0.05) & (cmc['t']<0) & (cmc['seqname'] != 'chrX'))], \n",
    "         [np.sum((cmc['adj.P.Val']>=0.05) & (cmc['t']<0) & (cmc['seqname'] == 'chrX')), \n",
    "          np.sum((cmc['adj.P.Val']>=0.05) & (cmc['t']<0) & (cmc['seqname'] != 'chrX'))]]\n",
    "print(table)\n",
    "fisher_exact(table)"
   ]
  },
  {
   "cell_type": "code",
   "execution_count": 48,
   "metadata": {},
   "outputs": [
    {
     "name": "stdout",
     "output_type": "stream",
     "text": [
      "[[9, 176], [262, 6886]]\n"
     ]
    },
    {
     "data": {
      "text/plain": [
       "(1.3439885496183206, 0.4247922107896491)"
      ]
     },
     "execution_count": 48,
     "metadata": {},
     "output_type": "execute_result"
    }
   ],
   "source": [
    "table = [[np.sum((cmc['adj.P.Val']<0.05) & (cmc['t']>0) & (cmc['seqname'] == 'chrX')),\n",
    "          np.sum((cmc['adj.P.Val']<0.05) & (cmc['t']>0) & (cmc['seqname'] != 'chrX'))], \n",
    "         [np.sum((cmc['adj.P.Val']>=0.05) & (cmc['t']>0) & (cmc['seqname'] == 'chrX')), \n",
    "          np.sum((cmc['adj.P.Val']>=0.05) & (cmc['t']>0) & (cmc['seqname'] != 'chrX'))]]\n",
    "print(table)\n",
    "fisher_exact(table)"
   ]
  },
  {
   "cell_type": "code",
   "execution_count": 49,
   "metadata": {},
   "outputs": [
    {
     "data": {
      "text/plain": [
       "{'CHRDL1',\n",
       " 'CXorf40B',\n",
       " 'EFHC2',\n",
       " 'FHL1',\n",
       " 'GABRQ',\n",
       " 'MAMLD1',\n",
       " 'PABPC5-AS1',\n",
       " 'SLC16A2'}"
      ]
     },
     "execution_count": 49,
     "metadata": {},
     "output_type": "execute_result"
    }
   ],
   "source": [
    "setA = set(dlpfc[(dlpfc['adj.P.Val']<0.05) & (dlpfc['t']>0) & (dlpfc['seqname'] == 'chrX')].gene_name)\n",
    "setA"
   ]
  },
  {
   "cell_type": "code",
   "execution_count": 50,
   "metadata": {},
   "outputs": [
    {
     "data": {
      "text/plain": [
       "{'.',\n",
       " 'ARHGAP6',\n",
       " 'CHRDL1',\n",
       " 'CXorf57',\n",
       " 'IL13RA2',\n",
       " 'SLC16A2',\n",
       " 'SPRY3',\n",
       " 'SYTL5',\n",
       " 'TENM1'}"
      ]
     },
     "execution_count": 50,
     "metadata": {},
     "output_type": "execute_result"
    }
   ],
   "source": [
    "setB = set(cmc[(cmc['adj.P.Val']<0.05) & (cmc['t']>0) & (cmc['seqname'] == 'chrX')].MAPPED_genes)\n",
    "setB"
   ]
  },
  {
   "cell_type": "code",
   "execution_count": 51,
   "metadata": {},
   "outputs": [
    {
     "data": {
      "text/plain": [
       "{'CHRDL1', 'SLC16A2'}"
      ]
     },
     "execution_count": 51,
     "metadata": {},
     "output_type": "execute_result"
    }
   ],
   "source": [
    "setA & setB"
   ]
  },
  {
   "cell_type": "code",
   "execution_count": null,
   "metadata": {},
   "outputs": [],
   "source": []
  }
 ],
 "metadata": {
  "kernelspec": {
   "display_name": "Python 3",
   "language": "python",
   "name": "python3"
  },
  "language_info": {
   "codemirror_mode": {
    "name": "ipython",
    "version": 3
   },
   "file_extension": ".py",
   "mimetype": "text/x-python",
   "name": "python",
   "nbconvert_exporter": "python",
   "pygments_lexer": "ipython3",
   "version": "3.9.1"
  }
 },
 "nbformat": 4,
 "nbformat_minor": 4
}
