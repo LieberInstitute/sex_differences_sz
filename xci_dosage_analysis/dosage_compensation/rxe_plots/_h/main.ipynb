{
 "cells": [
  {
   "cell_type": "markdown",
   "metadata": {},
   "source": [
    "# Plot RXE comparisons"
   ]
  },
  {
   "cell_type": "code",
   "execution_count": null,
   "metadata": {},
   "outputs": [],
   "source": [
    "library(ggpubr)\n",
    "library(tidyverse)"
   ]
  },
  {
   "cell_type": "code",
   "execution_count": null,
   "metadata": {},
   "outputs": [],
   "source": [
    "save_ggplots <- function(p, fn, w=7, h=7){\n",
    "    for(ext in c('.svg', '.png', '.pdf')){\n",
    "        ggsave(p, filename=paste0(fn, ext), width=w, height=h)\n",
    "    }\n",
    "}"
   ]
  },
  {
   "cell_type": "code",
   "execution_count": null,
   "metadata": {},
   "outputs": [],
   "source": [
    "df = data.table::fread(\"../../_m/RXE_public.csv\") |> \n",
    "    mutate_if(is.character, as.factor)\n",
    "levels(df$Sex) <- c(\"Female\", \"Male\")\n",
    "levels(df$Dx) <- c(\"CTL\", \"SZ\")\n",
    "levels(df$Region) <- c(\"Caudate\", \"DLPFC\", \"Hippocampus\")\n",
    "df |> head(2)"
   ]
  },
  {
   "cell_type": "code",
   "execution_count": null,
   "metadata": {},
   "outputs": [],
   "source": [
    "bxp = df |> \n",
    "    ggboxplot(x=\"Sex\", y=\"RXE\", fill='Sex', xlab='', palette=\"npg\",\n",
    "              add='jitter', outlier.shape=NA, facet.by='Region',\n",
    "              ylab='Relative X Expression', ylim=c(-0.2, 0.4),\n",
    "              panel.labs.font=list(face='bold', size=16), \n",
    "              legend=\"bottom\", ggtheme=theme_pubr(base_size=15)) + \n",
    "    stat_compare_means(comparisons=list(c(\"Female\", \"Male\")))+\n",
    "    font(\"xy.title\", size=16, face=\"bold\") + \n",
    "    font(\"legend.title\", size=16, face=\"bold\")\n",
    "save_ggplots(bxp, \"rxe_sex_byRegion\", 7, 5)\n",
    "bxp"
   ]
  },
  {
   "cell_type": "code",
   "execution_count": null,
   "metadata": {},
   "outputs": [],
   "source": [
    "bxp = df |> \n",
    "    ggboxplot(x=\"Sex\", y=\"RXE\", color='Dx', xlab='', palette=\"npg\",\n",
    "              add='jitter', outlier.shape=NA, facet.by='Region',\n",
    "              ylab='Relative X Expression', ylim=c(-0.2, 0.4),\n",
    "              panel.labs.font=list(face='bold', size=16), \n",
    "              legend=\"bottom\", ggtheme=theme_pubr(base_size=15)) + \n",
    "    font(\"xy.title\", size=16, face=\"bold\") + \n",
    "    font(\"legend.title\", size=16, face=\"bold\")\n",
    "save_ggplots(bxp, \"rxe_sex_diagnosis_byRegion\", 7, 5)\n",
    "bxp"
   ]
  },
  {
   "cell_type": "code",
   "execution_count": null,
   "metadata": {},
   "outputs": [],
   "source": [
    "bxp_f = df |> filter(Sex=='Female') |>\n",
    "    ggboxplot(x=\"Dx\", y=\"RXE\", fill='Dx', xlab='', \n",
    "              palette=c(\"#999995ff\", \"#e69f00ff\"),\n",
    "              add='jitter', outlier.shape=NA, facet.by=c('Region'),\n",
    "              ylab='Relative X Expression', ylim=c(-0.2, 0.4),\n",
    "              panel.labs.font=list(face='bold', size=16), \n",
    "              legend=\"bottom\", ggtheme=theme_pubr(base_size=15)) + \n",
    "    stat_compare_means(comparisons=list(c(\"CTL\", \"SZ\")))+\n",
    "    font(\"xy.title\", size=16, face=\"bold\") + \n",
    "    font(\"legend.title\", size=16, face=\"bold\")\n",
    "save_ggplots(bxp_f, \"rxe_female_diagnosis_byRegion\", 7, 5)\n",
    "bxp_f"
   ]
  },
  {
   "cell_type": "code",
   "execution_count": null,
   "metadata": {},
   "outputs": [],
   "source": [
    "bxp_f2 = df |> filter(Sex=='Female') |>\n",
    "    ggboxplot(x=\"Region\", y=\"RXE\", fill='Region', xlab='', palette=\"npg\",\n",
    "              add='jitter', outlier.shape=NA, \n",
    "              ylab='Relative X Expression', ylim=c(-0.2, 0.4),\n",
    "              panel.labs.font=list(face='bold', size=16), \n",
    "              legend=\"bottom\", ggtheme=theme_pubr(base_size=15)) + \n",
    "    stat_compare_means(comparisons=list(c(\"Caudate\", \"DLPFC\"), \n",
    "                                        c(\"Caudate\", \"Hippocampus\"), \n",
    "                                        c(\"DLPFC\", \"Hippocampus\")))+\n",
    "    font(\"xy.title\", size=16, face=\"bold\") + \n",
    "    font(\"legend.title\", size=16, face=\"bold\")\n",
    "save_ggplots(bxp_f2, \"rxe_female_region\", 6, 6)\n",
    "bxp_f2"
   ]
  },
  {
   "cell_type": "code",
   "execution_count": null,
   "metadata": {},
   "outputs": [],
   "source": [
    "bxp_m = df |> filter(Sex=='Male') |>\n",
    "    ggboxplot(x=\"Dx\", y=\"RXE\", fill='Dx', xlab='', \n",
    "              palette=c(\"#999995ff\", \"#e69f00ff\"),\n",
    "              add='jitter', outlier.shape=NA, facet.by=c('Region'),\n",
    "              ylab='Relative X Expression', ylim=c(-0.2, 0.4),\n",
    "              panel.labs.font=list(face='bold', size=16), \n",
    "              legend=\"bottom\", ggtheme=theme_pubr(base_size=15)) + \n",
    "    stat_compare_means(comparisons=list(c(\"CTL\", \"SZ\")))+\n",
    "    font(\"xy.title\", size=16, face=\"bold\") + \n",
    "    font(\"legend.title\", size=16, face=\"bold\")\n",
    "save_ggplots(bxp_m, \"rxe_male_diagnosis_byRegion\", 7, 5)\n",
    "bxp_m"
   ]
  },
  {
   "cell_type": "code",
   "execution_count": null,
   "metadata": {},
   "outputs": [],
   "source": [
    "bxp_m2 = df |> filter(Sex=='Male') |>\n",
    "    ggboxplot(x=\"Region\", y=\"RXE\", fill='Region', xlab='', palette=\"npg\",\n",
    "              add='jitter', outlier.shape=NA, \n",
    "              ylab='Relative X Expression', ylim=c(-0.2, 0.4),\n",
    "              panel.labs.font=list(face='bold', size=16), \n",
    "              legend=\"bottom\", ggtheme=theme_pubr(base_size=15)) + \n",
    "    stat_compare_means(comparisons=list(c(\"Caudate\", \"DLPFC\"), \n",
    "                                        c(\"Caudate\", \"Hippocampus\"), \n",
    "                                        c(\"DLPFC\", \"Hippocampus\")))+\n",
    "    font(\"xy.title\", size=16, face=\"bold\") + \n",
    "    font(\"legend.title\", size=16, face=\"bold\")\n",
    "save_ggplots(bxp_m2, \"rxe_male_region\", 6, 6)\n",
    "bxp_m2"
   ]
  },
  {
   "cell_type": "markdown",
   "metadata": {},
   "source": [
    "## Repreducibility Information"
   ]
  },
  {
   "cell_type": "code",
   "execution_count": null,
   "metadata": {},
   "outputs": [],
   "source": [
    "Sys.time()\n",
    "proc.time()\n",
    "options(width = 120)\n",
    "sessioninfo::session_info()"
   ]
  }
 ],
 "metadata": {
  "kernelspec": {
   "display_name": "R",
   "language": "R",
   "name": "ir"
  },
  "language_info": {
   "codemirror_mode": "r",
   "file_extension": ".r",
   "mimetype": "text/x-r-source",
   "name": "R",
   "pygments_lexer": "r",
   "version": "4.3.2"
  }
 },
 "nbformat": 4,
 "nbformat_minor": 4
}
