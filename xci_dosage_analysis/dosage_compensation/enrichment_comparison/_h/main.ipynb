{
 "cells": [
  {
   "cell_type": "markdown",
   "metadata": {},
   "source": [
    "# Enrichment in GWAS, TWAS, and DE "
   ]
  },
  {
   "cell_type": "code",
   "execution_count": 28,
   "metadata": {},
   "outputs": [],
   "source": [
    "import functools\n",
    "import numpy as np\n",
    "import pandas as pd\n",
    "import collections as cx\n",
    "from gtfparse import read_gtf\n",
    "from scipy.stats import fisher_exact\n",
    "from statsmodels.stats.multitest import multipletests"
   ]
  },
  {
   "cell_type": "markdown",
   "metadata": {},
   "source": [
    "## Functions"
   ]
  },
  {
   "cell_type": "code",
   "execution_count": 39,
   "metadata": {},
   "outputs": [],
   "source": [
    "@functools.lru_cache()\n",
    "def get_gtf_genes_df():\n",
    "    gtf_df = read_gtf(\"/ceph/genome/human/gencode25/gtf.CHR/_m/gencode.v25.annotation.gtf\")\n",
    "    return gtf_df[gtf_df[\"feature\"] == \"gene\"][['gene_id', 'gene_name', 'seqname']]\n",
    "\n",
    "\n",
    "@functools.lru_cache()\n",
    "def get_X_linked():\n",
    "    return get_gtf_genes_df()[(get_gtf_genes_df()['seqname'] == 'chrX')]\n",
    "\n",
    "\n",
    "@functools.lru_cache()\n",
    "def get_de(tissue):\n",
    "    deg = {\n",
    "        'caudate': \"/ceph/projects/v3_phase3_paper/analysis/differential_expression/_m/genes/diffExpr_szVctl_full.txt\",\n",
    "        'dlpfc': \"/ceph/users/jbenja13/phase3_paper/phase2/extract_de/_m/dlpfc_diffExpr_szVctl_full.txt\",\n",
    "        'hippocampus': \"/ceph/users/jbenja13/phase3_paper/phase2/extract_de/_m/hippo_diffExpr_szVctl_full.txt\",\n",
    "    }\n",
    "    return pd.read_csv(deg[tissue], sep='\\t')\n",
    "\n",
    "\n",
    "@functools.lru_cache()\n",
    "def get_degs(tissue):\n",
    "    if tissue == 'caudate':\n",
    "        return get_de(tissue)[(get_de(tissue)['adj.P.Val'] < 0.05)]\n",
    "    else:\n",
    "        return get_de(tissue)[(get_de(tissue)['adj.P.Val'] < 0.05) & \n",
    "                              (get_de(tissue)['type'] == 'gene')]\n",
    "    "
   ]
  },
  {
   "cell_type": "code",
   "execution_count": 51,
   "metadata": {},
   "outputs": [],
   "source": [
    "def fet(a, b, u):\n",
    "    # a, b, u are sets\n",
    "    # u is the universe\n",
    "    yes_a = u.intersection(a)\n",
    "    yes_b = u.intersection(b)\n",
    "    no_a = u - a\n",
    "    no_b = u - b\n",
    "    m = [[len(yes_a.intersection(yes_b)), len(no_a.intersection(yes_b)) ], \n",
    "         [len(yes_a.intersection(no_b)), len(no_a.intersection(no_b))]]\n",
    "    return fisher_exact(m)\n",
    "\n",
    "\n",
    "def enrichment_rows():\n",
    "    u = set(get_gtf_genes_df().gene_id) \n",
    "    for tissue in [\"caudate\", \"dlpfc\", \"hippocampus\"]:\n",
    "        a = set(get_X_linked().gene_id) & set(get_degs(tissue).gencodeID)\n",
    "        yield (tissue, len(a),\n",
    "               *fet(a, gwas_genes, u),\n",
    "               *fet(a, caudate_twas, u),\n",
    "               *fet(a, dlpfc_twas, u),\n",
    "               *fet(a, hippo_twas, u),\n",
    "              )\n",
    "\n",
    "\n",
    "def enrichment_rows_nomhc():\n",
    "    u = set(get_gtf_genes_df().gene_id) \n",
    "    for tissue in [\"caudate\", \"dlpfc\", \"hippocampus\"]:\n",
    "        a = set(get_X_linked().gene_id) & set(get_degs(tissue).gencodeID)\n",
    "        yield (tissue, len(a),\n",
    "               *fet(a, gwas_genes - mhc_genes, u),\n",
    "               *fet(a, caudate_twas - mhc_genes, u),\n",
    "               *fet(a, dlpfc_twas - mhc_genes, u),\n",
    "               *fet(a, hippo_twas - mhc_genes, u),\n",
    "              )"
   ]
  },
  {
   "cell_type": "markdown",
   "metadata": {},
   "source": [
    "## GWAS, TWAS and DE enrichment"
   ]
  },
  {
   "cell_type": "markdown",
   "metadata": {},
   "source": [
    "### Load TWAS, and GWAS genes"
   ]
  },
  {
   "cell_type": "code",
   "execution_count": 41,
   "metadata": {},
   "outputs": [],
   "source": [
    "config = {\n",
    "    'mhc': '/ceph/projects/v3_phase3_paper/inputs/gwas/PGC2_CLOZUK/table_s3/hg38/mhc_region_genes/_m/mhc_genes.csv',\n",
    "    'gwas': '/ceph/projects/v3_phase3_paper/inputs/gwas/PGC2_CLOZUK/table_s3/hg38/genes/_m/gwas_genes.csv',\n",
    "    'twas_C': '/ceph/users/apua/projects/caudate_twas_reader/genes/_m/twas_significant_genes.csv',\n",
    "    'twas_H': '/ceph/users/jbenja13/phase3_paper/phase2/twas/extract_twas/_m/hippo_twas_assocations_fusion.csv',\n",
    "    'twas_D': '/ceph/users/jbenja13/phase3_paper/phase2/twas/extract_twas/_m/dlpfc_twas_assocations_fusion.csv',\n",
    "}"
   ]
  },
  {
   "cell_type": "code",
   "execution_count": 42,
   "metadata": {},
   "outputs": [
    {
     "data": {
      "text/plain": [
       "383"
      ]
     },
     "execution_count": 42,
     "metadata": {},
     "output_type": "execute_result"
    }
   ],
   "source": [
    "mhc_genes = set(pd.read_csv(config['mhc'])['gene_id'])\n",
    "len(mhc_genes)"
   ]
  },
  {
   "cell_type": "code",
   "execution_count": 43,
   "metadata": {},
   "outputs": [
    {
     "data": {
      "text/plain": [
       "2000"
      ]
     },
     "execution_count": 43,
     "metadata": {},
     "output_type": "execute_result"
    }
   ],
   "source": [
    "gwas_genes = set(pd.read_csv(config['gwas'])['gene_id'])\n",
    "len(gwas_genes)"
   ]
  },
  {
   "cell_type": "code",
   "execution_count": 44,
   "metadata": {},
   "outputs": [
    {
     "data": {
      "text/plain": [
       "406"
      ]
     },
     "execution_count": 44,
     "metadata": {},
     "output_type": "execute_result"
    }
   ],
   "source": [
    "dlpfc0 = pd.read_csv(config['twas_D'], low_memory=False)\n",
    "dlpfc0 = dlpfc0[(dlpfc0['feature'] == 'gene') & \n",
    "                (dlpfc0['region'] == 'DLPFC') & \n",
    "               (dlpfc0['TWAS.FDR'] < 0.05)].drop('FILE', axis=1).copy()\n",
    "dlpfc_twas = set(dlpfc0.ID)\n",
    "len(dlpfc_twas)"
   ]
  },
  {
   "cell_type": "code",
   "execution_count": 45,
   "metadata": {},
   "outputs": [
    {
     "data": {
      "text/plain": [
       "270"
      ]
     },
     "execution_count": 45,
     "metadata": {},
     "output_type": "execute_result"
    }
   ],
   "source": [
    "hippo0 = pd.read_csv(config['twas_H'], low_memory=False)\n",
    "hippo0 = hippo0[(hippo0['feature'] == 'gene') & \n",
    "                (hippo0['region'] == 'HIPPO') & \n",
    "               (hippo0['TWAS.FDR'] < 0.05)].drop('FILE', axis=1).copy()\n",
    "hippo_twas = set(hippo0.ID)\n",
    "len(hippo_twas)"
   ]
  },
  {
   "cell_type": "code",
   "execution_count": 46,
   "metadata": {},
   "outputs": [
    {
     "data": {
      "text/plain": [
       "489"
      ]
     },
     "execution_count": 46,
     "metadata": {},
     "output_type": "execute_result"
    }
   ],
   "source": [
    "# Caudate only for now\n",
    "caudate_twas = set(pd.read_csv(config['twas_C'])['gene_id'])\n",
    "len(caudate_twas)"
   ]
  },
  {
   "cell_type": "markdown",
   "metadata": {},
   "source": [
    "### Enrichment"
   ]
  },
  {
   "cell_type": "code",
   "execution_count": 50,
   "metadata": {},
   "outputs": [
    {
     "data": {
      "text/html": [
       "<div>\n",
       "<style scoped>\n",
       "    .dataframe tbody tr th:only-of-type {\n",
       "        vertical-align: middle;\n",
       "    }\n",
       "\n",
       "    .dataframe tbody tr th {\n",
       "        vertical-align: top;\n",
       "    }\n",
       "\n",
       "    .dataframe thead th {\n",
       "        text-align: right;\n",
       "    }\n",
       "</style>\n",
       "<table border=\"1\" class=\"dataframe\">\n",
       "  <thead>\n",
       "    <tr style=\"text-align: right;\">\n",
       "      <th></th>\n",
       "      <th>Tissue</th>\n",
       "      <th>N_genes</th>\n",
       "      <th>GWAS_OR</th>\n",
       "      <th>GWAS_P</th>\n",
       "      <th>GWAS_FDR</th>\n",
       "      <th>Caudate_TWAS_OR</th>\n",
       "      <th>Caudate_TWAS_P</th>\n",
       "      <th>Caudate_TWAS_FDR</th>\n",
       "      <th>DLPFC_TWAS_OR</th>\n",
       "      <th>DLPFC_TWAS_P</th>\n",
       "      <th>DLPFC_TWAS_FDR</th>\n",
       "      <th>Hippocampus_TWAS_OR</th>\n",
       "      <th>Hippocampus_TWAS_P</th>\n",
       "      <th>Hippocampus_TWAS_FDR</th>\n",
       "    </tr>\n",
       "  </thead>\n",
       "  <tbody>\n",
       "    <tr>\n",
       "      <th>0</th>\n",
       "      <td>caudate</td>\n",
       "      <td>109</td>\n",
       "      <td>0.0</td>\n",
       "      <td>1.0</td>\n",
       "      <td>1.0</td>\n",
       "      <td>NaN</td>\n",
       "      <td>1.0</td>\n",
       "      <td>1.0</td>\n",
       "      <td>NaN</td>\n",
       "      <td>1.0</td>\n",
       "      <td>1.0</td>\n",
       "      <td>NaN</td>\n",
       "      <td>1.0</td>\n",
       "      <td>1.0</td>\n",
       "    </tr>\n",
       "    <tr>\n",
       "      <th>1</th>\n",
       "      <td>dlpfc</td>\n",
       "      <td>10</td>\n",
       "      <td>0.0</td>\n",
       "      <td>1.0</td>\n",
       "      <td>1.0</td>\n",
       "      <td>NaN</td>\n",
       "      <td>1.0</td>\n",
       "      <td>1.0</td>\n",
       "      <td>NaN</td>\n",
       "      <td>1.0</td>\n",
       "      <td>1.0</td>\n",
       "      <td>NaN</td>\n",
       "      <td>1.0</td>\n",
       "      <td>1.0</td>\n",
       "    </tr>\n",
       "    <tr>\n",
       "      <th>2</th>\n",
       "      <td>hippocampus</td>\n",
       "      <td>0</td>\n",
       "      <td>NaN</td>\n",
       "      <td>1.0</td>\n",
       "      <td>1.0</td>\n",
       "      <td>NaN</td>\n",
       "      <td>1.0</td>\n",
       "      <td>1.0</td>\n",
       "      <td>NaN</td>\n",
       "      <td>1.0</td>\n",
       "      <td>1.0</td>\n",
       "      <td>NaN</td>\n",
       "      <td>1.0</td>\n",
       "      <td>1.0</td>\n",
       "    </tr>\n",
       "  </tbody>\n",
       "</table>\n",
       "</div>"
      ],
      "text/plain": [
       "        Tissue  N_genes  GWAS_OR  GWAS_P  GWAS_FDR  Caudate_TWAS_OR  \\\n",
       "0      caudate      109      0.0     1.0       1.0              NaN   \n",
       "1        dlpfc       10      0.0     1.0       1.0              NaN   \n",
       "2  hippocampus        0      NaN     1.0       1.0              NaN   \n",
       "\n",
       "   Caudate_TWAS_P  Caudate_TWAS_FDR  DLPFC_TWAS_OR  DLPFC_TWAS_P  \\\n",
       "0             1.0               1.0            NaN           1.0   \n",
       "1             1.0               1.0            NaN           1.0   \n",
       "2             1.0               1.0            NaN           1.0   \n",
       "\n",
       "   DLPFC_TWAS_FDR  Hippocampus_TWAS_OR  Hippocampus_TWAS_P  \\\n",
       "0             1.0                  NaN                 1.0   \n",
       "1             1.0                  NaN                 1.0   \n",
       "2             1.0                  NaN                 1.0   \n",
       "\n",
       "   Hippocampus_TWAS_FDR  \n",
       "0                   1.0  \n",
       "1                   1.0  \n",
       "2                   1.0  "
      ]
     },
     "execution_count": 50,
     "metadata": {},
     "output_type": "execute_result"
    }
   ],
   "source": [
    "edf1 = pd.DataFrame.from_records(enrichment_rows(), \n",
    "                                 columns=['Tissue', 'N_genes', 'GWAS_OR', 'GWAS_P', \n",
    "                                          'Caudate_TWAS_OR', 'Caudate_TWAS_P', \n",
    "                                          'DLPFC_TWAS_OR', 'DLPFC_TWAS_P', \n",
    "                                          'Hippocampus_TWAS_OR', 'Hippocampus_TWAS_P'])\n",
    "edf1['GWAS_FDR'] = multipletests(edf1['GWAS_P'], method='fdr_bh')[1]\n",
    "edf1['Caudate_TWAS_FDR'] = multipletests(edf1['Caudate_TWAS_P'], method='fdr_bh')[1]\n",
    "edf1['DLPFC_TWAS_FDR'] = multipletests(edf1['DLPFC_TWAS_P'], method='fdr_bh')[1]\n",
    "edf1['Hippocampus_TWAS_FDR'] = multipletests(edf1['Hippocampus_TWAS_P'], method='fdr_bh')[1]\n",
    "edf1 = edf1[['Tissue', 'N_genes', 'GWAS_OR', 'GWAS_P', 'GWAS_FDR',\n",
    "             'Caudate_TWAS_OR', 'Caudate_TWAS_P', 'Caudate_TWAS_FDR',\n",
    "             'DLPFC_TWAS_OR', 'DLPFC_TWAS_P', 'DLPFC_TWAS_FDR',\n",
    "             'Hippocampus_TWAS_OR', 'Hippocampus_TWAS_P', 'Hippocampus_TWAS_FDR']]\n",
    "#edf1.to_csv('deg_xlinked_enrichment.csv', index=False)\n",
    "edf1"
   ]
  },
  {
   "cell_type": "code",
   "execution_count": 26,
   "metadata": {},
   "outputs": [],
   "source": [
    "u = set(get_gtf_genes_df().gene_id) \n",
    "a = set(get_X_linked().gene_id) & set(get_degs(\"dlpfc\").gencodeID)\n",
    "gene_list = {\n",
    "    'GWAS': gwas_genes, 'Caudate_TWAS': caudate_twas, \n",
    "    \"DLPFC_TWAS\": dlpfc_twas, 'Hippocampus_TWAS': hippo_twas,\n",
    "}\n",
    "or_lt = []; pval_lt = []; glt = [];\n",
    "for genes in ['GWAS', 'Caudate_TWAS', 'DLPFC_TWAS', \"Hippocampus_TWAS\"]:\n",
    "    oddratio, pval = fet(a, gene_list[genes], u)\n",
    "    or_lt.append(oddratio)\n",
    "    pval_lt.append(pval)\n",
    "    glt.append(genes)\n",
    "dt = pd.DataFrame({'Gene Source': glt, 'Odd_Ratio': or_lt, 'PValue': pval_lt})\n",
    "dt.to_csv('xlinked_enrichment.csv', index=False)\n",
    "dt"
   ]
  },
  {
   "cell_type": "markdown",
   "metadata": {},
   "source": [
    "### No MHC region"
   ]
  },
  {
   "cell_type": "code",
   "execution_count": 52,
   "metadata": {},
   "outputs": [
    {
     "data": {
      "text/html": [
       "<div>\n",
       "<style scoped>\n",
       "    .dataframe tbody tr th:only-of-type {\n",
       "        vertical-align: middle;\n",
       "    }\n",
       "\n",
       "    .dataframe tbody tr th {\n",
       "        vertical-align: top;\n",
       "    }\n",
       "\n",
       "    .dataframe thead th {\n",
       "        text-align: right;\n",
       "    }\n",
       "</style>\n",
       "<table border=\"1\" class=\"dataframe\">\n",
       "  <thead>\n",
       "    <tr style=\"text-align: right;\">\n",
       "      <th></th>\n",
       "      <th>Tissue</th>\n",
       "      <th>N_genes</th>\n",
       "      <th>GWAS_OR</th>\n",
       "      <th>GWAS_P</th>\n",
       "      <th>GWAS_FDR</th>\n",
       "      <th>Caudate_TWAS_OR</th>\n",
       "      <th>Caudate_TWAS_P</th>\n",
       "      <th>Caudate_TWAS_FDR</th>\n",
       "      <th>DLPFC_TWAS_OR</th>\n",
       "      <th>DLPFC_TWAS_P</th>\n",
       "      <th>DLPFC_TWAS_FDR</th>\n",
       "      <th>Hippocampus_TWAS_OR</th>\n",
       "      <th>Hippocampus_TWAS_P</th>\n",
       "      <th>Hippocampus_TWAS_FDR</th>\n",
       "    </tr>\n",
       "  </thead>\n",
       "  <tbody>\n",
       "    <tr>\n",
       "      <th>0</th>\n",
       "      <td>caudate</td>\n",
       "      <td>109</td>\n",
       "      <td>0.0</td>\n",
       "      <td>0.078917</td>\n",
       "      <td>0.23675</td>\n",
       "      <td>0.0</td>\n",
       "      <td>1.0</td>\n",
       "      <td>1.0</td>\n",
       "      <td>0.0</td>\n",
       "      <td>1.0</td>\n",
       "      <td>1.0</td>\n",
       "      <td>0.0</td>\n",
       "      <td>1.0</td>\n",
       "      <td>1.0</td>\n",
       "    </tr>\n",
       "    <tr>\n",
       "      <th>1</th>\n",
       "      <td>dlpfc</td>\n",
       "      <td>10</td>\n",
       "      <td>0.0</td>\n",
       "      <td>1.000000</td>\n",
       "      <td>1.00000</td>\n",
       "      <td>0.0</td>\n",
       "      <td>1.0</td>\n",
       "      <td>1.0</td>\n",
       "      <td>0.0</td>\n",
       "      <td>1.0</td>\n",
       "      <td>1.0</td>\n",
       "      <td>0.0</td>\n",
       "      <td>1.0</td>\n",
       "      <td>1.0</td>\n",
       "    </tr>\n",
       "    <tr>\n",
       "      <th>2</th>\n",
       "      <td>hippocampus</td>\n",
       "      <td>0</td>\n",
       "      <td>NaN</td>\n",
       "      <td>1.000000</td>\n",
       "      <td>1.00000</td>\n",
       "      <td>NaN</td>\n",
       "      <td>1.0</td>\n",
       "      <td>1.0</td>\n",
       "      <td>NaN</td>\n",
       "      <td>1.0</td>\n",
       "      <td>1.0</td>\n",
       "      <td>NaN</td>\n",
       "      <td>1.0</td>\n",
       "      <td>1.0</td>\n",
       "    </tr>\n",
       "  </tbody>\n",
       "</table>\n",
       "</div>"
      ],
      "text/plain": [
       "        Tissue  N_genes  GWAS_OR    GWAS_P  GWAS_FDR  Caudate_TWAS_OR  \\\n",
       "0      caudate      109      0.0  0.078917   0.23675              0.0   \n",
       "1        dlpfc       10      0.0  1.000000   1.00000              0.0   \n",
       "2  hippocampus        0      NaN  1.000000   1.00000              NaN   \n",
       "\n",
       "   Caudate_TWAS_P  Caudate_TWAS_FDR  DLPFC_TWAS_OR  DLPFC_TWAS_P  \\\n",
       "0             1.0               1.0            0.0           1.0   \n",
       "1             1.0               1.0            0.0           1.0   \n",
       "2             1.0               1.0            NaN           1.0   \n",
       "\n",
       "   DLPFC_TWAS_FDR  Hippocampus_TWAS_OR  Hippocampus_TWAS_P  \\\n",
       "0             1.0                  0.0                 1.0   \n",
       "1             1.0                  0.0                 1.0   \n",
       "2             1.0                  NaN                 1.0   \n",
       "\n",
       "   Hippocampus_TWAS_FDR  \n",
       "0                   1.0  \n",
       "1                   1.0  \n",
       "2                   1.0  "
      ]
     },
     "execution_count": 52,
     "metadata": {},
     "output_type": "execute_result"
    }
   ],
   "source": [
    "edf2 = pd.DataFrame.from_records(enrichment_rows_nomhc(), \n",
    "                                 columns=['Tissue', 'N_genes', 'GWAS_OR', 'GWAS_P', \n",
    "                                          'Caudate_TWAS_OR', 'Caudate_TWAS_P', \n",
    "                                          'DLPFC_TWAS_OR', 'DLPFC_TWAS_P', \n",
    "                                          'Hippocampus_TWAS_OR', 'Hippocampus_TWAS_P'])\n",
    "edf2['GWAS_FDR'] = multipletests(edf2['GWAS_P'], method='fdr_bh')[1]\n",
    "edf2['Caudate_TWAS_FDR'] = multipletests(edf2['Caudate_TWAS_P'], method='fdr_bh')[1]\n",
    "edf2['DLPFC_TWAS_FDR'] = multipletests(edf2['DLPFC_TWAS_P'], method='fdr_bh')[1]\n",
    "edf2['Hippocampus_TWAS_FDR'] = multipletests(edf2['Hippocampus_TWAS_P'], method='fdr_bh')[1]\n",
    "edf2 = edf2[['Tissue', 'N_genes', 'GWAS_OR', 'GWAS_P', 'GWAS_FDR',\n",
    "             'Caudate_TWAS_OR', 'Caudate_TWAS_P', 'Caudate_TWAS_FDR',\n",
    "             'DLPFC_TWAS_OR', 'DLPFC_TWAS_P', 'DLPFC_TWAS_FDR',\n",
    "             'Hippocampus_TWAS_OR', 'Hippocampus_TWAS_P', 'Hippocampus_TWAS_FDR']]\n",
    "edf2.to_csv('deg_xlinked_enrichment_nomhc.csv', index=False)\n",
    "edf2"
   ]
  },
  {
   "cell_type": "code",
   "execution_count": 29,
   "metadata": {},
   "outputs": [
    {
     "data": {
      "text/html": [
       "<div>\n",
       "<style scoped>\n",
       "    .dataframe tbody tr th:only-of-type {\n",
       "        vertical-align: middle;\n",
       "    }\n",
       "\n",
       "    .dataframe tbody tr th {\n",
       "        vertical-align: top;\n",
       "    }\n",
       "\n",
       "    .dataframe thead th {\n",
       "        text-align: right;\n",
       "    }\n",
       "</style>\n",
       "<table border=\"1\" class=\"dataframe\">\n",
       "  <thead>\n",
       "    <tr style=\"text-align: right;\">\n",
       "      <th></th>\n",
       "      <th>Gene Source</th>\n",
       "      <th>Odd_Ratio</th>\n",
       "      <th>PValue</th>\n",
       "    </tr>\n",
       "  </thead>\n",
       "  <tbody>\n",
       "    <tr>\n",
       "      <th>0</th>\n",
       "      <td>GWAS</td>\n",
       "      <td>0.028405</td>\n",
       "      <td>1.547760e-26</td>\n",
       "    </tr>\n",
       "    <tr>\n",
       "      <th>1</th>\n",
       "      <td>Caudate_TWAS</td>\n",
       "      <td>0.000000</td>\n",
       "      <td>1.770576e-08</td>\n",
       "    </tr>\n",
       "    <tr>\n",
       "      <th>2</th>\n",
       "      <td>DLPFC_TWAS</td>\n",
       "      <td>0.000000</td>\n",
       "      <td>8.552157e-08</td>\n",
       "    </tr>\n",
       "    <tr>\n",
       "      <th>3</th>\n",
       "      <td>Hippocampus_TWAS</td>\n",
       "      <td>0.000000</td>\n",
       "      <td>3.146627e-05</td>\n",
       "    </tr>\n",
       "  </tbody>\n",
       "</table>\n",
       "</div>"
      ],
      "text/plain": [
       "        Gene Source  Odd_Ratio        PValue\n",
       "0              GWAS   0.028405  1.547760e-26\n",
       "1      Caudate_TWAS   0.000000  1.770576e-08\n",
       "2        DLPFC_TWAS   0.000000  8.552157e-08\n",
       "3  Hippocampus_TWAS   0.000000  3.146627e-05"
      ]
     },
     "execution_count": 29,
     "metadata": {},
     "output_type": "execute_result"
    }
   ],
   "source": [
    "or_lt = []; pval_lt = []; glt = [];\n",
    "for genes in ['GWAS', 'Caudate_TWAS', 'DLPFC_TWAS', \"Hippocampus_TWAS\"]:\n",
    "    oddratio, pval = fet(a, gene_list[genes] - mhc_genes, u)\n",
    "    or_lt.append(oddratio)\n",
    "    pval_lt.append(pval)\n",
    "    glt.append(genes)\n",
    "dt2 = pd.DataFrame({'Gene Source': glt, 'Odd_Ratio': or_lt, 'PValue': pval_lt})\n",
    "dt2.to_csv('xlinked_enrichment_nomhc.csv', index=False)\n",
    "dt2"
   ]
  },
  {
   "cell_type": "markdown",
   "metadata": {},
   "source": [
    "#### Significant depletion of X linked genes for GWAS and TWAS"
   ]
  }
 ],
 "metadata": {
  "kernelspec": {
   "display_name": "Python 3",
   "language": "python",
   "name": "python3"
  },
  "language_info": {
   "codemirror_mode": {
    "name": "ipython",
    "version": 3
   },
   "file_extension": ".py",
   "mimetype": "text/x-python",
   "name": "python",
   "nbconvert_exporter": "python",
   "pygments_lexer": "ipython3",
   "version": "3.9.1"
  }
 },
 "nbformat": 4,
 "nbformat_minor": 4
}
