{
 "cells": [
  {
   "cell_type": "markdown",
   "metadata": {},
   "source": [
    "# Extract male bias genes on the X chromosome"
   ]
  },
  {
   "cell_type": "code",
   "execution_count": null,
   "metadata": {},
   "outputs": [],
   "source": [
    "import session_info\n",
    "import pandas as pd\n",
    "from pyhere import here"
   ]
  },
  {
   "cell_type": "code",
   "execution_count": null,
   "metadata": {},
   "outputs": [],
   "source": [
    "def get_deg():\n",
    "    fn = here(\"differential_expression/tissue_comparison/summary_table\",\n",
    "              \"_m/differential_expression_analysis_4features_sex.txt.gz\")\n",
    "    df = pd.read_csv(fn, sep='\\t').loc[:, [\"Tissue\", \"Feature\", \"ensemblID\", \"Symbol\", \n",
    "                                           \"seqnames\", \"Type\", \"t\", \"Chrom_Type\"]]\n",
    "    return df[(df[\"Type\"] == \"Gene\")].copy()"
   ]
  },
  {
   "cell_type": "code",
   "execution_count": null,
   "metadata": {},
   "outputs": [],
   "source": [
    "df = get_deg()"
   ]
  },
  {
   "cell_type": "code",
   "execution_count": null,
   "metadata": {},
   "outputs": [],
   "source": [
    "xci = pd.read_csv(\"../../_h/xci_status_hg19.txt\", sep='\\t')\n",
    "xci[\"ensemblID\"] = xci[\"Gene ID\"].str.replace(\"\\\\..*\", \"\", regex=True)\n",
    "xci.head(2)"
   ]
  },
  {
   "cell_type": "code",
   "execution_count": null,
   "metadata": {},
   "outputs": [],
   "source": [
    "xci.groupby(\"Combined XCI status\").size()"
   ]
  },
  {
   "cell_type": "code",
   "execution_count": null,
   "metadata": {},
   "outputs": [],
   "source": [
    "tt = df.merge(xci[(xci[\"Combined XCI status\"] == \"escape\")], on=\"ensemblID\")\n",
    "tt[(tt['t'] > 0)]"
   ]
  },
  {
   "cell_type": "markdown",
   "metadata": {},
   "source": [
    "#### Escaped genes are also located on the PAR regions of the Y chromosome."
   ]
  },
  {
   "cell_type": "code",
   "execution_count": null,
   "metadata": {},
   "outputs": [],
   "source": [
    "xlinked = df[(df['seqnames'] == 'chrX')].copy()\n",
    "xx_male = df[(df['seqnames'].isin([\"chrX\", \"chrY\"])) & (df[\"t\"] > 0)].copy()\n",
    "xlinked_male = xlinked[(xlinked[\"t\"] > 0)].copy()\n",
    "xlinked_female = xlinked[(xlinked[\"t\"] < 0)].copy()"
   ]
  },
  {
   "cell_type": "code",
   "execution_count": null,
   "metadata": {},
   "outputs": [],
   "source": [
    "xlinked.groupby(\"Tissue\").size()"
   ]
  },
  {
   "cell_type": "code",
   "execution_count": null,
   "metadata": {},
   "outputs": [],
   "source": [
    "xlinked_male.groupby(\"Tissue\").size()"
   ]
  },
  {
   "cell_type": "code",
   "execution_count": null,
   "metadata": {},
   "outputs": [],
   "source": [
    "xlinked_female.groupby(\"Tissue\").size()"
   ]
  },
  {
   "cell_type": "code",
   "execution_count": null,
   "metadata": {},
   "outputs": [],
   "source": [
    "xlinked_male"
   ]
  },
  {
   "cell_type": "code",
   "execution_count": null,
   "metadata": {},
   "outputs": [],
   "source": [
    "xlinked_male.merge(xci[[\"ensemblID\", \"Combined XCI status\"]], on=\"ensemblID\", how=\"left\").fillna(\"unknown\")"
   ]
  },
  {
   "cell_type": "code",
   "execution_count": null,
   "metadata": {},
   "outputs": [],
   "source": [
    "dx = xlinked_male.merge(xci[[\"ensemblID\", \"Combined XCI status\"]], on=\"ensemblID\", how=\"left\").fillna(\"unknown\")\n",
    "dx = dx[(dx[\"Combined XCI status\"] == \"unknown\")].copy()"
   ]
  },
  {
   "cell_type": "code",
   "execution_count": null,
   "metadata": {},
   "outputs": [],
   "source": [
    "pd.concat([xx_male.merge(xci[[\"ensemblID\", \"Combined XCI status\"]], on=\"ensemblID\"), dx], axis=0)\\\n",
    "  .sort_values([\"Tissue\",  \"Combined XCI status\", \"seqnames\"], ascending=True)\\\n",
    "  .to_csv(\"BrainSeq_male_biased_genes_XCI_status.tsv\", sep='\\t', index=False)"
   ]
  },
  {
   "cell_type": "markdown",
   "metadata": {},
   "source": [
    "## Session information"
   ]
  },
  {
   "cell_type": "code",
   "execution_count": null,
   "metadata": {},
   "outputs": [],
   "source": [
    "session_info.show()"
   ]
  }
 ],
 "metadata": {
  "kernelspec": {
   "display_name": "Python 3 (ipykernel)",
   "language": "python",
   "name": "python3"
  },
  "language_info": {
   "codemirror_mode": {
    "name": "ipython",
    "version": 3
   },
   "file_extension": ".py",
   "mimetype": "text/x-python",
   "name": "python",
   "nbconvert_exporter": "python",
   "pygments_lexer": "ipython3",
   "version": "3.10.9"
  }
 },
 "nbformat": 4,
 "nbformat_minor": 4
}
