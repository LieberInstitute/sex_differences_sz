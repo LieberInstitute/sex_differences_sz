{
 "cells": [
  {
   "cell_type": "markdown",
   "metadata": {},
   "source": [
    "# Cell type enrichment analysis"
   ]
  },
  {
   "cell_type": "code",
   "execution_count": null,
   "metadata": {},
   "outputs": [],
   "source": [
    "import os, errno\n",
    "import functools\n",
    "import numpy as np\n",
    "import pandas as pd\n",
    "import session_info\n",
    "from pyhere import here\n",
    "from functools import lru_cache\n",
    "from matplotlib_venn import venn3\n",
    "from scipy.stats import fisher_exact\n",
    "from matplotlib import pyplot as plt\n",
    "from statsmodels.stats.multitest import multipletests"
   ]
  },
  {
   "cell_type": "markdown",
   "metadata": {},
   "source": [
    "## Functions"
   ]
  },
  {
   "cell_type": "markdown",
   "metadata": {},
   "source": [
    "### Cached functions"
   ]
  },
  {
   "cell_type": "code",
   "execution_count": null,
   "metadata": {},
   "outputs": [],
   "source": [
    "@lru_cache()\n",
    "def get_deg(tissue):\n",
    "    fn = here(f'differential_expression/{tissue}',\n",
    "              '_m/genes/diffExpr_maleVfemale_full.txt')\n",
    "    df = pd.read_csv(fn, sep='\\t', index_col=0)\n",
    "    df[\"ensemblID\"] = df.gencodeID.str.replace(\"\\\\..*\", \"\", regex=True)\n",
    "    return df\n",
    "\n",
    "\n",
    "@lru_cache()\n",
    "def get_xci():\n",
    "    xci = pd.read_csv('../_h/xci_status_hg19.txt', sep='\\t')\n",
    "    xci['ensemblID'] = xci['Gene ID'].str.replace(\"\\\\..*\", \"\", regex=True)\n",
    "    return xci"
   ]
  },
  {
   "cell_type": "markdown",
   "metadata": {},
   "source": [
    "### Simple functions"
   ]
  },
  {
   "cell_type": "code",
   "execution_count": null,
   "metadata": {},
   "outputs": [],
   "source": [
    "def tissue_annotation(tissue):\n",
    "    return {'caudate': \"Caudate\", \"dlpfc\": \"DLPFC\", \n",
    "            \"hippocampus\": \"Hippocampus\"}[tissue]\n",
    "\n",
    "\n",
    "def mkdir_p(directory):\n",
    "    try:\n",
    "        os.makedirs(directory)\n",
    "    except OSError as e:\n",
    "        if e.errno != errno.EEXIST:\n",
    "            raise\n",
    "\n",
    "\n",
    "def cal_fishers(status, tissue):\n",
    "    deg = get_deg(tissue)\n",
    "    xci = get_xci()\n",
    "    df = deg.merge(xci, on='ensemblID', how='left')\n",
    "    table = [[np.sum((df['adj.P.Val']<0.05) & (df['Combined XCI status'] == status)), \n",
    "              np.sum((df['adj.P.Val']<0.05) & (df['Combined XCI status'] != status))], \n",
    "             [np.sum((df['adj.P.Val']>0.05) & (df['Combined XCI status'] == status)), \n",
    "              np.sum((df['adj.P.Val']>0.05) & (df['Combined XCI status'] != status))]]\n",
    "    #print(table)\n",
    "    return fisher_exact(table)\n",
    "\n",
    "\n",
    "def cal_fishers_direction(status, direction, tissue):\n",
    "    deg = get_deg(tissue)\n",
    "    if direction == 'Up':\n",
    "        deg = deg[(deg['t'] > 0)].copy()\n",
    "    else:\n",
    "        deg = deg[(deg['t'] < 0)].copy()\n",
    "    xci = get_xci()\n",
    "    df = deg.merge(xci, on='ensemblID', how='left')\n",
    "    table = [[np.sum((df['adj.P.Val']<0.05) & (df['Combined XCI status'] == status)), \n",
    "              np.sum((df['adj.P.Val']<0.05) & (df['Combined XCI status'] != status))], \n",
    "             [np.sum((df['adj.P.Val']>0.05) & (df['Combined XCI status'] == status)), \n",
    "              np.sum((df['adj.P.Val']>0.05) & (df['Combined XCI status'] != status))]]\n",
    "    #print(table)\n",
    "    return fisher_exact(table)\n",
    "\n",
    "\n",
    "def cal_fisher_by_xci_status(tissue):\n",
    "    xci_status = xci = get_xci().loc[:, 'Combined XCI status'].unique()\n",
    "    xci_lt = []; pval_lt = []; oddratio_lt = []; dir_lt = [];\n",
    "    for status in xci_status:\n",
    "        odd_ratio, pval = cal_fishers(status, tissue)\n",
    "        xci_lt.append(status); pval_lt.append(pval);\n",
    "        oddratio_lt.append(odd_ratio); dir_lt.append('All')\n",
    "        if pval < 0.05:\n",
    "            print(\"There is a significant enrichment (p-value < %.1e) of %s!\" % \n",
    "                  (pval, status))\n",
    "\n",
    "    for status in xci_status:\n",
    "        odd_ratio, pval = cal_fishers_direction(status, \"Up\", tissue)\n",
    "        xci_lt.append(status); pval_lt.append(pval);\n",
    "        oddratio_lt.append(odd_ratio); dir_lt.append('Male Bias')\n",
    "        if pval < 0.05:\n",
    "            print(\"There is a significant enrichment of male bias genes (p-value < %.1e) of %s!\" %\n",
    "                  (pval, status))\n",
    "        \n",
    "    for status in xci_status:\n",
    "        odd_ratio, pval = cal_fishers_direction(status, \"Down\", tissue)\n",
    "        xci_lt.append(status); pval_lt.append(pval);\n",
    "        oddratio_lt.append(odd_ratio); dir_lt.append('Female Bias')\n",
    "        if pval < 0.05:\n",
    "            print(\"There is a significant enrichment of female bias genes (p-value < %.1e) of %s!\" % \n",
    "                  (pval, status))\n",
    "    return pd.DataFrame({\"Tissue\": tissue_annotation(tissue),\n",
    "                         'XCI status': xci_lt, 'OR': oddratio_lt, \n",
    "                         'PValue': pval_lt, 'Direction': dir_lt})"
   ]
  },
  {
   "cell_type": "markdown",
   "metadata": {},
   "source": [
    "## Gene set overlaps"
   ]
  },
  {
   "cell_type": "code",
   "execution_count": null,
   "metadata": {},
   "outputs": [],
   "source": [
    "for tissue in [\"caudate\", \"dlpfc\", \"hippocampus\"]:\n",
    "    mkdir_p(tissue)\n",
    "    print(tissue_annotation(tissue))\n",
    "    deg = get_deg(tissue)\n",
    "    xci = get_xci()\n",
    "    xci_status = get_xci().loc[:, 'Combined XCI status'].unique()\n",
    "    ## Plot venn diagram\n",
    "    for status in xci_status:\n",
    "        setA = set(deg[(deg[\"adj.P.Val\"] < 0.05) & (deg['t'] < 0)].ensemblID)\n",
    "        setB = set(xci[(xci[\"Combined XCI status\"] == status)].ensemblID)\n",
    "        setC = set(deg[(deg[\"adj.P.Val\"] < 0.05) & (deg['t'] > 0)].ensemblID)\n",
    "        plt.rcParams.update({'font.size': 18})\n",
    "        plt.figure(figsize=(7,7))\n",
    "        v = venn3([setA, setB, setC], (\"Female Bias\", \"XCI\", \"Male Bias\"))\n",
    "        plt.title(status.title())\n",
    "        fn = f'{tissue}/venn_DEGs_{status}'\n",
    "        for ext in ['png', 'pdf', 'svg']:\n",
    "            plt.savefig(fn + '.' + ext) \n",
    "        plt.show()"
   ]
  },
  {
   "cell_type": "markdown",
   "metadata": {},
   "source": [
    "## Calculated fisher's exact for each XCI status"
   ]
  },
  {
   "cell_type": "code",
   "execution_count": null,
   "metadata": {},
   "outputs": [],
   "source": [
    "d = dict()\n",
    "for tissue in [\"caudate\", \"dlpfc\", \"hippocampus\"]:\n",
    "    print(tissue_annotation(tissue))\n",
    "    df = cal_fisher_by_xci_status(tissue)\n",
    "    _, fdr, _, _ = multipletests(df.PValue, method='bonferroni')\n",
    "    df['Bonferroni'] = fdr\n",
    "    d[tissue] = df"
   ]
  },
  {
   "cell_type": "code",
   "execution_count": null,
   "metadata": {},
   "outputs": [],
   "source": [
    "dft = pd.concat(d.values(), axis=0)\n",
    "dft[(dft.Bonferroni <= 0.05)]"
   ]
  },
  {
   "cell_type": "code",
   "execution_count": null,
   "metadata": {},
   "outputs": [],
   "source": [
    "dft.to_csv('xci_enrichment_analysis_3brainRegions.txt', sep='\\t', index=False)"
   ]
  },
  {
   "cell_type": "markdown",
   "metadata": {},
   "source": [
    "## Session information"
   ]
  },
  {
   "cell_type": "code",
   "execution_count": null,
   "metadata": {},
   "outputs": [],
   "source": [
    "session_info.show()"
   ]
  }
 ],
 "metadata": {
  "kernelspec": {
   "display_name": "Python 3 (ipykernel)",
   "language": "python",
   "name": "python3"
  },
  "language_info": {
   "codemirror_mode": {
    "name": "ipython",
    "version": 3
   },
   "file_extension": ".py",
   "mimetype": "text/x-python",
   "name": "python",
   "nbconvert_exporter": "python",
   "pygments_lexer": "ipython3",
   "version": "3.10.9"
  }
 },
 "nbformat": 4,
 "nbformat_minor": 4
}
