{
 "cells": [
  {
   "cell_type": "markdown",
   "metadata": {},
   "source": [
    "# Clustered dotplots"
   ]
  },
  {
   "cell_type": "code",
   "execution_count": null,
   "metadata": {},
   "outputs": [],
   "source": [
    "library(dplyr)\n",
    "library(ggplot2)"
   ]
  },
  {
   "cell_type": "code",
   "execution_count": null,
   "metadata": {},
   "outputs": [],
   "source": [
    "save_plot <- function(p, fn, w, h){\n",
    "    for(ext in c(\".pdf\", \".png\", \".svg\")){\n",
    "        ggsave(filename=paste0(fn,ext), plot=p, width=w, height=h)\n",
    "    }\n",
    "}"
   ]
  },
  {
   "cell_type": "markdown",
   "metadata": {},
   "source": [
    "## Get data"
   ]
  },
  {
   "cell_type": "code",
   "execution_count": null,
   "metadata": {},
   "outputs": [],
   "source": [
    "xci <- data.table::fread(\"../../_m/xci_enrichment_analysis_3brainRegions.txt\")\n",
    "xci %>% filter(Bonferroni < 0.05)"
   ]
  },
  {
   "cell_type": "code",
   "execution_count": null,
   "metadata": {},
   "outputs": [],
   "source": [
    "err = 0.0000001\n",
    "df <- xci %>% \n",
    "    mutate(`-log10(Bonferroni)` = -log10(Bonferroni), \n",
    "           `OR Percentile` = OR / (1+OR), \n",
    "           `log10(OR)` = log10(OR+err)) \n",
    "y1 <- max(df$`log10(OR)`)+0.1\n",
    "y0 <- min(df$`log10(OR)`)-0.1\n",
    "\n",
    "dotplot = df %>% \n",
    "    ggplot(aes(x=`XCI status`, y=Direction, color=`log10(OR)`, \n",
    "               size=`-log10(Bonferroni)`)) + \n",
    "    geom_point() + ylab('') + xlab('') + facet_grid(~Tissue) +\n",
    "    scale_color_gradientn(colors=c(\"blue\", \"grey\", \"red\"), \n",
    "                          values=scales::rescale(c(y0, 0, y1)), \n",
    "                          limits=c(y0, y1)) +\n",
    "    theme_bw() + \n",
    "    theme(axis.line  = element_blank(), \n",
    "          axis.text.x = element_text(angle = 45, hjust=1), \n",
    "          axis.text = element_text(size=14), \n",
    "          axis.ticks = element_blank(), \n",
    "          legend.position=\"right\", \n",
    "          panel.grid = element_blank(), \n",
    "          strip.text=element_text(size=14, face=\"bold\"))\n",
    "dotplot"
   ]
  },
  {
   "cell_type": "code",
   "execution_count": null,
   "metadata": {},
   "outputs": [],
   "source": [
    "save_plot(dotplot, \"dotplot_enrichment_xci\", 9, 4)"
   ]
  },
  {
   "cell_type": "markdown",
   "metadata": {},
   "source": [
    "## Reproducibility Information"
   ]
  },
  {
   "cell_type": "code",
   "execution_count": null,
   "metadata": {},
   "outputs": [],
   "source": [
    "Sys.time()\n",
    "proc.time()\n",
    "options(width = 120)\n",
    "sessioninfo::session_info()"
   ]
  }
 ],
 "metadata": {
  "kernelspec": {
   "display_name": "R",
   "language": "R",
   "name": "ir"
  },
  "language_info": {
   "codemirror_mode": "r",
   "file_extension": ".r",
   "mimetype": "text/x-r-source",
   "name": "R",
   "pygments_lexer": "r",
   "version": "4.2.2"
  }
 },
 "nbformat": 4,
 "nbformat_minor": 4
}
