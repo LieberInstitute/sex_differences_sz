{
 "cells": [
  {
   "cell_type": "markdown",
   "metadata": {},
   "source": [
    "# Cell type enrichment analysis"
   ]
  },
  {
   "cell_type": "code",
   "execution_count": null,
   "metadata": {},
   "outputs": [],
   "source": [
    "import functools\n",
    "import numpy as np\n",
    "import pandas as pd\n",
    "from scipy.stats import fisher_exact\n",
    "from statsmodels.stats.multitest import multipletests"
   ]
  },
  {
   "cell_type": "code",
   "execution_count": null,
   "metadata": {},
   "outputs": [],
   "source": [
    "config = {\n",
    "    'shared_file': '../../../../differential_expression/tissue_comparison/upset_plots/_m/BrainSeq_shared_degs_annotation.txt',\n",
    "    'xci_file': '../../_h/xci_status_hg19.txt',\n",
    "    'background': \"background.txt\"\n",
    "}"
   ]
  },
  {
   "cell_type": "code",
   "execution_count": null,
   "metadata": {},
   "outputs": [],
   "source": [
    "@functools.lru_cache()\n",
    "def get_deg():\n",
    "    return pd.read_csv(config['shared_file'], sep='\\t')\n",
    "\n",
    "\n",
    "@functools.lru_cache()\n",
    "def get_xci():\n",
    "    return pd.read_csv(config['xci_file'], sep='\\t')\n",
    "\n",
    "\n",
    "@functools.lru_cache()\n",
    "def get_background():\n",
    "    return pd.read_csv(config['background'], sep='\\t')"
   ]
  },
  {
   "cell_type": "code",
   "execution_count": null,
   "metadata": {},
   "outputs": [],
   "source": [
    "def cal_fishers(status):\n",
    "    xci = get_xci()\n",
    "    xci['ensemblID'] = xci['Gene ID'].str.replace(\"\\\\..*\", \"\", regex=True)\n",
    "    df = get_background().drop_duplicates()\\\n",
    "                         .merge(get_deg(), on=\"ensemblID\", how=\"left\")\\\n",
    "                         .drop(['gene_id', 'gene_name'], axis=1)\\\n",
    "                         .merge(xci, on='ensemblID', how=\"left\")\n",
    "    df['Dir'] = df.Dir.fillna(0)\n",
    "    table = [[np.sum((df['Dir']!=0) & (df['Combined XCI status'] == status)), \n",
    "              np.sum((df['Dir']!=0) & (df['Combined XCI status'] != status))], \n",
    "             [np.sum((df['Dir']==0) & (df['Combined XCI status'] == status)), \n",
    "              np.sum((df['Dir']==0) & (df['Combined XCI status'] != status))]]\n",
    "    print(table)\n",
    "    return fisher_exact(table)\n",
    "\n",
    "\n",
    "def cal_fishers_direction(status, direction):\n",
    "    deg = get_deg()\n",
    "    if direction == 'Up':\n",
    "        deg = deg[(deg['Dir'] > 0)].copy()\n",
    "    else:\n",
    "        deg = deg[(deg['Dir'] < 0)].copy()\n",
    "    xci = get_xci()\n",
    "    xci['ensemblID'] = xci['Gene ID'].str.replace(\"\\\\..*\", \"\", regex=True)\n",
    "    df = get_background().drop_duplicates()\\\n",
    "                         .merge(deg, on=\"ensemblID\", how=\"left\")\\\n",
    "                         .drop(['gene_id', 'gene_name'], axis=1)\\\n",
    "                         .merge(xci, on='ensemblID', how=\"left\")\n",
    "    df['Dir'] = df.Dir.fillna(0)\n",
    "    table = [[np.sum((df['Dir']!=0) & (df['Combined XCI status'] == status)), \n",
    "              np.sum((df['Dir']!=0) & (df['Combined XCI status'] != status))], \n",
    "             [np.sum((df['Dir']==0) & (df['Combined XCI status'] == status)), \n",
    "              np.sum((df['Dir']==0) & (df['Combined XCI status'] != status))]]\n",
    "    print(table)\n",
    "    return fisher_exact(table)\n",
    "\n",
    "\n",
    "def cal_fisher_by_xci_status():\n",
    "    xci_status = xci = get_xci().loc[:, 'Combined XCI status'].unique()\n",
    "    xci_lt = []; pval_lt = []; oddratio_lt = []; dir_lt = [];\n",
    "    for status in xci_status:\n",
    "        odd_ratio, pval = cal_fishers(status)\n",
    "        xci_lt.append(status); pval_lt.append(pval);\n",
    "        oddratio_lt.append(odd_ratio); dir_lt.append('All')\n",
    "        if pval < 0.05:\n",
    "            print(\"There is a significant enrichment (p-value < %.1e) of %s!\" % \n",
    "                  (pval, status))\n",
    "\n",
    "    for status in xci_status:\n",
    "        odd_ratio, pval = cal_fishers_direction(status, \"Up\")\n",
    "        xci_lt.append(status); pval_lt.append(pval);\n",
    "        oddratio_lt.append(odd_ratio); dir_lt.append('Male Bias')\n",
    "        if pval < 0.05:\n",
    "            print(\"There is a significant enrichment of male bias genes (p-value < %.1e) of %s!\" %\n",
    "                  (pval, status))\n",
    "        \n",
    "    for status in xci_status:\n",
    "        odd_ratio, pval = cal_fishers_direction(status, \"Down\")\n",
    "        xci_lt.append(status); pval_lt.append(pval);\n",
    "        oddratio_lt.append(odd_ratio); dir_lt.append('Female Bias')\n",
    "        if pval < 0.05:\n",
    "            print(\"There is a significant enrichment of female bias genes (p-value < %.1e) of %s!\" % \n",
    "                  (pval, status))\n",
    "    return pd.DataFrame({'XCI status': xci_lt, 'OR': oddratio_lt, \n",
    "                         'PValue': pval_lt, 'Direction': dir_lt})"
   ]
  },
  {
   "cell_type": "markdown",
   "metadata": {},
   "source": [
    "## Calculated fisher's exact for each XCI status"
   ]
  },
  {
   "cell_type": "code",
   "execution_count": null,
   "metadata": {},
   "outputs": [],
   "source": [
    "df = cal_fisher_by_xci_status()\n",
    "_, fdr, _, _ = multipletests(df.PValue, method='fdr_bh')\n",
    "df['FDR'] = fdr\n",
    "df[(df.FDR <= 0.05)]"
   ]
  },
  {
   "cell_type": "code",
   "execution_count": null,
   "metadata": {},
   "outputs": [],
   "source": [
    "df"
   ]
  },
  {
   "cell_type": "code",
   "execution_count": null,
   "metadata": {},
   "outputs": [],
   "source": [
    "df.to_csv('xci_enrichment_analysis.txt', sep='\\t', index=False)"
   ]
  }
 ],
 "metadata": {
  "kernelspec": {
   "display_name": "Python 3 (ipykernel)",
   "language": "python",
   "name": "python3"
  },
  "language_info": {
   "codemirror_mode": {
    "name": "ipython",
    "version": 3
   },
   "file_extension": ".py",
   "mimetype": "text/x-python",
   "name": "python",
   "nbconvert_exporter": "python",
   "pygments_lexer": "ipython3",
   "version": "3.10.9"
  }
 },
 "nbformat": 4,
 "nbformat_minor": 4
}
