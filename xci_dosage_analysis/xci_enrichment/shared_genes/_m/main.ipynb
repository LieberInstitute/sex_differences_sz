{
 "cells": [
  {
   "cell_type": "markdown",
   "metadata": {},
   "source": [
    "# Cell type enrichment analysis"
   ]
  },
  {
   "cell_type": "code",
   "execution_count": 1,
   "metadata": {
    "execution": {
     "iopub.execute_input": "2021-07-13T16:28:09.900707Z",
     "iopub.status.busy": "2021-07-13T16:28:09.898945Z",
     "iopub.status.idle": "2021-07-13T16:28:10.471472Z",
     "shell.execute_reply": "2021-07-13T16:28:10.471951Z"
    }
   },
   "outputs": [],
   "source": [
    "import functools\n",
    "import numpy as np\n",
    "import pandas as pd\n",
    "from scipy.stats import fisher_exact\n",
    "from statsmodels.stats.multitest import multipletests"
   ]
  },
  {
   "cell_type": "code",
   "execution_count": 2,
   "metadata": {
    "execution": {
     "iopub.execute_input": "2021-07-13T16:28:10.477626Z",
     "iopub.status.busy": "2021-07-13T16:28:10.476341Z",
     "iopub.status.idle": "2021-07-13T16:28:10.478927Z",
     "shell.execute_reply": "2021-07-13T16:28:10.479943Z"
    }
   },
   "outputs": [],
   "source": [
    "config = {\n",
    "    'shared_file': '../../../../differential_expression/tissue_comparison/upset_plots/_m/BrainSeq_shared_degs_annotation.txt',\n",
    "    'xci_file': '../../_h/xci_status_hg19.txt',\n",
    "    'background': \"background.txt\"\n",
    "}"
   ]
  },
  {
   "cell_type": "code",
   "execution_count": 3,
   "metadata": {
    "execution": {
     "iopub.execute_input": "2021-07-13T16:28:10.486871Z",
     "iopub.status.busy": "2021-07-13T16:28:10.485637Z",
     "iopub.status.idle": "2021-07-13T16:28:10.488195Z",
     "shell.execute_reply": "2021-07-13T16:28:10.489214Z"
    }
   },
   "outputs": [],
   "source": [
    "@functools.lru_cache()\n",
    "def get_deg():\n",
    "    return pd.read_csv(config['shared_file'], sep='\\t')\n",
    "\n",
    "\n",
    "@functools.lru_cache()\n",
    "def get_xci():\n",
    "    return pd.read_csv(config['xci_file'], sep='\\t')\n",
    "\n",
    "\n",
    "@functools.lru_cache()\n",
    "def get_background():\n",
    "    return pd.read_csv(config['background'], sep='\\t')"
   ]
  },
  {
   "cell_type": "code",
   "execution_count": 4,
   "metadata": {
    "execution": {
     "iopub.execute_input": "2021-07-13T16:28:10.507816Z",
     "iopub.status.busy": "2021-07-13T16:28:10.506087Z",
     "iopub.status.idle": "2021-07-13T16:28:10.509146Z",
     "shell.execute_reply": "2021-07-13T16:28:10.510167Z"
    }
   },
   "outputs": [],
   "source": [
    "def cal_fishers(status):\n",
    "    xci = get_xci()\n",
    "    xci['ensemblID'] = xci['Gene ID'].str.replace(\"\\\\..*\", \"\", regex=True)\n",
    "    df = get_background().drop_duplicates()\\\n",
    "                         .merge(get_deg(), on=\"ensemblID\", how=\"left\")\\\n",
    "                         .drop(['gene_id', 'gene_name'], axis=1)\\\n",
    "                         .merge(xci, on='ensemblID', how=\"left\")\n",
    "    df['Dir'] = df.Dir.fillna(0)\n",
    "    table = [[np.sum((df['Dir']!=0) & (df['Combined XCI status'] == status)), \n",
    "              np.sum((df['Dir']!=0) & (df['Combined XCI status'] != status))], \n",
    "             [np.sum((df['Dir']==0) & (df['Combined XCI status'] == status)), \n",
    "              np.sum((df['Dir']==0) & (df['Combined XCI status'] != status))]]\n",
    "    print(table)\n",
    "    return fisher_exact(table)\n",
    "\n",
    "\n",
    "def cal_fishers_direction(status, direction):\n",
    "    deg = get_deg()\n",
    "    if direction == 'Up':\n",
    "        deg = deg[(deg['Dir'] > 0)].copy()\n",
    "    else:\n",
    "        deg = deg[(deg['Dir'] < 0)].copy()\n",
    "    xci = get_xci()\n",
    "    xci['ensemblID'] = xci['Gene ID'].str.replace(\"\\\\..*\", \"\", regex=True)\n",
    "    df = get_background().drop_duplicates()\\\n",
    "                         .merge(deg, on=\"ensemblID\", how=\"left\")\\\n",
    "                         .drop(['gene_id', 'gene_name'], axis=1)\\\n",
    "                         .merge(xci, on='ensemblID', how=\"left\")\n",
    "    df['Dir'] = df.Dir.fillna(0)\n",
    "    table = [[np.sum((df['Dir']!=0) & (df['Combined XCI status'] == status)), \n",
    "              np.sum((df['Dir']!=0) & (df['Combined XCI status'] != status))], \n",
    "             [np.sum((df['Dir']==0) & (df['Combined XCI status'] == status)), \n",
    "              np.sum((df['Dir']==0) & (df['Combined XCI status'] != status))]]\n",
    "    print(table)\n",
    "    return fisher_exact(table)\n",
    "\n",
    "\n",
    "def cal_fisher_by_xci_status():\n",
    "    xci_status = xci = get_xci().loc[:, 'Combined XCI status'].unique()\n",
    "    xci_lt = []; pval_lt = []; oddratio_lt = []; dir_lt = [];\n",
    "    for status in xci_status:\n",
    "        odd_ratio, pval = cal_fishers(status)\n",
    "        xci_lt.append(status); pval_lt.append(pval);\n",
    "        oddratio_lt.append(odd_ratio); dir_lt.append('All')\n",
    "        if pval < 0.05:\n",
    "            print(\"There is a significant enrichment (p-value < %.1e) of %s!\" % \n",
    "                  (pval, status))\n",
    "\n",
    "    for status in xci_status:\n",
    "        odd_ratio, pval = cal_fishers_direction(status, \"Up\")\n",
    "        xci_lt.append(status); pval_lt.append(pval);\n",
    "        oddratio_lt.append(odd_ratio); dir_lt.append('Male Bias')\n",
    "        if pval < 0.05:\n",
    "            print(\"There is a significant enrichment of male bias genes (p-value < %.1e) of %s!\" %\n",
    "                  (pval, status))\n",
    "        \n",
    "    for status in xci_status:\n",
    "        odd_ratio, pval = cal_fishers_direction(status, \"Down\")\n",
    "        xci_lt.append(status); pval_lt.append(pval);\n",
    "        oddratio_lt.append(odd_ratio); dir_lt.append('Female Bias')\n",
    "        if pval < 0.05:\n",
    "            print(\"There is a significant enrichment of female bias genes (p-value < %.1e) of %s!\" % \n",
    "                  (pval, status))\n",
    "    return pd.DataFrame({'XCI status': xci_lt, 'OR': oddratio_lt, \n",
    "                         'PValue': pval_lt, 'Direction': dir_lt})"
   ]
  },
  {
   "cell_type": "markdown",
   "metadata": {},
   "source": [
    "## Calculated fisher's exact for each XCI status"
   ]
  },
  {
   "cell_type": "code",
   "execution_count": 5,
   "metadata": {
    "execution": {
     "iopub.execute_input": "2021-07-13T16:28:10.516724Z",
     "iopub.status.busy": "2021-07-13T16:28:10.515486Z",
     "iopub.status.idle": "2021-07-13T16:28:11.178645Z",
     "shell.execute_reply": "2021-07-13T16:28:11.179697Z"
    }
   },
   "outputs": [
    {
     "name": "stdout",
     "output_type": "stream",
     "text": [
      "[[21, 52], [52, 24762]]\n",
      "There is a significant enrichment (p-value < 2.6e-37) of escape!\n",
      "[[1, 72], [73, 24741]]\n",
      "[[0, 73], [391, 24423]]\n",
      "[[2, 37], [71, 24777]]\n",
      "There is a significant enrichment of male bias genes (p-value < 5.9e-03) of escape!\n",
      "[[0, 39], [74, 24774]]\n",
      "[[0, 39], [391, 24457]]\n",
      "[[19, 15], [54, 24799]]\n",
      "There is a significant enrichment of female bias genes (p-value < 1.1e-40) of escape!\n",
      "[[1, 33], [73, 24780]]\n",
      "[[0, 34], [391, 24462]]\n"
     ]
    },
    {
     "data": {
      "text/html": [
       "<div>\n",
       "<style scoped>\n",
       "    .dataframe tbody tr th:only-of-type {\n",
       "        vertical-align: middle;\n",
       "    }\n",
       "\n",
       "    .dataframe tbody tr th {\n",
       "        vertical-align: top;\n",
       "    }\n",
       "\n",
       "    .dataframe thead th {\n",
       "        text-align: right;\n",
       "    }\n",
       "</style>\n",
       "<table border=\"1\" class=\"dataframe\">\n",
       "  <thead>\n",
       "    <tr style=\"text-align: right;\">\n",
       "      <th></th>\n",
       "      <th>XCI status</th>\n",
       "      <th>OR</th>\n",
       "      <th>PValue</th>\n",
       "      <th>Direction</th>\n",
       "      <th>FDR</th>\n",
       "    </tr>\n",
       "  </thead>\n",
       "  <tbody>\n",
       "    <tr>\n",
       "      <th>0</th>\n",
       "      <td>escape</td>\n",
       "      <td>192.308432</td>\n",
       "      <td>2.642862e-37</td>\n",
       "      <td>All</td>\n",
       "      <td>1.189288e-36</td>\n",
       "    </tr>\n",
       "    <tr>\n",
       "      <th>3</th>\n",
       "      <td>escape</td>\n",
       "      <td>18.863342</td>\n",
       "      <td>5.862299e-03</td>\n",
       "      <td>Male Bias</td>\n",
       "      <td>1.758690e-02</td>\n",
       "    </tr>\n",
       "    <tr>\n",
       "      <th>6</th>\n",
       "      <td>escape</td>\n",
       "      <td>581.704938</td>\n",
       "      <td>1.051047e-40</td>\n",
       "      <td>Female Bias</td>\n",
       "      <td>9.459419e-40</td>\n",
       "    </tr>\n",
       "  </tbody>\n",
       "</table>\n",
       "</div>"
      ],
      "text/plain": [
       "  XCI status          OR        PValue    Direction           FDR\n",
       "0     escape  192.308432  2.642862e-37          All  1.189288e-36\n",
       "3     escape   18.863342  5.862299e-03    Male Bias  1.758690e-02\n",
       "6     escape  581.704938  1.051047e-40  Female Bias  9.459419e-40"
      ]
     },
     "execution_count": 1,
     "metadata": {},
     "output_type": "execute_result"
    }
   ],
   "source": [
    "df = cal_fisher_by_xci_status()\n",
    "_, fdr, _, _ = multipletests(df.PValue, method='fdr_bh')\n",
    "df['FDR'] = fdr\n",
    "df[(df.FDR <= 0.05)]"
   ]
  },
  {
   "cell_type": "code",
   "execution_count": 6,
   "metadata": {
    "execution": {
     "iopub.execute_input": "2021-07-13T16:28:11.192347Z",
     "iopub.status.busy": "2021-07-13T16:28:11.191090Z",
     "iopub.status.idle": "2021-07-13T16:28:11.195353Z",
     "shell.execute_reply": "2021-07-13T16:28:11.196377Z"
    }
   },
   "outputs": [
    {
     "data": {
      "text/html": [
       "<div>\n",
       "<style scoped>\n",
       "    .dataframe tbody tr th:only-of-type {\n",
       "        vertical-align: middle;\n",
       "    }\n",
       "\n",
       "    .dataframe tbody tr th {\n",
       "        vertical-align: top;\n",
       "    }\n",
       "\n",
       "    .dataframe thead th {\n",
       "        text-align: right;\n",
       "    }\n",
       "</style>\n",
       "<table border=\"1\" class=\"dataframe\">\n",
       "  <thead>\n",
       "    <tr style=\"text-align: right;\">\n",
       "      <th></th>\n",
       "      <th>XCI status</th>\n",
       "      <th>OR</th>\n",
       "      <th>PValue</th>\n",
       "      <th>Direction</th>\n",
       "      <th>FDR</th>\n",
       "    </tr>\n",
       "  </thead>\n",
       "  <tbody>\n",
       "    <tr>\n",
       "      <th>0</th>\n",
       "      <td>escape</td>\n",
       "      <td>192.308432</td>\n",
       "      <td>2.642862e-37</td>\n",
       "      <td>All</td>\n",
       "      <td>1.189288e-36</td>\n",
       "    </tr>\n",
       "    <tr>\n",
       "      <th>1</th>\n",
       "      <td>variable</td>\n",
       "      <td>4.707192</td>\n",
       "      <td>1.956333e-01</td>\n",
       "      <td>All</td>\n",
       "      <td>3.521399e-01</td>\n",
       "    </tr>\n",
       "    <tr>\n",
       "      <th>2</th>\n",
       "      <td>inactive</td>\n",
       "      <td>0.000000</td>\n",
       "      <td>6.328014e-01</td>\n",
       "      <td>All</td>\n",
       "      <td>9.492021e-01</td>\n",
       "    </tr>\n",
       "    <tr>\n",
       "      <th>3</th>\n",
       "      <td>escape</td>\n",
       "      <td>18.863342</td>\n",
       "      <td>5.862299e-03</td>\n",
       "      <td>Male Bias</td>\n",
       "      <td>1.758690e-02</td>\n",
       "    </tr>\n",
       "    <tr>\n",
       "      <th>4</th>\n",
       "      <td>variable</td>\n",
       "      <td>0.000000</td>\n",
       "      <td>1.000000e+00</td>\n",
       "      <td>Male Bias</td>\n",
       "      <td>1.000000e+00</td>\n",
       "    </tr>\n",
       "    <tr>\n",
       "      <th>5</th>\n",
       "      <td>inactive</td>\n",
       "      <td>0.000000</td>\n",
       "      <td>1.000000e+00</td>\n",
       "      <td>Male Bias</td>\n",
       "      <td>1.000000e+00</td>\n",
       "    </tr>\n",
       "    <tr>\n",
       "      <th>6</th>\n",
       "      <td>escape</td>\n",
       "      <td>581.704938</td>\n",
       "      <td>1.051047e-40</td>\n",
       "      <td>Female Bias</td>\n",
       "      <td>9.459419e-40</td>\n",
       "    </tr>\n",
       "    <tr>\n",
       "      <th>7</th>\n",
       "      <td>variable</td>\n",
       "      <td>10.286426</td>\n",
       "      <td>9.635152e-02</td>\n",
       "      <td>Female Bias</td>\n",
       "      <td>2.167909e-01</td>\n",
       "    </tr>\n",
       "    <tr>\n",
       "      <th>8</th>\n",
       "      <td>inactive</td>\n",
       "      <td>0.000000</td>\n",
       "      <td>1.000000e+00</td>\n",
       "      <td>Female Bias</td>\n",
       "      <td>1.000000e+00</td>\n",
       "    </tr>\n",
       "  </tbody>\n",
       "</table>\n",
       "</div>"
      ],
      "text/plain": [
       "  XCI status          OR        PValue    Direction           FDR\n",
       "0     escape  192.308432  2.642862e-37          All  1.189288e-36\n",
       "1   variable    4.707192  1.956333e-01          All  3.521399e-01\n",
       "2   inactive    0.000000  6.328014e-01          All  9.492021e-01\n",
       "3     escape   18.863342  5.862299e-03    Male Bias  1.758690e-02\n",
       "4   variable    0.000000  1.000000e+00    Male Bias  1.000000e+00\n",
       "5   inactive    0.000000  1.000000e+00    Male Bias  1.000000e+00\n",
       "6     escape  581.704938  1.051047e-40  Female Bias  9.459419e-40\n",
       "7   variable   10.286426  9.635152e-02  Female Bias  2.167909e-01\n",
       "8   inactive    0.000000  1.000000e+00  Female Bias  1.000000e+00"
      ]
     },
     "execution_count": 1,
     "metadata": {},
     "output_type": "execute_result"
    }
   ],
   "source": [
    "df"
   ]
  },
  {
   "cell_type": "code",
   "execution_count": 7,
   "metadata": {
    "execution": {
     "iopub.execute_input": "2021-07-13T16:28:11.202440Z",
     "iopub.status.busy": "2021-07-13T16:28:11.200970Z",
     "iopub.status.idle": "2021-07-13T16:28:11.206438Z",
     "shell.execute_reply": "2021-07-13T16:28:11.207461Z"
    }
   },
   "outputs": [],
   "source": [
    "df.to_csv('xci_enrichment_analysis.txt', sep='\\t', index=False)"
   ]
  }
 ],
 "metadata": {
  "kernelspec": {
   "display_name": "Python 3",
   "language": "python",
   "name": "python3"
  },
  "language_info": {
   "codemirror_mode": {
    "name": "ipython",
    "version": 3
   },
   "file_extension": ".py",
   "mimetype": "text/x-python",
   "name": "python",
   "nbconvert_exporter": "python",
   "pygments_lexer": "ipython3",
   "version": "3.9.1"
  }
 },
 "nbformat": 4,
 "nbformat_minor": 4
}
