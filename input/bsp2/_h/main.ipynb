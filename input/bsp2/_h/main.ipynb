{
 "cells": [
  {
   "cell_type": "markdown",
   "metadata": {},
   "source": [
    "# Extract differential expression analsys from Phase 2 Rdata"
   ]
  },
  {
   "cell_type": "code",
   "execution_count": 1,
   "metadata": {},
   "outputs": [
    {
     "name": "stderr",
     "output_type": "stream",
     "text": [
      "\n",
      "Attaching package: 'dplyr'\n",
      "\n",
      "\n",
      "The following objects are masked from 'package:stats':\n",
      "\n",
      "    filter, lag\n",
      "\n",
      "\n",
      "The following objects are masked from 'package:base':\n",
      "\n",
      "    intersect, setdiff, setequal, union\n",
      "\n",
      "\n"
     ]
    }
   ],
   "source": [
    "library(dplyr)"
   ]
  },
  {
   "cell_type": "markdown",
   "metadata": {},
   "source": [
    "## Load data"
   ]
  },
  {
   "cell_type": "code",
   "execution_count": 2,
   "metadata": {},
   "outputs": [
    {
     "data": {
      "text/html": [
       "'deres'"
      ],
      "text/latex": [
       "'deres'"
      ],
      "text/markdown": [
       "'deres'"
      ],
      "text/plain": [
       "[1] \"deres\""
      ]
     },
     "metadata": {},
     "output_type": "display_data"
    }
   ],
   "source": [
    "lname = load('/ceph/users/jbenja13/phase3_paper/phase2/_m/deres.Rdata')\n",
    "lname"
   ]
  },
  {
   "cell_type": "code",
   "execution_count": 3,
   "metadata": {},
   "outputs": [
    {
     "data": {
      "text/html": [
       "<style>\n",
       ".list-inline {list-style: none; margin:0; padding: 0}\n",
       ".list-inline>li {display: inline-block}\n",
       ".list-inline>li:not(:last-child)::after {content: \"\\00b7\"; padding: 0 .5ex}\n",
       "</style>\n",
       "<ol class=list-inline><li>'development'</li><li>'region'</li><li>'sczd'</li></ol>\n"
      ],
      "text/latex": [
       "\\begin{enumerate*}\n",
       "\\item 'development'\n",
       "\\item 'region'\n",
       "\\item 'sczd'\n",
       "\\end{enumerate*}\n"
      ],
      "text/markdown": [
       "1. 'development'\n",
       "2. 'region'\n",
       "3. 'sczd'\n",
       "\n",
       "\n"
      ],
      "text/plain": [
       "[1] \"development\" \"region\"      \"sczd\"       "
      ]
     },
     "metadata": {},
     "output_type": "display_data"
    }
   ],
   "source": [
    "names(deres)"
   ]
  },
  {
   "cell_type": "markdown",
   "metadata": {},
   "source": [
    "## Extract features and select common columns"
   ]
  },
  {
   "cell_type": "code",
   "execution_count": 39,
   "metadata": {},
   "outputs": [
    {
     "data": {
      "text/html": [
       "<style>\n",
       ".list-inline {list-style: none; margin:0; padding: 0}\n",
       ".list-inline>li {display: inline-block}\n",
       ".list-inline>li:not(:last-child)::after {content: \"\\00b7\"; padding: 0 .5ex}\n",
       "</style>\n",
       "<ol class=list-inline><li>'Feature'</li><li>'ensemblID'</li><li>'Symbol'</li><li>'gencodeTx'</li><li>'meanExprs'</li><li>'passExprsCut'</li><li>'logFC'</li><li>'AveExpr'</li><li>'t'</li><li>'P.Value'</li><li>'adj.P.Val'</li><li>'B'</li><li>'region'</li><li>'type'</li><li>'gencodeID'</li></ol>\n"
      ],
      "text/latex": [
       "\\begin{enumerate*}\n",
       "\\item 'Feature'\n",
       "\\item 'ensemblID'\n",
       "\\item 'Symbol'\n",
       "\\item 'gencodeTx'\n",
       "\\item 'meanExprs'\n",
       "\\item 'passExprsCut'\n",
       "\\item 'logFC'\n",
       "\\item 'AveExpr'\n",
       "\\item 't'\n",
       "\\item 'P.Value'\n",
       "\\item 'adj.P.Val'\n",
       "\\item 'B'\n",
       "\\item 'region'\n",
       "\\item 'type'\n",
       "\\item 'gencodeID'\n",
       "\\end{enumerate*}\n"
      ],
      "text/markdown": [
       "1. 'Feature'\n",
       "2. 'ensemblID'\n",
       "3. 'Symbol'\n",
       "4. 'gencodeTx'\n",
       "5. 'meanExprs'\n",
       "6. 'passExprsCut'\n",
       "7. 'logFC'\n",
       "8. 'AveExpr'\n",
       "9. 't'\n",
       "10. 'P.Value'\n",
       "11. 'adj.P.Val'\n",
       "12. 'B'\n",
       "13. 'region'\n",
       "14. 'type'\n",
       "15. 'gencodeID'\n",
       "\n",
       "\n"
      ],
      "text/plain": [
       " [1] \"Feature\"      \"ensemblID\"    \"Symbol\"       \"gencodeTx\"    \"meanExprs\"   \n",
       " [6] \"passExprsCut\" \"logFC\"        \"AveExpr\"      \"t\"            \"P.Value\"     \n",
       "[11] \"adj.P.Val\"    \"B\"            \"region\"       \"type\"         \"gencodeID\"   "
      ]
     },
     "metadata": {},
     "output_type": "display_data"
    }
   ],
   "source": [
    "tx = deres$sczd$tx %>% as.data.frame %>% tibble::rownames_to_column(\"Feature\") %>%\n",
    "    mutate(Symbol=gene_name, gencodeID=gene_id, gencodeTx=transcript_id)\n",
    "t_col = colnames(tx)\n",
    "\n",
    "jxn = deres$sczd$jxn %>% tibble::rownames_to_column(\"Feature\") %>%\n",
    "    mutate(gencodeID=newGeneID, Symbol=newGeneSymbol)\n",
    "j_col = colnames(jxn)\n",
    "\n",
    "gene = deres$sczd$gene %>% as.data.frame %>% tibble::rownames_to_column(\"Feature\")\n",
    "g_col = colnames(gene)\n",
    "\n",
    "exon = deres$sczd$exon %>% as.data.frame %>% tibble::rownames_to_column(\"Feature\")\n",
    "e_col = colnames(exon)\n",
    "\n",
    "cols = intersect(intersect(intersect(j_col, e_col), g_col), t_col)\n",
    "cols"
   ]
  },
  {
   "cell_type": "markdown",
   "metadata": {},
   "source": [
    "## Merge data"
   ]
  },
  {
   "cell_type": "code",
   "execution_count": 47,
   "metadata": {},
   "outputs": [
    {
     "data": {
      "text/html": [
       "<style>\n",
       ".list-inline {list-style: none; margin:0; padding: 0}\n",
       ".list-inline>li {display: inline-block}\n",
       ".list-inline>li:not(:last-child)::after {content: \"\\00b7\"; padding: 0 .5ex}\n",
       "</style>\n",
       "<ol class=list-inline><li>1622296</li><li>13</li></ol>\n"
      ],
      "text/latex": [
       "\\begin{enumerate*}\n",
       "\\item 1622296\n",
       "\\item 13\n",
       "\\end{enumerate*}\n"
      ],
      "text/markdown": [
       "1. 1622296\n",
       "2. 13\n",
       "\n",
       "\n"
      ],
      "text/plain": [
       "[1] 1622296      13"
      ]
     },
     "metadata": {},
     "output_type": "display_data"
    }
   ],
   "source": [
    "df = bind_rows(gene %>% select(cols, -passExprsCut, -gencodeTx),\n",
    "               tx %>% select(cols, -passExprsCut, -gencodeTx), \n",
    "               exon %>% select(cols, -passExprsCut, -gencodeTx), \n",
    "               jxn %>% select(cols, -passExprsCut, -gencodeTx))\n",
    "df %>% dim"
   ]
  },
  {
   "cell_type": "markdown",
   "metadata": {},
   "source": [
    "## Write output"
   ]
  },
  {
   "cell_type": "code",
   "execution_count": 48,
   "metadata": {},
   "outputs": [],
   "source": [
    "df %>% filter(region == \"DLPFC\") %>%\n",
    "    data.table::fwrite(\"dlpfc_diffExpr_szVctl_full.tsv\", sep='\\t')\n",
    "\n",
    "df %>% filter(region == \"HIPPO\") %>%\n",
    "    data.table::fwrite(\"hippo_diffExpr_szVctl_full.tsv\", sep='\\t')"
   ]
  },
  {
   "cell_type": "markdown",
   "metadata": {},
   "source": [
    "## Reproducibility Information"
   ]
  },
  {
   "cell_type": "code",
   "execution_count": null,
   "metadata": {},
   "outputs": [],
   "source": [
    "Sys.time()\n",
    "proc.time()\n",
    "options(width = 120)\n",
    "sessioninfo::session_info()"
   ]
  }
 ],
 "metadata": {
  "kernelspec": {
   "display_name": "R",
   "language": "R",
   "name": "ir"
  },
  "language_info": {
   "codemirror_mode": "r",
   "file_extension": ".r",
   "mimetype": "text/x-r-source",
   "name": "R",
   "pygments_lexer": "r",
   "version": "4.0.3"
  }
 },
 "nbformat": 4,
 "nbformat_minor": 4
}
