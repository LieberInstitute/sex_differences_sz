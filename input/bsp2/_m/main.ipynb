{
 "cells": [
  {
   "cell_type": "markdown",
   "metadata": {},
   "source": [
    "# Extract differential expression analsys from Phase 2 Rdata"
   ]
  },
  {
   "cell_type": "code",
   "execution_count": 1,
   "metadata": {
    "execution": {
     "iopub.execute_input": "2021-07-14T17:56:47.530256Z",
     "iopub.status.busy": "2021-07-14T17:56:47.527944Z",
     "iopub.status.idle": "2021-07-14T17:56:47.894855Z",
     "shell.execute_reply": "2021-07-14T17:56:47.893305Z"
    }
   },
   "outputs": [
    {
     "name": "stderr",
     "output_type": "stream",
     "text": [
      "\n",
      "Attaching package: ‘dplyr’\n",
      "\n",
      "\n",
      "The following objects are masked from ‘package:stats’:\n",
      "\n",
      "    filter, lag\n",
      "\n",
      "\n",
      "The following objects are masked from ‘package:base’:\n",
      "\n",
      "    intersect, setdiff, setequal, union\n",
      "\n",
      "\n"
     ]
    }
   ],
   "source": [
    "library(dplyr)"
   ]
  },
  {
   "cell_type": "markdown",
   "metadata": {},
   "source": [
    "## Load data"
   ]
  },
  {
   "cell_type": "code",
   "execution_count": 2,
   "metadata": {
    "execution": {
     "iopub.execute_input": "2021-07-14T17:56:47.934427Z",
     "iopub.status.busy": "2021-07-14T17:56:47.903977Z",
     "iopub.status.idle": "2021-07-14T17:57:19.337420Z",
     "shell.execute_reply": "2021-07-14T17:57:19.335458Z"
    }
   },
   "outputs": [
    {
     "data": {
      "text/html": [
       "'deres'"
      ],
      "text/latex": [
       "'deres'"
      ],
      "text/markdown": [
       "'deres'"
      ],
      "text/plain": [
       "[1] \"deres\""
      ]
     },
     "metadata": {},
     "output_type": "display_data"
    }
   ],
   "source": [
    "lname = load('/ceph/users/jbenja13/phase3_paper/phase2/_m/deres.Rdata')\n",
    "lname"
   ]
  },
  {
   "cell_type": "code",
   "execution_count": 3,
   "metadata": {
    "execution": {
     "iopub.execute_input": "2021-07-14T17:57:19.345870Z",
     "iopub.status.busy": "2021-07-14T17:57:19.343757Z",
     "iopub.status.idle": "2021-07-14T17:57:19.362503Z",
     "shell.execute_reply": "2021-07-14T17:57:19.360896Z"
    }
   },
   "outputs": [
    {
     "data": {
      "text/html": [
       "<style>\n",
       ".list-inline {list-style: none; margin:0; padding: 0}\n",
       ".list-inline>li {display: inline-block}\n",
       ".list-inline>li:not(:last-child)::after {content: \"\\00b7\"; padding: 0 .5ex}\n",
       "</style>\n",
       "<ol class=list-inline><li>'development'</li><li>'region'</li><li>'sczd'</li></ol>\n"
      ],
      "text/latex": [
       "\\begin{enumerate*}\n",
       "\\item 'development'\n",
       "\\item 'region'\n",
       "\\item 'sczd'\n",
       "\\end{enumerate*}\n"
      ],
      "text/markdown": [
       "1. 'development'\n",
       "2. 'region'\n",
       "3. 'sczd'\n",
       "\n",
       "\n"
      ],
      "text/plain": [
       "[1] \"development\" \"region\"      \"sczd\"       "
      ]
     },
     "metadata": {},
     "output_type": "display_data"
    }
   ],
   "source": [
    "names(deres)"
   ]
  },
  {
   "cell_type": "markdown",
   "metadata": {},
   "source": [
    "## Extract features and select common columns"
   ]
  },
  {
   "cell_type": "code",
   "execution_count": 4,
   "metadata": {
    "execution": {
     "iopub.execute_input": "2021-07-14T17:57:19.369295Z",
     "iopub.status.busy": "2021-07-14T17:57:19.367127Z",
     "iopub.status.idle": "2021-07-14T17:57:21.734299Z",
     "shell.execute_reply": "2021-07-14T17:57:21.732453Z"
    }
   },
   "outputs": [
    {
     "name": "stderr",
     "output_type": "stream",
     "text": [
      "Loading required package: S4Vectors\n",
      "\n",
      "Loading required package: stats4\n",
      "\n",
      "Loading required package: BiocGenerics\n",
      "\n",
      "Loading required package: parallel\n",
      "\n",
      "\n",
      "Attaching package: ‘BiocGenerics’\n",
      "\n",
      "\n",
      "The following objects are masked from ‘package:parallel’:\n",
      "\n",
      "    clusterApply, clusterApplyLB, clusterCall, clusterEvalQ,\n",
      "    clusterExport, clusterMap, parApply, parCapply, parLapply,\n",
      "    parLapplyLB, parRapply, parSapply, parSapplyLB\n",
      "\n",
      "\n",
      "The following objects are masked from ‘package:dplyr’:\n",
      "\n",
      "    combine, intersect, setdiff, union\n",
      "\n",
      "\n",
      "The following objects are masked from ‘package:stats’:\n",
      "\n",
      "    IQR, mad, sd, var, xtabs\n",
      "\n",
      "\n",
      "The following objects are masked from ‘package:base’:\n",
      "\n",
      "    anyDuplicated, append, as.data.frame, basename, cbind, colnames,\n",
      "    dirname, do.call, duplicated, eval, evalq, Filter, Find, get, grep,\n",
      "    grepl, intersect, is.unsorted, lapply, Map, mapply, match, mget,\n",
      "    order, paste, pmax, pmax.int, pmin, pmin.int, Position, rank,\n",
      "    rbind, Reduce, rownames, sapply, setdiff, sort, table, tapply,\n",
      "    union, unique, unsplit, which.max, which.min\n",
      "\n",
      "\n",
      "\n",
      "Attaching package: ‘S4Vectors’\n",
      "\n",
      "\n",
      "The following objects are masked from ‘package:dplyr’:\n",
      "\n",
      "    first, rename\n",
      "\n",
      "\n",
      "The following object is masked from ‘package:base’:\n",
      "\n",
      "    expand.grid\n",
      "\n",
      "\n"
     ]
    },
    {
     "data": {
      "text/html": [
       "<style>\n",
       ".list-inline {list-style: none; margin:0; padding: 0}\n",
       ".list-inline>li {display: inline-block}\n",
       ".list-inline>li:not(:last-child)::after {content: \"\\00b7\"; padding: 0 .5ex}\n",
       "</style>\n",
       "<ol class=list-inline><li>'Feature'</li><li>'ensemblID'</li><li>'Symbol'</li><li>'gencodeTx'</li><li>'meanExprs'</li><li>'passExprsCut'</li><li>'logFC'</li><li>'AveExpr'</li><li>'t'</li><li>'P.Value'</li><li>'adj.P.Val'</li><li>'B'</li><li>'region'</li><li>'type'</li><li>'gencodeID'</li></ol>\n"
      ],
      "text/latex": [
       "\\begin{enumerate*}\n",
       "\\item 'Feature'\n",
       "\\item 'ensemblID'\n",
       "\\item 'Symbol'\n",
       "\\item 'gencodeTx'\n",
       "\\item 'meanExprs'\n",
       "\\item 'passExprsCut'\n",
       "\\item 'logFC'\n",
       "\\item 'AveExpr'\n",
       "\\item 't'\n",
       "\\item 'P.Value'\n",
       "\\item 'adj.P.Val'\n",
       "\\item 'B'\n",
       "\\item 'region'\n",
       "\\item 'type'\n",
       "\\item 'gencodeID'\n",
       "\\end{enumerate*}\n"
      ],
      "text/markdown": [
       "1. 'Feature'\n",
       "2. 'ensemblID'\n",
       "3. 'Symbol'\n",
       "4. 'gencodeTx'\n",
       "5. 'meanExprs'\n",
       "6. 'passExprsCut'\n",
       "7. 'logFC'\n",
       "8. 'AveExpr'\n",
       "9. 't'\n",
       "10. 'P.Value'\n",
       "11. 'adj.P.Val'\n",
       "12. 'B'\n",
       "13. 'region'\n",
       "14. 'type'\n",
       "15. 'gencodeID'\n",
       "\n",
       "\n"
      ],
      "text/plain": [
       " [1] \"Feature\"      \"ensemblID\"    \"Symbol\"       \"gencodeTx\"    \"meanExprs\"   \n",
       " [6] \"passExprsCut\" \"logFC\"        \"AveExpr\"      \"t\"            \"P.Value\"     \n",
       "[11] \"adj.P.Val\"    \"B\"            \"region\"       \"type\"         \"gencodeID\"   "
      ]
     },
     "metadata": {},
     "output_type": "display_data"
    }
   ],
   "source": [
    "tx = deres$sczd$tx %>% as.data.frame %>% tibble::rownames_to_column(\"Feature\") %>%\n",
    "    mutate(Symbol=gene_name, gencodeID=gene_id, gencodeTx=transcript_id)\n",
    "t_col = colnames(tx)\n",
    "\n",
    "jxn = deres$sczd$jxn %>% tibble::rownames_to_column(\"Feature\") %>%\n",
    "    mutate(gencodeID=newGeneID, Symbol=newGeneSymbol)\n",
    "j_col = colnames(jxn)\n",
    "\n",
    "gene = deres$sczd$gene %>% as.data.frame %>% tibble::rownames_to_column(\"Feature\")\n",
    "g_col = colnames(gene)\n",
    "\n",
    "exon = deres$sczd$exon %>% as.data.frame %>% tibble::rownames_to_column(\"Feature\")\n",
    "e_col = colnames(exon)\n",
    "\n",
    "cols = intersect(intersect(intersect(j_col, e_col), g_col), t_col)\n",
    "cols"
   ]
  },
  {
   "cell_type": "markdown",
   "metadata": {},
   "source": [
    "## Merge data"
   ]
  },
  {
   "cell_type": "code",
   "execution_count": 5,
   "metadata": {
    "execution": {
     "iopub.execute_input": "2021-07-14T17:57:21.741422Z",
     "iopub.status.busy": "2021-07-14T17:57:21.739330Z",
     "iopub.status.idle": "2021-07-14T17:57:21.935274Z",
     "shell.execute_reply": "2021-07-14T17:57:21.933461Z"
    }
   },
   "outputs": [
    {
     "name": "stderr",
     "output_type": "stream",
     "text": [
      "Note: Using an external vector in selections is ambiguous.\n",
      "\u001b[34mℹ\u001b[39m Use `all_of(cols)` instead of `cols` to silence this message.\n",
      "\u001b[34mℹ\u001b[39m See <https://tidyselect.r-lib.org/reference/faq-external-vector.html>.\n",
      "\u001b[90mThis message is displayed once per session.\u001b[39m\n",
      "\n"
     ]
    },
    {
     "data": {
      "text/html": [
       "<style>\n",
       ".list-inline {list-style: none; margin:0; padding: 0}\n",
       ".list-inline>li {display: inline-block}\n",
       ".list-inline>li:not(:last-child)::after {content: \"\\00b7\"; padding: 0 .5ex}\n",
       "</style>\n",
       "<ol class=list-inline><li>1622296</li><li>13</li></ol>\n"
      ],
      "text/latex": [
       "\\begin{enumerate*}\n",
       "\\item 1622296\n",
       "\\item 13\n",
       "\\end{enumerate*}\n"
      ],
      "text/markdown": [
       "1. 1622296\n",
       "2. 13\n",
       "\n",
       "\n"
      ],
      "text/plain": [
       "[1] 1622296      13"
      ]
     },
     "metadata": {},
     "output_type": "display_data"
    }
   ],
   "source": [
    "df = bind_rows(gene %>% select(cols, -passExprsCut, -gencodeTx),\n",
    "               tx %>% select(cols, -passExprsCut, -gencodeTx), \n",
    "               exon %>% select(cols, -passExprsCut, -gencodeTx), \n",
    "               jxn %>% select(cols, -passExprsCut, -gencodeTx))\n",
    "df %>% dim"
   ]
  },
  {
   "cell_type": "markdown",
   "metadata": {},
   "source": [
    "## Write output"
   ]
  },
  {
   "cell_type": "code",
   "execution_count": 6,
   "metadata": {
    "execution": {
     "iopub.execute_input": "2021-07-14T17:57:21.942176Z",
     "iopub.status.busy": "2021-07-14T17:57:21.939968Z",
     "iopub.status.idle": "2021-07-14T17:57:24.789030Z",
     "shell.execute_reply": "2021-07-14T17:57:24.786350Z"
    }
   },
   "outputs": [],
   "source": [
    "df %>% filter(region == \"DLPFC\") %>%\n",
    "    data.table::fwrite(\"dlpfc_diffExpr_szVctl_full.tsv\", sep='\\t')\n",
    "\n",
    "df %>% filter(region == \"HIPPO\") %>%\n",
    "    data.table::fwrite(\"hippo_diffExpr_szVctl_full.tsv\", sep='\\t')"
   ]
  },
  {
   "cell_type": "markdown",
   "metadata": {},
   "source": [
    "## Reproducibility Information"
   ]
  },
  {
   "cell_type": "code",
   "execution_count": 7,
   "metadata": {
    "execution": {
     "iopub.execute_input": "2021-07-14T17:57:24.799200Z",
     "iopub.status.busy": "2021-07-14T17:57:24.795989Z",
     "iopub.status.idle": "2021-07-14T17:57:25.065581Z",
     "shell.execute_reply": "2021-07-14T17:57:25.064291Z"
    }
   },
   "outputs": [
    {
     "data": {
      "text/plain": [
       "[1] \"2021-07-14 13:57:24 EDT\""
      ]
     },
     "metadata": {},
     "output_type": "display_data"
    },
    {
     "data": {
      "text/plain": [
       "   user  system elapsed \n",
       " 40.930   1.476  38.171 "
      ]
     },
     "metadata": {},
     "output_type": "display_data"
    },
    {
     "data": {
      "text/plain": [
       "─ Session info ───────────────────────────────────────────────────────────────────────────────────────────────────────\n",
       " setting  value                       \n",
       " version  R version 4.0.3 (2020-10-10)\n",
       " os       Arch Linux                  \n",
       " system   x86_64, linux-gnu           \n",
       " ui       X11                         \n",
       " language (EN)                        \n",
       " collate  en_US.UTF-8                 \n",
       " ctype    en_US.UTF-8                 \n",
       " tz       America/New_York            \n",
       " date     2021-07-14                  \n",
       "\n",
       "─ Packages ───────────────────────────────────────────────────────────────────────────────────────────────────────────\n",
       " package      * version date       lib source        \n",
       " assertthat     0.2.1   2019-03-21 [1] CRAN (R 4.0.2)\n",
       " base64enc      0.1-3   2015-07-28 [1] CRAN (R 4.0.2)\n",
       " BiocGenerics * 0.36.1  2021-04-16 [1] Bioconductor  \n",
       " cli            3.0.0   2021-06-30 [1] CRAN (R 4.0.3)\n",
       " crayon         1.4.1   2021-02-08 [1] CRAN (R 4.0.3)\n",
       " data.table     1.14.0  2021-02-21 [1] CRAN (R 4.0.3)\n",
       " DBI            1.1.1   2021-01-15 [1] CRAN (R 4.0.2)\n",
       " digest         0.6.27  2020-10-24 [1] CRAN (R 4.0.2)\n",
       " dplyr        * 1.0.7   2021-06-18 [1] CRAN (R 4.0.3)\n",
       " ellipsis       0.3.2   2021-04-29 [1] CRAN (R 4.0.3)\n",
       " evaluate       0.14    2019-05-28 [1] CRAN (R 4.0.2)\n",
       " fansi          0.5.0   2021-05-25 [1] CRAN (R 4.0.3)\n",
       " generics       0.1.0   2020-10-31 [1] CRAN (R 4.0.2)\n",
       " glue           1.4.2   2020-08-27 [1] CRAN (R 4.0.2)\n",
       " htmltools      0.5.1.1 2021-01-22 [1] CRAN (R 4.0.2)\n",
       " IRdisplay      1.0     2021-01-20 [1] CRAN (R 4.0.2)\n",
       " IRkernel       1.2     2021-05-11 [1] CRAN (R 4.0.3)\n",
       " jsonlite       1.7.2   2020-12-09 [1] CRAN (R 4.0.2)\n",
       " lifecycle      1.0.0   2021-02-15 [1] CRAN (R 4.0.3)\n",
       " magrittr       2.0.1   2020-11-17 [1] CRAN (R 4.0.2)\n",
       " pbdZMQ         0.3-5   2021-02-10 [1] CRAN (R 4.0.3)\n",
       " pillar         1.6.1   2021-05-16 [1] CRAN (R 4.0.3)\n",
       " pkgconfig      2.0.3   2019-09-22 [1] CRAN (R 4.0.2)\n",
       " purrr          0.3.4   2020-04-17 [1] CRAN (R 4.0.2)\n",
       " R6             2.5.0   2020-10-28 [1] CRAN (R 4.0.2)\n",
       " repr           1.1.3   2021-01-21 [1] CRAN (R 4.0.2)\n",
       " rlang          0.4.11  2021-04-30 [1] CRAN (R 4.0.3)\n",
       " S4Vectors    * 0.28.1  2020-12-09 [1] Bioconductor  \n",
       " sessioninfo    1.1.1   2018-11-05 [1] CRAN (R 4.0.2)\n",
       " tibble         3.1.2   2021-05-16 [1] CRAN (R 4.0.3)\n",
       " tidyselect     1.1.1   2021-04-30 [1] CRAN (R 4.0.3)\n",
       " utf8           1.2.1   2021-03-12 [1] CRAN (R 4.0.3)\n",
       " uuid           0.1-4   2020-02-26 [1] CRAN (R 4.0.2)\n",
       " vctrs          0.3.8   2021-04-29 [1] CRAN (R 4.0.3)\n",
       " withr          2.4.2   2021-04-18 [1] CRAN (R 4.0.3)\n",
       "\n",
       "[1] /home/jbenja13/R/x86_64-pc-linux-gnu-library/4.0\n",
       "[2] /usr/lib/R/library"
      ]
     },
     "metadata": {},
     "output_type": "display_data"
    }
   ],
   "source": [
    "Sys.time()\n",
    "proc.time()\n",
    "options(width = 120)\n",
    "sessioninfo::session_info()"
   ]
  }
 ],
 "metadata": {
  "kernelspec": {
   "display_name": "R",
   "language": "R",
   "name": "ir"
  },
  "language_info": {
   "codemirror_mode": "r",
   "file_extension": ".r",
   "mimetype": "text/x-r-source",
   "name": "R",
   "pygments_lexer": "r",
   "version": "4.0.3"
  }
 },
 "nbformat": 4,
 "nbformat_minor": 4
}
