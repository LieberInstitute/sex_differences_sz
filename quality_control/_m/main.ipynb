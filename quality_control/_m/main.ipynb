{
 "cells": [
  {
   "cell_type": "markdown",
   "id": "db1ea626-6686-48fc-996f-3ed31438e8fb",
   "metadata": {},
   "source": [
    "# Correlate variables to remove redundant metrics"
   ]
  },
  {
   "cell_type": "code",
   "execution_count": 1,
   "id": "033201b3-bfd5-4d0e-9bc0-eaa780f8a323",
   "metadata": {
    "execution": {
     "iopub.execute_input": "2023-02-13T23:44:54.578539Z",
     "iopub.status.busy": "2023-02-13T23:44:54.577384Z",
     "iopub.status.idle": "2023-02-13T23:44:58.453451Z",
     "shell.execute_reply": "2023-02-13T23:44:58.452437Z"
    }
   },
   "outputs": [],
   "source": [
    "suppressPackageStartupMessages({\n",
    "    library(here)\n",
    "    library(dplyr)\n",
    "    library(SummarizedExperiment)\n",
    "})"
   ]
  },
  {
   "cell_type": "markdown",
   "id": "e9749487-075b-4875-9833-47e51dcbb786",
   "metadata": {},
   "source": [
    "## Functions"
   ]
  },
  {
   "cell_type": "code",
   "execution_count": 2,
   "id": "13b8a394-17ae-41e5-aad0-a46d806855d1",
   "metadata": {
    "execution": {
     "iopub.execute_input": "2023-02-13T23:44:58.472121Z",
     "iopub.status.busy": "2023-02-13T23:44:58.455686Z",
     "iopub.status.idle": "2023-02-13T23:44:58.481195Z",
     "shell.execute_reply": "2023-02-13T23:44:58.480296Z"
    }
   },
   "outputs": [],
   "source": [
    "load_phenotypes <- function(region){\n",
    "    pheno_file <- here(\"input/phenotypes/_m/phenotypes.csv\")\n",
    "    pheno = data.table::fread(pheno_file) |> filter(Region == region) |> \n",
    "        mutate_if(is.list, ~sapply(., sum)) |>\n",
    "        mutate_if(is.numeric, scales::rescale)\n",
    "    return(pheno)\n",
    "}\n",
    "\n",
    "check_dup <- function(df){\n",
    "    sample    <- df |> select_if(is.numeric)\n",
    "    sample    <- Filter(function(x) sd(x) != 0, sample)\n",
    "    variables <- names(sample)\n",
    "    return(cytominer::correlation_threshold(variables, sample, cutoff=0.95))\n",
    "}\n",
    "\n",
    "check_corr <- function(df){\n",
    "    sample <- df |> select_if(is.numeric)\n",
    "    sample <- Filter(function(x) sd(x) != 0, sample)\n",
    "    dt     <- sample |> corrr::correlate() |>\n",
    "        corrr::stretch() |> tidyr::drop_na() |>\n",
    "        filter(abs(r) > 0.95) |>\n",
    "        distinct(r, .keep_all=TRUE)\n",
    "    varX <- distinct(dt, x)$x\n",
    "    varX <- varX[-which(varX %in% intersect(varX, distinct(dt, y)$y))]\n",
    "    vars <- unique(c(distinct(dt, x)$x, distinct(dt, y)$y))\n",
    "    return(setdiff(vars, varX))\n",
    "}\n",
    "\n",
    "remove_variables <- function(pheno_df){\n",
    "    if(length(check_corr(pheno_df)) != 0){\n",
    "        pheno_df <- pheno_df |> select(-check_corr(pheno_df))\n",
    "    }\n",
    "    return(pheno_df)\n",
    "}"
   ]
  },
  {
   "cell_type": "markdown",
   "id": "2a10c84d-97fa-480b-a48b-057b524c59ae",
   "metadata": {},
   "source": [
    "## Main"
   ]
  },
  {
   "cell_type": "markdown",
   "id": "86a1e315-6839-422f-857a-4ad136f331ce",
   "metadata": {},
   "source": [
    "### Load phenotypes"
   ]
  },
  {
   "cell_type": "code",
   "execution_count": 3,
   "id": "ede8724c-5d21-425a-b7c4-856773882897",
   "metadata": {
    "execution": {
     "iopub.execute_input": "2023-02-13T23:44:58.484646Z",
     "iopub.status.busy": "2023-02-13T23:44:58.483970Z",
     "iopub.status.idle": "2023-02-13T23:44:59.652429Z",
     "shell.execute_reply": "2023-02-13T23:44:59.651393Z"
    }
   },
   "outputs": [],
   "source": [
    "caudate <- load_phenotypes(\"Caudate\")\n",
    "dlpfc   <- load_phenotypes(\"DLPFC\")\n",
    "hippo   <- load_phenotypes(\"HIPPO\")"
   ]
  },
  {
   "cell_type": "code",
   "execution_count": 4,
   "id": "55cb9cb9-f7da-41b4-90da-7f500e8b7a9a",
   "metadata": {
    "execution": {
     "iopub.execute_input": "2023-02-13T23:44:59.656046Z",
     "iopub.status.busy": "2023-02-13T23:44:59.655268Z",
     "iopub.status.idle": "2023-02-13T23:44:59.668108Z",
     "shell.execute_reply": "2023-02-13T23:44:59.667255Z"
    }
   },
   "outputs": [
    {
     "data": {
      "text/html": [
       "<style>\n",
       ".list-inline {list-style: none; margin:0; padding: 0}\n",
       ".list-inline>li {display: inline-block}\n",
       ".list-inline>li:not(:last-child)::after {content: \"\\00b7\"; padding: 0 .5ex}\n",
       "</style>\n",
       "<ol class=list-inline><li>418</li><li>57</li></ol>\n"
      ],
      "text/latex": [
       "\\begin{enumerate*}\n",
       "\\item 418\n",
       "\\item 57\n",
       "\\end{enumerate*}\n"
      ],
      "text/markdown": [
       "1. 418\n",
       "2. 57\n",
       "\n",
       "\n"
      ],
      "text/plain": [
       "[1] 418  57"
      ]
     },
     "metadata": {},
     "output_type": "display_data"
    },
    {
     "data": {
      "text/html": [
       "<style>\n",
       ".list-inline {list-style: none; margin:0; padding: 0}\n",
       ".list-inline>li {display: inline-block}\n",
       ".list-inline>li:not(:last-child)::after {content: \"\\00b7\"; padding: 0 .5ex}\n",
       "</style>\n",
       "<ol class=list-inline><li>388</li><li>57</li></ol>\n"
      ],
      "text/latex": [
       "\\begin{enumerate*}\n",
       "\\item 388\n",
       "\\item 57\n",
       "\\end{enumerate*}\n"
      ],
      "text/markdown": [
       "1. 388\n",
       "2. 57\n",
       "\n",
       "\n"
      ],
      "text/plain": [
       "[1] 388  57"
      ]
     },
     "metadata": {},
     "output_type": "display_data"
    },
    {
     "data": {
      "text/html": [
       "<style>\n",
       ".list-inline {list-style: none; margin:0; padding: 0}\n",
       ".list-inline>li {display: inline-block}\n",
       ".list-inline>li:not(:last-child)::after {content: \"\\00b7\"; padding: 0 .5ex}\n",
       "</style>\n",
       "<ol class=list-inline><li>408</li><li>57</li></ol>\n"
      ],
      "text/latex": [
       "\\begin{enumerate*}\n",
       "\\item 408\n",
       "\\item 57\n",
       "\\end{enumerate*}\n"
      ],
      "text/markdown": [
       "1. 408\n",
       "2. 57\n",
       "\n",
       "\n"
      ],
      "text/plain": [
       "[1] 408  57"
      ]
     },
     "metadata": {},
     "output_type": "display_data"
    }
   ],
   "source": [
    "caudate |> dim()\n",
    "dlpfc |> dim()\n",
    "hippo |> dim()"
   ]
  },
  {
   "cell_type": "markdown",
   "id": "2e8a6c55-c470-41fd-abde-c87254c106f7",
   "metadata": {},
   "source": [
    "### Drop correlated"
   ]
  },
  {
   "cell_type": "code",
   "execution_count": 5,
   "id": "8c429e48-5f20-4c80-869c-1c1d5077715c",
   "metadata": {
    "execution": {
     "iopub.execute_input": "2023-02-13T23:44:59.671349Z",
     "iopub.status.busy": "2023-02-13T23:44:59.670666Z",
     "iopub.status.idle": "2023-02-13T23:44:59.949832Z",
     "shell.execute_reply": "2023-02-13T23:44:59.948929Z"
    }
   },
   "outputs": [
    {
     "name": "stderr",
     "output_type": "stream",
     "text": [
      "Correlation computed with\n",
      "\u001b[36m•\u001b[39m Method: 'pearson'\n",
      "\u001b[36m•\u001b[39m Missing treated using: 'pairwise.complete.obs'\n"
     ]
    },
    {
     "data": {
      "text/html": [
       "<style>\n",
       ".list-inline {list-style: none; margin:0; padding: 0}\n",
       ".list-inline>li {display: inline-block}\n",
       ".list-inline>li:not(:last-child)::after {content: \"\\00b7\"; padding: 0 .5ex}\n",
       "</style>\n",
       "<ol class=list-inline><li>'Exonic_Rate'</li><li>'gene_Assigned'</li><li>'Intronic_Rate'</li><li>'End_2_Sense_Rate'</li><li>'Mapped_Unique_Reads'</li><li>'NonGlobin_Reads'</li></ol>\n"
      ],
      "text/latex": [
       "\\begin{enumerate*}\n",
       "\\item 'Exonic\\_Rate'\n",
       "\\item 'gene\\_Assigned'\n",
       "\\item 'Intronic\\_Rate'\n",
       "\\item 'End\\_2\\_Sense\\_Rate'\n",
       "\\item 'Mapped\\_Unique\\_Reads'\n",
       "\\item 'NonGlobin\\_Reads'\n",
       "\\end{enumerate*}\n"
      ],
      "text/markdown": [
       "1. 'Exonic_Rate'\n",
       "2. 'gene_Assigned'\n",
       "3. 'Intronic_Rate'\n",
       "4. 'End_2_Sense_Rate'\n",
       "5. 'Mapped_Unique_Reads'\n",
       "6. 'NonGlobin_Reads'\n",
       "\n",
       "\n"
      ],
      "text/plain": [
       "[1] \"Exonic_Rate\"         \"gene_Assigned\"       \"Intronic_Rate\"      \n",
       "[4] \"End_2_Sense_Rate\"    \"Mapped_Unique_Reads\" \"NonGlobin_Reads\"    "
      ]
     },
     "metadata": {},
     "output_type": "display_data"
    },
    {
     "name": "stderr",
     "output_type": "stream",
     "text": [
      "Correlation computed with\n",
      "\u001b[36m•\u001b[39m Method: 'pearson'\n",
      "\u001b[36m•\u001b[39m Missing treated using: 'pairwise.complete.obs'\n"
     ]
    },
    {
     "data": {
      "text/html": [
       "<style>\n",
       ".list-inline {list-style: none; margin:0; padding: 0}\n",
       ".list-inline>li {display: inline-block}\n",
       ".list-inline>li:not(:last-child)::after {content: \"\\00b7\"; padding: 0 .5ex}\n",
       "</style>\n",
       "<ol class=list-inline><li>'Exonic_Rate'</li><li>'Low_Quality_Reads'</li><li>'gene_Assigned'</li><li>'Ambiguous_Reads'</li><li>'Intronic_Reads'</li><li>'NonGlobin_Reads'</li><li>'Intronic_Rate'</li><li>'End_2_Sense_Rate'</li><li>'numReads'</li><li>'Mapped_Unique_Reads'</li><li>'MedianAvgTxCov'</li></ol>\n"
      ],
      "text/latex": [
       "\\begin{enumerate*}\n",
       "\\item 'Exonic\\_Rate'\n",
       "\\item 'Low\\_Quality\\_Reads'\n",
       "\\item 'gene\\_Assigned'\n",
       "\\item 'Ambiguous\\_Reads'\n",
       "\\item 'Intronic\\_Reads'\n",
       "\\item 'NonGlobin\\_Reads'\n",
       "\\item 'Intronic\\_Rate'\n",
       "\\item 'End\\_2\\_Sense\\_Rate'\n",
       "\\item 'numReads'\n",
       "\\item 'Mapped\\_Unique\\_Reads'\n",
       "\\item 'MedianAvgTxCov'\n",
       "\\end{enumerate*}\n"
      ],
      "text/markdown": [
       "1. 'Exonic_Rate'\n",
       "2. 'Low_Quality_Reads'\n",
       "3. 'gene_Assigned'\n",
       "4. 'Ambiguous_Reads'\n",
       "5. 'Intronic_Reads'\n",
       "6. 'NonGlobin_Reads'\n",
       "7. 'Intronic_Rate'\n",
       "8. 'End_2_Sense_Rate'\n",
       "9. 'numReads'\n",
       "10. 'Mapped_Unique_Reads'\n",
       "11. 'MedianAvgTxCov'\n",
       "\n",
       "\n"
      ],
      "text/plain": [
       " [1] \"Exonic_Rate\"         \"Low_Quality_Reads\"   \"gene_Assigned\"      \n",
       " [4] \"Ambiguous_Reads\"     \"Intronic_Reads\"      \"NonGlobin_Reads\"    \n",
       " [7] \"Intronic_Rate\"       \"End_2_Sense_Rate\"    \"numReads\"           \n",
       "[10] \"Mapped_Unique_Reads\" \"MedianAvgTxCov\"     "
      ]
     },
     "metadata": {},
     "output_type": "display_data"
    },
    {
     "name": "stderr",
     "output_type": "stream",
     "text": [
      "Correlation computed with\n",
      "\u001b[36m•\u001b[39m Method: 'pearson'\n",
      "\u001b[36m•\u001b[39m Missing treated using: 'pairwise.complete.obs'\n"
     ]
    },
    {
     "data": {
      "text/html": [
       "<style>\n",
       ".list-inline {list-style: none; margin:0; padding: 0}\n",
       ".list-inline>li {display: inline-block}\n",
       ".list-inline>li:not(:last-child)::after {content: \"\\00b7\"; padding: 0 .5ex}\n",
       "</style>\n",
       "<ol class=list-inline><li>'Exonic_Rate'</li><li>'gene_Assigned'</li><li>'Intronic_Rate'</li><li>'mitoRate'</li><li>'End_2_Sense_Rate'</li><li>'Low_Quality_Reads'</li><li>'Mapped_Unique_Reads'</li><li>'NonGlobin_Reads'</li><li>'Intronic_Reads'</li></ol>\n"
      ],
      "text/latex": [
       "\\begin{enumerate*}\n",
       "\\item 'Exonic\\_Rate'\n",
       "\\item 'gene\\_Assigned'\n",
       "\\item 'Intronic\\_Rate'\n",
       "\\item 'mitoRate'\n",
       "\\item 'End\\_2\\_Sense\\_Rate'\n",
       "\\item 'Low\\_Quality\\_Reads'\n",
       "\\item 'Mapped\\_Unique\\_Reads'\n",
       "\\item 'NonGlobin\\_Reads'\n",
       "\\item 'Intronic\\_Reads'\n",
       "\\end{enumerate*}\n"
      ],
      "text/markdown": [
       "1. 'Exonic_Rate'\n",
       "2. 'gene_Assigned'\n",
       "3. 'Intronic_Rate'\n",
       "4. 'mitoRate'\n",
       "5. 'End_2_Sense_Rate'\n",
       "6. 'Low_Quality_Reads'\n",
       "7. 'Mapped_Unique_Reads'\n",
       "8. 'NonGlobin_Reads'\n",
       "9. 'Intronic_Reads'\n",
       "\n",
       "\n"
      ],
      "text/plain": [
       "[1] \"Exonic_Rate\"         \"gene_Assigned\"       \"Intronic_Rate\"      \n",
       "[4] \"mitoRate\"            \"End_2_Sense_Rate\"    \"Low_Quality_Reads\"  \n",
       "[7] \"Mapped_Unique_Reads\" \"NonGlobin_Reads\"     \"Intronic_Reads\"     "
      ]
     },
     "metadata": {},
     "output_type": "display_data"
    }
   ],
   "source": [
    "check_corr(caudate)\n",
    "check_corr(dlpfc)\n",
    "check_corr(hippo)"
   ]
  },
  {
   "cell_type": "code",
   "execution_count": 6,
   "id": "07c40a1f-d989-4368-a77b-00aebb4e6eeb",
   "metadata": {
    "execution": {
     "iopub.execute_input": "2023-02-13T23:44:59.953197Z",
     "iopub.status.busy": "2023-02-13T23:44:59.952504Z",
     "iopub.status.idle": "2023-02-13T23:45:00.680334Z",
     "shell.execute_reply": "2023-02-13T23:45:00.679301Z"
    }
   },
   "outputs": [
    {
     "name": "stderr",
     "output_type": "stream",
     "text": [
      "Correlation computed with\n",
      "\u001b[36m•\u001b[39m Method: 'pearson'\n",
      "\u001b[36m•\u001b[39m Missing treated using: 'pairwise.complete.obs'\n",
      "Correlation computed with\n",
      "\u001b[36m•\u001b[39m Method: 'pearson'\n",
      "\u001b[36m•\u001b[39m Missing treated using: 'pairwise.complete.obs'\n",
      "Correlation computed with\n",
      "\u001b[36m•\u001b[39m Method: 'pearson'\n",
      "\u001b[36m•\u001b[39m Missing treated using: 'pairwise.complete.obs'\n",
      "Correlation computed with\n",
      "\u001b[36m•\u001b[39m Method: 'pearson'\n",
      "\u001b[36m•\u001b[39m Missing treated using: 'pairwise.complete.obs'\n",
      "Correlation computed with\n",
      "\u001b[36m•\u001b[39m Method: 'pearson'\n",
      "\u001b[36m•\u001b[39m Missing treated using: 'pairwise.complete.obs'\n",
      "Correlation computed with\n",
      "\u001b[36m•\u001b[39m Method: 'pearson'\n",
      "\u001b[36m•\u001b[39m Missing treated using: 'pairwise.complete.obs'\n"
     ]
    }
   ],
   "source": [
    "caudate <- remove_variables(caudate)\n",
    "dlpfc   <- remove_variables(dlpfc)\n",
    "hippo   <- remove_variables(hippo)"
   ]
  },
  {
   "cell_type": "code",
   "execution_count": 7,
   "id": "d2c390e7-7769-47d5-b0c6-4ea7ef7829b9",
   "metadata": {
    "execution": {
     "iopub.execute_input": "2023-02-13T23:45:00.683507Z",
     "iopub.status.busy": "2023-02-13T23:45:00.682823Z",
     "iopub.status.idle": "2023-02-13T23:45:00.694458Z",
     "shell.execute_reply": "2023-02-13T23:45:00.693620Z"
    }
   },
   "outputs": [
    {
     "data": {
      "text/html": [
       "<style>\n",
       ".list-inline {list-style: none; margin:0; padding: 0}\n",
       ".list-inline>li {display: inline-block}\n",
       ".list-inline>li:not(:last-child)::after {content: \"\\00b7\"; padding: 0 .5ex}\n",
       "</style>\n",
       "<ol class=list-inline><li>418</li><li>51</li></ol>\n"
      ],
      "text/latex": [
       "\\begin{enumerate*}\n",
       "\\item 418\n",
       "\\item 51\n",
       "\\end{enumerate*}\n"
      ],
      "text/markdown": [
       "1. 418\n",
       "2. 51\n",
       "\n",
       "\n"
      ],
      "text/plain": [
       "[1] 418  51"
      ]
     },
     "metadata": {},
     "output_type": "display_data"
    },
    {
     "data": {
      "text/html": [
       "<style>\n",
       ".list-inline {list-style: none; margin:0; padding: 0}\n",
       ".list-inline>li {display: inline-block}\n",
       ".list-inline>li:not(:last-child)::after {content: \"\\00b7\"; padding: 0 .5ex}\n",
       "</style>\n",
       "<ol class=list-inline><li>388</li><li>46</li></ol>\n"
      ],
      "text/latex": [
       "\\begin{enumerate*}\n",
       "\\item 388\n",
       "\\item 46\n",
       "\\end{enumerate*}\n"
      ],
      "text/markdown": [
       "1. 388\n",
       "2. 46\n",
       "\n",
       "\n"
      ],
      "text/plain": [
       "[1] 388  46"
      ]
     },
     "metadata": {},
     "output_type": "display_data"
    },
    {
     "data": {
      "text/html": [
       "<style>\n",
       ".list-inline {list-style: none; margin:0; padding: 0}\n",
       ".list-inline>li {display: inline-block}\n",
       ".list-inline>li:not(:last-child)::after {content: \"\\00b7\"; padding: 0 .5ex}\n",
       "</style>\n",
       "<ol class=list-inline><li>408</li><li>48</li></ol>\n"
      ],
      "text/latex": [
       "\\begin{enumerate*}\n",
       "\\item 408\n",
       "\\item 48\n",
       "\\end{enumerate*}\n"
      ],
      "text/markdown": [
       "1. 408\n",
       "2. 48\n",
       "\n",
       "\n"
      ],
      "text/plain": [
       "[1] 408  48"
      ]
     },
     "metadata": {},
     "output_type": "display_data"
    }
   ],
   "source": [
    "caudate |> dim()\n",
    "dlpfc |> dim()\n",
    "hippo |> dim()"
   ]
  },
  {
   "cell_type": "markdown",
   "id": "16fc6fab-1069-402d-901e-f3e6c12a016b",
   "metadata": {},
   "source": [
    "### Commone variables"
   ]
  },
  {
   "cell_type": "code",
   "execution_count": 8,
   "id": "e6bf321c-6260-4bb2-a066-14cba91bbe76",
   "metadata": {
    "execution": {
     "iopub.execute_input": "2023-02-13T23:45:00.697553Z",
     "iopub.status.busy": "2023-02-13T23:45:00.696876Z",
     "iopub.status.idle": "2023-02-13T23:45:00.705441Z",
     "shell.execute_reply": "2023-02-13T23:45:00.704631Z"
    }
   },
   "outputs": [
    {
     "data": {
      "text/html": [
       "<style>\n",
       ".list-inline {list-style: none; margin:0; padding: 0}\n",
       ".list-inline>li {display: inline-block}\n",
       ".list-inline>li:not(:last-child)::after {content: \"\\00b7\"; padding: 0 .5ex}\n",
       "</style>\n",
       "<ol class=list-inline><li>'SAMPLE_ID'</li><li>'RNum'</li><li>'Region'</li><li>'Dataset'</li><li>'Protocol'</li><li>'RIN'</li><li>'BrNum'</li><li>'Dx'</li><li>'Race'</li><li>'Sex'</li><li>'Age'</li><li>'PMI'</li><li>'MoD'</li><li>'Mapping_Rate'</li><li>'Base_Mismatch'</li><li>'ExprProfEff'</li><li>'Intergenic_Rate'</li><li>'totalAssignedGene'</li><li>'Ambiguous_Alignment_Rate'</li><li>'rRNA_rate'</li><li>'End_1_Sense_Rate'</li><li>'Chimeric_Alignment_Rate'</li><li>'Low_Mapping_Quality'</li><li>'Genes_Detected'</li><li>'Mean3Bias'</li><li>'totalMapped'</li><li>'Intergenic_Reads'</li><li>'Read_Length'</li><li>'Mito_mapped'</li><li>'globinRate'</li><li>'IID'</li><li>'SOL'</li><li>'snpPC1'</li><li>'snpPC2'</li><li>'snpPC3'</li><li>'snpPC4'</li><li>'snpPC5'</li><li>'snpPC6'</li><li>'snpPC7'</li><li>'snpPC8'</li><li>'snpPC9'</li><li>'snpPC10'</li><li>'New_Dx'</li><li>'antipsychotics'</li><li>'lifetime_antipsych'</li></ol>\n"
      ],
      "text/latex": [
       "\\begin{enumerate*}\n",
       "\\item 'SAMPLE\\_ID'\n",
       "\\item 'RNum'\n",
       "\\item 'Region'\n",
       "\\item 'Dataset'\n",
       "\\item 'Protocol'\n",
       "\\item 'RIN'\n",
       "\\item 'BrNum'\n",
       "\\item 'Dx'\n",
       "\\item 'Race'\n",
       "\\item 'Sex'\n",
       "\\item 'Age'\n",
       "\\item 'PMI'\n",
       "\\item 'MoD'\n",
       "\\item 'Mapping\\_Rate'\n",
       "\\item 'Base\\_Mismatch'\n",
       "\\item 'ExprProfEff'\n",
       "\\item 'Intergenic\\_Rate'\n",
       "\\item 'totalAssignedGene'\n",
       "\\item 'Ambiguous\\_Alignment\\_Rate'\n",
       "\\item 'rRNA\\_rate'\n",
       "\\item 'End\\_1\\_Sense\\_Rate'\n",
       "\\item 'Chimeric\\_Alignment\\_Rate'\n",
       "\\item 'Low\\_Mapping\\_Quality'\n",
       "\\item 'Genes\\_Detected'\n",
       "\\item 'Mean3Bias'\n",
       "\\item 'totalMapped'\n",
       "\\item 'Intergenic\\_Reads'\n",
       "\\item 'Read\\_Length'\n",
       "\\item 'Mito\\_mapped'\n",
       "\\item 'globinRate'\n",
       "\\item 'IID'\n",
       "\\item 'SOL'\n",
       "\\item 'snpPC1'\n",
       "\\item 'snpPC2'\n",
       "\\item 'snpPC3'\n",
       "\\item 'snpPC4'\n",
       "\\item 'snpPC5'\n",
       "\\item 'snpPC6'\n",
       "\\item 'snpPC7'\n",
       "\\item 'snpPC8'\n",
       "\\item 'snpPC9'\n",
       "\\item 'snpPC10'\n",
       "\\item 'New\\_Dx'\n",
       "\\item 'antipsychotics'\n",
       "\\item 'lifetime\\_antipsych'\n",
       "\\end{enumerate*}\n"
      ],
      "text/markdown": [
       "1. 'SAMPLE_ID'\n",
       "2. 'RNum'\n",
       "3. 'Region'\n",
       "4. 'Dataset'\n",
       "5. 'Protocol'\n",
       "6. 'RIN'\n",
       "7. 'BrNum'\n",
       "8. 'Dx'\n",
       "9. 'Race'\n",
       "10. 'Sex'\n",
       "11. 'Age'\n",
       "12. 'PMI'\n",
       "13. 'MoD'\n",
       "14. 'Mapping_Rate'\n",
       "15. 'Base_Mismatch'\n",
       "16. 'ExprProfEff'\n",
       "17. 'Intergenic_Rate'\n",
       "18. 'totalAssignedGene'\n",
       "19. 'Ambiguous_Alignment_Rate'\n",
       "20. 'rRNA_rate'\n",
       "21. 'End_1_Sense_Rate'\n",
       "22. 'Chimeric_Alignment_Rate'\n",
       "23. 'Low_Mapping_Quality'\n",
       "24. 'Genes_Detected'\n",
       "25. 'Mean3Bias'\n",
       "26. 'totalMapped'\n",
       "27. 'Intergenic_Reads'\n",
       "28. 'Read_Length'\n",
       "29. 'Mito_mapped'\n",
       "30. 'globinRate'\n",
       "31. 'IID'\n",
       "32. 'SOL'\n",
       "33. 'snpPC1'\n",
       "34. 'snpPC2'\n",
       "35. 'snpPC3'\n",
       "36. 'snpPC4'\n",
       "37. 'snpPC5'\n",
       "38. 'snpPC6'\n",
       "39. 'snpPC7'\n",
       "40. 'snpPC8'\n",
       "41. 'snpPC9'\n",
       "42. 'snpPC10'\n",
       "43. 'New_Dx'\n",
       "44. 'antipsychotics'\n",
       "45. 'lifetime_antipsych'\n",
       "\n",
       "\n"
      ],
      "text/plain": [
       " [1] \"SAMPLE_ID\"                \"RNum\"                    \n",
       " [3] \"Region\"                   \"Dataset\"                 \n",
       " [5] \"Protocol\"                 \"RIN\"                     \n",
       " [7] \"BrNum\"                    \"Dx\"                      \n",
       " [9] \"Race\"                     \"Sex\"                     \n",
       "[11] \"Age\"                      \"PMI\"                     \n",
       "[13] \"MoD\"                      \"Mapping_Rate\"            \n",
       "[15] \"Base_Mismatch\"            \"ExprProfEff\"             \n",
       "[17] \"Intergenic_Rate\"          \"totalAssignedGene\"       \n",
       "[19] \"Ambiguous_Alignment_Rate\" \"rRNA_rate\"               \n",
       "[21] \"End_1_Sense_Rate\"         \"Chimeric_Alignment_Rate\" \n",
       "[23] \"Low_Mapping_Quality\"      \"Genes_Detected\"          \n",
       "[25] \"Mean3Bias\"                \"totalMapped\"             \n",
       "[27] \"Intergenic_Reads\"         \"Read_Length\"             \n",
       "[29] \"Mito_mapped\"              \"globinRate\"              \n",
       "[31] \"IID\"                      \"SOL\"                     \n",
       "[33] \"snpPC1\"                   \"snpPC2\"                  \n",
       "[35] \"snpPC3\"                   \"snpPC4\"                  \n",
       "[37] \"snpPC5\"                   \"snpPC6\"                  \n",
       "[39] \"snpPC7\"                   \"snpPC8\"                  \n",
       "[41] \"snpPC9\"                   \"snpPC10\"                 \n",
       "[43] \"New_Dx\"                   \"antipsychotics\"          \n",
       "[45] \"lifetime_antipsych\"      "
      ]
     },
     "metadata": {},
     "output_type": "display_data"
    }
   ],
   "source": [
    "vars <- intersect(colnames(caudate),intersect(colnames(dlpfc), colnames(hippo)))\n",
    "vars"
   ]
  },
  {
   "cell_type": "code",
   "execution_count": 9,
   "id": "71a7acc0-6391-43d0-a873-0dba37e76423",
   "metadata": {
    "execution": {
     "iopub.execute_input": "2023-02-13T23:45:00.709468Z",
     "iopub.status.busy": "2023-02-13T23:45:00.708794Z",
     "iopub.status.idle": "2023-02-13T23:45:00.715761Z",
     "shell.execute_reply": "2023-02-13T23:45:00.714952Z"
    }
   },
   "outputs": [
    {
     "data": {
      "text/html": [
       "45"
      ],
      "text/latex": [
       "45"
      ],
      "text/markdown": [
       "45"
      ],
      "text/plain": [
       "[1] 45"
      ]
     },
     "metadata": {},
     "output_type": "display_data"
    }
   ],
   "source": [
    "length(vars)"
   ]
  },
  {
   "cell_type": "code",
   "execution_count": 10,
   "id": "bb5ca25c-965b-40a3-8fe0-8be41041db59",
   "metadata": {
    "execution": {
     "iopub.execute_input": "2023-02-13T23:45:00.718835Z",
     "iopub.status.busy": "2023-02-13T23:45:00.718070Z",
     "iopub.status.idle": "2023-02-13T23:45:00.815200Z",
     "shell.execute_reply": "2023-02-13T23:45:00.814300Z"
    }
   },
   "outputs": [],
   "source": [
    "data.frame(\"Variables\"=vars) |>\n",
    "    data.table::fwrite(\"shared_variables.tsv\", sep='\\t')"
   ]
  },
  {
   "cell_type": "markdown",
   "id": "586c9d31-48ad-4837-ba56-d403aeb62c46",
   "metadata": {},
   "source": [
    "## Reproducibility"
   ]
  },
  {
   "cell_type": "code",
   "execution_count": 11,
   "id": "da0ac739-e665-4397-a4bc-222397919016",
   "metadata": {
    "execution": {
     "iopub.execute_input": "2023-02-13T23:45:00.818548Z",
     "iopub.status.busy": "2023-02-13T23:45:00.817889Z",
     "iopub.status.idle": "2023-02-13T23:45:01.462089Z",
     "shell.execute_reply": "2023-02-13T23:45:01.461148Z"
    }
   },
   "outputs": [
    {
     "data": {
      "text/plain": [
       "[1] \"2023-02-13 18:45:00 EST\""
      ]
     },
     "metadata": {},
     "output_type": "display_data"
    },
    {
     "data": {
      "text/plain": [
       "   user  system elapsed \n",
       "  5.183   0.195   7.075 "
      ]
     },
     "metadata": {},
     "output_type": "display_data"
    },
    {
     "data": {
      "text/html": [
       "<dl>\n",
       "\t<dt>$version</dt>\n",
       "\t\t<dd>'R version 4.2.2 (2022-10-31)'</dd>\n",
       "\t<dt>$os</dt>\n",
       "\t\t<dd>'Arch Linux'</dd>\n",
       "\t<dt>$system</dt>\n",
       "\t\t<dd>'x86_64, linux-gnu'</dd>\n",
       "\t<dt>$ui</dt>\n",
       "\t\t<dd>'X11'</dd>\n",
       "\t<dt>$language</dt>\n",
       "\t\t<dd>'(EN)'</dd>\n",
       "\t<dt>$collate</dt>\n",
       "\t\t<dd>'en_US.UTF-8'</dd>\n",
       "\t<dt>$ctype</dt>\n",
       "\t\t<dd>'en_US.UTF-8'</dd>\n",
       "\t<dt>$tz</dt>\n",
       "\t\t<dd>'America/New_York'</dd>\n",
       "\t<dt>$date</dt>\n",
       "\t\t<dd>'2023-02-13'</dd>\n",
       "\t<dt>$pandoc</dt>\n",
       "\t\t<dd>'3.0.1 @ /usr/bin/pandoc'</dd>\n",
       "</dl>\n"
      ],
      "text/latex": [
       "\\begin{description}\n",
       "\\item[\\$version] 'R version 4.2.2 (2022-10-31)'\n",
       "\\item[\\$os] 'Arch Linux'\n",
       "\\item[\\$system] 'x86\\_64, linux-gnu'\n",
       "\\item[\\$ui] 'X11'\n",
       "\\item[\\$language] '(EN)'\n",
       "\\item[\\$collate] 'en\\_US.UTF-8'\n",
       "\\item[\\$ctype] 'en\\_US.UTF-8'\n",
       "\\item[\\$tz] 'America/New\\_York'\n",
       "\\item[\\$date] '2023-02-13'\n",
       "\\item[\\$pandoc] '3.0.1 @ /usr/bin/pandoc'\n",
       "\\end{description}\n"
      ],
      "text/markdown": [
       "$version\n",
       ":   'R version 4.2.2 (2022-10-31)'\n",
       "$os\n",
       ":   'Arch Linux'\n",
       "$system\n",
       ":   'x86_64, linux-gnu'\n",
       "$ui\n",
       ":   'X11'\n",
       "$language\n",
       ":   '(EN)'\n",
       "$collate\n",
       ":   'en_US.UTF-8'\n",
       "$ctype\n",
       ":   'en_US.UTF-8'\n",
       "$tz\n",
       ":   'America/New_York'\n",
       "$date\n",
       ":   '2023-02-13'\n",
       "$pandoc\n",
       ":   '3.0.1 @ /usr/bin/pandoc'\n",
       "\n",
       "\n"
      ],
      "text/plain": [
       " \u001b[3m\u001b[90msetting \u001b[39m\u001b[23m \u001b[3m\u001b[90mvalue\u001b[39m\u001b[23m\n",
       " version  R version 4.2.2 (2022-10-31)\n",
       " os       Arch Linux\n",
       " system   x86_64, linux-gnu\n",
       " ui       X11\n",
       " language (EN)\n",
       " collate  en_US.UTF-8\n",
       " ctype    en_US.UTF-8\n",
       " tz       America/New_York\n",
       " date     2023-02-13\n",
       " pandoc   3.0.1 @ /usr/bin/pandoc"
      ]
     },
     "metadata": {},
     "output_type": "display_data"
    },
    {
     "data": {
      "text/html": [
       "<table class=\"dataframe\">\n",
       "<caption>A packages_info: 57 × 11</caption>\n",
       "<thead>\n",
       "\t<tr><th></th><th scope=col>package</th><th scope=col>ondiskversion</th><th scope=col>loadedversion</th><th scope=col>path</th><th scope=col>loadedpath</th><th scope=col>attached</th><th scope=col>is_base</th><th scope=col>date</th><th scope=col>source</th><th scope=col>md5ok</th><th scope=col>library</th></tr>\n",
       "\t<tr><th></th><th scope=col>&lt;chr&gt;</th><th scope=col>&lt;chr&gt;</th><th scope=col>&lt;chr&gt;</th><th scope=col>&lt;chr&gt;</th><th scope=col>&lt;chr&gt;</th><th scope=col>&lt;lgl&gt;</th><th scope=col>&lt;lgl&gt;</th><th scope=col>&lt;chr&gt;</th><th scope=col>&lt;chr&gt;</th><th scope=col>&lt;lgl&gt;</th><th scope=col>&lt;fct&gt;</th></tr>\n",
       "</thead>\n",
       "<tbody>\n",
       "\t<tr><th scope=row>base64enc</th><td>base64enc           </td><td>0.1.3    </td><td>0.1-3    </td><td>/home/kynon/R/x86_64-pc-linux-gnu-library/4.2/base64enc           </td><td>/home/kynon/R/x86_64-pc-linux-gnu-library/4.2/base64enc           </td><td>FALSE</td><td>FALSE</td><td>2015-07-28</td><td>CRAN (R 4.2.1)</td><td>NA</td><td>/home/kynon/R/x86_64-pc-linux-gnu-library/4.2</td></tr>\n",
       "\t<tr><th scope=row>Biobase</th><td>Biobase             </td><td>2.58.0   </td><td>2.58.0   </td><td>/home/kynon/R/x86_64-pc-linux-gnu-library/4.2/Biobase             </td><td>/home/kynon/R/x86_64-pc-linux-gnu-library/4.2/Biobase             </td><td> TRUE</td><td>FALSE</td><td>2022-11-01</td><td>Bioconductor  </td><td>NA</td><td>/home/kynon/R/x86_64-pc-linux-gnu-library/4.2</td></tr>\n",
       "\t<tr><th scope=row>BiocGenerics</th><td>BiocGenerics        </td><td>0.44.0   </td><td>0.44.0   </td><td>/home/kynon/R/x86_64-pc-linux-gnu-library/4.2/BiocGenerics        </td><td>/home/kynon/R/x86_64-pc-linux-gnu-library/4.2/BiocGenerics        </td><td> TRUE</td><td>FALSE</td><td>2022-11-01</td><td>Bioconductor  </td><td>NA</td><td>/home/kynon/R/x86_64-pc-linux-gnu-library/4.2</td></tr>\n",
       "\t<tr><th scope=row>bitops</th><td>bitops              </td><td>1.0.7    </td><td>1.0-7    </td><td>/home/kynon/R/x86_64-pc-linux-gnu-library/4.2/bitops              </td><td>/home/kynon/R/x86_64-pc-linux-gnu-library/4.2/bitops              </td><td>FALSE</td><td>FALSE</td><td>2021-04-24</td><td>CRAN (R 4.2.2)</td><td>NA</td><td>/home/kynon/R/x86_64-pc-linux-gnu-library/4.2</td></tr>\n",
       "\t<tr><th scope=row>cli</th><td>cli                 </td><td>3.6.0    </td><td>3.6.0    </td><td>/home/kynon/R/x86_64-pc-linux-gnu-library/4.2/cli                 </td><td>/home/kynon/R/x86_64-pc-linux-gnu-library/4.2/cli                 </td><td>FALSE</td><td>FALSE</td><td>2023-01-09</td><td>CRAN (R 4.2.2)</td><td>NA</td><td>/home/kynon/R/x86_64-pc-linux-gnu-library/4.2</td></tr>\n",
       "\t<tr><th scope=row>colorspace</th><td>colorspace          </td><td>2.1.0    </td><td>2.1-0    </td><td>/home/kynon/R/x86_64-pc-linux-gnu-library/4.2/colorspace          </td><td>/home/kynon/R/x86_64-pc-linux-gnu-library/4.2/colorspace          </td><td>FALSE</td><td>FALSE</td><td>2023-01-23</td><td>CRAN (R 4.2.2)</td><td>NA</td><td>/home/kynon/R/x86_64-pc-linux-gnu-library/4.2</td></tr>\n",
       "\t<tr><th scope=row>corrr</th><td>corrr               </td><td>0.4.4    </td><td>0.4.4    </td><td>/home/kynon/R/x86_64-pc-linux-gnu-library/4.2/corrr               </td><td>/home/kynon/R/x86_64-pc-linux-gnu-library/4.2/corrr               </td><td>FALSE</td><td>FALSE</td><td>2022-08-16</td><td>CRAN (R 4.2.2)</td><td>NA</td><td>/home/kynon/R/x86_64-pc-linux-gnu-library/4.2</td></tr>\n",
       "\t<tr><th scope=row>crayon</th><td>crayon              </td><td>1.5.2    </td><td>1.5.2    </td><td>/home/kynon/R/x86_64-pc-linux-gnu-library/4.2/crayon              </td><td>/home/kynon/R/x86_64-pc-linux-gnu-library/4.2/crayon              </td><td>FALSE</td><td>FALSE</td><td>2022-09-29</td><td>CRAN (R 4.2.2)</td><td>NA</td><td>/home/kynon/R/x86_64-pc-linux-gnu-library/4.2</td></tr>\n",
       "\t<tr><th scope=row>data.table</th><td>data.table          </td><td>1.14.6   </td><td>1.14.6   </td><td>/home/kynon/R/x86_64-pc-linux-gnu-library/4.2/data.table          </td><td>/home/kynon/R/x86_64-pc-linux-gnu-library/4.2/data.table          </td><td>FALSE</td><td>FALSE</td><td>2022-11-16</td><td>CRAN (R 4.2.2)</td><td>NA</td><td>/home/kynon/R/x86_64-pc-linux-gnu-library/4.2</td></tr>\n",
       "\t<tr><th scope=row>DelayedArray</th><td>DelayedArray        </td><td>0.24.0   </td><td>0.24.0   </td><td>/home/kynon/R/x86_64-pc-linux-gnu-library/4.2/DelayedArray        </td><td>/home/kynon/R/x86_64-pc-linux-gnu-library/4.2/DelayedArray        </td><td>FALSE</td><td>FALSE</td><td>2022-11-01</td><td>Bioconductor  </td><td>NA</td><td>/home/kynon/R/x86_64-pc-linux-gnu-library/4.2</td></tr>\n",
       "\t<tr><th scope=row>digest</th><td>digest              </td><td>0.6.31   </td><td>0.6.31   </td><td>/home/kynon/R/x86_64-pc-linux-gnu-library/4.2/digest              </td><td>/home/kynon/R/x86_64-pc-linux-gnu-library/4.2/digest              </td><td>FALSE</td><td>FALSE</td><td>2022-12-11</td><td>CRAN (R 4.2.2)</td><td>NA</td><td>/home/kynon/R/x86_64-pc-linux-gnu-library/4.2</td></tr>\n",
       "\t<tr><th scope=row>dplyr</th><td>dplyr               </td><td>1.1.0    </td><td>1.1.0    </td><td>/home/kynon/R/x86_64-pc-linux-gnu-library/4.2/dplyr               </td><td>/home/kynon/R/x86_64-pc-linux-gnu-library/4.2/dplyr               </td><td> TRUE</td><td>FALSE</td><td>2023-01-29</td><td>CRAN (R 4.2.2)</td><td>NA</td><td>/home/kynon/R/x86_64-pc-linux-gnu-library/4.2</td></tr>\n",
       "\t<tr><th scope=row>evaluate</th><td>evaluate            </td><td>0.20     </td><td>0.20     </td><td>/home/kynon/R/x86_64-pc-linux-gnu-library/4.2/evaluate            </td><td>/home/kynon/R/x86_64-pc-linux-gnu-library/4.2/evaluate            </td><td>FALSE</td><td>FALSE</td><td>2023-01-17</td><td>CRAN (R 4.2.2)</td><td>NA</td><td>/home/kynon/R/x86_64-pc-linux-gnu-library/4.2</td></tr>\n",
       "\t<tr><th scope=row>fansi</th><td>fansi               </td><td>1.0.4    </td><td>1.0.4    </td><td>/home/kynon/R/x86_64-pc-linux-gnu-library/4.2/fansi               </td><td>/home/kynon/R/x86_64-pc-linux-gnu-library/4.2/fansi               </td><td>FALSE</td><td>FALSE</td><td>2023-01-22</td><td>CRAN (R 4.2.2)</td><td>NA</td><td>/home/kynon/R/x86_64-pc-linux-gnu-library/4.2</td></tr>\n",
       "\t<tr><th scope=row>fastmap</th><td>fastmap             </td><td>1.1.0    </td><td>1.1.0    </td><td>/home/kynon/R/x86_64-pc-linux-gnu-library/4.2/fastmap             </td><td>/home/kynon/R/x86_64-pc-linux-gnu-library/4.2/fastmap             </td><td>FALSE</td><td>FALSE</td><td>2021-01-25</td><td>CRAN (R 4.2.1)</td><td>NA</td><td>/home/kynon/R/x86_64-pc-linux-gnu-library/4.2</td></tr>\n",
       "\t<tr><th scope=row>generics</th><td>generics            </td><td>0.1.3    </td><td>0.1.3    </td><td>/home/kynon/R/x86_64-pc-linux-gnu-library/4.2/generics            </td><td>/home/kynon/R/x86_64-pc-linux-gnu-library/4.2/generics            </td><td>FALSE</td><td>FALSE</td><td>2022-07-05</td><td>CRAN (R 4.2.1)</td><td>NA</td><td>/home/kynon/R/x86_64-pc-linux-gnu-library/4.2</td></tr>\n",
       "\t<tr><th scope=row>GenomeInfoDb</th><td>GenomeInfoDb        </td><td>1.34.9   </td><td>1.34.9   </td><td>/home/kynon/R/x86_64-pc-linux-gnu-library/4.2/GenomeInfoDb        </td><td>/home/kynon/R/x86_64-pc-linux-gnu-library/4.2/GenomeInfoDb        </td><td> TRUE</td><td>FALSE</td><td>2023-02-02</td><td>Bioconductor  </td><td>NA</td><td>/home/kynon/R/x86_64-pc-linux-gnu-library/4.2</td></tr>\n",
       "\t<tr><th scope=row>GenomeInfoDbData</th><td>GenomeInfoDbData    </td><td>1.2.9    </td><td>1.2.9    </td><td>/home/kynon/R/x86_64-pc-linux-gnu-library/4.2/GenomeInfoDbData    </td><td>/home/kynon/R/x86_64-pc-linux-gnu-library/4.2/GenomeInfoDbData    </td><td>FALSE</td><td>FALSE</td><td>2023-02-13</td><td>Bioconductor  </td><td>NA</td><td>/home/kynon/R/x86_64-pc-linux-gnu-library/4.2</td></tr>\n",
       "\t<tr><th scope=row>GenomicRanges</th><td>GenomicRanges       </td><td>1.50.2   </td><td>1.50.2   </td><td>/home/kynon/R/x86_64-pc-linux-gnu-library/4.2/GenomicRanges       </td><td>/home/kynon/R/x86_64-pc-linux-gnu-library/4.2/GenomicRanges       </td><td> TRUE</td><td>FALSE</td><td>2022-12-16</td><td>Bioconductor  </td><td>NA</td><td>/home/kynon/R/x86_64-pc-linux-gnu-library/4.2</td></tr>\n",
       "\t<tr><th scope=row>ggplot2</th><td>ggplot2             </td><td>3.4.1    </td><td>3.4.1    </td><td>/home/kynon/R/x86_64-pc-linux-gnu-library/4.2/ggplot2             </td><td>/home/kynon/R/x86_64-pc-linux-gnu-library/4.2/ggplot2             </td><td>FALSE</td><td>FALSE</td><td>2023-02-10</td><td>CRAN (R 4.2.2)</td><td>NA</td><td>/home/kynon/R/x86_64-pc-linux-gnu-library/4.2</td></tr>\n",
       "\t<tr><th scope=row>glue</th><td>glue                </td><td>1.6.2    </td><td>1.6.2    </td><td>/home/kynon/R/x86_64-pc-linux-gnu-library/4.2/glue                </td><td>/home/kynon/R/x86_64-pc-linux-gnu-library/4.2/glue                </td><td>FALSE</td><td>FALSE</td><td>2022-02-24</td><td>CRAN (R 4.2.1)</td><td>NA</td><td>/home/kynon/R/x86_64-pc-linux-gnu-library/4.2</td></tr>\n",
       "\t<tr><th scope=row>gtable</th><td>gtable              </td><td>0.3.1    </td><td>0.3.1    </td><td>/home/kynon/R/x86_64-pc-linux-gnu-library/4.2/gtable              </td><td>/home/kynon/R/x86_64-pc-linux-gnu-library/4.2/gtable              </td><td>FALSE</td><td>FALSE</td><td>2022-09-01</td><td>CRAN (R 4.2.1)</td><td>NA</td><td>/home/kynon/R/x86_64-pc-linux-gnu-library/4.2</td></tr>\n",
       "\t<tr><th scope=row>here</th><td>here                </td><td>1.0.1    </td><td>1.0.1    </td><td>/home/kynon/R/x86_64-pc-linux-gnu-library/4.2/here                </td><td>/home/kynon/R/x86_64-pc-linux-gnu-library/4.2/here                </td><td> TRUE</td><td>FALSE</td><td>2020-12-13</td><td>CRAN (R 4.2.2)</td><td>NA</td><td>/home/kynon/R/x86_64-pc-linux-gnu-library/4.2</td></tr>\n",
       "\t<tr><th scope=row>htmltools</th><td>htmltools           </td><td>0.5.4    </td><td>0.5.4    </td><td>/home/kynon/R/x86_64-pc-linux-gnu-library/4.2/htmltools           </td><td>/home/kynon/R/x86_64-pc-linux-gnu-library/4.2/htmltools           </td><td>FALSE</td><td>FALSE</td><td>2022-12-07</td><td>CRAN (R 4.2.2)</td><td>NA</td><td>/home/kynon/R/x86_64-pc-linux-gnu-library/4.2</td></tr>\n",
       "\t<tr><th scope=row>IRanges</th><td>IRanges             </td><td>2.32.0   </td><td>2.32.0   </td><td>/home/kynon/R/x86_64-pc-linux-gnu-library/4.2/IRanges             </td><td>/home/kynon/R/x86_64-pc-linux-gnu-library/4.2/IRanges             </td><td> TRUE</td><td>FALSE</td><td>2022-11-01</td><td>Bioconductor  </td><td>NA</td><td>/home/kynon/R/x86_64-pc-linux-gnu-library/4.2</td></tr>\n",
       "\t<tr><th scope=row>IRdisplay</th><td>IRdisplay           </td><td>1.1      </td><td>1.1      </td><td>/home/kynon/R/x86_64-pc-linux-gnu-library/4.2/IRdisplay           </td><td>/home/kynon/R/x86_64-pc-linux-gnu-library/4.2/IRdisplay           </td><td>FALSE</td><td>FALSE</td><td>2022-01-04</td><td>CRAN (R 4.2.1)</td><td>NA</td><td>/home/kynon/R/x86_64-pc-linux-gnu-library/4.2</td></tr>\n",
       "\t<tr><th scope=row>IRkernel</th><td>IRkernel            </td><td>1.3.2    </td><td>1.3.2    </td><td>/home/kynon/R/x86_64-pc-linux-gnu-library/4.2/IRkernel            </td><td>/home/kynon/R/x86_64-pc-linux-gnu-library/4.2/IRkernel            </td><td>FALSE</td><td>FALSE</td><td>2023-01-20</td><td>CRAN (R 4.2.2)</td><td>NA</td><td>/home/kynon/R/x86_64-pc-linux-gnu-library/4.2</td></tr>\n",
       "\t<tr><th scope=row>jsonlite</th><td>jsonlite            </td><td>1.8.4    </td><td>1.8.4    </td><td>/home/kynon/R/x86_64-pc-linux-gnu-library/4.2/jsonlite            </td><td>/home/kynon/R/x86_64-pc-linux-gnu-library/4.2/jsonlite            </td><td>FALSE</td><td>FALSE</td><td>2022-12-06</td><td>CRAN (R 4.2.2)</td><td>NA</td><td>/home/kynon/R/x86_64-pc-linux-gnu-library/4.2</td></tr>\n",
       "\t<tr><th scope=row>lattice</th><td>lattice             </td><td>0.20.45  </td><td>0.20-45  </td><td>/usr/lib/R/library/lattice                                        </td><td>/usr/lib/R/library/lattice                                        </td><td>FALSE</td><td>FALSE</td><td>2021-09-22</td><td>CRAN (R 4.2.2)</td><td>NA</td><td>/usr/lib/R/library                           </td></tr>\n",
       "\t<tr><th scope=row>lifecycle</th><td>lifecycle           </td><td>1.0.3    </td><td>1.0.3    </td><td>/home/kynon/R/x86_64-pc-linux-gnu-library/4.2/lifecycle           </td><td>/home/kynon/R/x86_64-pc-linux-gnu-library/4.2/lifecycle           </td><td>FALSE</td><td>FALSE</td><td>2022-10-07</td><td>CRAN (R 4.2.2)</td><td>NA</td><td>/home/kynon/R/x86_64-pc-linux-gnu-library/4.2</td></tr>\n",
       "\t<tr><th scope=row>magrittr</th><td>magrittr            </td><td>2.0.3    </td><td>2.0.3    </td><td>/home/kynon/R/x86_64-pc-linux-gnu-library/4.2/magrittr            </td><td>/home/kynon/R/x86_64-pc-linux-gnu-library/4.2/magrittr            </td><td>FALSE</td><td>FALSE</td><td>2022-03-30</td><td>CRAN (R 4.2.1)</td><td>NA</td><td>/home/kynon/R/x86_64-pc-linux-gnu-library/4.2</td></tr>\n",
       "\t<tr><th scope=row>Matrix</th><td>Matrix              </td><td>1.5.3    </td><td>1.5-3    </td><td>/home/kynon/R/x86_64-pc-linux-gnu-library/4.2/Matrix              </td><td>/home/kynon/R/x86_64-pc-linux-gnu-library/4.2/Matrix              </td><td>FALSE</td><td>FALSE</td><td>2022-11-11</td><td>CRAN (R 4.2.2)</td><td>NA</td><td>/home/kynon/R/x86_64-pc-linux-gnu-library/4.2</td></tr>\n",
       "\t<tr><th scope=row>MatrixGenerics</th><td>MatrixGenerics      </td><td>1.10.0   </td><td>1.10.0   </td><td>/home/kynon/R/x86_64-pc-linux-gnu-library/4.2/MatrixGenerics      </td><td>/home/kynon/R/x86_64-pc-linux-gnu-library/4.2/MatrixGenerics      </td><td> TRUE</td><td>FALSE</td><td>2022-11-01</td><td>Bioconductor  </td><td>NA</td><td>/home/kynon/R/x86_64-pc-linux-gnu-library/4.2</td></tr>\n",
       "\t<tr><th scope=row>matrixStats</th><td>matrixStats         </td><td>0.63.0   </td><td>0.63.0   </td><td>/home/kynon/R/x86_64-pc-linux-gnu-library/4.2/matrixStats         </td><td>/home/kynon/R/x86_64-pc-linux-gnu-library/4.2/matrixStats         </td><td> TRUE</td><td>FALSE</td><td>2022-11-18</td><td>CRAN (R 4.2.2)</td><td>NA</td><td>/home/kynon/R/x86_64-pc-linux-gnu-library/4.2</td></tr>\n",
       "\t<tr><th scope=row>munsell</th><td>munsell             </td><td>0.5.0    </td><td>0.5.0    </td><td>/home/kynon/R/x86_64-pc-linux-gnu-library/4.2/munsell             </td><td>/home/kynon/R/x86_64-pc-linux-gnu-library/4.2/munsell             </td><td>FALSE</td><td>FALSE</td><td>2018-06-12</td><td>CRAN (R 4.2.1)</td><td>NA</td><td>/home/kynon/R/x86_64-pc-linux-gnu-library/4.2</td></tr>\n",
       "\t<tr><th scope=row>pbdZMQ</th><td>pbdZMQ              </td><td>0.3.9    </td><td>0.3-9    </td><td>/home/kynon/R/x86_64-pc-linux-gnu-library/4.2/pbdZMQ              </td><td>/home/kynon/R/x86_64-pc-linux-gnu-library/4.2/pbdZMQ              </td><td>FALSE</td><td>FALSE</td><td>2023-01-21</td><td>CRAN (R 4.2.2)</td><td>NA</td><td>/home/kynon/R/x86_64-pc-linux-gnu-library/4.2</td></tr>\n",
       "\t<tr><th scope=row>pillar</th><td>pillar              </td><td>1.8.1    </td><td>1.8.1    </td><td>/home/kynon/R/x86_64-pc-linux-gnu-library/4.2/pillar              </td><td>/home/kynon/R/x86_64-pc-linux-gnu-library/4.2/pillar              </td><td>FALSE</td><td>FALSE</td><td>2022-08-19</td><td>CRAN (R 4.2.1)</td><td>NA</td><td>/home/kynon/R/x86_64-pc-linux-gnu-library/4.2</td></tr>\n",
       "\t<tr><th scope=row>pkgconfig</th><td>pkgconfig           </td><td>2.0.3    </td><td>2.0.3    </td><td>/home/kynon/R/x86_64-pc-linux-gnu-library/4.2/pkgconfig           </td><td>/home/kynon/R/x86_64-pc-linux-gnu-library/4.2/pkgconfig           </td><td>FALSE</td><td>FALSE</td><td>2019-09-22</td><td>CRAN (R 4.2.1)</td><td>NA</td><td>/home/kynon/R/x86_64-pc-linux-gnu-library/4.2</td></tr>\n",
       "\t<tr><th scope=row>purrr</th><td>purrr               </td><td>1.0.1    </td><td>1.0.1    </td><td>/home/kynon/R/x86_64-pc-linux-gnu-library/4.2/purrr               </td><td>/home/kynon/R/x86_64-pc-linux-gnu-library/4.2/purrr               </td><td>FALSE</td><td>FALSE</td><td>2023-01-10</td><td>CRAN (R 4.2.2)</td><td>NA</td><td>/home/kynon/R/x86_64-pc-linux-gnu-library/4.2</td></tr>\n",
       "\t<tr><th scope=row>R6</th><td>R6                  </td><td>2.5.1    </td><td>2.5.1    </td><td>/home/kynon/R/x86_64-pc-linux-gnu-library/4.2/R6                  </td><td>/home/kynon/R/x86_64-pc-linux-gnu-library/4.2/R6                  </td><td>FALSE</td><td>FALSE</td><td>2021-08-19</td><td>CRAN (R 4.2.1)</td><td>NA</td><td>/home/kynon/R/x86_64-pc-linux-gnu-library/4.2</td></tr>\n",
       "\t<tr><th scope=row>RCurl</th><td>RCurl               </td><td>1.98.1.10</td><td>1.98-1.10</td><td>/home/kynon/R/x86_64-pc-linux-gnu-library/4.2/RCurl               </td><td>/home/kynon/R/x86_64-pc-linux-gnu-library/4.2/RCurl               </td><td>FALSE</td><td>FALSE</td><td>2023-01-27</td><td>CRAN (R 4.2.2)</td><td>NA</td><td>/home/kynon/R/x86_64-pc-linux-gnu-library/4.2</td></tr>\n",
       "\t<tr><th scope=row>repr</th><td>repr                </td><td>1.1.6    </td><td>1.1.6    </td><td>/home/kynon/R/x86_64-pc-linux-gnu-library/4.2/repr                </td><td>/home/kynon/R/x86_64-pc-linux-gnu-library/4.2/repr                </td><td>FALSE</td><td>FALSE</td><td>2023-01-26</td><td>CRAN (R 4.2.2)</td><td>NA</td><td>/home/kynon/R/x86_64-pc-linux-gnu-library/4.2</td></tr>\n",
       "\t<tr><th scope=row>rlang</th><td>rlang               </td><td>1.0.6    </td><td>1.0.6    </td><td>/home/kynon/R/x86_64-pc-linux-gnu-library/4.2/rlang               </td><td>/home/kynon/R/x86_64-pc-linux-gnu-library/4.2/rlang               </td><td>FALSE</td><td>FALSE</td><td>2022-09-24</td><td>CRAN (R 4.2.2)</td><td>NA</td><td>/home/kynon/R/x86_64-pc-linux-gnu-library/4.2</td></tr>\n",
       "\t<tr><th scope=row>rprojroot</th><td>rprojroot           </td><td>2.0.3    </td><td>2.0.3    </td><td>/home/kynon/R/x86_64-pc-linux-gnu-library/4.2/rprojroot           </td><td>/home/kynon/R/x86_64-pc-linux-gnu-library/4.2/rprojroot           </td><td>FALSE</td><td>FALSE</td><td>2022-04-02</td><td>CRAN (R 4.2.1)</td><td>NA</td><td>/home/kynon/R/x86_64-pc-linux-gnu-library/4.2</td></tr>\n",
       "\t<tr><th scope=row>S4Vectors</th><td>S4Vectors           </td><td>0.36.1   </td><td>0.36.1   </td><td>/home/kynon/R/x86_64-pc-linux-gnu-library/4.2/S4Vectors           </td><td>/home/kynon/R/x86_64-pc-linux-gnu-library/4.2/S4Vectors           </td><td> TRUE</td><td>FALSE</td><td>2022-12-05</td><td>Bioconductor  </td><td>NA</td><td>/home/kynon/R/x86_64-pc-linux-gnu-library/4.2</td></tr>\n",
       "\t<tr><th scope=row>scales</th><td>scales              </td><td>1.2.1    </td><td>1.2.1    </td><td>/home/kynon/R/x86_64-pc-linux-gnu-library/4.2/scales              </td><td>/home/kynon/R/x86_64-pc-linux-gnu-library/4.2/scales              </td><td>FALSE</td><td>FALSE</td><td>2022-08-20</td><td>CRAN (R 4.2.1)</td><td>NA</td><td>/home/kynon/R/x86_64-pc-linux-gnu-library/4.2</td></tr>\n",
       "\t<tr><th scope=row>sessioninfo</th><td>sessioninfo         </td><td>1.2.2    </td><td>1.2.2    </td><td>/home/kynon/R/x86_64-pc-linux-gnu-library/4.2/sessioninfo         </td><td>/home/kynon/R/x86_64-pc-linux-gnu-library/4.2/sessioninfo         </td><td>FALSE</td><td>FALSE</td><td>2021-12-06</td><td>CRAN (R 4.2.2)</td><td>NA</td><td>/home/kynon/R/x86_64-pc-linux-gnu-library/4.2</td></tr>\n",
       "\t<tr><th scope=row>SummarizedExperiment</th><td>SummarizedExperiment</td><td>1.28.0   </td><td>1.28.0   </td><td>/home/kynon/R/x86_64-pc-linux-gnu-library/4.2/SummarizedExperiment</td><td>/home/kynon/R/x86_64-pc-linux-gnu-library/4.2/SummarizedExperiment</td><td> TRUE</td><td>FALSE</td><td>2022-11-01</td><td>Bioconductor  </td><td>NA</td><td>/home/kynon/R/x86_64-pc-linux-gnu-library/4.2</td></tr>\n",
       "\t<tr><th scope=row>tibble</th><td>tibble              </td><td>3.1.8    </td><td>3.1.8    </td><td>/home/kynon/R/x86_64-pc-linux-gnu-library/4.2/tibble              </td><td>/home/kynon/R/x86_64-pc-linux-gnu-library/4.2/tibble              </td><td>FALSE</td><td>FALSE</td><td>2022-07-22</td><td>CRAN (R 4.2.1)</td><td>NA</td><td>/home/kynon/R/x86_64-pc-linux-gnu-library/4.2</td></tr>\n",
       "\t<tr><th scope=row>tidyr</th><td>tidyr               </td><td>1.3.0    </td><td>1.3.0    </td><td>/home/kynon/R/x86_64-pc-linux-gnu-library/4.2/tidyr               </td><td>/home/kynon/R/x86_64-pc-linux-gnu-library/4.2/tidyr               </td><td>FALSE</td><td>FALSE</td><td>2023-01-24</td><td>CRAN (R 4.2.2)</td><td>NA</td><td>/home/kynon/R/x86_64-pc-linux-gnu-library/4.2</td></tr>\n",
       "\t<tr><th scope=row>tidyselect</th><td>tidyselect          </td><td>1.2.0    </td><td>1.2.0    </td><td>/home/kynon/R/x86_64-pc-linux-gnu-library/4.2/tidyselect          </td><td>/home/kynon/R/x86_64-pc-linux-gnu-library/4.2/tidyselect          </td><td>FALSE</td><td>FALSE</td><td>2022-10-10</td><td>CRAN (R 4.2.2)</td><td>NA</td><td>/home/kynon/R/x86_64-pc-linux-gnu-library/4.2</td></tr>\n",
       "\t<tr><th scope=row>utf8</th><td>utf8                </td><td>1.2.3    </td><td>1.2.3    </td><td>/home/kynon/R/x86_64-pc-linux-gnu-library/4.2/utf8                </td><td>/home/kynon/R/x86_64-pc-linux-gnu-library/4.2/utf8                </td><td>FALSE</td><td>FALSE</td><td>2023-01-31</td><td>CRAN (R 4.2.2)</td><td>NA</td><td>/home/kynon/R/x86_64-pc-linux-gnu-library/4.2</td></tr>\n",
       "\t<tr><th scope=row>uuid</th><td>uuid                </td><td>1.1.0    </td><td>1.1-0    </td><td>/home/kynon/R/x86_64-pc-linux-gnu-library/4.2/uuid                </td><td>/home/kynon/R/x86_64-pc-linux-gnu-library/4.2/uuid                </td><td>FALSE</td><td>FALSE</td><td>2022-04-19</td><td>CRAN (R 4.2.1)</td><td>NA</td><td>/home/kynon/R/x86_64-pc-linux-gnu-library/4.2</td></tr>\n",
       "\t<tr><th scope=row>vctrs</th><td>vctrs               </td><td>0.5.2    </td><td>0.5.2    </td><td>/home/kynon/R/x86_64-pc-linux-gnu-library/4.2/vctrs               </td><td>/home/kynon/R/x86_64-pc-linux-gnu-library/4.2/vctrs               </td><td>FALSE</td><td>FALSE</td><td>2023-01-23</td><td>CRAN (R 4.2.2)</td><td>NA</td><td>/home/kynon/R/x86_64-pc-linux-gnu-library/4.2</td></tr>\n",
       "\t<tr><th scope=row>withr</th><td>withr               </td><td>2.5.0    </td><td>2.5.0    </td><td>/home/kynon/R/x86_64-pc-linux-gnu-library/4.2/withr               </td><td>/home/kynon/R/x86_64-pc-linux-gnu-library/4.2/withr               </td><td>FALSE</td><td>FALSE</td><td>2022-03-03</td><td>CRAN (R 4.2.1)</td><td>NA</td><td>/home/kynon/R/x86_64-pc-linux-gnu-library/4.2</td></tr>\n",
       "\t<tr><th scope=row>XVector</th><td>XVector             </td><td>0.38.0   </td><td>0.38.0   </td><td>/home/kynon/R/x86_64-pc-linux-gnu-library/4.2/XVector             </td><td>/home/kynon/R/x86_64-pc-linux-gnu-library/4.2/XVector             </td><td>FALSE</td><td>FALSE</td><td>2022-11-01</td><td>Bioconductor  </td><td>NA</td><td>/home/kynon/R/x86_64-pc-linux-gnu-library/4.2</td></tr>\n",
       "\t<tr><th scope=row>zlibbioc</th><td>zlibbioc            </td><td>1.44.0   </td><td>1.44.0   </td><td>/home/kynon/R/x86_64-pc-linux-gnu-library/4.2/zlibbioc            </td><td>/home/kynon/R/x86_64-pc-linux-gnu-library/4.2/zlibbioc            </td><td>FALSE</td><td>FALSE</td><td>2022-11-01</td><td>Bioconductor  </td><td>NA</td><td>/home/kynon/R/x86_64-pc-linux-gnu-library/4.2</td></tr>\n",
       "</tbody>\n",
       "</table>\n"
      ],
      "text/latex": [
       "A packages\\_info: 57 × 11\n",
       "\\begin{tabular}{r|lllllllllll}\n",
       "  & package & ondiskversion & loadedversion & path & loadedpath & attached & is\\_base & date & source & md5ok & library\\\\\n",
       "  & <chr> & <chr> & <chr> & <chr> & <chr> & <lgl> & <lgl> & <chr> & <chr> & <lgl> & <fct>\\\\\n",
       "\\hline\n",
       "\tbase64enc & base64enc            & 0.1.3     & 0.1-3     & /home/kynon/R/x86\\_64-pc-linux-gnu-library/4.2/base64enc            & /home/kynon/R/x86\\_64-pc-linux-gnu-library/4.2/base64enc            & FALSE & FALSE & 2015-07-28 & CRAN (R 4.2.1) & NA & /home/kynon/R/x86\\_64-pc-linux-gnu-library/4.2\\\\\n",
       "\tBiobase & Biobase              & 2.58.0    & 2.58.0    & /home/kynon/R/x86\\_64-pc-linux-gnu-library/4.2/Biobase              & /home/kynon/R/x86\\_64-pc-linux-gnu-library/4.2/Biobase              &  TRUE & FALSE & 2022-11-01 & Bioconductor   & NA & /home/kynon/R/x86\\_64-pc-linux-gnu-library/4.2\\\\\n",
       "\tBiocGenerics & BiocGenerics         & 0.44.0    & 0.44.0    & /home/kynon/R/x86\\_64-pc-linux-gnu-library/4.2/BiocGenerics         & /home/kynon/R/x86\\_64-pc-linux-gnu-library/4.2/BiocGenerics         &  TRUE & FALSE & 2022-11-01 & Bioconductor   & NA & /home/kynon/R/x86\\_64-pc-linux-gnu-library/4.2\\\\\n",
       "\tbitops & bitops               & 1.0.7     & 1.0-7     & /home/kynon/R/x86\\_64-pc-linux-gnu-library/4.2/bitops               & /home/kynon/R/x86\\_64-pc-linux-gnu-library/4.2/bitops               & FALSE & FALSE & 2021-04-24 & CRAN (R 4.2.2) & NA & /home/kynon/R/x86\\_64-pc-linux-gnu-library/4.2\\\\\n",
       "\tcli & cli                  & 3.6.0     & 3.6.0     & /home/kynon/R/x86\\_64-pc-linux-gnu-library/4.2/cli                  & /home/kynon/R/x86\\_64-pc-linux-gnu-library/4.2/cli                  & FALSE & FALSE & 2023-01-09 & CRAN (R 4.2.2) & NA & /home/kynon/R/x86\\_64-pc-linux-gnu-library/4.2\\\\\n",
       "\tcolorspace & colorspace           & 2.1.0     & 2.1-0     & /home/kynon/R/x86\\_64-pc-linux-gnu-library/4.2/colorspace           & /home/kynon/R/x86\\_64-pc-linux-gnu-library/4.2/colorspace           & FALSE & FALSE & 2023-01-23 & CRAN (R 4.2.2) & NA & /home/kynon/R/x86\\_64-pc-linux-gnu-library/4.2\\\\\n",
       "\tcorrr & corrr                & 0.4.4     & 0.4.4     & /home/kynon/R/x86\\_64-pc-linux-gnu-library/4.2/corrr                & /home/kynon/R/x86\\_64-pc-linux-gnu-library/4.2/corrr                & FALSE & FALSE & 2022-08-16 & CRAN (R 4.2.2) & NA & /home/kynon/R/x86\\_64-pc-linux-gnu-library/4.2\\\\\n",
       "\tcrayon & crayon               & 1.5.2     & 1.5.2     & /home/kynon/R/x86\\_64-pc-linux-gnu-library/4.2/crayon               & /home/kynon/R/x86\\_64-pc-linux-gnu-library/4.2/crayon               & FALSE & FALSE & 2022-09-29 & CRAN (R 4.2.2) & NA & /home/kynon/R/x86\\_64-pc-linux-gnu-library/4.2\\\\\n",
       "\tdata.table & data.table           & 1.14.6    & 1.14.6    & /home/kynon/R/x86\\_64-pc-linux-gnu-library/4.2/data.table           & /home/kynon/R/x86\\_64-pc-linux-gnu-library/4.2/data.table           & FALSE & FALSE & 2022-11-16 & CRAN (R 4.2.2) & NA & /home/kynon/R/x86\\_64-pc-linux-gnu-library/4.2\\\\\n",
       "\tDelayedArray & DelayedArray         & 0.24.0    & 0.24.0    & /home/kynon/R/x86\\_64-pc-linux-gnu-library/4.2/DelayedArray         & /home/kynon/R/x86\\_64-pc-linux-gnu-library/4.2/DelayedArray         & FALSE & FALSE & 2022-11-01 & Bioconductor   & NA & /home/kynon/R/x86\\_64-pc-linux-gnu-library/4.2\\\\\n",
       "\tdigest & digest               & 0.6.31    & 0.6.31    & /home/kynon/R/x86\\_64-pc-linux-gnu-library/4.2/digest               & /home/kynon/R/x86\\_64-pc-linux-gnu-library/4.2/digest               & FALSE & FALSE & 2022-12-11 & CRAN (R 4.2.2) & NA & /home/kynon/R/x86\\_64-pc-linux-gnu-library/4.2\\\\\n",
       "\tdplyr & dplyr                & 1.1.0     & 1.1.0     & /home/kynon/R/x86\\_64-pc-linux-gnu-library/4.2/dplyr                & /home/kynon/R/x86\\_64-pc-linux-gnu-library/4.2/dplyr                &  TRUE & FALSE & 2023-01-29 & CRAN (R 4.2.2) & NA & /home/kynon/R/x86\\_64-pc-linux-gnu-library/4.2\\\\\n",
       "\tevaluate & evaluate             & 0.20      & 0.20      & /home/kynon/R/x86\\_64-pc-linux-gnu-library/4.2/evaluate             & /home/kynon/R/x86\\_64-pc-linux-gnu-library/4.2/evaluate             & FALSE & FALSE & 2023-01-17 & CRAN (R 4.2.2) & NA & /home/kynon/R/x86\\_64-pc-linux-gnu-library/4.2\\\\\n",
       "\tfansi & fansi                & 1.0.4     & 1.0.4     & /home/kynon/R/x86\\_64-pc-linux-gnu-library/4.2/fansi                & /home/kynon/R/x86\\_64-pc-linux-gnu-library/4.2/fansi                & FALSE & FALSE & 2023-01-22 & CRAN (R 4.2.2) & NA & /home/kynon/R/x86\\_64-pc-linux-gnu-library/4.2\\\\\n",
       "\tfastmap & fastmap              & 1.1.0     & 1.1.0     & /home/kynon/R/x86\\_64-pc-linux-gnu-library/4.2/fastmap              & /home/kynon/R/x86\\_64-pc-linux-gnu-library/4.2/fastmap              & FALSE & FALSE & 2021-01-25 & CRAN (R 4.2.1) & NA & /home/kynon/R/x86\\_64-pc-linux-gnu-library/4.2\\\\\n",
       "\tgenerics & generics             & 0.1.3     & 0.1.3     & /home/kynon/R/x86\\_64-pc-linux-gnu-library/4.2/generics             & /home/kynon/R/x86\\_64-pc-linux-gnu-library/4.2/generics             & FALSE & FALSE & 2022-07-05 & CRAN (R 4.2.1) & NA & /home/kynon/R/x86\\_64-pc-linux-gnu-library/4.2\\\\\n",
       "\tGenomeInfoDb & GenomeInfoDb         & 1.34.9    & 1.34.9    & /home/kynon/R/x86\\_64-pc-linux-gnu-library/4.2/GenomeInfoDb         & /home/kynon/R/x86\\_64-pc-linux-gnu-library/4.2/GenomeInfoDb         &  TRUE & FALSE & 2023-02-02 & Bioconductor   & NA & /home/kynon/R/x86\\_64-pc-linux-gnu-library/4.2\\\\\n",
       "\tGenomeInfoDbData & GenomeInfoDbData     & 1.2.9     & 1.2.9     & /home/kynon/R/x86\\_64-pc-linux-gnu-library/4.2/GenomeInfoDbData     & /home/kynon/R/x86\\_64-pc-linux-gnu-library/4.2/GenomeInfoDbData     & FALSE & FALSE & 2023-02-13 & Bioconductor   & NA & /home/kynon/R/x86\\_64-pc-linux-gnu-library/4.2\\\\\n",
       "\tGenomicRanges & GenomicRanges        & 1.50.2    & 1.50.2    & /home/kynon/R/x86\\_64-pc-linux-gnu-library/4.2/GenomicRanges        & /home/kynon/R/x86\\_64-pc-linux-gnu-library/4.2/GenomicRanges        &  TRUE & FALSE & 2022-12-16 & Bioconductor   & NA & /home/kynon/R/x86\\_64-pc-linux-gnu-library/4.2\\\\\n",
       "\tggplot2 & ggplot2              & 3.4.1     & 3.4.1     & /home/kynon/R/x86\\_64-pc-linux-gnu-library/4.2/ggplot2              & /home/kynon/R/x86\\_64-pc-linux-gnu-library/4.2/ggplot2              & FALSE & FALSE & 2023-02-10 & CRAN (R 4.2.2) & NA & /home/kynon/R/x86\\_64-pc-linux-gnu-library/4.2\\\\\n",
       "\tglue & glue                 & 1.6.2     & 1.6.2     & /home/kynon/R/x86\\_64-pc-linux-gnu-library/4.2/glue                 & /home/kynon/R/x86\\_64-pc-linux-gnu-library/4.2/glue                 & FALSE & FALSE & 2022-02-24 & CRAN (R 4.2.1) & NA & /home/kynon/R/x86\\_64-pc-linux-gnu-library/4.2\\\\\n",
       "\tgtable & gtable               & 0.3.1     & 0.3.1     & /home/kynon/R/x86\\_64-pc-linux-gnu-library/4.2/gtable               & /home/kynon/R/x86\\_64-pc-linux-gnu-library/4.2/gtable               & FALSE & FALSE & 2022-09-01 & CRAN (R 4.2.1) & NA & /home/kynon/R/x86\\_64-pc-linux-gnu-library/4.2\\\\\n",
       "\there & here                 & 1.0.1     & 1.0.1     & /home/kynon/R/x86\\_64-pc-linux-gnu-library/4.2/here                 & /home/kynon/R/x86\\_64-pc-linux-gnu-library/4.2/here                 &  TRUE & FALSE & 2020-12-13 & CRAN (R 4.2.2) & NA & /home/kynon/R/x86\\_64-pc-linux-gnu-library/4.2\\\\\n",
       "\thtmltools & htmltools            & 0.5.4     & 0.5.4     & /home/kynon/R/x86\\_64-pc-linux-gnu-library/4.2/htmltools            & /home/kynon/R/x86\\_64-pc-linux-gnu-library/4.2/htmltools            & FALSE & FALSE & 2022-12-07 & CRAN (R 4.2.2) & NA & /home/kynon/R/x86\\_64-pc-linux-gnu-library/4.2\\\\\n",
       "\tIRanges & IRanges              & 2.32.0    & 2.32.0    & /home/kynon/R/x86\\_64-pc-linux-gnu-library/4.2/IRanges              & /home/kynon/R/x86\\_64-pc-linux-gnu-library/4.2/IRanges              &  TRUE & FALSE & 2022-11-01 & Bioconductor   & NA & /home/kynon/R/x86\\_64-pc-linux-gnu-library/4.2\\\\\n",
       "\tIRdisplay & IRdisplay            & 1.1       & 1.1       & /home/kynon/R/x86\\_64-pc-linux-gnu-library/4.2/IRdisplay            & /home/kynon/R/x86\\_64-pc-linux-gnu-library/4.2/IRdisplay            & FALSE & FALSE & 2022-01-04 & CRAN (R 4.2.1) & NA & /home/kynon/R/x86\\_64-pc-linux-gnu-library/4.2\\\\\n",
       "\tIRkernel & IRkernel             & 1.3.2     & 1.3.2     & /home/kynon/R/x86\\_64-pc-linux-gnu-library/4.2/IRkernel             & /home/kynon/R/x86\\_64-pc-linux-gnu-library/4.2/IRkernel             & FALSE & FALSE & 2023-01-20 & CRAN (R 4.2.2) & NA & /home/kynon/R/x86\\_64-pc-linux-gnu-library/4.2\\\\\n",
       "\tjsonlite & jsonlite             & 1.8.4     & 1.8.4     & /home/kynon/R/x86\\_64-pc-linux-gnu-library/4.2/jsonlite             & /home/kynon/R/x86\\_64-pc-linux-gnu-library/4.2/jsonlite             & FALSE & FALSE & 2022-12-06 & CRAN (R 4.2.2) & NA & /home/kynon/R/x86\\_64-pc-linux-gnu-library/4.2\\\\\n",
       "\tlattice & lattice              & 0.20.45   & 0.20-45   & /usr/lib/R/library/lattice                                         & /usr/lib/R/library/lattice                                         & FALSE & FALSE & 2021-09-22 & CRAN (R 4.2.2) & NA & /usr/lib/R/library                           \\\\\n",
       "\tlifecycle & lifecycle            & 1.0.3     & 1.0.3     & /home/kynon/R/x86\\_64-pc-linux-gnu-library/4.2/lifecycle            & /home/kynon/R/x86\\_64-pc-linux-gnu-library/4.2/lifecycle            & FALSE & FALSE & 2022-10-07 & CRAN (R 4.2.2) & NA & /home/kynon/R/x86\\_64-pc-linux-gnu-library/4.2\\\\\n",
       "\tmagrittr & magrittr             & 2.0.3     & 2.0.3     & /home/kynon/R/x86\\_64-pc-linux-gnu-library/4.2/magrittr             & /home/kynon/R/x86\\_64-pc-linux-gnu-library/4.2/magrittr             & FALSE & FALSE & 2022-03-30 & CRAN (R 4.2.1) & NA & /home/kynon/R/x86\\_64-pc-linux-gnu-library/4.2\\\\\n",
       "\tMatrix & Matrix               & 1.5.3     & 1.5-3     & /home/kynon/R/x86\\_64-pc-linux-gnu-library/4.2/Matrix               & /home/kynon/R/x86\\_64-pc-linux-gnu-library/4.2/Matrix               & FALSE & FALSE & 2022-11-11 & CRAN (R 4.2.2) & NA & /home/kynon/R/x86\\_64-pc-linux-gnu-library/4.2\\\\\n",
       "\tMatrixGenerics & MatrixGenerics       & 1.10.0    & 1.10.0    & /home/kynon/R/x86\\_64-pc-linux-gnu-library/4.2/MatrixGenerics       & /home/kynon/R/x86\\_64-pc-linux-gnu-library/4.2/MatrixGenerics       &  TRUE & FALSE & 2022-11-01 & Bioconductor   & NA & /home/kynon/R/x86\\_64-pc-linux-gnu-library/4.2\\\\\n",
       "\tmatrixStats & matrixStats          & 0.63.0    & 0.63.0    & /home/kynon/R/x86\\_64-pc-linux-gnu-library/4.2/matrixStats          & /home/kynon/R/x86\\_64-pc-linux-gnu-library/4.2/matrixStats          &  TRUE & FALSE & 2022-11-18 & CRAN (R 4.2.2) & NA & /home/kynon/R/x86\\_64-pc-linux-gnu-library/4.2\\\\\n",
       "\tmunsell & munsell              & 0.5.0     & 0.5.0     & /home/kynon/R/x86\\_64-pc-linux-gnu-library/4.2/munsell              & /home/kynon/R/x86\\_64-pc-linux-gnu-library/4.2/munsell              & FALSE & FALSE & 2018-06-12 & CRAN (R 4.2.1) & NA & /home/kynon/R/x86\\_64-pc-linux-gnu-library/4.2\\\\\n",
       "\tpbdZMQ & pbdZMQ               & 0.3.9     & 0.3-9     & /home/kynon/R/x86\\_64-pc-linux-gnu-library/4.2/pbdZMQ               & /home/kynon/R/x86\\_64-pc-linux-gnu-library/4.2/pbdZMQ               & FALSE & FALSE & 2023-01-21 & CRAN (R 4.2.2) & NA & /home/kynon/R/x86\\_64-pc-linux-gnu-library/4.2\\\\\n",
       "\tpillar & pillar               & 1.8.1     & 1.8.1     & /home/kynon/R/x86\\_64-pc-linux-gnu-library/4.2/pillar               & /home/kynon/R/x86\\_64-pc-linux-gnu-library/4.2/pillar               & FALSE & FALSE & 2022-08-19 & CRAN (R 4.2.1) & NA & /home/kynon/R/x86\\_64-pc-linux-gnu-library/4.2\\\\\n",
       "\tpkgconfig & pkgconfig            & 2.0.3     & 2.0.3     & /home/kynon/R/x86\\_64-pc-linux-gnu-library/4.2/pkgconfig            & /home/kynon/R/x86\\_64-pc-linux-gnu-library/4.2/pkgconfig            & FALSE & FALSE & 2019-09-22 & CRAN (R 4.2.1) & NA & /home/kynon/R/x86\\_64-pc-linux-gnu-library/4.2\\\\\n",
       "\tpurrr & purrr                & 1.0.1     & 1.0.1     & /home/kynon/R/x86\\_64-pc-linux-gnu-library/4.2/purrr                & /home/kynon/R/x86\\_64-pc-linux-gnu-library/4.2/purrr                & FALSE & FALSE & 2023-01-10 & CRAN (R 4.2.2) & NA & /home/kynon/R/x86\\_64-pc-linux-gnu-library/4.2\\\\\n",
       "\tR6 & R6                   & 2.5.1     & 2.5.1     & /home/kynon/R/x86\\_64-pc-linux-gnu-library/4.2/R6                   & /home/kynon/R/x86\\_64-pc-linux-gnu-library/4.2/R6                   & FALSE & FALSE & 2021-08-19 & CRAN (R 4.2.1) & NA & /home/kynon/R/x86\\_64-pc-linux-gnu-library/4.2\\\\\n",
       "\tRCurl & RCurl                & 1.98.1.10 & 1.98-1.10 & /home/kynon/R/x86\\_64-pc-linux-gnu-library/4.2/RCurl                & /home/kynon/R/x86\\_64-pc-linux-gnu-library/4.2/RCurl                & FALSE & FALSE & 2023-01-27 & CRAN (R 4.2.2) & NA & /home/kynon/R/x86\\_64-pc-linux-gnu-library/4.2\\\\\n",
       "\trepr & repr                 & 1.1.6     & 1.1.6     & /home/kynon/R/x86\\_64-pc-linux-gnu-library/4.2/repr                 & /home/kynon/R/x86\\_64-pc-linux-gnu-library/4.2/repr                 & FALSE & FALSE & 2023-01-26 & CRAN (R 4.2.2) & NA & /home/kynon/R/x86\\_64-pc-linux-gnu-library/4.2\\\\\n",
       "\trlang & rlang                & 1.0.6     & 1.0.6     & /home/kynon/R/x86\\_64-pc-linux-gnu-library/4.2/rlang                & /home/kynon/R/x86\\_64-pc-linux-gnu-library/4.2/rlang                & FALSE & FALSE & 2022-09-24 & CRAN (R 4.2.2) & NA & /home/kynon/R/x86\\_64-pc-linux-gnu-library/4.2\\\\\n",
       "\trprojroot & rprojroot            & 2.0.3     & 2.0.3     & /home/kynon/R/x86\\_64-pc-linux-gnu-library/4.2/rprojroot            & /home/kynon/R/x86\\_64-pc-linux-gnu-library/4.2/rprojroot            & FALSE & FALSE & 2022-04-02 & CRAN (R 4.2.1) & NA & /home/kynon/R/x86\\_64-pc-linux-gnu-library/4.2\\\\\n",
       "\tS4Vectors & S4Vectors            & 0.36.1    & 0.36.1    & /home/kynon/R/x86\\_64-pc-linux-gnu-library/4.2/S4Vectors            & /home/kynon/R/x86\\_64-pc-linux-gnu-library/4.2/S4Vectors            &  TRUE & FALSE & 2022-12-05 & Bioconductor   & NA & /home/kynon/R/x86\\_64-pc-linux-gnu-library/4.2\\\\\n",
       "\tscales & scales               & 1.2.1     & 1.2.1     & /home/kynon/R/x86\\_64-pc-linux-gnu-library/4.2/scales               & /home/kynon/R/x86\\_64-pc-linux-gnu-library/4.2/scales               & FALSE & FALSE & 2022-08-20 & CRAN (R 4.2.1) & NA & /home/kynon/R/x86\\_64-pc-linux-gnu-library/4.2\\\\\n",
       "\tsessioninfo & sessioninfo          & 1.2.2     & 1.2.2     & /home/kynon/R/x86\\_64-pc-linux-gnu-library/4.2/sessioninfo          & /home/kynon/R/x86\\_64-pc-linux-gnu-library/4.2/sessioninfo          & FALSE & FALSE & 2021-12-06 & CRAN (R 4.2.2) & NA & /home/kynon/R/x86\\_64-pc-linux-gnu-library/4.2\\\\\n",
       "\tSummarizedExperiment & SummarizedExperiment & 1.28.0    & 1.28.0    & /home/kynon/R/x86\\_64-pc-linux-gnu-library/4.2/SummarizedExperiment & /home/kynon/R/x86\\_64-pc-linux-gnu-library/4.2/SummarizedExperiment &  TRUE & FALSE & 2022-11-01 & Bioconductor   & NA & /home/kynon/R/x86\\_64-pc-linux-gnu-library/4.2\\\\\n",
       "\ttibble & tibble               & 3.1.8     & 3.1.8     & /home/kynon/R/x86\\_64-pc-linux-gnu-library/4.2/tibble               & /home/kynon/R/x86\\_64-pc-linux-gnu-library/4.2/tibble               & FALSE & FALSE & 2022-07-22 & CRAN (R 4.2.1) & NA & /home/kynon/R/x86\\_64-pc-linux-gnu-library/4.2\\\\\n",
       "\ttidyr & tidyr                & 1.3.0     & 1.3.0     & /home/kynon/R/x86\\_64-pc-linux-gnu-library/4.2/tidyr                & /home/kynon/R/x86\\_64-pc-linux-gnu-library/4.2/tidyr                & FALSE & FALSE & 2023-01-24 & CRAN (R 4.2.2) & NA & /home/kynon/R/x86\\_64-pc-linux-gnu-library/4.2\\\\\n",
       "\ttidyselect & tidyselect           & 1.2.0     & 1.2.0     & /home/kynon/R/x86\\_64-pc-linux-gnu-library/4.2/tidyselect           & /home/kynon/R/x86\\_64-pc-linux-gnu-library/4.2/tidyselect           & FALSE & FALSE & 2022-10-10 & CRAN (R 4.2.2) & NA & /home/kynon/R/x86\\_64-pc-linux-gnu-library/4.2\\\\\n",
       "\tutf8 & utf8                 & 1.2.3     & 1.2.3     & /home/kynon/R/x86\\_64-pc-linux-gnu-library/4.2/utf8                 & /home/kynon/R/x86\\_64-pc-linux-gnu-library/4.2/utf8                 & FALSE & FALSE & 2023-01-31 & CRAN (R 4.2.2) & NA & /home/kynon/R/x86\\_64-pc-linux-gnu-library/4.2\\\\\n",
       "\tuuid & uuid                 & 1.1.0     & 1.1-0     & /home/kynon/R/x86\\_64-pc-linux-gnu-library/4.2/uuid                 & /home/kynon/R/x86\\_64-pc-linux-gnu-library/4.2/uuid                 & FALSE & FALSE & 2022-04-19 & CRAN (R 4.2.1) & NA & /home/kynon/R/x86\\_64-pc-linux-gnu-library/4.2\\\\\n",
       "\tvctrs & vctrs                & 0.5.2     & 0.5.2     & /home/kynon/R/x86\\_64-pc-linux-gnu-library/4.2/vctrs                & /home/kynon/R/x86\\_64-pc-linux-gnu-library/4.2/vctrs                & FALSE & FALSE & 2023-01-23 & CRAN (R 4.2.2) & NA & /home/kynon/R/x86\\_64-pc-linux-gnu-library/4.2\\\\\n",
       "\twithr & withr                & 2.5.0     & 2.5.0     & /home/kynon/R/x86\\_64-pc-linux-gnu-library/4.2/withr                & /home/kynon/R/x86\\_64-pc-linux-gnu-library/4.2/withr                & FALSE & FALSE & 2022-03-03 & CRAN (R 4.2.1) & NA & /home/kynon/R/x86\\_64-pc-linux-gnu-library/4.2\\\\\n",
       "\tXVector & XVector              & 0.38.0    & 0.38.0    & /home/kynon/R/x86\\_64-pc-linux-gnu-library/4.2/XVector              & /home/kynon/R/x86\\_64-pc-linux-gnu-library/4.2/XVector              & FALSE & FALSE & 2022-11-01 & Bioconductor   & NA & /home/kynon/R/x86\\_64-pc-linux-gnu-library/4.2\\\\\n",
       "\tzlibbioc & zlibbioc             & 1.44.0    & 1.44.0    & /home/kynon/R/x86\\_64-pc-linux-gnu-library/4.2/zlibbioc             & /home/kynon/R/x86\\_64-pc-linux-gnu-library/4.2/zlibbioc             & FALSE & FALSE & 2022-11-01 & Bioconductor   & NA & /home/kynon/R/x86\\_64-pc-linux-gnu-library/4.2\\\\\n",
       "\\end{tabular}\n"
      ],
      "text/markdown": [
       "\n",
       "A packages_info: 57 × 11\n",
       "\n",
       "| <!--/--> | package &lt;chr&gt; | ondiskversion &lt;chr&gt; | loadedversion &lt;chr&gt; | path &lt;chr&gt; | loadedpath &lt;chr&gt; | attached &lt;lgl&gt; | is_base &lt;lgl&gt; | date &lt;chr&gt; | source &lt;chr&gt; | md5ok &lt;lgl&gt; | library &lt;fct&gt; |\n",
       "|---|---|---|---|---|---|---|---|---|---|---|---|\n",
       "| base64enc | base64enc            | 0.1.3     | 0.1-3     | /home/kynon/R/x86_64-pc-linux-gnu-library/4.2/base64enc            | /home/kynon/R/x86_64-pc-linux-gnu-library/4.2/base64enc            | FALSE | FALSE | 2015-07-28 | CRAN (R 4.2.1) | NA | /home/kynon/R/x86_64-pc-linux-gnu-library/4.2 |\n",
       "| Biobase | Biobase              | 2.58.0    | 2.58.0    | /home/kynon/R/x86_64-pc-linux-gnu-library/4.2/Biobase              | /home/kynon/R/x86_64-pc-linux-gnu-library/4.2/Biobase              |  TRUE | FALSE | 2022-11-01 | Bioconductor   | NA | /home/kynon/R/x86_64-pc-linux-gnu-library/4.2 |\n",
       "| BiocGenerics | BiocGenerics         | 0.44.0    | 0.44.0    | /home/kynon/R/x86_64-pc-linux-gnu-library/4.2/BiocGenerics         | /home/kynon/R/x86_64-pc-linux-gnu-library/4.2/BiocGenerics         |  TRUE | FALSE | 2022-11-01 | Bioconductor   | NA | /home/kynon/R/x86_64-pc-linux-gnu-library/4.2 |\n",
       "| bitops | bitops               | 1.0.7     | 1.0-7     | /home/kynon/R/x86_64-pc-linux-gnu-library/4.2/bitops               | /home/kynon/R/x86_64-pc-linux-gnu-library/4.2/bitops               | FALSE | FALSE | 2021-04-24 | CRAN (R 4.2.2) | NA | /home/kynon/R/x86_64-pc-linux-gnu-library/4.2 |\n",
       "| cli | cli                  | 3.6.0     | 3.6.0     | /home/kynon/R/x86_64-pc-linux-gnu-library/4.2/cli                  | /home/kynon/R/x86_64-pc-linux-gnu-library/4.2/cli                  | FALSE | FALSE | 2023-01-09 | CRAN (R 4.2.2) | NA | /home/kynon/R/x86_64-pc-linux-gnu-library/4.2 |\n",
       "| colorspace | colorspace           | 2.1.0     | 2.1-0     | /home/kynon/R/x86_64-pc-linux-gnu-library/4.2/colorspace           | /home/kynon/R/x86_64-pc-linux-gnu-library/4.2/colorspace           | FALSE | FALSE | 2023-01-23 | CRAN (R 4.2.2) | NA | /home/kynon/R/x86_64-pc-linux-gnu-library/4.2 |\n",
       "| corrr | corrr                | 0.4.4     | 0.4.4     | /home/kynon/R/x86_64-pc-linux-gnu-library/4.2/corrr                | /home/kynon/R/x86_64-pc-linux-gnu-library/4.2/corrr                | FALSE | FALSE | 2022-08-16 | CRAN (R 4.2.2) | NA | /home/kynon/R/x86_64-pc-linux-gnu-library/4.2 |\n",
       "| crayon | crayon               | 1.5.2     | 1.5.2     | /home/kynon/R/x86_64-pc-linux-gnu-library/4.2/crayon               | /home/kynon/R/x86_64-pc-linux-gnu-library/4.2/crayon               | FALSE | FALSE | 2022-09-29 | CRAN (R 4.2.2) | NA | /home/kynon/R/x86_64-pc-linux-gnu-library/4.2 |\n",
       "| data.table | data.table           | 1.14.6    | 1.14.6    | /home/kynon/R/x86_64-pc-linux-gnu-library/4.2/data.table           | /home/kynon/R/x86_64-pc-linux-gnu-library/4.2/data.table           | FALSE | FALSE | 2022-11-16 | CRAN (R 4.2.2) | NA | /home/kynon/R/x86_64-pc-linux-gnu-library/4.2 |\n",
       "| DelayedArray | DelayedArray         | 0.24.0    | 0.24.0    | /home/kynon/R/x86_64-pc-linux-gnu-library/4.2/DelayedArray         | /home/kynon/R/x86_64-pc-linux-gnu-library/4.2/DelayedArray         | FALSE | FALSE | 2022-11-01 | Bioconductor   | NA | /home/kynon/R/x86_64-pc-linux-gnu-library/4.2 |\n",
       "| digest | digest               | 0.6.31    | 0.6.31    | /home/kynon/R/x86_64-pc-linux-gnu-library/4.2/digest               | /home/kynon/R/x86_64-pc-linux-gnu-library/4.2/digest               | FALSE | FALSE | 2022-12-11 | CRAN (R 4.2.2) | NA | /home/kynon/R/x86_64-pc-linux-gnu-library/4.2 |\n",
       "| dplyr | dplyr                | 1.1.0     | 1.1.0     | /home/kynon/R/x86_64-pc-linux-gnu-library/4.2/dplyr                | /home/kynon/R/x86_64-pc-linux-gnu-library/4.2/dplyr                |  TRUE | FALSE | 2023-01-29 | CRAN (R 4.2.2) | NA | /home/kynon/R/x86_64-pc-linux-gnu-library/4.2 |\n",
       "| evaluate | evaluate             | 0.20      | 0.20      | /home/kynon/R/x86_64-pc-linux-gnu-library/4.2/evaluate             | /home/kynon/R/x86_64-pc-linux-gnu-library/4.2/evaluate             | FALSE | FALSE | 2023-01-17 | CRAN (R 4.2.2) | NA | /home/kynon/R/x86_64-pc-linux-gnu-library/4.2 |\n",
       "| fansi | fansi                | 1.0.4     | 1.0.4     | /home/kynon/R/x86_64-pc-linux-gnu-library/4.2/fansi                | /home/kynon/R/x86_64-pc-linux-gnu-library/4.2/fansi                | FALSE | FALSE | 2023-01-22 | CRAN (R 4.2.2) | NA | /home/kynon/R/x86_64-pc-linux-gnu-library/4.2 |\n",
       "| fastmap | fastmap              | 1.1.0     | 1.1.0     | /home/kynon/R/x86_64-pc-linux-gnu-library/4.2/fastmap              | /home/kynon/R/x86_64-pc-linux-gnu-library/4.2/fastmap              | FALSE | FALSE | 2021-01-25 | CRAN (R 4.2.1) | NA | /home/kynon/R/x86_64-pc-linux-gnu-library/4.2 |\n",
       "| generics | generics             | 0.1.3     | 0.1.3     | /home/kynon/R/x86_64-pc-linux-gnu-library/4.2/generics             | /home/kynon/R/x86_64-pc-linux-gnu-library/4.2/generics             | FALSE | FALSE | 2022-07-05 | CRAN (R 4.2.1) | NA | /home/kynon/R/x86_64-pc-linux-gnu-library/4.2 |\n",
       "| GenomeInfoDb | GenomeInfoDb         | 1.34.9    | 1.34.9    | /home/kynon/R/x86_64-pc-linux-gnu-library/4.2/GenomeInfoDb         | /home/kynon/R/x86_64-pc-linux-gnu-library/4.2/GenomeInfoDb         |  TRUE | FALSE | 2023-02-02 | Bioconductor   | NA | /home/kynon/R/x86_64-pc-linux-gnu-library/4.2 |\n",
       "| GenomeInfoDbData | GenomeInfoDbData     | 1.2.9     | 1.2.9     | /home/kynon/R/x86_64-pc-linux-gnu-library/4.2/GenomeInfoDbData     | /home/kynon/R/x86_64-pc-linux-gnu-library/4.2/GenomeInfoDbData     | FALSE | FALSE | 2023-02-13 | Bioconductor   | NA | /home/kynon/R/x86_64-pc-linux-gnu-library/4.2 |\n",
       "| GenomicRanges | GenomicRanges        | 1.50.2    | 1.50.2    | /home/kynon/R/x86_64-pc-linux-gnu-library/4.2/GenomicRanges        | /home/kynon/R/x86_64-pc-linux-gnu-library/4.2/GenomicRanges        |  TRUE | FALSE | 2022-12-16 | Bioconductor   | NA | /home/kynon/R/x86_64-pc-linux-gnu-library/4.2 |\n",
       "| ggplot2 | ggplot2              | 3.4.1     | 3.4.1     | /home/kynon/R/x86_64-pc-linux-gnu-library/4.2/ggplot2              | /home/kynon/R/x86_64-pc-linux-gnu-library/4.2/ggplot2              | FALSE | FALSE | 2023-02-10 | CRAN (R 4.2.2) | NA | /home/kynon/R/x86_64-pc-linux-gnu-library/4.2 |\n",
       "| glue | glue                 | 1.6.2     | 1.6.2     | /home/kynon/R/x86_64-pc-linux-gnu-library/4.2/glue                 | /home/kynon/R/x86_64-pc-linux-gnu-library/4.2/glue                 | FALSE | FALSE | 2022-02-24 | CRAN (R 4.2.1) | NA | /home/kynon/R/x86_64-pc-linux-gnu-library/4.2 |\n",
       "| gtable | gtable               | 0.3.1     | 0.3.1     | /home/kynon/R/x86_64-pc-linux-gnu-library/4.2/gtable               | /home/kynon/R/x86_64-pc-linux-gnu-library/4.2/gtable               | FALSE | FALSE | 2022-09-01 | CRAN (R 4.2.1) | NA | /home/kynon/R/x86_64-pc-linux-gnu-library/4.2 |\n",
       "| here | here                 | 1.0.1     | 1.0.1     | /home/kynon/R/x86_64-pc-linux-gnu-library/4.2/here                 | /home/kynon/R/x86_64-pc-linux-gnu-library/4.2/here                 |  TRUE | FALSE | 2020-12-13 | CRAN (R 4.2.2) | NA | /home/kynon/R/x86_64-pc-linux-gnu-library/4.2 |\n",
       "| htmltools | htmltools            | 0.5.4     | 0.5.4     | /home/kynon/R/x86_64-pc-linux-gnu-library/4.2/htmltools            | /home/kynon/R/x86_64-pc-linux-gnu-library/4.2/htmltools            | FALSE | FALSE | 2022-12-07 | CRAN (R 4.2.2) | NA | /home/kynon/R/x86_64-pc-linux-gnu-library/4.2 |\n",
       "| IRanges | IRanges              | 2.32.0    | 2.32.0    | /home/kynon/R/x86_64-pc-linux-gnu-library/4.2/IRanges              | /home/kynon/R/x86_64-pc-linux-gnu-library/4.2/IRanges              |  TRUE | FALSE | 2022-11-01 | Bioconductor   | NA | /home/kynon/R/x86_64-pc-linux-gnu-library/4.2 |\n",
       "| IRdisplay | IRdisplay            | 1.1       | 1.1       | /home/kynon/R/x86_64-pc-linux-gnu-library/4.2/IRdisplay            | /home/kynon/R/x86_64-pc-linux-gnu-library/4.2/IRdisplay            | FALSE | FALSE | 2022-01-04 | CRAN (R 4.2.1) | NA | /home/kynon/R/x86_64-pc-linux-gnu-library/4.2 |\n",
       "| IRkernel | IRkernel             | 1.3.2     | 1.3.2     | /home/kynon/R/x86_64-pc-linux-gnu-library/4.2/IRkernel             | /home/kynon/R/x86_64-pc-linux-gnu-library/4.2/IRkernel             | FALSE | FALSE | 2023-01-20 | CRAN (R 4.2.2) | NA | /home/kynon/R/x86_64-pc-linux-gnu-library/4.2 |\n",
       "| jsonlite | jsonlite             | 1.8.4     | 1.8.4     | /home/kynon/R/x86_64-pc-linux-gnu-library/4.2/jsonlite             | /home/kynon/R/x86_64-pc-linux-gnu-library/4.2/jsonlite             | FALSE | FALSE | 2022-12-06 | CRAN (R 4.2.2) | NA | /home/kynon/R/x86_64-pc-linux-gnu-library/4.2 |\n",
       "| lattice | lattice              | 0.20.45   | 0.20-45   | /usr/lib/R/library/lattice                                         | /usr/lib/R/library/lattice                                         | FALSE | FALSE | 2021-09-22 | CRAN (R 4.2.2) | NA | /usr/lib/R/library                            |\n",
       "| lifecycle | lifecycle            | 1.0.3     | 1.0.3     | /home/kynon/R/x86_64-pc-linux-gnu-library/4.2/lifecycle            | /home/kynon/R/x86_64-pc-linux-gnu-library/4.2/lifecycle            | FALSE | FALSE | 2022-10-07 | CRAN (R 4.2.2) | NA | /home/kynon/R/x86_64-pc-linux-gnu-library/4.2 |\n",
       "| magrittr | magrittr             | 2.0.3     | 2.0.3     | /home/kynon/R/x86_64-pc-linux-gnu-library/4.2/magrittr             | /home/kynon/R/x86_64-pc-linux-gnu-library/4.2/magrittr             | FALSE | FALSE | 2022-03-30 | CRAN (R 4.2.1) | NA | /home/kynon/R/x86_64-pc-linux-gnu-library/4.2 |\n",
       "| Matrix | Matrix               | 1.5.3     | 1.5-3     | /home/kynon/R/x86_64-pc-linux-gnu-library/4.2/Matrix               | /home/kynon/R/x86_64-pc-linux-gnu-library/4.2/Matrix               | FALSE | FALSE | 2022-11-11 | CRAN (R 4.2.2) | NA | /home/kynon/R/x86_64-pc-linux-gnu-library/4.2 |\n",
       "| MatrixGenerics | MatrixGenerics       | 1.10.0    | 1.10.0    | /home/kynon/R/x86_64-pc-linux-gnu-library/4.2/MatrixGenerics       | /home/kynon/R/x86_64-pc-linux-gnu-library/4.2/MatrixGenerics       |  TRUE | FALSE | 2022-11-01 | Bioconductor   | NA | /home/kynon/R/x86_64-pc-linux-gnu-library/4.2 |\n",
       "| matrixStats | matrixStats          | 0.63.0    | 0.63.0    | /home/kynon/R/x86_64-pc-linux-gnu-library/4.2/matrixStats          | /home/kynon/R/x86_64-pc-linux-gnu-library/4.2/matrixStats          |  TRUE | FALSE | 2022-11-18 | CRAN (R 4.2.2) | NA | /home/kynon/R/x86_64-pc-linux-gnu-library/4.2 |\n",
       "| munsell | munsell              | 0.5.0     | 0.5.0     | /home/kynon/R/x86_64-pc-linux-gnu-library/4.2/munsell              | /home/kynon/R/x86_64-pc-linux-gnu-library/4.2/munsell              | FALSE | FALSE | 2018-06-12 | CRAN (R 4.2.1) | NA | /home/kynon/R/x86_64-pc-linux-gnu-library/4.2 |\n",
       "| pbdZMQ | pbdZMQ               | 0.3.9     | 0.3-9     | /home/kynon/R/x86_64-pc-linux-gnu-library/4.2/pbdZMQ               | /home/kynon/R/x86_64-pc-linux-gnu-library/4.2/pbdZMQ               | FALSE | FALSE | 2023-01-21 | CRAN (R 4.2.2) | NA | /home/kynon/R/x86_64-pc-linux-gnu-library/4.2 |\n",
       "| pillar | pillar               | 1.8.1     | 1.8.1     | /home/kynon/R/x86_64-pc-linux-gnu-library/4.2/pillar               | /home/kynon/R/x86_64-pc-linux-gnu-library/4.2/pillar               | FALSE | FALSE | 2022-08-19 | CRAN (R 4.2.1) | NA | /home/kynon/R/x86_64-pc-linux-gnu-library/4.2 |\n",
       "| pkgconfig | pkgconfig            | 2.0.3     | 2.0.3     | /home/kynon/R/x86_64-pc-linux-gnu-library/4.2/pkgconfig            | /home/kynon/R/x86_64-pc-linux-gnu-library/4.2/pkgconfig            | FALSE | FALSE | 2019-09-22 | CRAN (R 4.2.1) | NA | /home/kynon/R/x86_64-pc-linux-gnu-library/4.2 |\n",
       "| purrr | purrr                | 1.0.1     | 1.0.1     | /home/kynon/R/x86_64-pc-linux-gnu-library/4.2/purrr                | /home/kynon/R/x86_64-pc-linux-gnu-library/4.2/purrr                | FALSE | FALSE | 2023-01-10 | CRAN (R 4.2.2) | NA | /home/kynon/R/x86_64-pc-linux-gnu-library/4.2 |\n",
       "| R6 | R6                   | 2.5.1     | 2.5.1     | /home/kynon/R/x86_64-pc-linux-gnu-library/4.2/R6                   | /home/kynon/R/x86_64-pc-linux-gnu-library/4.2/R6                   | FALSE | FALSE | 2021-08-19 | CRAN (R 4.2.1) | NA | /home/kynon/R/x86_64-pc-linux-gnu-library/4.2 |\n",
       "| RCurl | RCurl                | 1.98.1.10 | 1.98-1.10 | /home/kynon/R/x86_64-pc-linux-gnu-library/4.2/RCurl                | /home/kynon/R/x86_64-pc-linux-gnu-library/4.2/RCurl                | FALSE | FALSE | 2023-01-27 | CRAN (R 4.2.2) | NA | /home/kynon/R/x86_64-pc-linux-gnu-library/4.2 |\n",
       "| repr | repr                 | 1.1.6     | 1.1.6     | /home/kynon/R/x86_64-pc-linux-gnu-library/4.2/repr                 | /home/kynon/R/x86_64-pc-linux-gnu-library/4.2/repr                 | FALSE | FALSE | 2023-01-26 | CRAN (R 4.2.2) | NA | /home/kynon/R/x86_64-pc-linux-gnu-library/4.2 |\n",
       "| rlang | rlang                | 1.0.6     | 1.0.6     | /home/kynon/R/x86_64-pc-linux-gnu-library/4.2/rlang                | /home/kynon/R/x86_64-pc-linux-gnu-library/4.2/rlang                | FALSE | FALSE | 2022-09-24 | CRAN (R 4.2.2) | NA | /home/kynon/R/x86_64-pc-linux-gnu-library/4.2 |\n",
       "| rprojroot | rprojroot            | 2.0.3     | 2.0.3     | /home/kynon/R/x86_64-pc-linux-gnu-library/4.2/rprojroot            | /home/kynon/R/x86_64-pc-linux-gnu-library/4.2/rprojroot            | FALSE | FALSE | 2022-04-02 | CRAN (R 4.2.1) | NA | /home/kynon/R/x86_64-pc-linux-gnu-library/4.2 |\n",
       "| S4Vectors | S4Vectors            | 0.36.1    | 0.36.1    | /home/kynon/R/x86_64-pc-linux-gnu-library/4.2/S4Vectors            | /home/kynon/R/x86_64-pc-linux-gnu-library/4.2/S4Vectors            |  TRUE | FALSE | 2022-12-05 | Bioconductor   | NA | /home/kynon/R/x86_64-pc-linux-gnu-library/4.2 |\n",
       "| scales | scales               | 1.2.1     | 1.2.1     | /home/kynon/R/x86_64-pc-linux-gnu-library/4.2/scales               | /home/kynon/R/x86_64-pc-linux-gnu-library/4.2/scales               | FALSE | FALSE | 2022-08-20 | CRAN (R 4.2.1) | NA | /home/kynon/R/x86_64-pc-linux-gnu-library/4.2 |\n",
       "| sessioninfo | sessioninfo          | 1.2.2     | 1.2.2     | /home/kynon/R/x86_64-pc-linux-gnu-library/4.2/sessioninfo          | /home/kynon/R/x86_64-pc-linux-gnu-library/4.2/sessioninfo          | FALSE | FALSE | 2021-12-06 | CRAN (R 4.2.2) | NA | /home/kynon/R/x86_64-pc-linux-gnu-library/4.2 |\n",
       "| SummarizedExperiment | SummarizedExperiment | 1.28.0    | 1.28.0    | /home/kynon/R/x86_64-pc-linux-gnu-library/4.2/SummarizedExperiment | /home/kynon/R/x86_64-pc-linux-gnu-library/4.2/SummarizedExperiment |  TRUE | FALSE | 2022-11-01 | Bioconductor   | NA | /home/kynon/R/x86_64-pc-linux-gnu-library/4.2 |\n",
       "| tibble | tibble               | 3.1.8     | 3.1.8     | /home/kynon/R/x86_64-pc-linux-gnu-library/4.2/tibble               | /home/kynon/R/x86_64-pc-linux-gnu-library/4.2/tibble               | FALSE | FALSE | 2022-07-22 | CRAN (R 4.2.1) | NA | /home/kynon/R/x86_64-pc-linux-gnu-library/4.2 |\n",
       "| tidyr | tidyr                | 1.3.0     | 1.3.0     | /home/kynon/R/x86_64-pc-linux-gnu-library/4.2/tidyr                | /home/kynon/R/x86_64-pc-linux-gnu-library/4.2/tidyr                | FALSE | FALSE | 2023-01-24 | CRAN (R 4.2.2) | NA | /home/kynon/R/x86_64-pc-linux-gnu-library/4.2 |\n",
       "| tidyselect | tidyselect           | 1.2.0     | 1.2.0     | /home/kynon/R/x86_64-pc-linux-gnu-library/4.2/tidyselect           | /home/kynon/R/x86_64-pc-linux-gnu-library/4.2/tidyselect           | FALSE | FALSE | 2022-10-10 | CRAN (R 4.2.2) | NA | /home/kynon/R/x86_64-pc-linux-gnu-library/4.2 |\n",
       "| utf8 | utf8                 | 1.2.3     | 1.2.3     | /home/kynon/R/x86_64-pc-linux-gnu-library/4.2/utf8                 | /home/kynon/R/x86_64-pc-linux-gnu-library/4.2/utf8                 | FALSE | FALSE | 2023-01-31 | CRAN (R 4.2.2) | NA | /home/kynon/R/x86_64-pc-linux-gnu-library/4.2 |\n",
       "| uuid | uuid                 | 1.1.0     | 1.1-0     | /home/kynon/R/x86_64-pc-linux-gnu-library/4.2/uuid                 | /home/kynon/R/x86_64-pc-linux-gnu-library/4.2/uuid                 | FALSE | FALSE | 2022-04-19 | CRAN (R 4.2.1) | NA | /home/kynon/R/x86_64-pc-linux-gnu-library/4.2 |\n",
       "| vctrs | vctrs                | 0.5.2     | 0.5.2     | /home/kynon/R/x86_64-pc-linux-gnu-library/4.2/vctrs                | /home/kynon/R/x86_64-pc-linux-gnu-library/4.2/vctrs                | FALSE | FALSE | 2023-01-23 | CRAN (R 4.2.2) | NA | /home/kynon/R/x86_64-pc-linux-gnu-library/4.2 |\n",
       "| withr | withr                | 2.5.0     | 2.5.0     | /home/kynon/R/x86_64-pc-linux-gnu-library/4.2/withr                | /home/kynon/R/x86_64-pc-linux-gnu-library/4.2/withr                | FALSE | FALSE | 2022-03-03 | CRAN (R 4.2.1) | NA | /home/kynon/R/x86_64-pc-linux-gnu-library/4.2 |\n",
       "| XVector | XVector              | 0.38.0    | 0.38.0    | /home/kynon/R/x86_64-pc-linux-gnu-library/4.2/XVector              | /home/kynon/R/x86_64-pc-linux-gnu-library/4.2/XVector              | FALSE | FALSE | 2022-11-01 | Bioconductor   | NA | /home/kynon/R/x86_64-pc-linux-gnu-library/4.2 |\n",
       "| zlibbioc | zlibbioc             | 1.44.0    | 1.44.0    | /home/kynon/R/x86_64-pc-linux-gnu-library/4.2/zlibbioc             | /home/kynon/R/x86_64-pc-linux-gnu-library/4.2/zlibbioc             | FALSE | FALSE | 2022-11-01 | Bioconductor   | NA | /home/kynon/R/x86_64-pc-linux-gnu-library/4.2 |\n",
       "\n"
      ],
      "text/plain": [
       "                     package              ondiskversion loadedversion\n",
       "base64enc            base64enc            0.1.3         0.1-3        \n",
       "Biobase              Biobase              2.58.0        2.58.0       \n",
       "BiocGenerics         BiocGenerics         0.44.0        0.44.0       \n",
       "bitops               bitops               1.0.7         1.0-7        \n",
       "cli                  cli                  3.6.0         3.6.0        \n",
       "colorspace           colorspace           2.1.0         2.1-0        \n",
       "corrr                corrr                0.4.4         0.4.4        \n",
       "crayon               crayon               1.5.2         1.5.2        \n",
       "data.table           data.table           1.14.6        1.14.6       \n",
       "DelayedArray         DelayedArray         0.24.0        0.24.0       \n",
       "digest               digest               0.6.31        0.6.31       \n",
       "dplyr                dplyr                1.1.0         1.1.0        \n",
       "evaluate             evaluate             0.20          0.20         \n",
       "fansi                fansi                1.0.4         1.0.4        \n",
       "fastmap              fastmap              1.1.0         1.1.0        \n",
       "generics             generics             0.1.3         0.1.3        \n",
       "GenomeInfoDb         GenomeInfoDb         1.34.9        1.34.9       \n",
       "GenomeInfoDbData     GenomeInfoDbData     1.2.9         1.2.9        \n",
       "GenomicRanges        GenomicRanges        1.50.2        1.50.2       \n",
       "ggplot2              ggplot2              3.4.1         3.4.1        \n",
       "glue                 glue                 1.6.2         1.6.2        \n",
       "gtable               gtable               0.3.1         0.3.1        \n",
       "here                 here                 1.0.1         1.0.1        \n",
       "htmltools            htmltools            0.5.4         0.5.4        \n",
       "IRanges              IRanges              2.32.0        2.32.0       \n",
       "IRdisplay            IRdisplay            1.1           1.1          \n",
       "IRkernel             IRkernel             1.3.2         1.3.2        \n",
       "jsonlite             jsonlite             1.8.4         1.8.4        \n",
       "lattice              lattice              0.20.45       0.20-45      \n",
       "lifecycle            lifecycle            1.0.3         1.0.3        \n",
       "magrittr             magrittr             2.0.3         2.0.3        \n",
       "Matrix               Matrix               1.5.3         1.5-3        \n",
       "MatrixGenerics       MatrixGenerics       1.10.0        1.10.0       \n",
       "matrixStats          matrixStats          0.63.0        0.63.0       \n",
       "munsell              munsell              0.5.0         0.5.0        \n",
       "pbdZMQ               pbdZMQ               0.3.9         0.3-9        \n",
       "pillar               pillar               1.8.1         1.8.1        \n",
       "pkgconfig            pkgconfig            2.0.3         2.0.3        \n",
       "purrr                purrr                1.0.1         1.0.1        \n",
       "R6                   R6                   2.5.1         2.5.1        \n",
       "RCurl                RCurl                1.98.1.10     1.98-1.10    \n",
       "repr                 repr                 1.1.6         1.1.6        \n",
       "rlang                rlang                1.0.6         1.0.6        \n",
       "rprojroot            rprojroot            2.0.3         2.0.3        \n",
       "S4Vectors            S4Vectors            0.36.1        0.36.1       \n",
       "scales               scales               1.2.1         1.2.1        \n",
       "sessioninfo          sessioninfo          1.2.2         1.2.2        \n",
       "SummarizedExperiment SummarizedExperiment 1.28.0        1.28.0       \n",
       "tibble               tibble               3.1.8         3.1.8        \n",
       "tidyr                tidyr                1.3.0         1.3.0        \n",
       "tidyselect           tidyselect           1.2.0         1.2.0        \n",
       "utf8                 utf8                 1.2.3         1.2.3        \n",
       "uuid                 uuid                 1.1.0         1.1-0        \n",
       "vctrs                vctrs                0.5.2         0.5.2        \n",
       "withr                withr                2.5.0         2.5.0        \n",
       "XVector              XVector              0.38.0        0.38.0       \n",
       "zlibbioc             zlibbioc             1.44.0        1.44.0       \n",
       "                     path                                                              \n",
       "base64enc            /home/kynon/R/x86_64-pc-linux-gnu-library/4.2/base64enc           \n",
       "Biobase              /home/kynon/R/x86_64-pc-linux-gnu-library/4.2/Biobase             \n",
       "BiocGenerics         /home/kynon/R/x86_64-pc-linux-gnu-library/4.2/BiocGenerics        \n",
       "bitops               /home/kynon/R/x86_64-pc-linux-gnu-library/4.2/bitops              \n",
       "cli                  /home/kynon/R/x86_64-pc-linux-gnu-library/4.2/cli                 \n",
       "colorspace           /home/kynon/R/x86_64-pc-linux-gnu-library/4.2/colorspace          \n",
       "corrr                /home/kynon/R/x86_64-pc-linux-gnu-library/4.2/corrr               \n",
       "crayon               /home/kynon/R/x86_64-pc-linux-gnu-library/4.2/crayon              \n",
       "data.table           /home/kynon/R/x86_64-pc-linux-gnu-library/4.2/data.table          \n",
       "DelayedArray         /home/kynon/R/x86_64-pc-linux-gnu-library/4.2/DelayedArray        \n",
       "digest               /home/kynon/R/x86_64-pc-linux-gnu-library/4.2/digest              \n",
       "dplyr                /home/kynon/R/x86_64-pc-linux-gnu-library/4.2/dplyr               \n",
       "evaluate             /home/kynon/R/x86_64-pc-linux-gnu-library/4.2/evaluate            \n",
       "fansi                /home/kynon/R/x86_64-pc-linux-gnu-library/4.2/fansi               \n",
       "fastmap              /home/kynon/R/x86_64-pc-linux-gnu-library/4.2/fastmap             \n",
       "generics             /home/kynon/R/x86_64-pc-linux-gnu-library/4.2/generics            \n",
       "GenomeInfoDb         /home/kynon/R/x86_64-pc-linux-gnu-library/4.2/GenomeInfoDb        \n",
       "GenomeInfoDbData     /home/kynon/R/x86_64-pc-linux-gnu-library/4.2/GenomeInfoDbData    \n",
       "GenomicRanges        /home/kynon/R/x86_64-pc-linux-gnu-library/4.2/GenomicRanges       \n",
       "ggplot2              /home/kynon/R/x86_64-pc-linux-gnu-library/4.2/ggplot2             \n",
       "glue                 /home/kynon/R/x86_64-pc-linux-gnu-library/4.2/glue                \n",
       "gtable               /home/kynon/R/x86_64-pc-linux-gnu-library/4.2/gtable              \n",
       "here                 /home/kynon/R/x86_64-pc-linux-gnu-library/4.2/here                \n",
       "htmltools            /home/kynon/R/x86_64-pc-linux-gnu-library/4.2/htmltools           \n",
       "IRanges              /home/kynon/R/x86_64-pc-linux-gnu-library/4.2/IRanges             \n",
       "IRdisplay            /home/kynon/R/x86_64-pc-linux-gnu-library/4.2/IRdisplay           \n",
       "IRkernel             /home/kynon/R/x86_64-pc-linux-gnu-library/4.2/IRkernel            \n",
       "jsonlite             /home/kynon/R/x86_64-pc-linux-gnu-library/4.2/jsonlite            \n",
       "lattice              /usr/lib/R/library/lattice                                        \n",
       "lifecycle            /home/kynon/R/x86_64-pc-linux-gnu-library/4.2/lifecycle           \n",
       "magrittr             /home/kynon/R/x86_64-pc-linux-gnu-library/4.2/magrittr            \n",
       "Matrix               /home/kynon/R/x86_64-pc-linux-gnu-library/4.2/Matrix              \n",
       "MatrixGenerics       /home/kynon/R/x86_64-pc-linux-gnu-library/4.2/MatrixGenerics      \n",
       "matrixStats          /home/kynon/R/x86_64-pc-linux-gnu-library/4.2/matrixStats         \n",
       "munsell              /home/kynon/R/x86_64-pc-linux-gnu-library/4.2/munsell             \n",
       "pbdZMQ               /home/kynon/R/x86_64-pc-linux-gnu-library/4.2/pbdZMQ              \n",
       "pillar               /home/kynon/R/x86_64-pc-linux-gnu-library/4.2/pillar              \n",
       "pkgconfig            /home/kynon/R/x86_64-pc-linux-gnu-library/4.2/pkgconfig           \n",
       "purrr                /home/kynon/R/x86_64-pc-linux-gnu-library/4.2/purrr               \n",
       "R6                   /home/kynon/R/x86_64-pc-linux-gnu-library/4.2/R6                  \n",
       "RCurl                /home/kynon/R/x86_64-pc-linux-gnu-library/4.2/RCurl               \n",
       "repr                 /home/kynon/R/x86_64-pc-linux-gnu-library/4.2/repr                \n",
       "rlang                /home/kynon/R/x86_64-pc-linux-gnu-library/4.2/rlang               \n",
       "rprojroot            /home/kynon/R/x86_64-pc-linux-gnu-library/4.2/rprojroot           \n",
       "S4Vectors            /home/kynon/R/x86_64-pc-linux-gnu-library/4.2/S4Vectors           \n",
       "scales               /home/kynon/R/x86_64-pc-linux-gnu-library/4.2/scales              \n",
       "sessioninfo          /home/kynon/R/x86_64-pc-linux-gnu-library/4.2/sessioninfo         \n",
       "SummarizedExperiment /home/kynon/R/x86_64-pc-linux-gnu-library/4.2/SummarizedExperiment\n",
       "tibble               /home/kynon/R/x86_64-pc-linux-gnu-library/4.2/tibble              \n",
       "tidyr                /home/kynon/R/x86_64-pc-linux-gnu-library/4.2/tidyr               \n",
       "tidyselect           /home/kynon/R/x86_64-pc-linux-gnu-library/4.2/tidyselect          \n",
       "utf8                 /home/kynon/R/x86_64-pc-linux-gnu-library/4.2/utf8                \n",
       "uuid                 /home/kynon/R/x86_64-pc-linux-gnu-library/4.2/uuid                \n",
       "vctrs                /home/kynon/R/x86_64-pc-linux-gnu-library/4.2/vctrs               \n",
       "withr                /home/kynon/R/x86_64-pc-linux-gnu-library/4.2/withr               \n",
       "XVector              /home/kynon/R/x86_64-pc-linux-gnu-library/4.2/XVector             \n",
       "zlibbioc             /home/kynon/R/x86_64-pc-linux-gnu-library/4.2/zlibbioc            \n",
       "                     loadedpath                                                         attached is_base date      \n",
       "base64enc            /home/kynon/R/x86_64-pc-linux-gnu-library/4.2/base64enc            FALSE    FALSE   2015-07-28\n",
       "Biobase              /home/kynon/R/x86_64-pc-linux-gnu-library/4.2/Biobase               TRUE    FALSE   2022-11-01\n",
       "BiocGenerics         /home/kynon/R/x86_64-pc-linux-gnu-library/4.2/BiocGenerics          TRUE    FALSE   2022-11-01\n",
       "bitops               /home/kynon/R/x86_64-pc-linux-gnu-library/4.2/bitops               FALSE    FALSE   2021-04-24\n",
       "cli                  /home/kynon/R/x86_64-pc-linux-gnu-library/4.2/cli                  FALSE    FALSE   2023-01-09\n",
       "colorspace           /home/kynon/R/x86_64-pc-linux-gnu-library/4.2/colorspace           FALSE    FALSE   2023-01-23\n",
       "corrr                /home/kynon/R/x86_64-pc-linux-gnu-library/4.2/corrr                FALSE    FALSE   2022-08-16\n",
       "crayon               /home/kynon/R/x86_64-pc-linux-gnu-library/4.2/crayon               FALSE    FALSE   2022-09-29\n",
       "data.table           /home/kynon/R/x86_64-pc-linux-gnu-library/4.2/data.table           FALSE    FALSE   2022-11-16\n",
       "DelayedArray         /home/kynon/R/x86_64-pc-linux-gnu-library/4.2/DelayedArray         FALSE    FALSE   2022-11-01\n",
       "digest               /home/kynon/R/x86_64-pc-linux-gnu-library/4.2/digest               FALSE    FALSE   2022-12-11\n",
       "dplyr                /home/kynon/R/x86_64-pc-linux-gnu-library/4.2/dplyr                 TRUE    FALSE   2023-01-29\n",
       "evaluate             /home/kynon/R/x86_64-pc-linux-gnu-library/4.2/evaluate             FALSE    FALSE   2023-01-17\n",
       "fansi                /home/kynon/R/x86_64-pc-linux-gnu-library/4.2/fansi                FALSE    FALSE   2023-01-22\n",
       "fastmap              /home/kynon/R/x86_64-pc-linux-gnu-library/4.2/fastmap              FALSE    FALSE   2021-01-25\n",
       "generics             /home/kynon/R/x86_64-pc-linux-gnu-library/4.2/generics             FALSE    FALSE   2022-07-05\n",
       "GenomeInfoDb         /home/kynon/R/x86_64-pc-linux-gnu-library/4.2/GenomeInfoDb          TRUE    FALSE   2023-02-02\n",
       "GenomeInfoDbData     /home/kynon/R/x86_64-pc-linux-gnu-library/4.2/GenomeInfoDbData     FALSE    FALSE   2023-02-13\n",
       "GenomicRanges        /home/kynon/R/x86_64-pc-linux-gnu-library/4.2/GenomicRanges         TRUE    FALSE   2022-12-16\n",
       "ggplot2              /home/kynon/R/x86_64-pc-linux-gnu-library/4.2/ggplot2              FALSE    FALSE   2023-02-10\n",
       "glue                 /home/kynon/R/x86_64-pc-linux-gnu-library/4.2/glue                 FALSE    FALSE   2022-02-24\n",
       "gtable               /home/kynon/R/x86_64-pc-linux-gnu-library/4.2/gtable               FALSE    FALSE   2022-09-01\n",
       "here                 /home/kynon/R/x86_64-pc-linux-gnu-library/4.2/here                  TRUE    FALSE   2020-12-13\n",
       "htmltools            /home/kynon/R/x86_64-pc-linux-gnu-library/4.2/htmltools            FALSE    FALSE   2022-12-07\n",
       "IRanges              /home/kynon/R/x86_64-pc-linux-gnu-library/4.2/IRanges               TRUE    FALSE   2022-11-01\n",
       "IRdisplay            /home/kynon/R/x86_64-pc-linux-gnu-library/4.2/IRdisplay            FALSE    FALSE   2022-01-04\n",
       "IRkernel             /home/kynon/R/x86_64-pc-linux-gnu-library/4.2/IRkernel             FALSE    FALSE   2023-01-20\n",
       "jsonlite             /home/kynon/R/x86_64-pc-linux-gnu-library/4.2/jsonlite             FALSE    FALSE   2022-12-06\n",
       "lattice              /usr/lib/R/library/lattice                                         FALSE    FALSE   2021-09-22\n",
       "lifecycle            /home/kynon/R/x86_64-pc-linux-gnu-library/4.2/lifecycle            FALSE    FALSE   2022-10-07\n",
       "magrittr             /home/kynon/R/x86_64-pc-linux-gnu-library/4.2/magrittr             FALSE    FALSE   2022-03-30\n",
       "Matrix               /home/kynon/R/x86_64-pc-linux-gnu-library/4.2/Matrix               FALSE    FALSE   2022-11-11\n",
       "MatrixGenerics       /home/kynon/R/x86_64-pc-linux-gnu-library/4.2/MatrixGenerics        TRUE    FALSE   2022-11-01\n",
       "matrixStats          /home/kynon/R/x86_64-pc-linux-gnu-library/4.2/matrixStats           TRUE    FALSE   2022-11-18\n",
       "munsell              /home/kynon/R/x86_64-pc-linux-gnu-library/4.2/munsell              FALSE    FALSE   2018-06-12\n",
       "pbdZMQ               /home/kynon/R/x86_64-pc-linux-gnu-library/4.2/pbdZMQ               FALSE    FALSE   2023-01-21\n",
       "pillar               /home/kynon/R/x86_64-pc-linux-gnu-library/4.2/pillar               FALSE    FALSE   2022-08-19\n",
       "pkgconfig            /home/kynon/R/x86_64-pc-linux-gnu-library/4.2/pkgconfig            FALSE    FALSE   2019-09-22\n",
       "purrr                /home/kynon/R/x86_64-pc-linux-gnu-library/4.2/purrr                FALSE    FALSE   2023-01-10\n",
       "R6                   /home/kynon/R/x86_64-pc-linux-gnu-library/4.2/R6                   FALSE    FALSE   2021-08-19\n",
       "RCurl                /home/kynon/R/x86_64-pc-linux-gnu-library/4.2/RCurl                FALSE    FALSE   2023-01-27\n",
       "repr                 /home/kynon/R/x86_64-pc-linux-gnu-library/4.2/repr                 FALSE    FALSE   2023-01-26\n",
       "rlang                /home/kynon/R/x86_64-pc-linux-gnu-library/4.2/rlang                FALSE    FALSE   2022-09-24\n",
       "rprojroot            /home/kynon/R/x86_64-pc-linux-gnu-library/4.2/rprojroot            FALSE    FALSE   2022-04-02\n",
       "S4Vectors            /home/kynon/R/x86_64-pc-linux-gnu-library/4.2/S4Vectors             TRUE    FALSE   2022-12-05\n",
       "scales               /home/kynon/R/x86_64-pc-linux-gnu-library/4.2/scales               FALSE    FALSE   2022-08-20\n",
       "sessioninfo          /home/kynon/R/x86_64-pc-linux-gnu-library/4.2/sessioninfo          FALSE    FALSE   2021-12-06\n",
       "SummarizedExperiment /home/kynon/R/x86_64-pc-linux-gnu-library/4.2/SummarizedExperiment  TRUE    FALSE   2022-11-01\n",
       "tibble               /home/kynon/R/x86_64-pc-linux-gnu-library/4.2/tibble               FALSE    FALSE   2022-07-22\n",
       "tidyr                /home/kynon/R/x86_64-pc-linux-gnu-library/4.2/tidyr                FALSE    FALSE   2023-01-24\n",
       "tidyselect           /home/kynon/R/x86_64-pc-linux-gnu-library/4.2/tidyselect           FALSE    FALSE   2022-10-10\n",
       "utf8                 /home/kynon/R/x86_64-pc-linux-gnu-library/4.2/utf8                 FALSE    FALSE   2023-01-31\n",
       "uuid                 /home/kynon/R/x86_64-pc-linux-gnu-library/4.2/uuid                 FALSE    FALSE   2022-04-19\n",
       "vctrs                /home/kynon/R/x86_64-pc-linux-gnu-library/4.2/vctrs                FALSE    FALSE   2023-01-23\n",
       "withr                /home/kynon/R/x86_64-pc-linux-gnu-library/4.2/withr                FALSE    FALSE   2022-03-03\n",
       "XVector              /home/kynon/R/x86_64-pc-linux-gnu-library/4.2/XVector              FALSE    FALSE   2022-11-01\n",
       "zlibbioc             /home/kynon/R/x86_64-pc-linux-gnu-library/4.2/zlibbioc             FALSE    FALSE   2022-11-01\n",
       "                     source         md5ok library                                      \n",
       "base64enc            CRAN (R 4.2.1) NA    /home/kynon/R/x86_64-pc-linux-gnu-library/4.2\n",
       "Biobase              Bioconductor   NA    /home/kynon/R/x86_64-pc-linux-gnu-library/4.2\n",
       "BiocGenerics         Bioconductor   NA    /home/kynon/R/x86_64-pc-linux-gnu-library/4.2\n",
       "bitops               CRAN (R 4.2.2) NA    /home/kynon/R/x86_64-pc-linux-gnu-library/4.2\n",
       "cli                  CRAN (R 4.2.2) NA    /home/kynon/R/x86_64-pc-linux-gnu-library/4.2\n",
       "colorspace           CRAN (R 4.2.2) NA    /home/kynon/R/x86_64-pc-linux-gnu-library/4.2\n",
       "corrr                CRAN (R 4.2.2) NA    /home/kynon/R/x86_64-pc-linux-gnu-library/4.2\n",
       "crayon               CRAN (R 4.2.2) NA    /home/kynon/R/x86_64-pc-linux-gnu-library/4.2\n",
       "data.table           CRAN (R 4.2.2) NA    /home/kynon/R/x86_64-pc-linux-gnu-library/4.2\n",
       "DelayedArray         Bioconductor   NA    /home/kynon/R/x86_64-pc-linux-gnu-library/4.2\n",
       "digest               CRAN (R 4.2.2) NA    /home/kynon/R/x86_64-pc-linux-gnu-library/4.2\n",
       "dplyr                CRAN (R 4.2.2) NA    /home/kynon/R/x86_64-pc-linux-gnu-library/4.2\n",
       "evaluate             CRAN (R 4.2.2) NA    /home/kynon/R/x86_64-pc-linux-gnu-library/4.2\n",
       "fansi                CRAN (R 4.2.2) NA    /home/kynon/R/x86_64-pc-linux-gnu-library/4.2\n",
       "fastmap              CRAN (R 4.2.1) NA    /home/kynon/R/x86_64-pc-linux-gnu-library/4.2\n",
       "generics             CRAN (R 4.2.1) NA    /home/kynon/R/x86_64-pc-linux-gnu-library/4.2\n",
       "GenomeInfoDb         Bioconductor   NA    /home/kynon/R/x86_64-pc-linux-gnu-library/4.2\n",
       "GenomeInfoDbData     Bioconductor   NA    /home/kynon/R/x86_64-pc-linux-gnu-library/4.2\n",
       "GenomicRanges        Bioconductor   NA    /home/kynon/R/x86_64-pc-linux-gnu-library/4.2\n",
       "ggplot2              CRAN (R 4.2.2) NA    /home/kynon/R/x86_64-pc-linux-gnu-library/4.2\n",
       "glue                 CRAN (R 4.2.1) NA    /home/kynon/R/x86_64-pc-linux-gnu-library/4.2\n",
       "gtable               CRAN (R 4.2.1) NA    /home/kynon/R/x86_64-pc-linux-gnu-library/4.2\n",
       "here                 CRAN (R 4.2.2) NA    /home/kynon/R/x86_64-pc-linux-gnu-library/4.2\n",
       "htmltools            CRAN (R 4.2.2) NA    /home/kynon/R/x86_64-pc-linux-gnu-library/4.2\n",
       "IRanges              Bioconductor   NA    /home/kynon/R/x86_64-pc-linux-gnu-library/4.2\n",
       "IRdisplay            CRAN (R 4.2.1) NA    /home/kynon/R/x86_64-pc-linux-gnu-library/4.2\n",
       "IRkernel             CRAN (R 4.2.2) NA    /home/kynon/R/x86_64-pc-linux-gnu-library/4.2\n",
       "jsonlite             CRAN (R 4.2.2) NA    /home/kynon/R/x86_64-pc-linux-gnu-library/4.2\n",
       "lattice              CRAN (R 4.2.2) NA    /usr/lib/R/library                           \n",
       "lifecycle            CRAN (R 4.2.2) NA    /home/kynon/R/x86_64-pc-linux-gnu-library/4.2\n",
       "magrittr             CRAN (R 4.2.1) NA    /home/kynon/R/x86_64-pc-linux-gnu-library/4.2\n",
       "Matrix               CRAN (R 4.2.2) NA    /home/kynon/R/x86_64-pc-linux-gnu-library/4.2\n",
       "MatrixGenerics       Bioconductor   NA    /home/kynon/R/x86_64-pc-linux-gnu-library/4.2\n",
       "matrixStats          CRAN (R 4.2.2) NA    /home/kynon/R/x86_64-pc-linux-gnu-library/4.2\n",
       "munsell              CRAN (R 4.2.1) NA    /home/kynon/R/x86_64-pc-linux-gnu-library/4.2\n",
       "pbdZMQ               CRAN (R 4.2.2) NA    /home/kynon/R/x86_64-pc-linux-gnu-library/4.2\n",
       "pillar               CRAN (R 4.2.1) NA    /home/kynon/R/x86_64-pc-linux-gnu-library/4.2\n",
       "pkgconfig            CRAN (R 4.2.1) NA    /home/kynon/R/x86_64-pc-linux-gnu-library/4.2\n",
       "purrr                CRAN (R 4.2.2) NA    /home/kynon/R/x86_64-pc-linux-gnu-library/4.2\n",
       "R6                   CRAN (R 4.2.1) NA    /home/kynon/R/x86_64-pc-linux-gnu-library/4.2\n",
       "RCurl                CRAN (R 4.2.2) NA    /home/kynon/R/x86_64-pc-linux-gnu-library/4.2\n",
       "repr                 CRAN (R 4.2.2) NA    /home/kynon/R/x86_64-pc-linux-gnu-library/4.2\n",
       "rlang                CRAN (R 4.2.2) NA    /home/kynon/R/x86_64-pc-linux-gnu-library/4.2\n",
       "rprojroot            CRAN (R 4.2.1) NA    /home/kynon/R/x86_64-pc-linux-gnu-library/4.2\n",
       "S4Vectors            Bioconductor   NA    /home/kynon/R/x86_64-pc-linux-gnu-library/4.2\n",
       "scales               CRAN (R 4.2.1) NA    /home/kynon/R/x86_64-pc-linux-gnu-library/4.2\n",
       "sessioninfo          CRAN (R 4.2.2) NA    /home/kynon/R/x86_64-pc-linux-gnu-library/4.2\n",
       "SummarizedExperiment Bioconductor   NA    /home/kynon/R/x86_64-pc-linux-gnu-library/4.2\n",
       "tibble               CRAN (R 4.2.1) NA    /home/kynon/R/x86_64-pc-linux-gnu-library/4.2\n",
       "tidyr                CRAN (R 4.2.2) NA    /home/kynon/R/x86_64-pc-linux-gnu-library/4.2\n",
       "tidyselect           CRAN (R 4.2.2) NA    /home/kynon/R/x86_64-pc-linux-gnu-library/4.2\n",
       "utf8                 CRAN (R 4.2.2) NA    /home/kynon/R/x86_64-pc-linux-gnu-library/4.2\n",
       "uuid                 CRAN (R 4.2.1) NA    /home/kynon/R/x86_64-pc-linux-gnu-library/4.2\n",
       "vctrs                CRAN (R 4.2.2) NA    /home/kynon/R/x86_64-pc-linux-gnu-library/4.2\n",
       "withr                CRAN (R 4.2.1) NA    /home/kynon/R/x86_64-pc-linux-gnu-library/4.2\n",
       "XVector              Bioconductor   NA    /home/kynon/R/x86_64-pc-linux-gnu-library/4.2\n",
       "zlibbioc             Bioconductor   NA    /home/kynon/R/x86_64-pc-linux-gnu-library/4.2"
      ]
     },
     "metadata": {},
     "output_type": "display_data"
    }
   ],
   "source": [
    "Sys.time()\n",
    "proc.time()\n",
    "options(width = 120)\n",
    "sessioninfo::session_info()$platform\n",
    "sessioninfo::session_info()$packages"
   ]
  }
 ],
 "metadata": {
  "kernelspec": {
   "display_name": "R",
   "language": "R",
   "name": "ir"
  },
  "language_info": {
   "codemirror_mode": "r",
   "file_extension": ".r",
   "mimetype": "text/x-r-source",
   "name": "R",
   "pygments_lexer": "r",
   "version": "4.2.2"
  }
 },
 "nbformat": 4,
 "nbformat_minor": 5
}
