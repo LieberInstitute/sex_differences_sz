{
 "cells": [
  {
   "cell_type": "markdown",
   "id": "d6b3f1a0-b018-4552-a764-1a7f246ed377",
   "metadata": {},
   "source": [
    "# Examining covariants for potential confounders"
   ]
  },
  {
   "cell_type": "code",
   "execution_count": null,
   "id": "32dc0695-0c1e-4453-aa57-2b7b398c8c6e",
   "metadata": {},
   "outputs": [],
   "source": [
    "suppressPackageStartupMessages({\n",
    "    library(here)\n",
    "    library(dplyr)\n",
    "    library(ggplot2)\n",
    "})"
   ]
  },
  {
   "cell_type": "markdown",
   "id": "ab6b81ef-fe3d-4a92-bb1a-a7000fe55e28",
   "metadata": {},
   "source": [
    "## Functions"
   ]
  },
  {
   "cell_type": "markdown",
   "id": "5679a481-ef68-4486-8d77-bf95a0de7a92",
   "metadata": {},
   "source": [
    "### Cached functions"
   ]
  },
  {
   "cell_type": "code",
   "execution_count": null,
   "id": "3e2c0bd2-477c-479c-ab91-7c2b16c729c1",
   "metadata": {},
   "outputs": [],
   "source": [
    "pca_norm_data <- function(region){\n",
    "    new_region = tolower(region)\n",
    "    ## Load voom normalized data\n",
    "    load(here(\"differential_expression\", new_region, \n",
    "              \"_m/genes/voomSVA.RData\"))\n",
    "    ## Transpose expression\n",
    "    norm_df = v$E |> t()\n",
    "    ## Calculate PCA\n",
    "    pca_df = prcomp(norm_df, center=TRUE)$x[, 1:20]\n",
    "    ## Convert to data frame\n",
    "    norm_dt = as.data.frame(pca_df) |> tibble::rownames_to_column(\"RNum\") |>\n",
    "        tidyr::pivot_longer(-RNum, names_to=\"PC\", values_to=\"PC_values\") |>\n",
    "        mutate_if(is.character, as.factor)\n",
    "    return(norm_dt)\n",
    "}\n",
    "memNORM <- memoise::memoise(pca_norm_data)\n",
    "\n",
    "pca_res_data <- function(region){\n",
    "    new_region = tolower(region)\n",
    "    ## Read in residualized data\n",
    "    fname = here(\"differential_expression\", new_region,\n",
    "                 \"_m/genes/residualized_expression.tsv\")\n",
    "    res_df = data.table::fread(fname) |> \n",
    "        tibble::column_to_rownames(\"feature_id\") |> t()\n",
    "    ## Calculate PCA\n",
    "    pca_df = prcomp(res_df, center=TRUE)$x[, 1:20]\n",
    "    res_dt = as.data.frame(pca_df) |> tibble::rownames_to_column(\"RNum\") |>\n",
    "        tidyr::pivot_longer(-RNum, names_to=\"PC\", values_to=\"PC_values\") |>\n",
    "        mutate_if(is.character, as.factor)\n",
    "    return(res_dt)\n",
    "}\n",
    "memRES <- memoise::memoise(pca_res_data)"
   ]
  },
  {
   "cell_type": "code",
   "execution_count": null,
   "id": "063d5039-7353-4aa5-b871-e2ad8d0fe74f",
   "metadata": {},
   "outputs": [],
   "source": [
    "#get_pheno <- function(region){\n",
    "#    vars <- data.table::fread(\"../../_m/shared_variables.tsv\")\n",
    "#    pheno_file <- here(\"input/phenotypes/_m/phenotypes.csv\")\n",
    "#    pheno_df <- data.table::fread(pheno_file) |> select(all_of(vars$Variables)) |>\n",
    "#        filter(Region == region, Age > 17, Dx %in% c(\"Control\", \"SCZD\")) |>\n",
    "#        select(-c(\"SAMPLE_ID\", \"BrNum\", \"Region\", \"Dataset\", \"IID\", \n",
    "#                  \"SOL\", \"Read_Length\", \"Protocol\")) |>\n",
    "#        distinct(RNum, .keep_all = TRUE) |> tibble::column_to_rownames(\"RNum\") |>\n",
    "#        mutate(across(where(is.character), as.factor)) |>\n",
    "#        mutate(across(where(is.factor), as.numeric)) |>\n",
    "#        mutate(across(where(is.logical), as.numeric)) |>\n",
    "#        tibble::rownames_to_column(\"RNum\") |>\n",
    "#        tidyr::pivot_longer(!RNum, names_to=\"Covariate\", values_to=\"Variable\")\n",
    "#    return(pheno_df)\n",
    "#}\n",
    "#memPHENO <- memoise::memoise(get_pheno)\n",
    "\n",
    "get_pheno <- function(region){\n",
    "    new_region = tolower(region)\n",
    "    vars <- data.table::fread(\"../../_m/shared_variables.tsv\")\n",
    "    load(here(\"differential_expression\", new_region, \"/_m/genes/voomSVA.RData\"))\n",
    "    dfx = v$design |> as.data.frame() |> select(starts_with(\"sv\")) |>\n",
    "        tibble::rownames_to_column(\"RNum\") |>\n",
    "        tidyr::pivot_longer(!RNum, names_to=\"Covariate\", values_to=\"Variable\")\n",
    "    dfx$Covariate <- factor(dfx$Covariate, levels = paste0('sv', 1:10))\n",
    "    dfy = v$targets |> as.data.frame() |> distinct(RNum, .keep_all = TRUE) |>\n",
    "        select(all_of(vars$Variables)) |> #tibble::column_to_rownames(\"RNum\") |>\n",
    "        select(-c(\"SAMPLE_ID\", \"RNum\", \"BrNum\", \"Region\", \"Dataset\", \"IID\", \n",
    "                  \"SOL\", \"Read_Length\", \"Protocol\")) |>\n",
    "        mutate(across(where(is.character), as.factor)) |>\n",
    "        mutate(across(where(is.factor), as.numeric)) |>\n",
    "        mutate(across(where(is.logical), as.numeric))\n",
    "    dfy = dfy |> tibble::rownames_to_column(\"RNum\") |>\n",
    "        tidyr::pivot_longer(!RNum, names_to=\"Covariate\", values_to=\"Variable\")\n",
    "    return(bind_rows(dfy, dfx) |> mutate_if(is.character, as.factor))\n",
    "}\n",
    "memPHENO <- memoise::memoise(get_pheno)"
   ]
  },
  {
   "cell_type": "code",
   "execution_count": null,
   "id": "67f23f4f-8c10-4612-b2ee-70a58829a1de",
   "metadata": {},
   "outputs": [],
   "source": [
    "merge_expr <- function(region, fnc){\n",
    "    df <- inner_join(memPHENO(region), fnc(region), by=\"RNum\", multiple = \"all\")\n",
    "    df$PC <- factor(df$PC, levels = paste0('PC', 1:50))\n",
    "    dfx = df |> filter(!grepl(\"sv\", Covariate)) |>\n",
    "        mutate(Covariate=droplevels(Covariate))\n",
    "    dfy = df |> filter(grepl(\"sv\", Covariate)) |>\n",
    "        mutate(Covariate=droplevels(Covariate))\n",
    "    dfy$Covariate = factor(dfy$Covariate, levels = paste0(\"sv\", 1:10))\n",
    "    levels(dfy$Covariate) <- paste0(\"sv\", 1:10)\n",
    "    return(bind_rows(dfx,dfy) |> mutate_if(is.character, as.factor))\n",
    "}\n",
    "memEXPR <- memoise::memoise(merge_expr)\n",
    "\n",
    "merge_covars <- function(region){\n",
    "    df0 <- memPHENO(region)\n",
    "    dfx = df0 |> filter(!grepl(\"sv\", Covariate)) |>\n",
    "        mutate(Covariate=droplevels(Covariate))\n",
    "    dfy = df0 |> filter(grepl(\"sv\", Covariate)) |>\n",
    "        mutate(Covariate=droplevels(Covariate))\n",
    "    dfy$Covariate = factor(dfy$Covariate, levels = paste0(\"sv\", 1:10))\n",
    "    levels(dfy$Covariate) <- paste0(\"sv\", 1:10)\n",
    "    df = bind_rows(dfx,dfy)\n",
    "    return(inner_join(df, df, by=\"RNum\", multiple = \"all\") |> \n",
    "           mutate_if(is.character, as.factor))\n",
    "}\n",
    "memCOVARS <- memoise::memoise(merge_covars)"
   ]
  },
  {
   "cell_type": "markdown",
   "id": "75515bd9-b4f7-4b29-b4c9-ddaf674b2616",
   "metadata": {},
   "source": [
    "### Simple functions"
   ]
  },
  {
   "cell_type": "code",
   "execution_count": null,
   "id": "b342a5e8-18c7-4842-87f5-bc2996fb16b5",
   "metadata": {},
   "outputs": [],
   "source": [
    "save_img <- function(image, fn, w=14, h=7){\n",
    "    for(ext in c(\".svg\", \".pdf\")){\n",
    "        ggsave(file=paste0(fn, ext), plot=image, width=w, height=h)\n",
    "    }\n",
    "}\n",
    "\n",
    "fit_model <- function(region, norm, identity){\n",
    "    if(identity){\n",
    "        est_fit0 <- memCOVARS(region) |>\n",
    "            group_by(Covariate.x, Covariate.y) |>\n",
    "            reframe(fitEST = broom::tidy(lm(Variable.x ~ Variable.y)))\n",
    "    } else {\n",
    "        if(norm){\n",
    "            est_fit0 <- memEXPR(region, memNORM) |>\n",
    "                group_by(Covariate, PC) |>\n",
    "                reframe(fitEST = broom::tidy(lm(Variable ~ PC_values)))\n",
    "        } else {\n",
    "            est_fit0 <- memEXPR(region, memRES) |>\n",
    "                group_by(Covariate, PC) |>\n",
    "                reframe(fitEST = broom::tidy(lm(Variable ~ PC_values)))\n",
    "        }\n",
    "    }\n",
    "    ## Calculate p-values\n",
    "    est_fit <- est_fit0 |> tidyr::unnest(fitEST) |>\n",
    "        filter(term != \"(Intercept)\") |>\n",
    "        mutate(p.bonf = p.adjust(p.value, \"bonf\"),\n",
    "               p.bonf.sig = p.bonf < 0.05,\n",
    "               p.bonf.cat = cut(p.bonf, breaks = c(1,0.05, 0.01, 0.005, 0),\n",
    "                                labels = c(\"<= 0.005\",\"<= 0.01\",\"<= 0.05\",\"> 0.05\"),\n",
    "                                include.lowest = TRUE),\n",
    "               p.fdr = p.adjust(p.value, \"fdr\"),\n",
    "               log.p.bonf = -log10(p.bonf+10**(-100)))\n",
    "    print(est_fit |> count(p.bonf.cat))\n",
    "    return(est_fit)\n",
    "}\n",
    "memFIT <- memoise::memoise(fit_model)"
   ]
  },
  {
   "cell_type": "code",
   "execution_count": null,
   "id": "e7afe82d-a0ac-4489-98bd-b451d71f65df",
   "metadata": {},
   "outputs": [],
   "source": [
    "tile_plot <- function(region, norm=TRUE, identity=TRUE){\n",
    "    ## Tile plot (heatmap)\n",
    "    my_breaks <- c(0.05, 0.01, 0.005, 0)\n",
    "    xlabel = \"Covariate\"\n",
    "    if(identity){\n",
    "        ylabel = \"Covariate\"; out = \"covars\"\n",
    "        tile_plot0 <- memFIT(region, norm, identity) |>\n",
    "            mutate_if(is.character, as.factor) |> rowwise() |>\n",
    "            mutate(pair=sort(c(Covariate.x,Covariate.y)) |>\n",
    "                       paste(collapse=\",\")) |>\n",
    "            group_by(pair) |> distinct(pair, .keep_all=TRUE) |>\n",
    "            ggplot(aes(x = Covariate.x, y = Covariate.y, fill = log.p.bonf,\n",
    "                       label=ifelse(p.bonf.sig,format(round(log.p.bonf,1),\n",
    "                                                      nsmall=1), \"\")))\n",
    "        h = 15; w = 15; limits = c(0, 100)\n",
    "    } else {\n",
    "        tile_plot0 <- memFIT(region, norm, identity) |>\n",
    "            ggplot(aes(x = Covariate, y = PC, fill = log.p.bonf,\n",
    "                       label=ifelse(p.bonf.sig,format(round(log.p.bonf,1),\n",
    "                                                      nsmall=1), \"\")))\n",
    "        h = 10; w = 12; limits = c(0, 100)\n",
    "        if(norm){\n",
    "            ylabel = \"Normalized Expression\"; out = \"norm\"\n",
    "        } else {\n",
    "            ylabel = \"Residualized Expression\"; out = \"res\"\n",
    "        }\n",
    "    }\n",
    "    tile_plot <- tile_plot0 + geom_tile(color = \"grey\") +\n",
    "        ggfittext::geom_fit_text(contrast = TRUE, aes(fontface=\"bold\")) +\n",
    "        viridis::scale_color_viridis(option = \"magma\") +\n",
    "        viridis::scale_fill_viridis(name=\"-log10(p-value Bonf)\",\n",
    "                                    option=\"magma\",\n",
    "                                    direction=-1, limits=limits) +\n",
    "        labs(x=xlabel, y=ylabel) + ggpubr::theme_pubr(base_size = 15) +\n",
    "        theme(axis.text.x = element_text(angle = 90, vjust = 0.5, hjust=1),\n",
    "              panel.grid = element_blank(),\n",
    "              axis.title = element_text(size=18, face=\"bold\"))\n",
    "    fn = paste0(region, \"_tilePlot_\",out,\"_covariates\")\n",
    "    save_img(tile_plot, tolower(fn), w, h)\n",
    "    return(tile_plot)\n",
    "}"
   ]
  },
  {
   "cell_type": "markdown",
   "id": "2dcf9457-aecb-4614-9e20-1581033003b6",
   "metadata": {},
   "source": [
    "## Main"
   ]
  },
  {
   "cell_type": "code",
   "execution_count": null,
   "id": "49bbee7a-dc4c-422c-ac4c-d8f7742ce79e",
   "metadata": {},
   "outputs": [],
   "source": [
    "#### Correlation with expression PCs ####\n",
    "for(region in c(\"Caudate\", \"DLPFC\", \"Hippocampus\")){\n",
    "    ## Plotting\n",
    "    tile_plot(region, FALSE, TRUE)  # Identity\n",
    "    tile_plot(region, TRUE, FALSE)  # Normalized\n",
    "    tile_plot(region, FALSE, FALSE) # Residualized\n",
    "}"
   ]
  },
  {
   "cell_type": "markdown",
   "id": "a9d4c3aa-09bf-4c67-82be-7bd539e2bacd",
   "metadata": {},
   "source": [
    "## Reproducibility information"
   ]
  },
  {
   "cell_type": "code",
   "execution_count": null,
   "id": "c1345873-539f-4e92-ba9d-8fc1844bbdd3",
   "metadata": {},
   "outputs": [],
   "source": [
    "print(\"Reproducibility information:\")\n",
    "Sys.time()\n",
    "proc.time()\n",
    "options(width = 120)\n",
    "sessioninfo::session_info()$platform\n",
    "sessioninfo::session_info()$packages"
   ]
  }
 ],
 "metadata": {
  "kernelspec": {
   "display_name": "R",
   "language": "R",
   "name": "ir"
  },
  "language_info": {
   "codemirror_mode": "r",
   "file_extension": ".r",
   "mimetype": "text/x-r-source",
   "name": "R",
   "pygments_lexer": "r",
   "version": "4.2.3"
  }
 },
 "nbformat": 4,
 "nbformat_minor": 5
}
