{
 "cells": [
  {
   "cell_type": "markdown",
   "id": "db1ea626-6686-48fc-996f-3ed31438e8fb",
   "metadata": {},
   "source": [
    "# Correlate variables to remove redundant metrics"
   ]
  },
  {
   "cell_type": "code",
   "execution_count": null,
   "id": "033201b3-bfd5-4d0e-9bc0-eaa780f8a323",
   "metadata": {},
   "outputs": [],
   "source": [
    "suppressPackageStartupMessages({\n",
    "    library(here)\n",
    "    library(dplyr)\n",
    "    library(SummarizedExperiment)\n",
    "})"
   ]
  },
  {
   "cell_type": "markdown",
   "id": "e9749487-075b-4875-9833-47e51dcbb786",
   "metadata": {},
   "source": [
    "## Functions"
   ]
  },
  {
   "cell_type": "code",
   "execution_count": null,
   "id": "13b8a394-17ae-41e5-aad0-a46d806855d1",
   "metadata": {},
   "outputs": [],
   "source": [
    "load_phenotypes <- function(region){\n",
    "    pheno_file <- here(\"input/phenotypes/_m/phenotypes.csv\")\n",
    "    pheno = data.table::fread(pheno_file) |> filter(Region == region) |> \n",
    "        mutate_if(is.list, ~sapply(., sum)) |>\n",
    "        mutate_if(is.numeric, scales::rescale)\n",
    "    return(pheno)\n",
    "}\n",
    "\n",
    "check_dup <- function(df){\n",
    "    sample    <- df |> select_if(is.numeric)\n",
    "    sample    <- Filter(function(x) sd(x) != 0, sample)\n",
    "    variables <- names(sample)\n",
    "    return(cytominer::correlation_threshold(variables, sample, cutoff=0.95))\n",
    "}\n",
    "\n",
    "check_corr <- function(df){\n",
    "    sample <- df |> select_if(is.numeric)\n",
    "    sample <- Filter(function(x) sd(x) != 0, sample)\n",
    "    dt     <- sample |> corrr::correlate() |>\n",
    "        corrr::stretch() |> tidyr::drop_na() |>\n",
    "        filter(abs(r) > 0.95) |>\n",
    "        distinct(r, .keep_all=TRUE)\n",
    "    varX <- distinct(dt, x)$x\n",
    "    varX <- varX[-which(varX %in% intersect(varX, distinct(dt, y)$y))]\n",
    "    vars <- unique(c(distinct(dt, x)$x, distinct(dt, y)$y))\n",
    "    return(setdiff(vars, varX))\n",
    "}\n",
    "\n",
    "remove_variables <- function(pheno_df){\n",
    "    if(length(check_corr(pheno_df)) != 0){\n",
    "        pheno_df <- pheno_df |> select(-check_corr(pheno_df))\n",
    "    }\n",
    "    return(pheno_df)\n",
    "}"
   ]
  },
  {
   "cell_type": "markdown",
   "id": "2a10c84d-97fa-480b-a48b-057b524c59ae",
   "metadata": {},
   "source": [
    "## Main"
   ]
  },
  {
   "cell_type": "markdown",
   "id": "86a1e315-6839-422f-857a-4ad136f331ce",
   "metadata": {},
   "source": [
    "### Load phenotypes"
   ]
  },
  {
   "cell_type": "code",
   "execution_count": null,
   "id": "ede8724c-5d21-425a-b7c4-856773882897",
   "metadata": {},
   "outputs": [],
   "source": [
    "caudate <- load_phenotypes(\"Caudate\")\n",
    "dlpfc   <- load_phenotypes(\"DLPFC\")\n",
    "hippo   <- load_phenotypes(\"HIPPO\")"
   ]
  },
  {
   "cell_type": "code",
   "execution_count": null,
   "id": "55cb9cb9-f7da-41b4-90da-7f500e8b7a9a",
   "metadata": {},
   "outputs": [],
   "source": [
    "caudate |> dim()\n",
    "dlpfc |> dim()\n",
    "hippo |> dim()"
   ]
  },
  {
   "cell_type": "markdown",
   "id": "2e8a6c55-c470-41fd-abde-c87254c106f7",
   "metadata": {},
   "source": [
    "### Drop correlated"
   ]
  },
  {
   "cell_type": "code",
   "execution_count": null,
   "id": "8c429e48-5f20-4c80-869c-1c1d5077715c",
   "metadata": {},
   "outputs": [],
   "source": [
    "check_corr(caudate)\n",
    "check_corr(dlpfc)\n",
    "check_corr(hippo)"
   ]
  },
  {
   "cell_type": "code",
   "execution_count": null,
   "id": "07c40a1f-d989-4368-a77b-00aebb4e6eeb",
   "metadata": {},
   "outputs": [],
   "source": [
    "caudate <- remove_variables(caudate)\n",
    "dlpfc   <- remove_variables(dlpfc)\n",
    "hippo   <- remove_variables(hippo)"
   ]
  },
  {
   "cell_type": "code",
   "execution_count": null,
   "id": "d2c390e7-7769-47d5-b0c6-4ea7ef7829b9",
   "metadata": {},
   "outputs": [],
   "source": [
    "caudate |> dim()\n",
    "dlpfc |> dim()\n",
    "hippo |> dim()"
   ]
  },
  {
   "cell_type": "markdown",
   "id": "16fc6fab-1069-402d-901e-f3e6c12a016b",
   "metadata": {},
   "source": [
    "### Commone variables"
   ]
  },
  {
   "cell_type": "code",
   "execution_count": null,
   "id": "e6bf321c-6260-4bb2-a066-14cba91bbe76",
   "metadata": {},
   "outputs": [],
   "source": [
    "vars <- intersect(colnames(caudate),intersect(colnames(dlpfc), colnames(hippo)))\n",
    "vars"
   ]
  },
  {
   "cell_type": "code",
   "execution_count": null,
   "id": "71a7acc0-6391-43d0-a873-0dba37e76423",
   "metadata": {},
   "outputs": [],
   "source": [
    "length(vars)"
   ]
  },
  {
   "cell_type": "code",
   "execution_count": null,
   "id": "bb5ca25c-965b-40a3-8fe0-8be41041db59",
   "metadata": {},
   "outputs": [],
   "source": [
    "data.frame(\"Variables\"=vars) |>\n",
    "    data.table::fwrite(\"shared_variables.tsv\", sep='\\t')"
   ]
  },
  {
   "cell_type": "markdown",
   "id": "586c9d31-48ad-4837-ba56-d403aeb62c46",
   "metadata": {},
   "source": [
    "## Reproducibility"
   ]
  },
  {
   "cell_type": "code",
   "execution_count": null,
   "id": "da0ac739-e665-4397-a4bc-222397919016",
   "metadata": {},
   "outputs": [],
   "source": [
    "Sys.time()\n",
    "proc.time()\n",
    "options(width = 120)\n",
    "sessioninfo::session_info()$platform\n",
    "sessioninfo::session_info()$packages"
   ]
  }
 ],
 "metadata": {
  "kernelspec": {
   "display_name": "R",
   "language": "R",
   "name": "ir"
  },
  "language_info": {
   "codemirror_mode": "r",
   "file_extension": ".r",
   "mimetype": "text/x-r-source",
   "name": "R",
   "pygments_lexer": "r",
   "version": "4.2.2"
  }
 },
 "nbformat": 4,
 "nbformat_minor": 5
}
