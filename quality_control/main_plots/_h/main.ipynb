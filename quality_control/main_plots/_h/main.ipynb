{
 "cells": [
  {
   "cell_type": "markdown",
   "metadata": {},
   "source": [
    "# Quality Control for the Caudate Nucleus"
   ]
  },
  {
   "cell_type": "code",
   "execution_count": 1,
   "metadata": {},
   "outputs": [],
   "source": [
    "suppressPackageStartupMessages({\n",
    "    library(repr)\n",
    "    library(here)\n",
    "    library(dplyr)\n",
    "    library(ggpubr)\n",
    "})"
   ]
  },
  {
   "cell_type": "markdown",
   "metadata": {},
   "source": [
    "## Functions"
   ]
  },
  {
   "cell_type": "code",
   "execution_count": 2,
   "metadata": {},
   "outputs": [],
   "source": [
    "save_img <- function(image, fn, w, h){\n",
    "    for(ext in c(\".svg\", \".pdf\", \".png\")){\n",
    "        ggsave(file=paste0(fn, ext), plot=image, width=w, height=h)\n",
    "    }\n",
    "}\n",
    "\n",
    "get_pheno <- function(){\n",
    "    phenotypes <- data.table::fread(here(\"input/phenotypes/_m/phenotypes.csv\")) |> \n",
    "        mutate_if(is.character, as.factor)\n",
    "    levels(phenotypes$Sex) <- c(\"Female\", \"Male\")\n",
    "    return(phenotypes)\n",
    "}\n",
    "\n",
    "memPHENO <- memoise::memoise(get_pheno)"
   ]
  },
  {
   "cell_type": "markdown",
   "metadata": {},
   "source": [
    "## Covariates exmination"
   ]
  },
  {
   "cell_type": "markdown",
   "metadata": {},
   "source": [
    "### Examine if there are significant differences between diagnosis in continous covariates"
   ]
  },
  {
   "cell_type": "code",
   "execution_count": null,
   "metadata": {},
   "outputs": [],
   "source": [
    "covarsCont = memPHENO() |>\n",
    "    select(-c('RNum', \"Race\", \"Sex\", \"Dx\", 'Region', 'BrNum', \"antipsychotics\", \n",
    "              \"lifetime_antipsych\", \"Protocol\")) |> colnames\n",
    "options(repr.plot.width=12, repr.plot.height=6)\n",
    "dir.create(\"covariate_plots\")\n",
    "for(covar in covarsCont){\n",
    "    set.seed(20211020)\n",
    "    flush.console()\n",
    "    bxp = memPHENO() |> \n",
    "        filter(Age > 17, Race %in% c(\"AA\", \"EA\"), Dx %in% c(\"CTL\", \"SZ\")) |>\n",
    "        ggboxplot(x='Sex', y=covar, fill='Sex', add='jitter', palette=\"npg\", \n",
    "                  facet.by=\"Region\", legend='bottom', panel.labs.font=list(face='bold'),\n",
    "                  add.params=list(alpha=0.75), ggtheme=theme_pubr(base_size=20)) + \n",
    "        stat_compare_means(comparisons=list(c(\"Female\", \"Male\")), \n",
    "                           aes(label=..p.signif..), method=\"wilcox.test\") +\n",
    "        font(\"title\", color=\"black\", face=\"bold\") + \n",
    "        font(\"xy.title\", face=\"bold\") + #font(\"xy.text\", size=14) + \n",
    "        font(\"legend.title\", size=16, face=\"bold\") #font(\"legend.text\", size=14)\n",
    "    save_img(bxp, paste0(\"covariate_plots/boxplot_sex_filtered_\",covar), w=12, h=6)\n",
    "    print(bxp)\n",
    "    bxp = memPHENO() |> \n",
    "        filter(Age > 17, Race %in% c(\"AA\", \"EA\"), Dx %in% c(\"CTL\", \"SZ\")) |>\n",
    "        ggboxplot(x='antipsychotics', y=covar, color='Sex', add='jitter', \n",
    "                  palette=\"npg\", facet.by=\"Region\", legend='bottom', \n",
    "                  ggtheme=theme_pubr(base_size=20)) + \n",
    "        stat_compare_means(comparisons=list(c(\"TRUE\", \"FALSE\")), \n",
    "                           aes(label=..p.signif..), method=\"wilcox.test\") +\n",
    "        font(\"title\", color=\"black\", face=\"bold\") + \n",
    "        font(\"xy.title\", face=\"bold\") + \n",
    "        font(\"legend.title\", size=16, face=\"bold\")\n",
    "    save_img(bxp, paste0(\"covariate_plots/boxplot_sexBYantipsychotics_filtered_\",covar), \n",
    "             w=12, h=6)\n",
    "    print(bxp)\n",
    "}"
   ]
  },
  {
   "cell_type": "markdown",
   "metadata": {},
   "source": [
    "## Reproducibility Information"
   ]
  },
  {
   "cell_type": "code",
   "execution_count": null,
   "metadata": {},
   "outputs": [],
   "source": [
    "Sys.time()\n",
    "proc.time()\n",
    "options(width = 120)\n",
    "sessioninfo::session_info()"
   ]
  }
 ],
 "metadata": {
  "kernelspec": {
   "display_name": "R",
   "language": "R",
   "name": "ir"
  },
  "language_info": {
   "codemirror_mode": "r",
   "file_extension": ".r",
   "mimetype": "text/x-r-source",
   "name": "R",
   "pygments_lexer": "r",
   "version": "4.2.2"
  }
 },
 "nbformat": 4,
 "nbformat_minor": 4
}
