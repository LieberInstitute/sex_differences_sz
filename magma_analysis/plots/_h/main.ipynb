{
 "cells": [
  {
   "cell_type": "code",
   "execution_count": null,
   "id": "a907a23c-85a0-4ddd-bcb1-60e37eb2ba2a",
   "metadata": {},
   "outputs": [],
   "source": [
    "suppressMessages({\n",
    "    library(tidyverse)\n",
    "    library(data.table)\n",
    "    library(ggpubr)\n",
    "    library(RColorBrewer)\n",
    "\n",
    "})\n",
    "\n",
    "\n",
    "save_plot <- function(p, fn, w, h){\n",
    "    for(ext in c(\".pdf\", \".png\")){\n",
    "        ggsave(filename=paste0(fn,ext), plot=p, width=w, height=h)\n",
    "    }\n",
    "}\n",
    "\n",
    "dir.create('../_m/')\n",
    "setwd('../_m/')"
   ]
  },
  {
   "cell_type": "code",
   "execution_count": null,
   "id": "50e8211b-27bc-4308-a8fb-e7618ecbe8ba",
   "metadata": {},
   "outputs": [],
   "source": []
  },
  {
   "cell_type": "code",
   "execution_count": null,
   "id": "8174993a-2ebb-4605-9163-5c7a3deab068",
   "metadata": {},
   "outputs": [],
   "source": [
    "# create a list of all the filenames in the folder that end with \".csv\"\n",
    "file_list <- Sys.glob('../../_m/*_gene_set_results.gsa.out')\n",
    "study_name <- gsub('.*_m/|_gene_set.*','',file_list)\n",
    "\n",
    "df <- data.frame()\n",
    "\n",
    "for (i in seq_along(file_list)){\n",
    "    dftmp <- fread(file_list[i], skip=4) %>%\n",
    "                    set_names(c('VARIABLE','TYPE','NGENES','BETA','BETA_STD','SE','P')) %>%\n",
    "                    mutate(GWAS_set = study_name[i],\n",
    "                           `-log10P` = 0-log10(P),\n",
    "                           fdr_bh = p.adjust(P, method = \"BH\"),\n",
    "                           fdr_bonferroni = p.adjust(P, method = \"bonferroni\"),\n",
    "                           Status = ifelse(grepl('down',VARIABLE), 'Downregulated','Upregulated'),\n",
    "                           `Brain Region` = ifelse(grepl('caudate',VARIABLE),'Caudate',\n",
    "                                                  ifelse(grepl('dlpfc', VARIABLE),'DLPFC',\n",
    "                                                      'Hippocampus'))\n",
    "                          ) %>%\n",
    "                    mutate(GWAS_set = ifelse(GWAS_set == 'SCZ', 'SCHIZOPHRENIA', GWAS_set)) %>%\n",
    "                    select(-TYPE)\n",
    "                           \n",
    "                       \n",
    "                       \n",
    "    df <- rbind(dftmp,df)\n",
    "                    \n",
    "    }\n",
    "\n",
    "\n",
    "df %>% head()\n",
    "\n",
    "fwrite(df, 'magma_enrichment_results.tsv',quote=F,sep='\\t',row.names=F)\n",
    "\n"
   ]
  },
  {
   "cell_type": "code",
   "execution_count": null,
   "id": "77c44804-24c3-440d-b404-291dcc33ed43",
   "metadata": {},
   "outputs": [],
   "source": [
    "head(df)"
   ]
  },
  {
   "cell_type": "code",
   "execution_count": null,
   "id": "812c421b-637b-4187-babf-37accab21421",
   "metadata": {},
   "outputs": [],
   "source": [
    "df %>% filter(P < 0.05)\n",
    "\n",
    "df %>% filter(fdr_bh < 0.05)"
   ]
  },
  {
   "cell_type": "code",
   "execution_count": null,
   "id": "712f7b04-db74-405d-bfc7-d16a03377569",
   "metadata": {},
   "outputs": [],
   "source": [
    "# Define a custom color palette using RColorBrewer\n",
    "my_palette <- rev(brewer.pal(9, \"YlGnBu\"))\n",
    "\n",
    "# Define a custom color scale using scale_fill_gradientn\n",
    "my_scale <- scale_fill_gradientn(colors = my_palette,\n",
    "                                 values = c(-1.8, 0, 1.8),\n",
    "                                 name = \"BETA\",\n",
    "                                 guide = guide_colorbar(barwidth = 10, barheight = 0.5))"
   ]
  },
  {
   "cell_type": "code",
   "execution_count": null,
   "id": "927c4861-4890-4bc9-91b4-c7988b7ae85b",
   "metadata": {
    "tags": []
   },
   "outputs": [],
   "source": [
    "# ggplot(df, aes(x = VARIABLE, y = GWAS_set, size = BETA, fill = `-log10P`)) +\n",
    "#     #scale_fill_gradient(low = \"blue\", high = \"red\") +\n",
    "#     geom_point(shape = 21) +\n",
    "#     xlab(\"Gene Set\") +\n",
    "#     ylab(\"\") +\n",
    "#     theme_pubr() +\n",
    "#     theme(axis.text.x = element_text(angle = 45, hjust = 1)) "
   ]
  },
  {
   "cell_type": "code",
   "execution_count": null,
   "id": "8b2e5d6f-8e71-4139-b144-6413fd3ea523",
   "metadata": {
    "tags": []
   },
   "outputs": [],
   "source": [
    "# ggplot(df, aes(x = VARIABLE, y = GWAS_set, fill = BETA, size = `-log10P`)) +\n",
    "#     #scale_fill_gradient(low = \"blue\", high = \"red\") +\n",
    "#     geom_point(shape = 21) +\n",
    "#     xlab(\"Gene Set\") +\n",
    "#     ylab(\"\") +\n",
    "#     theme_pubr()"
   ]
  },
  {
   "cell_type": "code",
   "execution_count": null,
   "id": "e0ffc024-cf93-4aed-9c2c-e81e8bd0924e",
   "metadata": {
    "tags": []
   },
   "outputs": [],
   "source": [
    "# ggplot(data = df,\n",
    "#        aes(y = BETA,\n",
    "#            x = `-log10P`)) +\n",
    "#   geom_point(size = 1.5) +\n",
    "#   geom_hline(yintercept = 0,\n",
    "#              colour = \"royalblue\") +\n",
    "#   geom_vline(xintercept = 0,\n",
    "#              colour = \"royalblue\") +\n",
    "#   xlim(0, 7) +\n",
    "#   theme_bw() +\n",
    "#   facet_grid(~VARIABLE)"
   ]
  },
  {
   "cell_type": "code",
   "execution_count": null,
   "id": "1a192dab-a5dc-4adf-8987-535badab8892",
   "metadata": {
    "tags": []
   },
   "outputs": [],
   "source": [
    "options(repr.plot.width = 13, repr.plot.height = 10, repr.plot.res = 100)\n",
    "\n",
    "\n",
    "p1 <- ggplot(data = df, aes(y = BETA, x = `-log10P`)) + \n",
    "            geom_point(aes(color = Status, size = NGENES)) +\n",
    "            geom_hline(yintercept = 0, colour = \"royalblue\", linewidth=1) +\n",
    "            geom_vline(xintercept = 1.3010, colour = \"goldenrod2\",\n",
    "                       linewidth=1,linetype = \"dashed\") +\n",
    "            ylim(-1, 1) +\n",
    "            theme_bw() +\n",
    "            facet_grid(`Brain Region`~GWAS_set) +\n",
    "            scale_color_manual(values = c(\"green3\", \"firebrick\")) +\n",
    "            scale_size(range = c(1.5, 4), \n",
    "                       labels = c('3', '60', '120','340'), \n",
    "                       guide = guide_legend(title = \"Number of Genes\", \n",
    "                                            label.position = \"right\")) +\n",
    "            theme(panel.grid.major.x = element_blank(), \n",
    "                  panel.grid.minor.x = element_blank(),\n",
    "                  panel.grid.major.y = element_blank(),\n",
    "                  panel.grid.minor.y = element_blank())\n",
    "\n",
    "p1\n",
    "\n",
    "save_plot(p1, 'magma_enrichment', 12, 8)\n",
    "\n"
   ]
  },
  {
   "cell_type": "code",
   "execution_count": null,
   "id": "09171f7f-f0a9-44ab-aed2-5f4f630a52f1",
   "metadata": {},
   "outputs": [],
   "source": [
    "sessionInfo()"
   ]
  }
 ],
 "metadata": {
  "kernelspec": {
   "display_name": "R",
   "language": "R",
   "name": "ir"
  },
  "language_info": {
   "codemirror_mode": "r",
   "file_extension": ".r",
   "mimetype": "text/x-r-source",
   "name": "R",
   "pygments_lexer": "r",
   "version": "4.1.2"
  }
 },
 "nbformat": 4,
 "nbformat_minor": 5
}
