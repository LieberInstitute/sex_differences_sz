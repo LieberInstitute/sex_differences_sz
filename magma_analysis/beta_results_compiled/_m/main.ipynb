{
 "cells": [
  {
   "cell_type": "code",
   "execution_count": 1,
   "id": "a907a23c-85a0-4ddd-bcb1-60e37eb2ba2a",
   "metadata": {
    "execution": {
     "iopub.execute_input": "2023-08-15T15:41:02.910887Z",
     "iopub.status.busy": "2023-08-15T15:41:02.907088Z",
     "iopub.status.idle": "2023-08-15T15:41:04.210133Z",
     "shell.execute_reply": "2023-08-15T15:41:04.207141Z"
    }
   },
   "outputs": [
    {
     "name": "stderr",
     "output_type": "stream",
     "text": [
      "Warning message in dir.create(\"../_m/\"):\n",
      "\"'../_m' already exists\"\n"
     ]
    }
   ],
   "source": [
    "suppressMessages({\n",
    "    library(tidyverse)\n",
    "    library(data.table)\n",
    "\n",
    "})\n",
    "\n",
    "\n",
    "save_plot <- function(p, fn, w, h){\n",
    "    for(ext in c(\".pdf\", \".png\")){\n",
    "        ggsave(filename=paste0(fn,ext), plot=p, width=w, height=h)\n",
    "    }\n",
    "}\n",
    "\n",
    "dir.create('../_m/')\n",
    "setwd('../_m/')"
   ]
  },
  {
   "cell_type": "code",
   "execution_count": 2,
   "id": "8da44b93-0f19-470b-aad7-f7f490745310",
   "metadata": {
    "execution": {
     "iopub.execute_input": "2023-08-15T15:41:04.313334Z",
     "iopub.status.busy": "2023-08-15T15:41:04.226250Z",
     "iopub.status.idle": "2023-08-15T15:41:04.327687Z",
     "shell.execute_reply": "2023-08-15T15:41:04.324927Z"
    }
   },
   "outputs": [],
   "source": [
    "#file_list"
   ]
  },
  {
   "cell_type": "code",
   "execution_count": 3,
   "id": "ca5eaeed-eb76-41c5-aab1-6290dcbf066b",
   "metadata": {
    "execution": {
     "iopub.execute_input": "2023-08-15T15:41:04.340279Z",
     "iopub.status.busy": "2023-08-15T15:41:04.337475Z",
     "iopub.status.idle": "2023-08-15T15:41:04.452534Z",
     "shell.execute_reply": "2023-08-15T15:41:04.449685Z"
    }
   },
   "outputs": [
    {
     "data": {
      "text/html": [
       "<style>\n",
       ".list-inline {list-style: none; margin:0; padding: 0}\n",
       ".list-inline>li {display: inline-block}\n",
       ".list-inline>li:not(:last-child)::after {content: \"\\00b7\"; padding: 0 .5ex}\n",
       "</style>\n",
       "<ol class=list-inline><li>'../../custom_universe/blood_traits/_m/DLPFC_betweensex_deg_genes.txt_BASO_gene_set_results.gsa.out'</li><li>'../../custom_universe/blood_traits/_m/DLPFC_betweensex_deg_genes.txt_EO_gene_set_results.gsa.out'</li><li>'../../custom_universe/blood_traits/_m/DLPFC_betweensex_deg_genes.txt_MONO_gene_set_results.gsa.out'</li><li>'../../custom_universe/blood_traits/_m/DLPFC_betweensex_deg_genes.txt_NEUT_gene_set_results.gsa.out'</li><li>'../../custom_universe/blood_traits/_m/Hippocampus_betweensex_deg_genes.txt_BASO_gene_set_results.gsa.out'</li><li>'../../custom_universe/blood_traits/_m/Hippocampus_betweensex_deg_genes.txt_EO_gene_set_results.gsa.out'</li></ol>\n"
      ],
      "text/latex": [
       "\\begin{enumerate*}\n",
       "\\item '../../custom\\_universe/blood\\_traits/\\_m/DLPFC\\_betweensex\\_deg\\_genes.txt\\_BASO\\_gene\\_set\\_results.gsa.out'\n",
       "\\item '../../custom\\_universe/blood\\_traits/\\_m/DLPFC\\_betweensex\\_deg\\_genes.txt\\_EO\\_gene\\_set\\_results.gsa.out'\n",
       "\\item '../../custom\\_universe/blood\\_traits/\\_m/DLPFC\\_betweensex\\_deg\\_genes.txt\\_MONO\\_gene\\_set\\_results.gsa.out'\n",
       "\\item '../../custom\\_universe/blood\\_traits/\\_m/DLPFC\\_betweensex\\_deg\\_genes.txt\\_NEUT\\_gene\\_set\\_results.gsa.out'\n",
       "\\item '../../custom\\_universe/blood\\_traits/\\_m/Hippocampus\\_betweensex\\_deg\\_genes.txt\\_BASO\\_gene\\_set\\_results.gsa.out'\n",
       "\\item '../../custom\\_universe/blood\\_traits/\\_m/Hippocampus\\_betweensex\\_deg\\_genes.txt\\_EO\\_gene\\_set\\_results.gsa.out'\n",
       "\\end{enumerate*}\n"
      ],
      "text/markdown": [
       "1. '../../custom_universe/blood_traits/_m/DLPFC_betweensex_deg_genes.txt_BASO_gene_set_results.gsa.out'\n",
       "2. '../../custom_universe/blood_traits/_m/DLPFC_betweensex_deg_genes.txt_EO_gene_set_results.gsa.out'\n",
       "3. '../../custom_universe/blood_traits/_m/DLPFC_betweensex_deg_genes.txt_MONO_gene_set_results.gsa.out'\n",
       "4. '../../custom_universe/blood_traits/_m/DLPFC_betweensex_deg_genes.txt_NEUT_gene_set_results.gsa.out'\n",
       "5. '../../custom_universe/blood_traits/_m/Hippocampus_betweensex_deg_genes.txt_BASO_gene_set_results.gsa.out'\n",
       "6. '../../custom_universe/blood_traits/_m/Hippocampus_betweensex_deg_genes.txt_EO_gene_set_results.gsa.out'\n",
       "\n",
       "\n"
      ],
      "text/plain": [
       "[1] \"../../custom_universe/blood_traits/_m/DLPFC_betweensex_deg_genes.txt_BASO_gene_set_results.gsa.out\"      \n",
       "[2] \"../../custom_universe/blood_traits/_m/DLPFC_betweensex_deg_genes.txt_EO_gene_set_results.gsa.out\"        \n",
       "[3] \"../../custom_universe/blood_traits/_m/DLPFC_betweensex_deg_genes.txt_MONO_gene_set_results.gsa.out\"      \n",
       "[4] \"../../custom_universe/blood_traits/_m/DLPFC_betweensex_deg_genes.txt_NEUT_gene_set_results.gsa.out\"      \n",
       "[5] \"../../custom_universe/blood_traits/_m/Hippocampus_betweensex_deg_genes.txt_BASO_gene_set_results.gsa.out\"\n",
       "[6] \"../../custom_universe/blood_traits/_m/Hippocampus_betweensex_deg_genes.txt_EO_gene_set_results.gsa.out\"  "
      ]
     },
     "metadata": {},
     "output_type": "display_data"
    },
    {
     "data": {
      "text/html": [
       "<style>\n",
       ".list-inline {list-style: none; margin:0; padding: 0}\n",
       ".list-inline>li {display: inline-block}\n",
       ".list-inline>li:not(:last-child)::after {content: \"\\00b7\"; padding: 0 .5ex}\n",
       "</style>\n",
       "<ol class=list-inline><li>'BASO'</li><li>'EO'</li><li>'MONO'</li><li>'NEUT'</li><li>'BASO'</li><li>'EO'</li></ol>\n"
      ],
      "text/latex": [
       "\\begin{enumerate*}\n",
       "\\item 'BASO'\n",
       "\\item 'EO'\n",
       "\\item 'MONO'\n",
       "\\item 'NEUT'\n",
       "\\item 'BASO'\n",
       "\\item 'EO'\n",
       "\\end{enumerate*}\n"
      ],
      "text/markdown": [
       "1. 'BASO'\n",
       "2. 'EO'\n",
       "3. 'MONO'\n",
       "4. 'NEUT'\n",
       "5. 'BASO'\n",
       "6. 'EO'\n",
       "\n",
       "\n"
      ],
      "text/plain": [
       "[1] \"BASO\" \"EO\"   \"MONO\" \"NEUT\" \"BASO\" \"EO\"  "
      ]
     },
     "metadata": {},
     "output_type": "display_data"
    },
    {
     "data": {
      "text/plain": [
       "brain_region\n",
       "            CAUDATE       CAUDATExDLPFC CAUDATExHIPPOCAMPUS               DLPFC \n",
       "                 12                  12                  11                  22 \n",
       "        HIPPOCAMPUS \n",
       "                 22 "
      ]
     },
     "metadata": {},
     "output_type": "display_data"
    },
    {
     "data": {
      "text/html": [
       "<style>\n",
       ".list-inline {list-style: none; margin:0; padding: 0}\n",
       ".list-inline>li {display: inline-block}\n",
       ".list-inline>li:not(:last-child)::after {content: \"\\00b7\"; padding: 0 .5ex}\n",
       "</style>\n",
       "<ol class=list-inline><li>'DLPFC'</li><li>'DLPFC'</li><li>'DLPFC'</li><li>'DLPFC'</li><li>'HIPPOCAMPUS'</li><li>'HIPPOCAMPUS'</li></ol>\n"
      ],
      "text/latex": [
       "\\begin{enumerate*}\n",
       "\\item 'DLPFC'\n",
       "\\item 'DLPFC'\n",
       "\\item 'DLPFC'\n",
       "\\item 'DLPFC'\n",
       "\\item 'HIPPOCAMPUS'\n",
       "\\item 'HIPPOCAMPUS'\n",
       "\\end{enumerate*}\n"
      ],
      "text/markdown": [
       "1. 'DLPFC'\n",
       "2. 'DLPFC'\n",
       "3. 'DLPFC'\n",
       "4. 'DLPFC'\n",
       "5. 'HIPPOCAMPUS'\n",
       "6. 'HIPPOCAMPUS'\n",
       "\n",
       "\n"
      ],
      "text/plain": [
       "[1] \"DLPFC\"       \"DLPFC\"       \"DLPFC\"       \"DLPFC\"       \"HIPPOCAMPUS\"\n",
       "[6] \"HIPPOCAMPUS\""
      ]
     },
     "metadata": {},
     "output_type": "display_data"
    },
    {
     "data": {
      "text/plain": [
       ".\n",
       "        all maleVfemale   sex_by_sz \n",
       "         23          34          22 "
      ]
     },
     "metadata": {},
     "output_type": "display_data"
    }
   ],
   "source": [
    "# create a list of all the filenames in the folder that end with \".csv\"\n",
    "file_list <- Sys.glob('../../custom_universe*/*/_m/*_gene_set_results.gsa.out')\n",
    "#file_list\n",
    "file_list <- file_list[file.info(file_list)$size > 0] %>% # remove empty files (no magma enrichment)\n",
    "                discard(~str_detect(.x, '/custom_universe/blood_traits/_m/Cv*|/custom_universe/psych_general_traits/_m/Cv*')) # remove DE direction of effect from specific analysis for brain region x brain region \n",
    "file_list %>% head()\n",
    "\n",
    "study_name <- gsub('.*.txt_|_gene_set.*','',file_list)\n",
    "study_name %>% head()\n",
    "\n",
    "\n",
    "brain_region <- gsub('.*_m/|_deg.genes.txt.*','',file_list) %>%\n",
    "                gsub('_.*','',.)\n",
    "brain_region <- lapply(brain_region, toupper) %>% as.character()\n",
    "\n",
    "brain_region[brain_region == \"CVD\"] <- \"CAUDATExDLPFC\"\n",
    "brain_region[brain_region == \"CVH\"] <- \"CAUDATExHIPPOCAMPUS\"\n",
    "\n",
    "table(brain_region)\n",
    "head(brain_region)\n",
    "\n",
    "\n",
    "\n",
    "\n",
    "comparison <- gsub('.*_m/|_deg.genes.txt.*|','',file_list) %>%\n",
    "                gsub('.*_','',.)\n",
    "\n",
    "comparison[comparison == \"betweensex\"] <- \"sex_by_sz\"\n",
    "comparison[comparison == \"betweensex\"] <- \"sex_by_sz\"\n",
    "\n",
    "\n",
    "\n",
    "comparison %>% table()\n",
    "\n",
    "\n",
    "\n",
    "#_betweensex_deg_genes: sex_by_sz\n",
    "\n",
    "#XvD: region_by_sex\n",
    "\n",
    "#maleVfemale: maleVfemale"
   ]
  },
  {
   "cell_type": "code",
   "execution_count": null,
   "id": "c46b3006-0378-4279-9236-c2faa2430491",
   "metadata": {},
   "outputs": [],
   "source": []
  },
  {
   "cell_type": "code",
   "execution_count": 4,
   "id": "ce8e1cfd-e8e1-4b8d-9343-4551ec458c1a",
   "metadata": {
    "execution": {
     "iopub.execute_input": "2023-08-15T15:41:04.463754Z",
     "iopub.status.busy": "2023-08-15T15:41:04.461092Z",
     "iopub.status.idle": "2023-08-15T15:41:12.567783Z",
     "shell.execute_reply": "2023-08-15T15:41:12.565495Z"
    }
   },
   "outputs": [
    {
     "data": {
      "text/html": [
       "<table class=\"dataframe\">\n",
       "<caption>A grouped_df: 6 x 13</caption>\n",
       "<thead>\n",
       "\t<tr><th scope=col>VARIABLE</th><th scope=col>TYPE</th><th scope=col>NGENES</th><th scope=col>BETA</th><th scope=col>BETA_STD</th><th scope=col>SE</th><th scope=col>P</th><th scope=col>GWAS_set</th><th scope=col>fdr_bh</th><th scope=col>fdr_bonferroni</th><th scope=col>Status</th><th scope=col>Brain_Region</th><th scope=col>DEComparison</th></tr>\n",
       "\t<tr><th scope=col>&lt;chr&gt;</th><th scope=col>&lt;chr&gt;</th><th scope=col>&lt;int&gt;</th><th scope=col>&lt;dbl&gt;</th><th scope=col>&lt;dbl&gt;</th><th scope=col>&lt;dbl&gt;</th><th scope=col>&lt;dbl&gt;</th><th scope=col>&lt;chr&gt;</th><th scope=col>&lt;dbl&gt;</th><th scope=col>&lt;dbl&gt;</th><th scope=col>&lt;chr&gt;</th><th scope=col>&lt;chr&gt;</th><th scope=col>&lt;chr&gt;</th></tr>\n",
       "</thead>\n",
       "<tbody>\n",
       "\t<tr><td>CvH__all         </td><td>SET</td><td> 41</td><td>-0.063564</td><td>-0.0026278</td><td>0.148890</td><td>0.66528</td><td>ADHD</td><td>0.66528</td><td>0.66528</td><td>Both         </td><td>CAUDATExHIPPOCAMPUS</td><td>region_by_sex</td></tr>\n",
       "\t<tr><td>CvD__all         </td><td>SET</td><td>439</td><td> 0.044098</td><td> 0.0059400</td><td>0.044584</td><td>0.16132</td><td>ADHD</td><td>0.16132</td><td>0.16132</td><td>Both         </td><td>CAUDATExDLPFC      </td><td>region_by_sex</td></tr>\n",
       "\t<tr><td>hippocampus__down</td><td>SET</td><td> 30</td><td>-0.127910</td><td>-0.0044185</td><td>0.188940</td><td>0.75078</td><td>ADHD</td><td>0.89514</td><td>1.00000</td><td>Downregulated</td><td>HIPPOCAMPUS        </td><td>maleVfemale  </td></tr>\n",
       "\t<tr><td>hippocampus__up  </td><td>SET</td><td> 30</td><td>-0.222350</td><td>-0.0076808</td><td>0.177250</td><td>0.89514</td><td>ADHD</td><td>0.89514</td><td>1.00000</td><td>Upregulated  </td><td>HIPPOCAMPUS        </td><td>maleVfemale  </td></tr>\n",
       "\t<tr><td>dlpfc__down      </td><td>SET</td><td> 75</td><td> 0.063748</td><td> 0.0034851</td><td>0.118520</td><td>0.29534</td><td>ADHD</td><td>0.59068</td><td>0.59068</td><td>Downregulated</td><td>DLPFC              </td><td>maleVfemale  </td></tr>\n",
       "\t<tr><td>dlpfc__up        </td><td>SET</td><td>102</td><td>-0.040100</td><td>-0.0025552</td><td>0.099966</td><td>0.65584</td><td>ADHD</td><td>0.65584</td><td>1.00000</td><td>Upregulated  </td><td>DLPFC              </td><td>maleVfemale  </td></tr>\n",
       "</tbody>\n",
       "</table>\n"
      ],
      "text/latex": [
       "A grouped\\_df: 6 x 13\n",
       "\\begin{tabular}{lllllllllllll}\n",
       " VARIABLE & TYPE & NGENES & BETA & BETA\\_STD & SE & P & GWAS\\_set & fdr\\_bh & fdr\\_bonferroni & Status & Brain\\_Region & DEComparison\\\\\n",
       " <chr> & <chr> & <int> & <dbl> & <dbl> & <dbl> & <dbl> & <chr> & <dbl> & <dbl> & <chr> & <chr> & <chr>\\\\\n",
       "\\hline\n",
       "\t CvH\\_\\_all          & SET &  41 & -0.063564 & -0.0026278 & 0.148890 & 0.66528 & ADHD & 0.66528 & 0.66528 & Both          & CAUDATExHIPPOCAMPUS & region\\_by\\_sex\\\\\n",
       "\t CvD\\_\\_all          & SET & 439 &  0.044098 &  0.0059400 & 0.044584 & 0.16132 & ADHD & 0.16132 & 0.16132 & Both          & CAUDATExDLPFC       & region\\_by\\_sex\\\\\n",
       "\t hippocampus\\_\\_down & SET &  30 & -0.127910 & -0.0044185 & 0.188940 & 0.75078 & ADHD & 0.89514 & 1.00000 & Downregulated & HIPPOCAMPUS         & maleVfemale  \\\\\n",
       "\t hippocampus\\_\\_up   & SET &  30 & -0.222350 & -0.0076808 & 0.177250 & 0.89514 & ADHD & 0.89514 & 1.00000 & Upregulated   & HIPPOCAMPUS         & maleVfemale  \\\\\n",
       "\t dlpfc\\_\\_down       & SET &  75 &  0.063748 &  0.0034851 & 0.118520 & 0.29534 & ADHD & 0.59068 & 0.59068 & Downregulated & DLPFC               & maleVfemale  \\\\\n",
       "\t dlpfc\\_\\_up         & SET & 102 & -0.040100 & -0.0025552 & 0.099966 & 0.65584 & ADHD & 0.65584 & 1.00000 & Upregulated   & DLPFC               & maleVfemale  \\\\\n",
       "\\end{tabular}\n"
      ],
      "text/markdown": [
       "\n",
       "A grouped_df: 6 x 13\n",
       "\n",
       "| VARIABLE &lt;chr&gt; | TYPE &lt;chr&gt; | NGENES &lt;int&gt; | BETA &lt;dbl&gt; | BETA_STD &lt;dbl&gt; | SE &lt;dbl&gt; | P &lt;dbl&gt; | GWAS_set &lt;chr&gt; | fdr_bh &lt;dbl&gt; | fdr_bonferroni &lt;dbl&gt; | Status &lt;chr&gt; | Brain_Region &lt;chr&gt; | DEComparison &lt;chr&gt; |\n",
       "|---|---|---|---|---|---|---|---|---|---|---|---|---|\n",
       "| CvH__all          | SET |  41 | -0.063564 | -0.0026278 | 0.148890 | 0.66528 | ADHD | 0.66528 | 0.66528 | Both          | CAUDATExHIPPOCAMPUS | region_by_sex |\n",
       "| CvD__all          | SET | 439 |  0.044098 |  0.0059400 | 0.044584 | 0.16132 | ADHD | 0.16132 | 0.16132 | Both          | CAUDATExDLPFC       | region_by_sex |\n",
       "| hippocampus__down | SET |  30 | -0.127910 | -0.0044185 | 0.188940 | 0.75078 | ADHD | 0.89514 | 1.00000 | Downregulated | HIPPOCAMPUS         | maleVfemale   |\n",
       "| hippocampus__up   | SET |  30 | -0.222350 | -0.0076808 | 0.177250 | 0.89514 | ADHD | 0.89514 | 1.00000 | Upregulated   | HIPPOCAMPUS         | maleVfemale   |\n",
       "| dlpfc__down       | SET |  75 |  0.063748 |  0.0034851 | 0.118520 | 0.29534 | ADHD | 0.59068 | 0.59068 | Downregulated | DLPFC               | maleVfemale   |\n",
       "| dlpfc__up         | SET | 102 | -0.040100 | -0.0025552 | 0.099966 | 0.65584 | ADHD | 0.65584 | 1.00000 | Upregulated   | DLPFC               | maleVfemale   |\n",
       "\n"
      ],
      "text/plain": [
       "  VARIABLE          TYPE NGENES BETA      BETA_STD   SE       P       GWAS_set\n",
       "1 CvH__all          SET   41    -0.063564 -0.0026278 0.148890 0.66528 ADHD    \n",
       "2 CvD__all          SET  439     0.044098  0.0059400 0.044584 0.16132 ADHD    \n",
       "3 hippocampus__down SET   30    -0.127910 -0.0044185 0.188940 0.75078 ADHD    \n",
       "4 hippocampus__up   SET   30    -0.222350 -0.0076808 0.177250 0.89514 ADHD    \n",
       "5 dlpfc__down       SET   75     0.063748  0.0034851 0.118520 0.29534 ADHD    \n",
       "6 dlpfc__up         SET  102    -0.040100 -0.0025552 0.099966 0.65584 ADHD    \n",
       "  fdr_bh  fdr_bonferroni Status        Brain_Region        DEComparison \n",
       "1 0.66528 0.66528        Both          CAUDATExHIPPOCAMPUS region_by_sex\n",
       "2 0.16132 0.16132        Both          CAUDATExDLPFC       region_by_sex\n",
       "3 0.89514 1.00000        Downregulated HIPPOCAMPUS         maleVfemale  \n",
       "4 0.89514 1.00000        Upregulated   HIPPOCAMPUS         maleVfemale  \n",
       "5 0.59068 0.59068        Downregulated DLPFC               maleVfemale  \n",
       "6 0.65584 1.00000        Upregulated   DLPFC               maleVfemale  "
      ]
     },
     "metadata": {},
     "output_type": "display_data"
    }
   ],
   "source": [
    "df <- data.frame()\n",
    "\n",
    "for (i in seq_along(file_list)) {\n",
    "    dftmp <- fread(file_list[i], skip = 4) %>%\n",
    "        set_names(c('VARIABLE', 'TYPE', 'NGENES', 'BETA', 'BETA_STD', 'SE', 'P')) %>%\n",
    "        mutate(GWAS_set = study_name[i],\n",
    "               Status = ifelse(grepl('down', VARIABLE), 'Downregulated', 'Upregulated'),\n",
    "               Brain_Region = brain_region[i],\n",
    "               DEComparison = comparison[i]\n",
    "        ) %>%\n",
    "        mutate(GWAS_set = ifelse(GWAS_set == 'SCZ', 'SCHIZOPHRENIA', GWAS_set)) %>%\n",
    "        group_by(Brain_Region, DEComparison) %>%\n",
    "        mutate(fdr_bh = p.adjust(P, method = \"BH\"),\n",
    "               fdr_bonferroni = p.adjust(P, method = \"bonferroni\")) %>%\n",
    "        select(VARIABLE,TYPE, NGENES, BETA, BETA_STD, SE, P, GWAS_set, fdr_bh, fdr_bonferroni, Status ,Brain_Region, DEComparison)\n",
    "    df <- rbind(dftmp, df) %>% arrange(GWAS_set)\n",
    "}\n",
    "\n",
    "df <- df %>% \n",
    "        mutate(Status = ifelse(DEComparison == 'all', 'Both', Status),\n",
    "               DEComparison = ifelse(DEComparison == 'all','region_by_sex', DEComparison))\n",
    "\n",
    "\n",
    "head(df)\n",
    "fwrite(df, 'magma_enrichment_results.tsv', quote = F, sep = '\\t', row.names = F)\n"
   ]
  },
  {
   "cell_type": "code",
   "execution_count": 5,
   "id": "c9e2a75c-9449-4fa1-b10d-7dd40993f2f6",
   "metadata": {
    "execution": {
     "iopub.execute_input": "2023-08-15T15:41:12.579457Z",
     "iopub.status.busy": "2023-08-15T15:41:12.577189Z",
     "iopub.status.idle": "2023-08-15T15:41:12.639594Z",
     "shell.execute_reply": "2023-08-15T15:41:12.637376Z"
    },
    "tags": []
   },
   "outputs": [
    {
     "data": {
      "text/html": [
       "<table class=\"dataframe\">\n",
       "<caption>A grouped_df: 5 x 13</caption>\n",
       "<thead>\n",
       "\t<tr><th scope=col>VARIABLE</th><th scope=col>TYPE</th><th scope=col>NGENES</th><th scope=col>BETA</th><th scope=col>BETA_STD</th><th scope=col>SE</th><th scope=col>P</th><th scope=col>GWAS_set</th><th scope=col>fdr_bh</th><th scope=col>fdr_bonferroni</th><th scope=col>Status</th><th scope=col>Brain_Region</th><th scope=col>DEComparison</th></tr>\n",
       "\t<tr><th scope=col>&lt;chr&gt;</th><th scope=col>&lt;chr&gt;</th><th scope=col>&lt;int&gt;</th><th scope=col>&lt;dbl&gt;</th><th scope=col>&lt;dbl&gt;</th><th scope=col>&lt;dbl&gt;</th><th scope=col>&lt;dbl&gt;</th><th scope=col>&lt;chr&gt;</th><th scope=col>&lt;dbl&gt;</th><th scope=col>&lt;dbl&gt;</th><th scope=col>&lt;chr&gt;</th><th scope=col>&lt;chr&gt;</th><th scope=col>&lt;chr&gt;</th></tr>\n",
       "</thead>\n",
       "<tbody>\n",
       "\t<tr><td>Male__up__Hippocampus</td><td>SET</td><td>66</td><td>0.20254</td><td>0.010313</td><td>0.11082</td><td>0.0338110</td><td>BASO</td><td>0.0676220</td><td>0.0676220</td><td>Upregulated  </td><td>HIPPOCAMPUS</td><td>sex_by_sz</td></tr>\n",
       "\t<tr><td>Male__down__DLPFC    </td><td>SET</td><td> 4</td><td>1.09770</td><td>0.013801</td><td>0.47235</td><td>0.0100680</td><td>BASO</td><td>0.0100680</td><td>0.0100680</td><td>Downregulated</td><td>DLPFC      </td><td>sex_by_sz</td></tr>\n",
       "\t<tr><td>Male__up__Hippocampus</td><td>SET</td><td>65</td><td>0.31140</td><td>0.015935</td><td>0.18339</td><td>0.0447550</td><td>BMI </td><td>0.0895100</td><td>0.0895100</td><td>Upregulated  </td><td>HIPPOCAMPUS</td><td>sex_by_sz</td></tr>\n",
       "\t<tr><td>Male__down__DLPFC    </td><td>SET</td><td> 4</td><td>1.30200</td><td>0.016369</td><td>0.56729</td><td>0.0108700</td><td>EO  </td><td>0.0108700</td><td>0.0108700</td><td>Downregulated</td><td>DLPFC      </td><td>sex_by_sz</td></tr>\n",
       "\t<tr><td>Male__up__Hippocampus</td><td>SET</td><td>66</td><td>0.30420</td><td>0.015489</td><td>0.12965</td><td>0.0094876</td><td>NEUT</td><td>0.0189752</td><td>0.0189752</td><td>Upregulated  </td><td>HIPPOCAMPUS</td><td>sex_by_sz</td></tr>\n",
       "</tbody>\n",
       "</table>\n"
      ],
      "text/latex": [
       "A grouped\\_df: 5 x 13\n",
       "\\begin{tabular}{lllllllllllll}\n",
       " VARIABLE & TYPE & NGENES & BETA & BETA\\_STD & SE & P & GWAS\\_set & fdr\\_bh & fdr\\_bonferroni & Status & Brain\\_Region & DEComparison\\\\\n",
       " <chr> & <chr> & <int> & <dbl> & <dbl> & <dbl> & <dbl> & <chr> & <dbl> & <dbl> & <chr> & <chr> & <chr>\\\\\n",
       "\\hline\n",
       "\t Male\\_\\_up\\_\\_Hippocampus & SET & 66 & 0.20254 & 0.010313 & 0.11082 & 0.0338110 & BASO & 0.0676220 & 0.0676220 & Upregulated   & HIPPOCAMPUS & sex\\_by\\_sz\\\\\n",
       "\t Male\\_\\_down\\_\\_DLPFC     & SET &  4 & 1.09770 & 0.013801 & 0.47235 & 0.0100680 & BASO & 0.0100680 & 0.0100680 & Downregulated & DLPFC       & sex\\_by\\_sz\\\\\n",
       "\t Male\\_\\_up\\_\\_Hippocampus & SET & 65 & 0.31140 & 0.015935 & 0.18339 & 0.0447550 & BMI  & 0.0895100 & 0.0895100 & Upregulated   & HIPPOCAMPUS & sex\\_by\\_sz\\\\\n",
       "\t Male\\_\\_down\\_\\_DLPFC     & SET &  4 & 1.30200 & 0.016369 & 0.56729 & 0.0108700 & EO   & 0.0108700 & 0.0108700 & Downregulated & DLPFC       & sex\\_by\\_sz\\\\\n",
       "\t Male\\_\\_up\\_\\_Hippocampus & SET & 66 & 0.30420 & 0.015489 & 0.12965 & 0.0094876 & NEUT & 0.0189752 & 0.0189752 & Upregulated   & HIPPOCAMPUS & sex\\_by\\_sz\\\\\n",
       "\\end{tabular}\n"
      ],
      "text/markdown": [
       "\n",
       "A grouped_df: 5 x 13\n",
       "\n",
       "| VARIABLE &lt;chr&gt; | TYPE &lt;chr&gt; | NGENES &lt;int&gt; | BETA &lt;dbl&gt; | BETA_STD &lt;dbl&gt; | SE &lt;dbl&gt; | P &lt;dbl&gt; | GWAS_set &lt;chr&gt; | fdr_bh &lt;dbl&gt; | fdr_bonferroni &lt;dbl&gt; | Status &lt;chr&gt; | Brain_Region &lt;chr&gt; | DEComparison &lt;chr&gt; |\n",
       "|---|---|---|---|---|---|---|---|---|---|---|---|---|\n",
       "| Male__up__Hippocampus | SET | 66 | 0.20254 | 0.010313 | 0.11082 | 0.0338110 | BASO | 0.0676220 | 0.0676220 | Upregulated   | HIPPOCAMPUS | sex_by_sz |\n",
       "| Male__down__DLPFC     | SET |  4 | 1.09770 | 0.013801 | 0.47235 | 0.0100680 | BASO | 0.0100680 | 0.0100680 | Downregulated | DLPFC       | sex_by_sz |\n",
       "| Male__up__Hippocampus | SET | 65 | 0.31140 | 0.015935 | 0.18339 | 0.0447550 | BMI  | 0.0895100 | 0.0895100 | Upregulated   | HIPPOCAMPUS | sex_by_sz |\n",
       "| Male__down__DLPFC     | SET |  4 | 1.30200 | 0.016369 | 0.56729 | 0.0108700 | EO   | 0.0108700 | 0.0108700 | Downregulated | DLPFC       | sex_by_sz |\n",
       "| Male__up__Hippocampus | SET | 66 | 0.30420 | 0.015489 | 0.12965 | 0.0094876 | NEUT | 0.0189752 | 0.0189752 | Upregulated   | HIPPOCAMPUS | sex_by_sz |\n",
       "\n"
      ],
      "text/plain": [
       "  VARIABLE              TYPE NGENES BETA    BETA_STD SE      P         GWAS_set\n",
       "1 Male__up__Hippocampus SET  66     0.20254 0.010313 0.11082 0.0338110 BASO    \n",
       "2 Male__down__DLPFC     SET   4     1.09770 0.013801 0.47235 0.0100680 BASO    \n",
       "3 Male__up__Hippocampus SET  65     0.31140 0.015935 0.18339 0.0447550 BMI     \n",
       "4 Male__down__DLPFC     SET   4     1.30200 0.016369 0.56729 0.0108700 EO      \n",
       "5 Male__up__Hippocampus SET  66     0.30420 0.015489 0.12965 0.0094876 NEUT    \n",
       "  fdr_bh    fdr_bonferroni Status        Brain_Region DEComparison\n",
       "1 0.0676220 0.0676220      Upregulated   HIPPOCAMPUS  sex_by_sz   \n",
       "2 0.0100680 0.0100680      Downregulated DLPFC        sex_by_sz   \n",
       "3 0.0895100 0.0895100      Upregulated   HIPPOCAMPUS  sex_by_sz   \n",
       "4 0.0108700 0.0108700      Downregulated DLPFC        sex_by_sz   \n",
       "5 0.0189752 0.0189752      Upregulated   HIPPOCAMPUS  sex_by_sz   "
      ]
     },
     "metadata": {},
     "output_type": "display_data"
    }
   ],
   "source": [
    "subset(df , P < 0.05)"
   ]
  },
  {
   "cell_type": "code",
   "execution_count": 6,
   "id": "438c2d74-b667-499a-b0a1-1c363c6fe860",
   "metadata": {
    "execution": {
     "iopub.execute_input": "2023-08-15T15:41:12.650397Z",
     "iopub.status.busy": "2023-08-15T15:41:12.648631Z",
     "iopub.status.idle": "2023-08-15T15:41:12.732550Z",
     "shell.execute_reply": "2023-08-15T15:41:12.729794Z"
    },
    "tags": []
   },
   "outputs": [
    {
     "data": {
      "text/html": [
       "<table class=\"dataframe\">\n",
       "<caption>A grouped_df: 20 x 13</caption>\n",
       "<thead>\n",
       "\t<tr><th scope=col>VARIABLE</th><th scope=col>TYPE</th><th scope=col>NGENES</th><th scope=col>BETA</th><th scope=col>BETA_STD</th><th scope=col>SE</th><th scope=col>P</th><th scope=col>GWAS_set</th><th scope=col>fdr_bh</th><th scope=col>fdr_bonferroni</th><th scope=col>Status</th><th scope=col>Brain_Region</th><th scope=col>DEComparison</th></tr>\n",
       "\t<tr><th scope=col>&lt;chr&gt;</th><th scope=col>&lt;chr&gt;</th><th scope=col>&lt;int&gt;</th><th scope=col>&lt;dbl&gt;</th><th scope=col>&lt;dbl&gt;</th><th scope=col>&lt;dbl&gt;</th><th scope=col>&lt;dbl&gt;</th><th scope=col>&lt;chr&gt;</th><th scope=col>&lt;dbl&gt;</th><th scope=col>&lt;dbl&gt;</th><th scope=col>&lt;chr&gt;</th><th scope=col>&lt;chr&gt;</th><th scope=col>&lt;chr&gt;</th></tr>\n",
       "</thead>\n",
       "<tbody>\n",
       "\t<tr><td>Male__down__DLPFC      </td><td>SET</td><td> 4</td><td> 1.30200</td><td> 0.0163690</td><td>0.56729</td><td>0.0108700</td><td>EO           </td><td>0.0108700</td><td>0.0108700</td><td>Downregulated</td><td>DLPFC              </td><td>sex_by_sz    </td></tr>\n",
       "\t<tr><td>Male__down__DLPFC      </td><td>SET</td><td> 4</td><td> 1.22730</td><td> 0.0155310</td><td>0.97708</td><td>0.1045600</td><td>HEIGHT       </td><td>0.1045600</td><td>0.1045600</td><td>Downregulated</td><td>DLPFC              </td><td>sex_by_sz    </td></tr>\n",
       "\t<tr><td>Male__down__DLPFC      </td><td>SET</td><td> 4</td><td> 1.09770</td><td> 0.0138010</td><td>0.47235</td><td>0.0100680</td><td>BASO         </td><td>0.0100680</td><td>0.0100680</td><td>Downregulated</td><td>DLPFC              </td><td>sex_by_sz    </td></tr>\n",
       "\t<tr><td>Male__down__DLPFC      </td><td>SET</td><td> 4</td><td> 0.79598</td><td> 0.0100070</td><td>0.59805</td><td>0.0916110</td><td>MONO         </td><td>0.0916110</td><td>0.0916110</td><td>Downregulated</td><td>DLPFC              </td><td>sex_by_sz    </td></tr>\n",
       "\t<tr><td>Male__down__DLPFC      </td><td>SET</td><td> 4</td><td>-0.66036</td><td>-0.0083493</td><td>0.47647</td><td>0.9171100</td><td>ADHD         </td><td>0.9171100</td><td>0.9171100</td><td>Downregulated</td><td>DLPFC              </td><td>sex_by_sz    </td></tr>\n",
       "\t<tr><td>hippocampus__down      </td><td>SET</td><td>30</td><td>-0.49956</td><td>-0.0172720</td><td>0.34626</td><td>0.9254400</td><td>HEIGHT       </td><td>0.9254400</td><td>1.0000000</td><td>Downregulated</td><td>HIPPOCAMPUS        </td><td>maleVfemale  </td></tr>\n",
       "\t<tr><td>CvH__all               </td><td>SET</td><td>41</td><td> 0.42939</td><td> 0.0177670</td><td>0.27638</td><td>0.0601470</td><td>HEIGHT       </td><td>0.0601470</td><td>0.0601470</td><td>Both         </td><td>CAUDATExHIPPOCAMPUS</td><td>region_by_sex</td></tr>\n",
       "\t<tr><td>hippocampus__up        </td><td>SET</td><td>31</td><td>-0.37529</td><td>-0.0131060</td><td>0.17701</td><td>0.9830000</td><td>BIPOLAR      </td><td>0.9830000</td><td>1.0000000</td><td>Upregulated  </td><td>HIPPOCAMPUS        </td><td>maleVfemale  </td></tr>\n",
       "\t<tr><td>CvH__all               </td><td>SET</td><td>42</td><td>-0.35296</td><td>-0.0146870</td><td>0.14504</td><td>0.9925200</td><td>BASO         </td><td>0.9925200</td><td>0.9925200</td><td>Both         </td><td>CAUDATExHIPPOCAMPUS</td><td>region_by_sex</td></tr>\n",
       "\t<tr><td>hippocampus__down      </td><td>SET</td><td>28</td><td>-0.35250</td><td>-0.0118470</td><td>0.29751</td><td>0.8819500</td><td>BMI          </td><td>0.8937000</td><td>1.0000000</td><td>Downregulated</td><td>HIPPOCAMPUS        </td><td>maleVfemale  </td></tr>\n",
       "\t<tr><td>Male__down__DLPFC      </td><td>SET</td><td> 4</td><td>-0.34577</td><td>-0.0043472</td><td>0.56235</td><td>0.7306800</td><td>NEUT         </td><td>0.7306800</td><td>0.7306800</td><td>Downregulated</td><td>DLPFC              </td><td>sex_by_sz    </td></tr>\n",
       "\t<tr><td>Male__down__DLPFC      </td><td>SET</td><td> 3</td><td>-0.34495</td><td>-0.0037914</td><td>0.52370</td><td>0.7449500</td><td>ANOREXIA     </td><td>0.7449500</td><td>0.7449500</td><td>Downregulated</td><td>DLPFC              </td><td>sex_by_sz    </td></tr>\n",
       "\t<tr><td>hippocampus__up        </td><td>SET</td><td>30</td><td>-0.33588</td><td>-0.0116850</td><td>0.26946</td><td>0.8937000</td><td>BMI          </td><td>0.8937000</td><td>1.0000000</td><td>Upregulated  </td><td>HIPPOCAMPUS        </td><td>maleVfemale  </td></tr>\n",
       "\t<tr><td>Male__up__Hippocampus  </td><td>SET</td><td>65</td><td> 0.31140</td><td> 0.0159350</td><td>0.18339</td><td>0.0447550</td><td>BMI          </td><td>0.0895100</td><td>0.0895100</td><td>Upregulated  </td><td>HIPPOCAMPUS        </td><td>sex_by_sz    </td></tr>\n",
       "\t<tr><td>Male__up__Hippocampus  </td><td>SET</td><td>66</td><td> 0.30420</td><td> 0.0154890</td><td>0.12965</td><td>0.0094876</td><td>NEUT         </td><td>0.0189752</td><td>0.0189752</td><td>Upregulated  </td><td>HIPPOCAMPUS        </td><td>sex_by_sz    </td></tr>\n",
       "\t<tr><td>Male__down__Hippocampus</td><td>SET</td><td>79</td><td> 0.27231</td><td> 0.0152630</td><td>0.21819</td><td>0.1060100</td><td>HEIGHT       </td><td>0.1737900</td><td>0.2120200</td><td>Downregulated</td><td>HIPPOCAMPUS        </td><td>sex_by_sz    </td></tr>\n",
       "\t<tr><td>hippocampus__up        </td><td>SET</td><td>30</td><td>-0.27154</td><td>-0.0093492</td><td>0.19821</td><td>0.9146400</td><td>SCHIZOPHRENIA</td><td>0.9146400</td><td>1.0000000</td><td>Upregulated  </td><td>HIPPOCAMPUS        </td><td>maleVfemale  </td></tr>\n",
       "\t<tr><td>Male__up__Hippocampus  </td><td>SET</td><td>66</td><td>-0.26055</td><td>-0.0133900</td><td>0.11360</td><td>0.9890900</td><td>ANOREXIA     </td><td>0.9890900</td><td>1.0000000</td><td>Upregulated  </td><td>HIPPOCAMPUS        </td><td>sex_by_sz    </td></tr>\n",
       "\t<tr><td>dlpfc__down            </td><td>SET</td><td>75</td><td>-0.26002</td><td>-0.0143140</td><td>0.16816</td><td>0.9389700</td><td>BMI          </td><td>0.9389700</td><td>1.0000000</td><td>Downregulated</td><td>DLPFC              </td><td>maleVfemale  </td></tr>\n",
       "\t<tr><td>caudate__up            </td><td>SET</td><td> 3</td><td>-0.25604</td><td>-0.0483650</td><td>0.57239</td><td>0.6719000</td><td>DEPRESSION   </td><td>0.6719000</td><td>0.6719000</td><td>Upregulated  </td><td>CAUDATE            </td><td>maleVfemale  </td></tr>\n",
       "</tbody>\n",
       "</table>\n"
      ],
      "text/latex": [
       "A grouped\\_df: 20 x 13\n",
       "\\begin{tabular}{lllllllllllll}\n",
       " VARIABLE & TYPE & NGENES & BETA & BETA\\_STD & SE & P & GWAS\\_set & fdr\\_bh & fdr\\_bonferroni & Status & Brain\\_Region & DEComparison\\\\\n",
       " <chr> & <chr> & <int> & <dbl> & <dbl> & <dbl> & <dbl> & <chr> & <dbl> & <dbl> & <chr> & <chr> & <chr>\\\\\n",
       "\\hline\n",
       "\t Male\\_\\_down\\_\\_DLPFC       & SET &  4 &  1.30200 &  0.0163690 & 0.56729 & 0.0108700 & EO            & 0.0108700 & 0.0108700 & Downregulated & DLPFC               & sex\\_by\\_sz    \\\\\n",
       "\t Male\\_\\_down\\_\\_DLPFC       & SET &  4 &  1.22730 &  0.0155310 & 0.97708 & 0.1045600 & HEIGHT        & 0.1045600 & 0.1045600 & Downregulated & DLPFC               & sex\\_by\\_sz    \\\\\n",
       "\t Male\\_\\_down\\_\\_DLPFC       & SET &  4 &  1.09770 &  0.0138010 & 0.47235 & 0.0100680 & BASO          & 0.0100680 & 0.0100680 & Downregulated & DLPFC               & sex\\_by\\_sz    \\\\\n",
       "\t Male\\_\\_down\\_\\_DLPFC       & SET &  4 &  0.79598 &  0.0100070 & 0.59805 & 0.0916110 & MONO          & 0.0916110 & 0.0916110 & Downregulated & DLPFC               & sex\\_by\\_sz    \\\\\n",
       "\t Male\\_\\_down\\_\\_DLPFC       & SET &  4 & -0.66036 & -0.0083493 & 0.47647 & 0.9171100 & ADHD          & 0.9171100 & 0.9171100 & Downregulated & DLPFC               & sex\\_by\\_sz    \\\\\n",
       "\t hippocampus\\_\\_down       & SET & 30 & -0.49956 & -0.0172720 & 0.34626 & 0.9254400 & HEIGHT        & 0.9254400 & 1.0000000 & Downregulated & HIPPOCAMPUS         & maleVfemale  \\\\\n",
       "\t CvH\\_\\_all                & SET & 41 &  0.42939 &  0.0177670 & 0.27638 & 0.0601470 & HEIGHT        & 0.0601470 & 0.0601470 & Both          & CAUDATExHIPPOCAMPUS & region\\_by\\_sex\\\\\n",
       "\t hippocampus\\_\\_up         & SET & 31 & -0.37529 & -0.0131060 & 0.17701 & 0.9830000 & BIPOLAR       & 0.9830000 & 1.0000000 & Upregulated   & HIPPOCAMPUS         & maleVfemale  \\\\\n",
       "\t CvH\\_\\_all                & SET & 42 & -0.35296 & -0.0146870 & 0.14504 & 0.9925200 & BASO          & 0.9925200 & 0.9925200 & Both          & CAUDATExHIPPOCAMPUS & region\\_by\\_sex\\\\\n",
       "\t hippocampus\\_\\_down       & SET & 28 & -0.35250 & -0.0118470 & 0.29751 & 0.8819500 & BMI           & 0.8937000 & 1.0000000 & Downregulated & HIPPOCAMPUS         & maleVfemale  \\\\\n",
       "\t Male\\_\\_down\\_\\_DLPFC       & SET &  4 & -0.34577 & -0.0043472 & 0.56235 & 0.7306800 & NEUT          & 0.7306800 & 0.7306800 & Downregulated & DLPFC               & sex\\_by\\_sz    \\\\\n",
       "\t Male\\_\\_down\\_\\_DLPFC       & SET &  3 & -0.34495 & -0.0037914 & 0.52370 & 0.7449500 & ANOREXIA      & 0.7449500 & 0.7449500 & Downregulated & DLPFC               & sex\\_by\\_sz    \\\\\n",
       "\t hippocampus\\_\\_up         & SET & 30 & -0.33588 & -0.0116850 & 0.26946 & 0.8937000 & BMI           & 0.8937000 & 1.0000000 & Upregulated   & HIPPOCAMPUS         & maleVfemale  \\\\\n",
       "\t Male\\_\\_up\\_\\_Hippocampus   & SET & 65 &  0.31140 &  0.0159350 & 0.18339 & 0.0447550 & BMI           & 0.0895100 & 0.0895100 & Upregulated   & HIPPOCAMPUS         & sex\\_by\\_sz    \\\\\n",
       "\t Male\\_\\_up\\_\\_Hippocampus   & SET & 66 &  0.30420 &  0.0154890 & 0.12965 & 0.0094876 & NEUT          & 0.0189752 & 0.0189752 & Upregulated   & HIPPOCAMPUS         & sex\\_by\\_sz    \\\\\n",
       "\t Male\\_\\_down\\_\\_Hippocampus & SET & 79 &  0.27231 &  0.0152630 & 0.21819 & 0.1060100 & HEIGHT        & 0.1737900 & 0.2120200 & Downregulated & HIPPOCAMPUS         & sex\\_by\\_sz    \\\\\n",
       "\t hippocampus\\_\\_up         & SET & 30 & -0.27154 & -0.0093492 & 0.19821 & 0.9146400 & SCHIZOPHRENIA & 0.9146400 & 1.0000000 & Upregulated   & HIPPOCAMPUS         & maleVfemale  \\\\\n",
       "\t Male\\_\\_up\\_\\_Hippocampus   & SET & 66 & -0.26055 & -0.0133900 & 0.11360 & 0.9890900 & ANOREXIA      & 0.9890900 & 1.0000000 & Upregulated   & HIPPOCAMPUS         & sex\\_by\\_sz    \\\\\n",
       "\t dlpfc\\_\\_down             & SET & 75 & -0.26002 & -0.0143140 & 0.16816 & 0.9389700 & BMI           & 0.9389700 & 1.0000000 & Downregulated & DLPFC               & maleVfemale  \\\\\n",
       "\t caudate\\_\\_up             & SET &  3 & -0.25604 & -0.0483650 & 0.57239 & 0.6719000 & DEPRESSION    & 0.6719000 & 0.6719000 & Upregulated   & CAUDATE             & maleVfemale  \\\\\n",
       "\\end{tabular}\n"
      ],
      "text/markdown": [
       "\n",
       "A grouped_df: 20 x 13\n",
       "\n",
       "| VARIABLE &lt;chr&gt; | TYPE &lt;chr&gt; | NGENES &lt;int&gt; | BETA &lt;dbl&gt; | BETA_STD &lt;dbl&gt; | SE &lt;dbl&gt; | P &lt;dbl&gt; | GWAS_set &lt;chr&gt; | fdr_bh &lt;dbl&gt; | fdr_bonferroni &lt;dbl&gt; | Status &lt;chr&gt; | Brain_Region &lt;chr&gt; | DEComparison &lt;chr&gt; |\n",
       "|---|---|---|---|---|---|---|---|---|---|---|---|---|\n",
       "| Male__down__DLPFC       | SET |  4 |  1.30200 |  0.0163690 | 0.56729 | 0.0108700 | EO            | 0.0108700 | 0.0108700 | Downregulated | DLPFC               | sex_by_sz     |\n",
       "| Male__down__DLPFC       | SET |  4 |  1.22730 |  0.0155310 | 0.97708 | 0.1045600 | HEIGHT        | 0.1045600 | 0.1045600 | Downregulated | DLPFC               | sex_by_sz     |\n",
       "| Male__down__DLPFC       | SET |  4 |  1.09770 |  0.0138010 | 0.47235 | 0.0100680 | BASO          | 0.0100680 | 0.0100680 | Downregulated | DLPFC               | sex_by_sz     |\n",
       "| Male__down__DLPFC       | SET |  4 |  0.79598 |  0.0100070 | 0.59805 | 0.0916110 | MONO          | 0.0916110 | 0.0916110 | Downregulated | DLPFC               | sex_by_sz     |\n",
       "| Male__down__DLPFC       | SET |  4 | -0.66036 | -0.0083493 | 0.47647 | 0.9171100 | ADHD          | 0.9171100 | 0.9171100 | Downregulated | DLPFC               | sex_by_sz     |\n",
       "| hippocampus__down       | SET | 30 | -0.49956 | -0.0172720 | 0.34626 | 0.9254400 | HEIGHT        | 0.9254400 | 1.0000000 | Downregulated | HIPPOCAMPUS         | maleVfemale   |\n",
       "| CvH__all                | SET | 41 |  0.42939 |  0.0177670 | 0.27638 | 0.0601470 | HEIGHT        | 0.0601470 | 0.0601470 | Both          | CAUDATExHIPPOCAMPUS | region_by_sex |\n",
       "| hippocampus__up         | SET | 31 | -0.37529 | -0.0131060 | 0.17701 | 0.9830000 | BIPOLAR       | 0.9830000 | 1.0000000 | Upregulated   | HIPPOCAMPUS         | maleVfemale   |\n",
       "| CvH__all                | SET | 42 | -0.35296 | -0.0146870 | 0.14504 | 0.9925200 | BASO          | 0.9925200 | 0.9925200 | Both          | CAUDATExHIPPOCAMPUS | region_by_sex |\n",
       "| hippocampus__down       | SET | 28 | -0.35250 | -0.0118470 | 0.29751 | 0.8819500 | BMI           | 0.8937000 | 1.0000000 | Downregulated | HIPPOCAMPUS         | maleVfemale   |\n",
       "| Male__down__DLPFC       | SET |  4 | -0.34577 | -0.0043472 | 0.56235 | 0.7306800 | NEUT          | 0.7306800 | 0.7306800 | Downregulated | DLPFC               | sex_by_sz     |\n",
       "| Male__down__DLPFC       | SET |  3 | -0.34495 | -0.0037914 | 0.52370 | 0.7449500 | ANOREXIA      | 0.7449500 | 0.7449500 | Downregulated | DLPFC               | sex_by_sz     |\n",
       "| hippocampus__up         | SET | 30 | -0.33588 | -0.0116850 | 0.26946 | 0.8937000 | BMI           | 0.8937000 | 1.0000000 | Upregulated   | HIPPOCAMPUS         | maleVfemale   |\n",
       "| Male__up__Hippocampus   | SET | 65 |  0.31140 |  0.0159350 | 0.18339 | 0.0447550 | BMI           | 0.0895100 | 0.0895100 | Upregulated   | HIPPOCAMPUS         | sex_by_sz     |\n",
       "| Male__up__Hippocampus   | SET | 66 |  0.30420 |  0.0154890 | 0.12965 | 0.0094876 | NEUT          | 0.0189752 | 0.0189752 | Upregulated   | HIPPOCAMPUS         | sex_by_sz     |\n",
       "| Male__down__Hippocampus | SET | 79 |  0.27231 |  0.0152630 | 0.21819 | 0.1060100 | HEIGHT        | 0.1737900 | 0.2120200 | Downregulated | HIPPOCAMPUS         | sex_by_sz     |\n",
       "| hippocampus__up         | SET | 30 | -0.27154 | -0.0093492 | 0.19821 | 0.9146400 | SCHIZOPHRENIA | 0.9146400 | 1.0000000 | Upregulated   | HIPPOCAMPUS         | maleVfemale   |\n",
       "| Male__up__Hippocampus   | SET | 66 | -0.26055 | -0.0133900 | 0.11360 | 0.9890900 | ANOREXIA      | 0.9890900 | 1.0000000 | Upregulated   | HIPPOCAMPUS         | sex_by_sz     |\n",
       "| dlpfc__down             | SET | 75 | -0.26002 | -0.0143140 | 0.16816 | 0.9389700 | BMI           | 0.9389700 | 1.0000000 | Downregulated | DLPFC               | maleVfemale   |\n",
       "| caudate__up             | SET |  3 | -0.25604 | -0.0483650 | 0.57239 | 0.6719000 | DEPRESSION    | 0.6719000 | 0.6719000 | Upregulated   | CAUDATE             | maleVfemale   |\n",
       "\n"
      ],
      "text/plain": [
       "   VARIABLE                TYPE NGENES BETA     BETA_STD   SE      P        \n",
       "1  Male__down__DLPFC       SET   4      1.30200  0.0163690 0.56729 0.0108700\n",
       "2  Male__down__DLPFC       SET   4      1.22730  0.0155310 0.97708 0.1045600\n",
       "3  Male__down__DLPFC       SET   4      1.09770  0.0138010 0.47235 0.0100680\n",
       "4  Male__down__DLPFC       SET   4      0.79598  0.0100070 0.59805 0.0916110\n",
       "5  Male__down__DLPFC       SET   4     -0.66036 -0.0083493 0.47647 0.9171100\n",
       "6  hippocampus__down       SET  30     -0.49956 -0.0172720 0.34626 0.9254400\n",
       "7  CvH__all                SET  41      0.42939  0.0177670 0.27638 0.0601470\n",
       "8  hippocampus__up         SET  31     -0.37529 -0.0131060 0.17701 0.9830000\n",
       "9  CvH__all                SET  42     -0.35296 -0.0146870 0.14504 0.9925200\n",
       "10 hippocampus__down       SET  28     -0.35250 -0.0118470 0.29751 0.8819500\n",
       "11 Male__down__DLPFC       SET   4     -0.34577 -0.0043472 0.56235 0.7306800\n",
       "12 Male__down__DLPFC       SET   3     -0.34495 -0.0037914 0.52370 0.7449500\n",
       "13 hippocampus__up         SET  30     -0.33588 -0.0116850 0.26946 0.8937000\n",
       "14 Male__up__Hippocampus   SET  65      0.31140  0.0159350 0.18339 0.0447550\n",
       "15 Male__up__Hippocampus   SET  66      0.30420  0.0154890 0.12965 0.0094876\n",
       "16 Male__down__Hippocampus SET  79      0.27231  0.0152630 0.21819 0.1060100\n",
       "17 hippocampus__up         SET  30     -0.27154 -0.0093492 0.19821 0.9146400\n",
       "18 Male__up__Hippocampus   SET  66     -0.26055 -0.0133900 0.11360 0.9890900\n",
       "19 dlpfc__down             SET  75     -0.26002 -0.0143140 0.16816 0.9389700\n",
       "20 caudate__up             SET   3     -0.25604 -0.0483650 0.57239 0.6719000\n",
       "   GWAS_set      fdr_bh    fdr_bonferroni Status        Brain_Region       \n",
       "1  EO            0.0108700 0.0108700      Downregulated DLPFC              \n",
       "2  HEIGHT        0.1045600 0.1045600      Downregulated DLPFC              \n",
       "3  BASO          0.0100680 0.0100680      Downregulated DLPFC              \n",
       "4  MONO          0.0916110 0.0916110      Downregulated DLPFC              \n",
       "5  ADHD          0.9171100 0.9171100      Downregulated DLPFC              \n",
       "6  HEIGHT        0.9254400 1.0000000      Downregulated HIPPOCAMPUS        \n",
       "7  HEIGHT        0.0601470 0.0601470      Both          CAUDATExHIPPOCAMPUS\n",
       "8  BIPOLAR       0.9830000 1.0000000      Upregulated   HIPPOCAMPUS        \n",
       "9  BASO          0.9925200 0.9925200      Both          CAUDATExHIPPOCAMPUS\n",
       "10 BMI           0.8937000 1.0000000      Downregulated HIPPOCAMPUS        \n",
       "11 NEUT          0.7306800 0.7306800      Downregulated DLPFC              \n",
       "12 ANOREXIA      0.7449500 0.7449500      Downregulated DLPFC              \n",
       "13 BMI           0.8937000 1.0000000      Upregulated   HIPPOCAMPUS        \n",
       "14 BMI           0.0895100 0.0895100      Upregulated   HIPPOCAMPUS        \n",
       "15 NEUT          0.0189752 0.0189752      Upregulated   HIPPOCAMPUS        \n",
       "16 HEIGHT        0.1737900 0.2120200      Downregulated HIPPOCAMPUS        \n",
       "17 SCHIZOPHRENIA 0.9146400 1.0000000      Upregulated   HIPPOCAMPUS        \n",
       "18 ANOREXIA      0.9890900 1.0000000      Upregulated   HIPPOCAMPUS        \n",
       "19 BMI           0.9389700 1.0000000      Downregulated DLPFC              \n",
       "20 DEPRESSION    0.6719000 0.6719000      Upregulated   CAUDATE            \n",
       "   DEComparison \n",
       "1  sex_by_sz    \n",
       "2  sex_by_sz    \n",
       "3  sex_by_sz    \n",
       "4  sex_by_sz    \n",
       "5  sex_by_sz    \n",
       "6  maleVfemale  \n",
       "7  region_by_sex\n",
       "8  maleVfemale  \n",
       "9  region_by_sex\n",
       "10 maleVfemale  \n",
       "11 sex_by_sz    \n",
       "12 sex_by_sz    \n",
       "13 maleVfemale  \n",
       "14 sex_by_sz    \n",
       "15 sex_by_sz    \n",
       "16 sex_by_sz    \n",
       "17 maleVfemale  \n",
       "18 sex_by_sz    \n",
       "19 maleVfemale  \n",
       "20 maleVfemale  "
      ]
     },
     "metadata": {},
     "output_type": "display_data"
    }
   ],
   "source": [
    "df %>% arrange(desc(abs(BETA))) %>% head(20)"
   ]
  },
  {
   "cell_type": "code",
   "execution_count": 7,
   "id": "09171f7f-f0a9-44ab-aed2-5f4f630a52f1",
   "metadata": {
    "execution": {
     "iopub.execute_input": "2023-08-15T15:41:12.743833Z",
     "iopub.status.busy": "2023-08-15T15:41:12.741393Z",
     "iopub.status.idle": "2023-08-15T15:41:12.795624Z",
     "shell.execute_reply": "2023-08-15T15:41:12.784857Z"
    }
   },
   "outputs": [
    {
     "data": {
      "text/plain": [
       "R version 4.1.2 (2021-11-01)\n",
       "Platform: x86_64-pc-linux-gnu (64-bit)\n",
       "Running under: Arch Linux\n",
       "\n",
       "Matrix products: default\n",
       "BLAS:   /usr/lib/libopenblasp-r0.3.18.so\n",
       "LAPACK: /usr/lib/liblapack.so.3.10.0\n",
       "\n",
       "locale:\n",
       "[1] C\n",
       "\n",
       "attached base packages:\n",
       "[1] stats     graphics  grDevices utils     datasets  methods   base     \n",
       "\n",
       "other attached packages:\n",
       " [1] data.table_1.14.8 lubridate_1.9.2   forcats_1.0.0     stringr_1.5.0    \n",
       " [5] dplyr_1.1.2       purrr_1.0.2       readr_2.1.4       tidyr_1.3.0      \n",
       " [9] tibble_3.2.1      ggplot2_3.4.2     tidyverse_2.0.0  \n",
       "\n",
       "loaded via a namespace (and not attached):\n",
       " [1] pillar_1.9.0     compiler_4.1.2   base64enc_0.1-3  tools_4.1.2     \n",
       " [5] digest_0.6.33    uuid_1.1-0       timechange_0.2.0 jsonlite_1.8.7  \n",
       " [9] evaluate_0.21    lifecycle_1.0.3  gtable_0.3.3     pkgconfig_2.0.3 \n",
       "[13] rlang_1.1.1      IRdisplay_1.1    cli_3.6.1        IRkernel_1.3.2  \n",
       "[17] fastmap_1.1.1    repr_1.1.6       withr_2.5.0      hms_1.1.3       \n",
       "[21] generics_0.1.3   vctrs_0.6.3      grid_4.1.2       tidyselect_1.2.0\n",
       "[25] glue_1.6.2       R6_2.5.1         fansi_1.0.4      pbdZMQ_0.3-9    \n",
       "[29] tzdb_0.4.0       magrittr_2.0.3   scales_1.2.1     htmltools_0.5.6 \n",
       "[33] colorspace_2.1-0 utf8_1.2.3       stringi_1.7.12   munsell_0.5.0   \n",
       "[37] crayon_1.5.2    "
      ]
     },
     "metadata": {},
     "output_type": "display_data"
    }
   ],
   "source": [
    "sessionInfo()"
   ]
  }
 ],
 "metadata": {
  "kernelspec": {
   "display_name": "R",
   "language": "R",
   "name": "ir"
  },
  "language_info": {
   "codemirror_mode": "r",
   "file_extension": ".r",
   "mimetype": "text/x-r-source",
   "name": "R",
   "pygments_lexer": "r",
   "version": "4.1.2"
  }
 },
 "nbformat": 4,
 "nbformat_minor": 5
}
