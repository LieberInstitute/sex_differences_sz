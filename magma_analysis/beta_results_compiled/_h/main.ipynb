{
 "cells": [
  {
   "cell_type": "code",
   "execution_count": null,
   "id": "a907a23c-85a0-4ddd-bcb1-60e37eb2ba2a",
   "metadata": {},
   "outputs": [],
   "source": [
    "suppressMessages({\n",
    "    library(tidyverse)\n",
    "    library(data.table)\n",
    "\n",
    "})\n",
    "\n",
    "\n",
    "save_plot <- function(p, fn, w, h){\n",
    "    for(ext in c(\".pdf\", \".png\")){\n",
    "        ggsave(filename=paste0(fn,ext), plot=p, width=w, height=h)\n",
    "    }\n",
    "}\n",
    "\n",
    "dir.create('../_m/')\n",
    "setwd('../_m/')"
   ]
  },
  {
   "cell_type": "code",
   "execution_count": null,
   "id": "8da44b93-0f19-470b-aad7-f7f490745310",
   "metadata": {},
   "outputs": [],
   "source": [
    "#file_list"
   ]
  },
  {
   "cell_type": "code",
   "execution_count": null,
   "id": "ca5eaeed-eb76-41c5-aab1-6290dcbf066b",
   "metadata": {},
   "outputs": [],
   "source": [
    "# create a list of all the filenames in the folder that end with \".csv\"\n",
    "file_list <- Sys.glob('../../custom_universe*/*/_m/*_gene_set_results.gsa.out')\n",
    "#file_list\n",
    "file_list <- file_list[file.info(file_list)$size > 0] %>% # remove empty files (no magma enrichment)\n",
    "                discard(~str_detect(.x, '/custom_universe/blood_traits/_m/Cv*|/custom_universe/psych_general_traits/_m/Cv*')) # remove DE direction of effect from specific analysis for brain region x brain region \n",
    "file_list %>% head()\n",
    "\n",
    "study_name <- gsub('.*.txt_|_gene_set.*','',file_list)\n",
    "study_name %>% head()\n",
    "\n",
    "\n",
    "brain_region <- gsub('.*_m/|_deg.genes.txt.*','',file_list) %>%\n",
    "                gsub('_.*','',.)\n",
    "brain_region <- lapply(brain_region, toupper) %>% as.character()\n",
    "\n",
    "brain_region[brain_region == \"CVD\"] <- \"CAUDATExDLPFC\"\n",
    "brain_region[brain_region == \"CVH\"] <- \"CAUDATExHIPPOCAMPUS\"\n",
    "\n",
    "table(brain_region)\n",
    "head(brain_region)\n",
    "\n",
    "\n",
    "\n",
    "\n",
    "comparison <- gsub('.*_m/|_deg.genes.txt.*|','',file_list) %>%\n",
    "                gsub('.*_','',.)\n",
    "\n",
    "comparison[comparison == \"betweensex\"] <- \"sex_by_sz\"\n",
    "comparison[comparison == \"betweensex\"] <- \"sex_by_sz\"\n",
    "\n",
    "\n",
    "\n",
    "comparison %>% table()\n",
    "\n",
    "\n",
    "\n",
    "#_betweensex_deg_genes: sex_by_sz\n",
    "\n",
    "#XvD: region_by_sex\n",
    "\n",
    "#maleVfemale: maleVfemale"
   ]
  },
  {
   "cell_type": "code",
   "execution_count": null,
   "id": "c46b3006-0378-4279-9236-c2faa2430491",
   "metadata": {},
   "outputs": [],
   "source": []
  },
  {
   "cell_type": "code",
   "execution_count": null,
   "id": "ce8e1cfd-e8e1-4b8d-9343-4551ec458c1a",
   "metadata": {},
   "outputs": [],
   "source": [
    "df <- data.frame()\n",
    "\n",
    "for (i in seq_along(file_list)) {\n",
    "    dftmp <- fread(file_list[i], skip = 4) %>%\n",
    "        set_names(c('VARIABLE', 'TYPE', 'NGENES', 'BETA', 'BETA_STD', 'SE', 'P')) %>%\n",
    "        mutate(GWAS_set = study_name[i],\n",
    "               Status = ifelse(grepl('down', VARIABLE), 'Downregulated', 'Upregulated'),\n",
    "               Brain_Region = brain_region[i],\n",
    "               DEComparison = comparison[i]\n",
    "        ) %>%\n",
    "        mutate(GWAS_set = ifelse(GWAS_set == 'SCZ', 'SCHIZOPHRENIA', GWAS_set)) %>%\n",
    "        group_by(Brain_Region, DEComparison) %>%\n",
    "        mutate(fdr_bh = p.adjust(P, method = \"BH\"),\n",
    "               fdr_bonferroni = p.adjust(P, method = \"bonferroni\")) %>%\n",
    "        select(VARIABLE,TYPE, NGENES, BETA, BETA_STD, SE, P, GWAS_set, fdr_bh, fdr_bonferroni, Status ,Brain_Region, DEComparison)\n",
    "    df <- rbind(dftmp, df) %>% arrange(GWAS_set)\n",
    "}\n",
    "\n",
    "df <- df %>% \n",
    "        mutate(Status = ifelse(DEComparison == 'all', 'Both', Status),\n",
    "               DEComparison = ifelse(DEComparison == 'all','region_by_sex', DEComparison))\n",
    "\n",
    "\n",
    "head(df)\n",
    "fwrite(df, 'magma_enrichment_results.tsv', quote = F, sep = '\\t', row.names = F)\n"
   ]
  },
  {
   "cell_type": "code",
   "execution_count": null,
   "id": "c9e2a75c-9449-4fa1-b10d-7dd40993f2f6",
   "metadata": {
    "tags": []
   },
   "outputs": [],
   "source": [
    "subset(df , P < 0.05)"
   ]
  },
  {
   "cell_type": "code",
   "execution_count": null,
   "id": "438c2d74-b667-499a-b0a1-1c363c6fe860",
   "metadata": {
    "tags": []
   },
   "outputs": [],
   "source": [
    "df %>% arrange(desc(abs(BETA))) %>% head(20)"
   ]
  },
  {
   "cell_type": "code",
   "execution_count": null,
   "id": "09171f7f-f0a9-44ab-aed2-5f4f630a52f1",
   "metadata": {},
   "outputs": [],
   "source": [
    "sessionInfo()"
   ]
  }
 ],
 "metadata": {
  "kernelspec": {
   "display_name": "R",
   "language": "R",
   "name": "ir"
  },
  "language_info": {
   "codemirror_mode": "r",
   "file_extension": ".r",
   "mimetype": "text/x-r-source",
   "name": "R",
   "pygments_lexer": "r",
   "version": "4.1.2"
  }
 },
 "nbformat": 4,
 "nbformat_minor": 5
}
