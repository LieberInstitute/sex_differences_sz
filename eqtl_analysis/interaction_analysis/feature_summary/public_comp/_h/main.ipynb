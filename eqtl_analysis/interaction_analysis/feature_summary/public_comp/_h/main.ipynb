{
 "cells": [
  {
   "cell_type": "markdown",
   "metadata": {},
   "source": [
    "# Examine overlaps with published data"
   ]
  },
  {
   "cell_type": "code",
   "execution_count": null,
   "metadata": {},
   "outputs": [],
   "source": [
    "import numpy as np\n",
    "import pandas as pd\n",
    "import session_info\n",
    "from pyhere import here"
   ]
  },
  {
   "cell_type": "markdown",
   "metadata": {},
   "source": [
    "## Public si-eQTL analysis"
   ]
  },
  {
   "cell_type": "code",
   "execution_count": null,
   "metadata": {},
   "outputs": [],
   "source": [
    "shen = [\"GDAP2\", \"AIM2\", \"SLAMF6\", \"RLF\", \"ATG4C\", \"FUT7\",\n",
    "        \"TMEM218\", \"C11orf74\", \"RAB35\", \"TMEM5\", \"HNRNPK\",\n",
    "        \"CDCA3\", \"ERCC5\", \"GJB6\", \"SNTB2\", \"SPNS3\", \n",
    "        \"XAF1\", \"RBBP8\", \"RUFY4\", \"CA2\", \"RAPGEF1\"]\n",
    "print(\"Shen et al.:\")\n",
    "print(len(shen))\n",
    "\n",
    "kukurba = [\"NOD2\", \"WDR36\", \"BSCL2\", \"MAP7D3\", \"RHOXF1\", \"DNAH1\"]\n",
    "print(\"Kukurba et al.:\")\n",
    "print(len(kukurba))\n",
    "\n",
    "yao = [\"NOD2\", \"HLA-DRB5\", \"HLA-DRB5\", \"KIAA0586\", \"PPP2R5A\", \n",
    "       \"TSNAXIP1\", \"MUT\", \"GRIK2\", \"C15orf37\", \"LIMA1\", \"IL6ST\", \n",
    "       \"HCG8\", \"BLOC1S3\", \"NKX3-1\", \"CXorf23\"]\n",
    "print(\"Yao et al.:\")\n",
    "print(len(np.unique(yao)))\n",
    "print(\"Total of Yao + Kukurba:\")\n",
    "len(set(yao) | set(kukurba))"
   ]
  },
  {
   "cell_type": "markdown",
   "metadata": {},
   "source": [
    "## Load BrainSeq si-eQTL results"
   ]
  },
  {
   "cell_type": "markdown",
   "metadata": {},
   "source": [
    "### Interacting variant-gene pairs"
   ]
  },
  {
   "cell_type": "code",
   "execution_count": null,
   "metadata": {},
   "outputs": [],
   "source": [
    "bs0 = pd.read_csv(\"../../_m/BrainSeq_sexGenotypes_4features_3regions.txt.gz\", sep='\\t')\n",
    "bs0[\"ensembl_gene_id\"] = bs0.gene_id.str.replace(\"\\\\..*\", \"\", regex=True)\n",
    "biomart = pd.read_csv(\"../_h/biomart.csv\", index_col=0)\n",
    "bs = bs0.merge(biomart, on=\"ensembl_gene_id\").drop_duplicates(subset=\"gene_id\")\n",
    "print(bs.shape)\n",
    "bs.tail(2)"
   ]
  },
  {
   "cell_type": "code",
   "execution_count": null,
   "metadata": {},
   "outputs": [],
   "source": [
    "bs[(bs['external_gene_name'].isin(shen))].to_csv(\"siEQTL_Shen_comparison.csv\", index=False)"
   ]
  },
  {
   "cell_type": "code",
   "execution_count": null,
   "metadata": {},
   "outputs": [],
   "source": [
    "bs[(bs['external_gene_name'].isin(kukurba))]"
   ]
  },
  {
   "cell_type": "code",
   "execution_count": null,
   "metadata": {},
   "outputs": [],
   "source": [
    "bs[(bs['external_gene_name'].isin(yao))]"
   ]
  },
  {
   "cell_type": "code",
   "execution_count": null,
   "metadata": {},
   "outputs": [],
   "source": [
    "bs[(bs['external_gene_name'].isin(shen+kukurba+yao))]"
   ]
  },
  {
   "cell_type": "markdown",
   "metadata": {},
   "source": [
    "## GTEx comparison"
   ]
  },
  {
   "cell_type": "code",
   "execution_count": null,
   "metadata": {},
   "outputs": [],
   "source": [
    "gtex = pd.read_csv(here(\"input/public_results/gtex_results/_m\",\n",
    "                        \"GTEx_Analysis_v8_sbeQTLs/GTEx_Analysis_v8_sbeQTLs.txt\"), \n",
    "                   sep='\\t')\n",
    "gtex.iloc[0:2, 0:10]"
   ]
  },
  {
   "cell_type": "code",
   "execution_count": null,
   "metadata": {},
   "outputs": [],
   "source": [
    "gtex.iloc[0:2, 10:14]"
   ]
  },
  {
   "cell_type": "code",
   "execution_count": null,
   "metadata": {},
   "outputs": [],
   "source": [
    "## qval threshold equal to number of published sb-eQTL\n",
    "gtex[(gtex['qval'] < 0.25) & (gtex[\"Tissue\"].str.contains(\"Brain\"))]\\\n",
    "    .loc[:, [\"ensembl_gene_id\", \"hugo_gene_id\", \"Tissue\", \"pvals.corrected\", 'qval']].head(10)"
   ]
  },
  {
   "cell_type": "code",
   "execution_count": null,
   "metadata": {},
   "outputs": [],
   "source": [
    "## qval threshold equal to number of published sb-eQTL\n",
    "gtex[(gtex['qval'] < 0.25) & (gtex[\"Tissue\"].str.contains(\"Whole\"))]\\\n",
    "    .loc[:, [\"ensembl_gene_id\", \"hugo_gene_id\", \"Tissue\", \"pvals.corrected\", 'qval']].head(10)"
   ]
  },
  {
   "cell_type": "code",
   "execution_count": null,
   "metadata": {},
   "outputs": [],
   "source": [
    "gtex_sig = gtex[(gtex['qval'] < 0.25)]\n",
    "gtex_sig.shape"
   ]
  },
  {
   "cell_type": "code",
   "execution_count": null,
   "metadata": {},
   "outputs": [],
   "source": [
    "gtex_sig.head(10)"
   ]
  },
  {
   "cell_type": "markdown",
   "metadata": {},
   "source": [
    "### mashr"
   ]
  },
  {
   "cell_type": "code",
   "execution_count": null,
   "metadata": {},
   "outputs": [],
   "source": [
    "gtex_overlap = bs[(bs['gene_id'].isin(gtex_sig.ensembl_gene_id))].drop_duplicates()\n",
    "print(gtex_overlap.shape)\n",
    "gtex_overlap"
   ]
  },
  {
   "cell_type": "code",
   "execution_count": null,
   "metadata": {},
   "outputs": [],
   "source": [
    "gtex_overlap.shape[0]/bs.shape[0] * 100"
   ]
  },
  {
   "cell_type": "code",
   "execution_count": null,
   "metadata": {},
   "outputs": [],
   "source": [
    "gtex_sig[(gtex_sig['ensembl_gene_id'].isin(bs.gene_id))]"
   ]
  },
  {
   "cell_type": "code",
   "execution_count": null,
   "metadata": {},
   "outputs": [],
   "source": [
    "gtex_sig[(gtex_sig['ensembl_gene_id'].isin(bs.gene_id))]\\\n",
    "    .to_csv(\"siEQTL_gtex_comparison.csv\", index=False)"
   ]
  },
  {
   "cell_type": "markdown",
   "metadata": {},
   "source": [
    "# Session information"
   ]
  },
  {
   "cell_type": "code",
   "execution_count": null,
   "metadata": {},
   "outputs": [],
   "source": [
    "session_info.show()"
   ]
  }
 ],
 "metadata": {
  "kernelspec": {
   "display_name": "Python 3 (ipykernel)",
   "language": "python",
   "name": "python3"
  },
  "language_info": {
   "codemirror_mode": {
    "name": "ipython",
    "version": 3
   },
   "file_extension": ".py",
   "mimetype": "text/x-python",
   "name": "python",
   "nbconvert_exporter": "python",
   "pygments_lexer": "ipython3",
   "version": "3.11.3"
  }
 },
 "nbformat": 4,
 "nbformat_minor": 4
}
