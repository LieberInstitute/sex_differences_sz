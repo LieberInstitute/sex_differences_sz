{
 "cells": [
  {
   "cell_type": "markdown",
   "metadata": {},
   "source": [
    "# Summary of features for interaction analysis"
   ]
  },
  {
   "cell_type": "code",
   "execution_count": 1,
   "metadata": {
    "execution": {
     "iopub.execute_input": "2021-08-16T01:48:35.127570Z",
     "iopub.status.busy": "2021-08-16T01:48:35.126104Z",
     "iopub.status.idle": "2021-08-16T01:48:35.429341Z",
     "shell.execute_reply": "2021-08-16T01:48:35.430362Z"
    }
   },
   "outputs": [],
   "source": [
    "import pandas as pd"
   ]
  },
  {
   "cell_type": "markdown",
   "metadata": {},
   "source": [
    "## Function"
   ]
  },
  {
   "cell_type": "code",
   "execution_count": 2,
   "metadata": {
    "execution": {
     "iopub.execute_input": "2021-08-16T01:48:35.442411Z",
     "iopub.status.busy": "2021-08-16T01:48:35.441080Z",
     "iopub.status.idle": "2021-08-16T01:48:35.443732Z",
     "shell.execute_reply": "2021-08-16T01:48:35.444744Z"
    }
   },
   "outputs": [],
   "source": [
    "def get_summary(feature):\n",
    "    fn = \"../../_m/%s/significant_geneSNP_pairs_3tissues.tsv\" % feature\n",
    "    df = pd.read_csv(fn, sep='\\t')\n",
    "    cd = df[(df[\"N_Regions_Shared\"] == 2) & (df[\"Hippocampus\"] == 0)].shape[0]\n",
    "    ch = df[(df[\"N_Regions_Shared\"] == 2) & (df[\"DLPFC\"] == 0)].shape[0]\n",
    "    dh = df[(df[\"N_Regions_Shared\"] == 2) & (df[\"Caudate\"] == 0)].shape[0]\n",
    "    cc = df[(df[\"N_Regions_Shared\"] == 1) & (df[\"Caudate\"] == 1)].shape[0]\n",
    "    dd = df[(df[\"N_Regions_Shared\"] == 1) & (df[\"DLPFC\"] == 1)].shape[0]\n",
    "    hh = df[(df[\"N_Regions_Shared\"] == 1) & (df[\"Hippocampus\"] == 1)].shape[0]\n",
    "    print(feature.upper())\n",
    "    #print(df.groupby(\"N_Regions_Shared\").size())\n",
    "    print(\"There are {} ({:.1%}) tissue specific eFeatures!\".format(df.groupby(\"N_Regions_Shared\").size()[1],\n",
    "                                                                    df.groupby(\"N_Regions_Shared\").size()[1] / df.shape[0]))\n",
    "    print(\"There are %d caudate specific eFeatures!\" % cc)\n",
    "    print(\"There are %d DLPFC specific eFeatures!\" % dd)\n",
    "    print(\"There are %d hippocampus specific eFeatures!\\n\" % hh)\n",
    "    print(\"There are {} ({:.1%}) eFeatures shared between two brain regions!\".format(df.groupby(\"N_Regions_Shared\").size()[2],\n",
    "                                                                    df.groupby(\"N_Regions_Shared\").size()[2] / df.shape[0]))\n",
    "    print(\"There are %d shared only between caudate and DLPFC!\" % cd)\n",
    "    print(\"There are %d shared only between caudate and hippocampus!\" % ch)\n",
    "    print(\"There are %d shared only between DLPFC and hippocampus!\\n\" % dh)\n",
    "    print(\"There are {} ({:.1%}) eFeatures shared across brain regions!\\n\".format(df.groupby(\"N_Regions_Shared\").size()[3],\n",
    "                                                                    df.groupby(\"N_Regions_Shared\").size()[3] / df.shape[0]))"
   ]
  },
  {
   "cell_type": "markdown",
   "metadata": {},
   "source": [
    "## Summary"
   ]
  },
  {
   "cell_type": "code",
   "execution_count": 3,
   "metadata": {
    "execution": {
     "iopub.execute_input": "2021-08-16T01:48:35.451033Z",
     "iopub.status.busy": "2021-08-16T01:48:35.449798Z",
     "iopub.status.idle": "2021-08-16T01:48:35.621735Z",
     "shell.execute_reply": "2021-08-16T01:48:35.622945Z"
    }
   },
   "outputs": [
    {
     "name": "stdout",
     "output_type": "stream",
     "text": [
      "GENES\n",
      "There are 45 (18.6%) tissue specific eFeatures!\n",
      "There are 45 caudate specific eFeatures!\n",
      "There are 0 DLPFC specific eFeatures!\n",
      "There are 0 hippocampus specific eFeatures!\n",
      "\n",
      "There are 7 (2.9%) eFeatures shared between two brain regions!\n",
      "There are 7 shared only between caudate and DLPFC!\n",
      "There are 0 shared only between caudate and hippocampus!\n",
      "There are 0 shared only between DLPFC and hippocampus!\n",
      "\n",
      "There are 190 (78.5%) eFeatures shared across brain regions!\n",
      "\n",
      "TRANSCRIPTS\n",
      "There are 204 (44.0%) tissue specific eFeatures!\n",
      "There are 204 caudate specific eFeatures!\n",
      "There are 0 DLPFC specific eFeatures!\n",
      "There are 0 hippocampus specific eFeatures!\n",
      "\n",
      "There are 2 (0.4%) eFeatures shared between two brain regions!\n",
      "There are 0 shared only between caudate and DLPFC!\n",
      "There are 2 shared only between caudate and hippocampus!\n",
      "There are 0 shared only between DLPFC and hippocampus!\n",
      "\n",
      "There are 258 (55.6%) eFeatures shared across brain regions!\n",
      "\n",
      "EXONS\n",
      "There are 57 (13.6%) tissue specific eFeatures!\n",
      "There are 32 caudate specific eFeatures!\n",
      "There are 25 DLPFC specific eFeatures!\n",
      "There are 0 hippocampus specific eFeatures!\n",
      "\n",
      "There are 16 (3.8%) eFeatures shared between two brain regions!\n",
      "There are 16 shared only between caudate and DLPFC!\n",
      "There are 0 shared only between caudate and hippocampus!\n",
      "There are 0 shared only between DLPFC and hippocampus!\n",
      "\n",
      "There are 347 (82.6%) eFeatures shared across brain regions!\n",
      "\n",
      "JUNCTIONS\n",
      "There are 13 (7.3%) tissue specific eFeatures!\n",
      "There are 11 caudate specific eFeatures!\n",
      "There are 2 DLPFC specific eFeatures!\n",
      "There are 0 hippocampus specific eFeatures!\n",
      "\n",
      "There are 6 (3.4%) eFeatures shared between two brain regions!\n",
      "There are 6 shared only between caudate and DLPFC!\n",
      "There are 0 shared only between caudate and hippocampus!\n",
      "There are 0 shared only between DLPFC and hippocampus!\n",
      "\n",
      "There are 160 (89.4%) eFeatures shared across brain regions!\n",
      "\n"
     ]
    }
   ],
   "source": [
    "for feature in [\"genes\", \"transcripts\", \"exons\", \"junctions\"]:\n",
    "    get_summary(feature)"
   ]
  },
  {
   "cell_type": "code",
   "execution_count": null,
   "metadata": {},
   "outputs": [],
   "source": []
  }
 ],
 "metadata": {
  "kernelspec": {
   "display_name": "Python 3",
   "language": "python",
   "name": "python3"
  },
  "language_info": {
   "codemirror_mode": {
    "name": "ipython",
    "version": 3
   },
   "file_extension": ".py",
   "mimetype": "text/x-python",
   "name": "python",
   "nbconvert_exporter": "python",
   "pygments_lexer": "ipython3",
   "version": "3.9.1"
  }
 },
 "nbformat": 4,
 "nbformat_minor": 4
}
