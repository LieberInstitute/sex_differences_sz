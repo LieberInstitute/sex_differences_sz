{
 "cells": [
  {
   "cell_type": "markdown",
   "metadata": {},
   "source": [
    "# Summary of features for interaction analysis"
   ]
  },
  {
   "cell_type": "code",
   "execution_count": 1,
   "metadata": {
    "execution": {
     "iopub.execute_input": "2021-08-31T10:58:19.063596Z",
     "iopub.status.busy": "2021-08-31T10:58:19.062163Z",
     "iopub.status.idle": "2021-08-31T10:58:19.464150Z",
     "shell.execute_reply": "2021-08-31T10:58:19.463552Z"
    }
   },
   "outputs": [],
   "source": [
    "import pandas as pd"
   ]
  },
  {
   "cell_type": "markdown",
   "metadata": {},
   "source": [
    "## Function"
   ]
  },
  {
   "cell_type": "code",
   "execution_count": 2,
   "metadata": {
    "execution": {
     "iopub.execute_input": "2021-08-31T10:58:19.475755Z",
     "iopub.status.busy": "2021-08-31T10:58:19.474111Z",
     "iopub.status.idle": "2021-08-31T10:58:19.477073Z",
     "shell.execute_reply": "2021-08-31T10:58:19.478099Z"
    }
   },
   "outputs": [],
   "source": [
    "def get_summary(feature):\n",
    "    fn = \"../../_m/%s/significant_geneSNP_pairs_3tissues.tsv\" % feature\n",
    "    df = pd.read_csv(fn, sep='\\t')\n",
    "    cd = df[(df[\"N_Regions_Shared\"] == 2) & (df[\"Hippocampus\"] == 0)].shape[0]\n",
    "    ch = df[(df[\"N_Regions_Shared\"] == 2) & (df[\"DLPFC\"] == 0)].shape[0]\n",
    "    dh = df[(df[\"N_Regions_Shared\"] == 2) & (df[\"Caudate\"] == 0)].shape[0]\n",
    "    cc = df[(df[\"N_Regions_Shared\"] == 1) & (df[\"Caudate\"] == 1)].shape[0]\n",
    "    dd = df[(df[\"N_Regions_Shared\"] == 1) & (df[\"DLPFC\"] == 1)].shape[0]\n",
    "    hh = df[(df[\"N_Regions_Shared\"] == 1) & (df[\"Hippocampus\"] == 1)].shape[0]\n",
    "    print(feature.upper())\n",
    "    #print(df.groupby(\"N_Regions_Shared\").size())\n",
    "    print(\"There are {} ({:.1%}) tissue specific eFeatures!\".format(df.groupby(\"N_Regions_Shared\").size()[1],\n",
    "                                                                    df.groupby(\"N_Regions_Shared\").size()[1] / df.shape[0]))\n",
    "    print(\"There are %d caudate specific eFeatures!\" % cc)\n",
    "    print(\"There are %d DLPFC specific eFeatures!\" % dd)\n",
    "    print(\"There are %d hippocampus specific eFeatures!\\n\" % hh)\n",
    "    print(\"There are {} ({:.1%}) eFeatures shared between two brain regions!\".format(df.groupby(\"N_Regions_Shared\").size()[2],\n",
    "                                                                    df.groupby(\"N_Regions_Shared\").size()[2] / df.shape[0]))\n",
    "    print(\"There are %d shared only between caudate and DLPFC!\" % cd)\n",
    "    print(\"There are %d shared only between caudate and hippocampus!\" % ch)\n",
    "    print(\"There are %d shared only between DLPFC and hippocampus!\\n\" % dh)\n",
    "    print(\"There are {} ({:.1%}) eFeatures shared across brain regions!\\n\".format(df.groupby(\"N_Regions_Shared\").size()[3],\n",
    "                                                                    df.groupby(\"N_Regions_Shared\").size()[3] / df.shape[0]))"
   ]
  },
  {
   "cell_type": "markdown",
   "metadata": {},
   "source": [
    "## Summary"
   ]
  },
  {
   "cell_type": "code",
   "execution_count": 3,
   "metadata": {
    "execution": {
     "iopub.execute_input": "2021-08-31T10:58:19.484081Z",
     "iopub.status.busy": "2021-08-31T10:58:19.482889Z",
     "iopub.status.idle": "2021-08-31T10:58:19.609827Z",
     "shell.execute_reply": "2021-08-31T10:58:19.608752Z"
    }
   },
   "outputs": [
    {
     "name": "stdout",
     "output_type": "stream",
     "text": [
      "GENES\n",
      "There are 86 (24.1%) tissue specific eFeatures!\n",
      "There are 86 caudate specific eFeatures!\n",
      "There are 0 DLPFC specific eFeatures!\n",
      "There are 0 hippocampus specific eFeatures!\n",
      "\n",
      "There are 16 (4.5%) eFeatures shared between two brain regions!\n",
      "There are 16 shared only between caudate and DLPFC!\n",
      "There are 0 shared only between caudate and hippocampus!\n",
      "There are 0 shared only between DLPFC and hippocampus!\n",
      "\n",
      "There are 255 (71.4%) eFeatures shared across brain regions!\n",
      "\n",
      "TRANSCRIPTS\n",
      "There are 238 (45.8%) tissue specific eFeatures!\n",
      "There are 238 caudate specific eFeatures!\n",
      "There are 0 DLPFC specific eFeatures!\n",
      "There are 0 hippocampus specific eFeatures!\n",
      "\n",
      "There are 8 (1.5%) eFeatures shared between two brain regions!\n",
      "There are 3 shared only between caudate and DLPFC!\n",
      "There are 5 shared only between caudate and hippocampus!\n",
      "There are 0 shared only between DLPFC and hippocampus!\n",
      "\n",
      "There are 274 (52.7%) eFeatures shared across brain regions!\n",
      "\n",
      "EXONS\n",
      "There are 190 (25.7%) tissue specific eFeatures!\n",
      "There are 186 caudate specific eFeatures!\n",
      "There are 4 DLPFC specific eFeatures!\n",
      "There are 0 hippocampus specific eFeatures!\n",
      "\n",
      "There are 21 (2.8%) eFeatures shared between two brain regions!\n",
      "There are 21 shared only between caudate and DLPFC!\n",
      "There are 0 shared only between caudate and hippocampus!\n",
      "There are 0 shared only between DLPFC and hippocampus!\n",
      "\n",
      "There are 528 (71.4%) eFeatures shared across brain regions!\n",
      "\n",
      "JUNCTIONS\n",
      "There are 30 (13.1%) tissue specific eFeatures!\n",
      "There are 29 caudate specific eFeatures!\n",
      "There are 1 DLPFC specific eFeatures!\n",
      "There are 0 hippocampus specific eFeatures!\n",
      "\n",
      "There are 14 (6.1%) eFeatures shared between two brain regions!\n",
      "There are 10 shared only between caudate and DLPFC!\n",
      "There are 4 shared only between caudate and hippocampus!\n",
      "There are 0 shared only between DLPFC and hippocampus!\n",
      "\n",
      "There are 185 (80.8%) eFeatures shared across brain regions!\n",
      "\n"
     ]
    }
   ],
   "source": [
    "for feature in [\"genes\", \"transcripts\", \"exons\", \"junctions\"]:\n",
    "    get_summary(feature)"
   ]
  },
  {
   "cell_type": "code",
   "execution_count": null,
   "metadata": {},
   "outputs": [],
   "source": []
  }
 ],
 "metadata": {
  "kernelspec": {
   "display_name": "Python 3",
   "language": "python",
   "name": "python3"
  },
  "language_info": {
   "codemirror_mode": {
    "name": "ipython",
    "version": 3
   },
   "file_extension": ".py",
   "mimetype": "text/x-python",
   "name": "python",
   "nbconvert_exporter": "python",
   "pygments_lexer": "ipython3",
   "version": "3.9.1"
  }
 },
 "nbformat": 4,
 "nbformat_minor": 4
}
