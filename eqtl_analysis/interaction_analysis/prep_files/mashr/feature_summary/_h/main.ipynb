{
 "cells": [
  {
   "cell_type": "markdown",
   "metadata": {},
   "source": [
    "# Summary of features for interaction analysis"
   ]
  },
  {
   "cell_type": "code",
   "execution_count": null,
   "metadata": {},
   "outputs": [],
   "source": [
    "import pandas as pd"
   ]
  },
  {
   "cell_type": "markdown",
   "metadata": {},
   "source": [
    "## Function"
   ]
  },
  {
   "cell_type": "code",
   "execution_count": null,
   "metadata": {},
   "outputs": [],
   "source": [
    "def get_summary(feature):\n",
    "    fn = \"../../_m/%s/significant_geneSNP_pairs_3tissues.tsv\" % feature\n",
    "    df = pd.read_csv(fn, sep='\\t')\n",
    "    cd = df[(df[\"N_Regions_Shared\"] == 2) & (df[\"Hippocampus\"] == 0)].shape[0]\n",
    "    ch = df[(df[\"N_Regions_Shared\"] == 2) & (df[\"DLPFC\"] == 0)].shape[0]\n",
    "    dh = df[(df[\"N_Regions_Shared\"] == 2) & (df[\"Caudate\"] == 0)].shape[0]\n",
    "    cc = df[(df[\"N_Regions_Shared\"] == 1) & (df[\"Caudate\"] == 1)].shape[0]\n",
    "    dd = df[(df[\"N_Regions_Shared\"] == 1) & (df[\"DLPFC\"] == 1)].shape[0]\n",
    "    hh = df[(df[\"N_Regions_Shared\"] == 1) & (df[\"Hippocampus\"] == 1)].shape[0]\n",
    "    print(feature.upper())\n",
    "    #print(df.groupby(\"N_Regions_Shared\").size())\n",
    "    print(\"There are {} ({:.1%}) tissue specific eFeatures!\".format(df.groupby(\"N_Regions_Shared\").size()[1],\n",
    "                                                                    df.groupby(\"N_Regions_Shared\").size()[1] / df.shape[0]))\n",
    "    print(\"There are %d caudate specific eFeatures!\" % cc)\n",
    "    print(\"There are %d DLPFC specific eFeatures!\" % dd)\n",
    "    print(\"There are %d hippocampus specific eFeatures!\\n\" % hh)\n",
    "    print(\"There are {} ({:.1%}) eFeatures shared between two brain regions!\".format(df.groupby(\"N_Regions_Shared\").size()[2],\n",
    "                                                                    df.groupby(\"N_Regions_Shared\").size()[2] / df.shape[0]))\n",
    "    print(\"There are %d shared only between caudate and DLPFC!\" % cd)\n",
    "    print(\"There are %d shared only between caudate and hippocampus!\" % ch)\n",
    "    print(\"There are %d shared only between DLPFC and hippocampus!\\n\" % dh)\n",
    "    print(\"There are {} ({:.1%}) eFeatures shared across brain regions!\\n\".format(df.groupby(\"N_Regions_Shared\").size()[3],\n",
    "                                                                    df.groupby(\"N_Regions_Shared\").size()[3] / df.shape[0]))"
   ]
  },
  {
   "cell_type": "markdown",
   "metadata": {},
   "source": [
    "## Summary"
   ]
  },
  {
   "cell_type": "code",
   "execution_count": null,
   "metadata": {},
   "outputs": [],
   "source": [
    "for feature in [\"genes\", \"transcripts\", \"exons\", \"junctions\"]:\n",
    "    get_summary(feature)"
   ]
  },
  {
   "cell_type": "code",
   "execution_count": null,
   "metadata": {},
   "outputs": [],
   "source": []
  }
 ],
 "metadata": {
  "kernelspec": {
   "display_name": "Python 3",
   "language": "python",
   "name": "python3"
  },
  "language_info": {
   "codemirror_mode": {
    "name": "ipython",
    "version": 3
   },
   "file_extension": ".py",
   "mimetype": "text/x-python",
   "name": "python",
   "nbconvert_exporter": "python",
   "pygments_lexer": "ipython3",
   "version": "3.9.1"
  }
 },
 "nbformat": 4,
 "nbformat_minor": 4
}
