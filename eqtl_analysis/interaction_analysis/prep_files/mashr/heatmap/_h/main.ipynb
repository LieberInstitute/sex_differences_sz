{
 "cells": [
  {
   "cell_type": "markdown",
   "metadata": {},
   "source": [
    "# Heatmap of sharing"
   ]
  },
  {
   "cell_type": "code",
   "execution_count": null,
   "metadata": {},
   "outputs": [],
   "source": [
    "import numpy as np\n",
    "import pandas as pd\n",
    "import seaborn as sns\n",
    "import matplotlib.pyplot as plt\n",
    "from rpy2.robjects import r, pandas2ri"
   ]
  },
  {
   "cell_type": "code",
   "execution_count": null,
   "metadata": {},
   "outputs": [],
   "source": [
    "pandas2ri.activate()"
   ]
  },
  {
   "cell_type": "markdown",
   "metadata": {},
   "source": [
    "## Sign match only"
   ]
  },
  {
   "cell_type": "markdown",
   "metadata": {},
   "source": [
    "### Genes"
   ]
  },
  {
   "cell_type": "code",
   "execution_count": null,
   "metadata": {},
   "outputs": [],
   "source": [
    "mat = r('''load(\"../../_m/genes/mashr_meta_results.RData\"); mashr::get_pairwise_sharing(m2, factor=0)''')\n",
    "df = pd.DataFrame(np.array(mat), index=[\"Caudate\", \"DLPFC\", \"Hippocampus\"], \n",
    "                  columns=[\"Caudate\", \"DLPFC\", \"Hippocampus\"])\n",
    "df"
   ]
  },
  {
   "cell_type": "code",
   "execution_count": null,
   "metadata": {},
   "outputs": [],
   "source": [
    "sns.set(font_scale=2)\n",
    "grid_kws = {\"height_ratios\": (.9, .05), \"hspace\": .3}\n",
    "f, (ax, cbar_ax) = plt.subplots(2, gridspec_kw=grid_kws, figsize=(10,10))\n",
    "chart = sns.heatmap(df, ax=ax, vmin=0, vmax=1, \n",
    "                    annot=True, cbar_ax=cbar_ax,\n",
    "                    cbar_kws={\"orientation\": \"horizontal\"})\n",
    "chart.set_yticklabels(chart.get_yticklabels(), fontweight=\"bold\")\n",
    "chart.set_xticklabels(chart.get_xticklabels(), fontweight=\"bold\")\n",
    "sns_plot = chart.get_figure()\n",
    "sns_plot.savefig(\"eQTL_sharing_heatmap_signOnly_gene.pdf\")\n",
    "sns_plot.savefig(\"eQTL_sharing_heatmap_signOnly_gene.png\")"
   ]
  },
  {
   "cell_type": "markdown",
   "metadata": {},
   "source": [
    "### Transcripts"
   ]
  },
  {
   "cell_type": "code",
   "execution_count": null,
   "metadata": {},
   "outputs": [],
   "source": [
    "mat = r('''load(\"../../_m/transcripts/mashr_meta_results.RData\"); mashr::get_pairwise_sharing(m2, factor=0)''')\n",
    "df = pd.DataFrame(np.array(mat), index=[\"Caudate\", \"DLPFC\", \"Hippocampus\"], \n",
    "                  columns=[\"Caudate\", \"DLPFC\", \"Hippocampus\"])\n",
    "df"
   ]
  },
  {
   "cell_type": "code",
   "execution_count": null,
   "metadata": {},
   "outputs": [],
   "source": [
    "sns.set(font_scale=2)\n",
    "grid_kws = {\"height_ratios\": (.9, .05), \"hspace\": .3}\n",
    "f, (ax, cbar_ax) = plt.subplots(2, gridspec_kw=grid_kws, figsize=(10,10))\n",
    "chart = sns.heatmap(df, ax=ax, vmin=0, vmax=1, \n",
    "                    annot=True, cbar_ax=cbar_ax,\n",
    "                    cbar_kws={\"orientation\": \"horizontal\"})\n",
    "chart.set_yticklabels(chart.get_yticklabels(), fontweight=\"bold\")\n",
    "chart.set_xticklabels(chart.get_xticklabels(), fontweight=\"bold\")\n",
    "sns_plot = chart.get_figure()\n",
    "sns_plot.savefig(\"eQTL_sharing_heatmap_signOnly_tx.pdf\")\n",
    "sns_plot.savefig(\"eQTL_sharing_heatmap_signOnly_tx.png\")"
   ]
  },
  {
   "cell_type": "markdown",
   "metadata": {},
   "source": [
    "### Exons"
   ]
  },
  {
   "cell_type": "code",
   "execution_count": null,
   "metadata": {},
   "outputs": [],
   "source": [
    "mat = r('''load(\"../../_m/exons/mashr_meta_results.RData\"); mashr::get_pairwise_sharing(m2, factor=0)''')\n",
    "df = pd.DataFrame(np.array(mat), index=[\"Caudate\", \"DLPFC\", \"Hippocampus\"], \n",
    "                  columns=[\"Caudate\", \"DLPFC\", \"Hippocampus\"])\n",
    "df"
   ]
  },
  {
   "cell_type": "code",
   "execution_count": null,
   "metadata": {},
   "outputs": [],
   "source": [
    "sns.set(font_scale=2)\n",
    "grid_kws = {\"height_ratios\": (.9, .05), \"hspace\": .3}\n",
    "f, (ax, cbar_ax) = plt.subplots(2, gridspec_kw=grid_kws, figsize=(10,10))\n",
    "chart = sns.heatmap(df, ax=ax, vmin=0, vmax=1, \n",
    "                    annot=True, cbar_ax=cbar_ax,\n",
    "                    cbar_kws={\"orientation\": \"horizontal\"})\n",
    "chart.set_yticklabels(chart.get_yticklabels(), fontweight=\"bold\")\n",
    "chart.set_xticklabels(chart.get_xticklabels(), fontweight=\"bold\")\n",
    "sns_plot = chart.get_figure()\n",
    "sns_plot.savefig(\"eQTL_sharing_heatmap_signOnly_exon.pdf\")\n",
    "sns_plot.savefig(\"eQTL_sharing_heatmap_signOnly_exon.png\")"
   ]
  },
  {
   "cell_type": "markdown",
   "metadata": {},
   "source": [
    "### Junctions"
   ]
  },
  {
   "cell_type": "code",
   "execution_count": null,
   "metadata": {},
   "outputs": [],
   "source": [
    "mat = r('''load(\"../../_m/junctions/mashr_meta_results.RData\"); mashr::get_pairwise_sharing(m2, factor=0)''')\n",
    "df = pd.DataFrame(np.array(mat), index=[\"Caudate\", \"DLPFC\", \"Hippocampus\"], \n",
    "                  columns=[\"Caudate\", \"DLPFC\", \"Hippocampus\"])\n",
    "df"
   ]
  },
  {
   "cell_type": "code",
   "execution_count": null,
   "metadata": {},
   "outputs": [],
   "source": [
    "sns.set(font_scale=2)\n",
    "grid_kws = {\"height_ratios\": (.9, .05), \"hspace\": .3}\n",
    "f, (ax, cbar_ax) = plt.subplots(2, gridspec_kw=grid_kws, figsize=(10,10))\n",
    "chart = sns.heatmap(df, ax=ax, vmin=0, vmax=1, \n",
    "                    annot=True, cbar_ax=cbar_ax,\n",
    "                    cbar_kws={\"orientation\": \"horizontal\"})\n",
    "chart.set_yticklabels(chart.get_yticklabels(), fontweight=\"bold\")\n",
    "chart.set_xticklabels(chart.get_xticklabels(), fontweight=\"bold\")\n",
    "sns_plot = chart.get_figure()\n",
    "sns_plot.savefig(\"eQTL_sharing_heatmap_signOnly_jxn.pdf\")\n",
    "sns_plot.savefig(\"eQTL_sharing_heatmap_signOnly_jxn.png\")"
   ]
  },
  {
   "cell_type": "markdown",
   "metadata": {},
   "source": [
    "## Factor 0.5"
   ]
  },
  {
   "cell_type": "markdown",
   "metadata": {},
   "source": [
    "### Genes"
   ]
  },
  {
   "cell_type": "code",
   "execution_count": null,
   "metadata": {},
   "outputs": [],
   "source": [
    "mat = r('''load(\"../../_m/genes/mashr_meta_results.RData\"); mashr::get_pairwise_sharing(m2)''')\n",
    "df = pd.DataFrame(np.array(mat), index=[\"Caudate\", \"DLPFC\", \"Hippocampus\"], \n",
    "                  columns=[\"Caudate\", \"DLPFC\", \"Hippocampus\"])\n",
    "df"
   ]
  },
  {
   "cell_type": "code",
   "execution_count": null,
   "metadata": {},
   "outputs": [],
   "source": [
    "sns.set(font_scale=2)\n",
    "grid_kws = {\"height_ratios\": (.9, .05), \"hspace\": .3}\n",
    "f, (ax, cbar_ax) = plt.subplots(2, gridspec_kw=grid_kws, figsize=(10,10))\n",
    "chart = sns.heatmap(df, ax=ax, vmin=0, vmax=1, \n",
    "                    annot=True, cbar_ax=cbar_ax,\n",
    "                    cbar_kws={\"orientation\": \"horizontal\"})\n",
    "chart.set_yticklabels(chart.get_yticklabels(), fontweight=\"bold\")\n",
    "chart.set_xticklabels(chart.get_xticklabels(), fontweight=\"bold\")\n",
    "sns_plot = chart.get_figure()\n",
    "sns_plot.savefig(\"eQTL_sharing_heatmap_gene.pdf\")\n",
    "sns_plot.savefig(\"eQTL_sharing_heatmap_gene.png\")"
   ]
  },
  {
   "cell_type": "markdown",
   "metadata": {},
   "source": [
    "### Transcripts"
   ]
  },
  {
   "cell_type": "code",
   "execution_count": null,
   "metadata": {},
   "outputs": [],
   "source": [
    "mat = r('''load(\"../../_m/transcripts/mashr_meta_results.RData\"); mashr::get_pairwise_sharing(m2)''')\n",
    "df = pd.DataFrame(np.array(mat), index=[\"Caudate\", \"DLPFC\", \"Hippocampus\"], \n",
    "                  columns=[\"Caudate\", \"DLPFC\", \"Hippocampus\"])\n",
    "df"
   ]
  },
  {
   "cell_type": "code",
   "execution_count": null,
   "metadata": {},
   "outputs": [],
   "source": [
    "sns.set(font_scale=2)\n",
    "grid_kws = {\"height_ratios\": (.9, .05), \"hspace\": .3}\n",
    "f, (ax, cbar_ax) = plt.subplots(2, gridspec_kw=grid_kws, figsize=(10,10))\n",
    "chart = sns.heatmap(df, ax=ax, vmin=0, vmax=1, \n",
    "                    annot=True, cbar_ax=cbar_ax,\n",
    "                    cbar_kws={\"orientation\": \"horizontal\"})\n",
    "chart.set_yticklabels(chart.get_yticklabels(), fontweight=\"bold\")\n",
    "chart.set_xticklabels(chart.get_xticklabels(), fontweight=\"bold\")\n",
    "sns_plot = chart.get_figure()\n",
    "sns_plot.savefig(\"eQTL_sharing_heatmap_tx.pdf\")\n",
    "sns_plot.savefig(\"eQTL_sharing_heatmap_tx.png\")"
   ]
  },
  {
   "cell_type": "markdown",
   "metadata": {},
   "source": [
    "### Exons"
   ]
  },
  {
   "cell_type": "code",
   "execution_count": null,
   "metadata": {},
   "outputs": [],
   "source": [
    "mat = r('''load(\"../../_m/exons/mashr_meta_results.RData\"); mashr::get_pairwise_sharing(m2)''')\n",
    "df = pd.DataFrame(np.array(mat), index=[\"Caudate\", \"DLPFC\", \"Hippocampus\"], \n",
    "                  columns=[\"Caudate\", \"DLPFC\", \"Hippocampus\"])\n",
    "df"
   ]
  },
  {
   "cell_type": "code",
   "execution_count": null,
   "metadata": {},
   "outputs": [],
   "source": [
    "sns.set(font_scale=2)\n",
    "grid_kws = {\"height_ratios\": (.9, .05), \"hspace\": .3}\n",
    "f, (ax, cbar_ax) = plt.subplots(2, gridspec_kw=grid_kws, figsize=(10,10))\n",
    "chart = sns.heatmap(df, ax=ax, vmin=0, vmax=1, \n",
    "                    annot=True, cbar_ax=cbar_ax,\n",
    "                    cbar_kws={\"orientation\": \"horizontal\"})\n",
    "chart.set_yticklabels(chart.get_yticklabels(), fontweight=\"bold\")\n",
    "chart.set_xticklabels(chart.get_xticklabels(), fontweight=\"bold\")\n",
    "sns_plot = chart.get_figure()\n",
    "sns_plot.savefig(\"eQTL_sharing_heatmap_exon.pdf\")\n",
    "sns_plot.savefig(\"eQTL_sharing_heatmap_exon.png\")"
   ]
  },
  {
   "cell_type": "markdown",
   "metadata": {},
   "source": [
    "### Junctions"
   ]
  },
  {
   "cell_type": "code",
   "execution_count": null,
   "metadata": {},
   "outputs": [],
   "source": [
    "mat = r('''load(\"../../_m/junctions/mashr_meta_results.RData\"); mashr::get_pairwise_sharing(m2)''')\n",
    "df = pd.DataFrame(np.array(mat), index=[\"Caudate\", \"DLPFC\", \"Hippocampus\"], \n",
    "                  columns=[\"Caudate\", \"DLPFC\", \"Hippocampus\"])\n",
    "df"
   ]
  },
  {
   "cell_type": "code",
   "execution_count": null,
   "metadata": {},
   "outputs": [],
   "source": [
    "sns.set(font_scale=2)\n",
    "grid_kws = {\"height_ratios\": (.9, .05), \"hspace\": .3}\n",
    "f, (ax, cbar_ax) = plt.subplots(2, gridspec_kw=grid_kws, figsize=(10,10))\n",
    "chart = sns.heatmap(df, ax=ax, vmin=0, vmax=1, \n",
    "                    annot=True, cbar_ax=cbar_ax,\n",
    "                    cbar_kws={\"orientation\": \"horizontal\"})\n",
    "chart.set_yticklabels(chart.get_yticklabels(), fontweight=\"bold\")\n",
    "chart.set_xticklabels(chart.get_xticklabels(), fontweight=\"bold\")\n",
    "sns_plot = chart.get_figure()\n",
    "sns_plot.savefig(\"eQTL_sharing_heatmap_jxn.pdf\")\n",
    "sns_plot.savefig(\"eQTL_sharing_heatmap_jxn.png\")"
   ]
  },
  {
   "cell_type": "code",
   "execution_count": null,
   "metadata": {},
   "outputs": [],
   "source": []
  }
 ],
 "metadata": {
  "kernelspec": {
   "display_name": "Python 3",
   "language": "python",
   "name": "python3"
  },
  "language_info": {
   "codemirror_mode": {
    "name": "ipython",
    "version": 3
   },
   "file_extension": ".py",
   "mimetype": "text/x-python",
   "name": "python",
   "nbconvert_exporter": "python",
   "pygments_lexer": "ipython3",
   "version": "3.9.1"
  }
 },
 "nbformat": 4,
 "nbformat_minor": 4
}
