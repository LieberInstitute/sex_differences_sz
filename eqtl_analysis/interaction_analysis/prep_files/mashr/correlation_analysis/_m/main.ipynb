{
 "cells": [
  {
   "cell_type": "markdown",
   "metadata": {},
   "source": [
    "# Examine tissue specific genes for correlation with gene expression or cell type proportion"
   ]
  },
  {
   "cell_type": "code",
   "execution_count": 1,
   "metadata": {
    "execution": {
     "iopub.execute_input": "2021-08-16T01:47:34.178562Z",
     "iopub.status.busy": "2021-08-16T01:47:34.176734Z",
     "iopub.status.idle": "2021-08-16T01:47:34.543432Z",
     "shell.execute_reply": "2021-08-16T01:47:34.541629Z"
    }
   },
   "outputs": [
    {
     "name": "stderr",
     "output_type": "stream",
     "text": [
      "\n",
      "Attaching package: ‘dplyr’\n",
      "\n",
      "\n",
      "The following objects are masked from ‘package:stats’:\n",
      "\n",
      "    filter, lag\n",
      "\n",
      "\n",
      "The following objects are masked from ‘package:base’:\n",
      "\n",
      "    intersect, setdiff, setequal, union\n",
      "\n",
      "\n"
     ]
    }
   ],
   "source": [
    "library(dplyr)"
   ]
  },
  {
   "cell_type": "markdown",
   "metadata": {},
   "source": [
    "## Functions"
   ]
  },
  {
   "cell_type": "code",
   "execution_count": 2,
   "metadata": {
    "execution": {
     "iopub.execute_input": "2021-08-16T01:47:34.582275Z",
     "iopub.status.busy": "2021-08-16T01:47:34.551778Z",
     "iopub.status.idle": "2021-08-16T01:47:34.624250Z",
     "shell.execute_reply": "2021-08-16T01:47:34.622885Z"
    }
   },
   "outputs": [],
   "source": [
    "get_tpm <- function(){\n",
    "    cc_file = paste0(\"/ceph/projects/v4_phase3_paper/inputs/counts/\",\n",
    "                     \"text_files_counts/tpm/_m/caudate/gene/log2tpm.csv\")\n",
    "    dd_file = paste0(\"/ceph/projects/v4_phase3_paper/inputs/counts/\",\n",
    "                     \"text_files_counts/tpm/_m/dlpfc/gene/log2tpm.csv\")\n",
    "    hh_file = paste0(\"/ceph/projects/v4_phase3_paper/inputs/counts/\",\n",
    "                     \"text_files_counts/tpm/_m/hippocampus/gene/log2tpm.csv\")\n",
    "    cc = data.table::fread(cc_file) %>% tibble::column_to_rownames(\"names\") %>%\n",
    "        t %>% as.data.frame %>% tibble::rownames_to_column(\"RNum\")\n",
    "    dd = data.table::fread(dd_file) %>% tibble::column_to_rownames(\"names\") %>%\n",
    "        t %>% as.data.frame %>% tibble::rownames_to_column(\"RNum\")\n",
    "    hh = data.table::fread(hh_file) %>% tibble::column_to_rownames(\"names\") %>%\n",
    "        t %>% as.data.frame %>% tibble::rownames_to_column(\"RNum\")\n",
    "    return(bind_rows(cc, hh, dd))\n",
    "}\n",
    "memTPM <- memoise::memoise(get_tpm)\n",
    "\n",
    "get_pheno <- function(){\n",
    "    filename = \"/ceph/projects/v4_phase3_paper/inputs/phenotypes/_m/merged_phenotypes.csv\"\n",
    "    df = data.table::fread(filename) %>% \n",
    "        filter(Age > 13, Race %in% c(\"AA\", \"EA\"), Dx %in% c(\"CTL\", \"SZ\"))\n",
    "    return(df)\n",
    "}\n",
    "memPHENO <- memoise::memoise(get_pheno)"
   ]
  },
  {
   "cell_type": "markdown",
   "metadata": {},
   "source": [
    "# Extract tissue specific eGenes"
   ]
  },
  {
   "cell_type": "code",
   "execution_count": 3,
   "metadata": {
    "execution": {
     "iopub.execute_input": "2021-08-16T01:47:34.630534Z",
     "iopub.status.busy": "2021-08-16T01:47:34.629189Z",
     "iopub.status.idle": "2021-08-16T01:47:34.776548Z",
     "shell.execute_reply": "2021-08-16T01:47:34.775210Z"
    }
   },
   "outputs": [
    {
     "data": {
      "text/html": [
       "<table class=\"dataframe\">\n",
       "<caption>A data.table: 2 × 5</caption>\n",
       "<thead>\n",
       "\t<tr><th scope=col>gene_id</th><th scope=col>variant_id</th><th scope=col>Caudate</th><th scope=col>DLPFC</th><th scope=col>Hippocampus</th></tr>\n",
       "\t<tr><th scope=col>&lt;chr&gt;</th><th scope=col>&lt;chr&gt;</th><th scope=col>&lt;int&gt;</th><th scope=col>&lt;int&gt;</th><th scope=col>&lt;int&gt;</th></tr>\n",
       "</thead>\n",
       "<tbody>\n",
       "\t<tr><td>ENSG00000012660.13</td><td>chr6:53353585:T:G</td><td>1</td><td>0</td><td>0</td></tr>\n",
       "\t<tr><td>ENSG00000033122.18</td><td>chr1:69737254:C:T</td><td>1</td><td>0</td><td>0</td></tr>\n",
       "</tbody>\n",
       "</table>\n"
      ],
      "text/latex": [
       "A data.table: 2 × 5\n",
       "\\begin{tabular}{lllll}\n",
       " gene\\_id & variant\\_id & Caudate & DLPFC & Hippocampus\\\\\n",
       " <chr> & <chr> & <int> & <int> & <int>\\\\\n",
       "\\hline\n",
       "\t ENSG00000012660.13 & chr6:53353585:T:G & 1 & 0 & 0\\\\\n",
       "\t ENSG00000033122.18 & chr1:69737254:C:T & 1 & 0 & 0\\\\\n",
       "\\end{tabular}\n"
      ],
      "text/markdown": [
       "\n",
       "A data.table: 2 × 5\n",
       "\n",
       "| gene_id &lt;chr&gt; | variant_id &lt;chr&gt; | Caudate &lt;int&gt; | DLPFC &lt;int&gt; | Hippocampus &lt;int&gt; |\n",
       "|---|---|---|---|---|\n",
       "| ENSG00000012660.13 | chr6:53353585:T:G | 1 | 0 | 0 |\n",
       "| ENSG00000033122.18 | chr1:69737254:C:T | 1 | 0 | 0 |\n",
       "\n"
      ],
      "text/plain": [
       "  gene_id            variant_id        Caudate DLPFC Hippocampus\n",
       "1 ENSG00000012660.13 chr6:53353585:T:G 1       0     0          \n",
       "2 ENSG00000033122.18 chr1:69737254:C:T 1       0     0          "
      ]
     },
     "metadata": {},
     "output_type": "display_data"
    }
   ],
   "source": [
    "eFeature = data.table::fread(\"../../_m/genes/significant_geneSNP_pairs_3tissues.tsv\") %>%\n",
    "    filter(N_Regions_Shared == 1) %>% select(-N_Regions_Shared)\n",
    "eFeature %>% head(2)"
   ]
  },
  {
   "cell_type": "markdown",
   "metadata": {},
   "source": [
    "## Prepare data"
   ]
  },
  {
   "cell_type": "code",
   "execution_count": 4,
   "metadata": {
    "execution": {
     "iopub.execute_input": "2021-08-16T01:47:34.782766Z",
     "iopub.status.busy": "2021-08-16T01:47:34.781492Z",
     "iopub.status.idle": "2021-08-16T01:48:17.988265Z",
     "shell.execute_reply": "2021-08-16T01:48:17.986489Z"
    }
   },
   "outputs": [
    {
     "data": {
      "text/html": [
       "<style>\n",
       ".list-inline {list-style: none; margin:0; padding: 0}\n",
       ".list-inline>li {display: inline-block}\n",
       ".list-inline>li:not(:last-child)::after {content: \"\\00b7\"; padding: 0 .5ex}\n",
       "</style>\n",
       "<ol class=list-inline><li>1173</li><li>49603</li></ol>\n"
      ],
      "text/latex": [
       "\\begin{enumerate*}\n",
       "\\item 1173\n",
       "\\item 49603\n",
       "\\end{enumerate*}\n"
      ],
      "text/markdown": [
       "1. 1173\n",
       "2. 49603\n",
       "\n",
       "\n"
      ],
      "text/plain": [
       "[1]  1173 49603"
      ]
     },
     "metadata": {},
     "output_type": "display_data"
    }
   ],
   "source": [
    "df = memPHENO() %>% inner_join(memTPM(), by=\"RNum\")\n",
    "df %>% dim"
   ]
  },
  {
   "cell_type": "markdown",
   "metadata": {},
   "source": [
    "## Linear model for expression and brain region"
   ]
  },
  {
   "cell_type": "code",
   "execution_count": 5,
   "metadata": {
    "execution": {
     "iopub.execute_input": "2021-08-16T01:48:17.997243Z",
     "iopub.status.busy": "2021-08-16T01:48:17.995377Z",
     "iopub.status.idle": "2021-08-16T01:48:20.482573Z",
     "shell.execute_reply": "2021-08-16T01:48:20.480863Z"
    }
   },
   "outputs": [
    {
     "name": "stdout",
     "output_type": "stream",
     "text": [
      "[1] 0\n"
     ]
    },
    {
     "data": {
      "text/html": [
       "<table class=\"dataframe\">\n",
       "<caption>A data.frame: 2 × 2</caption>\n",
       "<thead>\n",
       "\t<tr><th></th><th scope=col>gene_id</th><th scope=col>p_values</th></tr>\n",
       "\t<tr><th></th><th scope=col>&lt;chr&gt;</th><th scope=col>&lt;dbl&gt;</th></tr>\n",
       "</thead>\n",
       "<tbody>\n",
       "\t<tr><th scope=row>1</th><td>ENSG00000012660.13</td><td>0</td></tr>\n",
       "\t<tr><th scope=row>2</th><td>ENSG00000033122.18</td><td>0</td></tr>\n",
       "</tbody>\n",
       "</table>\n"
      ],
      "text/latex": [
       "A data.frame: 2 × 2\n",
       "\\begin{tabular}{r|ll}\n",
       "  & gene\\_id & p\\_values\\\\\n",
       "  & <chr> & <dbl>\\\\\n",
       "\\hline\n",
       "\t1 & ENSG00000012660.13 & 0\\\\\n",
       "\t2 & ENSG00000033122.18 & 0\\\\\n",
       "\\end{tabular}\n"
      ],
      "text/markdown": [
       "\n",
       "A data.frame: 2 × 2\n",
       "\n",
       "| <!--/--> | gene_id &lt;chr&gt; | p_values &lt;dbl&gt; |\n",
       "|---|---|---|\n",
       "| 1 | ENSG00000012660.13 | 0 |\n",
       "| 2 | ENSG00000033122.18 | 0 |\n",
       "\n"
      ],
      "text/plain": [
       "  gene_id            p_values\n",
       "1 ENSG00000012660.13 0       \n",
       "2 ENSG00000033122.18 0       "
      ]
     },
     "metadata": {},
     "output_type": "display_data"
    }
   ],
   "source": [
    "pvals = c(); genes = c()\n",
    "for(gene_id in eFeature$gene_id){\n",
    "    model = paste(paste0(gene_id, \"~ Region*Sex\"), \"Dx + Age + mitoRate + rRNA_rate\",\n",
    "                  \"overallMapRate + RIN + ERCCsumLogErr + totalAssignedGene + snpPC1\",\n",
    "                  \"snpPC2 + snpPC3\", sep=\" + \")\n",
    "    fitted = anova(lm(model, data=df))\n",
    "    #fit_lm = aov(lm(model, data=df))\n",
    "    pvals = c(pvals, fitted[\"Region\", \"Pr(>F)\"])\n",
    "    genes = c(genes, gene_id)\n",
    "}\n",
    "pval_df = data.frame(\"gene_id\"=genes, \"p_values\"=pvals)\n",
    "print(sum(pvals > 0.05))\n",
    "pval_df %>% head(2)"
   ]
  },
  {
   "cell_type": "markdown",
   "metadata": {},
   "source": [
    "## Comparison of expression"
   ]
  },
  {
   "cell_type": "code",
   "execution_count": 6,
   "metadata": {
    "execution": {
     "iopub.execute_input": "2021-08-16T01:48:20.489052Z",
     "iopub.status.busy": "2021-08-16T01:48:20.487732Z",
     "iopub.status.idle": "2021-08-16T01:48:20.727627Z",
     "shell.execute_reply": "2021-08-16T01:48:20.726288Z"
    }
   },
   "outputs": [
    {
     "data": {
      "text/html": [
       "<table class=\"dataframe\">\n",
       "<caption>A data.frame: 2 × 14</caption>\n",
       "<thead>\n",
       "\t<tr><th></th><th scope=col>gene_id</th><th scope=col>Caudate_Expression</th><th scope=col>DLPFC_Expression</th><th scope=col>Hippocampus_Expression</th><th scope=col>Caudate_eQTL</th><th scope=col>DLPFC_eQTL</th><th scope=col>Hippocampus_eQTL</th><th scope=col>p_values</th><th scope=col>Max Expression</th><th scope=col>Min Expression</th><th scope=col>Mean Expresion</th><th scope=col>Ratio (DLPFC / Caudate)</th><th scope=col>Ratio (Hippocampus / Caudate)</th><th scope=col>Ratio (Hippocampus / DLPFC)</th></tr>\n",
       "\t<tr><th></th><th scope=col>&lt;chr&gt;</th><th scope=col>&lt;dbl&gt;</th><th scope=col>&lt;dbl&gt;</th><th scope=col>&lt;dbl&gt;</th><th scope=col>&lt;int&gt;</th><th scope=col>&lt;int&gt;</th><th scope=col>&lt;int&gt;</th><th scope=col>&lt;dbl&gt;</th><th scope=col>&lt;chr&gt;</th><th scope=col>&lt;chr&gt;</th><th scope=col>&lt;dbl&gt;</th><th scope=col>&lt;dbl&gt;</th><th scope=col>&lt;dbl&gt;</th><th scope=col>&lt;dbl&gt;</th></tr>\n",
       "</thead>\n",
       "<tbody>\n",
       "\t<tr><th scope=row>1</th><td>ENSG00000012660.13</td><td>6.499194</td><td>4.850471</td><td>4.085723</td><td>1</td><td>0</td><td>0</td><td>0</td><td>Caudate</td><td>Hippocampus</td><td>5.145129</td><td>0.7463188</td><td>0.6286508</td><td>0.8423354</td></tr>\n",
       "\t<tr><th scope=row>2</th><td>ENSG00000033122.18</td><td>6.660252</td><td>4.930057</td><td>4.567698</td><td>1</td><td>0</td><td>0</td><td>0</td><td>Caudate</td><td>Hippocampus</td><td>5.386002</td><td>0.7402209</td><td>0.6858146</td><td>0.9265000</td></tr>\n",
       "</tbody>\n",
       "</table>\n"
      ],
      "text/latex": [
       "A data.frame: 2 × 14\n",
       "\\begin{tabular}{r|llllllllllllll}\n",
       "  & gene\\_id & Caudate\\_Expression & DLPFC\\_Expression & Hippocampus\\_Expression & Caudate\\_eQTL & DLPFC\\_eQTL & Hippocampus\\_eQTL & p\\_values & Max Expression & Min Expression & Mean Expresion & Ratio (DLPFC / Caudate) & Ratio (Hippocampus / Caudate) & Ratio (Hippocampus / DLPFC)\\\\\n",
       "  & <chr> & <dbl> & <dbl> & <dbl> & <int> & <int> & <int> & <dbl> & <chr> & <chr> & <dbl> & <dbl> & <dbl> & <dbl>\\\\\n",
       "\\hline\n",
       "\t1 & ENSG00000012660.13 & 6.499194 & 4.850471 & 4.085723 & 1 & 0 & 0 & 0 & Caudate & Hippocampus & 5.145129 & 0.7463188 & 0.6286508 & 0.8423354\\\\\n",
       "\t2 & ENSG00000033122.18 & 6.660252 & 4.930057 & 4.567698 & 1 & 0 & 0 & 0 & Caudate & Hippocampus & 5.386002 & 0.7402209 & 0.6858146 & 0.9265000\\\\\n",
       "\\end{tabular}\n"
      ],
      "text/markdown": [
       "\n",
       "A data.frame: 2 × 14\n",
       "\n",
       "| <!--/--> | gene_id &lt;chr&gt; | Caudate_Expression &lt;dbl&gt; | DLPFC_Expression &lt;dbl&gt; | Hippocampus_Expression &lt;dbl&gt; | Caudate_eQTL &lt;int&gt; | DLPFC_eQTL &lt;int&gt; | Hippocampus_eQTL &lt;int&gt; | p_values &lt;dbl&gt; | Max Expression &lt;chr&gt; | Min Expression &lt;chr&gt; | Mean Expresion &lt;dbl&gt; | Ratio (DLPFC / Caudate) &lt;dbl&gt; | Ratio (Hippocampus / Caudate) &lt;dbl&gt; | Ratio (Hippocampus / DLPFC) &lt;dbl&gt; |\n",
       "|---|---|---|---|---|---|---|---|---|---|---|---|---|---|---|\n",
       "| 1 | ENSG00000012660.13 | 6.499194 | 4.850471 | 4.085723 | 1 | 0 | 0 | 0 | Caudate | Hippocampus | 5.145129 | 0.7463188 | 0.6286508 | 0.8423354 |\n",
       "| 2 | ENSG00000033122.18 | 6.660252 | 4.930057 | 4.567698 | 1 | 0 | 0 | 0 | Caudate | Hippocampus | 5.386002 | 0.7402209 | 0.6858146 | 0.9265000 |\n",
       "\n"
      ],
      "text/plain": [
       "  gene_id            Caudate_Expression DLPFC_Expression Hippocampus_Expression\n",
       "1 ENSG00000012660.13 6.499194           4.850471         4.085723              \n",
       "2 ENSG00000033122.18 6.660252           4.930057         4.567698              \n",
       "  Caudate_eQTL DLPFC_eQTL Hippocampus_eQTL p_values Max Expression\n",
       "1 1            0          0                0        Caudate       \n",
       "2 1            0          0                0        Caudate       \n",
       "  Min Expression Mean Expresion Ratio (DLPFC / Caudate)\n",
       "1 Hippocampus    5.145129       0.7463188              \n",
       "2 Hippocampus    5.386002       0.7402209              \n",
       "  Ratio (Hippocampus / Caudate) Ratio (Hippocampus / DLPFC)\n",
       "1 0.6286508                     0.8423354                  \n",
       "2 0.6858146                     0.9265000                  "
      ]
     },
     "metadata": {},
     "output_type": "display_data"
    }
   ],
   "source": [
    "dt = df %>% select(Region, all_of(eFeature$gene_id)) %>% \n",
    "    aggregate(. ~ Region, ., mean) %>% \n",
    "    mutate(Region = gsub(\"HIPPO\", \"Hippocampus\", Region)) %>%\n",
    "    tibble::column_to_rownames(\"Region\") %>%\n",
    "    t %>% as.data.frame %>% tibble::rownames_to_column(\"gene_id\") %>%\n",
    "    inner_join(eFeature, by=\"gene_id\", suffix=c(\"_Expression\", \"_eQTL\")) %>% \n",
    "    select(-c(\"variant_id\")) %>% inner_join(pval_df, by=\"gene_id\")\n",
    "tt = dt %>% select(ends_with(\"Expression\"))\n",
    "dt = dt %>% mutate(\"Max Expression\"=gsub(\"_Expression\", \"\", colnames(tt)[apply(tt, 1, which.max)]), \n",
    "                   \"Min Expression\"=gsub(\"_Expression\", \"\", colnames(tt)[apply(tt, 1, which.min)]), \n",
    "                   \"Mean Expresion\"=rowMeans(tt),\n",
    "                   \"Ratio (DLPFC / Caudate)\" = DLPFC_Expression/Caudate_Expression, \n",
    "                   \"Ratio (Hippocampus / Caudate)\" = Hippocampus_Expression/Caudate_Expression, \n",
    "                   \"Ratio (Hippocampus / DLPFC)\" = Hippocampus_Expression/DLPFC_Expression)\n",
    "dt %>% data.table::fwrite(\"eQTL_regionSpecific_summary.tsv\", sep='\\t')\n",
    "dt %>% head(2)"
   ]
  },
  {
   "cell_type": "code",
   "execution_count": 7,
   "metadata": {
    "execution": {
     "iopub.execute_input": "2021-08-16T01:48:20.733625Z",
     "iopub.status.busy": "2021-08-16T01:48:20.732312Z",
     "iopub.status.idle": "2021-08-16T01:48:20.747410Z",
     "shell.execute_reply": "2021-08-16T01:48:20.746110Z"
    }
   },
   "outputs": [
    {
     "data": {
      "text/html": [
       "1"
      ],
      "text/latex": [
       "1"
      ],
      "text/markdown": [
       "1"
      ],
      "text/plain": [
       "[1] 1"
      ]
     },
     "metadata": {},
     "output_type": "display_data"
    }
   ],
   "source": [
    "sum(dt$`Ratio (DLPFC / Caudate)` > 0.9)"
   ]
  },
  {
   "cell_type": "code",
   "execution_count": 8,
   "metadata": {
    "execution": {
     "iopub.execute_input": "2021-08-16T01:48:20.753501Z",
     "iopub.status.busy": "2021-08-16T01:48:20.752247Z",
     "iopub.status.idle": "2021-08-16T01:48:20.767198Z",
     "shell.execute_reply": "2021-08-16T01:48:20.765887Z"
    }
   },
   "outputs": [
    {
     "data": {
      "text/html": [
       "0"
      ],
      "text/latex": [
       "0"
      ],
      "text/markdown": [
       "0"
      ],
      "text/plain": [
       "[1] 0"
      ]
     },
     "metadata": {},
     "output_type": "display_data"
    }
   ],
   "source": [
    "sum(dt$`Ratio (Hippocampus / Caudate)` > 0.9)"
   ]
  },
  {
   "cell_type": "code",
   "execution_count": 9,
   "metadata": {
    "execution": {
     "iopub.execute_input": "2021-08-16T01:48:20.773165Z",
     "iopub.status.busy": "2021-08-16T01:48:20.771926Z",
     "iopub.status.idle": "2021-08-16T01:48:20.792251Z",
     "shell.execute_reply": "2021-08-16T01:48:20.790943Z"
    }
   },
   "outputs": [
    {
     "name": "stdout",
     "output_type": "stream",
     "text": [
      "[1] 1\n"
     ]
    },
    {
     "data": {
      "text/html": [
       "0.0222222222222222"
      ],
      "text/latex": [
       "0.0222222222222222"
      ],
      "text/markdown": [
       "0.0222222222222222"
      ],
      "text/plain": [
       "[1] 0.02222222"
      ]
     },
     "metadata": {},
     "output_type": "display_data"
    }
   ],
   "source": [
    "nochange = sum(dt$`Ratio (DLPFC / Caudate)` > 0.9) + sum(dt$`Ratio (Hippocampus / Caudate)` > 0.9)\n",
    "print(nochange)\n",
    "nochange / dim(eFeature)[1]"
   ]
  },
  {
   "cell_type": "code",
   "execution_count": 10,
   "metadata": {
    "execution": {
     "iopub.execute_input": "2021-08-16T01:48:20.798236Z",
     "iopub.status.busy": "2021-08-16T01:48:20.796984Z",
     "iopub.status.idle": "2021-08-16T01:48:20.812209Z",
     "shell.execute_reply": "2021-08-16T01:48:20.810871Z"
    }
   },
   "outputs": [
    {
     "data": {
      "text/html": [
       "12"
      ],
      "text/latex": [
       "12"
      ],
      "text/markdown": [
       "12"
      ],
      "text/plain": [
       "[1] 12"
      ]
     },
     "metadata": {},
     "output_type": "display_data"
    }
   ],
   "source": [
    "sum(dt$`Ratio (Hippocampus / DLPFC)` > 0.9)"
   ]
  },
  {
   "cell_type": "code",
   "execution_count": 11,
   "metadata": {
    "execution": {
     "iopub.execute_input": "2021-08-16T01:48:20.818273Z",
     "iopub.status.busy": "2021-08-16T01:48:20.817011Z",
     "iopub.status.idle": "2021-08-16T01:48:20.837680Z",
     "shell.execute_reply": "2021-08-16T01:48:20.836385Z"
    }
   },
   "outputs": [
    {
     "data": {
      "text/html": [
       "0"
      ],
      "text/latex": [
       "0"
      ],
      "text/markdown": [
       "0"
      ],
      "text/plain": [
       "[1] 0"
      ]
     },
     "metadata": {},
     "output_type": "display_data"
    },
    {
     "data": {
      "text/html": [
       "0"
      ],
      "text/latex": [
       "0"
      ],
      "text/markdown": [
       "0"
      ],
      "text/plain": [
       "[1] 0"
      ]
     },
     "metadata": {},
     "output_type": "display_data"
    }
   ],
   "source": [
    "## Low expression genes\n",
    "sum(dt$`Mean Expresion` < 1)\n",
    "sum(dt$`Mean Expresion` < 1) / dim(eFeature)[1]"
   ]
  },
  {
   "cell_type": "code",
   "execution_count": 12,
   "metadata": {
    "execution": {
     "iopub.execute_input": "2021-08-16T01:48:20.843765Z",
     "iopub.status.busy": "2021-08-16T01:48:20.842490Z",
     "iopub.status.idle": "2021-08-16T01:48:20.875185Z",
     "shell.execute_reply": "2021-08-16T01:48:20.873064Z"
    }
   },
   "outputs": [
    {
     "data": {
      "text/html": [
       "45"
      ],
      "text/latex": [
       "45"
      ],
      "text/markdown": [
       "45"
      ],
      "text/plain": [
       "[1] 45"
      ]
     },
     "metadata": {},
     "output_type": "display_data"
    },
    {
     "data": {
      "text/html": [
       "45"
      ],
      "text/latex": [
       "45"
      ],
      "text/markdown": [
       "45"
      ],
      "text/plain": [
       "[1] 45"
      ]
     },
     "metadata": {},
     "output_type": "display_data"
    },
    {
     "data": {
      "text/html": [
       "1"
      ],
      "text/latex": [
       "1"
      ],
      "text/markdown": [
       "1"
      ],
      "text/plain": [
       "[1] 1"
      ]
     },
     "metadata": {},
     "output_type": "display_data"
    }
   ],
   "source": [
    "sum(dt$Caudate_eQTL == 1 & dt$`Max Expression` == \"Caudate\")\n",
    "sum(dt$Caudate_eQTL == 1 & dt$`Max Expression` == \"Caudate\" & \n",
    "    (dt$`Ratio (DLPFC / Caudate)` < 0.9 | dt$`Ratio (Hippocampus / Caudate)` < 0.9))\n",
    "sum(dt$Caudate_eQTL == 1 & dt$`Max Expression` == \"Caudate\" & \n",
    "    (dt$`Ratio (DLPFC / Caudate)` < 0.9 | dt$`Ratio (Hippocampus / Caudate)` < 0.9)) / dim(eFeature)[1]"
   ]
  },
  {
   "cell_type": "code",
   "execution_count": 13,
   "metadata": {
    "execution": {
     "iopub.execute_input": "2021-08-16T01:48:20.881661Z",
     "iopub.status.busy": "2021-08-16T01:48:20.880375Z",
     "iopub.status.idle": "2021-08-16T01:48:20.900349Z",
     "shell.execute_reply": "2021-08-16T01:48:20.899058Z"
    }
   },
   "outputs": [
    {
     "data": {
      "text/html": [
       "0"
      ],
      "text/latex": [
       "0"
      ],
      "text/markdown": [
       "0"
      ],
      "text/plain": [
       "[1] 0"
      ]
     },
     "metadata": {},
     "output_type": "display_data"
    },
    {
     "data": {
      "text/html": [
       "0"
      ],
      "text/latex": [
       "0"
      ],
      "text/markdown": [
       "0"
      ],
      "text/plain": [
       "[1] 0"
      ]
     },
     "metadata": {},
     "output_type": "display_data"
    }
   ],
   "source": [
    "sum(dt$DLPFC_eQTL == 1 & dt$`Max Expression` == \"DLPFC\")\n",
    "sum(dt$Hippocampus_eQTL == 1 & dt$`Max Expression` == \"Hippocampus\")"
   ]
  },
  {
   "cell_type": "code",
   "execution_count": 14,
   "metadata": {
    "execution": {
     "iopub.execute_input": "2021-08-16T01:48:20.906487Z",
     "iopub.status.busy": "2021-08-16T01:48:20.905227Z",
     "iopub.status.idle": "2021-08-16T01:48:20.930625Z",
     "shell.execute_reply": "2021-08-16T01:48:20.929342Z"
    }
   },
   "outputs": [
    {
     "data": {
      "text/html": [
       "0"
      ],
      "text/latex": [
       "0"
      ],
      "text/markdown": [
       "0"
      ],
      "text/plain": [
       "[1] 0"
      ]
     },
     "metadata": {},
     "output_type": "display_data"
    },
    {
     "data": {
      "text/html": [
       "0"
      ],
      "text/latex": [
       "0"
      ],
      "text/markdown": [
       "0"
      ],
      "text/plain": [
       "[1] 0"
      ]
     },
     "metadata": {},
     "output_type": "display_data"
    },
    {
     "data": {
      "text/html": [
       "0"
      ],
      "text/latex": [
       "0"
      ],
      "text/markdown": [
       "0"
      ],
      "text/plain": [
       "[1] 0"
      ]
     },
     "metadata": {},
     "output_type": "display_data"
    }
   ],
   "source": [
    "sum(dt$Caudate_eQTL == 1 & dt$`Min Expression` == \"Caudate\")\n",
    "sum(dt$DLPFC_eQTL == 1 & dt$`Min Expression` == \"DLPFC\")\n",
    "sum(dt$Hippocampus_eQTL == 1 & dt$`Min Expression` == \"Hippocampus\")"
   ]
  },
  {
   "cell_type": "code",
   "execution_count": 15,
   "metadata": {
    "execution": {
     "iopub.execute_input": "2021-08-16T01:48:20.936735Z",
     "iopub.status.busy": "2021-08-16T01:48:20.935497Z",
     "iopub.status.idle": "2021-08-16T01:48:20.960544Z",
     "shell.execute_reply": "2021-08-16T01:48:20.959259Z"
    }
   },
   "outputs": [
    {
     "data": {
      "text/html": [
       "45"
      ],
      "text/latex": [
       "45"
      ],
      "text/markdown": [
       "45"
      ],
      "text/plain": [
       "[1] 45"
      ]
     },
     "metadata": {},
     "output_type": "display_data"
    },
    {
     "data": {
      "text/html": [
       "0"
      ],
      "text/latex": [
       "0"
      ],
      "text/markdown": [
       "0"
      ],
      "text/plain": [
       "[1] 0"
      ]
     },
     "metadata": {},
     "output_type": "display_data"
    },
    {
     "data": {
      "text/html": [
       "0"
      ],
      "text/latex": [
       "0"
      ],
      "text/markdown": [
       "0"
      ],
      "text/plain": [
       "[1] 0"
      ]
     },
     "metadata": {},
     "output_type": "display_data"
    }
   ],
   "source": [
    "sum(eFeature$Caudate == 1)\n",
    "sum(eFeature$DLPFC == 1)\n",
    "sum(eFeature$Hippocampus == 1)"
   ]
  },
  {
   "cell_type": "markdown",
   "metadata": {},
   "source": [
    "### Summary\n",
    "- All specific genes are caudate, and caudate has the highest expression!"
   ]
  },
  {
   "cell_type": "markdown",
   "metadata": {},
   "source": [
    "## Reproducibility information"
   ]
  },
  {
   "cell_type": "code",
   "execution_count": 16,
   "metadata": {
    "execution": {
     "iopub.execute_input": "2021-08-16T01:48:20.966918Z",
     "iopub.status.busy": "2021-08-16T01:48:20.965580Z",
     "iopub.status.idle": "2021-08-16T01:48:21.315996Z",
     "shell.execute_reply": "2021-08-16T01:48:21.314452Z"
    }
   },
   "outputs": [
    {
     "data": {
      "text/plain": [
       "[1] \"2021-08-15 21:48:20 EDT\""
      ]
     },
     "metadata": {},
     "output_type": "display_data"
    },
    {
     "data": {
      "text/plain": [
       "   user  system elapsed \n",
       " 37.458  11.976  47.673 "
      ]
     },
     "metadata": {},
     "output_type": "display_data"
    },
    {
     "data": {
      "text/plain": [
       "─ Session info ───────────────────────────────────────────────────────────────────────────────────────────────────────\n",
       " setting  value                       \n",
       " version  R version 4.0.3 (2020-10-10)\n",
       " os       Arch Linux                  \n",
       " system   x86_64, linux-gnu           \n",
       " ui       X11                         \n",
       " language (EN)                        \n",
       " collate  en_US.UTF-8                 \n",
       " ctype    en_US.UTF-8                 \n",
       " tz       America/New_York            \n",
       " date     2021-08-15                  \n",
       "\n",
       "─ Packages ───────────────────────────────────────────────────────────────────────────────────────────────────────────\n",
       " package     * version date       lib source        \n",
       " assertthat    0.2.1   2019-03-21 [1] CRAN (R 4.0.2)\n",
       " base64enc     0.1-3   2015-07-28 [1] CRAN (R 4.0.2)\n",
       " cachem        1.0.5   2021-05-15 [1] CRAN (R 4.0.3)\n",
       " cli           3.0.0   2021-06-30 [1] CRAN (R 4.0.3)\n",
       " crayon        1.4.1   2021-02-08 [1] CRAN (R 4.0.3)\n",
       " data.table    1.14.0  2021-02-21 [1] CRAN (R 4.0.3)\n",
       " DBI           1.1.1   2021-01-15 [1] CRAN (R 4.0.2)\n",
       " digest        0.6.27  2020-10-24 [1] CRAN (R 4.0.2)\n",
       " dplyr       * 1.0.7   2021-06-18 [1] CRAN (R 4.0.3)\n",
       " ellipsis      0.3.2   2021-04-29 [1] CRAN (R 4.0.3)\n",
       " evaluate      0.14    2019-05-28 [1] CRAN (R 4.0.2)\n",
       " fansi         0.5.0   2021-05-25 [1] CRAN (R 4.0.3)\n",
       " fastmap       1.1.0   2021-01-25 [1] CRAN (R 4.0.2)\n",
       " generics      0.1.0   2020-10-31 [1] CRAN (R 4.0.2)\n",
       " glue          1.4.2   2020-08-27 [1] CRAN (R 4.0.2)\n",
       " htmltools     0.5.1.1 2021-01-22 [1] CRAN (R 4.0.2)\n",
       " IRdisplay     1.0     2021-01-20 [1] CRAN (R 4.0.2)\n",
       " IRkernel      1.2     2021-05-11 [1] CRAN (R 4.0.3)\n",
       " jsonlite      1.7.2   2020-12-09 [1] CRAN (R 4.0.2)\n",
       " lifecycle     1.0.0   2021-02-15 [1] CRAN (R 4.0.3)\n",
       " magrittr      2.0.1   2020-11-17 [1] CRAN (R 4.0.2)\n",
       " memoise       2.0.0   2021-01-26 [1] CRAN (R 4.0.2)\n",
       " pbdZMQ        0.3-5   2021-02-10 [1] CRAN (R 4.0.3)\n",
       " pillar        1.6.1   2021-05-16 [1] CRAN (R 4.0.3)\n",
       " pkgconfig     2.0.3   2019-09-22 [1] CRAN (R 4.0.2)\n",
       " purrr         0.3.4   2020-04-17 [1] CRAN (R 4.0.2)\n",
       " R6            2.5.0   2020-10-28 [1] CRAN (R 4.0.2)\n",
       " repr          1.1.3   2021-01-21 [1] CRAN (R 4.0.2)\n",
       " rlang         0.4.11  2021-04-30 [1] CRAN (R 4.0.3)\n",
       " sessioninfo   1.1.1   2018-11-05 [1] CRAN (R 4.0.2)\n",
       " tibble        3.1.2   2021-05-16 [1] CRAN (R 4.0.3)\n",
       " tidyselect    1.1.1   2021-04-30 [1] CRAN (R 4.0.3)\n",
       " utf8          1.2.1   2021-03-12 [1] CRAN (R 4.0.3)\n",
       " uuid          0.1-4   2020-02-26 [1] CRAN (R 4.0.2)\n",
       " vctrs         0.3.8   2021-04-29 [1] CRAN (R 4.0.3)\n",
       " withr         2.4.2   2021-04-18 [1] CRAN (R 4.0.3)\n",
       "\n",
       "[1] /home/jbenja13/R/x86_64-pc-linux-gnu-library/4.0\n",
       "[2] /usr/lib/R/library"
      ]
     },
     "metadata": {},
     "output_type": "display_data"
    }
   ],
   "source": [
    "Sys.time()\n",
    "proc.time()\n",
    "options(width=120)\n",
    "sessioninfo::session_info()"
   ]
  }
 ],
 "metadata": {
  "kernelspec": {
   "display_name": "R",
   "language": "R",
   "name": "ir"
  },
  "language_info": {
   "codemirror_mode": "r",
   "file_extension": ".r",
   "mimetype": "text/x-r-source",
   "name": "R",
   "pygments_lexer": "r",
   "version": "4.0.3"
  }
 },
 "nbformat": 4,
 "nbformat_minor": 4
}
