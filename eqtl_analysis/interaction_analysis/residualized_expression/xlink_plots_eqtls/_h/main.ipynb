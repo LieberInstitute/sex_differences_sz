{
 "cells": [
  {
   "cell_type": "markdown",
   "metadata": {},
   "source": [
    "# eQTL boxplot\n",
    "\n",
    "This is script ported from python to fix unknown plotting error."
   ]
  },
  {
   "cell_type": "code",
   "execution_count": 1,
   "metadata": {},
   "outputs": [],
   "source": [
    "suppressPackageStartupMessages({\n",
    "    library(tidyverse)\n",
    "    library(ggpubr)\n",
    "})"
   ]
  },
  {
   "cell_type": "markdown",
   "metadata": {},
   "source": [
    "## Functions"
   ]
  },
  {
   "cell_type": "code",
   "execution_count": 2,
   "metadata": {},
   "outputs": [],
   "source": [
    "tissue = \"Caudate\""
   ]
  },
  {
   "cell_type": "markdown",
   "metadata": {},
   "source": [
    "### Cached functions"
   ]
  },
  {
   "cell_type": "code",
   "execution_count": 3,
   "metadata": {},
   "outputs": [],
   "source": [
    "get_residualized_df <- function(){\n",
    "    expr_file = \"../../_m/genes_residualized_expression.csv\"\n",
    "    return(data.table::fread(expr_file) %>% column_to_rownames(\"gene_id\"))\n",
    "}\n",
    "memRES <- memoise::memoise(get_residualized_df)\n",
    "\n",
    "get_biomart_df <- function(){\n",
    "    biomart = data.table::fread(\"../_h/biomart.csv\")\n",
    "}\n",
    "memMART <- memoise::memoise(get_biomart_df)\n",
    "\n",
    "get_pheno_df <- function(){\n",
    "    phenotype_file = paste0('/ceph/projects/v4_phase3_paper/inputs/',\n",
    "                            'phenotypes/_m/merged_phenotypes.csv')\n",
    "    return(data.table::fread(phenotype_file))\n",
    "}\n",
    "memPHENO <- memoise::memoise(get_pheno_df)\n",
    "\n",
    "get_genotypes <- function(){\n",
    "    traw_file = paste0(\"/ceph/projects/brainseq/genotype/download/topmed/convert2plink/\",\n",
    "                      \"filter_maf_01/a_transpose/_m/LIBD_Brain_TopMed.traw\")\n",
    "    traw = data.table::fread(traw_file) %>% rename_with(~ gsub('\\\\_.*', '', .x))\n",
    "    return(traw)\n",
    "}\n",
    "memSNPs <- memoise::memoise(get_genotypes)\n",
    "\n",
    "get_tissue_eqtls <- function(){\n",
    "    mashr_file = paste0(\"../../../mashr/summary_table/_m/\",\n",
    "                       \"BrainSeq_sexGenotypes_4features_3regions.txt.gz\")\n",
    "    return(data.table::fread(mashr_file) %>% \n",
    "           filter(Type == \"Gene\", str_detect(variant_id, \"chrX\")) %>% \n",
    "           select(gene_id, variant_id, lfsr))\n",
    "}\n",
    "memTISSUE <- memoise::memoise(get_tissue_eqtls)\n",
    "\n",
    "get_eqtl_df <- function(){\n",
    "    fastqtl_file = paste0(\"../../../../../prep_eqtl_analysis/\",tolower(tissue),\n",
    "                         \"/genes/prepare_expression/fastqtl_nominal/\",\n",
    "                         \"multiple_corrections/_m/Brainseq_LIBD.txt.gz\")\n",
    "    eqtl_df = data.table::fread(fastqtl_file) %>% \n",
    "        filter(gene_id %in% unique(memTISSUE()$gene_id)) %>% \n",
    "        arrange(BF)\n",
    "    return(eqtl_df)\n",
    "}\n",
    "memEQTL <- memoise::memoise(get_eqtl_df)\n",
    "\n",
    "get_snp_df <- function(variant_id, gene_id){\n",
    "    zz = get_geno_annot() %>% filter(SNP == variant_id)\n",
    "    xx = get_snps_df() %>% filter(SNP == variant_id) %>% \n",
    "        column_to_rownames(\"SNP\") %>% t %>% as.data.frame %>% \n",
    "        rownames_to_column(\"BrNum\") %>% mutate(COUNTED=zz$COUNTED, ALT=zz$ALT) %>% \n",
    "        rename(\"SNP\"=all_of(variant_id))\n",
    "    yy = memRES()[gene_id, ] %>% t %>% as.data.frame %>% \n",
    "        rownames_to_column(\"RNum\") %>% inner_join(memPHENO(), by=\"RNum\")\n",
    "    ## Annotated SNPs\n",
    "    letters = c()\n",
    "    for(ii in seq_along(xx$COUNTED)){\n",
    "        a0 = xx$COUNTED[ii]; a1 = xx$ALT[ii]; number = xx$SNP[ii]\n",
    "        letters <- append(letters, letter_snp(number, a0, a1))\n",
    "    }\n",
    "    xx = xx %>% mutate(LETTER=letters, ID=paste(SNP, LETTER, sep=\"\\n\"))\n",
    "    df = inner_join(xx, yy, by=\"BrNum\") %>% mutate_if(is.character, as.factor)\n",
    "    return(df)\n",
    "}\n",
    "memDF <- memoise::memoise(get_snp_df)"
   ]
  },
  {
   "cell_type": "markdown",
   "metadata": {},
   "source": [
    "### Simple functions"
   ]
  },
  {
   "cell_type": "code",
   "execution_count": 4,
   "metadata": {},
   "outputs": [],
   "source": [
    "get_geno_annot <- function(){\n",
    "    return(memSNPs() %>% select(CHR, SNP, POS, COUNTED, ALT))\n",
    "}\n",
    "\n",
    "get_snps_df <- function(){\n",
    "    return(memSNPs() %>% select(\"SNP\", starts_with(\"Br\")))\n",
    "}\n",
    "\n",
    "letter_snp <- function(number, a0, a1){\n",
    "    if(is.na(number)){ return(NA) }\n",
    "    if( length(a0) == 1 & length(a1) == 1){\n",
    "        seps = \"\"; collapse=\"\"\n",
    "    } else {\n",
    "        seps = \" \"; collapse=NULL\n",
    "    }\n",
    "    return(paste(paste0(rep(a0, number), collapse = collapse), \n",
    "                 paste0(rep(a1, (2-number)), collapse = collapse), sep=seps))\n",
    "}\n",
    "\n",
    "save_ggplots <- function(fn, p, w, h){\n",
    "    for(ext in c('.pdf', '.png', '.svg')){\n",
    "        ggsave(paste0(fn, ext), plot=p, width=w, height=h)\n",
    "    }\n",
    "}\n",
    "\n",
    "get_gene_symbol <- function(gene_id){\n",
    "    ensemblID = gsub(\"\\\\..*\", \"\", gene_id)\n",
    "    geneid = memMART() %>% filter(ensembl_gene_id == gsub(\"\\\\..*\", \"\", gene_id))\n",
    "    if(dim(geneid)[1] == 0){\n",
    "        return(\"\")\n",
    "    } else {\n",
    "        return(geneid$external_gene_name)\n",
    "    }\n",
    "}\n",
    "\n",
    "plot_simple_eqtl <- function(fn, gene_id, variant_id){\n",
    "    bxp = memDF(variant_id, gene_id) %>% \n",
    "        mutate(Region=gsub(\"HIPPO\", \"Hippocampus\", Region)) %>%\n",
    "        ggboxplot(x=\"ID\", y=gene_id, fill=\"Sex\", color=\"Sex\", add=\"jitter\", \n",
    "                  facet.by=\"Region\", panel.labs.font=list(face='bold'),\n",
    "                  xlab=variant_id, ylab=\"Residualized Expression\", outlier.shape=NA,\n",
    "                  add.params=list(alpha=0.5), alpha=0.4, legend=\"bottom\", \n",
    "                  palette=\"npg\", ggtheme=theme_pubr(base_size=20, border=TRUE)) +\n",
    "        font(\"xy.title\", face=\"bold\") + \n",
    "        ggtitle(paste(get_gene_symbol(gene_id), gene_id, sep='\\n')) +\n",
    "        theme(plot.title = element_text(hjust = 0.5, face=\"bold\"))\n",
    "    print(bxp)\n",
    "    save_ggplots(fn, bxp, 10, 7)\n",
    "}\n"
   ]
  },
  {
   "cell_type": "markdown",
   "metadata": {},
   "source": [
    "## Plot eQTL"
   ]
  },
  {
   "cell_type": "code",
   "execution_count": 8,
   "metadata": {},
   "outputs": [
    {
     "data": {
      "text/html": [
       "<table class=\"dataframe\">\n",
       "<caption>A grouped_df: 5 × 3</caption>\n",
       "<thead>\n",
       "\t<tr><th scope=col>gene_id</th><th scope=col>variant_id</th><th scope=col>lfsr</th></tr>\n",
       "\t<tr><th scope=col>&lt;chr&gt;</th><th scope=col>&lt;chr&gt;</th><th scope=col>&lt;dbl&gt;</th></tr>\n",
       "</thead>\n",
       "<tbody>\n",
       "\t<tr><td>ENSG00000228906.1 </td><td>chrX:73862265:C:T </td><td>2.004122e-18</td></tr>\n",
       "\t<tr><td>ENSG00000196459.13</td><td>chrX:13671365:A:G </td><td>1.229507e-03</td></tr>\n",
       "\t<tr><td>ENSG00000165509.13</td><td>chrX:141346224:T:G</td><td>2.187504e-03</td></tr>\n",
       "\t<tr><td>ENSG00000188706.12</td><td>chrX:130114928:G:A</td><td>3.673490e-03</td></tr>\n",
       "\t<tr><td>ENSG00000102317.17</td><td>chrX:48202153:A:G </td><td>4.514915e-03</td></tr>\n",
       "</tbody>\n",
       "</table>\n"
      ],
      "text/latex": [
       "A grouped\\_df: 5 × 3\n",
       "\\begin{tabular}{lll}\n",
       " gene\\_id & variant\\_id & lfsr\\\\\n",
       " <chr> & <chr> & <dbl>\\\\\n",
       "\\hline\n",
       "\t ENSG00000228906.1  & chrX:73862265:C:T  & 2.004122e-18\\\\\n",
       "\t ENSG00000196459.13 & chrX:13671365:A:G  & 1.229507e-03\\\\\n",
       "\t ENSG00000165509.13 & chrX:141346224:T:G & 2.187504e-03\\\\\n",
       "\t ENSG00000188706.12 & chrX:130114928:G:A & 3.673490e-03\\\\\n",
       "\t ENSG00000102317.17 & chrX:48202153:A:G  & 4.514915e-03\\\\\n",
       "\\end{tabular}\n"
      ],
      "text/markdown": [
       "\n",
       "A grouped_df: 5 × 3\n",
       "\n",
       "| gene_id &lt;chr&gt; | variant_id &lt;chr&gt; | lfsr &lt;dbl&gt; |\n",
       "|---|---|---|\n",
       "| ENSG00000228906.1  | chrX:73862265:C:T  | 2.004122e-18 |\n",
       "| ENSG00000196459.13 | chrX:13671365:A:G  | 1.229507e-03 |\n",
       "| ENSG00000165509.13 | chrX:141346224:T:G | 2.187504e-03 |\n",
       "| ENSG00000188706.12 | chrX:130114928:G:A | 3.673490e-03 |\n",
       "| ENSG00000102317.17 | chrX:48202153:A:G  | 4.514915e-03 |\n",
       "\n"
      ],
      "text/plain": [
       "  gene_id            variant_id         lfsr        \n",
       "1 ENSG00000228906.1  chrX:73862265:C:T  2.004122e-18\n",
       "2 ENSG00000196459.13 chrX:13671365:A:G  1.229507e-03\n",
       "3 ENSG00000165509.13 chrX:141346224:T:G 2.187504e-03\n",
       "4 ENSG00000188706.12 chrX:130114928:G:A 3.673490e-03\n",
       "5 ENSG00000102317.17 chrX:48202153:A:G  4.514915e-03"
      ]
     },
     "metadata": {},
     "output_type": "display_data"
    }
   ],
   "source": [
    "eqtl_df = memTISSUE() %>% arrange(lfsr) %>% group_by(gene_id) %>% \n",
    "    slice(1) %>% arrange(lfsr) \n",
    "eqtl_df %>% head(5)"
   ]
  },
  {
   "cell_type": "markdown",
   "metadata": {},
   "source": [
    "### X-linked eQTLs"
   ]
  },
  {
   "cell_type": "code",
   "execution_count": null,
   "metadata": {},
   "outputs": [],
   "source": [
    "for(num in seq_along(eqtl_df$gene_id)){\n",
    "    variant_id = eqtl_df$variant_id[num]\n",
    "    gene_id = eqtl_df$gene_id[num]\n",
    "    #eqtl_annot = paste(\"eQTL q-value:\", signif(memEQTL()$BF[num], 2))\n",
    "    fn = paste0(\"top_xlinked_\",num,\"_interacting_eqtl\")\n",
    "    plot_simple_eqtl(fn, gene_id, variant_id)\n",
    "}"
   ]
  },
  {
   "cell_type": "markdown",
   "metadata": {},
   "source": [
    "## Session Info"
   ]
  },
  {
   "cell_type": "code",
   "execution_count": null,
   "metadata": {},
   "outputs": [],
   "source": [
    "Sys.time()\n",
    "proc.time()\n",
    "options(width = 120)\n",
    "sessioninfo::session_info()"
   ]
  }
 ],
 "metadata": {
  "kernelspec": {
   "display_name": "R",
   "language": "R",
   "name": "ir"
  },
  "language_info": {
   "codemirror_mode": "r",
   "file_extension": ".r",
   "mimetype": "text/x-r-source",
   "name": "R",
   "pygments_lexer": "r",
   "version": "4.0.3"
  }
 },
 "nbformat": 4,
 "nbformat_minor": 4
}
