{
 "cells": [
  {
   "cell_type": "markdown",
   "metadata": {},
   "source": [
    "# eQTL boxplot\n",
    "\n",
    "This is script ported from python to fix unknown plotting error."
   ]
  },
  {
   "cell_type": "code",
   "execution_count": 1,
   "metadata": {},
   "outputs": [],
   "source": [
    "suppressPackageStartupMessages({\n",
    "    library(tidyverse)\n",
    "    library(ggpubr)\n",
    "})"
   ]
  },
  {
   "cell_type": "markdown",
   "metadata": {},
   "source": [
    "## Functions"
   ]
  },
  {
   "cell_type": "code",
   "execution_count": 2,
   "metadata": {},
   "outputs": [],
   "source": [
    "tissue = \"Caudate\""
   ]
  },
  {
   "cell_type": "markdown",
   "metadata": {},
   "source": [
    "### Cached functions"
   ]
  },
  {
   "cell_type": "code",
   "execution_count": 3,
   "metadata": {},
   "outputs": [],
   "source": [
    "get_residualized_df <- function(){\n",
    "    expr_file = \"../../_m/genes_residualized_expression.csv\"\n",
    "    return(data.table::fread(expr_file) %>% column_to_rownames(\"gene_id\"))\n",
    "}\n",
    "memRES <- memoise::memoise(get_residualized_df)\n",
    "\n",
    "get_biomart_df <- function(){\n",
    "    biomart = data.table::fread(\"../_h/biomart.csv\")\n",
    "}\n",
    "memMART <- memoise::memoise(get_biomart_df)\n",
    "\n",
    "get_pheno_df <- function(){\n",
    "    phenotype_file = paste0('/ceph/projects/v4_phase3_paper/inputs/',\n",
    "                            'phenotypes/_m/merged_phenotypes.csv')\n",
    "    return(data.table::fread(phenotype_file))\n",
    "}\n",
    "memPHENO <- memoise::memoise(get_pheno_df)\n",
    "\n",
    "get_genotypes <- function(){\n",
    "    traw_file = paste0(\"/ceph/projects/brainseq/genotype/download/topmed/convert2plink/\",\n",
    "                      \"filter_maf_01/a_transpose/_m/LIBD_Brain_TopMed.traw\")\n",
    "    traw = data.table::fread(traw_file) %>% rename_with(~ gsub('\\\\_.*', '', .x))\n",
    "    return(traw)\n",
    "}\n",
    "memSNPs <- memoise::memoise(get_genotypes)\n",
    "\n",
    "get_tissue_eqtls <- function(){\n",
    "    mashr_file = paste0(\"../../../mashr/summary_table/_m/\",\n",
    "                       \"BrainSeq_sexGenotypes_4features_3regions.txt.gz\")\n",
    "    dt = data.table::fread(mashr_file) %>% filter(Type == \"Gene\")\n",
    "    cc = dt %>% filter(Tissue == \"Caudate\")\n",
    "    dd = dt %>% filter(Tissue == \"DLPFC\")\n",
    "    hh = dt %>% filter(Tissue == \"Hippocampus\")\n",
    "    geneids = setdiff(setdiff(unique(cc$gene_id), unique(dd$gene_id)), \n",
    "                      unique(hh$gene_id))\n",
    "    return(data.table::fread(mashr_file) %>% \n",
    "           filter(Type == \"Gene\", gene_id %in% geneids) %>% \n",
    "           select(gene_id, variant_id, lfsr))\n",
    "}\n",
    "memTISSUE <- memoise::memoise(get_tissue_eqtls)\n",
    "\n",
    "get_eqtl_df <- function(){\n",
    "    fastqtl_file = paste0(\"../../../../../prep_eqtl_analysis/\",tolower(tissue),\n",
    "                         \"/genes/prepare_expression/fastqtl_nominal/\",\n",
    "                         \"multiple_corrections/_m/Brainseq_LIBD.txt.gz\")\n",
    "    eqtl_df = data.table::fread(fastqtl_file) %>% \n",
    "        filter(gene_id %in% unique(memTISSUE()$gene_id)) %>% \n",
    "        arrange(BF)\n",
    "    return(eqtl_df)\n",
    "}\n",
    "memEQTL <- memoise::memoise(get_eqtl_df)\n",
    "\n",
    "get_snp_df <- function(variant_id, gene_id){\n",
    "    zz = get_geno_annot() %>% filter(SNP == variant_id)\n",
    "    xx = get_snps_df() %>% filter(SNP == variant_id) %>% \n",
    "        column_to_rownames(\"SNP\") %>% t %>% as.data.frame %>% \n",
    "        rownames_to_column(\"BrNum\") %>% mutate(COUNTED=zz$COUNTED, ALT=zz$ALT) %>% \n",
    "        rename(\"SNP\"=all_of(variant_id))\n",
    "    yy = memRES()[gene_id, ] %>% t %>% as.data.frame %>% \n",
    "        rownames_to_column(\"RNum\") %>% inner_join(memPHENO(), by=\"RNum\")\n",
    "    ## Annotated SNPs\n",
    "    letters = c()\n",
    "    for(ii in seq_along(xx$COUNTED)){\n",
    "        a0 = xx$COUNTED[ii]; a1 = xx$ALT[ii]; number = xx$SNP[ii]\n",
    "        letters <- append(letters, letter_snp(number, a0, a1))\n",
    "    }\n",
    "    xx = xx %>% mutate(LETTER=letters, ID=paste(SNP, LETTER, sep=\"\\n\"))\n",
    "    df = inner_join(xx, yy, by=\"BrNum\") %>% mutate_if(is.character, as.factor)\n",
    "    return(df)\n",
    "}\n",
    "memDF <- memoise::memoise(get_snp_df)"
   ]
  },
  {
   "cell_type": "markdown",
   "metadata": {},
   "source": [
    "### Simple functions"
   ]
  },
  {
   "cell_type": "code",
   "execution_count": 4,
   "metadata": {},
   "outputs": [],
   "source": [
    "get_geno_annot <- function(){\n",
    "    return(memSNPs() %>% select(CHR, SNP, POS, COUNTED, ALT))\n",
    "}\n",
    "\n",
    "get_snps_df <- function(){\n",
    "    return(memSNPs() %>% select(\"SNP\", starts_with(\"Br\")))\n",
    "}\n",
    "\n",
    "letter_snp <- function(number, a0, a1){\n",
    "    if(is.na(number)){ return(NA) }\n",
    "    if( length(a0) == 1 & length(a1) == 1){\n",
    "        seps = \"\"; collapse=\"\"\n",
    "    } else {\n",
    "        seps = \" \"; collapse=NULL\n",
    "    }\n",
    "    return(paste(paste0(rep(a0, number), collapse = collapse), \n",
    "                 paste0(rep(a1, (2-number)), collapse = collapse), sep=seps))\n",
    "}\n",
    "\n",
    "save_ggplots <- function(fn, p, w, h){\n",
    "    for(ext in c('.pdf', '.png', '.svg')){\n",
    "        ggsave(paste0(fn, ext), plot=p, width=w, height=h)\n",
    "    }\n",
    "}\n",
    "\n",
    "get_gene_symbol <- function(gene_id){\n",
    "    ensemblID = gsub(\"\\\\..*\", \"\", gene_id)\n",
    "    geneid = memMART() %>% filter(ensembl_gene_id == gsub(\"\\\\..*\", \"\", gene_id))\n",
    "    if(dim(geneid)[1] == 0){\n",
    "        return(\"\")\n",
    "    } else {\n",
    "        return(geneid$external_gene_name)\n",
    "    }\n",
    "}\n",
    "\n",
    "plot_simple_eqtl <- function(fn, gene_id, variant_id){\n",
    "    bxp = memDF(variant_id, gene_id) %>% \n",
    "        mutate(Region=gsub(\"HIPPO\", \"Hippocampus\", Region)) %>%\n",
    "        ggboxplot(x=\"ID\", y=gene_id, fill=\"Sex\", color=\"Sex\", add=\"jitter\", \n",
    "                  facet.by=\"Region\", panel.labs.font=list(face='bold'),\n",
    "                  xlab=variant_id, ylab=\"Residualized Expression\", outlier.shape=NA,\n",
    "                  add.params=list(alpha=0.5), alpha=0.4, legend=\"bottom\", \n",
    "                  palette=\"npg\", ggtheme=theme_pubr(base_size=20, border=TRUE)) +\n",
    "        font(\"xy.title\", face=\"bold\") + \n",
    "        ggtitle(paste(get_gene_symbol(gene_id), gene_id, sep='\\n')) +\n",
    "        theme(plot.title = element_text(hjust = 0.5, face=\"bold\"))\n",
    "    print(bxp)\n",
    "    save_ggplots(fn, bxp, 10, 6)\n",
    "}\n"
   ]
  },
  {
   "cell_type": "markdown",
   "metadata": {},
   "source": [
    "## Plot eQTL"
   ]
  },
  {
   "cell_type": "code",
   "execution_count": 5,
   "metadata": {},
   "outputs": [
    {
     "data": {
      "text/html": [
       "<table class=\"dataframe\">\n",
       "<caption>A grouped_df: 5 × 10</caption>\n",
       "<thead>\n",
       "\t<tr><th scope=col>gene_id</th><th scope=col>variant_id</th><th scope=col>lfsr</th><th scope=col>slope</th><th scope=col>statistic</th><th scope=col>pval_nominal</th><th scope=col>fdr</th><th scope=col>BF</th><th scope=col>TESTS</th><th scope=col>eigenMT_BH</th></tr>\n",
       "\t<tr><th scope=col>&lt;chr&gt;</th><th scope=col>&lt;chr&gt;</th><th scope=col>&lt;dbl&gt;</th><th scope=col>&lt;dbl&gt;</th><th scope=col>&lt;dbl&gt;</th><th scope=col>&lt;dbl&gt;</th><th scope=col>&lt;dbl&gt;</th><th scope=col>&lt;dbl&gt;</th><th scope=col>&lt;int&gt;</th><th scope=col>&lt;dbl&gt;</th></tr>\n",
       "</thead>\n",
       "<tbody>\n",
       "\t<tr><td>ENSG00000170775.2 </td><td>chr7:124906309:G:A</td><td>0.01981117</td><td>-0.146932</td><td> -9.314730</td><td>2.00030e-05</td><td>0.0012598659</td><td>5.480822e-03</td><td>274</td><td>0.4073762</td></tr>\n",
       "\t<tr><td>ENSG00000139977.13</td><td>chr14:56930684:G:C</td><td>0.02262813</td><td> 0.296303</td><td> 14.949930</td><td>1.96893e-07</td><td>0.0003181285</td><td>8.702671e-05</td><td>442</td><td>0.1232539</td></tr>\n",
       "\t<tr><td>ENSG00000177889.9 </td><td>chr12:93525133:T:C</td><td>0.02837893</td><td>-0.128877</td><td> -6.848717</td><td>1.94135e-04</td><td>0.0833625063</td><td>1.182282e-01</td><td>609</td><td>0.7171626</td></tr>\n",
       "\t<tr><td>ENSG00000089737.15</td><td>chr14:93777791:C:T</td><td>0.02852408</td><td>-0.159482</td><td>-10.457702</td><td>7.86209e-05</td><td>0.1328885635</td><td>5.872981e-02</td><td>747</td><td>0.6045503</td></tr>\n",
       "\t<tr><td>ENSG00000156735.10</td><td>chr8:38025874:T:C </td><td>0.03020788</td><td>-0.216652</td><td>-10.109771</td><td>2.03436e-05</td><td>0.0083747820</td><td>6.774419e-03</td><td>333</td><td>0.4170153</td></tr>\n",
       "</tbody>\n",
       "</table>\n"
      ],
      "text/latex": [
       "A grouped\\_df: 5 × 10\n",
       "\\begin{tabular}{llllllllll}\n",
       " gene\\_id & variant\\_id & lfsr & slope & statistic & pval\\_nominal & fdr & BF & TESTS & eigenMT\\_BH\\\\\n",
       " <chr> & <chr> & <dbl> & <dbl> & <dbl> & <dbl> & <dbl> & <dbl> & <int> & <dbl>\\\\\n",
       "\\hline\n",
       "\t ENSG00000170775.2  & chr7:124906309:G:A & 0.01981117 & -0.146932 &  -9.314730 & 2.00030e-05 & 0.0012598659 & 5.480822e-03 & 274 & 0.4073762\\\\\n",
       "\t ENSG00000139977.13 & chr14:56930684:G:C & 0.02262813 &  0.296303 &  14.949930 & 1.96893e-07 & 0.0003181285 & 8.702671e-05 & 442 & 0.1232539\\\\\n",
       "\t ENSG00000177889.9  & chr12:93525133:T:C & 0.02837893 & -0.128877 &  -6.848717 & 1.94135e-04 & 0.0833625063 & 1.182282e-01 & 609 & 0.7171626\\\\\n",
       "\t ENSG00000089737.15 & chr14:93777791:C:T & 0.02852408 & -0.159482 & -10.457702 & 7.86209e-05 & 0.1328885635 & 5.872981e-02 & 747 & 0.6045503\\\\\n",
       "\t ENSG00000156735.10 & chr8:38025874:T:C  & 0.03020788 & -0.216652 & -10.109771 & 2.03436e-05 & 0.0083747820 & 6.774419e-03 & 333 & 0.4170153\\\\\n",
       "\\end{tabular}\n"
      ],
      "text/markdown": [
       "\n",
       "A grouped_df: 5 × 10\n",
       "\n",
       "| gene_id &lt;chr&gt; | variant_id &lt;chr&gt; | lfsr &lt;dbl&gt; | slope &lt;dbl&gt; | statistic &lt;dbl&gt; | pval_nominal &lt;dbl&gt; | fdr &lt;dbl&gt; | BF &lt;dbl&gt; | TESTS &lt;int&gt; | eigenMT_BH &lt;dbl&gt; |\n",
       "|---|---|---|---|---|---|---|---|---|---|\n",
       "| ENSG00000170775.2  | chr7:124906309:G:A | 0.01981117 | -0.146932 |  -9.314730 | 2.00030e-05 | 0.0012598659 | 5.480822e-03 | 274 | 0.4073762 |\n",
       "| ENSG00000139977.13 | chr14:56930684:G:C | 0.02262813 |  0.296303 |  14.949930 | 1.96893e-07 | 0.0003181285 | 8.702671e-05 | 442 | 0.1232539 |\n",
       "| ENSG00000177889.9  | chr12:93525133:T:C | 0.02837893 | -0.128877 |  -6.848717 | 1.94135e-04 | 0.0833625063 | 1.182282e-01 | 609 | 0.7171626 |\n",
       "| ENSG00000089737.15 | chr14:93777791:C:T | 0.02852408 | -0.159482 | -10.457702 | 7.86209e-05 | 0.1328885635 | 5.872981e-02 | 747 | 0.6045503 |\n",
       "| ENSG00000156735.10 | chr8:38025874:T:C  | 0.03020788 | -0.216652 | -10.109771 | 2.03436e-05 | 0.0083747820 | 6.774419e-03 | 333 | 0.4170153 |\n",
       "\n"
      ],
      "text/plain": [
       "  gene_id            variant_id         lfsr       slope     statistic \n",
       "1 ENSG00000170775.2  chr7:124906309:G:A 0.01981117 -0.146932  -9.314730\n",
       "2 ENSG00000139977.13 chr14:56930684:G:C 0.02262813  0.296303  14.949930\n",
       "3 ENSG00000177889.9  chr12:93525133:T:C 0.02837893 -0.128877  -6.848717\n",
       "4 ENSG00000089737.15 chr14:93777791:C:T 0.02852408 -0.159482 -10.457702\n",
       "5 ENSG00000156735.10 chr8:38025874:T:C  0.03020788 -0.216652 -10.109771\n",
       "  pval_nominal fdr          BF           TESTS eigenMT_BH\n",
       "1 2.00030e-05  0.0012598659 5.480822e-03 274   0.4073762 \n",
       "2 1.96893e-07  0.0003181285 8.702671e-05 442   0.1232539 \n",
       "3 1.94135e-04  0.0833625063 1.182282e-01 609   0.7171626 \n",
       "4 7.86209e-05  0.1328885635 5.872981e-02 747   0.6045503 \n",
       "5 2.03436e-05  0.0083747820 6.774419e-03 333   0.4170153 "
      ]
     },
     "metadata": {},
     "output_type": "display_data"
    }
   ],
   "source": [
    "eqtl_df = memTISSUE() %>% group_by(gene_id) %>% arrange(lfsr) %>% \n",
    "    slice(1) %>% inner_join(select(get_eqtl_df(), -variant_id), by=c(\"gene_id\")) %>% \n",
    "    arrange(lfsr) \n",
    "eqtl_df %>% head(5)"
   ]
  },
  {
   "cell_type": "markdown",
   "metadata": {},
   "source": [
    "### Top 5 eQTLs"
   ]
  },
  {
   "cell_type": "code",
   "execution_count": null,
   "metadata": {},
   "outputs": [],
   "source": [
    "dir.create(tolower(tissue))"
   ]
  },
  {
   "cell_type": "code",
   "execution_count": null,
   "metadata": {},
   "outputs": [],
   "source": [
    "for(num in 1:5){\n",
    "    variant_id = eqtl_df$variant_id[num]\n",
    "    gene_id = eqtl_df$gene_id[num]\n",
    "    #eqtl_annot = paste(\"eQTL q-value:\", signif(memEQTL()$BF[num], 2))\n",
    "    fn = paste0(tolower(tissue), \"/top_\",num,\"_interacting_eqtl\")\n",
    "    plot_simple_eqtl(fn, gene_id, variant_id)\n",
    "}"
   ]
  },
  {
   "cell_type": "markdown",
   "metadata": {},
   "source": [
    "## Session Info"
   ]
  },
  {
   "cell_type": "code",
   "execution_count": null,
   "metadata": {},
   "outputs": [],
   "source": [
    "Sys.time()\n",
    "proc.time()\n",
    "options(width = 120)\n",
    "sessioninfo::session_info()"
   ]
  }
 ],
 "metadata": {
  "kernelspec": {
   "display_name": "R",
   "language": "R",
   "name": "ir"
  },
  "language_info": {
   "codemirror_mode": "r",
   "file_extension": ".r",
   "mimetype": "text/x-r-source",
   "name": "R",
   "pygments_lexer": "r",
   "version": "4.0.3"
  }
 },
 "nbformat": 4,
 "nbformat_minor": 4
}
