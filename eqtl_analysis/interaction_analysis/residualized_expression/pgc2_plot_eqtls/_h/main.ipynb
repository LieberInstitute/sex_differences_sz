{
 "cells": [
  {
   "cell_type": "markdown",
   "metadata": {},
   "source": [
    "# eQTL boxplot\n",
    "\n",
    "This is script ported from python to fix unknown plotting error."
   ]
  },
  {
   "cell_type": "code",
   "execution_count": null,
   "metadata": {},
   "outputs": [],
   "source": [
    "suppressPackageStartupMessages({\n",
    "    library(tidyverse)\n",
    "    library(ggpubr)\n",
    "})"
   ]
  },
  {
   "cell_type": "markdown",
   "metadata": {},
   "source": [
    "## Functions"
   ]
  },
  {
   "cell_type": "code",
   "execution_count": null,
   "metadata": {},
   "outputs": [],
   "source": [
    "feature = \"genes\"\n",
    "tissue = \"Caudate\""
   ]
  },
  {
   "cell_type": "markdown",
   "metadata": {},
   "source": [
    "### Cached functions"
   ]
  },
  {
   "cell_type": "code",
   "execution_count": null,
   "metadata": {},
   "outputs": [],
   "source": [
    "get_residualized_df <- function(){\n",
    "    expr_file = \"../../_m/genes_residualized_expression.csv\"\n",
    "    return(data.table::fread(expr_file) %>% column_to_rownames(\"gene_id\"))\n",
    "}\n",
    "memRES <- memoise::memoise(get_residualized_df)\n",
    "\n",
    "get_biomart_df <- function(){\n",
    "    biomart = data.table::fread(\"../_h/biomart.csv\")\n",
    "}\n",
    "memMART <- memoise::memoise(get_biomart_df)\n",
    "\n",
    "get_pheno_df <- function(){\n",
    "    phenotype_file = paste0('/ceph/projects/v4_phase3_paper/inputs/',\n",
    "                            'phenotypes/_m/merged_phenotypes.csv')\n",
    "    return(data.table::fread(phenotype_file))\n",
    "}\n",
    "memPHENO <- memoise::memoise(get_pheno_df)\n",
    "\n",
    "get_tissue_eqtls <- function(){\n",
    "    mashr_file = paste0(\"../../../mashr/summary_table/_m/\",\n",
    "                       \"BrainSeq_sexGenotypes_4features_3regions_pgc2.txt.gz\")\n",
    "    return(data.table::fread(mashr_file) %>% \n",
    "           filter(Type == \"Gene\", Tissue == \"Caudate\") %>% \n",
    "           select(gene_id, variant_id, lfsr))\n",
    "}\n",
    "memTISSUE <- memoise::memoise(get_tissue_eqtls)\n",
    "\n",
    "get_eqtl_df <- function(){\n",
    "    fastqtl_file = paste0(\"../../../../../prep_eqtl_analysis/\",tolower(tissue),\n",
    "                         \"/genes/prepare_expression/fastqtl_nominal/\",\n",
    "                         \"multiple_corrections/_m/Brainseq_LIBD.txt.gz\")\n",
    "    eqtl_df = data.table::fread(fastqtl_file) %>% \n",
    "        filter(gene_id %in% unique(memTISSUE()$gene_id)) %>% \n",
    "        arrange(BF)\n",
    "    return(eqtl_df)\n",
    "}\n",
    "memEQTL <- memoise::memoise(get_eqtl_df)\n",
    "\n",
    "get_genotypes <- function(){\n",
    "    traw_file = paste0(\"/ceph/projects/brainseq/genotype/download/topmed/convert2plink/\",\n",
    "                      \"filter_maf_01/a_transpose/_m/LIBD_Brain_TopMed.traw\")\n",
    "    traw = data.table::fread(traw_file) %>% rename_with(~ gsub('\\\\_.*', '', .x))\n",
    "    return(traw)\n",
    "}\n",
    "memSNPs <- memoise::memoise(get_genotypes)\n",
    "\n",
    "get_snp_df <- function(variant_id, gene_id){\n",
    "    zz = get_geno_annot() %>% filter(SNP == variant_id)\n",
    "    xx = get_snps_df() %>% filter(SNP == variant_id) %>% \n",
    "        column_to_rownames(\"SNP\") %>% t %>% as.data.frame %>% \n",
    "        rownames_to_column(\"BrNum\") %>% mutate(COUNTED=zz$COUNTED, ALT=zz$ALT) %>% \n",
    "        rename(\"SNP\"=all_of(variant_id))\n",
    "    yy = memRES()[gene_id, ] %>% t %>% as.data.frame %>% \n",
    "        rownames_to_column(\"RNum\") %>% inner_join(memPHENO(), by=\"RNum\")\n",
    "    ## Annotated SNPs\n",
    "    letters = c()\n",
    "    for(ii in seq_along(xx$COUNTED)){\n",
    "        a0 = xx$COUNTED[ii]; a1 = xx$ALT[ii]; number = xx$SNP[ii]\n",
    "        letters <- append(letters, letter_snp(number, a0, a1))\n",
    "    }\n",
    "    xx = xx %>% mutate(LETTER=letters, ID=paste(SNP, LETTER, sep=\"\\n\"))\n",
    "    df = inner_join(xx, yy, by=\"BrNum\") %>% mutate_if(is.character, as.factor)\n",
    "    return(df)\n",
    "}\n",
    "memDF <- memoise::memoise(get_snp_df)"
   ]
  },
  {
   "cell_type": "markdown",
   "metadata": {},
   "source": [
    "### Simple functions"
   ]
  },
  {
   "cell_type": "code",
   "execution_count": null,
   "metadata": {},
   "outputs": [],
   "source": [
    "get_geno_annot <- function(){\n",
    "    return(memSNPs() %>% select(CHR, SNP, POS, COUNTED, ALT))\n",
    "}\n",
    "\n",
    "get_snps_df <- function(){\n",
    "    return(memSNPs() %>% select(\"SNP\", starts_with(\"Br\")))\n",
    "}\n",
    "\n",
    "letter_snp <- function(number, a0, a1){\n",
    "    if(is.na(number)){ return(NA) }\n",
    "    if( length(a0) == 1 & length(a1) == 1){\n",
    "        seps = \"\"; collapse=\"\"\n",
    "    } else {\n",
    "        seps = \" \"; collapse=NULL\n",
    "    }\n",
    "    return(paste(paste0(rep(a0, number), collapse = collapse), \n",
    "                 paste0(rep(a1, (2-number)), collapse = collapse), sep=seps))\n",
    "}\n",
    "\n",
    "save_ggplots <- function(fn, p, w, h){\n",
    "    for(ext in c('.pdf', '.png', '.svg')){\n",
    "        ggsave(paste0(fn, ext), plot=p, width=w, height=h)\n",
    "    }\n",
    "}\n",
    "\n",
    "get_gene_symbol <- function(gene_id){\n",
    "    ensemblID = gsub(\"\\\\..*\", \"\", gene_id)\n",
    "    geneid = memMART() %>% filter(ensembl_gene_id == gsub(\"\\\\..*\", \"\", gene_id))\n",
    "    if(dim(geneid)[1] == 0){\n",
    "        return(\"\")\n",
    "    } else {\n",
    "        return(geneid$external_gene_name)\n",
    "    }\n",
    "}\n",
    "\n",
    "plot_simple_eqtl <- function(fn, gene_id, variant_id, eqtl_annot){\n",
    "    bxp = memDF(variant_id, gene_id) %>%\n",
    "        ggboxplot(x=\"ID\", y=gene_id, fill=\"Sex\", color=\"Sex\", add=\"jitter\", \n",
    "                  facet.by=\"Region\", panel.labs.font=list(face='bold'),\n",
    "                  xlab=variant_id, ylab=\"Residualized Expression\", outlier.shape=NA,\n",
    "                  add.params=list(alpha=0.5), alpha=0.4, legend=\"bottom\", \n",
    "                  palette=\"npg\", ggtheme=theme_pubr(base_size=20, border=TRUE)) +\n",
    "        font(\"xy.title\", face=\"bold\") + \n",
    "        ggtitle(paste(get_gene_symbol(gene_id), gene_id, eqtl_annot, sep='\\n')) +\n",
    "        theme(plot.title = element_text(hjust = 0.5, face=\"bold\"))\n",
    "    print(bxp)\n",
    "    save_ggplots(fn, bxp, 10, 7)\n",
    "}"
   ]
  },
  {
   "cell_type": "markdown",
   "metadata": {},
   "source": [
    "### GWAS plots"
   ]
  },
  {
   "cell_type": "code",
   "execution_count": null,
   "metadata": {},
   "outputs": [],
   "source": [
    "get_gwas_snps <- function(){\n",
    "    gwas_snp_file = paste0('/ceph/projects/v4_phase3_paper/inputs/sz_gwas/pgc2_clozuk/',\n",
    "                          'map_phase3/_m/libd_hg38_pgc2sz_snps_p5e_minus8.tsv')\n",
    "    gwas_df = data.table::fread(gwas_snp_file) %>% arrange(P)\n",
    "    return(gwas_df)\n",
    "}\n",
    "memGWAS <- memoise::memoise(get_gwas_snps)\n",
    "\n",
    "get_gwas_snp <- function(variant){\n",
    "    return(memGWAS() %>% filter(our_snp_id == variant))\n",
    "}\n",
    "\n",
    "get_risk_allele <- function(variant){\n",
    "    gwas_snp = get_gwas_snp(variant)\n",
    "    if(gwas_snp$OR > 1){\n",
    "        ra = gwas_snp$A1\n",
    "    }else{\n",
    "        ra = gwas_snp$A2\n",
    "    }\n",
    "    return(ra)\n",
    "}\n",
    "\n",
    "get_eqtl_gwas_df <- function(){\n",
    "    return(memTISSUE() %>% inner_join(memGWAS(), by=c(\"variant_id\"=\"our_snp_id\")))\n",
    "}\n",
    "\n",
    "get_gwas_ordered_snp_df <- function(variant_id, gene_id, pgc2_a1_same_as_our_counted, OR){\n",
    "    df = memDF(variant_id, gene_id)\n",
    "    if(!pgc2_a1_same_as_our_counted){ # Fix bug with matching alleles!\n",
    "        if(OR < 1){ df = df %>% mutate(SNP = 2-SNP, ID=paste(SNP, LETTER, sep=\"\\n\")) }\n",
    "    } else {\n",
    "        if(OR > 1){ df = df %>% mutate(SNP = 2-SNP, ID=paste(SNP, LETTER, sep=\"\\n\")) }\n",
    "    }\n",
    "    return(df)\n",
    "}\n",
    "\n",
    "plot_gwas_eqtl <- function(fn, gene_id, variant_id, pgc2_a1_same_as_our_counted, OR, title){\n",
    "    dt = get_gwas_ordered_snp_df(variant_id, gene_id, pgc2_a1_same_as_our_counted, OR) \n",
    "    y0 = quantile(dt[[gene_id]], probs=c(0.05))[[1]] - 0.26\n",
    "    y1 = quantile(dt[[gene_id]], probs=c(0.95))[[1]] + 0.26\n",
    "    bxp = dt %>% mutate_if(is.character, as.factor) %>%\n",
    "        mutate(Region=gsub(\"HIPPO\", \"Hippocampus\", Region)) %>%\n",
    "        ggboxplot(x=\"ID\", y=gene_id, fill=\"Sex\", color=\"Sex\", add=\"jitter\", \n",
    "                  facet.by=\"Region\", panel.labs.font=list(face='bold'),\n",
    "                  xlab=variant_id, ylab=\"Residualized Expression\", outlier.shape=NA,\n",
    "                  add.params=list(alpha=0.5), alpha=0.4, legend=\"bottom\", lims=c(y0,y1),\n",
    "                  palette=\"npg\", ggtheme=theme_pubr(base_size=20, border=TRUE)) +\n",
    "        font(\"xy.title\", face=\"bold\") + ggtitle(title) +\n",
    "        theme(plot.title = element_text(hjust = 0.5, face=\"bold\"))\n",
    "    print(bxp)\n",
    "    save_ggplots(fn, bxp, 10, 8)\n",
    "}"
   ]
  },
  {
   "cell_type": "markdown",
   "metadata": {},
   "source": [
    "## Plot eQTL"
   ]
  },
  {
   "cell_type": "markdown",
   "metadata": {},
   "source": [
    "### Top 5 GWAS associated eQTLs"
   ]
  },
  {
   "cell_type": "code",
   "execution_count": null,
   "metadata": {},
   "outputs": [],
   "source": [
    "eqtl_gwas_df = get_eqtl_gwas_df() %>% group_by(gene_id) %>% arrange(lfsr) %>% \n",
    "    slice(1) %>% inner_join(select(get_eqtl_df(), -variant_id), by=c(\"gene_id\")) %>%\n",
    "    select(variant_id, gene_id, slope, BF, pgc2_a1_same_as_our_counted, OR, P)\n",
    "eqtl_gwas_df"
   ]
  },
  {
   "cell_type": "code",
   "execution_count": null,
   "metadata": {},
   "outputs": [],
   "source": [
    "for(num in seq_along(eqtl_gwas_df$gene_id)){\n",
    "    fn = paste(\"top\",num,\"interacting_eqtl_in_gwas_significant_snps\", sep=\"_\")\n",
    "    variant_id = eqtl_gwas_df$variant_id[num]\n",
    "    gene_id = eqtl_gwas_df$gene_id[num]\n",
    "    pgc2_a1_same_as_our_counted = eqtl_gwas_df$pgc2_a1_same_as_our_counted[num]\n",
    "    OR = eqtl_gwas_df$OR[num]\n",
    "    #eqtl_annot = paste(\"eQTL q-value:\", signif(eqtl_gwas_df$BF[num], 2))\n",
    "    gwas_annot = paste(\"SZ GWAS pvalue:\", signif(eqtl_gwas_df$P[num], 2))\n",
    "    risk_annot = paste(\"SZ risk allele:\", get_risk_allele(eqtl_gwas_df$variant_id[num]))\n",
    "    title = paste(get_gene_symbol(gene_id), gene_id, gwas_annot, risk_annot, sep='\\n')\n",
    "    plot_gwas_eqtl(fn, gene_id, variant_id, pgc2_a1_same_as_our_counted, OR, title)\n",
    "}"
   ]
  },
  {
   "cell_type": "markdown",
   "metadata": {},
   "source": [
    "## Session Info"
   ]
  },
  {
   "cell_type": "code",
   "execution_count": null,
   "metadata": {},
   "outputs": [],
   "source": [
    "Sys.time()\n",
    "proc.time()\n",
    "options(width = 120)\n",
    "sessioninfo::session_info()"
   ]
  }
 ],
 "metadata": {
  "kernelspec": {
   "display_name": "R",
   "language": "R",
   "name": "ir"
  },
  "language_info": {
   "codemirror_mode": "r",
   "file_extension": ".r",
   "mimetype": "text/x-r-source",
   "name": "R",
   "pygments_lexer": "r",
   "version": "4.0.3"
  }
 },
 "nbformat": 4,
 "nbformat_minor": 4
}
