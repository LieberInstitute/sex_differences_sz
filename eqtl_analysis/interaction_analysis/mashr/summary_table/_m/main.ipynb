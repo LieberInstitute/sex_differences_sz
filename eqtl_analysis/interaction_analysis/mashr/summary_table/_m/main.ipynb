{
 "cells": [
  {
   "cell_type": "markdown",
   "metadata": {},
   "source": [
    "# Summary of interacting cis-eQTL analysis"
   ]
  },
  {
   "cell_type": "code",
   "execution_count": 1,
   "metadata": {
    "execution": {
     "iopub.execute_input": "2021-09-13T16:50:33.997580Z",
     "iopub.status.busy": "2021-09-13T16:50:33.996175Z",
     "iopub.status.idle": "2021-09-13T16:50:34.308046Z",
     "shell.execute_reply": "2021-09-13T16:50:34.306759Z"
    }
   },
   "outputs": [],
   "source": [
    "import functools\n",
    "import pandas as pd"
   ]
  },
  {
   "cell_type": "code",
   "execution_count": null,
   "metadata": {},
   "outputs": [],
   "source": []
  },
  {
   "cell_type": "markdown",
   "metadata": {},
   "source": [
    "## Functions"
   ]
  },
  {
   "cell_type": "markdown",
   "metadata": {},
   "source": [
    "### Cached functions"
   ]
  },
  {
   "cell_type": "code",
   "execution_count": 2,
   "metadata": {
    "execution": {
     "iopub.execute_input": "2021-09-13T16:50:34.319147Z",
     "iopub.status.busy": "2021-09-13T16:50:34.317809Z",
     "iopub.status.idle": "2021-09-13T16:50:34.321436Z",
     "shell.execute_reply": "2021-09-13T16:50:34.320383Z"
    }
   },
   "outputs": [],
   "source": [
    "@functools.lru_cache()\n",
    "def get_mashr_eqtls(feature, tissue):\n",
    "    cols = [\"effect\", \"gene_id\", \"variant_id\", tissue]\n",
    "    df = pd.read_csv(\"../../_m/%s/lfsr_allpairs_3tissues.txt.gz\" % feature, \n",
    "                     sep='\\t').loc[:, cols]\n",
    "    return df[(df[tissue] < 0.05)]\n",
    "\n",
    "\n",
    "@functools.lru_cache()\n",
    "def annotate_eqtls(feature, tissue):\n",
    "    config = {\n",
    "        \"genes\": \"/ceph/projects/v4_phase3_paper/inputs/counts/text_files_counts/_m/%s/gene_annotation.tsv\" % tissue.lower(),\n",
    "        \"transcripts\": \"/ceph/projects/v4_phase3_paper/inputs/counts/text_files_counts/_m/%s/tx_annotation.tsv\" % tissue.lower(), \n",
    "        \"exons\": \"/ceph/projects/v4_phase3_paper/inputs/counts/text_files_counts/_m/%s/exon_annotation.tsv\" % tissue.lower(),\n",
    "        \"junctions\": \"/ceph/projects/v4_phase3_paper/inputs/counts/text_files_counts/_m/%s/jxn_annotation.tsv\" % tissue.lower(),\n",
    "    }\n",
    "    annot = pd.read_csv(config[feature], sep='\\t').loc[:, [\"names\", \"seqnames\", \"gencodeID\"]]\n",
    "    return get_mashr_eqtls(feature, tissue).merge(annot, left_on=\"gene_id\", \n",
    "                                                  right_on=\"names\").drop([\"names\"], axis=1)\n",
    "\n",
    "\n",
    "@functools.lru_cache()\n",
    "def load_pgc2():\n",
    "    pgc2_file = '/ceph/projects/v4_phase3_paper/inputs/sz_gwas/'+\\\n",
    "               'pgc2_clozuk/map_phase3/_m/libd_hg38_pgc2sz_snps_p5e_minus8.tsv'\n",
    "    return pd.read_csv(pgc2_file, sep='\\t', low_memory=False, index_col=0)\n",
    "\n",
    "\n",
    "@functools.lru_cache()\n",
    "def merge_pgc2_N_eqtl(feature, tissue):\n",
    "    return load_pgc2().merge(annotate_eqtls(feature, tissue), how='inner', \n",
    "                             left_on='our_snp_id', right_on='variant_id', \n",
    "                             suffixes=['_PGC2', '_eqtl'])"
   ]
  },
  {
   "cell_type": "markdown",
   "metadata": {},
   "source": [
    "### Simple functions"
   ]
  },
  {
   "cell_type": "code",
   "execution_count": 3,
   "metadata": {
    "execution": {
     "iopub.execute_input": "2021-09-13T16:50:34.331985Z",
     "iopub.status.busy": "2021-09-13T16:50:34.330622Z",
     "iopub.status.idle": "2021-09-13T16:50:34.334268Z",
     "shell.execute_reply": "2021-09-13T16:50:34.333202Z"
    }
   },
   "outputs": [],
   "source": [
    "def extract_features(tissue, fnc):\n",
    "    ## Extract significant eQTL using mashr\n",
    "    genes = fnc(\"genes\", tissue).rename(columns={tissue: \"lfsr\"})\n",
    "    trans = fnc(\"transcripts\", tissue).rename(columns={tissue: \"lfsr\"})\n",
    "    exons = fnc(\"exons\", tissue).rename(columns={tissue: \"lfsr\"})\n",
    "    juncs = fnc(\"junctions\", tissue).rename(columns={tissue: \"lfsr\"})\n",
    "    return genes, trans, exons, juncs\n",
    "\n",
    "\n",
    "def output_summary(tissue, fnc, variable):\n",
    "    ## Extract eQTL using mashr\n",
    "    genes, trans, exons, juncs = extract_features(tissue, fnc)\n",
    "    ## Total significant eQTLs\n",
    "    gg = len(set(genes[variable]))\n",
    "    tt = len(set(trans[variable]))\n",
    "    ee = len(set(exons[variable]))\n",
    "    jj = len(set(juncs[variable]))\n",
    "    print(\"\\neGene:\\t\\t%d\\neTranscript:\\t%d\\neExon:\\t\\t%d\\neJunction:\\t%d\" % \n",
    "          (gg, tt, ee, jj)) \n",
    "    \n",
    "    \n",
    "def get_eQTL_result_by_tissue(tissue, fnc):\n",
    "    genes, trans, exons, juncs = extract_features(tissue, fnc)\n",
    "    genes[\"Type\"] = \"Gene\"\n",
    "    trans[\"Type\"] = \"Transcript\"\n",
    "    exons[\"Type\"] = \"Exon\"\n",
    "    juncs[\"Type\"] = \"Junction\"\n",
    "    df = pd.concat([genes, trans, exons, juncs])\n",
    "    df[\"Type\"] = df.Type.astype(\"category\").cat.reorder_categories([\"Gene\", \"Transcript\", \"Exon\", \"Junction\"])\n",
    "    df[\"Tissue\"] = tissue\n",
    "    return df"
   ]
  },
  {
   "cell_type": "markdown",
   "metadata": {},
   "source": [
    "## Caudate"
   ]
  },
  {
   "cell_type": "markdown",
   "metadata": {},
   "source": [
    "### Summarize results mashr (local false sign rate < 0.05)"
   ]
  },
  {
   "cell_type": "code",
   "execution_count": 4,
   "metadata": {
    "execution": {
     "iopub.execute_input": "2021-09-13T16:50:34.340959Z",
     "iopub.status.busy": "2021-09-13T16:50:34.339699Z",
     "iopub.status.idle": "2021-09-13T17:20:35.454463Z",
     "shell.execute_reply": "2021-09-13T17:20:35.455513Z"
    }
   },
   "outputs": [
    {
     "name": "stdout",
     "output_type": "stream",
     "text": [
      "\n",
      "eGene:\t\t5785\n",
      "eTranscript:\t8525\n",
      "eExon:\t\t11364\n",
      "eJunction:\t2479\n",
      "\n",
      "eGene:\t\t950\n",
      "eTranscript:\t1381\n",
      "eExon:\t\t2098\n",
      "eJunction:\t502\n",
      "\n",
      "eGene:\t\t950\n",
      "eTranscript:\t1313\n",
      "eExon:\t\t1154\n",
      "eJunction:\t358\n"
     ]
    }
   ],
   "source": [
    "tissue = \"Caudate\"\n",
    "## significant eQTLs\n",
    "output_summary(tissue, annotate_eqtls, \"effect\")\n",
    "## significant eFeatures\n",
    "output_summary(tissue, annotate_eqtls, \"gene_id\")\n",
    "## significant eGenes\n",
    "output_summary(tissue, annotate_eqtls, \"gencodeID\")\n",
    "caudate = get_eQTL_result_by_tissue(tissue, annotate_eqtls)"
   ]
  },
  {
   "cell_type": "markdown",
   "metadata": {},
   "source": [
    "### Summarize results eQTL analysis overlapping with PGC2+CLOZUK SNPs"
   ]
  },
  {
   "cell_type": "code",
   "execution_count": 5,
   "metadata": {
    "execution": {
     "iopub.execute_input": "2021-09-13T17:20:35.462291Z",
     "iopub.status.busy": "2021-09-13T17:20:35.461072Z",
     "iopub.status.idle": "2021-09-13T17:20:35.677899Z",
     "shell.execute_reply": "2021-09-13T17:20:35.676706Z"
    }
   },
   "outputs": [
    {
     "name": "stdout",
     "output_type": "stream",
     "text": [
      "\n",
      "eGene:\t\t29\n",
      "eTranscript:\t29\n",
      "eExon:\t\t39\n",
      "eJunction:\t16\n",
      "\n",
      "eGene:\t\t3\n",
      "eTranscript:\t9\n",
      "eExon:\t\t7\n",
      "eJunction:\t10\n",
      "\n",
      "eGene:\t\t3\n",
      "eTranscript:\t9\n",
      "eExon:\t\t6\n",
      "eJunction:\t6\n"
     ]
    }
   ],
   "source": [
    "## significant eQTLs\n",
    "output_summary(tissue, merge_pgc2_N_eqtl, \"effect\")\n",
    "## significant eFeatures\n",
    "output_summary(tissue, merge_pgc2_N_eqtl, \"gene_id\")\n",
    "## significant eGenes\n",
    "output_summary(tissue, merge_pgc2_N_eqtl, \"gencodeID\")\n",
    "caudate_pgc2 = get_eQTL_result_by_tissue(tissue, merge_pgc2_N_eqtl)"
   ]
  },
  {
   "cell_type": "markdown",
   "metadata": {},
   "source": [
    "## DLPFC"
   ]
  },
  {
   "cell_type": "markdown",
   "metadata": {},
   "source": [
    "### Summarize results mashr (local false sign rate < 0.05)"
   ]
  },
  {
   "cell_type": "code",
   "execution_count": 6,
   "metadata": {
    "execution": {
     "iopub.execute_input": "2021-09-13T17:20:35.684353Z",
     "iopub.status.busy": "2021-09-13T17:20:35.683106Z",
     "iopub.status.idle": "2021-09-13T17:50:52.593940Z",
     "shell.execute_reply": "2021-09-13T17:50:52.594538Z"
    }
   },
   "outputs": [
    {
     "name": "stdout",
     "output_type": "stream",
     "text": [
      "\n",
      "eGene:\t\t5071\n",
      "eTranscript:\t5276\n",
      "eExon:\t\t11331\n",
      "eJunction:\t2437\n",
      "\n",
      "eGene:\t\t867\n",
      "eTranscript:\t982\n",
      "eExon:\t\t2085\n",
      "eJunction:\t489\n",
      "\n",
      "eGene:\t\t867\n",
      "eTranscript:\t940\n",
      "eExon:\t\t1137\n",
      "eJunction:\t342\n"
     ]
    }
   ],
   "source": [
    "tissue = \"DLPFC\"\n",
    "## significant eQTLs\n",
    "output_summary(tissue, annotate_eqtls, \"effect\")\n",
    "## significant eFeatures\n",
    "output_summary(tissue, annotate_eqtls, \"gene_id\")\n",
    "## significant eGenes\n",
    "output_summary(tissue, annotate_eqtls, \"gencodeID\")\n",
    "dlpfc = get_eQTL_result_by_tissue(tissue, annotate_eqtls)"
   ]
  },
  {
   "cell_type": "markdown",
   "metadata": {},
   "source": [
    "### Summarize results eQTL analysis overlapping with PGC2+CLOZUK SNPs"
   ]
  },
  {
   "cell_type": "code",
   "execution_count": 7,
   "metadata": {
    "execution": {
     "iopub.execute_input": "2021-09-13T17:50:52.598451Z",
     "iopub.status.busy": "2021-09-13T17:50:52.597818Z",
     "iopub.status.idle": "2021-09-13T17:50:52.678774Z",
     "shell.execute_reply": "2021-09-13T17:50:52.679513Z"
    }
   },
   "outputs": [
    {
     "name": "stdout",
     "output_type": "stream",
     "text": [
      "\n",
      "eGene:\t\t29\n",
      "eTranscript:\t25\n",
      "eExon:\t\t40\n",
      "eJunction:\t16\n",
      "\n",
      "eGene:\t\t3\n",
      "eTranscript:\t7\n",
      "eExon:\t\t8\n",
      "eJunction:\t10\n",
      "\n",
      "eGene:\t\t3\n",
      "eTranscript:\t7\n",
      "eExon:\t\t6\n",
      "eJunction:\t6\n"
     ]
    }
   ],
   "source": [
    "## significant eQTLs\n",
    "output_summary(tissue, merge_pgc2_N_eqtl, \"effect\")\n",
    "## significant eFeatures\n",
    "output_summary(tissue, merge_pgc2_N_eqtl, \"gene_id\")\n",
    "## significant eGenes\n",
    "output_summary(tissue, merge_pgc2_N_eqtl, \"gencodeID\")\n",
    "dlpfc_pgc2 = get_eQTL_result_by_tissue(tissue, merge_pgc2_N_eqtl)"
   ]
  },
  {
   "cell_type": "markdown",
   "metadata": {},
   "source": [
    "## Hippocampus"
   ]
  },
  {
   "cell_type": "markdown",
   "metadata": {},
   "source": [
    "### Summarize results mashr (local false sign rate < 0.05)"
   ]
  },
  {
   "cell_type": "code",
   "execution_count": 8,
   "metadata": {
    "execution": {
     "iopub.execute_input": "2021-09-13T17:50:52.685185Z",
     "iopub.status.busy": "2021-09-13T17:50:52.684445Z",
     "iopub.status.idle": "2021-09-13T18:23:56.906058Z",
     "shell.execute_reply": "2021-09-13T18:23:56.906694Z"
    }
   },
   "outputs": [
    {
     "name": "stdout",
     "output_type": "stream",
     "text": [
      "\n",
      "eGene:\t\t4821\n",
      "eTranscript:\t5290\n",
      "eExon:\t\t9867\n",
      "eJunction:\t2336\n",
      "\n",
      "eGene:\t\t830\n",
      "eTranscript:\t985\n",
      "eExon:\t\t1847\n",
      "eJunction:\t458\n",
      "\n",
      "eGene:\t\t830\n",
      "eTranscript:\t943\n",
      "eExon:\t\t1031\n",
      "eJunction:\t326\n"
     ]
    }
   ],
   "source": [
    "tissue = \"Hippocampus\"\n",
    "## significant eQTLs\n",
    "output_summary(tissue, annotate_eqtls, \"effect\")\n",
    "## significant eFeatures\n",
    "output_summary(tissue, annotate_eqtls, \"gene_id\")\n",
    "## significant eGenes\n",
    "output_summary(tissue, annotate_eqtls, \"gencodeID\")\n",
    "hippo = get_eQTL_result_by_tissue(tissue, annotate_eqtls)"
   ]
  },
  {
   "cell_type": "markdown",
   "metadata": {},
   "source": [
    "### Summarize results eQTL analysis overlapping with PGC2+CLOZUK SNPs"
   ]
  },
  {
   "cell_type": "code",
   "execution_count": 9,
   "metadata": {
    "execution": {
     "iopub.execute_input": "2021-09-13T18:23:56.919529Z",
     "iopub.status.busy": "2021-09-13T18:23:56.918816Z",
     "iopub.status.idle": "2021-09-13T18:23:56.992600Z",
     "shell.execute_reply": "2021-09-13T18:23:56.991888Z"
    }
   },
   "outputs": [
    {
     "name": "stdout",
     "output_type": "stream",
     "text": [
      "\n",
      "eGene:\t\t29\n",
      "eTranscript:\t25\n",
      "eExon:\t\t39\n",
      "eJunction:\t15\n",
      "\n",
      "eGene:\t\t3\n",
      "eTranscript:\t7\n",
      "eExon:\t\t7\n",
      "eJunction:\t10\n",
      "\n",
      "eGene:\t\t3\n",
      "eTranscript:\t7\n",
      "eExon:\t\t6\n",
      "eJunction:\t6\n"
     ]
    }
   ],
   "source": [
    "## significant eQTLs\n",
    "output_summary(tissue, merge_pgc2_N_eqtl, \"effect\")\n",
    "## significant eFeatures\n",
    "output_summary(tissue, merge_pgc2_N_eqtl, \"gene_id\")\n",
    "## significant eGenes\n",
    "output_summary(tissue, merge_pgc2_N_eqtl, \"gencodeID\")\n",
    "hippo_pgc2 = get_eQTL_result_by_tissue(tissue, merge_pgc2_N_eqtl)"
   ]
  },
  {
   "cell_type": "markdown",
   "metadata": {},
   "source": [
    "## Save significant results"
   ]
  },
  {
   "cell_type": "markdown",
   "metadata": {},
   "source": [
    "### All associations"
   ]
  },
  {
   "cell_type": "code",
   "execution_count": 10,
   "metadata": {
    "execution": {
     "iopub.execute_input": "2021-09-13T18:23:56.998514Z",
     "iopub.status.busy": "2021-09-13T18:23:56.997882Z",
     "iopub.status.idle": "2021-09-13T18:23:58.023534Z",
     "shell.execute_reply": "2021-09-13T18:23:58.024063Z"
    }
   },
   "outputs": [],
   "source": [
    "pd.concat([caudate, dlpfc, hippo])\\\n",
    "  .sort_values([\"Tissue\", \"Type\", \"gene_id\", \"lfsr\"])\\\n",
    "  .loc[:, [\"Tissue\", \"gene_id\", \"gencodeID\", \"variant_id\", \"seqnames\", \"lfsr\", \"Type\"]]\\\n",
    "  .to_csv(\"BrainSeq_sexGenotypes_4features_3regions.txt.gz\", sep='\\t', index=False)"
   ]
  },
  {
   "cell_type": "markdown",
   "metadata": {},
   "source": [
    "### PGC2+CLOZUK associations"
   ]
  },
  {
   "cell_type": "code",
   "execution_count": 11,
   "metadata": {
    "execution": {
     "iopub.execute_input": "2021-09-13T18:23:58.030787Z",
     "iopub.status.busy": "2021-09-13T18:23:58.030101Z",
     "iopub.status.idle": "2021-09-13T18:23:58.059298Z",
     "shell.execute_reply": "2021-09-13T18:23:58.058720Z"
    }
   },
   "outputs": [],
   "source": [
    "pd.concat([caudate_pgc2, dlpfc_pgc2, hippo_pgc2])\\\n",
    "  .loc[:, [\"Tissue\", \"gene_id\", \"gencodeID\", \"variant_id\", \"rsid\", \"seqnames\", \"lfsr\", \"A1\", \n",
    "           \"A2\", \"OR\", \"SE\", \"P\", \"pgc2_a1_same_as_our_counted\", \"is_index_snp\", \"Type\"]]\\\n",
    "  .sort_values([\"Tissue\", \"Type\", \"gene_id\", \"lfsr\", \"P\"])\\\n",
    "  .to_csv(\"BrainSeq_sexGenotypes_4features_3regions_pgc2.txt.gz\", sep='\\t', index=False)"
   ]
  },
  {
   "cell_type": "code",
   "execution_count": 12,
   "metadata": {
    "execution": {
     "iopub.execute_input": "2021-09-13T18:23:58.066163Z",
     "iopub.status.busy": "2021-09-13T18:23:58.065533Z",
     "iopub.status.idle": "2021-09-13T18:23:58.080716Z",
     "shell.execute_reply": "2021-09-13T18:23:58.081270Z"
    }
   },
   "outputs": [
    {
     "data": {
      "text/plain": [
       "gene_id\n",
       "ENSG00000182600.9     1\n",
       "ENSG00000227262.3    26\n",
       "ENSG00000244731.7     2\n",
       "dtype: int64"
      ]
     },
     "execution_count": 1,
     "metadata": {},
     "output_type": "execute_result"
    }
   ],
   "source": [
    "caudate_pgc2.loc[(caudate_pgc2[\"Type\"] == \"Gene\"), [\"gene_id\", \"variant_id\"]].groupby(\"gene_id\").size()"
   ]
  },
  {
   "cell_type": "code",
   "execution_count": 13,
   "metadata": {
    "execution": {
     "iopub.execute_input": "2021-09-13T18:23:58.090682Z",
     "iopub.status.busy": "2021-09-13T18:23:58.090017Z",
     "iopub.status.idle": "2021-09-13T18:23:58.093140Z",
     "shell.execute_reply": "2021-09-13T18:23:58.093680Z"
    }
   },
   "outputs": [
    {
     "data": {
      "text/plain": [
       "gene_id\n",
       "ENSG00000182600.9     1\n",
       "ENSG00000227262.3    26\n",
       "ENSG00000244731.7     2\n",
       "dtype: int64"
      ]
     },
     "execution_count": 1,
     "metadata": {},
     "output_type": "execute_result"
    }
   ],
   "source": [
    "dlpfc_pgc2.loc[(dlpfc_pgc2[\"Type\"] == \"Gene\"), [\"gene_id\", \"variant_id\"]].groupby(\"gene_id\").size()"
   ]
  },
  {
   "cell_type": "code",
   "execution_count": 14,
   "metadata": {
    "execution": {
     "iopub.execute_input": "2021-09-13T18:23:58.103392Z",
     "iopub.status.busy": "2021-09-13T18:23:58.102384Z",
     "iopub.status.idle": "2021-09-13T18:23:58.105260Z",
     "shell.execute_reply": "2021-09-13T18:23:58.105795Z"
    }
   },
   "outputs": [
    {
     "data": {
      "text/plain": [
       "gene_id\n",
       "ENSG00000182600.9     1\n",
       "ENSG00000227262.3    26\n",
       "ENSG00000244731.7     2\n",
       "dtype: int64"
      ]
     },
     "execution_count": 1,
     "metadata": {},
     "output_type": "execute_result"
    }
   ],
   "source": [
    "hippo_pgc2.loc[(hippo_pgc2[\"Type\"] == \"Gene\"), [\"gene_id\", \"variant_id\"]].groupby(\"gene_id\").size()"
   ]
  },
  {
   "cell_type": "code",
   "execution_count": null,
   "metadata": {},
   "outputs": [],
   "source": []
  }
 ],
 "metadata": {
  "kernelspec": {
   "display_name": "Python 3",
   "language": "python",
   "name": "python3"
  },
  "language_info": {
   "codemirror_mode": {
    "name": "ipython",
    "version": 3
   },
   "file_extension": ".py",
   "mimetype": "text/x-python",
   "name": "python",
   "nbconvert_exporter": "python",
   "pygments_lexer": "ipython3",
   "version": "3.9.1"
  }
 },
 "nbformat": 4,
 "nbformat_minor": 4
}
