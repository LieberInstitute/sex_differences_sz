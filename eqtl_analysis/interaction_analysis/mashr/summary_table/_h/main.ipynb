{
 "cells": [
  {
   "cell_type": "markdown",
   "metadata": {},
   "source": [
    "# Summary of interacting cis-eQTL analysis"
   ]
  },
  {
   "cell_type": "code",
   "execution_count": null,
   "metadata": {},
   "outputs": [],
   "source": [
    "import functools\n",
    "import pandas as pd"
   ]
  },
  {
   "cell_type": "code",
   "execution_count": null,
   "metadata": {},
   "outputs": [],
   "source": []
  },
  {
   "cell_type": "markdown",
   "metadata": {},
   "source": [
    "## Functions"
   ]
  },
  {
   "cell_type": "markdown",
   "metadata": {},
   "source": [
    "### Cached functions"
   ]
  },
  {
   "cell_type": "code",
   "execution_count": null,
   "metadata": {},
   "outputs": [],
   "source": [
    "@functools.lru_cache()\n",
    "def get_mashr_eqtls(feature, tissue):\n",
    "    cols = [\"effect\", \"gene_id\", \"variant_id\", tissue]\n",
    "    df = pd.read_csv(\"../../_m/%s/lfsr_allpairs_3tissues.txt.gz\" % feature, \n",
    "                     sep='\\t').loc[:, cols]\n",
    "    return df[(df[tissue] < 0.05)]\n",
    "\n",
    "\n",
    "@functools.lru_cache()\n",
    "def annotate_eqtls(feature, tissue):\n",
    "    config = {\n",
    "        \"genes\": \"/ceph/projects/v4_phase3_paper/inputs/counts/text_files_counts/_m/%s/gene_annotation.tsv\" % tissue.lower(),\n",
    "        \"transcripts\": \"/ceph/projects/v4_phase3_paper/inputs/counts/text_files_counts/_m/%s/tx_annotation.tsv\" % tissue.lower(), \n",
    "        \"exons\": \"/ceph/projects/v4_phase3_paper/inputs/counts/text_files_counts/_m/%s/exon_annotation.tsv\" % tissue.lower(),\n",
    "        \"junctions\": \"/ceph/projects/v4_phase3_paper/inputs/counts/text_files_counts/_m/%s/jxn_annotation.tsv\" % tissue.lower(),\n",
    "    }\n",
    "    annot = pd.read_csv(config[feature], sep='\\t').loc[:, [\"names\", \"seqnames\", \"gencodeID\"]]\n",
    "    return get_mashr_eqtls(feature, tissue).merge(annot, left_on=\"gene_id\", \n",
    "                                                  right_on=\"names\").drop([\"names\"], axis=1)\n",
    "\n",
    "\n",
    "@functools.lru_cache()\n",
    "def load_pgc2():\n",
    "    pgc2_file = '/ceph/projects/v4_phase3_paper/inputs/sz_gwas/'+\\\n",
    "               'pgc2_clozuk/map_phase3/_m/libd_hg38_pgc2sz_snps_p5e_minus8.tsv'\n",
    "    return pd.read_csv(pgc2_file, sep='\\t', low_memory=False, index_col=0)\n",
    "\n",
    "\n",
    "@functools.lru_cache()\n",
    "def merge_pgc2_N_eqtl(feature, tissue):\n",
    "    return load_pgc2().merge(annotate_eqtls(feature, tissue), how='inner', \n",
    "                             left_on='our_snp_id', right_on='variant_id', \n",
    "                             suffixes=['_PGC2', '_eqtl'])"
   ]
  },
  {
   "cell_type": "markdown",
   "metadata": {},
   "source": [
    "### Simple functions"
   ]
  },
  {
   "cell_type": "code",
   "execution_count": null,
   "metadata": {},
   "outputs": [],
   "source": [
    "def extract_features(tissue, fnc):\n",
    "    ## Extract significant eQTL using mashr\n",
    "    genes = fnc(\"genes\", tissue).rename(columns={tissue: \"lfsr\"})\n",
    "    trans = fnc(\"transcripts\", tissue).rename(columns={tissue: \"lfsr\"})\n",
    "    exons = fnc(\"exons\", tissue).rename(columns={tissue: \"lfsr\"})\n",
    "    juncs = fnc(\"junctions\", tissue).rename(columns={tissue: \"lfsr\"})\n",
    "    return genes, trans, exons, juncs\n",
    "\n",
    "\n",
    "def output_summary(tissue, fnc, variable):\n",
    "    ## Extract eQTL using mashr\n",
    "    genes, trans, exons, juncs = extract_features(tissue, fnc)\n",
    "    ## Total significant eQTLs\n",
    "    gg = len(set(genes[variable]))\n",
    "    tt = len(set(trans[variable]))\n",
    "    ee = len(set(exons[variable]))\n",
    "    jj = len(set(juncs[variable]))\n",
    "    print(\"\\neGene:\\t\\t%d\\neTranscript:\\t%d\\neExon:\\t\\t%d\\neJunction:\\t%d\" % \n",
    "          (gg, tt, ee, jj)) \n",
    "    \n",
    "    \n",
    "def get_eQTL_result_by_tissue(tissue, fnc):\n",
    "    genes, trans, exons, juncs = extract_features(tissue, fnc)\n",
    "    genes[\"Type\"] = \"Gene\"\n",
    "    trans[\"Type\"] = \"Transcript\"\n",
    "    exons[\"Type\"] = \"Exon\"\n",
    "    juncs[\"Type\"] = \"Junction\"\n",
    "    df = pd.concat([genes, trans, exons, juncs])\n",
    "    df[\"Type\"] = df.Type.astype(\"category\").cat.reorder_categories([\"Gene\", \"Transcript\", \"Exon\", \"Junction\"])\n",
    "    df[\"Tissue\"] = tissue\n",
    "    return df"
   ]
  },
  {
   "cell_type": "markdown",
   "metadata": {},
   "source": [
    "## Caudate"
   ]
  },
  {
   "cell_type": "markdown",
   "metadata": {},
   "source": [
    "### Summarize results mashr (local false sign rate < 0.05)"
   ]
  },
  {
   "cell_type": "code",
   "execution_count": null,
   "metadata": {},
   "outputs": [],
   "source": [
    "tissue = \"Caudate\"\n",
    "## significant eQTLs\n",
    "output_summary(tissue, annotate_eqtls, \"effect\")\n",
    "## significant eFeatures\n",
    "output_summary(tissue, annotate_eqtls, \"gene_id\")\n",
    "## significant eGenes\n",
    "output_summary(tissue, annotate_eqtls, \"gencodeID\")\n",
    "caudate = get_eQTL_result_by_tissue(tissue, annotate_eqtls)"
   ]
  },
  {
   "cell_type": "markdown",
   "metadata": {},
   "source": [
    "### Summarize results eQTL analysis overlapping with PGC2+CLOZUK SNPs"
   ]
  },
  {
   "cell_type": "code",
   "execution_count": null,
   "metadata": {},
   "outputs": [],
   "source": [
    "## significant eQTLs\n",
    "output_summary(tissue, merge_pgc2_N_eqtl, \"effect\")\n",
    "## significant eFeatures\n",
    "output_summary(tissue, merge_pgc2_N_eqtl, \"gene_id\")\n",
    "## significant eGenes\n",
    "output_summary(tissue, merge_pgc2_N_eqtl, \"gencodeID\")\n",
    "caudate_pgc2 = get_eQTL_result_by_tissue(tissue, merge_pgc2_N_eqtl)"
   ]
  },
  {
   "cell_type": "markdown",
   "metadata": {},
   "source": [
    "## DLPFC"
   ]
  },
  {
   "cell_type": "markdown",
   "metadata": {},
   "source": [
    "### Summarize results mashr (local false sign rate < 0.05)"
   ]
  },
  {
   "cell_type": "code",
   "execution_count": null,
   "metadata": {},
   "outputs": [],
   "source": [
    "tissue = \"DLPFC\"\n",
    "## significant eQTLs\n",
    "output_summary(tissue, annotate_eqtls, \"effect\")\n",
    "## significant eFeatures\n",
    "output_summary(tissue, annotate_eqtls, \"gene_id\")\n",
    "## significant eGenes\n",
    "output_summary(tissue, annotate_eqtls, \"gencodeID\")\n",
    "dlpfc = get_eQTL_result_by_tissue(tissue, annotate_eqtls)"
   ]
  },
  {
   "cell_type": "markdown",
   "metadata": {},
   "source": [
    "### Summarize results eQTL analysis overlapping with PGC2+CLOZUK SNPs"
   ]
  },
  {
   "cell_type": "code",
   "execution_count": null,
   "metadata": {},
   "outputs": [],
   "source": [
    "## significant eQTLs\n",
    "output_summary(tissue, merge_pgc2_N_eqtl, \"effect\")\n",
    "## significant eFeatures\n",
    "output_summary(tissue, merge_pgc2_N_eqtl, \"gene_id\")\n",
    "## significant eGenes\n",
    "output_summary(tissue, merge_pgc2_N_eqtl, \"gencodeID\")\n",
    "dlpfc_pgc2 = get_eQTL_result_by_tissue(tissue, merge_pgc2_N_eqtl)"
   ]
  },
  {
   "cell_type": "markdown",
   "metadata": {},
   "source": [
    "## Hippocampus"
   ]
  },
  {
   "cell_type": "markdown",
   "metadata": {},
   "source": [
    "### Summarize results mashr (local false sign rate < 0.05)"
   ]
  },
  {
   "cell_type": "code",
   "execution_count": null,
   "metadata": {},
   "outputs": [],
   "source": [
    "tissue = \"Hippocampus\"\n",
    "## significant eQTLs\n",
    "output_summary(tissue, annotate_eqtls, \"effect\")\n",
    "## significant eFeatures\n",
    "output_summary(tissue, annotate_eqtls, \"gene_id\")\n",
    "## significant eGenes\n",
    "output_summary(tissue, annotate_eqtls, \"gencodeID\")\n",
    "hippo = get_eQTL_result_by_tissue(tissue, annotate_eqtls)"
   ]
  },
  {
   "cell_type": "markdown",
   "metadata": {},
   "source": [
    "### Summarize results eQTL analysis overlapping with PGC2+CLOZUK SNPs"
   ]
  },
  {
   "cell_type": "code",
   "execution_count": null,
   "metadata": {},
   "outputs": [],
   "source": [
    "## significant eQTLs\n",
    "output_summary(tissue, merge_pgc2_N_eqtl, \"effect\")\n",
    "## significant eFeatures\n",
    "output_summary(tissue, merge_pgc2_N_eqtl, \"gene_id\")\n",
    "## significant eGenes\n",
    "output_summary(tissue, merge_pgc2_N_eqtl, \"gencodeID\")\n",
    "hippo_pgc2 = get_eQTL_result_by_tissue(tissue, merge_pgc2_N_eqtl)"
   ]
  },
  {
   "cell_type": "markdown",
   "metadata": {},
   "source": [
    "## Save significant results"
   ]
  },
  {
   "cell_type": "markdown",
   "metadata": {},
   "source": [
    "### All associations"
   ]
  },
  {
   "cell_type": "code",
   "execution_count": null,
   "metadata": {},
   "outputs": [],
   "source": [
    "pd.concat([caudate, dlpfc, hippo])\\\n",
    "  .sort_values([\"Tissue\", \"Type\", \"gene_id\", \"lfsr\"])\\\n",
    "  .loc[:, [\"Tissue\", \"gene_id\", \"gencodeID\", \"variant_id\", \"seqnames\", \"lfsr\", \"Type\"]]\\\n",
    "  .to_csv(\"BrainSeq_sexGenotypes_4features_3regions.txt.gz\", sep='\\t', index=False)"
   ]
  },
  {
   "cell_type": "markdown",
   "metadata": {},
   "source": [
    "### PGC2+CLOZUK associations"
   ]
  },
  {
   "cell_type": "code",
   "execution_count": null,
   "metadata": {},
   "outputs": [],
   "source": [
    "pd.concat([caudate_pgc2, dlpfc_pgc2, hippo_pgc2])\\\n",
    "  .loc[:, [\"Tissue\", \"gene_id\", \"gencodeID\", \"variant_id\", \"rsid\", \"seqnames\", \"lfsr\", \"A1\", \n",
    "           \"A2\", \"OR\", \"SE\", \"P\", \"pgc2_a1_same_as_our_counted\", \"is_index_snp\", \"Type\"]]\\\n",
    "  .sort_values([\"Tissue\", \"Type\", \"gene_id\", \"lfsr\", \"P\"])\\\n",
    "  .to_csv(\"BrainSeq_sexGenotypes_4features_3regions_pgc2.txt.gz\", sep='\\t', index=False)"
   ]
  },
  {
   "cell_type": "code",
   "execution_count": null,
   "metadata": {},
   "outputs": [],
   "source": [
    "caudate_pgc2.loc[(caudate_pgc2[\"Type\"] == \"Gene\"), [\"gene_id\", \"variant_id\"]].groupby(\"gene_id\").size()"
   ]
  },
  {
   "cell_type": "code",
   "execution_count": null,
   "metadata": {},
   "outputs": [],
   "source": [
    "dlpfc_pgc2.loc[(dlpfc_pgc2[\"Type\"] == \"Gene\"), [\"gene_id\", \"variant_id\"]].groupby(\"gene_id\").size()"
   ]
  },
  {
   "cell_type": "code",
   "execution_count": null,
   "metadata": {},
   "outputs": [],
   "source": [
    "hippo_pgc2.loc[(hippo_pgc2[\"Type\"] == \"Gene\"), [\"gene_id\", \"variant_id\"]].groupby(\"gene_id\").size()"
   ]
  },
  {
   "cell_type": "code",
   "execution_count": null,
   "metadata": {},
   "outputs": [],
   "source": []
  }
 ],
 "metadata": {
  "kernelspec": {
   "display_name": "Python 3",
   "language": "python",
   "name": "python3"
  },
  "language_info": {
   "codemirror_mode": {
    "name": "ipython",
    "version": 3
   },
   "file_extension": ".py",
   "mimetype": "text/x-python",
   "name": "python",
   "nbconvert_exporter": "python",
   "pygments_lexer": "ipython3",
   "version": "3.9.1"
  }
 },
 "nbformat": 4,
 "nbformat_minor": 4
}
