{
 "cells": [
  {
   "cell_type": "markdown",
   "metadata": {},
   "source": [
    "# Visualize GO analysis"
   ]
  },
  {
   "cell_type": "code",
   "execution_count": null,
   "metadata": {},
   "outputs": [],
   "source": [
    "import numpy as np\n",
    "import pandas as pd"
   ]
  },
  {
   "cell_type": "code",
   "execution_count": null,
   "metadata": {},
   "outputs": [],
   "source": [
    "def get_top_HPA(fn, label):\n",
    "    df = pd.read_csv(fn, sep='\\t')\n",
    "    df = df[~(df[\"source\"].isin([\"TF\", \"GO:CC\"]))].sort_values('p_value').head(10)\n",
    "    df['Log10'] = -np.log10(df['p_value'])\n",
    "    df['Tissue'] = label\n",
    "    return df\n",
    "\n",
    "\n",
    "def get_top_enrichment(fn, label):\n",
    "    df = pd.read_csv(fn, sep='\\t')\n",
    "    df = df[(df[\"source\"].isin([\"KEGG\", \"GO:BP\"]))].sort_values('p_value').head(10)\n",
    "    df['Log10'] = -np.log10(df['p_value'])\n",
    "    df['Tissue'] = label\n",
    "    return df"
   ]
  },
  {
   "cell_type": "code",
   "execution_count": null,
   "metadata": {},
   "outputs": [],
   "source": [
    "config = {\n",
    "    'Caudate': '../../_m/caudate_functional_enrichment.txt',\n",
    "    'DLPFC': '../../_m/dlpfc_functional_enrichment.txt',\n",
    "    'Hippocampus': '../../_m/hippocampus_functional_enrichment.txt',\n",
    "}\n",
    "\n",
    "df1 = pd.DataFrame(); df2 = pd.DataFrame()\n",
    "for tissue in ['Caudate', 'DLPFC', 'Hippocampus']:\n",
    "    df1 = pd.concat([df1, get_top_HPA(config[tissue], tissue)], axis=0)\n",
    "    df2 = pd.concat([df2, get_top_enrichment(config[tissue], tissue)], axis=0)"
   ]
  },
  {
   "cell_type": "markdown",
   "metadata": {},
   "source": [
    "## Plot "
   ]
  },
  {
   "cell_type": "code",
   "execution_count": null,
   "metadata": {},
   "outputs": [],
   "source": [
    "%load_ext rpy2.ipython"
   ]
  },
  {
   "cell_type": "code",
   "execution_count": null,
   "metadata": {},
   "outputs": [],
   "source": [
    "%%R\n",
    "library(ggplot2)\n",
    "library(tidyverse)\n",
    "\n",
    "save_plot <- function(p, fn, w, h){\n",
    "    for(ext in c('.svg', '.png', '.pdf')){\n",
    "        ggsave(file=paste0(fn,ext), plot=p, width=w, height=h)\n",
    "    }\n",
    "}\n",
    "\n",
    "plot_GO <- function(df){\n",
    "    cbPalette <- ggpubr::get_palette(palette = \"npg\", 3)\n",
    "    gg1 = df %>%\n",
    "        ggplot(aes(x=Log10, y=term_name, color=Tissue)) + \n",
    "        geom_point(shape=18, alpha=0.8, size=4) + labs(y='', x='-Log10 (p adjust)') + \n",
    "        theme_bw() + \n",
    "        scale_colour_manual(name=\"Tissue\", values=cbPalette, \n",
    "                            labels=c(\"Caudate\", \"DLPFC\", \"Hippocampus\")) +\n",
    "        geom_vline(xintercept = -log10(0.05), linetype = \"dotted\") +\n",
    "        theme(axis.text=element_text(size=14),\n",
    "              axis.title=element_text(size=18, face='bold'),\n",
    "              strip.text=element_text(size=18, face='bold'))\n",
    "    return(gg1)\n",
    "}"
   ]
  },
  {
   "cell_type": "code",
   "execution_count": null,
   "metadata": {},
   "outputs": [],
   "source": [
    "%%R -i df1\n",
    "gg1 = plot_GO(df1)\n",
    "print(gg1)\n",
    "save_plot(gg1, \"HPA_top10_stacked\", 8, 6)"
   ]
  },
  {
   "cell_type": "code",
   "execution_count": null,
   "metadata": {},
   "outputs": [],
   "source": [
    "%%R -i df2\n",
    "gg2 = plot_GO(df2)\n",
    "print(gg2)\n",
    "save_plot(gg2, \"KEGG_BP_top10_stacked\", 9, 6)"
   ]
  },
  {
   "cell_type": "code",
   "execution_count": null,
   "metadata": {},
   "outputs": [],
   "source": []
  }
 ],
 "metadata": {
  "kernelspec": {
   "display_name": "Python 3",
   "language": "python",
   "name": "python3"
  },
  "language_info": {
   "codemirror_mode": {
    "name": "ipython",
    "version": 3
   },
   "file_extension": ".py",
   "mimetype": "text/x-python",
   "name": "python",
   "nbconvert_exporter": "python",
   "pygments_lexer": "ipython3",
   "version": "3.9.1"
  }
 },
 "nbformat": 4,
 "nbformat_minor": 4
}
