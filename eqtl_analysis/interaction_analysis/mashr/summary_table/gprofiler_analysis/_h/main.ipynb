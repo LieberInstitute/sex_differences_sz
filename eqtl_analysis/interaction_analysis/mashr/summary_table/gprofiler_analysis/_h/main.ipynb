{
 "cells": [
  {
   "cell_type": "markdown",
   "metadata": {},
   "source": [
    "# Functional enrichment analysis with g:Profiler"
   ]
  },
  {
   "cell_type": "code",
   "execution_count": null,
   "metadata": {},
   "outputs": [],
   "source": [
    "library(tidyverse)\n",
    "library(gprofiler2)"
   ]
  },
  {
   "cell_type": "code",
   "execution_count": null,
   "metadata": {},
   "outputs": [],
   "source": [
    "save_ggplots <- function(fn, p, w, h){\n",
    "    for(ext in c('.pdf', '.png', '.svg')){\n",
    "        ggsave(paste0(fn, ext), plot=p, width=w, height=h)\n",
    "    }\n",
    "}"
   ]
  },
  {
   "cell_type": "markdown",
   "metadata": {},
   "source": [
    "## Load eQTL results"
   ]
  },
  {
   "cell_type": "code",
   "execution_count": null,
   "metadata": {},
   "outputs": [],
   "source": [
    "dt = data.table::fread(\"../../_m/BrainSeq_sexGenotypes_4features_3regions.txt.gz\") %>%\n",
    "    filter(Type == \"Gene\") %>% mutate(ensemblID=gsub(\"\\\\..*\", \"\", gene_id))\n",
    "\n",
    "caudate = dt %>% filter(Tissue == \"Caudate\") %>% distinct(gene_id, .keep_all=TRUE)\n",
    "dlpfc = dt %>% filter(Tissue == \"DLPFC\") %>% distinct(gene_id, .keep_all=TRUE)\n",
    "hippo = dt %>% filter(Tissue == \"Hippocampus\") %>% distinct(gene_id, .keep_all=TRUE)\n",
    "\n",
    "shared = intersect(intersect(caudate$ensemblID, dlpfc$ensemblID), hippo$ensemblID)"
   ]
  },
  {
   "cell_type": "markdown",
   "metadata": {},
   "source": [
    "## Calculated enrichment and visual plot"
   ]
  },
  {
   "cell_type": "markdown",
   "metadata": {},
   "source": [
    "### Caudate"
   ]
  },
  {
   "cell_type": "code",
   "execution_count": null,
   "metadata": {},
   "outputs": [],
   "source": [
    "gostres <- gost(query=caudate$ensemblID, organism=\"hsapiens\")\n",
    "gostres$result %>% \n",
    "    data.table::fwrite(file = \"caudate_functional_enrichment.txt\", sep=\"\\t\")\n",
    "\n",
    "p <- gostplot(gostres, capped = FALSE, interactive = FALSE)\n",
    "print(p)\n",
    "save_ggplots(\"caudate_manhattan\", p, 9, 5)"
   ]
  },
  {
   "cell_type": "code",
   "execution_count": null,
   "metadata": {},
   "outputs": [],
   "source": [
    "gostres$result %>% arrange(p_value) %>% filter(source == \"HPA\") %>% head"
   ]
  },
  {
   "cell_type": "code",
   "execution_count": null,
   "metadata": {},
   "outputs": [],
   "source": [
    "gostres$result %>% arrange(p_value) %>% filter(source %in% c(\"KEGG\", \"REAC\", \"HP\", \"CORUM\"))"
   ]
  },
  {
   "cell_type": "markdown",
   "metadata": {},
   "source": [
    "### DLPFC"
   ]
  },
  {
   "cell_type": "code",
   "execution_count": null,
   "metadata": {},
   "outputs": [],
   "source": [
    "gostres <- gost(query=dlpfc$ensemblID, organism=\"hsapiens\")\n",
    "gostres$result %>% \n",
    "    data.table::fwrite(file = \"dlpfc_functional_enrichment.txt\", sep=\"\\t\")\n",
    "\n",
    "p <- gostplot(gostres, capped = FALSE, interactive = FALSE)\n",
    "print(p)\n",
    "save_ggplots(\"dlpfc_manhattan\", p, 9, 5)"
   ]
  },
  {
   "cell_type": "code",
   "execution_count": null,
   "metadata": {},
   "outputs": [],
   "source": [
    "gostres$result %>% arrange(p_value) %>% filter(source == \"HPA\") %>% head"
   ]
  },
  {
   "cell_type": "code",
   "execution_count": null,
   "metadata": {},
   "outputs": [],
   "source": [
    "gostres$result %>% arrange(p_value) %>% filter(source %in% c(\"KEGG\", \"REAC\", \"HP\", \"CORUM\"))"
   ]
  },
  {
   "cell_type": "markdown",
   "metadata": {},
   "source": [
    "### Hippocampus"
   ]
  },
  {
   "cell_type": "code",
   "execution_count": null,
   "metadata": {},
   "outputs": [],
   "source": [
    "gostres <- gost(query=hippo$ensemblID, organism=\"hsapiens\")\n",
    "gostres$result %>% \n",
    "    data.table::fwrite(file = \"hippocampus_functional_enrichment.txt\", sep=\"\\t\")\n",
    "\n",
    "p <- gostplot(gostres, capped = FALSE, interactive = FALSE)\n",
    "print(p)\n",
    "save_ggplots(\"hippocampus_manhattan\", p, 9, 5)"
   ]
  },
  {
   "cell_type": "code",
   "execution_count": null,
   "metadata": {},
   "outputs": [],
   "source": [
    "gostres$result %>% arrange(p_value) %>% filter(source == \"HPA\") %>% head"
   ]
  },
  {
   "cell_type": "code",
   "execution_count": null,
   "metadata": {},
   "outputs": [],
   "source": [
    "gostres$result %>% arrange(p_value) %>% filter(source %in% c(\"KEGG\", \"REAC\", \"HP\", \"CORUM\"))"
   ]
  },
  {
   "cell_type": "markdown",
   "metadata": {},
   "source": [
    "### Shared si-eQTL (eGenes)"
   ]
  },
  {
   "cell_type": "code",
   "execution_count": null,
   "metadata": {},
   "outputs": [],
   "source": [
    "gostres <- gost(query=shared, organism=\"hsapiens\")\n",
    "gostres$result %>% \n",
    "    data.table::fwrite(file = \"shared_functional_enrichment.txt\", sep=\"\\t\")\n",
    "\n",
    "p <- gostplot(gostres, capped = FALSE, interactive = FALSE)\n",
    "print(p)\n",
    "save_ggplots(\"shared_manhattan\", p, 9, 5)"
   ]
  },
  {
   "cell_type": "code",
   "execution_count": null,
   "metadata": {},
   "outputs": [],
   "source": [
    "gostres$result %>% arrange(p_value) %>% filter(source == \"HPA\") %>% head"
   ]
  },
  {
   "cell_type": "code",
   "execution_count": null,
   "metadata": {},
   "outputs": [],
   "source": [
    "gostres$result %>% arrange(p_value) %>% filter(source %in% c(\"KEGG\", \"REAC\", \"HP\", \"CORUM\"))"
   ]
  },
  {
   "cell_type": "markdown",
   "metadata": {},
   "source": [
    "## Session Info"
   ]
  },
  {
   "cell_type": "code",
   "execution_count": null,
   "metadata": {},
   "outputs": [],
   "source": [
    "Sys.time()\n",
    "proc.time()\n",
    "options(width = 120)\n",
    "sessioninfo::session_info()"
   ]
  }
 ],
 "metadata": {
  "kernelspec": {
   "display_name": "R",
   "language": "R",
   "name": "ir"
  },
  "language_info": {
   "codemirror_mode": "r",
   "file_extension": ".r",
   "mimetype": "text/x-r-source",
   "name": "R",
   "pygments_lexer": "r",
   "version": "4.0.3"
  }
 },
 "nbformat": 4,
 "nbformat_minor": 4
}
