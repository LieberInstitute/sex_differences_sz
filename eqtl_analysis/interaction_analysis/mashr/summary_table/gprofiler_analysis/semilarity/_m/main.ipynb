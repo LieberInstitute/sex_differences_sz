{
 "cells": [
  {
   "cell_type": "markdown",
   "metadata": {},
   "source": [
    "# Gene Ontology Semantic Similarity Analysis"
   ]
  },
  {
   "cell_type": "code",
   "execution_count": 1,
   "metadata": {
    "execution": {
     "iopub.execute_input": "2021-09-15T13:17:26.283298Z",
     "iopub.status.busy": "2021-09-15T13:17:26.279773Z",
     "iopub.status.idle": "2021-09-15T13:17:29.315498Z",
     "shell.execute_reply": "2021-09-15T13:17:29.313810Z"
    }
   },
   "outputs": [],
   "source": [
    "suppressPackageStartupMessages({\n",
    "    library(dplyr)\n",
    "    library(ggplot2)\n",
    "    library(GOSemSim)\n",
    "    library(org.Hs.eg.db)\n",
    "})"
   ]
  },
  {
   "cell_type": "markdown",
   "metadata": {},
   "source": [
    "## Functions"
   ]
  },
  {
   "cell_type": "code",
   "execution_count": 2,
   "metadata": {
    "execution": {
     "iopub.execute_input": "2021-09-15T13:17:29.351884Z",
     "iopub.status.busy": "2021-09-15T13:17:29.320919Z",
     "iopub.status.idle": "2021-09-15T13:17:29.367833Z",
     "shell.execute_reply": "2021-09-15T13:17:29.366449Z"
    }
   },
   "outputs": [],
   "source": [
    "get_semData <- function(ont){\n",
    "    return(godata('org.Hs.eg.db', ont=ont))\n",
    "}\n",
    "\n",
    "save_img <- function(image, fn, w=7, h=7){\n",
    "    for(ext in c(\".pdf\", \".png\")){\n",
    "        ggsave(file=paste0(fn, ext), plot=image, width=w, height=h)\n",
    "    }\n",
    "}   \n",
    "\n",
    "GO_semantic_similarity <- function(ont){\n",
    "    hsGO = get_semData(ont)\n",
    "    tissues = c(\"Caudate\", \"DLPFC\", \"Hippocampus\")\n",
    "    t1 = c(); t2 = c(); ss = c()\n",
    "    for(tissue1 in c(\"Caudate\", \"DLPFC\")){\n",
    "        fn1 = paste0(\"../../_m/\", tolower(tissue1), \"_functional_enrichment.txt\")\n",
    "        for(tissue2 in c(\"DLPFC\", \"Hippocampus\")){\n",
    "            fn2 = paste0(\"../../_m/\", tolower(tissue2), \"_functional_enrichment.txt\")\n",
    "            if(tissue1 != tissue2 & file.exists(fn1) & file.exists(fn2)){\n",
    "                df1 = data.table::fread(fn1) %>% filter(source == paste0(\"GO:\", ont))\n",
    "                df2 = data.table::fread(fn2) %>% filter(source == paste0(\"GO:\", ont))\n",
    "                sim = mgoSim(df1$term_id, df2$term_id, semData=hsGO, \n",
    "                             measure=\"Wang\", combine=\"BMA\")\n",
    "                t1 = c(t1, tissue1); t2 = c(t2, tissue2);ss = c(ss, sim)\n",
    "            }\n",
    "        }\n",
    "    }\n",
    "    return(data.frame(\"Tissue_1\"=t1, \"Tissue_2\"=t2, \"Semantic_Similarity\"=ss, \"Ont\"=ont))\n",
    "}"
   ]
  },
  {
   "cell_type": "markdown",
   "metadata": {},
   "source": [
    "## Semantic similarity analysis"
   ]
  },
  {
   "cell_type": "code",
   "execution_count": 3,
   "metadata": {
    "execution": {
     "iopub.execute_input": "2021-09-15T13:17:29.374481Z",
     "iopub.status.busy": "2021-09-15T13:17:29.373069Z",
     "iopub.status.idle": "2021-09-15T13:18:08.736063Z",
     "shell.execute_reply": "2021-09-15T13:18:08.734466Z"
    }
   },
   "outputs": [
    {
     "name": "stderr",
     "output_type": "stream",
     "text": [
      "preparing gene to GO mapping data...\n",
      "\n",
      "preparing IC data...\n",
      "\n",
      "preparing gene to GO mapping data...\n",
      "\n",
      "preparing IC data...\n",
      "\n",
      "preparing gene to GO mapping data...\n",
      "\n",
      "preparing IC data...\n",
      "\n"
     ]
    },
    {
     "data": {
      "text/html": [
       "<table class=\"dataframe\">\n",
       "<caption>A data.frame: 6 × 4</caption>\n",
       "<thead>\n",
       "\t<tr><th></th><th scope=col>Tissue_1</th><th scope=col>Tissue_2</th><th scope=col>Semantic_Similarity</th><th scope=col>Ont</th></tr>\n",
       "\t<tr><th></th><th scope=col>&lt;fct&gt;</th><th scope=col>&lt;fct&gt;</th><th scope=col>&lt;dbl&gt;</th><th scope=col>&lt;fct&gt;</th></tr>\n",
       "</thead>\n",
       "<tbody>\n",
       "\t<tr><th scope=row>1</th><td>Caudate</td><td>DLPFC      </td><td>0.971</td><td>MF</td></tr>\n",
       "\t<tr><th scope=row>2</th><td>Caudate</td><td>Hippocampus</td><td>0.946</td><td>MF</td></tr>\n",
       "\t<tr><th scope=row>3</th><td>DLPFC  </td><td>Hippocampus</td><td>0.976</td><td>MF</td></tr>\n",
       "\t<tr><th scope=row>4</th><td>Caudate</td><td>DLPFC      </td><td>0.919</td><td>BP</td></tr>\n",
       "\t<tr><th scope=row>5</th><td>Caudate</td><td>Hippocampus</td><td>0.873</td><td>BP</td></tr>\n",
       "\t<tr><th scope=row>6</th><td>DLPFC  </td><td>Hippocampus</td><td>0.957</td><td>BP</td></tr>\n",
       "</tbody>\n",
       "</table>\n"
      ],
      "text/latex": [
       "A data.frame: 6 × 4\n",
       "\\begin{tabular}{r|llll}\n",
       "  & Tissue\\_1 & Tissue\\_2 & Semantic\\_Similarity & Ont\\\\\n",
       "  & <fct> & <fct> & <dbl> & <fct>\\\\\n",
       "\\hline\n",
       "\t1 & Caudate & DLPFC       & 0.971 & MF\\\\\n",
       "\t2 & Caudate & Hippocampus & 0.946 & MF\\\\\n",
       "\t3 & DLPFC   & Hippocampus & 0.976 & MF\\\\\n",
       "\t4 & Caudate & DLPFC       & 0.919 & BP\\\\\n",
       "\t5 & Caudate & Hippocampus & 0.873 & BP\\\\\n",
       "\t6 & DLPFC   & Hippocampus & 0.957 & BP\\\\\n",
       "\\end{tabular}\n"
      ],
      "text/markdown": [
       "\n",
       "A data.frame: 6 × 4\n",
       "\n",
       "| <!--/--> | Tissue_1 &lt;fct&gt; | Tissue_2 &lt;fct&gt; | Semantic_Similarity &lt;dbl&gt; | Ont &lt;fct&gt; |\n",
       "|---|---|---|---|---|\n",
       "| 1 | Caudate | DLPFC       | 0.971 | MF |\n",
       "| 2 | Caudate | Hippocampus | 0.946 | MF |\n",
       "| 3 | DLPFC   | Hippocampus | 0.976 | MF |\n",
       "| 4 | Caudate | DLPFC       | 0.919 | BP |\n",
       "| 5 | Caudate | Hippocampus | 0.873 | BP |\n",
       "| 6 | DLPFC   | Hippocampus | 0.957 | BP |\n",
       "\n"
      ],
      "text/plain": [
       "  Tissue_1 Tissue_2    Semantic_Similarity Ont\n",
       "1 Caudate  DLPFC       0.971               MF \n",
       "2 Caudate  Hippocampus 0.946               MF \n",
       "3 DLPFC    Hippocampus 0.976               MF \n",
       "4 Caudate  DLPFC       0.919               BP \n",
       "5 Caudate  Hippocampus 0.873               BP \n",
       "6 DLPFC    Hippocampus 0.957               BP "
      ]
     },
     "metadata": {},
     "output_type": "display_data"
    }
   ],
   "source": [
    "datalist = list()\n",
    "for(ont in c(\"MF\", \"BP\", \"CC\")){\n",
    "    datalist[[ont]] = GO_semantic_similarity(ont)\n",
    "}\n",
    "dt = bind_rows(datalist) %>% mutate_if(is.character, as.factor) \n",
    "dt %>% data.table::fwrite(\"go_semantic_similarity.tsv\", sep='\\t')\n",
    "dt %>% head"
   ]
  },
  {
   "cell_type": "markdown",
   "metadata": {},
   "source": [
    "## Plot semantic similarity"
   ]
  },
  {
   "cell_type": "code",
   "execution_count": 4,
   "metadata": {
    "execution": {
     "iopub.execute_input": "2021-09-15T13:18:08.743069Z",
     "iopub.status.busy": "2021-09-15T13:18:08.741587Z",
     "iopub.status.idle": "2021-09-15T13:18:10.537161Z",
     "shell.execute_reply": "2021-09-15T13:18:10.535345Z"
    }
   },
   "outputs": [
    {
     "data": {
      "image/png": "[encoded data removed]",
      "text/plain": [
       "plot without title"
      ]
     },
     "metadata": {
      "image/png": {
       "height": 420,
       "width": 420
      }
     },
     "output_type": "display_data"
    }
   ],
   "source": [
    "tile_plot <- dt %>% #tidyr::drop_na() %>% \n",
    "    ggplot(aes(x=Tissue_2, y=Tissue_1, fill=Semantic_Similarity, \n",
    "               label=format(round(Semantic_Similarity, 2)))) + \n",
    "    geom_tile(color=\"grey\") + ggfittext::geom_fit_text(contrast=TRUE) + \n",
    "    viridis::scale_color_viridis(option=\"magma\") + facet_wrap(\"~Ont\") +\n",
    "    viridis::scale_fill_viridis(name=\"Semantic Similarity\", limits=c(0.5,1),\n",
    "                                direction=1, option=\"magma\") +\n",
    "    labs(x=\"\", y=\"\") + ggpubr::theme_pubr(base_size=15, border=TRUE) +\n",
    "    scale_y_discrete(limits = rev(levels(dt$Tissue_1))) + \n",
    "    theme(axis.text.x=element_text(angle = 45, hjust=1), \n",
    "          strip.text=element_text(face=\"bold\"), \n",
    "          legend.key.width=unit(2, 'cm'))\n",
    "save_img(tile_plot, \"GO_semantic_similarity\", w=8, h=5)\n",
    "tile_plot"
   ]
  },
  {
   "cell_type": "markdown",
   "metadata": {},
   "source": [
    "## Reproducibility Information"
   ]
  },
  {
   "cell_type": "code",
   "execution_count": 5,
   "metadata": {
    "execution": {
     "iopub.execute_input": "2021-09-15T13:18:10.543455Z",
     "iopub.status.busy": "2021-09-15T13:18:10.542103Z",
     "iopub.status.idle": "2021-09-15T13:18:10.897269Z",
     "shell.execute_reply": "2021-09-15T13:18:10.895946Z"
    }
   },
   "outputs": [
    {
     "data": {
      "text/plain": [
       "[1] \"2021-09-15 09:18:10 EDT\""
      ]
     },
     "metadata": {},
     "output_type": "display_data"
    },
    {
     "data": {
      "text/plain": [
       "   user  system elapsed \n",
       " 44.051   0.730  45.135 "
      ]
     },
     "metadata": {},
     "output_type": "display_data"
    },
    {
     "data": {
      "text/plain": [
       "─ Session info ───────────────────────────────────────────────────────────────────────────────────────────────────────\n",
       " setting  value                       \n",
       " version  R version 4.0.3 (2020-10-10)\n",
       " os       Arch Linux                  \n",
       " system   x86_64, linux-gnu           \n",
       " ui       X11                         \n",
       " language (EN)                        \n",
       " collate  en_US.UTF-8                 \n",
       " ctype    en_US.UTF-8                 \n",
       " tz       America/New_York            \n",
       " date     2021-09-15                  \n",
       "\n",
       "─ Packages ───────────────────────────────────────────────────────────────────────────────────────────────────────────\n",
       " package       * version  date       lib source        \n",
       " abind           1.4-5    2016-07-21 [1] CRAN (R 4.0.2)\n",
       " AnnotationDbi * 1.52.0   2020-10-27 [1] Bioconductor  \n",
       " assertthat      0.2.1    2019-03-21 [1] CRAN (R 4.0.2)\n",
       " backports       1.2.1    2020-12-09 [1] CRAN (R 4.0.2)\n",
       " base64enc       0.1-3    2015-07-28 [1] CRAN (R 4.0.2)\n",
       " Biobase       * 2.50.0   2020-10-27 [1] Bioconductor  \n",
       " BiocGenerics  * 0.36.1   2021-04-16 [1] Bioconductor  \n",
       " bit             4.0.4    2020-08-04 [1] CRAN (R 4.0.2)\n",
       " bit64           4.0.5    2020-08-30 [1] CRAN (R 4.0.2)\n",
       " blob            1.2.2    2021-07-23 [1] CRAN (R 4.0.3)\n",
       " broom           0.7.9    2021-07-27 [1] CRAN (R 4.0.3)\n",
       " cachem          1.0.6    2021-08-19 [1] CRAN (R 4.0.3)\n",
       " Cairo           1.5-12.2 2020-07-07 [1] CRAN (R 4.0.2)\n",
       " car             3.0-11   2021-06-27 [1] CRAN (R 4.0.3)\n",
       " carData         3.0-4    2020-05-22 [1] CRAN (R 4.0.2)\n",
       " cellranger      1.1.0    2016-07-27 [1] CRAN (R 4.0.2)\n",
       " cli             3.0.1    2021-07-17 [1] CRAN (R 4.0.3)\n",
       " colorspace      2.0-2    2021-06-24 [1] CRAN (R 4.0.3)\n",
       " crayon          1.4.1    2021-02-08 [1] CRAN (R 4.0.3)\n",
       " curl            4.3.2    2021-06-23 [1] CRAN (R 4.0.3)\n",
       " data.table      1.14.0   2021-02-21 [1] CRAN (R 4.0.3)\n",
       " DBI             1.1.1    2021-01-15 [1] CRAN (R 4.0.2)\n",
       " digest          0.6.27   2020-10-24 [1] CRAN (R 4.0.2)\n",
       " dplyr         * 1.0.7    2021-06-18 [1] CRAN (R 4.0.3)\n",
       " ellipsis        0.3.2    2021-04-29 [1] CRAN (R 4.0.3)\n",
       " evaluate        0.14     2019-05-28 [1] CRAN (R 4.0.2)\n",
       " fansi           0.5.0    2021-05-25 [1] CRAN (R 4.0.3)\n",
       " farver          2.1.0    2021-02-28 [1] CRAN (R 4.0.3)\n",
       " fastmap         1.1.0    2021-01-25 [1] CRAN (R 4.0.2)\n",
       " forcats         0.5.1    2021-01-27 [1] CRAN (R 4.0.2)\n",
       " foreign         0.8-80   2020-05-24 [2] CRAN (R 4.0.3)\n",
       " generics        0.1.0    2020-10-31 [1] CRAN (R 4.0.2)\n",
       " ggfittext       0.9.1    2021-01-30 [1] CRAN (R 4.0.3)\n",
       " ggplot2       * 3.3.5    2021-06-25 [1] CRAN (R 4.0.3)\n",
       " ggpubr          0.4.0    2020-06-27 [1] CRAN (R 4.0.2)\n",
       " ggsignif        0.6.2    2021-06-14 [1] CRAN (R 4.0.3)\n",
       " glue            1.4.2    2020-08-27 [1] CRAN (R 4.0.2)\n",
       " GO.db           3.12.1   2021-04-08 [1] Bioconductor  \n",
       " GOSemSim      * 2.16.1   2020-10-29 [1] Bioconductor  \n",
       " gridExtra       2.3      2017-09-09 [1] CRAN (R 4.0.2)\n",
       " gtable          0.3.0    2019-03-25 [1] CRAN (R 4.0.2)\n",
       " haven           2.4.3    2021-08-04 [1] CRAN (R 4.0.3)\n",
       " hms             1.1.0    2021-05-17 [1] CRAN (R 4.0.3)\n",
       " htmltools       0.5.2    2021-08-25 [1] CRAN (R 4.0.3)\n",
       " IRanges       * 2.24.1   2020-12-12 [1] Bioconductor  \n",
       " IRdisplay       1.0      2021-01-20 [1] CRAN (R 4.0.2)\n",
       " IRkernel        1.2      2021-05-11 [1] CRAN (R 4.0.3)\n",
       " jsonlite        1.7.2    2020-12-09 [1] CRAN (R 4.0.2)\n",
       " labeling        0.4.2    2020-10-20 [1] CRAN (R 4.0.2)\n",
       " lifecycle       1.0.0    2021-02-15 [1] CRAN (R 4.0.3)\n",
       " magrittr        2.0.1    2020-11-17 [1] CRAN (R 4.0.2)\n",
       " memoise         2.0.0    2021-01-26 [1] CRAN (R 4.0.2)\n",
       " munsell         0.5.0    2018-06-12 [1] CRAN (R 4.0.2)\n",
       " openxlsx        4.2.4    2021-06-16 [1] CRAN (R 4.0.3)\n",
       " org.Hs.eg.db  * 3.12.0   2021-02-24 [1] Bioconductor  \n",
       " pbdZMQ          0.3-5    2021-02-10 [1] CRAN (R 4.0.3)\n",
       " pillar          1.6.2    2021-07-29 [1] CRAN (R 4.0.3)\n",
       " pkgconfig       2.0.3    2019-09-22 [1] CRAN (R 4.0.2)\n",
       " purrr           0.3.4    2020-04-17 [1] CRAN (R 4.0.2)\n",
       " R6              2.5.1    2021-08-19 [1] CRAN (R 4.0.3)\n",
       " Rcpp            1.0.7    2021-07-07 [1] CRAN (R 4.0.3)\n",
       " readxl          1.3.1    2019-03-13 [1] CRAN (R 4.0.2)\n",
       " repr            1.1.3    2021-01-21 [1] CRAN (R 4.0.2)\n",
       " rio             0.5.27   2021-06-21 [1] CRAN (R 4.0.3)\n",
       " rlang           0.4.11   2021-04-30 [1] CRAN (R 4.0.3)\n",
       " RSQLite         2.2.8    2021-08-21 [1] CRAN (R 4.0.3)\n",
       " rstatix         0.7.0    2021-02-13 [1] CRAN (R 4.0.3)\n",
       " S4Vectors     * 0.28.1   2020-12-09 [1] Bioconductor  \n",
       " scales          1.1.1    2020-05-11 [1] CRAN (R 4.0.2)\n",
       " sessioninfo     1.1.1    2018-11-05 [1] CRAN (R 4.0.2)\n",
       " shades          1.4.0    2019-08-02 [1] CRAN (R 4.0.3)\n",
       " stringi         1.7.4    2021-08-25 [1] CRAN (R 4.0.3)\n",
       " tibble          3.1.4    2021-08-25 [1] CRAN (R 4.0.3)\n",
       " tidyr           1.1.3    2021-03-03 [1] CRAN (R 4.0.3)\n",
       " tidyselect      1.1.1    2021-04-30 [1] CRAN (R 4.0.3)\n",
       " utf8            1.2.2    2021-07-24 [1] CRAN (R 4.0.3)\n",
       " uuid            0.1-4    2020-02-26 [1] CRAN (R 4.0.2)\n",
       " vctrs           0.3.8    2021-04-29 [1] CRAN (R 4.0.3)\n",
       " viridis         0.6.1    2021-05-11 [1] CRAN (R 4.0.3)\n",
       " viridisLite     0.4.0    2021-04-13 [1] CRAN (R 4.0.3)\n",
       " withr           2.4.2    2021-04-18 [1] CRAN (R 4.0.3)\n",
       " zip             2.2.0    2021-05-31 [1] CRAN (R 4.0.3)\n",
       "\n",
       "[1] /home/jbenja13/R/x86_64-pc-linux-gnu-library/4.0\n",
       "[2] /usr/lib/R/library"
      ]
     },
     "metadata": {},
     "output_type": "display_data"
    }
   ],
   "source": [
    "Sys.time()\n",
    "proc.time()\n",
    "options(width = 120)\n",
    "sessioninfo::session_info()"
   ]
  },
  {
   "cell_type": "code",
   "execution_count": null,
   "metadata": {},
   "outputs": [],
   "source": []
  }
 ],
 "metadata": {
  "kernelspec": {
   "display_name": "R",
   "language": "R",
   "name": "ir"
  },
  "language_info": {
   "codemirror_mode": "r",
   "file_extension": ".r",
   "mimetype": "text/x-r-source",
   "name": "R",
   "pygments_lexer": "r",
   "version": "4.0.3"
  }
 },
 "nbformat": 4,
 "nbformat_minor": 4
}
