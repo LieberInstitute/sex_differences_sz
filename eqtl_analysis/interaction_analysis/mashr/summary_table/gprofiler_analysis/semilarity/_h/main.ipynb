{
 "cells": [
  {
   "cell_type": "markdown",
   "metadata": {},
   "source": [
    "# Gene Ontology Semantic Similarity Analysis"
   ]
  },
  {
   "cell_type": "code",
   "execution_count": null,
   "metadata": {},
   "outputs": [],
   "source": [
    "suppressPackageStartupMessages({\n",
    "    library(dplyr)\n",
    "    library(ggplot2)\n",
    "    library(GOSemSim)\n",
    "    library(org.Hs.eg.db)\n",
    "})"
   ]
  },
  {
   "cell_type": "markdown",
   "metadata": {},
   "source": [
    "## Functions"
   ]
  },
  {
   "cell_type": "code",
   "execution_count": null,
   "metadata": {},
   "outputs": [],
   "source": [
    "get_semData <- function(ont){\n",
    "    return(godata('org.Hs.eg.db', ont=ont))\n",
    "}\n",
    "\n",
    "save_img <- function(image, fn, w=7, h=7){\n",
    "    for(ext in c(\".pdf\", \".png\")){\n",
    "        ggsave(file=paste0(fn, ext), plot=image, width=w, height=h)\n",
    "    }\n",
    "}   \n",
    "\n",
    "GO_semantic_similarity <- function(ont){\n",
    "    hsGO = get_semData(ont)\n",
    "    tissues = c(\"Caudate\", \"DLPFC\", \"Hippocampus\")\n",
    "    t1 = c(); t2 = c(); ss = c()\n",
    "    for(tissue1 in c(\"Caudate\", \"DLPFC\")){\n",
    "        fn1 = paste0(\"../../_m/\", tolower(tissue1), \"_functional_enrichment.txt\")\n",
    "        for(tissue2 in c(\"DLPFC\", \"Hippocampus\")){\n",
    "            fn2 = paste0(\"../../_m/\", tolower(tissue2), \"_functional_enrichment.txt\")\n",
    "            if(tissue1 != tissue2 & file.exists(fn1) & file.exists(fn2)){\n",
    "                df1 = data.table::fread(fn1) %>% filter(source == paste0(\"GO:\", ont))\n",
    "                df2 = data.table::fread(fn2) %>% filter(source == paste0(\"GO:\", ont))\n",
    "                sim = mgoSim(df1$term_id, df2$term_id, semData=hsGO, \n",
    "                             measure=\"Wang\", combine=\"BMA\")\n",
    "                t1 = c(t1, tissue1); t2 = c(t2, tissue2);ss = c(ss, sim)\n",
    "            }\n",
    "        }\n",
    "    }\n",
    "    return(data.frame(\"Tissue_1\"=t1, \"Tissue_2\"=t2, \"Semantic_Similarity\"=ss, \"Ont\"=ont))\n",
    "}"
   ]
  },
  {
   "cell_type": "markdown",
   "metadata": {},
   "source": [
    "## Semantic similarity analysis"
   ]
  },
  {
   "cell_type": "code",
   "execution_count": null,
   "metadata": {},
   "outputs": [],
   "source": [
    "datalist = list()\n",
    "for(ont in c(\"MF\", \"BP\", \"CC\")){\n",
    "    datalist[[ont]] = GO_semantic_similarity(ont)\n",
    "}\n",
    "dt = bind_rows(datalist) %>% mutate_if(is.character, as.factor) \n",
    "dt %>% data.table::fwrite(\"go_semantic_similarity.tsv\", sep='\\t')\n",
    "dt %>% head"
   ]
  },
  {
   "cell_type": "markdown",
   "metadata": {},
   "source": [
    "## Plot semantic similarity"
   ]
  },
  {
   "cell_type": "code",
   "execution_count": null,
   "metadata": {},
   "outputs": [],
   "source": [
    "tile_plot <- dt %>% #tidyr::drop_na() %>% \n",
    "    ggplot(aes(x=Tissue_2, y=Tissue_1, fill=Semantic_Similarity, \n",
    "               label=format(round(Semantic_Similarity, 2)))) + \n",
    "    geom_tile(color=\"grey\") + ggfittext::geom_fit_text(contrast=TRUE) + \n",
    "    viridis::scale_color_viridis(option=\"magma\") + facet_wrap(\"~Ont\") +\n",
    "    viridis::scale_fill_viridis(name=\"Semantic Similarity\", limits=c(0.5,1),\n",
    "                                direction=-1, option=\"magma\") +\n",
    "    labs(x=\"\", y=\"\") + ggpubr::theme_pubr(base_size=15, border=TRUE) +\n",
    "    scale_y_discrete(limits = rev(levels(dt$Tissue_1))) + \n",
    "    theme(axis.text.x=element_text(angle = 45, hjust=1), \n",
    "          strip.text=element_text(face=\"bold\"), \n",
    "          legend.key.width=unit(2, 'cm'))\n",
    "save_img(tile_plot, \"GO_semantic_similarity\", w=8, h=5)\n",
    "tile_plot"
   ]
  },
  {
   "cell_type": "markdown",
   "metadata": {},
   "source": [
    "## Reproducibility Information"
   ]
  },
  {
   "cell_type": "code",
   "execution_count": null,
   "metadata": {},
   "outputs": [],
   "source": [
    "Sys.time()\n",
    "proc.time()\n",
    "options(width = 120)\n",
    "sessioninfo::session_info()"
   ]
  },
  {
   "cell_type": "code",
   "execution_count": null,
   "metadata": {},
   "outputs": [],
   "source": []
  }
 ],
 "metadata": {
  "kernelspec": {
   "display_name": "R",
   "language": "R",
   "name": "ir"
  },
  "language_info": {
   "codemirror_mode": "r",
   "file_extension": ".r",
   "mimetype": "text/x-r-source",
   "name": "R",
   "pygments_lexer": "r",
   "version": "4.0.3"
  }
 },
 "nbformat": 4,
 "nbformat_minor": 4
}
