{
 "cells": [
  {
   "cell_type": "markdown",
   "metadata": {},
   "source": [
    "# Summary of features for interaction analysis"
   ]
  },
  {
   "cell_type": "code",
   "execution_count": null,
   "metadata": {},
   "outputs": [],
   "source": [
    "import pandas as pd"
   ]
  },
  {
   "cell_type": "markdown",
   "metadata": {},
   "source": [
    "## Function"
   ]
  },
  {
   "cell_type": "code",
   "execution_count": null,
   "metadata": {},
   "outputs": [],
   "source": [
    "def get_summary(feature):\n",
    "    fn = \"../../_m/%s/lfsr_allpairs_3tissues.txt.gz\" % feature\n",
    "    df = pd.read_csv(fn, sep='\\t', low_memory=True)\n",
    "    cc = df[(df[\"Caudate\"] < 0.05) & (df[\"DLPFC\"] >= 0.05) & (df[\"Hippocampus\"] >= 0.05)].shape[0]\n",
    "    dd = df[(df[\"Caudate\"] >= 0.05) & (df[\"DLPFC\"] < 0.05) & (df[\"Hippocampus\"] >= 0.05)].shape[0]\n",
    "    hh = df[(df[\"Caudate\"] >= 0.05) & (df[\"DLPFC\"] >= 0.05) & (df[\"Hippocampus\"] < 0.05)].shape[0]\n",
    "    shared_df = df[(df[\"Caudate\"] < 0.05) & (df[\"DLPFC\"] < 0.05) & (df[\"Hippocampus\"] < 0.05)].shape[0]\n",
    "    all_df = df[(df[\"Caudate\"] < 0.05) | (df[\"DLPFC\"] < 0.05) | (df[\"Hippocampus\"] < 0.05)].shape[0]\n",
    "    print(feature.upper())\n",
    "    print(\"There are %d caudate specific eFeatures!\" % cc)\n",
    "    print(\"There are %d DLPFC specific eFeatures!\" % dd)\n",
    "    print(\"There are %d hippocampus specific eFeatures!\\n\" % hh)\n",
    "    print(\"There are {} ({:.1%}) eFeatures shared across brain regions!\\n\".format(shared_df, shared_df / all_df))"
   ]
  },
  {
   "cell_type": "markdown",
   "metadata": {},
   "source": [
    "## Summary"
   ]
  },
  {
   "cell_type": "code",
   "execution_count": null,
   "metadata": {},
   "outputs": [],
   "source": [
    "for feature in [\"genes\", \"transcripts\", \"exons\", \"junctions\"]:\n",
    "    get_summary(feature)"
   ]
  },
  {
   "cell_type": "code",
   "execution_count": null,
   "metadata": {},
   "outputs": [],
   "source": []
  }
 ],
 "metadata": {
  "kernelspec": {
   "display_name": "Python 3",
   "language": "python",
   "name": "python3"
  },
  "language_info": {
   "codemirror_mode": {
    "name": "ipython",
    "version": 3
   },
   "file_extension": ".py",
   "mimetype": "text/x-python",
   "name": "python",
   "nbconvert_exporter": "python",
   "pygments_lexer": "ipython3",
   "version": "3.9.1"
  }
 },
 "nbformat": 4,
 "nbformat_minor": 4
}
