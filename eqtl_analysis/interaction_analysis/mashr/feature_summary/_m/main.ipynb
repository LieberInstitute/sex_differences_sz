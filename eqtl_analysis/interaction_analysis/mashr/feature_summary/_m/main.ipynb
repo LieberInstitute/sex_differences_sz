{
 "cells": [
  {
   "cell_type": "markdown",
   "metadata": {},
   "source": [
    "# Summary of features for interaction analysis"
   ]
  },
  {
   "cell_type": "code",
   "execution_count": 1,
   "metadata": {
    "execution": {
     "iopub.execute_input": "2021-09-13T17:49:42.309605Z",
     "iopub.status.busy": "2021-09-13T17:49:42.305724Z",
     "iopub.status.idle": "2021-09-13T17:49:42.627718Z",
     "shell.execute_reply": "2021-09-13T17:49:42.626840Z"
    }
   },
   "outputs": [],
   "source": [
    "import pandas as pd"
   ]
  },
  {
   "cell_type": "markdown",
   "metadata": {},
   "source": [
    "## Function"
   ]
  },
  {
   "cell_type": "code",
   "execution_count": 2,
   "metadata": {
    "execution": {
     "iopub.execute_input": "2021-09-13T17:49:42.639165Z",
     "iopub.status.busy": "2021-09-13T17:49:42.637971Z",
     "iopub.status.idle": "2021-09-13T17:49:42.643700Z",
     "shell.execute_reply": "2021-09-13T17:49:42.642509Z"
    }
   },
   "outputs": [],
   "source": [
    "def get_summary(feature):\n",
    "    fn = \"../../_m/%s/lfsr_allpairs_3tissues.txt.gz\" % feature\n",
    "    df = pd.read_csv(fn, sep='\\t', low_memory=True)\n",
    "    cc = df[(df[\"Caudate\"] < 0.05) & (df[\"DLPFC\"] >= 0.05) & (df[\"Hippocampus\"] >= 0.05)].shape[0]\n",
    "    dd = df[(df[\"Caudate\"] >= 0.05) & (df[\"DLPFC\"] < 0.05) & (df[\"Hippocampus\"] >= 0.05)].shape[0]\n",
    "    hh = df[(df[\"Caudate\"] >= 0.05) & (df[\"DLPFC\"] >= 0.05) & (df[\"Hippocampus\"] < 0.05)].shape[0]\n",
    "    shared_df = df[(df[\"Caudate\"] < 0.05) & (df[\"DLPFC\"] < 0.05) & (df[\"Hippocampus\"] < 0.05)].shape[0]\n",
    "    all_df = df[(df[\"Caudate\"] < 0.05) | (df[\"DLPFC\"] < 0.05) | (df[\"Hippocampus\"] < 0.05)].shape[0]\n",
    "    print(feature.upper())\n",
    "    print(\"There are %d caudate specific eFeatures!\" % cc)\n",
    "    print(\"There are %d DLPFC specific eFeatures!\" % dd)\n",
    "    print(\"There are %d hippocampus specific eFeatures!\\n\" % hh)\n",
    "    print(\"There are {} ({:.1%}) eFeatures shared across brain regions!\\n\".format(shared_df, shared_df / all_df))"
   ]
  },
  {
   "cell_type": "markdown",
   "metadata": {},
   "source": [
    "## Summary"
   ]
  },
  {
   "cell_type": "code",
   "execution_count": 3,
   "metadata": {
    "execution": {
     "iopub.execute_input": "2021-09-13T17:49:42.651754Z",
     "iopub.status.busy": "2021-09-13T17:49:42.650273Z",
     "iopub.status.idle": "2021-09-13T18:24:12.956644Z",
     "shell.execute_reply": "2021-09-13T18:24:12.955788Z"
    }
   },
   "outputs": [
    {
     "name": "stdout",
     "output_type": "stream",
     "text": [
      "GENES\n",
      "There are 830 caudate specific eFeatures!\n",
      "There are 61 DLPFC specific eFeatures!\n",
      "There are 18 hippocampus specific eFeatures!\n",
      "\n",
      "There are 4712 (79.4%) eFeatures shared across brain regions!\n",
      "\n",
      "TRANSCRIPTS\n",
      "There are 3234 caudate specific eFeatures!\n",
      "There are 6 DLPFC specific eFeatures!\n",
      "There are 1 hippocampus specific eFeatures!\n",
      "\n",
      "There are 5248 (61.4%) eFeatures shared across brain regions!\n",
      "\n",
      "EXONS\n",
      "There are 1060 caudate specific eFeatures!\n",
      "There are 1044 DLPFC specific eFeatures!\n",
      "There are 0 hippocampus specific eFeatures!\n",
      "\n",
      "There are 9830 (79.2%) eFeatures shared across brain regions!\n",
      "\n",
      "JUNCTIONS\n",
      "There are 116 caudate specific eFeatures!\n",
      "There are 79 DLPFC specific eFeatures!\n",
      "There are 5 hippocampus specific eFeatures!\n",
      "\n",
      "There are 2230 (85.4%) eFeatures shared across brain regions!\n",
      "\n"
     ]
    }
   ],
   "source": [
    "for feature in [\"genes\", \"transcripts\", \"exons\", \"junctions\"]:\n",
    "    get_summary(feature)"
   ]
  },
  {
   "cell_type": "code",
   "execution_count": null,
   "metadata": {},
   "outputs": [],
   "source": []
  }
 ],
 "metadata": {
  "kernelspec": {
   "display_name": "Python 3",
   "language": "python",
   "name": "python3"
  },
  "language_info": {
   "codemirror_mode": {
    "name": "ipython",
    "version": 3
   },
   "file_extension": ".py",
   "mimetype": "text/x-python",
   "name": "python",
   "nbconvert_exporter": "python",
   "pygments_lexer": "ipython3",
   "version": "3.9.1"
  }
 },
 "nbformat": 4,
 "nbformat_minor": 4
}
