{
 "cells": [
  {
   "cell_type": "markdown",
   "metadata": {},
   "source": [
    "# Examine enrichment in psychiatric disorder TWAS and DEGs"
   ]
  },
  {
   "cell_type": "code",
   "execution_count": 1,
   "metadata": {
    "execution": {
     "iopub.execute_input": "2021-09-20T14:14:55.852093Z",
     "iopub.status.busy": "2021-09-20T14:14:55.849562Z",
     "iopub.status.idle": "2021-09-20T14:14:56.507963Z",
     "shell.execute_reply": "2021-09-20T14:14:56.506659Z"
    }
   },
   "outputs": [],
   "source": [
    "import functools\n",
    "import numpy as np\n",
    "import pandas as pd\n",
    "from os import environ\n",
    "from pybiomart import Dataset\n",
    "from scipy.stats import fisher_exact\n",
    "from statsmodels.stats.multitest import multipletests"
   ]
  },
  {
   "cell_type": "markdown",
   "metadata": {},
   "source": [
    "## Configuration"
   ]
  },
  {
   "cell_type": "code",
   "execution_count": 2,
   "metadata": {
    "execution": {
     "iopub.execute_input": "2021-09-20T14:14:56.515106Z",
     "iopub.status.busy": "2021-09-20T14:14:56.513492Z",
     "iopub.status.idle": "2021-09-20T14:14:56.516433Z",
     "shell.execute_reply": "2021-09-20T14:14:56.517490Z"
    }
   },
   "outputs": [],
   "source": [
    "environ['NUMEXPR_MAX_THREADS'] = '32'\n",
    "\n",
    "config = {\n",
    "    \"dlpfc_file\": \"/ceph/users/jbenja13/phase3_paper/phase2/extract_de/_m/dlpfc_diffExpr_szVctl_full.txt\",\n",
    "    \"caud8_file\": \"/ceph/projects/v4_phase3_paper/analysis/differential_expression/_m/genes/diffExpr_szVctl_full.txt\",\n",
    "    \"hippo_file\": \"/ceph/users/jbenja13/phase3_paper/phase2/extract_de/_m/hippo_diffExpr_szVctl_full.txt\",\n",
    "    'cmc_file': '/ceph/projects/v3_phase3_paper/inputs/cmc/_m/CMC_MSSM-Penn-Pitt_DLPFC_mRNA_IlluminaHiSeq2500'+\\\n",
    "    '_gene-adjustedSVA-differentialExpression-includeAncestry-DxSCZ-DE.tsv',\n",
    "    'gandal_de_file': \"/ceph/users/jbenja13/psychENCODE/expression_results/_m/gandal2018_psychENCODE_DE_results.xlsx\",\n",
    "    'twas_asd_file': '/ceph/users/jbenja13/psychENCODE/_m/psychENCODE_twas_asd.csv',\n",
    "    'twas_sz_file': '/ceph/users/jbenja13/psychENCODE/_m/psychENCODE_twas_sz.csv',\n",
    "    'twas_bd_file': '/ceph/users/jbenja13/psychENCODE/_m/psychENCODE_twas_bd.csv',\n",
    "    'twas_bs_file': '/ceph/projects/v4_phase3_paper/analysis/twas/public_twas_comp/_m/TWAS_gene_tissue_summary.csv'\n",
    "}"
   ]
  },
  {
   "cell_type": "markdown",
   "metadata": {},
   "source": [
    "## Functions"
   ]
  },
  {
   "cell_type": "markdown",
   "metadata": {},
   "source": [
    "### Cached"
   ]
  },
  {
   "cell_type": "code",
   "execution_count": 3,
   "metadata": {
    "execution": {
     "iopub.execute_input": "2021-09-20T14:14:56.528344Z",
     "iopub.status.busy": "2021-09-20T14:14:56.526692Z",
     "iopub.status.idle": "2021-09-20T14:14:56.531613Z",
     "shell.execute_reply": "2021-09-20T14:14:56.530479Z"
    }
   },
   "outputs": [],
   "source": [
    "@functools.lru_cache()\n",
    "def get_database():\n",
    "    dataset = Dataset(name=\"hsapiens_gene_ensembl\", \n",
    "                      host=\"http://www.ensembl.org\",\n",
    "                      use_cache=True)\n",
    "    db = dataset.query(attributes=[\"ensembl_gene_id\", \n",
    "                                   \"external_gene_name\", \n",
    "                                   \"entrezgene_id\"], \n",
    "                       use_attr_names=True).dropna(subset=['entrezgene_id'])\n",
    "    return db\n",
    "\n",
    "\n",
    "@functools.lru_cache()\n",
    "def get_deg(fn):\n",
    "    return pd.read_csv(fn, sep='\\t')\n",
    "\n",
    "\n",
    "@functools.lru_cache()\n",
    "def get_sig_deg(fn):\n",
    "    return get_deg(fn)[(get_deg(fn)[\"adj.P.Val\"] < 0.05)]\n",
    "\n",
    "\n",
    "@functools.lru_cache()\n",
    "def get_gandal_deg():\n",
    "    return pd.read_excel(config[\"gandal_de_file\"], sheet_name=\"DGE\")\n",
    "\n",
    "\n",
    "@functools.lru_cache()\n",
    "def get_eGenes(tissue):\n",
    "    df = pd.read_csv(\"../../summary_table/_m/BrainSeq_sexGenotypes_4features_3regions.txt.gz\", sep='\\t')\n",
    "    df = df[(df[\"Type\"] == \"Gene\") & (df[\"Tissue\"] == tissue)]\\\n",
    "        .drop([\"variant_id\", \"lfsr\"], axis=1).drop_duplicates()\n",
    "    df[\"ensemblID\"] = df.gencodeID.str.replace(\"\\\\..*\", \"\", regex=True)\n",
    "    return df\n",
    "\n",
    "\n",
    "@functools.lru_cache()\n",
    "def get_bs_twas():\n",
    "    return pd.read_csv(config[\"twas_bs_file\"])\n",
    "\n",
    "\n",
    "@functools.lru_cache()\n",
    "def get_gandal_twas(fn):\n",
    "    df = pd.read_csv(fn)\n",
    "    return df[(df[\"TWAS.Bonferroni\"] < 0.05)]"
   ]
  },
  {
   "cell_type": "markdown",
   "metadata": {},
   "source": [
    "### Simple"
   ]
  },
  {
   "cell_type": "code",
   "execution_count": 4,
   "metadata": {
    "execution": {
     "iopub.execute_input": "2021-09-20T14:14:56.540059Z",
     "iopub.status.busy": "2021-09-20T14:14:56.538376Z",
     "iopub.status.idle": "2021-09-20T14:14:56.541429Z",
     "shell.execute_reply": "2021-09-20T14:14:56.542450Z"
    }
   },
   "outputs": [],
   "source": [
    "def fet(a, b):\n",
    "    \"\"\"\n",
    "    Calculates Fisher's Exact test (fet) with sets a and b in universe u.\n",
    "    Inputs are sets.\n",
    "    \"\"\"\n",
    "    u = set(get_database().ensembl_gene_id)\n",
    "    a = set(a); b = set(b)\n",
    "    yes_a = u.intersection(a)\n",
    "    yes_b = u.intersection(b)\n",
    "    no_a = u - a\n",
    "    no_b = u - b\n",
    "    m = [[len(yes_a.intersection(yes_b)), len(no_a.intersection(yes_b))], \n",
    "         [len(yes_a.intersection(no_b)), len(no_a.intersection(no_b))]]\n",
    "    return fisher_exact(m)"
   ]
  },
  {
   "cell_type": "markdown",
   "metadata": {},
   "source": [
    "## Load eGenes for sex-interacting analysis"
   ]
  },
  {
   "cell_type": "code",
   "execution_count": 5,
   "metadata": {
    "execution": {
     "iopub.execute_input": "2021-09-20T14:14:56.549182Z",
     "iopub.status.busy": "2021-09-20T14:14:56.547886Z",
     "iopub.status.idle": "2021-09-20T14:14:56.958743Z",
     "shell.execute_reply": "2021-09-20T14:14:56.959759Z"
    }
   },
   "outputs": [],
   "source": [
    "caudate = set(get_eGenes(\"Caudate\").ensemblID)\n",
    "dlpfc = set(get_eGenes(\"DLPFC\").ensemblID)\n",
    "hippocampus = set(get_eGenes(\"Hippocampus\").ensemblID)"
   ]
  },
  {
   "cell_type": "markdown",
   "metadata": {},
   "source": [
    "## Differential expression"
   ]
  },
  {
   "cell_type": "markdown",
   "metadata": {},
   "source": [
    "### BrainSeq SZ case vs control"
   ]
  },
  {
   "cell_type": "code",
   "execution_count": 6,
   "metadata": {
    "execution": {
     "iopub.execute_input": "2021-09-20T14:14:56.966460Z",
     "iopub.status.busy": "2021-09-20T14:14:56.965157Z",
     "iopub.status.idle": "2021-09-20T14:14:57.300734Z",
     "shell.execute_reply": "2021-09-20T14:14:57.299425Z"
    }
   },
   "outputs": [],
   "source": [
    "bs_caudate_degs = set(get_sig_deg(config[\"caud8_file\"]).ensemblID)\n",
    "bs_dlpfc_degs = set(get_sig_deg(config[\"dlpfc_file\"]).ensemblID)\n",
    "bs_hippo_degs = set(get_sig_deg(config[\"hippo_file\"]).ensemblID)"
   ]
  },
  {
   "cell_type": "markdown",
   "metadata": {},
   "source": [
    "### CommonMind SZ, DLPFC"
   ]
  },
  {
   "cell_type": "code",
   "execution_count": 7,
   "metadata": {
    "execution": {
     "iopub.execute_input": "2021-09-20T14:14:57.307529Z",
     "iopub.status.busy": "2021-09-20T14:14:57.306230Z",
     "iopub.status.idle": "2021-09-20T14:14:57.342489Z",
     "shell.execute_reply": "2021-09-20T14:14:57.341430Z"
    }
   },
   "outputs": [],
   "source": [
    "cmc_dlpfc_degs = set(get_sig_deg(config[\"cmc_file\"]).genes)"
   ]
  },
  {
   "cell_type": "markdown",
   "metadata": {},
   "source": [
    "### PsychENCODE (Gandal)"
   ]
  },
  {
   "cell_type": "code",
   "execution_count": 8,
   "metadata": {
    "execution": {
     "iopub.execute_input": "2021-09-20T14:14:57.349030Z",
     "iopub.status.busy": "2021-09-20T14:14:57.347808Z",
     "iopub.status.idle": "2021-09-20T14:15:15.729473Z",
     "shell.execute_reply": "2021-09-20T14:15:15.728312Z"
    }
   },
   "outputs": [],
   "source": [
    "psy_sz = set(get_gandal_deg()[(get_gandal_deg()[\"SCZ.fdr\"] < 0.05)].ensembl_gene_id)\n",
    "psy_asd = set(get_gandal_deg()[(get_gandal_deg()[\"ASD.fdr\"] < 0.05)].ensembl_gene_id)\n",
    "psy_bd = set(get_gandal_deg()[(get_gandal_deg()[\"BD.fdr\"] < 0.05)].ensembl_gene_id)"
   ]
  },
  {
   "cell_type": "markdown",
   "metadata": {},
   "source": [
    "## TWAS"
   ]
  },
  {
   "cell_type": "markdown",
   "metadata": {},
   "source": [
    "### BrainSeq"
   ]
  },
  {
   "cell_type": "code",
   "execution_count": 9,
   "metadata": {
    "execution": {
     "iopub.execute_input": "2021-09-20T14:15:15.736924Z",
     "iopub.status.busy": "2021-09-20T14:15:15.735571Z",
     "iopub.status.idle": "2021-09-20T14:15:15.764837Z",
     "shell.execute_reply": "2021-09-20T14:15:15.763600Z"
    }
   },
   "outputs": [],
   "source": [
    "bs_caudate_twas = set(get_bs_twas()[(get_bs_twas()[\"Caudate_FDR\"] < 0.05)].Geneid)\n",
    "bs_dlpfc_twas = set(get_bs_twas()[(get_bs_twas()[\"DLPFC_FDR\"] < 0.05)].Geneid)\n",
    "bs_hippo_twas = set(get_bs_twas()[(get_bs_twas()[\"HIPPO_FDR\"] < 0.05)].Geneid)"
   ]
  },
  {
   "cell_type": "markdown",
   "metadata": {},
   "source": [
    "### PsychENCODE"
   ]
  },
  {
   "cell_type": "code",
   "execution_count": 10,
   "metadata": {
    "execution": {
     "iopub.execute_input": "2021-09-20T14:15:15.771227Z",
     "iopub.status.busy": "2021-09-20T14:15:15.769882Z",
     "iopub.status.idle": "2021-09-20T14:15:15.963254Z",
     "shell.execute_reply": "2021-09-20T14:15:15.962060Z"
    }
   },
   "outputs": [],
   "source": [
    "psy_asd_twas = set(get_gandal_twas(config[\"twas_asd_file\"]).GeneID)\n",
    "psy_sz_twas = set(get_gandal_twas(config[\"twas_sz_file\"]).GeneID)\n",
    "psy_bd_twas = set(get_gandal_twas(config[\"twas_bd_file\"]).ID)"
   ]
  },
  {
   "cell_type": "markdown",
   "metadata": {},
   "source": [
    "## Enrichment analysis"
   ]
  },
  {
   "cell_type": "code",
   "execution_count": 11,
   "metadata": {
    "execution": {
     "iopub.execute_input": "2021-09-20T14:15:15.990992Z",
     "iopub.status.busy": "2021-09-20T14:15:15.989674Z",
     "iopub.status.idle": "2021-09-20T14:15:25.622838Z",
     "shell.execute_reply": "2021-09-20T14:15:25.621647Z"
    }
   },
   "outputs": [],
   "source": [
    "egenes_dict = {\"Caudate\": caudate, \"DLPFC\": dlpfc, \"Hippocampus\": hippocampus}\n",
    "comp_dict = {\"BS_Caudate_DEG\": bs_caudate_degs, \"BS_DLPFC_DEG\": bs_dlpfc_degs, \n",
    "             \"BS_Hippocampus_DEG\": bs_hippo_degs, \"CMC_DLPFC_DEG\": cmc_dlpfc_degs, \n",
    "             \"PSY_SZ_DEG\": psy_sz, \"PSY_ASD_DEG\": psy_asd, \"PSY_BD_DEG\": psy_bd,\n",
    "             \"BS_Caudate_TWAS\": bs_caudate_twas, \"BS_DLPFC_TWAS\": bs_dlpfc_twas, \n",
    "             \"BS_Hippocampus_TWAS\": bs_hippo_twas, \"PSY_SZ_TWAS\": psy_sz_twas, \n",
    "             \"PSY_ASD_TWAS\": psy_asd_twas, \"PSY_BD_TWAS\": psy_bd_twas}\n",
    "comp_list = [\"BS_Caudate_DEG\", \"BS_DLPFC_DEG\", \"BS_Hippocampus_DEG\", \n",
    "             \"CMC_DLPFC_DEG\", \"PSY_SZ_DEG\", \"PSY_ASD_DEG\", \"PSY_BD_DEG\", \n",
    "             \"BS_Caudate_TWAS\", \"BS_DLPFC_TWAS\", \"BS_Hippocampus_TWAS\", \n",
    "             \"PSY_SZ_TWAS\", \"PSY_ASD_TWAS\", \"PSY_BD_TWAS\"]\n",
    "\n",
    "or_lt = []; pval_lt = []; tissue_lt = []; comparison_lt = [];\n",
    "for tissue in [\"Caudate\", \"DLPFC\", \"Hippocampus\"]:\n",
    "    for comp in comp_list:\n",
    "        oddratio, pvals = fet(egenes_dict[tissue], comp_dict[comp])\n",
    "        or_lt.append(oddratio); pval_lt.append(pvals);\n",
    "        tissue_lt.append(tissue); comparison_lt.append(comp)\n",
    "fdr = multipletests(pval_lt, method='fdr_bh')[1]\n",
    "dt = pd.DataFrame({\"Tissue\": tissue_lt, \"Comparison\": comparison_lt, \"OR\": or_lt, \n",
    "                   \"P-value\": pval_lt, \"FDR\": fdr})"
   ]
  },
  {
   "cell_type": "code",
   "execution_count": 12,
   "metadata": {
    "execution": {
     "iopub.execute_input": "2021-09-20T14:15:25.634544Z",
     "iopub.status.busy": "2021-09-20T14:15:25.633262Z",
     "iopub.status.idle": "2021-09-20T14:15:25.650275Z",
     "shell.execute_reply": "2021-09-20T14:15:25.651358Z"
    }
   },
   "outputs": [
    {
     "data": {
      "text/html": [
       "<div>\n",
       "<style scoped>\n",
       "    .dataframe tbody tr th:only-of-type {\n",
       "        vertical-align: middle;\n",
       "    }\n",
       "\n",
       "    .dataframe tbody tr th {\n",
       "        vertical-align: top;\n",
       "    }\n",
       "\n",
       "    .dataframe thead th {\n",
       "        text-align: right;\n",
       "    }\n",
       "</style>\n",
       "<table border=\"1\" class=\"dataframe\">\n",
       "  <thead>\n",
       "    <tr style=\"text-align: right;\">\n",
       "      <th></th>\n",
       "      <th>Tissue</th>\n",
       "      <th>Comparison</th>\n",
       "      <th>OR</th>\n",
       "      <th>P-value</th>\n",
       "      <th>FDR</th>\n",
       "    </tr>\n",
       "  </thead>\n",
       "  <tbody>\n",
       "    <tr>\n",
       "      <th>0</th>\n",
       "      <td>Caudate</td>\n",
       "      <td>BS_Caudate_DEG</td>\n",
       "      <td>2.756170</td>\n",
       "      <td>1.392999e-25</td>\n",
       "      <td>5.432696e-24</td>\n",
       "    </tr>\n",
       "    <tr>\n",
       "      <th>1</th>\n",
       "      <td>Caudate</td>\n",
       "      <td>BS_DLPFC_DEG</td>\n",
       "      <td>2.349303</td>\n",
       "      <td>4.310847e-03</td>\n",
       "      <td>8.848580e-03</td>\n",
       "    </tr>\n",
       "    <tr>\n",
       "      <th>3</th>\n",
       "      <td>Caudate</td>\n",
       "      <td>CMC_DLPFC_DEG</td>\n",
       "      <td>1.812393</td>\n",
       "      <td>1.662972e-02</td>\n",
       "      <td>2.687730e-02</td>\n",
       "    </tr>\n",
       "    <tr>\n",
       "      <th>4</th>\n",
       "      <td>Caudate</td>\n",
       "      <td>PSY_SZ_DEG</td>\n",
       "      <td>2.063669</td>\n",
       "      <td>7.475636e-18</td>\n",
       "      <td>5.830996e-17</td>\n",
       "    </tr>\n",
       "    <tr>\n",
       "      <th>5</th>\n",
       "      <td>Caudate</td>\n",
       "      <td>PSY_ASD_DEG</td>\n",
       "      <td>2.491460</td>\n",
       "      <td>1.093601e-13</td>\n",
       "      <td>6.092922e-13</td>\n",
       "    </tr>\n",
       "    <tr>\n",
       "      <th>6</th>\n",
       "      <td>Caudate</td>\n",
       "      <td>PSY_BD_DEG</td>\n",
       "      <td>1.532679</td>\n",
       "      <td>1.004704e-02</td>\n",
       "      <td>1.781066e-02</td>\n",
       "    </tr>\n",
       "    <tr>\n",
       "      <th>7</th>\n",
       "      <td>Caudate</td>\n",
       "      <td>BS_Caudate_TWAS</td>\n",
       "      <td>2.500256</td>\n",
       "      <td>1.529816e-06</td>\n",
       "      <td>5.966284e-06</td>\n",
       "    </tr>\n",
       "    <tr>\n",
       "      <th>8</th>\n",
       "      <td>Caudate</td>\n",
       "      <td>BS_DLPFC_TWAS</td>\n",
       "      <td>2.251763</td>\n",
       "      <td>3.043822e-03</td>\n",
       "      <td>6.982886e-03</td>\n",
       "    </tr>\n",
       "    <tr>\n",
       "      <th>9</th>\n",
       "      <td>Caudate</td>\n",
       "      <td>BS_Hippocampus_TWAS</td>\n",
       "      <td>2.775863</td>\n",
       "      <td>2.302466e-03</td>\n",
       "      <td>5.986412e-03</td>\n",
       "    </tr>\n",
       "    <tr>\n",
       "      <th>11</th>\n",
       "      <td>Caudate</td>\n",
       "      <td>PSY_ASD_TWAS</td>\n",
       "      <td>10.722030</td>\n",
       "      <td>2.261958e-02</td>\n",
       "      <td>3.392937e-02</td>\n",
       "    </tr>\n",
       "    <tr>\n",
       "      <th>13</th>\n",
       "      <td>DLPFC</td>\n",
       "      <td>BS_Caudate_DEG</td>\n",
       "      <td>2.637220</td>\n",
       "      <td>2.073170e-21</td>\n",
       "      <td>4.042682e-20</td>\n",
       "    </tr>\n",
       "    <tr>\n",
       "      <th>14</th>\n",
       "      <td>DLPFC</td>\n",
       "      <td>BS_DLPFC_DEG</td>\n",
       "      <td>2.405059</td>\n",
       "      <td>5.530647e-03</td>\n",
       "      <td>1.078476e-02</td>\n",
       "    </tr>\n",
       "    <tr>\n",
       "      <th>17</th>\n",
       "      <td>DLPFC</td>\n",
       "      <td>PSY_SZ_DEG</td>\n",
       "      <td>2.131577</td>\n",
       "      <td>4.809498e-18</td>\n",
       "      <td>4.689261e-17</td>\n",
       "    </tr>\n",
       "    <tr>\n",
       "      <th>18</th>\n",
       "      <td>DLPFC</td>\n",
       "      <td>PSY_ASD_DEG</td>\n",
       "      <td>2.508374</td>\n",
       "      <td>6.512848e-13</td>\n",
       "      <td>3.175013e-12</td>\n",
       "    </tr>\n",
       "    <tr>\n",
       "      <th>19</th>\n",
       "      <td>DLPFC</td>\n",
       "      <td>PSY_BD_DEG</td>\n",
       "      <td>1.528323</td>\n",
       "      <td>1.292183e-02</td>\n",
       "      <td>2.191093e-02</td>\n",
       "    </tr>\n",
       "    <tr>\n",
       "      <th>20</th>\n",
       "      <td>DLPFC</td>\n",
       "      <td>BS_Caudate_TWAS</td>\n",
       "      <td>2.442884</td>\n",
       "      <td>1.185970e-05</td>\n",
       "      <td>4.204804e-05</td>\n",
       "    </tr>\n",
       "    <tr>\n",
       "      <th>21</th>\n",
       "      <td>DLPFC</td>\n",
       "      <td>BS_DLPFC_TWAS</td>\n",
       "      <td>2.326861</td>\n",
       "      <td>3.259251e-03</td>\n",
       "      <td>7.061710e-03</td>\n",
       "    </tr>\n",
       "    <tr>\n",
       "      <th>22</th>\n",
       "      <td>DLPFC</td>\n",
       "      <td>BS_Hippocampus_TWAS</td>\n",
       "      <td>3.062388</td>\n",
       "      <td>1.049313e-03</td>\n",
       "      <td>2.923086e-03</td>\n",
       "    </tr>\n",
       "    <tr>\n",
       "      <th>26</th>\n",
       "      <td>Hippocampus</td>\n",
       "      <td>BS_Caudate_DEG</td>\n",
       "      <td>2.566870</td>\n",
       "      <td>3.014768e-19</td>\n",
       "      <td>3.919198e-18</td>\n",
       "    </tr>\n",
       "    <tr>\n",
       "      <th>27</th>\n",
       "      <td>Hippocampus</td>\n",
       "      <td>BS_DLPFC_DEG</td>\n",
       "      <td>2.143821</td>\n",
       "      <td>1.722904e-02</td>\n",
       "      <td>2.687730e-02</td>\n",
       "    </tr>\n",
       "    <tr>\n",
       "      <th>30</th>\n",
       "      <td>Hippocampus</td>\n",
       "      <td>PSY_SZ_DEG</td>\n",
       "      <td>2.069228</td>\n",
       "      <td>7.035580e-16</td>\n",
       "      <td>4.573127e-15</td>\n",
       "    </tr>\n",
       "    <tr>\n",
       "      <th>31</th>\n",
       "      <td>Hippocampus</td>\n",
       "      <td>PSY_ASD_DEG</td>\n",
       "      <td>2.307929</td>\n",
       "      <td>3.482678e-10</td>\n",
       "      <td>1.509160e-09</td>\n",
       "    </tr>\n",
       "    <tr>\n",
       "      <th>32</th>\n",
       "      <td>Hippocampus</td>\n",
       "      <td>PSY_BD_DEG</td>\n",
       "      <td>1.612040</td>\n",
       "      <td>5.833417e-03</td>\n",
       "      <td>1.083349e-02</td>\n",
       "    </tr>\n",
       "    <tr>\n",
       "      <th>33</th>\n",
       "      <td>Hippocampus</td>\n",
       "      <td>BS_Caudate_TWAS</td>\n",
       "      <td>2.407614</td>\n",
       "      <td>2.612245e-05</td>\n",
       "      <td>8.489798e-05</td>\n",
       "    </tr>\n",
       "    <tr>\n",
       "      <th>34</th>\n",
       "      <td>Hippocampus</td>\n",
       "      <td>BS_DLPFC_TWAS</td>\n",
       "      <td>2.450188</td>\n",
       "      <td>2.526461e-03</td>\n",
       "      <td>6.158249e-03</td>\n",
       "    </tr>\n",
       "    <tr>\n",
       "      <th>35</th>\n",
       "      <td>Hippocampus</td>\n",
       "      <td>BS_Hippocampus_TWAS</td>\n",
       "      <td>3.223829</td>\n",
       "      <td>6.865169e-04</td>\n",
       "      <td>2.059551e-03</td>\n",
       "    </tr>\n",
       "  </tbody>\n",
       "</table>\n",
       "</div>"
      ],
      "text/plain": [
       "         Tissue           Comparison         OR       P-value           FDR\n",
       "0       Caudate       BS_Caudate_DEG   2.756170  1.392999e-25  5.432696e-24\n",
       "1       Caudate         BS_DLPFC_DEG   2.349303  4.310847e-03  8.848580e-03\n",
       "3       Caudate        CMC_DLPFC_DEG   1.812393  1.662972e-02  2.687730e-02\n",
       "4       Caudate           PSY_SZ_DEG   2.063669  7.475636e-18  5.830996e-17\n",
       "5       Caudate          PSY_ASD_DEG   2.491460  1.093601e-13  6.092922e-13\n",
       "6       Caudate           PSY_BD_DEG   1.532679  1.004704e-02  1.781066e-02\n",
       "7       Caudate      BS_Caudate_TWAS   2.500256  1.529816e-06  5.966284e-06\n",
       "8       Caudate        BS_DLPFC_TWAS   2.251763  3.043822e-03  6.982886e-03\n",
       "9       Caudate  BS_Hippocampus_TWAS   2.775863  2.302466e-03  5.986412e-03\n",
       "11      Caudate         PSY_ASD_TWAS  10.722030  2.261958e-02  3.392937e-02\n",
       "13        DLPFC       BS_Caudate_DEG   2.637220  2.073170e-21  4.042682e-20\n",
       "14        DLPFC         BS_DLPFC_DEG   2.405059  5.530647e-03  1.078476e-02\n",
       "17        DLPFC           PSY_SZ_DEG   2.131577  4.809498e-18  4.689261e-17\n",
       "18        DLPFC          PSY_ASD_DEG   2.508374  6.512848e-13  3.175013e-12\n",
       "19        DLPFC           PSY_BD_DEG   1.528323  1.292183e-02  2.191093e-02\n",
       "20        DLPFC      BS_Caudate_TWAS   2.442884  1.185970e-05  4.204804e-05\n",
       "21        DLPFC        BS_DLPFC_TWAS   2.326861  3.259251e-03  7.061710e-03\n",
       "22        DLPFC  BS_Hippocampus_TWAS   3.062388  1.049313e-03  2.923086e-03\n",
       "26  Hippocampus       BS_Caudate_DEG   2.566870  3.014768e-19  3.919198e-18\n",
       "27  Hippocampus         BS_DLPFC_DEG   2.143821  1.722904e-02  2.687730e-02\n",
       "30  Hippocampus           PSY_SZ_DEG   2.069228  7.035580e-16  4.573127e-15\n",
       "31  Hippocampus          PSY_ASD_DEG   2.307929  3.482678e-10  1.509160e-09\n",
       "32  Hippocampus           PSY_BD_DEG   1.612040  5.833417e-03  1.083349e-02\n",
       "33  Hippocampus      BS_Caudate_TWAS   2.407614  2.612245e-05  8.489798e-05\n",
       "34  Hippocampus        BS_DLPFC_TWAS   2.450188  2.526461e-03  6.158249e-03\n",
       "35  Hippocampus  BS_Hippocampus_TWAS   3.223829  6.865169e-04  2.059551e-03"
      ]
     },
     "execution_count": 1,
     "metadata": {},
     "output_type": "execute_result"
    }
   ],
   "source": [
    "dt[(dt[\"FDR\"] < 0.05)]"
   ]
  },
  {
   "cell_type": "code",
   "execution_count": 13,
   "metadata": {
    "execution": {
     "iopub.execute_input": "2021-09-20T14:15:25.657463Z",
     "iopub.status.busy": "2021-09-20T14:15:25.656217Z",
     "iopub.status.idle": "2021-09-20T14:15:25.662244Z",
     "shell.execute_reply": "2021-09-20T14:15:25.661094Z"
    }
   },
   "outputs": [],
   "source": [
    "dt.to_csv(\"clincial_phenotypes_enrichment_analysis_3brainRegions.tsv\", sep='\\t', index=False)"
   ]
  }
 ],
 "metadata": {
  "kernelspec": {
   "display_name": "Python 3",
   "language": "python",
   "name": "python3"
  },
  "language_info": {
   "codemirror_mode": {
    "name": "ipython",
    "version": 3
   },
   "file_extension": ".py",
   "mimetype": "text/x-python",
   "name": "python",
   "nbconvert_exporter": "python",
   "pygments_lexer": "ipython3",
   "version": "3.9.1"
  }
 },
 "nbformat": 4,
 "nbformat_minor": 4
}
