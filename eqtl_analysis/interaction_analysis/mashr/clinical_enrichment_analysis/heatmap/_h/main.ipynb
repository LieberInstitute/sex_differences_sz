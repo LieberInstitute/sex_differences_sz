{
 "cells": [
  {
   "cell_type": "markdown",
   "metadata": {},
   "source": [
    "# Clustered dotplots"
   ]
  },
  {
   "cell_type": "code",
   "execution_count": null,
   "metadata": {},
   "outputs": [],
   "source": [
    "library(ggplot2)\n",
    "library(tidyverse)"
   ]
  },
  {
   "cell_type": "code",
   "execution_count": null,
   "metadata": {},
   "outputs": [],
   "source": [
    "save_plot <- function(p, fn, w, h){\n",
    "    for(ext in c(\".pdf\", \".png\", \".svg\")){\n",
    "        ggsave(filename=paste0(fn,ext), plot=p, width=w, height=h)\n",
    "    }\n",
    "}"
   ]
  },
  {
   "cell_type": "markdown",
   "metadata": {},
   "source": [
    "## Get data"
   ]
  },
  {
   "cell_type": "code",
   "execution_count": null,
   "metadata": {},
   "outputs": [],
   "source": [
    "err = 0.0000001\n",
    "dt <- data.table::fread(\"../../_m/clincial_phenotypes_enrichment_analysis_3brainRegions.tsv\") %>% \n",
    "    mutate(`-log10(FDR)`= -log10(FDR), `OR Percentile`= OR / (1+OR), \n",
    "           `log2(OR)` = log2(OR+err), p.fdr.sig=FDR < 0.05, \n",
    "           p.fdr.cat=cut(FDR, breaks=c(1,0.05,0.01,0.005,0), \n",
    "                         labels=c(\"<= 0.005\",\"<= 0.01\",\"<= 0.05\",\"> 0.05\"), \n",
    "                         include.lowest=TRUE))\n",
    "y0 <- min(dt$`log2(OR)`)-0.1\n",
    "y1 <- max(dt$`log2(OR)`)+0.1\n",
    "dt %>% head(2)"
   ]
  },
  {
   "cell_type": "code",
   "execution_count": null,
   "metadata": {},
   "outputs": [],
   "source": [
    "tile_plot <- dt %>% filter(str_detect(Comparison, \"DEG\")) %>%\n",
    "    ggplot(aes(x = Comparison, y = Tissue, fill = `log2(OR)`,\n",
    "               label = ifelse(p.fdr.sig,\n",
    "                              format(round(`-log10(FDR)`,1), nsmall=1), \"\"))) +\n",
    "    ylab('eGenes') + xlab('') + \n",
    "    geom_tile(color = \"grey\") + ggfittext::geom_fit_text(contrast = TRUE) +\n",
    "    scale_fill_gradientn(colors=c(\"blue\", \"white\", \"red\"), \n",
    "                        values=scales::rescale(c(y0, 0, y1)),\n",
    "                        limits=c(y0, y1)) +\n",
    "    ggpubr::theme_pubr(base_size = 20, border=TRUE) +\n",
    "    theme(axis.text.x = element_text(angle = 45, hjust=1),\n",
    "          legend.position=\"right\", \n",
    "          axis.title=element_text(face=\"bold\"),\n",
    "          axis.text.y=element_text(face=\"bold\"))\n",
    "save_plot(tile_plot, \"tileplot_enrichment_deg\", 9, 6)\n",
    "tile_plot"
   ]
  },
  {
   "cell_type": "code",
   "execution_count": null,
   "metadata": {},
   "outputs": [],
   "source": [
    "dotplot <- dt %>% filter(str_detect(Comparison, \"DEG\")) %>%\n",
    "    ggplot(aes(x=`Comparison`, y=Tissue, color=`log2(OR)`, \n",
    "               size=`-log10(FDR)`)) + \n",
    "    geom_point() + ylab('eGenes') + xlab('') + \n",
    "    scale_color_gradientn(colors=c(\"blue\", \"grey\", \"red\"), \n",
    "                          values=scales::rescale(c(y0, 0, y1)),\n",
    "                          limits=c(y0, y1)) +\n",
    "    ggpubr::theme_pubr(base_size=20, border=TRUE) + \n",
    "    theme(axis.text.x = element_text(angle = 45, hjust=1), \n",
    "          legend.position=\"right\", \n",
    "          axis.title=element_text(face=\"bold\"),\n",
    "          axis.text.y=element_text(face=\"bold\"))\n",
    "save_plot(dotplot, \"dotplot_enrichment_deg\", 10, 7)\n",
    "dotplot"
   ]
  },
  {
   "cell_type": "code",
   "execution_count": null,
   "metadata": {},
   "outputs": [],
   "source": [
    "tile_plot <- dt %>% filter(str_detect(Comparison, \"TWAS\")) %>%\n",
    "    ggplot(aes(x = Comparison, y = Tissue, fill = `log2(OR)`,\n",
    "               label = ifelse(p.fdr.sig,\n",
    "                              format(round(`-log10(FDR)`,1), nsmall=1), \"\"))) +\n",
    "    ylab('eGenes') + xlab('') + \n",
    "    geom_tile(color = \"grey\") + ggfittext::geom_fit_text(contrast = TRUE) +\n",
    "    scale_fill_gradientn(colors=c(\"blue\", \"white\", \"red\"), \n",
    "                        values=scales::rescale(c(y0, 0, y1)),\n",
    "                        limits=c(y0, y1)) +\n",
    "    ggpubr::theme_pubr(base_size = 20, border=TRUE) +\n",
    "    theme(axis.text.x = element_text(angle = 45, hjust=1),\n",
    "          legend.position=\"right\", \n",
    "          axis.title=element_text(face=\"bold\"),\n",
    "          axis.text.y=element_text(face=\"bold\"))\n",
    "save_plot(tile_plot, \"tileplot_enrichment_twas\", 8, 6)\n",
    "tile_plot"
   ]
  },
  {
   "cell_type": "code",
   "execution_count": null,
   "metadata": {},
   "outputs": [],
   "source": [
    "dotplot <- dt %>% filter(str_detect(Comparison, \"TWAS\")) %>%\n",
    "    ggplot(aes(x=`Comparison`, y=Tissue, color=`log2(OR)`, \n",
    "               size=`-log10(FDR)`)) + \n",
    "    geom_point() + ylab('eGenes') + xlab('') + \n",
    "    scale_color_gradientn(colors=c(\"blue\", \"grey\", \"red\"), \n",
    "                          values=scales::rescale(c(y0, 0, y1)),\n",
    "                          limits=c(y0, y1)) +\n",
    "    ggpubr::theme_pubr(base_size=20, border=TRUE) + \n",
    "    theme(axis.text.x = element_text(angle = 45, hjust=1), \n",
    "          legend.position=\"right\",\n",
    "          axis.title=element_text(face=\"bold\"),\n",
    "          axis.text.y=element_text(face=\"bold\"))\n",
    "save_plot(dotplot, \"dotplot_enrichment_twas\", 9, 7)\n",
    "dotplot"
   ]
  },
  {
   "cell_type": "markdown",
   "metadata": {},
   "source": [
    "## Reproducibility Information"
   ]
  },
  {
   "cell_type": "code",
   "execution_count": null,
   "metadata": {},
   "outputs": [],
   "source": [
    "Sys.time()\n",
    "proc.time()\n",
    "options(width = 120)\n",
    "sessioninfo::session_info()"
   ]
  }
 ],
 "metadata": {
  "kernelspec": {
   "display_name": "R",
   "language": "R",
   "name": "ir"
  },
  "language_info": {
   "codemirror_mode": "r",
   "file_extension": ".r",
   "mimetype": "text/x-r-source",
   "name": "R",
   "pygments_lexer": "r",
   "version": "4.0.3"
  }
 },
 "nbformat": 4,
 "nbformat_minor": 4
}
