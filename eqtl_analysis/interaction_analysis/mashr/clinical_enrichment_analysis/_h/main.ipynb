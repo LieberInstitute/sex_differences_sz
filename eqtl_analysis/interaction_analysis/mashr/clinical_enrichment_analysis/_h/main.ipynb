{
 "cells": [
  {
   "cell_type": "markdown",
   "metadata": {},
   "source": [
    "# Examine enrichment in psychiatric disorder TWAS and DEGs"
   ]
  },
  {
   "cell_type": "code",
   "execution_count": null,
   "metadata": {},
   "outputs": [],
   "source": [
    "import functools\n",
    "import numpy as np\n",
    "import pandas as pd\n",
    "from os import environ\n",
    "from pybiomart import Dataset\n",
    "from scipy.stats import fisher_exact\n",
    "from statsmodels.stats.multitest import multipletests"
   ]
  },
  {
   "cell_type": "markdown",
   "metadata": {},
   "source": [
    "## Configuration"
   ]
  },
  {
   "cell_type": "code",
   "execution_count": null,
   "metadata": {},
   "outputs": [],
   "source": [
    "environ['NUMEXPR_MAX_THREADS'] = '32'\n",
    "\n",
    "config = {\n",
    "    \"dlpfc_file\": \"/ceph/users/jbenja13/phase3_paper/phase2/extract_de/_m/dlpfc_diffExpr_szVctl_full.txt\",\n",
    "    \"caud8_file\": \"/ceph/projects/v4_phase3_paper/analysis/differential_expression/_m/genes/diffExpr_szVctl_full.txt\",\n",
    "    \"hippo_file\": \"/ceph/users/jbenja13/phase3_paper/phase2/extract_de/_m/hippo_diffExpr_szVctl_full.txt\",\n",
    "    'cmc_file': '/ceph/projects/v3_phase3_paper/inputs/cmc/_m/CMC_MSSM-Penn-Pitt_DLPFC_mRNA_IlluminaHiSeq2500'+\\\n",
    "    '_gene-adjustedSVA-differentialExpression-includeAncestry-DxSCZ-DE.tsv',\n",
    "    'gandal_de_file': \"/ceph/users/jbenja13/psychENCODE/expression_results/_m/gandal2018_psychENCODE_DE_results.xlsx\",\n",
    "    'twas_asd_file': '/ceph/users/jbenja13/psychENCODE/_m/psychENCODE_twas_asd.csv',\n",
    "    'twas_sz_file': '/ceph/users/jbenja13/psychENCODE/_m/psychENCODE_twas_sz.csv',\n",
    "    'twas_bd_file': '/ceph/users/jbenja13/psychENCODE/_m/psychENCODE_twas_bd.csv',\n",
    "    'twas_bs_file': '/ceph/projects/v4_phase3_paper/analysis/twas/public_twas_comp/_m/TWAS_gene_tissue_summary.csv'\n",
    "}"
   ]
  },
  {
   "cell_type": "markdown",
   "metadata": {},
   "source": [
    "## Functions"
   ]
  },
  {
   "cell_type": "markdown",
   "metadata": {},
   "source": [
    "### Cached"
   ]
  },
  {
   "cell_type": "code",
   "execution_count": null,
   "metadata": {},
   "outputs": [],
   "source": [
    "@functools.lru_cache()\n",
    "def get_database():\n",
    "    dataset = Dataset(name=\"hsapiens_gene_ensembl\", \n",
    "                      host=\"http://www.ensembl.org\",\n",
    "                      use_cache=True)\n",
    "    db = dataset.query(attributes=[\"ensembl_gene_id\", \n",
    "                                   \"external_gene_name\", \n",
    "                                   \"entrezgene_id\"], \n",
    "                       use_attr_names=True).dropna(subset=['entrezgene_id'])\n",
    "    return db\n",
    "\n",
    "\n",
    "@functools.lru_cache()\n",
    "def get_deg(fn):\n",
    "    return pd.read_csv(fn, sep='\\t')\n",
    "\n",
    "\n",
    "@functools.lru_cache()\n",
    "def get_sig_deg(fn):\n",
    "    return get_deg(fn)[(get_deg(fn)[\"adj.P.Val\"] < 0.05)]\n",
    "\n",
    "\n",
    "@functools.lru_cache()\n",
    "def get_gandal_deg():\n",
    "    return pd.read_excel(config[\"gandal_de_file\"], sheet_name=\"DGE\")\n",
    "\n",
    "\n",
    "@functools.lru_cache()\n",
    "def get_eGenes(tissue):\n",
    "    df = pd.read_csv(\"../../summary_table/_m/BrainSeq_sexGenotypes_4features_3regions.txt.gz\", sep='\\t')\n",
    "    df = df[(df[\"Type\"] == \"Gene\") & (df[\"Tissue\"] == tissue)]\\\n",
    "        .drop([\"variant_id\", \"lfsr\"], axis=1).drop_duplicates()\n",
    "    df[\"ensemblID\"] = df.gencodeID.str.replace(\"\\\\..*\", \"\", regex=True)\n",
    "    return df\n",
    "\n",
    "\n",
    "@functools.lru_cache()\n",
    "def get_bs_twas():\n",
    "    return pd.read_csv(config[\"twas_bs_file\"])\n",
    "\n",
    "\n",
    "@functools.lru_cache()\n",
    "def get_gandal_twas(fn):\n",
    "    df = pd.read_csv(fn)\n",
    "    return df[(df[\"TWAS.Bonferroni\"] < 0.05)]"
   ]
  },
  {
   "cell_type": "markdown",
   "metadata": {},
   "source": [
    "### Simple"
   ]
  },
  {
   "cell_type": "code",
   "execution_count": null,
   "metadata": {},
   "outputs": [],
   "source": [
    "def fet(a, b):\n",
    "    \"\"\"\n",
    "    Calculates Fisher's Exact test (fet) with sets a and b in universe u.\n",
    "    Inputs are sets.\n",
    "    \"\"\"\n",
    "    u = set(get_database().ensembl_gene_id)\n",
    "    a = set(a); b = set(b)\n",
    "    yes_a = u.intersection(a)\n",
    "    yes_b = u.intersection(b)\n",
    "    no_a = u - a\n",
    "    no_b = u - b\n",
    "    m = [[len(yes_a.intersection(yes_b)), len(no_a.intersection(yes_b))], \n",
    "         [len(yes_a.intersection(no_b)), len(no_a.intersection(no_b))]]\n",
    "    return fisher_exact(m)"
   ]
  },
  {
   "cell_type": "markdown",
   "metadata": {},
   "source": [
    "## Load eGenes for sex-interacting analysis"
   ]
  },
  {
   "cell_type": "code",
   "execution_count": null,
   "metadata": {},
   "outputs": [],
   "source": [
    "caudate = set(get_eGenes(\"Caudate\").ensemblID)\n",
    "dlpfc = set(get_eGenes(\"DLPFC\").ensemblID)\n",
    "hippocampus = set(get_eGenes(\"Hippocampus\").ensemblID)"
   ]
  },
  {
   "cell_type": "markdown",
   "metadata": {},
   "source": [
    "## Differential expression"
   ]
  },
  {
   "cell_type": "markdown",
   "metadata": {},
   "source": [
    "### BrainSeq SZ case vs control"
   ]
  },
  {
   "cell_type": "code",
   "execution_count": null,
   "metadata": {},
   "outputs": [],
   "source": [
    "bs_caudate_degs = set(get_sig_deg(config[\"caud8_file\"]).ensemblID)\n",
    "bs_dlpfc_degs = set(get_sig_deg(config[\"dlpfc_file\"]).ensemblID)\n",
    "bs_hippo_degs = set(get_sig_deg(config[\"hippo_file\"]).ensemblID)"
   ]
  },
  {
   "cell_type": "markdown",
   "metadata": {},
   "source": [
    "### CommonMind SZ, DLPFC"
   ]
  },
  {
   "cell_type": "code",
   "execution_count": null,
   "metadata": {},
   "outputs": [],
   "source": [
    "cmc_dlpfc_degs = set(get_sig_deg(config[\"cmc_file\"]).genes)"
   ]
  },
  {
   "cell_type": "markdown",
   "metadata": {},
   "source": [
    "### PsychENCODE (Gandal)"
   ]
  },
  {
   "cell_type": "code",
   "execution_count": null,
   "metadata": {},
   "outputs": [],
   "source": [
    "psy_sz = set(get_gandal_deg()[(get_gandal_deg()[\"SCZ.fdr\"] < 0.05)].ensembl_gene_id)\n",
    "psy_asd = set(get_gandal_deg()[(get_gandal_deg()[\"ASD.fdr\"] < 0.05)].ensembl_gene_id)\n",
    "psy_bd = set(get_gandal_deg()[(get_gandal_deg()[\"BD.fdr\"] < 0.05)].ensembl_gene_id)"
   ]
  },
  {
   "cell_type": "markdown",
   "metadata": {},
   "source": [
    "## TWAS"
   ]
  },
  {
   "cell_type": "markdown",
   "metadata": {},
   "source": [
    "### BrainSeq"
   ]
  },
  {
   "cell_type": "code",
   "execution_count": null,
   "metadata": {},
   "outputs": [],
   "source": [
    "bs_caudate_twas = set(get_bs_twas()[(get_bs_twas()[\"Caudate_FDR\"] < 0.05)].Geneid)\n",
    "bs_dlpfc_twas = set(get_bs_twas()[(get_bs_twas()[\"DLPFC_FDR\"] < 0.05)].Geneid)\n",
    "bs_hippo_twas = set(get_bs_twas()[(get_bs_twas()[\"HIPPO_FDR\"] < 0.05)].Geneid)"
   ]
  },
  {
   "cell_type": "markdown",
   "metadata": {},
   "source": [
    "### PsychENCODE"
   ]
  },
  {
   "cell_type": "code",
   "execution_count": null,
   "metadata": {},
   "outputs": [],
   "source": [
    "psy_asd_twas = set(get_gandal_twas(config[\"twas_asd_file\"]).GeneID)\n",
    "psy_sz_twas = set(get_gandal_twas(config[\"twas_sz_file\"]).GeneID)\n",
    "psy_bd_twas = set(get_gandal_twas(config[\"twas_bd_file\"]).ID)"
   ]
  },
  {
   "cell_type": "markdown",
   "metadata": {},
   "source": [
    "## Enrichment analysis"
   ]
  },
  {
   "cell_type": "code",
   "execution_count": null,
   "metadata": {},
   "outputs": [],
   "source": [
    "egenes_dict = {\"Caudate\": caudate, \"DLPFC\": dlpfc, \"Hippocampus\": hippocampus}\n",
    "comp_dict = {\"BS_Caudate_DEG\": bs_caudate_degs, \"BS_DLPFC_DEG\": bs_dlpfc_degs, \n",
    "             \"BS_Hippocampus_DEG\": bs_hippo_degs, \"CMC_DLPFC_DEG\": cmc_dlpfc_degs, \n",
    "             \"PSY_SZ_DEG\": psy_sz, \"PSY_ASD_DEG\": psy_asd, \"PSY_BD_DEG\": psy_bd,\n",
    "             \"BS_Caudate_TWAS\": bs_caudate_twas, \"BS_DLPFC_TWAS\": bs_dlpfc_twas, \n",
    "             \"BS_Hippocampus_TWAS\": bs_hippo_twas, \"PSY_SZ_TWAS\": psy_sz_twas, \n",
    "             \"PSY_ASD_TWAS\": psy_asd_twas, \"PSY_BD_TWAS\": psy_bd_twas}\n",
    "comp_list = [\"BS_Caudate_DEG\", \"BS_DLPFC_DEG\", \"BS_Hippocampus_DEG\", \n",
    "             \"CMC_DLPFC_DEG\", \"PSY_SZ_DEG\", \"PSY_ASD_DEG\", \"PSY_BD_DEG\", \n",
    "             \"BS_Caudate_TWAS\", \"BS_DLPFC_TWAS\", \"BS_Hippocampus_TWAS\", \n",
    "             \"PSY_SZ_TWAS\", \"PSY_ASD_TWAS\", \"PSY_BD_TWAS\"]\n",
    "\n",
    "or_lt = []; pval_lt = []; tissue_lt = []; comparison_lt = [];\n",
    "for tissue in [\"Caudate\", \"DLPFC\", \"Hippocampus\"]:\n",
    "    for comp in comp_list:\n",
    "        oddratio, pvals = fet(egenes_dict[tissue], comp_dict[comp])\n",
    "        or_lt.append(oddratio); pval_lt.append(pvals);\n",
    "        tissue_lt.append(tissue); comparison_lt.append(comp)\n",
    "fdr = multipletests(pval_lt, method='fdr_bh')[1]\n",
    "dt = pd.DataFrame({\"Tissue\": tissue_lt, \"Comparison\": comparison_lt, \"OR\": or_lt, \n",
    "                   \"P-value\": pval_lt, \"FDR\": fdr})"
   ]
  },
  {
   "cell_type": "code",
   "execution_count": null,
   "metadata": {},
   "outputs": [],
   "source": [
    "dt[(dt[\"FDR\"] < 0.05)]"
   ]
  },
  {
   "cell_type": "code",
   "execution_count": null,
   "metadata": {},
   "outputs": [],
   "source": [
    "dt.to_csv(\"clincial_phenotypes_enrichment_analysis_3brainRegions.tsv\", sep='\\t', index=False)"
   ]
  }
 ],
 "metadata": {
  "kernelspec": {
   "display_name": "Python 3",
   "language": "python",
   "name": "python3"
  },
  "language_info": {
   "codemirror_mode": {
    "name": "ipython",
    "version": 3
   },
   "file_extension": ".py",
   "mimetype": "text/x-python",
   "name": "python",
   "nbconvert_exporter": "python",
   "pygments_lexer": "ipython3",
   "version": "3.9.1"
  }
 },
 "nbformat": 4,
 "nbformat_minor": 4
}
