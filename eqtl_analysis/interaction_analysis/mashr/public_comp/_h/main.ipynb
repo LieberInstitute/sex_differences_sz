{
 "cells": [
  {
   "cell_type": "markdown",
   "metadata": {},
   "source": [
    "# Examine overlaps with published data"
   ]
  },
  {
   "cell_type": "code",
   "execution_count": null,
   "metadata": {},
   "outputs": [],
   "source": [
    "import pandas as pd\n",
    "import numpy as np"
   ]
  },
  {
   "cell_type": "markdown",
   "metadata": {},
   "source": [
    "## Public si-eQTL analysis"
   ]
  },
  {
   "cell_type": "code",
   "execution_count": null,
   "metadata": {},
   "outputs": [],
   "source": [
    "shen = [\"GDAP2\", \"AIM2\", \"SLAMF6\", \"RLF\", \"ATG4C\", \"FUT7\",\n",
    "        \"TMEM218\", \"C11orf74\", \"RAB35\", \"TMEM5\", \"HNRNPK\",\n",
    "        \"CDCA3\", \"ERCC5\", \"GJB6\", \"SNTB2\", \"SPNS3\", \n",
    "        \"XAF1\", \"RBBP8\", \"RUFY4\", \"CA2\", \"RAPGEF1\"]\n",
    "print(\"Shen et al.:\")\n",
    "print(len(shen))\n",
    "\n",
    "kukurba = [\"NOD2\", \"WDR36\", \"BSCL2\", \"MAP7D3\", \"RHOXF1\", \"DNAH1\"]\n",
    "print(\"Kukurba et al.:\")\n",
    "print(len(kukurba))\n",
    "\n",
    "yao = [\"NOD2\", \"HLA-DRB5\", \"HLA-DRB5\", \"KIAA0586\", \"PPP2R5A\", \n",
    "       \"TSNAXIP1\", \"MUT\", \"GRIK2\", \"C15orf37\", \"LIMA1\", \"IL6ST\", \n",
    "       \"HCG8\", \"BLOC1S3\", \"NKX3-1\", \"CXorf23\"]\n",
    "print(\"Yao et al.:\")\n",
    "print(len(np.unique(yao)))\n",
    "print(\"Total of Yao + Kukurba:\")\n",
    "len(set(yao) | set(kukurba))"
   ]
  },
  {
   "cell_type": "markdown",
   "metadata": {},
   "source": [
    "## Load BrainSeq si-eQTL results"
   ]
  },
  {
   "cell_type": "markdown",
   "metadata": {},
   "source": [
    "### Interacting variant-gene pairs"
   ]
  },
  {
   "cell_type": "code",
   "execution_count": null,
   "metadata": {},
   "outputs": [],
   "source": [
    "bs0 = pd.read_csv(\"../../summary_table/_m/BrainSeq_sexGenotypes_4features_3regions.txt.gz\", sep='\\t')\n",
    "bs0[\"ensembl_gene_id\"] = bs0.gene_id.str.replace(\"\\\\..*\", \"\", regex=True)\n",
    "biomart = pd.read_csv(\"../../../residualized_expression/final_plot_eqtls/_h/biomart.csv\", index_col=0)\n",
    "bs = bs0.merge(biomart, on=\"ensembl_gene_id\").drop_duplicates(subset=\"gene_id\")\n",
    "print(bs.shape)\n",
    "bs.tail(2)"
   ]
  },
  {
   "cell_type": "code",
   "execution_count": null,
   "metadata": {},
   "outputs": [],
   "source": [
    "bs[(bs['external_gene_name'].isin(shen))].to_csv(\"siEQTL_Shen_comparison.csv\", index=False)"
   ]
  },
  {
   "cell_type": "code",
   "execution_count": null,
   "metadata": {},
   "outputs": [],
   "source": [
    "bs[(bs['external_gene_name'].isin(kukurba))]"
   ]
  },
  {
   "cell_type": "code",
   "execution_count": null,
   "metadata": {},
   "outputs": [],
   "source": [
    "bs[(bs['external_gene_name'].isin(yao))]"
   ]
  },
  {
   "cell_type": "code",
   "execution_count": null,
   "metadata": {},
   "outputs": [],
   "source": [
    "bs[(bs['external_gene_name'].isin(shen+kukurba+yao))]"
   ]
  },
  {
   "cell_type": "markdown",
   "metadata": {},
   "source": [
    "### eigenMT corrected p-values"
   ]
  },
  {
   "cell_type": "code",
   "execution_count": null,
   "metadata": {},
   "outputs": [],
   "source": [
    "df0 = pd.read_csv(\"../../../../summary_table/_m/Brainseq_sex_interacting_4features_3regions.eFeatures.txt.gz\", sep='\\t')\n",
    "df = df0[(df0[\"Type\"] == \"Gene\")].drop_duplicates(subset=\"gene_id\").drop(\"Tissue\", axis=1)\n",
    "df[\"ensembl_gene_id\"] = df.gene_id.str.replace(\"\\\\..*\", \"\", regex=True)\n",
    "dft = df.merge(biomart, on=\"ensembl_gene_id\")\n",
    "print(dft.shape)\n",
    "dft.head(2)"
   ]
  },
  {
   "cell_type": "code",
   "execution_count": null,
   "metadata": {},
   "outputs": [],
   "source": [
    "## Not all genes significant via mashr are also significant with eigenMT\n",
    "len(set(bs.gene_id) & set(dft.gene_id))"
   ]
  },
  {
   "cell_type": "code",
   "execution_count": null,
   "metadata": {},
   "outputs": [],
   "source": [
    "dft[(dft['external_gene_name'].isin(shen))]"
   ]
  },
  {
   "cell_type": "code",
   "execution_count": null,
   "metadata": {},
   "outputs": [],
   "source": [
    "dft[(dft['external_gene_name'].isin(shen)) & (dft[\"eigenMT_BH\"] < 0.25)]"
   ]
  },
  {
   "cell_type": "code",
   "execution_count": null,
   "metadata": {},
   "outputs": [],
   "source": [
    "dft[(dft['external_gene_name'].isin(kukurba)) & (dft[\"eigenMT_BH\"] < 0.25)]"
   ]
  },
  {
   "cell_type": "code",
   "execution_count": null,
   "metadata": {},
   "outputs": [],
   "source": [
    "dft[(dft['external_gene_name'].isin(yao)) & (dft[\"eigenMT_BH\"] < 0.25)]"
   ]
  },
  {
   "cell_type": "markdown",
   "metadata": {},
   "source": [
    "## GTEx comparison"
   ]
  },
  {
   "cell_type": "code",
   "execution_count": null,
   "metadata": {},
   "outputs": [],
   "source": [
    "gtex = pd.read_csv(\"/ceph/users/jbenja13/projects/sex_sz_ria/input/gtex_v8/\"+\\\n",
    "                   \"_m/GTEx_Analysis_v8_sbeQTLs/GTEx_Analysis_v8_sbeQTLs.txt\", \n",
    "                   sep='\\t')\n",
    "gtex.iloc[0:2, 0:10]"
   ]
  },
  {
   "cell_type": "code",
   "execution_count": null,
   "metadata": {},
   "outputs": [],
   "source": [
    "gtex.iloc[0:2, 10:14]"
   ]
  },
  {
   "cell_type": "code",
   "execution_count": null,
   "metadata": {},
   "outputs": [],
   "source": [
    "## qval threshold equal to number of published sb-eQTL\n",
    "gtex[(gtex['qval'] < 0.25) & (gtex[\"Tissue\"].str.contains(\"Brain\"))]\\\n",
    "    .loc[:, [\"ensembl_gene_id\", \"hugo_gene_id\", \"Tissue\", \"pvals.corrected\", 'qval']].head(10)"
   ]
  },
  {
   "cell_type": "code",
   "execution_count": null,
   "metadata": {},
   "outputs": [],
   "source": [
    "## qval threshold equal to number of published sb-eQTL\n",
    "gtex[(gtex['qval'] < 0.25) & (gtex[\"Tissue\"].str.contains(\"Whole\"))]\\\n",
    "    .loc[:, [\"ensembl_gene_id\", \"hugo_gene_id\", \"Tissue\", \"pvals.corrected\", 'qval']].head(10)"
   ]
  },
  {
   "cell_type": "code",
   "execution_count": null,
   "metadata": {},
   "outputs": [],
   "source": [
    "gtex_sig = gtex[(gtex['qval'] < 0.25)]\n",
    "gtex_sig.shape"
   ]
  },
  {
   "cell_type": "code",
   "execution_count": null,
   "metadata": {},
   "outputs": [],
   "source": [
    "gtex_sig.head(10)"
   ]
  },
  {
   "cell_type": "markdown",
   "metadata": {},
   "source": [
    "### mashr"
   ]
  },
  {
   "cell_type": "code",
   "execution_count": null,
   "metadata": {},
   "outputs": [],
   "source": [
    "gtex_overlap = bs[(bs['gene_id'].isin(gtex_sig.ensembl_gene_id))].drop_duplicates()\n",
    "print(gtex_overlap.shape)\n",
    "gtex_overlap"
   ]
  },
  {
   "cell_type": "code",
   "execution_count": null,
   "metadata": {},
   "outputs": [],
   "source": [
    "gtex_overlap.shape[0]/bs.shape[0] * 100"
   ]
  },
  {
   "cell_type": "code",
   "execution_count": null,
   "metadata": {},
   "outputs": [],
   "source": [
    "gtex_sig[(gtex_sig['ensembl_gene_id'].isin(bs.gene_id))]"
   ]
  },
  {
   "cell_type": "code",
   "execution_count": null,
   "metadata": {},
   "outputs": [],
   "source": [
    "gtex_sig[(gtex_sig['ensembl_gene_id'].isin(bs.gene_id))]\\\n",
    "    .to_csv(\"siEQTL_gtex_comparison.csv\", index=False)"
   ]
  },
  {
   "cell_type": "markdown",
   "metadata": {},
   "source": [
    "### eigenMT corrected"
   ]
  },
  {
   "cell_type": "code",
   "execution_count": null,
   "metadata": {},
   "outputs": [],
   "source": [
    "gtex_overlap = dft[(dft['gene_id'].isin(gtex_sig.ensembl_gene_id)) & (dft[\"BF\"] < 0.05)].drop_duplicates()\n",
    "print(gtex_overlap.shape)\n",
    "gtex_overlap.sort_values(\"BF\").head()"
   ]
  },
  {
   "cell_type": "code",
   "execution_count": null,
   "metadata": {},
   "outputs": [],
   "source": [
    "gtex_overlap = dft[(dft['gene_id'].isin(gtex_sig.ensembl_gene_id))].drop_duplicates()\n",
    "print(gtex_overlap.shape)\n",
    "gtex_overlap.sort_values(\"BF\").head()"
   ]
  },
  {
   "cell_type": "code",
   "execution_count": null,
   "metadata": {},
   "outputs": [],
   "source": [
    "gtex_overlap.shape[0]/dft.shape[0] * 100"
   ]
  },
  {
   "cell_type": "code",
   "execution_count": null,
   "metadata": {},
   "outputs": [],
   "source": []
  }
 ],
 "metadata": {
  "kernelspec": {
   "display_name": "Python 3",
   "language": "python",
   "name": "python3"
  },
  "language_info": {
   "codemirror_mode": {
    "name": "ipython",
    "version": 3
   },
   "file_extension": ".py",
   "mimetype": "text/x-python",
   "name": "python",
   "nbconvert_exporter": "python",
   "pygments_lexer": "ipython3",
   "version": "3.9.1"
  }
 },
 "nbformat": 4,
 "nbformat_minor": 4
}
