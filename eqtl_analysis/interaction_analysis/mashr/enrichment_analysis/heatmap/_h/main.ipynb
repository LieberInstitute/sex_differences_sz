{
 "cells": [
  {
   "cell_type": "markdown",
   "metadata": {},
   "source": [
    "# Clustered dotplots"
   ]
  },
  {
   "cell_type": "code",
   "execution_count": null,
   "metadata": {},
   "outputs": [],
   "source": [
    "library(ggplot2)\n",
    "library(tidyverse)"
   ]
  },
  {
   "cell_type": "code",
   "execution_count": null,
   "metadata": {},
   "outputs": [],
   "source": [
    "save_plot <- function(p, fn, w, h){\n",
    "    for(ext in c(\".pdf\", \".png\", \".svg\")){\n",
    "        ggsave(filename=paste0(fn,ext), plot=p, width=w, height=h)\n",
    "    }\n",
    "}"
   ]
  },
  {
   "cell_type": "markdown",
   "metadata": {},
   "source": [
    "## Get data"
   ]
  },
  {
   "cell_type": "code",
   "execution_count": null,
   "metadata": {},
   "outputs": [],
   "source": [
    "dt <- data.table::fread(\"../../_m/clincial_phenotypes_enrichment_analysis_3brainRegions.tsv\")\n",
    "dt %>% head(2)"
   ]
  },
  {
   "cell_type": "code",
   "execution_count": null,
   "metadata": {},
   "outputs": [],
   "source": [
    "dotplot <- dt %>% filter(str_detect(Comparison, \"DEG\")) %>%\n",
    "    mutate(`-log10(FDR)` = -log10(FDR), `OR Percentile` = OR / (1+OR)) %>% \n",
    "    ggplot(aes(x=`Comparison`, y=Tissue, color=`OR Percentile`, \n",
    "               size=`-log10(FDR)`)) + \n",
    "    geom_point() + ylab('eGenes') + xlab('') + \n",
    "    scale_color_gradient2(midpoint = 0.5, low = \"blue\", mid = \"white\",\n",
    "                          high = \"red\", space = \"Lab\", limits=c(0,1)) +\n",
    "    ggpubr::theme_pubr(base_size=20, border=TRUE) + \n",
    "    theme(axis.text.x = element_text(angle = 45, hjust=1), \n",
    "          legend.position=\"right\", \n",
    "          axis.title=element_text(face=\"bold\"),\n",
    "          axis.text.y=element_text(face=\"bold\"))\n",
    "save_plot(dotplot, \"dotplot_enrichment_deg\", 10, 7)\n",
    "dotplot"
   ]
  },
  {
   "cell_type": "code",
   "execution_count": null,
   "metadata": {},
   "outputs": [],
   "source": [
    "dotplot <- dt %>% filter(str_detect(Comparison, \"TWAS\")) %>%\n",
    "    mutate(`-log10(FDR)` = -log10(FDR), `OR Percentile` = OR / (1+OR)) %>% \n",
    "    ggplot(aes(x=`Comparison`, y=Tissue, color=`OR Percentile`, \n",
    "               size=`-log10(FDR)`)) + \n",
    "    geom_point() + ylab('eGenes') + xlab('') + \n",
    "    scale_color_gradient2(midpoint = 0.5, low = \"blue\", mid = \"white\",\n",
    "                          high = \"red\", space = \"Lab\", limits=c(0,1)) +\n",
    "    #scale_size_continuous(limits=c(0, 10)) + \n",
    "    ggpubr::theme_pubr(base_size=20, border=TRUE) + \n",
    "    theme(axis.text.x = element_text(angle = 45, hjust=1), \n",
    "          legend.position=\"right\",\n",
    "          axis.title=element_text(face=\"bold\"),\n",
    "          axis.text.y=element_text(face=\"bold\"))\n",
    "save_plot(dotplot, \"dotplot_enrichment_twas\", 9, 7)\n",
    "dotplot"
   ]
  },
  {
   "cell_type": "markdown",
   "metadata": {},
   "source": [
    "## Reproducibility Information"
   ]
  },
  {
   "cell_type": "code",
   "execution_count": null,
   "metadata": {},
   "outputs": [],
   "source": [
    "Sys.time()\n",
    "proc.time()\n",
    "options(width = 120)\n",
    "sessioninfo::session_info()"
   ]
  }
 ],
 "metadata": {
  "kernelspec": {
   "display_name": "R",
   "language": "R",
   "name": "ir"
  },
  "language_info": {
   "codemirror_mode": "r",
   "file_extension": ".r",
   "mimetype": "text/x-r-source",
   "name": "R",
   "pygments_lexer": "r",
   "version": "4.0.3"
  }
 },
 "nbformat": 4,
 "nbformat_minor": 4
}
