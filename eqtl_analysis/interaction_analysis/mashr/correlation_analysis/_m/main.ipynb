{
 "cells": [
  {
   "cell_type": "markdown",
   "metadata": {},
   "source": [
    "# Examine tissue specific genes for correlation with gene expression or cell type proportion"
   ]
  },
  {
   "cell_type": "code",
   "execution_count": 1,
   "metadata": {
    "execution": {
     "iopub.execute_input": "2021-09-13T17:56:52.545931Z",
     "iopub.status.busy": "2021-09-13T17:56:52.541471Z",
     "iopub.status.idle": "2021-09-13T17:56:53.059219Z",
     "shell.execute_reply": "2021-09-13T17:56:53.057547Z"
    }
   },
   "outputs": [
    {
     "name": "stderr",
     "output_type": "stream",
     "text": [
      "\n",
      "Attaching package: ‘dplyr’\n",
      "\n",
      "\n",
      "The following objects are masked from ‘package:stats’:\n",
      "\n",
      "    filter, lag\n",
      "\n",
      "\n",
      "The following objects are masked from ‘package:base’:\n",
      "\n",
      "    intersect, setdiff, setequal, union\n",
      "\n",
      "\n"
     ]
    }
   ],
   "source": [
    "library(dplyr)"
   ]
  },
  {
   "cell_type": "markdown",
   "metadata": {},
   "source": [
    "## Functions"
   ]
  },
  {
   "cell_type": "code",
   "execution_count": 2,
   "metadata": {
    "execution": {
     "iopub.execute_input": "2021-09-13T17:56:53.108939Z",
     "iopub.status.busy": "2021-09-13T17:56:53.064341Z",
     "iopub.status.idle": "2021-09-13T17:56:53.150367Z",
     "shell.execute_reply": "2021-09-13T17:56:53.148978Z"
    }
   },
   "outputs": [],
   "source": [
    "get_tpm <- function(){\n",
    "    cc_file = paste0(\"/ceph/projects/v4_phase3_paper/inputs/counts/\",\n",
    "                     \"text_files_counts/tpm/_m/caudate/gene/log2tpm.csv\")\n",
    "    dd_file = paste0(\"/ceph/projects/v4_phase3_paper/inputs/counts/\",\n",
    "                     \"text_files_counts/tpm/_m/dlpfc/gene/log2tpm.csv\")\n",
    "    hh_file = paste0(\"/ceph/projects/v4_phase3_paper/inputs/counts/\",\n",
    "                     \"text_files_counts/tpm/_m/hippocampus/gene/log2tpm.csv\")\n",
    "    cc = data.table::fread(cc_file) %>% tibble::column_to_rownames(\"names\") %>%\n",
    "        t %>% as.data.frame %>% tibble::rownames_to_column(\"RNum\")\n",
    "    dd = data.table::fread(dd_file) %>% tibble::column_to_rownames(\"names\") %>%\n",
    "        t %>% as.data.frame %>% tibble::rownames_to_column(\"RNum\")\n",
    "    hh = data.table::fread(hh_file) %>% tibble::column_to_rownames(\"names\") %>%\n",
    "        t %>% as.data.frame %>% tibble::rownames_to_column(\"RNum\")\n",
    "    return(bind_rows(cc, hh, dd))\n",
    "}\n",
    "memTPM <- memoise::memoise(get_tpm)\n",
    "\n",
    "get_pheno <- function(){\n",
    "    filename = \"/ceph/projects/v4_phase3_paper/inputs/phenotypes/_m/merged_phenotypes.csv\"\n",
    "    df = data.table::fread(filename) %>% \n",
    "        filter(Age > 13, Race %in% c(\"AA\", \"EA\"), Dx %in% c(\"CTL\", \"SZ\"))\n",
    "    return(df)\n",
    "}\n",
    "memPHENO <- memoise::memoise(get_pheno)"
   ]
  },
  {
   "cell_type": "markdown",
   "metadata": {},
   "source": [
    "# Extract tissue specific eGenes"
   ]
  },
  {
   "cell_type": "code",
   "execution_count": 3,
   "metadata": {
    "execution": {
     "iopub.execute_input": "2021-09-13T17:56:53.157762Z",
     "iopub.status.busy": "2021-09-13T17:56:53.155762Z",
     "iopub.status.idle": "2021-09-13T17:56:53.350285Z",
     "shell.execute_reply": "2021-09-13T17:56:53.348755Z"
    }
   },
   "outputs": [
    {
     "data": {
      "text/html": [
       "<table class=\"dataframe\">\n",
       "<caption>A data.table: 2 × 5</caption>\n",
       "<thead>\n",
       "\t<tr><th scope=col>gene_id</th><th scope=col>variant_id</th><th scope=col>Caudate</th><th scope=col>DLPFC</th><th scope=col>Hippocampus</th></tr>\n",
       "\t<tr><th scope=col>&lt;chr&gt;</th><th scope=col>&lt;chr&gt;</th><th scope=col>&lt;int&gt;</th><th scope=col>&lt;int&gt;</th><th scope=col>&lt;int&gt;</th></tr>\n",
       "</thead>\n",
       "<tbody>\n",
       "\t<tr><td>ENSG00000008018.8 </td><td>chr6:170116315:G:A</td><td>1</td><td>0</td><td>0</td></tr>\n",
       "\t<tr><td>ENSG00000027697.13</td><td>chr6:137196751:G:T</td><td>1</td><td>0</td><td>0</td></tr>\n",
       "</tbody>\n",
       "</table>\n"
      ],
      "text/latex": [
       "A data.table: 2 × 5\n",
       "\\begin{tabular}{lllll}\n",
       " gene\\_id & variant\\_id & Caudate & DLPFC & Hippocampus\\\\\n",
       " <chr> & <chr> & <int> & <int> & <int>\\\\\n",
       "\\hline\n",
       "\t ENSG00000008018.8  & chr6:170116315:G:A & 1 & 0 & 0\\\\\n",
       "\t ENSG00000027697.13 & chr6:137196751:G:T & 1 & 0 & 0\\\\\n",
       "\\end{tabular}\n"
      ],
      "text/markdown": [
       "\n",
       "A data.table: 2 × 5\n",
       "\n",
       "| gene_id &lt;chr&gt; | variant_id &lt;chr&gt; | Caudate &lt;int&gt; | DLPFC &lt;int&gt; | Hippocampus &lt;int&gt; |\n",
       "|---|---|---|---|---|\n",
       "| ENSG00000008018.8  | chr6:170116315:G:A | 1 | 0 | 0 |\n",
       "| ENSG00000027697.13 | chr6:137196751:G:T | 1 | 0 | 0 |\n",
       "\n"
      ],
      "text/plain": [
       "  gene_id            variant_id         Caudate DLPFC Hippocampus\n",
       "1 ENSG00000008018.8  chr6:170116315:G:A 1       0     0          \n",
       "2 ENSG00000027697.13 chr6:137196751:G:T 1       0     0          "
      ]
     },
     "metadata": {},
     "output_type": "display_data"
    }
   ],
   "source": [
    "eFeature = data.table::fread(\"../../_m/genes/significant_geneSNP_pairs_3tissues.tsv\") %>%\n",
    "    filter(N_Regions_Shared == 1) %>% select(-N_Regions_Shared)\n",
    "eFeature %>% head(2)"
   ]
  },
  {
   "cell_type": "markdown",
   "metadata": {},
   "source": [
    "## Prepare data"
   ]
  },
  {
   "cell_type": "code",
   "execution_count": 4,
   "metadata": {
    "execution": {
     "iopub.execute_input": "2021-09-13T17:56:53.358099Z",
     "iopub.status.busy": "2021-09-13T17:56:53.355610Z",
     "iopub.status.idle": "2021-09-13T17:57:43.344654Z",
     "shell.execute_reply": "2021-09-13T17:57:43.342979Z"
    }
   },
   "outputs": [
    {
     "data": {
      "text/html": [
       "<style>\n",
       ".list-inline {list-style: none; margin:0; padding: 0}\n",
       ".list-inline>li {display: inline-block}\n",
       ".list-inline>li:not(:last-child)::after {content: \"\\00b7\"; padding: 0 .5ex}\n",
       "</style>\n",
       "<ol class=list-inline><li>1173</li><li>49603</li></ol>\n"
      ],
      "text/latex": [
       "\\begin{enumerate*}\n",
       "\\item 1173\n",
       "\\item 49603\n",
       "\\end{enumerate*}\n"
      ],
      "text/markdown": [
       "1. 1173\n",
       "2. 49603\n",
       "\n",
       "\n"
      ],
      "text/plain": [
       "[1]  1173 49603"
      ]
     },
     "metadata": {},
     "output_type": "display_data"
    }
   ],
   "source": [
    "df = memPHENO() %>% inner_join(memTPM(), by=\"RNum\")\n",
    "df %>% dim"
   ]
  },
  {
   "cell_type": "markdown",
   "metadata": {},
   "source": [
    "## Linear model for expression and brain region"
   ]
  },
  {
   "cell_type": "code",
   "execution_count": 5,
   "metadata": {
    "execution": {
     "iopub.execute_input": "2021-09-13T17:57:43.352259Z",
     "iopub.status.busy": "2021-09-13T17:57:43.350883Z",
     "iopub.status.idle": "2021-09-13T17:57:48.390767Z",
     "shell.execute_reply": "2021-09-13T17:57:48.389692Z"
    }
   },
   "outputs": [
    {
     "name": "stdout",
     "output_type": "stream",
     "text": [
      "[1] 0\n"
     ]
    },
    {
     "data": {
      "text/html": [
       "<table class=\"dataframe\">\n",
       "<caption>A data.frame: 2 × 2</caption>\n",
       "<thead>\n",
       "\t<tr><th></th><th scope=col>gene_id</th><th scope=col>p_values</th></tr>\n",
       "\t<tr><th></th><th scope=col>&lt;chr&gt;</th><th scope=col>&lt;dbl&gt;</th></tr>\n",
       "</thead>\n",
       "<tbody>\n",
       "\t<tr><th scope=row>1</th><td>ENSG00000008018.8 </td><td>0</td></tr>\n",
       "\t<tr><th scope=row>2</th><td>ENSG00000027697.13</td><td>0</td></tr>\n",
       "</tbody>\n",
       "</table>\n"
      ],
      "text/latex": [
       "A data.frame: 2 × 2\n",
       "\\begin{tabular}{r|ll}\n",
       "  & gene\\_id & p\\_values\\\\\n",
       "  & <chr> & <dbl>\\\\\n",
       "\\hline\n",
       "\t1 & ENSG00000008018.8  & 0\\\\\n",
       "\t2 & ENSG00000027697.13 & 0\\\\\n",
       "\\end{tabular}\n"
      ],
      "text/markdown": [
       "\n",
       "A data.frame: 2 × 2\n",
       "\n",
       "| <!--/--> | gene_id &lt;chr&gt; | p_values &lt;dbl&gt; |\n",
       "|---|---|---|\n",
       "| 1 | ENSG00000008018.8  | 0 |\n",
       "| 2 | ENSG00000027697.13 | 0 |\n",
       "\n"
      ],
      "text/plain": [
       "  gene_id            p_values\n",
       "1 ENSG00000008018.8  0       \n",
       "2 ENSG00000027697.13 0       "
      ]
     },
     "metadata": {},
     "output_type": "display_data"
    }
   ],
   "source": [
    "pvals = c(); genes = c()\n",
    "for(gene_id in eFeature$gene_id){\n",
    "    model = paste(paste0(gene_id, \"~ Region*Sex\"), \"Dx + Age + mitoRate + rRNA_rate\",\n",
    "                  \"overallMapRate + RIN + ERCCsumLogErr + totalAssignedGene + snpPC1\",\n",
    "                  \"snpPC2 + snpPC3\", sep=\" + \")\n",
    "    fitted = anova(lm(model, data=df))\n",
    "    #fit_lm = aov(lm(model, data=df))\n",
    "    pvals = c(pvals, fitted[\"Region\", \"Pr(>F)\"])\n",
    "    genes = c(genes, gene_id)\n",
    "}\n",
    "pval_df = data.frame(\"gene_id\"=genes, \"p_values\"=pvals)\n",
    "print(sum(pvals > 0.05))\n",
    "pval_df %>% head(2)"
   ]
  },
  {
   "cell_type": "markdown",
   "metadata": {},
   "source": [
    "## Comparison of expression"
   ]
  },
  {
   "cell_type": "code",
   "execution_count": 6,
   "metadata": {
    "execution": {
     "iopub.execute_input": "2021-09-13T17:57:48.396939Z",
     "iopub.status.busy": "2021-09-13T17:57:48.395669Z",
     "iopub.status.idle": "2021-09-13T17:57:48.671197Z",
     "shell.execute_reply": "2021-09-13T17:57:48.669976Z"
    }
   },
   "outputs": [
    {
     "data": {
      "text/html": [
       "<table class=\"dataframe\">\n",
       "<caption>A data.frame: 2 × 14</caption>\n",
       "<thead>\n",
       "\t<tr><th></th><th scope=col>gene_id</th><th scope=col>Caudate_Expression</th><th scope=col>DLPFC_Expression</th><th scope=col>Hippocampus_Expression</th><th scope=col>Caudate_eQTL</th><th scope=col>DLPFC_eQTL</th><th scope=col>Hippocampus_eQTL</th><th scope=col>p_values</th><th scope=col>Max Expression</th><th scope=col>Min Expression</th><th scope=col>Mean Expresion</th><th scope=col>Ratio (DLPFC / Caudate)</th><th scope=col>Ratio (Hippocampus / Caudate)</th><th scope=col>Ratio (Hippocampus / DLPFC)</th></tr>\n",
       "\t<tr><th></th><th scope=col>&lt;chr&gt;</th><th scope=col>&lt;dbl&gt;</th><th scope=col>&lt;dbl&gt;</th><th scope=col>&lt;dbl&gt;</th><th scope=col>&lt;int&gt;</th><th scope=col>&lt;int&gt;</th><th scope=col>&lt;int&gt;</th><th scope=col>&lt;dbl&gt;</th><th scope=col>&lt;chr&gt;</th><th scope=col>&lt;chr&gt;</th><th scope=col>&lt;dbl&gt;</th><th scope=col>&lt;dbl&gt;</th><th scope=col>&lt;dbl&gt;</th><th scope=col>&lt;dbl&gt;</th></tr>\n",
       "</thead>\n",
       "<tbody>\n",
       "\t<tr><th scope=row>1</th><td>ENSG00000008018.8 </td><td>7.083493</td><td>5.471561</td><td>4.543546</td><td>1</td><td>0</td><td>0</td><td>0</td><td>Caudate</td><td>Hippocampus</td><td>5.699533</td><td>0.7724383</td><td>0.6414273</td><td>0.8303930</td></tr>\n",
       "\t<tr><th scope=row>2</th><td>ENSG00000027697.13</td><td>6.204708</td><td>4.622967</td><td>4.164173</td><td>1</td><td>0</td><td>0</td><td>0</td><td>Caudate</td><td>Hippocampus</td><td>4.997283</td><td>0.7450741</td><td>0.6711311</td><td>0.9007576</td></tr>\n",
       "</tbody>\n",
       "</table>\n"
      ],
      "text/latex": [
       "A data.frame: 2 × 14\n",
       "\\begin{tabular}{r|llllllllllllll}\n",
       "  & gene\\_id & Caudate\\_Expression & DLPFC\\_Expression & Hippocampus\\_Expression & Caudate\\_eQTL & DLPFC\\_eQTL & Hippocampus\\_eQTL & p\\_values & Max Expression & Min Expression & Mean Expresion & Ratio (DLPFC / Caudate) & Ratio (Hippocampus / Caudate) & Ratio (Hippocampus / DLPFC)\\\\\n",
       "  & <chr> & <dbl> & <dbl> & <dbl> & <int> & <int> & <int> & <dbl> & <chr> & <chr> & <dbl> & <dbl> & <dbl> & <dbl>\\\\\n",
       "\\hline\n",
       "\t1 & ENSG00000008018.8  & 7.083493 & 5.471561 & 4.543546 & 1 & 0 & 0 & 0 & Caudate & Hippocampus & 5.699533 & 0.7724383 & 0.6414273 & 0.8303930\\\\\n",
       "\t2 & ENSG00000027697.13 & 6.204708 & 4.622967 & 4.164173 & 1 & 0 & 0 & 0 & Caudate & Hippocampus & 4.997283 & 0.7450741 & 0.6711311 & 0.9007576\\\\\n",
       "\\end{tabular}\n"
      ],
      "text/markdown": [
       "\n",
       "A data.frame: 2 × 14\n",
       "\n",
       "| <!--/--> | gene_id &lt;chr&gt; | Caudate_Expression &lt;dbl&gt; | DLPFC_Expression &lt;dbl&gt; | Hippocampus_Expression &lt;dbl&gt; | Caudate_eQTL &lt;int&gt; | DLPFC_eQTL &lt;int&gt; | Hippocampus_eQTL &lt;int&gt; | p_values &lt;dbl&gt; | Max Expression &lt;chr&gt; | Min Expression &lt;chr&gt; | Mean Expresion &lt;dbl&gt; | Ratio (DLPFC / Caudate) &lt;dbl&gt; | Ratio (Hippocampus / Caudate) &lt;dbl&gt; | Ratio (Hippocampus / DLPFC) &lt;dbl&gt; |\n",
       "|---|---|---|---|---|---|---|---|---|---|---|---|---|---|---|\n",
       "| 1 | ENSG00000008018.8  | 7.083493 | 5.471561 | 4.543546 | 1 | 0 | 0 | 0 | Caudate | Hippocampus | 5.699533 | 0.7724383 | 0.6414273 | 0.8303930 |\n",
       "| 2 | ENSG00000027697.13 | 6.204708 | 4.622967 | 4.164173 | 1 | 0 | 0 | 0 | Caudate | Hippocampus | 4.997283 | 0.7450741 | 0.6711311 | 0.9007576 |\n",
       "\n"
      ],
      "text/plain": [
       "  gene_id            Caudate_Expression DLPFC_Expression Hippocampus_Expression\n",
       "1 ENSG00000008018.8  7.083493           5.471561         4.543546              \n",
       "2 ENSG00000027697.13 6.204708           4.622967         4.164173              \n",
       "  Caudate_eQTL DLPFC_eQTL Hippocampus_eQTL p_values Max Expression\n",
       "1 1            0          0                0        Caudate       \n",
       "2 1            0          0                0        Caudate       \n",
       "  Min Expression Mean Expresion Ratio (DLPFC / Caudate)\n",
       "1 Hippocampus    5.699533       0.7724383              \n",
       "2 Hippocampus    4.997283       0.7450741              \n",
       "  Ratio (Hippocampus / Caudate) Ratio (Hippocampus / DLPFC)\n",
       "1 0.6414273                     0.8303930                  \n",
       "2 0.6711311                     0.9007576                  "
      ]
     },
     "metadata": {},
     "output_type": "display_data"
    }
   ],
   "source": [
    "dt = df %>% select(Region, all_of(eFeature$gene_id)) %>% \n",
    "    aggregate(. ~ Region, ., mean) %>% \n",
    "    mutate(Region = gsub(\"HIPPO\", \"Hippocampus\", Region)) %>%\n",
    "    tibble::column_to_rownames(\"Region\") %>%\n",
    "    t %>% as.data.frame %>% tibble::rownames_to_column(\"gene_id\") %>%\n",
    "    inner_join(eFeature, by=\"gene_id\", suffix=c(\"_Expression\", \"_eQTL\")) %>% \n",
    "    select(-c(\"variant_id\")) %>% inner_join(pval_df, by=\"gene_id\")\n",
    "tt = dt %>% select(ends_with(\"Expression\"))\n",
    "dt = dt %>% mutate(\"Max Expression\"=gsub(\"_Expression\", \"\", colnames(tt)[apply(tt, 1, which.max)]), \n",
    "                   \"Min Expression\"=gsub(\"_Expression\", \"\", colnames(tt)[apply(tt, 1, which.min)]), \n",
    "                   \"Mean Expresion\"=rowMeans(tt),\n",
    "                   \"Ratio (DLPFC / Caudate)\" = DLPFC_Expression/Caudate_Expression, \n",
    "                   \"Ratio (Hippocampus / Caudate)\" = Hippocampus_Expression/Caudate_Expression, \n",
    "                   \"Ratio (Hippocampus / DLPFC)\" = Hippocampus_Expression/DLPFC_Expression)\n",
    "dt %>% data.table::fwrite(\"eQTL_regionSpecific_summary.tsv\", sep='\\t')\n",
    "dt %>% head(2)"
   ]
  },
  {
   "cell_type": "code",
   "execution_count": 7,
   "metadata": {
    "execution": {
     "iopub.execute_input": "2021-09-13T17:57:48.676934Z",
     "iopub.status.busy": "2021-09-13T17:57:48.676166Z",
     "iopub.status.idle": "2021-09-13T17:57:48.692404Z",
     "shell.execute_reply": "2021-09-13T17:57:48.691036Z"
    }
   },
   "outputs": [
    {
     "data": {
      "text/html": [
       "3"
      ],
      "text/latex": [
       "3"
      ],
      "text/markdown": [
       "3"
      ],
      "text/plain": [
       "[1] 3"
      ]
     },
     "metadata": {},
     "output_type": "display_data"
    }
   ],
   "source": [
    "sum(dt$`Ratio (DLPFC / Caudate)` > 0.9)"
   ]
  },
  {
   "cell_type": "code",
   "execution_count": 8,
   "metadata": {
    "execution": {
     "iopub.execute_input": "2021-09-13T17:57:48.699230Z",
     "iopub.status.busy": "2021-09-13T17:57:48.697792Z",
     "iopub.status.idle": "2021-09-13T17:57:48.713220Z",
     "shell.execute_reply": "2021-09-13T17:57:48.711765Z"
    }
   },
   "outputs": [
    {
     "data": {
      "text/html": [
       "0"
      ],
      "text/latex": [
       "0"
      ],
      "text/markdown": [
       "0"
      ],
      "text/plain": [
       "[1] 0"
      ]
     },
     "metadata": {},
     "output_type": "display_data"
    }
   ],
   "source": [
    "sum(dt$`Ratio (Hippocampus / Caudate)` > 0.9)"
   ]
  },
  {
   "cell_type": "code",
   "execution_count": 9,
   "metadata": {
    "execution": {
     "iopub.execute_input": "2021-09-13T17:57:48.720278Z",
     "iopub.status.busy": "2021-09-13T17:57:48.718905Z",
     "iopub.status.idle": "2021-09-13T17:57:48.741759Z",
     "shell.execute_reply": "2021-09-13T17:57:48.740250Z"
    }
   },
   "outputs": [
    {
     "name": "stdout",
     "output_type": "stream",
     "text": [
      "[1] 3\n"
     ]
    },
    {
     "data": {
      "text/html": [
       "0.0348837209302326"
      ],
      "text/latex": [
       "0.0348837209302326"
      ],
      "text/markdown": [
       "0.0348837209302326"
      ],
      "text/plain": [
       "[1] 0.03488372"
      ]
     },
     "metadata": {},
     "output_type": "display_data"
    }
   ],
   "source": [
    "nochange = sum(dt$`Ratio (DLPFC / Caudate)` > 0.9) + sum(dt$`Ratio (Hippocampus / Caudate)` > 0.9)\n",
    "print(nochange)\n",
    "nochange / dim(eFeature)[1]"
   ]
  },
  {
   "cell_type": "code",
   "execution_count": 10,
   "metadata": {
    "execution": {
     "iopub.execute_input": "2021-09-13T17:57:48.748045Z",
     "iopub.status.busy": "2021-09-13T17:57:48.746719Z",
     "iopub.status.idle": "2021-09-13T17:57:48.762281Z",
     "shell.execute_reply": "2021-09-13T17:57:48.761108Z"
    }
   },
   "outputs": [
    {
     "data": {
      "text/html": [
       "19"
      ],
      "text/latex": [
       "19"
      ],
      "text/markdown": [
       "19"
      ],
      "text/plain": [
       "[1] 19"
      ]
     },
     "metadata": {},
     "output_type": "display_data"
    }
   ],
   "source": [
    "sum(dt$`Ratio (Hippocampus / DLPFC)` > 0.9)"
   ]
  },
  {
   "cell_type": "code",
   "execution_count": 11,
   "metadata": {
    "execution": {
     "iopub.execute_input": "2021-09-13T17:57:48.777429Z",
     "iopub.status.busy": "2021-09-13T17:57:48.766928Z",
     "iopub.status.idle": "2021-09-13T17:57:48.797604Z",
     "shell.execute_reply": "2021-09-13T17:57:48.796288Z"
    }
   },
   "outputs": [
    {
     "data": {
      "text/html": [
       "1"
      ],
      "text/latex": [
       "1"
      ],
      "text/markdown": [
       "1"
      ],
      "text/plain": [
       "[1] 1"
      ]
     },
     "metadata": {},
     "output_type": "display_data"
    },
    {
     "data": {
      "text/html": [
       "0.0116279069767442"
      ],
      "text/latex": [
       "0.0116279069767442"
      ],
      "text/markdown": [
       "0.0116279069767442"
      ],
      "text/plain": [
       "[1] 0.01162791"
      ]
     },
     "metadata": {},
     "output_type": "display_data"
    }
   ],
   "source": [
    "## Low expression genes\n",
    "sum(dt$`Mean Expresion` < 1)\n",
    "sum(dt$`Mean Expresion` < 1) / dim(eFeature)[1]"
   ]
  },
  {
   "cell_type": "code",
   "execution_count": 12,
   "metadata": {
    "execution": {
     "iopub.execute_input": "2021-09-13T17:57:48.802993Z",
     "iopub.status.busy": "2021-09-13T17:57:48.801699Z",
     "iopub.status.idle": "2021-09-13T17:57:48.829432Z",
     "shell.execute_reply": "2021-09-13T17:57:48.827915Z"
    }
   },
   "outputs": [
    {
     "data": {
      "text/html": [
       "86"
      ],
      "text/latex": [
       "86"
      ],
      "text/markdown": [
       "86"
      ],
      "text/plain": [
       "[1] 86"
      ]
     },
     "metadata": {},
     "output_type": "display_data"
    },
    {
     "data": {
      "text/html": [
       "86"
      ],
      "text/latex": [
       "86"
      ],
      "text/markdown": [
       "86"
      ],
      "text/plain": [
       "[1] 86"
      ]
     },
     "metadata": {},
     "output_type": "display_data"
    },
    {
     "data": {
      "text/html": [
       "1"
      ],
      "text/latex": [
       "1"
      ],
      "text/markdown": [
       "1"
      ],
      "text/plain": [
       "[1] 1"
      ]
     },
     "metadata": {},
     "output_type": "display_data"
    }
   ],
   "source": [
    "sum(dt$Caudate_eQTL == 1 & dt$`Max Expression` == \"Caudate\")\n",
    "sum(dt$Caudate_eQTL == 1 & dt$`Max Expression` == \"Caudate\" & \n",
    "    (dt$`Ratio (DLPFC / Caudate)` < 0.9 | dt$`Ratio (Hippocampus / Caudate)` < 0.9))\n",
    "sum(dt$Caudate_eQTL == 1 & dt$`Max Expression` == \"Caudate\" & \n",
    "    (dt$`Ratio (DLPFC / Caudate)` < 0.9 | dt$`Ratio (Hippocampus / Caudate)` < 0.9)) / dim(eFeature)[1]"
   ]
  },
  {
   "cell_type": "code",
   "execution_count": 13,
   "metadata": {
    "execution": {
     "iopub.execute_input": "2021-09-13T17:57:48.836108Z",
     "iopub.status.busy": "2021-09-13T17:57:48.834572Z",
     "iopub.status.idle": "2021-09-13T17:57:48.857681Z",
     "shell.execute_reply": "2021-09-13T17:57:48.855997Z"
    }
   },
   "outputs": [
    {
     "data": {
      "text/html": [
       "0"
      ],
      "text/latex": [
       "0"
      ],
      "text/markdown": [
       "0"
      ],
      "text/plain": [
       "[1] 0"
      ]
     },
     "metadata": {},
     "output_type": "display_data"
    },
    {
     "data": {
      "text/html": [
       "0"
      ],
      "text/latex": [
       "0"
      ],
      "text/markdown": [
       "0"
      ],
      "text/plain": [
       "[1] 0"
      ]
     },
     "metadata": {},
     "output_type": "display_data"
    }
   ],
   "source": [
    "sum(dt$DLPFC_eQTL == 1 & dt$`Max Expression` == \"DLPFC\")\n",
    "sum(dt$Hippocampus_eQTL == 1 & dt$`Max Expression` == \"Hippocampus\")"
   ]
  },
  {
   "cell_type": "code",
   "execution_count": 14,
   "metadata": {
    "execution": {
     "iopub.execute_input": "2021-09-13T17:57:48.864797Z",
     "iopub.status.busy": "2021-09-13T17:57:48.863256Z",
     "iopub.status.idle": "2021-09-13T17:57:48.897248Z",
     "shell.execute_reply": "2021-09-13T17:57:48.896652Z"
    }
   },
   "outputs": [
    {
     "data": {
      "text/html": [
       "0"
      ],
      "text/latex": [
       "0"
      ],
      "text/markdown": [
       "0"
      ],
      "text/plain": [
       "[1] 0"
      ]
     },
     "metadata": {},
     "output_type": "display_data"
    },
    {
     "data": {
      "text/html": [
       "0"
      ],
      "text/latex": [
       "0"
      ],
      "text/markdown": [
       "0"
      ],
      "text/plain": [
       "[1] 0"
      ]
     },
     "metadata": {},
     "output_type": "display_data"
    },
    {
     "data": {
      "text/html": [
       "0"
      ],
      "text/latex": [
       "0"
      ],
      "text/markdown": [
       "0"
      ],
      "text/plain": [
       "[1] 0"
      ]
     },
     "metadata": {},
     "output_type": "display_data"
    }
   ],
   "source": [
    "sum(dt$Caudate_eQTL == 1 & dt$`Min Expression` == \"Caudate\")\n",
    "sum(dt$DLPFC_eQTL == 1 & dt$`Min Expression` == \"DLPFC\")\n",
    "sum(dt$Hippocampus_eQTL == 1 & dt$`Min Expression` == \"Hippocampus\")"
   ]
  },
  {
   "cell_type": "code",
   "execution_count": 15,
   "metadata": {
    "execution": {
     "iopub.execute_input": "2021-09-13T17:57:48.903565Z",
     "iopub.status.busy": "2021-09-13T17:57:48.902055Z",
     "iopub.status.idle": "2021-09-13T17:57:48.926036Z",
     "shell.execute_reply": "2021-09-13T17:57:48.925068Z"
    }
   },
   "outputs": [
    {
     "data": {
      "text/html": [
       "86"
      ],
      "text/latex": [
       "86"
      ],
      "text/markdown": [
       "86"
      ],
      "text/plain": [
       "[1] 86"
      ]
     },
     "metadata": {},
     "output_type": "display_data"
    },
    {
     "data": {
      "text/html": [
       "0"
      ],
      "text/latex": [
       "0"
      ],
      "text/markdown": [
       "0"
      ],
      "text/plain": [
       "[1] 0"
      ]
     },
     "metadata": {},
     "output_type": "display_data"
    },
    {
     "data": {
      "text/html": [
       "0"
      ],
      "text/latex": [
       "0"
      ],
      "text/markdown": [
       "0"
      ],
      "text/plain": [
       "[1] 0"
      ]
     },
     "metadata": {},
     "output_type": "display_data"
    }
   ],
   "source": [
    "sum(eFeature$Caudate == 1)\n",
    "sum(eFeature$DLPFC == 1)\n",
    "sum(eFeature$Hippocampus == 1)"
   ]
  },
  {
   "cell_type": "markdown",
   "metadata": {},
   "source": [
    "### Summary\n",
    "- All specific genes are caudate, and caudate has the highest expression!"
   ]
  },
  {
   "cell_type": "markdown",
   "metadata": {},
   "source": [
    "## Reproducibility information"
   ]
  },
  {
   "cell_type": "code",
   "execution_count": 16,
   "metadata": {
    "execution": {
     "iopub.execute_input": "2021-09-13T17:57:48.932828Z",
     "iopub.status.busy": "2021-09-13T17:57:48.931331Z",
     "iopub.status.idle": "2021-09-13T17:57:49.277868Z",
     "shell.execute_reply": "2021-09-13T17:57:49.276335Z"
    }
   },
   "outputs": [
    {
     "data": {
      "text/plain": [
       "[1] \"2021-09-13 13:57:48 EDT\""
      ]
     },
     "metadata": {},
     "output_type": "display_data"
    },
    {
     "data": {
      "text/plain": [
       "   user  system elapsed \n",
       " 46.467   9.882  57.497 "
      ]
     },
     "metadata": {},
     "output_type": "display_data"
    },
    {
     "data": {
      "text/plain": [
       "─ Session info ───────────────────────────────────────────────────────────────────────────────────────────────────────\n",
       " setting  value                       \n",
       " version  R version 4.0.3 (2020-10-10)\n",
       " os       Arch Linux                  \n",
       " system   x86_64, linux-gnu           \n",
       " ui       X11                         \n",
       " language (EN)                        \n",
       " collate  en_US.UTF-8                 \n",
       " ctype    en_US.UTF-8                 \n",
       " tz       America/New_York            \n",
       " date     2021-09-13                  \n",
       "\n",
       "─ Packages ───────────────────────────────────────────────────────────────────────────────────────────────────────────\n",
       " package     * version date       lib source        \n",
       " assertthat    0.2.1   2019-03-21 [1] CRAN (R 4.0.2)\n",
       " base64enc     0.1-3   2015-07-28 [1] CRAN (R 4.0.2)\n",
       " cachem        1.0.6   2021-08-19 [1] CRAN (R 4.0.3)\n",
       " cli           3.0.1   2021-07-17 [1] CRAN (R 4.0.3)\n",
       " crayon        1.4.1   2021-02-08 [1] CRAN (R 4.0.3)\n",
       " data.table    1.14.0  2021-02-21 [1] CRAN (R 4.0.3)\n",
       " DBI           1.1.1   2021-01-15 [1] CRAN (R 4.0.2)\n",
       " digest        0.6.27  2020-10-24 [1] CRAN (R 4.0.2)\n",
       " dplyr       * 1.0.7   2021-06-18 [1] CRAN (R 4.0.3)\n",
       " ellipsis      0.3.2   2021-04-29 [1] CRAN (R 4.0.3)\n",
       " evaluate      0.14    2019-05-28 [1] CRAN (R 4.0.2)\n",
       " fansi         0.5.0   2021-05-25 [1] CRAN (R 4.0.3)\n",
       " fastmap       1.1.0   2021-01-25 [1] CRAN (R 4.0.2)\n",
       " generics      0.1.0   2020-10-31 [1] CRAN (R 4.0.2)\n",
       " glue          1.4.2   2020-08-27 [1] CRAN (R 4.0.2)\n",
       " htmltools     0.5.2   2021-08-25 [1] CRAN (R 4.0.3)\n",
       " IRdisplay     1.0     2021-01-20 [1] CRAN (R 4.0.2)\n",
       " IRkernel      1.2     2021-05-11 [1] CRAN (R 4.0.3)\n",
       " jsonlite      1.7.2   2020-12-09 [1] CRAN (R 4.0.2)\n",
       " lifecycle     1.0.0   2021-02-15 [1] CRAN (R 4.0.3)\n",
       " magrittr      2.0.1   2020-11-17 [1] CRAN (R 4.0.2)\n",
       " memoise       2.0.0   2021-01-26 [1] CRAN (R 4.0.2)\n",
       " pbdZMQ        0.3-5   2021-02-10 [1] CRAN (R 4.0.3)\n",
       " pillar        1.6.2   2021-07-29 [1] CRAN (R 4.0.3)\n",
       " pkgconfig     2.0.3   2019-09-22 [1] CRAN (R 4.0.2)\n",
       " purrr         0.3.4   2020-04-17 [1] CRAN (R 4.0.2)\n",
       " R6            2.5.1   2021-08-19 [1] CRAN (R 4.0.3)\n",
       " repr          1.1.3   2021-01-21 [1] CRAN (R 4.0.2)\n",
       " rlang         0.4.11  2021-04-30 [1] CRAN (R 4.0.3)\n",
       " sessioninfo   1.1.1   2018-11-05 [1] CRAN (R 4.0.2)\n",
       " tibble        3.1.4   2021-08-25 [1] CRAN (R 4.0.3)\n",
       " tidyselect    1.1.1   2021-04-30 [1] CRAN (R 4.0.3)\n",
       " utf8          1.2.2   2021-07-24 [1] CRAN (R 4.0.3)\n",
       " uuid          0.1-4   2020-02-26 [1] CRAN (R 4.0.2)\n",
       " vctrs         0.3.8   2021-04-29 [1] CRAN (R 4.0.3)\n",
       " withr         2.4.2   2021-04-18 [1] CRAN (R 4.0.3)\n",
       "\n",
       "[1] /home/jbenja13/R/x86_64-pc-linux-gnu-library/4.0\n",
       "[2] /usr/lib/R/library"
      ]
     },
     "metadata": {},
     "output_type": "display_data"
    }
   ],
   "source": [
    "Sys.time()\n",
    "proc.time()\n",
    "options(width=120)\n",
    "sessioninfo::session_info()"
   ]
  }
 ],
 "metadata": {
  "kernelspec": {
   "display_name": "R",
   "language": "R",
   "name": "ir"
  },
  "language_info": {
   "codemirror_mode": "r",
   "file_extension": ".r",
   "mimetype": "text/x-r-source",
   "name": "R",
   "pygments_lexer": "r",
   "version": "4.0.3"
  }
 },
 "nbformat": 4,
 "nbformat_minor": 4
}
