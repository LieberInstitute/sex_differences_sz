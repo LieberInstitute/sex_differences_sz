{
 "cells": [
  {
   "cell_type": "markdown",
   "metadata": {},
   "source": [
    "# Examine tissue specific genes for correlation with gene expression or cell type proportion"
   ]
  },
  {
   "cell_type": "code",
   "execution_count": null,
   "metadata": {},
   "outputs": [],
   "source": [
    "library(dplyr)"
   ]
  },
  {
   "cell_type": "markdown",
   "metadata": {},
   "source": [
    "## Functions"
   ]
  },
  {
   "cell_type": "code",
   "execution_count": null,
   "metadata": {},
   "outputs": [],
   "source": [
    "get_tpm <- function(){\n",
    "    cc_file = paste0(\"/ceph/projects/v4_phase3_paper/inputs/counts/\",\n",
    "                     \"text_files_counts/tpm/_m/caudate/gene/log2tpm.csv\")\n",
    "    dd_file = paste0(\"/ceph/projects/v4_phase3_paper/inputs/counts/\",\n",
    "                     \"text_files_counts/tpm/_m/dlpfc/gene/log2tpm.csv\")\n",
    "    hh_file = paste0(\"/ceph/projects/v4_phase3_paper/inputs/counts/\",\n",
    "                     \"text_files_counts/tpm/_m/hippocampus/gene/log2tpm.csv\")\n",
    "    cc = data.table::fread(cc_file) %>% tibble::column_to_rownames(\"names\") %>%\n",
    "        t %>% as.data.frame %>% tibble::rownames_to_column(\"RNum\")\n",
    "    dd = data.table::fread(dd_file) %>% tibble::column_to_rownames(\"names\") %>%\n",
    "        t %>% as.data.frame %>% tibble::rownames_to_column(\"RNum\")\n",
    "    hh = data.table::fread(hh_file) %>% tibble::column_to_rownames(\"names\") %>%\n",
    "        t %>% as.data.frame %>% tibble::rownames_to_column(\"RNum\")\n",
    "    return(bind_rows(cc, hh, dd))\n",
    "}\n",
    "memTPM <- memoise::memoise(get_tpm)\n",
    "\n",
    "get_pheno <- function(){\n",
    "    filename = \"/ceph/projects/v4_phase3_paper/inputs/phenotypes/_m/merged_phenotypes.csv\"\n",
    "    df = data.table::fread(filename) %>% \n",
    "        filter(Age > 13, Race %in% c(\"AA\", \"EA\"), Dx %in% c(\"CTL\", \"SZ\"))\n",
    "    return(df)\n",
    "}\n",
    "memPHENO <- memoise::memoise(get_pheno)"
   ]
  },
  {
   "cell_type": "markdown",
   "metadata": {},
   "source": [
    "# Extract tissue specific eGenes"
   ]
  },
  {
   "cell_type": "code",
   "execution_count": null,
   "metadata": {},
   "outputs": [],
   "source": [
    "eFeature = data.table::fread(\"../../_m/genes/significant_geneSNP_pairs_3tissues.tsv\") %>%\n",
    "    filter(N_Regions_Shared == 1) %>% select(-N_Regions_Shared)\n",
    "eFeature %>% head(2)"
   ]
  },
  {
   "cell_type": "markdown",
   "metadata": {},
   "source": [
    "## Prepare data"
   ]
  },
  {
   "cell_type": "code",
   "execution_count": null,
   "metadata": {},
   "outputs": [],
   "source": [
    "df = memPHENO() %>% inner_join(memTPM(), by=\"RNum\")\n",
    "df %>% dim"
   ]
  },
  {
   "cell_type": "markdown",
   "metadata": {},
   "source": [
    "## Linear model for expression and brain region"
   ]
  },
  {
   "cell_type": "code",
   "execution_count": null,
   "metadata": {},
   "outputs": [],
   "source": [
    "pvals = c(); genes = c()\n",
    "for(gene_id in eFeature$gene_id){\n",
    "    model = paste(paste0(gene_id, \"~ Region*Sex\"), \"Dx + Age + mitoRate + rRNA_rate\",\n",
    "                  \"overallMapRate + RIN + ERCCsumLogErr + totalAssignedGene + snpPC1\",\n",
    "                  \"snpPC2 + snpPC3\", sep=\" + \")\n",
    "    fitted = anova(lm(model, data=df))\n",
    "    #fit_lm = aov(lm(model, data=df))\n",
    "    pvals = c(pvals, fitted[\"Region\", \"Pr(>F)\"])\n",
    "    genes = c(genes, gene_id)\n",
    "}\n",
    "pval_df = data.frame(\"gene_id\"=genes, \"p_values\"=pvals)\n",
    "print(sum(pvals > 0.05))\n",
    "pval_df %>% head(2)"
   ]
  },
  {
   "cell_type": "markdown",
   "metadata": {},
   "source": [
    "## Comparison of expression"
   ]
  },
  {
   "cell_type": "code",
   "execution_count": null,
   "metadata": {},
   "outputs": [],
   "source": [
    "dt = df %>% select(Region, all_of(eFeature$gene_id)) %>% \n",
    "    aggregate(. ~ Region, ., mean) %>% \n",
    "    mutate(Region = gsub(\"HIPPO\", \"Hippocampus\", Region)) %>%\n",
    "    tibble::column_to_rownames(\"Region\") %>%\n",
    "    t %>% as.data.frame %>% tibble::rownames_to_column(\"gene_id\") %>%\n",
    "    inner_join(eFeature, by=\"gene_id\", suffix=c(\"_Expression\", \"_eQTL\")) %>% \n",
    "    select(-c(\"variant_id\")) %>% inner_join(pval_df, by=\"gene_id\")\n",
    "tt = dt %>% select(ends_with(\"Expression\"))\n",
    "dt = dt %>% mutate(\"Max Expression\"=gsub(\"_Expression\", \"\", colnames(tt)[apply(tt, 1, which.max)]), \n",
    "                   \"Min Expression\"=gsub(\"_Expression\", \"\", colnames(tt)[apply(tt, 1, which.min)]), \n",
    "                   \"Mean Expresion\"=rowMeans(tt),\n",
    "                   \"Ratio (DLPFC / Caudate)\" = DLPFC_Expression/Caudate_Expression, \n",
    "                   \"Ratio (Hippocampus / Caudate)\" = Hippocampus_Expression/Caudate_Expression, \n",
    "                   \"Ratio (Hippocampus / DLPFC)\" = Hippocampus_Expression/DLPFC_Expression)\n",
    "dt %>% data.table::fwrite(\"eQTL_regionSpecific_summary.tsv\", sep='\\t')\n",
    "dt %>% head(2)"
   ]
  },
  {
   "cell_type": "code",
   "execution_count": null,
   "metadata": {},
   "outputs": [],
   "source": [
    "sum(dt$`Ratio (DLPFC / Caudate)` > 0.9)"
   ]
  },
  {
   "cell_type": "code",
   "execution_count": null,
   "metadata": {},
   "outputs": [],
   "source": [
    "sum(dt$`Ratio (Hippocampus / Caudate)` > 0.9)"
   ]
  },
  {
   "cell_type": "code",
   "execution_count": null,
   "metadata": {},
   "outputs": [],
   "source": [
    "nochange = sum(dt$`Ratio (DLPFC / Caudate)` > 0.9) + sum(dt$`Ratio (Hippocampus / Caudate)` > 0.9)\n",
    "print(nochange)\n",
    "nochange / dim(eFeature)[1]"
   ]
  },
  {
   "cell_type": "code",
   "execution_count": null,
   "metadata": {},
   "outputs": [],
   "source": [
    "sum(dt$`Ratio (Hippocampus / DLPFC)` > 0.9)"
   ]
  },
  {
   "cell_type": "code",
   "execution_count": null,
   "metadata": {},
   "outputs": [],
   "source": [
    "## Low expression genes\n",
    "sum(dt$`Mean Expresion` < 1)\n",
    "sum(dt$`Mean Expresion` < 1) / dim(eFeature)[1]"
   ]
  },
  {
   "cell_type": "code",
   "execution_count": null,
   "metadata": {},
   "outputs": [],
   "source": [
    "sum(dt$Caudate_eQTL == 1 & dt$`Max Expression` == \"Caudate\")\n",
    "sum(dt$Caudate_eQTL == 1 & dt$`Max Expression` == \"Caudate\" & \n",
    "    (dt$`Ratio (DLPFC / Caudate)` < 0.9 | dt$`Ratio (Hippocampus / Caudate)` < 0.9))\n",
    "sum(dt$Caudate_eQTL == 1 & dt$`Max Expression` == \"Caudate\" & \n",
    "    (dt$`Ratio (DLPFC / Caudate)` < 0.9 | dt$`Ratio (Hippocampus / Caudate)` < 0.9)) / dim(eFeature)[1]"
   ]
  },
  {
   "cell_type": "code",
   "execution_count": null,
   "metadata": {},
   "outputs": [],
   "source": [
    "sum(dt$DLPFC_eQTL == 1 & dt$`Max Expression` == \"DLPFC\")\n",
    "sum(dt$Hippocampus_eQTL == 1 & dt$`Max Expression` == \"Hippocampus\")"
   ]
  },
  {
   "cell_type": "code",
   "execution_count": null,
   "metadata": {},
   "outputs": [],
   "source": [
    "sum(dt$Caudate_eQTL == 1 & dt$`Min Expression` == \"Caudate\")\n",
    "sum(dt$DLPFC_eQTL == 1 & dt$`Min Expression` == \"DLPFC\")\n",
    "sum(dt$Hippocampus_eQTL == 1 & dt$`Min Expression` == \"Hippocampus\")"
   ]
  },
  {
   "cell_type": "code",
   "execution_count": null,
   "metadata": {},
   "outputs": [],
   "source": [
    "sum(eFeature$Caudate == 1)\n",
    "sum(eFeature$DLPFC == 1)\n",
    "sum(eFeature$Hippocampus == 1)"
   ]
  },
  {
   "cell_type": "markdown",
   "metadata": {},
   "source": [
    "### Summary\n",
    "- All specific genes are caudate, and caudate has the highest expression!"
   ]
  },
  {
   "cell_type": "markdown",
   "metadata": {},
   "source": [
    "## Reproducibility information"
   ]
  },
  {
   "cell_type": "code",
   "execution_count": null,
   "metadata": {},
   "outputs": [],
   "source": [
    "Sys.time()\n",
    "proc.time()\n",
    "options(width=120)\n",
    "sessioninfo::session_info()"
   ]
  }
 ],
 "metadata": {
  "kernelspec": {
   "display_name": "R",
   "language": "R",
   "name": "ir"
  },
  "language_info": {
   "codemirror_mode": "r",
   "file_extension": ".r",
   "mimetype": "text/x-r-source",
   "name": "R",
   "pygments_lexer": "r",
   "version": "4.0.3"
  }
 },
 "nbformat": 4,
 "nbformat_minor": 4
}
