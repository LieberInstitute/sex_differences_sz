{
 "cells": [
  {
   "cell_type": "markdown",
   "metadata": {},
   "source": [
    "# Prepare covariates from Matrix eQTL analysis\n",
    "Kynon J Benjamin"
   ]
  },
  {
   "cell_type": "code",
   "execution_count": 1,
   "metadata": {},
   "outputs": [
    {
     "name": "stderr",
     "output_type": "stream",
     "text": [
      "-- \u001b[1mAttaching packages\u001b[22m ------------------------------------------------------------------------------------------------------------------------------------------------------------------------------------------------------------------------------------------------------------------------------------- tidyverse 1.3.1 --\n",
      "\n",
      "\u001b[32mv\u001b[39m \u001b[34mggplot2\u001b[39m 3.3.3     \u001b[32mv\u001b[39m \u001b[34mpurrr  \u001b[39m 0.3.4\n",
      "\u001b[32mv\u001b[39m \u001b[34mtibble \u001b[39m 3.1.2     \u001b[32mv\u001b[39m \u001b[34mdplyr  \u001b[39m 1.0.6\n",
      "\u001b[32mv\u001b[39m \u001b[34mtidyr  \u001b[39m 1.1.3     \u001b[32mv\u001b[39m \u001b[34mstringr\u001b[39m 1.4.0\n",
      "\u001b[32mv\u001b[39m \u001b[34mreadr  \u001b[39m 1.4.0     \u001b[32mv\u001b[39m \u001b[34mforcats\u001b[39m 0.5.1\n",
      "\n",
      "-- \u001b[1mConflicts\u001b[22m ---------------------------------------------------------------------------------------------------------------------------------------------------------------------------------------------------------------------------------------------------------------------------------------- tidyverse_conflicts() --\n",
      "\u001b[31mx\u001b[39m \u001b[34mdplyr\u001b[39m::\u001b[32mfilter()\u001b[39m masks \u001b[34mstats\u001b[39m::filter()\n",
      "\u001b[31mx\u001b[39m \u001b[34mdplyr\u001b[39m::\u001b[32mlag()\u001b[39m    masks \u001b[34mstats\u001b[39m::lag()\n",
      "\n"
     ]
    }
   ],
   "source": [
    "library(tidyverse)"
   ]
  },
  {
   "cell_type": "markdown",
   "metadata": {},
   "source": [
    "## Load data"
   ]
  },
  {
   "cell_type": "code",
   "execution_count": 2,
   "metadata": {},
   "outputs": [
    {
     "data": {
      "text/html": [
       "<table class=\"dataframe\">\n",
       "<caption>A data.table: 6 × 2</caption>\n",
       "<thead>\n",
       "\t<tr><th scope=col>RNum</th><th scope=col>BrNum</th></tr>\n",
       "\t<tr><th scope=col>&lt;chr&gt;</th><th scope=col>&lt;chr&gt;</th></tr>\n",
       "</thead>\n",
       "<tbody>\n",
       "\t<tr><td>R13226</td><td>Br823</td></tr>\n",
       "\t<tr><td>R12926</td><td>Br836</td></tr>\n",
       "\t<tr><td>R12927</td><td>Br845</td></tr>\n",
       "\t<tr><td>R13227</td><td>Br846</td></tr>\n",
       "\t<tr><td>R13229</td><td>Br848</td></tr>\n",
       "\t<tr><td>R13230</td><td>Br856</td></tr>\n",
       "</tbody>\n",
       "</table>\n"
      ],
      "text/latex": [
       "A data.table: 6 × 2\n",
       "\\begin{tabular}{ll}\n",
       " RNum & BrNum\\\\\n",
       " <chr> & <chr>\\\\\n",
       "\\hline\n",
       "\t R13226 & Br823\\\\\n",
       "\t R12926 & Br836\\\\\n",
       "\t R12927 & Br845\\\\\n",
       "\t R13227 & Br846\\\\\n",
       "\t R13229 & Br848\\\\\n",
       "\t R13230 & Br856\\\\\n",
       "\\end{tabular}\n"
      ],
      "text/markdown": [
       "\n",
       "A data.table: 6 × 2\n",
       "\n",
       "| RNum &lt;chr&gt; | BrNum &lt;chr&gt; |\n",
       "|---|---|\n",
       "| R13226 | Br823 |\n",
       "| R12926 | Br836 |\n",
       "| R12927 | Br845 |\n",
       "| R13227 | Br846 |\n",
       "| R13229 | Br848 |\n",
       "| R13230 | Br856 |\n",
       "\n"
      ],
      "text/plain": [
       "  RNum   BrNum\n",
       "1 R13226 Br823\n",
       "2 R12926 Br836\n",
       "3 R12927 Br845\n",
       "4 R13227 Br846\n",
       "5 R13229 Br848\n",
       "6 R13230 Br856"
      ]
     },
     "metadata": {},
     "output_type": "display_data"
    }
   ],
   "source": [
    "sample_df = data.table::fread(\"../../_m/sample_id_to_brnum.tsv\")\n",
    "sample_df %>% head()"
   ]
  },
  {
   "cell_type": "code",
   "execution_count": 3,
   "metadata": {},
   "outputs": [
    {
     "data": {
      "text/html": [
       "<style>\n",
       ".list-inline {list-style: none; margin:0; padding: 0}\n",
       ".list-inline>li {display: inline-block}\n",
       ".list-inline>li:not(:last-child)::after {content: \"\\00b7\"; padding: 0 .5ex}\n",
       "</style>\n",
       "<ol class=list-inline><li>'covsExon0'</li><li>'covsGene0'</li><li>'covsJxn0'</li><li>'covsTx0'</li><li>'sample_df'</li></ol>\n"
      ],
      "text/latex": [
       "\\begin{enumerate*}\n",
       "\\item 'covsExon0'\n",
       "\\item 'covsGene0'\n",
       "\\item 'covsJxn0'\n",
       "\\item 'covsTx0'\n",
       "\\item 'sample\\_df'\n",
       "\\end{enumerate*}\n"
      ],
      "text/markdown": [
       "1. 'covsExon0'\n",
       "2. 'covsGene0'\n",
       "3. 'covsJxn0'\n",
       "4. 'covsTx0'\n",
       "5. 'sample_df'\n",
       "\n",
       "\n"
      ],
      "text/plain": [
       "[1] \"covsExon0\" \"covsGene0\" \"covsJxn0\"  \"covsTx0\"   \"sample_df\""
      ]
     },
     "metadata": {},
     "output_type": "display_data"
    }
   ],
   "source": [
    "load(\"/ceph/users/jbenja13/projects/sex_sz_ria/input/genotypes/covariates/_m/hippocampus/covariates.rda\")\n",
    "ls()"
   ]
  },
  {
   "cell_type": "code",
   "execution_count": 4,
   "metadata": {},
   "outputs": [
    {
     "data": {
      "text/html": [
       "<table class=\"dataframe\">\n",
       "<caption>A data.frame: 10 × 5</caption>\n",
       "<thead>\n",
       "\t<tr><th></th><th scope=col>ID</th><th scope=col>Br823</th><th scope=col>Br836</th><th scope=col>Br845</th><th scope=col>Br846</th></tr>\n",
       "\t<tr><th></th><th scope=col>&lt;chr&gt;</th><th scope=col>&lt;dbl&gt;</th><th scope=col>&lt;dbl&gt;</th><th scope=col>&lt;dbl&gt;</th><th scope=col>&lt;dbl&gt;</th></tr>\n",
       "</thead>\n",
       "<tbody>\n",
       "\t<tr><th scope=row>1</th><td>DxSchizo</td><td>  0.000000000</td><td>  0.000000000</td><td>  0.000000000</td><td> 0.00000000</td></tr>\n",
       "\t<tr><th scope=row>2</th><td>snpPC1  </td><td>  0.087038000</td><td>  0.101455000</td><td>  0.093891100</td><td> 0.07797680</td></tr>\n",
       "\t<tr><th scope=row>3</th><td>snpPC2  </td><td> -0.001717740</td><td> -0.000642496</td><td> -0.002248600</td><td>-0.00277683</td></tr>\n",
       "\t<tr><th scope=row>4</th><td>snpPC3  </td><td>  0.000413453</td><td> -0.000923211</td><td>  0.000546358</td><td> 0.00294876</td></tr>\n",
       "\t<tr><th scope=row>5</th><td>SexM    </td><td>  0.000000000</td><td>  1.000000000</td><td>  1.000000000</td><td> 1.00000000</td></tr>\n",
       "\t<tr><th scope=row>6</th><td>PC1     </td><td> 44.719915363</td><td> -3.633094513</td><td>-28.676296319</td><td>47.30413112</td></tr>\n",
       "\t<tr><th scope=row>7</th><td>PC2     </td><td>-16.727651713</td><td>  6.577210045</td><td> -8.800547244</td><td>25.06599207</td></tr>\n",
       "\t<tr><th scope=row>8</th><td>PC3     </td><td>-52.434524964</td><td>  9.096112063</td><td>  3.346884369</td><td>-2.24871124</td></tr>\n",
       "\t<tr><th scope=row>9</th><td>PC4     </td><td> -4.213380953</td><td>-11.068197277</td><td>  2.505581832</td><td>18.62140307</td></tr>\n",
       "\t<tr><th scope=row>10</th><td>PC5     </td><td>-16.295864168</td><td> 13.564318797</td><td> -8.194940615</td><td>-3.45223358</td></tr>\n",
       "</tbody>\n",
       "</table>\n"
      ],
      "text/latex": [
       "A data.frame: 10 × 5\n",
       "\\begin{tabular}{r|lllll}\n",
       "  & ID & Br823 & Br836 & Br845 & Br846\\\\\n",
       "  & <chr> & <dbl> & <dbl> & <dbl> & <dbl>\\\\\n",
       "\\hline\n",
       "\t1 & DxSchizo &   0.000000000 &   0.000000000 &   0.000000000 &  0.00000000\\\\\n",
       "\t2 & snpPC1   &   0.087038000 &   0.101455000 &   0.093891100 &  0.07797680\\\\\n",
       "\t3 & snpPC2   &  -0.001717740 &  -0.000642496 &  -0.002248600 & -0.00277683\\\\\n",
       "\t4 & snpPC3   &   0.000413453 &  -0.000923211 &   0.000546358 &  0.00294876\\\\\n",
       "\t5 & SexM     &   0.000000000 &   1.000000000 &   1.000000000 &  1.00000000\\\\\n",
       "\t6 & PC1      &  44.719915363 &  -3.633094513 & -28.676296319 & 47.30413112\\\\\n",
       "\t7 & PC2      & -16.727651713 &   6.577210045 &  -8.800547244 & 25.06599207\\\\\n",
       "\t8 & PC3      & -52.434524964 &   9.096112063 &   3.346884369 & -2.24871124\\\\\n",
       "\t9 & PC4      &  -4.213380953 & -11.068197277 &   2.505581832 & 18.62140307\\\\\n",
       "\t10 & PC5      & -16.295864168 &  13.564318797 &  -8.194940615 & -3.45223358\\\\\n",
       "\\end{tabular}\n"
      ],
      "text/markdown": [
       "\n",
       "A data.frame: 10 × 5\n",
       "\n",
       "| <!--/--> | ID &lt;chr&gt; | Br823 &lt;dbl&gt; | Br836 &lt;dbl&gt; | Br845 &lt;dbl&gt; | Br846 &lt;dbl&gt; |\n",
       "|---|---|---|---|---|---|\n",
       "| 1 | DxSchizo |   0.000000000 |   0.000000000 |   0.000000000 |  0.00000000 |\n",
       "| 2 | snpPC1   |   0.087038000 |   0.101455000 |   0.093891100 |  0.07797680 |\n",
       "| 3 | snpPC2   |  -0.001717740 |  -0.000642496 |  -0.002248600 | -0.00277683 |\n",
       "| 4 | snpPC3   |   0.000413453 |  -0.000923211 |   0.000546358 |  0.00294876 |\n",
       "| 5 | SexM     |   0.000000000 |   1.000000000 |   1.000000000 |  1.00000000 |\n",
       "| 6 | PC1      |  44.719915363 |  -3.633094513 | -28.676296319 | 47.30413112 |\n",
       "| 7 | PC2      | -16.727651713 |   6.577210045 |  -8.800547244 | 25.06599207 |\n",
       "| 8 | PC3      | -52.434524964 |   9.096112063 |   3.346884369 | -2.24871124 |\n",
       "| 9 | PC4      |  -4.213380953 | -11.068197277 |   2.505581832 | 18.62140307 |\n",
       "| 10 | PC5      | -16.295864168 |  13.564318797 |  -8.194940615 | -3.45223358 |\n",
       "\n"
      ],
      "text/plain": [
       "   ID       Br823         Br836         Br845         Br846      \n",
       "1  DxSchizo   0.000000000   0.000000000   0.000000000  0.00000000\n",
       "2  snpPC1     0.087038000   0.101455000   0.093891100  0.07797680\n",
       "3  snpPC2    -0.001717740  -0.000642496  -0.002248600 -0.00277683\n",
       "4  snpPC3     0.000413453  -0.000923211   0.000546358  0.00294876\n",
       "5  SexM       0.000000000   1.000000000   1.000000000  1.00000000\n",
       "6  PC1       44.719915363  -3.633094513 -28.676296319 47.30413112\n",
       "7  PC2      -16.727651713   6.577210045  -8.800547244 25.06599207\n",
       "8  PC3      -52.434524964   9.096112063   3.346884369 -2.24871124\n",
       "9  PC4       -4.213380953 -11.068197277   2.505581832 18.62140307\n",
       "10 PC5      -16.295864168  13.564318797  -8.194940615 -3.45223358"
      ]
     },
     "metadata": {},
     "output_type": "display_data"
    }
   ],
   "source": [
    "covs = covsGene0 %>% as.data.frame %>% select(sample_df$RNum) %>%\n",
    "    t %>% as.data.frame %>% rownames_to_column(\"RNum\") %>%\n",
    "    inner_join(sample_df, by=c(\"RNum\")) %>% select(-\"RNum\") %>%\n",
    "    rename(\"ID\"=\"BrNum\") %>% column_to_rownames(\"ID\") %>% t %>%\n",
    "    as.data.frame %>% rownames_to_column(\"ID\")\n",
    "\n",
    "covs[1:10, 1:5]"
   ]
  },
  {
   "cell_type": "code",
   "execution_count": null,
   "metadata": {},
   "outputs": [],
   "source": [
    "covs %>% data.table::fwrite(\"genes.combined_covariates.txt\", sep='\\t')"
   ]
  },
  {
   "cell_type": "markdown",
   "metadata": {},
   "source": [
    "## Repreducibility Information"
   ]
  },
  {
   "cell_type": "code",
   "execution_count": 40,
   "metadata": {},
   "outputs": [
    {
     "data": {
      "text/plain": [
       "[1] \"2019-06-06 15:55:51 EDT\""
      ]
     },
     "metadata": {},
     "output_type": "display_data"
    },
    {
     "data": {
      "text/plain": [
       "    user   system  elapsed \n",
       "3603.465   70.214 1362.875 "
      ]
     },
     "metadata": {},
     "output_type": "display_data"
    },
    {
     "data": {
      "text/plain": [
       "- Session info -------------------------------------------------------------------------------------------------------\n",
       " setting  value                       \n",
       " version  R version 3.5.0 (2018-04-23)\n",
       " os       Arch Linux                  \n",
       " system   x86_64, linux-gnu           \n",
       " ui       X11                         \n",
       " language (EN)                        \n",
       " collate  C                           \n",
       " ctype    C                           \n",
       " tz       America/New_York            \n",
       " date     2019-06-06                  \n",
       "\n",
       "- Packages -----------------------------------------------------------------------------------------------------------\n",
       " package              * version   date       lib source        \n",
       " annotate               1.60.0    2018-10-30 [1] Bioconductor  \n",
       " AnnotationDbi          1.44.0    2018-10-30 [1] Bioconductor  \n",
       " assertthat             0.2.0     2017-04-11 [1] CRAN (R 3.5.0)\n",
       " base64enc              0.1-3     2015-07-28 [1] CRAN (R 3.5.0)\n",
       " bindr                  0.1.1     2018-03-13 [1] CRAN (R 3.5.0)\n",
       " bindrcpp               0.2.2     2018-03-29 [1] CRAN (R 3.5.0)\n",
       " Biobase              * 2.42.0    2018-10-30 [1] Bioconductor  \n",
       " BiocGenerics         * 0.28.0    2018-10-30 [1] Bioconductor  \n",
       " BiocParallel         * 1.16.2    2018-11-28 [1] Bioconductor  \n",
       " bit                    1.1-14    2018-05-29 [1] CRAN (R 3.5.0)\n",
       " bit64                  0.9-7     2017-05-08 [1] CRAN (R 3.5.0)\n",
       " bitops                 1.0-6     2013-08-17 [1] CRAN (R 3.5.0)\n",
       " blob                   1.1.1     2018-03-25 [1] CRAN (R 3.5.0)\n",
       " calibrate            * 1.7.2     2013-09-10 [1] CRAN (R 3.5.0)\n",
       " cli                    1.0.1     2018-09-25 [1] CRAN (R 3.5.0)\n",
       " colorspace             1.3-2     2016-12-14 [1] CRAN (R 3.5.0)\n",
       " crayon                 1.3.4     2017-09-16 [1] CRAN (R 3.5.0)\n",
       " DBI                    1.0.0     2018-05-02 [1] CRAN (R 3.5.0)\n",
       " DelayedArray         * 0.8.0     2018-10-30 [1] Bioconductor  \n",
       " digest                 0.6.18    2018-10-10 [1] CRAN (R 3.5.0)\n",
       " dplyr                  0.7.8     2018-11-10 [1] CRAN (R 3.5.0)\n",
       " edgeR                * 3.24.1    2018-12-03 [1] Bioconductor  \n",
       " evaluate               0.12      2018-10-09 [1] CRAN (R 3.5.0)\n",
       " genefilter           * 1.64.0    2018-10-30 [1] Bioconductor  \n",
       " GenomeInfoDb         * 1.18.1    2018-11-12 [1] Bioconductor  \n",
       " GenomeInfoDbData       1.2.0     2018-11-10 [1] Bioconductor  \n",
       " GenomicRanges        * 1.34.0    2018-10-30 [1] Bioconductor  \n",
       " ggplot2              * 3.1.0     2018-10-25 [1] CRAN (R 3.5.0)\n",
       " glue                   1.3.0     2018-07-17 [1] CRAN (R 3.5.0)\n",
       " gtable                 0.2.0     2016-02-26 [1] CRAN (R 3.5.0)\n",
       " htmltools              0.3.6     2017-04-28 [1] CRAN (R 3.5.0)\n",
       " IRanges              * 2.16.0    2018-10-30 [1] Bioconductor  \n",
       " IRdisplay              0.7.0     2018-11-29 [1] CRAN (R 3.5.0)\n",
       " IRkernel               0.8.14    2018-11-16 [1] CRAN (R 3.5.0)\n",
       " jsonlite               1.5       2017-06-01 [1] CRAN (R 3.5.0)\n",
       " labeling               0.3       2014-08-23 [1] CRAN (R 3.5.0)\n",
       " lattice                0.20-35   2017-03-25 [2] CRAN (R 3.5.0)\n",
       " lazyeval               0.2.1     2017-10-29 [1] CRAN (R 3.5.0)\n",
       " limma                * 3.38.3    2018-12-02 [1] Bioconductor  \n",
       " locfit                 1.5-9.1   2013-04-20 [1] CRAN (R 3.5.0)\n",
       " magrittr               1.5       2014-11-22 [1] CRAN (R 3.5.0)\n",
       " MASS                 * 7.3-51.1  2018-11-01 [1] CRAN (R 3.5.0)\n",
       " Matrix                 1.2-14    2018-04-13 [2] CRAN (R 3.5.0)\n",
       " matrixStats          * 0.54.0    2018-07-23 [1] CRAN (R 3.5.0)\n",
       " memoise                1.1.0     2017-04-21 [1] CRAN (R 3.5.0)\n",
       " mgcv                 * 1.8-23    2018-01-21 [2] CRAN (R 3.5.0)\n",
       " munsell                0.5.0     2018-06-12 [1] CRAN (R 3.5.0)\n",
       " nlme                 * 3.1-137   2018-04-07 [2] CRAN (R 3.5.0)\n",
       " pbdZMQ                 0.3-3     2018-05-05 [1] CRAN (R 3.5.0)\n",
       " pillar                 1.3.0     2018-07-14 [1] CRAN (R 3.5.0)\n",
       " pkgconfig              2.0.2     2018-08-16 [1] CRAN (R 3.5.0)\n",
       " plyr                   1.8.4     2016-06-08 [1] CRAN (R 3.5.0)\n",
       " purrr                  0.2.5     2018-05-29 [1] CRAN (R 3.5.0)\n",
       " R6                     2.3.0     2018-10-04 [1] CRAN (R 3.5.0)\n",
       " Rcpp                   1.0.0     2018-11-07 [1] CRAN (R 3.5.0)\n",
       " RCurl                  1.95-4.11 2018-07-15 [1] CRAN (R 3.5.0)\n",
       " repr                   0.18      2018-11-27 [1] CRAN (R 3.5.0)\n",
       " rlang                  0.3.0.1   2018-10-25 [1] CRAN (R 3.5.0)\n",
       " RSQLite                2.1.1     2018-05-06 [1] CRAN (R 3.5.0)\n",
       " S4Vectors            * 0.20.1    2018-11-09 [1] Bioconductor  \n",
       " scales                 1.0.0     2018-08-09 [1] CRAN (R 3.5.0)\n",
       " sessioninfo            1.1.1     2018-11-05 [1] CRAN (R 3.5.0)\n",
       " SummarizedExperiment * 1.12.0    2018-10-30 [1] Bioconductor  \n",
       " survival               2.41-3    2017-04-04 [2] CRAN (R 3.5.0)\n",
       " sva                  * 3.30.0    2018-10-30 [1] Bioconductor  \n",
       " tibble                 1.4.2     2018-01-22 [1] CRAN (R 3.5.0)\n",
       " tidyselect             0.2.5     2018-10-11 [1] CRAN (R 3.5.0)\n",
       " uuid                   0.1-2     2015-07-28 [1] CRAN (R 3.5.0)\n",
       " withr                  2.1.2     2018-03-15 [1] CRAN (R 3.5.0)\n",
       " XML                    3.98-1.16 2018-08-19 [1] CRAN (R 3.5.0)\n",
       " xtable                 1.8-3     2018-08-29 [1] CRAN (R 3.5.0)\n",
       " XVector                0.22.0    2018-10-30 [1] Bioconductor  \n",
       " zlibbioc               1.28.0    2018-10-30 [1] Bioconductor  \n",
       "\n",
       "[1] /home/jbenja13/R/x86_64-pc-linux-gnu-library/3.5\n",
       "[2] /usr/lib/R/library"
      ]
     },
     "metadata": {},
     "output_type": "display_data"
    }
   ],
   "source": [
    "Sys.time()\n",
    "proc.time()\n",
    "options(width = 120)\n",
    "sessioninfo::session_info()"
   ]
  }
 ],
 "metadata": {
  "kernelspec": {
   "display_name": "R",
   "language": "R",
   "name": "ir"
  },
  "language_info": {
   "codemirror_mode": "r",
   "file_extension": ".r",
   "mimetype": "text/x-r-source",
   "name": "R",
   "pygments_lexer": "r",
   "version": "4.0.3"
  }
 },
 "nbformat": 4,
 "nbformat_minor": 4
}
