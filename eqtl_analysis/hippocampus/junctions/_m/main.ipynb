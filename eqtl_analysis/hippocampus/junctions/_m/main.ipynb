{
 "cells": [
  {
   "cell_type": "markdown",
   "metadata": {},
   "source": [
    "# Prepare GCT files for the gtex eqtl pipeline\n",
    "\n",
    "Apuã Paquola\n",
    "\n",
    "Edited by Kynon J Benjamin\n",
    "\n",
    "- Inputs:\n",
    "    * raw counts\n",
    "    * sample table\n",
    "- Outputs:\n",
    "    * GCT files of counts and tpm for selected samples and genes\n",
    "    * A lookup table of sample_ids and brain_ids\n",
    "    * A list of chromosomes to use"
   ]
  },
  {
   "cell_type": "code",
   "execution_count": 1,
   "metadata": {
    "execution": {
     "iopub.execute_input": "2021-07-15T00:44:35.721144Z",
     "iopub.status.busy": "2021-07-15T00:44:35.719732Z",
     "iopub.status.idle": "2021-07-15T00:44:36.025615Z",
     "shell.execute_reply": "2021-07-15T00:44:36.023862Z"
    }
   },
   "outputs": [],
   "source": [
    "import pandas as pd"
   ]
  },
  {
   "cell_type": "code",
   "execution_count": 2,
   "metadata": {
    "execution": {
     "iopub.execute_input": "2021-07-15T00:44:36.035384Z",
     "iopub.status.busy": "2021-07-15T00:44:36.033572Z",
     "iopub.status.idle": "2021-07-15T00:44:36.037179Z",
     "shell.execute_reply": "2021-07-15T00:44:36.038263Z"
    }
   },
   "outputs": [],
   "source": [
    "def to_gct(filename, df):\n",
    "    description_df = pd.DataFrame({'Description': df.index.values}, index=df.index)\n",
    "    dfo = pd.concat([description_df, df], axis=1)\n",
    "    dfo.index.name = 'Names'\n",
    "    with open(filename, \"wt\") as out:\n",
    "        print(\"#1.2\", file=out)\n",
    "        print(df.shape[0], df.shape[1], sep=\"\\t\", file=out)\n",
    "        dfo.to_csv(out, sep=\"\\t\")\n"
   ]
  },
  {
   "cell_type": "markdown",
   "metadata": {},
   "source": [
    "## Load data"
   ]
  },
  {
   "cell_type": "code",
   "execution_count": 3,
   "metadata": {
    "execution": {
     "iopub.execute_input": "2021-07-15T00:44:36.047041Z",
     "iopub.status.busy": "2021-07-15T00:44:36.045750Z",
     "iopub.status.idle": "2021-07-15T00:45:24.994131Z",
     "shell.execute_reply": "2021-07-15T00:45:24.993027Z"
    }
   },
   "outputs": [],
   "source": [
    "fam_df = pd.read_csv(\"/ceph/projects/v4_phase3_paper/inputs/genotypes/_m/LIBD_Brain_TopMed.fam\", \n",
    "                     sep=\"\\t\", header=None, names=[\"BrNum\", \"ID\", \"V2\", \"V3\", \"V4\", \"V5\"])\n",
    "pheno_df = pd.read_csv(\"/ceph/projects/v4_phase3_paper/inputs/phenotypes/_m/merged_phenotypes.csv\")\n",
    "pheno_df = pheno_df[(pheno_df[\"Dx\"].isin([\"CTL\", \"SZ\"])) & \n",
    "                    (pheno_df[\"Race\"].isin([\"AA\", \"EA\"])) & \n",
    "                    (pheno_df[\"Age\"] > 13)].copy()\n",
    "pheno_df[\"ids\"] = pheno_df.RNum\n",
    "pheno_df.set_index(\"ids\", inplace=True)\n",
    "tpm_df = pd.read_csv(\"/ceph/projects/v4_phase3_paper/inputs/counts/text_files_counts/tpm/_m/hippocampus/junction/tpm.csv\", index_col=0)\n",
    "counts_df = pd.read_csv(\"/ceph/projects/v4_phase3_paper/inputs/counts/text_files_counts/_m/hippocampus/jxn_counts.txt\", \n",
    "                        sep=\"\\t\", index_col=0)"
   ]
  },
  {
   "cell_type": "markdown",
   "metadata": {},
   "source": [
    "## Select individuals"
   ]
  },
  {
   "cell_type": "code",
   "execution_count": 4,
   "metadata": {
    "execution": {
     "iopub.execute_input": "2021-07-15T00:45:25.005679Z",
     "iopub.status.busy": "2021-07-15T00:45:25.004391Z",
     "iopub.status.idle": "2021-07-15T00:45:25.019405Z",
     "shell.execute_reply": "2021-07-15T00:45:25.018314Z"
    }
   },
   "outputs": [
    {
     "data": {
      "text/plain": [
       "(394, 6)"
      ]
     },
     "execution_count": 1,
     "metadata": {},
     "output_type": "execute_result"
    }
   ],
   "source": [
    "samples_rnum = list(set(pheno_df.index).intersection(set(counts_df.columns)))\n",
    "samples = list(set(pheno_df.loc[samples_rnum,:].BrNum).intersection(set(fam_df.BrNum)))\n",
    "new_fam = fam_df[(fam_df[\"BrNum\"].isin(samples))].drop_duplicates(subset=\"BrNum\")\n",
    "new_fam.to_csv(\"keepFam.txt\", sep='\\t', index=False, header=False)\n",
    "new_fam.shape"
   ]
  },
  {
   "cell_type": "code",
   "execution_count": 5,
   "metadata": {
    "execution": {
     "iopub.execute_input": "2021-07-15T00:45:25.030346Z",
     "iopub.status.busy": "2021-07-15T00:45:25.025483Z",
     "iopub.status.idle": "2021-07-15T00:45:25.041365Z",
     "shell.execute_reply": "2021-07-15T00:45:25.042444Z"
    }
   },
   "outputs": [
    {
     "name": "stdout",
     "output_type": "stream",
     "text": [
      "(394, 2)\n"
     ]
    },
    {
     "data": {
      "text/html": [
       "<div>\n",
       "<style scoped>\n",
       "    .dataframe tbody tr th:only-of-type {\n",
       "        vertical-align: middle;\n",
       "    }\n",
       "\n",
       "    .dataframe tbody tr th {\n",
       "        vertical-align: top;\n",
       "    }\n",
       "\n",
       "    .dataframe thead th {\n",
       "        text-align: right;\n",
       "    }\n",
       "</style>\n",
       "<table border=\"1\" class=\"dataframe\">\n",
       "  <thead>\n",
       "    <tr style=\"text-align: right;\">\n",
       "      <th></th>\n",
       "      <th>BrNum</th>\n",
       "      <th>RNum</th>\n",
       "    </tr>\n",
       "    <tr>\n",
       "      <th>ids</th>\n",
       "      <th></th>\n",
       "      <th></th>\n",
       "    </tr>\n",
       "  </thead>\n",
       "  <tbody>\n",
       "    <tr>\n",
       "      <th>R5527</th>\n",
       "      <td>Br822</td>\n",
       "      <td>R5527</td>\n",
       "    </tr>\n",
       "    <tr>\n",
       "      <th>R2725</th>\n",
       "      <td>Br823</td>\n",
       "      <td>R2725</td>\n",
       "    </tr>\n",
       "  </tbody>\n",
       "</table>\n",
       "</div>"
      ],
      "text/plain": [
       "       BrNum   RNum\n",
       "ids                \n",
       "R5527  Br822  R5527\n",
       "R2725  Br823  R2725"
      ]
     },
     "execution_count": 1,
     "metadata": {},
     "output_type": "execute_result"
    }
   ],
   "source": [
    "new_pheno = pheno_df.loc[(pheno_df.RNum.isin(samples_rnum)), [\"RNum\", \"BrNum\"]]\\\n",
    "                    .reset_index().set_index(\"BrNum\")\\\n",
    "                    .loc[new_fam.BrNum].reset_index().set_index(\"ids\")\n",
    "print(new_pheno.shape)\n",
    "new_pheno.head(2)"
   ]
  },
  {
   "cell_type": "code",
   "execution_count": 6,
   "metadata": {
    "execution": {
     "iopub.execute_input": "2021-07-15T00:45:25.053778Z",
     "iopub.status.busy": "2021-07-15T00:45:25.048818Z",
     "iopub.status.idle": "2021-07-15T00:45:25.057483Z",
     "shell.execute_reply": "2021-07-15T00:45:25.058480Z"
    }
   },
   "outputs": [],
   "source": [
    "interaction_df = pheno_df.loc[(pheno_df.RNum.isin(samples_rnum)), [\"RNum\", \"BrNum\", \"Sex\"]]\\\n",
    "                         .reset_index().set_index(\"BrNum\")\\\n",
    "                         .loc[new_fam.BrNum]\n",
    "interaction_df[\"Sex\"] = interaction_df.Sex.astype(\"category\").cat.codes\n",
    "interaction_df.loc[:, [\"Sex\"]].to_csv(\"sex_interaction_list.txt\", sep='\\t')"
   ]
  },
  {
   "cell_type": "markdown",
   "metadata": {},
   "source": [
    "## Select genes"
   ]
  },
  {
   "cell_type": "code",
   "execution_count": 7,
   "metadata": {
    "execution": {
     "iopub.execute_input": "2021-07-15T00:45:25.540660Z",
     "iopub.status.busy": "2021-07-15T00:45:25.539316Z",
     "iopub.status.idle": "2021-07-15T00:45:25.544776Z",
     "shell.execute_reply": "2021-07-15T00:45:25.543614Z"
    }
   },
   "outputs": [
    {
     "data": {
      "text/plain": [
       "737300"
      ]
     },
     "execution_count": 1,
     "metadata": {},
     "output_type": "execute_result"
    }
   ],
   "source": [
    "genes = list(set(counts_df.index).intersection(set(tpm_df.index)))\n",
    "len(genes)"
   ]
  },
  {
   "cell_type": "markdown",
   "metadata": {},
   "source": [
    "## Output files"
   ]
  },
  {
   "cell_type": "code",
   "execution_count": 8,
   "metadata": {
    "execution": {
     "iopub.execute_input": "2021-07-15T00:45:25.673463Z",
     "iopub.status.busy": "2021-07-15T00:45:25.672161Z",
     "iopub.status.idle": "2021-07-15T00:50:21.987030Z",
     "shell.execute_reply": "2021-07-15T00:50:21.988109Z"
    }
   },
   "outputs": [],
   "source": [
    "to_gct(\"counts.gct\", counts_df.loc[genes,new_pheno.index])\n",
    "to_gct(\"tpm.gct\", tpm_df.loc[genes,new_pheno.index])\n",
    "new_pheno.loc[:, [\"RNum\", \"BrNum\"]].to_csv(\"sample_id_to_brnum.tsv\", sep=\"\\t\", index=False)"
   ]
  },
  {
   "cell_type": "code",
   "execution_count": 9,
   "metadata": {
    "execution": {
     "iopub.execute_input": "2021-07-15T00:50:21.995977Z",
     "iopub.status.busy": "2021-07-15T00:50:21.994683Z",
     "iopub.status.idle": "2021-07-15T00:50:21.999017Z",
     "shell.execute_reply": "2021-07-15T00:50:21.997826Z"
    }
   },
   "outputs": [],
   "source": [
    "pd.DataFrame({'chr':['chr'+xx for xx in [str(x) for x in range(1,23)] + ['X']]})\\\n",
    "  .to_csv('vcf_chr_list.txt', header=False, index=None)"
   ]
  },
  {
   "cell_type": "code",
   "execution_count": null,
   "metadata": {},
   "outputs": [],
   "source": []
  }
 ],
 "metadata": {
  "kernelspec": {
   "display_name": "Python 3",
   "language": "python",
   "name": "python3"
  },
  "language_info": {
   "codemirror_mode": {
    "name": "ipython",
    "version": 3
   },
   "file_extension": ".py",
   "mimetype": "text/x-python",
   "name": "python",
   "nbconvert_exporter": "python",
   "pygments_lexer": "ipython3",
   "version": "3.9.1"
  }
 },
 "nbformat": 4,
 "nbformat_minor": 4
}
