{
 "cells": [
  {
   "cell_type": "markdown",
   "metadata": {},
   "source": [
    "# eqtplot for eqtl-gwas colocalization"
   ]
  },
  {
   "cell_type": "code",
   "execution_count": 1,
   "metadata": {},
   "outputs": [],
   "source": [
    "import pandas as pd\n",
    "import numpy as np\n",
    "import subprocess\n",
    "import functools"
   ]
  },
  {
   "cell_type": "code",
   "execution_count": 2,
   "metadata": {},
   "outputs": [],
   "source": [
    "%load_ext rpy2.ipython"
   ]
  },
  {
   "cell_type": "markdown",
   "metadata": {},
   "source": [
    "## Functions"
   ]
  },
  {
   "cell_type": "code",
   "execution_count": 3,
   "metadata": {},
   "outputs": [],
   "source": [
    "def flip_slope_by_allele(row):\n",
    "    return [-1, 1][bool(row[\"pgc2_a1_same_as_our_counted\"])] * row[\"NES\"]\n",
    "\n",
    "\n",
    "def get_ld(fn, eqtl_dfx, gwas_dfx, label):\n",
    "    shared_df = gwas_dfx.merge(eqtl_dfx, left_on='SNP', right_on='SNP.Id')\\\n",
    "                        .sort_values('P', ascending=True)\n",
    "    shared_df[['SNP.Id']].to_csv('snps_%s.txt' % label, index=None, header=None)\n",
    "    cmd = '''/ceph/opt/plink-ng/1.9/plink \\\n",
    "                --bfile /ceph/users/jbenja13/github_projects/sex_differences_sz/input/genotypes/subset_by_sex/shared_snps/_m/LIBD_Brain_TopMed \\\n",
    "                --extract snps_%s.txt \\\n",
    "                --keep-fam %s --r2 inter-chr \\\n",
    "                --write-snplist --ld-window-r2 0 \\\n",
    "                --out shared_snps_%s; \n",
    "            sed -i 's/ \\+//; s/ \\+/\\t/g' shared_snps_%s.ld\n",
    "      ''' % (label,fn,label,label)\n",
    "    subprocess.run(cmd, shell=True)\n",
    "    return pd.read_csv(\"shared_snps_%s.ld\" % label, sep='\\t', usecols=[*range(7)])"
   ]
  },
  {
   "cell_type": "code",
   "execution_count": 4,
   "metadata": {},
   "outputs": [],
   "source": [
    "@functools.lru_cache()\n",
    "def get_gwas():\n",
    "    gwas_fn = '/ceph/projects/v4_phase3_paper/inputs/sz_gwas/'+\\\n",
    "              'pgc2_clozuk/map_phase3/zscore/_m/libd_hg38_pgc2sz_snps.tsv'\n",
    "    return pd.read_csv(gwas_fn, sep=\"\\t\", dtype={'chrN':str}, index_col=0)\n",
    "\n",
    "\n",
    "@functools.lru_cache()\n",
    "def subset_gwas(chrom, pos, window):\n",
    "    gwas_df = get_gwas().loc[(get_gwas()['chrN'] == chrom) & \n",
    "                             (get_gwas()['pos'] > pos - window) & \n",
    "                             (get_gwas()['pos'] < pos + window), \n",
    "                             ['chrN', 'pos', 'our_snp_id', 'P']]\\\n",
    "                        .rename(columns={'chrN':'CHR', 'pos':'BP', 'our_snp_id':'SNP'})\n",
    "    ## Flip direction of OR based on alleles matching\n",
    "    gwas_df['BETA'] = np.log(get_gwas()[[\"OR\"]])\n",
    "    gwas_df['PHE'] = 'SCZD'\n",
    "    gwas_df['CHR'] = gwas_df['CHR'].astype(int)\n",
    "    gwas_df['pgc2_a1_same_as_our_counted'] = get_gwas()[[\"pgc2_a1_same_as_our_counted\"]]\n",
    "    return gwas_df\n",
    "\n",
    "\n",
    "@functools.lru_cache()\n",
    "def get_eqtl(fn, feature):\n",
    "    cmd = '''\n",
    "    zcat %s | head -1; zcat %s | awk '$1 == \"%s\" {print}'\n",
    "    ''' % (fn,fn,feature)\n",
    "    #print(cmd)\n",
    "    with subprocess.Popen(cmd, shell=True, stdout=subprocess.PIPE) as p:\n",
    "        df = pd.read_csv(p.stdout, sep='\\t')\n",
    "    return df\n",
    "\n",
    "\n",
    "@functools.lru_cache()\n",
    "def annotate_eqtls(fn, feature, tissue):\n",
    "    df = get_eqtl(fn, feature)\n",
    "    eqtl_df = pd.DataFrame({'SNP.Id': df['variant_id'], \n",
    "                            'Gene.Symbol': df['gene_id'], \n",
    "                            'P.Value': df['pval_nominal'], \n",
    "                            'NES': df['slope'], 'Tissue': tissue}, \n",
    "                           index=df.index)\n",
    "    return eqtl_df"
   ]
  },
  {
   "cell_type": "code",
   "execution_count": 5,
   "metadata": {},
   "outputs": [],
   "source": [
    "def get_eqtl_by_genes(sex, tissue, gene):\n",
    "    fn = '../../../../prep_eqtl_analysis/by_sex/%s/%s/' % (tissue, sex) +\\\n",
    "         'prepare_expression/fastqtl_nominal/_m/Brainseq_LIBD.allpairs.txt.gz'\n",
    "    return annotate_eqtls(fn, gene, tissue)\n",
    "\n",
    "\n",
    "def merge_gwas(eqtl_df, gwas_df):\n",
    "    eqtl_df = pd.merge(eqtl_df, gwas_df, left_on=\"SNP.Id\", right_on=\"SNP\", how=\"left\")\\\n",
    "                .drop([\"CHR\", \"SNP\", \"BP\", \"P\", \"BETA\", \"PHE\"], axis=1).fillna(True)\n",
    "    eqtl_df.loc[:,'NES'] = eqtl_df.apply(flip_slope_by_allele, axis=1)\n",
    "    return eqtl_df.drop([\"pgc2_a1_same_as_our_counted\"], axis=1)\n",
    "\n",
    "\n",
    "def get_ld_by_tissue(eqtl_df, gwas_df, tissue, sex, label):\n",
    "    fn_fam = \"../../../../prep_eqtl_analysis/by_sex/%s/%s/_m/keepFam.txt\" % (tissue, sex)\n",
    "    return get_ld(fn_fam, eqtl_df, gwas_df, \"%s_%s_%s\" % (label, tissue, sex))"
   ]
  },
  {
   "cell_type": "markdown",
   "metadata": {},
   "source": [
    "## Prepare data"
   ]
  },
  {
   "cell_type": "markdown",
   "metadata": {},
   "source": [
    "### GWAS summary statistics data frame"
   ]
  },
  {
   "cell_type": "code",
   "execution_count": 6,
   "metadata": {},
   "outputs": [
    {
     "name": "stderr",
     "output_type": "stream",
     "text": [
      "/home/jbenja13/.local/lib/python3.9/site-packages/numpy/lib/arraysetops.py:583: FutureWarning: elementwise comparison failed; returning scalar instead, but in the future will perform elementwise comparison\n",
      "  mask |= (ar1 == a)\n"
     ]
    },
    {
     "name": "stdout",
     "output_type": "stream",
     "text": [
      "CHR                              int64\n",
      "BP                               int64\n",
      "SNP                             object\n",
      "P                              float64\n",
      "BETA                           float64\n",
      "PHE                             object\n",
      "pgc2_a1_same_as_our_counted       bool\n",
      "dtype: object\n",
      "(1188, 7)\n"
     ]
    },
    {
     "data": {
      "text/html": [
       "<div>\n",
       "<style scoped>\n",
       "    .dataframe tbody tr th:only-of-type {\n",
       "        vertical-align: middle;\n",
       "    }\n",
       "\n",
       "    .dataframe tbody tr th {\n",
       "        vertical-align: top;\n",
       "    }\n",
       "\n",
       "    .dataframe thead th {\n",
       "        text-align: right;\n",
       "    }\n",
       "</style>\n",
       "<table border=\"1\" class=\"dataframe\">\n",
       "  <thead>\n",
       "    <tr style=\"text-align: right;\">\n",
       "      <th></th>\n",
       "      <th>CHR</th>\n",
       "      <th>BP</th>\n",
       "      <th>SNP</th>\n",
       "      <th>P</th>\n",
       "      <th>BETA</th>\n",
       "      <th>PHE</th>\n",
       "      <th>pgc2_a1_same_as_our_counted</th>\n",
       "    </tr>\n",
       "  </thead>\n",
       "  <tbody>\n",
       "    <tr>\n",
       "      <th>1797695</th>\n",
       "      <td>15</td>\n",
       "      <td>90668725</td>\n",
       "      <td>chr15:90668725:TTTCAGAGATAG:T</td>\n",
       "      <td>0.4831</td>\n",
       "      <td>-0.008500</td>\n",
       "      <td>SCZD</td>\n",
       "      <td>True</td>\n",
       "    </tr>\n",
       "    <tr>\n",
       "      <th>1797696</th>\n",
       "      <td>15</td>\n",
       "      <td>90669048</td>\n",
       "      <td>chr15:90669048:T:C</td>\n",
       "      <td>0.6677</td>\n",
       "      <td>0.004789</td>\n",
       "      <td>SCZD</td>\n",
       "      <td>False</td>\n",
       "    </tr>\n",
       "  </tbody>\n",
       "</table>\n",
       "</div>"
      ],
      "text/plain": [
       "         CHR        BP                            SNP       P      BETA   PHE  \\\n",
       "1797695   15  90668725  chr15:90668725:TTTCAGAGATAG:T  0.4831 -0.008500  SCZD   \n",
       "1797696   15  90669048             chr15:90669048:T:C  0.6677  0.004789  SCZD   \n",
       "\n",
       "         pgc2_a1_same_as_our_counted  \n",
       "1797695                         True  \n",
       "1797696                        False  "
      ]
     },
     "execution_count": 6,
     "metadata": {},
     "output_type": "execute_result"
    }
   ],
   "source": [
    "## Parameters\n",
    "chrom = 15; pos = 90868592; window = 2e5\n",
    "## Load GWAS summary stats\n",
    "gwas_df = subset_gwas(\"%d\" % chrom, pos, window)\n",
    "print(gwas_df.dtypes)\n",
    "print(gwas_df.shape)\n",
    "gwas_df.head(2)"
   ]
  },
  {
   "cell_type": "markdown",
   "metadata": {},
   "source": [
    "### Gene data frame"
   ]
  },
  {
   "cell_type": "code",
   "execution_count": null,
   "metadata": {},
   "outputs": [],
   "source": [
    "genes_df = pd.DataFrame({'CHR':[15],\n",
    "                         'Start':[90868592],\n",
    "                         'Stop':[90883458],\n",
    "                         'Gene':[\"ENSG00000140564.10\"],\n",
    "                         'Build': ['hg38']})\n",
    "genes_df"
   ]
  },
  {
   "cell_type": "markdown",
   "metadata": {},
   "source": [
    "### Significant p-values"
   ]
  },
  {
   "cell_type": "code",
   "execution_count": null,
   "metadata": {},
   "outputs": [],
   "source": [
    "## P value nominal threshold by feature from permutation analysis\n",
    "perm_pval = pd.DataFrame({'Gene':[\"ENSG00000140564.10\"], \n",
    "                          'perm_pval': [0.01]})\n",
    "perm_pval"
   ]
  },
  {
   "cell_type": "markdown",
   "metadata": {},
   "source": [
    "### eQTL data frame"
   ]
  },
  {
   "cell_type": "code",
   "execution_count": null,
   "metadata": {},
   "outputs": [],
   "source": [
    "# DLPFC\n",
    "eqtl_df1 = get_eqtl_by_genes(\"female\", \"dlpfc\", genes_df.Gene[0])\n",
    "eqtl_df2 = get_eqtl_by_genes(\"male\", \"dlpfc\", genes_df.Gene[0])\n",
    "# Hippocampus\n",
    "eqtl_df3 = get_eqtl_by_genes(\"female\", \"hippocampus\", genes_df.Gene[0])\n",
    "eqtl_df4 = get_eqtl_by_genes(\"male\", \"hippocampus\", genes_df.Gene[0])"
   ]
  },
  {
   "cell_type": "code",
   "execution_count": null,
   "metadata": {},
   "outputs": [],
   "source": [
    "## DLPFC\n",
    "eqtl_df1 = merge_gwas(eqtl_df1, gwas_df)\n",
    "print(eqtl_df1.shape)\n",
    "eqtl_df1.sort_values(\"P.Value\").head(5)"
   ]
  },
  {
   "cell_type": "code",
   "execution_count": null,
   "metadata": {},
   "outputs": [],
   "source": [
    "eqtl_df2 = merge_gwas(eqtl_df2, gwas_df)\n",
    "print(eqtl_df2.shape)\n",
    "eqtl_df2.sort_values(\"P.Value\").head(5)"
   ]
  },
  {
   "cell_type": "code",
   "execution_count": null,
   "metadata": {},
   "outputs": [],
   "source": [
    "## Hippocampus\n",
    "eqtl_df3 = merge_gwas(eqtl_df3, gwas_df)\n",
    "print(eqtl_df3.shape)\n",
    "eqtl_df3.sort_values(\"P.Value\").head(5)"
   ]
  },
  {
   "cell_type": "code",
   "execution_count": null,
   "metadata": {},
   "outputs": [],
   "source": [
    "eqtl_df4 = merge_gwas(eqtl_df4, gwas_df)\n",
    "print(eqtl_df4.shape)\n",
    "eqtl_df4.sort_values(\"P.Value\").head(5)"
   ]
  },
  {
   "cell_type": "code",
   "execution_count": null,
   "metadata": {},
   "outputs": [],
   "source": [
    "gwas_df.drop([\"pgc2_a1_same_as_our_counted\"], axis=1, inplace=True)\n",
    "print(gwas_df.shape)"
   ]
  },
  {
   "cell_type": "markdown",
   "metadata": {},
   "source": [
    "### LD data frame"
   ]
  },
  {
   "cell_type": "code",
   "execution_count": null,
   "metadata": {},
   "outputs": [],
   "source": [
    "ld_df1 = get_ld_by_tissue(eqtl_df1, gwas_df, \"dlpfc\", \"female\", \"furin\")\n",
    "ld_df2 = get_ld_by_tissue(eqtl_df2, gwas_df, \"dlpfc\", \"male\", \"furin\")\n",
    "ld_df3 = get_ld_by_tissue(eqtl_df3, gwas_df, \"hippocampus\", \"female\", \"furin\")\n",
    "ld_df4 = get_ld_by_tissue(eqtl_df4, gwas_df, \"hippocampus\", \"male\", \"furin\")"
   ]
  },
  {
   "cell_type": "markdown",
   "metadata": {},
   "source": [
    "## Plot"
   ]
  },
  {
   "cell_type": "code",
   "execution_count": null,
   "metadata": {},
   "outputs": [],
   "source": [
    "%%R -i gwas_df,genes_df,perm_pval\n",
    "library(eQTpLot)\n",
    "perm_pval"
   ]
  },
  {
   "cell_type": "markdown",
   "metadata": {},
   "source": [
    "### DLPFC"
   ]
  },
  {
   "cell_type": "markdown",
   "metadata": {},
   "source": [
    "#### Female"
   ]
  },
  {
   "cell_type": "code",
   "execution_count": null,
   "metadata": {},
   "outputs": [],
   "source": [
    "%%R -i ld_df1,eqtl_df1\n",
    "ld_df = ld_df1\n",
    "eqtl_df = eqtl_df1\n",
    "# based on permutation p-value\n",
    "pval = perm_pval$perm_pval[1]\n",
    "gene = perm_pval$Gene[1]\n",
    "\n",
    "p = eQTpLot(GWAS.df = gwas_df, eQTL.df = eqtl_df, Genes.df = genes_df, getplot=FALSE,\n",
    "            LD.df = ld_df, LDmin = 10, R2min = 0.25, LDcolor = 'black', gene = gene, \n",
    "            trait = 'SCZD', gbuild = 'hg38', tissue = 'caudate', sigpvalue_eQTL = pval, \n",
    "            CollapseMethod = \"min\", congruence = FALSE)"
   ]
  },
  {
   "cell_type": "markdown",
   "metadata": {},
   "source": [
    "#### Male"
   ]
  },
  {
   "cell_type": "code",
   "execution_count": null,
   "metadata": {},
   "outputs": [],
   "source": [
    "%%R -i ld_df2,eqtl_df2\n",
    "ld_df = ld_df2\n",
    "eqtl_df = eqtl_df2\n",
    "# based on permutation p-value\n",
    "pval = perm_pval$perm_pval[1]\n",
    "gene = perm_pval$Gene[1]\n",
    "\n",
    "p = eQTpLot(GWAS.df = gwas_df, eQTL.df = eqtl_df, Genes.df = genes_df, getplot=FALSE,\n",
    "            LD.df = ld_df, LDmin = 10, R2min = 0.25, LDcolor = 'black', gene = gene, \n",
    "            trait = 'SCZD', gbuild = 'hg38', tissue = 'caudate', sigpvalue_eQTL = pval, \n",
    "            CollapseMethod = \"min\", congruence = FALSE)"
   ]
  },
  {
   "cell_type": "code",
   "execution_count": null,
   "metadata": {},
   "outputs": [],
   "source": []
  },
  {
   "cell_type": "code",
   "execution_count": null,
   "metadata": {},
   "outputs": [],
   "source": []
  }
 ],
 "metadata": {
  "kernelspec": {
   "display_name": "Python 3",
   "language": "python",
   "name": "python3"
  },
  "language_info": {
   "codemirror_mode": {
    "name": "ipython",
    "version": 3
   },
   "file_extension": ".py",
   "mimetype": "text/x-python",
   "name": "python",
   "nbconvert_exporter": "python",
   "pygments_lexer": "ipython3",
   "version": "3.9.1"
  }
 },
 "nbformat": 4,
 "nbformat_minor": 5
}
