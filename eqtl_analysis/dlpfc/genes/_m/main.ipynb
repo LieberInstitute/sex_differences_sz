{
 "cells": [
  {
   "cell_type": "markdown",
   "metadata": {},
   "source": [
    "# Prepare GCT files for the gtex eqtl pipeline\n",
    "\n",
    "Apuã Paquola\n",
    "\n",
    "Edited by Kynon J Benjamin\n",
    "\n",
    "- Inputs:\n",
    "    * raw counts\n",
    "    * sample table\n",
    "- Outputs:\n",
    "    * GCT files of counts and tpm for selected samples and genes\n",
    "    * A lookup table of sample_ids and brain_ids\n",
    "    * A list of chromosomes to use"
   ]
  },
  {
   "cell_type": "code",
   "execution_count": 1,
   "metadata": {
    "execution": {
     "iopub.execute_input": "2021-07-15T05:03:21.714321Z",
     "iopub.status.busy": "2021-07-15T05:03:21.712794Z",
     "iopub.status.idle": "2021-07-15T05:03:22.019731Z",
     "shell.execute_reply": "2021-07-15T05:03:22.020301Z"
    }
   },
   "outputs": [],
   "source": [
    "import pandas as pd"
   ]
  },
  {
   "cell_type": "code",
   "execution_count": 2,
   "metadata": {
    "execution": {
     "iopub.execute_input": "2021-07-15T05:03:22.027219Z",
     "iopub.status.busy": "2021-07-15T05:03:22.026349Z",
     "iopub.status.idle": "2021-07-15T05:03:22.029725Z",
     "shell.execute_reply": "2021-07-15T05:03:22.029086Z"
    }
   },
   "outputs": [],
   "source": [
    "def to_gct(filename, df):\n",
    "    description_df = pd.DataFrame({'Description': df.index.values}, index=df.index)\n",
    "    dfo = pd.concat([description_df, df], axis=1)\n",
    "    dfo.index.name = 'Names'\n",
    "    with open(filename, \"wt\") as out:\n",
    "        print(\"#1.2\", file=out)\n",
    "        print(df.shape[0], df.shape[1], sep=\"\\t\", file=out)\n",
    "        dfo.to_csv(out, sep=\"\\t\")\n"
   ]
  },
  {
   "cell_type": "markdown",
   "metadata": {},
   "source": [
    "## Load data"
   ]
  },
  {
   "cell_type": "code",
   "execution_count": 3,
   "metadata": {
    "execution": {
     "iopub.execute_input": "2021-07-15T05:03:22.036848Z",
     "iopub.status.busy": "2021-07-15T05:03:22.035838Z",
     "iopub.status.idle": "2021-07-15T05:03:26.741614Z",
     "shell.execute_reply": "2021-07-15T05:03:26.740446Z"
    }
   },
   "outputs": [],
   "source": [
    "fam_df = pd.read_csv(\"/ceph/projects/v4_phase3_paper/inputs/genotypes/_m/LIBD_Brain_TopMed.fam\", \n",
    "                     sep=\"\\t\", header=None, names=[\"BrNum\", \"ID\", \"V2\", \"V3\", \"V4\", \"V5\"])\n",
    "pheno_df = pd.read_csv(\"/ceph/projects/v4_phase3_paper/inputs/phenotypes/_m/merged_phenotypes.csv\")\n",
    "pheno_df = pheno_df[(pheno_df[\"Dx\"].isin([\"CTL\", \"SZ\"])) & \n",
    "                    (pheno_df[\"Race\"].isin([\"AA\", \"EA\"])) & \n",
    "                    (pheno_df[\"Age\"] > 13)].copy()\n",
    "pheno_df[\"ids\"] = pheno_df.RNum\n",
    "pheno_df.set_index(\"ids\", inplace=True)\n",
    "tpm_df = pd.read_csv(\"/ceph/projects/v4_phase3_paper/inputs/counts/text_files_counts/tpm/_m/dlpfc/gene/tpm.csv\", index_col=0)\n",
    "counts_df = pd.read_csv(\"/ceph/projects/v4_phase3_paper/inputs/counts/text_files_counts/_m/dlpfc/gene_counts.txt\", \n",
    "                        sep=\"\\t\", index_col=0)"
   ]
  },
  {
   "cell_type": "markdown",
   "metadata": {},
   "source": [
    "## Select individuals"
   ]
  },
  {
   "cell_type": "code",
   "execution_count": 4,
   "metadata": {
    "execution": {
     "iopub.execute_input": "2021-07-15T05:03:26.753586Z",
     "iopub.status.busy": "2021-07-15T05:03:26.752213Z",
     "iopub.status.idle": "2021-07-15T05:03:26.766350Z",
     "shell.execute_reply": "2021-07-15T05:03:26.767424Z"
    }
   },
   "outputs": [
    {
     "data": {
      "text/plain": [
       "(377, 6)"
      ]
     },
     "execution_count": 1,
     "metadata": {},
     "output_type": "execute_result"
    }
   ],
   "source": [
    "samples_rnum = list(set(pheno_df.index).intersection(set(counts_df.columns)))\n",
    "samples = list(set(pheno_df.loc[samples_rnum,:].BrNum).intersection(set(fam_df.BrNum)))\n",
    "new_fam = fam_df[(fam_df[\"BrNum\"].isin(samples))].drop_duplicates(subset=\"BrNum\")\n",
    "new_fam.to_csv(\"keepFam.txt\", sep='\\t', index=False, header=False)\n",
    "new_fam.shape"
   ]
  },
  {
   "cell_type": "code",
   "execution_count": 5,
   "metadata": {
    "execution": {
     "iopub.execute_input": "2021-07-15T05:03:26.778505Z",
     "iopub.status.busy": "2021-07-15T05:03:26.774106Z",
     "iopub.status.idle": "2021-07-15T05:03:26.788827Z",
     "shell.execute_reply": "2021-07-15T05:03:26.789878Z"
    }
   },
   "outputs": [
    {
     "name": "stdout",
     "output_type": "stream",
     "text": [
      "(377, 2)\n"
     ]
    },
    {
     "data": {
      "text/html": [
       "<div>\n",
       "<style scoped>\n",
       "    .dataframe tbody tr th:only-of-type {\n",
       "        vertical-align: middle;\n",
       "    }\n",
       "\n",
       "    .dataframe tbody tr th {\n",
       "        vertical-align: top;\n",
       "    }\n",
       "\n",
       "    .dataframe thead th {\n",
       "        text-align: right;\n",
       "    }\n",
       "</style>\n",
       "<table border=\"1\" class=\"dataframe\">\n",
       "  <thead>\n",
       "    <tr style=\"text-align: right;\">\n",
       "      <th></th>\n",
       "      <th>BrNum</th>\n",
       "      <th>RNum</th>\n",
       "    </tr>\n",
       "    <tr>\n",
       "      <th>ids</th>\n",
       "      <th></th>\n",
       "      <th></th>\n",
       "    </tr>\n",
       "  </thead>\n",
       "  <tbody>\n",
       "    <tr>\n",
       "      <th>R12276</th>\n",
       "      <td>Br763</td>\n",
       "      <td>R12276</td>\n",
       "    </tr>\n",
       "    <tr>\n",
       "      <th>R3549</th>\n",
       "      <td>Br822</td>\n",
       "      <td>R3549</td>\n",
       "    </tr>\n",
       "  </tbody>\n",
       "</table>\n",
       "</div>"
      ],
      "text/plain": [
       "        BrNum    RNum\n",
       "ids                  \n",
       "R12276  Br763  R12276\n",
       "R3549   Br822   R3549"
      ]
     },
     "execution_count": 1,
     "metadata": {},
     "output_type": "execute_result"
    }
   ],
   "source": [
    "new_pheno = pheno_df.loc[(pheno_df.RNum.isin(samples_rnum)), [\"RNum\", \"BrNum\"]]\\\n",
    "                    .reset_index().set_index(\"BrNum\")\\\n",
    "                    .loc[new_fam.BrNum].reset_index().set_index(\"ids\")\n",
    "print(new_pheno.shape)\n",
    "new_pheno.head(2)"
   ]
  },
  {
   "cell_type": "code",
   "execution_count": 6,
   "metadata": {
    "execution": {
     "iopub.execute_input": "2021-07-15T05:03:26.800132Z",
     "iopub.status.busy": "2021-07-15T05:03:26.798780Z",
     "iopub.status.idle": "2021-07-15T05:03:26.806289Z",
     "shell.execute_reply": "2021-07-15T05:03:26.805185Z"
    }
   },
   "outputs": [],
   "source": [
    "interaction_df = pheno_df.loc[(pheno_df.RNum.isin(samples_rnum)), [\"RNum\", \"BrNum\", \"Sex\"]]\\\n",
    "                         .reset_index().set_index(\"BrNum\")\\\n",
    "                         .loc[new_fam.BrNum]\n",
    "interaction_df[\"Sex\"] = interaction_df.Sex.astype(\"category\").cat.codes\n",
    "interaction_df.loc[:, [\"Sex\"]].to_csv(\"sex_interaction_list.txt\", sep='\\t')"
   ]
  },
  {
   "cell_type": "markdown",
   "metadata": {},
   "source": [
    "## Select genes"
   ]
  },
  {
   "cell_type": "code",
   "execution_count": 7,
   "metadata": {
    "execution": {
     "iopub.execute_input": "2021-07-15T05:03:26.839487Z",
     "iopub.status.busy": "2021-07-15T05:03:26.838232Z",
     "iopub.status.idle": "2021-07-15T05:03:26.842478Z",
     "shell.execute_reply": "2021-07-15T05:03:26.843528Z"
    }
   },
   "outputs": [
    {
     "data": {
      "text/plain": [
       "47661"
      ]
     },
     "execution_count": 1,
     "metadata": {},
     "output_type": "execute_result"
    }
   ],
   "source": [
    "genes = list(set(counts_df.index).intersection(set(tpm_df.index)))\n",
    "len(genes)"
   ]
  },
  {
   "cell_type": "markdown",
   "metadata": {},
   "source": [
    "## Output files"
   ]
  },
  {
   "cell_type": "code",
   "execution_count": 8,
   "metadata": {
    "execution": {
     "iopub.execute_input": "2021-07-15T05:03:26.859745Z",
     "iopub.status.busy": "2021-07-15T05:03:26.858475Z",
     "iopub.status.idle": "2021-07-15T05:03:49.977082Z",
     "shell.execute_reply": "2021-07-15T05:03:49.975966Z"
    }
   },
   "outputs": [],
   "source": [
    "to_gct(\"counts.gct\", counts_df.loc[genes,new_pheno.index])\n",
    "to_gct(\"tpm.gct\", tpm_df.loc[genes,new_pheno.index])\n",
    "new_pheno.loc[:, [\"RNum\", \"BrNum\"]].to_csv(\"sample_id_to_brnum.tsv\", sep=\"\\t\", index=False)"
   ]
  },
  {
   "cell_type": "code",
   "execution_count": 9,
   "metadata": {
    "execution": {
     "iopub.execute_input": "2021-07-15T05:03:49.984718Z",
     "iopub.status.busy": "2021-07-15T05:03:49.983423Z",
     "iopub.status.idle": "2021-07-15T05:03:49.986743Z",
     "shell.execute_reply": "2021-07-15T05:03:49.987818Z"
    }
   },
   "outputs": [],
   "source": [
    "pd.DataFrame({'chr':['chr'+xx for xx in [str(x) for x in range(1,23)] + ['X']]})\\\n",
    "  .to_csv('vcf_chr_list.txt', header=False, index=None)"
   ]
  },
  {
   "cell_type": "code",
   "execution_count": null,
   "metadata": {},
   "outputs": [],
   "source": []
  }
 ],
 "metadata": {
  "kernelspec": {
   "display_name": "Python 3",
   "language": "python",
   "name": "python3"
  },
  "language_info": {
   "codemirror_mode": {
    "name": "ipython",
    "version": 3
   },
   "file_extension": ".py",
   "mimetype": "text/x-python",
   "name": "python",
   "nbconvert_exporter": "python",
   "pygments_lexer": "ipython3",
   "version": "3.9.1"
  }
 },
 "nbformat": 4,
 "nbformat_minor": 4
}
