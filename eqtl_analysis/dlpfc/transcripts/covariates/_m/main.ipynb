{
 "cells": [
  {
   "cell_type": "markdown",
   "metadata": {},
   "source": [
    "# Prepare covariates from Matrix eQTL analysis\n",
    "Kynon J Benjamin"
   ]
  },
  {
   "cell_type": "code",
   "execution_count": 1,
   "metadata": {
    "execution": {
     "iopub.execute_input": "2021-07-14T23:44:58.577702Z",
     "iopub.status.busy": "2021-07-14T23:44:58.575968Z",
     "iopub.status.idle": "2021-07-14T23:45:00.145838Z",
     "shell.execute_reply": "2021-07-14T23:45:00.144139Z"
    }
   },
   "outputs": [
    {
     "name": "stderr",
     "output_type": "stream",
     "text": [
      "── \u001b[1mAttaching packages\u001b[22m ─────────────────────────────────────── tidyverse 1.3.1 ──\n",
      "\n",
      "\u001b[32m✔\u001b[39m \u001b[34mggplot2\u001b[39m 3.3.5     \u001b[32m✔\u001b[39m \u001b[34mpurrr  \u001b[39m 0.3.4\n",
      "\u001b[32m✔\u001b[39m \u001b[34mtibble \u001b[39m 3.1.2     \u001b[32m✔\u001b[39m \u001b[34mdplyr  \u001b[39m 1.0.7\n",
      "\u001b[32m✔\u001b[39m \u001b[34mtidyr  \u001b[39m 1.1.3     \u001b[32m✔\u001b[39m \u001b[34mstringr\u001b[39m 1.4.0\n",
      "\u001b[32m✔\u001b[39m \u001b[34mreadr  \u001b[39m 1.4.0     \u001b[32m✔\u001b[39m \u001b[34mforcats\u001b[39m 0.5.1\n",
      "\n",
      "── \u001b[1mConflicts\u001b[22m ────────────────────────────────────────── tidyverse_conflicts() ──\n",
      "\u001b[31m✖\u001b[39m \u001b[34mdplyr\u001b[39m::\u001b[32mfilter()\u001b[39m masks \u001b[34mstats\u001b[39m::filter()\n",
      "\u001b[31m✖\u001b[39m \u001b[34mdplyr\u001b[39m::\u001b[32mlag()\u001b[39m    masks \u001b[34mstats\u001b[39m::lag()\n",
      "\n"
     ]
    }
   ],
   "source": [
    "library(tidyverse)"
   ]
  },
  {
   "cell_type": "markdown",
   "metadata": {},
   "source": [
    "## Load data"
   ]
  },
  {
   "cell_type": "code",
   "execution_count": 2,
   "metadata": {
    "execution": {
     "iopub.execute_input": "2021-07-14T23:45:00.183851Z",
     "iopub.status.busy": "2021-07-14T23:45:00.150901Z",
     "iopub.status.idle": "2021-07-14T23:45:00.290318Z",
     "shell.execute_reply": "2021-07-14T23:45:00.289092Z"
    }
   },
   "outputs": [
    {
     "data": {
      "text/html": [
       "<table class=\"dataframe\">\n",
       "<caption>A data.table: 6 × 2</caption>\n",
       "<thead>\n",
       "\t<tr><th scope=col>RNum</th><th scope=col>BrNum</th></tr>\n",
       "\t<tr><th scope=col>&lt;chr&gt;</th><th scope=col>&lt;chr&gt;</th></tr>\n",
       "</thead>\n",
       "<tbody>\n",
       "\t<tr><td>R12276</td><td>Br763</td></tr>\n",
       "\t<tr><td>R3549 </td><td>Br822</td></tr>\n",
       "\t<tr><td>R12277</td><td>Br823</td></tr>\n",
       "\t<tr><td>R3901 </td><td>Br827</td></tr>\n",
       "\t<tr><td>R3597 </td><td>Br836</td></tr>\n",
       "\t<tr><td>R12278</td><td>Br845</td></tr>\n",
       "</tbody>\n",
       "</table>\n"
      ],
      "text/latex": [
       "A data.table: 6 × 2\n",
       "\\begin{tabular}{ll}\n",
       " RNum & BrNum\\\\\n",
       " <chr> & <chr>\\\\\n",
       "\\hline\n",
       "\t R12276 & Br763\\\\\n",
       "\t R3549  & Br822\\\\\n",
       "\t R12277 & Br823\\\\\n",
       "\t R3901  & Br827\\\\\n",
       "\t R3597  & Br836\\\\\n",
       "\t R12278 & Br845\\\\\n",
       "\\end{tabular}\n"
      ],
      "text/markdown": [
       "\n",
       "A data.table: 6 × 2\n",
       "\n",
       "| RNum &lt;chr&gt; | BrNum &lt;chr&gt; |\n",
       "|---|---|\n",
       "| R12276 | Br763 |\n",
       "| R3549  | Br822 |\n",
       "| R12277 | Br823 |\n",
       "| R3901  | Br827 |\n",
       "| R3597  | Br836 |\n",
       "| R12278 | Br845 |\n",
       "\n"
      ],
      "text/plain": [
       "  RNum   BrNum\n",
       "1 R12276 Br763\n",
       "2 R3549  Br822\n",
       "3 R12277 Br823\n",
       "4 R3901  Br827\n",
       "5 R3597  Br836\n",
       "6 R12278 Br845"
      ]
     },
     "metadata": {},
     "output_type": "display_data"
    }
   ],
   "source": [
    "sample_df = data.table::fread(\"../../_m/sample_id_to_brnum.tsv\")\n",
    "sample_df %>% head()"
   ]
  },
  {
   "cell_type": "code",
   "execution_count": 3,
   "metadata": {
    "execution": {
     "iopub.execute_input": "2021-07-14T23:45:00.302095Z",
     "iopub.status.busy": "2021-07-14T23:45:00.300597Z",
     "iopub.status.idle": "2021-07-14T23:45:00.373021Z",
     "shell.execute_reply": "2021-07-14T23:45:00.371766Z"
    }
   },
   "outputs": [
    {
     "data": {
      "text/html": [
       "<style>\n",
       ".list-inline {list-style: none; margin:0; padding: 0}\n",
       ".list-inline>li {display: inline-block}\n",
       ".list-inline>li:not(:last-child)::after {content: \"\\00b7\"; padding: 0 .5ex}\n",
       "</style>\n",
       "<ol class=list-inline><li>'covsExon0'</li><li>'covsGene0'</li><li>'covsJxn0'</li><li>'covsTx0'</li><li>'sample_df'</li></ol>\n"
      ],
      "text/latex": [
       "\\begin{enumerate*}\n",
       "\\item 'covsExon0'\n",
       "\\item 'covsGene0'\n",
       "\\item 'covsJxn0'\n",
       "\\item 'covsTx0'\n",
       "\\item 'sample\\_df'\n",
       "\\end{enumerate*}\n"
      ],
      "text/markdown": [
       "1. 'covsExon0'\n",
       "2. 'covsGene0'\n",
       "3. 'covsJxn0'\n",
       "4. 'covsTx0'\n",
       "5. 'sample_df'\n",
       "\n",
       "\n"
      ],
      "text/plain": [
       "[1] \"covsExon0\" \"covsGene0\" \"covsJxn0\"  \"covsTx0\"   \"sample_df\""
      ]
     },
     "metadata": {},
     "output_type": "display_data"
    }
   ],
   "source": [
    "load(\"/ceph/users/jbenja13/projects/sex_sz_ria/input/genotypes/covariates/_m/dlpfc/covariates.rda\")\n",
    "ls()"
   ]
  },
  {
   "cell_type": "code",
   "execution_count": 4,
   "metadata": {
    "execution": {
     "iopub.execute_input": "2021-07-14T23:45:00.378785Z",
     "iopub.status.busy": "2021-07-14T23:45:00.377495Z",
     "iopub.status.idle": "2021-07-14T23:45:00.437699Z",
     "shell.execute_reply": "2021-07-14T23:45:00.436478Z"
    }
   },
   "outputs": [
    {
     "data": {
      "text/html": [
       "<table class=\"dataframe\">\n",
       "<caption>A data.frame: 10 × 5</caption>\n",
       "<thead>\n",
       "\t<tr><th></th><th scope=col>ID</th><th scope=col>Br763</th><th scope=col>Br822</th><th scope=col>Br823</th><th scope=col>Br827</th></tr>\n",
       "\t<tr><th></th><th scope=col>&lt;chr&gt;</th><th scope=col>&lt;dbl&gt;</th><th scope=col>&lt;dbl&gt;</th><th scope=col>&lt;dbl&gt;</th><th scope=col>&lt;dbl&gt;</th></tr>\n",
       "</thead>\n",
       "<tbody>\n",
       "\t<tr><th scope=row>1</th><td>DxSchizo</td><td>   1.00000000</td><td>  0.00000000</td><td>  0.000000000</td><td>  0.000000000</td></tr>\n",
       "\t<tr><th scope=row>2</th><td>snpPC1  </td><td>   0.07775060</td><td> -0.03381080</td><td>  0.087038000</td><td> -0.036830800</td></tr>\n",
       "\t<tr><th scope=row>3</th><td>snpPC2  </td><td>  -0.00455713</td><td> -0.00312935</td><td> -0.001717740</td><td> -0.002717500</td></tr>\n",
       "\t<tr><th scope=row>4</th><td>snpPC3  </td><td>  -0.00135150</td><td> -0.00154150</td><td>  0.000413453</td><td> -0.000972375</td></tr>\n",
       "\t<tr><th scope=row>5</th><td>PC1     </td><td>  -6.43281926</td><td> -5.23344565</td><td>-40.080403683</td><td> 22.257935192</td></tr>\n",
       "\t<tr><th scope=row>6</th><td>PC2     </td><td> 151.80682636</td><td>-44.80569383</td><td> 80.823858098</td><td>  3.277834669</td></tr>\n",
       "\t<tr><th scope=row>7</th><td>PC3     </td><td>-101.11881838</td><td>-16.10088157</td><td> 33.739369780</td><td>-25.662854941</td></tr>\n",
       "\t<tr><th scope=row>8</th><td>PC4     </td><td>  15.81744009</td><td>-33.68489061</td><td> 45.351367655</td><td> 21.105093380</td></tr>\n",
       "\t<tr><th scope=row>9</th><td>PC5     </td><td> -20.31290429</td><td> -5.98980735</td><td> 12.666128482</td><td> 16.674787963</td></tr>\n",
       "\t<tr><th scope=row>10</th><td>PC6     </td><td> -23.33502137</td><td>-17.96314857</td><td> 21.032444912</td><td> 22.593226860</td></tr>\n",
       "</tbody>\n",
       "</table>\n"
      ],
      "text/latex": [
       "A data.frame: 10 × 5\n",
       "\\begin{tabular}{r|lllll}\n",
       "  & ID & Br763 & Br822 & Br823 & Br827\\\\\n",
       "  & <chr> & <dbl> & <dbl> & <dbl> & <dbl>\\\\\n",
       "\\hline\n",
       "\t1 & DxSchizo &    1.00000000 &   0.00000000 &   0.000000000 &   0.000000000\\\\\n",
       "\t2 & snpPC1   &    0.07775060 &  -0.03381080 &   0.087038000 &  -0.036830800\\\\\n",
       "\t3 & snpPC2   &   -0.00455713 &  -0.00312935 &  -0.001717740 &  -0.002717500\\\\\n",
       "\t4 & snpPC3   &   -0.00135150 &  -0.00154150 &   0.000413453 &  -0.000972375\\\\\n",
       "\t5 & PC1      &   -6.43281926 &  -5.23344565 & -40.080403683 &  22.257935192\\\\\n",
       "\t6 & PC2      &  151.80682636 & -44.80569383 &  80.823858098 &   3.277834669\\\\\n",
       "\t7 & PC3      & -101.11881838 & -16.10088157 &  33.739369780 & -25.662854941\\\\\n",
       "\t8 & PC4      &   15.81744009 & -33.68489061 &  45.351367655 &  21.105093380\\\\\n",
       "\t9 & PC5      &  -20.31290429 &  -5.98980735 &  12.666128482 &  16.674787963\\\\\n",
       "\t10 & PC6      &  -23.33502137 & -17.96314857 &  21.032444912 &  22.593226860\\\\\n",
       "\\end{tabular}\n"
      ],
      "text/markdown": [
       "\n",
       "A data.frame: 10 × 5\n",
       "\n",
       "| <!--/--> | ID &lt;chr&gt; | Br763 &lt;dbl&gt; | Br822 &lt;dbl&gt; | Br823 &lt;dbl&gt; | Br827 &lt;dbl&gt; |\n",
       "|---|---|---|---|---|---|\n",
       "| 1 | DxSchizo |    1.00000000 |   0.00000000 |   0.000000000 |   0.000000000 |\n",
       "| 2 | snpPC1   |    0.07775060 |  -0.03381080 |   0.087038000 |  -0.036830800 |\n",
       "| 3 | snpPC2   |   -0.00455713 |  -0.00312935 |  -0.001717740 |  -0.002717500 |\n",
       "| 4 | snpPC3   |   -0.00135150 |  -0.00154150 |   0.000413453 |  -0.000972375 |\n",
       "| 5 | PC1      |   -6.43281926 |  -5.23344565 | -40.080403683 |  22.257935192 |\n",
       "| 6 | PC2      |  151.80682636 | -44.80569383 |  80.823858098 |   3.277834669 |\n",
       "| 7 | PC3      | -101.11881838 | -16.10088157 |  33.739369780 | -25.662854941 |\n",
       "| 8 | PC4      |   15.81744009 | -33.68489061 |  45.351367655 |  21.105093380 |\n",
       "| 9 | PC5      |  -20.31290429 |  -5.98980735 |  12.666128482 |  16.674787963 |\n",
       "| 10 | PC6      |  -23.33502137 | -17.96314857 |  21.032444912 |  22.593226860 |\n",
       "\n"
      ],
      "text/plain": [
       "   ID       Br763         Br822        Br823         Br827        \n",
       "1  DxSchizo    1.00000000   0.00000000   0.000000000   0.000000000\n",
       "2  snpPC1      0.07775060  -0.03381080   0.087038000  -0.036830800\n",
       "3  snpPC2     -0.00455713  -0.00312935  -0.001717740  -0.002717500\n",
       "4  snpPC3     -0.00135150  -0.00154150   0.000413453  -0.000972375\n",
       "5  PC1        -6.43281926  -5.23344565 -40.080403683  22.257935192\n",
       "6  PC2       151.80682636 -44.80569383  80.823858098   3.277834669\n",
       "7  PC3      -101.11881838 -16.10088157  33.739369780 -25.662854941\n",
       "8  PC4        15.81744009 -33.68489061  45.351367655  21.105093380\n",
       "9  PC5       -20.31290429  -5.98980735  12.666128482  16.674787963\n",
       "10 PC6       -23.33502137 -17.96314857  21.032444912  22.593226860"
      ]
     },
     "metadata": {},
     "output_type": "display_data"
    }
   ],
   "source": [
    "covs = covsTx0 %>% as.data.frame %>% select(sample_df$RNum) %>%\n",
    "    t %>% as.data.frame %>% rownames_to_column(\"RNum\") %>%\n",
    "    inner_join(sample_df, by=c(\"RNum\")) %>% select(-\"RNum\") %>%\n",
    "    rename(\"ID\"=\"BrNum\") %>% column_to_rownames(\"ID\") %>% t %>%\n",
    "    as.data.frame %>% rownames_to_column(\"ID\")\n",
    "\n",
    "covs[1:10, 1:5]"
   ]
  },
  {
   "cell_type": "code",
   "execution_count": 5,
   "metadata": {
    "execution": {
     "iopub.execute_input": "2021-07-14T23:45:00.443367Z",
     "iopub.status.busy": "2021-07-14T23:45:00.442154Z",
     "iopub.status.idle": "2021-07-14T23:45:00.457722Z",
     "shell.execute_reply": "2021-07-14T23:45:00.456452Z"
    }
   },
   "outputs": [],
   "source": [
    "covs %>% data.table::fwrite(\"transcripts.combined_covariates.txt\", sep='\\t')"
   ]
  },
  {
   "cell_type": "markdown",
   "metadata": {},
   "source": [
    "## Repreducibility Information"
   ]
  },
  {
   "cell_type": "code",
   "execution_count": 6,
   "metadata": {
    "execution": {
     "iopub.execute_input": "2021-07-14T23:45:00.463663Z",
     "iopub.status.busy": "2021-07-14T23:45:00.462351Z",
     "iopub.status.idle": "2021-07-14T23:45:00.616852Z",
     "shell.execute_reply": "2021-07-14T23:45:00.615596Z"
    }
   },
   "outputs": [
    {
     "data": {
      "text/plain": [
       "[1] \"2021-07-14 19:45:00 EDT\""
      ]
     },
     "metadata": {},
     "output_type": "display_data"
    },
    {
     "data": {
      "text/plain": [
       "   user  system elapsed \n",
       "  2.242   0.176   2.754 "
      ]
     },
     "metadata": {},
     "output_type": "display_data"
    },
    {
     "data": {
      "text/plain": [
       "─ Session info ───────────────────────────────────────────────────────────────────────────────────────────────────────\n",
       " setting  value                       \n",
       " version  R version 4.0.3 (2020-10-10)\n",
       " os       Arch Linux                  \n",
       " system   x86_64, linux-gnu           \n",
       " ui       X11                         \n",
       " language (EN)                        \n",
       " collate  en_US.UTF-8                 \n",
       " ctype    en_US.UTF-8                 \n",
       " tz       America/New_York            \n",
       " date     2021-07-14                  \n",
       "\n",
       "─ Packages ───────────────────────────────────────────────────────────────────────────────────────────────────────────\n",
       " package     * version date       lib source        \n",
       " assertthat    0.2.1   2019-03-21 [1] CRAN (R 4.0.2)\n",
       " backports     1.2.1   2020-12-09 [1] CRAN (R 4.0.2)\n",
       " base64enc     0.1-3   2015-07-28 [1] CRAN (R 4.0.2)\n",
       " broom         0.7.8   2021-06-24 [1] CRAN (R 4.0.3)\n",
       " cellranger    1.1.0   2016-07-27 [1] CRAN (R 4.0.2)\n",
       " cli           3.0.0   2021-06-30 [1] CRAN (R 4.0.3)\n",
       " colorspace    2.0-2   2021-06-24 [1] CRAN (R 4.0.3)\n",
       " crayon        1.4.1   2021-02-08 [1] CRAN (R 4.0.3)\n",
       " data.table    1.14.0  2021-02-21 [1] CRAN (R 4.0.3)\n",
       " DBI           1.1.1   2021-01-15 [1] CRAN (R 4.0.2)\n",
       " dbplyr        2.1.1   2021-04-06 [1] CRAN (R 4.0.3)\n",
       " digest        0.6.27  2020-10-24 [1] CRAN (R 4.0.2)\n",
       " dplyr       * 1.0.7   2021-06-18 [1] CRAN (R 4.0.3)\n",
       " ellipsis      0.3.2   2021-04-29 [1] CRAN (R 4.0.3)\n",
       " evaluate      0.14    2019-05-28 [1] CRAN (R 4.0.2)\n",
       " fansi         0.5.0   2021-05-25 [1] CRAN (R 4.0.3)\n",
       " forcats     * 0.5.1   2021-01-27 [1] CRAN (R 4.0.2)\n",
       " fs            1.5.0   2020-07-31 [1] CRAN (R 4.0.2)\n",
       " generics      0.1.0   2020-10-31 [1] CRAN (R 4.0.2)\n",
       " ggplot2     * 3.3.5   2021-06-25 [1] CRAN (R 4.0.3)\n",
       " glue          1.4.2   2020-08-27 [1] CRAN (R 4.0.2)\n",
       " gtable        0.3.0   2019-03-25 [1] CRAN (R 4.0.2)\n",
       " haven         2.4.1   2021-04-23 [1] CRAN (R 4.0.3)\n",
       " hms           1.1.0   2021-05-17 [1] CRAN (R 4.0.3)\n",
       " htmltools     0.5.1.1 2021-01-22 [1] CRAN (R 4.0.2)\n",
       " httr          1.4.2   2020-07-20 [1] CRAN (R 4.0.2)\n",
       " IRdisplay     1.0     2021-01-20 [1] CRAN (R 4.0.2)\n",
       " IRkernel      1.2     2021-05-11 [1] CRAN (R 4.0.3)\n",
       " jsonlite      1.7.2   2020-12-09 [1] CRAN (R 4.0.2)\n",
       " lifecycle     1.0.0   2021-02-15 [1] CRAN (R 4.0.3)\n",
       " lubridate     1.7.10  2021-02-26 [1] CRAN (R 4.0.3)\n",
       " magrittr      2.0.1   2020-11-17 [1] CRAN (R 4.0.2)\n",
       " modelr        0.1.8   2020-05-19 [1] CRAN (R 4.0.2)\n",
       " munsell       0.5.0   2018-06-12 [1] CRAN (R 4.0.2)\n",
       " pbdZMQ        0.3-5   2021-02-10 [1] CRAN (R 4.0.3)\n",
       " pillar        1.6.1   2021-05-16 [1] CRAN (R 4.0.3)\n",
       " pkgconfig     2.0.3   2019-09-22 [1] CRAN (R 4.0.2)\n",
       " purrr       * 0.3.4   2020-04-17 [1] CRAN (R 4.0.2)\n",
       " R6            2.5.0   2020-10-28 [1] CRAN (R 4.0.2)\n",
       " Rcpp          1.0.7   2021-07-07 [1] CRAN (R 4.0.3)\n",
       " readr       * 1.4.0   2020-10-05 [1] CRAN (R 4.0.2)\n",
       " readxl        1.3.1   2019-03-13 [1] CRAN (R 4.0.2)\n",
       " repr          1.1.3   2021-01-21 [1] CRAN (R 4.0.2)\n",
       " reprex        2.0.0   2021-04-02 [1] CRAN (R 4.0.3)\n",
       " rlang         0.4.11  2021-04-30 [1] CRAN (R 4.0.3)\n",
       " rstudioapi    0.13    2020-11-12 [1] CRAN (R 4.0.2)\n",
       " rvest         1.0.0   2021-03-09 [1] CRAN (R 4.0.3)\n",
       " scales        1.1.1   2020-05-11 [1] CRAN (R 4.0.2)\n",
       " sessioninfo   1.1.1   2018-11-05 [1] CRAN (R 4.0.2)\n",
       " stringi       1.6.2   2021-05-17 [1] CRAN (R 4.0.3)\n",
       " stringr     * 1.4.0   2019-02-10 [1] CRAN (R 4.0.2)\n",
       " tibble      * 3.1.2   2021-05-16 [1] CRAN (R 4.0.3)\n",
       " tidyr       * 1.1.3   2021-03-03 [1] CRAN (R 4.0.3)\n",
       " tidyselect    1.1.1   2021-04-30 [1] CRAN (R 4.0.3)\n",
       " tidyverse   * 1.3.1   2021-04-15 [1] CRAN (R 4.0.3)\n",
       " utf8          1.2.1   2021-03-12 [1] CRAN (R 4.0.3)\n",
       " uuid          0.1-4   2020-02-26 [1] CRAN (R 4.0.2)\n",
       " vctrs         0.3.8   2021-04-29 [1] CRAN (R 4.0.3)\n",
       " withr         2.4.2   2021-04-18 [1] CRAN (R 4.0.3)\n",
       " xml2          1.3.2   2020-04-23 [1] CRAN (R 4.0.2)\n",
       "\n",
       "[1] /home/jbenja13/R/x86_64-pc-linux-gnu-library/4.0\n",
       "[2] /usr/lib/R/library"
      ]
     },
     "metadata": {},
     "output_type": "display_data"
    }
   ],
   "source": [
    "Sys.time()\n",
    "proc.time()\n",
    "options(width = 120)\n",
    "sessioninfo::session_info()"
   ]
  }
 ],
 "metadata": {
  "kernelspec": {
   "display_name": "R",
   "language": "R",
   "name": "ir"
  },
  "language_info": {
   "codemirror_mode": "r",
   "file_extension": ".r",
   "mimetype": "text/x-r-source",
   "name": "R",
   "pygments_lexer": "r",
   "version": "4.0.3"
  }
 },
 "nbformat": 4,
 "nbformat_minor": 4
}
