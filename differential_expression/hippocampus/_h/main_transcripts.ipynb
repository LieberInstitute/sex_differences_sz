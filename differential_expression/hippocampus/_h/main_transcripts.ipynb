{
 "cells": [
  {
   "cell_type": "markdown",
   "metadata": {},
   "source": [
    "# Differential Expression with limma-voom pipeline - Transcripts"
   ]
  },
  {
   "cell_type": "code",
   "execution_count": 1,
   "metadata": {},
   "outputs": [],
   "source": [
    "suppressMessages({library(SummarizedExperiment)\n",
    "                  library(data.table)\n",
    "                  library(limma)\n",
    "                  library(edgeR)\n",
    "                  library(dplyr)\n",
    "                  library(sva)})"
   ]
  },
  {
   "cell_type": "markdown",
   "metadata": {},
   "source": [
    "## Prepare Data"
   ]
  },
  {
   "cell_type": "code",
   "execution_count": 2,
   "metadata": {},
   "outputs": [],
   "source": [
    "# Function from jaffelab github\n",
    "merge_rse_metrics <- function(rse) {\n",
    "    stopifnot(is(rse, 'RangedSummarizedExperiment'))\n",
    "    stopifnot(\n",
    "        c('concordMapRate', 'overallMapRate', 'mitoRate', 'rRNA_rate',\n",
    "          'totalAssignedGene', 'numMapped', 'numReads', 'numUnmapped',\n",
    "          'mitoMapped', 'totalMapped') %in%\n",
    "            colnames(SummarizedExperiment::colData(rse))\n",
    "    )\n",
    "\n",
    "    stopifnot(all(sapply(c(\n",
    "        'concordMapRate', 'overallMapRate', 'mitoRate', 'rRNA_rate',\n",
    "        'totalAssignedGene', 'numMapped', 'numReads', 'numUnmapped',\n",
    "        'mitoMapped', 'totalMapped'), function(var) {\n",
    "            is(colData(rse)[, var], 'List')\n",
    "        })\n",
    "    ))\n",
    "\n",
    "    rse$concordMapRate = mapply(function(r, n) {\n",
    "        sum(r*n)/sum(n)\n",
    "    }, rse$concordMapRate, rse$numReads)\n",
    "    rse$overallMapRate = mapply(function(r, n) {\n",
    "        sum(r*n)/sum(n)\n",
    "    }, rse$overallMapRate, rse$numReads)\n",
    "    rse$mitoRate = mapply(function(r, n) {\n",
    "        sum(r*n)/sum(n)\n",
    "    }, rse$mitoRate, rse$numMapped)\n",
    "    rse$rRNA_rate = mapply(function(r, n) {\n",
    "        sum(r*n)/sum(n)\n",
    "    }, rse$rRNA_rate, rse$numMapped)\n",
    "    rse$totalAssignedGene = mapply(function(r, n) {\n",
    "        sum(r*n)/sum(n)\n",
    "    }, rse$totalAssignedGene, rse$numMapped)\n",
    "\n",
    "    rse$numMapped = sapply(rse$numMapped, sum)\n",
    "    rse$numReads = sapply(rse$numReads, sum)\n",
    "    rse$numUnmapped = sapply(rse$numUnmapped, sum)\n",
    "    rse$mitoMapped = sapply(rse$mitoMapped, sum)\n",
    "    rse$totalMapped = sapply(rse$totalMapped, sum)\n",
    "    return(rse)\n",
    "}"
   ]
  },
  {
   "cell_type": "markdown",
   "metadata": {},
   "source": [
    "### Load counts"
   ]
  },
  {
   "cell_type": "code",
   "execution_count": 3,
   "metadata": {},
   "outputs": [],
   "source": [
    "counts.files = '/ceph/projects/brainseq/rnaseq/phase2_Hippo_RiboZero/salmon/preprocess/annotate/_m/annotated_counts.txt'\n",
    "df.raw0 <- fread(counts.files, header=TRUE, data.table = FALSE)\n",
    "\n",
    "rownames(df.raw0) = df.raw0[, 1]\n",
    "annot <- df.raw0[, 1:9]\n",
    "df.raw <- df.raw0[, c(-1:-9)]\n",
    "\n",
    "print(dim(df.raw))\n",
    "print(dim(annot))\n",
    "\n",
    "counts = as.matrix(df.raw)\n",
    "counts[1:2, 1:5]"
   ]
  },
  {
   "cell_type": "markdown",
   "metadata": {},
   "source": [
    "### Load R variable"
   ]
  },
  {
   "cell_type": "code",
   "execution_count": 6,
   "metadata": {},
   "outputs": [
    {
     "data": {
      "text/plain": [
       "class: RangedSummarizedExperiment \n",
       "dim: 198093 447 \n",
       "metadata(0):\n",
       "assays(1): tpm\n",
       "rownames(198093): ENST00000456328.2 ENST00000450305.2 ...\n",
       "  ENST00000387460.2 ENST00000387461.2\n",
       "rowData names(22): source type ... protein_id ccdsid\n",
       "colnames(447): R11135 R11137 ... R5766 R5768\n",
       "colData names(58): SAMPLE_ID RNum ... totalAssignedGene rRNA_rate"
      ]
     },
     "metadata": {},
     "output_type": "display_data"
    }
   ],
   "source": [
    "load(\"/ceph/projects/v3_phase3_paper/inputs/phase2/_m/count_data/hippo_brainseq_phase2_hg38_rseTx_merged_n447.rda\")\n",
    "rse_tx"
   ]
  },
  {
   "cell_type": "code",
   "execution_count": 7,
   "metadata": {},
   "outputs": [
    {
     "name": "stderr",
     "output_type": "stream",
     "text": [
      "Warning message in colnames(assays(rse_tx)$tpm) == colnames(counts):\n",
      "\"longer object length is not a multiple of shorter object length\"\n"
     ]
    },
    {
     "data": {
      "text/html": [
       "<style>\n",
       ".list-inline {list-style: none; margin:0; padding: 0}\n",
       ".list-inline>li {display: inline-block}\n",
       ".list-inline>li:not(:last-child)::after {content: \"\\00b7\"; padding: 0 .5ex}\n",
       "</style>\n",
       "<ol class=list-inline><li>197311</li><li>447</li></ol>\n"
      ],
      "text/latex": [
       "\\begin{enumerate*}\n",
       "\\item 197311\n",
       "\\item 447\n",
       "\\end{enumerate*}\n"
      ],
      "text/markdown": [
       "1. 197311\n",
       "2. 447\n",
       "\n",
       "\n"
      ],
      "text/plain": [
       "[1] 197311    447"
      ]
     },
     "metadata": {},
     "output_type": "display_data"
    }
   ],
   "source": [
    "if(!all(colnames(assays(rse_tx)$tpm) == colnames(counts)))\n",
    "{\n",
    "    counts = counts[, colnames(rse_tx)]\n",
    "}\n",
    "dim(counts)"
   ]
  },
  {
   "cell_type": "code",
   "execution_count": 8,
   "metadata": {},
   "outputs": [
    {
     "data": {
      "text/plain": [
       "class: RangedSummarizedExperiment \n",
       "dim: 197311 447 \n",
       "metadata(0):\n",
       "assays(1): counts\n",
       "rownames(197311): ENST00000456328.2 ENST00000450305.2 ...\n",
       "  ENST00000387460.2 ENST00000387461.2\n",
       "rowData names(9): transcript_id gene_id ... strand length\n",
       "colnames(447): R11135 R11137 ... R5766 R5768\n",
       "colData names(58): SAMPLE_ID RNum ... totalAssignedGene rRNA_rate"
      ]
     },
     "metadata": {},
     "output_type": "display_data"
    }
   ],
   "source": [
    "rse_tx <- SummarizedExperiment(assays=SimpleList(counts=counts),\n",
    "                               rowData=annot, colData=colData(rse_tx))\n",
    "rse_tx <- as(rse_tx, \"RangedSummarizedExperiment\")\n",
    "rse_tx"
   ]
  },
  {
   "cell_type": "markdown",
   "metadata": {},
   "source": [
    "### Load genotype data"
   ]
  },
  {
   "cell_type": "code",
   "execution_count": 9,
   "metadata": {},
   "outputs": [
    {
     "data": {
      "text/plain": [
       "class: RangedSummarizedExperiment \n",
       "dim: 197311 447 \n",
       "metadata(0):\n",
       "assays(1): counts\n",
       "rownames(197311): ENST00000456328.2 ENST00000450305.2 ...\n",
       "  ENST00000387460.2 ENST00000387461.2\n",
       "rowData names(9): transcript_id gene_id ... strand length\n",
       "colnames(447): R11135 R11137 ... R5766 R5768\n",
       "colData names(68): SAMPLE_ID RNum ... snpPC9 snpPC10"
      ]
     },
     "metadata": {},
     "output_type": "display_data"
    }
   ],
   "source": [
    "mds_file = paste0(\"/ceph/projects/v3_phase3_paper/inputs/genotypes/to_brnum/\", \n",
    "                  \"merge/to_plink/mds/_m/merged.mds\")\n",
    "mds = fread(mds_file) %>% \n",
    "    rename(\"snpPC1\"=\"C1\", \"snpPC2\"=\"C2\", \"snpPC3\"=\"C3\", \n",
    "           \"snpPC4\"=\"C4\", \"snpPC5\"=\"C5\") %>%\n",
    "    mutate_if(is.character, as.factor)\n",
    "mds[1:2, 1:5]"
   ]
  },
  {
   "cell_type": "markdown",
   "metadata": {},
   "source": [
    "### Subset and recode"
   ]
  },
  {
   "cell_type": "code",
   "execution_count": 11,
   "metadata": {},
   "outputs": [],
   "source": [
    "keepIndex = which((rse_tx$Dx %in% c(\"Control\", \"Schizo\")) &  \n",
    "                  rse_tx$Age > 17 & \n",
    "                  rse_tx$Race %in% c(\"AA\", \"CAUC\"))\n",
    "rse_tx = rse_tx[, keepIndex]\n",
    "\n",
    "rse_tx$Dx = factor(rse_tx$Dx, levels = c(\"Control\", \"Schizo\"))\n",
    "rse_tx$Sex <- factor(rse_tx$Sex)\n",
    "\n",
    "rse_tx <- merge_rse_metrics(rse_tx)\n",
    "\n",
    "rse_tx$ERCCsumLogErr <- mapply(function(r, n) {\n",
    "        sum(r * n)/sum(n)\n",
    "    }, rse_tx$ERCCsumLogErr, rse_tx$numReads)\n",
    "colData(rse_tx)$RIN = sapply(colData(rse_tx)$RIN,\"[\",1)\n",
    "\n",
    "pheno = colData(rse_tx) %>% as.data.frame %>% \n",
    "    inner_join(mds, by=c(\"BrNum\"=\"FID\"))"
   ]
  },
  {
   "cell_type": "markdown",
   "metadata": {},
   "source": [
    "### Generate DGEList"
   ]
  },
  {
   "cell_type": "code",
   "execution_count": 15,
   "metadata": {},
   "outputs": [],
   "source": [
    "x <- DGEList(counts=assays(rse_tx)$counts, \n",
    "             genes=rowData(rse_tx), samples=pheno)"
   ]
  },
  {
   "cell_type": "markdown",
   "metadata": {},
   "source": [
    "### Filtering low counts"
   ]
  },
  {
   "cell_type": "code",
   "execution_count": 16,
   "metadata": {},
   "outputs": [
    {
     "name": "stdout",
     "output_type": "stream",
     "text": [
      "[1] \"There are: 81495 features left!\"\n"
     ]
    }
   ],
   "source": [
    "design0 <- model.matrix(~Sex, data=x$samples)\n",
    "keep.x <- filterByExpr(x, design=design0)\n",
    "x <- x[keep.x, , keep.lib.sizes=FALSE]\n",
    "print(paste('There are:', sum(keep.x), 'features left!', sep=' '))"
   ]
  },
  {
   "cell_type": "markdown",
   "metadata": {},
   "source": [
    "### Normalize counts"
   ]
  },
  {
   "cell_type": "code",
   "execution_count": null,
   "metadata": {},
   "outputs": [],
   "source": [
    "x <- calcNormFactors(x, method=\"TMM\")"
   ]
  },
  {
   "cell_type": "markdown",
   "metadata": {},
   "source": [
    "## Differential Expression Analysis"
   ]
  },
  {
   "cell_type": "markdown",
   "metadata": {},
   "source": [
    "### Design matrix"
   ]
  },
  {
   "cell_type": "code",
   "execution_count": null,
   "metadata": {},
   "outputs": [],
   "source": [
    "mod = model.matrix(~Sex + Dx + Age + mitoRate +\n",
    "        rRNA_rate + totalAssignedGene + RIN +\n",
    "        ERCCsumLogErr + overallMapRate +\n",
    "        snpPC1 + snpPC2 + snpPC3,\n",
    "        data = x$samples)\n",
    "\n",
    "colnames(mod) <- gsub(\"Dx\", \"\", colnames(mod))\n",
    "colnames(mod) <- gsub(\"SexM\", \"Male\", colnames(mod))\n",
    "colnames(mod) <- gsub(\"\\\\(Intercept\\\\)\", \"Intercept\",\n",
    "                         colnames(mod))\n",
    "\n",
    "head(mod, 2)"
   ]
  },
  {
   "cell_type": "markdown",
   "metadata": {},
   "source": [
    "### Calculate SVAs"
   ]
  },
  {
   "cell_type": "code",
   "execution_count": 17,
   "metadata": {},
   "outputs": [
    {
     "name": "stdout",
     "output_type": "stream",
     "text": [
      "[1] \"Determining number of surragate variables ... 2020-09-28 12:58:46\"\n",
      "[1] \"Fitting SV model ... 2020-09-28 12:59:40\"\n",
      "Number of significant surrogate variables is:  4 \n",
      "Iteration (out of 5 ):1  2  3  4  5  "
     ]
    }
   ],
   "source": [
    "print(paste('Determining number of surragate variables ...', Sys.time(), sep=' '))\n",
    "n.sv <- num.sv(x$counts, mod, method=\"be\")\n",
    "null.model = as.matrix(as.data.frame(mod)[, !(names(as.data.frame(mod)) %in% c(\"Male\"))])\n",
    "\n",
    "print(paste('Fitting SV model ...', Sys.time(), sep=' '))\n",
    "svobj <- svaseq(x$counts, mod, null.model, n.sv=n.sv)"
   ]
  },
  {
   "cell_type": "markdown",
   "metadata": {},
   "source": [
    "### Merge models"
   ]
  },
  {
   "cell_type": "code",
   "execution_count": 42,
   "metadata": {},
   "outputs": [
    {
     "name": "stdout",
     "output_type": "stream",
     "text": [
      "[1] \"Adding SV to design matrix ... 2020-09-28 13:10:33\"\n"
     ]
    }
   ],
   "source": [
    "print(paste('Adding SV to design matrix ...', Sys.time(), sep=' '))\n",
    "modQsva <- cbind(mod, svobj$sv)\n",
    "len.d <- length(colnames(modQsva))\n",
    "colnames(modQsva)[((len.d - n.sv)+1):len.d] <- make.names(paste0(\"sv\",1:n.sv))"
   ]
  },
  {
   "cell_type": "markdown",
   "metadata": {},
   "source": [
    "### Preform voom"
   ]
  },
  {
   "cell_type": "code",
   "execution_count": null,
   "metadata": {},
   "outputs": [],
   "source": [
    "v <- voom(x, modQsva, plot=TRUE)"
   ]
  },
  {
   "cell_type": "code",
   "execution_count": null,
   "metadata": {},
   "outputs": [],
   "source": [
    "feature = 'transcripts'\n",
    "dir.create(feature)\n",
    "\n",
    "save(v, file=paste0(feature,'/voomSVA.RData'))\n",
    "#load('../_m/dlpfc//voomSVA.RData')"
   ]
  },
  {
   "cell_type": "markdown",
   "metadata": {},
   "source": [
    "### Calculate residuals"
   ]
  },
  {
   "cell_type": "code",
   "execution_count": null,
   "metadata": {},
   "outputs": [],
   "source": [
    "null_model = v$design %>% as.data.frame %>% select(-c(\"Male\")) %>% as.matrix\n",
    "fit_res <- lmFit(v, design=null_model)\n",
    "res = v$E - ( fit_res$coefficients %*% t(null_model) )\n",
    "res_sd = apply(res, 1, sd)\n",
    "res_mean = apply(res, 1, mean)"
   ]
  },
  {
   "cell_type": "markdown",
   "metadata": {},
   "source": [
    "### Normalize residuals and write to file"
   ]
  },
  {
   "cell_type": "code",
   "execution_count": null,
   "metadata": {},
   "outputs": [],
   "source": [
    "res_norm = (res - res_mean) / res_sd\n",
    "write.table(res_norm, file=paste0(feature, '/residualized_expression.tsv'),\n",
    "            sep=\"\\t\", quote=FALSE)"
   ]
  },
  {
   "cell_type": "markdown",
   "metadata": {},
   "source": [
    "### Fit model with limma"
   ]
  },
  {
   "cell_type": "code",
   "execution_count": null,
   "metadata": {},
   "outputs": [],
   "source": [
    "fit0 <- lmFit(v, modQsva)\n",
    "contr.matrix <- makeContrasts(MvsF = Male, \n",
    "                              levels=colnames(modQsva))\n",
    "fit <- contrasts.fit(fit0, contrasts=contr.matrix)"
   ]
  },
  {
   "cell_type": "markdown",
   "metadata": {},
   "source": [
    "### Calculate differential expression with eBayes"
   ]
  },
  {
   "cell_type": "code",
   "execution_count": null,
   "metadata": {},
   "outputs": [],
   "source": [
    "esv <- eBayes(fit)\n",
    "\n",
    "options(width=200)\n",
    "top0 <- topTable(esv, coef=1, number=Inf, sort.by=\"P\")\n",
    "sigTest <- decideTests(esv)\n",
    "\n",
    "top <- merge(top0, sigTest, by=0)\n",
    "rownames(top) <- top$Row.names\n",
    "top <- top[,-1]\n",
    "top <- top[order(top$P.Value), ]\n",
    "#top <- subset(top, select=-gencodeTx)\n",
    "dim(top)"
   ]
  },
  {
   "cell_type": "code",
   "execution_count": null,
   "metadata": {},
   "outputs": [],
   "source": [
    "write.table(top, file=paste0(feature, \"/diffExpr_maleVfemale_full.txt\"),\n",
    "            sep='\\t', row.names=TRUE, quote=FALSE)"
   ]
  },
  {
   "cell_type": "markdown",
   "metadata": {},
   "source": [
    "### Subset via FDR"
   ]
  },
  {
   "cell_type": "code",
   "execution_count": null,
   "metadata": {},
   "outputs": [],
   "source": [
    "top.fdr <- top[top$adj.P.Val<=0.05,]\n",
    "print(paste('There are:', dim(top.fdr)[1], 'DE features!'))"
   ]
  },
  {
   "cell_type": "code",
   "execution_count": null,
   "metadata": {},
   "outputs": [],
   "source": [
    "subset(top.fdr, Symbol == 'XIST')"
   ]
  },
  {
   "cell_type": "code",
   "execution_count": null,
   "metadata": {},
   "outputs": [],
   "source": [
    "write.table(top.fdr, file=paste0(feature, \"/diffExpr_maleVfemale_FDR05.txt\"),\n",
    "            sep='\\t', row.names=TRUE, quote=FALSE)"
   ]
  },
  {
   "cell_type": "markdown",
   "metadata": {},
   "source": [
    "## Volcano and MA plots"
   ]
  },
  {
   "cell_type": "code",
   "execution_count": null,
   "metadata": {},
   "outputs": [],
   "source": [
    "with(top, plot(logFC, -log10(P.Value), pch=20, cex=0.6))\n",
    "with(subset(top, adj.P.Val<=0.05), points(logFC, -log10(P.Value),\n",
    "                                          pch=20, col='red', cex=0.6))\n",
    "with(subset(top, abs(logFC)>0.50), points(logFC, -log10(P.Value),\n",
    "                                          pch=20, col='orange', cex=0.6))\n",
    "with(subset(top, adj.P.Val<=0.05 & abs(logFC)>0.50),\n",
    "     points(logFC, -log10(P.Value), pch=20, col='green', cex=0.6))"
   ]
  },
  {
   "cell_type": "code",
   "execution_count": null,
   "metadata": {},
   "outputs": [],
   "source": [
    "pdf(file=paste0(feature, \"/volcanoPlot.pdf\"), 8, 6)\n",
    "with(top, plot(logFC, -log10(P.Value), pch=20, cex=0.6))\n",
    "with(subset(top, adj.P.Val<=0.05), points(logFC, -log10(P.Value),\n",
    "                                          pch=20, col='red', cex=0.6))\n",
    "with(subset(top, abs(logFC)>0.50), points(logFC, -log10(P.Value),\n",
    "                                          pch=20, col='orange', cex=0.6))\n",
    "with(subset(top, adj.P.Val<=0.05 & abs(logFC)>0.50),\n",
    "     points(logFC, -log10(P.Value), pch=20, col='green', cex=0.6))\n",
    "dev.off()"
   ]
  },
  {
   "cell_type": "code",
   "execution_count": null,
   "metadata": {},
   "outputs": [],
   "source": [
    "with(top, plot(AveExpr, logFC, pch=20, cex=0.5))\n",
    "with(subset(top, adj.P.Val<0.05),\n",
    "     points(AveExpr, logFC, col=\"red\", pch=20, cex=0.5))"
   ]
  },
  {
   "cell_type": "code",
   "execution_count": null,
   "metadata": {},
   "outputs": [],
   "source": [
    "pdf(file=paste0(feature, \"/MAplot.pdf\"), 8, 6)\n",
    "with(top, plot(AveExpr, logFC, pch=20, cex=0.5))\n",
    "with(subset(top, adj.P.Val<0.05),\n",
    "     points(AveExpr, logFC, col=\"red\", pch=20, cex=0.5))\n",
    "dev.off()"
   ]
  },
  {
   "cell_type": "markdown",
   "metadata": {},
   "source": [
    "## Repreducibility Information"
   ]
  },
  {
   "cell_type": "code",
   "execution_count": null,
   "metadata": {},
   "outputs": [],
   "source": [
    "Sys.time()\n",
    "proc.time()\n",
    "options(width = 120)\n",
    "sessioninfo::session_info()"
   ]
  }
 ],
 "metadata": {
  "kernelspec": {
   "display_name": "R",
   "language": "R",
   "name": "ir"
  },
  "language_info": {
   "codemirror_mode": "r",
   "file_extension": ".r",
   "mimetype": "text/x-r-source",
   "name": "R",
   "pygments_lexer": "r",
   "version": "4.0.2"
  }
 },
 "nbformat": 4,
 "nbformat_minor": 4
}
