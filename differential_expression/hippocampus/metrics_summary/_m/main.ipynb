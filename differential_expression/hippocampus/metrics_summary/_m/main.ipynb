{
 "cells": [
  {
   "cell_type": "markdown",
   "metadata": {},
   "source": [
    "# Feature summary of differential expression analysis"
   ]
  },
  {
   "cell_type": "code",
   "execution_count": 1,
   "metadata": {
    "execution": {
     "iopub.execute_input": "2021-08-02T14:02:26.952572Z",
     "iopub.status.busy": "2021-08-02T14:02:26.951061Z",
     "iopub.status.idle": "2021-08-02T14:02:27.284992Z",
     "shell.execute_reply": "2021-08-02T14:02:27.283695Z"
    }
   },
   "outputs": [],
   "source": [
    "import numpy as np\n",
    "import pandas as pd"
   ]
  },
  {
   "cell_type": "markdown",
   "metadata": {},
   "source": [
    "## Summary plots"
   ]
  },
  {
   "cell_type": "markdown",
   "metadata": {},
   "source": [
    "### Genes"
   ]
  },
  {
   "cell_type": "code",
   "execution_count": 2,
   "metadata": {
    "execution": {
     "iopub.execute_input": "2021-08-02T14:02:27.292543Z",
     "iopub.status.busy": "2021-08-02T14:02:27.291267Z",
     "iopub.status.idle": "2021-08-02T14:02:27.460090Z",
     "shell.execute_reply": "2021-08-02T14:02:27.459008Z"
    }
   },
   "outputs": [
    {
     "data": {
      "text/html": [
       "<div>\n",
       "<style scoped>\n",
       "    .dataframe tbody tr th:only-of-type {\n",
       "        vertical-align: middle;\n",
       "    }\n",
       "\n",
       "    .dataframe tbody tr th {\n",
       "        vertical-align: top;\n",
       "    }\n",
       "\n",
       "    .dataframe thead th {\n",
       "        text-align: right;\n",
       "    }\n",
       "</style>\n",
       "<table border=\"1\" class=\"dataframe\">\n",
       "  <thead>\n",
       "    <tr style=\"text-align: right;\">\n",
       "      <th></th>\n",
       "      <th>Feature</th>\n",
       "      <th>Symbol</th>\n",
       "      <th>ensemblID</th>\n",
       "      <th>logFC</th>\n",
       "      <th>adj.P.Val</th>\n",
       "      <th>Type</th>\n",
       "    </tr>\n",
       "  </thead>\n",
       "  <tbody>\n",
       "    <tr>\n",
       "      <th>ENSG00000229236.1</th>\n",
       "      <td>ENSG00000229236.1</td>\n",
       "      <td>TTTY10</td>\n",
       "      <td>ENSG00000229236</td>\n",
       "      <td>6.919904</td>\n",
       "      <td>5.186692e-243</td>\n",
       "      <td>gene</td>\n",
       "    </tr>\n",
       "    <tr>\n",
       "      <th>ENSG00000154620.5</th>\n",
       "      <td>ENSG00000154620.5</td>\n",
       "      <td>TMSB4Y</td>\n",
       "      <td>ENSG00000154620</td>\n",
       "      <td>7.017845</td>\n",
       "      <td>4.942051e-238</td>\n",
       "      <td>gene</td>\n",
       "    </tr>\n",
       "    <tr>\n",
       "      <th>ENSG00000226555.1</th>\n",
       "      <td>ENSG00000226555.1</td>\n",
       "      <td>AGKP1</td>\n",
       "      <td>ENSG00000226555</td>\n",
       "      <td>7.083112</td>\n",
       "      <td>9.807573e-236</td>\n",
       "      <td>gene</td>\n",
       "    </tr>\n",
       "    <tr>\n",
       "      <th>ENSG00000176728.7</th>\n",
       "      <td>ENSG00000176728.7</td>\n",
       "      <td>TTTY14</td>\n",
       "      <td>ENSG00000176728</td>\n",
       "      <td>8.090491</td>\n",
       "      <td>4.895668e-231</td>\n",
       "      <td>gene</td>\n",
       "    </tr>\n",
       "    <tr>\n",
       "      <th>ENSG00000260197.1</th>\n",
       "      <td>ENSG00000260197.1</td>\n",
       "      <td>NaN</td>\n",
       "      <td>ENSG00000260197</td>\n",
       "      <td>6.302909</td>\n",
       "      <td>8.726814e-229</td>\n",
       "      <td>gene</td>\n",
       "    </tr>\n",
       "  </tbody>\n",
       "</table>\n",
       "</div>"
      ],
      "text/plain": [
       "                             Feature  Symbol        ensemblID     logFC  \\\n",
       "ENSG00000229236.1  ENSG00000229236.1  TTTY10  ENSG00000229236  6.919904   \n",
       "ENSG00000154620.5  ENSG00000154620.5  TMSB4Y  ENSG00000154620  7.017845   \n",
       "ENSG00000226555.1  ENSG00000226555.1   AGKP1  ENSG00000226555  7.083112   \n",
       "ENSG00000176728.7  ENSG00000176728.7  TTTY14  ENSG00000176728  8.090491   \n",
       "ENSG00000260197.1  ENSG00000260197.1     NaN  ENSG00000260197  6.302909   \n",
       "\n",
       "                       adj.P.Val  Type  \n",
       "ENSG00000229236.1  5.186692e-243  gene  \n",
       "ENSG00000154620.5  4.942051e-238  gene  \n",
       "ENSG00000226555.1  9.807573e-236  gene  \n",
       "ENSG00000176728.7  4.895668e-231  gene  \n",
       "ENSG00000260197.1  8.726814e-229  gene  "
      ]
     },
     "execution_count": 1,
     "metadata": {},
     "output_type": "execute_result"
    }
   ],
   "source": [
    "genes = pd.read_csv('../../_m/genes/diffExpr_maleVfemale_full.txt', sep='\\t', index_col=0)\n",
    "genes = genes[(genes['adj.P.Val'] < 0.05)].sort_values('adj.P.Val')\n",
    "genes['Feature'] = genes.index\n",
    "genes = genes[['Feature', 'Symbol', 'ensemblID', 'logFC', 'adj.P.Val']]\n",
    "genes['Type'] = 'gene'\n",
    "genes.head()"
   ]
  },
  {
   "cell_type": "markdown",
   "metadata": {},
   "source": [
    "### Transcripts"
   ]
  },
  {
   "cell_type": "code",
   "execution_count": 3,
   "metadata": {
    "execution": {
     "iopub.execute_input": "2021-08-02T14:02:27.467456Z",
     "iopub.status.busy": "2021-08-02T14:02:27.466185Z",
     "iopub.status.idle": "2021-08-02T14:02:27.739793Z",
     "shell.execute_reply": "2021-08-02T14:02:27.738691Z"
    }
   },
   "outputs": [
    {
     "data": {
      "text/html": [
       "<div>\n",
       "<style scoped>\n",
       "    .dataframe tbody tr th:only-of-type {\n",
       "        vertical-align: middle;\n",
       "    }\n",
       "\n",
       "    .dataframe tbody tr th {\n",
       "        vertical-align: top;\n",
       "    }\n",
       "\n",
       "    .dataframe thead th {\n",
       "        text-align: right;\n",
       "    }\n",
       "</style>\n",
       "<table border=\"1\" class=\"dataframe\">\n",
       "  <thead>\n",
       "    <tr style=\"text-align: right;\">\n",
       "      <th></th>\n",
       "      <th>Feature</th>\n",
       "      <th>Symbol</th>\n",
       "      <th>ensemblID</th>\n",
       "      <th>logFC</th>\n",
       "      <th>adj.P.Val</th>\n",
       "      <th>Type</th>\n",
       "    </tr>\n",
       "  </thead>\n",
       "  <tbody>\n",
       "    <tr>\n",
       "      <th>ENST00000602495.1</th>\n",
       "      <td>ENST00000602495.1</td>\n",
       "      <td>XIST</td>\n",
       "      <td>ENSG00000229807</td>\n",
       "      <td>-7.591232</td>\n",
       "      <td>1.889639e-242</td>\n",
       "      <td>transcript</td>\n",
       "    </tr>\n",
       "    <tr>\n",
       "      <th>ENST00000416330.1</th>\n",
       "      <td>ENST00000416330.1</td>\n",
       "      <td>XIST</td>\n",
       "      <td>ENSG00000229807</td>\n",
       "      <td>-7.791829</td>\n",
       "      <td>7.035924e-237</td>\n",
       "      <td>transcript</td>\n",
       "    </tr>\n",
       "    <tr>\n",
       "      <th>ENST00000429829.5</th>\n",
       "      <td>ENST00000429829.5</td>\n",
       "      <td>XIST</td>\n",
       "      <td>ENSG00000229807</td>\n",
       "      <td>-9.537955</td>\n",
       "      <td>6.043774e-225</td>\n",
       "      <td>transcript</td>\n",
       "    </tr>\n",
       "    <tr>\n",
       "      <th>ENST00000440408.5</th>\n",
       "      <td>ENST00000440408.5</td>\n",
       "      <td>TTTY15</td>\n",
       "      <td>ENSG00000233864</td>\n",
       "      <td>6.006990</td>\n",
       "      <td>3.153685e-208</td>\n",
       "      <td>transcript</td>\n",
       "    </tr>\n",
       "    <tr>\n",
       "      <th>ENST00000469599.6</th>\n",
       "      <td>ENST00000469599.6</td>\n",
       "      <td>KDM5D</td>\n",
       "      <td>ENSG00000012817</td>\n",
       "      <td>7.765403</td>\n",
       "      <td>5.908909e-179</td>\n",
       "      <td>transcript</td>\n",
       "    </tr>\n",
       "  </tbody>\n",
       "</table>\n",
       "</div>"
      ],
      "text/plain": [
       "                             Feature  Symbol        ensemblID     logFC  \\\n",
       "ENST00000602495.1  ENST00000602495.1    XIST  ENSG00000229807 -7.591232   \n",
       "ENST00000416330.1  ENST00000416330.1    XIST  ENSG00000229807 -7.791829   \n",
       "ENST00000429829.5  ENST00000429829.5    XIST  ENSG00000229807 -9.537955   \n",
       "ENST00000440408.5  ENST00000440408.5  TTTY15  ENSG00000233864  6.006990   \n",
       "ENST00000469599.6  ENST00000469599.6   KDM5D  ENSG00000012817  7.765403   \n",
       "\n",
       "                       adj.P.Val        Type  \n",
       "ENST00000602495.1  1.889639e-242  transcript  \n",
       "ENST00000416330.1  7.035924e-237  transcript  \n",
       "ENST00000429829.5  6.043774e-225  transcript  \n",
       "ENST00000440408.5  3.153685e-208  transcript  \n",
       "ENST00000469599.6  5.908909e-179  transcript  "
      ]
     },
     "execution_count": 1,
     "metadata": {},
     "output_type": "execute_result"
    }
   ],
   "source": [
    "trans = pd.read_csv('../../_m/transcripts/diffExpr_maleVfemale_full.txt', sep='\\t', index_col=0)\n",
    "trans = trans[(trans['adj.P.Val'] < 0.05)].sort_values('adj.P.Val')\n",
    "trans['Feature'] = trans.index\n",
    "trans['ensemblID'] = trans.gene_id.str.replace('\\\\.\\d+', '', regex=True)\n",
    "trans = trans[['Feature', 'Symbol', 'ensemblID', 'logFC', 'adj.P.Val']]#.rename(columns={'gene_name': 'Symbol'})\n",
    "trans['Type'] = 'transcript'\n",
    "trans.head()"
   ]
  },
  {
   "cell_type": "markdown",
   "metadata": {},
   "source": [
    "### Exons"
   ]
  },
  {
   "cell_type": "code",
   "execution_count": 4,
   "metadata": {
    "execution": {
     "iopub.execute_input": "2021-08-02T14:02:27.746972Z",
     "iopub.status.busy": "2021-08-02T14:02:27.745716Z",
     "iopub.status.idle": "2021-08-02T14:02:29.225691Z",
     "shell.execute_reply": "2021-08-02T14:02:29.226792Z"
    }
   },
   "outputs": [
    {
     "data": {
      "text/html": [
       "<div>\n",
       "<style scoped>\n",
       "    .dataframe tbody tr th:only-of-type {\n",
       "        vertical-align: middle;\n",
       "    }\n",
       "\n",
       "    .dataframe tbody tr th {\n",
       "        vertical-align: top;\n",
       "    }\n",
       "\n",
       "    .dataframe thead th {\n",
       "        text-align: right;\n",
       "    }\n",
       "</style>\n",
       "<table border=\"1\" class=\"dataframe\">\n",
       "  <thead>\n",
       "    <tr style=\"text-align: right;\">\n",
       "      <th></th>\n",
       "      <th>Feature</th>\n",
       "      <th>Symbol</th>\n",
       "      <th>ensemblID</th>\n",
       "      <th>logFC</th>\n",
       "      <th>adj.P.Val</th>\n",
       "      <th>Type</th>\n",
       "    </tr>\n",
       "  </thead>\n",
       "  <tbody>\n",
       "    <tr>\n",
       "      <th>e1160419</th>\n",
       "      <td>e1160419</td>\n",
       "      <td>XIST</td>\n",
       "      <td>ENSG00000229807</td>\n",
       "      <td>-8.089614</td>\n",
       "      <td>6.305380e-266</td>\n",
       "      <td>exon</td>\n",
       "    </tr>\n",
       "    <tr>\n",
       "      <th>e1160425</th>\n",
       "      <td>e1160425</td>\n",
       "      <td>XIST</td>\n",
       "      <td>ENSG00000229807</td>\n",
       "      <td>-6.939845</td>\n",
       "      <td>2.715346e-265</td>\n",
       "      <td>exon</td>\n",
       "    </tr>\n",
       "    <tr>\n",
       "      <th>e1160404</th>\n",
       "      <td>e1160404</td>\n",
       "      <td>XIST</td>\n",
       "      <td>ENSG00000229807</td>\n",
       "      <td>-7.779011</td>\n",
       "      <td>4.404419e-264</td>\n",
       "      <td>exon</td>\n",
       "    </tr>\n",
       "    <tr>\n",
       "      <th>e1160437</th>\n",
       "      <td>e1160437</td>\n",
       "      <td>XIST</td>\n",
       "      <td>ENSG00000229807</td>\n",
       "      <td>-8.654052</td>\n",
       "      <td>5.915596e-260</td>\n",
       "      <td>exon</td>\n",
       "    </tr>\n",
       "    <tr>\n",
       "      <th>e1160443</th>\n",
       "      <td>e1160443</td>\n",
       "      <td>XIST</td>\n",
       "      <td>ENSG00000229807</td>\n",
       "      <td>-8.621807</td>\n",
       "      <td>8.389574e-260</td>\n",
       "      <td>exon</td>\n",
       "    </tr>\n",
       "  </tbody>\n",
       "</table>\n",
       "</div>"
      ],
      "text/plain": [
       "           Feature Symbol        ensemblID     logFC      adj.P.Val  Type\n",
       "e1160419  e1160419   XIST  ENSG00000229807 -8.089614  6.305380e-266  exon\n",
       "e1160425  e1160425   XIST  ENSG00000229807 -6.939845  2.715346e-265  exon\n",
       "e1160404  e1160404   XIST  ENSG00000229807 -7.779011  4.404419e-264  exon\n",
       "e1160437  e1160437   XIST  ENSG00000229807 -8.654052  5.915596e-260  exon\n",
       "e1160443  e1160443   XIST  ENSG00000229807 -8.621807  8.389574e-260  exon"
      ]
     },
     "execution_count": 1,
     "metadata": {},
     "output_type": "execute_result"
    }
   ],
   "source": [
    "exons = pd.read_csv('../../_m/exons/diffExpr_maleVfemale_full.txt', sep='\\t', index_col=0)\n",
    "exons = exons[(exons['adj.P.Val'] < 0.05)].sort_values('adj.P.Val')\n",
    "exons['Feature'] = exons.index\n",
    "exons = exons[['Feature', 'Symbol', 'ensemblID', 'logFC', 'adj.P.Val']]\n",
    "exons['Type'] = 'exon'\n",
    "exons.head()"
   ]
  },
  {
   "cell_type": "markdown",
   "metadata": {},
   "source": [
    "### Junctions"
   ]
  },
  {
   "cell_type": "code",
   "execution_count": 5,
   "metadata": {
    "execution": {
     "iopub.execute_input": "2021-08-02T14:02:29.234537Z",
     "iopub.status.busy": "2021-08-02T14:02:29.233253Z",
     "iopub.status.idle": "2021-08-02T14:02:30.073321Z",
     "shell.execute_reply": "2021-08-02T14:02:30.072018Z"
    }
   },
   "outputs": [
    {
     "data": {
      "text/html": [
       "<div>\n",
       "<style scoped>\n",
       "    .dataframe tbody tr th:only-of-type {\n",
       "        vertical-align: middle;\n",
       "    }\n",
       "\n",
       "    .dataframe tbody tr th {\n",
       "        vertical-align: top;\n",
       "    }\n",
       "\n",
       "    .dataframe thead th {\n",
       "        text-align: right;\n",
       "    }\n",
       "</style>\n",
       "<table border=\"1\" class=\"dataframe\">\n",
       "  <thead>\n",
       "    <tr style=\"text-align: right;\">\n",
       "      <th></th>\n",
       "      <th>Feature</th>\n",
       "      <th>Symbol</th>\n",
       "      <th>ensemblID</th>\n",
       "      <th>logFC</th>\n",
       "      <th>adj.P.Val</th>\n",
       "      <th>Type</th>\n",
       "    </tr>\n",
       "  </thead>\n",
       "  <tbody>\n",
       "    <tr>\n",
       "      <th>chrX:73829232-73831065(-)</th>\n",
       "      <td>chrX:73829232-73831065(-)</td>\n",
       "      <td>XIST</td>\n",
       "      <td>ENSG00000229807</td>\n",
       "      <td>-8.690958</td>\n",
       "      <td>6.863963e-239</td>\n",
       "      <td>junction</td>\n",
       "    </tr>\n",
       "    <tr>\n",
       "      <th>chrX:73833375-73837439(-)</th>\n",
       "      <td>chrX:73833375-73837439(-)</td>\n",
       "      <td>XIST</td>\n",
       "      <td>ENSG00000229807</td>\n",
       "      <td>-8.135806</td>\n",
       "      <td>6.070401e-237</td>\n",
       "      <td>junction</td>\n",
       "    </tr>\n",
       "    <tr>\n",
       "      <th>chrX:73837504-73841381(-)</th>\n",
       "      <td>chrX:73837504-73841381(-)</td>\n",
       "      <td>XIST</td>\n",
       "      <td>ENSG00000229807</td>\n",
       "      <td>-8.008542</td>\n",
       "      <td>9.772347e-231</td>\n",
       "      <td>junction</td>\n",
       "    </tr>\n",
       "    <tr>\n",
       "      <th>chrX:73831275-73833237(-)</th>\n",
       "      <td>chrX:73831275-73833237(-)</td>\n",
       "      <td>XIST</td>\n",
       "      <td>ENSG00000229807</td>\n",
       "      <td>-8.753608</td>\n",
       "      <td>8.771081e-228</td>\n",
       "      <td>junction</td>\n",
       "    </tr>\n",
       "    <tr>\n",
       "      <th>chrX:73822217-73826114(-)</th>\n",
       "      <td>chrX:73822217-73826114(-)</td>\n",
       "      <td>XIST</td>\n",
       "      <td>ENSG00000229807</td>\n",
       "      <td>-6.300175</td>\n",
       "      <td>9.334965e-218</td>\n",
       "      <td>junction</td>\n",
       "    </tr>\n",
       "  </tbody>\n",
       "</table>\n",
       "</div>"
      ],
      "text/plain": [
       "                                             Feature Symbol        ensemblID  \\\n",
       "chrX:73829232-73831065(-)  chrX:73829232-73831065(-)   XIST  ENSG00000229807   \n",
       "chrX:73833375-73837439(-)  chrX:73833375-73837439(-)   XIST  ENSG00000229807   \n",
       "chrX:73837504-73841381(-)  chrX:73837504-73841381(-)   XIST  ENSG00000229807   \n",
       "chrX:73831275-73833237(-)  chrX:73831275-73833237(-)   XIST  ENSG00000229807   \n",
       "chrX:73822217-73826114(-)  chrX:73822217-73826114(-)   XIST  ENSG00000229807   \n",
       "\n",
       "                              logFC      adj.P.Val      Type  \n",
       "chrX:73829232-73831065(-) -8.690958  6.863963e-239  junction  \n",
       "chrX:73833375-73837439(-) -8.135806  6.070401e-237  junction  \n",
       "chrX:73837504-73841381(-) -8.008542  9.772347e-231  junction  \n",
       "chrX:73831275-73833237(-) -8.753608  8.771081e-228  junction  \n",
       "chrX:73822217-73826114(-) -6.300175  9.334965e-218  junction  "
      ]
     },
     "execution_count": 1,
     "metadata": {},
     "output_type": "execute_result"
    }
   ],
   "source": [
    "juncs = pd.read_csv('../../_m/junctions/diffExpr_maleVfemale_full.txt', sep='\\t', index_col=0)\n",
    "juncs = juncs[(juncs['adj.P.Val'] < 0.05)].sort_values('adj.P.Val')\n",
    "juncs['Feature'] = juncs.index\n",
    "juncs = juncs[['Feature', 'Symbol', 'ensemblID', 'logFC', 'adj.P.Val']]\n",
    "juncs['Type'] = 'junction'\n",
    "juncs.head()"
   ]
  },
  {
   "cell_type": "markdown",
   "metadata": {},
   "source": [
    "## DE summary"
   ]
  },
  {
   "cell_type": "markdown",
   "metadata": {},
   "source": [
    "### DE (feature)"
   ]
  },
  {
   "cell_type": "code",
   "execution_count": 6,
   "metadata": {
    "execution": {
     "iopub.execute_input": "2021-08-02T14:02:30.081535Z",
     "iopub.status.busy": "2021-08-02T14:02:30.080224Z",
     "iopub.status.idle": "2021-08-02T14:02:30.084584Z",
     "shell.execute_reply": "2021-08-02T14:02:30.085658Z"
    }
   },
   "outputs": [
    {
     "name": "stdout",
     "output_type": "stream",
     "text": [
      "\n",
      "Gene:\t\t105\n",
      "Transcript:\t252\n",
      "Exon:\t\t952\n",
      "Junction:\t687\n"
     ]
    }
   ],
   "source": [
    "gg = len(set(genes['Feature']))\n",
    "tt = len(set(trans['Feature']))\n",
    "ee = len(set(exons['Feature']))\n",
    "jj = len(set(juncs['Feature']))\n",
    "\n",
    "print(\"\\nGene:\\t\\t%d\\nTranscript:\\t%d\\nExon:\\t\\t%d\\nJunction:\\t%d\" % (gg, tt, ee, jj)) "
   ]
  },
  {
   "cell_type": "markdown",
   "metadata": {},
   "source": [
    "#### DE (EnsemblID)"
   ]
  },
  {
   "cell_type": "code",
   "execution_count": 7,
   "metadata": {
    "execution": {
     "iopub.execute_input": "2021-08-02T14:02:30.094644Z",
     "iopub.status.busy": "2021-08-02T14:02:30.093358Z",
     "iopub.status.idle": "2021-08-02T14:02:30.097649Z",
     "shell.execute_reply": "2021-08-02T14:02:30.098715Z"
    }
   },
   "outputs": [
    {
     "name": "stdout",
     "output_type": "stream",
     "text": [
      "\n",
      "Gene:\t\t105\n",
      "Transcript:\t137\n",
      "Exon:\t\t114\n",
      "Junction:\t159\n"
     ]
    }
   ],
   "source": [
    "gg = len(set(genes['ensemblID']))\n",
    "tt = len(set(trans['ensemblID']))\n",
    "ee = len(set(exons['ensemblID']))\n",
    "jj = len(set(juncs['ensemblID']))\n",
    "\n",
    "print(\"\\nGene:\\t\\t%d\\nTranscript:\\t%d\\nExon:\\t\\t%d\\nJunction:\\t%d\" % (gg, tt, ee, jj)) "
   ]
  },
  {
   "cell_type": "markdown",
   "metadata": {},
   "source": [
    "#### DE (Gene Symbol)"
   ]
  },
  {
   "cell_type": "code",
   "execution_count": 8,
   "metadata": {
    "execution": {
     "iopub.execute_input": "2021-08-02T14:02:30.106387Z",
     "iopub.status.busy": "2021-08-02T14:02:30.105059Z",
     "iopub.status.idle": "2021-08-02T14:02:30.109386Z",
     "shell.execute_reply": "2021-08-02T14:02:30.110417Z"
    }
   },
   "outputs": [
    {
     "name": "stdout",
     "output_type": "stream",
     "text": [
      "\n",
      "Gene:\t\t88\n",
      "Transcript:\t137\n",
      "Exon:\t\t96\n",
      "Junction:\t159\n"
     ]
    }
   ],
   "source": [
    "gg = len(set(genes['Symbol']))\n",
    "tt = len(set(trans['Symbol']))\n",
    "ee = len(set(exons['Symbol']))\n",
    "jj = len(set(juncs['Symbol']))\n",
    "\n",
    "print(\"\\nGene:\\t\\t%d\\nTranscript:\\t%d\\nExon:\\t\\t%d\\nJunction:\\t%d\" % (gg, tt, ee, jj)) "
   ]
  },
  {
   "cell_type": "markdown",
   "metadata": {},
   "source": [
    "### Feature effect size summary"
   ]
  },
  {
   "cell_type": "code",
   "execution_count": 9,
   "metadata": {
    "execution": {
     "iopub.execute_input": "2021-08-02T14:02:30.120380Z",
     "iopub.status.busy": "2021-08-02T14:02:30.119104Z",
     "iopub.status.idle": "2021-08-02T14:02:30.131176Z",
     "shell.execute_reply": "2021-08-02T14:02:30.130014Z"
    }
   },
   "outputs": [
    {
     "name": "stdout",
     "output_type": "stream",
     "text": [
      "\n",
      "There are 56 unique Genes with abs(log2FC) >= 0.5\n",
      "There are 35 unique Genes with abs(log2FC) >= 1\n",
      "\n",
      "There are 183 unique Transcript with abs(log2FC) >= 0.5\n",
      "There are 130 unique Transcript with abs(log2FC) >= 1\n",
      "\n",
      "There are 529 unique Exons with abs(log2FC) >= 0.5\n",
      "There are 393 unique Exons with abs(log2FC) >= 1\n",
      "\n",
      "There are 313 unique Junctions with abs(log2FC) >= 0.5\n",
      "There are 206 unique Junctions with abs(log2FC) >= 1\n"
     ]
    }
   ],
   "source": [
    "feature_list = ['Genes', 'Transcript', 'Exons', 'Junctions']\n",
    "feature_df = [genes, trans, exons, juncs]\n",
    "for ii in range(4):\n",
    "    ff = feature_df[ii]\n",
    "    half = len(set(ff[(np.abs(ff['logFC']) >= 0.5)].Feature))\n",
    "    one = len(set(ff[(np.abs(ff['logFC']) >= 1)].Feature))\n",
    "    print(\"\\nThere are %d unique %s with abs(log2FC) >= 0.5\" % (half, feature_list[ii]))\n",
    "    print(\"There are %d unique %s with abs(log2FC) >= 1\" % (one, feature_list[ii]))"
   ]
  },
  {
   "cell_type": "code",
   "execution_count": 10,
   "metadata": {
    "execution": {
     "iopub.execute_input": "2021-08-02T14:02:30.142345Z",
     "iopub.status.busy": "2021-08-02T14:02:30.141056Z",
     "iopub.status.idle": "2021-08-02T14:02:30.150167Z",
     "shell.execute_reply": "2021-08-02T14:02:30.148895Z"
    }
   },
   "outputs": [
    {
     "name": "stdout",
     "output_type": "stream",
     "text": [
      "\n",
      "There are 56 unique Genes with abs(log2FC) >= 0.5\n",
      "There are 35 unique Genes with abs(log2FC) >= 1\n",
      "\n",
      "There are 89 unique Transcripts with abs(log2FC) >= 0.5\n",
      "There are 60 unique Transcripts with abs(log2FC) >= 1\n",
      "\n",
      "There are 58 unique Exons with abs(log2FC) >= 0.5\n",
      "There are 37 unique Exons with abs(log2FC) >= 1\n",
      "\n",
      "There are 46 unique Junctions with abs(log2FC) >= 0.5\n",
      "There are 21 unique Junctions with abs(log2FC) >= 1\n"
     ]
    }
   ],
   "source": [
    "feature_list = ['Genes', 'Transcripts', 'Exons', 'Junctions']\n",
    "feature_df = [genes, trans, exons, juncs]\n",
    "for ii in range(4):\n",
    "    ff = feature_df[ii]\n",
    "    half = len(set(ff[(np.abs(ff['logFC']) >= 0.5)].ensemblID))\n",
    "    one = len(set(ff[(np.abs(ff['logFC']) >= 1)].ensemblID))\n",
    "    print(\"\\nThere are %d unique %s with abs(log2FC) >= 0.5\" % (half, feature_list[ii]))\n",
    "    print(\"There are %d unique %s with abs(log2FC) >= 1\" % (one, feature_list[ii]))"
   ]
  },
  {
   "cell_type": "markdown",
   "metadata": {},
   "source": [
    "## Autosomal only"
   ]
  },
  {
   "cell_type": "code",
   "execution_count": 11,
   "metadata": {
    "execution": {
     "iopub.execute_input": "2021-08-02T14:02:30.156122Z",
     "iopub.status.busy": "2021-08-02T14:02:30.154851Z",
     "iopub.status.idle": "2021-08-02T14:02:30.160692Z",
     "shell.execute_reply": "2021-08-02T14:02:30.159566Z"
    }
   },
   "outputs": [],
   "source": [
    "import functools\n",
    "from gtfparse import read_gtf"
   ]
  },
  {
   "cell_type": "code",
   "execution_count": 12,
   "metadata": {
    "execution": {
     "iopub.execute_input": "2021-08-02T14:02:30.167008Z",
     "iopub.status.busy": "2021-08-02T14:02:30.165386Z",
     "iopub.status.idle": "2021-08-02T14:02:30.168563Z",
     "shell.execute_reply": "2021-08-02T14:02:30.169635Z"
    }
   },
   "outputs": [],
   "source": [
    "@functools.lru_cache()\n",
    "def get_gtf(gtf_file):\n",
    "    return read_gtf(gtf_file)\n"
   ]
  },
  {
   "cell_type": "code",
   "execution_count": 13,
   "metadata": {
    "execution": {
     "iopub.execute_input": "2021-08-02T14:02:30.177109Z",
     "iopub.status.busy": "2021-08-02T14:02:30.175794Z",
     "iopub.status.idle": "2021-08-02T14:02:30.180151Z",
     "shell.execute_reply": "2021-08-02T14:02:30.178879Z"
    }
   },
   "outputs": [],
   "source": [
    "def gene_annotation(gtf_file, feature):\n",
    "    gtf0 = get_gtf(gtf_file)\n",
    "    gtf = gtf0[gtf0[\"feature\"] == feature]\n",
    "    return gtf[[\"gene_id\", \"gene_name\", \"transcript_id\", \"exon_id\",\n",
    "                \"gene_type\", \"seqname\", \"start\", \"end\", \"strand\"]]"
   ]
  },
  {
   "cell_type": "code",
   "execution_count": 14,
   "metadata": {
    "execution": {
     "iopub.execute_input": "2021-08-02T14:02:30.187956Z",
     "iopub.status.busy": "2021-08-02T14:02:30.186645Z",
     "iopub.status.idle": "2021-08-02T14:02:30.190119Z",
     "shell.execute_reply": "2021-08-02T14:02:30.191177Z"
    }
   },
   "outputs": [],
   "source": [
    "gtf_file = '/ceph/genome/human/gencode25/gtf.CHR/_m/gencode.v25.annotation.gtf'"
   ]
  },
  {
   "cell_type": "markdown",
   "metadata": {},
   "source": [
    "### Genes"
   ]
  },
  {
   "cell_type": "code",
   "execution_count": 15,
   "metadata": {
    "execution": {
     "iopub.execute_input": "2021-08-02T14:02:30.204533Z",
     "iopub.status.busy": "2021-08-02T14:02:30.201560Z",
     "iopub.status.idle": "2021-08-02T14:03:42.916328Z",
     "shell.execute_reply": "2021-08-02T14:03:42.914960Z"
    }
   },
   "outputs": [
    {
     "name": "stderr",
     "output_type": "stream",
     "text": [
      "INFO:root:Extracted GTF attributes: ['gene_id', 'gene_type', 'gene_status', 'gene_name', 'level', 'havana_gene', 'transcript_id', 'transcript_type', 'transcript_status', 'transcript_name', 'transcript_support_level', 'tag', 'havana_transcript', 'exon_number', 'exon_id', 'ont', 'protein_id', 'ccdsid']\n"
     ]
    },
    {
     "data": {
      "text/html": [
       "<div>\n",
       "<style scoped>\n",
       "    .dataframe tbody tr th:only-of-type {\n",
       "        vertical-align: middle;\n",
       "    }\n",
       "\n",
       "    .dataframe tbody tr th {\n",
       "        vertical-align: top;\n",
       "    }\n",
       "\n",
       "    .dataframe thead th {\n",
       "        text-align: right;\n",
       "    }\n",
       "</style>\n",
       "<table border=\"1\" class=\"dataframe\">\n",
       "  <thead>\n",
       "    <tr style=\"text-align: right;\">\n",
       "      <th></th>\n",
       "      <th>Feature</th>\n",
       "      <th>chr</th>\n",
       "      <th>Symbol</th>\n",
       "      <th>ensemblID</th>\n",
       "      <th>logFC</th>\n",
       "      <th>adj.P.Val</th>\n",
       "      <th>Type</th>\n",
       "    </tr>\n",
       "  </thead>\n",
       "  <tbody>\n",
       "    <tr>\n",
       "      <th>41</th>\n",
       "      <td>ENSG00000205611.4</td>\n",
       "      <td>chr20</td>\n",
       "      <td>LINC01597</td>\n",
       "      <td>ENSG00000205611</td>\n",
       "      <td>1.177854</td>\n",
       "      <td>1.668358e-14</td>\n",
       "      <td>gene</td>\n",
       "    </tr>\n",
       "    <tr>\n",
       "      <th>43</th>\n",
       "      <td>ENSG00000283443.1</td>\n",
       "      <td>chr20</td>\n",
       "      <td>NaN</td>\n",
       "      <td>ENSG00000283443</td>\n",
       "      <td>1.230724</td>\n",
       "      <td>4.320235e-14</td>\n",
       "      <td>gene</td>\n",
       "    </tr>\n",
       "    <tr>\n",
       "      <th>45</th>\n",
       "      <td>ENSG00000282826.1</td>\n",
       "      <td>chr20</td>\n",
       "      <td>FRG1CP</td>\n",
       "      <td>ENSG00000282826</td>\n",
       "      <td>0.555011</td>\n",
       "      <td>8.233830e-14</td>\n",
       "      <td>gene</td>\n",
       "    </tr>\n",
       "    <tr>\n",
       "      <th>46</th>\n",
       "      <td>ENSG00000149531.15</td>\n",
       "      <td>chr20</td>\n",
       "      <td>FRG1BP</td>\n",
       "      <td>ENSG00000149531</td>\n",
       "      <td>0.649257</td>\n",
       "      <td>2.029046e-13</td>\n",
       "      <td>gene</td>\n",
       "    </tr>\n",
       "    <tr>\n",
       "      <th>48</th>\n",
       "      <td>ENSG00000258484.3</td>\n",
       "      <td>chr15</td>\n",
       "      <td>SPESP1</td>\n",
       "      <td>ENSG00000258484</td>\n",
       "      <td>0.759901</td>\n",
       "      <td>2.382040e-10</td>\n",
       "      <td>gene</td>\n",
       "    </tr>\n",
       "  </tbody>\n",
       "</table>\n",
       "</div>"
      ],
      "text/plain": [
       "               Feature    chr     Symbol        ensemblID     logFC  \\\n",
       "41   ENSG00000205611.4  chr20  LINC01597  ENSG00000205611  1.177854   \n",
       "43   ENSG00000283443.1  chr20        NaN  ENSG00000283443  1.230724   \n",
       "45   ENSG00000282826.1  chr20     FRG1CP  ENSG00000282826  0.555011   \n",
       "46  ENSG00000149531.15  chr20     FRG1BP  ENSG00000149531  0.649257   \n",
       "48   ENSG00000258484.3  chr15     SPESP1  ENSG00000258484  0.759901   \n",
       "\n",
       "       adj.P.Val  Type  \n",
       "41  1.668358e-14  gene  \n",
       "43  4.320235e-14  gene  \n",
       "45  8.233830e-14  gene  \n",
       "46  2.029046e-13  gene  \n",
       "48  2.382040e-10  gene  "
      ]
     },
     "execution_count": 1,
     "metadata": {},
     "output_type": "execute_result"
    }
   ],
   "source": [
    "gtf_annot = gene_annotation(gtf_file, 'gene')\n",
    "\n",
    "genes = pd.read_csv('../../_m/genes/diffExpr_maleVfemale_full.txt', sep='\\t', index_col=0)\n",
    "genes = genes[(genes['adj.P.Val'] < 0.05)].sort_values('adj.P.Val')\n",
    "genes['Feature'] = genes.index\n",
    "genes = pd.merge(gtf_annot[['gene_id', 'seqname']], genes, left_on='gene_id', right_on='Feature', how='right')\n",
    "genes.loc[:, 'seqname'] = genes.seqname.fillna('chr?')\n",
    "genes.sort_values('adj.P.Val').to_csv('chrom_annotation_genes.txt', sep='\\t', index=False)\n",
    "genes = genes[(genes.seqname.str.contains('chr\\d+')) | (genes['seqname'] == 'chr?')].copy().rename(columns={'seqname': 'chr'})\n",
    "genes = genes[['Feature', 'chr', 'Symbol', 'ensemblID', 'logFC', 'adj.P.Val']]\n",
    "genes['Type'] = 'gene'\n",
    "genes.head()"
   ]
  },
  {
   "cell_type": "code",
   "execution_count": 16,
   "metadata": {
    "execution": {
     "iopub.execute_input": "2021-08-02T14:03:42.927929Z",
     "iopub.status.busy": "2021-08-02T14:03:42.926646Z",
     "iopub.status.idle": "2021-08-02T14:03:42.931146Z",
     "shell.execute_reply": "2021-08-02T14:03:42.932214Z"
    }
   },
   "outputs": [
    {
     "data": {
      "text/html": [
       "<div>\n",
       "<style scoped>\n",
       "    .dataframe tbody tr th:only-of-type {\n",
       "        vertical-align: middle;\n",
       "    }\n",
       "\n",
       "    .dataframe tbody tr th {\n",
       "        vertical-align: top;\n",
       "    }\n",
       "\n",
       "    .dataframe thead th {\n",
       "        text-align: right;\n",
       "    }\n",
       "</style>\n",
       "<table border=\"1\" class=\"dataframe\">\n",
       "  <thead>\n",
       "    <tr style=\"text-align: right;\">\n",
       "      <th></th>\n",
       "      <th>Feature</th>\n",
       "      <th>chr</th>\n",
       "      <th>Symbol</th>\n",
       "      <th>ensemblID</th>\n",
       "      <th>logFC</th>\n",
       "      <th>adj.P.Val</th>\n",
       "      <th>Type</th>\n",
       "    </tr>\n",
       "  </thead>\n",
       "  <tbody>\n",
       "  </tbody>\n",
       "</table>\n",
       "</div>"
      ],
      "text/plain": [
       "Empty DataFrame\n",
       "Columns: [Feature, chr, Symbol, ensemblID, logFC, adj.P.Val, Type]\n",
       "Index: []"
      ]
     },
     "execution_count": 1,
     "metadata": {},
     "output_type": "execute_result"
    }
   ],
   "source": [
    "genes[(genes.chr == 'chr?')]"
   ]
  },
  {
   "cell_type": "markdown",
   "metadata": {},
   "source": [
    "### Annotate unknown by hand\n",
    "There are none."
   ]
  },
  {
   "cell_type": "code",
   "execution_count": 17,
   "metadata": {
    "execution": {
     "iopub.execute_input": "2021-08-02T14:03:42.938435Z",
     "iopub.status.busy": "2021-08-02T14:03:42.937102Z",
     "iopub.status.idle": "2021-08-02T14:03:42.944021Z",
     "shell.execute_reply": "2021-08-02T14:03:42.942750Z"
    }
   },
   "outputs": [
    {
     "data": {
      "text/plain": [
       "(42, 7)"
      ]
     },
     "execution_count": 1,
     "metadata": {},
     "output_type": "execute_result"
    }
   ],
   "source": [
    "#genes = genes[~(genes['Symbol'].isin(['NLGN4Y', 'JPX', 'PCDH11X', 'GABRE']))]\n",
    "genes.to_csv('autosomal_DEG.csv', index=False, header=True)\n",
    "genes.shape"
   ]
  },
  {
   "cell_type": "code",
   "execution_count": 18,
   "metadata": {
    "execution": {
     "iopub.execute_input": "2021-08-02T14:03:42.954491Z",
     "iopub.status.busy": "2021-08-02T14:03:42.953212Z",
     "iopub.status.idle": "2021-08-02T14:03:42.957592Z",
     "shell.execute_reply": "2021-08-02T14:03:42.958649Z"
    }
   },
   "outputs": [
    {
     "data": {
      "text/plain": [
       "(42, 7)"
      ]
     },
     "execution_count": 1,
     "metadata": {},
     "output_type": "execute_result"
    }
   ],
   "source": [
    "genes.groupby('ensemblID').first().reset_index().shape"
   ]
  },
  {
   "cell_type": "markdown",
   "metadata": {},
   "source": [
    "### Transcripts"
   ]
  },
  {
   "cell_type": "code",
   "execution_count": 19,
   "metadata": {
    "execution": {
     "iopub.execute_input": "2021-08-02T14:03:42.966518Z",
     "iopub.status.busy": "2021-08-02T14:03:42.965229Z",
     "iopub.status.idle": "2021-08-02T14:03:43.215410Z",
     "shell.execute_reply": "2021-08-02T14:03:43.214054Z"
    }
   },
   "outputs": [
    {
     "data": {
      "text/html": [
       "<div>\n",
       "<style scoped>\n",
       "    .dataframe tbody tr th:only-of-type {\n",
       "        vertical-align: middle;\n",
       "    }\n",
       "\n",
       "    .dataframe tbody tr th {\n",
       "        vertical-align: top;\n",
       "    }\n",
       "\n",
       "    .dataframe thead th {\n",
       "        text-align: right;\n",
       "    }\n",
       "</style>\n",
       "<table border=\"1\" class=\"dataframe\">\n",
       "  <thead>\n",
       "    <tr style=\"text-align: right;\">\n",
       "      <th></th>\n",
       "      <th>Feature</th>\n",
       "      <th>chr</th>\n",
       "      <th>Symbol</th>\n",
       "      <th>ensemblID</th>\n",
       "      <th>logFC</th>\n",
       "      <th>adj.P.Val</th>\n",
       "      <th>Type</th>\n",
       "    </tr>\n",
       "  </thead>\n",
       "  <tbody>\n",
       "    <tr>\n",
       "      <th>ENST00000421320.1</th>\n",
       "      <td>ENST00000421320.1</td>\n",
       "      <td>chr10</td>\n",
       "      <td>RP11-124O11.1</td>\n",
       "      <td>ENSG00000234944</td>\n",
       "      <td>-1.114327</td>\n",
       "      <td>6.986165e-16</td>\n",
       "      <td>transcript</td>\n",
       "    </tr>\n",
       "    <tr>\n",
       "      <th>ENST00000358464.9</th>\n",
       "      <td>ENST00000358464.9</td>\n",
       "      <td>chr20</td>\n",
       "      <td>FRG1CP</td>\n",
       "      <td>ENSG00000282826</td>\n",
       "      <td>0.543532</td>\n",
       "      <td>3.805030e-13</td>\n",
       "      <td>transcript</td>\n",
       "    </tr>\n",
       "    <tr>\n",
       "      <th>ENST00000380888.4</th>\n",
       "      <td>ENST00000380888.4</td>\n",
       "      <td>chr20</td>\n",
       "      <td>LINC01597</td>\n",
       "      <td>ENSG00000205611</td>\n",
       "      <td>0.744357</td>\n",
       "      <td>3.576296e-12</td>\n",
       "      <td>transcript</td>\n",
       "    </tr>\n",
       "    <tr>\n",
       "      <th>ENST00000636528.1</th>\n",
       "      <td>ENST00000636528.1</td>\n",
       "      <td>chr20</td>\n",
       "      <td>RP11-462H3.2</td>\n",
       "      <td>ENSG00000283443</td>\n",
       "      <td>1.286835</td>\n",
       "      <td>7.740744e-12</td>\n",
       "      <td>transcript</td>\n",
       "    </tr>\n",
       "    <tr>\n",
       "      <th>ENST00000612308.1</th>\n",
       "      <td>ENST00000612308.1</td>\n",
       "      <td>chr9</td>\n",
       "      <td>FAM27D1</td>\n",
       "      <td>ENSG00000275493</td>\n",
       "      <td>1.045770</td>\n",
       "      <td>8.059660e-11</td>\n",
       "      <td>transcript</td>\n",
       "    </tr>\n",
       "  </tbody>\n",
       "</table>\n",
       "</div>"
      ],
      "text/plain": [
       "                             Feature    chr         Symbol        ensemblID  \\\n",
       "ENST00000421320.1  ENST00000421320.1  chr10  RP11-124O11.1  ENSG00000234944   \n",
       "ENST00000358464.9  ENST00000358464.9  chr20         FRG1CP  ENSG00000282826   \n",
       "ENST00000380888.4  ENST00000380888.4  chr20      LINC01597  ENSG00000205611   \n",
       "ENST00000636528.1  ENST00000636528.1  chr20   RP11-462H3.2  ENSG00000283443   \n",
       "ENST00000612308.1  ENST00000612308.1   chr9        FAM27D1  ENSG00000275493   \n",
       "\n",
       "                      logFC     adj.P.Val        Type  \n",
       "ENST00000421320.1 -1.114327  6.986165e-16  transcript  \n",
       "ENST00000358464.9  0.543532  3.805030e-13  transcript  \n",
       "ENST00000380888.4  0.744357  3.576296e-12  transcript  \n",
       "ENST00000636528.1  1.286835  7.740744e-12  transcript  \n",
       "ENST00000612308.1  1.045770  8.059660e-11  transcript  "
      ]
     },
     "execution_count": 1,
     "metadata": {},
     "output_type": "execute_result"
    }
   ],
   "source": [
    "trans = pd.read_csv('../../_m/transcripts/diffExpr_maleVfemale_full.txt', sep='\\t', index_col=0)\n",
    "trans = trans[(trans['adj.P.Val'] < 0.05)].sort_values('adj.P.Val')\n",
    "trans.loc[:, 'Feature'] = trans.index\n",
    "trans.loc[:, 'ensemblID'] = trans.gene_id.str.replace('\\\\.\\d+', '', regex=True)\n",
    "trans = trans[(trans.chr.str.contains('chr\\d+'))].copy()\n",
    "trans = trans[['Feature', 'chr', 'Symbol', 'ensemblID', 'logFC', 'adj.P.Val']]#.rename(columns={'gene_name': 'Symbol'})\n",
    "trans['Type'] = 'transcript'\n",
    "trans.head()"
   ]
  },
  {
   "cell_type": "code",
   "execution_count": 20,
   "metadata": {
    "execution": {
     "iopub.execute_input": "2021-08-02T14:03:43.225417Z",
     "iopub.status.busy": "2021-08-02T14:03:43.223981Z",
     "iopub.status.idle": "2021-08-02T14:03:43.228722Z",
     "shell.execute_reply": "2021-08-02T14:03:43.229783Z"
    }
   },
   "outputs": [
    {
     "data": {
      "text/html": [
       "<div>\n",
       "<style scoped>\n",
       "    .dataframe tbody tr th:only-of-type {\n",
       "        vertical-align: middle;\n",
       "    }\n",
       "\n",
       "    .dataframe tbody tr th {\n",
       "        vertical-align: top;\n",
       "    }\n",
       "\n",
       "    .dataframe thead th {\n",
       "        text-align: right;\n",
       "    }\n",
       "</style>\n",
       "<table border=\"1\" class=\"dataframe\">\n",
       "  <thead>\n",
       "    <tr style=\"text-align: right;\">\n",
       "      <th></th>\n",
       "      <th>Feature</th>\n",
       "      <th>chr</th>\n",
       "      <th>Symbol</th>\n",
       "      <th>ensemblID</th>\n",
       "      <th>logFC</th>\n",
       "      <th>adj.P.Val</th>\n",
       "      <th>Type</th>\n",
       "    </tr>\n",
       "  </thead>\n",
       "  <tbody>\n",
       "  </tbody>\n",
       "</table>\n",
       "</div>"
      ],
      "text/plain": [
       "Empty DataFrame\n",
       "Columns: [Feature, chr, Symbol, ensemblID, logFC, adj.P.Val, Type]\n",
       "Index: []"
      ]
     },
     "execution_count": 1,
     "metadata": {},
     "output_type": "execute_result"
    }
   ],
   "source": [
    "trans[(trans.chr == 'chr?')]"
   ]
  },
  {
   "cell_type": "markdown",
   "metadata": {},
   "source": [
    "### Annotate unknown by hand\n",
    "There are none."
   ]
  },
  {
   "cell_type": "code",
   "execution_count": 21,
   "metadata": {
    "execution": {
     "iopub.execute_input": "2021-08-02T14:03:43.235894Z",
     "iopub.status.busy": "2021-08-02T14:03:43.234607Z",
     "iopub.status.idle": "2021-08-02T14:03:43.241465Z",
     "shell.execute_reply": "2021-08-02T14:03:43.240369Z"
    }
   },
   "outputs": [
    {
     "data": {
      "text/plain": [
       "(71, 7)"
      ]
     },
     "execution_count": 1,
     "metadata": {},
     "output_type": "execute_result"
    }
   ],
   "source": [
    "#trans = trans[~(trans['Symbol'].isin(['NLGN4Y']))]\n",
    "trans.to_csv('transcripts_autosomal_DE.csv', index=False, header=True)\n",
    "trans.shape"
   ]
  },
  {
   "cell_type": "code",
   "execution_count": 22,
   "metadata": {
    "execution": {
     "iopub.execute_input": "2021-08-02T14:03:43.251150Z",
     "iopub.status.busy": "2021-08-02T14:03:43.249723Z",
     "iopub.status.idle": "2021-08-02T14:03:43.254246Z",
     "shell.execute_reply": "2021-08-02T14:03:43.255293Z"
    }
   },
   "outputs": [
    {
     "data": {
      "text/plain": [
       "(67, 7)"
      ]
     },
     "execution_count": 1,
     "metadata": {},
     "output_type": "execute_result"
    }
   ],
   "source": [
    "trans.groupby('ensemblID').first().reset_index().shape"
   ]
  },
  {
   "cell_type": "markdown",
   "metadata": {},
   "source": [
    "### Exons"
   ]
  },
  {
   "cell_type": "code",
   "execution_count": 23,
   "metadata": {
    "execution": {
     "iopub.execute_input": "2021-08-02T14:03:43.440596Z",
     "iopub.status.busy": "2021-08-02T14:03:43.439273Z",
     "iopub.status.idle": "2021-08-02T14:03:46.974090Z",
     "shell.execute_reply": "2021-08-02T14:03:46.972944Z"
    }
   },
   "outputs": [
    {
     "data": {
      "text/html": [
       "<div>\n",
       "<style scoped>\n",
       "    .dataframe tbody tr th:only-of-type {\n",
       "        vertical-align: middle;\n",
       "    }\n",
       "\n",
       "    .dataframe tbody tr th {\n",
       "        vertical-align: top;\n",
       "    }\n",
       "\n",
       "    .dataframe thead th {\n",
       "        text-align: right;\n",
       "    }\n",
       "</style>\n",
       "<table border=\"1\" class=\"dataframe\">\n",
       "  <thead>\n",
       "    <tr style=\"text-align: right;\">\n",
       "      <th></th>\n",
       "      <th>Feature</th>\n",
       "      <th>chr</th>\n",
       "      <th>Symbol</th>\n",
       "      <th>ensemblID</th>\n",
       "      <th>logFC</th>\n",
       "      <th>adj.P.Val</th>\n",
       "      <th>Type</th>\n",
       "    </tr>\n",
       "  </thead>\n",
       "  <tbody>\n",
       "    <tr>\n",
       "      <th>0</th>\n",
       "      <td>e1028339</td>\n",
       "      <td>chr19</td>\n",
       "      <td>DCAF15</td>\n",
       "      <td>ENSG00000132017</td>\n",
       "      <td>-0.238367</td>\n",
       "      <td>0.007060</td>\n",
       "      <td>exon</td>\n",
       "    </tr>\n",
       "    <tr>\n",
       "      <th>1</th>\n",
       "      <td>e1038350</td>\n",
       "      <td>chr19</td>\n",
       "      <td>ZNF208</td>\n",
       "      <td>ENSG00000160321</td>\n",
       "      <td>-0.436529</td>\n",
       "      <td>0.002094</td>\n",
       "      <td>exon</td>\n",
       "    </tr>\n",
       "    <tr>\n",
       "      <th>2</th>\n",
       "      <td>e1038351</td>\n",
       "      <td>chr19</td>\n",
       "      <td>ZNF208</td>\n",
       "      <td>ENSG00000160321</td>\n",
       "      <td>-0.445934</td>\n",
       "      <td>0.003064</td>\n",
       "      <td>exon</td>\n",
       "    </tr>\n",
       "    <tr>\n",
       "      <th>3</th>\n",
       "      <td>e1038352</td>\n",
       "      <td>chr19</td>\n",
       "      <td>ZNF208</td>\n",
       "      <td>ENSG00000160321</td>\n",
       "      <td>-0.434854</td>\n",
       "      <td>0.011539</td>\n",
       "      <td>exon</td>\n",
       "    </tr>\n",
       "    <tr>\n",
       "      <th>4</th>\n",
       "      <td>e1038361</td>\n",
       "      <td>chr19</td>\n",
       "      <td>ZNF208</td>\n",
       "      <td>ENSG00000160321</td>\n",
       "      <td>-0.343576</td>\n",
       "      <td>0.040657</td>\n",
       "      <td>exon</td>\n",
       "    </tr>\n",
       "  </tbody>\n",
       "</table>\n",
       "</div>"
      ],
      "text/plain": [
       "    Feature    chr  Symbol        ensemblID     logFC  adj.P.Val  Type\n",
       "0  e1028339  chr19  DCAF15  ENSG00000132017 -0.238367   0.007060  exon\n",
       "1  e1038350  chr19  ZNF208  ENSG00000160321 -0.436529   0.002094  exon\n",
       "2  e1038351  chr19  ZNF208  ENSG00000160321 -0.445934   0.003064  exon\n",
       "3  e1038352  chr19  ZNF208  ENSG00000160321 -0.434854   0.011539  exon\n",
       "4  e1038361  chr19  ZNF208  ENSG00000160321 -0.343576   0.040657  exon"
      ]
     },
     "execution_count": 1,
     "metadata": {},
     "output_type": "execute_result"
    }
   ],
   "source": [
    "gtf_annot = gene_annotation(gtf_file, 'exon')\n",
    "gtf_annot['ensemblID'] = gtf_annot.gene_id.str.replace('\\\\.\\d+', '', regex=True)\n",
    "\n",
    "exons = pd.read_csv('../../_m/exons/diffExpr_maleVfemale_full.txt', sep='\\t', index_col=0)\n",
    "exons = exons[(exons['adj.P.Val'] < 0.05)].sort_values('adj.P.Val')\n",
    "exons['Feature'] = exons.index\n",
    "exons = pd.merge(gtf_annot[['ensemblID', 'seqname']], exons, on='ensemblID', how='right')\n",
    "exons.loc[:, 'seqname'] = exons.seqname.fillna('chr?')\n",
    "exons = exons[(exons.seqname.str.contains('chr\\d+')) | (exons['seqname'] == 'chr?')].copy().rename(columns={'seqname': 'chr'})\n",
    "exons = exons[['Feature', 'chr', 'Symbol', 'ensemblID', 'logFC', 'adj.P.Val']].groupby('Feature').first().reset_index()\n",
    "exons['Type'] = 'exon'\n",
    "exons.head()"
   ]
  },
  {
   "cell_type": "code",
   "execution_count": 24,
   "metadata": {
    "execution": {
     "iopub.execute_input": "2021-08-02T14:03:46.987224Z",
     "iopub.status.busy": "2021-08-02T14:03:46.985965Z",
     "iopub.status.idle": "2021-08-02T14:03:46.990276Z",
     "shell.execute_reply": "2021-08-02T14:03:46.991310Z"
    }
   },
   "outputs": [
    {
     "data": {
      "text/html": [
       "<div>\n",
       "<style scoped>\n",
       "    .dataframe tbody tr th:only-of-type {\n",
       "        vertical-align: middle;\n",
       "    }\n",
       "\n",
       "    .dataframe tbody tr th {\n",
       "        vertical-align: top;\n",
       "    }\n",
       "\n",
       "    .dataframe thead th {\n",
       "        text-align: right;\n",
       "    }\n",
       "</style>\n",
       "<table border=\"1\" class=\"dataframe\">\n",
       "  <thead>\n",
       "    <tr style=\"text-align: right;\">\n",
       "      <th></th>\n",
       "      <th>ensemblID</th>\n",
       "      <th>Feature</th>\n",
       "      <th>chr</th>\n",
       "      <th>Symbol</th>\n",
       "      <th>logFC</th>\n",
       "      <th>adj.P.Val</th>\n",
       "      <th>Type</th>\n",
       "    </tr>\n",
       "  </thead>\n",
       "  <tbody>\n",
       "  </tbody>\n",
       "</table>\n",
       "</div>"
      ],
      "text/plain": [
       "Empty DataFrame\n",
       "Columns: [ensemblID, Feature, chr, Symbol, logFC, adj.P.Val, Type]\n",
       "Index: []"
      ]
     },
     "execution_count": 1,
     "metadata": {},
     "output_type": "execute_result"
    }
   ],
   "source": [
    "exons[(exons['chr'] == 'chr?')].groupby('ensemblID').first().reset_index()"
   ]
  },
  {
   "cell_type": "markdown",
   "metadata": {},
   "source": [
    "### Annotate unknown by hand\n",
    "There are none."
   ]
  },
  {
   "cell_type": "code",
   "execution_count": 25,
   "metadata": {
    "execution": {
     "iopub.execute_input": "2021-08-02T14:03:46.997823Z",
     "iopub.status.busy": "2021-08-02T14:03:46.996564Z",
     "iopub.status.idle": "2021-08-02T14:03:47.003813Z",
     "shell.execute_reply": "2021-08-02T14:03:47.002589Z"
    }
   },
   "outputs": [
    {
     "data": {
      "text/plain": [
       "(133, 7)"
      ]
     },
     "execution_count": 1,
     "metadata": {},
     "output_type": "execute_result"
    }
   ],
   "source": [
    "#exons = exons[~(exons['ensemblID'].isin(['ENSG00000269941']))]\n",
    "exons.to_csv('exons_autosomal_DE.csv', index=False, header=True)\n",
    "exons.shape"
   ]
  },
  {
   "cell_type": "code",
   "execution_count": 26,
   "metadata": {
    "execution": {
     "iopub.execute_input": "2021-08-02T14:03:47.012480Z",
     "iopub.status.busy": "2021-08-02T14:03:47.010683Z",
     "iopub.status.idle": "2021-08-02T14:03:47.015909Z",
     "shell.execute_reply": "2021-08-02T14:03:47.016946Z"
    }
   },
   "outputs": [
    {
     "data": {
      "text/plain": [
       "(46, 7)"
      ]
     },
     "execution_count": 1,
     "metadata": {},
     "output_type": "execute_result"
    }
   ],
   "source": [
    "exons.groupby('ensemblID').first().reset_index().shape"
   ]
  },
  {
   "cell_type": "markdown",
   "metadata": {},
   "source": [
    "### Junctions"
   ]
  },
  {
   "cell_type": "code",
   "execution_count": 27,
   "metadata": {
    "execution": {
     "iopub.execute_input": "2021-08-02T14:03:47.025382Z",
     "iopub.status.busy": "2021-08-02T14:03:47.024098Z",
     "iopub.status.idle": "2021-08-02T14:03:48.131344Z",
     "shell.execute_reply": "2021-08-02T14:03:48.132487Z"
    }
   },
   "outputs": [
    {
     "data": {
      "text/html": [
       "<div>\n",
       "<style scoped>\n",
       "    .dataframe tbody tr th:only-of-type {\n",
       "        vertical-align: middle;\n",
       "    }\n",
       "\n",
       "    .dataframe tbody tr th {\n",
       "        vertical-align: top;\n",
       "    }\n",
       "\n",
       "    .dataframe thead th {\n",
       "        text-align: right;\n",
       "    }\n",
       "</style>\n",
       "<table border=\"1\" class=\"dataframe\">\n",
       "  <thead>\n",
       "    <tr style=\"text-align: right;\">\n",
       "      <th></th>\n",
       "      <th>Feature</th>\n",
       "      <th>chr</th>\n",
       "      <th>Symbol</th>\n",
       "      <th>ensemblID</th>\n",
       "      <th>logFC</th>\n",
       "      <th>adj.P.Val</th>\n",
       "      <th>Type</th>\n",
       "    </tr>\n",
       "  </thead>\n",
       "  <tbody>\n",
       "    <tr>\n",
       "      <th>0</th>\n",
       "      <td>chr10:112426360-112426787(+)</td>\n",
       "      <td>chr10</td>\n",
       "      <td>ACSL5</td>\n",
       "      <td>ENSG00000197142</td>\n",
       "      <td>-0.386362</td>\n",
       "      <td>0.032155</td>\n",
       "      <td>junction</td>\n",
       "    </tr>\n",
       "    <tr>\n",
       "      <th>1</th>\n",
       "      <td>chr10:20889950-20896957(-)</td>\n",
       "      <td>chr10</td>\n",
       "      <td>NEBL</td>\n",
       "      <td>ENSG00000078114</td>\n",
       "      <td>-0.188722</td>\n",
       "      <td>0.002322</td>\n",
       "      <td>junction</td>\n",
       "    </tr>\n",
       "    <tr>\n",
       "      <th>2</th>\n",
       "      <td>chr10:46946676-46999911(+)</td>\n",
       "      <td>chr10</td>\n",
       "      <td>PTPN20</td>\n",
       "      <td>ENSG00000204179</td>\n",
       "      <td>0.548855</td>\n",
       "      <td>0.047015</td>\n",
       "      <td>junction</td>\n",
       "    </tr>\n",
       "    <tr>\n",
       "      <th>3</th>\n",
       "      <td>chr10:95238686-95247214(-)</td>\n",
       "      <td>chr10</td>\n",
       "      <td>PDLIM1</td>\n",
       "      <td>ENSG00000107438</td>\n",
       "      <td>-0.556318</td>\n",
       "      <td>0.022140</td>\n",
       "      <td>junction</td>\n",
       "    </tr>\n",
       "    <tr>\n",
       "      <th>4</th>\n",
       "      <td>chr11:12473984-12477846(+)</td>\n",
       "      <td>chr11</td>\n",
       "      <td>PARVA</td>\n",
       "      <td>ENSG00000197702</td>\n",
       "      <td>-0.152227</td>\n",
       "      <td>0.023287</td>\n",
       "      <td>junction</td>\n",
       "    </tr>\n",
       "  </tbody>\n",
       "</table>\n",
       "</div>"
      ],
      "text/plain": [
       "                        Feature    chr  Symbol        ensemblID     logFC  \\\n",
       "0  chr10:112426360-112426787(+)  chr10   ACSL5  ENSG00000197142 -0.386362   \n",
       "1    chr10:20889950-20896957(-)  chr10    NEBL  ENSG00000078114 -0.188722   \n",
       "2    chr10:46946676-46999911(+)  chr10  PTPN20  ENSG00000204179  0.548855   \n",
       "3    chr10:95238686-95247214(-)  chr10  PDLIM1  ENSG00000107438 -0.556318   \n",
       "4    chr11:12473984-12477846(+)  chr11   PARVA  ENSG00000197702 -0.152227   \n",
       "\n",
       "   adj.P.Val      Type  \n",
       "0   0.032155  junction  \n",
       "1   0.002322  junction  \n",
       "2   0.047015  junction  \n",
       "3   0.022140  junction  \n",
       "4   0.023287  junction  "
      ]
     },
     "execution_count": 1,
     "metadata": {},
     "output_type": "execute_result"
    }
   ],
   "source": [
    "juncs = pd.read_csv('../../_m/junctions/diffExpr_maleVfemale_full.txt', sep='\\t', index_col=0)\n",
    "juncs = juncs[(juncs['adj.P.Val'] < 0.05)].sort_values('adj.P.Val')\n",
    "juncs['Feature'] = juncs.index\n",
    "juncs = pd.merge(gtf_annot[['ensemblID', 'seqname']], juncs, on='ensemblID', how='right')\n",
    "juncs.loc[:, 'seqname'] = juncs.seqname.fillna('chr?')\n",
    "juncs = juncs[(juncs.seqname.str.contains('chr\\d+')) | (juncs['seqname'] == 'chr?')].copy().rename(columns={'seqname': 'chr'})\n",
    "juncs = juncs[['Feature', 'chr', 'Symbol', 'ensemblID', 'logFC', 'adj.P.Val']].groupby('Feature').first().reset_index()\n",
    "juncs['Type'] = 'junction'\n",
    "juncs.head()"
   ]
  },
  {
   "cell_type": "code",
   "execution_count": 28,
   "metadata": {
    "execution": {
     "iopub.execute_input": "2021-08-02T14:03:48.145018Z",
     "iopub.status.busy": "2021-08-02T14:03:48.143754Z",
     "iopub.status.idle": "2021-08-02T14:03:48.148150Z",
     "shell.execute_reply": "2021-08-02T14:03:48.149215Z"
    }
   },
   "outputs": [
    {
     "data": {
      "text/html": [
       "<div>\n",
       "<style scoped>\n",
       "    .dataframe tbody tr th:only-of-type {\n",
       "        vertical-align: middle;\n",
       "    }\n",
       "\n",
       "    .dataframe tbody tr th {\n",
       "        vertical-align: top;\n",
       "    }\n",
       "\n",
       "    .dataframe thead th {\n",
       "        text-align: right;\n",
       "    }\n",
       "</style>\n",
       "<table border=\"1\" class=\"dataframe\">\n",
       "  <thead>\n",
       "    <tr style=\"text-align: right;\">\n",
       "      <th></th>\n",
       "      <th>Feature</th>\n",
       "      <th>chr</th>\n",
       "      <th>Symbol</th>\n",
       "      <th>logFC</th>\n",
       "      <th>adj.P.Val</th>\n",
       "      <th>Type</th>\n",
       "    </tr>\n",
       "    <tr>\n",
       "      <th>ensemblID</th>\n",
       "      <th></th>\n",
       "      <th></th>\n",
       "      <th></th>\n",
       "      <th></th>\n",
       "      <th></th>\n",
       "      <th></th>\n",
       "    </tr>\n",
       "  </thead>\n",
       "  <tbody>\n",
       "  </tbody>\n",
       "</table>\n",
       "</div>"
      ],
      "text/plain": [
       "Empty DataFrame\n",
       "Columns: [Feature, chr, Symbol, logFC, adj.P.Val, Type]\n",
       "Index: []"
      ]
     },
     "execution_count": 1,
     "metadata": {},
     "output_type": "execute_result"
    }
   ],
   "source": [
    "juncs[(juncs['chr'] == 'chr?')].groupby('ensemblID').first()"
   ]
  },
  {
   "cell_type": "markdown",
   "metadata": {},
   "source": [
    "### Annotate unknown by hand\n",
    "None unknown"
   ]
  },
  {
   "cell_type": "code",
   "execution_count": 29,
   "metadata": {
    "execution": {
     "iopub.execute_input": "2021-08-02T14:03:48.155904Z",
     "iopub.status.busy": "2021-08-02T14:03:48.154616Z",
     "iopub.status.idle": "2021-08-02T14:03:48.163229Z",
     "shell.execute_reply": "2021-08-02T14:03:48.162043Z"
    }
   },
   "outputs": [
    {
     "data": {
      "text/plain": [
       "(218, 7)"
      ]
     },
     "execution_count": 1,
     "metadata": {},
     "output_type": "execute_result"
    }
   ],
   "source": [
    "juncs.to_csv('junctions_autosomal_DE.csv', index=False, header=True)\n",
    "juncs.shape"
   ]
  },
  {
   "cell_type": "code",
   "execution_count": 30,
   "metadata": {
    "execution": {
     "iopub.execute_input": "2021-08-02T14:03:48.172895Z",
     "iopub.status.busy": "2021-08-02T14:03:48.171594Z",
     "iopub.status.idle": "2021-08-02T14:03:48.176001Z",
     "shell.execute_reply": "2021-08-02T14:03:48.177038Z"
    }
   },
   "outputs": [
    {
     "data": {
      "text/plain": [
       "(109, 7)"
      ]
     },
     "execution_count": 1,
     "metadata": {},
     "output_type": "execute_result"
    }
   ],
   "source": [
    "juncs.groupby('ensemblID').first().reset_index().shape"
   ]
  },
  {
   "cell_type": "markdown",
   "metadata": {},
   "source": [
    "## DE summary"
   ]
  },
  {
   "cell_type": "markdown",
   "metadata": {},
   "source": [
    "### DE (feature)"
   ]
  },
  {
   "cell_type": "code",
   "execution_count": 31,
   "metadata": {
    "execution": {
     "iopub.execute_input": "2021-08-02T14:03:48.184706Z",
     "iopub.status.busy": "2021-08-02T14:03:48.183443Z",
     "iopub.status.idle": "2021-08-02T14:03:48.187764Z",
     "shell.execute_reply": "2021-08-02T14:03:48.188826Z"
    }
   },
   "outputs": [
    {
     "name": "stdout",
     "output_type": "stream",
     "text": [
      "\n",
      "Gene:\t\t42\n",
      "Transcript:\t71\n",
      "Exon:\t\t133\n",
      "Junction:\t218\n"
     ]
    }
   ],
   "source": [
    "gg = len(set(genes['Feature']))\n",
    "tt = len(set(trans['Feature']))\n",
    "ee = len(set(exons['Feature']))\n",
    "jj = len(set(juncs['Feature']))\n",
    "\n",
    "print(\"\\nGene:\\t\\t%d\\nTranscript:\\t%d\\nExon:\\t\\t%d\\nJunction:\\t%d\" % (gg, tt, ee, jj)) "
   ]
  },
  {
   "cell_type": "markdown",
   "metadata": {},
   "source": [
    "#### DE (EnsemblID)"
   ]
  },
  {
   "cell_type": "code",
   "execution_count": 32,
   "metadata": {
    "execution": {
     "iopub.execute_input": "2021-08-02T14:03:48.204494Z",
     "iopub.status.busy": "2021-08-02T14:03:48.202640Z",
     "iopub.status.idle": "2021-08-02T14:03:48.212369Z",
     "shell.execute_reply": "2021-08-02T14:03:48.211203Z"
    }
   },
   "outputs": [
    {
     "name": "stdout",
     "output_type": "stream",
     "text": [
      "\n",
      "Gene:\t\t42\n",
      "Transcript:\t67\n",
      "Exon:\t\t46\n",
      "Junction:\t109\n"
     ]
    }
   ],
   "source": [
    "gg = len(set(genes.groupby('ensemblID').first().reset_index()['ensemblID']))\n",
    "tt = len(set(trans.groupby('ensemblID').first().reset_index()['ensemblID']))\n",
    "ee = len(set(exons.groupby('ensemblID').first().reset_index()['ensemblID']))\n",
    "jj = len(set(juncs.groupby('ensemblID').first().reset_index()['ensemblID']))\n",
    "\n",
    "print(\"\\nGene:\\t\\t%d\\nTranscript:\\t%d\\nExon:\\t\\t%d\\nJunction:\\t%d\" % (gg, tt, ee, jj)) "
   ]
  },
  {
   "cell_type": "markdown",
   "metadata": {},
   "source": [
    "#### DE (Gene Symbol)"
   ]
  },
  {
   "cell_type": "code",
   "execution_count": 33,
   "metadata": {
    "execution": {
     "iopub.execute_input": "2021-08-02T14:03:48.232166Z",
     "iopub.status.busy": "2021-08-02T14:03:48.230754Z",
     "iopub.status.idle": "2021-08-02T14:03:48.235086Z",
     "shell.execute_reply": "2021-08-02T14:03:48.236129Z"
    }
   },
   "outputs": [
    {
     "name": "stdout",
     "output_type": "stream",
     "text": [
      "\n",
      "Gene:\t\t31\n",
      "Transcript:\t67\n",
      "Exon:\t\t40\n",
      "Junction:\t109\n"
     ]
    }
   ],
   "source": [
    "gg = len(set(genes.groupby('Symbol').first().reset_index()['Symbol']))\n",
    "tt = len(set(trans.groupby('Symbol').first().reset_index()['Symbol']))\n",
    "ee = len(set(exons.groupby('Symbol').first().reset_index()['Symbol']))\n",
    "jj = len(set(juncs.groupby('Symbol').first().reset_index()['Symbol']))\n",
    "\n",
    "print(\"\\nGene:\\t\\t%d\\nTranscript:\\t%d\\nExon:\\t\\t%d\\nJunction:\\t%d\" % (gg, tt, ee, jj)) "
   ]
  },
  {
   "cell_type": "markdown",
   "metadata": {},
   "source": [
    "### Feature effect size summary"
   ]
  },
  {
   "cell_type": "code",
   "execution_count": 34,
   "metadata": {
    "execution": {
     "iopub.execute_input": "2021-08-02T14:03:48.250521Z",
     "iopub.status.busy": "2021-08-02T14:03:48.249256Z",
     "iopub.status.idle": "2021-08-02T14:03:48.253447Z",
     "shell.execute_reply": "2021-08-02T14:03:48.254470Z"
    }
   },
   "outputs": [
    {
     "name": "stdout",
     "output_type": "stream",
     "text": [
      "\n",
      "There are 15 unique Genes with abs(log2FC) >= 0.5\n",
      "There are 2 unique Genes with abs(log2FC) >= 1\n",
      "\n",
      "There are 44 unique Transcript with abs(log2FC) >= 0.5\n",
      "There are 26 unique Transcript with abs(log2FC) >= 1\n",
      "\n",
      "There are 55 unique Exons with abs(log2FC) >= 0.5\n",
      "There are 6 unique Exons with abs(log2FC) >= 1\n",
      "\n",
      "There are 80 unique Junctions with abs(log2FC) >= 0.5\n",
      "There are 27 unique Junctions with abs(log2FC) >= 1\n"
     ]
    }
   ],
   "source": [
    "feature_list = ['Genes', 'Transcript', 'Exons', 'Junctions']\n",
    "feature_df = [genes, trans, exons, juncs]\n",
    "for ii in range(4):\n",
    "    ff = feature_df[ii]\n",
    "    half = len(set(ff[(np.abs(ff['logFC']) >= 0.5)].Feature))\n",
    "    one = len(set(ff[(np.abs(ff['logFC']) >= 1)].Feature))\n",
    "    print(\"\\nThere are %d unique %s with abs(log2FC) >= 0.5\" % (half, feature_list[ii]))\n",
    "    print(\"There are %d unique %s with abs(log2FC) >= 1\" % (one, feature_list[ii]))"
   ]
  },
  {
   "cell_type": "code",
   "execution_count": 35,
   "metadata": {
    "execution": {
     "iopub.execute_input": "2021-08-02T14:03:48.268235Z",
     "iopub.status.busy": "2021-08-02T14:03:48.266990Z",
     "iopub.status.idle": "2021-08-02T14:03:48.271267Z",
     "shell.execute_reply": "2021-08-02T14:03:48.272323Z"
    }
   },
   "outputs": [
    {
     "name": "stdout",
     "output_type": "stream",
     "text": [
      "\n",
      "There are 15 unique Genes with abs(log2FC) >= 0.5\n",
      "There are 2 unique Genes with abs(log2FC) >= 1\n",
      "\n",
      "There are 42 unique Transcripts with abs(log2FC) >= 0.5\n",
      "There are 26 unique Transcripts with abs(log2FC) >= 1\n",
      "\n",
      "There are 10 unique Exons with abs(log2FC) >= 0.5\n",
      "There are 3 unique Exons with abs(log2FC) >= 1\n",
      "\n",
      "There are 16 unique Junctions with abs(log2FC) >= 0.5\n",
      "There are 2 unique Junctions with abs(log2FC) >= 1\n"
     ]
    }
   ],
   "source": [
    "feature_list = ['Genes', 'Transcripts', 'Exons', 'Junctions']\n",
    "feature_df = [genes, trans, exons, juncs]\n",
    "for ii in range(4):\n",
    "    ff = feature_df[ii]\n",
    "    half = len(set(ff[(np.abs(ff['logFC']) >= 0.5)].ensemblID))\n",
    "    one = len(set(ff[(np.abs(ff['logFC']) >= 1)].ensemblID))\n",
    "    print(\"\\nThere are %d unique %s with abs(log2FC) >= 0.5\" % (half, feature_list[ii]))\n",
    "    print(\"There are %d unique %s with abs(log2FC) >= 1\" % (one, feature_list[ii]))"
   ]
  }
 ],
 "metadata": {
  "kernelspec": {
   "display_name": "Python 3",
   "language": "python",
   "name": "python3"
  },
  "language_info": {
   "codemirror_mode": {
    "name": "ipython",
    "version": 3
   },
   "file_extension": ".py",
   "mimetype": "text/x-python",
   "name": "python",
   "nbconvert_exporter": "python",
   "pygments_lexer": "ipython3",
   "version": "3.9.1"
  }
 },
 "nbformat": 4,
 "nbformat_minor": 4
}
