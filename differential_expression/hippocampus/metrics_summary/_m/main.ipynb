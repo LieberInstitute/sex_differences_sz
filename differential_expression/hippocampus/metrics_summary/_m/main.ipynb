{
 "cells": [
  {
   "cell_type": "markdown",
   "metadata": {},
   "source": [
    "# Feature summary of differential expression analysis"
   ]
  },
  {
   "cell_type": "code",
   "execution_count": 1,
   "metadata": {
    "execution": {
     "iopub.execute_input": "2023-02-20T23:57:43.555250Z",
     "iopub.status.busy": "2023-02-20T23:57:43.555123Z",
     "iopub.status.idle": "2023-02-20T23:57:43.715538Z",
     "shell.execute_reply": "2023-02-20T23:57:43.715035Z"
    }
   },
   "outputs": [],
   "source": [
    "import numpy as np\n",
    "import pandas as pd"
   ]
  },
  {
   "cell_type": "code",
   "execution_count": 2,
   "metadata": {
    "execution": {
     "iopub.execute_input": "2023-02-20T23:57:43.717599Z",
     "iopub.status.busy": "2023-02-20T23:57:43.717443Z",
     "iopub.status.idle": "2023-02-20T23:57:43.720943Z",
     "shell.execute_reply": "2023-02-20T23:57:43.720552Z"
    }
   },
   "outputs": [],
   "source": [
    "def annotate_DE(feature):\n",
    "    # Annotate DE results\n",
    "    df = pd.read_csv(f'../../_m/{feature.lower()}s/diffExpr_maleVfemale_full.txt', \n",
    "                     sep='\\t', index_col=0)\\\n",
    "           .rename(columns={\"gene_id\": \"gencodeID\", \"gencodeGeneID\": \"gencodeID\", \n",
    "                            \"gene_name\": \"Symbol\"})\n",
    "    df = df[(df['adj.P.Val'] < 0.05)].sort_values('adj.P.Val')\n",
    "    df['Feature'] = df.index\n",
    "    df['ensemblID'] = df.gencodeID.str.replace(\"\\\\..*\", \"\", regex=True)\n",
    "    df['Type'] = feature; df[\"Region\"] = \"Hippocampus\"\n",
    "    return df[['Feature', 'Symbol', 'ensemblID', \n",
    "               'logFC', 'SE', 'adj.P.Val', \"Type\"]]"
   ]
  },
  {
   "cell_type": "markdown",
   "metadata": {},
   "source": [
    "## Summary plots"
   ]
  },
  {
   "cell_type": "markdown",
   "metadata": {},
   "source": [
    "### Genes"
   ]
  },
  {
   "cell_type": "code",
   "execution_count": 3,
   "metadata": {
    "execution": {
     "iopub.execute_input": "2023-02-20T23:57:43.722814Z",
     "iopub.status.busy": "2023-02-20T23:57:43.722699Z",
     "iopub.status.idle": "2023-02-20T23:57:52.370911Z",
     "shell.execute_reply": "2023-02-20T23:57:52.370496Z"
    }
   },
   "outputs": [
    {
     "data": {
      "text/html": [
       "<div>\n",
       "<style scoped>\n",
       "    .dataframe tbody tr th:only-of-type {\n",
       "        vertical-align: middle;\n",
       "    }\n",
       "\n",
       "    .dataframe tbody tr th {\n",
       "        vertical-align: top;\n",
       "    }\n",
       "\n",
       "    .dataframe thead th {\n",
       "        text-align: right;\n",
       "    }\n",
       "</style>\n",
       "<table border=\"1\" class=\"dataframe\">\n",
       "  <thead>\n",
       "    <tr style=\"text-align: right;\">\n",
       "      <th></th>\n",
       "      <th>Feature</th>\n",
       "      <th>Symbol</th>\n",
       "      <th>ensemblID</th>\n",
       "      <th>logFC</th>\n",
       "      <th>SE</th>\n",
       "      <th>adj.P.Val</th>\n",
       "      <th>Type</th>\n",
       "    </tr>\n",
       "  </thead>\n",
       "  <tbody>\n",
       "    <tr>\n",
       "      <th>KDM5D|ENSG00000012817.16</th>\n",
       "      <td>KDM5D|ENSG00000012817.16</td>\n",
       "      <td>KDM5D</td>\n",
       "      <td>ENSG00000012817</td>\n",
       "      <td>12.534081</td>\n",
       "      <td>0.100323</td>\n",
       "      <td>0.0</td>\n",
       "      <td>Gene</td>\n",
       "    </tr>\n",
       "    <tr>\n",
       "      <th>USP9Y|ENSG00000114374.13</th>\n",
       "      <td>USP9Y|ENSG00000114374.13</td>\n",
       "      <td>USP9Y</td>\n",
       "      <td>ENSG00000114374</td>\n",
       "      <td>13.663095</td>\n",
       "      <td>0.027720</td>\n",
       "      <td>0.0</td>\n",
       "      <td>Gene</td>\n",
       "    </tr>\n",
       "  </tbody>\n",
       "</table>\n",
       "</div>"
      ],
      "text/plain": [
       "                                           Feature Symbol        ensemblID  \\\n",
       "KDM5D|ENSG00000012817.16  KDM5D|ENSG00000012817.16  KDM5D  ENSG00000012817   \n",
       "USP9Y|ENSG00000114374.13  USP9Y|ENSG00000114374.13  USP9Y  ENSG00000114374   \n",
       "\n",
       "                              logFC        SE  adj.P.Val  Type  \n",
       "KDM5D|ENSG00000012817.16  12.534081  0.100323        0.0  Gene  \n",
       "USP9Y|ENSG00000114374.13  13.663095  0.027720        0.0  Gene  "
      ]
     },
     "execution_count": 3,
     "metadata": {},
     "output_type": "execute_result"
    }
   ],
   "source": [
    "genes = annotate_DE(\"Gene\")\n",
    "genes.head(2)"
   ]
  },
  {
   "cell_type": "markdown",
   "metadata": {},
   "source": [
    "### Transcripts"
   ]
  },
  {
   "cell_type": "code",
   "execution_count": 4,
   "metadata": {
    "execution": {
     "iopub.execute_input": "2023-02-20T23:57:52.395402Z",
     "iopub.status.busy": "2023-02-20T23:57:52.395266Z",
     "iopub.status.idle": "2023-02-20T23:58:15.370355Z",
     "shell.execute_reply": "2023-02-20T23:58:15.369808Z"
    }
   },
   "outputs": [
    {
     "data": {
      "text/html": [
       "<div>\n",
       "<style scoped>\n",
       "    .dataframe tbody tr th:only-of-type {\n",
       "        vertical-align: middle;\n",
       "    }\n",
       "\n",
       "    .dataframe tbody tr th {\n",
       "        vertical-align: top;\n",
       "    }\n",
       "\n",
       "    .dataframe thead th {\n",
       "        text-align: right;\n",
       "    }\n",
       "</style>\n",
       "<table border=\"1\" class=\"dataframe\">\n",
       "  <thead>\n",
       "    <tr style=\"text-align: right;\">\n",
       "      <th></th>\n",
       "      <th>Feature</th>\n",
       "      <th>Symbol</th>\n",
       "      <th>ensemblID</th>\n",
       "      <th>logFC</th>\n",
       "      <th>SE</th>\n",
       "      <th>adj.P.Val</th>\n",
       "      <th>Type</th>\n",
       "    </tr>\n",
       "  </thead>\n",
       "  <tbody>\n",
       "    <tr>\n",
       "      <th>USP9Y-204|ENST00000440408.5</th>\n",
       "      <td>USP9Y-204|ENST00000440408.5</td>\n",
       "      <td>USP9Y</td>\n",
       "      <td>ENSG00000114374</td>\n",
       "      <td>4.688350</td>\n",
       "      <td>0.060887</td>\n",
       "      <td>6.653766e-261</td>\n",
       "      <td>Transcript</td>\n",
       "    </tr>\n",
       "    <tr>\n",
       "      <th>XIST-208|ENST00000602495.1</th>\n",
       "      <td>XIST-208|ENST00000602495.1</td>\n",
       "      <td>XIST</td>\n",
       "      <td>ENSG00000229807</td>\n",
       "      <td>-7.629944</td>\n",
       "      <td>0.069951</td>\n",
       "      <td>3.380416e-242</td>\n",
       "      <td>Transcript</td>\n",
       "    </tr>\n",
       "  </tbody>\n",
       "</table>\n",
       "</div>"
      ],
      "text/plain": [
       "                                                 Feature Symbol  \\\n",
       "USP9Y-204|ENST00000440408.5  USP9Y-204|ENST00000440408.5  USP9Y   \n",
       "XIST-208|ENST00000602495.1    XIST-208|ENST00000602495.1   XIST   \n",
       "\n",
       "                                   ensemblID     logFC        SE  \\\n",
       "USP9Y-204|ENST00000440408.5  ENSG00000114374  4.688350  0.060887   \n",
       "XIST-208|ENST00000602495.1   ENSG00000229807 -7.629944  0.069951   \n",
       "\n",
       "                                 adj.P.Val        Type  \n",
       "USP9Y-204|ENST00000440408.5  6.653766e-261  Transcript  \n",
       "XIST-208|ENST00000602495.1   3.380416e-242  Transcript  "
      ]
     },
     "execution_count": 4,
     "metadata": {},
     "output_type": "execute_result"
    }
   ],
   "source": [
    "trans = annotate_DE(\"Transcript\")\n",
    "trans.head(2)"
   ]
  },
  {
   "cell_type": "markdown",
   "metadata": {},
   "source": [
    "### Exons"
   ]
  },
  {
   "cell_type": "code",
   "execution_count": 5,
   "metadata": {
    "execution": {
     "iopub.execute_input": "2023-02-20T23:58:15.373078Z",
     "iopub.status.busy": "2023-02-20T23:58:15.372960Z",
     "iopub.status.idle": "2023-02-20T23:59:25.726787Z",
     "shell.execute_reply": "2023-02-20T23:59:25.726224Z"
    }
   },
   "outputs": [
    {
     "data": {
      "text/html": [
       "<div>\n",
       "<style scoped>\n",
       "    .dataframe tbody tr th:only-of-type {\n",
       "        vertical-align: middle;\n",
       "    }\n",
       "\n",
       "    .dataframe tbody tr th {\n",
       "        vertical-align: top;\n",
       "    }\n",
       "\n",
       "    .dataframe thead th {\n",
       "        text-align: right;\n",
       "    }\n",
       "</style>\n",
       "<table border=\"1\" class=\"dataframe\">\n",
       "  <thead>\n",
       "    <tr style=\"text-align: right;\">\n",
       "      <th></th>\n",
       "      <th>Feature</th>\n",
       "      <th>Symbol</th>\n",
       "      <th>ensemblID</th>\n",
       "      <th>logFC</th>\n",
       "      <th>SE</th>\n",
       "      <th>adj.P.Val</th>\n",
       "      <th>Type</th>\n",
       "    </tr>\n",
       "  </thead>\n",
       "  <tbody>\n",
       "    <tr>\n",
       "      <th>chrY:19703865-19706345-</th>\n",
       "      <td>chrY:19703865-19706345-</td>\n",
       "      <td>KDM5D</td>\n",
       "      <td>ENSG00000012817</td>\n",
       "      <td>10.269275</td>\n",
       "      <td>0.110655</td>\n",
       "      <td>7.952783e-291</td>\n",
       "      <td>Exon</td>\n",
       "    </tr>\n",
       "    <tr>\n",
       "      <th>chrY:14622009-14622591+</th>\n",
       "      <td>chrY:14622009-14622591+</td>\n",
       "      <td>NLGN4Y</td>\n",
       "      <td>ENSG00000165246</td>\n",
       "      <td>9.976809</td>\n",
       "      <td>0.125443</td>\n",
       "      <td>4.682665e-281</td>\n",
       "      <td>Exon</td>\n",
       "    </tr>\n",
       "  </tbody>\n",
       "</table>\n",
       "</div>"
      ],
      "text/plain": [
       "                                         Feature  Symbol        ensemblID  \\\n",
       "chrY:19703865-19706345-  chrY:19703865-19706345-   KDM5D  ENSG00000012817   \n",
       "chrY:14622009-14622591+  chrY:14622009-14622591+  NLGN4Y  ENSG00000165246   \n",
       "\n",
       "                             logFC        SE      adj.P.Val  Type  \n",
       "chrY:19703865-19706345-  10.269275  0.110655  7.952783e-291  Exon  \n",
       "chrY:14622009-14622591+   9.976809  0.125443  4.682665e-281  Exon  "
      ]
     },
     "execution_count": 5,
     "metadata": {},
     "output_type": "execute_result"
    }
   ],
   "source": [
    "exons = annotate_DE(\"Exon\")\n",
    "exons.head(2)"
   ]
  },
  {
   "cell_type": "markdown",
   "metadata": {},
   "source": [
    "### Junctions"
   ]
  },
  {
   "cell_type": "code",
   "execution_count": 6,
   "metadata": {
    "execution": {
     "iopub.execute_input": "2023-02-20T23:59:25.729524Z",
     "iopub.status.busy": "2023-02-20T23:59:25.729401Z",
     "iopub.status.idle": "2023-02-21T00:00:08.336866Z",
     "shell.execute_reply": "2023-02-21T00:00:08.336153Z"
    }
   },
   "outputs": [
    {
     "data": {
      "text/html": [
       "<div>\n",
       "<style scoped>\n",
       "    .dataframe tbody tr th:only-of-type {\n",
       "        vertical-align: middle;\n",
       "    }\n",
       "\n",
       "    .dataframe tbody tr th {\n",
       "        vertical-align: top;\n",
       "    }\n",
       "\n",
       "    .dataframe thead th {\n",
       "        text-align: right;\n",
       "    }\n",
       "</style>\n",
       "<table border=\"1\" class=\"dataframe\">\n",
       "  <thead>\n",
       "    <tr style=\"text-align: right;\">\n",
       "      <th></th>\n",
       "      <th>Feature</th>\n",
       "      <th>Symbol</th>\n",
       "      <th>ensemblID</th>\n",
       "      <th>logFC</th>\n",
       "      <th>SE</th>\n",
       "      <th>adj.P.Val</th>\n",
       "      <th>Type</th>\n",
       "    </tr>\n",
       "  </thead>\n",
       "  <tbody>\n",
       "    <tr>\n",
       "      <th>chrX:73833375-73837439:-</th>\n",
       "      <td>chrX:73833375-73837439:-</td>\n",
       "      <td>DDX11L1</td>\n",
       "      <td>ENSG00000223972</td>\n",
       "      <td>-8.127682</td>\n",
       "      <td>0.109739</td>\n",
       "      <td>6.624010e-218</td>\n",
       "      <td>Junction</td>\n",
       "    </tr>\n",
       "    <tr>\n",
       "      <th>chrX:73829232-73831065:-</th>\n",
       "      <td>chrX:73829232-73831065:-</td>\n",
       "      <td>DDX11L1</td>\n",
       "      <td>ENSG00000223972</td>\n",
       "      <td>-8.695041</td>\n",
       "      <td>0.140100</td>\n",
       "      <td>2.219527e-216</td>\n",
       "      <td>Junction</td>\n",
       "    </tr>\n",
       "  </tbody>\n",
       "</table>\n",
       "</div>"
      ],
      "text/plain": [
       "                                           Feature   Symbol        ensemblID  \\\n",
       "chrX:73833375-73837439:-  chrX:73833375-73837439:-  DDX11L1  ENSG00000223972   \n",
       "chrX:73829232-73831065:-  chrX:73829232-73831065:-  DDX11L1  ENSG00000223972   \n",
       "\n",
       "                             logFC        SE      adj.P.Val      Type  \n",
       "chrX:73833375-73837439:- -8.127682  0.109739  6.624010e-218  Junction  \n",
       "chrX:73829232-73831065:- -8.695041  0.140100  2.219527e-216  Junction  "
      ]
     },
     "execution_count": 6,
     "metadata": {},
     "output_type": "execute_result"
    }
   ],
   "source": [
    "juncs = annotate_DE(\"Junction\")\n",
    "juncs.head(2)"
   ]
  },
  {
   "cell_type": "markdown",
   "metadata": {},
   "source": [
    "## DE summary"
   ]
  },
  {
   "cell_type": "markdown",
   "metadata": {},
   "source": [
    "### DE (feature)"
   ]
  },
  {
   "cell_type": "code",
   "execution_count": 7,
   "metadata": {
    "execution": {
     "iopub.execute_input": "2023-02-21T00:00:08.338766Z",
     "iopub.status.busy": "2023-02-21T00:00:08.338648Z",
     "iopub.status.idle": "2023-02-21T00:00:08.342903Z",
     "shell.execute_reply": "2023-02-21T00:00:08.342204Z"
    }
   },
   "outputs": [
    {
     "name": "stdout",
     "output_type": "stream",
     "text": [
      "\n",
      "Gene:\t\t147\n",
      "Transcript:\t434\n",
      "Exon:\t\t2030\n",
      "Junction:\t887\n"
     ]
    }
   ],
   "source": [
    "gg = len(set(genes['Feature']))\n",
    "tt = len(set(trans['Feature']))\n",
    "ee = len(set(exons['Feature']))\n",
    "jj = len(set(juncs['Feature']))\n",
    "\n",
    "print(f\"\\nGene:\\t\\t{gg}\\nTranscript:\\t{tt}\\nExon:\\t\\t{ee}\\nJunction:\\t{jj}\")"
   ]
  },
  {
   "cell_type": "markdown",
   "metadata": {},
   "source": [
    "#### DE (EnsemblID)"
   ]
  },
  {
   "cell_type": "code",
   "execution_count": 8,
   "metadata": {
    "execution": {
     "iopub.execute_input": "2023-02-21T00:00:08.344968Z",
     "iopub.status.busy": "2023-02-21T00:00:08.344813Z",
     "iopub.status.idle": "2023-02-21T00:00:08.348824Z",
     "shell.execute_reply": "2023-02-21T00:00:08.348188Z"
    }
   },
   "outputs": [
    {
     "name": "stdout",
     "output_type": "stream",
     "text": [
      "\n",
      "Gene:\t\t147\n",
      "Transcript:\t212\n",
      "Exon:\t\t341\n",
      "Junction:\t9\n"
     ]
    }
   ],
   "source": [
    "gg = len(set(genes['ensemblID']))\n",
    "tt = len(set(trans['ensemblID']))\n",
    "ee = len(set(exons['ensemblID']))\n",
    "jj = len(set(juncs['ensemblID']))\n",
    "\n",
    "print(f\"\\nGene:\\t\\t{gg}\\nTranscript:\\t{tt}\\nExon:\\t\\t{ee}\\nJunction:\\t{jj}\")"
   ]
  },
  {
   "cell_type": "markdown",
   "metadata": {},
   "source": [
    "#### DE (Gene Symbol)"
   ]
  },
  {
   "cell_type": "code",
   "execution_count": 9,
   "metadata": {
    "execution": {
     "iopub.execute_input": "2023-02-21T00:00:08.350606Z",
     "iopub.status.busy": "2023-02-21T00:00:08.350492Z",
     "iopub.status.idle": "2023-02-21T00:00:08.353888Z",
     "shell.execute_reply": "2023-02-21T00:00:08.353422Z"
    }
   },
   "outputs": [
    {
     "name": "stdout",
     "output_type": "stream",
     "text": [
      "\n",
      "Gene:\t\t147\n",
      "Transcript:\t212\n",
      "Exon:\t\t345\n",
      "Junction:\t11\n"
     ]
    }
   ],
   "source": [
    "gg = len(set(genes['Symbol']))\n",
    "tt = len(set(trans['Symbol']))\n",
    "ee = len(set(exons['Symbol']))\n",
    "jj = len(set(juncs['Symbol']))\n",
    "\n",
    "print(f\"\\nGene:\\t\\t{gg}\\nTranscript:\\t{tt}\\nExon:\\t\\t{ee}\\nJunction:\\t{jj}\")"
   ]
  },
  {
   "cell_type": "markdown",
   "metadata": {},
   "source": [
    "### Feature effect size summary"
   ]
  },
  {
   "cell_type": "code",
   "execution_count": 10,
   "metadata": {
    "execution": {
     "iopub.execute_input": "2023-02-21T00:00:08.355491Z",
     "iopub.status.busy": "2023-02-21T00:00:08.355381Z",
     "iopub.status.idle": "2023-02-21T00:00:08.361398Z",
     "shell.execute_reply": "2023-02-21T00:00:08.360920Z"
    }
   },
   "outputs": [
    {
     "name": "stdout",
     "output_type": "stream",
     "text": [
      "\n",
      "There are 87 unique Genes with abs(log2FC) >= 0.5\n",
      "There are 51 unique Genes with abs(log2FC) >= 1\n",
      "\n",
      "There are 297 unique Transcript with abs(log2FC) >= 0.5\n",
      "There are 202 unique Transcript with abs(log2FC) >= 1\n",
      "\n",
      "There are 1042 unique Exons with abs(log2FC) >= 0.5\n",
      "There are 622 unique Exons with abs(log2FC) >= 1\n",
      "\n",
      "There are 409 unique Junctions with abs(log2FC) >= 0.5\n",
      "There are 276 unique Junctions with abs(log2FC) >= 1\n"
     ]
    }
   ],
   "source": [
    "feature_list = ['Genes', 'Transcript', 'Exons', 'Junctions']\n",
    "feature_df = [genes, trans, exons, juncs]\n",
    "for ii in range(4):\n",
    "    ff = feature_df[ii]\n",
    "    half = len(set(ff[(np.abs(ff['logFC']) >= 0.5)].Feature))\n",
    "    one = len(set(ff[(np.abs(ff['logFC']) >= 1)].Feature))\n",
    "    print(f\"\\nThere are {half} unique {feature_list[ii]} with abs(log2FC) >= 0.5\")\n",
    "    print(f\"There are {one} unique {feature_list[ii]} with abs(log2FC) >= 1\")"
   ]
  },
  {
   "cell_type": "code",
   "execution_count": 11,
   "metadata": {
    "execution": {
     "iopub.execute_input": "2023-02-21T00:00:08.362858Z",
     "iopub.status.busy": "2023-02-21T00:00:08.362744Z",
     "iopub.status.idle": "2023-02-21T00:00:08.368331Z",
     "shell.execute_reply": "2023-02-21T00:00:08.367862Z"
    }
   },
   "outputs": [
    {
     "name": "stdout",
     "output_type": "stream",
     "text": [
      "\n",
      "There are 87 unique Genes with abs(log2FC) >= 0.5\n",
      "There are 51 unique Genes with abs(log2FC) >= 1\n",
      "\n",
      "There are 125 unique Transcripts with abs(log2FC) >= 0.5\n",
      "There are 76 unique Transcripts with abs(log2FC) >= 1\n",
      "\n",
      "There are 124 unique Exons with abs(log2FC) >= 0.5\n",
      "There are 62 unique Exons with abs(log2FC) >= 1\n",
      "\n",
      "There are 7 unique Junctions with abs(log2FC) >= 0.5\n",
      "There are 6 unique Junctions with abs(log2FC) >= 1\n"
     ]
    }
   ],
   "source": [
    "feature_list = ['Genes', 'Transcripts', 'Exons', 'Junctions']\n",
    "feature_df = [genes, trans, exons, juncs]\n",
    "for ii in range(4):\n",
    "    ff = feature_df[ii]\n",
    "    half = len(set(ff[(np.abs(ff['logFC']) >= 0.5)].ensemblID))\n",
    "    one = len(set(ff[(np.abs(ff['logFC']) >= 1)].ensemblID))\n",
    "    print(f\"\\nThere are {half} unique {feature_list[ii]} with abs(log2FC) >= 0.5\")\n",
    "    print(f\"There are {one} unique {feature_list[ii]} with abs(log2FC) >= 1\")"
   ]
  },
  {
   "cell_type": "markdown",
   "metadata": {},
   "source": [
    "## Autosomal only"
   ]
  },
  {
   "cell_type": "code",
   "execution_count": 12,
   "metadata": {
    "execution": {
     "iopub.execute_input": "2023-02-21T00:00:08.370016Z",
     "iopub.status.busy": "2023-02-21T00:00:08.369903Z",
     "iopub.status.idle": "2023-02-21T00:00:08.860528Z",
     "shell.execute_reply": "2023-02-21T00:00:08.859883Z"
    }
   },
   "outputs": [],
   "source": [
    "from pyhere import here\n",
    "from functools import lru_cache"
   ]
  },
  {
   "cell_type": "code",
   "execution_count": 13,
   "metadata": {
    "execution": {
     "iopub.execute_input": "2023-02-21T00:00:08.863025Z",
     "iopub.status.busy": "2023-02-21T00:00:08.862811Z",
     "iopub.status.idle": "2023-02-21T00:00:08.866832Z",
     "shell.execute_reply": "2023-02-21T00:00:08.866267Z"
    }
   },
   "outputs": [],
   "source": [
    "@lru_cache()\n",
    "def get_annotation(feature):\n",
    "    feat_lt = {\"gene\": \"gene\", \"transcript\": \"tx\", \n",
    "               \"exon\": \"exon\", \"junction\": \"jxn\"}\n",
    "    new_feature = feat_lt[feature]\n",
    "    fn = here(f\"input/counts/text_files_counts/_m/hippocampus/{new_feature}_annotation.txt\")\n",
    "    return pd.read_csv(fn, sep='\\t')"
   ]
  },
  {
   "cell_type": "code",
   "execution_count": 14,
   "metadata": {
    "execution": {
     "iopub.execute_input": "2023-02-21T00:00:08.869043Z",
     "iopub.status.busy": "2023-02-21T00:00:08.868571Z",
     "iopub.status.idle": "2023-02-21T00:00:08.875536Z",
     "shell.execute_reply": "2023-02-21T00:00:08.874981Z"
    }
   },
   "outputs": [],
   "source": [
    "def annotate_autosomes(feature):\n",
    "    # Get annotation\n",
    "    annot = get_annotation(feature.lower())\n",
    "    # Annotate DE results\n",
    "    df = pd.read_csv(f'../../_m/{feature.lower()}s/diffExpr_maleVfemale_full.txt', \n",
    "                     sep='\\t', index_col=0)\\\n",
    "           .rename(columns={\"gene_id\": \"gencodeID\", \"gencodeGeneID\": \"gencodeID\", \n",
    "                            \"gene_name\": \"Symbol\"})\n",
    "    df = df[(df['adj.P.Val'] < 0.05)].sort_values('adj.P.Val')\n",
    "    df['name'] = df.index\n",
    "    df['ensemblID'] = df.gencodeID.str.replace(\"\\\\..*\", \"\", regex=True)\n",
    "    df = annot.merge(df, on='name').rename(columns={\"name\": \"Feature\"})\n",
    "    df = df[[\"Feature\", \"seqnames\", \"start\", \"end\", \"width\", \"gencodeID\", \"ensemblID\", \n",
    "             \"Symbol\", \"logFC\", \"AveExpr\", \"t\", \"P.Value\", \"adj.P.Val\", \"B\", \"SE\"]]\n",
    "    df['Type'] = feature; df[\"Region\"] = \"Hippocampus\"\n",
    "    # Save annotated file\n",
    "    df.sort_values('adj.P.Val').to_csv(f'chrom_annotation_{feature.lower()}.txt', \n",
    "                                       sep='\\t', index=False)\n",
    "    df = df[(df.seqnames.str.contains('chr\\d+'))].copy()\n",
    "    # Save autosomal DE features\n",
    "    df.to_csv(f'{feature.lower()}_autosomal_DE.csv', index=False, header=True)\n",
    "    return df[['Feature', 'seqnames', 'Symbol', 'ensemblID', 'logFC', 'SE', 'adj.P.Val', \"Type\"]]"
   ]
  },
  {
   "cell_type": "markdown",
   "metadata": {},
   "source": [
    "### Genes"
   ]
  },
  {
   "cell_type": "code",
   "execution_count": 15,
   "metadata": {
    "execution": {
     "iopub.execute_input": "2023-02-21T00:00:08.877478Z",
     "iopub.status.busy": "2023-02-21T00:00:08.877273Z",
     "iopub.status.idle": "2023-02-21T00:00:24.618919Z",
     "shell.execute_reply": "2023-02-21T00:00:24.618251Z"
    }
   },
   "outputs": [
    {
     "data": {
      "text/html": [
       "<div>\n",
       "<style scoped>\n",
       "    .dataframe tbody tr th:only-of-type {\n",
       "        vertical-align: middle;\n",
       "    }\n",
       "\n",
       "    .dataframe tbody tr th {\n",
       "        vertical-align: top;\n",
       "    }\n",
       "\n",
       "    .dataframe thead th {\n",
       "        text-align: right;\n",
       "    }\n",
       "</style>\n",
       "<table border=\"1\" class=\"dataframe\">\n",
       "  <thead>\n",
       "    <tr style=\"text-align: right;\">\n",
       "      <th></th>\n",
       "      <th>Feature</th>\n",
       "      <th>seqnames</th>\n",
       "      <th>Symbol</th>\n",
       "      <th>ensemblID</th>\n",
       "      <th>logFC</th>\n",
       "      <th>SE</th>\n",
       "      <th>adj.P.Val</th>\n",
       "      <th>Type</th>\n",
       "    </tr>\n",
       "  </thead>\n",
       "  <tbody>\n",
       "    <tr>\n",
       "      <th>4</th>\n",
       "      <td>NLRP2|ENSG00000022556.16</td>\n",
       "      <td>chr19</td>\n",
       "      <td>NLRP2</td>\n",
       "      <td>ENSG00000022556</td>\n",
       "      <td>-0.840398</td>\n",
       "      <td>0.038033</td>\n",
       "      <td>0.000024</td>\n",
       "      <td>Gene</td>\n",
       "    </tr>\n",
       "    <tr>\n",
       "      <th>10</th>\n",
       "      <td>DDX43|ENSG00000080007.8</td>\n",
       "      <td>chr6</td>\n",
       "      <td>DDX43</td>\n",
       "      <td>ENSG00000080007</td>\n",
       "      <td>0.759825</td>\n",
       "      <td>0.035350</td>\n",
       "      <td>0.000017</td>\n",
       "      <td>Gene</td>\n",
       "    </tr>\n",
       "  </tbody>\n",
       "</table>\n",
       "</div>"
      ],
      "text/plain": [
       "                     Feature seqnames Symbol        ensemblID     logFC  \\\n",
       "4   NLRP2|ENSG00000022556.16    chr19  NLRP2  ENSG00000022556 -0.840398   \n",
       "10   DDX43|ENSG00000080007.8     chr6  DDX43  ENSG00000080007  0.759825   \n",
       "\n",
       "          SE  adj.P.Val  Type  \n",
       "4   0.038033   0.000024  Gene  \n",
       "10  0.035350   0.000017  Gene  "
      ]
     },
     "execution_count": 15,
     "metadata": {},
     "output_type": "execute_result"
    }
   ],
   "source": [
    "feature = \"Gene\"\n",
    "genes = annotate_autosomes(feature)\n",
    "genes.head(2)"
   ]
  },
  {
   "cell_type": "code",
   "execution_count": 16,
   "metadata": {
    "execution": {
     "iopub.execute_input": "2023-02-21T00:00:24.621147Z",
     "iopub.status.busy": "2023-02-21T00:00:24.620934Z",
     "iopub.status.idle": "2023-02-21T00:00:24.625333Z",
     "shell.execute_reply": "2023-02-21T00:00:24.624786Z"
    }
   },
   "outputs": [
    {
     "data": {
      "text/plain": [
       "(68, 8)"
      ]
     },
     "execution_count": 16,
     "metadata": {},
     "output_type": "execute_result"
    }
   ],
   "source": [
    "genes.shape"
   ]
  },
  {
   "cell_type": "code",
   "execution_count": 17,
   "metadata": {
    "execution": {
     "iopub.execute_input": "2023-02-21T00:00:24.627446Z",
     "iopub.status.busy": "2023-02-21T00:00:24.627239Z",
     "iopub.status.idle": "2023-02-21T00:00:24.634289Z",
     "shell.execute_reply": "2023-02-21T00:00:24.633733Z"
    }
   },
   "outputs": [
    {
     "data": {
      "text/plain": [
       "(68, 8)"
      ]
     },
     "execution_count": 17,
     "metadata": {},
     "output_type": "execute_result"
    }
   ],
   "source": [
    "genes.groupby('ensemblID').first().reset_index().shape"
   ]
  },
  {
   "cell_type": "markdown",
   "metadata": {},
   "source": [
    "### Transcripts"
   ]
  },
  {
   "cell_type": "code",
   "execution_count": 18,
   "metadata": {
    "execution": {
     "iopub.execute_input": "2023-02-21T00:00:24.636362Z",
     "iopub.status.busy": "2023-02-21T00:00:24.636152Z",
     "iopub.status.idle": "2023-02-21T00:01:06.736497Z",
     "shell.execute_reply": "2023-02-21T00:01:06.735689Z"
    }
   },
   "outputs": [
    {
     "data": {
      "text/plain": [
       "(144, 8)"
      ]
     },
     "execution_count": 18,
     "metadata": {},
     "output_type": "execute_result"
    }
   ],
   "source": [
    "trans = annotate_autosomes(\"Transcript\")\n",
    "trans.head(2)\n",
    "trans.shape"
   ]
  },
  {
   "cell_type": "code",
   "execution_count": 19,
   "metadata": {
    "execution": {
     "iopub.execute_input": "2023-02-21T00:01:06.739383Z",
     "iopub.status.busy": "2023-02-21T00:01:06.739167Z",
     "iopub.status.idle": "2023-02-21T00:01:06.746202Z",
     "shell.execute_reply": "2023-02-21T00:01:06.745630Z"
    }
   },
   "outputs": [
    {
     "data": {
      "text/plain": [
       "(133, 8)"
      ]
     },
     "execution_count": 19,
     "metadata": {},
     "output_type": "execute_result"
    }
   ],
   "source": [
    "trans.groupby('ensemblID').first().reset_index().shape"
   ]
  },
  {
   "cell_type": "markdown",
   "metadata": {
    "tags": []
   },
   "source": [
    "### Exons"
   ]
  },
  {
   "cell_type": "code",
   "execution_count": 20,
   "metadata": {
    "execution": {
     "iopub.execute_input": "2023-02-21T00:01:06.749094Z",
     "iopub.status.busy": "2023-02-21T00:01:06.748889Z",
     "iopub.status.idle": "2023-02-21T00:03:01.513549Z",
     "shell.execute_reply": "2023-02-21T00:03:01.512933Z"
    }
   },
   "outputs": [
    {
     "data": {
      "text/plain": [
       "(669, 8)"
      ]
     },
     "execution_count": 20,
     "metadata": {},
     "output_type": "execute_result"
    }
   ],
   "source": [
    "exons = annotate_autosomes(\"Exon\")\n",
    "exons.head(2)\n",
    "exons.shape"
   ]
  },
  {
   "cell_type": "code",
   "execution_count": 21,
   "metadata": {
    "execution": {
     "iopub.execute_input": "2023-02-21T00:03:01.516527Z",
     "iopub.status.busy": "2023-02-21T00:03:01.516314Z",
     "iopub.status.idle": "2023-02-21T00:03:01.523587Z",
     "shell.execute_reply": "2023-02-21T00:03:01.523023Z"
    }
   },
   "outputs": [
    {
     "data": {
      "text/plain": [
       "(242, 8)"
      ]
     },
     "execution_count": 21,
     "metadata": {},
     "output_type": "execute_result"
    }
   ],
   "source": [
    "exons.groupby('ensemblID').first().reset_index().shape"
   ]
  },
  {
   "cell_type": "markdown",
   "metadata": {},
   "source": [
    "### Junctions"
   ]
  },
  {
   "cell_type": "code",
   "execution_count": 22,
   "metadata": {
    "execution": {
     "iopub.execute_input": "2023-02-21T00:03:01.526501Z",
     "iopub.status.busy": "2023-02-21T00:03:01.526295Z",
     "iopub.status.idle": "2023-02-21T00:05:03.264910Z",
     "shell.execute_reply": "2023-02-21T00:05:03.264289Z"
    }
   },
   "outputs": [
    {
     "data": {
      "text/plain": [
       "(370, 8)"
      ]
     },
     "execution_count": 22,
     "metadata": {},
     "output_type": "execute_result"
    }
   ],
   "source": [
    "juncs = annotate_autosomes(\"Junction\")\n",
    "juncs.head(2)\n",
    "juncs.shape"
   ]
  },
  {
   "cell_type": "code",
   "execution_count": 23,
   "metadata": {
    "execution": {
     "iopub.execute_input": "2023-02-21T00:05:03.268207Z",
     "iopub.status.busy": "2023-02-21T00:05:03.267647Z",
     "iopub.status.idle": "2023-02-21T00:05:03.274594Z",
     "shell.execute_reply": "2023-02-21T00:05:03.274005Z"
    }
   },
   "outputs": [
    {
     "data": {
      "text/plain": [
       "(3, 8)"
      ]
     },
     "execution_count": 23,
     "metadata": {},
     "output_type": "execute_result"
    }
   ],
   "source": [
    "juncs.groupby('ensemblID').first().reset_index().shape"
   ]
  },
  {
   "cell_type": "markdown",
   "metadata": {},
   "source": [
    "## DE summary"
   ]
  },
  {
   "cell_type": "markdown",
   "metadata": {},
   "source": [
    "### DE (feature)"
   ]
  },
  {
   "cell_type": "code",
   "execution_count": 24,
   "metadata": {
    "execution": {
     "iopub.execute_input": "2023-02-21T00:05:03.277951Z",
     "iopub.status.busy": "2023-02-21T00:05:03.277481Z",
     "iopub.status.idle": "2023-02-21T00:05:03.282252Z",
     "shell.execute_reply": "2023-02-21T00:05:03.281655Z"
    }
   },
   "outputs": [
    {
     "name": "stdout",
     "output_type": "stream",
     "text": [
      "\n",
      "Gene:\t\t68\n",
      "Transcript:\t144\n",
      "Exon:\t\t669\n",
      "Junction:\t370\n"
     ]
    }
   ],
   "source": [
    "gg = len(set(genes['Feature']))\n",
    "tt = len(set(trans['Feature']))\n",
    "ee = len(set(exons['Feature']))\n",
    "jj = len(set(juncs['Feature']))\n",
    "\n",
    "print(f\"\\nGene:\\t\\t{gg}\\nTranscript:\\t{tt}\\nExon:\\t\\t{ee}\\nJunction:\\t{jj}\")"
   ]
  },
  {
   "cell_type": "markdown",
   "metadata": {},
   "source": [
    "#### DE (EnsemblID)"
   ]
  },
  {
   "cell_type": "code",
   "execution_count": 25,
   "metadata": {
    "execution": {
     "iopub.execute_input": "2023-02-21T00:05:03.285404Z",
     "iopub.status.busy": "2023-02-21T00:05:03.285004Z",
     "iopub.status.idle": "2023-02-21T00:05:03.300653Z",
     "shell.execute_reply": "2023-02-21T00:05:03.300028Z"
    }
   },
   "outputs": [
    {
     "name": "stdout",
     "output_type": "stream",
     "text": [
      "\n",
      "Gene:\t\t68\n",
      "Transcript:\t133\n",
      "Exon:\t\t242\n",
      "Junction:\t3\n"
     ]
    }
   ],
   "source": [
    "gg = len(set(genes.groupby('ensemblID').first().reset_index()['ensemblID']))\n",
    "tt = len(set(trans.groupby('ensemblID').first().reset_index()['ensemblID']))\n",
    "ee = len(set(exons.groupby('ensemblID').first().reset_index()['ensemblID']))\n",
    "jj = len(set(juncs.groupby('ensemblID').first().reset_index()['ensemblID']))\n",
    "\n",
    "print(f\"\\nGene:\\t\\t{gg}\\nTranscript:\\t{tt}\\nExon:\\t\\t{ee}\\nJunction:\\t{jj}\")"
   ]
  },
  {
   "cell_type": "markdown",
   "metadata": {},
   "source": [
    "#### DE (Gene Symbol)"
   ]
  },
  {
   "cell_type": "code",
   "execution_count": 26,
   "metadata": {
    "execution": {
     "iopub.execute_input": "2023-02-21T00:05:03.303757Z",
     "iopub.status.busy": "2023-02-21T00:05:03.303398Z",
     "iopub.status.idle": "2023-02-21T00:05:03.317812Z",
     "shell.execute_reply": "2023-02-21T00:05:03.317206Z"
    }
   },
   "outputs": [
    {
     "name": "stdout",
     "output_type": "stream",
     "text": [
      "\n",
      "Gene:\t\t68\n",
      "Transcript:\t133\n",
      "Exon:\t\t244\n",
      "Junction:\t3\n"
     ]
    }
   ],
   "source": [
    "gg = len(set(genes.groupby('Symbol').first().reset_index()['Symbol']))\n",
    "tt = len(set(trans.groupby('Symbol').first().reset_index()['Symbol']))\n",
    "ee = len(set(exons.groupby('Symbol').first().reset_index()['Symbol']))\n",
    "jj = len(set(juncs.groupby('Symbol').first().reset_index()['Symbol']))\n",
    "\n",
    "print(f\"\\nGene:\\t\\t{gg}\\nTranscript:\\t{tt}\\nExon:\\t\\t{ee}\\nJunction:\\t{jj}\")"
   ]
  },
  {
   "cell_type": "markdown",
   "metadata": {},
   "source": [
    "### Feature effect size summary"
   ]
  },
  {
   "cell_type": "code",
   "execution_count": 27,
   "metadata": {
    "execution": {
     "iopub.execute_input": "2023-02-21T00:05:03.321069Z",
     "iopub.status.busy": "2023-02-21T00:05:03.320542Z",
     "iopub.status.idle": "2023-02-21T00:05:03.329639Z",
     "shell.execute_reply": "2023-02-21T00:05:03.329005Z"
    }
   },
   "outputs": [
    {
     "name": "stdout",
     "output_type": "stream",
     "text": [
      "\n",
      "There are 39 unique Genes with abs(log2FC) >= 0.5\n",
      "There are 13 unique Genes with abs(log2FC) >= 1\n",
      "\n",
      "There are 74 unique Transcript with abs(log2FC) >= 0.5\n",
      "There are 36 unique Transcript with abs(log2FC) >= 1\n",
      "\n",
      "There are 210 unique Exons with abs(log2FC) >= 0.5\n",
      "There are 30 unique Exons with abs(log2FC) >= 1\n",
      "\n",
      "There are 150 unique Junctions with abs(log2FC) >= 0.5\n",
      "There are 69 unique Junctions with abs(log2FC) >= 1\n"
     ]
    }
   ],
   "source": [
    "feature_list = ['Genes', 'Transcript', 'Exons', 'Junctions']\n",
    "feature_df = [genes, trans, exons, juncs]\n",
    "for ii in range(4):\n",
    "    ff = feature_df[ii]\n",
    "    half = len(set(ff[(np.abs(ff['logFC']) >= 0.5)].Feature))\n",
    "    one = len(set(ff[(np.abs(ff['logFC']) >= 1)].Feature))\n",
    "    print(f\"\\nThere are {half} unique {feature_list[ii]} with abs(log2FC) >= 0.5\")\n",
    "    print(f\"There are {one} unique {feature_list[ii]} with abs(log2FC) >= 1\")"
   ]
  },
  {
   "cell_type": "code",
   "execution_count": 28,
   "metadata": {
    "execution": {
     "iopub.execute_input": "2023-02-21T00:05:03.332580Z",
     "iopub.status.busy": "2023-02-21T00:05:03.332208Z",
     "iopub.status.idle": "2023-02-21T00:05:03.340622Z",
     "shell.execute_reply": "2023-02-21T00:05:03.340031Z"
    }
   },
   "outputs": [
    {
     "name": "stdout",
     "output_type": "stream",
     "text": [
      "\n",
      "There are 39 unique Genes with abs(log2FC) >= 0.5\n",
      "There are 13 unique Genes with abs(log2FC) >= 1\n",
      "\n",
      "There are 72 unique Transcripts with abs(log2FC) >= 0.5\n",
      "There are 36 unique Transcripts with abs(log2FC) >= 1\n",
      "\n",
      "There are 59 unique Exons with abs(log2FC) >= 0.5\n",
      "There are 17 unique Exons with abs(log2FC) >= 1\n",
      "\n",
      "There are 3 unique Junctions with abs(log2FC) >= 0.5\n",
      "There are 2 unique Junctions with abs(log2FC) >= 1\n"
     ]
    }
   ],
   "source": [
    "feature_list = ['Genes', 'Transcripts', 'Exons', 'Junctions']\n",
    "feature_df = [genes, trans, exons, juncs]\n",
    "for ii in range(4):\n",
    "    ff = feature_df[ii]\n",
    "    half = len(set(ff[(np.abs(ff['logFC']) >= 0.5)].ensemblID))\n",
    "    one = len(set(ff[(np.abs(ff['logFC']) >= 1)].ensemblID))\n",
    "    print(f\"\\nThere are {half} unique {feature_list[ii]} with abs(log2FC) >= 0.5\")\n",
    "    print(f\"There are {one} unique {feature_list[ii]} with abs(log2FC) >= 1\")"
   ]
  },
  {
   "cell_type": "markdown",
   "metadata": {},
   "source": [
    "## Session information"
   ]
  },
  {
   "cell_type": "code",
   "execution_count": 29,
   "metadata": {
    "execution": {
     "iopub.execute_input": "2023-02-21T00:05:03.343670Z",
     "iopub.status.busy": "2023-02-21T00:05:03.343318Z",
     "iopub.status.idle": "2023-02-21T00:05:03.557422Z",
     "shell.execute_reply": "2023-02-21T00:05:03.556938Z"
    }
   },
   "outputs": [
    {
     "data": {
      "text/html": [
       "<details>\n",
       "<summary>Click to view session information</summary>\n",
       "<pre>\n",
       "-----\n",
       "numpy               1.24.2\n",
       "pandas              1.4.4\n",
       "pyhere              1.0.0\n",
       "session_info        1.0.0\n",
       "-----\n",
       "</pre>\n",
       "<details>\n",
       "<summary>Click to view modules imported as dependencies</summary>\n",
       "<pre>\n",
       "asttokens           NA\n",
       "backcall            0.2.0\n",
       "colorama            0.4.6\n",
       "cython_runtime      NA\n",
       "dateutil            2.8.2\n",
       "debugpy             1.6.3\n",
       "decorator           5.1.1\n",
       "entrypoints         0.4\n",
       "executing           1.0.0\n",
       "ipykernel           6.15.2\n",
       "ipython_genutils    0.2.0\n",
       "jaraco              NA\n",
       "jedi                0.18.1\n",
       "jupyter_server      1.18.1\n",
       "more_itertools      9.0.0\n",
       "mpl_toolkits        NA\n",
       "packaging           21.3\n",
       "parso               0.8.3\n",
       "pexpect             4.8.0\n",
       "pickleshare         0.7.5\n",
       "pkg_resources       NA\n",
       "platformdirs        2.6.2\n",
       "prompt_toolkit      3.0.31\n",
       "psutil              5.9.2\n",
       "ptyprocess          0.7.0\n",
       "pure_eval           0.2.2\n",
       "pydev_ipython       NA\n",
       "pydevconsole        NA\n",
       "pydevd              2.8.0\n",
       "pydevd_file_utils   NA\n",
       "pydevd_plugins      NA\n",
       "pydevd_tracing      NA\n",
       "pygments            2.13.0\n",
       "pyparsing           3.0.9\n",
       "pytz                2022.2.1\n",
       "ruamel              NA\n",
       "six                 1.16.0\n",
       "stack_data          0.5.0\n",
       "tornado             6.2\n",
       "traitlets           5.3.0\n",
       "wcwidth             0.2.5\n",
       "zmq                 23.2.1\n",
       "</pre>\n",
       "</details> <!-- seems like this ends pre, so might as well be explicit -->\n",
       "<pre>\n",
       "-----\n",
       "IPython             8.5.0\n",
       "jupyter_client      7.3.5\n",
       "jupyter_core        4.11.1\n",
       "jupyterlab          3.4.6\n",
       "notebook            6.4.12\n",
       "-----\n",
       "Python 3.10.9 (main, Dec 19 2022, 17:35:49) [GCC 12.2.0]\n",
       "Linux-6.1.12-arch1-1-x86_64-with-glibc2.37\n",
       "-----\n",
       "Session information updated at 2023-02-20 19:05\n",
       "</pre>\n",
       "</details>"
      ],
      "text/plain": [
       "<IPython.core.display.HTML object>"
      ]
     },
     "execution_count": 29,
     "metadata": {},
     "output_type": "execute_result"
    }
   ],
   "source": [
    "import session_info\n",
    "session_info.show()"
   ]
  }
 ],
 "metadata": {
  "kernelspec": {
   "display_name": "Python 3 (ipykernel)",
   "language": "python",
   "name": "python3"
  },
  "language_info": {
   "codemirror_mode": {
    "name": "ipython",
    "version": 3
   },
   "file_extension": ".py",
   "mimetype": "text/x-python",
   "name": "python",
   "nbconvert_exporter": "python",
   "pygments_lexer": "ipython3",
   "version": "3.10.9"
  }
 },
 "nbformat": 4,
 "nbformat_minor": 4
}
