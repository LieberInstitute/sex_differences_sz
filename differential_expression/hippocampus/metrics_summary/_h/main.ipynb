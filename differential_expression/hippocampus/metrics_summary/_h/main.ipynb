{
 "cells": [
  {
   "cell_type": "markdown",
   "metadata": {},
   "source": [
    "# Feature summary of differential expression analysis"
   ]
  },
  {
   "cell_type": "code",
   "execution_count": 1,
   "metadata": {},
   "outputs": [],
   "source": [
    "import numpy as np\n",
    "import pandas as pd"
   ]
  },
  {
   "cell_type": "markdown",
   "metadata": {},
   "source": [
    "## Summary plots"
   ]
  },
  {
   "cell_type": "markdown",
   "metadata": {},
   "source": [
    "### Genes"
   ]
  },
  {
   "cell_type": "code",
   "execution_count": 2,
   "metadata": {},
   "outputs": [
    {
     "data": {
      "text/html": [
       "<div>\n",
       "<style scoped>\n",
       "    .dataframe tbody tr th:only-of-type {\n",
       "        vertical-align: middle;\n",
       "    }\n",
       "\n",
       "    .dataframe tbody tr th {\n",
       "        vertical-align: top;\n",
       "    }\n",
       "\n",
       "    .dataframe thead th {\n",
       "        text-align: right;\n",
       "    }\n",
       "</style>\n",
       "<table border=\"1\" class=\"dataframe\">\n",
       "  <thead>\n",
       "    <tr style=\"text-align: right;\">\n",
       "      <th></th>\n",
       "      <th>Feature</th>\n",
       "      <th>Symbol</th>\n",
       "      <th>ensemblID</th>\n",
       "      <th>logFC</th>\n",
       "      <th>adj.P.Val</th>\n",
       "      <th>Type</th>\n",
       "    </tr>\n",
       "  </thead>\n",
       "  <tbody>\n",
       "    <tr>\n",
       "      <th>ENSG00000229236.1</th>\n",
       "      <td>ENSG00000229236.1</td>\n",
       "      <td>TTTY10</td>\n",
       "      <td>ENSG00000229236</td>\n",
       "      <td>6.919904</td>\n",
       "      <td>5.186692e-243</td>\n",
       "      <td>gene</td>\n",
       "    </tr>\n",
       "    <tr>\n",
       "      <th>ENSG00000154620.5</th>\n",
       "      <td>ENSG00000154620.5</td>\n",
       "      <td>TMSB4Y</td>\n",
       "      <td>ENSG00000154620</td>\n",
       "      <td>7.017845</td>\n",
       "      <td>4.942051e-238</td>\n",
       "      <td>gene</td>\n",
       "    </tr>\n",
       "    <tr>\n",
       "      <th>ENSG00000226555.1</th>\n",
       "      <td>ENSG00000226555.1</td>\n",
       "      <td>AGKP1</td>\n",
       "      <td>ENSG00000226555</td>\n",
       "      <td>7.083112</td>\n",
       "      <td>9.807573e-236</td>\n",
       "      <td>gene</td>\n",
       "    </tr>\n",
       "    <tr>\n",
       "      <th>ENSG00000176728.7</th>\n",
       "      <td>ENSG00000176728.7</td>\n",
       "      <td>TTTY14</td>\n",
       "      <td>ENSG00000176728</td>\n",
       "      <td>8.090491</td>\n",
       "      <td>4.895668e-231</td>\n",
       "      <td>gene</td>\n",
       "    </tr>\n",
       "    <tr>\n",
       "      <th>ENSG00000260197.1</th>\n",
       "      <td>ENSG00000260197.1</td>\n",
       "      <td>NaN</td>\n",
       "      <td>ENSG00000260197</td>\n",
       "      <td>6.302909</td>\n",
       "      <td>8.726814e-229</td>\n",
       "      <td>gene</td>\n",
       "    </tr>\n",
       "  </tbody>\n",
       "</table>\n",
       "</div>"
      ],
      "text/plain": [
       "                             Feature  Symbol        ensemblID     logFC  \\\n",
       "ENSG00000229236.1  ENSG00000229236.1  TTTY10  ENSG00000229236  6.919904   \n",
       "ENSG00000154620.5  ENSG00000154620.5  TMSB4Y  ENSG00000154620  7.017845   \n",
       "ENSG00000226555.1  ENSG00000226555.1   AGKP1  ENSG00000226555  7.083112   \n",
       "ENSG00000176728.7  ENSG00000176728.7  TTTY14  ENSG00000176728  8.090491   \n",
       "ENSG00000260197.1  ENSG00000260197.1     NaN  ENSG00000260197  6.302909   \n",
       "\n",
       "                       adj.P.Val  Type  \n",
       "ENSG00000229236.1  5.186692e-243  gene  \n",
       "ENSG00000154620.5  4.942051e-238  gene  \n",
       "ENSG00000226555.1  9.807573e-236  gene  \n",
       "ENSG00000176728.7  4.895668e-231  gene  \n",
       "ENSG00000260197.1  8.726814e-229  gene  "
      ]
     },
     "execution_count": 2,
     "metadata": {},
     "output_type": "execute_result"
    }
   ],
   "source": [
    "genes = pd.read_csv('../../_m/genes/diffExpr_maleVfemale_full.txt', sep='\\t', index_col=0)\n",
    "genes = genes[(genes['adj.P.Val'] < 0.05)].sort_values('adj.P.Val')\n",
    "genes['Feature'] = genes.index\n",
    "genes = genes[['Feature', 'Symbol', 'ensemblID', 'logFC', 'adj.P.Val']]\n",
    "genes['Type'] = 'gene'\n",
    "genes.head()"
   ]
  },
  {
   "cell_type": "markdown",
   "metadata": {},
   "source": [
    "### Transcripts"
   ]
  },
  {
   "cell_type": "code",
   "execution_count": 3,
   "metadata": {},
   "outputs": [
    {
     "data": {
      "text/html": [
       "<div>\n",
       "<style scoped>\n",
       "    .dataframe tbody tr th:only-of-type {\n",
       "        vertical-align: middle;\n",
       "    }\n",
       "\n",
       "    .dataframe tbody tr th {\n",
       "        vertical-align: top;\n",
       "    }\n",
       "\n",
       "    .dataframe thead th {\n",
       "        text-align: right;\n",
       "    }\n",
       "</style>\n",
       "<table border=\"1\" class=\"dataframe\">\n",
       "  <thead>\n",
       "    <tr style=\"text-align: right;\">\n",
       "      <th></th>\n",
       "      <th>Feature</th>\n",
       "      <th>Symbol</th>\n",
       "      <th>ensemblID</th>\n",
       "      <th>logFC</th>\n",
       "      <th>adj.P.Val</th>\n",
       "      <th>Type</th>\n",
       "    </tr>\n",
       "  </thead>\n",
       "  <tbody>\n",
       "    <tr>\n",
       "      <th>ENST00000602495.1</th>\n",
       "      <td>ENST00000602495.1</td>\n",
       "      <td>XIST</td>\n",
       "      <td>ENSG00000229807</td>\n",
       "      <td>-7.591232</td>\n",
       "      <td>1.889639e-242</td>\n",
       "      <td>transcript</td>\n",
       "    </tr>\n",
       "    <tr>\n",
       "      <th>ENST00000416330.1</th>\n",
       "      <td>ENST00000416330.1</td>\n",
       "      <td>XIST</td>\n",
       "      <td>ENSG00000229807</td>\n",
       "      <td>-7.791829</td>\n",
       "      <td>7.035924e-237</td>\n",
       "      <td>transcript</td>\n",
       "    </tr>\n",
       "    <tr>\n",
       "      <th>ENST00000429829.5</th>\n",
       "      <td>ENST00000429829.5</td>\n",
       "      <td>XIST</td>\n",
       "      <td>ENSG00000229807</td>\n",
       "      <td>-9.537955</td>\n",
       "      <td>6.043774e-225</td>\n",
       "      <td>transcript</td>\n",
       "    </tr>\n",
       "    <tr>\n",
       "      <th>ENST00000440408.5</th>\n",
       "      <td>ENST00000440408.5</td>\n",
       "      <td>TTTY15</td>\n",
       "      <td>ENSG00000233864</td>\n",
       "      <td>6.006990</td>\n",
       "      <td>3.153685e-208</td>\n",
       "      <td>transcript</td>\n",
       "    </tr>\n",
       "    <tr>\n",
       "      <th>ENST00000469599.6</th>\n",
       "      <td>ENST00000469599.6</td>\n",
       "      <td>KDM5D</td>\n",
       "      <td>ENSG00000012817</td>\n",
       "      <td>7.765403</td>\n",
       "      <td>5.908909e-179</td>\n",
       "      <td>transcript</td>\n",
       "    </tr>\n",
       "  </tbody>\n",
       "</table>\n",
       "</div>"
      ],
      "text/plain": [
       "                             Feature  Symbol        ensemblID     logFC  \\\n",
       "ENST00000602495.1  ENST00000602495.1    XIST  ENSG00000229807 -7.591232   \n",
       "ENST00000416330.1  ENST00000416330.1    XIST  ENSG00000229807 -7.791829   \n",
       "ENST00000429829.5  ENST00000429829.5    XIST  ENSG00000229807 -9.537955   \n",
       "ENST00000440408.5  ENST00000440408.5  TTTY15  ENSG00000233864  6.006990   \n",
       "ENST00000469599.6  ENST00000469599.6   KDM5D  ENSG00000012817  7.765403   \n",
       "\n",
       "                       adj.P.Val        Type  \n",
       "ENST00000602495.1  1.889639e-242  transcript  \n",
       "ENST00000416330.1  7.035924e-237  transcript  \n",
       "ENST00000429829.5  6.043774e-225  transcript  \n",
       "ENST00000440408.5  3.153685e-208  transcript  \n",
       "ENST00000469599.6  5.908909e-179  transcript  "
      ]
     },
     "execution_count": 3,
     "metadata": {},
     "output_type": "execute_result"
    }
   ],
   "source": [
    "trans = pd.read_csv('../../_m/transcripts/diffExpr_maleVfemale_full.txt', sep='\\t', index_col=0)\n",
    "trans = trans[(trans['adj.P.Val'] < 0.05)].sort_values('adj.P.Val')\n",
    "trans['Feature'] = trans.index\n",
    "trans['ensemblID'] = trans.gene_id.str.replace('\\\\.\\d+', '', regex=True)\n",
    "trans = trans[['Feature', 'Symbol', 'ensemblID', 'logFC', 'adj.P.Val']]#.rename(columns={'gene_name': 'Symbol'})\n",
    "trans['Type'] = 'transcript'\n",
    "trans.head()"
   ]
  },
  {
   "cell_type": "markdown",
   "metadata": {},
   "source": [
    "### Exons"
   ]
  },
  {
   "cell_type": "code",
   "execution_count": 4,
   "metadata": {},
   "outputs": [
    {
     "data": {
      "text/html": [
       "<div>\n",
       "<style scoped>\n",
       "    .dataframe tbody tr th:only-of-type {\n",
       "        vertical-align: middle;\n",
       "    }\n",
       "\n",
       "    .dataframe tbody tr th {\n",
       "        vertical-align: top;\n",
       "    }\n",
       "\n",
       "    .dataframe thead th {\n",
       "        text-align: right;\n",
       "    }\n",
       "</style>\n",
       "<table border=\"1\" class=\"dataframe\">\n",
       "  <thead>\n",
       "    <tr style=\"text-align: right;\">\n",
       "      <th></th>\n",
       "      <th>Feature</th>\n",
       "      <th>Symbol</th>\n",
       "      <th>ensemblID</th>\n",
       "      <th>logFC</th>\n",
       "      <th>adj.P.Val</th>\n",
       "      <th>Type</th>\n",
       "    </tr>\n",
       "  </thead>\n",
       "  <tbody>\n",
       "    <tr>\n",
       "      <th>e1160419</th>\n",
       "      <td>e1160419</td>\n",
       "      <td>XIST</td>\n",
       "      <td>ENSG00000229807</td>\n",
       "      <td>-8.422475</td>\n",
       "      <td>3.426969e-266</td>\n",
       "      <td>exon</td>\n",
       "    </tr>\n",
       "    <tr>\n",
       "      <th>e1160408</th>\n",
       "      <td>e1160408</td>\n",
       "      <td>XIST</td>\n",
       "      <td>ENSG00000229807</td>\n",
       "      <td>-9.196433</td>\n",
       "      <td>5.994837e-266</td>\n",
       "      <td>exon</td>\n",
       "    </tr>\n",
       "    <tr>\n",
       "      <th>e1160412</th>\n",
       "      <td>e1160412</td>\n",
       "      <td>XIST</td>\n",
       "      <td>ENSG00000229807</td>\n",
       "      <td>-8.558761</td>\n",
       "      <td>8.170266e-259</td>\n",
       "      <td>exon</td>\n",
       "    </tr>\n",
       "    <tr>\n",
       "      <th>e1160425</th>\n",
       "      <td>e1160425</td>\n",
       "      <td>XIST</td>\n",
       "      <td>ENSG00000229807</td>\n",
       "      <td>-7.145158</td>\n",
       "      <td>9.697123e-259</td>\n",
       "      <td>exon</td>\n",
       "    </tr>\n",
       "    <tr>\n",
       "      <th>e1160415</th>\n",
       "      <td>e1160415</td>\n",
       "      <td>XIST</td>\n",
       "      <td>ENSG00000229807</td>\n",
       "      <td>-8.677185</td>\n",
       "      <td>1.535740e-258</td>\n",
       "      <td>exon</td>\n",
       "    </tr>\n",
       "  </tbody>\n",
       "</table>\n",
       "</div>"
      ],
      "text/plain": [
       "           Feature Symbol        ensemblID     logFC      adj.P.Val  Type\n",
       "e1160419  e1160419   XIST  ENSG00000229807 -8.422475  3.426969e-266  exon\n",
       "e1160408  e1160408   XIST  ENSG00000229807 -9.196433  5.994837e-266  exon\n",
       "e1160412  e1160412   XIST  ENSG00000229807 -8.558761  8.170266e-259  exon\n",
       "e1160425  e1160425   XIST  ENSG00000229807 -7.145158  9.697123e-259  exon\n",
       "e1160415  e1160415   XIST  ENSG00000229807 -8.677185  1.535740e-258  exon"
      ]
     },
     "execution_count": 4,
     "metadata": {},
     "output_type": "execute_result"
    }
   ],
   "source": [
    "exons = pd.read_csv('../../_m/exons/diffExpr_maleVfemale_full.txt', sep='\\t', index_col=0)\n",
    "exons = exons[(exons['adj.P.Val'] < 0.05)].sort_values('adj.P.Val')\n",
    "exons['Feature'] = exons.index\n",
    "exons = exons[['Feature', 'Symbol', 'ensemblID', 'logFC', 'adj.P.Val']]\n",
    "exons['Type'] = 'exon'\n",
    "exons.head()"
   ]
  },
  {
   "cell_type": "markdown",
   "metadata": {},
   "source": [
    "### Junctions"
   ]
  },
  {
   "cell_type": "code",
   "execution_count": 5,
   "metadata": {},
   "outputs": [
    {
     "data": {
      "text/html": [
       "<div>\n",
       "<style scoped>\n",
       "    .dataframe tbody tr th:only-of-type {\n",
       "        vertical-align: middle;\n",
       "    }\n",
       "\n",
       "    .dataframe tbody tr th {\n",
       "        vertical-align: top;\n",
       "    }\n",
       "\n",
       "    .dataframe thead th {\n",
       "        text-align: right;\n",
       "    }\n",
       "</style>\n",
       "<table border=\"1\" class=\"dataframe\">\n",
       "  <thead>\n",
       "    <tr style=\"text-align: right;\">\n",
       "      <th></th>\n",
       "      <th>Feature</th>\n",
       "      <th>Symbol</th>\n",
       "      <th>ensemblID</th>\n",
       "      <th>logFC</th>\n",
       "      <th>adj.P.Val</th>\n",
       "      <th>Type</th>\n",
       "    </tr>\n",
       "  </thead>\n",
       "  <tbody>\n",
       "    <tr>\n",
       "      <th>chrX:73833375-73837439(-)</th>\n",
       "      <td>chrX:73833375-73837439(-)</td>\n",
       "      <td>XIST</td>\n",
       "      <td>ENSG00000229807</td>\n",
       "      <td>-8.507125</td>\n",
       "      <td>9.950701e-239</td>\n",
       "      <td>junction</td>\n",
       "    </tr>\n",
       "    <tr>\n",
       "      <th>chrX:73829232-73831065(-)</th>\n",
       "      <td>chrX:73829232-73831065(-)</td>\n",
       "      <td>XIST</td>\n",
       "      <td>ENSG00000229807</td>\n",
       "      <td>-8.765753</td>\n",
       "      <td>6.553399e-231</td>\n",
       "      <td>junction</td>\n",
       "    </tr>\n",
       "    <tr>\n",
       "      <th>chrX:73837504-73841381(-)</th>\n",
       "      <td>chrX:73837504-73841381(-)</td>\n",
       "      <td>XIST</td>\n",
       "      <td>ENSG00000229807</td>\n",
       "      <td>-8.230007</td>\n",
       "      <td>1.415462e-230</td>\n",
       "      <td>junction</td>\n",
       "    </tr>\n",
       "    <tr>\n",
       "      <th>chrX:73831275-73833237(-)</th>\n",
       "      <td>chrX:73831275-73833237(-)</td>\n",
       "      <td>XIST</td>\n",
       "      <td>ENSG00000229807</td>\n",
       "      <td>-8.956222</td>\n",
       "      <td>8.371272e-226</td>\n",
       "      <td>junction</td>\n",
       "    </tr>\n",
       "    <tr>\n",
       "      <th>chrX:73822217-73826114(-)</th>\n",
       "      <td>chrX:73822217-73826114(-)</td>\n",
       "      <td>XIST</td>\n",
       "      <td>ENSG00000229807</td>\n",
       "      <td>-6.490331</td>\n",
       "      <td>6.618686e-213</td>\n",
       "      <td>junction</td>\n",
       "    </tr>\n",
       "  </tbody>\n",
       "</table>\n",
       "</div>"
      ],
      "text/plain": [
       "                                             Feature Symbol        ensemblID  \\\n",
       "chrX:73833375-73837439(-)  chrX:73833375-73837439(-)   XIST  ENSG00000229807   \n",
       "chrX:73829232-73831065(-)  chrX:73829232-73831065(-)   XIST  ENSG00000229807   \n",
       "chrX:73837504-73841381(-)  chrX:73837504-73841381(-)   XIST  ENSG00000229807   \n",
       "chrX:73831275-73833237(-)  chrX:73831275-73833237(-)   XIST  ENSG00000229807   \n",
       "chrX:73822217-73826114(-)  chrX:73822217-73826114(-)   XIST  ENSG00000229807   \n",
       "\n",
       "                              logFC      adj.P.Val      Type  \n",
       "chrX:73833375-73837439(-) -8.507125  9.950701e-239  junction  \n",
       "chrX:73829232-73831065(-) -8.765753  6.553399e-231  junction  \n",
       "chrX:73837504-73841381(-) -8.230007  1.415462e-230  junction  \n",
       "chrX:73831275-73833237(-) -8.956222  8.371272e-226  junction  \n",
       "chrX:73822217-73826114(-) -6.490331  6.618686e-213  junction  "
      ]
     },
     "execution_count": 5,
     "metadata": {},
     "output_type": "execute_result"
    }
   ],
   "source": [
    "juncs = pd.read_csv('../../_m/junctions/diffExpr_maleVfemale_full.txt', sep='\\t', index_col=0)\n",
    "juncs = juncs[(juncs['adj.P.Val'] < 0.05)].sort_values('adj.P.Val')\n",
    "juncs['Feature'] = juncs.index\n",
    "juncs = juncs[['Feature', 'Symbol', 'ensemblID', 'logFC', 'adj.P.Val']]\n",
    "juncs['Type'] = 'junction'\n",
    "juncs.head()"
   ]
  },
  {
   "cell_type": "markdown",
   "metadata": {},
   "source": [
    "## DE summary"
   ]
  },
  {
   "cell_type": "markdown",
   "metadata": {},
   "source": [
    "### DE (feature)"
   ]
  },
  {
   "cell_type": "code",
   "execution_count": 6,
   "metadata": {},
   "outputs": [
    {
     "name": "stdout",
     "output_type": "stream",
     "text": [
      "\n",
      "Gene:\t\t387\n",
      "Transcript:\t475\n",
      "Exon:\t\t1511\n",
      "Junction:\t775\n"
     ]
    }
   ],
   "source": [
    "gg = len(set(genes['Feature']))\n",
    "tt = len(set(trans['Feature']))\n",
    "ee = len(set(exons['Feature']))\n",
    "jj = len(set(juncs['Feature']))\n",
    "\n",
    "print(\"\\nGene:\\t\\t%d\\nTranscript:\\t%d\\nExon:\\t\\t%d\\nJunction:\\t%d\" % (gg, tt, ee, jj)) "
   ]
  },
  {
   "cell_type": "markdown",
   "metadata": {},
   "source": [
    "#### DE (EnsemblID)"
   ]
  },
  {
   "cell_type": "code",
   "execution_count": 7,
   "metadata": {},
   "outputs": [
    {
     "name": "stdout",
     "output_type": "stream",
     "text": [
      "\n",
      "Gene:\t\t387\n",
      "Transcript:\t299\n",
      "Exon:\t\t273\n",
      "Junction:\t142\n"
     ]
    }
   ],
   "source": [
    "gg = len(set(genes['ensemblID']))\n",
    "tt = len(set(trans['ensemblID']))\n",
    "ee = len(set(exons['ensemblID']))\n",
    "jj = len(set(juncs['ensemblID']))\n",
    "\n",
    "print(\"\\nGene:\\t\\t%d\\nTranscript:\\t%d\\nExon:\\t\\t%d\\nJunction:\\t%d\" % (gg, tt, ee, jj)) "
   ]
  },
  {
   "cell_type": "markdown",
   "metadata": {},
   "source": [
    "#### DE (Gene Symbol)"
   ]
  },
  {
   "cell_type": "code",
   "execution_count": 8,
   "metadata": {},
   "outputs": [
    {
     "name": "stdout",
     "output_type": "stream",
     "text": [
      "\n",
      "Gene:\t\t340\n",
      "Transcript:\t290\n",
      "Exon:\t\t236\n",
      "Junction:\t142\n"
     ]
    }
   ],
   "source": [
    "gg = len(set(genes['Symbol']))\n",
    "tt = len(set(trans['Symbol']))\n",
    "ee = len(set(exons['Symbol']))\n",
    "jj = len(set(juncs['Symbol']))\n",
    "\n",
    "print(\"\\nGene:\\t\\t%d\\nTranscript:\\t%d\\nExon:\\t\\t%d\\nJunction:\\t%d\" % (gg, tt, ee, jj)) "
   ]
  },
  {
   "cell_type": "markdown",
   "metadata": {},
   "source": [
    "### Feature effect size summary"
   ]
  },
  {
   "cell_type": "code",
   "execution_count": 9,
   "metadata": {},
   "outputs": [
    {
     "name": "stdout",
     "output_type": "stream",
     "text": [
      "\n",
      "There are 80 unique Genes with abs(log2FC) >= 0.5\n",
      "There are 41 unique Genes with abs(log2FC) >= 1\n",
      "\n",
      "There are 242 unique Transcript with abs(log2FC) >= 0.5\n",
      "There are 152 unique Transcript with abs(log2FC) >= 1\n",
      "\n",
      "There are 647 unique Exons with abs(log2FC) >= 0.5\n",
      "There are 411 unique Exons with abs(log2FC) >= 1\n",
      "\n",
      "There are 374 unique Junctions with abs(log2FC) >= 0.5\n",
      "There are 225 unique Junctions with abs(log2FC) >= 1\n"
     ]
    }
   ],
   "source": [
    "feature_list = ['Genes', 'Transcript', 'Exons', 'Junctions']\n",
    "feature_df = [genes, trans, exons, juncs]\n",
    "for ii in range(4):\n",
    "    ff = feature_df[ii]\n",
    "    half = len(set(ff[(np.abs(ff['logFC']) >= 0.5)].Feature))\n",
    "    one = len(set(ff[(np.abs(ff['logFC']) >= 1)].Feature))\n",
    "    print(\"\\nThere are %d unique %s with abs(log2FC) >= 0.5\" % (half, feature_list[ii]))\n",
    "    print(\"There are %d unique %s with abs(log2FC) >= 1\" % (one, feature_list[ii]))"
   ]
  },
  {
   "cell_type": "code",
   "execution_count": 10,
   "metadata": {},
   "outputs": [
    {
     "name": "stdout",
     "output_type": "stream",
     "text": [
      "\n",
      "There are 80 unique Genes with abs(log2FC) >= 0.5\n",
      "There are 41 unique Genes with abs(log2FC) >= 1\n",
      "\n",
      "There are 125 unique Transcripts with abs(log2FC) >= 0.5\n",
      "There are 72 unique Transcripts with abs(log2FC) >= 1\n",
      "\n",
      "There are 81 unique Exons with abs(log2FC) >= 0.5\n",
      "There are 41 unique Exons with abs(log2FC) >= 1\n",
      "\n",
      "There are 45 unique Junctions with abs(log2FC) >= 0.5\n",
      "There are 21 unique Junctions with abs(log2FC) >= 1\n"
     ]
    }
   ],
   "source": [
    "feature_list = ['Genes', 'Transcripts', 'Exons', 'Junctions']\n",
    "feature_df = [genes, trans, exons, juncs]\n",
    "for ii in range(4):\n",
    "    ff = feature_df[ii]\n",
    "    half = len(set(ff[(np.abs(ff['logFC']) >= 0.5)].ensemblID))\n",
    "    one = len(set(ff[(np.abs(ff['logFC']) >= 1)].ensemblID))\n",
    "    print(\"\\nThere are %d unique %s with abs(log2FC) >= 0.5\" % (half, feature_list[ii]))\n",
    "    print(\"There are %d unique %s with abs(log2FC) >= 1\" % (one, feature_list[ii]))"
   ]
  },
  {
   "cell_type": "markdown",
   "metadata": {},
   "source": [
    "## Autosomal only"
   ]
  },
  {
   "cell_type": "code",
   "execution_count": 12,
   "metadata": {},
   "outputs": [],
   "source": [
    "import functools\n",
    "from gtfparse import read_gtf"
   ]
  },
  {
   "cell_type": "code",
   "execution_count": 13,
   "metadata": {},
   "outputs": [],
   "source": [
    "@functools.lru_cache()\n",
    "def get_gtf(gtf_file):\n",
    "    return read_gtf(gtf_file)\n"
   ]
  },
  {
   "cell_type": "code",
   "execution_count": 14,
   "metadata": {},
   "outputs": [],
   "source": [
    "def gene_annotation(gtf_file, feature):\n",
    "    gtf0 = get_gtf(gtf_file)\n",
    "    gtf = gtf0[gtf0[\"feature\"] == feature]\n",
    "    return gtf[[\"gene_id\", \"gene_name\", \"transcript_id\", \"exon_id\",\n",
    "                \"gene_type\", \"seqname\", \"start\", \"end\", \"strand\"]]"
   ]
  },
  {
   "cell_type": "code",
   "execution_count": 15,
   "metadata": {},
   "outputs": [],
   "source": [
    "gtf_file = '/ceph/genome/human/gencode25/gtf.CHR/_m/gencode.v25.annotation.gtf'"
   ]
  },
  {
   "cell_type": "markdown",
   "metadata": {},
   "source": [
    "### Genes"
   ]
  },
  {
   "cell_type": "code",
   "execution_count": 16,
   "metadata": {},
   "outputs": [
    {
     "name": "stderr",
     "output_type": "stream",
     "text": [
      "INFO:root:Extracted GTF attributes: ['gene_id', 'gene_type', 'gene_status', 'gene_name', 'level', 'havana_gene', 'transcript_id', 'transcript_type', 'transcript_status', 'transcript_name', 'transcript_support_level', 'tag', 'havana_transcript', 'exon_number', 'exon_id', 'ont', 'protein_id', 'ccdsid']\n"
     ]
    },
    {
     "data": {
      "text/html": [
       "<div>\n",
       "<style scoped>\n",
       "    .dataframe tbody tr th:only-of-type {\n",
       "        vertical-align: middle;\n",
       "    }\n",
       "\n",
       "    .dataframe tbody tr th {\n",
       "        vertical-align: top;\n",
       "    }\n",
       "\n",
       "    .dataframe thead th {\n",
       "        text-align: right;\n",
       "    }\n",
       "</style>\n",
       "<table border=\"1\" class=\"dataframe\">\n",
       "  <thead>\n",
       "    <tr style=\"text-align: right;\">\n",
       "      <th></th>\n",
       "      <th>Feature</th>\n",
       "      <th>chr</th>\n",
       "      <th>Symbol</th>\n",
       "      <th>ensemblID</th>\n",
       "      <th>logFC</th>\n",
       "      <th>adj.P.Val</th>\n",
       "      <th>Type</th>\n",
       "    </tr>\n",
       "  </thead>\n",
       "  <tbody>\n",
       "    <tr>\n",
       "      <th>51</th>\n",
       "      <td>ENSG00000205611.4</td>\n",
       "      <td>chr20</td>\n",
       "      <td>LINC01597</td>\n",
       "      <td>ENSG00000205611</td>\n",
       "      <td>1.294257</td>\n",
       "      <td>2.098690e-19</td>\n",
       "      <td>gene</td>\n",
       "    </tr>\n",
       "    <tr>\n",
       "      <th>53</th>\n",
       "      <td>ENSG00000283443.1</td>\n",
       "      <td>chr20</td>\n",
       "      <td>NaN</td>\n",
       "      <td>ENSG00000283443</td>\n",
       "      <td>1.406877</td>\n",
       "      <td>3.751879e-18</td>\n",
       "      <td>gene</td>\n",
       "    </tr>\n",
       "    <tr>\n",
       "      <th>54</th>\n",
       "      <td>ENSG00000149531.15</td>\n",
       "      <td>chr20</td>\n",
       "      <td>FRG1BP</td>\n",
       "      <td>ENSG00000149531</td>\n",
       "      <td>0.669805</td>\n",
       "      <td>1.253717e-17</td>\n",
       "      <td>gene</td>\n",
       "    </tr>\n",
       "    <tr>\n",
       "      <th>56</th>\n",
       "      <td>ENSG00000095932.6</td>\n",
       "      <td>chr19</td>\n",
       "      <td>SMIM24</td>\n",
       "      <td>ENSG00000095932</td>\n",
       "      <td>-0.888752</td>\n",
       "      <td>7.192930e-16</td>\n",
       "      <td>gene</td>\n",
       "    </tr>\n",
       "    <tr>\n",
       "      <th>57</th>\n",
       "      <td>ENSG00000282826.1</td>\n",
       "      <td>chr20</td>\n",
       "      <td>FRG1CP</td>\n",
       "      <td>ENSG00000282826</td>\n",
       "      <td>0.553323</td>\n",
       "      <td>1.415353e-15</td>\n",
       "      <td>gene</td>\n",
       "    </tr>\n",
       "  </tbody>\n",
       "</table>\n",
       "</div>"
      ],
      "text/plain": [
       "               Feature    chr     Symbol        ensemblID     logFC  \\\n",
       "51   ENSG00000205611.4  chr20  LINC01597  ENSG00000205611  1.294257   \n",
       "53   ENSG00000283443.1  chr20        NaN  ENSG00000283443  1.406877   \n",
       "54  ENSG00000149531.15  chr20     FRG1BP  ENSG00000149531  0.669805   \n",
       "56   ENSG00000095932.6  chr19     SMIM24  ENSG00000095932 -0.888752   \n",
       "57   ENSG00000282826.1  chr20     FRG1CP  ENSG00000282826  0.553323   \n",
       "\n",
       "       adj.P.Val  Type  \n",
       "51  2.098690e-19  gene  \n",
       "53  3.751879e-18  gene  \n",
       "54  1.253717e-17  gene  \n",
       "56  7.192930e-16  gene  \n",
       "57  1.415353e-15  gene  "
      ]
     },
     "execution_count": 16,
     "metadata": {},
     "output_type": "execute_result"
    }
   ],
   "source": [
    "gtf_annot = gene_annotation(gtf_file, 'gene')\n",
    "\n",
    "genes = pd.read_csv('../../_m/genes/diffExpr_maleVfemale_full.txt', sep='\\t', index_col=0)\n",
    "genes = genes[(genes['adj.P.Val'] < 0.05)].sort_values('adj.P.Val')\n",
    "genes['Feature'] = genes.index\n",
    "genes = pd.merge(gtf_annot[['gene_id', 'seqname']], genes, left_on='gene_id', right_on='Feature', how='right')\n",
    "genes.loc[:, 'seqname'] = genes.seqname.fillna('chr?')\n",
    "genes.sort_values('adj.P.Val').to_csv('chrom_annotation_genes.txt', sep='\\t', index=False)\n",
    "genes = genes[(genes.seqname.str.contains('chr\\d+')) | (genes['seqname'] == 'chr?')].copy().rename(columns={'seqname': 'chr'})\n",
    "genes = genes[['Feature', 'chr', 'Symbol', 'ensemblID', 'logFC', 'adj.P.Val']]\n",
    "genes['Type'] = 'gene'\n",
    "genes.head()"
   ]
  },
  {
   "cell_type": "code",
   "execution_count": 17,
   "metadata": {},
   "outputs": [
    {
     "data": {
      "text/html": [
       "<div>\n",
       "<style scoped>\n",
       "    .dataframe tbody tr th:only-of-type {\n",
       "        vertical-align: middle;\n",
       "    }\n",
       "\n",
       "    .dataframe tbody tr th {\n",
       "        vertical-align: top;\n",
       "    }\n",
       "\n",
       "    .dataframe thead th {\n",
       "        text-align: right;\n",
       "    }\n",
       "</style>\n",
       "<table border=\"1\" class=\"dataframe\">\n",
       "  <thead>\n",
       "    <tr style=\"text-align: right;\">\n",
       "      <th></th>\n",
       "      <th>Feature</th>\n",
       "      <th>chr</th>\n",
       "      <th>Symbol</th>\n",
       "      <th>ensemblID</th>\n",
       "      <th>logFC</th>\n",
       "      <th>adj.P.Val</th>\n",
       "      <th>Type</th>\n",
       "    </tr>\n",
       "  </thead>\n",
       "  <tbody>\n",
       "  </tbody>\n",
       "</table>\n",
       "</div>"
      ],
      "text/plain": [
       "Empty DataFrame\n",
       "Columns: [Feature, chr, Symbol, ensemblID, logFC, adj.P.Val, Type]\n",
       "Index: []"
      ]
     },
     "execution_count": 17,
     "metadata": {},
     "output_type": "execute_result"
    }
   ],
   "source": [
    "genes[(genes.chr == 'chr?')]"
   ]
  },
  {
   "cell_type": "markdown",
   "metadata": {},
   "source": [
    "### Annotate unknown by hand\n",
    "There are none."
   ]
  },
  {
   "cell_type": "code",
   "execution_count": 17,
   "metadata": {},
   "outputs": [
    {
     "data": {
      "text/plain": [
       "(225, 7)"
      ]
     },
     "execution_count": 17,
     "metadata": {},
     "output_type": "execute_result"
    }
   ],
   "source": [
    "#genes = genes[~(genes['Symbol'].isin(['NLGN4Y', 'JPX', 'PCDH11X', 'GABRE']))]\n",
    "genes.to_csv('autosomal_DEG.csv', index=False, header=True)\n",
    "genes.shape"
   ]
  },
  {
   "cell_type": "code",
   "execution_count": 42,
   "metadata": {},
   "outputs": [
    {
     "data": {
      "text/plain": [
       "(304, 7)"
      ]
     },
     "execution_count": 42,
     "metadata": {},
     "output_type": "execute_result"
    }
   ],
   "source": [
    "genes.groupby('ensemblID').first().reset_index().shape"
   ]
  },
  {
   "cell_type": "markdown",
   "metadata": {},
   "source": [
    "### Transcripts"
   ]
  },
  {
   "cell_type": "code",
   "execution_count": 23,
   "metadata": {},
   "outputs": [
    {
     "data": {
      "text/html": [
       "<div>\n",
       "<style scoped>\n",
       "    .dataframe tbody tr th:only-of-type {\n",
       "        vertical-align: middle;\n",
       "    }\n",
       "\n",
       "    .dataframe tbody tr th {\n",
       "        vertical-align: top;\n",
       "    }\n",
       "\n",
       "    .dataframe thead th {\n",
       "        text-align: right;\n",
       "    }\n",
       "</style>\n",
       "<table border=\"1\" class=\"dataframe\">\n",
       "  <thead>\n",
       "    <tr style=\"text-align: right;\">\n",
       "      <th></th>\n",
       "      <th>Feature</th>\n",
       "      <th>chr</th>\n",
       "      <th>Symbol</th>\n",
       "      <th>ensemblID</th>\n",
       "      <th>logFC</th>\n",
       "      <th>adj.P.Val</th>\n",
       "      <th>Type</th>\n",
       "    </tr>\n",
       "  </thead>\n",
       "  <tbody>\n",
       "    <tr>\n",
       "      <th>41</th>\n",
       "      <td>ENST00000550058.1</td>\n",
       "      <td>chr12</td>\n",
       "      <td>METTL25</td>\n",
       "      <td>ENSG00000127720</td>\n",
       "      <td>3.903413</td>\n",
       "      <td>1.210374e-125</td>\n",
       "      <td>transcript</td>\n",
       "    </tr>\n",
       "    <tr>\n",
       "      <th>71</th>\n",
       "      <td>ENST00000609745.1</td>\n",
       "      <td>chr20</td>\n",
       "      <td>SDCBP2-AS1</td>\n",
       "      <td>ENSG00000234684</td>\n",
       "      <td>-0.974359</td>\n",
       "      <td>9.827801e-70</td>\n",
       "      <td>transcript</td>\n",
       "    </tr>\n",
       "    <tr>\n",
       "      <th>114</th>\n",
       "      <td>ENST00000474345.5</td>\n",
       "      <td>chr1</td>\n",
       "      <td>FDPS</td>\n",
       "      <td>ENSG00000160752</td>\n",
       "      <td>2.331254</td>\n",
       "      <td>2.885128e-32</td>\n",
       "      <td>transcript</td>\n",
       "    </tr>\n",
       "    <tr>\n",
       "      <th>129</th>\n",
       "      <td>ENST00000551722.1</td>\n",
       "      <td>chr12</td>\n",
       "      <td>METTL25</td>\n",
       "      <td>ENSG00000127720</td>\n",
       "      <td>0.762351</td>\n",
       "      <td>2.630845e-22</td>\n",
       "      <td>transcript</td>\n",
       "    </tr>\n",
       "    <tr>\n",
       "      <th>132</th>\n",
       "      <td>ENST00000414784.1</td>\n",
       "      <td>chr2</td>\n",
       "      <td>AC012442.5</td>\n",
       "      <td>ENSG00000243389</td>\n",
       "      <td>0.706171</td>\n",
       "      <td>1.241496e-20</td>\n",
       "      <td>transcript</td>\n",
       "    </tr>\n",
       "  </tbody>\n",
       "</table>\n",
       "</div>"
      ],
      "text/plain": [
       "               Feature    chr      Symbol        ensemblID     logFC  \\\n",
       "41   ENST00000550058.1  chr12     METTL25  ENSG00000127720  3.903413   \n",
       "71   ENST00000609745.1  chr20  SDCBP2-AS1  ENSG00000234684 -0.974359   \n",
       "114  ENST00000474345.5   chr1        FDPS  ENSG00000160752  2.331254   \n",
       "129  ENST00000551722.1  chr12     METTL25  ENSG00000127720  0.762351   \n",
       "132  ENST00000414784.1   chr2  AC012442.5  ENSG00000243389  0.706171   \n",
       "\n",
       "         adj.P.Val        Type  \n",
       "41   1.210374e-125  transcript  \n",
       "71    9.827801e-70  transcript  \n",
       "114   2.885128e-32  transcript  \n",
       "129   2.630845e-22  transcript  \n",
       "132   1.241496e-20  transcript  "
      ]
     },
     "execution_count": 23,
     "metadata": {},
     "output_type": "execute_result"
    }
   ],
   "source": [
    "trans = pd.read_csv('../../_m/transcripts/diffExpr_maleVfemale_full.txt', sep='\\t', index_col=0)\n",
    "trans = trans[(trans['adj.P.Val'] < 0.05)].sort_values('adj.P.Val')\n",
    "trans.loc[:, 'Feature'] = trans.index\n",
    "trans.loc[:, 'ensemblID'] = trans.gene_id.str.replace('\\\\.\\d+', '', regex=True)\n",
    "trans = trans[['Feature', 'chr', 'Symbol', 'ensemblID', 'logFC', 'adj.P.Val']]#.rename(columns={'gene_name': 'Symbol'})\n",
    "trans['Type'] = 'transcript'\n",
    "trans.head()"
   ]
  },
  {
   "cell_type": "code",
   "execution_count": 24,
   "metadata": {},
   "outputs": [
    {
     "data": {
      "text/html": [
       "<div>\n",
       "<style scoped>\n",
       "    .dataframe tbody tr th:only-of-type {\n",
       "        vertical-align: middle;\n",
       "    }\n",
       "\n",
       "    .dataframe tbody tr th {\n",
       "        vertical-align: top;\n",
       "    }\n",
       "\n",
       "    .dataframe thead th {\n",
       "        text-align: right;\n",
       "    }\n",
       "</style>\n",
       "<table border=\"1\" class=\"dataframe\">\n",
       "  <thead>\n",
       "    <tr style=\"text-align: right;\">\n",
       "      <th></th>\n",
       "      <th>Feature</th>\n",
       "      <th>chr</th>\n",
       "      <th>Symbol</th>\n",
       "      <th>ensemblID</th>\n",
       "      <th>logFC</th>\n",
       "      <th>adj.P.Val</th>\n",
       "      <th>Type</th>\n",
       "    </tr>\n",
       "  </thead>\n",
       "  <tbody>\n",
       "  </tbody>\n",
       "</table>\n",
       "</div>"
      ],
      "text/plain": [
       "Empty DataFrame\n",
       "Columns: [Feature, chr, Symbol, ensemblID, logFC, adj.P.Val, Type]\n",
       "Index: []"
      ]
     },
     "execution_count": 24,
     "metadata": {},
     "output_type": "execute_result"
    }
   ],
   "source": [
    "trans[(trans.chr == 'chr?')]"
   ]
  },
  {
   "cell_type": "markdown",
   "metadata": {},
   "source": [
    "### Annotate unknown by hand\n",
    "There are none."
   ]
  },
  {
   "cell_type": "code",
   "execution_count": 27,
   "metadata": {},
   "outputs": [
    {
     "data": {
      "text/plain": [
       "(195, 7)"
      ]
     },
     "execution_count": 27,
     "metadata": {},
     "output_type": "execute_result"
    }
   ],
   "source": [
    "#trans = trans[~(trans['Symbol'].isin(['NLGN4Y']))]\n",
    "trans.to_csv('transcripts_autosomal_DE.csv', index=False, header=True)\n",
    "trans.shape"
   ]
  },
  {
   "cell_type": "code",
   "execution_count": 41,
   "metadata": {},
   "outputs": [
    {
     "data": {
      "text/plain": [
       "(187, 7)"
      ]
     },
     "execution_count": 41,
     "metadata": {},
     "output_type": "execute_result"
    }
   ],
   "source": [
    "trans.groupby('ensemblID').first().reset_index().shape"
   ]
  },
  {
   "cell_type": "markdown",
   "metadata": {},
   "source": [
    "### Exons"
   ]
  },
  {
   "cell_type": "code",
   "execution_count": 28,
   "metadata": {},
   "outputs": [
    {
     "data": {
      "text/html": [
       "<div>\n",
       "<style scoped>\n",
       "    .dataframe tbody tr th:only-of-type {\n",
       "        vertical-align: middle;\n",
       "    }\n",
       "\n",
       "    .dataframe tbody tr th {\n",
       "        vertical-align: top;\n",
       "    }\n",
       "\n",
       "    .dataframe thead th {\n",
       "        text-align: right;\n",
       "    }\n",
       "</style>\n",
       "<table border=\"1\" class=\"dataframe\">\n",
       "  <thead>\n",
       "    <tr style=\"text-align: right;\">\n",
       "      <th></th>\n",
       "      <th>Feature</th>\n",
       "      <th>chr</th>\n",
       "      <th>Symbol</th>\n",
       "      <th>ensemblID</th>\n",
       "      <th>logFC</th>\n",
       "      <th>adj.P.Val</th>\n",
       "      <th>Type</th>\n",
       "    </tr>\n",
       "  </thead>\n",
       "  <tbody>\n",
       "    <tr>\n",
       "      <th>0</th>\n",
       "      <td>e1011449</td>\n",
       "      <td>chr19</td>\n",
       "      <td>SMIM24</td>\n",
       "      <td>ENSG00000095932</td>\n",
       "      <td>-0.891594</td>\n",
       "      <td>1.400739e-14</td>\n",
       "      <td>exon</td>\n",
       "    </tr>\n",
       "    <tr>\n",
       "      <th>1</th>\n",
       "      <td>e1011451</td>\n",
       "      <td>chr19</td>\n",
       "      <td>SMIM24</td>\n",
       "      <td>ENSG00000095932</td>\n",
       "      <td>-0.888166</td>\n",
       "      <td>2.409669e-14</td>\n",
       "      <td>exon</td>\n",
       "    </tr>\n",
       "    <tr>\n",
       "      <th>2</th>\n",
       "      <td>e1011454</td>\n",
       "      <td>chr19</td>\n",
       "      <td>SMIM24</td>\n",
       "      <td>ENSG00000095932</td>\n",
       "      <td>-0.877536</td>\n",
       "      <td>4.588435e-14</td>\n",
       "      <td>exon</td>\n",
       "    </tr>\n",
       "    <tr>\n",
       "      <th>3</th>\n",
       "      <td>e1013243</td>\n",
       "      <td>chr19</td>\n",
       "      <td>PLIN5</td>\n",
       "      <td>ENSG00000214456</td>\n",
       "      <td>-0.462121</td>\n",
       "      <td>1.014225e-02</td>\n",
       "      <td>exon</td>\n",
       "    </tr>\n",
       "    <tr>\n",
       "      <th>4</th>\n",
       "      <td>e1013248</td>\n",
       "      <td>chr19</td>\n",
       "      <td>PLIN5</td>\n",
       "      <td>ENSG00000214456</td>\n",
       "      <td>-0.290861</td>\n",
       "      <td>5.410353e-04</td>\n",
       "      <td>exon</td>\n",
       "    </tr>\n",
       "  </tbody>\n",
       "</table>\n",
       "</div>"
      ],
      "text/plain": [
       "    Feature    chr  Symbol        ensemblID     logFC     adj.P.Val  Type\n",
       "0  e1011449  chr19  SMIM24  ENSG00000095932 -0.891594  1.400739e-14  exon\n",
       "1  e1011451  chr19  SMIM24  ENSG00000095932 -0.888166  2.409669e-14  exon\n",
       "2  e1011454  chr19  SMIM24  ENSG00000095932 -0.877536  4.588435e-14  exon\n",
       "3  e1013243  chr19   PLIN5  ENSG00000214456 -0.462121  1.014225e-02  exon\n",
       "4  e1013248  chr19   PLIN5  ENSG00000214456 -0.290861  5.410353e-04  exon"
      ]
     },
     "execution_count": 28,
     "metadata": {},
     "output_type": "execute_result"
    }
   ],
   "source": [
    "gtf_annot = gene_annotation(gtf_file, 'exon')\n",
    "gtf_annot['ensemblID'] = gtf_annot.gene_id.str.replace('\\\\.\\d+', '', regex=True)\n",
    "\n",
    "exons = pd.read_csv('../../_m/exons/diffExpr_maleVfemale_full.txt', sep='\\t', index_col=0)\n",
    "exons = exons[(exons['adj.P.Val'] < 0.05)].sort_values('adj.P.Val')\n",
    "exons['Feature'] = exons.index\n",
    "exons = pd.merge(gtf_annot[['ensemblID', 'seqname']], exons, on='ensemblID', how='right')\n",
    "exons.loc[:, 'seqname'] = exons.seqname.fillna('chr?')\n",
    "exons = exons[(exons.seqname.str.contains('chr\\d+')) | (exons['seqname'] == 'chr?')].copy().rename(columns={'seqname': 'chr'})\n",
    "exons = exons[['Feature', 'chr', 'Symbol', 'ensemblID', 'logFC', 'adj.P.Val']].groupby('Feature').first().reset_index()\n",
    "exons['Type'] = 'exon'\n",
    "exons.head()"
   ]
  },
  {
   "cell_type": "code",
   "execution_count": 29,
   "metadata": {},
   "outputs": [
    {
     "data": {
      "text/html": [
       "<div>\n",
       "<style scoped>\n",
       "    .dataframe tbody tr th:only-of-type {\n",
       "        vertical-align: middle;\n",
       "    }\n",
       "\n",
       "    .dataframe tbody tr th {\n",
       "        vertical-align: top;\n",
       "    }\n",
       "\n",
       "    .dataframe thead th {\n",
       "        text-align: right;\n",
       "    }\n",
       "</style>\n",
       "<table border=\"1\" class=\"dataframe\">\n",
       "  <thead>\n",
       "    <tr style=\"text-align: right;\">\n",
       "      <th></th>\n",
       "      <th>ensemblID</th>\n",
       "      <th>Feature</th>\n",
       "      <th>chr</th>\n",
       "      <th>Symbol</th>\n",
       "      <th>logFC</th>\n",
       "      <th>adj.P.Val</th>\n",
       "      <th>Type</th>\n",
       "    </tr>\n",
       "  </thead>\n",
       "  <tbody>\n",
       "  </tbody>\n",
       "</table>\n",
       "</div>"
      ],
      "text/plain": [
       "Empty DataFrame\n",
       "Columns: [ensemblID, Feature, chr, Symbol, logFC, adj.P.Val, Type]\n",
       "Index: []"
      ]
     },
     "execution_count": 29,
     "metadata": {},
     "output_type": "execute_result"
    }
   ],
   "source": [
    "exons[(exons['chr'] == 'chr?')].groupby('ensemblID').first().reset_index()"
   ]
  },
  {
   "cell_type": "markdown",
   "metadata": {},
   "source": [
    "### Annotate unknown by hand\n",
    "There are none."
   ]
  },
  {
   "cell_type": "code",
   "execution_count": 30,
   "metadata": {},
   "outputs": [
    {
     "data": {
      "text/plain": [
       "(520, 7)"
      ]
     },
     "execution_count": 30,
     "metadata": {},
     "output_type": "execute_result"
    }
   ],
   "source": [
    "#exons = exons[~(exons['ensemblID'].isin(['ENSG00000269941']))]\n",
    "exons.to_csv('exons_autosomal_DE.csv', index=False, header=True)\n",
    "exons.shape"
   ]
  },
  {
   "cell_type": "code",
   "execution_count": 40,
   "metadata": {},
   "outputs": [
    {
     "data": {
      "text/plain": [
       "(195, 7)"
      ]
     },
     "execution_count": 40,
     "metadata": {},
     "output_type": "execute_result"
    }
   ],
   "source": [
    "exons.groupby('ensemblID').first().reset_index().shape"
   ]
  },
  {
   "cell_type": "markdown",
   "metadata": {},
   "source": [
    "### Junctions"
   ]
  },
  {
   "cell_type": "code",
   "execution_count": 32,
   "metadata": {},
   "outputs": [
    {
     "data": {
      "text/html": [
       "<div>\n",
       "<style scoped>\n",
       "    .dataframe tbody tr th:only-of-type {\n",
       "        vertical-align: middle;\n",
       "    }\n",
       "\n",
       "    .dataframe tbody tr th {\n",
       "        vertical-align: top;\n",
       "    }\n",
       "\n",
       "    .dataframe thead th {\n",
       "        text-align: right;\n",
       "    }\n",
       "</style>\n",
       "<table border=\"1\" class=\"dataframe\">\n",
       "  <thead>\n",
       "    <tr style=\"text-align: right;\">\n",
       "      <th></th>\n",
       "      <th>Feature</th>\n",
       "      <th>chr</th>\n",
       "      <th>Symbol</th>\n",
       "      <th>ensemblID</th>\n",
       "      <th>logFC</th>\n",
       "      <th>adj.P.Val</th>\n",
       "      <th>Type</th>\n",
       "    </tr>\n",
       "  </thead>\n",
       "  <tbody>\n",
       "    <tr>\n",
       "      <th>0</th>\n",
       "      <td>chr10:11314271-11320856(+)</td>\n",
       "      <td>chr10</td>\n",
       "      <td>CELF2</td>\n",
       "      <td>ENSG00000048740</td>\n",
       "      <td>0.528804</td>\n",
       "      <td>0.025400</td>\n",
       "      <td>junction</td>\n",
       "    </tr>\n",
       "    <tr>\n",
       "      <th>1</th>\n",
       "      <td>chr10:46911502-46943917(+)</td>\n",
       "      <td>chr10</td>\n",
       "      <td>PTPN20</td>\n",
       "      <td>ENSG00000204179</td>\n",
       "      <td>0.609018</td>\n",
       "      <td>0.006528</td>\n",
       "      <td>junction</td>\n",
       "    </tr>\n",
       "    <tr>\n",
       "      <th>2</th>\n",
       "      <td>chr10:46946676-46999911(+)</td>\n",
       "      <td>chr10</td>\n",
       "      <td>PTPN20</td>\n",
       "      <td>ENSG00000204179</td>\n",
       "      <td>0.644872</td>\n",
       "      <td>0.000035</td>\n",
       "      <td>junction</td>\n",
       "    </tr>\n",
       "    <tr>\n",
       "      <th>3</th>\n",
       "      <td>chr10:60106060-60108829(-)</td>\n",
       "      <td>chr10</td>\n",
       "      <td>ANK3</td>\n",
       "      <td>ENSG00000151150</td>\n",
       "      <td>0.131654</td>\n",
       "      <td>0.029445</td>\n",
       "      <td>junction</td>\n",
       "    </tr>\n",
       "    <tr>\n",
       "      <th>4</th>\n",
       "      <td>chr10:60264021-60270130(-)</td>\n",
       "      <td>chr10</td>\n",
       "      <td>ANK3</td>\n",
       "      <td>ENSG00000151150</td>\n",
       "      <td>0.110600</td>\n",
       "      <td>0.024851</td>\n",
       "      <td>junction</td>\n",
       "    </tr>\n",
       "  </tbody>\n",
       "</table>\n",
       "</div>"
      ],
      "text/plain": [
       "                      Feature    chr  Symbol        ensemblID     logFC  \\\n",
       "0  chr10:11314271-11320856(+)  chr10   CELF2  ENSG00000048740  0.528804   \n",
       "1  chr10:46911502-46943917(+)  chr10  PTPN20  ENSG00000204179  0.609018   \n",
       "2  chr10:46946676-46999911(+)  chr10  PTPN20  ENSG00000204179  0.644872   \n",
       "3  chr10:60106060-60108829(-)  chr10    ANK3  ENSG00000151150  0.131654   \n",
       "4  chr10:60264021-60270130(-)  chr10    ANK3  ENSG00000151150  0.110600   \n",
       "\n",
       "   adj.P.Val      Type  \n",
       "0   0.025400  junction  \n",
       "1   0.006528  junction  \n",
       "2   0.000035  junction  \n",
       "3   0.029445  junction  \n",
       "4   0.024851  junction  "
      ]
     },
     "execution_count": 32,
     "metadata": {},
     "output_type": "execute_result"
    }
   ],
   "source": [
    "juncs = pd.read_csv('../../_m/junctions/diffExpr_maleVfemale_full.txt', sep='\\t', index_col=0)\n",
    "juncs = juncs[(juncs['adj.P.Val'] < 0.05)].sort_values('adj.P.Val')\n",
    "juncs['Feature'] = juncs.index\n",
    "juncs = pd.merge(gtf_annot[['ensemblID', 'seqname']], juncs, on='ensemblID', how='right')\n",
    "juncs.loc[:, 'seqname'] = juncs.seqname.fillna('chr?')\n",
    "juncs = juncs[(juncs.seqname.str.contains('chr\\d+')) | (juncs['seqname'] == 'chr?')].copy().rename(columns={'seqname': 'chr'})\n",
    "juncs = juncs[['Feature', 'chr', 'Symbol', 'ensemblID', 'logFC', 'adj.P.Val']].groupby('Feature').first().reset_index()\n",
    "juncs['Type'] = 'junction'\n",
    "juncs.head()"
   ]
  },
  {
   "cell_type": "code",
   "execution_count": 33,
   "metadata": {},
   "outputs": [
    {
     "data": {
      "text/html": [
       "<div>\n",
       "<style scoped>\n",
       "    .dataframe tbody tr th:only-of-type {\n",
       "        vertical-align: middle;\n",
       "    }\n",
       "\n",
       "    .dataframe tbody tr th {\n",
       "        vertical-align: top;\n",
       "    }\n",
       "\n",
       "    .dataframe thead th {\n",
       "        text-align: right;\n",
       "    }\n",
       "</style>\n",
       "<table border=\"1\" class=\"dataframe\">\n",
       "  <thead>\n",
       "    <tr style=\"text-align: right;\">\n",
       "      <th></th>\n",
       "      <th>Feature</th>\n",
       "      <th>chr</th>\n",
       "      <th>Symbol</th>\n",
       "      <th>logFC</th>\n",
       "      <th>adj.P.Val</th>\n",
       "      <th>Type</th>\n",
       "    </tr>\n",
       "    <tr>\n",
       "      <th>ensemblID</th>\n",
       "      <th></th>\n",
       "      <th></th>\n",
       "      <th></th>\n",
       "      <th></th>\n",
       "      <th></th>\n",
       "      <th></th>\n",
       "    </tr>\n",
       "  </thead>\n",
       "  <tbody>\n",
       "  </tbody>\n",
       "</table>\n",
       "</div>"
      ],
      "text/plain": [
       "Empty DataFrame\n",
       "Columns: [Feature, chr, Symbol, logFC, adj.P.Val, Type]\n",
       "Index: []"
      ]
     },
     "execution_count": 33,
     "metadata": {},
     "output_type": "execute_result"
    }
   ],
   "source": [
    "juncs[(juncs['chr'] == 'chr?')].groupby('ensemblID').first()"
   ]
  },
  {
   "cell_type": "markdown",
   "metadata": {},
   "source": [
    "### Annotate unknown by hand\n",
    "None unknown"
   ]
  },
  {
   "cell_type": "code",
   "execution_count": 34,
   "metadata": {},
   "outputs": [
    {
     "data": {
      "text/plain": [
       "(239, 7)"
      ]
     },
     "execution_count": 34,
     "metadata": {},
     "output_type": "execute_result"
    }
   ],
   "source": [
    "juncs.to_csv('junctions_autosomal_DE.csv', index=False, header=True)\n",
    "juncs.shape"
   ]
  },
  {
   "cell_type": "code",
   "execution_count": 36,
   "metadata": {},
   "outputs": [
    {
     "data": {
      "text/plain": [
       "(89, 7)"
      ]
     },
     "execution_count": 36,
     "metadata": {},
     "output_type": "execute_result"
    }
   ],
   "source": [
    "juncs.groupby('ensemblID').first().reset_index().shape"
   ]
  },
  {
   "cell_type": "markdown",
   "metadata": {},
   "source": [
    "## DE summary"
   ]
  },
  {
   "cell_type": "markdown",
   "metadata": {},
   "source": [
    "### DE (feature)"
   ]
  },
  {
   "cell_type": "code",
   "execution_count": 37,
   "metadata": {},
   "outputs": [
    {
     "name": "stdout",
     "output_type": "stream",
     "text": [
      "\n",
      "Gene:\t\t304\n",
      "Transcript:\t195\n",
      "Exon:\t\t520\n",
      "Junction:\t239\n"
     ]
    }
   ],
   "source": [
    "gg = len(set(genes['Feature']))\n",
    "tt = len(set(trans['Feature']))\n",
    "ee = len(set(exons['Feature']))\n",
    "jj = len(set(juncs['Feature']))\n",
    "\n",
    "print(\"\\nGene:\\t\\t%d\\nTranscript:\\t%d\\nExon:\\t\\t%d\\nJunction:\\t%d\" % (gg, tt, ee, jj)) "
   ]
  },
  {
   "cell_type": "markdown",
   "metadata": {},
   "source": [
    "#### DE (EnsemblID)"
   ]
  },
  {
   "cell_type": "code",
   "execution_count": 39,
   "metadata": {},
   "outputs": [
    {
     "name": "stdout",
     "output_type": "stream",
     "text": [
      "\n",
      "Gene:\t\t304\n",
      "Transcript:\t187\n",
      "Exon:\t\t195\n",
      "Junction:\t89\n"
     ]
    }
   ],
   "source": [
    "gg = len(set(genes.groupby('ensemblID').first().reset_index()['ensemblID']))\n",
    "tt = len(set(trans.groupby('ensemblID').first().reset_index()['ensemblID']))\n",
    "ee = len(set(exons.groupby('ensemblID').first().reset_index()['ensemblID']))\n",
    "jj = len(set(juncs.groupby('ensemblID').first().reset_index()['ensemblID']))\n",
    "\n",
    "print(\"\\nGene:\\t\\t%d\\nTranscript:\\t%d\\nExon:\\t\\t%d\\nJunction:\\t%d\" % (gg, tt, ee, jj)) "
   ]
  },
  {
   "cell_type": "markdown",
   "metadata": {},
   "source": [
    "#### DE (Gene Symbol)"
   ]
  },
  {
   "cell_type": "code",
   "execution_count": 43,
   "metadata": {},
   "outputs": [
    {
     "name": "stdout",
     "output_type": "stream",
     "text": [
      "\n",
      "Gene:\t\t263\n",
      "Transcript:\t187\n",
      "Exon:\t\t170\n",
      "Junction:\t89\n"
     ]
    }
   ],
   "source": [
    "gg = len(set(genes.groupby('Symbol').first().reset_index()['Symbol']))\n",
    "tt = len(set(trans.groupby('Symbol').first().reset_index()['Symbol']))\n",
    "ee = len(set(exons.groupby('Symbol').first().reset_index()['Symbol']))\n",
    "jj = len(set(juncs.groupby('Symbol').first().reset_index()['Symbol']))\n",
    "\n",
    "print(\"\\nGene:\\t\\t%d\\nTranscript:\\t%d\\nExon:\\t\\t%d\\nJunction:\\t%d\" % (gg, tt, ee, jj)) "
   ]
  },
  {
   "cell_type": "markdown",
   "metadata": {},
   "source": [
    "### Feature effect size summary"
   ]
  },
  {
   "cell_type": "code",
   "execution_count": 29,
   "metadata": {},
   "outputs": [
    {
     "name": "stdout",
     "output_type": "stream",
     "text": [
      "\n",
      "There are 29 unique Genes with abs(log2FC) >= 0.5\n",
      "There are 5 unique Genes with abs(log2FC) >= 1\n",
      "\n",
      "There are 70 unique Transcript with abs(log2FC) >= 0.5\n",
      "There are 29 unique Transcript with abs(log2FC) >= 1\n",
      "\n",
      "There are 84 unique Exons with abs(log2FC) >= 0.5\n",
      "There are 6 unique Exons with abs(log2FC) >= 1\n",
      "\n",
      "There are 103 unique Junctions with abs(log2FC) >= 0.5\n",
      "There are 46 unique Junctions with abs(log2FC) >= 1\n"
     ]
    }
   ],
   "source": [
    "feature_list = ['Genes', 'Transcript', 'Exons', 'Junctions']\n",
    "feature_df = [genes, trans, exons, juncs]\n",
    "for ii in range(4):\n",
    "    ff = feature_df[ii]\n",
    "    half = len(set(ff[(np.abs(ff['logFC']) >= 0.5)].Feature))\n",
    "    one = len(set(ff[(np.abs(ff['logFC']) >= 1)].Feature))\n",
    "    print(\"\\nThere are %d unique %s with abs(log2FC) >= 0.5\" % (half, feature_list[ii]))\n",
    "    print(\"There are %d unique %s with abs(log2FC) >= 1\" % (one, feature_list[ii]))"
   ]
  },
  {
   "cell_type": "code",
   "execution_count": 30,
   "metadata": {},
   "outputs": [
    {
     "name": "stdout",
     "output_type": "stream",
     "text": [
      "\n",
      "There are 29 unique Genes with abs(log2FC) >= 0.5\n",
      "There are 5 unique Genes with abs(log2FC) >= 1\n",
      "\n",
      "There are 66 unique Transcripts with abs(log2FC) >= 0.5\n",
      "There are 28 unique Transcripts with abs(log2FC) >= 1\n",
      "\n",
      "There are 25 unique Exons with abs(log2FC) >= 0.5\n",
      "There are 4 unique Exons with abs(log2FC) >= 1\n",
      "\n",
      "There are 13 unique Junctions with abs(log2FC) >= 0.5\n",
      "There are 2 unique Junctions with abs(log2FC) >= 1\n"
     ]
    }
   ],
   "source": [
    "feature_list = ['Genes', 'Transcripts', 'Exons', 'Junctions']\n",
    "feature_df = [genes, trans, exons, juncs]\n",
    "for ii in range(4):\n",
    "    ff = feature_df[ii]\n",
    "    half = len(set(ff[(np.abs(ff['logFC']) >= 0.5)].ensemblID))\n",
    "    one = len(set(ff[(np.abs(ff['logFC']) >= 1)].ensemblID))\n",
    "    print(\"\\nThere are %d unique %s with abs(log2FC) >= 0.5\" % (half, feature_list[ii]))\n",
    "    print(\"There are %d unique %s with abs(log2FC) >= 1\" % (one, feature_list[ii]))"
   ]
  }
 ],
 "metadata": {
  "kernelspec": {
   "display_name": "Python 3",
   "language": "python",
   "name": "python3"
  },
  "language_info": {
   "codemirror_mode": {
    "name": "ipython",
    "version": 3
   },
   "file_extension": ".py",
   "mimetype": "text/x-python",
   "name": "python",
   "nbconvert_exporter": "python",
   "pygments_lexer": "ipython3",
   "version": "3.9.1"
  }
 },
 "nbformat": 4,
 "nbformat_minor": 4
}
