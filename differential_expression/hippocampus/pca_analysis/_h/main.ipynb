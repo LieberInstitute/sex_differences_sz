{
 "cells": [
  {
   "cell_type": "markdown",
   "metadata": {},
   "source": [
    "# PCA analysis of predictiveness of DEG for gender"
   ]
  },
  {
   "cell_type": "code",
   "execution_count": null,
   "metadata": {},
   "outputs": [],
   "source": [
    "#load required packages\n",
    "import functools\n",
    "import numpy as np\n",
    "import pandas as pd\n",
    "from plotnine import *\n",
    "from scipy.stats import linregress\n",
    "from sklearn.decomposition import PCA\n",
    "from sklearn.preprocessing import StandardScaler\n",
    "\n",
    "from warnings import filterwarnings\n",
    "from matplotlib.cbook import mplDeprecation"
   ]
  },
  {
   "cell_type": "code",
   "execution_count": null,
   "metadata": {},
   "outputs": [],
   "source": [
    "filterwarnings(\"ignore\",category=mplDeprecation)\n",
    "filterwarnings('ignore', category=UserWarning, module='plotnine.*')\n",
    "filterwarnings('ignore', category=DeprecationWarning, module='plotnine.*')"
   ]
  },
  {
   "cell_type": "markdown",
   "metadata": {},
   "source": [
    "## Configuration and functions"
   ]
  },
  {
   "cell_type": "markdown",
   "metadata": {},
   "source": [
    "### Configuration"
   ]
  },
  {
   "cell_type": "code",
   "execution_count": null,
   "metadata": {},
   "outputs": [],
   "source": [
    "feature = 'genes'\n",
    "config = {\n",
    "    'deg_file': '../../_m/%s/diffExpr_maleVfemale_full.txt' % feature,\n",
    "    'res_file': '../../_m/%s/residualized_expression.tsv' % feature,\n",
    "    'pheno_file': '/ceph/projects/v4_phase3_paper/inputs/phenotypes/_m/merged_phenotypes.csv',\n",
    "    'annot_file': \"/ceph/projects/v4_phase3_paper/inputs/counts/text_files_counts/_m/caudate/gene_annotation.tsv\",\n",
    "}"
   ]
  },
  {
   "cell_type": "markdown",
   "metadata": {},
   "source": [
    "### Cached functions"
   ]
  },
  {
   "cell_type": "code",
   "execution_count": null,
   "metadata": {},
   "outputs": [],
   "source": [
    "@functools.lru_cache()\n",
    "def get_deg():\n",
    "    ''' Take DE genes obtained from limma-voom pipeline.\n",
    "    '''\n",
    "    deg = pd.read_csv(config['deg_file'], sep='\\t', index_col=0).sort_values('adj.P.Val')\n",
    "    return deg[(deg['adj.P.Val'] < 0.05)]\n",
    "\n",
    "\n",
    "@functools.lru_cache()\n",
    "def get_residualized():\n",
    "    '''Load residualization file.\n",
    "    '''\n",
    "    return pd.read_csv(config['res_file'], sep='\\t', index_col=0).transpose()\n",
    "\n",
    "\n",
    "@functools.lru_cache()\n",
    "def get_pheno_data():\n",
    "    return pd.read_csv(config['pheno_file'], index_col=0)\n",
    "\n",
    "\n",
    "@functools.lru_cache()\n",
    "def get_autosomes():\n",
    "    df = pd.read_csv(config['annot_file'], sep='\\t', index_col=0)\n",
    "    return df[(df[\"seqnames\"].str.contains(\"chr\\d+\"))]\n",
    "\n",
    "\n",
    "@functools.lru_cache()\n",
    "def get_allosomes():\n",
    "    df = pd.read_csv(config['annot_file'], sep='\\t', index_col=0)\n",
    "    return df[(df[\"seqnames\"].isin([\"chrX\", \"chrY\"]))]\n",
    "\n",
    "\n",
    "@functools.lru_cache()\n",
    "def get_deg_res_df(num, fnc, FILTER):\n",
    "    geneList = list(set(get_deg().index) & set(fnc().index))\n",
    "    if FILTER:\n",
    "        newList = list(get_deg().loc[geneList, :].sort_values(\"P.Value\").head(num).index)\n",
    "    else:\n",
    "        newList = geneList\n",
    "    return get_residualized()[newList]"
   ]
  },
  {
   "cell_type": "markdown",
   "metadata": {},
   "source": [
    "### Simple functions"
   ]
  },
  {
   "cell_type": "code",
   "execution_count": null,
   "metadata": {},
   "outputs": [],
   "source": [
    "def get_explained_variance(df):\n",
    "    x = StandardScaler().fit_transform(df)\n",
    "    pca = PCA(n_components=2).fit(x)\n",
    "    pc1 = pca.explained_variance_ratio_[0]\n",
    "    pc2 = pca.explained_variance_ratio_[1]\n",
    "    print(\"Explained Variance\\nPC1:\\t%0.5f\\nPC2:\\t%0.5f\" % (pc1, pc2))\n",
    "    \n",
    "    \n",
    "def cal_pca(df):\n",
    "    x = StandardScaler().fit_transform(df)\n",
    "    pca = PCA(n_components=2).fit_transform(x)\n",
    "    return pd.DataFrame(data=pca, columns=['PC1', 'PC2'], index=df.index)\n",
    "\n",
    "\n",
    "def get_pca_df(num, fnc, FILTER):\n",
    "    '''\n",
    "    new_pheno: this is the correct size of samples using the the first two columns of residualized expression\n",
    "      - the residualized expression data frame, has the correct samples\n",
    "      - output new_pheno shape row numbers should be the same as res_df row numbers\n",
    "    '''\n",
    "    expr_res = get_deg_res_df(num, fnc, FILTER)\n",
    "    pheno_df = get_pheno_data()\n",
    "    # Generate pheno data frame with correct samples\n",
    "    new_pheno = pheno_df.merge(expr_res.iloc[:, 0:1], right_index=True, left_index=True)\\\n",
    "                        .drop(expr_res.iloc[:, 0:1].columns, axis=1)\n",
    "    principalDf = cal_pca(expr_res)\n",
    "    get_explained_variance(expr_res)\n",
    "    return pd.concat([principalDf, new_pheno], axis = 1)\n",
    "\n",
    "\n",
    "def calculate_corr(xx, yy):\n",
    "    '''This calculates R^2 correlation via linear regression:\n",
    "         - used to calculate relationship between 2 arrays \n",
    "         - the arrays are principal components 1 or 2 (PC1, PC2) AND ancestry\n",
    "         - calculated on a scale of 0 to 1 (with 0 being no correlation)\n",
    "        Inputs: \n",
    "          x: array of variable of interest (continous or binary)\n",
    "          y: array of PC\n",
    "        Outputs: \n",
    "          1. r2\n",
    "          2. p-value, two-sided test \n",
    "            - whose null hypothesis is that two sets of data are uncorrelated\n",
    "          3. slope (beta): directory of correlations\n",
    "    '''\n",
    "    slope, intercept, r_value, p_value, std_err = linregress(xx, yy)\n",
    "    return slope, r_value, p_value\n",
    "\n",
    "    \n",
    "def corr_annotation(dft):\n",
    "    xx = dft.Sex.astype('category').cat.codes\n",
    "    yy = dft.PC1\n",
    "    zz = dft.PC2\n",
    "    slope1, r_value1, p_value1 = calculate_corr(xx, yy)\n",
    "    slope2, r_value2, p_value2 = calculate_corr(xx, zz)\n",
    "    label = 'PC1 R2: %.2f\\nP-value: %.2e' % (r_value1**2, p_value1)\n",
    "    print('PC2 R2: %.4f Pval: %.3e' % (r_value2**2, p_value2))\n",
    "    return label\n",
    "\n",
    "\n",
    "def get_corr(dft):\n",
    "    xx = dft.Sex.astype('category').cat.codes\n",
    "    yy = dft.PC1\n",
    "    slope1, r_value1, p_value1 = calculate_corr(xx, yy)\n",
    "    return r_value1**2, p_value1"
   ]
  },
  {
   "cell_type": "markdown",
   "metadata": {},
   "source": [
    "### Plotting functions"
   ]
  },
  {
   "cell_type": "code",
   "execution_count": null,
   "metadata": {},
   "outputs": [],
   "source": [
    "def plot_corr_impl(num, fnc, FILTER):\n",
    "    pca_df = get_pca_df(num, fnc, FILTER)\n",
    "    #pca_df['Sex'] = pca_df.Sex.astype('category').cat\n",
    "    title = '\\n'.join([corr_annotation(pca_df)])\n",
    "    pp = ggplot(pca_df, aes(x='PC1', y='PC2', fill='Sex'))\\\n",
    "    + geom_point(alpha=0.75, size=4)\\\n",
    "    + theme_matplotlib()\\\n",
    "    + theme(axis_text_x=element_blank(), \n",
    "            axis_text_y=element_text(size=18), \n",
    "            axis_title=element_text(size=21), \n",
    "            plot_title=element_text(size=22),\n",
    "            legend_text=element_text(size=16), \n",
    "            legend_title=element_blank(), \n",
    "            legend_position=\"bottom\")\n",
    "    pp += ggtitle(title)\n",
    "    return pp\n",
    "\n",
    "\n",
    "def plot_corr(num, fnc, FILTER=False):\n",
    "    return plot_corr_impl(num, fnc, FILTER)\n",
    "\n",
    "\n",
    "def save_plot(p, fn, width=7, height=7):\n",
    "    '''Save plot as svg, png, and pdf with specific label and dimension.'''\n",
    "    for ext in ['.svg', '.png', '.pdf']:\n",
    "        p.save(fn+ext, width=width, height=height)\n"
   ]
  },
  {
   "cell_type": "markdown",
   "metadata": {},
   "source": [
    "## PCA analysis"
   ]
  },
  {
   "cell_type": "markdown",
   "metadata": {},
   "source": [
    "### Allosomes"
   ]
  },
  {
   "cell_type": "code",
   "execution_count": null,
   "metadata": {},
   "outputs": [],
   "source": [
    "pp = plot_corr(0, get_allosomes, False)\n",
    "save_plot(pp, 'deg_pca_all_allosomes')\n",
    "pp"
   ]
  },
  {
   "cell_type": "markdown",
   "metadata": {},
   "source": [
    "### Autosomes"
   ]
  },
  {
   "cell_type": "code",
   "execution_count": null,
   "metadata": {},
   "outputs": [],
   "source": [
    "qq = plot_corr(0, get_autosomes, False)\n",
    "save_plot(qq, 'deg_pca_all_autosomes')\n",
    "qq"
   ]
  },
  {
   "cell_type": "code",
   "execution_count": null,
   "metadata": {},
   "outputs": [],
   "source": [
    "pheno_df = get_pheno_data()\n",
    "geneList = list(set(get_deg().index) & set(get_autosomes().index))\n",
    "pvals = []; rsq = []; nums = []\n",
    "for num in range(2,len(geneList)+1):\n",
    "    expr_res = get_deg_res_df(num, get_autosomes, True)\n",
    "    # Generate pheno data frame with correct samples\n",
    "    new_pheno = pheno_df.merge(expr_res.iloc[:, 0:1], right_index=True, left_index=True)\\\n",
    "                        .drop(expr_res.iloc[:, 0:1].columns, axis=1)\n",
    "    principalDf = cal_pca(expr_res)\n",
    "    dft = pd.concat([principalDf, new_pheno], axis = 1)\n",
    "    r2,pval = get_corr(dft)\n",
    "    nums.append(num); pvals.append(pval); rsq.append(r2)\n",
    "rsq_df = pd.DataFrame({\"DEGs\":nums, \"PValue\":pvals, \"Rsq\": rsq})\n",
    "rsq_df.head(2)"
   ]
  },
  {
   "cell_type": "code",
   "execution_count": null,
   "metadata": {},
   "outputs": [],
   "source": [
    "rsq_df.sort_values(\"Rsq\", ascending=False).head(2)"
   ]
  },
  {
   "cell_type": "code",
   "execution_count": null,
   "metadata": {},
   "outputs": [],
   "source": [
    "gg = ggplot(rsq_df, aes(x='DEGs', y='Rsq'))\\\n",
    "    + geom_point(alpha=0.75, size=2)\\\n",
    "    + theme_matplotlib()\\\n",
    "    + labs(x=\"# of Autosomal DEGs\", y=\"R2 of PC1\\nResidualized Expresion\")\\\n",
    "    + theme(axis_text=element_text(size=18), \n",
    "            axis_title=element_text(size=21, face=\"bold\"))\n",
    "gg"
   ]
  },
  {
   "cell_type": "code",
   "execution_count": null,
   "metadata": {},
   "outputs": [],
   "source": [
    "save_plot(gg, 'autosomes_rsq_curve')"
   ]
  },
  {
   "cell_type": "code",
   "execution_count": null,
   "metadata": {},
   "outputs": [],
   "source": [
    "qq1 = plot_corr(10, get_autosomes, True)\n",
    "save_plot(qq1, 'deg_pca_top10_autosomes')\n",
    "qq1"
   ]
  }
 ],
 "metadata": {
  "kernelspec": {
   "display_name": "Python 3",
   "language": "python",
   "name": "python3"
  },
  "language_info": {
   "codemirror_mode": {
    "name": "ipython",
    "version": 3
   },
   "file_extension": ".py",
   "mimetype": "text/x-python",
   "name": "python",
   "nbconvert_exporter": "python",
   "pygments_lexer": "ipython3",
   "version": "3.9.5"
  }
 },
 "nbformat": 4,
 "nbformat_minor": 4
}
