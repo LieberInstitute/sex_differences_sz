{
 "cells": [
  {
   "cell_type": "markdown",
   "metadata": {},
   "source": [
    "# Metrics summary for splicing"
   ]
  },
  {
   "cell_type": "code",
   "execution_count": 1,
   "metadata": {
    "execution": {
     "iopub.execute_input": "2021-07-11T13:10:49.501295Z",
     "iopub.status.busy": "2021-07-11T13:10:49.499028Z",
     "iopub.status.idle": "2021-07-11T13:10:49.798237Z",
     "shell.execute_reply": "2021-07-11T13:10:49.798765Z"
    }
   },
   "outputs": [],
   "source": [
    "import numpy as np\n",
    "import pandas as pd"
   ]
  },
  {
   "cell_type": "code",
   "execution_count": 2,
   "metadata": {
    "execution": {
     "iopub.execute_input": "2021-07-11T13:10:49.806132Z",
     "iopub.status.busy": "2021-07-11T13:10:49.802828Z",
     "iopub.status.idle": "2021-07-11T13:10:49.829482Z",
     "shell.execute_reply": "2021-07-11T13:10:49.830544Z"
    }
   },
   "outputs": [
    {
     "data": {
      "text/html": [
       "<div>\n",
       "<style scoped>\n",
       "    .dataframe tbody tr th:only-of-type {\n",
       "        vertical-align: middle;\n",
       "    }\n",
       "\n",
       "    .dataframe tbody tr th {\n",
       "        vertical-align: top;\n",
       "    }\n",
       "\n",
       "    .dataframe thead th {\n",
       "        text-align: right;\n",
       "    }\n",
       "</style>\n",
       "<table border=\"1\" class=\"dataframe\">\n",
       "  <thead>\n",
       "    <tr style=\"text-align: right;\">\n",
       "      <th></th>\n",
       "      <th>clusterID</th>\n",
       "      <th>N</th>\n",
       "      <th>coord</th>\n",
       "      <th>gene</th>\n",
       "      <th>annotation</th>\n",
       "      <th>FDR</th>\n",
       "      <th>chr</th>\n",
       "    </tr>\n",
       "  </thead>\n",
       "  <tbody>\n",
       "    <tr>\n",
       "      <th>0</th>\n",
       "      <td>clu_739_-</td>\n",
       "      <td>3</td>\n",
       "      <td>chrX:53217966-53220839</td>\n",
       "      <td>KDM5C</td>\n",
       "      <td>annotated</td>\n",
       "      <td>7.290000e-35</td>\n",
       "      <td>chrX</td>\n",
       "    </tr>\n",
       "    <tr>\n",
       "      <th>1</th>\n",
       "      <td>clu_729_-</td>\n",
       "      <td>12</td>\n",
       "      <td>chrX:53176622-53193437</td>\n",
       "      <td>KDM5C</td>\n",
       "      <td>cryptic</td>\n",
       "      <td>2.620000e-25</td>\n",
       "      <td>chrX</td>\n",
       "    </tr>\n",
       "  </tbody>\n",
       "</table>\n",
       "</div>"
      ],
      "text/plain": [
       "   clusterID   N                   coord   gene annotation           FDR   chr\n",
       "0  clu_739_-   3  chrX:53217966-53220839  KDM5C  annotated  7.290000e-35  chrX\n",
       "1  clu_729_-  12  chrX:53176622-53193437  KDM5C    cryptic  2.620000e-25  chrX"
      ]
     },
     "execution_count": 1,
     "metadata": {},
     "output_type": "execute_result"
    }
   ],
   "source": [
    "df = pd.read_csv('../../_m/cluster_ds_results_annotated.txt', sep='\\t')\n",
    "df['chr'] = df.coord.str.split(\":\", expand=True)[0]\n",
    "df.head(2)"
   ]
  },
  {
   "cell_type": "code",
   "execution_count": 3,
   "metadata": {
    "execution": {
     "iopub.execute_input": "2021-07-11T13:10:49.837550Z",
     "iopub.status.busy": "2021-07-11T13:10:49.836296Z",
     "iopub.status.idle": "2021-07-11T13:10:49.840502Z",
     "shell.execute_reply": "2021-07-11T13:10:49.841555Z"
    }
   },
   "outputs": [
    {
     "name": "stdout",
     "output_type": "stream",
     "text": [
      "There are 31 unique DS!\n",
      "There are 27 unique DS (gene name)!\n"
     ]
    }
   ],
   "source": [
    "print(\"There are %d unique DS!\" % len(df.clusterID.unique()))\n",
    "print(\"There are %d unique DS (gene name)!\" % len(df.gene.unique()))"
   ]
  },
  {
   "cell_type": "code",
   "execution_count": 4,
   "metadata": {
    "execution": {
     "iopub.execute_input": "2021-07-11T13:10:49.850230Z",
     "iopub.status.busy": "2021-07-11T13:10:49.848920Z",
     "iopub.status.idle": "2021-07-11T13:10:49.853160Z",
     "shell.execute_reply": "2021-07-11T13:10:49.854210Z"
    }
   },
   "outputs": [
    {
     "name": "stdout",
     "output_type": "stream",
     "text": [
      "There are 7 unique DS for allosomes!\n",
      "There are 5 unique DS (gene name) for allosomes!\n"
     ]
    }
   ],
   "source": [
    "dfx = df[(df['chr']=='chrX')].copy()\n",
    "print(\"There are %d unique DS for allosomes!\" % len(dfx.clusterID.unique()))\n",
    "print(\"There are %d unique DS (gene name) for allosomes!\" % len(dfx.gene.unique()))"
   ]
  },
  {
   "cell_type": "code",
   "execution_count": 5,
   "metadata": {
    "execution": {
     "iopub.execute_input": "2021-07-11T13:10:49.861055Z",
     "iopub.status.busy": "2021-07-11T13:10:49.859774Z",
     "iopub.status.idle": "2021-07-11T13:10:49.865094Z",
     "shell.execute_reply": "2021-07-11T13:10:49.863941Z"
    }
   },
   "outputs": [
    {
     "name": "stdout",
     "output_type": "stream",
     "text": [
      "There are 24 unique DS for autosomes!\n",
      "There are 22 unique DS (gene name) for autosomes!\n"
     ]
    }
   ],
   "source": [
    "print(\"There are %d unique DS for autosomes!\" % (len(df.clusterID.unique()) - len(dfx.clusterID.unique())))\n",
    "print(\"There are %d unique DS (gene name) for autosomes!\" % (len(df.gene.unique()) - len(dfx.gene.unique())))"
   ]
  },
  {
   "cell_type": "code",
   "execution_count": null,
   "metadata": {},
   "outputs": [],
   "source": []
  }
 ],
 "metadata": {
  "kernelspec": {
   "display_name": "Python 3",
   "language": "python",
   "name": "python3"
  },
  "language_info": {
   "codemirror_mode": {
    "name": "ipython",
    "version": 3
   },
   "file_extension": ".py",
   "mimetype": "text/x-python",
   "name": "python",
   "nbconvert_exporter": "python",
   "pygments_lexer": "ipython3",
   "version": "3.9.1"
  }
 },
 "nbformat": 4,
 "nbformat_minor": 4
}
