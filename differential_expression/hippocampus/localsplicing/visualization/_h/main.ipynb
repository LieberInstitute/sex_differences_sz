{
 "cells": [
  {
   "cell_type": "markdown",
   "metadata": {},
   "source": [
    "# Visualize results, local splicing"
   ]
  },
  {
   "cell_type": "markdown",
   "metadata": {},
   "source": [
    "## Load Libraries"
   ]
  },
  {
   "cell_type": "code",
   "execution_count": 1,
   "metadata": {},
   "outputs": [
    {
     "name": "stderr",
     "output_type": "stream",
     "text": [
      "-- \u001b[1mAttaching packages\u001b[22m ------------------------------------------------------------------------------------------------------------------------------------------------------------- tidyverse 1.3.1 --\n",
      "\n",
      "\u001b[32mv\u001b[39m \u001b[34mggplot2\u001b[39m 3.3.5     \u001b[32mv\u001b[39m \u001b[34mpurrr  \u001b[39m 0.3.4\n",
      "\u001b[32mv\u001b[39m \u001b[34mtibble \u001b[39m 3.1.2     \u001b[32mv\u001b[39m \u001b[34mdplyr  \u001b[39m 1.0.7\n",
      "\u001b[32mv\u001b[39m \u001b[34mtidyr  \u001b[39m 1.1.3     \u001b[32mv\u001b[39m \u001b[34mstringr\u001b[39m 1.4.0\n",
      "\u001b[32mv\u001b[39m \u001b[34mreadr  \u001b[39m 1.4.0     \u001b[32mv\u001b[39m \u001b[34mforcats\u001b[39m 0.5.1\n",
      "\n",
      "-- \u001b[1mConflicts\u001b[22m ---------------------------------------------------------------------------------------------------------------------------------------------------------------- tidyverse_conflicts() --\n",
      "\u001b[31mx\u001b[39m \u001b[34mdplyr\u001b[39m::\u001b[32mfilter()\u001b[39m masks \u001b[34mstats\u001b[39m::filter()\n",
      "\u001b[31mx\u001b[39m \u001b[34mdplyr\u001b[39m::\u001b[32mlag()\u001b[39m    masks \u001b[34mstats\u001b[39m::lag()\n",
      "\n",
      "Loading required package: Rcpp\n",
      "\n",
      "\n",
      "Attaching package: 'reshape2'\n",
      "\n",
      "\n",
      "The following object is masked from 'package:tidyr':\n",
      "\n",
      "    smiths\n",
      "\n",
      "\n",
      "\n",
      "Attaching package: 'gridExtra'\n",
      "\n",
      "\n",
      "The following object is masked from 'package:dplyr':\n",
      "\n",
      "    combine\n",
      "\n",
      "\n",
      "\n",
      "Attaching package: 'intervals'\n",
      "\n",
      "\n",
      "The following object is masked from 'package:purrr':\n",
      "\n",
      "    reduce\n",
      "\n",
      "\n",
      "The following object is masked from 'package:tidyr':\n",
      "\n",
      "    expand\n",
      "\n",
      "\n",
      "\n",
      "Attaching package: 'foreach'\n",
      "\n",
      "\n",
      "The following objects are masked from 'package:purrr':\n",
      "\n",
      "    accumulate, when\n",
      "\n",
      "\n"
     ]
    }
   ],
   "source": [
    "library(tidyverse)\n",
    "library(ggplot2)\n",
    "library(DT)\n",
    "library(leafcutter)\n",
    "library(reshape2)\n",
    "library(gridExtra)\n",
    "library(intervals) # needed for pretty strand arrow placement\n",
    "library(foreach)\n",
    "library(grid)\n",
    "library(gtable)\n",
    "library(ggrepel)"
   ]
  },
  {
   "cell_type": "markdown",
   "metadata": {},
   "source": [
    "## Summary of results"
   ]
  },
  {
   "cell_type": "code",
   "execution_count": 2,
   "metadata": {},
   "outputs": [
    {
     "data": {
      "text/html": [
       "<style>\n",
       ".list-inline {list-style: none; margin:0; padding: 0}\n",
       ".list-inline>li {display: inline-block}\n",
       ".list-inline>li:not(:last-child)::after {content: \"\\00b7\"; padding: 0 .5ex}\n",
       "</style>\n",
       "<ol class=list-inline><li>'introns'</li><li>'clusters'</li><li>'counts'</li><li>'meta'</li><li>'exons_table'</li><li>'pca'</li><li>'intron_summary'</li><li>'cluster_summary'</li><li>'introns_to_plot'</li><li>'cluster_ids'</li><li>'sample_table'</li><li>'annotation_code'</li><li>'code'</li></ol>\n"
      ],
      "text/latex": [
       "\\begin{enumerate*}\n",
       "\\item 'introns'\n",
       "\\item 'clusters'\n",
       "\\item 'counts'\n",
       "\\item 'meta'\n",
       "\\item 'exons\\_table'\n",
       "\\item 'pca'\n",
       "\\item 'intron\\_summary'\n",
       "\\item 'cluster\\_summary'\n",
       "\\item 'introns\\_to\\_plot'\n",
       "\\item 'cluster\\_ids'\n",
       "\\item 'sample\\_table'\n",
       "\\item 'annotation\\_code'\n",
       "\\item 'code'\n",
       "\\end{enumerate*}\n"
      ],
      "text/markdown": [
       "1. 'introns'\n",
       "2. 'clusters'\n",
       "3. 'counts'\n",
       "4. 'meta'\n",
       "5. 'exons_table'\n",
       "6. 'pca'\n",
       "7. 'intron_summary'\n",
       "8. 'cluster_summary'\n",
       "9. 'introns_to_plot'\n",
       "10. 'cluster_ids'\n",
       "11. 'sample_table'\n",
       "12. 'annotation_code'\n",
       "13. 'code'\n",
       "\n",
       "\n"
      ],
      "text/plain": [
       " [1] \"introns\"         \"clusters\"        \"counts\"          \"meta\"           \n",
       " [5] \"exons_table\"     \"pca\"             \"intron_summary\"  \"cluster_summary\"\n",
       " [9] \"introns_to_plot\" \"cluster_ids\"     \"sample_table\"    \"annotation_code\"\n",
       "[13] \"code\"           "
      ]
     },
     "metadata": {},
     "output_type": "display_data"
    }
   ],
   "source": [
    "lname = load('../../_m/leafviz.RData')\n",
    "lname"
   ]
  },
  {
   "cell_type": "code",
   "execution_count": 3,
   "metadata": {},
   "outputs": [
    {
     "data": {
      "text/html": [
       "<table class=\"dataframe\">\n",
       "<caption>A data.frame: 2 × 2</caption>\n",
       "<thead>\n",
       "\t<tr><th scope=col>group</th><th scope=col>count</th></tr>\n",
       "\t<tr><th scope=col>&lt;chr&gt;</th><th scope=col>&lt;int&gt;</th></tr>\n",
       "</thead>\n",
       "<tbody>\n",
       "\t<tr><td>F</td><td>121</td></tr>\n",
       "\t<tr><td>M</td><td>254</td></tr>\n",
       "</tbody>\n",
       "</table>\n"
      ],
      "text/latex": [
       "A data.frame: 2 × 2\n",
       "\\begin{tabular}{ll}\n",
       " group & count\\\\\n",
       " <chr> & <int>\\\\\n",
       "\\hline\n",
       "\t F & 121\\\\\n",
       "\t M & 254\\\\\n",
       "\\end{tabular}\n"
      ],
      "text/markdown": [
       "\n",
       "A data.frame: 2 × 2\n",
       "\n",
       "| group &lt;chr&gt; | count &lt;int&gt; |\n",
       "|---|---|\n",
       "| F | 121 |\n",
       "| M | 254 |\n",
       "\n"
      ],
      "text/plain": [
       "  group count\n",
       "1 F     121  \n",
       "2 M     254  "
      ]
     },
     "metadata": {},
     "output_type": "display_data"
    }
   ],
   "source": [
    "levels(meta$group) <- c(\"Female\", \"Male\")\n",
    "sample_table"
   ]
  },
  {
   "cell_type": "code",
   "execution_count": 4,
   "metadata": {},
   "outputs": [
    {
     "data": {
      "text/html": [
       "<table class=\"dataframe\">\n",
       "<caption>A data.frame: 3 × 2</caption>\n",
       "<thead>\n",
       "\t<tr><th scope=col>Results</th><th scope=col>n</th></tr>\n",
       "\t<tr><th scope=col>&lt;chr&gt;</th><th scope=col>&lt;int&gt;</th></tr>\n",
       "</thead>\n",
       "<tbody>\n",
       "\t<tr><td>Number of differentially spliced clusters at FDR = 0.05</td><td>31</td></tr>\n",
       "\t<tr><td>Fully annotated                                        </td><td>11</td></tr>\n",
       "\t<tr><td>Contain unannotated junctions                          </td><td>20</td></tr>\n",
       "</tbody>\n",
       "</table>\n"
      ],
      "text/latex": [
       "A data.frame: 3 × 2\n",
       "\\begin{tabular}{ll}\n",
       " Results & n\\\\\n",
       " <chr> & <int>\\\\\n",
       "\\hline\n",
       "\t Number of differentially spliced clusters at FDR = 0.05 & 31\\\\\n",
       "\t Fully annotated                                         & 11\\\\\n",
       "\t Contain unannotated junctions                           & 20\\\\\n",
       "\\end{tabular}\n"
      ],
      "text/markdown": [
       "\n",
       "A data.frame: 3 × 2\n",
       "\n",
       "| Results &lt;chr&gt; | n &lt;int&gt; |\n",
       "|---|---|\n",
       "| Number of differentially spliced clusters at FDR = 0.05 | 31 |\n",
       "| Fully annotated                                         | 11 |\n",
       "| Contain unannotated junctions                           | 20 |\n",
       "\n"
      ],
      "text/plain": [
       "  Results                                                 n \n",
       "1 Number of differentially spliced clusters at FDR = 0.05 31\n",
       "2 Fully annotated                                         11\n",
       "3 Contain unannotated junctions                           20"
      ]
     },
     "metadata": {},
     "output_type": "display_data"
    }
   ],
   "source": [
    "cluster_summary"
   ]
  },
  {
   "cell_type": "code",
   "execution_count": 5,
   "metadata": {},
   "outputs": [
    {
     "data": {
      "text/html": [
       "<table class=\"dataframe\">\n",
       "<caption>A data.frame: 5 × 2</caption>\n",
       "<thead>\n",
       "\t<tr><th scope=col>Results</th><th scope=col>n</th></tr>\n",
       "\t<tr><th scope=col>&lt;chr&gt;</th><th scope=col>&lt;int&gt;</th></tr>\n",
       "</thead>\n",
       "<tbody>\n",
       "\t<tr><td>Number of fully annotated junctions                              </td><td>70</td></tr>\n",
       "\t<tr><td>Number of junctions with cryptic 5' splice site                  </td><td>15</td></tr>\n",
       "\t<tr><td>Number of junctions with cryptic 3' splice site                  </td><td>20</td></tr>\n",
       "\t<tr><td>Number of junctions with two cryptic splice sites                </td><td>20</td></tr>\n",
       "\t<tr><td>Number of novel junctions that connect two annotated splice sites</td><td> 7</td></tr>\n",
       "</tbody>\n",
       "</table>\n"
      ],
      "text/latex": [
       "A data.frame: 5 × 2\n",
       "\\begin{tabular}{ll}\n",
       " Results & n\\\\\n",
       " <chr> & <int>\\\\\n",
       "\\hline\n",
       "\t Number of fully annotated junctions                               & 70\\\\\n",
       "\t Number of junctions with cryptic 5' splice site                   & 15\\\\\n",
       "\t Number of junctions with cryptic 3' splice site                   & 20\\\\\n",
       "\t Number of junctions with two cryptic splice sites                 & 20\\\\\n",
       "\t Number of novel junctions that connect two annotated splice sites &  7\\\\\n",
       "\\end{tabular}\n"
      ],
      "text/markdown": [
       "\n",
       "A data.frame: 5 × 2\n",
       "\n",
       "| Results &lt;chr&gt; | n &lt;int&gt; |\n",
       "|---|---|\n",
       "| Number of fully annotated junctions                               | 70 |\n",
       "| Number of junctions with cryptic 5' splice site                   | 15 |\n",
       "| Number of junctions with cryptic 3' splice site                   | 20 |\n",
       "| Number of junctions with two cryptic splice sites                 | 20 |\n",
       "| Number of novel junctions that connect two annotated splice sites |  7 |\n",
       "\n"
      ],
      "text/plain": [
       "  Results                                                           n \n",
       "1 Number of fully annotated junctions                               70\n",
       "2 Number of junctions with cryptic 5' splice site                   15\n",
       "3 Number of junctions with cryptic 3' splice site                   20\n",
       "4 Number of junctions with two cryptic splice sites                 20\n",
       "5 Number of novel junctions that connect two annotated splice sites  7"
      ]
     },
     "metadata": {},
     "output_type": "display_data"
    }
   ],
   "source": [
    "intron_summary"
   ]
  },
  {
   "cell_type": "code",
   "execution_count": 6,
   "metadata": {},
   "outputs": [
    {
     "data": {
      "text/html": [
       "<table class=\"dataframe\">\n",
       "<caption>A data.frame: 6 × 6</caption>\n",
       "<thead>\n",
       "\t<tr><th></th><th scope=col>clusterID</th><th scope=col>N</th><th scope=col>coord</th><th scope=col>gene</th><th scope=col>annotation</th><th scope=col>FDR</th></tr>\n",
       "\t<tr><th></th><th scope=col>&lt;chr&gt;</th><th scope=col>&lt;dbl&gt;</th><th scope=col>&lt;chr&gt;</th><th scope=col>&lt;chr&gt;</th><th scope=col>&lt;chr&gt;</th><th scope=col>&lt;dbl&gt;</th></tr>\n",
       "</thead>\n",
       "<tbody>\n",
       "\t<tr><th scope=row>31</th><td>clu_739_-   </td><td> 3</td><td>chrX:53217966-53220839 </td><td>KDM5C</td><td>annotated</td><td>7.29e-35</td></tr>\n",
       "\t<tr><th scope=row>29</th><td>clu_729_-   </td><td>12</td><td>chrX:53176622-53193437 </td><td>KDM5C</td><td>cryptic  </td><td>2.62e-25</td></tr>\n",
       "\t<tr><th scope=row>27</th><td>clu_57947_+ </td><td> 3</td><td>chrX:47199106-47199480 </td><td>UBA1 </td><td>cryptic  </td><td>3.27e-11</td></tr>\n",
       "\t<tr><th scope=row>19</th><td>clu_164860_+</td><td> 3</td><td>chr7:74189918-74194741 </td><td>EIF4H</td><td>annotated</td><td>1.59e-05</td></tr>\n",
       "\t<tr><th scope=row>30</th><td>clu_736_-   </td><td> 3</td><td>chrX:53210576-53211497 </td><td>KDM5C</td><td>cryptic  </td><td>2.37e-05</td></tr>\n",
       "\t<tr><th scope=row>3</th><td>clu_5190_-  </td><td>16</td><td>chr11:62520391-62530586</td><td>.    </td><td>annotated</td><td>1.02e-04</td></tr>\n",
       "</tbody>\n",
       "</table>\n"
      ],
      "text/latex": [
       "A data.frame: 6 × 6\n",
       "\\begin{tabular}{r|llllll}\n",
       "  & clusterID & N & coord & gene & annotation & FDR\\\\\n",
       "  & <chr> & <dbl> & <chr> & <chr> & <chr> & <dbl>\\\\\n",
       "\\hline\n",
       "\t31 & clu\\_739\\_-    &  3 & chrX:53217966-53220839  & KDM5C & annotated & 7.29e-35\\\\\n",
       "\t29 & clu\\_729\\_-    & 12 & chrX:53176622-53193437  & KDM5C & cryptic   & 2.62e-25\\\\\n",
       "\t27 & clu\\_57947\\_+  &  3 & chrX:47199106-47199480  & UBA1  & cryptic   & 3.27e-11\\\\\n",
       "\t19 & clu\\_164860\\_+ &  3 & chr7:74189918-74194741  & EIF4H & annotated & 1.59e-05\\\\\n",
       "\t30 & clu\\_736\\_-    &  3 & chrX:53210576-53211497  & KDM5C & cryptic   & 2.37e-05\\\\\n",
       "\t3 & clu\\_5190\\_-   & 16 & chr11:62520391-62530586 & .     & annotated & 1.02e-04\\\\\n",
       "\\end{tabular}\n"
      ],
      "text/markdown": [
       "\n",
       "A data.frame: 6 × 6\n",
       "\n",
       "| <!--/--> | clusterID &lt;chr&gt; | N &lt;dbl&gt; | coord &lt;chr&gt; | gene &lt;chr&gt; | annotation &lt;chr&gt; | FDR &lt;dbl&gt; |\n",
       "|---|---|---|---|---|---|---|\n",
       "| 31 | clu_739_-    |  3 | chrX:53217966-53220839  | KDM5C | annotated | 7.29e-35 |\n",
       "| 29 | clu_729_-    | 12 | chrX:53176622-53193437  | KDM5C | cryptic   | 2.62e-25 |\n",
       "| 27 | clu_57947_+  |  3 | chrX:47199106-47199480  | UBA1  | cryptic   | 3.27e-11 |\n",
       "| 19 | clu_164860_+ |  3 | chr7:74189918-74194741  | EIF4H | annotated | 1.59e-05 |\n",
       "| 30 | clu_736_-    |  3 | chrX:53210576-53211497  | KDM5C | cryptic   | 2.37e-05 |\n",
       "| 3 | clu_5190_-   | 16 | chr11:62520391-62530586 | .     | annotated | 1.02e-04 |\n",
       "\n"
      ],
      "text/plain": [
       "   clusterID    N  coord                   gene  annotation FDR     \n",
       "31 clu_739_-     3 chrX:53217966-53220839  KDM5C annotated  7.29e-35\n",
       "29 clu_729_-    12 chrX:53176622-53193437  KDM5C cryptic    2.62e-25\n",
       "27 clu_57947_+   3 chrX:47199106-47199480  UBA1  cryptic    3.27e-11\n",
       "19 clu_164860_+  3 chr7:74189918-74194741  EIF4H annotated  1.59e-05\n",
       "30 clu_736_-     3 chrX:53210576-53211497  KDM5C cryptic    2.37e-05\n",
       "3  clu_5190_-   16 chr11:62520391-62530586 .     annotated  1.02e-04"
      ]
     },
     "metadata": {},
     "output_type": "display_data"
    }
   ],
   "source": [
    "clusters['gene'] <- gsub(\"</i>\", \"\", gsub(\"<i>\", \"\", clusters$gene))\n",
    "head(clusters)"
   ]
  },
  {
   "cell_type": "code",
   "execution_count": 7,
   "metadata": {},
   "outputs": [],
   "source": [
    "write.table(clusters, file=\"cluster_ds_results_annotated.txt\", \n",
    "            sep=\"\\t\", quote=FALSE, row.names=FALSE)"
   ]
  },
  {
   "cell_type": "markdown",
   "metadata": {},
   "source": [
    "## Generate plots"
   ]
  },
  {
   "cell_type": "markdown",
   "metadata": {},
   "source": [
    "### Define functions"
   ]
  },
  {
   "cell_type": "code",
   "execution_count": 8,
   "metadata": {},
   "outputs": [],
   "source": [
    "filter_intron_table <- function(introns, clu){\n",
    "    d < - introns %>% filter(clusterID == clu) %>% \n",
    "        select(chr, start, end, verdict, deltapsi) %>%\n",
    "        arrange(desc(abs(deltapsi))) %>%\n",
    "        rename(\"ΔPSI\" = deltapsi)\n",
    "    row.names(d) <- letters[1:nrow(d)] # letters is just a:z\n",
    "    return(d)\n",
    "}\n",
    "\n",
    "\n",
    "getGeneLength <- function(gene_name, exons_table){\n",
    "    exons      <- exons_table[ exons_table$gene_name == gene_name, ]\n",
    "    geneStart  <- min(exons$start)\n",
    "    geneEnd    <- max(exons$end)\n",
    "    geneLength <- geneEnd - geneStart\n",
    "    if( geneLength >1e6){\n",
    "        pixels <- 5000\n",
    "    } else if ( geneLength > 5e5 & geneLength < 1e6){\n",
    "        pixels <- 3000\n",
    "    } else if ( geneLength > 1.5e5 & geneLength <= 5e5){\n",
    "        pixels <- 2000\n",
    "    } else {\n",
    "        stopifnot(geneLength <= 1.5e5)\n",
    "        pixels <- \"auto\"\n",
    "    }\n",
    "    return(pixels)\n",
    "}\n",
    "\n",
    "\n",
    "select_data <- function(sel, clusters, exons_table){\n",
    "    gene <- clusters[ sel, ]$gene\n",
    "    width <- getGeneLength(gene, exons_table)\n",
    "    clusterID <- clusters[ sel, ]$clusterID\n",
    "    coord <- clusters[ sel, ]$coord\n",
    "    return(list(gene = gene, width = width, cluster = clusterID, coord = coord))\n",
    "}"
   ]
  },
  {
   "cell_type": "markdown",
   "metadata": {},
   "source": [
    "### Plot top 6 clusters"
   ]
  },
  {
   "cell_type": "code",
   "execution_count": 9,
   "metadata": {},
   "outputs": [],
   "source": [
    "plot_cluster <- function(num, clusters, dir='./'){\n",
    "    mydata = select_data(num, clusters, exons_table)\n",
    "    if(mydata$gene == '.'){\n",
    "        mydata$gene = gsub(\"-\", \"_\", gsub(\":\", \"_\", mydata$coord))\n",
    "    }\n",
    "    gene_name = mydata$gene\n",
    "    plotTitle <- paste0(gene_name, '_', mydata$cluster, '_top_',num,'.pdf')\n",
    "    pdf(file=paste0(dir, plotTitle), width = 10, height = 5)\n",
    "    print(make_cluster_plot(mydata$cluster,\n",
    "                            main_title = plotTitle,\n",
    "                            meta = meta,\n",
    "                            cluster_ids = cluster_ids,\n",
    "                            exons_table = exons_table,\n",
    "                            counts = counts,\n",
    "                            introns = introns))\n",
    "    dev.off()\n",
    "\n",
    "    if (is.numeric(mydata$width)) {\n",
    "        new_width = mydata$width / 100\n",
    "    } else {\n",
    "        new_width = mydata$width\n",
    "    }\n",
    "\n",
    "    pdf(file=paste0(dir, gene_name, '_allClusters_top_',num,'.pdf'), \n",
    "        width=new_width, height=6)\n",
    "    try(print(make_gene_plot(mydata$gene,\n",
    "                         counts = counts,\n",
    "                         introns = introns,\n",
    "                         exons_table = exons_table,\n",
    "                         cluster_list = clusters,\n",
    "                         clusterID = mydata$cluster,\n",
    "                         introns_to_plot = introns_to_plot, debug=F)))\n",
    "    dev.off()\n",
    "}\n"
   ]
  },
  {
   "cell_type": "markdown",
   "metadata": {},
   "source": [
    "## Plot splicing"
   ]
  },
  {
   "cell_type": "code",
   "execution_count": 10,
   "metadata": {},
   "outputs": [
    {
     "name": "stderr",
     "output_type": "stream",
     "text": [
      "Warning message:\n",
      "\"`guides(<scale> = FALSE)` is deprecated. Please use `guides(<scale> = \"none\")` instead.\"\n"
     ]
    },
    {
     "name": "stdout",
     "output_type": "stream",
     "text": [
      "TableGrob (2 x 1) \"arrange\": 2 grobs\n",
      "  z     cells    name           grob\n",
      "1 1 (1-1,1-1) arrange gtable[layout]\n",
      "2 2 (2-2,1-1) arrange gtable[layout]\n"
     ]
    },
    {
     "name": "stderr",
     "output_type": "stream",
     "text": [
      "Warning message:\n",
      "\"'mode(width)' differs between new and previous\n",
      "\t ==> NOT changing 'width'\"\n",
      "Warning message:\n",
      "\"`guides(<scale> = FALSE)` is deprecated. Please use `guides(<scale> = \"none\")` instead.\"\n"
     ]
    },
    {
     "name": "stdout",
     "output_type": "stream",
     "text": [
      "TableGrob (2 x 1) \"arrange\": 2 grobs\n",
      "  z     cells    name           grob\n",
      "1 1 (1-1,1-1) arrange gtable[layout]\n",
      "2 2 (2-2,1-1) arrange gtable[layout]\n"
     ]
    },
    {
     "name": "stderr",
     "output_type": "stream",
     "text": [
      "Warning message:\n",
      "\"'mode(width)' differs between new and previous\n",
      "\t ==> NOT changing 'width'\"\n",
      "Warning message:\n",
      "\"`guides(<scale> = FALSE)` is deprecated. Please use `guides(<scale> = \"none\")` instead.\"\n"
     ]
    },
    {
     "name": "stdout",
     "output_type": "stream",
     "text": [
      "TableGrob (2 x 1) \"arrange\": 2 grobs\n",
      "  z     cells    name           grob\n",
      "1 1 (1-1,1-1) arrange gtable[layout]\n",
      "2 2 (2-2,1-1) arrange gtable[layout]\n"
     ]
    },
    {
     "name": "stderr",
     "output_type": "stream",
     "text": [
      "Warning message:\n",
      "\"'mode(width)' differs between new and previous\n",
      "\t ==> NOT changing 'width'\"\n",
      "Warning message:\n",
      "\"`guides(<scale> = FALSE)` is deprecated. Please use `guides(<scale> = \"none\")` instead.\"\n"
     ]
    },
    {
     "name": "stdout",
     "output_type": "stream",
     "text": [
      "TableGrob (2 x 1) \"arrange\": 2 grobs\n",
      "  z     cells    name           grob\n",
      "1 1 (1-1,1-1) arrange gtable[layout]\n",
      "2 2 (2-2,1-1) arrange gtable[layout]\n"
     ]
    },
    {
     "name": "stderr",
     "output_type": "stream",
     "text": [
      "Warning message:\n",
      "\"'mode(width)' differs between new and previous\n",
      "\t ==> NOT changing 'width'\"\n",
      "Warning message:\n",
      "\"`guides(<scale> = FALSE)` is deprecated. Please use `guides(<scale> = \"none\")` instead.\"\n"
     ]
    },
    {
     "name": "stdout",
     "output_type": "stream",
     "text": [
      "TableGrob (2 x 1) \"arrange\": 2 grobs\n",
      "  z     cells    name           grob\n",
      "1 1 (1-1,1-1) arrange gtable[layout]\n",
      "2 2 (2-2,1-1) arrange gtable[layout]\n"
     ]
    },
    {
     "name": "stderr",
     "output_type": "stream",
     "text": [
      "Warning message:\n",
      "\"'mode(width)' differs between new and previous\n",
      "\t ==> NOT changing 'width'\"\n",
      "Warning message in min(exons$start):\n",
      "\"no non-missing arguments to min; returning Inf\"\n",
      "Warning message in max(exons$end):\n",
      "\"no non-missing arguments to max; returning -Inf\"\n",
      "Warning message:\n",
      "\"`guides(<scale> = FALSE)` is deprecated. Please use `guides(<scale> = \"none\")` instead.\"\n"
     ]
    },
    {
     "name": "stdout",
     "output_type": "stream",
     "text": [
      "TableGrob (2 x 1) \"arrange\": 2 grobs\n",
      "  z     cells    name           grob\n",
      "1 1 (1-1,1-1) arrange gtable[layout]\n",
      "2 2 (2-2,1-1) arrange gtable[layout]\n"
     ]
    },
    {
     "name": "stderr",
     "output_type": "stream",
     "text": [
      "Warning message:\n",
      "\"'mode(width)' differs between new and previous\n",
      "\t ==> NOT changing 'width'\"\n",
      "Warning message in min(exons$start):\n",
      "\"no non-missing arguments to min; returning Inf\"\n",
      "Warning message in max(exons$end):\n",
      "\"no non-missing arguments to max; returning -Inf\"\n"
     ]
    },
    {
     "name": "stdout",
     "output_type": "stream",
     "text": [
      "Error in make_gene_plot(mydata$gene, counts = counts, introns = introns,  : \n",
      "  length(unique(exons$chr)) == 1 is not TRUE\n"
     ]
    },
    {
     "name": "stderr",
     "output_type": "stream",
     "text": [
      "Warning message:\n",
      "\"`guides(<scale> = FALSE)` is deprecated. Please use `guides(<scale> = \"none\")` instead.\"\n"
     ]
    },
    {
     "name": "stdout",
     "output_type": "stream",
     "text": [
      "TableGrob (2 x 1) \"arrange\": 2 grobs\n",
      "  z     cells    name           grob\n",
      "1 1 (1-1,1-1) arrange gtable[layout]\n",
      "2 2 (2-2,1-1) arrange gtable[layout]\n"
     ]
    },
    {
     "name": "stderr",
     "output_type": "stream",
     "text": [
      "Warning message:\n",
      "\"'mode(width)' differs between new and previous\n",
      "\t ==> NOT changing 'width'\"\n",
      "Warning message in min(exons$start):\n",
      "\"no non-missing arguments to min; returning Inf\"\n",
      "Warning message in max(exons$end):\n",
      "\"no non-missing arguments to max; returning -Inf\"\n",
      "Warning message:\n",
      "\"`guides(<scale> = FALSE)` is deprecated. Please use `guides(<scale> = \"none\")` instead.\"\n"
     ]
    },
    {
     "name": "stdout",
     "output_type": "stream",
     "text": [
      "TableGrob (2 x 1) \"arrange\": 2 grobs\n",
      "  z     cells    name           grob\n",
      "1 1 (1-1,1-1) arrange gtable[layout]\n",
      "2 2 (2-2,1-1) arrange gtable[layout]\n"
     ]
    },
    {
     "name": "stderr",
     "output_type": "stream",
     "text": [
      "Warning message:\n",
      "\"'mode(width)' differs between new and previous\n",
      "\t ==> NOT changing 'width'\"\n",
      "Warning message in min(exons$start):\n",
      "\"no non-missing arguments to min; returning Inf\"\n",
      "Warning message in max(exons$end):\n",
      "\"no non-missing arguments to max; returning -Inf\"\n"
     ]
    },
    {
     "name": "stdout",
     "output_type": "stream",
     "text": [
      "Error in make_gene_plot(mydata$gene, counts = counts, introns = introns,  : \n",
      "  length(unique(exons$chr)) == 1 is not TRUE\n"
     ]
    },
    {
     "name": "stderr",
     "output_type": "stream",
     "text": [
      "Warning message in min(exons$start):\n",
      "\"no non-missing arguments to min; returning Inf\"\n",
      "Warning message in max(exons$end):\n",
      "\"no non-missing arguments to max; returning -Inf\"\n",
      "Warning message:\n",
      "\"`guides(<scale> = FALSE)` is deprecated. Please use `guides(<scale> = \"none\")` instead.\"\n"
     ]
    },
    {
     "name": "stdout",
     "output_type": "stream",
     "text": [
      "TableGrob (2 x 1) \"arrange\": 2 grobs\n",
      "  z     cells    name           grob\n",
      "1 1 (1-1,1-1) arrange gtable[layout]\n",
      "2 2 (2-2,1-1) arrange gtable[layout]\n"
     ]
    },
    {
     "name": "stderr",
     "output_type": "stream",
     "text": [
      "Warning message:\n",
      "\"'mode(width)' differs between new and previous\n",
      "\t ==> NOT changing 'width'\"\n",
      "Warning message in min(exons$start):\n",
      "\"no non-missing arguments to min; returning Inf\"\n",
      "Warning message in max(exons$end):\n",
      "\"no non-missing arguments to max; returning -Inf\"\n"
     ]
    },
    {
     "name": "stdout",
     "output_type": "stream",
     "text": [
      "Error in make_gene_plot(mydata$gene, counts = counts, introns = introns,  : \n",
      "  length(unique(exons$chr)) == 1 is not TRUE\n"
     ]
    },
    {
     "name": "stderr",
     "output_type": "stream",
     "text": [
      "Warning message:\n",
      "\"`guides(<scale> = FALSE)` is deprecated. Please use `guides(<scale> = \"none\")` instead.\"\n"
     ]
    },
    {
     "name": "stdout",
     "output_type": "stream",
     "text": [
      "TableGrob (2 x 1) \"arrange\": 2 grobs\n",
      "  z     cells    name           grob\n",
      "1 1 (1-1,1-1) arrange gtable[layout]\n",
      "2 2 (2-2,1-1) arrange gtable[layout]\n"
     ]
    },
    {
     "name": "stderr",
     "output_type": "stream",
     "text": [
      "Warning message:\n",
      "\"'mode(width)' differs between new and previous\n",
      "\t ==> NOT changing 'width'\"\n"
     ]
    }
   ],
   "source": [
    "dir.create(\"top10\")\n",
    "for(num in 1:10){\n",
    "    ii = plot_cluster(num, clusters, \"top10/\")\n",
    "}"
   ]
  },
  {
   "cell_type": "code",
   "execution_count": 11,
   "metadata": {},
   "outputs": [
    {
     "data": {
      "text/html": [
       "<table class=\"dataframe\">\n",
       "<caption>A data.frame: 7 × 6</caption>\n",
       "<thead>\n",
       "\t<tr><th scope=col>clusterID</th><th scope=col>N</th><th scope=col>coord</th><th scope=col>gene</th><th scope=col>annotation</th><th scope=col>FDR</th></tr>\n",
       "\t<tr><th scope=col>&lt;chr&gt;</th><th scope=col>&lt;dbl&gt;</th><th scope=col>&lt;chr&gt;</th><th scope=col>&lt;chr&gt;</th><th scope=col>&lt;chr&gt;</th><th scope=col>&lt;dbl&gt;</th></tr>\n",
       "</thead>\n",
       "<tbody>\n",
       "\t<tr><td>clu_739_-  </td><td> 3</td><td>chrX:53217966-53220839  </td><td>KDM5C </td><td>annotated</td><td>7.29e-35</td></tr>\n",
       "\t<tr><td>clu_729_-  </td><td>12</td><td>chrX:53176622-53193437  </td><td>KDM5C </td><td>cryptic  </td><td>2.62e-25</td></tr>\n",
       "\t<tr><td>clu_57947_+</td><td> 3</td><td>chrX:47199106-47199480  </td><td>UBA1  </td><td>cryptic  </td><td>3.27e-11</td></tr>\n",
       "\t<tr><td>clu_736_-  </td><td> 3</td><td>chrX:53210576-53211497  </td><td>KDM5C </td><td>cryptic  </td><td>2.37e-05</td></tr>\n",
       "\t<tr><td>clu_57932_+</td><td> 6</td><td>chrX:47084600-47092061  </td><td>RGN   </td><td>cryptic  </td><td>4.17e-03</td></tr>\n",
       "\t<tr><td>clu_1778_- </td><td> 5</td><td>chrX:152989331-152991916</td><td>PNMA5 </td><td>cryptic  </td><td>4.33e-03</td></tr>\n",
       "\t<tr><td>clu_59263_+</td><td> 4</td><td>chrX:153768428-153769162</td><td>PLXNB3</td><td>cryptic  </td><td>4.76e-02</td></tr>\n",
       "</tbody>\n",
       "</table>\n"
      ],
      "text/latex": [
       "A data.frame: 7 × 6\n",
       "\\begin{tabular}{llllll}\n",
       " clusterID & N & coord & gene & annotation & FDR\\\\\n",
       " <chr> & <dbl> & <chr> & <chr> & <chr> & <dbl>\\\\\n",
       "\\hline\n",
       "\t clu\\_739\\_-   &  3 & chrX:53217966-53220839   & KDM5C  & annotated & 7.29e-35\\\\\n",
       "\t clu\\_729\\_-   & 12 & chrX:53176622-53193437   & KDM5C  & cryptic   & 2.62e-25\\\\\n",
       "\t clu\\_57947\\_+ &  3 & chrX:47199106-47199480   & UBA1   & cryptic   & 3.27e-11\\\\\n",
       "\t clu\\_736\\_-   &  3 & chrX:53210576-53211497   & KDM5C  & cryptic   & 2.37e-05\\\\\n",
       "\t clu\\_57932\\_+ &  6 & chrX:47084600-47092061   & RGN    & cryptic   & 4.17e-03\\\\\n",
       "\t clu\\_1778\\_-  &  5 & chrX:152989331-152991916 & PNMA5  & cryptic   & 4.33e-03\\\\\n",
       "\t clu\\_59263\\_+ &  4 & chrX:153768428-153769162 & PLXNB3 & cryptic   & 4.76e-02\\\\\n",
       "\\end{tabular}\n"
      ],
      "text/markdown": [
       "\n",
       "A data.frame: 7 × 6\n",
       "\n",
       "| clusterID &lt;chr&gt; | N &lt;dbl&gt; | coord &lt;chr&gt; | gene &lt;chr&gt; | annotation &lt;chr&gt; | FDR &lt;dbl&gt; |\n",
       "|---|---|---|---|---|---|\n",
       "| clu_739_-   |  3 | chrX:53217966-53220839   | KDM5C  | annotated | 7.29e-35 |\n",
       "| clu_729_-   | 12 | chrX:53176622-53193437   | KDM5C  | cryptic   | 2.62e-25 |\n",
       "| clu_57947_+ |  3 | chrX:47199106-47199480   | UBA1   | cryptic   | 3.27e-11 |\n",
       "| clu_736_-   |  3 | chrX:53210576-53211497   | KDM5C  | cryptic   | 2.37e-05 |\n",
       "| clu_57932_+ |  6 | chrX:47084600-47092061   | RGN    | cryptic   | 4.17e-03 |\n",
       "| clu_1778_-  |  5 | chrX:152989331-152991916 | PNMA5  | cryptic   | 4.33e-03 |\n",
       "| clu_59263_+ |  4 | chrX:153768428-153769162 | PLXNB3 | cryptic   | 4.76e-02 |\n",
       "\n"
      ],
      "text/plain": [
       "  clusterID   N  coord                    gene   annotation FDR     \n",
       "1 clu_739_-    3 chrX:53217966-53220839   KDM5C  annotated  7.29e-35\n",
       "2 clu_729_-   12 chrX:53176622-53193437   KDM5C  cryptic    2.62e-25\n",
       "3 clu_57947_+  3 chrX:47199106-47199480   UBA1   cryptic    3.27e-11\n",
       "4 clu_736_-    3 chrX:53210576-53211497   KDM5C  cryptic    2.37e-05\n",
       "5 clu_57932_+  6 chrX:47084600-47092061   RGN    cryptic    4.17e-03\n",
       "6 clu_1778_-   5 chrX:152989331-152991916 PNMA5  cryptic    4.33e-03\n",
       "7 clu_59263_+  4 chrX:153768428-153769162 PLXNB3 cryptic    4.76e-02"
      ]
     },
     "metadata": {},
     "output_type": "display_data"
    }
   ],
   "source": [
    "dir.create(\"x_chromosome\")\n",
    "x_clu = clusters %>% filter(str_detect(coord, \"chrX\"), FDR < 0.05)\n",
    "x_clu"
   ]
  },
  {
   "cell_type": "code",
   "execution_count": null,
   "metadata": {},
   "outputs": [],
   "source": [
    "for(num in 1:dim(x_clu)[1]){\n",
    "    plot_cluster(num, x_clu, \"x_chromosome/\")\n",
    "}"
   ]
  },
  {
   "cell_type": "code",
   "execution_count": 12,
   "metadata": {},
   "outputs": [
    {
     "data": {
      "text/html": [
       "<table class=\"dataframe\">\n",
       "<caption>A data.frame: 0 × 6</caption>\n",
       "<thead>\n",
       "\t<tr><th scope=col>clusterID</th><th scope=col>N</th><th scope=col>coord</th><th scope=col>gene</th><th scope=col>annotation</th><th scope=col>FDR</th></tr>\n",
       "\t<tr><th scope=col>&lt;chr&gt;</th><th scope=col>&lt;dbl&gt;</th><th scope=col>&lt;chr&gt;</th><th scope=col>&lt;chr&gt;</th><th scope=col>&lt;chr&gt;</th><th scope=col>&lt;dbl&gt;</th></tr>\n",
       "</thead>\n",
       "<tbody>\n",
       "</tbody>\n",
       "</table>\n"
      ],
      "text/latex": [
       "A data.frame: 0 × 6\n",
       "\\begin{tabular}{llllll}\n",
       " clusterID & N & coord & gene & annotation & FDR\\\\\n",
       " <chr> & <dbl> & <chr> & <chr> & <chr> & <dbl>\\\\\n",
       "\\hline\n",
       "\\end{tabular}\n"
      ],
      "text/markdown": [
       "\n",
       "A data.frame: 0 × 6\n",
       "\n",
       "| clusterID &lt;chr&gt; | N &lt;dbl&gt; | coord &lt;chr&gt; | gene &lt;chr&gt; | annotation &lt;chr&gt; | FDR &lt;dbl&gt; |\n",
       "|---|---|---|---|---|---|\n",
       "\n"
      ],
      "text/plain": [
       "     clusterID N coord gene annotation FDR"
      ]
     },
     "metadata": {},
     "output_type": "display_data"
    }
   ],
   "source": [
    "#dir.create(\"ank3\")\n",
    "ank3 = clusters %>% filter(gene == 'ANK3')\n",
    "ank3"
   ]
  },
  {
   "cell_type": "code",
   "execution_count": null,
   "metadata": {},
   "outputs": [],
   "source": []
  }
 ],
 "metadata": {
  "kernelspec": {
   "display_name": "R",
   "language": "R",
   "name": "ir"
  },
  "language_info": {
   "codemirror_mode": "r",
   "file_extension": ".r",
   "mimetype": "text/x-r-source",
   "name": "R",
   "pygments_lexer": "r",
   "version": "4.0.3"
  }
 },
 "nbformat": 4,
 "nbformat_minor": 4
}
