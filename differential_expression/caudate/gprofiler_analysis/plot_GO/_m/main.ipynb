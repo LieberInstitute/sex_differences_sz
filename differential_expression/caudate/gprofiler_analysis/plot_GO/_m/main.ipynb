{
 "cells": [
  {
   "cell_type": "markdown",
   "metadata": {},
   "source": [
    "# Visualize GO analysis"
   ]
  },
  {
   "cell_type": "code",
   "execution_count": 1,
   "metadata": {
    "execution": {
     "iopub.execute_input": "2021-07-10T00:49:44.582094Z",
     "iopub.status.busy": "2021-07-10T00:49:44.581040Z",
     "iopub.status.idle": "2021-07-10T00:49:45.034339Z",
     "shell.execute_reply": "2021-07-10T00:49:45.033286Z"
    }
   },
   "outputs": [],
   "source": [
    "import numpy as np\n",
    "import pandas as pd"
   ]
  },
  {
   "cell_type": "code",
   "execution_count": 2,
   "metadata": {
    "execution": {
     "iopub.execute_input": "2021-07-10T00:49:45.040395Z",
     "iopub.status.busy": "2021-07-10T00:49:45.039610Z",
     "iopub.status.idle": "2021-07-10T00:49:45.042533Z",
     "shell.execute_reply": "2021-07-10T00:49:45.041727Z"
    }
   },
   "outputs": [],
   "source": [
    "def get_top_GO(tissue, fn, label):\n",
    "    df = pd.read_csv(fn, sep='\\t').sort_values('p_value').head(10)\n",
    "    df['Log10'] = -np.log10(df['p_value'])\n",
    "    df['Tissue'] = tissue\n",
    "    df['Bias'] = label\n",
    "    return df"
   ]
  },
  {
   "cell_type": "code",
   "execution_count": 3,
   "metadata": {
    "execution": {
     "iopub.execute_input": "2021-07-10T00:49:45.049399Z",
     "iopub.status.busy": "2021-07-10T00:49:45.048619Z",
     "iopub.status.idle": "2021-07-10T00:49:45.086603Z",
     "shell.execute_reply": "2021-07-10T00:49:45.087237Z"
    }
   },
   "outputs": [],
   "source": [
    "tissue = 'caudate'\n",
    "config = {\n",
    "    'All': '../../_m/allDEGs_functional_enrichment.txt',\n",
    "    'Female': '../../_m/female_bias_DEGs_functional_enrichment.txt',\n",
    "    'Male': '../../_m/male_bias_DEGs_functional_enrichment.txt',\n",
    "}\n",
    "\n",
    "df = pd.DataFrame()\n",
    "for bias in ['All', 'Female', 'Male']:\n",
    "    df = pd.concat([df, get_top_GO(tissue, config[bias], bias)], axis=0)"
   ]
  },
  {
   "cell_type": "code",
   "execution_count": 4,
   "metadata": {
    "execution": {
     "iopub.execute_input": "2021-07-10T00:49:45.092902Z",
     "iopub.status.busy": "2021-07-10T00:49:45.092034Z",
     "iopub.status.idle": "2021-07-10T00:49:45.099114Z",
     "shell.execute_reply": "2021-07-10T00:49:45.098412Z"
    }
   },
   "outputs": [],
   "source": [
    "df.to_csv(\"%s_functional_analysis.txt\" % tissue, sep='\\t', index=False)"
   ]
  },
  {
   "cell_type": "code",
   "execution_count": 5,
   "metadata": {
    "execution": {
     "iopub.execute_input": "2021-07-10T00:49:45.111693Z",
     "iopub.status.busy": "2021-07-10T00:49:45.110917Z",
     "iopub.status.idle": "2021-07-10T00:49:45.115707Z",
     "shell.execute_reply": "2021-07-10T00:49:45.114900Z"
    }
   },
   "outputs": [
    {
     "data": {
      "text/plain": [
       "(29, 17)"
      ]
     },
     "execution_count": 1,
     "metadata": {},
     "output_type": "execute_result"
    }
   ],
   "source": [
    "df.shape"
   ]
  },
  {
   "cell_type": "markdown",
   "metadata": {},
   "source": [
    "## Plot "
   ]
  },
  {
   "cell_type": "code",
   "execution_count": 6,
   "metadata": {
    "execution": {
     "iopub.execute_input": "2021-07-10T00:49:45.120552Z",
     "iopub.status.busy": "2021-07-10T00:49:45.119778Z",
     "iopub.status.idle": "2021-07-10T00:49:46.127033Z",
     "shell.execute_reply": "2021-07-10T00:49:46.127583Z"
    }
   },
   "outputs": [],
   "source": [
    "%load_ext rpy2.ipython"
   ]
  },
  {
   "cell_type": "code",
   "execution_count": 7,
   "metadata": {
    "execution": {
     "iopub.execute_input": "2021-07-10T00:49:46.133211Z",
     "iopub.status.busy": "2021-07-10T00:49:46.132561Z",
     "iopub.status.idle": "2021-07-10T00:49:48.255052Z",
     "shell.execute_reply": "2021-07-10T00:49:48.255606Z"
    }
   },
   "outputs": [
    {
     "name": "stderr",
     "output_type": "stream",
     "text": [
      "R[write to console]: ── Attaching packages ─────────────────────────────────────── tidyverse 1.3.1 ──\n",
      "\n",
      "R[write to console]: ✔ tibble  3.1.2     ✔ dplyr   1.0.7\n",
      "✔ tidyr   1.1.3     ✔ stringr 1.4.0\n",
      "✔ readr   1.4.0     ✔ forcats 0.5.1\n",
      "✔ purrr   0.3.4     \n",
      "\n",
      "R[write to console]: ── Conflicts ────────────────────────────────────────── tidyverse_conflicts() ──\n",
      "✖ dplyr::filter() masks stats::filter()\n",
      "✖ dplyr::lag()    masks stats::lag()\n",
      "\n"
     ]
    }
   ],
   "source": [
    "%%R -i df\n",
    "library(ggplot2)\n",
    "library(tidyverse)\n",
    "\n",
    "save_plot <- function(p, fn, w, h){\n",
    "    for(ext in c('.svg', '.png', '.pdf')){\n",
    "        ggsave(file=paste0(fn,ext), plot=p, width=w, height=h)\n",
    "    }\n",
    "}\n",
    "\n",
    "plot_GO <- function(){\n",
    "    cbPalette <- c(\"#000000\", \"Red\", \"Blue\")\n",
    "    gg1 = df %>%\n",
    "        ggplot(aes(x=Log10, y=term_name, color=Bias)) + \n",
    "        geom_point(shape=18, alpha=0.8, size=4) + labs(y='', x='-Log10 (p adjust)') + \n",
    "        theme_bw() + \n",
    "        scale_colour_manual(name=\"Sex Bias\", values=cbPalette, \n",
    "                            labels=c(\"All\", \"Female Bias\", \"Male Bias\")) +\n",
    "        geom_vline(xintercept = -log10(0.05), linetype = \"dotted\") +\n",
    "        theme(axis.text=element_text(size=14),\n",
    "              axis.title=element_text(size=18, face='bold'),\n",
    "              strip.text=element_text(size=18, face='bold'))\n",
    "    return(gg1)\n",
    "}"
   ]
  },
  {
   "cell_type": "code",
   "execution_count": 8,
   "metadata": {
    "execution": {
     "iopub.execute_input": "2021-07-10T00:49:48.263748Z",
     "iopub.status.busy": "2021-07-10T00:49:48.262983Z",
     "iopub.status.idle": "2021-07-10T00:49:49.952573Z",
     "shell.execute_reply": "2021-07-10T00:49:49.953123Z"
    }
   },
   "outputs": [
    {
     "data": {
      "image/png": "[encoded data removed]"
     },
     "metadata": {},
     "output_type": "display_data"
    }
   ],
   "source": [
    "%%R\n",
    "gg1 = plot_GO()\n",
    "print(gg1)\n",
    "save_plot(gg1, \"caudate_GO_top10_stacked\", 12, 6)"
   ]
  },
  {
   "cell_type": "code",
   "execution_count": null,
   "metadata": {},
   "outputs": [],
   "source": []
  }
 ],
 "metadata": {
  "kernelspec": {
   "display_name": "Python 3",
   "language": "python",
   "name": "python3"
  },
  "language_info": {
   "codemirror_mode": {
    "name": "ipython",
    "version": 3
   },
   "file_extension": ".py",
   "mimetype": "text/x-python",
   "name": "python",
   "nbconvert_exporter": "python",
   "pygments_lexer": "ipython3",
   "version": "3.9.1"
  }
 },
 "nbformat": 4,
 "nbformat_minor": 4
}
