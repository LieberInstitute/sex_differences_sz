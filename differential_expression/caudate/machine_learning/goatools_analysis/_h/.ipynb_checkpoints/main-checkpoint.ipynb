{
 "cells": [
  {
   "cell_type": "markdown",
   "metadata": {},
   "source": [
    "# GO analysis using GOATOOLS"
   ]
  },
  {
   "cell_type": "code",
   "execution_count": 1,
   "metadata": {},
   "outputs": [],
   "source": [
    "import pandas as pd\n",
    "import collections as cx\n",
    "from pybiomart import Dataset\n",
    "# GO analysis\n",
    "from goatools.base import download_go_basic_obo\n",
    "from goatools.base import download_ncbi_associations\n",
    "from goatools.obo_parser import GODag\n",
    "from goatools.anno.genetogo_reader import Gene2GoReader\n",
    "from goatools.goea.go_enrichment_ns import GOEnrichmentStudyNS"
   ]
  },
  {
   "cell_type": "code",
   "execution_count": 19,
   "metadata": {},
   "outputs": [],
   "source": [
    "def get_database():\n",
    "    dataset = Dataset(name=\"hsapiens_gene_ensembl\", \n",
    "                      host=\"http://www.ensembl.org\",\n",
    "                      use_cache=True)\n",
    "    db = dataset.query(attributes=[\"ensembl_gene_id\", \n",
    "                                   \"external_gene_name\", \n",
    "                                   \"entrezgene_id\"], \n",
    "                       use_attr_names=True).dropna(subset=['entrezgene_id'])\n",
    "    return db\n",
    "\n",
    "\n",
    "def convert2entrez():\n",
    "    fn = '../../_m/genes/diffExpr_maleVfemale_FDR05.txt'\n",
    "    df = pd.read_csv(fn, sep='\\t')\n",
    "    if 'EntrezID' in df.columns:\n",
    "        return df.rename(columns={'EntrezID': 'entrezgene_id'})\n",
    "    else: \n",
    "        return df.merge(get_database(), left_on='ensemblID', \n",
    "                        right_on='ensembl_gene_id')\n",
    "    "
   ]
  },
  {
   "cell_type": "code",
   "execution_count": 20,
   "metadata": {},
   "outputs": [],
   "source": [
    "def obo_annotation(alpha=0.05):\n",
    "    # database annotation\n",
    "    fn_obo = download_go_basic_obo()\n",
    "    fn_gene2go = download_ncbi_associations() # must be gunzip to work\n",
    "    obodag = GODag(fn_obo) # downloads most up-to-date\n",
    "    anno_hs = Gene2GoReader(fn_gene2go, taxids=[9606])\n",
    "    # get associations\n",
    "    ns2assoc = anno_hs.get_ns2assc()\n",
    "    for nspc, id2gos in ns2assoc.items():\n",
    "        print(\"{NS} {N:,} annotated human genes\".format(NS=nspc, N=len(id2gos)))\n",
    "    goeaobj = GOEnrichmentStudyNS(\n",
    "        get_database()['entrezgene_id'], # List of human genes with entrez IDs\n",
    "        ns2assoc, # geneid/GO associations\n",
    "        obodag, # Ontologies\n",
    "        propagate_counts = False,\n",
    "        alpha = alpha, # default significance cut-off\n",
    "        methods = ['fdr_bh'])\n",
    "    return goeaobj\n"
   ]
  },
  {
   "cell_type": "code",
   "execution_count": 21,
   "metadata": {},
   "outputs": [],
   "source": [
    "df = convert2entrez()\n",
    "\n",
    "geneids_study = {z[0]:z[1] for z in zip(df['entrezgene_id'], df['Symbol'])}\n",
    "goeaobj = obo_annotation()\n",
    "goea_results_all = goeaobj.run_study(geneids_study)\n",
    "goea_results_sig = [r for r in goea_results_all if r.p_fdr_bh < 0.05]\n",
    "\n",
    "ctr = cx.Counter([r.NS for r in goea_results_sig])\n",
    "print('Significant results[{TOTAL}] = {BP} BP + {MF} MF + {CC} CC'.format(\n",
    "    TOTAL=len(goea_results_sig),\n",
    "    BP=ctr['BP'],  # biological_process\n",
    "    MF=ctr['MF'],  # molecular_function\n",
    "    CC=ctr['CC'])) # cellular_component\n",
    "\n",
    "goeaobj.wr_xlsx(\"GO_analysis.xlsx\", goea_results_sig)\n",
    "goeaobj.wr_txt(\"GO_analysis.txt\", goea_results_sig)"
   ]
  },
  {
   "cell_type": "code",
   "execution_count": null,
   "metadata": {},
   "outputs": [],
   "source": []
  }
 ],
 "metadata": {
  "kernelspec": {
   "display_name": "Python 3",
   "language": "python",
   "name": "python3"
  },
  "language_info": {
   "codemirror_mode": {
    "name": "ipython",
    "version": 3
   },
   "file_extension": ".py",
   "mimetype": "text/x-python",
   "name": "python",
   "nbconvert_exporter": "python",
   "pygments_lexer": "ipython3",
   "version": "3.8.1"
  }
 },
 "nbformat": 4,
 "nbformat_minor": 4
}
