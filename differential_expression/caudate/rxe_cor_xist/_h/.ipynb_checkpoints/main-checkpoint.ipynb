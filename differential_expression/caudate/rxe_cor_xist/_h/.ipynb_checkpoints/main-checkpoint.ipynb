{
 "cells": [
  {
   "cell_type": "code",
   "execution_count": 1,
   "metadata": {},
   "outputs": [],
   "source": [
    "import pandas as pd\n",
    "from plotnine import *\n",
    "import scipy"
   ]
  },
  {
   "cell_type": "code",
   "execution_count": 2,
   "metadata": {},
   "outputs": [],
   "source": [
    "rxe = pd.read_csv('../../_m/RXE.csv', index_col=0)"
   ]
  },
  {
   "cell_type": "code",
   "execution_count": 3,
   "metadata": {},
   "outputs": [],
   "source": [
    "expr_file = '../../../hisat2/featureCounts/annotate/differential_expression/analysis/median_voom_expr/_m/median_voom_expression.txt'\n",
    "expr = pd.read_csv(expr_file, sep='\\t')"
   ]
  },
  {
   "cell_type": "code",
   "execution_count": 4,
   "metadata": {},
   "outputs": [
    {
     "data": {
      "text/html": [
       "<div>\n",
       "<style scoped>\n",
       "    .dataframe tbody tr th:only-of-type {\n",
       "        vertical-align: middle;\n",
       "    }\n",
       "\n",
       "    .dataframe tbody tr th {\n",
       "        vertical-align: top;\n",
       "    }\n",
       "\n",
       "    .dataframe thead th {\n",
       "        text-align: right;\n",
       "    }\n",
       "</style>\n",
       "<table border=\"1\" class=\"dataframe\">\n",
       "  <thead>\n",
       "    <tr style=\"text-align: right;\">\n",
       "      <th></th>\n",
       "      <th>X</th>\n",
       "      <th>autosome</th>\n",
       "      <th>sample</th>\n",
       "      <th>RXE</th>\n",
       "    </tr>\n",
       "  </thead>\n",
       "  <tbody>\n",
       "    <tr>\n",
       "      <th>33110-2A</th>\n",
       "      <td>2.781829</td>\n",
       "      <td>2.675363</td>\n",
       "      <td>33110-2A</td>\n",
       "      <td>0.106466</td>\n",
       "    </tr>\n",
       "    <tr>\n",
       "      <th>33110-2E</th>\n",
       "      <td>2.984351</td>\n",
       "      <td>2.783997</td>\n",
       "      <td>33110-2E</td>\n",
       "      <td>0.200354</td>\n",
       "    </tr>\n",
       "    <tr>\n",
       "      <th>33110_2F</th>\n",
       "      <td>2.811588</td>\n",
       "      <td>2.663365</td>\n",
       "      <td>33110_2F</td>\n",
       "      <td>0.148222</td>\n",
       "    </tr>\n",
       "    <tr>\n",
       "      <th>33360-B</th>\n",
       "      <td>2.810711</td>\n",
       "      <td>2.624109</td>\n",
       "      <td>33360-B</td>\n",
       "      <td>0.186602</td>\n",
       "    </tr>\n",
       "    <tr>\n",
       "      <th>33360-D</th>\n",
       "      <td>2.665984</td>\n",
       "      <td>2.572241</td>\n",
       "      <td>33360-D</td>\n",
       "      <td>0.093743</td>\n",
       "    </tr>\n",
       "    <tr>\n",
       "      <th>33360_A</th>\n",
       "      <td>2.897704</td>\n",
       "      <td>2.780024</td>\n",
       "      <td>33360_A</td>\n",
       "      <td>0.117680</td>\n",
       "    </tr>\n",
       "    <tr>\n",
       "      <th>33811-A</th>\n",
       "      <td>2.894545</td>\n",
       "      <td>2.724462</td>\n",
       "      <td>33811-A</td>\n",
       "      <td>0.170083</td>\n",
       "    </tr>\n",
       "    <tr>\n",
       "      <th>33811-B</th>\n",
       "      <td>2.719832</td>\n",
       "      <td>2.667873</td>\n",
       "      <td>33811-B</td>\n",
       "      <td>0.051959</td>\n",
       "    </tr>\n",
       "  </tbody>\n",
       "</table>\n",
       "</div>"
      ],
      "text/plain": [
       "                 X  autosome    sample       RXE\n",
       "33110-2A  2.781829  2.675363  33110-2A  0.106466\n",
       "33110-2E  2.984351  2.783997  33110-2E  0.200354\n",
       "33110_2F  2.811588  2.663365  33110_2F  0.148222\n",
       "33360-B   2.810711  2.624109   33360-B  0.186602\n",
       "33360-D   2.665984  2.572241   33360-D  0.093743\n",
       "33360_A   2.897704  2.780024   33360_A  0.117680\n",
       "33811-A   2.894545  2.724462   33811-A  0.170083\n",
       "33811-B   2.719832  2.667873   33811-B  0.051959"
      ]
     },
     "execution_count": 4,
     "metadata": {},
     "output_type": "execute_result"
    }
   ],
   "source": [
    "rxe.head(10)"
   ]
  },
  {
   "cell_type": "code",
   "execution_count": 5,
   "metadata": {},
   "outputs": [
    {
     "data": {
      "text/html": [
       "<div>\n",
       "<style scoped>\n",
       "    .dataframe tbody tr th:only-of-type {\n",
       "        vertical-align: middle;\n",
       "    }\n",
       "\n",
       "    .dataframe tbody tr th {\n",
       "        vertical-align: top;\n",
       "    }\n",
       "\n",
       "    .dataframe thead th {\n",
       "        text-align: right;\n",
       "    }\n",
       "</style>\n",
       "<table border=\"1\" class=\"dataframe\">\n",
       "  <thead>\n",
       "    <tr style=\"text-align: right;\">\n",
       "      <th>Symbol</th>\n",
       "      <th>XIST</th>\n",
       "      <th>XACT</th>\n",
       "    </tr>\n",
       "  </thead>\n",
       "  <tbody>\n",
       "    <tr>\n",
       "      <th>33110-2A</th>\n",
       "      <td>7.274322</td>\n",
       "      <td>2.312887</td>\n",
       "    </tr>\n",
       "    <tr>\n",
       "      <th>33110-2E</th>\n",
       "      <td>0.469647</td>\n",
       "      <td>2.650880</td>\n",
       "    </tr>\n",
       "    <tr>\n",
       "      <th>33110_2F</th>\n",
       "      <td>3.540721</td>\n",
       "      <td>2.625499</td>\n",
       "    </tr>\n",
       "    <tr>\n",
       "      <th>33360-B</th>\n",
       "      <td>-0.767196</td>\n",
       "      <td>2.941065</td>\n",
       "    </tr>\n",
       "    <tr>\n",
       "      <th>33360-D</th>\n",
       "      <td>6.065755</td>\n",
       "      <td>2.666900</td>\n",
       "    </tr>\n",
       "    <tr>\n",
       "      <th>33360_A</th>\n",
       "      <td>5.089804</td>\n",
       "      <td>2.932314</td>\n",
       "    </tr>\n",
       "    <tr>\n",
       "      <th>33811-A</th>\n",
       "      <td>4.550161</td>\n",
       "      <td>3.238348</td>\n",
       "    </tr>\n",
       "    <tr>\n",
       "      <th>33811-B</th>\n",
       "      <td>6.658098</td>\n",
       "      <td>1.716070</td>\n",
       "    </tr>\n",
       "  </tbody>\n",
       "</table>\n",
       "</div>"
      ],
      "text/plain": [
       "Symbol        XIST      XACT\n",
       "33110-2A  7.274322  2.312887\n",
       "33110-2E  0.469647  2.650880\n",
       "33110_2F  3.540721  2.625499\n",
       "33360-B  -0.767196  2.941065\n",
       "33360-D   6.065755  2.666900\n",
       "33360_A   5.089804  2.932314\n",
       "33811-A   4.550161  3.238348\n",
       "33811-B   6.658098  1.716070"
      ]
     },
     "execution_count": 5,
     "metadata": {},
     "output_type": "execute_result"
    }
   ],
   "source": [
    "xexpr = expr[expr['Symbol'].isin(['XACT', 'XIST'])].set_index('Symbol')[rxe.index].transpose()\n",
    "xexpr"
   ]
  },
  {
   "cell_type": "code",
   "execution_count": 6,
   "metadata": {},
   "outputs": [],
   "source": [
    "df = rxe.merge(xexpr, left_index=True, right_index=True)"
   ]
  },
  {
   "cell_type": "code",
   "execution_count": 7,
   "metadata": {},
   "outputs": [
    {
     "data": {
      "text/html": [
       "<div>\n",
       "<style scoped>\n",
       "    .dataframe tbody tr th:only-of-type {\n",
       "        vertical-align: middle;\n",
       "    }\n",
       "\n",
       "    .dataframe tbody tr th {\n",
       "        vertical-align: top;\n",
       "    }\n",
       "\n",
       "    .dataframe thead th {\n",
       "        text-align: right;\n",
       "    }\n",
       "</style>\n",
       "<table border=\"1\" class=\"dataframe\">\n",
       "  <thead>\n",
       "    <tr style=\"text-align: right;\">\n",
       "      <th></th>\n",
       "      <th>X</th>\n",
       "      <th>autosome</th>\n",
       "      <th>sample</th>\n",
       "      <th>RXE</th>\n",
       "      <th>XIST</th>\n",
       "      <th>XACT</th>\n",
       "    </tr>\n",
       "  </thead>\n",
       "  <tbody>\n",
       "    <tr>\n",
       "      <th>33110-2A</th>\n",
       "      <td>2.781829</td>\n",
       "      <td>2.675363</td>\n",
       "      <td>33110-2A</td>\n",
       "      <td>0.106466</td>\n",
       "      <td>7.274322</td>\n",
       "      <td>2.312887</td>\n",
       "    </tr>\n",
       "    <tr>\n",
       "      <th>33110-2E</th>\n",
       "      <td>2.984351</td>\n",
       "      <td>2.783997</td>\n",
       "      <td>33110-2E</td>\n",
       "      <td>0.200354</td>\n",
       "      <td>0.469647</td>\n",
       "      <td>2.650880</td>\n",
       "    </tr>\n",
       "    <tr>\n",
       "      <th>33110_2F</th>\n",
       "      <td>2.811588</td>\n",
       "      <td>2.663365</td>\n",
       "      <td>33110_2F</td>\n",
       "      <td>0.148222</td>\n",
       "      <td>3.540721</td>\n",
       "      <td>2.625499</td>\n",
       "    </tr>\n",
       "    <tr>\n",
       "      <th>33360-B</th>\n",
       "      <td>2.810711</td>\n",
       "      <td>2.624109</td>\n",
       "      <td>33360-B</td>\n",
       "      <td>0.186602</td>\n",
       "      <td>-0.767196</td>\n",
       "      <td>2.941065</td>\n",
       "    </tr>\n",
       "    <tr>\n",
       "      <th>33360-D</th>\n",
       "      <td>2.665984</td>\n",
       "      <td>2.572241</td>\n",
       "      <td>33360-D</td>\n",
       "      <td>0.093743</td>\n",
       "      <td>6.065755</td>\n",
       "      <td>2.666900</td>\n",
       "    </tr>\n",
       "    <tr>\n",
       "      <th>33360_A</th>\n",
       "      <td>2.897704</td>\n",
       "      <td>2.780024</td>\n",
       "      <td>33360_A</td>\n",
       "      <td>0.117680</td>\n",
       "      <td>5.089804</td>\n",
       "      <td>2.932314</td>\n",
       "    </tr>\n",
       "    <tr>\n",
       "      <th>33811-A</th>\n",
       "      <td>2.894545</td>\n",
       "      <td>2.724462</td>\n",
       "      <td>33811-A</td>\n",
       "      <td>0.170083</td>\n",
       "      <td>4.550161</td>\n",
       "      <td>3.238348</td>\n",
       "    </tr>\n",
       "    <tr>\n",
       "      <th>33811-B</th>\n",
       "      <td>2.719832</td>\n",
       "      <td>2.667873</td>\n",
       "      <td>33811-B</td>\n",
       "      <td>0.051959</td>\n",
       "      <td>6.658098</td>\n",
       "      <td>1.716070</td>\n",
       "    </tr>\n",
       "  </tbody>\n",
       "</table>\n",
       "</div>"
      ],
      "text/plain": [
       "                 X  autosome    sample       RXE      XIST      XACT\n",
       "33110-2A  2.781829  2.675363  33110-2A  0.106466  7.274322  2.312887\n",
       "33110-2E  2.984351  2.783997  33110-2E  0.200354  0.469647  2.650880\n",
       "33110_2F  2.811588  2.663365  33110_2F  0.148222  3.540721  2.625499\n",
       "33360-B   2.810711  2.624109   33360-B  0.186602 -0.767196  2.941065\n",
       "33360-D   2.665984  2.572241   33360-D  0.093743  6.065755  2.666900\n",
       "33360_A   2.897704  2.780024   33360_A  0.117680  5.089804  2.932314\n",
       "33811-A   2.894545  2.724462   33811-A  0.170083  4.550161  3.238348\n",
       "33811-B   2.719832  2.667873   33811-B  0.051959  6.658098  1.716070"
      ]
     },
     "execution_count": 7,
     "metadata": {},
     "output_type": "execute_result"
    }
   ],
   "source": [
    "df"
   ]
  },
  {
   "cell_type": "code",
   "execution_count": 8,
   "metadata": {},
   "outputs": [],
   "source": [
    "def myplot(df, gene):\n",
    "    return ggplot(df, aes(x=gene, y='RXE')) \\\n",
    "    + geom_point() \\\n",
    "    + ggtitle(gene + '\\nPearson r = %f\\npvalue = %f' % scipy.stats.pearsonr(df[gene], df['RXE'])) \\\n",
    "    + geom_smooth(method='lm')"
   ]
  },
  {
   "cell_type": "code",
   "execution_count": 9,
   "metadata": {},
   "outputs": [
    {
     "name": "stderr",
     "output_type": "stream",
     "text": [
      "/usr/lib/python3.8/site-packages/plotnine/ggplot.py:727: PlotnineWarning: Saving 6.4 x 4.8 in image.\n",
      "  warn(\"Saving {0} x {1} {2} image.\".format(\n",
      "/usr/lib/python3.8/site-packages/plotnine/ggplot.py:730: PlotnineWarning: Filename: XIST.pdf\n",
      "  warn('Filename: {}'.format(filename), PlotnineWarning)\n"
     ]
    },
    {
     "data": {
      "image/png": "[encoded data removed]",
      "text/plain": [
       "<Figure size 640x480 with 1 Axes>"
      ]
     },
     "metadata": {},
     "output_type": "display_data"
    },
    {
     "name": "stdout",
     "output_type": "stream",
     "text": [
      "<ggplot: (8730366820524)>\n"
     ]
    },
    {
     "name": "stderr",
     "output_type": "stream",
     "text": [
      "/usr/lib/python3.8/site-packages/plotnine/ggplot.py:727: PlotnineWarning: Saving 6.4 x 4.8 in image.\n",
      "  warn(\"Saving {0} x {1} {2} image.\".format(\n",
      "/usr/lib/python3.8/site-packages/plotnine/ggplot.py:730: PlotnineWarning: Filename: XACT.pdf\n",
      "  warn('Filename: {}'.format(filename), PlotnineWarning)\n"
     ]
    },
    {
     "data": {
      "image/png": "[encoded data removed]",
      "text/plain": [
       "<Figure size 640x480 with 1 Axes>"
      ]
     },
     "metadata": {},
     "output_type": "display_data"
    },
    {
     "name": "stdout",
     "output_type": "stream",
     "text": [
      "<ggplot: (8730366828978)>\n"
     ]
    }
   ],
   "source": [
    "for gene in ['XIST', 'XACT']:\n",
    "    p = myplot(df, gene)\n",
    "    p.save('%s.pdf' % gene)\n",
    "    print(p)"
   ]
  },
  {
   "cell_type": "code",
   "execution_count": null,
   "metadata": {},
   "outputs": [],
   "source": []
  }
 ],
 "metadata": {
  "kernelspec": {
   "display_name": "Python 3",
   "language": "python",
   "name": "python3"
  },
  "language_info": {
   "codemirror_mode": {
    "name": "ipython",
    "version": 3
   },
   "file_extension": ".py",
   "mimetype": "text/x-python",
   "name": "python",
   "nbconvert_exporter": "python",
   "pygments_lexer": "ipython3",
   "version": "3.8.1"
  }
 },
 "nbformat": 4,
 "nbformat_minor": 4
}
