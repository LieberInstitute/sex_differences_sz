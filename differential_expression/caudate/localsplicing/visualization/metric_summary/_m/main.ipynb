{
 "cells": [
  {
   "cell_type": "markdown",
   "metadata": {},
   "source": [
    "# Metrics summary for splicing"
   ]
  },
  {
   "cell_type": "code",
   "execution_count": 1,
   "metadata": {
    "execution": {
     "iopub.execute_input": "2021-07-10T10:47:33.245747Z",
     "iopub.status.busy": "2021-07-10T10:47:33.244912Z",
     "iopub.status.idle": "2021-07-10T10:47:33.673620Z",
     "shell.execute_reply": "2021-07-10T10:47:33.672273Z"
    }
   },
   "outputs": [],
   "source": [
    "import numpy as np\n",
    "import pandas as pd"
   ]
  },
  {
   "cell_type": "code",
   "execution_count": 2,
   "metadata": {
    "execution": {
     "iopub.execute_input": "2021-07-10T10:47:33.681302Z",
     "iopub.status.busy": "2021-07-10T10:47:33.680178Z",
     "iopub.status.idle": "2021-07-10T10:47:33.707888Z",
     "shell.execute_reply": "2021-07-10T10:47:33.706795Z"
    }
   },
   "outputs": [
    {
     "data": {
      "text/html": [
       "<div>\n",
       "<style scoped>\n",
       "    .dataframe tbody tr th:only-of-type {\n",
       "        vertical-align: middle;\n",
       "    }\n",
       "\n",
       "    .dataframe tbody tr th {\n",
       "        vertical-align: top;\n",
       "    }\n",
       "\n",
       "    .dataframe thead th {\n",
       "        text-align: right;\n",
       "    }\n",
       "</style>\n",
       "<table border=\"1\" class=\"dataframe\">\n",
       "  <thead>\n",
       "    <tr style=\"text-align: right;\">\n",
       "      <th></th>\n",
       "      <th>clusterID</th>\n",
       "      <th>N</th>\n",
       "      <th>coord</th>\n",
       "      <th>gene</th>\n",
       "      <th>annotation</th>\n",
       "      <th>FDR</th>\n",
       "      <th>chr</th>\n",
       "    </tr>\n",
       "  </thead>\n",
       "  <tbody>\n",
       "    <tr>\n",
       "      <th>0</th>\n",
       "      <td>clu_765_-</td>\n",
       "      <td>3</td>\n",
       "      <td>chrX:53217966-53220839</td>\n",
       "      <td>KDM5C</td>\n",
       "      <td>annotated</td>\n",
       "      <td>1.040000e-37</td>\n",
       "      <td>chrX</td>\n",
       "    </tr>\n",
       "    <tr>\n",
       "      <th>1</th>\n",
       "      <td>clu_758_-</td>\n",
       "      <td>10</td>\n",
       "      <td>chrX:53176622-53193437</td>\n",
       "      <td>KDM5C</td>\n",
       "      <td>cryptic</td>\n",
       "      <td>2.460000e-37</td>\n",
       "      <td>chrX</td>\n",
       "    </tr>\n",
       "  </tbody>\n",
       "</table>\n",
       "</div>"
      ],
      "text/plain": [
       "   clusterID   N                   coord   gene annotation           FDR   chr\n",
       "0  clu_765_-   3  chrX:53217966-53220839  KDM5C  annotated  1.040000e-37  chrX\n",
       "1  clu_758_-  10  chrX:53176622-53193437  KDM5C    cryptic  2.460000e-37  chrX"
      ]
     },
     "execution_count": 1,
     "metadata": {},
     "output_type": "execute_result"
    }
   ],
   "source": [
    "df = pd.read_csv('../../_m/cluster_ds_results_annotated.txt', sep='\\t')\n",
    "df['chr'] = df.coord.str.split(\":\", expand=True)[0]\n",
    "df.head(2)"
   ]
  },
  {
   "cell_type": "code",
   "execution_count": 3,
   "metadata": {
    "execution": {
     "iopub.execute_input": "2021-07-10T10:47:33.716244Z",
     "iopub.status.busy": "2021-07-10T10:47:33.714746Z",
     "iopub.status.idle": "2021-07-10T10:47:33.719768Z",
     "shell.execute_reply": "2021-07-10T10:47:33.720946Z"
    }
   },
   "outputs": [
    {
     "name": "stdout",
     "output_type": "stream",
     "text": [
      "There are 132 unique DS!\n",
      "There are 118 unique DS (gene name)!\n"
     ]
    }
   ],
   "source": [
    "print(\"There are %d unique DS!\" % len(df.clusterID.unique()))\n",
    "print(\"There are %d unique DS (gene name)!\" % len(df.gene.unique()))"
   ]
  },
  {
   "cell_type": "code",
   "execution_count": 4,
   "metadata": {
    "execution": {
     "iopub.execute_input": "2021-07-10T10:47:33.731289Z",
     "iopub.status.busy": "2021-07-10T10:47:33.729828Z",
     "iopub.status.idle": "2021-07-10T10:47:33.734849Z",
     "shell.execute_reply": "2021-07-10T10:47:33.735977Z"
    }
   },
   "outputs": [
    {
     "name": "stdout",
     "output_type": "stream",
     "text": [
      "There are 11 unique DS for allosomes!\n",
      "There are 6 unique DS (gene name) for allosomes!\n"
     ]
    }
   ],
   "source": [
    "dfx = df[(df['chr']=='chrX')].copy()\n",
    "print(\"There are %d unique DS for allosomes!\" % len(dfx.clusterID.unique()))\n",
    "print(\"There are %d unique DS (gene name) for allosomes!\" % len(dfx.gene.unique()))"
   ]
  },
  {
   "cell_type": "code",
   "execution_count": 5,
   "metadata": {
    "execution": {
     "iopub.execute_input": "2021-07-10T10:47:33.742929Z",
     "iopub.status.busy": "2021-07-10T10:47:33.742238Z",
     "iopub.status.idle": "2021-07-10T10:47:33.748889Z",
     "shell.execute_reply": "2021-07-10T10:47:33.748116Z"
    }
   },
   "outputs": [
    {
     "name": "stdout",
     "output_type": "stream",
     "text": [
      "There are 121 unique DS for autosomes!\n",
      "There are 112 unique DS (gene name) for autosomes!\n"
     ]
    }
   ],
   "source": [
    "print(\"There are %d unique DS for autosomes!\" % (len(df.clusterID.unique()) - len(dfx.clusterID.unique())))\n",
    "print(\"There are %d unique DS (gene name) for autosomes!\" % (len(df.gene.unique()) - len(dfx.gene.unique())))"
   ]
  },
  {
   "cell_type": "code",
   "execution_count": null,
   "metadata": {},
   "outputs": [],
   "source": []
  }
 ],
 "metadata": {
  "kernelspec": {
   "display_name": "Python 3",
   "language": "python",
   "name": "python3"
  },
  "language_info": {
   "codemirror_mode": {
    "name": "ipython",
    "version": 3
   },
   "file_extension": ".py",
   "mimetype": "text/x-python",
   "name": "python",
   "nbconvert_exporter": "python",
   "pygments_lexer": "ipython3",
   "version": "3.9.1"
  }
 },
 "nbformat": 4,
 "nbformat_minor": 4
}
