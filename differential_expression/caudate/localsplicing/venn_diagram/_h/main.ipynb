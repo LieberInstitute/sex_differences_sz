{
 "cells": [
  {
   "cell_type": "markdown",
   "metadata": {},
   "source": [
    "# Venn diagram"
   ]
  },
  {
   "cell_type": "code",
   "execution_count": 2,
   "metadata": {},
   "outputs": [],
   "source": [
    "import numpy as np\n",
    "import pandas as pd\n",
    "from venn import venn\n",
    "from gtfparse import read_gtf\n",
    "from matplotlib import pyplot as plt"
   ]
  },
  {
   "cell_type": "markdown",
   "metadata": {},
   "source": [
    "## Load other features"
   ]
  },
  {
   "cell_type": "code",
   "execution_count": 3,
   "metadata": {},
   "outputs": [],
   "source": [
    "basename = '../../../differential_expression/_m/'"
   ]
  },
  {
   "cell_type": "code",
   "execution_count": 4,
   "metadata": {},
   "outputs": [
    {
     "data": {
      "text/html": [
       "<div>\n",
       "<style scoped>\n",
       "    .dataframe tbody tr th:only-of-type {\n",
       "        vertical-align: middle;\n",
       "    }\n",
       "\n",
       "    .dataframe tbody tr th {\n",
       "        vertical-align: top;\n",
       "    }\n",
       "\n",
       "    .dataframe thead th {\n",
       "        text-align: right;\n",
       "    }\n",
       "</style>\n",
       "<table border=\"1\" class=\"dataframe\">\n",
       "  <thead>\n",
       "    <tr style=\"text-align: right;\">\n",
       "      <th></th>\n",
       "      <th>Feature</th>\n",
       "      <th>Symbol</th>\n",
       "      <th>ensemblID</th>\n",
       "      <th>logFC</th>\n",
       "      <th>adj.P.Val</th>\n",
       "      <th>Type</th>\n",
       "    </tr>\n",
       "  </thead>\n",
       "  <tbody>\n",
       "    <tr>\n",
       "      <th>ENSG00000248587.7</th>\n",
       "      <td>ENSG00000248587.7</td>\n",
       "      <td>GDNF-AS1</td>\n",
       "      <td>ENSG00000248587</td>\n",
       "      <td>0.783380</td>\n",
       "      <td>5.588297e-25</td>\n",
       "      <td>gene</td>\n",
       "    </tr>\n",
       "    <tr>\n",
       "      <th>ENSG00000138944.7</th>\n",
       "      <td>ENSG00000138944.7</td>\n",
       "      <td>KIAA1644</td>\n",
       "      <td>ENSG00000138944</td>\n",
       "      <td>0.554096</td>\n",
       "      <td>2.290585e-23</td>\n",
       "      <td>gene</td>\n",
       "    </tr>\n",
       "    <tr>\n",
       "      <th>ENSG00000185052.11</th>\n",
       "      <td>ENSG00000185052.11</td>\n",
       "      <td>SLC24A3</td>\n",
       "      <td>ENSG00000185052</td>\n",
       "      <td>0.294386</td>\n",
       "      <td>1.124977e-21</td>\n",
       "      <td>gene</td>\n",
       "    </tr>\n",
       "    <tr>\n",
       "      <th>ENSG00000140015.19</th>\n",
       "      <td>ENSG00000140015.19</td>\n",
       "      <td>KCNH5</td>\n",
       "      <td>ENSG00000140015</td>\n",
       "      <td>0.509622</td>\n",
       "      <td>2.104975e-17</td>\n",
       "      <td>gene</td>\n",
       "    </tr>\n",
       "    <tr>\n",
       "      <th>ENSG00000171004.17</th>\n",
       "      <td>ENSG00000171004.17</td>\n",
       "      <td>HS6ST2</td>\n",
       "      <td>ENSG00000171004</td>\n",
       "      <td>0.304015</td>\n",
       "      <td>1.238486e-16</td>\n",
       "      <td>gene</td>\n",
       "    </tr>\n",
       "  </tbody>\n",
       "</table>\n",
       "</div>"
      ],
      "text/plain": [
       "                               Feature    Symbol        ensemblID     logFC  \\\n",
       "ENSG00000248587.7    ENSG00000248587.7  GDNF-AS1  ENSG00000248587  0.783380   \n",
       "ENSG00000138944.7    ENSG00000138944.7  KIAA1644  ENSG00000138944  0.554096   \n",
       "ENSG00000185052.11  ENSG00000185052.11   SLC24A3  ENSG00000185052  0.294386   \n",
       "ENSG00000140015.19  ENSG00000140015.19     KCNH5  ENSG00000140015  0.509622   \n",
       "ENSG00000171004.17  ENSG00000171004.17    HS6ST2  ENSG00000171004  0.304015   \n",
       "\n",
       "                       adj.P.Val  Type  \n",
       "ENSG00000248587.7   5.588297e-25  gene  \n",
       "ENSG00000138944.7   2.290585e-23  gene  \n",
       "ENSG00000185052.11  1.124977e-21  gene  \n",
       "ENSG00000140015.19  2.104975e-17  gene  \n",
       "ENSG00000171004.17  1.238486e-16  gene  "
      ]
     },
     "execution_count": 4,
     "metadata": {},
     "output_type": "execute_result"
    }
   ],
   "source": [
    "genes = pd.read_csv(basename+'genes/diffExpr_szVctl_full.txt', sep='\\t')\n",
    "genes = genes[(genes['adj.P.Val'] < 0.05)].sort_values('adj.P.Val')\n",
    "genes['Feature'] = genes.index\n",
    "genes = genes[['Feature', 'Symbol', 'ensemblID', 'logFC', 'adj.P.Val']]\n",
    "genes['Type'] = 'gene'\n",
    "genes.head()"
   ]
  },
  {
   "cell_type": "code",
   "execution_count": 5,
   "metadata": {},
   "outputs": [
    {
     "data": {
      "text/html": [
       "<div>\n",
       "<style scoped>\n",
       "    .dataframe tbody tr th:only-of-type {\n",
       "        vertical-align: middle;\n",
       "    }\n",
       "\n",
       "    .dataframe tbody tr th {\n",
       "        vertical-align: top;\n",
       "    }\n",
       "\n",
       "    .dataframe thead th {\n",
       "        text-align: right;\n",
       "    }\n",
       "</style>\n",
       "<table border=\"1\" class=\"dataframe\">\n",
       "  <thead>\n",
       "    <tr style=\"text-align: right;\">\n",
       "      <th></th>\n",
       "      <th>Feature</th>\n",
       "      <th>Symbol</th>\n",
       "      <th>ensemblID</th>\n",
       "      <th>logFC</th>\n",
       "      <th>adj.P.Val</th>\n",
       "      <th>Type</th>\n",
       "    </tr>\n",
       "  </thead>\n",
       "  <tbody>\n",
       "    <tr>\n",
       "      <th>e1138732</th>\n",
       "      <td>e1138732</td>\n",
       "      <td>KIAA1644</td>\n",
       "      <td>ENSG00000138944</td>\n",
       "      <td>0.564275</td>\n",
       "      <td>6.301132e-22</td>\n",
       "      <td>exon</td>\n",
       "    </tr>\n",
       "    <tr>\n",
       "      <th>e326758</th>\n",
       "      <td>e326758</td>\n",
       "      <td>GDNF-AS1</td>\n",
       "      <td>ENSG00000248587</td>\n",
       "      <td>1.140210</td>\n",
       "      <td>8.265196e-21</td>\n",
       "      <td>exon</td>\n",
       "    </tr>\n",
       "    <tr>\n",
       "      <th>e326763</th>\n",
       "      <td>e326763</td>\n",
       "      <td>GDNF-AS1</td>\n",
       "      <td>ENSG00000248587</td>\n",
       "      <td>0.764401</td>\n",
       "      <td>6.803448e-20</td>\n",
       "      <td>exon</td>\n",
       "    </tr>\n",
       "    <tr>\n",
       "      <th>e1083244</th>\n",
       "      <td>e1083244</td>\n",
       "      <td>SLC24A3</td>\n",
       "      <td>ENSG00000185052</td>\n",
       "      <td>0.305384</td>\n",
       "      <td>8.318522e-19</td>\n",
       "      <td>exon</td>\n",
       "    </tr>\n",
       "    <tr>\n",
       "      <th>e1083262</th>\n",
       "      <td>e1083262</td>\n",
       "      <td>SLC24A3</td>\n",
       "      <td>ENSG00000185052</td>\n",
       "      <td>0.305166</td>\n",
       "      <td>8.318522e-19</td>\n",
       "      <td>exon</td>\n",
       "    </tr>\n",
       "  </tbody>\n",
       "</table>\n",
       "</div>"
      ],
      "text/plain": [
       "           Feature    Symbol        ensemblID     logFC     adj.P.Val  Type\n",
       "e1138732  e1138732  KIAA1644  ENSG00000138944  0.564275  6.301132e-22  exon\n",
       "e326758    e326758  GDNF-AS1  ENSG00000248587  1.140210  8.265196e-21  exon\n",
       "e326763    e326763  GDNF-AS1  ENSG00000248587  0.764401  6.803448e-20  exon\n",
       "e1083244  e1083244   SLC24A3  ENSG00000185052  0.305384  8.318522e-19  exon\n",
       "e1083262  e1083262   SLC24A3  ENSG00000185052  0.305166  8.318522e-19  exon"
      ]
     },
     "execution_count": 5,
     "metadata": {},
     "output_type": "execute_result"
    }
   ],
   "source": [
    "exons = pd.read_csv(basename+'exons/diffExpr_szVctl_full.txt', sep='\\t')\n",
    "exons = exons[(exons['adj.P.Val'] < 0.05)].sort_values('adj.P.Val')\n",
    "exons['Feature'] = exons.index\n",
    "exons = exons[['Feature', 'Symbol', 'ensemblID', 'logFC', 'adj.P.Val']]\n",
    "exons['Type'] = 'exon'\n",
    "exons.head()"
   ]
  },
  {
   "cell_type": "code",
   "execution_count": 6,
   "metadata": {},
   "outputs": [
    {
     "data": {
      "text/html": [
       "<div>\n",
       "<style scoped>\n",
       "    .dataframe tbody tr th:only-of-type {\n",
       "        vertical-align: middle;\n",
       "    }\n",
       "\n",
       "    .dataframe tbody tr th {\n",
       "        vertical-align: top;\n",
       "    }\n",
       "\n",
       "    .dataframe thead th {\n",
       "        text-align: right;\n",
       "    }\n",
       "</style>\n",
       "<table border=\"1\" class=\"dataframe\">\n",
       "  <thead>\n",
       "    <tr style=\"text-align: right;\">\n",
       "      <th></th>\n",
       "      <th>Feature</th>\n",
       "      <th>Symbol</th>\n",
       "      <th>ensemblID</th>\n",
       "      <th>logFC</th>\n",
       "      <th>adj.P.Val</th>\n",
       "      <th>Type</th>\n",
       "    </tr>\n",
       "  </thead>\n",
       "  <tbody>\n",
       "    <tr>\n",
       "      <th>chr6:144797991-144803035(+)</th>\n",
       "      <td>chr6:144797991-144803035(+)</td>\n",
       "      <td>UTRN</td>\n",
       "      <td>ENSG00000152818</td>\n",
       "      <td>0.322251</td>\n",
       "      <td>2.024550e-13</td>\n",
       "      <td>junction</td>\n",
       "    </tr>\n",
       "    <tr>\n",
       "      <th>chr20:19696912-19698567(+)</th>\n",
       "      <td>chr20:19696912-19698567(+)</td>\n",
       "      <td>SLC24A3</td>\n",
       "      <td>ENSG00000185052</td>\n",
       "      <td>0.373032</td>\n",
       "      <td>2.564913e-12</td>\n",
       "      <td>junction</td>\n",
       "    </tr>\n",
       "    <tr>\n",
       "      <th>chr20:19684337-19685099(+)</th>\n",
       "      <td>chr20:19684337-19685099(+)</td>\n",
       "      <td>SLC24A3</td>\n",
       "      <td>ENSG00000185052</td>\n",
       "      <td>0.359829</td>\n",
       "      <td>2.564913e-12</td>\n",
       "      <td>junction</td>\n",
       "    </tr>\n",
       "    <tr>\n",
       "      <th>chr20:19281088-19515487(+)</th>\n",
       "      <td>chr20:19281088-19515487(+)</td>\n",
       "      <td>SLC24A3</td>\n",
       "      <td>ENSG00000185052</td>\n",
       "      <td>0.345001</td>\n",
       "      <td>2.564913e-12</td>\n",
       "      <td>junction</td>\n",
       "    </tr>\n",
       "    <tr>\n",
       "      <th>chr6:144803148-144820881(+)</th>\n",
       "      <td>chr6:144803148-144820881(+)</td>\n",
       "      <td>UTRN</td>\n",
       "      <td>ENSG00000152818</td>\n",
       "      <td>0.302817</td>\n",
       "      <td>5.402335e-12</td>\n",
       "      <td>junction</td>\n",
       "    </tr>\n",
       "  </tbody>\n",
       "</table>\n",
       "</div>"
      ],
      "text/plain": [
       "                                                 Feature   Symbol  \\\n",
       "chr6:144797991-144803035(+)  chr6:144797991-144803035(+)     UTRN   \n",
       "chr20:19696912-19698567(+)    chr20:19696912-19698567(+)  SLC24A3   \n",
       "chr20:19684337-19685099(+)    chr20:19684337-19685099(+)  SLC24A3   \n",
       "chr20:19281088-19515487(+)    chr20:19281088-19515487(+)  SLC24A3   \n",
       "chr6:144803148-144820881(+)  chr6:144803148-144820881(+)     UTRN   \n",
       "\n",
       "                                   ensemblID     logFC     adj.P.Val      Type  \n",
       "chr6:144797991-144803035(+)  ENSG00000152818  0.322251  2.024550e-13  junction  \n",
       "chr20:19696912-19698567(+)   ENSG00000185052  0.373032  2.564913e-12  junction  \n",
       "chr20:19684337-19685099(+)   ENSG00000185052  0.359829  2.564913e-12  junction  \n",
       "chr20:19281088-19515487(+)   ENSG00000185052  0.345001  2.564913e-12  junction  \n",
       "chr6:144803148-144820881(+)  ENSG00000152818  0.302817  5.402335e-12  junction  "
      ]
     },
     "execution_count": 6,
     "metadata": {},
     "output_type": "execute_result"
    }
   ],
   "source": [
    "juncs = pd.read_csv(basename+'junctions/diffExpr_szVctl_full.txt', sep='\\t')\n",
    "juncs = juncs[(juncs['adj.P.Val'] < 0.05)].sort_values('adj.P.Val')\n",
    "juncs['Feature'] = juncs.index\n",
    "juncs = juncs[['Feature', 'Symbol', 'ensemblID', 'logFC', 'adj.P.Val']]\n",
    "juncs['Type'] = 'junction'\n",
    "juncs.head()"
   ]
  },
  {
   "cell_type": "markdown",
   "metadata": {},
   "source": [
    "## Load intron clusters"
   ]
  },
  {
   "cell_type": "code",
   "execution_count": 7,
   "metadata": {},
   "outputs": [],
   "source": [
    "def gene_annotation(gtf_file):                                                                                                                              \n",
    "    gtf0 = read_gtf(gtf_file)                                                                                                                               \n",
    "    gtf = gtf0[gtf0[\"feature\"] == \"transcript\"]                                                                                                             \n",
    "    return gtf[[\"transcript_id\",  \"gene_id\", \"gene_name\", \"gene_type\"]]"
   ]
  },
  {
   "cell_type": "code",
   "execution_count": 8,
   "metadata": {},
   "outputs": [
    {
     "name": "stderr",
     "output_type": "stream",
     "text": [
      "INFO:root:Extracted GTF attributes: ['gene_id', 'gene_type', 'gene_status', 'gene_name', 'level', 'havana_gene', 'transcript_id', 'transcript_type', 'transcript_status', 'transcript_name', 'transcript_support_level', 'tag', 'havana_transcript', 'exon_number', 'exon_id', 'ont', 'protein_id', 'ccdsid']\n"
     ]
    },
    {
     "data": {
      "text/html": [
       "<div>\n",
       "<style scoped>\n",
       "    .dataframe tbody tr th:only-of-type {\n",
       "        vertical-align: middle;\n",
       "    }\n",
       "\n",
       "    .dataframe tbody tr th {\n",
       "        vertical-align: top;\n",
       "    }\n",
       "\n",
       "    .dataframe thead th {\n",
       "        text-align: right;\n",
       "    }\n",
       "</style>\n",
       "<table border=\"1\" class=\"dataframe\">\n",
       "  <thead>\n",
       "    <tr style=\"text-align: right;\">\n",
       "      <th></th>\n",
       "      <th>transcript_id</th>\n",
       "      <th>gencodeID</th>\n",
       "      <th>Symbol</th>\n",
       "      <th>gene_type</th>\n",
       "      <th>ensemblID</th>\n",
       "    </tr>\n",
       "  </thead>\n",
       "  <tbody>\n",
       "    <tr>\n",
       "      <th>1</th>\n",
       "      <td>ENST00000456328.2</td>\n",
       "      <td>ENSG00000223972.5</td>\n",
       "      <td>DDX11L1</td>\n",
       "      <td>pseudogene</td>\n",
       "      <td>ENSG00000223972</td>\n",
       "    </tr>\n",
       "    <tr>\n",
       "      <th>5</th>\n",
       "      <td>ENST00000450305.2</td>\n",
       "      <td>ENSG00000223972.5</td>\n",
       "      <td>DDX11L1</td>\n",
       "      <td>pseudogene</td>\n",
       "      <td>ENSG00000223972</td>\n",
       "    </tr>\n",
       "    <tr>\n",
       "      <th>13</th>\n",
       "      <td>ENST00000488147.1</td>\n",
       "      <td>ENSG00000227232.5</td>\n",
       "      <td>WASH7P</td>\n",
       "      <td>pseudogene</td>\n",
       "      <td>ENSG00000227232</td>\n",
       "    </tr>\n",
       "    <tr>\n",
       "      <th>26</th>\n",
       "      <td>ENST00000619216.1</td>\n",
       "      <td>ENSG00000278267.1</td>\n",
       "      <td>MIR6859-1</td>\n",
       "      <td>sncRNA</td>\n",
       "      <td>ENSG00000278267</td>\n",
       "    </tr>\n",
       "    <tr>\n",
       "      <th>29</th>\n",
       "      <td>ENST00000473358.1</td>\n",
       "      <td>ENSG00000243485.4</td>\n",
       "      <td>MIR1302-2</td>\n",
       "      <td>lncRNA</td>\n",
       "      <td>ENSG00000243485</td>\n",
       "    </tr>\n",
       "  </tbody>\n",
       "</table>\n",
       "</div>"
      ],
      "text/plain": [
       "        transcript_id          gencodeID     Symbol   gene_type  \\\n",
       "1   ENST00000456328.2  ENSG00000223972.5    DDX11L1  pseudogene   \n",
       "5   ENST00000450305.2  ENSG00000223972.5    DDX11L1  pseudogene   \n",
       "13  ENST00000488147.1  ENSG00000227232.5     WASH7P  pseudogene   \n",
       "26  ENST00000619216.1  ENSG00000278267.1  MIR6859-1      sncRNA   \n",
       "29  ENST00000473358.1  ENSG00000243485.4  MIR1302-2      lncRNA   \n",
       "\n",
       "          ensemblID  \n",
       "1   ENSG00000223972  \n",
       "5   ENSG00000223972  \n",
       "13  ENSG00000227232  \n",
       "26  ENSG00000278267  \n",
       "29  ENSG00000243485  "
      ]
     },
     "execution_count": 8,
     "metadata": {},
     "output_type": "execute_result"
    }
   ],
   "source": [
    "gtf_file = '/ceph/genome/human/gencode25/gtf.CHR/_m/gencode.v25.annotation.gtf'\n",
    "geneType = gene_annotation(gtf_file)\n",
    "\n",
    "geneType['ensemblID'] = geneType['gene_id'].str.replace('\\\\.\\\\d+', '')\n",
    "geneType['gene_type'] = geneType['gene_type'].str.replace('\\w+pseudogene', 'pseudogene')\n",
    "geneType['gene_type'] = geneType['gene_type'].str.replace('\\w+ncRNA', 'lncRNA')\n",
    "geneType['gene_type'] = geneType['gene_type'].str.replace('antisense', 'lncRNA')\n",
    "geneType['gene_type'] = geneType['gene_type'].str.replace('sense\\w+', 'lncRNA')\n",
    "geneType['gene_type'] = geneType['gene_type'].str.replace('processed_transcript', 'lncRNA')\n",
    "geneType['gene_type'] = geneType['gene_type'].str.replace('snRNA', 'sncRNA')\n",
    "geneType['gene_type'] = geneType['gene_type'].str.replace('snoRNA', 'sncRNA')\n",
    "geneType['gene_type'] = geneType['gene_type'].str.replace('miRNA', 'sncRNA')\n",
    "geneType['gene_type'] = geneType['gene_type'].str.replace('misc_RNA', 'sncRNA')\n",
    "geneType['gene_type'] = geneType['gene_type'].str.replace('\\w+rRNA', 'sncRNA')\n",
    "geneType['gene_type'] = geneType['gene_type'].str.replace('T\\w+', 'sncRNA') \n",
    "\n",
    "geneType.rename(columns={'gene_name': 'Symbol', 'gene_id': 'gencodeID'}, inplace=True)\n",
    "geneType.head()"
   ]
  },
  {
   "cell_type": "code",
   "execution_count": 9,
   "metadata": {},
   "outputs": [
    {
     "data": {
      "text/html": [
       "<div>\n",
       "<style scoped>\n",
       "    .dataframe tbody tr th:only-of-type {\n",
       "        vertical-align: middle;\n",
       "    }\n",
       "\n",
       "    .dataframe tbody tr th {\n",
       "        vertical-align: top;\n",
       "    }\n",
       "\n",
       "    .dataframe thead th {\n",
       "        text-align: right;\n",
       "    }\n",
       "</style>\n",
       "<table border=\"1\" class=\"dataframe\">\n",
       "  <thead>\n",
       "    <tr style=\"text-align: right;\">\n",
       "      <th></th>\n",
       "      <th>Feature</th>\n",
       "      <th>Symbol</th>\n",
       "      <th>ensemblID</th>\n",
       "      <th>FDR</th>\n",
       "      <th>gene_type</th>\n",
       "    </tr>\n",
       "  </thead>\n",
       "  <tbody>\n",
       "    <tr>\n",
       "      <th>11</th>\n",
       "      <td>clu_20958_NA</td>\n",
       "      <td>PTPRS</td>\n",
       "      <td>ENSG00000105426</td>\n",
       "      <td>0.000132</td>\n",
       "      <td>protein_coding</td>\n",
       "    </tr>\n",
       "    <tr>\n",
       "      <th>6</th>\n",
       "      <td>clu_18791_NA</td>\n",
       "      <td>ANK3</td>\n",
       "      <td>ENSG00000151150</td>\n",
       "      <td>0.000177</td>\n",
       "      <td>protein_coding</td>\n",
       "    </tr>\n",
       "    <tr>\n",
       "      <th>1</th>\n",
       "      <td>clu_12021_NA</td>\n",
       "      <td>KCNAB2</td>\n",
       "      <td>ENSG00000069424</td>\n",
       "      <td>0.000203</td>\n",
       "      <td>protein_coding</td>\n",
       "    </tr>\n",
       "    <tr>\n",
       "      <th>12</th>\n",
       "      <td>clu_22253_NA</td>\n",
       "      <td>FXYD1</td>\n",
       "      <td>ENSG00000266964</td>\n",
       "      <td>0.000526</td>\n",
       "      <td>protein_coding</td>\n",
       "    </tr>\n",
       "    <tr>\n",
       "      <th>8</th>\n",
       "      <td>clu_19539_NA</td>\n",
       "      <td>OPALIN</td>\n",
       "      <td>ENSG00000197430</td>\n",
       "      <td>0.002230</td>\n",
       "      <td>protein_coding</td>\n",
       "    </tr>\n",
       "  </tbody>\n",
       "</table>\n",
       "</div>"
      ],
      "text/plain": [
       "         Feature  Symbol        ensemblID       FDR       gene_type\n",
       "11  clu_20958_NA   PTPRS  ENSG00000105426  0.000132  protein_coding\n",
       "6   clu_18791_NA    ANK3  ENSG00000151150  0.000177  protein_coding\n",
       "1   clu_12021_NA  KCNAB2  ENSG00000069424  0.000203  protein_coding\n",
       "12  clu_22253_NA   FXYD1  ENSG00000266964  0.000526  protein_coding\n",
       "8   clu_19539_NA  OPALIN  ENSG00000197430  0.002230  protein_coding"
      ]
     },
     "execution_count": 9,
     "metadata": {},
     "output_type": "execute_result"
    }
   ],
   "source": [
    "clust = pd.read_csv('../../visualization/_m/cluster_ds_results_annotated.txt', sep='\\t')\n",
    "clust['Feature'] = clust['clusterID']\n",
    "clust.rename(columns={'gene': 'Symbol'}, inplace=True)\n",
    "clust = clust.merge(geneType, on='Symbol')\n",
    "clust = clust.groupby('Feature').first().reset_index().sort_values('FDR')\n",
    "clust = clust[['Feature', 'Symbol', 'ensemblID', 'FDR', 'gene_type']]\n",
    "clust.head()"
   ]
  },
  {
   "cell_type": "code",
   "execution_count": null,
   "metadata": {},
   "outputs": [],
   "source": [
    "len(clust.Symbol.unique())"
   ]
  },
  {
   "cell_type": "markdown",
   "metadata": {},
   "source": [
    "## Plot"
   ]
  },
  {
   "cell_type": "code",
   "execution_count": 10,
   "metadata": {},
   "outputs": [],
   "source": [
    "features = {\n",
    "    'Genes': set(genes['ensemblID']),\n",
    "    'Exons': set(exons['ensemblID']),\n",
    "    'Junctions': set(juncs['ensemblID']),\n",
    "    'Intron_Clusters': set(clust['ensemblID'])\n",
    "}"
   ]
  },
  {
   "cell_type": "code",
   "execution_count": 21,
   "metadata": {},
   "outputs": [
    {
     "data": {
      "image/png": "[encoded data removed]",
      "text/plain": [
       "<Figure size 864x864 with 1 Axes>"
      ]
     },
     "metadata": {},
     "output_type": "display_data"
    }
   ],
   "source": [
    "venn(features, legend_loc=\"best\", figsize=(12, 12))\n",
    "plt.savefig('DE_genes_exons_juncs_venn_diagram.png')\n",
    "plt.savefig('DE_genes_exons_juncs_venn_diagram.pdf')\n",
    "plt.savefig('DE_genes_exons_juncs_venn_diagram.svg')\n",
    "plt.show()"
   ]
  },
  {
   "cell_type": "code",
   "execution_count": null,
   "metadata": {},
   "outputs": [],
   "source": [
    "venn(features, fmt=\"{size}\\n{percentage:0.2f}%\", legend_loc=\"best\", figsize=(12, 12))\n",
    "plt.savefig('DE_genes_exons_juncs_venn_diagram_percentage.png')\n",
    "plt.savefig('DE_genes_exons_juncs_venn_diagram_percentage.pdf')\n",
    "plt.savefig('DE_genes_exons_juncs_venn_diagram_percentage.svg')\n",
    "plt.show()"
   ]
  },
  {
   "cell_type": "markdown",
   "metadata": {},
   "source": [
    "## Percentage"
   ]
  },
  {
   "cell_type": "code",
   "execution_count": 11,
   "metadata": {},
   "outputs": [],
   "source": [
    "def limiting_features(f1, f2):\n",
    "    xx = len(features[f1] & features[f2]) / len(features[f2]) * 100\n",
    "    print(\"Comparing %s with %s: %0.2f%%\" % (f1, f2, xx))\n",
    "    print(\"Features in common: %d\" % len(features[f1] & features[f2]))"
   ]
  },
  {
   "cell_type": "code",
   "execution_count": 12,
   "metadata": {},
   "outputs": [
    {
     "name": "stdout",
     "output_type": "stream",
     "text": [
      "Comparing Genes with Intron_Clusters: 38.71%\n",
      "Features in common: 12\n",
      "Comparing Exons with Intron_Clusters: 67.74%\n",
      "Features in common: 21\n",
      "Comparing Junctions with Intron_Clusters: 67.74%\n",
      "Features in common: 21\n"
     ]
    }
   ],
   "source": [
    "limiting_features('Genes', 'Intron_Clusters')\n",
    "limiting_features('Exons', 'Intron_Clusters')\n",
    "limiting_features('Junctions', 'Intron_Clusters')"
   ]
  },
  {
   "cell_type": "markdown",
   "metadata": {},
   "source": [
    "## Overlapping genes"
   ]
  },
  {
   "cell_type": "code",
   "execution_count": 15,
   "metadata": {},
   "outputs": [],
   "source": [
    "features = {\n",
    "    'Genes': set(genes['Symbol']),\n",
    "    'Exons': set(exons['Symbol']),\n",
    "    'Junctions': set(juncs['Symbol']),\n",
    "    'Intron_Clusters': set(clust['Symbol'])\n",
    "}"
   ]
  },
  {
   "cell_type": "markdown",
   "metadata": {},
   "source": [
    "### All features"
   ]
  },
  {
   "cell_type": "code",
   "execution_count": 16,
   "metadata": {},
   "outputs": [
    {
     "data": {
      "text/plain": [
       "{'AHCYL1',\n",
       " 'CNDP1',\n",
       " 'FN1',\n",
       " 'FXYD1',\n",
       " 'GAS7',\n",
       " 'OPALIN',\n",
       " 'PJA2',\n",
       " 'PLK2',\n",
       " 'PTPRS',\n",
       " 'SH3PXD2A',\n",
       " 'ZFYVE21'}"
      ]
     },
     "execution_count": 16,
     "metadata": {},
     "output_type": "execute_result"
    }
   ],
   "source": [
    "features['Intron_Clusters'] & features['Genes'] & features['Exons'] & features['Junctions']"
   ]
  },
  {
   "cell_type": "markdown",
   "metadata": {},
   "source": [
    "### Intron Clusters and Junctions and Exons"
   ]
  },
  {
   "cell_type": "code",
   "execution_count": 29,
   "metadata": {},
   "outputs": [
    {
     "data": {
      "text/plain": [
       "['MAP1A',\n",
       " 'ANK3',\n",
       " 'DLG1',\n",
       " 'MYH14',\n",
       " 'CLASP2',\n",
       " 'APBA2',\n",
       " 'NDRG2',\n",
       " 'DCTN1',\n",
       " 'LANCL1']"
      ]
     },
     "execution_count": 29,
     "metadata": {},
     "output_type": "execute_result"
    }
   ],
   "source": [
    "[x for x in (features['Intron_Clusters'] & features['Junctions'] & features['Exons']) if x not in features['Genes']]"
   ]
  },
  {
   "cell_type": "markdown",
   "metadata": {},
   "source": [
    "### Intron Clusters and Junctions, unique"
   ]
  },
  {
   "cell_type": "code",
   "execution_count": 31,
   "metadata": {},
   "outputs": [
    {
     "data": {
      "text/plain": [
       "['KTN1']"
      ]
     },
     "execution_count": 31,
     "metadata": {},
     "output_type": "execute_result"
    }
   ],
   "source": [
    "[x for x in (features['Intron_Clusters'] & features['Junctions']) if x not in (features['Genes'] | features['Exons'])]"
   ]
  },
  {
   "cell_type": "markdown",
   "metadata": {},
   "source": [
    "### Intron Clusters and Exons, unique"
   ]
  },
  {
   "cell_type": "code",
   "execution_count": 30,
   "metadata": {},
   "outputs": [
    {
     "data": {
      "text/plain": [
       "['MFSD6']"
      ]
     },
     "execution_count": 30,
     "metadata": {},
     "output_type": "execute_result"
    }
   ],
   "source": [
    "[x for x in (features['Intron_Clusters'] & features['Exons']) if x not in (features['Genes'] | features['Junctions'])]"
   ]
  },
  {
   "cell_type": "markdown",
   "metadata": {},
   "source": [
    "### Intron Clusters and Genes"
   ]
  },
  {
   "cell_type": "code",
   "execution_count": 28,
   "metadata": {},
   "outputs": [
    {
     "data": {
      "text/plain": [
       "['RAB43']"
      ]
     },
     "execution_count": 28,
     "metadata": {},
     "output_type": "execute_result"
    }
   ],
   "source": [
    "[x for x in (features['Intron_Clusters'] & features['Genes']) if x not in features['Exons']]"
   ]
  },
  {
   "cell_type": "markdown",
   "metadata": {},
   "source": [
    "### Unique Intron Cluster"
   ]
  },
  {
   "cell_type": "code",
   "execution_count": 32,
   "metadata": {},
   "outputs": [
    {
     "data": {
      "text/plain": [
       "['MT1E', 'NRP1', 'CPEB3', 'UTP14A', 'DNAJC13', 'RAPGEF4', 'KCNAB2', 'PITRM1']"
      ]
     },
     "execution_count": 32,
     "metadata": {},
     "output_type": "execute_result"
    }
   ],
   "source": [
    "[x for x in features['Intron_Clusters'] if x not in (features['Exons'] | features['Junctions'] | features['Genes'])]"
   ]
  },
  {
   "cell_type": "markdown",
   "metadata": {},
   "source": []
  }
 ],
 "metadata": {
  "kernelspec": {
   "display_name": "Python 3",
   "language": "python",
   "name": "python3"
  },
  "language_info": {
   "codemirror_mode": {
    "name": "ipython",
    "version": 3
   },
   "file_extension": ".py",
   "mimetype": "text/x-python",
   "name": "python",
   "nbconvert_exporter": "python",
   "pygments_lexer": "ipython3",
   "version": "3.6.5"
  }
 },
 "nbformat": 4,
 "nbformat_minor": 2
}
