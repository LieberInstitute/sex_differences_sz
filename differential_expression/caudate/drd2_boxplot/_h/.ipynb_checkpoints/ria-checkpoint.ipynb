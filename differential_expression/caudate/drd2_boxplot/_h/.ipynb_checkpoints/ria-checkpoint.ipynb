{
 "cells": [
  {
   "cell_type": "markdown",
   "metadata": {},
   "source": [
    "# Violin plot of the top up- and down-regulated DE genes"
   ]
  },
  {
   "cell_type": "code",
   "execution_count": 1,
   "metadata": {},
   "outputs": [],
   "source": [
    "#load required packages\n",
    "library(ggplot2)\n",
    "library(reshape2)"
   ]
  },
  {
   "cell_type": "markdown",
   "metadata": {},
   "source": [
    "All inputs come in through the _m node generated via running the main pipeline w/ rf"
   ]
  },
  {
   "cell_type": "code",
   "execution_count": 2,
   "metadata": {},
   "outputs": [
    {
     "data": {
      "text/html": [
       "<table>\n",
       "<caption>A data.frame: 2 × 9</caption>\n",
       "<thead>\n",
       "\t<tr><th></th><th scope=col>BrNum</th><th scope=col>primarydx</th><th scope=col>sex</th><th scope=col>race</th><th scope=col>Protocol</th><th scope=col>RIN</th><th scope=col>Region</th><th scope=col>agedeath</th><th scope=col>RNum</th></tr>\n",
       "\t<tr><th></th><th scope=col>&lt;fct&gt;</th><th scope=col>&lt;fct&gt;</th><th scope=col>&lt;fct&gt;</th><th scope=col>&lt;fct&gt;</th><th scope=col>&lt;fct&gt;</th><th scope=col>&lt;dbl&gt;</th><th scope=col>&lt;fct&gt;</th><th scope=col>&lt;dbl&gt;</th><th scope=col>&lt;chr&gt;</th></tr>\n",
       "</thead>\n",
       "<tbody>\n",
       "\t<tr><th scope=row>R13243</th><td>Br1003</td><td>Control</td><td>F</td><td>AA</td><td>RiboZeroGold</td><td>7.6</td><td>Caudate</td><td>52.57</td><td>R13243</td></tr>\n",
       "\t<tr><th scope=row>R13244</th><td>Br1004</td><td>Control</td><td>M</td><td>AA</td><td>RiboZeroGold</td><td>7.3</td><td>Caudate</td><td>21.01</td><td>R13244</td></tr>\n",
       "</tbody>\n",
       "</table>\n"
      ],
      "text/latex": [
       "A data.frame: 2 × 9\n",
       "\\begin{tabular}{r|lllllllll}\n",
       "  & BrNum & primarydx & sex & race & Protocol & RIN & Region & agedeath & RNum\\\\\n",
       "  & <fct> & <fct> & <fct> & <fct> & <fct> & <dbl> & <fct> & <dbl> & <chr>\\\\\n",
       "\\hline\n",
       "\tR13243 & Br1003 & Control & F & AA & RiboZeroGold & 7.6 & Caudate & 52.57 & R13243\\\\\n",
       "\tR13244 & Br1004 & Control & M & AA & RiboZeroGold & 7.3 & Caudate & 21.01 & R13244\\\\\n",
       "\\end{tabular}\n"
      ],
      "text/markdown": [
       "\n",
       "A data.frame: 2 × 9\n",
       "\n",
       "| <!--/--> | BrNum &lt;fct&gt; | primarydx &lt;fct&gt; | sex &lt;fct&gt; | race &lt;fct&gt; | Protocol &lt;fct&gt; | RIN &lt;dbl&gt; | Region &lt;fct&gt; | agedeath &lt;dbl&gt; | RNum &lt;chr&gt; |\n",
       "|---|---|---|---|---|---|---|---|---|---|\n",
       "| R13243 | Br1003 | Control | F | AA | RiboZeroGold | 7.6 | Caudate | 52.57 | R13243 |\n",
       "| R13244 | Br1004 | Control | M | AA | RiboZeroGold | 7.3 | Caudate | 21.01 | R13244 |\n",
       "\n"
      ],
      "text/plain": [
       "       BrNum  primarydx sex race Protocol     RIN Region  agedeath RNum  \n",
       "R13243 Br1003 Control   F   AA   RiboZeroGold 7.6 Caudate 52.57    R13243\n",
       "R13244 Br1004 Control   M   AA   RiboZeroGold 7.3 Caudate 21.01    R13244"
      ]
     },
     "metadata": {},
     "output_type": "display_data"
    },
    {
     "data": {
      "text/html": [
       "<ol class=list-inline>\n",
       "\t<li>389</li>\n",
       "\t<li>9</li>\n",
       "</ol>\n"
      ],
      "text/latex": [
       "\\begin{enumerate*}\n",
       "\\item 389\n",
       "\\item 9\n",
       "\\end{enumerate*}\n"
      ],
      "text/markdown": [
       "1. 389\n",
       "2. 9\n",
       "\n",
       "\n"
      ],
      "text/plain": [
       "[1] 389   9"
      ]
     },
     "metadata": {},
     "output_type": "display_data"
    }
   ],
   "source": [
    "#load in phenotypic data\n",
    "pheno_file = '/ceph/users/jbenja13/ria_tmp/projects/v3_sex_differences_sz/analysis/sex_differences/_m/caudate_phenotypes.csv'\n",
    "pheno = read.csv(pheno_file, row.names=1)\n",
    "pheno['RNum'] = rownames(pheno)\n",
    "head(pheno, 2)\n",
    "dim(pheno)"
   ]
  },
  {
   "cell_type": "markdown",
   "metadata": {},
   "source": [
    "## Load residualized expression"
   ]
  },
  {
   "cell_type": "code",
   "execution_count": 3,
   "metadata": {},
   "outputs": [
    {
     "data": {
      "text/html": [
       "<table>\n",
       "<caption>A matrix: 2 × 3 of type dbl</caption>\n",
       "<thead>\n",
       "\t<tr><th></th><th scope=col>ENSG00000227232.5</th><th scope=col>ENSG00000278267.1</th><th scope=col>ENSG00000241860.6</th></tr>\n",
       "</thead>\n",
       "<tbody>\n",
       "\t<tr><th scope=row>R12864</th><td>-0.8093329</td><td> 0.9301722</td><td>1.1108239</td></tr>\n",
       "\t<tr><th scope=row>R12865</th><td>-1.4060176</td><td>-0.1068161</td><td>0.1284273</td></tr>\n",
       "</tbody>\n",
       "</table>\n"
      ],
      "text/latex": [
       "A matrix: 2 × 3 of type dbl\n",
       "\\begin{tabular}{r|lll}\n",
       "  & ENSG00000227232.5 & ENSG00000278267.1 & ENSG00000241860.6\\\\\n",
       "\\hline\n",
       "\tR12864 & -0.8093329 &  0.9301722 & 1.1108239\\\\\n",
       "\tR12865 & -1.4060176 & -0.1068161 & 0.1284273\\\\\n",
       "\\end{tabular}\n"
      ],
      "text/markdown": [
       "\n",
       "A matrix: 2 × 3 of type dbl\n",
       "\n",
       "| <!--/--> | ENSG00000227232.5 | ENSG00000278267.1 | ENSG00000241860.6 |\n",
       "|---|---|---|---|\n",
       "| R12864 | -0.8093329 |  0.9301722 | 1.1108239 |\n",
       "| R12865 | -1.4060176 | -0.1068161 | 0.1284273 |\n",
       "\n"
      ],
      "text/plain": [
       "       ENSG00000227232.5 ENSG00000278267.1 ENSG00000241860.6\n",
       "R12864 -0.8093329         0.9301722        1.1108239        \n",
       "R12865 -1.4060176        -0.1068161        0.1284273        "
      ]
     },
     "metadata": {},
     "output_type": "display_data"
    },
    {
     "data": {
      "text/html": [
       "<ol class=list-inline>\n",
       "\t<li>382</li>\n",
       "\t<li>22445</li>\n",
       "</ol>\n"
      ],
      "text/latex": [
       "\\begin{enumerate*}\n",
       "\\item 382\n",
       "\\item 22445\n",
       "\\end{enumerate*}\n"
      ],
      "text/markdown": [
       "1. 382\n",
       "2. 22445\n",
       "\n",
       "\n"
      ],
      "text/plain": [
       "[1]   382 22445"
      ]
     },
     "metadata": {},
     "output_type": "display_data"
    }
   ],
   "source": [
    "res_file = '../../_m/residualized_expression_caudate.tsv'\n",
    "resdf = t(read.delim(res_file, row.names=1))\n",
    "resdf[1:2, 1:3]\n",
    "dim(resdf)"
   ]
  },
  {
   "cell_type": "markdown",
   "metadata": {},
   "source": [
    "## Differentially expressed genes"
   ]
  },
  {
   "cell_type": "code",
   "execution_count": 4,
   "metadata": {},
   "outputs": [
    {
     "data": {
      "text/html": [
       "<table>\n",
       "<caption>A data.frame: 6 × 9</caption>\n",
       "<thead>\n",
       "\t<tr><th scope=col>Geneid</th><th scope=col>logFC</th><th scope=col>AveExpr</th><th scope=col>t</th><th scope=col>P.Value</th><th scope=col>adj.P.Val</th><th scope=col>B</th><th scope=col>MalevsFemale</th><th scope=col>ensembl_gene_id</th></tr>\n",
       "\t<tr><th scope=col>&lt;fct&gt;</th><th scope=col>&lt;dbl&gt;</th><th scope=col>&lt;dbl&gt;</th><th scope=col>&lt;dbl&gt;</th><th scope=col>&lt;dbl&gt;</th><th scope=col>&lt;dbl&gt;</th><th scope=col>&lt;dbl&gt;</th><th scope=col>&lt;int&gt;</th><th scope=col>&lt;chr&gt;</th></tr>\n",
       "</thead>\n",
       "<tbody>\n",
       "\t<tr><td>ENSG00000229807.10</td><td>-9.366881</td><td>3.351823</td><td>-97.37236</td><td>1.342155e-261</td><td>3.012466e-257</td><td>589.1514</td><td>-1</td><td>ENSG00000229807</td></tr>\n",
       "\t<tr><td>ENSG00000114374.12</td><td> 8.752773</td><td>3.870755</td><td> 93.64785</td><td>1.051423e-255</td><td>1.179960e-251</td><td>570.5167</td><td> 1</td><td>ENSG00000114374</td></tr>\n",
       "\t<tr><td>ENSG00000067646.11</td><td> 8.501899</td><td>2.001241</td><td> 84.94905</td><td>4.704529e-241</td><td>3.519771e-237</td><td>533.4463</td><td> 1</td><td>ENSG00000067646</td></tr>\n",
       "\t<tr><td>ENSG00000129824.15</td><td> 8.693957</td><td>3.167800</td><td> 84.13020</td><td>1.321674e-239</td><td>7.416243e-236</td><td>532.9606</td><td> 1</td><td>ENSG00000129824</td></tr>\n",
       "\t<tr><td>ENSG00000067048.16</td><td> 8.618937</td><td>3.364275</td><td> 83.67075</td><td>8.699552e-239</td><td>3.905229e-235</td><td>531.8854</td><td> 1</td><td>ENSG00000067048</td></tr>\n",
       "\t<tr><td>ENSG00000012817.15</td><td> 8.753401</td><td>3.254825</td><td> 83.46978</td><td>1.989542e-238</td><td>7.442547e-235</td><td>530.6225</td><td> 1</td><td>ENSG00000012817</td></tr>\n",
       "</tbody>\n",
       "</table>\n"
      ],
      "text/latex": [
       "A data.frame: 6 × 9\n",
       "\\begin{tabular}{r|lllllllll}\n",
       " Geneid & logFC & AveExpr & t & P.Value & adj.P.Val & B & MalevsFemale & ensembl\\_gene\\_id\\\\\n",
       " <fct> & <dbl> & <dbl> & <dbl> & <dbl> & <dbl> & <dbl> & <int> & <chr>\\\\\n",
       "\\hline\n",
       "\t ENSG00000229807.10 & -9.366881 & 3.351823 & -97.37236 & 1.342155e-261 & 3.012466e-257 & 589.1514 & -1 & ENSG00000229807\\\\\n",
       "\t ENSG00000114374.12 &  8.752773 & 3.870755 &  93.64785 & 1.051423e-255 & 1.179960e-251 & 570.5167 &  1 & ENSG00000114374\\\\\n",
       "\t ENSG00000067646.11 &  8.501899 & 2.001241 &  84.94905 & 4.704529e-241 & 3.519771e-237 & 533.4463 &  1 & ENSG00000067646\\\\\n",
       "\t ENSG00000129824.15 &  8.693957 & 3.167800 &  84.13020 & 1.321674e-239 & 7.416243e-236 & 532.9606 &  1 & ENSG00000129824\\\\\n",
       "\t ENSG00000067048.16 &  8.618937 & 3.364275 &  83.67075 & 8.699552e-239 & 3.905229e-235 & 531.8854 &  1 & ENSG00000067048\\\\\n",
       "\t ENSG00000012817.15 &  8.753401 & 3.254825 &  83.46978 & 1.989542e-238 & 7.442547e-235 & 530.6225 &  1 & ENSG00000012817\\\\\n",
       "\\end{tabular}\n"
      ],
      "text/markdown": [
       "\n",
       "A data.frame: 6 × 9\n",
       "\n",
       "| Geneid &lt;fct&gt; | logFC &lt;dbl&gt; | AveExpr &lt;dbl&gt; | t &lt;dbl&gt; | P.Value &lt;dbl&gt; | adj.P.Val &lt;dbl&gt; | B &lt;dbl&gt; | MalevsFemale &lt;int&gt; | ensembl_gene_id &lt;chr&gt; |\n",
       "|---|---|---|---|---|---|---|---|---|\n",
       "| ENSG00000229807.10 | -9.366881 | 3.351823 | -97.37236 | 1.342155e-261 | 3.012466e-257 | 589.1514 | -1 | ENSG00000229807 |\n",
       "| ENSG00000114374.12 |  8.752773 | 3.870755 |  93.64785 | 1.051423e-255 | 1.179960e-251 | 570.5167 |  1 | ENSG00000114374 |\n",
       "| ENSG00000067646.11 |  8.501899 | 2.001241 |  84.94905 | 4.704529e-241 | 3.519771e-237 | 533.4463 |  1 | ENSG00000067646 |\n",
       "| ENSG00000129824.15 |  8.693957 | 3.167800 |  84.13020 | 1.321674e-239 | 7.416243e-236 | 532.9606 |  1 | ENSG00000129824 |\n",
       "| ENSG00000067048.16 |  8.618937 | 3.364275 |  83.67075 | 8.699552e-239 | 3.905229e-235 | 531.8854 |  1 | ENSG00000067048 |\n",
       "| ENSG00000012817.15 |  8.753401 | 3.254825 |  83.46978 | 1.989542e-238 | 7.442547e-235 | 530.6225 |  1 | ENSG00000012817 |\n",
       "\n"
      ],
      "text/plain": [
       "  Geneid             logFC     AveExpr  t         P.Value       adj.P.Val    \n",
       "1 ENSG00000229807.10 -9.366881 3.351823 -97.37236 1.342155e-261 3.012466e-257\n",
       "2 ENSG00000114374.12  8.752773 3.870755  93.64785 1.051423e-255 1.179960e-251\n",
       "3 ENSG00000067646.11  8.501899 2.001241  84.94905 4.704529e-241 3.519771e-237\n",
       "4 ENSG00000129824.15  8.693957 3.167800  84.13020 1.321674e-239 7.416243e-236\n",
       "5 ENSG00000067048.16  8.618937 3.364275  83.67075 8.699552e-239 3.905229e-235\n",
       "6 ENSG00000012817.15  8.753401 3.254825  83.46978 1.989542e-238 7.442547e-235\n",
       "  B        MalevsFemale ensembl_gene_id\n",
       "1 589.1514 -1           ENSG00000229807\n",
       "2 570.5167  1           ENSG00000114374\n",
       "3 533.4463  1           ENSG00000067646\n",
       "4 532.9606  1           ENSG00000129824\n",
       "5 531.8854  1           ENSG00000067048\n",
       "6 530.6225  1           ENSG00000012817"
      ]
     },
     "metadata": {},
     "output_type": "display_data"
    }
   ],
   "source": [
    "genes = read.delim('../../_m/diffExpr_gender_full.txt')\n",
    "genes['ensembl_gene_id'] <- gsub(\"\\\\..*\", \"\", genes[, 1])\n",
    "genes = subset(genes, select=-c(Chr, Start, End, Strand, Length))\n",
    "head(genes)"
   ]
  },
  {
   "cell_type": "markdown",
   "metadata": {},
   "source": [
    "## Load gene annotation, merge with DE gene list"
   ]
  },
  {
   "cell_type": "code",
   "execution_count": 5,
   "metadata": {},
   "outputs": [],
   "source": [
    "gene_annotation <- read.csv(file=\"/ceph/users/jbenja13/ria_tmp/differential_expression/_h/biomart.csv\", \n",
    "                            header=TRUE, sep=\",\")\n",
    "gene_annotation_unique <- gene_annotation[!duplicated(gene_annotation[,c('ensembl_gene_id')]),]"
   ]
  },
  {
   "cell_type": "code",
   "execution_count": 6,
   "metadata": {},
   "outputs": [],
   "source": [
    "#genes <- merge(genes, gene_annotation_unique, by='ensembl_gene_id', all.x = TRUE)\n",
    "#head(genes)"
   ]
  },
  {
   "cell_type": "code",
   "execution_count": 7,
   "metadata": {},
   "outputs": [
    {
     "data": {
      "text/html": [
       "<table>\n",
       "<caption>A data.frame: 2 × 4</caption>\n",
       "<thead>\n",
       "\t<tr><th scope=col>Feature</th><th scope=col>Geneid</th><th scope=col>logFC</th><th scope=col>adj.P.Val</th></tr>\n",
       "\t<tr><th scope=col>&lt;fct&gt;</th><th scope=col>&lt;fct&gt;</th><th scope=col>&lt;dbl&gt;</th><th scope=col>&lt;dbl&gt;</th></tr>\n",
       "</thead>\n",
       "<tbody>\n",
       "\t<tr><td>ENSG00000229807.10</td><td>ENSG00000229807.10</td><td>-9.366881</td><td>3.012466e-257</td></tr>\n",
       "\t<tr><td>ENSG00000114374.12</td><td>ENSG00000114374.12</td><td> 8.752773</td><td>1.179960e-251</td></tr>\n",
       "</tbody>\n",
       "</table>\n"
      ],
      "text/latex": [
       "A data.frame: 2 × 4\n",
       "\\begin{tabular}{r|llll}\n",
       " Feature & Geneid & logFC & adj.P.Val\\\\\n",
       " <fct> & <fct> & <dbl> & <dbl>\\\\\n",
       "\\hline\n",
       "\t ENSG00000229807.10 & ENSG00000229807.10 & -9.366881 & 3.012466e-257\\\\\n",
       "\t ENSG00000114374.12 & ENSG00000114374.12 &  8.752773 & 1.179960e-251\\\\\n",
       "\\end{tabular}\n"
      ],
      "text/markdown": [
       "\n",
       "A data.frame: 2 × 4\n",
       "\n",
       "| Feature &lt;fct&gt; | Geneid &lt;fct&gt; | logFC &lt;dbl&gt; | adj.P.Val &lt;dbl&gt; |\n",
       "|---|---|---|---|\n",
       "| ENSG00000229807.10 | ENSG00000229807.10 | -9.366881 | 3.012466e-257 |\n",
       "| ENSG00000114374.12 | ENSG00000114374.12 |  8.752773 | 1.179960e-251 |\n",
       "\n"
      ],
      "text/plain": [
       "  Feature            Geneid             logFC     adj.P.Val    \n",
       "1 ENSG00000229807.10 ENSG00000229807.10 -9.366881 3.012466e-257\n",
       "2 ENSG00000114374.12 ENSG00000114374.12  8.752773 1.179960e-251"
      ]
     },
     "metadata": {},
     "output_type": "display_data"
    }
   ],
   "source": [
    "genes['Feature'] = genes['Geneid']\n",
    "genes = subset(genes, adj.P.Val < 0.05, \n",
    "               select=c(Feature, Geneid, logFC, adj.P.Val))\n",
    "head(genes, 2)"
   ]
  },
  {
   "cell_type": "markdown",
   "metadata": {},
   "source": [
    "## Up-regulated"
   ]
  },
  {
   "cell_type": "markdown",
   "metadata": {},
   "source": [
    "### Subset residualized dataframe"
   ]
  },
  {
   "cell_type": "code",
   "execution_count": 8,
   "metadata": {},
   "outputs": [],
   "source": [
    "#create upregulated genes dataframe by subsetting by logFC > 0\n",
    "up_genes = subset(genes, logFC > 0)\n",
    "#create a new column in up_genes specifying direction\n",
    "up_genes['Dir'] = 'Up'\n",
    "#select gene (feature), symbol, dir, adj P val (top 5) \n",
    "sigUp_genes = head(subset(up_genes, select=c(Feature, Dir, adj.P.Val)), 5)\n",
    "#droplevels drops the levels of other factors not subsetted\n",
    "sigUp_genes = droplevels(sigUp_genes)"
   ]
  },
  {
   "cell_type": "code",
   "execution_count": 9,
   "metadata": {},
   "outputs": [
    {
     "data": {
      "text/html": [
       "<table>\n",
       "<caption>A data.frame: 5 × 3</caption>\n",
       "<thead>\n",
       "\t<tr><th></th><th scope=col>Feature</th><th scope=col>Dir</th><th scope=col>adj.P.Val</th></tr>\n",
       "\t<tr><th></th><th scope=col>&lt;fct&gt;</th><th scope=col>&lt;chr&gt;</th><th scope=col>&lt;dbl&gt;</th></tr>\n",
       "</thead>\n",
       "<tbody>\n",
       "\t<tr><th scope=row>2</th><td>ENSG00000114374.12</td><td>Up</td><td>1.179960e-251</td></tr>\n",
       "\t<tr><th scope=row>3</th><td>ENSG00000067646.11</td><td>Up</td><td>3.519771e-237</td></tr>\n",
       "\t<tr><th scope=row>4</th><td>ENSG00000129824.15</td><td>Up</td><td>7.416243e-236</td></tr>\n",
       "\t<tr><th scope=row>5</th><td>ENSG00000067048.16</td><td>Up</td><td>3.905229e-235</td></tr>\n",
       "\t<tr><th scope=row>6</th><td>ENSG00000012817.15</td><td>Up</td><td>7.442547e-235</td></tr>\n",
       "</tbody>\n",
       "</table>\n"
      ],
      "text/latex": [
       "A data.frame: 5 × 3\n",
       "\\begin{tabular}{r|lll}\n",
       "  & Feature & Dir & adj.P.Val\\\\\n",
       "  & <fct> & <chr> & <dbl>\\\\\n",
       "\\hline\n",
       "\t2 & ENSG00000114374.12 & Up & 1.179960e-251\\\\\n",
       "\t3 & ENSG00000067646.11 & Up & 3.519771e-237\\\\\n",
       "\t4 & ENSG00000129824.15 & Up & 7.416243e-236\\\\\n",
       "\t5 & ENSG00000067048.16 & Up & 3.905229e-235\\\\\n",
       "\t6 & ENSG00000012817.15 & Up & 7.442547e-235\\\\\n",
       "\\end{tabular}\n"
      ],
      "text/markdown": [
       "\n",
       "A data.frame: 5 × 3\n",
       "\n",
       "| <!--/--> | Feature &lt;fct&gt; | Dir &lt;chr&gt; | adj.P.Val &lt;dbl&gt; |\n",
       "|---|---|---|---|\n",
       "| 2 | ENSG00000114374.12 | Up | 1.179960e-251 |\n",
       "| 3 | ENSG00000067646.11 | Up | 3.519771e-237 |\n",
       "| 4 | ENSG00000129824.15 | Up | 7.416243e-236 |\n",
       "| 5 | ENSG00000067048.16 | Up | 3.905229e-235 |\n",
       "| 6 | ENSG00000012817.15 | Up | 7.442547e-235 |\n",
       "\n"
      ],
      "text/plain": [
       "  Feature            Dir adj.P.Val    \n",
       "2 ENSG00000114374.12 Up  1.179960e-251\n",
       "3 ENSG00000067646.11 Up  3.519771e-237\n",
       "4 ENSG00000129824.15 Up  7.416243e-236\n",
       "5 ENSG00000067048.16 Up  3.905229e-235\n",
       "6 ENSG00000012817.15 Up  7.442547e-235"
      ]
     },
     "metadata": {},
     "output_type": "display_data"
    },
    {
     "data": {
      "text/plain": [
       "\n",
       "ENSG00000114374.12 ENSG00000067646.11 ENSG00000129824.15 ENSG00000067048.16 \n",
       "                 1                  1                  1                  1 \n",
       "ENSG00000012817.15 \n",
       "                 1 "
      ]
     },
     "metadata": {},
     "output_type": "display_data"
    }
   ],
   "source": [
    "sigUp_genes$Feature = with(sigUp_genes, reorder(Feature, adj.P.Val, median))\n",
    "sigUp_genes\n",
    "table(sigUp_genes$Feature)"
   ]
  },
  {
   "cell_type": "code",
   "execution_count": 10,
   "metadata": {},
   "outputs": [],
   "source": [
    "aa <- sigUp_genes"
   ]
  },
  {
   "cell_type": "code",
   "execution_count": 11,
   "metadata": {},
   "outputs": [],
   "source": [
    "aa$Feature <- as.character(aa$Feature)"
   ]
  },
  {
   "cell_type": "code",
   "execution_count": 12,
   "metadata": {},
   "outputs": [
    {
     "data": {
      "text/html": [
       "<table>\n",
       "<caption>A data.frame: 6 × 5</caption>\n",
       "<thead>\n",
       "\t<tr><th></th><th scope=col>ENSG00000227232.5</th><th scope=col>ENSG00000278267.1</th><th scope=col>ENSG00000241860.6</th><th scope=col>ENSG00000279457.4</th><th scope=col>ENSG00000228463.9</th></tr>\n",
       "\t<tr><th></th><th scope=col>&lt;dbl&gt;</th><th scope=col>&lt;dbl&gt;</th><th scope=col>&lt;dbl&gt;</th><th scope=col>&lt;dbl&gt;</th><th scope=col>&lt;dbl&gt;</th></tr>\n",
       "</thead>\n",
       "<tbody>\n",
       "\t<tr><th scope=row>R12864</th><td>-0.8093329</td><td> 0.9301722</td><td> 1.1108239</td><td> 1.8798034</td><td> 0.2291668</td></tr>\n",
       "\t<tr><th scope=row>R12865</th><td>-1.4060176</td><td>-0.1068161</td><td> 0.1284273</td><td> 0.9115626</td><td> 2.3465109</td></tr>\n",
       "\t<tr><th scope=row>R12866</th><td>-0.1662045</td><td> 1.1163190</td><td> 0.4828827</td><td> 0.3194174</td><td> 0.4866368</td></tr>\n",
       "\t<tr><th scope=row>R12867</th><td>-0.6309112</td><td> 1.0291770</td><td>-0.2895215</td><td> 1.0903755</td><td> 0.3239602</td></tr>\n",
       "\t<tr><th scope=row>R12868</th><td>-0.2212864</td><td>-0.1690303</td><td>-2.5567559</td><td>-0.2006196</td><td>-0.4087876</td></tr>\n",
       "\t<tr><th scope=row>R12869</th><td> 0.5103227</td><td> 0.9584092</td><td> 0.7840415</td><td>-1.3743811</td><td>-0.1361266</td></tr>\n",
       "</tbody>\n",
       "</table>\n"
      ],
      "text/latex": [
       "A data.frame: 6 × 5\n",
       "\\begin{tabular}{r|lllll}\n",
       "  & ENSG00000227232.5 & ENSG00000278267.1 & ENSG00000241860.6 & ENSG00000279457.4 & ENSG00000228463.9\\\\\n",
       "  & <dbl> & <dbl> & <dbl> & <dbl> & <dbl>\\\\\n",
       "\\hline\n",
       "\tR12864 & -0.8093329 &  0.9301722 &  1.1108239 &  1.8798034 &  0.2291668\\\\\n",
       "\tR12865 & -1.4060176 & -0.1068161 &  0.1284273 &  0.9115626 &  2.3465109\\\\\n",
       "\tR12866 & -0.1662045 &  1.1163190 &  0.4828827 &  0.3194174 &  0.4866368\\\\\n",
       "\tR12867 & -0.6309112 &  1.0291770 & -0.2895215 &  1.0903755 &  0.3239602\\\\\n",
       "\tR12868 & -0.2212864 & -0.1690303 & -2.5567559 & -0.2006196 & -0.4087876\\\\\n",
       "\tR12869 &  0.5103227 &  0.9584092 &  0.7840415 & -1.3743811 & -0.1361266\\\\\n",
       "\\end{tabular}\n"
      ],
      "text/markdown": [
       "\n",
       "A data.frame: 6 × 5\n",
       "\n",
       "| <!--/--> | ENSG00000227232.5 &lt;dbl&gt; | ENSG00000278267.1 &lt;dbl&gt; | ENSG00000241860.6 &lt;dbl&gt; | ENSG00000279457.4 &lt;dbl&gt; | ENSG00000228463.9 &lt;dbl&gt; |\n",
       "|---|---|---|---|---|---|\n",
       "| R12864 | -0.8093329 |  0.9301722 |  1.1108239 |  1.8798034 |  0.2291668 |\n",
       "| R12865 | -1.4060176 | -0.1068161 |  0.1284273 |  0.9115626 |  2.3465109 |\n",
       "| R12866 | -0.1662045 |  1.1163190 |  0.4828827 |  0.3194174 |  0.4866368 |\n",
       "| R12867 | -0.6309112 |  1.0291770 | -0.2895215 |  1.0903755 |  0.3239602 |\n",
       "| R12868 | -0.2212864 | -0.1690303 | -2.5567559 | -0.2006196 | -0.4087876 |\n",
       "| R12869 |  0.5103227 |  0.9584092 |  0.7840415 | -1.3743811 | -0.1361266 |\n",
       "\n"
      ],
      "text/plain": [
       "       ENSG00000227232.5 ENSG00000278267.1 ENSG00000241860.6 ENSG00000279457.4\n",
       "R12864 -0.8093329         0.9301722         1.1108239         1.8798034       \n",
       "R12865 -1.4060176        -0.1068161         0.1284273         0.9115626       \n",
       "R12866 -0.1662045         1.1163190         0.4828827         0.3194174       \n",
       "R12867 -0.6309112         1.0291770        -0.2895215         1.0903755       \n",
       "R12868 -0.2212864        -0.1690303        -2.5567559        -0.2006196       \n",
       "R12869  0.5103227         0.9584092         0.7840415        -1.3743811       \n",
       "       ENSG00000228463.9\n",
       "R12864  0.2291668       \n",
       "R12865  2.3465109       \n",
       "R12866  0.4866368       \n",
       "R12867  0.3239602       \n",
       "R12868 -0.4087876       \n",
       "R12869 -0.1361266       "
      ]
     },
     "metadata": {},
     "output_type": "display_data"
    },
    {
     "data": {
      "text/html": [
       "<ol class=list-inline>\n",
       "\t<li>382</li>\n",
       "\t<li>5</li>\n",
       "</ol>\n"
      ],
      "text/latex": [
       "\\begin{enumerate*}\n",
       "\\item 382\n",
       "\\item 5\n",
       "\\end{enumerate*}\n"
      ],
      "text/markdown": [
       "1. 382\n",
       "2. 5\n",
       "\n",
       "\n"
      ],
      "text/plain": [
       "[1] 382   5"
      ]
     },
     "metadata": {},
     "output_type": "display_data"
    }
   ],
   "source": [
    "#create a residualized data frame with the top 5 genes as column names\n",
    "df1 = data.frame(resdf[, sigUp_genes$Feature], stringsAsFactors = FALSE)\n",
    "head(df1)\n",
    "dim(df1)"
   ]
  },
  {
   "cell_type": "code",
   "execution_count": 13,
   "metadata": {},
   "outputs": [
    {
     "data": {
      "text/html": [
       "<table>\n",
       "<caption>A data.frame: 6 × 5</caption>\n",
       "<thead>\n",
       "\t<tr><th></th><th scope=col>ENSG00000114374.12</th><th scope=col>ENSG00000067646.11</th><th scope=col>ENSG00000129824.15</th><th scope=col>ENSG00000067048.16</th><th scope=col>ENSG00000012817.15</th></tr>\n",
       "\t<tr><th></th><th scope=col>&lt;dbl&gt;</th><th scope=col>&lt;dbl&gt;</th><th scope=col>&lt;dbl&gt;</th><th scope=col>&lt;dbl&gt;</th><th scope=col>&lt;dbl&gt;</th></tr>\n",
       "</thead>\n",
       "<tbody>\n",
       "\t<tr><th scope=row>R12864</th><td>-1.4082321</td><td>-1.3168055</td><td>-1.3662858</td><td>-1.3051875</td><td>-1.3017933</td></tr>\n",
       "\t<tr><th scope=row>R12865</th><td> 0.6642595</td><td> 0.6688368</td><td> 0.6552939</td><td> 0.6555047</td><td> 0.6746290</td></tr>\n",
       "\t<tr><th scope=row>R12866</th><td>-1.8087995</td><td>-1.8905380</td><td>-1.7143206</td><td>-1.4352425</td><td>-1.8286255</td></tr>\n",
       "\t<tr><th scope=row>R12867</th><td> 0.7075409</td><td> 0.6474988</td><td> 0.6680822</td><td> 0.6679821</td><td> 0.6648296</td></tr>\n",
       "\t<tr><th scope=row>R12868</th><td> 0.6396349</td><td> 0.6877533</td><td> 0.6253459</td><td> 0.7965086</td><td> 0.6066462</td></tr>\n",
       "\t<tr><th scope=row>R12869</th><td>-1.3099366</td><td>-1.1258478</td><td>-1.2742222</td><td>-1.7285343</td><td>-1.3087960</td></tr>\n",
       "</tbody>\n",
       "</table>\n"
      ],
      "text/latex": [
       "A data.frame: 6 × 5\n",
       "\\begin{tabular}{r|lllll}\n",
       "  & ENSG00000114374.12 & ENSG00000067646.11 & ENSG00000129824.15 & ENSG00000067048.16 & ENSG00000012817.15\\\\\n",
       "  & <dbl> & <dbl> & <dbl> & <dbl> & <dbl>\\\\\n",
       "\\hline\n",
       "\tR12864 & -1.4082321 & -1.3168055 & -1.3662858 & -1.3051875 & -1.3017933\\\\\n",
       "\tR12865 &  0.6642595 &  0.6688368 &  0.6552939 &  0.6555047 &  0.6746290\\\\\n",
       "\tR12866 & -1.8087995 & -1.8905380 & -1.7143206 & -1.4352425 & -1.8286255\\\\\n",
       "\tR12867 &  0.7075409 &  0.6474988 &  0.6680822 &  0.6679821 &  0.6648296\\\\\n",
       "\tR12868 &  0.6396349 &  0.6877533 &  0.6253459 &  0.7965086 &  0.6066462\\\\\n",
       "\tR12869 & -1.3099366 & -1.1258478 & -1.2742222 & -1.7285343 & -1.3087960\\\\\n",
       "\\end{tabular}\n"
      ],
      "text/markdown": [
       "\n",
       "A data.frame: 6 × 5\n",
       "\n",
       "| <!--/--> | ENSG00000114374.12 &lt;dbl&gt; | ENSG00000067646.11 &lt;dbl&gt; | ENSG00000129824.15 &lt;dbl&gt; | ENSG00000067048.16 &lt;dbl&gt; | ENSG00000012817.15 &lt;dbl&gt; |\n",
       "|---|---|---|---|---|---|\n",
       "| R12864 | -1.4082321 | -1.3168055 | -1.3662858 | -1.3051875 | -1.3017933 |\n",
       "| R12865 |  0.6642595 |  0.6688368 |  0.6552939 |  0.6555047 |  0.6746290 |\n",
       "| R12866 | -1.8087995 | -1.8905380 | -1.7143206 | -1.4352425 | -1.8286255 |\n",
       "| R12867 |  0.7075409 |  0.6474988 |  0.6680822 |  0.6679821 |  0.6648296 |\n",
       "| R12868 |  0.6396349 |  0.6877533 |  0.6253459 |  0.7965086 |  0.6066462 |\n",
       "| R12869 | -1.3099366 | -1.1258478 | -1.2742222 | -1.7285343 | -1.3087960 |\n",
       "\n"
      ],
      "text/plain": [
       "       ENSG00000114374.12 ENSG00000067646.11 ENSG00000129824.15\n",
       "R12864 -1.4082321         -1.3168055         -1.3662858        \n",
       "R12865  0.6642595          0.6688368          0.6552939        \n",
       "R12866 -1.8087995         -1.8905380         -1.7143206        \n",
       "R12867  0.7075409          0.6474988          0.6680822        \n",
       "R12868  0.6396349          0.6877533          0.6253459        \n",
       "R12869 -1.3099366         -1.1258478         -1.2742222        \n",
       "       ENSG00000067048.16 ENSG00000012817.15\n",
       "R12864 -1.3051875         -1.3017933        \n",
       "R12865  0.6555047          0.6746290        \n",
       "R12866 -1.4352425         -1.8286255        \n",
       "R12867  0.6679821          0.6648296        \n",
       "R12868  0.7965086          0.6066462        \n",
       "R12869 -1.7285343         -1.3087960        "
      ]
     },
     "metadata": {},
     "output_type": "display_data"
    }
   ],
   "source": [
    "df1 = data.frame(resdf[, aa$Feature], stringsAsFactors = FALSE)\n",
    "head(df1)"
   ]
  },
  {
   "cell_type": "code",
   "execution_count": 14,
   "metadata": {},
   "outputs": [
    {
     "data": {
      "text/html": [
       "<table>\n",
       "<caption>A data.frame: 6 × 3</caption>\n",
       "<thead>\n",
       "\t<tr><th scope=col>RNum</th><th scope=col>Feature</th><th scope=col>res</th></tr>\n",
       "\t<tr><th scope=col>&lt;chr&gt;</th><th scope=col>&lt;fct&gt;</th><th scope=col>&lt;dbl&gt;</th></tr>\n",
       "</thead>\n",
       "<tbody>\n",
       "\t<tr><td>R12864</td><td>ENSG00000114374.12</td><td>-1.4082321</td></tr>\n",
       "\t<tr><td>R12865</td><td>ENSG00000114374.12</td><td> 0.6642595</td></tr>\n",
       "\t<tr><td>R12866</td><td>ENSG00000114374.12</td><td>-1.8087995</td></tr>\n",
       "\t<tr><td>R12867</td><td>ENSG00000114374.12</td><td> 0.7075409</td></tr>\n",
       "\t<tr><td>R12868</td><td>ENSG00000114374.12</td><td> 0.6396349</td></tr>\n",
       "\t<tr><td>R12869</td><td>ENSG00000114374.12</td><td>-1.3099366</td></tr>\n",
       "</tbody>\n",
       "</table>\n"
      ],
      "text/latex": [
       "A data.frame: 6 × 3\n",
       "\\begin{tabular}{r|lll}\n",
       " RNum & Feature & res\\\\\n",
       " <chr> & <fct> & <dbl>\\\\\n",
       "\\hline\n",
       "\t R12864 & ENSG00000114374.12 & -1.4082321\\\\\n",
       "\t R12865 & ENSG00000114374.12 &  0.6642595\\\\\n",
       "\t R12866 & ENSG00000114374.12 & -1.8087995\\\\\n",
       "\t R12867 & ENSG00000114374.12 &  0.7075409\\\\\n",
       "\t R12868 & ENSG00000114374.12 &  0.6396349\\\\\n",
       "\t R12869 & ENSG00000114374.12 & -1.3099366\\\\\n",
       "\\end{tabular}\n"
      ],
      "text/markdown": [
       "\n",
       "A data.frame: 6 × 3\n",
       "\n",
       "| RNum &lt;chr&gt; | Feature &lt;fct&gt; | res &lt;dbl&gt; |\n",
       "|---|---|---|\n",
       "| R12864 | ENSG00000114374.12 | -1.4082321 |\n",
       "| R12865 | ENSG00000114374.12 |  0.6642595 |\n",
       "| R12866 | ENSG00000114374.12 | -1.8087995 |\n",
       "| R12867 | ENSG00000114374.12 |  0.7075409 |\n",
       "| R12868 | ENSG00000114374.12 |  0.6396349 |\n",
       "| R12869 | ENSG00000114374.12 | -1.3099366 |\n",
       "\n"
      ],
      "text/plain": [
       "  RNum   Feature            res       \n",
       "1 R12864 ENSG00000114374.12 -1.4082321\n",
       "2 R12865 ENSG00000114374.12  0.6642595\n",
       "3 R12866 ENSG00000114374.12 -1.8087995\n",
       "4 R12867 ENSG00000114374.12  0.7075409\n",
       "5 R12868 ENSG00000114374.12  0.6396349\n",
       "6 R12869 ENSG00000114374.12 -1.3099366"
      ]
     },
     "metadata": {},
     "output_type": "display_data"
    }
   ],
   "source": [
    "#make RNum IDs the rows\n",
    "df1['RNum'] = row.names(df1)\n",
    "#\n",
    "df1 = melt(df1, id.vars=\"RNum\", value.name = \"res\", variable.name=\"Feature\")\n",
    "head(df1)"
   ]
  },
  {
   "cell_type": "code",
   "execution_count": 15,
   "metadata": {},
   "outputs": [
    {
     "data": {
      "text/html": [
       "<table>\n",
       "<caption>A data.frame: 2 × 5</caption>\n",
       "<thead>\n",
       "\t<tr><th scope=col>Feature</th><th scope=col>RNum</th><th scope=col>res</th><th scope=col>Dir</th><th scope=col>adj.P.Val</th></tr>\n",
       "\t<tr><th scope=col>&lt;fct&gt;</th><th scope=col>&lt;chr&gt;</th><th scope=col>&lt;dbl&gt;</th><th scope=col>&lt;chr&gt;</th><th scope=col>&lt;dbl&gt;</th></tr>\n",
       "</thead>\n",
       "<tbody>\n",
       "\t<tr><td>ENSG00000012817.15</td><td>R12864</td><td>-1.301793</td><td>Up</td><td>7.442547e-235</td></tr>\n",
       "\t<tr><td>ENSG00000012817.15</td><td>R12865</td><td> 0.674629</td><td>Up</td><td>7.442547e-235</td></tr>\n",
       "</tbody>\n",
       "</table>\n"
      ],
      "text/latex": [
       "A data.frame: 2 × 5\n",
       "\\begin{tabular}{r|lllll}\n",
       " Feature & RNum & res & Dir & adj.P.Val\\\\\n",
       " <fct> & <chr> & <dbl> & <chr> & <dbl>\\\\\n",
       "\\hline\n",
       "\t ENSG00000012817.15 & R12864 & -1.301793 & Up & 7.442547e-235\\\\\n",
       "\t ENSG00000012817.15 & R12865 &  0.674629 & Up & 7.442547e-235\\\\\n",
       "\\end{tabular}\n"
      ],
      "text/markdown": [
       "\n",
       "A data.frame: 2 × 5\n",
       "\n",
       "| Feature &lt;fct&gt; | RNum &lt;chr&gt; | res &lt;dbl&gt; | Dir &lt;chr&gt; | adj.P.Val &lt;dbl&gt; |\n",
       "|---|---|---|---|---|\n",
       "| ENSG00000012817.15 | R12864 | -1.301793 | Up | 7.442547e-235 |\n",
       "| ENSG00000012817.15 | R12865 |  0.674629 | Up | 7.442547e-235 |\n",
       "\n"
      ],
      "text/plain": [
       "  Feature            RNum   res       Dir adj.P.Val    \n",
       "1 ENSG00000012817.15 R12864 -1.301793 Up  7.442547e-235\n",
       "2 ENSG00000012817.15 R12865  0.674629 Up  7.442547e-235"
      ]
     },
     "metadata": {},
     "output_type": "display_data"
    }
   ],
   "source": [
    "df1 = merge(df1, sigUp_genes, by='Feature')\n",
    "head(df1, 2)"
   ]
  },
  {
   "cell_type": "markdown",
   "metadata": {},
   "source": [
    "### Merge data with phenotypes"
   ]
  },
  {
   "cell_type": "code",
   "execution_count": 16,
   "metadata": {
    "scrolled": false
   },
   "outputs": [
    {
     "data": {
      "text/html": [
       "<ol class=list-inline>\n",
       "\t<li>1910</li>\n",
       "\t<li>13</li>\n",
       "</ol>\n"
      ],
      "text/latex": [
       "\\begin{enumerate*}\n",
       "\\item 1910\n",
       "\\item 13\n",
       "\\end{enumerate*}\n"
      ],
      "text/markdown": [
       "1. 1910\n",
       "2. 13\n",
       "\n",
       "\n"
      ],
      "text/plain": [
       "[1] 1910   13"
      ]
     },
     "metadata": {},
     "output_type": "display_data"
    },
    {
     "data": {
      "text/html": [
       "<table>\n",
       "<caption>A data.frame: 6 × 13</caption>\n",
       "<thead>\n",
       "\t<tr><th scope=col>RNum</th><th scope=col>BrNum</th><th scope=col>primarydx</th><th scope=col>sex</th><th scope=col>race</th><th scope=col>Protocol</th><th scope=col>RIN</th><th scope=col>Region</th><th scope=col>agedeath</th><th scope=col>Feature</th><th scope=col>res</th><th scope=col>Dir</th><th scope=col>adj.P.Val</th></tr>\n",
       "\t<tr><th scope=col>&lt;chr&gt;</th><th scope=col>&lt;fct&gt;</th><th scope=col>&lt;fct&gt;</th><th scope=col>&lt;fct&gt;</th><th scope=col>&lt;fct&gt;</th><th scope=col>&lt;fct&gt;</th><th scope=col>&lt;dbl&gt;</th><th scope=col>&lt;fct&gt;</th><th scope=col>&lt;dbl&gt;</th><th scope=col>&lt;fct&gt;</th><th scope=col>&lt;dbl&gt;</th><th scope=col>&lt;chr&gt;</th><th scope=col>&lt;dbl&gt;</th></tr>\n",
       "</thead>\n",
       "<tbody>\n",
       "\t<tr><td>R12864</td><td>Br1303</td><td>Schizo</td><td>F</td><td>AA</td><td>RiboZeroGold</td><td>9.6</td><td>Caudate</td><td>42.98</td><td>ENSG00000067048.16</td><td>-1.305187</td><td>Up</td><td>3.905229e-235</td></tr>\n",
       "\t<tr><td>R12864</td><td>Br1303</td><td>Schizo</td><td>F</td><td>AA</td><td>RiboZeroGold</td><td>9.6</td><td>Caudate</td><td>42.98</td><td>ENSG00000012817.15</td><td>-1.301793</td><td>Up</td><td>7.442547e-235</td></tr>\n",
       "\t<tr><td>R12864</td><td>Br1303</td><td>Schizo</td><td>F</td><td>AA</td><td>RiboZeroGold</td><td>9.6</td><td>Caudate</td><td>42.98</td><td>ENSG00000114374.12</td><td>-1.408232</td><td>Up</td><td>1.179960e-251</td></tr>\n",
       "\t<tr><td>R12864</td><td>Br1303</td><td>Schizo</td><td>F</td><td>AA</td><td>RiboZeroGold</td><td>9.6</td><td>Caudate</td><td>42.98</td><td>ENSG00000067646.11</td><td>-1.316805</td><td>Up</td><td>3.519771e-237</td></tr>\n",
       "\t<tr><td>R12864</td><td>Br1303</td><td>Schizo</td><td>F</td><td>AA</td><td>RiboZeroGold</td><td>9.6</td><td>Caudate</td><td>42.98</td><td>ENSG00000129824.15</td><td>-1.366286</td><td>Up</td><td>7.416243e-236</td></tr>\n",
       "\t<tr><td>R12865</td><td>Br1320</td><td>Schizo</td><td>M</td><td>AA</td><td>RiboZeroGold</td><td>9.5</td><td>Caudate</td><td>53.12</td><td>ENSG00000012817.15</td><td> 0.674629</td><td>Up</td><td>7.442547e-235</td></tr>\n",
       "</tbody>\n",
       "</table>\n"
      ],
      "text/latex": [
       "A data.frame: 6 × 13\n",
       "\\begin{tabular}{r|lllllllllllll}\n",
       " RNum & BrNum & primarydx & sex & race & Protocol & RIN & Region & agedeath & Feature & res & Dir & adj.P.Val\\\\\n",
       " <chr> & <fct> & <fct> & <fct> & <fct> & <fct> & <dbl> & <fct> & <dbl> & <fct> & <dbl> & <chr> & <dbl>\\\\\n",
       "\\hline\n",
       "\t R12864 & Br1303 & Schizo & F & AA & RiboZeroGold & 9.6 & Caudate & 42.98 & ENSG00000067048.16 & -1.305187 & Up & 3.905229e-235\\\\\n",
       "\t R12864 & Br1303 & Schizo & F & AA & RiboZeroGold & 9.6 & Caudate & 42.98 & ENSG00000012817.15 & -1.301793 & Up & 7.442547e-235\\\\\n",
       "\t R12864 & Br1303 & Schizo & F & AA & RiboZeroGold & 9.6 & Caudate & 42.98 & ENSG00000114374.12 & -1.408232 & Up & 1.179960e-251\\\\\n",
       "\t R12864 & Br1303 & Schizo & F & AA & RiboZeroGold & 9.6 & Caudate & 42.98 & ENSG00000067646.11 & -1.316805 & Up & 3.519771e-237\\\\\n",
       "\t R12864 & Br1303 & Schizo & F & AA & RiboZeroGold & 9.6 & Caudate & 42.98 & ENSG00000129824.15 & -1.366286 & Up & 7.416243e-236\\\\\n",
       "\t R12865 & Br1320 & Schizo & M & AA & RiboZeroGold & 9.5 & Caudate & 53.12 & ENSG00000012817.15 &  0.674629 & Up & 7.442547e-235\\\\\n",
       "\\end{tabular}\n"
      ],
      "text/markdown": [
       "\n",
       "A data.frame: 6 × 13\n",
       "\n",
       "| RNum &lt;chr&gt; | BrNum &lt;fct&gt; | primarydx &lt;fct&gt; | sex &lt;fct&gt; | race &lt;fct&gt; | Protocol &lt;fct&gt; | RIN &lt;dbl&gt; | Region &lt;fct&gt; | agedeath &lt;dbl&gt; | Feature &lt;fct&gt; | res &lt;dbl&gt; | Dir &lt;chr&gt; | adj.P.Val &lt;dbl&gt; |\n",
       "|---|---|---|---|---|---|---|---|---|---|---|---|---|\n",
       "| R12864 | Br1303 | Schizo | F | AA | RiboZeroGold | 9.6 | Caudate | 42.98 | ENSG00000067048.16 | -1.305187 | Up | 3.905229e-235 |\n",
       "| R12864 | Br1303 | Schizo | F | AA | RiboZeroGold | 9.6 | Caudate | 42.98 | ENSG00000012817.15 | -1.301793 | Up | 7.442547e-235 |\n",
       "| R12864 | Br1303 | Schizo | F | AA | RiboZeroGold | 9.6 | Caudate | 42.98 | ENSG00000114374.12 | -1.408232 | Up | 1.179960e-251 |\n",
       "| R12864 | Br1303 | Schizo | F | AA | RiboZeroGold | 9.6 | Caudate | 42.98 | ENSG00000067646.11 | -1.316805 | Up | 3.519771e-237 |\n",
       "| R12864 | Br1303 | Schizo | F | AA | RiboZeroGold | 9.6 | Caudate | 42.98 | ENSG00000129824.15 | -1.366286 | Up | 7.416243e-236 |\n",
       "| R12865 | Br1320 | Schizo | M | AA | RiboZeroGold | 9.5 | Caudate | 53.12 | ENSG00000012817.15 |  0.674629 | Up | 7.442547e-235 |\n",
       "\n"
      ],
      "text/plain": [
       "  RNum   BrNum  primarydx sex race Protocol     RIN Region  agedeath\n",
       "1 R12864 Br1303 Schizo    F   AA   RiboZeroGold 9.6 Caudate 42.98   \n",
       "2 R12864 Br1303 Schizo    F   AA   RiboZeroGold 9.6 Caudate 42.98   \n",
       "3 R12864 Br1303 Schizo    F   AA   RiboZeroGold 9.6 Caudate 42.98   \n",
       "4 R12864 Br1303 Schizo    F   AA   RiboZeroGold 9.6 Caudate 42.98   \n",
       "5 R12864 Br1303 Schizo    F   AA   RiboZeroGold 9.6 Caudate 42.98   \n",
       "6 R12865 Br1320 Schizo    M   AA   RiboZeroGold 9.5 Caudate 53.12   \n",
       "  Feature            res       Dir adj.P.Val    \n",
       "1 ENSG00000067048.16 -1.305187 Up  3.905229e-235\n",
       "2 ENSG00000012817.15 -1.301793 Up  7.442547e-235\n",
       "3 ENSG00000114374.12 -1.408232 Up  1.179960e-251\n",
       "4 ENSG00000067646.11 -1.316805 Up  3.519771e-237\n",
       "5 ENSG00000129824.15 -1.366286 Up  7.416243e-236\n",
       "6 ENSG00000012817.15  0.674629 Up  7.442547e-235"
      ]
     },
     "metadata": {},
     "output_type": "display_data"
    },
    {
     "data": {
      "text/html": [
       "<table>\n",
       "<caption>A data.frame: 6 × 13</caption>\n",
       "<thead>\n",
       "\t<tr><th></th><th scope=col>RNum</th><th scope=col>BrNum</th><th scope=col>primarydx</th><th scope=col>sex</th><th scope=col>race</th><th scope=col>Protocol</th><th scope=col>RIN</th><th scope=col>Region</th><th scope=col>agedeath</th><th scope=col>Feature</th><th scope=col>res</th><th scope=col>Dir</th><th scope=col>adj.P.Val</th></tr>\n",
       "\t<tr><th></th><th scope=col>&lt;chr&gt;</th><th scope=col>&lt;fct&gt;</th><th scope=col>&lt;fct&gt;</th><th scope=col>&lt;fct&gt;</th><th scope=col>&lt;fct&gt;</th><th scope=col>&lt;fct&gt;</th><th scope=col>&lt;dbl&gt;</th><th scope=col>&lt;fct&gt;</th><th scope=col>&lt;dbl&gt;</th><th scope=col>&lt;fct&gt;</th><th scope=col>&lt;dbl&gt;</th><th scope=col>&lt;chr&gt;</th><th scope=col>&lt;dbl&gt;</th></tr>\n",
       "</thead>\n",
       "<tbody>\n",
       "\t<tr><th scope=row>3</th><td>R12864</td><td>Br1303</td><td>Schizo</td><td>F</td><td>AA</td><td>RiboZeroGold</td><td>9.6</td><td>Caudate</td><td>42.98</td><td>ENSG00000114374.12</td><td>-1.4082321</td><td>Up</td><td>1.17996e-251</td></tr>\n",
       "\t<tr><th scope=row>7</th><td>R12865</td><td>Br1320</td><td>Schizo</td><td>M</td><td>AA</td><td>RiboZeroGold</td><td>9.5</td><td>Caudate</td><td>53.12</td><td>ENSG00000114374.12</td><td> 0.6642595</td><td>Up</td><td>1.17996e-251</td></tr>\n",
       "\t<tr><th scope=row>15</th><td>R12866</td><td>Br1321</td><td>Schizo</td><td>F</td><td>AA</td><td>RiboZeroGold</td><td>9.1</td><td>Caudate</td><td>57.13</td><td>ENSG00000114374.12</td><td>-1.8087995</td><td>Up</td><td>1.17996e-251</td></tr>\n",
       "\t<tr><th scope=row>19</th><td>R12867</td><td>Br1326</td><td>Schizo</td><td>M</td><td>AA</td><td>RiboZeroGold</td><td>9.2</td><td>Caudate</td><td>74.56</td><td>ENSG00000114374.12</td><td> 0.7075409</td><td>Up</td><td>1.17996e-251</td></tr>\n",
       "\t<tr><th scope=row>22</th><td>R12868</td><td>Br1418</td><td>Schizo</td><td>M</td><td>AA</td><td>RiboZeroGold</td><td>9.5</td><td>Caudate</td><td>43.35</td><td>ENSG00000114374.12</td><td> 0.6396349</td><td>Up</td><td>1.17996e-251</td></tr>\n",
       "\t<tr><th scope=row>30</th><td>R12869</td><td>Br1420</td><td>Schizo</td><td>F</td><td>AA</td><td>RiboZeroGold</td><td>9.1</td><td>Caudate</td><td>80.20</td><td>ENSG00000114374.12</td><td>-1.3099366</td><td>Up</td><td>1.17996e-251</td></tr>\n",
       "</tbody>\n",
       "</table>\n"
      ],
      "text/latex": [
       "A data.frame: 6 × 13\n",
       "\\begin{tabular}{r|lllllllllllll}\n",
       "  & RNum & BrNum & primarydx & sex & race & Protocol & RIN & Region & agedeath & Feature & res & Dir & adj.P.Val\\\\\n",
       "  & <chr> & <fct> & <fct> & <fct> & <fct> & <fct> & <dbl> & <fct> & <dbl> & <fct> & <dbl> & <chr> & <dbl>\\\\\n",
       "\\hline\n",
       "\t3 & R12864 & Br1303 & Schizo & F & AA & RiboZeroGold & 9.6 & Caudate & 42.98 & ENSG00000114374.12 & -1.4082321 & Up & 1.17996e-251\\\\\n",
       "\t7 & R12865 & Br1320 & Schizo & M & AA & RiboZeroGold & 9.5 & Caudate & 53.12 & ENSG00000114374.12 &  0.6642595 & Up & 1.17996e-251\\\\\n",
       "\t15 & R12866 & Br1321 & Schizo & F & AA & RiboZeroGold & 9.1 & Caudate & 57.13 & ENSG00000114374.12 & -1.8087995 & Up & 1.17996e-251\\\\\n",
       "\t19 & R12867 & Br1326 & Schizo & M & AA & RiboZeroGold & 9.2 & Caudate & 74.56 & ENSG00000114374.12 &  0.7075409 & Up & 1.17996e-251\\\\\n",
       "\t22 & R12868 & Br1418 & Schizo & M & AA & RiboZeroGold & 9.5 & Caudate & 43.35 & ENSG00000114374.12 &  0.6396349 & Up & 1.17996e-251\\\\\n",
       "\t30 & R12869 & Br1420 & Schizo & F & AA & RiboZeroGold & 9.1 & Caudate & 80.20 & ENSG00000114374.12 & -1.3099366 & Up & 1.17996e-251\\\\\n",
       "\\end{tabular}\n"
      ],
      "text/markdown": [
       "\n",
       "A data.frame: 6 × 13\n",
       "\n",
       "| <!--/--> | RNum &lt;chr&gt; | BrNum &lt;fct&gt; | primarydx &lt;fct&gt; | sex &lt;fct&gt; | race &lt;fct&gt; | Protocol &lt;fct&gt; | RIN &lt;dbl&gt; | Region &lt;fct&gt; | agedeath &lt;dbl&gt; | Feature &lt;fct&gt; | res &lt;dbl&gt; | Dir &lt;chr&gt; | adj.P.Val &lt;dbl&gt; |\n",
       "|---|---|---|---|---|---|---|---|---|---|---|---|---|---|\n",
       "| 3 | R12864 | Br1303 | Schizo | F | AA | RiboZeroGold | 9.6 | Caudate | 42.98 | ENSG00000114374.12 | -1.4082321 | Up | 1.17996e-251 |\n",
       "| 7 | R12865 | Br1320 | Schizo | M | AA | RiboZeroGold | 9.5 | Caudate | 53.12 | ENSG00000114374.12 |  0.6642595 | Up | 1.17996e-251 |\n",
       "| 15 | R12866 | Br1321 | Schizo | F | AA | RiboZeroGold | 9.1 | Caudate | 57.13 | ENSG00000114374.12 | -1.8087995 | Up | 1.17996e-251 |\n",
       "| 19 | R12867 | Br1326 | Schizo | M | AA | RiboZeroGold | 9.2 | Caudate | 74.56 | ENSG00000114374.12 |  0.7075409 | Up | 1.17996e-251 |\n",
       "| 22 | R12868 | Br1418 | Schizo | M | AA | RiboZeroGold | 9.5 | Caudate | 43.35 | ENSG00000114374.12 |  0.6396349 | Up | 1.17996e-251 |\n",
       "| 30 | R12869 | Br1420 | Schizo | F | AA | RiboZeroGold | 9.1 | Caudate | 80.20 | ENSG00000114374.12 | -1.3099366 | Up | 1.17996e-251 |\n",
       "\n"
      ],
      "text/plain": [
       "   RNum   BrNum  primarydx sex race Protocol     RIN Region  agedeath\n",
       "3  R12864 Br1303 Schizo    F   AA   RiboZeroGold 9.6 Caudate 42.98   \n",
       "7  R12865 Br1320 Schizo    M   AA   RiboZeroGold 9.5 Caudate 53.12   \n",
       "15 R12866 Br1321 Schizo    F   AA   RiboZeroGold 9.1 Caudate 57.13   \n",
       "19 R12867 Br1326 Schizo    M   AA   RiboZeroGold 9.2 Caudate 74.56   \n",
       "22 R12868 Br1418 Schizo    M   AA   RiboZeroGold 9.5 Caudate 43.35   \n",
       "30 R12869 Br1420 Schizo    F   AA   RiboZeroGold 9.1 Caudate 80.20   \n",
       "   Feature            res        Dir adj.P.Val   \n",
       "3  ENSG00000114374.12 -1.4082321 Up  1.17996e-251\n",
       "7  ENSG00000114374.12  0.6642595 Up  1.17996e-251\n",
       "15 ENSG00000114374.12 -1.8087995 Up  1.17996e-251\n",
       "19 ENSG00000114374.12  0.7075409 Up  1.17996e-251\n",
       "22 ENSG00000114374.12  0.6396349 Up  1.17996e-251\n",
       "30 ENSG00000114374.12 -1.3099366 Up  1.17996e-251"
      ]
     },
     "metadata": {},
     "output_type": "display_data"
    }
   ],
   "source": [
    "bigdf1 = merge(pheno, df1, by='RNum')\n",
    "dim(bigdf1)\n",
    "head(bigdf1)\n",
    "\n",
    "bigdf1_ordered <- bigdf1[order(bigdf1$adj.P.Val),]\n",
    "head(bigdf1_ordered)"
   ]
  },
  {
   "cell_type": "markdown",
   "metadata": {},
   "source": [
    "### Add gene names"
   ]
  },
  {
   "cell_type": "code",
   "execution_count": 17,
   "metadata": {},
   "outputs": [],
   "source": [
    "up_gene_names <- list(\n",
    "  'ENSG00000114374.12'=\"USP9Y\",\n",
    "  'ENSG00000067646.11'=\"ZFY\",\n",
    "  'ENSG00000129824.15'=\"RPS4Y1\",\n",
    "  'ENSG00000067048.16'=\"DDX3Y\",\n",
    "  'ENSG00000012817.15'=\"KDM5D\"\n",
    ")"
   ]
  },
  {
   "cell_type": "code",
   "execution_count": 18,
   "metadata": {},
   "outputs": [],
   "source": [
    "up_gene_labeller <- function(variable,value){\n",
    "  return(up_gene_names[value])\n",
    "}"
   ]
  },
  {
   "cell_type": "markdown",
   "metadata": {},
   "source": [
    "### Plot genes"
   ]
  },
  {
   "cell_type": "code",
   "execution_count": 19,
   "metadata": {},
   "outputs": [
    {
     "name": "stderr",
     "output_type": "stream",
     "text": [
      "Warning message:\n",
      "“The labeller API has been updated. Labellers taking `variable`and `value` arguments are now deprecated. See labellers documentation.”"
     ]
    },
    {
     "data": {
      "image/png": "[encoded data removed]",
      "text/plain": [
       "plot without title"
      ]
     },
     "metadata": {},
     "output_type": "display_data"
    }
   ],
   "source": [
    "pp = (ggplot(bigdf1, aes(x=sex, y=res, fill=sex)) + geom_violin() + \n",
    "      labs(x='Sex', y='Residual Expression') + facet_grid('Dir~Feature', labeller = up_gene_labeller) +\n",
    "      stat_summary(geom='point', position='identity', fun.y=median, fill='black') + theme_bw() +\n",
    "      theme(axis.text.x=element_blank(), axis.text.y=element_text(size=18), \n",
    "                         axis.title.y=element_text(size=21, face='bold'), axis.title.x=element_blank(),\n",
    "                         strip.text.x=element_text(size=18, face='bold'), strip.text.y=element_blank(), \n",
    "                         legend.text=element_text(size=16), legend.title=element_blank()))\n",
    "pp"
   ]
  },
  {
   "cell_type": "code",
   "execution_count": 20,
   "metadata": {},
   "outputs": [],
   "source": [
    "ggsave(pp, filename = 'top5_upregulated_violinPlot.pdf', width = 10, height=4)\n",
    "ggsave(pp, filename = 'top5_upregulated_violinPlot.svg', width = 10, height=4)\n",
    "ggsave(pp, filename = 'top5_upregulated_violinPlot.png', width = 10, height=4)"
   ]
  },
  {
   "cell_type": "markdown",
   "metadata": {},
   "source": [
    "## Down-regulated"
   ]
  },
  {
   "cell_type": "markdown",
   "metadata": {},
   "source": [
    "### Subset residualized dataframe"
   ]
  },
  {
   "cell_type": "code",
   "execution_count": 21,
   "metadata": {},
   "outputs": [
    {
     "data": {
      "text/html": [
       "<table>\n",
       "<caption>A data.frame: 5 × 4</caption>\n",
       "<thead>\n",
       "\t<tr><th></th><th scope=col>Feature</th><th scope=col>Dir</th><th scope=col>adj.P.Val</th><th scope=col>Symbol</th></tr>\n",
       "\t<tr><th></th><th scope=col>&lt;fct&gt;</th><th scope=col>&lt;chr&gt;</th><th scope=col>&lt;dbl&gt;</th><th scope=col>&lt;fct&gt;</th></tr>\n",
       "</thead>\n",
       "<tbody>\n",
       "\t<tr><th scope=row>1</th><td>ENSG00000229807.10</td><td>Down</td><td>3.012466e-257</td><td>ENSG00000229807.10</td></tr>\n",
       "\t<tr><th scope=row>22</th><td>ENSG00000005889.15</td><td>Down</td><td>1.417051e-185</td><td>ENSG00000005889.15</td></tr>\n",
       "\t<tr><th scope=row>28</th><td>ENSG00000126012.11</td><td>Down</td><td>4.439136e-136</td><td>ENSG00000126012.11</td></tr>\n",
       "\t<tr><th scope=row>30</th><td>ENSG00000147050.14</td><td>Down</td><td>6.551931e-117</td><td>ENSG00000147050.14</td></tr>\n",
       "\t<tr><th scope=row>34</th><td>ENSG00000130021.13</td><td>Down</td><td> 1.091522e-89</td><td>ENSG00000130021.13</td></tr>\n",
       "</tbody>\n",
       "</table>\n"
      ],
      "text/latex": [
       "A data.frame: 5 × 4\n",
       "\\begin{tabular}{r|llll}\n",
       "  & Feature & Dir & adj.P.Val & Symbol\\\\\n",
       "  & <fct> & <chr> & <dbl> & <fct>\\\\\n",
       "\\hline\n",
       "\t1 & ENSG00000229807.10 & Down & 3.012466e-257 & ENSG00000229807.10\\\\\n",
       "\t22 & ENSG00000005889.15 & Down & 1.417051e-185 & ENSG00000005889.15\\\\\n",
       "\t28 & ENSG00000126012.11 & Down & 4.439136e-136 & ENSG00000126012.11\\\\\n",
       "\t30 & ENSG00000147050.14 & Down & 6.551931e-117 & ENSG00000147050.14\\\\\n",
       "\t34 & ENSG00000130021.13 & Down &  1.091522e-89 & ENSG00000130021.13\\\\\n",
       "\\end{tabular}\n"
      ],
      "text/markdown": [
       "\n",
       "A data.frame: 5 × 4\n",
       "\n",
       "| <!--/--> | Feature &lt;fct&gt; | Dir &lt;chr&gt; | adj.P.Val &lt;dbl&gt; | Symbol &lt;fct&gt; |\n",
       "|---|---|---|---|---|\n",
       "| 1 | ENSG00000229807.10 | Down | 3.012466e-257 | ENSG00000229807.10 |\n",
       "| 22 | ENSG00000005889.15 | Down | 1.417051e-185 | ENSG00000005889.15 |\n",
       "| 28 | ENSG00000126012.11 | Down | 4.439136e-136 | ENSG00000126012.11 |\n",
       "| 30 | ENSG00000147050.14 | Down | 6.551931e-117 | ENSG00000147050.14 |\n",
       "| 34 | ENSG00000130021.13 | Down |  1.091522e-89 | ENSG00000130021.13 |\n",
       "\n"
      ],
      "text/plain": [
       "   Feature            Dir  adj.P.Val     Symbol            \n",
       "1  ENSG00000229807.10 Down 3.012466e-257 ENSG00000229807.10\n",
       "22 ENSG00000005889.15 Down 1.417051e-185 ENSG00000005889.15\n",
       "28 ENSG00000126012.11 Down 4.439136e-136 ENSG00000126012.11\n",
       "30 ENSG00000147050.14 Down 6.551931e-117 ENSG00000147050.14\n",
       "34 ENSG00000130021.13 Down  1.091522e-89 ENSG00000130021.13"
      ]
     },
     "metadata": {},
     "output_type": "display_data"
    }
   ],
   "source": [
    "down_genes = subset(genes, logFC < 0)\n",
    "down_genes['Dir'] = 'Down'\n",
    "sigDown_genes = head(subset(down_genes, select=c(Feature, Dir, adj.P.Val)), 5)\n",
    "sigDown_genes = droplevels(sigDown_genes)\n",
    "sigDown_genes$Symbol = with(sigDown_genes, reorder(Feature, adj.P.Val, median))\n",
    "#levels(sigDown_genes$Symbol)[5] = 'Unannotated'\n",
    "sigDown_genes"
   ]
  },
  {
   "cell_type": "code",
   "execution_count": 22,
   "metadata": {},
   "outputs": [
    {
     "data": {
      "text/html": [
       "<ol class=list-inline>\n",
       "\t<li>'ENSG00000229807.10'</li>\n",
       "\t<li>'ENSG00000005889.15'</li>\n",
       "\t<li>'ENSG00000126012.11'</li>\n",
       "\t<li>'ENSG00000147050.14'</li>\n",
       "\t<li>'ENSG00000130021.13'</li>\n",
       "</ol>\n"
      ],
      "text/latex": [
       "\\begin{enumerate*}\n",
       "\\item 'ENSG00000229807.10'\n",
       "\\item 'ENSG00000005889.15'\n",
       "\\item 'ENSG00000126012.11'\n",
       "\\item 'ENSG00000147050.14'\n",
       "\\item 'ENSG00000130021.13'\n",
       "\\end{enumerate*}\n"
      ],
      "text/markdown": [
       "1. 'ENSG00000229807.10'\n",
       "2. 'ENSG00000005889.15'\n",
       "3. 'ENSG00000126012.11'\n",
       "4. 'ENSG00000147050.14'\n",
       "5. 'ENSG00000130021.13'\n",
       "\n",
       "\n"
      ],
      "text/plain": [
       "[1] \"ENSG00000229807.10\" \"ENSG00000005889.15\" \"ENSG00000126012.11\"\n",
       "[4] \"ENSG00000147050.14\" \"ENSG00000130021.13\""
      ]
     },
     "metadata": {},
     "output_type": "display_data"
    }
   ],
   "source": [
    "sigDown_genes$Feature <- as.character(sigDown_genes$Feature)\n",
    "sigDown_genes$Feature"
   ]
  },
  {
   "cell_type": "code",
   "execution_count": 23,
   "metadata": {},
   "outputs": [
    {
     "data": {
      "text/html": [
       "<table>\n",
       "<caption>A data.frame: 2 × 3</caption>\n",
       "<thead>\n",
       "\t<tr><th scope=col>RNum</th><th scope=col>Feature</th><th scope=col>res</th></tr>\n",
       "\t<tr><th scope=col>&lt;chr&gt;</th><th scope=col>&lt;fct&gt;</th><th scope=col>&lt;dbl&gt;</th></tr>\n",
       "</thead>\n",
       "<tbody>\n",
       "\t<tr><td>R12864</td><td>ENSG00000229807.10</td><td> 1.405218</td></tr>\n",
       "\t<tr><td>R12865</td><td>ENSG00000229807.10</td><td>-1.271826</td></tr>\n",
       "</tbody>\n",
       "</table>\n"
      ],
      "text/latex": [
       "A data.frame: 2 × 3\n",
       "\\begin{tabular}{r|lll}\n",
       " RNum & Feature & res\\\\\n",
       " <chr> & <fct> & <dbl>\\\\\n",
       "\\hline\n",
       "\t R12864 & ENSG00000229807.10 &  1.405218\\\\\n",
       "\t R12865 & ENSG00000229807.10 & -1.271826\\\\\n",
       "\\end{tabular}\n"
      ],
      "text/markdown": [
       "\n",
       "A data.frame: 2 × 3\n",
       "\n",
       "| RNum &lt;chr&gt; | Feature &lt;fct&gt; | res &lt;dbl&gt; |\n",
       "|---|---|---|\n",
       "| R12864 | ENSG00000229807.10 |  1.405218 |\n",
       "| R12865 | ENSG00000229807.10 | -1.271826 |\n",
       "\n"
      ],
      "text/plain": [
       "  RNum   Feature            res      \n",
       "1 R12864 ENSG00000229807.10  1.405218\n",
       "2 R12865 ENSG00000229807.10 -1.271826"
      ]
     },
     "metadata": {},
     "output_type": "display_data"
    }
   ],
   "source": [
    "df2 = data.frame(resdf[, sigDown_genes$Feature])\n",
    "df2['RNum'] = row.names(df2)\n",
    "df2 = melt(df2, id.vars=\"RNum\", value.name = \"res\", variable.name=\"Feature\")\n",
    "head(df2, 2)"
   ]
  },
  {
   "cell_type": "code",
   "execution_count": 24,
   "metadata": {},
   "outputs": [
    {
     "data": {
      "text/html": [
       "<table>\n",
       "<caption>A data.frame: 2 × 6</caption>\n",
       "<thead>\n",
       "\t<tr><th scope=col>Feature</th><th scope=col>RNum</th><th scope=col>res</th><th scope=col>Dir</th><th scope=col>adj.P.Val</th><th scope=col>Symbol</th></tr>\n",
       "\t<tr><th scope=col>&lt;fct&gt;</th><th scope=col>&lt;chr&gt;</th><th scope=col>&lt;dbl&gt;</th><th scope=col>&lt;chr&gt;</th><th scope=col>&lt;dbl&gt;</th><th scope=col>&lt;fct&gt;</th></tr>\n",
       "</thead>\n",
       "<tbody>\n",
       "\t<tr><td>ENSG00000005889.15</td><td>R12864</td><td> 2.0492687</td><td>Down</td><td>1.417051e-185</td><td>ENSG00000005889.15</td></tr>\n",
       "\t<tr><td>ENSG00000005889.15</td><td>R12865</td><td>-0.3760391</td><td>Down</td><td>1.417051e-185</td><td>ENSG00000005889.15</td></tr>\n",
       "</tbody>\n",
       "</table>\n"
      ],
      "text/latex": [
       "A data.frame: 2 × 6\n",
       "\\begin{tabular}{r|llllll}\n",
       " Feature & RNum & res & Dir & adj.P.Val & Symbol\\\\\n",
       " <fct> & <chr> & <dbl> & <chr> & <dbl> & <fct>\\\\\n",
       "\\hline\n",
       "\t ENSG00000005889.15 & R12864 &  2.0492687 & Down & 1.417051e-185 & ENSG00000005889.15\\\\\n",
       "\t ENSG00000005889.15 & R12865 & -0.3760391 & Down & 1.417051e-185 & ENSG00000005889.15\\\\\n",
       "\\end{tabular}\n"
      ],
      "text/markdown": [
       "\n",
       "A data.frame: 2 × 6\n",
       "\n",
       "| Feature &lt;fct&gt; | RNum &lt;chr&gt; | res &lt;dbl&gt; | Dir &lt;chr&gt; | adj.P.Val &lt;dbl&gt; | Symbol &lt;fct&gt; |\n",
       "|---|---|---|---|---|---|\n",
       "| ENSG00000005889.15 | R12864 |  2.0492687 | Down | 1.417051e-185 | ENSG00000005889.15 |\n",
       "| ENSG00000005889.15 | R12865 | -0.3760391 | Down | 1.417051e-185 | ENSG00000005889.15 |\n",
       "\n"
      ],
      "text/plain": [
       "  Feature            RNum   res        Dir  adj.P.Val     Symbol            \n",
       "1 ENSG00000005889.15 R12864  2.0492687 Down 1.417051e-185 ENSG00000005889.15\n",
       "2 ENSG00000005889.15 R12865 -0.3760391 Down 1.417051e-185 ENSG00000005889.15"
      ]
     },
     "metadata": {},
     "output_type": "display_data"
    }
   ],
   "source": [
    "df2 = merge(df2, sigDown_genes, by='Feature')\n",
    "head(df2, 2)"
   ]
  },
  {
   "cell_type": "markdown",
   "metadata": {},
   "source": [
    "### Merge data with phenotypes"
   ]
  },
  {
   "cell_type": "code",
   "execution_count": 25,
   "metadata": {},
   "outputs": [
    {
     "data": {
      "text/html": [
       "<ol class=list-inline>\n",
       "\t<li>1910</li>\n",
       "\t<li>14</li>\n",
       "</ol>\n"
      ],
      "text/latex": [
       "\\begin{enumerate*}\n",
       "\\item 1910\n",
       "\\item 14\n",
       "\\end{enumerate*}\n"
      ],
      "text/markdown": [
       "1. 1910\n",
       "2. 14\n",
       "\n",
       "\n"
      ],
      "text/plain": [
       "[1] 1910   14"
      ]
     },
     "metadata": {},
     "output_type": "display_data"
    }
   ],
   "source": [
    "bigdf2 = merge(pheno, df2, by='RNum')\n",
    "dim(bigdf2)"
   ]
  },
  {
   "cell_type": "code",
   "execution_count": 26,
   "metadata": {},
   "outputs": [],
   "source": [
    "down_gene_names <- list(\n",
    "  'ENSG00000229807.10'='XIST',\n",
    "  'ENSG00000005889.15'='ZFX',\n",
    "  'ENSG00000126012.11'='KDM5C',\n",
    "  'ENSG00000147050.14'='KDM6A',\n",
    "  'ENSG00000130021.13'='PUDP'\n",
    "\n",
    ")"
   ]
  },
  {
   "cell_type": "code",
   "execution_count": 27,
   "metadata": {},
   "outputs": [],
   "source": [
    "down_gene_labeller <- function(variable,value){\n",
    "  return(down_gene_names[value])\n",
    "}"
   ]
  },
  {
   "cell_type": "markdown",
   "metadata": {},
   "source": [
    "### Plot genes"
   ]
  },
  {
   "cell_type": "code",
   "execution_count": 28,
   "metadata": {},
   "outputs": [
    {
     "name": "stderr",
     "output_type": "stream",
     "text": [
      "Warning message:\n",
      "“The labeller API has been updated. Labellers taking `variable`and `value` arguments are now deprecated. See labellers documentation.”"
     ]
    },
    {
     "data": {
      "image/png": "[encoded data removed]",
      "text/plain": [
       "plot without title"
      ]
     },
     "metadata": {},
     "output_type": "display_data"
    }
   ],
   "source": [
    "qq = (ggplot(bigdf2, aes(x=sex, y=res, fill=sex)) + geom_violin() + \n",
    "      labs(x='Sex', y='Residual Expression') + facet_grid('Dir~Feature', labeller = down_gene_labeller) +\n",
    "      stat_summary(geom='point', position='identity', fun.y=median, fill='black') + theme_bw() +\n",
    "      theme(axis.text.x=element_blank(), axis.text.y=element_text(size=18), \n",
    "                         axis.title.y=element_text(size=21, face='bold'), axis.title.x=element_blank(),\n",
    "                         strip.text.x=element_text(size=18, face='bold'), strip.text.y=element_blank(), \n",
    "                         legend.text=element_text(size=16), legend.title=element_blank()))\n",
    "qq"
   ]
  },
  {
   "cell_type": "code",
   "execution_count": 29,
   "metadata": {},
   "outputs": [],
   "source": [
    "ggsave(qq, filename = 'top5_downregulated_violinPlot.pdf', width = 10, height=4)\n",
    "ggsave(qq, filename = 'top5_downregulated_violinPlot.svg', width = 10, height=4)\n",
    "ggsave(qq, filename = 'top5_downregulated_violinPlot.png', width = 10, height=4)"
   ]
  },
  {
   "cell_type": "markdown",
   "metadata": {},
   "source": [
    "## Session Info"
   ]
  },
  {
   "cell_type": "code",
   "execution_count": 30,
   "metadata": {},
   "outputs": [
    {
     "data": {
      "text/plain": [
       "[1] \"2019-08-05 14:12:48 EDT\""
      ]
     },
     "metadata": {},
     "output_type": "display_data"
    },
    {
     "data": {
      "text/plain": [
       "   user  system elapsed \n",
       " 44.197   0.599  45.462 "
      ]
     },
     "metadata": {},
     "output_type": "display_data"
    },
    {
     "data": {
      "text/plain": [
       "─ Session info ───────────────────────────────────────────────────────────────────────────────────────────────────────\n",
       " setting  value                       \n",
       " version  R version 3.5.0 (2018-04-23)\n",
       " os       Arch Linux                  \n",
       " system   x86_64, linux-gnu           \n",
       " ui       X11                         \n",
       " language (EN)                        \n",
       " collate  en_US.UTF-8                 \n",
       " ctype    en_US.UTF-8                 \n",
       " tz       America/New_York            \n",
       " date     2019-08-05                  \n",
       "\n",
       "─ Packages ───────────────────────────────────────────────────────────────────────────────────────────────────────────\n",
       " package     * version    date       lib source                            \n",
       " assertthat    0.2.1      2019-03-21 [1] CRAN (R 3.5.0)                    \n",
       " backports     1.1.4      2019-04-10 [1] CRAN (R 3.5.0)                    \n",
       " base64enc     0.1-3      2015-07-28 [1] CRAN (R 3.5.0)                    \n",
       " cli           1.1.0      2019-03-19 [1] CRAN (R 3.5.0)                    \n",
       " colorspace    1.4-1      2019-03-18 [1] CRAN (R 3.5.0)                    \n",
       " crayon        1.3.4      2017-09-16 [1] CRAN (R 3.5.0)                    \n",
       " digest        0.6.19     2019-05-20 [1] CRAN (R 3.5.0)                    \n",
       " dplyr         0.8.3      2019-07-04 [1] CRAN (R 3.5.0)                    \n",
       " evaluate      0.14       2019-05-28 [1] CRAN (R 3.5.0)                    \n",
       " gdtools     * 0.1.9      2019-06-18 [1] CRAN (R 3.5.0)                    \n",
       " ggplot2     * 3.1.1      2019-04-07 [1] CRAN (R 3.5.0)                    \n",
       " glue          1.3.1      2019-03-12 [1] CRAN (R 3.5.0)                    \n",
       " gtable        0.3.0      2019-03-25 [1] CRAN (R 3.5.0)                    \n",
       " htmltools     0.3.6      2017-04-28 [1] CRAN (R 3.5.0)                    \n",
       " IRdisplay     0.7.0      2018-11-29 [1] CRAN (R 3.5.0)                    \n",
       " IRkernel      1.0.1.9000 2019-06-11 [1] Github (IRkernel/IRkernel@9134e35)\n",
       " jsonlite      1.6        2018-12-07 [1] CRAN (R 3.5.0)                    \n",
       " labeling      0.3        2014-08-23 [1] CRAN (R 3.5.0)                    \n",
       " lazyeval      0.2.2      2019-03-15 [1] CRAN (R 3.5.0)                    \n",
       " magrittr      1.5        2014-11-22 [1] CRAN (R 3.5.0)                    \n",
       " munsell       0.5.0      2018-06-12 [1] CRAN (R 3.5.0)                    \n",
       " pbdZMQ        0.3-3      2018-05-05 [1] CRAN (R 3.5.0)                    \n",
       " pillar        1.4.1      2019-05-28 [1] CRAN (R 3.5.0)                    \n",
       " pkgconfig     2.0.2      2018-08-16 [1] CRAN (R 3.5.0)                    \n",
       " plyr          1.8.4      2016-06-08 [1] CRAN (R 3.5.0)                    \n",
       " purrr         0.3.2      2019-03-15 [1] CRAN (R 3.5.0)                    \n",
       " R6            2.4.0      2019-02-14 [1] CRAN (R 3.5.0)                    \n",
       " Rcpp          1.0.1      2019-03-17 [1] CRAN (R 3.5.0)                    \n",
       " repr          1.0.1      2019-05-14 [1] CRAN (R 3.5.0)                    \n",
       " reshape2    * 1.4.3      2017-12-11 [1] CRAN (R 3.5.0)                    \n",
       " rlang         0.4.0      2019-06-25 [1] CRAN (R 3.5.0)                    \n",
       " scales        1.0.0      2018-08-09 [1] CRAN (R 3.5.0)                    \n",
       " sessioninfo   1.1.1      2018-11-05 [1] CRAN (R 3.5.0)                    \n",
       " stringi       1.4.3      2019-03-12 [1] CRAN (R 3.5.0)                    \n",
       " stringr       1.4.0      2019-02-10 [1] CRAN (R 3.5.0)                    \n",
       " svglite       1.2.2      2019-05-17 [1] CRAN (R 3.5.0)                    \n",
       " tibble        2.1.3      2019-06-06 [1] CRAN (R 3.5.0)                    \n",
       " tidyselect    0.2.5      2018-10-11 [1] CRAN (R 3.5.0)                    \n",
       " uuid          0.1-2      2015-07-28 [1] CRAN (R 3.5.0)                    \n",
       " vctrs         0.2.0      2019-07-05 [1] CRAN (R 3.5.0)                    \n",
       " withr         2.1.2      2018-03-15 [1] CRAN (R 3.5.0)                    \n",
       " zeallot       0.1.0      2018-01-28 [1] CRAN (R 3.5.0)                    \n",
       "\n",
       "[1] /home/ria/R/x86_64-pc-linux-gnu-library/3.5\n",
       "[2] /usr/lib/R/library"
      ]
     },
     "metadata": {},
     "output_type": "display_data"
    }
   ],
   "source": [
    "Sys.time()\n",
    "proc.time()\n",
    "options(width = 120)\n",
    "sessioninfo::session_info()"
   ]
  },
  {
   "cell_type": "code",
   "execution_count": null,
   "metadata": {},
   "outputs": [],
   "source": []
  },
  {
   "cell_type": "code",
   "execution_count": null,
   "metadata": {},
   "outputs": [],
   "source": []
  },
  {
   "cell_type": "code",
   "execution_count": null,
   "metadata": {},
   "outputs": [],
   "source": []
  }
 ],
 "metadata": {
  "kernelspec": {
   "display_name": "R",
   "language": "R",
   "name": "ir"
  },
  "language_info": {
   "codemirror_mode": "r",
   "file_extension": ".r",
   "mimetype": "text/x-r-source",
   "name": "R",
   "pygments_lexer": "r",
   "version": "3.5.0"
  }
 },
 "nbformat": 4,
 "nbformat_minor": 2
}
