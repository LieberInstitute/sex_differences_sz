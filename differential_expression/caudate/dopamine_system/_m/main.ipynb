{
 "cells": [
  {
   "cell_type": "markdown",
   "metadata": {},
   "source": [
    "# Gene term enrichment analysis"
   ]
  },
  {
   "cell_type": "code",
   "execution_count": 1,
   "metadata": {
    "execution": {
     "iopub.execute_input": "2021-07-10T14:27:03.463578Z",
     "iopub.status.busy": "2021-07-10T14:27:03.460626Z",
     "iopub.status.idle": "2021-07-10T14:27:13.031965Z",
     "shell.execute_reply": "2021-07-10T14:27:13.030691Z"
    }
   },
   "outputs": [],
   "source": [
    "suppressMessages({\n",
    "    library(clusterProfiler)\n",
    "    library(org.Hs.eg.db)\n",
    "    library(enrichplot)\n",
    "    library(pathview)})"
   ]
  },
  {
   "cell_type": "code",
   "execution_count": 2,
   "metadata": {
    "execution": {
     "iopub.execute_input": "2021-07-10T14:27:13.073414Z",
     "iopub.status.busy": "2021-07-10T14:27:13.036766Z",
     "iopub.status.idle": "2021-07-10T14:27:13.087880Z",
     "shell.execute_reply": "2021-07-10T14:27:13.086569Z"
    }
   },
   "outputs": [],
   "source": [
    "extract_geneList <- function(dft, keytype='EntrezID'){\n",
    "    dft = na.exclude(dft)\n",
    "    gg = as.vector(dft[, 'logFC'])\n",
    "    names(gg) = as.vector(dft[, keytype])\n",
    "    gg = sort(gg, decreasing=TRUE)\n",
    "    return(gg)\n",
    "}\n",
    "\n",
    "\n",
    "extract_geneSet <- function(dft, keytype='EntrezID'){\n",
    "    dft = na.exclude(dft)\n",
    "    gg = subset(dft, adj.P.Val <= 0.05)\n",
    "    gene = as.vector(gg[, keytype])\n",
    "    return(gene)\n",
    "}\n"
   ]
  },
  {
   "cell_type": "code",
   "execution_count": 3,
   "metadata": {
    "execution": {
     "iopub.execute_input": "2021-07-10T14:27:13.094159Z",
     "iopub.status.busy": "2021-07-10T14:27:13.092557Z",
     "iopub.status.idle": "2021-07-10T14:27:13.106407Z",
     "shell.execute_reply": "2021-07-10T14:27:13.105043Z"
    }
   },
   "outputs": [],
   "source": [
    "run_pathview <- function(geneList, pathwayID){\n",
    "    pathview(gene.data = geneList, pathway.id = pathwayID,\n",
    "             species = 'hsa', limit = list(gene=0.5, cpd=0.5))\n",
    "}"
   ]
  },
  {
   "cell_type": "markdown",
   "metadata": {},
   "source": [
    "## Genes"
   ]
  },
  {
   "cell_type": "code",
   "execution_count": 4,
   "metadata": {
    "execution": {
     "iopub.execute_input": "2021-07-10T14:27:13.112436Z",
     "iopub.status.busy": "2021-07-10T14:27:13.111036Z",
     "iopub.status.idle": "2021-07-10T14:27:13.716232Z",
     "shell.execute_reply": "2021-07-10T14:27:13.715047Z"
    }
   },
   "outputs": [],
   "source": [
    "inputfile = \"../../_m/genes/diffExpr_maleVfemale_full.txt\"\n",
    "\n",
    "zz = read.delim(inputfile)\n",
    "geneList1 = extract_geneList(zz)"
   ]
  },
  {
   "cell_type": "code",
   "execution_count": 5,
   "metadata": {
    "execution": {
     "iopub.execute_input": "2021-07-10T14:27:13.722436Z",
     "iopub.status.busy": "2021-07-10T14:27:13.720567Z",
     "iopub.status.idle": "2021-07-10T14:27:18.362941Z",
     "shell.execute_reply": "2021-07-10T14:27:18.361908Z"
    }
   },
   "outputs": [
    {
     "name": "stderr",
     "output_type": "stream",
     "text": [
      "'select()' returned 1:many mapping between keys and columns\n",
      "\n",
      "Warning message in bitr(names(geneList1), fromType = \"ENTREZID\", toType = c(\"UNIPROT\", :\n",
      "“10.52% of input gene IDs are fail to map...”\n",
      "Reading KEGG annotation online:\n",
      "\n",
      "\n",
      "Warning message in bitr_kegg(aa_uniprot[[\"UNIPROT\"]], fromType = \"uniprot\", toType = \"kegg\", :\n",
      "“24.38% of input gene IDs are fail to map...”\n"
     ]
    }
   ],
   "source": [
    "aa_uniprot <- merge(bitr(names(geneList1), fromType=\"ENTREZID\",\n",
    "                         toType=c(\"UNIPROT\", \"ENSEMBL\"), OrgDb=\"org.Hs.eg.db\"),\n",
    "                    zz, by.x='ENSEMBL', by.y='ensemblID')\n",
    "aa_kegg <- merge(bitr_kegg(aa_uniprot[['UNIPROT']], fromType='uniprot',\n",
    "                           toType='kegg', organism='hsa'), \n",
    "                 aa_uniprot, by.x='uniprot', by.y='UNIPROT')"
   ]
  },
  {
   "cell_type": "code",
   "execution_count": 6,
   "metadata": {
    "execution": {
     "iopub.execute_input": "2021-07-10T14:27:18.370274Z",
     "iopub.status.busy": "2021-07-10T14:27:18.368382Z",
     "iopub.status.idle": "2021-07-10T14:27:18.446251Z",
     "shell.execute_reply": "2021-07-10T14:27:18.444919Z"
    }
   },
   "outputs": [],
   "source": [
    "geneList2 = extract_geneList(aa_kegg, 'kegg')\n",
    "gene2 = extract_geneSet(aa_kegg, 'kegg')"
   ]
  },
  {
   "cell_type": "markdown",
   "metadata": {},
   "source": [
    "### Pathview plotting"
   ]
  },
  {
   "cell_type": "code",
   "execution_count": 7,
   "metadata": {
    "execution": {
     "iopub.execute_input": "2021-07-10T14:27:18.453072Z",
     "iopub.status.busy": "2021-07-10T14:27:18.451230Z",
     "iopub.status.idle": "2021-07-10T14:27:22.670935Z",
     "shell.execute_reply": "2021-07-10T14:27:22.669096Z"
    }
   },
   "outputs": [
    {
     "name": "stderr",
     "output_type": "stream",
     "text": [
      "Info: Downloading xml files for hsa04020, 1/1 pathways..\n",
      "\n",
      "Info: Downloading png files for hsa04020, 1/1 pathways..\n",
      "\n",
      "'select()' returned 1:1 mapping between keys and columns\n",
      "\n",
      "Info: Working in directory /ceph/users/jbenja13/github_projects/sex_differences_sz/differential_expression/caudate/dopamine_system/_m\n",
      "\n",
      "Info: Writing image file hsa04020.pathview.png\n",
      "\n"
     ]
    }
   ],
   "source": [
    "run_pathview(geneList2, \"hsa04020\")"
   ]
  },
  {
   "cell_type": "code",
   "execution_count": 8,
   "metadata": {
    "execution": {
     "iopub.execute_input": "2021-07-10T14:27:22.678645Z",
     "iopub.status.busy": "2021-07-10T14:27:22.676688Z",
     "iopub.status.idle": "2021-07-10T14:27:26.646085Z",
     "shell.execute_reply": "2021-07-10T14:27:26.644801Z"
    }
   },
   "outputs": [
    {
     "name": "stderr",
     "output_type": "stream",
     "text": [
      "Info: Downloading xml files for hsa04728, 1/1 pathways..\n",
      "\n",
      "Info: Downloading png files for hsa04728, 1/1 pathways..\n",
      "\n",
      "'select()' returned 1:1 mapping between keys and columns\n",
      "\n",
      "Info: Working in directory /ceph/users/jbenja13/github_projects/sex_differences_sz/differential_expression/caudate/dopamine_system/_m\n",
      "\n",
      "Info: Writing image file hsa04728.pathview.png\n",
      "\n"
     ]
    }
   ],
   "source": [
    "#run_pathview(geneList2, \"hsa04724\")\n",
    "#run_pathview(geneList2, \"hsa04725\")\n",
    "#run_pathview(geneList2, \"hsa04726\")\n",
    "#run_pathview(geneList2, \"hsa04727\")\n",
    "run_pathview(geneList2, \"hsa04728\")"
   ]
  },
  {
   "cell_type": "code",
   "execution_count": 9,
   "metadata": {
    "execution": {
     "iopub.execute_input": "2021-07-10T14:27:26.651612Z",
     "iopub.status.busy": "2021-07-10T14:27:26.649997Z",
     "iopub.status.idle": "2021-07-10T14:27:29.843570Z",
     "shell.execute_reply": "2021-07-10T14:27:29.842272Z"
    }
   },
   "outputs": [
    {
     "name": "stderr",
     "output_type": "stream",
     "text": [
      "Info: Downloading xml files for hsa04713, 1/1 pathways..\n",
      "\n",
      "Info: Downloading png files for hsa04713, 1/1 pathways..\n",
      "\n",
      "'select()' returned 1:1 mapping between keys and columns\n",
      "\n",
      "Info: Working in directory /ceph/users/jbenja13/github_projects/sex_differences_sz/differential_expression/caudate/dopamine_system/_m\n",
      "\n",
      "Info: Writing image file hsa04713.pathview.png\n",
      "\n"
     ]
    }
   ],
   "source": [
    "#run_pathview(geneList2, \"hsa04010\")\n",
    "run_pathview(geneList2, \"hsa04713\")\n",
    "#run_pathview(geneList2, \"hsa04927\")\n",
    "#run_pathview(geneList2, \"hsa04710\")"
   ]
  },
  {
   "cell_type": "markdown",
   "metadata": {},
   "source": [
    "## Session Info"
   ]
  },
  {
   "cell_type": "code",
   "execution_count": 10,
   "metadata": {
    "execution": {
     "iopub.execute_input": "2021-07-10T14:27:29.849893Z",
     "iopub.status.busy": "2021-07-10T14:27:29.848435Z",
     "iopub.status.idle": "2021-07-10T14:27:30.254725Z",
     "shell.execute_reply": "2021-07-10T14:27:30.253244Z"
    }
   },
   "outputs": [
    {
     "data": {
      "text/plain": [
       "[1] \"2021-07-10 10:27:29 EDT\""
      ]
     },
     "metadata": {},
     "output_type": "display_data"
    },
    {
     "data": {
      "text/plain": [
       "   user  system elapsed \n",
       " 18.891   1.688  27.501 "
      ]
     },
     "metadata": {},
     "output_type": "display_data"
    },
    {
     "data": {
      "text/plain": [
       "─ Session info ───────────────────────────────────────────────────────────────────────────────────────────────────────\n",
       " setting  value                       \n",
       " version  R version 4.0.3 (2020-10-10)\n",
       " os       Arch Linux                  \n",
       " system   x86_64, linux-gnu           \n",
       " ui       X11                         \n",
       " language (EN)                        \n",
       " collate  en_US.UTF-8                 \n",
       " ctype    en_US.UTF-8                 \n",
       " tz       America/New_York            \n",
       " date     2021-07-10                  \n",
       "\n",
       "─ Packages ───────────────────────────────────────────────────────────────────────────────────────────────────────────\n",
       " package         * version  date       lib source        \n",
       " AnnotationDbi   * 1.52.0   2020-10-27 [1] Bioconductor  \n",
       " assertthat        0.2.1    2019-03-21 [1] CRAN (R 4.0.2)\n",
       " base64enc         0.1-3    2015-07-28 [1] CRAN (R 4.0.2)\n",
       " Biobase         * 2.50.0   2020-10-27 [1] Bioconductor  \n",
       " BiocGenerics    * 0.36.1   2021-04-16 [1] Bioconductor  \n",
       " BiocManager       1.30.16  2021-06-15 [1] CRAN (R 4.0.3)\n",
       " BiocParallel      1.24.1   2020-11-06 [1] Bioconductor  \n",
       " Biostrings        2.58.0   2020-10-27 [1] Bioconductor  \n",
       " bit               4.0.4    2020-08-04 [1] CRAN (R 4.0.2)\n",
       " bit64             4.0.5    2020-08-30 [1] CRAN (R 4.0.2)\n",
       " bitops            1.0-7    2021-04-24 [1] CRAN (R 4.0.3)\n",
       " blob              1.2.1    2020-01-20 [1] CRAN (R 4.0.2)\n",
       " cachem            1.0.5    2021-05-15 [1] CRAN (R 4.0.3)\n",
       " cli               3.0.0    2021-06-30 [1] CRAN (R 4.0.3)\n",
       " clusterProfiler * 3.18.1   2021-02-09 [1] Bioconductor  \n",
       " colorspace        2.0-2    2021-06-24 [1] CRAN (R 4.0.3)\n",
       " cowplot           1.1.1    2020-12-30 [1] CRAN (R 4.0.2)\n",
       " crayon            1.4.1    2021-02-08 [1] CRAN (R 4.0.3)\n",
       " data.table        1.14.0   2021-02-21 [1] CRAN (R 4.0.3)\n",
       " DBI               1.1.1    2021-01-15 [1] CRAN (R 4.0.2)\n",
       " digest            0.6.27   2020-10-24 [1] CRAN (R 4.0.2)\n",
       " DO.db             2.9      2021-04-08 [1] Bioconductor  \n",
       " DOSE              3.16.0   2020-10-27 [1] Bioconductor  \n",
       " downloader        0.4      2015-07-09 [1] CRAN (R 4.0.2)\n",
       " dplyr             1.0.7    2021-06-18 [1] CRAN (R 4.0.3)\n",
       " ellipsis          0.3.2    2021-04-29 [1] CRAN (R 4.0.3)\n",
       " enrichplot      * 1.10.2   2021-01-28 [1] Bioconductor  \n",
       " evaluate          0.14     2019-05-28 [1] CRAN (R 4.0.2)\n",
       " fansi             0.5.0    2021-05-25 [1] CRAN (R 4.0.3)\n",
       " farver            2.1.0    2021-02-28 [1] CRAN (R 4.0.3)\n",
       " fastmap           1.1.0    2021-01-25 [1] CRAN (R 4.0.2)\n",
       " fastmatch         1.1-0    2017-01-28 [1] CRAN (R 4.0.3)\n",
       " fgsea             1.16.0   2020-10-27 [1] Bioconductor  \n",
       " generics          0.1.0    2020-10-31 [1] CRAN (R 4.0.2)\n",
       " ggforce           0.3.3    2021-03-05 [1] CRAN (R 4.0.3)\n",
       " ggplot2           3.3.5    2021-06-25 [1] CRAN (R 4.0.3)\n",
       " ggraph            2.0.5    2021-02-23 [1] CRAN (R 4.0.3)\n",
       " ggrepel           0.9.1    2021-01-15 [1] CRAN (R 4.0.2)\n",
       " glue              1.4.2    2020-08-27 [1] CRAN (R 4.0.2)\n",
       " GO.db             3.12.1   2021-04-08 [1] Bioconductor  \n",
       " GOSemSim          2.16.1   2020-10-29 [1] Bioconductor  \n",
       " graph             1.68.0   2020-10-27 [1] Bioconductor  \n",
       " graphlayouts      0.7.1    2020-10-26 [1] CRAN (R 4.0.3)\n",
       " gridExtra         2.3      2017-09-09 [1] CRAN (R 4.0.2)\n",
       " gtable            0.3.0    2019-03-25 [1] CRAN (R 4.0.2)\n",
       " htmltools         0.5.1.1  2021-01-22 [1] CRAN (R 4.0.2)\n",
       " httr              1.4.2    2020-07-20 [1] CRAN (R 4.0.2)\n",
       " igraph            1.2.6    2020-10-06 [1] CRAN (R 4.0.2)\n",
       " IRanges         * 2.24.1   2020-12-12 [1] Bioconductor  \n",
       " IRdisplay         1.0      2021-01-20 [1] CRAN (R 4.0.2)\n",
       " IRkernel          1.2      2021-05-11 [1] CRAN (R 4.0.3)\n",
       " jsonlite          1.7.2    2020-12-09 [1] CRAN (R 4.0.2)\n",
       " KEGGgraph         1.50.0   2020-10-27 [1] Bioconductor  \n",
       " KEGGREST          1.30.1   2020-11-23 [1] Bioconductor  \n",
       " lattice           0.20-41  2020-04-02 [2] CRAN (R 4.0.3)\n",
       " lifecycle         1.0.0    2021-02-15 [1] CRAN (R 4.0.3)\n",
       " magrittr          2.0.1    2020-11-17 [1] CRAN (R 4.0.2)\n",
       " MASS              7.3-53   2020-09-09 [2] CRAN (R 4.0.3)\n",
       " Matrix            1.3-4    2021-06-01 [1] CRAN (R 4.0.3)\n",
       " memoise           2.0.0    2021-01-26 [1] CRAN (R 4.0.2)\n",
       " munsell           0.5.0    2018-06-12 [1] CRAN (R 4.0.2)\n",
       " org.Hs.eg.db    * 3.12.0   2021-02-24 [1] Bioconductor  \n",
       " pathview        * 1.30.1   2020-12-10 [1] Bioconductor  \n",
       " pbdZMQ            0.3-5    2021-02-10 [1] CRAN (R 4.0.3)\n",
       " pillar            1.6.1    2021-05-16 [1] CRAN (R 4.0.3)\n",
       " pkgconfig         2.0.3    2019-09-22 [1] CRAN (R 4.0.2)\n",
       " plyr              1.8.6    2020-03-03 [1] CRAN (R 4.0.2)\n",
       " png               0.1-7    2013-12-03 [1] CRAN (R 4.0.2)\n",
       " polyclip          1.10-0   2019-03-14 [1] CRAN (R 4.0.2)\n",
       " purrr             0.3.4    2020-04-17 [1] CRAN (R 4.0.2)\n",
       " qvalue            2.22.0   2020-10-27 [1] Bioconductor  \n",
       " R6                2.5.0    2020-10-28 [1] CRAN (R 4.0.2)\n",
       " RColorBrewer      1.1-2    2014-12-07 [1] CRAN (R 4.0.2)\n",
       " Rcpp              1.0.7    2021-07-07 [1] CRAN (R 4.0.3)\n",
       " RCurl             1.98-1.3 2021-03-16 [1] CRAN (R 4.0.3)\n",
       " repr              1.1.3    2021-01-21 [1] CRAN (R 4.0.2)\n",
       " reshape2          1.4.4    2020-04-09 [1] CRAN (R 4.0.2)\n",
       " Rgraphviz         2.34.0   2020-10-27 [1] Bioconductor  \n",
       " rlang             0.4.11   2021-04-30 [1] CRAN (R 4.0.3)\n",
       " RSQLite           2.2.7    2021-04-22 [1] CRAN (R 4.0.3)\n",
       " rvcheck           0.1.8    2020-03-01 [1] CRAN (R 4.0.3)\n",
       " S4Vectors       * 0.28.1   2020-12-09 [1] Bioconductor  \n",
       " scales            1.1.1    2020-05-11 [1] CRAN (R 4.0.2)\n",
       " scatterpie        0.1.6    2021-04-23 [1] CRAN (R 4.0.3)\n",
       " sessioninfo       1.1.1    2018-11-05 [1] CRAN (R 4.0.2)\n",
       " shadowtext        0.0.8    2021-04-23 [1] CRAN (R 4.0.3)\n",
       " stringi           1.6.2    2021-05-17 [1] CRAN (R 4.0.3)\n",
       " stringr           1.4.0    2019-02-10 [1] CRAN (R 4.0.2)\n",
       " tibble            3.1.2    2021-05-16 [1] CRAN (R 4.0.3)\n",
       " tidygraph         1.2.0    2020-05-12 [1] CRAN (R 4.0.3)\n",
       " tidyr             1.1.3    2021-03-03 [1] CRAN (R 4.0.3)\n",
       " tidyselect        1.1.1    2021-04-30 [1] CRAN (R 4.0.3)\n",
       " tweenr            1.0.2    2021-03-23 [1] CRAN (R 4.0.3)\n",
       " utf8              1.2.1    2021-03-12 [1] CRAN (R 4.0.3)\n",
       " uuid              0.1-4    2020-02-26 [1] CRAN (R 4.0.2)\n",
       " vctrs             0.3.8    2021-04-29 [1] CRAN (R 4.0.3)\n",
       " viridis           0.6.1    2021-05-11 [1] CRAN (R 4.0.3)\n",
       " viridisLite       0.4.0    2021-04-13 [1] CRAN (R 4.0.3)\n",
       " withr             2.4.2    2021-04-18 [1] CRAN (R 4.0.3)\n",
       " XML               3.99-0.6 2021-03-16 [1] CRAN (R 4.0.3)\n",
       " XVector           0.30.0   2020-10-27 [1] Bioconductor  \n",
       " zlibbioc          1.36.0   2020-10-27 [1] Bioconductor  \n",
       "\n",
       "[1] /home/jbenja13/R/x86_64-pc-linux-gnu-library/4.0\n",
       "[2] /usr/lib/R/library"
      ]
     },
     "metadata": {},
     "output_type": "display_data"
    }
   ],
   "source": [
    "Sys.time()\n",
    "proc.time()\n",
    "options(width=120)\n",
    "sessioninfo::session_info()"
   ]
  }
 ],
 "metadata": {
  "kernelspec": {
   "display_name": "R",
   "language": "R",
   "name": "ir"
  },
  "language_info": {
   "codemirror_mode": "r",
   "file_extension": ".r",
   "mimetype": "text/x-r-source",
   "name": "R",
   "pygments_lexer": "r",
   "version": "4.0.3"
  }
 },
 "nbformat": 4,
 "nbformat_minor": 4
}
