{
 "cells": [
  {
   "cell_type": "markdown",
   "metadata": {},
   "source": [
    "# Cell type enrichment analysis"
   ]
  },
  {
   "cell_type": "code",
   "execution_count": 1,
   "metadata": {},
   "outputs": [],
   "source": [
    "import functools\n",
    "import numpy as np\n",
    "import pandas as pd\n",
    "from scipy.stats import fisher_exact\n",
    "from statsmodels.stats.multitest import fdrcorrection"
   ]
  },
  {
   "cell_type": "code",
   "execution_count": 2,
   "metadata": {},
   "outputs": [],
   "source": [
    "basename = '/ceph/users/jbenja13/projects/aanri/racial_diff'\n",
    "config = {\n",
    "    'gene_background': basename+'/input/celltypes/_h/cell_type/mouse2human_gene.txt',\n",
    "    'deg_file': '../../_m/genes/diffExpr_maleVfemale_full.txt',\n",
    "    'ki1_high': basename+'/input/celltypes/_m/KI_level1_human_specificity_0.4.txt',\n",
    "    'ki1_low': basename+'/input/celltypes/_m/KI_level1_human_specificity_0.2.txt',\n",
    "    'ki2_high': basename+'/input/celltypes/_m/KI_level2_human_specificity_0.4.txt',\n",
    "    'ki2_low': basename+'/input/celltypes/_m/KI_level2_human_specificity_0.2.txt'\n",
    "}"
   ]
  },
  {
   "cell_type": "code",
   "execution_count": 3,
   "metadata": {},
   "outputs": [],
   "source": [
    "@functools.lru_cache()\n",
    "def get_gene_background():\n",
    "    return pd.read_csv(config['gene_background'], sep='\\t')\n",
    "\n",
    "\n",
    "@functools.lru_cache()\n",
    "def get_deg():\n",
    "    return pd.read_csv(config['deg_file'], sep='\\t')\n",
    "\n",
    "\n",
    "@functools.lru_cache()\n",
    "def get_celltype_ki(fn):\n",
    "    return pd.read_csv(fn, sep='\\t')"
   ]
  },
  {
   "cell_type": "code",
   "execution_count": 4,
   "metadata": {},
   "outputs": [],
   "source": [
    "def cal_fishers(celltype, fn):\n",
    "    deg = get_deg()\n",
    "    ct = get_celltype_ki(fn)\n",
    "    ctp = ct[(ct['cell_type'] == celltype)].copy()\n",
    "    ctm = set(get_gene_background().Symbol_human) - set(ctp.Symbol_human)\n",
    "    table = [[len(set(deg[(deg['adj.P.Val']<0.05)].Symbol) & set(ctp.Symbol_human)),\n",
    "              len(set(deg[(deg['adj.P.Val']<0.05)].Symbol) & ctm)], \n",
    "             [len(set(deg[(deg['adj.P.Val']>0.05)].Symbol) & set(ctp.Symbol_human)),\n",
    "              len(set(deg[(deg['adj.P.Val']>0.05)].Symbol) & ctm)]]\n",
    "    #print(table)\n",
    "    return fisher_exact(table)\n",
    "\n",
    "\n",
    "def cal_fishers_direction(celltype, direction, fn):\n",
    "    deg = get_deg()\n",
    "    if direction == 'Up':\n",
    "        deg = deg[(deg['t'] > 0)].copy()\n",
    "    else:\n",
    "        deg = deg[(deg['t'] < 0)].copy()\n",
    "    ct = get_celltype_ki(fn)\n",
    "    ctp = ct[(ct['cell_type'] == celltype)].copy()\n",
    "    ctm = set(get_gene_background().Symbol_human) - set(ctp.Symbol_human)\n",
    "    table = [[len(set(deg[(deg['adj.P.Val']<0.05)].Symbol) & set(ctp.Symbol_human)),\n",
    "              len(set(deg[(deg['adj.P.Val']<0.05)].Symbol) & ctm)], \n",
    "             [len(set(deg[(deg['adj.P.Val']>0.05)].Symbol) & set(ctp.Symbol_human)),\n",
    "              len(set(deg[(deg['adj.P.Val']>0.05)].Symbol) & ctm)]]\n",
    "    #print(table)\n",
    "    return fisher_exact(table)"
   ]
  },
  {
   "cell_type": "code",
   "execution_count": 5,
   "metadata": {},
   "outputs": [],
   "source": [
    "def cal_fisher_by_celltype(fn):\n",
    "    unique_celltypes = get_celltype_ki(fn).cell_type.unique()\n",
    "    ct_lt = []; pval_lt = []; oddratio_lt = []; dir_lt = [];\n",
    "    for celltype in unique_celltypes:\n",
    "        odd_ratio, pval = cal_fishers(celltype, fn)\n",
    "        ct_lt.append(celltype); pval_lt.append(pval);\n",
    "        oddratio_lt.append(odd_ratio); dir_lt.append('All')\n",
    "        if pval < 0.05:\n",
    "            print(\"There is a significant enrichment (p-value < %.1e) of %s!\" % \n",
    "                  (pval, celltype))\n",
    "\n",
    "    for celltype in unique_celltypes:\n",
    "        odd_ratio, pval = cal_fishers_direction(celltype, \"Up\", fn)\n",
    "        ct_lt.append(celltype); pval_lt.append(pval);\n",
    "        oddratio_lt.append(odd_ratio); dir_lt.append('Up')\n",
    "        if pval < 0.05:\n",
    "            print(\"There is a significant enrichment of up-regulated genes (p-value < %.1e) of %s!\" %\n",
    "                  (pval, celltype))\n",
    "        \n",
    "    for celltype in unique_celltypes:\n",
    "        odd_ratio, pval = cal_fishers_direction(celltype, \"Down\", fn)\n",
    "        ct_lt.append(celltype); pval_lt.append(pval);\n",
    "        oddratio_lt.append(odd_ratio); dir_lt.append('Down')\n",
    "        if pval < 0.05:\n",
    "            print(\"There is a significant enrichment of down-regulated genes (p-value < %.1e) of %s!\" % \n",
    "                  (pval, celltype))\n",
    "    return pd.DataFrame({'Cell_type': ct_lt, 'OR': oddratio_lt, \n",
    "                         'PValue': pval_lt, 'Direction': dir_lt})"
   ]
  },
  {
   "cell_type": "markdown",
   "metadata": {},
   "source": [
    "## Calculated fisher's exact for each version of cell types "
   ]
  },
  {
   "cell_type": "markdown",
   "metadata": {},
   "source": [
    "### KI level1, high specificity"
   ]
  },
  {
   "cell_type": "code",
   "execution_count": 10,
   "metadata": {},
   "outputs": [
    {
     "name": "stdout",
     "output_type": "stream",
     "text": [
      "There is a significant enrichment (p-value < 3.0e-02) of endothelial-mural!\n",
      "There is a significant enrichment (p-value < 3.5e-02) of microglia!\n",
      "There is a significant enrichment (p-value < 1.7e-02) of HypothalamicDopaminergicNeurons!\n",
      "There is a significant enrichment (p-value < 7.6e-03) of Radialglialikecells!\n",
      "There is a significant enrichment of up-regulated genes (p-value < 3.2e-03) of HypothalamicDopaminergicNeurons!\n",
      "There is a significant enrichment of up-regulated genes (p-value < 4.8e-02) of interneurons!\n",
      "There is a significant enrichment of down-regulated genes (p-value < 1.3e-02) of endothelial-mural!\n",
      "There is a significant enrichment of down-regulated genes (p-value < 1.5e-02) of Radialglialikecells!\n"
     ]
    }
   ],
   "source": [
    "df1 = cal_fisher_by_celltype(config['ki1_high'])\n",
    "df1['List'] = 'KI1'\n",
    "df1['Specificity'] = 0.4\n",
    "_, fdr = fdrcorrection(df1.PValue)\n",
    "df1['FDR'] = fdr"
   ]
  },
  {
   "cell_type": "markdown",
   "metadata": {},
   "source": [
    "### KI level1, low specificity"
   ]
  },
  {
   "cell_type": "code",
   "execution_count": 12,
   "metadata": {},
   "outputs": [
    {
     "name": "stdout",
     "output_type": "stream",
     "text": [
      "There is a significant enrichment (p-value < 2.6e-03) of endothelial-mural!\n",
      "There is a significant enrichment (p-value < 1.6e-02) of HypothalamicGABAergicNeurons!\n",
      "There is a significant enrichment (p-value < 3.5e-02) of NeuralProgenitors!\n",
      "There is a significant enrichment (p-value < 1.8e-02) of EmbryonicGABAergicNeuron!\n",
      "There is a significant enrichment (p-value < 1.3e-02) of interneurons!\n",
      "There is a significant enrichment (p-value < 1.3e-03) of EmbryonicDopaminergicNeuron!\n",
      "There is a significant enrichment of up-regulated genes (p-value < 4.8e-02) of Radialglialikecells!\n",
      "There is a significant enrichment of up-regulated genes (p-value < 8.9e-03) of NeuralProgenitors!\n",
      "There is a significant enrichment of up-regulated genes (p-value < 2.3e-02) of EmbryonicGABAergicNeuron!\n",
      "There is a significant enrichment of up-regulated genes (p-value < 1.7e-03) of interneurons!\n",
      "There is a significant enrichment of down-regulated genes (p-value < 2.5e-03) of endothelial-mural!\n",
      "There is a significant enrichment of down-regulated genes (p-value < 3.9e-02) of HypothalamicGABAergicNeurons!\n",
      "There is a significant enrichment of down-regulated genes (p-value < 1.6e-03) of EmbryonicDopaminergicNeuron!\n"
     ]
    }
   ],
   "source": [
    "df2 = cal_fisher_by_celltype(config['ki1_low'])\n",
    "df2['List'] = 'KI1'\n",
    "df2['Specificity'] = 0.2\n",
    "_, fdr = fdrcorrection(df2.PValue)\n",
    "df2['FDR'] = fdr"
   ]
  },
  {
   "cell_type": "markdown",
   "metadata": {},
   "source": [
    "### KI level2, high specificity"
   ]
  },
  {
   "cell_type": "code",
   "execution_count": 13,
   "metadata": {},
   "outputs": [
    {
     "name": "stdout",
     "output_type": "stream",
     "text": [
      "There is a significant enrichment (p-value < 1.4e-02) of HypothalamicGABA2Neuron!\n",
      "There is a significant enrichment (p-value < 2.8e-02) of HypothalamicOxt;Avp-low;Th;Cacna1HNeuron!\n",
      "There is a significant enrichment (p-value < 1.4e-02) of Int4!\n",
      "There is a significant enrichment of up-regulated genes (p-value < 1.3e-02) of HypothalamicDopamine;Tac1;Ghrh;Pnoc;Dat+and-;GABANeuron!\n",
      "There is a significant enrichment of up-regulated genes (p-value < 1.3e-02) of Int4!\n",
      "There is a significant enrichment of down-regulated genes (p-value < 3.0e-02) of HypothalamicVglut2;Cnr1;Ninl;Rfx5;Zfp346Neuron!\n",
      "There is a significant enrichment of down-regulated genes (p-value < 1.5e-02) of HypothalamicGABA2Neuron!\n",
      "There is a significant enrichment of down-regulated genes (p-value < 3.0e-02) of HypothalamicOxt;Avp-low;Th;Cacna1HNeuron!\n"
     ]
    }
   ],
   "source": [
    "df3 = cal_fisher_by_celltype(config['ki2_high'])\n",
    "df3['List'] = 'KI2'\n",
    "df3['Specificity'] = 0.4\n",
    "_, fdr = fdrcorrection(df3.PValue)\n",
    "df3['FDR'] = fdr"
   ]
  },
  {
   "cell_type": "markdown",
   "metadata": {},
   "source": [
    "### KI level2, low specificity"
   ]
  },
  {
   "cell_type": "code",
   "execution_count": 14,
   "metadata": {},
   "outputs": [
    {
     "name": "stdout",
     "output_type": "stream",
     "text": [
      "There is a significant enrichment (p-value < 4.1e-02) of HypothalamicVglut2;Cnr1;Ninl;Rfx5;Zfp346Neuron!\n",
      "There is a significant enrichment (p-value < 2.8e-03) of Int10!\n",
      "There is a significant enrichment (p-value < 2.8e-02) of DopaminergicAdult-Ventraltegmentalarea3!\n",
      "There is a significant enrichment of up-regulated genes (p-value < 3.9e-02) of Int14!\n",
      "There is a significant enrichment of up-regulated genes (p-value < 3.9e-02) of SubPyr!\n",
      "There is a significant enrichment of up-regulated genes (p-value < 1.0e-03) of Int10!\n",
      "There is a significant enrichment of up-regulated genes (p-value < 2.6e-02) of Int16!\n",
      "There is a significant enrichment of up-regulated genes (p-value < 1.3e-02) of HypothalamicDopamine;Tac1;Ghrh;Pnoc;Dat+and-;GABANeuron!\n",
      "There is a significant enrichment of up-regulated genes (p-value < 2.6e-02) of Int4!\n",
      "There is a significant enrichment of down-regulated genes (p-value < 4.4e-02) of DopaminergicAdult-Ventraltegmentalarea2!\n",
      "There is a significant enrichment of down-regulated genes (p-value < 3.0e-02) of DopaminergicAdult-Ventraltegmentalarea3!\n",
      "There is a significant enrichment of down-regulated genes (p-value < 4.4e-02) of HypothalamicOxt;Avp-low;Th;Cacna1HNeuron!\n",
      "There is a significant enrichment of down-regulated genes (p-value < 3.0e-02) of HypothalamicGABA2Neuron!\n"
     ]
    }
   ],
   "source": [
    "df4 = cal_fisher_by_celltype(config['ki2_low'])\n",
    "df4['List'] = 'KI2'\n",
    "df4['Specificity'] = 0.2\n",
    "_, fdr = fdrcorrection(df4.PValue)\n",
    "df4['FDR'] = fdr"
   ]
  },
  {
   "cell_type": "markdown",
   "metadata": {},
   "source": [
    "## Merge data"
   ]
  },
  {
   "cell_type": "code",
   "execution_count": 16,
   "metadata": {},
   "outputs": [
    {
     "data": {
      "text/html": [
       "<div>\n",
       "<style scoped>\n",
       "    .dataframe tbody tr th:only-of-type {\n",
       "        vertical-align: middle;\n",
       "    }\n",
       "\n",
       "    .dataframe tbody tr th {\n",
       "        vertical-align: top;\n",
       "    }\n",
       "\n",
       "    .dataframe thead th {\n",
       "        text-align: right;\n",
       "    }\n",
       "</style>\n",
       "<table border=\"1\" class=\"dataframe\">\n",
       "  <thead>\n",
       "    <tr style=\"text-align: right;\">\n",
       "      <th></th>\n",
       "      <th>Cell_type</th>\n",
       "      <th>OR</th>\n",
       "      <th>PValue</th>\n",
       "      <th>Direction</th>\n",
       "      <th>List</th>\n",
       "      <th>Specificity</th>\n",
       "      <th>FDR</th>\n",
       "    </tr>\n",
       "  </thead>\n",
       "  <tbody>\n",
       "    <tr>\n",
       "      <th>0</th>\n",
       "      <td>endothelial-mural</td>\n",
       "      <td>2.520993</td>\n",
       "      <td>0.002552</td>\n",
       "      <td>All</td>\n",
       "      <td>KI1</td>\n",
       "      <td>0.2</td>\n",
       "      <td>0.036746</td>\n",
       "    </tr>\n",
       "    <tr>\n",
       "      <th>21</th>\n",
       "      <td>EmbryonicDopaminergicNeuron</td>\n",
       "      <td>9.541533</td>\n",
       "      <td>0.001256</td>\n",
       "      <td>All</td>\n",
       "      <td>KI1</td>\n",
       "      <td>0.2</td>\n",
       "      <td>0.036746</td>\n",
       "    </tr>\n",
       "    <tr>\n",
       "      <th>44</th>\n",
       "      <td>interneurons</td>\n",
       "      <td>4.473277</td>\n",
       "      <td>0.001688</td>\n",
       "      <td>Up</td>\n",
       "      <td>KI1</td>\n",
       "      <td>0.2</td>\n",
       "      <td>0.036746</td>\n",
       "    </tr>\n",
       "    <tr>\n",
       "      <th>48</th>\n",
       "      <td>endothelial-mural</td>\n",
       "      <td>2.810696</td>\n",
       "      <td>0.002510</td>\n",
       "      <td>Down</td>\n",
       "      <td>KI1</td>\n",
       "      <td>0.2</td>\n",
       "      <td>0.036746</td>\n",
       "    </tr>\n",
       "    <tr>\n",
       "      <th>69</th>\n",
       "      <td>EmbryonicDopaminergicNeuron</td>\n",
       "      <td>15.640271</td>\n",
       "      <td>0.001573</td>\n",
       "      <td>Down</td>\n",
       "      <td>KI1</td>\n",
       "      <td>0.2</td>\n",
       "      <td>0.036746</td>\n",
       "    </tr>\n",
       "  </tbody>\n",
       "</table>\n",
       "</div>"
      ],
      "text/plain": [
       "                      Cell_type         OR    PValue Direction List  \\\n",
       "0             endothelial-mural   2.520993  0.002552       All  KI1   \n",
       "21  EmbryonicDopaminergicNeuron   9.541533  0.001256       All  KI1   \n",
       "44                 interneurons   4.473277  0.001688        Up  KI1   \n",
       "48            endothelial-mural   2.810696  0.002510      Down  KI1   \n",
       "69  EmbryonicDopaminergicNeuron  15.640271  0.001573      Down  KI1   \n",
       "\n",
       "    Specificity       FDR  \n",
       "0           0.2  0.036746  \n",
       "21          0.2  0.036746  \n",
       "44          0.2  0.036746  \n",
       "48          0.2  0.036746  \n",
       "69          0.2  0.036746  "
      ]
     },
     "execution_count": 16,
     "metadata": {},
     "output_type": "execute_result"
    }
   ],
   "source": [
    "df = pd.concat([df1, df2, df3, df4], axis=0)\n",
    "df[(df.FDR <= 0.05)]"
   ]
  },
  {
   "cell_type": "code",
   "execution_count": 30,
   "metadata": {},
   "outputs": [
    {
     "data": {
      "text/html": [
       "<div>\n",
       "<style scoped>\n",
       "    .dataframe tbody tr th:only-of-type {\n",
       "        vertical-align: middle;\n",
       "    }\n",
       "\n",
       "    .dataframe tbody tr th {\n",
       "        vertical-align: top;\n",
       "    }\n",
       "\n",
       "    .dataframe thead th {\n",
       "        text-align: right;\n",
       "    }\n",
       "</style>\n",
       "<table border=\"1\" class=\"dataframe\">\n",
       "  <thead>\n",
       "    <tr style=\"text-align: right;\">\n",
       "      <th></th>\n",
       "      <th>Cell_type</th>\n",
       "      <th>OR</th>\n",
       "      <th>PValue</th>\n",
       "      <th>Direction</th>\n",
       "      <th>List</th>\n",
       "      <th>Specificity</th>\n",
       "    </tr>\n",
       "  </thead>\n",
       "  <tbody>\n",
       "    <tr>\n",
       "      <th>0</th>\n",
       "      <td>endothelial-mural</td>\n",
       "      <td>1.523901</td>\n",
       "      <td>0.015064</td>\n",
       "      <td>All</td>\n",
       "      <td>KI1</td>\n",
       "      <td>0.4</td>\n",
       "    </tr>\n",
       "    <tr>\n",
       "      <th>1</th>\n",
       "      <td>Oligodendrocytes</td>\n",
       "      <td>0.612161</td>\n",
       "      <td>0.078419</td>\n",
       "      <td>All</td>\n",
       "      <td>KI1</td>\n",
       "      <td>0.4</td>\n",
       "    </tr>\n",
       "    <tr>\n",
       "      <th>2</th>\n",
       "      <td>VascularLeptomeningealCells</td>\n",
       "      <td>1.106483</td>\n",
       "      <td>0.605932</td>\n",
       "      <td>All</td>\n",
       "      <td>KI1</td>\n",
       "      <td>0.4</td>\n",
       "    </tr>\n",
       "    <tr>\n",
       "      <th>3</th>\n",
       "      <td>microglia</td>\n",
       "      <td>0.898144</td>\n",
       "      <td>0.548620</td>\n",
       "      <td>All</td>\n",
       "      <td>KI1</td>\n",
       "      <td>0.4</td>\n",
       "    </tr>\n",
       "    <tr>\n",
       "      <th>4</th>\n",
       "      <td>MediumSpinyNeuron</td>\n",
       "      <td>0.991856</td>\n",
       "      <td>1.000000</td>\n",
       "      <td>All</td>\n",
       "      <td>KI1</td>\n",
       "      <td>0.4</td>\n",
       "    </tr>\n",
       "  </tbody>\n",
       "</table>\n",
       "</div>"
      ],
      "text/plain": [
       "                     Cell_type        OR    PValue Direction List  Specificity\n",
       "0            endothelial-mural  1.523901  0.015064       All  KI1          0.4\n",
       "1             Oligodendrocytes  0.612161  0.078419       All  KI1          0.4\n",
       "2  VascularLeptomeningealCells  1.106483  0.605932       All  KI1          0.4\n",
       "3                    microglia  0.898144  0.548620       All  KI1          0.4\n",
       "4            MediumSpinyNeuron  0.991856  1.000000       All  KI1          0.4"
      ]
     },
     "execution_count": 30,
     "metadata": {},
     "output_type": "execute_result"
    }
   ],
   "source": [
    "df.to_csv('celltype_enrichment_analysis.txt', sep='\\t', index=False)\n",
    "df.head()"
   ]
  },
  {
   "cell_type": "code",
   "execution_count": null,
   "metadata": {},
   "outputs": [],
   "source": []
  }
 ],
 "metadata": {
  "kernelspec": {
   "display_name": "Python 3",
   "language": "python",
   "name": "python3"
  },
  "language_info": {
   "codemirror_mode": {
    "name": "ipython",
    "version": 3
   },
   "file_extension": ".py",
   "mimetype": "text/x-python",
   "name": "python",
   "nbconvert_exporter": "python",
   "pygments_lexer": "ipython3",
   "version": "3.9.1"
  }
 },
 "nbformat": 4,
 "nbformat_minor": 4
}
