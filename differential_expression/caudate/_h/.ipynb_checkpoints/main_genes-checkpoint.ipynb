{
 "cells": [
  {
   "cell_type": "markdown",
   "metadata": {},
   "source": [
    "# Differential Expression with limma-voom pipeline - Genes"
   ]
  },
  {
   "cell_type": "code",
   "execution_count": 1,
   "metadata": {},
   "outputs": [],
   "source": [
    "suppressMessages({library(SummarizedExperiment)\n",
    "                  library(data.table)\n",
    "                  library(limma)\n",
    "                  library(edgeR)\n",
    "                  library(dplyr)\n",
    "                  library(sva)})"
   ]
  },
  {
   "cell_type": "markdown",
   "metadata": {},
   "source": [
    "## Prepare Data"
   ]
  },
  {
   "cell_type": "code",
   "execution_count": 2,
   "metadata": {},
   "outputs": [],
   "source": [
    "# Function from jaffelab github\n",
    "merge_rse_metrics <- function(rse) {\n",
    "    stopifnot(is(rse, 'RangedSummarizedExperiment'))\n",
    "    stopifnot(\n",
    "        c('concordMapRate', 'overallMapRate', 'mitoRate', 'rRNA_rate',\n",
    "          'totalAssignedGene', 'numMapped', 'numReads', 'numUnmapped',\n",
    "          'mitoMapped', 'totalMapped') %in%\n",
    "            colnames(SummarizedExperiment::colData(rse))\n",
    "    )\n",
    "\n",
    "    stopifnot(all(sapply(c(\n",
    "        'concordMapRate', 'overallMapRate', 'mitoRate', 'rRNA_rate',\n",
    "        'totalAssignedGene', 'numMapped', 'numReads', 'numUnmapped',\n",
    "        'mitoMapped', 'totalMapped'), function(var) {\n",
    "            is(colData(rse)[, var], 'List')\n",
    "        })\n",
    "    ))\n",
    "\n",
    "    rse$concordMapRate = mapply(function(r, n) {\n",
    "        sum(r*n)/sum(n)\n",
    "    }, rse$concordMapRate, rse$numReads)\n",
    "    rse$overallMapRate = mapply(function(r, n) {\n",
    "        sum(r*n)/sum(n)\n",
    "    }, rse$overallMapRate, rse$numReads)\n",
    "    rse$mitoRate = mapply(function(r, n) {\n",
    "        sum(r*n)/sum(n)\n",
    "    }, rse$mitoRate, rse$numMapped)\n",
    "    rse$rRNA_rate = mapply(function(r, n) {\n",
    "        sum(r*n)/sum(n)\n",
    "    }, rse$rRNA_rate, rse$numMapped)\n",
    "    rse$totalAssignedGene = mapply(function(r, n) {\n",
    "        sum(r*n)/sum(n)\n",
    "    }, rse$totalAssignedGene, rse$numMapped)\n",
    "\n",
    "    rse$numMapped = sapply(rse$numMapped, sum)\n",
    "    rse$numReads = sapply(rse$numReads, sum)\n",
    "    rse$numUnmapped = sapply(rse$numUnmapped, sum)\n",
    "    rse$mitoMapped = sapply(rse$mitoMapped, sum)\n",
    "    rse$totalMapped = sapply(rse$totalMapped, sum)\n",
    "    return(rse)\n",
    "}"
   ]
  },
  {
   "cell_type": "markdown",
   "metadata": {},
   "source": [
    "### Load gene counts"
   ]
  },
  {
   "cell_type": "code",
   "execution_count": 3,
   "metadata": {},
   "outputs": [
    {
     "data": {
      "text/plain": [
       "class: RangedSummarizedExperiment \n",
       "dim: 58037 464 \n",
       "metadata(0):\n",
       "assays(1): counts\n",
       "rownames(58037): ENSG00000223972.5 ENSG00000227232.5 ...\n",
       "  ENSG00000210195.2 ENSG00000210196.2\n",
       "rowData names(10): Length gencodeID ... NumTx gencodeTx\n",
       "colnames(464): R12864 R12865 ... R13503 R13504\n",
       "colData names(71): BrNum RNum ... RNum.1 FlowCell"
      ]
     },
     "metadata": {},
     "output_type": "display_data"
    }
   ],
   "source": [
    "load(paste0(\"/ceph/projects/v3_phase3_paper/inputs/phase3/_m/\", \n",
    "            \"count_data/caudate_brainseq_phase3_hg38_rseGene_merged_n464.rda\"))\n",
    "rse_gene"
   ]
  },
  {
   "cell_type": "markdown",
   "metadata": {},
   "source": [
    "### Load genotype data"
   ]
  },
  {
   "cell_type": "code",
   "execution_count": 4,
   "metadata": {},
   "outputs": [
    {
     "data": {
      "text/html": [
       "<table>\n",
       "<caption>A data.table: 2 × 5</caption>\n",
       "<thead>\n",
       "\t<tr><th scope=col>FID</th><th scope=col>IID</th><th scope=col>SOL</th><th scope=col>snpPC1</th><th scope=col>snpPC2</th></tr>\n",
       "\t<tr><th scope=col>&lt;fct&gt;</th><th scope=col>&lt;fct&gt;</th><th scope=col>&lt;int&gt;</th><th scope=col>&lt;dbl&gt;</th><th scope=col>&lt;dbl&gt;</th></tr>\n",
       "</thead>\n",
       "<tbody>\n",
       "\t<tr><td>Br1303</td><td>Br1303</td><td>0</td><td>-0.0595023</td><td>0.000751113</td></tr>\n",
       "\t<tr><td>Br1320</td><td>Br1320</td><td>0</td><td>-0.0764475</td><td>0.002862080</td></tr>\n",
       "</tbody>\n",
       "</table>\n"
      ],
      "text/latex": [
       "A data.table: 2 × 5\n",
       "\\begin{tabular}{lllll}\n",
       " FID & IID & SOL & snpPC1 & snpPC2\\\\\n",
       " <fct> & <fct> & <int> & <dbl> & <dbl>\\\\\n",
       "\\hline\n",
       "\t Br1303 & Br1303 & 0 & -0.0595023 & 0.000751113\\\\\n",
       "\t Br1320 & Br1320 & 0 & -0.0764475 & 0.002862080\\\\\n",
       "\\end{tabular}\n"
      ],
      "text/markdown": [
       "\n",
       "A data.table: 2 × 5\n",
       "\n",
       "| FID &lt;fct&gt; | IID &lt;fct&gt; | SOL &lt;int&gt; | snpPC1 &lt;dbl&gt; | snpPC2 &lt;dbl&gt; |\n",
       "|---|---|---|---|---|\n",
       "| Br1303 | Br1303 | 0 | -0.0595023 | 0.000751113 |\n",
       "| Br1320 | Br1320 | 0 | -0.0764475 | 0.002862080 |\n",
       "\n"
      ],
      "text/plain": [
       "  FID    IID    SOL snpPC1     snpPC2     \n",
       "1 Br1303 Br1303 0   -0.0595023 0.000751113\n",
       "2 Br1320 Br1320 0   -0.0764475 0.002862080"
      ]
     },
     "metadata": {},
     "output_type": "display_data"
    }
   ],
   "source": [
    "mds_file = paste0(\"/ceph/projects/v3_phase3_paper/inputs/genotypes/to_brnum/\", \n",
    "                  \"merge/to_plink/mds/_m/merged.mds\")\n",
    "mds = fread(mds_file) %>% \n",
    "    rename(\"snpPC1\"=\"C1\", \"snpPC2\"=\"C2\", \"snpPC3\"=\"C3\", \n",
    "           \"snpPC4\"=\"C4\", \"snpPC5\"=\"C5\") %>%\n",
    "    mutate_if(is.character, as.factor)\n",
    "mds[1:2, 1:5]"
   ]
  },
  {
   "cell_type": "markdown",
   "metadata": {},
   "source": [
    "### Subset and recode"
   ]
  },
  {
   "cell_type": "code",
   "execution_count": 5,
   "metadata": {},
   "outputs": [
    {
     "data": {
      "text/plain": [
       "class: RangedSummarizedExperiment \n",
       "dim: 58037 394 \n",
       "metadata(0):\n",
       "assays(1): counts\n",
       "rownames(58037): ENSG00000223972.5 ENSG00000227232.5 ...\n",
       "  ENSG00000210195.2 ENSG00000210196.2\n",
       "rowData names(10): Length gencodeID ... NumTx gencodeTx\n",
       "colnames(394): R12864 R12865 ... R13503 R13504\n",
       "colData names(71): BrNum RNum ... RNum.1 FlowCell"
      ]
     },
     "metadata": {},
     "output_type": "display_data"
    }
   ],
   "source": [
    "keepIndex = which((rse_gene$Dx %in% c(\"Control\", \"Schizo\")) &  \n",
    "                  rse_gene$Age > 17 & \n",
    "                  rse_gene$Race %in% c(\"AA\", \"CAUC\"))\n",
    "rse_gene = rse_gene[, keepIndex]\n",
    "rse_gene$Dx = factor(rse_gene$Dx, levels = c(\"Control\", \"Schizo\"))\n",
    "rse_gene$Sex <- factor(rse_gene$Sex)\n",
    "rse_gene"
   ]
  },
  {
   "cell_type": "code",
   "execution_count": 6,
   "metadata": {},
   "outputs": [
    {
     "data": {
      "text/plain": [
       "\n",
       "  F   M \n",
       "121 273 "
      ]
     },
     "metadata": {},
     "output_type": "display_data"
    }
   ],
   "source": [
    "rse_gene <- merge_rse_metrics(rse_gene)\n",
    "\n",
    "rse_gene$ERCCsumLogErr <- mapply(function(r, n) {\n",
    "        sum(r * n)/sum(n)\n",
    "    }, rse_gene$ERCCsumLogErr, rse_gene$numReads)\n",
    "colData(rse_gene)$RIN = sapply(colData(rse_gene)$RIN,\"[\",1)\n",
    "\n",
    "pheno = colData(rse_gene) %>% as.data.frame %>% \n",
    "    inner_join(mds, by=c(\"BrNum\"=\"FID\"))\n",
    "table(pheno$Sex)"
   ]
  },
  {
   "cell_type": "markdown",
   "metadata": {},
   "source": [
    "### Generate DGEList"
   ]
  },
  {
   "cell_type": "code",
   "execution_count": 7,
   "metadata": {},
   "outputs": [],
   "source": [
    "x <- DGEList(counts=assays(rse_gene)$counts, \n",
    "             genes=rowData(rse_gene), samples=pheno)"
   ]
  },
  {
   "cell_type": "markdown",
   "metadata": {},
   "source": [
    "### Filtering low counts"
   ]
  },
  {
   "cell_type": "code",
   "execution_count": 8,
   "metadata": {},
   "outputs": [
    {
     "name": "stdout",
     "output_type": "stream",
     "text": [
      "[1] \"There are: 23498 features left!\"\n"
     ]
    }
   ],
   "source": [
    "design0 <- model.matrix(~Sex, data=x$samples)\n",
    "keep.x <- filterByExpr(x, design=design0)\n",
    "x <- x[keep.x, , keep.lib.sizes=FALSE]\n",
    "print(paste('There are:', sum(keep.x), 'features left!', sep=' '))"
   ]
  },
  {
   "cell_type": "markdown",
   "metadata": {},
   "source": [
    "### Normalize counts"
   ]
  },
  {
   "cell_type": "code",
   "execution_count": 9,
   "metadata": {},
   "outputs": [],
   "source": [
    "x <- calcNormFactors(x, method=\"TMM\")"
   ]
  },
  {
   "cell_type": "markdown",
   "metadata": {},
   "source": [
    "## Differential Expression Analysis"
   ]
  },
  {
   "cell_type": "markdown",
   "metadata": {},
   "source": [
    "### Design matrix"
   ]
  },
  {
   "cell_type": "code",
   "execution_count": 10,
   "metadata": {},
   "outputs": [
    {
     "data": {
      "text/html": [
       "<table>\n",
       "<caption>A matrix: 2 × 13 of type dbl</caption>\n",
       "<thead>\n",
       "\t<tr><th></th><th scope=col>Intercept</th><th scope=col>Male</th><th scope=col>Schizo</th><th scope=col>Age</th><th scope=col>mitoRate</th><th scope=col>rRNA_rate</th><th scope=col>totalAssignedGene</th><th scope=col>RIN</th><th scope=col>ERCCsumLogErr</th><th scope=col>overallMapRate</th><th scope=col>snpPC1</th><th scope=col>snpPC2</th><th scope=col>snpPC3</th></tr>\n",
       "</thead>\n",
       "<tbody>\n",
       "\t<tr><th scope=row>R12864</th><td>1</td><td>0</td><td>1</td><td>42.98</td><td>0.03265387</td><td>8.675159e-05</td><td>0.5148545</td><td>9.6</td><td>-59.97567</td><td>0.9093498</td><td>-0.0595023</td><td>0.000751113</td><td>-0.00681555</td></tr>\n",
       "\t<tr><th scope=row>R12865</th><td>1</td><td>1</td><td>1</td><td>53.12</td><td>0.01978740</td><td>6.976684e-05</td><td>0.5207789</td><td>9.5</td><td>-45.71034</td><td>0.8734840</td><td>-0.0764475</td><td>0.002862080</td><td>-0.00427266</td></tr>\n",
       "</tbody>\n",
       "</table>\n"
      ],
      "text/latex": [
       "A matrix: 2 × 13 of type dbl\n",
       "\\begin{tabular}{r|lllllllllllll}\n",
       "  & Intercept & Male & Schizo & Age & mitoRate & rRNA\\_rate & totalAssignedGene & RIN & ERCCsumLogErr & overallMapRate & snpPC1 & snpPC2 & snpPC3\\\\\n",
       "\\hline\n",
       "\tR12864 & 1 & 0 & 1 & 42.98 & 0.03265387 & 8.675159e-05 & 0.5148545 & 9.6 & -59.97567 & 0.9093498 & -0.0595023 & 0.000751113 & -0.00681555\\\\\n",
       "\tR12865 & 1 & 1 & 1 & 53.12 & 0.01978740 & 6.976684e-05 & 0.5207789 & 9.5 & -45.71034 & 0.8734840 & -0.0764475 & 0.002862080 & -0.00427266\\\\\n",
       "\\end{tabular}\n"
      ],
      "text/markdown": [
       "\n",
       "A matrix: 2 × 13 of type dbl\n",
       "\n",
       "| <!--/--> | Intercept | Male | Schizo | Age | mitoRate | rRNA_rate | totalAssignedGene | RIN | ERCCsumLogErr | overallMapRate | snpPC1 | snpPC2 | snpPC3 |\n",
       "|---|---|---|---|---|---|---|---|---|---|---|---|---|---|\n",
       "| R12864 | 1 | 0 | 1 | 42.98 | 0.03265387 | 8.675159e-05 | 0.5148545 | 9.6 | -59.97567 | 0.9093498 | -0.0595023 | 0.000751113 | -0.00681555 |\n",
       "| R12865 | 1 | 1 | 1 | 53.12 | 0.01978740 | 6.976684e-05 | 0.5207789 | 9.5 | -45.71034 | 0.8734840 | -0.0764475 | 0.002862080 | -0.00427266 |\n",
       "\n"
      ],
      "text/plain": [
       "       Intercept Male Schizo Age   mitoRate   rRNA_rate    totalAssignedGene\n",
       "R12864 1         0    1      42.98 0.03265387 8.675159e-05 0.5148545        \n",
       "R12865 1         1    1      53.12 0.01978740 6.976684e-05 0.5207789        \n",
       "       RIN ERCCsumLogErr overallMapRate snpPC1     snpPC2      snpPC3     \n",
       "R12864 9.6 -59.97567     0.9093498      -0.0595023 0.000751113 -0.00681555\n",
       "R12865 9.5 -45.71034     0.8734840      -0.0764475 0.002862080 -0.00427266"
      ]
     },
     "metadata": {},
     "output_type": "display_data"
    }
   ],
   "source": [
    "mod = model.matrix(~Sex + Dx + Age + mitoRate +\n",
    "        rRNA_rate + totalAssignedGene + RIN +\n",
    "        ERCCsumLogErr + overallMapRate +\n",
    "        snpPC1 + snpPC2 + snpPC3,\n",
    "        data = x$samples)\n",
    "\n",
    "colnames(mod) <- gsub(\"Dx\", \"\", colnames(mod))\n",
    "colnames(mod) <- gsub(\"SexM\", \"Male\", colnames(mod))\n",
    "colnames(mod) <- gsub(\"\\\\(Intercept\\\\)\", \"Intercept\",\n",
    "                         colnames(mod))\n",
    "\n",
    "head(mod, 2)"
   ]
  },
  {
   "cell_type": "markdown",
   "metadata": {},
   "source": [
    "### Calculate SVAs"
   ]
  },
  {
   "cell_type": "code",
   "execution_count": 11,
   "metadata": {},
   "outputs": [
    {
     "name": "stdout",
     "output_type": "stream",
     "text": [
      "[1] \"Determining number of surragate variables ... 2020-10-30 19:43:34\"\n",
      "[1] \"Fitting SV model ... 2020-10-30 19:50:59\"\n",
      "Number of significant surrogate variables is:  4 \n",
      "Iteration (out of 5 ):1  2  3  4  5  "
     ]
    }
   ],
   "source": [
    "print(paste('Determining number of surragate variables ...', Sys.time(), sep=' '))\n",
    "n.sv <- num.sv(x$counts, mod, method=\"be\")\n",
    "null.model = as.matrix(as.data.frame(mod)[, !(names(as.data.frame(mod)) %in% c(\"Male\"))])\n",
    "\n",
    "print(paste('Fitting SV model ...', Sys.time(), sep=' '))\n",
    "svobj <- svaseq(x$counts, mod, null.model, n.sv=n.sv)"
   ]
  },
  {
   "cell_type": "markdown",
   "metadata": {},
   "source": [
    "### Merge models"
   ]
  },
  {
   "cell_type": "code",
   "execution_count": 12,
   "metadata": {},
   "outputs": [
    {
     "name": "stdout",
     "output_type": "stream",
     "text": [
      "[1] \"Adding SV to design matrix ... 2020-10-30 19:51:46\"\n"
     ]
    }
   ],
   "source": [
    "print(paste('Adding SV to design matrix ...', Sys.time(), sep=' '))\n",
    "modQsva <- cbind(mod, svobj$sv)\n",
    "len.d <- length(colnames(modQsva))\n",
    "colnames(modQsva)[((len.d - n.sv)+1):len.d] <- make.names(paste0(\"sv\",1:n.sv))"
   ]
  },
  {
   "cell_type": "markdown",
   "metadata": {},
   "source": [
    "### Preform voom"
   ]
  },
  {
   "cell_type": "code",
   "execution_count": 13,
   "metadata": {},
   "outputs": [
    {
     "data": {
      "image/png": "[encoded data removed]",
      "text/plain": [
       "Plot with title \"voom: Mean-variance trend\""
      ]
     },
     "metadata": {
      "image/png": {
       "height": 420,
       "width": 420
      }
     },
     "output_type": "display_data"
    }
   ],
   "source": [
    "v <- voom(x, modQsva, plot=TRUE)"
   ]
  },
  {
   "cell_type": "code",
   "execution_count": null,
   "metadata": {},
   "outputs": [],
   "source": [
    "feature = 'genes'\n",
    "dir.create(feature)\n",
    "save(v, file=paste0(feature,'/voomSVA.RData'))"
   ]
  },
  {
   "cell_type": "markdown",
   "metadata": {},
   "source": [
    "### Calculate residuals"
   ]
  },
  {
   "cell_type": "code",
   "execution_count": null,
   "metadata": {},
   "outputs": [],
   "source": [
    "null_model = v$design %>% as.data.frame %>% select(-c(\"Male\")) %>% as.matrix\n",
    "fit_res <- lmFit(v, design=null_model)\n",
    "res = v$E - ( fit_res$coefficients %*% t(null_model) )\n",
    "res_sd = apply(res, 1, sd)\n",
    "res_mean = apply(res, 1, mean)"
   ]
  },
  {
   "cell_type": "markdown",
   "metadata": {},
   "source": [
    "### Normalize residuals and write to file"
   ]
  },
  {
   "cell_type": "code",
   "execution_count": null,
   "metadata": {},
   "outputs": [],
   "source": [
    "res_norm = (res - res_mean) / res_sd\n",
    "write.table(res_norm, file=paste0(feature, '/residualized_expression.tsv'),\n",
    "            sep=\"\\t\", quote=FALSE)"
   ]
  },
  {
   "cell_type": "markdown",
   "metadata": {},
   "source": [
    "### Fit model with limma"
   ]
  },
  {
   "cell_type": "code",
   "execution_count": null,
   "metadata": {},
   "outputs": [],
   "source": [
    "fit0 <- lmFit(v, modQsva)\n",
    "contr.matrix <- makeContrasts(MvsF = Male, \n",
    "                              levels=colnames(modQsva))\n",
    "fit <- contrasts.fit(fit0, contrasts=contr.matrix)"
   ]
  },
  {
   "cell_type": "markdown",
   "metadata": {},
   "source": [
    "### Calculate differential expression with eBayes"
   ]
  },
  {
   "cell_type": "code",
   "execution_count": null,
   "metadata": {},
   "outputs": [],
   "source": [
    "esv <- eBayes(fit)\n",
    "\n",
    "options(width=200)\n",
    "top0 <- topTable(esv, coef=1, number=Inf, sort.by=\"P\")\n",
    "sigTest <- decideTests(esv)\n",
    "\n",
    "top <- merge(top0, sigTest, by=0)\n",
    "rownames(top) <- top$Row.names\n",
    "top <- top[,-1]\n",
    "top <- top[order(top$P.Value), ]\n",
    "top <- subset(top, select=-gencodeTx)\n",
    "dim(top)"
   ]
  },
  {
   "cell_type": "code",
   "execution_count": null,
   "metadata": {},
   "outputs": [],
   "source": [
    "write.table(top, file=paste0(feature, \"/diffExpr_maleVfemale_full.txt\"),\n",
    "            sep='\\t', row.names=TRUE, quote=FALSE)"
   ]
  },
  {
   "cell_type": "markdown",
   "metadata": {},
   "source": [
    "### Subset via FDR"
   ]
  },
  {
   "cell_type": "code",
   "execution_count": null,
   "metadata": {},
   "outputs": [],
   "source": [
    "top.fdr <- top[top$adj.P.Val<=0.05,]\n",
    "print(paste('There are:', dim(top.fdr)[1], 'DE features!'))"
   ]
  },
  {
   "cell_type": "code",
   "execution_count": null,
   "metadata": {},
   "outputs": [],
   "source": [
    "subset(top.fdr, Symbol == 'DISC1')"
   ]
  },
  {
   "cell_type": "code",
   "execution_count": null,
   "metadata": {},
   "outputs": [],
   "source": [
    "write.table(top.fdr, file=paste0(feature, \"/diffExpr_maleVfemale_FDR05.txt\"),\n",
    "            sep='\\t', row.names=TRUE, quote=FALSE)"
   ]
  },
  {
   "cell_type": "markdown",
   "metadata": {},
   "source": [
    "## Volcano and MA plots"
   ]
  },
  {
   "cell_type": "code",
   "execution_count": null,
   "metadata": {},
   "outputs": [],
   "source": [
    "with(top, plot(logFC, -log10(P.Value), pch=20, cex=0.6))\n",
    "with(subset(top, adj.P.Val<=0.05), points(logFC, -log10(P.Value),\n",
    "                                          pch=20, col='red', cex=0.6))\n",
    "with(subset(top, abs(logFC)>0.50), points(logFC, -log10(P.Value),\n",
    "                                          pch=20, col='orange', cex=0.6))\n",
    "with(subset(top, adj.P.Val<=0.05 & abs(logFC)>0.50),\n",
    "     points(logFC, -log10(P.Value), pch=20, col='green', cex=0.6))"
   ]
  },
  {
   "cell_type": "code",
   "execution_count": null,
   "metadata": {},
   "outputs": [],
   "source": [
    "pdf(file=paste0(feature, \"/volcanoPlot.pdf\"), 8, 6)\n",
    "with(top, plot(logFC, -log10(P.Value), pch=20, cex=0.6))\n",
    "with(subset(top, adj.P.Val<=0.05), points(logFC, -log10(P.Value),\n",
    "                                          pch=20, col='red', cex=0.6))\n",
    "with(subset(top, abs(logFC)>0.50), points(logFC, -log10(P.Value),\n",
    "                                          pch=20, col='orange', cex=0.6))\n",
    "with(subset(top, adj.P.Val<=0.05 & abs(logFC)>0.50),\n",
    "     points(logFC, -log10(P.Value), pch=20, col='green', cex=0.6))\n",
    "dev.off()"
   ]
  },
  {
   "cell_type": "code",
   "execution_count": null,
   "metadata": {},
   "outputs": [],
   "source": [
    "with(top, plot(AveExpr, logFC, pch=20, cex=0.5))\n",
    "with(subset(top, adj.P.Val<0.05),\n",
    "     points(AveExpr, logFC, col=\"red\", pch=20, cex=0.5))"
   ]
  },
  {
   "cell_type": "code",
   "execution_count": null,
   "metadata": {},
   "outputs": [],
   "source": [
    "pdf(file=paste0(feature, \"/MAplot.pdf\"), 8, 6)\n",
    "with(top, plot(AveExpr, logFC, pch=20, cex=0.5))\n",
    "with(subset(top, adj.P.Val<0.05),\n",
    "     points(AveExpr, logFC, col=\"red\", pch=20, cex=0.5))\n",
    "dev.off()"
   ]
  },
  {
   "cell_type": "markdown",
   "metadata": {},
   "source": [
    "## Repreducibility Information"
   ]
  },
  {
   "cell_type": "code",
   "execution_count": null,
   "metadata": {},
   "outputs": [],
   "source": [
    "Sys.time()\n",
    "proc.time()\n",
    "options(width = 120)\n",
    "sessioninfo::session_info()"
   ]
  }
 ],
 "metadata": {
  "kernelspec": {
   "display_name": "R",
   "language": "R",
   "name": "ir"
  },
  "language_info": {
   "codemirror_mode": "r",
   "file_extension": ".r",
   "mimetype": "text/x-r-source",
   "name": "R",
   "pygments_lexer": "r",
   "version": "4.0.3"
  }
 },
 "nbformat": 4,
 "nbformat_minor": 4
}
