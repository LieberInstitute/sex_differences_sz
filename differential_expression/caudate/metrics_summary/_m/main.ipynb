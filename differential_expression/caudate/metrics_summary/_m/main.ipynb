{
 "cells": [
  {
   "cell_type": "markdown",
   "metadata": {},
   "source": [
    "# Feature summary of differential expression analysis"
   ]
  },
  {
   "cell_type": "code",
   "execution_count": 1,
   "metadata": {
    "execution": {
     "iopub.execute_input": "2021-07-10T00:20:08.417472Z",
     "iopub.status.busy": "2021-07-10T00:20:08.416760Z",
     "iopub.status.idle": "2021-07-10T00:20:08.773985Z",
     "shell.execute_reply": "2021-07-10T00:20:08.774664Z"
    }
   },
   "outputs": [],
   "source": [
    "import numpy as np\n",
    "import pandas as pd"
   ]
  },
  {
   "cell_type": "markdown",
   "metadata": {},
   "source": [
    "## Summary plots"
   ]
  },
  {
   "cell_type": "markdown",
   "metadata": {},
   "source": [
    "### Genes"
   ]
  },
  {
   "cell_type": "code",
   "execution_count": 2,
   "metadata": {
    "execution": {
     "iopub.execute_input": "2021-07-10T00:20:08.781934Z",
     "iopub.status.busy": "2021-07-10T00:20:08.781114Z",
     "iopub.status.idle": "2021-07-10T00:20:08.977962Z",
     "shell.execute_reply": "2021-07-10T00:20:08.977362Z"
    }
   },
   "outputs": [
    {
     "data": {
      "text/html": [
       "<div>\n",
       "<style scoped>\n",
       "    .dataframe tbody tr th:only-of-type {\n",
       "        vertical-align: middle;\n",
       "    }\n",
       "\n",
       "    .dataframe tbody tr th {\n",
       "        vertical-align: top;\n",
       "    }\n",
       "\n",
       "    .dataframe thead th {\n",
       "        text-align: right;\n",
       "    }\n",
       "</style>\n",
       "<table border=\"1\" class=\"dataframe\">\n",
       "  <thead>\n",
       "    <tr style=\"text-align: right;\">\n",
       "      <th></th>\n",
       "      <th>Feature</th>\n",
       "      <th>Symbol</th>\n",
       "      <th>ensemblID</th>\n",
       "      <th>logFC</th>\n",
       "      <th>adj.P.Val</th>\n",
       "      <th>Type</th>\n",
       "    </tr>\n",
       "  </thead>\n",
       "  <tbody>\n",
       "    <tr>\n",
       "      <th>ENSG00000229807.10</th>\n",
       "      <td>ENSG00000229807.10</td>\n",
       "      <td>XIST</td>\n",
       "      <td>ENSG00000229807</td>\n",
       "      <td>-9.296137</td>\n",
       "      <td>1.953623e-272</td>\n",
       "      <td>gene</td>\n",
       "    </tr>\n",
       "    <tr>\n",
       "      <th>ENSG00000114374.12</th>\n",
       "      <td>ENSG00000114374.12</td>\n",
       "      <td>USP9Y</td>\n",
       "      <td>ENSG00000114374</td>\n",
       "      <td>8.683679</td>\n",
       "      <td>1.953623e-272</td>\n",
       "      <td>gene</td>\n",
       "    </tr>\n",
       "    <tr>\n",
       "      <th>ENSG00000183878.15</th>\n",
       "      <td>ENSG00000183878.15</td>\n",
       "      <td>UTY</td>\n",
       "      <td>ENSG00000183878</td>\n",
       "      <td>8.597152</td>\n",
       "      <td>8.133127e-253</td>\n",
       "      <td>gene</td>\n",
       "    </tr>\n",
       "    <tr>\n",
       "      <th>ENSG00000012817.15</th>\n",
       "      <td>ENSG00000012817.15</td>\n",
       "      <td>KDM5D</td>\n",
       "      <td>ENSG00000012817</td>\n",
       "      <td>8.693010</td>\n",
       "      <td>3.593495e-252</td>\n",
       "      <td>gene</td>\n",
       "    </tr>\n",
       "    <tr>\n",
       "      <th>ENSG00000067048.16</th>\n",
       "      <td>ENSG00000067048.16</td>\n",
       "      <td>DDX3Y</td>\n",
       "      <td>ENSG00000067048</td>\n",
       "      <td>8.587803</td>\n",
       "      <td>5.035188e-250</td>\n",
       "      <td>gene</td>\n",
       "    </tr>\n",
       "  </tbody>\n",
       "</table>\n",
       "</div>"
      ],
      "text/plain": [
       "                               Feature Symbol        ensemblID     logFC  \\\n",
       "ENSG00000229807.10  ENSG00000229807.10   XIST  ENSG00000229807 -9.296137   \n",
       "ENSG00000114374.12  ENSG00000114374.12  USP9Y  ENSG00000114374  8.683679   \n",
       "ENSG00000183878.15  ENSG00000183878.15    UTY  ENSG00000183878  8.597152   \n",
       "ENSG00000012817.15  ENSG00000012817.15  KDM5D  ENSG00000012817  8.693010   \n",
       "ENSG00000067048.16  ENSG00000067048.16  DDX3Y  ENSG00000067048  8.587803   \n",
       "\n",
       "                        adj.P.Val  Type  \n",
       "ENSG00000229807.10  1.953623e-272  gene  \n",
       "ENSG00000114374.12  1.953623e-272  gene  \n",
       "ENSG00000183878.15  8.133127e-253  gene  \n",
       "ENSG00000012817.15  3.593495e-252  gene  \n",
       "ENSG00000067048.16  5.035188e-250  gene  "
      ]
     },
     "execution_count": 1,
     "metadata": {},
     "output_type": "execute_result"
    }
   ],
   "source": [
    "genes = pd.read_csv('../../_m/genes/diffExpr_maleVfemale_full.txt', sep='\\t', index_col=0)\n",
    "genes = genes[(genes['adj.P.Val'] < 0.05)].sort_values('adj.P.Val')\n",
    "genes['Feature'] = genes.index\n",
    "genes = genes[['Feature', 'Symbol', 'ensemblID', 'logFC', 'adj.P.Val']]\n",
    "genes['Type'] = 'gene'\n",
    "genes.head()"
   ]
  },
  {
   "cell_type": "markdown",
   "metadata": {},
   "source": [
    "### Transcripts"
   ]
  },
  {
   "cell_type": "code",
   "execution_count": 3,
   "metadata": {
    "execution": {
     "iopub.execute_input": "2021-07-10T00:20:08.984972Z",
     "iopub.status.busy": "2021-07-10T00:20:08.984355Z",
     "iopub.status.idle": "2021-07-10T00:20:09.857710Z",
     "shell.execute_reply": "2021-07-10T00:20:09.858898Z"
    }
   },
   "outputs": [
    {
     "data": {
      "text/html": [
       "<div>\n",
       "<style scoped>\n",
       "    .dataframe tbody tr th:only-of-type {\n",
       "        vertical-align: middle;\n",
       "    }\n",
       "\n",
       "    .dataframe tbody tr th {\n",
       "        vertical-align: top;\n",
       "    }\n",
       "\n",
       "    .dataframe thead th {\n",
       "        text-align: right;\n",
       "    }\n",
       "</style>\n",
       "<table border=\"1\" class=\"dataframe\">\n",
       "  <thead>\n",
       "    <tr style=\"text-align: right;\">\n",
       "      <th></th>\n",
       "      <th>Feature</th>\n",
       "      <th>Symbol</th>\n",
       "      <th>ensemblID</th>\n",
       "      <th>logFC</th>\n",
       "      <th>adj.P.Val</th>\n",
       "      <th>Type</th>\n",
       "    </tr>\n",
       "  </thead>\n",
       "  <tbody>\n",
       "    <tr>\n",
       "      <th>ENST00000429829.5</th>\n",
       "      <td>ENST00000429829.5</td>\n",
       "      <td>XIST</td>\n",
       "      <td>ENSG00000229807</td>\n",
       "      <td>-9.421571</td>\n",
       "      <td>1.116837e-282</td>\n",
       "      <td>transcript</td>\n",
       "    </tr>\n",
       "    <tr>\n",
       "      <th>ENST00000336079.7</th>\n",
       "      <td>ENST00000336079.7</td>\n",
       "      <td>DDX3Y</td>\n",
       "      <td>ENSG00000067048</td>\n",
       "      <td>5.981154</td>\n",
       "      <td>2.976789e-259</td>\n",
       "      <td>transcript</td>\n",
       "    </tr>\n",
       "    <tr>\n",
       "      <th>ENST00000440408.5</th>\n",
       "      <td>ENST00000440408.5</td>\n",
       "      <td>TTTY15</td>\n",
       "      <td>ENSG00000233864</td>\n",
       "      <td>3.429488</td>\n",
       "      <td>3.212763e-244</td>\n",
       "      <td>transcript</td>\n",
       "    </tr>\n",
       "    <tr>\n",
       "      <th>ENST00000253320.8</th>\n",
       "      <td>ENST00000253320.8</td>\n",
       "      <td>TXLNGY</td>\n",
       "      <td>ENSG00000131002</td>\n",
       "      <td>5.239253</td>\n",
       "      <td>8.738864e-237</td>\n",
       "      <td>transcript</td>\n",
       "    </tr>\n",
       "    <tr>\n",
       "      <th>ENST00000382872.5</th>\n",
       "      <td>ENST00000382872.5</td>\n",
       "      <td>NLGN4Y</td>\n",
       "      <td>ENSG00000165246</td>\n",
       "      <td>5.419085</td>\n",
       "      <td>5.938183e-234</td>\n",
       "      <td>transcript</td>\n",
       "    </tr>\n",
       "  </tbody>\n",
       "</table>\n",
       "</div>"
      ],
      "text/plain": [
       "                             Feature  Symbol        ensemblID     logFC  \\\n",
       "ENST00000429829.5  ENST00000429829.5    XIST  ENSG00000229807 -9.421571   \n",
       "ENST00000336079.7  ENST00000336079.7   DDX3Y  ENSG00000067048  5.981154   \n",
       "ENST00000440408.5  ENST00000440408.5  TTTY15  ENSG00000233864  3.429488   \n",
       "ENST00000253320.8  ENST00000253320.8  TXLNGY  ENSG00000131002  5.239253   \n",
       "ENST00000382872.5  ENST00000382872.5  NLGN4Y  ENSG00000165246  5.419085   \n",
       "\n",
       "                       adj.P.Val        Type  \n",
       "ENST00000429829.5  1.116837e-282  transcript  \n",
       "ENST00000336079.7  2.976789e-259  transcript  \n",
       "ENST00000440408.5  3.212763e-244  transcript  \n",
       "ENST00000253320.8  8.738864e-237  transcript  \n",
       "ENST00000382872.5  5.938183e-234  transcript  "
      ]
     },
     "execution_count": 1,
     "metadata": {},
     "output_type": "execute_result"
    }
   ],
   "source": [
    "trans = pd.read_csv('../../_m/transcripts/diffExpr_maleVfemale_full.txt', sep='\\t', index_col=0)\n",
    "trans = trans[(trans['adj.P.Val'] < 0.05)].sort_values('adj.P.Val')\n",
    "trans['Feature'] = trans.index\n",
    "trans['ensemblID'] = trans.gene_id.str.replace('\\\\.\\d+', '', regex=True)\n",
    "trans = trans[['Feature', 'gene_name', 'ensemblID', 'logFC', 'adj.P.Val']].rename(columns={'gene_name': 'Symbol'})\n",
    "trans['Type'] = 'transcript'\n",
    "trans.head()"
   ]
  },
  {
   "cell_type": "markdown",
   "metadata": {},
   "source": [
    "### Exons"
   ]
  },
  {
   "cell_type": "code",
   "execution_count": 4,
   "metadata": {
    "execution": {
     "iopub.execute_input": "2021-07-10T00:20:09.866165Z",
     "iopub.status.busy": "2021-07-10T00:20:09.865410Z",
     "iopub.status.idle": "2021-07-10T00:20:11.892088Z",
     "shell.execute_reply": "2021-07-10T00:20:11.891506Z"
    }
   },
   "outputs": [
    {
     "data": {
      "text/html": [
       "<div>\n",
       "<style scoped>\n",
       "    .dataframe tbody tr th:only-of-type {\n",
       "        vertical-align: middle;\n",
       "    }\n",
       "\n",
       "    .dataframe tbody tr th {\n",
       "        vertical-align: top;\n",
       "    }\n",
       "\n",
       "    .dataframe thead th {\n",
       "        text-align: right;\n",
       "    }\n",
       "</style>\n",
       "<table border=\"1\" class=\"dataframe\">\n",
       "  <thead>\n",
       "    <tr style=\"text-align: right;\">\n",
       "      <th></th>\n",
       "      <th>Feature</th>\n",
       "      <th>Symbol</th>\n",
       "      <th>ensemblID</th>\n",
       "      <th>logFC</th>\n",
       "      <th>adj.P.Val</th>\n",
       "      <th>Type</th>\n",
       "    </tr>\n",
       "  </thead>\n",
       "  <tbody>\n",
       "    <tr>\n",
       "      <th>e1160408</th>\n",
       "      <td>e1160408</td>\n",
       "      <td>XIST</td>\n",
       "      <td>ENSG00000229807</td>\n",
       "      <td>-9.187694</td>\n",
       "      <td>4.748966e-265</td>\n",
       "      <td>exon</td>\n",
       "    </tr>\n",
       "    <tr>\n",
       "      <th>e1160419</th>\n",
       "      <td>e1160419</td>\n",
       "      <td>XIST</td>\n",
       "      <td>ENSG00000229807</td>\n",
       "      <td>-8.410733</td>\n",
       "      <td>6.215720e-265</td>\n",
       "      <td>exon</td>\n",
       "    </tr>\n",
       "    <tr>\n",
       "      <th>e1160425</th>\n",
       "      <td>e1160425</td>\n",
       "      <td>XIST</td>\n",
       "      <td>ENSG00000229807</td>\n",
       "      <td>-7.139194</td>\n",
       "      <td>2.819076e-258</td>\n",
       "      <td>exon</td>\n",
       "    </tr>\n",
       "    <tr>\n",
       "      <th>e1160412</th>\n",
       "      <td>e1160412</td>\n",
       "      <td>XIST</td>\n",
       "      <td>ENSG00000229807</td>\n",
       "      <td>-8.550789</td>\n",
       "      <td>1.340577e-257</td>\n",
       "      <td>exon</td>\n",
       "    </tr>\n",
       "    <tr>\n",
       "      <th>e1160415</th>\n",
       "      <td>e1160415</td>\n",
       "      <td>XIST</td>\n",
       "      <td>ENSG00000229807</td>\n",
       "      <td>-8.666911</td>\n",
       "      <td>1.340577e-257</td>\n",
       "      <td>exon</td>\n",
       "    </tr>\n",
       "  </tbody>\n",
       "</table>\n",
       "</div>"
      ],
      "text/plain": [
       "           Feature Symbol        ensemblID     logFC      adj.P.Val  Type\n",
       "e1160408  e1160408   XIST  ENSG00000229807 -9.187694  4.748966e-265  exon\n",
       "e1160419  e1160419   XIST  ENSG00000229807 -8.410733  6.215720e-265  exon\n",
       "e1160425  e1160425   XIST  ENSG00000229807 -7.139194  2.819076e-258  exon\n",
       "e1160412  e1160412   XIST  ENSG00000229807 -8.550789  1.340577e-257  exon\n",
       "e1160415  e1160415   XIST  ENSG00000229807 -8.666911  1.340577e-257  exon"
      ]
     },
     "execution_count": 1,
     "metadata": {},
     "output_type": "execute_result"
    }
   ],
   "source": [
    "exons = pd.read_csv('../../_m/exons/diffExpr_maleVfemale_full.txt', sep='\\t', index_col=0)\n",
    "exons = exons[(exons['adj.P.Val'] < 0.05)].sort_values('adj.P.Val')\n",
    "exons['Feature'] = exons.index\n",
    "exons = exons[['Feature', 'Symbol', 'ensemblID', 'logFC', 'adj.P.Val']]\n",
    "exons['Type'] = 'exon'\n",
    "exons.head()"
   ]
  },
  {
   "cell_type": "markdown",
   "metadata": {},
   "source": [
    "### Junctions"
   ]
  },
  {
   "cell_type": "code",
   "execution_count": 5,
   "metadata": {
    "execution": {
     "iopub.execute_input": "2021-07-10T00:20:11.902335Z",
     "iopub.status.busy": "2021-07-10T00:20:11.901068Z",
     "iopub.status.idle": "2021-07-10T00:20:13.043015Z",
     "shell.execute_reply": "2021-07-10T00:20:13.043565Z"
    }
   },
   "outputs": [
    {
     "data": {
      "text/html": [
       "<div>\n",
       "<style scoped>\n",
       "    .dataframe tbody tr th:only-of-type {\n",
       "        vertical-align: middle;\n",
       "    }\n",
       "\n",
       "    .dataframe tbody tr th {\n",
       "        vertical-align: top;\n",
       "    }\n",
       "\n",
       "    .dataframe thead th {\n",
       "        text-align: right;\n",
       "    }\n",
       "</style>\n",
       "<table border=\"1\" class=\"dataframe\">\n",
       "  <thead>\n",
       "    <tr style=\"text-align: right;\">\n",
       "      <th></th>\n",
       "      <th>Feature</th>\n",
       "      <th>Symbol</th>\n",
       "      <th>ensemblID</th>\n",
       "      <th>logFC</th>\n",
       "      <th>adj.P.Val</th>\n",
       "      <th>Type</th>\n",
       "    </tr>\n",
       "  </thead>\n",
       "  <tbody>\n",
       "    <tr>\n",
       "      <th>chrX:73833375-73837439(-)</th>\n",
       "      <td>chrX:73833375-73837439(-)</td>\n",
       "      <td>XIST</td>\n",
       "      <td>ENSG00000229807</td>\n",
       "      <td>-8.479058</td>\n",
       "      <td>9.243134e-237</td>\n",
       "      <td>junction</td>\n",
       "    </tr>\n",
       "    <tr>\n",
       "      <th>chrX:73829232-73831065(-)</th>\n",
       "      <td>chrX:73829232-73831065(-)</td>\n",
       "      <td>XIST</td>\n",
       "      <td>ENSG00000229807</td>\n",
       "      <td>-8.745313</td>\n",
       "      <td>1.084182e-230</td>\n",
       "      <td>junction</td>\n",
       "    </tr>\n",
       "    <tr>\n",
       "      <th>chrX:73837504-73841381(-)</th>\n",
       "      <td>chrX:73837504-73841381(-)</td>\n",
       "      <td>XIST</td>\n",
       "      <td>ENSG00000229807</td>\n",
       "      <td>-8.204010</td>\n",
       "      <td>1.187605e-229</td>\n",
       "      <td>junction</td>\n",
       "    </tr>\n",
       "    <tr>\n",
       "      <th>chrX:73831275-73833237(-)</th>\n",
       "      <td>chrX:73831275-73833237(-)</td>\n",
       "      <td>XIST</td>\n",
       "      <td>ENSG00000229807</td>\n",
       "      <td>-8.938933</td>\n",
       "      <td>3.055212e-224</td>\n",
       "      <td>junction</td>\n",
       "    </tr>\n",
       "    <tr>\n",
       "      <th>chrX:73822217-73826114(-)</th>\n",
       "      <td>chrX:73822217-73826114(-)</td>\n",
       "      <td>XIST</td>\n",
       "      <td>ENSG00000229807</td>\n",
       "      <td>-6.485295</td>\n",
       "      <td>5.171709e-210</td>\n",
       "      <td>junction</td>\n",
       "    </tr>\n",
       "  </tbody>\n",
       "</table>\n",
       "</div>"
      ],
      "text/plain": [
       "                                             Feature Symbol        ensemblID  \\\n",
       "chrX:73833375-73837439(-)  chrX:73833375-73837439(-)   XIST  ENSG00000229807   \n",
       "chrX:73829232-73831065(-)  chrX:73829232-73831065(-)   XIST  ENSG00000229807   \n",
       "chrX:73837504-73841381(-)  chrX:73837504-73841381(-)   XIST  ENSG00000229807   \n",
       "chrX:73831275-73833237(-)  chrX:73831275-73833237(-)   XIST  ENSG00000229807   \n",
       "chrX:73822217-73826114(-)  chrX:73822217-73826114(-)   XIST  ENSG00000229807   \n",
       "\n",
       "                              logFC      adj.P.Val      Type  \n",
       "chrX:73833375-73837439(-) -8.479058  9.243134e-237  junction  \n",
       "chrX:73829232-73831065(-) -8.745313  1.084182e-230  junction  \n",
       "chrX:73837504-73841381(-) -8.204010  1.187605e-229  junction  \n",
       "chrX:73831275-73833237(-) -8.938933  3.055212e-224  junction  \n",
       "chrX:73822217-73826114(-) -6.485295  5.171709e-210  junction  "
      ]
     },
     "execution_count": 1,
     "metadata": {},
     "output_type": "execute_result"
    }
   ],
   "source": [
    "juncs = pd.read_csv('../../_m/junctions/diffExpr_maleVfemale_full.txt', sep='\\t', index_col=0)\n",
    "juncs = juncs[(juncs['adj.P.Val'] < 0.05)].sort_values('adj.P.Val')\n",
    "juncs['Feature'] = juncs.index\n",
    "juncs = juncs[['Feature', 'Symbol', 'ensemblID', 'logFC', 'adj.P.Val']]\n",
    "juncs['Type'] = 'junction'\n",
    "juncs.head()"
   ]
  },
  {
   "cell_type": "markdown",
   "metadata": {},
   "source": [
    "## DE summary"
   ]
  },
  {
   "cell_type": "markdown",
   "metadata": {},
   "source": [
    "### DE (feature)"
   ]
  },
  {
   "cell_type": "code",
   "execution_count": 6,
   "metadata": {
    "execution": {
     "iopub.execute_input": "2021-07-10T00:20:13.052467Z",
     "iopub.status.busy": "2021-07-10T00:20:13.051564Z",
     "iopub.status.idle": "2021-07-10T00:20:13.055432Z",
     "shell.execute_reply": "2021-07-10T00:20:13.054855Z"
    }
   },
   "outputs": [
    {
     "name": "stdout",
     "output_type": "stream",
     "text": [
      "\n",
      "Gene:\t\t380\n",
      "Transcript:\t462\n",
      "Exon:\t\t1479\n",
      "Junction:\t772\n"
     ]
    }
   ],
   "source": [
    "gg = len(set(genes['Feature']))\n",
    "tt = len(set(trans['Feature']))\n",
    "ee = len(set(exons['Feature']))\n",
    "jj = len(set(juncs['Feature']))\n",
    "\n",
    "print(\"\\nGene:\\t\\t%d\\nTranscript:\\t%d\\nExon:\\t\\t%d\\nJunction:\\t%d\" % (gg, tt, ee, jj)) "
   ]
  },
  {
   "cell_type": "markdown",
   "metadata": {},
   "source": [
    "#### DE (EnsemblID)"
   ]
  },
  {
   "cell_type": "code",
   "execution_count": 7,
   "metadata": {
    "execution": {
     "iopub.execute_input": "2021-07-10T00:20:13.061225Z",
     "iopub.status.busy": "2021-07-10T00:20:13.060635Z",
     "iopub.status.idle": "2021-07-10T00:20:13.063484Z",
     "shell.execute_reply": "2021-07-10T00:20:13.062974Z"
    }
   },
   "outputs": [
    {
     "name": "stdout",
     "output_type": "stream",
     "text": [
      "\n",
      "Gene:\t\t380\n",
      "Transcript:\t286\n",
      "Exon:\t\t267\n",
      "Junction:\t138\n"
     ]
    }
   ],
   "source": [
    "gg = len(set(genes['ensemblID']))\n",
    "tt = len(set(trans['ensemblID']))\n",
    "ee = len(set(exons['ensemblID']))\n",
    "jj = len(set(juncs['ensemblID']))\n",
    "\n",
    "print(\"\\nGene:\\t\\t%d\\nTranscript:\\t%d\\nExon:\\t\\t%d\\nJunction:\\t%d\" % (gg, tt, ee, jj)) "
   ]
  },
  {
   "cell_type": "markdown",
   "metadata": {},
   "source": [
    "#### DE (Gene Symbol)"
   ]
  },
  {
   "cell_type": "code",
   "execution_count": 8,
   "metadata": {
    "execution": {
     "iopub.execute_input": "2021-07-10T00:20:13.070584Z",
     "iopub.status.busy": "2021-07-10T00:20:13.069226Z",
     "iopub.status.idle": "2021-07-10T00:20:13.074663Z",
     "shell.execute_reply": "2021-07-10T00:20:13.073565Z"
    }
   },
   "outputs": [
    {
     "name": "stdout",
     "output_type": "stream",
     "text": [
      "\n",
      "Gene:\t\t333\n",
      "Transcript:\t277\n",
      "Exon:\t\t231\n",
      "Junction:\t138\n"
     ]
    }
   ],
   "source": [
    "gg = len(set(genes['Symbol']))\n",
    "tt = len(set(trans['Symbol']))\n",
    "ee = len(set(exons['Symbol']))\n",
    "jj = len(set(juncs['Symbol']))\n",
    "\n",
    "print(\"\\nGene:\\t\\t%d\\nTranscript:\\t%d\\nExon:\\t\\t%d\\nJunction:\\t%d\" % (gg, tt, ee, jj)) "
   ]
  },
  {
   "cell_type": "markdown",
   "metadata": {},
   "source": [
    "### Feature effect size summary"
   ]
  },
  {
   "cell_type": "code",
   "execution_count": 9,
   "metadata": {
    "execution": {
     "iopub.execute_input": "2021-07-10T00:20:13.085880Z",
     "iopub.status.busy": "2021-07-10T00:20:13.085225Z",
     "iopub.status.idle": "2021-07-10T00:20:13.093344Z",
     "shell.execute_reply": "2021-07-10T00:20:13.092739Z"
    }
   },
   "outputs": [
    {
     "name": "stdout",
     "output_type": "stream",
     "text": [
      "\n",
      "There are 77 unique Genes with abs(log2FC) >= 0.5\n",
      "There are 41 unique Genes with abs(log2FC) >= 1\n",
      "\n",
      "There are 239 unique Transcript with abs(log2FC) >= 0.5\n",
      "There are 151 unique Transcript with abs(log2FC) >= 1\n",
      "\n",
      "There are 639 unique Exons with abs(log2FC) >= 0.5\n",
      "There are 411 unique Exons with abs(log2FC) >= 1\n",
      "\n",
      "There are 372 unique Junctions with abs(log2FC) >= 0.5\n",
      "There are 226 unique Junctions with abs(log2FC) >= 1\n"
     ]
    }
   ],
   "source": [
    "feature_list = ['Genes', 'Transcript', 'Exons', 'Junctions']\n",
    "feature_df = [genes, trans, exons, juncs]\n",
    "for ii in range(4):\n",
    "    ff = feature_df[ii]\n",
    "    half = len(set(ff[(np.abs(ff['logFC']) >= 0.5)].Feature))\n",
    "    one = len(set(ff[(np.abs(ff['logFC']) >= 1)].Feature))\n",
    "    print(\"\\nThere are %d unique %s with abs(log2FC) >= 0.5\" % (half, feature_list[ii]))\n",
    "    print(\"There are %d unique %s with abs(log2FC) >= 1\" % (one, feature_list[ii]))"
   ]
  },
  {
   "cell_type": "code",
   "execution_count": 10,
   "metadata": {
    "execution": {
     "iopub.execute_input": "2021-07-10T00:20:13.103234Z",
     "iopub.status.busy": "2021-07-10T00:20:13.102620Z",
     "iopub.status.idle": "2021-07-10T00:20:13.109544Z",
     "shell.execute_reply": "2021-07-10T00:20:13.110148Z"
    }
   },
   "outputs": [
    {
     "name": "stdout",
     "output_type": "stream",
     "text": [
      "\n",
      "There are 77 unique Genes with abs(log2FC) >= 0.5\n",
      "There are 41 unique Genes with abs(log2FC) >= 1\n",
      "\n",
      "There are 120 unique Transcripts with abs(log2FC) >= 0.5\n",
      "There are 70 unique Transcripts with abs(log2FC) >= 1\n",
      "\n",
      "There are 78 unique Exons with abs(log2FC) >= 0.5\n",
      "There are 41 unique Exons with abs(log2FC) >= 1\n",
      "\n",
      "There are 43 unique Junctions with abs(log2FC) >= 0.5\n",
      "There are 22 unique Junctions with abs(log2FC) >= 1\n"
     ]
    }
   ],
   "source": [
    "feature_list = ['Genes', 'Transcripts', 'Exons', 'Junctions']\n",
    "feature_df = [genes, trans, exons, juncs]\n",
    "for ii in range(4):\n",
    "    ff = feature_df[ii]\n",
    "    half = len(set(ff[(np.abs(ff['logFC']) >= 0.5)].ensemblID))\n",
    "    one = len(set(ff[(np.abs(ff['logFC']) >= 1)].ensemblID))\n",
    "    print(\"\\nThere are %d unique %s with abs(log2FC) >= 0.5\" % (half, feature_list[ii]))\n",
    "    print(\"There are %d unique %s with abs(log2FC) >= 1\" % (one, feature_list[ii]))"
   ]
  },
  {
   "cell_type": "markdown",
   "metadata": {},
   "source": [
    "## Autosomal only"
   ]
  },
  {
   "cell_type": "code",
   "execution_count": 11,
   "metadata": {
    "execution": {
     "iopub.execute_input": "2021-07-10T00:20:13.114959Z",
     "iopub.status.busy": "2021-07-10T00:20:13.114391Z",
     "iopub.status.idle": "2021-07-10T00:20:13.119132Z",
     "shell.execute_reply": "2021-07-10T00:20:13.119713Z"
    }
   },
   "outputs": [],
   "source": [
    "import functools\n",
    "from gtfparse import read_gtf"
   ]
  },
  {
   "cell_type": "code",
   "execution_count": 12,
   "metadata": {
    "execution": {
     "iopub.execute_input": "2021-07-10T00:20:13.123613Z",
     "iopub.status.busy": "2021-07-10T00:20:13.123017Z",
     "iopub.status.idle": "2021-07-10T00:20:13.124763Z",
     "shell.execute_reply": "2021-07-10T00:20:13.125289Z"
    }
   },
   "outputs": [],
   "source": [
    "@functools.lru_cache()\n",
    "def get_gtf(gtf_file):\n",
    "    return read_gtf(gtf_file)\n"
   ]
  },
  {
   "cell_type": "code",
   "execution_count": 13,
   "metadata": {
    "execution": {
     "iopub.execute_input": "2021-07-10T00:20:13.129588Z",
     "iopub.status.busy": "2021-07-10T00:20:13.129034Z",
     "iopub.status.idle": "2021-07-10T00:20:13.131456Z",
     "shell.execute_reply": "2021-07-10T00:20:13.131975Z"
    }
   },
   "outputs": [],
   "source": [
    "def gene_annotation(gtf_file, feature):\n",
    "    gtf0 = get_gtf(gtf_file)\n",
    "    gtf = gtf0[gtf0[\"feature\"] == feature]\n",
    "    return gtf[[\"gene_id\", \"gene_name\", \"transcript_id\", \"exon_id\", \"gene_type\", \"seqname\", \"start\", \"end\", \"strand\"]]"
   ]
  },
  {
   "cell_type": "code",
   "execution_count": 14,
   "metadata": {
    "execution": {
     "iopub.execute_input": "2021-07-10T00:20:13.136041Z",
     "iopub.status.busy": "2021-07-10T00:20:13.135419Z",
     "iopub.status.idle": "2021-07-10T00:20:13.137285Z",
     "shell.execute_reply": "2021-07-10T00:20:13.137756Z"
    }
   },
   "outputs": [],
   "source": [
    "gtf_file = '/ceph/genome/human/gencode25/gtf.CHR/_m/gencode.v25.annotation.gtf'"
   ]
  },
  {
   "cell_type": "markdown",
   "metadata": {},
   "source": [
    "### Genes"
   ]
  },
  {
   "cell_type": "code",
   "execution_count": 15,
   "metadata": {
    "execution": {
     "iopub.execute_input": "2021-07-10T00:20:13.145505Z",
     "iopub.status.busy": "2021-07-10T00:20:13.144875Z",
     "iopub.status.idle": "2021-07-10T00:21:41.349015Z",
     "shell.execute_reply": "2021-07-10T00:21:41.350182Z"
    }
   },
   "outputs": [
    {
     "name": "stderr",
     "output_type": "stream",
     "text": [
      "INFO:root:Extracted GTF attributes: ['gene_id', 'gene_type', 'gene_status', 'gene_name', 'level', 'havana_gene', 'transcript_id', 'transcript_type', 'transcript_status', 'transcript_name', 'transcript_support_level', 'tag', 'havana_transcript', 'exon_number', 'exon_id', 'ont', 'protein_id', 'ccdsid']\n"
     ]
    },
    {
     "data": {
      "text/html": [
       "<div>\n",
       "<style scoped>\n",
       "    .dataframe tbody tr th:only-of-type {\n",
       "        vertical-align: middle;\n",
       "    }\n",
       "\n",
       "    .dataframe tbody tr th {\n",
       "        vertical-align: top;\n",
       "    }\n",
       "\n",
       "    .dataframe thead th {\n",
       "        text-align: right;\n",
       "    }\n",
       "</style>\n",
       "<table border=\"1\" class=\"dataframe\">\n",
       "  <thead>\n",
       "    <tr style=\"text-align: right;\">\n",
       "      <th></th>\n",
       "      <th>Feature</th>\n",
       "      <th>chr</th>\n",
       "      <th>Symbol</th>\n",
       "      <th>ensemblID</th>\n",
       "      <th>logFC</th>\n",
       "      <th>adj.P.Val</th>\n",
       "      <th>Type</th>\n",
       "    </tr>\n",
       "  </thead>\n",
       "  <tbody>\n",
       "    <tr>\n",
       "      <th>50</th>\n",
       "      <td>ENSG00000205611.4</td>\n",
       "      <td>chr20</td>\n",
       "      <td>LINC01597</td>\n",
       "      <td>ENSG00000205611</td>\n",
       "      <td>1.307990</td>\n",
       "      <td>6.877867e-20</td>\n",
       "      <td>gene</td>\n",
       "    </tr>\n",
       "    <tr>\n",
       "      <th>52</th>\n",
       "      <td>ENSG00000283443.1</td>\n",
       "      <td>chr20</td>\n",
       "      <td>NaN</td>\n",
       "      <td>ENSG00000283443</td>\n",
       "      <td>1.416253</td>\n",
       "      <td>2.838705e-18</td>\n",
       "      <td>gene</td>\n",
       "    </tr>\n",
       "    <tr>\n",
       "      <th>54</th>\n",
       "      <td>ENSG00000149531.15</td>\n",
       "      <td>chr20</td>\n",
       "      <td>FRG1BP</td>\n",
       "      <td>ENSG00000149531</td>\n",
       "      <td>0.671576</td>\n",
       "      <td>1.190836e-17</td>\n",
       "      <td>gene</td>\n",
       "    </tr>\n",
       "    <tr>\n",
       "      <th>56</th>\n",
       "      <td>ENSG00000095932.6</td>\n",
       "      <td>chr19</td>\n",
       "      <td>SMIM24</td>\n",
       "      <td>ENSG00000095932</td>\n",
       "      <td>-0.901329</td>\n",
       "      <td>1.022672e-15</td>\n",
       "      <td>gene</td>\n",
       "    </tr>\n",
       "    <tr>\n",
       "      <th>57</th>\n",
       "      <td>ENSG00000282826.1</td>\n",
       "      <td>chr20</td>\n",
       "      <td>FRG1CP</td>\n",
       "      <td>ENSG00000282826</td>\n",
       "      <td>0.555138</td>\n",
       "      <td>1.474014e-15</td>\n",
       "      <td>gene</td>\n",
       "    </tr>\n",
       "  </tbody>\n",
       "</table>\n",
       "</div>"
      ],
      "text/plain": [
       "               Feature    chr     Symbol        ensemblID     logFC  \\\n",
       "50   ENSG00000205611.4  chr20  LINC01597  ENSG00000205611  1.307990   \n",
       "52   ENSG00000283443.1  chr20        NaN  ENSG00000283443  1.416253   \n",
       "54  ENSG00000149531.15  chr20     FRG1BP  ENSG00000149531  0.671576   \n",
       "56   ENSG00000095932.6  chr19     SMIM24  ENSG00000095932 -0.901329   \n",
       "57   ENSG00000282826.1  chr20     FRG1CP  ENSG00000282826  0.555138   \n",
       "\n",
       "       adj.P.Val  Type  \n",
       "50  6.877867e-20  gene  \n",
       "52  2.838705e-18  gene  \n",
       "54  1.190836e-17  gene  \n",
       "56  1.022672e-15  gene  \n",
       "57  1.474014e-15  gene  "
      ]
     },
     "execution_count": 1,
     "metadata": {},
     "output_type": "execute_result"
    }
   ],
   "source": [
    "gtf_annot = gene_annotation(gtf_file, 'gene')\n",
    "\n",
    "genes = pd.read_csv('../../_m/genes/diffExpr_maleVfemale_full.txt', sep='\\t', index_col=0)\n",
    "genes = genes[(genes['adj.P.Val'] < 0.05)].sort_values('adj.P.Val')\n",
    "genes['Feature'] = genes.index\n",
    "genes = pd.merge(gtf_annot[['gene_id', 'seqname']], genes, left_on='gene_id', right_on='Feature', how='right')\n",
    "genes.loc[:, 'seqname'] = genes.seqname.fillna('chr?')\n",
    "genes.sort_values('adj.P.Val').to_csv('chrom_annotation_genes.txt', sep='\\t', index=False)\n",
    "genes = genes[(genes.seqname.str.contains('chr\\d+')) | (genes['seqname'] == 'chr?')].copy().rename(columns={'seqname': 'chr'})\n",
    "genes = genes[['Feature', 'chr', 'Symbol', 'ensemblID', 'logFC', 'adj.P.Val']]\n",
    "genes['Type'] = 'gene'\n",
    "genes.head()"
   ]
  },
  {
   "cell_type": "code",
   "execution_count": 16,
   "metadata": {
    "execution": {
     "iopub.execute_input": "2021-07-10T00:21:41.360879Z",
     "iopub.status.busy": "2021-07-10T00:21:41.360270Z",
     "iopub.status.idle": "2021-07-10T00:21:41.362810Z",
     "shell.execute_reply": "2021-07-10T00:21:41.363281Z"
    }
   },
   "outputs": [
    {
     "data": {
      "text/html": [
       "<div>\n",
       "<style scoped>\n",
       "    .dataframe tbody tr th:only-of-type {\n",
       "        vertical-align: middle;\n",
       "    }\n",
       "\n",
       "    .dataframe tbody tr th {\n",
       "        vertical-align: top;\n",
       "    }\n",
       "\n",
       "    .dataframe thead th {\n",
       "        text-align: right;\n",
       "    }\n",
       "</style>\n",
       "<table border=\"1\" class=\"dataframe\">\n",
       "  <thead>\n",
       "    <tr style=\"text-align: right;\">\n",
       "      <th></th>\n",
       "      <th>Feature</th>\n",
       "      <th>chr</th>\n",
       "      <th>Symbol</th>\n",
       "      <th>ensemblID</th>\n",
       "      <th>logFC</th>\n",
       "      <th>adj.P.Val</th>\n",
       "      <th>Type</th>\n",
       "    </tr>\n",
       "  </thead>\n",
       "  <tbody>\n",
       "  </tbody>\n",
       "</table>\n",
       "</div>"
      ],
      "text/plain": [
       "Empty DataFrame\n",
       "Columns: [Feature, chr, Symbol, ensemblID, logFC, adj.P.Val, Type]\n",
       "Index: []"
      ]
     },
     "execution_count": 1,
     "metadata": {},
     "output_type": "execute_result"
    }
   ],
   "source": [
    "genes[(genes.chr == 'chr?')]"
   ]
  },
  {
   "cell_type": "markdown",
   "metadata": {},
   "source": [
    "### Annotate unknown by hand\n",
    "There are none."
   ]
  },
  {
   "cell_type": "code",
   "execution_count": 17,
   "metadata": {
    "execution": {
     "iopub.execute_input": "2021-07-10T00:21:41.369496Z",
     "iopub.status.busy": "2021-07-10T00:21:41.368099Z",
     "iopub.status.idle": "2021-07-10T00:21:41.377861Z",
     "shell.execute_reply": "2021-07-10T00:21:41.376482Z"
    }
   },
   "outputs": [
    {
     "data": {
      "text/plain": [
       "(300, 7)"
      ]
     },
     "execution_count": 1,
     "metadata": {},
     "output_type": "execute_result"
    }
   ],
   "source": [
    "#genes = genes[~(genes['Symbol'].isin(['NLGN4Y', 'JPX', 'PCDH11X', 'GABRE']))]\n",
    "genes.to_csv('autosomal_DEG.csv', index=False, header=True)\n",
    "genes.shape"
   ]
  },
  {
   "cell_type": "code",
   "execution_count": 18,
   "metadata": {
    "execution": {
     "iopub.execute_input": "2021-07-10T00:21:41.387920Z",
     "iopub.status.busy": "2021-07-10T00:21:41.385013Z",
     "iopub.status.idle": "2021-07-10T00:21:41.391917Z",
     "shell.execute_reply": "2021-07-10T00:21:41.393073Z"
    }
   },
   "outputs": [
    {
     "data": {
      "text/plain": [
       "(300, 7)"
      ]
     },
     "execution_count": 1,
     "metadata": {},
     "output_type": "execute_result"
    }
   ],
   "source": [
    "genes.groupby('ensemblID').first().reset_index().shape"
   ]
  },
  {
   "cell_type": "markdown",
   "metadata": {},
   "source": [
    "### Transcripts"
   ]
  },
  {
   "cell_type": "code",
   "execution_count": 19,
   "metadata": {
    "execution": {
     "iopub.execute_input": "2021-07-10T00:21:41.579132Z",
     "iopub.status.busy": "2021-07-10T00:21:41.578453Z",
     "iopub.status.idle": "2021-07-10T00:21:42.720665Z",
     "shell.execute_reply": "2021-07-10T00:21:42.719997Z"
    }
   },
   "outputs": [
    {
     "data": {
      "text/html": [
       "<div>\n",
       "<style scoped>\n",
       "    .dataframe tbody tr th:only-of-type {\n",
       "        vertical-align: middle;\n",
       "    }\n",
       "\n",
       "    .dataframe tbody tr th {\n",
       "        vertical-align: top;\n",
       "    }\n",
       "\n",
       "    .dataframe thead th {\n",
       "        text-align: right;\n",
       "    }\n",
       "</style>\n",
       "<table border=\"1\" class=\"dataframe\">\n",
       "  <thead>\n",
       "    <tr style=\"text-align: right;\">\n",
       "      <th></th>\n",
       "      <th>Feature</th>\n",
       "      <th>chr</th>\n",
       "      <th>Symbol</th>\n",
       "      <th>ensemblID</th>\n",
       "      <th>logFC</th>\n",
       "      <th>adj.P.Val</th>\n",
       "      <th>Type</th>\n",
       "    </tr>\n",
       "  </thead>\n",
       "  <tbody>\n",
       "    <tr>\n",
       "      <th>41</th>\n",
       "      <td>ENST00000550058.1</td>\n",
       "      <td>chr12</td>\n",
       "      <td>METTL25</td>\n",
       "      <td>ENSG00000127720</td>\n",
       "      <td>3.901876</td>\n",
       "      <td>3.911560e-124</td>\n",
       "      <td>transcript</td>\n",
       "    </tr>\n",
       "    <tr>\n",
       "      <th>69</th>\n",
       "      <td>ENST00000609745.1</td>\n",
       "      <td>chr20</td>\n",
       "      <td>SDCBP2-AS1</td>\n",
       "      <td>ENSG00000234684</td>\n",
       "      <td>-0.974643</td>\n",
       "      <td>1.869780e-69</td>\n",
       "      <td>transcript</td>\n",
       "    </tr>\n",
       "    <tr>\n",
       "      <th>115</th>\n",
       "      <td>ENST00000474345.5</td>\n",
       "      <td>chr1</td>\n",
       "      <td>FDPS</td>\n",
       "      <td>ENSG00000160752</td>\n",
       "      <td>2.344502</td>\n",
       "      <td>2.024836e-32</td>\n",
       "      <td>transcript</td>\n",
       "    </tr>\n",
       "    <tr>\n",
       "      <th>130</th>\n",
       "      <td>ENST00000551722.1</td>\n",
       "      <td>chr12</td>\n",
       "      <td>METTL25</td>\n",
       "      <td>ENSG00000127720</td>\n",
       "      <td>0.763093</td>\n",
       "      <td>4.297611e-22</td>\n",
       "      <td>transcript</td>\n",
       "    </tr>\n",
       "    <tr>\n",
       "      <th>132</th>\n",
       "      <td>ENST00000414784.1</td>\n",
       "      <td>chr2</td>\n",
       "      <td>AC012442.5</td>\n",
       "      <td>ENSG00000243389</td>\n",
       "      <td>0.697684</td>\n",
       "      <td>6.993611e-20</td>\n",
       "      <td>transcript</td>\n",
       "    </tr>\n",
       "  </tbody>\n",
       "</table>\n",
       "</div>"
      ],
      "text/plain": [
       "               Feature    chr      Symbol        ensemblID     logFC  \\\n",
       "41   ENST00000550058.1  chr12     METTL25  ENSG00000127720  3.901876   \n",
       "69   ENST00000609745.1  chr20  SDCBP2-AS1  ENSG00000234684 -0.974643   \n",
       "115  ENST00000474345.5   chr1        FDPS  ENSG00000160752  2.344502   \n",
       "130  ENST00000551722.1  chr12     METTL25  ENSG00000127720  0.763093   \n",
       "132  ENST00000414784.1   chr2  AC012442.5  ENSG00000243389  0.697684   \n",
       "\n",
       "         adj.P.Val        Type  \n",
       "41   3.911560e-124  transcript  \n",
       "69    1.869780e-69  transcript  \n",
       "115   2.024836e-32  transcript  \n",
       "130   4.297611e-22  transcript  \n",
       "132   6.993611e-20  transcript  "
      ]
     },
     "execution_count": 1,
     "metadata": {},
     "output_type": "execute_result"
    }
   ],
   "source": [
    "gtf_annot = gene_annotation(gtf_file, 'transcript')\n",
    "\n",
    "trans = pd.read_csv('../../_m/transcripts/diffExpr_maleVfemale_full.txt', sep='\\t', index_col=0)\n",
    "trans = trans[(trans['adj.P.Val'] < 0.05)].sort_values('adj.P.Val')\n",
    "trans.loc[:, 'Feature'] = trans.index\n",
    "trans.loc[:, 'ensemblID'] = trans.gene_id.str.replace('\\\\.\\d+', '', regex=True)\n",
    "trans = pd.merge(gtf_annot[['transcript_id', 'seqname']], trans, left_on='transcript_id', right_on='Feature', how='right')\n",
    "trans.loc[:, 'seqname'] = trans.seqname.fillna('chr?')\n",
    "trans = trans[(trans.seqname.str.contains('chr\\d+')) | (trans['seqname'] == 'chr?')].copy().rename(columns={'seqname': 'chr'})\n",
    "trans = trans[['Feature', 'chr', 'gene_name', 'ensemblID', 'logFC', 'adj.P.Val']].rename(columns={'gene_name': 'Symbol'})\n",
    "trans['Type'] = 'transcript'\n",
    "trans.head()"
   ]
  },
  {
   "cell_type": "code",
   "execution_count": 20,
   "metadata": {
    "execution": {
     "iopub.execute_input": "2021-07-10T00:21:42.729706Z",
     "iopub.status.busy": "2021-07-10T00:21:42.728909Z",
     "iopub.status.idle": "2021-07-10T00:21:42.732880Z",
     "shell.execute_reply": "2021-07-10T00:21:42.732234Z"
    }
   },
   "outputs": [
    {
     "data": {
      "text/html": [
       "<div>\n",
       "<style scoped>\n",
       "    .dataframe tbody tr th:only-of-type {\n",
       "        vertical-align: middle;\n",
       "    }\n",
       "\n",
       "    .dataframe tbody tr th {\n",
       "        vertical-align: top;\n",
       "    }\n",
       "\n",
       "    .dataframe thead th {\n",
       "        text-align: right;\n",
       "    }\n",
       "</style>\n",
       "<table border=\"1\" class=\"dataframe\">\n",
       "  <thead>\n",
       "    <tr style=\"text-align: right;\">\n",
       "      <th></th>\n",
       "      <th>Feature</th>\n",
       "      <th>chr</th>\n",
       "      <th>Symbol</th>\n",
       "      <th>ensemblID</th>\n",
       "      <th>logFC</th>\n",
       "      <th>adj.P.Val</th>\n",
       "      <th>Type</th>\n",
       "    </tr>\n",
       "  </thead>\n",
       "  <tbody>\n",
       "  </tbody>\n",
       "</table>\n",
       "</div>"
      ],
      "text/plain": [
       "Empty DataFrame\n",
       "Columns: [Feature, chr, Symbol, ensemblID, logFC, adj.P.Val, Type]\n",
       "Index: []"
      ]
     },
     "execution_count": 1,
     "metadata": {},
     "output_type": "execute_result"
    }
   ],
   "source": [
    "trans[(trans.chr == 'chr?')]"
   ]
  },
  {
   "cell_type": "markdown",
   "metadata": {},
   "source": [
    "### Annotate unknown by hand\n",
    "There are none."
   ]
  },
  {
   "cell_type": "code",
   "execution_count": 21,
   "metadata": {
    "execution": {
     "iopub.execute_input": "2021-07-10T00:21:42.737069Z",
     "iopub.status.busy": "2021-07-10T00:21:42.736484Z",
     "iopub.status.idle": "2021-07-10T00:21:42.744155Z",
     "shell.execute_reply": "2021-07-10T00:21:42.743108Z"
    }
   },
   "outputs": [
    {
     "data": {
      "text/plain": [
       "(184, 7)"
      ]
     },
     "execution_count": 1,
     "metadata": {},
     "output_type": "execute_result"
    }
   ],
   "source": [
    "#trans = trans[~(trans['Symbol'].isin(['NLGN4Y']))]\n",
    "trans.to_csv('transcripts_autosomal_DE.csv', index=False, header=True)\n",
    "trans.shape"
   ]
  },
  {
   "cell_type": "code",
   "execution_count": 22,
   "metadata": {
    "execution": {
     "iopub.execute_input": "2021-07-10T00:21:42.753094Z",
     "iopub.status.busy": "2021-07-10T00:21:42.752441Z",
     "iopub.status.idle": "2021-07-10T00:21:42.755715Z",
     "shell.execute_reply": "2021-07-10T00:21:42.755024Z"
    }
   },
   "outputs": [
    {
     "data": {
      "text/plain": [
       "(176, 7)"
      ]
     },
     "execution_count": 1,
     "metadata": {},
     "output_type": "execute_result"
    }
   ],
   "source": [
    "trans.groupby('ensemblID').first().reset_index().shape"
   ]
  },
  {
   "cell_type": "markdown",
   "metadata": {},
   "source": [
    "### Exons"
   ]
  },
  {
   "cell_type": "code",
   "execution_count": 23,
   "metadata": {
    "execution": {
     "iopub.execute_input": "2021-07-10T00:21:42.969469Z",
     "iopub.status.busy": "2021-07-10T00:21:42.968791Z",
     "iopub.status.idle": "2021-07-10T00:21:47.252734Z",
     "shell.execute_reply": "2021-07-10T00:21:47.251919Z"
    }
   },
   "outputs": [
    {
     "data": {
      "text/html": [
       "<div>\n",
       "<style scoped>\n",
       "    .dataframe tbody tr th:only-of-type {\n",
       "        vertical-align: middle;\n",
       "    }\n",
       "\n",
       "    .dataframe tbody tr th {\n",
       "        vertical-align: top;\n",
       "    }\n",
       "\n",
       "    .dataframe thead th {\n",
       "        text-align: right;\n",
       "    }\n",
       "</style>\n",
       "<table border=\"1\" class=\"dataframe\">\n",
       "  <thead>\n",
       "    <tr style=\"text-align: right;\">\n",
       "      <th></th>\n",
       "      <th>Feature</th>\n",
       "      <th>chr</th>\n",
       "      <th>Symbol</th>\n",
       "      <th>ensemblID</th>\n",
       "      <th>logFC</th>\n",
       "      <th>adj.P.Val</th>\n",
       "      <th>Type</th>\n",
       "    </tr>\n",
       "  </thead>\n",
       "  <tbody>\n",
       "    <tr>\n",
       "      <th>0</th>\n",
       "      <td>e1011449</td>\n",
       "      <td>chr19</td>\n",
       "      <td>SMIM24</td>\n",
       "      <td>ENSG00000095932</td>\n",
       "      <td>-0.908524</td>\n",
       "      <td>1.769384e-14</td>\n",
       "      <td>exon</td>\n",
       "    </tr>\n",
       "    <tr>\n",
       "      <th>1</th>\n",
       "      <td>e1011451</td>\n",
       "      <td>chr19</td>\n",
       "      <td>SMIM24</td>\n",
       "      <td>ENSG00000095932</td>\n",
       "      <td>-0.903646</td>\n",
       "      <td>3.351434e-14</td>\n",
       "      <td>exon</td>\n",
       "    </tr>\n",
       "    <tr>\n",
       "      <th>2</th>\n",
       "      <td>e1011454</td>\n",
       "      <td>chr19</td>\n",
       "      <td>SMIM24</td>\n",
       "      <td>ENSG00000095932</td>\n",
       "      <td>-0.894382</td>\n",
       "      <td>5.286518e-14</td>\n",
       "      <td>exon</td>\n",
       "    </tr>\n",
       "    <tr>\n",
       "      <th>3</th>\n",
       "      <td>e1013243</td>\n",
       "      <td>chr19</td>\n",
       "      <td>PLIN5</td>\n",
       "      <td>ENSG00000214456</td>\n",
       "      <td>-0.461966</td>\n",
       "      <td>9.464117e-03</td>\n",
       "      <td>exon</td>\n",
       "    </tr>\n",
       "    <tr>\n",
       "      <th>4</th>\n",
       "      <td>e1013248</td>\n",
       "      <td>chr19</td>\n",
       "      <td>PLIN5</td>\n",
       "      <td>ENSG00000214456</td>\n",
       "      <td>-0.293909</td>\n",
       "      <td>3.391309e-04</td>\n",
       "      <td>exon</td>\n",
       "    </tr>\n",
       "  </tbody>\n",
       "</table>\n",
       "</div>"
      ],
      "text/plain": [
       "    Feature    chr  Symbol        ensemblID     logFC     adj.P.Val  Type\n",
       "0  e1011449  chr19  SMIM24  ENSG00000095932 -0.908524  1.769384e-14  exon\n",
       "1  e1011451  chr19  SMIM24  ENSG00000095932 -0.903646  3.351434e-14  exon\n",
       "2  e1011454  chr19  SMIM24  ENSG00000095932 -0.894382  5.286518e-14  exon\n",
       "3  e1013243  chr19   PLIN5  ENSG00000214456 -0.461966  9.464117e-03  exon\n",
       "4  e1013248  chr19   PLIN5  ENSG00000214456 -0.293909  3.391309e-04  exon"
      ]
     },
     "execution_count": 1,
     "metadata": {},
     "output_type": "execute_result"
    }
   ],
   "source": [
    "gtf_annot = gene_annotation(gtf_file, 'exon')\n",
    "gtf_annot['ensemblID'] = gtf_annot.gene_id.str.replace('\\\\.\\d+', '', regex=True)\n",
    "\n",
    "exons = pd.read_csv('../../_m/exons/diffExpr_maleVfemale_full.txt', sep='\\t', index_col=0)\n",
    "exons = exons[(exons['adj.P.Val'] < 0.05)].sort_values('adj.P.Val')\n",
    "exons['Feature'] = exons.index\n",
    "exons = pd.merge(gtf_annot[['ensemblID', 'seqname']], exons, on='ensemblID', how='right')\n",
    "exons.loc[:, 'seqname'] = exons.seqname.fillna('chr?')\n",
    "exons = exons[(exons.seqname.str.contains('chr\\d+')) | (exons['seqname'] == 'chr?')].copy().rename(columns={'seqname': 'chr'})\n",
    "exons = exons[['Feature', 'chr', 'Symbol', 'ensemblID', 'logFC', 'adj.P.Val']].groupby('Feature').first().reset_index()\n",
    "exons['Type'] = 'exon'\n",
    "exons.head()"
   ]
  },
  {
   "cell_type": "code",
   "execution_count": 24,
   "metadata": {
    "execution": {
     "iopub.execute_input": "2021-07-10T00:21:47.268772Z",
     "iopub.status.busy": "2021-07-10T00:21:47.267274Z",
     "iopub.status.idle": "2021-07-10T00:21:47.270770Z",
     "shell.execute_reply": "2021-07-10T00:21:47.271269Z"
    }
   },
   "outputs": [
    {
     "data": {
      "text/html": [
       "<div>\n",
       "<style scoped>\n",
       "    .dataframe tbody tr th:only-of-type {\n",
       "        vertical-align: middle;\n",
       "    }\n",
       "\n",
       "    .dataframe tbody tr th {\n",
       "        vertical-align: top;\n",
       "    }\n",
       "\n",
       "    .dataframe thead th {\n",
       "        text-align: right;\n",
       "    }\n",
       "</style>\n",
       "<table border=\"1\" class=\"dataframe\">\n",
       "  <thead>\n",
       "    <tr style=\"text-align: right;\">\n",
       "      <th></th>\n",
       "      <th>ensemblID</th>\n",
       "      <th>Feature</th>\n",
       "      <th>chr</th>\n",
       "      <th>Symbol</th>\n",
       "      <th>logFC</th>\n",
       "      <th>adj.P.Val</th>\n",
       "      <th>Type</th>\n",
       "    </tr>\n",
       "  </thead>\n",
       "  <tbody>\n",
       "  </tbody>\n",
       "</table>\n",
       "</div>"
      ],
      "text/plain": [
       "Empty DataFrame\n",
       "Columns: [ensemblID, Feature, chr, Symbol, logFC, adj.P.Val, Type]\n",
       "Index: []"
      ]
     },
     "execution_count": 1,
     "metadata": {},
     "output_type": "execute_result"
    }
   ],
   "source": [
    "exons[(exons['chr'] == 'chr?')].groupby('ensemblID').first().reset_index()"
   ]
  },
  {
   "cell_type": "markdown",
   "metadata": {},
   "source": [
    "### Annotate unknown by hand\n",
    "There are none."
   ]
  },
  {
   "cell_type": "code",
   "execution_count": 25,
   "metadata": {
    "execution": {
     "iopub.execute_input": "2021-07-10T00:21:47.276316Z",
     "iopub.status.busy": "2021-07-10T00:21:47.275440Z",
     "iopub.status.idle": "2021-07-10T00:21:47.283473Z",
     "shell.execute_reply": "2021-07-10T00:21:47.284037Z"
    }
   },
   "outputs": [
    {
     "data": {
      "text/plain": [
       "(492, 7)"
      ]
     },
     "execution_count": 1,
     "metadata": {},
     "output_type": "execute_result"
    }
   ],
   "source": [
    "#exons = exons[~(exons['ensemblID'].isin(['ENSG00000269941']))]\n",
    "exons.to_csv('exons_autosomal_DE.csv', index=False, header=True)\n",
    "exons.shape"
   ]
  },
  {
   "cell_type": "code",
   "execution_count": 26,
   "metadata": {
    "execution": {
     "iopub.execute_input": "2021-07-10T00:21:47.290965Z",
     "iopub.status.busy": "2021-07-10T00:21:47.289855Z",
     "iopub.status.idle": "2021-07-10T00:21:47.296351Z",
     "shell.execute_reply": "2021-07-10T00:21:47.296974Z"
    }
   },
   "outputs": [
    {
     "data": {
      "text/plain": [
       "(189, 7)"
      ]
     },
     "execution_count": 1,
     "metadata": {},
     "output_type": "execute_result"
    }
   ],
   "source": [
    "exons.groupby('ensemblID').first().reset_index().shape"
   ]
  },
  {
   "cell_type": "markdown",
   "metadata": {},
   "source": [
    "### Junctions"
   ]
  },
  {
   "cell_type": "code",
   "execution_count": 27,
   "metadata": {
    "execution": {
     "iopub.execute_input": "2021-07-10T00:21:47.305135Z",
     "iopub.status.busy": "2021-07-10T00:21:47.304210Z",
     "iopub.status.idle": "2021-07-10T00:21:48.632005Z",
     "shell.execute_reply": "2021-07-10T00:21:48.631066Z"
    }
   },
   "outputs": [
    {
     "data": {
      "text/html": [
       "<div>\n",
       "<style scoped>\n",
       "    .dataframe tbody tr th:only-of-type {\n",
       "        vertical-align: middle;\n",
       "    }\n",
       "\n",
       "    .dataframe tbody tr th {\n",
       "        vertical-align: top;\n",
       "    }\n",
       "\n",
       "    .dataframe thead th {\n",
       "        text-align: right;\n",
       "    }\n",
       "</style>\n",
       "<table border=\"1\" class=\"dataframe\">\n",
       "  <thead>\n",
       "    <tr style=\"text-align: right;\">\n",
       "      <th></th>\n",
       "      <th>Feature</th>\n",
       "      <th>chr</th>\n",
       "      <th>Symbol</th>\n",
       "      <th>ensemblID</th>\n",
       "      <th>logFC</th>\n",
       "      <th>adj.P.Val</th>\n",
       "      <th>Type</th>\n",
       "    </tr>\n",
       "  </thead>\n",
       "  <tbody>\n",
       "    <tr>\n",
       "      <th>0</th>\n",
       "      <td>chr10:11314271-11320856(+)</td>\n",
       "      <td>chr10</td>\n",
       "      <td>CELF2</td>\n",
       "      <td>ENSG00000048740</td>\n",
       "      <td>0.547582</td>\n",
       "      <td>0.017608</td>\n",
       "      <td>junction</td>\n",
       "    </tr>\n",
       "    <tr>\n",
       "      <th>1</th>\n",
       "      <td>chr10:46911502-46943917(+)</td>\n",
       "      <td>chr10</td>\n",
       "      <td>PTPN20</td>\n",
       "      <td>ENSG00000204179</td>\n",
       "      <td>0.613532</td>\n",
       "      <td>0.005269</td>\n",
       "      <td>junction</td>\n",
       "    </tr>\n",
       "    <tr>\n",
       "      <th>2</th>\n",
       "      <td>chr10:46946676-46999911(+)</td>\n",
       "      <td>chr10</td>\n",
       "      <td>PTPN20</td>\n",
       "      <td>ENSG00000204179</td>\n",
       "      <td>0.648941</td>\n",
       "      <td>0.000035</td>\n",
       "      <td>junction</td>\n",
       "    </tr>\n",
       "    <tr>\n",
       "      <th>3</th>\n",
       "      <td>chr10:60106060-60108829(-)</td>\n",
       "      <td>chr10</td>\n",
       "      <td>ANK3</td>\n",
       "      <td>ENSG00000151150</td>\n",
       "      <td>0.131277</td>\n",
       "      <td>0.027027</td>\n",
       "      <td>junction</td>\n",
       "    </tr>\n",
       "    <tr>\n",
       "      <th>4</th>\n",
       "      <td>chr10:60264021-60270130(-)</td>\n",
       "      <td>chr10</td>\n",
       "      <td>ANK3</td>\n",
       "      <td>ENSG00000151150</td>\n",
       "      <td>0.112018</td>\n",
       "      <td>0.020419</td>\n",
       "      <td>junction</td>\n",
       "    </tr>\n",
       "  </tbody>\n",
       "</table>\n",
       "</div>"
      ],
      "text/plain": [
       "                      Feature    chr  Symbol        ensemblID     logFC  \\\n",
       "0  chr10:11314271-11320856(+)  chr10   CELF2  ENSG00000048740  0.547582   \n",
       "1  chr10:46911502-46943917(+)  chr10  PTPN20  ENSG00000204179  0.613532   \n",
       "2  chr10:46946676-46999911(+)  chr10  PTPN20  ENSG00000204179  0.648941   \n",
       "3  chr10:60106060-60108829(-)  chr10    ANK3  ENSG00000151150  0.131277   \n",
       "4  chr10:60264021-60270130(-)  chr10    ANK3  ENSG00000151150  0.112018   \n",
       "\n",
       "   adj.P.Val      Type  \n",
       "0   0.017608  junction  \n",
       "1   0.005269  junction  \n",
       "2   0.000035  junction  \n",
       "3   0.027027  junction  \n",
       "4   0.020419  junction  "
      ]
     },
     "execution_count": 1,
     "metadata": {},
     "output_type": "execute_result"
    }
   ],
   "source": [
    "juncs = pd.read_csv('../../_m/junctions/diffExpr_maleVfemale_full.txt', sep='\\t', index_col=0)\n",
    "juncs = juncs[(juncs['adj.P.Val'] < 0.05)].sort_values('adj.P.Val')\n",
    "juncs['Feature'] = juncs.index\n",
    "juncs = pd.merge(gtf_annot[['ensemblID', 'seqname']], juncs, on='ensemblID', how='right')\n",
    "juncs.loc[:, 'seqname'] = juncs.seqname.fillna('chr?')\n",
    "juncs = juncs[(juncs.seqname.str.contains('chr\\d+')) | (juncs['seqname'] == 'chr?')].copy().rename(columns={'seqname': 'chr'})\n",
    "juncs = juncs[['Feature', 'chr', 'Symbol', 'ensemblID', 'logFC', 'adj.P.Val']].groupby('Feature').first().reset_index()\n",
    "juncs['Type'] = 'junction'\n",
    "juncs.head()"
   ]
  },
  {
   "cell_type": "code",
   "execution_count": 28,
   "metadata": {
    "execution": {
     "iopub.execute_input": "2021-07-10T00:21:48.644781Z",
     "iopub.status.busy": "2021-07-10T00:21:48.643781Z",
     "iopub.status.idle": "2021-07-10T00:21:48.647209Z",
     "shell.execute_reply": "2021-07-10T00:21:48.648066Z"
    }
   },
   "outputs": [
    {
     "data": {
      "text/html": [
       "<div>\n",
       "<style scoped>\n",
       "    .dataframe tbody tr th:only-of-type {\n",
       "        vertical-align: middle;\n",
       "    }\n",
       "\n",
       "    .dataframe tbody tr th {\n",
       "        vertical-align: top;\n",
       "    }\n",
       "\n",
       "    .dataframe thead th {\n",
       "        text-align: right;\n",
       "    }\n",
       "</style>\n",
       "<table border=\"1\" class=\"dataframe\">\n",
       "  <thead>\n",
       "    <tr style=\"text-align: right;\">\n",
       "      <th></th>\n",
       "      <th>Feature</th>\n",
       "      <th>chr</th>\n",
       "      <th>Symbol</th>\n",
       "      <th>logFC</th>\n",
       "      <th>adj.P.Val</th>\n",
       "      <th>Type</th>\n",
       "    </tr>\n",
       "    <tr>\n",
       "      <th>ensemblID</th>\n",
       "      <th></th>\n",
       "      <th></th>\n",
       "      <th></th>\n",
       "      <th></th>\n",
       "      <th></th>\n",
       "      <th></th>\n",
       "    </tr>\n",
       "  </thead>\n",
       "  <tbody>\n",
       "  </tbody>\n",
       "</table>\n",
       "</div>"
      ],
      "text/plain": [
       "Empty DataFrame\n",
       "Columns: [Feature, chr, Symbol, logFC, adj.P.Val, Type]\n",
       "Index: []"
      ]
     },
     "execution_count": 1,
     "metadata": {},
     "output_type": "execute_result"
    }
   ],
   "source": [
    "juncs[(juncs['chr'] == 'chr?')].groupby('ensemblID').first()"
   ]
  },
  {
   "cell_type": "markdown",
   "metadata": {},
   "source": [
    "### Annotate unknown by hand\n",
    "None unknown"
   ]
  },
  {
   "cell_type": "code",
   "execution_count": 29,
   "metadata": {
    "execution": {
     "iopub.execute_input": "2021-07-10T00:21:48.654423Z",
     "iopub.status.busy": "2021-07-10T00:21:48.652944Z",
     "iopub.status.idle": "2021-07-10T00:21:48.659439Z",
     "shell.execute_reply": "2021-07-10T00:21:48.658539Z"
    }
   },
   "outputs": [
    {
     "data": {
      "text/plain": [
       "(236, 7)"
      ]
     },
     "execution_count": 1,
     "metadata": {},
     "output_type": "execute_result"
    }
   ],
   "source": [
    "juncs.to_csv('junctions_autosomal_DE.csv', index=False, header=True)\n",
    "juncs.shape"
   ]
  },
  {
   "cell_type": "code",
   "execution_count": 30,
   "metadata": {
    "execution": {
     "iopub.execute_input": "2021-07-10T00:21:48.667755Z",
     "iopub.status.busy": "2021-07-10T00:21:48.665682Z",
     "iopub.status.idle": "2021-07-10T00:21:48.670230Z",
     "shell.execute_reply": "2021-07-10T00:21:48.670698Z"
    }
   },
   "outputs": [
    {
     "data": {
      "text/plain": [
       "(85, 7)"
      ]
     },
     "execution_count": 1,
     "metadata": {},
     "output_type": "execute_result"
    }
   ],
   "source": [
    "juncs.groupby('ensemblID').first().reset_index().shape"
   ]
  },
  {
   "cell_type": "markdown",
   "metadata": {},
   "source": [
    "## DE summary"
   ]
  },
  {
   "cell_type": "markdown",
   "metadata": {},
   "source": [
    "### DE (feature)"
   ]
  },
  {
   "cell_type": "code",
   "execution_count": 31,
   "metadata": {
    "execution": {
     "iopub.execute_input": "2021-07-10T00:21:48.676598Z",
     "iopub.status.busy": "2021-07-10T00:21:48.675914Z",
     "iopub.status.idle": "2021-07-10T00:21:48.678059Z",
     "shell.execute_reply": "2021-07-10T00:21:48.678579Z"
    }
   },
   "outputs": [
    {
     "name": "stdout",
     "output_type": "stream",
     "text": [
      "\n",
      "Gene:\t\t300\n",
      "Transcript:\t184\n",
      "Exon:\t\t492\n",
      "Junction:\t236\n"
     ]
    }
   ],
   "source": [
    "gg = len(set(genes['Feature']))\n",
    "tt = len(set(trans['Feature']))\n",
    "ee = len(set(exons['Feature']))\n",
    "jj = len(set(juncs['Feature']))\n",
    "\n",
    "print(\"\\nGene:\\t\\t%d\\nTranscript:\\t%d\\nExon:\\t\\t%d\\nJunction:\\t%d\" % (gg, tt, ee, jj)) "
   ]
  },
  {
   "cell_type": "markdown",
   "metadata": {},
   "source": [
    "#### DE (EnsemblID)"
   ]
  },
  {
   "cell_type": "code",
   "execution_count": 32,
   "metadata": {
    "execution": {
     "iopub.execute_input": "2021-07-10T00:21:48.685956Z",
     "iopub.status.busy": "2021-07-10T00:21:48.685322Z",
     "iopub.status.idle": "2021-07-10T00:21:48.701853Z",
     "shell.execute_reply": "2021-07-10T00:21:48.702698Z"
    }
   },
   "outputs": [
    {
     "name": "stdout",
     "output_type": "stream",
     "text": [
      "\n",
      "Gene:\t\t300\n",
      "Transcript:\t176\n",
      "Exon:\t\t189\n",
      "Junction:\t85\n"
     ]
    }
   ],
   "source": [
    "gg = len(set(genes.groupby('ensemblID').first().reset_index()['ensemblID']))\n",
    "tt = len(set(trans.groupby('ensemblID').first().reset_index()['ensemblID']))\n",
    "ee = len(set(exons.groupby('ensemblID').first().reset_index()['ensemblID']))\n",
    "jj = len(set(juncs.groupby('ensemblID').first().reset_index()['ensemblID']))\n",
    "\n",
    "print(\"\\nGene:\\t\\t%d\\nTranscript:\\t%d\\nExon:\\t\\t%d\\nJunction:\\t%d\" % (gg, tt, ee, jj)) "
   ]
  },
  {
   "cell_type": "markdown",
   "metadata": {},
   "source": [
    "#### DE (Gene Symbol)"
   ]
  },
  {
   "cell_type": "code",
   "execution_count": 33,
   "metadata": {
    "execution": {
     "iopub.execute_input": "2021-07-10T00:21:48.713414Z",
     "iopub.status.busy": "2021-07-10T00:21:48.710824Z",
     "iopub.status.idle": "2021-07-10T00:21:48.725303Z",
     "shell.execute_reply": "2021-07-10T00:21:48.725914Z"
    }
   },
   "outputs": [
    {
     "name": "stdout",
     "output_type": "stream",
     "text": [
      "\n",
      "Gene:\t\t259\n",
      "Transcript:\t176\n",
      "Exon:\t\t165\n",
      "Junction:\t85\n"
     ]
    }
   ],
   "source": [
    "gg = len(set(genes.groupby('Symbol').first().reset_index()['Symbol']))\n",
    "tt = len(set(trans.groupby('Symbol').first().reset_index()['Symbol']))\n",
    "ee = len(set(exons.groupby('Symbol').first().reset_index()['Symbol']))\n",
    "jj = len(set(juncs.groupby('Symbol').first().reset_index()['Symbol']))\n",
    "\n",
    "print(\"\\nGene:\\t\\t%d\\nTranscript:\\t%d\\nExon:\\t\\t%d\\nJunction:\\t%d\" % (gg, tt, ee, jj)) "
   ]
  },
  {
   "cell_type": "markdown",
   "metadata": {},
   "source": [
    "### Feature effect size summary"
   ]
  },
  {
   "cell_type": "code",
   "execution_count": 34,
   "metadata": {
    "execution": {
     "iopub.execute_input": "2021-07-10T00:21:48.737057Z",
     "iopub.status.busy": "2021-07-10T00:21:48.733886Z",
     "iopub.status.idle": "2021-07-10T00:21:48.741699Z",
     "shell.execute_reply": "2021-07-10T00:21:48.742237Z"
    }
   },
   "outputs": [
    {
     "name": "stdout",
     "output_type": "stream",
     "text": [
      "\n",
      "There are 32 unique Genes with abs(log2FC) >= 0.5\n",
      "There are 5 unique Genes with abs(log2FC) >= 1\n",
      "\n",
      "There are 56 unique Transcript with abs(log2FC) >= 0.5\n",
      "There are 17 unique Transcript with abs(log2FC) >= 1\n",
      "\n",
      "There are 81 unique Exons with abs(log2FC) >= 0.5\n",
      "There are 6 unique Exons with abs(log2FC) >= 1\n",
      "\n",
      "There are 92 unique Junctions with abs(log2FC) >= 0.5\n",
      "There are 40 unique Junctions with abs(log2FC) >= 1\n"
     ]
    }
   ],
   "source": [
    "feature_list = ['Genes', 'Transcript', 'Exons', 'Junctions']\n",
    "feature_df = [genes, trans, exons, juncs]\n",
    "for ii in range(4):\n",
    "    ff = feature_df[ii]\n",
    "    half = len(set(ff[(np.abs(ff['logFC']) >= 0.5)].Feature))\n",
    "    one = len(set(ff[(np.abs(ff['logFC']) >= 1)].Feature))\n",
    "    print(\"\\nThere are %d unique %s with abs(log2FC) >= 0.5\" % (half, feature_list[ii]))\n",
    "    print(\"There are %d unique %s with abs(log2FC) >= 1\" % (one, feature_list[ii]))"
   ]
  },
  {
   "cell_type": "code",
   "execution_count": 35,
   "metadata": {
    "execution": {
     "iopub.execute_input": "2021-07-10T00:21:48.754297Z",
     "iopub.status.busy": "2021-07-10T00:21:48.750938Z",
     "iopub.status.idle": "2021-07-10T00:21:48.757974Z",
     "shell.execute_reply": "2021-07-10T00:21:48.757239Z"
    }
   },
   "outputs": [
    {
     "name": "stdout",
     "output_type": "stream",
     "text": [
      "\n",
      "There are 32 unique Genes with abs(log2FC) >= 0.5\n",
      "There are 5 unique Genes with abs(log2FC) >= 1\n",
      "\n",
      "There are 53 unique Transcripts with abs(log2FC) >= 0.5\n",
      "There are 17 unique Transcripts with abs(log2FC) >= 1\n",
      "\n",
      "There are 27 unique Exons with abs(log2FC) >= 0.5\n",
      "There are 4 unique Exons with abs(log2FC) >= 1\n",
      "\n",
      "There are 13 unique Junctions with abs(log2FC) >= 0.5\n",
      "There are 1 unique Junctions with abs(log2FC) >= 1\n"
     ]
    }
   ],
   "source": [
    "feature_list = ['Genes', 'Transcripts', 'Exons', 'Junctions']\n",
    "feature_df = [genes, trans, exons, juncs]\n",
    "for ii in range(4):\n",
    "    ff = feature_df[ii]\n",
    "    half = len(set(ff[(np.abs(ff['logFC']) >= 0.5)].ensemblID))\n",
    "    one = len(set(ff[(np.abs(ff['logFC']) >= 1)].ensemblID))\n",
    "    print(\"\\nThere are %d unique %s with abs(log2FC) >= 0.5\" % (half, feature_list[ii]))\n",
    "    print(\"There are %d unique %s with abs(log2FC) >= 1\" % (one, feature_list[ii]))"
   ]
  }
 ],
 "metadata": {
  "kernelspec": {
   "display_name": "Python 3",
   "language": "python",
   "name": "python3"
  },
  "language_info": {
   "codemirror_mode": {
    "name": "ipython",
    "version": 3
   },
   "file_extension": ".py",
   "mimetype": "text/x-python",
   "name": "python",
   "nbconvert_exporter": "python",
   "pygments_lexer": "ipython3",
   "version": "3.9.1"
  }
 },
 "nbformat": 4,
 "nbformat_minor": 4
}
