{
 "cells": [
  {
   "cell_type": "markdown",
   "metadata": {},
   "source": [
    "# Feature summary of differential expression analysis"
   ]
  },
  {
   "cell_type": "code",
   "execution_count": 1,
   "metadata": {
    "execution": {
     "iopub.execute_input": "2023-02-20T23:56:25.536123Z",
     "iopub.status.busy": "2023-02-20T23:56:25.535925Z",
     "iopub.status.idle": "2023-02-20T23:56:25.704443Z",
     "shell.execute_reply": "2023-02-20T23:56:25.703933Z"
    }
   },
   "outputs": [],
   "source": [
    "import numpy as np\n",
    "import pandas as pd"
   ]
  },
  {
   "cell_type": "code",
   "execution_count": 2,
   "metadata": {
    "execution": {
     "iopub.execute_input": "2023-02-20T23:56:25.706572Z",
     "iopub.status.busy": "2023-02-20T23:56:25.706411Z",
     "iopub.status.idle": "2023-02-20T23:56:25.710011Z",
     "shell.execute_reply": "2023-02-20T23:56:25.709573Z"
    }
   },
   "outputs": [],
   "source": [
    "def annotate_DE(feature):\n",
    "    # Annotate DE results\n",
    "    df = pd.read_csv(f'../../_m/{feature.lower()}s/diffExpr_maleVfemale_full.txt', \n",
    "                     sep='\\t', index_col=0)\\\n",
    "           .rename(columns={\"gene_id\": \"gencodeID\", \"gencodeGeneID\": \"gencodeID\", \n",
    "                            \"gene_name\": \"Symbol\"})\n",
    "    df = df[(df['adj.P.Val'] < 0.05)].sort_values('adj.P.Val')\n",
    "    df['Feature'] = df.index\n",
    "    df['ensemblID'] = df.gencodeID.str.replace(\"\\\\..*\", \"\", regex=True)\n",
    "    df['Type'] = feature; df[\"Region\"] = \"Caudate\"\n",
    "    return df[['Feature', 'Symbol', 'ensemblID', \n",
    "               'logFC', 'SE', 'adj.P.Val', \"Type\"]]"
   ]
  },
  {
   "cell_type": "markdown",
   "metadata": {},
   "source": [
    "## Summary plots"
   ]
  },
  {
   "cell_type": "markdown",
   "metadata": {},
   "source": [
    "### Genes"
   ]
  },
  {
   "cell_type": "code",
   "execution_count": 3,
   "metadata": {
    "execution": {
     "iopub.execute_input": "2023-02-20T23:56:25.711655Z",
     "iopub.status.busy": "2023-02-20T23:56:25.711537Z",
     "iopub.status.idle": "2023-02-20T23:56:29.080004Z",
     "shell.execute_reply": "2023-02-20T23:56:29.079543Z"
    }
   },
   "outputs": [
    {
     "data": {
      "text/html": [
       "<div>\n",
       "<style scoped>\n",
       "    .dataframe tbody tr th:only-of-type {\n",
       "        vertical-align: middle;\n",
       "    }\n",
       "\n",
       "    .dataframe tbody tr th {\n",
       "        vertical-align: top;\n",
       "    }\n",
       "\n",
       "    .dataframe thead th {\n",
       "        text-align: right;\n",
       "    }\n",
       "</style>\n",
       "<table border=\"1\" class=\"dataframe\">\n",
       "  <thead>\n",
       "    <tr style=\"text-align: right;\">\n",
       "      <th></th>\n",
       "      <th>Feature</th>\n",
       "      <th>Symbol</th>\n",
       "      <th>ensemblID</th>\n",
       "      <th>logFC</th>\n",
       "      <th>SE</th>\n",
       "      <th>adj.P.Val</th>\n",
       "      <th>Type</th>\n",
       "    </tr>\n",
       "  </thead>\n",
       "  <tbody>\n",
       "    <tr>\n",
       "      <th>USP9Y|ENSG00000114374.13</th>\n",
       "      <td>USP9Y|ENSG00000114374.13</td>\n",
       "      <td>USP9Y</td>\n",
       "      <td>ENSG00000114374</td>\n",
       "      <td>13.682636</td>\n",
       "      <td>0.034572</td>\n",
       "      <td>0.000000e+00</td>\n",
       "      <td>Gene</td>\n",
       "    </tr>\n",
       "    <tr>\n",
       "      <th>TXLNGY|ENSG00000131002.14</th>\n",
       "      <td>TXLNGY|ENSG00000131002.14</td>\n",
       "      <td>TXLNGY</td>\n",
       "      <td>ENSG00000131002</td>\n",
       "      <td>11.725115</td>\n",
       "      <td>0.020161</td>\n",
       "      <td>7.767527e-304</td>\n",
       "      <td>Gene</td>\n",
       "    </tr>\n",
       "  </tbody>\n",
       "</table>\n",
       "</div>"
      ],
      "text/plain": [
       "                                             Feature  Symbol        ensemblID  \\\n",
       "USP9Y|ENSG00000114374.13    USP9Y|ENSG00000114374.13   USP9Y  ENSG00000114374   \n",
       "TXLNGY|ENSG00000131002.14  TXLNGY|ENSG00000131002.14  TXLNGY  ENSG00000131002   \n",
       "\n",
       "                               logFC        SE      adj.P.Val  Type  \n",
       "USP9Y|ENSG00000114374.13   13.682636  0.034572   0.000000e+00  Gene  \n",
       "TXLNGY|ENSG00000131002.14  11.725115  0.020161  7.767527e-304  Gene  "
      ]
     },
     "execution_count": 3,
     "metadata": {},
     "output_type": "execute_result"
    }
   ],
   "source": [
    "genes = annotate_DE(\"Gene\")\n",
    "genes.head(2)"
   ]
  },
  {
   "cell_type": "markdown",
   "metadata": {},
   "source": [
    "### Transcripts"
   ]
  },
  {
   "cell_type": "code",
   "execution_count": 4,
   "metadata": {
    "execution": {
     "iopub.execute_input": "2023-02-20T23:56:29.113771Z",
     "iopub.status.busy": "2023-02-20T23:56:29.113544Z",
     "iopub.status.idle": "2023-02-20T23:56:37.720770Z",
     "shell.execute_reply": "2023-02-20T23:56:37.720285Z"
    }
   },
   "outputs": [
    {
     "data": {
      "text/html": [
       "<div>\n",
       "<style scoped>\n",
       "    .dataframe tbody tr th:only-of-type {\n",
       "        vertical-align: middle;\n",
       "    }\n",
       "\n",
       "    .dataframe tbody tr th {\n",
       "        vertical-align: top;\n",
       "    }\n",
       "\n",
       "    .dataframe thead th {\n",
       "        text-align: right;\n",
       "    }\n",
       "</style>\n",
       "<table border=\"1\" class=\"dataframe\">\n",
       "  <thead>\n",
       "    <tr style=\"text-align: right;\">\n",
       "      <th></th>\n",
       "      <th>Feature</th>\n",
       "      <th>Symbol</th>\n",
       "      <th>ensemblID</th>\n",
       "      <th>logFC</th>\n",
       "      <th>SE</th>\n",
       "      <th>adj.P.Val</th>\n",
       "      <th>Type</th>\n",
       "    </tr>\n",
       "  </thead>\n",
       "  <tbody>\n",
       "    <tr>\n",
       "      <th>XIST-204|ENST00000429829.6</th>\n",
       "      <td>XIST-204|ENST00000429829.6</td>\n",
       "      <td>XIST</td>\n",
       "      <td>ENSG00000229807</td>\n",
       "      <td>-9.473817</td>\n",
       "      <td>0.057125</td>\n",
       "      <td>5.256559e-260</td>\n",
       "      <td>Transcript</td>\n",
       "    </tr>\n",
       "    <tr>\n",
       "      <th>USP9Y-204|ENST00000440408.5</th>\n",
       "      <td>USP9Y-204|ENST00000440408.5</td>\n",
       "      <td>USP9Y</td>\n",
       "      <td>ENSG00000114374</td>\n",
       "      <td>4.701063</td>\n",
       "      <td>0.143236</td>\n",
       "      <td>3.694803e-242</td>\n",
       "      <td>Transcript</td>\n",
       "    </tr>\n",
       "  </tbody>\n",
       "</table>\n",
       "</div>"
      ],
      "text/plain": [
       "                                                 Feature Symbol  \\\n",
       "XIST-204|ENST00000429829.6    XIST-204|ENST00000429829.6   XIST   \n",
       "USP9Y-204|ENST00000440408.5  USP9Y-204|ENST00000440408.5  USP9Y   \n",
       "\n",
       "                                   ensemblID     logFC        SE  \\\n",
       "XIST-204|ENST00000429829.6   ENSG00000229807 -9.473817  0.057125   \n",
       "USP9Y-204|ENST00000440408.5  ENSG00000114374  4.701063  0.143236   \n",
       "\n",
       "                                 adj.P.Val        Type  \n",
       "XIST-204|ENST00000429829.6   5.256559e-260  Transcript  \n",
       "USP9Y-204|ENST00000440408.5  3.694803e-242  Transcript  "
      ]
     },
     "execution_count": 4,
     "metadata": {},
     "output_type": "execute_result"
    }
   ],
   "source": [
    "trans = annotate_DE(\"Transcript\")\n",
    "trans.head(2)"
   ]
  },
  {
   "cell_type": "markdown",
   "metadata": {},
   "source": [
    "### Exons"
   ]
  },
  {
   "cell_type": "code",
   "execution_count": 5,
   "metadata": {
    "execution": {
     "iopub.execute_input": "2023-02-20T23:56:37.722512Z",
     "iopub.status.busy": "2023-02-20T23:56:37.722390Z",
     "iopub.status.idle": "2023-02-20T23:57:04.898650Z",
     "shell.execute_reply": "2023-02-20T23:57:04.898169Z"
    }
   },
   "outputs": [
    {
     "data": {
      "text/html": [
       "<div>\n",
       "<style scoped>\n",
       "    .dataframe tbody tr th:only-of-type {\n",
       "        vertical-align: middle;\n",
       "    }\n",
       "\n",
       "    .dataframe tbody tr th {\n",
       "        vertical-align: top;\n",
       "    }\n",
       "\n",
       "    .dataframe thead th {\n",
       "        text-align: right;\n",
       "    }\n",
       "</style>\n",
       "<table border=\"1\" class=\"dataframe\">\n",
       "  <thead>\n",
       "    <tr style=\"text-align: right;\">\n",
       "      <th></th>\n",
       "      <th>Feature</th>\n",
       "      <th>Symbol</th>\n",
       "      <th>ensemblID</th>\n",
       "      <th>logFC</th>\n",
       "      <th>SE</th>\n",
       "      <th>adj.P.Val</th>\n",
       "      <th>Type</th>\n",
       "    </tr>\n",
       "  </thead>\n",
       "  <tbody>\n",
       "    <tr>\n",
       "      <th>chrY:19588370-19590419+</th>\n",
       "      <td>chrY:19588370-19590419+</td>\n",
       "      <td>TXLNGY</td>\n",
       "      <td>ENSG00000131002</td>\n",
       "      <td>10.531845</td>\n",
       "      <td>0.096627</td>\n",
       "      <td>1.016898e-289</td>\n",
       "      <td>Exon</td>\n",
       "    </tr>\n",
       "    <tr>\n",
       "      <th>chrY:12912640-12913062+</th>\n",
       "      <td>chrY:12912640-12913062+</td>\n",
       "      <td>DDX3Y</td>\n",
       "      <td>ENSG00000067048</td>\n",
       "      <td>10.274268</td>\n",
       "      <td>0.122691</td>\n",
       "      <td>8.044671e-289</td>\n",
       "      <td>Exon</td>\n",
       "    </tr>\n",
       "  </tbody>\n",
       "</table>\n",
       "</div>"
      ],
      "text/plain": [
       "                                         Feature  Symbol        ensemblID  \\\n",
       "chrY:19588370-19590419+  chrY:19588370-19590419+  TXLNGY  ENSG00000131002   \n",
       "chrY:12912640-12913062+  chrY:12912640-12913062+   DDX3Y  ENSG00000067048   \n",
       "\n",
       "                             logFC        SE      adj.P.Val  Type  \n",
       "chrY:19588370-19590419+  10.531845  0.096627  1.016898e-289  Exon  \n",
       "chrY:12912640-12913062+  10.274268  0.122691  8.044671e-289  Exon  "
      ]
     },
     "execution_count": 5,
     "metadata": {},
     "output_type": "execute_result"
    }
   ],
   "source": [
    "exons = annotate_DE(\"Exon\")\n",
    "exons.head(2)"
   ]
  },
  {
   "cell_type": "markdown",
   "metadata": {},
   "source": [
    "### Junctions"
   ]
  },
  {
   "cell_type": "code",
   "execution_count": 6,
   "metadata": {
    "execution": {
     "iopub.execute_input": "2023-02-20T23:57:04.901410Z",
     "iopub.status.busy": "2023-02-20T23:57:04.901291Z",
     "iopub.status.idle": "2023-02-20T23:57:28.330948Z",
     "shell.execute_reply": "2023-02-20T23:57:28.330540Z"
    }
   },
   "outputs": [
    {
     "data": {
      "text/html": [
       "<div>\n",
       "<style scoped>\n",
       "    .dataframe tbody tr th:only-of-type {\n",
       "        vertical-align: middle;\n",
       "    }\n",
       "\n",
       "    .dataframe tbody tr th {\n",
       "        vertical-align: top;\n",
       "    }\n",
       "\n",
       "    .dataframe thead th {\n",
       "        text-align: right;\n",
       "    }\n",
       "</style>\n",
       "<table border=\"1\" class=\"dataframe\">\n",
       "  <thead>\n",
       "    <tr style=\"text-align: right;\">\n",
       "      <th></th>\n",
       "      <th>Feature</th>\n",
       "      <th>Symbol</th>\n",
       "      <th>ensemblID</th>\n",
       "      <th>logFC</th>\n",
       "      <th>SE</th>\n",
       "      <th>adj.P.Val</th>\n",
       "      <th>Type</th>\n",
       "    </tr>\n",
       "  </thead>\n",
       "  <tbody>\n",
       "    <tr>\n",
       "      <th>chrY:12912883-12912962:+</th>\n",
       "      <td>chrY:12912883-12912962:+</td>\n",
       "      <td>DDX11L1</td>\n",
       "      <td>ENSG00000223972</td>\n",
       "      <td>8.505714</td>\n",
       "      <td>0.119848</td>\n",
       "      <td>5.331736e-201</td>\n",
       "      <td>Junction</td>\n",
       "    </tr>\n",
       "    <tr>\n",
       "      <th>chrY:2854772-2865087:+</th>\n",
       "      <td>chrY:2854772-2865087:+</td>\n",
       "      <td>DDX11L1</td>\n",
       "      <td>ENSG00000223972</td>\n",
       "      <td>9.702493</td>\n",
       "      <td>0.095575</td>\n",
       "      <td>5.643537e-194</td>\n",
       "      <td>Junction</td>\n",
       "    </tr>\n",
       "  </tbody>\n",
       "</table>\n",
       "</div>"
      ],
      "text/plain": [
       "                                           Feature   Symbol        ensemblID  \\\n",
       "chrY:12912883-12912962:+  chrY:12912883-12912962:+  DDX11L1  ENSG00000223972   \n",
       "chrY:2854772-2865087:+      chrY:2854772-2865087:+  DDX11L1  ENSG00000223972   \n",
       "\n",
       "                             logFC        SE      adj.P.Val      Type  \n",
       "chrY:12912883-12912962:+  8.505714  0.119848  5.331736e-201  Junction  \n",
       "chrY:2854772-2865087:+    9.702493  0.095575  5.643537e-194  Junction  "
      ]
     },
     "execution_count": 6,
     "metadata": {},
     "output_type": "execute_result"
    }
   ],
   "source": [
    "juncs = annotate_DE(\"Junction\")\n",
    "juncs.head(2)"
   ]
  },
  {
   "cell_type": "markdown",
   "metadata": {},
   "source": [
    "## DE summary"
   ]
  },
  {
   "cell_type": "markdown",
   "metadata": {},
   "source": [
    "### DE (feature)"
   ]
  },
  {
   "cell_type": "code",
   "execution_count": 7,
   "metadata": {
    "execution": {
     "iopub.execute_input": "2023-02-20T23:57:28.333729Z",
     "iopub.status.busy": "2023-02-20T23:57:28.333618Z",
     "iopub.status.idle": "2023-02-20T23:57:28.337455Z",
     "shell.execute_reply": "2023-02-20T23:57:28.337056Z"
    }
   },
   "outputs": [
    {
     "name": "stdout",
     "output_type": "stream",
     "text": [
      "\n",
      "Gene:\t\t689\n",
      "Transcript:\t587\n",
      "Exon:\t\t2814\n",
      "Junction:\t1024\n"
     ]
    }
   ],
   "source": [
    "gg = len(set(genes['Feature']))\n",
    "tt = len(set(trans['Feature']))\n",
    "ee = len(set(exons['Feature']))\n",
    "jj = len(set(juncs['Feature']))\n",
    "\n",
    "print(f\"\\nGene:\\t\\t{gg}\\nTranscript:\\t{tt}\\nExon:\\t\\t{ee}\\nJunction:\\t{jj}\")"
   ]
  },
  {
   "cell_type": "markdown",
   "metadata": {},
   "source": [
    "#### DE (EnsemblID)"
   ]
  },
  {
   "cell_type": "code",
   "execution_count": 8,
   "metadata": {
    "execution": {
     "iopub.execute_input": "2023-02-20T23:57:28.340009Z",
     "iopub.status.busy": "2023-02-20T23:57:28.339900Z",
     "iopub.status.idle": "2023-02-20T23:57:28.343371Z",
     "shell.execute_reply": "2023-02-20T23:57:28.342971Z"
    }
   },
   "outputs": [
    {
     "name": "stdout",
     "output_type": "stream",
     "text": [
      "\n",
      "Gene:\t\t689\n",
      "Transcript:\t326\n",
      "Exon:\t\t526\n",
      "Junction:\t12\n"
     ]
    }
   ],
   "source": [
    "gg = len(set(genes['ensemblID']))\n",
    "tt = len(set(trans['ensemblID']))\n",
    "ee = len(set(exons['ensemblID']))\n",
    "jj = len(set(juncs['ensemblID']))\n",
    "\n",
    "print(f\"\\nGene:\\t\\t{gg}\\nTranscript:\\t{tt}\\nExon:\\t\\t{ee}\\nJunction:\\t{jj}\")"
   ]
  },
  {
   "cell_type": "markdown",
   "metadata": {},
   "source": [
    "#### DE (Gene Symbol)"
   ]
  },
  {
   "cell_type": "code",
   "execution_count": 9,
   "metadata": {
    "execution": {
     "iopub.execute_input": "2023-02-20T23:57:28.346169Z",
     "iopub.status.busy": "2023-02-20T23:57:28.345989Z",
     "iopub.status.idle": "2023-02-20T23:57:28.349411Z",
     "shell.execute_reply": "2023-02-20T23:57:28.349015Z"
    }
   },
   "outputs": [
    {
     "name": "stdout",
     "output_type": "stream",
     "text": [
      "\n",
      "Gene:\t\t689\n",
      "Transcript:\t326\n",
      "Exon:\t\t530\n",
      "Junction:\t14\n"
     ]
    }
   ],
   "source": [
    "gg = len(set(genes['Symbol']))\n",
    "tt = len(set(trans['Symbol']))\n",
    "ee = len(set(exons['Symbol']))\n",
    "jj = len(set(juncs['Symbol']))\n",
    "\n",
    "print(f\"\\nGene:\\t\\t{gg}\\nTranscript:\\t{tt}\\nExon:\\t\\t{ee}\\nJunction:\\t{jj}\")"
   ]
  },
  {
   "cell_type": "markdown",
   "metadata": {},
   "source": [
    "### Feature effect size summary"
   ]
  },
  {
   "cell_type": "code",
   "execution_count": 10,
   "metadata": {
    "execution": {
     "iopub.execute_input": "2023-02-20T23:57:28.351883Z",
     "iopub.status.busy": "2023-02-20T23:57:28.351759Z",
     "iopub.status.idle": "2023-02-20T23:57:28.357568Z",
     "shell.execute_reply": "2023-02-20T23:57:28.357176Z"
    }
   },
   "outputs": [
    {
     "name": "stdout",
     "output_type": "stream",
     "text": [
      "\n",
      "There are 127 unique Genes with abs(log2FC) >= 0.5\n",
      "There are 60 unique Genes with abs(log2FC) >= 1\n",
      "\n",
      "There are 335 unique Transcript with abs(log2FC) >= 0.5\n",
      "There are 214 unique Transcript with abs(log2FC) >= 1\n",
      "\n",
      "There are 1169 unique Exons with abs(log2FC) >= 0.5\n",
      "There are 673 unique Exons with abs(log2FC) >= 1\n",
      "\n",
      "There are 454 unique Junctions with abs(log2FC) >= 0.5\n",
      "There are 288 unique Junctions with abs(log2FC) >= 1\n"
     ]
    }
   ],
   "source": [
    "feature_list = ['Genes', 'Transcript', 'Exons', 'Junctions']\n",
    "feature_df = [genes, trans, exons, juncs]\n",
    "for ii in range(4):\n",
    "    ff = feature_df[ii]\n",
    "    half = len(set(ff[(np.abs(ff['logFC']) >= 0.5)].Feature))\n",
    "    one = len(set(ff[(np.abs(ff['logFC']) >= 1)].Feature))\n",
    "    print(f\"\\nThere are {half} unique {feature_list[ii]} with abs(log2FC) >= 0.5\")\n",
    "    print(f\"There are {one} unique {feature_list[ii]} with abs(log2FC) >= 1\")"
   ]
  },
  {
   "cell_type": "code",
   "execution_count": 11,
   "metadata": {
    "execution": {
     "iopub.execute_input": "2023-02-20T23:57:28.359754Z",
     "iopub.status.busy": "2023-02-20T23:57:28.359648Z",
     "iopub.status.idle": "2023-02-20T23:57:28.364972Z",
     "shell.execute_reply": "2023-02-20T23:57:28.364590Z"
    }
   },
   "outputs": [
    {
     "name": "stdout",
     "output_type": "stream",
     "text": [
      "\n",
      "There are 127 unique Genes with abs(log2FC) >= 0.5\n",
      "There are 60 unique Genes with abs(log2FC) >= 1\n",
      "\n",
      "There are 140 unique Transcripts with abs(log2FC) >= 0.5\n",
      "There are 81 unique Transcripts with abs(log2FC) >= 1\n",
      "\n",
      "There are 132 unique Exons with abs(log2FC) >= 0.5\n",
      "There are 63 unique Exons with abs(log2FC) >= 1\n",
      "\n",
      "There are 7 unique Junctions with abs(log2FC) >= 0.5\n",
      "There are 7 unique Junctions with abs(log2FC) >= 1\n"
     ]
    }
   ],
   "source": [
    "feature_list = ['Genes', 'Transcripts', 'Exons', 'Junctions']\n",
    "feature_df = [genes, trans, exons, juncs]\n",
    "for ii in range(4):\n",
    "    ff = feature_df[ii]\n",
    "    half = len(set(ff[(np.abs(ff['logFC']) >= 0.5)].ensemblID))\n",
    "    one = len(set(ff[(np.abs(ff['logFC']) >= 1)].ensemblID))\n",
    "    print(f\"\\nThere are {half} unique {feature_list[ii]} with abs(log2FC) >= 0.5\")\n",
    "    print(f\"There are {one} unique {feature_list[ii]} with abs(log2FC) >= 1\")"
   ]
  },
  {
   "cell_type": "markdown",
   "metadata": {},
   "source": [
    "## Autosomal only"
   ]
  },
  {
   "cell_type": "code",
   "execution_count": 12,
   "metadata": {
    "execution": {
     "iopub.execute_input": "2023-02-20T23:57:28.367413Z",
     "iopub.status.busy": "2023-02-20T23:57:28.367307Z",
     "iopub.status.idle": "2023-02-20T23:57:28.549900Z",
     "shell.execute_reply": "2023-02-20T23:57:28.549312Z"
    }
   },
   "outputs": [],
   "source": [
    "from pyhere import here\n",
    "from functools import lru_cache"
   ]
  },
  {
   "cell_type": "code",
   "execution_count": 13,
   "metadata": {
    "execution": {
     "iopub.execute_input": "2023-02-20T23:57:28.553032Z",
     "iopub.status.busy": "2023-02-20T23:57:28.552823Z",
     "iopub.status.idle": "2023-02-20T23:57:28.556682Z",
     "shell.execute_reply": "2023-02-20T23:57:28.556166Z"
    }
   },
   "outputs": [],
   "source": [
    "@lru_cache()\n",
    "def get_annotation(feature):\n",
    "    feat_lt = {\"gene\": \"gene\", \"transcript\": \"tx\", \n",
    "               \"exon\": \"exon\", \"junction\": \"jxn\"}\n",
    "    new_feature = feat_lt[feature]\n",
    "    fn = here(f\"input/counts/text_files_counts/_m/caudate/{new_feature}_annotation.txt\")\n",
    "    return pd.read_csv(fn, sep='\\t')"
   ]
  },
  {
   "cell_type": "code",
   "execution_count": 14,
   "metadata": {
    "execution": {
     "iopub.execute_input": "2023-02-20T23:57:28.558823Z",
     "iopub.status.busy": "2023-02-20T23:57:28.558450Z",
     "iopub.status.idle": "2023-02-20T23:57:28.565354Z",
     "shell.execute_reply": "2023-02-20T23:57:28.564839Z"
    }
   },
   "outputs": [],
   "source": [
    "def annotate_autosomes(feature):\n",
    "    # Get annotation\n",
    "    annot = get_annotation(feature.lower())\n",
    "    # Annotate DE results\n",
    "    df = pd.read_csv(f'../../_m/{feature.lower()}s/diffExpr_maleVfemale_full.txt', \n",
    "                     sep='\\t', index_col=0)\\\n",
    "           .rename(columns={\"gene_id\": \"gencodeID\", \"gencodeGeneID\": \"gencodeID\", \n",
    "                            \"gene_name\": \"Symbol\"})\n",
    "    df = df[(df['adj.P.Val'] < 0.05)].sort_values('adj.P.Val')\n",
    "    df['name'] = df.index\n",
    "    df['ensemblID'] = df.gencodeID.str.replace(\"\\\\..*\", \"\", regex=True)\n",
    "    df = annot.merge(df, on='name').rename(columns={\"name\": \"Feature\"})\n",
    "    df = df[[\"Feature\", \"seqnames\", \"start\", \"end\", \"width\", \"gencodeID\", \"ensemblID\", \n",
    "             \"Symbol\", \"logFC\", \"AveExpr\", \"t\", \"P.Value\", \"adj.P.Val\", \"B\", \"SE\"]]\n",
    "    df['Type'] = feature; df[\"Region\"] = \"Caudate\"\n",
    "    # Save annotated file\n",
    "    df.sort_values('adj.P.Val').to_csv(f'chrom_annotation_{feature.lower()}.txt', \n",
    "                                       sep='\\t', index=False)\n",
    "    df = df[(df.seqnames.str.contains('chr\\d+'))].copy()\n",
    "    # Save autosomal DE features\n",
    "    df.to_csv(f'{feature.lower()}_autosomal_DE.csv', index=False, header=True)\n",
    "    return df[['Feature', 'seqnames', 'Symbol', 'ensemblID', 'logFC', 'SE', 'adj.P.Val', \"Type\"]]"
   ]
  },
  {
   "cell_type": "markdown",
   "metadata": {},
   "source": [
    "### Genes"
   ]
  },
  {
   "cell_type": "code",
   "execution_count": 15,
   "metadata": {
    "execution": {
     "iopub.execute_input": "2023-02-20T23:57:28.567391Z",
     "iopub.status.busy": "2023-02-20T23:57:28.567189Z",
     "iopub.status.idle": "2023-02-20T23:57:39.805726Z",
     "shell.execute_reply": "2023-02-20T23:57:39.805044Z"
    }
   },
   "outputs": [
    {
     "data": {
      "text/html": [
       "<div>\n",
       "<style scoped>\n",
       "    .dataframe tbody tr th:only-of-type {\n",
       "        vertical-align: middle;\n",
       "    }\n",
       "\n",
       "    .dataframe tbody tr th {\n",
       "        vertical-align: top;\n",
       "    }\n",
       "\n",
       "    .dataframe thead th {\n",
       "        text-align: right;\n",
       "    }\n",
       "</style>\n",
       "<table border=\"1\" class=\"dataframe\">\n",
       "  <thead>\n",
       "    <tr style=\"text-align: right;\">\n",
       "      <th></th>\n",
       "      <th>Feature</th>\n",
       "      <th>seqnames</th>\n",
       "      <th>Symbol</th>\n",
       "      <th>ensemblID</th>\n",
       "      <th>logFC</th>\n",
       "      <th>SE</th>\n",
       "      <th>adj.P.Val</th>\n",
       "      <th>Type</th>\n",
       "    </tr>\n",
       "  </thead>\n",
       "  <tbody>\n",
       "    <tr>\n",
       "      <th>1</th>\n",
       "      <td>CYP26B1|ENSG00000003137.9</td>\n",
       "      <td>chr2</td>\n",
       "      <td>CYP26B1</td>\n",
       "      <td>ENSG00000003137</td>\n",
       "      <td>-0.255704</td>\n",
       "      <td>0.017475</td>\n",
       "      <td>0.00004</td>\n",
       "      <td>Gene</td>\n",
       "    </tr>\n",
       "    <tr>\n",
       "      <th>2</th>\n",
       "      <td>SKAP2|ENSG00000005020.13</td>\n",
       "      <td>chr7</td>\n",
       "      <td>SKAP2</td>\n",
       "      <td>ENSG00000005020</td>\n",
       "      <td>0.155882</td>\n",
       "      <td>0.054142</td>\n",
       "      <td>0.00343</td>\n",
       "      <td>Gene</td>\n",
       "    </tr>\n",
       "  </tbody>\n",
       "</table>\n",
       "</div>"
      ],
      "text/plain": [
       "                     Feature seqnames   Symbol        ensemblID     logFC  \\\n",
       "1  CYP26B1|ENSG00000003137.9     chr2  CYP26B1  ENSG00000003137 -0.255704   \n",
       "2   SKAP2|ENSG00000005020.13     chr7    SKAP2  ENSG00000005020  0.155882   \n",
       "\n",
       "         SE  adj.P.Val  Type  \n",
       "1  0.017475    0.00004  Gene  \n",
       "2  0.054142    0.00343  Gene  "
      ]
     },
     "execution_count": 15,
     "metadata": {},
     "output_type": "execute_result"
    }
   ],
   "source": [
    "feature = \"Gene\"\n",
    "genes = annotate_autosomes(feature)\n",
    "genes.head(2)"
   ]
  },
  {
   "cell_type": "code",
   "execution_count": 16,
   "metadata": {
    "execution": {
     "iopub.execute_input": "2023-02-20T23:57:39.808739Z",
     "iopub.status.busy": "2023-02-20T23:57:39.808512Z",
     "iopub.status.idle": "2023-02-20T23:57:39.812636Z",
     "shell.execute_reply": "2023-02-20T23:57:39.812131Z"
    }
   },
   "outputs": [
    {
     "data": {
      "text/plain": [
       "(576, 8)"
      ]
     },
     "execution_count": 16,
     "metadata": {},
     "output_type": "execute_result"
    }
   ],
   "source": [
    "genes.shape"
   ]
  },
  {
   "cell_type": "code",
   "execution_count": 17,
   "metadata": {
    "execution": {
     "iopub.execute_input": "2023-02-20T23:57:39.815366Z",
     "iopub.status.busy": "2023-02-20T23:57:39.815149Z",
     "iopub.status.idle": "2023-02-20T23:57:39.822882Z",
     "shell.execute_reply": "2023-02-20T23:57:39.822285Z"
    }
   },
   "outputs": [
    {
     "data": {
      "text/plain": [
       "(576, 8)"
      ]
     },
     "execution_count": 17,
     "metadata": {},
     "output_type": "execute_result"
    }
   ],
   "source": [
    "genes.groupby('ensemblID').first().reset_index().shape"
   ]
  },
  {
   "cell_type": "markdown",
   "metadata": {},
   "source": [
    "### Transcripts"
   ]
  },
  {
   "cell_type": "code",
   "execution_count": 18,
   "metadata": {
    "execution": {
     "iopub.execute_input": "2023-02-20T23:57:39.825562Z",
     "iopub.status.busy": "2023-02-20T23:57:39.825344Z",
     "iopub.status.idle": "2023-02-20T23:58:20.684529Z",
     "shell.execute_reply": "2023-02-20T23:58:20.683856Z"
    }
   },
   "outputs": [
    {
     "data": {
      "text/plain": [
       "(252, 8)"
      ]
     },
     "execution_count": 18,
     "metadata": {},
     "output_type": "execute_result"
    }
   ],
   "source": [
    "trans = annotate_autosomes(\"Transcript\")\n",
    "trans.head(2)\n",
    "trans.shape"
   ]
  },
  {
   "cell_type": "code",
   "execution_count": 19,
   "metadata": {
    "execution": {
     "iopub.execute_input": "2023-02-20T23:58:20.687680Z",
     "iopub.status.busy": "2023-02-20T23:58:20.687436Z",
     "iopub.status.idle": "2023-02-20T23:58:20.695259Z",
     "shell.execute_reply": "2023-02-20T23:58:20.694605Z"
    }
   },
   "outputs": [
    {
     "data": {
      "text/plain": [
       "(232, 8)"
      ]
     },
     "execution_count": 19,
     "metadata": {},
     "output_type": "execute_result"
    }
   ],
   "source": [
    "trans.groupby('ensemblID').first().reset_index().shape"
   ]
  },
  {
   "cell_type": "markdown",
   "metadata": {
    "tags": []
   },
   "source": [
    "### Exons"
   ]
  },
  {
   "cell_type": "code",
   "execution_count": 20,
   "metadata": {
    "execution": {
     "iopub.execute_input": "2023-02-20T23:58:20.698417Z",
     "iopub.status.busy": "2023-02-20T23:58:20.698211Z",
     "iopub.status.idle": "2023-02-21T00:00:14.102466Z",
     "shell.execute_reply": "2023-02-21T00:00:14.101944Z"
    }
   },
   "outputs": [
    {
     "data": {
      "text/plain": [
       "(1291, 8)"
      ]
     },
     "execution_count": 20,
     "metadata": {},
     "output_type": "execute_result"
    }
   ],
   "source": [
    "exons = annotate_autosomes(\"Exon\")\n",
    "exons.head(2)\n",
    "exons.shape"
   ]
  },
  {
   "cell_type": "code",
   "execution_count": 21,
   "metadata": {
    "execution": {
     "iopub.execute_input": "2023-02-21T00:00:14.105273Z",
     "iopub.status.busy": "2023-02-21T00:00:14.105063Z",
     "iopub.status.idle": "2023-02-21T00:00:14.112259Z",
     "shell.execute_reply": "2023-02-21T00:00:14.111772Z"
    }
   },
   "outputs": [
    {
     "data": {
      "text/plain": [
       "(417, 8)"
      ]
     },
     "execution_count": 21,
     "metadata": {},
     "output_type": "execute_result"
    }
   ],
   "source": [
    "exons.groupby('ensemblID').first().reset_index().shape"
   ]
  },
  {
   "cell_type": "markdown",
   "metadata": {},
   "source": [
    "### Junctions"
   ]
  },
  {
   "cell_type": "code",
   "execution_count": 22,
   "metadata": {
    "execution": {
     "iopub.execute_input": "2023-02-21T00:00:14.115209Z",
     "iopub.status.busy": "2023-02-21T00:00:14.114831Z",
     "iopub.status.idle": "2023-02-21T00:03:31.755347Z",
     "shell.execute_reply": "2023-02-21T00:03:31.754701Z"
    }
   },
   "outputs": [
    {
     "data": {
      "text/plain": [
       "(399, 8)"
      ]
     },
     "execution_count": 22,
     "metadata": {},
     "output_type": "execute_result"
    }
   ],
   "source": [
    "juncs = annotate_autosomes(\"Junction\")\n",
    "juncs.head(2)\n",
    "juncs.shape"
   ]
  },
  {
   "cell_type": "code",
   "execution_count": 23,
   "metadata": {
    "execution": {
     "iopub.execute_input": "2023-02-21T00:03:31.758343Z",
     "iopub.status.busy": "2023-02-21T00:03:31.758128Z",
     "iopub.status.idle": "2023-02-21T00:03:31.764976Z",
     "shell.execute_reply": "2023-02-21T00:03:31.764422Z"
    }
   },
   "outputs": [
    {
     "data": {
      "text/plain": [
       "(4, 8)"
      ]
     },
     "execution_count": 23,
     "metadata": {},
     "output_type": "execute_result"
    }
   ],
   "source": [
    "juncs.groupby('ensemblID').first().reset_index().shape"
   ]
  },
  {
   "cell_type": "markdown",
   "metadata": {},
   "source": [
    "## DE summary"
   ]
  },
  {
   "cell_type": "markdown",
   "metadata": {},
   "source": [
    "### DE (feature)"
   ]
  },
  {
   "cell_type": "code",
   "execution_count": 24,
   "metadata": {
    "execution": {
     "iopub.execute_input": "2023-02-21T00:03:31.768031Z",
     "iopub.status.busy": "2023-02-21T00:03:31.767821Z",
     "iopub.status.idle": "2023-02-21T00:03:31.772945Z",
     "shell.execute_reply": "2023-02-21T00:03:31.772274Z"
    }
   },
   "outputs": [
    {
     "name": "stdout",
     "output_type": "stream",
     "text": [
      "\n",
      "Gene:\t\t576\n",
      "Transcript:\t252\n",
      "Exon:\t\t1291\n",
      "Junction:\t399\n"
     ]
    }
   ],
   "source": [
    "gg = len(set(genes['Feature']))\n",
    "tt = len(set(trans['Feature']))\n",
    "ee = len(set(exons['Feature']))\n",
    "jj = len(set(juncs['Feature']))\n",
    "\n",
    "print(f\"\\nGene:\\t\\t{gg}\\nTranscript:\\t{tt}\\nExon:\\t\\t{ee}\\nJunction:\\t{jj}\")"
   ]
  },
  {
   "cell_type": "markdown",
   "metadata": {},
   "source": [
    "#### DE (EnsemblID)"
   ]
  },
  {
   "cell_type": "code",
   "execution_count": 25,
   "metadata": {
    "execution": {
     "iopub.execute_input": "2023-02-21T00:03:31.775749Z",
     "iopub.status.busy": "2023-02-21T00:03:31.775541Z",
     "iopub.status.idle": "2023-02-21T00:03:31.791864Z",
     "shell.execute_reply": "2023-02-21T00:03:31.791269Z"
    }
   },
   "outputs": [
    {
     "name": "stdout",
     "output_type": "stream",
     "text": [
      "\n",
      "Gene:\t\t576\n",
      "Transcript:\t232\n",
      "Exon:\t\t417\n",
      "Junction:\t4\n"
     ]
    }
   ],
   "source": [
    "gg = len(set(genes.groupby('ensemblID').first().reset_index()['ensemblID']))\n",
    "tt = len(set(trans.groupby('ensemblID').first().reset_index()['ensemblID']))\n",
    "ee = len(set(exons.groupby('ensemblID').first().reset_index()['ensemblID']))\n",
    "jj = len(set(juncs.groupby('ensemblID').first().reset_index()['ensemblID']))\n",
    "\n",
    "print(f\"\\nGene:\\t\\t{gg}\\nTranscript:\\t{tt}\\nExon:\\t\\t{ee}\\nJunction:\\t{jj}\")"
   ]
  },
  {
   "cell_type": "markdown",
   "metadata": {},
   "source": [
    "#### DE (Gene Symbol)"
   ]
  },
  {
   "cell_type": "code",
   "execution_count": 26,
   "metadata": {
    "execution": {
     "iopub.execute_input": "2023-02-21T00:03:31.795023Z",
     "iopub.status.busy": "2023-02-21T00:03:31.794673Z",
     "iopub.status.idle": "2023-02-21T00:03:31.810202Z",
     "shell.execute_reply": "2023-02-21T00:03:31.809433Z"
    }
   },
   "outputs": [
    {
     "name": "stdout",
     "output_type": "stream",
     "text": [
      "\n",
      "Gene:\t\t576\n",
      "Transcript:\t232\n",
      "Exon:\t\t419\n",
      "Junction:\t4\n"
     ]
    }
   ],
   "source": [
    "gg = len(set(genes.groupby('Symbol').first().reset_index()['Symbol']))\n",
    "tt = len(set(trans.groupby('Symbol').first().reset_index()['Symbol']))\n",
    "ee = len(set(exons.groupby('Symbol').first().reset_index()['Symbol']))\n",
    "jj = len(set(juncs.groupby('Symbol').first().reset_index()['Symbol']))\n",
    "\n",
    "print(f\"\\nGene:\\t\\t{gg}\\nTranscript:\\t{tt}\\nExon:\\t\\t{ee}\\nJunction:\\t{jj}\")"
   ]
  },
  {
   "cell_type": "markdown",
   "metadata": {},
   "source": [
    "### Feature effect size summary"
   ]
  },
  {
   "cell_type": "code",
   "execution_count": 27,
   "metadata": {
    "execution": {
     "iopub.execute_input": "2023-02-21T00:03:31.813116Z",
     "iopub.status.busy": "2023-02-21T00:03:31.812907Z",
     "iopub.status.idle": "2023-02-21T00:03:31.821598Z",
     "shell.execute_reply": "2023-02-21T00:03:31.820984Z"
    }
   },
   "outputs": [
    {
     "name": "stdout",
     "output_type": "stream",
     "text": [
      "\n",
      "There are 70 unique Genes with abs(log2FC) >= 0.5\n",
      "There are 16 unique Genes with abs(log2FC) >= 1\n",
      "\n",
      "There are 91 unique Transcript with abs(log2FC) >= 0.5\n",
      "There are 36 unique Transcript with abs(log2FC) >= 1\n",
      "\n",
      "There are 209 unique Exons with abs(log2FC) >= 0.5\n",
      "There are 34 unique Exons with abs(log2FC) >= 1\n",
      "\n",
      "There are 104 unique Junctions with abs(log2FC) >= 0.5\n",
      "There are 43 unique Junctions with abs(log2FC) >= 1\n"
     ]
    }
   ],
   "source": [
    "feature_list = ['Genes', 'Transcript', 'Exons', 'Junctions']\n",
    "feature_df = [genes, trans, exons, juncs]\n",
    "for ii in range(4):\n",
    "    ff = feature_df[ii]\n",
    "    half = len(set(ff[(np.abs(ff['logFC']) >= 0.5)].Feature))\n",
    "    one = len(set(ff[(np.abs(ff['logFC']) >= 1)].Feature))\n",
    "    print(f\"\\nThere are {half} unique {feature_list[ii]} with abs(log2FC) >= 0.5\")\n",
    "    print(f\"There are {one} unique {feature_list[ii]} with abs(log2FC) >= 1\")"
   ]
  },
  {
   "cell_type": "code",
   "execution_count": 28,
   "metadata": {
    "execution": {
     "iopub.execute_input": "2023-02-21T00:03:31.824808Z",
     "iopub.status.busy": "2023-02-21T00:03:31.824430Z",
     "iopub.status.idle": "2023-02-21T00:03:31.832548Z",
     "shell.execute_reply": "2023-02-21T00:03:31.832016Z"
    }
   },
   "outputs": [
    {
     "name": "stdout",
     "output_type": "stream",
     "text": [
      "\n",
      "There are 70 unique Genes with abs(log2FC) >= 0.5\n",
      "There are 16 unique Genes with abs(log2FC) >= 1\n",
      "\n",
      "There are 82 unique Transcripts with abs(log2FC) >= 0.5\n",
      "There are 34 unique Transcripts with abs(log2FC) >= 1\n",
      "\n",
      "There are 61 unique Exons with abs(log2FC) >= 0.5\n",
      "There are 14 unique Exons with abs(log2FC) >= 1\n",
      "\n",
      "There are 3 unique Junctions with abs(log2FC) >= 0.5\n",
      "There are 3 unique Junctions with abs(log2FC) >= 1\n"
     ]
    }
   ],
   "source": [
    "feature_list = ['Genes', 'Transcripts', 'Exons', 'Junctions']\n",
    "feature_df = [genes, trans, exons, juncs]\n",
    "for ii in range(4):\n",
    "    ff = feature_df[ii]\n",
    "    half = len(set(ff[(np.abs(ff['logFC']) >= 0.5)].ensemblID))\n",
    "    one = len(set(ff[(np.abs(ff['logFC']) >= 1)].ensemblID))\n",
    "    print(f\"\\nThere are {half} unique {feature_list[ii]} with abs(log2FC) >= 0.5\")\n",
    "    print(f\"There are {one} unique {feature_list[ii]} with abs(log2FC) >= 1\")"
   ]
  },
  {
   "cell_type": "markdown",
   "metadata": {},
   "source": [
    "## Session information"
   ]
  },
  {
   "cell_type": "code",
   "execution_count": 29,
   "metadata": {
    "execution": {
     "iopub.execute_input": "2023-02-21T00:03:31.835898Z",
     "iopub.status.busy": "2023-02-21T00:03:31.835466Z",
     "iopub.status.idle": "2023-02-21T00:03:32.747637Z",
     "shell.execute_reply": "2023-02-21T00:03:32.746829Z"
    }
   },
   "outputs": [
    {
     "data": {
      "text/html": [
       "<details>\n",
       "<summary>Click to view session information</summary>\n",
       "<pre>\n",
       "-----\n",
       "numpy               1.24.2\n",
       "pandas              1.4.4\n",
       "pyhere              1.0.0\n",
       "session_info        1.0.0\n",
       "-----\n",
       "</pre>\n",
       "<details>\n",
       "<summary>Click to view modules imported as dependencies</summary>\n",
       "<pre>\n",
       "asttokens           NA\n",
       "backcall            0.2.0\n",
       "colorama            0.4.6\n",
       "cython_runtime      NA\n",
       "dateutil            2.8.2\n",
       "debugpy             1.6.3\n",
       "decorator           5.1.1\n",
       "entrypoints         0.4\n",
       "executing           1.0.0\n",
       "ipykernel           6.15.2\n",
       "ipython_genutils    0.2.0\n",
       "jaraco              NA\n",
       "jedi                0.18.1\n",
       "jupyter_server      1.18.1\n",
       "more_itertools      9.0.0\n",
       "mpl_toolkits        NA\n",
       "packaging           21.3\n",
       "parso               0.8.3\n",
       "pexpect             4.8.0\n",
       "pickleshare         0.7.5\n",
       "pkg_resources       NA\n",
       "platformdirs        2.6.2\n",
       "prompt_toolkit      3.0.31\n",
       "psutil              5.9.2\n",
       "ptyprocess          0.7.0\n",
       "pure_eval           0.2.2\n",
       "pydev_ipython       NA\n",
       "pydevconsole        NA\n",
       "pydevd              2.8.0\n",
       "pydevd_file_utils   NA\n",
       "pydevd_plugins      NA\n",
       "pydevd_tracing      NA\n",
       "pygments            2.13.0\n",
       "pyparsing           3.0.9\n",
       "pytz                2022.2.1\n",
       "ruamel              NA\n",
       "six                 1.16.0\n",
       "stack_data          0.5.0\n",
       "tornado             6.2\n",
       "traitlets           5.3.0\n",
       "wcwidth             0.2.5\n",
       "zmq                 23.2.1\n",
       "</pre>\n",
       "</details> <!-- seems like this ends pre, so might as well be explicit -->\n",
       "<pre>\n",
       "-----\n",
       "IPython             8.5.0\n",
       "jupyter_client      7.3.5\n",
       "jupyter_core        4.11.1\n",
       "jupyterlab          3.4.6\n",
       "notebook            6.4.12\n",
       "-----\n",
       "Python 3.10.9 (main, Dec 19 2022, 17:35:49) [GCC 12.2.0]\n",
       "Linux-6.1.12-arch1-1-x86_64-with-glibc2.37\n",
       "-----\n",
       "Session information updated at 2023-02-20 19:03\n",
       "</pre>\n",
       "</details>"
      ],
      "text/plain": [
       "<IPython.core.display.HTML object>"
      ]
     },
     "execution_count": 29,
     "metadata": {},
     "output_type": "execute_result"
    }
   ],
   "source": [
    "import session_info\n",
    "session_info.show()"
   ]
  }
 ],
 "metadata": {
  "kernelspec": {
   "display_name": "Python 3 (ipykernel)",
   "language": "python",
   "name": "python3"
  },
  "language_info": {
   "codemirror_mode": {
    "name": "ipython",
    "version": 3
   },
   "file_extension": ".py",
   "mimetype": "text/x-python",
   "name": "python",
   "nbconvert_exporter": "python",
   "pygments_lexer": "ipython3",
   "version": "3.10.9"
  }
 },
 "nbformat": 4,
 "nbformat_minor": 4
}
