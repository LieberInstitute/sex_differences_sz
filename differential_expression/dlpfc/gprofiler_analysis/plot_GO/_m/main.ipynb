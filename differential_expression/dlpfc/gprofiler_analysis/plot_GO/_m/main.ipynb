{
 "cells": [
  {
   "cell_type": "markdown",
   "metadata": {},
   "source": [
    "# Visualize GO analysis"
   ]
  },
  {
   "cell_type": "code",
   "execution_count": 1,
   "metadata": {
    "execution": {
     "iopub.execute_input": "2021-07-10T02:40:41.854007Z",
     "iopub.status.busy": "2021-07-10T02:40:41.853251Z",
     "iopub.status.idle": "2021-07-10T02:40:42.237927Z",
     "shell.execute_reply": "2021-07-10T02:40:42.236845Z"
    }
   },
   "outputs": [],
   "source": [
    "import numpy as np\n",
    "import pandas as pd"
   ]
  },
  {
   "cell_type": "code",
   "execution_count": 2,
   "metadata": {
    "execution": {
     "iopub.execute_input": "2021-07-10T02:40:42.244414Z",
     "iopub.status.busy": "2021-07-10T02:40:42.243568Z",
     "iopub.status.idle": "2021-07-10T02:40:42.246207Z",
     "shell.execute_reply": "2021-07-10T02:40:42.246840Z"
    }
   },
   "outputs": [],
   "source": [
    "def get_top_GO(tissue, fn, label):\n",
    "    df = pd.read_csv(fn, sep='\\t').sort_values('p_value').head(10)\n",
    "    df['Log10'] = -np.log10(df['p_value'])\n",
    "    df['Tissue'] = tissue\n",
    "    df['Bias'] = label\n",
    "    return df"
   ]
  },
  {
   "cell_type": "code",
   "execution_count": 3,
   "metadata": {
    "execution": {
     "iopub.execute_input": "2021-07-10T02:40:42.254442Z",
     "iopub.status.busy": "2021-07-10T02:40:42.253685Z",
     "iopub.status.idle": "2021-07-10T02:40:42.286157Z",
     "shell.execute_reply": "2021-07-10T02:40:42.284953Z"
    }
   },
   "outputs": [],
   "source": [
    "tissue = 'dlpfc'\n",
    "config = {\n",
    "    'All': '../../_m/allDEGs_functional_enrichment.txt',\n",
    "    'Female': '../../_m/female_bias_DEGs_functional_enrichment.txt',\n",
    "    'Male': '../../_m/male_bias_DEGs_functional_enrichment.txt',\n",
    "}\n",
    "\n",
    "df = pd.DataFrame()\n",
    "for bias in ['All', 'Female', 'Male']:\n",
    "    df = pd.concat([df, get_top_GO(tissue, config[bias], bias)], axis=0)"
   ]
  },
  {
   "cell_type": "code",
   "execution_count": 4,
   "metadata": {
    "execution": {
     "iopub.execute_input": "2021-07-10T02:40:42.292747Z",
     "iopub.status.busy": "2021-07-10T02:40:42.291690Z",
     "iopub.status.idle": "2021-07-10T02:40:42.298229Z",
     "shell.execute_reply": "2021-07-10T02:40:42.297634Z"
    }
   },
   "outputs": [],
   "source": [
    "df.to_csv(\"%s_functional_analysis.txt\" % tissue, sep='\\t', index=False)"
   ]
  },
  {
   "cell_type": "code",
   "execution_count": 5,
   "metadata": {
    "execution": {
     "iopub.execute_input": "2021-07-10T02:40:42.310744Z",
     "iopub.status.busy": "2021-07-10T02:40:42.309336Z",
     "iopub.status.idle": "2021-07-10T02:40:42.314484Z",
     "shell.execute_reply": "2021-07-10T02:40:42.315631Z"
    }
   },
   "outputs": [
    {
     "data": {
      "text/plain": [
       "(28, 17)"
      ]
     },
     "execution_count": 1,
     "metadata": {},
     "output_type": "execute_result"
    }
   ],
   "source": [
    "df.shape"
   ]
  },
  {
   "cell_type": "markdown",
   "metadata": {},
   "source": [
    "## Plot "
   ]
  },
  {
   "cell_type": "code",
   "execution_count": 6,
   "metadata": {
    "execution": {
     "iopub.execute_input": "2021-07-10T02:40:42.322205Z",
     "iopub.status.busy": "2021-07-10T02:40:42.320761Z",
     "iopub.status.idle": "2021-07-10T02:40:43.407213Z",
     "shell.execute_reply": "2021-07-10T02:40:43.408337Z"
    }
   },
   "outputs": [],
   "source": [
    "%load_ext rpy2.ipython"
   ]
  },
  {
   "cell_type": "code",
   "execution_count": 7,
   "metadata": {
    "execution": {
     "iopub.execute_input": "2021-07-10T02:40:43.416117Z",
     "iopub.status.busy": "2021-07-10T02:40:43.415014Z",
     "iopub.status.idle": "2021-07-10T02:40:45.542054Z",
     "shell.execute_reply": "2021-07-10T02:40:45.543317Z"
    }
   },
   "outputs": [
    {
     "name": "stderr",
     "output_type": "stream",
     "text": [
      "R[write to console]: ── Attaching packages ─────────────────────────────────────── tidyverse 1.3.1 ──\n",
      "\n",
      "R[write to console]: ✔ tibble  3.1.2     ✔ dplyr   1.0.7\n",
      "✔ tidyr   1.1.3     ✔ stringr 1.4.0\n",
      "✔ readr   1.4.0     ✔ forcats 0.5.1\n",
      "✔ purrr   0.3.4     \n",
      "\n",
      "R[write to console]: ── Conflicts ────────────────────────────────────────── tidyverse_conflicts() ──\n",
      "✖ dplyr::filter() masks stats::filter()\n",
      "✖ dplyr::lag()    masks stats::lag()\n",
      "\n"
     ]
    }
   ],
   "source": [
    "%%R -i df\n",
    "library(ggplot2)\n",
    "library(tidyverse)\n",
    "\n",
    "save_plot <- function(p, fn, w, h){\n",
    "    for(ext in c('.svg', '.png', '.pdf')){\n",
    "        ggsave(file=paste0(fn,ext), plot=p, width=w, height=h)\n",
    "    }\n",
    "}\n",
    "\n",
    "plot_GO <- function(){\n",
    "    cbPalette <- c(\"#000000\", \"Red\", \"Blue\")\n",
    "    gg1 = df %>%\n",
    "        ggplot(aes(x=Log10, y=term_name, color=Bias)) + \n",
    "        geom_point(shape=18, alpha=0.8, size=4) + labs(y='', x='-Log10 (p adjust)') + \n",
    "        theme_bw() + \n",
    "        scale_colour_manual(name=\"Sex Bias\", values=cbPalette, \n",
    "                            labels=c(\"All\", \"Female Bias\", \"Male Bias\")) +\n",
    "        geom_vline(xintercept = -log10(0.05), linetype = \"dotted\") +\n",
    "        theme(axis.text=element_text(size=14),\n",
    "              axis.title=element_text(size=18, face='bold'),\n",
    "              strip.text=element_text(size=18, face='bold'))\n",
    "    return(gg1)\n",
    "}"
   ]
  },
  {
   "cell_type": "code",
   "execution_count": 8,
   "metadata": {
    "execution": {
     "iopub.execute_input": "2021-07-10T02:40:45.550917Z",
     "iopub.status.busy": "2021-07-10T02:40:45.549443Z",
     "iopub.status.idle": "2021-07-10T02:40:47.245377Z",
     "shell.execute_reply": "2021-07-10T02:40:47.245949Z"
    }
   },
   "outputs": [
    {
     "data": {
      "image/png": "[encoded data removed]"
     },
     "metadata": {},
     "output_type": "display_data"
    }
   ],
   "source": [
    "%%R\n",
    "gg1 = plot_GO()\n",
    "print(gg1)\n",
    "save_plot(gg1, \"dlpfc_GO_top10_stacked\", 12, 6)"
   ]
  },
  {
   "cell_type": "code",
   "execution_count": null,
   "metadata": {},
   "outputs": [],
   "source": []
  }
 ],
 "metadata": {
  "kernelspec": {
   "display_name": "Python 3",
   "language": "python",
   "name": "python3"
  },
  "language_info": {
   "codemirror_mode": {
    "name": "ipython",
    "version": 3
   },
   "file_extension": ".py",
   "mimetype": "text/x-python",
   "name": "python",
   "nbconvert_exporter": "python",
   "pygments_lexer": "ipython3",
   "version": "3.9.1"
  }
 },
 "nbformat": 4,
 "nbformat_minor": 4
}
