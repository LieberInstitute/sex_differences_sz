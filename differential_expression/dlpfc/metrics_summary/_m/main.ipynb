{
 "cells": [
  {
   "cell_type": "markdown",
   "metadata": {},
   "source": [
    "# Feature summary of differential expression analysis"
   ]
  },
  {
   "cell_type": "code",
   "execution_count": 1,
   "metadata": {
    "execution": {
     "iopub.execute_input": "2023-02-20T23:57:12.735377Z",
     "iopub.status.busy": "2023-02-20T23:57:12.735241Z",
     "iopub.status.idle": "2023-02-20T23:57:12.940732Z",
     "shell.execute_reply": "2023-02-20T23:57:12.940312Z"
    }
   },
   "outputs": [],
   "source": [
    "import numpy as np\n",
    "import pandas as pd"
   ]
  },
  {
   "cell_type": "code",
   "execution_count": 2,
   "metadata": {
    "execution": {
     "iopub.execute_input": "2023-02-20T23:57:12.943659Z",
     "iopub.status.busy": "2023-02-20T23:57:12.943499Z",
     "iopub.status.idle": "2023-02-20T23:57:12.946690Z",
     "shell.execute_reply": "2023-02-20T23:57:12.946331Z"
    }
   },
   "outputs": [],
   "source": [
    "def annotate_DE(feature):\n",
    "    # Annotate DE results\n",
    "    df = pd.read_csv(f'../../_m/{feature.lower()}s/diffExpr_maleVfemale_full.txt', \n",
    "                     sep='\\t', index_col=0)\\\n",
    "           .rename(columns={\"gene_id\": \"gencodeID\", \"gencodeGeneID\": \"gencodeID\", \n",
    "                            \"gene_name\": \"Symbol\"})\n",
    "    df = df[(df['adj.P.Val'] < 0.05)].sort_values('adj.P.Val')\n",
    "    df['Feature'] = df.index\n",
    "    df['ensemblID'] = df.gencodeID.str.replace(\"\\\\..*\", \"\", regex=True)\n",
    "    df['Type'] = feature; df[\"Region\"] = \"DLPFC\"\n",
    "    return df[['Feature', 'Symbol', 'ensemblID', \n",
    "               'logFC', 'SE', 'adj.P.Val', \"Type\"]]"
   ]
  },
  {
   "cell_type": "markdown",
   "metadata": {},
   "source": [
    "## Summary plots"
   ]
  },
  {
   "cell_type": "markdown",
   "metadata": {},
   "source": [
    "### Genes"
   ]
  },
  {
   "cell_type": "code",
   "execution_count": 3,
   "metadata": {
    "execution": {
     "iopub.execute_input": "2023-02-20T23:57:12.949157Z",
     "iopub.status.busy": "2023-02-20T23:57:12.949046Z",
     "iopub.status.idle": "2023-02-20T23:57:18.667811Z",
     "shell.execute_reply": "2023-02-20T23:57:18.667319Z"
    }
   },
   "outputs": [
    {
     "data": {
      "text/html": [
       "<div>\n",
       "<style scoped>\n",
       "    .dataframe tbody tr th:only-of-type {\n",
       "        vertical-align: middle;\n",
       "    }\n",
       "\n",
       "    .dataframe tbody tr th {\n",
       "        vertical-align: top;\n",
       "    }\n",
       "\n",
       "    .dataframe thead th {\n",
       "        text-align: right;\n",
       "    }\n",
       "</style>\n",
       "<table border=\"1\" class=\"dataframe\">\n",
       "  <thead>\n",
       "    <tr style=\"text-align: right;\">\n",
       "      <th></th>\n",
       "      <th>Feature</th>\n",
       "      <th>Symbol</th>\n",
       "      <th>ensemblID</th>\n",
       "      <th>logFC</th>\n",
       "      <th>SE</th>\n",
       "      <th>adj.P.Val</th>\n",
       "      <th>Type</th>\n",
       "    </tr>\n",
       "  </thead>\n",
       "  <tbody>\n",
       "    <tr>\n",
       "      <th>BCORP1|ENSG00000215580.12</th>\n",
       "      <td>BCORP1|ENSG00000215580.12</td>\n",
       "      <td>BCORP1</td>\n",
       "      <td>ENSG00000215580</td>\n",
       "      <td>8.446420</td>\n",
       "      <td>0.057509</td>\n",
       "      <td>1.716612e-207</td>\n",
       "      <td>Gene</td>\n",
       "    </tr>\n",
       "    <tr>\n",
       "      <th>ENSG00000260197|ENSG00000260197.1</th>\n",
       "      <td>ENSG00000260197|ENSG00000260197.1</td>\n",
       "      <td>ENSG00000260197</td>\n",
       "      <td>ENSG00000260197</td>\n",
       "      <td>8.269605</td>\n",
       "      <td>0.025685</td>\n",
       "      <td>5.824188e-203</td>\n",
       "      <td>Gene</td>\n",
       "    </tr>\n",
       "  </tbody>\n",
       "</table>\n",
       "</div>"
      ],
      "text/plain": [
       "                                                             Feature  \\\n",
       "BCORP1|ENSG00000215580.12                  BCORP1|ENSG00000215580.12   \n",
       "ENSG00000260197|ENSG00000260197.1  ENSG00000260197|ENSG00000260197.1   \n",
       "\n",
       "                                            Symbol        ensemblID     logFC  \\\n",
       "BCORP1|ENSG00000215580.12                   BCORP1  ENSG00000215580  8.446420   \n",
       "ENSG00000260197|ENSG00000260197.1  ENSG00000260197  ENSG00000260197  8.269605   \n",
       "\n",
       "                                         SE      adj.P.Val  Type  \n",
       "BCORP1|ENSG00000215580.12          0.057509  1.716612e-207  Gene  \n",
       "ENSG00000260197|ENSG00000260197.1  0.025685  5.824188e-203  Gene  "
      ]
     },
     "execution_count": 3,
     "metadata": {},
     "output_type": "execute_result"
    }
   ],
   "source": [
    "genes = annotate_DE(\"Gene\")\n",
    "genes.head(2)"
   ]
  },
  {
   "cell_type": "markdown",
   "metadata": {},
   "source": [
    "### Transcripts"
   ]
  },
  {
   "cell_type": "code",
   "execution_count": 4,
   "metadata": {
    "execution": {
     "iopub.execute_input": "2023-02-20T23:57:18.711958Z",
     "iopub.status.busy": "2023-02-20T23:57:18.711810Z",
     "iopub.status.idle": "2023-02-20T23:57:31.530412Z",
     "shell.execute_reply": "2023-02-20T23:57:31.529994Z"
    }
   },
   "outputs": [
    {
     "data": {
      "text/html": [
       "<div>\n",
       "<style scoped>\n",
       "    .dataframe tbody tr th:only-of-type {\n",
       "        vertical-align: middle;\n",
       "    }\n",
       "\n",
       "    .dataframe tbody tr th {\n",
       "        vertical-align: top;\n",
       "    }\n",
       "\n",
       "    .dataframe thead th {\n",
       "        text-align: right;\n",
       "    }\n",
       "</style>\n",
       "<table border=\"1\" class=\"dataframe\">\n",
       "  <thead>\n",
       "    <tr style=\"text-align: right;\">\n",
       "      <th></th>\n",
       "      <th>Feature</th>\n",
       "      <th>Symbol</th>\n",
       "      <th>ensemblID</th>\n",
       "      <th>logFC</th>\n",
       "      <th>SE</th>\n",
       "      <th>adj.P.Val</th>\n",
       "      <th>Type</th>\n",
       "    </tr>\n",
       "  </thead>\n",
       "  <tbody>\n",
       "    <tr>\n",
       "      <th>USP9Y-204|ENST00000440408.5</th>\n",
       "      <td>USP9Y-204|ENST00000440408.5</td>\n",
       "      <td>USP9Y</td>\n",
       "      <td>ENSG00000114374</td>\n",
       "      <td>5.106249</td>\n",
       "      <td>0.068411</td>\n",
       "      <td>4.806531e-272</td>\n",
       "      <td>Transcript</td>\n",
       "    </tr>\n",
       "    <tr>\n",
       "      <th>XIST-208|ENST00000602495.1</th>\n",
       "      <td>XIST-208|ENST00000602495.1</td>\n",
       "      <td>XIST</td>\n",
       "      <td>ENSG00000229807</td>\n",
       "      <td>-7.901838</td>\n",
       "      <td>0.059550</td>\n",
       "      <td>1.829393e-211</td>\n",
       "      <td>Transcript</td>\n",
       "    </tr>\n",
       "  </tbody>\n",
       "</table>\n",
       "</div>"
      ],
      "text/plain": [
       "                                                 Feature Symbol  \\\n",
       "USP9Y-204|ENST00000440408.5  USP9Y-204|ENST00000440408.5  USP9Y   \n",
       "XIST-208|ENST00000602495.1    XIST-208|ENST00000602495.1   XIST   \n",
       "\n",
       "                                   ensemblID     logFC        SE  \\\n",
       "USP9Y-204|ENST00000440408.5  ENSG00000114374  5.106249  0.068411   \n",
       "XIST-208|ENST00000602495.1   ENSG00000229807 -7.901838  0.059550   \n",
       "\n",
       "                                 adj.P.Val        Type  \n",
       "USP9Y-204|ENST00000440408.5  4.806531e-272  Transcript  \n",
       "XIST-208|ENST00000602495.1   1.829393e-211  Transcript  "
      ]
     },
     "execution_count": 4,
     "metadata": {},
     "output_type": "execute_result"
    }
   ],
   "source": [
    "trans = annotate_DE(\"Transcript\")\n",
    "trans.head(2)"
   ]
  },
  {
   "cell_type": "markdown",
   "metadata": {},
   "source": [
    "### Exons"
   ]
  },
  {
   "cell_type": "code",
   "execution_count": 5,
   "metadata": {
    "execution": {
     "iopub.execute_input": "2023-02-20T23:57:31.533233Z",
     "iopub.status.busy": "2023-02-20T23:57:31.533003Z",
     "iopub.status.idle": "2023-02-20T23:58:32.464322Z",
     "shell.execute_reply": "2023-02-20T23:58:32.463895Z"
    }
   },
   "outputs": [
    {
     "data": {
      "text/html": [
       "<div>\n",
       "<style scoped>\n",
       "    .dataframe tbody tr th:only-of-type {\n",
       "        vertical-align: middle;\n",
       "    }\n",
       "\n",
       "    .dataframe tbody tr th {\n",
       "        vertical-align: top;\n",
       "    }\n",
       "\n",
       "    .dataframe thead th {\n",
       "        text-align: right;\n",
       "    }\n",
       "</style>\n",
       "<table border=\"1\" class=\"dataframe\">\n",
       "  <thead>\n",
       "    <tr style=\"text-align: right;\">\n",
       "      <th></th>\n",
       "      <th>Feature</th>\n",
       "      <th>Symbol</th>\n",
       "      <th>ensemblID</th>\n",
       "      <th>logFC</th>\n",
       "      <th>SE</th>\n",
       "      <th>adj.P.Val</th>\n",
       "      <th>Type</th>\n",
       "    </tr>\n",
       "  </thead>\n",
       "  <tbody>\n",
       "    <tr>\n",
       "      <th>chr9:88016300-88016793+</th>\n",
       "      <td>chr9:88016300-88016793+</td>\n",
       "      <td>RPS10P3</td>\n",
       "      <td>ENSG00000217716</td>\n",
       "      <td>-4.657763</td>\n",
       "      <td>0.108053</td>\n",
       "      <td>1.743948e-148</td>\n",
       "      <td>Exon</td>\n",
       "    </tr>\n",
       "    <tr>\n",
       "      <th>chr5:56504635-56505072-</th>\n",
       "      <td>chr5:56504635-56505072-</td>\n",
       "      <td>RPL26P19</td>\n",
       "      <td>ENSG00000226221</td>\n",
       "      <td>-3.413456</td>\n",
       "      <td>0.114270</td>\n",
       "      <td>7.084867e-130</td>\n",
       "      <td>Exon</td>\n",
       "    </tr>\n",
       "  </tbody>\n",
       "</table>\n",
       "</div>"
      ],
      "text/plain": [
       "                                         Feature    Symbol        ensemblID  \\\n",
       "chr9:88016300-88016793+  chr9:88016300-88016793+   RPS10P3  ENSG00000217716   \n",
       "chr5:56504635-56505072-  chr5:56504635-56505072-  RPL26P19  ENSG00000226221   \n",
       "\n",
       "                            logFC        SE      adj.P.Val  Type  \n",
       "chr9:88016300-88016793+ -4.657763  0.108053  1.743948e-148  Exon  \n",
       "chr5:56504635-56505072- -3.413456  0.114270  7.084867e-130  Exon  "
      ]
     },
     "execution_count": 5,
     "metadata": {},
     "output_type": "execute_result"
    }
   ],
   "source": [
    "exons = annotate_DE(\"Exon\")\n",
    "exons.head(2)"
   ]
  },
  {
   "cell_type": "markdown",
   "metadata": {},
   "source": [
    "### Junctions"
   ]
  },
  {
   "cell_type": "code",
   "execution_count": 6,
   "metadata": {
    "execution": {
     "iopub.execute_input": "2023-02-20T23:58:32.467050Z",
     "iopub.status.busy": "2023-02-20T23:58:32.466928Z",
     "iopub.status.idle": "2023-02-20T23:59:16.348150Z",
     "shell.execute_reply": "2023-02-20T23:59:16.347841Z"
    }
   },
   "outputs": [
    {
     "data": {
      "text/html": [
       "<div>\n",
       "<style scoped>\n",
       "    .dataframe tbody tr th:only-of-type {\n",
       "        vertical-align: middle;\n",
       "    }\n",
       "\n",
       "    .dataframe tbody tr th {\n",
       "        vertical-align: top;\n",
       "    }\n",
       "\n",
       "    .dataframe thead th {\n",
       "        text-align: right;\n",
       "    }\n",
       "</style>\n",
       "<table border=\"1\" class=\"dataframe\">\n",
       "  <thead>\n",
       "    <tr style=\"text-align: right;\">\n",
       "      <th></th>\n",
       "      <th>Feature</th>\n",
       "      <th>Symbol</th>\n",
       "      <th>ensemblID</th>\n",
       "      <th>logFC</th>\n",
       "      <th>SE</th>\n",
       "      <th>adj.P.Val</th>\n",
       "      <th>Type</th>\n",
       "    </tr>\n",
       "  </thead>\n",
       "  <tbody>\n",
       "    <tr>\n",
       "      <th>chrY:2845744-2854599:+</th>\n",
       "      <td>chrY:2845744-2854599:+</td>\n",
       "      <td>RPS4Y1,XGY2</td>\n",
       "      <td>ENSG00000129824</td>\n",
       "      <td>9.207380</td>\n",
       "      <td>0.113165</td>\n",
       "      <td>7.371018e-178</td>\n",
       "      <td>Junction</td>\n",
       "    </tr>\n",
       "    <tr>\n",
       "      <th>chrY:2854772-2865087:+</th>\n",
       "      <td>chrY:2854772-2865087:+</td>\n",
       "      <td>DDX11L1</td>\n",
       "      <td>ENSG00000223972</td>\n",
       "      <td>9.240353</td>\n",
       "      <td>0.113205</td>\n",
       "      <td>7.371018e-178</td>\n",
       "      <td>Junction</td>\n",
       "    </tr>\n",
       "  </tbody>\n",
       "</table>\n",
       "</div>"
      ],
      "text/plain": [
       "                                       Feature       Symbol        ensemblID  \\\n",
       "chrY:2845744-2854599:+  chrY:2845744-2854599:+  RPS4Y1,XGY2  ENSG00000129824   \n",
       "chrY:2854772-2865087:+  chrY:2854772-2865087:+      DDX11L1  ENSG00000223972   \n",
       "\n",
       "                           logFC        SE      adj.P.Val      Type  \n",
       "chrY:2845744-2854599:+  9.207380  0.113165  7.371018e-178  Junction  \n",
       "chrY:2854772-2865087:+  9.240353  0.113205  7.371018e-178  Junction  "
      ]
     },
     "execution_count": 6,
     "metadata": {},
     "output_type": "execute_result"
    }
   ],
   "source": [
    "juncs = annotate_DE(\"Junction\")\n",
    "juncs.head(2)"
   ]
  },
  {
   "cell_type": "markdown",
   "metadata": {},
   "source": [
    "## DE summary"
   ]
  },
  {
   "cell_type": "markdown",
   "metadata": {},
   "source": [
    "### DE (feature)"
   ]
  },
  {
   "cell_type": "code",
   "execution_count": 7,
   "metadata": {
    "execution": {
     "iopub.execute_input": "2023-02-20T23:59:16.351225Z",
     "iopub.status.busy": "2023-02-20T23:59:16.351109Z",
     "iopub.status.idle": "2023-02-20T23:59:16.354389Z",
     "shell.execute_reply": "2023-02-20T23:59:16.354110Z"
    }
   },
   "outputs": [
    {
     "name": "stdout",
     "output_type": "stream",
     "text": [
      "\n",
      "Gene:\t\t256\n",
      "Transcript:\t605\n",
      "Exon:\t\t1628\n",
      "Junction:\t2030\n"
     ]
    }
   ],
   "source": [
    "gg = len(set(genes['Feature']))\n",
    "tt = len(set(trans['Feature']))\n",
    "ee = len(set(exons['Feature']))\n",
    "jj = len(set(juncs['Feature']))\n",
    "\n",
    "print(f\"\\nGene:\\t\\t{gg}\\nTranscript:\\t{tt}\\nExon:\\t\\t{ee}\\nJunction:\\t{jj}\")"
   ]
  },
  {
   "cell_type": "markdown",
   "metadata": {},
   "source": [
    "#### DE (EnsemblID)"
   ]
  },
  {
   "cell_type": "code",
   "execution_count": 8,
   "metadata": {
    "execution": {
     "iopub.execute_input": "2023-02-20T23:59:16.358796Z",
     "iopub.status.busy": "2023-02-20T23:59:16.358684Z",
     "iopub.status.idle": "2023-02-20T23:59:16.361976Z",
     "shell.execute_reply": "2023-02-20T23:59:16.361597Z"
    }
   },
   "outputs": [
    {
     "name": "stdout",
     "output_type": "stream",
     "text": [
      "\n",
      "Gene:\t\t256\n",
      "Transcript:\t377\n",
      "Exon:\t\t375\n",
      "Junction:\t19\n"
     ]
    }
   ],
   "source": [
    "gg = len(set(genes['ensemblID']))\n",
    "tt = len(set(trans['ensemblID']))\n",
    "ee = len(set(exons['ensemblID']))\n",
    "jj = len(set(juncs['ensemblID']))\n",
    "\n",
    "print(f\"\\nGene:\\t\\t{gg}\\nTranscript:\\t{tt}\\nExon:\\t\\t{ee}\\nJunction:\\t{jj}\")"
   ]
  },
  {
   "cell_type": "markdown",
   "metadata": {},
   "source": [
    "#### DE (Gene Symbol)"
   ]
  },
  {
   "cell_type": "code",
   "execution_count": 9,
   "metadata": {
    "execution": {
     "iopub.execute_input": "2023-02-20T23:59:16.364664Z",
     "iopub.status.busy": "2023-02-20T23:59:16.364553Z",
     "iopub.status.idle": "2023-02-20T23:59:16.367689Z",
     "shell.execute_reply": "2023-02-20T23:59:16.367324Z"
    }
   },
   "outputs": [
    {
     "name": "stdout",
     "output_type": "stream",
     "text": [
      "\n",
      "Gene:\t\t256\n",
      "Transcript:\t377\n",
      "Exon:\t\t379\n",
      "Junction:\t22\n"
     ]
    }
   ],
   "source": [
    "gg = len(set(genes['Symbol']))\n",
    "tt = len(set(trans['Symbol']))\n",
    "ee = len(set(exons['Symbol']))\n",
    "jj = len(set(juncs['Symbol']))\n",
    "\n",
    "print(f\"\\nGene:\\t\\t{gg}\\nTranscript:\\t{tt}\\nExon:\\t\\t{ee}\\nJunction:\\t{jj}\")"
   ]
  },
  {
   "cell_type": "markdown",
   "metadata": {},
   "source": [
    "### Feature effect size summary"
   ]
  },
  {
   "cell_type": "code",
   "execution_count": 10,
   "metadata": {
    "execution": {
     "iopub.execute_input": "2023-02-20T23:59:16.370399Z",
     "iopub.status.busy": "2023-02-20T23:59:16.370268Z",
     "iopub.status.idle": "2023-02-20T23:59:16.375926Z",
     "shell.execute_reply": "2023-02-20T23:59:16.375529Z"
    }
   },
   "outputs": [
    {
     "name": "stdout",
     "output_type": "stream",
     "text": [
      "\n",
      "There are 107 unique Genes with abs(log2FC) >= 0.5\n",
      "There are 51 unique Genes with abs(log2FC) >= 1\n",
      "\n",
      "There are 340 unique Transcript with abs(log2FC) >= 0.5\n",
      "There are 216 unique Transcript with abs(log2FC) >= 1\n",
      "\n",
      "There are 992 unique Exons with abs(log2FC) >= 0.5\n",
      "There are 628 unique Exons with abs(log2FC) >= 1\n",
      "\n",
      "There are 625 unique Junctions with abs(log2FC) >= 0.5\n",
      "There are 347 unique Junctions with abs(log2FC) >= 1\n"
     ]
    }
   ],
   "source": [
    "feature_list = ['Genes', 'Transcript', 'Exons', 'Junctions']\n",
    "feature_df = [genes, trans, exons, juncs]\n",
    "for ii in range(4):\n",
    "    ff = feature_df[ii]\n",
    "    half = len(set(ff[(np.abs(ff['logFC']) >= 0.5)].Feature))\n",
    "    one = len(set(ff[(np.abs(ff['logFC']) >= 1)].Feature))\n",
    "    print(f\"\\nThere are {half} unique {feature_list[ii]} with abs(log2FC) >= 0.5\")\n",
    "    print(f\"There are {one} unique {feature_list[ii]} with abs(log2FC) >= 1\")"
   ]
  },
  {
   "cell_type": "code",
   "execution_count": 11,
   "metadata": {
    "execution": {
     "iopub.execute_input": "2023-02-20T23:59:16.378362Z",
     "iopub.status.busy": "2023-02-20T23:59:16.378253Z",
     "iopub.status.idle": "2023-02-20T23:59:16.383570Z",
     "shell.execute_reply": "2023-02-20T23:59:16.383158Z"
    }
   },
   "outputs": [
    {
     "name": "stdout",
     "output_type": "stream",
     "text": [
      "\n",
      "There are 107 unique Genes with abs(log2FC) >= 0.5\n",
      "There are 51 unique Genes with abs(log2FC) >= 1\n",
      "\n",
      "There are 166 unique Transcripts with abs(log2FC) >= 0.5\n",
      "There are 88 unique Transcripts with abs(log2FC) >= 1\n",
      "\n",
      "There are 130 unique Exons with abs(log2FC) >= 0.5\n",
      "There are 64 unique Exons with abs(log2FC) >= 1\n",
      "\n",
      "There are 8 unique Junctions with abs(log2FC) >= 0.5\n",
      "There are 8 unique Junctions with abs(log2FC) >= 1\n"
     ]
    }
   ],
   "source": [
    "feature_list = ['Genes', 'Transcripts', 'Exons', 'Junctions']\n",
    "feature_df = [genes, trans, exons, juncs]\n",
    "for ii in range(4):\n",
    "    ff = feature_df[ii]\n",
    "    half = len(set(ff[(np.abs(ff['logFC']) >= 0.5)].ensemblID))\n",
    "    one = len(set(ff[(np.abs(ff['logFC']) >= 1)].ensemblID))\n",
    "    print(f\"\\nThere are {half} unique {feature_list[ii]} with abs(log2FC) >= 0.5\")\n",
    "    print(f\"There are {one} unique {feature_list[ii]} with abs(log2FC) >= 1\")"
   ]
  },
  {
   "cell_type": "markdown",
   "metadata": {},
   "source": [
    "## Autosomal only"
   ]
  },
  {
   "cell_type": "code",
   "execution_count": 12,
   "metadata": {
    "execution": {
     "iopub.execute_input": "2023-02-20T23:59:16.385989Z",
     "iopub.status.busy": "2023-02-20T23:59:16.385856Z",
     "iopub.status.idle": "2023-02-20T23:59:16.790676Z",
     "shell.execute_reply": "2023-02-20T23:59:16.789969Z"
    }
   },
   "outputs": [],
   "source": [
    "from pyhere import here\n",
    "from functools import lru_cache"
   ]
  },
  {
   "cell_type": "code",
   "execution_count": 13,
   "metadata": {
    "execution": {
     "iopub.execute_input": "2023-02-20T23:59:16.793957Z",
     "iopub.status.busy": "2023-02-20T23:59:16.793739Z",
     "iopub.status.idle": "2023-02-20T23:59:16.797826Z",
     "shell.execute_reply": "2023-02-20T23:59:16.797175Z"
    }
   },
   "outputs": [],
   "source": [
    "@lru_cache()\n",
    "def get_annotation(feature):\n",
    "    feat_lt = {\"gene\": \"gene\", \"transcript\": \"tx\", \n",
    "               \"exon\": \"exon\", \"junction\": \"jxn\"}\n",
    "    new_feature = feat_lt[feature]\n",
    "    fn = here(f\"input/counts/text_files_counts/_m/dlpfc/{new_feature}_annotation.txt\")\n",
    "    return pd.read_csv(fn, sep='\\t')"
   ]
  },
  {
   "cell_type": "code",
   "execution_count": 14,
   "metadata": {
    "execution": {
     "iopub.execute_input": "2023-02-20T23:59:16.800580Z",
     "iopub.status.busy": "2023-02-20T23:59:16.800232Z",
     "iopub.status.idle": "2023-02-20T23:59:16.807293Z",
     "shell.execute_reply": "2023-02-20T23:59:16.806643Z"
    }
   },
   "outputs": [],
   "source": [
    "def annotate_autosomes(feature):\n",
    "    # Get annotation\n",
    "    annot = get_annotation(feature.lower())\n",
    "    # Annotate DE results\n",
    "    df = pd.read_csv(f'../../_m/{feature.lower()}s/diffExpr_maleVfemale_full.txt', \n",
    "                     sep='\\t', index_col=0)\\\n",
    "           .rename(columns={\"gene_id\": \"gencodeID\", \"gencodeGeneID\": \"gencodeID\", \n",
    "                            \"gene_name\": \"Symbol\"})\n",
    "    df = df[(df['adj.P.Val'] < 0.05)].sort_values('adj.P.Val')\n",
    "    df['name'] = df.index\n",
    "    df['ensemblID'] = df.gencodeID.str.replace(\"\\\\..*\", \"\", regex=True)\n",
    "    df = annot.merge(df, on='name').rename(columns={\"name\": \"Feature\"})\n",
    "    df = df[[\"Feature\", \"seqnames\", \"start\", \"end\", \"width\", \"gencodeID\", \"ensemblID\", \n",
    "             \"Symbol\", \"logFC\", \"AveExpr\", \"t\", \"P.Value\", \"adj.P.Val\", \"B\", \"SE\"]]\n",
    "    df['Type'] = feature; df[\"Region\"] = \"DLPFC\"\n",
    "    # Save annotated file\n",
    "    df.sort_values('adj.P.Val').to_csv(f'chrom_annotation_{feature.lower()}.txt', \n",
    "                                       sep='\\t', index=False)\n",
    "    df = df[(df.seqnames.str.contains('chr\\d+'))].copy()\n",
    "    # Save autosomal DE features\n",
    "    df.to_csv(f'{feature.lower()}_autosomal_DE.csv', index=False, header=True)\n",
    "    return df[['Feature', 'seqnames', 'Symbol', 'ensemblID', 'logFC', 'SE', 'adj.P.Val', \"Type\"]]"
   ]
  },
  {
   "cell_type": "markdown",
   "metadata": {},
   "source": [
    "### Genes"
   ]
  },
  {
   "cell_type": "code",
   "execution_count": 15,
   "metadata": {
    "execution": {
     "iopub.execute_input": "2023-02-20T23:59:16.810167Z",
     "iopub.status.busy": "2023-02-20T23:59:16.809811Z",
     "iopub.status.idle": "2023-02-20T23:59:41.250849Z",
     "shell.execute_reply": "2023-02-20T23:59:41.250224Z"
    }
   },
   "outputs": [
    {
     "data": {
      "text/html": [
       "<div>\n",
       "<style scoped>\n",
       "    .dataframe tbody tr th:only-of-type {\n",
       "        vertical-align: middle;\n",
       "    }\n",
       "\n",
       "    .dataframe tbody tr th {\n",
       "        vertical-align: top;\n",
       "    }\n",
       "\n",
       "    .dataframe thead th {\n",
       "        text-align: right;\n",
       "    }\n",
       "</style>\n",
       "<table border=\"1\" class=\"dataframe\">\n",
       "  <thead>\n",
       "    <tr style=\"text-align: right;\">\n",
       "      <th></th>\n",
       "      <th>Feature</th>\n",
       "      <th>seqnames</th>\n",
       "      <th>Symbol</th>\n",
       "      <th>ensemblID</th>\n",
       "      <th>logFC</th>\n",
       "      <th>SE</th>\n",
       "      <th>adj.P.Val</th>\n",
       "      <th>Type</th>\n",
       "    </tr>\n",
       "  </thead>\n",
       "  <tbody>\n",
       "    <tr>\n",
       "      <th>4</th>\n",
       "      <td>HEBP1|ENSG00000013583.10</td>\n",
       "      <td>chr12</td>\n",
       "      <td>HEBP1</td>\n",
       "      <td>ENSG00000013583</td>\n",
       "      <td>-0.144560</td>\n",
       "      <td>0.021626</td>\n",
       "      <td>0.002068</td>\n",
       "      <td>Gene</td>\n",
       "    </tr>\n",
       "    <tr>\n",
       "      <th>5</th>\n",
       "      <td>NLRP2|ENSG00000022556.16</td>\n",
       "      <td>chr19</td>\n",
       "      <td>NLRP2</td>\n",
       "      <td>ENSG00000022556</td>\n",
       "      <td>-0.695142</td>\n",
       "      <td>0.048143</td>\n",
       "      <td>0.002549</td>\n",
       "      <td>Gene</td>\n",
       "    </tr>\n",
       "  </tbody>\n",
       "</table>\n",
       "</div>"
      ],
      "text/plain": [
       "                    Feature seqnames Symbol        ensemblID     logFC  \\\n",
       "4  HEBP1|ENSG00000013583.10    chr12  HEBP1  ENSG00000013583 -0.144560   \n",
       "5  NLRP2|ENSG00000022556.16    chr19  NLRP2  ENSG00000022556 -0.695142   \n",
       "\n",
       "         SE  adj.P.Val  Type  \n",
       "4  0.021626   0.002068  Gene  \n",
       "5  0.048143   0.002549  Gene  "
      ]
     },
     "execution_count": 15,
     "metadata": {},
     "output_type": "execute_result"
    }
   ],
   "source": [
    "feature = \"Gene\"\n",
    "genes = annotate_autosomes(feature)\n",
    "genes.head(2)"
   ]
  },
  {
   "cell_type": "code",
   "execution_count": 16,
   "metadata": {
    "execution": {
     "iopub.execute_input": "2023-02-20T23:59:41.253832Z",
     "iopub.status.busy": "2023-02-20T23:59:41.253609Z",
     "iopub.status.idle": "2023-02-20T23:59:41.258032Z",
     "shell.execute_reply": "2023-02-20T23:59:41.257457Z"
    }
   },
   "outputs": [
    {
     "data": {
      "text/plain": [
       "(186, 8)"
      ]
     },
     "execution_count": 16,
     "metadata": {},
     "output_type": "execute_result"
    }
   ],
   "source": [
    "genes.shape"
   ]
  },
  {
   "cell_type": "code",
   "execution_count": 17,
   "metadata": {
    "execution": {
     "iopub.execute_input": "2023-02-20T23:59:41.260856Z",
     "iopub.status.busy": "2023-02-20T23:59:41.260646Z",
     "iopub.status.idle": "2023-02-20T23:59:41.268106Z",
     "shell.execute_reply": "2023-02-20T23:59:41.267513Z"
    }
   },
   "outputs": [
    {
     "data": {
      "text/plain": [
       "(186, 8)"
      ]
     },
     "execution_count": 17,
     "metadata": {},
     "output_type": "execute_result"
    }
   ],
   "source": [
    "genes.groupby('ensemblID').first().reset_index().shape"
   ]
  },
  {
   "cell_type": "markdown",
   "metadata": {},
   "source": [
    "### Transcripts"
   ]
  },
  {
   "cell_type": "code",
   "execution_count": 18,
   "metadata": {
    "execution": {
     "iopub.execute_input": "2023-02-20T23:59:41.271163Z",
     "iopub.status.busy": "2023-02-20T23:59:41.270939Z",
     "iopub.status.idle": "2023-02-21T00:00:21.854881Z",
     "shell.execute_reply": "2023-02-21T00:00:21.854326Z"
    }
   },
   "outputs": [
    {
     "data": {
      "text/plain": [
       "(307, 8)"
      ]
     },
     "execution_count": 18,
     "metadata": {},
     "output_type": "execute_result"
    }
   ],
   "source": [
    "trans = annotate_autosomes(\"Transcript\")\n",
    "trans.head(2)\n",
    "trans.shape"
   ]
  },
  {
   "cell_type": "code",
   "execution_count": 19,
   "metadata": {
    "execution": {
     "iopub.execute_input": "2023-02-21T00:00:21.857831Z",
     "iopub.status.busy": "2023-02-21T00:00:21.857624Z",
     "iopub.status.idle": "2023-02-21T00:00:21.864563Z",
     "shell.execute_reply": "2023-02-21T00:00:21.864064Z"
    }
   },
   "outputs": [
    {
     "data": {
      "text/plain": [
       "(291, 8)"
      ]
     },
     "execution_count": 19,
     "metadata": {},
     "output_type": "execute_result"
    }
   ],
   "source": [
    "trans.groupby('ensemblID').first().reset_index().shape"
   ]
  },
  {
   "cell_type": "markdown",
   "metadata": {
    "tags": []
   },
   "source": [
    "### Exons"
   ]
  },
  {
   "cell_type": "code",
   "execution_count": 20,
   "metadata": {
    "execution": {
     "iopub.execute_input": "2023-02-21T00:00:21.867436Z",
     "iopub.status.busy": "2023-02-21T00:00:21.867232Z",
     "iopub.status.idle": "2023-02-21T00:02:10.876232Z",
     "shell.execute_reply": "2023-02-21T00:02:10.875630Z"
    }
   },
   "outputs": [
    {
     "data": {
      "text/plain": [
       "(903, 8)"
      ]
     },
     "execution_count": 20,
     "metadata": {},
     "output_type": "execute_result"
    }
   ],
   "source": [
    "exons = annotate_autosomes(\"Exon\")\n",
    "exons.head(2)\n",
    "exons.shape"
   ]
  },
  {
   "cell_type": "code",
   "execution_count": 21,
   "metadata": {
    "execution": {
     "iopub.execute_input": "2023-02-21T00:02:10.880146Z",
     "iopub.status.busy": "2023-02-21T00:02:10.879923Z",
     "iopub.status.idle": "2023-02-21T00:02:10.887117Z",
     "shell.execute_reply": "2023-02-21T00:02:10.886612Z"
    }
   },
   "outputs": [
    {
     "data": {
      "text/plain": [
       "(309, 8)"
      ]
     },
     "execution_count": 21,
     "metadata": {},
     "output_type": "execute_result"
    }
   ],
   "source": [
    "exons.groupby('ensemblID').first().reset_index().shape"
   ]
  },
  {
   "cell_type": "markdown",
   "metadata": {},
   "source": [
    "### Junctions"
   ]
  },
  {
   "cell_type": "code",
   "execution_count": 22,
   "metadata": {
    "execution": {
     "iopub.execute_input": "2023-02-21T00:02:10.890048Z",
     "iopub.status.busy": "2023-02-21T00:02:10.889839Z",
     "iopub.status.idle": "2023-02-21T00:04:39.651024Z",
     "shell.execute_reply": "2023-02-21T00:04:39.650494Z"
    }
   },
   "outputs": [
    {
     "data": {
      "text/plain": [
       "(1421, 8)"
      ]
     },
     "execution_count": 22,
     "metadata": {},
     "output_type": "execute_result"
    }
   ],
   "source": [
    "juncs = annotate_autosomes(\"Junction\")\n",
    "juncs.head(2)\n",
    "juncs.shape"
   ]
  },
  {
   "cell_type": "code",
   "execution_count": 23,
   "metadata": {
    "execution": {
     "iopub.execute_input": "2023-02-21T00:04:39.655312Z",
     "iopub.status.busy": "2023-02-21T00:04:39.654739Z",
     "iopub.status.idle": "2023-02-21T00:04:39.661887Z",
     "shell.execute_reply": "2023-02-21T00:04:39.661368Z"
    }
   },
   "outputs": [
    {
     "data": {
      "text/plain": [
       "(12, 8)"
      ]
     },
     "execution_count": 23,
     "metadata": {},
     "output_type": "execute_result"
    }
   ],
   "source": [
    "juncs.groupby('ensemblID').first().reset_index().shape"
   ]
  },
  {
   "cell_type": "markdown",
   "metadata": {},
   "source": [
    "## DE summary"
   ]
  },
  {
   "cell_type": "markdown",
   "metadata": {},
   "source": [
    "### DE (feature)"
   ]
  },
  {
   "cell_type": "code",
   "execution_count": 24,
   "metadata": {
    "execution": {
     "iopub.execute_input": "2023-02-21T00:04:39.664961Z",
     "iopub.status.busy": "2023-02-21T00:04:39.664742Z",
     "iopub.status.idle": "2023-02-21T00:04:39.669695Z",
     "shell.execute_reply": "2023-02-21T00:04:39.669107Z"
    }
   },
   "outputs": [
    {
     "name": "stdout",
     "output_type": "stream",
     "text": [
      "\n",
      "Gene:\t\t186\n",
      "Transcript:\t307\n",
      "Exon:\t\t903\n",
      "Junction:\t1421\n"
     ]
    }
   ],
   "source": [
    "gg = len(set(genes['Feature']))\n",
    "tt = len(set(trans['Feature']))\n",
    "ee = len(set(exons['Feature']))\n",
    "jj = len(set(juncs['Feature']))\n",
    "\n",
    "print(f\"\\nGene:\\t\\t{gg}\\nTranscript:\\t{tt}\\nExon:\\t\\t{ee}\\nJunction:\\t{jj}\")"
   ]
  },
  {
   "cell_type": "markdown",
   "metadata": {},
   "source": [
    "#### DE (EnsemblID)"
   ]
  },
  {
   "cell_type": "code",
   "execution_count": 25,
   "metadata": {
    "execution": {
     "iopub.execute_input": "2023-02-21T00:04:39.672966Z",
     "iopub.status.busy": "2023-02-21T00:04:39.672762Z",
     "iopub.status.idle": "2023-02-21T00:04:39.689477Z",
     "shell.execute_reply": "2023-02-21T00:04:39.688796Z"
    }
   },
   "outputs": [
    {
     "name": "stdout",
     "output_type": "stream",
     "text": [
      "\n",
      "Gene:\t\t186\n",
      "Transcript:\t291\n",
      "Exon:\t\t309\n",
      "Junction:\t12\n"
     ]
    }
   ],
   "source": [
    "gg = len(set(genes.groupby('ensemblID').first().reset_index()['ensemblID']))\n",
    "tt = len(set(trans.groupby('ensemblID').first().reset_index()['ensemblID']))\n",
    "ee = len(set(exons.groupby('ensemblID').first().reset_index()['ensemblID']))\n",
    "jj = len(set(juncs.groupby('ensemblID').first().reset_index()['ensemblID']))\n",
    "\n",
    "print(f\"\\nGene:\\t\\t{gg}\\nTranscript:\\t{tt}\\nExon:\\t\\t{ee}\\nJunction:\\t{jj}\")"
   ]
  },
  {
   "cell_type": "markdown",
   "metadata": {},
   "source": [
    "#### DE (Gene Symbol)"
   ]
  },
  {
   "cell_type": "code",
   "execution_count": 26,
   "metadata": {
    "execution": {
     "iopub.execute_input": "2023-02-21T00:04:39.692383Z",
     "iopub.status.busy": "2023-02-21T00:04:39.692178Z",
     "iopub.status.idle": "2023-02-21T00:04:39.707926Z",
     "shell.execute_reply": "2023-02-21T00:04:39.707392Z"
    }
   },
   "outputs": [
    {
     "name": "stdout",
     "output_type": "stream",
     "text": [
      "\n",
      "Gene:\t\t186\n",
      "Transcript:\t291\n",
      "Exon:\t\t310\n",
      "Junction:\t13\n"
     ]
    }
   ],
   "source": [
    "gg = len(set(genes.groupby('Symbol').first().reset_index()['Symbol']))\n",
    "tt = len(set(trans.groupby('Symbol').first().reset_index()['Symbol']))\n",
    "ee = len(set(exons.groupby('Symbol').first().reset_index()['Symbol']))\n",
    "jj = len(set(juncs.groupby('Symbol').first().reset_index()['Symbol']))\n",
    "\n",
    "print(f\"\\nGene:\\t\\t{gg}\\nTranscript:\\t{tt}\\nExon:\\t\\t{ee}\\nJunction:\\t{jj}\")"
   ]
  },
  {
   "cell_type": "markdown",
   "metadata": {},
   "source": [
    "### Feature effect size summary"
   ]
  },
  {
   "cell_type": "code",
   "execution_count": 27,
   "metadata": {
    "execution": {
     "iopub.execute_input": "2023-02-21T00:04:39.711323Z",
     "iopub.status.busy": "2023-02-21T00:04:39.711117Z",
     "iopub.status.idle": "2023-02-21T00:04:39.719861Z",
     "shell.execute_reply": "2023-02-21T00:04:39.719322Z"
    }
   },
   "outputs": [
    {
     "name": "stdout",
     "output_type": "stream",
     "text": [
      "\n",
      "There are 58 unique Genes with abs(log2FC) >= 0.5\n",
      "There are 14 unique Genes with abs(log2FC) >= 1\n",
      "\n",
      "There are 114 unique Transcript with abs(log2FC) >= 0.5\n",
      "There are 48 unique Transcript with abs(log2FC) >= 1\n",
      "\n",
      "There are 279 unique Exons with abs(log2FC) >= 0.5\n",
      "There are 31 unique Exons with abs(log2FC) >= 1\n",
      "\n",
      "There are 302 unique Junctions with abs(log2FC) >= 0.5\n",
      "There are 125 unique Junctions with abs(log2FC) >= 1\n"
     ]
    }
   ],
   "source": [
    "feature_list = ['Genes', 'Transcript', 'Exons', 'Junctions']\n",
    "feature_df = [genes, trans, exons, juncs]\n",
    "for ii in range(4):\n",
    "    ff = feature_df[ii]\n",
    "    half = len(set(ff[(np.abs(ff['logFC']) >= 0.5)].Feature))\n",
    "    one = len(set(ff[(np.abs(ff['logFC']) >= 1)].Feature))\n",
    "    print(f\"\\nThere are {half} unique {feature_list[ii]} with abs(log2FC) >= 0.5\")\n",
    "    print(f\"There are {one} unique {feature_list[ii]} with abs(log2FC) >= 1\")"
   ]
  },
  {
   "cell_type": "code",
   "execution_count": 28,
   "metadata": {
    "execution": {
     "iopub.execute_input": "2023-02-21T00:04:39.723507Z",
     "iopub.status.busy": "2023-02-21T00:04:39.723303Z",
     "iopub.status.idle": "2023-02-21T00:04:39.731443Z",
     "shell.execute_reply": "2023-02-21T00:04:39.730913Z"
    }
   },
   "outputs": [
    {
     "name": "stdout",
     "output_type": "stream",
     "text": [
      "\n",
      "There are 58 unique Genes with abs(log2FC) >= 0.5\n",
      "There are 14 unique Genes with abs(log2FC) >= 1\n",
      "\n",
      "There are 110 unique Transcripts with abs(log2FC) >= 0.5\n",
      "There are 48 unique Transcripts with abs(log2FC) >= 1\n",
      "\n",
      "There are 65 unique Exons with abs(log2FC) >= 0.5\n",
      "There are 17 unique Exons with abs(log2FC) >= 1\n",
      "\n",
      "There are 3 unique Junctions with abs(log2FC) >= 0.5\n",
      "There are 3 unique Junctions with abs(log2FC) >= 1\n"
     ]
    }
   ],
   "source": [
    "feature_list = ['Genes', 'Transcripts', 'Exons', 'Junctions']\n",
    "feature_df = [genes, trans, exons, juncs]\n",
    "for ii in range(4):\n",
    "    ff = feature_df[ii]\n",
    "    half = len(set(ff[(np.abs(ff['logFC']) >= 0.5)].ensemblID))\n",
    "    one = len(set(ff[(np.abs(ff['logFC']) >= 1)].ensemblID))\n",
    "    print(f\"\\nThere are {half} unique {feature_list[ii]} with abs(log2FC) >= 0.5\")\n",
    "    print(f\"There are {one} unique {feature_list[ii]} with abs(log2FC) >= 1\")"
   ]
  },
  {
   "cell_type": "markdown",
   "metadata": {},
   "source": [
    "## Session information"
   ]
  },
  {
   "cell_type": "code",
   "execution_count": 29,
   "metadata": {
    "execution": {
     "iopub.execute_input": "2023-02-21T00:04:39.734470Z",
     "iopub.status.busy": "2023-02-21T00:04:39.734099Z",
     "iopub.status.idle": "2023-02-21T00:04:40.187645Z",
     "shell.execute_reply": "2023-02-21T00:04:40.187247Z"
    }
   },
   "outputs": [
    {
     "data": {
      "text/html": [
       "<details>\n",
       "<summary>Click to view session information</summary>\n",
       "<pre>\n",
       "-----\n",
       "numpy               1.24.2\n",
       "pandas              1.4.4\n",
       "pyhere              1.0.0\n",
       "session_info        1.0.0\n",
       "-----\n",
       "</pre>\n",
       "<details>\n",
       "<summary>Click to view modules imported as dependencies</summary>\n",
       "<pre>\n",
       "asttokens           NA\n",
       "backcall            0.2.0\n",
       "colorama            0.4.6\n",
       "cython_runtime      NA\n",
       "dateutil            2.8.2\n",
       "debugpy             1.6.3\n",
       "decorator           5.1.1\n",
       "entrypoints         0.4\n",
       "executing           1.0.0\n",
       "ipykernel           6.15.2\n",
       "ipython_genutils    0.2.0\n",
       "jaraco              NA\n",
       "jedi                0.18.1\n",
       "jupyter_server      1.18.1\n",
       "more_itertools      9.0.0\n",
       "mpl_toolkits        NA\n",
       "packaging           21.3\n",
       "parso               0.8.3\n",
       "pexpect             4.8.0\n",
       "pickleshare         0.7.5\n",
       "pkg_resources       NA\n",
       "platformdirs        2.6.2\n",
       "prompt_toolkit      3.0.31\n",
       "psutil              5.9.2\n",
       "ptyprocess          0.7.0\n",
       "pure_eval           0.2.2\n",
       "pydev_ipython       NA\n",
       "pydevconsole        NA\n",
       "pydevd              2.8.0\n",
       "pydevd_file_utils   NA\n",
       "pydevd_plugins      NA\n",
       "pydevd_tracing      NA\n",
       "pygments            2.13.0\n",
       "pyparsing           3.0.9\n",
       "pytz                2022.2.1\n",
       "ruamel              NA\n",
       "six                 1.16.0\n",
       "stack_data          0.5.0\n",
       "tornado             6.2\n",
       "traitlets           5.3.0\n",
       "wcwidth             0.2.5\n",
       "zmq                 23.2.1\n",
       "</pre>\n",
       "</details> <!-- seems like this ends pre, so might as well be explicit -->\n",
       "<pre>\n",
       "-----\n",
       "IPython             8.5.0\n",
       "jupyter_client      7.3.5\n",
       "jupyter_core        4.11.1\n",
       "jupyterlab          3.4.6\n",
       "notebook            6.4.12\n",
       "-----\n",
       "Python 3.10.9 (main, Dec 19 2022, 17:35:49) [GCC 12.2.0]\n",
       "Linux-6.1.12-arch1-1-x86_64-with-glibc2.37\n",
       "-----\n",
       "Session information updated at 2023-02-20 19:04\n",
       "</pre>\n",
       "</details>"
      ],
      "text/plain": [
       "<IPython.core.display.HTML object>"
      ]
     },
     "execution_count": 29,
     "metadata": {},
     "output_type": "execute_result"
    }
   ],
   "source": [
    "import session_info\n",
    "session_info.show()"
   ]
  }
 ],
 "metadata": {
  "kernelspec": {
   "display_name": "Python 3 (ipykernel)",
   "language": "python",
   "name": "python3"
  },
  "language_info": {
   "codemirror_mode": {
    "name": "ipython",
    "version": 3
   },
   "file_extension": ".py",
   "mimetype": "text/x-python",
   "name": "python",
   "nbconvert_exporter": "python",
   "pygments_lexer": "ipython3",
   "version": "3.10.9"
  }
 },
 "nbformat": 4,
 "nbformat_minor": 4
}
