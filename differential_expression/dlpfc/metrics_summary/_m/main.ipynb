{
 "cells": [
  {
   "cell_type": "markdown",
   "metadata": {},
   "source": [
    "# Feature summary of differential expression analysis"
   ]
  },
  {
   "cell_type": "code",
   "execution_count": 1,
   "metadata": {
    "execution": {
     "iopub.execute_input": "2021-08-02T14:00:59.283763Z",
     "iopub.status.busy": "2021-08-02T14:00:59.282126Z",
     "iopub.status.idle": "2021-08-02T14:00:59.589095Z",
     "shell.execute_reply": "2021-08-02T14:00:59.589595Z"
    }
   },
   "outputs": [],
   "source": [
    "import numpy as np\n",
    "import pandas as pd"
   ]
  },
  {
   "cell_type": "markdown",
   "metadata": {},
   "source": [
    "## Summary plots"
   ]
  },
  {
   "cell_type": "markdown",
   "metadata": {},
   "source": [
    "### Genes"
   ]
  },
  {
   "cell_type": "code",
   "execution_count": 2,
   "metadata": {
    "execution": {
     "iopub.execute_input": "2021-08-02T14:00:59.595792Z",
     "iopub.status.busy": "2021-08-02T14:00:59.594823Z",
     "iopub.status.idle": "2021-08-02T14:00:59.762290Z",
     "shell.execute_reply": "2021-08-02T14:00:59.763324Z"
    }
   },
   "outputs": [
    {
     "data": {
      "text/html": [
       "<div>\n",
       "<style scoped>\n",
       "    .dataframe tbody tr th:only-of-type {\n",
       "        vertical-align: middle;\n",
       "    }\n",
       "\n",
       "    .dataframe tbody tr th {\n",
       "        vertical-align: top;\n",
       "    }\n",
       "\n",
       "    .dataframe thead th {\n",
       "        text-align: right;\n",
       "    }\n",
       "</style>\n",
       "<table border=\"1\" class=\"dataframe\">\n",
       "  <thead>\n",
       "    <tr style=\"text-align: right;\">\n",
       "      <th></th>\n",
       "      <th>Feature</th>\n",
       "      <th>Symbol</th>\n",
       "      <th>ensemblID</th>\n",
       "      <th>logFC</th>\n",
       "      <th>adj.P.Val</th>\n",
       "      <th>Type</th>\n",
       "    </tr>\n",
       "  </thead>\n",
       "  <tbody>\n",
       "    <tr>\n",
       "      <th>ENSG00000226555.1</th>\n",
       "      <td>ENSG00000226555.1</td>\n",
       "      <td>AGKP1</td>\n",
       "      <td>ENSG00000226555</td>\n",
       "      <td>7.270752</td>\n",
       "      <td>1.837492e-256</td>\n",
       "      <td>gene</td>\n",
       "    </tr>\n",
       "    <tr>\n",
       "      <th>ENSG00000229236.1</th>\n",
       "      <td>ENSG00000229236.1</td>\n",
       "      <td>TTTY10</td>\n",
       "      <td>ENSG00000229236</td>\n",
       "      <td>7.417472</td>\n",
       "      <td>3.642704e-249</td>\n",
       "      <td>gene</td>\n",
       "    </tr>\n",
       "    <tr>\n",
       "      <th>ENSG00000176728.7</th>\n",
       "      <td>ENSG00000176728.7</td>\n",
       "      <td>TTTY14</td>\n",
       "      <td>ENSG00000176728</td>\n",
       "      <td>8.813730</td>\n",
       "      <td>1.140965e-247</td>\n",
       "      <td>gene</td>\n",
       "    </tr>\n",
       "    <tr>\n",
       "      <th>ENSG00000260197.1</th>\n",
       "      <td>ENSG00000260197.1</td>\n",
       "      <td>NaN</td>\n",
       "      <td>ENSG00000260197</td>\n",
       "      <td>7.018888</td>\n",
       "      <td>5.725810e-244</td>\n",
       "      <td>gene</td>\n",
       "    </tr>\n",
       "    <tr>\n",
       "      <th>ENSG00000241859.6</th>\n",
       "      <td>ENSG00000241859.6</td>\n",
       "      <td>ANOS2P</td>\n",
       "      <td>ENSG00000241859</td>\n",
       "      <td>7.637736</td>\n",
       "      <td>5.448917e-236</td>\n",
       "      <td>gene</td>\n",
       "    </tr>\n",
       "  </tbody>\n",
       "</table>\n",
       "</div>"
      ],
      "text/plain": [
       "                             Feature  Symbol        ensemblID     logFC  \\\n",
       "ENSG00000226555.1  ENSG00000226555.1   AGKP1  ENSG00000226555  7.270752   \n",
       "ENSG00000229236.1  ENSG00000229236.1  TTTY10  ENSG00000229236  7.417472   \n",
       "ENSG00000176728.7  ENSG00000176728.7  TTTY14  ENSG00000176728  8.813730   \n",
       "ENSG00000260197.1  ENSG00000260197.1     NaN  ENSG00000260197  7.018888   \n",
       "ENSG00000241859.6  ENSG00000241859.6  ANOS2P  ENSG00000241859  7.637736   \n",
       "\n",
       "                       adj.P.Val  Type  \n",
       "ENSG00000226555.1  1.837492e-256  gene  \n",
       "ENSG00000229236.1  3.642704e-249  gene  \n",
       "ENSG00000176728.7  1.140965e-247  gene  \n",
       "ENSG00000260197.1  5.725810e-244  gene  \n",
       "ENSG00000241859.6  5.448917e-236  gene  "
      ]
     },
     "execution_count": 1,
     "metadata": {},
     "output_type": "execute_result"
    }
   ],
   "source": [
    "genes = pd.read_csv('../../_m/genes/diffExpr_maleVfemale_full.txt', sep='\\t', index_col=0)\n",
    "genes = genes[(genes['adj.P.Val'] < 0.05)].sort_values('adj.P.Val')\n",
    "genes['Feature'] = genes.index\n",
    "genes = genes[['Feature', 'Symbol', 'ensemblID', 'logFC', 'adj.P.Val']]\n",
    "genes['Type'] = 'gene'\n",
    "genes.head()"
   ]
  },
  {
   "cell_type": "markdown",
   "metadata": {},
   "source": [
    "### Transcripts"
   ]
  },
  {
   "cell_type": "code",
   "execution_count": 3,
   "metadata": {
    "execution": {
     "iopub.execute_input": "2021-08-02T14:00:59.771075Z",
     "iopub.status.busy": "2021-08-02T14:00:59.769803Z",
     "iopub.status.idle": "2021-08-02T14:01:00.035838Z",
     "shell.execute_reply": "2021-08-02T14:01:00.036357Z"
    }
   },
   "outputs": [
    {
     "data": {
      "text/html": [
       "<div>\n",
       "<style scoped>\n",
       "    .dataframe tbody tr th:only-of-type {\n",
       "        vertical-align: middle;\n",
       "    }\n",
       "\n",
       "    .dataframe tbody tr th {\n",
       "        vertical-align: top;\n",
       "    }\n",
       "\n",
       "    .dataframe thead th {\n",
       "        text-align: right;\n",
       "    }\n",
       "</style>\n",
       "<table border=\"1\" class=\"dataframe\">\n",
       "  <thead>\n",
       "    <tr style=\"text-align: right;\">\n",
       "      <th></th>\n",
       "      <th>Feature</th>\n",
       "      <th>Symbol</th>\n",
       "      <th>ensemblID</th>\n",
       "      <th>logFC</th>\n",
       "      <th>adj.P.Val</th>\n",
       "      <th>Type</th>\n",
       "    </tr>\n",
       "  </thead>\n",
       "  <tbody>\n",
       "    <tr>\n",
       "      <th>ENST00000602495.1</th>\n",
       "      <td>ENST00000602495.1</td>\n",
       "      <td>XIST</td>\n",
       "      <td>ENSG00000229807</td>\n",
       "      <td>-7.899335</td>\n",
       "      <td>1.688898e-213</td>\n",
       "      <td>transcript</td>\n",
       "    </tr>\n",
       "    <tr>\n",
       "      <th>ENST00000440408.5</th>\n",
       "      <td>ENST00000440408.5</td>\n",
       "      <td>TTTY15</td>\n",
       "      <td>ENSG00000233864</td>\n",
       "      <td>6.571364</td>\n",
       "      <td>2.058171e-212</td>\n",
       "      <td>transcript</td>\n",
       "    </tr>\n",
       "    <tr>\n",
       "      <th>ENST00000429829.5</th>\n",
       "      <td>ENST00000429829.5</td>\n",
       "      <td>XIST</td>\n",
       "      <td>ENSG00000229807</td>\n",
       "      <td>-10.273385</td>\n",
       "      <td>2.101470e-212</td>\n",
       "      <td>transcript</td>\n",
       "    </tr>\n",
       "    <tr>\n",
       "      <th>ENST00000382872.5</th>\n",
       "      <td>ENST00000382872.5</td>\n",
       "      <td>NLGN4Y</td>\n",
       "      <td>ENSG00000165246</td>\n",
       "      <td>6.520316</td>\n",
       "      <td>1.372850e-206</td>\n",
       "      <td>transcript</td>\n",
       "    </tr>\n",
       "    <tr>\n",
       "      <th>ENST00000416330.1</th>\n",
       "      <td>ENST00000416330.1</td>\n",
       "      <td>XIST</td>\n",
       "      <td>ENSG00000229807</td>\n",
       "      <td>-7.752337</td>\n",
       "      <td>3.398175e-202</td>\n",
       "      <td>transcript</td>\n",
       "    </tr>\n",
       "  </tbody>\n",
       "</table>\n",
       "</div>"
      ],
      "text/plain": [
       "                             Feature  Symbol        ensemblID      logFC  \\\n",
       "ENST00000602495.1  ENST00000602495.1    XIST  ENSG00000229807  -7.899335   \n",
       "ENST00000440408.5  ENST00000440408.5  TTTY15  ENSG00000233864   6.571364   \n",
       "ENST00000429829.5  ENST00000429829.5    XIST  ENSG00000229807 -10.273385   \n",
       "ENST00000382872.5  ENST00000382872.5  NLGN4Y  ENSG00000165246   6.520316   \n",
       "ENST00000416330.1  ENST00000416330.1    XIST  ENSG00000229807  -7.752337   \n",
       "\n",
       "                       adj.P.Val        Type  \n",
       "ENST00000602495.1  1.688898e-213  transcript  \n",
       "ENST00000440408.5  2.058171e-212  transcript  \n",
       "ENST00000429829.5  2.101470e-212  transcript  \n",
       "ENST00000382872.5  1.372850e-206  transcript  \n",
       "ENST00000416330.1  3.398175e-202  transcript  "
      ]
     },
     "execution_count": 1,
     "metadata": {},
     "output_type": "execute_result"
    }
   ],
   "source": [
    "trans = pd.read_csv('../../_m/transcripts/diffExpr_maleVfemale_full.txt', sep='\\t', index_col=0)\n",
    "trans = trans[(trans['adj.P.Val'] < 0.05)].sort_values('adj.P.Val')\n",
    "trans['Feature'] = trans.index\n",
    "trans['ensemblID'] = trans.gene_id.str.replace('\\\\.\\d+', '', regex=True)\n",
    "trans = trans[['Feature', 'Symbol', 'ensemblID', 'logFC', 'adj.P.Val']]#.rename(columns={'gene_name': 'Symbol'})\n",
    "trans['Type'] = 'transcript'\n",
    "trans.head()"
   ]
  },
  {
   "cell_type": "markdown",
   "metadata": {},
   "source": [
    "### Exons"
   ]
  },
  {
   "cell_type": "code",
   "execution_count": 4,
   "metadata": {
    "execution": {
     "iopub.execute_input": "2021-08-02T14:01:00.041673Z",
     "iopub.status.busy": "2021-08-02T14:01:00.041004Z",
     "iopub.status.idle": "2021-08-02T14:01:01.524962Z",
     "shell.execute_reply": "2021-08-02T14:01:01.523656Z"
    }
   },
   "outputs": [
    {
     "data": {
      "text/html": [
       "<div>\n",
       "<style scoped>\n",
       "    .dataframe tbody tr th:only-of-type {\n",
       "        vertical-align: middle;\n",
       "    }\n",
       "\n",
       "    .dataframe tbody tr th {\n",
       "        vertical-align: top;\n",
       "    }\n",
       "\n",
       "    .dataframe thead th {\n",
       "        text-align: right;\n",
       "    }\n",
       "</style>\n",
       "<table border=\"1\" class=\"dataframe\">\n",
       "  <thead>\n",
       "    <tr style=\"text-align: right;\">\n",
       "      <th></th>\n",
       "      <th>Feature</th>\n",
       "      <th>Symbol</th>\n",
       "      <th>ensemblID</th>\n",
       "      <th>logFC</th>\n",
       "      <th>adj.P.Val</th>\n",
       "      <th>Type</th>\n",
       "    </tr>\n",
       "  </thead>\n",
       "  <tbody>\n",
       "    <tr>\n",
       "      <th>e1160404</th>\n",
       "      <td>e1160404</td>\n",
       "      <td>XIST</td>\n",
       "      <td>ENSG00000229807</td>\n",
       "      <td>-7.911385</td>\n",
       "      <td>4.092584e-247</td>\n",
       "      <td>exon</td>\n",
       "    </tr>\n",
       "    <tr>\n",
       "      <th>e1160425</th>\n",
       "      <td>e1160425</td>\n",
       "      <td>XIST</td>\n",
       "      <td>ENSG00000229807</td>\n",
       "      <td>-7.004742</td>\n",
       "      <td>8.243948e-241</td>\n",
       "      <td>exon</td>\n",
       "    </tr>\n",
       "    <tr>\n",
       "      <th>e1180839</th>\n",
       "      <td>e1180839</td>\n",
       "      <td>KDM5D</td>\n",
       "      <td>ENSG00000012817</td>\n",
       "      <td>8.771863</td>\n",
       "      <td>8.980414e-241</td>\n",
       "      <td>exon</td>\n",
       "    </tr>\n",
       "    <tr>\n",
       "      <th>e1160439</th>\n",
       "      <td>e1160439</td>\n",
       "      <td>XIST</td>\n",
       "      <td>ENSG00000229807</td>\n",
       "      <td>-8.113401</td>\n",
       "      <td>9.234178e-241</td>\n",
       "      <td>exon</td>\n",
       "    </tr>\n",
       "    <tr>\n",
       "      <th>e1180866</th>\n",
       "      <td>e1180866</td>\n",
       "      <td>KDM5D</td>\n",
       "      <td>ENSG00000012817</td>\n",
       "      <td>8.449606</td>\n",
       "      <td>9.234178e-241</td>\n",
       "      <td>exon</td>\n",
       "    </tr>\n",
       "  </tbody>\n",
       "</table>\n",
       "</div>"
      ],
      "text/plain": [
       "           Feature Symbol        ensemblID     logFC      adj.P.Val  Type\n",
       "e1160404  e1160404   XIST  ENSG00000229807 -7.911385  4.092584e-247  exon\n",
       "e1160425  e1160425   XIST  ENSG00000229807 -7.004742  8.243948e-241  exon\n",
       "e1180839  e1180839  KDM5D  ENSG00000012817  8.771863  8.980414e-241  exon\n",
       "e1160439  e1160439   XIST  ENSG00000229807 -8.113401  9.234178e-241  exon\n",
       "e1180866  e1180866  KDM5D  ENSG00000012817  8.449606  9.234178e-241  exon"
      ]
     },
     "execution_count": 1,
     "metadata": {},
     "output_type": "execute_result"
    }
   ],
   "source": [
    "exons = pd.read_csv('../../_m/exons/diffExpr_maleVfemale_full.txt', sep='\\t', index_col=0)\n",
    "exons = exons[(exons['adj.P.Val'] < 0.05)].sort_values('adj.P.Val')\n",
    "exons['Feature'] = exons.index\n",
    "exons = exons[['Feature', 'Symbol', 'ensemblID', 'logFC', 'adj.P.Val']]\n",
    "exons['Type'] = 'exon'\n",
    "exons.head()"
   ]
  },
  {
   "cell_type": "markdown",
   "metadata": {},
   "source": [
    "### Junctions"
   ]
  },
  {
   "cell_type": "code",
   "execution_count": 5,
   "metadata": {
    "execution": {
     "iopub.execute_input": "2021-08-02T14:01:01.533457Z",
     "iopub.status.busy": "2021-08-02T14:01:01.532225Z",
     "iopub.status.idle": "2021-08-02T14:01:02.671989Z",
     "shell.execute_reply": "2021-08-02T14:01:02.670656Z"
    }
   },
   "outputs": [
    {
     "data": {
      "text/html": [
       "<div>\n",
       "<style scoped>\n",
       "    .dataframe tbody tr th:only-of-type {\n",
       "        vertical-align: middle;\n",
       "    }\n",
       "\n",
       "    .dataframe tbody tr th {\n",
       "        vertical-align: top;\n",
       "    }\n",
       "\n",
       "    .dataframe thead th {\n",
       "        text-align: right;\n",
       "    }\n",
       "</style>\n",
       "<table border=\"1\" class=\"dataframe\">\n",
       "  <thead>\n",
       "    <tr style=\"text-align: right;\">\n",
       "      <th></th>\n",
       "      <th>Feature</th>\n",
       "      <th>Symbol</th>\n",
       "      <th>ensemblID</th>\n",
       "      <th>logFC</th>\n",
       "      <th>adj.P.Val</th>\n",
       "      <th>Type</th>\n",
       "    </tr>\n",
       "  </thead>\n",
       "  <tbody>\n",
       "    <tr>\n",
       "      <th>chrX:73833375-73837439(-)</th>\n",
       "      <td>chrX:73833375-73837439(-)</td>\n",
       "      <td>XIST</td>\n",
       "      <td>ENSG00000229807</td>\n",
       "      <td>-8.206159</td>\n",
       "      <td>1.174942e-221</td>\n",
       "      <td>junction</td>\n",
       "    </tr>\n",
       "    <tr>\n",
       "      <th>chrX:73831275-73833237(-)</th>\n",
       "      <td>chrX:73831275-73833237(-)</td>\n",
       "      <td>XIST</td>\n",
       "      <td>ENSG00000229807</td>\n",
       "      <td>-8.941121</td>\n",
       "      <td>1.930993e-215</td>\n",
       "      <td>junction</td>\n",
       "    </tr>\n",
       "    <tr>\n",
       "      <th>chrX:73827985-73829067(-)</th>\n",
       "      <td>chrX:73827985-73829067(-)</td>\n",
       "      <td>XIST</td>\n",
       "      <td>ENSG00000229807</td>\n",
       "      <td>-8.126867</td>\n",
       "      <td>2.239959e-208</td>\n",
       "      <td>junction</td>\n",
       "    </tr>\n",
       "    <tr>\n",
       "      <th>chrX:73822217-73826114(-)</th>\n",
       "      <td>chrX:73822217-73826114(-)</td>\n",
       "      <td>XIST</td>\n",
       "      <td>ENSG00000229807</td>\n",
       "      <td>-6.282980</td>\n",
       "      <td>4.678196e-206</td>\n",
       "      <td>junction</td>\n",
       "    </tr>\n",
       "    <tr>\n",
       "      <th>chrX:73829232-73831065(-)</th>\n",
       "      <td>chrX:73829232-73831065(-)</td>\n",
       "      <td>XIST</td>\n",
       "      <td>ENSG00000229807</td>\n",
       "      <td>-8.995840</td>\n",
       "      <td>1.985000e-205</td>\n",
       "      <td>junction</td>\n",
       "    </tr>\n",
       "  </tbody>\n",
       "</table>\n",
       "</div>"
      ],
      "text/plain": [
       "                                             Feature Symbol        ensemblID  \\\n",
       "chrX:73833375-73837439(-)  chrX:73833375-73837439(-)   XIST  ENSG00000229807   \n",
       "chrX:73831275-73833237(-)  chrX:73831275-73833237(-)   XIST  ENSG00000229807   \n",
       "chrX:73827985-73829067(-)  chrX:73827985-73829067(-)   XIST  ENSG00000229807   \n",
       "chrX:73822217-73826114(-)  chrX:73822217-73826114(-)   XIST  ENSG00000229807   \n",
       "chrX:73829232-73831065(-)  chrX:73829232-73831065(-)   XIST  ENSG00000229807   \n",
       "\n",
       "                              logFC      adj.P.Val      Type  \n",
       "chrX:73833375-73837439(-) -8.206159  1.174942e-221  junction  \n",
       "chrX:73831275-73833237(-) -8.941121  1.930993e-215  junction  \n",
       "chrX:73827985-73829067(-) -8.126867  2.239959e-208  junction  \n",
       "chrX:73822217-73826114(-) -6.282980  4.678196e-206  junction  \n",
       "chrX:73829232-73831065(-) -8.995840  1.985000e-205  junction  "
      ]
     },
     "execution_count": 1,
     "metadata": {},
     "output_type": "execute_result"
    }
   ],
   "source": [
    "juncs = pd.read_csv('../../_m/junctions/diffExpr_maleVfemale_full.txt', sep='\\t', index_col=0)\n",
    "juncs = juncs[(juncs['adj.P.Val'] < 0.05)].sort_values('adj.P.Val')\n",
    "juncs['Feature'] = juncs.index\n",
    "juncs = juncs[['Feature', 'Symbol', 'ensemblID', 'logFC', 'adj.P.Val']]\n",
    "juncs['Type'] = 'junction'\n",
    "juncs.head()"
   ]
  },
  {
   "cell_type": "markdown",
   "metadata": {},
   "source": [
    "## DE summary"
   ]
  },
  {
   "cell_type": "markdown",
   "metadata": {},
   "source": [
    "### DE (feature)"
   ]
  },
  {
   "cell_type": "code",
   "execution_count": 6,
   "metadata": {
    "execution": {
     "iopub.execute_input": "2021-08-02T14:01:02.682569Z",
     "iopub.status.busy": "2021-08-02T14:01:02.681091Z",
     "iopub.status.idle": "2021-08-02T14:01:02.689811Z",
     "shell.execute_reply": "2021-08-02T14:01:02.688697Z"
    }
   },
   "outputs": [
    {
     "name": "stdout",
     "output_type": "stream",
     "text": [
      "\n",
      "Gene:\t\t573\n",
      "Transcript:\t422\n",
      "Exon:\t\t3566\n",
      "Junction:\t1809\n"
     ]
    }
   ],
   "source": [
    "gg = len(set(genes['Feature']))\n",
    "tt = len(set(trans['Feature']))\n",
    "ee = len(set(exons['Feature']))\n",
    "jj = len(set(juncs['Feature']))\n",
    "\n",
    "print(\"\\nGene:\\t\\t%d\\nTranscript:\\t%d\\nExon:\\t\\t%d\\nJunction:\\t%d\" % (gg, tt, ee, jj)) "
   ]
  },
  {
   "cell_type": "markdown",
   "metadata": {},
   "source": [
    "#### DE (EnsemblID)"
   ]
  },
  {
   "cell_type": "code",
   "execution_count": 7,
   "metadata": {
    "execution": {
     "iopub.execute_input": "2021-08-02T14:01:02.699990Z",
     "iopub.status.busy": "2021-08-02T14:01:02.698483Z",
     "iopub.status.idle": "2021-08-02T14:01:02.703422Z",
     "shell.execute_reply": "2021-08-02T14:01:02.704459Z"
    }
   },
   "outputs": [
    {
     "name": "stdout",
     "output_type": "stream",
     "text": [
      "\n",
      "Gene:\t\t573\n",
      "Transcript:\t288\n",
      "Exon:\t\t901\n",
      "Junction:\t700\n"
     ]
    }
   ],
   "source": [
    "gg = len(set(genes['ensemblID']))\n",
    "tt = len(set(trans['ensemblID']))\n",
    "ee = len(set(exons['ensemblID']))\n",
    "jj = len(set(juncs['ensemblID']))\n",
    "\n",
    "print(\"\\nGene:\\t\\t%d\\nTranscript:\\t%d\\nExon:\\t\\t%d\\nJunction:\\t%d\" % (gg, tt, ee, jj)) "
   ]
  },
  {
   "cell_type": "markdown",
   "metadata": {},
   "source": [
    "#### DE (Gene Symbol)"
   ]
  },
  {
   "cell_type": "code",
   "execution_count": 8,
   "metadata": {
    "execution": {
     "iopub.execute_input": "2021-08-02T14:01:02.714259Z",
     "iopub.status.busy": "2021-08-02T14:01:02.712818Z",
     "iopub.status.idle": "2021-08-02T14:01:02.717695Z",
     "shell.execute_reply": "2021-08-02T14:01:02.718753Z"
    }
   },
   "outputs": [
    {
     "name": "stdout",
     "output_type": "stream",
     "text": [
      "\n",
      "Gene:\t\t510\n",
      "Transcript:\t288\n",
      "Exon:\t\t840\n",
      "Junction:\t700\n"
     ]
    }
   ],
   "source": [
    "gg = len(set(genes['Symbol']))\n",
    "tt = len(set(trans['Symbol']))\n",
    "ee = len(set(exons['Symbol']))\n",
    "jj = len(set(juncs['Symbol']))\n",
    "\n",
    "print(\"\\nGene:\\t\\t%d\\nTranscript:\\t%d\\nExon:\\t\\t%d\\nJunction:\\t%d\" % (gg, tt, ee, jj)) "
   ]
  },
  {
   "cell_type": "markdown",
   "metadata": {},
   "source": [
    "### Feature effect size summary"
   ]
  },
  {
   "cell_type": "code",
   "execution_count": 9,
   "metadata": {
    "execution": {
     "iopub.execute_input": "2021-08-02T14:01:02.735600Z",
     "iopub.status.busy": "2021-08-02T14:01:02.732427Z",
     "iopub.status.idle": "2021-08-02T14:01:02.747485Z",
     "shell.execute_reply": "2021-08-02T14:01:02.746373Z"
    }
   },
   "outputs": [
    {
     "name": "stdout",
     "output_type": "stream",
     "text": [
      "\n",
      "There are 67 unique Genes with abs(log2FC) >= 0.5\n",
      "There are 31 unique Genes with abs(log2FC) >= 1\n",
      "\n",
      "There are 223 unique Transcript with abs(log2FC) >= 0.5\n",
      "There are 142 unique Transcript with abs(log2FC) >= 1\n",
      "\n",
      "There are 767 unique Exons with abs(log2FC) >= 0.5\n",
      "There are 394 unique Exons with abs(log2FC) >= 1\n",
      "\n",
      "There are 479 unique Junctions with abs(log2FC) >= 0.5\n",
      "There are 220 unique Junctions with abs(log2FC) >= 1\n"
     ]
    }
   ],
   "source": [
    "feature_list = ['Genes', 'Transcript', 'Exons', 'Junctions']\n",
    "feature_df = [genes, trans, exons, juncs]\n",
    "for ii in range(4):\n",
    "    ff = feature_df[ii]\n",
    "    half = len(set(ff[(np.abs(ff['logFC']) >= 0.5)].Feature))\n",
    "    one = len(set(ff[(np.abs(ff['logFC']) >= 1)].Feature))\n",
    "    print(\"\\nThere are %d unique %s with abs(log2FC) >= 0.5\" % (half, feature_list[ii]))\n",
    "    print(\"There are %d unique %s with abs(log2FC) >= 1\" % (one, feature_list[ii]))"
   ]
  },
  {
   "cell_type": "code",
   "execution_count": 10,
   "metadata": {
    "execution": {
     "iopub.execute_input": "2021-08-02T14:01:02.758598Z",
     "iopub.status.busy": "2021-08-02T14:01:02.757002Z",
     "iopub.status.idle": "2021-08-02T14:01:02.770178Z",
     "shell.execute_reply": "2021-08-02T14:01:02.768960Z"
    }
   },
   "outputs": [
    {
     "name": "stdout",
     "output_type": "stream",
     "text": [
      "\n",
      "There are 67 unique Genes with abs(log2FC) >= 0.5\n",
      "There are 31 unique Genes with abs(log2FC) >= 1\n",
      "\n",
      "There are 120 unique Transcripts with abs(log2FC) >= 0.5\n",
      "There are 72 unique Transcripts with abs(log2FC) >= 1\n",
      "\n",
      "There are 76 unique Exons with abs(log2FC) >= 0.5\n",
      "There are 32 unique Exons with abs(log2FC) >= 1\n",
      "\n",
      "There are 59 unique Junctions with abs(log2FC) >= 0.5\n",
      "There are 22 unique Junctions with abs(log2FC) >= 1\n"
     ]
    }
   ],
   "source": [
    "feature_list = ['Genes', 'Transcripts', 'Exons', 'Junctions']\n",
    "feature_df = [genes, trans, exons, juncs]\n",
    "for ii in range(4):\n",
    "    ff = feature_df[ii]\n",
    "    half = len(set(ff[(np.abs(ff['logFC']) >= 0.5)].ensemblID))\n",
    "    one = len(set(ff[(np.abs(ff['logFC']) >= 1)].ensemblID))\n",
    "    print(\"\\nThere are %d unique %s with abs(log2FC) >= 0.5\" % (half, feature_list[ii]))\n",
    "    print(\"There are %d unique %s with abs(log2FC) >= 1\" % (one, feature_list[ii]))"
   ]
  },
  {
   "cell_type": "markdown",
   "metadata": {},
   "source": [
    "## Autosomal only"
   ]
  },
  {
   "cell_type": "code",
   "execution_count": 11,
   "metadata": {
    "execution": {
     "iopub.execute_input": "2021-08-02T14:01:02.777090Z",
     "iopub.status.busy": "2021-08-02T14:01:02.775853Z",
     "iopub.status.idle": "2021-08-02T14:01:02.793557Z",
     "shell.execute_reply": "2021-08-02T14:01:02.792427Z"
    }
   },
   "outputs": [],
   "source": [
    "import functools\n",
    "from gtfparse import read_gtf"
   ]
  },
  {
   "cell_type": "code",
   "execution_count": 12,
   "metadata": {
    "execution": {
     "iopub.execute_input": "2021-08-02T14:01:02.803192Z",
     "iopub.status.busy": "2021-08-02T14:01:02.801470Z",
     "iopub.status.idle": "2021-08-02T14:01:02.805495Z",
     "shell.execute_reply": "2021-08-02T14:01:02.806483Z"
    }
   },
   "outputs": [],
   "source": [
    "@functools.lru_cache()\n",
    "def get_gtf(gtf_file):\n",
    "    return read_gtf(gtf_file)\n"
   ]
  },
  {
   "cell_type": "code",
   "execution_count": 13,
   "metadata": {
    "execution": {
     "iopub.execute_input": "2021-08-02T14:01:02.817008Z",
     "iopub.status.busy": "2021-08-02T14:01:02.815373Z",
     "iopub.status.idle": "2021-08-02T14:01:02.819316Z",
     "shell.execute_reply": "2021-08-02T14:01:02.820290Z"
    }
   },
   "outputs": [],
   "source": [
    "def gene_annotation(gtf_file, feature):\n",
    "    gtf0 = get_gtf(gtf_file)\n",
    "    gtf = gtf0[gtf0[\"feature\"] == feature]\n",
    "    return gtf[[\"gene_id\", \"gene_name\", \"transcript_id\", \"exon_id\", \"gene_type\", \"seqname\", \"start\", \"end\", \"strand\"]]"
   ]
  },
  {
   "cell_type": "code",
   "execution_count": 14,
   "metadata": {
    "execution": {
     "iopub.execute_input": "2021-08-02T14:01:02.829192Z",
     "iopub.status.busy": "2021-08-02T14:01:02.827499Z",
     "iopub.status.idle": "2021-08-02T14:01:02.832342Z",
     "shell.execute_reply": "2021-08-02T14:01:02.831060Z"
    }
   },
   "outputs": [],
   "source": [
    "gtf_file = '/ceph/genome/human/gencode25/gtf.CHR/_m/gencode.v25.annotation.gtf'"
   ]
  },
  {
   "cell_type": "markdown",
   "metadata": {},
   "source": [
    "### Genes"
   ]
  },
  {
   "cell_type": "code",
   "execution_count": 15,
   "metadata": {
    "execution": {
     "iopub.execute_input": "2021-08-02T14:01:02.846956Z",
     "iopub.status.busy": "2021-08-02T14:01:02.845706Z",
     "iopub.status.idle": "2021-08-02T14:02:19.251394Z",
     "shell.execute_reply": "2021-08-02T14:02:19.252471Z"
    }
   },
   "outputs": [
    {
     "name": "stderr",
     "output_type": "stream",
     "text": [
      "INFO:root:Extracted GTF attributes: ['gene_id', 'gene_type', 'gene_status', 'gene_name', 'level', 'havana_gene', 'transcript_id', 'transcript_type', 'transcript_status', 'transcript_name', 'transcript_support_level', 'tag', 'havana_transcript', 'exon_number', 'exon_id', 'ont', 'protein_id', 'ccdsid']\n"
     ]
    },
    {
     "data": {
      "text/html": [
       "<div>\n",
       "<style scoped>\n",
       "    .dataframe tbody tr th:only-of-type {\n",
       "        vertical-align: middle;\n",
       "    }\n",
       "\n",
       "    .dataframe tbody tr th {\n",
       "        vertical-align: top;\n",
       "    }\n",
       "\n",
       "    .dataframe thead th {\n",
       "        text-align: right;\n",
       "    }\n",
       "</style>\n",
       "<table border=\"1\" class=\"dataframe\">\n",
       "  <thead>\n",
       "    <tr style=\"text-align: right;\">\n",
       "      <th></th>\n",
       "      <th>Feature</th>\n",
       "      <th>chr</th>\n",
       "      <th>Symbol</th>\n",
       "      <th>ensemblID</th>\n",
       "      <th>logFC</th>\n",
       "      <th>adj.P.Val</th>\n",
       "      <th>Type</th>\n",
       "    </tr>\n",
       "  </thead>\n",
       "  <tbody>\n",
       "    <tr>\n",
       "      <th>37</th>\n",
       "      <td>ENSG00000205611.4</td>\n",
       "      <td>chr20</td>\n",
       "      <td>LINC01597</td>\n",
       "      <td>ENSG00000205611</td>\n",
       "      <td>1.219798</td>\n",
       "      <td>8.648719e-19</td>\n",
       "      <td>gene</td>\n",
       "    </tr>\n",
       "    <tr>\n",
       "      <th>40</th>\n",
       "      <td>ENSG00000149531.15</td>\n",
       "      <td>chr20</td>\n",
       "      <td>FRG1BP</td>\n",
       "      <td>ENSG00000149531</td>\n",
       "      <td>0.683514</td>\n",
       "      <td>9.850828e-17</td>\n",
       "      <td>gene</td>\n",
       "    </tr>\n",
       "    <tr>\n",
       "      <th>41</th>\n",
       "      <td>ENSG00000115297.10</td>\n",
       "      <td>chr2</td>\n",
       "      <td>TLX2</td>\n",
       "      <td>ENSG00000115297</td>\n",
       "      <td>-0.952295</td>\n",
       "      <td>1.621359e-15</td>\n",
       "      <td>gene</td>\n",
       "    </tr>\n",
       "    <tr>\n",
       "      <th>42</th>\n",
       "      <td>ENSG00000283443.1</td>\n",
       "      <td>chr20</td>\n",
       "      <td>NaN</td>\n",
       "      <td>ENSG00000283443</td>\n",
       "      <td>1.311288</td>\n",
       "      <td>6.869947e-15</td>\n",
       "      <td>gene</td>\n",
       "    </tr>\n",
       "    <tr>\n",
       "      <th>44</th>\n",
       "      <td>ENSG00000255346.9</td>\n",
       "      <td>chr15</td>\n",
       "      <td>NOX5</td>\n",
       "      <td>ENSG00000255346</td>\n",
       "      <td>0.915333</td>\n",
       "      <td>2.464554e-14</td>\n",
       "      <td>gene</td>\n",
       "    </tr>\n",
       "  </tbody>\n",
       "</table>\n",
       "</div>"
      ],
      "text/plain": [
       "               Feature    chr     Symbol        ensemblID     logFC  \\\n",
       "37   ENSG00000205611.4  chr20  LINC01597  ENSG00000205611  1.219798   \n",
       "40  ENSG00000149531.15  chr20     FRG1BP  ENSG00000149531  0.683514   \n",
       "41  ENSG00000115297.10   chr2       TLX2  ENSG00000115297 -0.952295   \n",
       "42   ENSG00000283443.1  chr20        NaN  ENSG00000283443  1.311288   \n",
       "44   ENSG00000255346.9  chr15       NOX5  ENSG00000255346  0.915333   \n",
       "\n",
       "       adj.P.Val  Type  \n",
       "37  8.648719e-19  gene  \n",
       "40  9.850828e-17  gene  \n",
       "41  1.621359e-15  gene  \n",
       "42  6.869947e-15  gene  \n",
       "44  2.464554e-14  gene  "
      ]
     },
     "execution_count": 1,
     "metadata": {},
     "output_type": "execute_result"
    }
   ],
   "source": [
    "gtf_annot = gene_annotation(gtf_file, 'gene')\n",
    "\n",
    "genes = pd.read_csv('../../_m/genes/diffExpr_maleVfemale_full.txt', sep='\\t', index_col=0)\n",
    "genes = genes[(genes['adj.P.Val'] < 0.05)].sort_values('adj.P.Val')\n",
    "genes['Feature'] = genes.index\n",
    "genes = pd.merge(gtf_annot[['gene_id', 'seqname']], genes, left_on='gene_id', right_on='Feature', how='right')\n",
    "genes.loc[:, 'seqname'] = genes.seqname.fillna('chr?')\n",
    "genes.sort_values('adj.P.Val').to_csv('chrom_annotation_genes.txt', sep='\\t', index=False)\n",
    "genes = genes[(genes.seqname.str.contains('chr\\d+')) | (genes['seqname'] == 'chr?')].copy().rename(columns={'seqname': 'chr'})\n",
    "genes = genes[['Feature', 'chr', 'Symbol', 'ensemblID', 'logFC', 'adj.P.Val']]\n",
    "genes['Type'] = 'gene'\n",
    "genes.head()"
   ]
  },
  {
   "cell_type": "code",
   "execution_count": 16,
   "metadata": {
    "execution": {
     "iopub.execute_input": "2021-08-02T14:02:19.264004Z",
     "iopub.status.busy": "2021-08-02T14:02:19.263055Z",
     "iopub.status.idle": "2021-08-02T14:02:19.268517Z",
     "shell.execute_reply": "2021-08-02T14:02:19.267987Z"
    }
   },
   "outputs": [
    {
     "data": {
      "text/html": [
       "<div>\n",
       "<style scoped>\n",
       "    .dataframe tbody tr th:only-of-type {\n",
       "        vertical-align: middle;\n",
       "    }\n",
       "\n",
       "    .dataframe tbody tr th {\n",
       "        vertical-align: top;\n",
       "    }\n",
       "\n",
       "    .dataframe thead th {\n",
       "        text-align: right;\n",
       "    }\n",
       "</style>\n",
       "<table border=\"1\" class=\"dataframe\">\n",
       "  <thead>\n",
       "    <tr style=\"text-align: right;\">\n",
       "      <th></th>\n",
       "      <th>Feature</th>\n",
       "      <th>chr</th>\n",
       "      <th>Symbol</th>\n",
       "      <th>ensemblID</th>\n",
       "      <th>logFC</th>\n",
       "      <th>adj.P.Val</th>\n",
       "      <th>Type</th>\n",
       "    </tr>\n",
       "  </thead>\n",
       "  <tbody>\n",
       "  </tbody>\n",
       "</table>\n",
       "</div>"
      ],
      "text/plain": [
       "Empty DataFrame\n",
       "Columns: [Feature, chr, Symbol, ensemblID, logFC, adj.P.Val, Type]\n",
       "Index: []"
      ]
     },
     "execution_count": 1,
     "metadata": {},
     "output_type": "execute_result"
    }
   ],
   "source": [
    "genes[(genes.chr == 'chr?')]"
   ]
  },
  {
   "cell_type": "markdown",
   "metadata": {},
   "source": [
    "### Annotate unknown by hand\n",
    "There are none."
   ]
  },
  {
   "cell_type": "code",
   "execution_count": 17,
   "metadata": {
    "execution": {
     "iopub.execute_input": "2021-08-02T14:02:19.272850Z",
     "iopub.status.busy": "2021-08-02T14:02:19.272258Z",
     "iopub.status.idle": "2021-08-02T14:02:19.280833Z",
     "shell.execute_reply": "2021-08-02T14:02:19.281324Z"
    }
   },
   "outputs": [
    {
     "data": {
      "text/plain": [
       "(481, 7)"
      ]
     },
     "execution_count": 1,
     "metadata": {},
     "output_type": "execute_result"
    }
   ],
   "source": [
    "#genes = genes[~(genes['Symbol'].isin(['NLGN4Y', 'JPX', 'PCDH11X', 'GABRE']))]\n",
    "genes.to_csv('autosomal_DEG.csv', index=False, header=True)\n",
    "genes.shape"
   ]
  },
  {
   "cell_type": "code",
   "execution_count": 18,
   "metadata": {
    "execution": {
     "iopub.execute_input": "2021-08-02T14:02:19.286972Z",
     "iopub.status.busy": "2021-08-02T14:02:19.286372Z",
     "iopub.status.idle": "2021-08-02T14:02:19.293615Z",
     "shell.execute_reply": "2021-08-02T14:02:19.294649Z"
    }
   },
   "outputs": [
    {
     "data": {
      "text/plain": [
       "(481, 7)"
      ]
     },
     "execution_count": 1,
     "metadata": {},
     "output_type": "execute_result"
    }
   ],
   "source": [
    "genes.groupby('ensemblID').first().reset_index().shape"
   ]
  },
  {
   "cell_type": "markdown",
   "metadata": {},
   "source": [
    "### Transcripts"
   ]
  },
  {
   "cell_type": "code",
   "execution_count": 19,
   "metadata": {
    "execution": {
     "iopub.execute_input": "2021-08-02T14:02:19.456578Z",
     "iopub.status.busy": "2021-08-02T14:02:19.455852Z",
     "iopub.status.idle": "2021-08-02T14:02:19.881406Z",
     "shell.execute_reply": "2021-08-02T14:02:19.880862Z"
    }
   },
   "outputs": [
    {
     "data": {
      "text/html": [
       "<div>\n",
       "<style scoped>\n",
       "    .dataframe tbody tr th:only-of-type {\n",
       "        vertical-align: middle;\n",
       "    }\n",
       "\n",
       "    .dataframe tbody tr th {\n",
       "        vertical-align: top;\n",
       "    }\n",
       "\n",
       "    .dataframe thead th {\n",
       "        text-align: right;\n",
       "    }\n",
       "</style>\n",
       "<table border=\"1\" class=\"dataframe\">\n",
       "  <thead>\n",
       "    <tr style=\"text-align: right;\">\n",
       "      <th></th>\n",
       "      <th>Feature</th>\n",
       "      <th>chr</th>\n",
       "      <th>Symbol</th>\n",
       "      <th>ensemblID</th>\n",
       "      <th>logFC</th>\n",
       "      <th>adj.P.Val</th>\n",
       "      <th>Type</th>\n",
       "    </tr>\n",
       "  </thead>\n",
       "  <tbody>\n",
       "    <tr>\n",
       "      <th>ENST00000380888.4</th>\n",
       "      <td>ENST00000380888.4</td>\n",
       "      <td>chr20</td>\n",
       "      <td>LINC01597</td>\n",
       "      <td>ENSG00000205611</td>\n",
       "      <td>0.836047</td>\n",
       "      <td>1.484265e-18</td>\n",
       "      <td>transcript</td>\n",
       "    </tr>\n",
       "    <tr>\n",
       "      <th>ENST00000612308.1</th>\n",
       "      <td>ENST00000612308.1</td>\n",
       "      <td>chr9</td>\n",
       "      <td>FAM27D1</td>\n",
       "      <td>ENSG00000275493</td>\n",
       "      <td>1.186090</td>\n",
       "      <td>1.450234e-16</td>\n",
       "      <td>transcript</td>\n",
       "    </tr>\n",
       "    <tr>\n",
       "      <th>ENST00000608279.1</th>\n",
       "      <td>ENST00000608279.1</td>\n",
       "      <td>chr2</td>\n",
       "      <td>RP11-725P16.2</td>\n",
       "      <td>ENSG00000272769</td>\n",
       "      <td>0.768117</td>\n",
       "      <td>7.144517e-16</td>\n",
       "      <td>transcript</td>\n",
       "    </tr>\n",
       "    <tr>\n",
       "      <th>ENST00000636528.1</th>\n",
       "      <td>ENST00000636528.1</td>\n",
       "      <td>chr20</td>\n",
       "      <td>RP11-462H3.2</td>\n",
       "      <td>ENSG00000283443</td>\n",
       "      <td>1.324363</td>\n",
       "      <td>1.157931e-13</td>\n",
       "      <td>transcript</td>\n",
       "    </tr>\n",
       "    <tr>\n",
       "      <th>ENST00000606017.1</th>\n",
       "      <td>ENST00000606017.1</td>\n",
       "      <td>chr6</td>\n",
       "      <td>CD24</td>\n",
       "      <td>ENSG00000272398</td>\n",
       "      <td>0.462742</td>\n",
       "      <td>3.505786e-13</td>\n",
       "      <td>transcript</td>\n",
       "    </tr>\n",
       "  </tbody>\n",
       "</table>\n",
       "</div>"
      ],
      "text/plain": [
       "                             Feature    chr         Symbol        ensemblID  \\\n",
       "ENST00000380888.4  ENST00000380888.4  chr20      LINC01597  ENSG00000205611   \n",
       "ENST00000612308.1  ENST00000612308.1   chr9        FAM27D1  ENSG00000275493   \n",
       "ENST00000608279.1  ENST00000608279.1   chr2  RP11-725P16.2  ENSG00000272769   \n",
       "ENST00000636528.1  ENST00000636528.1  chr20   RP11-462H3.2  ENSG00000283443   \n",
       "ENST00000606017.1  ENST00000606017.1   chr6           CD24  ENSG00000272398   \n",
       "\n",
       "                      logFC     adj.P.Val        Type  \n",
       "ENST00000380888.4  0.836047  1.484265e-18  transcript  \n",
       "ENST00000612308.1  1.186090  1.450234e-16  transcript  \n",
       "ENST00000608279.1  0.768117  7.144517e-16  transcript  \n",
       "ENST00000636528.1  1.324363  1.157931e-13  transcript  \n",
       "ENST00000606017.1  0.462742  3.505786e-13  transcript  "
      ]
     },
     "execution_count": 1,
     "metadata": {},
     "output_type": "execute_result"
    }
   ],
   "source": [
    "gtf_annot = gene_annotation(gtf_file, 'transcript')\n",
    "\n",
    "trans = pd.read_csv('../../_m/transcripts/diffExpr_maleVfemale_full.txt', sep='\\t', index_col=0)\n",
    "trans = trans[(trans['adj.P.Val'] < 0.05)].sort_values('adj.P.Val')\n",
    "trans.loc[:, 'Feature'] = trans.index\n",
    "trans.loc[:, 'ensemblID'] = trans.gene_id.str.replace('\\\\.\\d+', '', regex=True)\n",
    "trans = trans[(trans.chr.str.contains('chr\\d+'))].copy()\n",
    "trans = trans[['Feature', 'chr', 'Symbol', 'ensemblID', 'logFC', 'adj.P.Val']]#.rename(columns={'gene_name': 'Symbol'})\n",
    "trans['Type'] = 'transcript'\n",
    "trans.head()"
   ]
  },
  {
   "cell_type": "code",
   "execution_count": 20,
   "metadata": {
    "execution": {
     "iopub.execute_input": "2021-08-02T14:02:19.893068Z",
     "iopub.status.busy": "2021-08-02T14:02:19.887357Z",
     "iopub.status.idle": "2021-08-02T14:02:19.895529Z",
     "shell.execute_reply": "2021-08-02T14:02:19.896020Z"
    }
   },
   "outputs": [
    {
     "data": {
      "text/html": [
       "<div>\n",
       "<style scoped>\n",
       "    .dataframe tbody tr th:only-of-type {\n",
       "        vertical-align: middle;\n",
       "    }\n",
       "\n",
       "    .dataframe tbody tr th {\n",
       "        vertical-align: top;\n",
       "    }\n",
       "\n",
       "    .dataframe thead th {\n",
       "        text-align: right;\n",
       "    }\n",
       "</style>\n",
       "<table border=\"1\" class=\"dataframe\">\n",
       "  <thead>\n",
       "    <tr style=\"text-align: right;\">\n",
       "      <th></th>\n",
       "      <th>Feature</th>\n",
       "      <th>chr</th>\n",
       "      <th>Symbol</th>\n",
       "      <th>ensemblID</th>\n",
       "      <th>logFC</th>\n",
       "      <th>adj.P.Val</th>\n",
       "      <th>Type</th>\n",
       "    </tr>\n",
       "  </thead>\n",
       "  <tbody>\n",
       "  </tbody>\n",
       "</table>\n",
       "</div>"
      ],
      "text/plain": [
       "Empty DataFrame\n",
       "Columns: [Feature, chr, Symbol, ensemblID, logFC, adj.P.Val, Type]\n",
       "Index: []"
      ]
     },
     "execution_count": 1,
     "metadata": {},
     "output_type": "execute_result"
    }
   ],
   "source": [
    "trans[(trans.chr == 'chr?')]"
   ]
  },
  {
   "cell_type": "markdown",
   "metadata": {},
   "source": [
    "### Annotate unknown by hand\n",
    "There are none."
   ]
  },
  {
   "cell_type": "code",
   "execution_count": 21,
   "metadata": {
    "execution": {
     "iopub.execute_input": "2021-08-02T14:02:19.900595Z",
     "iopub.status.busy": "2021-08-02T14:02:19.899972Z",
     "iopub.status.idle": "2021-08-02T14:02:19.906607Z",
     "shell.execute_reply": "2021-08-02T14:02:19.906039Z"
    }
   },
   "outputs": [
    {
     "data": {
      "text/plain": [
       "(227, 7)"
      ]
     },
     "execution_count": 1,
     "metadata": {},
     "output_type": "execute_result"
    }
   ],
   "source": [
    "#trans = trans[~(trans['Symbol'].isin(['NLGN4Y']))]\n",
    "trans.to_csv('transcripts_autosomal_DE.csv', index=False, header=True)\n",
    "trans.shape"
   ]
  },
  {
   "cell_type": "code",
   "execution_count": 22,
   "metadata": {
    "execution": {
     "iopub.execute_input": "2021-08-02T14:02:19.914852Z",
     "iopub.status.busy": "2021-08-02T14:02:19.912471Z",
     "iopub.status.idle": "2021-08-02T14:02:19.919404Z",
     "shell.execute_reply": "2021-08-02T14:02:19.918303Z"
    }
   },
   "outputs": [
    {
     "data": {
      "text/plain": [
       "(215, 7)"
      ]
     },
     "execution_count": 1,
     "metadata": {},
     "output_type": "execute_result"
    }
   ],
   "source": [
    "trans.groupby('ensemblID').first().reset_index().shape"
   ]
  },
  {
   "cell_type": "markdown",
   "metadata": {},
   "source": [
    "### Exons"
   ]
  },
  {
   "cell_type": "code",
   "execution_count": 23,
   "metadata": {
    "execution": {
     "iopub.execute_input": "2021-08-02T14:02:20.102513Z",
     "iopub.status.busy": "2021-08-02T14:02:20.101770Z",
     "iopub.status.idle": "2021-08-02T14:02:24.066552Z",
     "shell.execute_reply": "2021-08-02T14:02:24.067591Z"
    }
   },
   "outputs": [
    {
     "data": {
      "text/html": [
       "<div>\n",
       "<style scoped>\n",
       "    .dataframe tbody tr th:only-of-type {\n",
       "        vertical-align: middle;\n",
       "    }\n",
       "\n",
       "    .dataframe tbody tr th {\n",
       "        vertical-align: top;\n",
       "    }\n",
       "\n",
       "    .dataframe thead th {\n",
       "        text-align: right;\n",
       "    }\n",
       "</style>\n",
       "<table border=\"1\" class=\"dataframe\">\n",
       "  <thead>\n",
       "    <tr style=\"text-align: right;\">\n",
       "      <th></th>\n",
       "      <th>Feature</th>\n",
       "      <th>chr</th>\n",
       "      <th>Symbol</th>\n",
       "      <th>ensemblID</th>\n",
       "      <th>logFC</th>\n",
       "      <th>adj.P.Val</th>\n",
       "      <th>Type</th>\n",
       "    </tr>\n",
       "  </thead>\n",
       "  <tbody>\n",
       "    <tr>\n",
       "      <th>0</th>\n",
       "      <td>e1002925</td>\n",
       "      <td>chr18</td>\n",
       "      <td>PHLPP1</td>\n",
       "      <td>ENSG00000081913</td>\n",
       "      <td>-0.178539</td>\n",
       "      <td>0.047767</td>\n",
       "      <td>exon</td>\n",
       "    </tr>\n",
       "    <tr>\n",
       "      <th>1</th>\n",
       "      <td>e1003849</td>\n",
       "      <td>chr18</td>\n",
       "      <td>RTTN</td>\n",
       "      <td>ENSG00000176225</td>\n",
       "      <td>-0.206977</td>\n",
       "      <td>0.039195</td>\n",
       "      <td>exon</td>\n",
       "    </tr>\n",
       "    <tr>\n",
       "      <th>2</th>\n",
       "      <td>e1003851</td>\n",
       "      <td>chr18</td>\n",
       "      <td>RTTN</td>\n",
       "      <td>ENSG00000176225</td>\n",
       "      <td>-0.259873</td>\n",
       "      <td>0.014349</td>\n",
       "      <td>exon</td>\n",
       "    </tr>\n",
       "    <tr>\n",
       "      <th>3</th>\n",
       "      <td>e1004000</td>\n",
       "      <td>chr18</td>\n",
       "      <td>RTTN</td>\n",
       "      <td>ENSG00000176225</td>\n",
       "      <td>-0.280113</td>\n",
       "      <td>0.016140</td>\n",
       "      <td>exon</td>\n",
       "    </tr>\n",
       "    <tr>\n",
       "      <th>4</th>\n",
       "      <td>e1004005</td>\n",
       "      <td>chr18</td>\n",
       "      <td>RTTN</td>\n",
       "      <td>ENSG00000176225</td>\n",
       "      <td>-0.283366</td>\n",
       "      <td>0.046143</td>\n",
       "      <td>exon</td>\n",
       "    </tr>\n",
       "  </tbody>\n",
       "</table>\n",
       "</div>"
      ],
      "text/plain": [
       "    Feature    chr  Symbol        ensemblID     logFC  adj.P.Val  Type\n",
       "0  e1002925  chr18  PHLPP1  ENSG00000081913 -0.178539   0.047767  exon\n",
       "1  e1003849  chr18    RTTN  ENSG00000176225 -0.206977   0.039195  exon\n",
       "2  e1003851  chr18    RTTN  ENSG00000176225 -0.259873   0.014349  exon\n",
       "3  e1004000  chr18    RTTN  ENSG00000176225 -0.280113   0.016140  exon\n",
       "4  e1004005  chr18    RTTN  ENSG00000176225 -0.283366   0.046143  exon"
      ]
     },
     "execution_count": 1,
     "metadata": {},
     "output_type": "execute_result"
    }
   ],
   "source": [
    "gtf_annot = gene_annotation(gtf_file, 'exon')\n",
    "gtf_annot['ensemblID'] = gtf_annot.gene_id.str.replace('\\\\.\\d+', '', regex=True)\n",
    "\n",
    "exons = pd.read_csv('../../_m/exons/diffExpr_maleVfemale_full.txt', sep='\\t', index_col=0)\n",
    "exons = exons[(exons['adj.P.Val'] < 0.05)].sort_values('adj.P.Val')\n",
    "exons['Feature'] = exons.index\n",
    "exons = pd.merge(gtf_annot[['ensemblID', 'seqname']], exons, on='ensemblID', how='right')\n",
    "exons.loc[:, 'seqname'] = exons.seqname.fillna('chr?')\n",
    "exons = exons[(exons.seqname.str.contains('chr\\d+')) | (exons['seqname'] == 'chr?')].copy().rename(columns={'seqname': 'chr'})\n",
    "exons = exons[['Feature', 'chr', 'Symbol', 'ensemblID', 'logFC', 'adj.P.Val']].groupby('Feature').first().reset_index()\n",
    "exons['Type'] = 'exon'\n",
    "exons.head()"
   ]
  },
  {
   "cell_type": "code",
   "execution_count": 24,
   "metadata": {
    "execution": {
     "iopub.execute_input": "2021-08-02T14:02:24.077417Z",
     "iopub.status.busy": "2021-08-02T14:02:24.073315Z",
     "iopub.status.idle": "2021-08-02T14:02:24.084671Z",
     "shell.execute_reply": "2021-08-02T14:02:24.085191Z"
    }
   },
   "outputs": [
    {
     "data": {
      "text/html": [
       "<div>\n",
       "<style scoped>\n",
       "    .dataframe tbody tr th:only-of-type {\n",
       "        vertical-align: middle;\n",
       "    }\n",
       "\n",
       "    .dataframe tbody tr th {\n",
       "        vertical-align: top;\n",
       "    }\n",
       "\n",
       "    .dataframe thead th {\n",
       "        text-align: right;\n",
       "    }\n",
       "</style>\n",
       "<table border=\"1\" class=\"dataframe\">\n",
       "  <thead>\n",
       "    <tr style=\"text-align: right;\">\n",
       "      <th></th>\n",
       "      <th>ensemblID</th>\n",
       "      <th>Feature</th>\n",
       "      <th>chr</th>\n",
       "      <th>Symbol</th>\n",
       "      <th>logFC</th>\n",
       "      <th>adj.P.Val</th>\n",
       "      <th>Type</th>\n",
       "    </tr>\n",
       "  </thead>\n",
       "  <tbody>\n",
       "  </tbody>\n",
       "</table>\n",
       "</div>"
      ],
      "text/plain": [
       "Empty DataFrame\n",
       "Columns: [ensemblID, Feature, chr, Symbol, logFC, adj.P.Val, Type]\n",
       "Index: []"
      ]
     },
     "execution_count": 1,
     "metadata": {},
     "output_type": "execute_result"
    }
   ],
   "source": [
    "exons[(exons['chr'] == 'chr?')].groupby('ensemblID').first().reset_index()"
   ]
  },
  {
   "cell_type": "markdown",
   "metadata": {},
   "source": [
    "### Annotate unknown by hand\n",
    "There are none."
   ]
  },
  {
   "cell_type": "code",
   "execution_count": 25,
   "metadata": {
    "execution": {
     "iopub.execute_input": "2021-08-02T14:02:24.090268Z",
     "iopub.status.busy": "2021-08-02T14:02:24.089418Z",
     "iopub.status.idle": "2021-08-02T14:02:24.108444Z",
     "shell.execute_reply": "2021-08-02T14:02:24.107929Z"
    }
   },
   "outputs": [
    {
     "data": {
      "text/plain": [
       "(2551, 7)"
      ]
     },
     "execution_count": 1,
     "metadata": {},
     "output_type": "execute_result"
    }
   ],
   "source": [
    "#exons = exons[~(exons['ensemblID'].isin(['ENSG00000269941']))]\n",
    "exons.to_csv('exons_autosomal_DE.csv', index=False, header=True)\n",
    "exons.shape"
   ]
  },
  {
   "cell_type": "code",
   "execution_count": 26,
   "metadata": {
    "execution": {
     "iopub.execute_input": "2021-08-02T14:02:24.116510Z",
     "iopub.status.busy": "2021-08-02T14:02:24.115525Z",
     "iopub.status.idle": "2021-08-02T14:02:24.123641Z",
     "shell.execute_reply": "2021-08-02T14:02:24.124176Z"
    }
   },
   "outputs": [
    {
     "data": {
      "text/plain": [
       "(801, 7)"
      ]
     },
     "execution_count": 1,
     "metadata": {},
     "output_type": "execute_result"
    }
   ],
   "source": [
    "exons.groupby('ensemblID').first().reset_index().shape"
   ]
  },
  {
   "cell_type": "markdown",
   "metadata": {},
   "source": [
    "### Junctions"
   ]
  },
  {
   "cell_type": "code",
   "execution_count": 27,
   "metadata": {
    "execution": {
     "iopub.execute_input": "2021-08-02T14:02:24.133686Z",
     "iopub.status.busy": "2021-08-02T14:02:24.132554Z",
     "iopub.status.idle": "2021-08-02T14:02:25.464850Z",
     "shell.execute_reply": "2021-08-02T14:02:25.465900Z"
    }
   },
   "outputs": [
    {
     "data": {
      "text/html": [
       "<div>\n",
       "<style scoped>\n",
       "    .dataframe tbody tr th:only-of-type {\n",
       "        vertical-align: middle;\n",
       "    }\n",
       "\n",
       "    .dataframe tbody tr th {\n",
       "        vertical-align: top;\n",
       "    }\n",
       "\n",
       "    .dataframe thead th {\n",
       "        text-align: right;\n",
       "    }\n",
       "</style>\n",
       "<table border=\"1\" class=\"dataframe\">\n",
       "  <thead>\n",
       "    <tr style=\"text-align: right;\">\n",
       "      <th></th>\n",
       "      <th>Feature</th>\n",
       "      <th>chr</th>\n",
       "      <th>Symbol</th>\n",
       "      <th>ensemblID</th>\n",
       "      <th>logFC</th>\n",
       "      <th>adj.P.Val</th>\n",
       "      <th>Type</th>\n",
       "    </tr>\n",
       "  </thead>\n",
       "  <tbody>\n",
       "    <tr>\n",
       "      <th>0</th>\n",
       "      <td>chr10:101002947-101003506(+)</td>\n",
       "      <td>chr10</td>\n",
       "      <td>LZTS2</td>\n",
       "      <td>ENSG00000107816</td>\n",
       "      <td>-0.211514</td>\n",
       "      <td>0.021862</td>\n",
       "      <td>junction</td>\n",
       "    </tr>\n",
       "    <tr>\n",
       "      <th>1</th>\n",
       "      <td>chr10:102594066-102597139(+)</td>\n",
       "      <td>chr10</td>\n",
       "      <td>SUFU</td>\n",
       "      <td>ENSG00000107882</td>\n",
       "      <td>-0.286279</td>\n",
       "      <td>0.019524</td>\n",
       "      <td>junction</td>\n",
       "    </tr>\n",
       "    <tr>\n",
       "      <th>2</th>\n",
       "      <td>chr10:103396033-103396408(-)</td>\n",
       "      <td>chr10</td>\n",
       "      <td>USMG5</td>\n",
       "      <td>ENSG00000173915</td>\n",
       "      <td>0.217285</td>\n",
       "      <td>0.011480</td>\n",
       "      <td>junction</td>\n",
       "    </tr>\n",
       "    <tr>\n",
       "      <th>3</th>\n",
       "      <td>chr10:124682380-124696157(-)</td>\n",
       "      <td>chr10</td>\n",
       "      <td>RP11-12J10.3</td>\n",
       "      <td>ENSG00000258539</td>\n",
       "      <td>-0.151267</td>\n",
       "      <td>0.047859</td>\n",
       "      <td>junction</td>\n",
       "    </tr>\n",
       "    <tr>\n",
       "      <th>4</th>\n",
       "      <td>chr10:125807488-125812213(-)</td>\n",
       "      <td>chr10</td>\n",
       "      <td>UROS</td>\n",
       "      <td>ENSG00000188690</td>\n",
       "      <td>0.165628</td>\n",
       "      <td>0.004315</td>\n",
       "      <td>junction</td>\n",
       "    </tr>\n",
       "  </tbody>\n",
       "</table>\n",
       "</div>"
      ],
      "text/plain": [
       "                        Feature    chr        Symbol        ensemblID  \\\n",
       "0  chr10:101002947-101003506(+)  chr10         LZTS2  ENSG00000107816   \n",
       "1  chr10:102594066-102597139(+)  chr10          SUFU  ENSG00000107882   \n",
       "2  chr10:103396033-103396408(-)  chr10         USMG5  ENSG00000173915   \n",
       "3  chr10:124682380-124696157(-)  chr10  RP11-12J10.3  ENSG00000258539   \n",
       "4  chr10:125807488-125812213(-)  chr10          UROS  ENSG00000188690   \n",
       "\n",
       "      logFC  adj.P.Val      Type  \n",
       "0 -0.211514   0.021862  junction  \n",
       "1 -0.286279   0.019524  junction  \n",
       "2  0.217285   0.011480  junction  \n",
       "3 -0.151267   0.047859  junction  \n",
       "4  0.165628   0.004315  junction  "
      ]
     },
     "execution_count": 1,
     "metadata": {},
     "output_type": "execute_result"
    }
   ],
   "source": [
    "juncs = pd.read_csv('../../_m/junctions/diffExpr_maleVfemale_full.txt', sep='\\t', index_col=0)\n",
    "juncs = juncs[(juncs['adj.P.Val'] < 0.05)].sort_values('adj.P.Val')\n",
    "juncs['Feature'] = juncs.index\n",
    "juncs = pd.merge(gtf_annot[['ensemblID', 'seqname']], juncs, on='ensemblID', how='right')\n",
    "juncs.loc[:, 'seqname'] = juncs.seqname.fillna('chr?')\n",
    "juncs = juncs[(juncs.seqname.str.contains('chr\\d+')) | (juncs['seqname'] == 'chr?')].copy().rename(columns={'seqname': 'chr'})\n",
    "juncs = juncs[['Feature', 'chr', 'Symbol', 'ensemblID', 'logFC', 'adj.P.Val']].groupby('Feature').first().reset_index()\n",
    "juncs['Type'] = 'junction'\n",
    "juncs.head()"
   ]
  },
  {
   "cell_type": "code",
   "execution_count": 28,
   "metadata": {
    "execution": {
     "iopub.execute_input": "2021-08-02T14:02:25.478137Z",
     "iopub.status.busy": "2021-08-02T14:02:25.471383Z",
     "iopub.status.idle": "2021-08-02T14:02:25.482323Z",
     "shell.execute_reply": "2021-08-02T14:02:25.483355Z"
    }
   },
   "outputs": [
    {
     "data": {
      "text/html": [
       "<div>\n",
       "<style scoped>\n",
       "    .dataframe tbody tr th:only-of-type {\n",
       "        vertical-align: middle;\n",
       "    }\n",
       "\n",
       "    .dataframe tbody tr th {\n",
       "        vertical-align: top;\n",
       "    }\n",
       "\n",
       "    .dataframe thead th {\n",
       "        text-align: right;\n",
       "    }\n",
       "</style>\n",
       "<table border=\"1\" class=\"dataframe\">\n",
       "  <thead>\n",
       "    <tr style=\"text-align: right;\">\n",
       "      <th></th>\n",
       "      <th>Feature</th>\n",
       "      <th>chr</th>\n",
       "      <th>Symbol</th>\n",
       "      <th>logFC</th>\n",
       "      <th>adj.P.Val</th>\n",
       "      <th>Type</th>\n",
       "    </tr>\n",
       "    <tr>\n",
       "      <th>ensemblID</th>\n",
       "      <th></th>\n",
       "      <th></th>\n",
       "      <th></th>\n",
       "      <th></th>\n",
       "      <th></th>\n",
       "      <th></th>\n",
       "    </tr>\n",
       "  </thead>\n",
       "  <tbody>\n",
       "  </tbody>\n",
       "</table>\n",
       "</div>"
      ],
      "text/plain": [
       "Empty DataFrame\n",
       "Columns: [Feature, chr, Symbol, logFC, adj.P.Val, Type]\n",
       "Index: []"
      ]
     },
     "execution_count": 1,
     "metadata": {},
     "output_type": "execute_result"
    }
   ],
   "source": [
    "juncs[(juncs['chr'] == 'chr?')].groupby('ensemblID').first()"
   ]
  },
  {
   "cell_type": "markdown",
   "metadata": {},
   "source": [
    "### Annotate unknown by hand\n",
    "None unknown"
   ]
  },
  {
   "cell_type": "code",
   "execution_count": 29,
   "metadata": {
    "execution": {
     "iopub.execute_input": "2021-08-02T14:02:25.489488Z",
     "iopub.status.busy": "2021-08-02T14:02:25.488247Z",
     "iopub.status.idle": "2021-08-02T14:02:25.500423Z",
     "shell.execute_reply": "2021-08-02T14:02:25.501217Z"
    }
   },
   "outputs": [
    {
     "data": {
      "text/plain": [
       "(1245, 7)"
      ]
     },
     "execution_count": 1,
     "metadata": {},
     "output_type": "execute_result"
    }
   ],
   "source": [
    "juncs.to_csv('junctions_autosomal_DE.csv', index=False, header=True)\n",
    "juncs.shape"
   ]
  },
  {
   "cell_type": "code",
   "execution_count": 30,
   "metadata": {
    "execution": {
     "iopub.execute_input": "2021-08-02T14:02:25.510373Z",
     "iopub.status.busy": "2021-08-02T14:02:25.506807Z",
     "iopub.status.idle": "2021-08-02T14:02:25.514229Z",
     "shell.execute_reply": "2021-08-02T14:02:25.514711Z"
    }
   },
   "outputs": [
    {
     "data": {
      "text/plain": [
       "(626, 7)"
      ]
     },
     "execution_count": 1,
     "metadata": {},
     "output_type": "execute_result"
    }
   ],
   "source": [
    "juncs.groupby('ensemblID').first().reset_index().shape"
   ]
  },
  {
   "cell_type": "markdown",
   "metadata": {},
   "source": [
    "## DE summary"
   ]
  },
  {
   "cell_type": "markdown",
   "metadata": {},
   "source": [
    "### DE (feature)"
   ]
  },
  {
   "cell_type": "code",
   "execution_count": 31,
   "metadata": {
    "execution": {
     "iopub.execute_input": "2021-08-02T14:02:25.521333Z",
     "iopub.status.busy": "2021-08-02T14:02:25.520658Z",
     "iopub.status.idle": "2021-08-02T14:02:25.524484Z",
     "shell.execute_reply": "2021-08-02T14:02:25.525557Z"
    }
   },
   "outputs": [
    {
     "name": "stdout",
     "output_type": "stream",
     "text": [
      "\n",
      "Gene:\t\t481\n",
      "Transcript:\t227\n",
      "Exon:\t\t2551\n",
      "Junction:\t1245\n"
     ]
    }
   ],
   "source": [
    "gg = len(set(genes['Feature']))\n",
    "tt = len(set(trans['Feature']))\n",
    "ee = len(set(exons['Feature']))\n",
    "jj = len(set(juncs['Feature']))\n",
    "\n",
    "print(\"\\nGene:\\t\\t%d\\nTranscript:\\t%d\\nExon:\\t\\t%d\\nJunction:\\t%d\" % (gg, tt, ee, jj)) "
   ]
  },
  {
   "cell_type": "markdown",
   "metadata": {},
   "source": [
    "#### DE (EnsemblID)"
   ]
  },
  {
   "cell_type": "code",
   "execution_count": 32,
   "metadata": {
    "execution": {
     "iopub.execute_input": "2021-08-02T14:02:25.538800Z",
     "iopub.status.busy": "2021-08-02T14:02:25.533184Z",
     "iopub.status.idle": "2021-08-02T14:02:25.557569Z",
     "shell.execute_reply": "2021-08-02T14:02:25.558055Z"
    }
   },
   "outputs": [
    {
     "name": "stdout",
     "output_type": "stream",
     "text": [
      "\n",
      "Gene:\t\t481\n",
      "Transcript:\t215\n",
      "Exon:\t\t801\n",
      "Junction:\t626\n"
     ]
    }
   ],
   "source": [
    "gg = len(set(genes.groupby('ensemblID').first().reset_index()['ensemblID']))\n",
    "tt = len(set(trans.groupby('ensemblID').first().reset_index()['ensemblID']))\n",
    "ee = len(set(exons.groupby('ensemblID').first().reset_index()['ensemblID']))\n",
    "jj = len(set(juncs.groupby('ensemblID').first().reset_index()['ensemblID']))\n",
    "\n",
    "print(\"\\nGene:\\t\\t%d\\nTranscript:\\t%d\\nExon:\\t\\t%d\\nJunction:\\t%d\" % (gg, tt, ee, jj)) "
   ]
  },
  {
   "cell_type": "markdown",
   "metadata": {},
   "source": [
    "#### DE (Gene Symbol)"
   ]
  },
  {
   "cell_type": "code",
   "execution_count": 33,
   "metadata": {
    "execution": {
     "iopub.execute_input": "2021-08-02T14:02:25.570978Z",
     "iopub.status.busy": "2021-08-02T14:02:25.569523Z",
     "iopub.status.idle": "2021-08-02T14:02:25.586854Z",
     "shell.execute_reply": "2021-08-02T14:02:25.587880Z"
    }
   },
   "outputs": [
    {
     "name": "stdout",
     "output_type": "stream",
     "text": [
      "\n",
      "Gene:\t\t423\n",
      "Transcript:\t215\n",
      "Exon:\t\t750\n",
      "Junction:\t626\n"
     ]
    }
   ],
   "source": [
    "gg = len(set(genes.groupby('Symbol').first().reset_index()['Symbol']))\n",
    "tt = len(set(trans.groupby('Symbol').first().reset_index()['Symbol']))\n",
    "ee = len(set(exons.groupby('Symbol').first().reset_index()['Symbol']))\n",
    "jj = len(set(juncs.groupby('Symbol').first().reset_index()['Symbol']))\n",
    "\n",
    "print(\"\\nGene:\\t\\t%d\\nTranscript:\\t%d\\nExon:\\t\\t%d\\nJunction:\\t%d\" % (gg, tt, ee, jj)) "
   ]
  },
  {
   "cell_type": "markdown",
   "metadata": {},
   "source": [
    "### Feature effect size summary"
   ]
  },
  {
   "cell_type": "code",
   "execution_count": 34,
   "metadata": {
    "execution": {
     "iopub.execute_input": "2021-08-02T14:02:25.600784Z",
     "iopub.status.busy": "2021-08-02T14:02:25.598487Z",
     "iopub.status.idle": "2021-08-02T14:02:25.605306Z",
     "shell.execute_reply": "2021-08-02T14:02:25.606357Z"
    }
   },
   "outputs": [
    {
     "name": "stdout",
     "output_type": "stream",
     "text": [
      "\n",
      "There are 25 unique Genes with abs(log2FC) >= 0.5\n",
      "There are 2 unique Genes with abs(log2FC) >= 1\n",
      "\n",
      "There are 79 unique Transcript with abs(log2FC) >= 0.5\n",
      "There are 40 unique Transcript with abs(log2FC) >= 1\n",
      "\n",
      "There are 209 unique Exons with abs(log2FC) >= 0.5\n",
      "There are 4 unique Exons with abs(log2FC) >= 1\n",
      "\n",
      "There are 184 unique Junctions with abs(log2FC) >= 0.5\n",
      "There are 34 unique Junctions with abs(log2FC) >= 1\n"
     ]
    }
   ],
   "source": [
    "feature_list = ['Genes', 'Transcript', 'Exons', 'Junctions']\n",
    "feature_df = [genes, trans, exons, juncs]\n",
    "for ii in range(4):\n",
    "    ff = feature_df[ii]\n",
    "    half = len(set(ff[(np.abs(ff['logFC']) >= 0.5)].Feature))\n",
    "    one = len(set(ff[(np.abs(ff['logFC']) >= 1)].Feature))\n",
    "    print(\"\\nThere are %d unique %s with abs(log2FC) >= 0.5\" % (half, feature_list[ii]))\n",
    "    print(\"There are %d unique %s with abs(log2FC) >= 1\" % (one, feature_list[ii]))"
   ]
  },
  {
   "cell_type": "code",
   "execution_count": 35,
   "metadata": {
    "execution": {
     "iopub.execute_input": "2021-08-02T14:02:25.627064Z",
     "iopub.status.busy": "2021-08-02T14:02:25.624973Z",
     "iopub.status.idle": "2021-08-02T14:02:25.637491Z",
     "shell.execute_reply": "2021-08-02T14:02:25.638316Z"
    }
   },
   "outputs": [
    {
     "name": "stdout",
     "output_type": "stream",
     "text": [
      "\n",
      "There are 25 unique Genes with abs(log2FC) >= 0.5\n",
      "There are 2 unique Genes with abs(log2FC) >= 1\n",
      "\n",
      "There are 74 unique Transcripts with abs(log2FC) >= 0.5\n",
      "There are 38 unique Transcripts with abs(log2FC) >= 1\n",
      "\n",
      "There are 29 unique Exons with abs(log2FC) >= 0.5\n",
      "There are 3 unique Exons with abs(log2FC) >= 1\n",
      "\n",
      "There are 26 unique Junctions with abs(log2FC) >= 0.5\n",
      "There are 1 unique Junctions with abs(log2FC) >= 1\n"
     ]
    }
   ],
   "source": [
    "feature_list = ['Genes', 'Transcripts', 'Exons', 'Junctions']\n",
    "feature_df = [genes, trans, exons, juncs]\n",
    "for ii in range(4):\n",
    "    ff = feature_df[ii]\n",
    "    half = len(set(ff[(np.abs(ff['logFC']) >= 0.5)].ensemblID))\n",
    "    one = len(set(ff[(np.abs(ff['logFC']) >= 1)].ensemblID))\n",
    "    print(\"\\nThere are %d unique %s with abs(log2FC) >= 0.5\" % (half, feature_list[ii]))\n",
    "    print(\"There are %d unique %s with abs(log2FC) >= 1\" % (one, feature_list[ii]))"
   ]
  }
 ],
 "metadata": {
  "kernelspec": {
   "display_name": "Python 3",
   "language": "python",
   "name": "python3"
  },
  "language_info": {
   "codemirror_mode": {
    "name": "ipython",
    "version": 3
   },
   "file_extension": ".py",
   "mimetype": "text/x-python",
   "name": "python",
   "nbconvert_exporter": "python",
   "pygments_lexer": "ipython3",
   "version": "3.9.1"
  }
 },
 "nbformat": 4,
 "nbformat_minor": 4
}
