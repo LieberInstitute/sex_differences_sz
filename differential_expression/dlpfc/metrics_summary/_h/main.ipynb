{
 "cells": [
  {
   "cell_type": "markdown",
   "metadata": {},
   "source": [
    "# Feature summary of differential expression analysis"
   ]
  },
  {
   "cell_type": "code",
   "execution_count": null,
   "metadata": {},
   "outputs": [],
   "source": [
    "import numpy as np\n",
    "import pandas as pd"
   ]
  },
  {
   "cell_type": "code",
   "execution_count": null,
   "metadata": {},
   "outputs": [],
   "source": [
    "def annotate_DE(feature):\n",
    "    # Annotate DE results\n",
    "    df = pd.read_csv(f'../../_m/{feature.lower()}s/diffExpr_maleVfemale_full.txt', \n",
    "                     sep='\\t', index_col=0)\\\n",
    "           .rename(columns={\"gene_id\": \"gencodeID\", \"gencodeGeneID\": \"gencodeID\", \n",
    "                            \"gene_name\": \"Symbol\"})\n",
    "    df = df[(df['adj.P.Val'] < 0.05)].sort_values('adj.P.Val')\n",
    "    df['Feature'] = df.index\n",
    "    df['ensemblID'] = df.gencodeID.str.replace(\"\\\\..*\", \"\", regex=True)\n",
    "    df['Type'] = feature; df[\"Region\"] = \"DLPFC\"\n",
    "    return df[['Feature', 'Symbol', 'ensemblID', \n",
    "               'logFC', 'SE', 'adj.P.Val', \"Type\"]]"
   ]
  },
  {
   "cell_type": "markdown",
   "metadata": {},
   "source": [
    "## Summary plots"
   ]
  },
  {
   "cell_type": "markdown",
   "metadata": {},
   "source": [
    "### Genes"
   ]
  },
  {
   "cell_type": "code",
   "execution_count": null,
   "metadata": {},
   "outputs": [],
   "source": [
    "genes = annotate_DE(\"Gene\")\n",
    "genes.head(2)"
   ]
  },
  {
   "cell_type": "markdown",
   "metadata": {},
   "source": [
    "### Transcripts"
   ]
  },
  {
   "cell_type": "code",
   "execution_count": null,
   "metadata": {},
   "outputs": [],
   "source": [
    "trans = annotate_DE(\"Transcript\")\n",
    "trans.head(2)"
   ]
  },
  {
   "cell_type": "markdown",
   "metadata": {},
   "source": [
    "### Exons"
   ]
  },
  {
   "cell_type": "code",
   "execution_count": null,
   "metadata": {},
   "outputs": [],
   "source": [
    "exons = annotate_DE(\"Exon\")\n",
    "exons.head(2)"
   ]
  },
  {
   "cell_type": "markdown",
   "metadata": {},
   "source": [
    "### Junctions"
   ]
  },
  {
   "cell_type": "code",
   "execution_count": null,
   "metadata": {},
   "outputs": [],
   "source": [
    "juncs = annotate_DE(\"Junction\")\n",
    "juncs.head(2)"
   ]
  },
  {
   "cell_type": "markdown",
   "metadata": {},
   "source": [
    "## DE summary"
   ]
  },
  {
   "cell_type": "markdown",
   "metadata": {},
   "source": [
    "### DE (feature)"
   ]
  },
  {
   "cell_type": "code",
   "execution_count": null,
   "metadata": {},
   "outputs": [],
   "source": [
    "gg = len(set(genes['Feature']))\n",
    "tt = len(set(trans['Feature']))\n",
    "ee = len(set(exons['Feature']))\n",
    "jj = len(set(juncs['Feature']))\n",
    "\n",
    "print(f\"\\nGene:\\t\\t{gg}\\nTranscript:\\t{tt}\\nExon:\\t\\t{ee}\\nJunction:\\t{jj}\")"
   ]
  },
  {
   "cell_type": "markdown",
   "metadata": {},
   "source": [
    "#### DE (EnsemblID)"
   ]
  },
  {
   "cell_type": "code",
   "execution_count": null,
   "metadata": {},
   "outputs": [],
   "source": [
    "gg = len(set(genes['ensemblID']))\n",
    "tt = len(set(trans['ensemblID']))\n",
    "ee = len(set(exons['ensemblID']))\n",
    "jj = len(set(juncs['ensemblID']))\n",
    "\n",
    "print(f\"\\nGene:\\t\\t{gg}\\nTranscript:\\t{tt}\\nExon:\\t\\t{ee}\\nJunction:\\t{jj}\")"
   ]
  },
  {
   "cell_type": "markdown",
   "metadata": {},
   "source": [
    "#### DE (Gene Symbol)"
   ]
  },
  {
   "cell_type": "code",
   "execution_count": null,
   "metadata": {},
   "outputs": [],
   "source": [
    "gg = len(set(genes['Symbol']))\n",
    "tt = len(set(trans['Symbol']))\n",
    "ee = len(set(exons['Symbol']))\n",
    "jj = len(set(juncs['Symbol']))\n",
    "\n",
    "print(f\"\\nGene:\\t\\t{gg}\\nTranscript:\\t{tt}\\nExon:\\t\\t{ee}\\nJunction:\\t{jj}\")"
   ]
  },
  {
   "cell_type": "markdown",
   "metadata": {},
   "source": [
    "### Feature effect size summary"
   ]
  },
  {
   "cell_type": "code",
   "execution_count": null,
   "metadata": {},
   "outputs": [],
   "source": [
    "feature_list = ['Genes', 'Transcript', 'Exons', 'Junctions']\n",
    "feature_df = [genes, trans, exons, juncs]\n",
    "for ii in range(4):\n",
    "    ff = feature_df[ii]\n",
    "    half = len(set(ff[(np.abs(ff['logFC']) >= 0.5)].Feature))\n",
    "    one = len(set(ff[(np.abs(ff['logFC']) >= 1)].Feature))\n",
    "    print(f\"\\nThere are {half} unique {feature_list[ii]} with abs(log2FC) >= 0.5\")\n",
    "    print(f\"There are {one} unique {feature_list[ii]} with abs(log2FC) >= 1\")"
   ]
  },
  {
   "cell_type": "code",
   "execution_count": null,
   "metadata": {},
   "outputs": [],
   "source": [
    "feature_list = ['Genes', 'Transcripts', 'Exons', 'Junctions']\n",
    "feature_df = [genes, trans, exons, juncs]\n",
    "for ii in range(4):\n",
    "    ff = feature_df[ii]\n",
    "    half = len(set(ff[(np.abs(ff['logFC']) >= 0.5)].ensemblID))\n",
    "    one = len(set(ff[(np.abs(ff['logFC']) >= 1)].ensemblID))\n",
    "    print(f\"\\nThere are {half} unique {feature_list[ii]} with abs(log2FC) >= 0.5\")\n",
    "    print(f\"There are {one} unique {feature_list[ii]} with abs(log2FC) >= 1\")"
   ]
  },
  {
   "cell_type": "markdown",
   "metadata": {},
   "source": [
    "## Autosomal only"
   ]
  },
  {
   "cell_type": "code",
   "execution_count": null,
   "metadata": {},
   "outputs": [],
   "source": [
    "from pyhere import here\n",
    "from functools import lru_cache"
   ]
  },
  {
   "cell_type": "code",
   "execution_count": null,
   "metadata": {},
   "outputs": [],
   "source": [
    "@lru_cache()\n",
    "def get_annotation(feature):\n",
    "    feat_lt = {\"gene\": \"gene\", \"transcript\": \"tx\", \n",
    "               \"exon\": \"exon\", \"junction\": \"jxn\"}\n",
    "    new_feature = feat_lt[feature]\n",
    "    fn = here(f\"input/counts/text_files_counts/_m/dlpfc/{new_feature}_annotation.txt\")\n",
    "    return pd.read_csv(fn, sep='\\t')"
   ]
  },
  {
   "cell_type": "code",
   "execution_count": null,
   "metadata": {},
   "outputs": [],
   "source": [
    "def annotate_autosomes(feature):\n",
    "    # Get annotation\n",
    "    annot = get_annotation(feature.lower())\n",
    "    # Annotate DE results\n",
    "    df = pd.read_csv(f'../../_m/{feature.lower()}s/diffExpr_maleVfemale_full.txt', \n",
    "                     sep='\\t', index_col=0)\\\n",
    "           .rename(columns={\"gene_id\": \"gencodeID\", \"gencodeGeneID\": \"gencodeID\", \n",
    "                            \"gene_name\": \"Symbol\"})\n",
    "    df = df[(df['adj.P.Val'] < 0.05)].sort_values('adj.P.Val')\n",
    "    df['name'] = df.index\n",
    "    df['ensemblID'] = df.gencodeID.str.replace(\"\\\\..*\", \"\", regex=True)\n",
    "    df = annot.merge(df, on='name').rename(columns={\"name\": \"Feature\"})\n",
    "    df = df[[\"Feature\", \"seqnames\", \"start\", \"end\", \"width\", \"gencodeID\", \"ensemblID\", \n",
    "             \"Symbol\", \"logFC\", \"AveExpr\", \"t\", \"P.Value\", \"adj.P.Val\", \"B\", \"SE\"]]\n",
    "    df['Type'] = feature; df[\"Region\"] = \"DLPFC\"\n",
    "    # Save annotated file\n",
    "    df.sort_values('adj.P.Val').to_csv(f'chrom_annotation_{feature.lower()}.txt', \n",
    "                                       sep='\\t', index=False)\n",
    "    df = df[(df.seqnames.str.contains('chr\\d+'))].copy()\n",
    "    # Save autosomal DE features\n",
    "    df.to_csv(f'{feature.lower()}_autosomal_DE.csv', index=False, header=True)\n",
    "    return df[['Feature', 'seqnames', 'Symbol', 'ensemblID', 'logFC', 'SE', 'adj.P.Val', \"Type\"]]"
   ]
  },
  {
   "cell_type": "markdown",
   "metadata": {},
   "source": [
    "### Genes"
   ]
  },
  {
   "cell_type": "code",
   "execution_count": null,
   "metadata": {},
   "outputs": [],
   "source": [
    "feature = \"Gene\"\n",
    "genes = annotate_autosomes(feature)\n",
    "genes.head(2)"
   ]
  },
  {
   "cell_type": "code",
   "execution_count": null,
   "metadata": {},
   "outputs": [],
   "source": [
    "genes.shape"
   ]
  },
  {
   "cell_type": "code",
   "execution_count": null,
   "metadata": {},
   "outputs": [],
   "source": [
    "genes.groupby('ensemblID').first().reset_index().shape"
   ]
  },
  {
   "cell_type": "markdown",
   "metadata": {},
   "source": [
    "### Transcripts"
   ]
  },
  {
   "cell_type": "code",
   "execution_count": null,
   "metadata": {},
   "outputs": [],
   "source": [
    "trans = annotate_autosomes(\"Transcript\")\n",
    "trans.head(2)\n",
    "trans.shape"
   ]
  },
  {
   "cell_type": "code",
   "execution_count": null,
   "metadata": {},
   "outputs": [],
   "source": [
    "trans.groupby('ensemblID').first().reset_index().shape"
   ]
  },
  {
   "cell_type": "markdown",
   "metadata": {
    "tags": []
   },
   "source": [
    "### Exons"
   ]
  },
  {
   "cell_type": "code",
   "execution_count": null,
   "metadata": {},
   "outputs": [],
   "source": [
    "exons = annotate_autosomes(\"Exon\")\n",
    "exons.head(2)\n",
    "exons.shape"
   ]
  },
  {
   "cell_type": "code",
   "execution_count": null,
   "metadata": {},
   "outputs": [],
   "source": [
    "exons.groupby('ensemblID').first().reset_index().shape"
   ]
  },
  {
   "cell_type": "markdown",
   "metadata": {},
   "source": [
    "### Junctions"
   ]
  },
  {
   "cell_type": "code",
   "execution_count": null,
   "metadata": {},
   "outputs": [],
   "source": [
    "juncs = annotate_autosomes(\"Junction\")\n",
    "juncs.head(2)\n",
    "juncs.shape"
   ]
  },
  {
   "cell_type": "code",
   "execution_count": null,
   "metadata": {},
   "outputs": [],
   "source": [
    "juncs.groupby('ensemblID').first().reset_index().shape"
   ]
  },
  {
   "cell_type": "markdown",
   "metadata": {},
   "source": [
    "## DE summary"
   ]
  },
  {
   "cell_type": "markdown",
   "metadata": {},
   "source": [
    "### DE (feature)"
   ]
  },
  {
   "cell_type": "code",
   "execution_count": null,
   "metadata": {},
   "outputs": [],
   "source": [
    "gg = len(set(genes['Feature']))\n",
    "tt = len(set(trans['Feature']))\n",
    "ee = len(set(exons['Feature']))\n",
    "jj = len(set(juncs['Feature']))\n",
    "\n",
    "print(f\"\\nGene:\\t\\t{gg}\\nTranscript:\\t{tt}\\nExon:\\t\\t{ee}\\nJunction:\\t{jj}\")"
   ]
  },
  {
   "cell_type": "markdown",
   "metadata": {},
   "source": [
    "#### DE (EnsemblID)"
   ]
  },
  {
   "cell_type": "code",
   "execution_count": null,
   "metadata": {},
   "outputs": [],
   "source": [
    "gg = len(set(genes.groupby('ensemblID').first().reset_index()['ensemblID']))\n",
    "tt = len(set(trans.groupby('ensemblID').first().reset_index()['ensemblID']))\n",
    "ee = len(set(exons.groupby('ensemblID').first().reset_index()['ensemblID']))\n",
    "jj = len(set(juncs.groupby('ensemblID').first().reset_index()['ensemblID']))\n",
    "\n",
    "print(f\"\\nGene:\\t\\t{gg}\\nTranscript:\\t{tt}\\nExon:\\t\\t{ee}\\nJunction:\\t{jj}\")"
   ]
  },
  {
   "cell_type": "markdown",
   "metadata": {},
   "source": [
    "#### DE (Gene Symbol)"
   ]
  },
  {
   "cell_type": "code",
   "execution_count": null,
   "metadata": {},
   "outputs": [],
   "source": [
    "gg = len(set(genes.groupby('Symbol').first().reset_index()['Symbol']))\n",
    "tt = len(set(trans.groupby('Symbol').first().reset_index()['Symbol']))\n",
    "ee = len(set(exons.groupby('Symbol').first().reset_index()['Symbol']))\n",
    "jj = len(set(juncs.groupby('Symbol').first().reset_index()['Symbol']))\n",
    "\n",
    "print(f\"\\nGene:\\t\\t{gg}\\nTranscript:\\t{tt}\\nExon:\\t\\t{ee}\\nJunction:\\t{jj}\")"
   ]
  },
  {
   "cell_type": "markdown",
   "metadata": {},
   "source": [
    "### Feature effect size summary"
   ]
  },
  {
   "cell_type": "code",
   "execution_count": null,
   "metadata": {},
   "outputs": [],
   "source": [
    "feature_list = ['Genes', 'Transcript', 'Exons', 'Junctions']\n",
    "feature_df = [genes, trans, exons, juncs]\n",
    "for ii in range(4):\n",
    "    ff = feature_df[ii]\n",
    "    half = len(set(ff[(np.abs(ff['logFC']) >= 0.5)].Feature))\n",
    "    one = len(set(ff[(np.abs(ff['logFC']) >= 1)].Feature))\n",
    "    print(f\"\\nThere are {half} unique {feature_list[ii]} with abs(log2FC) >= 0.5\")\n",
    "    print(f\"There are {one} unique {feature_list[ii]} with abs(log2FC) >= 1\")"
   ]
  },
  {
   "cell_type": "code",
   "execution_count": null,
   "metadata": {},
   "outputs": [],
   "source": [
    "feature_list = ['Genes', 'Transcripts', 'Exons', 'Junctions']\n",
    "feature_df = [genes, trans, exons, juncs]\n",
    "for ii in range(4):\n",
    "    ff = feature_df[ii]\n",
    "    half = len(set(ff[(np.abs(ff['logFC']) >= 0.5)].ensemblID))\n",
    "    one = len(set(ff[(np.abs(ff['logFC']) >= 1)].ensemblID))\n",
    "    print(f\"\\nThere are {half} unique {feature_list[ii]} with abs(log2FC) >= 0.5\")\n",
    "    print(f\"There are {one} unique {feature_list[ii]} with abs(log2FC) >= 1\")"
   ]
  },
  {
   "cell_type": "markdown",
   "metadata": {},
   "source": [
    "## Session information"
   ]
  },
  {
   "cell_type": "code",
   "execution_count": null,
   "metadata": {},
   "outputs": [],
   "source": [
    "import session_info\n",
    "session_info.show()"
   ]
  }
 ],
 "metadata": {
  "kernelspec": {
   "display_name": "Python 3 (ipykernel)",
   "language": "python",
   "name": "python3"
  },
  "language_info": {
   "codemirror_mode": {
    "name": "ipython",
    "version": 3
   },
   "file_extension": ".py",
   "mimetype": "text/x-python",
   "name": "python",
   "nbconvert_exporter": "python",
   "pygments_lexer": "ipython3",
   "version": "3.10.9"
  }
 },
 "nbformat": 4,
 "nbformat_minor": 4
}
