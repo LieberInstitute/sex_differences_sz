{
 "cells": [
  {
   "cell_type": "markdown",
   "metadata": {},
   "source": [
    "# Visualize results, local splicing"
   ]
  },
  {
   "cell_type": "markdown",
   "metadata": {},
   "source": [
    "## Load Libraries"
   ]
  },
  {
   "cell_type": "code",
   "execution_count": 1,
   "metadata": {},
   "outputs": [
    {
     "name": "stderr",
     "output_type": "stream",
     "text": [
      "-- \u001b[1mAttaching packages\u001b[22m ----------------------------------------------------------------------------------------------------------------------------------------------------------------------------------------------------- tidyverse 1.3.1 --\n",
      "\n",
      "\u001b[32mv\u001b[39m \u001b[34mggplot2\u001b[39m 3.3.5     \u001b[32mv\u001b[39m \u001b[34mpurrr  \u001b[39m 0.3.4\n",
      "\u001b[32mv\u001b[39m \u001b[34mtibble \u001b[39m 3.1.2     \u001b[32mv\u001b[39m \u001b[34mdplyr  \u001b[39m 1.0.7\n",
      "\u001b[32mv\u001b[39m \u001b[34mtidyr  \u001b[39m 1.1.3     \u001b[32mv\u001b[39m \u001b[34mstringr\u001b[39m 1.4.0\n",
      "\u001b[32mv\u001b[39m \u001b[34mreadr  \u001b[39m 1.4.0     \u001b[32mv\u001b[39m \u001b[34mforcats\u001b[39m 0.5.1\n",
      "\n",
      "-- \u001b[1mConflicts\u001b[22m -------------------------------------------------------------------------------------------------------------------------------------------------------------------------------------------------------- tidyverse_conflicts() --\n",
      "\u001b[31mx\u001b[39m \u001b[34mdplyr\u001b[39m::\u001b[32mfilter()\u001b[39m masks \u001b[34mstats\u001b[39m::filter()\n",
      "\u001b[31mx\u001b[39m \u001b[34mdplyr\u001b[39m::\u001b[32mlag()\u001b[39m    masks \u001b[34mstats\u001b[39m::lag()\n",
      "\n",
      "Loading required package: Rcpp\n",
      "\n",
      "\n",
      "Attaching package: 'reshape2'\n",
      "\n",
      "\n",
      "The following object is masked from 'package:tidyr':\n",
      "\n",
      "    smiths\n",
      "\n",
      "\n",
      "\n",
      "Attaching package: 'gridExtra'\n",
      "\n",
      "\n",
      "The following object is masked from 'package:dplyr':\n",
      "\n",
      "    combine\n",
      "\n",
      "\n",
      "\n",
      "Attaching package: 'intervals'\n",
      "\n",
      "\n",
      "The following object is masked from 'package:purrr':\n",
      "\n",
      "    reduce\n",
      "\n",
      "\n",
      "The following object is masked from 'package:tidyr':\n",
      "\n",
      "    expand\n",
      "\n",
      "\n",
      "\n",
      "Attaching package: 'foreach'\n",
      "\n",
      "\n",
      "The following objects are masked from 'package:purrr':\n",
      "\n",
      "    accumulate, when\n",
      "\n",
      "\n"
     ]
    }
   ],
   "source": [
    "library(tidyverse)\n",
    "library(ggplot2)\n",
    "library(DT)\n",
    "library(leafcutter)\n",
    "library(reshape2)\n",
    "library(gridExtra)\n",
    "library(intervals) # needed for pretty strand arrow placement\n",
    "library(foreach)\n",
    "library(grid)\n",
    "library(gtable)\n",
    "library(ggrepel)"
   ]
  },
  {
   "cell_type": "markdown",
   "metadata": {},
   "source": [
    "## Summary of results"
   ]
  },
  {
   "cell_type": "code",
   "execution_count": 2,
   "metadata": {},
   "outputs": [
    {
     "data": {
      "text/html": [
       "<style>\n",
       ".list-inline {list-style: none; margin:0; padding: 0}\n",
       ".list-inline>li {display: inline-block}\n",
       ".list-inline>li:not(:last-child)::after {content: \"\\00b7\"; padding: 0 .5ex}\n",
       "</style>\n",
       "<ol class=list-inline><li>'introns'</li><li>'clusters'</li><li>'counts'</li><li>'meta'</li><li>'exons_table'</li><li>'pca'</li><li>'intron_summary'</li><li>'cluster_summary'</li><li>'introns_to_plot'</li><li>'cluster_ids'</li><li>'sample_table'</li><li>'annotation_code'</li><li>'code'</li></ol>\n"
      ],
      "text/latex": [
       "\\begin{enumerate*}\n",
       "\\item 'introns'\n",
       "\\item 'clusters'\n",
       "\\item 'counts'\n",
       "\\item 'meta'\n",
       "\\item 'exons\\_table'\n",
       "\\item 'pca'\n",
       "\\item 'intron\\_summary'\n",
       "\\item 'cluster\\_summary'\n",
       "\\item 'introns\\_to\\_plot'\n",
       "\\item 'cluster\\_ids'\n",
       "\\item 'sample\\_table'\n",
       "\\item 'annotation\\_code'\n",
       "\\item 'code'\n",
       "\\end{enumerate*}\n"
      ],
      "text/markdown": [
       "1. 'introns'\n",
       "2. 'clusters'\n",
       "3. 'counts'\n",
       "4. 'meta'\n",
       "5. 'exons_table'\n",
       "6. 'pca'\n",
       "7. 'intron_summary'\n",
       "8. 'cluster_summary'\n",
       "9. 'introns_to_plot'\n",
       "10. 'cluster_ids'\n",
       "11. 'sample_table'\n",
       "12. 'annotation_code'\n",
       "13. 'code'\n",
       "\n",
       "\n"
      ],
      "text/plain": [
       " [1] \"introns\"         \"clusters\"        \"counts\"          \"meta\"           \n",
       " [5] \"exons_table\"     \"pca\"             \"intron_summary\"  \"cluster_summary\"\n",
       " [9] \"introns_to_plot\" \"cluster_ids\"     \"sample_table\"    \"annotation_code\"\n",
       "[13] \"code\"           "
      ]
     },
     "metadata": {},
     "output_type": "display_data"
    }
   ],
   "source": [
    "lname = load('../../_m/leafviz.RData')\n",
    "lname"
   ]
  },
  {
   "cell_type": "code",
   "execution_count": 3,
   "metadata": {},
   "outputs": [
    {
     "data": {
      "text/html": [
       "<table class=\"dataframe\">\n",
       "<caption>A data.frame: 2 × 2</caption>\n",
       "<thead>\n",
       "\t<tr><th scope=col>group</th><th scope=col>count</th></tr>\n",
       "\t<tr><th scope=col>&lt;chr&gt;</th><th scope=col>&lt;int&gt;</th></tr>\n",
       "</thead>\n",
       "<tbody>\n",
       "\t<tr><td>F</td><td>114</td></tr>\n",
       "\t<tr><td>M</td><td>245</td></tr>\n",
       "</tbody>\n",
       "</table>\n"
      ],
      "text/latex": [
       "A data.frame: 2 × 2\n",
       "\\begin{tabular}{ll}\n",
       " group & count\\\\\n",
       " <chr> & <int>\\\\\n",
       "\\hline\n",
       "\t F & 114\\\\\n",
       "\t M & 245\\\\\n",
       "\\end{tabular}\n"
      ],
      "text/markdown": [
       "\n",
       "A data.frame: 2 × 2\n",
       "\n",
       "| group &lt;chr&gt; | count &lt;int&gt; |\n",
       "|---|---|\n",
       "| F | 114 |\n",
       "| M | 245 |\n",
       "\n"
      ],
      "text/plain": [
       "  group count\n",
       "1 F     114  \n",
       "2 M     245  "
      ]
     },
     "metadata": {},
     "output_type": "display_data"
    }
   ],
   "source": [
    "levels(meta$group) <- c(\"Female\", \"Male\")\n",
    "sample_table"
   ]
  },
  {
   "cell_type": "code",
   "execution_count": 4,
   "metadata": {},
   "outputs": [
    {
     "data": {
      "text/html": [
       "<table class=\"dataframe\">\n",
       "<caption>A data.frame: 3 × 2</caption>\n",
       "<thead>\n",
       "\t<tr><th scope=col>Results</th><th scope=col>n</th></tr>\n",
       "\t<tr><th scope=col>&lt;chr&gt;</th><th scope=col>&lt;int&gt;</th></tr>\n",
       "</thead>\n",
       "<tbody>\n",
       "\t<tr><td>Number of differentially spliced clusters at FDR = 0.05</td><td>352</td></tr>\n",
       "\t<tr><td>Fully annotated                                        </td><td>160</td></tr>\n",
       "\t<tr><td>Contain unannotated junctions                          </td><td>192</td></tr>\n",
       "</tbody>\n",
       "</table>\n"
      ],
      "text/latex": [
       "A data.frame: 3 × 2\n",
       "\\begin{tabular}{ll}\n",
       " Results & n\\\\\n",
       " <chr> & <int>\\\\\n",
       "\\hline\n",
       "\t Number of differentially spliced clusters at FDR = 0.05 & 352\\\\\n",
       "\t Fully annotated                                         & 160\\\\\n",
       "\t Contain unannotated junctions                           & 192\\\\\n",
       "\\end{tabular}\n"
      ],
      "text/markdown": [
       "\n",
       "A data.frame: 3 × 2\n",
       "\n",
       "| Results &lt;chr&gt; | n &lt;int&gt; |\n",
       "|---|---|\n",
       "| Number of differentially spliced clusters at FDR = 0.05 | 352 |\n",
       "| Fully annotated                                         | 160 |\n",
       "| Contain unannotated junctions                           | 192 |\n",
       "\n"
      ],
      "text/plain": [
       "  Results                                                 n  \n",
       "1 Number of differentially spliced clusters at FDR = 0.05 352\n",
       "2 Fully annotated                                         160\n",
       "3 Contain unannotated junctions                           192"
      ]
     },
     "metadata": {},
     "output_type": "display_data"
    }
   ],
   "source": [
    "cluster_summary"
   ]
  },
  {
   "cell_type": "code",
   "execution_count": 5,
   "metadata": {},
   "outputs": [
    {
     "data": {
      "text/html": [
       "<table class=\"dataframe\">\n",
       "<caption>A data.frame: 5 × 2</caption>\n",
       "<thead>\n",
       "\t<tr><th scope=col>Results</th><th scope=col>n</th></tr>\n",
       "\t<tr><th scope=col>&lt;chr&gt;</th><th scope=col>&lt;int&gt;</th></tr>\n",
       "</thead>\n",
       "<tbody>\n",
       "\t<tr><td>Number of fully annotated junctions                              </td><td>1249</td></tr>\n",
       "\t<tr><td>Number of junctions with cryptic 5' splice site                  </td><td> 119</td></tr>\n",
       "\t<tr><td>Number of junctions with cryptic 3' splice site                  </td><td> 145</td></tr>\n",
       "\t<tr><td>Number of junctions with two cryptic splice sites                </td><td>  38</td></tr>\n",
       "\t<tr><td>Number of novel junctions that connect two annotated splice sites</td><td> 118</td></tr>\n",
       "</tbody>\n",
       "</table>\n"
      ],
      "text/latex": [
       "A data.frame: 5 × 2\n",
       "\\begin{tabular}{ll}\n",
       " Results & n\\\\\n",
       " <chr> & <int>\\\\\n",
       "\\hline\n",
       "\t Number of fully annotated junctions                               & 1249\\\\\n",
       "\t Number of junctions with cryptic 5' splice site                   &  119\\\\\n",
       "\t Number of junctions with cryptic 3' splice site                   &  145\\\\\n",
       "\t Number of junctions with two cryptic splice sites                 &   38\\\\\n",
       "\t Number of novel junctions that connect two annotated splice sites &  118\\\\\n",
       "\\end{tabular}\n"
      ],
      "text/markdown": [
       "\n",
       "A data.frame: 5 × 2\n",
       "\n",
       "| Results &lt;chr&gt; | n &lt;int&gt; |\n",
       "|---|---|\n",
       "| Number of fully annotated junctions                               | 1249 |\n",
       "| Number of junctions with cryptic 5' splice site                   |  119 |\n",
       "| Number of junctions with cryptic 3' splice site                   |  145 |\n",
       "| Number of junctions with two cryptic splice sites                 |   38 |\n",
       "| Number of novel junctions that connect two annotated splice sites |  118 |\n",
       "\n"
      ],
      "text/plain": [
       "  Results                                                           n   \n",
       "1 Number of fully annotated junctions                               1249\n",
       "2 Number of junctions with cryptic 5' splice site                    119\n",
       "3 Number of junctions with cryptic 3' splice site                    145\n",
       "4 Number of junctions with two cryptic splice sites                   38\n",
       "5 Number of novel junctions that connect two annotated splice sites  118"
      ]
     },
     "metadata": {},
     "output_type": "display_data"
    }
   ],
   "source": [
    "intron_summary"
   ]
  },
  {
   "cell_type": "code",
   "execution_count": 6,
   "metadata": {},
   "outputs": [
    {
     "data": {
      "text/html": [
       "<table class=\"dataframe\">\n",
       "<caption>A data.frame: 6 × 6</caption>\n",
       "<thead>\n",
       "\t<tr><th></th><th scope=col>clusterID</th><th scope=col>N</th><th scope=col>coord</th><th scope=col>gene</th><th scope=col>annotation</th><th scope=col>FDR</th></tr>\n",
       "\t<tr><th></th><th scope=col>&lt;chr&gt;</th><th scope=col>&lt;dbl&gt;</th><th scope=col>&lt;chr&gt;</th><th scope=col>&lt;chr&gt;</th><th scope=col>&lt;chr&gt;</th><th scope=col>&lt;dbl&gt;</th></tr>\n",
       "</thead>\n",
       "<tbody>\n",
       "\t<tr><th scope=row>352</th><td>clu_755_-   </td><td> 3</td><td>chrX:53217966-53220839  </td><td>KDM5C  </td><td>annotated</td><td>2.27e-43</td></tr>\n",
       "\t<tr><th scope=row>350</th><td>clu_744_-   </td><td>10</td><td>chrX:53176622-53193437  </td><td>KDM5C  </td><td>cryptic  </td><td>3.64e-40</td></tr>\n",
       "\t<tr><th scope=row>282</th><td>clu_109096_+</td><td> 9</td><td>chr6:72292046-72390598  </td><td>RIMS1  </td><td>cryptic  </td><td>1.89e-16</td></tr>\n",
       "\t<tr><th scope=row>291</th><td>clu_143938_-</td><td>22</td><td>chr6:130863718-130885096</td><td>EPB41L2</td><td>cryptic  </td><td>1.89e-16</td></tr>\n",
       "\t<tr><th scope=row>340</th><td>clu_61504_+ </td><td> 3</td><td>chrX:47199106-47199480  </td><td>UBA1   </td><td>cryptic  </td><td>2.45e-16</td></tr>\n",
       "\t<tr><th scope=row>227</th><td>clu_21090_- </td><td>11</td><td>chr3:197066754-197081051</td><td>DLG1   </td><td>cryptic  </td><td>2.32e-14</td></tr>\n",
       "</tbody>\n",
       "</table>\n"
      ],
      "text/latex": [
       "A data.frame: 6 × 6\n",
       "\\begin{tabular}{r|llllll}\n",
       "  & clusterID & N & coord & gene & annotation & FDR\\\\\n",
       "  & <chr> & <dbl> & <chr> & <chr> & <chr> & <dbl>\\\\\n",
       "\\hline\n",
       "\t352 & clu\\_755\\_-    &  3 & chrX:53217966-53220839   & KDM5C   & annotated & 2.27e-43\\\\\n",
       "\t350 & clu\\_744\\_-    & 10 & chrX:53176622-53193437   & KDM5C   & cryptic   & 3.64e-40\\\\\n",
       "\t282 & clu\\_109096\\_+ &  9 & chr6:72292046-72390598   & RIMS1   & cryptic   & 1.89e-16\\\\\n",
       "\t291 & clu\\_143938\\_- & 22 & chr6:130863718-130885096 & EPB41L2 & cryptic   & 1.89e-16\\\\\n",
       "\t340 & clu\\_61504\\_+  &  3 & chrX:47199106-47199480   & UBA1    & cryptic   & 2.45e-16\\\\\n",
       "\t227 & clu\\_21090\\_-  & 11 & chr3:197066754-197081051 & DLG1    & cryptic   & 2.32e-14\\\\\n",
       "\\end{tabular}\n"
      ],
      "text/markdown": [
       "\n",
       "A data.frame: 6 × 6\n",
       "\n",
       "| <!--/--> | clusterID &lt;chr&gt; | N &lt;dbl&gt; | coord &lt;chr&gt; | gene &lt;chr&gt; | annotation &lt;chr&gt; | FDR &lt;dbl&gt; |\n",
       "|---|---|---|---|---|---|---|\n",
       "| 352 | clu_755_-    |  3 | chrX:53217966-53220839   | KDM5C   | annotated | 2.27e-43 |\n",
       "| 350 | clu_744_-    | 10 | chrX:53176622-53193437   | KDM5C   | cryptic   | 3.64e-40 |\n",
       "| 282 | clu_109096_+ |  9 | chr6:72292046-72390598   | RIMS1   | cryptic   | 1.89e-16 |\n",
       "| 291 | clu_143938_- | 22 | chr6:130863718-130885096 | EPB41L2 | cryptic   | 1.89e-16 |\n",
       "| 340 | clu_61504_+  |  3 | chrX:47199106-47199480   | UBA1    | cryptic   | 2.45e-16 |\n",
       "| 227 | clu_21090_-  | 11 | chr3:197066754-197081051 | DLG1    | cryptic   | 2.32e-14 |\n",
       "\n"
      ],
      "text/plain": [
       "    clusterID    N  coord                    gene    annotation FDR     \n",
       "352 clu_755_-     3 chrX:53217966-53220839   KDM5C   annotated  2.27e-43\n",
       "350 clu_744_-    10 chrX:53176622-53193437   KDM5C   cryptic    3.64e-40\n",
       "282 clu_109096_+  9 chr6:72292046-72390598   RIMS1   cryptic    1.89e-16\n",
       "291 clu_143938_- 22 chr6:130863718-130885096 EPB41L2 cryptic    1.89e-16\n",
       "340 clu_61504_+   3 chrX:47199106-47199480   UBA1    cryptic    2.45e-16\n",
       "227 clu_21090_-  11 chr3:197066754-197081051 DLG1    cryptic    2.32e-14"
      ]
     },
     "metadata": {},
     "output_type": "display_data"
    }
   ],
   "source": [
    "clusters['gene'] <- gsub(\"</i>\", \"\", gsub(\"<i>\", \"\", clusters$gene))\n",
    "head(clusters)"
   ]
  },
  {
   "cell_type": "code",
   "execution_count": 7,
   "metadata": {},
   "outputs": [],
   "source": [
    "write.table(clusters, file=\"cluster_ds_results_annotated.txt\", \n",
    "            sep=\"\\t\", quote=FALSE, row.names=FALSE)"
   ]
  },
  {
   "cell_type": "markdown",
   "metadata": {},
   "source": [
    "## Generate plots"
   ]
  },
  {
   "cell_type": "markdown",
   "metadata": {},
   "source": [
    "### Define functions"
   ]
  },
  {
   "cell_type": "code",
   "execution_count": 8,
   "metadata": {},
   "outputs": [],
   "source": [
    "filter_intron_table <- function(introns, clu){\n",
    "    d < - introns %>% filter(clusterID == clu) %>% \n",
    "        select(chr, start, end, verdict, deltapsi) %>%\n",
    "        arrange(desc(abs(deltapsi))) %>%\n",
    "        rename(\"ΔPSI\" = deltapsi)\n",
    "    row.names(d) <- letters[1:nrow(d)] # letters is just a:z\n",
    "    return(d)\n",
    "}\n",
    "\n",
    "\n",
    "getGeneLength <- function(gene_name, exons_table){\n",
    "    exons      <- exons_table[ exons_table$gene_name == gene_name, ]\n",
    "    geneStart  <- min(exons$start)\n",
    "    geneEnd    <- max(exons$end)\n",
    "    geneLength <- geneEnd - geneStart\n",
    "    if( geneLength >1e6){\n",
    "        pixels <- 5000\n",
    "    } else if ( geneLength > 5e5 & geneLength < 1e6){\n",
    "        pixels <- 3000\n",
    "    } else if ( geneLength > 1.5e5 & geneLength <= 5e5){\n",
    "        pixels <- 2000\n",
    "    } else {\n",
    "        stopifnot(geneLength <= 1.5e5)\n",
    "        pixels <- \"auto\"\n",
    "    }\n",
    "    return(pixels)\n",
    "}\n",
    "\n",
    "\n",
    "select_data <- function(sel, clusters, exons_table){\n",
    "    gene <- clusters[ sel, ]$gene\n",
    "    width <- getGeneLength(gene, exons_table)\n",
    "    clusterID <- clusters[ sel, ]$clusterID\n",
    "    coord <- clusters[ sel, ]$coord\n",
    "    return(list(gene = gene, width = width, cluster = clusterID, coord = coord))\n",
    "}"
   ]
  },
  {
   "cell_type": "markdown",
   "metadata": {},
   "source": [
    "### Plot top 6 clusters"
   ]
  },
  {
   "cell_type": "code",
   "execution_count": 42,
   "metadata": {},
   "outputs": [],
   "source": [
    "plot_cluster <- function(num, clusters, dir='./'){\n",
    "    mydata = select_data(num, clusters, exons_table)\n",
    "    if(mydata$gene == '.'){\n",
    "        mydata$gene = gsub(\"-\", \"_\", gsub(\":\", \"_\", mydata$coord))\n",
    "    }\n",
    "    gene_name = mydata$gene\n",
    "    plotTitle <- paste0(gene_name, '_', mydata$cluster, '_top_',num,'.pdf')\n",
    "    pdf(file=paste0(dir, plotTitle), width = 10, height = 5)\n",
    "    print(make_cluster_plot(mydata$cluster,\n",
    "                            main_title = plotTitle,\n",
    "                            meta = meta,\n",
    "                            cluster_ids = cluster_ids,\n",
    "                            exons_table = exons_table,\n",
    "                            counts = counts,\n",
    "                            introns = introns))\n",
    "    dev.off()\n",
    "\n",
    "    if (is.numeric(mydata$width)) {\n",
    "        new_width = mydata$width / 100\n",
    "    } else {\n",
    "        new_width = mydata$width\n",
    "    }\n",
    "\n",
    "    pdf(file=paste0(dir, gene_name, '_allClusters_top_',num,'.pdf'), \n",
    "        width=new_width, height=6)\n",
    "    try(print(make_gene_plot(mydata$gene,\n",
    "                         counts = counts,\n",
    "                         introns = introns,\n",
    "                         exons_table = exons_table,\n",
    "                         cluster_list = clusters,\n",
    "                         clusterID = mydata$cluster,\n",
    "                         introns_to_plot = introns_to_plot, debug=F)))\n",
    "    dev.off()\n",
    "}\n"
   ]
  },
  {
   "cell_type": "markdown",
   "metadata": {},
   "source": [
    "## Plot splicing"
   ]
  },
  {
   "cell_type": "code",
   "execution_count": 10,
   "metadata": {},
   "outputs": [
    {
     "name": "stderr",
     "output_type": "stream",
     "text": [
      "Warning message in dir.create(\"top10\"):\n",
      "\"'top10' already exists\"\n",
      "Warning message:\n",
      "\"`guides(<scale> = FALSE)` is deprecated. Please use `guides(<scale> = \"none\")` instead.\"\n"
     ]
    },
    {
     "name": "stdout",
     "output_type": "stream",
     "text": [
      "TableGrob (2 x 1) \"arrange\": 2 grobs\n",
      "  z     cells    name           grob\n",
      "1 1 (1-1,1-1) arrange gtable[layout]\n",
      "2 2 (2-2,1-1) arrange gtable[layout]\n"
     ]
    },
    {
     "name": "stderr",
     "output_type": "stream",
     "text": [
      "Warning message:\n",
      "\"'mode(width)' differs between new and previous\n",
      "\t ==> NOT changing 'width'\"\n",
      "Warning message:\n",
      "\"`guides(<scale> = FALSE)` is deprecated. Please use `guides(<scale> = \"none\")` instead.\"\n"
     ]
    },
    {
     "name": "stdout",
     "output_type": "stream",
     "text": [
      "TableGrob (2 x 1) \"arrange\": 2 grobs\n",
      "  z     cells    name           grob\n",
      "1 1 (1-1,1-1) arrange gtable[layout]\n",
      "2 2 (2-2,1-1) arrange gtable[layout]\n"
     ]
    },
    {
     "name": "stderr",
     "output_type": "stream",
     "text": [
      "Warning message:\n",
      "\"'mode(width)' differs between new and previous\n",
      "\t ==> NOT changing 'width'\"\n",
      "Warning message:\n",
      "\"`guides(<scale> = FALSE)` is deprecated. Please use `guides(<scale> = \"none\")` instead.\"\n"
     ]
    },
    {
     "name": "stdout",
     "output_type": "stream",
     "text": [
      "TableGrob (2 x 1) \"arrange\": 2 grobs\n",
      "  z     cells    name           grob\n",
      "1 1 (1-1,1-1) arrange gtable[layout]\n",
      "2 2 (2-2,1-1) arrange gtable[layout]\n"
     ]
    },
    {
     "name": "stderr",
     "output_type": "stream",
     "text": [
      "Warning message:\n",
      "\"`guides(<scale> = FALSE)` is deprecated. Please use `guides(<scale> = \"none\")` instead.\"\n"
     ]
    },
    {
     "name": "stdout",
     "output_type": "stream",
     "text": [
      "TableGrob (2 x 1) \"arrange\": 2 grobs\n",
      "  z     cells    name           grob\n",
      "1 1 (1-1,1-1) arrange gtable[layout]\n",
      "2 2 (2-2,1-1) arrange gtable[layout]\n"
     ]
    },
    {
     "name": "stderr",
     "output_type": "stream",
     "text": [
      "Warning message:\n",
      "\"`guides(<scale> = FALSE)` is deprecated. Please use `guides(<scale> = \"none\")` instead.\"\n"
     ]
    },
    {
     "name": "stdout",
     "output_type": "stream",
     "text": [
      "TableGrob (2 x 1) \"arrange\": 2 grobs\n",
      "  z     cells    name           grob\n",
      "1 1 (1-1,1-1) arrange gtable[layout]\n",
      "2 2 (2-2,1-1) arrange gtable[layout]\n"
     ]
    },
    {
     "name": "stderr",
     "output_type": "stream",
     "text": [
      "Warning message:\n",
      "\"'mode(width)' differs between new and previous\n",
      "\t ==> NOT changing 'width'\"\n",
      "Warning message:\n",
      "\"`guides(<scale> = FALSE)` is deprecated. Please use `guides(<scale> = \"none\")` instead.\"\n"
     ]
    },
    {
     "name": "stdout",
     "output_type": "stream",
     "text": [
      "TableGrob (2 x 1) \"arrange\": 2 grobs\n",
      "  z     cells    name           grob\n",
      "1 1 (1-1,1-1) arrange gtable[layout]\n",
      "2 2 (2-2,1-1) arrange gtable[layout]\n"
     ]
    },
    {
     "name": "stderr",
     "output_type": "stream",
     "text": [
      "Warning message:\n",
      "\"`guides(<scale> = FALSE)` is deprecated. Please use `guides(<scale> = \"none\")` instead.\"\n"
     ]
    },
    {
     "name": "stdout",
     "output_type": "stream",
     "text": [
      "TableGrob (2 x 1) \"arrange\": 2 grobs\n",
      "  z     cells    name           grob\n",
      "1 1 (1-1,1-1) arrange gtable[layout]\n",
      "2 2 (2-2,1-1) arrange gtable[layout]\n"
     ]
    },
    {
     "name": "stderr",
     "output_type": "stream",
     "text": [
      "Warning message:\n",
      "\"`guides(<scale> = FALSE)` is deprecated. Please use `guides(<scale> = \"none\")` instead.\"\n"
     ]
    },
    {
     "name": "stdout",
     "output_type": "stream",
     "text": [
      "TableGrob (2 x 1) \"arrange\": 2 grobs\n",
      "  z     cells    name           grob\n",
      "1 1 (1-1,1-1) arrange gtable[layout]\n",
      "2 2 (2-2,1-1) arrange gtable[layout]\n"
     ]
    },
    {
     "name": "stderr",
     "output_type": "stream",
     "text": [
      "Warning message:\n",
      "\"`guides(<scale> = FALSE)` is deprecated. Please use `guides(<scale> = \"none\")` instead.\"\n"
     ]
    },
    {
     "name": "stdout",
     "output_type": "stream",
     "text": [
      "TableGrob (2 x 1) \"arrange\": 2 grobs\n",
      "  z     cells    name           grob\n",
      "1 1 (1-1,1-1) arrange gtable[layout]\n",
      "2 2 (2-2,1-1) arrange gtable[layout]\n"
     ]
    },
    {
     "name": "stderr",
     "output_type": "stream",
     "text": [
      "Warning message:\n",
      "\"'mode(width)' differs between new and previous\n",
      "\t ==> NOT changing 'width'\"\n",
      "Warning message:\n",
      "\"`guides(<scale> = FALSE)` is deprecated. Please use `guides(<scale> = \"none\")` instead.\"\n"
     ]
    },
    {
     "name": "stdout",
     "output_type": "stream",
     "text": [
      "TableGrob (2 x 1) \"arrange\": 2 grobs\n",
      "  z     cells    name           grob\n",
      "1 1 (1-1,1-1) arrange gtable[layout]\n",
      "2 2 (2-2,1-1) arrange gtable[layout]\n"
     ]
    }
   ],
   "source": [
    "dir.create(\"top10\")\n",
    "for(num in 1:10){\n",
    "    ii = plot_cluster(num, clusters, \"top10/\")\n",
    "}"
   ]
  },
  {
   "cell_type": "code",
   "execution_count": 13,
   "metadata": {},
   "outputs": [
    {
     "name": "stderr",
     "output_type": "stream",
     "text": [
      "Warning message in dir.create(\"x_chromosome\"):\n",
      "\"'x_chromosome' already exists\"\n"
     ]
    },
    {
     "data": {
      "text/html": [
       "<table class=\"dataframe\">\n",
       "<caption>A data.frame: 22 × 6</caption>\n",
       "<thead>\n",
       "\t<tr><th scope=col>clusterID</th><th scope=col>N</th><th scope=col>coord</th><th scope=col>gene</th><th scope=col>annotation</th><th scope=col>FDR</th></tr>\n",
       "\t<tr><th scope=col>&lt;chr&gt;</th><th scope=col>&lt;dbl&gt;</th><th scope=col>&lt;chr&gt;</th><th scope=col>&lt;chr&gt;</th><th scope=col>&lt;chr&gt;</th><th scope=col>&lt;dbl&gt;</th></tr>\n",
       "</thead>\n",
       "<tbody>\n",
       "\t<tr><td>clu_755_-  </td><td> 3</td><td>chrX:53217966-53220839  </td><td>KDM5C </td><td>annotated</td><td>2.27e-43</td></tr>\n",
       "\t<tr><td>clu_744_-  </td><td>10</td><td>chrX:53176622-53193437  </td><td>KDM5C </td><td>cryptic  </td><td>3.64e-40</td></tr>\n",
       "\t<tr><td>clu_61504_+</td><td> 3</td><td>chrX:47199106-47199480  </td><td>UBA1  </td><td>cryptic  </td><td>2.45e-16</td></tr>\n",
       "\t<tr><td>clu_62902_+</td><td>10</td><td>chrX:153765580-153769162</td><td>PLXNB3</td><td>cryptic  </td><td>1.06e-09</td></tr>\n",
       "\t<tr><td>clu_1810_- </td><td> 3</td><td>chrX:152989331-152991916</td><td>PNMA5 </td><td>cryptic  </td><td>4.00e-09</td></tr>\n",
       "\t<tr><td>clu_752_-  </td><td> 3</td><td>chrX:53210576-53211497  </td><td>KDM5C </td><td>cryptic  </td><td>8.61e-09</td></tr>\n",
       "\t<tr><td>clu_62904_+</td><td> 7</td><td>chrX:153771081-153771864</td><td>PLXNB3</td><td>cryptic  </td><td>1.38e-07</td></tr>\n",
       "\t<tr><td>clu_62916_+</td><td> 5</td><td>chrX:153777688-153778396</td><td>PLXNB3</td><td>cryptic  </td><td>1.14e-06</td></tr>\n",
       "\t<tr><td>clu_62431_+</td><td> 3</td><td>chrX:115636978-115640408</td><td>PLS3  </td><td>annotated</td><td>7.28e-06</td></tr>\n",
       "\t<tr><td>clu_261_-  </td><td>11</td><td>chrX:15825984-15845379  </td><td>AP1S2 </td><td>cryptic  </td><td>1.37e-04</td></tr>\n",
       "\t<tr><td>clu_206_-  </td><td> 5</td><td>chrX:13785808-13938507  </td><td>GPM6B </td><td>annotated</td><td>1.53e-04</td></tr>\n",
       "\t<tr><td>clu_1841_- </td><td> 9</td><td>chrX:154032557-154097604</td><td>MECP2 </td><td>cryptic  </td><td>9.14e-04</td></tr>\n",
       "\t<tr><td>clu_1482_- </td><td> 3</td><td>chrX:120428626-120441730</td><td>LAMP2 </td><td>annotated</td><td>1.94e-03</td></tr>\n",
       "\t<tr><td>clu_60959_+</td><td> 9</td><td>chrX:2861722-2910874    </td><td>GYG2  </td><td>cryptic  </td><td>8.68e-03</td></tr>\n",
       "\t<tr><td>clu_62906_+</td><td> 5</td><td>chrX:153772287-153773230</td><td>PLXNB3</td><td>cryptic  </td><td>8.68e-03</td></tr>\n",
       "\t<tr><td>clu_62231_+</td><td> 4</td><td>chrX:103310981-103330984</td><td>TCEAL7</td><td>cryptic  </td><td>1.14e-02</td></tr>\n",
       "\t<tr><td>clu_480_-  </td><td> 3</td><td>chrX:41610025-41626604  </td><td>CASK  </td><td>annotated</td><td>1.23e-02</td></tr>\n",
       "\t<tr><td>clu_12601_?</td><td> 4</td><td>chrX:120428626-120441730</td><td>LAMP2 </td><td>cryptic  </td><td>1.70e-02</td></tr>\n",
       "\t<tr><td>clu_62948_+</td><td> 5</td><td>chrX:154399941-154400702</td><td>RPL10 </td><td>cryptic  </td><td>2.73e-02</td></tr>\n",
       "\t<tr><td>clu_61084_+</td><td> 6</td><td>chrX:13735220-13736656  </td><td>OFD1  </td><td>cryptic  </td><td>3.09e-02</td></tr>\n",
       "\t<tr><td>clu_62377_+</td><td> 3</td><td>chrX:108584525-108586615</td><td>COL4A5</td><td>cryptic  </td><td>4.60e-02</td></tr>\n",
       "\t<tr><td>clu_61903_+</td><td> 2</td><td>chrX:71167800-71171654  </td><td>NLGN3 </td><td>cryptic  </td><td>4.93e-02</td></tr>\n",
       "</tbody>\n",
       "</table>\n"
      ],
      "text/latex": [
       "A data.frame: 22 × 6\n",
       "\\begin{tabular}{llllll}\n",
       " clusterID & N & coord & gene & annotation & FDR\\\\\n",
       " <chr> & <dbl> & <chr> & <chr> & <chr> & <dbl>\\\\\n",
       "\\hline\n",
       "\t clu\\_755\\_-   &  3 & chrX:53217966-53220839   & KDM5C  & annotated & 2.27e-43\\\\\n",
       "\t clu\\_744\\_-   & 10 & chrX:53176622-53193437   & KDM5C  & cryptic   & 3.64e-40\\\\\n",
       "\t clu\\_61504\\_+ &  3 & chrX:47199106-47199480   & UBA1   & cryptic   & 2.45e-16\\\\\n",
       "\t clu\\_62902\\_+ & 10 & chrX:153765580-153769162 & PLXNB3 & cryptic   & 1.06e-09\\\\\n",
       "\t clu\\_1810\\_-  &  3 & chrX:152989331-152991916 & PNMA5  & cryptic   & 4.00e-09\\\\\n",
       "\t clu\\_752\\_-   &  3 & chrX:53210576-53211497   & KDM5C  & cryptic   & 8.61e-09\\\\\n",
       "\t clu\\_62904\\_+ &  7 & chrX:153771081-153771864 & PLXNB3 & cryptic   & 1.38e-07\\\\\n",
       "\t clu\\_62916\\_+ &  5 & chrX:153777688-153778396 & PLXNB3 & cryptic   & 1.14e-06\\\\\n",
       "\t clu\\_62431\\_+ &  3 & chrX:115636978-115640408 & PLS3   & annotated & 7.28e-06\\\\\n",
       "\t clu\\_261\\_-   & 11 & chrX:15825984-15845379   & AP1S2  & cryptic   & 1.37e-04\\\\\n",
       "\t clu\\_206\\_-   &  5 & chrX:13785808-13938507   & GPM6B  & annotated & 1.53e-04\\\\\n",
       "\t clu\\_1841\\_-  &  9 & chrX:154032557-154097604 & MECP2  & cryptic   & 9.14e-04\\\\\n",
       "\t clu\\_1482\\_-  &  3 & chrX:120428626-120441730 & LAMP2  & annotated & 1.94e-03\\\\\n",
       "\t clu\\_60959\\_+ &  9 & chrX:2861722-2910874     & GYG2   & cryptic   & 8.68e-03\\\\\n",
       "\t clu\\_62906\\_+ &  5 & chrX:153772287-153773230 & PLXNB3 & cryptic   & 8.68e-03\\\\\n",
       "\t clu\\_62231\\_+ &  4 & chrX:103310981-103330984 & TCEAL7 & cryptic   & 1.14e-02\\\\\n",
       "\t clu\\_480\\_-   &  3 & chrX:41610025-41626604   & CASK   & annotated & 1.23e-02\\\\\n",
       "\t clu\\_12601\\_? &  4 & chrX:120428626-120441730 & LAMP2  & cryptic   & 1.70e-02\\\\\n",
       "\t clu\\_62948\\_+ &  5 & chrX:154399941-154400702 & RPL10  & cryptic   & 2.73e-02\\\\\n",
       "\t clu\\_61084\\_+ &  6 & chrX:13735220-13736656   & OFD1   & cryptic   & 3.09e-02\\\\\n",
       "\t clu\\_62377\\_+ &  3 & chrX:108584525-108586615 & COL4A5 & cryptic   & 4.60e-02\\\\\n",
       "\t clu\\_61903\\_+ &  2 & chrX:71167800-71171654   & NLGN3  & cryptic   & 4.93e-02\\\\\n",
       "\\end{tabular}\n"
      ],
      "text/markdown": [
       "\n",
       "A data.frame: 22 × 6\n",
       "\n",
       "| clusterID &lt;chr&gt; | N &lt;dbl&gt; | coord &lt;chr&gt; | gene &lt;chr&gt; | annotation &lt;chr&gt; | FDR &lt;dbl&gt; |\n",
       "|---|---|---|---|---|---|\n",
       "| clu_755_-   |  3 | chrX:53217966-53220839   | KDM5C  | annotated | 2.27e-43 |\n",
       "| clu_744_-   | 10 | chrX:53176622-53193437   | KDM5C  | cryptic   | 3.64e-40 |\n",
       "| clu_61504_+ |  3 | chrX:47199106-47199480   | UBA1   | cryptic   | 2.45e-16 |\n",
       "| clu_62902_+ | 10 | chrX:153765580-153769162 | PLXNB3 | cryptic   | 1.06e-09 |\n",
       "| clu_1810_-  |  3 | chrX:152989331-152991916 | PNMA5  | cryptic   | 4.00e-09 |\n",
       "| clu_752_-   |  3 | chrX:53210576-53211497   | KDM5C  | cryptic   | 8.61e-09 |\n",
       "| clu_62904_+ |  7 | chrX:153771081-153771864 | PLXNB3 | cryptic   | 1.38e-07 |\n",
       "| clu_62916_+ |  5 | chrX:153777688-153778396 | PLXNB3 | cryptic   | 1.14e-06 |\n",
       "| clu_62431_+ |  3 | chrX:115636978-115640408 | PLS3   | annotated | 7.28e-06 |\n",
       "| clu_261_-   | 11 | chrX:15825984-15845379   | AP1S2  | cryptic   | 1.37e-04 |\n",
       "| clu_206_-   |  5 | chrX:13785808-13938507   | GPM6B  | annotated | 1.53e-04 |\n",
       "| clu_1841_-  |  9 | chrX:154032557-154097604 | MECP2  | cryptic   | 9.14e-04 |\n",
       "| clu_1482_-  |  3 | chrX:120428626-120441730 | LAMP2  | annotated | 1.94e-03 |\n",
       "| clu_60959_+ |  9 | chrX:2861722-2910874     | GYG2   | cryptic   | 8.68e-03 |\n",
       "| clu_62906_+ |  5 | chrX:153772287-153773230 | PLXNB3 | cryptic   | 8.68e-03 |\n",
       "| clu_62231_+ |  4 | chrX:103310981-103330984 | TCEAL7 | cryptic   | 1.14e-02 |\n",
       "| clu_480_-   |  3 | chrX:41610025-41626604   | CASK   | annotated | 1.23e-02 |\n",
       "| clu_12601_? |  4 | chrX:120428626-120441730 | LAMP2  | cryptic   | 1.70e-02 |\n",
       "| clu_62948_+ |  5 | chrX:154399941-154400702 | RPL10  | cryptic   | 2.73e-02 |\n",
       "| clu_61084_+ |  6 | chrX:13735220-13736656   | OFD1   | cryptic   | 3.09e-02 |\n",
       "| clu_62377_+ |  3 | chrX:108584525-108586615 | COL4A5 | cryptic   | 4.60e-02 |\n",
       "| clu_61903_+ |  2 | chrX:71167800-71171654   | NLGN3  | cryptic   | 4.93e-02 |\n",
       "\n"
      ],
      "text/plain": [
       "   clusterID   N  coord                    gene   annotation FDR     \n",
       "1  clu_755_-    3 chrX:53217966-53220839   KDM5C  annotated  2.27e-43\n",
       "2  clu_744_-   10 chrX:53176622-53193437   KDM5C  cryptic    3.64e-40\n",
       "3  clu_61504_+  3 chrX:47199106-47199480   UBA1   cryptic    2.45e-16\n",
       "4  clu_62902_+ 10 chrX:153765580-153769162 PLXNB3 cryptic    1.06e-09\n",
       "5  clu_1810_-   3 chrX:152989331-152991916 PNMA5  cryptic    4.00e-09\n",
       "6  clu_752_-    3 chrX:53210576-53211497   KDM5C  cryptic    8.61e-09\n",
       "7  clu_62904_+  7 chrX:153771081-153771864 PLXNB3 cryptic    1.38e-07\n",
       "8  clu_62916_+  5 chrX:153777688-153778396 PLXNB3 cryptic    1.14e-06\n",
       "9  clu_62431_+  3 chrX:115636978-115640408 PLS3   annotated  7.28e-06\n",
       "10 clu_261_-   11 chrX:15825984-15845379   AP1S2  cryptic    1.37e-04\n",
       "11 clu_206_-    5 chrX:13785808-13938507   GPM6B  annotated  1.53e-04\n",
       "12 clu_1841_-   9 chrX:154032557-154097604 MECP2  cryptic    9.14e-04\n",
       "13 clu_1482_-   3 chrX:120428626-120441730 LAMP2  annotated  1.94e-03\n",
       "14 clu_60959_+  9 chrX:2861722-2910874     GYG2   cryptic    8.68e-03\n",
       "15 clu_62906_+  5 chrX:153772287-153773230 PLXNB3 cryptic    8.68e-03\n",
       "16 clu_62231_+  4 chrX:103310981-103330984 TCEAL7 cryptic    1.14e-02\n",
       "17 clu_480_-    3 chrX:41610025-41626604   CASK   annotated  1.23e-02\n",
       "18 clu_12601_?  4 chrX:120428626-120441730 LAMP2  cryptic    1.70e-02\n",
       "19 clu_62948_+  5 chrX:154399941-154400702 RPL10  cryptic    2.73e-02\n",
       "20 clu_61084_+  6 chrX:13735220-13736656   OFD1   cryptic    3.09e-02\n",
       "21 clu_62377_+  3 chrX:108584525-108586615 COL4A5 cryptic    4.60e-02\n",
       "22 clu_61903_+  2 chrX:71167800-71171654   NLGN3  cryptic    4.93e-02"
      ]
     },
     "metadata": {},
     "output_type": "display_data"
    }
   ],
   "source": [
    "dir.create(\"x_chromosome\")\n",
    "x_clu = clusters %>% filter(str_detect(coord, \"chrX\"), FDR < 0.05)\n",
    "x_clu"
   ]
  },
  {
   "cell_type": "code",
   "execution_count": 14,
   "metadata": {},
   "outputs": [
    {
     "name": "stderr",
     "output_type": "stream",
     "text": [
      "Warning message:\n",
      "\"`guides(<scale> = FALSE)` is deprecated. Please use `guides(<scale> = \"none\")` instead.\"\n"
     ]
    },
    {
     "name": "stdout",
     "output_type": "stream",
     "text": [
      "TableGrob (2 x 1) \"arrange\": 2 grobs\n",
      "  z     cells    name           grob\n",
      "1 1 (1-1,1-1) arrange gtable[layout]\n",
      "2 2 (2-2,1-1) arrange gtable[layout]\n"
     ]
    },
    {
     "name": "stderr",
     "output_type": "stream",
     "text": [
      "Warning message:\n",
      "\"'mode(width)' differs between new and previous\n",
      "\t ==> NOT changing 'width'\"\n",
      "Warning message:\n",
      "\"`guides(<scale> = FALSE)` is deprecated. Please use `guides(<scale> = \"none\")` instead.\"\n"
     ]
    },
    {
     "name": "stdout",
     "output_type": "stream",
     "text": [
      "TableGrob (2 x 1) \"arrange\": 2 grobs\n",
      "  z     cells    name           grob\n",
      "1 1 (1-1,1-1) arrange gtable[layout]\n",
      "2 2 (2-2,1-1) arrange gtable[layout]\n"
     ]
    },
    {
     "name": "stderr",
     "output_type": "stream",
     "text": [
      "Warning message:\n",
      "\"'mode(width)' differs between new and previous\n",
      "\t ==> NOT changing 'width'\"\n",
      "Warning message:\n",
      "\"`guides(<scale> = FALSE)` is deprecated. Please use `guides(<scale> = \"none\")` instead.\"\n"
     ]
    },
    {
     "name": "stdout",
     "output_type": "stream",
     "text": [
      "TableGrob (2 x 1) \"arrange\": 2 grobs\n",
      "  z     cells    name           grob\n",
      "1 1 (1-1,1-1) arrange gtable[layout]\n",
      "2 2 (2-2,1-1) arrange gtable[layout]\n"
     ]
    },
    {
     "name": "stderr",
     "output_type": "stream",
     "text": [
      "Warning message:\n",
      "\"'mode(width)' differs between new and previous\n",
      "\t ==> NOT changing 'width'\"\n",
      "Warning message:\n",
      "\"`guides(<scale> = FALSE)` is deprecated. Please use `guides(<scale> = \"none\")` instead.\"\n"
     ]
    },
    {
     "name": "stdout",
     "output_type": "stream",
     "text": [
      "TableGrob (2 x 1) \"arrange\": 2 grobs\n",
      "  z     cells    name           grob\n",
      "1 1 (1-1,1-1) arrange gtable[layout]\n",
      "2 2 (2-2,1-1) arrange gtable[layout]\n"
     ]
    },
    {
     "name": "stderr",
     "output_type": "stream",
     "text": [
      "Warning message:\n",
      "\"'mode(width)' differs between new and previous\n",
      "\t ==> NOT changing 'width'\"\n",
      "Warning message:\n",
      "\"`guides(<scale> = FALSE)` is deprecated. Please use `guides(<scale> = \"none\")` instead.\"\n",
      "Warning message:\n",
      "\"Removed 1 row(s) containing missing values (geom_path).\"\n",
      "Warning message:\n",
      "\"Removed 1 row(s) containing missing values (geom_path).\"\n"
     ]
    },
    {
     "name": "stdout",
     "output_type": "stream",
     "text": [
      "TableGrob (2 x 1) \"arrange\": 2 grobs\n",
      "  z     cells    name           grob\n",
      "1 1 (1-1,1-1) arrange gtable[layout]\n",
      "2 2 (2-2,1-1) arrange gtable[layout]\n"
     ]
    },
    {
     "name": "stderr",
     "output_type": "stream",
     "text": [
      "Warning message:\n",
      "\"'mode(width)' differs between new and previous\n",
      "\t ==> NOT changing 'width'\"\n",
      "Warning message:\n",
      "\"`guides(<scale> = FALSE)` is deprecated. Please use `guides(<scale> = \"none\")` instead.\"\n"
     ]
    },
    {
     "name": "stdout",
     "output_type": "stream",
     "text": [
      "TableGrob (2 x 1) \"arrange\": 2 grobs\n",
      "  z     cells    name           grob\n",
      "1 1 (1-1,1-1) arrange gtable[layout]\n",
      "2 2 (2-2,1-1) arrange gtable[layout]\n"
     ]
    },
    {
     "name": "stderr",
     "output_type": "stream",
     "text": [
      "Warning message:\n",
      "\"'mode(width)' differs between new and previous\n",
      "\t ==> NOT changing 'width'\"\n",
      "Warning message:\n",
      "\"`guides(<scale> = FALSE)` is deprecated. Please use `guides(<scale> = \"none\")` instead.\"\n"
     ]
    },
    {
     "name": "stdout",
     "output_type": "stream",
     "text": [
      "TableGrob (2 x 1) \"arrange\": 2 grobs\n",
      "  z     cells    name           grob\n",
      "1 1 (1-1,1-1) arrange gtable[layout]\n",
      "2 2 (2-2,1-1) arrange gtable[layout]\n"
     ]
    },
    {
     "name": "stderr",
     "output_type": "stream",
     "text": [
      "Warning message:\n",
      "\"'mode(width)' differs between new and previous\n",
      "\t ==> NOT changing 'width'\"\n",
      "Warning message:\n",
      "\"`guides(<scale> = FALSE)` is deprecated. Please use `guides(<scale> = \"none\")` instead.\"\n"
     ]
    },
    {
     "name": "stdout",
     "output_type": "stream",
     "text": [
      "TableGrob (2 x 1) \"arrange\": 2 grobs\n",
      "  z     cells    name           grob\n",
      "1 1 (1-1,1-1) arrange gtable[layout]\n",
      "2 2 (2-2,1-1) arrange gtable[layout]\n"
     ]
    },
    {
     "name": "stderr",
     "output_type": "stream",
     "text": [
      "Warning message:\n",
      "\"'mode(width)' differs between new and previous\n",
      "\t ==> NOT changing 'width'\"\n",
      "Warning message:\n",
      "\"`guides(<scale> = FALSE)` is deprecated. Please use `guides(<scale> = \"none\")` instead.\"\n"
     ]
    },
    {
     "name": "stdout",
     "output_type": "stream",
     "text": [
      "TableGrob (2 x 1) \"arrange\": 2 grobs\n",
      "  z     cells    name           grob\n",
      "1 1 (1-1,1-1) arrange gtable[layout]\n",
      "2 2 (2-2,1-1) arrange gtable[layout]\n"
     ]
    },
    {
     "name": "stderr",
     "output_type": "stream",
     "text": [
      "Warning message:\n",
      "\"'mode(width)' differs between new and previous\n",
      "\t ==> NOT changing 'width'\"\n",
      "Warning message:\n",
      "\"`guides(<scale> = FALSE)` is deprecated. Please use `guides(<scale> = \"none\")` instead.\"\n"
     ]
    },
    {
     "name": "stdout",
     "output_type": "stream",
     "text": [
      "TableGrob (2 x 1) \"arrange\": 2 grobs\n",
      "  z     cells    name           grob\n",
      "1 1 (1-1,1-1) arrange gtable[layout]\n",
      "2 2 (2-2,1-1) arrange gtable[layout]\n"
     ]
    },
    {
     "name": "stderr",
     "output_type": "stream",
     "text": [
      "Warning message:\n",
      "\"'mode(width)' differs between new and previous\n",
      "\t ==> NOT changing 'width'\"\n",
      "Warning message:\n",
      "\"`guides(<scale> = FALSE)` is deprecated. Please use `guides(<scale> = \"none\")` instead.\"\n"
     ]
    },
    {
     "name": "stdout",
     "output_type": "stream",
     "text": [
      "TableGrob (2 x 1) \"arrange\": 2 grobs\n",
      "  z     cells    name           grob\n",
      "1 1 (1-1,1-1) arrange gtable[layout]\n",
      "2 2 (2-2,1-1) arrange gtable[layout]\n"
     ]
    },
    {
     "name": "stderr",
     "output_type": "stream",
     "text": [
      "Warning message:\n",
      "\"`guides(<scale> = FALSE)` is deprecated. Please use `guides(<scale> = \"none\")` instead.\"\n"
     ]
    },
    {
     "name": "stdout",
     "output_type": "stream",
     "text": [
      "TableGrob (2 x 1) \"arrange\": 2 grobs\n",
      "  z     cells    name           grob\n",
      "1 1 (1-1,1-1) arrange gtable[layout]\n",
      "2 2 (2-2,1-1) arrange gtable[layout]\n"
     ]
    },
    {
     "name": "stderr",
     "output_type": "stream",
     "text": [
      "Warning message:\n",
      "\"'mode(width)' differs between new and previous\n",
      "\t ==> NOT changing 'width'\"\n",
      "Warning message:\n",
      "\"`guides(<scale> = FALSE)` is deprecated. Please use `guides(<scale> = \"none\")` instead.\"\n"
     ]
    },
    {
     "name": "stdout",
     "output_type": "stream",
     "text": [
      "TableGrob (2 x 1) \"arrange\": 2 grobs\n",
      "  z     cells    name           grob\n",
      "1 1 (1-1,1-1) arrange gtable[layout]\n",
      "2 2 (2-2,1-1) arrange gtable[layout]\n"
     ]
    },
    {
     "name": "stderr",
     "output_type": "stream",
     "text": [
      "Warning message:\n",
      "\"'mode(width)' differs between new and previous\n",
      "\t ==> NOT changing 'width'\"\n",
      "Warning message:\n",
      "\"`guides(<scale> = FALSE)` is deprecated. Please use `guides(<scale> = \"none\")` instead.\"\n"
     ]
    },
    {
     "name": "stdout",
     "output_type": "stream",
     "text": [
      "TableGrob (2 x 1) \"arrange\": 2 grobs\n",
      "  z     cells    name           grob\n",
      "1 1 (1-1,1-1) arrange gtable[layout]\n",
      "2 2 (2-2,1-1) arrange gtable[layout]\n"
     ]
    },
    {
     "name": "stderr",
     "output_type": "stream",
     "text": [
      "Warning message:\n",
      "\"'mode(width)' differs between new and previous\n",
      "\t ==> NOT changing 'width'\"\n",
      "Warning message:\n",
      "\"`guides(<scale> = FALSE)` is deprecated. Please use `guides(<scale> = \"none\")` instead.\"\n"
     ]
    },
    {
     "name": "stdout",
     "output_type": "stream",
     "text": [
      "TableGrob (2 x 1) \"arrange\": 2 grobs\n",
      "  z     cells    name           grob\n",
      "1 1 (1-1,1-1) arrange gtable[layout]\n",
      "2 2 (2-2,1-1) arrange gtable[layout]\n"
     ]
    },
    {
     "name": "stderr",
     "output_type": "stream",
     "text": [
      "Warning message:\n",
      "\"'mode(width)' differs between new and previous\n",
      "\t ==> NOT changing 'width'\"\n",
      "Warning message:\n",
      "\"`guides(<scale> = FALSE)` is deprecated. Please use `guides(<scale> = \"none\")` instead.\"\n"
     ]
    },
    {
     "name": "stdout",
     "output_type": "stream",
     "text": [
      "TableGrob (2 x 1) \"arrange\": 2 grobs\n",
      "  z     cells    name           grob\n",
      "1 1 (1-1,1-1) arrange gtable[layout]\n",
      "2 2 (2-2,1-1) arrange gtable[layout]\n"
     ]
    },
    {
     "name": "stderr",
     "output_type": "stream",
     "text": [
      "Warning message:\n",
      "\"'mode(width)' differs between new and previous\n",
      "\t ==> NOT changing 'width'\"\n",
      "Warning message:\n",
      "\"`guides(<scale> = FALSE)` is deprecated. Please use `guides(<scale> = \"none\")` instead.\"\n"
     ]
    },
    {
     "name": "stdout",
     "output_type": "stream",
     "text": [
      "TableGrob (2 x 1) \"arrange\": 2 grobs\n",
      "  z     cells    name           grob\n",
      "1 1 (1-1,1-1) arrange gtable[layout]\n",
      "2 2 (2-2,1-1) arrange gtable[layout]\n"
     ]
    },
    {
     "name": "stderr",
     "output_type": "stream",
     "text": [
      "Warning message:\n",
      "\"`guides(<scale> = FALSE)` is deprecated. Please use `guides(<scale> = \"none\")` instead.\"\n"
     ]
    },
    {
     "name": "stdout",
     "output_type": "stream",
     "text": [
      "TableGrob (2 x 1) \"arrange\": 2 grobs\n",
      "  z     cells    name           grob\n",
      "1 1 (1-1,1-1) arrange gtable[layout]\n",
      "2 2 (2-2,1-1) arrange gtable[layout]\n"
     ]
    },
    {
     "name": "stderr",
     "output_type": "stream",
     "text": [
      "Warning message:\n",
      "\"'mode(width)' differs between new and previous\n",
      "\t ==> NOT changing 'width'\"\n",
      "Warning message:\n",
      "\"`guides(<scale> = FALSE)` is deprecated. Please use `guides(<scale> = \"none\")` instead.\"\n"
     ]
    },
    {
     "name": "stdout",
     "output_type": "stream",
     "text": [
      "TableGrob (2 x 1) \"arrange\": 2 grobs\n",
      "  z     cells    name           grob\n",
      "1 1 (1-1,1-1) arrange gtable[layout]\n",
      "2 2 (2-2,1-1) arrange gtable[layout]\n"
     ]
    },
    {
     "name": "stderr",
     "output_type": "stream",
     "text": [
      "Warning message:\n",
      "\"'mode(width)' differs between new and previous\n",
      "\t ==> NOT changing 'width'\"\n",
      "Warning message:\n",
      "\"`guides(<scale> = FALSE)` is deprecated. Please use `guides(<scale> = \"none\")` instead.\"\n"
     ]
    },
    {
     "name": "stdout",
     "output_type": "stream",
     "text": [
      "TableGrob (2 x 1) \"arrange\": 2 grobs\n",
      "  z     cells    name           grob\n",
      "1 1 (1-1,1-1) arrange gtable[layout]\n",
      "2 2 (2-2,1-1) arrange gtable[layout]\n"
     ]
    },
    {
     "name": "stderr",
     "output_type": "stream",
     "text": [
      "Warning message:\n",
      "\"'mode(width)' differs between new and previous\n",
      "\t ==> NOT changing 'width'\"\n",
      "Warning message:\n",
      "\"`guides(<scale> = FALSE)` is deprecated. Please use `guides(<scale> = \"none\")` instead.\"\n"
     ]
    },
    {
     "name": "stdout",
     "output_type": "stream",
     "text": [
      "TableGrob (2 x 1) \"arrange\": 2 grobs\n",
      "  z     cells    name           grob\n",
      "1 1 (1-1,1-1) arrange gtable[layout]\n",
      "2 2 (2-2,1-1) arrange gtable[layout]\n"
     ]
    },
    {
     "name": "stderr",
     "output_type": "stream",
     "text": [
      "Warning message:\n",
      "\"`guides(<scale> = FALSE)` is deprecated. Please use `guides(<scale> = \"none\")` instead.\"\n",
      "Warning message:\n",
      "\"Removed 1 row(s) containing missing values (geom_path).\"\n",
      "Warning message:\n",
      "\"Removed 1 row(s) containing missing values (geom_path).\"\n"
     ]
    },
    {
     "name": "stdout",
     "output_type": "stream",
     "text": [
      "TableGrob (2 x 1) \"arrange\": 2 grobs\n",
      "  z     cells    name           grob\n",
      "1 1 (1-1,1-1) arrange gtable[layout]\n",
      "2 2 (2-2,1-1) arrange gtable[layout]\n"
     ]
    },
    {
     "name": "stderr",
     "output_type": "stream",
     "text": [
      "Warning message:\n",
      "\"'mode(width)' differs between new and previous\n",
      "\t ==> NOT changing 'width'\"\n"
     ]
    },
    {
     "ename": "ERROR",
     "evalue": "Error: Aesthetics must be either length 1 or the same as the data (1): x, xend, group and colour\n",
     "output_type": "error",
     "traceback": [
      "Error: Aesthetics must be either length 1 or the same as the data (1): x, xend, group and colour\nTraceback:\n",
      "1. plot_cluster(num, x_clu, \"x_chromosome/\")",
      "2. print(make_gene_plot(mydata$gene, counts = counts, introns = introns, \n .     exons_table = exons_table, cluster_list = clusters, clusterID = mydata$clusterID, \n .     introns_to_plot = introns_to_plot, debug = F))   # at line 26-32 of file <text>",
      "3. print.ggplot(make_gene_plot(mydata$gene, counts = counts, introns = introns, \n .     exons_table = exons_table, cluster_list = clusters, clusterID = mydata$clusterID, \n .     introns_to_plot = introns_to_plot, debug = F))",
      "4. ggplot_build(x)",
      "5. ggplot_build.ggplot(x)",
      "6. by_layer(function(l, d) l$compute_aesthetics(d, plot))",
      "7. f(l = layers[[i]], d = data[[i]])",
      "8. l$compute_aesthetics(d, plot)",
      "9. f(..., self = self)",
      "10. check_aesthetics(evaled, n)",
      "11. abort(glue(\"Aesthetics must be either length 1 or the same as the data ({n}): \", \n  .     glue_collapse(names(which(!good)), \", \", last = \" and \")))",
      "12. signal_abort(cnd)"
     ]
    }
   ],
   "source": [
    "for(num in 1:dim(x_clu)[1]){\n",
    "    plot_cluster(num, x_clu, \"x_chromosome/\")\n",
    "}"
   ]
  },
  {
   "cell_type": "code",
   "execution_count": null,
   "metadata": {},
   "outputs": [],
   "source": [
    "dir.create(\"ank3\")\n",
    "ank3 = clusters %>% filter(gene == 'ANK3')\n",
    "ank3"
   ]
  },
  {
   "cell_type": "code",
   "execution_count": null,
   "metadata": {},
   "outputs": [],
   "source": [
    "for(num in 1:dim(ank3)[1]){\n",
    "    plot_cluster(num, ank3, \"ank3/\")\n",
    "}"
   ]
  },
  {
   "cell_type": "code",
   "execution_count": null,
   "metadata": {},
   "outputs": [],
   "source": []
  }
 ],
 "metadata": {
  "kernelspec": {
   "display_name": "R",
   "language": "R",
   "name": "ir"
  },
  "language_info": {
   "codemirror_mode": "r",
   "file_extension": ".r",
   "mimetype": "text/x-r-source",
   "name": "R",
   "pygments_lexer": "r",
   "version": "4.0.3"
  }
 },
 "nbformat": 4,
 "nbformat_minor": 4
}
