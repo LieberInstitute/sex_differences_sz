{
 "cells": [
  {
   "cell_type": "markdown",
   "metadata": {},
   "source": [
    "# Metrics summary for splicing"
   ]
  },
  {
   "cell_type": "code",
   "execution_count": 1,
   "metadata": {
    "execution": {
     "iopub.execute_input": "2021-07-10T12:52:50.594050Z",
     "iopub.status.busy": "2021-07-10T12:52:50.592399Z",
     "iopub.status.idle": "2021-07-10T12:52:51.004016Z",
     "shell.execute_reply": "2021-07-10T12:52:51.002988Z"
    }
   },
   "outputs": [],
   "source": [
    "import numpy as np\n",
    "import pandas as pd"
   ]
  },
  {
   "cell_type": "code",
   "execution_count": 2,
   "metadata": {
    "execution": {
     "iopub.execute_input": "2021-07-10T12:52:51.010358Z",
     "iopub.status.busy": "2021-07-10T12:52:51.009470Z",
     "iopub.status.idle": "2021-07-10T12:52:51.038399Z",
     "shell.execute_reply": "2021-07-10T12:52:51.037627Z"
    }
   },
   "outputs": [
    {
     "data": {
      "text/html": [
       "<div>\n",
       "<style scoped>\n",
       "    .dataframe tbody tr th:only-of-type {\n",
       "        vertical-align: middle;\n",
       "    }\n",
       "\n",
       "    .dataframe tbody tr th {\n",
       "        vertical-align: top;\n",
       "    }\n",
       "\n",
       "    .dataframe thead th {\n",
       "        text-align: right;\n",
       "    }\n",
       "</style>\n",
       "<table border=\"1\" class=\"dataframe\">\n",
       "  <thead>\n",
       "    <tr style=\"text-align: right;\">\n",
       "      <th></th>\n",
       "      <th>clusterID</th>\n",
       "      <th>N</th>\n",
       "      <th>coord</th>\n",
       "      <th>gene</th>\n",
       "      <th>annotation</th>\n",
       "      <th>FDR</th>\n",
       "      <th>chr</th>\n",
       "    </tr>\n",
       "  </thead>\n",
       "  <tbody>\n",
       "    <tr>\n",
       "      <th>0</th>\n",
       "      <td>clu_755_-</td>\n",
       "      <td>3</td>\n",
       "      <td>chrX:53217966-53220839</td>\n",
       "      <td>KDM5C</td>\n",
       "      <td>annotated</td>\n",
       "      <td>2.270000e-43</td>\n",
       "      <td>chrX</td>\n",
       "    </tr>\n",
       "    <tr>\n",
       "      <th>1</th>\n",
       "      <td>clu_744_-</td>\n",
       "      <td>10</td>\n",
       "      <td>chrX:53176622-53193437</td>\n",
       "      <td>KDM5C</td>\n",
       "      <td>cryptic</td>\n",
       "      <td>3.640000e-40</td>\n",
       "      <td>chrX</td>\n",
       "    </tr>\n",
       "  </tbody>\n",
       "</table>\n",
       "</div>"
      ],
      "text/plain": [
       "   clusterID   N                   coord   gene annotation           FDR   chr\n",
       "0  clu_755_-   3  chrX:53217966-53220839  KDM5C  annotated  2.270000e-43  chrX\n",
       "1  clu_744_-  10  chrX:53176622-53193437  KDM5C    cryptic  3.640000e-40  chrX"
      ]
     },
     "execution_count": 1,
     "metadata": {},
     "output_type": "execute_result"
    }
   ],
   "source": [
    "df = pd.read_csv('../../_m/cluster_ds_results_annotated.txt', sep='\\t')\n",
    "df['chr'] = df.coord.str.split(\":\", expand=True)[0]\n",
    "df.head(2)"
   ]
  },
  {
   "cell_type": "code",
   "execution_count": 3,
   "metadata": {
    "execution": {
     "iopub.execute_input": "2021-07-10T12:52:51.044112Z",
     "iopub.status.busy": "2021-07-10T12:52:51.043259Z",
     "iopub.status.idle": "2021-07-10T12:52:51.047239Z",
     "shell.execute_reply": "2021-07-10T12:52:51.048057Z"
    }
   },
   "outputs": [
    {
     "name": "stdout",
     "output_type": "stream",
     "text": [
      "There are 352 unique DS!\n",
      "There are 306 unique DS (gene name)!\n"
     ]
    }
   ],
   "source": [
    "print(\"There are %d unique DS!\" % len(df.clusterID.unique()))\n",
    "print(\"There are %d unique DS (gene name)!\" % len(df.gene.unique()))"
   ]
  },
  {
   "cell_type": "code",
   "execution_count": 4,
   "metadata": {
    "execution": {
     "iopub.execute_input": "2021-07-10T12:52:51.056330Z",
     "iopub.status.busy": "2021-07-10T12:52:51.055480Z",
     "iopub.status.idle": "2021-07-10T12:52:51.058337Z",
     "shell.execute_reply": "2021-07-10T12:52:51.059012Z"
    }
   },
   "outputs": [
    {
     "name": "stdout",
     "output_type": "stream",
     "text": [
      "There are 22 unique DS for allosomes!\n",
      "There are 16 unique DS (gene name) for allosomes!\n"
     ]
    }
   ],
   "source": [
    "dfx = df[(df['chr']=='chrX')].copy()\n",
    "print(\"There are %d unique DS for allosomes!\" % len(dfx.clusterID.unique()))\n",
    "print(\"There are %d unique DS (gene name) for allosomes!\" % len(dfx.gene.unique()))"
   ]
  },
  {
   "cell_type": "code",
   "execution_count": 5,
   "metadata": {
    "execution": {
     "iopub.execute_input": "2021-07-10T12:52:51.064826Z",
     "iopub.status.busy": "2021-07-10T12:52:51.063957Z",
     "iopub.status.idle": "2021-07-10T12:52:51.068536Z",
     "shell.execute_reply": "2021-07-10T12:52:51.067643Z"
    }
   },
   "outputs": [
    {
     "name": "stdout",
     "output_type": "stream",
     "text": [
      "There are 330 unique DS for autosomes!\n",
      "There are 290 unique DS (gene name) for autosomes!\n"
     ]
    }
   ],
   "source": [
    "print(\"There are %d unique DS for autosomes!\" % (len(df.clusterID.unique()) - len(dfx.clusterID.unique())))\n",
    "print(\"There are %d unique DS (gene name) for autosomes!\" % (len(df.gene.unique()) - len(dfx.gene.unique())))"
   ]
  },
  {
   "cell_type": "code",
   "execution_count": null,
   "metadata": {},
   "outputs": [],
   "source": []
  }
 ],
 "metadata": {
  "kernelspec": {
   "display_name": "Python 3",
   "language": "python",
   "name": "python3"
  },
  "language_info": {
   "codemirror_mode": {
    "name": "ipython",
    "version": 3
   },
   "file_extension": ".py",
   "mimetype": "text/x-python",
   "name": "python",
   "nbconvert_exporter": "python",
   "pygments_lexer": "ipython3",
   "version": "3.9.1"
  }
 },
 "nbformat": 4,
 "nbformat_minor": 4
}
