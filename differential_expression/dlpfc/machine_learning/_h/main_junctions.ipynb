{
 "cells": [
  {
   "cell_type": "markdown",
   "metadata": {},
   "source": [
    "# Investigate autosomal influence in sex with RaFFE"
   ]
  },
  {
   "cell_type": "code",
   "execution_count": 20,
   "metadata": {},
   "outputs": [],
   "source": [
    "import errno, os\n",
    "import functools\n",
    "import numpy as np\n",
    "import pandas as pd\n",
    "from gtfparse import read_gtf\n",
    "import feature_elimination as fe\n",
    "from sklearn.metrics import roc_auc_score\n",
    "from sklearn.metrics import accuracy_score\n",
    "from sklearn.linear_model import LinearRegression\n",
    "from sklearn.metrics import balanced_accuracy_score\n",
    "from sklearn.model_selection import StratifiedKFold\n",
    "from sklearn.ensemble import RandomForestClassifier\n",
    "from sklearn.metrics import normalized_mutual_info_score as nmi_score"
   ]
  },
  {
   "cell_type": "code",
   "execution_count": 2,
   "metadata": {},
   "outputs": [],
   "source": [
    "os.environ['NUMEXPR_MAX_THREADS'] = '32'"
   ]
  },
  {
   "cell_type": "code",
   "execution_count": 3,
   "metadata": {},
   "outputs": [],
   "source": [
    "def residualize(X, train_index, test_index, null_model, weights):\n",
    "    null_model_train, null_model_test = null_model.iloc[train_index, :], null_model.iloc[test_index, :]\n",
    "    weights_train, weights_test = weights.iloc[:, train_index], weights.iloc[:, test_index]\n",
    "    fit_train = LinearRegression(n_jobs=-1).fit(X.iloc[train_index, :] * weights_train.T, \n",
    "                                                null_model_train)\n",
    "    # Calculate residuals from training data\n",
    "    residuals_train = X.iloc[train_index, :] - ( np.matmul(np.array(null_model_train), fit_train.coef_) )\n",
    "    # Normalize residuals\n",
    "    residuals_train_sd = residuals_train.std(axis=0)\n",
    "    residuals_train_mean = residuals_train.mean(axis=0)\n",
    "    residuals_train_norm = (residuals_train - residuals_train_mean) / residuals_train_sd\n",
    "    # Calcaulte and normalize test residuals\n",
    "    residuals_test = X.iloc[test_index, :] - ( np.matmul(np.array(null_model_test), fit_train.coef_) )\n",
    "    residuals_test_norm = (residuals_test - residuals_train_mean) / residuals_train_sd\n",
    "    return residuals_train_norm, residuals_test_norm\n",
    "\n",
    "\n",
    "def mkdir_p(directory):\n",
    "    try:\n",
    "        os.makedirs(directory)\n",
    "    except OSError as e:\n",
    "        if e.errno != errno.EEXIST:\n",
    "            raise\n",
    "            \n",
    "\n",
    "def extract_feature_annotation(pred_feat, feature, path, fold, new_annot):\n",
    "    # Get important features\n",
    "    dft = pd.DataFrame.from_records(pred_feat,\n",
    "                                    columns=['feature_importance', 'Geneid'])\n",
    "    dft['Fold'] = fold\n",
    "    # Get gene annotation\n",
    "    annot = new_annot\n",
    "    annot = annot[['JunctionID', 'gene_id', 'gene_name', \n",
    "                   'seqname', 'start', 'end']].rename(columns={'seqname': 'chrom'})\n",
    "    annot['ensemblID'] = annot.gene_id.str.replace(\"\\\\..*\", \"\")\n",
    "    pred_df = dft.merge(annot, how='left', left_on='Geneid', right_on='JunctionID')\n",
    "    pred_df.to_csv(path+'important_features.txt', sep='\\t', mode='a',\n",
    "                   index=False, header=False)\n",
    "\n",
    "\n",
    "def run_raffe(X_train, X_test, Y_train, Y_test, fold_num, outdir, \n",
    "              annotation):\n",
    "    # Apply random forest classifier\n",
    "    cla = RandomForestClassifier(n_estimators=200, \n",
    "                                 oob_score=True, n_jobs=-1)\n",
    "    features = X_train.columns\n",
    "    d, pfirst = fe.feature_elimination_lr(cla, X_train.values, \n",
    "                                          Y_train.values, \n",
    "                                          features, fold_num, outdir,\n",
    "                                          elimination_rate=0.1)\n",
    "    fe.plot_nmi(d, fold_num, outdir)\n",
    "    fe.plot_acc(d, fold_num, outdir)\n",
    "    fe.plot_roc(d, fold_num, outdir)\n",
    "    n_features = max(d, key=lambda x: d[x][1])\n",
    "    # Fit model\n",
    "    cla.fit(X_train.values[:, d[n_features][4]], Y_train)\n",
    "    labels_pred = cla.predict(X_test.values[:, d[n_features][4]])\n",
    "    # Annotate features\n",
    "    pred_features = sorted(list(zip(cla.feature_importances_,\n",
    "                                    X_train.columns[d[n_features][4]])),\n",
    "                           reverse=True)\n",
    "    extract_feature_annotation(pred_features, feature, outdir, fold, \n",
    "                               annotation)\n",
    "    # Save output data\n",
    "    output = dict()\n",
    "    output['n_features'] = n_features\n",
    "    output['n_features_all_features'] = pfirst[0]\n",
    "    output['train_oob_score_nmi_all_features'] = pfirst[1]\n",
    "    output['train_oob_score_accuracy_all_features'] = pfirst[2]\n",
    "    output['train_oob_score_roc_all_features'] = pfirst[3]\n",
    "    output['train_oob_score_accuracy'] = fe.oob_score_accuracy(cla, Y_train)\n",
    "    output['train_oob_score_nmi'] = fe.oob_score_nmi(cla, Y_train)\n",
    "    output['train_oob_score_roc'] = fe.oob_score_roc(cla, Y_train)\n",
    "    output['test_score_nmi'] = nmi_score(Y_test, labels_pred)\n",
    "    output['test_score_accuracy'] = accuracy_score(Y_test, labels_pred)\n",
    "    output['test_score_balanced_accuracy'] = balanced_accuracy_score(Y_test, labels_pred)\n",
    "    output['test_score_roc'] = roc_auc_score(Y_test, labels_pred)\n",
    "    return output\n",
    "    "
   ]
  },
  {
   "cell_type": "markdown",
   "metadata": {},
   "source": [
    "## Use gene annotation to drop genes on sex chromosomes."
   ]
  },
  {
   "cell_type": "code",
   "execution_count": 4,
   "metadata": {},
   "outputs": [],
   "source": [
    "%load_ext rpy2.ipython"
   ]
  },
  {
   "cell_type": "code",
   "execution_count": 40,
   "metadata": {},
   "outputs": [],
   "source": [
    "%%R -o model,expr,weights\n",
    "load(\"../../_m/junctions/voomSVA.RData\")\n",
    "model = data.frame(v$design)\n",
    "expr = as.data.frame(v$E)\n",
    "weights = as.data.frame(v$weights)\n",
    "dimnames(weights) = dimnames(expr)"
   ]
  },
  {
   "cell_type": "code",
   "execution_count": 6,
   "metadata": {},
   "outputs": [],
   "source": [
    "%%R -o new_annot\n",
    "library(data.table)\n",
    "annot = subset(as.data.frame(v$genes), \n",
    "               select=c(gencodeGeneID, ensemblID, Symbol, newGeneID, newGeneSymbol))\n",
    "annot[\"JunctionID\"] = row.names(annot)\n",
    "new_annot = as.data.table(annot)\n",
    "jxn_file = '/ceph/projects/v3_phase3_paper/analysis/twas/_m/junctions/expr_pos.txt'\n",
    "jxn_pos = fread(jxn_file, data.table=T)\n",
    "new_annot = merge(jxn_pos, new_annot, by.x=\"name\", by.y='JunctionID')"
   ]
  },
  {
   "cell_type": "code",
   "execution_count": 7,
   "metadata": {},
   "outputs": [
    {
     "data": {
      "text/plain": [
       "array(['chr10', 'chr11', 'chr12', 'chr13', 'chr14', 'chr15', 'chr16',\n",
       "       'chr17', 'chr18', 'chr19', 'chr1', 'chr20', 'chr21', 'chr22',\n",
       "       'chr2', 'chr3', 'chr4', 'chr5', 'chr6', 'chr7', 'chr8', 'chr9'],\n",
       "      dtype=object)"
      ]
     },
     "execution_count": 7,
     "metadata": {},
     "output_type": "execute_result"
    }
   ],
   "source": [
    "new_annot.rename(columns={'name': 'JunctionID', \n",
    "                          'Chr': 'seqname', \n",
    "                          'newGeneID': 'gene_id', \n",
    "                          'newGeneSymbol': 'gene_name'}, \n",
    "                 inplace=True)\n",
    "\n",
    "gtf_annot = new_annot[(new_annot['seqname'].str.contains('chr\\d+'))]\n",
    "gtf_annot.seqname.unique()"
   ]
  },
  {
   "cell_type": "markdown",
   "metadata": {},
   "source": [
    "## Random forest analysis"
   ]
  },
  {
   "cell_type": "code",
   "execution_count": 8,
   "metadata": {},
   "outputs": [],
   "source": [
    "feature = 'junctions'\n",
    "directory = feature + '/'\n",
    "mkdir_p(directory)"
   ]
  },
  {
   "cell_type": "markdown",
   "metadata": {},
   "source": [
    "### All genes"
   ]
  },
  {
   "cell_type": "code",
   "execution_count": null,
   "metadata": {},
   "outputs": [],
   "source": [
    "outdir = directory + 'all_chrom/'\n",
    "mkdir_p(outdir)"
   ]
  },
  {
   "cell_type": "code",
   "execution_count": null,
   "metadata": {},
   "outputs": [],
   "source": [
    "X = expr.T\n",
    "y = model.Male.astype('category').cat.codes\n",
    "null_model = model.drop(['Male'], axis=1)\n",
    "skf = StratifiedKFold(n_splits=10, shuffle=True, random_state=13)\n",
    "skf.get_n_splits(X, y)\n",
    "\n",
    "fields = ['n_features_all_features', 'train_oob_score_nmi_all_features',\n",
    "          'train_oob_score_accuracy_all_features', \n",
    "          'train_oob_score_roc_all_features', 'n_features',\n",
    "          'train_oob_score_accuracy', 'train_oob_score_nmi', \n",
    "          'train_oob_score_roc', 'test_score_accuracy', 'test_score_nmi', \n",
    "          'test_score_roc', 'test_score_balanced_accuracy']\n",
    "\n",
    "fold = 0\n",
    "with open(outdir+'raffe_genes_10folds.txt', 'w') as f:\n",
    "    print(\"\\t\".join(['fold'] + fields), file=f, flush=True)\n",
    "    for train_index, test_index in skf.split(X, y):\n",
    "        #print(\"TRAIN:\", train_index, \"\\nTEST:\", test_index, \"\\nFold:\", fold)\n",
    "        X_train, X_test = residualize(X, train_index, test_index, null_model, weights)\n",
    "        y_train, y_test = y[train_index], y[test_index]\n",
    "        o = run_raffe(X_train, X_test, y_train, y_test, fold, outdir, new_annot)\n",
    "        print(\"\\t\".join([str(fold)] + [str(o[x]) for x in fields]), \n",
    "              flush=True, file=f)\n",
    "        fold += 1\n"
   ]
  },
  {
   "cell_type": "markdown",
   "metadata": {},
   "source": [
    "### Autosomal only"
   ]
  },
  {
   "cell_type": "code",
   "execution_count": 9,
   "metadata": {},
   "outputs": [],
   "source": [
    "outdir = directory + 'autosomal_chrom/'\n",
    "mkdir_p(outdir)"
   ]
  },
  {
   "cell_type": "code",
   "execution_count": 10,
   "metadata": {},
   "outputs": [],
   "source": [
    "expr = expr.merge(gtf_annot[['JunctionID']], left_index=True, \n",
    "                  right_on='JunctionID').set_index('JunctionID')\n",
    "weights = weights.merge(gtf_annot[['JunctionID']], left_index=True, \n",
    "                        right_on='JunctionID').set_index('JunctionID')"
   ]
  },
  {
   "cell_type": "code",
   "execution_count": 23,
   "metadata": {},
   "outputs": [],
   "source": [
    "X = expr.T\n",
    "y = model.Male.astype('category').cat.codes\n",
    "null_model = model.drop(['Male'], axis=1)\n",
    "skf = StratifiedKFold(n_splits=10, shuffle=True, random_state=13)\n",
    "skf.get_n_splits(X, y)\n",
    "\n",
    "fields = ['n_features_all_features', 'train_oob_score_nmi_all_features',\n",
    "          'train_oob_score_accuracy_all_features', \n",
    "          'train_oob_score_roc_all_features', 'n_features',\n",
    "          'train_oob_score_accuracy', 'train_oob_score_nmi', \n",
    "          'train_oob_score_roc', 'test_score_accuracy', 'test_score_nmi', \n",
    "          'test_score_roc', 'test_score_balanced_accuracy']\n",
    "\n",
    "fold = 0\n",
    "with open(outdir+'raffe_genes_10folds.txt', 'w') as f:\n",
    "    print(\"\\t\".join(['fold'] + fields), file=f, flush=True)\n",
    "    for train_index, test_index in skf.split(X, y):\n",
    "        #print(\"TRAIN:\", train_index, \"\\nTEST:\", test_index, \"\\nFold:\", fold)\n",
    "        X_train, X_test = residualize(X, train_index, test_index, null_model, weights)\n",
    "        y_train, y_test = y[train_index], y[test_index]\n",
    "        o = run_raffe(X_train, X_test, y_train, y_test, fold, outdir, gtf_annot)\n",
    "        print(\"\\t\".join([str(fold)] + [str(o[x]) for x in fields]), \n",
    "              flush=True, file=f)\n",
    "        fold += 1"
   ]
  },
  {
   "cell_type": "code",
   "execution_count": null,
   "metadata": {},
   "outputs": [],
   "source": []
  }
 ],
 "metadata": {
  "kernelspec": {
   "display_name": "Python 3",
   "language": "python",
   "name": "python3"
  },
  "language_info": {
   "codemirror_mode": {
    "name": "ipython",
    "version": 3
   },
   "file_extension": ".py",
   "mimetype": "text/x-python",
   "name": "python",
   "nbconvert_exporter": "python",
   "pygments_lexer": "ipython3",
   "version": "3.8.1"
  }
 },
 "nbformat": 4,
 "nbformat_minor": 4
}
