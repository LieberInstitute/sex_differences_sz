{
 "cells": [
  {
   "cell_type": "markdown",
   "metadata": {},
   "source": [
    "# Generate stratified folds for cross-validation"
   ]
  },
  {
   "cell_type": "code",
   "execution_count": 1,
   "metadata": {},
   "outputs": [],
   "source": [
    "suppressMessages(library(limma))\n",
    "suppressMessages(library(dplyr))\n",
    "suppressMessages(library(tidyverse))"
   ]
  },
  {
   "cell_type": "code",
   "execution_count": 2,
   "metadata": {},
   "outputs": [],
   "source": [
    "sz_residuals <- function(v, train_indices, test_indices)\n",
    "{\n",
    "    null_model = v$design[, !(names(v$design) %in% c(\"Schizo\"))]\n",
    "    dimnames(v$weights) = dimnames(v$E)\n",
    "                    # Extract log2(CPM + 0.5) normalized expression (train)\n",
    "    expression_train = v$E[, train_indices]\n",
    "    null_model_train = null_model[train_indices, ]\n",
    "    weights_train = v$weights[, train_indices]\n",
    "\n",
    "    fit_train = lmFit(expression_train, design=null_model_train, weights=weights_train)\n",
    "                    # Calculate residuals from training data\n",
    "    residuals_train = expression_train - ( fit_train$coefficients %*% t(null_model_train) )\n",
    "    residuals_train_sd = apply(residuals_train, 1, sd)\n",
    "    residuals_train_mean = apply(residuals_train, 1, mean)\n",
    "                    # Normalize residuals\n",
    "    residuals_train_norm = (residuals_train - residuals_train_mean) / residuals_train_sd\n",
    "                    # Extract log2(CPM + 0.5) normalized expression (test)\n",
    "    expression_test = v$E[, test_indices]\n",
    "    null_model_test = null_model[test_indices, ]\n",
    "                    # Apply training to test data and normalize\n",
    "    residuals_test = expression_test - ( fit_train$coefficients %*% t(null_model_test) )\n",
    "    residuals_test_norm = (residuals_test - residuals_train_mean) / residuals_train_sd\n",
    "\n",
    "    return (list(residuals_train_norm = residuals_train_norm, residuals_test_norm = residuals_test_norm))\n",
    "}"
   ]
  },
  {
   "cell_type": "code",
   "execution_count": 3,
   "metadata": {},
   "outputs": [],
   "source": [
    "read_brnum_voom_output <- function(input_filename)\n",
    "{\n",
    "                    # Loads variable and changes rownames to BrNum\n",
    "    load(input_filename)\n",
    "    r <- subset(v$targets, select=BrNum)\n",
    "    r['rnum'] <- row.names(r)\n",
    "    row.names(r) <- r$BrNum\n",
    "    return(r)\n",
    "}"
   ]
  },
  {
   "cell_type": "code",
   "execution_count": 4,
   "metadata": {},
   "outputs": [],
   "source": [
    "get_index_table <- function(feature)\n",
    "{\n",
    "    fn = paste0('../../differential_expression/_m/', feature,'/voomSVA.RData')\n",
    "    dft = read_brnum_voom_output(fn)\n",
    "    colnames(dft) = c('BrNum', 'caudate')\n",
    "    return(dft)\n",
    "}"
   ]
  },
  {
   "cell_type": "code",
   "execution_count": 5,
   "metadata": {},
   "outputs": [],
   "source": [
    "write_fold <- function(feature, fold_number, v, train_indices, test_indices)\n",
    "{\n",
    "    ii <- fold_number\n",
    "    output_dir <- feature\n",
    "\n",
    "    print(ii)\n",
    "    mydir <- paste0(output_dir,\"/\",\"Fold-\", ii-1)\n",
    "    dir.create(mydir)\n",
    "\n",
    "    res_df <- sz_residuals(v, train_indices, test_indices)\n",
    "    write.table(v$targets[train_indices, 'Dx', drop=FALSE], \n",
    "                file=paste0(mydir,'/','Y_train.csv'), \n",
    "                row.names=as.character(v$targets[train_indices, 'BrNum']),\n",
    "                sep=\"\\t\", quote=FALSE, col.names=NA)\n",
    "\n",
    "    write.table(res_df$residuals_train_norm, \n",
    "                file=paste0(mydir,'/','X_train.csv'),\n",
    "                col.names=as.character(v$targets[train_indices, 'BrNum']),\n",
    "                sep=\"\\t\", quote=FALSE)\n",
    "\n",
    "    write.table(v$targets[test_indices, 'Dx', drop=F], \n",
    "                file=paste0(mydir,'/','Y_test.csv'),\n",
    "                row.names=as.character(v$targets[test_indices, 'BrNum']),\n",
    "                sep=\"\\t\", quote=FALSE, col.names=NA)\n",
    "\n",
    "    write.table(res_df$residuals_test_norm, \n",
    "                file=paste0(mydir,'/','X_test.csv'),\n",
    "                col.names=as.character(v$targets[test_indices, 'BrNum']),\n",
    "                sep=\"\\t\", quote=FALSE)\n",
    "}\n"
   ]
  },
  {
   "cell_type": "code",
   "execution_count": 6,
   "metadata": {},
   "outputs": [],
   "source": [
    "process_voom_output <- function(n_folds, feature)\n",
    "{\n",
    "                    # Get indexes\n",
    "    index_table <- get_index_table(feature)\n",
    "    n_examples <- dim(index_table)[1]\n",
    "                    # Load phenotypes for stratification\n",
    "    fn = paste0('../../differential_expression/_m/', feature,'/voomSVA.RData')\n",
    "    load(fn)\n",
    "                    # Subset for disorder and sex   \n",
    "    pheno <- subset(v$targets, select=c(Dx, Sex, BrNum))\n",
    "    dd <- merge(pheno, index_table, by='BrNum')\n",
    "    dd['index'] <- seq(1, n_examples)\n",
    "                    # Randomize samples with stratification\n",
    "    ## shuffled_indices <- sample(seq(1, n_examples))\n",
    "    out <- dd %>% group_by(Dx, Sex) %>% mutate(strat_index = sample(index))\n",
    "    shuffled_indices <- out$strat_index\n",
    "                    # Cut folds\n",
    "    folds = cut(shuffled_indices,breaks=n_folds,labels=FALSE)\n",
    "\n",
    "    dir.create(feature)\n",
    "    for(ii in 1:n_folds)\n",
    "    {\n",
    "        train_indices = which(folds!=ii, arr.ind=TRUE)\n",
    "        test_indices = which(folds==ii, arr.ind=TRUE)\n",
    "        \n",
    "        print(feature)\n",
    "        \n",
    "        write_fold(feature, fold_number=ii, v=v, \n",
    "                   train_indices=index_table[train_indices, 'caudate'],\n",
    "                   test_indices=index_table[test_indices, 'caudate'])\n",
    "    }\n",
    "}"
   ]
  },
  {
   "cell_type": "code",
   "execution_count": null,
   "metadata": {},
   "outputs": [],
   "source": [
    "feature = 'genes'\n",
    "process_voom_output(10, feature)"
   ]
  },
  {
   "cell_type": "markdown",
   "metadata": {},
   "source": []
  }
 ],
 "metadata": {
  "kernelspec": {
   "display_name": "R",
   "language": "R",
   "name": "ir"
  },
  "language_info": {
   "codemirror_mode": "r",
   "file_extension": ".r",
   "mimetype": "text/x-r-source",
   "name": "R",
   "pygments_lexer": "r",
   "version": "3.6.2"
  }
 },
 "nbformat": 4,
 "nbformat_minor": 4
}
