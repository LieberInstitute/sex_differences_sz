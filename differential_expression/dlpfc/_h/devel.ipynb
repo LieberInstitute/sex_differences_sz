{
 "cells": [
  {
   "cell_type": "markdown",
   "metadata": {},
   "source": [
    "# Differential Expression with limma-voom pipeline"
   ]
  },
  {
   "cell_type": "code",
   "execution_count": 1,
   "metadata": {},
   "outputs": [],
   "source": [
    "suppressPackageStartupMessages({\n",
    "    library(SummarizedExperiment)\n",
    "    library(dplyr)\n",
    "    library(limma)\n",
    "    library(edgeR)\n",
    "    library(here)\n",
    "    library(sva)\n",
    "})"
   ]
  },
  {
   "cell_type": "markdown",
   "metadata": {},
   "source": [
    "## Functions"
   ]
  },
  {
   "cell_type": "markdown",
   "metadata": {},
   "source": [
    "### Simple functions"
   ]
  },
  {
   "cell_type": "code",
   "execution_count": 2,
   "metadata": {},
   "outputs": [],
   "source": [
    "save_volcanoPlot <- function(top, label, feature){\n",
    "    pdf(file=paste0(feature, \"/volcanoPlot_\", label, \".pdf\"), 8, 6)\n",
    "    with(top, plot(logFC, -log10(P.Value), pch=20, cex=0.6))\n",
    "    with(subset(top, adj.P.Val<=0.05), points(logFC, -log10(P.Value),\n",
    "                                              pch=20, col='red', cex=0.6))\n",
    "    with(subset(top, abs(logFC)>0.50), points(logFC, -log10(P.Value),\n",
    "                                              pch=20, col='orange', cex=0.6))\n",
    "    with(subset(top, adj.P.Val<=0.05 & abs(logFC)>0.50),\n",
    "         points(logFC, -log10(P.Value), pch=20, col='green', cex=0.6))\n",
    "    dev.off()\n",
    "}\n",
    "\n",
    "save_MAplot <- function(top, label, feature){\n",
    "    pdf(file=paste0(feature, \"/MAplot_\", label, \".pdf\"), 8, 6)\n",
    "    with(top, plot(AveExpr, logFC, pch=20, cex=0.5))\n",
    "    with(subset(top, adj.P.Val<0.05),\n",
    "         points(AveExpr, logFC, col=\"red\", pch=20, cex=0.5))\n",
    "    dev.off()\n",
    "}\n",
    "\n",
    "extract_de <- function(contrast, label, efit, feature){\n",
    "    top     <- topTable(efit, coef=contrast, number=Inf, sort.by=\"P\")\n",
    "    top$SE  <- sqrt(efit$s2.post) * efit$stdev.unscaled\n",
    "    top     <- top[order(top$P.Value), ]\n",
    "    top.fdr <- top |> filter(adj.P.Val<=0.05)\n",
    "    print(paste(\"Comparison for:\", label))\n",
    "    print(paste('There are:', dim(top.fdr)[1], 'DE features!'))\n",
    "    data.table::fwrite(top, file=paste0(feature, \"/diffExpr_\", label, \"_full.txt\"), \n",
    "                       sep='\\t', row.names=TRUE)\n",
    "    data.table::fwrite(top.fdr, file=paste0(feature, \"/diffExpr_\", label, \"_FDR05.txt\"), \n",
    "                       sep='\\t', row.names=TRUE)\n",
    "    save_volcanoPlot(top, label, feature)\n",
    "    save_MAplot(top, label, feature)\n",
    "}"
   ]
  },
  {
   "cell_type": "markdown",
   "metadata": {},
   "source": [
    "### Cached functions"
   ]
  },
  {
   "cell_type": "code",
   "execution_count": 5,
   "metadata": {},
   "outputs": [],
   "source": [
    "get_mds <- function(){\n",
    "    mds = data.table::fread(here(\"input/genotypes/mds/_m/LIBD_Brain_TopMed.mds\")) |>\n",
    "        rename_at(.vars = vars(starts_with(\"C\")),\n",
    "                  function(x){sub(\"C\", \"snpPC\", x)}) |>\n",
    "        mutate_if(is.character, as.factor)\n",
    "    return(mds)\n",
    "}\n",
    "memMDS <- memoise::memoise(get_mds)\n",
    "\n",
    "get_antipsychotics <- function(){\n",
    "    anti_file <- here(\"input/phenotypes/_h/antipsychotics_sample_annotation.csv\")\n",
    "    anti_df  <- data.table::fread(anti_file) |>\n",
    "        select(c(\"BrNum\", \"New_Dx\", \"antipsychotics\", \"lifetime_antipsych\"))\n",
    "    return(anti_df)\n",
    "}\n",
    "memANTI <- memoise::memoise(get_antipsychotics)\n",
    "\n",
    "prep_data <- function(feature){\n",
    "    counts_lt = list(\"genes\"=here(\"input/counts/_m/rse_gene.BrainSeq_Phase2_DLPFC.Gencode41.n453.Rdata\"), \n",
    "                     \"transcripts\"=here(\"input/counts/_m/rse_tx.BrainSeq_Phase2_DLPFC.Gencode41.n453.Rdata\"),\n",
    "                     \"exons\"=here(\"input/counts/_m/rse_exon.BrainSeq_Phase2_DLPFC.Gencode41.n453.Rdata\"),\n",
    "                     \"junctions\"=here(\"input/counts/_m/rse_jxn.BrainSeq_Phase2_DLPFC.Gencode41.n453.Rdata\"))\n",
    "    load(counts_lt[[feature]])\n",
    "    if(exists(\"rse_gene\")){\n",
    "        rse_df = rse_gene\n",
    "    } else if (exists(\"rse_tx\")){\n",
    "        rse_df = rse_tx\n",
    "    } else if (exists(\"rse_exon\")){\n",
    "        rse_df = rse_exon\n",
    "    } else {\n",
    "        rse_df = rse_jxn\n",
    "    }\n",
    "    keepIndex = which((rse_df$Dx %in% c(\"Control\", \"SCZD\")) & \n",
    "                      rse_df$Age > 17 & rse_df$Race %in% c(\"AA\", \"CAUC\"))\n",
    "    rse_df = rse_df[, keepIndex]\n",
    "    rse_df$Dx = factor(rse_df$Dx, levels = c(\"Control\", \"SCZD\"))\n",
    "    rse_df$Sex <- factor(rse_df$Sex)\n",
    "    rownames(colData(rse_df)) <- sapply(strsplit(rownames(colData(rse_df)), \"_\"), \"[\", 1)\n",
    "    pheno = colData(rse_df) |> as.data.frame() |> \n",
    "        inner_join(memMDS(), by=c(\"BrNum\"=\"FID\"), multiple=\"all\") |> \n",
    "        distinct(RNum, .keep_all = TRUE) |>\n",
    "        left_join(memANTI(), by=\"BrNum\")\n",
    "    # Generate DGE list\n",
    "    x <- DGEList(counts=assays(rse_df)$counts[, pheno$RNum], \n",
    "                 genes=rowData(rse_df), samples=pheno)\n",
    "    # Filter by expression\n",
    "    design0 <- model.matrix(~Sex, data=x$samples)\n",
    "    keep.x <- filterByExpr(x, design=design0)\n",
    "    print(paste('There are:', sum(keep.x), 'features left!', sep=' '))\n",
    "    x <- x[keep.x, , keep.lib.sizes=FALSE]\n",
    "    # Normalize library size\n",
    "    x <- calcNormFactors(x, method=\"TMM\")\n",
    "    return(x)\n",
    "}\n",
    "memPREP <- memoise::memoise(prep_data)\n",
    "\n",
    "SVA_model <- function(feature){\n",
    "    x <- memPREP(feature)\n",
    "    # Design matrix\n",
    "    mod = model.matrix(~Sex + Dx + Age + mitoRate + rRNA_rate + \n",
    "                       totalAssignedGene + RIN + Mapping_Rate + \n",
    "                       Mean3Bias + snpPC1 + snpPC2 + snpPC3, data = x$samples)\n",
    "    colnames(mod) <- gsub(\"Dx\", \"\", colnames(mod))\n",
    "    colnames(mod) <- gsub(\"SexM\", \"Male\", colnames(mod))\n",
    "    colnames(mod) <- gsub(\"\\\\(Intercept\\\\)\", \"Intercept\", colnames(mod))\n",
    "    # Null model\n",
    "    null.model = mod |> as.data.frame() |> select(-\"Male\") |> as.matrix()\n",
    "    n.sv <- num.sv(x$counts, mod, method=\"be\")\n",
    "    ## Fit SVA\n",
    "    svobj <- svaseq(x$counts, mod, null.model, n.sv=n.sv)\n",
    "    ## Add to model\n",
    "    print(\"\")\n",
    "    print(paste('Adding SV to design matrix ...', Sys.time()))\n",
    "    modQsva <- cbind(mod, svobj$sv)\n",
    "    len.d <- length(colnames(modQsva))\n",
    "    colnames(modQsva)[((len.d - n.sv)+1):len.d] <- make.names(paste0(\"sv\",1:n.sv))\n",
    "    return(modQsva)\n",
    "}\n",
    "memSVA <- memoise::memoise(SVA_model)\n",
    "\n",
    "get_voom <- function(feature){\n",
    "    ### Preform voom\n",
    "    x       <- memPREP(feature)\n",
    "    modQsva <- memSVA(feature)\n",
    "    v       <- voom(x[, rownames(modQsva)], modQsva, plot=TRUE)\n",
    "    return(v)\n",
    "}\n",
    "memVOOM <- memoise::memoise(get_voom)\n",
    "\n",
    "cal_res <- function(feature){\n",
    "    ### Calculate residuals\n",
    "    v <- memVOOM(feature)\n",
    "    null_model <- v$design |> as.data.frame() |> select(-c(\"Male\")) |> as.matrix()\n",
    "    fit_res <- lmFit(v, design=null_model)\n",
    "    res = v$E - ( fit_res$coefficients %*% t(null_model) )\n",
    "    res_sd = apply(res, 1, sd)\n",
    "    res_mean = apply(res, 1, mean)\n",
    "    res_norm = (res - res_mean) / res_sd\n",
    "    res_norm |> as.data.frame() |> tibble::rownames_to_column(\"feature_id\") |>\n",
    "    write.table(file=paste0(feature, '/residualized_expression.tsv'), \n",
    "                sep=\"\\t\", quote=FALSE, row.names=FALSE)\n",
    "}\n",
    "memRES <- memoise::memoise(cal_res)\n",
    "\n",
    "fit_voom <- function(feature){\n",
    "    v       <- memVOOM(feature)\n",
    "    modQsva <- memSVA(feature)\n",
    "    fit0     <- lmFit(v, modQsva)\n",
    "    contr.matrix <- makeContrasts(MvsF = Male,  \n",
    "                                  levels=colnames(modQsva))\n",
    "    fit <- contrasts.fit(fit0, contrasts=contr.matrix)\n",
    "    esv <- eBayes(fit)\n",
    "    return(esv)\n",
    "}\n",
    "memFIT <- memoise::memoise(fit_voom)"
   ]
  },
  {
   "cell_type": "markdown",
   "metadata": {},
   "source": [
    "## Differential Expression Analysis"
   ]
  },
  {
   "cell_type": "code",
   "execution_count": null,
   "metadata": {},
   "outputs": [],
   "source": [
    "for(feature in c('genes', 'transcripts', 'exons', 'junctions')){\n",
    "    dir.create(feature)\n",
    "    # Preform voom\n",
    "    v <- memVOOM(feature)\n",
    "    save(v, file=paste0(feature,'/voomSVA.RData'))\n",
    "    # Fit model and apply eBayes\n",
    "    efit = memFIT(feature)\n",
    "    # Save differential expression\n",
    "    extract_de(1, \"maleVfemale\", efit, feature)\n",
    "    # Calculate residuals\n",
    "    memRES(feature)\n",
    "}"
   ]
  },
  {
   "cell_type": "markdown",
   "metadata": {},
   "source": [
    "## Repreducibility Information"
   ]
  },
  {
   "cell_type": "code",
   "execution_count": null,
   "metadata": {},
   "outputs": [],
   "source": [
    "Sys.time()\n",
    "proc.time()\n",
    "options(width = 120)\n",
    "sessioninfo::session_info()"
   ]
  }
 ],
 "metadata": {
  "kernelspec": {
   "display_name": "R",
   "language": "R",
   "name": "ir"
  },
  "language_info": {
   "codemirror_mode": "r",
   "file_extension": ".r",
   "mimetype": "text/x-r-source",
   "name": "R",
   "pygments_lexer": "r",
   "version": "4.2.2"
  }
 },
 "nbformat": 4,
 "nbformat_minor": 4
}
