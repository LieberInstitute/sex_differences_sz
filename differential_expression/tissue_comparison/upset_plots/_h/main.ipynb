{
 "cells": [
  {
   "cell_type": "markdown",
   "metadata": {},
   "source": [
    "# Tissue comparison for differential expression analysis"
   ]
  },
  {
   "cell_type": "code",
   "execution_count": 1,
   "metadata": {},
   "outputs": [],
   "source": [
    "import functools\n",
    "import numpy as np\n",
    "import pandas as pd"
   ]
  },
  {
   "cell_type": "code",
   "execution_count": 2,
   "metadata": {},
   "outputs": [],
   "source": [
    "config = {\n",
    "    'caudate': '../../../caudate/_m/genes/diffExpr_maleVfemale_full.txt',\n",
    "    'dlpfc': '../../../dlpfc/_m/genes/diffExpr_maleVfemale_full.txt',\n",
    "    'hippo': '../../../hippocampus/_m/genes/diffExpr_maleVfemale_full.txt',\n",
    "    'cmc_dlpfc': '../../../cmc_dlpfc/_m/genes/diffExpr_maleVfemale_full.txt',\n",
    "}"
   ]
  },
  {
   "cell_type": "code",
   "execution_count": 3,
   "metadata": {},
   "outputs": [],
   "source": [
    "@functools.lru_cache()\n",
    "def get_deg(filename):\n",
    "    dft = pd.read_csv(filename, sep='\\t', index_col=0)\n",
    "    dft['Feature'] = dft.index\n",
    "    dft['Dir'] = np.sign(dft['t'])\n",
    "    if 'gene_id' in dft.columns:\n",
    "        dft['ensemblID'] = dft.gene_id.str.replace('\\\\..*', '', regex=True)\n",
    "    elif 'ensembl_gene_id' in dft.columns:\n",
    "        dft.rename(columns={'ensembl_gene_id': 'ensemblID'}, inplace=True)\n",
    "    return dft[['Feature', 'ensemblID', 'adj.P.Val', 'logFC', 't', 'Dir']]\n",
    "\n",
    "@functools.lru_cache()\n",
    "def get_deg_sig(filename):\n",
    "    dft = get_deg(filename)\n",
    "    return dft[(dft['adj.P.Val'] < 0.05)]\n",
    "\n",
    "\n",
    "@functools.lru_cache()\n",
    "def merge_dataframes(tissue1, tissue2):\n",
    "    return get_deg(config[tissue1]).merge(get_deg(config[tissue2]), \n",
    "                                          on='Feature', \n",
    "                                          suffixes=['_%s' % tissue1, '_%s' % tissue2])\n",
    "\n",
    "\n",
    "@functools.lru_cache()\n",
    "def merge_dataframes_sig(tissue1, tissue2):\n",
    "    return get_deg_sig(config[tissue1]).merge(get_deg_sig(config[tissue2]), \n",
    "                                              on='Feature', \n",
    "                                              suffixes=['_%s' % tissue1, '_%s' % tissue2])"
   ]
  },
  {
   "cell_type": "code",
   "execution_count": 4,
   "metadata": {},
   "outputs": [],
   "source": [
    "def tissue_annotation(tissue):\n",
    "    return {'dlpfc': 'DLPFC', 'hippo': 'Hippocampus',\n",
    "            'caudate': 'Caudate', 'cmc_dlpfc': 'CMC DLPFC'}[tissue]\n",
    "\n",
    "\n",
    "def save_plot(p, fn, width=7, height=7):\n",
    "    '''Save plot as svg, png, and pdf with specific label and dimension.'''\n",
    "    for ext in ['.svg', '.png', '.pdf']:\n",
    "        p.save(fn+ext, width=width, height=height)"
   ]
  },
  {
   "cell_type": "markdown",
   "metadata": {},
   "source": [
    "## BrainSeq Comparison"
   ]
  },
  {
   "cell_type": "code",
   "execution_count": 5,
   "metadata": {},
   "outputs": [
    {
     "data": {
      "text/plain": [
       "Dir\n",
       "-1.0    11133\n",
       " 1.0    12355\n",
       "dtype: int64"
      ]
     },
     "execution_count": 5,
     "metadata": {},
     "output_type": "execute_result"
    }
   ],
   "source": [
    "caudate = get_deg(config['caudate'])\n",
    "caudate.groupby('Dir').size()"
   ]
  },
  {
   "cell_type": "code",
   "execution_count": 6,
   "metadata": {},
   "outputs": [
    {
     "data": {
      "text/plain": [
       "(380, 6)"
      ]
     },
     "execution_count": 6,
     "metadata": {},
     "output_type": "execute_result"
    }
   ],
   "source": [
    "caudate[(caudate['adj.P.Val'] < 0.05)].shape"
   ]
  },
  {
   "cell_type": "code",
   "execution_count": 7,
   "metadata": {},
   "outputs": [
    {
     "data": {
      "text/plain": [
       "Dir\n",
       "-1.0    11240\n",
       " 1.0    11799\n",
       "dtype: int64"
      ]
     },
     "execution_count": 7,
     "metadata": {},
     "output_type": "execute_result"
    }
   ],
   "source": [
    "dlpfc = get_deg(config['dlpfc'])\n",
    "dlpfc.groupby('Dir').size()"
   ]
  },
  {
   "cell_type": "code",
   "execution_count": 8,
   "metadata": {},
   "outputs": [
    {
     "data": {
      "text/plain": [
       "(573, 6)"
      ]
     },
     "execution_count": 8,
     "metadata": {},
     "output_type": "execute_result"
    }
   ],
   "source": [
    "dlpfc[(dlpfc['adj.P.Val'] < 0.05)].shape"
   ]
  },
  {
   "cell_type": "code",
   "execution_count": 9,
   "metadata": {},
   "outputs": [
    {
     "data": {
      "text/plain": [
       "Dir\n",
       "-1.0    11840\n",
       " 1.0    11150\n",
       "dtype: int64"
      ]
     },
     "execution_count": 9,
     "metadata": {},
     "output_type": "execute_result"
    }
   ],
   "source": [
    "hippo = get_deg(config['hippo'])\n",
    "hippo.groupby('Dir').size()"
   ]
  },
  {
   "cell_type": "code",
   "execution_count": 10,
   "metadata": {},
   "outputs": [
    {
     "data": {
      "text/plain": [
       "(105, 6)"
      ]
     },
     "execution_count": 10,
     "metadata": {},
     "output_type": "execute_result"
    }
   ],
   "source": [
    "hippo[(hippo['adj.P.Val'] < 0.05)].shape"
   ]
  },
  {
   "cell_type": "markdown",
   "metadata": {},
   "source": [
    "### Upset Plot"
   ]
  },
  {
   "cell_type": "code",
   "execution_count": 11,
   "metadata": {},
   "outputs": [],
   "source": [
    "phase2_dlpfc = dlpfc[(dlpfc['adj.P.Val'] < 0.05)].copy()\n",
    "phase2_dlpfc['DLPFC'] = 1\n",
    "phase2_dlpfc = phase2_dlpfc[['ensemblID', 'DLPFC']]\n",
    "\n",
    "phase2_hippo = hippo[(hippo['adj.P.Val'] < 0.05)].copy()\n",
    "phase2_hippo['Hippocampus'] = 1\n",
    "phase2_hippo = phase2_hippo[['ensemblID', 'Hippocampus']]\n",
    "\n",
    "phase3_caudate = caudate[(caudate['adj.P.Val'] < 0.05)].copy()\n",
    "phase3_caudate['Caudate'] = 1\n",
    "phase3_caudate = phase3_caudate[['ensemblID', 'Caudate']]"
   ]
  },
  {
   "cell_type": "code",
   "execution_count": 12,
   "metadata": {},
   "outputs": [
    {
     "name": "stdout",
     "output_type": "stream",
     "text": [
      "(848, 2) (848, 2) (848, 2)\n"
     ]
    }
   ],
   "source": [
    "geneList = pd.merge(phase3_caudate[['ensemblID']], phase2_dlpfc[['ensemblID']], on=['ensemblID'], how='outer')\\\n",
    "             .merge(phase2_hippo[['ensemblID']], on=['ensemblID'], how='outer')\\\n",
    "             .groupby(['ensemblID']).first().reset_index()\n",
    "\n",
    "newC = pd.merge(geneList, phase3_caudate, on=['ensemblID'], how='outer').fillna(0)\n",
    "newC['Caudate'] = newC['Caudate'].astype('int')\n",
    "\n",
    "newD1 = pd.merge(geneList, phase2_dlpfc, on=['ensemblID'], how='outer').fillna(0)\n",
    "newD1['DLPFC'] = newD1['DLPFC'].astype('int')\n",
    "\n",
    "newH = pd.merge(geneList, phase2_hippo, on=['ensemblID'], how='outer').fillna(0)\n",
    "newH['Hippocampus'] = newH['Hippocampus'].astype('int')\n",
    "\n",
    "print(newC.shape, newH.shape, newD1.shape)"
   ]
  },
  {
   "cell_type": "code",
   "execution_count": 13,
   "metadata": {},
   "outputs": [
    {
     "data": {
      "text/html": [
       "<div>\n",
       "<style scoped>\n",
       "    .dataframe tbody tr th:only-of-type {\n",
       "        vertical-align: middle;\n",
       "    }\n",
       "\n",
       "    .dataframe tbody tr th {\n",
       "        vertical-align: top;\n",
       "    }\n",
       "\n",
       "    .dataframe thead th {\n",
       "        text-align: right;\n",
       "    }\n",
       "</style>\n",
       "<table border=\"1\" class=\"dataframe\">\n",
       "  <thead>\n",
       "    <tr style=\"text-align: right;\">\n",
       "      <th></th>\n",
       "      <th>Caudate</th>\n",
       "      <th>DLPFC</th>\n",
       "      <th>Hippocampus</th>\n",
       "    </tr>\n",
       "    <tr>\n",
       "      <th>ensemblID</th>\n",
       "      <th></th>\n",
       "      <th></th>\n",
       "      <th></th>\n",
       "    </tr>\n",
       "  </thead>\n",
       "  <tbody>\n",
       "    <tr>\n",
       "      <th>ENSG00000002586</th>\n",
       "      <td>1</td>\n",
       "      <td>1</td>\n",
       "      <td>1</td>\n",
       "    </tr>\n",
       "    <tr>\n",
       "      <th>ENSG00000003137</th>\n",
       "      <td>1</td>\n",
       "      <td>0</td>\n",
       "      <td>0</td>\n",
       "    </tr>\n",
       "  </tbody>\n",
       "</table>\n",
       "</div>"
      ],
      "text/plain": [
       "                 Caudate  DLPFC  Hippocampus\n",
       "ensemblID                                   \n",
       "ENSG00000002586        1      1            1\n",
       "ENSG00000003137        1      0            0"
      ]
     },
     "execution_count": 13,
     "metadata": {},
     "output_type": "execute_result"
    }
   ],
   "source": [
    "df = pd.concat([newC.set_index(['ensemblID']), newD1.set_index(['ensemblID']), \n",
    "                newH.set_index(['ensemblID'])], axis=1, join='outer')\n",
    "df.head(2)"
   ]
  },
  {
   "cell_type": "code",
   "execution_count": 14,
   "metadata": {},
   "outputs": [],
   "source": [
    "df.to_csv('brainseq_deg_across_tissues_comparison.csv')"
   ]
  },
  {
   "cell_type": "code",
   "execution_count": 14,
   "metadata": {},
   "outputs": [],
   "source": [
    "%load_ext rpy2.ipython"
   ]
  },
  {
   "cell_type": "code",
   "execution_count": 15,
   "metadata": {},
   "outputs": [
    {
     "name": "stderr",
     "output_type": "stream",
     "text": [
      "R[write to console]: Loading required package: grid\n",
      "\n",
      "R[write to console]: ========================================\n",
      "ComplexHeatmap version 2.6.2\n",
      "Bioconductor page: http://bioconductor.org/packages/ComplexHeatmap/\n",
      "Github page: https://github.com/jokergoo/ComplexHeatmap\n",
      "Documentation: http://jokergoo.github.io/ComplexHeatmap-reference\n",
      "\n",
      "If you use it in published research, please cite:\n",
      "Gu, Z. Complex heatmaps reveal patterns and correlations in multidimensional \n",
      "  genomic data. Bioinformatics 2016.\n",
      "\n",
      "This message can be suppressed by:\n",
      "  suppressPackageStartupMessages(library(ComplexHeatmap))\n",
      "========================================\n",
      "\n",
      "\n"
     ]
    }
   ],
   "source": [
    "%%R\n",
    "#library(UpSetR)\n",
    "#upset(df, order.by=\"freq\", text.scale=c(3, 2.5, 2.4, 2.25, 2.6, 2.6), point.size=3.6, line.size=1.4)\n",
    "library(ComplexHeatmap)\n",
    "subset_pvalue <- function(filename, fdr_cutoff){\n",
    "    df <- subset(read.delim(filename, row.names=1, stringsAsFactors = F), \n",
    "                 adj.P.Val < fdr_cutoff)\n",
    "    if('gene_id' %in% colnames(df)){\n",
    "        df$ensemblID <- gsub('\\\\..*', '', df$gene_id)\n",
    "    } else if('ensembl_gene_id' %in% colnames(df)){\n",
    "        df <- dplyr::rename(df, ensemblID=ensembl_gene_id)\n",
    "    }\n",
    "    return(df$ensemblID)\n",
    "}\n",
    "\n",
    "caudate = subset_pvalue('../../../caudate/_m/genes/diffExpr_maleVfemale_full.txt', 0.05)\n",
    "dlpfc = subset_pvalue('../../../dlpfc/_m/genes/diffExpr_maleVfemale_full.txt', 0.05)\n",
    "hippo = subset_pvalue('../../../hippocampus/_m/genes/diffExpr_maleVfemale_full.txt', 0.05)\n",
    "\n",
    "lt = list(Caudate = caudate,\n",
    "          DLPFC = dlpfc,\n",
    "          Hippocampus = hippo)\n",
    "\n",
    "m = make_comb_mat(lt)\n",
    "cbb_palette <- c(\"#000000\", \"#E69F00\", \"#56B4E9\", \"#009E73\", \"#F0E442\", \"#0072B2\", \"#D55E00\", \"#CC79A7\")"
   ]
  },
  {
   "cell_type": "code",
   "execution_count": 19,
   "metadata": {},
   "outputs": [
    {
     "name": "stdout",
     "output_type": "stream",
     "text": [
      "png \n",
      "  2 \n"
     ]
    }
   ],
   "source": [
    "%%R\n",
    "right_annot = upset_right_annotation(\n",
    "    m, ylim = c(0, 550),\n",
    "    gp = gpar(fill = \"black\"),\n",
    "    annotation_name_side = \"top\",\n",
    "    axis_param = list(side = \"top\"))\n",
    "\n",
    "top_annot = upset_top_annotation(\n",
    "    m, height=unit(7, \"cm\"), \n",
    "    ylim = c(0, 500),\n",
    "    gp=gpar(fill=cbb_palette[comb_degree(m)]),\n",
    "    annotation_name_rot = 90)\n",
    "\n",
    "pdf('BrainSeq_sex_tissue_upsetR_DEgenes.pdf', width=6, height=4)\n",
    "ht = draw(UpSet(m, pt_size=unit(4, \"mm\"), lwd=3, \n",
    "                comb_col=cbb_palette[comb_degree(m)], \n",
    "                set_order = c(\"Caudate\", \"DLPFC\", \"Hippocampus\"), \n",
    "                comb_order = order(-comb_size(m)), \n",
    "                row_names_gp = gpar(fontsize = 14, fontface='bold'),\n",
    "                right_annotation = right_annot, \n",
    "                top_annotation = top_annot))\n",
    "od = column_order(ht)\n",
    "cs = comb_size(m)\n",
    "decorate_annotation(\"intersection_size\", {\n",
    "    grid.text(cs[od], x = seq_along(cs), y = unit(cs[od], \"native\") + \n",
    "              unit(6, \"pt\"), \n",
    "        default.units = \"native\", just = \"bottom\", gp = gpar(fontsize = 11))\n",
    "})\n",
    "dev.off()\n",
    "\n",
    "svg('BrainSeq_sex_tissue_upsetR_DEgenes.svg', width=6, height=4)\n",
    "ht = draw(UpSet(m, pt_size=unit(4, \"mm\"), lwd=3, \n",
    "                comb_col=cbb_palette[comb_degree(m)], \n",
    "                set_order = c(\"Caudate\", \"DLPFC\", \"Hippocampus\"), \n",
    "                comb_order = order(-comb_size(m)), \n",
    "                row_names_gp = gpar(fontsize = 14, fontface='bold'),\n",
    "                right_annotation = right_annot, \n",
    "                top_annotation = top_annot))\n",
    "od = column_order(ht)\n",
    "cs = comb_size(m)\n",
    "decorate_annotation(\"intersection_size\", {\n",
    "    grid.text(cs[od], x = seq_along(cs), y = unit(cs[od], \"native\") + \n",
    "              unit(6, \"pt\"), \n",
    "        default.units = \"native\", just = \"bottom\", gp = gpar(fontsize = 11))\n",
    "})\n",
    "dev.off()"
   ]
  },
  {
   "cell_type": "code",
   "execution_count": 17,
   "metadata": {},
   "outputs": [
    {
     "name": "stdout",
     "output_type": "stream",
     "text": [
      "png \n",
      "  2 \n"
     ]
    }
   ],
   "source": [
    "%%R\n",
    "right_ha = rowAnnotation(\n",
    "    \"Intersection\\nsize\" = anno_barplot(comb_size(m), border=F,\n",
    "                                        ylim = c(0, 500), \n",
    "                                        gp=gpar(fill=cbb_palette[comb_degree(m)]),\n",
    "                                        width = unit(7, \"cm\")))\n",
    "top_ha = HeatmapAnnotation(\n",
    "    \"Set size\" = anno_barplot(set_size(m), border=F,\n",
    "                              ylim = c(0, 550),\n",
    "                              gp = gpar(fill = \"black\"), \n",
    "                              height = unit(2, \"cm\")), \n",
    "    gap = unit(2, \"mm\"), annotation_name_side = \"left\", \n",
    "    annotation_name_rot = 90)\n",
    "\n",
    "\n",
    "pdf(\"BrainSeq_sex_tissue_upsetR_DEgenes_transpose.pdf\", width=5, height=10)\n",
    "ht = draw(UpSet(t(m), pt_size=unit(5, \"mm\"), lwd=3,\n",
    "                comb_order = order(-comb_size(m)), \n",
    "                comb_col=cbb_palette[comb_degree(m)], \n",
    "                set_order = c(\"Caudate\", \"DLPFC\", \"Hippocampus\"), \n",
    "                column_names_gp = gpar(fontsize = 16, fontface='bold'),\n",
    "                right_annotation = right_ha, top_annotation=top_ha))\n",
    "\n",
    "od = rev(row_order(ht))\n",
    "cs = comb_size(m)\n",
    "decorate_annotation(\"Intersection\\nsize\", {\n",
    "    grid.text(cs[od], y = seq_along(cs), x = unit(cs[od], \"native\") + \n",
    "              unit(6, \"pt\"), \n",
    "        default.units = \"native\", just = \"left\", gp = gpar(fontsize = 11))\n",
    "})\n",
    "dev.off()\n",
    "\n",
    "svg(\"BrainSeq_sex_tissue_upsetR_DEgenes_transpose.svg\", width=5, height=10)\n",
    "ht = draw(UpSet(t(m), pt_size=unit(5, \"mm\"), lwd=3,\n",
    "                comb_order = order(-comb_size(m)), \n",
    "                comb_col=cbb_palette[comb_degree(m)], \n",
    "                set_order = c(\"Caudate\", \"DLPFC\", \"Hippocampus\"), \n",
    "                column_names_gp = gpar(fontsize = 16, fontface='bold'),\n",
    "                right_annotation = right_ha, top_annotation=top_ha))\n",
    "\n",
    "od = rev(row_order(ht))\n",
    "cs = comb_size(m)\n",
    "decorate_annotation(\"Intersection\\nsize\", {\n",
    "    grid.text(cs[od], y = seq_along(cs), x = unit(cs[od], \"native\") + \n",
    "              unit(6, \"pt\"), \n",
    "        default.units = \"native\", just = \"left\", gp = gpar(fontsize = 11))\n",
    "})\n",
    "dev.off()"
   ]
  },
  {
   "cell_type": "markdown",
   "metadata": {},
   "source": [
    "## Annotated shared genes"
   ]
  },
  {
   "cell_type": "code",
   "execution_count": 20,
   "metadata": {},
   "outputs": [],
   "source": [
    "from gtfparse import read_gtf"
   ]
  },
  {
   "cell_type": "code",
   "execution_count": 21,
   "metadata": {},
   "outputs": [],
   "source": [
    "@functools.lru_cache()\n",
    "def get_gtf(gtf_file):\n",
    "    return read_gtf(gtf_file)\n"
   ]
  },
  {
   "cell_type": "code",
   "execution_count": 22,
   "metadata": {},
   "outputs": [
    {
     "name": "stderr",
     "output_type": "stream",
     "text": [
      "INFO:root:Extracted GTF attributes: ['gene_id', 'gene_type', 'gene_status', 'gene_name', 'level', 'havana_gene', 'transcript_id', 'transcript_type', 'transcript_status', 'transcript_name', 'transcript_support_level', 'tag', 'havana_transcript', 'exon_number', 'exon_id', 'ont', 'protein_id', 'ccdsid']\n"
     ]
    },
    {
     "data": {
      "text/html": [
       "<div>\n",
       "<style scoped>\n",
       "    .dataframe tbody tr th:only-of-type {\n",
       "        vertical-align: middle;\n",
       "    }\n",
       "\n",
       "    .dataframe tbody tr th {\n",
       "        vertical-align: top;\n",
       "    }\n",
       "\n",
       "    .dataframe thead th {\n",
       "        text-align: right;\n",
       "    }\n",
       "</style>\n",
       "<table border=\"1\" class=\"dataframe\">\n",
       "  <thead>\n",
       "    <tr style=\"text-align: right;\">\n",
       "      <th></th>\n",
       "      <th>gene_id</th>\n",
       "      <th>gene_name</th>\n",
       "      <th>transcript_id</th>\n",
       "      <th>exon_id</th>\n",
       "      <th>gene_type</th>\n",
       "      <th>seqname</th>\n",
       "      <th>start</th>\n",
       "      <th>end</th>\n",
       "      <th>strand</th>\n",
       "    </tr>\n",
       "  </thead>\n",
       "  <tbody>\n",
       "    <tr>\n",
       "      <th>0</th>\n",
       "      <td>ENSG00000223972.5</td>\n",
       "      <td>DDX11L1</td>\n",
       "      <td></td>\n",
       "      <td></td>\n",
       "      <td>transcribed_unprocessed_pseudogene</td>\n",
       "      <td>chr1</td>\n",
       "      <td>11869</td>\n",
       "      <td>14409</td>\n",
       "      <td>+</td>\n",
       "    </tr>\n",
       "    <tr>\n",
       "      <th>12</th>\n",
       "      <td>ENSG00000227232.5</td>\n",
       "      <td>WASH7P</td>\n",
       "      <td></td>\n",
       "      <td></td>\n",
       "      <td>unprocessed_pseudogene</td>\n",
       "      <td>chr1</td>\n",
       "      <td>14404</td>\n",
       "      <td>29570</td>\n",
       "      <td>-</td>\n",
       "    </tr>\n",
       "  </tbody>\n",
       "</table>\n",
       "</div>"
      ],
      "text/plain": [
       "              gene_id gene_name transcript_id exon_id  \\\n",
       "0   ENSG00000223972.5   DDX11L1                         \n",
       "12  ENSG00000227232.5    WASH7P                         \n",
       "\n",
       "                             gene_type seqname  start    end strand  \n",
       "0   transcribed_unprocessed_pseudogene    chr1  11869  14409      +  \n",
       "12              unprocessed_pseudogene    chr1  14404  29570      -  "
      ]
     },
     "execution_count": 22,
     "metadata": {},
     "output_type": "execute_result"
    }
   ],
   "source": [
    "def gene_annotation(gtf_file, feature):\n",
    "    gtf0 = get_gtf(gtf_file)\n",
    "    gtf = gtf0[gtf0[\"feature\"] == feature]\n",
    "    return gtf[[\"gene_id\", \"gene_name\", \"transcript_id\", \"exon_id\", \n",
    "                \"gene_type\", \"seqname\", \"start\", \"end\", \"strand\"]]\n",
    "\n",
    "gtf_file = '/ceph/genome/human/gencode25/gtf.CHR/_m/gencode.v25.annotation.gtf'\n",
    "gtf_annot = gene_annotation(gtf_file, 'gene')\n",
    "gtf_annot.head(2)"
   ]
  },
  {
   "cell_type": "code",
   "execution_count": 23,
   "metadata": {},
   "outputs": [
    {
     "data": {
      "text/html": [
       "<div>\n",
       "<style scoped>\n",
       "    .dataframe tbody tr th:only-of-type {\n",
       "        vertical-align: middle;\n",
       "    }\n",
       "\n",
       "    .dataframe tbody tr th {\n",
       "        vertical-align: top;\n",
       "    }\n",
       "\n",
       "    .dataframe thead th {\n",
       "        text-align: right;\n",
       "    }\n",
       "</style>\n",
       "<table border=\"1\" class=\"dataframe\">\n",
       "  <thead>\n",
       "    <tr style=\"text-align: right;\">\n",
       "      <th></th>\n",
       "      <th>Feature</th>\n",
       "      <th>ensemblID</th>\n",
       "      <th>adj.P.Val</th>\n",
       "      <th>logFC</th>\n",
       "      <th>t</th>\n",
       "      <th>Dir</th>\n",
       "      <th>gene_id</th>\n",
       "      <th>gene_name</th>\n",
       "      <th>seqname</th>\n",
       "    </tr>\n",
       "  </thead>\n",
       "  <tbody>\n",
       "    <tr>\n",
       "      <th>2529938</th>\n",
       "      <td>ENSG00000229807.10</td>\n",
       "      <td>ENSG00000229807</td>\n",
       "      <td>1.953623e-272</td>\n",
       "      <td>-9.296137</td>\n",
       "      <td>-100.356075</td>\n",
       "      <td>-1.0</td>\n",
       "      <td>ENSG00000229807.10</td>\n",
       "      <td>XIST</td>\n",
       "      <td>chrX</td>\n",
       "    </tr>\n",
       "    <tr>\n",
       "      <th>2573932</th>\n",
       "      <td>ENSG00000114374.12</td>\n",
       "      <td>ENSG00000114374</td>\n",
       "      <td>1.953623e-272</td>\n",
       "      <td>8.683679</td>\n",
       "      <td>100.180866</td>\n",
       "      <td>1.0</td>\n",
       "      <td>ENSG00000114374.12</td>\n",
       "      <td>USP9Y</td>\n",
       "      <td>chrY</td>\n",
       "    </tr>\n",
       "    <tr>\n",
       "      <th>2574263</th>\n",
       "      <td>ENSG00000183878.15</td>\n",
       "      <td>ENSG00000183878</td>\n",
       "      <td>8.133127e-253</td>\n",
       "      <td>8.597152</td>\n",
       "      <td>88.466208</td>\n",
       "      <td>1.0</td>\n",
       "      <td>ENSG00000183878.15</td>\n",
       "      <td>UTY</td>\n",
       "      <td>chrY</td>\n",
       "    </tr>\n",
       "    <tr>\n",
       "      <th>2575964</th>\n",
       "      <td>ENSG00000012817.15</td>\n",
       "      <td>ENSG00000012817</td>\n",
       "      <td>3.593495e-252</td>\n",
       "      <td>8.693010</td>\n",
       "      <td>88.036823</td>\n",
       "      <td>1.0</td>\n",
       "      <td>ENSG00000012817.15</td>\n",
       "      <td>KDM5D</td>\n",
       "      <td>chrY</td>\n",
       "    </tr>\n",
       "    <tr>\n",
       "      <th>2574099</th>\n",
       "      <td>ENSG00000067048.16</td>\n",
       "      <td>ENSG00000067048</td>\n",
       "      <td>5.035188e-250</td>\n",
       "      <td>8.587803</td>\n",
       "      <td>86.796856</td>\n",
       "      <td>1.0</td>\n",
       "      <td>ENSG00000067048.16</td>\n",
       "      <td>DDX3Y</td>\n",
       "      <td>chrY</td>\n",
       "    </tr>\n",
       "  </tbody>\n",
       "</table>\n",
       "</div>"
      ],
      "text/plain": [
       "                    Feature        ensemblID      adj.P.Val     logFC  \\\n",
       "2529938  ENSG00000229807.10  ENSG00000229807  1.953623e-272 -9.296137   \n",
       "2573932  ENSG00000114374.12  ENSG00000114374  1.953623e-272  8.683679   \n",
       "2574263  ENSG00000183878.15  ENSG00000183878  8.133127e-253  8.597152   \n",
       "2575964  ENSG00000012817.15  ENSG00000012817  3.593495e-252  8.693010   \n",
       "2574099  ENSG00000067048.16  ENSG00000067048  5.035188e-250  8.587803   \n",
       "\n",
       "                  t  Dir             gene_id gene_name seqname  \n",
       "2529938 -100.356075 -1.0  ENSG00000229807.10      XIST    chrX  \n",
       "2573932  100.180866  1.0  ENSG00000114374.12     USP9Y    chrY  \n",
       "2574263   88.466208  1.0  ENSG00000183878.15       UTY    chrY  \n",
       "2575964   88.036823  1.0  ENSG00000012817.15     KDM5D    chrY  \n",
       "2574099   86.796856  1.0  ENSG00000067048.16     DDX3Y    chrY  "
      ]
     },
     "execution_count": 23,
     "metadata": {},
     "output_type": "execute_result"
    }
   ],
   "source": [
    "dft = caudate.merge(gtf_annot[['gene_id', 'gene_name', 'seqname']], \n",
    "                    left_index=True, right_on='gene_id')\n",
    "dft.head()"
   ]
  },
  {
   "cell_type": "code",
   "execution_count": 24,
   "metadata": {},
   "outputs": [
    {
     "data": {
      "text/html": [
       "<div>\n",
       "<style scoped>\n",
       "    .dataframe tbody tr th:only-of-type {\n",
       "        vertical-align: middle;\n",
       "    }\n",
       "\n",
       "    .dataframe tbody tr th {\n",
       "        vertical-align: top;\n",
       "    }\n",
       "\n",
       "    .dataframe thead th {\n",
       "        text-align: right;\n",
       "    }\n",
       "</style>\n",
       "<table border=\"1\" class=\"dataframe\">\n",
       "  <thead>\n",
       "    <tr style=\"text-align: right;\">\n",
       "      <th></th>\n",
       "      <th>gene_id</th>\n",
       "      <th>ensemblID</th>\n",
       "      <th>seqname</th>\n",
       "      <th>gene_name</th>\n",
       "      <th>Dir</th>\n",
       "    </tr>\n",
       "  </thead>\n",
       "  <tbody>\n",
       "    <tr>\n",
       "      <th>0</th>\n",
       "      <td>ENSG00000229807.10</td>\n",
       "      <td>ENSG00000229807</td>\n",
       "      <td>chrX</td>\n",
       "      <td>XIST</td>\n",
       "      <td>-1.0</td>\n",
       "    </tr>\n",
       "    <tr>\n",
       "      <th>1</th>\n",
       "      <td>ENSG00000114374.12</td>\n",
       "      <td>ENSG00000114374</td>\n",
       "      <td>chrY</td>\n",
       "      <td>USP9Y</td>\n",
       "      <td>1.0</td>\n",
       "    </tr>\n",
       "    <tr>\n",
       "      <th>2</th>\n",
       "      <td>ENSG00000183878.15</td>\n",
       "      <td>ENSG00000183878</td>\n",
       "      <td>chrY</td>\n",
       "      <td>UTY</td>\n",
       "      <td>1.0</td>\n",
       "    </tr>\n",
       "    <tr>\n",
       "      <th>3</th>\n",
       "      <td>ENSG00000012817.15</td>\n",
       "      <td>ENSG00000012817</td>\n",
       "      <td>chrY</td>\n",
       "      <td>KDM5D</td>\n",
       "      <td>1.0</td>\n",
       "    </tr>\n",
       "    <tr>\n",
       "      <th>4</th>\n",
       "      <td>ENSG00000067048.16</td>\n",
       "      <td>ENSG00000067048</td>\n",
       "      <td>chrY</td>\n",
       "      <td>DDX3Y</td>\n",
       "      <td>1.0</td>\n",
       "    </tr>\n",
       "  </tbody>\n",
       "</table>\n",
       "</div>"
      ],
      "text/plain": [
       "              gene_id        ensemblID seqname gene_name  Dir\n",
       "0  ENSG00000229807.10  ENSG00000229807    chrX      XIST -1.0\n",
       "1  ENSG00000114374.12  ENSG00000114374    chrY     USP9Y  1.0\n",
       "2  ENSG00000183878.15  ENSG00000183878    chrY       UTY  1.0\n",
       "3  ENSG00000012817.15  ENSG00000012817    chrY     KDM5D  1.0\n",
       "4  ENSG00000067048.16  ENSG00000067048    chrY     DDX3Y  1.0"
      ]
     },
     "execution_count": 24,
     "metadata": {},
     "output_type": "execute_result"
    }
   ],
   "source": [
    "shared_df = dft.loc[:, ['gene_id', 'ensemblID', 'seqname', 'gene_name', 'Dir']]\\\n",
    "        .merge(pd.DataFrame({'ensemblID': list(set(phase2_dlpfc['ensemblID']) & \n",
    "                                               set(phase2_hippo['ensemblID']) & \n",
    "                                               set(phase3_caudate['ensemblID']))}), \n",
    "               on='ensemblID')\n",
    "shared_df.to_csv('BrainSeq_shared_degs_annotation.txt', \n",
    "                 sep='\\t', index=False, header=True)\n",
    "shared_df.head()"
   ]
  },
  {
   "cell_type": "code",
   "execution_count": 25,
   "metadata": {},
   "outputs": [
    {
     "name": "stdout",
     "output_type": "stream",
     "text": [
      "69.44% of shared DEG are allosomal!\n"
     ]
    }
   ],
   "source": [
    "dd = np.sum(shared_df.seqname.isin(['chrX', 'chrY'])) / shared_df.shape[0] * 100\n",
    "print(\"%0.2f%% of shared DEG are allosomal!\" % dd)"
   ]
  },
  {
   "cell_type": "markdown",
   "metadata": {},
   "source": [
    "## Comparison with CommonMind"
   ]
  },
  {
   "cell_type": "code",
   "execution_count": 24,
   "metadata": {},
   "outputs": [
    {
     "data": {
      "text/plain": [
       "Dir\n",
       "-1.0    10915\n",
       " 1.0     9705\n",
       "dtype: int64"
      ]
     },
     "execution_count": 24,
     "metadata": {},
     "output_type": "execute_result"
    }
   ],
   "source": [
    "cmc_dlpfc = get_deg(config['cmc_dlpfc'])\n",
    "cmc_dlpfc.groupby('Dir').size()"
   ]
  },
  {
   "cell_type": "code",
   "execution_count": 25,
   "metadata": {},
   "outputs": [
    {
     "data": {
      "text/plain": [
       "(1315, 6)"
      ]
     },
     "execution_count": 25,
     "metadata": {},
     "output_type": "execute_result"
    }
   ],
   "source": [
    "cmc_dlpfc[(cmc_dlpfc['adj.P.Val'] < 0.05)].shape"
   ]
  },
  {
   "cell_type": "markdown",
   "metadata": {},
   "source": [
    "### Upset Plot"
   ]
  },
  {
   "cell_type": "code",
   "execution_count": 26,
   "metadata": {},
   "outputs": [],
   "source": [
    "cmc = cmc_dlpfc[(cmc_dlpfc['adj.P.Val'] < 0.05)].copy()\n",
    "cmc['CMC DLPFC'] = 1\n",
    "cmc = cmc[['ensemblID', 'CMC DLPFC']].groupby('ensemblID').first().reset_index()"
   ]
  },
  {
   "cell_type": "code",
   "execution_count": 27,
   "metadata": {},
   "outputs": [
    {
     "name": "stdout",
     "output_type": "stream",
     "text": [
      "(2066, 2) (2066, 2) (2066, 2) (2066, 2)\n"
     ]
    }
   ],
   "source": [
    "geneList = pd.merge(phase3_caudate[['ensemblID']], phase2_dlpfc[['ensemblID']], \n",
    "                    on=['ensemblID'], how='outer')\\\n",
    "             .merge(phase2_hippo[['ensemblID']], on=['ensemblID'], how='outer')\\\n",
    "             .merge(cmc[['ensemblID']], on=['ensemblID'], how='outer')\\\n",
    "             .groupby(['ensemblID']).first().reset_index()\n",
    "\n",
    "newC = pd.merge(geneList, phase3_caudate, on=['ensemblID'], how='outer').fillna(0)\n",
    "newC['Caudate'] = newC['Caudate'].astype('int')\n",
    "\n",
    "newD1 = pd.merge(geneList, phase2_dlpfc, on=['ensemblID'], how='outer').fillna(0)\n",
    "newD1['DLPFC'] = newD1['DLPFC'].astype('int')\n",
    "\n",
    "newH = pd.merge(geneList, phase2_hippo, on=['ensemblID'], how='outer').fillna(0)\n",
    "newH['Hippocampus'] = newH['Hippocampus'].astype('int')\n",
    "\n",
    "newCMC = pd.merge(geneList, cmc, on=['ensemblID'], how='outer').fillna(0)\n",
    "newCMC['CMC DLPFC'] = newCMC['CMC DLPFC'].astype('int')\n",
    "\n",
    "print(newC.shape, newH.shape, newD1.shape, newCMC.shape)"
   ]
  },
  {
   "cell_type": "code",
   "execution_count": 28,
   "metadata": {},
   "outputs": [
    {
     "data": {
      "text/html": [
       "<div>\n",
       "<style scoped>\n",
       "    .dataframe tbody tr th:only-of-type {\n",
       "        vertical-align: middle;\n",
       "    }\n",
       "\n",
       "    .dataframe tbody tr th {\n",
       "        vertical-align: top;\n",
       "    }\n",
       "\n",
       "    .dataframe thead th {\n",
       "        text-align: right;\n",
       "    }\n",
       "</style>\n",
       "<table border=\"1\" class=\"dataframe\">\n",
       "  <thead>\n",
       "    <tr style=\"text-align: right;\">\n",
       "      <th></th>\n",
       "      <th>Caudate</th>\n",
       "      <th>DLPFC</th>\n",
       "      <th>Hippocampus</th>\n",
       "      <th>CMC DLPFC</th>\n",
       "    </tr>\n",
       "    <tr>\n",
       "      <th>ensemblID</th>\n",
       "      <th></th>\n",
       "      <th></th>\n",
       "      <th></th>\n",
       "      <th></th>\n",
       "    </tr>\n",
       "  </thead>\n",
       "  <tbody>\n",
       "    <tr>\n",
       "      <th>ENSG00000000460</th>\n",
       "      <td>0</td>\n",
       "      <td>0</td>\n",
       "      <td>0</td>\n",
       "      <td>1</td>\n",
       "    </tr>\n",
       "    <tr>\n",
       "      <th>ENSG00000001460</th>\n",
       "      <td>0</td>\n",
       "      <td>0</td>\n",
       "      <td>0</td>\n",
       "      <td>1</td>\n",
       "    </tr>\n",
       "  </tbody>\n",
       "</table>\n",
       "</div>"
      ],
      "text/plain": [
       "                 Caudate  DLPFC  Hippocampus  CMC DLPFC\n",
       "ensemblID                                              \n",
       "ENSG00000000460        0      0            0          1\n",
       "ENSG00000001460        0      0            0          1"
      ]
     },
     "execution_count": 28,
     "metadata": {},
     "output_type": "execute_result"
    }
   ],
   "source": [
    "df = pd.concat([newC.set_index(['ensemblID']), newD1.set_index(['ensemblID']), \n",
    "                newH.set_index(['ensemblID']), newCMC.set_index(['ensemblID'])], \n",
    "               axis=1, join='outer')\n",
    "df.head(2)"
   ]
  },
  {
   "cell_type": "code",
   "execution_count": 31,
   "metadata": {},
   "outputs": [],
   "source": [
    "df.to_csv('cmc_all_deg_across_tissues.csv')"
   ]
  },
  {
   "cell_type": "code",
   "execution_count": 29,
   "metadata": {},
   "outputs": [
    {
     "name": "stderr",
     "output_type": "stream",
     "text": [
      "WARNING:rpy2.rinterface_lib.callbacks:R[write to console]: -- \u001b[1mAttaching packages\u001b[22m ------------------------------------------------------------------------------------------------------------------------------------------------------------- tidyverse 1.3.1 --\n",
      "\n",
      "WARNING:rpy2.rinterface_lib.callbacks:R[write to console]: \u001b[32mv\u001b[39m \u001b[34mggplot2\u001b[39m 3.3.5     \u001b[32mv\u001b[39m \u001b[34mpurrr  \u001b[39m 0.3.4\n",
      "\u001b[32mv\u001b[39m \u001b[34mtibble \u001b[39m 3.1.2     \u001b[32mv\u001b[39m \u001b[34mdplyr  \u001b[39m 1.0.7\n",
      "\u001b[32mv\u001b[39m \u001b[34mtidyr  \u001b[39m 1.1.3     \u001b[32mv\u001b[39m \u001b[34mstringr\u001b[39m 1.4.0\n",
      "\u001b[32mv\u001b[39m \u001b[34mreadr  \u001b[39m 1.4.0     \u001b[32mv\u001b[39m \u001b[34mforcats\u001b[39m 0.5.1\n",
      "\n",
      "WARNING:rpy2.rinterface_lib.callbacks:R[write to console]: -- \u001b[1mConflicts\u001b[22m ---------------------------------------------------------------------------------------------------------------------------------------------------------------- tidyverse_conflicts() --\n",
      "\u001b[31mx\u001b[39m \u001b[34mdplyr\u001b[39m::\u001b[32mfilter()\u001b[39m masks \u001b[34mstats\u001b[39m::filter()\n",
      "\u001b[31mx\u001b[39m \u001b[34mdplyr\u001b[39m::\u001b[32mlag()\u001b[39m    masks \u001b[34mstats\u001b[39m::lag()\n",
      "\n"
     ]
    }
   ],
   "source": [
    "%%R\n",
    "library(tidyverse)\n",
    "subset_pvalue <- function(fn, fdr_cutoff){\n",
    "    df <- data.table::fread(fn) %>% filter(adj.P.Val < 0.05) \n",
    "    if('gene_id' %in% colnames(df)){\n",
    "        df$ensemblID <- gsub('\\\\..*', '', df$gene_id)\n",
    "    } else if('ensembl_gene_id' %in% colnames(df)){\n",
    "        df <- dplyr::rename(df, ensemblID=ensembl_gene_id)\n",
    "    }\n",
    "    return(df$ensemblID)\n",
    "}"
   ]
  },
  {
   "cell_type": "code",
   "execution_count": 30,
   "metadata": {},
   "outputs": [],
   "source": [
    "%%R \n",
    "#upset(df, order.by=\"freq\", text.scale=c(3, 2.5, 2.4, 2.25, 2.6, 2.6), point.size=3.6, line.size=1.4)\n",
    "cmc = subset_pvalue('../../../cmc_dlpfc/_m/genes/diffExpr_maleVfemale_full.txt', 0.05)\n",
    "\n",
    "lt = list(Caudate = caudate,\n",
    "          DLPFC = dlpfc,\n",
    "          Hippocampus = hippo, \n",
    "          'CMC DLPFC' = cmc)\n",
    "\n",
    "m = make_comb_mat(lt)"
   ]
  },
  {
   "cell_type": "code",
   "execution_count": 32,
   "metadata": {},
   "outputs": [
    {
     "name": "stdout",
     "output_type": "stream",
     "text": [
      "png \n",
      "  2 \n"
     ]
    }
   ],
   "source": [
    "%%R\n",
    "right_annot = upset_right_annotation(\n",
    "    m, ylim = c(0, 1500),\n",
    "    gp = gpar(fill = \"black\"),\n",
    "    annotation_name_side = \"bottom\",\n",
    "    axis_param = list(side = \"bottom\"))\n",
    "\n",
    "top_annot = upset_top_annotation(\n",
    "    m, height=unit(7, \"cm\"), \n",
    "    ylim = c(0, 1500),\n",
    "    gp=gpar(fill=cbb_palette[comb_degree(m)]),\n",
    "    annotation_name_rot = 90)\n",
    "\n",
    "pdf('cmc_sex_tissue_upsetR_DEgenes.pdf', width=8, height=5)\n",
    "ht = draw(UpSet(m, pt_size=unit(6, \"mm\"), lwd=3, \n",
    "                comb_col=cbb_palette[comb_degree(m)], \n",
    "                set_order = c(\"Caudate\", \"DLPFC\", \"Hippocampus\", \"CMC DLPFC\"), \n",
    "                comb_order = order(-comb_size(m)), \n",
    "                row_names_gp = gpar(fontsize = 16, fontface='bold'),\n",
    "                right_annotation = right_annot, \n",
    "                top_annotation = top_annot))\n",
    "od = column_order(ht)\n",
    "cs = comb_size(m)\n",
    "decorate_annotation(\"intersection_size\", {\n",
    "    grid.text(cs[od], x = seq_along(cs), y = unit(cs[od], \"native\") + \n",
    "              unit(6, \"pt\"), \n",
    "        default.units = \"native\", just = \"bottom\", gp = gpar(fontsize = 11))\n",
    "})\n",
    "dev.off()\n",
    "\n",
    "svg('cmc_sex_tissue_upsetR_DEgenes.svg', width=8, height=5)\n",
    "ht = draw(UpSet(m, pt_size=unit(6, \"mm\"), lwd=3, \n",
    "                comb_col=cbb_palette[comb_degree(m)], \n",
    "                set_order = c(\"Caudate\", \"DLPFC\", \"Hippocampus\", \"CMC DLPFC\"), \n",
    "                comb_order = order(-comb_size(m)), \n",
    "                row_names_gp = gpar(fontsize = 16, fontface='bold'),\n",
    "                right_annotation = right_annot, \n",
    "                top_annotation = top_annot))\n",
    "od = column_order(ht)\n",
    "cs = comb_size(m)\n",
    "decorate_annotation(\"intersection_size\", {\n",
    "    grid.text(cs[od], x = seq_along(cs), y = unit(cs[od], \"native\") + \n",
    "              unit(6, \"pt\"), \n",
    "        default.units = \"native\", just = \"bottom\", gp = gpar(fontsize = 11))\n",
    "})\n",
    "dev.off()"
   ]
  },
  {
   "cell_type": "code",
   "execution_count": 33,
   "metadata": {},
   "outputs": [
    {
     "name": "stdout",
     "output_type": "stream",
     "text": [
      "png \n",
      "  2 \n"
     ]
    }
   ],
   "source": [
    "%%R\n",
    "right_ha = rowAnnotation(\n",
    "    \"Intersection\\nsize\" = anno_barplot(comb_size(m), border=F,\n",
    "                                        ylim = c(0, 1500), \n",
    "                                        gp=gpar(fill=cbb_palette[comb_degree(m)]),\n",
    "                                        width = unit(7, \"cm\")))\n",
    "top_ha = HeatmapAnnotation(\n",
    "    \"Set size\" = anno_barplot(set_size(m), border=F,\n",
    "                              ylim = c(0, 1500),\n",
    "                              gp = gpar(fill = \"black\"), \n",
    "                              height = unit(2, \"cm\")), \n",
    "    gap = unit(2, \"mm\"), annotation_name_side = \"left\", \n",
    "    annotation_name_rot = 90)\n",
    "\n",
    "pdf(\"cmc_sex_tissue_upsetR_DEgenes_transpose.pdf\", width=5, height=10)\n",
    "ht = draw(UpSet(t(m), pt_size=unit(5, \"mm\"), lwd=3,\n",
    "                comb_order = order(-comb_size(m)),\n",
    "                comb_col=cbb_palette[comb_degree(m)], \n",
    "                set_order = c(\"Caudate\", \"DLPFC\", \"Hippocampus\", \"CMC DLPFC\"), \n",
    "                column_names_gp = gpar(fontsize = 16, fontface='bold'),\n",
    "                right_annotation = right_ha, top_annotation=top_ha))\n",
    "\n",
    "od = rev(row_order(ht))\n",
    "cs = comb_size(m)\n",
    "decorate_annotation(\"Intersection\\nsize\", {\n",
    "    grid.text(cs[od], y = seq_along(cs), x = unit(cs[od], \"native\") + \n",
    "              unit(6, \"pt\"), \n",
    "        default.units = \"native\", just = \"left\", gp = gpar(fontsize = 11))\n",
    "})\n",
    "dev.off()\n",
    "\n",
    "svg(\"cmc_sex_tissue_upsetR_DEgenes_transpose.svg\", width=5, height=10)\n",
    "ht = draw(UpSet(t(m), pt_size=unit(5, \"mm\"), lwd=3,\n",
    "                comb_order = order(-comb_size(m)),\n",
    "                comb_col=cbb_palette[comb_degree(m)], \n",
    "                set_order = c(\"Caudate\", \"DLPFC\", \"Hippocampus\", \"CMC DLPFC\"), \n",
    "                column_names_gp = gpar(fontsize = 16, fontface='bold'),\n",
    "                right_annotation = right_ha, top_annotation=top_ha))\n",
    "\n",
    "od = rev(row_order(ht))\n",
    "cs = comb_size(m)\n",
    "decorate_annotation(\"Intersection\\nsize\", {\n",
    "    grid.text(cs[od], y = seq_along(cs), x = unit(cs[od], \"native\") + \n",
    "              unit(6, \"pt\"), \n",
    "        default.units = \"native\", just = \"left\", gp = gpar(fontsize = 11))\n",
    "})\n",
    "dev.off()"
   ]
  },
  {
   "cell_type": "code",
   "execution_count": 34,
   "metadata": {},
   "outputs": [
    {
     "data": {
      "text/html": [
       "<div>\n",
       "<style scoped>\n",
       "    .dataframe tbody tr th:only-of-type {\n",
       "        vertical-align: middle;\n",
       "    }\n",
       "\n",
       "    .dataframe tbody tr th {\n",
       "        vertical-align: top;\n",
       "    }\n",
       "\n",
       "    .dataframe thead th {\n",
       "        text-align: right;\n",
       "    }\n",
       "</style>\n",
       "<table border=\"1\" class=\"dataframe\">\n",
       "  <thead>\n",
       "    <tr style=\"text-align: right;\">\n",
       "      <th></th>\n",
       "      <th>logFC</th>\n",
       "      <th>AveExpr</th>\n",
       "      <th>t</th>\n",
       "      <th>P.Value</th>\n",
       "      <th>adj.P.Val</th>\n",
       "      <th>z.std</th>\n",
       "      <th>ensembl_gene_id</th>\n",
       "      <th>position</th>\n",
       "      <th>Direction</th>\n",
       "      <th>hgnc_symbol</th>\n",
       "      <th>percentage_gene_gc_content</th>\n",
       "      <th>gene_biotype</th>\n",
       "      <th>chromosome_name</th>\n",
       "      <th>Feature</th>\n",
       "      <th>Dir</th>\n",
       "      <th>ensemblID</th>\n",
       "    </tr>\n",
       "    <tr>\n",
       "      <th>gene_id</th>\n",
       "      <th></th>\n",
       "      <th></th>\n",
       "      <th></th>\n",
       "      <th></th>\n",
       "      <th></th>\n",
       "      <th></th>\n",
       "      <th></th>\n",
       "      <th></th>\n",
       "      <th></th>\n",
       "      <th></th>\n",
       "      <th></th>\n",
       "      <th></th>\n",
       "      <th></th>\n",
       "      <th></th>\n",
       "      <th></th>\n",
       "      <th></th>\n",
       "    </tr>\n",
       "  </thead>\n",
       "  <tbody>\n",
       "    <tr>\n",
       "      <th>ENSG00000174796.12</th>\n",
       "      <td>-0.142817</td>\n",
       "      <td>3.601461</td>\n",
       "      <td>-5.005702</td>\n",
       "      <td>7.696597e-07</td>\n",
       "      <td>0.01523</td>\n",
       "      <td>-4.942908</td>\n",
       "      <td>ENSG00000174796</td>\n",
       "      <td>12</td>\n",
       "      <td>DOWN</td>\n",
       "      <td>THAP6</td>\n",
       "      <td>40.52</td>\n",
       "      <td>protein_coding</td>\n",
       "      <td>4</td>\n",
       "      <td>ENSG00000174796.12</td>\n",
       "      <td>-1.0</td>\n",
       "      <td>ENSG00000174796</td>\n",
       "    </tr>\n",
       "    <tr>\n",
       "      <th>ENSG00000198873.11</th>\n",
       "      <td>0.174953</td>\n",
       "      <td>3.674668</td>\n",
       "      <td>4.765750</td>\n",
       "      <td>2.462456e-06</td>\n",
       "      <td>0.01523</td>\n",
       "      <td>4.711214</td>\n",
       "      <td>ENSG00000198873</td>\n",
       "      <td>11</td>\n",
       "      <td>UP</td>\n",
       "      <td>GRK5</td>\n",
       "      <td>50.47</td>\n",
       "      <td>protein_coding</td>\n",
       "      <td>10</td>\n",
       "      <td>ENSG00000198873.11</td>\n",
       "      <td>1.0</td>\n",
       "      <td>ENSG00000198873</td>\n",
       "    </tr>\n",
       "    <tr>\n",
       "      <th>ENSG00000164620.8</th>\n",
       "      <td>0.251649</td>\n",
       "      <td>4.480607</td>\n",
       "      <td>4.708131</td>\n",
       "      <td>3.232510e-06</td>\n",
       "      <td>0.01523</td>\n",
       "      <td>4.655465</td>\n",
       "      <td>ENSG00000164620</td>\n",
       "      <td>8</td>\n",
       "      <td>UP</td>\n",
       "      <td>RELL2</td>\n",
       "      <td>60.00</td>\n",
       "      <td>protein_coding</td>\n",
       "      <td>5</td>\n",
       "      <td>ENSG00000164620.8</td>\n",
       "      <td>1.0</td>\n",
       "      <td>ENSG00000164620</td>\n",
       "    </tr>\n",
       "    <tr>\n",
       "      <th>ENSG00000152558.14</th>\n",
       "      <td>-0.227384</td>\n",
       "      <td>5.923397</td>\n",
       "      <td>-4.587058</td>\n",
       "      <td>5.747358e-06</td>\n",
       "      <td>0.01523</td>\n",
       "      <td>-4.535477</td>\n",
       "      <td>ENSG00000152558</td>\n",
       "      <td>14</td>\n",
       "      <td>DOWN</td>\n",
       "      <td>TMEM123</td>\n",
       "      <td>40.62</td>\n",
       "      <td>protein_coding</td>\n",
       "      <td>11</td>\n",
       "      <td>ENSG00000152558.14</td>\n",
       "      <td>-1.0</td>\n",
       "      <td>ENSG00000152558</td>\n",
       "    </tr>\n",
       "    <tr>\n",
       "      <th>ENSG00000128915.11</th>\n",
       "      <td>-0.153500</td>\n",
       "      <td>5.268981</td>\n",
       "      <td>-4.578421</td>\n",
       "      <td>5.903731e-06</td>\n",
       "      <td>0.01523</td>\n",
       "      <td>-4.529808</td>\n",
       "      <td>ENSG00000128915</td>\n",
       "      <td>11</td>\n",
       "      <td>DOWN</td>\n",
       "      <td>ICE2</td>\n",
       "      <td>36.91</td>\n",
       "      <td>protein_coding</td>\n",
       "      <td>15</td>\n",
       "      <td>ENSG00000128915.11</td>\n",
       "      <td>-1.0</td>\n",
       "      <td>ENSG00000128915</td>\n",
       "    </tr>\n",
       "  </tbody>\n",
       "</table>\n",
       "</div>"
      ],
      "text/plain": [
       "                       logFC   AveExpr         t       P.Value  adj.P.Val  \\\n",
       "gene_id                                                                     \n",
       "ENSG00000174796.12 -0.142817  3.601461 -5.005702  7.696597e-07    0.01523   \n",
       "ENSG00000198873.11  0.174953  3.674668  4.765750  2.462456e-06    0.01523   \n",
       "ENSG00000164620.8   0.251649  4.480607  4.708131  3.232510e-06    0.01523   \n",
       "ENSG00000152558.14 -0.227384  5.923397 -4.587058  5.747358e-06    0.01523   \n",
       "ENSG00000128915.11 -0.153500  5.268981 -4.578421  5.903731e-06    0.01523   \n",
       "\n",
       "                       z.std  ensembl_gene_id position Direction hgnc_symbol  \\\n",
       "gene_id                                                                        \n",
       "ENSG00000174796.12 -4.942908  ENSG00000174796       12      DOWN       THAP6   \n",
       "ENSG00000198873.11  4.711214  ENSG00000198873       11        UP        GRK5   \n",
       "ENSG00000164620.8   4.655465  ENSG00000164620        8        UP       RELL2   \n",
       "ENSG00000152558.14 -4.535477  ENSG00000152558       14      DOWN     TMEM123   \n",
       "ENSG00000128915.11 -4.529808  ENSG00000128915       11      DOWN        ICE2   \n",
       "\n",
       "                    percentage_gene_gc_content    gene_biotype  \\\n",
       "gene_id                                                          \n",
       "ENSG00000174796.12                       40.52  protein_coding   \n",
       "ENSG00000198873.11                       50.47  protein_coding   \n",
       "ENSG00000164620.8                        60.00  protein_coding   \n",
       "ENSG00000152558.14                       40.62  protein_coding   \n",
       "ENSG00000128915.11                       36.91  protein_coding   \n",
       "\n",
       "                   chromosome_name             Feature  Dir        ensemblID  \n",
       "gene_id                                                                       \n",
       "ENSG00000174796.12               4  ENSG00000174796.12 -1.0  ENSG00000174796  \n",
       "ENSG00000198873.11              10  ENSG00000198873.11  1.0  ENSG00000198873  \n",
       "ENSG00000164620.8                5   ENSG00000164620.8  1.0  ENSG00000164620  \n",
       "ENSG00000152558.14              11  ENSG00000152558.14 -1.0  ENSG00000152558  \n",
       "ENSG00000128915.11              15  ENSG00000128915.11 -1.0  ENSG00000128915  "
      ]
     },
     "execution_count": 34,
     "metadata": {},
     "output_type": "execute_result"
    }
   ],
   "source": [
    "dft = pd.read_csv('../../../cmc_dlpfc/metrics_summary/_m/chromosome_DEG.csv', index_col=0)\n",
    "dft['Feature'] = dft.index\n",
    "dft['Dir'] = np.sign(dft['t'])\n",
    "dft['ensemblID'] = dft.index.str.replace('\\\\..*', '', regex=True)\n",
    "dft.head()"
   ]
  },
  {
   "cell_type": "code",
   "execution_count": 48,
   "metadata": {},
   "outputs": [],
   "source": [
    "shared_df = dft.rename(columns={'chromosome_name': 'seqname', \n",
    "                                'hgnc_symbol': 'gene_name'})\\\n",
    "               .loc[:, ['Feature', 'ensemblID', 'seqname', 'gene_name', 'Dir']]\\\n",
    "               .merge(pd.DataFrame({'ensemblID': list(set(phase2_dlpfc['ensemblID']) & \n",
    "                                                      set(phase2_hippo['ensemblID']) & \n",
    "                                                      set(phase3_caudate['ensemblID']) & \n",
    "                                                      set(cmc['ensemblID']))}), \n",
    "                      on='ensemblID')\n",
    "shared_df.seqname = 'chr'+shared_df.seqname\n",
    "shared_df.to_csv('cmc_shared_degs_annotation.txt', sep='\\t', index=False, header=True)\n",
    "shared_df"
   ]
  },
  {
   "cell_type": "code",
   "execution_count": 50,
   "metadata": {},
   "outputs": [
    {
     "name": "stdout",
     "output_type": "stream",
     "text": [
      "75.56% of shared DEG are allosomal!\n"
     ]
    }
   ],
   "source": [
    "#### 6 out of 41 are autosomal\n",
    "dd = np.sum(shared_df.seqname.isin(['chrX', 'chrY'])) / shared_df.shape[0] * 100\n",
    "print(\"%0.2f%% of shared DEG are allosomal!\" % dd)"
   ]
  },
  {
   "cell_type": "code",
   "execution_count": null,
   "metadata": {},
   "outputs": [],
   "source": []
  }
 ],
 "metadata": {
  "kernelspec": {
   "display_name": "Python 3",
   "language": "python",
   "name": "python3"
  },
  "language_info": {
   "codemirror_mode": {
    "name": "ipython",
    "version": 3
   },
   "file_extension": ".py",
   "mimetype": "text/x-python",
   "name": "python",
   "nbconvert_exporter": "python",
   "pygments_lexer": "ipython3",
   "version": "3.9.1"
  }
 },
 "nbformat": 4,
 "nbformat_minor": 4
}
