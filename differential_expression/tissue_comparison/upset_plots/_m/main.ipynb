{
 "cells": [
  {
   "cell_type": "markdown",
   "metadata": {},
   "source": [
    "# Tissue comparison for differential expression analysis"
   ]
  },
  {
   "cell_type": "code",
   "execution_count": 1,
   "metadata": {
    "execution": {
     "iopub.execute_input": "2021-07-13T14:41:08.828637Z",
     "iopub.status.busy": "2021-07-13T14:41:08.827243Z",
     "iopub.status.idle": "2021-07-13T14:41:09.132140Z",
     "shell.execute_reply": "2021-07-13T14:41:09.132627Z"
    }
   },
   "outputs": [],
   "source": [
    "import functools\n",
    "import numpy as np\n",
    "import pandas as pd"
   ]
  },
  {
   "cell_type": "code",
   "execution_count": 2,
   "metadata": {
    "execution": {
     "iopub.execute_input": "2021-07-13T14:41:09.140787Z",
     "iopub.status.busy": "2021-07-13T14:41:09.139029Z",
     "iopub.status.idle": "2021-07-13T14:41:09.142195Z",
     "shell.execute_reply": "2021-07-13T14:41:09.143195Z"
    }
   },
   "outputs": [],
   "source": [
    "config = {\n",
    "    'caudate': '../../../caudate/_m/genes/diffExpr_maleVfemale_full.txt',\n",
    "    'dlpfc': '../../../dlpfc/_m/genes/diffExpr_maleVfemale_full.txt',\n",
    "    'hippo': '../../../hippocampus/_m/genes/diffExpr_maleVfemale_full.txt',\n",
    "    'cmc_dlpfc': '../../../cmc_dlpfc/_m/mssm_penn_pitt_maleVfemale.tsv',\n",
    "    'cmc_hbcc': '../../../cmc_dlpfc/_m/nimh_hbcc_maleVfemale.tsv',\n",
    "}"
   ]
  },
  {
   "cell_type": "code",
   "execution_count": 3,
   "metadata": {
    "execution": {
     "iopub.execute_input": "2021-07-13T14:41:09.154571Z",
     "iopub.status.busy": "2021-07-13T14:41:09.152930Z",
     "iopub.status.idle": "2021-07-13T14:41:09.156014Z",
     "shell.execute_reply": "2021-07-13T14:41:09.157096Z"
    }
   },
   "outputs": [],
   "source": [
    "@functools.lru_cache()\n",
    "def get_deg(filename):\n",
    "    dft = pd.read_csv(filename, sep='\\t', index_col=0)\n",
    "    dft['Feature'] = dft.index\n",
    "    dft['Dir'] = np.sign(dft['t'])\n",
    "    if 'gene_id' in dft.columns:\n",
    "        dft['ensemblID'] = dft.gene_id.str.replace('\\\\..*', '', regex=True)\n",
    "    elif 'ensembl_gene_id' in dft.columns:\n",
    "        dft.rename(columns={'ensembl_gene_id': 'ensemblID'}, inplace=True)\n",
    "    else:\n",
    "        dft['ensemblID'] = dft.Feature.str.replace(\"\\\\..*\", \"\", regex=True)\n",
    "    return dft[['Feature', 'ensemblID', 'adj.P.Val', 'logFC', 't', 'Dir']]\n",
    "\n",
    "\n",
    "@functools.lru_cache()\n",
    "def get_deg_sig(filename):\n",
    "    dft = get_deg(filename)\n",
    "    return dft[(dft['adj.P.Val'] < 0.05)]\n",
    "\n",
    "\n",
    "@functools.lru_cache()\n",
    "def merge_dataframes(tissue1, tissue2):\n",
    "    return get_deg(config[tissue1]).merge(get_deg(config[tissue2]), \n",
    "                                          on='Feature', \n",
    "                                          suffixes=['_%s' % tissue1, '_%s' % tissue2])\n",
    "\n",
    "\n",
    "@functools.lru_cache()\n",
    "def merge_dataframes_sig(tissue1, tissue2):\n",
    "    return get_deg_sig(config[tissue1]).merge(get_deg_sig(config[tissue2]), \n",
    "                                              on='Feature', \n",
    "                                              suffixes=['_%s' % tissue1, '_%s' % tissue2])"
   ]
  },
  {
   "cell_type": "code",
   "execution_count": 4,
   "metadata": {
    "execution": {
     "iopub.execute_input": "2021-07-13T14:41:09.165022Z",
     "iopub.status.busy": "2021-07-13T14:41:09.163429Z",
     "iopub.status.idle": "2021-07-13T14:41:09.166321Z",
     "shell.execute_reply": "2021-07-13T14:41:09.167311Z"
    }
   },
   "outputs": [],
   "source": [
    "def tissue_annotation(tissue):\n",
    "    return {'dlpfc': 'DLPFC', 'hippo': 'Hippocampus',\n",
    "            'caudate': 'Caudate', 'cmc_dlpfc': 'CMC DLPFC: MPP', \n",
    "            'cmc_hbcc': \"CMC DLPFC: HBCC\"}[tissue]\n",
    "\n",
    "\n",
    "def save_plot(p, fn, width=7, height=7):\n",
    "    '''Save plot as svg, png, and pdf with specific label and dimension.'''\n",
    "    for ext in ['.svg', '.png', '.pdf']:\n",
    "        p.save(fn+ext, width=width, height=height)"
   ]
  },
  {
   "cell_type": "markdown",
   "metadata": {},
   "source": [
    "## BrainSeq Comparison"
   ]
  },
  {
   "cell_type": "code",
   "execution_count": 5,
   "metadata": {
    "execution": {
     "iopub.execute_input": "2021-07-13T14:41:09.173486Z",
     "iopub.status.busy": "2021-07-13T14:41:09.172223Z",
     "iopub.status.idle": "2021-07-13T14:41:09.356436Z",
     "shell.execute_reply": "2021-07-13T14:41:09.357459Z"
    }
   },
   "outputs": [
    {
     "data": {
      "text/plain": [
       "Dir\n",
       "-1.0    11133\n",
       " 1.0    12355\n",
       "dtype: int64"
      ]
     },
     "execution_count": 1,
     "metadata": {},
     "output_type": "execute_result"
    }
   ],
   "source": [
    "caudate = get_deg(config['caudate'])\n",
    "caudate.groupby('Dir').size()"
   ]
  },
  {
   "cell_type": "code",
   "execution_count": 6,
   "metadata": {
    "execution": {
     "iopub.execute_input": "2021-07-13T14:41:09.364041Z",
     "iopub.status.busy": "2021-07-13T14:41:09.362640Z",
     "iopub.status.idle": "2021-07-13T14:41:09.367144Z",
     "shell.execute_reply": "2021-07-13T14:41:09.368185Z"
    }
   },
   "outputs": [
    {
     "data": {
      "text/plain": [
       "(380, 6)"
      ]
     },
     "execution_count": 1,
     "metadata": {},
     "output_type": "execute_result"
    }
   ],
   "source": [
    "caudate[(caudate['adj.P.Val'] < 0.05)].shape"
   ]
  },
  {
   "cell_type": "code",
   "execution_count": 7,
   "metadata": {
    "execution": {
     "iopub.execute_input": "2021-07-13T14:41:09.374983Z",
     "iopub.status.busy": "2021-07-13T14:41:09.373607Z",
     "iopub.status.idle": "2021-07-13T14:41:09.549250Z",
     "shell.execute_reply": "2021-07-13T14:41:09.550279Z"
    }
   },
   "outputs": [
    {
     "data": {
      "text/plain": [
       "Dir\n",
       "-1.0    11240\n",
       " 1.0    11799\n",
       "dtype: int64"
      ]
     },
     "execution_count": 1,
     "metadata": {},
     "output_type": "execute_result"
    }
   ],
   "source": [
    "dlpfc = get_deg(config['dlpfc'])\n",
    "dlpfc.groupby('Dir').size()"
   ]
  },
  {
   "cell_type": "code",
   "execution_count": 8,
   "metadata": {
    "execution": {
     "iopub.execute_input": "2021-07-13T14:41:09.557018Z",
     "iopub.status.busy": "2021-07-13T14:41:09.555656Z",
     "iopub.status.idle": "2021-07-13T14:41:09.560117Z",
     "shell.execute_reply": "2021-07-13T14:41:09.561118Z"
    }
   },
   "outputs": [
    {
     "data": {
      "text/plain": [
       "(573, 6)"
      ]
     },
     "execution_count": 1,
     "metadata": {},
     "output_type": "execute_result"
    }
   ],
   "source": [
    "dlpfc[(dlpfc['adj.P.Val'] < 0.05)].shape"
   ]
  },
  {
   "cell_type": "code",
   "execution_count": 9,
   "metadata": {
    "execution": {
     "iopub.execute_input": "2021-07-13T14:41:09.567321Z",
     "iopub.status.busy": "2021-07-13T14:41:09.566074Z",
     "iopub.status.idle": "2021-07-13T14:41:09.740690Z",
     "shell.execute_reply": "2021-07-13T14:41:09.741734Z"
    }
   },
   "outputs": [
    {
     "data": {
      "text/plain": [
       "Dir\n",
       "-1.0    11840\n",
       " 1.0    11150\n",
       "dtype: int64"
      ]
     },
     "execution_count": 1,
     "metadata": {},
     "output_type": "execute_result"
    }
   ],
   "source": [
    "hippo = get_deg(config['hippo'])\n",
    "hippo.groupby('Dir').size()"
   ]
  },
  {
   "cell_type": "code",
   "execution_count": 10,
   "metadata": {
    "execution": {
     "iopub.execute_input": "2021-07-13T14:41:09.748014Z",
     "iopub.status.busy": "2021-07-13T14:41:09.747203Z",
     "iopub.status.idle": "2021-07-13T14:41:09.750490Z",
     "shell.execute_reply": "2021-07-13T14:41:09.750979Z"
    }
   },
   "outputs": [
    {
     "data": {
      "text/plain": [
       "(105, 6)"
      ]
     },
     "execution_count": 1,
     "metadata": {},
     "output_type": "execute_result"
    }
   ],
   "source": [
    "hippo[(hippo['adj.P.Val'] < 0.05)].shape"
   ]
  },
  {
   "cell_type": "markdown",
   "metadata": {},
   "source": [
    "### Upset Plot"
   ]
  },
  {
   "cell_type": "code",
   "execution_count": 11,
   "metadata": {
    "execution": {
     "iopub.execute_input": "2021-07-13T14:41:09.758530Z",
     "iopub.status.busy": "2021-07-13T14:41:09.757152Z",
     "iopub.status.idle": "2021-07-13T14:41:09.765678Z",
     "shell.execute_reply": "2021-07-13T14:41:09.766747Z"
    }
   },
   "outputs": [],
   "source": [
    "phase2_dlpfc = dlpfc[(dlpfc['adj.P.Val'] < 0.05)].copy()\n",
    "phase2_dlpfc['DLPFC'] = 1\n",
    "phase2_dlpfc = phase2_dlpfc[['ensemblID', 'DLPFC']]\n",
    "\n",
    "phase2_hippo = hippo[(hippo['adj.P.Val'] < 0.05)].copy()\n",
    "phase2_hippo['Hippocampus'] = 1\n",
    "phase2_hippo = phase2_hippo[['ensemblID', 'Hippocampus']]\n",
    "\n",
    "phase3_caudate = caudate[(caudate['adj.P.Val'] < 0.05)].copy()\n",
    "phase3_caudate['Caudate'] = 1\n",
    "phase3_caudate = phase3_caudate[['ensemblID', 'Caudate']]"
   ]
  },
  {
   "cell_type": "code",
   "execution_count": 12,
   "metadata": {
    "execution": {
     "iopub.execute_input": "2021-07-13T14:41:09.779905Z",
     "iopub.status.busy": "2021-07-13T14:41:09.779007Z",
     "iopub.status.idle": "2021-07-13T14:41:10.423494Z",
     "shell.execute_reply": "2021-07-13T14:41:10.423997Z"
    }
   },
   "outputs": [
    {
     "name": "stdout",
     "output_type": "stream",
     "text": [
      "(848, 2) (848, 2) (848, 2)\n"
     ]
    }
   ],
   "source": [
    "geneList = pd.merge(phase3_caudate[['ensemblID']], phase2_dlpfc[['ensemblID']], on=['ensemblID'], how='outer')\\\n",
    "             .merge(phase2_hippo[['ensemblID']], on=['ensemblID'], how='outer')\\\n",
    "             .groupby(['ensemblID']).first().reset_index()\n",
    "\n",
    "newC = pd.merge(geneList, phase3_caudate, on=['ensemblID'], how='outer').fillna(0)\n",
    "newC['Caudate'] = newC['Caudate'].astype('int')\n",
    "\n",
    "newD1 = pd.merge(geneList, phase2_dlpfc, on=['ensemblID'], how='outer').fillna(0)\n",
    "newD1['DLPFC'] = newD1['DLPFC'].astype('int')\n",
    "\n",
    "newH = pd.merge(geneList, phase2_hippo, on=['ensemblID'], how='outer').fillna(0)\n",
    "newH['Hippocampus'] = newH['Hippocampus'].astype('int')\n",
    "\n",
    "print(newC.shape, newH.shape, newD1.shape)"
   ]
  },
  {
   "cell_type": "code",
   "execution_count": 13,
   "metadata": {
    "execution": {
     "iopub.execute_input": "2021-07-13T14:41:10.436747Z",
     "iopub.status.busy": "2021-07-13T14:41:10.432716Z",
     "iopub.status.idle": "2021-07-13T14:41:10.447981Z",
     "shell.execute_reply": "2021-07-13T14:41:10.449041Z"
    }
   },
   "outputs": [
    {
     "data": {
      "text/html": [
       "<div>\n",
       "<style scoped>\n",
       "    .dataframe tbody tr th:only-of-type {\n",
       "        vertical-align: middle;\n",
       "    }\n",
       "\n",
       "    .dataframe tbody tr th {\n",
       "        vertical-align: top;\n",
       "    }\n",
       "\n",
       "    .dataframe thead th {\n",
       "        text-align: right;\n",
       "    }\n",
       "</style>\n",
       "<table border=\"1\" class=\"dataframe\">\n",
       "  <thead>\n",
       "    <tr style=\"text-align: right;\">\n",
       "      <th></th>\n",
       "      <th>Caudate</th>\n",
       "      <th>DLPFC</th>\n",
       "      <th>Hippocampus</th>\n",
       "    </tr>\n",
       "    <tr>\n",
       "      <th>ensemblID</th>\n",
       "      <th></th>\n",
       "      <th></th>\n",
       "      <th></th>\n",
       "    </tr>\n",
       "  </thead>\n",
       "  <tbody>\n",
       "    <tr>\n",
       "      <th>ENSG00000002586</th>\n",
       "      <td>1</td>\n",
       "      <td>1</td>\n",
       "      <td>1</td>\n",
       "    </tr>\n",
       "    <tr>\n",
       "      <th>ENSG00000003137</th>\n",
       "      <td>1</td>\n",
       "      <td>0</td>\n",
       "      <td>0</td>\n",
       "    </tr>\n",
       "  </tbody>\n",
       "</table>\n",
       "</div>"
      ],
      "text/plain": [
       "                 Caudate  DLPFC  Hippocampus\n",
       "ensemblID                                   \n",
       "ENSG00000002586        1      1            1\n",
       "ENSG00000003137        1      0            0"
      ]
     },
     "execution_count": 1,
     "metadata": {},
     "output_type": "execute_result"
    }
   ],
   "source": [
    "df = pd.concat([newC.set_index(['ensemblID']), newD1.set_index(['ensemblID']), \n",
    "                newH.set_index(['ensemblID'])], axis=1, join='outer')\n",
    "df.head(2)"
   ]
  },
  {
   "cell_type": "code",
   "execution_count": 14,
   "metadata": {
    "execution": {
     "iopub.execute_input": "2021-07-13T14:41:10.455203Z",
     "iopub.status.busy": "2021-07-13T14:41:10.453929Z",
     "iopub.status.idle": "2021-07-13T14:41:10.462655Z",
     "shell.execute_reply": "2021-07-13T14:41:10.461415Z"
    }
   },
   "outputs": [],
   "source": [
    "df.to_csv('brainseq_deg_across_tissues_comparison.csv')"
   ]
  },
  {
   "cell_type": "code",
   "execution_count": 15,
   "metadata": {
    "execution": {
     "iopub.execute_input": "2021-07-13T14:41:10.468877Z",
     "iopub.status.busy": "2021-07-13T14:41:10.467609Z",
     "iopub.status.idle": "2021-07-13T14:41:11.263587Z",
     "shell.execute_reply": "2021-07-13T14:41:11.262279Z"
    }
   },
   "outputs": [],
   "source": [
    "%load_ext rpy2.ipython"
   ]
  },
  {
   "cell_type": "code",
   "execution_count": 16,
   "metadata": {
    "execution": {
     "iopub.execute_input": "2021-07-13T14:41:11.270478Z",
     "iopub.status.busy": "2021-07-13T14:41:11.269195Z",
     "iopub.status.idle": "2021-07-13T14:41:14.416584Z",
     "shell.execute_reply": "2021-07-13T14:41:14.415456Z"
    }
   },
   "outputs": [
    {
     "name": "stderr",
     "output_type": "stream",
     "text": [
      "R[write to console]: Loading required package: grid\n",
      "\n",
      "R[write to console]: ========================================\n",
      "ComplexHeatmap version 2.6.2\n",
      "Bioconductor page: http://bioconductor.org/packages/ComplexHeatmap/\n",
      "Github page: https://github.com/jokergoo/ComplexHeatmap\n",
      "Documentation: http://jokergoo.github.io/ComplexHeatmap-reference\n",
      "\n",
      "If you use it in published research, please cite:\n",
      "Gu, Z. Complex heatmaps reveal patterns and correlations in multidimensional \n",
      "  genomic data. Bioinformatics 2016.\n",
      "\n",
      "This message can be suppressed by:\n",
      "  suppressPackageStartupMessages(library(ComplexHeatmap))\n",
      "========================================\n",
      "\n",
      "\n"
     ]
    }
   ],
   "source": [
    "%%R\n",
    "#library(UpSetR)\n",
    "#upset(df, order.by=\"freq\", text.scale=c(3, 2.5, 2.4, 2.25, 2.6, 2.6), point.size=3.6, line.size=1.4)\n",
    "library(ComplexHeatmap)\n",
    "subset_pvalue <- function(filename, fdr_cutoff){\n",
    "    df <- subset(read.delim(filename, row.names=1, stringsAsFactors = F), \n",
    "                 adj.P.Val < fdr_cutoff)\n",
    "    if('gene_id' %in% colnames(df)){\n",
    "        df$ensemblID <- gsub('\\\\..*', '', df$gene_id)\n",
    "    } else if('ensembl_gene_id' %in% colnames(df)){\n",
    "        df <- dplyr::rename(df, ensemblID=ensembl_gene_id)\n",
    "    }\n",
    "    return(df$ensemblID)\n",
    "}\n",
    "\n",
    "caudate = subset_pvalue('../../../caudate/_m/genes/diffExpr_maleVfemale_full.txt', 0.05)\n",
    "dlpfc = subset_pvalue('../../../dlpfc/_m/genes/diffExpr_maleVfemale_full.txt', 0.05)\n",
    "hippo = subset_pvalue('../../../hippocampus/_m/genes/diffExpr_maleVfemale_full.txt', 0.05)\n",
    "\n",
    "lt = list(Caudate = caudate,\n",
    "          DLPFC = dlpfc,\n",
    "          Hippocampus = hippo)\n",
    "\n",
    "m = make_comb_mat(lt)\n",
    "cbb_palette <- c(\"#000000\", \"#E69F00\", \"#56B4E9\", \"#009E73\", \"#F0E442\", \"#0072B2\", \"#D55E00\", \"#CC79A7\")"
   ]
  },
  {
   "cell_type": "code",
   "execution_count": 17,
   "metadata": {
    "execution": {
     "iopub.execute_input": "2021-07-13T14:41:14.426060Z",
     "iopub.status.busy": "2021-07-13T14:41:14.424786Z",
     "iopub.status.idle": "2021-07-13T14:41:18.010994Z",
     "shell.execute_reply": "2021-07-13T14:41:18.009815Z"
    }
   },
   "outputs": [
    {
     "name": "stdout",
     "output_type": "stream",
     "text": [
      "png \n",
      "  2 \n"
     ]
    }
   ],
   "source": [
    "%%R\n",
    "right_annot = upset_right_annotation(\n",
    "    m, ylim = c(0, 550),\n",
    "    gp = gpar(fill = \"black\"),\n",
    "    annotation_name_side = \"top\",\n",
    "    axis_param = list(side = \"top\"))\n",
    "\n",
    "top_annot = upset_top_annotation(\n",
    "    m, height=unit(7, \"cm\"), \n",
    "    ylim = c(0, 500),\n",
    "    gp=gpar(fill=cbb_palette[comb_degree(m)]),\n",
    "    annotation_name_rot = 90)\n",
    "\n",
    "pdf('BrainSeq_sex_tissue_upsetR_DEgenes.pdf', width=6, height=4)\n",
    "ht = draw(UpSet(m, pt_size=unit(4, \"mm\"), lwd=3, \n",
    "                comb_col=cbb_palette[comb_degree(m)], \n",
    "                set_order = c(\"Caudate\", \"DLPFC\", \"Hippocampus\"), \n",
    "                comb_order = order(-comb_size(m)), \n",
    "                row_names_gp = gpar(fontsize = 14, fontface='bold'),\n",
    "                right_annotation = right_annot, \n",
    "                top_annotation = top_annot))\n",
    "od = column_order(ht)\n",
    "cs = comb_size(m)\n",
    "decorate_annotation(\"intersection_size\", {\n",
    "    grid.text(cs[od], x = seq_along(cs), y = unit(cs[od], \"native\") + \n",
    "              unit(6, \"pt\"), \n",
    "        default.units = \"native\", just = \"bottom\", gp = gpar(fontsize = 11))\n",
    "})\n",
    "dev.off()\n",
    "\n",
    "svg('BrainSeq_sex_tissue_upsetR_DEgenes.svg', width=6, height=4)\n",
    "ht = draw(UpSet(m, pt_size=unit(4, \"mm\"), lwd=3, \n",
    "                comb_col=cbb_palette[comb_degree(m)], \n",
    "                set_order = c(\"Caudate\", \"DLPFC\", \"Hippocampus\"), \n",
    "                comb_order = order(-comb_size(m)), \n",
    "                row_names_gp = gpar(fontsize = 14, fontface='bold'),\n",
    "                right_annotation = right_annot, \n",
    "                top_annotation = top_annot))\n",
    "od = column_order(ht)\n",
    "cs = comb_size(m)\n",
    "decorate_annotation(\"intersection_size\", {\n",
    "    grid.text(cs[od], x = seq_along(cs), y = unit(cs[od], \"native\") + \n",
    "              unit(6, \"pt\"), \n",
    "        default.units = \"native\", just = \"bottom\", gp = gpar(fontsize = 11))\n",
    "})\n",
    "dev.off()"
   ]
  },
  {
   "cell_type": "code",
   "execution_count": 18,
   "metadata": {
    "execution": {
     "iopub.execute_input": "2021-07-13T14:41:18.018680Z",
     "iopub.status.busy": "2021-07-13T14:41:18.017308Z",
     "iopub.status.idle": "2021-07-13T14:41:18.194853Z",
     "shell.execute_reply": "2021-07-13T14:41:18.193623Z"
    }
   },
   "outputs": [
    {
     "name": "stdout",
     "output_type": "stream",
     "text": [
      "png \n",
      "  2 \n"
     ]
    }
   ],
   "source": [
    "%%R\n",
    "right_ha = rowAnnotation(\n",
    "    \"Intersection\\nsize\" = anno_barplot(comb_size(m), border=F,\n",
    "                                        ylim = c(0, 500), \n",
    "                                        gp=gpar(fill=cbb_palette[comb_degree(m)]),\n",
    "                                        width = unit(7, \"cm\")))\n",
    "top_ha = HeatmapAnnotation(\n",
    "    \"Set size\" = anno_barplot(set_size(m), border=F,\n",
    "                              ylim = c(0, 550),\n",
    "                              gp = gpar(fill = \"black\"), \n",
    "                              height = unit(2, \"cm\")), \n",
    "    gap = unit(2, \"mm\"), annotation_name_side = \"left\", \n",
    "    annotation_name_rot = 90)\n",
    "\n",
    "\n",
    "pdf(\"BrainSeq_sex_tissue_upsetR_DEgenes_transpose.pdf\", width=5, height=10)\n",
    "ht = draw(UpSet(t(m), pt_size=unit(5, \"mm\"), lwd=3,\n",
    "                comb_order = order(-comb_size(m)), \n",
    "                comb_col=cbb_palette[comb_degree(m)], \n",
    "                set_order = c(\"Caudate\", \"DLPFC\", \"Hippocampus\"), \n",
    "                column_names_gp = gpar(fontsize = 16, fontface='bold'),\n",
    "                right_annotation = right_ha, top_annotation=top_ha))\n",
    "\n",
    "od = rev(row_order(ht))\n",
    "cs = comb_size(m)\n",
    "decorate_annotation(\"Intersection\\nsize\", {\n",
    "    grid.text(cs[od], y = seq_along(cs), x = unit(cs[od], \"native\") + \n",
    "              unit(6, \"pt\"), \n",
    "        default.units = \"native\", just = \"left\", gp = gpar(fontsize = 11))\n",
    "})\n",
    "dev.off()\n",
    "\n",
    "svg(\"BrainSeq_sex_tissue_upsetR_DEgenes_transpose.svg\", width=5, height=10)\n",
    "ht = draw(UpSet(t(m), pt_size=unit(5, \"mm\"), lwd=3,\n",
    "                comb_order = order(-comb_size(m)), \n",
    "                comb_col=cbb_palette[comb_degree(m)], \n",
    "                set_order = c(\"Caudate\", \"DLPFC\", \"Hippocampus\"), \n",
    "                column_names_gp = gpar(fontsize = 16, fontface='bold'),\n",
    "                right_annotation = right_ha, top_annotation=top_ha))\n",
    "\n",
    "od = rev(row_order(ht))\n",
    "cs = comb_size(m)\n",
    "decorate_annotation(\"Intersection\\nsize\", {\n",
    "    grid.text(cs[od], y = seq_along(cs), x = unit(cs[od], \"native\") + \n",
    "              unit(6, \"pt\"), \n",
    "        default.units = \"native\", just = \"left\", gp = gpar(fontsize = 11))\n",
    "})\n",
    "dev.off()"
   ]
  },
  {
   "cell_type": "markdown",
   "metadata": {},
   "source": [
    "## Annotated shared genes"
   ]
  },
  {
   "cell_type": "code",
   "execution_count": 19,
   "metadata": {
    "execution": {
     "iopub.execute_input": "2021-07-13T14:41:18.201577Z",
     "iopub.status.busy": "2021-07-13T14:41:18.200224Z",
     "iopub.status.idle": "2021-07-13T14:41:18.229403Z",
     "shell.execute_reply": "2021-07-13T14:41:18.228263Z"
    }
   },
   "outputs": [],
   "source": [
    "from gtfparse import read_gtf"
   ]
  },
  {
   "cell_type": "code",
   "execution_count": 20,
   "metadata": {
    "execution": {
     "iopub.execute_input": "2021-07-13T14:41:18.240251Z",
     "iopub.status.busy": "2021-07-13T14:41:18.237867Z",
     "iopub.status.idle": "2021-07-13T14:41:18.241452Z",
     "shell.execute_reply": "2021-07-13T14:41:18.239115Z"
    }
   },
   "outputs": [],
   "source": [
    "@functools.lru_cache()\n",
    "def get_gtf(gtf_file):\n",
    "    return read_gtf(gtf_file)\n"
   ]
  },
  {
   "cell_type": "code",
   "execution_count": 21,
   "metadata": {
    "execution": {
     "iopub.execute_input": "2021-07-13T14:41:18.251607Z",
     "iopub.status.busy": "2021-07-13T14:41:18.250329Z",
     "iopub.status.idle": "2021-07-13T14:42:31.133468Z",
     "shell.execute_reply": "2021-07-13T14:42:31.132282Z"
    }
   },
   "outputs": [
    {
     "name": "stderr",
     "output_type": "stream",
     "text": [
      "INFO:root:Extracted GTF attributes: ['gene_id', 'gene_type', 'gene_status', 'gene_name', 'level', 'havana_gene', 'transcript_id', 'transcript_type', 'transcript_status', 'transcript_name', 'transcript_support_level', 'tag', 'havana_transcript', 'exon_number', 'exon_id', 'ont', 'protein_id', 'ccdsid']\n"
     ]
    },
    {
     "data": {
      "text/html": [
       "<div>\n",
       "<style scoped>\n",
       "    .dataframe tbody tr th:only-of-type {\n",
       "        vertical-align: middle;\n",
       "    }\n",
       "\n",
       "    .dataframe tbody tr th {\n",
       "        vertical-align: top;\n",
       "    }\n",
       "\n",
       "    .dataframe thead th {\n",
       "        text-align: right;\n",
       "    }\n",
       "</style>\n",
       "<table border=\"1\" class=\"dataframe\">\n",
       "  <thead>\n",
       "    <tr style=\"text-align: right;\">\n",
       "      <th></th>\n",
       "      <th>gene_id</th>\n",
       "      <th>gene_name</th>\n",
       "      <th>transcript_id</th>\n",
       "      <th>exon_id</th>\n",
       "      <th>gene_type</th>\n",
       "      <th>seqname</th>\n",
       "      <th>start</th>\n",
       "      <th>end</th>\n",
       "      <th>strand</th>\n",
       "    </tr>\n",
       "  </thead>\n",
       "  <tbody>\n",
       "    <tr>\n",
       "      <th>0</th>\n",
       "      <td>ENSG00000223972.5</td>\n",
       "      <td>DDX11L1</td>\n",
       "      <td></td>\n",
       "      <td></td>\n",
       "      <td>transcribed_unprocessed_pseudogene</td>\n",
       "      <td>chr1</td>\n",
       "      <td>11869</td>\n",
       "      <td>14409</td>\n",
       "      <td>+</td>\n",
       "    </tr>\n",
       "    <tr>\n",
       "      <th>12</th>\n",
       "      <td>ENSG00000227232.5</td>\n",
       "      <td>WASH7P</td>\n",
       "      <td></td>\n",
       "      <td></td>\n",
       "      <td>unprocessed_pseudogene</td>\n",
       "      <td>chr1</td>\n",
       "      <td>14404</td>\n",
       "      <td>29570</td>\n",
       "      <td>-</td>\n",
       "    </tr>\n",
       "  </tbody>\n",
       "</table>\n",
       "</div>"
      ],
      "text/plain": [
       "              gene_id gene_name transcript_id exon_id  \\\n",
       "0   ENSG00000223972.5   DDX11L1                         \n",
       "12  ENSG00000227232.5    WASH7P                         \n",
       "\n",
       "                             gene_type seqname  start    end strand  \n",
       "0   transcribed_unprocessed_pseudogene    chr1  11869  14409      +  \n",
       "12              unprocessed_pseudogene    chr1  14404  29570      -  "
      ]
     },
     "execution_count": 1,
     "metadata": {},
     "output_type": "execute_result"
    }
   ],
   "source": [
    "def gene_annotation(gtf_file, feature):\n",
    "    gtf0 = get_gtf(gtf_file)\n",
    "    gtf = gtf0[gtf0[\"feature\"] == feature]\n",
    "    return gtf[[\"gene_id\", \"gene_name\", \"transcript_id\", \"exon_id\", \n",
    "                \"gene_type\", \"seqname\", \"start\", \"end\", \"strand\"]]\n",
    "\n",
    "gtf_file = '/ceph/genome/human/gencode25/gtf.CHR/_m/gencode.v25.annotation.gtf'\n",
    "gtf_annot = gene_annotation(gtf_file, 'gene')\n",
    "gtf_annot.head(2)"
   ]
  },
  {
   "cell_type": "code",
   "execution_count": 22,
   "metadata": {
    "execution": {
     "iopub.execute_input": "2021-07-13T14:42:31.140815Z",
     "iopub.status.busy": "2021-07-13T14:42:31.139586Z",
     "iopub.status.idle": "2021-07-13T14:42:31.201224Z",
     "shell.execute_reply": "2021-07-13T14:42:31.200153Z"
    }
   },
   "outputs": [
    {
     "data": {
      "text/html": [
       "<div>\n",
       "<style scoped>\n",
       "    .dataframe tbody tr th:only-of-type {\n",
       "        vertical-align: middle;\n",
       "    }\n",
       "\n",
       "    .dataframe tbody tr th {\n",
       "        vertical-align: top;\n",
       "    }\n",
       "\n",
       "    .dataframe thead th {\n",
       "        text-align: right;\n",
       "    }\n",
       "</style>\n",
       "<table border=\"1\" class=\"dataframe\">\n",
       "  <thead>\n",
       "    <tr style=\"text-align: right;\">\n",
       "      <th></th>\n",
       "      <th>Feature</th>\n",
       "      <th>ensemblID</th>\n",
       "      <th>adj.P.Val</th>\n",
       "      <th>logFC</th>\n",
       "      <th>t</th>\n",
       "      <th>Dir</th>\n",
       "      <th>gene_id</th>\n",
       "      <th>gene_name</th>\n",
       "      <th>seqname</th>\n",
       "    </tr>\n",
       "  </thead>\n",
       "  <tbody>\n",
       "    <tr>\n",
       "      <th>2529938</th>\n",
       "      <td>ENSG00000229807.10</td>\n",
       "      <td>ENSG00000229807</td>\n",
       "      <td>1.953623e-272</td>\n",
       "      <td>-9.296137</td>\n",
       "      <td>-100.356075</td>\n",
       "      <td>-1.0</td>\n",
       "      <td>ENSG00000229807.10</td>\n",
       "      <td>XIST</td>\n",
       "      <td>chrX</td>\n",
       "    </tr>\n",
       "    <tr>\n",
       "      <th>2573932</th>\n",
       "      <td>ENSG00000114374.12</td>\n",
       "      <td>ENSG00000114374</td>\n",
       "      <td>1.953623e-272</td>\n",
       "      <td>8.683679</td>\n",
       "      <td>100.180866</td>\n",
       "      <td>1.0</td>\n",
       "      <td>ENSG00000114374.12</td>\n",
       "      <td>USP9Y</td>\n",
       "      <td>chrY</td>\n",
       "    </tr>\n",
       "  </tbody>\n",
       "</table>\n",
       "</div>"
      ],
      "text/plain": [
       "                    Feature        ensemblID      adj.P.Val     logFC  \\\n",
       "2529938  ENSG00000229807.10  ENSG00000229807  1.953623e-272 -9.296137   \n",
       "2573932  ENSG00000114374.12  ENSG00000114374  1.953623e-272  8.683679   \n",
       "\n",
       "                  t  Dir             gene_id gene_name seqname  \n",
       "2529938 -100.356075 -1.0  ENSG00000229807.10      XIST    chrX  \n",
       "2573932  100.180866  1.0  ENSG00000114374.12     USP9Y    chrY  "
      ]
     },
     "execution_count": 1,
     "metadata": {},
     "output_type": "execute_result"
    }
   ],
   "source": [
    "dft = caudate.merge(gtf_annot[['gene_id', 'gene_name', 'seqname']], \n",
    "                    left_index=True, right_on='gene_id')\n",
    "dft.head(2)"
   ]
  },
  {
   "cell_type": "code",
   "execution_count": 23,
   "metadata": {
    "execution": {
     "iopub.execute_input": "2021-07-13T14:42:31.210559Z",
     "iopub.status.busy": "2021-07-13T14:42:31.209306Z",
     "iopub.status.idle": "2021-07-13T14:42:31.237178Z",
     "shell.execute_reply": "2021-07-13T14:42:31.236132Z"
    }
   },
   "outputs": [
    {
     "data": {
      "text/html": [
       "<div>\n",
       "<style scoped>\n",
       "    .dataframe tbody tr th:only-of-type {\n",
       "        vertical-align: middle;\n",
       "    }\n",
       "\n",
       "    .dataframe tbody tr th {\n",
       "        vertical-align: top;\n",
       "    }\n",
       "\n",
       "    .dataframe thead th {\n",
       "        text-align: right;\n",
       "    }\n",
       "</style>\n",
       "<table border=\"1\" class=\"dataframe\">\n",
       "  <thead>\n",
       "    <tr style=\"text-align: right;\">\n",
       "      <th></th>\n",
       "      <th>gene_id</th>\n",
       "      <th>ensemblID</th>\n",
       "      <th>seqname</th>\n",
       "      <th>gene_name</th>\n",
       "      <th>Dir</th>\n",
       "    </tr>\n",
       "  </thead>\n",
       "  <tbody>\n",
       "    <tr>\n",
       "      <th>0</th>\n",
       "      <td>ENSG00000229807.10</td>\n",
       "      <td>ENSG00000229807</td>\n",
       "      <td>chrX</td>\n",
       "      <td>XIST</td>\n",
       "      <td>-1.0</td>\n",
       "    </tr>\n",
       "    <tr>\n",
       "      <th>1</th>\n",
       "      <td>ENSG00000114374.12</td>\n",
       "      <td>ENSG00000114374</td>\n",
       "      <td>chrY</td>\n",
       "      <td>USP9Y</td>\n",
       "      <td>1.0</td>\n",
       "    </tr>\n",
       "  </tbody>\n",
       "</table>\n",
       "</div>"
      ],
      "text/plain": [
       "              gene_id        ensemblID seqname gene_name  Dir\n",
       "0  ENSG00000229807.10  ENSG00000229807    chrX      XIST -1.0\n",
       "1  ENSG00000114374.12  ENSG00000114374    chrY     USP9Y  1.0"
      ]
     },
     "execution_count": 1,
     "metadata": {},
     "output_type": "execute_result"
    }
   ],
   "source": [
    "shared_df = dft.loc[:, ['gene_id', 'ensemblID', 'seqname', 'gene_name', 'Dir']]\\\n",
    "        .merge(pd.DataFrame({'ensemblID': list(set(phase2_dlpfc['ensemblID']) & \n",
    "                                               set(phase2_hippo['ensemblID']) & \n",
    "                                               set(phase3_caudate['ensemblID']))}), \n",
    "               on='ensemblID')\n",
    "shared_df.to_csv('BrainSeq_shared_degs_annotation.txt', \n",
    "                 sep='\\t', index=False, header=True)\n",
    "shared_df.head(2)"
   ]
  },
  {
   "cell_type": "code",
   "execution_count": 24,
   "metadata": {
    "execution": {
     "iopub.execute_input": "2021-07-13T14:42:31.244564Z",
     "iopub.status.busy": "2021-07-13T14:42:31.243300Z",
     "iopub.status.idle": "2021-07-13T14:42:31.247402Z",
     "shell.execute_reply": "2021-07-13T14:42:31.248441Z"
    }
   },
   "outputs": [
    {
     "name": "stdout",
     "output_type": "stream",
     "text": [
      "69.86% of shared DEG are allosomal!\n"
     ]
    }
   ],
   "source": [
    "dd = np.sum(shared_df.seqname.isin(['chrX', 'chrY'])) / shared_df.shape[0] * 100\n",
    "print(\"%0.2f%% of shared DEG are allosomal!\" % dd)"
   ]
  },
  {
   "cell_type": "markdown",
   "metadata": {},
   "source": [
    "## Comparison with CommonMind: MSSM Penn Pitt"
   ]
  },
  {
   "cell_type": "code",
   "execution_count": 25,
   "metadata": {
    "execution": {
     "iopub.execute_input": "2021-07-13T14:42:31.254808Z",
     "iopub.status.busy": "2021-07-13T14:42:31.253542Z",
     "iopub.status.idle": "2021-07-13T14:42:31.328742Z",
     "shell.execute_reply": "2021-07-13T14:42:31.327667Z"
    }
   },
   "outputs": [
    {
     "data": {
      "text/plain": [
       "Dir\n",
       "-1.0     8613\n",
       " 1.0    10498\n",
       "dtype: int64"
      ]
     },
     "execution_count": 1,
     "metadata": {},
     "output_type": "execute_result"
    }
   ],
   "source": [
    "cmc_dlpfc = get_deg(config['cmc_dlpfc'])\n",
    "cmc_dlpfc.groupby('Dir').size()"
   ]
  },
  {
   "cell_type": "code",
   "execution_count": 26,
   "metadata": {
    "execution": {
     "iopub.execute_input": "2021-07-13T14:42:31.336390Z",
     "iopub.status.busy": "2021-07-13T14:42:31.334139Z",
     "iopub.status.idle": "2021-07-13T14:42:31.340909Z",
     "shell.execute_reply": "2021-07-13T14:42:31.339765Z"
    }
   },
   "outputs": [
    {
     "data": {
      "text/plain": [
       "(482, 6)"
      ]
     },
     "execution_count": 1,
     "metadata": {},
     "output_type": "execute_result"
    }
   ],
   "source": [
    "cmc_dlpfc[(cmc_dlpfc['adj.P.Val'] < 0.05)].shape"
   ]
  },
  {
   "cell_type": "markdown",
   "metadata": {},
   "source": [
    "### Upset Plot"
   ]
  },
  {
   "cell_type": "code",
   "execution_count": 27,
   "metadata": {
    "execution": {
     "iopub.execute_input": "2021-07-13T14:42:31.350147Z",
     "iopub.status.busy": "2021-07-13T14:42:31.346239Z",
     "iopub.status.idle": "2021-07-13T14:42:31.355953Z",
     "shell.execute_reply": "2021-07-13T14:42:31.354845Z"
    }
   },
   "outputs": [],
   "source": [
    "## MSSM Penn Pitt\n",
    "cmc = cmc_dlpfc[(cmc_dlpfc['adj.P.Val'] < 0.05)].copy()\n",
    "cmc['CMC DLPFC'] = 1\n",
    "cmc = cmc[['ensemblID', 'CMC DLPFC']].groupby('ensemblID').first().reset_index()"
   ]
  },
  {
   "cell_type": "code",
   "execution_count": 28,
   "metadata": {
    "execution": {
     "iopub.execute_input": "2021-07-13T14:42:31.368696Z",
     "iopub.status.busy": "2021-07-13T14:42:31.367433Z",
     "iopub.status.idle": "2021-07-13T14:42:32.228404Z",
     "shell.execute_reply": "2021-07-13T14:42:32.227155Z"
    }
   },
   "outputs": [
    {
     "name": "stdout",
     "output_type": "stream",
     "text": [
      "(1206, 2) (1206, 2) (1206, 2) (1206, 2)\n"
     ]
    }
   ],
   "source": [
    "geneList = pd.merge(phase3_caudate[['ensemblID']], phase2_dlpfc[['ensemblID']], \n",
    "                    on=['ensemblID'], how='outer')\\\n",
    "             .merge(phase2_hippo[['ensemblID']], on=['ensemblID'], how='outer')\\\n",
    "             .merge(cmc[['ensemblID']], on=['ensemblID'], how='outer')\\\n",
    "             .groupby(['ensemblID']).first().reset_index()\n",
    "\n",
    "newC = pd.merge(geneList, phase3_caudate, on=['ensemblID'], how='outer').fillna(0)\n",
    "newC['Caudate'] = newC['Caudate'].astype('int')\n",
    "\n",
    "newD1 = pd.merge(geneList, phase2_dlpfc, on=['ensemblID'], how='outer').fillna(0)\n",
    "newD1['DLPFC'] = newD1['DLPFC'].astype('int')\n",
    "\n",
    "newH = pd.merge(geneList, phase2_hippo, on=['ensemblID'], how='outer').fillna(0)\n",
    "newH['Hippocampus'] = newH['Hippocampus'].astype('int')\n",
    "\n",
    "newCMC = pd.merge(geneList, cmc, on=['ensemblID'], how='outer').fillna(0)\n",
    "newCMC['CMC DLPFC'] = newCMC['CMC DLPFC'].astype('int')\n",
    "\n",
    "print(newC.shape, newH.shape, newD1.shape, newCMC.shape)"
   ]
  },
  {
   "cell_type": "code",
   "execution_count": 29,
   "metadata": {
    "execution": {
     "iopub.execute_input": "2021-07-13T14:42:32.241054Z",
     "iopub.status.busy": "2021-07-13T14:42:32.235339Z",
     "iopub.status.idle": "2021-07-13T14:42:32.245680Z",
     "shell.execute_reply": "2021-07-13T14:42:32.244378Z"
    }
   },
   "outputs": [
    {
     "data": {
      "text/html": [
       "<div>\n",
       "<style scoped>\n",
       "    .dataframe tbody tr th:only-of-type {\n",
       "        vertical-align: middle;\n",
       "    }\n",
       "\n",
       "    .dataframe tbody tr th {\n",
       "        vertical-align: top;\n",
       "    }\n",
       "\n",
       "    .dataframe thead th {\n",
       "        text-align: right;\n",
       "    }\n",
       "</style>\n",
       "<table border=\"1\" class=\"dataframe\">\n",
       "  <thead>\n",
       "    <tr style=\"text-align: right;\">\n",
       "      <th></th>\n",
       "      <th>Caudate</th>\n",
       "      <th>DLPFC</th>\n",
       "      <th>Hippocampus</th>\n",
       "      <th>CMC DLPFC</th>\n",
       "    </tr>\n",
       "    <tr>\n",
       "      <th>ensemblID</th>\n",
       "      <th></th>\n",
       "      <th></th>\n",
       "      <th></th>\n",
       "      <th></th>\n",
       "    </tr>\n",
       "  </thead>\n",
       "  <tbody>\n",
       "    <tr>\n",
       "      <th>ENSG00000001630</th>\n",
       "      <td>0</td>\n",
       "      <td>0</td>\n",
       "      <td>0</td>\n",
       "      <td>1</td>\n",
       "    </tr>\n",
       "    <tr>\n",
       "      <th>ENSG00000002586</th>\n",
       "      <td>1</td>\n",
       "      <td>1</td>\n",
       "      <td>1</td>\n",
       "      <td>0</td>\n",
       "    </tr>\n",
       "  </tbody>\n",
       "</table>\n",
       "</div>"
      ],
      "text/plain": [
       "                 Caudate  DLPFC  Hippocampus  CMC DLPFC\n",
       "ensemblID                                              \n",
       "ENSG00000001630        0      0            0          1\n",
       "ENSG00000002586        1      1            1          0"
      ]
     },
     "execution_count": 1,
     "metadata": {},
     "output_type": "execute_result"
    }
   ],
   "source": [
    "df = pd.concat([newC.set_index(['ensemblID']), newD1.set_index(['ensemblID']), \n",
    "                newH.set_index(['ensemblID']), newCMC.set_index(['ensemblID'])], \n",
    "               axis=1, join='outer')\n",
    "df.head(2)"
   ]
  },
  {
   "cell_type": "code",
   "execution_count": 30,
   "metadata": {
    "execution": {
     "iopub.execute_input": "2021-07-13T14:42:32.251566Z",
     "iopub.status.busy": "2021-07-13T14:42:32.250311Z",
     "iopub.status.idle": "2021-07-13T14:42:32.257056Z",
     "shell.execute_reply": "2021-07-13T14:42:32.255817Z"
    }
   },
   "outputs": [],
   "source": [
    "df.to_csv('cmc_mpp_all_deg_across_tissues.csv')"
   ]
  },
  {
   "cell_type": "code",
   "execution_count": 31,
   "metadata": {
    "execution": {
     "iopub.execute_input": "2021-07-13T14:42:32.263397Z",
     "iopub.status.busy": "2021-07-13T14:42:32.262171Z",
     "iopub.status.idle": "2021-07-13T14:42:33.779775Z",
     "shell.execute_reply": "2021-07-13T14:42:33.778637Z"
    }
   },
   "outputs": [
    {
     "name": "stderr",
     "output_type": "stream",
     "text": [
      "WARNING:rpy2.rinterface_lib.callbacks:R[write to console]: ── Attaching packages ─────────────────────────────────────── tidyverse 1.3.1 ──\n",
      "\n",
      "WARNING:rpy2.rinterface_lib.callbacks:R[write to console]: ✔ ggplot2 3.3.5     ✔ purrr   0.3.4\n",
      "✔ tibble  3.1.2     ✔ dplyr   1.0.7\n",
      "✔ tidyr   1.1.3     ✔ stringr 1.4.0\n",
      "✔ readr   1.4.0     ✔ forcats 0.5.1\n",
      "\n",
      "WARNING:rpy2.rinterface_lib.callbacks:R[write to console]: ── Conflicts ────────────────────────────────────────── tidyverse_conflicts() ──\n",
      "✖ dplyr::filter() masks stats::filter()\n",
      "✖ dplyr::lag()    masks stats::lag()\n",
      "\n"
     ]
    }
   ],
   "source": [
    "%%R\n",
    "library(tidyverse)\n",
    "subset_pvalue <- function(fn, fdr_cutoff){\n",
    "    df <- data.table::fread(fn) %>% filter(adj.P.Val < fdr_cutoff) \n",
    "    if('gene_id' %in% colnames(df)){\n",
    "        df$ensemblID <- gsub('\\\\..*', '', df$gene_id)\n",
    "    } else if('ensembl_gene_id' %in% colnames(df)){\n",
    "        df <- dplyr::rename(df, ensemblID=ensembl_gene_id)\n",
    "    } else if(\"Geneid\" %in% colnames(df)){\n",
    "        df$ensemblID <- gsub(\"\\\\..*\", \"\", df$Geneid)\n",
    "    }\n",
    "    return(df$ensemblID)\n",
    "}"
   ]
  },
  {
   "cell_type": "code",
   "execution_count": 32,
   "metadata": {
    "execution": {
     "iopub.execute_input": "2021-07-13T14:42:33.786029Z",
     "iopub.status.busy": "2021-07-13T14:42:33.784769Z",
     "iopub.status.idle": "2021-07-13T14:42:33.913240Z",
     "shell.execute_reply": "2021-07-13T14:42:33.912139Z"
    }
   },
   "outputs": [],
   "source": [
    "%%R \n",
    "#upset(df, order.by=\"freq\", text.scale=c(3, 2.5, 2.4, 2.25, 2.6, 2.6), point.size=3.6, line.size=1.4)\n",
    "cmc = subset_pvalue('../../../cmc_dlpfc/_m/mssm_penn_pitt_maleVfemale.tsv', 0.05)\n",
    "\n",
    "lt = list(Caudate = caudate,\n",
    "          DLPFC = dlpfc,\n",
    "          Hippocampus = hippo, \n",
    "          'CMC DLPFC' = cmc)\n",
    "\n",
    "m = make_comb_mat(lt)"
   ]
  },
  {
   "cell_type": "code",
   "execution_count": 33,
   "metadata": {
    "execution": {
     "iopub.execute_input": "2021-07-13T14:42:33.919536Z",
     "iopub.status.busy": "2021-07-13T14:42:33.918280Z",
     "iopub.status.idle": "2021-07-13T14:42:34.097285Z",
     "shell.execute_reply": "2021-07-13T14:42:34.096191Z"
    }
   },
   "outputs": [
    {
     "name": "stdout",
     "output_type": "stream",
     "text": [
      "png \n",
      "  2 \n"
     ]
    }
   ],
   "source": [
    "%%R\n",
    "right_annot = upset_right_annotation(\n",
    "    m, ylim = c(0, 550),\n",
    "    gp = gpar(fill = \"black\"),\n",
    "    annotation_name_side = \"bottom\",\n",
    "    axis_param = list(side = \"bottom\"))\n",
    "\n",
    "top_annot = upset_top_annotation(\n",
    "    m, height=unit(7, \"cm\"), \n",
    "    ylim = c(0, 500),\n",
    "    gp=gpar(fill=cbb_palette[comb_degree(m)]),\n",
    "    annotation_name_rot = 90)\n",
    "\n",
    "pdf('cmc_sex_tissue_upsetR_DEgenes.pdf', width=8, height=5)\n",
    "ht = draw(UpSet(m, pt_size=unit(6, \"mm\"), lwd=3, \n",
    "                comb_col=cbb_palette[comb_degree(m)], \n",
    "                set_order = c(\"Caudate\", \"DLPFC\", \"Hippocampus\", \"CMC DLPFC\"), \n",
    "                comb_order = order(-comb_size(m)), \n",
    "                row_names_gp = gpar(fontsize = 16, fontface='bold'),\n",
    "                right_annotation = right_annot, \n",
    "                top_annotation = top_annot))\n",
    "od = column_order(ht)\n",
    "cs = comb_size(m)\n",
    "decorate_annotation(\"intersection_size\", {\n",
    "    grid.text(cs[od], x = seq_along(cs), y = unit(cs[od], \"native\") + \n",
    "              unit(6, \"pt\"), \n",
    "        default.units = \"native\", just = \"bottom\", gp = gpar(fontsize = 11))\n",
    "})\n",
    "dev.off()\n",
    "\n",
    "svg('cmc_sex_tissue_upsetR_DEgenes.svg', width=8, height=5)\n",
    "ht = draw(UpSet(m, pt_size=unit(6, \"mm\"), lwd=3, \n",
    "                comb_col=cbb_palette[comb_degree(m)], \n",
    "                set_order = c(\"Caudate\", \"DLPFC\", \"Hippocampus\", \"CMC DLPFC\"), \n",
    "                comb_order = order(-comb_size(m)), \n",
    "                row_names_gp = gpar(fontsize = 16, fontface='bold'),\n",
    "                right_annotation = right_annot, \n",
    "                top_annotation = top_annot))\n",
    "od = column_order(ht)\n",
    "cs = comb_size(m)\n",
    "decorate_annotation(\"intersection_size\", {\n",
    "    grid.text(cs[od], x = seq_along(cs), y = unit(cs[od], \"native\") + \n",
    "              unit(6, \"pt\"), \n",
    "        default.units = \"native\", just = \"bottom\", gp = gpar(fontsize = 11))\n",
    "})\n",
    "dev.off()"
   ]
  },
  {
   "cell_type": "code",
   "execution_count": 34,
   "metadata": {
    "execution": {
     "iopub.execute_input": "2021-07-13T14:42:34.103779Z",
     "iopub.status.busy": "2021-07-13T14:42:34.102518Z",
     "iopub.status.idle": "2021-07-13T14:42:34.260108Z",
     "shell.execute_reply": "2021-07-13T14:42:34.259014Z"
    }
   },
   "outputs": [
    {
     "name": "stdout",
     "output_type": "stream",
     "text": [
      "png \n",
      "  2 \n"
     ]
    }
   ],
   "source": [
    "%%R\n",
    "right_ha = rowAnnotation(\n",
    "    \"Intersection\\nsize\" = anno_barplot(comb_size(m), border=F,\n",
    "                                        ylim = c(0, 500), \n",
    "                                        gp=gpar(fill=cbb_palette[comb_degree(m)]),\n",
    "                                        width = unit(7, \"cm\")))\n",
    "top_ha = HeatmapAnnotation(\n",
    "    \"Set size\" = anno_barplot(set_size(m), border=F,\n",
    "                              ylim = c(0, 550),\n",
    "                              gp = gpar(fill = \"black\"), \n",
    "                              height = unit(2, \"cm\")), \n",
    "    gap = unit(2, \"mm\"), annotation_name_side = \"left\", \n",
    "    annotation_name_rot = 90)\n",
    "\n",
    "pdf(\"cmc_sex_tissue_upsetR_DEgenes_transpose.pdf\", width=5, height=10)\n",
    "ht = draw(UpSet(t(m), pt_size=unit(5, \"mm\"), lwd=3,\n",
    "                comb_order = order(-comb_size(m)),\n",
    "                comb_col=cbb_palette[comb_degree(m)], \n",
    "                set_order = c(\"Caudate\", \"DLPFC\", \"Hippocampus\", \"CMC DLPFC\"), \n",
    "                column_names_gp = gpar(fontsize = 16, fontface='bold'),\n",
    "                right_annotation = right_ha, top_annotation=top_ha))\n",
    "\n",
    "od = rev(row_order(ht))\n",
    "cs = comb_size(m)\n",
    "decorate_annotation(\"Intersection\\nsize\", {\n",
    "    grid.text(cs[od], y = seq_along(cs), x = unit(cs[od], \"native\") + \n",
    "              unit(6, \"pt\"), \n",
    "        default.units = \"native\", just = \"left\", gp = gpar(fontsize = 11))\n",
    "})\n",
    "dev.off()\n",
    "\n",
    "svg(\"cmc_sex_tissue_upsetR_DEgenes_transpose.svg\", width=5, height=10)\n",
    "ht = draw(UpSet(t(m), pt_size=unit(5, \"mm\"), lwd=3,\n",
    "                comb_order = order(-comb_size(m)),\n",
    "                comb_col=cbb_palette[comb_degree(m)], \n",
    "                set_order = c(\"Caudate\", \"DLPFC\", \"Hippocampus\", \"CMC DLPFC\"), \n",
    "                column_names_gp = gpar(fontsize = 16, fontface='bold'),\n",
    "                right_annotation = right_ha, top_annotation=top_ha))\n",
    "\n",
    "od = rev(row_order(ht))\n",
    "cs = comb_size(m)\n",
    "decorate_annotation(\"Intersection\\nsize\", {\n",
    "    grid.text(cs[od], y = seq_along(cs), x = unit(cs[od], \"native\") + \n",
    "              unit(6, \"pt\"), \n",
    "        default.units = \"native\", just = \"left\", gp = gpar(fontsize = 11))\n",
    "})\n",
    "dev.off()"
   ]
  },
  {
   "cell_type": "code",
   "execution_count": 35,
   "metadata": {
    "execution": {
     "iopub.execute_input": "2021-07-13T14:42:34.267019Z",
     "iopub.status.busy": "2021-07-13T14:42:34.265793Z",
     "iopub.status.idle": "2021-07-13T14:42:34.351097Z",
     "shell.execute_reply": "2021-07-13T14:42:34.349991Z"
    }
   },
   "outputs": [
    {
     "data": {
      "text/html": [
       "<div>\n",
       "<style scoped>\n",
       "    .dataframe tbody tr th:only-of-type {\n",
       "        vertical-align: middle;\n",
       "    }\n",
       "\n",
       "    .dataframe tbody tr th {\n",
       "        vertical-align: top;\n",
       "    }\n",
       "\n",
       "    .dataframe thead th {\n",
       "        text-align: right;\n",
       "    }\n",
       "</style>\n",
       "<table border=\"1\" class=\"dataframe\">\n",
       "  <thead>\n",
       "    <tr style=\"text-align: right;\">\n",
       "      <th></th>\n",
       "      <th>logFC</th>\n",
       "      <th>AveExpr</th>\n",
       "      <th>t</th>\n",
       "      <th>P.Value</th>\n",
       "      <th>adj.P.Val</th>\n",
       "      <th>B</th>\n",
       "      <th>Coef</th>\n",
       "      <th>Symbol</th>\n",
       "      <th>Entrez</th>\n",
       "      <th>Chrom</th>\n",
       "      <th>Feature</th>\n",
       "      <th>Dir</th>\n",
       "      <th>ensemblID</th>\n",
       "    </tr>\n",
       "    <tr>\n",
       "      <th>Geneid</th>\n",
       "      <th></th>\n",
       "      <th></th>\n",
       "      <th></th>\n",
       "      <th></th>\n",
       "      <th></th>\n",
       "      <th></th>\n",
       "      <th></th>\n",
       "      <th></th>\n",
       "      <th></th>\n",
       "      <th></th>\n",
       "      <th></th>\n",
       "      <th></th>\n",
       "      <th></th>\n",
       "    </tr>\n",
       "  </thead>\n",
       "  <tbody>\n",
       "    <tr>\n",
       "      <th>ENSG00000241859.7</th>\n",
       "      <td>7.426322</td>\n",
       "      <td>0.21193</td>\n",
       "      <td>106.905258</td>\n",
       "      <td>0.0</td>\n",
       "      <td>0.0</td>\n",
       "      <td>794.024282</td>\n",
       "      <td>Reported_GenderMale</td>\n",
       "      <td>ANOS2P</td>\n",
       "      <td>NaN</td>\n",
       "      <td>Y</td>\n",
       "      <td>ENSG00000241859.7</td>\n",
       "      <td>1.0</td>\n",
       "      <td>ENSG00000241859</td>\n",
       "    </tr>\n",
       "    <tr>\n",
       "      <th>ENSG00000206159.11</th>\n",
       "      <td>6.829826</td>\n",
       "      <td>-0.45465</td>\n",
       "      <td>101.687435</td>\n",
       "      <td>0.0</td>\n",
       "      <td>0.0</td>\n",
       "      <td>769.944857</td>\n",
       "      <td>Reported_GenderMale</td>\n",
       "      <td>GYG2P1</td>\n",
       "      <td>NaN</td>\n",
       "      <td>Y</td>\n",
       "      <td>ENSG00000206159.11</td>\n",
       "      <td>1.0</td>\n",
       "      <td>ENSG00000206159</td>\n",
       "    </tr>\n",
       "  </tbody>\n",
       "</table>\n",
       "</div>"
      ],
      "text/plain": [
       "                       logFC  AveExpr           t  P.Value  adj.P.Val  \\\n",
       "Geneid                                                                  \n",
       "ENSG00000241859.7   7.426322  0.21193  106.905258      0.0        0.0   \n",
       "ENSG00000206159.11  6.829826 -0.45465  101.687435      0.0        0.0   \n",
       "\n",
       "                             B                 Coef  Symbol  Entrez Chrom  \\\n",
       "Geneid                                                                      \n",
       "ENSG00000241859.7   794.024282  Reported_GenderMale  ANOS2P     NaN     Y   \n",
       "ENSG00000206159.11  769.944857  Reported_GenderMale  GYG2P1     NaN     Y   \n",
       "\n",
       "                               Feature  Dir        ensemblID  \n",
       "Geneid                                                        \n",
       "ENSG00000241859.7    ENSG00000241859.7  1.0  ENSG00000241859  \n",
       "ENSG00000206159.11  ENSG00000206159.11  1.0  ENSG00000206159  "
      ]
     },
     "execution_count": 1,
     "metadata": {},
     "output_type": "execute_result"
    }
   ],
   "source": [
    "dft = pd.read_csv('../../../cmc_dlpfc/_m/mssm_penn_pitt_maleVfemale.tsv', \n",
    "                  index_col=0, sep='\\t')\n",
    "dft['Feature'] = dft.index\n",
    "dft['Dir'] = np.sign(dft['t'])\n",
    "dft['ensemblID'] = dft.index.str.replace('\\\\..*', '', regex=True)\n",
    "dft = dft[(dft[\"adj.P.Val\"] < 0.05)].copy()\n",
    "dft.head(2)"
   ]
  },
  {
   "cell_type": "code",
   "execution_count": 36,
   "metadata": {
    "execution": {
     "iopub.execute_input": "2021-07-13T14:42:34.362315Z",
     "iopub.status.busy": "2021-07-13T14:42:34.361042Z",
     "iopub.status.idle": "2021-07-13T14:42:34.370055Z",
     "shell.execute_reply": "2021-07-13T14:42:34.368808Z"
    }
   },
   "outputs": [
    {
     "data": {
      "text/plain": [
       "(54, 5)"
      ]
     },
     "execution_count": 1,
     "metadata": {},
     "output_type": "execute_result"
    }
   ],
   "source": [
    "shared_df = dft.rename(columns={'Chrom': 'seqname', \n",
    "                                'Symbol': 'gene_name'})\\\n",
    "               .loc[:, ['Feature', 'ensemblID', 'seqname', 'gene_name', 'Dir']]\\\n",
    "               .merge(pd.DataFrame({'ensemblID': list(set(phase2_dlpfc['ensemblID']) & \n",
    "                                                      set(phase2_hippo['ensemblID']) & \n",
    "                                                      set(phase3_caudate['ensemblID']) & \n",
    "                                                      set(cmc['ensemblID']))}), \n",
    "                      on='ensemblID')\n",
    "shared_df.seqname = 'chr'+shared_df.seqname\n",
    "shared_df.to_csv('cmc_mpp_shared_degs_annotation.txt', sep='\\t', index=False, header=True)\n",
    "shared_df.shape"
   ]
  },
  {
   "cell_type": "code",
   "execution_count": 37,
   "metadata": {
    "execution": {
     "iopub.execute_input": "2021-07-13T14:42:34.377040Z",
     "iopub.status.busy": "2021-07-13T14:42:34.375814Z",
     "iopub.status.idle": "2021-07-13T14:42:34.379981Z",
     "shell.execute_reply": "2021-07-13T14:42:34.380988Z"
    }
   },
   "outputs": [
    {
     "name": "stdout",
     "output_type": "stream",
     "text": [
      "75.93% of shared DEG are allosomal!\n"
     ]
    }
   ],
   "source": [
    "#### 6 out of 41 are autosomal\n",
    "dd = np.sum(shared_df.seqname.isin(['chrX', 'chrY'])) / shared_df.shape[0] * 100\n",
    "print(\"%0.2f%% of shared DEG are allosomal!\" % dd)"
   ]
  },
  {
   "cell_type": "markdown",
   "metadata": {},
   "source": [
    "## Comparison with CommonMind"
   ]
  },
  {
   "cell_type": "markdown",
   "metadata": {},
   "source": [
    "### NIMH HBCC"
   ]
  },
  {
   "cell_type": "code",
   "execution_count": 38,
   "metadata": {
    "execution": {
     "iopub.execute_input": "2021-07-13T14:42:34.387097Z",
     "iopub.status.busy": "2021-07-13T14:42:34.385874Z",
     "iopub.status.idle": "2021-07-13T14:42:34.460482Z",
     "shell.execute_reply": "2021-07-13T14:42:34.459245Z"
    }
   },
   "outputs": [
    {
     "data": {
      "text/plain": [
       "Dir\n",
       "-1.0    10712\n",
       " 1.0     8399\n",
       "dtype: int64"
      ]
     },
     "execution_count": 1,
     "metadata": {},
     "output_type": "execute_result"
    }
   ],
   "source": [
    "cmc_hbcc = get_deg(config['cmc_hbcc'])\n",
    "cmc_hbcc.groupby('Dir').size()"
   ]
  },
  {
   "cell_type": "code",
   "execution_count": 39,
   "metadata": {
    "execution": {
     "iopub.execute_input": "2021-07-13T14:42:34.467698Z",
     "iopub.status.busy": "2021-07-13T14:42:34.466462Z",
     "iopub.status.idle": "2021-07-13T14:42:34.470661Z",
     "shell.execute_reply": "2021-07-13T14:42:34.471699Z"
    }
   },
   "outputs": [
    {
     "data": {
      "text/plain": [
       "(148, 6)"
      ]
     },
     "execution_count": 1,
     "metadata": {},
     "output_type": "execute_result"
    }
   ],
   "source": [
    "cmc_hbcc[(cmc_hbcc['adj.P.Val'] < 0.05)].shape"
   ]
  },
  {
   "cell_type": "markdown",
   "metadata": {},
   "source": [
    "### Upset Plot"
   ]
  },
  {
   "cell_type": "code",
   "execution_count": 40,
   "metadata": {
    "execution": {
     "iopub.execute_input": "2021-07-13T14:42:34.480227Z",
     "iopub.status.busy": "2021-07-13T14:42:34.476921Z",
     "iopub.status.idle": "2021-07-13T14:42:34.485568Z",
     "shell.execute_reply": "2021-07-13T14:42:34.484299Z"
    }
   },
   "outputs": [],
   "source": [
    "## MSSM Penn Pitt\n",
    "cmc = cmc_hbcc[(cmc_hbcc['adj.P.Val'] < 0.05)].copy()\n",
    "cmc['CMC DLPFC: HBCC'] = 1\n",
    "cmc = cmc[['ensemblID', 'CMC DLPFC: HBCC']].groupby('ensemblID').first().reset_index()"
   ]
  },
  {
   "cell_type": "code",
   "execution_count": 41,
   "metadata": {
    "execution": {
     "iopub.execute_input": "2021-07-13T14:42:34.496511Z",
     "iopub.status.busy": "2021-07-13T14:42:34.489324Z",
     "iopub.status.idle": "2021-07-13T14:42:35.214212Z",
     "shell.execute_reply": "2021-07-13T14:42:35.212946Z"
    }
   },
   "outputs": [
    {
     "name": "stdout",
     "output_type": "stream",
     "text": [
      "(910, 2) (910, 2) (910, 2) (910, 2)\n"
     ]
    }
   ],
   "source": [
    "geneList = pd.merge(phase3_caudate[['ensemblID']], phase2_dlpfc[['ensemblID']], \n",
    "                    on=['ensemblID'], how='outer')\\\n",
    "             .merge(phase2_hippo[['ensemblID']], on=['ensemblID'], how='outer')\\\n",
    "             .merge(cmc[['ensemblID']], on=['ensemblID'], how='outer')\\\n",
    "             .groupby(['ensemblID']).first().reset_index()\n",
    "\n",
    "newC = pd.merge(geneList, phase3_caudate, on=['ensemblID'], how='outer').fillna(0)\n",
    "newC['Caudate'] = newC['Caudate'].astype('int')\n",
    "\n",
    "newD1 = pd.merge(geneList, phase2_dlpfc, on=['ensemblID'], how='outer').fillna(0)\n",
    "newD1['DLPFC'] = newD1['DLPFC'].astype('int')\n",
    "\n",
    "newH = pd.merge(geneList, phase2_hippo, on=['ensemblID'], how='outer').fillna(0)\n",
    "newH['Hippocampus'] = newH['Hippocampus'].astype('int')\n",
    "\n",
    "newCMC = pd.merge(geneList, cmc, on=['ensemblID'], how='outer').fillna(0)\n",
    "newCMC['CMC DLPFC: HBCC'] = newCMC['CMC DLPFC: HBCC'].astype('int')\n",
    "\n",
    "print(newC.shape, newH.shape, newD1.shape, newCMC.shape)"
   ]
  },
  {
   "cell_type": "code",
   "execution_count": 42,
   "metadata": {
    "execution": {
     "iopub.execute_input": "2021-07-13T14:42:35.227572Z",
     "iopub.status.busy": "2021-07-13T14:42:35.226341Z",
     "iopub.status.idle": "2021-07-13T14:42:35.230645Z",
     "shell.execute_reply": "2021-07-13T14:42:35.231694Z"
    }
   },
   "outputs": [
    {
     "data": {
      "text/html": [
       "<div>\n",
       "<style scoped>\n",
       "    .dataframe tbody tr th:only-of-type {\n",
       "        vertical-align: middle;\n",
       "    }\n",
       "\n",
       "    .dataframe tbody tr th {\n",
       "        vertical-align: top;\n",
       "    }\n",
       "\n",
       "    .dataframe thead th {\n",
       "        text-align: right;\n",
       "    }\n",
       "</style>\n",
       "<table border=\"1\" class=\"dataframe\">\n",
       "  <thead>\n",
       "    <tr style=\"text-align: right;\">\n",
       "      <th></th>\n",
       "      <th>Caudate</th>\n",
       "      <th>DLPFC</th>\n",
       "      <th>Hippocampus</th>\n",
       "      <th>CMC DLPFC: HBCC</th>\n",
       "    </tr>\n",
       "    <tr>\n",
       "      <th>ensemblID</th>\n",
       "      <th></th>\n",
       "      <th></th>\n",
       "      <th></th>\n",
       "      <th></th>\n",
       "    </tr>\n",
       "  </thead>\n",
       "  <tbody>\n",
       "    <tr>\n",
       "      <th>ENSG00000002586</th>\n",
       "      <td>1</td>\n",
       "      <td>1</td>\n",
       "      <td>1</td>\n",
       "      <td>0</td>\n",
       "    </tr>\n",
       "    <tr>\n",
       "      <th>ENSG00000003137</th>\n",
       "      <td>1</td>\n",
       "      <td>0</td>\n",
       "      <td>0</td>\n",
       "      <td>0</td>\n",
       "    </tr>\n",
       "  </tbody>\n",
       "</table>\n",
       "</div>"
      ],
      "text/plain": [
       "                 Caudate  DLPFC  Hippocampus  CMC DLPFC: HBCC\n",
       "ensemblID                                                    \n",
       "ENSG00000002586        1      1            1                0\n",
       "ENSG00000003137        1      0            0                0"
      ]
     },
     "execution_count": 1,
     "metadata": {},
     "output_type": "execute_result"
    }
   ],
   "source": [
    "df = pd.concat([newC.set_index(['ensemblID']), newD1.set_index(['ensemblID']), \n",
    "                newH.set_index(['ensemblID']), newCMC.set_index(['ensemblID'])], \n",
    "               axis=1, join='outer')\n",
    "df.head(2)"
   ]
  },
  {
   "cell_type": "code",
   "execution_count": 43,
   "metadata": {
    "execution": {
     "iopub.execute_input": "2021-07-13T14:42:35.237562Z",
     "iopub.status.busy": "2021-07-13T14:42:35.236321Z",
     "iopub.status.idle": "2021-07-13T14:42:35.242792Z",
     "shell.execute_reply": "2021-07-13T14:42:35.241628Z"
    }
   },
   "outputs": [],
   "source": [
    "df.to_csv('cmc_hbcc_all_deg_across_tissues.csv')"
   ]
  },
  {
   "cell_type": "code",
   "execution_count": 44,
   "metadata": {
    "execution": {
     "iopub.execute_input": "2021-07-13T14:42:35.248856Z",
     "iopub.status.busy": "2021-07-13T14:42:35.247589Z",
     "iopub.status.idle": "2021-07-13T14:42:35.254763Z",
     "shell.execute_reply": "2021-07-13T14:42:35.253574Z"
    }
   },
   "outputs": [],
   "source": [
    "%%R\n",
    "library(tidyverse)\n",
    "subset_pvalue <- function(fn, fdr_cutoff){\n",
    "    df <- data.table::fread(fn) %>% filter(adj.P.Val < fdr_cutoff) \n",
    "    if('gene_id' %in% colnames(df)){\n",
    "        df$ensemblID <- gsub('\\\\..*', '', df$gene_id)\n",
    "    } else if('ensembl_gene_id' %in% colnames(df)){\n",
    "        df <- dplyr::rename(df, ensemblID=ensembl_gene_id)\n",
    "    } else if(\"Geneid\" %in% colnames(df)){\n",
    "        df$ensemblID <- gsub(\"\\\\..*\", \"\", df$Geneid)\n",
    "    }\n",
    "    return(df$ensemblID)\n",
    "}"
   ]
  },
  {
   "cell_type": "code",
   "execution_count": 45,
   "metadata": {
    "execution": {
     "iopub.execute_input": "2021-07-13T14:42:35.260637Z",
     "iopub.status.busy": "2021-07-13T14:42:35.259402Z",
     "iopub.status.idle": "2021-07-13T14:42:35.303118Z",
     "shell.execute_reply": "2021-07-13T14:42:35.302064Z"
    }
   },
   "outputs": [],
   "source": [
    "%%R \n",
    "#upset(df, order.by=\"freq\", text.scale=c(3, 2.5, 2.4, 2.25, 2.6, 2.6), point.size=3.6, line.size=1.4)\n",
    "cmc = subset_pvalue('../../../cmc_dlpfc/_m/nimh_hbcc_maleVfemale.tsv', 0.05)\n",
    "\n",
    "lt = list(Caudate = caudate,\n",
    "          DLPFC = dlpfc,\n",
    "          Hippocampus = hippo, \n",
    "          'CMC DLPFC: HBCC' = cmc)\n",
    "\n",
    "m = make_comb_mat(lt)"
   ]
  },
  {
   "cell_type": "code",
   "execution_count": 46,
   "metadata": {
    "execution": {
     "iopub.execute_input": "2021-07-13T14:42:35.309398Z",
     "iopub.status.busy": "2021-07-13T14:42:35.308124Z",
     "iopub.status.idle": "2021-07-13T14:42:35.472032Z",
     "shell.execute_reply": "2021-07-13T14:42:35.470793Z"
    }
   },
   "outputs": [
    {
     "name": "stdout",
     "output_type": "stream",
     "text": [
      "png \n",
      "  2 \n"
     ]
    }
   ],
   "source": [
    "%%R\n",
    "right_annot = upset_right_annotation(\n",
    "    m, ylim = c(0, 550),\n",
    "    gp = gpar(fill = \"black\"),\n",
    "    annotation_name_side = \"bottom\",\n",
    "    axis_param = list(side = \"bottom\"))\n",
    "\n",
    "top_annot = upset_top_annotation(\n",
    "    m, height=unit(7, \"cm\"), \n",
    "    ylim = c(0, 500),\n",
    "    gp=gpar(fill=cbb_palette[comb_degree(m)]),\n",
    "    annotation_name_rot = 90)\n",
    "\n",
    "pdf('cmc_hbcc_sex_tissue_upsetR_DEgenes.pdf', width=8, height=5)\n",
    "ht = draw(UpSet(m, pt_size=unit(6, \"mm\"), lwd=3, \n",
    "                comb_col=cbb_palette[comb_degree(m)], \n",
    "                set_order = c(\"Caudate\", \"DLPFC\", \"Hippocampus\", \"CMC DLPFC: HBCC\"), \n",
    "                comb_order = order(-comb_size(m)), \n",
    "                row_names_gp = gpar(fontsize = 16, fontface='bold'),\n",
    "                right_annotation = right_annot, \n",
    "                top_annotation = top_annot))\n",
    "od = column_order(ht)\n",
    "cs = comb_size(m)\n",
    "decorate_annotation(\"intersection_size\", {\n",
    "    grid.text(cs[od], x = seq_along(cs), y = unit(cs[od], \"native\") + \n",
    "              unit(6, \"pt\"), \n",
    "        default.units = \"native\", just = \"bottom\", gp = gpar(fontsize = 11))\n",
    "})\n",
    "dev.off()\n",
    "\n",
    "svg('cmc_hbcc_sex_tissue_upsetR_DEgenes.svg', width=8, height=5)\n",
    "ht = draw(UpSet(m, pt_size=unit(6, \"mm\"), lwd=3, \n",
    "                comb_col=cbb_palette[comb_degree(m)], \n",
    "                set_order = c(\"Caudate\", \"DLPFC\", \"Hippocampus\", \"CMC DLPFC: HBCC\"), \n",
    "                comb_order = order(-comb_size(m)), \n",
    "                row_names_gp = gpar(fontsize = 16, fontface='bold'),\n",
    "                right_annotation = right_annot, \n",
    "                top_annotation = top_annot))\n",
    "od = column_order(ht)\n",
    "cs = comb_size(m)\n",
    "decorate_annotation(\"intersection_size\", {\n",
    "    grid.text(cs[od], x = seq_along(cs), y = unit(cs[od], \"native\") + \n",
    "              unit(6, \"pt\"), \n",
    "        default.units = \"native\", just = \"bottom\", gp = gpar(fontsize = 11))\n",
    "})\n",
    "dev.off()"
   ]
  },
  {
   "cell_type": "code",
   "execution_count": 47,
   "metadata": {
    "execution": {
     "iopub.execute_input": "2021-07-13T14:42:35.478495Z",
     "iopub.status.busy": "2021-07-13T14:42:35.477175Z",
     "iopub.status.idle": "2021-07-13T14:42:35.631656Z",
     "shell.execute_reply": "2021-07-13T14:42:35.630541Z"
    }
   },
   "outputs": [
    {
     "name": "stdout",
     "output_type": "stream",
     "text": [
      "png \n",
      "  2 \n"
     ]
    }
   ],
   "source": [
    "%%R\n",
    "right_ha = rowAnnotation(\n",
    "    \"Intersection\\nsize\" = anno_barplot(comb_size(m), border=F,\n",
    "                                        ylim = c(0, 500), \n",
    "                                        gp=gpar(fill=cbb_palette[comb_degree(m)]),\n",
    "                                        width = unit(7, \"cm\")))\n",
    "top_ha = HeatmapAnnotation(\n",
    "    \"Set size\" = anno_barplot(set_size(m), border=F,\n",
    "                              ylim = c(0, 550),\n",
    "                              gp = gpar(fill = \"black\"), \n",
    "                              height = unit(2, \"cm\")), \n",
    "    gap = unit(2, \"mm\"), annotation_name_side = \"left\", \n",
    "    annotation_name_rot = 90)\n",
    "\n",
    "pdf(\"cmc_hbcc_sex_tissue_upsetR_DEgenes_transpose.pdf\", width=5, height=10)\n",
    "ht = draw(UpSet(t(m), pt_size=unit(5, \"mm\"), lwd=3,\n",
    "                comb_order = order(-comb_size(m)),\n",
    "                comb_col=cbb_palette[comb_degree(m)], \n",
    "                set_order = c(\"Caudate\", \"DLPFC\", \"Hippocampus\", \"CMC DLPFC: HBCC\"), \n",
    "                column_names_gp = gpar(fontsize = 16, fontface='bold'),\n",
    "                right_annotation = right_ha, top_annotation=top_ha))\n",
    "\n",
    "od = rev(row_order(ht))\n",
    "cs = comb_size(m)\n",
    "decorate_annotation(\"Intersection\\nsize\", {\n",
    "    grid.text(cs[od], y = seq_along(cs), x = unit(cs[od], \"native\") + \n",
    "              unit(6, \"pt\"), \n",
    "        default.units = \"native\", just = \"left\", gp = gpar(fontsize = 11))\n",
    "})\n",
    "dev.off()\n",
    "\n",
    "svg(\"cmc_hbcc_sex_tissue_upsetR_DEgenes_transpose.svg\", width=5, height=10)\n",
    "ht = draw(UpSet(t(m), pt_size=unit(5, \"mm\"), lwd=3,\n",
    "                comb_order = order(-comb_size(m)),\n",
    "                comb_col=cbb_palette[comb_degree(m)], \n",
    "                set_order = c(\"Caudate\", \"DLPFC\", \"Hippocampus\", \"CMC DLPFC: HBCC\"), \n",
    "                column_names_gp = gpar(fontsize = 16, fontface='bold'),\n",
    "                right_annotation = right_ha, top_annotation=top_ha))\n",
    "\n",
    "od = rev(row_order(ht))\n",
    "cs = comb_size(m)\n",
    "decorate_annotation(\"Intersection\\nsize\", {\n",
    "    grid.text(cs[od], y = seq_along(cs), x = unit(cs[od], \"native\") + \n",
    "              unit(6, \"pt\"), \n",
    "        default.units = \"native\", just = \"left\", gp = gpar(fontsize = 11))\n",
    "})\n",
    "dev.off()"
   ]
  },
  {
   "cell_type": "code",
   "execution_count": 48,
   "metadata": {
    "execution": {
     "iopub.execute_input": "2021-07-13T14:42:35.637546Z",
     "iopub.status.busy": "2021-07-13T14:42:35.636303Z",
     "iopub.status.idle": "2021-07-13T14:42:35.720460Z",
     "shell.execute_reply": "2021-07-13T14:42:35.719345Z"
    }
   },
   "outputs": [
    {
     "data": {
      "text/html": [
       "<div>\n",
       "<style scoped>\n",
       "    .dataframe tbody tr th:only-of-type {\n",
       "        vertical-align: middle;\n",
       "    }\n",
       "\n",
       "    .dataframe tbody tr th {\n",
       "        vertical-align: top;\n",
       "    }\n",
       "\n",
       "    .dataframe thead th {\n",
       "        text-align: right;\n",
       "    }\n",
       "</style>\n",
       "<table border=\"1\" class=\"dataframe\">\n",
       "  <thead>\n",
       "    <tr style=\"text-align: right;\">\n",
       "      <th></th>\n",
       "      <th>logFC</th>\n",
       "      <th>AveExpr</th>\n",
       "      <th>t</th>\n",
       "      <th>P.Value</th>\n",
       "      <th>adj.P.Val</th>\n",
       "      <th>B</th>\n",
       "      <th>Coef</th>\n",
       "      <th>Symbol</th>\n",
       "      <th>Entrez</th>\n",
       "      <th>Chrom</th>\n",
       "      <th>Feature</th>\n",
       "      <th>Dir</th>\n",
       "      <th>ensemblID</th>\n",
       "    </tr>\n",
       "    <tr>\n",
       "      <th>Geneid</th>\n",
       "      <th></th>\n",
       "      <th></th>\n",
       "      <th></th>\n",
       "      <th></th>\n",
       "      <th></th>\n",
       "      <th></th>\n",
       "      <th></th>\n",
       "      <th></th>\n",
       "      <th></th>\n",
       "      <th></th>\n",
       "      <th></th>\n",
       "      <th></th>\n",
       "      <th></th>\n",
       "    </tr>\n",
       "  </thead>\n",
       "  <tbody>\n",
       "    <tr>\n",
       "      <th>ENSG00000229807.11</th>\n",
       "      <td>-11.504527</td>\n",
       "      <td>1.451875</td>\n",
       "      <td>-158.907479</td>\n",
       "      <td>9.677013e-244</td>\n",
       "      <td>1.849374e-239</td>\n",
       "      <td>541.117577</td>\n",
       "      <td>Reported_GenderMale</td>\n",
       "      <td>XIST</td>\n",
       "      <td>NaN</td>\n",
       "      <td>X</td>\n",
       "      <td>ENSG00000229807.11</td>\n",
       "      <td>-1.0</td>\n",
       "      <td>ENSG00000229807</td>\n",
       "    </tr>\n",
       "    <tr>\n",
       "      <th>ENSG00000241859.7</th>\n",
       "      <td>8.165803</td>\n",
       "      <td>0.195418</td>\n",
       "      <td>98.530405</td>\n",
       "      <td>4.690014e-195</td>\n",
       "      <td>4.481543e-191</td>\n",
       "      <td>425.604156</td>\n",
       "      <td>Reported_GenderMale</td>\n",
       "      <td>ANOS2P</td>\n",
       "      <td>NaN</td>\n",
       "      <td>Y</td>\n",
       "      <td>ENSG00000241859.7</td>\n",
       "      <td>1.0</td>\n",
       "      <td>ENSG00000241859</td>\n",
       "    </tr>\n",
       "  </tbody>\n",
       "</table>\n",
       "</div>"
      ],
      "text/plain": [
       "                        logFC   AveExpr           t        P.Value  \\\n",
       "Geneid                                                               \n",
       "ENSG00000229807.11 -11.504527  1.451875 -158.907479  9.677013e-244   \n",
       "ENSG00000241859.7    8.165803  0.195418   98.530405  4.690014e-195   \n",
       "\n",
       "                        adj.P.Val           B                 Coef  Symbol  \\\n",
       "Geneid                                                                       \n",
       "ENSG00000229807.11  1.849374e-239  541.117577  Reported_GenderMale    XIST   \n",
       "ENSG00000241859.7   4.481543e-191  425.604156  Reported_GenderMale  ANOS2P   \n",
       "\n",
       "                    Entrez Chrom             Feature  Dir        ensemblID  \n",
       "Geneid                                                                      \n",
       "ENSG00000229807.11     NaN     X  ENSG00000229807.11 -1.0  ENSG00000229807  \n",
       "ENSG00000241859.7      NaN     Y   ENSG00000241859.7  1.0  ENSG00000241859  "
      ]
     },
     "execution_count": 1,
     "metadata": {},
     "output_type": "execute_result"
    }
   ],
   "source": [
    "dft = pd.read_csv('../../../cmc_dlpfc/_m/nimh_hbcc_maleVfemale.tsv', \n",
    "                  index_col=0, sep='\\t')\n",
    "dft['Feature'] = dft.index\n",
    "dft['Dir'] = np.sign(dft['t'])\n",
    "dft['ensemblID'] = dft.index.str.replace('\\\\..*', '', regex=True)\n",
    "dft = dft[(dft[\"adj.P.Val\"] < 0.05)].copy()\n",
    "dft.head(2)"
   ]
  },
  {
   "cell_type": "code",
   "execution_count": 49,
   "metadata": {
    "execution": {
     "iopub.execute_input": "2021-07-13T14:42:35.733584Z",
     "iopub.status.busy": "2021-07-13T14:42:35.732335Z",
     "iopub.status.idle": "2021-07-13T14:42:35.738844Z",
     "shell.execute_reply": "2021-07-13T14:42:35.737561Z"
    }
   },
   "outputs": [
    {
     "data": {
      "text/plain": [
       "(51, 5)"
      ]
     },
     "execution_count": 1,
     "metadata": {},
     "output_type": "execute_result"
    }
   ],
   "source": [
    "shared_df = dft.rename(columns={'Chrom': 'seqname', \n",
    "                                'Symbol': 'gene_name'})\\\n",
    "               .loc[:, ['Feature', 'ensemblID', 'seqname', 'gene_name', 'Dir']]\\\n",
    "               .merge(pd.DataFrame({'ensemblID': list(set(phase2_dlpfc['ensemblID']) & \n",
    "                                                      set(phase2_hippo['ensemblID']) & \n",
    "                                                      set(phase3_caudate['ensemblID']) & \n",
    "                                                      set(cmc['ensemblID']))}), \n",
    "                      on='ensemblID')\n",
    "shared_df.seqname = 'chr'+shared_df.seqname\n",
    "shared_df.to_csv('cmc_hbcc_shared_degs_annotation.txt', sep='\\t', index=False, header=True)\n",
    "shared_df.shape"
   ]
  },
  {
   "cell_type": "code",
   "execution_count": 50,
   "metadata": {
    "execution": {
     "iopub.execute_input": "2021-07-13T14:42:35.745703Z",
     "iopub.status.busy": "2021-07-13T14:42:35.744446Z",
     "iopub.status.idle": "2021-07-13T14:42:35.748655Z",
     "shell.execute_reply": "2021-07-13T14:42:35.749670Z"
    }
   },
   "outputs": [
    {
     "name": "stdout",
     "output_type": "stream",
     "text": [
      "76.47% of shared DEG are allosomal!\n"
     ]
    }
   ],
   "source": [
    "#### 6 out of 41 are autosomal\n",
    "dd = np.sum(shared_df.seqname.isin(['chrX', 'chrY'])) / shared_df.shape[0] * 100\n",
    "print(\"%0.2f%% of shared DEG are allosomal!\" % dd)"
   ]
  },
  {
   "cell_type": "code",
   "execution_count": null,
   "metadata": {},
   "outputs": [],
   "source": []
  }
 ],
 "metadata": {
  "kernelspec": {
   "display_name": "Python 3",
   "language": "python",
   "name": "python3"
  },
  "language_info": {
   "codemirror_mode": {
    "name": "ipython",
    "version": 3
   },
   "file_extension": ".py",
   "mimetype": "text/x-python",
   "name": "python",
   "nbconvert_exporter": "python",
   "pygments_lexer": "ipython3",
   "version": "3.9.1"
  }
 },
 "nbformat": 4,
 "nbformat_minor": 4
}
