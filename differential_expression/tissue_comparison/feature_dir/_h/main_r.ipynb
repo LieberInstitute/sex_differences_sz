{
 "cells": [
  {
   "cell_type": "markdown",
   "metadata": {},
   "source": [
    "# Generate a prettier plot with statistics on the plot"
   ]
  },
  {
   "cell_type": "code",
   "execution_count": null,
   "metadata": {},
   "outputs": [],
   "source": [
    "library(repr)\n",
    "library(ggpubr)\n",
    "library(tidyverse)"
   ]
  },
  {
   "cell_type": "code",
   "execution_count": null,
   "metadata": {},
   "outputs": [],
   "source": [
    "config <- list('caudate'= '../../../caudate/_m/genes/diffExpr_maleVfemale_full.txt',\n",
    "               'dlpfc'= '../../../dlpfc/_m/genes/diffExpr_maleVfemale_full.txt', \n",
    "               'hippo'= '../../../hippocampus/_m/genes/diffExpr_maleVfemale_full.txt')"
   ]
  },
  {
   "cell_type": "code",
   "execution_count": null,
   "metadata": {},
   "outputs": [],
   "source": [
    "save_ggplots <- function(fn, p, w, h){\n",
    "    for(ext in c('.pdf', '.png', '.svg')){\n",
    "        ggsave(paste0(fn, ext), plot=p, width=w, height=h)\n",
    "    }\n",
    "}\n",
    "\n",
    "get_deg <- function(fn){\n",
    "    dft <- read.delim(fn, row.names=1)\n",
    "    dft['Feature'] = row.names(dft)\n",
    "    dft['Dir'] = sign(dft['t'])\n",
    "    if('gene_id' %in% colnames(dft)){\n",
    "        dft['ensemblID'] <- gsub('\\\\..*', '', dft$gene_id)\n",
    "    }\n",
    "    return(subset(dft, select=c('Feature', 'ensemblID', 'adj.P.Val', 'logFC', 't', 'Dir')))\n",
    "}\n",
    "\n",
    "get_deg_sig <- function(fn, fdr){\n",
    "    dft <- get_deg(fn)\n",
    "    return(subset(dft, adj.P.Val < fdr))\n",
    "}\n",
    "\n",
    "merge_dataframe <- function(tissue1, tissue2){\n",
    "    return(merge(get_deg(config[[tissue1]]), get_deg(config[[tissue2]]), \n",
    "                 by='Feature', suffixes=c(paste0('_',tissue1), paste0('_',tissue2))))\n",
    "}\n",
    "\n",
    "merge_dataframes_sig <- function(tissue1, tissue2){\n",
    "    fdr = 0.05\n",
    "    #fdr2 = ifelse(tissue2 != 'dlpfc', 0.05, 0.01)\n",
    "    return(merge(get_deg_sig(config[[tissue1]], fdr), get_deg_sig(config[[tissue2]], fdr), \n",
    "                 by='Feature', suffixes=c(paste0('_',tissue1), paste0('_',tissue2))))\n",
    "}\n",
    "\n",
    "tissue_annotation <- function(tissue){\n",
    "    return(list('dlpfc'='DLPFC', 'hippo'='Hippocampus', 'caudate'='Caudate')[[tissue]])\n",
    "}\n",
    "\n",
    "get_scatter_plot <- function(tissue1, tissue2, merge_fnc, coords){\n",
    "    dft <- merge_fnc(tissue1, tissue2)\n",
    "    sp = ggscatter(dft, x=paste0('t_', tissue1), y=paste0('t_', tissue2), add=\"reg.line\", \n",
    "                   xlab=paste0('T-statistic (',tissue_annotation(tissue1), ')'),\n",
    "                   ylab=paste0('T-statistic (',tissue_annotation(tissue2), ')'),\n",
    "                   add.params = list(color = \"blue\", fill = \"lightgray\"), conf.int = FALSE, \n",
    "                   cor.method = \"pearson\", cor.coef = FALSE, cor.coef.size = 7, \n",
    "                   cor.coeff.args = list(label.sep = \"\\n\"),  #cor.coef.coord = coords, \n",
    "                   ylim=c(-125, 125)) + \n",
    "    stat_cor(aes(label = paste0(..rr.label..)), size=8,method = \"pearson\") + \n",
    "    font(\"xylab\", size = 20, face='bold') + font(\"xy.text\", size = 18)\n",
    "    return(sp)\n",
    "}"
   ]
  },
  {
   "cell_type": "markdown",
   "metadata": {},
   "source": [
    "## Genes"
   ]
  },
  {
   "cell_type": "code",
   "execution_count": null,
   "metadata": {},
   "outputs": [],
   "source": [
    "options(repr.plot.width=18, repr.plot.height=6)"
   ]
  },
  {
   "cell_type": "code",
   "execution_count": null,
   "metadata": {},
   "outputs": [],
   "source": [
    "sp1_sig = get_scatter_plot('caudate', 'dlpfc', merge_dataframes_sig, c(-110, 85))\n",
    "sp2_sig = get_scatter_plot('caudate', 'hippo', merge_dataframes_sig, c(-110, 85))\n",
    "sp3_sig = get_scatter_plot('dlpfc', 'hippo', merge_dataframes_sig, c(-110, 85))\n",
    "fig1 = ggarrange(sp1_sig, sp2_sig, sp3_sig, ncol=3, align='v')\n",
    "fig1 = annotate_figure(fig1, bottom=text_grob(\"Genes\", face = \"bold.italic\", size = 28))\n",
    "print(fig1)"
   ]
  },
  {
   "cell_type": "code",
   "execution_count": null,
   "metadata": {},
   "outputs": [],
   "source": [
    "sp1 = get_scatter_plot('caudate', 'dlpfc', merge_dataframe, c(-110, 85))\n",
    "sp2 = get_scatter_plot('caudate', 'hippo', merge_dataframe, c(-110, 85))\n",
    "sp3 = get_scatter_plot('dlpfc', 'hippo', merge_dataframe, c(-110, 85))\n",
    "fig2 = ggarrange(sp1, sp2, sp3, ncol=3, align='v')\n",
    "fig2 = annotate_figure(fig2, bottom=text_grob(\"Genes\", face = \"bold.italic\", size = 28))\n",
    "print(fig2)"
   ]
  },
  {
   "cell_type": "code",
   "execution_count": null,
   "metadata": {},
   "outputs": [],
   "source": [
    "save_ggplots(\"genes_tstatistic_corr_sig\", fig1, 18, 6)\n",
    "save_ggplots(\"genes_tstatistic_corr\", fig2, 18, 6)"
   ]
  },
  {
   "cell_type": "markdown",
   "metadata": {},
   "source": [
    "## Transcripts"
   ]
  },
  {
   "cell_type": "code",
   "execution_count": null,
   "metadata": {},
   "outputs": [],
   "source": [
    "config <- list('caudate'= '../../../caudate/_m/transcripts/diffExpr_maleVfemale_full.txt',\n",
    "               'dlpfc'= '../../../dlpfc/_m/transcripts/diffExpr_maleVfemale_full.txt', \n",
    "               'hippo'= '../../../hippocampus/_m/transcripts/diffExpr_maleVfemale_full.txt')"
   ]
  },
  {
   "cell_type": "code",
   "execution_count": null,
   "metadata": {},
   "outputs": [],
   "source": [
    "sp1_sig = get_scatter_plot('caudate', 'dlpfc', merge_dataframes_sig, c(-110, 85))\n",
    "sp2_sig = get_scatter_plot('caudate', 'hippo', merge_dataframes_sig, c(-110, 85))\n",
    "sp3_sig = get_scatter_plot('dlpfc', 'hippo', merge_dataframes_sig, c(-110, 85))"
   ]
  },
  {
   "cell_type": "code",
   "execution_count": null,
   "metadata": {},
   "outputs": [],
   "source": [
    "fig3 = ggarrange(sp1_sig, sp2_sig, sp3_sig, ncol=3, align='v')\n",
    "fig3 = annotate_figure(fig3, bottom=text_grob(\"Transcripts\", face = \"bold.italic\", size = 28))\n",
    "print(fig3)"
   ]
  },
  {
   "cell_type": "code",
   "execution_count": null,
   "metadata": {},
   "outputs": [],
   "source": [
    "sp1 = get_scatter_plot('caudate', 'dlpfc', merge_dataframe, c(-110, 85))\n",
    "sp2 = get_scatter_plot('caudate', 'hippo', merge_dataframe, c(-110, 85))\n",
    "sp3 = get_scatter_plot('dlpfc', 'hippo', merge_dataframe, c(-110, 85))\n",
    "fig4 = ggarrange(sp1, sp2, sp3, ncol=3, align='v')\n",
    "fig4 = annotate_figure(fig4, bottom=text_grob(\"Transcripts\", face = \"bold.italic\", size = 28))\n",
    "print(fig4)"
   ]
  },
  {
   "cell_type": "code",
   "execution_count": null,
   "metadata": {},
   "outputs": [],
   "source": [
    "save_ggplots(\"tx_tstatistic_corr_sig\", fig1, 18, 6)\n",
    "save_ggplots(\"tx_tstatistic_corr\", fig2, 18, 6)"
   ]
  },
  {
   "cell_type": "markdown",
   "metadata": {},
   "source": [
    "## Junctions"
   ]
  },
  {
   "cell_type": "code",
   "execution_count": null,
   "metadata": {},
   "outputs": [],
   "source": [
    "config <- list('caudate'= '../../../caudate/_m/junctions/diffExpr_maleVfemale_full.txt',\n",
    "               'dlpfc'= '../../../dlpfc/_m/junctions/diffExpr_maleVfemale_full.txt', \n",
    "               'hippo'= '../../../hippocampus/_m/junctions/diffExpr_maleVfemale_full.txt')"
   ]
  },
  {
   "cell_type": "code",
   "execution_count": null,
   "metadata": {},
   "outputs": [],
   "source": [
    "sp1_sig = get_scatter_plot('caudate', 'dlpfc', merge_dataframes_sig, c(-110, 85))\n",
    "sp2_sig = get_scatter_plot('caudate', 'hippo', merge_dataframes_sig, c(-110, 85))\n",
    "sp3_sig = get_scatter_plot('dlpfc', 'hippo', merge_dataframes_sig, c(-110, 85))\n",
    "fig5 = ggarrange(sp1_sig, sp2_sig, sp3_sig, ncol=3, align='v')\n",
    "fig5 = annotate_figure(fig5, bottom=text_grob(\"Junctions\", face = \"bold.italic\", size = 28))\n",
    "print(fig5)"
   ]
  },
  {
   "cell_type": "code",
   "execution_count": null,
   "metadata": {},
   "outputs": [],
   "source": [
    "sp1 = get_scatter_plot('caudate', 'dlpfc', merge_dataframe, c(-110, 85))\n",
    "sp2 = get_scatter_plot('caudate', 'hippo', merge_dataframe, c(-110, 85))\n",
    "sp3 = get_scatter_plot('dlpfc', 'hippo', merge_dataframe, c(-110, 85))\n",
    "fig6 = ggarrange(sp1, sp2, sp3, ncol=3, align='v')\n",
    "fig6 = annotate_figure(fig6, bottom=text_grob(\"Junctions\", face = \"bold.italic\", size = 28))\n",
    "print(fig6)"
   ]
  },
  {
   "cell_type": "code",
   "execution_count": null,
   "metadata": {},
   "outputs": [],
   "source": [
    "save_ggplots(\"jxn_tstatistic_corr_sig\", fig3, 18, 6)\n",
    "save_ggplots(\"jxn_tstatistic_corr\", fig4, 18, 6)"
   ]
  },
  {
   "cell_type": "markdown",
   "metadata": {},
   "source": [
    "## Exons"
   ]
  },
  {
   "cell_type": "code",
   "execution_count": null,
   "metadata": {},
   "outputs": [],
   "source": [
    "config <- list('caudate'= '../../../caudate/_m/exons/diffExpr_maleVfemale_full.txt',\n",
    "               'dlpfc'= '../../../dlpfc/_m/exons/diffExpr_maleVfemale_full.txt', \n",
    "               'hippo'= '../../../hippocampus/_m/exons/diffExpr_maleVfemale_full.txt')"
   ]
  },
  {
   "cell_type": "code",
   "execution_count": null,
   "metadata": {},
   "outputs": [],
   "source": [
    "sp1_sig = get_scatter_plot('caudate', 'dlpfc', merge_dataframes_sig, c(-110, 85))\n",
    "sp2_sig = get_scatter_plot('caudate', 'hippo', merge_dataframes_sig, c(-110, 85))\n",
    "sp3_sig = get_scatter_plot('dlpfc', 'hippo', merge_dataframes_sig, c(-110, 85))\n",
    "fig7 = ggarrange(sp1_sig, sp2_sig, sp3_sig, ncol=3, align='v')\n",
    "fig7 = annotate_figure(fig7, bottom=text_grob(\"Exons\", face = \"bold.italic\", size = 28))\n",
    "print(fig7)"
   ]
  },
  {
   "cell_type": "code",
   "execution_count": null,
   "metadata": {},
   "outputs": [],
   "source": [
    "sp1 = get_scatter_plot('caudate', 'dlpfc', merge_dataframe, c(-110, 85))\n",
    "sp2 = get_scatter_plot('caudate', 'hippo', merge_dataframe, c(-110, 85))\n",
    "sp3 = get_scatter_plot('dlpfc', 'hippo', merge_dataframe, c(-110, 85))\n",
    "fig8 = ggarrange(sp1, sp2, sp3, ncol=3, align='v')\n",
    "fig8 = annotate_figure(fig8, bottom=text_grob(\"Exons\", face = \"bold.italic\", size = 28))\n",
    "print(fig8)"
   ]
  },
  {
   "cell_type": "code",
   "execution_count": null,
   "metadata": {},
   "outputs": [],
   "source": [
    "save_ggplots(\"exon_tstatistic_corr_sig\", fig5, 18, 6)\n",
    "save_ggplots(\"exon_tstatistic_corr\", fig6, 18, 6)"
   ]
  },
  {
   "cell_type": "markdown",
   "metadata": {},
   "source": [
    "## Arrange plots"
   ]
  },
  {
   "cell_type": "code",
   "execution_count": null,
   "metadata": {},
   "outputs": [],
   "source": [
    "options(repr.plot.width=18, repr.plot.height=24)\n",
    "figure_sig = ggarrange(fig1,fig3,fig7,fig5,ncol=1,align='h', labels='AUTO', \n",
    "                       font.label=list(size=36,face='bold'))\n",
    "figure_sig"
   ]
  },
  {
   "cell_type": "code",
   "execution_count": null,
   "metadata": {},
   "outputs": [],
   "source": [
    "figure_all = ggarrange(fig2,fig4,fig8,fig6,ncol=1,align='h', labels='AUTO', \n",
    "                       font.label=list(size=36,face='bold'))\n",
    "figure_all"
   ]
  },
  {
   "cell_type": "code",
   "execution_count": null,
   "metadata": {},
   "outputs": [],
   "source": [
    "save_ggplots(\"feature_tstatistic_corr_sig\", figure_sig, 18, 24)\n",
    "save_ggplots(\"feature_tstatistic_corr\", figure_all, 18, 24)"
   ]
  },
  {
   "cell_type": "markdown",
   "metadata": {},
   "source": [
    "## Reproducibility Information"
   ]
  },
  {
   "cell_type": "code",
   "execution_count": null,
   "metadata": {},
   "outputs": [],
   "source": [
    "print(\"Reproducibility Information:\")\n",
    "Sys.time()\n",
    "proc.time()\n",
    "options(width=120)\n",
    "sessioninfo::session_info()"
   ]
  }
 ],
 "metadata": {
  "kernelspec": {
   "display_name": "R",
   "language": "R",
   "name": "ir"
  },
  "language_info": {
   "codemirror_mode": "r",
   "file_extension": ".r",
   "mimetype": "text/x-r-source",
   "name": "R",
   "pygments_lexer": "r",
   "version": "4.0.3"
  }
 },
 "nbformat": 4,
 "nbformat_minor": 4
}
