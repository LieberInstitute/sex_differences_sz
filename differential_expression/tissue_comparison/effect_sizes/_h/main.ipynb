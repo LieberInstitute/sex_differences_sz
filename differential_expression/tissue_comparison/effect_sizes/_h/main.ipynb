{
 "cells": [
  {
   "cell_type": "markdown",
   "metadata": {},
   "source": [
    "# Tissue comparison for differential expression analysis"
   ]
  },
  {
   "cell_type": "code",
   "execution_count": null,
   "metadata": {},
   "outputs": [],
   "source": [
    "import functools\n",
    "import numpy as np\n",
    "import pandas as pd\n",
    "from plotnine import *\n",
    "from scipy.stats import binom_test, fisher_exact, linregress\n",
    "\n",
    "from warnings import filterwarnings\n",
    "from matplotlib.cbook import mplDeprecation\n",
    "filterwarnings('ignore', category=mplDeprecation)\n",
    "filterwarnings('ignore', category=UserWarning, module='plotnine.*')\n",
    "filterwarnings('ignore', category=DeprecationWarning, module='plotnine.*')"
   ]
  },
  {
   "cell_type": "code",
   "execution_count": null,
   "metadata": {},
   "outputs": [],
   "source": [
    "config = {\n",
    "    'caudate': '../../../caudate/_m/genes/diffExpr_maleVfemale_full.txt',\n",
    "    'dlpfc': '../../../dlpfc/_m/genes/diffExpr_maleVfemale_full.txt',\n",
    "    'hippo': '../../../hippocampus/_m/genes/diffExpr_maleVfemale_full.txt',\n",
    "    'cmc_dlpfc': '../../../cmc_dlpfc/_m/mssm_penn_pitt_maleVfemale.tsv',\n",
    "    'cmc_hbcc': \"../../../cmc_dlpfc/_m/nimh_hbcc_maleVfemale.tsv\",\n",
    "}"
   ]
  },
  {
   "cell_type": "code",
   "execution_count": null,
   "metadata": {},
   "outputs": [],
   "source": [
    "@functools.lru_cache()\n",
    "def get_deg(filename):\n",
    "    dft = pd.read_csv(filename, sep='\\t', index_col=0)\n",
    "    dft['Feature'] = dft.index\n",
    "    dft['Dir'] = np.sign(dft['t'])\n",
    "    dft['ensemblID'] = dft.Feature.str.replace('\\\\..*', '', regex=True)\n",
    "    return dft[['Feature', 'ensemblID', 'adj.P.Val', 'logFC', 't', 'Dir']]\n",
    "\n",
    "\n",
    "@functools.lru_cache()\n",
    "def get_deg_sig(filename, fdr):\n",
    "    dft = get_deg(filename)\n",
    "    return dft[(dft['adj.P.Val'] < fdr)]\n",
    "\n",
    "\n",
    "@functools.lru_cache()\n",
    "def merge_dataframes(tissue1, tissue2):\n",
    "    return get_deg(config[tissue1]).merge(get_deg(config[tissue2]), \n",
    "                                          on='Feature', \n",
    "                                          suffixes=['_%s' % tissue1, '_%s' % tissue2])\n",
    "\n",
    "\n",
    "@functools.lru_cache()\n",
    "def merge_dataframes_sig(tissue1, tissue2):\n",
    "    fdr = 0.05 \n",
    "    return get_deg_sig(config[tissue1], fdr).merge(get_deg_sig(config[tissue2], fdr), \n",
    "                                                   on='Feature', \n",
    "                                                   suffixes=['_%s' % tissue1, '_%s' % tissue2])"
   ]
  },
  {
   "cell_type": "code",
   "execution_count": null,
   "metadata": {},
   "outputs": [],
   "source": [
    "def enrichment_binom(tissue1, tissue2, merge_fnc):\n",
    "    df = merge_fnc(tissue1, tissue2)\n",
    "    df['agree'] = df['Dir_%s' % tissue1] * df['Dir_%s' % tissue2]\n",
    "    dft = df.groupby('agree').size().reset_index()\n",
    "    print(dft)\n",
    "    return binom_test(dft[0].iloc[1], dft[0].sum()) if dft.shape[0] != 1 else print(\"All directions agree!\")\n",
    "\n",
    "\n",
    "def cal_fishers(tissue1, tissue2):\n",
    "    df = merge_dataframes(tissue1, tissue2)\n",
    "    fdr = 0.05\n",
    "    table = [[np.sum((df['adj.P.Val_%s' % tissue1]<fdr) & \n",
    "                     ((df['adj.P.Val_%s' % tissue2]<fdr))),\n",
    "              np.sum((df['adj.P.Val_%s' % tissue1]<fdr) & \n",
    "                     ((df['adj.P.Val_%s' % tissue2]>=fdr)))],\n",
    "             [np.sum((df['adj.P.Val_%s' % tissue1]>=fdr) & \n",
    "                     ((df['adj.P.Val_%s' % tissue2]<fdr))),\n",
    "              np.sum((df['adj.P.Val_%s' % tissue1]>=fdr) & \n",
    "                     ((df['adj.P.Val_%s' % tissue2]>=fdr)))]]\n",
    "    print(table)\n",
    "    return fisher_exact(table)\n",
    "\n",
    "\n",
    "def calculate_corr(xx, yy):\n",
    "    '''This calculates R^2 correlation via linear regression:\n",
    "         - used to calculate relationship between 2 arrays \n",
    "         - the arrays are principal components 1 or 2 (PC1, PC2) AND gender\n",
    "         - calculated on a scale of 0 to 1 (with 0 being no correlation)\n",
    "        Inputs: \n",
    "          x: array of Gender (converted to binary output)\n",
    "          y: array of PC\n",
    "        Outputs: \n",
    "          1. r2\n",
    "          2. p-value, two-sided test \n",
    "            - whose null hypothesis is that two sets of data are uncorrelated\n",
    "          3. slope (beta): directory of correlations\n",
    "    '''\n",
    "    slope, intercept, r_value, p_value, std_err = linregress(xx, yy)\n",
    "    return r_value, p_value\n",
    "\n",
    "    \n",
    "def corr_annotation(tissue1, tissue2, merge_fnc):\n",
    "    dft = merge_fnc(tissue1, tissue2)\n",
    "    xx = dft['t_%s' % tissue1]\n",
    "    yy = dft['t_%s' % tissue2]\n",
    "    r_value1, p_value1 = calculate_corr(xx, yy)\n",
    "    return 'R2: %.2f\\nP-value: %.2e' % (r_value1**2, p_value1)\n",
    "\n",
    "\n",
    "def tissue_annotation(tissue):\n",
    "    return {'dlpfc': 'DLPFC', 'hippo': 'Hippocampus', \n",
    "            'caudate': 'Caudate', 'cmc_dlpfc': 'CMC DLPFC', \n",
    "            \"cmc_hbcc\": \"CMC DLPFC: HBCC\"}[tissue]"
   ]
  },
  {
   "cell_type": "code",
   "execution_count": null,
   "metadata": {},
   "outputs": [],
   "source": [
    "def plot_corr_impl(tissue1, tissue2, merge_fnc):\n",
    "    dft = merge_fnc(tissue1, tissue2)\n",
    "    title = '\\n'.join([corr_annotation(tissue1, tissue2, merge_fnc)])\n",
    "    xlab = 'T-statistic (%s)' % tissue_annotation(tissue1)\n",
    "    ylab = 'T-statistic (%s)' % tissue_annotation(tissue2)\n",
    "    pp = ggplot(dft, aes(x='t_%s'%tissue1, y='t_%s' % tissue2))\\\n",
    "    + geom_point(alpha=0.75, size=3)\\\n",
    "    + theme_matplotlib()\\\n",
    "    + theme(axis_text=element_text(size=18), \n",
    "            axis_title=element_text(size=20, face='bold'), \n",
    "            plot_title=element_text(size=22))\n",
    "    pp += labs(x=xlab, y=ylab, title=title)\n",
    "    return pp\n",
    "\n",
    "\n",
    "def plot_corr(tissue1, tissue2, merge_fnc):\n",
    "    return plot_corr_impl(tissue1, tissue2, merge_fnc)\n",
    "\n",
    "\n",
    "def save_plot(p, fn, width=7, height=7):\n",
    "    '''Save plot as svg, png, and pdf with specific label and dimension.'''\n",
    "    for ext in ['.svg', '.png', '.pdf']:\n",
    "        p.save(fn+ext, width=width, height=height)"
   ]
  },
  {
   "cell_type": "markdown",
   "metadata": {},
   "source": [
    "## BrainSeq Tissue Comparison"
   ]
  },
  {
   "cell_type": "code",
   "execution_count": null,
   "metadata": {},
   "outputs": [],
   "source": [
    "caudate = get_deg(config['caudate'])\n",
    "caudate.groupby('Dir').size()"
   ]
  },
  {
   "cell_type": "code",
   "execution_count": null,
   "metadata": {},
   "outputs": [],
   "source": [
    "caudate[(caudate['adj.P.Val'] < 0.05)].shape"
   ]
  },
  {
   "cell_type": "code",
   "execution_count": null,
   "metadata": {},
   "outputs": [],
   "source": [
    "dlpfc = get_deg(config['dlpfc'])\n",
    "dlpfc.groupby('Dir').size()"
   ]
  },
  {
   "cell_type": "code",
   "execution_count": null,
   "metadata": {},
   "outputs": [],
   "source": [
    "dlpfc[(dlpfc['adj.P.Val'] < 0.05)].shape"
   ]
  },
  {
   "cell_type": "code",
   "execution_count": null,
   "metadata": {},
   "outputs": [],
   "source": [
    "hippo = get_deg(config['hippo'])\n",
    "hippo.groupby('Dir').size()"
   ]
  },
  {
   "cell_type": "code",
   "execution_count": null,
   "metadata": {},
   "outputs": [],
   "source": [
    "hippo[(hippo['adj.P.Val'] < 0.05)].shape"
   ]
  },
  {
   "cell_type": "markdown",
   "metadata": {},
   "source": [
    "### Enrichment of DEG"
   ]
  },
  {
   "cell_type": "code",
   "execution_count": null,
   "metadata": {},
   "outputs": [],
   "source": [
    "cal_fishers('caudate', 'dlpfc')"
   ]
  },
  {
   "cell_type": "code",
   "execution_count": null,
   "metadata": {},
   "outputs": [],
   "source": [
    "cal_fishers('caudate', 'hippo')"
   ]
  },
  {
   "cell_type": "code",
   "execution_count": null,
   "metadata": {},
   "outputs": [],
   "source": [
    "cal_fishers('dlpfc', 'hippo')"
   ]
  },
  {
   "cell_type": "markdown",
   "metadata": {},
   "source": [
    "### Correlation"
   ]
  },
  {
   "cell_type": "code",
   "execution_count": null,
   "metadata": {},
   "outputs": [],
   "source": [
    "pp = plot_corr('caudate', 'dlpfc', merge_dataframes)\n",
    "pp"
   ]
  },
  {
   "cell_type": "code",
   "execution_count": null,
   "metadata": {},
   "outputs": [],
   "source": [
    "qq = plot_corr('caudate', 'hippo', merge_dataframes)\n",
    "qq"
   ]
  },
  {
   "cell_type": "code",
   "execution_count": null,
   "metadata": {},
   "outputs": [],
   "source": [
    "ww = plot_corr('dlpfc', 'hippo', merge_dataframes)\n",
    "ww"
   ]
  },
  {
   "cell_type": "markdown",
   "metadata": {},
   "source": [
    "### Significant correlation, FDR < 0.05"
   ]
  },
  {
   "cell_type": "code",
   "execution_count": null,
   "metadata": {},
   "outputs": [],
   "source": [
    "pp = plot_corr('caudate', 'dlpfc', merge_dataframes_sig)\n",
    "pp"
   ]
  },
  {
   "cell_type": "code",
   "execution_count": null,
   "metadata": {},
   "outputs": [],
   "source": [
    "qq = plot_corr('caudate', 'hippo', merge_dataframes_sig)\n",
    "qq"
   ]
  },
  {
   "cell_type": "code",
   "execution_count": null,
   "metadata": {},
   "outputs": [],
   "source": [
    "ww = plot_corr('dlpfc', 'hippo', merge_dataframes_sig)\n",
    "ww"
   ]
  },
  {
   "cell_type": "code",
   "execution_count": null,
   "metadata": {},
   "outputs": [],
   "source": [
    "#save_plot(pp, 'dlpfc_caudate_tstatistic_corr_sig')\n",
    "#save_plot(qq, 'hippo_caudate_tstatistic_corr_sig')\n",
    "#save_plot(ww, 'hippo_dlpfc_tstatistic_corr_sig')"
   ]
  },
  {
   "cell_type": "markdown",
   "metadata": {},
   "source": [
    "### Directionality test"
   ]
  },
  {
   "cell_type": "markdown",
   "metadata": {},
   "source": [
    "#### All genes"
   ]
  },
  {
   "cell_type": "code",
   "execution_count": null,
   "metadata": {},
   "outputs": [],
   "source": [
    "enrichment_binom('caudate', 'dlpfc', merge_dataframes)"
   ]
  },
  {
   "cell_type": "code",
   "execution_count": null,
   "metadata": {},
   "outputs": [],
   "source": [
    "enrichment_binom('caudate', 'hippo', merge_dataframes)"
   ]
  },
  {
   "cell_type": "code",
   "execution_count": null,
   "metadata": {},
   "outputs": [],
   "source": [
    "enrichment_binom('dlpfc', 'hippo', merge_dataframes)"
   ]
  },
  {
   "cell_type": "markdown",
   "metadata": {},
   "source": [
    "#### Significant DEG (FDR < 0.05)"
   ]
  },
  {
   "cell_type": "code",
   "execution_count": null,
   "metadata": {},
   "outputs": [],
   "source": [
    "enrichment_binom('caudate', 'dlpfc', merge_dataframes_sig)"
   ]
  },
  {
   "cell_type": "code",
   "execution_count": null,
   "metadata": {},
   "outputs": [],
   "source": [
    "df = merge_dataframes_sig(\"caudate\", \"dlpfc\")\n",
    "df[(df['agree']<0)]"
   ]
  },
  {
   "cell_type": "code",
   "execution_count": null,
   "metadata": {},
   "outputs": [],
   "source": [
    "enrichment_binom('caudate', 'hippo', merge_dataframes_sig)"
   ]
  },
  {
   "cell_type": "code",
   "execution_count": null,
   "metadata": {},
   "outputs": [],
   "source": [
    "enrichment_binom('dlpfc', 'hippo', merge_dataframes_sig)"
   ]
  },
  {
   "cell_type": "markdown",
   "metadata": {},
   "source": [
    "## Common Mind Comparison: MSSM Penn Pitt"
   ]
  },
  {
   "cell_type": "code",
   "execution_count": null,
   "metadata": {},
   "outputs": [],
   "source": [
    "cmc_dlpfc = get_deg(config['cmc_dlpfc'])\n",
    "cmc_dlpfc.groupby('Dir').size()"
   ]
  },
  {
   "cell_type": "code",
   "execution_count": null,
   "metadata": {},
   "outputs": [],
   "source": [
    "cmc_dlpfc[(cmc_dlpfc['adj.P.Val'] < 0.05)].shape"
   ]
  },
  {
   "cell_type": "markdown",
   "metadata": {},
   "source": [
    "### Enrichment of DEG"
   ]
  },
  {
   "cell_type": "code",
   "execution_count": null,
   "metadata": {},
   "outputs": [],
   "source": [
    "cal_fishers('dlpfc', 'cmc_dlpfc')"
   ]
  },
  {
   "cell_type": "code",
   "execution_count": null,
   "metadata": {},
   "outputs": [],
   "source": [
    "cal_fishers('hippo', 'cmc_dlpfc')"
   ]
  },
  {
   "cell_type": "code",
   "execution_count": null,
   "metadata": {},
   "outputs": [],
   "source": [
    "cal_fishers('caudate', 'cmc_dlpfc')"
   ]
  },
  {
   "cell_type": "markdown",
   "metadata": {},
   "source": [
    "### Correlation"
   ]
  },
  {
   "cell_type": "code",
   "execution_count": null,
   "metadata": {},
   "outputs": [],
   "source": [
    "pp = plot_corr('cmc_dlpfc', 'dlpfc', merge_dataframes)\n",
    "pp"
   ]
  },
  {
   "cell_type": "code",
   "execution_count": null,
   "metadata": {},
   "outputs": [],
   "source": [
    "qq = plot_corr('cmc_dlpfc', 'hippo', merge_dataframes)\n",
    "qq"
   ]
  },
  {
   "cell_type": "code",
   "execution_count": null,
   "metadata": {},
   "outputs": [],
   "source": [
    "ww = plot_corr('cmc_dlpfc', 'caudate', merge_dataframes)\n",
    "ww"
   ]
  },
  {
   "cell_type": "markdown",
   "metadata": {},
   "source": [
    "### Significant correlation, FDR < 0.05"
   ]
  },
  {
   "cell_type": "code",
   "execution_count": null,
   "metadata": {},
   "outputs": [],
   "source": [
    "pp = plot_corr('cmc_dlpfc', 'dlpfc', merge_dataframes_sig)\n",
    "pp"
   ]
  },
  {
   "cell_type": "code",
   "execution_count": null,
   "metadata": {},
   "outputs": [],
   "source": [
    "qq = plot_corr('cmc_dlpfc', 'hippo', merge_dataframes_sig)\n",
    "qq"
   ]
  },
  {
   "cell_type": "code",
   "execution_count": null,
   "metadata": {},
   "outputs": [],
   "source": [
    "ww = plot_corr('cmc_dlpfc', 'caudate', merge_dataframes_sig)\n",
    "ww"
   ]
  },
  {
   "cell_type": "markdown",
   "metadata": {},
   "source": [
    "### Directionality"
   ]
  },
  {
   "cell_type": "markdown",
   "metadata": {},
   "source": [
    "#### All genes"
   ]
  },
  {
   "cell_type": "code",
   "execution_count": null,
   "metadata": {},
   "outputs": [],
   "source": [
    "enrichment_binom('cmc_dlpfc', 'dlpfc', merge_dataframes)"
   ]
  },
  {
   "cell_type": "code",
   "execution_count": null,
   "metadata": {},
   "outputs": [],
   "source": [
    "enrichment_binom('cmc_dlpfc', 'hippo', merge_dataframes)"
   ]
  },
  {
   "cell_type": "code",
   "execution_count": null,
   "metadata": {},
   "outputs": [],
   "source": [
    "enrichment_binom('cmc_dlpfc', 'caudate', merge_dataframes)"
   ]
  },
  {
   "cell_type": "markdown",
   "metadata": {},
   "source": [
    "#### Significant DEG (FDR < 0.05)"
   ]
  },
  {
   "cell_type": "code",
   "execution_count": null,
   "metadata": {},
   "outputs": [],
   "source": [
    "enrichment_binom('cmc_dlpfc', 'dlpfc', merge_dataframes_sig)"
   ]
  },
  {
   "cell_type": "code",
   "execution_count": null,
   "metadata": {},
   "outputs": [],
   "source": [
    "enrichment_binom('cmc_dlpfc', 'hippo', merge_dataframes_sig)"
   ]
  },
  {
   "cell_type": "code",
   "execution_count": null,
   "metadata": {},
   "outputs": [],
   "source": [
    "enrichment_binom('cmc_dlpfc', 'caudate', merge_dataframes_sig)"
   ]
  },
  {
   "cell_type": "markdown",
   "metadata": {},
   "source": [
    "## Common Mind Comparison: NIMH HBCC"
   ]
  },
  {
   "cell_type": "code",
   "execution_count": null,
   "metadata": {},
   "outputs": [],
   "source": [
    "cmc_dlpfc = get_deg(config['cmc_hbcc'])\n",
    "cmc_dlpfc.groupby('Dir').size()"
   ]
  },
  {
   "cell_type": "code",
   "execution_count": null,
   "metadata": {},
   "outputs": [],
   "source": [
    "cmc_dlpfc[(cmc_dlpfc['adj.P.Val'] < 0.05)].shape"
   ]
  },
  {
   "cell_type": "markdown",
   "metadata": {},
   "source": [
    "### Enrichment of DEG"
   ]
  },
  {
   "cell_type": "code",
   "execution_count": null,
   "metadata": {},
   "outputs": [],
   "source": [
    "cal_fishers('dlpfc', 'cmc_hbcc')"
   ]
  },
  {
   "cell_type": "code",
   "execution_count": null,
   "metadata": {},
   "outputs": [],
   "source": [
    "cal_fishers('hippo', 'cmc_hbcc')"
   ]
  },
  {
   "cell_type": "code",
   "execution_count": null,
   "metadata": {},
   "outputs": [],
   "source": [
    "cal_fishers('caudate', 'cmc_hbcc')"
   ]
  },
  {
   "cell_type": "markdown",
   "metadata": {},
   "source": [
    "### Significant correlation, FDR < 0.05"
   ]
  },
  {
   "cell_type": "code",
   "execution_count": null,
   "metadata": {},
   "outputs": [],
   "source": [
    "pp = plot_corr('cmc_hbcc', 'dlpfc', merge_dataframes_sig)\n",
    "pp"
   ]
  },
  {
   "cell_type": "code",
   "execution_count": null,
   "metadata": {},
   "outputs": [],
   "source": [
    "qq = plot_corr('cmc_hbcc', 'hippo', merge_dataframes_sig)\n",
    "qq"
   ]
  },
  {
   "cell_type": "code",
   "execution_count": null,
   "metadata": {},
   "outputs": [],
   "source": [
    "ww = plot_corr('cmc_hbcc', 'caudate', merge_dataframes_sig)\n",
    "ww"
   ]
  },
  {
   "cell_type": "markdown",
   "metadata": {},
   "source": [
    "### Directionality"
   ]
  },
  {
   "cell_type": "markdown",
   "metadata": {},
   "source": [
    "#### All genes"
   ]
  },
  {
   "cell_type": "code",
   "execution_count": null,
   "metadata": {},
   "outputs": [],
   "source": [
    "enrichment_binom('cmc_hbcc', 'dlpfc', merge_dataframes)"
   ]
  },
  {
   "cell_type": "code",
   "execution_count": null,
   "metadata": {},
   "outputs": [],
   "source": [
    "enrichment_binom('cmc_hbcc', 'hippo', merge_dataframes)"
   ]
  },
  {
   "cell_type": "code",
   "execution_count": null,
   "metadata": {},
   "outputs": [],
   "source": [
    "enrichment_binom('cmc_hbcc', 'caudate', merge_dataframes)"
   ]
  },
  {
   "cell_type": "markdown",
   "metadata": {},
   "source": [
    "#### Significant DEG (FDR < 0.05)"
   ]
  },
  {
   "cell_type": "code",
   "execution_count": null,
   "metadata": {},
   "outputs": [],
   "source": [
    "enrichment_binom('cmc_hbcc', 'dlpfc', merge_dataframes_sig)"
   ]
  },
  {
   "cell_type": "code",
   "execution_count": null,
   "metadata": {},
   "outputs": [],
   "source": [
    "enrichment_binom('cmc_hbcc', 'hippo', merge_dataframes_sig)"
   ]
  },
  {
   "cell_type": "code",
   "execution_count": null,
   "metadata": {},
   "outputs": [],
   "source": [
    "enrichment_binom('cmc_hbcc', 'caudate', merge_dataframes_sig)"
   ]
  },
  {
   "cell_type": "code",
   "execution_count": null,
   "metadata": {},
   "outputs": [],
   "source": []
  }
 ],
 "metadata": {
  "kernelspec": {
   "display_name": "Python 3",
   "language": "python",
   "name": "python3"
  },
  "language_info": {
   "codemirror_mode": {
    "name": "ipython",
    "version": 3
   },
   "file_extension": ".py",
   "mimetype": "text/x-python",
   "name": "python",
   "nbconvert_exporter": "python",
   "pygments_lexer": "ipython3",
   "version": "3.9.1"
  }
 },
 "nbformat": 4,
 "nbformat_minor": 4
}
