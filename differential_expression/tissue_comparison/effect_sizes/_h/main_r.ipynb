{
 "cells": [
  {
   "cell_type": "markdown",
   "metadata": {},
   "source": [
    "# Generate a prettier plot with statistics on the plot"
   ]
  },
  {
   "cell_type": "code",
   "execution_count": null,
   "metadata": {},
   "outputs": [],
   "source": [
    "library(repr)\n",
    "library(ggpubr)\n",
    "library(tidyverse)"
   ]
  },
  {
   "cell_type": "code",
   "execution_count": null,
   "metadata": {},
   "outputs": [],
   "source": [
    "config <- list('caudate'= '../../../caudate/_m/genes/diffExpr_maleVfemale_full.txt',\n",
    "               'dlpfc'= '../../../dlpfc/_m/genes/diffExpr_maleVfemale_full.txt', \n",
    "               'hippo'= '../../../hippocampus/_m/genes/diffExpr_maleVfemale_full.txt', \n",
    "               'cmc_dlpfc'= '../../../cmc_dlpfc/_m/mssm_penn_pitt_maleVfemale.tsv',\n",
    "               'cmc_hbcc'= '../../../cmc_dlpfc/_m/nimh_hbcc_maleVfemale.tsv')"
   ]
  },
  {
   "cell_type": "code",
   "execution_count": null,
   "metadata": {},
   "outputs": [],
   "source": [
    "get_deg <- function(fn){\n",
    "    dft <- data.table::fread(fn)\n",
    "    if('gene_id' %in% colnames(dft)){\n",
    "        dft <- dft %>% \n",
    "            mutate(Feature=gene_id, Dir=sign(t)) %>% \n",
    "            rename(ensemblID=ensembl_gene_id) %>%\n",
    "            select('Feature', 'ensemblID', 'adj.P.Val', 'logFC', 't', 'Dir')\n",
    "    } else if('Geneid' %in% colnames(dft)) {\n",
    "        dft <- dft %>% \n",
    "            mutate(Feature=Geneid, Dir=sign(t), \n",
    "                   ensemblID=str_replace(Geneid, \"\\\\..*\", \"\")) %>% \n",
    "            select('Feature', 'ensemblID', 'adj.P.Val', 'logFC', 't', 'Dir')\n",
    "    } else {\n",
    "        dft <- dft %>% \n",
    "            mutate(Feature=V1, Dir=sign(t)) %>% \n",
    "            select('Feature', 'ensemblID', 'adj.P.Val', 'logFC', 't', 'Dir')\n",
    "    }\n",
    "    return(dft)\n",
    "}\n",
    "\n",
    "get_deg_sig <- function(fn, fdr){\n",
    "    dft <- get_deg(fn)\n",
    "    return(subset(dft, adj.P.Val < fdr))\n",
    "}\n",
    "\n",
    "merge_dataframe <- function(tissue1, tissue2){\n",
    "    return(merge(get_deg(config[[tissue1]]), get_deg(config[[tissue2]]), \n",
    "                 by='Feature', suffixes=c(paste0('_',tissue1), paste0('_',tissue2))))\n",
    "}\n",
    "\n",
    "merge_dataframes_sig <- function(tissue1, tissue2){\n",
    "    fdr = 0.05\n",
    "    return(merge(get_deg_sig(config[[tissue1]], fdr), get_deg_sig(config[[tissue2]], fdr), \n",
    "                 by='Feature', suffixes=c(paste0('_',tissue1), paste0('_',tissue2))))\n",
    "}\n",
    "\n",
    "tissue_annotation <- function(tissue){\n",
    "    return(list('dlpfc'='DLPFC', 'hippo'='Hippocampus', \n",
    "                'caudate'='Caudate', 'cmc_dlpfc'='CMC DLPFC', \n",
    "                'cmc_hbcc'='CMC DLPFC: HBCC')[[tissue]])\n",
    "}\n",
    "\n",
    "get_scatter_plot <- function(tissue1, tissue2, merge_fnc, coords){\n",
    "    dft <- merge_fnc(tissue1, tissue2)\n",
    "    sp = ggscatter(dft, x=paste0('t_', tissue1), y=paste0('t_', tissue2), add=\"reg.line\", \n",
    "                   xlab=paste0('T-statistic (',tissue_annotation(tissue1), ')'),\n",
    "                   ylab=paste0('T-statistic (',tissue_annotation(tissue2), ')'),\n",
    "                   add.params = list(color = \"blue\", fill = \"lightgray\"), conf.int = FALSE, \n",
    "                   cor.method = \"pearson\", cor.coef = FALSE, cor.coef.size = 7, \n",
    "                   cor.coeff.args = list(label.sep = \"\\n\"),  #cor.coef.coord = coords, \n",
    "                   ylim=c(-125, 125)) + \n",
    "    stat_cor(aes(label = paste0(..rr.label..)), size=8, method = \"pearson\") + \n",
    "    font(\"xylab\", size = 20, face='bold') + font(\"xy.text\", size = 18)\n",
    "    return(sp)\n",
    "}\n",
    "\n",
    "\n",
    "save_ggplots <- function(fn, p, w, h){\n",
    "    for(ext in c('.pdf', '.png', '.svg')){\n",
    "        ggsave(paste0(fn, ext), plot=p, width=w, height=h)\n",
    "    }\n",
    "}"
   ]
  },
  {
   "cell_type": "code",
   "execution_count": null,
   "metadata": {},
   "outputs": [],
   "source": [
    "options(repr.plot.width=18, repr.plot.height=6)\n",
    "sp1_sig = get_scatter_plot('caudate', 'dlpfc', merge_dataframes_sig, c(-110, 85))\n",
    "sp2_sig = get_scatter_plot('caudate', 'hippo', merge_dataframes_sig, c(-110, 85))\n",
    "sp3_sig = get_scatter_plot('dlpfc', 'hippo', merge_dataframes_sig, c(-110, 85))\n",
    "fig1 = ggarrange(sp1_sig, sp2_sig, sp3_sig, ncol=3, align='v')\n",
    "print(fig1)"
   ]
  },
  {
   "cell_type": "code",
   "execution_count": null,
   "metadata": {},
   "outputs": [],
   "source": [
    "save_ggplots(\"tstatistic_corr_sig\", fig1, 18, 6)"
   ]
  },
  {
   "cell_type": "code",
   "execution_count": null,
   "metadata": {},
   "outputs": [],
   "source": [
    "sp1 = get_scatter_plot('caudate', 'dlpfc', merge_dataframe, c(-110, 85))\n",
    "sp2 = get_scatter_plot('caudate', 'hippo', merge_dataframe, c(-110, 85))\n",
    "sp3 = get_scatter_plot('dlpfc', 'hippo', merge_dataframe, c(-110, 85))\n",
    "fig2 = ggarrange(sp1, sp2, sp3, ncol=3, align='v')\n",
    "print(fig2)"
   ]
  },
  {
   "cell_type": "code",
   "execution_count": null,
   "metadata": {},
   "outputs": [],
   "source": [
    "save_ggplots(\"tstatistic_corr\", fig2, 18, 6)"
   ]
  },
  {
   "cell_type": "markdown",
   "metadata": {},
   "source": [
    "## CommonMind comparison: MSSM Penn Pitt"
   ]
  },
  {
   "cell_type": "code",
   "execution_count": null,
   "metadata": {},
   "outputs": [],
   "source": [
    "sp4_sig = get_scatter_plot('cmc_dlpfc', 'dlpfc', merge_dataframes_sig, c(-55, 85))\n",
    "sp5_sig = get_scatter_plot('cmc_dlpfc', 'hippo', merge_dataframes_sig, c(-55, 85))\n",
    "sp6_sig = get_scatter_plot('cmc_dlpfc', 'caudate', merge_dataframes_sig, c(-55, 85))\n",
    "fig3 = ggarrange(sp4_sig, sp5_sig, sp6_sig, ncol=3, align='v')\n",
    "print(fig3)"
   ]
  },
  {
   "cell_type": "code",
   "execution_count": null,
   "metadata": {},
   "outputs": [],
   "source": [
    "save_ggplots(\"cmc_tstatistic_corr_sig\", fig3, 18, 6)"
   ]
  },
  {
   "cell_type": "code",
   "execution_count": null,
   "metadata": {},
   "outputs": [],
   "source": [
    "sp4 = get_scatter_plot('cmc_dlpfc', 'dlpfc', merge_dataframe, c(-55, 85))\n",
    "sp5 = get_scatter_plot('cmc_dlpfc', 'hippo', merge_dataframe, c(-55, 85))\n",
    "sp6 = get_scatter_plot('cmc_dlpfc', 'caudate', merge_dataframe, c(-55, 85))\n",
    "fig4 = ggarrange(sp4, sp5, sp6, ncol=3)\n",
    "print(fig4)"
   ]
  },
  {
   "cell_type": "code",
   "execution_count": null,
   "metadata": {},
   "outputs": [],
   "source": [
    "save_ggplots(\"cmc_tstatistic_corr\", fig4, 18, 6)"
   ]
  },
  {
   "cell_type": "markdown",
   "metadata": {},
   "source": [
    "## CommonMind comparison: NIMH HBCC"
   ]
  },
  {
   "cell_type": "code",
   "execution_count": null,
   "metadata": {},
   "outputs": [],
   "source": [
    "sp4_sig = get_scatter_plot('cmc_hbcc', 'dlpfc', merge_dataframes_sig, c(-55, 85))\n",
    "sp5_sig = get_scatter_plot('cmc_hbcc', 'hippo', merge_dataframes_sig, c(-55, 85))\n",
    "sp6_sig = get_scatter_plot('cmc_hbcc', 'caudate', merge_dataframes_sig, c(-55, 85))\n",
    "fig3 = ggarrange(sp4_sig, sp5_sig, sp6_sig, ncol=3, align='v')\n",
    "print(fig3)"
   ]
  },
  {
   "cell_type": "code",
   "execution_count": null,
   "metadata": {},
   "outputs": [],
   "source": [
    "save_ggplots(\"cmc_hbcc_tstatistic_corr_sig\", fig3, 18, 6)"
   ]
  },
  {
   "cell_type": "code",
   "execution_count": null,
   "metadata": {},
   "outputs": [],
   "source": [
    "sp4 = get_scatter_plot('cmc_hbcc', 'dlpfc', merge_dataframe, c(-55, 85))\n",
    "sp5 = get_scatter_plot('cmc_hbcc', 'hippo', merge_dataframe, c(-55, 85))\n",
    "sp6 = get_scatter_plot('cmc_hbcc', 'caudate', merge_dataframe, c(-55, 85))\n",
    "fig4 = ggarrange(sp4, sp5, sp6, ncol=3)\n",
    "print(fig4)"
   ]
  },
  {
   "cell_type": "code",
   "execution_count": null,
   "metadata": {},
   "outputs": [],
   "source": [
    "save_ggplots(\"cmc_hbcc_tstatistic_corr\", fig4, 18, 6)"
   ]
  },
  {
   "cell_type": "markdown",
   "metadata": {},
   "source": [
    "## Reproducibility Information"
   ]
  },
  {
   "cell_type": "code",
   "execution_count": null,
   "metadata": {},
   "outputs": [],
   "source": [
    "print(\"Reproducibility Information:\")\n",
    "Sys.time()\n",
    "proc.time()\n",
    "options(width=120)\n",
    "sessioninfo::session_info()"
   ]
  }
 ],
 "metadata": {
  "kernelspec": {
   "display_name": "R",
   "language": "R",
   "name": "ir"
  },
  "language_info": {
   "codemirror_mode": "r",
   "file_extension": ".r",
   "mimetype": "text/x-r-source",
   "name": "R",
   "pygments_lexer": "r",
   "version": "4.0.3"
  }
 },
 "nbformat": 4,
 "nbformat_minor": 4
}
