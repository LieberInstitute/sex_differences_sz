{
 "cells": [
  {
   "cell_type": "markdown",
   "metadata": {},
   "source": [
    "# Comparison with other datasets"
   ]
  },
  {
   "cell_type": "code",
   "execution_count": null,
   "metadata": {},
   "outputs": [],
   "source": [
    "import functools, session_info\n",
    "import numpy as np\n",
    "import pandas as pd\n",
    "from plotnine import *\n",
    "from pyhere import here\n",
    "from scipy.stats import binom_test, fisher_exact, linregress\n",
    "\n",
    "from warnings import filterwarnings\n",
    "from matplotlib.cbook import mplDeprecation\n",
    "filterwarnings('ignore', category=mplDeprecation)\n",
    "filterwarnings('ignore', category=UserWarning, module='plotnine.*')\n",
    "filterwarnings('ignore', category=DeprecationWarning, module='plotnine.*')"
   ]
  },
  {
   "cell_type": "code",
   "execution_count": null,
   "metadata": {},
   "outputs": [],
   "source": [
    "import matplotlib.pyplot as plt\n",
    "import matplotlib as mpl"
   ]
  },
  {
   "cell_type": "markdown",
   "metadata": {},
   "source": [
    "## BrainSeq functions"
   ]
  },
  {
   "cell_type": "code",
   "execution_count": null,
   "metadata": {},
   "outputs": [],
   "source": [
    "@functools.lru_cache()\n",
    "def get_biomart():\n",
    "    return pd.read_csv('../_h/biomart.csv', index_col=0)\n",
    "\n",
    "\n",
    "@functools.lru_cache()\n",
    "def get_deg(tissue):\n",
    "    fname = f'../../../{tissue}/_m/genes/diffExpr_maleVfemale_full.txt'\n",
    "    dft = pd.read_csv(fname, sep='\\t', index_col=0)\n",
    "    dft['Feature'] = dft.index\n",
    "    dft['Direction'] = np.sign(dft['t'])\n",
    "    dft['ensemblID'] = dft.gencodeID.str.replace('\\\\..*', '', regex=True)\n",
    "    return dft[['Feature', 'ensemblID', 'Symbol', 'adj.P.Val', 'logFC', 't', 'Direction']]\n",
    "\n",
    "\n",
    "@functools.lru_cache()\n",
    "def get_deg_sig(tissue, fdr):\n",
    "    dft = get_deg(tissue)\n",
    "    return dft[(dft['adj.P.Val'] < fdr)]\n",
    "\n",
    "\n",
    "@functools.lru_cache()\n",
    "def merge_dataframes(tissue1, tissue2, fdr=1):\n",
    "    return get_deg_sig(tissue1, fdr)\\\n",
    "    .merge(get_deg_sig(tissue2, fdr), on='Feature', \n",
    "           suffixes=[f'_{tissue1}', f'_{tissue2}'])\n",
    "\n",
    "\n",
    "@functools.lru_cache()\n",
    "def brainseq_shared_degs():\n",
    "    fn = \"../../summary_table/_m/differential_expression_analysis_4features_sex.txt.gz\"\n",
    "    df0 = pd.read_csv(fn, sep='\\t')\n",
    "    df = df0.loc[(df0[\"Type\"] == \"Gene\") & (df0[\"adj.P.Val\"] < 0.05),\n",
    "                 [\"ensemblID\", \"Tissue\"]].copy()\n",
    "    df[\"DE\"] = 1\n",
    "    return df.pivot(index=\"ensemblID\", columns=\"Tissue\", values=\"DE\").fillna(0)"
   ]
  },
  {
   "cell_type": "markdown",
   "metadata": {},
   "source": [
    "## Trabzuni comparison"
   ]
  },
  {
   "cell_type": "code",
   "execution_count": null,
   "metadata": {},
   "outputs": [],
   "source": [
    "@functools.lru_cache()\n",
    "def get_symbols(tissue, fdr):\n",
    "    return get_deg_sig(tissue, fdr)[['Symbol']]\n",
    "\n",
    "\n",
    "def tissue_annotation(tissue):\n",
    "    return {'dlpfc': 'DLPFC', 'hippocampus': 'Hippocampus', \n",
    "            'caudate': 'Caudate', 'cmc_dlpfc': 'CMC DLPFC'}[tissue]"
   ]
  },
  {
   "cell_type": "code",
   "execution_count": null,
   "metadata": {},
   "outputs": [],
   "source": [
    "def heatmap(data, row_labels, col_labels, ax=None,\n",
    "            cbar_kw={}, cbarlabel=\"\", **kwargs):\n",
    "    \"\"\"\n",
    "    Create a heatmap from a numpy array and two lists of labels.\n",
    "\n",
    "    Parameters\n",
    "    ----------\n",
    "    data\n",
    "        A 2D numpy array of shape (N, M).\n",
    "    row_labels\n",
    "        A list or array of length N with the labels for the rows.\n",
    "    col_labels\n",
    "        A list or array of length M with the labels for the columns.\n",
    "    ax\n",
    "        A `matplotlib.axes.Axes` instance to which the heatmap is plotted.  If\n",
    "        not provided, use current axes or create a new one.  Optional.\n",
    "    cbar_kw\n",
    "        A dictionary with arguments to `matplotlib.Figure.colorbar`.  Optional.\n",
    "    cbarlabel\n",
    "        The label for the colorbar.  Optional.\n",
    "    **kwargs\n",
    "        All other arguments are forwarded to `imshow`.\n",
    "    \"\"\"\n",
    "    \n",
    "    if not ax:\n",
    "        ax = plt.gca()\n",
    "\n",
    "    # Plot the heatmap\n",
    "    im = ax.imshow(data, **kwargs)\n",
    "\n",
    "    # Create colorbar\n",
    "    cbar = ax.figure.colorbar(im, ax=ax, **cbar_kw)\n",
    "    cbar.ax.set_ylabel(cbarlabel, rotation=-90, va=\"bottom\")\n",
    "\n",
    "    # We want to show all ticks...\n",
    "    ax.set_xticks(np.arange(data.shape[1]))\n",
    "    ax.set_yticks(np.arange(data.shape[0]))\n",
    "    # ... and label them with the respective list entries.\n",
    "    ax.set_xticklabels(col_labels)\n",
    "    ax.set_yticklabels(row_labels)\n",
    "\n",
    "    # Let the horizontal axes labeling appear on top.\n",
    "    ax.tick_params(top=True, bottom=False, labelsize=18,\n",
    "                   labeltop=True, labelbottom=False)\n",
    "\n",
    "    # Rotate the tick labels and set their alignment.\n",
    "    plt.setp(ax.get_xticklabels(), rotation=-30, ha=\"right\",\n",
    "             rotation_mode=\"anchor\")\n",
    "\n",
    "    # Turn spines off and create white grid.\n",
    "    for edge, spine in ax.spines.items():\n",
    "        spine.set_visible(False)\n",
    "\n",
    "    ax.set_xticks(np.arange(data.shape[1]+1)-.5, minor=True)\n",
    "    ax.set_yticks(np.arange(data.shape[0]+1)-.5, minor=True)\n",
    "    ax.grid(which=\"minor\", color=\"w\", linestyle='-', linewidth=3)\n",
    "    ax.tick_params(which=\"minor\", bottom=False, left=False)\n",
    "\n",
    "    return im, cbar\n",
    "\n",
    "\n",
    "def annotate_heatmap(im, data=None, valfmt=\"{x:.2f}\",\n",
    "                     textcolors=(\"black\", \"white\"),\n",
    "                     threshold=None, **textkw):\n",
    "    \"\"\"\n",
    "    A function to annotate a heatmap.\n",
    "\n",
    "    Parameters\n",
    "    ----------\n",
    "    im\n",
    "        The AxesImage to be labeled.\n",
    "    data\n",
    "        Data used to annotate.  If None, the image's data is used.  Optional.\n",
    "    valfmt\n",
    "        The format of the annotations inside the heatmap.  This should either\n",
    "        use the string format method, e.g. \"$ {x:.2f}\", or be a\n",
    "        `matplotlib.ticker.Formatter`.  Optional.\n",
    "    textcolors\n",
    "        A pair of colors.  The first is used for values below a threshold,\n",
    "        the second for those above.  Optional.\n",
    "    threshold\n",
    "        Value in data units according to which the colors from textcolors are\n",
    "        applied.  If None (the default) uses the middle of the colormap as\n",
    "        separation.  Optional.\n",
    "    **kwargs\n",
    "        All other arguments are forwarded to each call to `text` used to create\n",
    "        the text labels.\n",
    "    \"\"\"\n",
    "\n",
    "    if not isinstance(data, (list, np.ndarray)):\n",
    "        data = im.get_array()\n",
    "\n",
    "    # Normalize the threshold to the images color range.\n",
    "    if threshold is not None:\n",
    "        threshold = im.norm(threshold)\n",
    "    else:\n",
    "        threshold = im.norm(data.max())/2.\n",
    "\n",
    "    # Set default alignment to center, but allow it to be\n",
    "    # overwritten by textkw.\n",
    "    kw = dict(horizontalalignment=\"center\",\n",
    "              verticalalignment=\"center\")\n",
    "    kw.update(textkw)\n",
    "\n",
    "    # Get the formatter in case a string is supplied\n",
    "    if isinstance(valfmt, str):\n",
    "        valfmt = mpl.ticker.StrMethodFormatter(valfmt)\n",
    "\n",
    "    # Loop over the data and create a `Text` for each \"pixel\".\n",
    "    # Change the text's color depending on the data.\n",
    "    texts = []\n",
    "    for i in range(data.shape[0]):\n",
    "        for j in range(data.shape[1]):\n",
    "            kw.update(color=textcolors[int(im.norm(data[i, j]) > threshold)])\n",
    "            text = im.axes.text(j, i, valfmt(data[i, j], None), **kw)\n",
    "            texts.append(text)\n",
    "\n",
    "    return texts"
   ]
  },
  {
   "cell_type": "code",
   "execution_count": null,
   "metadata": {},
   "outputs": [],
   "source": [
    "config_trabzuni = {\n",
    "    'genes': here('input/public_results/extract_geneLists/_m/trabzuni_sex_diff_genes_logFC.csv'),\n",
    "    'annot': here('input/public_results/_m/trabzuni/trabzuni_annotation.txt'),\n",
    "}\n",
    "    \n",
    "zz = dict()\n",
    "for tissue in ['caudate', 'dlpfc', 'hippocampus']:\n",
    "    ww = []; yy = []\n",
    "    fdr = 0.05\n",
    "    trabzuni = pd.read_csv(config_trabzuni['genes'], index_col=0)\\\n",
    "                 .drop(['average ALL'], axis=1)\n",
    "    annot = pd.read_csv(config_trabzuni['annot'], sep='\\t', index_col=0)\n",
    "    for col in trabzuni.drop('Chromosome', axis=1).columns:\n",
    "        trabzuni.loc[trabzuni[col] != 0, col] = 1\n",
    "        tot = len(set(trabzuni[(trabzuni[col] != 0)].index))\n",
    "        overlap = len(set(get_symbols(tissue, fdr).Symbol) & \n",
    "                      set(trabzuni[(trabzuni[col] != 0)].index))\n",
    "        xx = overlap / tot \n",
    "        ww.append(xx)\n",
    "        yy.append(annot.to_dict()['TISSUE'][col.split(' ')[0]])\n",
    "        print(\"There is %d (%.1f%%) overlap between %s and %s %s!\" % \n",
    "              (overlap, xx* 100, tissue_annotation(tissue), \n",
    "               annot.to_dict()['TISSUE'][col.split(' ')[0]], \n",
    "               col.split(\" \")[1]))\n",
    "    print(\"\")\n",
    "    zz[tissue_annotation(tissue)] = ww"
   ]
  },
  {
   "cell_type": "code",
   "execution_count": null,
   "metadata": {},
   "outputs": [],
   "source": [
    "dfz = pd.DataFrame.from_dict(zz)\n",
    "dfz['Tissue'] = trabzuni.drop('Chromosome', axis=1).columns\n",
    "dfz = dfz.set_index('Tissue')\n",
    "dfz"
   ]
  },
  {
   "cell_type": "code",
   "execution_count": null,
   "metadata": {},
   "outputs": [],
   "source": [
    "dfz.to_csv('brainseq_overlap_trabzuni_fraction.txt', sep='\\t')"
   ]
  },
  {
   "cell_type": "code",
   "execution_count": null,
   "metadata": {},
   "outputs": [],
   "source": [
    "%matplotlib inline\n",
    "fig, ax = plt.subplots(figsize=(8, 12))\n",
    "plt.rcParams.update({'font.size': 18})\n",
    "im, cbar = heatmap(dfz, dfz.index, dfz.columns, ax=ax,\n",
    "                   cmap=\"YlGn\", cbarlabel=\"Trabzuni et al. Comparison\")\n",
    "texts = annotate_heatmap(im, valfmt=\"{x:.2f}\")\n",
    "\n",
    "fig.tight_layout()\n",
    "plt.savefig('brainseq_overlap_trabzuni_heatmap.png')\n",
    "plt.savefig('brainseq_overlap_trabzuni_heatmap.pdf')\n",
    "plt.savefig('brainseq_overlap_trabzuni_heatmap.svg')\n",
    "plt.show()"
   ]
  },
  {
   "cell_type": "code",
   "execution_count": null,
   "metadata": {},
   "outputs": [],
   "source": [
    "df = brainseq_shared_degs()\n",
    "df.to_csv('brainseq_deg_across_tissues_comparison.csv')\n",
    "df.head(2)"
   ]
  },
  {
   "cell_type": "code",
   "execution_count": null,
   "metadata": {},
   "outputs": [],
   "source": [
    "tt0 = get_biomart()\\\n",
    "    .merge(df, left_on='ensembl_gene_id', right_index=True)\\\n",
    "    .merge(trabzuni, left_on='external_gene_name', right_index=True, how='right')\\\n",
    "    .set_index('external_gene_name')\n",
    "\n",
    "tt1 = tt0[['Caudate', 'DLPFC', 'Hippocampus']].fillna(0)\n",
    "tt2 = tt0[['CRBL (N=128)', 'FCTX (N=122)', 'HIPP (N=114)', 'HYPO (N=13)', \n",
    "           'MEDU (N=109)', 'OCTX (N=125)', 'PUTM (N=121)', 'SNIG (N=96)', \n",
    "           'TCTX (N=114)', 'THAL (N=107)', 'WHMT (N=120)']].fillna(0)\n",
    "tt = pd.concat([tt1, tt2], axis=1)\n",
    "tt.to_csv('brainseq_overlap_trabzuni_genes.csv')\n",
    "tt.head(2)"
   ]
  },
  {
   "cell_type": "markdown",
   "metadata": {},
   "source": [
    "## Mayne comparison"
   ]
  },
  {
   "cell_type": "code",
   "execution_count": null,
   "metadata": {},
   "outputs": [],
   "source": [
    "mayne_file = here('input/public_results/extract_geneLists/_m/mayne_sex_diff_genes.csv')\n",
    "mayne = pd.read_csv(mayne_file)\n",
    "mayne.groupby('Version').size()"
   ]
  },
  {
   "cell_type": "code",
   "execution_count": null,
   "metadata": {},
   "outputs": [],
   "source": [
    "zz = dict()\n",
    "for tissue in ['caudate', 'dlpfc', 'hippocampus']:\n",
    "    ww = []; yy = []\n",
    "    fdr = 0.05\n",
    "    mayne = pd.read_csv(mayne_file)\n",
    "    mayne['Mayne'] = 1\n",
    "    for ver in ['all', 'autosomes', 'noY']:\n",
    "        mm = mayne.loc[(mayne['Version'] == ver), ['Ensembl', 'Mayne']]\n",
    "        tot = len(set(mm.Ensembl))\n",
    "        overlap = len(set(get_deg_sig(tissue, fdr).ensemblID) & \n",
    "                      set(mm.Ensembl))\n",
    "        xx = overlap / tot \n",
    "        ww.append(xx)\n",
    "        print(\"There is %d (%.1f%%) overlap between %s and %s from Mayne!\" % \n",
    "              (overlap, xx* 100, tissue_annotation(tissue), ver))\n",
    "    print(\"\")\n",
    "    zz[tissue_annotation(tissue)] = ww"
   ]
  },
  {
   "cell_type": "code",
   "execution_count": null,
   "metadata": {},
   "outputs": [],
   "source": [
    "dfm = pd.DataFrame.from_dict(zz)\n",
    "dfm['Method'] = mayne.Version.unique()\n",
    "dfm = dfm.set_index('Method')\n",
    "dfm.to_csv('brainseq_overlap_mayne_fraction.txt', sep='\\t')\n",
    "dfm"
   ]
  },
  {
   "cell_type": "code",
   "execution_count": null,
   "metadata": {},
   "outputs": [],
   "source": [
    "%matplotlib inline\n",
    "fig, ax = plt.subplots(figsize=(6, 5))\n",
    "plt.rcParams.update({'font.size': 18})\n",
    "im, cbar = heatmap(dfm, dfm.index, dfm.columns, ax=ax,\n",
    "                   cmap=\"YlGn\", cbarlabel=\"Mayne et al. Comparison\")\n",
    "texts = annotate_heatmap(im, valfmt=\"{x:.2f}\")\n",
    "\n",
    "fig.tight_layout()\n",
    "plt.savefig('brainseq_overlap_mayne_heatmap.png')\n",
    "plt.savefig('brainseq_overlap_mayne_heatmap.pdf')\n",
    "plt.savefig('brainseq_overlap_mayne_heatmap.svg')\n",
    "plt.show()"
   ]
  },
  {
   "cell_type": "code",
   "execution_count": null,
   "metadata": {},
   "outputs": [],
   "source": [
    "df = brainseq_shared_degs()\n",
    "\n",
    "mm = mayne.loc[(mayne['Version'] == 'all'), ['Ensembl', 'Mayne']]\n",
    "mm = get_biomart().merge(df, left_on='ensembl_gene_id', right_index=True)\\\n",
    "                  .merge(mm.set_index('Ensembl'), left_on=\"ensembl_gene_id\", \n",
    "                         right_index=True, how='right')\\\n",
    "                  .set_index('external_gene_name')\n",
    "mm.to_csv('brainseq_overlap_mayne_all_genes.csv')"
   ]
  },
  {
   "cell_type": "code",
   "execution_count": null,
   "metadata": {},
   "outputs": [],
   "source": [
    "mm"
   ]
  },
  {
   "cell_type": "markdown",
   "metadata": {},
   "source": [
    "## Gershoni and Pietrokovski (GTEx) Comparison"
   ]
  },
  {
   "cell_type": "code",
   "execution_count": null,
   "metadata": {},
   "outputs": [],
   "source": [
    "gtex_file = here('input/public_results/extract_geneLists/_m/gp_gtex_sex_diff_genes.csv')\n",
    "gtex = pd.read_csv(gtex_file).rename(columns={'Ensembl': 'Gencode'}).drop('Gene', axis=1)\n",
    "gtex['Ensembl'] = gtex.Gencode.str.replace(\"\\\\..*\", \"\", regex=True)\n",
    "gtex.set_index('Ensembl', inplace=True)\n",
    "gtex.shape"
   ]
  },
  {
   "cell_type": "code",
   "execution_count": null,
   "metadata": {},
   "outputs": [],
   "source": [
    "zz = dict()\n",
    "for tissue in ['caudate', 'dlpfc', 'hippocampus']:\n",
    "    ww = []; yy = []\n",
    "    fdr = 0.05\n",
    "    for col in gtex.drop(['Symbol', 'Gencode'], axis=1).columns:\n",
    "        gtex.loc[gtex[col] != 0, col] = 1\n",
    "        tot = len(set(gtex[(gtex[col] != 0)].index))\n",
    "        overlap = len(set(get_deg_sig(tissue, fdr).ensemblID) & \n",
    "                      set(gtex[(gtex[col] != 0)].index))\n",
    "        xx = overlap / tot \n",
    "        ww.append(xx)\n",
    "        print(\"There is %d (%.1f%%) overlap between %s and %s GTEx!\" % \n",
    "              (overlap, xx* 100, tissue_annotation(tissue), col))\n",
    "    print(\"\")\n",
    "    zz[tissue_annotation(tissue)] = ww"
   ]
  },
  {
   "cell_type": "code",
   "execution_count": null,
   "metadata": {},
   "outputs": [],
   "source": [
    "dfg = pd.DataFrame.from_dict(zz)\n",
    "dfg['Tissue'] = gtex.drop(['Symbol', 'Gencode'], axis=1).columns\n",
    "dfg = dfg.set_index('Tissue')\n",
    "dfg.to_csv('brainseq_overlap_gtex_fraction.txt', sep='\\t')\n",
    "dfg.head()"
   ]
  },
  {
   "cell_type": "code",
   "execution_count": null,
   "metadata": {},
   "outputs": [],
   "source": [
    "%matplotlib inline\n",
    "fig, ax = plt.subplots(figsize=(36, 8))\n",
    "plt.rcParams.update({'font.size': 12})\n",
    "im, cbar = heatmap(dfg.T, dfg.columns, dfg.index, ax=ax,\n",
    "                   cmap=\"YlGn\", \n",
    "                   cbarlabel=\"Gershoni and Pietrokovski Comparison\")\n",
    "texts = annotate_heatmap(im, valfmt=\"{x:.2f}\")\n",
    "\n",
    "fig.tight_layout()\n",
    "plt.savefig('brainseq_overlap_gtex_heatmap_full.png')\n",
    "plt.savefig('brainseq_overlap_gtex_heatmap_full.pdf')\n",
    "plt.savefig('brainseq_overlap_gtex_heatmap_full.svg')\n",
    "plt.show()"
   ]
  },
  {
   "cell_type": "code",
   "execution_count": null,
   "metadata": {},
   "outputs": [],
   "source": [
    "brain = dfg[(dfg.index.str.contains('Brain'))].copy()\n",
    "fig, ax = plt.subplots(figsize=(18, 8))\n",
    "plt.rcParams.update({'font.size': 18})\n",
    "im, cbar = heatmap(brain.T, brain.columns, brain.index, ax=ax,\n",
    "                   cmap=\"YlGn\", \n",
    "                   cbarlabel=\"Gershoni and Pietrokovski Comparison\")\n",
    "texts = annotate_heatmap(im, valfmt=\"{x:.2f}\")\n",
    "\n",
    "fig.tight_layout()\n",
    "plt.savefig('brainseq_overlap_gtex_heatmap.png')\n",
    "plt.savefig('brainseq_overlap_gtex_heatmap.pdf')\n",
    "plt.savefig('brainseq_overlap_gtex_heatmap.svg')\n",
    "plt.show()"
   ]
  },
  {
   "cell_type": "code",
   "execution_count": null,
   "metadata": {},
   "outputs": [],
   "source": [
    "df = brainseq_shared_degs()\n",
    "\n",
    "gg = get_biomart().merge(df, left_on='ensembl_gene_id', right_index=True)\\\n",
    "             .merge(gtex.drop(['Symbol', 'Gencode'], axis=1), \n",
    "                    left_on='ensembl_gene_id', \n",
    "                    right_index=True, how='outer')\\\n",
    "             .set_index('external_gene_name')\n",
    "gg.to_csv('brainseq_overlap_gtex_genes.csv')"
   ]
  },
  {
   "cell_type": "markdown",
   "metadata": {},
   "source": [
    "## Session information"
   ]
  },
  {
   "cell_type": "code",
   "execution_count": null,
   "metadata": {},
   "outputs": [],
   "source": [
    "session_info.show()"
   ]
  }
 ],
 "metadata": {
  "kernelspec": {
   "display_name": "Python 3 (ipykernel)",
   "language": "python",
   "name": "python3"
  },
  "language_info": {
   "codemirror_mode": {
    "name": "ipython",
    "version": 3
   },
   "file_extension": ".py",
   "mimetype": "text/x-python",
   "name": "python",
   "nbconvert_exporter": "python",
   "pygments_lexer": "ipython3",
   "version": "3.10.9"
  }
 },
 "nbformat": 4,
 "nbformat_minor": 4
}
