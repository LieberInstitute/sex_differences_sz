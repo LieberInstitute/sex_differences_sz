{
 "cells": [
  {
   "cell_type": "markdown",
   "metadata": {},
   "source": [
    "# Feature summary analysis"
   ]
  },
  {
   "cell_type": "code",
   "execution_count": 1,
   "metadata": {},
   "outputs": [],
   "source": [
    "import numpy as np\n",
    "import pandas as pd"
   ]
  },
  {
   "cell_type": "markdown",
   "metadata": {},
   "source": [
    "## Summary plots"
   ]
  },
  {
   "cell_type": "markdown",
   "metadata": {},
   "source": [
    "### Genes"
   ]
  },
  {
   "cell_type": "code",
   "execution_count": 2,
   "metadata": {},
   "outputs": [
    {
     "data": {
      "text/html": [
       "<div>\n",
       "<style scoped>\n",
       "    .dataframe tbody tr th:only-of-type {\n",
       "        vertical-align: middle;\n",
       "    }\n",
       "\n",
       "    .dataframe tbody tr th {\n",
       "        vertical-align: top;\n",
       "    }\n",
       "\n",
       "    .dataframe thead th {\n",
       "        text-align: right;\n",
       "    }\n",
       "</style>\n",
       "<table border=\"1\" class=\"dataframe\">\n",
       "  <thead>\n",
       "    <tr style=\"text-align: right;\">\n",
       "      <th></th>\n",
       "      <th>gene_id</th>\n",
       "      <th>logFC</th>\n",
       "      <th>AveExpr</th>\n",
       "      <th>t</th>\n",
       "      <th>P.Value</th>\n",
       "      <th>adj.P.Val</th>\n",
       "      <th>z.std</th>\n",
       "      <th>ensembl_gene_id</th>\n",
       "      <th>position</th>\n",
       "      <th>Direction</th>\n",
       "      <th>hgnc_symbol</th>\n",
       "      <th>percentage_gene_gc_content</th>\n",
       "      <th>gene_biotype</th>\n",
       "      <th>chromosome_name</th>\n",
       "    </tr>\n",
       "  </thead>\n",
       "  <tbody>\n",
       "    <tr>\n",
       "      <th>0</th>\n",
       "      <td>ENSG00000229236.1</td>\n",
       "      <td>5.437461</td>\n",
       "      <td>-2.069655</td>\n",
       "      <td>73.878955</td>\n",
       "      <td>9.467245e-258</td>\n",
       "      <td>1.118736e-253</td>\n",
       "      <td>34.294533</td>\n",
       "      <td>ENSG00000229236</td>\n",
       "      <td>1</td>\n",
       "      <td>UP</td>\n",
       "      <td>TTTY10</td>\n",
       "      <td>38.47</td>\n",
       "      <td>lncRNA</td>\n",
       "      <td>Y</td>\n",
       "    </tr>\n",
       "    <tr>\n",
       "      <th>1</th>\n",
       "      <td>ENSG00000260197.1</td>\n",
       "      <td>6.467829</td>\n",
       "      <td>-1.391681</td>\n",
       "      <td>77.893569</td>\n",
       "      <td>1.085256e-257</td>\n",
       "      <td>1.118736e-253</td>\n",
       "      <td>34.290554</td>\n",
       "      <td>ENSG00000260197</td>\n",
       "      <td>1</td>\n",
       "      <td>UP</td>\n",
       "      <td>NaN</td>\n",
       "      <td>32.33</td>\n",
       "      <td>lncRNA</td>\n",
       "      <td>Y</td>\n",
       "    </tr>\n",
       "    <tr>\n",
       "      <th>2</th>\n",
       "      <td>ENSG00000169953.11</td>\n",
       "      <td>6.116855</td>\n",
       "      <td>-1.634066</td>\n",
       "      <td>66.804279</td>\n",
       "      <td>2.269096e-240</td>\n",
       "      <td>1.559398e-236</td>\n",
       "      <td>33.108143</td>\n",
       "      <td>ENSG00000169953</td>\n",
       "      <td>11</td>\n",
       "      <td>UP</td>\n",
       "      <td>HSFY2</td>\n",
       "      <td>39.22</td>\n",
       "      <td>protein_coding</td>\n",
       "      <td>Y</td>\n",
       "    </tr>\n",
       "    <tr>\n",
       "      <th>3</th>\n",
       "      <td>ENSG00000067646.11</td>\n",
       "      <td>8.409788</td>\n",
       "      <td>1.570265</td>\n",
       "      <td>62.284416</td>\n",
       "      <td>1.991596e-239</td>\n",
       "      <td>1.026518e-235</td>\n",
       "      <td>33.042530</td>\n",
       "      <td>ENSG00000067646</td>\n",
       "      <td>11</td>\n",
       "      <td>UP</td>\n",
       "      <td>ZFY</td>\n",
       "      <td>37.27</td>\n",
       "      <td>protein_coding</td>\n",
       "      <td>Y</td>\n",
       "    </tr>\n",
       "    <tr>\n",
       "      <th>4</th>\n",
       "      <td>ENSG00000067048.16</td>\n",
       "      <td>8.666711</td>\n",
       "      <td>2.702921</td>\n",
       "      <td>61.982116</td>\n",
       "      <td>1.756814e-238</td>\n",
       "      <td>7.244048e-235</td>\n",
       "      <td>32.976635</td>\n",
       "      <td>ENSG00000067048</td>\n",
       "      <td>16</td>\n",
       "      <td>UP</td>\n",
       "      <td>DDX3Y</td>\n",
       "      <td>37.70</td>\n",
       "      <td>protein_coding</td>\n",
       "      <td>Y</td>\n",
       "    </tr>\n",
       "  </tbody>\n",
       "</table>\n",
       "</div>"
      ],
      "text/plain": [
       "              gene_id     logFC   AveExpr          t        P.Value  \\\n",
       "0   ENSG00000229236.1  5.437461 -2.069655  73.878955  9.467245e-258   \n",
       "1   ENSG00000260197.1  6.467829 -1.391681  77.893569  1.085256e-257   \n",
       "2  ENSG00000169953.11  6.116855 -1.634066  66.804279  2.269096e-240   \n",
       "3  ENSG00000067646.11  8.409788  1.570265  62.284416  1.991596e-239   \n",
       "4  ENSG00000067048.16  8.666711  2.702921  61.982116  1.756814e-238   \n",
       "\n",
       "       adj.P.Val      z.std  ensembl_gene_id position Direction hgnc_symbol  \\\n",
       "0  1.118736e-253  34.294533  ENSG00000229236        1        UP      TTTY10   \n",
       "1  1.118736e-253  34.290554  ENSG00000260197        1        UP         NaN   \n",
       "2  1.559398e-236  33.108143  ENSG00000169953       11        UP       HSFY2   \n",
       "3  1.026518e-235  33.042530  ENSG00000067646       11        UP         ZFY   \n",
       "4  7.244048e-235  32.976635  ENSG00000067048       16        UP       DDX3Y   \n",
       "\n",
       "   percentage_gene_gc_content    gene_biotype chromosome_name  \n",
       "0                       38.47          lncRNA               Y  \n",
       "1                       32.33          lncRNA               Y  \n",
       "2                       39.22  protein_coding               Y  \n",
       "3                       37.27  protein_coding               Y  \n",
       "4                       37.70  protein_coding               Y  "
      ]
     },
     "execution_count": 2,
     "metadata": {},
     "output_type": "execute_result"
    }
   ],
   "source": [
    "genes = pd.read_csv('../../_m/genes/diffExpr_maleVfemale_full.txt', sep='\\t')\n",
    "genes = genes[(genes['adj.P.Val'] < 0.05)].sort_values('adj.P.Val')\n",
    "genes.head()"
   ]
  },
  {
   "cell_type": "code",
   "execution_count": 3,
   "metadata": {},
   "outputs": [],
   "source": [
    "genes.sort_values('adj.P.Val').to_csv('chromosome_DEG.csv', index=False, header=True)"
   ]
  },
  {
   "cell_type": "markdown",
   "metadata": {},
   "source": [
    "## DE summary"
   ]
  },
  {
   "cell_type": "markdown",
   "metadata": {},
   "source": [
    "### DE (feature)"
   ]
  },
  {
   "cell_type": "code",
   "execution_count": 4,
   "metadata": {},
   "outputs": [
    {
     "name": "stdout",
     "output_type": "stream",
     "text": [
      "\n",
      "Gene:\t\t144\n"
     ]
    }
   ],
   "source": [
    "gg = len(set(genes['gene_id']))\n",
    "\n",
    "print(\"\\nGene:\\t\\t%d\" % (gg)) "
   ]
  },
  {
   "cell_type": "markdown",
   "metadata": {},
   "source": [
    "### Feature effect size summary"
   ]
  },
  {
   "cell_type": "code",
   "execution_count": 5,
   "metadata": {},
   "outputs": [
    {
     "name": "stdout",
     "output_type": "stream",
     "text": [
      "\n",
      "There are 38 unique Genes with abs(log2FC) >= 0.5\n",
      "There are 22 unique Genes with abs(log2FC) >= 1\n"
     ]
    }
   ],
   "source": [
    "feature_list = ['Genes', 'Transcript', 'Exons', 'Junctions']\n",
    "feature_df = [genes]\n",
    "ii = 0\n",
    "\n",
    "ff = feature_df[ii]\n",
    "half = len(set(ff[(np.abs(ff['logFC']) >= 0.5)].gene_id))\n",
    "one = len(set(ff[(np.abs(ff['logFC']) >= 1)].gene_id))\n",
    "print(\"\\nThere are %d unique %s with abs(log2FC) >= 0.5\" % (half, feature_list[ii]))\n",
    "print(\"There are %d unique %s with abs(log2FC) >= 1\" % (one, feature_list[ii]))"
   ]
  },
  {
   "cell_type": "markdown",
   "metadata": {},
   "source": [
    "## Autosomal only"
   ]
  },
  {
   "cell_type": "code",
   "execution_count": 6,
   "metadata": {},
   "outputs": [
    {
     "data": {
      "text/html": [
       "<div>\n",
       "<style scoped>\n",
       "    .dataframe tbody tr th:only-of-type {\n",
       "        vertical-align: middle;\n",
       "    }\n",
       "\n",
       "    .dataframe tbody tr th {\n",
       "        vertical-align: top;\n",
       "    }\n",
       "\n",
       "    .dataframe thead th {\n",
       "        text-align: right;\n",
       "    }\n",
       "</style>\n",
       "<table border=\"1\" class=\"dataframe\">\n",
       "  <thead>\n",
       "    <tr style=\"text-align: right;\">\n",
       "      <th></th>\n",
       "      <th>gene_id</th>\n",
       "      <th>chr</th>\n",
       "      <th>gene_name</th>\n",
       "      <th>logFC</th>\n",
       "      <th>adj.P.Val</th>\n",
       "    </tr>\n",
       "  </thead>\n",
       "  <tbody>\n",
       "    <tr>\n",
       "      <th>42</th>\n",
       "      <td>ENSG00000255346.9</td>\n",
       "      <td>15</td>\n",
       "      <td>NOX5</td>\n",
       "      <td>0.789715</td>\n",
       "      <td>3.651864e-15</td>\n",
       "    </tr>\n",
       "    <tr>\n",
       "      <th>43</th>\n",
       "      <td>ENSG00000205611.4</td>\n",
       "      <td>20</td>\n",
       "      <td>LINC01597</td>\n",
       "      <td>0.784891</td>\n",
       "      <td>4.747301e-15</td>\n",
       "    </tr>\n",
       "    <tr>\n",
       "      <th>44</th>\n",
       "      <td>ENSG00000258484.3</td>\n",
       "      <td>15</td>\n",
       "      <td>SPESP1</td>\n",
       "      <td>0.676286</td>\n",
       "      <td>7.799322e-14</td>\n",
       "    </tr>\n",
       "    <tr>\n",
       "      <th>45</th>\n",
       "      <td>ENSG00000261600.1</td>\n",
       "      <td>2</td>\n",
       "      <td>NaN</td>\n",
       "      <td>-0.806550</td>\n",
       "      <td>1.521189e-12</td>\n",
       "    </tr>\n",
       "    <tr>\n",
       "      <th>47</th>\n",
       "      <td>ENSG00000237268.2</td>\n",
       "      <td>7</td>\n",
       "      <td>NaN</td>\n",
       "      <td>-1.015530</td>\n",
       "      <td>1.158998e-11</td>\n",
       "    </tr>\n",
       "  </tbody>\n",
       "</table>\n",
       "</div>"
      ],
      "text/plain": [
       "              gene_id chr  gene_name     logFC     adj.P.Val\n",
       "42  ENSG00000255346.9  15       NOX5  0.789715  3.651864e-15\n",
       "43  ENSG00000205611.4  20  LINC01597  0.784891  4.747301e-15\n",
       "44  ENSG00000258484.3  15     SPESP1  0.676286  7.799322e-14\n",
       "45  ENSG00000261600.1   2        NaN -0.806550  1.521189e-12\n",
       "47  ENSG00000237268.2   7        NaN -1.015530  1.158998e-11"
      ]
     },
     "execution_count": 6,
     "metadata": {},
     "output_type": "execute_result"
    }
   ],
   "source": [
    "genes.chromosome_name.fillna('?', inplace=True)\n",
    "\n",
    "auto = genes[(genes.chromosome_name.str.contains('\\d+'))].copy()\\\n",
    "        .rename(columns={'chromosome_name': 'chr', 'hgnc_symbol': 'gene_name'})\n",
    "auto = auto[['gene_id', 'chr', 'gene_name', 'logFC', 'adj.P.Val']]\n",
    "auto.head()"
   ]
  },
  {
   "cell_type": "code",
   "execution_count": 7,
   "metadata": {},
   "outputs": [],
   "source": [
    "auto.sort_values('adj.P.Val').to_csv('autosomal_DEG.csv', index=False, header=True)"
   ]
  },
  {
   "cell_type": "markdown",
   "metadata": {},
   "source": [
    "## DE summary"
   ]
  },
  {
   "cell_type": "markdown",
   "metadata": {},
   "source": [
    "### DE (feature)"
   ]
  },
  {
   "cell_type": "code",
   "execution_count": 8,
   "metadata": {},
   "outputs": [
    {
     "name": "stdout",
     "output_type": "stream",
     "text": [
      "\n",
      "Gene:\t\t78\n"
     ]
    }
   ],
   "source": [
    "gg = len(set(auto['gene_id']))\n",
    "\n",
    "print(\"\\nGene:\\t\\t%d\" % (gg)) "
   ]
  },
  {
   "cell_type": "markdown",
   "metadata": {},
   "source": [
    "### Feature effect size summary"
   ]
  },
  {
   "cell_type": "code",
   "execution_count": 9,
   "metadata": {},
   "outputs": [
    {
     "name": "stdout",
     "output_type": "stream",
     "text": [
      "\n",
      "There are 10 unique Genes with abs(log2FC) >= 0.5\n",
      "There are 1 unique Genes with abs(log2FC) >= 1\n"
     ]
    }
   ],
   "source": [
    "feature_list = ['Genes', 'Transcript', 'Exons', 'Junctions']\n",
    "feature_df = [auto]\n",
    "ii = 0\n",
    "\n",
    "ff = feature_df[ii]\n",
    "half = len(set(ff[(np.abs(ff['logFC']) >= 0.5)].gene_id))\n",
    "one = len(set(ff[(np.abs(ff['logFC']) >= 1)].gene_id))\n",
    "print(\"\\nThere are %d unique %s with abs(log2FC) >= 0.5\" % (half, feature_list[ii]))\n",
    "print(\"There are %d unique %s with abs(log2FC) >= 1\" % (one, feature_list[ii]))"
   ]
  },
  {
   "cell_type": "code",
   "execution_count": null,
   "metadata": {},
   "outputs": [],
   "source": []
  }
 ],
 "metadata": {
  "kernelspec": {
   "display_name": "Python 3",
   "language": "python",
   "name": "python3"
  },
  "language_info": {
   "codemirror_mode": {
    "name": "ipython",
    "version": 3
   },
   "file_extension": ".py",
   "mimetype": "text/x-python",
   "name": "python",
   "nbconvert_exporter": "python",
   "pygments_lexer": "ipython3",
   "version": "3.9.1"
  }
 },
 "nbformat": 4,
 "nbformat_minor": 4
}
