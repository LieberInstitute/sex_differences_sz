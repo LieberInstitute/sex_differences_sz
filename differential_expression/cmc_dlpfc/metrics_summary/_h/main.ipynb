{
 "cells": [
  {
   "cell_type": "markdown",
   "metadata": {},
   "source": [
    "# Feature summary analysis"
   ]
  },
  {
   "cell_type": "code",
   "execution_count": 1,
   "metadata": {},
   "outputs": [],
   "source": [
    "import numpy as np\n",
    "import pandas as pd"
   ]
  },
  {
   "cell_type": "markdown",
   "metadata": {},
   "source": [
    "## Summary plots"
   ]
  },
  {
   "cell_type": "markdown",
   "metadata": {},
   "source": [
    "### MSSM Penn Pitt"
   ]
  },
  {
   "cell_type": "code",
   "execution_count": 2,
   "metadata": {},
   "outputs": [
    {
     "data": {
      "text/html": [
       "<div>\n",
       "<style scoped>\n",
       "    .dataframe tbody tr th:only-of-type {\n",
       "        vertical-align: middle;\n",
       "    }\n",
       "\n",
       "    .dataframe tbody tr th {\n",
       "        vertical-align: top;\n",
       "    }\n",
       "\n",
       "    .dataframe thead th {\n",
       "        text-align: right;\n",
       "    }\n",
       "</style>\n",
       "<table border=\"1\" class=\"dataframe\">\n",
       "  <thead>\n",
       "    <tr style=\"text-align: right;\">\n",
       "      <th></th>\n",
       "      <th>Geneid</th>\n",
       "      <th>logFC</th>\n",
       "      <th>AveExpr</th>\n",
       "      <th>t</th>\n",
       "      <th>P.Value</th>\n",
       "      <th>adj.P.Val</th>\n",
       "      <th>B</th>\n",
       "      <th>Coef</th>\n",
       "      <th>Symbol</th>\n",
       "      <th>Entrez</th>\n",
       "      <th>Chrom</th>\n",
       "    </tr>\n",
       "  </thead>\n",
       "  <tbody>\n",
       "    <tr>\n",
       "      <th>0</th>\n",
       "      <td>ENSG00000241859.7</td>\n",
       "      <td>7.426322</td>\n",
       "      <td>0.211930</td>\n",
       "      <td>106.905258</td>\n",
       "      <td>0.0</td>\n",
       "      <td>0.0</td>\n",
       "      <td>794.024282</td>\n",
       "      <td>Reported_GenderMale</td>\n",
       "      <td>ANOS2P</td>\n",
       "      <td>NaN</td>\n",
       "      <td>Y</td>\n",
       "    </tr>\n",
       "    <tr>\n",
       "      <th>1</th>\n",
       "      <td>ENSG00000206159.11</td>\n",
       "      <td>6.829826</td>\n",
       "      <td>-0.454650</td>\n",
       "      <td>101.687435</td>\n",
       "      <td>0.0</td>\n",
       "      <td>0.0</td>\n",
       "      <td>769.944857</td>\n",
       "      <td>Reported_GenderMale</td>\n",
       "      <td>GYG2P1</td>\n",
       "      <td>NaN</td>\n",
       "      <td>Y</td>\n",
       "    </tr>\n",
       "    <tr>\n",
       "      <th>2</th>\n",
       "      <td>ENSG00000183878.15</td>\n",
       "      <td>8.566599</td>\n",
       "      <td>2.821199</td>\n",
       "      <td>96.624132</td>\n",
       "      <td>0.0</td>\n",
       "      <td>0.0</td>\n",
       "      <td>747.659203</td>\n",
       "      <td>Reported_GenderMale</td>\n",
       "      <td>UTY</td>\n",
       "      <td>7404.0</td>\n",
       "      <td>Y</td>\n",
       "    </tr>\n",
       "    <tr>\n",
       "      <th>3</th>\n",
       "      <td>ENSG00000099725.14</td>\n",
       "      <td>7.234079</td>\n",
       "      <td>0.094070</td>\n",
       "      <td>96.796064</td>\n",
       "      <td>0.0</td>\n",
       "      <td>0.0</td>\n",
       "      <td>747.089270</td>\n",
       "      <td>Reported_GenderMale</td>\n",
       "      <td>PRKY</td>\n",
       "      <td>NaN</td>\n",
       "      <td>Y</td>\n",
       "    </tr>\n",
       "    <tr>\n",
       "      <th>4</th>\n",
       "      <td>ENSG00000215580.11</td>\n",
       "      <td>6.602361</td>\n",
       "      <td>-0.667862</td>\n",
       "      <td>95.449115</td>\n",
       "      <td>0.0</td>\n",
       "      <td>0.0</td>\n",
       "      <td>739.995713</td>\n",
       "      <td>Reported_GenderMale</td>\n",
       "      <td>BCORP1</td>\n",
       "      <td>NaN</td>\n",
       "      <td>Y</td>\n",
       "    </tr>\n",
       "  </tbody>\n",
       "</table>\n",
       "</div>"
      ],
      "text/plain": [
       "               Geneid     logFC   AveExpr           t  P.Value  adj.P.Val  \\\n",
       "0   ENSG00000241859.7  7.426322  0.211930  106.905258      0.0        0.0   \n",
       "1  ENSG00000206159.11  6.829826 -0.454650  101.687435      0.0        0.0   \n",
       "2  ENSG00000183878.15  8.566599  2.821199   96.624132      0.0        0.0   \n",
       "3  ENSG00000099725.14  7.234079  0.094070   96.796064      0.0        0.0   \n",
       "4  ENSG00000215580.11  6.602361 -0.667862   95.449115      0.0        0.0   \n",
       "\n",
       "            B                 Coef  Symbol  Entrez Chrom  \n",
       "0  794.024282  Reported_GenderMale  ANOS2P     NaN     Y  \n",
       "1  769.944857  Reported_GenderMale  GYG2P1     NaN     Y  \n",
       "2  747.659203  Reported_GenderMale     UTY  7404.0     Y  \n",
       "3  747.089270  Reported_GenderMale    PRKY     NaN     Y  \n",
       "4  739.995713  Reported_GenderMale  BCORP1     NaN     Y  "
      ]
     },
     "execution_count": 2,
     "metadata": {},
     "output_type": "execute_result"
    }
   ],
   "source": [
    "mpp = pd.read_csv('../../_m/mssm_penn_pitt_maleVfemale.tsv', sep='\\t')\n",
    "mpp = mpp[(mpp['adj.P.Val'] < 0.05)].sort_values('adj.P.Val')\n",
    "mpp.head()"
   ]
  },
  {
   "cell_type": "markdown",
   "metadata": {},
   "source": [
    "### NIMH HBCC"
   ]
  },
  {
   "cell_type": "code",
   "execution_count": 3,
   "metadata": {},
   "outputs": [
    {
     "data": {
      "text/html": [
       "<div>\n",
       "<style scoped>\n",
       "    .dataframe tbody tr th:only-of-type {\n",
       "        vertical-align: middle;\n",
       "    }\n",
       "\n",
       "    .dataframe tbody tr th {\n",
       "        vertical-align: top;\n",
       "    }\n",
       "\n",
       "    .dataframe thead th {\n",
       "        text-align: right;\n",
       "    }\n",
       "</style>\n",
       "<table border=\"1\" class=\"dataframe\">\n",
       "  <thead>\n",
       "    <tr style=\"text-align: right;\">\n",
       "      <th></th>\n",
       "      <th>Geneid</th>\n",
       "      <th>logFC</th>\n",
       "      <th>AveExpr</th>\n",
       "      <th>t</th>\n",
       "      <th>P.Value</th>\n",
       "      <th>adj.P.Val</th>\n",
       "      <th>B</th>\n",
       "      <th>Coef</th>\n",
       "      <th>Symbol</th>\n",
       "      <th>Entrez</th>\n",
       "      <th>Chrom</th>\n",
       "    </tr>\n",
       "  </thead>\n",
       "  <tbody>\n",
       "    <tr>\n",
       "      <th>0</th>\n",
       "      <td>ENSG00000229807.11</td>\n",
       "      <td>-11.504527</td>\n",
       "      <td>1.451875</td>\n",
       "      <td>-158.907479</td>\n",
       "      <td>9.677013e-244</td>\n",
       "      <td>1.849374e-239</td>\n",
       "      <td>541.117577</td>\n",
       "      <td>Reported_GenderMale</td>\n",
       "      <td>XIST</td>\n",
       "      <td>NaN</td>\n",
       "      <td>X</td>\n",
       "    </tr>\n",
       "    <tr>\n",
       "      <th>1</th>\n",
       "      <td>ENSG00000241859.7</td>\n",
       "      <td>8.165803</td>\n",
       "      <td>0.195418</td>\n",
       "      <td>98.530405</td>\n",
       "      <td>4.690014e-195</td>\n",
       "      <td>4.481543e-191</td>\n",
       "      <td>425.604156</td>\n",
       "      <td>Reported_GenderMale</td>\n",
       "      <td>ANOS2P</td>\n",
       "      <td>NaN</td>\n",
       "      <td>Y</td>\n",
       "    </tr>\n",
       "    <tr>\n",
       "      <th>2</th>\n",
       "      <td>ENSG00000206159.11</td>\n",
       "      <td>7.594584</td>\n",
       "      <td>-0.185954</td>\n",
       "      <td>92.012611</td>\n",
       "      <td>3.727481e-188</td>\n",
       "      <td>2.374530e-184</td>\n",
       "      <td>411.071479</td>\n",
       "      <td>Reported_GenderMale</td>\n",
       "      <td>GYG2P1</td>\n",
       "      <td>NaN</td>\n",
       "      <td>Y</td>\n",
       "    </tr>\n",
       "    <tr>\n",
       "      <th>4</th>\n",
       "      <td>ENSG00000215580.11</td>\n",
       "      <td>6.980341</td>\n",
       "      <td>-0.607569</td>\n",
       "      <td>89.120159</td>\n",
       "      <td>6.068671e-185</td>\n",
       "      <td>2.899459e-181</td>\n",
       "      <td>404.120608</td>\n",
       "      <td>Reported_GenderMale</td>\n",
       "      <td>BCORP1</td>\n",
       "      <td>NaN</td>\n",
       "      <td>Y</td>\n",
       "    </tr>\n",
       "    <tr>\n",
       "      <th>3</th>\n",
       "      <td>ENSG00000067646.12</td>\n",
       "      <td>9.872471</td>\n",
       "      <td>2.014148</td>\n",
       "      <td>88.829183</td>\n",
       "      <td>1.293023e-184</td>\n",
       "      <td>4.942193e-181</td>\n",
       "      <td>404.158301</td>\n",
       "      <td>Reported_GenderMale</td>\n",
       "      <td>ZFY</td>\n",
       "      <td>7544.0</td>\n",
       "      <td>Y</td>\n",
       "    </tr>\n",
       "  </tbody>\n",
       "</table>\n",
       "</div>"
      ],
      "text/plain": [
       "               Geneid      logFC   AveExpr           t        P.Value  \\\n",
       "0  ENSG00000229807.11 -11.504527  1.451875 -158.907479  9.677013e-244   \n",
       "1   ENSG00000241859.7   8.165803  0.195418   98.530405  4.690014e-195   \n",
       "2  ENSG00000206159.11   7.594584 -0.185954   92.012611  3.727481e-188   \n",
       "4  ENSG00000215580.11   6.980341 -0.607569   89.120159  6.068671e-185   \n",
       "3  ENSG00000067646.12   9.872471  2.014148   88.829183  1.293023e-184   \n",
       "\n",
       "       adj.P.Val           B                 Coef  Symbol  Entrez Chrom  \n",
       "0  1.849374e-239  541.117577  Reported_GenderMale    XIST     NaN     X  \n",
       "1  4.481543e-191  425.604156  Reported_GenderMale  ANOS2P     NaN     Y  \n",
       "2  2.374530e-184  411.071479  Reported_GenderMale  GYG2P1     NaN     Y  \n",
       "4  2.899459e-181  404.120608  Reported_GenderMale  BCORP1     NaN     Y  \n",
       "3  4.942193e-181  404.158301  Reported_GenderMale     ZFY  7544.0     Y  "
      ]
     },
     "execution_count": 3,
     "metadata": {},
     "output_type": "execute_result"
    }
   ],
   "source": [
    "hbcc = pd.read_csv('../../_m/nimh_hbcc_maleVfemale.tsv', sep='\\t')\n",
    "hbcc = hbcc[(hbcc['adj.P.Val'] < 0.05)].sort_values('adj.P.Val')\n",
    "hbcc.head()"
   ]
  },
  {
   "cell_type": "markdown",
   "metadata": {},
   "source": [
    "## DE summary"
   ]
  },
  {
   "cell_type": "markdown",
   "metadata": {},
   "source": [
    "### DE (feature)"
   ]
  },
  {
   "cell_type": "code",
   "execution_count": 5,
   "metadata": {},
   "outputs": [
    {
     "name": "stdout",
     "output_type": "stream",
     "text": [
      "Gene MPP:\t\t482\n",
      "Gene HBCC:\t\t148\n"
     ]
    }
   ],
   "source": [
    "gg1 = len(set(mpp['Geneid']))\n",
    "gg2 = len(set(hbcc['Geneid']))\n",
    "\n",
    "print(\"Gene MPP:\\t%d\\nGene HBCC:\\t%d\" % (gg1, gg2)) "
   ]
  },
  {
   "cell_type": "markdown",
   "metadata": {},
   "source": [
    "### Feature effect size summary"
   ]
  },
  {
   "cell_type": "code",
   "execution_count": 8,
   "metadata": {},
   "outputs": [
    {
     "name": "stdout",
     "output_type": "stream",
     "text": [
      "\n",
      "There are 36 unique Genes: MPP with abs(log2FC) >= 0.5\n",
      "There are 25 unique Genes: MPP with abs(log2FC) >= 1\n",
      "\n",
      "There are 40 unique Genes: HBCC with abs(log2FC) >= 0.5\n",
      "There are 27 unique Genes: HBCC with abs(log2FC) >= 1\n"
     ]
    }
   ],
   "source": [
    "feature_list = ['Genes: MPP', 'Genes: HBCC', 'Exons', 'Junctions']\n",
    "feature_df = [mpp, hbcc]\n",
    "ii = 0\n",
    "\n",
    "for ii in [0,1]:\n",
    "    ff = feature_df[ii]\n",
    "    half = len(set(ff[(np.abs(ff['logFC']) >= 0.5)].Geneid))\n",
    "    one = len(set(ff[(np.abs(ff['logFC']) >= 1)].Geneid))\n",
    "    print(\"\\nThere are %d unique %s with abs(log2FC) >= 0.5\" % (half, feature_list[ii]))\n",
    "    print(\"There are %d unique %s with abs(log2FC) >= 1\" % (one, feature_list[ii]))"
   ]
  },
  {
   "cell_type": "markdown",
   "metadata": {},
   "source": [
    "## Autosomal only"
   ]
  },
  {
   "cell_type": "code",
   "execution_count": 11,
   "metadata": {},
   "outputs": [
    {
     "name": "stdout",
     "output_type": "stream",
     "text": [
      "(418, 5)\n"
     ]
    },
    {
     "data": {
      "text/html": [
       "<div>\n",
       "<style scoped>\n",
       "    .dataframe tbody tr th:only-of-type {\n",
       "        vertical-align: middle;\n",
       "    }\n",
       "\n",
       "    .dataframe tbody tr th {\n",
       "        vertical-align: top;\n",
       "    }\n",
       "\n",
       "    .dataframe thead th {\n",
       "        text-align: right;\n",
       "    }\n",
       "</style>\n",
       "<table border=\"1\" class=\"dataframe\">\n",
       "  <thead>\n",
       "    <tr style=\"text-align: right;\">\n",
       "      <th></th>\n",
       "      <th>gene_id</th>\n",
       "      <th>Chrom</th>\n",
       "      <th>Symbol</th>\n",
       "      <th>logFC</th>\n",
       "      <th>adj.P.Val</th>\n",
       "    </tr>\n",
       "  </thead>\n",
       "  <tbody>\n",
       "    <tr>\n",
       "      <th>33</th>\n",
       "      <td>ENSG00000205611.4</td>\n",
       "      <td>20</td>\n",
       "      <td>LINC01597</td>\n",
       "      <td>0.977532</td>\n",
       "      <td>3.625963e-25</td>\n",
       "    </tr>\n",
       "    <tr>\n",
       "      <th>35</th>\n",
       "      <td>ENSG00000255346.10</td>\n",
       "      <td>15</td>\n",
       "      <td>NOX5</td>\n",
       "      <td>0.964489</td>\n",
       "      <td>8.867594e-22</td>\n",
       "    </tr>\n",
       "    <tr>\n",
       "      <th>38</th>\n",
       "      <td>ENSG00000283443.1</td>\n",
       "      <td>20</td>\n",
       "      <td>AC018688.1</td>\n",
       "      <td>0.879612</td>\n",
       "      <td>8.234590e-18</td>\n",
       "    </tr>\n",
       "    <tr>\n",
       "      <th>39</th>\n",
       "      <td>ENSG00000258484.4</td>\n",
       "      <td>15</td>\n",
       "      <td>SPESP1</td>\n",
       "      <td>0.701390</td>\n",
       "      <td>3.003091e-17</td>\n",
       "    </tr>\n",
       "    <tr>\n",
       "      <th>41</th>\n",
       "      <td>ENSG00000149531.15</td>\n",
       "      <td>20</td>\n",
       "      <td>FRG1BP</td>\n",
       "      <td>0.528819</td>\n",
       "      <td>6.561622e-13</td>\n",
       "    </tr>\n",
       "  </tbody>\n",
       "</table>\n",
       "</div>"
      ],
      "text/plain": [
       "               gene_id Chrom      Symbol     logFC     adj.P.Val\n",
       "33   ENSG00000205611.4    20   LINC01597  0.977532  3.625963e-25\n",
       "35  ENSG00000255346.10    15        NOX5  0.964489  8.867594e-22\n",
       "38   ENSG00000283443.1    20  AC018688.1  0.879612  8.234590e-18\n",
       "39   ENSG00000258484.4    15      SPESP1  0.701390  3.003091e-17\n",
       "41  ENSG00000149531.15    20      FRG1BP  0.528819  6.561622e-13"
      ]
     },
     "execution_count": 11,
     "metadata": {},
     "output_type": "execute_result"
    }
   ],
   "source": [
    "mpp.Chrom.fillna('?', inplace=True)\n",
    "auto1 = mpp[(mpp.Chrom.str.contains('\\d+'))].copy()\\\n",
    "        .rename(columns={'Geneid': 'gene_id'})\n",
    "auto1 = auto1[['gene_id', 'Chrom', 'Symbol', 'logFC', 'adj.P.Val']]\n",
    "print(auto1.shape)\n",
    "auto1.head()"
   ]
  },
  {
   "cell_type": "code",
   "execution_count": 7,
   "metadata": {},
   "outputs": [],
   "source": [
    "auto1.sort_values('adj.P.Val').to_csv('autosomal_DEG_mpp.csv', index=False, header=True)"
   ]
  },
  {
   "cell_type": "code",
   "execution_count": 13,
   "metadata": {},
   "outputs": [
    {
     "name": "stdout",
     "output_type": "stream",
     "text": [
      "(98, 5)\n"
     ]
    },
    {
     "data": {
      "text/html": [
       "<div>\n",
       "<style scoped>\n",
       "    .dataframe tbody tr th:only-of-type {\n",
       "        vertical-align: middle;\n",
       "    }\n",
       "\n",
       "    .dataframe tbody tr th {\n",
       "        vertical-align: top;\n",
       "    }\n",
       "\n",
       "    .dataframe thead th {\n",
       "        text-align: right;\n",
       "    }\n",
       "</style>\n",
       "<table border=\"1\" class=\"dataframe\">\n",
       "  <thead>\n",
       "    <tr style=\"text-align: right;\">\n",
       "      <th></th>\n",
       "      <th>gene_id</th>\n",
       "      <th>Chrom</th>\n",
       "      <th>Symbol</th>\n",
       "      <th>logFC</th>\n",
       "      <th>adj.P.Val</th>\n",
       "    </tr>\n",
       "  </thead>\n",
       "  <tbody>\n",
       "    <tr>\n",
       "      <th>35</th>\n",
       "      <td>ENSG00000095932.6</td>\n",
       "      <td>19</td>\n",
       "      <td>SMIM24</td>\n",
       "      <td>-0.813149</td>\n",
       "      <td>9.014157e-15</td>\n",
       "    </tr>\n",
       "    <tr>\n",
       "      <th>37</th>\n",
       "      <td>ENSG00000149531.15</td>\n",
       "      <td>20</td>\n",
       "      <td>FRG1BP</td>\n",
       "      <td>0.739522</td>\n",
       "      <td>6.859297e-12</td>\n",
       "    </tr>\n",
       "    <tr>\n",
       "      <th>41</th>\n",
       "      <td>ENSG00000283443.1</td>\n",
       "      <td>20</td>\n",
       "      <td>AC018688.1</td>\n",
       "      <td>1.149979</td>\n",
       "      <td>2.357916e-09</td>\n",
       "    </tr>\n",
       "    <tr>\n",
       "      <th>42</th>\n",
       "      <td>ENSG00000205611.4</td>\n",
       "      <td>20</td>\n",
       "      <td>LINC01597</td>\n",
       "      <td>1.015293</td>\n",
       "      <td>8.239587e-09</td>\n",
       "    </tr>\n",
       "    <tr>\n",
       "      <th>43</th>\n",
       "      <td>ENSG00000258484.4</td>\n",
       "      <td>15</td>\n",
       "      <td>SPESP1</td>\n",
       "      <td>0.776058</td>\n",
       "      <td>1.221874e-08</td>\n",
       "    </tr>\n",
       "  </tbody>\n",
       "</table>\n",
       "</div>"
      ],
      "text/plain": [
       "               gene_id Chrom      Symbol     logFC     adj.P.Val\n",
       "35   ENSG00000095932.6    19      SMIM24 -0.813149  9.014157e-15\n",
       "37  ENSG00000149531.15    20      FRG1BP  0.739522  6.859297e-12\n",
       "41   ENSG00000283443.1    20  AC018688.1  1.149979  2.357916e-09\n",
       "42   ENSG00000205611.4    20   LINC01597  1.015293  8.239587e-09\n",
       "43   ENSG00000258484.4    15      SPESP1  0.776058  1.221874e-08"
      ]
     },
     "execution_count": 13,
     "metadata": {},
     "output_type": "execute_result"
    }
   ],
   "source": [
    "hbcc.Chrom.fillna('?', inplace=True)\n",
    "auto2 = hbcc[(hbcc.Chrom.str.contains('\\d+'))].copy()\\\n",
    "        .rename(columns={'Geneid': 'gene_id'})\n",
    "auto2 = auto2[['gene_id', 'Chrom', 'Symbol', 'logFC', 'adj.P.Val']]\n",
    "print(auto2.shape)\n",
    "auto2.head()"
   ]
  },
  {
   "cell_type": "code",
   "execution_count": 7,
   "metadata": {},
   "outputs": [],
   "source": [
    "auto2.sort_values('adj.P.Val').to_csv('autosomal_DEG_hbcc.csv', index=False, header=True)"
   ]
  },
  {
   "cell_type": "markdown",
   "metadata": {},
   "source": [
    "## DE summary"
   ]
  },
  {
   "cell_type": "markdown",
   "metadata": {},
   "source": [
    "### DE (feature)"
   ]
  },
  {
   "cell_type": "code",
   "execution_count": 15,
   "metadata": {},
   "outputs": [
    {
     "name": "stdout",
     "output_type": "stream",
     "text": [
      "Gene MPP:\t418\n",
      "Gene HBCC:\t98\n"
     ]
    }
   ],
   "source": [
    "gg1 = len(set(auto1['gene_id']))\n",
    "gg2 = len(set(auto2['gene_id']))\n",
    "\n",
    "print(\"Gene MPP:\\t%d\\nGene HBCC:\\t%d\" % (gg1, gg2))"
   ]
  },
  {
   "cell_type": "markdown",
   "metadata": {},
   "source": [
    "### Feature effect size summary"
   ]
  },
  {
   "cell_type": "code",
   "execution_count": 17,
   "metadata": {},
   "outputs": [
    {
     "name": "stdout",
     "output_type": "stream",
     "text": [
      "\n",
      "There are 8 unique Genes: MPP with abs(log2FC) >= 0.5\n",
      "There are 0 unique Genes: MPP with abs(log2FC) >= 1\n",
      "\n",
      "There are 12 unique Genes: HBCC with abs(log2FC) >= 0.5\n",
      "There are 2 unique Genes: HBCC with abs(log2FC) >= 1\n"
     ]
    }
   ],
   "source": [
    "feature_list = ['Genes: MPP', 'Genes: HBCC', 'Exons', 'Junctions']\n",
    "feature_df = [auto1, auto2]\n",
    "ii = 0\n",
    "\n",
    "for ii in [0,1]:\n",
    "    ff = feature_df[ii]\n",
    "    half = len(set(ff[(np.abs(ff['logFC']) >= 0.5)].gene_id))\n",
    "    one = len(set(ff[(np.abs(ff['logFC']) >= 1)].gene_id))\n",
    "    print(\"\\nThere are %d unique %s with abs(log2FC) >= 0.5\" % (half, feature_list[ii]))\n",
    "    print(\"There are %d unique %s with abs(log2FC) >= 1\" % (one, feature_list[ii]))"
   ]
  },
  {
   "cell_type": "code",
   "execution_count": null,
   "metadata": {},
   "outputs": [],
   "source": []
  }
 ],
 "metadata": {
  "kernelspec": {
   "display_name": "Python 3",
   "language": "python",
   "name": "python3"
  },
  "language_info": {
   "codemirror_mode": {
    "name": "ipython",
    "version": 3
   },
   "file_extension": ".py",
   "mimetype": "text/x-python",
   "name": "python",
   "nbconvert_exporter": "python",
   "pygments_lexer": "ipython3",
   "version": "3.9.1"
  }
 },
 "nbformat": 4,
 "nbformat_minor": 4
}
