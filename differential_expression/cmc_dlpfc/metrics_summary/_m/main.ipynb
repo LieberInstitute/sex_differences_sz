{
 "cells": [
  {
   "cell_type": "markdown",
   "metadata": {},
   "source": [
    "# Feature summary analysis"
   ]
  },
  {
   "cell_type": "code",
   "execution_count": 1,
   "metadata": {
    "execution": {
     "iopub.execute_input": "2021-07-10T15:01:15.689144Z",
     "iopub.status.busy": "2021-07-10T15:01:15.687787Z",
     "iopub.status.idle": "2021-07-10T15:01:16.075948Z",
     "shell.execute_reply": "2021-07-10T15:01:16.075017Z"
    }
   },
   "outputs": [],
   "source": [
    "import numpy as np\n",
    "import pandas as pd"
   ]
  },
  {
   "cell_type": "markdown",
   "metadata": {},
   "source": [
    "## Summary plots"
   ]
  },
  {
   "cell_type": "markdown",
   "metadata": {},
   "source": [
    "### Genes"
   ]
  },
  {
   "cell_type": "code",
   "execution_count": 2,
   "metadata": {
    "execution": {
     "iopub.execute_input": "2021-07-10T15:01:16.082365Z",
     "iopub.status.busy": "2021-07-10T15:01:16.081554Z",
     "iopub.status.idle": "2021-07-10T15:01:16.185845Z",
     "shell.execute_reply": "2021-07-10T15:01:16.186424Z"
    }
   },
   "outputs": [
    {
     "data": {
      "text/html": [
       "<div>\n",
       "<style scoped>\n",
       "    .dataframe tbody tr th:only-of-type {\n",
       "        vertical-align: middle;\n",
       "    }\n",
       "\n",
       "    .dataframe tbody tr th {\n",
       "        vertical-align: top;\n",
       "    }\n",
       "\n",
       "    .dataframe thead th {\n",
       "        text-align: right;\n",
       "    }\n",
       "</style>\n",
       "<table border=\"1\" class=\"dataframe\">\n",
       "  <thead>\n",
       "    <tr style=\"text-align: right;\">\n",
       "      <th></th>\n",
       "      <th>gene_id</th>\n",
       "      <th>logFC</th>\n",
       "      <th>AveExpr</th>\n",
       "      <th>t</th>\n",
       "      <th>P.Value</th>\n",
       "      <th>adj.P.Val</th>\n",
       "      <th>z.std</th>\n",
       "      <th>ensembl_gene_id</th>\n",
       "      <th>position</th>\n",
       "      <th>Direction</th>\n",
       "      <th>hgnc_symbol</th>\n",
       "      <th>percentage_gene_gc_content</th>\n",
       "      <th>gene_biotype</th>\n",
       "      <th>chromosome_name</th>\n",
       "    </tr>\n",
       "  </thead>\n",
       "  <tbody>\n",
       "    <tr>\n",
       "      <th>0</th>\n",
       "      <td>ENSG00000174796.12</td>\n",
       "      <td>-0.142817</td>\n",
       "      <td>3.601461</td>\n",
       "      <td>-5.005702</td>\n",
       "      <td>7.696597e-07</td>\n",
       "      <td>0.01523</td>\n",
       "      <td>-4.942908</td>\n",
       "      <td>ENSG00000174796</td>\n",
       "      <td>12</td>\n",
       "      <td>DOWN</td>\n",
       "      <td>THAP6</td>\n",
       "      <td>40.52</td>\n",
       "      <td>protein_coding</td>\n",
       "      <td>4</td>\n",
       "    </tr>\n",
       "    <tr>\n",
       "      <th>14</th>\n",
       "      <td>ENSG00000034053.14</td>\n",
       "      <td>0.151370</td>\n",
       "      <td>7.379052</td>\n",
       "      <td>4.427216</td>\n",
       "      <td>1.180359e-05</td>\n",
       "      <td>0.01523</td>\n",
       "      <td>4.381184</td>\n",
       "      <td>ENSG00000034053</td>\n",
       "      <td>14</td>\n",
       "      <td>UP</td>\n",
       "      <td>APBA2</td>\n",
       "      <td>48.63</td>\n",
       "      <td>protein_coding</td>\n",
       "      <td>15</td>\n",
       "    </tr>\n",
       "    <tr>\n",
       "      <th>13</th>\n",
       "      <td>ENSG00000122435.9</td>\n",
       "      <td>-0.195373</td>\n",
       "      <td>3.526808</td>\n",
       "      <td>-4.453764</td>\n",
       "      <td>1.039225e-05</td>\n",
       "      <td>0.01523</td>\n",
       "      <td>-4.408847</td>\n",
       "      <td>ENSG00000122435</td>\n",
       "      <td>9</td>\n",
       "      <td>DOWN</td>\n",
       "      <td>TRMT13</td>\n",
       "      <td>35.80</td>\n",
       "      <td>protein_coding</td>\n",
       "      <td>1</td>\n",
       "    </tr>\n",
       "    <tr>\n",
       "      <th>12</th>\n",
       "      <td>ENSG00000188404.8</td>\n",
       "      <td>-0.473004</td>\n",
       "      <td>0.894959</td>\n",
       "      <td>-4.456125</td>\n",
       "      <td>1.032278e-05</td>\n",
       "      <td>0.01523</td>\n",
       "      <td>-4.410299</td>\n",
       "      <td>ENSG00000188404</td>\n",
       "      <td>8</td>\n",
       "      <td>DOWN</td>\n",
       "      <td>SELL</td>\n",
       "      <td>38.85</td>\n",
       "      <td>protein_coding</td>\n",
       "      <td>1</td>\n",
       "    </tr>\n",
       "    <tr>\n",
       "      <th>11</th>\n",
       "      <td>ENSG00000198818.9</td>\n",
       "      <td>-0.152785</td>\n",
       "      <td>3.979944</td>\n",
       "      <td>-4.478548</td>\n",
       "      <td>9.339884e-06</td>\n",
       "      <td>0.01523</td>\n",
       "      <td>-4.431917</td>\n",
       "      <td>ENSG00000198818</td>\n",
       "      <td>9</td>\n",
       "      <td>DOWN</td>\n",
       "      <td>SFT2D1</td>\n",
       "      <td>43.21</td>\n",
       "      <td>protein_coding</td>\n",
       "      <td>6</td>\n",
       "    </tr>\n",
       "  </tbody>\n",
       "</table>\n",
       "</div>"
      ],
      "text/plain": [
       "               gene_id     logFC   AveExpr         t       P.Value  adj.P.Val  \\\n",
       "0   ENSG00000174796.12 -0.142817  3.601461 -5.005702  7.696597e-07    0.01523   \n",
       "14  ENSG00000034053.14  0.151370  7.379052  4.427216  1.180359e-05    0.01523   \n",
       "13   ENSG00000122435.9 -0.195373  3.526808 -4.453764  1.039225e-05    0.01523   \n",
       "12   ENSG00000188404.8 -0.473004  0.894959 -4.456125  1.032278e-05    0.01523   \n",
       "11   ENSG00000198818.9 -0.152785  3.979944 -4.478548  9.339884e-06    0.01523   \n",
       "\n",
       "       z.std  ensembl_gene_id position Direction hgnc_symbol  \\\n",
       "0  -4.942908  ENSG00000174796       12      DOWN       THAP6   \n",
       "14  4.381184  ENSG00000034053       14        UP       APBA2   \n",
       "13 -4.408847  ENSG00000122435        9      DOWN      TRMT13   \n",
       "12 -4.410299  ENSG00000188404        8      DOWN        SELL   \n",
       "11 -4.431917  ENSG00000198818        9      DOWN      SFT2D1   \n",
       "\n",
       "    percentage_gene_gc_content    gene_biotype chromosome_name  \n",
       "0                        40.52  protein_coding               4  \n",
       "14                       48.63  protein_coding              15  \n",
       "13                       35.80  protein_coding               1  \n",
       "12                       38.85  protein_coding               1  \n",
       "11                       43.21  protein_coding               6  "
      ]
     },
     "execution_count": 1,
     "metadata": {},
     "output_type": "execute_result"
    }
   ],
   "source": [
    "genes = pd.read_csv('../../_m/genes/diffExpr_maleVfemale_full.txt', sep='\\t')\n",
    "genes = genes[(genes['adj.P.Val'] < 0.05)].sort_values('adj.P.Val')\n",
    "genes.head()"
   ]
  },
  {
   "cell_type": "code",
   "execution_count": 3,
   "metadata": {
    "execution": {
     "iopub.execute_input": "2021-07-10T15:01:16.192057Z",
     "iopub.status.busy": "2021-07-10T15:01:16.191220Z",
     "iopub.status.idle": "2021-07-10T15:01:16.213902Z",
     "shell.execute_reply": "2021-07-10T15:01:16.213188Z"
    }
   },
   "outputs": [],
   "source": [
    "genes.sort_values('adj.P.Val').to_csv('chromosome_DEG.csv', index=False, header=True)"
   ]
  },
  {
   "cell_type": "markdown",
   "metadata": {},
   "source": [
    "## DE summary"
   ]
  },
  {
   "cell_type": "markdown",
   "metadata": {},
   "source": [
    "### DE (feature)"
   ]
  },
  {
   "cell_type": "code",
   "execution_count": 4,
   "metadata": {
    "execution": {
     "iopub.execute_input": "2021-07-10T15:01:16.219332Z",
     "iopub.status.busy": "2021-07-10T15:01:16.218576Z",
     "iopub.status.idle": "2021-07-10T15:01:16.221458Z",
     "shell.execute_reply": "2021-07-10T15:01:16.222113Z"
    }
   },
   "outputs": [
    {
     "name": "stdout",
     "output_type": "stream",
     "text": [
      "\n",
      "Gene:\t\t1315\n"
     ]
    }
   ],
   "source": [
    "gg = len(set(genes['gene_id']))\n",
    "\n",
    "print(\"\\nGene:\\t\\t%d\" % (gg)) "
   ]
  },
  {
   "cell_type": "markdown",
   "metadata": {},
   "source": [
    "### Feature effect size summary"
   ]
  },
  {
   "cell_type": "code",
   "execution_count": 5,
   "metadata": {
    "execution": {
     "iopub.execute_input": "2021-07-10T15:01:16.231744Z",
     "iopub.status.busy": "2021-07-10T15:01:16.230896Z",
     "iopub.status.idle": "2021-07-10T15:01:16.233664Z",
     "shell.execute_reply": "2021-07-10T15:01:16.234285Z"
    }
   },
   "outputs": [
    {
     "name": "stdout",
     "output_type": "stream",
     "text": [
      "\n",
      "There are 7 unique Genes with abs(log2FC) >= 0.5\n",
      "There are 0 unique Genes with abs(log2FC) >= 1\n"
     ]
    }
   ],
   "source": [
    "feature_list = ['Genes', 'Transcript', 'Exons', 'Junctions']\n",
    "feature_df = [genes]\n",
    "ii = 0\n",
    "\n",
    "ff = feature_df[ii]\n",
    "half = len(set(ff[(np.abs(ff['logFC']) >= 0.5)].gene_id))\n",
    "one = len(set(ff[(np.abs(ff['logFC']) >= 1)].gene_id))\n",
    "print(\"\\nThere are %d unique %s with abs(log2FC) >= 0.5\" % (half, feature_list[ii]))\n",
    "print(\"There are %d unique %s with abs(log2FC) >= 1\" % (one, feature_list[ii]))"
   ]
  },
  {
   "cell_type": "markdown",
   "metadata": {},
   "source": [
    "## Autosomal only"
   ]
  },
  {
   "cell_type": "code",
   "execution_count": 6,
   "metadata": {
    "execution": {
     "iopub.execute_input": "2021-07-10T15:01:16.250871Z",
     "iopub.status.busy": "2021-07-10T15:01:16.242508Z",
     "iopub.status.idle": "2021-07-10T15:01:16.254833Z",
     "shell.execute_reply": "2021-07-10T15:01:16.255543Z"
    }
   },
   "outputs": [
    {
     "data": {
      "text/html": [
       "<div>\n",
       "<style scoped>\n",
       "    .dataframe tbody tr th:only-of-type {\n",
       "        vertical-align: middle;\n",
       "    }\n",
       "\n",
       "    .dataframe tbody tr th {\n",
       "        vertical-align: top;\n",
       "    }\n",
       "\n",
       "    .dataframe thead th {\n",
       "        text-align: right;\n",
       "    }\n",
       "</style>\n",
       "<table border=\"1\" class=\"dataframe\">\n",
       "  <thead>\n",
       "    <tr style=\"text-align: right;\">\n",
       "      <th></th>\n",
       "      <th>gene_id</th>\n",
       "      <th>chr</th>\n",
       "      <th>gene_name</th>\n",
       "      <th>logFC</th>\n",
       "      <th>adj.P.Val</th>\n",
       "    </tr>\n",
       "  </thead>\n",
       "  <tbody>\n",
       "    <tr>\n",
       "      <th>0</th>\n",
       "      <td>ENSG00000174796.12</td>\n",
       "      <td>4</td>\n",
       "      <td>THAP6</td>\n",
       "      <td>-0.142817</td>\n",
       "      <td>0.01523</td>\n",
       "    </tr>\n",
       "    <tr>\n",
       "      <th>14</th>\n",
       "      <td>ENSG00000034053.14</td>\n",
       "      <td>15</td>\n",
       "      <td>APBA2</td>\n",
       "      <td>0.151370</td>\n",
       "      <td>0.01523</td>\n",
       "    </tr>\n",
       "    <tr>\n",
       "      <th>13</th>\n",
       "      <td>ENSG00000122435.9</td>\n",
       "      <td>1</td>\n",
       "      <td>TRMT13</td>\n",
       "      <td>-0.195373</td>\n",
       "      <td>0.01523</td>\n",
       "    </tr>\n",
       "    <tr>\n",
       "      <th>12</th>\n",
       "      <td>ENSG00000188404.8</td>\n",
       "      <td>1</td>\n",
       "      <td>SELL</td>\n",
       "      <td>-0.473004</td>\n",
       "      <td>0.01523</td>\n",
       "    </tr>\n",
       "    <tr>\n",
       "      <th>11</th>\n",
       "      <td>ENSG00000198818.9</td>\n",
       "      <td>6</td>\n",
       "      <td>SFT2D1</td>\n",
       "      <td>-0.152785</td>\n",
       "      <td>0.01523</td>\n",
       "    </tr>\n",
       "  </tbody>\n",
       "</table>\n",
       "</div>"
      ],
      "text/plain": [
       "               gene_id chr gene_name     logFC  adj.P.Val\n",
       "0   ENSG00000174796.12   4     THAP6 -0.142817    0.01523\n",
       "14  ENSG00000034053.14  15     APBA2  0.151370    0.01523\n",
       "13   ENSG00000122435.9   1    TRMT13 -0.195373    0.01523\n",
       "12   ENSG00000188404.8   1      SELL -0.473004    0.01523\n",
       "11   ENSG00000198818.9   6    SFT2D1 -0.152785    0.01523"
      ]
     },
     "execution_count": 1,
     "metadata": {},
     "output_type": "execute_result"
    }
   ],
   "source": [
    "genes.chromosome_name.fillna('?', inplace=True)\n",
    "\n",
    "auto = genes[(genes.chromosome_name.str.contains('\\d+'))].copy()\\\n",
    "        .rename(columns={'chromosome_name': 'chr', 'hgnc_symbol': 'gene_name'})\n",
    "auto = auto[['gene_id', 'chr', 'gene_name', 'logFC', 'adj.P.Val']]\n",
    "auto.head()"
   ]
  },
  {
   "cell_type": "code",
   "execution_count": 7,
   "metadata": {
    "execution": {
     "iopub.execute_input": "2021-07-10T15:01:16.260989Z",
     "iopub.status.busy": "2021-07-10T15:01:16.260184Z",
     "iopub.status.idle": "2021-07-10T15:01:16.271514Z",
     "shell.execute_reply": "2021-07-10T15:01:16.270607Z"
    }
   },
   "outputs": [],
   "source": [
    "auto.sort_values('adj.P.Val').to_csv('autosomal_DEG.csv', index=False, header=True)"
   ]
  },
  {
   "cell_type": "markdown",
   "metadata": {},
   "source": [
    "## DE summary"
   ]
  },
  {
   "cell_type": "markdown",
   "metadata": {},
   "source": [
    "### DE (feature)"
   ]
  },
  {
   "cell_type": "code",
   "execution_count": 8,
   "metadata": {
    "execution": {
     "iopub.execute_input": "2021-07-10T15:01:16.276945Z",
     "iopub.status.busy": "2021-07-10T15:01:16.276216Z",
     "iopub.status.idle": "2021-07-10T15:01:16.278888Z",
     "shell.execute_reply": "2021-07-10T15:01:16.279668Z"
    }
   },
   "outputs": [
    {
     "name": "stdout",
     "output_type": "stream",
     "text": [
      "\n",
      "Gene:\t\t1254\n"
     ]
    }
   ],
   "source": [
    "gg = len(set(auto['gene_id']))\n",
    "\n",
    "print(\"\\nGene:\\t\\t%d\" % (gg)) "
   ]
  },
  {
   "cell_type": "markdown",
   "metadata": {},
   "source": [
    "### Feature effect size summary"
   ]
  },
  {
   "cell_type": "code",
   "execution_count": 9,
   "metadata": {
    "execution": {
     "iopub.execute_input": "2021-07-10T15:01:16.289514Z",
     "iopub.status.busy": "2021-07-10T15:01:16.288292Z",
     "iopub.status.idle": "2021-07-10T15:01:16.291837Z",
     "shell.execute_reply": "2021-07-10T15:01:16.292543Z"
    }
   },
   "outputs": [
    {
     "name": "stdout",
     "output_type": "stream",
     "text": [
      "\n",
      "There are 7 unique Genes with abs(log2FC) >= 0.5\n",
      "There are 0 unique Genes with abs(log2FC) >= 1\n"
     ]
    }
   ],
   "source": [
    "feature_list = ['Genes', 'Transcript', 'Exons', 'Junctions']\n",
    "feature_df = [auto]\n",
    "ii = 0\n",
    "\n",
    "ff = feature_df[ii]\n",
    "half = len(set(ff[(np.abs(ff['logFC']) >= 0.5)].gene_id))\n",
    "one = len(set(ff[(np.abs(ff['logFC']) >= 1)].gene_id))\n",
    "print(\"\\nThere are %d unique %s with abs(log2FC) >= 0.5\" % (half, feature_list[ii]))\n",
    "print(\"There are %d unique %s with abs(log2FC) >= 1\" % (one, feature_list[ii]))"
   ]
  },
  {
   "cell_type": "code",
   "execution_count": null,
   "metadata": {},
   "outputs": [],
   "source": []
  }
 ],
 "metadata": {
  "kernelspec": {
   "display_name": "Python 3",
   "language": "python",
   "name": "python3"
  },
  "language_info": {
   "codemirror_mode": {
    "name": "ipython",
    "version": 3
   },
   "file_extension": ".py",
   "mimetype": "text/x-python",
   "name": "python",
   "nbconvert_exporter": "python",
   "pygments_lexer": "ipython3",
   "version": "3.9.1"
  }
 },
 "nbformat": 4,
 "nbformat_minor": 4
}
