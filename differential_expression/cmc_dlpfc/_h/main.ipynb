{
 "cells": [
  {
   "cell_type": "markdown",
   "metadata": {},
   "source": [
    "# Extracting DE analysis from CMC synapse"
   ]
  },
  {
   "cell_type": "code",
   "execution_count": null,
   "metadata": {},
   "outputs": [],
   "source": [
    "library(synapser)\n",
    "library(tidyverse)\n",
    "library(data.table)"
   ]
  },
  {
   "cell_type": "code",
   "execution_count": null,
   "metadata": {},
   "outputs": [],
   "source": [
    "# Login to Synapse with apikey - https://r-docs.synapse.org/articles/manageSynapseCredentials.html\n",
    "synLogin()"
   ]
  },
  {
   "cell_type": "markdown",
   "metadata": {},
   "source": [
    "## Download results"
   ]
  },
  {
   "cell_type": "code",
   "execution_count": null,
   "metadata": {},
   "outputs": [],
   "source": [
    "dt = readRDS(synGet('syn24180858')$path)\n",
    "names(dt)\n",
    "names(dt$`MSSM-Penn-Pitt`)"
   ]
  },
  {
   "cell_type": "markdown",
   "metadata": {},
   "source": [
    "## Extract data"
   ]
  },
  {
   "cell_type": "markdown",
   "metadata": {},
   "source": [
    "### Sex differences results"
   ]
  },
  {
   "cell_type": "code",
   "execution_count": null,
   "metadata": {},
   "outputs": [],
   "source": [
    "dt$`MSSM-Penn-Pitt`$Reported_GenderMale %>% \n",
    "    rownames_to_column(\"Geneid\") %>% \n",
    "    data.table:fwrite(\"mssm_penn_pitt_maleVfemale.tsv\", sep='\\t')"
   ]
  },
  {
   "cell_type": "code",
   "execution_count": null,
   "metadata": {},
   "outputs": [],
   "source": [
    "dt$`NIMH-HBCC`$Reported_GenderMale %>% \n",
    "    rownames_to_column(\"Geneid\") %>% \n",
    "    data.table:fwrite(\"nimh_hbcc_maleVfemale.tsv\", sep='\\t')"
   ]
  },
  {
   "cell_type": "markdown",
   "metadata": {},
   "source": [
    "### Schizophrenia results"
   ]
  },
  {
   "cell_type": "code",
   "execution_count": null,
   "metadata": {},
   "outputs": [],
   "source": [
    "dt$`MSSM-Penn-Pitt`$DxSCZ %>% \n",
    "    rownames_to_column(\"Geneid\") %>% \n",
    "    data.table:fwrite(\"mssm_penn_pitt_szVctl.tsv\", sep='\\t')"
   ]
  },
  {
   "cell_type": "code",
   "execution_count": null,
   "metadata": {},
   "outputs": [],
   "source": [
    "dt$`NIMH-HBCC`$DxSCZ %>% \n",
    "    rownames_to_column(\"Geneid\") %>% \n",
    "    data.table:fwrite(\"nimh_hbcc_szVctl.tsv\", sep='\\t')"
   ]
  },
  {
   "cell_type": "markdown",
   "metadata": {},
   "source": [
    "## Reproducibility Information"
   ]
  },
  {
   "cell_type": "code",
   "execution_count": null,
   "metadata": {},
   "outputs": [],
   "source": [
    "Sys.time()\n",
    "proc.time()\n",
    "options(width = 120)\n",
    "sessioninfo::session_info()"
   ]
  }
 ],
 "metadata": {
  "kernelspec": {
   "display_name": "R",
   "language": "R",
   "name": "ir"
  },
  "language_info": {
   "codemirror_mode": "r",
   "file_extension": ".r",
   "mimetype": "text/x-r-source",
   "name": "R",
   "pygments_lexer": "r",
   "version": "4.0.3"
  }
 },
 "nbformat": 4,
 "nbformat_minor": 4
}
