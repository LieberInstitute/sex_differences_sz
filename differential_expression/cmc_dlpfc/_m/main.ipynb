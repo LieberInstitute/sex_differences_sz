{
 "cells": [
  {
   "cell_type": "markdown",
   "metadata": {},
   "source": [
    "# Extracting DE analysis from CMC synapse"
   ]
  },
  {
   "cell_type": "code",
   "execution_count": 1,
   "metadata": {
    "execution": {
     "iopub.execute_input": "2021-07-13T14:04:14.122624Z",
     "iopub.status.busy": "2021-07-13T14:04:14.120181Z",
     "iopub.status.idle": "2021-07-13T14:04:17.204077Z",
     "shell.execute_reply": "2021-07-13T14:04:17.202471Z"
    }
   },
   "outputs": [
    {
     "name": "stderr",
     "output_type": "stream",
     "text": [
      "\n",
      "New synapser version detected: \n",
      "    You are using synapser version 0.9.77.\n",
      "    synapser version 0.10.101 is detected at http://ran.synapse.org.\n",
      "    To upgrade to the latest version of synapser, please run the following command:\n",
      "    install.packages(\"synapser\", repos=\"http://ran.synapse.org\")\n",
      "\n",
      "\n",
      "\n",
      "TERMS OF USE NOTICE:\n",
      "  When using Synapse, remember that the terms and conditions of use require that you:\n",
      "  1) Attribute data contributors when discussing these data or results from these data.\n",
      "  2) Not discriminate, identify, or recontact individuals or groups represented by the data.\n",
      "  3) Use and contribute only data de-identified to HIPAA standards.\n",
      "  4) Redistribute data only under these same terms of use.\n",
      "\n",
      "\n",
      "── \u001b[1mAttaching packages\u001b[22m ─────────────────────────────────────── tidyverse 1.3.1 ──\n",
      "\n",
      "\u001b[32m✔\u001b[39m \u001b[34mggplot2\u001b[39m 3.3.5     \u001b[32m✔\u001b[39m \u001b[34mpurrr  \u001b[39m 0.3.4\n",
      "\u001b[32m✔\u001b[39m \u001b[34mtibble \u001b[39m 3.1.2     \u001b[32m✔\u001b[39m \u001b[34mdplyr  \u001b[39m 1.0.7\n",
      "\u001b[32m✔\u001b[39m \u001b[34mtidyr  \u001b[39m 1.1.3     \u001b[32m✔\u001b[39m \u001b[34mstringr\u001b[39m 1.4.0\n",
      "\u001b[32m✔\u001b[39m \u001b[34mreadr  \u001b[39m 1.4.0     \u001b[32m✔\u001b[39m \u001b[34mforcats\u001b[39m 0.5.1\n",
      "\n",
      "── \u001b[1mConflicts\u001b[22m ────────────────────────────────────────── tidyverse_conflicts() ──\n",
      "\u001b[31m✖\u001b[39m \u001b[34mdplyr\u001b[39m::\u001b[32mfilter()\u001b[39m masks \u001b[34mstats\u001b[39m::filter()\n",
      "\u001b[31m✖\u001b[39m \u001b[34mdplyr\u001b[39m::\u001b[32mlag()\u001b[39m    masks \u001b[34mstats\u001b[39m::lag()\n",
      "\n",
      "\n",
      "Attaching package: ‘data.table’\n",
      "\n",
      "\n",
      "The following objects are masked from ‘package:dplyr’:\n",
      "\n",
      "    between, first, last\n",
      "\n",
      "\n",
      "The following object is masked from ‘package:purrr’:\n",
      "\n",
      "    transpose\n",
      "\n",
      "\n"
     ]
    }
   ],
   "source": [
    "library(synapser)\n",
    "library(tidyverse)\n",
    "library(data.table)"
   ]
  },
  {
   "cell_type": "code",
   "execution_count": 2,
   "metadata": {
    "execution": {
     "iopub.execute_input": "2021-07-13T14:04:17.240882Z",
     "iopub.status.busy": "2021-07-13T14:04:17.208865Z",
     "iopub.status.idle": "2021-07-13T14:04:17.429247Z",
     "shell.execute_reply": "2021-07-13T14:04:17.426551Z"
    }
   },
   "outputs": [
    {
     "name": "stdout",
     "output_type": "stream",
     "text": [
      "Welcome, kj.benjamin!"
     ]
    },
    {
     "data": {
      "text/plain": [
       "NULL"
      ]
     },
     "metadata": {},
     "output_type": "display_data"
    }
   ],
   "source": [
    "# Login to Synapse with apikey - https://r-docs.synapse.org/articles/manageSynapseCredentials.html\n",
    "synLogin()"
   ]
  },
  {
   "cell_type": "markdown",
   "metadata": {},
   "source": [
    "## Download results"
   ]
  },
  {
   "cell_type": "code",
   "execution_count": 3,
   "metadata": {
    "execution": {
     "iopub.execute_input": "2021-07-13T14:04:17.439490Z",
     "iopub.status.busy": "2021-07-13T14:04:17.436409Z",
     "iopub.status.idle": "2021-07-13T14:04:18.326928Z",
     "shell.execute_reply": "2021-07-13T14:04:18.325460Z"
    }
   },
   "outputs": [
    {
     "data": {
      "text/html": [
       "<style>\n",
       ".list-inline {list-style: none; margin:0; padding: 0}\n",
       ".list-inline>li {display: inline-block}\n",
       ".list-inline>li:not(:last-child)::after {content: \"\\00b7\"; padding: 0 .5ex}\n",
       "</style>\n",
       "<ol class=list-inline><li>'MSSM-Penn-Pitt'</li><li>'NIMH-HBCC'</li></ol>\n"
      ],
      "text/latex": [
       "\\begin{enumerate*}\n",
       "\\item 'MSSM-Penn-Pitt'\n",
       "\\item 'NIMH-HBCC'\n",
       "\\end{enumerate*}\n"
      ],
      "text/markdown": [
       "1. 'MSSM-Penn-Pitt'\n",
       "2. 'NIMH-HBCC'\n",
       "\n",
       "\n"
      ],
      "text/plain": [
       "[1] \"MSSM-Penn-Pitt\" \"NIMH-HBCC\"     "
      ]
     },
     "metadata": {},
     "output_type": "display_data"
    },
    {
     "data": {
      "text/html": [
       "<style>\n",
       ".list-inline {list-style: none; margin:0; padding: 0}\n",
       ".list-inline>li {display: inline-block}\n",
       ".list-inline>li:not(:last-child)::after {content: \"\\00b7\"; padding: 0 .5ex}\n",
       "</style>\n",
       "<ol class=list-inline><li>'DxSCZ'</li><li>'Reported_GenderMale'</li><li>'ageOfDeath'</li></ol>\n"
      ],
      "text/latex": [
       "\\begin{enumerate*}\n",
       "\\item 'DxSCZ'\n",
       "\\item 'Reported\\_GenderMale'\n",
       "\\item 'ageOfDeath'\n",
       "\\end{enumerate*}\n"
      ],
      "text/markdown": [
       "1. 'DxSCZ'\n",
       "2. 'Reported_GenderMale'\n",
       "3. 'ageOfDeath'\n",
       "\n",
       "\n"
      ],
      "text/plain": [
       "[1] \"DxSCZ\"               \"Reported_GenderMale\" \"ageOfDeath\"         "
      ]
     },
     "metadata": {},
     "output_type": "display_data"
    }
   ],
   "source": [
    "dt = readRDS(synGet('syn24180858')$path)\n",
    "names(dt)\n",
    "names(dt$`MSSM-Penn-Pitt`)"
   ]
  },
  {
   "cell_type": "markdown",
   "metadata": {},
   "source": [
    "## Extract data"
   ]
  },
  {
   "cell_type": "markdown",
   "metadata": {},
   "source": [
    "### Sex differences results"
   ]
  },
  {
   "cell_type": "code",
   "execution_count": 4,
   "metadata": {
    "execution": {
     "iopub.execute_input": "2021-07-13T14:04:18.333161Z",
     "iopub.status.busy": "2021-07-13T14:04:18.331843Z",
     "iopub.status.idle": "2021-07-13T14:04:18.373383Z",
     "shell.execute_reply": "2021-07-13T14:04:18.372133Z"
    }
   },
   "outputs": [],
   "source": [
    "dt$`MSSM-Penn-Pitt`$Reported_GenderMale %>% \n",
    "    rownames_to_column(\"Geneid\") %>% \n",
    "    data.table::fwrite(\"mssm_penn_pitt_maleVfemale.tsv\", sep='\\t')"
   ]
  },
  {
   "cell_type": "code",
   "execution_count": 5,
   "metadata": {
    "execution": {
     "iopub.execute_input": "2021-07-13T14:04:18.379304Z",
     "iopub.status.busy": "2021-07-13T14:04:18.377968Z",
     "iopub.status.idle": "2021-07-13T14:04:18.413374Z",
     "shell.execute_reply": "2021-07-13T14:04:18.412074Z"
    }
   },
   "outputs": [],
   "source": [
    "dt$`NIMH-HBCC`$Reported_GenderMale %>% \n",
    "    rownames_to_column(\"Geneid\") %>% \n",
    "    data.table::fwrite(\"nimh_hbcc_maleVfemale.tsv\", sep='\\t')"
   ]
  },
  {
   "cell_type": "markdown",
   "metadata": {},
   "source": [
    "### Schizophrenia results"
   ]
  },
  {
   "cell_type": "code",
   "execution_count": 6,
   "metadata": {
    "execution": {
     "iopub.execute_input": "2021-07-13T14:04:18.419515Z",
     "iopub.status.busy": "2021-07-13T14:04:18.418253Z",
     "iopub.status.idle": "2021-07-13T14:04:18.451201Z",
     "shell.execute_reply": "2021-07-13T14:04:18.449939Z"
    }
   },
   "outputs": [],
   "source": [
    "dt$`MSSM-Penn-Pitt`$DxSCZ %>% \n",
    "    rownames_to_column(\"Geneid\") %>% \n",
    "    data.table::fwrite(\"mssm_penn_pitt_szVctl.tsv\", sep='\\t')"
   ]
  },
  {
   "cell_type": "code",
   "execution_count": 7,
   "metadata": {
    "execution": {
     "iopub.execute_input": "2021-07-13T14:04:18.457197Z",
     "iopub.status.busy": "2021-07-13T14:04:18.455880Z",
     "iopub.status.idle": "2021-07-13T14:04:18.490898Z",
     "shell.execute_reply": "2021-07-13T14:04:18.489610Z"
    }
   },
   "outputs": [],
   "source": [
    "dt$`NIMH-HBCC`$DxSCZ %>% \n",
    "    rownames_to_column(\"Geneid\") %>% \n",
    "    data.table::fwrite(\"nimh_hbcc_szVctl.tsv\", sep='\\t')"
   ]
  },
  {
   "cell_type": "markdown",
   "metadata": {},
   "source": [
    "## Reproducibility Information"
   ]
  },
  {
   "cell_type": "code",
   "execution_count": 8,
   "metadata": {
    "execution": {
     "iopub.execute_input": "2021-07-13T14:04:18.496952Z",
     "iopub.status.busy": "2021-07-13T14:04:18.495615Z",
     "iopub.status.idle": "2021-07-13T14:04:18.675448Z",
     "shell.execute_reply": "2021-07-13T14:04:18.674164Z"
    }
   },
   "outputs": [
    {
     "data": {
      "text/plain": [
       "[1] \"2021-07-13 10:04:18 EDT\""
      ]
     },
     "metadata": {},
     "output_type": "display_data"
    },
    {
     "data": {
      "text/plain": [
       "   user  system elapsed \n",
       "  4.369   0.369   5.305 "
      ]
     },
     "metadata": {},
     "output_type": "display_data"
    },
    {
     "data": {
      "text/plain": [
       "─ Session info ───────────────────────────────────────────────────────────────────────────────────────────────────────\n",
       " setting  value                       \n",
       " version  R version 4.0.3 (2020-10-10)\n",
       " os       Arch Linux                  \n",
       " system   x86_64, linux-gnu           \n",
       " ui       X11                         \n",
       " language (EN)                        \n",
       " collate  en_US.UTF-8                 \n",
       " ctype    en_US.UTF-8                 \n",
       " tz       America/New_York            \n",
       " date     2021-07-13                  \n",
       "\n",
       "─ Packages ───────────────────────────────────────────────────────────────────────────────────────────────────────────\n",
       " package        * version date       lib source        \n",
       " assertthat       0.2.1   2019-03-21 [1] CRAN (R 4.0.2)\n",
       " backports        1.2.1   2020-12-09 [1] CRAN (R 4.0.2)\n",
       " base64enc        0.1-3   2015-07-28 [1] CRAN (R 4.0.2)\n",
       " broom            0.7.8   2021-06-24 [1] CRAN (R 4.0.3)\n",
       " cellranger       1.1.0   2016-07-27 [1] CRAN (R 4.0.2)\n",
       " cli              3.0.0   2021-06-30 [1] CRAN (R 4.0.3)\n",
       " codetools        0.2-16  2018-12-24 [2] CRAN (R 4.0.3)\n",
       " colorspace       2.0-2   2021-06-24 [1] CRAN (R 4.0.3)\n",
       " crayon           1.4.1   2021-02-08 [1] CRAN (R 4.0.3)\n",
       " data.table     * 1.14.0  2021-02-21 [1] CRAN (R 4.0.3)\n",
       " DBI              1.1.1   2021-01-15 [1] CRAN (R 4.0.2)\n",
       " dbplyr           2.1.1   2021-04-06 [1] CRAN (R 4.0.3)\n",
       " digest           0.6.27  2020-10-24 [1] CRAN (R 4.0.2)\n",
       " dplyr          * 1.0.7   2021-06-18 [1] CRAN (R 4.0.3)\n",
       " ellipsis         0.3.2   2021-04-29 [1] CRAN (R 4.0.3)\n",
       " evaluate         0.14    2019-05-28 [1] CRAN (R 4.0.2)\n",
       " fansi            0.5.0   2021-05-25 [1] CRAN (R 4.0.3)\n",
       " forcats        * 0.5.1   2021-01-27 [1] CRAN (R 4.0.2)\n",
       " fs               1.5.0   2020-07-31 [1] CRAN (R 4.0.2)\n",
       " generics         0.1.0   2020-10-31 [1] CRAN (R 4.0.2)\n",
       " ggplot2        * 3.3.5   2021-06-25 [1] CRAN (R 4.0.3)\n",
       " glue             1.4.2   2020-08-27 [1] CRAN (R 4.0.2)\n",
       " gtable           0.3.0   2019-03-25 [1] CRAN (R 4.0.2)\n",
       " haven            2.4.1   2021-04-23 [1] CRAN (R 4.0.3)\n",
       " hms              1.1.0   2021-05-17 [1] CRAN (R 4.0.3)\n",
       " htmltools        0.5.1.1 2021-01-22 [1] CRAN (R 4.0.2)\n",
       " httr             1.4.2   2020-07-20 [1] CRAN (R 4.0.2)\n",
       " IRdisplay        1.0     2021-01-20 [1] CRAN (R 4.0.2)\n",
       " IRkernel         1.2     2021-05-11 [1] CRAN (R 4.0.3)\n",
       " jsonlite         1.7.2   2020-12-09 [1] CRAN (R 4.0.2)\n",
       " lifecycle        1.0.0   2021-02-15 [1] CRAN (R 4.0.3)\n",
       " lubridate        1.7.10  2021-02-26 [1] CRAN (R 4.0.3)\n",
       " magrittr         2.0.1   2020-11-17 [1] CRAN (R 4.0.2)\n",
       " modelr           0.1.8   2020-05-19 [1] CRAN (R 4.0.2)\n",
       " munsell          0.5.0   2018-06-12 [1] CRAN (R 4.0.2)\n",
       " pack             0.1-1   2021-02-23 [1] local         \n",
       " pbdZMQ           0.3-5   2021-02-10 [1] CRAN (R 4.0.3)\n",
       " pillar           1.6.1   2021-05-16 [1] CRAN (R 4.0.3)\n",
       " pkgconfig        2.0.3   2019-09-22 [1] CRAN (R 4.0.2)\n",
       " purrr          * 0.3.4   2020-04-17 [1] CRAN (R 4.0.2)\n",
       " PythonEmbedInR   0.6.76  2021-02-23 [1] local         \n",
       " R6               2.5.0   2020-10-28 [1] CRAN (R 4.0.2)\n",
       " Rcpp             1.0.7   2021-07-07 [1] CRAN (R 4.0.3)\n",
       " readr          * 1.4.0   2020-10-05 [1] CRAN (R 4.0.2)\n",
       " readxl           1.3.1   2019-03-13 [1] CRAN (R 4.0.2)\n",
       " repr             1.1.3   2021-01-21 [1] CRAN (R 4.0.2)\n",
       " reprex           2.0.0   2021-04-02 [1] CRAN (R 4.0.3)\n",
       " rlang            0.4.11  2021-04-30 [1] CRAN (R 4.0.3)\n",
       " rstudioapi       0.13    2020-11-12 [1] CRAN (R 4.0.2)\n",
       " rvest            1.0.0   2021-03-09 [1] CRAN (R 4.0.3)\n",
       " scales           1.1.1   2020-05-11 [1] CRAN (R 4.0.2)\n",
       " sessioninfo      1.1.1   2018-11-05 [1] CRAN (R 4.0.2)\n",
       " stringi          1.6.2   2021-05-17 [1] CRAN (R 4.0.3)\n",
       " stringr        * 1.4.0   2019-02-10 [1] CRAN (R 4.0.2)\n",
       " synapser       * 0.9.77  2021-02-23 [1] local         \n",
       " tibble         * 3.1.2   2021-05-16 [1] CRAN (R 4.0.3)\n",
       " tidyr          * 1.1.3   2021-03-03 [1] CRAN (R 4.0.3)\n",
       " tidyselect       1.1.1   2021-04-30 [1] CRAN (R 4.0.3)\n",
       " tidyverse      * 1.3.1   2021-04-15 [1] CRAN (R 4.0.3)\n",
       " utf8             1.2.1   2021-03-12 [1] CRAN (R 4.0.3)\n",
       " uuid             0.1-4   2020-02-26 [1] CRAN (R 4.0.2)\n",
       " vctrs            0.3.8   2021-04-29 [1] CRAN (R 4.0.3)\n",
       " withr            2.4.2   2021-04-18 [1] CRAN (R 4.0.3)\n",
       " xml2             1.3.2   2020-04-23 [1] CRAN (R 4.0.2)\n",
       "\n",
       "[1] /home/jbenja13/R/x86_64-pc-linux-gnu-library/4.0\n",
       "[2] /usr/lib/R/library"
      ]
     },
     "metadata": {},
     "output_type": "display_data"
    }
   ],
   "source": [
    "Sys.time()\n",
    "proc.time()\n",
    "options(width = 120)\n",
    "sessioninfo::session_info()"
   ]
  }
 ],
 "metadata": {
  "kernelspec": {
   "display_name": "R",
   "language": "R",
   "name": "ir"
  },
  "language_info": {
   "codemirror_mode": "r",
   "file_extension": ".r",
   "mimetype": "text/x-r-source",
   "name": "R",
   "pygments_lexer": "r",
   "version": "4.0.3"
  }
 },
 "nbformat": 4,
 "nbformat_minor": 4
}
