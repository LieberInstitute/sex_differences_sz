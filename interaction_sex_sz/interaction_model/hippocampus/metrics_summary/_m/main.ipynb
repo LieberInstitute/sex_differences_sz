{
 "cells": [
  {
   "cell_type": "markdown",
   "metadata": {},
   "source": [
    "# Summary analysis of interaction in Caudate Nucleus"
   ]
  },
  {
   "cell_type": "code",
   "execution_count": 1,
   "metadata": {
    "execution": {
     "iopub.execute_input": "2021-07-16T00:17:35.173540Z",
     "iopub.status.busy": "2021-07-16T00:17:35.171607Z",
     "iopub.status.idle": "2021-07-16T00:17:35.506724Z",
     "shell.execute_reply": "2021-07-16T00:17:35.505360Z"
    }
   },
   "outputs": [],
   "source": [
    "import pandas as pd"
   ]
  },
  {
   "cell_type": "markdown",
   "metadata": {},
   "source": [
    "## Summary plots"
   ]
  },
  {
   "cell_type": "markdown",
   "metadata": {},
   "source": [
    "### Genes"
   ]
  },
  {
   "cell_type": "code",
   "execution_count": 2,
   "metadata": {
    "execution": {
     "iopub.execute_input": "2021-07-16T00:17:35.515380Z",
     "iopub.status.busy": "2021-07-16T00:17:35.514108Z",
     "iopub.status.idle": "2021-07-16T00:17:35.703914Z",
     "shell.execute_reply": "2021-07-16T00:17:35.702780Z"
    }
   },
   "outputs": [
    {
     "data": {
      "text/html": [
       "<div>\n",
       "<style scoped>\n",
       "    .dataframe tbody tr th:only-of-type {\n",
       "        vertical-align: middle;\n",
       "    }\n",
       "\n",
       "    .dataframe tbody tr th {\n",
       "        vertical-align: top;\n",
       "    }\n",
       "\n",
       "    .dataframe thead th {\n",
       "        text-align: right;\n",
       "    }\n",
       "</style>\n",
       "<table border=\"1\" class=\"dataframe\">\n",
       "  <thead>\n",
       "    <tr style=\"text-align: right;\">\n",
       "      <th></th>\n",
       "      <th>Feature</th>\n",
       "      <th>Symbol</th>\n",
       "      <th>ensemblID</th>\n",
       "      <th>logFC</th>\n",
       "      <th>adj.P.Val</th>\n",
       "      <th>Type</th>\n",
       "    </tr>\n",
       "  </thead>\n",
       "  <tbody>\n",
       "  </tbody>\n",
       "</table>\n",
       "</div>"
      ],
      "text/plain": [
       "Empty DataFrame\n",
       "Columns: [Feature, Symbol, ensemblID, logFC, adj.P.Val, Type]\n",
       "Index: []"
      ]
     },
     "execution_count": 1,
     "metadata": {},
     "output_type": "execute_result"
    }
   ],
   "source": [
    "genes = pd.read_csv('../../_m/genes/diffExpr_interaction_full.txt', \n",
    "                    sep='\\t', index_col=0)\n",
    "genes = genes[(genes['adj.P.Val'] < 0.20)].sort_values('adj.P.Val')\n",
    "genes['Feature'] = genes.index\n",
    "genes = genes[['Feature', 'Symbol', 'ensemblID', 'logFC', 'adj.P.Val']]\n",
    "genes['Type'] = 'gene'\n",
    "genes.head()"
   ]
  },
  {
   "cell_type": "markdown",
   "metadata": {},
   "source": [
    "### Transcripts"
   ]
  },
  {
   "cell_type": "code",
   "execution_count": 3,
   "metadata": {
    "execution": {
     "iopub.execute_input": "2021-07-16T00:17:35.712158Z",
     "iopub.status.busy": "2021-07-16T00:17:35.710883Z",
     "iopub.status.idle": "2021-07-16T00:17:36.031039Z",
     "shell.execute_reply": "2021-07-16T00:17:36.029847Z"
    }
   },
   "outputs": [
    {
     "name": "stderr",
     "output_type": "stream",
     "text": [
      "<ipython-input-1-8f63412c9da4>:5: FutureWarning: The default value of regex will change from True to False in a future version.\n",
      "  trans['ensemblID'] = trans.gene_id.str.replace('\\\\.\\d+', '')\n"
     ]
    },
    {
     "data": {
      "text/html": [
       "<div>\n",
       "<style scoped>\n",
       "    .dataframe tbody tr th:only-of-type {\n",
       "        vertical-align: middle;\n",
       "    }\n",
       "\n",
       "    .dataframe tbody tr th {\n",
       "        vertical-align: top;\n",
       "    }\n",
       "\n",
       "    .dataframe thead th {\n",
       "        text-align: right;\n",
       "    }\n",
       "</style>\n",
       "<table border=\"1\" class=\"dataframe\">\n",
       "  <thead>\n",
       "    <tr style=\"text-align: right;\">\n",
       "      <th></th>\n",
       "      <th>Feature</th>\n",
       "      <th>Symbol</th>\n",
       "      <th>ensemblID</th>\n",
       "      <th>logFC</th>\n",
       "      <th>adj.P.Val</th>\n",
       "      <th>Type</th>\n",
       "    </tr>\n",
       "  </thead>\n",
       "  <tbody>\n",
       "  </tbody>\n",
       "</table>\n",
       "</div>"
      ],
      "text/plain": [
       "Empty DataFrame\n",
       "Columns: [Feature, Symbol, ensemblID, logFC, adj.P.Val, Type]\n",
       "Index: []"
      ]
     },
     "execution_count": 1,
     "metadata": {},
     "output_type": "execute_result"
    }
   ],
   "source": [
    "trans = pd.read_csv('../../_m/transcripts/diffExpr_interaction_full.txt', \n",
    "                    sep='\\t', index_col=0)\n",
    "trans = trans[(trans['adj.P.Val'] < 0.20)].sort_values('adj.P.Val')\n",
    "trans['Feature'] = trans.index\n",
    "trans['ensemblID'] = trans.gene_id.str.replace('\\\\.\\d+', '')\n",
    "trans = trans[['Feature', 'Symbol', 'ensemblID', 'logFC', 'adj.P.Val']]\n",
    "#trans.rename(columns={'gene_name': 'Symbol'}, inplace=True)\n",
    "trans['Type'] = 'transcript'\n",
    "trans.head()"
   ]
  },
  {
   "cell_type": "markdown",
   "metadata": {},
   "source": [
    "### Exons"
   ]
  },
  {
   "cell_type": "code",
   "execution_count": 4,
   "metadata": {
    "execution": {
     "iopub.execute_input": "2021-07-16T00:17:36.038788Z",
     "iopub.status.busy": "2021-07-16T00:17:36.037536Z",
     "iopub.status.idle": "2021-07-16T00:17:37.904905Z",
     "shell.execute_reply": "2021-07-16T00:17:37.905968Z"
    }
   },
   "outputs": [
    {
     "data": {
      "text/html": [
       "<div>\n",
       "<style scoped>\n",
       "    .dataframe tbody tr th:only-of-type {\n",
       "        vertical-align: middle;\n",
       "    }\n",
       "\n",
       "    .dataframe tbody tr th {\n",
       "        vertical-align: top;\n",
       "    }\n",
       "\n",
       "    .dataframe thead th {\n",
       "        text-align: right;\n",
       "    }\n",
       "</style>\n",
       "<table border=\"1\" class=\"dataframe\">\n",
       "  <thead>\n",
       "    <tr style=\"text-align: right;\">\n",
       "      <th></th>\n",
       "      <th>Feature</th>\n",
       "      <th>Symbol</th>\n",
       "      <th>ensemblID</th>\n",
       "      <th>logFC</th>\n",
       "      <th>adj.P.Val</th>\n",
       "      <th>Type</th>\n",
       "    </tr>\n",
       "  </thead>\n",
       "  <tbody>\n",
       "  </tbody>\n",
       "</table>\n",
       "</div>"
      ],
      "text/plain": [
       "Empty DataFrame\n",
       "Columns: [Feature, Symbol, ensemblID, logFC, adj.P.Val, Type]\n",
       "Index: []"
      ]
     },
     "execution_count": 1,
     "metadata": {},
     "output_type": "execute_result"
    }
   ],
   "source": [
    "exons = pd.read_csv('../../_m/exons/diffExpr_interaction_full.txt', \n",
    "                    sep='\\t', index_col=0)\n",
    "exons = exons[(exons['adj.P.Val'] < 0.20)].sort_values('adj.P.Val')\n",
    "exons['Feature'] = exons.index\n",
    "exons = exons[['Feature', 'Symbol', 'ensemblID', 'logFC', 'adj.P.Val']]\n",
    "exons['Type'] = 'exon'\n",
    "exons.head()"
   ]
  },
  {
   "cell_type": "markdown",
   "metadata": {},
   "source": [
    "### Junctions"
   ]
  },
  {
   "cell_type": "code",
   "execution_count": 5,
   "metadata": {
    "execution": {
     "iopub.execute_input": "2021-07-16T00:17:37.913724Z",
     "iopub.status.busy": "2021-07-16T00:17:37.912458Z",
     "iopub.status.idle": "2021-07-16T00:17:38.974592Z",
     "shell.execute_reply": "2021-07-16T00:17:38.975702Z"
    }
   },
   "outputs": [
    {
     "data": {
      "text/html": [
       "<div>\n",
       "<style scoped>\n",
       "    .dataframe tbody tr th:only-of-type {\n",
       "        vertical-align: middle;\n",
       "    }\n",
       "\n",
       "    .dataframe tbody tr th {\n",
       "        vertical-align: top;\n",
       "    }\n",
       "\n",
       "    .dataframe thead th {\n",
       "        text-align: right;\n",
       "    }\n",
       "</style>\n",
       "<table border=\"1\" class=\"dataframe\">\n",
       "  <thead>\n",
       "    <tr style=\"text-align: right;\">\n",
       "      <th></th>\n",
       "      <th>Feature</th>\n",
       "      <th>Symbol</th>\n",
       "      <th>ensemblID</th>\n",
       "      <th>logFC</th>\n",
       "      <th>adj.P.Val</th>\n",
       "      <th>Type</th>\n",
       "    </tr>\n",
       "  </thead>\n",
       "  <tbody>\n",
       "    <tr>\n",
       "      <th>chr18:31592940-31592993(+)</th>\n",
       "      <td>chr18:31592940-31592993(+)</td>\n",
       "      <td>NaN</td>\n",
       "      <td>NaN</td>\n",
       "      <td>3.982802</td>\n",
       "      <td>0.005746</td>\n",
       "      <td>junction</td>\n",
       "    </tr>\n",
       "    <tr>\n",
       "      <th>chrX:140784309-140784456(+)</th>\n",
       "      <td>chrX:140784309-140784456(+)</td>\n",
       "      <td>NaN</td>\n",
       "      <td>NaN</td>\n",
       "      <td>3.240533</td>\n",
       "      <td>0.034982</td>\n",
       "      <td>junction</td>\n",
       "    </tr>\n",
       "    <tr>\n",
       "      <th>chr21:8219273-8402302(-)</th>\n",
       "      <td>chr21:8219273-8402302(-)</td>\n",
       "      <td>NaN</td>\n",
       "      <td>NaN</td>\n",
       "      <td>-3.091047</td>\n",
       "      <td>0.034982</td>\n",
       "      <td>junction</td>\n",
       "    </tr>\n",
       "    <tr>\n",
       "      <th>chr6:31816438-31828631(+)</th>\n",
       "      <td>chr6:31816438-31828631(+)</td>\n",
       "      <td>NaN</td>\n",
       "      <td>NaN</td>\n",
       "      <td>-3.978074</td>\n",
       "      <td>0.034982</td>\n",
       "      <td>junction</td>\n",
       "    </tr>\n",
       "    <tr>\n",
       "      <th>chr10:17881182-17885268(+)</th>\n",
       "      <td>chr10:17881182-17885268(+)</td>\n",
       "      <td>MRC1</td>\n",
       "      <td>ENSG00000260314</td>\n",
       "      <td>-1.087409</td>\n",
       "      <td>0.034982</td>\n",
       "      <td>junction</td>\n",
       "    </tr>\n",
       "  </tbody>\n",
       "</table>\n",
       "</div>"
      ],
      "text/plain": [
       "                                                 Feature Symbol  \\\n",
       "chr18:31592940-31592993(+)    chr18:31592940-31592993(+)    NaN   \n",
       "chrX:140784309-140784456(+)  chrX:140784309-140784456(+)    NaN   \n",
       "chr21:8219273-8402302(-)        chr21:8219273-8402302(-)    NaN   \n",
       "chr6:31816438-31828631(+)      chr6:31816438-31828631(+)    NaN   \n",
       "chr10:17881182-17885268(+)    chr10:17881182-17885268(+)   MRC1   \n",
       "\n",
       "                                   ensemblID     logFC  adj.P.Val      Type  \n",
       "chr18:31592940-31592993(+)               NaN  3.982802   0.005746  junction  \n",
       "chrX:140784309-140784456(+)              NaN  3.240533   0.034982  junction  \n",
       "chr21:8219273-8402302(-)                 NaN -3.091047   0.034982  junction  \n",
       "chr6:31816438-31828631(+)                NaN -3.978074   0.034982  junction  \n",
       "chr10:17881182-17885268(+)   ENSG00000260314 -1.087409   0.034982  junction  "
      ]
     },
     "execution_count": 1,
     "metadata": {},
     "output_type": "execute_result"
    }
   ],
   "source": [
    "juncs = pd.read_csv('../../_m/junctions/diffExpr_interaction_full.txt', \n",
    "                    sep='\\t', index_col=0)\n",
    "juncs = juncs[(juncs['adj.P.Val'] < 0.05)].sort_values('adj.P.Val')\n",
    "juncs['Feature'] = juncs.index\n",
    "juncs = juncs[['Feature', 'Symbol', 'ensemblID', 'logFC', 'adj.P.Val']]\n",
    "juncs['Type'] = 'junction'\n",
    "juncs.head()"
   ]
  },
  {
   "cell_type": "markdown",
   "metadata": {},
   "source": [
    "#### Junction (chr21:8402231-8402287) within RNA45SN3, there is lots of splicing recorded in sorted BAM."
   ]
  }
 ],
 "metadata": {
  "kernelspec": {
   "display_name": "Python 3",
   "language": "python",
   "name": "python3"
  },
  "language_info": {
   "codemirror_mode": {
    "name": "ipython",
    "version": 3
   },
   "file_extension": ".py",
   "mimetype": "text/x-python",
   "name": "python",
   "nbconvert_exporter": "python",
   "pygments_lexer": "ipython3",
   "version": "3.9.1"
  }
 },
 "nbformat": 4,
 "nbformat_minor": 4
}
