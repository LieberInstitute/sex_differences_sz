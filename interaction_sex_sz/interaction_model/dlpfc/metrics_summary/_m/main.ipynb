{
 "cells": [
  {
   "cell_type": "markdown",
   "metadata": {},
   "source": [
    "# Summary analysis of interaction in the DLPFC"
   ]
  },
  {
   "cell_type": "code",
   "execution_count": 1,
   "metadata": {
    "execution": {
     "iopub.execute_input": "2021-08-05T23:03:58.666215Z",
     "iopub.status.busy": "2021-08-05T23:03:58.664497Z",
     "iopub.status.idle": "2021-08-05T23:03:58.965616Z",
     "shell.execute_reply": "2021-08-05T23:03:58.964908Z"
    }
   },
   "outputs": [],
   "source": [
    "import pandas as pd"
   ]
  },
  {
   "cell_type": "markdown",
   "metadata": {},
   "source": [
    "## Summary plots"
   ]
  },
  {
   "cell_type": "markdown",
   "metadata": {},
   "source": [
    "### Genes"
   ]
  },
  {
   "cell_type": "code",
   "execution_count": 2,
   "metadata": {
    "execution": {
     "iopub.execute_input": "2021-08-05T23:03:58.972182Z",
     "iopub.status.busy": "2021-08-05T23:03:58.970959Z",
     "iopub.status.idle": "2021-08-05T23:03:59.371197Z",
     "shell.execute_reply": "2021-08-05T23:03:59.372267Z"
    }
   },
   "outputs": [
    {
     "data": {
      "text/html": [
       "<div>\n",
       "<style scoped>\n",
       "    .dataframe tbody tr th:only-of-type {\n",
       "        vertical-align: middle;\n",
       "    }\n",
       "\n",
       "    .dataframe tbody tr th {\n",
       "        vertical-align: top;\n",
       "    }\n",
       "\n",
       "    .dataframe thead th {\n",
       "        text-align: right;\n",
       "    }\n",
       "</style>\n",
       "<table border=\"1\" class=\"dataframe\">\n",
       "  <thead>\n",
       "    <tr style=\"text-align: right;\">\n",
       "      <th></th>\n",
       "      <th>Feature</th>\n",
       "      <th>Symbol</th>\n",
       "      <th>ensemblID</th>\n",
       "      <th>logFC</th>\n",
       "      <th>adj.P.Val</th>\n",
       "      <th>Type</th>\n",
       "    </tr>\n",
       "  </thead>\n",
       "  <tbody>\n",
       "  </tbody>\n",
       "</table>\n",
       "</div>"
      ],
      "text/plain": [
       "Empty DataFrame\n",
       "Columns: [Feature, Symbol, ensemblID, logFC, adj.P.Val, Type]\n",
       "Index: []"
      ]
     },
     "execution_count": 1,
     "metadata": {},
     "output_type": "execute_result"
    }
   ],
   "source": [
    "genes = pd.read_csv('../../_m/genes/diffExpr_interaction_full.txt', \n",
    "                    sep='\\t', index_col=0)\n",
    "genes = genes[(genes['adj.P.Val'] < 0.20)].sort_values('adj.P.Val')\n",
    "genes['Feature'] = genes.index\n",
    "genes = genes[['Feature', 'Symbol', 'ensemblID', 'logFC', 'adj.P.Val']]\n",
    "genes['Type'] = 'gene'\n",
    "genes.head()"
   ]
  },
  {
   "cell_type": "markdown",
   "metadata": {},
   "source": [
    "### Transcripts"
   ]
  },
  {
   "cell_type": "code",
   "execution_count": 3,
   "metadata": {
    "execution": {
     "iopub.execute_input": "2021-08-05T23:03:59.379940Z",
     "iopub.status.busy": "2021-08-05T23:03:59.378648Z",
     "iopub.status.idle": "2021-08-05T23:03:59.942674Z",
     "shell.execute_reply": "2021-08-05T23:03:59.942025Z"
    }
   },
   "outputs": [
    {
     "name": "stderr",
     "output_type": "stream",
     "text": [
      "<ipython-input-1-8f63412c9da4>:5: FutureWarning: The default value of regex will change from True to False in a future version.\n",
      "  trans['ensemblID'] = trans.gene_id.str.replace('\\\\.\\d+', '')\n"
     ]
    },
    {
     "data": {
      "text/html": [
       "<div>\n",
       "<style scoped>\n",
       "    .dataframe tbody tr th:only-of-type {\n",
       "        vertical-align: middle;\n",
       "    }\n",
       "\n",
       "    .dataframe tbody tr th {\n",
       "        vertical-align: top;\n",
       "    }\n",
       "\n",
       "    .dataframe thead th {\n",
       "        text-align: right;\n",
       "    }\n",
       "</style>\n",
       "<table border=\"1\" class=\"dataframe\">\n",
       "  <thead>\n",
       "    <tr style=\"text-align: right;\">\n",
       "      <th></th>\n",
       "      <th>Feature</th>\n",
       "      <th>Symbol</th>\n",
       "      <th>ensemblID</th>\n",
       "      <th>logFC</th>\n",
       "      <th>adj.P.Val</th>\n",
       "      <th>Type</th>\n",
       "    </tr>\n",
       "  </thead>\n",
       "  <tbody>\n",
       "    <tr>\n",
       "      <th>ENST00000367055.8</th>\n",
       "      <td>ENST00000367055.8</td>\n",
       "      <td>SOD2</td>\n",
       "      <td>ENSG00000112096</td>\n",
       "      <td>3.886009</td>\n",
       "      <td>0.088229</td>\n",
       "      <td>transcript</td>\n",
       "    </tr>\n",
       "    <tr>\n",
       "      <th>ENST00000264366.10</th>\n",
       "      <td>ENST00000264366.10</td>\n",
       "      <td>ANK2</td>\n",
       "      <td>ENSG00000145362</td>\n",
       "      <td>5.252028</td>\n",
       "      <td>0.158492</td>\n",
       "      <td>transcript</td>\n",
       "    </tr>\n",
       "  </tbody>\n",
       "</table>\n",
       "</div>"
      ],
      "text/plain": [
       "                               Feature Symbol        ensemblID     logFC  \\\n",
       "ENST00000367055.8    ENST00000367055.8   SOD2  ENSG00000112096  3.886009   \n",
       "ENST00000264366.10  ENST00000264366.10   ANK2  ENSG00000145362  5.252028   \n",
       "\n",
       "                    adj.P.Val        Type  \n",
       "ENST00000367055.8    0.088229  transcript  \n",
       "ENST00000264366.10   0.158492  transcript  "
      ]
     },
     "execution_count": 1,
     "metadata": {},
     "output_type": "execute_result"
    }
   ],
   "source": [
    "trans = pd.read_csv('../../_m/transcripts/diffExpr_interaction_full.txt', \n",
    "                    sep='\\t', index_col=0)\n",
    "trans = trans[(trans['adj.P.Val'] < 0.20)].sort_values('adj.P.Val')\n",
    "trans['Feature'] = trans.index\n",
    "trans['ensemblID'] = trans.gene_id.str.replace('\\\\.\\d+', '')\n",
    "trans = trans[['Feature', 'Symbol', 'ensemblID', 'logFC', 'adj.P.Val']]\n",
    "#trans.rename(columns={'gene_name': 'Symbol'}, inplace=True)\n",
    "trans['Type'] = 'transcript'\n",
    "trans.head()"
   ]
  },
  {
   "cell_type": "markdown",
   "metadata": {},
   "source": [
    "### Exons"
   ]
  },
  {
   "cell_type": "code",
   "execution_count": 4,
   "metadata": {
    "execution": {
     "iopub.execute_input": "2021-08-05T23:03:59.947737Z",
     "iopub.status.busy": "2021-08-05T23:03:59.947183Z",
     "iopub.status.idle": "2021-08-05T23:04:01.857688Z",
     "shell.execute_reply": "2021-08-05T23:04:01.856456Z"
    }
   },
   "outputs": [
    {
     "data": {
      "text/html": [
       "<div>\n",
       "<style scoped>\n",
       "    .dataframe tbody tr th:only-of-type {\n",
       "        vertical-align: middle;\n",
       "    }\n",
       "\n",
       "    .dataframe tbody tr th {\n",
       "        vertical-align: top;\n",
       "    }\n",
       "\n",
       "    .dataframe thead th {\n",
       "        text-align: right;\n",
       "    }\n",
       "</style>\n",
       "<table border=\"1\" class=\"dataframe\">\n",
       "  <thead>\n",
       "    <tr style=\"text-align: right;\">\n",
       "      <th></th>\n",
       "      <th>Feature</th>\n",
       "      <th>Symbol</th>\n",
       "      <th>ensemblID</th>\n",
       "      <th>logFC</th>\n",
       "      <th>adj.P.Val</th>\n",
       "      <th>Type</th>\n",
       "    </tr>\n",
       "  </thead>\n",
       "  <tbody>\n",
       "  </tbody>\n",
       "</table>\n",
       "</div>"
      ],
      "text/plain": [
       "Empty DataFrame\n",
       "Columns: [Feature, Symbol, ensemblID, logFC, adj.P.Val, Type]\n",
       "Index: []"
      ]
     },
     "execution_count": 1,
     "metadata": {},
     "output_type": "execute_result"
    }
   ],
   "source": [
    "exons = pd.read_csv('../../_m/exons/diffExpr_interaction_full.txt', \n",
    "                    sep='\\t', index_col=0)\n",
    "exons = exons[(exons['adj.P.Val'] < 0.20)].sort_values('adj.P.Val')\n",
    "exons['Feature'] = exons.index\n",
    "exons = exons[['Feature', 'Symbol', 'ensemblID', 'logFC', 'adj.P.Val']]\n",
    "exons['Type'] = 'exon'\n",
    "exons.head()"
   ]
  },
  {
   "cell_type": "markdown",
   "metadata": {},
   "source": [
    "### Junctions"
   ]
  },
  {
   "cell_type": "code",
   "execution_count": 5,
   "metadata": {
    "execution": {
     "iopub.execute_input": "2021-08-05T23:04:01.864626Z",
     "iopub.status.busy": "2021-08-05T23:04:01.863399Z",
     "iopub.status.idle": "2021-08-05T23:04:03.153591Z",
     "shell.execute_reply": "2021-08-05T23:04:03.152287Z"
    }
   },
   "outputs": [
    {
     "data": {
      "text/html": [
       "<div>\n",
       "<style scoped>\n",
       "    .dataframe tbody tr th:only-of-type {\n",
       "        vertical-align: middle;\n",
       "    }\n",
       "\n",
       "    .dataframe tbody tr th {\n",
       "        vertical-align: top;\n",
       "    }\n",
       "\n",
       "    .dataframe thead th {\n",
       "        text-align: right;\n",
       "    }\n",
       "</style>\n",
       "<table border=\"1\" class=\"dataframe\">\n",
       "  <thead>\n",
       "    <tr style=\"text-align: right;\">\n",
       "      <th></th>\n",
       "      <th>Feature</th>\n",
       "      <th>Symbol</th>\n",
       "      <th>ensemblID</th>\n",
       "      <th>logFC</th>\n",
       "      <th>adj.P.Val</th>\n",
       "      <th>Type</th>\n",
       "    </tr>\n",
       "  </thead>\n",
       "  <tbody>\n",
       "    <tr>\n",
       "      <th>chr21:8401487-8445715(-)</th>\n",
       "      <td>chr21:8401487-8445715(-)</td>\n",
       "      <td>NaN</td>\n",
       "      <td>NaN</td>\n",
       "      <td>6.462429</td>\n",
       "      <td>0.000002</td>\n",
       "      <td>junction</td>\n",
       "    </tr>\n",
       "    <tr>\n",
       "      <th>chr21:8401417-8445654(-)</th>\n",
       "      <td>chr21:8401417-8445654(-)</td>\n",
       "      <td>NaN</td>\n",
       "      <td>NaN</td>\n",
       "      <td>3.818954</td>\n",
       "      <td>0.000026</td>\n",
       "      <td>junction</td>\n",
       "    </tr>\n",
       "    <tr>\n",
       "      <th>chr14:49566087-49586737(+)</th>\n",
       "      <td>chr14:49566087-49586737(+)</td>\n",
       "      <td>NaN</td>\n",
       "      <td>NaN</td>\n",
       "      <td>-4.428507</td>\n",
       "      <td>0.000129</td>\n",
       "      <td>junction</td>\n",
       "    </tr>\n",
       "    <tr>\n",
       "      <th>chr21:8401395-8445553(-)</th>\n",
       "      <td>chr21:8401395-8445553(-)</td>\n",
       "      <td>NaN</td>\n",
       "      <td>NaN</td>\n",
       "      <td>5.809398</td>\n",
       "      <td>0.000363</td>\n",
       "      <td>junction</td>\n",
       "    </tr>\n",
       "    <tr>\n",
       "      <th>chr21:8401970-8446050(+)</th>\n",
       "      <td>chr21:8401970-8446050(+)</td>\n",
       "      <td>NaN</td>\n",
       "      <td>NaN</td>\n",
       "      <td>6.047697</td>\n",
       "      <td>0.000673</td>\n",
       "      <td>junction</td>\n",
       "    </tr>\n",
       "  </tbody>\n",
       "</table>\n",
       "</div>"
      ],
      "text/plain": [
       "                                               Feature Symbol ensemblID  \\\n",
       "chr21:8401487-8445715(-)      chr21:8401487-8445715(-)    NaN       NaN   \n",
       "chr21:8401417-8445654(-)      chr21:8401417-8445654(-)    NaN       NaN   \n",
       "chr14:49566087-49586737(+)  chr14:49566087-49586737(+)    NaN       NaN   \n",
       "chr21:8401395-8445553(-)      chr21:8401395-8445553(-)    NaN       NaN   \n",
       "chr21:8401970-8446050(+)      chr21:8401970-8446050(+)    NaN       NaN   \n",
       "\n",
       "                               logFC  adj.P.Val      Type  \n",
       "chr21:8401487-8445715(-)    6.462429   0.000002  junction  \n",
       "chr21:8401417-8445654(-)    3.818954   0.000026  junction  \n",
       "chr14:49566087-49586737(+) -4.428507   0.000129  junction  \n",
       "chr21:8401395-8445553(-)    5.809398   0.000363  junction  \n",
       "chr21:8401970-8446050(+)    6.047697   0.000673  junction  "
      ]
     },
     "execution_count": 1,
     "metadata": {},
     "output_type": "execute_result"
    }
   ],
   "source": [
    "juncs = pd.read_csv('../../_m/junctions/diffExpr_interaction_full.txt', \n",
    "                    sep='\\t', index_col=0)\n",
    "juncs = juncs[(juncs['adj.P.Val'] < 0.05)].sort_values('adj.P.Val')\n",
    "juncs['Feature'] = juncs.index\n",
    "juncs = juncs[['Feature', 'Symbol', 'ensemblID', 'logFC', 'adj.P.Val']]\n",
    "juncs['Type'] = 'junction'\n",
    "juncs.head()"
   ]
  },
  {
   "cell_type": "markdown",
   "metadata": {},
   "source": [
    "#### Junction (chr21:8402231-8402287) within RNA45SN3, there is lots of splicing recorded in sorted BAM."
   ]
  }
 ],
 "metadata": {
  "kernelspec": {
   "display_name": "Python 3",
   "language": "python",
   "name": "python3"
  },
  "language_info": {
   "codemirror_mode": {
    "name": "ipython",
    "version": 3
   },
   "file_extension": ".py",
   "mimetype": "text/x-python",
   "name": "python",
   "nbconvert_exporter": "python",
   "pygments_lexer": "ipython3",
   "version": "3.9.1"
  }
 },
 "nbformat": 4,
 "nbformat_minor": 4
}
