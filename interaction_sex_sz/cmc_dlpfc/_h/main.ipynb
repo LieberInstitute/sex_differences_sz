{
 "cells": [
  {
   "cell_type": "code",
   "execution_count": 1,
   "metadata": {},
   "outputs": [],
   "source": [
    "# Nature Scientific Data Paper\n",
    "# Author: Kelsey Montgomery\n",
    "# Date: 20190604"
   ]
  },
  {
   "cell_type": "code",
   "execution_count": 3,
   "metadata": {},
   "outputs": [],
   "source": [
    "# Dependencies\n",
    "suppressMessages({library(CovariateAnalysis)\n",
    "                  library(variancePartition)\n",
    "                  library(BiocParallel)\n",
    "                  library(data.table)\n",
    "                  library(tidyverse)\n",
    "                  library(synapser)\n",
    "                  library(spatstat)\n",
    "                  library(ggrepel)\n",
    "                  library(cowplot)\n",
    "                  library(biomaRt)\n",
    "                  library(foreach)\n",
    "                  library(future)\n",
    "                  library(limma)\n",
    "                  library(edgeR)\n",
    "                  })"
   ]
  },
  {
   "cell_type": "code",
   "execution_count": 4,
   "metadata": {},
   "outputs": [],
   "source": [
    "feature = 'genes'"
   ]
  },
  {
   "cell_type": "code",
   "execution_count": 5,
   "metadata": {},
   "outputs": [],
   "source": [
    "# Directory for figure output\n",
    "if(!dir.exists(feature)){\n",
    "    dir.create(feature, recursive=TRUE)\n",
    "}\n",
    "\n",
    "# Process functions\n",
    "downloadFile_version <- function(id , version){\n",
    "  fread(synGet(id, version = version)$path, data.table = F)\n",
    "}"
   ]
  },
  {
   "cell_type": "code",
   "execution_count": 6,
   "metadata": {},
   "outputs": [
    {
     "name": "stdout",
     "output_type": "stream",
     "text": [
      "Welcome, kj.benjamin!"
     ]
    },
    {
     "data": {
      "text/plain": [
       "NULL"
      ]
     },
     "metadata": {},
     "output_type": "display_data"
    }
   ],
   "source": [
    "# Login to Synapse with apikey - \n",
    "# https://r-docs.synapse.org/articles/manageSynapseCredentials.html\n",
    "synLogin()"
   ]
  },
  {
   "cell_type": "code",
   "execution_count": 7,
   "metadata": {},
   "outputs": [],
   "source": [
    "param = SnowParam((availableCores()-2)/2, \"SOCK\", progressbar=TRUE)\n",
    "register(param)"
   ]
  },
  {
   "cell_type": "markdown",
   "metadata": {},
   "source": [
    "## Download metadata"
   ]
  },
  {
   "cell_type": "code",
   "execution_count": 8,
   "metadata": {},
   "outputs": [
    {
     "data": {
      "text/html": [
       "<style>\n",
       ".list-inline {list-style: none; margin:0; padding: 0}\n",
       ".list-inline>li {display: inline-block}\n",
       ".list-inline>li:not(:last-child)::after {content: \"\\00b7\"; padding: 0 .5ex}\n",
       "</style>\n",
       "<ol class=list-inline><li>858</li><li>65</li></ol>\n"
      ],
      "text/latex": [
       "\\begin{enumerate*}\n",
       "\\item 858\n",
       "\\item 65\n",
       "\\end{enumerate*}\n"
      ],
      "text/markdown": [
       "1. 858\n",
       "2. 65\n",
       "\n",
       "\n"
      ],
      "text/plain": [
       "[1] 858  65"
      ]
     },
     "metadata": {},
     "output_type": "display_data"
    }
   ],
   "source": [
    "# Download clinical metadata \n",
    "CLINICAL_ID = 'syn3354385'\n",
    "clinical = downloadFile_version(CLINICAL_ID, version = 4)\n",
    "\n",
    "# Download RNASeq metadata\n",
    "METADATA_QC_DLPFC_ID = 'syn18358379' \n",
    "metadata = downloadFile_version(METADATA_QC_DLPFC_ID, version = 3)\n",
    "\n",
    "# Join clinical and RNASeq metadata \n",
    "md = right_join(clinical, metadata, by = c(\"Individual ID\" = \"Individual_ID\")) %>% \n",
    "    mutate(Dx = fct_recode(Dx, AFF_BP = \"BP\", AFF_BP = \"AFF\", Other = \"undetermined\", \n",
    "                           Control = \"Control\", SCZ = \"SCZ\")) %>%\n",
    "    filter(Dx %in% c(\"Control\", \"SCZ\"), Sex %in% c('XX', 'XY'))\n",
    "\n",
    "# Compute read pair metrics and add Institution-Dx variable\n",
    "md <- md %>%\n",
    "  mutate(MappedRead_Pairs = Mapped_Reads/2) %>%\n",
    "  mutate(`Institution-Dx` = paste0(`Institution`, \"-\", `Dx`)) %>% \n",
    "  mutate(TotalRead_Pairs = Total_Reads/2)\n",
    "\n",
    "# Add MDS from SNPs\n",
    "mds_file = paste0('/ceph/users/jbenja13/projects/sex_sz_ria/input/commonMind/',\n",
    "                  'genotypes/mds/_m/CMC_MSSM-Penn-Pitt_DLPFC_QC.mds')\n",
    "mds = fread(mds_file, data.table=F)\n",
    "colnames(mds) = gsub('C', 'snpPC', colnames(mds))\n",
    "\n",
    "pheno_file = paste0('/ceph/users/jbenja13/projects/sex_sz_ria/input/commonMind/', \n",
    "                    'phenotypes/combine_files/_m/CMC_phenotypes_all.csv')\n",
    "pheno = read.csv(pheno_file, stringsAsFactors = F) \n",
    "genotypes = merge(pheno, mds, by.y='IID', by.x='Genotypes.Genotyping_Sample_ID') \n",
    "\n",
    "genotypes = genotypes %>% \n",
    "    dplyr::select(\"Individual_ID\", starts_with(\"snpPC\")) %>%\n",
    "    rename(\"Individual ID\"=Individual_ID)\n",
    "\n",
    "md = md %>% left_join(genotypes, by=\"Individual ID\") %>% distinct\n",
    "\n",
    "md %>% dim"
   ]
  },
  {
   "cell_type": "code",
   "execution_count": 9,
   "metadata": {},
   "outputs": [
    {
     "data": {
      "text/html": [
       "'DLPFC'"
      ],
      "text/latex": [
       "'DLPFC'"
      ],
      "text/markdown": [
       "'DLPFC'"
      ],
      "text/plain": [
       "[1] \"DLPFC\""
      ]
     },
     "metadata": {},
     "output_type": "display_data"
    }
   ],
   "source": [
    "unique(md$Brain_Region)"
   ]
  },
  {
   "cell_type": "markdown",
   "metadata": {},
   "source": [
    "## Define covariate relationships"
   ]
  },
  {
   "cell_type": "code",
   "execution_count": 10,
   "metadata": {},
   "outputs": [
    {
     "data": {
      "text/html": [
       "<style>\n",
       ".list-inline {list-style: none; margin:0; padding: 0}\n",
       ".list-inline>li {display: inline-block}\n",
       ".list-inline>li:not(:last-child)::after {content: \"\\00b7\"; padding: 0 .5ex}\n",
       "</style>\n",
       "<ol class=list-inline><li>858</li><li>25</li></ol>\n"
      ],
      "text/latex": [
       "\\begin{enumerate*}\n",
       "\\item 858\n",
       "\\item 25\n",
       "\\end{enumerate*}\n"
      ],
      "text/markdown": [
       "1. 858\n",
       "2. 25\n",
       "\n",
       "\n"
      ],
      "text/plain": [
       "[1] 858  25"
      ]
     },
     "metadata": {},
     "output_type": "display_data"
    }
   ],
   "source": [
    "# Covariate relationships\n",
    "FactorCovariates <- c('Individual ID', \"Institution\", \"Reported Gender\", \"Library_Batch\", \n",
    "                      \"Ribozero_Batch\", \"Flowcell_Batch\", \"Dx\")\n",
    "ContCovariates <- c(\"Age of Death\", \"PMI (in hours)\", \"RIN\", \"Mapped_Reads\", \n",
    "                    \"MappedRead_Pairs\", \"Intragenic_Rate\", \"Intronic_Rate\", \n",
    "                    \"Intergenic_Rate\", \"Genes_Detected\", \"Expression_Profiling_Efficiency\",\n",
    "                    \"rRNA_Rate\", \"Total_Reads\",\"Percent_Aligned\", \"snpPC1\", \"snpPC2\", \n",
    "                    \"snpPC3\", \"snpPC4\", \"snpPC5\")\n",
    "# Ages over 90\n",
    "md <- mutate(md, `Age of Death` = ifelse(`Age of Death` == \"90+\", \"90\", `Age of Death`))\n",
    "\n",
    "# Find inter relation between factor covariates\n",
    "covariates = md[,c(FactorCovariates,ContCovariates),drop=F]\n",
    "covariates[,FactorCovariates] <- data.frame(lapply(covariates[,FactorCovariates],\n",
    "                                                   function(x){\n",
    "  x <- sapply(x,function(y){str_replace_all(as.character(y),'[^[:alnum:]]','_')})}))\n",
    "rownames(covariates) <- md$SampleID\n",
    "\n",
    "# Convert factor covariates to factors\n",
    "covariates[,FactorCovariates] = lapply(covariates[,FactorCovariates], factor)\n",
    "covariates[,ContCovariates] = lapply(covariates[,ContCovariates], function(x){\n",
    "  x = as.numeric(as.character(gsub('[\\\\,\\\\%]','',x)))\n",
    "})\n",
    "\n",
    "# Remove spaces\n",
    "colnames(covariates) <- gsub(' ', '_', colnames(covariates))\n",
    "covariates %>% dim"
   ]
  },
  {
   "cell_type": "markdown",
   "metadata": {},
   "source": [
    "## Download counts"
   ]
  },
  {
   "cell_type": "code",
   "execution_count": 11,
   "metadata": {},
   "outputs": [
    {
     "name": "stderr",
     "output_type": "stream",
     "text": [
      "`summarise()` ungrouping output (override with `.groups` argument)\n",
      "\n"
     ]
    },
    {
     "data": {
      "text/html": [
       "<table>\n",
       "<caption>A data.frame: 2 × 5</caption>\n",
       "<thead>\n",
       "\t<tr><th></th><th scope=col>gene_id</th><th scope=col>MSSM_RNA_BP_PFC_2</th><th scope=col>MSSM_RNA_BP_PFC_4</th><th scope=col>MSSM_RNA_BP_PFC_5</th><th scope=col>MSSM_RNA_BP_PFC_6</th></tr>\n",
       "\t<tr><th></th><th scope=col>&lt;chr&gt;</th><th scope=col>&lt;dbl&gt;</th><th scope=col>&lt;dbl&gt;</th><th scope=col>&lt;dbl&gt;</th><th scope=col>&lt;dbl&gt;</th></tr>\n",
       "</thead>\n",
       "<tbody>\n",
       "\t<tr><th scope=row>1</th><td>ENSG00000000003.14</td><td>159</td><td>113</td><td>175</td><td>117</td></tr>\n",
       "\t<tr><th scope=row>2</th><td>ENSG00000000005.5 </td><td>  2</td><td>  1</td><td>  1</td><td>  2</td></tr>\n",
       "</tbody>\n",
       "</table>\n"
      ],
      "text/latex": [
       "A data.frame: 2 × 5\n",
       "\\begin{tabular}{r|lllll}\n",
       "  & gene\\_id & MSSM\\_RNA\\_BP\\_PFC\\_2 & MSSM\\_RNA\\_BP\\_PFC\\_4 & MSSM\\_RNA\\_BP\\_PFC\\_5 & MSSM\\_RNA\\_BP\\_PFC\\_6\\\\\n",
       "  & <chr> & <dbl> & <dbl> & <dbl> & <dbl>\\\\\n",
       "\\hline\n",
       "\t1 & ENSG00000000003.14 & 159 & 113 & 175 & 117\\\\\n",
       "\t2 & ENSG00000000005.5  &   2 &   1 &   1 &   2\\\\\n",
       "\\end{tabular}\n"
      ],
      "text/markdown": [
       "\n",
       "A data.frame: 2 × 5\n",
       "\n",
       "| <!--/--> | gene_id &lt;chr&gt; | MSSM_RNA_BP_PFC_2 &lt;dbl&gt; | MSSM_RNA_BP_PFC_4 &lt;dbl&gt; | MSSM_RNA_BP_PFC_5 &lt;dbl&gt; | MSSM_RNA_BP_PFC_6 &lt;dbl&gt; |\n",
       "|---|---|---|---|---|---|\n",
       "| 1 | ENSG00000000003.14 | 159 | 113 | 175 | 117 |\n",
       "| 2 | ENSG00000000005.5  |   2 |   1 |   1 |   2 |\n",
       "\n"
      ],
      "text/plain": [
       "  gene_id            MSSM_RNA_BP_PFC_2 MSSM_RNA_BP_PFC_4 MSSM_RNA_BP_PFC_5\n",
       "1 ENSG00000000003.14 159               113               175              \n",
       "2 ENSG00000000005.5    2                 1                 1              \n",
       "  MSSM_RNA_BP_PFC_6\n",
       "1 117              \n",
       "2   2              "
      ]
     },
     "metadata": {},
     "output_type": "display_data"
    }
   ],
   "source": [
    "# Download counts (DLPFC - MSSM)\n",
    "COUNT_ID = 'syn17346208'\n",
    "count = downloadFile_version(COUNT_ID, version = 2) %>% data.frame()\n",
    "count$transcript_id.s. = NULL\n",
    "\n",
    "# Download gene lengths (DLPFC - MSSM)\n",
    "genelen_CMC = downloadFile_version('syn17346397', version = 2) %>%\n",
    "  gather(sampleID, Length, -gene_id, -`transcript_id(s)`) %>%\n",
    "  group_by(gene_id) %>%\n",
    "  summarise(Length = median(Length, na.rm = T)) %>%\n",
    "  ungroup() %>% data.frame()\n",
    "\n",
    "# Download counts (DLPFC - HBCC)\n",
    "COUNT_ID = 'syn17894685'\n",
    "count_HBCC = downloadFile_version(COUNT_ID, version = 4) %>% data.frame()\n",
    "count_HBCC$transcript_id.s. = NULL\n",
    "\n",
    "# Join HBCC and MSSM counts\n",
    "count = full_join(count, count_HBCC, by = c(\"gene_id\"))\n",
    "count[1:2, 1:5]"
   ]
  },
  {
   "cell_type": "code",
   "execution_count": 12,
   "metadata": {},
   "outputs": [
    {
     "data": {
      "text/html": [
       "<table>\n",
       "<caption>A data.frame: 2 × 5</caption>\n",
       "<thead>\n",
       "\t<tr><th></th><th scope=col>MSSM_RNA_PFC_1</th><th scope=col>MSSM_RNA_PFC_2</th><th scope=col>MSSM_RNA_PFC_3</th><th scope=col>MSSM_RNA_PFC_4</th><th scope=col>MSSM_RNA_PFC_5</th></tr>\n",
       "\t<tr><th></th><th scope=col>&lt;dbl&gt;</th><th scope=col>&lt;dbl&gt;</th><th scope=col>&lt;dbl&gt;</th><th scope=col>&lt;dbl&gt;</th><th scope=col>&lt;dbl&gt;</th></tr>\n",
       "</thead>\n",
       "<tbody>\n",
       "\t<tr><th scope=row>ENSG00000000003.14</th><td>124</td><td>103</td><td>160</td><td>366</td><td>268</td></tr>\n",
       "\t<tr><th scope=row>ENSG00000000005.5</th><td>  1</td><td>  0</td><td>  1</td><td>  4</td><td>  2</td></tr>\n",
       "</tbody>\n",
       "</table>\n"
      ],
      "text/latex": [
       "A data.frame: 2 × 5\n",
       "\\begin{tabular}{r|lllll}\n",
       "  & MSSM\\_RNA\\_PFC\\_1 & MSSM\\_RNA\\_PFC\\_2 & MSSM\\_RNA\\_PFC\\_3 & MSSM\\_RNA\\_PFC\\_4 & MSSM\\_RNA\\_PFC\\_5\\\\\n",
       "  & <dbl> & <dbl> & <dbl> & <dbl> & <dbl>\\\\\n",
       "\\hline\n",
       "\tENSG00000000003.14 & 124 & 103 & 160 & 366 & 268\\\\\n",
       "\tENSG00000000005.5 &   1 &   0 &   1 &   4 &   2\\\\\n",
       "\\end{tabular}\n"
      ],
      "text/markdown": [
       "\n",
       "A data.frame: 2 × 5\n",
       "\n",
       "| <!--/--> | MSSM_RNA_PFC_1 &lt;dbl&gt; | MSSM_RNA_PFC_2 &lt;dbl&gt; | MSSM_RNA_PFC_3 &lt;dbl&gt; | MSSM_RNA_PFC_4 &lt;dbl&gt; | MSSM_RNA_PFC_5 &lt;dbl&gt; |\n",
       "|---|---|---|---|---|---|\n",
       "| ENSG00000000003.14 | 124 | 103 | 160 | 366 | 268 |\n",
       "| ENSG00000000005.5 |   1 |   0 |   1 |   4 |   2 |\n",
       "\n"
      ],
      "text/plain": [
       "                   MSSM_RNA_PFC_1 MSSM_RNA_PFC_2 MSSM_RNA_PFC_3 MSSM_RNA_PFC_4\n",
       "ENSG00000000003.14 124            103            160            366           \n",
       "ENSG00000000005.5    1              0              1              4           \n",
       "                   MSSM_RNA_PFC_5\n",
       "ENSG00000000003.14 268           \n",
       "ENSG00000000005.5    2           "
      ]
     },
     "metadata": {},
     "output_type": "display_data"
    }
   ],
   "source": [
    "NEW.COUNTS = count %>% column_to_rownames(var='gene_id') %>% t %>%\n",
    "    as.data.frame %>% rownames_to_column %>% \n",
    "    filter(rowname %in% md$SampleID) %>% \n",
    "    column_to_rownames(var=\"rowname\") %>% t %>%\n",
    "    as.data.frame\n",
    "NEW.COUNTS[1:2, 1:5]"
   ]
  },
  {
   "cell_type": "markdown",
   "metadata": {},
   "source": [
    "## Voom with DREAM"
   ]
  },
  {
   "cell_type": "code",
   "execution_count": 13,
   "metadata": {},
   "outputs": [
    {
     "name": "stdout",
     "output_type": "stream",
     "text": [
      "Using following covariates in the model: Dx, Reported_Gender, RIN, Intronic_Rate as fixed effects and Individual_ID is chosen as random effect\n"
     ]
    },
    {
     "data": {
      "text/html": [
       "'~ Dx*Reported_Gender + RIN + Intronic_Rate + (1|Individual_ID)'"
      ],
      "text/latex": [
       "'\\textasciitilde{} Dx*Reported\\_Gender + RIN + Intronic\\_Rate + (1\\textbar{}Individual\\_ID)'"
      ],
      "text/markdown": [
       "'~ Dx*Reported_Gender + RIN + Intronic_Rate + (1|Individual_ID)'"
      ],
      "text/plain": [
       "~ Dx*Reported_Gender + RIN + Intronic_Rate + (1|Individual_ID)"
      ]
     },
     "metadata": {},
     "output_type": "display_data"
    }
   ],
   "source": [
    "# Set covariates to adjust for from model selection\n",
    "adjust.covars <- c(\"Dx\", \"Reported_Gender\", \"RIN\", \"Intronic_Rate\")\n",
    "\n",
    "writeLines(paste('Using following covariates in the model:',\n",
    "                 paste(adjust.covars, collapse=', '),\n",
    "                 'as fixed effects and Individual_ID is chosen as random effect'))\n",
    "# Post adjusted formula\n",
    "random_effect <- \"Individual_ID\"\n",
    "formula <- paste(\"~\", glue::glue_collapse(adjust.covars[1:2], sep='*'), \"+\",\n",
    "      glue::glue_collapse(adjust.covars[3:4], sep=\" + \")) %>% \n",
    "  glue::glue(\" + (1|{random_effect})\")\n",
    "formula"
   ]
  },
  {
   "cell_type": "code",
   "execution_count": 14,
   "metadata": {},
   "outputs": [
    {
     "name": "stdout",
     "output_type": "stream",
     "text": [
      "[1] \"There are: 22684 features left!\"\n"
     ]
    }
   ],
   "source": [
    "# Estimate voom weights with DREAM\n",
    "geneExpr = DGEList(NEW.COUNTS, samples=covariates)\n",
    "\n",
    "design0 <- model.matrix(~Dx*Reported_Gender, data=geneExpr$samples)\n",
    "keep.x <- filterByExpr(geneExpr, design=design0)\n",
    "geneExpr <- geneExpr[keep.x, , keep.lib.sizes=FALSE]\n",
    "print(paste('There are:', sum(keep.x), 'features left!', sep=' '))\n",
    "\n",
    "geneExpr = calcNormFactors(geneExpr)"
   ]
  },
  {
   "cell_type": "code",
   "execution_count": 16,
   "metadata": {},
   "outputs": [
    {
     "name": "stdout",
     "output_type": "stream",
     "text": [
      "Memory usage to store result: > 1.7 Gb \n",
      "Dividing work into 100 chunks...\n"
     ]
    },
    {
     "name": "stderr",
     "output_type": "stream",
     "text": [
      "iteration: \n",
      "1\n",
      "\b2\n",
      "\b3\n",
      "\b4\n",
      "\b5\n",
      "\b6\n",
      "\b7\n",
      "\b8\n",
      "\b9\n",
      "\b10\n",
      "11\n",
      "12\n",
      "13\n",
      "14\n",
      "15\n",
      "16\n",
      "17\n",
      "18\n",
      "19\n",
      "20\n",
      "21\n",
      "22\n",
      "23\n",
      "24\n",
      "25\n",
      "26\n",
      "27\n",
      "28\n",
      "29\n",
      "30\n",
      "31\n",
      "32\n",
      "33\n",
      "34\n",
      "35\n",
      "36\n",
      "37\n",
      "38\n",
      "39\n",
      "40\n",
      "41\n",
      "42\n",
      "43\n",
      "44\n",
      "45\n",
      "46\n",
      "47\n",
      "48\n",
      "49\n",
      "50\n",
      "51\n",
      "52\n",
      "53\n",
      "54\n",
      "55\n",
      "56\n",
      "57\n",
      "58\n",
      "59\n",
      "60\n",
      "61\n",
      "62\n",
      "63\n",
      "64\n",
      "65\n",
      "66\n",
      "67\n",
      "68\n",
      "69\n",
      "70\n",
      "71\n",
      "72\n",
      "73\n",
      "74\n",
      "75\n",
      "76\n",
      "77\n",
      "78\n",
      "79\n",
      "80\n",
      "81\n",
      "82\n",
      "83\n",
      "84\n",
      "85\n",
      "86\n",
      "87\n",
      "88\n",
      "89\n",
      "90\n",
      "91\n",
      "92\n",
      "93\n",
      "94\n",
      "95\n",
      "96\n",
      "97\n",
      "98\n",
      "99\n",
      "100\n",
      "\n",
      "\n"
     ]
    },
    {
     "name": "stdout",
     "output_type": "stream",
     "text": [
      "\n",
      "Total: 289 s\n"
     ]
    },
    {
     "name": "stderr",
     "output_type": "stream",
     "text": [
      "Warning message in regularize.values(x, y, ties, missing(ties)):\n",
      "\"collapsing to unique 'x' values\"\n"
     ]
    }
   ],
   "source": [
    "VOOM.GENE_EXPRESSION = voomWithDreamWeights(counts = geneExpr, \n",
    "                                            formula = formula,\n",
    "                                            data = covariates,\n",
    "                                            save.plot = TRUE)"
   ]
  },
  {
   "cell_type": "code",
   "execution_count": 17,
   "metadata": {},
   "outputs": [],
   "source": [
    "save(VOOM.GENE_EXPRESSION, file=paste0(feature,'/voom.RData'))"
   ]
  },
  {
   "cell_type": "code",
   "execution_count": 17,
   "metadata": {},
   "outputs": [
    {
     "data": {
      "image/png": "[encoded data removed]",
      "text/plain": [
       "plot without title"
      ]
     },
     "metadata": {
      "image/png": {
       "height": 420,
       "width": 420
      },
      "text/plain": {
       "height": 420,
       "width": 420
      }
     },
     "output_type": "display_data"
    }
   ],
   "source": [
    "# How to plot a voom object if save.plot=TRUE\n",
    "# Set plot generic to voom result EList\n",
    "#' @export\n",
    "setMethod(\"plot\", signature(x=\"EList\", y=\"missing\"),\n",
    "  function(x,  y, ...){\n",
    "    if( is.null(x$voom.xy) || is.null(x$voom.line)){\n",
    "        stop(\"x does not contain the trend information.\\nvoom() must be run with save.plot=TRUE\")\n",
    "    }\n",
    "    # points\n",
    "    df = data.frame(x = x$voom.xy$x,\n",
    "                    y = x$voom.xy$y)\n",
    "    # trend line\n",
    "    df.line = data.frame(x = x$voom.line$x,\n",
    "                        y = x$voom.line$y)\n",
    "    ggplot(df, aes(x,y)) + geom_point(size=.1) + theme_bw(15) + \n",
    "      theme(aspect.ratio=1, plot.title = element_text(hjust = 0.5)) + \n",
    "      geom_line(data=df.line, aes(x,y), color=\"red\") + xlab(bquote(log[2](count + 0.5))) + \n",
    "      ylab(expression( sqrt(\"standard deviation\"))) + ggtitle(\"Voom: Mean-variance trend\") + \n",
    "      ylim(0, max(df$y))\n",
    "  }\n",
    ")\n",
    "plot(VOOM.GENE_EXPRESSION)"
   ]
  },
  {
   "cell_type": "code",
   "execution_count": 22,
   "metadata": {},
   "outputs": [
    {
     "name": "stdout",
     "output_type": "stream",
     "text": [
      "Dividing work into 100 chunks...\n"
     ]
    },
    {
     "name": "stderr",
     "output_type": "stream",
     "text": [
      "iteration: \n",
      "1\n",
      "\b2\n",
      "\b3\n",
      "\b4\n",
      "\b5\n",
      "\b6\n",
      "\b7\n",
      "\b8\n",
      "\b9\n",
      "\b10\n",
      "11\n",
      "12\n",
      "13\n",
      "14\n",
      "15\n",
      "16\n",
      "17\n",
      "18\n",
      "19\n",
      "20\n",
      "21\n",
      "22\n",
      "23\n",
      "24\n",
      "25\n",
      "26\n",
      "27\n",
      "28\n",
      "29\n",
      "30\n",
      "31\n",
      "32\n",
      "33\n",
      "34\n",
      "35\n",
      "36\n",
      "37\n",
      "38\n",
      "39\n",
      "40\n",
      "41\n",
      "42\n",
      "43\n",
      "44\n",
      "45\n",
      "46\n",
      "47\n",
      "48\n",
      "49\n",
      "50\n",
      "51\n",
      "52\n",
      "53\n",
      "54\n",
      "55\n",
      "56\n",
      "57\n",
      "58\n",
      "59\n",
      "60\n",
      "61\n",
      "62\n",
      "63\n",
      "64\n",
      "65\n",
      "66\n",
      "67\n",
      "68\n",
      "69\n",
      "70\n",
      "71\n",
      "72\n",
      "73\n",
      "74\n",
      "75\n",
      "76\n",
      "77\n",
      "78\n",
      "79\n",
      "80\n",
      "81\n",
      "82\n",
      "83\n",
      "84\n",
      "85\n",
      "86\n",
      "87\n",
      "88\n",
      "89\n",
      "90\n",
      "91\n",
      "92\n",
      "93\n",
      "94\n",
      "95\n",
      "96\n",
      "97\n",
      "98\n",
      "99\n",
      "100\n",
      "\n",
      "\n"
     ]
    },
    {
     "name": "stdout",
     "output_type": "stream",
     "text": [
      "\n",
      "Total: 465 s\n"
     ]
    }
   ],
   "source": [
    "# Fit linear model using new weights and new design\n",
    "ADJUSTED.FIT = dream(exprObj = VOOM.GENE_EXPRESSION,\n",
    "                     formula = formula,\n",
    "                     data = covariates)"
   ]
  },
  {
   "cell_type": "code",
   "execution_count": 23,
   "metadata": {},
   "outputs": [
    {
     "name": "stderr",
     "output_type": "stream",
     "text": [
      "\n",
      "Batch submitting query [>------------------------------]   2% eta: 26s\n",
      "\n",
      "Batch submitting query [>------------------------------]   3% eta: 34s\n",
      "\n",
      "Batch submitting query [>------------------------------]   3% eta: 38s\n",
      "\n",
      "Batch submitting query [>------------------------------]   4% eta: 43s\n",
      "\n",
      "Batch submitting query [=>-----------------------------]   5% eta: 44s\n",
      "\n",
      "Batch submitting query [=>-----------------------------]   6% eta: 46s\n",
      "\n",
      "Batch submitting query [=>-----------------------------]   7% eta: 46s\n",
      "\n",
      "Batch submitting query [=>-----------------------------]   8% eta: 47s\n",
      "\n",
      "Batch submitting query [==>----------------------------]   9% eta: 47s\n",
      "\n",
      "Batch submitting query [==>----------------------------]   9% eta:  1m\n",
      "\n",
      "Batch submitting query [==>----------------------------]  10% eta:  1m\n",
      "\n",
      "Batch submitting query [==>----------------------------]  11% eta:  1m\n",
      "\n",
      "Batch submitting query [===>---------------------------]  12% eta:  1m\n",
      "\n",
      "Batch submitting query [===>---------------------------]  13% eta:  1m\n",
      "\n",
      "Batch submitting query [===>---------------------------]  14% eta:  1m\n",
      "\n",
      "Batch submitting query [====>--------------------------]  15% eta:  1m\n",
      "\n",
      "Batch submitting query [====>--------------------------]  15% eta: 50s\n",
      "\n",
      "Batch submitting query [====>--------------------------]  16% eta: 49s\n",
      "\n",
      "Batch submitting query [====>--------------------------]  17% eta: 48s\n",
      "\n",
      "Batch submitting query [=====>-------------------------]  18% eta: 48s\n",
      "\n",
      "Batch submitting query [=====>-------------------------]  19% eta: 48s\n",
      "\n",
      "Batch submitting query [=====>-------------------------]  20% eta: 47s\n",
      "\n",
      "Batch submitting query [=====>-------------------------]  21% eta: 47s\n",
      "\n",
      "Batch submitting query [======>------------------------]  21% eta: 46s\n",
      "\n",
      "Batch submitting query [======>------------------------]  22% eta: 46s\n",
      "\n",
      "Batch submitting query [======>------------------------]  23% eta: 46s\n",
      "\n",
      "Batch submitting query [======>------------------------]  24% eta: 45s\n",
      "\n",
      "Batch submitting query [=======>-----------------------]  25% eta: 44s\n",
      "\n",
      "Batch submitting query [=======>-----------------------]  26% eta: 44s\n",
      "\n",
      "Batch submitting query [=======>-----------------------]  26% eta: 43s\n",
      "\n",
      "Batch submitting query [=======>-----------------------]  27% eta: 43s\n",
      "\n",
      "Batch submitting query [========>----------------------]  28% eta: 42s\n",
      "\n",
      "Batch submitting query [========>----------------------]  29% eta: 42s\n",
      "\n",
      "Batch submitting query [========>----------------------]  30% eta: 42s\n",
      "\n",
      "Batch submitting query [=========>---------------------]  31% eta: 41s\n",
      "\n",
      "Batch submitting query [=========>---------------------]  32% eta: 41s\n",
      "\n",
      "Batch submitting query [=========>---------------------]  32% eta: 40s\n",
      "\n",
      "Batch submitting query [=========>---------------------]  33% eta: 40s\n",
      "\n",
      "Batch submitting query [==========>--------------------]  34% eta: 39s\n",
      "\n",
      "Batch submitting query [==========>--------------------]  35% eta: 39s\n",
      "\n",
      "Batch submitting query [==========>--------------------]  36% eta: 38s\n",
      "\n",
      "Batch submitting query [==========>--------------------]  37% eta: 38s\n",
      "\n",
      "Batch submitting query [===========>-------------------]  38% eta: 37s\n",
      "\n",
      "Batch submitting query [===========>-------------------]  39% eta: 36s\n",
      "\n",
      "Batch submitting query [===========>-------------------]  40% eta: 36s\n",
      "\n",
      "Batch submitting query [============>------------------]  41% eta: 35s\n",
      "\n",
      "Batch submitting query [============>------------------]  42% eta: 35s\n",
      "\n",
      "Batch submitting query [============>------------------]  43% eta: 34s\n",
      "\n",
      "Batch submitting query [=============>-----------------]  44% eta: 34s\n",
      "\n",
      "Batch submitting query [=============>-----------------]  44% eta: 33s\n",
      "\n",
      "Batch submitting query [=============>-----------------]  45% eta: 33s\n",
      "\n",
      "Batch submitting query [=============>-----------------]  46% eta: 32s\n",
      "\n",
      "Batch submitting query [==============>----------------]  47% eta: 32s\n",
      "\n",
      "Batch submitting query [==============>----------------]  48% eta: 31s\n",
      "\n",
      "Batch submitting query [==============>----------------]  49% eta: 31s\n",
      "\n",
      "Batch submitting query [==============>----------------]  50% eta: 30s\n",
      "\n",
      "Batch submitting query [===============>---------------]  50% eta: 30s\n",
      "\n",
      "Batch submitting query [===============>---------------]  51% eta: 29s\n",
      "\n",
      "Batch submitting query [===============>---------------]  52% eta: 29s\n",
      "\n",
      "Batch submitting query [===============>---------------]  53% eta: 28s\n",
      "\n",
      "Batch submitting query [================>--------------]  54% eta: 28s\n",
      "\n",
      "Batch submitting query [================>--------------]  55% eta: 27s\n",
      "\n",
      "Batch submitting query [================>--------------]  56% eta: 27s\n",
      "\n",
      "Batch submitting query [=================>-------------]  57% eta: 26s\n",
      "\n",
      "Batch submitting query [=================>-------------]  58% eta: 26s\n",
      "\n",
      "Batch submitting query [=================>-------------]  59% eta: 25s\n",
      "\n",
      "Batch submitting query [==================>------------]  60% eta: 25s\n",
      "\n",
      "Batch submitting query [==================>------------]  61% eta: 24s\n",
      "\n",
      "Batch submitting query [==================>------------]  62% eta: 24s\n",
      "\n",
      "Batch submitting query [==================>------------]  62% eta: 23s\n",
      "\n",
      "Batch submitting query [===================>-----------]  63% eta: 23s\n",
      "\n",
      "Batch submitting query [===================>-----------]  64% eta: 22s\n",
      "\n",
      "Batch submitting query [===================>-----------]  65% eta: 22s\n",
      "\n",
      "Batch submitting query [===================>-----------]  66% eta: 21s\n",
      "\n",
      "Batch submitting query [====================>----------]  67% eta: 20s\n",
      "\n",
      "Batch submitting query [====================>----------]  68% eta: 20s\n",
      "\n",
      "Batch submitting query [====================>----------]  68% eta: 19s\n",
      "\n",
      "Batch submitting query [====================>----------]  69% eta: 19s\n",
      "\n",
      "Batch submitting query [=====================>---------]  70% eta: 18s\n",
      "\n",
      "Batch submitting query [=====================>---------]  71% eta: 18s\n",
      "\n",
      "Batch submitting query [=====================>---------]  72% eta: 17s\n",
      "\n",
      "Batch submitting query [======================>--------]  73% eta: 17s\n",
      "\n",
      "Batch submitting query [======================>--------]  74% eta: 16s\n",
      "\n",
      "Batch submitting query [======================>--------]  75% eta: 15s\n",
      "\n",
      "Batch submitting query [=======================>-------]  76% eta: 15s\n",
      "\n",
      "Batch submitting query [=======================>-------]  77% eta: 14s\n",
      "\n",
      "Batch submitting query [=======================>-------]  78% eta: 14s\n",
      "\n",
      "Batch submitting query [=======================>-------]  79% eta: 13s\n",
      "\n",
      "Batch submitting query [========================>------]  79% eta: 12s\n",
      "\n",
      "Batch submitting query [========================>------]  80% eta: 12s\n",
      "\n",
      "Batch submitting query [========================>------]  81% eta: 11s\n",
      "\n",
      "Batch submitting query [========================>------]  82% eta: 11s\n",
      "\n",
      "Batch submitting query [=========================>-----]  83% eta: 10s\n",
      "\n",
      "Batch submitting query [=========================>-----]  84% eta: 10s\n",
      "\n",
      "Batch submitting query [=========================>-----]  85% eta:  9s\n",
      "\n",
      "Batch submitting query [==========================>----]  86% eta:  8s\n",
      "\n",
      "Batch submitting query [==========================>----]  87% eta:  8s\n",
      "\n",
      "Batch submitting query [==========================>----]  88% eta:  7s\n",
      "\n",
      "Batch submitting query [===========================>---]  89% eta:  7s\n",
      "\n",
      "Batch submitting query [===========================>---]  90% eta:  6s\n",
      "\n",
      "Batch submitting query [===========================>---]  91% eta:  6s\n",
      "\n",
      "Batch submitting query [===========================>---]  91% eta:  5s\n",
      "\n",
      "Batch submitting query [============================>--]  92% eta:  5s\n",
      "\n",
      "Batch submitting query [============================>--]  93% eta:  4s\n",
      "\n",
      "Batch submitting query [============================>--]  94% eta:  4s\n",
      "\n",
      "Batch submitting query [============================>--]  95% eta:  3s\n",
      "\n",
      "Batch submitting query [=============================>-]  96% eta:  3s\n",
      "\n",
      "Batch submitting query [=============================>-]  97% eta:  2s\n",
      "\n",
      "Batch submitting query [=============================>-]  98% eta:  1s\n",
      "\n",
      "Batch submitting query [==============================>]  99% eta:  1s\n",
      "\n",
      "Batch submitting query [===============================] 100% eta:  0s\n",
      "                                                                      \n",
      "\n"
     ]
    }
   ],
   "source": [
    "# Get background genes \n",
    "backgroundGenes = data.frame(gene_id = rownames(NEW.COUNTS)) %>%\n",
    "  mutate(id = gene_id) %>%\n",
    "  separate(id, c('ensembl_gene_id','position'), sep = '\\\\.')\n",
    "\n",
    "# Define biomart object\n",
    "mart <- biomaRt::useMart(biomart = \"ENSEMBL_MART_ENSEMBL\",\n",
    "                host = \"uswest.ensembl.org\", # Ensembl Release 99 (January 2020)\n",
    "                dataset = \"hsapiens_gene_ensembl\")\n",
    "# Query biomart\n",
    "Ensemble2HGNC <- getBM(attributes = c(\"ensembl_gene_id\", \"hgnc_symbol\", \n",
    "                                      \"percentage_gene_gc_content\", \"gene_biotype\", \n",
    "                                      \"chromosome_name\"),\n",
    "                       filters = \"ensembl_gene_id\", \n",
    "                       values = backgroundGenes$ensembl_gene_id,\n",
    "                       mart = mart)"
   ]
  },
  {
   "cell_type": "code",
   "execution_count": 24,
   "metadata": {},
   "outputs": [
    {
     "data": {
      "text/html": [
       "<style>\n",
       ".list-inline {list-style: none; margin:0; padding: 0}\n",
       ".list-inline>li {display: inline-block}\n",
       ".list-inline>li:not(:last-child)::after {content: \"\\00b7\"; padding: 0 .5ex}\n",
       "</style>\n",
       "<ol class=list-inline><li>'(Intercept)'</li><li>'DxSCZ'</li><li>'Reported_GenderMale'</li><li>'RIN'</li><li>'Intronic_Rate'</li><li>'DxSCZ:Reported_GenderMale'</li></ol>\n"
      ],
      "text/latex": [
       "\\begin{enumerate*}\n",
       "\\item '(Intercept)'\n",
       "\\item 'DxSCZ'\n",
       "\\item 'Reported\\_GenderMale'\n",
       "\\item 'RIN'\n",
       "\\item 'Intronic\\_Rate'\n",
       "\\item 'DxSCZ:Reported\\_GenderMale'\n",
       "\\end{enumerate*}\n"
      ],
      "text/markdown": [
       "1. '(Intercept)'\n",
       "2. 'DxSCZ'\n",
       "3. 'Reported_GenderMale'\n",
       "4. 'RIN'\n",
       "5. 'Intronic_Rate'\n",
       "6. 'DxSCZ:Reported_GenderMale'\n",
       "\n",
       "\n"
      ],
      "text/plain": [
       "[1] \"(Intercept)\"               \"DxSCZ\"                    \n",
       "[3] \"Reported_GenderMale\"       \"RIN\"                      \n",
       "[5] \"Intronic_Rate\"             \"DxSCZ:Reported_GenderMale\""
      ]
     },
     "metadata": {},
     "output_type": "display_data"
    }
   ],
   "source": [
    "colnames(ADJUSTED.FIT$design)"
   ]
  },
  {
   "cell_type": "markdown",
   "metadata": {},
   "source": [
    "### Calculate differential expression with eBayes"
   ]
  },
  {
   "cell_type": "markdown",
   "metadata": {},
   "source": [
    "#### SZ vs Ctrl"
   ]
  },
  {
   "cell_type": "code",
   "execution_count": 43,
   "metadata": {},
   "outputs": [],
   "source": [
    "extract_de <- function(coef_name, comparison){\n",
    "    top <- topTable(ADJUSTED.FIT, coef=coef_name, number = Inf, sort.by=\"P\") %>%\n",
    "        rownameToFirstColumn('gene_id') %>% \n",
    "        left_join(backgroundGenes) %>% \n",
    "        mutate(Direction = logFC/abs(logFC),\n",
    "               Direction = factor(Direction, c(-1,1), c('-1' = 'DOWN', '1' = 'UP')),\n",
    "               Direction = as.character(Direction)) %>%\n",
    "        left_join(Ensemble2HGNC)\n",
    "    top.fdr <- top %>% filter(adj.P.Val<=0.05)\n",
    "    print(dim(top.fdr)[1])\n",
    "    write.table(top, \n",
    "                file=paste0(feature, \"/diffExpr_\", comparison, \"_full.txt\"),\n",
    "                sep='\\t', row.names=FALSE, quote=FALSE)\n",
    "    write.table(top.fdr, \n",
    "                file=paste0(feature, \"/diffExpr_\", comparison, \"_FDR05.txt\"),\n",
    "            sep='\\t', row.names=FALSE, quote=FALSE)\n",
    "}"
   ]
  },
  {
   "cell_type": "code",
   "execution_count": 44,
   "metadata": {},
   "outputs": [
    {
     "name": "stderr",
     "output_type": "stream",
     "text": [
      "Joining, by = \"gene_id\"\n",
      "\n",
      "Warning message:\n",
      "\"Column `gene_id` joining character vector and factor, coercing into character vector\"\n",
      "Joining, by = \"ensembl_gene_id\"\n",
      "\n"
     ]
    },
    {
     "name": "stdout",
     "output_type": "stream",
     "text": [
      "[1] 2183\n"
     ]
    }
   ],
   "source": [
    "options(width=200)\n",
    "\n",
    "extract_de(\"DxSCZ\", \"szVctl\")"
   ]
  },
  {
   "cell_type": "markdown",
   "metadata": {},
   "source": [
    "#### Male vs Female"
   ]
  },
  {
   "cell_type": "code",
   "execution_count": 45,
   "metadata": {},
   "outputs": [
    {
     "name": "stderr",
     "output_type": "stream",
     "text": [
      "Joining, by = \"gene_id\"\n",
      "\n",
      "Warning message:\n",
      "\"Column `gene_id` joining character vector and factor, coercing into character vector\"\n",
      "Joining, by = \"ensembl_gene_id\"\n",
      "\n"
     ]
    },
    {
     "name": "stdout",
     "output_type": "stream",
     "text": [
      "[1] 202\n"
     ]
    }
   ],
   "source": [
    "extract_de(\"Reported_GenderMale\", \"maleVfemale\")"
   ]
  },
  {
   "cell_type": "markdown",
   "metadata": {},
   "source": [
    "#### Interaction"
   ]
  },
  {
   "cell_type": "code",
   "execution_count": 46,
   "metadata": {},
   "outputs": [
    {
     "name": "stderr",
     "output_type": "stream",
     "text": [
      "Joining, by = \"gene_id\"\n",
      "\n",
      "Warning message:\n",
      "\"Column `gene_id` joining character vector and factor, coercing into character vector\"\n",
      "Joining, by = \"ensembl_gene_id\"\n",
      "\n"
     ]
    },
    {
     "name": "stdout",
     "output_type": "stream",
     "text": [
      "[1] 1\n"
     ]
    }
   ],
   "source": [
    "extract_de(\"DxSCZ:Reported_GenderMale\", \"interaction\")"
   ]
  },
  {
   "cell_type": "markdown",
   "metadata": {},
   "source": [
    "### Calculate residuals"
   ]
  },
  {
   "cell_type": "code",
   "execution_count": 56,
   "metadata": {},
   "outputs": [],
   "source": [
    "null_model = ADJUSTED.FIT$design %>% as.data.frame %>%\n",
    "    dplyr::select(!c(\"Reported_GenderMale\", \"DxSCZ\", \"DxSCZ:Reported_GenderMale\"))\n",
    "fit_res <- limma::lmFit(VOOM.GENE_EXPRESSION, design=null_model)\n",
    "res = VOOM.GENE_EXPRESSION$E - ( fit_res$coefficients %*% t(null_model) )\n",
    "res_sd = apply(res, 1, sd)\n",
    "res_mean = apply(res, 1, mean)\n",
    "## Normalize residuals and write to file\n",
    "res_norm = (res - res_mean) / res_sd"
   ]
  },
  {
   "cell_type": "code",
   "execution_count": 23,
   "metadata": {},
   "outputs": [],
   "source": [
    "write.table(res_norm, \n",
    "            file=paste0(feature, '/residualized_expression.tsv'), \n",
    "            sep=\"\\t\", quote=FALSE)"
   ]
  },
  {
   "cell_type": "markdown",
   "metadata": {},
   "source": [
    "## Repreducibility Information"
   ]
  },
  {
   "cell_type": "code",
   "execution_count": 40,
   "metadata": {},
   "outputs": [
    {
     "data": {
      "text/plain": [
       "[1] \"2019-06-06 15:35:17 EDT\""
      ]
     },
     "metadata": {},
     "output_type": "display_data"
    },
    {
     "data": {
      "text/plain": [
       "    user   system  elapsed \n",
       "3161.182   47.897  287.152 "
      ]
     },
     "metadata": {},
     "output_type": "display_data"
    },
    {
     "data": {
      "text/plain": [
       "- Session info -------------------------------------------------------------------------------------------------------\n",
       " setting  value                       \n",
       " version  R version 3.5.0 (2018-04-23)\n",
       " os       Arch Linux                  \n",
       " system   x86_64, linux-gnu           \n",
       " ui       X11                         \n",
       " language (EN)                        \n",
       " collate  C                           \n",
       " ctype    C                           \n",
       " tz       America/New_York            \n",
       " date     2019-06-06                  \n",
       "\n",
       "- Packages -----------------------------------------------------------------------------------------------------------\n",
       " package              * version   date       lib source        \n",
       " annotate               1.60.0    2018-10-30 [1] Bioconductor  \n",
       " AnnotationDbi          1.44.0    2018-10-30 [1] Bioconductor  \n",
       " assertthat             0.2.0     2017-04-11 [1] CRAN (R 3.5.0)\n",
       " base64enc              0.1-3     2015-07-28 [1] CRAN (R 3.5.0)\n",
       " bindr                  0.1.1     2018-03-13 [1] CRAN (R 3.5.0)\n",
       " bindrcpp               0.2.2     2018-03-29 [1] CRAN (R 3.5.0)\n",
       " Biobase              * 2.42.0    2018-10-30 [1] Bioconductor  \n",
       " BiocGenerics         * 0.28.0    2018-10-30 [1] Bioconductor  \n",
       " BiocParallel         * 1.16.2    2018-11-28 [1] Bioconductor  \n",
       " bit                    1.1-14    2018-05-29 [1] CRAN (R 3.5.0)\n",
       " bit64                  0.9-7     2017-05-08 [1] CRAN (R 3.5.0)\n",
       " bitops                 1.0-6     2013-08-17 [1] CRAN (R 3.5.0)\n",
       " blob                   1.1.1     2018-03-25 [1] CRAN (R 3.5.0)\n",
       " calibrate            * 1.7.2     2013-09-10 [1] CRAN (R 3.5.0)\n",
       " cli                    1.0.1     2018-09-25 [1] CRAN (R 3.5.0)\n",
       " colorspace             1.3-2     2016-12-14 [1] CRAN (R 3.5.0)\n",
       " crayon                 1.3.4     2017-09-16 [1] CRAN (R 3.5.0)\n",
       " DBI                    1.0.0     2018-05-02 [1] CRAN (R 3.5.0)\n",
       " DelayedArray         * 0.8.0     2018-10-30 [1] Bioconductor  \n",
       " digest                 0.6.18    2018-10-10 [1] CRAN (R 3.5.0)\n",
       " dplyr                  0.7.8     2018-11-10 [1] CRAN (R 3.5.0)\n",
       " edgeR                * 3.24.1    2018-12-03 [1] Bioconductor  \n",
       " evaluate               0.12      2018-10-09 [1] CRAN (R 3.5.0)\n",
       " genefilter           * 1.64.0    2018-10-30 [1] Bioconductor  \n",
       " GenomeInfoDb         * 1.18.1    2018-11-12 [1] Bioconductor  \n",
       " GenomeInfoDbData       1.2.0     2018-11-10 [1] Bioconductor  \n",
       " GenomicRanges        * 1.34.0    2018-10-30 [1] Bioconductor  \n",
       " ggplot2              * 3.1.0     2018-10-25 [1] CRAN (R 3.5.0)\n",
       " glue                   1.3.0     2018-07-17 [1] CRAN (R 3.5.0)\n",
       " gtable                 0.2.0     2016-02-26 [1] CRAN (R 3.5.0)\n",
       " htmltools              0.3.6     2017-04-28 [1] CRAN (R 3.5.0)\n",
       " IRanges              * 2.16.0    2018-10-30 [1] Bioconductor  \n",
       " IRdisplay              0.7.0     2018-11-29 [1] CRAN (R 3.5.0)\n",
       " IRkernel               0.8.14    2018-11-16 [1] CRAN (R 3.5.0)\n",
       " jsonlite               1.5       2017-06-01 [1] CRAN (R 3.5.0)\n",
       " labeling               0.3       2014-08-23 [1] CRAN (R 3.5.0)\n",
       " lattice                0.20-35   2017-03-25 [2] CRAN (R 3.5.0)\n",
       " lazyeval               0.2.1     2017-10-29 [1] CRAN (R 3.5.0)\n",
       " limma                * 3.38.3    2018-12-02 [1] Bioconductor  \n",
       " locfit                 1.5-9.1   2013-04-20 [1] CRAN (R 3.5.0)\n",
       " magrittr               1.5       2014-11-22 [1] CRAN (R 3.5.0)\n",
       " MASS                 * 7.3-51.1  2018-11-01 [1] CRAN (R 3.5.0)\n",
       " Matrix                 1.2-14    2018-04-13 [2] CRAN (R 3.5.0)\n",
       " matrixStats          * 0.54.0    2018-07-23 [1] CRAN (R 3.5.0)\n",
       " memoise                1.1.0     2017-04-21 [1] CRAN (R 3.5.0)\n",
       " mgcv                 * 1.8-23    2018-01-21 [2] CRAN (R 3.5.0)\n",
       " munsell                0.5.0     2018-06-12 [1] CRAN (R 3.5.0)\n",
       " nlme                 * 3.1-137   2018-04-07 [2] CRAN (R 3.5.0)\n",
       " pbdZMQ                 0.3-3     2018-05-05 [1] CRAN (R 3.5.0)\n",
       " pillar                 1.3.0     2018-07-14 [1] CRAN (R 3.5.0)\n",
       " pkgconfig              2.0.2     2018-08-16 [1] CRAN (R 3.5.0)\n",
       " plyr                   1.8.4     2016-06-08 [1] CRAN (R 3.5.0)\n",
       " purrr                  0.2.5     2018-05-29 [1] CRAN (R 3.5.0)\n",
       " R6                     2.3.0     2018-10-04 [1] CRAN (R 3.5.0)\n",
       " Rcpp                   1.0.0     2018-11-07 [1] CRAN (R 3.5.0)\n",
       " RCurl                  1.95-4.11 2018-07-15 [1] CRAN (R 3.5.0)\n",
       " repr                   0.18      2018-11-27 [1] CRAN (R 3.5.0)\n",
       " rlang                  0.3.0.1   2018-10-25 [1] CRAN (R 3.5.0)\n",
       " RSQLite                2.1.1     2018-05-06 [1] CRAN (R 3.5.0)\n",
       " S4Vectors            * 0.20.1    2018-11-09 [1] Bioconductor  \n",
       " scales                 1.0.0     2018-08-09 [1] CRAN (R 3.5.0)\n",
       " sessioninfo            1.1.1     2018-11-05 [1] CRAN (R 3.5.0)\n",
       " SummarizedExperiment * 1.12.0    2018-10-30 [1] Bioconductor  \n",
       " survival               2.41-3    2017-04-04 [2] CRAN (R 3.5.0)\n",
       " sva                  * 3.30.0    2018-10-30 [1] Bioconductor  \n",
       " tibble                 1.4.2     2018-01-22 [1] CRAN (R 3.5.0)\n",
       " tidyselect             0.2.5     2018-10-11 [1] CRAN (R 3.5.0)\n",
       " uuid                   0.1-2     2015-07-28 [1] CRAN (R 3.5.0)\n",
       " withr                  2.1.2     2018-03-15 [1] CRAN (R 3.5.0)\n",
       " XML                    3.98-1.16 2018-08-19 [1] CRAN (R 3.5.0)\n",
       " xtable                 1.8-3     2018-08-29 [1] CRAN (R 3.5.0)\n",
       " XVector                0.22.0    2018-10-30 [1] Bioconductor  \n",
       " zlibbioc               1.28.0    2018-10-30 [1] Bioconductor  \n",
       "\n",
       "[1] /home/jbenja13/R/x86_64-pc-linux-gnu-library/3.5\n",
       "[2] /usr/lib/R/library"
      ]
     },
     "metadata": {},
     "output_type": "display_data"
    }
   ],
   "source": [
    "Sys.time()\n",
    "proc.time()\n",
    "options(width = 120)\n",
    "sessioninfo::session_info()"
   ]
  },
  {
   "cell_type": "code",
   "execution_count": null,
   "metadata": {},
   "outputs": [],
   "source": []
  }
 ],
 "metadata": {
  "kernelspec": {
   "display_name": "R",
   "language": "R",
   "name": "ir"
  },
  "language_info": {
   "codemirror_mode": "r",
   "file_extension": ".r",
   "mimetype": "text/x-r-source",
   "name": "R",
   "pygments_lexer": "r",
   "version": "4.0.3"
  }
 },
 "nbformat": 4,
 "nbformat_minor": 4
}
