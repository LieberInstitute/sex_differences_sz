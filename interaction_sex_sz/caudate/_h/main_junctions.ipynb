{
 "cells": [
  {
   "cell_type": "markdown",
   "metadata": {},
   "source": [
    "# Differential Expression with limma-voom pipeline - Genes"
   ]
  },
  {
   "cell_type": "code",
   "execution_count": 1,
   "metadata": {},
   "outputs": [],
   "source": [
    "suppressMessages({library(SummarizedExperiment)\n",
    "                  library(data.table)\n",
    "                  library(tidyverse)\n",
    "                  library(limma)\n",
    "                  library(edgeR)\n",
    "                  library(sva)})"
   ]
  },
  {
   "cell_type": "markdown",
   "metadata": {},
   "source": [
    "## Prepare Data"
   ]
  },
  {
   "cell_type": "code",
   "execution_count": 6,
   "metadata": {},
   "outputs": [],
   "source": [
    "# Function from jaffelab github\n",
    "merge_rse_metrics <- function(rse) {\n",
    "    stopifnot(is(rse, 'RangedSummarizedExperiment'))\n",
    "    stopifnot(\n",
    "        c('concordMapRate', 'overallMapRate', 'mitoRate', 'rRNA_rate',\n",
    "          'totalAssignedGene', 'numMapped', 'numReads', 'numUnmapped',\n",
    "          'mitoMapped', 'totalMapped') %in%\n",
    "            colnames(SummarizedExperiment::colData(rse))\n",
    "    )\n",
    "\n",
    "    stopifnot(all(sapply(c(\n",
    "        'concordMapRate', 'overallMapRate', 'mitoRate', 'rRNA_rate',\n",
    "        'totalAssignedGene', 'numMapped', 'numReads', 'numUnmapped',\n",
    "        'mitoMapped', 'totalMapped'), function(var) {\n",
    "            is(colData(rse)[, var], 'List')\n",
    "        })\n",
    "    ))\n",
    "\n",
    "    rse$concordMapRate = mapply(function(r, n) {\n",
    "        sum(r*n)/sum(n)\n",
    "    }, rse$concordMapRate, rse$numReads)\n",
    "    rse$overallMapRate = mapply(function(r, n) {\n",
    "        sum(r*n)/sum(n)\n",
    "    }, rse$overallMapRate, rse$numReads)\n",
    "    rse$mitoRate = mapply(function(r, n) {\n",
    "        sum(r*n)/sum(n)\n",
    "    }, rse$mitoRate, rse$numMapped)\n",
    "    rse$rRNA_rate = mapply(function(r, n) {\n",
    "        sum(r*n)/sum(n)\n",
    "    }, rse$rRNA_rate, rse$numMapped)\n",
    "    rse$totalAssignedGene = mapply(function(r, n) {\n",
    "        sum(r*n)/sum(n)\n",
    "    }, rse$totalAssignedGene, rse$numMapped)\n",
    "\n",
    "    rse$numMapped = sapply(rse$numMapped, sum)\n",
    "    rse$numReads = sapply(rse$numReads, sum)\n",
    "    rse$numUnmapped = sapply(rse$numUnmapped, sum)\n",
    "    rse$mitoMapped = sapply(rse$mitoMapped, sum)\n",
    "    rse$totalMapped = sapply(rse$totalMapped, sum)\n",
    "    return(rse)\n",
    "}"
   ]
  },
  {
   "cell_type": "markdown",
   "metadata": {},
   "source": [
    "### Load gene counts"
   ]
  },
  {
   "cell_type": "code",
   "execution_count": 2,
   "metadata": {},
   "outputs": [
    {
     "data": {
      "text/plain": [
       "class: RangedSummarizedExperiment \n",
       "dim: 1311958 464 \n",
       "metadata(0):\n",
       "assays(1): counts\n",
       "rownames(1311958): chr1:11672-12009(+) chr1:13115-183634(+) ...\n",
       "  chrY:57210793-57211551(-) chrY:57213965-57214349(-)\n",
       "rowData names(15): inGencode inGencodeStart ... newGeneSymbol isFusion\n",
       "colnames(464): R12864 R12865 ... R13503 R13504\n",
       "colData names(71): BrNum RNum ... RNum.1 FlowCell"
      ]
     },
     "metadata": {},
     "output_type": "display_data"
    }
   ],
   "source": [
    "load(paste0(\"/ceph/projects/v3_phase3_paper/inputs/phase3/_m/count_data/\", \n",
    "            \"caudate_brainseq_phase3_hg38_rseJxn_merged_n464.rda\"))\n",
    "rse_jxn"
   ]
  },
  {
   "cell_type": "markdown",
   "metadata": {},
   "source": [
    "### Load genotype data"
   ]
  },
  {
   "cell_type": "code",
   "execution_count": 3,
   "metadata": {},
   "outputs": [
    {
     "data": {
      "text/plain": [
       "class: RangedSummarizedExperiment \n",
       "dim: 1311958 464 \n",
       "metadata(0):\n",
       "assays(1): counts\n",
       "rownames(1311958): chr1:11672-12009(+) chr1:13115-183634(+) ...\n",
       "  chrY:57210793-57211551(-) chrY:57213965-57214349(-)\n",
       "rowData names(15): inGencode inGencodeStart ... newGeneSymbol isFusion\n",
       "colnames(464): R12864 R12865 ... R13503 R13504\n",
       "colData names(81): BrNum RNum ... snpPC9 snpPC10"
      ]
     },
     "metadata": {},
     "output_type": "display_data"
    }
   ],
   "source": [
    "mds_file = paste0(\"/ceph/projects/v3_phase3_paper/inputs/genotypes/to_brnum/\", \n",
    "                  \"merge/to_plink/mds/_m/merged.mds\")\n",
    "mds = fread(mds_file) %>% \n",
    "    rename(\"snpPC1\"=\"C1\", \"snpPC2\"=\"C2\", \"snpPC3\"=\"C3\", \n",
    "           \"snpPC4\"=\"C4\", \"snpPC5\"=\"C5\") %>%\n",
    "    mutate_if(is.character, as.factor)"
   ]
  },
  {
   "cell_type": "markdown",
   "metadata": {},
   "source": [
    "### Subset and recode"
   ]
  },
  {
   "cell_type": "code",
   "execution_count": 4,
   "metadata": {},
   "outputs": [
    {
     "data": {
      "text/plain": [
       "class: RangedSummarizedExperiment \n",
       "dim: 1311958 394 \n",
       "metadata(0):\n",
       "assays(1): counts\n",
       "rownames(1311958): chr1:11672-12009(+) chr1:13115-183634(+) ...\n",
       "  chrY:57210793-57211551(-) chrY:57213965-57214349(-)\n",
       "rowData names(15): inGencode inGencodeStart ... newGeneSymbol isFusion\n",
       "colnames(394): R12864 R12865 ... R13503 R13504\n",
       "colData names(81): BrNum RNum ... snpPC9 snpPC10"
      ]
     },
     "metadata": {},
     "output_type": "display_data"
    }
   ],
   "source": [
    "keepIndex = which((rse_jxn$Dx %in% c(\"Control\", \"Schizo\")) & \n",
    "                  rse_jxn$Age > 17 & \n",
    "                  rse_jxn$Race %in% c(\"AA\", \"CAUC\"))\n",
    "rse_jxn = rse_jxn[, keepIndex]\n",
    "rse_jxn$Dx = factor(rse_jxn$Dx, levels = c(\"Control\", \"Schizo\"))\n",
    "rse_jxn$Sex <- factor(rse_jxn$Sex)\n",
    "rse_jxn"
   ]
  },
  {
   "cell_type": "code",
   "execution_count": 7,
   "metadata": {},
   "outputs": [
    {
     "data": {
      "image/png": "[encoded data removed]",
      "text/plain": [
       "plot without title"
      ]
     },
     "metadata": {
      "image/png": {
       "height": 420,
       "width": 420
      },
      "text/plain": {
       "height": 420,
       "width": 420
      }
     },
     "output_type": "display_data"
    }
   ],
   "source": [
    "rse_jxn <- merge_rse_metrics(rse_jxn)\n",
    "\n",
    "rse_jxn$ERCCsumLogErr <- mapply(function(r, n) {\n",
    "        sum(r * n)/sum(n)\n",
    "    }, rse_jxn$ERCCsumLogErr, rse_jxn$numReads)\n",
    "colData(rse_jxn)$RIN = sapply(colData(rse_jxn)$RIN,\"[\",1)\n",
    "\n",
    "pheno = colData(rse_jxn) %>% as.data.frame %>% \n",
    "    inner_join(mds, by=c(\"BrNum\"=\"FID\"))"
   ]
  },
  {
   "cell_type": "markdown",
   "metadata": {},
   "source": [
    "### Generate DGEList"
   ]
  },
  {
   "cell_type": "code",
   "execution_count": 9,
   "metadata": {},
   "outputs": [],
   "source": [
    "x <- DGEList(counts=assays(rse_jxn)$counts, \n",
    "             genes=rowData(rse_jxn), samples=pheno)"
   ]
  },
  {
   "cell_type": "markdown",
   "metadata": {},
   "source": [
    "### Filtering low counts"
   ]
  },
  {
   "cell_type": "code",
   "execution_count": 10,
   "metadata": {},
   "outputs": [
    {
     "name": "stdout",
     "output_type": "stream",
     "text": [
      "[1] \"There are: 176228 features left!\"\n"
     ]
    }
   ],
   "source": [
    "design0 <- model.matrix(~Dx*Sex, data=x$samples)\n",
    "keep.x <- filterByExpr(x, design=design0)\n",
    "x <- x[keep.x, , keep.lib.sizes=FALSE]\n",
    "print(paste('There are:', sum(keep.x), 'features left!', sep=' '))"
   ]
  },
  {
   "cell_type": "markdown",
   "metadata": {},
   "source": [
    "### Normalize counts"
   ]
  },
  {
   "cell_type": "code",
   "execution_count": 11,
   "metadata": {},
   "outputs": [],
   "source": [
    "x <- calcNormFactors(x, method=\"TMM\")"
   ]
  },
  {
   "cell_type": "markdown",
   "metadata": {},
   "source": [
    "## Differential Expression Analysis"
   ]
  },
  {
   "cell_type": "markdown",
   "metadata": {},
   "source": [
    "### Design matrix"
   ]
  },
  {
   "cell_type": "code",
   "execution_count": 12,
   "metadata": {},
   "outputs": [
    {
     "data": {
      "text/html": [
       "<table>\n",
       "<caption>A matrix: 2 × 16 of type dbl</caption>\n",
       "<thead>\n",
       "\t<tr><th></th><th scope=col>Intercept</th><th scope=col>Schizo</th><th scope=col>Male</th><th scope=col>Age</th><th scope=col>mitoRate</th><th scope=col>rRNA_rate</th><th scope=col>totalAssignedGene</th><th scope=col>RIN</th><th scope=col>ERCCsumLogErr</th><th scope=col>overallMapRate</th><th scope=col>snpPC1</th><th scope=col>snpPC2</th><th scope=col>snpPC3</th><th scope=col>snpPC4</th><th scope=col>snpPC5</th><th scope=col>Schizo_Male</th></tr>\n",
       "</thead>\n",
       "<tbody>\n",
       "\t<tr><th scope=row>R12864</th><td>1</td><td>1</td><td>0</td><td>42.98</td><td>0.03265387</td><td>8.675159e-05</td><td>0.5148545</td><td>9.6</td><td>-59.97567</td><td>0.9093498</td><td>0.0493213</td><td>-0.00560004</td><td>-1.25945e-03</td><td>0.00109117</td><td> 0.000905945</td><td>0</td></tr>\n",
       "\t<tr><th scope=row>R12865</th><td>1</td><td>1</td><td>1</td><td>53.12</td><td>0.01978740</td><td>6.976684e-05</td><td>0.5207789</td><td>9.5</td><td>-45.71034</td><td>0.8734840</td><td>0.0630991</td><td>-0.00499613</td><td> 2.93356e-05</td><td>0.00104552</td><td>-0.001195790</td><td>1</td></tr>\n",
       "</tbody>\n",
       "</table>\n"
      ],
      "text/latex": [
       "A matrix: 2 × 16 of type dbl\n",
       "\\begin{tabular}{r|llllllllllllllll}\n",
       "  & Intercept & Schizo & Male & Age & mitoRate & rRNA\\_rate & totalAssignedGene & RIN & ERCCsumLogErr & overallMapRate & snpPC1 & snpPC2 & snpPC3 & snpPC4 & snpPC5 & Schizo\\_Male\\\\\n",
       "\\hline\n",
       "\tR12864 & 1 & 1 & 0 & 42.98 & 0.03265387 & 8.675159e-05 & 0.5148545 & 9.6 & -59.97567 & 0.9093498 & 0.0493213 & -0.00560004 & -1.25945e-03 & 0.00109117 &  0.000905945 & 0\\\\\n",
       "\tR12865 & 1 & 1 & 1 & 53.12 & 0.01978740 & 6.976684e-05 & 0.5207789 & 9.5 & -45.71034 & 0.8734840 & 0.0630991 & -0.00499613 &  2.93356e-05 & 0.00104552 & -0.001195790 & 1\\\\\n",
       "\\end{tabular}\n"
      ],
      "text/markdown": [
       "\n",
       "A matrix: 2 × 16 of type dbl\n",
       "\n",
       "| <!--/--> | Intercept | Schizo | Male | Age | mitoRate | rRNA_rate | totalAssignedGene | RIN | ERCCsumLogErr | overallMapRate | snpPC1 | snpPC2 | snpPC3 | snpPC4 | snpPC5 | Schizo_Male |\n",
       "|---|---|---|---|---|---|---|---|---|---|---|---|---|---|---|---|---|\n",
       "| R12864 | 1 | 1 | 0 | 42.98 | 0.03265387 | 8.675159e-05 | 0.5148545 | 9.6 | -59.97567 | 0.9093498 | 0.0493213 | -0.00560004 | -1.25945e-03 | 0.00109117 |  0.000905945 | 0 |\n",
       "| R12865 | 1 | 1 | 1 | 53.12 | 0.01978740 | 6.976684e-05 | 0.5207789 | 9.5 | -45.71034 | 0.8734840 | 0.0630991 | -0.00499613 |  2.93356e-05 | 0.00104552 | -0.001195790 | 1 |\n",
       "\n"
      ],
      "text/plain": [
       "       Intercept Schizo Male Age   mitoRate   rRNA_rate    totalAssignedGene\n",
       "R12864 1         1      0    42.98 0.03265387 8.675159e-05 0.5148545        \n",
       "R12865 1         1      1    53.12 0.01978740 6.976684e-05 0.5207789        \n",
       "       RIN ERCCsumLogErr overallMapRate snpPC1    snpPC2      snpPC3      \n",
       "R12864 9.6 -59.97567     0.9093498      0.0493213 -0.00560004 -1.25945e-03\n",
       "R12865 9.5 -45.71034     0.8734840      0.0630991 -0.00499613  2.93356e-05\n",
       "       snpPC4     snpPC5       Schizo_Male\n",
       "R12864 0.00109117  0.000905945 0          \n",
       "R12865 0.00104552 -0.001195790 1          "
      ]
     },
     "metadata": {},
     "output_type": "display_data"
    }
   ],
   "source": [
    "mod = model.matrix(~Dx*Sex + Age + mitoRate +\n",
    "        rRNA_rate + totalAssignedGene + RIN +\n",
    "        ERCCsumLogErr + overallMapRate +\n",
    "        snpPC1 + snpPC2 + snpPC3,\n",
    "        data = x$samples)\n",
    "\n",
    "colnames(mod) <- gsub(\"Dx\", \"\", colnames(mod))\n",
    "colnames(mod) <- gsub(\"SexM\", \"Male\", colnames(mod))\n",
    "colnames(mod) <- gsub(\"Schizo:Male\", \"Schizo_Male\", colnames(mod))\n",
    "colnames(mod) <- gsub(\"\\\\(Intercept\\\\)\", \"Intercept\",\n",
    "                         colnames(mod))\n",
    "\n",
    "head(mod, 2)"
   ]
  },
  {
   "cell_type": "markdown",
   "metadata": {},
   "source": [
    "### Calculate SVAs"
   ]
  },
  {
   "cell_type": "code",
   "execution_count": 14,
   "metadata": {},
   "outputs": [
    {
     "data": {
      "text/html": [
       "<table>\n",
       "<caption>A matrix: 2 × 14 of type dbl</caption>\n",
       "<thead>\n",
       "\t<tr><th></th><th scope=col>Intercept</th><th scope=col>Schizo</th><th scope=col>Age</th><th scope=col>mitoRate</th><th scope=col>rRNA_rate</th><th scope=col>totalAssignedGene</th><th scope=col>RIN</th><th scope=col>ERCCsumLogErr</th><th scope=col>overallMapRate</th><th scope=col>snpPC1</th><th scope=col>snpPC2</th><th scope=col>snpPC3</th><th scope=col>snpPC4</th><th scope=col>snpPC5</th></tr>\n",
       "</thead>\n",
       "<tbody>\n",
       "\t<tr><th scope=row>R12864</th><td>1</td><td>1</td><td>42.98</td><td>0.03265387</td><td>8.675159e-05</td><td>0.5148545</td><td>9.6</td><td>-59.97567</td><td>0.9093498</td><td>0.0493213</td><td>-0.00560004</td><td>-1.25945e-03</td><td>0.00109117</td><td> 0.000905945</td></tr>\n",
       "\t<tr><th scope=row>R12865</th><td>1</td><td>1</td><td>53.12</td><td>0.01978740</td><td>6.976684e-05</td><td>0.5207789</td><td>9.5</td><td>-45.71034</td><td>0.8734840</td><td>0.0630991</td><td>-0.00499613</td><td> 2.93356e-05</td><td>0.00104552</td><td>-0.001195790</td></tr>\n",
       "</tbody>\n",
       "</table>\n"
      ],
      "text/latex": [
       "A matrix: 2 × 14 of type dbl\n",
       "\\begin{tabular}{r|llllllllllllll}\n",
       "  & Intercept & Schizo & Age & mitoRate & rRNA\\_rate & totalAssignedGene & RIN & ERCCsumLogErr & overallMapRate & snpPC1 & snpPC2 & snpPC3 & snpPC4 & snpPC5\\\\\n",
       "\\hline\n",
       "\tR12864 & 1 & 1 & 42.98 & 0.03265387 & 8.675159e-05 & 0.5148545 & 9.6 & -59.97567 & 0.9093498 & 0.0493213 & -0.00560004 & -1.25945e-03 & 0.00109117 &  0.000905945\\\\\n",
       "\tR12865 & 1 & 1 & 53.12 & 0.01978740 & 6.976684e-05 & 0.5207789 & 9.5 & -45.71034 & 0.8734840 & 0.0630991 & -0.00499613 &  2.93356e-05 & 0.00104552 & -0.001195790\\\\\n",
       "\\end{tabular}\n"
      ],
      "text/markdown": [
       "\n",
       "A matrix: 2 × 14 of type dbl\n",
       "\n",
       "| <!--/--> | Intercept | Schizo | Age | mitoRate | rRNA_rate | totalAssignedGene | RIN | ERCCsumLogErr | overallMapRate | snpPC1 | snpPC2 | snpPC3 | snpPC4 | snpPC5 |\n",
       "|---|---|---|---|---|---|---|---|---|---|---|---|---|---|---|\n",
       "| R12864 | 1 | 1 | 42.98 | 0.03265387 | 8.675159e-05 | 0.5148545 | 9.6 | -59.97567 | 0.9093498 | 0.0493213 | -0.00560004 | -1.25945e-03 | 0.00109117 |  0.000905945 |\n",
       "| R12865 | 1 | 1 | 53.12 | 0.01978740 | 6.976684e-05 | 0.5207789 | 9.5 | -45.71034 | 0.8734840 | 0.0630991 | -0.00499613 |  2.93356e-05 | 0.00104552 | -0.001195790 |\n",
       "\n"
      ],
      "text/plain": [
       "       Intercept Schizo Age   mitoRate   rRNA_rate    totalAssignedGene RIN\n",
       "R12864 1         1      42.98 0.03265387 8.675159e-05 0.5148545         9.6\n",
       "R12865 1         1      53.12 0.01978740 6.976684e-05 0.5207789         9.5\n",
       "       ERCCsumLogErr overallMapRate snpPC1    snpPC2      snpPC3      \n",
       "R12864 -59.97567     0.9093498      0.0493213 -0.00560004 -1.25945e-03\n",
       "R12865 -45.71034     0.8734840      0.0630991 -0.00499613  2.93356e-05\n",
       "       snpPC4     snpPC5      \n",
       "R12864 0.00109117  0.000905945\n",
       "R12865 0.00104552 -0.001195790"
      ]
     },
     "metadata": {},
     "output_type": "display_data"
    }
   ],
   "source": [
    "null.model = mod %>% as.data.frame %>% \n",
    "    select(-c(\"Male\", \"Schizo\", \"Schizo_Male\")) %>% as.matrix\n",
    "head(null.model, 2)"
   ]
  },
  {
   "cell_type": "code",
   "execution_count": 15,
   "metadata": {},
   "outputs": [
    {
     "name": "stdout",
     "output_type": "stream",
     "text": [
      "[1] \"Determining number of surragate variables ... 2020-01-25 12:12:40\"\n",
      "[1] \"Fitting SV model ... 2020-01-25 12:16:27\"\n",
      "Number of significant surrogate variables is:  4 \n",
      "Iteration (out of 5 ):1  2  3  4  5  "
     ]
    }
   ],
   "source": [
    "print(paste('Determining number of surragate variables ...', Sys.time(), sep=' '))\n",
    "n.sv <- num.sv(x$counts, mod, method=\"be\")\n",
    "\n",
    "print(paste('Fitting SV model ...', Sys.time(), sep=' '))\n",
    "svobj <- svaseq(x$counts, mod, null.model, n.sv=n.sv)"
   ]
  },
  {
   "cell_type": "markdown",
   "metadata": {},
   "source": [
    "### Merge models"
   ]
  },
  {
   "cell_type": "code",
   "execution_count": 16,
   "metadata": {},
   "outputs": [
    {
     "name": "stdout",
     "output_type": "stream",
     "text": [
      "[1] \"Adding SV to design matrix ... 2020-01-25 12:16:51\"\n"
     ]
    }
   ],
   "source": [
    "print(paste('Adding SV to design matrix ...', Sys.time(), sep=' '))\n",
    "modQsva <- cbind(mod, svobj$sv)\n",
    "len.d <- length(colnames(modQsva))\n",
    "colnames(modQsva)[((len.d - n.sv)+1):len.d] <- make.names(paste0(\"sv\",1:n.sv))"
   ]
  },
  {
   "cell_type": "markdown",
   "metadata": {},
   "source": [
    "### Preform voom"
   ]
  },
  {
   "cell_type": "code",
   "execution_count": null,
   "metadata": {},
   "outputs": [],
   "source": [
    "v <- voom(x, modQsva, plot=TRUE)"
   ]
  },
  {
   "cell_type": "code",
   "execution_count": 25,
   "metadata": {},
   "outputs": [],
   "source": [
    "feature = 'junctions'\n",
    "dir.create(feature)\n",
    "\n",
    "save(v, file=paste0(feature,'/voomSVA.RData'))"
   ]
  },
  {
   "cell_type": "markdown",
   "metadata": {},
   "source": [
    "### Calculate residuals"
   ]
  },
  {
   "cell_type": "code",
   "execution_count": 26,
   "metadata": {},
   "outputs": [],
   "source": [
    "null_model = v$design %>% as.data.frame %>% \n",
    "    select(-c(\"Male\", \"Schizo\", \"Schizo_Male\")) %>% as.matrix\n",
    "fit_res <- lmFit(v, design=null_model)\n",
    "res = v$E - ( fit_res$coefficients %*% t(null_model) )\n",
    "res_sd = apply(res, 1, sd)\n",
    "res_mean = apply(res, 1, mean)"
   ]
  },
  {
   "cell_type": "markdown",
   "metadata": {},
   "source": [
    "### Normalize residuals and write to file"
   ]
  },
  {
   "cell_type": "code",
   "execution_count": 27,
   "metadata": {},
   "outputs": [],
   "source": [
    "res_norm = (res - res_mean) / res_sd\n",
    "write.table(res_norm, file=paste0(feature, '/residualized_expression.tsv'),\n",
    "            sep=\"\\t\", quote=FALSE)"
   ]
  },
  {
   "cell_type": "markdown",
   "metadata": {},
   "source": [
    "### Fit model with limma"
   ]
  },
  {
   "cell_type": "code",
   "execution_count": null,
   "metadata": {},
   "outputs": [],
   "source": [
    "fit0 <- lmFit(v, modQsva)\n",
    "contr.matrix <- makeContrasts(CtrlvsSZ = Schizo,\n",
    "                              MvsF = Male,\n",
    "                              Interaction = Schizo_Male,\n",
    "                              levels=colnames(modQsva))\n",
    "fit <- contrasts.fit(fit0, contrasts=contr.matrix)"
   ]
  },
  {
   "cell_type": "markdown",
   "metadata": {},
   "source": [
    "### Calculate differential expression with eBayes"
   ]
  },
  {
   "cell_type": "code",
   "execution_count": null,
   "metadata": {},
   "outputs": [],
   "source": [
    "save_volcanoPlot <- function(top, label){\n",
    "    pdf(file=paste0(feature, \"/volcanoPlot_\", label, \".pdf\"), 8, 6)\n",
    "    with(top, plot(logFC, -log10(P.Value), pch=20, cex=0.6))\n",
    "    with(subset(top, adj.P.Val<=0.05), points(logFC, -log10(P.Value),\n",
    "                                              pch=20, col='red', cex=0.6))\n",
    "    with(subset(top, abs(logFC)>0.50), points(logFC, -log10(P.Value),\n",
    "                                              pch=20, col='orange', cex=0.6))\n",
    "    with(subset(top, adj.P.Val<=0.05 & abs(logFC)>0.50),\n",
    "         points(logFC, -log10(P.Value), pch=20, col='green', cex=0.6))\n",
    "    dev.off()\n",
    "}\n",
    "\n",
    "\n",
    "save_MAplot <- function(top, label){\n",
    "    pdf(file=paste0(feature, \"/MAplot_\", label, \".pdf\"), 8, 6)\n",
    "    with(top, plot(AveExpr, logFC, pch=20, cex=0.5))\n",
    "    with(subset(top, adj.P.Val<0.05),\n",
    "         points(AveExpr, logFC, col=\"red\", pch=20, cex=0.5))\n",
    "    dev.off()\n",
    "}\n",
    "\n",
    "\n",
    "extract_de <- function(contrast, label, fit){\n",
    "    top <- topTable(fit, coef=contrast, number=Inf, sort.by=\"P\")\n",
    "    top <- top[order(top$P.Value), ]\n",
    "    top.fdr <- top %>% filter(adj.P.Val<=0.05)\n",
    "    print(paste(\"Comparison for:\", label))\n",
    "    print(paste('There are:', dim(top.fdr)[1], 'DE features!'))\n",
    "    fwrite(top, \n",
    "           file=paste0(feature, \"/diffExpr_\", label, \"_full.txt\"), \n",
    "           sep='\\t', row.names=TRUE)\n",
    "    fwrite(top.fdr, \n",
    "           file=paste0(feature, \"/diffExpr_\", label, \"_FDR05.txt\"), \n",
    "           sep='\\t', row.names=TRUE)\n",
    "    save_volcanoPlot(top, label)\n",
    "    save_MAplot(top, label)\n",
    "}"
   ]
  },
  {
   "cell_type": "code",
   "execution_count": 19,
   "metadata": {},
   "outputs": [],
   "source": [
    "options(width=200)\n",
    "esv <- eBayes(fit)"
   ]
  },
  {
   "cell_type": "markdown",
   "metadata": {},
   "source": [
    "#### SZ vs Ctrl"
   ]
  },
  {
   "cell_type": "code",
   "execution_count": 19,
   "metadata": {},
   "outputs": [
    {
     "data": {
      "text/html": [
       "<ol class=list-inline>\n",
       "\t<li>25373</li>\n",
       "\t<li>18</li>\n",
       "</ol>\n"
      ],
      "text/latex": [
       "\\begin{enumerate*}\n",
       "\\item 25373\n",
       "\\item 18\n",
       "\\end{enumerate*}\n"
      ],
      "text/markdown": [
       "1. 25373\n",
       "2. 18\n",
       "\n",
       "\n"
      ],
      "text/plain": [
       "[1] 25373    18"
      ]
     },
     "metadata": {},
     "output_type": "display_data"
    }
   ],
   "source": [
    "extract_de(1, 'szVctl', esv)"
   ]
  },
  {
   "cell_type": "markdown",
   "metadata": {},
   "source": [
    "#### Male vs Female"
   ]
  },
  {
   "cell_type": "code",
   "execution_count": 22,
   "metadata": {},
   "outputs": [
    {
     "data": {
      "text/html": [
       "<ol class=list-inline>\n",
       "\t<li>25373</li>\n",
       "\t<li>18</li>\n",
       "</ol>\n"
      ],
      "text/latex": [
       "\\begin{enumerate*}\n",
       "\\item 25373\n",
       "\\item 18\n",
       "\\end{enumerate*}\n"
      ],
      "text/markdown": [
       "1. 25373\n",
       "2. 18\n",
       "\n",
       "\n"
      ],
      "text/plain": [
       "[1] 25373    18"
      ]
     },
     "metadata": {},
     "output_type": "display_data"
    }
   ],
   "source": [
    "extract_de(2, 'maleVfemale', esv)"
   ]
  },
  {
   "cell_type": "markdown",
   "metadata": {},
   "source": [
    "#### Interaction"
   ]
  },
  {
   "cell_type": "code",
   "execution_count": 25,
   "metadata": {},
   "outputs": [
    {
     "data": {
      "text/html": [
       "<ol class=list-inline>\n",
       "\t<li>25373</li>\n",
       "\t<li>18</li>\n",
       "</ol>\n"
      ],
      "text/latex": [
       "\\begin{enumerate*}\n",
       "\\item 25373\n",
       "\\item 18\n",
       "\\end{enumerate*}\n"
      ],
      "text/markdown": [
       "1. 25373\n",
       "2. 18\n",
       "\n",
       "\n"
      ],
      "text/plain": [
       "[1] 25373    18"
      ]
     },
     "metadata": {},
     "output_type": "display_data"
    }
   ],
   "source": [
    "extract_de(3, 'interaction', esv)"
   ]
  },
  {
   "cell_type": "markdown",
   "metadata": {},
   "source": [
    "## Repreducibility Information"
   ]
  },
  {
   "cell_type": "code",
   "execution_count": 40,
   "metadata": {},
   "outputs": [
    {
     "data": {
      "text/plain": [
       "[1] \"2019-06-06 15:55:45 EDT\""
      ]
     },
     "metadata": {},
     "output_type": "display_data"
    },
    {
     "data": {
      "text/plain": [
       "    user   system  elapsed \n",
       "3433.034   61.322  702.555 "
      ]
     },
     "metadata": {},
     "output_type": "display_data"
    },
    {
     "data": {
      "text/plain": [
       "- Session info -------------------------------------------------------------------------------------------------------\n",
       " setting  value                       \n",
       " version  R version 3.5.0 (2018-04-23)\n",
       " os       Arch Linux                  \n",
       " system   x86_64, linux-gnu           \n",
       " ui       X11                         \n",
       " language (EN)                        \n",
       " collate  C                           \n",
       " ctype    C                           \n",
       " tz       America/New_York            \n",
       " date     2019-06-06                  \n",
       "\n",
       "- Packages -----------------------------------------------------------------------------------------------------------\n",
       " package              * version   date       lib source        \n",
       " annotate               1.60.0    2018-10-30 [1] Bioconductor  \n",
       " AnnotationDbi          1.44.0    2018-10-30 [1] Bioconductor  \n",
       " assertthat             0.2.0     2017-04-11 [1] CRAN (R 3.5.0)\n",
       " base64enc              0.1-3     2015-07-28 [1] CRAN (R 3.5.0)\n",
       " bindr                  0.1.1     2018-03-13 [1] CRAN (R 3.5.0)\n",
       " bindrcpp               0.2.2     2018-03-29 [1] CRAN (R 3.5.0)\n",
       " Biobase              * 2.42.0    2018-10-30 [1] Bioconductor  \n",
       " BiocGenerics         * 0.28.0    2018-10-30 [1] Bioconductor  \n",
       " BiocParallel         * 1.16.2    2018-11-28 [1] Bioconductor  \n",
       " bit                    1.1-14    2018-05-29 [1] CRAN (R 3.5.0)\n",
       " bit64                  0.9-7     2017-05-08 [1] CRAN (R 3.5.0)\n",
       " bitops                 1.0-6     2013-08-17 [1] CRAN (R 3.5.0)\n",
       " blob                   1.1.1     2018-03-25 [1] CRAN (R 3.5.0)\n",
       " calibrate            * 1.7.2     2013-09-10 [1] CRAN (R 3.5.0)\n",
       " cli                    1.0.1     2018-09-25 [1] CRAN (R 3.5.0)\n",
       " colorspace             1.3-2     2016-12-14 [1] CRAN (R 3.5.0)\n",
       " crayon                 1.3.4     2017-09-16 [1] CRAN (R 3.5.0)\n",
       " DBI                    1.0.0     2018-05-02 [1] CRAN (R 3.5.0)\n",
       " DelayedArray         * 0.8.0     2018-10-30 [1] Bioconductor  \n",
       " digest                 0.6.18    2018-10-10 [1] CRAN (R 3.5.0)\n",
       " dplyr                  0.7.8     2018-11-10 [1] CRAN (R 3.5.0)\n",
       " edgeR                * 3.24.1    2018-12-03 [1] Bioconductor  \n",
       " evaluate               0.12      2018-10-09 [1] CRAN (R 3.5.0)\n",
       " genefilter           * 1.64.0    2018-10-30 [1] Bioconductor  \n",
       " GenomeInfoDb         * 1.18.1    2018-11-12 [1] Bioconductor  \n",
       " GenomeInfoDbData       1.2.0     2018-11-10 [1] Bioconductor  \n",
       " GenomicRanges        * 1.34.0    2018-10-30 [1] Bioconductor  \n",
       " ggplot2              * 3.1.0     2018-10-25 [1] CRAN (R 3.5.0)\n",
       " glue                   1.3.0     2018-07-17 [1] CRAN (R 3.5.0)\n",
       " gtable                 0.2.0     2016-02-26 [1] CRAN (R 3.5.0)\n",
       " htmltools              0.3.6     2017-04-28 [1] CRAN (R 3.5.0)\n",
       " IRanges              * 2.16.0    2018-10-30 [1] Bioconductor  \n",
       " IRdisplay              0.7.0     2018-11-29 [1] CRAN (R 3.5.0)\n",
       " IRkernel               0.8.14    2018-11-16 [1] CRAN (R 3.5.0)\n",
       " jsonlite               1.5       2017-06-01 [1] CRAN (R 3.5.0)\n",
       " labeling               0.3       2014-08-23 [1] CRAN (R 3.5.0)\n",
       " lattice                0.20-35   2017-03-25 [2] CRAN (R 3.5.0)\n",
       " lazyeval               0.2.1     2017-10-29 [1] CRAN (R 3.5.0)\n",
       " limma                * 3.38.3    2018-12-02 [1] Bioconductor  \n",
       " locfit                 1.5-9.1   2013-04-20 [1] CRAN (R 3.5.0)\n",
       " magrittr               1.5       2014-11-22 [1] CRAN (R 3.5.0)\n",
       " MASS                 * 7.3-51.1  2018-11-01 [1] CRAN (R 3.5.0)\n",
       " Matrix                 1.2-14    2018-04-13 [2] CRAN (R 3.5.0)\n",
       " matrixStats          * 0.54.0    2018-07-23 [1] CRAN (R 3.5.0)\n",
       " memoise                1.1.0     2017-04-21 [1] CRAN (R 3.5.0)\n",
       " mgcv                 * 1.8-23    2018-01-21 [2] CRAN (R 3.5.0)\n",
       " munsell                0.5.0     2018-06-12 [1] CRAN (R 3.5.0)\n",
       " nlme                 * 3.1-137   2018-04-07 [2] CRAN (R 3.5.0)\n",
       " pbdZMQ                 0.3-3     2018-05-05 [1] CRAN (R 3.5.0)\n",
       " pillar                 1.3.0     2018-07-14 [1] CRAN (R 3.5.0)\n",
       " pkgconfig              2.0.2     2018-08-16 [1] CRAN (R 3.5.0)\n",
       " plyr                   1.8.4     2016-06-08 [1] CRAN (R 3.5.0)\n",
       " purrr                  0.2.5     2018-05-29 [1] CRAN (R 3.5.0)\n",
       " R6                     2.3.0     2018-10-04 [1] CRAN (R 3.5.0)\n",
       " Rcpp                   1.0.0     2018-11-07 [1] CRAN (R 3.5.0)\n",
       " RCurl                  1.95-4.11 2018-07-15 [1] CRAN (R 3.5.0)\n",
       " repr                   0.18      2018-11-27 [1] CRAN (R 3.5.0)\n",
       " rlang                  0.3.0.1   2018-10-25 [1] CRAN (R 3.5.0)\n",
       " RSQLite                2.1.1     2018-05-06 [1] CRAN (R 3.5.0)\n",
       " S4Vectors            * 0.20.1    2018-11-09 [1] Bioconductor  \n",
       " scales                 1.0.0     2018-08-09 [1] CRAN (R 3.5.0)\n",
       " sessioninfo            1.1.1     2018-11-05 [1] CRAN (R 3.5.0)\n",
       " SummarizedExperiment * 1.12.0    2018-10-30 [1] Bioconductor  \n",
       " survival               2.41-3    2017-04-04 [2] CRAN (R 3.5.0)\n",
       " sva                  * 3.30.0    2018-10-30 [1] Bioconductor  \n",
       " tibble                 1.4.2     2018-01-22 [1] CRAN (R 3.5.0)\n",
       " tidyselect             0.2.5     2018-10-11 [1] CRAN (R 3.5.0)\n",
       " uuid                   0.1-2     2015-07-28 [1] CRAN (R 3.5.0)\n",
       " withr                  2.1.2     2018-03-15 [1] CRAN (R 3.5.0)\n",
       " XML                    3.98-1.16 2018-08-19 [1] CRAN (R 3.5.0)\n",
       " xtable                 1.8-3     2018-08-29 [1] CRAN (R 3.5.0)\n",
       " XVector                0.22.0    2018-10-30 [1] Bioconductor  \n",
       " zlibbioc               1.28.0    2018-10-30 [1] Bioconductor  \n",
       "\n",
       "[1] /home/jbenja13/R/x86_64-pc-linux-gnu-library/3.5\n",
       "[2] /usr/lib/R/library"
      ]
     },
     "metadata": {},
     "output_type": "display_data"
    }
   ],
   "source": [
    "Sys.time()\n",
    "proc.time()\n",
    "options(width = 120)\n",
    "sessioninfo::session_info()"
   ]
  }
 ],
 "metadata": {
  "kernelspec": {
   "display_name": "R",
   "language": "R",
   "name": "ir"
  },
  "language_info": {
   "codemirror_mode": "r",
   "file_extension": ".r",
   "mimetype": "text/x-r-source",
   "name": "R",
   "pygments_lexer": "r",
   "version": "4.0.2"
  }
 },
 "nbformat": 4,
 "nbformat_minor": 4
}
