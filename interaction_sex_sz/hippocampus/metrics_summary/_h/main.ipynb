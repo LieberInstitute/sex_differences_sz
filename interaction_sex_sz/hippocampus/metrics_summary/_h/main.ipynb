{
 "cells": [
  {
   "cell_type": "markdown",
   "metadata": {},
   "source": [
    "# Summary analysis in Hippocampus"
   ]
  },
  {
   "cell_type": "code",
   "execution_count": 1,
   "metadata": {},
   "outputs": [],
   "source": [
    "import numpy as np\n",
    "import pandas as pd\n",
    "from venn import venn\n",
    "from matplotlib import pyplot as plt\n",
    "\n",
    "from plotnine import *\n",
    "from warnings import filterwarnings\n",
    "from matplotlib.cbook import mplDeprecation\n",
    "filterwarnings(\"ignore\",category=mplDeprecation)"
   ]
  },
  {
   "cell_type": "markdown",
   "metadata": {},
   "source": [
    "## Summary plots"
   ]
  },
  {
   "cell_type": "markdown",
   "metadata": {},
   "source": [
    "### Genes"
   ]
  },
  {
   "cell_type": "code",
   "execution_count": 2,
   "metadata": {},
   "outputs": [
    {
     "data": {
      "text/html": [
       "<div>\n",
       "<style scoped>\n",
       "    .dataframe tbody tr th:only-of-type {\n",
       "        vertical-align: middle;\n",
       "    }\n",
       "\n",
       "    .dataframe tbody tr th {\n",
       "        vertical-align: top;\n",
       "    }\n",
       "\n",
       "    .dataframe thead th {\n",
       "        text-align: right;\n",
       "    }\n",
       "</style>\n",
       "<table border=\"1\" class=\"dataframe\">\n",
       "  <thead>\n",
       "    <tr style=\"text-align: right;\">\n",
       "      <th></th>\n",
       "      <th>Feature</th>\n",
       "      <th>Symbol</th>\n",
       "      <th>ensemblID</th>\n",
       "      <th>logFC</th>\n",
       "      <th>adj.P.Val</th>\n",
       "      <th>Type</th>\n",
       "    </tr>\n",
       "  </thead>\n",
       "  <tbody>\n",
       "  </tbody>\n",
       "</table>\n",
       "</div>"
      ],
      "text/plain": [
       "Empty DataFrame\n",
       "Columns: [Feature, Symbol, ensemblID, logFC, adj.P.Val, Type]\n",
       "Index: []"
      ]
     },
     "execution_count": 2,
     "metadata": {},
     "output_type": "execute_result"
    }
   ],
   "source": [
    "genes = pd.read_csv('../../_m/genes/diffExpr_interaction_full.txt', \n",
    "                    sep='\\t')\n",
    "genes = genes[(genes['adj.P.Val'] < 0.20)].sort_values('adj.P.Val')\n",
    "genes['Feature'] = genes.index\n",
    "genes = genes[['Feature', 'Symbol', 'ensemblID', 'logFC', 'adj.P.Val']]\n",
    "genes['Type'] = 'gene'\n",
    "genes.head()"
   ]
  },
  {
   "cell_type": "markdown",
   "metadata": {},
   "source": [
    "### Transcripts"
   ]
  },
  {
   "cell_type": "code",
   "execution_count": 20,
   "metadata": {},
   "outputs": [
    {
     "data": {
      "text/html": [
       "<div>\n",
       "<style scoped>\n",
       "    .dataframe tbody tr th:only-of-type {\n",
       "        vertical-align: middle;\n",
       "    }\n",
       "\n",
       "    .dataframe tbody tr th {\n",
       "        vertical-align: top;\n",
       "    }\n",
       "\n",
       "    .dataframe thead th {\n",
       "        text-align: right;\n",
       "    }\n",
       "</style>\n",
       "<table border=\"1\" class=\"dataframe\">\n",
       "  <thead>\n",
       "    <tr style=\"text-align: right;\">\n",
       "      <th></th>\n",
       "      <th>Feature</th>\n",
       "      <th>Symbol</th>\n",
       "      <th>ensemblID</th>\n",
       "      <th>logFC</th>\n",
       "      <th>P.Value</th>\n",
       "      <th>adj.P.Val</th>\n",
       "      <th>Type</th>\n",
       "    </tr>\n",
       "  </thead>\n",
       "  <tbody>\n",
       "    <tr>\n",
       "      <th>ENST00000478214.1</th>\n",
       "      <td>ENST00000478214.1</td>\n",
       "      <td>HMGA1</td>\n",
       "      <td>ENSG00000137309</td>\n",
       "      <td>2.625696</td>\n",
       "      <td>0.000001</td>\n",
       "      <td>0.097925</td>\n",
       "      <td>transcript</td>\n",
       "    </tr>\n",
       "  </tbody>\n",
       "</table>\n",
       "</div>"
      ],
      "text/plain": [
       "                             Feature Symbol        ensemblID     logFC  \\\n",
       "ENST00000478214.1  ENST00000478214.1  HMGA1  ENSG00000137309  2.625696   \n",
       "\n",
       "                    P.Value  adj.P.Val        Type  \n",
       "ENST00000478214.1  0.000001   0.097925  transcript  "
      ]
     },
     "execution_count": 20,
     "metadata": {},
     "output_type": "execute_result"
    }
   ],
   "source": [
    "trans = pd.read_csv('../../_m/transcripts/diffExpr_interaction_full.txt', \n",
    "                    sep='\\t', index_col=0)\n",
    "trans = trans[(trans['adj.P.Val'] < 0.20)].sort_values('adj.P.Val')\n",
    "trans['Feature'] = trans.index\n",
    "trans['ensemblID'] = trans.gene_id.str.replace('\\\\.\\d+', '')\n",
    "trans = trans[['Feature', 'Symbol', 'ensemblID', 'logFC', 'P.Value', 'adj.P.Val']]\n",
    "trans['Type'] = 'transcript'\n",
    "trans.head()"
   ]
  },
  {
   "cell_type": "markdown",
   "metadata": {},
   "source": [
    "### Exons"
   ]
  },
  {
   "cell_type": "code",
   "execution_count": 9,
   "metadata": {},
   "outputs": [
    {
     "data": {
      "text/html": [
       "<div>\n",
       "<style scoped>\n",
       "    .dataframe tbody tr th:only-of-type {\n",
       "        vertical-align: middle;\n",
       "    }\n",
       "\n",
       "    .dataframe tbody tr th {\n",
       "        vertical-align: top;\n",
       "    }\n",
       "\n",
       "    .dataframe thead th {\n",
       "        text-align: right;\n",
       "    }\n",
       "</style>\n",
       "<table border=\"1\" class=\"dataframe\">\n",
       "  <thead>\n",
       "    <tr style=\"text-align: right;\">\n",
       "      <th></th>\n",
       "      <th>Feature</th>\n",
       "      <th>Symbol</th>\n",
       "      <th>ensemblID</th>\n",
       "      <th>logFC</th>\n",
       "      <th>adj.P.Val</th>\n",
       "      <th>Type</th>\n",
       "    </tr>\n",
       "  </thead>\n",
       "  <tbody>\n",
       "  </tbody>\n",
       "</table>\n",
       "</div>"
      ],
      "text/plain": [
       "Empty DataFrame\n",
       "Columns: [Feature, Symbol, ensemblID, logFC, adj.P.Val, Type]\n",
       "Index: []"
      ]
     },
     "execution_count": 9,
     "metadata": {},
     "output_type": "execute_result"
    }
   ],
   "source": [
    "exons = pd.read_csv('../../_m/exons/diffExpr_interaction_full.txt', \n",
    "                    sep='\\t', index_col=0)\n",
    "exons = exons[(exons['adj.P.Val'] < 0.20)].sort_values('adj.P.Val')\n",
    "exons['Feature'] = exons.index\n",
    "exons = exons[['Feature', 'Symbol', 'ensemblID', 'logFC', 'adj.P.Val']]\n",
    "exons['Type'] = 'exon'\n",
    "exons.head()"
   ]
  },
  {
   "cell_type": "markdown",
   "metadata": {},
   "source": [
    "### Junctions"
   ]
  },
  {
   "cell_type": "code",
   "execution_count": 12,
   "metadata": {},
   "outputs": [
    {
     "data": {
      "text/html": [
       "<div>\n",
       "<style scoped>\n",
       "    .dataframe tbody tr th:only-of-type {\n",
       "        vertical-align: middle;\n",
       "    }\n",
       "\n",
       "    .dataframe tbody tr th {\n",
       "        vertical-align: top;\n",
       "    }\n",
       "\n",
       "    .dataframe thead th {\n",
       "        text-align: right;\n",
       "    }\n",
       "</style>\n",
       "<table border=\"1\" class=\"dataframe\">\n",
       "  <thead>\n",
       "    <tr style=\"text-align: right;\">\n",
       "      <th></th>\n",
       "      <th>Feature</th>\n",
       "      <th>Symbol</th>\n",
       "      <th>ensemblID</th>\n",
       "      <th>logFC</th>\n",
       "      <th>adj.P.Val</th>\n",
       "      <th>Type</th>\n",
       "    </tr>\n",
       "  </thead>\n",
       "  <tbody>\n",
       "    <tr>\n",
       "      <th>chr14:49853786-49862553(-)</th>\n",
       "      <td>chr14:49853786-49862553(-)</td>\n",
       "      <td>NaN</td>\n",
       "      <td>NaN</td>\n",
       "      <td>6.843164</td>\n",
       "      <td>0.002007</td>\n",
       "      <td>junction</td>\n",
       "    </tr>\n",
       "    <tr>\n",
       "      <th>chr18:31592940-31592993(+)</th>\n",
       "      <td>chr18:31592940-31592993(+)</td>\n",
       "      <td>NaN</td>\n",
       "      <td>NaN</td>\n",
       "      <td>3.726332</td>\n",
       "      <td>0.003891</td>\n",
       "      <td>junction</td>\n",
       "    </tr>\n",
       "    <tr>\n",
       "      <th>chr21:8219273-8402302(-)</th>\n",
       "      <td>chr21:8219273-8402302(-)</td>\n",
       "      <td>NaN</td>\n",
       "      <td>NaN</td>\n",
       "      <td>-3.263341</td>\n",
       "      <td>0.003891</td>\n",
       "      <td>junction</td>\n",
       "    </tr>\n",
       "    <tr>\n",
       "      <th>chrX:140784309-140784456(+)</th>\n",
       "      <td>chrX:140784309-140784456(+)</td>\n",
       "      <td>NaN</td>\n",
       "      <td>NaN</td>\n",
       "      <td>3.178270</td>\n",
       "      <td>0.046789</td>\n",
       "      <td>junction</td>\n",
       "    </tr>\n",
       "  </tbody>\n",
       "</table>\n",
       "</div>"
      ],
      "text/plain": [
       "                                                 Feature Symbol ensemblID  \\\n",
       "chr14:49853786-49862553(-)    chr14:49853786-49862553(-)    NaN       NaN   \n",
       "chr18:31592940-31592993(+)    chr18:31592940-31592993(+)    NaN       NaN   \n",
       "chr21:8219273-8402302(-)        chr21:8219273-8402302(-)    NaN       NaN   \n",
       "chrX:140784309-140784456(+)  chrX:140784309-140784456(+)    NaN       NaN   \n",
       "\n",
       "                                logFC  adj.P.Val      Type  \n",
       "chr14:49853786-49862553(-)   6.843164   0.002007  junction  \n",
       "chr18:31592940-31592993(+)   3.726332   0.003891  junction  \n",
       "chr21:8219273-8402302(-)    -3.263341   0.003891  junction  \n",
       "chrX:140784309-140784456(+)  3.178270   0.046789  junction  "
      ]
     },
     "execution_count": 12,
     "metadata": {},
     "output_type": "execute_result"
    }
   ],
   "source": [
    "juncs = pd.read_csv('../../_m/junctions/diffExpr_interaction_full.txt', \n",
    "                    sep='\\t', index_col=0)\n",
    "juncs = juncs[(juncs['adj.P.Val'] < 0.05)].sort_values('adj.P.Val')\n",
    "juncs['Feature'] = juncs.index\n",
    "juncs = juncs[['Feature', 'Symbol', 'ensemblID', 'logFC', 'adj.P.Val']]\n",
    "juncs['Type'] = 'junction'\n",
    "juncs.head()"
   ]
  },
  {
   "cell_type": "markdown",
   "metadata": {},
   "source": [
    "#### Junction (chr21:8402231-8402287) within RNA45SN3, there is lots of splicing recorded in sorted BAM."
   ]
  }
 ],
 "metadata": {
  "kernelspec": {
   "display_name": "Python 3",
   "language": "python",
   "name": "python3"
  },
  "language_info": {
   "codemirror_mode": {
    "name": "ipython",
    "version": 3
   },
   "file_extension": ".py",
   "mimetype": "text/x-python",
   "name": "python",
   "nbconvert_exporter": "python",
   "pygments_lexer": "ipython3",
   "version": "3.8.6"
  }
 },
 "nbformat": 4,
 "nbformat_minor": 4
}
