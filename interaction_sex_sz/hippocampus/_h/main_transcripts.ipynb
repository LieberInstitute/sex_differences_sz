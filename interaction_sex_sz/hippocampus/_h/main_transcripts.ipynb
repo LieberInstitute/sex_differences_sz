{
 "cells": [
  {
   "cell_type": "markdown",
   "metadata": {},
   "source": [
    "# Differential Expression with limma-voom pipeline - Transcripts"
   ]
  },
  {
   "cell_type": "code",
   "execution_count": 1,
   "metadata": {},
   "outputs": [],
   "source": [
    "suppressMessages({library(SummarizedExperiment)\n",
    "                  library(data.table)\n",
    "                  library(tidyverse)\n",
    "                  library(limma)\n",
    "                  library(edgeR)\n",
    "                  library(sva)})"
   ]
  },
  {
   "cell_type": "markdown",
   "metadata": {},
   "source": [
    "## Prepare Data"
   ]
  },
  {
   "cell_type": "code",
   "execution_count": 2,
   "metadata": {},
   "outputs": [],
   "source": [
    "# Function from jaffelab github\n",
    "merge_rse_metrics <- function(rse) {\n",
    "    stopifnot(is(rse, 'RangedSummarizedExperiment'))\n",
    "    stopifnot(\n",
    "        c('concordMapRate', 'overallMapRate', 'mitoRate', 'rRNA_rate',\n",
    "          'totalAssignedGene', 'numMapped', 'numReads', 'numUnmapped',\n",
    "          'mitoMapped', 'totalMapped') %in%\n",
    "            colnames(SummarizedExperiment::colData(rse))\n",
    "    )\n",
    "\n",
    "    stopifnot(all(sapply(c(\n",
    "        'concordMapRate', 'overallMapRate', 'mitoRate', 'rRNA_rate',\n",
    "        'totalAssignedGene', 'numMapped', 'numReads', 'numUnmapped',\n",
    "        'mitoMapped', 'totalMapped'), function(var) {\n",
    "            is(colData(rse)[, var], 'List')\n",
    "        })\n",
    "    ))\n",
    "\n",
    "    rse$concordMapRate = mapply(function(r, n) {\n",
    "        sum(r*n)/sum(n)\n",
    "    }, rse$concordMapRate, rse$numReads)\n",
    "    rse$overallMapRate = mapply(function(r, n) {\n",
    "        sum(r*n)/sum(n)\n",
    "    }, rse$overallMapRate, rse$numReads)\n",
    "    rse$mitoRate = mapply(function(r, n) {\n",
    "        sum(r*n)/sum(n)\n",
    "    }, rse$mitoRate, rse$numMapped)\n",
    "    rse$rRNA_rate = mapply(function(r, n) {\n",
    "        sum(r*n)/sum(n)\n",
    "    }, rse$rRNA_rate, rse$numMapped)\n",
    "    rse$totalAssignedGene = mapply(function(r, n) {\n",
    "        sum(r*n)/sum(n)\n",
    "    }, rse$totalAssignedGene, rse$numMapped)\n",
    "\n",
    "    rse$numMapped = sapply(rse$numMapped, sum)\n",
    "    rse$numReads = sapply(rse$numReads, sum)\n",
    "    rse$numUnmapped = sapply(rse$numUnmapped, sum)\n",
    "    rse$mitoMapped = sapply(rse$mitoMapped, sum)\n",
    "    rse$totalMapped = sapply(rse$totalMapped, sum)\n",
    "    return(rse)\n",
    "}"
   ]
  },
  {
   "cell_type": "markdown",
   "metadata": {},
   "source": [
    "### Load counts"
   ]
  },
  {
   "cell_type": "code",
   "execution_count": 3,
   "metadata": {},
   "outputs": [],
   "source": [
    "counts.files = paste0(\"/ceph/projects/brainseq/rnaseq/phase2_Hippo_RiboZero/salmon/\", \n",
    "                      \"preprocess/annotate/_m/annotated_counts.txt\")\n",
    "df.raw0 <- fread(counts.files, header=TRUE, data.table = FALSE)\n",
    "\n",
    "rownames(df.raw0) = df.raw0[, 1]\n",
    "annot <- df.raw0[, 1:9]\n",
    "df.raw <- df.raw0[, c(-1:-9)]\n",
    "\n",
    "print(dim(df.raw))\n",
    "print(dim(annot))\n",
    "\n",
    "counts = as.matrix(df.raw)\n",
    "counts[1:2, 1:5]"
   ]
  },
  {
   "cell_type": "markdown",
   "metadata": {},
   "source": [
    "### Load R variable"
   ]
  },
  {
   "cell_type": "code",
   "execution_count": 6,
   "metadata": {},
   "outputs": [
    {
     "data": {
      "text/plain": [
       "class: RangedSummarizedExperiment \n",
       "dim: 198093 447 \n",
       "metadata(0):\n",
       "assays(1): tpm\n",
       "rownames(198093): ENST00000456328.2 ENST00000450305.2 ...\n",
       "  ENST00000387460.2 ENST00000387461.2\n",
       "rowData names(22): source type ... protein_id ccdsid\n",
       "colnames(447): R11135 R11137 ... R5766 R5768\n",
       "colData names(58): SAMPLE_ID RNum ... totalAssignedGene rRNA_rate"
      ]
     },
     "metadata": {},
     "output_type": "display_data"
    }
   ],
   "source": [
    "load(paste0(\"/ceph/projects/v3_phase3_paper/inputs/phase2/_m/count_data/\", \n",
    "            \"hippo_brainseq_phase2_hg38_rseTx_merged_n447.rda\"))\n",
    "rse_tx"
   ]
  },
  {
   "cell_type": "code",
   "execution_count": 7,
   "metadata": {},
   "outputs": [
    {
     "name": "stderr",
     "output_type": "stream",
     "text": [
      "Warning message in colnames(assays(rse_tx)$tpm) == colnames(counts):\n",
      "\"longer object length is not a multiple of shorter object length\"\n"
     ]
    },
    {
     "data": {
      "text/html": [
       "<style>\n",
       ".list-inline {list-style: none; margin:0; padding: 0}\n",
       ".list-inline>li {display: inline-block}\n",
       ".list-inline>li:not(:last-child)::after {content: \"\\00b7\"; padding: 0 .5ex}\n",
       "</style>\n",
       "<ol class=list-inline><li>197311</li><li>447</li></ol>\n"
      ],
      "text/latex": [
       "\\begin{enumerate*}\n",
       "\\item 197311\n",
       "\\item 447\n",
       "\\end{enumerate*}\n"
      ],
      "text/markdown": [
       "1. 197311\n",
       "2. 447\n",
       "\n",
       "\n"
      ],
      "text/plain": [
       "[1] 197311    447"
      ]
     },
     "metadata": {},
     "output_type": "display_data"
    }
   ],
   "source": [
    "if(!all(colnames(assays(rse_tx)$tpm) == colnames(counts)))\n",
    "{\n",
    "    counts = counts[, colnames(rse_tx)]\n",
    "}\n",
    "dim(counts)"
   ]
  },
  {
   "cell_type": "code",
   "execution_count": 8,
   "metadata": {},
   "outputs": [
    {
     "data": {
      "text/plain": [
       "class: RangedSummarizedExperiment \n",
       "dim: 197311 447 \n",
       "metadata(0):\n",
       "assays(1): counts\n",
       "rownames(197311): ENST00000456328.2 ENST00000450305.2 ...\n",
       "  ENST00000387460.2 ENST00000387461.2\n",
       "rowData names(9): transcript_id gene_id ... strand length\n",
       "colnames(447): R11135 R11137 ... R5766 R5768\n",
       "colData names(58): SAMPLE_ID RNum ... totalAssignedGene rRNA_rate"
      ]
     },
     "metadata": {},
     "output_type": "display_data"
    }
   ],
   "source": [
    "rse_tx <- SummarizedExperiment(assays=SimpleList(counts=counts),\n",
    "                               rowData=annot, colData=colData(rse_tx))\n",
    "rse_tx <- as(rse_tx, \"RangedSummarizedExperiment\")\n",
    "rse_tx"
   ]
  },
  {
   "cell_type": "markdown",
   "metadata": {},
   "source": [
    "### Load genotype data"
   ]
  },
  {
   "cell_type": "code",
   "execution_count": 9,
   "metadata": {},
   "outputs": [
    {
     "data": {
      "text/plain": [
       "class: RangedSummarizedExperiment \n",
       "dim: 197311 447 \n",
       "metadata(0):\n",
       "assays(1): counts\n",
       "rownames(197311): ENST00000456328.2 ENST00000450305.2 ...\n",
       "  ENST00000387460.2 ENST00000387461.2\n",
       "rowData names(9): transcript_id gene_id ... strand length\n",
       "colnames(447): R11135 R11137 ... R5766 R5768\n",
       "colData names(68): SAMPLE_ID RNum ... snpPC9 snpPC10"
      ]
     },
     "metadata": {},
     "output_type": "display_data"
    }
   ],
   "source": [
    "mds_file = paste0(\"/ceph/projects/v3_phase3_paper/inputs/genotypes/to_brnum/\", \n",
    "                  \"merge/to_plink/mds/_m/merged.mds\")\n",
    "mds = fread(mds_file) %>% \n",
    "    rename(\"snpPC1\"=\"C1\", \"snpPC2\"=\"C2\", \"snpPC3\"=\"C3\", \n",
    "           \"snpPC4\"=\"C4\", \"snpPC5\"=\"C5\") %>%\n",
    "    mutate_if(is.character, as.factor)\n",
    "mds[1:2, 1:5]"
   ]
  },
  {
   "cell_type": "markdown",
   "metadata": {},
   "source": [
    "### Subset and recode"
   ]
  },
  {
   "cell_type": "code",
   "execution_count": 11,
   "metadata": {},
   "outputs": [
    {
     "data": {
      "text/plain": [
       "class: RangedSummarizedExperiment \n",
       "dim: 197311 371 \n",
       "metadata(0):\n",
       "assays(1): counts\n",
       "rownames(197311): ENST00000456328.2 ENST00000450305.2 ...\n",
       "  ENST00000387460.2 ENST00000387461.2\n",
       "rowData names(9): transcript_id gene_id ... strand length\n",
       "colnames(371): R11135 R11137 ... R5766 R5768\n",
       "colData names(68): SAMPLE_ID RNum ... snpPC9 snpPC10"
      ]
     },
     "metadata": {},
     "output_type": "display_data"
    }
   ],
   "source": [
    "keepIndex = which((rse_tx$Dx %in% c(\"Control\", \"Schizo\")) & \n",
    "                  rse_tx$Age > 17 & \n",
    "                  rse_tx$Race %in% c(\"AA\", \"CAUC\"))\n",
    "rse_tx = rse_tx[, keepIndex]\n",
    "rse_tx$Dx = factor(rse_tx$Dx, levels = c(\"Control\", \"Schizo\"))\n",
    "rse_tx$Sex <- factor(rse_tx$Sex)\n",
    "rse_tx"
   ]
  },
  {
   "cell_type": "code",
   "execution_count": 13,
   "metadata": {},
   "outputs": [
    {
     "data": {
      "image/png": "[encoded data removed]",
      "text/plain": [
       "plot without title"
      ]
     },
     "metadata": {
      "image/png": {
       "height": 420,
       "width": 420
      },
      "text/plain": {
       "height": 420,
       "width": 420
      }
     },
     "output_type": "display_data"
    }
   ],
   "source": [
    "rse_tx <- merge_rse_metrics(rse_tx)\n",
    "\n",
    "rse_tx$ERCCsumLogErr <- mapply(function(r, n) {\n",
    "        sum(r * n)/sum(n)\n",
    "    }, rse_tx$ERCCsumLogErr, rse_tx$numReads)\n",
    "colData(rse_tx)$RIN = sapply(colData(rse_tx)$RIN,\"[\",1)\n",
    "\n",
    "pheno = colData(rse_tx) %>% as.data.frame %>% \n",
    "    inner_join(mds, by=c(\"BrNum\"=\"FID\"))"
   ]
  },
  {
   "cell_type": "markdown",
   "metadata": {},
   "source": [
    "### Generate DGEList"
   ]
  },
  {
   "cell_type": "code",
   "execution_count": 15,
   "metadata": {},
   "outputs": [],
   "source": [
    "x <- DGEList(counts=assays(rse_tx)$counts, \n",
    "             genes=rowData(rse_tx), samples=pheno)"
   ]
  },
  {
   "cell_type": "markdown",
   "metadata": {},
   "source": [
    "### Filtering low counts"
   ]
  },
  {
   "cell_type": "code",
   "execution_count": 16,
   "metadata": {},
   "outputs": [
    {
     "name": "stdout",
     "output_type": "stream",
     "text": [
      "[1] \"There are: 81495 features left!\"\n"
     ]
    }
   ],
   "source": [
    "design0 <- model.matrix(~Dx*Sex, data=x$samples)\n",
    "keep.x <- filterByExpr(x, design=design0)\n",
    "x <- x[keep.x, , keep.lib.sizes=FALSE]\n",
    "print(paste('There are:', sum(keep.x), 'features left!', sep=' '))"
   ]
  },
  {
   "cell_type": "markdown",
   "metadata": {},
   "source": [
    "### Normalize counts"
   ]
  },
  {
   "cell_type": "code",
   "execution_count": null,
   "metadata": {},
   "outputs": [],
   "source": [
    "x <- calcNormFactors(x, method=\"TMM\")"
   ]
  },
  {
   "cell_type": "markdown",
   "metadata": {},
   "source": [
    "## Differential Expression Analysis"
   ]
  },
  {
   "cell_type": "markdown",
   "metadata": {},
   "source": [
    "### Design matrix"
   ]
  },
  {
   "cell_type": "code",
   "execution_count": null,
   "metadata": {},
   "outputs": [],
   "source": [
    "mod = model.matrix(~Dx*Sex + Age + mitoRate +\n",
    "        rRNA_rate + totalAssignedGene + RIN +\n",
    "        ERCCsumLogErr + overallMapRate +\n",
    "        snpPC1 + snpPC2 + snpPC3,\n",
    "        data = x$samples)\n",
    "\n",
    "colnames(mod) <- gsub(\"Dx\", \"\", colnames(mod))\n",
    "colnames(mod) <- gsub(\"SexM\", \"Male\", colnames(mod))\n",
    "colnames(mod) <- gsub(\"Schizo:Male\", \"Schizo_Male\", colnames(mod))\n",
    "colnames(mod) <- gsub(\"\\\\(Intercept\\\\)\", \"Intercept\",\n",
    "                         colnames(mod))\n",
    "\n",
    "head(mod, 2)"
   ]
  },
  {
   "cell_type": "markdown",
   "metadata": {},
   "source": [
    "### Calculate SVAs"
   ]
  },
  {
   "cell_type": "code",
   "execution_count": null,
   "metadata": {},
   "outputs": [],
   "source": [
    "null.model = mod %>% as.data.frame %>% \n",
    "    select(-c(\"Male\", \"Schizo\", \"Schizo_Male\")) %>% as.matrix\n",
    "head(null.model, 2)"
   ]
  },
  {
   "cell_type": "code",
   "execution_count": null,
   "metadata": {},
   "outputs": [],
   "source": [
    "print(paste('Determining number of surragate variables ...', Sys.time(), sep=' '))\n",
    "n.sv <- num.sv(x$counts, mod, method=\"be\")\n",
    "\n",
    "print(paste('Fitting SV model ...', Sys.time(), sep=' '))\n",
    "svobj <- svaseq(x$counts, mod, null.model, n.sv=n.sv)"
   ]
  },
  {
   "cell_type": "markdown",
   "metadata": {},
   "source": [
    "### Merge models"
   ]
  },
  {
   "cell_type": "code",
   "execution_count": null,
   "metadata": {},
   "outputs": [],
   "source": [
    "print(paste('Adding SV to design matrix ...', Sys.time(), sep=' '))\n",
    "modQsva <- cbind(mod, svobj$sv)\n",
    "len.d <- length(colnames(modQsva))\n",
    "colnames(modQsva)[((len.d - n.sv)+1):len.d] <- make.names(paste0(\"sv\",1:n.sv))"
   ]
  },
  {
   "cell_type": "markdown",
   "metadata": {},
   "source": [
    "### Preform voom"
   ]
  },
  {
   "cell_type": "code",
   "execution_count": null,
   "metadata": {},
   "outputs": [],
   "source": [
    "v <- voom(x, modQsva, plot=TRUE)"
   ]
  },
  {
   "cell_type": "code",
   "execution_count": null,
   "metadata": {},
   "outputs": [],
   "source": [
    "feature = 'transcripts'\n",
    "dir.create(feature)\n",
    "\n",
    "save(v, file=paste0(feature,'/voomSVA.RData'))\n",
    "#load('../_m/dlpfc//voomSVA.RData')"
   ]
  },
  {
   "cell_type": "markdown",
   "metadata": {},
   "source": [
    "### Calculate residuals"
   ]
  },
  {
   "cell_type": "code",
   "execution_count": null,
   "metadata": {},
   "outputs": [],
   "source": [
    "null_model = v$design %>% as.data.frame %>% \n",
    "    select(-c(\"Male\", \"Schizo\", \"Schizo_Male\")) %>% as.matrix\n",
    "fit_res <- lmFit(v, design=null_model)\n",
    "res = v$E - ( fit_res$coefficients %*% t(null_model) )\n",
    "res_sd = apply(res, 1, sd)\n",
    "res_mean = apply(res, 1, mean)"
   ]
  },
  {
   "cell_type": "markdown",
   "metadata": {},
   "source": [
    "### Normalize residuals and write to file"
   ]
  },
  {
   "cell_type": "code",
   "execution_count": null,
   "metadata": {},
   "outputs": [],
   "source": [
    "res_norm = (res - res_mean) / res_sd\n",
    "write.table(res_norm, file=paste0(feature, '/residualized_expression.tsv'),\n",
    "            sep=\"\\t\", quote=FALSE)"
   ]
  },
  {
   "cell_type": "markdown",
   "metadata": {},
   "source": [
    "### Fit model with limma"
   ]
  },
  {
   "cell_type": "code",
   "execution_count": 24,
   "metadata": {},
   "outputs": [],
   "source": [
    "fit0 <- lmFit(v, modQsva)\n",
    "contr.matrix <- makeContrasts(CtrlvsSZ = Schizo,\n",
    "                              MvsF = Male,\n",
    "                              Interaction = Schizo_Male,\n",
    "                              levels=colnames(modQsva))\n",
    "fit <- contrasts.fit(fit0, contrasts=contr.matrix)"
   ]
  },
  {
   "cell_type": "markdown",
   "metadata": {},
   "source": [
    "### Calculate differential expression with eBayes"
   ]
  },
  {
   "cell_type": "code",
   "execution_count": null,
   "metadata": {},
   "outputs": [],
   "source": [
    "save_volcanoPlot <- function(top, label){\n",
    "    pdf(file=paste0(feature, \"/volcanoPlot_\", label, \".pdf\"), 8, 6)\n",
    "    with(top, plot(logFC, -log10(P.Value), pch=20, cex=0.6))\n",
    "    with(subset(top, adj.P.Val<=0.05), points(logFC, -log10(P.Value),\n",
    "                                              pch=20, col='red', cex=0.6))\n",
    "    with(subset(top, abs(logFC)>0.50), points(logFC, -log10(P.Value),\n",
    "                                              pch=20, col='orange', cex=0.6))\n",
    "    with(subset(top, adj.P.Val<=0.05 & abs(logFC)>0.50),\n",
    "         points(logFC, -log10(P.Value), pch=20, col='green', cex=0.6))\n",
    "    dev.off()\n",
    "}\n",
    "\n",
    "\n",
    "save_MAplot <- function(top, label){\n",
    "    pdf(file=paste0(feature, \"/MAplot_\", label, \".pdf\"), 8, 6)\n",
    "    with(top, plot(AveExpr, logFC, pch=20, cex=0.5))\n",
    "    with(subset(top, adj.P.Val<0.05),\n",
    "         points(AveExpr, logFC, col=\"red\", pch=20, cex=0.5))\n",
    "    dev.off()\n",
    "}\n",
    "\n",
    "\n",
    "extract_de <- function(contrast, label, fit){\n",
    "    top <- topTable(fit, coef=contrast, number=Inf, sort.by=\"P\")\n",
    "    top <- top[order(top$P.Value), ]\n",
    "    top.fdr <- top %>% filter(adj.P.Val<=0.05)\n",
    "    print(paste(\"Comparison for:\", label))\n",
    "    print(paste('There are:', dim(top.fdr)[1], 'DE features!'))\n",
    "    fwrite(top, \n",
    "           file=paste0(feature, \"/diffExpr_\", label, \"_full.txt\"), \n",
    "           sep='\\t', row.names=TRUE)\n",
    "    fwrite(top.fdr, \n",
    "           file=paste0(feature, \"/diffExpr_\", label, \"_FDR05.txt\"), \n",
    "           sep='\\t', row.names=TRUE)\n",
    "    save_volcanoPlot(top, label)\n",
    "    save_MAplot(top, label)\n",
    "}"
   ]
  },
  {
   "cell_type": "code",
   "execution_count": 19,
   "metadata": {},
   "outputs": [],
   "source": [
    "options(width=200)\n",
    "esv <- eBayes(fit)"
   ]
  },
  {
   "cell_type": "markdown",
   "metadata": {},
   "source": [
    "#### SZ vs Ctrl"
   ]
  },
  {
   "cell_type": "code",
   "execution_count": 19,
   "metadata": {},
   "outputs": [
    {
     "data": {
      "text/html": [
       "<ol class=list-inline>\n",
       "\t<li>25373</li>\n",
       "\t<li>18</li>\n",
       "</ol>\n"
      ],
      "text/latex": [
       "\\begin{enumerate*}\n",
       "\\item 25373\n",
       "\\item 18\n",
       "\\end{enumerate*}\n"
      ],
      "text/markdown": [
       "1. 25373\n",
       "2. 18\n",
       "\n",
       "\n"
      ],
      "text/plain": [
       "[1] 25373    18"
      ]
     },
     "metadata": {},
     "output_type": "display_data"
    }
   ],
   "source": [
    "extract_de(1, 'szVctl', esv)"
   ]
  },
  {
   "cell_type": "markdown",
   "metadata": {},
   "source": [
    "#### Male vs Female"
   ]
  },
  {
   "cell_type": "code",
   "execution_count": 22,
   "metadata": {},
   "outputs": [
    {
     "data": {
      "text/html": [
       "<ol class=list-inline>\n",
       "\t<li>25373</li>\n",
       "\t<li>18</li>\n",
       "</ol>\n"
      ],
      "text/latex": [
       "\\begin{enumerate*}\n",
       "\\item 25373\n",
       "\\item 18\n",
       "\\end{enumerate*}\n"
      ],
      "text/markdown": [
       "1. 25373\n",
       "2. 18\n",
       "\n",
       "\n"
      ],
      "text/plain": [
       "[1] 25373    18"
      ]
     },
     "metadata": {},
     "output_type": "display_data"
    }
   ],
   "source": [
    "extract_de(2, 'maleVfemale', esv)"
   ]
  },
  {
   "cell_type": "markdown",
   "metadata": {},
   "source": [
    "#### Interaction"
   ]
  },
  {
   "cell_type": "code",
   "execution_count": 25,
   "metadata": {},
   "outputs": [
    {
     "data": {
      "text/html": [
       "<ol class=list-inline>\n",
       "\t<li>25373</li>\n",
       "\t<li>18</li>\n",
       "</ol>\n"
      ],
      "text/latex": [
       "\\begin{enumerate*}\n",
       "\\item 25373\n",
       "\\item 18\n",
       "\\end{enumerate*}\n"
      ],
      "text/markdown": [
       "1. 25373\n",
       "2. 18\n",
       "\n",
       "\n"
      ],
      "text/plain": [
       "[1] 25373    18"
      ]
     },
     "metadata": {},
     "output_type": "display_data"
    }
   ],
   "source": [
    "extract_de(3, 'interaction', esv)"
   ]
  },
  {
   "cell_type": "markdown",
   "metadata": {},
   "source": [
    "## Repreducibility Information"
   ]
  },
  {
   "cell_type": "code",
   "execution_count": 40,
   "metadata": {},
   "outputs": [
    {
     "data": {
      "text/plain": [
       "[1] \"2019-06-06 15:35:17 EDT\""
      ]
     },
     "metadata": {},
     "output_type": "display_data"
    },
    {
     "data": {
      "text/plain": [
       "    user   system  elapsed \n",
       "3161.182   47.897  287.152 "
      ]
     },
     "metadata": {},
     "output_type": "display_data"
    },
    {
     "data": {
      "text/plain": [
       "- Session info -------------------------------------------------------------------------------------------------------\n",
       " setting  value                       \n",
       " version  R version 3.5.0 (2018-04-23)\n",
       " os       Arch Linux                  \n",
       " system   x86_64, linux-gnu           \n",
       " ui       X11                         \n",
       " language (EN)                        \n",
       " collate  C                           \n",
       " ctype    C                           \n",
       " tz       America/New_York            \n",
       " date     2019-06-06                  \n",
       "\n",
       "- Packages -----------------------------------------------------------------------------------------------------------\n",
       " package              * version   date       lib source        \n",
       " annotate               1.60.0    2018-10-30 [1] Bioconductor  \n",
       " AnnotationDbi          1.44.0    2018-10-30 [1] Bioconductor  \n",
       " assertthat             0.2.0     2017-04-11 [1] CRAN (R 3.5.0)\n",
       " base64enc              0.1-3     2015-07-28 [1] CRAN (R 3.5.0)\n",
       " bindr                  0.1.1     2018-03-13 [1] CRAN (R 3.5.0)\n",
       " bindrcpp               0.2.2     2018-03-29 [1] CRAN (R 3.5.0)\n",
       " Biobase              * 2.42.0    2018-10-30 [1] Bioconductor  \n",
       " BiocGenerics         * 0.28.0    2018-10-30 [1] Bioconductor  \n",
       " BiocParallel         * 1.16.2    2018-11-28 [1] Bioconductor  \n",
       " bit                    1.1-14    2018-05-29 [1] CRAN (R 3.5.0)\n",
       " bit64                  0.9-7     2017-05-08 [1] CRAN (R 3.5.0)\n",
       " bitops                 1.0-6     2013-08-17 [1] CRAN (R 3.5.0)\n",
       " blob                   1.1.1     2018-03-25 [1] CRAN (R 3.5.0)\n",
       " calibrate            * 1.7.2     2013-09-10 [1] CRAN (R 3.5.0)\n",
       " cli                    1.0.1     2018-09-25 [1] CRAN (R 3.5.0)\n",
       " colorspace             1.3-2     2016-12-14 [1] CRAN (R 3.5.0)\n",
       " crayon                 1.3.4     2017-09-16 [1] CRAN (R 3.5.0)\n",
       " DBI                    1.0.0     2018-05-02 [1] CRAN (R 3.5.0)\n",
       " DelayedArray         * 0.8.0     2018-10-30 [1] Bioconductor  \n",
       " digest                 0.6.18    2018-10-10 [1] CRAN (R 3.5.0)\n",
       " dplyr                  0.7.8     2018-11-10 [1] CRAN (R 3.5.0)\n",
       " edgeR                * 3.24.1    2018-12-03 [1] Bioconductor  \n",
       " evaluate               0.12      2018-10-09 [1] CRAN (R 3.5.0)\n",
       " genefilter           * 1.64.0    2018-10-30 [1] Bioconductor  \n",
       " GenomeInfoDb         * 1.18.1    2018-11-12 [1] Bioconductor  \n",
       " GenomeInfoDbData       1.2.0     2018-11-10 [1] Bioconductor  \n",
       " GenomicRanges        * 1.34.0    2018-10-30 [1] Bioconductor  \n",
       " ggplot2              * 3.1.0     2018-10-25 [1] CRAN (R 3.5.0)\n",
       " glue                   1.3.0     2018-07-17 [1] CRAN (R 3.5.0)\n",
       " gtable                 0.2.0     2016-02-26 [1] CRAN (R 3.5.0)\n",
       " htmltools              0.3.6     2017-04-28 [1] CRAN (R 3.5.0)\n",
       " IRanges              * 2.16.0    2018-10-30 [1] Bioconductor  \n",
       " IRdisplay              0.7.0     2018-11-29 [1] CRAN (R 3.5.0)\n",
       " IRkernel               0.8.14    2018-11-16 [1] CRAN (R 3.5.0)\n",
       " jsonlite               1.5       2017-06-01 [1] CRAN (R 3.5.0)\n",
       " labeling               0.3       2014-08-23 [1] CRAN (R 3.5.0)\n",
       " lattice                0.20-35   2017-03-25 [2] CRAN (R 3.5.0)\n",
       " lazyeval               0.2.1     2017-10-29 [1] CRAN (R 3.5.0)\n",
       " limma                * 3.38.3    2018-12-02 [1] Bioconductor  \n",
       " locfit                 1.5-9.1   2013-04-20 [1] CRAN (R 3.5.0)\n",
       " magrittr               1.5       2014-11-22 [1] CRAN (R 3.5.0)\n",
       " MASS                 * 7.3-51.1  2018-11-01 [1] CRAN (R 3.5.0)\n",
       " Matrix                 1.2-14    2018-04-13 [2] CRAN (R 3.5.0)\n",
       " matrixStats          * 0.54.0    2018-07-23 [1] CRAN (R 3.5.0)\n",
       " memoise                1.1.0     2017-04-21 [1] CRAN (R 3.5.0)\n",
       " mgcv                 * 1.8-23    2018-01-21 [2] CRAN (R 3.5.0)\n",
       " munsell                0.5.0     2018-06-12 [1] CRAN (R 3.5.0)\n",
       " nlme                 * 3.1-137   2018-04-07 [2] CRAN (R 3.5.0)\n",
       " pbdZMQ                 0.3-3     2018-05-05 [1] CRAN (R 3.5.0)\n",
       " pillar                 1.3.0     2018-07-14 [1] CRAN (R 3.5.0)\n",
       " pkgconfig              2.0.2     2018-08-16 [1] CRAN (R 3.5.0)\n",
       " plyr                   1.8.4     2016-06-08 [1] CRAN (R 3.5.0)\n",
       " purrr                  0.2.5     2018-05-29 [1] CRAN (R 3.5.0)\n",
       " R6                     2.3.0     2018-10-04 [1] CRAN (R 3.5.0)\n",
       " Rcpp                   1.0.0     2018-11-07 [1] CRAN (R 3.5.0)\n",
       " RCurl                  1.95-4.11 2018-07-15 [1] CRAN (R 3.5.0)\n",
       " repr                   0.18      2018-11-27 [1] CRAN (R 3.5.0)\n",
       " rlang                  0.3.0.1   2018-10-25 [1] CRAN (R 3.5.0)\n",
       " RSQLite                2.1.1     2018-05-06 [1] CRAN (R 3.5.0)\n",
       " S4Vectors            * 0.20.1    2018-11-09 [1] Bioconductor  \n",
       " scales                 1.0.0     2018-08-09 [1] CRAN (R 3.5.0)\n",
       " sessioninfo            1.1.1     2018-11-05 [1] CRAN (R 3.5.0)\n",
       " SummarizedExperiment * 1.12.0    2018-10-30 [1] Bioconductor  \n",
       " survival               2.41-3    2017-04-04 [2] CRAN (R 3.5.0)\n",
       " sva                  * 3.30.0    2018-10-30 [1] Bioconductor  \n",
       " tibble                 1.4.2     2018-01-22 [1] CRAN (R 3.5.0)\n",
       " tidyselect             0.2.5     2018-10-11 [1] CRAN (R 3.5.0)\n",
       " uuid                   0.1-2     2015-07-28 [1] CRAN (R 3.5.0)\n",
       " withr                  2.1.2     2018-03-15 [1] CRAN (R 3.5.0)\n",
       " XML                    3.98-1.16 2018-08-19 [1] CRAN (R 3.5.0)\n",
       " xtable                 1.8-3     2018-08-29 [1] CRAN (R 3.5.0)\n",
       " XVector                0.22.0    2018-10-30 [1] Bioconductor  \n",
       " zlibbioc               1.28.0    2018-10-30 [1] Bioconductor  \n",
       "\n",
       "[1] /home/jbenja13/R/x86_64-pc-linux-gnu-library/3.5\n",
       "[2] /usr/lib/R/library"
      ]
     },
     "metadata": {},
     "output_type": "display_data"
    }
   ],
   "source": [
    "Sys.time()\n",
    "proc.time()\n",
    "options(width = 120)\n",
    "sessioninfo::session_info()"
   ]
  }
 ],
 "metadata": {
  "kernelspec": {
   "display_name": "R",
   "language": "R",
   "name": "ir"
  },
  "language_info": {
   "codemirror_mode": "r",
   "file_extension": ".r",
   "mimetype": "text/x-r-source",
   "name": "R",
   "pygments_lexer": "r",
   "version": "4.0.2"
  }
 },
 "nbformat": 4,
 "nbformat_minor": 4
}
