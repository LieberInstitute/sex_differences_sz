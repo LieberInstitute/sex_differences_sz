{
 "cells": [
  {
   "cell_type": "markdown",
   "metadata": {},
   "source": [
    "# Extract unique male specific SZ-associated genes"
   ]
  },
  {
   "cell_type": "code",
   "execution_count": 1,
   "metadata": {
    "execution": {
     "iopub.execute_input": "2021-07-14T17:59:21.234584Z",
     "iopub.status.busy": "2021-07-14T17:59:21.233545Z",
     "iopub.status.idle": "2021-07-14T17:59:21.846284Z",
     "shell.execute_reply": "2021-07-14T17:59:21.845562Z"
    }
   },
   "outputs": [],
   "source": [
    "import functools\n",
    "import numpy as np\n",
    "import pandas as pd\n",
    "from os import environ\n",
    "from gtfparse import read_gtf\n",
    "from scipy.stats import mannwhitneyu\n",
    "from statsmodels.stats.multitest import fdrcorrection"
   ]
  },
  {
   "cell_type": "code",
   "execution_count": 2,
   "metadata": {
    "execution": {
     "iopub.execute_input": "2021-07-14T17:59:21.850831Z",
     "iopub.status.busy": "2021-07-14T17:59:21.850272Z",
     "iopub.status.idle": "2021-07-14T17:59:21.853888Z",
     "shell.execute_reply": "2021-07-14T17:59:21.854972Z"
    }
   },
   "outputs": [],
   "source": [
    "environ['NUMEXPR_MAX_THREADS'] = '16'"
   ]
  },
  {
   "cell_type": "code",
   "execution_count": 3,
   "metadata": {
    "execution": {
     "iopub.execute_input": "2021-07-14T17:59:21.862097Z",
     "iopub.status.busy": "2021-07-14T17:59:21.861147Z",
     "iopub.status.idle": "2021-07-14T17:59:21.865344Z",
     "shell.execute_reply": "2021-07-14T17:59:21.864061Z"
    }
   },
   "outputs": [],
   "source": [
    "@functools.lru_cache()\n",
    "def get_res_df(feature):\n",
    "    return pd.read_csv('../../../../../interaction_model/caudate/_m/%s/residualized_expression.tsv' % \n",
    "                       feature, sep='\\t').T\n",
    "\n",
    "\n",
    "@functools.lru_cache()\n",
    "def get_pheno_df():\n",
    "    return pd.read_csv('/ceph/projects/v3_phase3_paper/inputs/phenotypes/_m/caudate_phenotypes.csv', \n",
    "                       index_col=0)\n",
    "\n",
    "\n",
    "@functools.lru_cache()\n",
    "def get_res_pheno_df(feature):\n",
    "    return pd.merge(get_pheno_df(), get_res_df(feature), left_index=True, right_index=True)\n",
    "\n",
    "\n",
    "@functools.lru_cache()\n",
    "def get_gtf(gtf_file):\n",
    "    return read_gtf(gtf_file)"
   ]
  },
  {
   "cell_type": "code",
   "execution_count": 4,
   "metadata": {
    "execution": {
     "iopub.execute_input": "2021-07-14T17:59:21.878860Z",
     "iopub.status.busy": "2021-07-14T17:59:21.877563Z",
     "iopub.status.idle": "2021-07-14T17:59:21.881636Z",
     "shell.execute_reply": "2021-07-14T17:59:21.880333Z"
    }
   },
   "outputs": [],
   "source": [
    "def gene_annot(feature):\n",
    "    gtf_file = '/ceph/genome/human/gencode25/gtf.CHR/_m/gencode.v25.annotation.gtf'\n",
    "    gtf0 = get_gtf(gtf_file)\n",
    "    gtf = gtf0[(gtf0[\"feature\"] == feature)]\n",
    "    return gtf[[\"gene_id\", \"gene_name\", \"transcript_id\", \"exon_id\", \n",
    "                \"gene_type\", \"seqname\", \"start\", \"end\", \"strand\"]]\n",
    "\n",
    "\n",
    "def get_de(feature):\n",
    "    f = pd.read_csv('../../../female_analysis/_m/%s/diffExpr_szVctl_full.txt' % feature, \n",
    "                    sep='\\t', index_col=0)\\\n",
    "          .rename(columns={'gencodeGeneID': 'gencodeID'})\n",
    "    m = pd.read_csv('../../../male_analysis/_m/%s/diffExpr_szVctl_full.txt' % feature, \n",
    "                    sep='\\t', index_col=0)\\\n",
    "          .rename(columns={'gencodeGeneID': 'gencodeID'})\n",
    "    a = pd.read_csv('/ceph/projects/v4_phase3_paper/analysis/differential_expression/'+\\\n",
    "                    '_m/%s/diffExpr_szVctl_full.txt' % feature, \n",
    "                    sep='\\t', index_col=0)\\\n",
    "          .rename(columns={'gencodeGeneID': 'gencodeID'})\n",
    "    return f, m, a\n",
    "\n",
    "\n",
    "def get_unique(x, y, thres=0.05):\n",
    "    return x.merge(pd.DataFrame(index = list(set(x[(x['adj.P.Val'] <= thres)].index) - \n",
    "                                             set(y[(y['adj.P.Val'] <= thres)].index))), \n",
    "                   left_index=True, right_index=True)\n",
    "\n",
    "\n",
    "def subset_sz_female(feature):\n",
    "    df = get_res_pheno_df(feature)\n",
    "    ctl = df[(df['Dx'] == 'Control') & (df['Sex'] == 'F')].copy()\n",
    "    sz = df[(df['Dx'] == 'Schizo') & (df['Sex'] == 'F')].copy()\n",
    "    return ctl, sz\n",
    "\n",
    "\n",
    "def add_pvals_adjustPval(feature, df):\n",
    "    ctl, sz = subset_sz_female(feature)\n",
    "    pval_df = []\n",
    "    for gene_id in df.Feature:\n",
    "        stat, pval = mannwhitneyu(ctl[gene_id], sz[gene_id])\n",
    "        pval_df.append(pval)\n",
    "    fdr_df = fdrcorrection(pval_df)\n",
    "    return pd.concat([df.set_index('Feature'), \n",
    "                      pd.DataFrame({'Female_Pval': pval_df, \n",
    "                                    'Female_FDR': fdr_df[1]}, index=df.Feature)], \n",
    "                     axis=1)"
   ]
  },
  {
   "cell_type": "markdown",
   "metadata": {},
   "source": [
    "## Genes"
   ]
  },
  {
   "cell_type": "code",
   "execution_count": 5,
   "metadata": {
    "execution": {
     "iopub.execute_input": "2021-07-14T17:59:21.889815Z",
     "iopub.status.busy": "2021-07-14T17:59:21.888659Z",
     "iopub.status.idle": "2021-07-14T18:00:38.981085Z",
     "shell.execute_reply": "2021-07-14T18:00:38.982092Z"
    }
   },
   "outputs": [
    {
     "name": "stderr",
     "output_type": "stream",
     "text": [
      "INFO:root:Extracted GTF attributes: ['gene_id', 'gene_type', 'gene_status', 'gene_name', 'level', 'havana_gene', 'transcript_id', 'transcript_type', 'transcript_status', 'transcript_name', 'transcript_support_level', 'tag', 'havana_transcript', 'exon_number', 'exon_id', 'ont', 'protein_id', 'ccdsid']\n"
     ]
    },
    {
     "data": {
      "text/plain": [
       "(1858, 10)"
      ]
     },
     "execution_count": 1,
     "metadata": {},
     "output_type": "execute_result"
    }
   ],
   "source": [
    "gtf_annot = gene_annot('gene')\n",
    "\n",
    "f, m, a = get_de('genes')\n",
    "m['Feature'] = m.index\n",
    "#genes = get_unique(get_unique(m, f), a)\n",
    "genes = get_unique(m, f)\n",
    "genes = pd.merge(gtf_annot[['gene_id', 'seqname']], genes, left_on='gene_id', \n",
    "                 right_on='Feature', how='right').rename(columns={'seqname': 'Chrom'})\n",
    "genes = genes[['Feature', 'gencodeID', 'Symbol', 'ensemblID', \n",
    "               'Chrom', 'logFC', 't', 'adj.P.Val']].sort_values('adj.P.Val')\n",
    "genes = add_pvals_adjustPval('genes', genes)\n",
    "genes = genes[~(genes['Female_Pval'] <= 0.05)].sort_values('adj.P.Val') ## Stringents\n",
    "genes['Type'] = 'gene'\n",
    "genes.shape"
   ]
  },
  {
   "cell_type": "markdown",
   "metadata": {},
   "source": [
    "## Transcripts"
   ]
  },
  {
   "cell_type": "code",
   "execution_count": 6,
   "metadata": {
    "execution": {
     "iopub.execute_input": "2021-07-14T18:00:39.145551Z",
     "iopub.status.busy": "2021-07-14T18:00:39.144250Z",
     "iopub.status.idle": "2021-07-14T18:00:51.370284Z",
     "shell.execute_reply": "2021-07-14T18:00:51.369170Z"
    }
   },
   "outputs": [
    {
     "data": {
      "text/plain": [
       "(480, 10)"
      ]
     },
     "execution_count": 1,
     "metadata": {},
     "output_type": "execute_result"
    }
   ],
   "source": [
    "gtf_annot = gene_annot('transcript')\n",
    "\n",
    "f, m, a = get_de('transcripts')\n",
    "m['Feature'] = m.index\n",
    "m['ensemblID'] = m.gene_id.str.replace('\\\\.\\d+', '', regex=True)\n",
    "#trans = get_unique(get_unique(m, f), a)\n",
    "trans = get_unique(m, f)\n",
    "trans = pd.merge(gtf_annot[['transcript_id', 'seqname']], trans, \n",
    "                 on='transcript_id', how='right').rename(columns={'seqname': 'Chrom'})\n",
    "trans = trans[['Feature', 'gene_id', 'gene_name', 'ensemblID', 'Chrom', \n",
    "               'logFC', 't', 'adj.P.Val']].rename(columns={'gene_name': 'Symbol', \n",
    "                                                           'gene_id': 'gencodeID'})\n",
    "trans = add_pvals_adjustPval('transcripts', trans)\n",
    "trans = trans[~(trans['Female_Pval'] <= 0.05)].sort_values('adj.P.Val') ## Stringents\n",
    "trans['Type'] = 'transcript'\n",
    "trans.shape"
   ]
  },
  {
   "cell_type": "markdown",
   "metadata": {},
   "source": [
    "### Exons"
   ]
  },
  {
   "cell_type": "code",
   "execution_count": 7,
   "metadata": {
    "execution": {
     "iopub.execute_input": "2021-07-14T18:00:51.554207Z",
     "iopub.status.busy": "2021-07-14T18:00:51.552968Z",
     "iopub.status.idle": "2021-07-14T18:00:53.172783Z",
     "shell.execute_reply": "2021-07-14T18:00:53.171640Z"
    }
   },
   "outputs": [],
   "source": [
    "gtf_annot = gene_annot('exon')\n",
    "gtf_annot['ensemblID'] = gtf_annot.gene_id.str.replace('\\\\.\\d+', '', regex=True)"
   ]
  },
  {
   "cell_type": "code",
   "execution_count": 8,
   "metadata": {
    "execution": {
     "iopub.execute_input": "2021-07-14T18:00:53.180755Z",
     "iopub.status.busy": "2021-07-14T18:00:53.179552Z",
     "iopub.status.idle": "2021-07-14T18:01:34.944242Z",
     "shell.execute_reply": "2021-07-14T18:01:34.942712Z"
    }
   },
   "outputs": [
    {
     "data": {
      "text/plain": [
       "(5834, 10)"
      ]
     },
     "execution_count": 1,
     "metadata": {},
     "output_type": "execute_result"
    }
   ],
   "source": [
    "f, m, a = get_de('exons')\n",
    "m['Feature'] = m.index\n",
    "#exons = get_unique(get_unique(m, f), a)\n",
    "exons = get_unique(m, f)\n",
    "exons = pd.merge(gtf_annot[['ensemblID', 'seqname']], exons, \n",
    "                 on='ensemblID', how='right').rename(columns={'seqname': 'Chrom'})\n",
    "exons = exons[['Feature', 'gencodeID', 'Symbol', 'ensemblID', 'Chrom',\n",
    "               'logFC', 't', 'adj.P.Val']].sort_values('adj.P.Val')\\\n",
    "        .groupby('Feature').first().reset_index()\n",
    "exons = add_pvals_adjustPval('exons', exons)\n",
    "exons = exons[~(exons['Female_Pval'] <= 0.05)].sort_values('adj.P.Val') ## Stringents\n",
    "exons['Type'] = 'exon'\n",
    "exons.shape"
   ]
  },
  {
   "cell_type": "markdown",
   "metadata": {},
   "source": [
    "### Junctions"
   ]
  },
  {
   "cell_type": "code",
   "execution_count": 9,
   "metadata": {
    "execution": {
     "iopub.execute_input": "2021-07-14T18:01:34.954465Z",
     "iopub.status.busy": "2021-07-14T18:01:34.952890Z",
     "iopub.status.idle": "2021-07-14T18:01:53.392342Z",
     "shell.execute_reply": "2021-07-14T18:01:53.391144Z"
    }
   },
   "outputs": [
    {
     "data": {
      "text/plain": [
       "(2064, 10)"
      ]
     },
     "execution_count": 1,
     "metadata": {},
     "output_type": "execute_result"
    }
   ],
   "source": [
    "f, m, a = get_de('junctions')\n",
    "m['Feature'] = m.index\n",
    "#juncs = get_unique(get_unique(m, f), a)\n",
    "juncs = get_unique(m, f)\n",
    "juncs = pd.merge(gtf_annot[['ensemblID', 'seqname']], juncs, \n",
    "                 on='ensemblID', how='right').rename(columns={'seqname': 'Chrom'})\n",
    "juncs = juncs[['Feature', 'gencodeID', 'Symbol', 'ensemblID', 'Chrom',\n",
    "               'logFC', 't', 'adj.P.Val']].sort_values('adj.P.Val')\\\n",
    "        .groupby('Feature').first().reset_index()\n",
    "juncs = add_pvals_adjustPval('junctions', juncs)\n",
    "juncs['Type'] = 'junction'\n",
    "juncs = juncs[~(juncs['Female_Pval'] <= 0.05)].sort_values('adj.P.Val') ## Stringents\n",
    "juncs.shape"
   ]
  },
  {
   "cell_type": "markdown",
   "metadata": {},
   "source": [
    "## DE summary"
   ]
  },
  {
   "cell_type": "markdown",
   "metadata": {},
   "source": [
    "### DE (feature)"
   ]
  },
  {
   "cell_type": "code",
   "execution_count": 10,
   "metadata": {
    "execution": {
     "iopub.execute_input": "2021-07-14T18:01:53.401070Z",
     "iopub.status.busy": "2021-07-14T18:01:53.399789Z",
     "iopub.status.idle": "2021-07-14T18:01:53.404100Z",
     "shell.execute_reply": "2021-07-14T18:01:53.405159Z"
    }
   },
   "outputs": [
    {
     "name": "stdout",
     "output_type": "stream",
     "text": [
      "\n",
      "Gene:\t\t1858\n",
      "Transcript:\t480\n",
      "Exon:\t\t5834\n",
      "Junction:\t2064\n"
     ]
    }
   ],
   "source": [
    "gg = len(set(genes.index))\n",
    "tt = len(set(trans.index))\n",
    "ee = len(set(exons.index))\n",
    "jj = len(set(juncs.index))\n",
    "\n",
    "print(\"\\nGene:\\t\\t%d\\nTranscript:\\t%d\\nExon:\\t\\t%d\\nJunction:\\t%d\" % \n",
    "      (gg, tt, ee, jj)) "
   ]
  },
  {
   "cell_type": "markdown",
   "metadata": {},
   "source": [
    "#### DE (EnsemblID)"
   ]
  },
  {
   "cell_type": "code",
   "execution_count": 11,
   "metadata": {
    "execution": {
     "iopub.execute_input": "2021-07-14T18:01:53.414956Z",
     "iopub.status.busy": "2021-07-14T18:01:53.413653Z",
     "iopub.status.idle": "2021-07-14T18:01:53.417903Z",
     "shell.execute_reply": "2021-07-14T18:01:53.418947Z"
    }
   },
   "outputs": [
    {
     "name": "stdout",
     "output_type": "stream",
     "text": [
      "\n",
      "Gene:\t\t1858\n",
      "Transcript:\t460\n",
      "Exon:\t\t1830\n",
      "Junction:\t1062\n"
     ]
    }
   ],
   "source": [
    "gg = len(set(genes['ensemblID']))\n",
    "tt = len(set(trans['ensemblID']))\n",
    "ee = len(set(exons['ensemblID']))\n",
    "jj = len(set(juncs['ensemblID']))\n",
    "\n",
    "print(\"\\nGene:\\t\\t%d\\nTranscript:\\t%d\\nExon:\\t\\t%d\\nJunction:\\t%d\" % \n",
    "      (gg, tt, ee, jj)) "
   ]
  },
  {
   "cell_type": "markdown",
   "metadata": {},
   "source": [
    "#### DE (Gene Symbol)"
   ]
  },
  {
   "cell_type": "code",
   "execution_count": 12,
   "metadata": {
    "execution": {
     "iopub.execute_input": "2021-07-14T18:01:53.427605Z",
     "iopub.status.busy": "2021-07-14T18:01:53.426306Z",
     "iopub.status.idle": "2021-07-14T18:01:53.430596Z",
     "shell.execute_reply": "2021-07-14T18:01:53.431647Z"
    }
   },
   "outputs": [
    {
     "name": "stdout",
     "output_type": "stream",
     "text": [
      "\n",
      "Gene:\t\t1675\n",
      "Transcript:\t459\n",
      "Exon:\t\t1761\n",
      "Junction:\t1062\n"
     ]
    }
   ],
   "source": [
    "gg = len(set(genes['Symbol']))\n",
    "tt = len(set(trans['Symbol']))\n",
    "ee = len(set(exons['Symbol']))\n",
    "jj = len(set(juncs['Symbol']))\n",
    "\n",
    "print(\"\\nGene:\\t\\t%d\\nTranscript:\\t%d\\nExon:\\t\\t%d\\nJunction:\\t%d\" %\n",
    "      (gg, tt, ee, jj)) "
   ]
  },
  {
   "cell_type": "markdown",
   "metadata": {},
   "source": [
    "### Feature effect size summary"
   ]
  },
  {
   "cell_type": "code",
   "execution_count": 13,
   "metadata": {
    "execution": {
     "iopub.execute_input": "2021-07-14T18:01:53.442457Z",
     "iopub.status.busy": "2021-07-14T18:01:53.440415Z",
     "iopub.status.idle": "2021-07-14T18:01:53.450971Z",
     "shell.execute_reply": "2021-07-14T18:01:53.452048Z"
    }
   },
   "outputs": [
    {
     "name": "stdout",
     "output_type": "stream",
     "text": [
      "\n",
      "There are 14 unique Genes with abs(log2FC) >= 0.5\n",
      "There are 0 unique Genes with abs(log2FC) >= 1\n",
      "\n",
      "There are 79 unique Transcript with abs(log2FC) >= 0.5\n",
      "There are 28 unique Transcript with abs(log2FC) >= 1\n",
      "\n",
      "There are 121 unique Exons with abs(log2FC) >= 0.5\n",
      "There are 1 unique Exons with abs(log2FC) >= 1\n",
      "\n",
      "There are 67 unique Junctions with abs(log2FC) >= 0.5\n",
      "There are 5 unique Junctions with abs(log2FC) >= 1\n"
     ]
    }
   ],
   "source": [
    "feature_list = ['Genes', 'Transcript', 'Exons', 'Junctions']\n",
    "feature_df = [genes, trans, exons, juncs]\n",
    "for ii in range(4):\n",
    "    ff = feature_df[ii]\n",
    "    half = len(set(ff[(np.abs(ff['logFC']) >= 0.5)].index))\n",
    "    one = len(set(ff[(np.abs(ff['logFC']) >= 1)].index))\n",
    "    print(\"\\nThere are %d unique %s with abs(log2FC) >= 0.5\" % (half, feature_list[ii]))\n",
    "    print(\"There are %d unique %s with abs(log2FC) >= 1\" % (one, feature_list[ii]))"
   ]
  },
  {
   "cell_type": "code",
   "execution_count": 14,
   "metadata": {
    "execution": {
     "iopub.execute_input": "2021-07-14T18:01:53.464772Z",
     "iopub.status.busy": "2021-07-14T18:01:53.460092Z",
     "iopub.status.idle": "2021-07-14T18:01:53.470901Z",
     "shell.execute_reply": "2021-07-14T18:01:53.469754Z"
    }
   },
   "outputs": [
    {
     "name": "stdout",
     "output_type": "stream",
     "text": [
      "\n",
      "There are 14 unique Genes with abs(log2FC) >= 0.5\n",
      "There are 0 unique Genes with abs(log2FC) >= 1\n",
      "\n",
      "There are 78 unique Transcripts with abs(log2FC) >= 0.5\n",
      "There are 27 unique Transcripts with abs(log2FC) >= 1\n",
      "\n",
      "There are 35 unique Exons with abs(log2FC) >= 0.5\n",
      "There are 1 unique Exons with abs(log2FC) >= 1\n",
      "\n",
      "There are 25 unique Junctions with abs(log2FC) >= 0.5\n",
      "There are 1 unique Junctions with abs(log2FC) >= 1\n"
     ]
    }
   ],
   "source": [
    "feature_list = ['Genes', 'Transcripts', 'Exons', 'Junctions']\n",
    "feature_df = [genes, trans, exons, juncs]\n",
    "for ii in range(4):\n",
    "    ff = feature_df[ii]\n",
    "    half = len(set(ff[(np.abs(ff['logFC']) >= 0.5)].ensemblID))\n",
    "    one = len(set(ff[(np.abs(ff['logFC']) >= 1)].ensemblID))\n",
    "    print(\"\\nThere are %d unique %s with abs(log2FC) >= 0.5\" % (half, feature_list[ii]))\n",
    "    print(\"There are %d unique %s with abs(log2FC) >= 1\" % (one, feature_list[ii]))"
   ]
  },
  {
   "cell_type": "code",
   "execution_count": 15,
   "metadata": {
    "execution": {
     "iopub.execute_input": "2021-07-14T18:01:53.478723Z",
     "iopub.status.busy": "2021-07-14T18:01:53.475936Z",
     "iopub.status.idle": "2021-07-14T18:01:53.595225Z",
     "shell.execute_reply": "2021-07-14T18:01:53.594013Z"
    }
   },
   "outputs": [],
   "source": [
    "df = pd.concat([genes.reset_index(), trans.reset_index(), \n",
    "                exons.reset_index(), juncs.reset_index()], axis=0)\n",
    "df.to_csv('male_specific_DE_4features.txt', sep='\\t', index=False, header=True)"
   ]
  },
  {
   "cell_type": "markdown",
   "metadata": {},
   "source": [
    "## Number of DEGs on allosomes"
   ]
  },
  {
   "cell_type": "code",
   "execution_count": 16,
   "metadata": {
    "execution": {
     "iopub.execute_input": "2021-07-14T18:01:53.602533Z",
     "iopub.status.busy": "2021-07-14T18:01:53.601263Z",
     "iopub.status.idle": "2021-07-14T18:01:53.610791Z",
     "shell.execute_reply": "2021-07-14T18:01:53.611903Z"
    }
   },
   "outputs": [
    {
     "data": {
      "text/plain": [
       "Type        Chrom\n",
       "exon        chrX     202\n",
       "            chrY       6\n",
       "gene        chrX      60\n",
       "            chrY       4\n",
       "junction    chrX      71\n",
       "transcript  chrX       5\n",
       "            chrY       2\n",
       "dtype: int64"
      ]
     },
     "execution_count": 1,
     "metadata": {},
     "output_type": "execute_result"
    }
   ],
   "source": [
    "df[(df['Chrom'].isin(['chrX', 'chrY']))].groupby(['Type', 'Chrom']).size()"
   ]
  },
  {
   "cell_type": "code",
   "execution_count": null,
   "metadata": {},
   "outputs": [],
   "source": []
  }
 ],
 "metadata": {
  "kernelspec": {
   "display_name": "Python 3",
   "language": "python",
   "name": "python3"
  },
  "language_info": {
   "codemirror_mode": {
    "name": "ipython",
    "version": 3
   },
   "file_extension": ".py",
   "mimetype": "text/x-python",
   "name": "python",
   "nbconvert_exporter": "python",
   "pygments_lexer": "ipython3",
   "version": "3.9.1"
  }
 },
 "nbformat": 4,
 "nbformat_minor": 4
}
