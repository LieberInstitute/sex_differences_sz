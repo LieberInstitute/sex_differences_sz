{
 "cells": [
  {
   "cell_type": "markdown",
   "metadata": {},
   "source": [
    "# Gene term enrichment analysis"
   ]
  },
  {
   "cell_type": "code",
   "execution_count": null,
   "metadata": {},
   "outputs": [],
   "source": [
    "suppressMessages({\n",
    "    library(clusterProfiler)\n",
    "    library(org.Hs.eg.db)\n",
    "    library(enrichplot)\n",
    "    library(pathview)})"
   ]
  },
  {
   "cell_type": "code",
   "execution_count": null,
   "metadata": {},
   "outputs": [],
   "source": [
    "extract_geneList <- function(dft, keytype='EntrezID'){\n",
    "    dft = na.exclude(dft)\n",
    "    gg = as.vector(dft[, 'logFC'])\n",
    "    names(gg) = as.vector(dft[, keytype])\n",
    "    gg = sort(gg, decreasing=TRUE)\n",
    "    return(gg)\n",
    "}\n",
    "\n",
    "\n",
    "extract_geneSet <- function(dft, keytype='EntrezID'){\n",
    "    dft = na.exclude(dft)\n",
    "    gg = subset(dft, adj.P.Val <= 0.05)\n",
    "    gene = as.vector(gg[, keytype])\n",
    "    return(gene)\n",
    "}\n"
   ]
  },
  {
   "cell_type": "code",
   "execution_count": null,
   "metadata": {},
   "outputs": [],
   "source": [
    "run_pathview <- function(geneList, pathwayID){\n",
    "    pathview(gene.data = geneList, pathway.id = pathwayID,\n",
    "             species = 'hsa', limit = list(gene=0.75, cpd=0.75))\n",
    "}"
   ]
  },
  {
   "cell_type": "markdown",
   "metadata": {},
   "source": [
    "## Genes"
   ]
  },
  {
   "cell_type": "code",
   "execution_count": null,
   "metadata": {},
   "outputs": [],
   "source": [
    "inputfile = \"../../_m/genes/diffExpr_szVctl_full.txt\"\n",
    "\n",
    "zz = read.delim(inputfile)\n",
    "geneList1 = extract_geneList(zz)"
   ]
  },
  {
   "cell_type": "code",
   "execution_count": null,
   "metadata": {},
   "outputs": [],
   "source": [
    "aa_uniprot <- merge(bitr(names(geneList1), fromType=\"ENTREZID\",\n",
    "                         toType=c(\"UNIPROT\", \"ENSEMBL\"), OrgDb=\"org.Hs.eg.db\"),\n",
    "                    zz, by.x='ENSEMBL', by.y='ensemblID')\n",
    "aa_kegg <- merge(bitr_kegg(aa_uniprot[['UNIPROT']], fromType='uniprot',\n",
    "                           toType='kegg', organism='hsa'), \n",
    "                 aa_uniprot, by.x='uniprot', by.y='UNIPROT')"
   ]
  },
  {
   "cell_type": "code",
   "execution_count": null,
   "metadata": {},
   "outputs": [],
   "source": [
    "geneList2 = extract_geneList(aa_kegg, 'kegg')\n",
    "gene2 = extract_geneSet(aa_kegg, 'kegg')"
   ]
  },
  {
   "cell_type": "markdown",
   "metadata": {},
   "source": [
    "### Pathview plotting"
   ]
  },
  {
   "cell_type": "code",
   "execution_count": null,
   "metadata": {},
   "outputs": [],
   "source": [
    "run_pathview(geneList2, \"hsa04020\")"
   ]
  },
  {
   "cell_type": "code",
   "execution_count": null,
   "metadata": {},
   "outputs": [],
   "source": [
    "run_pathview(geneList2, \"hsa04728\")"
   ]
  },
  {
   "cell_type": "code",
   "execution_count": null,
   "metadata": {},
   "outputs": [],
   "source": [
    "run_pathview(geneList2, \"hsa04713\")"
   ]
  },
  {
   "cell_type": "markdown",
   "metadata": {},
   "source": [
    "## Session Info"
   ]
  },
  {
   "cell_type": "code",
   "execution_count": null,
   "metadata": {},
   "outputs": [],
   "source": [
    "Sys.time()\n",
    "proc.time()\n",
    "options(width=120)\n",
    "sessioninfo::session_info()"
   ]
  }
 ],
 "metadata": {
  "kernelspec": {
   "display_name": "R",
   "language": "R",
   "name": "ir"
  },
  "language_info": {
   "codemirror_mode": "r",
   "file_extension": ".r",
   "mimetype": "text/x-r-source",
   "name": "R",
   "pygments_lexer": "r",
   "version": "4.1.2"
  }
 },
 "nbformat": 4,
 "nbformat_minor": 4
}
