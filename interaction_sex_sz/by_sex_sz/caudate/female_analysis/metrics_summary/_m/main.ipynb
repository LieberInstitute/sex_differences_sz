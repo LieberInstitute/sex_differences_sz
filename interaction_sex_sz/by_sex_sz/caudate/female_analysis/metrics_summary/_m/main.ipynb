{
 "cells": [
  {
   "cell_type": "markdown",
   "metadata": {},
   "source": [
    "# Extract unique female specific SZ-associated genes"
   ]
  },
  {
   "cell_type": "code",
   "execution_count": 1,
   "metadata": {
    "execution": {
     "iopub.execute_input": "2021-08-16T22:43:07.015870Z",
     "iopub.status.busy": "2021-08-16T22:43:07.014604Z",
     "iopub.status.idle": "2021-08-16T22:43:07.883394Z",
     "shell.execute_reply": "2021-08-16T22:43:07.884236Z"
    }
   },
   "outputs": [],
   "source": [
    "import functools\n",
    "import numpy as np\n",
    "import pandas as pd\n",
    "from os import environ\n",
    "from gtfparse import read_gtf\n",
    "from scipy.stats import mannwhitneyu\n",
    "from statsmodels.stats.multitest import fdrcorrection"
   ]
  },
  {
   "cell_type": "code",
   "execution_count": 2,
   "metadata": {
    "execution": {
     "iopub.execute_input": "2021-08-16T22:43:07.896852Z",
     "iopub.status.busy": "2021-08-16T22:43:07.895222Z",
     "iopub.status.idle": "2021-08-16T22:43:07.898338Z",
     "shell.execute_reply": "2021-08-16T22:43:07.896117Z"
    }
   },
   "outputs": [],
   "source": [
    "environ['NUMEXPR_MAX_THREADS'] = '16'"
   ]
  },
  {
   "cell_type": "markdown",
   "metadata": {},
   "source": [
    "## Functions"
   ]
  },
  {
   "cell_type": "markdown",
   "metadata": {},
   "source": [
    "### Cached functions"
   ]
  },
  {
   "cell_type": "code",
   "execution_count": 3,
   "metadata": {
    "execution": {
     "iopub.execute_input": "2021-08-16T22:43:07.909532Z",
     "iopub.status.busy": "2021-08-16T22:43:07.908580Z",
     "iopub.status.idle": "2021-08-16T22:43:07.910438Z",
     "shell.execute_reply": "2021-08-16T22:43:07.911149Z"
    }
   },
   "outputs": [],
   "source": [
    "@functools.lru_cache()\n",
    "def get_res_df(feature):\n",
    "    return pd.read_csv('../../../../../interaction_model/caudate/_m/%s/residualized_expression.tsv' % \n",
    "                       feature, sep='\\t').T\n",
    "\n",
    "\n",
    "@functools.lru_cache()\n",
    "def get_pheno_df():\n",
    "    return pd.read_csv('/ceph/projects/v3_phase3_paper/inputs/phenotypes/_m/caudate_phenotypes.csv', \n",
    "                       index_col=0)\n",
    "\n",
    "\n",
    "@functools.lru_cache()\n",
    "def get_res_pheno_df(feature):\n",
    "    return pd.merge(get_pheno_df(), get_res_df(feature), left_index=True, right_index=True)\n",
    "\n",
    "\n",
    "@functools.lru_cache()\n",
    "def get_gtf(gtf_file):\n",
    "    return read_gtf(gtf_file)"
   ]
  },
  {
   "cell_type": "markdown",
   "metadata": {},
   "source": [
    "### Simple functions"
   ]
  },
  {
   "cell_type": "code",
   "execution_count": 4,
   "metadata": {
    "execution": {
     "iopub.execute_input": "2021-08-16T22:43:07.926862Z",
     "iopub.status.busy": "2021-08-16T22:43:07.920896Z",
     "iopub.status.idle": "2021-08-16T22:43:07.935294Z",
     "shell.execute_reply": "2021-08-16T22:43:07.930336Z"
    }
   },
   "outputs": [],
   "source": [
    "def gene_annot(feature):\n",
    "    gtf_file = '/ceph/genome/human/gencode25/gtf.CHR/_m/gencode.v25.annotation.gtf'\n",
    "    gtf0 = get_gtf(gtf_file)\n",
    "    gtf = gtf0[(gtf0[\"feature\"] == feature)]\n",
    "    return gtf[[\"gene_id\", \"gene_name\", \"transcript_id\", \"exon_id\", \n",
    "                \"gene_type\", \"seqname\", \"start\", \"end\", \"strand\"]]\n",
    "\n",
    "\n",
    "def get_de(feature):\n",
    "    f = pd.read_csv('../../../female_analysis/_m/%s/diffExpr_szVctl_full.txt' % feature, \n",
    "                    sep='\\t', index_col=0)\\\n",
    "          .rename(columns={'gencodeGeneID': 'gencodeID'})\n",
    "    m = pd.read_csv('../../../male_analysis/_m/%s/diffExpr_szVctl_full.txt' % feature, \n",
    "                    sep='\\t', index_col=0)\\\n",
    "          .rename(columns={'gencodeGeneID': 'gencodeID'})\n",
    "    a = pd.read_csv('/ceph/projects/v4_phase3_paper/analysis/differential_expression/'+\\\n",
    "                    '_m/%s/diffExpr_szVctl_full.txt' % feature, \n",
    "                    sep='\\t', index_col=0)\\\n",
    "          .rename(columns={'gencodeGeneID': 'gencodeID'})\n",
    "    return f, m, a\n",
    "\n",
    "\n",
    "def get_unique(x, y, thres=0.05):\n",
    "    return x.merge(pd.DataFrame(index = list(set(x[(x['adj.P.Val'] <= thres)].index) - \n",
    "                                             set(y[(y['adj.P.Val'] <= thres)].index))), \n",
    "                   left_index=True, right_index=True)\n",
    "\n",
    "\n",
    "def subset_sz_male(feature):\n",
    "    df = get_res_pheno_df(feature)\n",
    "    ctl = df[(df['Dx'] == 'Control') & (df['Sex'] == 'M')].copy()\n",
    "    sz = df[(df['Dx'] == 'Schizo') & (df['Sex'] == 'M')].copy()\n",
    "    return ctl, sz\n",
    "\n",
    "\n",
    "def add_pvals_adjustPval(feature, df):\n",
    "    ctl, sz = subset_sz_male(feature)\n",
    "    pval_df = []\n",
    "    for gene_id in df.Feature:\n",
    "        stat, pval = mannwhitneyu(ctl[gene_id], sz[gene_id])\n",
    "        pval_df.append(pval)\n",
    "    fdr_df = fdrcorrection(pval_df)\n",
    "    return pd.concat([df.set_index('Feature'), \n",
    "                      pd.DataFrame({'Male_Pval': pval_df, 'Male_FDR': fdr_df[1]}, \n",
    "                                   index=df.Feature)], axis=1)"
   ]
  },
  {
   "cell_type": "markdown",
   "metadata": {},
   "source": [
    "## Genes"
   ]
  },
  {
   "cell_type": "code",
   "execution_count": 5,
   "metadata": {
    "execution": {
     "iopub.execute_input": "2021-08-16T22:43:07.947266Z",
     "iopub.status.busy": "2021-08-16T22:43:07.946364Z",
     "iopub.status.idle": "2021-08-16T22:44:50.924375Z",
     "shell.execute_reply": "2021-08-16T22:44:50.923494Z"
    }
   },
   "outputs": [
    {
     "name": "stderr",
     "output_type": "stream",
     "text": [
      "INFO:root:Extracted GTF attributes: ['gene_id', 'gene_type', 'gene_status', 'gene_name', 'level', 'havana_gene', 'transcript_id', 'transcript_type', 'transcript_status', 'transcript_name', 'transcript_support_level', 'tag', 'havana_transcript', 'exon_number', 'exon_id', 'ont', 'protein_id', 'ccdsid']\n"
     ]
    }
   ],
   "source": [
    "gtf_annot = gene_annot('gene')\n",
    "f, m, a = get_de('genes')\n",
    "f['Feature'] = f.index"
   ]
  },
  {
   "cell_type": "code",
   "execution_count": 6,
   "metadata": {
    "execution": {
     "iopub.execute_input": "2021-08-16T22:44:50.938815Z",
     "iopub.status.busy": "2021-08-16T22:44:50.937863Z",
     "iopub.status.idle": "2021-08-16T22:44:53.270056Z",
     "shell.execute_reply": "2021-08-16T22:44:53.269107Z"
    }
   },
   "outputs": [
    {
     "data": {
      "text/html": [
       "<div>\n",
       "<style scoped>\n",
       "    .dataframe tbody tr th:only-of-type {\n",
       "        vertical-align: middle;\n",
       "    }\n",
       "\n",
       "    .dataframe tbody tr th {\n",
       "        vertical-align: top;\n",
       "    }\n",
       "\n",
       "    .dataframe thead th {\n",
       "        text-align: right;\n",
       "    }\n",
       "</style>\n",
       "<table border=\"1\" class=\"dataframe\">\n",
       "  <thead>\n",
       "    <tr style=\"text-align: right;\">\n",
       "      <th></th>\n",
       "      <th>Feature</th>\n",
       "      <th>gencodeID</th>\n",
       "      <th>Symbol</th>\n",
       "      <th>ensemblID</th>\n",
       "      <th>Chrom</th>\n",
       "      <th>logFC</th>\n",
       "      <th>t</th>\n",
       "      <th>adj.P.Val</th>\n",
       "      <th>Male_Pval</th>\n",
       "      <th>Male_FDR</th>\n",
       "      <th>Type</th>\n",
       "    </tr>\n",
       "  </thead>\n",
       "  <tbody>\n",
       "    <tr>\n",
       "      <th>0</th>\n",
       "      <td>ENSG00000070915.9</td>\n",
       "      <td>ENSG00000070915.9</td>\n",
       "      <td>SLC12A3</td>\n",
       "      <td>ENSG00000070915</td>\n",
       "      <td>chr16</td>\n",
       "      <td>0.909953</td>\n",
       "      <td>4.668428</td>\n",
       "      <td>0.006380</td>\n",
       "      <td>0.349666</td>\n",
       "      <td>0.368739</td>\n",
       "      <td>gene</td>\n",
       "    </tr>\n",
       "    <tr>\n",
       "      <th>1</th>\n",
       "      <td>ENSG00000111181.12</td>\n",
       "      <td>ENSG00000111181.12</td>\n",
       "      <td>SLC6A12</td>\n",
       "      <td>ENSG00000111181</td>\n",
       "      <td>chr12</td>\n",
       "      <td>-0.432628</td>\n",
       "      <td>-4.405278</td>\n",
       "      <td>0.009994</td>\n",
       "      <td>0.086899</td>\n",
       "      <td>0.136219</td>\n",
       "      <td>gene</td>\n",
       "    </tr>\n",
       "  </tbody>\n",
       "</table>\n",
       "</div>"
      ],
      "text/plain": [
       "              Feature           gencodeID   Symbol        ensemblID  Chrom  \\\n",
       "0   ENSG00000070915.9   ENSG00000070915.9  SLC12A3  ENSG00000070915  chr16   \n",
       "1  ENSG00000111181.12  ENSG00000111181.12  SLC6A12  ENSG00000111181  chr12   \n",
       "\n",
       "      logFC         t  adj.P.Val  Male_Pval  Male_FDR  Type  \n",
       "0  0.909953  4.668428   0.006380   0.349666  0.368739  gene  \n",
       "1 -0.432628 -4.405278   0.009994   0.086899  0.136219  gene  "
      ]
     },
     "execution_count": 1,
     "metadata": {},
     "output_type": "execute_result"
    }
   ],
   "source": [
    "#genes = get_unique(get_unique(f, m), a)\n",
    "genes = get_unique(f, m)\n",
    "genes = pd.merge(gtf_annot[['gene_id', 'seqname']], genes, left_on='gene_id', \n",
    "                 right_on='Feature', how='right').rename(columns={'seqname': 'Chrom'})\n",
    "genes = genes[['Feature', 'gencodeID', 'Symbol', 'ensemblID', \n",
    "               'Chrom', 'logFC', 't', 'adj.P.Val']].sort_values('adj.P.Val')\n",
    "genes = add_pvals_adjustPval('genes', genes)\n",
    "genes = genes[~(genes['Male_Pval'] < 0.05)].sort_values('adj.P.Val').reset_index() ## Stringents\n",
    "genes['Type'] = 'gene'\n",
    "genes.head(2)"
   ]
  },
  {
   "cell_type": "markdown",
   "metadata": {},
   "source": [
    "## Transcripts"
   ]
  },
  {
   "cell_type": "code",
   "execution_count": 7,
   "metadata": {
    "execution": {
     "iopub.execute_input": "2021-08-16T22:44:53.461005Z",
     "iopub.status.busy": "2021-08-16T22:44:53.457978Z",
     "iopub.status.idle": "2021-08-16T22:45:10.167129Z",
     "shell.execute_reply": "2021-08-16T22:45:10.166340Z"
    }
   },
   "outputs": [
    {
     "data": {
      "text/html": [
       "<div>\n",
       "<style scoped>\n",
       "    .dataframe tbody tr th:only-of-type {\n",
       "        vertical-align: middle;\n",
       "    }\n",
       "\n",
       "    .dataframe tbody tr th {\n",
       "        vertical-align: top;\n",
       "    }\n",
       "\n",
       "    .dataframe thead th {\n",
       "        text-align: right;\n",
       "    }\n",
       "</style>\n",
       "<table border=\"1\" class=\"dataframe\">\n",
       "  <thead>\n",
       "    <tr style=\"text-align: right;\">\n",
       "      <th></th>\n",
       "      <th>Feature</th>\n",
       "      <th>gencodeID</th>\n",
       "      <th>Symbol</th>\n",
       "      <th>ensemblID</th>\n",
       "      <th>Chrom</th>\n",
       "      <th>logFC</th>\n",
       "      <th>t</th>\n",
       "      <th>adj.P.Val</th>\n",
       "      <th>Male_Pval</th>\n",
       "      <th>Male_FDR</th>\n",
       "      <th>Type</th>\n",
       "    </tr>\n",
       "  </thead>\n",
       "  <tbody>\n",
       "    <tr>\n",
       "      <th>0</th>\n",
       "      <td>ENST00000546602.5</td>\n",
       "      <td>ENSG00000111077.17</td>\n",
       "      <td>TNS2</td>\n",
       "      <td>ENSG00000111077</td>\n",
       "      <td>chr12</td>\n",
       "      <td>-2.895591</td>\n",
       "      <td>-4.732890</td>\n",
       "      <td>0.019794</td>\n",
       "      <td>0.369834</td>\n",
       "      <td>0.381391</td>\n",
       "      <td>transcript</td>\n",
       "    </tr>\n",
       "    <tr>\n",
       "      <th>1</th>\n",
       "      <td>ENST00000382297.6</td>\n",
       "      <td>ENSG00000107104.18</td>\n",
       "      <td>KANK1</td>\n",
       "      <td>ENSG00000107104</td>\n",
       "      <td>chr9</td>\n",
       "      <td>-0.475026</td>\n",
       "      <td>-4.463686</td>\n",
       "      <td>0.036958</td>\n",
       "      <td>0.066030</td>\n",
       "      <td>0.087160</td>\n",
       "      <td>transcript</td>\n",
       "    </tr>\n",
       "  </tbody>\n",
       "</table>\n",
       "</div>"
      ],
      "text/plain": [
       "             Feature           gencodeID Symbol        ensemblID  Chrom  \\\n",
       "0  ENST00000546602.5  ENSG00000111077.17   TNS2  ENSG00000111077  chr12   \n",
       "1  ENST00000382297.6  ENSG00000107104.18  KANK1  ENSG00000107104   chr9   \n",
       "\n",
       "      logFC         t  adj.P.Val  Male_Pval  Male_FDR        Type  \n",
       "0 -2.895591 -4.732890   0.019794   0.369834  0.381391  transcript  \n",
       "1 -0.475026 -4.463686   0.036958   0.066030  0.087160  transcript  "
      ]
     },
     "execution_count": 1,
     "metadata": {},
     "output_type": "execute_result"
    }
   ],
   "source": [
    "gtf_annot = gene_annot('transcript')\n",
    "\n",
    "f, m, a = get_de('transcripts')\n",
    "f['Feature'] = f.index\n",
    "f['ensemblID'] = f.gene_id.str.replace('\\\\.\\d+', '', regex=True)\n",
    "#trans = get_unique(get_unique(f, m), a)\n",
    "trans = get_unique(f, m)\n",
    "trans = pd.merge(gtf_annot[['transcript_id', 'seqname']], trans, \n",
    "                 left_on='transcript_id', right_on='Feature', \n",
    "                 how='right').rename(columns={'seqname': 'Chrom'}).sort_values('adj.P.Val')\n",
    "trans = trans[['Feature', 'gene_id', 'gene_name', 'ensemblID', 'Chrom', \n",
    "               'logFC', 't', 'adj.P.Val']].rename(columns={'gene_name': 'Symbol', \n",
    "                                                           'gene_id': 'gencodeID'})\n",
    "trans = add_pvals_adjustPval('transcripts', trans)\n",
    "trans = trans[~(trans['Male_Pval'] <= 0.05)].sort_values('adj.P.Val').reset_index() ## Stringents\n",
    "trans['Type'] = 'transcript'\n",
    "trans.head(2)"
   ]
  },
  {
   "cell_type": "markdown",
   "metadata": {},
   "source": [
    "### Exons"
   ]
  },
  {
   "cell_type": "code",
   "execution_count": 8,
   "metadata": {
    "execution": {
     "iopub.execute_input": "2021-08-16T22:45:10.379040Z",
     "iopub.status.busy": "2021-08-16T22:45:10.378077Z",
     "iopub.status.idle": "2021-08-16T22:46:00.915966Z",
     "shell.execute_reply": "2021-08-16T22:46:00.917009Z"
    }
   },
   "outputs": [
    {
     "data": {
      "text/html": [
       "<div>\n",
       "<style scoped>\n",
       "    .dataframe tbody tr th:only-of-type {\n",
       "        vertical-align: middle;\n",
       "    }\n",
       "\n",
       "    .dataframe tbody tr th {\n",
       "        vertical-align: top;\n",
       "    }\n",
       "\n",
       "    .dataframe thead th {\n",
       "        text-align: right;\n",
       "    }\n",
       "</style>\n",
       "<table border=\"1\" class=\"dataframe\">\n",
       "  <thead>\n",
       "    <tr style=\"text-align: right;\">\n",
       "      <th></th>\n",
       "      <th>Feature</th>\n",
       "      <th>gencodeID</th>\n",
       "      <th>Symbol</th>\n",
       "      <th>ensemblID</th>\n",
       "      <th>Chrom</th>\n",
       "      <th>logFC</th>\n",
       "      <th>t</th>\n",
       "      <th>adj.P.Val</th>\n",
       "      <th>Male_Pval</th>\n",
       "      <th>Male_FDR</th>\n",
       "      <th>Type</th>\n",
       "    </tr>\n",
       "  </thead>\n",
       "  <tbody>\n",
       "    <tr>\n",
       "      <th>0</th>\n",
       "      <td>e36382</td>\n",
       "      <td>ENSG00000085831.15</td>\n",
       "      <td>TTC39A</td>\n",
       "      <td>ENSG00000085831</td>\n",
       "      <td>chr1</td>\n",
       "      <td>0.666415</td>\n",
       "      <td>4.866389</td>\n",
       "      <td>0.024742</td>\n",
       "      <td>0.065018</td>\n",
       "      <td>0.088508</td>\n",
       "      <td>exon</td>\n",
       "    </tr>\n",
       "    <tr>\n",
       "      <th>1</th>\n",
       "      <td>e193774</td>\n",
       "      <td>ENSG00000077044.10</td>\n",
       "      <td>DGKD</td>\n",
       "      <td>ENSG00000077044</td>\n",
       "      <td>chr2</td>\n",
       "      <td>0.253319</td>\n",
       "      <td>4.830409</td>\n",
       "      <td>0.026066</td>\n",
       "      <td>0.118827</td>\n",
       "      <td>0.137924</td>\n",
       "      <td>exon</td>\n",
       "    </tr>\n",
       "  </tbody>\n",
       "</table>\n",
       "</div>"
      ],
      "text/plain": [
       "   Feature           gencodeID  Symbol        ensemblID Chrom     logFC  \\\n",
       "0   e36382  ENSG00000085831.15  TTC39A  ENSG00000085831  chr1  0.666415   \n",
       "1  e193774  ENSG00000077044.10    DGKD  ENSG00000077044  chr2  0.253319   \n",
       "\n",
       "          t  adj.P.Val  Male_Pval  Male_FDR  Type  \n",
       "0  4.866389   0.024742   0.065018  0.088508  exon  \n",
       "1  4.830409   0.026066   0.118827  0.137924  exon  "
      ]
     },
     "execution_count": 1,
     "metadata": {},
     "output_type": "execute_result"
    }
   ],
   "source": [
    "gtf_annot = gene_annot('exon')\n",
    "gtf_annot['ensemblID'] = gtf_annot.gene_id.str.replace('\\\\.\\d+', '', regex=True)\n",
    "\n",
    "f, m, a = get_de('exons')\n",
    "f['Feature'] = f.index\n",
    "#exons = get_unique(get_unique(f, m), a)\n",
    "exons = get_unique(f, m)\n",
    "exons = pd.merge(gtf_annot[['ensemblID', 'seqname']], exons, \n",
    "                 on='ensemblID', how='right').rename(columns={'seqname': 'Chrom'})\n",
    "exons = exons[['Feature', 'gencodeID', 'Symbol', 'ensemblID', \n",
    "               'Chrom', 'logFC', 't', 'adj.P.Val']].groupby('Feature')\\\n",
    "            .first().reset_index().sort_values('adj.P.Val')\n",
    "exons = add_pvals_adjustPval('exons', exons)\n",
    "exons = exons[~(exons['Male_Pval'] <= 0.05)].sort_values('adj.P.Val').reset_index()\n",
    "exons['Type'] = 'exon'\n",
    "exons.head(2)"
   ]
  },
  {
   "cell_type": "markdown",
   "metadata": {},
   "source": [
    "### Junctions"
   ]
  },
  {
   "cell_type": "code",
   "execution_count": 9,
   "metadata": {
    "execution": {
     "iopub.execute_input": "2021-08-16T22:46:00.926900Z",
     "iopub.status.busy": "2021-08-16T22:46:00.925296Z",
     "iopub.status.idle": "2021-08-16T22:46:22.552267Z",
     "shell.execute_reply": "2021-08-16T22:46:22.553350Z"
    }
   },
   "outputs": [
    {
     "data": {
      "text/html": [
       "<div>\n",
       "<style scoped>\n",
       "    .dataframe tbody tr th:only-of-type {\n",
       "        vertical-align: middle;\n",
       "    }\n",
       "\n",
       "    .dataframe tbody tr th {\n",
       "        vertical-align: top;\n",
       "    }\n",
       "\n",
       "    .dataframe thead th {\n",
       "        text-align: right;\n",
       "    }\n",
       "</style>\n",
       "<table border=\"1\" class=\"dataframe\">\n",
       "  <thead>\n",
       "    <tr style=\"text-align: right;\">\n",
       "      <th></th>\n",
       "      <th>Feature</th>\n",
       "      <th>gencodeID</th>\n",
       "      <th>Symbol</th>\n",
       "      <th>ensemblID</th>\n",
       "      <th>Chrom</th>\n",
       "      <th>logFC</th>\n",
       "      <th>t</th>\n",
       "      <th>adj.P.Val</th>\n",
       "      <th>Male_Pval</th>\n",
       "      <th>Male_FDR</th>\n",
       "      <th>Type</th>\n",
       "    </tr>\n",
       "  </thead>\n",
       "  <tbody>\n",
       "    <tr>\n",
       "      <th>0</th>\n",
       "      <td>chr11:65505844-65505919(+)</td>\n",
       "      <td>None</td>\n",
       "      <td>None</td>\n",
       "      <td>None</td>\n",
       "      <td>None</td>\n",
       "      <td>2.410128</td>\n",
       "      <td>4.839635</td>\n",
       "      <td>0.017846</td>\n",
       "      <td>0.386719</td>\n",
       "      <td>0.392578</td>\n",
       "      <td>junction</td>\n",
       "    </tr>\n",
       "    <tr>\n",
       "      <th>1</th>\n",
       "      <td>chr11:502250-504823(-)</td>\n",
       "      <td>ENSG00000023191.16</td>\n",
       "      <td>RNH1</td>\n",
       "      <td>ENSG00000023191</td>\n",
       "      <td>chr11</td>\n",
       "      <td>-0.505327</td>\n",
       "      <td>-4.812657</td>\n",
       "      <td>0.018865</td>\n",
       "      <td>0.077289</td>\n",
       "      <td>0.097704</td>\n",
       "      <td>junction</td>\n",
       "    </tr>\n",
       "  </tbody>\n",
       "</table>\n",
       "</div>"
      ],
      "text/plain": [
       "                      Feature           gencodeID Symbol        ensemblID  \\\n",
       "0  chr11:65505844-65505919(+)                None   None             None   \n",
       "1      chr11:502250-504823(-)  ENSG00000023191.16   RNH1  ENSG00000023191   \n",
       "\n",
       "   Chrom     logFC         t  adj.P.Val  Male_Pval  Male_FDR      Type  \n",
       "0   None  2.410128  4.839635   0.017846   0.386719  0.392578  junction  \n",
       "1  chr11 -0.505327 -4.812657   0.018865   0.077289  0.097704  junction  "
      ]
     },
     "execution_count": 1,
     "metadata": {},
     "output_type": "execute_result"
    }
   ],
   "source": [
    "f, m, a = get_de('junctions')\n",
    "f['Feature'] = f.index\n",
    "#juncs = get_unique(get_unique(f, m), a)\n",
    "juncs = get_unique(f, m)\n",
    "juncs = pd.merge(gtf_annot[['ensemblID', 'seqname']], juncs, \n",
    "                 on='ensemblID', how='right').rename(columns={'seqname': 'Chrom'})\n",
    "juncs = juncs[['Feature', 'gencodeID', 'Symbol', 'ensemblID', 'Chrom',\n",
    "               'logFC', 't', 'adj.P.Val']].groupby('Feature')\\\n",
    "        .first().reset_index().sort_values('adj.P.Val')\n",
    "juncs = add_pvals_adjustPval('junctions', juncs)\n",
    "juncs = juncs[~(juncs['Male_Pval'] <= 0.05)].sort_values('adj.P.Val').reset_index() ## Stringents\n",
    "juncs['Type'] = 'junction'\n",
    "juncs.head(2)"
   ]
  },
  {
   "cell_type": "markdown",
   "metadata": {},
   "source": [
    "## DE summary"
   ]
  },
  {
   "cell_type": "markdown",
   "metadata": {},
   "source": [
    "### DE (feature)"
   ]
  },
  {
   "cell_type": "code",
   "execution_count": 10,
   "metadata": {
    "execution": {
     "iopub.execute_input": "2021-08-16T22:46:22.564196Z",
     "iopub.status.busy": "2021-08-16T22:46:22.562750Z",
     "iopub.status.idle": "2021-08-16T22:46:22.567823Z",
     "shell.execute_reply": "2021-08-16T22:46:22.568872Z"
    }
   },
   "outputs": [
    {
     "name": "stdout",
     "output_type": "stream",
     "text": [
      "\n",
      "Gene:\t\t30\n",
      "Transcript:\t11\n",
      "Exon:\t\t19\n",
      "Junction:\t17\n"
     ]
    }
   ],
   "source": [
    "gg = len(set(genes['Feature']))\n",
    "tt = len(set(trans['Feature']))\n",
    "ee = len(set(exons['Feature']))\n",
    "jj = len(set(juncs['Feature']))\n",
    "\n",
    "print(\"\\nGene:\\t\\t%d\\nTranscript:\\t%d\\nExon:\\t\\t%d\\nJunction:\\t%d\" % \n",
    "      (gg, tt, ee, jj)) "
   ]
  },
  {
   "cell_type": "markdown",
   "metadata": {},
   "source": [
    "#### DE (EnsemblID)"
   ]
  },
  {
   "cell_type": "code",
   "execution_count": 11,
   "metadata": {
    "execution": {
     "iopub.execute_input": "2021-08-16T22:46:22.583643Z",
     "iopub.status.busy": "2021-08-16T22:46:22.577281Z",
     "iopub.status.idle": "2021-08-16T22:46:22.587688Z",
     "shell.execute_reply": "2021-08-16T22:46:22.586526Z"
    }
   },
   "outputs": [
    {
     "name": "stdout",
     "output_type": "stream",
     "text": [
      "\n",
      "Gene:\t\t30\n",
      "Transcript:\t11\n",
      "Exon:\t\t15\n",
      "Junction:\t15\n"
     ]
    }
   ],
   "source": [
    "gg = len(set(genes['ensemblID']))\n",
    "tt = len(set(trans['ensemblID']))\n",
    "ee = len(set(exons['ensemblID']))\n",
    "jj = len(set(juncs['ensemblID']))\n",
    "\n",
    "print(\"\\nGene:\\t\\t%d\\nTranscript:\\t%d\\nExon:\\t\\t%d\\nJunction:\\t%d\" % \n",
    "      (gg, tt, ee, jj)) "
   ]
  },
  {
   "cell_type": "markdown",
   "metadata": {},
   "source": [
    "#### DE (Gene Symbol)"
   ]
  },
  {
   "cell_type": "code",
   "execution_count": 12,
   "metadata": {
    "execution": {
     "iopub.execute_input": "2021-08-16T22:46:22.596873Z",
     "iopub.status.busy": "2021-08-16T22:46:22.595400Z",
     "iopub.status.idle": "2021-08-16T22:46:22.600573Z",
     "shell.execute_reply": "2021-08-16T22:46:22.599645Z"
    }
   },
   "outputs": [
    {
     "name": "stdout",
     "output_type": "stream",
     "text": [
      "\n",
      "Gene:\t\t26\n",
      "Transcript:\t11\n",
      "Exon:\t\t15\n",
      "Junction:\t15\n"
     ]
    }
   ],
   "source": [
    "gg = len(set(genes['Symbol']))\n",
    "tt = len(set(trans['Symbol']))\n",
    "ee = len(set(exons['Symbol']))\n",
    "jj = len(set(juncs['Symbol']))\n",
    "\n",
    "print(\"\\nGene:\\t\\t%d\\nTranscript:\\t%d\\nExon:\\t\\t%d\\nJunction:\\t%d\" % (gg, tt, ee, jj)) "
   ]
  },
  {
   "cell_type": "markdown",
   "metadata": {},
   "source": [
    "### Feature effect size summary"
   ]
  },
  {
   "cell_type": "code",
   "execution_count": 13,
   "metadata": {
    "execution": {
     "iopub.execute_input": "2021-08-16T22:46:22.614318Z",
     "iopub.status.busy": "2021-08-16T22:46:22.606951Z",
     "iopub.status.idle": "2021-08-16T22:46:22.629910Z",
     "shell.execute_reply": "2021-08-16T22:46:22.631051Z"
    }
   },
   "outputs": [
    {
     "name": "stdout",
     "output_type": "stream",
     "text": [
      "\n",
      "There are 12 unique Genes with abs(log2FC) >= 0.5\n",
      "There are 1 unique Genes with abs(log2FC) >= 1\n",
      "\n",
      "There are 6 unique Transcript with abs(log2FC) >= 0.5\n",
      "There are 1 unique Transcript with abs(log2FC) >= 1\n",
      "\n",
      "There are 7 unique Exons with abs(log2FC) >= 0.5\n",
      "There are 0 unique Exons with abs(log2FC) >= 1\n",
      "\n",
      "There are 10 unique Junctions with abs(log2FC) >= 0.5\n",
      "There are 1 unique Junctions with abs(log2FC) >= 1\n"
     ]
    }
   ],
   "source": [
    "feature_list = ['Genes', 'Transcript', 'Exons', 'Junctions']\n",
    "feature_df = [genes, trans, exons, juncs]\n",
    "for ii in range(4):\n",
    "    ff = feature_df[ii]\n",
    "    half = len(set(ff[(np.abs(ff['logFC']) >= 0.5)].Feature))\n",
    "    one = len(set(ff[(np.abs(ff['logFC']) >= 1)].Feature))\n",
    "    print(\"\\nThere are %d unique %s with abs(log2FC) >= 0.5\" % (half, feature_list[ii]))\n",
    "    print(\"There are %d unique %s with abs(log2FC) >= 1\" % (one, feature_list[ii]))"
   ]
  },
  {
   "cell_type": "code",
   "execution_count": 14,
   "metadata": {
    "execution": {
     "iopub.execute_input": "2021-08-16T22:46:22.646316Z",
     "iopub.status.busy": "2021-08-16T22:46:22.640949Z",
     "iopub.status.idle": "2021-08-16T22:46:22.650127Z",
     "shell.execute_reply": "2021-08-16T22:46:22.651921Z"
    }
   },
   "outputs": [
    {
     "name": "stdout",
     "output_type": "stream",
     "text": [
      "\n",
      "There are 12 unique Genes with abs(log2FC) >= 0.5\n",
      "There are 1 unique Genes with abs(log2FC) >= 1\n",
      "\n",
      "There are 6 unique Transcripts with abs(log2FC) >= 0.5\n",
      "There are 1 unique Transcripts with abs(log2FC) >= 1\n",
      "\n",
      "There are 6 unique Exons with abs(log2FC) >= 0.5\n",
      "There are 0 unique Exons with abs(log2FC) >= 1\n",
      "\n",
      "There are 9 unique Junctions with abs(log2FC) >= 0.5\n",
      "There are 1 unique Junctions with abs(log2FC) >= 1\n"
     ]
    }
   ],
   "source": [
    "feature_list = ['Genes', 'Transcripts', 'Exons', 'Junctions']\n",
    "feature_df = [genes, trans, exons, juncs]\n",
    "for ii in range(4):\n",
    "    ff = feature_df[ii]\n",
    "    half = len(set(ff[(np.abs(ff['logFC']) >= 0.5)].ensemblID))\n",
    "    one = len(set(ff[(np.abs(ff['logFC']) >= 1)].ensemblID))\n",
    "    print(\"\\nThere are %d unique %s with abs(log2FC) >= 0.5\" % (half, feature_list[ii]))\n",
    "    print(\"There are %d unique %s with abs(log2FC) >= 1\" % (one, feature_list[ii]))"
   ]
  },
  {
   "cell_type": "code",
   "execution_count": 15,
   "metadata": {
    "execution": {
     "iopub.execute_input": "2021-08-16T22:46:22.662298Z",
     "iopub.status.busy": "2021-08-16T22:46:22.661068Z",
     "iopub.status.idle": "2021-08-16T22:46:22.682112Z",
     "shell.execute_reply": "2021-08-16T22:46:22.675886Z"
    }
   },
   "outputs": [],
   "source": [
    "df = pd.concat([genes, trans, exons, juncs], axis=0)\n",
    "df.to_csv('female_specific_DE_4features.txt', sep='\\t', index=False, header=True)"
   ]
  },
  {
   "cell_type": "markdown",
   "metadata": {},
   "source": [
    "## Number of DEGs on allosomes"
   ]
  },
  {
   "cell_type": "code",
   "execution_count": 16,
   "metadata": {
    "execution": {
     "iopub.execute_input": "2021-08-16T22:46:22.708633Z",
     "iopub.status.busy": "2021-08-16T22:46:22.696150Z",
     "iopub.status.idle": "2021-08-16T22:46:22.741617Z",
     "shell.execute_reply": "2021-08-16T22:46:22.739984Z"
    }
   },
   "outputs": [
    {
     "data": {
      "text/plain": [
       "Type  Chrom\n",
       "gene  chrX     2\n",
       "dtype: int64"
      ]
     },
     "execution_count": 1,
     "metadata": {},
     "output_type": "execute_result"
    }
   ],
   "source": [
    "df[(df['Chrom'].isin(['chrX', 'chrY']))].groupby(['Type', 'Chrom']).size()"
   ]
  },
  {
   "cell_type": "code",
   "execution_count": null,
   "metadata": {},
   "outputs": [],
   "source": []
  }
 ],
 "metadata": {
  "kernelspec": {
   "display_name": "Python 3",
   "language": "python",
   "name": "python3"
  },
  "language_info": {
   "codemirror_mode": {
    "name": "ipython",
    "version": 3
   },
   "file_extension": ".py",
   "mimetype": "text/x-python",
   "name": "python",
   "nbconvert_exporter": "python",
   "pygments_lexer": "ipython3",
   "version": "3.9.1"
  }
 },
 "nbformat": 4,
 "nbformat_minor": 4
}
