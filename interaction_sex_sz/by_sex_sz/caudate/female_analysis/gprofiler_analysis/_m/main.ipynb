{
 "cells": [
  {
   "cell_type": "markdown",
   "metadata": {},
   "source": [
    "# Functional enrichment analysis with g:Profiler"
   ]
  },
  {
   "cell_type": "code",
   "execution_count": 1,
   "metadata": {
    "execution": {
     "iopub.execute_input": "2021-07-14T22:01:18.931606Z",
     "iopub.status.busy": "2021-07-14T22:01:18.930031Z",
     "iopub.status.idle": "2021-07-14T22:01:20.746403Z",
     "shell.execute_reply": "2021-07-14T22:01:20.744654Z"
    }
   },
   "outputs": [
    {
     "name": "stderr",
     "output_type": "stream",
     "text": [
      "── \u001b[1mAttaching packages\u001b[22m ─────────────────────────────────────── tidyverse 1.3.1 ──\n",
      "\n",
      "\u001b[32m✔\u001b[39m \u001b[34mggplot2\u001b[39m 3.3.5     \u001b[32m✔\u001b[39m \u001b[34mpurrr  \u001b[39m 0.3.4\n",
      "\u001b[32m✔\u001b[39m \u001b[34mtibble \u001b[39m 3.1.2     \u001b[32m✔\u001b[39m \u001b[34mdplyr  \u001b[39m 1.0.7\n",
      "\u001b[32m✔\u001b[39m \u001b[34mtidyr  \u001b[39m 1.1.3     \u001b[32m✔\u001b[39m \u001b[34mstringr\u001b[39m 1.4.0\n",
      "\u001b[32m✔\u001b[39m \u001b[34mreadr  \u001b[39m 1.4.0     \u001b[32m✔\u001b[39m \u001b[34mforcats\u001b[39m 0.5.1\n",
      "\n",
      "── \u001b[1mConflicts\u001b[22m ────────────────────────────────────────── tidyverse_conflicts() ──\n",
      "\u001b[31m✖\u001b[39m \u001b[34mdplyr\u001b[39m::\u001b[32mfilter()\u001b[39m masks \u001b[34mstats\u001b[39m::filter()\n",
      "\u001b[31m✖\u001b[39m \u001b[34mdplyr\u001b[39m::\u001b[32mlag()\u001b[39m    masks \u001b[34mstats\u001b[39m::lag()\n",
      "\n"
     ]
    }
   ],
   "source": [
    "library(tidyverse)\n",
    "library(gprofiler2)"
   ]
  },
  {
   "cell_type": "markdown",
   "metadata": {},
   "source": [
    "## Load DEG results"
   ]
  },
  {
   "cell_type": "code",
   "execution_count": 2,
   "metadata": {
    "execution": {
     "iopub.execute_input": "2021-07-14T22:01:20.789967Z",
     "iopub.status.busy": "2021-07-14T22:01:20.751632Z",
     "iopub.status.idle": "2021-07-14T22:01:20.842879Z",
     "shell.execute_reply": "2021-07-14T22:01:20.841595Z"
    }
   },
   "outputs": [
    {
     "data": {
      "text/html": [
       "<table class=\"dataframe\">\n",
       "<caption>A data.table: 2 × 5</caption>\n",
       "<thead>\n",
       "\t<tr><th scope=col>gencodeID</th><th scope=col>ensemblID</th><th scope=col>Symbol</th><th scope=col>logFC</th><th scope=col>adj.P.Val</th></tr>\n",
       "\t<tr><th scope=col>&lt;chr&gt;</th><th scope=col>&lt;chr&gt;</th><th scope=col>&lt;chr&gt;</th><th scope=col>&lt;dbl&gt;</th><th scope=col>&lt;dbl&gt;</th></tr>\n",
       "</thead>\n",
       "<tbody>\n",
       "\t<tr><td>ENSG00000111181.12</td><td>ENSG00000111181</td><td>SLC6A12</td><td>-0.4568383</td><td>0.001106169</td></tr>\n",
       "\t<tr><td>ENSG00000070915.9 </td><td>ENSG00000070915</td><td>SLC12A3</td><td> 0.8484950</td><td>0.001680123</td></tr>\n",
       "</tbody>\n",
       "</table>\n"
      ],
      "text/latex": [
       "A data.table: 2 × 5\n",
       "\\begin{tabular}{lllll}\n",
       " gencodeID & ensemblID & Symbol & logFC & adj.P.Val\\\\\n",
       " <chr> & <chr> & <chr> & <dbl> & <dbl>\\\\\n",
       "\\hline\n",
       "\t ENSG00000111181.12 & ENSG00000111181 & SLC6A12 & -0.4568383 & 0.001106169\\\\\n",
       "\t ENSG00000070915.9  & ENSG00000070915 & SLC12A3 &  0.8484950 & 0.001680123\\\\\n",
       "\\end{tabular}\n"
      ],
      "text/markdown": [
       "\n",
       "A data.table: 2 × 5\n",
       "\n",
       "| gencodeID &lt;chr&gt; | ensemblID &lt;chr&gt; | Symbol &lt;chr&gt; | logFC &lt;dbl&gt; | adj.P.Val &lt;dbl&gt; |\n",
       "|---|---|---|---|---|\n",
       "| ENSG00000111181.12 | ENSG00000111181 | SLC6A12 | -0.4568383 | 0.001106169 |\n",
       "| ENSG00000070915.9  | ENSG00000070915 | SLC12A3 |  0.8484950 | 0.001680123 |\n",
       "\n"
      ],
      "text/plain": [
       "  gencodeID          ensemblID       Symbol  logFC      adj.P.Val  \n",
       "1 ENSG00000111181.12 ENSG00000111181 SLC6A12 -0.4568383 0.001106169\n",
       "2 ENSG00000070915.9  ENSG00000070915 SLC12A3  0.8484950 0.001680123"
      ]
     },
     "metadata": {},
     "output_type": "display_data"
    }
   ],
   "source": [
    "deg <- data.table::fread('../../metrics_summary/_m/female_specific_DE_4features.txt') %>%\n",
    "    select(gencodeID, ensemblID, Symbol, logFC, \"adj.P.Val\")\n",
    "deg %>% head(2)"
   ]
  },
  {
   "cell_type": "markdown",
   "metadata": {},
   "source": [
    "## Calculated enrichment and visual plot"
   ]
  },
  {
   "cell_type": "code",
   "execution_count": 3,
   "metadata": {
    "execution": {
     "iopub.execute_input": "2021-07-14T22:01:20.849036Z",
     "iopub.status.busy": "2021-07-14T22:01:20.847735Z",
     "iopub.status.idle": "2021-07-14T22:01:20.860187Z",
     "shell.execute_reply": "2021-07-14T22:01:20.858877Z"
    }
   },
   "outputs": [],
   "source": [
    "save_ggplots <- function(fn, p, w, h){\n",
    "    for(ext in c('.pdf', '.png', '.svg')){\n",
    "        ggsave(paste0(fn, ext), plot=p, width=w, height=h)\n",
    "    }\n",
    "}"
   ]
  },
  {
   "cell_type": "code",
   "execution_count": 4,
   "metadata": {
    "execution": {
     "iopub.execute_input": "2021-07-14T22:01:20.866091Z",
     "iopub.status.busy": "2021-07-14T22:01:20.864825Z",
     "iopub.status.idle": "2021-07-14T22:01:21.677005Z",
     "shell.execute_reply": "2021-07-14T22:01:21.674183Z"
    }
   },
   "outputs": [
    {
     "data": {
      "text/html": [
       "<table class=\"dataframe\">\n",
       "<caption>A data.frame: 2 × 14</caption>\n",
       "<thead>\n",
       "\t<tr><th></th><th scope=col>query</th><th scope=col>significant</th><th scope=col>p_value</th><th scope=col>term_size</th><th scope=col>query_size</th><th scope=col>intersection_size</th><th scope=col>precision</th><th scope=col>recall</th><th scope=col>term_id</th><th scope=col>source</th><th scope=col>term_name</th><th scope=col>effective_domain_size</th><th scope=col>source_order</th><th scope=col>parents</th></tr>\n",
       "\t<tr><th></th><th scope=col>&lt;chr&gt;</th><th scope=col>&lt;lgl&gt;</th><th scope=col>&lt;dbl&gt;</th><th scope=col>&lt;int&gt;</th><th scope=col>&lt;int&gt;</th><th scope=col>&lt;int&gt;</th><th scope=col>&lt;dbl&gt;</th><th scope=col>&lt;dbl&gt;</th><th scope=col>&lt;chr&gt;</th><th scope=col>&lt;chr&gt;</th><th scope=col>&lt;chr&gt;</th><th scope=col>&lt;int&gt;</th><th scope=col>&lt;int&gt;</th><th scope=col>&lt;list&gt;</th></tr>\n",
       "</thead>\n",
       "<tbody>\n",
       "\t<tr><th scope=row>1</th><td>query_1</td><td>TRUE</td><td>0.01935283</td><td>3</td><td>103</td><td>2</td><td>0.01941748</td><td>0.6666667</td><td>GO:0008511</td><td>GO:MF</td><td>sodium:potassium:chloride symporter activity</td><td>18679</td><td>2226</td><td>GO:0009674, GO:0015378, GO:0015379</td></tr>\n",
       "\t<tr><th scope=row>2</th><td>query_1</td><td>TRUE</td><td>0.01935283</td><td>3</td><td>103</td><td>2</td><td>0.01941748</td><td>0.6666667</td><td>GO:0009674</td><td>GO:MF</td><td>potassium:sodium symporter activity         </td><td>18679</td><td>2714</td><td>GO:0015079, GO:0015370</td></tr>\n",
       "</tbody>\n",
       "</table>\n"
      ],
      "text/latex": [
       "A data.frame: 2 × 14\n",
       "\\begin{tabular}{r|llllllllllllll}\n",
       "  & query & significant & p\\_value & term\\_size & query\\_size & intersection\\_size & precision & recall & term\\_id & source & term\\_name & effective\\_domain\\_size & source\\_order & parents\\\\\n",
       "  & <chr> & <lgl> & <dbl> & <int> & <int> & <int> & <dbl> & <dbl> & <chr> & <chr> & <chr> & <int> & <int> & <list>\\\\\n",
       "\\hline\n",
       "\t1 & query\\_1 & TRUE & 0.01935283 & 3 & 103 & 2 & 0.01941748 & 0.6666667 & GO:0008511 & GO:MF & sodium:potassium:chloride symporter activity & 18679 & 2226 & GO:0009674, GO:0015378, GO:0015379\\\\\n",
       "\t2 & query\\_1 & TRUE & 0.01935283 & 3 & 103 & 2 & 0.01941748 & 0.6666667 & GO:0009674 & GO:MF & potassium:sodium symporter activity          & 18679 & 2714 & GO:0015079, GO:0015370\\\\\n",
       "\\end{tabular}\n"
      ],
      "text/markdown": [
       "\n",
       "A data.frame: 2 × 14\n",
       "\n",
       "| <!--/--> | query &lt;chr&gt; | significant &lt;lgl&gt; | p_value &lt;dbl&gt; | term_size &lt;int&gt; | query_size &lt;int&gt; | intersection_size &lt;int&gt; | precision &lt;dbl&gt; | recall &lt;dbl&gt; | term_id &lt;chr&gt; | source &lt;chr&gt; | term_name &lt;chr&gt; | effective_domain_size &lt;int&gt; | source_order &lt;int&gt; | parents &lt;list&gt; |\n",
       "|---|---|---|---|---|---|---|---|---|---|---|---|---|---|---|\n",
       "| 1 | query_1 | TRUE | 0.01935283 | 3 | 103 | 2 | 0.01941748 | 0.6666667 | GO:0008511 | GO:MF | sodium:potassium:chloride symporter activity | 18679 | 2226 | GO:0009674, GO:0015378, GO:0015379 |\n",
       "| 2 | query_1 | TRUE | 0.01935283 | 3 | 103 | 2 | 0.01941748 | 0.6666667 | GO:0009674 | GO:MF | potassium:sodium symporter activity          | 18679 | 2714 | GO:0015079, GO:0015370 |\n",
       "\n"
      ],
      "text/plain": [
       "  query   significant p_value    term_size query_size intersection_size\n",
       "1 query_1 TRUE        0.01935283 3         103        2                \n",
       "2 query_1 TRUE        0.01935283 3         103        2                \n",
       "  precision  recall    term_id    source\n",
       "1 0.01941748 0.6666667 GO:0008511 GO:MF \n",
       "2 0.01941748 0.6666667 GO:0009674 GO:MF \n",
       "  term_name                                    effective_domain_size\n",
       "1 sodium:potassium:chloride symporter activity 18679                \n",
       "2 potassium:sodium symporter activity          18679                \n",
       "  source_order parents                           \n",
       "1 2226         GO:0009674, GO:0015378, GO:0015379\n",
       "2 2714         GO:0015079, GO:0015370            "
      ]
     },
     "metadata": {},
     "output_type": "display_data"
    }
   ],
   "source": [
    "gostres <- gost(query=deg$ensemblID, organism=\"hsapiens\", \n",
    "                correction_method=\"fdr\", significant=TRUE)\n",
    "gostres$result %>% head(2)"
   ]
  },
  {
   "cell_type": "code",
   "execution_count": 5,
   "metadata": {
    "execution": {
     "iopub.execute_input": "2021-07-14T22:01:21.687149Z",
     "iopub.status.busy": "2021-07-14T22:01:21.684155Z",
     "iopub.status.idle": "2021-07-14T22:01:21.706937Z",
     "shell.execute_reply": "2021-07-14T22:01:21.705600Z"
    }
   },
   "outputs": [],
   "source": [
    "gostres$result %>% \n",
    "    data.table::fwrite(file = \"DEGs_functional_enrichment.txt\", sep=\"\\t\")"
   ]
  },
  {
   "cell_type": "code",
   "execution_count": 6,
   "metadata": {
    "execution": {
     "iopub.execute_input": "2021-07-14T22:01:21.713132Z",
     "iopub.status.busy": "2021-07-14T22:01:21.711606Z",
     "iopub.status.idle": "2021-07-14T22:01:23.778493Z",
     "shell.execute_reply": "2021-07-14T22:01:23.777134Z"
    }
   },
   "outputs": [
    {
     "data": {
      "image/png": "[encoded data removed]",
      "text/plain": [
       "plot without title"
      ]
     },
     "metadata": {
      "image/png": {
       "height": 420,
       "width": 420
      }
     },
     "output_type": "display_data"
    }
   ],
   "source": [
    "p <- gostplot(gostres, capped = FALSE, interactive = FALSE)\n",
    "print(p)\n",
    "save_ggplots(\"DEGs_manhattan\", p, 9, 5)"
   ]
  },
  {
   "cell_type": "code",
   "execution_count": 7,
   "metadata": {
    "execution": {
     "iopub.execute_input": "2021-07-14T22:01:23.784905Z",
     "iopub.status.busy": "2021-07-14T22:01:23.783552Z",
     "iopub.status.idle": "2021-07-14T22:01:24.475447Z",
     "shell.execute_reply": "2021-07-14T22:01:24.472598Z"
    }
   },
   "outputs": [
    {
     "data": {
      "text/html": [
       "<table class=\"dataframe\">\n",
       "<caption>A data.frame: 2 × 14</caption>\n",
       "<thead>\n",
       "\t<tr><th></th><th scope=col>query</th><th scope=col>significant</th><th scope=col>p_value</th><th scope=col>term_size</th><th scope=col>query_size</th><th scope=col>intersection_size</th><th scope=col>precision</th><th scope=col>recall</th><th scope=col>term_id</th><th scope=col>source</th><th scope=col>term_name</th><th scope=col>effective_domain_size</th><th scope=col>source_order</th><th scope=col>parents</th></tr>\n",
       "\t<tr><th></th><th scope=col>&lt;chr&gt;</th><th scope=col>&lt;lgl&gt;</th><th scope=col>&lt;dbl&gt;</th><th scope=col>&lt;int&gt;</th><th scope=col>&lt;int&gt;</th><th scope=col>&lt;int&gt;</th><th scope=col>&lt;dbl&gt;</th><th scope=col>&lt;dbl&gt;</th><th scope=col>&lt;chr&gt;</th><th scope=col>&lt;chr&gt;</th><th scope=col>&lt;chr&gt;</th><th scope=col>&lt;int&gt;</th><th scope=col>&lt;int&gt;</th><th scope=col>&lt;list&gt;</th></tr>\n",
       "</thead>\n",
       "<tbody>\n",
       "\t<tr><th scope=row>1</th><td>query_1</td><td>TRUE</td><td>0.0344225</td><td>6</td><td>11</td><td>1</td><td>0.09090909</td><td>0.1666667</td><td>CORUM:15  </td><td>CORUM</td><td>NCOR complex     </td><td>3627</td><td>  10</td><td>CORUM:0000000</td></tr>\n",
       "\t<tr><th scope=row>2</th><td>query_1</td><td>TRUE</td><td>0.0344225</td><td>2</td><td>11</td><td>1</td><td>0.09090909</td><td>0.5000000</td><td>CORUM:5444</td><td>CORUM</td><td>CRKII-C3G complex</td><td>3627</td><td>1690</td><td>CORUM:0000000</td></tr>\n",
       "</tbody>\n",
       "</table>\n"
      ],
      "text/latex": [
       "A data.frame: 2 × 14\n",
       "\\begin{tabular}{r|llllllllllllll}\n",
       "  & query & significant & p\\_value & term\\_size & query\\_size & intersection\\_size & precision & recall & term\\_id & source & term\\_name & effective\\_domain\\_size & source\\_order & parents\\\\\n",
       "  & <chr> & <lgl> & <dbl> & <int> & <int> & <int> & <dbl> & <dbl> & <chr> & <chr> & <chr> & <int> & <int> & <list>\\\\\n",
       "\\hline\n",
       "\t1 & query\\_1 & TRUE & 0.0344225 & 6 & 11 & 1 & 0.09090909 & 0.1666667 & CORUM:15   & CORUM & NCOR complex      & 3627 &   10 & CORUM:0000000\\\\\n",
       "\t2 & query\\_1 & TRUE & 0.0344225 & 2 & 11 & 1 & 0.09090909 & 0.5000000 & CORUM:5444 & CORUM & CRKII-C3G complex & 3627 & 1690 & CORUM:0000000\\\\\n",
       "\\end{tabular}\n"
      ],
      "text/markdown": [
       "\n",
       "A data.frame: 2 × 14\n",
       "\n",
       "| <!--/--> | query &lt;chr&gt; | significant &lt;lgl&gt; | p_value &lt;dbl&gt; | term_size &lt;int&gt; | query_size &lt;int&gt; | intersection_size &lt;int&gt; | precision &lt;dbl&gt; | recall &lt;dbl&gt; | term_id &lt;chr&gt; | source &lt;chr&gt; | term_name &lt;chr&gt; | effective_domain_size &lt;int&gt; | source_order &lt;int&gt; | parents &lt;list&gt; |\n",
       "|---|---|---|---|---|---|---|---|---|---|---|---|---|---|---|\n",
       "| 1 | query_1 | TRUE | 0.0344225 | 6 | 11 | 1 | 0.09090909 | 0.1666667 | CORUM:15   | CORUM | NCOR complex      | 3627 |   10 | CORUM:0000000 |\n",
       "| 2 | query_1 | TRUE | 0.0344225 | 2 | 11 | 1 | 0.09090909 | 0.5000000 | CORUM:5444 | CORUM | CRKII-C3G complex | 3627 | 1690 | CORUM:0000000 |\n",
       "\n"
      ],
      "text/plain": [
       "  query   significant p_value   term_size query_size intersection_size\n",
       "1 query_1 TRUE        0.0344225 6         11         1                \n",
       "2 query_1 TRUE        0.0344225 2         11         1                \n",
       "  precision  recall    term_id    source term_name        \n",
       "1 0.09090909 0.1666667 CORUM:15   CORUM  NCOR complex     \n",
       "2 0.09090909 0.5000000 CORUM:5444 CORUM  CRKII-C3G complex\n",
       "  effective_domain_size source_order parents      \n",
       "1 3627                    10         CORUM:0000000\n",
       "2 3627                  1690         CORUM:0000000"
      ]
     },
     "metadata": {},
     "output_type": "display_data"
    }
   ],
   "source": [
    "deg_sz = deg %>% filter(logFC > 0)\n",
    "gostres <- gost(query=deg_sz$ensemblID, organism=\"hsapiens\", \n",
    "                correction_method=\"fdr\", significant=TRUE)\n",
    "gostres$result %>% head(2)"
   ]
  },
  {
   "cell_type": "code",
   "execution_count": 8,
   "metadata": {
    "execution": {
     "iopub.execute_input": "2021-07-14T22:01:24.485724Z",
     "iopub.status.busy": "2021-07-14T22:01:24.482753Z",
     "iopub.status.idle": "2021-07-14T22:01:24.509556Z",
     "shell.execute_reply": "2021-07-14T22:01:24.506807Z"
    }
   },
   "outputs": [],
   "source": [
    "gostres$result %>% \n",
    "    data.table::fwrite(file = \"upreg_DEGs_functional_enrichment.txt\", sep=\"\\t\")"
   ]
  },
  {
   "cell_type": "code",
   "execution_count": 9,
   "metadata": {
    "execution": {
     "iopub.execute_input": "2021-07-14T22:01:24.519560Z",
     "iopub.status.busy": "2021-07-14T22:01:24.516624Z",
     "iopub.status.idle": "2021-07-14T22:01:26.370057Z",
     "shell.execute_reply": "2021-07-14T22:01:26.368493Z"
    }
   },
   "outputs": [
    {
     "data": {
      "image/png": "[encoded data removed]",
      "text/plain": [
       "plot without title"
      ]
     },
     "metadata": {
      "image/png": {
       "height": 420,
       "width": 420
      }
     },
     "output_type": "display_data"
    }
   ],
   "source": [
    "p <- gostplot(gostres, capped = FALSE, interactive = FALSE)\n",
    "print(p)\n",
    "save_ggplots(\"upreg_DEGs_manhattan\", p, 9, 5)"
   ]
  },
  {
   "cell_type": "code",
   "execution_count": 10,
   "metadata": {
    "execution": {
     "iopub.execute_input": "2021-07-14T22:01:26.376090Z",
     "iopub.status.busy": "2021-07-14T22:01:26.374785Z",
     "iopub.status.idle": "2021-07-14T22:01:27.101303Z",
     "shell.execute_reply": "2021-07-14T22:01:27.098322Z"
    }
   },
   "outputs": [
    {
     "data": {
      "text/html": [
       "<table class=\"dataframe\">\n",
       "<caption>A data.frame: 2 × 14</caption>\n",
       "<thead>\n",
       "\t<tr><th></th><th scope=col>query</th><th scope=col>significant</th><th scope=col>p_value</th><th scope=col>term_size</th><th scope=col>query_size</th><th scope=col>intersection_size</th><th scope=col>precision</th><th scope=col>recall</th><th scope=col>term_id</th><th scope=col>source</th><th scope=col>term_name</th><th scope=col>effective_domain_size</th><th scope=col>source_order</th><th scope=col>parents</th></tr>\n",
       "\t<tr><th></th><th scope=col>&lt;chr&gt;</th><th scope=col>&lt;lgl&gt;</th><th scope=col>&lt;dbl&gt;</th><th scope=col>&lt;int&gt;</th><th scope=col>&lt;int&gt;</th><th scope=col>&lt;int&gt;</th><th scope=col>&lt;dbl&gt;</th><th scope=col>&lt;dbl&gt;</th><th scope=col>&lt;chr&gt;</th><th scope=col>&lt;chr&gt;</th><th scope=col>&lt;chr&gt;</th><th scope=col>&lt;int&gt;</th><th scope=col>&lt;int&gt;</th><th scope=col>&lt;list&gt;</th></tr>\n",
       "</thead>\n",
       "<tbody>\n",
       "\t<tr><th scope=row>1</th><td>query_1</td><td>TRUE</td><td>0.009397956</td><td>7</td><td>12</td><td>2</td><td>0.16666667</td><td>0.2857143</td><td>CORUM:49  </td><td>CORUM</td><td>DNMT3B complex      </td><td>3627</td><td> 21</td><td>CORUM:0000000</td></tr>\n",
       "\t<tr><th scope=row>2</th><td>query_1</td><td>TRUE</td><td>0.019821006</td><td>2</td><td>12</td><td>1</td><td>0.08333333</td><td>0.5000000</td><td>CORUM:1458</td><td>CORUM</td><td>SNF2h-HDAC12 complex</td><td>3627</td><td>756</td><td>CORUM:0000000</td></tr>\n",
       "</tbody>\n",
       "</table>\n"
      ],
      "text/latex": [
       "A data.frame: 2 × 14\n",
       "\\begin{tabular}{r|llllllllllllll}\n",
       "  & query & significant & p\\_value & term\\_size & query\\_size & intersection\\_size & precision & recall & term\\_id & source & term\\_name & effective\\_domain\\_size & source\\_order & parents\\\\\n",
       "  & <chr> & <lgl> & <dbl> & <int> & <int> & <int> & <dbl> & <dbl> & <chr> & <chr> & <chr> & <int> & <int> & <list>\\\\\n",
       "\\hline\n",
       "\t1 & query\\_1 & TRUE & 0.009397956 & 7 & 12 & 2 & 0.16666667 & 0.2857143 & CORUM:49   & CORUM & DNMT3B complex       & 3627 &  21 & CORUM:0000000\\\\\n",
       "\t2 & query\\_1 & TRUE & 0.019821006 & 2 & 12 & 1 & 0.08333333 & 0.5000000 & CORUM:1458 & CORUM & SNF2h-HDAC12 complex & 3627 & 756 & CORUM:0000000\\\\\n",
       "\\end{tabular}\n"
      ],
      "text/markdown": [
       "\n",
       "A data.frame: 2 × 14\n",
       "\n",
       "| <!--/--> | query &lt;chr&gt; | significant &lt;lgl&gt; | p_value &lt;dbl&gt; | term_size &lt;int&gt; | query_size &lt;int&gt; | intersection_size &lt;int&gt; | precision &lt;dbl&gt; | recall &lt;dbl&gt; | term_id &lt;chr&gt; | source &lt;chr&gt; | term_name &lt;chr&gt; | effective_domain_size &lt;int&gt; | source_order &lt;int&gt; | parents &lt;list&gt; |\n",
       "|---|---|---|---|---|---|---|---|---|---|---|---|---|---|---|\n",
       "| 1 | query_1 | TRUE | 0.009397956 | 7 | 12 | 2 | 0.16666667 | 0.2857143 | CORUM:49   | CORUM | DNMT3B complex       | 3627 |  21 | CORUM:0000000 |\n",
       "| 2 | query_1 | TRUE | 0.019821006 | 2 | 12 | 1 | 0.08333333 | 0.5000000 | CORUM:1458 | CORUM | SNF2h-HDAC12 complex | 3627 | 756 | CORUM:0000000 |\n",
       "\n"
      ],
      "text/plain": [
       "  query   significant p_value     term_size query_size intersection_size\n",
       "1 query_1 TRUE        0.009397956 7         12         2                \n",
       "2 query_1 TRUE        0.019821006 2         12         1                \n",
       "  precision  recall    term_id    source term_name           \n",
       "1 0.16666667 0.2857143 CORUM:49   CORUM  DNMT3B complex      \n",
       "2 0.08333333 0.5000000 CORUM:1458 CORUM  SNF2h-HDAC12 complex\n",
       "  effective_domain_size source_order parents      \n",
       "1 3627                   21          CORUM:0000000\n",
       "2 3627                  756          CORUM:0000000"
      ]
     },
     "metadata": {},
     "output_type": "display_data"
    }
   ],
   "source": [
    "deg_ctl = deg %>% filter(logFC < 0)\n",
    "gostres <- gost(query=deg_ctl$ensemblID, organism=\"hsapiens\", \n",
    "                correction_method=\"fdr\", significant=TRUE) \n",
    "gostres$result %>% head(2)"
   ]
  },
  {
   "cell_type": "code",
   "execution_count": 11,
   "metadata": {
    "execution": {
     "iopub.execute_input": "2021-07-14T22:01:27.111136Z",
     "iopub.status.busy": "2021-07-14T22:01:27.108156Z",
     "iopub.status.idle": "2021-07-14T22:01:27.134521Z",
     "shell.execute_reply": "2021-07-14T22:01:27.131765Z"
    }
   },
   "outputs": [],
   "source": [
    "gostres$result %>% \n",
    "    data.table::fwrite(file = \"downreg_DEGs_functional_enrichment.txt\", sep=\"\\t\")"
   ]
  },
  {
   "cell_type": "code",
   "execution_count": 12,
   "metadata": {
    "execution": {
     "iopub.execute_input": "2021-07-14T22:01:27.144444Z",
     "iopub.status.busy": "2021-07-14T22:01:27.141481Z",
     "iopub.status.idle": "2021-07-14T22:01:29.026252Z",
     "shell.execute_reply": "2021-07-14T22:01:29.027313Z"
    }
   },
   "outputs": [
    {
     "data": {
      "image/png": "[encoded data removed]",
      "text/plain": [
       "plot without title"
      ]
     },
     "metadata": {
      "image/png": {
       "height": 420,
       "width": 420
      }
     },
     "output_type": "display_data"
    }
   ],
   "source": [
    "p <- gostplot(gostres, capped = FALSE, interactive = FALSE)\n",
    "print(p)\n",
    "save_ggplots(\"downreg_DEGs_manhattan\", p, 9, 5)"
   ]
  },
  {
   "cell_type": "markdown",
   "metadata": {},
   "source": [
    "## Reproducibility Information"
   ]
  },
  {
   "cell_type": "code",
   "execution_count": 13,
   "metadata": {
    "execution": {
     "iopub.execute_input": "2021-07-14T22:01:29.033608Z",
     "iopub.status.busy": "2021-07-14T22:01:29.032279Z",
     "iopub.status.idle": "2021-07-14T22:01:29.214961Z",
     "shell.execute_reply": "2021-07-14T22:01:29.213442Z"
    }
   },
   "outputs": [
    {
     "data": {
      "text/plain": [
       "[1] \"2021-07-14 18:01:29 EDT\""
      ]
     },
     "metadata": {},
     "output_type": "display_data"
    },
    {
     "data": {
      "text/plain": [
       "   user  system elapsed \n",
       "  8.496   0.339  10.978 "
      ]
     },
     "metadata": {},
     "output_type": "display_data"
    },
    {
     "data": {
      "text/plain": [
       "─ Session info ───────────────────────────────────────────────────────────────────────────────────────────────────────\n",
       " setting  value                       \n",
       " version  R version 4.0.3 (2020-10-10)\n",
       " os       Arch Linux                  \n",
       " system   x86_64, linux-gnu           \n",
       " ui       X11                         \n",
       " language (EN)                        \n",
       " collate  en_US.UTF-8                 \n",
       " ctype    en_US.UTF-8                 \n",
       " tz       America/New_York            \n",
       " date     2021-07-14                  \n",
       "\n",
       "─ Packages ───────────────────────────────────────────────────────────────────────────────────────────────────────────\n",
       " package     * version  date       lib source        \n",
       " assertthat    0.2.1    2019-03-21 [1] CRAN (R 4.0.2)\n",
       " backports     1.2.1    2020-12-09 [1] CRAN (R 4.0.2)\n",
       " base64enc     0.1-3    2015-07-28 [1] CRAN (R 4.0.2)\n",
       " bitops        1.0-7    2021-04-24 [1] CRAN (R 4.0.3)\n",
       " broom         0.7.8    2021-06-24 [1] CRAN (R 4.0.3)\n",
       " Cairo         1.5-12.2 2020-07-07 [1] CRAN (R 4.0.2)\n",
       " cellranger    1.1.0    2016-07-27 [1] CRAN (R 4.0.2)\n",
       " cli           3.0.0    2021-06-30 [1] CRAN (R 4.0.3)\n",
       " colorspace    2.0-2    2021-06-24 [1] CRAN (R 4.0.3)\n",
       " crayon        1.4.1    2021-02-08 [1] CRAN (R 4.0.3)\n",
       " data.table    1.14.0   2021-02-21 [1] CRAN (R 4.0.3)\n",
       " DBI           1.1.1    2021-01-15 [1] CRAN (R 4.0.2)\n",
       " dbplyr        2.1.1    2021-04-06 [1] CRAN (R 4.0.3)\n",
       " digest        0.6.27   2020-10-24 [1] CRAN (R 4.0.2)\n",
       " dplyr       * 1.0.7    2021-06-18 [1] CRAN (R 4.0.3)\n",
       " ellipsis      0.3.2    2021-04-29 [1] CRAN (R 4.0.3)\n",
       " evaluate      0.14     2019-05-28 [1] CRAN (R 4.0.2)\n",
       " fansi         0.5.0    2021-05-25 [1] CRAN (R 4.0.3)\n",
       " farver        2.1.0    2021-02-28 [1] CRAN (R 4.0.3)\n",
       " forcats     * 0.5.1    2021-01-27 [1] CRAN (R 4.0.2)\n",
       " fs            1.5.0    2020-07-31 [1] CRAN (R 4.0.2)\n",
       " generics      0.1.0    2020-10-31 [1] CRAN (R 4.0.2)\n",
       " ggplot2     * 3.3.5    2021-06-25 [1] CRAN (R 4.0.3)\n",
       " glue          1.4.2    2020-08-27 [1] CRAN (R 4.0.2)\n",
       " gprofiler2  * 0.2.0    2020-08-27 [1] CRAN (R 4.0.3)\n",
       " gtable        0.3.0    2019-03-25 [1] CRAN (R 4.0.2)\n",
       " haven         2.4.1    2021-04-23 [1] CRAN (R 4.0.3)\n",
       " hms           1.1.0    2021-05-17 [1] CRAN (R 4.0.3)\n",
       " htmltools     0.5.1.1  2021-01-22 [1] CRAN (R 4.0.2)\n",
       " htmlwidgets   1.5.3    2020-12-10 [1] CRAN (R 4.0.2)\n",
       " httr          1.4.2    2020-07-20 [1] CRAN (R 4.0.2)\n",
       " IRdisplay     1.0      2021-01-20 [1] CRAN (R 4.0.2)\n",
       " IRkernel      1.2      2021-05-11 [1] CRAN (R 4.0.3)\n",
       " jsonlite      1.7.2    2020-12-09 [1] CRAN (R 4.0.2)\n",
       " labeling      0.4.2    2020-10-20 [1] CRAN (R 4.0.2)\n",
       " lazyeval      0.2.2    2019-03-15 [1] CRAN (R 4.0.2)\n",
       " lifecycle     1.0.0    2021-02-15 [1] CRAN (R 4.0.3)\n",
       " lubridate     1.7.10   2021-02-26 [1] CRAN (R 4.0.3)\n",
       " magrittr      2.0.1    2020-11-17 [1] CRAN (R 4.0.2)\n",
       " modelr        0.1.8    2020-05-19 [1] CRAN (R 4.0.2)\n",
       " munsell       0.5.0    2018-06-12 [1] CRAN (R 4.0.2)\n",
       " pbdZMQ        0.3-5    2021-02-10 [1] CRAN (R 4.0.3)\n",
       " pillar        1.6.1    2021-05-16 [1] CRAN (R 4.0.3)\n",
       " pkgconfig     2.0.3    2019-09-22 [1] CRAN (R 4.0.2)\n",
       " plotly        4.9.4.1  2021-06-18 [1] CRAN (R 4.0.3)\n",
       " purrr       * 0.3.4    2020-04-17 [1] CRAN (R 4.0.2)\n",
       " R6            2.5.0    2020-10-28 [1] CRAN (R 4.0.2)\n",
       " Rcpp          1.0.7    2021-07-07 [1] CRAN (R 4.0.3)\n",
       " RCurl         1.98-1.3 2021-03-16 [1] CRAN (R 4.0.3)\n",
       " readr       * 1.4.0    2020-10-05 [1] CRAN (R 4.0.2)\n",
       " readxl        1.3.1    2019-03-13 [1] CRAN (R 4.0.2)\n",
       " repr          1.1.3    2021-01-21 [1] CRAN (R 4.0.2)\n",
       " reprex        2.0.0    2021-04-02 [1] CRAN (R 4.0.3)\n",
       " rlang         0.4.11   2021-04-30 [1] CRAN (R 4.0.3)\n",
       " rstudioapi    0.13     2020-11-12 [1] CRAN (R 4.0.2)\n",
       " rvest         1.0.0    2021-03-09 [1] CRAN (R 4.0.3)\n",
       " scales        1.1.1    2020-05-11 [1] CRAN (R 4.0.2)\n",
       " sessioninfo   1.1.1    2018-11-05 [1] CRAN (R 4.0.2)\n",
       " stringi       1.6.2    2021-05-17 [1] CRAN (R 4.0.3)\n",
       " stringr     * 1.4.0    2019-02-10 [1] CRAN (R 4.0.2)\n",
       " svglite       2.0.0    2021-02-20 [1] CRAN (R 4.0.3)\n",
       " systemfonts   1.0.2    2021-05-11 [1] CRAN (R 4.0.3)\n",
       " tibble      * 3.1.2    2021-05-16 [1] CRAN (R 4.0.3)\n",
       " tidyr       * 1.1.3    2021-03-03 [1] CRAN (R 4.0.3)\n",
       " tidyselect    1.1.1    2021-04-30 [1] CRAN (R 4.0.3)\n",
       " tidyverse   * 1.3.1    2021-04-15 [1] CRAN (R 4.0.3)\n",
       " utf8          1.2.1    2021-03-12 [1] CRAN (R 4.0.3)\n",
       " uuid          0.1-4    2020-02-26 [1] CRAN (R 4.0.2)\n",
       " vctrs         0.3.8    2021-04-29 [1] CRAN (R 4.0.3)\n",
       " viridisLite   0.4.0    2021-04-13 [1] CRAN (R 4.0.3)\n",
       " withr         2.4.2    2021-04-18 [1] CRAN (R 4.0.3)\n",
       " xml2          1.3.2    2020-04-23 [1] CRAN (R 4.0.2)\n",
       "\n",
       "[1] /home/jbenja13/R/x86_64-pc-linux-gnu-library/4.0\n",
       "[2] /usr/lib/R/library"
      ]
     },
     "metadata": {},
     "output_type": "display_data"
    }
   ],
   "source": [
    "Sys.time()\n",
    "proc.time()\n",
    "options(width = 120)\n",
    "sessioninfo::session_info()"
   ]
  }
 ],
 "metadata": {
  "kernelspec": {
   "display_name": "R",
   "language": "R",
   "name": "ir"
  },
  "language_info": {
   "codemirror_mode": "r",
   "file_extension": ".r",
   "mimetype": "text/x-r-source",
   "name": "R",
   "pygments_lexer": "r",
   "version": "4.0.3"
  }
 },
 "nbformat": 4,
 "nbformat_minor": 4
}
