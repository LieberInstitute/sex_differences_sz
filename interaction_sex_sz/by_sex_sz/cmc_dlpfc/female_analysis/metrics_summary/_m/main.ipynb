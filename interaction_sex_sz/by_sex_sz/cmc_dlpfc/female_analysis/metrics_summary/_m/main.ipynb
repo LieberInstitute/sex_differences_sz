{
 "cells": [
  {
   "cell_type": "markdown",
   "metadata": {},
   "source": [
    "# Extract unique female specific SZ-associated genes"
   ]
  },
  {
   "cell_type": "code",
   "execution_count": 1,
   "metadata": {},
   "outputs": [],
   "source": [
    "import functools\n",
    "import numpy as np\n",
    "import pandas as pd\n",
    "from scipy.stats import mannwhitneyu\n",
    "from statsmodels.stats.multitest import fdrcorrection"
   ]
  },
  {
   "cell_type": "code",
   "execution_count": 2,
   "metadata": {},
   "outputs": [],
   "source": [
    "@functools.lru_cache()\n",
    "def get_res_df():\n",
    "    return pd.read_csv('../../../../../interaction_sex_sz/cmc_dlpfc/_m/genes/residualized_expression.tsv', sep='\\t').T\n",
    "\n",
    "\n",
    "@functools.lru_cache()\n",
    "def get_pheno_df():\n",
    "    return pd.read_csv('/ceph/users/jbenja13/projects/sex_sz_ria/input/commonMind/phenotypes/combine_files/_m/CMC_phenotypes_all.csv').set_index(\"RNAseq:Sample_RNA_ID\")\n",
    "\n",
    "\n",
    "@functools.lru_cache()\n",
    "def get_res_pheno_df():\n",
    "    return pd.merge(get_pheno_df(), get_res_df(), left_index=True, right_index=True)\n"
   ]
  },
  {
   "cell_type": "code",
   "execution_count": 3,
   "metadata": {},
   "outputs": [],
   "source": [
    "def get_de(feature):\n",
    "    f = pd.read_csv('../../../female_analysis/_m/%s/diffExpr_szVctl_full.txt' % feature, sep='\\t')\\\n",
    "          .rename(columns={'gene_id': 'gencodeID'})\n",
    "    f['ensemblID'] = f.gencodeID.str.replace(\"\\\\..*\", \"\")\n",
    "    f.set_index('ensemblID', inplace=True)\n",
    "    m = pd.read_csv('../../../male_analysis/_m/%s/diffExpr_szVctl_full.txt' % feature, sep='\\t')\\\n",
    "          .rename(columns={'gene_id': 'gencodeID'})\n",
    "    m['ensemblID'] = m.gencodeID.str.replace(\"\\\\..*\", \"\")\n",
    "    m.set_index('ensemblID', inplace=True)\n",
    "    a = pd.read_csv('/ceph/projects/v3_phase3_paper/inputs/cmc/_m/CMC_MSSM-Penn-Pitt_DLPFC_mRNA_IlluminaHiSeq2500_gene-adjustedSVA-differentialExpression-includeAncestry-DxSCZ-DE.tsv', sep='\\t')\\\n",
    "          .rename(columns={\"MAPPED_genes\": 'gene_name'}).set_index('genes')\n",
    "    return f, m, a\n",
    "\n",
    "\n",
    "def get_unique(x, y, thres=0.05):\n",
    "    return x.merge(pd.DataFrame(index = list(set(x[(x['adj.P.Val'] <= thres)].index) - \n",
    "                                             set(y[(y['adj.P.Val'] <= thres)].index))), \n",
    "                   left_index=True, right_index=True)\n",
    "\n",
    "def subset_sz_male():\n",
    "    df = get_res_pheno_df()\n",
    "    ctl = df[(df['Dx'] == 'Control') & (df['Sex'] == 'XY')].copy()\n",
    "    sz = df[(df['Dx'] == 'SCZ') & (df['Sex'] == 'XY')].copy()\n",
    "    return ctl, sz\n",
    "\n",
    "\n",
    "def add_pvals_adjustPval(df):\n",
    "    ctl, sz = subset_sz_male()\n",
    "    m_pval = []\n",
    "    for gene_id in df.Feature:\n",
    "        stat, pval = mannwhitneyu(ctl[gene_id], sz[gene_id])\n",
    "        m_pval.append(pval)\n",
    "    fdr_m = fdrcorrection(m_pval)\n",
    "    return pd.concat([df.set_index('Feature'), \n",
    "                      pd.DataFrame({'Male_Pval': m_pval, \n",
    "                                    'Male_FDR': fdr_m[1]}, \n",
    "                                   index=df.Feature)], axis=1)"
   ]
  },
  {
   "cell_type": "markdown",
   "metadata": {},
   "source": [
    "## Genes"
   ]
  },
  {
   "cell_type": "code",
   "execution_count": 4,
   "metadata": {},
   "outputs": [
    {
     "data": {
      "text/plain": [
       "(583, 10)"
      ]
     },
     "execution_count": 4,
     "metadata": {},
     "output_type": "execute_result"
    }
   ],
   "source": [
    "f, m, a = get_de('genes')\n",
    "f['Feature'] = f.gencodeID\n",
    "f['ensemblID'] = f.index\n",
    "#genes = get_unique(get_unique(f, m), a)\n",
    "genes = get_unique(f, m).rename(columns={'chromosome_name': 'Chrom', 'hgnc_symbol': 'Symbol'})\n",
    "genes = genes[['Feature', 'gencodeID', 'Symbol', 'ensemblID', \n",
    "               'Chrom', 'logFC', 't', 'adj.P.Val']].sort_values('adj.P.Val')\n",
    "genes.Chrom = 'chr'+genes.Chrom\n",
    "genes = add_pvals_adjustPval(genes)\n",
    "genes = genes[~(genes['Male_Pval'] <= 0.05)] ## Stringents\n",
    "genes['Type'] = 'gene'\n",
    "genes.shape"
   ]
  },
  {
   "cell_type": "code",
   "execution_count": 5,
   "metadata": {},
   "outputs": [
    {
     "data": {
      "text/html": [
       "<div>\n",
       "<style scoped>\n",
       "    .dataframe tbody tr th:only-of-type {\n",
       "        vertical-align: middle;\n",
       "    }\n",
       "\n",
       "    .dataframe tbody tr th {\n",
       "        vertical-align: top;\n",
       "    }\n",
       "\n",
       "    .dataframe thead th {\n",
       "        text-align: right;\n",
       "    }\n",
       "</style>\n",
       "<table border=\"1\" class=\"dataframe\">\n",
       "  <thead>\n",
       "    <tr style=\"text-align: right;\">\n",
       "      <th></th>\n",
       "      <th>gencodeID</th>\n",
       "      <th>Symbol</th>\n",
       "      <th>ensemblID</th>\n",
       "      <th>Chrom</th>\n",
       "      <th>logFC</th>\n",
       "      <th>t</th>\n",
       "      <th>adj.P.Val</th>\n",
       "      <th>Male_Pval</th>\n",
       "      <th>Male_FDR</th>\n",
       "      <th>Type</th>\n",
       "    </tr>\n",
       "    <tr>\n",
       "      <th>Feature</th>\n",
       "      <th></th>\n",
       "      <th></th>\n",
       "      <th></th>\n",
       "      <th></th>\n",
       "      <th></th>\n",
       "      <th></th>\n",
       "      <th></th>\n",
       "      <th></th>\n",
       "      <th></th>\n",
       "      <th></th>\n",
       "    </tr>\n",
       "  </thead>\n",
       "  <tbody>\n",
       "    <tr>\n",
       "      <th>ENSG00000153132.12</th>\n",
       "      <td>ENSG00000153132.12</td>\n",
       "      <td>CLGN</td>\n",
       "      <td>ENSG00000153132</td>\n",
       "      <td>chr4</td>\n",
       "      <td>0.389937</td>\n",
       "      <td>5.559139</td>\n",
       "      <td>0.000123</td>\n",
       "      <td>0.283020</td>\n",
       "      <td>0.313711</td>\n",
       "      <td>gene</td>\n",
       "    </tr>\n",
       "    <tr>\n",
       "      <th>ENSG00000179083.6</th>\n",
       "      <td>ENSG00000179083.6</td>\n",
       "      <td>FAM133A</td>\n",
       "      <td>ENSG00000179083</td>\n",
       "      <td>chrX</td>\n",
       "      <td>0.261268</td>\n",
       "      <td>5.004488</td>\n",
       "      <td>0.000535</td>\n",
       "      <td>0.272019</td>\n",
       "      <td>0.302973</td>\n",
       "      <td>gene</td>\n",
       "    </tr>\n",
       "    <tr>\n",
       "      <th>ENSG00000165733.7</th>\n",
       "      <td>ENSG00000165733.7</td>\n",
       "      <td>BMS1</td>\n",
       "      <td>ENSG00000165733</td>\n",
       "      <td>chr10</td>\n",
       "      <td>0.150918</td>\n",
       "      <td>4.986552</td>\n",
       "      <td>0.000535</td>\n",
       "      <td>0.169787</td>\n",
       "      <td>0.205428</td>\n",
       "      <td>gene</td>\n",
       "    </tr>\n",
       "    <tr>\n",
       "      <th>ENSG00000183023.18</th>\n",
       "      <td>ENSG00000183023.18</td>\n",
       "      <td>SLC8A1</td>\n",
       "      <td>ENSG00000183023</td>\n",
       "      <td>chr2</td>\n",
       "      <td>0.245819</td>\n",
       "      <td>4.925477</td>\n",
       "      <td>0.000632</td>\n",
       "      <td>0.082759</td>\n",
       "      <td>0.108963</td>\n",
       "      <td>gene</td>\n",
       "    </tr>\n",
       "    <tr>\n",
       "      <th>ENSG00000236268.5</th>\n",
       "      <td>ENSG00000236268.5</td>\n",
       "      <td>LINC01361</td>\n",
       "      <td>ENSG00000236268</td>\n",
       "      <td>chr1</td>\n",
       "      <td>0.404532</td>\n",
       "      <td>4.865744</td>\n",
       "      <td>0.000700</td>\n",
       "      <td>0.110632</td>\n",
       "      <td>0.140404</td>\n",
       "      <td>gene</td>\n",
       "    </tr>\n",
       "  </tbody>\n",
       "</table>\n",
       "</div>"
      ],
      "text/plain": [
       "                             gencodeID     Symbol        ensemblID  Chrom  \\\n",
       "Feature                                                                     \n",
       "ENSG00000153132.12  ENSG00000153132.12       CLGN  ENSG00000153132   chr4   \n",
       "ENSG00000179083.6    ENSG00000179083.6    FAM133A  ENSG00000179083   chrX   \n",
       "ENSG00000165733.7    ENSG00000165733.7       BMS1  ENSG00000165733  chr10   \n",
       "ENSG00000183023.18  ENSG00000183023.18     SLC8A1  ENSG00000183023   chr2   \n",
       "ENSG00000236268.5    ENSG00000236268.5  LINC01361  ENSG00000236268   chr1   \n",
       "\n",
       "                       logFC         t  adj.P.Val  Male_Pval  Male_FDR  Type  \n",
       "Feature                                                                       \n",
       "ENSG00000153132.12  0.389937  5.559139   0.000123   0.283020  0.313711  gene  \n",
       "ENSG00000179083.6   0.261268  5.004488   0.000535   0.272019  0.302973  gene  \n",
       "ENSG00000165733.7   0.150918  4.986552   0.000535   0.169787  0.205428  gene  \n",
       "ENSG00000183023.18  0.245819  4.925477   0.000632   0.082759  0.108963  gene  \n",
       "ENSG00000236268.5   0.404532  4.865744   0.000700   0.110632  0.140404  gene  "
      ]
     },
     "execution_count": 5,
     "metadata": {},
     "output_type": "execute_result"
    }
   ],
   "source": [
    "genes[(genes['t']>0)].head(5)"
   ]
  },
  {
   "cell_type": "markdown",
   "metadata": {},
   "source": [
    "## DE summary"
   ]
  },
  {
   "cell_type": "markdown",
   "metadata": {},
   "source": [
    "### DE (feature)"
   ]
  },
  {
   "cell_type": "code",
   "execution_count": 6,
   "metadata": {},
   "outputs": [
    {
     "name": "stdout",
     "output_type": "stream",
     "text": [
      "\n",
      "Gene:\t\t583\n"
     ]
    }
   ],
   "source": [
    "gg = len(set(genes['gencodeID']))\n",
    "\n",
    "print(\"\\nGene:\\t\\t%d\" % (gg)) "
   ]
  },
  {
   "cell_type": "code",
   "execution_count": 7,
   "metadata": {},
   "outputs": [],
   "source": [
    "genes.to_csv('female_specific_DE_genes.txt', sep='\\t', index=True, header=True)"
   ]
  },
  {
   "cell_type": "markdown",
   "metadata": {},
   "source": [
    "## Number of DEGs on allosomes"
   ]
  },
  {
   "cell_type": "code",
   "execution_count": 8,
   "metadata": {},
   "outputs": [
    {
     "data": {
      "text/plain": [
       "Type  Chrom\n",
       "gene  chrX     21\n",
       "dtype: int64"
      ]
     },
     "execution_count": 8,
     "metadata": {},
     "output_type": "execute_result"
    }
   ],
   "source": [
    "genes[(genes['Chrom'].isin(['chrX', 'chrY']))].groupby(['Type', 'Chrom']).size()"
   ]
  },
  {
   "cell_type": "code",
   "execution_count": null,
   "metadata": {},
   "outputs": [],
   "source": []
  }
 ],
 "metadata": {
  "kernelspec": {
   "display_name": "Python 3",
   "language": "python",
   "name": "python3"
  },
  "language_info": {
   "codemirror_mode": {
    "name": "ipython",
    "version": 3
   },
   "file_extension": ".py",
   "mimetype": "text/x-python",
   "name": "python",
   "nbconvert_exporter": "python",
   "pygments_lexer": "ipython3",
   "version": "3.8.6"
  }
 },
 "nbformat": 4,
 "nbformat_minor": 4
}
