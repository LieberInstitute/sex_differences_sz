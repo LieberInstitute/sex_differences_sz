{
 "cells": [
  {
   "cell_type": "markdown",
   "metadata": {},
   "source": [
    "# Extract unique female specific SZ-associated genes"
   ]
  },
  {
   "cell_type": "code",
   "execution_count": 1,
   "metadata": {},
   "outputs": [],
   "source": [
    "import functools\n",
    "import numpy as np\n",
    "import pandas as pd\n",
    "from scipy.stats import mannwhitneyu\n",
    "from statsmodels.stats.multitest import fdrcorrection"
   ]
  },
  {
   "cell_type": "code",
   "execution_count": 2,
   "metadata": {},
   "outputs": [],
   "source": [
    "@functools.lru_cache()\n",
    "def get_res_df():\n",
    "    return pd.read_csv('../../../../../interaction_sex_sz/cmc_dlpfc/_m/genes/residualized_expression.tsv', sep='\\t').T\n",
    "\n",
    "\n",
    "@functools.lru_cache()\n",
    "def get_pheno_df():\n",
    "    return pd.read_csv('/ceph/users/jbenja13/projects/sex_sz_ria/input/commonMind/phenotypes/combine_files/_m/CMC_phenotypes_all.csv').set_index(\"RNAseq:Sample_RNA_ID\")\n",
    "\n",
    "\n",
    "@functools.lru_cache()\n",
    "def get_res_pheno_df():\n",
    "    return pd.merge(get_pheno_df(), get_res_df(), left_index=True, right_index=True)\n"
   ]
  },
  {
   "cell_type": "code",
   "execution_count": 3,
   "metadata": {},
   "outputs": [],
   "source": [
    "def get_de(feature):\n",
    "    f = pd.read_csv('../../../female_analysis/_m/%s/diffExpr_szVctl_full.txt' % feature, sep='\\t')\\\n",
    "          .rename(columns={'gene_id': 'gencodeID'})\n",
    "    f['ensemblID'] = f.gencodeID.str.replace(\"\\\\..*\", \"\")\n",
    "    f.set_index('ensemblID', inplace=True)\n",
    "    m = pd.read_csv('../../../male_analysis/_m/%s/diffExpr_szVctl_full.txt' % feature, sep='\\t')\\\n",
    "          .rename(columns={'gene_id': 'gencodeID'})\n",
    "    m['ensemblID'] = m.gencodeID.str.replace(\"\\\\..*\", \"\")\n",
    "    m.set_index('ensemblID', inplace=True)\n",
    "    a = pd.read_csv('/ceph/projects/v3_phase3_paper/inputs/cmc/_m/CMC_MSSM-Penn-Pitt_DLPFC_mRNA_IlluminaHiSeq2500_gene-adjustedSVA-differentialExpression-includeAncestry-DxSCZ-DE.tsv', sep='\\t')\\\n",
    "          .rename(columns={\"MAPPED_genes\": 'gene_name'}).set_index('genes')\n",
    "    return f, m, a\n",
    "\n",
    "\n",
    "def get_unique(x, y, thres=0.05):\n",
    "    return x.merge(pd.DataFrame(index = list(set(x[(x['adj.P.Val'] <= thres)].index) - \n",
    "                                             set(y[(y['adj.P.Val'] <= thres)].index))), \n",
    "                   left_index=True, right_index=True)\n",
    "\n",
    "def subset_sz_female():\n",
    "    df = get_res_pheno_df()\n",
    "    ctl = df[(df['Dx'] == 'Control') & (df['Sex'] == 'XX')].copy()\n",
    "    sz = df[(df['Dx'] == 'SCZ') & (df['Sex'] == 'XX')].copy()\n",
    "    return ctl, sz\n",
    "\n",
    "\n",
    "def add_pvals_adjustPval(df):\n",
    "    ctl, sz = subset_sz_female()\n",
    "    f_pval = []\n",
    "    for gene_id in df.Feature:\n",
    "        stat, pval = mannwhitneyu(ctl[gene_id], sz[gene_id])\n",
    "        f_pval.append(pval)\n",
    "    fdr_f = fdrcorrection(f_pval)\n",
    "    return pd.concat([df.set_index('Feature'), \n",
    "                      pd.DataFrame({'Female_Pval': f_pval, \n",
    "                                    'Female_FDR': fdr_f[1]}, \n",
    "                                   index=df.Feature)], axis=1)"
   ]
  },
  {
   "cell_type": "markdown",
   "metadata": {},
   "source": [
    "## Genes"
   ]
  },
  {
   "cell_type": "code",
   "execution_count": 4,
   "metadata": {},
   "outputs": [
    {
     "data": {
      "text/plain": [
       "(495, 8)"
      ]
     },
     "execution_count": 4,
     "metadata": {},
     "output_type": "execute_result"
    }
   ],
   "source": [
    "f, m, a = get_de('genes')\n",
    "m['Feature'] = m.gencodeID\n",
    "m['ensemblID'] = m.index\n",
    "#genes = get_unique(get_unique(f, m), a)\n",
    "genes = get_unique(m, f).rename(columns={'chromosome_name': 'Chrom', \n",
    "                                         'hgnc_symbol': 'Symbol'})\n",
    "genes = genes[['Feature', 'gencodeID', 'Symbol', 'ensemblID', \n",
    "               'Chrom', 'logFC', 't', 'adj.P.Val']].sort_values('adj.P.Val')\n",
    "genes.Chrom = 'chr'+genes.Chrom\n",
    "genes.shape"
   ]
  },
  {
   "cell_type": "code",
   "execution_count": 5,
   "metadata": {},
   "outputs": [
    {
     "data": {
      "text/plain": [
       "(172, 10)"
      ]
     },
     "execution_count": 5,
     "metadata": {},
     "output_type": "execute_result"
    }
   ],
   "source": [
    "genes = add_pvals_adjustPval(genes)\n",
    "genes = genes[~(genes['Female_Pval'] <= 0.05)] ## Stringents\n",
    "genes['Type'] = 'gene'\n",
    "genes.shape"
   ]
  },
  {
   "cell_type": "code",
   "execution_count": 6,
   "metadata": {},
   "outputs": [
    {
     "data": {
      "text/html": [
       "<div>\n",
       "<style scoped>\n",
       "    .dataframe tbody tr th:only-of-type {\n",
       "        vertical-align: middle;\n",
       "    }\n",
       "\n",
       "    .dataframe tbody tr th {\n",
       "        vertical-align: top;\n",
       "    }\n",
       "\n",
       "    .dataframe thead th {\n",
       "        text-align: right;\n",
       "    }\n",
       "</style>\n",
       "<table border=\"1\" class=\"dataframe\">\n",
       "  <thead>\n",
       "    <tr style=\"text-align: right;\">\n",
       "      <th></th>\n",
       "      <th>gencodeID</th>\n",
       "      <th>Symbol</th>\n",
       "      <th>ensemblID</th>\n",
       "      <th>Chrom</th>\n",
       "      <th>logFC</th>\n",
       "      <th>t</th>\n",
       "      <th>adj.P.Val</th>\n",
       "      <th>Female_Pval</th>\n",
       "      <th>Female_FDR</th>\n",
       "      <th>Type</th>\n",
       "    </tr>\n",
       "    <tr>\n",
       "      <th>Feature</th>\n",
       "      <th></th>\n",
       "      <th></th>\n",
       "      <th></th>\n",
       "      <th></th>\n",
       "      <th></th>\n",
       "      <th></th>\n",
       "      <th></th>\n",
       "      <th></th>\n",
       "      <th></th>\n",
       "      <th></th>\n",
       "    </tr>\n",
       "  </thead>\n",
       "  <tbody>\n",
       "    <tr>\n",
       "      <th>ENSG00000119411.10</th>\n",
       "      <td>ENSG00000119411.10</td>\n",
       "      <td>BSPRY</td>\n",
       "      <td>ENSG00000119411</td>\n",
       "      <td>chr9</td>\n",
       "      <td>0.280110</td>\n",
       "      <td>5.861029</td>\n",
       "      <td>0.000028</td>\n",
       "      <td>0.439030</td>\n",
       "      <td>0.454209</td>\n",
       "      <td>gene</td>\n",
       "    </tr>\n",
       "    <tr>\n",
       "      <th>ENSG00000159871.14</th>\n",
       "      <td>ENSG00000159871.14</td>\n",
       "      <td>LYPD5</td>\n",
       "      <td>ENSG00000159871</td>\n",
       "      <td>chr19</td>\n",
       "      <td>0.213822</td>\n",
       "      <td>5.885126</td>\n",
       "      <td>0.000028</td>\n",
       "      <td>0.362537</td>\n",
       "      <td>0.391824</td>\n",
       "      <td>gene</td>\n",
       "    </tr>\n",
       "  </tbody>\n",
       "</table>\n",
       "</div>"
      ],
      "text/plain": [
       "                             gencodeID Symbol        ensemblID  Chrom  \\\n",
       "Feature                                                                 \n",
       "ENSG00000119411.10  ENSG00000119411.10  BSPRY  ENSG00000119411   chr9   \n",
       "ENSG00000159871.14  ENSG00000159871.14  LYPD5  ENSG00000159871  chr19   \n",
       "\n",
       "                       logFC         t  adj.P.Val  Female_Pval  Female_FDR  \\\n",
       "Feature                                                                      \n",
       "ENSG00000119411.10  0.280110  5.861029   0.000028     0.439030    0.454209   \n",
       "ENSG00000159871.14  0.213822  5.885126   0.000028     0.362537    0.391824   \n",
       "\n",
       "                    Type  \n",
       "Feature                   \n",
       "ENSG00000119411.10  gene  \n",
       "ENSG00000159871.14  gene  "
      ]
     },
     "execution_count": 6,
     "metadata": {},
     "output_type": "execute_result"
    }
   ],
   "source": [
    "genes.head(2)"
   ]
  },
  {
   "cell_type": "markdown",
   "metadata": {},
   "source": [
    "## DE summary"
   ]
  },
  {
   "cell_type": "markdown",
   "metadata": {},
   "source": [
    "### DE (feature)"
   ]
  },
  {
   "cell_type": "code",
   "execution_count": 7,
   "metadata": {},
   "outputs": [
    {
     "name": "stdout",
     "output_type": "stream",
     "text": [
      "\n",
      "Gene:\t\t172\n"
     ]
    }
   ],
   "source": [
    "gg = len(set(genes['gencodeID']))\n",
    "\n",
    "print(\"\\nGene:\\t\\t%d\" % (gg)) "
   ]
  },
  {
   "cell_type": "code",
   "execution_count": 8,
   "metadata": {},
   "outputs": [],
   "source": [
    "genes.to_csv('male_specific_DE_genes.txt', sep='\\t', index=True, header=True)"
   ]
  },
  {
   "cell_type": "markdown",
   "metadata": {},
   "source": [
    "## Number of DEGs on allosomes"
   ]
  },
  {
   "cell_type": "code",
   "execution_count": 9,
   "metadata": {},
   "outputs": [
    {
     "data": {
      "text/plain": [
       "Type  Chrom\n",
       "gene  chrX     2\n",
       "dtype: int64"
      ]
     },
     "execution_count": 9,
     "metadata": {},
     "output_type": "execute_result"
    }
   ],
   "source": [
    "genes[(genes['Chrom'].isin(['chrX', 'chrY']))].groupby(['Type', 'Chrom']).size()"
   ]
  },
  {
   "cell_type": "code",
   "execution_count": null,
   "metadata": {},
   "outputs": [],
   "source": []
  }
 ],
 "metadata": {
  "kernelspec": {
   "display_name": "Python 3",
   "language": "python",
   "name": "python3"
  },
  "language_info": {
   "codemirror_mode": {
    "name": "ipython",
    "version": 3
   },
   "file_extension": ".py",
   "mimetype": "text/x-python",
   "name": "python",
   "nbconvert_exporter": "python",
   "pygments_lexer": "ipython3",
   "version": "3.8.6"
  }
 },
 "nbformat": 4,
 "nbformat_minor": 4
}
