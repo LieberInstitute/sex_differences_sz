{
 "cells": [
  {
   "cell_type": "markdown",
   "metadata": {},
   "source": [
    "# Extract unique female specific SZ-associated genes"
   ]
  },
  {
   "cell_type": "code",
   "execution_count": 1,
   "metadata": {},
   "outputs": [],
   "source": [
    "import functools\n",
    "import numpy as np\n",
    "import pandas as pd\n",
    "from os import environ\n",
    "from gtfparse import read_gtf\n",
    "from scipy.stats import mannwhitneyu\n",
    "from statsmodels.stats.multitest import fdrcorrection"
   ]
  },
  {
   "cell_type": "code",
   "execution_count": 2,
   "metadata": {},
   "outputs": [],
   "source": [
    "environ['NUMEXPR_MAX_THREADS'] = '16'"
   ]
  },
  {
   "cell_type": "code",
   "execution_count": 3,
   "metadata": {},
   "outputs": [],
   "source": [
    "@functools.lru_cache()\n",
    "def get_res_df(feature):\n",
    "    return pd.read_csv('../../../../../interaction_model/dlpfc/_m/%s/residualized_expression.tsv' % \n",
    "                       feature, sep='\\t').T\n",
    "\n",
    "\n",
    "@functools.lru_cache()\n",
    "def get_pheno_df():\n",
    "    return pd.read_csv('/ceph/projects/v3_phase3_paper/inputs/phenotypes/_m/dlpfc_phenotypes.csv', \n",
    "                       index_col=0)\n",
    "\n",
    "\n",
    "@functools.lru_cache()\n",
    "def get_res_pheno_df(feature):\n",
    "    return pd.merge(get_pheno_df(), get_res_df(feature), left_index=True, right_index=True)\n",
    "\n",
    "\n",
    "@functools.lru_cache()\n",
    "def get_gtf(gtf_file):\n",
    "    return read_gtf(gtf_file)"
   ]
  },
  {
   "cell_type": "code",
   "execution_count": 4,
   "metadata": {},
   "outputs": [],
   "source": [
    "def map_features(feature):\n",
    "    return {\"genes\": \"gene\", 'transcripts': 'tx', \n",
    "            'exons': 'exon', 'junctions': 'jxn'}[feature]\n",
    "\n",
    "\n",
    "def gene_annot(feature):\n",
    "    gtf_file = '/ceph/genome/human/gencode25/gtf.CHR/_m/gencode.v25.annotation.gtf'\n",
    "    gtf0 = get_gtf(gtf_file)\n",
    "    gtf = gtf0[(gtf0[\"feature\"] == feature)]\n",
    "    return gtf[[\"gene_id\", \"gene_name\", \"transcript_id\", \"exon_id\", \n",
    "                \"gene_type\", \"seqname\", \"start\", \"end\", \"strand\"]]\n",
    "\n",
    "\n",
    "def get_de(feature):\n",
    "    f = pd.read_csv('../../../female_analysis/_m/%s/diffExpr_szVctl_full.txt' % feature, \n",
    "                    sep='\\t', index_col=0)\\\n",
    "          .rename(columns={'gencodeGeneID': 'gencodeID'})\n",
    "    m = pd.read_csv('../../../male_analysis/_m/%s/diffExpr_szVctl_full.txt' % feature, \n",
    "                    sep='\\t', index_col=0)\\\n",
    "          .rename(columns={'gencodeGeneID': 'gencodeID'})\n",
    "    return f, m\n",
    "\n",
    "\n",
    "def get_unique(x, y, thres=0.05):\n",
    "    return x.merge(pd.DataFrame(index = list(set(x[(x['adj.P.Val'] <= thres)].index) - \n",
    "                                             set(y[(y['adj.P.Val'] <= thres)].index))), \n",
    "                   left_index=True, right_index=True)\n",
    "\n",
    "\n",
    "def subset_sz_male(feature):\n",
    "    df = get_res_pheno_df(feature)\n",
    "    ctl = df[(df['Dx'] == 'Control') & (df['Sex'] == 'M')].copy()\n",
    "    sz = df[(df['Dx'] == 'Schizo') & (df['Sex'] == 'M')].copy()\n",
    "    return ctl, sz\n",
    "\n",
    "\n",
    "def add_pvals_adjustPval(feature, df):\n",
    "    ctl, sz = subset_sz_male(feature)\n",
    "    pval_df = []\n",
    "    for gene_id in df.Feature:\n",
    "        stat, pval = mannwhitneyu(ctl[gene_id], sz[gene_id])\n",
    "        pval_df.append(pval)\n",
    "    fdr_df = fdrcorrection(pval_df)\n",
    "    return pd.concat([df.set_index('Feature'), \n",
    "                      pd.DataFrame({'Male_Pval': pval_df, 'Male_FDR': fdr_df[1]}, \n",
    "                                   index=df.Feature)], axis=1)"
   ]
  },
  {
   "cell_type": "markdown",
   "metadata": {},
   "source": [
    "## Genes"
   ]
  },
  {
   "cell_type": "code",
   "execution_count": 5,
   "metadata": {},
   "outputs": [
    {
     "name": "stderr",
     "output_type": "stream",
     "text": [
      "INFO:root:Extracted GTF attributes: ['gene_id', 'gene_type', 'gene_status', 'gene_name', 'level', 'havana_gene', 'transcript_id', 'transcript_type', 'transcript_status', 'transcript_name', 'transcript_support_level', 'tag', 'havana_transcript', 'exon_number', 'exon_id', 'ont', 'protein_id', 'ccdsid']\n"
     ]
    }
   ],
   "source": [
    "gtf_annot = gene_annot('gene')\n",
    "f, m = get_de('genes')"
   ]
  },
  {
   "cell_type": "code",
   "execution_count": 6,
   "metadata": {},
   "outputs": [
    {
     "data": {
      "text/html": [
       "<div>\n",
       "<style scoped>\n",
       "    .dataframe tbody tr th:only-of-type {\n",
       "        vertical-align: middle;\n",
       "    }\n",
       "\n",
       "    .dataframe tbody tr th {\n",
       "        vertical-align: top;\n",
       "    }\n",
       "\n",
       "    .dataframe thead th {\n",
       "        text-align: right;\n",
       "    }\n",
       "</style>\n",
       "<table border=\"1\" class=\"dataframe\">\n",
       "  <thead>\n",
       "    <tr style=\"text-align: right;\">\n",
       "      <th></th>\n",
       "      <th>Feature</th>\n",
       "      <th>gencodeID</th>\n",
       "      <th>Symbol</th>\n",
       "      <th>ensemblID</th>\n",
       "      <th>Chrom</th>\n",
       "      <th>logFC</th>\n",
       "      <th>t</th>\n",
       "      <th>adj.P.Val</th>\n",
       "      <th>Male_Pval</th>\n",
       "      <th>Male_FDR</th>\n",
       "      <th>Type</th>\n",
       "    </tr>\n",
       "  </thead>\n",
       "  <tbody>\n",
       "  </tbody>\n",
       "</table>\n",
       "</div>"
      ],
      "text/plain": [
       "Empty DataFrame\n",
       "Columns: [Feature, gencodeID, Symbol, ensemblID, Chrom, logFC, t, adj.P.Val, Male_Pval, Male_FDR, Type]\n",
       "Index: []"
      ]
     },
     "execution_count": 6,
     "metadata": {},
     "output_type": "execute_result"
    }
   ],
   "source": [
    "f['Feature'] = f.index\n",
    "#genes = get_unique(get_unique(f, m), a)\n",
    "genes = get_unique(f, m)\n",
    "genes = pd.merge(gtf_annot[['gene_id', 'seqname']], genes, left_on='gene_id', \n",
    "                 right_on='Feature', how='right').rename(columns={'seqname': 'Chrom'})\n",
    "genes = genes[['Feature', 'gencodeID', 'Symbol', 'ensemblID', \n",
    "               'Chrom', 'logFC', 't', 'adj.P.Val']].sort_values('adj.P.Val')\n",
    "genes = add_pvals_adjustPval('genes', genes)\n",
    "genes = genes[~(genes['Male_Pval'] <= 0.05)].sort_values('adj.P.Val').reset_index() ## Stringents\n",
    "genes['Type'] = 'gene'\n",
    "genes.head(2)"
   ]
  },
  {
   "cell_type": "markdown",
   "metadata": {},
   "source": [
    "## Transcripts"
   ]
  },
  {
   "cell_type": "code",
   "execution_count": 7,
   "metadata": {},
   "outputs": [],
   "source": [
    "gtf_annot = gene_annot('transcript')"
   ]
  },
  {
   "cell_type": "code",
   "execution_count": 8,
   "metadata": {},
   "outputs": [
    {
     "data": {
      "text/html": [
       "<div>\n",
       "<style scoped>\n",
       "    .dataframe tbody tr th:only-of-type {\n",
       "        vertical-align: middle;\n",
       "    }\n",
       "\n",
       "    .dataframe tbody tr th {\n",
       "        vertical-align: top;\n",
       "    }\n",
       "\n",
       "    .dataframe thead th {\n",
       "        text-align: right;\n",
       "    }\n",
       "</style>\n",
       "<table border=\"1\" class=\"dataframe\">\n",
       "  <thead>\n",
       "    <tr style=\"text-align: right;\">\n",
       "      <th></th>\n",
       "      <th>Feature</th>\n",
       "      <th>gencodeID</th>\n",
       "      <th>Symbol</th>\n",
       "      <th>ensemblID</th>\n",
       "      <th>Chrom</th>\n",
       "      <th>logFC</th>\n",
       "      <th>t</th>\n",
       "      <th>adj.P.Val</th>\n",
       "      <th>Male_Pval</th>\n",
       "      <th>Male_FDR</th>\n",
       "      <th>Type</th>\n",
       "    </tr>\n",
       "  </thead>\n",
       "  <tbody>\n",
       "  </tbody>\n",
       "</table>\n",
       "</div>"
      ],
      "text/plain": [
       "Empty DataFrame\n",
       "Columns: [Feature, gencodeID, Symbol, ensemblID, Chrom, logFC, t, adj.P.Val, Male_Pval, Male_FDR, Type]\n",
       "Index: []"
      ]
     },
     "execution_count": 8,
     "metadata": {},
     "output_type": "execute_result"
    }
   ],
   "source": [
    "f, m = get_de('transcripts')\n",
    "f['Feature'] = f.index\n",
    "f['ensemblID'] = f.gene_id.str.replace('\\\\.\\d+', '', regex=True)\n",
    "#trans = get_unique(get_unique(f, m), a)\n",
    "trans = get_unique(f, m)\n",
    "trans = pd.merge(gtf_annot[['transcript_id', 'seqname']], trans, \n",
    "                 left_on='transcript_id', right_on='Feature', \n",
    "                 how='right').rename(columns={'seqname': 'Chrom'}).sort_values('adj.P.Val')\n",
    "trans = trans[['Feature', 'gene_id', 'Symbol', 'ensemblID', 'Chrom', \n",
    "               'logFC', 't', 'adj.P.Val']].rename(columns={'gene_id': 'gencodeID'})\n",
    "trans = add_pvals_adjustPval('transcripts', trans)\n",
    "trans = trans[~(trans['Male_Pval'] <= 0.05)].sort_values('adj.P.Val').reset_index() ## Stringents\n",
    "trans['Type'] = 'transcript'\n",
    "trans.head(2)"
   ]
  },
  {
   "cell_type": "markdown",
   "metadata": {},
   "source": [
    "### Exons"
   ]
  },
  {
   "cell_type": "code",
   "execution_count": 9,
   "metadata": {},
   "outputs": [],
   "source": [
    "gtf_annot = gene_annot('exon')\n",
    "gtf_annot['ensemblID'] = gtf_annot.gene_id.str.replace('\\\\.\\d+', '', regex=True)"
   ]
  },
  {
   "cell_type": "code",
   "execution_count": 10,
   "metadata": {},
   "outputs": [
    {
     "data": {
      "text/html": [
       "<div>\n",
       "<style scoped>\n",
       "    .dataframe tbody tr th:only-of-type {\n",
       "        vertical-align: middle;\n",
       "    }\n",
       "\n",
       "    .dataframe tbody tr th {\n",
       "        vertical-align: top;\n",
       "    }\n",
       "\n",
       "    .dataframe thead th {\n",
       "        text-align: right;\n",
       "    }\n",
       "</style>\n",
       "<table border=\"1\" class=\"dataframe\">\n",
       "  <thead>\n",
       "    <tr style=\"text-align: right;\">\n",
       "      <th></th>\n",
       "      <th>Feature</th>\n",
       "      <th>gencodeID</th>\n",
       "      <th>Symbol</th>\n",
       "      <th>ensemblID</th>\n",
       "      <th>Chrom</th>\n",
       "      <th>logFC</th>\n",
       "      <th>t</th>\n",
       "      <th>adj.P.Val</th>\n",
       "      <th>Male_Pval</th>\n",
       "      <th>Male_FDR</th>\n",
       "      <th>Type</th>\n",
       "    </tr>\n",
       "  </thead>\n",
       "  <tbody>\n",
       "  </tbody>\n",
       "</table>\n",
       "</div>"
      ],
      "text/plain": [
       "Empty DataFrame\n",
       "Columns: [Feature, gencodeID, Symbol, ensemblID, Chrom, logFC, t, adj.P.Val, Male_Pval, Male_FDR, Type]\n",
       "Index: []"
      ]
     },
     "execution_count": 10,
     "metadata": {},
     "output_type": "execute_result"
    }
   ],
   "source": [
    "f, m = get_de('exons')\n",
    "f['Feature'] = f.index\n",
    "#exons = get_unique(get_unique(f, m), a)\n",
    "exons = get_unique(f, m)\n",
    "exons = pd.merge(gtf_annot[['ensemblID', 'seqname']], exons, \n",
    "                 on='ensemblID', how='right').rename(columns={'seqname': 'Chrom'})\n",
    "exons = exons[['Feature', 'gencodeID', 'Symbol', 'ensemblID', \n",
    "               'Chrom', 'logFC', 't', 'adj.P.Val']].groupby('Feature')\\\n",
    "            .first().reset_index().sort_values('adj.P.Val')\n",
    "exons = add_pvals_adjustPval('exons', exons)\n",
    "exons = exons[~(exons['Male_Pval'] <= 0.05)].sort_values('adj.P.Val').reset_index()\n",
    "exons['Type'] = 'exon'\n",
    "exons.head(2)"
   ]
  },
  {
   "cell_type": "markdown",
   "metadata": {},
   "source": [
    "### Junctions"
   ]
  },
  {
   "cell_type": "code",
   "execution_count": 11,
   "metadata": {},
   "outputs": [
    {
     "data": {
      "text/html": [
       "<div>\n",
       "<style scoped>\n",
       "    .dataframe tbody tr th:only-of-type {\n",
       "        vertical-align: middle;\n",
       "    }\n",
       "\n",
       "    .dataframe tbody tr th {\n",
       "        vertical-align: top;\n",
       "    }\n",
       "\n",
       "    .dataframe thead th {\n",
       "        text-align: right;\n",
       "    }\n",
       "</style>\n",
       "<table border=\"1\" class=\"dataframe\">\n",
       "  <thead>\n",
       "    <tr style=\"text-align: right;\">\n",
       "      <th></th>\n",
       "      <th>Feature</th>\n",
       "      <th>gencodeID</th>\n",
       "      <th>Symbol</th>\n",
       "      <th>ensemblID</th>\n",
       "      <th>Chrom</th>\n",
       "      <th>logFC</th>\n",
       "      <th>t</th>\n",
       "      <th>adj.P.Val</th>\n",
       "      <th>Male_Pval</th>\n",
       "      <th>Male_FDR</th>\n",
       "      <th>Type</th>\n",
       "    </tr>\n",
       "  </thead>\n",
       "  <tbody>\n",
       "  </tbody>\n",
       "</table>\n",
       "</div>"
      ],
      "text/plain": [
       "Empty DataFrame\n",
       "Columns: [Feature, gencodeID, Symbol, ensemblID, Chrom, logFC, t, adj.P.Val, Male_Pval, Male_FDR, Type]\n",
       "Index: []"
      ]
     },
     "execution_count": 11,
     "metadata": {},
     "output_type": "execute_result"
    }
   ],
   "source": [
    "f, m = get_de('junctions')\n",
    "f['Feature'] = f.index\n",
    "#juncs = get_unique(get_unique(f, m), a)\n",
    "juncs = get_unique(f, m)\n",
    "juncs = pd.merge(gtf_annot[['ensemblID', 'seqname']], juncs, \n",
    "                 on='ensemblID', how='right').rename(columns={'seqname': 'Chrom'})\n",
    "juncs = juncs[['Feature', 'gencodeID', 'Symbol', 'ensemblID', 'Chrom',\n",
    "               'logFC', 't', 'adj.P.Val']].groupby('Feature')\\\n",
    "        .first().reset_index().sort_values('adj.P.Val')\n",
    "juncs = add_pvals_adjustPval('junctions', juncs)\n",
    "juncs = juncs[~(juncs['Male_Pval'] <= 0.05)].sort_values('adj.P.Val').reset_index() ## Stringents\n",
    "juncs['Type'] = 'junction'\n",
    "juncs.head(2)"
   ]
  },
  {
   "cell_type": "markdown",
   "metadata": {},
   "source": [
    "## DE summary"
   ]
  },
  {
   "cell_type": "markdown",
   "metadata": {},
   "source": [
    "### DE (feature)"
   ]
  },
  {
   "cell_type": "code",
   "execution_count": 12,
   "metadata": {},
   "outputs": [
    {
     "name": "stdout",
     "output_type": "stream",
     "text": [
      "\n",
      "Gene:\t\t0\n",
      "Transcript:\t0\n",
      "Exon:\t\t0\n",
      "Junction:\t0\n"
     ]
    }
   ],
   "source": [
    "gg = len(set(genes['Feature']))\n",
    "tt = len(set(trans['Feature']))\n",
    "ee = len(set(exons['Feature']))\n",
    "jj = len(set(juncs['Feature']))\n",
    "\n",
    "print(\"\\nGene:\\t\\t%d\\nTranscript:\\t%d\\nExon:\\t\\t%d\\nJunction:\\t%d\" % (gg, tt, ee, jj)) "
   ]
  },
  {
   "cell_type": "markdown",
   "metadata": {},
   "source": [
    "#### DE (EnsemblID)"
   ]
  },
  {
   "cell_type": "code",
   "execution_count": 13,
   "metadata": {},
   "outputs": [
    {
     "name": "stdout",
     "output_type": "stream",
     "text": [
      "\n",
      "Gene:\t\t0\n",
      "Transcript:\t0\n",
      "Exon:\t\t0\n",
      "Junction:\t0\n"
     ]
    }
   ],
   "source": [
    "gg = len(set(genes['ensemblID']))\n",
    "tt = len(set(trans['ensemblID']))\n",
    "ee = len(set(exons['ensemblID']))\n",
    "jj = len(set(juncs['ensemblID']))\n",
    "\n",
    "print(\"\\nGene:\\t\\t%d\\nTranscript:\\t%d\\nExon:\\t\\t%d\\nJunction:\\t%d\" % (gg, tt, ee, jj)) "
   ]
  },
  {
   "cell_type": "markdown",
   "metadata": {},
   "source": [
    "#### DE (Gene Symbol)"
   ]
  },
  {
   "cell_type": "code",
   "execution_count": 14,
   "metadata": {},
   "outputs": [
    {
     "name": "stdout",
     "output_type": "stream",
     "text": [
      "\n",
      "Gene:\t\t0\n",
      "Transcript:\t0\n",
      "Exon:\t\t0\n",
      "Junction:\t0\n"
     ]
    }
   ],
   "source": [
    "gg = len(set(genes['Symbol']))\n",
    "tt = len(set(trans['Symbol']))\n",
    "ee = len(set(exons['Symbol']))\n",
    "jj = len(set(juncs['Symbol']))\n",
    "\n",
    "print(\"\\nGene:\\t\\t%d\\nTranscript:\\t%d\\nExon:\\t\\t%d\\nJunction:\\t%d\" % (gg, tt, ee, jj)) "
   ]
  },
  {
   "cell_type": "markdown",
   "metadata": {},
   "source": [
    "### Feature effect size summary"
   ]
  },
  {
   "cell_type": "code",
   "execution_count": 15,
   "metadata": {},
   "outputs": [
    {
     "name": "stdout",
     "output_type": "stream",
     "text": [
      "\n",
      "There are 0 unique Genes with abs(log2FC) >= 0.5\n",
      "There are 0 unique Genes with abs(log2FC) >= 1\n",
      "\n",
      "There are 0 unique Transcript with abs(log2FC) >= 0.5\n",
      "There are 0 unique Transcript with abs(log2FC) >= 1\n",
      "\n",
      "There are 0 unique Exons with abs(log2FC) >= 0.5\n",
      "There are 0 unique Exons with abs(log2FC) >= 1\n",
      "\n",
      "There are 0 unique Junctions with abs(log2FC) >= 0.5\n",
      "There are 0 unique Junctions with abs(log2FC) >= 1\n"
     ]
    }
   ],
   "source": [
    "feature_list = ['Genes', 'Transcript', 'Exons', 'Junctions']\n",
    "feature_df = [genes, trans, exons, juncs]\n",
    "for ii in range(4):\n",
    "    ff = feature_df[ii]\n",
    "    half = len(set(ff[(np.abs(ff['logFC']) >= 0.5)].Feature))\n",
    "    one = len(set(ff[(np.abs(ff['logFC']) >= 1)].Feature))\n",
    "    print(\"\\nThere are %d unique %s with abs(log2FC) >= 0.5\" % (half, feature_list[ii]))\n",
    "    print(\"There are %d unique %s with abs(log2FC) >= 1\" % (one, feature_list[ii]))"
   ]
  },
  {
   "cell_type": "code",
   "execution_count": 16,
   "metadata": {},
   "outputs": [
    {
     "name": "stdout",
     "output_type": "stream",
     "text": [
      "\n",
      "There are 0 unique Genes with abs(log2FC) >= 0.5\n",
      "There are 0 unique Genes with abs(log2FC) >= 1\n",
      "\n",
      "There are 0 unique Transcripts with abs(log2FC) >= 0.5\n",
      "There are 0 unique Transcripts with abs(log2FC) >= 1\n",
      "\n",
      "There are 0 unique Exons with abs(log2FC) >= 0.5\n",
      "There are 0 unique Exons with abs(log2FC) >= 1\n",
      "\n",
      "There are 0 unique Junctions with abs(log2FC) >= 0.5\n",
      "There are 0 unique Junctions with abs(log2FC) >= 1\n"
     ]
    }
   ],
   "source": [
    "feature_list = ['Genes', 'Transcripts', 'Exons', 'Junctions']\n",
    "feature_df = [genes, trans, exons, juncs]\n",
    "for ii in range(4):\n",
    "    ff = feature_df[ii]\n",
    "    half = len(set(ff[(np.abs(ff['logFC']) >= 0.5)].ensemblID))\n",
    "    one = len(set(ff[(np.abs(ff['logFC']) >= 1)].ensemblID))\n",
    "    print(\"\\nThere are %d unique %s with abs(log2FC) >= 0.5\" % (half, feature_list[ii]))\n",
    "    print(\"There are %d unique %s with abs(log2FC) >= 1\" % (one, feature_list[ii]))"
   ]
  },
  {
   "cell_type": "code",
   "execution_count": 17,
   "metadata": {},
   "outputs": [],
   "source": [
    "df = pd.concat([genes, trans, exons, juncs], axis=0)\n",
    "df.to_csv('female_specific_DE_4features.txt', sep='\\t', index=False, header=True)"
   ]
  },
  {
   "cell_type": "markdown",
   "metadata": {},
   "source": [
    "## Number of DEGs on allosomes"
   ]
  },
  {
   "cell_type": "code",
   "execution_count": 18,
   "metadata": {},
   "outputs": [
    {
     "data": {
      "text/plain": [
       "Series([], dtype: int64)"
      ]
     },
     "execution_count": 18,
     "metadata": {},
     "output_type": "execute_result"
    }
   ],
   "source": [
    "df[(df['Chrom'].isin(['chrX', 'chrY']))].groupby(['Type', 'Chrom']).size()"
   ]
  },
  {
   "cell_type": "code",
   "execution_count": 19,
   "metadata": {},
   "outputs": [
    {
     "data": {
      "text/html": [
       "<div>\n",
       "<style scoped>\n",
       "    .dataframe tbody tr th:only-of-type {\n",
       "        vertical-align: middle;\n",
       "    }\n",
       "\n",
       "    .dataframe tbody tr th {\n",
       "        vertical-align: top;\n",
       "    }\n",
       "\n",
       "    .dataframe thead th {\n",
       "        text-align: right;\n",
       "    }\n",
       "</style>\n",
       "<table border=\"1\" class=\"dataframe\">\n",
       "  <thead>\n",
       "    <tr style=\"text-align: right;\">\n",
       "      <th></th>\n",
       "      <th>Feature</th>\n",
       "      <th>gencodeID</th>\n",
       "      <th>Symbol</th>\n",
       "      <th>ensemblID</th>\n",
       "      <th>Chrom</th>\n",
       "      <th>logFC</th>\n",
       "      <th>t</th>\n",
       "      <th>adj.P.Val</th>\n",
       "      <th>Male_Pval</th>\n",
       "      <th>Male_FDR</th>\n",
       "      <th>Type</th>\n",
       "    </tr>\n",
       "  </thead>\n",
       "  <tbody>\n",
       "  </tbody>\n",
       "</table>\n",
       "</div>"
      ],
      "text/plain": [
       "Empty DataFrame\n",
       "Columns: [Feature, gencodeID, Symbol, ensemblID, Chrom, logFC, t, adj.P.Val, Male_Pval, Male_FDR, Type]\n",
       "Index: []"
      ]
     },
     "execution_count": 19,
     "metadata": {},
     "output_type": "execute_result"
    }
   ],
   "source": [
    "df"
   ]
  },
  {
   "cell_type": "code",
   "execution_count": null,
   "metadata": {},
   "outputs": [],
   "source": []
  }
 ],
 "metadata": {
  "kernelspec": {
   "display_name": "Python 3",
   "language": "python",
   "name": "python3"
  },
  "language_info": {
   "codemirror_mode": {
    "name": "ipython",
    "version": 3
   },
   "file_extension": ".py",
   "mimetype": "text/x-python",
   "name": "python",
   "nbconvert_exporter": "python",
   "pygments_lexer": "ipython3",
   "version": "3.9.1"
  }
 },
 "nbformat": 4,
 "nbformat_minor": 4
}
