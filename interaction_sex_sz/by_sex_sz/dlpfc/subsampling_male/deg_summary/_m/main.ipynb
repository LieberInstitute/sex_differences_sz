{
 "cells": [
  {
   "cell_type": "markdown",
   "metadata": {},
   "source": [
    "# Examine permutation based on female sample size"
   ]
  },
  {
   "cell_type": "code",
   "execution_count": 1,
   "metadata": {
    "execution": {
     "iopub.execute_input": "2021-08-16T22:56:25.807661Z",
     "iopub.status.busy": "2021-08-16T22:56:25.806136Z",
     "iopub.status.idle": "2021-08-16T22:56:26.135881Z",
     "shell.execute_reply": "2021-08-16T22:56:26.134470Z"
    }
   },
   "outputs": [],
   "source": [
    "import re\n",
    "import pandas as pd\n",
    "from glob import iglob"
   ]
  },
  {
   "cell_type": "markdown",
   "metadata": {},
   "source": [
    "## Main"
   ]
  },
  {
   "cell_type": "code",
   "execution_count": 2,
   "metadata": {
    "execution": {
     "iopub.execute_input": "2021-08-16T22:56:26.143671Z",
     "iopub.status.busy": "2021-08-16T22:56:26.142415Z",
     "iopub.status.idle": "2021-08-16T22:56:26.250578Z",
     "shell.execute_reply": "2021-08-16T22:56:26.249454Z"
    }
   },
   "outputs": [
    {
     "data": {
      "text/plain": [
       "(490, 18)"
      ]
     },
     "execution_count": 1,
     "metadata": {},
     "output_type": "execute_result"
    }
   ],
   "source": [
    "df = pd.DataFrame()\n",
    "for filename in iglob(\"../../_m/permutation_*/diffExpr_CtrlvsSZ_FDR05.txt\"):\n",
    "    m = re.search(\"\\d+\", filename)\n",
    "    dt = pd.read_csv(filename, sep='\\t', index_col=0)\n",
    "    dt[\"Permutation\"] = m.group(0)\n",
    "    df = pd.concat([df, dt], axis=0)\n",
    "df.to_csv(\"permutations.csv\")\n",
    "df.shape"
   ]
  },
  {
   "cell_type": "code",
   "execution_count": 3,
   "metadata": {
    "execution": {
     "iopub.execute_input": "2021-08-16T22:56:26.265436Z",
     "iopub.status.busy": "2021-08-16T22:56:26.264153Z",
     "iopub.status.idle": "2021-08-16T22:56:26.273465Z",
     "shell.execute_reply": "2021-08-16T22:56:26.274576Z"
    }
   },
   "outputs": [
    {
     "name": "stdout",
     "output_type": "stream",
     "text": [
      "Median: 2.000000\n"
     ]
    },
    {
     "data": {
      "text/plain": [
       "count     10.000000\n",
       "mean      49.000000\n",
       "std      107.991769\n",
       "min        0.000000\n",
       "25%        0.250000\n",
       "50%        2.000000\n",
       "75%        5.750000\n",
       "max      328.000000\n",
       "Name: DEGs, dtype: float64"
      ]
     },
     "execution_count": 1,
     "metadata": {},
     "output_type": "execute_result"
    }
   ],
   "source": [
    "xx = df.groupby(\"Permutation\").size()\\\n",
    "       .reset_index().rename(columns={0:\"DEGs\"})\\\n",
    "       .merge(pd.DataFrame({\"Permutation\": [str(x).zfill(2) for x in range(1,11)]}), \n",
    "              on=\"Permutation\", how=\"outer\")\\\n",
    "       .fillna(0).sort_values(\"Permutation\")\n",
    "print(\"Median: %f\" % xx.DEGs.median())\n",
    "xx.DEGs.describe()"
   ]
  },
  {
   "cell_type": "code",
   "execution_count": 4,
   "metadata": {
    "execution": {
     "iopub.execute_input": "2021-08-16T22:56:26.280569Z",
     "iopub.status.busy": "2021-08-16T22:56:26.279298Z",
     "iopub.status.idle": "2021-08-16T22:56:26.638828Z",
     "shell.execute_reply": "2021-08-16T22:56:26.637490Z"
    }
   },
   "outputs": [
    {
     "data": {
      "text/plain": [
       "<AxesSubplot:>"
      ]
     },
     "execution_count": 1,
     "metadata": {},
     "output_type": "execute_result"
    },
    {
     "data": {
      "image/png": "[encoded data removed]",
      "text/plain": [
       "<Figure size 432x288 with 1 Axes>"
      ]
     },
     "metadata": {
      "needs_background": "light"
     },
     "output_type": "display_data"
    }
   ],
   "source": [
    "xx.boxplot()"
   ]
  },
  {
   "cell_type": "code",
   "execution_count": 5,
   "metadata": {
    "execution": {
     "iopub.execute_input": "2021-08-16T22:56:26.645104Z",
     "iopub.status.busy": "2021-08-16T22:56:26.643804Z",
     "iopub.status.idle": "2021-08-16T22:56:26.655368Z",
     "shell.execute_reply": "2021-08-16T22:56:26.654184Z"
    }
   },
   "outputs": [
    {
     "name": "stdout",
     "output_type": "stream",
     "text": [
      "There are 0 DEGs with females!\n"
     ]
    }
   ],
   "source": [
    "female = pd.read_csv(\"../../../female_analysis/_m/genes/diffExpr_szVctl_FDR05.txt\", sep='\\t', index_col=0)\n",
    "print(\"There are %d DEGs with females!\" % female.shape[0])"
   ]
  },
  {
   "cell_type": "code",
   "execution_count": null,
   "metadata": {},
   "outputs": [],
   "source": []
  }
 ],
 "metadata": {
  "kernelspec": {
   "display_name": "Python 3",
   "language": "python",
   "name": "python3"
  },
  "language_info": {
   "codemirror_mode": {
    "name": "ipython",
    "version": 3
   },
   "file_extension": ".py",
   "mimetype": "text/x-python",
   "name": "python",
   "nbconvert_exporter": "python",
   "pygments_lexer": "ipython3",
   "version": "3.9.1"
  }
 },
 "nbformat": 4,
 "nbformat_minor": 4
}
