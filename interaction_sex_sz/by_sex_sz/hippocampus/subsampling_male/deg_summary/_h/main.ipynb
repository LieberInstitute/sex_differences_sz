{
 "cells": [
  {
   "cell_type": "markdown",
   "metadata": {},
   "source": [
    "# Examine permutation based on female sample size"
   ]
  },
  {
   "cell_type": "code",
   "execution_count": 1,
   "metadata": {},
   "outputs": [],
   "source": [
    "import re\n",
    "import pandas as pd\n",
    "from glob import iglob"
   ]
  },
  {
   "cell_type": "markdown",
   "metadata": {},
   "source": [
    "## Main"
   ]
  },
  {
   "cell_type": "code",
   "execution_count": 2,
   "metadata": {},
   "outputs": [
    {
     "data": {
      "text/plain": [
       "(138, 17)"
      ]
     },
     "execution_count": 2,
     "metadata": {},
     "output_type": "execute_result"
    }
   ],
   "source": [
    "df = pd.DataFrame()\n",
    "for filename in iglob(\"../../_m/permutation_*/diffExpr_CtrlvsSZ_FDR05.txt\"):\n",
    "    m = re.search(\"\\d+\", filename)\n",
    "    dt = pd.read_csv(filename, sep='\\t', index_col=0)\n",
    "    dt[\"Permutation\"] = m.group(0)\n",
    "    df = pd.concat([df, dt], axis=0)\n",
    "#df.to_csv(\"permutations.csv\")\n",
    "df.shape"
   ]
  },
  {
   "cell_type": "code",
   "execution_count": 3,
   "metadata": {},
   "outputs": [
    {
     "name": "stdout",
     "output_type": "stream",
     "text": [
      "Median: 0.500000\n"
     ]
    },
    {
     "data": {
      "text/plain": [
       "count    10.000000\n",
       "mean     13.800000\n",
       "std      28.855194\n",
       "min       0.000000\n",
       "25%       0.000000\n",
       "50%       0.500000\n",
       "75%      15.500000\n",
       "max      92.000000\n",
       "Name: DEGs, dtype: float64"
      ]
     },
     "execution_count": 3,
     "metadata": {},
     "output_type": "execute_result"
    }
   ],
   "source": [
    "xx = df.groupby(\"Permutation\").size()\\\n",
    "       .reset_index().rename(columns={0:\"DEGs\"})\\\n",
    "       .merge(pd.DataFrame({\"Permutation\": [str(x).zfill(2) for x in range(1,11)]}), \n",
    "              on=\"Permutation\", how=\"outer\")\\\n",
    "       .fillna(0).sort_values(\"Permutation\")\n",
    "print(\"Median: %f\" % xx.DEGs.median())\n",
    "xx.DEGs.describe()"
   ]
  },
  {
   "cell_type": "code",
   "execution_count": 4,
   "metadata": {},
   "outputs": [
    {
     "data": {
      "text/plain": [
       "<AxesSubplot:>"
      ]
     },
     "execution_count": 4,
     "metadata": {},
     "output_type": "execute_result"
    },
    {
     "data": {
      "image/png": "[encoded data removed]",
      "text/plain": [
       "<Figure size 432x288 with 1 Axes>"
      ]
     },
     "metadata": {
      "needs_background": "light"
     },
     "output_type": "display_data"
    }
   ],
   "source": [
    "xx.boxplot()"
   ]
  },
  {
   "cell_type": "code",
   "execution_count": 5,
   "metadata": {},
   "outputs": [
    {
     "name": "stdout",
     "output_type": "stream",
     "text": [
      "There are 1 DEGs with females!\n"
     ]
    }
   ],
   "source": [
    "female = pd.read_csv(\"../../../female_analysis/_m/genes/diffExpr_szVctl_FDR05.txt\", sep='\\t', index_col=0)\n",
    "print(\"There are %d DEGs with females!\" % female.shape[0])"
   ]
  },
  {
   "cell_type": "code",
   "execution_count": null,
   "metadata": {},
   "outputs": [],
   "source": []
  }
 ],
 "metadata": {
  "kernelspec": {
   "display_name": "Python 3",
   "language": "python",
   "name": "python3"
  },
  "language_info": {
   "codemirror_mode": {
    "name": "ipython",
    "version": 3
   },
   "file_extension": ".py",
   "mimetype": "text/x-python",
   "name": "python",
   "nbconvert_exporter": "python",
   "pygments_lexer": "ipython3",
   "version": "3.9.1"
  }
 },
 "nbformat": 4,
 "nbformat_minor": 4
}
