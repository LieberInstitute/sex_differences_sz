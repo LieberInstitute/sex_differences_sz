{
 "cells": [
  {
   "cell_type": "markdown",
   "metadata": {},
   "source": [
    "# Examine permutation based on female sample size"
   ]
  },
  {
   "cell_type": "code",
   "execution_count": null,
   "metadata": {},
   "outputs": [],
   "source": [
    "import re\n",
    "import pandas as pd\n",
    "from glob import iglob"
   ]
  },
  {
   "cell_type": "markdown",
   "metadata": {},
   "source": [
    "## Main"
   ]
  },
  {
   "cell_type": "code",
   "execution_count": null,
   "metadata": {},
   "outputs": [],
   "source": [
    "df = pd.DataFrame()\n",
    "for filename in iglob(\"../../_m/permutation_*\"):\n",
    "    m = re.search(\"\\d+\", filename)\n",
    "    dt = pd.read_csv(filename, sep='\\t', index_col=0)\n",
    "    deg = dt[(dt[\"adj.P.Val\"] < 0.05)].copy()\n",
    "    deg[\"Permutation\"] = m.group(0)\n",
    "    df = pd.concat([df, deg], axis=0)\n",
    "df.to_csv(\"permutations.csv\")\n",
    "df.shape"
   ]
  },
  {
   "cell_type": "code",
   "execution_count": null,
   "metadata": {},
   "outputs": [],
   "source": [
    "xx = df.groupby(\"Permutation\").size()\\\n",
    "       .reset_index().rename(columns={0:\"DEGs\"})\\\n",
    "       .merge(pd.DataFrame({\"Permutation\": [str(x).zfill(2) for x in range(1,11)]}), \n",
    "              on=\"Permutation\", how=\"outer\")\\\n",
    "       .fillna(0).sort_values(\"Permutation\")\n",
    "print(\"Median: %f\" % xx.DEGs.median())\n",
    "xx.DEGs.describe()"
   ]
  },
  {
   "cell_type": "code",
   "execution_count": null,
   "metadata": {},
   "outputs": [],
   "source": [
    "female = pd.read_csv(\"../../../female_analysis/_m/genes/diffExpr_szVctl_FDR05.txt\", sep='\\t', index_col=0)\n",
    "print(\"There are %d DEGs with females!\" % female.shape[0])"
   ]
  },
  {
   "cell_type": "code",
   "execution_count": null,
   "metadata": {},
   "outputs": [],
   "source": [
    "import matplotlib.pyplot as plt\n",
    "plt.close(\"all\")"
   ]
  },
  {
   "cell_type": "code",
   "execution_count": null,
   "metadata": {},
   "outputs": [],
   "source": [
    "xx.hist()\n",
    "plt.show()"
   ]
  },
  {
   "cell_type": "code",
   "execution_count": null,
   "metadata": {},
   "outputs": [],
   "source": []
  }
 ],
 "metadata": {
  "kernelspec": {
   "display_name": "Python 3 (ipykernel)",
   "language": "python",
   "name": "python3"
  },
  "language_info": {
   "codemirror_mode": {
    "name": "ipython",
    "version": 3
   },
   "file_extension": ".py",
   "mimetype": "text/x-python",
   "name": "python",
   "nbconvert_exporter": "python",
   "pygments_lexer": "ipython3",
   "version": "3.10.7"
  }
 },
 "nbformat": 4,
 "nbformat_minor": 4
}
