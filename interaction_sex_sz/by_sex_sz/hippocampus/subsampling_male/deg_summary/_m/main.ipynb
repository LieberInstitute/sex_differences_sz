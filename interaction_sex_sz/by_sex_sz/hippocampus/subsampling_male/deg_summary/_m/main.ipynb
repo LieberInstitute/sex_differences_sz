{
 "cells": [
  {
   "cell_type": "markdown",
   "metadata": {},
   "source": [
    "# Examine permutation based on female sample size"
   ]
  },
  {
   "cell_type": "code",
   "execution_count": 1,
   "metadata": {
    "execution": {
     "iopub.execute_input": "2021-08-16T23:21:32.296559Z",
     "iopub.status.busy": "2021-08-16T23:21:32.294224Z",
     "iopub.status.idle": "2021-08-16T23:21:32.970332Z",
     "shell.execute_reply": "2021-08-16T23:21:32.977321Z"
    }
   },
   "outputs": [],
   "source": [
    "import re\n",
    "import pandas as pd\n",
    "from glob import iglob"
   ]
  },
  {
   "cell_type": "markdown",
   "metadata": {},
   "source": [
    "## Main"
   ]
  },
  {
   "cell_type": "code",
   "execution_count": 2,
   "metadata": {
    "execution": {
     "iopub.execute_input": "2021-08-16T23:21:32.999695Z",
     "iopub.status.busy": "2021-08-16T23:21:32.996049Z",
     "iopub.status.idle": "2021-08-16T23:21:33.337720Z",
     "shell.execute_reply": "2021-08-16T23:21:33.336513Z"
    }
   },
   "outputs": [
    {
     "data": {
      "text/plain": [
       "(131, 18)"
      ]
     },
     "execution_count": 1,
     "metadata": {},
     "output_type": "execute_result"
    }
   ],
   "source": [
    "df = pd.DataFrame()\n",
    "for filename in iglob(\"../../_m/permutation_*/diffExpr_CtrlvsSZ_FDR05.txt\"):\n",
    "    m = re.search(\"\\d+\", filename)\n",
    "    dt = pd.read_csv(filename, sep='\\t', index_col=0)\n",
    "    dt[\"Permutation\"] = m.group(0)\n",
    "    df = pd.concat([df, dt], axis=0)\n",
    "df.to_csv(\"permutations.csv\")\n",
    "df.shape"
   ]
  },
  {
   "cell_type": "code",
   "execution_count": 3,
   "metadata": {
    "execution": {
     "iopub.execute_input": "2021-08-16T23:21:33.391559Z",
     "iopub.status.busy": "2021-08-16T23:21:33.381406Z",
     "iopub.status.idle": "2021-08-16T23:21:33.399050Z",
     "shell.execute_reply": "2021-08-16T23:21:33.400390Z"
    }
   },
   "outputs": [
    {
     "name": "stdout",
     "output_type": "stream",
     "text": [
      "Median: 0.500000\n"
     ]
    },
    {
     "data": {
      "text/plain": [
       "count    10.000000\n",
       "mean     13.100000\n",
       "std      30.189954\n",
       "min       0.000000\n",
       "25%       0.000000\n",
       "50%       0.500000\n",
       "75%       9.500000\n",
       "max      97.000000\n",
       "Name: DEGs, dtype: float64"
      ]
     },
     "execution_count": 1,
     "metadata": {},
     "output_type": "execute_result"
    }
   ],
   "source": [
    "xx = df.groupby(\"Permutation\").size()\\\n",
    "       .reset_index().rename(columns={0:\"DEGs\"})\\\n",
    "       .merge(pd.DataFrame({\"Permutation\": [str(x).zfill(2) for x in range(1,11)]}), \n",
    "              on=\"Permutation\", how=\"outer\")\\\n",
    "       .fillna(0).sort_values(\"Permutation\")\n",
    "print(\"Median: %f\" % xx.DEGs.median())\n",
    "xx.DEGs.describe()"
   ]
  },
  {
   "cell_type": "code",
   "execution_count": 4,
   "metadata": {
    "execution": {
     "iopub.execute_input": "2021-08-16T23:21:33.410337Z",
     "iopub.status.busy": "2021-08-16T23:21:33.408623Z",
     "iopub.status.idle": "2021-08-16T23:21:33.959993Z",
     "shell.execute_reply": "2021-08-16T23:21:33.958092Z"
    }
   },
   "outputs": [
    {
     "data": {
      "text/plain": [
       "<AxesSubplot:>"
      ]
     },
     "execution_count": 1,
     "metadata": {},
     "output_type": "execute_result"
    },
    {
     "data": {
      "image/png": "[encoded data removed]",
      "text/plain": [
       "<Figure size 432x288 with 1 Axes>"
      ]
     },
     "metadata": {
      "needs_background": "light"
     },
     "output_type": "display_data"
    }
   ],
   "source": [
    "xx.boxplot()"
   ]
  },
  {
   "cell_type": "code",
   "execution_count": 5,
   "metadata": {
    "execution": {
     "iopub.execute_input": "2021-08-16T23:21:33.970161Z",
     "iopub.status.busy": "2021-08-16T23:21:33.968309Z",
     "iopub.status.idle": "2021-08-16T23:21:33.984786Z",
     "shell.execute_reply": "2021-08-16T23:21:33.982794Z"
    }
   },
   "outputs": [
    {
     "name": "stdout",
     "output_type": "stream",
     "text": [
      "There are 1 DEGs with females!\n"
     ]
    }
   ],
   "source": [
    "female = pd.read_csv(\"../../../female_analysis/_m/genes/diffExpr_szVctl_FDR05.txt\", sep='\\t', index_col=0)\n",
    "print(\"There are %d DEGs with females!\" % female.shape[0])"
   ]
  },
  {
   "cell_type": "code",
   "execution_count": null,
   "metadata": {},
   "outputs": [],
   "source": []
  }
 ],
 "metadata": {
  "kernelspec": {
   "display_name": "Python 3",
   "language": "python",
   "name": "python3"
  },
  "language_info": {
   "codemirror_mode": {
    "name": "ipython",
    "version": 3
   },
   "file_extension": ".py",
   "mimetype": "text/x-python",
   "name": "python",
   "nbconvert_exporter": "python",
   "pygments_lexer": "ipython3",
   "version": "3.9.1"
  }
 },
 "nbformat": 4,
 "nbformat_minor": 4
}
