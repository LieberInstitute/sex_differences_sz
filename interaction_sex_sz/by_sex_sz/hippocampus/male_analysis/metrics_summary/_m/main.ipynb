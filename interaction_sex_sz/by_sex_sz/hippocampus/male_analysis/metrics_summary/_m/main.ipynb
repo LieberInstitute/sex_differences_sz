{
 "cells": [
  {
   "cell_type": "markdown",
   "metadata": {},
   "source": [
    "# Extract unique male specific SZ-associated genes"
   ]
  },
  {
   "cell_type": "code",
   "execution_count": 1,
   "metadata": {
    "execution": {
     "iopub.execute_input": "2021-08-16T23:18:04.465739Z",
     "iopub.status.busy": "2021-08-16T23:18:04.464359Z",
     "iopub.status.idle": "2021-08-16T23:18:05.038935Z",
     "shell.execute_reply": "2021-08-16T23:18:05.037724Z"
    }
   },
   "outputs": [],
   "source": [
    "import functools\n",
    "import numpy as np\n",
    "import pandas as pd\n",
    "from os import environ\n",
    "from gtfparse import read_gtf\n",
    "from scipy.stats import mannwhitneyu\n",
    "from statsmodels.stats.multitest import fdrcorrection"
   ]
  },
  {
   "cell_type": "code",
   "execution_count": 2,
   "metadata": {
    "execution": {
     "iopub.execute_input": "2021-08-16T23:18:05.044865Z",
     "iopub.status.busy": "2021-08-16T23:18:05.043606Z",
     "iopub.status.idle": "2021-08-16T23:18:05.046174Z",
     "shell.execute_reply": "2021-08-16T23:18:05.047189Z"
    }
   },
   "outputs": [],
   "source": [
    "environ['NUMEXPR_MAX_THREADS'] = '16'"
   ]
  },
  {
   "cell_type": "code",
   "execution_count": 3,
   "metadata": {
    "execution": {
     "iopub.execute_input": "2021-08-16T23:18:05.054646Z",
     "iopub.status.busy": "2021-08-16T23:18:05.053384Z",
     "iopub.status.idle": "2021-08-16T23:18:05.055966Z",
     "shell.execute_reply": "2021-08-16T23:18:05.056986Z"
    }
   },
   "outputs": [],
   "source": [
    "@functools.lru_cache()\n",
    "def get_res_df(feature):\n",
    "    return pd.read_csv('../../../../../interaction_model/hippocampus/_m/%s/residualized_expression.tsv' % \n",
    "                       feature, sep='\\t').T\n",
    "\n",
    "\n",
    "@functools.lru_cache()\n",
    "def get_pheno_df():\n",
    "    return pd.read_csv('/ceph/projects/v3_phase3_paper/inputs/phenotypes/_m/hippo_phenotypes.csv', \n",
    "                       index_col=0)\n",
    "\n",
    "\n",
    "@functools.lru_cache()\n",
    "def get_res_pheno_df(feature):\n",
    "    return pd.merge(get_pheno_df(), get_res_df(feature), left_index=True, right_index=True)\n",
    "\n",
    "\n",
    "@functools.lru_cache()\n",
    "def get_gtf(gtf_file):\n",
    "    return read_gtf(gtf_file)"
   ]
  },
  {
   "cell_type": "code",
   "execution_count": 4,
   "metadata": {
    "execution": {
     "iopub.execute_input": "2021-08-16T23:18:05.069737Z",
     "iopub.status.busy": "2021-08-16T23:18:05.068454Z",
     "iopub.status.idle": "2021-08-16T23:18:05.071090Z",
     "shell.execute_reply": "2021-08-16T23:18:05.072110Z"
    }
   },
   "outputs": [],
   "source": [
    "def map_features(feature):\n",
    "    return {\"genes\": \"gene\", 'transcripts': 'tx', \n",
    "            'exons': 'exon', 'junctions': 'jxn'}[feature]\n",
    "\n",
    "\n",
    "def gene_annot(feature):\n",
    "    gtf_file = '/ceph/genome/human/gencode25/gtf.CHR/_m/gencode.v25.annotation.gtf'\n",
    "    gtf0 = get_gtf(gtf_file)\n",
    "    gtf = gtf0[(gtf0[\"feature\"] == feature)]\n",
    "    return gtf[[\"gene_id\", \"gene_name\", \"transcript_id\", \"exon_id\", \"gene_type\", \n",
    "                \"seqname\", \"start\", \"end\", \"strand\"]]\n",
    "\n",
    "\n",
    "def get_de(feature):\n",
    "    f = pd.read_csv('../../../female_analysis/_m/%s/diffExpr_szVctl_full.txt' % feature, \n",
    "                    sep='\\t', index_col=0)\\\n",
    "          .rename(columns={'gencodeGeneID': 'gencodeID'})\n",
    "    m = pd.read_csv('../../../male_analysis/_m/%s/diffExpr_szVctl_full.txt' % feature, \n",
    "                    sep='\\t', index_col=0)\\\n",
    "          .rename(columns={'gencodeGeneID': 'gencodeID'})\n",
    "    return f, m\n",
    "\n",
    "\n",
    "def get_unique(x, y, thres=0.05):\n",
    "    return x.merge(pd.DataFrame(index = list(set(x[(x['adj.P.Val'] <= thres)].index) - \n",
    "                                             set(y[(y['adj.P.Val'] <= thres)].index))), \n",
    "                   left_index=True, right_index=True)\n",
    "\n",
    "\n",
    "def subset_sz_female(feature):\n",
    "    df = get_res_pheno_df(feature)\n",
    "    ctl = df[(df['Dx'] == 'Control') & (df['Sex'] == 'F')].copy()\n",
    "    sz = df[(df['Dx'] == 'Schizo') & (df['Sex'] == 'F')].copy()\n",
    "    return ctl, sz\n",
    "\n",
    "\n",
    "def add_pvals_adjustPval(feature, df):\n",
    "    ctl, sz = subset_sz_female(feature)\n",
    "    f_pval = []\n",
    "    for gene_id in df.Feature:\n",
    "        stat, pval = mannwhitneyu(ctl[gene_id], sz[gene_id])\n",
    "        f_pval.append(pval)\n",
    "    fdr_f = fdrcorrection(f_pval)\n",
    "    return pd.concat([df.set_index('Feature'), \n",
    "                      pd.DataFrame({'Female_Pval': f_pval, 'Female_FDR': fdr_f[1]}, \n",
    "                                   index=df.Feature)], axis=1)"
   ]
  },
  {
   "cell_type": "markdown",
   "metadata": {},
   "source": [
    "## Genes"
   ]
  },
  {
   "cell_type": "code",
   "execution_count": 5,
   "metadata": {
    "execution": {
     "iopub.execute_input": "2021-08-16T23:18:05.078057Z",
     "iopub.status.busy": "2021-08-16T23:18:05.076785Z",
     "iopub.status.idle": "2021-08-16T23:19:17.362711Z",
     "shell.execute_reply": "2021-08-16T23:19:17.361541Z"
    }
   },
   "outputs": [
    {
     "name": "stderr",
     "output_type": "stream",
     "text": [
      "INFO:root:Extracted GTF attributes: ['gene_id', 'gene_type', 'gene_status', 'gene_name', 'level', 'havana_gene', 'transcript_id', 'transcript_type', 'transcript_status', 'transcript_name', 'transcript_support_level', 'tag', 'havana_transcript', 'exon_number', 'exon_id', 'ont', 'protein_id', 'ccdsid']\n"
     ]
    }
   ],
   "source": [
    "gtf_annot = gene_annot('gene')"
   ]
  },
  {
   "cell_type": "code",
   "execution_count": 6,
   "metadata": {
    "execution": {
     "iopub.execute_input": "2021-08-16T23:19:17.371005Z",
     "iopub.status.busy": "2021-08-16T23:19:17.369746Z",
     "iopub.status.idle": "2021-08-16T23:19:19.563653Z",
     "shell.execute_reply": "2021-08-16T23:19:19.564737Z"
    }
   },
   "outputs": [
    {
     "data": {
      "text/plain": [
       "(104, 10)"
      ]
     },
     "execution_count": 1,
     "metadata": {},
     "output_type": "execute_result"
    }
   ],
   "source": [
    "f, m = get_de('genes')\n",
    "m['Feature'] = m.index\n",
    "#genes = get_unique(get_unique(m, f), a)\n",
    "genes = get_unique(m, f)\n",
    "genes = pd.merge(gtf_annot[['gene_id', 'seqname']], genes, left_on='gene_id', \n",
    "                 right_on='Feature', how='right').rename(columns={'seqname': 'Chrom'})\n",
    "genes = genes[['Feature', 'gencodeID', 'Symbol', 'ensemblID', \n",
    "               'Chrom', 'logFC', 't', 'adj.P.Val']].sort_values('adj.P.Val')\n",
    "genes = add_pvals_adjustPval('genes', genes)\n",
    "genes = genes[~(genes['Female_Pval'] <= 0.05)].sort_values('adj.P.Val') ## Stringents\n",
    "genes['Type'] = 'gene'\n",
    "genes.shape"
   ]
  },
  {
   "cell_type": "markdown",
   "metadata": {},
   "source": [
    "## Transcripts"
   ]
  },
  {
   "cell_type": "code",
   "execution_count": 7,
   "metadata": {
    "execution": {
     "iopub.execute_input": "2021-08-16T23:19:19.726958Z",
     "iopub.status.busy": "2021-08-16T23:19:19.725683Z",
     "iopub.status.idle": "2021-08-16T23:19:19.895391Z",
     "shell.execute_reply": "2021-08-16T23:19:19.894262Z"
    }
   },
   "outputs": [],
   "source": [
    "gtf_annot = gene_annot('transcript')"
   ]
  },
  {
   "cell_type": "code",
   "execution_count": 8,
   "metadata": {
    "execution": {
     "iopub.execute_input": "2021-08-16T23:19:19.903513Z",
     "iopub.status.busy": "2021-08-16T23:19:19.902285Z",
     "iopub.status.idle": "2021-08-16T23:19:27.418549Z",
     "shell.execute_reply": "2021-08-16T23:19:27.419604Z"
    }
   },
   "outputs": [
    {
     "data": {
      "text/plain": [
       "(17, 10)"
      ]
     },
     "execution_count": 1,
     "metadata": {},
     "output_type": "execute_result"
    }
   ],
   "source": [
    "f, m = get_de('transcripts')\n",
    "m['Feature'] = m.index\n",
    "m['ensemblID'] = m.gene_id.str.replace('\\\\.\\d+', '', regex=True)\n",
    "#trans = get_unique(get_unique(m, f), a)\n",
    "trans = get_unique(m, f)\n",
    "trans = pd.merge(gtf_annot[['transcript_id', 'seqname']], trans, \n",
    "                 left_on='transcript_id', right_on=\"Feature\", \n",
    "                 how='right').rename(columns={'seqname': 'Chrom'})\n",
    "trans = trans[['Feature', 'gene_id', 'Symbol', 'ensemblID', 'Chrom', \n",
    "               'logFC', 't', 'adj.P.Val']].rename(columns={'gene_id': 'gencodeID'})\n",
    "trans = add_pvals_adjustPval('transcripts', trans)\n",
    "trans = trans[~(trans['Female_Pval'] <= 0.05)].sort_values('adj.P.Val') ## Stringents\n",
    "trans['Type'] = 'transcript'\n",
    "trans.shape"
   ]
  },
  {
   "cell_type": "markdown",
   "metadata": {},
   "source": [
    "### Exons"
   ]
  },
  {
   "cell_type": "code",
   "execution_count": 9,
   "metadata": {
    "execution": {
     "iopub.execute_input": "2021-08-16T23:19:27.603805Z",
     "iopub.status.busy": "2021-08-16T23:19:27.602549Z",
     "iopub.status.idle": "2021-08-16T23:19:29.214326Z",
     "shell.execute_reply": "2021-08-16T23:19:29.213079Z"
    }
   },
   "outputs": [],
   "source": [
    "gtf_annot = gene_annot('exon')\n",
    "gtf_annot['ensemblID'] = gtf_annot.gene_id.str.replace('\\\\.\\d+', '', regex=True)"
   ]
  },
  {
   "cell_type": "code",
   "execution_count": 10,
   "metadata": {
    "execution": {
     "iopub.execute_input": "2021-08-16T23:19:29.222074Z",
     "iopub.status.busy": "2021-08-16T23:19:29.220817Z",
     "iopub.status.idle": "2021-08-16T23:19:57.804978Z",
     "shell.execute_reply": "2021-08-16T23:19:57.806038Z"
    }
   },
   "outputs": [
    {
     "data": {
      "text/plain": [
       "(113, 10)"
      ]
     },
     "execution_count": 1,
     "metadata": {},
     "output_type": "execute_result"
    }
   ],
   "source": [
    "f, m = get_de('exons')\n",
    "m['Feature'] = m.index\n",
    "#exons = get_unique(get_unique(m, f), a)\n",
    "exons = get_unique(m, f)\n",
    "exons = pd.merge(gtf_annot[['ensemblID', 'seqname']], exons, \n",
    "                 on='ensemblID', how='right').rename(columns={'seqname': 'Chrom'})\n",
    "exons = exons[['Feature', 'gencodeID', 'Symbol', 'ensemblID', 'Chrom',\n",
    "               'logFC', 't', 'adj.P.Val']].sort_values('adj.P.Val')\\\n",
    "        .groupby('Feature').first().reset_index()\n",
    "exons = add_pvals_adjustPval('exons', exons)\n",
    "exons = exons[~(exons['Female_Pval'] <= 0.05)].sort_values('adj.P.Val') ## Stringents\n",
    "exons['Type'] = 'exon'\n",
    "exons.shape"
   ]
  },
  {
   "cell_type": "markdown",
   "metadata": {},
   "source": [
    "### Junctions"
   ]
  },
  {
   "cell_type": "code",
   "execution_count": 11,
   "metadata": {
    "execution": {
     "iopub.execute_input": "2021-08-16T23:19:57.814499Z",
     "iopub.status.busy": "2021-08-16T23:19:57.813221Z",
     "iopub.status.idle": "2021-08-16T23:20:10.535590Z",
     "shell.execute_reply": "2021-08-16T23:20:10.536651Z"
    }
   },
   "outputs": [
    {
     "data": {
      "text/plain": [
       "(3, 10)"
      ]
     },
     "execution_count": 1,
     "metadata": {},
     "output_type": "execute_result"
    }
   ],
   "source": [
    "f, m = get_de('junctions')\n",
    "m['Feature'] = m.index\n",
    "#juncs = get_unique(get_unique(m, f), a)\n",
    "juncs = get_unique(m, f)\n",
    "juncs = pd.merge(gtf_annot[['ensemblID', 'seqname']], juncs, \n",
    "                 on='ensemblID', how='right').rename(columns={'seqname': 'Chrom'})\n",
    "juncs = juncs[['Feature', 'gencodeID', 'Symbol', 'ensemblID', 'Chrom',\n",
    "               'logFC', 't', 'adj.P.Val']].sort_values('adj.P.Val')\\\n",
    "        .groupby('Feature').first().reset_index()\n",
    "juncs = add_pvals_adjustPval('junctions', juncs)\n",
    "juncs['Type'] = 'junction'\n",
    "juncs = juncs[~(juncs['Female_Pval'] <= 0.05)].sort_values('adj.P.Val') ## Stringents\n",
    "juncs.shape"
   ]
  },
  {
   "cell_type": "markdown",
   "metadata": {},
   "source": [
    "## DE summary"
   ]
  },
  {
   "cell_type": "markdown",
   "metadata": {},
   "source": [
    "### DE (feature)"
   ]
  },
  {
   "cell_type": "code",
   "execution_count": 12,
   "metadata": {
    "execution": {
     "iopub.execute_input": "2021-08-16T23:20:10.543744Z",
     "iopub.status.busy": "2021-08-16T23:20:10.542496Z",
     "iopub.status.idle": "2021-08-16T23:20:10.547769Z",
     "shell.execute_reply": "2021-08-16T23:20:10.546646Z"
    }
   },
   "outputs": [
    {
     "name": "stdout",
     "output_type": "stream",
     "text": [
      "\n",
      "Gene:\t\t104\n",
      "Transcript:\t17\n",
      "Exon:\t\t113\n",
      "Junction:\t3\n"
     ]
    }
   ],
   "source": [
    "gg = len(set(genes.index))\n",
    "tt = len(set(trans.index))\n",
    "ee = len(set(exons.index))\n",
    "jj = len(set(juncs.index))\n",
    "\n",
    "print(\"\\nGene:\\t\\t%d\\nTranscript:\\t%d\\nExon:\\t\\t%d\\nJunction:\\t%d\" % \n",
    "      (gg, tt, ee, jj)) "
   ]
  },
  {
   "cell_type": "markdown",
   "metadata": {},
   "source": [
    "#### DE (EnsemblID)"
   ]
  },
  {
   "cell_type": "code",
   "execution_count": 13,
   "metadata": {
    "execution": {
     "iopub.execute_input": "2021-08-16T23:20:10.555235Z",
     "iopub.status.busy": "2021-08-16T23:20:10.553999Z",
     "iopub.status.idle": "2021-08-16T23:20:10.558167Z",
     "shell.execute_reply": "2021-08-16T23:20:10.559187Z"
    }
   },
   "outputs": [
    {
     "name": "stdout",
     "output_type": "stream",
     "text": [
      "\n",
      "Gene:\t\t104\n",
      "Transcript:\t15\n",
      "Exon:\t\t50\n",
      "Junction:\t3\n"
     ]
    }
   ],
   "source": [
    "gg = len(set(genes['ensemblID']))\n",
    "tt = len(set(trans['ensemblID']))\n",
    "ee = len(set(exons['ensemblID']))\n",
    "jj = len(set(juncs['ensemblID']))\n",
    "\n",
    "print(\"\\nGene:\\t\\t%d\\nTranscript:\\t%d\\nExon:\\t\\t%d\\nJunction:\\t%d\" % \n",
    "      (gg, tt, ee, jj)) "
   ]
  },
  {
   "cell_type": "markdown",
   "metadata": {},
   "source": [
    "#### DE (Gene Symbol)"
   ]
  },
  {
   "cell_type": "code",
   "execution_count": 14,
   "metadata": {
    "execution": {
     "iopub.execute_input": "2021-08-16T23:20:10.566543Z",
     "iopub.status.busy": "2021-08-16T23:20:10.565295Z",
     "iopub.status.idle": "2021-08-16T23:20:10.570572Z",
     "shell.execute_reply": "2021-08-16T23:20:10.569446Z"
    }
   },
   "outputs": [
    {
     "name": "stdout",
     "output_type": "stream",
     "text": [
      "\n",
      "Gene:\t\t88\n",
      "Transcript:\t15\n",
      "Exon:\t\t47\n",
      "Junction:\t3\n"
     ]
    }
   ],
   "source": [
    "gg = len(set(genes['Symbol']))\n",
    "tt = len(set(trans['Symbol']))\n",
    "ee = len(set(exons['Symbol']))\n",
    "jj = len(set(juncs['Symbol']))\n",
    "\n",
    "print(\"\\nGene:\\t\\t%d\\nTranscript:\\t%d\\nExon:\\t\\t%d\\nJunction:\\t%d\" % \n",
    "      (gg, tt, ee, jj)) "
   ]
  },
  {
   "cell_type": "markdown",
   "metadata": {},
   "source": [
    "### Feature effect size summary"
   ]
  },
  {
   "cell_type": "code",
   "execution_count": 15,
   "metadata": {
    "execution": {
     "iopub.execute_input": "2021-08-16T23:20:10.584498Z",
     "iopub.status.busy": "2021-08-16T23:20:10.583236Z",
     "iopub.status.idle": "2021-08-16T23:20:10.587440Z",
     "shell.execute_reply": "2021-08-16T23:20:10.588451Z"
    }
   },
   "outputs": [
    {
     "name": "stdout",
     "output_type": "stream",
     "text": [
      "\n",
      "There are 31 unique Genes with abs(log2FC) >= 0.5\n",
      "There are 1 unique Genes with abs(log2FC) >= 1\n",
      "\n",
      "There are 13 unique Transcript with abs(log2FC) >= 0.5\n",
      "There are 3 unique Transcript with abs(log2FC) >= 1\n",
      "\n",
      "There are 61 unique Exons with abs(log2FC) >= 0.5\n",
      "There are 3 unique Exons with abs(log2FC) >= 1\n",
      "\n",
      "There are 3 unique Junctions with abs(log2FC) >= 0.5\n",
      "There are 1 unique Junctions with abs(log2FC) >= 1\n"
     ]
    }
   ],
   "source": [
    "feature_list = ['Genes', 'Transcript', 'Exons', 'Junctions']\n",
    "feature_df = [genes, trans, exons, juncs]\n",
    "for ii in range(4):\n",
    "    ff = feature_df[ii]\n",
    "    half = len(set(ff[(np.abs(ff['logFC']) >= 0.5)].index))\n",
    "    one = len(set(ff[(np.abs(ff['logFC']) >= 1)].index))\n",
    "    print(\"\\nThere are %d unique %s with abs(log2FC) >= 0.5\" % (half, feature_list[ii]))\n",
    "    print(\"There are %d unique %s with abs(log2FC) >= 1\" % (one, feature_list[ii]))"
   ]
  },
  {
   "cell_type": "code",
   "execution_count": 16,
   "metadata": {
    "execution": {
     "iopub.execute_input": "2021-08-16T23:20:10.600853Z",
     "iopub.status.busy": "2021-08-16T23:20:10.596489Z",
     "iopub.status.idle": "2021-08-16T23:20:10.604585Z",
     "shell.execute_reply": "2021-08-16T23:20:10.605611Z"
    }
   },
   "outputs": [
    {
     "name": "stdout",
     "output_type": "stream",
     "text": [
      "\n",
      "There are 31 unique Genes with abs(log2FC) >= 0.5\n",
      "There are 1 unique Genes with abs(log2FC) >= 1\n",
      "\n",
      "There are 11 unique Transcripts with abs(log2FC) >= 0.5\n",
      "There are 3 unique Transcripts with abs(log2FC) >= 1\n",
      "\n",
      "There are 23 unique Exons with abs(log2FC) >= 0.5\n",
      "There are 1 unique Exons with abs(log2FC) >= 1\n",
      "\n",
      "There are 3 unique Junctions with abs(log2FC) >= 0.5\n",
      "There are 1 unique Junctions with abs(log2FC) >= 1\n"
     ]
    }
   ],
   "source": [
    "feature_list = ['Genes', 'Transcripts', 'Exons', 'Junctions']\n",
    "feature_df = [genes, trans, exons, juncs]\n",
    "for ii in range(4):\n",
    "    ff = feature_df[ii]\n",
    "    half = len(set(ff[(np.abs(ff['logFC']) >= 0.5)].ensemblID))\n",
    "    one = len(set(ff[(np.abs(ff['logFC']) >= 1)].ensemblID))\n",
    "    print(\"\\nThere are %d unique %s with abs(log2FC) >= 0.5\" % (half, feature_list[ii]))\n",
    "    print(\"There are %d unique %s with abs(log2FC) >= 1\" % (one, feature_list[ii]))"
   ]
  },
  {
   "cell_type": "code",
   "execution_count": 17,
   "metadata": {
    "execution": {
     "iopub.execute_input": "2021-08-16T23:20:10.616493Z",
     "iopub.status.busy": "2021-08-16T23:20:10.615259Z",
     "iopub.status.idle": "2021-08-16T23:20:10.623978Z",
     "shell.execute_reply": "2021-08-16T23:20:10.625023Z"
    }
   },
   "outputs": [],
   "source": [
    "df = pd.concat([genes.reset_index(), trans.reset_index(), \n",
    "                exons.reset_index(), juncs.reset_index()], axis=0)\n",
    "df.to_csv('male_specific_DE_4features.txt', sep='\\t', index=False, header=True)"
   ]
  },
  {
   "cell_type": "markdown",
   "metadata": {},
   "source": [
    "## Number of DEGs on allosomes"
   ]
  },
  {
   "cell_type": "code",
   "execution_count": 18,
   "metadata": {
    "execution": {
     "iopub.execute_input": "2021-08-16T23:20:10.636005Z",
     "iopub.status.busy": "2021-08-16T23:20:10.634732Z",
     "iopub.status.idle": "2021-08-16T23:20:10.639042Z",
     "shell.execute_reply": "2021-08-16T23:20:10.640056Z"
    }
   },
   "outputs": [
    {
     "data": {
      "text/plain": [
       "Type  Chrom\n",
       "gene  chrX     3\n",
       "dtype: int64"
      ]
     },
     "execution_count": 1,
     "metadata": {},
     "output_type": "execute_result"
    }
   ],
   "source": [
    "df[(df['Chrom'].isin(['chrX', 'chrY']))].groupby(['Type', 'Chrom']).size()"
   ]
  },
  {
   "cell_type": "code",
   "execution_count": null,
   "metadata": {},
   "outputs": [],
   "source": []
  }
 ],
 "metadata": {
  "kernelspec": {
   "display_name": "Python 3",
   "language": "python",
   "name": "python3"
  },
  "language_info": {
   "codemirror_mode": {
    "name": "ipython",
    "version": 3
   },
   "file_extension": ".py",
   "mimetype": "text/x-python",
   "name": "python",
   "nbconvert_exporter": "python",
   "pygments_lexer": "ipython3",
   "version": "3.9.1"
  }
 },
 "nbformat": 4,
 "nbformat_minor": 4
}
