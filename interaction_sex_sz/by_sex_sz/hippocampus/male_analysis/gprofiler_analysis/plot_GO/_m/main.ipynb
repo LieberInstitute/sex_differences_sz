{
 "cells": [
  {
   "cell_type": "markdown",
   "metadata": {},
   "source": [
    "# Visualize GO analysis"
   ]
  },
  {
   "cell_type": "code",
   "execution_count": 1,
   "metadata": {
    "execution": {
     "iopub.execute_input": "2021-07-14T22:02:24.821121Z",
     "iopub.status.busy": "2021-07-14T22:02:24.818924Z",
     "iopub.status.idle": "2021-07-14T22:02:25.116108Z",
     "shell.execute_reply": "2021-07-14T22:02:25.114819Z"
    }
   },
   "outputs": [],
   "source": [
    "import numpy as np\n",
    "import pandas as pd"
   ]
  },
  {
   "cell_type": "code",
   "execution_count": 2,
   "metadata": {
    "execution": {
     "iopub.execute_input": "2021-07-14T22:02:25.122890Z",
     "iopub.status.busy": "2021-07-14T22:02:25.121660Z",
     "iopub.status.idle": "2021-07-14T22:02:25.124210Z",
     "shell.execute_reply": "2021-07-14T22:02:25.125221Z"
    }
   },
   "outputs": [],
   "source": [
    "def get_top_GO(tissue, fn, label):\n",
    "    df = pd.read_csv(fn, sep='\\t').sort_values('p_value').head(10)\n",
    "    df['Log10'] = -np.log10(df['p_value'])\n",
    "    df['Tissue'] = tissue\n",
    "    df['Direction'] = label\n",
    "    return df"
   ]
  },
  {
   "cell_type": "code",
   "execution_count": 3,
   "metadata": {
    "execution": {
     "iopub.execute_input": "2021-07-14T22:02:25.132988Z",
     "iopub.status.busy": "2021-07-14T22:02:25.131743Z",
     "iopub.status.idle": "2021-07-14T22:02:25.167923Z",
     "shell.execute_reply": "2021-07-14T22:02:25.166718Z"
    }
   },
   "outputs": [
    {
     "data": {
      "text/plain": [
       "(30, 17)"
      ]
     },
     "execution_count": 1,
     "metadata": {},
     "output_type": "execute_result"
    }
   ],
   "source": [
    "tissue = 'hippocampus'\n",
    "config = {\n",
    "    'All': '../../_m/DEGs_functional_enrichment.tsv',\n",
    "    'Up': '../../_m/upreg_DEGs_functional_enrichment.tsv',\n",
    "    'Down': '../../_m/downreg_DEGs_functional_enrichment.tsv',\n",
    "}\n",
    "\n",
    "df = pd.DataFrame()\n",
    "for bias in ['All', 'Up', 'Down']:\n",
    "    df = pd.concat([df, get_top_GO(tissue, config[bias], bias)], axis=0)\n",
    "\n",
    "df.shape"
   ]
  },
  {
   "cell_type": "code",
   "execution_count": 4,
   "metadata": {
    "execution": {
     "iopub.execute_input": "2021-07-14T22:02:25.174382Z",
     "iopub.status.busy": "2021-07-14T22:02:25.172861Z",
     "iopub.status.idle": "2021-07-14T22:02:25.180324Z",
     "shell.execute_reply": "2021-07-14T22:02:25.179036Z"
    }
   },
   "outputs": [],
   "source": [
    "df.to_csv(\"%s_functional_analysis.tsv\" % tissue, sep='\\t', index=False)"
   ]
  },
  {
   "cell_type": "markdown",
   "metadata": {},
   "source": [
    "## Plot "
   ]
  },
  {
   "cell_type": "code",
   "execution_count": 5,
   "metadata": {
    "execution": {
     "iopub.execute_input": "2021-07-14T22:02:25.186545Z",
     "iopub.status.busy": "2021-07-14T22:02:25.185300Z",
     "iopub.status.idle": "2021-07-14T22:02:26.037794Z",
     "shell.execute_reply": "2021-07-14T22:02:26.036441Z"
    }
   },
   "outputs": [],
   "source": [
    "%load_ext rpy2.ipython"
   ]
  },
  {
   "cell_type": "code",
   "execution_count": 6,
   "metadata": {
    "execution": {
     "iopub.execute_input": "2021-07-14T22:02:26.045545Z",
     "iopub.status.busy": "2021-07-14T22:02:26.044131Z",
     "iopub.status.idle": "2021-07-14T22:02:27.871740Z",
     "shell.execute_reply": "2021-07-14T22:02:27.872815Z"
    }
   },
   "outputs": [
    {
     "name": "stderr",
     "output_type": "stream",
     "text": [
      "R[write to console]: ── Attaching packages ─────────────────────────────────────── tidyverse 1.3.1 ──\n",
      "\n",
      "R[write to console]: ✔ tibble  3.1.2     ✔ dplyr   1.0.7\n",
      "✔ tidyr   1.1.3     ✔ stringr 1.4.0\n",
      "✔ readr   1.4.0     ✔ forcats 0.5.1\n",
      "✔ purrr   0.3.4     \n",
      "\n",
      "R[write to console]: ── Conflicts ────────────────────────────────────────── tidyverse_conflicts() ──\n",
      "✖ dplyr::filter() masks stats::filter()\n",
      "✖ dplyr::lag()    masks stats::lag()\n",
      "\n"
     ]
    }
   ],
   "source": [
    "%%R -i df\n",
    "library(ggplot2)\n",
    "library(tidyverse)\n",
    "\n",
    "save_plot <- function(p, fn, w, h){\n",
    "    for(ext in c('.svg', '.png', '.pdf')){\n",
    "        ggsave(file=paste0(fn,ext), plot=p, width=w, height=h)\n",
    "    }\n",
    "}\n",
    "\n",
    "plot_GO <- function(){\n",
    "    cbPalette <- c(\"#000000\", \"Red\", \"Blue\")\n",
    "    gg1 = df %>%\n",
    "        ggplot(aes(x=Log10, y=term_name, color=Direction)) + \n",
    "        geom_point(shape=18, alpha=0.8, size=4) + labs(y='', x='-Log10 (p adjust)') + \n",
    "        theme_bw() + \n",
    "        scale_colour_manual(name=\"Direction\", values=cbPalette, \n",
    "                            labels=c(\"All\", \"Upregulated in SZ\", \"Downregulated in SZ\")) +\n",
    "        geom_vline(xintercept = -log10(0.05), linetype = \"dotted\") +\n",
    "        theme(axis.text=element_text(size=14),\n",
    "              axis.title=element_text(size=18, face='bold'),\n",
    "              strip.text=element_text(size=18, face='bold'))\n",
    "    return(gg1)\n",
    "}"
   ]
  },
  {
   "cell_type": "code",
   "execution_count": 7,
   "metadata": {
    "execution": {
     "iopub.execute_input": "2021-07-14T22:02:27.882024Z",
     "iopub.status.busy": "2021-07-14T22:02:27.880806Z",
     "iopub.status.idle": "2021-07-14T22:02:29.403822Z",
     "shell.execute_reply": "2021-07-14T22:02:29.404876Z"
    }
   },
   "outputs": [
    {
     "data": {
      "image/png": "[encoded data removed]"
     },
     "metadata": {},
     "output_type": "display_data"
    }
   ],
   "source": [
    "%%R\n",
    "gg1 = plot_GO()\n",
    "print(gg1)\n",
    "save_plot(gg1, \"hippocampus_GO_top10_stacked\", 10, 6)"
   ]
  },
  {
   "cell_type": "code",
   "execution_count": null,
   "metadata": {},
   "outputs": [],
   "source": []
  }
 ],
 "metadata": {
  "kernelspec": {
   "display_name": "Python 3",
   "language": "python",
   "name": "python3"
  },
  "language_info": {
   "codemirror_mode": {
    "name": "ipython",
    "version": 3
   },
   "file_extension": ".py",
   "mimetype": "text/x-python",
   "name": "python",
   "nbconvert_exporter": "python",
   "pygments_lexer": "ipython3",
   "version": "3.9.1"
  }
 },
 "nbformat": 4,
 "nbformat_minor": 4
}
