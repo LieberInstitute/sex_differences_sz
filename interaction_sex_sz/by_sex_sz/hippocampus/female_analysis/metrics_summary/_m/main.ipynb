{
 "cells": [
  {
   "cell_type": "markdown",
   "metadata": {},
   "source": [
    "# Extract unique female specific SZ-associated genes"
   ]
  },
  {
   "cell_type": "code",
   "execution_count": 1,
   "metadata": {
    "execution": {
     "iopub.execute_input": "2021-08-16T22:55:59.942701Z",
     "iopub.status.busy": "2021-08-16T22:55:59.941205Z",
     "iopub.status.idle": "2021-08-16T22:56:00.528130Z",
     "shell.execute_reply": "2021-08-16T22:56:00.526706Z"
    }
   },
   "outputs": [],
   "source": [
    "import functools\n",
    "import numpy as np\n",
    "import pandas as pd\n",
    "from os import environ\n",
    "from gtfparse import read_gtf\n",
    "from scipy.stats import mannwhitneyu\n",
    "from statsmodels.stats.multitest import fdrcorrection"
   ]
  },
  {
   "cell_type": "code",
   "execution_count": 2,
   "metadata": {
    "execution": {
     "iopub.execute_input": "2021-08-16T22:56:00.534338Z",
     "iopub.status.busy": "2021-08-16T22:56:00.533048Z",
     "iopub.status.idle": "2021-08-16T22:56:00.535658Z",
     "shell.execute_reply": "2021-08-16T22:56:00.536691Z"
    }
   },
   "outputs": [],
   "source": [
    "environ['NUMEXPR_MAX_THREADS'] = '16'"
   ]
  },
  {
   "cell_type": "code",
   "execution_count": 3,
   "metadata": {
    "execution": {
     "iopub.execute_input": "2021-08-16T22:56:00.544461Z",
     "iopub.status.busy": "2021-08-16T22:56:00.543156Z",
     "iopub.status.idle": "2021-08-16T22:56:00.545779Z",
     "shell.execute_reply": "2021-08-16T22:56:00.546798Z"
    }
   },
   "outputs": [],
   "source": [
    "@functools.lru_cache()\n",
    "def get_res_df(feature):\n",
    "    return pd.read_csv('../../../../../interaction_model/hippocampus/_m/%s/residualized_expression.tsv' % \n",
    "                       feature, sep='\\t').T\n",
    "\n",
    "\n",
    "@functools.lru_cache()\n",
    "def get_pheno_df():\n",
    "    return pd.read_csv('/ceph/projects/v3_phase3_paper/inputs/phenotypes/_m/hippo_phenotypes.csv', \n",
    "                       index_col=0)\n",
    "\n",
    "\n",
    "@functools.lru_cache()\n",
    "def get_res_pheno_df(feature):\n",
    "    return pd.merge(get_pheno_df(), get_res_df(feature), left_index=True, right_index=True)\n",
    "\n",
    "\n",
    "@functools.lru_cache()\n",
    "def get_gtf(gtf_file):\n",
    "    return read_gtf(gtf_file)"
   ]
  },
  {
   "cell_type": "code",
   "execution_count": 4,
   "metadata": {
    "execution": {
     "iopub.execute_input": "2021-08-16T22:56:00.559479Z",
     "iopub.status.busy": "2021-08-16T22:56:00.558168Z",
     "iopub.status.idle": "2021-08-16T22:56:00.560860Z",
     "shell.execute_reply": "2021-08-16T22:56:00.561893Z"
    }
   },
   "outputs": [],
   "source": [
    "def map_features(feature):\n",
    "    return {\"genes\": \"gene\", 'transcripts': 'tx', \n",
    "            'exons': 'exon', 'junctions': 'jxn'}[feature]\n",
    "\n",
    "\n",
    "def gene_annot(feature):\n",
    "    gtf_file = '/ceph/genome/human/gencode25/gtf.CHR/_m/gencode.v25.annotation.gtf'\n",
    "    gtf0 = get_gtf(gtf_file)\n",
    "    gtf = gtf0[(gtf0[\"feature\"] == feature)]\n",
    "    return gtf[[\"gene_id\", \"gene_name\", \"transcript_id\", \"exon_id\", \n",
    "                \"gene_type\", \"seqname\", \"start\", \"end\", \"strand\"]]\n",
    "\n",
    "\n",
    "def get_de(feature):\n",
    "    f = pd.read_csv('../../../female_analysis/_m/%s/diffExpr_szVctl_full.txt' % feature, \n",
    "                    sep='\\t', index_col=0)\\\n",
    "          .rename(columns={'gencodeGeneID': 'gencodeID'})\n",
    "    m = pd.read_csv('../../../male_analysis/_m/%s/diffExpr_szVctl_full.txt' % feature, \n",
    "                    sep='\\t', index_col=0)\\\n",
    "          .rename(columns={'gencodeGeneID': 'gencodeID'})\n",
    "    return f, m\n",
    "\n",
    "\n",
    "def get_unique(x, y, thres=0.05):\n",
    "    return x.merge(pd.DataFrame(index = list(set(x[(x['adj.P.Val'] <= thres)].index) - \n",
    "                                             set(y[(y['adj.P.Val'] <= thres)].index))), \n",
    "                   left_index=True, right_index=True)\n",
    "\n",
    "\n",
    "def subset_sz_male(feature):\n",
    "    df = get_res_pheno_df(feature)\n",
    "    ctl = df[(df['Dx'] == 'Control') & (df['Sex'] == 'M')].copy()\n",
    "    sz = df[(df['Dx'] == 'Schizo') & (df['Sex'] == 'M')].copy()\n",
    "    return ctl, sz\n",
    "\n",
    "\n",
    "def add_pvals_adjustPval(feature, df):\n",
    "    ctl, sz = subset_sz_male(feature)\n",
    "    pval_df = []\n",
    "    for gene_id in df.Feature:\n",
    "        stat, pval = mannwhitneyu(ctl[gene_id], sz[gene_id])\n",
    "        pval_df.append(pval)\n",
    "    fdr_df = fdrcorrection(pval_df)\n",
    "    return pd.concat([df.set_index('Feature'), \n",
    "                      pd.DataFrame({'Male_Pval': pval_df, 'Male_FDR': fdr_df[1]}, \n",
    "                                   index=df.Feature)], axis=1)"
   ]
  },
  {
   "cell_type": "markdown",
   "metadata": {},
   "source": [
    "## Genes"
   ]
  },
  {
   "cell_type": "code",
   "execution_count": 5,
   "metadata": {
    "execution": {
     "iopub.execute_input": "2021-08-16T22:56:00.567632Z",
     "iopub.status.busy": "2021-08-16T22:56:00.566310Z",
     "iopub.status.idle": "2021-08-16T22:57:13.320023Z",
     "shell.execute_reply": "2021-08-16T22:57:13.318660Z"
    }
   },
   "outputs": [
    {
     "name": "stderr",
     "output_type": "stream",
     "text": [
      "INFO:root:Extracted GTF attributes: ['gene_id', 'gene_type', 'gene_status', 'gene_name', 'level', 'havana_gene', 'transcript_id', 'transcript_type', 'transcript_status', 'transcript_name', 'transcript_support_level', 'tag', 'havana_transcript', 'exon_number', 'exon_id', 'ont', 'protein_id', 'ccdsid']\n"
     ]
    }
   ],
   "source": [
    "gtf_annot = gene_annot('gene')\n",
    "f, m = get_de('genes')"
   ]
  },
  {
   "cell_type": "code",
   "execution_count": 6,
   "metadata": {
    "execution": {
     "iopub.execute_input": "2021-08-16T22:57:13.332408Z",
     "iopub.status.busy": "2021-08-16T22:57:13.331010Z",
     "iopub.status.idle": "2021-08-16T22:57:15.203856Z",
     "shell.execute_reply": "2021-08-16T22:57:15.204964Z"
    }
   },
   "outputs": [
    {
     "data": {
      "text/html": [
       "<div>\n",
       "<style scoped>\n",
       "    .dataframe tbody tr th:only-of-type {\n",
       "        vertical-align: middle;\n",
       "    }\n",
       "\n",
       "    .dataframe tbody tr th {\n",
       "        vertical-align: top;\n",
       "    }\n",
       "\n",
       "    .dataframe thead th {\n",
       "        text-align: right;\n",
       "    }\n",
       "</style>\n",
       "<table border=\"1\" class=\"dataframe\">\n",
       "  <thead>\n",
       "    <tr style=\"text-align: right;\">\n",
       "      <th></th>\n",
       "      <th>Feature</th>\n",
       "      <th>gencodeID</th>\n",
       "      <th>Symbol</th>\n",
       "      <th>ensemblID</th>\n",
       "      <th>Chrom</th>\n",
       "      <th>logFC</th>\n",
       "      <th>t</th>\n",
       "      <th>adj.P.Val</th>\n",
       "      <th>Male_Pval</th>\n",
       "      <th>Male_FDR</th>\n",
       "      <th>Type</th>\n",
       "    </tr>\n",
       "  </thead>\n",
       "  <tbody>\n",
       "  </tbody>\n",
       "</table>\n",
       "</div>"
      ],
      "text/plain": [
       "Empty DataFrame\n",
       "Columns: [Feature, gencodeID, Symbol, ensemblID, Chrom, logFC, t, adj.P.Val, Male_Pval, Male_FDR, Type]\n",
       "Index: []"
      ]
     },
     "execution_count": 1,
     "metadata": {},
     "output_type": "execute_result"
    }
   ],
   "source": [
    "f['Feature'] = f.index\n",
    "#genes = get_unique(get_unique(f, m), a)\n",
    "genes = get_unique(f, m)\n",
    "genes = pd.merge(gtf_annot[['gene_id', 'seqname']], genes, left_on='gene_id', \n",
    "                 right_on='Feature', how='right').rename(columns={'seqname': 'Chrom'})\n",
    "genes = genes[['Feature', 'gencodeID', 'Symbol', 'ensemblID', \n",
    "               'Chrom', 'logFC', 't', 'adj.P.Val']].sort_values('adj.P.Val')\n",
    "genes = add_pvals_adjustPval('genes', genes)\n",
    "genes = genes[~(genes['Male_Pval'] <= 0.05)].sort_values('adj.P.Val').reset_index() ## Stringents\n",
    "genes['Type'] = 'gene'\n",
    "genes.head(2)"
   ]
  },
  {
   "cell_type": "markdown",
   "metadata": {},
   "source": [
    "## Transcripts"
   ]
  },
  {
   "cell_type": "code",
   "execution_count": 7,
   "metadata": {
    "execution": {
     "iopub.execute_input": "2021-08-16T22:57:15.368967Z",
     "iopub.status.busy": "2021-08-16T22:57:15.209219Z",
     "iopub.status.idle": "2021-08-16T22:57:15.544492Z",
     "shell.execute_reply": "2021-08-16T22:57:15.543824Z"
    }
   },
   "outputs": [],
   "source": [
    "gtf_annot = gene_annot('transcript')"
   ]
  },
  {
   "cell_type": "code",
   "execution_count": 8,
   "metadata": {
    "execution": {
     "iopub.execute_input": "2021-08-16T22:57:15.553496Z",
     "iopub.status.busy": "2021-08-16T22:57:15.552137Z",
     "iopub.status.idle": "2021-08-16T22:57:24.934479Z",
     "shell.execute_reply": "2021-08-16T22:57:24.933096Z"
    }
   },
   "outputs": [
    {
     "data": {
      "text/html": [
       "<div>\n",
       "<style scoped>\n",
       "    .dataframe tbody tr th:only-of-type {\n",
       "        vertical-align: middle;\n",
       "    }\n",
       "\n",
       "    .dataframe tbody tr th {\n",
       "        vertical-align: top;\n",
       "    }\n",
       "\n",
       "    .dataframe thead th {\n",
       "        text-align: right;\n",
       "    }\n",
       "</style>\n",
       "<table border=\"1\" class=\"dataframe\">\n",
       "  <thead>\n",
       "    <tr style=\"text-align: right;\">\n",
       "      <th></th>\n",
       "      <th>Feature</th>\n",
       "      <th>gencodeID</th>\n",
       "      <th>Symbol</th>\n",
       "      <th>ensemblID</th>\n",
       "      <th>Chrom</th>\n",
       "      <th>logFC</th>\n",
       "      <th>t</th>\n",
       "      <th>adj.P.Val</th>\n",
       "      <th>Male_Pval</th>\n",
       "      <th>Male_FDR</th>\n",
       "      <th>Type</th>\n",
       "    </tr>\n",
       "  </thead>\n",
       "  <tbody>\n",
       "  </tbody>\n",
       "</table>\n",
       "</div>"
      ],
      "text/plain": [
       "Empty DataFrame\n",
       "Columns: [Feature, gencodeID, Symbol, ensemblID, Chrom, logFC, t, adj.P.Val, Male_Pval, Male_FDR, Type]\n",
       "Index: []"
      ]
     },
     "execution_count": 1,
     "metadata": {},
     "output_type": "execute_result"
    }
   ],
   "source": [
    "f, m = get_de('transcripts')\n",
    "f['Feature'] = f.index\n",
    "f['ensemblID'] = f.gene_id.str.replace('\\\\.\\d+', '', regex=True)\n",
    "#trans = get_unique(get_unique(f, m), a)\n",
    "trans = get_unique(f, m)\n",
    "trans = pd.merge(gtf_annot[['transcript_id', 'seqname']], trans, \n",
    "                 left_on='transcript_id', right_on='Feature', \n",
    "                 how='right').rename(columns={'seqname': 'Chrom'}).sort_values('adj.P.Val')\n",
    "trans = trans[['Feature', 'gene_id', 'Symbol', 'ensemblID', 'Chrom', \n",
    "               'logFC', 't', 'adj.P.Val']].rename(columns={'gene_id': 'gencodeID'})\n",
    "trans = add_pvals_adjustPval('transcripts', trans)\n",
    "trans = trans[~(trans['Male_Pval'] <= 0.05)].sort_values('adj.P.Val').reset_index() ## Stringents\n",
    "trans['Type'] = 'transcript'\n",
    "trans.head(2)"
   ]
  },
  {
   "cell_type": "markdown",
   "metadata": {},
   "source": [
    "### Exons"
   ]
  },
  {
   "cell_type": "code",
   "execution_count": 9,
   "metadata": {
    "execution": {
     "iopub.execute_input": "2021-08-16T22:57:25.125510Z",
     "iopub.status.busy": "2021-08-16T22:57:25.124201Z",
     "iopub.status.idle": "2021-08-16T22:57:26.669241Z",
     "shell.execute_reply": "2021-08-16T22:57:26.667965Z"
    }
   },
   "outputs": [],
   "source": [
    "gtf_annot = gene_annot('exon')\n",
    "gtf_annot['ensemblID'] = gtf_annot.gene_id.str.replace('\\\\.\\d+', '', regex=True)"
   ]
  },
  {
   "cell_type": "code",
   "execution_count": 10,
   "metadata": {
    "execution": {
     "iopub.execute_input": "2021-08-16T22:57:26.677566Z",
     "iopub.status.busy": "2021-08-16T22:57:26.676228Z",
     "iopub.status.idle": "2021-08-16T22:58:02.113789Z",
     "shell.execute_reply": "2021-08-16T22:58:02.114938Z"
    }
   },
   "outputs": [
    {
     "data": {
      "text/html": [
       "<div>\n",
       "<style scoped>\n",
       "    .dataframe tbody tr th:only-of-type {\n",
       "        vertical-align: middle;\n",
       "    }\n",
       "\n",
       "    .dataframe tbody tr th {\n",
       "        vertical-align: top;\n",
       "    }\n",
       "\n",
       "    .dataframe thead th {\n",
       "        text-align: right;\n",
       "    }\n",
       "</style>\n",
       "<table border=\"1\" class=\"dataframe\">\n",
       "  <thead>\n",
       "    <tr style=\"text-align: right;\">\n",
       "      <th></th>\n",
       "      <th>Feature</th>\n",
       "      <th>gencodeID</th>\n",
       "      <th>Symbol</th>\n",
       "      <th>ensemblID</th>\n",
       "      <th>Chrom</th>\n",
       "      <th>logFC</th>\n",
       "      <th>t</th>\n",
       "      <th>adj.P.Val</th>\n",
       "      <th>Male_Pval</th>\n",
       "      <th>Male_FDR</th>\n",
       "      <th>Type</th>\n",
       "    </tr>\n",
       "  </thead>\n",
       "  <tbody>\n",
       "  </tbody>\n",
       "</table>\n",
       "</div>"
      ],
      "text/plain": [
       "Empty DataFrame\n",
       "Columns: [Feature, gencodeID, Symbol, ensemblID, Chrom, logFC, t, adj.P.Val, Male_Pval, Male_FDR, Type]\n",
       "Index: []"
      ]
     },
     "execution_count": 1,
     "metadata": {},
     "output_type": "execute_result"
    }
   ],
   "source": [
    "f, m = get_de('exons')\n",
    "f['Feature'] = f.index\n",
    "#exons = get_unique(get_unique(f, m), a)\n",
    "exons = get_unique(f, m)\n",
    "exons = pd.merge(gtf_annot[['ensemblID', 'seqname']], exons, \n",
    "                 on='ensemblID', how='right').rename(columns={'seqname': 'Chrom'})\n",
    "exons = exons[['Feature', 'gencodeID', 'Symbol', 'ensemblID', \n",
    "               'Chrom', 'logFC', 't', 'adj.P.Val']].groupby('Feature')\\\n",
    "            .first().reset_index().sort_values('adj.P.Val')\n",
    "exons = add_pvals_adjustPval('exons', exons)\n",
    "exons = exons[~(exons['Male_Pval'] <= 0.05)].sort_values('adj.P.Val').reset_index()\n",
    "exons['Type'] = 'exon'\n",
    "exons.head(2)"
   ]
  },
  {
   "cell_type": "markdown",
   "metadata": {},
   "source": [
    "### Junctions"
   ]
  },
  {
   "cell_type": "code",
   "execution_count": 11,
   "metadata": {
    "execution": {
     "iopub.execute_input": "2021-08-16T22:58:02.123413Z",
     "iopub.status.busy": "2021-08-16T22:58:02.122128Z",
     "iopub.status.idle": "2021-08-16T22:58:19.052725Z",
     "shell.execute_reply": "2021-08-16T22:58:19.053817Z"
    }
   },
   "outputs": [
    {
     "data": {
      "text/html": [
       "<div>\n",
       "<style scoped>\n",
       "    .dataframe tbody tr th:only-of-type {\n",
       "        vertical-align: middle;\n",
       "    }\n",
       "\n",
       "    .dataframe tbody tr th {\n",
       "        vertical-align: top;\n",
       "    }\n",
       "\n",
       "    .dataframe thead th {\n",
       "        text-align: right;\n",
       "    }\n",
       "</style>\n",
       "<table border=\"1\" class=\"dataframe\">\n",
       "  <thead>\n",
       "    <tr style=\"text-align: right;\">\n",
       "      <th></th>\n",
       "      <th>Feature</th>\n",
       "      <th>gencodeID</th>\n",
       "      <th>Symbol</th>\n",
       "      <th>ensemblID</th>\n",
       "      <th>Chrom</th>\n",
       "      <th>logFC</th>\n",
       "      <th>t</th>\n",
       "      <th>adj.P.Val</th>\n",
       "      <th>Male_Pval</th>\n",
       "      <th>Male_FDR</th>\n",
       "      <th>Type</th>\n",
       "    </tr>\n",
       "  </thead>\n",
       "  <tbody>\n",
       "    <tr>\n",
       "      <th>0</th>\n",
       "      <td>chr1:26558938-26560725(+)</td>\n",
       "      <td>ENSG00000117676.13</td>\n",
       "      <td>RPS6KA1</td>\n",
       "      <td>ENSG00000117676</td>\n",
       "      <td>chr1</td>\n",
       "      <td>-0.692728</td>\n",
       "      <td>-5.571689</td>\n",
       "      <td>0.023666</td>\n",
       "      <td>0.372987</td>\n",
       "      <td>0.402706</td>\n",
       "      <td>junction</td>\n",
       "    </tr>\n",
       "    <tr>\n",
       "      <th>1</th>\n",
       "      <td>chr1:40303677-40303806(-)</td>\n",
       "      <td>ENSG00000049089.13</td>\n",
       "      <td>COL9A2</td>\n",
       "      <td>ENSG00000049089</td>\n",
       "      <td>chr1</td>\n",
       "      <td>-0.774649</td>\n",
       "      <td>-5.330986</td>\n",
       "      <td>0.034602</td>\n",
       "      <td>0.127582</td>\n",
       "      <td>0.318956</td>\n",
       "      <td>junction</td>\n",
       "    </tr>\n",
       "  </tbody>\n",
       "</table>\n",
       "</div>"
      ],
      "text/plain": [
       "                     Feature           gencodeID   Symbol        ensemblID  \\\n",
       "0  chr1:26558938-26560725(+)  ENSG00000117676.13  RPS6KA1  ENSG00000117676   \n",
       "1  chr1:40303677-40303806(-)  ENSG00000049089.13   COL9A2  ENSG00000049089   \n",
       "\n",
       "  Chrom     logFC         t  adj.P.Val  Male_Pval  Male_FDR      Type  \n",
       "0  chr1 -0.692728 -5.571689   0.023666   0.372987  0.402706  junction  \n",
       "1  chr1 -0.774649 -5.330986   0.034602   0.127582  0.318956  junction  "
      ]
     },
     "execution_count": 1,
     "metadata": {},
     "output_type": "execute_result"
    }
   ],
   "source": [
    "f, m = get_de('junctions')\n",
    "f['Feature'] = f.index\n",
    "#juncs = get_unique(get_unique(f, m), a)\n",
    "juncs = get_unique(f, m)\n",
    "juncs = pd.merge(gtf_annot[['ensemblID', 'seqname']], juncs, \n",
    "                 on='ensemblID', how='right').rename(columns={'seqname': 'Chrom'})\n",
    "juncs = juncs[['Feature', 'gencodeID', 'Symbol', 'ensemblID', 'Chrom',\n",
    "               'logFC', 't', 'adj.P.Val']].groupby('Feature')\\\n",
    "        .first().reset_index().sort_values('adj.P.Val')\n",
    "juncs = add_pvals_adjustPval('junctions', juncs)\n",
    "juncs = juncs[~(juncs['Male_Pval'] <= 0.05)].sort_values('adj.P.Val').reset_index() ## Stringents\n",
    "juncs['Type'] = 'junction'\n",
    "juncs.head(2)"
   ]
  },
  {
   "cell_type": "markdown",
   "metadata": {},
   "source": [
    "## DE summary"
   ]
  },
  {
   "cell_type": "markdown",
   "metadata": {},
   "source": [
    "### DE (feature)"
   ]
  },
  {
   "cell_type": "code",
   "execution_count": 12,
   "metadata": {
    "execution": {
     "iopub.execute_input": "2021-08-16T22:58:19.062787Z",
     "iopub.status.busy": "2021-08-16T22:58:19.061133Z",
     "iopub.status.idle": "2021-08-16T22:58:19.066187Z",
     "shell.execute_reply": "2021-08-16T22:58:19.067234Z"
    }
   },
   "outputs": [
    {
     "name": "stdout",
     "output_type": "stream",
     "text": [
      "\n",
      "Gene:\t\t0\n",
      "Transcript:\t0\n",
      "Exon:\t\t0\n",
      "Junction:\t5\n"
     ]
    }
   ],
   "source": [
    "gg = len(set(genes['Feature']))\n",
    "tt = len(set(trans['Feature']))\n",
    "ee = len(set(exons['Feature']))\n",
    "jj = len(set(juncs['Feature']))\n",
    "\n",
    "print(\"\\nGene:\\t\\t%d\\nTranscript:\\t%d\\nExon:\\t\\t%d\\nJunction:\\t%d\" % (gg, tt, ee, jj)) "
   ]
  },
  {
   "cell_type": "markdown",
   "metadata": {},
   "source": [
    "#### DE (EnsemblID)"
   ]
  },
  {
   "cell_type": "code",
   "execution_count": 13,
   "metadata": {
    "execution": {
     "iopub.execute_input": "2021-08-16T22:58:19.075860Z",
     "iopub.status.busy": "2021-08-16T22:58:19.074171Z",
     "iopub.status.idle": "2021-08-16T22:58:19.079224Z",
     "shell.execute_reply": "2021-08-16T22:58:19.080275Z"
    }
   },
   "outputs": [
    {
     "name": "stdout",
     "output_type": "stream",
     "text": [
      "\n",
      "Gene:\t\t0\n",
      "Transcript:\t0\n",
      "Exon:\t\t0\n",
      "Junction:\t5\n"
     ]
    }
   ],
   "source": [
    "gg = len(set(genes['ensemblID']))\n",
    "tt = len(set(trans['ensemblID']))\n",
    "ee = len(set(exons['ensemblID']))\n",
    "jj = len(set(juncs['ensemblID']))\n",
    "\n",
    "print(\"\\nGene:\\t\\t%d\\nTranscript:\\t%d\\nExon:\\t\\t%d\\nJunction:\\t%d\" % (gg, tt, ee, jj)) "
   ]
  },
  {
   "cell_type": "markdown",
   "metadata": {},
   "source": [
    "#### DE (Gene Symbol)"
   ]
  },
  {
   "cell_type": "code",
   "execution_count": 14,
   "metadata": {
    "execution": {
     "iopub.execute_input": "2021-08-16T22:58:19.088681Z",
     "iopub.status.busy": "2021-08-16T22:58:19.087032Z",
     "iopub.status.idle": "2021-08-16T22:58:19.092012Z",
     "shell.execute_reply": "2021-08-16T22:58:19.093044Z"
    }
   },
   "outputs": [
    {
     "name": "stdout",
     "output_type": "stream",
     "text": [
      "\n",
      "Gene:\t\t0\n",
      "Transcript:\t0\n",
      "Exon:\t\t0\n",
      "Junction:\t5\n"
     ]
    }
   ],
   "source": [
    "gg = len(set(genes['Symbol']))\n",
    "tt = len(set(trans['Symbol']))\n",
    "ee = len(set(exons['Symbol']))\n",
    "jj = len(set(juncs['Symbol']))\n",
    "\n",
    "print(\"\\nGene:\\t\\t%d\\nTranscript:\\t%d\\nExon:\\t\\t%d\\nJunction:\\t%d\" % (gg, tt, ee, jj)) "
   ]
  },
  {
   "cell_type": "markdown",
   "metadata": {},
   "source": [
    "### Feature effect size summary"
   ]
  },
  {
   "cell_type": "code",
   "execution_count": 15,
   "metadata": {
    "execution": {
     "iopub.execute_input": "2021-08-16T22:58:19.104412Z",
     "iopub.status.busy": "2021-08-16T22:58:19.100551Z",
     "iopub.status.idle": "2021-08-16T22:58:19.114400Z",
     "shell.execute_reply": "2021-08-16T22:58:19.113128Z"
    }
   },
   "outputs": [
    {
     "name": "stdout",
     "output_type": "stream",
     "text": [
      "\n",
      "There are 0 unique Genes with abs(log2FC) >= 0.5\n",
      "There are 0 unique Genes with abs(log2FC) >= 1\n",
      "\n",
      "There are 0 unique Transcript with abs(log2FC) >= 0.5\n",
      "There are 0 unique Transcript with abs(log2FC) >= 1\n",
      "\n",
      "There are 0 unique Exons with abs(log2FC) >= 0.5\n",
      "There are 0 unique Exons with abs(log2FC) >= 1\n",
      "\n",
      "There are 4 unique Junctions with abs(log2FC) >= 0.5\n",
      "There are 1 unique Junctions with abs(log2FC) >= 1\n"
     ]
    }
   ],
   "source": [
    "feature_list = ['Genes', 'Transcript', 'Exons', 'Junctions']\n",
    "feature_df = [genes, trans, exons, juncs]\n",
    "for ii in range(4):\n",
    "    ff = feature_df[ii]\n",
    "    half = len(set(ff[(np.abs(ff['logFC']) >= 0.5)].Feature))\n",
    "    one = len(set(ff[(np.abs(ff['logFC']) >= 1)].Feature))\n",
    "    print(\"\\nThere are %d unique %s with abs(log2FC) >= 0.5\" % (half, feature_list[ii]))\n",
    "    print(\"There are %d unique %s with abs(log2FC) >= 1\" % (one, feature_list[ii]))"
   ]
  },
  {
   "cell_type": "code",
   "execution_count": 16,
   "metadata": {
    "execution": {
     "iopub.execute_input": "2021-08-16T22:58:19.133047Z",
     "iopub.status.busy": "2021-08-16T22:58:19.127652Z",
     "iopub.status.idle": "2021-08-16T22:58:19.139829Z",
     "shell.execute_reply": "2021-08-16T22:58:19.138678Z"
    }
   },
   "outputs": [
    {
     "name": "stdout",
     "output_type": "stream",
     "text": [
      "\n",
      "There are 0 unique Genes with abs(log2FC) >= 0.5\n",
      "There are 0 unique Genes with abs(log2FC) >= 1\n",
      "\n",
      "There are 0 unique Transcripts with abs(log2FC) >= 0.5\n",
      "There are 0 unique Transcripts with abs(log2FC) >= 1\n",
      "\n",
      "There are 0 unique Exons with abs(log2FC) >= 0.5\n",
      "There are 0 unique Exons with abs(log2FC) >= 1\n",
      "\n",
      "There are 4 unique Junctions with abs(log2FC) >= 0.5\n",
      "There are 1 unique Junctions with abs(log2FC) >= 1\n"
     ]
    }
   ],
   "source": [
    "feature_list = ['Genes', 'Transcripts', 'Exons', 'Junctions']\n",
    "feature_df = [genes, trans, exons, juncs]\n",
    "for ii in range(4):\n",
    "    ff = feature_df[ii]\n",
    "    half = len(set(ff[(np.abs(ff['logFC']) >= 0.5)].ensemblID))\n",
    "    one = len(set(ff[(np.abs(ff['logFC']) >= 1)].ensemblID))\n",
    "    print(\"\\nThere are %d unique %s with abs(log2FC) >= 0.5\" % (half, feature_list[ii]))\n",
    "    print(\"There are %d unique %s with abs(log2FC) >= 1\" % (one, feature_list[ii]))"
   ]
  },
  {
   "cell_type": "code",
   "execution_count": 17,
   "metadata": {
    "execution": {
     "iopub.execute_input": "2021-08-16T22:58:19.149965Z",
     "iopub.status.busy": "2021-08-16T22:58:19.148688Z",
     "iopub.status.idle": "2021-08-16T22:58:19.156099Z",
     "shell.execute_reply": "2021-08-16T22:58:19.157126Z"
    }
   },
   "outputs": [],
   "source": [
    "df = pd.concat([genes, trans, exons, juncs], axis=0)\n",
    "df.to_csv('female_specific_DE_4features.txt', sep='\\t', index=False, header=True)"
   ]
  },
  {
   "cell_type": "markdown",
   "metadata": {},
   "source": [
    "## Number of DEGs on allosomes"
   ]
  },
  {
   "cell_type": "code",
   "execution_count": 18,
   "metadata": {
    "execution": {
     "iopub.execute_input": "2021-08-16T22:58:19.170893Z",
     "iopub.status.busy": "2021-08-16T22:58:19.169237Z",
     "iopub.status.idle": "2021-08-16T22:58:19.174578Z",
     "shell.execute_reply": "2021-08-16T22:58:19.175611Z"
    }
   },
   "outputs": [
    {
     "data": {
      "text/plain": [
       "Series([], dtype: int64)"
      ]
     },
     "execution_count": 1,
     "metadata": {},
     "output_type": "execute_result"
    }
   ],
   "source": [
    "df[(df['Chrom'].isin(['chrX', 'chrY']))].groupby(['Type', 'Chrom']).size()"
   ]
  },
  {
   "cell_type": "code",
   "execution_count": 19,
   "metadata": {
    "execution": {
     "iopub.execute_input": "2021-08-16T22:58:19.197404Z",
     "iopub.status.busy": "2021-08-16T22:58:19.195771Z",
     "iopub.status.idle": "2021-08-16T22:58:19.201398Z",
     "shell.execute_reply": "2021-08-16T22:58:19.202581Z"
    }
   },
   "outputs": [
    {
     "data": {
      "text/html": [
       "<div>\n",
       "<style scoped>\n",
       "    .dataframe tbody tr th:only-of-type {\n",
       "        vertical-align: middle;\n",
       "    }\n",
       "\n",
       "    .dataframe tbody tr th {\n",
       "        vertical-align: top;\n",
       "    }\n",
       "\n",
       "    .dataframe thead th {\n",
       "        text-align: right;\n",
       "    }\n",
       "</style>\n",
       "<table border=\"1\" class=\"dataframe\">\n",
       "  <thead>\n",
       "    <tr style=\"text-align: right;\">\n",
       "      <th></th>\n",
       "      <th>Feature</th>\n",
       "      <th>gencodeID</th>\n",
       "      <th>Symbol</th>\n",
       "      <th>ensemblID</th>\n",
       "      <th>Chrom</th>\n",
       "      <th>logFC</th>\n",
       "      <th>t</th>\n",
       "      <th>adj.P.Val</th>\n",
       "      <th>Male_Pval</th>\n",
       "      <th>Male_FDR</th>\n",
       "      <th>Type</th>\n",
       "    </tr>\n",
       "  </thead>\n",
       "  <tbody>\n",
       "    <tr>\n",
       "      <th>0</th>\n",
       "      <td>chr1:26558938-26560725(+)</td>\n",
       "      <td>ENSG00000117676.13</td>\n",
       "      <td>RPS6KA1</td>\n",
       "      <td>ENSG00000117676</td>\n",
       "      <td>chr1</td>\n",
       "      <td>-0.692728</td>\n",
       "      <td>-5.571689</td>\n",
       "      <td>0.023666</td>\n",
       "      <td>0.372987</td>\n",
       "      <td>0.402706</td>\n",
       "      <td>junction</td>\n",
       "    </tr>\n",
       "    <tr>\n",
       "      <th>1</th>\n",
       "      <td>chr1:40303677-40303806(-)</td>\n",
       "      <td>ENSG00000049089.13</td>\n",
       "      <td>COL9A2</td>\n",
       "      <td>ENSG00000049089</td>\n",
       "      <td>chr1</td>\n",
       "      <td>-0.774649</td>\n",
       "      <td>-5.330986</td>\n",
       "      <td>0.034602</td>\n",
       "      <td>0.127582</td>\n",
       "      <td>0.318956</td>\n",
       "      <td>junction</td>\n",
       "    </tr>\n",
       "    <tr>\n",
       "      <th>2</th>\n",
       "      <td>chr1:236045684-236048689(-)</td>\n",
       "      <td>ENSG00000116962.14</td>\n",
       "      <td>NID1</td>\n",
       "      <td>ENSG00000116962</td>\n",
       "      <td>chr1</td>\n",
       "      <td>1.115432</td>\n",
       "      <td>5.134431</td>\n",
       "      <td>0.040765</td>\n",
       "      <td>0.241606</td>\n",
       "      <td>0.402677</td>\n",
       "      <td>junction</td>\n",
       "    </tr>\n",
       "    <tr>\n",
       "      <th>3</th>\n",
       "      <td>chr5:132210524-132213915(-)</td>\n",
       "      <td>ENSG00000072682.18</td>\n",
       "      <td>P4HA2</td>\n",
       "      <td>ENSG00000072682</td>\n",
       "      <td>chr5</td>\n",
       "      <td>0.517820</td>\n",
       "      <td>5.163802</td>\n",
       "      <td>0.040765</td>\n",
       "      <td>0.066026</td>\n",
       "      <td>0.318956</td>\n",
       "      <td>junction</td>\n",
       "    </tr>\n",
       "    <tr>\n",
       "      <th>4</th>\n",
       "      <td>chr1:245059459-245082082(+)</td>\n",
       "      <td>ENSG00000203666.12</td>\n",
       "      <td>EFCAB2</td>\n",
       "      <td>ENSG00000203666</td>\n",
       "      <td>chr1</td>\n",
       "      <td>-0.420878</td>\n",
       "      <td>-5.047418</td>\n",
       "      <td>0.047387</td>\n",
       "      <td>0.402706</td>\n",
       "      <td>0.402706</td>\n",
       "      <td>junction</td>\n",
       "    </tr>\n",
       "  </tbody>\n",
       "</table>\n",
       "</div>"
      ],
      "text/plain": [
       "                       Feature           gencodeID   Symbol        ensemblID  \\\n",
       "0    chr1:26558938-26560725(+)  ENSG00000117676.13  RPS6KA1  ENSG00000117676   \n",
       "1    chr1:40303677-40303806(-)  ENSG00000049089.13   COL9A2  ENSG00000049089   \n",
       "2  chr1:236045684-236048689(-)  ENSG00000116962.14     NID1  ENSG00000116962   \n",
       "3  chr5:132210524-132213915(-)  ENSG00000072682.18    P4HA2  ENSG00000072682   \n",
       "4  chr1:245059459-245082082(+)  ENSG00000203666.12   EFCAB2  ENSG00000203666   \n",
       "\n",
       "  Chrom     logFC         t  adj.P.Val  Male_Pval  Male_FDR      Type  \n",
       "0  chr1 -0.692728 -5.571689   0.023666   0.372987  0.402706  junction  \n",
       "1  chr1 -0.774649 -5.330986   0.034602   0.127582  0.318956  junction  \n",
       "2  chr1  1.115432  5.134431   0.040765   0.241606  0.402677  junction  \n",
       "3  chr5  0.517820  5.163802   0.040765   0.066026  0.318956  junction  \n",
       "4  chr1 -0.420878 -5.047418   0.047387   0.402706  0.402706  junction  "
      ]
     },
     "execution_count": 1,
     "metadata": {},
     "output_type": "execute_result"
    }
   ],
   "source": [
    "df"
   ]
  },
  {
   "cell_type": "code",
   "execution_count": null,
   "metadata": {},
   "outputs": [],
   "source": []
  }
 ],
 "metadata": {
  "kernelspec": {
   "display_name": "Python 3",
   "language": "python",
   "name": "python3"
  },
  "language_info": {
   "codemirror_mode": {
    "name": "ipython",
    "version": 3
   },
   "file_extension": ".py",
   "mimetype": "text/x-python",
   "name": "python",
   "nbconvert_exporter": "python",
   "pygments_lexer": "ipython3",
   "version": "3.9.1"
  }
 },
 "nbformat": 4,
 "nbformat_minor": 4
}
