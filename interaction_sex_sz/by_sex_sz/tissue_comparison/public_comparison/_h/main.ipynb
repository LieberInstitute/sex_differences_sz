{
 "cells": [
  {
   "cell_type": "markdown",
   "metadata": {},
   "source": [
    "# Comparison with other datasets"
   ]
  },
  {
   "cell_type": "code",
   "execution_count": null,
   "metadata": {},
   "outputs": [],
   "source": [
    "import functools\n",
    "import numpy as np\n",
    "import pandas as pd"
   ]
  },
  {
   "cell_type": "markdown",
   "metadata": {},
   "source": [
    "## BrainSeq functions"
   ]
  },
  {
   "cell_type": "code",
   "execution_count": null,
   "metadata": {},
   "outputs": [],
   "source": [
    "config = {\n",
    "    'caudate': '../../../caudate/male_analysis/metrics_summary/_m/male_specific_DE_4features.txt',\n",
    "    'dlpfc': '../../../dlpfc/male_analysis/metrics_summary/_m/male_specific_DE_4features.txt',\n",
    "    'hippo': '../../../hippocampus/male_analysis/metrics_summary/_m/male_specific_DE_4features.txt',\n",
    "}\n",
    "\n",
    "config2 = {\n",
    "    'caudate': '../../../caudate/male_analysis/_m/genes/diffExpr_szVctl_full.txt',\n",
    "    'dlpfc': '../../../dlpfc/male_analysis/_m/genes/diffExpr_szVctl_full.txt',\n",
    "    'hippo': '../../../hippocampus/male_analysis/_m/genes/diffExpr_szVctl_full.txt',\n",
    "}"
   ]
  },
  {
   "cell_type": "code",
   "execution_count": null,
   "metadata": {},
   "outputs": [],
   "source": [
    "@functools.lru_cache()\n",
    "def get_deg(filename):\n",
    "    dft = pd.read_csv(filename, sep='\\t', index_col=0)\n",
    "    if 'Type' in dft.columns:\n",
    "        dft = dft[(dft['Type'] == 'gene')].copy()\n",
    "    dft['Feature'] = dft.index\n",
    "    dft['Dir'] = np.sign(dft['t'])\n",
    "    if 'gene_id' in dft.columns:\n",
    "        dft['ensemblID'] = dft.gene_id.str.replace('\\\\..*', '', regex=True)\n",
    "    return dft[['Feature', 'ensemblID', 'Symbol', 'adj.P.Val', 'logFC', 't', 'Dir']]\n",
    "\n",
    "\n",
    "@functools.lru_cache()\n",
    "def get_deg_sig(filename, fdr):\n",
    "    dft = get_deg(filename)\n",
    "    return dft[(dft['adj.P.Val'] < fdr)]\n"
   ]
  },
  {
   "cell_type": "code",
   "execution_count": null,
   "metadata": {},
   "outputs": [],
   "source": [
    "def tissue_annotation(tissue):\n",
    "    return {'dlpfc': 'DLPFC', 'hippo': 'Hippocampus', \n",
    "            'caudate': 'Caudate', 'cmc_dlpfc': 'CMC DLPFC'}[tissue]"
   ]
  },
  {
   "cell_type": "markdown",
   "metadata": {},
   "source": [
    "## Qin comparison"
   ]
  },
  {
   "cell_type": "code",
   "execution_count": null,
   "metadata": {},
   "outputs": [],
   "source": [
    "qin_file = '/ceph/users/jbenja13/projects/sex_sz_ria/input/public_results/_m/qin/qin_results_probesets.csv'\n",
    "qin = pd.read_csv(qin_file)\n",
    "tissue = 'caudate'\n",
    "qin.head(2)"
   ]
  },
  {
   "cell_type": "code",
   "execution_count": null,
   "metadata": {},
   "outputs": [],
   "source": [
    "for tissue in ['caudate', 'dlpfc', 'hippo']:\n",
    "    fdr = 0.05 if tissue != 'dlpfc' else 0.01\n",
    "    tot = len(set(qin.loc[:, 'Gene symbol ']))\n",
    "    overlap = len(set(get_deg_sig(config[tissue], fdr).Symbol) & \n",
    "                  set(qin.loc[:, 'Gene symbol '].str.replace(' ','')))\n",
    "    xx = overlap / tot\n",
    "    print(\"There is %d (%.1f%%) overlap between %s and PFC!\" % \n",
    "          (overlap, xx* 100, tissue_annotation(tissue)))"
   ]
  },
  {
   "cell_type": "code",
   "execution_count": null,
   "metadata": {},
   "outputs": [],
   "source": [
    "shared = set(get_deg_sig(config['caudate'], 0.05).Symbol) & set(qin.loc[:, 'Gene symbol '].str.replace(' ',''))\n",
    "shared"
   ]
  },
  {
   "cell_type": "code",
   "execution_count": null,
   "metadata": {},
   "outputs": [],
   "source": [
    "shared = set(get_deg_sig(config['hippo'], 0.05).Symbol) & set(qin.loc[:, 'Gene symbol '].str.replace(' ',''))\n",
    "shared"
   ]
  },
  {
   "cell_type": "code",
   "execution_count": null,
   "metadata": {},
   "outputs": [],
   "source": [
    "qin[qin['Gene symbol '].isin(['USE1 ', 'BBX '])]"
   ]
  },
  {
   "cell_type": "code",
   "execution_count": null,
   "metadata": {},
   "outputs": [],
   "source": [
    "get_deg_sig(config['caudate'], 0.05)[get_deg_sig(config['caudate'], 0.05).Symbol.isin([\"USE1\", \"BBX\"])]"
   ]
  },
  {
   "cell_type": "code",
   "execution_count": null,
   "metadata": {},
   "outputs": [],
   "source": [
    "get_deg_sig(config['hippo'], 0.05)[get_deg_sig(config['hippo'], 0.05).Symbol == 'USE1']"
   ]
  },
  {
   "cell_type": "code",
   "execution_count": null,
   "metadata": {},
   "outputs": [],
   "source": [
    "for tissue in ['caudate', 'dlpfc', 'hippo']:\n",
    "    fdr = 0.05 if tissue != 'dlpfc' else 0.05\n",
    "    tot = len(set(qin.loc[:, 'Gene symbol ']))\n",
    "    overlap = len(set(get_deg_sig(config2[tissue], fdr).Symbol) & \n",
    "                  set(qin.loc[:, 'Gene symbol '].str.replace(' ','')))\n",
    "    xx = overlap / tot\n",
    "    print(\"There is %d (%.1f%%) overlap between %s and PFC!\" % \n",
    "          (overlap, xx* 100, tissue_annotation(tissue)))"
   ]
  },
  {
   "cell_type": "code",
   "execution_count": null,
   "metadata": {},
   "outputs": [],
   "source": [
    "shared = set(get_deg_sig(config2['caudate'], 0.05).Symbol) & set(qin.loc[:, 'Gene symbol '].str.replace(' ',''))\n",
    "shared"
   ]
  },
  {
   "cell_type": "code",
   "execution_count": null,
   "metadata": {},
   "outputs": [],
   "source": [
    "qin[qin['Gene symbol '].isin(['ABCG2 ', 'GABARAPL1 ', 'PARD3 ', 'USE1 ', 'BBX '])]"
   ]
  },
  {
   "cell_type": "code",
   "execution_count": null,
   "metadata": {},
   "outputs": [],
   "source": [
    "get_deg_sig(config2['caudate'], 0.05)[get_deg_sig(config2['caudate'], 0.05)\\\n",
    "    .Symbol.isin(['ABCG2', 'GABARAPL1', 'PARD3', 'USE1', \"BBX\"])]"
   ]
  },
  {
   "cell_type": "code",
   "execution_count": null,
   "metadata": {},
   "outputs": [],
   "source": [
    "set(get_deg_sig(config2['dlpfc'], 0.05).Symbol) & set(qin.loc[:, 'Gene symbol '].str.replace(' ',''))"
   ]
  },
  {
   "cell_type": "code",
   "execution_count": null,
   "metadata": {},
   "outputs": [],
   "source": [
    "qin[qin['Gene symbol '].isin(['ABCG2 '])]"
   ]
  },
  {
   "cell_type": "code",
   "execution_count": null,
   "metadata": {},
   "outputs": [],
   "source": [
    "get_deg_sig(config2['dlpfc'], 0.05)[get_deg_sig(config2['dlpfc'], 0.05)\\\n",
    "    .Symbol.isin(['ABCG2'])]"
   ]
  },
  {
   "cell_type": "code",
   "execution_count": null,
   "metadata": {},
   "outputs": [],
   "source": [
    "set(get_deg_sig(config2['hippo'], 0.05).Symbol) & set(qin.loc[:, 'Gene symbol '].str.replace(' ',''))"
   ]
  },
  {
   "cell_type": "code",
   "execution_count": null,
   "metadata": {},
   "outputs": [],
   "source": [
    "qin[qin['Gene symbol '].isin(['ABCG2 ', 'USE1 '])]"
   ]
  },
  {
   "cell_type": "code",
   "execution_count": null,
   "metadata": {},
   "outputs": [],
   "source": [
    "get_deg_sig(config2['hippo'], 0.05)[get_deg_sig(config2['hippo'], 0.05)\\\n",
    "    .Symbol.isin(['ABCG2', 'USE1'])]"
   ]
  },
  {
   "cell_type": "markdown",
   "metadata": {},
   "source": [
    "#### GABARAPL1 direction does not agree"
   ]
  },
  {
   "cell_type": "code",
   "execution_count": null,
   "metadata": {},
   "outputs": [],
   "source": []
  }
 ],
 "metadata": {
  "kernelspec": {
   "display_name": "Python 3 (ipykernel)",
   "language": "python",
   "name": "python3"
  },
  "language_info": {
   "codemirror_mode": {
    "name": "ipython",
    "version": 3
   },
   "file_extension": ".py",
   "mimetype": "text/x-python",
   "name": "python",
   "nbconvert_exporter": "python",
   "pygments_lexer": "ipython3",
   "version": "3.9.7"
  }
 },
 "nbformat": 4,
 "nbformat_minor": 4
}
