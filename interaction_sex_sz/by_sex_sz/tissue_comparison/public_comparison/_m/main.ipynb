{
 "cells": [
  {
   "cell_type": "markdown",
   "metadata": {},
   "source": [
    "# Comparison with other datasets"
   ]
  },
  {
   "cell_type": "code",
   "execution_count": 1,
   "metadata": {
    "execution": {
     "iopub.execute_input": "2021-08-06T15:03:00.415071Z",
     "iopub.status.busy": "2021-08-06T15:03:00.412665Z",
     "iopub.status.idle": "2021-08-06T15:03:00.711730Z",
     "shell.execute_reply": "2021-08-06T15:03:00.710350Z"
    }
   },
   "outputs": [],
   "source": [
    "import functools\n",
    "import numpy as np\n",
    "import pandas as pd"
   ]
  },
  {
   "cell_type": "markdown",
   "metadata": {},
   "source": [
    "## BrainSeq functions"
   ]
  },
  {
   "cell_type": "code",
   "execution_count": 2,
   "metadata": {
    "execution": {
     "iopub.execute_input": "2021-08-06T15:03:00.718036Z",
     "iopub.status.busy": "2021-08-06T15:03:00.716828Z",
     "iopub.status.idle": "2021-08-06T15:03:00.719305Z",
     "shell.execute_reply": "2021-08-06T15:03:00.720345Z"
    }
   },
   "outputs": [],
   "source": [
    "config = {\n",
    "    'caudate': '../../../caudate/male_analysis/metrics_summary/_m/male_specific_DE_4features.txt',\n",
    "    'dlpfc': '../../../dlpfc/male_analysis/metrics_summary/_m/male_specific_DE_4features.txt',\n",
    "    'hippo': '../../../hippocampus/male_analysis/metrics_summary/_m/male_specific_DE_4features.txt',\n",
    "}\n",
    "\n",
    "config2 = {\n",
    "    'caudate': '../../../caudate/male_analysis/_m/genes/diffExpr_szVctl_full.txt',\n",
    "    'dlpfc': '../../../dlpfc/male_analysis/_m/genes/diffExpr_szVctl_full.txt',\n",
    "    'hippo': '../../../hippocampus/male_analysis/_m/genes/diffExpr_szVctl_full.txt',\n",
    "}"
   ]
  },
  {
   "cell_type": "code",
   "execution_count": 3,
   "metadata": {
    "execution": {
     "iopub.execute_input": "2021-08-06T15:03:00.728898Z",
     "iopub.status.busy": "2021-08-06T15:03:00.727659Z",
     "iopub.status.idle": "2021-08-06T15:03:00.730194Z",
     "shell.execute_reply": "2021-08-06T15:03:00.731192Z"
    }
   },
   "outputs": [],
   "source": [
    "@functools.lru_cache()\n",
    "def get_deg(filename):\n",
    "    dft = pd.read_csv(filename, sep='\\t', index_col=0)\n",
    "    if 'Type' in dft.columns:\n",
    "        dft = dft[(dft['Type'] == 'gene')].copy()\n",
    "    dft['Feature'] = dft.index\n",
    "    dft['Dir'] = np.sign(dft['t'])\n",
    "    if 'gene_id' in dft.columns:\n",
    "        dft['ensemblID'] = dft.gene_id.str.replace('\\\\..*', '', regex=True)\n",
    "    return dft[['Feature', 'ensemblID', 'Symbol', 'adj.P.Val', 'logFC', 't', 'Dir']]\n",
    "\n",
    "\n",
    "@functools.lru_cache()\n",
    "def get_deg_sig(filename, fdr):\n",
    "    dft = get_deg(filename)\n",
    "    return dft[(dft['adj.P.Val'] < fdr)]\n"
   ]
  },
  {
   "cell_type": "code",
   "execution_count": 4,
   "metadata": {
    "execution": {
     "iopub.execute_input": "2021-08-06T15:03:00.737024Z",
     "iopub.status.busy": "2021-08-06T15:03:00.735785Z",
     "iopub.status.idle": "2021-08-06T15:03:00.738318Z",
     "shell.execute_reply": "2021-08-06T15:03:00.739321Z"
    }
   },
   "outputs": [],
   "source": [
    "def tissue_annotation(tissue):\n",
    "    return {'dlpfc': 'DLPFC', 'hippo': 'Hippocampus', \n",
    "            'caudate': 'Caudate', 'cmc_dlpfc': 'CMC DLPFC'}[tissue]"
   ]
  },
  {
   "cell_type": "markdown",
   "metadata": {},
   "source": [
    "## Qin comparison"
   ]
  },
  {
   "cell_type": "code",
   "execution_count": 5,
   "metadata": {
    "execution": {
     "iopub.execute_input": "2021-08-06T15:03:00.745619Z",
     "iopub.status.busy": "2021-08-06T15:03:00.744350Z",
     "iopub.status.idle": "2021-08-06T15:03:00.764237Z",
     "shell.execute_reply": "2021-08-06T15:03:00.765281Z"
    }
   },
   "outputs": [
    {
     "data": {
      "text/html": [
       "<div>\n",
       "<style scoped>\n",
       "    .dataframe tbody tr th:only-of-type {\n",
       "        vertical-align: middle;\n",
       "    }\n",
       "\n",
       "    .dataframe tbody tr th {\n",
       "        vertical-align: top;\n",
       "    }\n",
       "\n",
       "    .dataframe thead th {\n",
       "        text-align: right;\n",
       "    }\n",
       "</style>\n",
       "<table border=\"1\" class=\"dataframe\">\n",
       "  <thead>\n",
       "    <tr style=\"text-align: right;\">\n",
       "      <th></th>\n",
       "      <th>Probe set</th>\n",
       "      <th>Gene symbol</th>\n",
       "      <th>Locus</th>\n",
       "      <th>Description</th>\n",
       "      <th>Fold difference</th>\n",
       "      <th>q-value</th>\n",
       "    </tr>\n",
       "  </thead>\n",
       "  <tbody>\n",
       "    <tr>\n",
       "      <th>0</th>\n",
       "      <td>209735_at</td>\n",
       "      <td>ABCG2</td>\n",
       "      <td>4q22</td>\n",
       "      <td>ATP-binding cassette, sub-family G (WHITE), me...</td>\n",
       "      <td>−1.29</td>\n",
       "      <td>0.031</td>\n",
       "    </tr>\n",
       "    <tr>\n",
       "      <th>1</th>\n",
       "      <td>208868_s_at</td>\n",
       "      <td>GABARAPL1</td>\n",
       "      <td>12p13.2</td>\n",
       "      <td>GABA(A) receptor-associated protein like 1</td>\n",
       "      <td>−1.17</td>\n",
       "      <td>0.043</td>\n",
       "    </tr>\n",
       "  </tbody>\n",
       "</table>\n",
       "</div>"
      ],
      "text/plain": [
       "     Probe set  Gene symbol     Locus   \\\n",
       "0    209735_at        ABCG2      4q22    \n",
       "1  208868_s_at    GABARAPL1   12p13.2    \n",
       "\n",
       "                                        Description  Fold difference   \\\n",
       "0  ATP-binding cassette, sub-family G (WHITE), me...           −1.29    \n",
       "1        GABA(A) receptor-associated protein like 1            −1.17    \n",
       "\n",
       "   q-value   \n",
       "0     0.031  \n",
       "1     0.043  "
      ]
     },
     "execution_count": 1,
     "metadata": {},
     "output_type": "execute_result"
    }
   ],
   "source": [
    "qin_file = '/ceph/users/jbenja13/projects/sex_sz_ria/input/public_results/_m/qin/qin_results_probesets.csv'\n",
    "qin = pd.read_csv(qin_file)\n",
    "tissue = 'caudate'\n",
    "qin.head(2)"
   ]
  },
  {
   "cell_type": "code",
   "execution_count": 6,
   "metadata": {
    "execution": {
     "iopub.execute_input": "2021-08-06T15:03:00.772895Z",
     "iopub.status.busy": "2021-08-06T15:03:00.771644Z",
     "iopub.status.idle": "2021-08-06T15:03:00.827621Z",
     "shell.execute_reply": "2021-08-06T15:03:00.828656Z"
    }
   },
   "outputs": [
    {
     "name": "stdout",
     "output_type": "stream",
     "text": [
      "There is 2 (4.3%) overlap between Caudate and PFC!\n",
      "There is 0 (0.0%) overlap between DLPFC and PFC!\n",
      "There is 1 (2.2%) overlap between Hippocampus and PFC!\n"
     ]
    }
   ],
   "source": [
    "for tissue in ['caudate', 'dlpfc', 'hippo']:\n",
    "    fdr = 0.05 if tissue != 'dlpfc' else 0.01\n",
    "    tot = len(set(qin.loc[:, 'Gene symbol ']))\n",
    "    overlap = len(set(get_deg_sig(config[tissue], fdr).Symbol) & \n",
    "                  set(qin.loc[:, 'Gene symbol '].str.replace(' ','')))\n",
    "    xx = overlap / tot\n",
    "    print(\"There is %d (%.1f%%) overlap between %s and PFC!\" % \n",
    "          (overlap, xx* 100, tissue_annotation(tissue)))"
   ]
  },
  {
   "cell_type": "code",
   "execution_count": 7,
   "metadata": {
    "execution": {
     "iopub.execute_input": "2021-08-06T15:03:00.836390Z",
     "iopub.status.busy": "2021-08-06T15:03:00.834815Z",
     "iopub.status.idle": "2021-08-06T15:03:00.840505Z",
     "shell.execute_reply": "2021-08-06T15:03:00.839365Z"
    }
   },
   "outputs": [
    {
     "data": {
      "text/plain": [
       "{'BBX', 'USE1'}"
      ]
     },
     "execution_count": 1,
     "metadata": {},
     "output_type": "execute_result"
    }
   ],
   "source": [
    "shared = set(get_deg_sig(config['caudate'], 0.05).Symbol) & set(qin.loc[:, 'Gene symbol '].str.replace(' ',''))\n",
    "shared"
   ]
  },
  {
   "cell_type": "code",
   "execution_count": 8,
   "metadata": {
    "execution": {
     "iopub.execute_input": "2021-08-06T15:03:00.847519Z",
     "iopub.status.busy": "2021-08-06T15:03:00.846275Z",
     "iopub.status.idle": "2021-08-06T15:03:00.850500Z",
     "shell.execute_reply": "2021-08-06T15:03:00.851527Z"
    }
   },
   "outputs": [
    {
     "data": {
      "text/plain": [
       "{'USE1'}"
      ]
     },
     "execution_count": 1,
     "metadata": {},
     "output_type": "execute_result"
    }
   ],
   "source": [
    "shared = set(get_deg_sig(config['hippo'], 0.05).Symbol) & set(qin.loc[:, 'Gene symbol '].str.replace(' ',''))\n",
    "shared"
   ]
  },
  {
   "cell_type": "code",
   "execution_count": 9,
   "metadata": {
    "execution": {
     "iopub.execute_input": "2021-08-06T15:03:00.863664Z",
     "iopub.status.busy": "2021-08-06T15:03:00.862406Z",
     "iopub.status.idle": "2021-08-06T15:03:00.866691Z",
     "shell.execute_reply": "2021-08-06T15:03:00.867719Z"
    }
   },
   "outputs": [
    {
     "data": {
      "text/html": [
       "<div>\n",
       "<style scoped>\n",
       "    .dataframe tbody tr th:only-of-type {\n",
       "        vertical-align: middle;\n",
       "    }\n",
       "\n",
       "    .dataframe tbody tr th {\n",
       "        vertical-align: top;\n",
       "    }\n",
       "\n",
       "    .dataframe thead th {\n",
       "        text-align: right;\n",
       "    }\n",
       "</style>\n",
       "<table border=\"1\" class=\"dataframe\">\n",
       "  <thead>\n",
       "    <tr style=\"text-align: right;\">\n",
       "      <th></th>\n",
       "      <th>Probe set</th>\n",
       "      <th>Gene symbol</th>\n",
       "      <th>Locus</th>\n",
       "      <th>Description</th>\n",
       "      <th>Fold difference</th>\n",
       "      <th>q-value</th>\n",
       "    </tr>\n",
       "  </thead>\n",
       "  <tbody>\n",
       "    <tr>\n",
       "      <th>17</th>\n",
       "      <td>221706_s_at</td>\n",
       "      <td>USE1</td>\n",
       "      <td>19p13.11</td>\n",
       "      <td>unconventional SNARE in the ER 1 homolog (S. c...</td>\n",
       "      <td>−1.07</td>\n",
       "      <td>0.042</td>\n",
       "    </tr>\n",
       "    <tr>\n",
       "      <th>31</th>\n",
       "      <td>213016_at</td>\n",
       "      <td>BBX</td>\n",
       "      <td>3q13.1</td>\n",
       "      <td>bobby sox homolog (Drosophila)</td>\n",
       "      <td>1.21</td>\n",
       "      <td>0.031</td>\n",
       "    </tr>\n",
       "  </tbody>\n",
       "</table>\n",
       "</div>"
      ],
      "text/plain": [
       "      Probe set  Gene symbol      Locus   \\\n",
       "17  221706_s_at         USE1   19p13.11    \n",
       "31    213016_at          BBX     3q13.1    \n",
       "\n",
       "                                         Description  Fold difference   \\\n",
       "17  unconventional SNARE in the ER 1 homolog (S. c...           −1.07    \n",
       "31                    bobby sox homolog (Drosophila)              1.21   \n",
       "\n",
       "    q-value   \n",
       "17     0.042  \n",
       "31     0.031  "
      ]
     },
     "execution_count": 1,
     "metadata": {},
     "output_type": "execute_result"
    }
   ],
   "source": [
    "qin[qin['Gene symbol '].isin(['USE1 ', 'BBX '])]"
   ]
  },
  {
   "cell_type": "code",
   "execution_count": 10,
   "metadata": {
    "execution": {
     "iopub.execute_input": "2021-08-06T15:03:00.881245Z",
     "iopub.status.busy": "2021-08-06T15:03:00.880008Z",
     "iopub.status.idle": "2021-08-06T15:03:00.885328Z",
     "shell.execute_reply": "2021-08-06T15:03:00.884220Z"
    }
   },
   "outputs": [
    {
     "data": {
      "text/html": [
       "<div>\n",
       "<style scoped>\n",
       "    .dataframe tbody tr th:only-of-type {\n",
       "        vertical-align: middle;\n",
       "    }\n",
       "\n",
       "    .dataframe tbody tr th {\n",
       "        vertical-align: top;\n",
       "    }\n",
       "\n",
       "    .dataframe thead th {\n",
       "        text-align: right;\n",
       "    }\n",
       "</style>\n",
       "<table border=\"1\" class=\"dataframe\">\n",
       "  <thead>\n",
       "    <tr style=\"text-align: right;\">\n",
       "      <th></th>\n",
       "      <th>Feature</th>\n",
       "      <th>ensemblID</th>\n",
       "      <th>Symbol</th>\n",
       "      <th>adj.P.Val</th>\n",
       "      <th>logFC</th>\n",
       "      <th>t</th>\n",
       "      <th>Dir</th>\n",
       "    </tr>\n",
       "    <tr>\n",
       "      <th>Feature</th>\n",
       "      <th></th>\n",
       "      <th></th>\n",
       "      <th></th>\n",
       "      <th></th>\n",
       "      <th></th>\n",
       "      <th></th>\n",
       "      <th></th>\n",
       "    </tr>\n",
       "  </thead>\n",
       "  <tbody>\n",
       "    <tr>\n",
       "      <th>ENSG00000053501.12</th>\n",
       "      <td>ENSG00000053501.12</td>\n",
       "      <td>ENSG00000053501</td>\n",
       "      <td>USE1</td>\n",
       "      <td>0.012722</td>\n",
       "      <td>-0.070904</td>\n",
       "      <td>-3.234511</td>\n",
       "      <td>-1.0</td>\n",
       "    </tr>\n",
       "    <tr>\n",
       "      <th>ENSG00000114439.18</th>\n",
       "      <td>ENSG00000114439.18</td>\n",
       "      <td>ENSG00000114439</td>\n",
       "      <td>BBX</td>\n",
       "      <td>0.016255</td>\n",
       "      <td>0.052563</td>\n",
       "      <td>3.134511</td>\n",
       "      <td>1.0</td>\n",
       "    </tr>\n",
       "  </tbody>\n",
       "</table>\n",
       "</div>"
      ],
      "text/plain": [
       "                               Feature        ensemblID Symbol  adj.P.Val  \\\n",
       "Feature                                                                     \n",
       "ENSG00000053501.12  ENSG00000053501.12  ENSG00000053501   USE1   0.012722   \n",
       "ENSG00000114439.18  ENSG00000114439.18  ENSG00000114439    BBX   0.016255   \n",
       "\n",
       "                       logFC         t  Dir  \n",
       "Feature                                      \n",
       "ENSG00000053501.12 -0.070904 -3.234511 -1.0  \n",
       "ENSG00000114439.18  0.052563  3.134511  1.0  "
      ]
     },
     "execution_count": 1,
     "metadata": {},
     "output_type": "execute_result"
    }
   ],
   "source": [
    "get_deg_sig(config['caudate'], 0.05)[get_deg_sig(config['caudate'], 0.05).Symbol.isin([\"USE1\", \"BBX\"])]"
   ]
  },
  {
   "cell_type": "code",
   "execution_count": 11,
   "metadata": {
    "execution": {
     "iopub.execute_input": "2021-08-06T15:03:00.899843Z",
     "iopub.status.busy": "2021-08-06T15:03:00.898609Z",
     "iopub.status.idle": "2021-08-06T15:03:00.903944Z",
     "shell.execute_reply": "2021-08-06T15:03:00.902827Z"
    }
   },
   "outputs": [
    {
     "data": {
      "text/html": [
       "<div>\n",
       "<style scoped>\n",
       "    .dataframe tbody tr th:only-of-type {\n",
       "        vertical-align: middle;\n",
       "    }\n",
       "\n",
       "    .dataframe tbody tr th {\n",
       "        vertical-align: top;\n",
       "    }\n",
       "\n",
       "    .dataframe thead th {\n",
       "        text-align: right;\n",
       "    }\n",
       "</style>\n",
       "<table border=\"1\" class=\"dataframe\">\n",
       "  <thead>\n",
       "    <tr style=\"text-align: right;\">\n",
       "      <th></th>\n",
       "      <th>Feature</th>\n",
       "      <th>ensemblID</th>\n",
       "      <th>Symbol</th>\n",
       "      <th>adj.P.Val</th>\n",
       "      <th>logFC</th>\n",
       "      <th>t</th>\n",
       "      <th>Dir</th>\n",
       "    </tr>\n",
       "    <tr>\n",
       "      <th>Feature</th>\n",
       "      <th></th>\n",
       "      <th></th>\n",
       "      <th></th>\n",
       "      <th></th>\n",
       "      <th></th>\n",
       "      <th></th>\n",
       "      <th></th>\n",
       "    </tr>\n",
       "  </thead>\n",
       "  <tbody>\n",
       "    <tr>\n",
       "      <th>ENSG00000053501.12</th>\n",
       "      <td>ENSG00000053501.12</td>\n",
       "      <td>ENSG00000053501</td>\n",
       "      <td>USE1</td>\n",
       "      <td>0.031459</td>\n",
       "      <td>-0.120799</td>\n",
       "      <td>-3.953364</td>\n",
       "      <td>-1.0</td>\n",
       "    </tr>\n",
       "  </tbody>\n",
       "</table>\n",
       "</div>"
      ],
      "text/plain": [
       "                               Feature        ensemblID Symbol  adj.P.Val  \\\n",
       "Feature                                                                     \n",
       "ENSG00000053501.12  ENSG00000053501.12  ENSG00000053501   USE1   0.031459   \n",
       "\n",
       "                       logFC         t  Dir  \n",
       "Feature                                      \n",
       "ENSG00000053501.12 -0.120799 -3.953364 -1.0  "
      ]
     },
     "execution_count": 1,
     "metadata": {},
     "output_type": "execute_result"
    }
   ],
   "source": [
    "get_deg_sig(config['hippo'], 0.05)[get_deg_sig(config['hippo'], 0.05).Symbol == 'USE1']"
   ]
  },
  {
   "cell_type": "code",
   "execution_count": 12,
   "metadata": {
    "execution": {
     "iopub.execute_input": "2021-08-06T15:03:00.911471Z",
     "iopub.status.busy": "2021-08-06T15:03:00.910208Z",
     "iopub.status.idle": "2021-08-06T15:03:01.391051Z",
     "shell.execute_reply": "2021-08-06T15:03:01.392071Z"
    }
   },
   "outputs": [
    {
     "name": "stdout",
     "output_type": "stream",
     "text": [
      "There is 5 (10.9%) overlap between Caudate and PFC!\n",
      "There is 1 (2.2%) overlap between DLPFC and PFC!\n",
      "There is 2 (4.3%) overlap between Hippocampus and PFC!\n"
     ]
    }
   ],
   "source": [
    "for tissue in ['caudate', 'dlpfc', 'hippo']:\n",
    "    fdr = 0.05 if tissue != 'dlpfc' else 0.05\n",
    "    tot = len(set(qin.loc[:, 'Gene symbol ']))\n",
    "    overlap = len(set(get_deg_sig(config2[tissue], fdr).Symbol) & \n",
    "                  set(qin.loc[:, 'Gene symbol '].str.replace(' ','')))\n",
    "    xx = overlap / tot\n",
    "    print(\"There is %d (%.1f%%) overlap between %s and PFC!\" % \n",
    "          (overlap, xx* 100, tissue_annotation(tissue)))"
   ]
  },
  {
   "cell_type": "code",
   "execution_count": 13,
   "metadata": {
    "execution": {
     "iopub.execute_input": "2021-08-06T15:03:01.400178Z",
     "iopub.status.busy": "2021-08-06T15:03:01.398908Z",
     "iopub.status.idle": "2021-08-06T15:03:01.404313Z",
     "shell.execute_reply": "2021-08-06T15:03:01.403160Z"
    }
   },
   "outputs": [
    {
     "data": {
      "text/plain": [
       "{'ABCG2', 'BBX', 'GABARAPL1', 'PARD3', 'USE1'}"
      ]
     },
     "execution_count": 1,
     "metadata": {},
     "output_type": "execute_result"
    }
   ],
   "source": [
    "shared = set(get_deg_sig(config2['caudate'], 0.05).Symbol) & set(qin.loc[:, 'Gene symbol '].str.replace(' ',''))\n",
    "shared"
   ]
  },
  {
   "cell_type": "code",
   "execution_count": 14,
   "metadata": {
    "execution": {
     "iopub.execute_input": "2021-08-06T15:03:01.417960Z",
     "iopub.status.busy": "2021-08-06T15:03:01.416704Z",
     "iopub.status.idle": "2021-08-06T15:03:01.421071Z",
     "shell.execute_reply": "2021-08-06T15:03:01.422053Z"
    }
   },
   "outputs": [
    {
     "data": {
      "text/html": [
       "<div>\n",
       "<style scoped>\n",
       "    .dataframe tbody tr th:only-of-type {\n",
       "        vertical-align: middle;\n",
       "    }\n",
       "\n",
       "    .dataframe tbody tr th {\n",
       "        vertical-align: top;\n",
       "    }\n",
       "\n",
       "    .dataframe thead th {\n",
       "        text-align: right;\n",
       "    }\n",
       "</style>\n",
       "<table border=\"1\" class=\"dataframe\">\n",
       "  <thead>\n",
       "    <tr style=\"text-align: right;\">\n",
       "      <th></th>\n",
       "      <th>Probe set</th>\n",
       "      <th>Gene symbol</th>\n",
       "      <th>Locus</th>\n",
       "      <th>Description</th>\n",
       "      <th>Fold difference</th>\n",
       "      <th>q-value</th>\n",
       "    </tr>\n",
       "  </thead>\n",
       "  <tbody>\n",
       "    <tr>\n",
       "      <th>0</th>\n",
       "      <td>209735_at</td>\n",
       "      <td>ABCG2</td>\n",
       "      <td>4q22</td>\n",
       "      <td>ATP-binding cassette, sub-family G (WHITE), me...</td>\n",
       "      <td>−1.29</td>\n",
       "      <td>0.031</td>\n",
       "    </tr>\n",
       "    <tr>\n",
       "      <th>1</th>\n",
       "      <td>208868_s_at</td>\n",
       "      <td>GABARAPL1</td>\n",
       "      <td>12p13.2</td>\n",
       "      <td>GABA(A) receptor-associated protein like 1</td>\n",
       "      <td>−1.17</td>\n",
       "      <td>0.043</td>\n",
       "    </tr>\n",
       "    <tr>\n",
       "      <th>17</th>\n",
       "      <td>221706_s_at</td>\n",
       "      <td>USE1</td>\n",
       "      <td>19p13.11</td>\n",
       "      <td>unconventional SNARE in the ER 1 homolog (S. c...</td>\n",
       "      <td>−1.07</td>\n",
       "      <td>0.042</td>\n",
       "    </tr>\n",
       "    <tr>\n",
       "      <th>31</th>\n",
       "      <td>213016_at</td>\n",
       "      <td>BBX</td>\n",
       "      <td>3q13.1</td>\n",
       "      <td>bobby sox homolog (Drosophila)</td>\n",
       "      <td>1.21</td>\n",
       "      <td>0.031</td>\n",
       "    </tr>\n",
       "    <tr>\n",
       "      <th>49</th>\n",
       "      <td>210094_s_at</td>\n",
       "      <td>PARD3</td>\n",
       "      <td>10p11.21</td>\n",
       "      <td>par-3 partitioning defective 3 homolog (C. ele...</td>\n",
       "      <td>1.08</td>\n",
       "      <td>0.041</td>\n",
       "    </tr>\n",
       "  </tbody>\n",
       "</table>\n",
       "</div>"
      ],
      "text/plain": [
       "      Probe set  Gene symbol      Locus   \\\n",
       "0     209735_at        ABCG2       4q22    \n",
       "1   208868_s_at    GABARAPL1    12p13.2    \n",
       "17  221706_s_at         USE1   19p13.11    \n",
       "31    213016_at          BBX     3q13.1    \n",
       "49  210094_s_at        PARD3   10p11.21    \n",
       "\n",
       "                                         Description  Fold difference   \\\n",
       "0   ATP-binding cassette, sub-family G (WHITE), me...           −1.29    \n",
       "1         GABA(A) receptor-associated protein like 1            −1.17    \n",
       "17  unconventional SNARE in the ER 1 homolog (S. c...           −1.07    \n",
       "31                    bobby sox homolog (Drosophila)              1.21   \n",
       "49  par-3 partitioning defective 3 homolog (C. ele...             1.08   \n",
       "\n",
       "    q-value   \n",
       "0      0.031  \n",
       "1      0.043  \n",
       "17     0.042  \n",
       "31     0.031  \n",
       "49     0.041  "
      ]
     },
     "execution_count": 1,
     "metadata": {},
     "output_type": "execute_result"
    }
   ],
   "source": [
    "qin[qin['Gene symbol '].isin(['ABCG2 ', 'GABARAPL1 ', 'PARD3 ', 'USE1 ', 'BBX '])]"
   ]
  },
  {
   "cell_type": "code",
   "execution_count": 15,
   "metadata": {
    "execution": {
     "iopub.execute_input": "2021-08-06T15:03:01.437665Z",
     "iopub.status.busy": "2021-08-06T15:03:01.436235Z",
     "iopub.status.idle": "2021-08-06T15:03:01.441385Z",
     "shell.execute_reply": "2021-08-06T15:03:01.442446Z"
    }
   },
   "outputs": [
    {
     "data": {
      "text/html": [
       "<div>\n",
       "<style scoped>\n",
       "    .dataframe tbody tr th:only-of-type {\n",
       "        vertical-align: middle;\n",
       "    }\n",
       "\n",
       "    .dataframe tbody tr th {\n",
       "        vertical-align: top;\n",
       "    }\n",
       "\n",
       "    .dataframe thead th {\n",
       "        text-align: right;\n",
       "    }\n",
       "</style>\n",
       "<table border=\"1\" class=\"dataframe\">\n",
       "  <thead>\n",
       "    <tr style=\"text-align: right;\">\n",
       "      <th></th>\n",
       "      <th>Feature</th>\n",
       "      <th>ensemblID</th>\n",
       "      <th>Symbol</th>\n",
       "      <th>adj.P.Val</th>\n",
       "      <th>logFC</th>\n",
       "      <th>t</th>\n",
       "      <th>Dir</th>\n",
       "    </tr>\n",
       "  </thead>\n",
       "  <tbody>\n",
       "    <tr>\n",
       "      <th>ENSG00000139112.10</th>\n",
       "      <td>ENSG00000139112.10</td>\n",
       "      <td>ENSG00000139112</td>\n",
       "      <td>GABARAPL1</td>\n",
       "      <td>0.000093</td>\n",
       "      <td>0.142220</td>\n",
       "      <td>4.872570</td>\n",
       "      <td>1.0</td>\n",
       "    </tr>\n",
       "    <tr>\n",
       "      <th>ENSG00000118777.10</th>\n",
       "      <td>ENSG00000118777.10</td>\n",
       "      <td>ENSG00000118777</td>\n",
       "      <td>ABCG2</td>\n",
       "      <td>0.009206</td>\n",
       "      <td>-0.255668</td>\n",
       "      <td>-3.364630</td>\n",
       "      <td>-1.0</td>\n",
       "    </tr>\n",
       "    <tr>\n",
       "      <th>ENSG00000053501.12</th>\n",
       "      <td>ENSG00000053501.12</td>\n",
       "      <td>ENSG00000053501</td>\n",
       "      <td>USE1</td>\n",
       "      <td>0.012722</td>\n",
       "      <td>-0.070904</td>\n",
       "      <td>-3.234511</td>\n",
       "      <td>-1.0</td>\n",
       "    </tr>\n",
       "    <tr>\n",
       "      <th>ENSG00000114439.18</th>\n",
       "      <td>ENSG00000114439.18</td>\n",
       "      <td>ENSG00000114439</td>\n",
       "      <td>BBX</td>\n",
       "      <td>0.016255</td>\n",
       "      <td>0.052563</td>\n",
       "      <td>3.134511</td>\n",
       "      <td>1.0</td>\n",
       "    </tr>\n",
       "    <tr>\n",
       "      <th>ENSG00000148498.15</th>\n",
       "      <td>ENSG00000148498.15</td>\n",
       "      <td>ENSG00000148498</td>\n",
       "      <td>PARD3</td>\n",
       "      <td>0.036528</td>\n",
       "      <td>0.059527</td>\n",
       "      <td>2.776951</td>\n",
       "      <td>1.0</td>\n",
       "    </tr>\n",
       "  </tbody>\n",
       "</table>\n",
       "</div>"
      ],
      "text/plain": [
       "                               Feature        ensemblID     Symbol  adj.P.Val  \\\n",
       "ENSG00000139112.10  ENSG00000139112.10  ENSG00000139112  GABARAPL1   0.000093   \n",
       "ENSG00000118777.10  ENSG00000118777.10  ENSG00000118777      ABCG2   0.009206   \n",
       "ENSG00000053501.12  ENSG00000053501.12  ENSG00000053501       USE1   0.012722   \n",
       "ENSG00000114439.18  ENSG00000114439.18  ENSG00000114439        BBX   0.016255   \n",
       "ENSG00000148498.15  ENSG00000148498.15  ENSG00000148498      PARD3   0.036528   \n",
       "\n",
       "                       logFC         t  Dir  \n",
       "ENSG00000139112.10  0.142220  4.872570  1.0  \n",
       "ENSG00000118777.10 -0.255668 -3.364630 -1.0  \n",
       "ENSG00000053501.12 -0.070904 -3.234511 -1.0  \n",
       "ENSG00000114439.18  0.052563  3.134511  1.0  \n",
       "ENSG00000148498.15  0.059527  2.776951  1.0  "
      ]
     },
     "execution_count": 1,
     "metadata": {},
     "output_type": "execute_result"
    }
   ],
   "source": [
    "get_deg_sig(config2['caudate'], 0.05)[get_deg_sig(config2['caudate'], 0.05)\\\n",
    "    .Symbol.isin(['ABCG2', 'GABARAPL1', 'PARD3', 'USE1', \"BBX\"])]"
   ]
  },
  {
   "cell_type": "code",
   "execution_count": 16,
   "metadata": {
    "execution": {
     "iopub.execute_input": "2021-08-06T15:03:01.451071Z",
     "iopub.status.busy": "2021-08-06T15:03:01.449681Z",
     "iopub.status.idle": "2021-08-06T15:03:01.455452Z",
     "shell.execute_reply": "2021-08-06T15:03:01.454277Z"
    }
   },
   "outputs": [
    {
     "data": {
      "text/plain": [
       "{'ABCG2'}"
      ]
     },
     "execution_count": 1,
     "metadata": {},
     "output_type": "execute_result"
    }
   ],
   "source": [
    "set(get_deg_sig(config2['dlpfc'], 0.05).Symbol) & set(qin.loc[:, 'Gene symbol '].str.replace(' ',''))"
   ]
  },
  {
   "cell_type": "code",
   "execution_count": 17,
   "metadata": {
    "execution": {
     "iopub.execute_input": "2021-08-06T15:03:01.467859Z",
     "iopub.status.busy": "2021-08-06T15:03:01.466622Z",
     "iopub.status.idle": "2021-08-06T15:03:01.472049Z",
     "shell.execute_reply": "2021-08-06T15:03:01.470901Z"
    }
   },
   "outputs": [
    {
     "data": {
      "text/html": [
       "<div>\n",
       "<style scoped>\n",
       "    .dataframe tbody tr th:only-of-type {\n",
       "        vertical-align: middle;\n",
       "    }\n",
       "\n",
       "    .dataframe tbody tr th {\n",
       "        vertical-align: top;\n",
       "    }\n",
       "\n",
       "    .dataframe thead th {\n",
       "        text-align: right;\n",
       "    }\n",
       "</style>\n",
       "<table border=\"1\" class=\"dataframe\">\n",
       "  <thead>\n",
       "    <tr style=\"text-align: right;\">\n",
       "      <th></th>\n",
       "      <th>Probe set</th>\n",
       "      <th>Gene symbol</th>\n",
       "      <th>Locus</th>\n",
       "      <th>Description</th>\n",
       "      <th>Fold difference</th>\n",
       "      <th>q-value</th>\n",
       "    </tr>\n",
       "  </thead>\n",
       "  <tbody>\n",
       "    <tr>\n",
       "      <th>0</th>\n",
       "      <td>209735_at</td>\n",
       "      <td>ABCG2</td>\n",
       "      <td>4q22</td>\n",
       "      <td>ATP-binding cassette, sub-family G (WHITE), me...</td>\n",
       "      <td>−1.29</td>\n",
       "      <td>0.031</td>\n",
       "    </tr>\n",
       "  </tbody>\n",
       "</table>\n",
       "</div>"
      ],
      "text/plain": [
       "   Probe set  Gene symbol  Locus   \\\n",
       "0  209735_at        ABCG2   4q22    \n",
       "\n",
       "                                        Description  Fold difference   \\\n",
       "0  ATP-binding cassette, sub-family G (WHITE), me...           −1.29    \n",
       "\n",
       "   q-value   \n",
       "0     0.031  "
      ]
     },
     "execution_count": 1,
     "metadata": {},
     "output_type": "execute_result"
    }
   ],
   "source": [
    "qin[qin['Gene symbol '].isin(['ABCG2 '])]"
   ]
  },
  {
   "cell_type": "code",
   "execution_count": 18,
   "metadata": {
    "execution": {
     "iopub.execute_input": "2021-08-06T15:03:01.485236Z",
     "iopub.status.busy": "2021-08-06T15:03:01.484012Z",
     "iopub.status.idle": "2021-08-06T15:03:01.489327Z",
     "shell.execute_reply": "2021-08-06T15:03:01.488218Z"
    }
   },
   "outputs": [
    {
     "data": {
      "text/html": [
       "<div>\n",
       "<style scoped>\n",
       "    .dataframe tbody tr th:only-of-type {\n",
       "        vertical-align: middle;\n",
       "    }\n",
       "\n",
       "    .dataframe tbody tr th {\n",
       "        vertical-align: top;\n",
       "    }\n",
       "\n",
       "    .dataframe thead th {\n",
       "        text-align: right;\n",
       "    }\n",
       "</style>\n",
       "<table border=\"1\" class=\"dataframe\">\n",
       "  <thead>\n",
       "    <tr style=\"text-align: right;\">\n",
       "      <th></th>\n",
       "      <th>Feature</th>\n",
       "      <th>ensemblID</th>\n",
       "      <th>Symbol</th>\n",
       "      <th>adj.P.Val</th>\n",
       "      <th>logFC</th>\n",
       "      <th>t</th>\n",
       "      <th>Dir</th>\n",
       "    </tr>\n",
       "  </thead>\n",
       "  <tbody>\n",
       "    <tr>\n",
       "      <th>ENSG00000118777.10</th>\n",
       "      <td>ENSG00000118777.10</td>\n",
       "      <td>ENSG00000118777</td>\n",
       "      <td>ABCG2</td>\n",
       "      <td>0.002825</td>\n",
       "      <td>-0.391751</td>\n",
       "      <td>-4.78399</td>\n",
       "      <td>-1.0</td>\n",
       "    </tr>\n",
       "  </tbody>\n",
       "</table>\n",
       "</div>"
      ],
      "text/plain": [
       "                               Feature        ensemblID Symbol  adj.P.Val  \\\n",
       "ENSG00000118777.10  ENSG00000118777.10  ENSG00000118777  ABCG2   0.002825   \n",
       "\n",
       "                       logFC        t  Dir  \n",
       "ENSG00000118777.10 -0.391751 -4.78399 -1.0  "
      ]
     },
     "execution_count": 1,
     "metadata": {},
     "output_type": "execute_result"
    }
   ],
   "source": [
    "get_deg_sig(config2['dlpfc'], 0.05)[get_deg_sig(config2['dlpfc'], 0.05)\\\n",
    "    .Symbol.isin(['ABCG2'])]"
   ]
  },
  {
   "cell_type": "code",
   "execution_count": 19,
   "metadata": {
    "execution": {
     "iopub.execute_input": "2021-08-06T15:03:01.496529Z",
     "iopub.status.busy": "2021-08-06T15:03:01.495309Z",
     "iopub.status.idle": "2021-08-06T15:03:01.500491Z",
     "shell.execute_reply": "2021-08-06T15:03:01.499393Z"
    }
   },
   "outputs": [
    {
     "data": {
      "text/plain": [
       "{'ABCG2', 'USE1'}"
      ]
     },
     "execution_count": 1,
     "metadata": {},
     "output_type": "execute_result"
    }
   ],
   "source": [
    "set(get_deg_sig(config2['hippo'], 0.05).Symbol) & set(qin.loc[:, 'Gene symbol '].str.replace(' ',''))"
   ]
  },
  {
   "cell_type": "code",
   "execution_count": 20,
   "metadata": {
    "execution": {
     "iopub.execute_input": "2021-08-06T15:03:01.517804Z",
     "iopub.status.busy": "2021-08-06T15:03:01.516573Z",
     "iopub.status.idle": "2021-08-06T15:03:01.520836Z",
     "shell.execute_reply": "2021-08-06T15:03:01.521865Z"
    }
   },
   "outputs": [
    {
     "data": {
      "text/html": [
       "<div>\n",
       "<style scoped>\n",
       "    .dataframe tbody tr th:only-of-type {\n",
       "        vertical-align: middle;\n",
       "    }\n",
       "\n",
       "    .dataframe tbody tr th {\n",
       "        vertical-align: top;\n",
       "    }\n",
       "\n",
       "    .dataframe thead th {\n",
       "        text-align: right;\n",
       "    }\n",
       "</style>\n",
       "<table border=\"1\" class=\"dataframe\">\n",
       "  <thead>\n",
       "    <tr style=\"text-align: right;\">\n",
       "      <th></th>\n",
       "      <th>Probe set</th>\n",
       "      <th>Gene symbol</th>\n",
       "      <th>Locus</th>\n",
       "      <th>Description</th>\n",
       "      <th>Fold difference</th>\n",
       "      <th>q-value</th>\n",
       "    </tr>\n",
       "  </thead>\n",
       "  <tbody>\n",
       "    <tr>\n",
       "      <th>0</th>\n",
       "      <td>209735_at</td>\n",
       "      <td>ABCG2</td>\n",
       "      <td>4q22</td>\n",
       "      <td>ATP-binding cassette, sub-family G (WHITE), me...</td>\n",
       "      <td>−1.29</td>\n",
       "      <td>0.031</td>\n",
       "    </tr>\n",
       "    <tr>\n",
       "      <th>17</th>\n",
       "      <td>221706_s_at</td>\n",
       "      <td>USE1</td>\n",
       "      <td>19p13.11</td>\n",
       "      <td>unconventional SNARE in the ER 1 homolog (S. c...</td>\n",
       "      <td>−1.07</td>\n",
       "      <td>0.042</td>\n",
       "    </tr>\n",
       "  </tbody>\n",
       "</table>\n",
       "</div>"
      ],
      "text/plain": [
       "      Probe set  Gene symbol      Locus   \\\n",
       "0     209735_at        ABCG2       4q22    \n",
       "17  221706_s_at         USE1   19p13.11    \n",
       "\n",
       "                                         Description  Fold difference   \\\n",
       "0   ATP-binding cassette, sub-family G (WHITE), me...           −1.29    \n",
       "17  unconventional SNARE in the ER 1 homolog (S. c...           −1.07    \n",
       "\n",
       "    q-value   \n",
       "0      0.031  \n",
       "17     0.042  "
      ]
     },
     "execution_count": 1,
     "metadata": {},
     "output_type": "execute_result"
    }
   ],
   "source": [
    "qin[qin['Gene symbol '].isin(['ABCG2 ', 'USE1 '])]"
   ]
  },
  {
   "cell_type": "code",
   "execution_count": 21,
   "metadata": {
    "execution": {
     "iopub.execute_input": "2021-08-06T15:03:01.541007Z",
     "iopub.status.busy": "2021-08-06T15:03:01.539746Z",
     "iopub.status.idle": "2021-08-06T15:03:01.543969Z",
     "shell.execute_reply": "2021-08-06T15:03:01.544980Z"
    }
   },
   "outputs": [
    {
     "data": {
      "text/html": [
       "<div>\n",
       "<style scoped>\n",
       "    .dataframe tbody tr th:only-of-type {\n",
       "        vertical-align: middle;\n",
       "    }\n",
       "\n",
       "    .dataframe tbody tr th {\n",
       "        vertical-align: top;\n",
       "    }\n",
       "\n",
       "    .dataframe thead th {\n",
       "        text-align: right;\n",
       "    }\n",
       "</style>\n",
       "<table border=\"1\" class=\"dataframe\">\n",
       "  <thead>\n",
       "    <tr style=\"text-align: right;\">\n",
       "      <th></th>\n",
       "      <th>Feature</th>\n",
       "      <th>ensemblID</th>\n",
       "      <th>Symbol</th>\n",
       "      <th>adj.P.Val</th>\n",
       "      <th>logFC</th>\n",
       "      <th>t</th>\n",
       "      <th>Dir</th>\n",
       "    </tr>\n",
       "  </thead>\n",
       "  <tbody>\n",
       "    <tr>\n",
       "      <th>ENSG00000118777.10</th>\n",
       "      <td>ENSG00000118777.10</td>\n",
       "      <td>ENSG00000118777</td>\n",
       "      <td>ABCG2</td>\n",
       "      <td>0.017282</td>\n",
       "      <td>-0.383008</td>\n",
       "      <td>-4.289096</td>\n",
       "      <td>-1.0</td>\n",
       "    </tr>\n",
       "    <tr>\n",
       "      <th>ENSG00000053501.12</th>\n",
       "      <td>ENSG00000053501.12</td>\n",
       "      <td>ENSG00000053501</td>\n",
       "      <td>USE1</td>\n",
       "      <td>0.031459</td>\n",
       "      <td>-0.120799</td>\n",
       "      <td>-3.953364</td>\n",
       "      <td>-1.0</td>\n",
       "    </tr>\n",
       "  </tbody>\n",
       "</table>\n",
       "</div>"
      ],
      "text/plain": [
       "                               Feature        ensemblID Symbol  adj.P.Val  \\\n",
       "ENSG00000118777.10  ENSG00000118777.10  ENSG00000118777  ABCG2   0.017282   \n",
       "ENSG00000053501.12  ENSG00000053501.12  ENSG00000053501   USE1   0.031459   \n",
       "\n",
       "                       logFC         t  Dir  \n",
       "ENSG00000118777.10 -0.383008 -4.289096 -1.0  \n",
       "ENSG00000053501.12 -0.120799 -3.953364 -1.0  "
      ]
     },
     "execution_count": 1,
     "metadata": {},
     "output_type": "execute_result"
    }
   ],
   "source": [
    "get_deg_sig(config2['hippo'], 0.05)[get_deg_sig(config2['hippo'], 0.05)\\\n",
    "    .Symbol.isin(['ABCG2', 'USE1'])]"
   ]
  },
  {
   "cell_type": "markdown",
   "metadata": {},
   "source": [
    "#### GABARAPL1 direction does not agree"
   ]
  },
  {
   "cell_type": "code",
   "execution_count": null,
   "metadata": {},
   "outputs": [],
   "source": []
  }
 ],
 "metadata": {
  "kernelspec": {
   "display_name": "Python 3",
   "language": "python",
   "name": "python3"
  },
  "language_info": {
   "codemirror_mode": {
    "name": "ipython",
    "version": 3
   },
   "file_extension": ".py",
   "mimetype": "text/x-python",
   "name": "python",
   "nbconvert_exporter": "python",
   "pygments_lexer": "ipython3",
   "version": "3.9.1"
  }
 },
 "nbformat": 4,
 "nbformat_minor": 4
}
