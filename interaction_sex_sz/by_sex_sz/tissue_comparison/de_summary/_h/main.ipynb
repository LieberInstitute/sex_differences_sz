{
 "cells": [
  {
   "cell_type": "markdown",
   "metadata": {},
   "source": [
    "# Summary of by sex schizophrenia results"
   ]
  },
  {
   "cell_type": "code",
   "execution_count": null,
   "metadata": {},
   "outputs": [],
   "source": [
    "import pandas as pd"
   ]
  },
  {
   "cell_type": "markdown",
   "metadata": {},
   "source": [
    "## Functions"
   ]
  },
  {
   "cell_type": "code",
   "execution_count": null,
   "metadata": {},
   "outputs": [],
   "source": [
    "def map_tissue(tissue):\n",
    "    return {\"caudate\": \"Caudate\", \"dlpfc\": \"DLPFC\", \n",
    "            \"hippocampus\": \"Hippocampus\"}[tissue]\n",
    "\n",
    "\n",
    "def get_degs(tissue):\n",
    "    f_file = \"../../../%s/female_analysis/metrics_summary/\" % tissue+\\\n",
    "            \"_m/female_specific_DE_4features.txt\"\n",
    "    m_file = \"../../../%s/male_analysis/metrics_summary/\" % tissue+\\\n",
    "            \"_m/male_specific_DE_4features.txt\"\n",
    "    female = pd.read_csv(f_file, sep='\\t').drop([\"Male_Pval\", \"Male_FDR\"], axis=1)\n",
    "    female[\"Sex\"] = \"Female\"\n",
    "    male = pd.read_csv(m_file, sep='\\t').drop([\"Female_Pval\", \"Female_FDR\"], axis=1)\n",
    "    male[\"Sex\"] = \"Male\"\n",
    "    df = pd.concat([female, male], axis=0)\n",
    "    df[\"Tissue\"] = map_tissue(tissue)\n",
    "    return df"
   ]
  },
  {
   "cell_type": "markdown",
   "metadata": {},
   "source": [
    "## Examine data"
   ]
  },
  {
   "cell_type": "markdown",
   "metadata": {},
   "source": [
    "### Extract DEs"
   ]
  },
  {
   "cell_type": "code",
   "execution_count": null,
   "metadata": {},
   "outputs": [],
   "source": [
    "dt = pd.DataFrame()\n",
    "for tissue in [\"caudate\", \"dlpfc\", \"hippocampus\"]:\n",
    "    dt = pd.concat([dt, get_degs(tissue)])\n",
    "dt.shape"
   ]
  },
  {
   "cell_type": "markdown",
   "metadata": {},
   "source": [
    "### print summary"
   ]
  },
  {
   "cell_type": "markdown",
   "metadata": {},
   "source": [
    "#### Features"
   ]
  },
  {
   "cell_type": "code",
   "execution_count": null,
   "metadata": {},
   "outputs": [],
   "source": [
    "dt.groupby([\"Tissue\", \"Sex\", \"Type\"]).size()"
   ]
  },
  {
   "cell_type": "markdown",
   "metadata": {},
   "source": [
    "#### ensemblID"
   ]
  },
  {
   "cell_type": "code",
   "execution_count": null,
   "metadata": {},
   "outputs": [],
   "source": [
    "dt2 = dt.groupby([\"Tissue\", \"Sex\", \"Type\", \"ensemblID\"]).first().reset_index()\n",
    "dt2.groupby([\"Tissue\", \"Sex\", \"Type\"]).size()"
   ]
  },
  {
   "cell_type": "markdown",
   "metadata": {},
   "source": [
    "### Save results"
   ]
  },
  {
   "cell_type": "code",
   "execution_count": null,
   "metadata": {},
   "outputs": [],
   "source": [
    "dt.to_csv(\"differential_expression_schizophrenia_by_sex_4features.txt.gz\", sep='\\t', index=False)\n",
    "dt.head(5)"
   ]
  },
  {
   "cell_type": "code",
   "execution_count": null,
   "metadata": {},
   "outputs": [],
   "source": []
  }
 ],
 "metadata": {
  "kernelspec": {
   "display_name": "Python 3 (ipykernel)",
   "language": "python",
   "name": "python3"
  },
  "language_info": {
   "codemirror_mode": {
    "name": "ipython",
    "version": 3
   },
   "file_extension": ".py",
   "mimetype": "text/x-python",
   "name": "python",
   "nbconvert_exporter": "python",
   "pygments_lexer": "ipython3",
   "version": "3.9.7"
  }
 },
 "nbformat": 4,
 "nbformat_minor": 4
}
