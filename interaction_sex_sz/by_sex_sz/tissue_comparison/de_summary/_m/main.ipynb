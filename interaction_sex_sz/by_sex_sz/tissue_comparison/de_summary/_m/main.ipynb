{
 "cells": [
  {
   "cell_type": "markdown",
   "metadata": {},
   "source": [
    "# Summary of by sex schizophrenia results"
   ]
  },
  {
   "cell_type": "code",
   "execution_count": 1,
   "metadata": {
    "execution": {
     "iopub.execute_input": "2021-11-24T14:54:18.446470Z",
     "iopub.status.busy": "2021-11-24T14:54:18.441879Z",
     "iopub.status.idle": "2021-11-24T14:54:20.523900Z",
     "shell.execute_reply": "2021-11-24T14:54:20.519304Z"
    }
   },
   "outputs": [],
   "source": [
    "import pandas as pd"
   ]
  },
  {
   "cell_type": "markdown",
   "metadata": {},
   "source": [
    "## Functions"
   ]
  },
  {
   "cell_type": "code",
   "execution_count": 2,
   "metadata": {
    "execution": {
     "iopub.execute_input": "2021-11-24T14:54:20.557555Z",
     "iopub.status.busy": "2021-11-24T14:54:20.553634Z",
     "iopub.status.idle": "2021-11-24T14:54:20.567345Z",
     "shell.execute_reply": "2021-11-24T14:54:20.565042Z"
    }
   },
   "outputs": [],
   "source": [
    "def map_tissue(tissue):\n",
    "    return {\"caudate\": \"Caudate\", \"dlpfc\": \"DLPFC\", \n",
    "            \"hippocampus\": \"Hippocampus\"}[tissue]\n",
    "\n",
    "\n",
    "def get_degs(tissue):\n",
    "    f_file = \"../../../%s/female_analysis/metrics_summary/\" % tissue+\\\n",
    "            \"_m/female_specific_DE_4features.txt\"\n",
    "    m_file = \"../../../%s/male_analysis/metrics_summary/\" % tissue+\\\n",
    "            \"_m/male_specific_DE_4features.txt\"\n",
    "    female = pd.read_csv(f_file, sep='\\t').drop([\"Male_Pval\", \"Male_FDR\"], axis=1)\n",
    "    female[\"Sex\"] = \"Female\"\n",
    "    male = pd.read_csv(m_file, sep='\\t').drop([\"Female_Pval\", \"Female_FDR\"], axis=1)\n",
    "    male[\"Sex\"] = \"Male\"\n",
    "    df = pd.concat([female, male], axis=0)\n",
    "    df[\"Tissue\"] = map_tissue(tissue)\n",
    "    return df"
   ]
  },
  {
   "cell_type": "markdown",
   "metadata": {},
   "source": [
    "## Examine data"
   ]
  },
  {
   "cell_type": "markdown",
   "metadata": {},
   "source": [
    "### Extract DEs"
   ]
  },
  {
   "cell_type": "code",
   "execution_count": 3,
   "metadata": {
    "execution": {
     "iopub.execute_input": "2021-11-24T14:54:20.601000Z",
     "iopub.status.busy": "2021-11-24T14:54:20.597310Z",
     "iopub.status.idle": "2021-11-24T14:54:21.080696Z",
     "shell.execute_reply": "2021-11-24T14:54:21.084166Z"
    }
   },
   "outputs": [
    {
     "data": {
      "text/plain": [
       "(10835, 11)"
      ]
     },
     "execution_count": 3,
     "metadata": {},
     "output_type": "execute_result"
    }
   ],
   "source": [
    "dt = pd.DataFrame()\n",
    "for tissue in [\"caudate\", \"dlpfc\", \"hippocampus\"]:\n",
    "    dt = pd.concat([dt, get_degs(tissue)])\n",
    "dt.shape"
   ]
  },
  {
   "cell_type": "markdown",
   "metadata": {},
   "source": [
    "### print summary"
   ]
  },
  {
   "cell_type": "markdown",
   "metadata": {},
   "source": [
    "#### Features"
   ]
  },
  {
   "cell_type": "code",
   "execution_count": 4,
   "metadata": {
    "execution": {
     "iopub.execute_input": "2021-11-24T14:54:21.128140Z",
     "iopub.status.busy": "2021-11-24T14:54:21.110367Z",
     "iopub.status.idle": "2021-11-24T14:54:21.164924Z",
     "shell.execute_reply": "2021-11-24T14:54:21.160560Z"
    }
   },
   "outputs": [
    {
     "data": {
      "text/plain": [
       "Tissue       Sex     Type      \n",
       "Caudate      Female  exon            19\n",
       "                     gene            30\n",
       "                     junction        17\n",
       "                     transcript      11\n",
       "             Male    exon          5834\n",
       "                     gene          1858\n",
       "                     junction      2064\n",
       "                     transcript     480\n",
       "DLPFC        Male    exon           116\n",
       "                     gene           122\n",
       "                     junction        20\n",
       "                     transcript      22\n",
       "Hippocampus  Female  junction         5\n",
       "             Male    exon           113\n",
       "                     gene           104\n",
       "                     junction         3\n",
       "                     transcript      17\n",
       "dtype: int64"
      ]
     },
     "execution_count": 4,
     "metadata": {},
     "output_type": "execute_result"
    }
   ],
   "source": [
    "dt.groupby([\"Tissue\", \"Sex\", \"Type\"]).size()"
   ]
  },
  {
   "cell_type": "markdown",
   "metadata": {},
   "source": [
    "#### ensemblID"
   ]
  },
  {
   "cell_type": "code",
   "execution_count": 5,
   "metadata": {
    "execution": {
     "iopub.execute_input": "2021-11-24T14:54:21.195597Z",
     "iopub.status.busy": "2021-11-24T14:54:21.192343Z",
     "iopub.status.idle": "2021-11-24T14:54:21.311259Z",
     "shell.execute_reply": "2021-11-24T14:54:21.307756Z"
    }
   },
   "outputs": [
    {
     "data": {
      "text/plain": [
       "Tissue       Sex     Type      \n",
       "Caudate      Female  exon            15\n",
       "                     gene            30\n",
       "                     junction        14\n",
       "                     transcript      11\n",
       "             Male    exon          1830\n",
       "                     gene          1858\n",
       "                     junction      1061\n",
       "                     transcript     460\n",
       "DLPFC        Male    exon            80\n",
       "                     gene           122\n",
       "                     junction        17\n",
       "                     transcript      22\n",
       "Hippocampus  Female  junction         5\n",
       "             Male    exon            50\n",
       "                     gene           104\n",
       "                     junction         3\n",
       "                     transcript      15\n",
       "dtype: int64"
      ]
     },
     "execution_count": 5,
     "metadata": {},
     "output_type": "execute_result"
    }
   ],
   "source": [
    "dt2 = dt.groupby([\"Tissue\", \"Sex\", \"Type\", \"ensemblID\"]).first().reset_index()\n",
    "dt2.groupby([\"Tissue\", \"Sex\", \"Type\"]).size()"
   ]
  },
  {
   "cell_type": "markdown",
   "metadata": {},
   "source": [
    "### Save results"
   ]
  },
  {
   "cell_type": "code",
   "execution_count": 6,
   "metadata": {
    "execution": {
     "iopub.execute_input": "2021-11-24T14:54:21.338524Z",
     "iopub.status.busy": "2021-11-24T14:54:21.334650Z",
     "iopub.status.idle": "2021-11-24T14:54:21.716363Z",
     "shell.execute_reply": "2021-11-24T14:54:21.712874Z"
    }
   },
   "outputs": [
    {
     "data": {
      "text/html": [
       "<div>\n",
       "<style scoped>\n",
       "    .dataframe tbody tr th:only-of-type {\n",
       "        vertical-align: middle;\n",
       "    }\n",
       "\n",
       "    .dataframe tbody tr th {\n",
       "        vertical-align: top;\n",
       "    }\n",
       "\n",
       "    .dataframe thead th {\n",
       "        text-align: right;\n",
       "    }\n",
       "</style>\n",
       "<table border=\"1\" class=\"dataframe\">\n",
       "  <thead>\n",
       "    <tr style=\"text-align: right;\">\n",
       "      <th></th>\n",
       "      <th>Feature</th>\n",
       "      <th>gencodeID</th>\n",
       "      <th>Symbol</th>\n",
       "      <th>ensemblID</th>\n",
       "      <th>Chrom</th>\n",
       "      <th>logFC</th>\n",
       "      <th>t</th>\n",
       "      <th>adj.P.Val</th>\n",
       "      <th>Type</th>\n",
       "      <th>Sex</th>\n",
       "      <th>Tissue</th>\n",
       "    </tr>\n",
       "  </thead>\n",
       "  <tbody>\n",
       "    <tr>\n",
       "      <th>0</th>\n",
       "      <td>ENSG00000070915.9</td>\n",
       "      <td>ENSG00000070915.9</td>\n",
       "      <td>SLC12A3</td>\n",
       "      <td>ENSG00000070915</td>\n",
       "      <td>chr16</td>\n",
       "      <td>0.909953</td>\n",
       "      <td>4.668428</td>\n",
       "      <td>0.006380</td>\n",
       "      <td>gene</td>\n",
       "      <td>Female</td>\n",
       "      <td>Caudate</td>\n",
       "    </tr>\n",
       "    <tr>\n",
       "      <th>1</th>\n",
       "      <td>ENSG00000111181.12</td>\n",
       "      <td>ENSG00000111181.12</td>\n",
       "      <td>SLC6A12</td>\n",
       "      <td>ENSG00000111181</td>\n",
       "      <td>chr12</td>\n",
       "      <td>-0.432628</td>\n",
       "      <td>-4.405278</td>\n",
       "      <td>0.009994</td>\n",
       "      <td>gene</td>\n",
       "      <td>Female</td>\n",
       "      <td>Caudate</td>\n",
       "    </tr>\n",
       "    <tr>\n",
       "      <th>2</th>\n",
       "      <td>ENSG00000263006.6</td>\n",
       "      <td>ENSG00000263006.6</td>\n",
       "      <td>ROCK1P1</td>\n",
       "      <td>ENSG00000263006</td>\n",
       "      <td>chr18</td>\n",
       "      <td>0.536616</td>\n",
       "      <td>4.306700</td>\n",
       "      <td>0.012060</td>\n",
       "      <td>gene</td>\n",
       "      <td>Female</td>\n",
       "      <td>Caudate</td>\n",
       "    </tr>\n",
       "    <tr>\n",
       "      <th>3</th>\n",
       "      <td>ENSG00000224273.2</td>\n",
       "      <td>ENSG00000224273.2</td>\n",
       "      <td>NaN</td>\n",
       "      <td>ENSG00000224273</td>\n",
       "      <td>chr7</td>\n",
       "      <td>0.674541</td>\n",
       "      <td>4.289365</td>\n",
       "      <td>0.012708</td>\n",
       "      <td>gene</td>\n",
       "      <td>Female</td>\n",
       "      <td>Caudate</td>\n",
       "    </tr>\n",
       "    <tr>\n",
       "      <th>4</th>\n",
       "      <td>ENSG00000249669.8</td>\n",
       "      <td>ENSG00000249669.8</td>\n",
       "      <td>CARMN</td>\n",
       "      <td>ENSG00000249669</td>\n",
       "      <td>chr5</td>\n",
       "      <td>-0.527707</td>\n",
       "      <td>-4.202454</td>\n",
       "      <td>0.015476</td>\n",
       "      <td>gene</td>\n",
       "      <td>Female</td>\n",
       "      <td>Caudate</td>\n",
       "    </tr>\n",
       "  </tbody>\n",
       "</table>\n",
       "</div>"
      ],
      "text/plain": [
       "              Feature           gencodeID   Symbol        ensemblID  Chrom  \\\n",
       "0   ENSG00000070915.9   ENSG00000070915.9  SLC12A3  ENSG00000070915  chr16   \n",
       "1  ENSG00000111181.12  ENSG00000111181.12  SLC6A12  ENSG00000111181  chr12   \n",
       "2   ENSG00000263006.6   ENSG00000263006.6  ROCK1P1  ENSG00000263006  chr18   \n",
       "3   ENSG00000224273.2   ENSG00000224273.2      NaN  ENSG00000224273   chr7   \n",
       "4   ENSG00000249669.8   ENSG00000249669.8    CARMN  ENSG00000249669   chr5   \n",
       "\n",
       "      logFC         t  adj.P.Val  Type     Sex   Tissue  \n",
       "0  0.909953  4.668428   0.006380  gene  Female  Caudate  \n",
       "1 -0.432628 -4.405278   0.009994  gene  Female  Caudate  \n",
       "2  0.536616  4.306700   0.012060  gene  Female  Caudate  \n",
       "3  0.674541  4.289365   0.012708  gene  Female  Caudate  \n",
       "4 -0.527707 -4.202454   0.015476  gene  Female  Caudate  "
      ]
     },
     "execution_count": 6,
     "metadata": {},
     "output_type": "execute_result"
    }
   ],
   "source": [
    "dt.to_csv(\"differential_expression_schizophrenia_by_sex_4features.txt.gz\", sep='\\t', index=False)\n",
    "dt.head(5)"
   ]
  },
  {
   "cell_type": "code",
   "execution_count": null,
   "metadata": {},
   "outputs": [],
   "source": []
  }
 ],
 "metadata": {
  "kernelspec": {
   "display_name": "Python 3 (ipykernel)",
   "language": "python",
   "name": "python3"
  },
  "language_info": {
   "codemirror_mode": {
    "name": "ipython",
    "version": 3
   },
   "file_extension": ".py",
   "mimetype": "text/x-python",
   "name": "python",
   "nbconvert_exporter": "python",
   "pygments_lexer": "ipython3",
   "version": "3.9.7"
  }
 },
 "nbformat": 4,
 "nbformat_minor": 4
}
