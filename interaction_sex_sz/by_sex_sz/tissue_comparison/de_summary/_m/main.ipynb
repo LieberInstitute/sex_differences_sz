{
 "cells": [
  {
   "cell_type": "markdown",
   "metadata": {},
   "source": [
    "# Summary of by sex schizophrenia results"
   ]
  },
  {
   "cell_type": "code",
   "execution_count": 1,
   "metadata": {
    "execution": {
     "iopub.execute_input": "2021-08-06T13:34:13.308366Z",
     "iopub.status.busy": "2021-08-06T13:34:13.306957Z",
     "iopub.status.idle": "2021-08-06T13:34:13.613278Z",
     "shell.execute_reply": "2021-08-06T13:34:13.612030Z"
    }
   },
   "outputs": [],
   "source": [
    "import pandas as pd"
   ]
  },
  {
   "cell_type": "markdown",
   "metadata": {},
   "source": [
    "## Functions"
   ]
  },
  {
   "cell_type": "code",
   "execution_count": 2,
   "metadata": {
    "execution": {
     "iopub.execute_input": "2021-08-06T13:34:13.622238Z",
     "iopub.status.busy": "2021-08-06T13:34:13.620924Z",
     "iopub.status.idle": "2021-08-06T13:34:13.623530Z",
     "shell.execute_reply": "2021-08-06T13:34:13.624519Z"
    }
   },
   "outputs": [],
   "source": [
    "def map_tissue(tissue):\n",
    "    return {\"caudate\": \"Caudate\", \"dlpfc\": \"DLPFC\", \n",
    "            \"hippocampus\": \"Hippocampus\"}[tissue]\n",
    "\n",
    "\n",
    "def get_degs(tissue):\n",
    "    f_file = \"../../../%s/female_analysis/metrics_summary/\" % tissue+\\\n",
    "            \"_m/female_specific_DE_4features.txt\"\n",
    "    m_file = \"../../../%s/male_analysis/metrics_summary/\" % tissue+\\\n",
    "            \"_m/male_specific_DE_4features.txt\"\n",
    "    female = pd.read_csv(f_file, sep='\\t').drop([\"Male_Pval\", \"Male_FDR\"], axis=1)\n",
    "    female[\"Sex\"] = \"Female\"\n",
    "    male = pd.read_csv(m_file, sep='\\t').drop([\"Female_Pval\", \"Female_FDR\"], axis=1)\n",
    "    male[\"Sex\"] = \"Male\"\n",
    "    df = pd.concat([female, male], axis=0)\n",
    "    df[\"Tissue\"] = map_tissue(tissue)\n",
    "    return df"
   ]
  },
  {
   "cell_type": "markdown",
   "metadata": {},
   "source": [
    "## Examine data"
   ]
  },
  {
   "cell_type": "markdown",
   "metadata": {},
   "source": [
    "### Extract DEs"
   ]
  },
  {
   "cell_type": "code",
   "execution_count": 3,
   "metadata": {
    "execution": {
     "iopub.execute_input": "2021-08-06T13:34:13.631769Z",
     "iopub.status.busy": "2021-08-06T13:34:13.630526Z",
     "iopub.status.idle": "2021-08-06T13:34:13.710974Z",
     "shell.execute_reply": "2021-08-06T13:34:13.712152Z"
    }
   },
   "outputs": [
    {
     "data": {
      "text/plain": [
       "(10958, 11)"
      ]
     },
     "execution_count": 1,
     "metadata": {},
     "output_type": "execute_result"
    }
   ],
   "source": [
    "dt = pd.DataFrame()\n",
    "for tissue in [\"caudate\", \"dlpfc\", \"hippocampus\"]:\n",
    "    dt = pd.concat([dt, get_degs(tissue)])\n",
    "dt.shape"
   ]
  },
  {
   "cell_type": "markdown",
   "metadata": {},
   "source": [
    "### print summary"
   ]
  },
  {
   "cell_type": "markdown",
   "metadata": {},
   "source": [
    "#### Features"
   ]
  },
  {
   "cell_type": "code",
   "execution_count": 4,
   "metadata": {
    "execution": {
     "iopub.execute_input": "2021-08-06T13:34:13.719648Z",
     "iopub.status.busy": "2021-08-06T13:34:13.718419Z",
     "iopub.status.idle": "2021-08-06T13:34:13.726331Z",
     "shell.execute_reply": "2021-08-06T13:34:13.727377Z"
    }
   },
   "outputs": [
    {
     "data": {
      "text/plain": [
       "Tissue       Sex     Type      \n",
       "Caudate      Female  exon            19\n",
       "                     gene           124\n",
       "                     junction        17\n",
       "                     transcript      11\n",
       "             Male    exon          5834\n",
       "                     gene          1858\n",
       "                     junction      2064\n",
       "                     transcript     480\n",
       "DLPFC        Male    exon           116\n",
       "                     gene           122\n",
       "                     junction        49\n",
       "                     transcript      22\n",
       "Hippocampus  Female  junction         5\n",
       "             Male    exon           113\n",
       "                     gene           104\n",
       "                     junction         3\n",
       "                     transcript      17\n",
       "dtype: int64"
      ]
     },
     "execution_count": 1,
     "metadata": {},
     "output_type": "execute_result"
    }
   ],
   "source": [
    "dt.groupby([\"Tissue\", \"Sex\", \"Type\"]).size()"
   ]
  },
  {
   "cell_type": "markdown",
   "metadata": {},
   "source": [
    "#### ensemblID"
   ]
  },
  {
   "cell_type": "code",
   "execution_count": 5,
   "metadata": {
    "execution": {
     "iopub.execute_input": "2021-08-06T13:34:13.735153Z",
     "iopub.status.busy": "2021-08-06T13:34:13.733906Z",
     "iopub.status.idle": "2021-08-06T13:34:13.759022Z",
     "shell.execute_reply": "2021-08-06T13:34:13.760055Z"
    }
   },
   "outputs": [
    {
     "data": {
      "text/plain": [
       "Tissue       Sex     Type      \n",
       "Caudate      Female  exon            15\n",
       "                     gene           124\n",
       "                     junction        14\n",
       "                     transcript      11\n",
       "             Male    exon          1830\n",
       "                     gene          1858\n",
       "                     junction      1061\n",
       "                     transcript     460\n",
       "DLPFC        Male    exon            80\n",
       "                     gene           122\n",
       "                     junction        41\n",
       "                     transcript      22\n",
       "Hippocampus  Female  junction         5\n",
       "             Male    exon            50\n",
       "                     gene           104\n",
       "                     junction         3\n",
       "                     transcript      15\n",
       "dtype: int64"
      ]
     },
     "execution_count": 1,
     "metadata": {},
     "output_type": "execute_result"
    }
   ],
   "source": [
    "dt2 = dt.groupby([\"Tissue\", \"Sex\", \"Type\", \"ensemblID\"]).first().reset_index()\n",
    "dt2.groupby([\"Tissue\", \"Sex\", \"Type\"]).size()"
   ]
  },
  {
   "cell_type": "markdown",
   "metadata": {},
   "source": [
    "### Save results"
   ]
  },
  {
   "cell_type": "code",
   "execution_count": 6,
   "metadata": {
    "execution": {
     "iopub.execute_input": "2021-08-06T13:34:13.766277Z",
     "iopub.status.busy": "2021-08-06T13:34:13.765035Z",
     "iopub.status.idle": "2021-08-06T13:34:14.032908Z",
     "shell.execute_reply": "2021-08-06T13:34:14.033971Z"
    }
   },
   "outputs": [
    {
     "data": {
      "text/html": [
       "<div>\n",
       "<style scoped>\n",
       "    .dataframe tbody tr th:only-of-type {\n",
       "        vertical-align: middle;\n",
       "    }\n",
       "\n",
       "    .dataframe tbody tr th {\n",
       "        vertical-align: top;\n",
       "    }\n",
       "\n",
       "    .dataframe thead th {\n",
       "        text-align: right;\n",
       "    }\n",
       "</style>\n",
       "<table border=\"1\" class=\"dataframe\">\n",
       "  <thead>\n",
       "    <tr style=\"text-align: right;\">\n",
       "      <th></th>\n",
       "      <th>Feature</th>\n",
       "      <th>gencodeID</th>\n",
       "      <th>Symbol</th>\n",
       "      <th>ensemblID</th>\n",
       "      <th>Chrom</th>\n",
       "      <th>logFC</th>\n",
       "      <th>t</th>\n",
       "      <th>adj.P.Val</th>\n",
       "      <th>Type</th>\n",
       "      <th>Sex</th>\n",
       "      <th>Tissue</th>\n",
       "    </tr>\n",
       "  </thead>\n",
       "  <tbody>\n",
       "    <tr>\n",
       "      <th>0</th>\n",
       "      <td>ENSG00000111181.12</td>\n",
       "      <td>ENSG00000111181.12</td>\n",
       "      <td>SLC6A12</td>\n",
       "      <td>ENSG00000111181</td>\n",
       "      <td>chr12</td>\n",
       "      <td>-0.456838</td>\n",
       "      <td>-4.917349</td>\n",
       "      <td>0.001106</td>\n",
       "      <td>gene</td>\n",
       "      <td>Female</td>\n",
       "      <td>Caudate</td>\n",
       "    </tr>\n",
       "    <tr>\n",
       "      <th>1</th>\n",
       "      <td>ENSG00000070915.9</td>\n",
       "      <td>ENSG00000070915.9</td>\n",
       "      <td>SLC12A3</td>\n",
       "      <td>ENSG00000070915</td>\n",
       "      <td>chr16</td>\n",
       "      <td>0.848495</td>\n",
       "      <td>4.756160</td>\n",
       "      <td>0.001680</td>\n",
       "      <td>gene</td>\n",
       "      <td>Female</td>\n",
       "      <td>Caudate</td>\n",
       "    </tr>\n",
       "    <tr>\n",
       "      <th>2</th>\n",
       "      <td>ENSG00000263006.6</td>\n",
       "      <td>ENSG00000263006.6</td>\n",
       "      <td>ROCK1P1</td>\n",
       "      <td>ENSG00000263006</td>\n",
       "      <td>chr18</td>\n",
       "      <td>0.537733</td>\n",
       "      <td>4.498877</td>\n",
       "      <td>0.003265</td>\n",
       "      <td>gene</td>\n",
       "      <td>Female</td>\n",
       "      <td>Caudate</td>\n",
       "    </tr>\n",
       "    <tr>\n",
       "      <th>3</th>\n",
       "      <td>ENSG00000141750.6</td>\n",
       "      <td>ENSG00000141750.6</td>\n",
       "      <td>STAC2</td>\n",
       "      <td>ENSG00000141750</td>\n",
       "      <td>chr17</td>\n",
       "      <td>0.264285</td>\n",
       "      <td>4.392359</td>\n",
       "      <td>0.004231</td>\n",
       "      <td>gene</td>\n",
       "      <td>Female</td>\n",
       "      <td>Caudate</td>\n",
       "    </tr>\n",
       "    <tr>\n",
       "      <th>4</th>\n",
       "      <td>ENSG00000249669.8</td>\n",
       "      <td>ENSG00000249669.8</td>\n",
       "      <td>CARMN</td>\n",
       "      <td>ENSG00000249669</td>\n",
       "      <td>chr5</td>\n",
       "      <td>-0.536152</td>\n",
       "      <td>-4.285193</td>\n",
       "      <td>0.005433</td>\n",
       "      <td>gene</td>\n",
       "      <td>Female</td>\n",
       "      <td>Caudate</td>\n",
       "    </tr>\n",
       "  </tbody>\n",
       "</table>\n",
       "</div>"
      ],
      "text/plain": [
       "              Feature           gencodeID   Symbol        ensemblID  Chrom  \\\n",
       "0  ENSG00000111181.12  ENSG00000111181.12  SLC6A12  ENSG00000111181  chr12   \n",
       "1   ENSG00000070915.9   ENSG00000070915.9  SLC12A3  ENSG00000070915  chr16   \n",
       "2   ENSG00000263006.6   ENSG00000263006.6  ROCK1P1  ENSG00000263006  chr18   \n",
       "3   ENSG00000141750.6   ENSG00000141750.6    STAC2  ENSG00000141750  chr17   \n",
       "4   ENSG00000249669.8   ENSG00000249669.8    CARMN  ENSG00000249669   chr5   \n",
       "\n",
       "      logFC         t  adj.P.Val  Type     Sex   Tissue  \n",
       "0 -0.456838 -4.917349   0.001106  gene  Female  Caudate  \n",
       "1  0.848495  4.756160   0.001680  gene  Female  Caudate  \n",
       "2  0.537733  4.498877   0.003265  gene  Female  Caudate  \n",
       "3  0.264285  4.392359   0.004231  gene  Female  Caudate  \n",
       "4 -0.536152 -4.285193   0.005433  gene  Female  Caudate  "
      ]
     },
     "execution_count": 1,
     "metadata": {},
     "output_type": "execute_result"
    }
   ],
   "source": [
    "dt.to_csv(\"differential_expression_schizophrenia_by_sex_4features.txt.gz\", sep='\\t', index=False)\n",
    "dt.head(5)"
   ]
  },
  {
   "cell_type": "code",
   "execution_count": null,
   "metadata": {},
   "outputs": [],
   "source": []
  }
 ],
 "metadata": {
  "kernelspec": {
   "display_name": "Python 3",
   "language": "python",
   "name": "python3"
  },
  "language_info": {
   "codemirror_mode": {
    "name": "ipython",
    "version": 3
   },
   "file_extension": ".py",
   "mimetype": "text/x-python",
   "name": "python",
   "nbconvert_exporter": "python",
   "pygments_lexer": "ipython3",
   "version": "3.9.1"
  }
 },
 "nbformat": 4,
 "nbformat_minor": 4
}
