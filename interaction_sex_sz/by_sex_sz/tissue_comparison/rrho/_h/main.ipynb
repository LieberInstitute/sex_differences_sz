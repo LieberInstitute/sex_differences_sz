{
 "cells": [
  {
   "cell_type": "markdown",
   "metadata": {},
   "source": [
    "# Generate Rank-Rank Hypergeometric Overlap (RRHO) plots"
   ]
  },
  {
   "cell_type": "code",
   "execution_count": null,
   "metadata": {},
   "outputs": [],
   "source": [
    "library(RRHO)\n",
    "library(dplyr)\n",
    "library(lattice)"
   ]
  },
  {
   "cell_type": "code",
   "execution_count": null,
   "metadata": {},
   "outputs": [],
   "source": [
    "get_deg_df <- function(sex, tissue){\n",
    "    if(tolower(sex) == 'female'){\n",
    "        fn = paste0(\"../../../\", tolower(tissue),\"/female_analysis/_m/genes/diffExpr_szVctl_full.txt\")\n",
    "    } else {\n",
    "        fn = paste0(\"../../../\", tolower(tissue),\"/male_analysis/_m/genes/diffExpr_szVctl_full.txt\")\n",
    "    }\n",
    "    if(tolower(tissue) == 'cmc_dlpfc'){\n",
    "        df = data.table::fread(fn) %>% mutate(metric=-log10(P.Value)*sign(t), gencodeID=gene_id) %>% \n",
    "            select('gencodeID', 'metric')\n",
    "    } else {\n",
    "        df = data.table::fread(fn) %>% mutate(metric=-log10(P.Value)*sign(t)) %>% \n",
    "            select('gencodeID', 'metric')\n",
    "    }\n",
    "    return(df)\n",
    "}\n",
    "\n",
    "\n",
    "within_tissue_rrho_plot <- function(tissue){\n",
    "    defaultW <- getOption(\"warn\") \n",
    "    options(warn = -1) \n",
    "    f.list = get_deg_df('female', tolower(tissue)) %>% distinct(gencodeID, .keep_all = TRUE) \n",
    "    m.list = get_deg_df('male', tolower(tissue)) %>% distinct(gencodeID, .keep_all = TRUE) \n",
    "    rrho_df <- RRHO(f.list, m.list, BY=TRUE, labels=c(\"Female\", \"Male\"), \n",
    "                    alternative='enrichment', log10.ind=TRUE)\n",
    "    rrho_df$hypermat[is.na(rrho_df$hypermat)] <- 0 # for NA, correct to 0\n",
    "    options(warn = defaultW)\n",
    "    plt = levelplot(rrho_df$hypermat, col.regions=viridis::viridis(100), \n",
    "                    xlab=\"Female\", ylab=\"Male\", at=seq(0, 1000, 100))\n",
    "    print(plt)\n",
    "    label = paste(\"rrho_sex_compare\", tolower(tissue), sep='_')\n",
    "    R.devices::devEval(c(\"pdf\", \"png\"), name=label, print(plt))\n",
    "    #return(rrho_df)\n",
    "}\n"
   ]
  },
  {
   "cell_type": "markdown",
   "metadata": {},
   "source": [
    "## Within tissue comparison"
   ]
  },
  {
   "cell_type": "code",
   "execution_count": null,
   "metadata": {},
   "outputs": [],
   "source": [
    "for(tissue in c('caudate', 'dlpfc', 'hippocampus', 'cmc_dlpfc')){\n",
    "    within_tissue_rrho_plot(tissue)\n",
    "}"
   ]
  },
  {
   "cell_type": "markdown",
   "metadata": {},
   "source": [
    "## Female comparison across tissues"
   ]
  },
  {
   "cell_type": "code",
   "execution_count": null,
   "metadata": {},
   "outputs": [],
   "source": [
    "compare_tissue_plot <- function(sex, tissue1, tissue2){\n",
    "    list1 = get_deg_df(sex, tissue1) %>% distinct(gencodeID, .keep_all = TRUE) \n",
    "    list2 = get_deg_df(sex, tissue2) %>% distinct(gencodeID, .keep_all = TRUE) \n",
    "    gene_overlap = intersect(list1$gencodeID, list2$gencodeID)\n",
    "    list1 = list1 %>% filter(gencodeID %in% gene_overlap)\n",
    "    list2 = list2 %>% filter(gencodeID %in% gene_overlap)\n",
    "    rrho_df <- RRHO(list1, list2, BY=TRUE, labels=c(tissue1, tissue2), \n",
    "                   alternative='enrichment', log10.ind=TRUE)\n",
    "    rrho_df$hypermat[is.na(rrho_df$hypermat)] <- 0 # for NA, correct to 0\n",
    "    rrho_plot = levelplot(rrho_df$hypermat, col.regions=viridis::viridis, \n",
    "                          xlab=tissue1, ylab=tissue2, at=seq(0, 800, 100))\n",
    "    R.devices::devEval(c(\"pdf\", \"png\"), \n",
    "                       name=paste(\"rrho\",sex,tissue1,tissue2, sep='_'), \n",
    "                       print(rrho_plot))\n",
    "}"
   ]
  },
  {
   "cell_type": "markdown",
   "metadata": {},
   "source": [
    "### Female"
   ]
  },
  {
   "cell_type": "code",
   "execution_count": null,
   "metadata": {},
   "outputs": [],
   "source": [
    "compare_tissue_plot(\"female\", \"Caudate\", \"DLPFC\")\n",
    "compare_tissue_plot(\"female\", \"Caudate\", \"Hippocampus\")\n",
    "compare_tissue_plot(\"female\", \"DLPFC\", \"Hippocampus\")"
   ]
  },
  {
   "cell_type": "code",
   "execution_count": null,
   "metadata": {},
   "outputs": [],
   "source": [
    "compare_tissue_plot(\"female\", \"CMC_DLPFC\", \"Caudate\")\n",
    "compare_tissue_plot(\"female\", \"CMC_DLPFC\", \"DLPFC\")\n",
    "compare_tissue_plot(\"female\", \"CMC_DLPFC\", \"Hippocampus\")"
   ]
  },
  {
   "cell_type": "markdown",
   "metadata": {},
   "source": [
    "### Male"
   ]
  },
  {
   "cell_type": "code",
   "execution_count": null,
   "metadata": {},
   "outputs": [],
   "source": [
    "compare_tissue_plot(\"male\", \"Caudate\", \"DLPFC\")\n",
    "compare_tissue_plot(\"male\", \"Caudate\", \"Hippocampus\")\n",
    "compare_tissue_plot(\"male\", \"DLPFC\", \"Hippocampus\")"
   ]
  },
  {
   "cell_type": "code",
   "execution_count": null,
   "metadata": {},
   "outputs": [],
   "source": [
    "compare_tissue_plot(\"male\", \"CMC_DLPFC\", \"Caudate\")\n",
    "compare_tissue_plot(\"male\", \"CMC_DLPFC\", \"DLPFC\")\n",
    "compare_tissue_plot(\"male\", \"CMC_DLPFC\", \"Hippocampus\")"
   ]
  },
  {
   "cell_type": "markdown",
   "metadata": {},
   "source": [
    "## Repreducibility Information"
   ]
  },
  {
   "cell_type": "code",
   "execution_count": null,
   "metadata": {},
   "outputs": [],
   "source": [
    "Sys.time()\n",
    "proc.time()\n",
    "options(width = 120)\n",
    "sessioninfo::session_info()"
   ]
  },
  {
   "cell_type": "code",
   "execution_count": null,
   "metadata": {},
   "outputs": [],
   "source": []
  }
 ],
 "metadata": {
  "kernelspec": {
   "display_name": "R",
   "language": "R",
   "name": "ir"
  },
  "language_info": {
   "codemirror_mode": "r",
   "file_extension": ".r",
   "mimetype": "text/x-r-source",
   "name": "R",
   "pygments_lexer": "r",
   "version": "4.1.2"
  }
 },
 "nbformat": 4,
 "nbformat_minor": 4
}
