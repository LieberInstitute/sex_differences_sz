{
 "cells": [
  {
   "cell_type": "markdown",
   "metadata": {},
   "source": [
    "# Boxplots for permutations analysis (male downsampling to female level)"
   ]
  },
  {
   "cell_type": "code",
   "execution_count": 1,
   "metadata": {
    "execution": {
     "iopub.execute_input": "2021-11-24T14:59:52.124678Z",
     "iopub.status.busy": "2021-11-24T14:59:52.119043Z",
     "iopub.status.idle": "2021-11-24T14:59:56.418054Z",
     "shell.execute_reply": "2021-11-24T14:59:56.414101Z"
    }
   },
   "outputs": [
    {
     "name": "stderr",
     "output_type": "stream",
     "text": [
      "── \u001b[1mAttaching packages\u001b[22m ─────────────────────────────────────── tidyverse 1.3.1 ──\n",
      "\n",
      "\u001b[32m✔\u001b[39m \u001b[34mggplot2\u001b[39m 3.3.5     \u001b[32m✔\u001b[39m \u001b[34mpurrr  \u001b[39m 0.3.4\n",
      "\u001b[32m✔\u001b[39m \u001b[34mtibble \u001b[39m 3.1.6     \u001b[32m✔\u001b[39m \u001b[34mdplyr  \u001b[39m 1.0.7\n",
      "\u001b[32m✔\u001b[39m \u001b[34mtidyr  \u001b[39m 1.1.4     \u001b[32m✔\u001b[39m \u001b[34mstringr\u001b[39m 1.4.0\n",
      "\u001b[32m✔\u001b[39m \u001b[34mreadr  \u001b[39m 2.1.0     \u001b[32m✔\u001b[39m \u001b[34mforcats\u001b[39m 0.5.1\n",
      "\n",
      "── \u001b[1mConflicts\u001b[22m ────────────────────────────────────────── tidyverse_conflicts() ──\n",
      "\u001b[31m✖\u001b[39m \u001b[34mdplyr\u001b[39m::\u001b[32mfilter()\u001b[39m masks \u001b[34mstats\u001b[39m::filter()\n",
      "\u001b[31m✖\u001b[39m \u001b[34mdplyr\u001b[39m::\u001b[32mlag()\u001b[39m    masks \u001b[34mstats\u001b[39m::lag()\n",
      "\n"
     ]
    }
   ],
   "source": [
    "library(tidyverse)\n",
    "library(ggpubr)"
   ]
  },
  {
   "cell_type": "markdown",
   "metadata": {},
   "source": [
    "## Function and configuration"
   ]
  },
  {
   "cell_type": "code",
   "execution_count": 2,
   "metadata": {
    "execution": {
     "iopub.execute_input": "2021-11-24T14:59:56.507900Z",
     "iopub.status.busy": "2021-11-24T14:59:56.434329Z",
     "iopub.status.idle": "2021-11-24T14:59:56.534089Z",
     "shell.execute_reply": "2021-11-24T14:59:56.530849Z"
    }
   },
   "outputs": [],
   "source": [
    "save_ggplots <- function(p, fn, w=6, h=6){\n",
    "    for(ext in c('.svg', '.png', '.pdf')){\n",
    "        ggsave(p, filename=paste0(fn, ext), width=w, height=h)\n",
    "    }\n",
    "}"
   ]
  },
  {
   "cell_type": "code",
   "execution_count": 3,
   "metadata": {
    "execution": {
     "iopub.execute_input": "2021-11-24T14:59:56.552194Z",
     "iopub.status.busy": "2021-11-24T14:59:56.549001Z",
     "iopub.status.idle": "2021-11-24T14:59:56.577873Z",
     "shell.execute_reply": "2021-11-24T14:59:56.574899Z"
    }
   },
   "outputs": [],
   "source": [
    "config = list(\n",
    "    \"Caudate\"=\"../../../caudate/subsampling_male/deg_summary/_m/permutations.csv\", \n",
    "    \"DLPFC\"=\"../../../dlpfc/subsampling_male/deg_summary/_m/permutations.csv\", \n",
    "    \"Hippocampus\"=\"../../../hippocampus/subsampling_male/deg_summary/_m/permutations.csv\"\n",
    ")"
   ]
  },
  {
   "cell_type": "markdown",
   "metadata": {},
   "source": [
    "## Merge dataframes"
   ]
  },
  {
   "cell_type": "code",
   "execution_count": 4,
   "metadata": {
    "execution": {
     "iopub.execute_input": "2021-11-24T14:59:56.594760Z",
     "iopub.status.busy": "2021-11-24T14:59:56.592300Z",
     "iopub.status.idle": "2021-11-24T14:59:57.071499Z",
     "shell.execute_reply": "2021-11-24T14:59:57.068098Z"
    }
   },
   "outputs": [
    {
     "data": {
      "text/html": [
       "<table class=\"dataframe\">\n",
       "<caption>A data.table: 6 × 7</caption>\n",
       "<thead>\n",
       "\t<tr><th scope=col>Symbol</th><th scope=col>gencodeID</th><th scope=col>logFC</th><th scope=col>t</th><th scope=col>adj.P.Val</th><th scope=col>Permutation</th><th scope=col>tissue</th></tr>\n",
       "\t<tr><th scope=col>&lt;chr&gt;</th><th scope=col>&lt;chr&gt;</th><th scope=col>&lt;dbl&gt;</th><th scope=col>&lt;dbl&gt;</th><th scope=col>&lt;dbl&gt;</th><th scope=col>&lt;int&gt;</th><th scope=col>&lt;chr&gt;</th></tr>\n",
       "</thead>\n",
       "<tbody>\n",
       "\t<tr><td>GDNF-AS1</td><td>ENSG00000248587.7 </td><td> 1.0159219</td><td> 8.553727</td><td>1.566672e-09</td><td>2</td><td>Caudate</td></tr>\n",
       "\t<tr><td>GDNF    </td><td>ENSG00000168621.14</td><td> 0.8188297</td><td> 6.045744</td><td>1.541499e-04</td><td>2</td><td>Caudate</td></tr>\n",
       "\t<tr><td>NSUN5P2 </td><td>ENSG00000106133.17</td><td>-0.3648580</td><td>-6.031454</td><td>1.541499e-04</td><td>2</td><td>Caudate</td></tr>\n",
       "\t<tr><td>KCNH5   </td><td>ENSG00000140015.19</td><td> 0.5558007</td><td> 5.980020</td><td>1.541499e-04</td><td>2</td><td>Caudate</td></tr>\n",
       "\t<tr><td>PAPPA   </td><td>ENSG00000182752.9 </td><td> 0.7535862</td><td> 5.862024</td><td>2.130430e-04</td><td>2</td><td>Caudate</td></tr>\n",
       "\t<tr><td>RMDN2   </td><td>ENSG00000115841.19</td><td>-0.3193313</td><td>-5.796196</td><td>2.403024e-04</td><td>2</td><td>Caudate</td></tr>\n",
       "</tbody>\n",
       "</table>\n"
      ],
      "text/latex": [
       "A data.table: 6 × 7\n",
       "\\begin{tabular}{lllllll}\n",
       " Symbol & gencodeID & logFC & t & adj.P.Val & Permutation & tissue\\\\\n",
       " <chr> & <chr> & <dbl> & <dbl> & <dbl> & <int> & <chr>\\\\\n",
       "\\hline\n",
       "\t GDNF-AS1 & ENSG00000248587.7  &  1.0159219 &  8.553727 & 1.566672e-09 & 2 & Caudate\\\\\n",
       "\t GDNF     & ENSG00000168621.14 &  0.8188297 &  6.045744 & 1.541499e-04 & 2 & Caudate\\\\\n",
       "\t NSUN5P2  & ENSG00000106133.17 & -0.3648580 & -6.031454 & 1.541499e-04 & 2 & Caudate\\\\\n",
       "\t KCNH5    & ENSG00000140015.19 &  0.5558007 &  5.980020 & 1.541499e-04 & 2 & Caudate\\\\\n",
       "\t PAPPA    & ENSG00000182752.9  &  0.7535862 &  5.862024 & 2.130430e-04 & 2 & Caudate\\\\\n",
       "\t RMDN2    & ENSG00000115841.19 & -0.3193313 & -5.796196 & 2.403024e-04 & 2 & Caudate\\\\\n",
       "\\end{tabular}\n"
      ],
      "text/markdown": [
       "\n",
       "A data.table: 6 × 7\n",
       "\n",
       "| Symbol &lt;chr&gt; | gencodeID &lt;chr&gt; | logFC &lt;dbl&gt; | t &lt;dbl&gt; | adj.P.Val &lt;dbl&gt; | Permutation &lt;int&gt; | tissue &lt;chr&gt; |\n",
       "|---|---|---|---|---|---|---|\n",
       "| GDNF-AS1 | ENSG00000248587.7  |  1.0159219 |  8.553727 | 1.566672e-09 | 2 | Caudate |\n",
       "| GDNF     | ENSG00000168621.14 |  0.8188297 |  6.045744 | 1.541499e-04 | 2 | Caudate |\n",
       "| NSUN5P2  | ENSG00000106133.17 | -0.3648580 | -6.031454 | 1.541499e-04 | 2 | Caudate |\n",
       "| KCNH5    | ENSG00000140015.19 |  0.5558007 |  5.980020 | 1.541499e-04 | 2 | Caudate |\n",
       "| PAPPA    | ENSG00000182752.9  |  0.7535862 |  5.862024 | 2.130430e-04 | 2 | Caudate |\n",
       "| RMDN2    | ENSG00000115841.19 | -0.3193313 | -5.796196 | 2.403024e-04 | 2 | Caudate |\n",
       "\n"
      ],
      "text/plain": [
       "  Symbol   gencodeID          logFC      t         adj.P.Val    Permutation\n",
       "1 GDNF-AS1 ENSG00000248587.7   1.0159219  8.553727 1.566672e-09 2          \n",
       "2 GDNF     ENSG00000168621.14  0.8188297  6.045744 1.541499e-04 2          \n",
       "3 NSUN5P2  ENSG00000106133.17 -0.3648580 -6.031454 1.541499e-04 2          \n",
       "4 KCNH5    ENSG00000140015.19  0.5558007  5.980020 1.541499e-04 2          \n",
       "5 PAPPA    ENSG00000182752.9   0.7535862  5.862024 2.130430e-04 2          \n",
       "6 RMDN2    ENSG00000115841.19 -0.3193313 -5.796196 2.403024e-04 2          \n",
       "  tissue \n",
       "1 Caudate\n",
       "2 Caudate\n",
       "3 Caudate\n",
       "4 Caudate\n",
       "5 Caudate\n",
       "6 Caudate"
      ]
     },
     "metadata": {},
     "output_type": "display_data"
    }
   ],
   "source": [
    "datalist = list()\n",
    "for(tissue in c(\"Caudate\", \"DLPFC\", \"Hippocampus\")){\n",
    "    df = data.table::fread(config[[tissue]])\n",
    "    df$tissue <- tissue  # maybe you want to keep track of which iteration produced it?\n",
    "    datalist[[tissue]] <- df\n",
    "}\n",
    "big_df <- bind_rows(datalist) %>% \n",
    "    select(Symbol, gencodeID, logFC, t, adj.P.Val, Permutation, tissue)\n",
    "big_df %>% head()"
   ]
  },
  {
   "cell_type": "code",
   "execution_count": 5,
   "metadata": {
    "execution": {
     "iopub.execute_input": "2021-11-24T14:59:57.088998Z",
     "iopub.status.busy": "2021-11-24T14:59:57.086153Z",
     "iopub.status.idle": "2021-11-24T15:00:00.969881Z",
     "shell.execute_reply": "2021-11-24T15:00:00.965231Z"
    }
   },
   "outputs": [
    {
     "name": "stderr",
     "output_type": "stream",
     "text": [
      "`summarise()` has grouped output by 'Permutation'. You can override using the `.groups` argument.\n",
      "\n"
     ]
    },
    {
     "data": {
      "image/png": "[encoded data removed]",
      "text/plain": [
       "plot without title"
      ]
     },
     "metadata": {
      "image/png": {
       "height": 420,
       "width": 420
      }
     },
     "output_type": "display_data"
    }
   ],
   "source": [
    "bxp = big_df %>% group_by(Permutation, tissue) %>% summarize(Size = n()) %>%\n",
    "    as.data.frame %>% pivot_wider(names_from = tissue, values_from = Size) %>%\n",
    "    replace_na(list(DLPFC = 0, Hippocampus = 0)) %>% \n",
    "    pivot_longer(-Permutation, names_to=\"Tissue\", values_to=\"DEGs\") %>%\n",
    "    mutate_if(is.character, as.factor) %>%\n",
    "    ggboxplot(x=\"Tissue\", y=\"DEGs\", fill=\"Tissue\", add=\"jitter\", \n",
    "              xlab='', palette=\"npg\", ylab=\"Number of DEGs\", \n",
    "              add.params=list(alpha=0.6), outlier.shape=NA,\n",
    "              panel.labs.font=list(face='bold'), legend=\"\", \n",
    "              ggtheme=theme_pubr(base_size=20))+ \n",
    "        font(\"xy.title\", face=\"bold\")\n",
    "save_ggplots(bxp, \"permutation_boxplots_3regions\", 6, 5)\n",
    "bxp"
   ]
  },
  {
   "cell_type": "code",
   "execution_count": 6,
   "metadata": {
    "execution": {
     "iopub.execute_input": "2021-11-24T15:00:00.987990Z",
     "iopub.status.busy": "2021-11-24T15:00:00.984572Z",
     "iopub.status.idle": "2021-11-24T15:00:03.504143Z",
     "shell.execute_reply": "2021-11-24T15:00:03.502019Z"
    }
   },
   "outputs": [
    {
     "name": "stderr",
     "output_type": "stream",
     "text": [
      "`summarise()` has grouped output by 'Permutation'. You can override using the `.groups` argument.\n",
      "\n"
     ]
    },
    {
     "data": {
      "image/png": "[encoded data removed]",
      "text/plain": [
       "plot without title"
      ]
     },
     "metadata": {
      "image/png": {
       "height": 420,
       "width": 420
      }
     },
     "output_type": "display_data"
    }
   ],
   "source": [
    "bxp = big_df %>% filter(tissue != \"Caudate\") %>%\n",
    "    group_by(Permutation, tissue) %>% summarize(Size = n()) %>%\n",
    "    as.data.frame %>% pivot_wider(names_from = tissue, values_from = Size) %>%\n",
    "    replace_na(list(DLPFC = 0, Hippocampus = 0)) %>% \n",
    "    pivot_longer(-Permutation, names_to=\"Tissue\", values_to=\"DEGs\") %>%\n",
    "    mutate_if(is.character, as.factor) %>%\n",
    "    ggboxplot(x=\"Tissue\", y=\"DEGs\", fill=\"Tissue\", add=\"jitter\", \n",
    "              xlab='', palette=get_palette(\"npg\", 3)[2:3], ylab=\"Number of DEGs\", \n",
    "              add.params=list(alpha=0.6), outlier.shape=NA,\n",
    "              panel.labs.font=list(face='bold', size = 18), \n",
    "              legend=\"\", ylim=c(0, 500))+ \n",
    "        font(\"xy.title\", size=18, face=\"bold\") + \n",
    "        font(\"xy.text\", size=16)\n",
    "save_ggplots(bxp, \"permutation_boxplots_2regions\", 6, 5)\n",
    "bxp"
   ]
  },
  {
   "cell_type": "code",
   "execution_count": 7,
   "metadata": {
    "execution": {
     "iopub.execute_input": "2021-11-24T15:00:03.543159Z",
     "iopub.status.busy": "2021-11-24T15:00:03.538258Z",
     "iopub.status.idle": "2021-11-24T15:00:03.669655Z",
     "shell.execute_reply": "2021-11-24T15:00:03.664890Z"
    }
   },
   "outputs": [
    {
     "name": "stderr",
     "output_type": "stream",
     "text": [
      "`summarise()` has grouped output by 'Permutation'. You can override using the `.groups` argument.\n",
      "\n"
     ]
    },
    {
     "data": {
      "text/html": [
       "<table class=\"dataframe\">\n",
       "<caption>A tibble: 3 × 4</caption>\n",
       "<thead>\n",
       "\t<tr><th scope=col>Tissue</th><th scope=col>Mean</th><th scope=col>Median</th><th scope=col>Std</th></tr>\n",
       "\t<tr><th scope=col>&lt;fct&gt;</th><th scope=col>&lt;dbl&gt;</th><th scope=col>&lt;dbl&gt;</th><th scope=col>&lt;dbl&gt;</th></tr>\n",
       "</thead>\n",
       "<tbody>\n",
       "\t<tr><td>Caudate    </td><td>308.8</td><td>147.0</td><td>496.27094</td></tr>\n",
       "\t<tr><td>DLPFC      </td><td> 49.0</td><td>  2.0</td><td>107.99177</td></tr>\n",
       "\t<tr><td>Hippocampus</td><td> 13.1</td><td>  0.5</td><td> 30.18995</td></tr>\n",
       "</tbody>\n",
       "</table>\n"
      ],
      "text/latex": [
       "A tibble: 3 × 4\n",
       "\\begin{tabular}{llll}\n",
       " Tissue & Mean & Median & Std\\\\\n",
       " <fct> & <dbl> & <dbl> & <dbl>\\\\\n",
       "\\hline\n",
       "\t Caudate     & 308.8 & 147.0 & 496.27094\\\\\n",
       "\t DLPFC       &  49.0 &   2.0 & 107.99177\\\\\n",
       "\t Hippocampus &  13.1 &   0.5 &  30.18995\\\\\n",
       "\\end{tabular}\n"
      ],
      "text/markdown": [
       "\n",
       "A tibble: 3 × 4\n",
       "\n",
       "| Tissue &lt;fct&gt; | Mean &lt;dbl&gt; | Median &lt;dbl&gt; | Std &lt;dbl&gt; |\n",
       "|---|---|---|---|\n",
       "| Caudate     | 308.8 | 147.0 | 496.27094 |\n",
       "| DLPFC       |  49.0 |   2.0 | 107.99177 |\n",
       "| Hippocampus |  13.1 |   0.5 |  30.18995 |\n",
       "\n"
      ],
      "text/plain": [
       "  Tissue      Mean  Median Std      \n",
       "1 Caudate     308.8 147.0  496.27094\n",
       "2 DLPFC        49.0   2.0  107.99177\n",
       "3 Hippocampus  13.1   0.5   30.18995"
      ]
     },
     "metadata": {},
     "output_type": "display_data"
    }
   ],
   "source": [
    "big_df %>% group_by(Permutation, tissue) %>% summarize(Size = n()) %>%\n",
    "    as.data.frame %>% pivot_wider(names_from = tissue, values_from = Size) %>%\n",
    "    replace_na(list(DLPFC = 0, Hippocampus = 0)) %>% \n",
    "    pivot_longer(-Permutation, names_to=\"Tissue\", values_to=\"DEGs\") %>%\n",
    "    mutate_if(is.character, as.factor) %>% \n",
    "    group_by(Tissue) %>% summarize(Mean = mean(DEGs), Median = median(DEGs), Std = sd(DEGs))"
   ]
  },
  {
   "cell_type": "markdown",
   "metadata": {},
   "source": [
    "## Reproducibility Information"
   ]
  },
  {
   "cell_type": "code",
   "execution_count": 8,
   "metadata": {
    "execution": {
     "iopub.execute_input": "2021-11-24T15:00:03.685957Z",
     "iopub.status.busy": "2021-11-24T15:00:03.683041Z",
     "iopub.status.idle": "2021-11-24T15:00:04.855534Z",
     "shell.execute_reply": "2021-11-24T15:00:04.852029Z"
    }
   },
   "outputs": [
    {
     "data": {
      "text/plain": [
       "[1] \"2021-11-24 10:00:03 EST\""
      ]
     },
     "metadata": {},
     "output_type": "display_data"
    },
    {
     "data": {
      "text/plain": [
       "   user  system elapsed \n",
       " 11.733   0.630  13.089 "
      ]
     },
     "metadata": {},
     "output_type": "display_data"
    },
    {
     "data": {
      "text/html": [
       "<dl>\n",
       "\t<dt>$platform</dt>\n",
       "\t\t<dd><dl>\n",
       "\t<dt>$version</dt>\n",
       "\t\t<dd>'R version 4.1.2 (2021-11-01)'</dd>\n",
       "\t<dt>$os</dt>\n",
       "\t\t<dd>'Arch Linux'</dd>\n",
       "\t<dt>$system</dt>\n",
       "\t\t<dd>'x86_64, linux-gnu'</dd>\n",
       "\t<dt>$ui</dt>\n",
       "\t\t<dd>'X11'</dd>\n",
       "\t<dt>$language</dt>\n",
       "\t\t<dd>'(EN)'</dd>\n",
       "\t<dt>$collate</dt>\n",
       "\t\t<dd>'en_US.UTF-8'</dd>\n",
       "\t<dt>$ctype</dt>\n",
       "\t\t<dd>'en_US.UTF-8'</dd>\n",
       "\t<dt>$tz</dt>\n",
       "\t\t<dd>'America/New_York'</dd>\n",
       "\t<dt>$date</dt>\n",
       "\t\t<dd>'2021-11-24'</dd>\n",
       "\t<dt>$pandoc</dt>\n",
       "\t\t<dd>'2.14.1 @ /usr/bin/pandoc'</dd>\n",
       "</dl>\n",
       "</dd>\n",
       "\t<dt>$packages</dt>\n",
       "\t\t<dd><table class=\"dataframe\">\n",
       "<caption>A packages_info: 73 × 11</caption>\n",
       "<thead>\n",
       "\t<tr><th></th><th scope=col>package</th><th scope=col>ondiskversion</th><th scope=col>loadedversion</th><th scope=col>path</th><th scope=col>loadedpath</th><th scope=col>attached</th><th scope=col>is_base</th><th scope=col>date</th><th scope=col>source</th><th scope=col>md5ok</th><th scope=col>library</th></tr>\n",
       "\t<tr><th></th><th scope=col>&lt;chr&gt;</th><th scope=col>&lt;chr&gt;</th><th scope=col>&lt;chr&gt;</th><th scope=col>&lt;chr&gt;</th><th scope=col>&lt;chr&gt;</th><th scope=col>&lt;lgl&gt;</th><th scope=col>&lt;lgl&gt;</th><th scope=col>&lt;chr&gt;</th><th scope=col>&lt;chr&gt;</th><th scope=col>&lt;lgl&gt;</th><th scope=col>&lt;fct&gt;</th></tr>\n",
       "</thead>\n",
       "<tbody>\n",
       "\t<tr><th scope=row>abind</th><td>abind     </td><td>1.4.5 </td><td>1.4-5 </td><td>/home/jbenja13/R/x86_64-pc-linux-gnu-library/4.1/abind     </td><td>/home/jbenja13/R/x86_64-pc-linux-gnu-library/4.1/abind     </td><td>FALSE</td><td>FALSE</td><td>2016-07-21</td><td>CRAN (R 4.1.2)</td><td>NA</td><td>/home/jbenja13/R/x86_64-pc-linux-gnu-library/4.1</td></tr>\n",
       "\t<tr><th scope=row>assertthat</th><td>assertthat</td><td>0.2.1 </td><td>0.2.1 </td><td>/home/jbenja13/R/x86_64-pc-linux-gnu-library/4.1/assertthat</td><td>/home/jbenja13/R/x86_64-pc-linux-gnu-library/4.1/assertthat</td><td>FALSE</td><td>FALSE</td><td>2019-03-21</td><td>CRAN (R 4.1.2)</td><td>NA</td><td>/home/jbenja13/R/x86_64-pc-linux-gnu-library/4.1</td></tr>\n",
       "\t<tr><th scope=row>backports</th><td>backports </td><td>1.4.0 </td><td>1.4.0 </td><td>/home/jbenja13/R/x86_64-pc-linux-gnu-library/4.1/backports </td><td>/home/jbenja13/R/x86_64-pc-linux-gnu-library/4.1/backports </td><td>FALSE</td><td>FALSE</td><td>2021-11-23</td><td>CRAN (R 4.1.2)</td><td>NA</td><td>/home/jbenja13/R/x86_64-pc-linux-gnu-library/4.1</td></tr>\n",
       "\t<tr><th scope=row>base64enc</th><td>base64enc </td><td>0.1.3 </td><td>0.1-3 </td><td>/home/jbenja13/R/x86_64-pc-linux-gnu-library/4.1/base64enc </td><td>/home/jbenja13/R/x86_64-pc-linux-gnu-library/4.1/base64enc </td><td>FALSE</td><td>FALSE</td><td>2015-07-28</td><td>CRAN (R 4.1.2)</td><td>NA</td><td>/home/jbenja13/R/x86_64-pc-linux-gnu-library/4.1</td></tr>\n",
       "\t<tr><th scope=row>broom</th><td>broom     </td><td>0.7.10</td><td>0.7.10</td><td>/home/jbenja13/R/x86_64-pc-linux-gnu-library/4.1/broom     </td><td>/home/jbenja13/R/x86_64-pc-linux-gnu-library/4.1/broom     </td><td>FALSE</td><td>FALSE</td><td>2021-10-31</td><td>CRAN (R 4.1.2)</td><td>NA</td><td>/home/jbenja13/R/x86_64-pc-linux-gnu-library/4.1</td></tr>\n",
       "\t<tr><th scope=row>car</th><td>car       </td><td>3.0.12</td><td>3.0-12</td><td>/home/jbenja13/R/x86_64-pc-linux-gnu-library/4.1/car       </td><td>/home/jbenja13/R/x86_64-pc-linux-gnu-library/4.1/car       </td><td>FALSE</td><td>FALSE</td><td>2021-11-06</td><td>CRAN (R 4.1.2)</td><td>NA</td><td>/home/jbenja13/R/x86_64-pc-linux-gnu-library/4.1</td></tr>\n",
       "\t<tr><th scope=row>carData</th><td>carData   </td><td>3.0.4 </td><td>3.0-4 </td><td>/home/jbenja13/R/x86_64-pc-linux-gnu-library/4.1/carData   </td><td>/home/jbenja13/R/x86_64-pc-linux-gnu-library/4.1/carData   </td><td>FALSE</td><td>FALSE</td><td>2020-05-22</td><td>CRAN (R 4.1.2)</td><td>NA</td><td>/home/jbenja13/R/x86_64-pc-linux-gnu-library/4.1</td></tr>\n",
       "\t<tr><th scope=row>cellranger</th><td>cellranger</td><td>1.1.0 </td><td>1.1.0 </td><td>/home/jbenja13/R/x86_64-pc-linux-gnu-library/4.1/cellranger</td><td>/home/jbenja13/R/x86_64-pc-linux-gnu-library/4.1/cellranger</td><td>FALSE</td><td>FALSE</td><td>2016-07-27</td><td>CRAN (R 4.1.2)</td><td>NA</td><td>/home/jbenja13/R/x86_64-pc-linux-gnu-library/4.1</td></tr>\n",
       "\t<tr><th scope=row>cli</th><td>cli       </td><td>3.1.0 </td><td>3.1.0 </td><td>/home/jbenja13/R/x86_64-pc-linux-gnu-library/4.1/cli       </td><td>/home/jbenja13/R/x86_64-pc-linux-gnu-library/4.1/cli       </td><td>FALSE</td><td>FALSE</td><td>2021-10-27</td><td>CRAN (R 4.1.2)</td><td>NA</td><td>/home/jbenja13/R/x86_64-pc-linux-gnu-library/4.1</td></tr>\n",
       "\t<tr><th scope=row>colorspace</th><td>colorspace</td><td>2.0.2 </td><td>2.0-2 </td><td>/home/jbenja13/R/x86_64-pc-linux-gnu-library/4.1/colorspace</td><td>/home/jbenja13/R/x86_64-pc-linux-gnu-library/4.1/colorspace</td><td>FALSE</td><td>FALSE</td><td>2021-06-24</td><td>CRAN (R 4.1.2)</td><td>NA</td><td>/home/jbenja13/R/x86_64-pc-linux-gnu-library/4.1</td></tr>\n",
       "\t<tr><th scope=row>crayon</th><td>crayon    </td><td>1.4.2 </td><td>1.4.2 </td><td>/home/jbenja13/R/x86_64-pc-linux-gnu-library/4.1/crayon    </td><td>/home/jbenja13/R/x86_64-pc-linux-gnu-library/4.1/crayon    </td><td>FALSE</td><td>FALSE</td><td>2021-10-29</td><td>CRAN (R 4.1.2)</td><td>NA</td><td>/home/jbenja13/R/x86_64-pc-linux-gnu-library/4.1</td></tr>\n",
       "\t<tr><th scope=row>data.table</th><td>data.table</td><td>1.14.2</td><td>1.14.2</td><td>/home/jbenja13/R/x86_64-pc-linux-gnu-library/4.1/data.table</td><td>/home/jbenja13/R/x86_64-pc-linux-gnu-library/4.1/data.table</td><td>FALSE</td><td>FALSE</td><td>2021-09-27</td><td>CRAN (R 4.1.2)</td><td>NA</td><td>/home/jbenja13/R/x86_64-pc-linux-gnu-library/4.1</td></tr>\n",
       "\t<tr><th scope=row>DBI</th><td>DBI       </td><td>1.1.1 </td><td>1.1.1 </td><td>/home/jbenja13/R/x86_64-pc-linux-gnu-library/4.1/DBI       </td><td>/home/jbenja13/R/x86_64-pc-linux-gnu-library/4.1/DBI       </td><td>FALSE</td><td>FALSE</td><td>2021-01-15</td><td>CRAN (R 4.1.2)</td><td>NA</td><td>/home/jbenja13/R/x86_64-pc-linux-gnu-library/4.1</td></tr>\n",
       "\t<tr><th scope=row>dbplyr</th><td>dbplyr    </td><td>2.1.1 </td><td>2.1.1 </td><td>/home/jbenja13/R/x86_64-pc-linux-gnu-library/4.1/dbplyr    </td><td>/home/jbenja13/R/x86_64-pc-linux-gnu-library/4.1/dbplyr    </td><td>FALSE</td><td>FALSE</td><td>2021-04-06</td><td>CRAN (R 4.1.2)</td><td>NA</td><td>/home/jbenja13/R/x86_64-pc-linux-gnu-library/4.1</td></tr>\n",
       "\t<tr><th scope=row>digest</th><td>digest    </td><td>0.6.28</td><td>0.6.28</td><td>/home/jbenja13/R/x86_64-pc-linux-gnu-library/4.1/digest    </td><td>/home/jbenja13/R/x86_64-pc-linux-gnu-library/4.1/digest    </td><td>FALSE</td><td>FALSE</td><td>2021-09-23</td><td>CRAN (R 4.1.2)</td><td>NA</td><td>/home/jbenja13/R/x86_64-pc-linux-gnu-library/4.1</td></tr>\n",
       "\t<tr><th scope=row>dplyr</th><td>dplyr     </td><td>1.0.7 </td><td>1.0.7 </td><td>/home/jbenja13/R/x86_64-pc-linux-gnu-library/4.1/dplyr     </td><td>/home/jbenja13/R/x86_64-pc-linux-gnu-library/4.1/dplyr     </td><td> TRUE</td><td>FALSE</td><td>2021-06-18</td><td>CRAN (R 4.1.2)</td><td>NA</td><td>/home/jbenja13/R/x86_64-pc-linux-gnu-library/4.1</td></tr>\n",
       "\t<tr><th scope=row>ellipsis</th><td>ellipsis  </td><td>0.3.2 </td><td>0.3.2 </td><td>/home/jbenja13/R/x86_64-pc-linux-gnu-library/4.1/ellipsis  </td><td>/home/jbenja13/R/x86_64-pc-linux-gnu-library/4.1/ellipsis  </td><td>FALSE</td><td>FALSE</td><td>2021-04-29</td><td>CRAN (R 4.1.2)</td><td>NA</td><td>/home/jbenja13/R/x86_64-pc-linux-gnu-library/4.1</td></tr>\n",
       "\t<tr><th scope=row>evaluate</th><td>evaluate  </td><td>0.14  </td><td>0.14  </td><td>/home/jbenja13/R/x86_64-pc-linux-gnu-library/4.1/evaluate  </td><td>/home/jbenja13/R/x86_64-pc-linux-gnu-library/4.1/evaluate  </td><td>FALSE</td><td>FALSE</td><td>2019-05-28</td><td>CRAN (R 4.1.2)</td><td>NA</td><td>/home/jbenja13/R/x86_64-pc-linux-gnu-library/4.1</td></tr>\n",
       "\t<tr><th scope=row>fansi</th><td>fansi     </td><td>0.5.0 </td><td>0.5.0 </td><td>/home/jbenja13/R/x86_64-pc-linux-gnu-library/4.1/fansi     </td><td>/home/jbenja13/R/x86_64-pc-linux-gnu-library/4.1/fansi     </td><td>FALSE</td><td>FALSE</td><td>2021-05-25</td><td>CRAN (R 4.1.2)</td><td>NA</td><td>/home/jbenja13/R/x86_64-pc-linux-gnu-library/4.1</td></tr>\n",
       "\t<tr><th scope=row>farver</th><td>farver    </td><td>2.1.0 </td><td>2.1.0 </td><td>/home/jbenja13/R/x86_64-pc-linux-gnu-library/4.1/farver    </td><td>/home/jbenja13/R/x86_64-pc-linux-gnu-library/4.1/farver    </td><td>FALSE</td><td>FALSE</td><td>2021-02-28</td><td>CRAN (R 4.1.2)</td><td>NA</td><td>/home/jbenja13/R/x86_64-pc-linux-gnu-library/4.1</td></tr>\n",
       "\t<tr><th scope=row>fastmap</th><td>fastmap   </td><td>1.1.0 </td><td>1.1.0 </td><td>/home/jbenja13/R/x86_64-pc-linux-gnu-library/4.1/fastmap   </td><td>/home/jbenja13/R/x86_64-pc-linux-gnu-library/4.1/fastmap   </td><td>FALSE</td><td>FALSE</td><td>2021-01-25</td><td>CRAN (R 4.1.2)</td><td>NA</td><td>/home/jbenja13/R/x86_64-pc-linux-gnu-library/4.1</td></tr>\n",
       "\t<tr><th scope=row>forcats</th><td>forcats   </td><td>0.5.1 </td><td>0.5.1 </td><td>/home/jbenja13/R/x86_64-pc-linux-gnu-library/4.1/forcats   </td><td>/home/jbenja13/R/x86_64-pc-linux-gnu-library/4.1/forcats   </td><td> TRUE</td><td>FALSE</td><td>2021-01-27</td><td>CRAN (R 4.1.2)</td><td>NA</td><td>/home/jbenja13/R/x86_64-pc-linux-gnu-library/4.1</td></tr>\n",
       "\t<tr><th scope=row>fs</th><td>fs        </td><td>1.5.0 </td><td>1.5.0 </td><td>/home/jbenja13/R/x86_64-pc-linux-gnu-library/4.1/fs        </td><td>/home/jbenja13/R/x86_64-pc-linux-gnu-library/4.1/fs        </td><td>FALSE</td><td>FALSE</td><td>2020-07-31</td><td>CRAN (R 4.1.2)</td><td>NA</td><td>/home/jbenja13/R/x86_64-pc-linux-gnu-library/4.1</td></tr>\n",
       "\t<tr><th scope=row>generics</th><td>generics  </td><td>0.1.1 </td><td>0.1.1 </td><td>/home/jbenja13/R/x86_64-pc-linux-gnu-library/4.1/generics  </td><td>/home/jbenja13/R/x86_64-pc-linux-gnu-library/4.1/generics  </td><td>FALSE</td><td>FALSE</td><td>2021-10-25</td><td>CRAN (R 4.1.2)</td><td>NA</td><td>/home/jbenja13/R/x86_64-pc-linux-gnu-library/4.1</td></tr>\n",
       "\t<tr><th scope=row>ggplot2</th><td>ggplot2   </td><td>3.3.5 </td><td>3.3.5 </td><td>/home/jbenja13/R/x86_64-pc-linux-gnu-library/4.1/ggplot2   </td><td>/home/jbenja13/R/x86_64-pc-linux-gnu-library/4.1/ggplot2   </td><td> TRUE</td><td>FALSE</td><td>2021-06-25</td><td>CRAN (R 4.1.2)</td><td>NA</td><td>/home/jbenja13/R/x86_64-pc-linux-gnu-library/4.1</td></tr>\n",
       "\t<tr><th scope=row>ggpubr</th><td>ggpubr    </td><td>0.4.0 </td><td>0.4.0 </td><td>/home/jbenja13/R/x86_64-pc-linux-gnu-library/4.1/ggpubr    </td><td>/home/jbenja13/R/x86_64-pc-linux-gnu-library/4.1/ggpubr    </td><td> TRUE</td><td>FALSE</td><td>2020-06-27</td><td>CRAN (R 4.1.2)</td><td>NA</td><td>/home/jbenja13/R/x86_64-pc-linux-gnu-library/4.1</td></tr>\n",
       "\t<tr><th scope=row>ggsci</th><td>ggsci     </td><td>2.9   </td><td>2.9   </td><td>/home/jbenja13/R/x86_64-pc-linux-gnu-library/4.1/ggsci     </td><td>/home/jbenja13/R/x86_64-pc-linux-gnu-library/4.1/ggsci     </td><td>FALSE</td><td>FALSE</td><td>2018-05-14</td><td>CRAN (R 4.1.2)</td><td>NA</td><td>/home/jbenja13/R/x86_64-pc-linux-gnu-library/4.1</td></tr>\n",
       "\t<tr><th scope=row>ggsignif</th><td>ggsignif  </td><td>0.6.3 </td><td>0.6.3 </td><td>/home/jbenja13/R/x86_64-pc-linux-gnu-library/4.1/ggsignif  </td><td>/home/jbenja13/R/x86_64-pc-linux-gnu-library/4.1/ggsignif  </td><td>FALSE</td><td>FALSE</td><td>2021-09-09</td><td>CRAN (R 4.1.2)</td><td>NA</td><td>/home/jbenja13/R/x86_64-pc-linux-gnu-library/4.1</td></tr>\n",
       "\t<tr><th scope=row>glue</th><td>glue      </td><td>1.5.0 </td><td>1.5.0 </td><td>/home/jbenja13/R/x86_64-pc-linux-gnu-library/4.1/glue      </td><td>/home/jbenja13/R/x86_64-pc-linux-gnu-library/4.1/glue      </td><td>FALSE</td><td>FALSE</td><td>2021-11-07</td><td>CRAN (R 4.1.2)</td><td>NA</td><td>/home/jbenja13/R/x86_64-pc-linux-gnu-library/4.1</td></tr>\n",
       "\t<tr><th scope=row>gtable</th><td>gtable    </td><td>0.3.0 </td><td>0.3.0 </td><td>/home/jbenja13/R/x86_64-pc-linux-gnu-library/4.1/gtable    </td><td>/home/jbenja13/R/x86_64-pc-linux-gnu-library/4.1/gtable    </td><td>FALSE</td><td>FALSE</td><td>2019-03-25</td><td>CRAN (R 4.1.2)</td><td>NA</td><td>/home/jbenja13/R/x86_64-pc-linux-gnu-library/4.1</td></tr>\n",
       "\t<tr><th scope=row>⋮</th><td>⋮</td><td>⋮</td><td>⋮</td><td>⋮</td><td>⋮</td><td>⋮</td><td>⋮</td><td>⋮</td><td>⋮</td><td>⋮</td><td>⋮</td></tr>\n",
       "\t<tr><th scope=row>pbdZMQ</th><td>pbdZMQ     </td><td>0.3.6 </td><td>0.3-6 </td><td>/home/jbenja13/R/x86_64-pc-linux-gnu-library/4.1/pbdZMQ     </td><td>/home/jbenja13/R/x86_64-pc-linux-gnu-library/4.1/pbdZMQ     </td><td>FALSE</td><td>FALSE</td><td>2021-10-29</td><td>CRAN (R 4.1.2)</td><td>NA</td><td>/home/jbenja13/R/x86_64-pc-linux-gnu-library/4.1</td></tr>\n",
       "\t<tr><th scope=row>pillar</th><td>pillar     </td><td>1.6.4 </td><td>1.6.4 </td><td>/home/jbenja13/R/x86_64-pc-linux-gnu-library/4.1/pillar     </td><td>/home/jbenja13/R/x86_64-pc-linux-gnu-library/4.1/pillar     </td><td>FALSE</td><td>FALSE</td><td>2021-10-18</td><td>CRAN (R 4.1.2)</td><td>NA</td><td>/home/jbenja13/R/x86_64-pc-linux-gnu-library/4.1</td></tr>\n",
       "\t<tr><th scope=row>pkgconfig</th><td>pkgconfig  </td><td>2.0.3 </td><td>2.0.3 </td><td>/home/jbenja13/R/x86_64-pc-linux-gnu-library/4.1/pkgconfig  </td><td>/home/jbenja13/R/x86_64-pc-linux-gnu-library/4.1/pkgconfig  </td><td>FALSE</td><td>FALSE</td><td>2019-09-22</td><td>CRAN (R 4.1.2)</td><td>NA</td><td>/home/jbenja13/R/x86_64-pc-linux-gnu-library/4.1</td></tr>\n",
       "\t<tr><th scope=row>purrr</th><td>purrr      </td><td>0.3.4 </td><td>0.3.4 </td><td>/home/jbenja13/R/x86_64-pc-linux-gnu-library/4.1/purrr      </td><td>/home/jbenja13/R/x86_64-pc-linux-gnu-library/4.1/purrr      </td><td> TRUE</td><td>FALSE</td><td>2020-04-17</td><td>CRAN (R 4.1.2)</td><td>NA</td><td>/home/jbenja13/R/x86_64-pc-linux-gnu-library/4.1</td></tr>\n",
       "\t<tr><th scope=row>R6</th><td>R6         </td><td>2.5.1 </td><td>2.5.1 </td><td>/home/jbenja13/R/x86_64-pc-linux-gnu-library/4.1/R6         </td><td>/home/jbenja13/R/x86_64-pc-linux-gnu-library/4.1/R6         </td><td>FALSE</td><td>FALSE</td><td>2021-08-19</td><td>CRAN (R 4.1.2)</td><td>NA</td><td>/home/jbenja13/R/x86_64-pc-linux-gnu-library/4.1</td></tr>\n",
       "\t<tr><th scope=row>Rcpp</th><td>Rcpp       </td><td>1.0.7 </td><td>1.0.7 </td><td>/home/jbenja13/R/x86_64-pc-linux-gnu-library/4.1/Rcpp       </td><td>/home/jbenja13/R/x86_64-pc-linux-gnu-library/4.1/Rcpp       </td><td>FALSE</td><td>FALSE</td><td>2021-07-07</td><td>CRAN (R 4.1.2)</td><td>NA</td><td>/home/jbenja13/R/x86_64-pc-linux-gnu-library/4.1</td></tr>\n",
       "\t<tr><th scope=row>readr</th><td>readr      </td><td>2.1.0 </td><td>2.1.0 </td><td>/home/jbenja13/R/x86_64-pc-linux-gnu-library/4.1/readr      </td><td>/home/jbenja13/R/x86_64-pc-linux-gnu-library/4.1/readr      </td><td> TRUE</td><td>FALSE</td><td>2021-11-11</td><td>CRAN (R 4.1.2)</td><td>NA</td><td>/home/jbenja13/R/x86_64-pc-linux-gnu-library/4.1</td></tr>\n",
       "\t<tr><th scope=row>readxl</th><td>readxl     </td><td>1.3.1 </td><td>1.3.1 </td><td>/home/jbenja13/R/x86_64-pc-linux-gnu-library/4.1/readxl     </td><td>/home/jbenja13/R/x86_64-pc-linux-gnu-library/4.1/readxl     </td><td>FALSE</td><td>FALSE</td><td>2019-03-13</td><td>CRAN (R 4.1.2)</td><td>NA</td><td>/home/jbenja13/R/x86_64-pc-linux-gnu-library/4.1</td></tr>\n",
       "\t<tr><th scope=row>repr</th><td>repr       </td><td>1.1.3 </td><td>1.1.3 </td><td>/home/jbenja13/R/x86_64-pc-linux-gnu-library/4.1/repr       </td><td>/home/jbenja13/R/x86_64-pc-linux-gnu-library/4.1/repr       </td><td>FALSE</td><td>FALSE</td><td>2021-01-21</td><td>CRAN (R 4.1.2)</td><td>NA</td><td>/home/jbenja13/R/x86_64-pc-linux-gnu-library/4.1</td></tr>\n",
       "\t<tr><th scope=row>reprex</th><td>reprex     </td><td>2.0.1 </td><td>2.0.1 </td><td>/home/jbenja13/R/x86_64-pc-linux-gnu-library/4.1/reprex     </td><td>/home/jbenja13/R/x86_64-pc-linux-gnu-library/4.1/reprex     </td><td>FALSE</td><td>FALSE</td><td>2021-08-05</td><td>CRAN (R 4.1.2)</td><td>NA</td><td>/home/jbenja13/R/x86_64-pc-linux-gnu-library/4.1</td></tr>\n",
       "\t<tr><th scope=row>rlang</th><td>rlang      </td><td>0.4.12</td><td>0.4.12</td><td>/home/jbenja13/R/x86_64-pc-linux-gnu-library/4.1/rlang      </td><td>/home/jbenja13/R/x86_64-pc-linux-gnu-library/4.1/rlang      </td><td>FALSE</td><td>FALSE</td><td>2021-10-18</td><td>CRAN (R 4.1.2)</td><td>NA</td><td>/home/jbenja13/R/x86_64-pc-linux-gnu-library/4.1</td></tr>\n",
       "\t<tr><th scope=row>rstatix</th><td>rstatix    </td><td>0.7.0 </td><td>0.7.0 </td><td>/home/jbenja13/R/x86_64-pc-linux-gnu-library/4.1/rstatix    </td><td>/home/jbenja13/R/x86_64-pc-linux-gnu-library/4.1/rstatix    </td><td>FALSE</td><td>FALSE</td><td>2021-02-13</td><td>CRAN (R 4.1.2)</td><td>NA</td><td>/home/jbenja13/R/x86_64-pc-linux-gnu-library/4.1</td></tr>\n",
       "\t<tr><th scope=row>rstudioapi</th><td>rstudioapi </td><td>0.13  </td><td>0.13  </td><td>/home/jbenja13/R/x86_64-pc-linux-gnu-library/4.1/rstudioapi </td><td>/home/jbenja13/R/x86_64-pc-linux-gnu-library/4.1/rstudioapi </td><td>FALSE</td><td>FALSE</td><td>2020-11-12</td><td>CRAN (R 4.1.2)</td><td>NA</td><td>/home/jbenja13/R/x86_64-pc-linux-gnu-library/4.1</td></tr>\n",
       "\t<tr><th scope=row>rvest</th><td>rvest      </td><td>1.0.2 </td><td>1.0.2 </td><td>/home/jbenja13/R/x86_64-pc-linux-gnu-library/4.1/rvest      </td><td>/home/jbenja13/R/x86_64-pc-linux-gnu-library/4.1/rvest      </td><td>FALSE</td><td>FALSE</td><td>2021-10-16</td><td>CRAN (R 4.1.2)</td><td>NA</td><td>/home/jbenja13/R/x86_64-pc-linux-gnu-library/4.1</td></tr>\n",
       "\t<tr><th scope=row>scales</th><td>scales     </td><td>1.1.1 </td><td>1.1.1 </td><td>/home/jbenja13/R/x86_64-pc-linux-gnu-library/4.1/scales     </td><td>/home/jbenja13/R/x86_64-pc-linux-gnu-library/4.1/scales     </td><td>FALSE</td><td>FALSE</td><td>2020-05-11</td><td>CRAN (R 4.1.2)</td><td>NA</td><td>/home/jbenja13/R/x86_64-pc-linux-gnu-library/4.1</td></tr>\n",
       "\t<tr><th scope=row>sessioninfo</th><td>sessioninfo</td><td>1.2.1 </td><td>1.2.1 </td><td>/home/jbenja13/R/x86_64-pc-linux-gnu-library/4.1/sessioninfo</td><td>/home/jbenja13/R/x86_64-pc-linux-gnu-library/4.1/sessioninfo</td><td>FALSE</td><td>FALSE</td><td>2021-11-02</td><td>CRAN (R 4.1.2)</td><td>NA</td><td>/home/jbenja13/R/x86_64-pc-linux-gnu-library/4.1</td></tr>\n",
       "\t<tr><th scope=row>stringi</th><td>stringi    </td><td>1.7.5 </td><td>1.7.5 </td><td>/home/jbenja13/R/x86_64-pc-linux-gnu-library/4.1/stringi    </td><td>/home/jbenja13/R/x86_64-pc-linux-gnu-library/4.1/stringi    </td><td>FALSE</td><td>FALSE</td><td>2021-10-04</td><td>CRAN (R 4.1.2)</td><td>NA</td><td>/home/jbenja13/R/x86_64-pc-linux-gnu-library/4.1</td></tr>\n",
       "\t<tr><th scope=row>stringr</th><td>stringr    </td><td>1.4.0 </td><td>1.4.0 </td><td>/home/jbenja13/R/x86_64-pc-linux-gnu-library/4.1/stringr    </td><td>/home/jbenja13/R/x86_64-pc-linux-gnu-library/4.1/stringr    </td><td> TRUE</td><td>FALSE</td><td>2019-02-10</td><td>CRAN (R 4.1.2)</td><td>NA</td><td>/home/jbenja13/R/x86_64-pc-linux-gnu-library/4.1</td></tr>\n",
       "\t<tr><th scope=row>svglite</th><td>svglite    </td><td>2.0.0 </td><td>2.0.0 </td><td>/home/jbenja13/R/x86_64-pc-linux-gnu-library/4.1/svglite    </td><td>/home/jbenja13/R/x86_64-pc-linux-gnu-library/4.1/svglite    </td><td>FALSE</td><td>FALSE</td><td>2021-02-20</td><td>CRAN (R 4.1.2)</td><td>NA</td><td>/home/jbenja13/R/x86_64-pc-linux-gnu-library/4.1</td></tr>\n",
       "\t<tr><th scope=row>systemfonts</th><td>systemfonts</td><td>1.0.3 </td><td>1.0.3 </td><td>/home/jbenja13/R/x86_64-pc-linux-gnu-library/4.1/systemfonts</td><td>/home/jbenja13/R/x86_64-pc-linux-gnu-library/4.1/systemfonts</td><td>FALSE</td><td>FALSE</td><td>2021-10-13</td><td>CRAN (R 4.1.2)</td><td>NA</td><td>/home/jbenja13/R/x86_64-pc-linux-gnu-library/4.1</td></tr>\n",
       "\t<tr><th scope=row>tibble</th><td>tibble     </td><td>3.1.6 </td><td>3.1.6 </td><td>/home/jbenja13/R/x86_64-pc-linux-gnu-library/4.1/tibble     </td><td>/home/jbenja13/R/x86_64-pc-linux-gnu-library/4.1/tibble     </td><td> TRUE</td><td>FALSE</td><td>2021-11-07</td><td>CRAN (R 4.1.2)</td><td>NA</td><td>/home/jbenja13/R/x86_64-pc-linux-gnu-library/4.1</td></tr>\n",
       "\t<tr><th scope=row>tidyr</th><td>tidyr      </td><td>1.1.4 </td><td>1.1.4 </td><td>/home/jbenja13/R/x86_64-pc-linux-gnu-library/4.1/tidyr      </td><td>/home/jbenja13/R/x86_64-pc-linux-gnu-library/4.1/tidyr      </td><td> TRUE</td><td>FALSE</td><td>2021-09-27</td><td>CRAN (R 4.1.2)</td><td>NA</td><td>/home/jbenja13/R/x86_64-pc-linux-gnu-library/4.1</td></tr>\n",
       "\t<tr><th scope=row>tidyselect</th><td>tidyselect </td><td>1.1.1 </td><td>1.1.1 </td><td>/home/jbenja13/R/x86_64-pc-linux-gnu-library/4.1/tidyselect </td><td>/home/jbenja13/R/x86_64-pc-linux-gnu-library/4.1/tidyselect </td><td>FALSE</td><td>FALSE</td><td>2021-04-30</td><td>CRAN (R 4.1.2)</td><td>NA</td><td>/home/jbenja13/R/x86_64-pc-linux-gnu-library/4.1</td></tr>\n",
       "\t<tr><th scope=row>tidyverse</th><td>tidyverse  </td><td>1.3.1 </td><td>1.3.1 </td><td>/home/jbenja13/R/x86_64-pc-linux-gnu-library/4.1/tidyverse  </td><td>/home/jbenja13/R/x86_64-pc-linux-gnu-library/4.1/tidyverse  </td><td> TRUE</td><td>FALSE</td><td>2021-04-15</td><td>CRAN (R 4.1.2)</td><td>NA</td><td>/home/jbenja13/R/x86_64-pc-linux-gnu-library/4.1</td></tr>\n",
       "\t<tr><th scope=row>tzdb</th><td>tzdb       </td><td>0.2.0 </td><td>0.2.0 </td><td>/home/jbenja13/R/x86_64-pc-linux-gnu-library/4.1/tzdb       </td><td>/home/jbenja13/R/x86_64-pc-linux-gnu-library/4.1/tzdb       </td><td>FALSE</td><td>FALSE</td><td>2021-10-27</td><td>CRAN (R 4.1.2)</td><td>NA</td><td>/home/jbenja13/R/x86_64-pc-linux-gnu-library/4.1</td></tr>\n",
       "\t<tr><th scope=row>utf8</th><td>utf8       </td><td>1.2.2 </td><td>1.2.2 </td><td>/home/jbenja13/R/x86_64-pc-linux-gnu-library/4.1/utf8       </td><td>/home/jbenja13/R/x86_64-pc-linux-gnu-library/4.1/utf8       </td><td>FALSE</td><td>FALSE</td><td>2021-07-24</td><td>CRAN (R 4.1.2)</td><td>NA</td><td>/home/jbenja13/R/x86_64-pc-linux-gnu-library/4.1</td></tr>\n",
       "\t<tr><th scope=row>uuid</th><td>uuid       </td><td>1.0.3 </td><td>1.0-3 </td><td>/home/jbenja13/R/x86_64-pc-linux-gnu-library/4.1/uuid       </td><td>/home/jbenja13/R/x86_64-pc-linux-gnu-library/4.1/uuid       </td><td>FALSE</td><td>FALSE</td><td>2021-11-01</td><td>CRAN (R 4.1.2)</td><td>NA</td><td>/home/jbenja13/R/x86_64-pc-linux-gnu-library/4.1</td></tr>\n",
       "\t<tr><th scope=row>vctrs</th><td>vctrs      </td><td>0.3.8 </td><td>0.3.8 </td><td>/home/jbenja13/R/x86_64-pc-linux-gnu-library/4.1/vctrs      </td><td>/home/jbenja13/R/x86_64-pc-linux-gnu-library/4.1/vctrs      </td><td>FALSE</td><td>FALSE</td><td>2021-04-29</td><td>CRAN (R 4.1.2)</td><td>NA</td><td>/home/jbenja13/R/x86_64-pc-linux-gnu-library/4.1</td></tr>\n",
       "\t<tr><th scope=row>withr</th><td>withr      </td><td>2.4.2 </td><td>2.4.2 </td><td>/home/jbenja13/R/x86_64-pc-linux-gnu-library/4.1/withr      </td><td>/home/jbenja13/R/x86_64-pc-linux-gnu-library/4.1/withr      </td><td>FALSE</td><td>FALSE</td><td>2021-04-18</td><td>CRAN (R 4.1.2)</td><td>NA</td><td>/home/jbenja13/R/x86_64-pc-linux-gnu-library/4.1</td></tr>\n",
       "\t<tr><th scope=row>xml2</th><td>xml2       </td><td>1.3.2 </td><td>1.3.2 </td><td>/home/jbenja13/R/x86_64-pc-linux-gnu-library/4.1/xml2       </td><td>/home/jbenja13/R/x86_64-pc-linux-gnu-library/4.1/xml2       </td><td>FALSE</td><td>FALSE</td><td>2020-04-23</td><td>CRAN (R 4.1.2)</td><td>NA</td><td>/home/jbenja13/R/x86_64-pc-linux-gnu-library/4.1</td></tr>\n",
       "</tbody>\n",
       "</table>\n",
       "</dd>\n",
       "\t<dt>$hash</dt>\n",
       "\t\t<dd><dl>\n",
       "\t<dt>$emoji</dt>\n",
       "\t\t<dd><style>\n",
       ".list-inline {list-style: none; margin:0; padding: 0}\n",
       ".list-inline>li {display: inline-block}\n",
       ".list-inline>li:not(:last-child)::after {content: \"\\00b7\"; padding: 0 .5ex}\n",
       "</style>\n",
       "<ol class=list-inline><li>'🌹'</li><li>'🙇🏼'</li><li>'🦇'</li></ol>\n",
       "</dd>\n",
       "\t<dt>$emo_text</dt>\n",
       "\t\t<dd><style>\n",
       ".list-inline {list-style: none; margin:0; padding: 0}\n",
       ".list-inline>li {display: inline-block}\n",
       ".list-inline>li:not(:last-child)::after {content: \"\\00b7\"; padding: 0 .5ex}\n",
       "</style>\n",
       "<ol class=list-inline><li>'rose'</li><li>'person bowing: medium-light skin tone'</li><li>'bat'</li></ol>\n",
       "</dd>\n",
       "</dl>\n",
       "</dd>\n",
       "</dl>\n"
      ],
      "text/latex": [
       "\\begin{description}\n",
       "\\item[\\$platform] \\begin{description}\n",
       "\\item[\\$version] 'R version 4.1.2 (2021-11-01)'\n",
       "\\item[\\$os] 'Arch Linux'\n",
       "\\item[\\$system] 'x86\\_64, linux-gnu'\n",
       "\\item[\\$ui] 'X11'\n",
       "\\item[\\$language] '(EN)'\n",
       "\\item[\\$collate] 'en\\_US.UTF-8'\n",
       "\\item[\\$ctype] 'en\\_US.UTF-8'\n",
       "\\item[\\$tz] 'America/New\\_York'\n",
       "\\item[\\$date] '2021-11-24'\n",
       "\\item[\\$pandoc] '2.14.1 @ /usr/bin/pandoc'\n",
       "\\end{description}\n",
       "\n",
       "\\item[\\$packages] A packages\\_info: 73 × 11\n",
       "\\begin{tabular}{r|lllllllllll}\n",
       "  & package & ondiskversion & loadedversion & path & loadedpath & attached & is\\_base & date & source & md5ok & library\\\\\n",
       "  & <chr> & <chr> & <chr> & <chr> & <chr> & <lgl> & <lgl> & <chr> & <chr> & <lgl> & <fct>\\\\\n",
       "\\hline\n",
       "\tabind & abind      & 1.4.5  & 1.4-5  & /home/jbenja13/R/x86\\_64-pc-linux-gnu-library/4.1/abind      & /home/jbenja13/R/x86\\_64-pc-linux-gnu-library/4.1/abind      & FALSE & FALSE & 2016-07-21 & CRAN (R 4.1.2) & NA & /home/jbenja13/R/x86\\_64-pc-linux-gnu-library/4.1\\\\\n",
       "\tassertthat & assertthat & 0.2.1  & 0.2.1  & /home/jbenja13/R/x86\\_64-pc-linux-gnu-library/4.1/assertthat & /home/jbenja13/R/x86\\_64-pc-linux-gnu-library/4.1/assertthat & FALSE & FALSE & 2019-03-21 & CRAN (R 4.1.2) & NA & /home/jbenja13/R/x86\\_64-pc-linux-gnu-library/4.1\\\\\n",
       "\tbackports & backports  & 1.4.0  & 1.4.0  & /home/jbenja13/R/x86\\_64-pc-linux-gnu-library/4.1/backports  & /home/jbenja13/R/x86\\_64-pc-linux-gnu-library/4.1/backports  & FALSE & FALSE & 2021-11-23 & CRAN (R 4.1.2) & NA & /home/jbenja13/R/x86\\_64-pc-linux-gnu-library/4.1\\\\\n",
       "\tbase64enc & base64enc  & 0.1.3  & 0.1-3  & /home/jbenja13/R/x86\\_64-pc-linux-gnu-library/4.1/base64enc  & /home/jbenja13/R/x86\\_64-pc-linux-gnu-library/4.1/base64enc  & FALSE & FALSE & 2015-07-28 & CRAN (R 4.1.2) & NA & /home/jbenja13/R/x86\\_64-pc-linux-gnu-library/4.1\\\\\n",
       "\tbroom & broom      & 0.7.10 & 0.7.10 & /home/jbenja13/R/x86\\_64-pc-linux-gnu-library/4.1/broom      & /home/jbenja13/R/x86\\_64-pc-linux-gnu-library/4.1/broom      & FALSE & FALSE & 2021-10-31 & CRAN (R 4.1.2) & NA & /home/jbenja13/R/x86\\_64-pc-linux-gnu-library/4.1\\\\\n",
       "\tcar & car        & 3.0.12 & 3.0-12 & /home/jbenja13/R/x86\\_64-pc-linux-gnu-library/4.1/car        & /home/jbenja13/R/x86\\_64-pc-linux-gnu-library/4.1/car        & FALSE & FALSE & 2021-11-06 & CRAN (R 4.1.2) & NA & /home/jbenja13/R/x86\\_64-pc-linux-gnu-library/4.1\\\\\n",
       "\tcarData & carData    & 3.0.4  & 3.0-4  & /home/jbenja13/R/x86\\_64-pc-linux-gnu-library/4.1/carData    & /home/jbenja13/R/x86\\_64-pc-linux-gnu-library/4.1/carData    & FALSE & FALSE & 2020-05-22 & CRAN (R 4.1.2) & NA & /home/jbenja13/R/x86\\_64-pc-linux-gnu-library/4.1\\\\\n",
       "\tcellranger & cellranger & 1.1.0  & 1.1.0  & /home/jbenja13/R/x86\\_64-pc-linux-gnu-library/4.1/cellranger & /home/jbenja13/R/x86\\_64-pc-linux-gnu-library/4.1/cellranger & FALSE & FALSE & 2016-07-27 & CRAN (R 4.1.2) & NA & /home/jbenja13/R/x86\\_64-pc-linux-gnu-library/4.1\\\\\n",
       "\tcli & cli        & 3.1.0  & 3.1.0  & /home/jbenja13/R/x86\\_64-pc-linux-gnu-library/4.1/cli        & /home/jbenja13/R/x86\\_64-pc-linux-gnu-library/4.1/cli        & FALSE & FALSE & 2021-10-27 & CRAN (R 4.1.2) & NA & /home/jbenja13/R/x86\\_64-pc-linux-gnu-library/4.1\\\\\n",
       "\tcolorspace & colorspace & 2.0.2  & 2.0-2  & /home/jbenja13/R/x86\\_64-pc-linux-gnu-library/4.1/colorspace & /home/jbenja13/R/x86\\_64-pc-linux-gnu-library/4.1/colorspace & FALSE & FALSE & 2021-06-24 & CRAN (R 4.1.2) & NA & /home/jbenja13/R/x86\\_64-pc-linux-gnu-library/4.1\\\\\n",
       "\tcrayon & crayon     & 1.4.2  & 1.4.2  & /home/jbenja13/R/x86\\_64-pc-linux-gnu-library/4.1/crayon     & /home/jbenja13/R/x86\\_64-pc-linux-gnu-library/4.1/crayon     & FALSE & FALSE & 2021-10-29 & CRAN (R 4.1.2) & NA & /home/jbenja13/R/x86\\_64-pc-linux-gnu-library/4.1\\\\\n",
       "\tdata.table & data.table & 1.14.2 & 1.14.2 & /home/jbenja13/R/x86\\_64-pc-linux-gnu-library/4.1/data.table & /home/jbenja13/R/x86\\_64-pc-linux-gnu-library/4.1/data.table & FALSE & FALSE & 2021-09-27 & CRAN (R 4.1.2) & NA & /home/jbenja13/R/x86\\_64-pc-linux-gnu-library/4.1\\\\\n",
       "\tDBI & DBI        & 1.1.1  & 1.1.1  & /home/jbenja13/R/x86\\_64-pc-linux-gnu-library/4.1/DBI        & /home/jbenja13/R/x86\\_64-pc-linux-gnu-library/4.1/DBI        & FALSE & FALSE & 2021-01-15 & CRAN (R 4.1.2) & NA & /home/jbenja13/R/x86\\_64-pc-linux-gnu-library/4.1\\\\\n",
       "\tdbplyr & dbplyr     & 2.1.1  & 2.1.1  & /home/jbenja13/R/x86\\_64-pc-linux-gnu-library/4.1/dbplyr     & /home/jbenja13/R/x86\\_64-pc-linux-gnu-library/4.1/dbplyr     & FALSE & FALSE & 2021-04-06 & CRAN (R 4.1.2) & NA & /home/jbenja13/R/x86\\_64-pc-linux-gnu-library/4.1\\\\\n",
       "\tdigest & digest     & 0.6.28 & 0.6.28 & /home/jbenja13/R/x86\\_64-pc-linux-gnu-library/4.1/digest     & /home/jbenja13/R/x86\\_64-pc-linux-gnu-library/4.1/digest     & FALSE & FALSE & 2021-09-23 & CRAN (R 4.1.2) & NA & /home/jbenja13/R/x86\\_64-pc-linux-gnu-library/4.1\\\\\n",
       "\tdplyr & dplyr      & 1.0.7  & 1.0.7  & /home/jbenja13/R/x86\\_64-pc-linux-gnu-library/4.1/dplyr      & /home/jbenja13/R/x86\\_64-pc-linux-gnu-library/4.1/dplyr      &  TRUE & FALSE & 2021-06-18 & CRAN (R 4.1.2) & NA & /home/jbenja13/R/x86\\_64-pc-linux-gnu-library/4.1\\\\\n",
       "\tellipsis & ellipsis   & 0.3.2  & 0.3.2  & /home/jbenja13/R/x86\\_64-pc-linux-gnu-library/4.1/ellipsis   & /home/jbenja13/R/x86\\_64-pc-linux-gnu-library/4.1/ellipsis   & FALSE & FALSE & 2021-04-29 & CRAN (R 4.1.2) & NA & /home/jbenja13/R/x86\\_64-pc-linux-gnu-library/4.1\\\\\n",
       "\tevaluate & evaluate   & 0.14   & 0.14   & /home/jbenja13/R/x86\\_64-pc-linux-gnu-library/4.1/evaluate   & /home/jbenja13/R/x86\\_64-pc-linux-gnu-library/4.1/evaluate   & FALSE & FALSE & 2019-05-28 & CRAN (R 4.1.2) & NA & /home/jbenja13/R/x86\\_64-pc-linux-gnu-library/4.1\\\\\n",
       "\tfansi & fansi      & 0.5.0  & 0.5.0  & /home/jbenja13/R/x86\\_64-pc-linux-gnu-library/4.1/fansi      & /home/jbenja13/R/x86\\_64-pc-linux-gnu-library/4.1/fansi      & FALSE & FALSE & 2021-05-25 & CRAN (R 4.1.2) & NA & /home/jbenja13/R/x86\\_64-pc-linux-gnu-library/4.1\\\\\n",
       "\tfarver & farver     & 2.1.0  & 2.1.0  & /home/jbenja13/R/x86\\_64-pc-linux-gnu-library/4.1/farver     & /home/jbenja13/R/x86\\_64-pc-linux-gnu-library/4.1/farver     & FALSE & FALSE & 2021-02-28 & CRAN (R 4.1.2) & NA & /home/jbenja13/R/x86\\_64-pc-linux-gnu-library/4.1\\\\\n",
       "\tfastmap & fastmap    & 1.1.0  & 1.1.0  & /home/jbenja13/R/x86\\_64-pc-linux-gnu-library/4.1/fastmap    & /home/jbenja13/R/x86\\_64-pc-linux-gnu-library/4.1/fastmap    & FALSE & FALSE & 2021-01-25 & CRAN (R 4.1.2) & NA & /home/jbenja13/R/x86\\_64-pc-linux-gnu-library/4.1\\\\\n",
       "\tforcats & forcats    & 0.5.1  & 0.5.1  & /home/jbenja13/R/x86\\_64-pc-linux-gnu-library/4.1/forcats    & /home/jbenja13/R/x86\\_64-pc-linux-gnu-library/4.1/forcats    &  TRUE & FALSE & 2021-01-27 & CRAN (R 4.1.2) & NA & /home/jbenja13/R/x86\\_64-pc-linux-gnu-library/4.1\\\\\n",
       "\tfs & fs         & 1.5.0  & 1.5.0  & /home/jbenja13/R/x86\\_64-pc-linux-gnu-library/4.1/fs         & /home/jbenja13/R/x86\\_64-pc-linux-gnu-library/4.1/fs         & FALSE & FALSE & 2020-07-31 & CRAN (R 4.1.2) & NA & /home/jbenja13/R/x86\\_64-pc-linux-gnu-library/4.1\\\\\n",
       "\tgenerics & generics   & 0.1.1  & 0.1.1  & /home/jbenja13/R/x86\\_64-pc-linux-gnu-library/4.1/generics   & /home/jbenja13/R/x86\\_64-pc-linux-gnu-library/4.1/generics   & FALSE & FALSE & 2021-10-25 & CRAN (R 4.1.2) & NA & /home/jbenja13/R/x86\\_64-pc-linux-gnu-library/4.1\\\\\n",
       "\tggplot2 & ggplot2    & 3.3.5  & 3.3.5  & /home/jbenja13/R/x86\\_64-pc-linux-gnu-library/4.1/ggplot2    & /home/jbenja13/R/x86\\_64-pc-linux-gnu-library/4.1/ggplot2    &  TRUE & FALSE & 2021-06-25 & CRAN (R 4.1.2) & NA & /home/jbenja13/R/x86\\_64-pc-linux-gnu-library/4.1\\\\\n",
       "\tggpubr & ggpubr     & 0.4.0  & 0.4.0  & /home/jbenja13/R/x86\\_64-pc-linux-gnu-library/4.1/ggpubr     & /home/jbenja13/R/x86\\_64-pc-linux-gnu-library/4.1/ggpubr     &  TRUE & FALSE & 2020-06-27 & CRAN (R 4.1.2) & NA & /home/jbenja13/R/x86\\_64-pc-linux-gnu-library/4.1\\\\\n",
       "\tggsci & ggsci      & 2.9    & 2.9    & /home/jbenja13/R/x86\\_64-pc-linux-gnu-library/4.1/ggsci      & /home/jbenja13/R/x86\\_64-pc-linux-gnu-library/4.1/ggsci      & FALSE & FALSE & 2018-05-14 & CRAN (R 4.1.2) & NA & /home/jbenja13/R/x86\\_64-pc-linux-gnu-library/4.1\\\\\n",
       "\tggsignif & ggsignif   & 0.6.3  & 0.6.3  & /home/jbenja13/R/x86\\_64-pc-linux-gnu-library/4.1/ggsignif   & /home/jbenja13/R/x86\\_64-pc-linux-gnu-library/4.1/ggsignif   & FALSE & FALSE & 2021-09-09 & CRAN (R 4.1.2) & NA & /home/jbenja13/R/x86\\_64-pc-linux-gnu-library/4.1\\\\\n",
       "\tglue & glue       & 1.5.0  & 1.5.0  & /home/jbenja13/R/x86\\_64-pc-linux-gnu-library/4.1/glue       & /home/jbenja13/R/x86\\_64-pc-linux-gnu-library/4.1/glue       & FALSE & FALSE & 2021-11-07 & CRAN (R 4.1.2) & NA & /home/jbenja13/R/x86\\_64-pc-linux-gnu-library/4.1\\\\\n",
       "\tgtable & gtable     & 0.3.0  & 0.3.0  & /home/jbenja13/R/x86\\_64-pc-linux-gnu-library/4.1/gtable     & /home/jbenja13/R/x86\\_64-pc-linux-gnu-library/4.1/gtable     & FALSE & FALSE & 2019-03-25 & CRAN (R 4.1.2) & NA & /home/jbenja13/R/x86\\_64-pc-linux-gnu-library/4.1\\\\\n",
       "\t⋮ & ⋮ & ⋮ & ⋮ & ⋮ & ⋮ & ⋮ & ⋮ & ⋮ & ⋮ & ⋮ & ⋮\\\\\n",
       "\tpbdZMQ & pbdZMQ      & 0.3.6  & 0.3-6  & /home/jbenja13/R/x86\\_64-pc-linux-gnu-library/4.1/pbdZMQ      & /home/jbenja13/R/x86\\_64-pc-linux-gnu-library/4.1/pbdZMQ      & FALSE & FALSE & 2021-10-29 & CRAN (R 4.1.2) & NA & /home/jbenja13/R/x86\\_64-pc-linux-gnu-library/4.1\\\\\n",
       "\tpillar & pillar      & 1.6.4  & 1.6.4  & /home/jbenja13/R/x86\\_64-pc-linux-gnu-library/4.1/pillar      & /home/jbenja13/R/x86\\_64-pc-linux-gnu-library/4.1/pillar      & FALSE & FALSE & 2021-10-18 & CRAN (R 4.1.2) & NA & /home/jbenja13/R/x86\\_64-pc-linux-gnu-library/4.1\\\\\n",
       "\tpkgconfig & pkgconfig   & 2.0.3  & 2.0.3  & /home/jbenja13/R/x86\\_64-pc-linux-gnu-library/4.1/pkgconfig   & /home/jbenja13/R/x86\\_64-pc-linux-gnu-library/4.1/pkgconfig   & FALSE & FALSE & 2019-09-22 & CRAN (R 4.1.2) & NA & /home/jbenja13/R/x86\\_64-pc-linux-gnu-library/4.1\\\\\n",
       "\tpurrr & purrr       & 0.3.4  & 0.3.4  & /home/jbenja13/R/x86\\_64-pc-linux-gnu-library/4.1/purrr       & /home/jbenja13/R/x86\\_64-pc-linux-gnu-library/4.1/purrr       &  TRUE & FALSE & 2020-04-17 & CRAN (R 4.1.2) & NA & /home/jbenja13/R/x86\\_64-pc-linux-gnu-library/4.1\\\\\n",
       "\tR6 & R6          & 2.5.1  & 2.5.1  & /home/jbenja13/R/x86\\_64-pc-linux-gnu-library/4.1/R6          & /home/jbenja13/R/x86\\_64-pc-linux-gnu-library/4.1/R6          & FALSE & FALSE & 2021-08-19 & CRAN (R 4.1.2) & NA & /home/jbenja13/R/x86\\_64-pc-linux-gnu-library/4.1\\\\\n",
       "\tRcpp & Rcpp        & 1.0.7  & 1.0.7  & /home/jbenja13/R/x86\\_64-pc-linux-gnu-library/4.1/Rcpp        & /home/jbenja13/R/x86\\_64-pc-linux-gnu-library/4.1/Rcpp        & FALSE & FALSE & 2021-07-07 & CRAN (R 4.1.2) & NA & /home/jbenja13/R/x86\\_64-pc-linux-gnu-library/4.1\\\\\n",
       "\treadr & readr       & 2.1.0  & 2.1.0  & /home/jbenja13/R/x86\\_64-pc-linux-gnu-library/4.1/readr       & /home/jbenja13/R/x86\\_64-pc-linux-gnu-library/4.1/readr       &  TRUE & FALSE & 2021-11-11 & CRAN (R 4.1.2) & NA & /home/jbenja13/R/x86\\_64-pc-linux-gnu-library/4.1\\\\\n",
       "\treadxl & readxl      & 1.3.1  & 1.3.1  & /home/jbenja13/R/x86\\_64-pc-linux-gnu-library/4.1/readxl      & /home/jbenja13/R/x86\\_64-pc-linux-gnu-library/4.1/readxl      & FALSE & FALSE & 2019-03-13 & CRAN (R 4.1.2) & NA & /home/jbenja13/R/x86\\_64-pc-linux-gnu-library/4.1\\\\\n",
       "\trepr & repr        & 1.1.3  & 1.1.3  & /home/jbenja13/R/x86\\_64-pc-linux-gnu-library/4.1/repr        & /home/jbenja13/R/x86\\_64-pc-linux-gnu-library/4.1/repr        & FALSE & FALSE & 2021-01-21 & CRAN (R 4.1.2) & NA & /home/jbenja13/R/x86\\_64-pc-linux-gnu-library/4.1\\\\\n",
       "\treprex & reprex      & 2.0.1  & 2.0.1  & /home/jbenja13/R/x86\\_64-pc-linux-gnu-library/4.1/reprex      & /home/jbenja13/R/x86\\_64-pc-linux-gnu-library/4.1/reprex      & FALSE & FALSE & 2021-08-05 & CRAN (R 4.1.2) & NA & /home/jbenja13/R/x86\\_64-pc-linux-gnu-library/4.1\\\\\n",
       "\trlang & rlang       & 0.4.12 & 0.4.12 & /home/jbenja13/R/x86\\_64-pc-linux-gnu-library/4.1/rlang       & /home/jbenja13/R/x86\\_64-pc-linux-gnu-library/4.1/rlang       & FALSE & FALSE & 2021-10-18 & CRAN (R 4.1.2) & NA & /home/jbenja13/R/x86\\_64-pc-linux-gnu-library/4.1\\\\\n",
       "\trstatix & rstatix     & 0.7.0  & 0.7.0  & /home/jbenja13/R/x86\\_64-pc-linux-gnu-library/4.1/rstatix     & /home/jbenja13/R/x86\\_64-pc-linux-gnu-library/4.1/rstatix     & FALSE & FALSE & 2021-02-13 & CRAN (R 4.1.2) & NA & /home/jbenja13/R/x86\\_64-pc-linux-gnu-library/4.1\\\\\n",
       "\trstudioapi & rstudioapi  & 0.13   & 0.13   & /home/jbenja13/R/x86\\_64-pc-linux-gnu-library/4.1/rstudioapi  & /home/jbenja13/R/x86\\_64-pc-linux-gnu-library/4.1/rstudioapi  & FALSE & FALSE & 2020-11-12 & CRAN (R 4.1.2) & NA & /home/jbenja13/R/x86\\_64-pc-linux-gnu-library/4.1\\\\\n",
       "\trvest & rvest       & 1.0.2  & 1.0.2  & /home/jbenja13/R/x86\\_64-pc-linux-gnu-library/4.1/rvest       & /home/jbenja13/R/x86\\_64-pc-linux-gnu-library/4.1/rvest       & FALSE & FALSE & 2021-10-16 & CRAN (R 4.1.2) & NA & /home/jbenja13/R/x86\\_64-pc-linux-gnu-library/4.1\\\\\n",
       "\tscales & scales      & 1.1.1  & 1.1.1  & /home/jbenja13/R/x86\\_64-pc-linux-gnu-library/4.1/scales      & /home/jbenja13/R/x86\\_64-pc-linux-gnu-library/4.1/scales      & FALSE & FALSE & 2020-05-11 & CRAN (R 4.1.2) & NA & /home/jbenja13/R/x86\\_64-pc-linux-gnu-library/4.1\\\\\n",
       "\tsessioninfo & sessioninfo & 1.2.1  & 1.2.1  & /home/jbenja13/R/x86\\_64-pc-linux-gnu-library/4.1/sessioninfo & /home/jbenja13/R/x86\\_64-pc-linux-gnu-library/4.1/sessioninfo & FALSE & FALSE & 2021-11-02 & CRAN (R 4.1.2) & NA & /home/jbenja13/R/x86\\_64-pc-linux-gnu-library/4.1\\\\\n",
       "\tstringi & stringi     & 1.7.5  & 1.7.5  & /home/jbenja13/R/x86\\_64-pc-linux-gnu-library/4.1/stringi     & /home/jbenja13/R/x86\\_64-pc-linux-gnu-library/4.1/stringi     & FALSE & FALSE & 2021-10-04 & CRAN (R 4.1.2) & NA & /home/jbenja13/R/x86\\_64-pc-linux-gnu-library/4.1\\\\\n",
       "\tstringr & stringr     & 1.4.0  & 1.4.0  & /home/jbenja13/R/x86\\_64-pc-linux-gnu-library/4.1/stringr     & /home/jbenja13/R/x86\\_64-pc-linux-gnu-library/4.1/stringr     &  TRUE & FALSE & 2019-02-10 & CRAN (R 4.1.2) & NA & /home/jbenja13/R/x86\\_64-pc-linux-gnu-library/4.1\\\\\n",
       "\tsvglite & svglite     & 2.0.0  & 2.0.0  & /home/jbenja13/R/x86\\_64-pc-linux-gnu-library/4.1/svglite     & /home/jbenja13/R/x86\\_64-pc-linux-gnu-library/4.1/svglite     & FALSE & FALSE & 2021-02-20 & CRAN (R 4.1.2) & NA & /home/jbenja13/R/x86\\_64-pc-linux-gnu-library/4.1\\\\\n",
       "\tsystemfonts & systemfonts & 1.0.3  & 1.0.3  & /home/jbenja13/R/x86\\_64-pc-linux-gnu-library/4.1/systemfonts & /home/jbenja13/R/x86\\_64-pc-linux-gnu-library/4.1/systemfonts & FALSE & FALSE & 2021-10-13 & CRAN (R 4.1.2) & NA & /home/jbenja13/R/x86\\_64-pc-linux-gnu-library/4.1\\\\\n",
       "\ttibble & tibble      & 3.1.6  & 3.1.6  & /home/jbenja13/R/x86\\_64-pc-linux-gnu-library/4.1/tibble      & /home/jbenja13/R/x86\\_64-pc-linux-gnu-library/4.1/tibble      &  TRUE & FALSE & 2021-11-07 & CRAN (R 4.1.2) & NA & /home/jbenja13/R/x86\\_64-pc-linux-gnu-library/4.1\\\\\n",
       "\ttidyr & tidyr       & 1.1.4  & 1.1.4  & /home/jbenja13/R/x86\\_64-pc-linux-gnu-library/4.1/tidyr       & /home/jbenja13/R/x86\\_64-pc-linux-gnu-library/4.1/tidyr       &  TRUE & FALSE & 2021-09-27 & CRAN (R 4.1.2) & NA & /home/jbenja13/R/x86\\_64-pc-linux-gnu-library/4.1\\\\\n",
       "\ttidyselect & tidyselect  & 1.1.1  & 1.1.1  & /home/jbenja13/R/x86\\_64-pc-linux-gnu-library/4.1/tidyselect  & /home/jbenja13/R/x86\\_64-pc-linux-gnu-library/4.1/tidyselect  & FALSE & FALSE & 2021-04-30 & CRAN (R 4.1.2) & NA & /home/jbenja13/R/x86\\_64-pc-linux-gnu-library/4.1\\\\\n",
       "\ttidyverse & tidyverse   & 1.3.1  & 1.3.1  & /home/jbenja13/R/x86\\_64-pc-linux-gnu-library/4.1/tidyverse   & /home/jbenja13/R/x86\\_64-pc-linux-gnu-library/4.1/tidyverse   &  TRUE & FALSE & 2021-04-15 & CRAN (R 4.1.2) & NA & /home/jbenja13/R/x86\\_64-pc-linux-gnu-library/4.1\\\\\n",
       "\ttzdb & tzdb        & 0.2.0  & 0.2.0  & /home/jbenja13/R/x86\\_64-pc-linux-gnu-library/4.1/tzdb        & /home/jbenja13/R/x86\\_64-pc-linux-gnu-library/4.1/tzdb        & FALSE & FALSE & 2021-10-27 & CRAN (R 4.1.2) & NA & /home/jbenja13/R/x86\\_64-pc-linux-gnu-library/4.1\\\\\n",
       "\tutf8 & utf8        & 1.2.2  & 1.2.2  & /home/jbenja13/R/x86\\_64-pc-linux-gnu-library/4.1/utf8        & /home/jbenja13/R/x86\\_64-pc-linux-gnu-library/4.1/utf8        & FALSE & FALSE & 2021-07-24 & CRAN (R 4.1.2) & NA & /home/jbenja13/R/x86\\_64-pc-linux-gnu-library/4.1\\\\\n",
       "\tuuid & uuid        & 1.0.3  & 1.0-3  & /home/jbenja13/R/x86\\_64-pc-linux-gnu-library/4.1/uuid        & /home/jbenja13/R/x86\\_64-pc-linux-gnu-library/4.1/uuid        & FALSE & FALSE & 2021-11-01 & CRAN (R 4.1.2) & NA & /home/jbenja13/R/x86\\_64-pc-linux-gnu-library/4.1\\\\\n",
       "\tvctrs & vctrs       & 0.3.8  & 0.3.8  & /home/jbenja13/R/x86\\_64-pc-linux-gnu-library/4.1/vctrs       & /home/jbenja13/R/x86\\_64-pc-linux-gnu-library/4.1/vctrs       & FALSE & FALSE & 2021-04-29 & CRAN (R 4.1.2) & NA & /home/jbenja13/R/x86\\_64-pc-linux-gnu-library/4.1\\\\\n",
       "\twithr & withr       & 2.4.2  & 2.4.2  & /home/jbenja13/R/x86\\_64-pc-linux-gnu-library/4.1/withr       & /home/jbenja13/R/x86\\_64-pc-linux-gnu-library/4.1/withr       & FALSE & FALSE & 2021-04-18 & CRAN (R 4.1.2) & NA & /home/jbenja13/R/x86\\_64-pc-linux-gnu-library/4.1\\\\\n",
       "\txml2 & xml2        & 1.3.2  & 1.3.2  & /home/jbenja13/R/x86\\_64-pc-linux-gnu-library/4.1/xml2        & /home/jbenja13/R/x86\\_64-pc-linux-gnu-library/4.1/xml2        & FALSE & FALSE & 2020-04-23 & CRAN (R 4.1.2) & NA & /home/jbenja13/R/x86\\_64-pc-linux-gnu-library/4.1\\\\\n",
       "\\end{tabular}\n",
       "\n",
       "\\item[\\$hash] \\begin{description}\n",
       "\\item[\\$emoji] \\begin{enumerate*}\n",
       "\\item '🌹'\n",
       "\\item '🙇🏼'\n",
       "\\item '🦇'\n",
       "\\end{enumerate*}\n",
       "\n",
       "\\item[\\$emo\\_text] \\begin{enumerate*}\n",
       "\\item 'rose'\n",
       "\\item 'person bowing: medium-light skin tone'\n",
       "\\item 'bat'\n",
       "\\end{enumerate*}\n",
       "\n",
       "\\end{description}\n",
       "\n",
       "\\end{description}\n"
      ],
      "text/markdown": [
       "$platform\n",
       ":   $version\n",
       ":   'R version 4.1.2 (2021-11-01)'\n",
       "$os\n",
       ":   'Arch Linux'\n",
       "$system\n",
       ":   'x86_64, linux-gnu'\n",
       "$ui\n",
       ":   'X11'\n",
       "$language\n",
       ":   '(EN)'\n",
       "$collate\n",
       ":   'en_US.UTF-8'\n",
       "$ctype\n",
       ":   'en_US.UTF-8'\n",
       "$tz\n",
       ":   'America/New_York'\n",
       "$date\n",
       ":   '2021-11-24'\n",
       "$pandoc\n",
       ":   '2.14.1 @ /usr/bin/pandoc'\n",
       "\n",
       "\n",
       "\n",
       "$packages\n",
       ":   \n",
       "A packages_info: 73 × 11\n",
       "\n",
       "| <!--/--> | package &lt;chr&gt; | ondiskversion &lt;chr&gt; | loadedversion &lt;chr&gt; | path &lt;chr&gt; | loadedpath &lt;chr&gt; | attached &lt;lgl&gt; | is_base &lt;lgl&gt; | date &lt;chr&gt; | source &lt;chr&gt; | md5ok &lt;lgl&gt; | library &lt;fct&gt; |\n",
       "|---|---|---|---|---|---|---|---|---|---|---|---|\n",
       "| abind | abind      | 1.4.5  | 1.4-5  | /home/jbenja13/R/x86_64-pc-linux-gnu-library/4.1/abind      | /home/jbenja13/R/x86_64-pc-linux-gnu-library/4.1/abind      | FALSE | FALSE | 2016-07-21 | CRAN (R 4.1.2) | NA | /home/jbenja13/R/x86_64-pc-linux-gnu-library/4.1 |\n",
       "| assertthat | assertthat | 0.2.1  | 0.2.1  | /home/jbenja13/R/x86_64-pc-linux-gnu-library/4.1/assertthat | /home/jbenja13/R/x86_64-pc-linux-gnu-library/4.1/assertthat | FALSE | FALSE | 2019-03-21 | CRAN (R 4.1.2) | NA | /home/jbenja13/R/x86_64-pc-linux-gnu-library/4.1 |\n",
       "| backports | backports  | 1.4.0  | 1.4.0  | /home/jbenja13/R/x86_64-pc-linux-gnu-library/4.1/backports  | /home/jbenja13/R/x86_64-pc-linux-gnu-library/4.1/backports  | FALSE | FALSE | 2021-11-23 | CRAN (R 4.1.2) | NA | /home/jbenja13/R/x86_64-pc-linux-gnu-library/4.1 |\n",
       "| base64enc | base64enc  | 0.1.3  | 0.1-3  | /home/jbenja13/R/x86_64-pc-linux-gnu-library/4.1/base64enc  | /home/jbenja13/R/x86_64-pc-linux-gnu-library/4.1/base64enc  | FALSE | FALSE | 2015-07-28 | CRAN (R 4.1.2) | NA | /home/jbenja13/R/x86_64-pc-linux-gnu-library/4.1 |\n",
       "| broom | broom      | 0.7.10 | 0.7.10 | /home/jbenja13/R/x86_64-pc-linux-gnu-library/4.1/broom      | /home/jbenja13/R/x86_64-pc-linux-gnu-library/4.1/broom      | FALSE | FALSE | 2021-10-31 | CRAN (R 4.1.2) | NA | /home/jbenja13/R/x86_64-pc-linux-gnu-library/4.1 |\n",
       "| car | car        | 3.0.12 | 3.0-12 | /home/jbenja13/R/x86_64-pc-linux-gnu-library/4.1/car        | /home/jbenja13/R/x86_64-pc-linux-gnu-library/4.1/car        | FALSE | FALSE | 2021-11-06 | CRAN (R 4.1.2) | NA | /home/jbenja13/R/x86_64-pc-linux-gnu-library/4.1 |\n",
       "| carData | carData    | 3.0.4  | 3.0-4  | /home/jbenja13/R/x86_64-pc-linux-gnu-library/4.1/carData    | /home/jbenja13/R/x86_64-pc-linux-gnu-library/4.1/carData    | FALSE | FALSE | 2020-05-22 | CRAN (R 4.1.2) | NA | /home/jbenja13/R/x86_64-pc-linux-gnu-library/4.1 |\n",
       "| cellranger | cellranger | 1.1.0  | 1.1.0  | /home/jbenja13/R/x86_64-pc-linux-gnu-library/4.1/cellranger | /home/jbenja13/R/x86_64-pc-linux-gnu-library/4.1/cellranger | FALSE | FALSE | 2016-07-27 | CRAN (R 4.1.2) | NA | /home/jbenja13/R/x86_64-pc-linux-gnu-library/4.1 |\n",
       "| cli | cli        | 3.1.0  | 3.1.0  | /home/jbenja13/R/x86_64-pc-linux-gnu-library/4.1/cli        | /home/jbenja13/R/x86_64-pc-linux-gnu-library/4.1/cli        | FALSE | FALSE | 2021-10-27 | CRAN (R 4.1.2) | NA | /home/jbenja13/R/x86_64-pc-linux-gnu-library/4.1 |\n",
       "| colorspace | colorspace | 2.0.2  | 2.0-2  | /home/jbenja13/R/x86_64-pc-linux-gnu-library/4.1/colorspace | /home/jbenja13/R/x86_64-pc-linux-gnu-library/4.1/colorspace | FALSE | FALSE | 2021-06-24 | CRAN (R 4.1.2) | NA | /home/jbenja13/R/x86_64-pc-linux-gnu-library/4.1 |\n",
       "| crayon | crayon     | 1.4.2  | 1.4.2  | /home/jbenja13/R/x86_64-pc-linux-gnu-library/4.1/crayon     | /home/jbenja13/R/x86_64-pc-linux-gnu-library/4.1/crayon     | FALSE | FALSE | 2021-10-29 | CRAN (R 4.1.2) | NA | /home/jbenja13/R/x86_64-pc-linux-gnu-library/4.1 |\n",
       "| data.table | data.table | 1.14.2 | 1.14.2 | /home/jbenja13/R/x86_64-pc-linux-gnu-library/4.1/data.table | /home/jbenja13/R/x86_64-pc-linux-gnu-library/4.1/data.table | FALSE | FALSE | 2021-09-27 | CRAN (R 4.1.2) | NA | /home/jbenja13/R/x86_64-pc-linux-gnu-library/4.1 |\n",
       "| DBI | DBI        | 1.1.1  | 1.1.1  | /home/jbenja13/R/x86_64-pc-linux-gnu-library/4.1/DBI        | /home/jbenja13/R/x86_64-pc-linux-gnu-library/4.1/DBI        | FALSE | FALSE | 2021-01-15 | CRAN (R 4.1.2) | NA | /home/jbenja13/R/x86_64-pc-linux-gnu-library/4.1 |\n",
       "| dbplyr | dbplyr     | 2.1.1  | 2.1.1  | /home/jbenja13/R/x86_64-pc-linux-gnu-library/4.1/dbplyr     | /home/jbenja13/R/x86_64-pc-linux-gnu-library/4.1/dbplyr     | FALSE | FALSE | 2021-04-06 | CRAN (R 4.1.2) | NA | /home/jbenja13/R/x86_64-pc-linux-gnu-library/4.1 |\n",
       "| digest | digest     | 0.6.28 | 0.6.28 | /home/jbenja13/R/x86_64-pc-linux-gnu-library/4.1/digest     | /home/jbenja13/R/x86_64-pc-linux-gnu-library/4.1/digest     | FALSE | FALSE | 2021-09-23 | CRAN (R 4.1.2) | NA | /home/jbenja13/R/x86_64-pc-linux-gnu-library/4.1 |\n",
       "| dplyr | dplyr      | 1.0.7  | 1.0.7  | /home/jbenja13/R/x86_64-pc-linux-gnu-library/4.1/dplyr      | /home/jbenja13/R/x86_64-pc-linux-gnu-library/4.1/dplyr      |  TRUE | FALSE | 2021-06-18 | CRAN (R 4.1.2) | NA | /home/jbenja13/R/x86_64-pc-linux-gnu-library/4.1 |\n",
       "| ellipsis | ellipsis   | 0.3.2  | 0.3.2  | /home/jbenja13/R/x86_64-pc-linux-gnu-library/4.1/ellipsis   | /home/jbenja13/R/x86_64-pc-linux-gnu-library/4.1/ellipsis   | FALSE | FALSE | 2021-04-29 | CRAN (R 4.1.2) | NA | /home/jbenja13/R/x86_64-pc-linux-gnu-library/4.1 |\n",
       "| evaluate | evaluate   | 0.14   | 0.14   | /home/jbenja13/R/x86_64-pc-linux-gnu-library/4.1/evaluate   | /home/jbenja13/R/x86_64-pc-linux-gnu-library/4.1/evaluate   | FALSE | FALSE | 2019-05-28 | CRAN (R 4.1.2) | NA | /home/jbenja13/R/x86_64-pc-linux-gnu-library/4.1 |\n",
       "| fansi | fansi      | 0.5.0  | 0.5.0  | /home/jbenja13/R/x86_64-pc-linux-gnu-library/4.1/fansi      | /home/jbenja13/R/x86_64-pc-linux-gnu-library/4.1/fansi      | FALSE | FALSE | 2021-05-25 | CRAN (R 4.1.2) | NA | /home/jbenja13/R/x86_64-pc-linux-gnu-library/4.1 |\n",
       "| farver | farver     | 2.1.0  | 2.1.0  | /home/jbenja13/R/x86_64-pc-linux-gnu-library/4.1/farver     | /home/jbenja13/R/x86_64-pc-linux-gnu-library/4.1/farver     | FALSE | FALSE | 2021-02-28 | CRAN (R 4.1.2) | NA | /home/jbenja13/R/x86_64-pc-linux-gnu-library/4.1 |\n",
       "| fastmap | fastmap    | 1.1.0  | 1.1.0  | /home/jbenja13/R/x86_64-pc-linux-gnu-library/4.1/fastmap    | /home/jbenja13/R/x86_64-pc-linux-gnu-library/4.1/fastmap    | FALSE | FALSE | 2021-01-25 | CRAN (R 4.1.2) | NA | /home/jbenja13/R/x86_64-pc-linux-gnu-library/4.1 |\n",
       "| forcats | forcats    | 0.5.1  | 0.5.1  | /home/jbenja13/R/x86_64-pc-linux-gnu-library/4.1/forcats    | /home/jbenja13/R/x86_64-pc-linux-gnu-library/4.1/forcats    |  TRUE | FALSE | 2021-01-27 | CRAN (R 4.1.2) | NA | /home/jbenja13/R/x86_64-pc-linux-gnu-library/4.1 |\n",
       "| fs | fs         | 1.5.0  | 1.5.0  | /home/jbenja13/R/x86_64-pc-linux-gnu-library/4.1/fs         | /home/jbenja13/R/x86_64-pc-linux-gnu-library/4.1/fs         | FALSE | FALSE | 2020-07-31 | CRAN (R 4.1.2) | NA | /home/jbenja13/R/x86_64-pc-linux-gnu-library/4.1 |\n",
       "| generics | generics   | 0.1.1  | 0.1.1  | /home/jbenja13/R/x86_64-pc-linux-gnu-library/4.1/generics   | /home/jbenja13/R/x86_64-pc-linux-gnu-library/4.1/generics   | FALSE | FALSE | 2021-10-25 | CRAN (R 4.1.2) | NA | /home/jbenja13/R/x86_64-pc-linux-gnu-library/4.1 |\n",
       "| ggplot2 | ggplot2    | 3.3.5  | 3.3.5  | /home/jbenja13/R/x86_64-pc-linux-gnu-library/4.1/ggplot2    | /home/jbenja13/R/x86_64-pc-linux-gnu-library/4.1/ggplot2    |  TRUE | FALSE | 2021-06-25 | CRAN (R 4.1.2) | NA | /home/jbenja13/R/x86_64-pc-linux-gnu-library/4.1 |\n",
       "| ggpubr | ggpubr     | 0.4.0  | 0.4.0  | /home/jbenja13/R/x86_64-pc-linux-gnu-library/4.1/ggpubr     | /home/jbenja13/R/x86_64-pc-linux-gnu-library/4.1/ggpubr     |  TRUE | FALSE | 2020-06-27 | CRAN (R 4.1.2) | NA | /home/jbenja13/R/x86_64-pc-linux-gnu-library/4.1 |\n",
       "| ggsci | ggsci      | 2.9    | 2.9    | /home/jbenja13/R/x86_64-pc-linux-gnu-library/4.1/ggsci      | /home/jbenja13/R/x86_64-pc-linux-gnu-library/4.1/ggsci      | FALSE | FALSE | 2018-05-14 | CRAN (R 4.1.2) | NA | /home/jbenja13/R/x86_64-pc-linux-gnu-library/4.1 |\n",
       "| ggsignif | ggsignif   | 0.6.3  | 0.6.3  | /home/jbenja13/R/x86_64-pc-linux-gnu-library/4.1/ggsignif   | /home/jbenja13/R/x86_64-pc-linux-gnu-library/4.1/ggsignif   | FALSE | FALSE | 2021-09-09 | CRAN (R 4.1.2) | NA | /home/jbenja13/R/x86_64-pc-linux-gnu-library/4.1 |\n",
       "| glue | glue       | 1.5.0  | 1.5.0  | /home/jbenja13/R/x86_64-pc-linux-gnu-library/4.1/glue       | /home/jbenja13/R/x86_64-pc-linux-gnu-library/4.1/glue       | FALSE | FALSE | 2021-11-07 | CRAN (R 4.1.2) | NA | /home/jbenja13/R/x86_64-pc-linux-gnu-library/4.1 |\n",
       "| gtable | gtable     | 0.3.0  | 0.3.0  | /home/jbenja13/R/x86_64-pc-linux-gnu-library/4.1/gtable     | /home/jbenja13/R/x86_64-pc-linux-gnu-library/4.1/gtable     | FALSE | FALSE | 2019-03-25 | CRAN (R 4.1.2) | NA | /home/jbenja13/R/x86_64-pc-linux-gnu-library/4.1 |\n",
       "| ⋮ | ⋮ | ⋮ | ⋮ | ⋮ | ⋮ | ⋮ | ⋮ | ⋮ | ⋮ | ⋮ | ⋮ |\n",
       "| pbdZMQ | pbdZMQ      | 0.3.6  | 0.3-6  | /home/jbenja13/R/x86_64-pc-linux-gnu-library/4.1/pbdZMQ      | /home/jbenja13/R/x86_64-pc-linux-gnu-library/4.1/pbdZMQ      | FALSE | FALSE | 2021-10-29 | CRAN (R 4.1.2) | NA | /home/jbenja13/R/x86_64-pc-linux-gnu-library/4.1 |\n",
       "| pillar | pillar      | 1.6.4  | 1.6.4  | /home/jbenja13/R/x86_64-pc-linux-gnu-library/4.1/pillar      | /home/jbenja13/R/x86_64-pc-linux-gnu-library/4.1/pillar      | FALSE | FALSE | 2021-10-18 | CRAN (R 4.1.2) | NA | /home/jbenja13/R/x86_64-pc-linux-gnu-library/4.1 |\n",
       "| pkgconfig | pkgconfig   | 2.0.3  | 2.0.3  | /home/jbenja13/R/x86_64-pc-linux-gnu-library/4.1/pkgconfig   | /home/jbenja13/R/x86_64-pc-linux-gnu-library/4.1/pkgconfig   | FALSE | FALSE | 2019-09-22 | CRAN (R 4.1.2) | NA | /home/jbenja13/R/x86_64-pc-linux-gnu-library/4.1 |\n",
       "| purrr | purrr       | 0.3.4  | 0.3.4  | /home/jbenja13/R/x86_64-pc-linux-gnu-library/4.1/purrr       | /home/jbenja13/R/x86_64-pc-linux-gnu-library/4.1/purrr       |  TRUE | FALSE | 2020-04-17 | CRAN (R 4.1.2) | NA | /home/jbenja13/R/x86_64-pc-linux-gnu-library/4.1 |\n",
       "| R6 | R6          | 2.5.1  | 2.5.1  | /home/jbenja13/R/x86_64-pc-linux-gnu-library/4.1/R6          | /home/jbenja13/R/x86_64-pc-linux-gnu-library/4.1/R6          | FALSE | FALSE | 2021-08-19 | CRAN (R 4.1.2) | NA | /home/jbenja13/R/x86_64-pc-linux-gnu-library/4.1 |\n",
       "| Rcpp | Rcpp        | 1.0.7  | 1.0.7  | /home/jbenja13/R/x86_64-pc-linux-gnu-library/4.1/Rcpp        | /home/jbenja13/R/x86_64-pc-linux-gnu-library/4.1/Rcpp        | FALSE | FALSE | 2021-07-07 | CRAN (R 4.1.2) | NA | /home/jbenja13/R/x86_64-pc-linux-gnu-library/4.1 |\n",
       "| readr | readr       | 2.1.0  | 2.1.0  | /home/jbenja13/R/x86_64-pc-linux-gnu-library/4.1/readr       | /home/jbenja13/R/x86_64-pc-linux-gnu-library/4.1/readr       |  TRUE | FALSE | 2021-11-11 | CRAN (R 4.1.2) | NA | /home/jbenja13/R/x86_64-pc-linux-gnu-library/4.1 |\n",
       "| readxl | readxl      | 1.3.1  | 1.3.1  | /home/jbenja13/R/x86_64-pc-linux-gnu-library/4.1/readxl      | /home/jbenja13/R/x86_64-pc-linux-gnu-library/4.1/readxl      | FALSE | FALSE | 2019-03-13 | CRAN (R 4.1.2) | NA | /home/jbenja13/R/x86_64-pc-linux-gnu-library/4.1 |\n",
       "| repr | repr        | 1.1.3  | 1.1.3  | /home/jbenja13/R/x86_64-pc-linux-gnu-library/4.1/repr        | /home/jbenja13/R/x86_64-pc-linux-gnu-library/4.1/repr        | FALSE | FALSE | 2021-01-21 | CRAN (R 4.1.2) | NA | /home/jbenja13/R/x86_64-pc-linux-gnu-library/4.1 |\n",
       "| reprex | reprex      | 2.0.1  | 2.0.1  | /home/jbenja13/R/x86_64-pc-linux-gnu-library/4.1/reprex      | /home/jbenja13/R/x86_64-pc-linux-gnu-library/4.1/reprex      | FALSE | FALSE | 2021-08-05 | CRAN (R 4.1.2) | NA | /home/jbenja13/R/x86_64-pc-linux-gnu-library/4.1 |\n",
       "| rlang | rlang       | 0.4.12 | 0.4.12 | /home/jbenja13/R/x86_64-pc-linux-gnu-library/4.1/rlang       | /home/jbenja13/R/x86_64-pc-linux-gnu-library/4.1/rlang       | FALSE | FALSE | 2021-10-18 | CRAN (R 4.1.2) | NA | /home/jbenja13/R/x86_64-pc-linux-gnu-library/4.1 |\n",
       "| rstatix | rstatix     | 0.7.0  | 0.7.0  | /home/jbenja13/R/x86_64-pc-linux-gnu-library/4.1/rstatix     | /home/jbenja13/R/x86_64-pc-linux-gnu-library/4.1/rstatix     | FALSE | FALSE | 2021-02-13 | CRAN (R 4.1.2) | NA | /home/jbenja13/R/x86_64-pc-linux-gnu-library/4.1 |\n",
       "| rstudioapi | rstudioapi  | 0.13   | 0.13   | /home/jbenja13/R/x86_64-pc-linux-gnu-library/4.1/rstudioapi  | /home/jbenja13/R/x86_64-pc-linux-gnu-library/4.1/rstudioapi  | FALSE | FALSE | 2020-11-12 | CRAN (R 4.1.2) | NA | /home/jbenja13/R/x86_64-pc-linux-gnu-library/4.1 |\n",
       "| rvest | rvest       | 1.0.2  | 1.0.2  | /home/jbenja13/R/x86_64-pc-linux-gnu-library/4.1/rvest       | /home/jbenja13/R/x86_64-pc-linux-gnu-library/4.1/rvest       | FALSE | FALSE | 2021-10-16 | CRAN (R 4.1.2) | NA | /home/jbenja13/R/x86_64-pc-linux-gnu-library/4.1 |\n",
       "| scales | scales      | 1.1.1  | 1.1.1  | /home/jbenja13/R/x86_64-pc-linux-gnu-library/4.1/scales      | /home/jbenja13/R/x86_64-pc-linux-gnu-library/4.1/scales      | FALSE | FALSE | 2020-05-11 | CRAN (R 4.1.2) | NA | /home/jbenja13/R/x86_64-pc-linux-gnu-library/4.1 |\n",
       "| sessioninfo | sessioninfo | 1.2.1  | 1.2.1  | /home/jbenja13/R/x86_64-pc-linux-gnu-library/4.1/sessioninfo | /home/jbenja13/R/x86_64-pc-linux-gnu-library/4.1/sessioninfo | FALSE | FALSE | 2021-11-02 | CRAN (R 4.1.2) | NA | /home/jbenja13/R/x86_64-pc-linux-gnu-library/4.1 |\n",
       "| stringi | stringi     | 1.7.5  | 1.7.5  | /home/jbenja13/R/x86_64-pc-linux-gnu-library/4.1/stringi     | /home/jbenja13/R/x86_64-pc-linux-gnu-library/4.1/stringi     | FALSE | FALSE | 2021-10-04 | CRAN (R 4.1.2) | NA | /home/jbenja13/R/x86_64-pc-linux-gnu-library/4.1 |\n",
       "| stringr | stringr     | 1.4.0  | 1.4.0  | /home/jbenja13/R/x86_64-pc-linux-gnu-library/4.1/stringr     | /home/jbenja13/R/x86_64-pc-linux-gnu-library/4.1/stringr     |  TRUE | FALSE | 2019-02-10 | CRAN (R 4.1.2) | NA | /home/jbenja13/R/x86_64-pc-linux-gnu-library/4.1 |\n",
       "| svglite | svglite     | 2.0.0  | 2.0.0  | /home/jbenja13/R/x86_64-pc-linux-gnu-library/4.1/svglite     | /home/jbenja13/R/x86_64-pc-linux-gnu-library/4.1/svglite     | FALSE | FALSE | 2021-02-20 | CRAN (R 4.1.2) | NA | /home/jbenja13/R/x86_64-pc-linux-gnu-library/4.1 |\n",
       "| systemfonts | systemfonts | 1.0.3  | 1.0.3  | /home/jbenja13/R/x86_64-pc-linux-gnu-library/4.1/systemfonts | /home/jbenja13/R/x86_64-pc-linux-gnu-library/4.1/systemfonts | FALSE | FALSE | 2021-10-13 | CRAN (R 4.1.2) | NA | /home/jbenja13/R/x86_64-pc-linux-gnu-library/4.1 |\n",
       "| tibble | tibble      | 3.1.6  | 3.1.6  | /home/jbenja13/R/x86_64-pc-linux-gnu-library/4.1/tibble      | /home/jbenja13/R/x86_64-pc-linux-gnu-library/4.1/tibble      |  TRUE | FALSE | 2021-11-07 | CRAN (R 4.1.2) | NA | /home/jbenja13/R/x86_64-pc-linux-gnu-library/4.1 |\n",
       "| tidyr | tidyr       | 1.1.4  | 1.1.4  | /home/jbenja13/R/x86_64-pc-linux-gnu-library/4.1/tidyr       | /home/jbenja13/R/x86_64-pc-linux-gnu-library/4.1/tidyr       |  TRUE | FALSE | 2021-09-27 | CRAN (R 4.1.2) | NA | /home/jbenja13/R/x86_64-pc-linux-gnu-library/4.1 |\n",
       "| tidyselect | tidyselect  | 1.1.1  | 1.1.1  | /home/jbenja13/R/x86_64-pc-linux-gnu-library/4.1/tidyselect  | /home/jbenja13/R/x86_64-pc-linux-gnu-library/4.1/tidyselect  | FALSE | FALSE | 2021-04-30 | CRAN (R 4.1.2) | NA | /home/jbenja13/R/x86_64-pc-linux-gnu-library/4.1 |\n",
       "| tidyverse | tidyverse   | 1.3.1  | 1.3.1  | /home/jbenja13/R/x86_64-pc-linux-gnu-library/4.1/tidyverse   | /home/jbenja13/R/x86_64-pc-linux-gnu-library/4.1/tidyverse   |  TRUE | FALSE | 2021-04-15 | CRAN (R 4.1.2) | NA | /home/jbenja13/R/x86_64-pc-linux-gnu-library/4.1 |\n",
       "| tzdb | tzdb        | 0.2.0  | 0.2.0  | /home/jbenja13/R/x86_64-pc-linux-gnu-library/4.1/tzdb        | /home/jbenja13/R/x86_64-pc-linux-gnu-library/4.1/tzdb        | FALSE | FALSE | 2021-10-27 | CRAN (R 4.1.2) | NA | /home/jbenja13/R/x86_64-pc-linux-gnu-library/4.1 |\n",
       "| utf8 | utf8        | 1.2.2  | 1.2.2  | /home/jbenja13/R/x86_64-pc-linux-gnu-library/4.1/utf8        | /home/jbenja13/R/x86_64-pc-linux-gnu-library/4.1/utf8        | FALSE | FALSE | 2021-07-24 | CRAN (R 4.1.2) | NA | /home/jbenja13/R/x86_64-pc-linux-gnu-library/4.1 |\n",
       "| uuid | uuid        | 1.0.3  | 1.0-3  | /home/jbenja13/R/x86_64-pc-linux-gnu-library/4.1/uuid        | /home/jbenja13/R/x86_64-pc-linux-gnu-library/4.1/uuid        | FALSE | FALSE | 2021-11-01 | CRAN (R 4.1.2) | NA | /home/jbenja13/R/x86_64-pc-linux-gnu-library/4.1 |\n",
       "| vctrs | vctrs       | 0.3.8  | 0.3.8  | /home/jbenja13/R/x86_64-pc-linux-gnu-library/4.1/vctrs       | /home/jbenja13/R/x86_64-pc-linux-gnu-library/4.1/vctrs       | FALSE | FALSE | 2021-04-29 | CRAN (R 4.1.2) | NA | /home/jbenja13/R/x86_64-pc-linux-gnu-library/4.1 |\n",
       "| withr | withr       | 2.4.2  | 2.4.2  | /home/jbenja13/R/x86_64-pc-linux-gnu-library/4.1/withr       | /home/jbenja13/R/x86_64-pc-linux-gnu-library/4.1/withr       | FALSE | FALSE | 2021-04-18 | CRAN (R 4.1.2) | NA | /home/jbenja13/R/x86_64-pc-linux-gnu-library/4.1 |\n",
       "| xml2 | xml2        | 1.3.2  | 1.3.2  | /home/jbenja13/R/x86_64-pc-linux-gnu-library/4.1/xml2        | /home/jbenja13/R/x86_64-pc-linux-gnu-library/4.1/xml2        | FALSE | FALSE | 2020-04-23 | CRAN (R 4.1.2) | NA | /home/jbenja13/R/x86_64-pc-linux-gnu-library/4.1 |\n",
       "\n",
       "\n",
       "$hash\n",
       ":   $emoji\n",
       ":   1. '🌹'\n",
       "2. '🙇🏼'\n",
       "3. '🦇'\n",
       "\n",
       "\n",
       "\n",
       "$emo_text\n",
       ":   1. 'rose'\n",
       "2. 'person bowing: medium-light skin tone'\n",
       "3. 'bat'\n",
       "\n",
       "\n",
       "\n",
       "\n",
       "\n",
       "\n",
       "\n",
       "\n"
      ],
      "text/plain": [
       "\u001b[1m\u001b[36m─ Session info  ──────────────────────────────────────────────────────────────────────────────────────────────────────\u001b[39m\u001b[22m\n",
       " hash: rose, person bowing: medium-light skin tone, bat\n",
       "\n",
       " \u001b[3m\u001b[90msetting \u001b[39m\u001b[23m \u001b[3m\u001b[90mvalue\u001b[39m\u001b[23m\n",
       " version  R version 4.1.2 (2021-11-01)\n",
       " os       Arch Linux\n",
       " system   x86_64, linux-gnu\n",
       " ui       X11\n",
       " language (EN)\n",
       " collate  en_US.UTF-8\n",
       " ctype    en_US.UTF-8\n",
       " tz       America/New_York\n",
       " date     2021-11-24\n",
       " pandoc   2.14.1 @ /usr/bin/pandoc\n",
       "\n",
       "\u001b[1m\u001b[36m─ Packages ───────────────────────────────────────────────────────────────────────────────────────────────────────────\u001b[39m\u001b[22m\n",
       " \u001b[3m\u001b[90mpackage    \u001b[39m\u001b[23m \u001b[3m\u001b[90m*\u001b[39m\u001b[23m \u001b[3m\u001b[90mversion\u001b[39m\u001b[23m \u001b[3m\u001b[90mdate (UTC)\u001b[39m\u001b[23m \u001b[3m\u001b[90mlib\u001b[39m\u001b[23m \u001b[3m\u001b[90msource\u001b[39m\u001b[23m\n",
       " abind         1.4-5   \u001b[90m2016-07-21\u001b[39m \u001b[90m[1]\u001b[39m \u001b[90mCRAN (R 4.1.2)\u001b[39m\n",
       " assertthat    0.2.1   \u001b[90m2019-03-21\u001b[39m \u001b[90m[1]\u001b[39m \u001b[90mCRAN (R 4.1.2)\u001b[39m\n",
       " backports     1.4.0   \u001b[90m2021-11-23\u001b[39m \u001b[90m[1]\u001b[39m \u001b[90mCRAN (R 4.1.2)\u001b[39m\n",
       " base64enc     0.1-3   \u001b[90m2015-07-28\u001b[39m \u001b[90m[1]\u001b[39m \u001b[90mCRAN (R 4.1.2)\u001b[39m\n",
       " broom         0.7.10  \u001b[90m2021-10-31\u001b[39m \u001b[90m[1]\u001b[39m \u001b[90mCRAN (R 4.1.2)\u001b[39m\n",
       " car           3.0-12  \u001b[90m2021-11-06\u001b[39m \u001b[90m[1]\u001b[39m \u001b[90mCRAN (R 4.1.2)\u001b[39m\n",
       " carData       3.0-4   \u001b[90m2020-05-22\u001b[39m \u001b[90m[1]\u001b[39m \u001b[90mCRAN (R 4.1.2)\u001b[39m\n",
       " cellranger    1.1.0   \u001b[90m2016-07-27\u001b[39m \u001b[90m[1]\u001b[39m \u001b[90mCRAN (R 4.1.2)\u001b[39m\n",
       " cli           3.1.0   \u001b[90m2021-10-27\u001b[39m \u001b[90m[1]\u001b[39m \u001b[90mCRAN (R 4.1.2)\u001b[39m\n",
       " colorspace    2.0-2   \u001b[90m2021-06-24\u001b[39m \u001b[90m[1]\u001b[39m \u001b[90mCRAN (R 4.1.2)\u001b[39m\n",
       " crayon        1.4.2   \u001b[90m2021-10-29\u001b[39m \u001b[90m[1]\u001b[39m \u001b[90mCRAN (R 4.1.2)\u001b[39m\n",
       " data.table    1.14.2  \u001b[90m2021-09-27\u001b[39m \u001b[90m[1]\u001b[39m \u001b[90mCRAN (R 4.1.2)\u001b[39m\n",
       " DBI           1.1.1   \u001b[90m2021-01-15\u001b[39m \u001b[90m[1]\u001b[39m \u001b[90mCRAN (R 4.1.2)\u001b[39m\n",
       " dbplyr        2.1.1   \u001b[90m2021-04-06\u001b[39m \u001b[90m[1]\u001b[39m \u001b[90mCRAN (R 4.1.2)\u001b[39m\n",
       " digest        0.6.28  \u001b[90m2021-09-23\u001b[39m \u001b[90m[1]\u001b[39m \u001b[90mCRAN (R 4.1.2)\u001b[39m\n",
       " dplyr       * 1.0.7   \u001b[90m2021-06-18\u001b[39m \u001b[90m[1]\u001b[39m \u001b[90mCRAN (R 4.1.2)\u001b[39m\n",
       " ellipsis      0.3.2   \u001b[90m2021-04-29\u001b[39m \u001b[90m[1]\u001b[39m \u001b[90mCRAN (R 4.1.2)\u001b[39m\n",
       " evaluate      0.14    \u001b[90m2019-05-28\u001b[39m \u001b[90m[1]\u001b[39m \u001b[90mCRAN (R 4.1.2)\u001b[39m\n",
       " fansi         0.5.0   \u001b[90m2021-05-25\u001b[39m \u001b[90m[1]\u001b[39m \u001b[90mCRAN (R 4.1.2)\u001b[39m\n",
       " farver        2.1.0   \u001b[90m2021-02-28\u001b[39m \u001b[90m[1]\u001b[39m \u001b[90mCRAN (R 4.1.2)\u001b[39m\n",
       " fastmap       1.1.0   \u001b[90m2021-01-25\u001b[39m \u001b[90m[1]\u001b[39m \u001b[90mCRAN (R 4.1.2)\u001b[39m\n",
       " forcats     * 0.5.1   \u001b[90m2021-01-27\u001b[39m \u001b[90m[1]\u001b[39m \u001b[90mCRAN (R 4.1.2)\u001b[39m\n",
       " fs            1.5.0   \u001b[90m2020-07-31\u001b[39m \u001b[90m[1]\u001b[39m \u001b[90mCRAN (R 4.1.2)\u001b[39m\n",
       " generics      0.1.1   \u001b[90m2021-10-25\u001b[39m \u001b[90m[1]\u001b[39m \u001b[90mCRAN (R 4.1.2)\u001b[39m\n",
       " ggplot2     * 3.3.5   \u001b[90m2021-06-25\u001b[39m \u001b[90m[1]\u001b[39m \u001b[90mCRAN (R 4.1.2)\u001b[39m\n",
       " ggpubr      * 0.4.0   \u001b[90m2020-06-27\u001b[39m \u001b[90m[1]\u001b[39m \u001b[90mCRAN (R 4.1.2)\u001b[39m\n",
       " ggsci         2.9     \u001b[90m2018-05-14\u001b[39m \u001b[90m[1]\u001b[39m \u001b[90mCRAN (R 4.1.2)\u001b[39m\n",
       " ggsignif      0.6.3   \u001b[90m2021-09-09\u001b[39m \u001b[90m[1]\u001b[39m \u001b[90mCRAN (R 4.1.2)\u001b[39m\n",
       " glue          1.5.0   \u001b[90m2021-11-07\u001b[39m \u001b[90m[1]\u001b[39m \u001b[90mCRAN (R 4.1.2)\u001b[39m\n",
       " gtable        0.3.0   \u001b[90m2019-03-25\u001b[39m \u001b[90m[1]\u001b[39m \u001b[90mCRAN (R 4.1.2)\u001b[39m\n",
       " haven         2.4.3   \u001b[90m2021-08-04\u001b[39m \u001b[90m[1]\u001b[39m \u001b[90mCRAN (R 4.1.2)\u001b[39m\n",
       " hms           1.1.1   \u001b[90m2021-09-26\u001b[39m \u001b[90m[1]\u001b[39m \u001b[90mCRAN (R 4.1.2)\u001b[39m\n",
       " htmltools     0.5.2   \u001b[90m2021-08-25\u001b[39m \u001b[90m[1]\u001b[39m \u001b[90mCRAN (R 4.1.2)\u001b[39m\n",
       " httr          1.4.2   \u001b[90m2020-07-20\u001b[39m \u001b[90m[1]\u001b[39m \u001b[90mCRAN (R 4.1.2)\u001b[39m\n",
       " IRdisplay     1.0     \u001b[90m2021-01-20\u001b[39m \u001b[90m[1]\u001b[39m \u001b[90mCRAN (R 4.1.2)\u001b[39m\n",
       " IRkernel      1.2     \u001b[90m2021-05-11\u001b[39m \u001b[90m[1]\u001b[39m \u001b[90mCRAN (R 4.1.2)\u001b[39m\n",
       " jsonlite      1.7.2   \u001b[90m2020-12-09\u001b[39m \u001b[90m[1]\u001b[39m \u001b[90mCRAN (R 4.1.2)\u001b[39m\n",
       " labeling      0.4.2   \u001b[90m2020-10-20\u001b[39m \u001b[90m[1]\u001b[39m \u001b[90mCRAN (R 4.1.2)\u001b[39m\n",
       " lifecycle     1.0.1   \u001b[90m2021-09-24\u001b[39m \u001b[90m[1]\u001b[39m \u001b[90mCRAN (R 4.1.2)\u001b[39m\n",
       " lubridate     1.8.0   \u001b[90m2021-10-07\u001b[39m \u001b[90m[1]\u001b[39m \u001b[90mCRAN (R 4.1.2)\u001b[39m\n",
       " magrittr      2.0.1   \u001b[90m2020-11-17\u001b[39m \u001b[90m[1]\u001b[39m \u001b[90mCRAN (R 4.1.2)\u001b[39m\n",
       " modelr        0.1.8   \u001b[90m2020-05-19\u001b[39m \u001b[90m[1]\u001b[39m \u001b[90mCRAN (R 4.1.2)\u001b[39m\n",
       " munsell       0.5.0   \u001b[90m2018-06-12\u001b[39m \u001b[90m[1]\u001b[39m \u001b[90mCRAN (R 4.1.2)\u001b[39m\n",
       " pbdZMQ        0.3-6   \u001b[90m2021-10-29\u001b[39m \u001b[90m[1]\u001b[39m \u001b[90mCRAN (R 4.1.2)\u001b[39m\n",
       " pillar        1.6.4   \u001b[90m2021-10-18\u001b[39m \u001b[90m[1]\u001b[39m \u001b[90mCRAN (R 4.1.2)\u001b[39m\n",
       " pkgconfig     2.0.3   \u001b[90m2019-09-22\u001b[39m \u001b[90m[1]\u001b[39m \u001b[90mCRAN (R 4.1.2)\u001b[39m\n",
       " purrr       * 0.3.4   \u001b[90m2020-04-17\u001b[39m \u001b[90m[1]\u001b[39m \u001b[90mCRAN (R 4.1.2)\u001b[39m\n",
       " R6            2.5.1   \u001b[90m2021-08-19\u001b[39m \u001b[90m[1]\u001b[39m \u001b[90mCRAN (R 4.1.2)\u001b[39m\n",
       " Rcpp          1.0.7   \u001b[90m2021-07-07\u001b[39m \u001b[90m[1]\u001b[39m \u001b[90mCRAN (R 4.1.2)\u001b[39m\n",
       " readr       * 2.1.0   \u001b[90m2021-11-11\u001b[39m \u001b[90m[1]\u001b[39m \u001b[90mCRAN (R 4.1.2)\u001b[39m\n",
       " readxl        1.3.1   \u001b[90m2019-03-13\u001b[39m \u001b[90m[1]\u001b[39m \u001b[90mCRAN (R 4.1.2)\u001b[39m\n",
       " repr          1.1.3   \u001b[90m2021-01-21\u001b[39m \u001b[90m[1]\u001b[39m \u001b[90mCRAN (R 4.1.2)\u001b[39m\n",
       " reprex        2.0.1   \u001b[90m2021-08-05\u001b[39m \u001b[90m[1]\u001b[39m \u001b[90mCRAN (R 4.1.2)\u001b[39m\n",
       " rlang         0.4.12  \u001b[90m2021-10-18\u001b[39m \u001b[90m[1]\u001b[39m \u001b[90mCRAN (R 4.1.2)\u001b[39m\n",
       " rstatix       0.7.0   \u001b[90m2021-02-13\u001b[39m \u001b[90m[1]\u001b[39m \u001b[90mCRAN (R 4.1.2)\u001b[39m\n",
       " rstudioapi    0.13    \u001b[90m2020-11-12\u001b[39m \u001b[90m[1]\u001b[39m \u001b[90mCRAN (R 4.1.2)\u001b[39m\n",
       " rvest         1.0.2   \u001b[90m2021-10-16\u001b[39m \u001b[90m[1]\u001b[39m \u001b[90mCRAN (R 4.1.2)\u001b[39m\n",
       " scales        1.1.1   \u001b[90m2020-05-11\u001b[39m \u001b[90m[1]\u001b[39m \u001b[90mCRAN (R 4.1.2)\u001b[39m\n",
       " sessioninfo   1.2.1   \u001b[90m2021-11-02\u001b[39m \u001b[90m[1]\u001b[39m \u001b[90mCRAN (R 4.1.2)\u001b[39m\n",
       " stringi       1.7.5   \u001b[90m2021-10-04\u001b[39m \u001b[90m[1]\u001b[39m \u001b[90mCRAN (R 4.1.2)\u001b[39m\n",
       " stringr     * 1.4.0   \u001b[90m2019-02-10\u001b[39m \u001b[90m[1]\u001b[39m \u001b[90mCRAN (R 4.1.2)\u001b[39m\n",
       " svglite       2.0.0   \u001b[90m2021-02-20\u001b[39m \u001b[90m[1]\u001b[39m \u001b[90mCRAN (R 4.1.2)\u001b[39m\n",
       " systemfonts   1.0.3   \u001b[90m2021-10-13\u001b[39m \u001b[90m[1]\u001b[39m \u001b[90mCRAN (R 4.1.2)\u001b[39m\n",
       " tibble      * 3.1.6   \u001b[90m2021-11-07\u001b[39m \u001b[90m[1]\u001b[39m \u001b[90mCRAN (R 4.1.2)\u001b[39m\n",
       " tidyr       * 1.1.4   \u001b[90m2021-09-27\u001b[39m \u001b[90m[1]\u001b[39m \u001b[90mCRAN (R 4.1.2)\u001b[39m\n",
       " tidyselect    1.1.1   \u001b[90m2021-04-30\u001b[39m \u001b[90m[1]\u001b[39m \u001b[90mCRAN (R 4.1.2)\u001b[39m\n",
       " tidyverse   * 1.3.1   \u001b[90m2021-04-15\u001b[39m \u001b[90m[1]\u001b[39m \u001b[90mCRAN (R 4.1.2)\u001b[39m\n",
       " tzdb          0.2.0   \u001b[90m2021-10-27\u001b[39m \u001b[90m[1]\u001b[39m \u001b[90mCRAN (R 4.1.2)\u001b[39m\n",
       " utf8          1.2.2   \u001b[90m2021-07-24\u001b[39m \u001b[90m[1]\u001b[39m \u001b[90mCRAN (R 4.1.2)\u001b[39m\n",
       " uuid          1.0-3   \u001b[90m2021-11-01\u001b[39m \u001b[90m[1]\u001b[39m \u001b[90mCRAN (R 4.1.2)\u001b[39m\n",
       " vctrs         0.3.8   \u001b[90m2021-04-29\u001b[39m \u001b[90m[1]\u001b[39m \u001b[90mCRAN (R 4.1.2)\u001b[39m\n",
       " withr         2.4.2   \u001b[90m2021-04-18\u001b[39m \u001b[90m[1]\u001b[39m \u001b[90mCRAN (R 4.1.2)\u001b[39m\n",
       " xml2          1.3.2   \u001b[90m2020-04-23\u001b[39m \u001b[90m[1]\u001b[39m \u001b[90mCRAN (R 4.1.2)\u001b[39m\n",
       "\n",
       "\u001b[90m [1] /home/jbenja13/R/x86_64-pc-linux-gnu-library/4.1\u001b[39m\n",
       "\u001b[90m [2] /usr/lib/R/library\u001b[39m\n",
       "\n",
       "\u001b[1m\u001b[36m──────────────────────────────────────────────────────────────────────────────────────────────────────────────────────\u001b[39m\u001b[22m"
      ]
     },
     "metadata": {},
     "output_type": "display_data"
    }
   ],
   "source": [
    "Sys.time()\n",
    "proc.time()\n",
    "options(width = 120)\n",
    "sessioninfo::session_info()"
   ]
  }
 ],
 "metadata": {
  "kernelspec": {
   "display_name": "R",
   "language": "R",
   "name": "ir"
  },
  "language_info": {
   "codemirror_mode": "r",
   "file_extension": ".r",
   "mimetype": "text/x-r-source",
   "name": "R",
   "pygments_lexer": "r",
   "version": "4.1.2"
  }
 },
 "nbformat": 4,
 "nbformat_minor": 4
}
