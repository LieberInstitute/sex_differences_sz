{
 "cells": [
  {
   "cell_type": "markdown",
   "metadata": {},
   "source": [
    "# Boxplots for permutations analysis (male downsampling to female level)"
   ]
  },
  {
   "cell_type": "code",
   "execution_count": 1,
   "metadata": {
    "execution": {
     "iopub.execute_input": "2021-08-12T23:05:30.257332Z",
     "iopub.status.busy": "2021-08-12T23:05:30.255847Z",
     "iopub.status.idle": "2021-08-12T23:05:32.202116Z",
     "shell.execute_reply": "2021-08-12T23:05:32.200471Z"
    }
   },
   "outputs": [
    {
     "name": "stderr",
     "output_type": "stream",
     "text": [
      "── \u001b[1mAttaching packages\u001b[22m ─────────────────────────────────────── tidyverse 1.3.1 ──\n",
      "\n",
      "\u001b[32m✔\u001b[39m \u001b[34mggplot2\u001b[39m 3.3.5     \u001b[32m✔\u001b[39m \u001b[34mpurrr  \u001b[39m 0.3.4\n",
      "\u001b[32m✔\u001b[39m \u001b[34mtibble \u001b[39m 3.1.2     \u001b[32m✔\u001b[39m \u001b[34mdplyr  \u001b[39m 1.0.7\n",
      "\u001b[32m✔\u001b[39m \u001b[34mtidyr  \u001b[39m 1.1.3     \u001b[32m✔\u001b[39m \u001b[34mstringr\u001b[39m 1.4.0\n",
      "\u001b[32m✔\u001b[39m \u001b[34mreadr  \u001b[39m 1.4.0     \u001b[32m✔\u001b[39m \u001b[34mforcats\u001b[39m 0.5.1\n",
      "\n",
      "── \u001b[1mConflicts\u001b[22m ────────────────────────────────────────── tidyverse_conflicts() ──\n",
      "\u001b[31m✖\u001b[39m \u001b[34mdplyr\u001b[39m::\u001b[32mfilter()\u001b[39m masks \u001b[34mstats\u001b[39m::filter()\n",
      "\u001b[31m✖\u001b[39m \u001b[34mdplyr\u001b[39m::\u001b[32mlag()\u001b[39m    masks \u001b[34mstats\u001b[39m::lag()\n",
      "\n"
     ]
    }
   ],
   "source": [
    "library(tidyverse)\n",
    "library(ggpubr)"
   ]
  },
  {
   "cell_type": "markdown",
   "metadata": {},
   "source": [
    "## Function and configuration"
   ]
  },
  {
   "cell_type": "code",
   "execution_count": 2,
   "metadata": {
    "execution": {
     "iopub.execute_input": "2021-08-12T23:05:32.239879Z",
     "iopub.status.busy": "2021-08-12T23:05:32.206921Z",
     "iopub.status.idle": "2021-08-12T23:05:32.252179Z",
     "shell.execute_reply": "2021-08-12T23:05:32.250887Z"
    }
   },
   "outputs": [],
   "source": [
    "save_ggplots <- function(p, fn, w=6, h=6){\n",
    "    for(ext in c('.svg', '.png', '.pdf')){\n",
    "        ggsave(p, filename=paste0(fn, ext), width=w, height=h)\n",
    "    }\n",
    "}"
   ]
  },
  {
   "cell_type": "code",
   "execution_count": 3,
   "metadata": {
    "execution": {
     "iopub.execute_input": "2021-08-12T23:05:32.258386Z",
     "iopub.status.busy": "2021-08-12T23:05:32.256519Z",
     "iopub.status.idle": "2021-08-12T23:05:32.269534Z",
     "shell.execute_reply": "2021-08-12T23:05:32.268348Z"
    }
   },
   "outputs": [],
   "source": [
    "config = list(\n",
    "    \"Caudate\"=\"../../../caudate/subsampling_male/deg_summary/_m/permutations.csv\", \n",
    "    \"DLPFC\"=\"../../../dlpfc/subsampling_male/deg_summary/_m/permutations.csv\", \n",
    "    \"Hippocampus\"=\"../../../hippocampus/subsampling_male/deg_summary/_m/permutations.csv\"\n",
    ")"
   ]
  },
  {
   "cell_type": "markdown",
   "metadata": {},
   "source": [
    "## Merge dataframes"
   ]
  },
  {
   "cell_type": "code",
   "execution_count": 4,
   "metadata": {
    "execution": {
     "iopub.execute_input": "2021-08-12T23:05:32.275794Z",
     "iopub.status.busy": "2021-08-12T23:05:32.273972Z",
     "iopub.status.idle": "2021-08-12T23:05:32.367652Z",
     "shell.execute_reply": "2021-08-12T23:05:32.366162Z"
    }
   },
   "outputs": [
    {
     "data": {
      "text/html": [
       "<table class=\"dataframe\">\n",
       "<caption>A data.table: 6 × 7</caption>\n",
       "<thead>\n",
       "\t<tr><th scope=col>Symbol</th><th scope=col>gencodeID</th><th scope=col>logFC</th><th scope=col>t</th><th scope=col>adj.P.Val</th><th scope=col>Permutation</th><th scope=col>tissue</th></tr>\n",
       "\t<tr><th scope=col>&lt;chr&gt;</th><th scope=col>&lt;chr&gt;</th><th scope=col>&lt;dbl&gt;</th><th scope=col>&lt;dbl&gt;</th><th scope=col>&lt;dbl&gt;</th><th scope=col>&lt;int&gt;</th><th scope=col>&lt;chr&gt;</th></tr>\n",
       "</thead>\n",
       "<tbody>\n",
       "\t<tr><td>GDNF-AS1</td><td>ENSG00000248587.7 </td><td> 1.0159219</td><td> 8.553727</td><td>1.566672e-09</td><td>2</td><td>Caudate</td></tr>\n",
       "\t<tr><td>GDNF    </td><td>ENSG00000168621.14</td><td> 0.8188297</td><td> 6.045744</td><td>1.541499e-04</td><td>2</td><td>Caudate</td></tr>\n",
       "\t<tr><td>NSUN5P2 </td><td>ENSG00000106133.17</td><td>-0.3648580</td><td>-6.031454</td><td>1.541499e-04</td><td>2</td><td>Caudate</td></tr>\n",
       "\t<tr><td>KCNH5   </td><td>ENSG00000140015.19</td><td> 0.5558007</td><td> 5.980020</td><td>1.541499e-04</td><td>2</td><td>Caudate</td></tr>\n",
       "\t<tr><td>PAPPA   </td><td>ENSG00000182752.9 </td><td> 0.7535862</td><td> 5.862024</td><td>2.130430e-04</td><td>2</td><td>Caudate</td></tr>\n",
       "\t<tr><td>RMDN2   </td><td>ENSG00000115841.19</td><td>-0.3193313</td><td>-5.796196</td><td>2.403024e-04</td><td>2</td><td>Caudate</td></tr>\n",
       "</tbody>\n",
       "</table>\n"
      ],
      "text/latex": [
       "A data.table: 6 × 7\n",
       "\\begin{tabular}{lllllll}\n",
       " Symbol & gencodeID & logFC & t & adj.P.Val & Permutation & tissue\\\\\n",
       " <chr> & <chr> & <dbl> & <dbl> & <dbl> & <int> & <chr>\\\\\n",
       "\\hline\n",
       "\t GDNF-AS1 & ENSG00000248587.7  &  1.0159219 &  8.553727 & 1.566672e-09 & 2 & Caudate\\\\\n",
       "\t GDNF     & ENSG00000168621.14 &  0.8188297 &  6.045744 & 1.541499e-04 & 2 & Caudate\\\\\n",
       "\t NSUN5P2  & ENSG00000106133.17 & -0.3648580 & -6.031454 & 1.541499e-04 & 2 & Caudate\\\\\n",
       "\t KCNH5    & ENSG00000140015.19 &  0.5558007 &  5.980020 & 1.541499e-04 & 2 & Caudate\\\\\n",
       "\t PAPPA    & ENSG00000182752.9  &  0.7535862 &  5.862024 & 2.130430e-04 & 2 & Caudate\\\\\n",
       "\t RMDN2    & ENSG00000115841.19 & -0.3193313 & -5.796196 & 2.403024e-04 & 2 & Caudate\\\\\n",
       "\\end{tabular}\n"
      ],
      "text/markdown": [
       "\n",
       "A data.table: 6 × 7\n",
       "\n",
       "| Symbol &lt;chr&gt; | gencodeID &lt;chr&gt; | logFC &lt;dbl&gt; | t &lt;dbl&gt; | adj.P.Val &lt;dbl&gt; | Permutation &lt;int&gt; | tissue &lt;chr&gt; |\n",
       "|---|---|---|---|---|---|---|\n",
       "| GDNF-AS1 | ENSG00000248587.7  |  1.0159219 |  8.553727 | 1.566672e-09 | 2 | Caudate |\n",
       "| GDNF     | ENSG00000168621.14 |  0.8188297 |  6.045744 | 1.541499e-04 | 2 | Caudate |\n",
       "| NSUN5P2  | ENSG00000106133.17 | -0.3648580 | -6.031454 | 1.541499e-04 | 2 | Caudate |\n",
       "| KCNH5    | ENSG00000140015.19 |  0.5558007 |  5.980020 | 1.541499e-04 | 2 | Caudate |\n",
       "| PAPPA    | ENSG00000182752.9  |  0.7535862 |  5.862024 | 2.130430e-04 | 2 | Caudate |\n",
       "| RMDN2    | ENSG00000115841.19 | -0.3193313 | -5.796196 | 2.403024e-04 | 2 | Caudate |\n",
       "\n"
      ],
      "text/plain": [
       "  Symbol   gencodeID          logFC      t         adj.P.Val    Permutation\n",
       "1 GDNF-AS1 ENSG00000248587.7   1.0159219  8.553727 1.566672e-09 2          \n",
       "2 GDNF     ENSG00000168621.14  0.8188297  6.045744 1.541499e-04 2          \n",
       "3 NSUN5P2  ENSG00000106133.17 -0.3648580 -6.031454 1.541499e-04 2          \n",
       "4 KCNH5    ENSG00000140015.19  0.5558007  5.980020 1.541499e-04 2          \n",
       "5 PAPPA    ENSG00000182752.9   0.7535862  5.862024 2.130430e-04 2          \n",
       "6 RMDN2    ENSG00000115841.19 -0.3193313 -5.796196 2.403024e-04 2          \n",
       "  tissue \n",
       "1 Caudate\n",
       "2 Caudate\n",
       "3 Caudate\n",
       "4 Caudate\n",
       "5 Caudate\n",
       "6 Caudate"
      ]
     },
     "metadata": {},
     "output_type": "display_data"
    }
   ],
   "source": [
    "datalist = list()\n",
    "for(tissue in c(\"Caudate\", \"DLPFC\", \"Hippocampus\")){\n",
    "    df = data.table::fread(config[[tissue]])\n",
    "    df$tissue <- tissue  # maybe you want to keep track of which iteration produced it?\n",
    "    datalist[[tissue]] <- df\n",
    "}\n",
    "big_df <- bind_rows(datalist) %>% \n",
    "    select(Symbol, gencodeID, logFC, t, adj.P.Val, Permutation, tissue)\n",
    "big_df %>% head()"
   ]
  },
  {
   "cell_type": "code",
   "execution_count": 5,
   "metadata": {
    "execution": {
     "iopub.execute_input": "2021-08-12T23:05:32.373941Z",
     "iopub.status.busy": "2021-08-12T23:05:32.372166Z",
     "iopub.status.idle": "2021-08-12T23:05:33.629207Z",
     "shell.execute_reply": "2021-08-12T23:05:33.627435Z"
    }
   },
   "outputs": [
    {
     "name": "stderr",
     "output_type": "stream",
     "text": [
      "`summarise()` has grouped output by 'Permutation'. You can override using the `.groups` argument.\n",
      "\n"
     ]
    },
    {
     "data": {
      "image/png": "[encoded data removed]",
      "text/plain": [
       "plot without title"
      ]
     },
     "metadata": {
      "image/png": {
       "height": 420,
       "width": 420
      }
     },
     "output_type": "display_data"
    }
   ],
   "source": [
    "bxp = big_df %>% group_by(Permutation, tissue) %>% summarize(Size = n()) %>%\n",
    "    as.data.frame %>% pivot_wider(names_from = tissue, values_from = Size) %>%\n",
    "    replace_na(list(DLPFC = 0, Hippocampus = 0)) %>% \n",
    "    pivot_longer(-Permutation, names_to=\"Tissue\", values_to=\"DEGs\") %>%\n",
    "    mutate_if(is.character, as.factor) %>%\n",
    "    ggboxplot(x=\"Tissue\", y=\"DEGs\", fill=\"Tissue\", add=\"jitter\", \n",
    "              xlab='', palette=\"npg\", ylab=\"Number of DEGs\", \n",
    "              add.params=list(alpha=0.6), outlier.shape=NA,\n",
    "              panel.labs.font=list(face='bold'), legend=\"\", \n",
    "              ggtheme=theme_pubr(base_size=20))+ \n",
    "        font(\"xy.title\", face=\"bold\")\n",
    "save_ggplots(bxp, \"permutation_boxplots_3regions\", 6, 5)\n",
    "bxp"
   ]
  },
  {
   "cell_type": "code",
   "execution_count": 6,
   "metadata": {
    "execution": {
     "iopub.execute_input": "2021-08-12T23:05:33.637594Z",
     "iopub.status.busy": "2021-08-12T23:05:33.635433Z",
     "iopub.status.idle": "2021-08-12T23:05:34.577212Z",
     "shell.execute_reply": "2021-08-12T23:05:34.575750Z"
    }
   },
   "outputs": [
    {
     "name": "stderr",
     "output_type": "stream",
     "text": [
      "`summarise()` has grouped output by 'Permutation'. You can override using the `.groups` argument.\n",
      "\n"
     ]
    },
    {
     "data": {
      "image/png": "[encoded data removed]",
      "text/plain": [
       "plot without title"
      ]
     },
     "metadata": {
      "image/png": {
       "height": 420,
       "width": 420
      }
     },
     "output_type": "display_data"
    }
   ],
   "source": [
    "bxp = big_df %>% filter(tissue != \"Caudate\") %>%\n",
    "    group_by(Permutation, tissue) %>% summarize(Size = n()) %>%\n",
    "    as.data.frame %>% pivot_wider(names_from = tissue, values_from = Size) %>%\n",
    "    replace_na(list(DLPFC = 0, Hippocampus = 0)) %>% \n",
    "    pivot_longer(-Permutation, names_to=\"Tissue\", values_to=\"DEGs\") %>%\n",
    "    mutate_if(is.character, as.factor) %>%\n",
    "    ggboxplot(x=\"Tissue\", y=\"DEGs\", fill=\"Tissue\", add=\"jitter\", \n",
    "              xlab='', palette=get_palette(\"npg\", 3)[2:3], ylab=\"Number of DEGs\", \n",
    "              add.params=list(alpha=0.6), outlier.shape=NA,\n",
    "              panel.labs.font=list(face='bold', size = 18), \n",
    "              legend=\"\", ylim=c(0, 500))+ \n",
    "        font(\"xy.title\", size=18, face=\"bold\") + \n",
    "        font(\"xy.text\", size=16)\n",
    "save_ggplots(bxp, \"permutation_boxplots_2regions\", 6, 5)\n",
    "bxp"
   ]
  },
  {
   "cell_type": "code",
   "execution_count": 7,
   "metadata": {
    "execution": {
     "iopub.execute_input": "2021-08-12T23:05:34.583921Z",
     "iopub.status.busy": "2021-08-12T23:05:34.582573Z",
     "iopub.status.idle": "2021-08-12T23:05:34.647079Z",
     "shell.execute_reply": "2021-08-12T23:05:34.645718Z"
    }
   },
   "outputs": [
    {
     "name": "stderr",
     "output_type": "stream",
     "text": [
      "`summarise()` has grouped output by 'Permutation'. You can override using the `.groups` argument.\n",
      "\n"
     ]
    },
    {
     "data": {
      "text/html": [
       "<table class=\"dataframe\">\n",
       "<caption>A tibble: 3 × 4</caption>\n",
       "<thead>\n",
       "\t<tr><th scope=col>Tissue</th><th scope=col>Mean</th><th scope=col>Median</th><th scope=col>Std</th></tr>\n",
       "\t<tr><th scope=col>&lt;fct&gt;</th><th scope=col>&lt;dbl&gt;</th><th scope=col>&lt;dbl&gt;</th><th scope=col>&lt;dbl&gt;</th></tr>\n",
       "</thead>\n",
       "<tbody>\n",
       "\t<tr><td>Caudate    </td><td>308.8</td><td>147.0</td><td>496.27094</td></tr>\n",
       "\t<tr><td>DLPFC      </td><td> 49.0</td><td>  2.0</td><td>107.99177</td></tr>\n",
       "\t<tr><td>Hippocampus</td><td> 13.1</td><td>  0.5</td><td> 30.18995</td></tr>\n",
       "</tbody>\n",
       "</table>\n"
      ],
      "text/latex": [
       "A tibble: 3 × 4\n",
       "\\begin{tabular}{llll}\n",
       " Tissue & Mean & Median & Std\\\\\n",
       " <fct> & <dbl> & <dbl> & <dbl>\\\\\n",
       "\\hline\n",
       "\t Caudate     & 308.8 & 147.0 & 496.27094\\\\\n",
       "\t DLPFC       &  49.0 &   2.0 & 107.99177\\\\\n",
       "\t Hippocampus &  13.1 &   0.5 &  30.18995\\\\\n",
       "\\end{tabular}\n"
      ],
      "text/markdown": [
       "\n",
       "A tibble: 3 × 4\n",
       "\n",
       "| Tissue &lt;fct&gt; | Mean &lt;dbl&gt; | Median &lt;dbl&gt; | Std &lt;dbl&gt; |\n",
       "|---|---|---|---|\n",
       "| Caudate     | 308.8 | 147.0 | 496.27094 |\n",
       "| DLPFC       |  49.0 |   2.0 | 107.99177 |\n",
       "| Hippocampus |  13.1 |   0.5 |  30.18995 |\n",
       "\n"
      ],
      "text/plain": [
       "  Tissue      Mean  Median Std      \n",
       "1 Caudate     308.8 147.0  496.27094\n",
       "2 DLPFC        49.0   2.0  107.99177\n",
       "3 Hippocampus  13.1   0.5   30.18995"
      ]
     },
     "metadata": {},
     "output_type": "display_data"
    }
   ],
   "source": [
    "big_df %>% group_by(Permutation, tissue) %>% summarize(Size = n()) %>%\n",
    "    as.data.frame %>% pivot_wider(names_from = tissue, values_from = Size) %>%\n",
    "    replace_na(list(DLPFC = 0, Hippocampus = 0)) %>% \n",
    "    pivot_longer(-Permutation, names_to=\"Tissue\", values_to=\"DEGs\") %>%\n",
    "    mutate_if(is.character, as.factor) %>% \n",
    "    group_by(Tissue) %>% summarize(Mean = mean(DEGs), Median = median(DEGs), Std = sd(DEGs))"
   ]
  },
  {
   "cell_type": "markdown",
   "metadata": {},
   "source": [
    "## Reproducibility Information"
   ]
  },
  {
   "cell_type": "code",
   "execution_count": 8,
   "metadata": {
    "execution": {
     "iopub.execute_input": "2021-08-12T23:05:34.654240Z",
     "iopub.status.busy": "2021-08-12T23:05:34.652662Z",
     "iopub.status.idle": "2021-08-12T23:05:34.837889Z",
     "shell.execute_reply": "2021-08-12T23:05:34.836583Z"
    }
   },
   "outputs": [
    {
     "data": {
      "text/plain": [
       "[1] \"2021-08-12 19:05:34 EDT\""
      ]
     },
     "metadata": {},
     "output_type": "display_data"
    },
    {
     "data": {
      "text/plain": [
       "   user  system elapsed \n",
       "  4.731   0.222   5.261 "
      ]
     },
     "metadata": {},
     "output_type": "display_data"
    },
    {
     "data": {
      "text/plain": [
       "─ Session info ───────────────────────────────────────────────────────────────────────────────────────────────────────\n",
       " setting  value                       \n",
       " version  R version 4.0.3 (2020-10-10)\n",
       " os       Arch Linux                  \n",
       " system   x86_64, linux-gnu           \n",
       " ui       X11                         \n",
       " language (EN)                        \n",
       " collate  en_US.UTF-8                 \n",
       " ctype    en_US.UTF-8                 \n",
       " tz       America/New_York            \n",
       " date     2021-08-12                  \n",
       "\n",
       "─ Packages ───────────────────────────────────────────────────────────────────────────────────────────────────────────\n",
       " package     * version  date       lib source        \n",
       " abind         1.4-5    2016-07-21 [1] CRAN (R 4.0.2)\n",
       " assertthat    0.2.1    2019-03-21 [1] CRAN (R 4.0.2)\n",
       " backports     1.2.1    2020-12-09 [1] CRAN (R 4.0.2)\n",
       " base64enc     0.1-3    2015-07-28 [1] CRAN (R 4.0.2)\n",
       " broom         0.7.8    2021-06-24 [1] CRAN (R 4.0.3)\n",
       " Cairo         1.5-12.2 2020-07-07 [1] CRAN (R 4.0.2)\n",
       " car           3.0-11   2021-06-27 [1] CRAN (R 4.0.3)\n",
       " carData       3.0-4    2020-05-22 [1] CRAN (R 4.0.2)\n",
       " cellranger    1.1.0    2016-07-27 [1] CRAN (R 4.0.2)\n",
       " cli           3.0.0    2021-06-30 [1] CRAN (R 4.0.3)\n",
       " colorspace    2.0-2    2021-06-24 [1] CRAN (R 4.0.3)\n",
       " crayon        1.4.1    2021-02-08 [1] CRAN (R 4.0.3)\n",
       " curl          4.3.2    2021-06-23 [1] CRAN (R 4.0.3)\n",
       " data.table    1.14.0   2021-02-21 [1] CRAN (R 4.0.3)\n",
       " DBI           1.1.1    2021-01-15 [1] CRAN (R 4.0.2)\n",
       " dbplyr        2.1.1    2021-04-06 [1] CRAN (R 4.0.3)\n",
       " digest        0.6.27   2020-10-24 [1] CRAN (R 4.0.2)\n",
       " dplyr       * 1.0.7    2021-06-18 [1] CRAN (R 4.0.3)\n",
       " ellipsis      0.3.2    2021-04-29 [1] CRAN (R 4.0.3)\n",
       " evaluate      0.14     2019-05-28 [1] CRAN (R 4.0.2)\n",
       " fansi         0.5.0    2021-05-25 [1] CRAN (R 4.0.3)\n",
       " farver        2.1.0    2021-02-28 [1] CRAN (R 4.0.3)\n",
       " forcats     * 0.5.1    2021-01-27 [1] CRAN (R 4.0.2)\n",
       " foreign       0.8-80   2020-05-24 [2] CRAN (R 4.0.3)\n",
       " fs            1.5.0    2020-07-31 [1] CRAN (R 4.0.2)\n",
       " generics      0.1.0    2020-10-31 [1] CRAN (R 4.0.2)\n",
       " ggplot2     * 3.3.5    2021-06-25 [1] CRAN (R 4.0.3)\n",
       " ggpubr      * 0.4.0    2020-06-27 [1] CRAN (R 4.0.2)\n",
       " ggsci         2.9      2018-05-14 [1] CRAN (R 4.0.2)\n",
       " ggsignif      0.6.2    2021-06-14 [1] CRAN (R 4.0.3)\n",
       " glue          1.4.2    2020-08-27 [1] CRAN (R 4.0.2)\n",
       " gtable        0.3.0    2019-03-25 [1] CRAN (R 4.0.2)\n",
       " haven         2.4.1    2021-04-23 [1] CRAN (R 4.0.3)\n",
       " hms           1.1.0    2021-05-17 [1] CRAN (R 4.0.3)\n",
       " htmltools     0.5.1.1  2021-01-22 [1] CRAN (R 4.0.2)\n",
       " httr          1.4.2    2020-07-20 [1] CRAN (R 4.0.2)\n",
       " IRdisplay     1.0      2021-01-20 [1] CRAN (R 4.0.2)\n",
       " IRkernel      1.2      2021-05-11 [1] CRAN (R 4.0.3)\n",
       " jsonlite      1.7.2    2020-12-09 [1] CRAN (R 4.0.2)\n",
       " labeling      0.4.2    2020-10-20 [1] CRAN (R 4.0.2)\n",
       " lifecycle     1.0.0    2021-02-15 [1] CRAN (R 4.0.3)\n",
       " lubridate     1.7.10   2021-02-26 [1] CRAN (R 4.0.3)\n",
       " magrittr      2.0.1    2020-11-17 [1] CRAN (R 4.0.2)\n",
       " modelr        0.1.8    2020-05-19 [1] CRAN (R 4.0.2)\n",
       " munsell       0.5.0    2018-06-12 [1] CRAN (R 4.0.2)\n",
       " openxlsx      4.2.4    2021-06-16 [1] CRAN (R 4.0.3)\n",
       " pbdZMQ        0.3-5    2021-02-10 [1] CRAN (R 4.0.3)\n",
       " pillar        1.6.1    2021-05-16 [1] CRAN (R 4.0.3)\n",
       " pkgconfig     2.0.3    2019-09-22 [1] CRAN (R 4.0.2)\n",
       " purrr       * 0.3.4    2020-04-17 [1] CRAN (R 4.0.2)\n",
       " R6            2.5.0    2020-10-28 [1] CRAN (R 4.0.2)\n",
       " Rcpp          1.0.7    2021-07-07 [1] CRAN (R 4.0.3)\n",
       " readr       * 1.4.0    2020-10-05 [1] CRAN (R 4.0.2)\n",
       " readxl        1.3.1    2019-03-13 [1] CRAN (R 4.0.2)\n",
       " repr          1.1.3    2021-01-21 [1] CRAN (R 4.0.2)\n",
       " reprex        2.0.0    2021-04-02 [1] CRAN (R 4.0.3)\n",
       " rio           0.5.27   2021-06-21 [1] CRAN (R 4.0.3)\n",
       " rlang         0.4.11   2021-04-30 [1] CRAN (R 4.0.3)\n",
       " rstatix       0.7.0    2021-02-13 [1] CRAN (R 4.0.3)\n",
       " rstudioapi    0.13     2020-11-12 [1] CRAN (R 4.0.2)\n",
       " rvest         1.0.0    2021-03-09 [1] CRAN (R 4.0.3)\n",
       " scales        1.1.1    2020-05-11 [1] CRAN (R 4.0.2)\n",
       " sessioninfo   1.1.1    2018-11-05 [1] CRAN (R 4.0.2)\n",
       " stringi       1.7.3    2021-07-16 [1] CRAN (R 4.0.3)\n",
       " stringr     * 1.4.0    2019-02-10 [1] CRAN (R 4.0.2)\n",
       " svglite       2.0.0    2021-02-20 [1] CRAN (R 4.0.3)\n",
       " systemfonts   1.0.2    2021-05-11 [1] CRAN (R 4.0.3)\n",
       " tibble      * 3.1.2    2021-05-16 [1] CRAN (R 4.0.3)\n",
       " tidyr       * 1.1.3    2021-03-03 [1] CRAN (R 4.0.3)\n",
       " tidyselect    1.1.1    2021-04-30 [1] CRAN (R 4.0.3)\n",
       " tidyverse   * 1.3.1    2021-04-15 [1] CRAN (R 4.0.3)\n",
       " utf8          1.2.1    2021-03-12 [1] CRAN (R 4.0.3)\n",
       " uuid          0.1-4    2020-02-26 [1] CRAN (R 4.0.2)\n",
       " vctrs         0.3.8    2021-04-29 [1] CRAN (R 4.0.3)\n",
       " withr         2.4.2    2021-04-18 [1] CRAN (R 4.0.3)\n",
       " xml2          1.3.2    2020-04-23 [1] CRAN (R 4.0.2)\n",
       " zip           2.2.0    2021-05-31 [1] CRAN (R 4.0.3)\n",
       "\n",
       "[1] /home/jbenja13/R/x86_64-pc-linux-gnu-library/4.0\n",
       "[2] /usr/lib/R/library"
      ]
     },
     "metadata": {},
     "output_type": "display_data"
    }
   ],
   "source": [
    "Sys.time()\n",
    "proc.time()\n",
    "options(width = 120)\n",
    "sessioninfo::session_info()"
   ]
  }
 ],
 "metadata": {
  "kernelspec": {
   "display_name": "R",
   "language": "R",
   "name": "ir"
  },
  "language_info": {
   "codemirror_mode": "r",
   "file_extension": ".r",
   "mimetype": "text/x-r-source",
   "name": "R",
   "pygments_lexer": "r",
   "version": "4.0.3"
  }
 },
 "nbformat": 4,
 "nbformat_minor": 4
}
