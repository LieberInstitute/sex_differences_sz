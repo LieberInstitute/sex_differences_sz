{
 "cells": [
  {
   "cell_type": "markdown",
   "metadata": {},
   "source": [
    "# Boxplots for permutations analysis (male downsampling to female level)"
   ]
  },
  {
   "cell_type": "code",
   "execution_count": null,
   "metadata": {},
   "outputs": [],
   "source": [
    "library(tidyverse)\n",
    "library(ggpubr)"
   ]
  },
  {
   "cell_type": "markdown",
   "metadata": {},
   "source": [
    "## Function and configuration"
   ]
  },
  {
   "cell_type": "code",
   "execution_count": null,
   "metadata": {},
   "outputs": [],
   "source": [
    "config = list(\n",
    "    \"Caudate\"=\"../../../caudate/subsampling_male/deg_summary/_m/permutations.csv\", \n",
    "    \"DLPFC\"=\"../../../dlpfc/subsampling_male/deg_summary/_m/permutations.csv\", \n",
    "    \"Hippocampus\"=\"../../../hippocampus/subsampling_male/deg_summary/_m/permutations.csv\"\n",
    ")"
   ]
  },
  {
   "cell_type": "code",
   "execution_count": null,
   "metadata": {},
   "outputs": [],
   "source": [
    "save_ggplots <- function(p, fn, w=6, h=6){\n",
    "    for(ext in c('.svg', '.png', '.pdf')){\n",
    "        ggsave(p, filename=paste0(fn, ext), width=w, height=h)\n",
    "    }\n",
    "}\n",
    "\n",
    "merge_data <- function(){\n",
    "    datalist = list()\n",
    "    for(tissue in c(\"Caudate\", \"DLPFC\", \"Hippocampus\")){\n",
    "        df = data.table::fread(config[[tissue]])\n",
    "        df$Tissue <- tissue  # maybe you want to keep track of which iteration produced it?\n",
    "        datalist[[tissue]] <- df\n",
    "    }\n",
    "    return(bind_rows(datalist) %>% \n",
    "           select(Symbol, gencodeID, logFC, t, adj.P.Val, Permutation, Tissue))\n",
    "}\n",
    "\n",
    "get_perm_data <- function(df, tissue){\n",
    "    return(df %>% group_by(Permutation, Tissue) %>% \n",
    "           summarize(Size = n()) %>% \n",
    "           replace_na(list(DLPFC = 0, Hippocampus = 0, Caudate = 0)) %>% \n",
    "           filter(`Tissue` == tissue))\n",
    "}\n",
    "\n",
    "get_female_degs <- function(tissue){\n",
    "    fn = paste0(\"../../../\", tolower(tissue), \n",
    "                \"/female_analysis/_m/genes/diffExpr_szVctl_full.txt\")\n",
    "    return(data.table::fread(fn) %>% filter(\"adj.P.Val\" < 0.05))\n",
    "}\n",
    "\n",
    "cal_zscore <- function(df, tissue){\n",
    "    x = dim(get_female_degs(tissue))[1]\n",
    "    mu = mean(get_perm_data(df, tissue)$Size)\n",
    "    sigma = sd(get_perm_data(df, tissue)$Size)\n",
    "    return((x - mu) / sigma)\n",
    "}"
   ]
  },
  {
   "cell_type": "markdown",
   "metadata": {},
   "source": [
    "## Merge dataframes"
   ]
  },
  {
   "cell_type": "code",
   "execution_count": null,
   "metadata": {},
   "outputs": [],
   "source": [
    "big_df <- merge_data()\n",
    "big_df %>% head()"
   ]
  },
  {
   "cell_type": "markdown",
   "metadata": {},
   "source": [
    "## Calculate significance"
   ]
  },
  {
   "cell_type": "code",
   "execution_count": null,
   "metadata": {
    "tags": []
   },
   "outputs": [],
   "source": [
    "z_scores = c(); two_tail = c(); tissues = c();\n",
    "for(tissue in c(\"Caudate\", \"DLPFC\", \"Hippocampus\")){\n",
    "    tissues = c(tissues, tissue)\n",
    "    ## Z-score\n",
    "    q = cal_zscore(big_df, tissue); z_scores = c(z_scores, q)\n",
    "    ## Convert to p-value\n",
    "    two_tail = c(two_tail, 2*pnorm(q, mean=0, sd=1, lower.tail=TRUE))\n",
    "}\n",
    "\n",
    "dt = data.frame(\"Tissue\"=tissues, \"Z_score\"=z_scores, \"P_Value\"=two_tail)\n",
    "dt"
   ]
  },
  {
   "cell_type": "code",
   "execution_count": null,
   "metadata": {},
   "outputs": [],
   "source": [
    "dt %>% data.table::fwrite(\"permutation_pvalues.tsv\", sep='\\t')"
   ]
  },
  {
   "cell_type": "markdown",
   "metadata": {},
   "source": [
    "## Plot figures"
   ]
  },
  {
   "cell_type": "code",
   "execution_count": null,
   "metadata": {},
   "outputs": [],
   "source": [
    "df = big_df %>% group_by(Permutation, Tissue) %>% summarize(Size = n()) %>%\n",
    "    as.data.frame %>% pivot_wider(names_from = Tissue, values_from = Size) %>%\n",
    "    replace_na(list(DLPFC = 0, Hippocampus = 0, Caudate = 0)) %>% \n",
    "    pivot_longer(-Permutation, names_to=\"Tissue\", values_to=\"DEGs\") %>%\n",
    "    mutate_if(is.character, as.factor)\n",
    "df %>% head()"
   ]
  },
  {
   "cell_type": "code",
   "execution_count": null,
   "metadata": {},
   "outputs": [],
   "source": [
    "hist = gghistogram(df, x=\"DEGs\", fill=\"lightgray\", bins=30, rug=TRUE, \n",
    "                   facet.by=\"Tissue\", ncol=1, ylab=\"Count in Permutation\",\n",
    "                   xlab=\"Number of SZ DEGs\\n(Subsampled Male Only)\",\n",
    "                   panel.labs.font=list(face='bold', size=18),\n",
    "                   ggtheme=theme_pubr(base_size=15, border=TRUE)) + \n",
    "        font(\"xy.title\", face=\"bold\", size=18)\n",
    "hist"
   ]
  },
  {
   "cell_type": "code",
   "execution_count": null,
   "metadata": {},
   "outputs": [],
   "source": [
    "save_ggplots(hist, \"permutation_histogram\", 6, 7)"
   ]
  },
  {
   "cell_type": "markdown",
   "metadata": {},
   "source": [
    "## Permutation DEGs Summary"
   ]
  },
  {
   "cell_type": "code",
   "execution_count": null,
   "metadata": {},
   "outputs": [],
   "source": [
    "big_df %>% group_by(Permutation, Tissue) %>% summarize(Size = n()) %>%\n",
    "    as.data.frame %>% pivot_wider(names_from = Tissue, values_from = Size) %>%\n",
    "    replace_na(list(DLPFC = 0, Hippocampus = 0, Caudate = 0)) %>% \n",
    "    pivot_longer(-Permutation, names_to=\"Tissue\", values_to=\"DEGs\") %>%\n",
    "    mutate_if(is.character, as.factor) %>% \n",
    "    group_by(Tissue) %>% summarize(Mean = mean(DEGs), Median = median(DEGs), Std = sd(DEGs))"
   ]
  },
  {
   "cell_type": "markdown",
   "metadata": {},
   "source": [
    "## Reproducibility Information"
   ]
  },
  {
   "cell_type": "code",
   "execution_count": null,
   "metadata": {},
   "outputs": [],
   "source": [
    "Sys.time()\n",
    "proc.time()\n",
    "options(width = 120)\n",
    "sessioninfo::session_info()"
   ]
  }
 ],
 "metadata": {
  "kernelspec": {
   "display_name": "R",
   "language": "R",
   "name": "ir"
  },
  "language_info": {
   "codemirror_mode": "r",
   "file_extension": ".r",
   "mimetype": "text/x-r-source",
   "name": "R",
   "pygments_lexer": "r",
   "version": "4.2.1"
  }
 },
 "nbformat": 4,
 "nbformat_minor": 4
}
