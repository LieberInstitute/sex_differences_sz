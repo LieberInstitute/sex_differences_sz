{
 "cells": [
  {
   "cell_type": "markdown",
   "metadata": {},
   "source": [
    "# Boxplots for permutations analysis (male downsampling to female level)"
   ]
  },
  {
   "cell_type": "code",
   "execution_count": null,
   "metadata": {},
   "outputs": [],
   "source": [
    "library(tidyverse)\n",
    "library(ggpubr)"
   ]
  },
  {
   "cell_type": "markdown",
   "metadata": {},
   "source": [
    "## Function and configuration"
   ]
  },
  {
   "cell_type": "code",
   "execution_count": null,
   "metadata": {},
   "outputs": [],
   "source": [
    "save_ggplots <- function(p, fn, w=6, h=6){\n",
    "    for(ext in c('.svg', '.png', '.pdf')){\n",
    "        ggsave(p, filename=paste0(fn, ext), width=w, height=h)\n",
    "    }\n",
    "}"
   ]
  },
  {
   "cell_type": "code",
   "execution_count": null,
   "metadata": {},
   "outputs": [],
   "source": [
    "config = list(\n",
    "    \"Caudate\"=\"../../../caudate/subsampling_male/deg_summary/_m/permutations.csv\", \n",
    "    \"DLPFC\"=\"../../../dlpfc/subsampling_male/deg_summary/_m/permutations.csv\", \n",
    "    \"Hippocampus\"=\"../../../hippocampus/subsampling_male/deg_summary/_m/permutations.csv\"\n",
    ")"
   ]
  },
  {
   "cell_type": "markdown",
   "metadata": {},
   "source": [
    "## Merge dataframes"
   ]
  },
  {
   "cell_type": "code",
   "execution_count": null,
   "metadata": {},
   "outputs": [],
   "source": [
    "datalist = list()\n",
    "for(tissue in c(\"Caudate\", \"DLPFC\", \"Hippocampus\")){\n",
    "    df = data.table::fread(config[[tissue]])\n",
    "    df$tissue <- tissue  # maybe you want to keep track of which iteration produced it?\n",
    "    datalist[[tissue]] <- df\n",
    "}\n",
    "big_df <- bind_rows(datalist) %>% \n",
    "    select(Symbol, gencodeID, logFC, t, adj.P.Val, Permutation, tissue)\n",
    "big_df %>% head()"
   ]
  },
  {
   "cell_type": "code",
   "execution_count": null,
   "metadata": {},
   "outputs": [],
   "source": [
    "bxp = big_df %>% group_by(Permutation, tissue) %>% summarize(Size = n()) %>%\n",
    "    as.data.frame %>% pivot_wider(names_from = tissue, values_from = Size) %>%\n",
    "    replace_na(list(DLPFC = 0, Hippocampus = 0)) %>% \n",
    "    pivot_longer(-Permutation, names_to=\"Tissue\", values_to=\"DEGs\") %>%\n",
    "    mutate_if(is.character, as.factor) %>%\n",
    "    ggboxplot(x=\"Tissue\", y=\"DEGs\", fill=\"Tissue\", add=\"jitter\", \n",
    "              xlab='', palette=\"npg\", ylab=\"Number of DEGs\", \n",
    "              add.params=list(alpha=0.6), outlier.shape=NA,\n",
    "              panel.labs.font=list(face='bold'), legend=\"\", \n",
    "              ggtheme=theme_pubr(base_size=20))+ \n",
    "        font(\"xy.title\", face=\"bold\")\n",
    "save_ggplots(bxp, \"permutation_boxplots_3regions\", 6, 5)\n",
    "bxp"
   ]
  },
  {
   "cell_type": "code",
   "execution_count": null,
   "metadata": {},
   "outputs": [],
   "source": [
    "bxp = big_df %>% filter(tissue != \"Caudate\") %>%\n",
    "    group_by(Permutation, tissue) %>% summarize(Size = n()) %>%\n",
    "    as.data.frame %>% pivot_wider(names_from = tissue, values_from = Size) %>%\n",
    "    replace_na(list(DLPFC = 0, Hippocampus = 0)) %>% \n",
    "    pivot_longer(-Permutation, names_to=\"Tissue\", values_to=\"DEGs\") %>%\n",
    "    mutate_if(is.character, as.factor) %>%\n",
    "    ggboxplot(x=\"Tissue\", y=\"DEGs\", fill=\"Tissue\", add=\"jitter\", \n",
    "              xlab='', palette=get_palette(\"npg\", 3)[2:3], ylab=\"Number of DEGs\", \n",
    "              add.params=list(alpha=0.6), outlier.shape=NA,\n",
    "              panel.labs.font=list(face='bold', size = 18), \n",
    "              legend=\"\", ylim=c(0, 500))+ \n",
    "        font(\"xy.title\", size=18, face=\"bold\") + \n",
    "        font(\"xy.text\", size=16)\n",
    "save_ggplots(bxp, \"permutation_boxplots_2regions\", 6, 5)\n",
    "bxp"
   ]
  },
  {
   "cell_type": "code",
   "execution_count": null,
   "metadata": {},
   "outputs": [],
   "source": [
    "big_df %>% group_by(Permutation, tissue) %>% summarize(Size = n()) %>%\n",
    "    as.data.frame %>% pivot_wider(names_from = tissue, values_from = Size) %>%\n",
    "    replace_na(list(DLPFC = 0, Hippocampus = 0)) %>% \n",
    "    pivot_longer(-Permutation, names_to=\"Tissue\", values_to=\"DEGs\") %>%\n",
    "    mutate_if(is.character, as.factor) %>% \n",
    "    group_by(Tissue) %>% summarize(Mean = mean(DEGs), Median = median(DEGs), Std = sd(DEGs))"
   ]
  },
  {
   "cell_type": "markdown",
   "metadata": {},
   "source": [
    "## Reproducibility Information"
   ]
  },
  {
   "cell_type": "code",
   "execution_count": null,
   "metadata": {},
   "outputs": [],
   "source": [
    "Sys.time()\n",
    "proc.time()\n",
    "options(width = 120)\n",
    "sessioninfo::session_info()"
   ]
  }
 ],
 "metadata": {
  "kernelspec": {
   "display_name": "R",
   "language": "R",
   "name": "ir"
  },
  "language_info": {
   "codemirror_mode": "r",
   "file_extension": ".r",
   "mimetype": "text/x-r-source",
   "name": "R",
   "pygments_lexer": "r",
   "version": "4.1.2"
  }
 },
 "nbformat": 4,
 "nbformat_minor": 4
}
