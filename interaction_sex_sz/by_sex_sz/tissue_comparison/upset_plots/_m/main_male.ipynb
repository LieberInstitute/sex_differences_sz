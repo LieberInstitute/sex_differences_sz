{
 "cells": [
  {
   "cell_type": "markdown",
   "metadata": {},
   "source": [
    "# Tissue comparison for differential expression analysis"
   ]
  },
  {
   "cell_type": "code",
   "execution_count": 1,
   "metadata": {
    "execution": {
     "iopub.execute_input": "2021-11-24T15:00:49.101840Z",
     "iopub.status.busy": "2021-11-24T15:00:49.097306Z",
     "iopub.status.idle": "2021-11-24T15:00:49.889427Z",
     "shell.execute_reply": "2021-11-24T15:00:49.887299Z"
    }
   },
   "outputs": [],
   "source": [
    "import functools\n",
    "import numpy as np\n",
    "import pandas as pd\n",
    "from gtfparse import read_gtf"
   ]
  },
  {
   "cell_type": "code",
   "execution_count": 2,
   "metadata": {
    "execution": {
     "iopub.execute_input": "2021-11-24T15:00:49.908931Z",
     "iopub.status.busy": "2021-11-24T15:00:49.903633Z",
     "iopub.status.idle": "2021-11-24T15:00:49.920507Z",
     "shell.execute_reply": "2021-11-24T15:00:49.918835Z"
    }
   },
   "outputs": [],
   "source": [
    "config = {\n",
    "    'caudate': '../../../caudate/male_analysis/metrics_summary/_m/male_specific_DE_4features.txt',\n",
    "    'dlpfc': '../../../dlpfc/male_analysis/metrics_summary/_m/male_specific_DE_4features.txt',\n",
    "    'hippo': '../../../hippocampus/male_analysis/metrics_summary/_m/male_specific_DE_4features.txt',\n",
    "    'cmc_dlpfc': '../../../cmc_dlpfc/male_analysis/metrics_summary/_m/male_specific_DE_genes.txt'\n",
    "}"
   ]
  },
  {
   "cell_type": "code",
   "execution_count": 3,
   "metadata": {
    "execution": {
     "iopub.execute_input": "2021-11-24T15:00:49.945234Z",
     "iopub.status.busy": "2021-11-24T15:00:49.943200Z",
     "iopub.status.idle": "2021-11-24T15:00:49.969381Z",
     "shell.execute_reply": "2021-11-24T15:00:49.967226Z"
    }
   },
   "outputs": [],
   "source": [
    "@functools.lru_cache()\n",
    "def get_gtf(gtf_file):\n",
    "    return read_gtf(gtf_file)\n",
    "\n",
    "\n",
    "@functools.lru_cache()\n",
    "def get_deg(filename):\n",
    "    dft = pd.read_csv(filename, sep='\\t', index_col=0)\n",
    "    dft = dft[(dft['Type'] == 'gene')].copy()\n",
    "    dft['Feature'] = dft.index\n",
    "    dft['Dir'] = np.sign(dft['t'])\n",
    "    if 'gene_id' in dft.columns:\n",
    "        dft['ensemblID'] = dft.gene_id.str.replace('\\\\..*', '', regex=True)\n",
    "    return dft[['Feature', 'ensemblID', 'adj.P.Val', 'logFC', 't', 'Dir']]\n",
    "\n",
    "@functools.lru_cache()\n",
    "def get_deg_sig(filename):\n",
    "    dft = get_deg(filename)\n",
    "    return dft[(dft['adj.P.Val'] < 0.05)]\n",
    "\n",
    "\n",
    "@functools.lru_cache()\n",
    "def merge_dataframes(tissue1, tissue2):\n",
    "    return get_deg(config[tissue1]).merge(get_deg(config[tissue2]), \n",
    "                                          on='Feature', \n",
    "                                          suffixes=['_%s' % tissue1, '_%s' % tissue2])\n",
    "\n",
    "\n",
    "@functools.lru_cache()\n",
    "def merge_dataframes_sig(tissue1, tissue2):\n",
    "    return get_deg_sig(config[tissue1]).merge(get_deg_sig(config[tissue2]), \n",
    "                                              on='Feature', \n",
    "                                              suffixes=['_%s' % tissue1, '_%s' % tissue2])"
   ]
  },
  {
   "cell_type": "code",
   "execution_count": 4,
   "metadata": {
    "execution": {
     "iopub.execute_input": "2021-11-24T15:00:50.002289Z",
     "iopub.status.busy": "2021-11-24T15:00:49.999573Z",
     "iopub.status.idle": "2021-11-24T15:00:50.013317Z",
     "shell.execute_reply": "2021-11-24T15:00:50.011336Z"
    }
   },
   "outputs": [],
   "source": [
    "def tissue_annotation(tissue):\n",
    "    return {'dlpfc': 'DLPFC', 'hippo': 'Hippocampus', \n",
    "            'caudate': 'Caudate', 'cmc_dlpfc': 'CMC DLPFC'}[tissue]\n",
    "\n",
    "\n",
    "def save_plot(p, fn, width=7, height=7):\n",
    "    '''Save plot as svg, png, and pdf with specific label and dimension.'''\n",
    "    for ext in ['.svg', '.png', '.pdf']:\n",
    "        p.save(fn+ext, width=width, height=height)\n",
    "        \n",
    "\n",
    "def gene_annotation(gtf_file, feature):\n",
    "    gtf0 = get_gtf(gtf_file)\n",
    "    gtf = gtf0[gtf0[\"feature\"] == feature]\n",
    "    return gtf[[\"gene_id\", \"gene_name\", \"transcript_id\", \"exon_id\", \"gene_type\", \n",
    "                \"seqname\", \"start\", \"end\", \"strand\"]]"
   ]
  },
  {
   "cell_type": "markdown",
   "metadata": {},
   "source": [
    "## BrainSeq Comparison"
   ]
  },
  {
   "cell_type": "code",
   "execution_count": 5,
   "metadata": {
    "execution": {
     "iopub.execute_input": "2021-11-24T15:00:50.040830Z",
     "iopub.status.busy": "2021-11-24T15:00:50.038388Z",
     "iopub.status.idle": "2021-11-24T15:00:50.149936Z",
     "shell.execute_reply": "2021-11-24T15:00:50.151199Z"
    }
   },
   "outputs": [
    {
     "data": {
      "text/plain": [
       "Dir\n",
       "-1.0     718\n",
       " 1.0    1140\n",
       "dtype: int64"
      ]
     },
     "execution_count": 5,
     "metadata": {},
     "output_type": "execute_result"
    }
   ],
   "source": [
    "caudate = get_deg(config['caudate'])\n",
    "caudate.groupby('Dir').size()"
   ]
  },
  {
   "cell_type": "code",
   "execution_count": 6,
   "metadata": {
    "execution": {
     "iopub.execute_input": "2021-11-24T15:00:50.174794Z",
     "iopub.status.busy": "2021-11-24T15:00:50.172078Z",
     "iopub.status.idle": "2021-11-24T15:00:50.213420Z",
     "shell.execute_reply": "2021-11-24T15:00:50.210923Z"
    }
   },
   "outputs": [
    {
     "name": "stderr",
     "output_type": "stream",
     "text": [
      "INFO:numexpr.utils:Note: NumExpr detected 60 cores but \"NUMEXPR_MAX_THREADS\" not set, so enforcing safe limit of 8.\n",
      "INFO:numexpr.utils:NumExpr defaulting to 8 threads.\n"
     ]
    },
    {
     "data": {
      "text/plain": [
       "(1858, 6)"
      ]
     },
     "execution_count": 6,
     "metadata": {},
     "output_type": "execute_result"
    }
   ],
   "source": [
    "caudate[(caudate['adj.P.Val'] < 0.05)].shape"
   ]
  },
  {
   "cell_type": "code",
   "execution_count": 7,
   "metadata": {
    "execution": {
     "iopub.execute_input": "2021-11-24T15:00:50.243285Z",
     "iopub.status.busy": "2021-11-24T15:00:50.241013Z",
     "iopub.status.idle": "2021-11-24T15:00:50.326691Z",
     "shell.execute_reply": "2021-11-24T15:00:50.324372Z"
    }
   },
   "outputs": [
    {
     "data": {
      "text/plain": [
       "Dir\n",
       "-1.0    66\n",
       " 1.0    56\n",
       "dtype: int64"
      ]
     },
     "execution_count": 7,
     "metadata": {},
     "output_type": "execute_result"
    }
   ],
   "source": [
    "dlpfc = get_deg(config['dlpfc'])\n",
    "dlpfc.groupby('Dir').size()"
   ]
  },
  {
   "cell_type": "code",
   "execution_count": 8,
   "metadata": {
    "execution": {
     "iopub.execute_input": "2021-11-24T15:00:50.367841Z",
     "iopub.status.busy": "2021-11-24T15:00:50.365233Z",
     "iopub.status.idle": "2021-11-24T15:00:50.378562Z",
     "shell.execute_reply": "2021-11-24T15:00:50.376453Z"
    }
   },
   "outputs": [
    {
     "data": {
      "text/plain": [
       "(122, 6)"
      ]
     },
     "execution_count": 8,
     "metadata": {},
     "output_type": "execute_result"
    }
   ],
   "source": [
    "dlpfc[(dlpfc['adj.P.Val'] < 0.05)].shape"
   ]
  },
  {
   "cell_type": "code",
   "execution_count": 9,
   "metadata": {
    "execution": {
     "iopub.execute_input": "2021-11-24T15:00:50.401182Z",
     "iopub.status.busy": "2021-11-24T15:00:50.399018Z",
     "iopub.status.idle": "2021-11-24T15:00:50.438130Z",
     "shell.execute_reply": "2021-11-24T15:00:50.440214Z"
    }
   },
   "outputs": [
    {
     "data": {
      "text/plain": [
       "Dir\n",
       "-1.0    62\n",
       " 1.0    42\n",
       "dtype: int64"
      ]
     },
     "execution_count": 9,
     "metadata": {},
     "output_type": "execute_result"
    }
   ],
   "source": [
    "hippo = get_deg(config['hippo'])\n",
    "hippo.groupby('Dir').size()"
   ]
  },
  {
   "cell_type": "code",
   "execution_count": 10,
   "metadata": {
    "execution": {
     "iopub.execute_input": "2021-11-24T15:00:50.465946Z",
     "iopub.status.busy": "2021-11-24T15:00:50.460696Z",
     "iopub.status.idle": "2021-11-24T15:00:50.474285Z",
     "shell.execute_reply": "2021-11-24T15:00:50.471561Z"
    }
   },
   "outputs": [
    {
     "data": {
      "text/plain": [
       "(104, 6)"
      ]
     },
     "execution_count": 10,
     "metadata": {},
     "output_type": "execute_result"
    }
   ],
   "source": [
    "hippo[(hippo['adj.P.Val'] < 0.05)].shape"
   ]
  },
  {
   "cell_type": "markdown",
   "metadata": {},
   "source": [
    "### Upset Plot"
   ]
  },
  {
   "cell_type": "code",
   "execution_count": 11,
   "metadata": {
    "execution": {
     "iopub.execute_input": "2021-11-24T15:00:50.540582Z",
     "iopub.status.busy": "2021-11-24T15:00:50.489599Z",
     "iopub.status.idle": "2021-11-24T15:00:50.555502Z",
     "shell.execute_reply": "2021-11-24T15:00:50.553615Z"
    }
   },
   "outputs": [],
   "source": [
    "phase2_dlpfc = dlpfc[(dlpfc['adj.P.Val'] < 0.05)].copy()\n",
    "phase2_dlpfc['DLPFC'] = 1\n",
    "phase2_dlpfc = phase2_dlpfc[['ensemblID', 'DLPFC']]\n",
    "\n",
    "phase2_hippo = hippo[(hippo['adj.P.Val'] < 0.05)].copy()\n",
    "phase2_hippo['Hippocampus'] = 1\n",
    "phase2_hippo = phase2_hippo[['ensemblID', 'Hippocampus']]\n",
    "\n",
    "phase3_caudate = caudate[(caudate['adj.P.Val'] < 0.05)].copy()\n",
    "phase3_caudate['Caudate'] = 1\n",
    "phase3_caudate = phase3_caudate[['ensemblID', 'Caudate']]"
   ]
  },
  {
   "cell_type": "code",
   "execution_count": 12,
   "metadata": {
    "execution": {
     "iopub.execute_input": "2021-11-24T15:00:50.588402Z",
     "iopub.status.busy": "2021-11-24T15:00:50.586255Z",
     "iopub.status.idle": "2021-11-24T15:00:52.731093Z",
     "shell.execute_reply": "2021-11-24T15:00:52.734893Z"
    }
   },
   "outputs": [
    {
     "name": "stdout",
     "output_type": "stream",
     "text": [
      "(2051, 2) (2051, 2) (2051, 2)\n"
     ]
    }
   ],
   "source": [
    "geneList = pd.merge(phase3_caudate[['ensemblID']], phase2_dlpfc[['ensemblID']], \n",
    "                    on=['ensemblID'], how='outer')\\\n",
    "             .merge(phase2_hippo[['ensemblID']], on=['ensemblID'], how='outer')\\\n",
    "             .groupby(['ensemblID']).first().reset_index()\n",
    "\n",
    "newC = pd.merge(geneList, phase3_caudate, on=['ensemblID'], how='outer').fillna(0)\n",
    "newC['Caudate'] = newC['Caudate'].astype('int')\n",
    "\n",
    "newD1 = pd.merge(geneList, phase2_dlpfc, on=['ensemblID'], how='outer').fillna(0)\n",
    "newD1['DLPFC'] = newD1['DLPFC'].astype('int')\n",
    "\n",
    "newH = pd.merge(geneList, phase2_hippo, on=['ensemblID'], how='outer').fillna(0)\n",
    "newH['Hippocampus'] = newH['Hippocampus'].astype('int')\n",
    "\n",
    "print(newC.shape, newH.shape, newD1.shape)"
   ]
  },
  {
   "cell_type": "code",
   "execution_count": 13,
   "metadata": {
    "execution": {
     "iopub.execute_input": "2021-11-24T15:00:52.772934Z",
     "iopub.status.busy": "2021-11-24T15:00:52.770286Z",
     "iopub.status.idle": "2021-11-24T15:00:52.798599Z",
     "shell.execute_reply": "2021-11-24T15:00:52.796377Z"
    }
   },
   "outputs": [
    {
     "data": {
      "text/html": [
       "<div>\n",
       "<style scoped>\n",
       "    .dataframe tbody tr th:only-of-type {\n",
       "        vertical-align: middle;\n",
       "    }\n",
       "\n",
       "    .dataframe tbody tr th {\n",
       "        vertical-align: top;\n",
       "    }\n",
       "\n",
       "    .dataframe thead th {\n",
       "        text-align: right;\n",
       "    }\n",
       "</style>\n",
       "<table border=\"1\" class=\"dataframe\">\n",
       "  <thead>\n",
       "    <tr style=\"text-align: right;\">\n",
       "      <th></th>\n",
       "      <th>Caudate</th>\n",
       "      <th>DLPFC</th>\n",
       "      <th>Hippocampus</th>\n",
       "    </tr>\n",
       "    <tr>\n",
       "      <th>ensemblID</th>\n",
       "      <th></th>\n",
       "      <th></th>\n",
       "      <th></th>\n",
       "    </tr>\n",
       "  </thead>\n",
       "  <tbody>\n",
       "    <tr>\n",
       "      <th>ENSG00000000971</th>\n",
       "      <td>1</td>\n",
       "      <td>0</td>\n",
       "      <td>0</td>\n",
       "    </tr>\n",
       "    <tr>\n",
       "      <th>ENSG00000002330</th>\n",
       "      <td>1</td>\n",
       "      <td>0</td>\n",
       "      <td>0</td>\n",
       "    </tr>\n",
       "  </tbody>\n",
       "</table>\n",
       "</div>"
      ],
      "text/plain": [
       "                 Caudate  DLPFC  Hippocampus\n",
       "ensemblID                                   \n",
       "ENSG00000000971        1      0            0\n",
       "ENSG00000002330        1      0            0"
      ]
     },
     "execution_count": 13,
     "metadata": {},
     "output_type": "execute_result"
    }
   ],
   "source": [
    "df = pd.concat([newC.set_index(['ensemblID']), newD1.set_index(['ensemblID']), \n",
    "                newH.set_index(['ensemblID'])], axis=1, join='outer')\n",
    "df.head(2)"
   ]
  },
  {
   "cell_type": "code",
   "execution_count": 14,
   "metadata": {
    "execution": {
     "iopub.execute_input": "2021-11-24T15:00:52.824485Z",
     "iopub.status.busy": "2021-11-24T15:00:52.821494Z",
     "iopub.status.idle": "2021-11-24T15:00:54.624761Z",
     "shell.execute_reply": "2021-11-24T15:00:54.621928Z"
    }
   },
   "outputs": [],
   "source": [
    "%load_ext rpy2.ipython"
   ]
  },
  {
   "cell_type": "code",
   "execution_count": 15,
   "metadata": {
    "execution": {
     "iopub.execute_input": "2021-11-24T15:00:54.650671Z",
     "iopub.status.busy": "2021-11-24T15:00:54.647584Z",
     "iopub.status.idle": "2021-11-24T15:01:05.937074Z",
     "shell.execute_reply": "2021-11-24T15:01:05.940814Z"
    }
   },
   "outputs": [
    {
     "name": "stderr",
     "output_type": "stream",
     "text": [
      "WARNING:rpy2.rinterface_lib.callbacks:R[write to console]: Loading required package: grid\n",
      "\n",
      "WARNING:rpy2.rinterface_lib.callbacks:R[write to console]: ========================================\n",
      "ComplexHeatmap version 2.10.0\n",
      "Bioconductor page: http://bioconductor.org/packages/ComplexHeatmap/\n",
      "Github page: https://github.com/jokergoo/ComplexHeatmap\n",
      "Documentation: http://jokergoo.github.io/ComplexHeatmap-reference\n",
      "\n",
      "If you use it in published research, please cite:\n",
      "Gu, Z. Complex heatmaps reveal patterns and correlations in multidimensional \n",
      "  genomic data. Bioinformatics 2016.\n",
      "\n",
      "The new InteractiveComplexHeatmap package can directly export static \n",
      "complex heatmaps into an interactive Shiny app with zero effort. Have a try!\n",
      "\n",
      "This message can be suppressed by:\n",
      "  suppressPackageStartupMessages(library(ComplexHeatmap))\n",
      "========================================\n",
      "\n",
      "\n",
      "WARNING:rpy2.rinterface_lib.callbacks:R[write to console]: ── Attaching packages ─────────────────────────────────────── tidyverse 1.3.1 ──\n",
      "\n",
      "WARNING:rpy2.rinterface_lib.callbacks:R[write to console]: ✔ ggplot2 3.3.5     ✔ purrr   0.3.4\n",
      "✔ tibble  3.1.6     ✔ dplyr   1.0.7\n",
      "✔ tidyr   1.1.4     ✔ stringr 1.4.0\n",
      "✔ readr   2.1.0     ✔ forcats 0.5.1\n",
      "\n",
      "WARNING:rpy2.rinterface_lib.callbacks:R[write to console]: ── Conflicts ────────────────────────────────────────── tidyverse_conflicts() ──\n",
      "✖ dplyr::filter() masks stats::filter()\n",
      "✖ dplyr::lag()    masks stats::lag()\n",
      "\n"
     ]
    }
   ],
   "source": [
    "%%R\n",
    "library(ComplexHeatmap)\n",
    "library(tidyverse)\n",
    "subset_pvalue <- function(filename, fdr_cutoff){\n",
    "    df <- data.table::fread(filename) %>% \n",
    "        filter(Type == 'gene', adj.P.Val < fdr_cutoff)\n",
    "    return(df$ensemblID)\n",
    "}\n",
    "\n",
    "caudate = subset_pvalue('../../../caudate/male_analysis/metrics_summary/_m/male_specific_DE_4features.txt', \n",
    "                        0.05)\n",
    "dlpfc = subset_pvalue('../../../dlpfc/male_analysis/metrics_summary/_m/male_specific_DE_4features.txt', \n",
    "                      0.05)\n",
    "hippo = subset_pvalue('../../../hippocampus/male_analysis/metrics_summary/_m/male_specific_DE_4features.txt',\n",
    "                      0.05)\n",
    "\n",
    "lt = list(Caudate = caudate,\n",
    "          DLPFC = dlpfc,\n",
    "          Hippocampus = hippo)\n",
    "\n",
    "m = make_comb_mat(lt)\n",
    "cbb_palette <- c(\"#000000\", \"#E69F00\", \"#56B4E9\", \"#009E73\", \"#F0E442\", \n",
    "                 \"#0072B2\", \"#D55E00\", \"#CC79A7\")"
   ]
  },
  {
   "cell_type": "code",
   "execution_count": 16,
   "metadata": {
    "execution": {
     "iopub.execute_input": "2021-11-24T15:01:05.972674Z",
     "iopub.status.busy": "2021-11-24T15:01:05.965953Z",
     "iopub.status.idle": "2021-11-24T15:01:10.070701Z",
     "shell.execute_reply": "2021-11-24T15:01:10.059187Z"
    }
   },
   "outputs": [
    {
     "name": "stdout",
     "output_type": "stream",
     "text": [
      "png \n",
      "  2 \n"
     ]
    }
   ],
   "source": [
    "%%R\n",
    "right_annot = upset_right_annotation(\n",
    "    m, ylim = c(0, 2000),\n",
    "    gp = gpar(fill = \"black\"),\n",
    "    annotation_name_side = \"top\",\n",
    "    axis_param = list(side = \"top\"))\n",
    "\n",
    "top_annot = upset_top_annotation(\n",
    "    m, height=unit(7, \"cm\"), \n",
    "    ylim = c(0, 2000),\n",
    "    gp=gpar(fill=cbb_palette[comb_degree(m)]),\n",
    "    annotation_name_rot = 90)\n",
    "\n",
    "pdf('BrainSeq_sex_tissue_upsetR_DEgenes_maleSpecific.pdf', width=8, height=4)\n",
    "ht = draw(UpSet(m, pt_size=unit(4, \"mm\"), lwd=3, \n",
    "                comb_col=cbb_palette[comb_degree(m)], \n",
    "                set_order = c(\"Caudate\", \"DLPFC\", \"Hippocampus\"), \n",
    "                comb_order = order(-comb_size(m)), \n",
    "                row_names_gp = gpar(fontsize = 14, fontface='bold'),\n",
    "                right_annotation = right_annot, \n",
    "                top_annotation = top_annot))\n",
    "od = column_order(ht)\n",
    "cs = comb_size(m)\n",
    "decorate_annotation(\"intersection_size\", {\n",
    "    grid.text(cs[od], x = seq_along(cs), y = unit(cs[od], \"native\") + \n",
    "              unit(6, \"pt\"), \n",
    "        default.units = \"native\", just = \"bottom\", gp = gpar(fontsize = 11))\n",
    "})\n",
    "dev.off()"
   ]
  },
  {
   "cell_type": "code",
   "execution_count": 17,
   "metadata": {
    "execution": {
     "iopub.execute_input": "2021-11-24T15:01:10.101346Z",
     "iopub.status.busy": "2021-11-24T15:01:10.096537Z",
     "iopub.status.idle": "2021-11-24T15:01:14.180545Z",
     "shell.execute_reply": "2021-11-24T15:01:14.178815Z"
    }
   },
   "outputs": [
    {
     "name": "stdout",
     "output_type": "stream",
     "text": [
      "png \n",
      "  2 \n"
     ]
    }
   ],
   "source": [
    "%%R\n",
    "right_ha = rowAnnotation(\n",
    "    \"Intersection\\nsize\" = anno_barplot(comb_size(m), border=F,\n",
    "                                        ylim = c(0, 2000), \n",
    "                                        gp=gpar(fill=cbb_palette[comb_degree(m)]),\n",
    "                                        width = unit(7, \"cm\")))\n",
    "top_ha = HeatmapAnnotation(\n",
    "    \"Set size\" = anno_barplot(set_size(m), border=F,\n",
    "                              ylim = c(0, 2000),\n",
    "                              gp = gpar(fill = \"black\"), \n",
    "                              height = unit(2, \"cm\")), \n",
    "    gap = unit(2, \"mm\"), annotation_name_side = \"left\", \n",
    "    annotation_name_rot = 90)\n",
    "\n",
    "\n",
    "pdf(\"BrainSeq_sex_tissue_upsetR_DEgenes_transpose_maleSpecific.pdf\", width=5, height=10)\n",
    "ht = draw(UpSet(t(m), pt_size=unit(5, \"mm\"), lwd=3,\n",
    "                comb_order = order(-comb_size(m)), \n",
    "                comb_col=cbb_palette[comb_degree(m)], \n",
    "                set_order = c(\"Caudate\", \"DLPFC\", \"Hippocampus\"), \n",
    "                column_names_gp = gpar(fontsize = 16, fontface='bold'),\n",
    "                right_annotation = right_ha, top_annotation=top_ha))\n",
    "\n",
    "od = rev(row_order(ht))\n",
    "cs = comb_size(m)\n",
    "decorate_annotation(\"Intersection\\nsize\", {\n",
    "    grid.text(cs[od], y = seq_along(cs), x = unit(cs[od], \"native\") + \n",
    "              unit(6, \"pt\"), \n",
    "        default.units = \"native\", just = \"left\", gp = gpar(fontsize = 11))\n",
    "})\n",
    "dev.off()"
   ]
  },
  {
   "cell_type": "markdown",
   "metadata": {},
   "source": [
    "### Shared features"
   ]
  },
  {
   "cell_type": "code",
   "execution_count": 18,
   "metadata": {
    "execution": {
     "iopub.execute_input": "2021-11-24T15:01:14.201115Z",
     "iopub.status.busy": "2021-11-24T15:01:14.199183Z",
     "iopub.status.idle": "2021-11-24T15:03:21.541283Z",
     "shell.execute_reply": "2021-11-24T15:03:21.542766Z"
    }
   },
   "outputs": [
    {
     "name": "stderr",
     "output_type": "stream",
     "text": [
      "INFO:root:Extracted GTF attributes: ['gene_id', 'gene_type', 'gene_status', 'gene_name', 'level', 'havana_gene', 'transcript_id', 'transcript_type', 'transcript_status', 'transcript_name', 'transcript_support_level', 'tag', 'havana_transcript', 'exon_number', 'exon_id', 'ont', 'protein_id', 'ccdsid']\n"
     ]
    },
    {
     "data": {
      "text/html": [
       "<div>\n",
       "<style scoped>\n",
       "    .dataframe tbody tr th:only-of-type {\n",
       "        vertical-align: middle;\n",
       "    }\n",
       "\n",
       "    .dataframe tbody tr th {\n",
       "        vertical-align: top;\n",
       "    }\n",
       "\n",
       "    .dataframe thead th {\n",
       "        text-align: right;\n",
       "    }\n",
       "</style>\n",
       "<table border=\"1\" class=\"dataframe\">\n",
       "  <thead>\n",
       "    <tr style=\"text-align: right;\">\n",
       "      <th></th>\n",
       "      <th>gene_id</th>\n",
       "      <th>gene_name</th>\n",
       "      <th>transcript_id</th>\n",
       "      <th>exon_id</th>\n",
       "      <th>gene_type</th>\n",
       "      <th>seqname</th>\n",
       "      <th>start</th>\n",
       "      <th>end</th>\n",
       "      <th>strand</th>\n",
       "    </tr>\n",
       "  </thead>\n",
       "  <tbody>\n",
       "    <tr>\n",
       "      <th>0</th>\n",
       "      <td>ENSG00000223972.5</td>\n",
       "      <td>DDX11L1</td>\n",
       "      <td></td>\n",
       "      <td></td>\n",
       "      <td>transcribed_unprocessed_pseudogene</td>\n",
       "      <td>chr1</td>\n",
       "      <td>11869</td>\n",
       "      <td>14409</td>\n",
       "      <td>+</td>\n",
       "    </tr>\n",
       "    <tr>\n",
       "      <th>12</th>\n",
       "      <td>ENSG00000227232.5</td>\n",
       "      <td>WASH7P</td>\n",
       "      <td></td>\n",
       "      <td></td>\n",
       "      <td>unprocessed_pseudogene</td>\n",
       "      <td>chr1</td>\n",
       "      <td>14404</td>\n",
       "      <td>29570</td>\n",
       "      <td>-</td>\n",
       "    </tr>\n",
       "  </tbody>\n",
       "</table>\n",
       "</div>"
      ],
      "text/plain": [
       "              gene_id gene_name transcript_id exon_id  \\\n",
       "0   ENSG00000223972.5   DDX11L1                         \n",
       "12  ENSG00000227232.5    WASH7P                         \n",
       "\n",
       "                             gene_type seqname  start    end strand  \n",
       "0   transcribed_unprocessed_pseudogene    chr1  11869  14409      +  \n",
       "12              unprocessed_pseudogene    chr1  14404  29570      -  "
      ]
     },
     "execution_count": 18,
     "metadata": {},
     "output_type": "execute_result"
    }
   ],
   "source": [
    "gtf_file = '/ceph/genome/human/gencode25/gtf.CHR/_m/gencode.v25.annotation.gtf'\n",
    "gtf_annot = gene_annotation(gtf_file, 'gene')\n",
    "gtf_annot.head(2)"
   ]
  },
  {
   "cell_type": "code",
   "execution_count": 19,
   "metadata": {
    "execution": {
     "iopub.execute_input": "2021-11-24T15:03:21.563278Z",
     "iopub.status.busy": "2021-11-24T15:03:21.561391Z",
     "iopub.status.idle": "2021-11-24T15:03:21.710926Z",
     "shell.execute_reply": "2021-11-24T15:03:21.712201Z"
    }
   },
   "outputs": [
    {
     "data": {
      "text/html": [
       "<div>\n",
       "<style scoped>\n",
       "    .dataframe tbody tr th:only-of-type {\n",
       "        vertical-align: middle;\n",
       "    }\n",
       "\n",
       "    .dataframe tbody tr th {\n",
       "        vertical-align: top;\n",
       "    }\n",
       "\n",
       "    .dataframe thead th {\n",
       "        text-align: right;\n",
       "    }\n",
       "</style>\n",
       "<table border=\"1\" class=\"dataframe\">\n",
       "  <thead>\n",
       "    <tr style=\"text-align: right;\">\n",
       "      <th></th>\n",
       "      <th>Feature</th>\n",
       "      <th>ensemblID</th>\n",
       "      <th>adj.P.Val</th>\n",
       "      <th>logFC</th>\n",
       "      <th>t</th>\n",
       "      <th>Dir</th>\n",
       "      <th>gene_id</th>\n",
       "      <th>gene_name</th>\n",
       "      <th>seqname</th>\n",
       "    </tr>\n",
       "  </thead>\n",
       "  <tbody>\n",
       "    <tr>\n",
       "      <th>424344</th>\n",
       "      <td>ENSG00000188011.5</td>\n",
       "      <td>ENSG00000188011</td>\n",
       "      <td>2.218141e-08</td>\n",
       "      <td>-0.387309</td>\n",
       "      <td>-6.866649</td>\n",
       "      <td>-1.0</td>\n",
       "      <td>ENSG00000188011.5</td>\n",
       "      <td>RTP5</td>\n",
       "      <td>chr2</td>\n",
       "    </tr>\n",
       "    <tr>\n",
       "      <th>1080714</th>\n",
       "      <td>ENSG00000205268.10</td>\n",
       "      <td>ENSG00000205268</td>\n",
       "      <td>2.640453e-07</td>\n",
       "      <td>0.153181</td>\n",
       "      <td>6.318761</td>\n",
       "      <td>1.0</td>\n",
       "      <td>ENSG00000205268.10</td>\n",
       "      <td>PDE7A</td>\n",
       "      <td>chr8</td>\n",
       "    </tr>\n",
       "  </tbody>\n",
       "</table>\n",
       "</div>"
      ],
      "text/plain": [
       "                    Feature        ensemblID     adj.P.Val     logFC  \\\n",
       "424344    ENSG00000188011.5  ENSG00000188011  2.218141e-08 -0.387309   \n",
       "1080714  ENSG00000205268.10  ENSG00000205268  2.640453e-07  0.153181   \n",
       "\n",
       "                t  Dir             gene_id gene_name seqname  \n",
       "424344  -6.866649 -1.0   ENSG00000188011.5      RTP5    chr2  \n",
       "1080714  6.318761  1.0  ENSG00000205268.10     PDE7A    chr8  "
      ]
     },
     "execution_count": 19,
     "metadata": {},
     "output_type": "execute_result"
    }
   ],
   "source": [
    "dft = caudate.merge(gtf_annot[['gene_id', 'gene_name', 'seqname']], \n",
    "                    left_index=True, right_on='gene_id')\n",
    "dft.head(2)"
   ]
  },
  {
   "cell_type": "code",
   "execution_count": 20,
   "metadata": {
    "execution": {
     "iopub.execute_input": "2021-11-24T15:03:21.734123Z",
     "iopub.status.busy": "2021-11-24T15:03:21.725958Z",
     "iopub.status.idle": "2021-11-24T15:03:21.790782Z",
     "shell.execute_reply": "2021-11-24T15:03:21.788839Z"
    }
   },
   "outputs": [
    {
     "data": {
      "text/html": [
       "<div>\n",
       "<style scoped>\n",
       "    .dataframe tbody tr th:only-of-type {\n",
       "        vertical-align: middle;\n",
       "    }\n",
       "\n",
       "    .dataframe tbody tr th {\n",
       "        vertical-align: top;\n",
       "    }\n",
       "\n",
       "    .dataframe thead th {\n",
       "        text-align: right;\n",
       "    }\n",
       "</style>\n",
       "<table border=\"1\" class=\"dataframe\">\n",
       "  <thead>\n",
       "    <tr style=\"text-align: right;\">\n",
       "      <th></th>\n",
       "      <th>gene_id</th>\n",
       "      <th>ensemblID</th>\n",
       "      <th>seqname</th>\n",
       "      <th>gene_name</th>\n",
       "      <th>Dir</th>\n",
       "    </tr>\n",
       "  </thead>\n",
       "  <tbody>\n",
       "    <tr>\n",
       "      <th>0</th>\n",
       "      <td>ENSG00000198286.9</td>\n",
       "      <td>ENSG00000198286</td>\n",
       "      <td>chr7</td>\n",
       "      <td>CARD11</td>\n",
       "      <td>-1.0</td>\n",
       "    </tr>\n",
       "    <tr>\n",
       "      <th>1</th>\n",
       "      <td>ENSG00000253988.1</td>\n",
       "      <td>ENSG00000253988</td>\n",
       "      <td>chr8</td>\n",
       "      <td>RP11-489O18.1</td>\n",
       "      <td>-1.0</td>\n",
       "    </tr>\n",
       "  </tbody>\n",
       "</table>\n",
       "</div>"
      ],
      "text/plain": [
       "             gene_id        ensemblID seqname      gene_name  Dir\n",
       "0  ENSG00000198286.9  ENSG00000198286    chr7         CARD11 -1.0\n",
       "1  ENSG00000253988.1  ENSG00000253988    chr8  RP11-489O18.1 -1.0"
      ]
     },
     "execution_count": 20,
     "metadata": {},
     "output_type": "execute_result"
    }
   ],
   "source": [
    "shared_df = dft.loc[:, ['gene_id', 'ensemblID', 'seqname', 'gene_name', 'Dir']]\\\n",
    "               .merge(pd.DataFrame({'ensemblID': list(set(phase2_dlpfc['ensemblID']) & \n",
    "                                                      set(phase2_hippo['ensemblID']) & \n",
    "                                                      set(phase3_caudate['ensemblID']))}), \n",
    "                      on='ensemblID')\n",
    "shared_df.to_csv('BrainSeq_shared_degs_annotation_maleSpecific.txt', \n",
    "                 sep='\\t', index=False, header=True)\n",
    "shared_df"
   ]
  },
  {
   "cell_type": "code",
   "execution_count": 21,
   "metadata": {
    "execution": {
     "iopub.execute_input": "2021-11-24T15:03:21.814869Z",
     "iopub.status.busy": "2021-11-24T15:03:21.813323Z",
     "iopub.status.idle": "2021-11-24T15:03:21.959715Z",
     "shell.execute_reply": "2021-11-24T15:03:21.958156Z"
    }
   },
   "outputs": [
    {
     "data": {
      "text/html": [
       "<div>\n",
       "<style scoped>\n",
       "    .dataframe tbody tr th:only-of-type {\n",
       "        vertical-align: middle;\n",
       "    }\n",
       "\n",
       "    .dataframe tbody tr th {\n",
       "        vertical-align: top;\n",
       "    }\n",
       "\n",
       "    .dataframe thead th {\n",
       "        text-align: right;\n",
       "    }\n",
       "</style>\n",
       "<table border=\"1\" class=\"dataframe\">\n",
       "  <thead>\n",
       "    <tr style=\"text-align: right;\">\n",
       "      <th></th>\n",
       "      <th>Feature</th>\n",
       "      <th>ensemblID</th>\n",
       "      <th>adj.P.Val</th>\n",
       "      <th>logFC</th>\n",
       "      <th>t</th>\n",
       "      <th>Dir</th>\n",
       "      <th>gene_id</th>\n",
       "      <th>gene_name</th>\n",
       "      <th>seqname</th>\n",
       "    </tr>\n",
       "  </thead>\n",
       "  <tbody>\n",
       "    <tr>\n",
       "      <th>0</th>\n",
       "      <td>ENSG00000159958.5</td>\n",
       "      <td>ENSG00000159958</td>\n",
       "      <td>0.001774</td>\n",
       "      <td>-0.523950</td>\n",
       "      <td>-5.147635</td>\n",
       "      <td>-1.0</td>\n",
       "      <td>ENSG00000159958.5</td>\n",
       "      <td>TNFRSF13C</td>\n",
       "      <td>chr22</td>\n",
       "    </tr>\n",
       "    <tr>\n",
       "      <th>1</th>\n",
       "      <td>ENSG00000198286.9</td>\n",
       "      <td>ENSG00000198286</td>\n",
       "      <td>0.004835</td>\n",
       "      <td>-0.236040</td>\n",
       "      <td>-4.585760</td>\n",
       "      <td>-1.0</td>\n",
       "      <td>ENSG00000198286.9</td>\n",
       "      <td>CARD11</td>\n",
       "      <td>chr7</td>\n",
       "    </tr>\n",
       "    <tr>\n",
       "      <th>2</th>\n",
       "      <td>ENSG00000171659.13</td>\n",
       "      <td>ENSG00000171659</td>\n",
       "      <td>0.012267</td>\n",
       "      <td>-0.516121</td>\n",
       "      <td>-4.135553</td>\n",
       "      <td>-1.0</td>\n",
       "      <td>ENSG00000171659.13</td>\n",
       "      <td>GPR34</td>\n",
       "      <td>chrX</td>\n",
       "    </tr>\n",
       "    <tr>\n",
       "      <th>3</th>\n",
       "      <td>ENSG00000253988.1</td>\n",
       "      <td>ENSG00000253988</td>\n",
       "      <td>0.018819</td>\n",
       "      <td>-0.555268</td>\n",
       "      <td>-3.943861</td>\n",
       "      <td>-1.0</td>\n",
       "      <td>ENSG00000253988.1</td>\n",
       "      <td>RP11-489O18.1</td>\n",
       "      <td>chr8</td>\n",
       "    </tr>\n",
       "    <tr>\n",
       "      <th>4</th>\n",
       "      <td>ENSG00000172243.17</td>\n",
       "      <td>ENSG00000172243</td>\n",
       "      <td>0.020343</td>\n",
       "      <td>-0.470366</td>\n",
       "      <td>-3.917891</td>\n",
       "      <td>-1.0</td>\n",
       "      <td>ENSG00000172243.17</td>\n",
       "      <td>CLEC7A</td>\n",
       "      <td>chr12</td>\n",
       "    </tr>\n",
       "    <tr>\n",
       "      <th>5</th>\n",
       "      <td>ENSG00000184574.9</td>\n",
       "      <td>ENSG00000184574</td>\n",
       "      <td>0.024611</td>\n",
       "      <td>-0.371156</td>\n",
       "      <td>-3.807647</td>\n",
       "      <td>-1.0</td>\n",
       "      <td>ENSG00000184574.9</td>\n",
       "      <td>LPAR5</td>\n",
       "      <td>chr12</td>\n",
       "    </tr>\n",
       "    <tr>\n",
       "      <th>6</th>\n",
       "      <td>ENSG00000182578.13</td>\n",
       "      <td>ENSG00000182578</td>\n",
       "      <td>0.047930</td>\n",
       "      <td>-0.330906</td>\n",
       "      <td>-3.432998</td>\n",
       "      <td>-1.0</td>\n",
       "      <td>ENSG00000182578.13</td>\n",
       "      <td>CSF1R</td>\n",
       "      <td>chr5</td>\n",
       "    </tr>\n",
       "  </tbody>\n",
       "</table>\n",
       "</div>"
      ],
      "text/plain": [
       "              Feature        ensemblID  adj.P.Val     logFC         t  Dir  \\\n",
       "0   ENSG00000159958.5  ENSG00000159958   0.001774 -0.523950 -5.147635 -1.0   \n",
       "1   ENSG00000198286.9  ENSG00000198286   0.004835 -0.236040 -4.585760 -1.0   \n",
       "2  ENSG00000171659.13  ENSG00000171659   0.012267 -0.516121 -4.135553 -1.0   \n",
       "3   ENSG00000253988.1  ENSG00000253988   0.018819 -0.555268 -3.943861 -1.0   \n",
       "4  ENSG00000172243.17  ENSG00000172243   0.020343 -0.470366 -3.917891 -1.0   \n",
       "5   ENSG00000184574.9  ENSG00000184574   0.024611 -0.371156 -3.807647 -1.0   \n",
       "6  ENSG00000182578.13  ENSG00000182578   0.047930 -0.330906 -3.432998 -1.0   \n",
       "\n",
       "              gene_id      gene_name seqname  \n",
       "0   ENSG00000159958.5      TNFRSF13C   chr22  \n",
       "1   ENSG00000198286.9         CARD11    chr7  \n",
       "2  ENSG00000171659.13          GPR34    chrX  \n",
       "3   ENSG00000253988.1  RP11-489O18.1    chr8  \n",
       "4  ENSG00000172243.17         CLEC7A   chr12  \n",
       "5   ENSG00000184574.9          LPAR5   chr12  \n",
       "6  ENSG00000182578.13          CSF1R    chr5  "
      ]
     },
     "execution_count": 21,
     "metadata": {},
     "output_type": "execute_result"
    }
   ],
   "source": [
    "dlpfc.merge(gtf_annot[['gene_id', 'gene_name', 'seqname']], \n",
    "            left_index=True, right_on='gene_id')\\\n",
    "     .merge(pd.DataFrame({'ensemblID': list(set(phase2_dlpfc['ensemblID']) & \n",
    "                                            set(phase2_hippo['ensemblID']))}), \n",
    "            on='ensemblID')"
   ]
  },
  {
   "cell_type": "code",
   "execution_count": 22,
   "metadata": {
    "execution": {
     "iopub.execute_input": "2021-11-24T15:03:21.980129Z",
     "iopub.status.busy": "2021-11-24T15:03:21.978215Z",
     "iopub.status.idle": "2021-11-24T15:03:22.158700Z",
     "shell.execute_reply": "2021-11-24T15:03:22.157221Z"
    }
   },
   "outputs": [
    {
     "data": {
      "text/html": [
       "<div>\n",
       "<style scoped>\n",
       "    .dataframe tbody tr th:only-of-type {\n",
       "        vertical-align: middle;\n",
       "    }\n",
       "\n",
       "    .dataframe tbody tr th {\n",
       "        vertical-align: top;\n",
       "    }\n",
       "\n",
       "    .dataframe thead th {\n",
       "        text-align: right;\n",
       "    }\n",
       "</style>\n",
       "<table border=\"1\" class=\"dataframe\">\n",
       "  <thead>\n",
       "    <tr style=\"text-align: right;\">\n",
       "      <th></th>\n",
       "      <th>Feature</th>\n",
       "      <th>ensemblID</th>\n",
       "      <th>adj.P.Val</th>\n",
       "      <th>logFC</th>\n",
       "      <th>t</th>\n",
       "      <th>Dir</th>\n",
       "      <th>gene_id</th>\n",
       "      <th>gene_name</th>\n",
       "      <th>seqname</th>\n",
       "    </tr>\n",
       "  </thead>\n",
       "  <tbody>\n",
       "    <tr>\n",
       "      <th>0</th>\n",
       "      <td>ENSG00000135697.9</td>\n",
       "      <td>ENSG00000135697</td>\n",
       "      <td>0.000161</td>\n",
       "      <td>0.567056</td>\n",
       "      <td>5.873402</td>\n",
       "      <td>1.0</td>\n",
       "      <td>ENSG00000135697.9</td>\n",
       "      <td>BCO1</td>\n",
       "      <td>chr16</td>\n",
       "    </tr>\n",
       "    <tr>\n",
       "      <th>1</th>\n",
       "      <td>ENSG00000198286.9</td>\n",
       "      <td>ENSG00000198286</td>\n",
       "      <td>0.004835</td>\n",
       "      <td>-0.236040</td>\n",
       "      <td>-4.585760</td>\n",
       "      <td>-1.0</td>\n",
       "      <td>ENSG00000198286.9</td>\n",
       "      <td>CARD11</td>\n",
       "      <td>chr7</td>\n",
       "    </tr>\n",
       "    <tr>\n",
       "      <th>2</th>\n",
       "      <td>ENSG00000095303.14</td>\n",
       "      <td>ENSG00000095303</td>\n",
       "      <td>0.005603</td>\n",
       "      <td>-0.340625</td>\n",
       "      <td>-4.514856</td>\n",
       "      <td>-1.0</td>\n",
       "      <td>ENSG00000095303.14</td>\n",
       "      <td>PTGS1</td>\n",
       "      <td>chr9</td>\n",
       "    </tr>\n",
       "    <tr>\n",
       "      <th>3</th>\n",
       "      <td>ENSG00000270095.1</td>\n",
       "      <td>ENSG00000270095</td>\n",
       "      <td>0.007770</td>\n",
       "      <td>0.181196</td>\n",
       "      <td>4.329651</td>\n",
       "      <td>1.0</td>\n",
       "      <td>ENSG00000270095.1</td>\n",
       "      <td>RP11-214K3.18</td>\n",
       "      <td>chr12</td>\n",
       "    </tr>\n",
       "    <tr>\n",
       "      <th>4</th>\n",
       "      <td>ENSG00000177990.11</td>\n",
       "      <td>ENSG00000177990</td>\n",
       "      <td>0.008681</td>\n",
       "      <td>0.160432</td>\n",
       "      <td>4.291095</td>\n",
       "      <td>1.0</td>\n",
       "      <td>ENSG00000177990.11</td>\n",
       "      <td>DPY19L2</td>\n",
       "      <td>chr12</td>\n",
       "    </tr>\n",
       "    <tr>\n",
       "      <th>5</th>\n",
       "      <td>ENSG00000162747.9</td>\n",
       "      <td>ENSG00000162747</td>\n",
       "      <td>0.013554</td>\n",
       "      <td>0.710359</td>\n",
       "      <td>4.100150</td>\n",
       "      <td>1.0</td>\n",
       "      <td>ENSG00000162747.9</td>\n",
       "      <td>FCGR3B</td>\n",
       "      <td>chr1</td>\n",
       "    </tr>\n",
       "    <tr>\n",
       "      <th>6</th>\n",
       "      <td>ENSG00000253988.1</td>\n",
       "      <td>ENSG00000253988</td>\n",
       "      <td>0.018819</td>\n",
       "      <td>-0.555268</td>\n",
       "      <td>-3.943861</td>\n",
       "      <td>-1.0</td>\n",
       "      <td>ENSG00000253988.1</td>\n",
       "      <td>RP11-489O18.1</td>\n",
       "      <td>chr8</td>\n",
       "    </tr>\n",
       "    <tr>\n",
       "      <th>7</th>\n",
       "      <td>ENSG00000168952.15</td>\n",
       "      <td>ENSG00000168952</td>\n",
       "      <td>0.022333</td>\n",
       "      <td>-0.100187</td>\n",
       "      <td>-3.858805</td>\n",
       "      <td>-1.0</td>\n",
       "      <td>ENSG00000168952.15</td>\n",
       "      <td>STXBP6</td>\n",
       "      <td>chr14</td>\n",
       "    </tr>\n",
       "    <tr>\n",
       "      <th>8</th>\n",
       "      <td>ENSG00000106714.17</td>\n",
       "      <td>ENSG00000106714</td>\n",
       "      <td>0.022511</td>\n",
       "      <td>0.111804</td>\n",
       "      <td>3.852368</td>\n",
       "      <td>1.0</td>\n",
       "      <td>ENSG00000106714.17</td>\n",
       "      <td>CNTNAP3</td>\n",
       "      <td>chr9</td>\n",
       "    </tr>\n",
       "    <tr>\n",
       "      <th>9</th>\n",
       "      <td>ENSG00000107719.8</td>\n",
       "      <td>ENSG00000107719</td>\n",
       "      <td>0.034600</td>\n",
       "      <td>-0.161925</td>\n",
       "      <td>-3.616218</td>\n",
       "      <td>-1.0</td>\n",
       "      <td>ENSG00000107719.8</td>\n",
       "      <td>PALD1</td>\n",
       "      <td>chr10</td>\n",
       "    </tr>\n",
       "    <tr>\n",
       "      <th>10</th>\n",
       "      <td>ENSG00000164326.4</td>\n",
       "      <td>ENSG00000164326</td>\n",
       "      <td>0.035711</td>\n",
       "      <td>0.429425</td>\n",
       "      <td>3.587478</td>\n",
       "      <td>1.0</td>\n",
       "      <td>ENSG00000164326.4</td>\n",
       "      <td>CARTPT</td>\n",
       "      <td>chr5</td>\n",
       "    </tr>\n",
       "    <tr>\n",
       "      <th>11</th>\n",
       "      <td>ENSG00000178573.6</td>\n",
       "      <td>ENSG00000178573</td>\n",
       "      <td>0.040637</td>\n",
       "      <td>-0.129271</td>\n",
       "      <td>-3.509009</td>\n",
       "      <td>-1.0</td>\n",
       "      <td>ENSG00000178573.6</td>\n",
       "      <td>MAF</td>\n",
       "      <td>chr16</td>\n",
       "    </tr>\n",
       "    <tr>\n",
       "      <th>12</th>\n",
       "      <td>ENSG00000203734.11</td>\n",
       "      <td>ENSG00000203734</td>\n",
       "      <td>0.041004</td>\n",
       "      <td>0.327972</td>\n",
       "      <td>3.503061</td>\n",
       "      <td>1.0</td>\n",
       "      <td>ENSG00000203734.11</td>\n",
       "      <td>ECT2L</td>\n",
       "      <td>chr6</td>\n",
       "    </tr>\n",
       "    <tr>\n",
       "      <th>13</th>\n",
       "      <td>ENSG00000107099.15</td>\n",
       "      <td>ENSG00000107099</td>\n",
       "      <td>0.047995</td>\n",
       "      <td>-0.282705</td>\n",
       "      <td>-3.431753</td>\n",
       "      <td>-1.0</td>\n",
       "      <td>ENSG00000107099.15</td>\n",
       "      <td>DOCK8</td>\n",
       "      <td>chr9</td>\n",
       "    </tr>\n",
       "  </tbody>\n",
       "</table>\n",
       "</div>"
      ],
      "text/plain": [
       "               Feature        ensemblID  adj.P.Val     logFC         t  Dir  \\\n",
       "0    ENSG00000135697.9  ENSG00000135697   0.000161  0.567056  5.873402  1.0   \n",
       "1    ENSG00000198286.9  ENSG00000198286   0.004835 -0.236040 -4.585760 -1.0   \n",
       "2   ENSG00000095303.14  ENSG00000095303   0.005603 -0.340625 -4.514856 -1.0   \n",
       "3    ENSG00000270095.1  ENSG00000270095   0.007770  0.181196  4.329651  1.0   \n",
       "4   ENSG00000177990.11  ENSG00000177990   0.008681  0.160432  4.291095  1.0   \n",
       "5    ENSG00000162747.9  ENSG00000162747   0.013554  0.710359  4.100150  1.0   \n",
       "6    ENSG00000253988.1  ENSG00000253988   0.018819 -0.555268 -3.943861 -1.0   \n",
       "7   ENSG00000168952.15  ENSG00000168952   0.022333 -0.100187 -3.858805 -1.0   \n",
       "8   ENSG00000106714.17  ENSG00000106714   0.022511  0.111804  3.852368  1.0   \n",
       "9    ENSG00000107719.8  ENSG00000107719   0.034600 -0.161925 -3.616218 -1.0   \n",
       "10   ENSG00000164326.4  ENSG00000164326   0.035711  0.429425  3.587478  1.0   \n",
       "11   ENSG00000178573.6  ENSG00000178573   0.040637 -0.129271 -3.509009 -1.0   \n",
       "12  ENSG00000203734.11  ENSG00000203734   0.041004  0.327972  3.503061  1.0   \n",
       "13  ENSG00000107099.15  ENSG00000107099   0.047995 -0.282705 -3.431753 -1.0   \n",
       "\n",
       "               gene_id      gene_name seqname  \n",
       "0    ENSG00000135697.9           BCO1   chr16  \n",
       "1    ENSG00000198286.9         CARD11    chr7  \n",
       "2   ENSG00000095303.14          PTGS1    chr9  \n",
       "3    ENSG00000270095.1  RP11-214K3.18   chr12  \n",
       "4   ENSG00000177990.11        DPY19L2   chr12  \n",
       "5    ENSG00000162747.9         FCGR3B    chr1  \n",
       "6    ENSG00000253988.1  RP11-489O18.1    chr8  \n",
       "7   ENSG00000168952.15         STXBP6   chr14  \n",
       "8   ENSG00000106714.17        CNTNAP3    chr9  \n",
       "9    ENSG00000107719.8          PALD1   chr10  \n",
       "10   ENSG00000164326.4         CARTPT    chr5  \n",
       "11   ENSG00000178573.6            MAF   chr16  \n",
       "12  ENSG00000203734.11          ECT2L    chr6  \n",
       "13  ENSG00000107099.15          DOCK8    chr9  "
      ]
     },
     "execution_count": 22,
     "metadata": {},
     "output_type": "execute_result"
    }
   ],
   "source": [
    "dlpfc.merge(gtf_annot[['gene_id', 'gene_name', 'seqname']], \n",
    "            left_index=True, right_on='gene_id')\\\n",
    "     .merge(pd.DataFrame({'ensemblID': list(set(phase2_dlpfc['ensemblID']) & \n",
    "                                            set(phase3_caudate['ensemblID']))}), \n",
    "            on='ensemblID')"
   ]
  },
  {
   "cell_type": "code",
   "execution_count": 23,
   "metadata": {
    "execution": {
     "iopub.execute_input": "2021-11-24T15:03:22.187594Z",
     "iopub.status.busy": "2021-11-24T15:03:22.177234Z",
     "iopub.status.idle": "2021-11-24T15:03:22.331316Z",
     "shell.execute_reply": "2021-11-24T15:03:22.329861Z"
    }
   },
   "outputs": [
    {
     "data": {
      "text/html": [
       "<div>\n",
       "<style scoped>\n",
       "    .dataframe tbody tr th:only-of-type {\n",
       "        vertical-align: middle;\n",
       "    }\n",
       "\n",
       "    .dataframe tbody tr th {\n",
       "        vertical-align: top;\n",
       "    }\n",
       "\n",
       "    .dataframe thead th {\n",
       "        text-align: right;\n",
       "    }\n",
       "</style>\n",
       "<table border=\"1\" class=\"dataframe\">\n",
       "  <thead>\n",
       "    <tr style=\"text-align: right;\">\n",
       "      <th></th>\n",
       "      <th>Feature</th>\n",
       "      <th>ensemblID</th>\n",
       "      <th>adj.P.Val</th>\n",
       "      <th>logFC</th>\n",
       "      <th>t</th>\n",
       "      <th>Dir</th>\n",
       "      <th>gene_id</th>\n",
       "      <th>gene_name</th>\n",
       "      <th>seqname</th>\n",
       "    </tr>\n",
       "  </thead>\n",
       "  <tbody>\n",
       "    <tr>\n",
       "      <th>0</th>\n",
       "      <td>ENSG00000157303.10</td>\n",
       "      <td>ENSG00000157303</td>\n",
       "      <td>0.000647</td>\n",
       "      <td>-0.682818</td>\n",
       "      <td>-5.735726</td>\n",
       "      <td>-1.0</td>\n",
       "      <td>ENSG00000157303.10</td>\n",
       "      <td>SUSD3</td>\n",
       "      <td>chr9</td>\n",
       "    </tr>\n",
       "    <tr>\n",
       "      <th>1</th>\n",
       "      <td>ENSG00000253988.1</td>\n",
       "      <td>ENSG00000253988</td>\n",
       "      <td>0.001467</td>\n",
       "      <td>-0.804170</td>\n",
       "      <td>-5.300010</td>\n",
       "      <td>-1.0</td>\n",
       "      <td>ENSG00000253988.1</td>\n",
       "      <td>RP11-489O18.1</td>\n",
       "      <td>chr8</td>\n",
       "    </tr>\n",
       "    <tr>\n",
       "      <th>2</th>\n",
       "      <td>ENSG00000110876.9</td>\n",
       "      <td>ENSG00000110876</td>\n",
       "      <td>0.002355</td>\n",
       "      <td>-0.497023</td>\n",
       "      <td>-5.086652</td>\n",
       "      <td>-1.0</td>\n",
       "      <td>ENSG00000110876.9</td>\n",
       "      <td>SELPLG</td>\n",
       "      <td>chr12</td>\n",
       "    </tr>\n",
       "    <tr>\n",
       "      <th>3</th>\n",
       "      <td>ENSG00000159618.15</td>\n",
       "      <td>ENSG00000159618</td>\n",
       "      <td>0.005969</td>\n",
       "      <td>-0.581969</td>\n",
       "      <td>-4.771118</td>\n",
       "      <td>-1.0</td>\n",
       "      <td>ENSG00000159618.15</td>\n",
       "      <td>ADGRG5</td>\n",
       "      <td>chr16</td>\n",
       "    </tr>\n",
       "    <tr>\n",
       "      <th>4</th>\n",
       "      <td>ENSG00000140749.8</td>\n",
       "      <td>ENSG00000140749</td>\n",
       "      <td>0.007113</td>\n",
       "      <td>-0.589998</td>\n",
       "      <td>-4.682800</td>\n",
       "      <td>-1.0</td>\n",
       "      <td>ENSG00000140749.8</td>\n",
       "      <td>IGSF6</td>\n",
       "      <td>chr16</td>\n",
       "    </tr>\n",
       "    <tr>\n",
       "      <th>5</th>\n",
       "      <td>ENSG00000249740.2</td>\n",
       "      <td>ENSG00000249740</td>\n",
       "      <td>0.010842</td>\n",
       "      <td>0.567973</td>\n",
       "      <td>4.506132</td>\n",
       "      <td>1.0</td>\n",
       "      <td>ENSG00000249740.2</td>\n",
       "      <td>OSMR-AS1</td>\n",
       "      <td>chr5</td>\n",
       "    </tr>\n",
       "    <tr>\n",
       "      <th>6</th>\n",
       "      <td>ENSG00000249738.8</td>\n",
       "      <td>ENSG00000249738</td>\n",
       "      <td>0.014382</td>\n",
       "      <td>-0.412936</td>\n",
       "      <td>-4.347224</td>\n",
       "      <td>-1.0</td>\n",
       "      <td>ENSG00000249738.8</td>\n",
       "      <td>AC008697.1</td>\n",
       "      <td>chr5</td>\n",
       "    </tr>\n",
       "    <tr>\n",
       "      <th>7</th>\n",
       "      <td>ENSG00000009790.14</td>\n",
       "      <td>ENSG00000009790</td>\n",
       "      <td>0.017282</td>\n",
       "      <td>-0.436077</td>\n",
       "      <td>-4.258910</td>\n",
       "      <td>-1.0</td>\n",
       "      <td>ENSG00000009790.14</td>\n",
       "      <td>TRAF3IP3</td>\n",
       "      <td>chr1</td>\n",
       "    </tr>\n",
       "    <tr>\n",
       "      <th>8</th>\n",
       "      <td>ENSG00000084734.8</td>\n",
       "      <td>ENSG00000084734</td>\n",
       "      <td>0.025109</td>\n",
       "      <td>0.336828</td>\n",
       "      <td>4.061594</td>\n",
       "      <td>1.0</td>\n",
       "      <td>ENSG00000084734.8</td>\n",
       "      <td>GCKR</td>\n",
       "      <td>chr2</td>\n",
       "    </tr>\n",
       "    <tr>\n",
       "      <th>9</th>\n",
       "      <td>ENSG00000198286.9</td>\n",
       "      <td>ENSG00000198286</td>\n",
       "      <td>0.029920</td>\n",
       "      <td>-0.456828</td>\n",
       "      <td>-3.984090</td>\n",
       "      <td>-1.0</td>\n",
       "      <td>ENSG00000198286.9</td>\n",
       "      <td>CARD11</td>\n",
       "      <td>chr7</td>\n",
       "    </tr>\n",
       "    <tr>\n",
       "      <th>10</th>\n",
       "      <td>ENSG00000053501.12</td>\n",
       "      <td>ENSG00000053501</td>\n",
       "      <td>0.031459</td>\n",
       "      <td>-0.120799</td>\n",
       "      <td>-3.953364</td>\n",
       "      <td>-1.0</td>\n",
       "      <td>ENSG00000053501.12</td>\n",
       "      <td>USE1</td>\n",
       "      <td>chr19</td>\n",
       "    </tr>\n",
       "    <tr>\n",
       "      <th>11</th>\n",
       "      <td>ENSG00000270048.1</td>\n",
       "      <td>ENSG00000270048</td>\n",
       "      <td>0.031459</td>\n",
       "      <td>0.200951</td>\n",
       "      <td>3.949902</td>\n",
       "      <td>1.0</td>\n",
       "      <td>ENSG00000270048.1</td>\n",
       "      <td>RP11-214K3.22</td>\n",
       "      <td>chr12</td>\n",
       "    </tr>\n",
       "    <tr>\n",
       "      <th>12</th>\n",
       "      <td>ENSG00000235750.9</td>\n",
       "      <td>ENSG00000235750</td>\n",
       "      <td>0.044530</td>\n",
       "      <td>0.483569</td>\n",
       "      <td>3.771899</td>\n",
       "      <td>1.0</td>\n",
       "      <td>ENSG00000235750.9</td>\n",
       "      <td>KIAA0040</td>\n",
       "      <td>chr1</td>\n",
       "    </tr>\n",
       "    <tr>\n",
       "      <th>13</th>\n",
       "      <td>ENSG00000104517.12</td>\n",
       "      <td>ENSG00000104517</td>\n",
       "      <td>0.046450</td>\n",
       "      <td>0.073471</td>\n",
       "      <td>3.729173</td>\n",
       "      <td>1.0</td>\n",
       "      <td>ENSG00000104517.12</td>\n",
       "      <td>UBR5</td>\n",
       "      <td>chr8</td>\n",
       "    </tr>\n",
       "  </tbody>\n",
       "</table>\n",
       "</div>"
      ],
      "text/plain": [
       "               Feature        ensemblID  adj.P.Val     logFC         t  Dir  \\\n",
       "0   ENSG00000157303.10  ENSG00000157303   0.000647 -0.682818 -5.735726 -1.0   \n",
       "1    ENSG00000253988.1  ENSG00000253988   0.001467 -0.804170 -5.300010 -1.0   \n",
       "2    ENSG00000110876.9  ENSG00000110876   0.002355 -0.497023 -5.086652 -1.0   \n",
       "3   ENSG00000159618.15  ENSG00000159618   0.005969 -0.581969 -4.771118 -1.0   \n",
       "4    ENSG00000140749.8  ENSG00000140749   0.007113 -0.589998 -4.682800 -1.0   \n",
       "5    ENSG00000249740.2  ENSG00000249740   0.010842  0.567973  4.506132  1.0   \n",
       "6    ENSG00000249738.8  ENSG00000249738   0.014382 -0.412936 -4.347224 -1.0   \n",
       "7   ENSG00000009790.14  ENSG00000009790   0.017282 -0.436077 -4.258910 -1.0   \n",
       "8    ENSG00000084734.8  ENSG00000084734   0.025109  0.336828  4.061594  1.0   \n",
       "9    ENSG00000198286.9  ENSG00000198286   0.029920 -0.456828 -3.984090 -1.0   \n",
       "10  ENSG00000053501.12  ENSG00000053501   0.031459 -0.120799 -3.953364 -1.0   \n",
       "11   ENSG00000270048.1  ENSG00000270048   0.031459  0.200951  3.949902  1.0   \n",
       "12   ENSG00000235750.9  ENSG00000235750   0.044530  0.483569  3.771899  1.0   \n",
       "13  ENSG00000104517.12  ENSG00000104517   0.046450  0.073471  3.729173  1.0   \n",
       "\n",
       "               gene_id      gene_name seqname  \n",
       "0   ENSG00000157303.10          SUSD3    chr9  \n",
       "1    ENSG00000253988.1  RP11-489O18.1    chr8  \n",
       "2    ENSG00000110876.9         SELPLG   chr12  \n",
       "3   ENSG00000159618.15         ADGRG5   chr16  \n",
       "4    ENSG00000140749.8          IGSF6   chr16  \n",
       "5    ENSG00000249740.2       OSMR-AS1    chr5  \n",
       "6    ENSG00000249738.8     AC008697.1    chr5  \n",
       "7   ENSG00000009790.14       TRAF3IP3    chr1  \n",
       "8    ENSG00000084734.8           GCKR    chr2  \n",
       "9    ENSG00000198286.9         CARD11    chr7  \n",
       "10  ENSG00000053501.12           USE1   chr19  \n",
       "11   ENSG00000270048.1  RP11-214K3.22   chr12  \n",
       "12   ENSG00000235750.9       KIAA0040    chr1  \n",
       "13  ENSG00000104517.12           UBR5    chr8  "
      ]
     },
     "execution_count": 23,
     "metadata": {},
     "output_type": "execute_result"
    }
   ],
   "source": [
    "hippo.merge(gtf_annot[['gene_id', 'gene_name', 'seqname']], \n",
    "            left_index=True, right_on='gene_id')\\\n",
    "     .merge(pd.DataFrame({'ensemblID': list(set(phase2_hippo['ensemblID']) & \n",
    "                                            set(phase3_caudate['ensemblID']))}), \n",
    "            on='ensemblID')"
   ]
  },
  {
   "cell_type": "code",
   "execution_count": 24,
   "metadata": {
    "execution": {
     "iopub.execute_input": "2021-11-24T15:03:22.353903Z",
     "iopub.status.busy": "2021-11-24T15:03:22.352124Z",
     "iopub.status.idle": "2021-11-24T15:03:22.503177Z",
     "shell.execute_reply": "2021-11-24T15:03:22.501488Z"
    }
   },
   "outputs": [
    {
     "data": {
      "text/html": [
       "<div>\n",
       "<style scoped>\n",
       "    .dataframe tbody tr th:only-of-type {\n",
       "        vertical-align: middle;\n",
       "    }\n",
       "\n",
       "    .dataframe tbody tr th {\n",
       "        vertical-align: top;\n",
       "    }\n",
       "\n",
       "    .dataframe thead th {\n",
       "        text-align: right;\n",
       "    }\n",
       "</style>\n",
       "<table border=\"1\" class=\"dataframe\">\n",
       "  <thead>\n",
       "    <tr style=\"text-align: right;\">\n",
       "      <th></th>\n",
       "      <th>Feature</th>\n",
       "      <th>ensemblID</th>\n",
       "      <th>adj.P.Val</th>\n",
       "      <th>logFC</th>\n",
       "      <th>t</th>\n",
       "      <th>Dir</th>\n",
       "      <th>gene_id</th>\n",
       "      <th>gene_name</th>\n",
       "      <th>seqname</th>\n",
       "    </tr>\n",
       "  </thead>\n",
       "  <tbody>\n",
       "    <tr>\n",
       "      <th>0</th>\n",
       "      <td>ENSG00000253988.1</td>\n",
       "      <td>ENSG00000253988</td>\n",
       "      <td>0.001467</td>\n",
       "      <td>-0.804170</td>\n",
       "      <td>-5.300010</td>\n",
       "      <td>-1.0</td>\n",
       "      <td>ENSG00000253988.1</td>\n",
       "      <td>RP11-489O18.1</td>\n",
       "      <td>chr8</td>\n",
       "    </tr>\n",
       "    <tr>\n",
       "      <th>1</th>\n",
       "      <td>ENSG00000159958.5</td>\n",
       "      <td>ENSG00000159958</td>\n",
       "      <td>0.002355</td>\n",
       "      <td>-0.572210</td>\n",
       "      <td>-5.111428</td>\n",
       "      <td>-1.0</td>\n",
       "      <td>ENSG00000159958.5</td>\n",
       "      <td>TNFRSF13C</td>\n",
       "      <td>chr22</td>\n",
       "    </tr>\n",
       "    <tr>\n",
       "      <th>2</th>\n",
       "      <td>ENSG00000172243.17</td>\n",
       "      <td>ENSG00000172243</td>\n",
       "      <td>0.024160</td>\n",
       "      <td>-0.520501</td>\n",
       "      <td>-4.114291</td>\n",
       "      <td>-1.0</td>\n",
       "      <td>ENSG00000172243.17</td>\n",
       "      <td>CLEC7A</td>\n",
       "      <td>chr12</td>\n",
       "    </tr>\n",
       "    <tr>\n",
       "      <th>3</th>\n",
       "      <td>ENSG00000171659.13</td>\n",
       "      <td>ENSG00000171659</td>\n",
       "      <td>0.025109</td>\n",
       "      <td>-0.508756</td>\n",
       "      <td>-4.061452</td>\n",
       "      <td>-1.0</td>\n",
       "      <td>ENSG00000171659.13</td>\n",
       "      <td>GPR34</td>\n",
       "      <td>chrX</td>\n",
       "    </tr>\n",
       "    <tr>\n",
       "      <th>4</th>\n",
       "      <td>ENSG00000198286.9</td>\n",
       "      <td>ENSG00000198286</td>\n",
       "      <td>0.029920</td>\n",
       "      <td>-0.456828</td>\n",
       "      <td>-3.984090</td>\n",
       "      <td>-1.0</td>\n",
       "      <td>ENSG00000198286.9</td>\n",
       "      <td>CARD11</td>\n",
       "      <td>chr7</td>\n",
       "    </tr>\n",
       "    <tr>\n",
       "      <th>5</th>\n",
       "      <td>ENSG00000184574.9</td>\n",
       "      <td>ENSG00000184574</td>\n",
       "      <td>0.031833</td>\n",
       "      <td>-0.393921</td>\n",
       "      <td>-3.940339</td>\n",
       "      <td>-1.0</td>\n",
       "      <td>ENSG00000184574.9</td>\n",
       "      <td>LPAR5</td>\n",
       "      <td>chr12</td>\n",
       "    </tr>\n",
       "    <tr>\n",
       "      <th>6</th>\n",
       "      <td>ENSG00000182578.13</td>\n",
       "      <td>ENSG00000182578</td>\n",
       "      <td>0.038886</td>\n",
       "      <td>-0.366242</td>\n",
       "      <td>-3.856809</td>\n",
       "      <td>-1.0</td>\n",
       "      <td>ENSG00000182578.13</td>\n",
       "      <td>CSF1R</td>\n",
       "      <td>chr5</td>\n",
       "    </tr>\n",
       "  </tbody>\n",
       "</table>\n",
       "</div>"
      ],
      "text/plain": [
       "              Feature        ensemblID  adj.P.Val     logFC         t  Dir  \\\n",
       "0   ENSG00000253988.1  ENSG00000253988   0.001467 -0.804170 -5.300010 -1.0   \n",
       "1   ENSG00000159958.5  ENSG00000159958   0.002355 -0.572210 -5.111428 -1.0   \n",
       "2  ENSG00000172243.17  ENSG00000172243   0.024160 -0.520501 -4.114291 -1.0   \n",
       "3  ENSG00000171659.13  ENSG00000171659   0.025109 -0.508756 -4.061452 -1.0   \n",
       "4   ENSG00000198286.9  ENSG00000198286   0.029920 -0.456828 -3.984090 -1.0   \n",
       "5   ENSG00000184574.9  ENSG00000184574   0.031833 -0.393921 -3.940339 -1.0   \n",
       "6  ENSG00000182578.13  ENSG00000182578   0.038886 -0.366242 -3.856809 -1.0   \n",
       "\n",
       "              gene_id      gene_name seqname  \n",
       "0   ENSG00000253988.1  RP11-489O18.1    chr8  \n",
       "1   ENSG00000159958.5      TNFRSF13C   chr22  \n",
       "2  ENSG00000172243.17         CLEC7A   chr12  \n",
       "3  ENSG00000171659.13          GPR34    chrX  \n",
       "4   ENSG00000198286.9         CARD11    chr7  \n",
       "5   ENSG00000184574.9          LPAR5   chr12  \n",
       "6  ENSG00000182578.13          CSF1R    chr5  "
      ]
     },
     "execution_count": 24,
     "metadata": {},
     "output_type": "execute_result"
    }
   ],
   "source": [
    "hippo.merge(gtf_annot[['gene_id', 'gene_name', 'seqname']], \n",
    "            left_index=True, right_on='gene_id')\\\n",
    "               .merge(pd.DataFrame({'ensemblID': list(set(phase2_dlpfc['ensemblID']) & \n",
    "                                                      set(phase2_hippo['ensemblID']))}), \n",
    "                      on='ensemblID')"
   ]
  },
  {
   "cell_type": "code",
   "execution_count": 25,
   "metadata": {
    "execution": {
     "iopub.execute_input": "2021-11-24T15:03:22.525445Z",
     "iopub.status.busy": "2021-11-24T15:03:22.523713Z",
     "iopub.status.idle": "2021-11-24T15:03:22.536780Z",
     "shell.execute_reply": "2021-11-24T15:03:22.534713Z"
    }
   },
   "outputs": [
    {
     "name": "stdout",
     "output_type": "stream",
     "text": [
      "0.00% of shared DEG are allosomal!\n"
     ]
    }
   ],
   "source": [
    "dd = np.sum(shared_df.seqname.isin(['chrX', 'chrY'])) / shared_df.shape[0] * 100\n",
    "print(\"%0.2f%% of shared DEG are allosomal!\" % dd)"
   ]
  },
  {
   "cell_type": "code",
   "execution_count": 26,
   "metadata": {
    "execution": {
     "iopub.execute_input": "2021-11-24T15:03:22.570067Z",
     "iopub.status.busy": "2021-11-24T15:03:22.568030Z",
     "iopub.status.idle": "2021-11-24T15:03:22.843801Z",
     "shell.execute_reply": "2021-11-24T15:03:22.842106Z"
    }
   },
   "outputs": [],
   "source": [
    "gtf_annot['ensemblID'] = gtf_annot.gene_id.str.replace(\"\\\\..*\", \"\", regex=True)\n",
    "gtf_annot[[\"gene_id\", 'ensemblID', 'gene_name', 'seqname', 'gene_type']]\\\n",
    "    .merge(df, left_on='ensemblID', right_index=True)\\\n",
    "    .to_csv('brainseq_deg_across_tissues_comparison_maleSpecific.csv')"
   ]
  },
  {
   "cell_type": "markdown",
   "metadata": {},
   "source": [
    "## Comparison with CommonMind"
   ]
  },
  {
   "cell_type": "code",
   "execution_count": 27,
   "metadata": {
    "execution": {
     "iopub.execute_input": "2021-11-24T15:03:22.863765Z",
     "iopub.status.busy": "2021-11-24T15:03:22.861488Z",
     "iopub.status.idle": "2021-11-24T15:03:22.933250Z",
     "shell.execute_reply": "2021-11-24T15:03:22.931217Z"
    }
   },
   "outputs": [
    {
     "data": {
      "text/plain": [
       "Dir\n",
       "-1.0     63\n",
       " 1.0    109\n",
       "dtype: int64"
      ]
     },
     "execution_count": 27,
     "metadata": {},
     "output_type": "execute_result"
    }
   ],
   "source": [
    "cmc_dlpfc = get_deg(config['cmc_dlpfc'])\n",
    "cmc_dlpfc.groupby('Dir').size()"
   ]
  },
  {
   "cell_type": "code",
   "execution_count": 28,
   "metadata": {
    "execution": {
     "iopub.execute_input": "2021-11-24T15:03:22.955473Z",
     "iopub.status.busy": "2021-11-24T15:03:22.952799Z",
     "iopub.status.idle": "2021-11-24T15:03:22.969394Z",
     "shell.execute_reply": "2021-11-24T15:03:22.967425Z"
    }
   },
   "outputs": [
    {
     "data": {
      "text/plain": [
       "(172, 6)"
      ]
     },
     "execution_count": 28,
     "metadata": {},
     "output_type": "execute_result"
    }
   ],
   "source": [
    "cmc_dlpfc[(cmc_dlpfc['adj.P.Val'] < 0.05)].shape"
   ]
  },
  {
   "cell_type": "markdown",
   "metadata": {},
   "source": [
    "### Upset Plot"
   ]
  },
  {
   "cell_type": "code",
   "execution_count": 29,
   "metadata": {
    "execution": {
     "iopub.execute_input": "2021-11-24T15:03:23.009394Z",
     "iopub.status.busy": "2021-11-24T15:03:23.007455Z",
     "iopub.status.idle": "2021-11-24T15:03:23.019209Z",
     "shell.execute_reply": "2021-11-24T15:03:23.017138Z"
    }
   },
   "outputs": [],
   "source": [
    "cmc = cmc_dlpfc[(cmc_dlpfc['adj.P.Val'] < 0.05)].copy()\n",
    "cmc['CMC DLPFC'] = 1\n",
    "cmc = cmc[['ensemblID', 'CMC DLPFC']].groupby('ensemblID').first().reset_index()"
   ]
  },
  {
   "cell_type": "code",
   "execution_count": 30,
   "metadata": {
    "execution": {
     "iopub.execute_input": "2021-11-24T15:03:23.040248Z",
     "iopub.status.busy": "2021-11-24T15:03:23.038302Z",
     "iopub.status.idle": "2021-11-24T15:03:25.604375Z",
     "shell.execute_reply": "2021-11-24T15:03:25.605637Z"
    }
   },
   "outputs": [
    {
     "name": "stdout",
     "output_type": "stream",
     "text": [
      "(2211, 2) (2211, 2) (2211, 2) (2211, 2)\n"
     ]
    }
   ],
   "source": [
    "geneList = pd.merge(phase3_caudate[['ensemblID']], phase2_dlpfc[['ensemblID']], on=['ensemblID'], how='outer')\\\n",
    "             .merge(phase2_hippo[['ensemblID']], on=['ensemblID'], how='outer')\\\n",
    "             .merge(cmc[['ensemblID']], on=['ensemblID'], how='outer')\\\n",
    "             .groupby(['ensemblID']).first().reset_index()\n",
    "\n",
    "newC = pd.merge(geneList, phase3_caudate, on=['ensemblID'], how='outer').fillna(0)\n",
    "newC['Caudate'] = newC['Caudate'].astype('int')\n",
    "\n",
    "newD1 = pd.merge(geneList, phase2_dlpfc, on=['ensemblID'], how='outer').fillna(0)\n",
    "newD1['DLPFC'] = newD1['DLPFC'].astype('int')\n",
    "\n",
    "newH = pd.merge(geneList, phase2_hippo, on=['ensemblID'], how='outer').fillna(0)\n",
    "newH['Hippocampus'] = newH['Hippocampus'].astype('int')\n",
    "\n",
    "newCMC = pd.merge(geneList, cmc, on=['ensemblID'], how='outer').fillna(0)\n",
    "newCMC['CMC DLPFC'] = newCMC['CMC DLPFC'].astype('int')\n",
    "\n",
    "print(newC.shape, newH.shape, newD1.shape, newCMC.shape)"
   ]
  },
  {
   "cell_type": "code",
   "execution_count": 31,
   "metadata": {
    "execution": {
     "iopub.execute_input": "2021-11-24T15:03:25.662589Z",
     "iopub.status.busy": "2021-11-24T15:03:25.660555Z",
     "iopub.status.idle": "2021-11-24T15:03:25.676636Z",
     "shell.execute_reply": "2021-11-24T15:03:25.675092Z"
    }
   },
   "outputs": [
    {
     "data": {
      "text/html": [
       "<div>\n",
       "<style scoped>\n",
       "    .dataframe tbody tr th:only-of-type {\n",
       "        vertical-align: middle;\n",
       "    }\n",
       "\n",
       "    .dataframe tbody tr th {\n",
       "        vertical-align: top;\n",
       "    }\n",
       "\n",
       "    .dataframe thead th {\n",
       "        text-align: right;\n",
       "    }\n",
       "</style>\n",
       "<table border=\"1\" class=\"dataframe\">\n",
       "  <thead>\n",
       "    <tr style=\"text-align: right;\">\n",
       "      <th></th>\n",
       "      <th>Caudate</th>\n",
       "      <th>DLPFC</th>\n",
       "      <th>Hippocampus</th>\n",
       "      <th>CMC DLPFC</th>\n",
       "    </tr>\n",
       "    <tr>\n",
       "      <th>ensemblID</th>\n",
       "      <th></th>\n",
       "      <th></th>\n",
       "      <th></th>\n",
       "      <th></th>\n",
       "    </tr>\n",
       "  </thead>\n",
       "  <tbody>\n",
       "    <tr>\n",
       "      <th>ENSG00000000971</th>\n",
       "      <td>1</td>\n",
       "      <td>0</td>\n",
       "      <td>0</td>\n",
       "      <td>0</td>\n",
       "    </tr>\n",
       "    <tr>\n",
       "      <th>ENSG00000002330</th>\n",
       "      <td>1</td>\n",
       "      <td>0</td>\n",
       "      <td>0</td>\n",
       "      <td>0</td>\n",
       "    </tr>\n",
       "  </tbody>\n",
       "</table>\n",
       "</div>"
      ],
      "text/plain": [
       "                 Caudate  DLPFC  Hippocampus  CMC DLPFC\n",
       "ensemblID                                              \n",
       "ENSG00000000971        1      0            0          0\n",
       "ENSG00000002330        1      0            0          0"
      ]
     },
     "execution_count": 31,
     "metadata": {},
     "output_type": "execute_result"
    }
   ],
   "source": [
    "df = pd.concat([newC.set_index(['ensemblID']), newD1.set_index(['ensemblID']), \n",
    "                newH.set_index(['ensemblID']), newCMC.set_index(['ensemblID'])], axis=1, join='outer')\n",
    "df.head(2)"
   ]
  },
  {
   "cell_type": "code",
   "execution_count": 32,
   "metadata": {
    "execution": {
     "iopub.execute_input": "2021-11-24T15:03:25.696227Z",
     "iopub.status.busy": "2021-11-24T15:03:25.694053Z",
     "iopub.status.idle": "2021-11-24T15:03:25.774805Z",
     "shell.execute_reply": "2021-11-24T15:03:25.772968Z"
    }
   },
   "outputs": [],
   "source": [
    "%%R \n",
    "cmc = subset_pvalue('../../../cmc_dlpfc/male_analysis/metrics_summary/_m/male_specific_DE_genes.txt',\n",
    "                    0.05)\n",
    "\n",
    "lt = list(Caudate = caudate,\n",
    "          DLPFC = dlpfc,\n",
    "          Hippocampus = hippo, \n",
    "          `CMC DLPFC` = cmc)\n",
    "\n",
    "m = make_comb_mat(lt)"
   ]
  },
  {
   "cell_type": "code",
   "execution_count": 33,
   "metadata": {
    "execution": {
     "iopub.execute_input": "2021-11-24T15:03:25.796262Z",
     "iopub.status.busy": "2021-11-24T15:03:25.794375Z",
     "iopub.status.idle": "2021-11-24T15:03:26.032966Z",
     "shell.execute_reply": "2021-11-24T15:03:26.031253Z"
    }
   },
   "outputs": [
    {
     "name": "stdout",
     "output_type": "stream",
     "text": [
      "png \n",
      "  2 \n"
     ]
    }
   ],
   "source": [
    "%%R\n",
    "right_annot = upset_right_annotation(\n",
    "    m, ylim = c(0, 2000),\n",
    "    gp = gpar(fill = \"black\"),\n",
    "    annotation_name_side = \"bottom\",\n",
    "    axis_param = list(side = \"bottom\"))\n",
    "\n",
    "top_annot = upset_top_annotation(\n",
    "    m, height=unit(7, \"cm\"), \n",
    "    ylim = c(0, 2000),\n",
    "    gp=gpar(fill=cbb_palette[comb_degree(m)]),\n",
    "    annotation_name_rot = 90)\n",
    "\n",
    "pdf('cmc_sex_tissue_upsetR_DEgenes_maleSpecific.pdf', width=10, height=5)\n",
    "ht = draw(UpSet(m, pt_size=unit(6, \"mm\"), lwd=3, \n",
    "                comb_col=cbb_palette[comb_degree(m)], \n",
    "                set_order = c(\"Caudate\", \"DLPFC\", \"Hippocampus\", \"CMC DLPFC\"), \n",
    "                comb_order = order(-comb_size(m)), \n",
    "                row_names_gp = gpar(fontsize = 16, fontface='bold'),\n",
    "                right_annotation = right_annot, \n",
    "                top_annotation = top_annot))\n",
    "od = column_order(ht)\n",
    "cs = comb_size(m)\n",
    "decorate_annotation(\"intersection_size\", {\n",
    "    grid.text(cs[od], x = seq_along(cs), y = unit(cs[od], \"native\") + \n",
    "              unit(6, \"pt\"), \n",
    "        default.units = \"native\", just = \"bottom\", gp = gpar(fontsize = 11))\n",
    "})\n",
    "dev.off()"
   ]
  },
  {
   "cell_type": "code",
   "execution_count": 34,
   "metadata": {
    "execution": {
     "iopub.execute_input": "2021-11-24T15:03:26.061400Z",
     "iopub.status.busy": "2021-11-24T15:03:26.059554Z",
     "iopub.status.idle": "2021-11-24T15:03:26.540787Z",
     "shell.execute_reply": "2021-11-24T15:03:26.539019Z"
    }
   },
   "outputs": [
    {
     "name": "stdout",
     "output_type": "stream",
     "text": [
      "png \n",
      "  2 \n"
     ]
    }
   ],
   "source": [
    "%%R\n",
    "right_ha = rowAnnotation(\n",
    "    \"Intersection\\nsize\" = anno_barplot(comb_size(m), border=F,\n",
    "                                        ylim = c(0, 2000), \n",
    "                                        gp=gpar(fill=cbb_palette[comb_degree(m)]),\n",
    "                                        width = unit(7, \"cm\")))\n",
    "top_ha = HeatmapAnnotation(\n",
    "    \"Set size\" = anno_barplot(set_size(m), border=F,\n",
    "                              ylim = c(0, 2000),\n",
    "                              gp = gpar(fill = \"black\"), \n",
    "                              height = unit(2, \"cm\")), \n",
    "    gap = unit(2, \"mm\"), annotation_name_side = \"left\", \n",
    "    annotation_name_rot = 90)\n",
    "\n",
    "pdf(\"cmc_sex_tissue_upsetR_DEgenes_transpose_maleSpecific.pdf\", width=6, height=10)\n",
    "ht = draw(UpSet(t(m), pt_size=unit(5, \"mm\"), lwd=3,\n",
    "                comb_order = order(-comb_size(m)),\n",
    "                comb_col=cbb_palette[comb_degree(m)], \n",
    "                set_order = c(\"Caudate\", \"DLPFC\", \"Hippocampus\", \"CMC DLPFC\"), \n",
    "                column_names_gp = gpar(fontsize = 16, fontface='bold'),\n",
    "                right_annotation = right_ha, top_annotation=top_ha))\n",
    "\n",
    "od = rev(row_order(ht))\n",
    "cs = comb_size(m)\n",
    "decorate_annotation(\"Intersection\\nsize\", {\n",
    "    grid.text(cs[od], y = seq_along(cs), x = unit(cs[od], \"native\") + \n",
    "              unit(6, \"pt\"), \n",
    "        default.units = \"native\", just = \"left\", gp = gpar(fontsize = 11))\n",
    "})\n",
    "dev.off()"
   ]
  },
  {
   "cell_type": "code",
   "execution_count": 35,
   "metadata": {
    "execution": {
     "iopub.execute_input": "2021-11-24T15:03:26.565486Z",
     "iopub.status.busy": "2021-11-24T15:03:26.563684Z",
     "iopub.status.idle": "2021-11-24T15:03:26.638042Z",
     "shell.execute_reply": "2021-11-24T15:03:26.636512Z"
    }
   },
   "outputs": [
    {
     "data": {
      "text/html": [
       "<div>\n",
       "<style scoped>\n",
       "    .dataframe tbody tr th:only-of-type {\n",
       "        vertical-align: middle;\n",
       "    }\n",
       "\n",
       "    .dataframe tbody tr th {\n",
       "        vertical-align: top;\n",
       "    }\n",
       "\n",
       "    .dataframe thead th {\n",
       "        text-align: right;\n",
       "    }\n",
       "</style>\n",
       "<table border=\"1\" class=\"dataframe\">\n",
       "  <thead>\n",
       "    <tr style=\"text-align: right;\">\n",
       "      <th></th>\n",
       "      <th>Feature</th>\n",
       "      <th>gencodeID</th>\n",
       "      <th>Symbol</th>\n",
       "      <th>ensemblID</th>\n",
       "      <th>Chrom</th>\n",
       "      <th>logFC</th>\n",
       "      <th>t</th>\n",
       "      <th>adj.P.Val</th>\n",
       "      <th>Female_Pval</th>\n",
       "      <th>Female_FDR</th>\n",
       "      <th>Type</th>\n",
       "      <th>Dir</th>\n",
       "    </tr>\n",
       "  </thead>\n",
       "  <tbody>\n",
       "    <tr>\n",
       "      <th>0</th>\n",
       "      <td>ENSG00000119411.10</td>\n",
       "      <td>ENSG00000119411.10</td>\n",
       "      <td>BSPRY</td>\n",
       "      <td>ENSG00000119411</td>\n",
       "      <td>chr9</td>\n",
       "      <td>0.280110</td>\n",
       "      <td>5.861029</td>\n",
       "      <td>0.000028</td>\n",
       "      <td>0.439030</td>\n",
       "      <td>0.454209</td>\n",
       "      <td>gene</td>\n",
       "      <td>1.0</td>\n",
       "    </tr>\n",
       "    <tr>\n",
       "      <th>1</th>\n",
       "      <td>ENSG00000159871.14</td>\n",
       "      <td>ENSG00000159871.14</td>\n",
       "      <td>LYPD5</td>\n",
       "      <td>ENSG00000159871</td>\n",
       "      <td>chr19</td>\n",
       "      <td>0.213822</td>\n",
       "      <td>5.885126</td>\n",
       "      <td>0.000028</td>\n",
       "      <td>0.362537</td>\n",
       "      <td>0.391824</td>\n",
       "      <td>gene</td>\n",
       "      <td>1.0</td>\n",
       "    </tr>\n",
       "    <tr>\n",
       "      <th>2</th>\n",
       "      <td>ENSG00000231752.5</td>\n",
       "      <td>ENSG00000231752.5</td>\n",
       "      <td>EMBP1</td>\n",
       "      <td>ENSG00000231752</td>\n",
       "      <td>chr1</td>\n",
       "      <td>-0.189426</td>\n",
       "      <td>-5.536119</td>\n",
       "      <td>0.000083</td>\n",
       "      <td>0.085029</td>\n",
       "      <td>0.116914</td>\n",
       "      <td>gene</td>\n",
       "      <td>-1.0</td>\n",
       "    </tr>\n",
       "    <tr>\n",
       "      <th>3</th>\n",
       "      <td>ENSG00000163833.7</td>\n",
       "      <td>ENSG00000163833.7</td>\n",
       "      <td>FBXO40</td>\n",
       "      <td>ENSG00000163833</td>\n",
       "      <td>chr3</td>\n",
       "      <td>0.253446</td>\n",
       "      <td>5.285296</td>\n",
       "      <td>0.000219</td>\n",
       "      <td>0.232535</td>\n",
       "      <td>0.268937</td>\n",
       "      <td>gene</td>\n",
       "      <td>1.0</td>\n",
       "    </tr>\n",
       "    <tr>\n",
       "      <th>4</th>\n",
       "      <td>ENSG00000158457.5</td>\n",
       "      <td>ENSG00000158457.5</td>\n",
       "      <td>TSPAN33</td>\n",
       "      <td>ENSG00000158457</td>\n",
       "      <td>chr7</td>\n",
       "      <td>0.167825</td>\n",
       "      <td>4.670299</td>\n",
       "      <td>0.001520</td>\n",
       "      <td>0.214432</td>\n",
       "      <td>0.252556</td>\n",
       "      <td>gene</td>\n",
       "      <td>1.0</td>\n",
       "    </tr>\n",
       "  </tbody>\n",
       "</table>\n",
       "</div>"
      ],
      "text/plain": [
       "              Feature           gencodeID   Symbol        ensemblID  Chrom  \\\n",
       "0  ENSG00000119411.10  ENSG00000119411.10    BSPRY  ENSG00000119411   chr9   \n",
       "1  ENSG00000159871.14  ENSG00000159871.14    LYPD5  ENSG00000159871  chr19   \n",
       "2   ENSG00000231752.5   ENSG00000231752.5    EMBP1  ENSG00000231752   chr1   \n",
       "3   ENSG00000163833.7   ENSG00000163833.7   FBXO40  ENSG00000163833   chr3   \n",
       "4   ENSG00000158457.5   ENSG00000158457.5  TSPAN33  ENSG00000158457   chr7   \n",
       "\n",
       "      logFC         t  adj.P.Val  Female_Pval  Female_FDR  Type  Dir  \n",
       "0  0.280110  5.861029   0.000028     0.439030    0.454209  gene  1.0  \n",
       "1  0.213822  5.885126   0.000028     0.362537    0.391824  gene  1.0  \n",
       "2 -0.189426 -5.536119   0.000083     0.085029    0.116914  gene -1.0  \n",
       "3  0.253446  5.285296   0.000219     0.232535    0.268937  gene  1.0  \n",
       "4  0.167825  4.670299   0.001520     0.214432    0.252556  gene  1.0  "
      ]
     },
     "execution_count": 35,
     "metadata": {},
     "output_type": "execute_result"
    }
   ],
   "source": [
    "dft = pd.read_csv('../../../cmc_dlpfc/male_analysis/metrics_summary/_m/male_specific_DE_genes.txt',\n",
    "                  sep='\\t')\n",
    "dft['Dir'] = np.sign(dft['t'])\n",
    "dft.head()"
   ]
  },
  {
   "cell_type": "code",
   "execution_count": 36,
   "metadata": {
    "execution": {
     "iopub.execute_input": "2021-11-24T15:03:26.694469Z",
     "iopub.status.busy": "2021-11-24T15:03:26.657660Z",
     "iopub.status.idle": "2021-11-24T15:03:26.709535Z",
     "shell.execute_reply": "2021-11-24T15:03:26.707912Z"
    }
   },
   "outputs": [
    {
     "data": {
      "text/html": [
       "<div>\n",
       "<style scoped>\n",
       "    .dataframe tbody tr th:only-of-type {\n",
       "        vertical-align: middle;\n",
       "    }\n",
       "\n",
       "    .dataframe tbody tr th {\n",
       "        vertical-align: top;\n",
       "    }\n",
       "\n",
       "    .dataframe thead th {\n",
       "        text-align: right;\n",
       "    }\n",
       "</style>\n",
       "<table border=\"1\" class=\"dataframe\">\n",
       "  <thead>\n",
       "    <tr style=\"text-align: right;\">\n",
       "      <th></th>\n",
       "      <th>Feature</th>\n",
       "      <th>ensemblID</th>\n",
       "      <th>Chrom</th>\n",
       "      <th>Symbol</th>\n",
       "      <th>Dir</th>\n",
       "    </tr>\n",
       "  </thead>\n",
       "  <tbody>\n",
       "  </tbody>\n",
       "</table>\n",
       "</div>"
      ],
      "text/plain": [
       "Empty DataFrame\n",
       "Columns: [Feature, ensemblID, Chrom, Symbol, Dir]\n",
       "Index: []"
      ]
     },
     "execution_count": 36,
     "metadata": {},
     "output_type": "execute_result"
    }
   ],
   "source": [
    "shared_df = dft.loc[:, ['Feature', 'ensemblID', 'Chrom', 'Symbol', 'Dir']]\\\n",
    "               .merge(pd.DataFrame({'ensemblID': list(set(phase2_dlpfc['ensemblID']) & \n",
    "                                                      set(phase2_hippo['ensemblID']) & \n",
    "                                                      set(phase3_caudate['ensemblID']) & \n",
    "                                                      set(cmc['ensemblID']))}), \n",
    "                      on='ensemblID')\n",
    "shared_df.to_csv('cmc_shared_degs_annotation_maleSpecific.txt', sep='\\t', \n",
    "                 index=False, header=True)\n",
    "shared_df"
   ]
  },
  {
   "cell_type": "code",
   "execution_count": 37,
   "metadata": {
    "execution": {
     "iopub.execute_input": "2021-11-24T15:03:26.741209Z",
     "iopub.status.busy": "2021-11-24T15:03:26.739480Z",
     "iopub.status.idle": "2021-11-24T15:03:26.886478Z",
     "shell.execute_reply": "2021-11-24T15:03:26.884227Z"
    }
   },
   "outputs": [
    {
     "data": {
      "text/html": [
       "<div>\n",
       "<style scoped>\n",
       "    .dataframe tbody tr th:only-of-type {\n",
       "        vertical-align: middle;\n",
       "    }\n",
       "\n",
       "    .dataframe tbody tr th {\n",
       "        vertical-align: top;\n",
       "    }\n",
       "\n",
       "    .dataframe thead th {\n",
       "        text-align: right;\n",
       "    }\n",
       "</style>\n",
       "<table border=\"1\" class=\"dataframe\">\n",
       "  <thead>\n",
       "    <tr style=\"text-align: right;\">\n",
       "      <th></th>\n",
       "      <th>ensemblID</th>\n",
       "      <th>CMC DLPFC</th>\n",
       "      <th>gene_id</th>\n",
       "      <th>gene_name</th>\n",
       "      <th>seqname</th>\n",
       "    </tr>\n",
       "  </thead>\n",
       "  <tbody>\n",
       "    <tr>\n",
       "      <th>0</th>\n",
       "      <td>ENSG00000156414</td>\n",
       "      <td>1</td>\n",
       "      <td>ENSG00000156414.18</td>\n",
       "      <td>TDRD9</td>\n",
       "      <td>chr14</td>\n",
       "    </tr>\n",
       "    <tr>\n",
       "      <th>1</th>\n",
       "      <td>ENSG00000171488</td>\n",
       "      <td>1</td>\n",
       "      <td>ENSG00000171488.14</td>\n",
       "      <td>LRRC8C</td>\n",
       "      <td>chr1</td>\n",
       "    </tr>\n",
       "    <tr>\n",
       "      <th>2</th>\n",
       "      <td>ENSG00000231752</td>\n",
       "      <td>1</td>\n",
       "      <td>ENSG00000231752.5</td>\n",
       "      <td>EMBP1</td>\n",
       "      <td>chr1</td>\n",
       "    </tr>\n",
       "  </tbody>\n",
       "</table>\n",
       "</div>"
      ],
      "text/plain": [
       "         ensemblID  CMC DLPFC             gene_id gene_name seqname\n",
       "0  ENSG00000156414          1  ENSG00000156414.18     TDRD9   chr14\n",
       "1  ENSG00000171488          1  ENSG00000171488.14    LRRC8C    chr1\n",
       "2  ENSG00000231752          1   ENSG00000231752.5     EMBP1    chr1"
      ]
     },
     "execution_count": 37,
     "metadata": {},
     "output_type": "execute_result"
    }
   ],
   "source": [
    "cmc.merge(gtf_annot[['gene_id', 'ensemblID', 'gene_name', 'seqname']], \n",
    "            on='ensemblID')\\\n",
    "     .merge(pd.DataFrame({'ensemblID': list(set(phase2_dlpfc['ensemblID']) & \n",
    "                                            set(cmc['ensemblID']))}), \n",
    "            on='ensemblID')"
   ]
  },
  {
   "cell_type": "code",
   "execution_count": 38,
   "metadata": {
    "execution": {
     "iopub.execute_input": "2021-11-24T15:03:26.917495Z",
     "iopub.status.busy": "2021-11-24T15:03:26.907480Z",
     "iopub.status.idle": "2021-11-24T15:03:27.054286Z",
     "shell.execute_reply": "2021-11-24T15:03:27.052693Z"
    }
   },
   "outputs": [
    {
     "data": {
      "text/html": [
       "<div>\n",
       "<style scoped>\n",
       "    .dataframe tbody tr th:only-of-type {\n",
       "        vertical-align: middle;\n",
       "    }\n",
       "\n",
       "    .dataframe tbody tr th {\n",
       "        vertical-align: top;\n",
       "    }\n",
       "\n",
       "    .dataframe thead th {\n",
       "        text-align: right;\n",
       "    }\n",
       "</style>\n",
       "<table border=\"1\" class=\"dataframe\">\n",
       "  <thead>\n",
       "    <tr style=\"text-align: right;\">\n",
       "      <th></th>\n",
       "      <th>ensemblID</th>\n",
       "      <th>CMC DLPFC</th>\n",
       "      <th>gene_id</th>\n",
       "      <th>gene_name</th>\n",
       "      <th>seqname</th>\n",
       "    </tr>\n",
       "  </thead>\n",
       "  <tbody>\n",
       "  </tbody>\n",
       "</table>\n",
       "</div>"
      ],
      "text/plain": [
       "Empty DataFrame\n",
       "Columns: [ensemblID, CMC DLPFC, gene_id, gene_name, seqname]\n",
       "Index: []"
      ]
     },
     "execution_count": 38,
     "metadata": {},
     "output_type": "execute_result"
    }
   ],
   "source": [
    "cmc.merge(gtf_annot[['gene_id', 'ensemblID', 'gene_name', 'seqname']], \n",
    "            on='ensemblID')\\\n",
    "     .merge(pd.DataFrame({'ensemblID': list(set(phase2_hippo['ensemblID']) & \n",
    "                                            set(cmc['ensemblID']))}), \n",
    "            on='ensemblID')"
   ]
  },
  {
   "cell_type": "code",
   "execution_count": 39,
   "metadata": {
    "execution": {
     "iopub.execute_input": "2021-11-24T15:03:27.084203Z",
     "iopub.status.busy": "2021-11-24T15:03:27.074481Z",
     "iopub.status.idle": "2021-11-24T15:03:27.230008Z",
     "shell.execute_reply": "2021-11-24T15:03:27.226617Z"
    }
   },
   "outputs": [
    {
     "data": {
      "text/html": [
       "<div>\n",
       "<style scoped>\n",
       "    .dataframe tbody tr th:only-of-type {\n",
       "        vertical-align: middle;\n",
       "    }\n",
       "\n",
       "    .dataframe tbody tr th {\n",
       "        vertical-align: top;\n",
       "    }\n",
       "\n",
       "    .dataframe thead th {\n",
       "        text-align: right;\n",
       "    }\n",
       "</style>\n",
       "<table border=\"1\" class=\"dataframe\">\n",
       "  <thead>\n",
       "    <tr style=\"text-align: right;\">\n",
       "      <th></th>\n",
       "      <th>ensemblID</th>\n",
       "      <th>CMC DLPFC</th>\n",
       "      <th>gene_id</th>\n",
       "      <th>gene_name</th>\n",
       "      <th>seqname</th>\n",
       "    </tr>\n",
       "  </thead>\n",
       "  <tbody>\n",
       "    <tr>\n",
       "      <th>0</th>\n",
       "      <td>ENSG00000066185</td>\n",
       "      <td>1</td>\n",
       "      <td>ENSG00000066185.12</td>\n",
       "      <td>ZMYND12</td>\n",
       "      <td>chr1</td>\n",
       "    </tr>\n",
       "    <tr>\n",
       "      <th>1</th>\n",
       "      <td>ENSG00000100116</td>\n",
       "      <td>1</td>\n",
       "      <td>ENSG00000100116.16</td>\n",
       "      <td>GCAT</td>\n",
       "      <td>chr22</td>\n",
       "    </tr>\n",
       "    <tr>\n",
       "      <th>2</th>\n",
       "      <td>ENSG00000100266</td>\n",
       "      <td>1</td>\n",
       "      <td>ENSG00000100266.18</td>\n",
       "      <td>PACSIN2</td>\n",
       "      <td>chr22</td>\n",
       "    </tr>\n",
       "    <tr>\n",
       "      <th>3</th>\n",
       "      <td>ENSG00000115170</td>\n",
       "      <td>1</td>\n",
       "      <td>ENSG00000115170.13</td>\n",
       "      <td>ACVR1</td>\n",
       "      <td>chr2</td>\n",
       "    </tr>\n",
       "    <tr>\n",
       "      <th>4</th>\n",
       "      <td>ENSG00000134597</td>\n",
       "      <td>1</td>\n",
       "      <td>ENSG00000134597.14</td>\n",
       "      <td>RBMX2</td>\n",
       "      <td>chrX</td>\n",
       "    </tr>\n",
       "    <tr>\n",
       "      <th>5</th>\n",
       "      <td>ENSG00000139372</td>\n",
       "      <td>1</td>\n",
       "      <td>ENSG00000139372.14</td>\n",
       "      <td>TDG</td>\n",
       "      <td>chr12</td>\n",
       "    </tr>\n",
       "    <tr>\n",
       "      <th>6</th>\n",
       "      <td>ENSG00000189410</td>\n",
       "      <td>1</td>\n",
       "      <td>ENSG00000189410.11</td>\n",
       "      <td>SH2D5</td>\n",
       "      <td>chr1</td>\n",
       "    </tr>\n",
       "    <tr>\n",
       "      <th>7</th>\n",
       "      <td>ENSG00000256463</td>\n",
       "      <td>1</td>\n",
       "      <td>ENSG00000256463.8</td>\n",
       "      <td>SALL3</td>\n",
       "      <td>chr18</td>\n",
       "    </tr>\n",
       "    <tr>\n",
       "      <th>8</th>\n",
       "      <td>ENSG00000260400</td>\n",
       "      <td>1</td>\n",
       "      <td>ENSG00000260400.1</td>\n",
       "      <td>RP11-119F7.5</td>\n",
       "      <td>chr10</td>\n",
       "    </tr>\n",
       "  </tbody>\n",
       "</table>\n",
       "</div>"
      ],
      "text/plain": [
       "         ensemblID  CMC DLPFC             gene_id     gene_name seqname\n",
       "0  ENSG00000066185          1  ENSG00000066185.12       ZMYND12    chr1\n",
       "1  ENSG00000100116          1  ENSG00000100116.16          GCAT   chr22\n",
       "2  ENSG00000100266          1  ENSG00000100266.18       PACSIN2   chr22\n",
       "3  ENSG00000115170          1  ENSG00000115170.13         ACVR1    chr2\n",
       "4  ENSG00000134597          1  ENSG00000134597.14         RBMX2    chrX\n",
       "5  ENSG00000139372          1  ENSG00000139372.14           TDG   chr12\n",
       "6  ENSG00000189410          1  ENSG00000189410.11         SH2D5    chr1\n",
       "7  ENSG00000256463          1   ENSG00000256463.8         SALL3   chr18\n",
       "8  ENSG00000260400          1   ENSG00000260400.1  RP11-119F7.5   chr10"
      ]
     },
     "execution_count": 39,
     "metadata": {},
     "output_type": "execute_result"
    }
   ],
   "source": [
    "cmc.merge(gtf_annot[['gene_id', 'ensemblID', 'gene_name', 'seqname']], \n",
    "            on='ensemblID')\\\n",
    "     .merge(pd.DataFrame({'ensemblID': list(set(phase3_caudate['ensemblID']) & \n",
    "                                            set(cmc['ensemblID']))}), \n",
    "            on='ensemblID')"
   ]
  },
  {
   "cell_type": "code",
   "execution_count": 40,
   "metadata": {
    "execution": {
     "iopub.execute_input": "2021-11-24T15:03:27.317750Z",
     "iopub.status.busy": "2021-11-24T15:03:27.261648Z",
     "iopub.status.idle": "2021-11-24T15:03:27.384149Z",
     "shell.execute_reply": "2021-11-24T15:03:27.386328Z"
    }
   },
   "outputs": [],
   "source": [
    "gtf_annot[[\"gene_id\", 'ensemblID', 'gene_name', 'seqname', 'gene_type']]\\\n",
    "    .merge(df, left_on='ensemblID', right_index=True)\\\n",
    "    .to_csv('cmc_all_deg_across_tissues_maleSpecific.csv')"
   ]
  },
  {
   "cell_type": "code",
   "execution_count": null,
   "metadata": {},
   "outputs": [],
   "source": []
  }
 ],
 "metadata": {
  "kernelspec": {
   "display_name": "Python 3 (ipykernel)",
   "language": "python",
   "name": "python3"
  },
  "language_info": {
   "codemirror_mode": {
    "name": "ipython",
    "version": 3
   },
   "file_extension": ".py",
   "mimetype": "text/x-python",
   "name": "python",
   "nbconvert_exporter": "python",
   "pygments_lexer": "ipython3",
   "version": "3.9.7"
  }
 },
 "nbformat": 4,
 "nbformat_minor": 4
}
