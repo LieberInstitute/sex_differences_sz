{
 "cells": [
  {
   "cell_type": "markdown",
   "metadata": {},
   "source": [
    "# Tissue comparison for differential expression analysis"
   ]
  },
  {
   "cell_type": "code",
   "execution_count": 1,
   "metadata": {
    "execution": {
     "iopub.execute_input": "2021-08-06T15:19:23.526059Z",
     "iopub.status.busy": "2021-08-06T15:19:23.524658Z",
     "iopub.status.idle": "2021-08-06T15:19:23.825041Z",
     "shell.execute_reply": "2021-08-06T15:19:23.823788Z"
    }
   },
   "outputs": [],
   "source": [
    "import functools\n",
    "import numpy as np\n",
    "import pandas as pd\n",
    "from gtfparse import read_gtf"
   ]
  },
  {
   "cell_type": "code",
   "execution_count": 2,
   "metadata": {
    "execution": {
     "iopub.execute_input": "2021-08-06T15:19:23.831419Z",
     "iopub.status.busy": "2021-08-06T15:19:23.829951Z",
     "iopub.status.idle": "2021-08-06T15:19:23.832747Z",
     "shell.execute_reply": "2021-08-06T15:19:23.833789Z"
    }
   },
   "outputs": [],
   "source": [
    "config = {\n",
    "    'caudate': '../../../caudate/female_analysis/metrics_summary/_m/female_specific_DE_4features.txt',\n",
    "    'dlpfc': '../../../dlpfc/female_analysis/metrics_summary/_m/female_specific_DE_4features.txt',\n",
    "    'hippo': '../../../hippocampus/female_analysis/metrics_summary/_m/female_specific_DE_4features.txt',\n",
    "    'cmc_dlpfc': '../../../cmc_dlpfc/female_analysis/metrics_summary/_m/female_specific_DE_genes.txt'\n",
    "}"
   ]
  },
  {
   "cell_type": "code",
   "execution_count": 3,
   "metadata": {
    "execution": {
     "iopub.execute_input": "2021-08-06T15:19:23.844284Z",
     "iopub.status.busy": "2021-08-06T15:19:23.842802Z",
     "iopub.status.idle": "2021-08-06T15:19:23.845696Z",
     "shell.execute_reply": "2021-08-06T15:19:23.846882Z"
    }
   },
   "outputs": [],
   "source": [
    "@functools.lru_cache()\n",
    "def get_deg(filename):\n",
    "    dft = pd.read_csv(filename, sep='\\t', index_col=0)\n",
    "    dft = dft[(dft['Type'] == 'gene')].copy()\n",
    "    dft['Feature'] = dft.index\n",
    "    dft['Dir'] = np.sign(dft['t'])\n",
    "    if 'gene_id' in dft.columns:\n",
    "        dft['ensemblID'] = dft.gene_id.str.replace('\\\\..*', '', regex=True)\n",
    "    return dft[['Feature', 'ensemblID', 'adj.P.Val', 'logFC', 't', 'Dir']]\n",
    "\n",
    "@functools.lru_cache()\n",
    "def get_deg_sig(filename):\n",
    "    dft = get_deg(filename)\n",
    "    return dft[(dft['adj.P.Val'] < 0.05)]\n",
    "\n",
    "\n",
    "@functools.lru_cache()\n",
    "def merge_dataframes(tissue1, tissue2):\n",
    "    return get_deg(config[tissue1]).merge(get_deg(config[tissue2]), \n",
    "                                          on='Feature', \n",
    "                                          suffixes=['_%s' % tissue1, '_%s' % tissue2])\n",
    "\n",
    "\n",
    "@functools.lru_cache()\n",
    "def merge_dataframes_sig(tissue1, tissue2):\n",
    "    return get_deg_sig(config[tissue1]).merge(get_deg_sig(config[tissue2]), \n",
    "                                              on='Feature', \n",
    "                                              suffixes=['_%s' % tissue1, '_%s' % tissue2])"
   ]
  },
  {
   "cell_type": "code",
   "execution_count": 4,
   "metadata": {
    "execution": {
     "iopub.execute_input": "2021-08-06T15:19:23.854778Z",
     "iopub.status.busy": "2021-08-06T15:19:23.853480Z",
     "iopub.status.idle": "2021-08-06T15:19:23.856203Z",
     "shell.execute_reply": "2021-08-06T15:19:23.857334Z"
    }
   },
   "outputs": [],
   "source": [
    "def tissue_annotation(tissue):\n",
    "    return {'dlpfc': 'DLPFC', 'hippo': 'Hippocampus', \n",
    "            'caudate': 'Caudate', 'cmc_dlpfc': 'CMC DLPFC'}[tissue]\n",
    "\n",
    "\n",
    "def save_plot(p, fn, width=7, height=7):\n",
    "    '''Save plot as svg, png, and pdf with specific label and dimension.'''\n",
    "    for ext in ['.svg', '.png', '.pdf']:\n",
    "        p.save(fn+ext, width=width, height=height)"
   ]
  },
  {
   "cell_type": "markdown",
   "metadata": {},
   "source": [
    "## BrainSeq Comparison"
   ]
  },
  {
   "cell_type": "code",
   "execution_count": 5,
   "metadata": {
    "execution": {
     "iopub.execute_input": "2021-08-06T15:19:23.863651Z",
     "iopub.status.busy": "2021-08-06T15:19:23.862380Z",
     "iopub.status.idle": "2021-08-06T15:19:23.880668Z",
     "shell.execute_reply": "2021-08-06T15:19:23.881723Z"
    }
   },
   "outputs": [
    {
     "data": {
      "text/plain": [
       "Dir\n",
       "-1.0    68\n",
       " 1.0    56\n",
       "dtype: int64"
      ]
     },
     "execution_count": 1,
     "metadata": {},
     "output_type": "execute_result"
    }
   ],
   "source": [
    "caudate = get_deg(config['caudate'])\n",
    "caudate.groupby('Dir').size()"
   ]
  },
  {
   "cell_type": "code",
   "execution_count": 6,
   "metadata": {
    "execution": {
     "iopub.execute_input": "2021-08-06T15:19:23.888197Z",
     "iopub.status.busy": "2021-08-06T15:19:23.886893Z",
     "iopub.status.idle": "2021-08-06T15:19:23.896208Z",
     "shell.execute_reply": "2021-08-06T15:19:23.897253Z"
    }
   },
   "outputs": [
    {
     "name": "stderr",
     "output_type": "stream",
     "text": [
      "INFO:numexpr.utils:Note: NumExpr detected 64 cores but \"NUMEXPR_MAX_THREADS\" not set, so enforcing safe limit of 8.\n",
      "INFO:numexpr.utils:NumExpr defaulting to 8 threads.\n"
     ]
    },
    {
     "data": {
      "text/plain": [
       "(124, 6)"
      ]
     },
     "execution_count": 1,
     "metadata": {},
     "output_type": "execute_result"
    }
   ],
   "source": [
    "caudate[(caudate['adj.P.Val'] < 0.05)].shape"
   ]
  },
  {
   "cell_type": "code",
   "execution_count": 7,
   "metadata": {
    "execution": {
     "iopub.execute_input": "2021-08-06T15:19:23.903900Z",
     "iopub.status.busy": "2021-08-06T15:19:23.902604Z",
     "iopub.status.idle": "2021-08-06T15:19:23.915195Z",
     "shell.execute_reply": "2021-08-06T15:19:23.916244Z"
    }
   },
   "outputs": [
    {
     "data": {
      "text/plain": [
       "Series([], dtype: int64)"
      ]
     },
     "execution_count": 1,
     "metadata": {},
     "output_type": "execute_result"
    }
   ],
   "source": [
    "dlpfc = get_deg(config['dlpfc'])\n",
    "dlpfc.groupby('Dir').size()"
   ]
  },
  {
   "cell_type": "code",
   "execution_count": 8,
   "metadata": {
    "execution": {
     "iopub.execute_input": "2021-08-06T15:19:23.923471Z",
     "iopub.status.busy": "2021-08-06T15:19:23.922123Z",
     "iopub.status.idle": "2021-08-06T15:19:23.927544Z",
     "shell.execute_reply": "2021-08-06T15:19:23.926390Z"
    }
   },
   "outputs": [
    {
     "data": {
      "text/plain": [
       "(0, 6)"
      ]
     },
     "execution_count": 1,
     "metadata": {},
     "output_type": "execute_result"
    }
   ],
   "source": [
    "dlpfc[(dlpfc['adj.P.Val'] < 0.05)].shape"
   ]
  },
  {
   "cell_type": "code",
   "execution_count": 9,
   "metadata": {
    "execution": {
     "iopub.execute_input": "2021-08-06T15:19:23.933664Z",
     "iopub.status.busy": "2021-08-06T15:19:23.932372Z",
     "iopub.status.idle": "2021-08-06T15:19:23.944772Z",
     "shell.execute_reply": "2021-08-06T15:19:23.945806Z"
    }
   },
   "outputs": [
    {
     "data": {
      "text/plain": [
       "Series([], dtype: int64)"
      ]
     },
     "execution_count": 1,
     "metadata": {},
     "output_type": "execute_result"
    }
   ],
   "source": [
    "hippo = get_deg(config['hippo'])\n",
    "hippo.groupby('Dir').size()"
   ]
  },
  {
   "cell_type": "code",
   "execution_count": 10,
   "metadata": {
    "execution": {
     "iopub.execute_input": "2021-08-06T15:19:23.957713Z",
     "iopub.status.busy": "2021-08-06T15:19:23.955775Z",
     "iopub.status.idle": "2021-08-06T15:19:23.961261Z",
     "shell.execute_reply": "2021-08-06T15:19:23.962246Z"
    }
   },
   "outputs": [
    {
     "data": {
      "text/plain": [
       "(0, 6)"
      ]
     },
     "execution_count": 1,
     "metadata": {},
     "output_type": "execute_result"
    }
   ],
   "source": [
    "hippo[(hippo['adj.P.Val'] < 0.05)].shape"
   ]
  },
  {
   "cell_type": "markdown",
   "metadata": {},
   "source": [
    "### Upset Plot"
   ]
  },
  {
   "cell_type": "code",
   "execution_count": 11,
   "metadata": {
    "execution": {
     "iopub.execute_input": "2021-08-06T15:19:23.981541Z",
     "iopub.status.busy": "2021-08-06T15:19:23.979456Z",
     "iopub.status.idle": "2021-08-06T15:19:23.989880Z",
     "shell.execute_reply": "2021-08-06T15:19:23.991020Z"
    }
   },
   "outputs": [],
   "source": [
    "phase2_dlpfc = dlpfc[(dlpfc['adj.P.Val'] < 0.05)].copy()\n",
    "phase2_dlpfc['DLPFC'] = 1\n",
    "phase2_dlpfc = phase2_dlpfc[['ensemblID', 'DLPFC']]\n",
    "\n",
    "phase2_hippo = hippo[(hippo['adj.P.Val'] < 0.05)].copy()\n",
    "phase2_hippo['Hippocampus'] = 1\n",
    "phase2_hippo = phase2_hippo[['ensemblID', 'Hippocampus']]\n",
    "\n",
    "phase3_caudate = caudate[(caudate['adj.P.Val'] < 0.05)].copy()\n",
    "phase3_caudate['Caudate'] = 1\n",
    "phase3_caudate = phase3_caudate[['ensemblID', 'Caudate']]"
   ]
  },
  {
   "cell_type": "code",
   "execution_count": 12,
   "metadata": {
    "execution": {
     "iopub.execute_input": "2021-08-06T15:19:24.011343Z",
     "iopub.status.busy": "2021-08-06T15:19:24.001992Z",
     "iopub.status.idle": "2021-08-06T15:19:24.123750Z",
     "shell.execute_reply": "2021-08-06T15:19:24.123114Z"
    }
   },
   "outputs": [
    {
     "name": "stdout",
     "output_type": "stream",
     "text": [
      "(124, 2) (124, 2) (124, 2)\n"
     ]
    }
   ],
   "source": [
    "geneList = pd.merge(phase3_caudate[['ensemblID']], phase2_dlpfc[['ensemblID']], \n",
    "                    on=['ensemblID'], how='outer')\\\n",
    "             .merge(phase2_hippo[['ensemblID']], on=['ensemblID'], how='outer')\\\n",
    "             .groupby(['ensemblID']).first().reset_index()\n",
    "\n",
    "newC = pd.merge(geneList, phase3_caudate, on=['ensemblID'], how='outer').fillna(0)\n",
    "newC['Caudate'] = newC['Caudate'].astype('int')\n",
    "\n",
    "newD1 = pd.merge(geneList, phase2_dlpfc, on=['ensemblID'], how='outer').fillna(0)\n",
    "newD1['DLPFC'] = newD1['DLPFC'].astype('int')\n",
    "\n",
    "newH = pd.merge(geneList, phase2_hippo, on=['ensemblID'], how='outer').fillna(0)\n",
    "newH['Hippocampus'] = newH['Hippocampus'].astype('int')\n",
    "\n",
    "print(newC.shape, newH.shape, newD1.shape)"
   ]
  },
  {
   "cell_type": "code",
   "execution_count": 13,
   "metadata": {
    "execution": {
     "iopub.execute_input": "2021-08-06T15:19:24.132004Z",
     "iopub.status.busy": "2021-08-06T15:19:24.130995Z",
     "iopub.status.idle": "2021-08-06T15:19:24.140119Z",
     "shell.execute_reply": "2021-08-06T15:19:24.139427Z"
    }
   },
   "outputs": [
    {
     "data": {
      "text/html": [
       "<div>\n",
       "<style scoped>\n",
       "    .dataframe tbody tr th:only-of-type {\n",
       "        vertical-align: middle;\n",
       "    }\n",
       "\n",
       "    .dataframe tbody tr th {\n",
       "        vertical-align: top;\n",
       "    }\n",
       "\n",
       "    .dataframe thead th {\n",
       "        text-align: right;\n",
       "    }\n",
       "</style>\n",
       "<table border=\"1\" class=\"dataframe\">\n",
       "  <thead>\n",
       "    <tr style=\"text-align: right;\">\n",
       "      <th></th>\n",
       "      <th>Caudate</th>\n",
       "      <th>DLPFC</th>\n",
       "      <th>Hippocampus</th>\n",
       "    </tr>\n",
       "    <tr>\n",
       "      <th>ensemblID</th>\n",
       "      <th></th>\n",
       "      <th></th>\n",
       "      <th></th>\n",
       "    </tr>\n",
       "  </thead>\n",
       "  <tbody>\n",
       "    <tr>\n",
       "      <th>ENSG00000000457</th>\n",
       "      <td>1</td>\n",
       "      <td>0</td>\n",
       "      <td>0</td>\n",
       "    </tr>\n",
       "    <tr>\n",
       "      <th>ENSG00000003137</th>\n",
       "      <td>1</td>\n",
       "      <td>0</td>\n",
       "      <td>0</td>\n",
       "    </tr>\n",
       "  </tbody>\n",
       "</table>\n",
       "</div>"
      ],
      "text/plain": [
       "                 Caudate  DLPFC  Hippocampus\n",
       "ensemblID                                   \n",
       "ENSG00000000457        1      0            0\n",
       "ENSG00000003137        1      0            0"
      ]
     },
     "execution_count": 1,
     "metadata": {},
     "output_type": "execute_result"
    }
   ],
   "source": [
    "df = pd.concat([newC.set_index(['ensemblID']), newD1.set_index(['ensemblID']), \n",
    "                newH.set_index(['ensemblID'])], axis=1, join='outer')\n",
    "df.head(2)"
   ]
  },
  {
   "cell_type": "code",
   "execution_count": 14,
   "metadata": {
    "execution": {
     "iopub.execute_input": "2021-08-06T15:19:24.145216Z",
     "iopub.status.busy": "2021-08-06T15:19:24.144195Z",
     "iopub.status.idle": "2021-08-06T15:19:24.947119Z",
     "shell.execute_reply": "2021-08-06T15:19:24.946003Z"
    }
   },
   "outputs": [],
   "source": [
    "%load_ext rpy2.ipython"
   ]
  },
  {
   "cell_type": "code",
   "execution_count": 15,
   "metadata": {
    "execution": {
     "iopub.execute_input": "2021-08-06T15:19:24.954081Z",
     "iopub.status.busy": "2021-08-06T15:19:24.952663Z",
     "iopub.status.idle": "2021-08-06T15:19:28.820599Z",
     "shell.execute_reply": "2021-08-06T15:19:28.821634Z"
    }
   },
   "outputs": [
    {
     "name": "stderr",
     "output_type": "stream",
     "text": [
      "WARNING:rpy2.rinterface_lib.callbacks:R[write to console]: Loading required package: grid\n",
      "\n",
      "WARNING:rpy2.rinterface_lib.callbacks:R[write to console]: ========================================\n",
      "ComplexHeatmap version 2.6.2\n",
      "Bioconductor page: http://bioconductor.org/packages/ComplexHeatmap/\n",
      "Github page: https://github.com/jokergoo/ComplexHeatmap\n",
      "Documentation: http://jokergoo.github.io/ComplexHeatmap-reference\n",
      "\n",
      "If you use it in published research, please cite:\n",
      "Gu, Z. Complex heatmaps reveal patterns and correlations in multidimensional \n",
      "  genomic data. Bioinformatics 2016.\n",
      "\n",
      "This message can be suppressed by:\n",
      "  suppressPackageStartupMessages(library(ComplexHeatmap))\n",
      "========================================\n",
      "\n",
      "\n",
      "WARNING:rpy2.rinterface_lib.callbacks:R[write to console]: ── Attaching packages ─────────────────────────────────────── tidyverse 1.3.1 ──\n",
      "\n",
      "WARNING:rpy2.rinterface_lib.callbacks:R[write to console]: ✔ ggplot2 3.3.5     ✔ purrr   0.3.4\n",
      "✔ tibble  3.1.2     ✔ dplyr   1.0.7\n",
      "✔ tidyr   1.1.3     ✔ stringr 1.4.0\n",
      "✔ readr   1.4.0     ✔ forcats 0.5.1\n",
      "\n",
      "WARNING:rpy2.rinterface_lib.callbacks:R[write to console]: ── Conflicts ────────────────────────────────────────── tidyverse_conflicts() ──\n",
      "✖ dplyr::filter() masks stats::filter()\n",
      "✖ dplyr::lag()    masks stats::lag()\n",
      "\n"
     ]
    }
   ],
   "source": [
    "%%R\n",
    "library(ComplexHeatmap)\n",
    "library(tidyverse)\n",
    "subset_pvalue <- function(filename, fdr_cutoff){\n",
    "    df <- data.table::fread(filename) %>% \n",
    "        filter(Type == 'gene', adj.P.Val < fdr_cutoff)\n",
    "    return(df$ensemblID)\n",
    "}\n",
    "\n",
    "caudate = subset_pvalue('../../../caudate/female_analysis/metrics_summary/_m/female_specific_DE_4features.txt', \n",
    "                        0.05)\n",
    "dlpfc = subset_pvalue('../../../dlpfc/female_analysis/metrics_summary/_m/female_specific_DE_4features.txt', \n",
    "                      0.05)\n",
    "hippo = subset_pvalue('../../../hippocampus/female_analysis/metrics_summary/_m/female_specific_DE_4features.txt',\n",
    "                      0.05)\n",
    "\n",
    "lt = list(Caudate = caudate,\n",
    "          DLPFC = dlpfc,\n",
    "          Hippocampus = hippo)\n",
    "\n",
    "m = make_comb_mat(lt)\n",
    "cbb_palette <- c(\"#000000\", \"#E69F00\", \"#56B4E9\", \"#009E73\", \"#F0E442\", \n",
    "                 \"#0072B2\", \"#D55E00\", \"#CC79A7\")"
   ]
  },
  {
   "cell_type": "code",
   "execution_count": 16,
   "metadata": {
    "execution": {
     "iopub.execute_input": "2021-08-06T15:19:28.828982Z",
     "iopub.status.busy": "2021-08-06T15:19:28.827363Z",
     "iopub.status.idle": "2021-08-06T15:19:30.727332Z",
     "shell.execute_reply": "2021-08-06T15:19:30.726206Z"
    }
   },
   "outputs": [
    {
     "name": "stdout",
     "output_type": "stream",
     "text": [
      "png \n",
      "  2 \n"
     ]
    }
   ],
   "source": [
    "%%R\n",
    "right_annot = upset_right_annotation(\n",
    "    m, ylim = c(0, 150),\n",
    "    gp = gpar(fill = \"black\"),\n",
    "    annotation_name_side = \"top\",\n",
    "    axis_param = list(side = \"top\"))\n",
    "\n",
    "top_annot = upset_top_annotation(\n",
    "    m, height=unit(7, \"cm\"), \n",
    "    ylim = c(0, 150),\n",
    "    gp=gpar(fill=cbb_palette[comb_degree(m)]),\n",
    "    annotation_name_rot = 90)\n",
    "\n",
    "pdf('BrainSeq_sex_tissue_upsetR_DEgenes_femaleSpecific.pdf', width=6, height=4)\n",
    "ht = draw(UpSet(m, pt_size=unit(4, \"mm\"), lwd=3, \n",
    "                comb_col=cbb_palette[comb_degree(m)], \n",
    "                set_order = c(\"Caudate\", \"DLPFC\", \"Hippocampus\"), \n",
    "                comb_order = order(-comb_size(m)), \n",
    "                row_names_gp = gpar(fontsize = 14, fontface='bold'),\n",
    "                right_annotation = right_annot, \n",
    "                top_annotation = top_annot))\n",
    "od = column_order(ht)\n",
    "cs = comb_size(m)\n",
    "decorate_annotation(\"intersection_size\", {\n",
    "    grid.text(cs[od], x = seq_along(cs), y = unit(cs[od], \"native\") + \n",
    "              unit(6, \"pt\"), \n",
    "        default.units = \"native\", just = \"bottom\", gp = gpar(fontsize = 11))\n",
    "})\n",
    "dev.off()"
   ]
  },
  {
   "cell_type": "code",
   "execution_count": 17,
   "metadata": {
    "execution": {
     "iopub.execute_input": "2021-08-06T15:19:30.734705Z",
     "iopub.status.busy": "2021-08-06T15:19:30.733421Z",
     "iopub.status.idle": "2021-08-06T15:19:32.214703Z",
     "shell.execute_reply": "2021-08-06T15:19:32.213208Z"
    }
   },
   "outputs": [
    {
     "name": "stdout",
     "output_type": "stream",
     "text": [
      "png \n",
      "  2 \n"
     ]
    }
   ],
   "source": [
    "%%R\n",
    "right_ha = rowAnnotation(\n",
    "    \"Intersection\\nsize\" = anno_barplot(comb_size(m), border=F,\n",
    "                                        ylim = c(0, 150), \n",
    "                                        gp=gpar(fill=cbb_palette[comb_degree(m)]),\n",
    "                                        width = unit(7, \"cm\")))\n",
    "top_ha = HeatmapAnnotation(\n",
    "    \"Set size\" = anno_barplot(set_size(m), border=F,\n",
    "                              ylim = c(0, 150),\n",
    "                              gp = gpar(fill = \"black\"), \n",
    "                              height = unit(2, \"cm\")), \n",
    "    gap = unit(2, \"mm\"), annotation_name_side = \"left\", \n",
    "    annotation_name_rot = 90)\n",
    "\n",
    "\n",
    "pdf(\"BrainSeq_sex_tissue_upsetR_DEgenes_transpose_femaleSpecific.pdf\", width=5, height=10)\n",
    "ht = draw(UpSet(t(m), pt_size=unit(5, \"mm\"), lwd=3,\n",
    "                comb_order = order(-comb_size(m)), \n",
    "                comb_col=cbb_palette[comb_degree(m)], \n",
    "                set_order = c(\"Caudate\", \"DLPFC\", \"Hippocampus\"), \n",
    "                column_names_gp = gpar(fontsize = 16, fontface='bold'),\n",
    "                right_annotation = right_ha, top_annotation=top_ha))\n",
    "\n",
    "od = rev(row_order(ht))\n",
    "cs = comb_size(m)\n",
    "decorate_annotation(\"Intersection\\nsize\", {\n",
    "    grid.text(cs[od], y = seq_along(cs), x = unit(cs[od], \"native\") + \n",
    "              unit(6, \"pt\"), \n",
    "        default.units = \"native\", just = \"left\", gp = gpar(fontsize = 11))\n",
    "})\n",
    "dev.off()"
   ]
  },
  {
   "cell_type": "markdown",
   "metadata": {},
   "source": [
    "### Shared features"
   ]
  },
  {
   "cell_type": "code",
   "execution_count": 18,
   "metadata": {
    "execution": {
     "iopub.execute_input": "2021-08-06T15:19:32.221584Z",
     "iopub.status.busy": "2021-08-06T15:19:32.220341Z",
     "iopub.status.idle": "2021-08-06T15:19:32.222875Z",
     "shell.execute_reply": "2021-08-06T15:19:32.223908Z"
    }
   },
   "outputs": [],
   "source": [
    "@functools.lru_cache()\n",
    "def get_gtf(gtf_file):\n",
    "    return read_gtf(gtf_file)\n"
   ]
  },
  {
   "cell_type": "code",
   "execution_count": 19,
   "metadata": {
    "execution": {
     "iopub.execute_input": "2021-08-06T15:19:32.231951Z",
     "iopub.status.busy": "2021-08-06T15:19:32.230379Z",
     "iopub.status.idle": "2021-08-06T15:20:45.447386Z",
     "shell.execute_reply": "2021-08-06T15:20:45.446099Z"
    }
   },
   "outputs": [
    {
     "name": "stderr",
     "output_type": "stream",
     "text": [
      "INFO:root:Extracted GTF attributes: ['gene_id', 'gene_type', 'gene_status', 'gene_name', 'level', 'havana_gene', 'transcript_id', 'transcript_type', 'transcript_status', 'transcript_name', 'transcript_support_level', 'tag', 'havana_transcript', 'exon_number', 'exon_id', 'ont', 'protein_id', 'ccdsid']\n"
     ]
    },
    {
     "data": {
      "text/html": [
       "<div>\n",
       "<style scoped>\n",
       "    .dataframe tbody tr th:only-of-type {\n",
       "        vertical-align: middle;\n",
       "    }\n",
       "\n",
       "    .dataframe tbody tr th {\n",
       "        vertical-align: top;\n",
       "    }\n",
       "\n",
       "    .dataframe thead th {\n",
       "        text-align: right;\n",
       "    }\n",
       "</style>\n",
       "<table border=\"1\" class=\"dataframe\">\n",
       "  <thead>\n",
       "    <tr style=\"text-align: right;\">\n",
       "      <th></th>\n",
       "      <th>gene_id</th>\n",
       "      <th>gene_name</th>\n",
       "      <th>transcript_id</th>\n",
       "      <th>exon_id</th>\n",
       "      <th>gene_type</th>\n",
       "      <th>seqname</th>\n",
       "      <th>start</th>\n",
       "      <th>end</th>\n",
       "      <th>strand</th>\n",
       "    </tr>\n",
       "  </thead>\n",
       "  <tbody>\n",
       "    <tr>\n",
       "      <th>0</th>\n",
       "      <td>ENSG00000223972.5</td>\n",
       "      <td>DDX11L1</td>\n",
       "      <td></td>\n",
       "      <td></td>\n",
       "      <td>transcribed_unprocessed_pseudogene</td>\n",
       "      <td>chr1</td>\n",
       "      <td>11869</td>\n",
       "      <td>14409</td>\n",
       "      <td>+</td>\n",
       "    </tr>\n",
       "    <tr>\n",
       "      <th>12</th>\n",
       "      <td>ENSG00000227232.5</td>\n",
       "      <td>WASH7P</td>\n",
       "      <td></td>\n",
       "      <td></td>\n",
       "      <td>unprocessed_pseudogene</td>\n",
       "      <td>chr1</td>\n",
       "      <td>14404</td>\n",
       "      <td>29570</td>\n",
       "      <td>-</td>\n",
       "    </tr>\n",
       "  </tbody>\n",
       "</table>\n",
       "</div>"
      ],
      "text/plain": [
       "              gene_id gene_name transcript_id exon_id  \\\n",
       "0   ENSG00000223972.5   DDX11L1                         \n",
       "12  ENSG00000227232.5    WASH7P                         \n",
       "\n",
       "                             gene_type seqname  start    end strand  \n",
       "0   transcribed_unprocessed_pseudogene    chr1  11869  14409      +  \n",
       "12              unprocessed_pseudogene    chr1  14404  29570      -  "
      ]
     },
     "execution_count": 1,
     "metadata": {},
     "output_type": "execute_result"
    }
   ],
   "source": [
    "def gene_annotation(gtf_file, feature):\n",
    "    gtf0 = get_gtf(gtf_file)\n",
    "    gtf = gtf0[gtf0[\"feature\"] == feature]\n",
    "    return gtf[[\"gene_id\", \"gene_name\", \"transcript_id\", \"exon_id\", \"gene_type\", \"seqname\", \"start\", \"end\", \"strand\"]]\n",
    "\n",
    "gtf_file = '/ceph/genome/human/gencode25/gtf.CHR/_m/gencode.v25.annotation.gtf'\n",
    "gtf_annot = gene_annotation(gtf_file, 'gene')\n",
    "gtf_annot.head(2)"
   ]
  },
  {
   "cell_type": "code",
   "execution_count": 20,
   "metadata": {
    "execution": {
     "iopub.execute_input": "2021-08-06T15:20:45.482395Z",
     "iopub.status.busy": "2021-08-06T15:20:45.481117Z",
     "iopub.status.idle": "2021-08-06T15:20:45.501193Z",
     "shell.execute_reply": "2021-08-06T15:20:45.502232Z"
    }
   },
   "outputs": [
    {
     "data": {
      "text/html": [
       "<div>\n",
       "<style scoped>\n",
       "    .dataframe tbody tr th:only-of-type {\n",
       "        vertical-align: middle;\n",
       "    }\n",
       "\n",
       "    .dataframe tbody tr th {\n",
       "        vertical-align: top;\n",
       "    }\n",
       "\n",
       "    .dataframe thead th {\n",
       "        text-align: right;\n",
       "    }\n",
       "</style>\n",
       "<table border=\"1\" class=\"dataframe\">\n",
       "  <thead>\n",
       "    <tr style=\"text-align: right;\">\n",
       "      <th></th>\n",
       "      <th>Feature</th>\n",
       "      <th>ensemblID</th>\n",
       "      <th>adj.P.Val</th>\n",
       "      <th>logFC</th>\n",
       "      <th>t</th>\n",
       "      <th>Dir</th>\n",
       "      <th>gene_id</th>\n",
       "      <th>gene_name</th>\n",
       "      <th>seqname</th>\n",
       "    </tr>\n",
       "  </thead>\n",
       "  <tbody>\n",
       "    <tr>\n",
       "      <th>1468999</th>\n",
       "      <td>ENSG00000111181.12</td>\n",
       "      <td>ENSG00000111181</td>\n",
       "      <td>0.001106</td>\n",
       "      <td>-0.456838</td>\n",
       "      <td>-4.917349</td>\n",
       "      <td>-1.0</td>\n",
       "      <td>ENSG00000111181.12</td>\n",
       "      <td>SLC6A12</td>\n",
       "      <td>chr12</td>\n",
       "    </tr>\n",
       "    <tr>\n",
       "      <th>1928121</th>\n",
       "      <td>ENSG00000070915.9</td>\n",
       "      <td>ENSG00000070915</td>\n",
       "      <td>0.001680</td>\n",
       "      <td>0.848495</td>\n",
       "      <td>4.756160</td>\n",
       "      <td>1.0</td>\n",
       "      <td>ENSG00000070915.9</td>\n",
       "      <td>SLC12A3</td>\n",
       "      <td>chr16</td>\n",
       "    </tr>\n",
       "  </tbody>\n",
       "</table>\n",
       "</div>"
      ],
      "text/plain": [
       "                    Feature        ensemblID  adj.P.Val     logFC         t  \\\n",
       "1468999  ENSG00000111181.12  ENSG00000111181   0.001106 -0.456838 -4.917349   \n",
       "1928121   ENSG00000070915.9  ENSG00000070915   0.001680  0.848495  4.756160   \n",
       "\n",
       "         Dir             gene_id gene_name seqname  \n",
       "1468999 -1.0  ENSG00000111181.12   SLC6A12   chr12  \n",
       "1928121  1.0   ENSG00000070915.9   SLC12A3   chr16  "
      ]
     },
     "execution_count": 1,
     "metadata": {},
     "output_type": "execute_result"
    }
   ],
   "source": [
    "dft = caudate.merge(gtf_annot[['gene_id', 'gene_name', 'seqname']], \n",
    "                    left_index=True, right_on='gene_id')\n",
    "dft.head(2)"
   ]
  },
  {
   "cell_type": "markdown",
   "metadata": {},
   "source": [
    "## Comparison with CommonMind"
   ]
  },
  {
   "cell_type": "code",
   "execution_count": 21,
   "metadata": {
    "execution": {
     "iopub.execute_input": "2021-08-06T15:20:45.509118Z",
     "iopub.status.busy": "2021-08-06T15:20:45.507804Z",
     "iopub.status.idle": "2021-08-06T15:20:45.520701Z",
     "shell.execute_reply": "2021-08-06T15:20:45.521740Z"
    }
   },
   "outputs": [
    {
     "data": {
      "text/plain": [
       "Dir\n",
       "-1.0    227\n",
       " 1.0    356\n",
       "dtype: int64"
      ]
     },
     "execution_count": 1,
     "metadata": {},
     "output_type": "execute_result"
    }
   ],
   "source": [
    "cmc_dlpfc = get_deg(config['cmc_dlpfc'])\n",
    "cmc_dlpfc.groupby('Dir').size()"
   ]
  },
  {
   "cell_type": "code",
   "execution_count": 22,
   "metadata": {
    "execution": {
     "iopub.execute_input": "2021-08-06T15:20:45.528898Z",
     "iopub.status.busy": "2021-08-06T15:20:45.527669Z",
     "iopub.status.idle": "2021-08-06T15:20:45.532717Z",
     "shell.execute_reply": "2021-08-06T15:20:45.533817Z"
    }
   },
   "outputs": [
    {
     "data": {
      "text/plain": [
       "(583, 6)"
      ]
     },
     "execution_count": 1,
     "metadata": {},
     "output_type": "execute_result"
    }
   ],
   "source": [
    "cmc_dlpfc[(cmc_dlpfc['adj.P.Val'] < 0.05)].shape"
   ]
  },
  {
   "cell_type": "markdown",
   "metadata": {},
   "source": [
    "### Upset Plot"
   ]
  },
  {
   "cell_type": "code",
   "execution_count": 23,
   "metadata": {
    "execution": {
     "iopub.execute_input": "2021-08-06T15:20:45.544205Z",
     "iopub.status.busy": "2021-08-06T15:20:45.542947Z",
     "iopub.status.idle": "2021-08-06T15:20:45.547714Z",
     "shell.execute_reply": "2021-08-06T15:20:45.548705Z"
    }
   },
   "outputs": [],
   "source": [
    "cmc = cmc_dlpfc[(cmc_dlpfc['adj.P.Val'] < 0.05)].copy()\n",
    "cmc['CMC DLPFC'] = 1\n",
    "cmc = cmc[['ensemblID', 'CMC DLPFC']].groupby('ensemblID').first().reset_index()"
   ]
  },
  {
   "cell_type": "code",
   "execution_count": 24,
   "metadata": {
    "execution": {
     "iopub.execute_input": "2021-08-06T15:20:45.560810Z",
     "iopub.status.busy": "2021-08-06T15:20:45.559561Z",
     "iopub.status.idle": "2021-08-06T15:20:46.075156Z",
     "shell.execute_reply": "2021-08-06T15:20:46.073913Z"
    }
   },
   "outputs": [
    {
     "name": "stdout",
     "output_type": "stream",
     "text": [
      "(702, 2) (702, 2) (702, 2) (702, 2)\n"
     ]
    }
   ],
   "source": [
    "geneList = pd.merge(phase3_caudate[['ensemblID']], phase2_dlpfc[['ensemblID']], on=['ensemblID'], how='outer')\\\n",
    "             .merge(phase2_hippo[['ensemblID']], on=['ensemblID'], how='outer')\\\n",
    "             .merge(cmc[['ensemblID']], on=['ensemblID'], how='outer')\\\n",
    "             .groupby(['ensemblID']).first().reset_index()\n",
    "\n",
    "newC = pd.merge(geneList, phase3_caudate, on=['ensemblID'], how='outer').fillna(0)\n",
    "newC['Caudate'] = newC['Caudate'].astype('int')\n",
    "\n",
    "newD1 = pd.merge(geneList, phase2_dlpfc, on=['ensemblID'], how='outer').fillna(0)\n",
    "newD1['DLPFC'] = newD1['DLPFC'].astype('int')\n",
    "\n",
    "newH = pd.merge(geneList, phase2_hippo, on=['ensemblID'], how='outer').fillna(0)\n",
    "newH['Hippocampus'] = newH['Hippocampus'].astype('int')\n",
    "\n",
    "newCMC = pd.merge(geneList, cmc, on=['ensemblID'], how='outer').fillna(0)\n",
    "newCMC['CMC DLPFC'] = newCMC['CMC DLPFC'].astype('int')\n",
    "\n",
    "print(newC.shape, newH.shape, newD1.shape, newCMC.shape)"
   ]
  },
  {
   "cell_type": "code",
   "execution_count": 25,
   "metadata": {
    "execution": {
     "iopub.execute_input": "2021-08-06T15:20:46.088353Z",
     "iopub.status.busy": "2021-08-06T15:20:46.087125Z",
     "iopub.status.idle": "2021-08-06T15:20:46.091414Z",
     "shell.execute_reply": "2021-08-06T15:20:46.092401Z"
    }
   },
   "outputs": [
    {
     "data": {
      "text/html": [
       "<div>\n",
       "<style scoped>\n",
       "    .dataframe tbody tr th:only-of-type {\n",
       "        vertical-align: middle;\n",
       "    }\n",
       "\n",
       "    .dataframe tbody tr th {\n",
       "        vertical-align: top;\n",
       "    }\n",
       "\n",
       "    .dataframe thead th {\n",
       "        text-align: right;\n",
       "    }\n",
       "</style>\n",
       "<table border=\"1\" class=\"dataframe\">\n",
       "  <thead>\n",
       "    <tr style=\"text-align: right;\">\n",
       "      <th></th>\n",
       "      <th>Caudate</th>\n",
       "      <th>DLPFC</th>\n",
       "      <th>Hippocampus</th>\n",
       "      <th>CMC DLPFC</th>\n",
       "    </tr>\n",
       "    <tr>\n",
       "      <th>ensemblID</th>\n",
       "      <th></th>\n",
       "      <th></th>\n",
       "      <th></th>\n",
       "      <th></th>\n",
       "    </tr>\n",
       "  </thead>\n",
       "  <tbody>\n",
       "    <tr>\n",
       "      <th>ENSG00000000457</th>\n",
       "      <td>1</td>\n",
       "      <td>0</td>\n",
       "      <td>0</td>\n",
       "      <td>0</td>\n",
       "    </tr>\n",
       "    <tr>\n",
       "      <th>ENSG00000003137</th>\n",
       "      <td>1</td>\n",
       "      <td>0</td>\n",
       "      <td>0</td>\n",
       "      <td>0</td>\n",
       "    </tr>\n",
       "  </tbody>\n",
       "</table>\n",
       "</div>"
      ],
      "text/plain": [
       "                 Caudate  DLPFC  Hippocampus  CMC DLPFC\n",
       "ensemblID                                              \n",
       "ENSG00000000457        1      0            0          0\n",
       "ENSG00000003137        1      0            0          0"
      ]
     },
     "execution_count": 1,
     "metadata": {},
     "output_type": "execute_result"
    }
   ],
   "source": [
    "df = pd.concat([newC.set_index(['ensemblID']), newD1.set_index(['ensemblID']), \n",
    "                newH.set_index(['ensemblID']), newCMC.set_index(['ensemblID'])], \n",
    "               axis=1, join='outer')\n",
    "df.head(2)"
   ]
  },
  {
   "cell_type": "code",
   "execution_count": 26,
   "metadata": {
    "execution": {
     "iopub.execute_input": "2021-08-06T15:20:46.098819Z",
     "iopub.status.busy": "2021-08-06T15:20:46.097492Z",
     "iopub.status.idle": "2021-08-06T15:20:46.124429Z",
     "shell.execute_reply": "2021-08-06T15:20:46.123363Z"
    }
   },
   "outputs": [],
   "source": [
    "%%R \n",
    "cmc = subset_pvalue('../../../cmc_dlpfc/female_analysis/metrics_summary/_m/female_specific_DE_genes.txt',\n",
    "                    0.05)\n",
    "\n",
    "lt = list(Caudate = caudate,\n",
    "          DLPFC = dlpfc,\n",
    "          Hippocampus = hippo, \n",
    "          `CMC DLPFC` = cmc)\n",
    "\n",
    "m = make_comb_mat(lt)"
   ]
  },
  {
   "cell_type": "code",
   "execution_count": 27,
   "metadata": {
    "execution": {
     "iopub.execute_input": "2021-08-06T15:20:46.130905Z",
     "iopub.status.busy": "2021-08-06T15:20:46.129565Z",
     "iopub.status.idle": "2021-08-06T15:20:46.259655Z",
     "shell.execute_reply": "2021-08-06T15:20:46.258457Z"
    }
   },
   "outputs": [
    {
     "name": "stdout",
     "output_type": "stream",
     "text": [
      "png \n",
      "  2 \n"
     ]
    }
   ],
   "source": [
    "%%R\n",
    "right_annot = upset_right_annotation(\n",
    "    m, ylim = c(0, 800),\n",
    "    gp = gpar(fill = \"black\"),\n",
    "    annotation_name_side = \"bottom\",\n",
    "    axis_param = list(side = \"bottom\"))\n",
    "\n",
    "top_annot = upset_top_annotation(\n",
    "    m, height=unit(7, \"cm\"), \n",
    "    ylim = c(0, 800),\n",
    "    gp=gpar(fill=cbb_palette[comb_degree(m)]),\n",
    "    annotation_name_rot = 90)\n",
    "\n",
    "pdf('cmc_sex_tissue_upsetR_DEgenes_femaleSpecific.pdf', width=8, height=5)\n",
    "ht = draw(UpSet(m, pt_size=unit(6, \"mm\"), lwd=3, \n",
    "                comb_col=cbb_palette[comb_degree(m)], \n",
    "                set_order = c(\"Caudate\", \"DLPFC\", \"Hippocampus\", \"CMC DLPFC\"), \n",
    "                comb_order = order(-comb_size(m)), \n",
    "                row_names_gp = gpar(fontsize = 16, fontface='bold'),\n",
    "                right_annotation = right_annot, \n",
    "                top_annotation = top_annot))\n",
    "od = column_order(ht)\n",
    "cs = comb_size(m)\n",
    "decorate_annotation(\"intersection_size\", {\n",
    "    grid.text(cs[od], x = seq_along(cs), y = unit(cs[od], \"native\") + \n",
    "              unit(6, \"pt\"), \n",
    "        default.units = \"native\", just = \"bottom\", gp = gpar(fontsize = 11))\n",
    "})\n",
    "dev.off()"
   ]
  },
  {
   "cell_type": "code",
   "execution_count": 28,
   "metadata": {
    "execution": {
     "iopub.execute_input": "2021-08-06T15:20:46.265990Z",
     "iopub.status.busy": "2021-08-06T15:20:46.264682Z",
     "iopub.status.idle": "2021-08-06T15:20:46.377879Z",
     "shell.execute_reply": "2021-08-06T15:20:46.378868Z"
    }
   },
   "outputs": [
    {
     "name": "stdout",
     "output_type": "stream",
     "text": [
      "png \n",
      "  2 \n"
     ]
    }
   ],
   "source": [
    "%%R\n",
    "right_ha = rowAnnotation(\n",
    "    \"Intersection\\nsize\" = anno_barplot(comb_size(m), border=F,\n",
    "                                        ylim = c(0, 800), \n",
    "                                        gp=gpar(fill=cbb_palette[comb_degree(m)]),\n",
    "                                        width = unit(7, \"cm\")))\n",
    "top_ha = HeatmapAnnotation(\n",
    "    \"Set size\" = anno_barplot(set_size(m), border=F,\n",
    "                              ylim = c(0, 800),\n",
    "                              gp = gpar(fill = \"black\"), \n",
    "                              height = unit(2, \"cm\")), \n",
    "    gap = unit(2, \"mm\"), annotation_name_side = \"left\", \n",
    "    annotation_name_rot = 90)\n",
    "\n",
    "pdf(\"cmc_sex_tissue_upsetR_DEgenes_transpose_femaleSpecific.pdf\", width=5, height=10)\n",
    "ht = draw(UpSet(t(m), pt_size=unit(5, \"mm\"), lwd=3,\n",
    "                comb_order = order(-comb_size(m)),\n",
    "                comb_col=cbb_palette[comb_degree(m)], \n",
    "                set_order = c(\"Caudate\", \"DLPFC\", \"Hippocampus\", \"CMC DLPFC\"), \n",
    "                column_names_gp = gpar(fontsize = 16, fontface='bold'),\n",
    "                right_annotation = right_ha, top_annotation=top_ha))\n",
    "\n",
    "od = rev(row_order(ht))\n",
    "cs = comb_size(m)\n",
    "decorate_annotation(\"Intersection\\nsize\", {\n",
    "    grid.text(cs[od], y = seq_along(cs), x = unit(cs[od], \"native\") + \n",
    "              unit(6, \"pt\"), \n",
    "        default.units = \"native\", just = \"left\", gp = gpar(fontsize = 11))\n",
    "})\n",
    "dev.off()"
   ]
  },
  {
   "cell_type": "code",
   "execution_count": 29,
   "metadata": {
    "execution": {
     "iopub.execute_input": "2021-08-06T15:20:46.385195Z",
     "iopub.status.busy": "2021-08-06T15:20:46.383948Z",
     "iopub.status.idle": "2021-08-06T15:20:46.403587Z",
     "shell.execute_reply": "2021-08-06T15:20:46.402346Z"
    }
   },
   "outputs": [
    {
     "data": {
      "text/html": [
       "<div>\n",
       "<style scoped>\n",
       "    .dataframe tbody tr th:only-of-type {\n",
       "        vertical-align: middle;\n",
       "    }\n",
       "\n",
       "    .dataframe tbody tr th {\n",
       "        vertical-align: top;\n",
       "    }\n",
       "\n",
       "    .dataframe thead th {\n",
       "        text-align: right;\n",
       "    }\n",
       "</style>\n",
       "<table border=\"1\" class=\"dataframe\">\n",
       "  <thead>\n",
       "    <tr style=\"text-align: right;\">\n",
       "      <th></th>\n",
       "      <th>Feature</th>\n",
       "      <th>gencodeID</th>\n",
       "      <th>Symbol</th>\n",
       "      <th>ensemblID</th>\n",
       "      <th>Chrom</th>\n",
       "      <th>logFC</th>\n",
       "      <th>t</th>\n",
       "      <th>adj.P.Val</th>\n",
       "      <th>Male_Pval</th>\n",
       "      <th>Male_FDR</th>\n",
       "      <th>Type</th>\n",
       "      <th>Dir</th>\n",
       "    </tr>\n",
       "  </thead>\n",
       "  <tbody>\n",
       "    <tr>\n",
       "      <th>0</th>\n",
       "      <td>ENSG00000153132.12</td>\n",
       "      <td>ENSG00000153132.12</td>\n",
       "      <td>CLGN</td>\n",
       "      <td>ENSG00000153132</td>\n",
       "      <td>chr4</td>\n",
       "      <td>0.389937</td>\n",
       "      <td>5.559139</td>\n",
       "      <td>0.000123</td>\n",
       "      <td>0.283020</td>\n",
       "      <td>0.313711</td>\n",
       "      <td>gene</td>\n",
       "      <td>1.0</td>\n",
       "    </tr>\n",
       "    <tr>\n",
       "      <th>1</th>\n",
       "      <td>ENSG00000179083.6</td>\n",
       "      <td>ENSG00000179083.6</td>\n",
       "      <td>FAM133A</td>\n",
       "      <td>ENSG00000179083</td>\n",
       "      <td>chrX</td>\n",
       "      <td>0.261268</td>\n",
       "      <td>5.004488</td>\n",
       "      <td>0.000535</td>\n",
       "      <td>0.272019</td>\n",
       "      <td>0.302973</td>\n",
       "      <td>gene</td>\n",
       "      <td>1.0</td>\n",
       "    </tr>\n",
       "    <tr>\n",
       "      <th>2</th>\n",
       "      <td>ENSG00000165733.7</td>\n",
       "      <td>ENSG00000165733.7</td>\n",
       "      <td>BMS1</td>\n",
       "      <td>ENSG00000165733</td>\n",
       "      <td>chr10</td>\n",
       "      <td>0.150918</td>\n",
       "      <td>4.986552</td>\n",
       "      <td>0.000535</td>\n",
       "      <td>0.169787</td>\n",
       "      <td>0.205428</td>\n",
       "      <td>gene</td>\n",
       "      <td>1.0</td>\n",
       "    </tr>\n",
       "    <tr>\n",
       "      <th>3</th>\n",
       "      <td>ENSG00000183023.18</td>\n",
       "      <td>ENSG00000183023.18</td>\n",
       "      <td>SLC8A1</td>\n",
       "      <td>ENSG00000183023</td>\n",
       "      <td>chr2</td>\n",
       "      <td>0.245819</td>\n",
       "      <td>4.925477</td>\n",
       "      <td>0.000632</td>\n",
       "      <td>0.082759</td>\n",
       "      <td>0.108963</td>\n",
       "      <td>gene</td>\n",
       "      <td>1.0</td>\n",
       "    </tr>\n",
       "    <tr>\n",
       "      <th>4</th>\n",
       "      <td>ENSG00000236268.5</td>\n",
       "      <td>ENSG00000236268.5</td>\n",
       "      <td>LINC01361</td>\n",
       "      <td>ENSG00000236268</td>\n",
       "      <td>chr1</td>\n",
       "      <td>0.404532</td>\n",
       "      <td>4.865744</td>\n",
       "      <td>0.000700</td>\n",
       "      <td>0.110632</td>\n",
       "      <td>0.140404</td>\n",
       "      <td>gene</td>\n",
       "      <td>1.0</td>\n",
       "    </tr>\n",
       "  </tbody>\n",
       "</table>\n",
       "</div>"
      ],
      "text/plain": [
       "              Feature           gencodeID     Symbol        ensemblID  Chrom  \\\n",
       "0  ENSG00000153132.12  ENSG00000153132.12       CLGN  ENSG00000153132   chr4   \n",
       "1   ENSG00000179083.6   ENSG00000179083.6    FAM133A  ENSG00000179083   chrX   \n",
       "2   ENSG00000165733.7   ENSG00000165733.7       BMS1  ENSG00000165733  chr10   \n",
       "3  ENSG00000183023.18  ENSG00000183023.18     SLC8A1  ENSG00000183023   chr2   \n",
       "4   ENSG00000236268.5   ENSG00000236268.5  LINC01361  ENSG00000236268   chr1   \n",
       "\n",
       "      logFC         t  adj.P.Val  Male_Pval  Male_FDR  Type  Dir  \n",
       "0  0.389937  5.559139   0.000123   0.283020  0.313711  gene  1.0  \n",
       "1  0.261268  5.004488   0.000535   0.272019  0.302973  gene  1.0  \n",
       "2  0.150918  4.986552   0.000535   0.169787  0.205428  gene  1.0  \n",
       "3  0.245819  4.925477   0.000632   0.082759  0.108963  gene  1.0  \n",
       "4  0.404532  4.865744   0.000700   0.110632  0.140404  gene  1.0  "
      ]
     },
     "execution_count": 1,
     "metadata": {},
     "output_type": "execute_result"
    }
   ],
   "source": [
    "dft = pd.read_csv('../../../cmc_dlpfc/female_analysis/metrics_summary/_m/female_specific_DE_genes.txt',\n",
    "                  sep='\\t')\n",
    "dft['Dir'] = np.sign(dft['t'])\n",
    "dft.head()"
   ]
  },
  {
   "cell_type": "code",
   "execution_count": 30,
   "metadata": {
    "execution": {
     "iopub.execute_input": "2021-08-06T15:20:46.412957Z",
     "iopub.status.busy": "2021-08-06T15:20:46.411644Z",
     "iopub.status.idle": "2021-08-06T15:20:46.423361Z",
     "shell.execute_reply": "2021-08-06T15:20:46.422121Z"
    }
   },
   "outputs": [
    {
     "data": {
      "text/html": [
       "<div>\n",
       "<style scoped>\n",
       "    .dataframe tbody tr th:only-of-type {\n",
       "        vertical-align: middle;\n",
       "    }\n",
       "\n",
       "    .dataframe tbody tr th {\n",
       "        vertical-align: top;\n",
       "    }\n",
       "\n",
       "    .dataframe thead th {\n",
       "        text-align: right;\n",
       "    }\n",
       "</style>\n",
       "<table border=\"1\" class=\"dataframe\">\n",
       "  <thead>\n",
       "    <tr style=\"text-align: right;\">\n",
       "      <th></th>\n",
       "      <th>Feature</th>\n",
       "      <th>ensemblID</th>\n",
       "      <th>Symbol</th>\n",
       "      <th>Chrom</th>\n",
       "      <th>Dir</th>\n",
       "    </tr>\n",
       "  </thead>\n",
       "  <tbody>\n",
       "    <tr>\n",
       "      <th>0</th>\n",
       "      <td>ENSG00000100814.17</td>\n",
       "      <td>ENSG00000100814</td>\n",
       "      <td>CCNB1IP1</td>\n",
       "      <td>chr14</td>\n",
       "      <td>1.0</td>\n",
       "    </tr>\n",
       "    <tr>\n",
       "      <th>1</th>\n",
       "      <td>ENSG00000263006.6</td>\n",
       "      <td>ENSG00000263006</td>\n",
       "      <td>ROCK1P1</td>\n",
       "      <td>chr18</td>\n",
       "      <td>1.0</td>\n",
       "    </tr>\n",
       "    <tr>\n",
       "      <th>2</th>\n",
       "      <td>ENSG00000249669.9</td>\n",
       "      <td>ENSG00000249669</td>\n",
       "      <td>CARMN</td>\n",
       "      <td>chr5</td>\n",
       "      <td>-1.0</td>\n",
       "    </tr>\n",
       "    <tr>\n",
       "      <th>3</th>\n",
       "      <td>ENSG00000269937.1</td>\n",
       "      <td>ENSG00000269937</td>\n",
       "      <td>NaN</td>\n",
       "      <td>chr16</td>\n",
       "      <td>-1.0</td>\n",
       "    </tr>\n",
       "    <tr>\n",
       "      <th>4</th>\n",
       "      <td>ENSG00000167703.14</td>\n",
       "      <td>ENSG00000167703</td>\n",
       "      <td>SLC43A2</td>\n",
       "      <td>chr17</td>\n",
       "      <td>-1.0</td>\n",
       "    </tr>\n",
       "  </tbody>\n",
       "</table>\n",
       "</div>"
      ],
      "text/plain": [
       "              Feature        ensemblID    Symbol  Chrom  Dir\n",
       "0  ENSG00000100814.17  ENSG00000100814  CCNB1IP1  chr14  1.0\n",
       "1   ENSG00000263006.6  ENSG00000263006   ROCK1P1  chr18  1.0\n",
       "2   ENSG00000249669.9  ENSG00000249669     CARMN   chr5 -1.0\n",
       "3   ENSG00000269937.1  ENSG00000269937       NaN  chr16 -1.0\n",
       "4  ENSG00000167703.14  ENSG00000167703   SLC43A2  chr17 -1.0"
      ]
     },
     "execution_count": 1,
     "metadata": {},
     "output_type": "execute_result"
    }
   ],
   "source": [
    "dft.loc[:, ['Feature', 'ensemblID', 'Symbol', 'Chrom', 'Dir']]\\\n",
    "    .merge(pd.DataFrame({'ensemblID': list(set(phase3_caudate['ensemblID']) & \n",
    "                                           set(cmc['ensemblID']))}), \n",
    "           on='ensemblID')"
   ]
  },
  {
   "cell_type": "code",
   "execution_count": 31,
   "metadata": {
    "execution": {
     "iopub.execute_input": "2021-08-06T15:20:46.432922Z",
     "iopub.status.busy": "2021-08-06T15:20:46.431614Z",
     "iopub.status.idle": "2021-08-06T15:20:46.445833Z",
     "shell.execute_reply": "2021-08-06T15:20:46.444617Z"
    }
   },
   "outputs": [
    {
     "data": {
      "text/html": [
       "<div>\n",
       "<style scoped>\n",
       "    .dataframe tbody tr th:only-of-type {\n",
       "        vertical-align: middle;\n",
       "    }\n",
       "\n",
       "    .dataframe tbody tr th {\n",
       "        vertical-align: top;\n",
       "    }\n",
       "\n",
       "    .dataframe thead th {\n",
       "        text-align: right;\n",
       "    }\n",
       "</style>\n",
       "<table border=\"1\" class=\"dataframe\">\n",
       "  <thead>\n",
       "    <tr style=\"text-align: right;\">\n",
       "      <th></th>\n",
       "      <th>Feature</th>\n",
       "      <th>ensemblID</th>\n",
       "      <th>Chrom</th>\n",
       "      <th>Symbol</th>\n",
       "      <th>Dir</th>\n",
       "    </tr>\n",
       "  </thead>\n",
       "  <tbody>\n",
       "    <tr>\n",
       "      <th>0</th>\n",
       "      <td>ENSG00000100814.17</td>\n",
       "      <td>ENSG00000100814</td>\n",
       "      <td>chr14</td>\n",
       "      <td>CCNB1IP1</td>\n",
       "      <td>1.0</td>\n",
       "    </tr>\n",
       "    <tr>\n",
       "      <th>1</th>\n",
       "      <td>ENSG00000263006.6</td>\n",
       "      <td>ENSG00000263006</td>\n",
       "      <td>chr18</td>\n",
       "      <td>ROCK1P1</td>\n",
       "      <td>1.0</td>\n",
       "    </tr>\n",
       "    <tr>\n",
       "      <th>2</th>\n",
       "      <td>ENSG00000249669.9</td>\n",
       "      <td>ENSG00000249669</td>\n",
       "      <td>chr5</td>\n",
       "      <td>CARMN</td>\n",
       "      <td>-1.0</td>\n",
       "    </tr>\n",
       "    <tr>\n",
       "      <th>3</th>\n",
       "      <td>ENSG00000269937.1</td>\n",
       "      <td>ENSG00000269937</td>\n",
       "      <td>chr16</td>\n",
       "      <td>NaN</td>\n",
       "      <td>-1.0</td>\n",
       "    </tr>\n",
       "    <tr>\n",
       "      <th>4</th>\n",
       "      <td>ENSG00000167703.14</td>\n",
       "      <td>ENSG00000167703</td>\n",
       "      <td>chr17</td>\n",
       "      <td>SLC43A2</td>\n",
       "      <td>-1.0</td>\n",
       "    </tr>\n",
       "  </tbody>\n",
       "</table>\n",
       "</div>"
      ],
      "text/plain": [
       "              Feature        ensemblID  Chrom    Symbol  Dir\n",
       "0  ENSG00000100814.17  ENSG00000100814  chr14  CCNB1IP1  1.0\n",
       "1   ENSG00000263006.6  ENSG00000263006  chr18   ROCK1P1  1.0\n",
       "2   ENSG00000249669.9  ENSG00000249669   chr5     CARMN -1.0\n",
       "3   ENSG00000269937.1  ENSG00000269937  chr16       NaN -1.0\n",
       "4  ENSG00000167703.14  ENSG00000167703  chr17   SLC43A2 -1.0"
      ]
     },
     "execution_count": 1,
     "metadata": {},
     "output_type": "execute_result"
    }
   ],
   "source": [
    "shared_df = dft.loc[:, ['Feature', 'ensemblID', 'Chrom', 'Symbol', 'Dir']]\\\n",
    "               .merge(pd.DataFrame({'ensemblID': list(set(phase3_caudate['ensemblID']) & \n",
    "                                                      set(cmc['ensemblID']))}), \n",
    "                      on='ensemblID')\n",
    "shared_df.to_csv('cmc_shared_caudate_degs_annotation_femaleSpecific.txt', sep='\\t', \n",
    "                 index=False, header=True)\n",
    "shared_df"
   ]
  },
  {
   "cell_type": "code",
   "execution_count": 32,
   "metadata": {
    "execution": {
     "iopub.execute_input": "2021-08-06T15:20:46.452768Z",
     "iopub.status.busy": "2021-08-06T15:20:46.451545Z",
     "iopub.status.idle": "2021-08-06T15:20:46.458073Z",
     "shell.execute_reply": "2021-08-06T15:20:46.456987Z"
    }
   },
   "outputs": [
    {
     "name": "stdout",
     "output_type": "stream",
     "text": [
      "0.00% of shared DEG are allosomal!\n"
     ]
    }
   ],
   "source": [
    "#### 6 out of 41 are autosomal\n",
    "dd = np.sum(shared_df.Chrom.isin(['chrX', 'chrY'])) / shared_df.shape[0] * 100\n",
    "print(\"%0.2f%% of shared DEG are allosomal!\" % dd)"
   ]
  },
  {
   "cell_type": "code",
   "execution_count": 33,
   "metadata": {
    "execution": {
     "iopub.execute_input": "2021-08-06T15:20:46.484451Z",
     "iopub.status.busy": "2021-08-06T15:20:46.470759Z",
     "iopub.status.idle": "2021-08-06T15:20:46.589977Z",
     "shell.execute_reply": "2021-08-06T15:20:46.588861Z"
    }
   },
   "outputs": [],
   "source": [
    "gtf_annot['ensemblID'] = gtf_annot.gene_id.str.replace(\"\\\\..*\", \"\", regex=True)\n",
    "gtf_annot[[\"gene_id\", 'ensemblID', 'gene_name', 'seqname', 'gene_type']]\\\n",
    "    .merge(df, left_on='ensemblID', right_index=True)\\\n",
    "    .to_csv('cmc_all_deg_across_tissues_femaleSpecific.csv')"
   ]
  },
  {
   "cell_type": "code",
   "execution_count": null,
   "metadata": {},
   "outputs": [],
   "source": []
  }
 ],
 "metadata": {
  "kernelspec": {
   "display_name": "Python 3",
   "language": "python",
   "name": "python3"
  },
  "language_info": {
   "codemirror_mode": {
    "name": "ipython",
    "version": 3
   },
   "file_extension": ".py",
   "mimetype": "text/x-python",
   "name": "python",
   "nbconvert_exporter": "python",
   "pygments_lexer": "ipython3",
   "version": "3.9.1"
  }
 },
 "nbformat": 4,
 "nbformat_minor": 4
}
