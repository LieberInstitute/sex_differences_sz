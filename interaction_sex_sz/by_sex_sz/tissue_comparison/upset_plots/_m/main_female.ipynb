{
 "cells": [
  {
   "cell_type": "markdown",
   "metadata": {},
   "source": [
    "# Tissue comparison for differential expression analysis"
   ]
  },
  {
   "cell_type": "code",
   "execution_count": 1,
   "metadata": {
    "execution": {
     "iopub.execute_input": "2021-11-24T15:04:05.185599Z",
     "iopub.status.busy": "2021-11-24T15:04:05.179200Z",
     "iopub.status.idle": "2021-11-24T15:04:06.120797Z",
     "shell.execute_reply": "2021-11-24T15:04:06.118127Z"
    }
   },
   "outputs": [],
   "source": [
    "import functools\n",
    "import numpy as np\n",
    "import pandas as pd\n",
    "from gtfparse import read_gtf"
   ]
  },
  {
   "cell_type": "code",
   "execution_count": 2,
   "metadata": {
    "execution": {
     "iopub.execute_input": "2021-11-24T15:04:06.135901Z",
     "iopub.status.busy": "2021-11-24T15:04:06.133647Z",
     "iopub.status.idle": "2021-11-24T15:04:06.145187Z",
     "shell.execute_reply": "2021-11-24T15:04:06.143384Z"
    }
   },
   "outputs": [],
   "source": [
    "config = {\n",
    "    'caudate': '../../../caudate/female_analysis/metrics_summary/_m/female_specific_DE_4features.txt',\n",
    "    'dlpfc': '../../../dlpfc/female_analysis/metrics_summary/_m/female_specific_DE_4features.txt',\n",
    "    'hippo': '../../../hippocampus/female_analysis/metrics_summary/_m/female_specific_DE_4features.txt',\n",
    "    'cmc_dlpfc': '../../../cmc_dlpfc/female_analysis/metrics_summary/_m/female_specific_DE_genes.txt'\n",
    "}"
   ]
  },
  {
   "cell_type": "code",
   "execution_count": 3,
   "metadata": {
    "execution": {
     "iopub.execute_input": "2021-11-24T15:04:06.171756Z",
     "iopub.status.busy": "2021-11-24T15:04:06.168089Z",
     "iopub.status.idle": "2021-11-24T15:04:06.178946Z",
     "shell.execute_reply": "2021-11-24T15:04:06.180542Z"
    }
   },
   "outputs": [],
   "source": [
    "@functools.lru_cache()\n",
    "def get_deg(filename):\n",
    "    dft = pd.read_csv(filename, sep='\\t', index_col=0)\n",
    "    dft = dft[(dft['Type'] == 'gene')].copy()\n",
    "    dft['Feature'] = dft.index\n",
    "    dft['Dir'] = np.sign(dft['t'])\n",
    "    if 'gene_id' in dft.columns:\n",
    "        dft['ensemblID'] = dft.gene_id.str.replace('\\\\..*', '', regex=True)\n",
    "    return dft[['Feature', 'ensemblID', 'adj.P.Val', 'logFC', 't', 'Dir']]\n",
    "\n",
    "@functools.lru_cache()\n",
    "def get_deg_sig(filename):\n",
    "    dft = get_deg(filename)\n",
    "    return dft[(dft['adj.P.Val'] < 0.05)]\n",
    "\n",
    "\n",
    "@functools.lru_cache()\n",
    "def merge_dataframes(tissue1, tissue2):\n",
    "    return get_deg(config[tissue1]).merge(get_deg(config[tissue2]), \n",
    "                                          on='Feature', \n",
    "                                          suffixes=['_%s' % tissue1, '_%s' % tissue2])\n",
    "\n",
    "\n",
    "@functools.lru_cache()\n",
    "def merge_dataframes_sig(tissue1, tissue2):\n",
    "    return get_deg_sig(config[tissue1]).merge(get_deg_sig(config[tissue2]), \n",
    "                                              on='Feature', \n",
    "                                              suffixes=['_%s' % tissue1, '_%s' % tissue2])"
   ]
  },
  {
   "cell_type": "code",
   "execution_count": 4,
   "metadata": {
    "execution": {
     "iopub.execute_input": "2021-11-24T15:04:06.200277Z",
     "iopub.status.busy": "2021-11-24T15:04:06.198395Z",
     "iopub.status.idle": "2021-11-24T15:04:06.207720Z",
     "shell.execute_reply": "2021-11-24T15:04:06.205643Z"
    }
   },
   "outputs": [],
   "source": [
    "def tissue_annotation(tissue):\n",
    "    return {'dlpfc': 'DLPFC', 'hippo': 'Hippocampus', \n",
    "            'caudate': 'Caudate', 'cmc_dlpfc': 'CMC DLPFC'}[tissue]\n",
    "\n",
    "\n",
    "def save_plot(p, fn, width=7, height=7):\n",
    "    '''Save plot as svg, png, and pdf with specific label and dimension.'''\n",
    "    for ext in ['.svg', '.png', '.pdf']:\n",
    "        p.save(fn+ext, width=width, height=height)"
   ]
  },
  {
   "cell_type": "markdown",
   "metadata": {},
   "source": [
    "## BrainSeq Comparison"
   ]
  },
  {
   "cell_type": "code",
   "execution_count": 5,
   "metadata": {
    "execution": {
     "iopub.execute_input": "2021-11-24T15:04:06.224150Z",
     "iopub.status.busy": "2021-11-24T15:04:06.222111Z",
     "iopub.status.idle": "2021-11-24T15:04:06.276866Z",
     "shell.execute_reply": "2021-11-24T15:04:06.278384Z"
    }
   },
   "outputs": [
    {
     "data": {
      "text/plain": [
       "Dir\n",
       "-1.0    16\n",
       " 1.0    14\n",
       "dtype: int64"
      ]
     },
     "execution_count": 5,
     "metadata": {},
     "output_type": "execute_result"
    }
   ],
   "source": [
    "caudate = get_deg(config['caudate'])\n",
    "caudate.groupby('Dir').size()"
   ]
  },
  {
   "cell_type": "code",
   "execution_count": 6,
   "metadata": {
    "execution": {
     "iopub.execute_input": "2021-11-24T15:04:06.290174Z",
     "iopub.status.busy": "2021-11-24T15:04:06.287967Z",
     "iopub.status.idle": "2021-11-24T15:04:06.332117Z",
     "shell.execute_reply": "2021-11-24T15:04:06.330356Z"
    }
   },
   "outputs": [
    {
     "name": "stderr",
     "output_type": "stream",
     "text": [
      "INFO:numexpr.utils:Note: NumExpr detected 60 cores but \"NUMEXPR_MAX_THREADS\" not set, so enforcing safe limit of 8.\n",
      "INFO:numexpr.utils:NumExpr defaulting to 8 threads.\n"
     ]
    },
    {
     "data": {
      "text/plain": [
       "(30, 6)"
      ]
     },
     "execution_count": 6,
     "metadata": {},
     "output_type": "execute_result"
    }
   ],
   "source": [
    "caudate[(caudate['adj.P.Val'] < 0.05)].shape"
   ]
  },
  {
   "cell_type": "code",
   "execution_count": 7,
   "metadata": {
    "execution": {
     "iopub.execute_input": "2021-11-24T15:04:06.351611Z",
     "iopub.status.busy": "2021-11-24T15:04:06.349626Z",
     "iopub.status.idle": "2021-11-24T15:04:06.386768Z",
     "shell.execute_reply": "2021-11-24T15:04:06.384462Z"
    }
   },
   "outputs": [
    {
     "data": {
      "text/plain": [
       "Series([], dtype: int64)"
      ]
     },
     "execution_count": 7,
     "metadata": {},
     "output_type": "execute_result"
    }
   ],
   "source": [
    "dlpfc = get_deg(config['dlpfc'])\n",
    "dlpfc.groupby('Dir').size()"
   ]
  },
  {
   "cell_type": "code",
   "execution_count": 8,
   "metadata": {
    "execution": {
     "iopub.execute_input": "2021-11-24T15:04:06.406209Z",
     "iopub.status.busy": "2021-11-24T15:04:06.404204Z",
     "iopub.status.idle": "2021-11-24T15:04:06.417560Z",
     "shell.execute_reply": "2021-11-24T15:04:06.415965Z"
    }
   },
   "outputs": [
    {
     "data": {
      "text/plain": [
       "(0, 6)"
      ]
     },
     "execution_count": 8,
     "metadata": {},
     "output_type": "execute_result"
    }
   ],
   "source": [
    "dlpfc[(dlpfc['adj.P.Val'] < 0.05)].shape"
   ]
  },
  {
   "cell_type": "code",
   "execution_count": 9,
   "metadata": {
    "execution": {
     "iopub.execute_input": "2021-11-24T15:04:06.434163Z",
     "iopub.status.busy": "2021-11-24T15:04:06.430777Z",
     "iopub.status.idle": "2021-11-24T15:04:06.474110Z",
     "shell.execute_reply": "2021-11-24T15:04:06.475668Z"
    }
   },
   "outputs": [
    {
     "data": {
      "text/plain": [
       "Series([], dtype: int64)"
      ]
     },
     "execution_count": 9,
     "metadata": {},
     "output_type": "execute_result"
    }
   ],
   "source": [
    "hippo = get_deg(config['hippo'])\n",
    "hippo.groupby('Dir').size()"
   ]
  },
  {
   "cell_type": "code",
   "execution_count": 10,
   "metadata": {
    "execution": {
     "iopub.execute_input": "2021-11-24T15:04:06.496667Z",
     "iopub.status.busy": "2021-11-24T15:04:06.494695Z",
     "iopub.status.idle": "2021-11-24T15:04:06.507556Z",
     "shell.execute_reply": "2021-11-24T15:04:06.508963Z"
    }
   },
   "outputs": [
    {
     "data": {
      "text/plain": [
       "(0, 6)"
      ]
     },
     "execution_count": 10,
     "metadata": {},
     "output_type": "execute_result"
    }
   ],
   "source": [
    "hippo[(hippo['adj.P.Val'] < 0.05)].shape"
   ]
  },
  {
   "cell_type": "markdown",
   "metadata": {},
   "source": [
    "### Upset Plot"
   ]
  },
  {
   "cell_type": "code",
   "execution_count": 11,
   "metadata": {
    "execution": {
     "iopub.execute_input": "2021-11-24T15:04:06.556427Z",
     "iopub.status.busy": "2021-11-24T15:04:06.554210Z",
     "iopub.status.idle": "2021-11-24T15:04:06.560710Z",
     "shell.execute_reply": "2021-11-24T15:04:06.561950Z"
    }
   },
   "outputs": [],
   "source": [
    "phase2_dlpfc = dlpfc[(dlpfc['adj.P.Val'] < 0.05)].copy()\n",
    "phase2_dlpfc['DLPFC'] = 1\n",
    "phase2_dlpfc = phase2_dlpfc[['ensemblID', 'DLPFC']]\n",
    "\n",
    "phase2_hippo = hippo[(hippo['adj.P.Val'] < 0.05)].copy()\n",
    "phase2_hippo['Hippocampus'] = 1\n",
    "phase2_hippo = phase2_hippo[['ensemblID', 'Hippocampus']]\n",
    "\n",
    "phase3_caudate = caudate[(caudate['adj.P.Val'] < 0.05)].copy()\n",
    "phase3_caudate['Caudate'] = 1\n",
    "phase3_caudate = phase3_caudate[['ensemblID', 'Caudate']]"
   ]
  },
  {
   "cell_type": "code",
   "execution_count": 12,
   "metadata": {
    "execution": {
     "iopub.execute_input": "2021-11-24T15:04:06.582142Z",
     "iopub.status.busy": "2021-11-24T15:04:06.580070Z",
     "iopub.status.idle": "2021-11-24T15:04:06.731505Z",
     "shell.execute_reply": "2021-11-24T15:04:06.733188Z"
    }
   },
   "outputs": [
    {
     "name": "stdout",
     "output_type": "stream",
     "text": [
      "(30, 2) (30, 2) (30, 2)\n"
     ]
    }
   ],
   "source": [
    "geneList = pd.merge(phase3_caudate[['ensemblID']], phase2_dlpfc[['ensemblID']], \n",
    "                    on=['ensemblID'], how='outer')\\\n",
    "             .merge(phase2_hippo[['ensemblID']], on=['ensemblID'], how='outer')\\\n",
    "             .groupby(['ensemblID']).first().reset_index()\n",
    "\n",
    "newC = pd.merge(geneList, phase3_caudate, on=['ensemblID'], how='outer').fillna(0)\n",
    "newC['Caudate'] = newC['Caudate'].astype('int')\n",
    "\n",
    "newD1 = pd.merge(geneList, phase2_dlpfc, on=['ensemblID'], how='outer').fillna(0)\n",
    "newD1['DLPFC'] = newD1['DLPFC'].astype('int')\n",
    "\n",
    "newH = pd.merge(geneList, phase2_hippo, on=['ensemblID'], how='outer').fillna(0)\n",
    "newH['Hippocampus'] = newH['Hippocampus'].astype('int')\n",
    "\n",
    "print(newC.shape, newH.shape, newD1.shape)"
   ]
  },
  {
   "cell_type": "code",
   "execution_count": 13,
   "metadata": {
    "execution": {
     "iopub.execute_input": "2021-11-24T15:04:06.761456Z",
     "iopub.status.busy": "2021-11-24T15:04:06.759643Z",
     "iopub.status.idle": "2021-11-24T15:04:06.786009Z",
     "shell.execute_reply": "2021-11-24T15:04:06.787540Z"
    }
   },
   "outputs": [
    {
     "data": {
      "text/html": [
       "<div>\n",
       "<style scoped>\n",
       "    .dataframe tbody tr th:only-of-type {\n",
       "        vertical-align: middle;\n",
       "    }\n",
       "\n",
       "    .dataframe tbody tr th {\n",
       "        vertical-align: top;\n",
       "    }\n",
       "\n",
       "    .dataframe thead th {\n",
       "        text-align: right;\n",
       "    }\n",
       "</style>\n",
       "<table border=\"1\" class=\"dataframe\">\n",
       "  <thead>\n",
       "    <tr style=\"text-align: right;\">\n",
       "      <th></th>\n",
       "      <th>Caudate</th>\n",
       "      <th>DLPFC</th>\n",
       "      <th>Hippocampus</th>\n",
       "    </tr>\n",
       "    <tr>\n",
       "      <th>ensemblID</th>\n",
       "      <th></th>\n",
       "      <th></th>\n",
       "      <th></th>\n",
       "    </tr>\n",
       "  </thead>\n",
       "  <tbody>\n",
       "    <tr>\n",
       "      <th>ENSG00000003137</th>\n",
       "      <td>1</td>\n",
       "      <td>0</td>\n",
       "      <td>0</td>\n",
       "    </tr>\n",
       "    <tr>\n",
       "      <th>ENSG00000070915</th>\n",
       "      <td>1</td>\n",
       "      <td>0</td>\n",
       "      <td>0</td>\n",
       "    </tr>\n",
       "  </tbody>\n",
       "</table>\n",
       "</div>"
      ],
      "text/plain": [
       "                 Caudate  DLPFC  Hippocampus\n",
       "ensemblID                                   \n",
       "ENSG00000003137        1      0            0\n",
       "ENSG00000070915        1      0            0"
      ]
     },
     "execution_count": 13,
     "metadata": {},
     "output_type": "execute_result"
    }
   ],
   "source": [
    "df = pd.concat([newC.set_index(['ensemblID']), newD1.set_index(['ensemblID']), \n",
    "                newH.set_index(['ensemblID'])], axis=1, join='outer')\n",
    "df.head(2)"
   ]
  },
  {
   "cell_type": "code",
   "execution_count": 14,
   "metadata": {
    "execution": {
     "iopub.execute_input": "2021-11-24T15:04:06.803744Z",
     "iopub.status.busy": "2021-11-24T15:04:06.801635Z",
     "iopub.status.idle": "2021-11-24T15:04:08.329208Z",
     "shell.execute_reply": "2021-11-24T15:04:08.327005Z"
    }
   },
   "outputs": [],
   "source": [
    "%load_ext rpy2.ipython"
   ]
  },
  {
   "cell_type": "code",
   "execution_count": 15,
   "metadata": {
    "execution": {
     "iopub.execute_input": "2021-11-24T15:04:08.350800Z",
     "iopub.status.busy": "2021-11-24T15:04:08.348846Z",
     "iopub.status.idle": "2021-11-24T15:04:17.223009Z",
     "shell.execute_reply": "2021-11-24T15:04:17.220817Z"
    }
   },
   "outputs": [
    {
     "name": "stderr",
     "output_type": "stream",
     "text": [
      "WARNING:rpy2.rinterface_lib.callbacks:R[write to console]: Loading required package: grid\n",
      "\n",
      "WARNING:rpy2.rinterface_lib.callbacks:R[write to console]: ========================================\n",
      "ComplexHeatmap version 2.10.0\n",
      "Bioconductor page: http://bioconductor.org/packages/ComplexHeatmap/\n",
      "Github page: https://github.com/jokergoo/ComplexHeatmap\n",
      "Documentation: http://jokergoo.github.io/ComplexHeatmap-reference\n",
      "\n",
      "If you use it in published research, please cite:\n",
      "Gu, Z. Complex heatmaps reveal patterns and correlations in multidimensional \n",
      "  genomic data. Bioinformatics 2016.\n",
      "\n",
      "The new InteractiveComplexHeatmap package can directly export static \n",
      "complex heatmaps into an interactive Shiny app with zero effort. Have a try!\n",
      "\n",
      "This message can be suppressed by:\n",
      "  suppressPackageStartupMessages(library(ComplexHeatmap))\n",
      "========================================\n",
      "\n",
      "\n",
      "WARNING:rpy2.rinterface_lib.callbacks:R[write to console]: ── Attaching packages ─────────────────────────────────────── tidyverse 1.3.1 ──\n",
      "\n",
      "WARNING:rpy2.rinterface_lib.callbacks:R[write to console]: ✔ ggplot2 3.3.5     ✔ purrr   0.3.4\n",
      "✔ tibble  3.1.6     ✔ dplyr   1.0.7\n",
      "✔ tidyr   1.1.4     ✔ stringr 1.4.0\n",
      "✔ readr   2.1.0     ✔ forcats 0.5.1\n",
      "\n",
      "WARNING:rpy2.rinterface_lib.callbacks:R[write to console]: ── Conflicts ────────────────────────────────────────── tidyverse_conflicts() ──\n",
      "✖ dplyr::filter() masks stats::filter()\n",
      "✖ dplyr::lag()    masks stats::lag()\n",
      "\n"
     ]
    }
   ],
   "source": [
    "%%R\n",
    "library(ComplexHeatmap)\n",
    "library(tidyverse)\n",
    "subset_pvalue <- function(filename, fdr_cutoff){\n",
    "    df <- data.table::fread(filename) %>% \n",
    "        filter(Type == 'gene', adj.P.Val < fdr_cutoff)\n",
    "    return(df$ensemblID)\n",
    "}\n",
    "\n",
    "caudate = subset_pvalue('../../../caudate/female_analysis/metrics_summary/_m/female_specific_DE_4features.txt', \n",
    "                        0.05)\n",
    "dlpfc = subset_pvalue('../../../dlpfc/female_analysis/metrics_summary/_m/female_specific_DE_4features.txt', \n",
    "                      0.05)\n",
    "hippo = subset_pvalue('../../../hippocampus/female_analysis/metrics_summary/_m/female_specific_DE_4features.txt',\n",
    "                      0.05)\n",
    "\n",
    "lt = list(Caudate = caudate,\n",
    "          DLPFC = dlpfc,\n",
    "          Hippocampus = hippo)\n",
    "\n",
    "m = make_comb_mat(lt)\n",
    "cbb_palette <- c(\"#000000\", \"#E69F00\", \"#56B4E9\", \"#009E73\", \"#F0E442\", \n",
    "                 \"#0072B2\", \"#D55E00\", \"#CC79A7\")"
   ]
  },
  {
   "cell_type": "code",
   "execution_count": 16,
   "metadata": {
    "execution": {
     "iopub.execute_input": "2021-11-24T15:04:17.248992Z",
     "iopub.status.busy": "2021-11-24T15:04:17.247178Z",
     "iopub.status.idle": "2021-11-24T15:04:22.413482Z",
     "shell.execute_reply": "2021-11-24T15:04:22.410841Z"
    }
   },
   "outputs": [
    {
     "name": "stdout",
     "output_type": "stream",
     "text": [
      "png \n",
      "  2 \n"
     ]
    }
   ],
   "source": [
    "%%R\n",
    "right_annot = upset_right_annotation(\n",
    "    m, ylim = c(0, 150),\n",
    "    gp = gpar(fill = \"black\"),\n",
    "    annotation_name_side = \"top\",\n",
    "    axis_param = list(side = \"top\"))\n",
    "\n",
    "top_annot = upset_top_annotation(\n",
    "    m, height=unit(7, \"cm\"), \n",
    "    ylim = c(0, 150),\n",
    "    gp=gpar(fill=cbb_palette[comb_degree(m)]),\n",
    "    annotation_name_rot = 90)\n",
    "\n",
    "pdf('BrainSeq_sex_tissue_upsetR_DEgenes_femaleSpecific.pdf', width=6, height=4)\n",
    "ht = draw(UpSet(m, pt_size=unit(4, \"mm\"), lwd=3, \n",
    "                comb_col=cbb_palette[comb_degree(m)], \n",
    "                set_order = c(\"Caudate\", \"DLPFC\", \"Hippocampus\"), \n",
    "                comb_order = order(-comb_size(m)), \n",
    "                row_names_gp = gpar(fontsize = 14, fontface='bold'),\n",
    "                right_annotation = right_annot, \n",
    "                top_annotation = top_annot))\n",
    "od = column_order(ht)\n",
    "cs = comb_size(m)\n",
    "decorate_annotation(\"intersection_size\", {\n",
    "    grid.text(cs[od], x = seq_along(cs), y = unit(cs[od], \"native\") + \n",
    "              unit(6, \"pt\"), \n",
    "        default.units = \"native\", just = \"bottom\", gp = gpar(fontsize = 11))\n",
    "})\n",
    "dev.off()"
   ]
  },
  {
   "cell_type": "code",
   "execution_count": 17,
   "metadata": {
    "execution": {
     "iopub.execute_input": "2021-11-24T15:04:22.437340Z",
     "iopub.status.busy": "2021-11-24T15:04:22.434597Z",
     "iopub.status.idle": "2021-11-24T15:04:26.324021Z",
     "shell.execute_reply": "2021-11-24T15:04:26.326550Z"
    }
   },
   "outputs": [
    {
     "name": "stdout",
     "output_type": "stream",
     "text": [
      "png \n",
      "  2 \n"
     ]
    }
   ],
   "source": [
    "%%R\n",
    "right_ha = rowAnnotation(\n",
    "    \"Intersection\\nsize\" = anno_barplot(comb_size(m), border=F,\n",
    "                                        ylim = c(0, 150), \n",
    "                                        gp=gpar(fill=cbb_palette[comb_degree(m)]),\n",
    "                                        width = unit(7, \"cm\")))\n",
    "top_ha = HeatmapAnnotation(\n",
    "    \"Set size\" = anno_barplot(set_size(m), border=F,\n",
    "                              ylim = c(0, 150),\n",
    "                              gp = gpar(fill = \"black\"), \n",
    "                              height = unit(2, \"cm\")), \n",
    "    gap = unit(2, \"mm\"), annotation_name_side = \"left\", \n",
    "    annotation_name_rot = 90)\n",
    "\n",
    "\n",
    "pdf(\"BrainSeq_sex_tissue_upsetR_DEgenes_transpose_femaleSpecific.pdf\", width=5, height=10)\n",
    "ht = draw(UpSet(t(m), pt_size=unit(5, \"mm\"), lwd=3,\n",
    "                comb_order = order(-comb_size(m)), \n",
    "                comb_col=cbb_palette[comb_degree(m)], \n",
    "                set_order = c(\"Caudate\", \"DLPFC\", \"Hippocampus\"), \n",
    "                column_names_gp = gpar(fontsize = 16, fontface='bold'),\n",
    "                right_annotation = right_ha, top_annotation=top_ha))\n",
    "\n",
    "od = rev(row_order(ht))\n",
    "cs = comb_size(m)\n",
    "decorate_annotation(\"Intersection\\nsize\", {\n",
    "    grid.text(cs[od], y = seq_along(cs), x = unit(cs[od], \"native\") + \n",
    "              unit(6, \"pt\"), \n",
    "        default.units = \"native\", just = \"left\", gp = gpar(fontsize = 11))\n",
    "})\n",
    "dev.off()"
   ]
  },
  {
   "cell_type": "markdown",
   "metadata": {},
   "source": [
    "### Shared features"
   ]
  },
  {
   "cell_type": "code",
   "execution_count": 18,
   "metadata": {
    "execution": {
     "iopub.execute_input": "2021-11-24T15:04:26.349398Z",
     "iopub.status.busy": "2021-11-24T15:04:26.345866Z",
     "iopub.status.idle": "2021-11-24T15:04:26.352605Z",
     "shell.execute_reply": "2021-11-24T15:04:26.354835Z"
    }
   },
   "outputs": [],
   "source": [
    "@functools.lru_cache()\n",
    "def get_gtf(gtf_file):\n",
    "    return read_gtf(gtf_file)\n"
   ]
  },
  {
   "cell_type": "code",
   "execution_count": 19,
   "metadata": {
    "execution": {
     "iopub.execute_input": "2021-11-24T15:04:26.381532Z",
     "iopub.status.busy": "2021-11-24T15:04:26.379662Z",
     "iopub.status.idle": "2021-11-24T15:06:24.081270Z",
     "shell.execute_reply": "2021-11-24T15:06:24.079222Z"
    }
   },
   "outputs": [
    {
     "name": "stderr",
     "output_type": "stream",
     "text": [
      "INFO:root:Extracted GTF attributes: ['gene_id', 'gene_type', 'gene_status', 'gene_name', 'level', 'havana_gene', 'transcript_id', 'transcript_type', 'transcript_status', 'transcript_name', 'transcript_support_level', 'tag', 'havana_transcript', 'exon_number', 'exon_id', 'ont', 'protein_id', 'ccdsid']\n"
     ]
    },
    {
     "data": {
      "text/html": [
       "<div>\n",
       "<style scoped>\n",
       "    .dataframe tbody tr th:only-of-type {\n",
       "        vertical-align: middle;\n",
       "    }\n",
       "\n",
       "    .dataframe tbody tr th {\n",
       "        vertical-align: top;\n",
       "    }\n",
       "\n",
       "    .dataframe thead th {\n",
       "        text-align: right;\n",
       "    }\n",
       "</style>\n",
       "<table border=\"1\" class=\"dataframe\">\n",
       "  <thead>\n",
       "    <tr style=\"text-align: right;\">\n",
       "      <th></th>\n",
       "      <th>gene_id</th>\n",
       "      <th>gene_name</th>\n",
       "      <th>transcript_id</th>\n",
       "      <th>exon_id</th>\n",
       "      <th>gene_type</th>\n",
       "      <th>seqname</th>\n",
       "      <th>start</th>\n",
       "      <th>end</th>\n",
       "      <th>strand</th>\n",
       "    </tr>\n",
       "  </thead>\n",
       "  <tbody>\n",
       "    <tr>\n",
       "      <th>0</th>\n",
       "      <td>ENSG00000223972.5</td>\n",
       "      <td>DDX11L1</td>\n",
       "      <td></td>\n",
       "      <td></td>\n",
       "      <td>transcribed_unprocessed_pseudogene</td>\n",
       "      <td>chr1</td>\n",
       "      <td>11869</td>\n",
       "      <td>14409</td>\n",
       "      <td>+</td>\n",
       "    </tr>\n",
       "    <tr>\n",
       "      <th>12</th>\n",
       "      <td>ENSG00000227232.5</td>\n",
       "      <td>WASH7P</td>\n",
       "      <td></td>\n",
       "      <td></td>\n",
       "      <td>unprocessed_pseudogene</td>\n",
       "      <td>chr1</td>\n",
       "      <td>14404</td>\n",
       "      <td>29570</td>\n",
       "      <td>-</td>\n",
       "    </tr>\n",
       "  </tbody>\n",
       "</table>\n",
       "</div>"
      ],
      "text/plain": [
       "              gene_id gene_name transcript_id exon_id  \\\n",
       "0   ENSG00000223972.5   DDX11L1                         \n",
       "12  ENSG00000227232.5    WASH7P                         \n",
       "\n",
       "                             gene_type seqname  start    end strand  \n",
       "0   transcribed_unprocessed_pseudogene    chr1  11869  14409      +  \n",
       "12              unprocessed_pseudogene    chr1  14404  29570      -  "
      ]
     },
     "execution_count": 19,
     "metadata": {},
     "output_type": "execute_result"
    }
   ],
   "source": [
    "def gene_annotation(gtf_file, feature):\n",
    "    gtf0 = get_gtf(gtf_file)\n",
    "    gtf = gtf0[gtf0[\"feature\"] == feature]\n",
    "    return gtf[[\"gene_id\", \"gene_name\", \"transcript_id\", \"exon_id\", \"gene_type\", \"seqname\", \"start\", \"end\", \"strand\"]]\n",
    "\n",
    "gtf_file = '/ceph/genome/human/gencode25/gtf.CHR/_m/gencode.v25.annotation.gtf'\n",
    "gtf_annot = gene_annotation(gtf_file, 'gene')\n",
    "gtf_annot.head(2)"
   ]
  },
  {
   "cell_type": "code",
   "execution_count": 20,
   "metadata": {
    "execution": {
     "iopub.execute_input": "2021-11-24T15:06:24.114950Z",
     "iopub.status.busy": "2021-11-24T15:06:24.100431Z",
     "iopub.status.idle": "2021-11-24T15:06:24.301225Z",
     "shell.execute_reply": "2021-11-24T15:06:24.299690Z"
    }
   },
   "outputs": [
    {
     "data": {
      "text/html": [
       "<div>\n",
       "<style scoped>\n",
       "    .dataframe tbody tr th:only-of-type {\n",
       "        vertical-align: middle;\n",
       "    }\n",
       "\n",
       "    .dataframe tbody tr th {\n",
       "        vertical-align: top;\n",
       "    }\n",
       "\n",
       "    .dataframe thead th {\n",
       "        text-align: right;\n",
       "    }\n",
       "</style>\n",
       "<table border=\"1\" class=\"dataframe\">\n",
       "  <thead>\n",
       "    <tr style=\"text-align: right;\">\n",
       "      <th></th>\n",
       "      <th>Feature</th>\n",
       "      <th>ensemblID</th>\n",
       "      <th>adj.P.Val</th>\n",
       "      <th>logFC</th>\n",
       "      <th>t</th>\n",
       "      <th>Dir</th>\n",
       "      <th>gene_id</th>\n",
       "      <th>gene_name</th>\n",
       "      <th>seqname</th>\n",
       "    </tr>\n",
       "  </thead>\n",
       "  <tbody>\n",
       "    <tr>\n",
       "      <th>1928121</th>\n",
       "      <td>ENSG00000070915.9</td>\n",
       "      <td>ENSG00000070915</td>\n",
       "      <td>0.006380</td>\n",
       "      <td>0.909953</td>\n",
       "      <td>4.668428</td>\n",
       "      <td>1.0</td>\n",
       "      <td>ENSG00000070915.9</td>\n",
       "      <td>SLC12A3</td>\n",
       "      <td>chr16</td>\n",
       "    </tr>\n",
       "    <tr>\n",
       "      <th>1468999</th>\n",
       "      <td>ENSG00000111181.12</td>\n",
       "      <td>ENSG00000111181</td>\n",
       "      <td>0.009994</td>\n",
       "      <td>-0.432628</td>\n",
       "      <td>-4.405278</td>\n",
       "      <td>-1.0</td>\n",
       "      <td>ENSG00000111181.12</td>\n",
       "      <td>SLC6A12</td>\n",
       "      <td>chr12</td>\n",
       "    </tr>\n",
       "  </tbody>\n",
       "</table>\n",
       "</div>"
      ],
      "text/plain": [
       "                    Feature        ensemblID  adj.P.Val     logFC         t  \\\n",
       "1928121   ENSG00000070915.9  ENSG00000070915   0.006380  0.909953  4.668428   \n",
       "1468999  ENSG00000111181.12  ENSG00000111181   0.009994 -0.432628 -4.405278   \n",
       "\n",
       "         Dir             gene_id gene_name seqname  \n",
       "1928121  1.0   ENSG00000070915.9   SLC12A3   chr16  \n",
       "1468999 -1.0  ENSG00000111181.12   SLC6A12   chr12  "
      ]
     },
     "execution_count": 20,
     "metadata": {},
     "output_type": "execute_result"
    }
   ],
   "source": [
    "dft = caudate.merge(gtf_annot[['gene_id', 'gene_name', 'seqname']], \n",
    "                    left_index=True, right_on='gene_id')\n",
    "dft.head(2)"
   ]
  },
  {
   "cell_type": "markdown",
   "metadata": {},
   "source": [
    "## Comparison with CommonMind"
   ]
  },
  {
   "cell_type": "code",
   "execution_count": 21,
   "metadata": {
    "execution": {
     "iopub.execute_input": "2021-11-24T15:06:24.326450Z",
     "iopub.status.busy": "2021-11-24T15:06:24.324241Z",
     "iopub.status.idle": "2021-11-24T15:06:24.451114Z",
     "shell.execute_reply": "2021-11-24T15:06:24.452597Z"
    }
   },
   "outputs": [
    {
     "data": {
      "text/plain": [
       "Dir\n",
       "-1.0    227\n",
       " 1.0    356\n",
       "dtype: int64"
      ]
     },
     "execution_count": 21,
     "metadata": {},
     "output_type": "execute_result"
    }
   ],
   "source": [
    "cmc_dlpfc = get_deg(config['cmc_dlpfc'])\n",
    "cmc_dlpfc.groupby('Dir').size()"
   ]
  },
  {
   "cell_type": "code",
   "execution_count": 22,
   "metadata": {
    "execution": {
     "iopub.execute_input": "2021-11-24T15:06:24.476345Z",
     "iopub.status.busy": "2021-11-24T15:06:24.467772Z",
     "iopub.status.idle": "2021-11-24T15:06:24.501424Z",
     "shell.execute_reply": "2021-11-24T15:06:24.500084Z"
    }
   },
   "outputs": [
    {
     "data": {
      "text/plain": [
       "(583, 6)"
      ]
     },
     "execution_count": 22,
     "metadata": {},
     "output_type": "execute_result"
    }
   ],
   "source": [
    "cmc_dlpfc[(cmc_dlpfc['adj.P.Val'] < 0.05)].shape"
   ]
  },
  {
   "cell_type": "markdown",
   "metadata": {},
   "source": [
    "### Upset Plot"
   ]
  },
  {
   "cell_type": "code",
   "execution_count": 23,
   "metadata": {
    "execution": {
     "iopub.execute_input": "2021-11-24T15:06:24.524524Z",
     "iopub.status.busy": "2021-11-24T15:06:24.522864Z",
     "iopub.status.idle": "2021-11-24T15:06:24.573655Z",
     "shell.execute_reply": "2021-11-24T15:06:24.571800Z"
    }
   },
   "outputs": [],
   "source": [
    "cmc = cmc_dlpfc[(cmc_dlpfc['adj.P.Val'] < 0.05)].copy()\n",
    "cmc['CMC DLPFC'] = 1\n",
    "cmc = cmc[['ensemblID', 'CMC DLPFC']].groupby('ensemblID').first().reset_index()"
   ]
  },
  {
   "cell_type": "code",
   "execution_count": 24,
   "metadata": {
    "execution": {
     "iopub.execute_input": "2021-11-24T15:06:24.597473Z",
     "iopub.status.busy": "2021-11-24T15:06:24.587242Z",
     "iopub.status.idle": "2021-11-24T15:06:25.576046Z",
     "shell.execute_reply": "2021-11-24T15:06:25.577227Z"
    }
   },
   "outputs": [
    {
     "name": "stdout",
     "output_type": "stream",
     "text": [
      "(610, 2) (610, 2) (610, 2) (610, 2)\n"
     ]
    }
   ],
   "source": [
    "geneList = pd.merge(phase3_caudate[['ensemblID']], phase2_dlpfc[['ensemblID']], on=['ensemblID'], how='outer')\\\n",
    "             .merge(phase2_hippo[['ensemblID']], on=['ensemblID'], how='outer')\\\n",
    "             .merge(cmc[['ensemblID']], on=['ensemblID'], how='outer')\\\n",
    "             .groupby(['ensemblID']).first().reset_index()\n",
    "\n",
    "newC = pd.merge(geneList, phase3_caudate, on=['ensemblID'], how='outer').fillna(0)\n",
    "newC['Caudate'] = newC['Caudate'].astype('int')\n",
    "\n",
    "newD1 = pd.merge(geneList, phase2_dlpfc, on=['ensemblID'], how='outer').fillna(0)\n",
    "newD1['DLPFC'] = newD1['DLPFC'].astype('int')\n",
    "\n",
    "newH = pd.merge(geneList, phase2_hippo, on=['ensemblID'], how='outer').fillna(0)\n",
    "newH['Hippocampus'] = newH['Hippocampus'].astype('int')\n",
    "\n",
    "newCMC = pd.merge(geneList, cmc, on=['ensemblID'], how='outer').fillna(0)\n",
    "newCMC['CMC DLPFC'] = newCMC['CMC DLPFC'].astype('int')\n",
    "\n",
    "print(newC.shape, newH.shape, newD1.shape, newCMC.shape)"
   ]
  },
  {
   "cell_type": "code",
   "execution_count": 25,
   "metadata": {
    "execution": {
     "iopub.execute_input": "2021-11-24T15:06:25.619809Z",
     "iopub.status.busy": "2021-11-24T15:06:25.596657Z",
     "iopub.status.idle": "2021-11-24T15:06:25.630746Z",
     "shell.execute_reply": "2021-11-24T15:06:25.629358Z"
    }
   },
   "outputs": [
    {
     "data": {
      "text/html": [
       "<div>\n",
       "<style scoped>\n",
       "    .dataframe tbody tr th:only-of-type {\n",
       "        vertical-align: middle;\n",
       "    }\n",
       "\n",
       "    .dataframe tbody tr th {\n",
       "        vertical-align: top;\n",
       "    }\n",
       "\n",
       "    .dataframe thead th {\n",
       "        text-align: right;\n",
       "    }\n",
       "</style>\n",
       "<table border=\"1\" class=\"dataframe\">\n",
       "  <thead>\n",
       "    <tr style=\"text-align: right;\">\n",
       "      <th></th>\n",
       "      <th>Caudate</th>\n",
       "      <th>DLPFC</th>\n",
       "      <th>Hippocampus</th>\n",
       "      <th>CMC DLPFC</th>\n",
       "    </tr>\n",
       "    <tr>\n",
       "      <th>ensemblID</th>\n",
       "      <th></th>\n",
       "      <th></th>\n",
       "      <th></th>\n",
       "      <th></th>\n",
       "    </tr>\n",
       "  </thead>\n",
       "  <tbody>\n",
       "    <tr>\n",
       "      <th>ENSG00000003137</th>\n",
       "      <td>1</td>\n",
       "      <td>0</td>\n",
       "      <td>0</td>\n",
       "      <td>0</td>\n",
       "    </tr>\n",
       "    <tr>\n",
       "      <th>ENSG00000003147</th>\n",
       "      <td>0</td>\n",
       "      <td>0</td>\n",
       "      <td>0</td>\n",
       "      <td>1</td>\n",
       "    </tr>\n",
       "  </tbody>\n",
       "</table>\n",
       "</div>"
      ],
      "text/plain": [
       "                 Caudate  DLPFC  Hippocampus  CMC DLPFC\n",
       "ensemblID                                              \n",
       "ENSG00000003137        1      0            0          0\n",
       "ENSG00000003147        0      0            0          1"
      ]
     },
     "execution_count": 25,
     "metadata": {},
     "output_type": "execute_result"
    }
   ],
   "source": [
    "df = pd.concat([newC.set_index(['ensemblID']), newD1.set_index(['ensemblID']), \n",
    "                newH.set_index(['ensemblID']), newCMC.set_index(['ensemblID'])], \n",
    "               axis=1, join='outer')\n",
    "df.head(2)"
   ]
  },
  {
   "cell_type": "code",
   "execution_count": 26,
   "metadata": {
    "execution": {
     "iopub.execute_input": "2021-11-24T15:06:25.647753Z",
     "iopub.status.busy": "2021-11-24T15:06:25.646000Z",
     "iopub.status.idle": "2021-11-24T15:06:25.724103Z",
     "shell.execute_reply": "2021-11-24T15:06:25.721800Z"
    }
   },
   "outputs": [],
   "source": [
    "%%R \n",
    "cmc = subset_pvalue('../../../cmc_dlpfc/female_analysis/metrics_summary/_m/female_specific_DE_genes.txt',\n",
    "                    0.05)\n",
    "\n",
    "lt = list(Caudate = caudate,\n",
    "          DLPFC = dlpfc,\n",
    "          Hippocampus = hippo, \n",
    "          `CMC DLPFC` = cmc)\n",
    "\n",
    "m = make_comb_mat(lt)"
   ]
  },
  {
   "cell_type": "code",
   "execution_count": 27,
   "metadata": {
    "execution": {
     "iopub.execute_input": "2021-11-24T15:06:25.750515Z",
     "iopub.status.busy": "2021-11-24T15:06:25.748516Z",
     "iopub.status.idle": "2021-11-24T15:06:26.084331Z",
     "shell.execute_reply": "2021-11-24T15:06:26.086005Z"
    }
   },
   "outputs": [
    {
     "name": "stdout",
     "output_type": "stream",
     "text": [
      "png \n",
      "  2 \n"
     ]
    }
   ],
   "source": [
    "%%R\n",
    "right_annot = upset_right_annotation(\n",
    "    m, ylim = c(0, 800),\n",
    "    gp = gpar(fill = \"black\"),\n",
    "    annotation_name_side = \"bottom\",\n",
    "    axis_param = list(side = \"bottom\"))\n",
    "\n",
    "top_annot = upset_top_annotation(\n",
    "    m, height=unit(7, \"cm\"), \n",
    "    ylim = c(0, 800),\n",
    "    gp=gpar(fill=cbb_palette[comb_degree(m)]),\n",
    "    annotation_name_rot = 90)\n",
    "\n",
    "pdf('cmc_sex_tissue_upsetR_DEgenes_femaleSpecific.pdf', width=8, height=5)\n",
    "ht = draw(UpSet(m, pt_size=unit(6, \"mm\"), lwd=3, \n",
    "                comb_col=cbb_palette[comb_degree(m)], \n",
    "                set_order = c(\"Caudate\", \"DLPFC\", \"Hippocampus\", \"CMC DLPFC\"), \n",
    "                comb_order = order(-comb_size(m)), \n",
    "                row_names_gp = gpar(fontsize = 16, fontface='bold'),\n",
    "                right_annotation = right_annot, \n",
    "                top_annotation = top_annot))\n",
    "od = column_order(ht)\n",
    "cs = comb_size(m)\n",
    "decorate_annotation(\"intersection_size\", {\n",
    "    grid.text(cs[od], x = seq_along(cs), y = unit(cs[od], \"native\") + \n",
    "              unit(6, \"pt\"), \n",
    "        default.units = \"native\", just = \"bottom\", gp = gpar(fontsize = 11))\n",
    "})\n",
    "dev.off()"
   ]
  },
  {
   "cell_type": "code",
   "execution_count": 28,
   "metadata": {
    "execution": {
     "iopub.execute_input": "2021-11-24T15:06:26.103957Z",
     "iopub.status.busy": "2021-11-24T15:06:26.101555Z",
     "iopub.status.idle": "2021-11-24T15:06:26.378850Z",
     "shell.execute_reply": "2021-11-24T15:06:26.380500Z"
    }
   },
   "outputs": [
    {
     "name": "stdout",
     "output_type": "stream",
     "text": [
      "png \n",
      "  2 \n"
     ]
    }
   ],
   "source": [
    "%%R\n",
    "right_ha = rowAnnotation(\n",
    "    \"Intersection\\nsize\" = anno_barplot(comb_size(m), border=F,\n",
    "                                        ylim = c(0, 800), \n",
    "                                        gp=gpar(fill=cbb_palette[comb_degree(m)]),\n",
    "                                        width = unit(7, \"cm\")))\n",
    "top_ha = HeatmapAnnotation(\n",
    "    \"Set size\" = anno_barplot(set_size(m), border=F,\n",
    "                              ylim = c(0, 800),\n",
    "                              gp = gpar(fill = \"black\"), \n",
    "                              height = unit(2, \"cm\")), \n",
    "    gap = unit(2, \"mm\"), annotation_name_side = \"left\", \n",
    "    annotation_name_rot = 90)\n",
    "\n",
    "pdf(\"cmc_sex_tissue_upsetR_DEgenes_transpose_femaleSpecific.pdf\", width=5, height=10)\n",
    "ht = draw(UpSet(t(m), pt_size=unit(5, \"mm\"), lwd=3,\n",
    "                comb_order = order(-comb_size(m)),\n",
    "                comb_col=cbb_palette[comb_degree(m)], \n",
    "                set_order = c(\"Caudate\", \"DLPFC\", \"Hippocampus\", \"CMC DLPFC\"), \n",
    "                column_names_gp = gpar(fontsize = 16, fontface='bold'),\n",
    "                right_annotation = right_ha, top_annotation=top_ha))\n",
    "\n",
    "od = rev(row_order(ht))\n",
    "cs = comb_size(m)\n",
    "decorate_annotation(\"Intersection\\nsize\", {\n",
    "    grid.text(cs[od], y = seq_along(cs), x = unit(cs[od], \"native\") + \n",
    "              unit(6, \"pt\"), \n",
    "        default.units = \"native\", just = \"left\", gp = gpar(fontsize = 11))\n",
    "})\n",
    "dev.off()"
   ]
  },
  {
   "cell_type": "code",
   "execution_count": 29,
   "metadata": {
    "execution": {
     "iopub.execute_input": "2021-11-24T15:06:26.396759Z",
     "iopub.status.busy": "2021-11-24T15:06:26.394648Z",
     "iopub.status.idle": "2021-11-24T15:06:26.456993Z",
     "shell.execute_reply": "2021-11-24T15:06:26.455367Z"
    }
   },
   "outputs": [
    {
     "data": {
      "text/html": [
       "<div>\n",
       "<style scoped>\n",
       "    .dataframe tbody tr th:only-of-type {\n",
       "        vertical-align: middle;\n",
       "    }\n",
       "\n",
       "    .dataframe tbody tr th {\n",
       "        vertical-align: top;\n",
       "    }\n",
       "\n",
       "    .dataframe thead th {\n",
       "        text-align: right;\n",
       "    }\n",
       "</style>\n",
       "<table border=\"1\" class=\"dataframe\">\n",
       "  <thead>\n",
       "    <tr style=\"text-align: right;\">\n",
       "      <th></th>\n",
       "      <th>Feature</th>\n",
       "      <th>gencodeID</th>\n",
       "      <th>Symbol</th>\n",
       "      <th>ensemblID</th>\n",
       "      <th>Chrom</th>\n",
       "      <th>logFC</th>\n",
       "      <th>t</th>\n",
       "      <th>adj.P.Val</th>\n",
       "      <th>Male_Pval</th>\n",
       "      <th>Male_FDR</th>\n",
       "      <th>Type</th>\n",
       "      <th>Dir</th>\n",
       "    </tr>\n",
       "  </thead>\n",
       "  <tbody>\n",
       "    <tr>\n",
       "      <th>0</th>\n",
       "      <td>ENSG00000153132.12</td>\n",
       "      <td>ENSG00000153132.12</td>\n",
       "      <td>CLGN</td>\n",
       "      <td>ENSG00000153132</td>\n",
       "      <td>chr4</td>\n",
       "      <td>0.389937</td>\n",
       "      <td>5.559139</td>\n",
       "      <td>0.000123</td>\n",
       "      <td>0.283020</td>\n",
       "      <td>0.313711</td>\n",
       "      <td>gene</td>\n",
       "      <td>1.0</td>\n",
       "    </tr>\n",
       "    <tr>\n",
       "      <th>1</th>\n",
       "      <td>ENSG00000179083.6</td>\n",
       "      <td>ENSG00000179083.6</td>\n",
       "      <td>FAM133A</td>\n",
       "      <td>ENSG00000179083</td>\n",
       "      <td>chrX</td>\n",
       "      <td>0.261268</td>\n",
       "      <td>5.004488</td>\n",
       "      <td>0.000535</td>\n",
       "      <td>0.272019</td>\n",
       "      <td>0.302973</td>\n",
       "      <td>gene</td>\n",
       "      <td>1.0</td>\n",
       "    </tr>\n",
       "    <tr>\n",
       "      <th>2</th>\n",
       "      <td>ENSG00000165733.7</td>\n",
       "      <td>ENSG00000165733.7</td>\n",
       "      <td>BMS1</td>\n",
       "      <td>ENSG00000165733</td>\n",
       "      <td>chr10</td>\n",
       "      <td>0.150918</td>\n",
       "      <td>4.986552</td>\n",
       "      <td>0.000535</td>\n",
       "      <td>0.169787</td>\n",
       "      <td>0.205428</td>\n",
       "      <td>gene</td>\n",
       "      <td>1.0</td>\n",
       "    </tr>\n",
       "    <tr>\n",
       "      <th>3</th>\n",
       "      <td>ENSG00000183023.18</td>\n",
       "      <td>ENSG00000183023.18</td>\n",
       "      <td>SLC8A1</td>\n",
       "      <td>ENSG00000183023</td>\n",
       "      <td>chr2</td>\n",
       "      <td>0.245819</td>\n",
       "      <td>4.925477</td>\n",
       "      <td>0.000632</td>\n",
       "      <td>0.082759</td>\n",
       "      <td>0.108963</td>\n",
       "      <td>gene</td>\n",
       "      <td>1.0</td>\n",
       "    </tr>\n",
       "    <tr>\n",
       "      <th>4</th>\n",
       "      <td>ENSG00000236268.5</td>\n",
       "      <td>ENSG00000236268.5</td>\n",
       "      <td>LINC01361</td>\n",
       "      <td>ENSG00000236268</td>\n",
       "      <td>chr1</td>\n",
       "      <td>0.404532</td>\n",
       "      <td>4.865744</td>\n",
       "      <td>0.000700</td>\n",
       "      <td>0.110632</td>\n",
       "      <td>0.140404</td>\n",
       "      <td>gene</td>\n",
       "      <td>1.0</td>\n",
       "    </tr>\n",
       "  </tbody>\n",
       "</table>\n",
       "</div>"
      ],
      "text/plain": [
       "              Feature           gencodeID     Symbol        ensemblID  Chrom  \\\n",
       "0  ENSG00000153132.12  ENSG00000153132.12       CLGN  ENSG00000153132   chr4   \n",
       "1   ENSG00000179083.6   ENSG00000179083.6    FAM133A  ENSG00000179083   chrX   \n",
       "2   ENSG00000165733.7   ENSG00000165733.7       BMS1  ENSG00000165733  chr10   \n",
       "3  ENSG00000183023.18  ENSG00000183023.18     SLC8A1  ENSG00000183023   chr2   \n",
       "4   ENSG00000236268.5   ENSG00000236268.5  LINC01361  ENSG00000236268   chr1   \n",
       "\n",
       "      logFC         t  adj.P.Val  Male_Pval  Male_FDR  Type  Dir  \n",
       "0  0.389937  5.559139   0.000123   0.283020  0.313711  gene  1.0  \n",
       "1  0.261268  5.004488   0.000535   0.272019  0.302973  gene  1.0  \n",
       "2  0.150918  4.986552   0.000535   0.169787  0.205428  gene  1.0  \n",
       "3  0.245819  4.925477   0.000632   0.082759  0.108963  gene  1.0  \n",
       "4  0.404532  4.865744   0.000700   0.110632  0.140404  gene  1.0  "
      ]
     },
     "execution_count": 29,
     "metadata": {},
     "output_type": "execute_result"
    }
   ],
   "source": [
    "dft = pd.read_csv('../../../cmc_dlpfc/female_analysis/metrics_summary/_m/female_specific_DE_genes.txt',\n",
    "                  sep='\\t')\n",
    "dft['Dir'] = np.sign(dft['t'])\n",
    "dft.head()"
   ]
  },
  {
   "cell_type": "code",
   "execution_count": 30,
   "metadata": {
    "execution": {
     "iopub.execute_input": "2021-11-24T15:06:26.471080Z",
     "iopub.status.busy": "2021-11-24T15:06:26.469373Z",
     "iopub.status.idle": "2021-11-24T15:06:26.525969Z",
     "shell.execute_reply": "2021-11-24T15:06:26.523954Z"
    }
   },
   "outputs": [
    {
     "data": {
      "text/html": [
       "<div>\n",
       "<style scoped>\n",
       "    .dataframe tbody tr th:only-of-type {\n",
       "        vertical-align: middle;\n",
       "    }\n",
       "\n",
       "    .dataframe tbody tr th {\n",
       "        vertical-align: top;\n",
       "    }\n",
       "\n",
       "    .dataframe thead th {\n",
       "        text-align: right;\n",
       "    }\n",
       "</style>\n",
       "<table border=\"1\" class=\"dataframe\">\n",
       "  <thead>\n",
       "    <tr style=\"text-align: right;\">\n",
       "      <th></th>\n",
       "      <th>Feature</th>\n",
       "      <th>ensemblID</th>\n",
       "      <th>Symbol</th>\n",
       "      <th>Chrom</th>\n",
       "      <th>Dir</th>\n",
       "    </tr>\n",
       "  </thead>\n",
       "  <tbody>\n",
       "    <tr>\n",
       "      <th>0</th>\n",
       "      <td>ENSG00000263006.6</td>\n",
       "      <td>ENSG00000263006</td>\n",
       "      <td>ROCK1P1</td>\n",
       "      <td>chr18</td>\n",
       "      <td>1.0</td>\n",
       "    </tr>\n",
       "    <tr>\n",
       "      <th>1</th>\n",
       "      <td>ENSG00000249669.9</td>\n",
       "      <td>ENSG00000249669</td>\n",
       "      <td>CARMN</td>\n",
       "      <td>chr5</td>\n",
       "      <td>-1.0</td>\n",
       "    </tr>\n",
       "    <tr>\n",
       "      <th>2</th>\n",
       "      <td>ENSG00000167703.14</td>\n",
       "      <td>ENSG00000167703</td>\n",
       "      <td>SLC43A2</td>\n",
       "      <td>chr17</td>\n",
       "      <td>-1.0</td>\n",
       "    </tr>\n",
       "  </tbody>\n",
       "</table>\n",
       "</div>"
      ],
      "text/plain": [
       "              Feature        ensemblID   Symbol  Chrom  Dir\n",
       "0   ENSG00000263006.6  ENSG00000263006  ROCK1P1  chr18  1.0\n",
       "1   ENSG00000249669.9  ENSG00000249669    CARMN   chr5 -1.0\n",
       "2  ENSG00000167703.14  ENSG00000167703  SLC43A2  chr17 -1.0"
      ]
     },
     "execution_count": 30,
     "metadata": {},
     "output_type": "execute_result"
    }
   ],
   "source": [
    "dft.loc[:, ['Feature', 'ensemblID', 'Symbol', 'Chrom', 'Dir']]\\\n",
    "    .merge(pd.DataFrame({'ensemblID': list(set(phase3_caudate['ensemblID']) & \n",
    "                                           set(cmc['ensemblID']))}), \n",
    "           on='ensemblID')"
   ]
  },
  {
   "cell_type": "code",
   "execution_count": 31,
   "metadata": {
    "execution": {
     "iopub.execute_input": "2021-11-24T15:06:26.558481Z",
     "iopub.status.busy": "2021-11-24T15:06:26.544212Z",
     "iopub.status.idle": "2021-11-24T15:06:26.617295Z",
     "shell.execute_reply": "2021-11-24T15:06:26.615317Z"
    }
   },
   "outputs": [
    {
     "data": {
      "text/html": [
       "<div>\n",
       "<style scoped>\n",
       "    .dataframe tbody tr th:only-of-type {\n",
       "        vertical-align: middle;\n",
       "    }\n",
       "\n",
       "    .dataframe tbody tr th {\n",
       "        vertical-align: top;\n",
       "    }\n",
       "\n",
       "    .dataframe thead th {\n",
       "        text-align: right;\n",
       "    }\n",
       "</style>\n",
       "<table border=\"1\" class=\"dataframe\">\n",
       "  <thead>\n",
       "    <tr style=\"text-align: right;\">\n",
       "      <th></th>\n",
       "      <th>Feature</th>\n",
       "      <th>ensemblID</th>\n",
       "      <th>Chrom</th>\n",
       "      <th>Symbol</th>\n",
       "      <th>Dir</th>\n",
       "    </tr>\n",
       "  </thead>\n",
       "  <tbody>\n",
       "    <tr>\n",
       "      <th>0</th>\n",
       "      <td>ENSG00000263006.6</td>\n",
       "      <td>ENSG00000263006</td>\n",
       "      <td>chr18</td>\n",
       "      <td>ROCK1P1</td>\n",
       "      <td>1.0</td>\n",
       "    </tr>\n",
       "    <tr>\n",
       "      <th>1</th>\n",
       "      <td>ENSG00000249669.9</td>\n",
       "      <td>ENSG00000249669</td>\n",
       "      <td>chr5</td>\n",
       "      <td>CARMN</td>\n",
       "      <td>-1.0</td>\n",
       "    </tr>\n",
       "    <tr>\n",
       "      <th>2</th>\n",
       "      <td>ENSG00000167703.14</td>\n",
       "      <td>ENSG00000167703</td>\n",
       "      <td>chr17</td>\n",
       "      <td>SLC43A2</td>\n",
       "      <td>-1.0</td>\n",
       "    </tr>\n",
       "  </tbody>\n",
       "</table>\n",
       "</div>"
      ],
      "text/plain": [
       "              Feature        ensemblID  Chrom   Symbol  Dir\n",
       "0   ENSG00000263006.6  ENSG00000263006  chr18  ROCK1P1  1.0\n",
       "1   ENSG00000249669.9  ENSG00000249669   chr5    CARMN -1.0\n",
       "2  ENSG00000167703.14  ENSG00000167703  chr17  SLC43A2 -1.0"
      ]
     },
     "execution_count": 31,
     "metadata": {},
     "output_type": "execute_result"
    }
   ],
   "source": [
    "shared_df = dft.loc[:, ['Feature', 'ensemblID', 'Chrom', 'Symbol', 'Dir']]\\\n",
    "               .merge(pd.DataFrame({'ensemblID': list(set(phase3_caudate['ensemblID']) & \n",
    "                                                      set(cmc['ensemblID']))}), \n",
    "                      on='ensemblID')\n",
    "shared_df.to_csv('cmc_shared_caudate_degs_annotation_femaleSpecific.txt', sep='\\t', \n",
    "                 index=False, header=True)\n",
    "shared_df"
   ]
  },
  {
   "cell_type": "code",
   "execution_count": 32,
   "metadata": {
    "execution": {
     "iopub.execute_input": "2021-11-24T15:06:26.641404Z",
     "iopub.status.busy": "2021-11-24T15:06:26.639603Z",
     "iopub.status.idle": "2021-11-24T15:06:26.651427Z",
     "shell.execute_reply": "2021-11-24T15:06:26.650060Z"
    }
   },
   "outputs": [
    {
     "name": "stdout",
     "output_type": "stream",
     "text": [
      "0.00% of shared DEG are allosomal!\n"
     ]
    }
   ],
   "source": [
    "#### 6 out of 41 are autosomal\n",
    "dd = np.sum(shared_df.Chrom.isin(['chrX', 'chrY'])) / shared_df.shape[0] * 100\n",
    "print(\"%0.2f%% of shared DEG are allosomal!\" % dd)"
   ]
  },
  {
   "cell_type": "code",
   "execution_count": 33,
   "metadata": {
    "execution": {
     "iopub.execute_input": "2021-11-24T15:06:26.762624Z",
     "iopub.status.busy": "2021-11-24T15:06:26.716509Z",
     "iopub.status.idle": "2021-11-24T15:06:27.111803Z",
     "shell.execute_reply": "2021-11-24T15:06:27.113320Z"
    }
   },
   "outputs": [],
   "source": [
    "gtf_annot['ensemblID'] = gtf_annot.gene_id.str.replace(\"\\\\..*\", \"\", regex=True)\n",
    "gtf_annot[[\"gene_id\", 'ensemblID', 'gene_name', 'seqname', 'gene_type']]\\\n",
    "    .merge(df, left_on='ensemblID', right_index=True)\\\n",
    "    .to_csv('cmc_all_deg_across_tissues_femaleSpecific.csv')"
   ]
  },
  {
   "cell_type": "code",
   "execution_count": null,
   "metadata": {},
   "outputs": [],
   "source": []
  }
 ],
 "metadata": {
  "kernelspec": {
   "display_name": "Python 3 (ipykernel)",
   "language": "python",
   "name": "python3"
  },
  "language_info": {
   "codemirror_mode": {
    "name": "ipython",
    "version": 3
   },
   "file_extension": ".py",
   "mimetype": "text/x-python",
   "name": "python",
   "nbconvert_exporter": "python",
   "pygments_lexer": "ipython3",
   "version": "3.9.7"
  }
 },
 "nbformat": 4,
 "nbformat_minor": 4
}
