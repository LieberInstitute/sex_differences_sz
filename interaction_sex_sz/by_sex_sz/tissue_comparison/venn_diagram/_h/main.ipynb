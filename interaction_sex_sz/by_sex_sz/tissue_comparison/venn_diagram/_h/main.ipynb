{
 "cells": [
  {
   "cell_type": "markdown",
   "metadata": {},
   "source": [
    "# Venn diagram comparing female and male SZ differential expression results"
   ]
  },
  {
   "cell_type": "code",
   "execution_count": null,
   "metadata": {},
   "outputs": [],
   "source": [
    "import pandas as pd\n",
    "import matplotlib.pyplot as plt\n",
    "from matplotlib_venn import venn2"
   ]
  },
  {
   "cell_type": "code",
   "execution_count": null,
   "metadata": {},
   "outputs": [],
   "source": [
    "plt.rcParams.update({'font.size': 22, 'font.weight': 'bold'})"
   ]
  },
  {
   "cell_type": "code",
   "execution_count": null,
   "metadata": {},
   "outputs": [],
   "source": [
    "def get_deg_df(tissue, feature):\n",
    "    fn1 = \"../../../%s/female_analysis/_m/%s/diffExpr_szVctl_full.txt\" % (tissue.lower(), feature)\n",
    "    fn2 = \"../../../%s/male_analysis/_m/%s/diffExpr_szVctl_full.txt\" % (tissue.lower(), feature)\n",
    "    female = pd.read_csv(fn1, sep='\\t', index_col=0)\n",
    "    male = pd.read_csv(fn2, sep='\\t', index_col=0)\n",
    "    return female[(female['adj.P.Val'] <= 0.05)], male[(male['adj.P.Val'] <= 0.05)]\n",
    "\n",
    "\n",
    "def plot_venn(tissue, feature):\n",
    "    ff, mm = get_deg_df(tissue, feature)\n",
    "    plt.figure(figsize=(10,10))\n",
    "    v = venn2([set(ff.index), set(mm.index)], set_labels = ('Female', 'Male'))\n",
    "    v.get_patch_by_id('10').set_color('red')\n",
    "    v.get_patch_by_id('10').set_alpha(0.75)\n",
    "    v.get_patch_by_id('01').set_color('blue')\n",
    "    v.get_patch_by_id('01').set_alpha(0.75)\n",
    "    try:\n",
    "        v.get_patch_by_id('11').set_color('purple')\n",
    "        v.get_patch_by_id('11').set_alpha(0.75)\n",
    "    except AttributeError:\n",
    "        print(\"There is no overlap!\")\n",
    "    plt.savefig('venn_%s_%s.png' % (tissue.lower(), feature))\n",
    "    plt.savefig('venn_%s_%s.pdf' % (tissue.lower(), feature))"
   ]
  },
  {
   "cell_type": "code",
   "execution_count": null,
   "metadata": {},
   "outputs": [],
   "source": [
    "for tissue in ['Caudate', 'DLPFC', 'Hippocampus']:\n",
    "    for feature in ['genes', 'transcripts', 'exons', 'junctions']:\n",
    "        plot_venn(tissue, feature)"
   ]
  },
  {
   "cell_type": "code",
   "execution_count": null,
   "metadata": {},
   "outputs": [],
   "source": [
    "plot_venn('cmc_dlpfc', 'genes')"
   ]
  },
  {
   "cell_type": "code",
   "execution_count": null,
   "metadata": {},
   "outputs": [],
   "source": []
  }
 ],
 "metadata": {
  "kernelspec": {
   "display_name": "Python 3 (ipykernel)",
   "language": "python",
   "name": "python3"
  },
  "language_info": {
   "codemirror_mode": {
    "name": "ipython",
    "version": 3
   },
   "file_extension": ".py",
   "mimetype": "text/x-python",
   "name": "python",
   "nbconvert_exporter": "python",
   "pygments_lexer": "ipython3",
   "version": "3.9.7"
  }
 },
 "nbformat": 4,
 "nbformat_minor": 4
}
