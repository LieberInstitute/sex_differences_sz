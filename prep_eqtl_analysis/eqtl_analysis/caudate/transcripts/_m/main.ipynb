{
 "cells": [
  {
   "cell_type": "markdown",
   "metadata": {},
   "source": [
    "# Prepare GCT files for the gtex eqtl pipeline\n",
    "\n",
    "Apuã Paquola\n",
    "\n",
    "Edited by Kynon J Benjamin\n",
    "\n",
    "- Inputs:\n",
    "    * raw counts\n",
    "    * sample table\n",
    "- Outputs:\n",
    "    * GCT files of counts and tpm for selected samples and genes\n",
    "    * A lookup table of sample_ids and brain_ids\n",
    "    * A list of chromosomes to use"
   ]
  },
  {
   "cell_type": "code",
   "execution_count": 1,
   "metadata": {
    "execution": {
     "iopub.execute_input": "2021-07-15T02:49:48.337358Z",
     "iopub.status.busy": "2021-07-15T02:49:48.335884Z",
     "iopub.status.idle": "2021-07-15T02:49:48.644599Z",
     "shell.execute_reply": "2021-07-15T02:49:48.643335Z"
    }
   },
   "outputs": [],
   "source": [
    "import pandas as pd"
   ]
  },
  {
   "cell_type": "code",
   "execution_count": 2,
   "metadata": {
    "execution": {
     "iopub.execute_input": "2021-07-15T02:49:48.652675Z",
     "iopub.status.busy": "2021-07-15T02:49:48.651302Z",
     "iopub.status.idle": "2021-07-15T02:49:48.654114Z",
     "shell.execute_reply": "2021-07-15T02:49:48.655147Z"
    }
   },
   "outputs": [],
   "source": [
    "def to_gct(filename, df):\n",
    "    description_df = pd.DataFrame({'Description': df.index.values}, index=df.index)\n",
    "    dfo = pd.concat([description_df, df], axis=1)\n",
    "    dfo.index.name = 'Names'\n",
    "    with open(filename, \"wt\") as out:\n",
    "        print(\"#1.2\", file=out)\n",
    "        print(df.shape[0], df.shape[1], sep=\"\\t\", file=out)\n",
    "        dfo.to_csv(out, sep=\"\\t\")\n"
   ]
  },
  {
   "cell_type": "markdown",
   "metadata": {},
   "source": [
    "## Load data"
   ]
  },
  {
   "cell_type": "code",
   "execution_count": 3,
   "metadata": {
    "execution": {
     "iopub.execute_input": "2021-07-15T02:49:48.662132Z",
     "iopub.status.busy": "2021-07-15T02:49:48.661521Z",
     "iopub.status.idle": "2021-07-15T02:50:12.169694Z",
     "shell.execute_reply": "2021-07-15T02:50:12.168581Z"
    }
   },
   "outputs": [],
   "source": [
    "fam_df = pd.read_csv(\"/ceph/projects/v4_phase3_paper/inputs/genotypes/_m/LIBD_Brain_TopMed.fam\", \n",
    "                     sep=\"\\t\", header=None, names=[\"BrNum\", \"ID\", \"V2\", \"V3\", \"V4\", \"V5\"])\n",
    "pheno_df = pd.read_csv(\"/ceph/projects/v4_phase3_paper/inputs/phenotypes/_m/caudate_phenotypes.csv\")\n",
    "pheno_df = pheno_df[(pheno_df[\"Dx\"].isin([\"CTL\", \"SZ\"])) & \n",
    "                    (pheno_df[\"Race\"].isin([\"AA\", \"EA\"])) & \n",
    "                    (pheno_df[\"Age\"] > 13)].copy()\n",
    "pheno_df[\"ids\"] = pheno_df.RNum\n",
    "pheno_df.set_index(\"ids\", inplace=True)\n",
    "tpm_df = pd.read_csv(\"/ceph/projects/v4_phase3_paper/inputs/counts/text_files_counts/tpm/_m/caudate/transcript/tpm.csv\", index_col=0)\n",
    "counts_df = pd.read_csv(\"/ceph/projects/v4_phase3_paper/inputs/counts/text_files_counts/_m/caudate/tx_counts.txt\", \n",
    "                        sep=\"\\t\", index_col=0)"
   ]
  },
  {
   "cell_type": "markdown",
   "metadata": {},
   "source": [
    "## Select individuals"
   ]
  },
  {
   "cell_type": "code",
   "execution_count": 4,
   "metadata": {
    "execution": {
     "iopub.execute_input": "2021-07-15T02:50:12.180906Z",
     "iopub.status.busy": "2021-07-15T02:50:12.179660Z",
     "iopub.status.idle": "2021-07-15T02:50:12.194211Z",
     "shell.execute_reply": "2021-07-15T02:50:12.195280Z"
    }
   },
   "outputs": [
    {
     "data": {
      "text/plain": [
       "(399, 6)"
      ]
     },
     "execution_count": 1,
     "metadata": {},
     "output_type": "execute_result"
    }
   ],
   "source": [
    "samples_rnum = list(set(pheno_df.index).intersection(set(counts_df.columns)))\n",
    "samples = list(set(pheno_df.loc[samples_rnum,:].BrNum).intersection(set(fam_df.BrNum)))\n",
    "new_fam = fam_df[(fam_df[\"BrNum\"].isin(samples))].drop_duplicates(subset=\"BrNum\")\n",
    "new_fam.to_csv(\"keepFam.txt\", sep='\\t', index=False, header=False)\n",
    "new_fam.shape"
   ]
  },
  {
   "cell_type": "code",
   "execution_count": 5,
   "metadata": {
    "execution": {
     "iopub.execute_input": "2021-07-15T02:50:12.206252Z",
     "iopub.status.busy": "2021-07-15T02:50:12.205024Z",
     "iopub.status.idle": "2021-07-15T02:50:12.212452Z",
     "shell.execute_reply": "2021-07-15T02:50:12.213493Z"
    }
   },
   "outputs": [
    {
     "data": {
      "text/html": [
       "<div>\n",
       "<style scoped>\n",
       "    .dataframe tbody tr th:only-of-type {\n",
       "        vertical-align: middle;\n",
       "    }\n",
       "\n",
       "    .dataframe tbody tr th {\n",
       "        vertical-align: top;\n",
       "    }\n",
       "\n",
       "    .dataframe thead th {\n",
       "        text-align: right;\n",
       "    }\n",
       "</style>\n",
       "<table border=\"1\" class=\"dataframe\">\n",
       "  <thead>\n",
       "    <tr style=\"text-align: right;\">\n",
       "      <th></th>\n",
       "      <th>BrNum</th>\n",
       "      <th>RNum</th>\n",
       "    </tr>\n",
       "    <tr>\n",
       "      <th>ids</th>\n",
       "      <th></th>\n",
       "      <th></th>\n",
       "    </tr>\n",
       "  </thead>\n",
       "  <tbody>\n",
       "    <tr>\n",
       "      <th>R13226</th>\n",
       "      <td>Br823</td>\n",
       "      <td>R13226</td>\n",
       "    </tr>\n",
       "    <tr>\n",
       "      <th>R12926</th>\n",
       "      <td>Br836</td>\n",
       "      <td>R12926</td>\n",
       "    </tr>\n",
       "  </tbody>\n",
       "</table>\n",
       "</div>"
      ],
      "text/plain": [
       "        BrNum    RNum\n",
       "ids                  \n",
       "R13226  Br823  R13226\n",
       "R12926  Br836  R12926"
      ]
     },
     "execution_count": 1,
     "metadata": {},
     "output_type": "execute_result"
    }
   ],
   "source": [
    "new_pheno = pheno_df.loc[:, [\"RNum\", \"BrNum\"]]\\\n",
    "                    .reset_index().set_index(\"BrNum\")\\\n",
    "                    .loc[new_fam.BrNum].reset_index().set_index(\"ids\")\n",
    "new_pheno.head(2)"
   ]
  },
  {
   "cell_type": "code",
   "execution_count": 6,
   "metadata": {
    "execution": {
     "iopub.execute_input": "2021-07-15T02:50:12.223905Z",
     "iopub.status.busy": "2021-07-15T02:50:12.222652Z",
     "iopub.status.idle": "2021-07-15T02:50:12.229960Z",
     "shell.execute_reply": "2021-07-15T02:50:12.228883Z"
    }
   },
   "outputs": [],
   "source": [
    "interaction_df = pheno_df.loc[:, [\"RNum\", \"BrNum\", \"Sex\"]]\\\n",
    "                         .reset_index().set_index(\"BrNum\")\\\n",
    "                         .loc[new_fam.BrNum]\n",
    "interaction_df[\"Sex\"] = interaction_df.Sex.astype(\"category\").cat.codes\n",
    "interaction_df.loc[:, [\"Sex\"]].to_csv(\"sex_interaction_list.txt\", sep='\\t')"
   ]
  },
  {
   "cell_type": "markdown",
   "metadata": {},
   "source": [
    "## Select genes"
   ]
  },
  {
   "cell_type": "code",
   "execution_count": 7,
   "metadata": {
    "execution": {
     "iopub.execute_input": "2021-07-15T02:50:12.341617Z",
     "iopub.status.busy": "2021-07-15T02:50:12.340363Z",
     "iopub.status.idle": "2021-07-15T02:50:12.344529Z",
     "shell.execute_reply": "2021-07-15T02:50:12.345564Z"
    }
   },
   "outputs": [
    {
     "data": {
      "text/plain": [
       "198093"
      ]
     },
     "execution_count": 1,
     "metadata": {},
     "output_type": "execute_result"
    }
   ],
   "source": [
    "genes = list(set(counts_df.index).intersection(set(tpm_df.index)))\n",
    "len(genes)"
   ]
  },
  {
   "cell_type": "markdown",
   "metadata": {},
   "source": [
    "## Output files"
   ]
  },
  {
   "cell_type": "code",
   "execution_count": 8,
   "metadata": {
    "execution": {
     "iopub.execute_input": "2021-07-15T02:50:12.382668Z",
     "iopub.status.busy": "2021-07-15T02:50:12.381415Z",
     "iopub.status.idle": "2021-07-15T02:52:32.695907Z",
     "shell.execute_reply": "2021-07-15T02:52:32.694786Z"
    }
   },
   "outputs": [],
   "source": [
    "to_gct(\"counts.gct\", counts_df.loc[genes,new_pheno.index])\n",
    "to_gct(\"tpm.gct\", tpm_df.loc[genes,new_pheno.index])\n",
    "new_pheno.loc[:, [\"RNum\", \"BrNum\"]].to_csv(\"sample_id_to_brnum.tsv\", sep=\"\\t\", index=False)"
   ]
  },
  {
   "cell_type": "code",
   "execution_count": 9,
   "metadata": {
    "execution": {
     "iopub.execute_input": "2021-07-15T02:52:32.703601Z",
     "iopub.status.busy": "2021-07-15T02:52:32.702374Z",
     "iopub.status.idle": "2021-07-15T02:52:32.705716Z",
     "shell.execute_reply": "2021-07-15T02:52:32.706733Z"
    }
   },
   "outputs": [],
   "source": [
    "pd.DataFrame({'chr':['chr'+xx for xx in [str(x) for x in range(1,23)] + ['X']]})\\\n",
    "  .to_csv('vcf_chr_list.txt', header=False, index=None)"
   ]
  },
  {
   "cell_type": "code",
   "execution_count": null,
   "metadata": {},
   "outputs": [],
   "source": []
  }
 ],
 "metadata": {
  "kernelspec": {
   "display_name": "Python 3",
   "language": "python",
   "name": "python3"
  },
  "language_info": {
   "codemirror_mode": {
    "name": "ipython",
    "version": 3
   },
   "file_extension": ".py",
   "mimetype": "text/x-python",
   "name": "python",
   "nbconvert_exporter": "python",
   "pygments_lexer": "ipython3",
   "version": "3.9.1"
  }
 },
 "nbformat": 4,
 "nbformat_minor": 4
}
