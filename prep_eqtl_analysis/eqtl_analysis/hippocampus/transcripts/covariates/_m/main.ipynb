{
 "cells": [
  {
   "cell_type": "markdown",
   "metadata": {},
   "source": [
    "# Prepare covariates from Matrix eQTL analysis\n",
    "Kynon J Benjamin"
   ]
  },
  {
   "cell_type": "code",
   "execution_count": 1,
   "metadata": {
    "execution": {
     "iopub.execute_input": "2021-07-15T03:59:52.169460Z",
     "iopub.status.busy": "2021-07-15T03:59:52.167621Z",
     "iopub.status.idle": "2021-07-15T03:59:53.849839Z",
     "shell.execute_reply": "2021-07-15T03:59:53.847798Z"
    }
   },
   "outputs": [
    {
     "name": "stderr",
     "output_type": "stream",
     "text": [
      "── \u001b[1mAttaching packages\u001b[22m ─────────────────────────────────────── tidyverse 1.3.1 ──\n",
      "\n",
      "\u001b[32m✔\u001b[39m \u001b[34mggplot2\u001b[39m 3.3.5     \u001b[32m✔\u001b[39m \u001b[34mpurrr  \u001b[39m 0.3.4\n",
      "\u001b[32m✔\u001b[39m \u001b[34mtibble \u001b[39m 3.1.2     \u001b[32m✔\u001b[39m \u001b[34mdplyr  \u001b[39m 1.0.7\n",
      "\u001b[32m✔\u001b[39m \u001b[34mtidyr  \u001b[39m 1.1.3     \u001b[32m✔\u001b[39m \u001b[34mstringr\u001b[39m 1.4.0\n",
      "\u001b[32m✔\u001b[39m \u001b[34mreadr  \u001b[39m 1.4.0     \u001b[32m✔\u001b[39m \u001b[34mforcats\u001b[39m 0.5.1\n",
      "\n",
      "── \u001b[1mConflicts\u001b[22m ────────────────────────────────────────── tidyverse_conflicts() ──\n",
      "\u001b[31m✖\u001b[39m \u001b[34mdplyr\u001b[39m::\u001b[32mfilter()\u001b[39m masks \u001b[34mstats\u001b[39m::filter()\n",
      "\u001b[31m✖\u001b[39m \u001b[34mdplyr\u001b[39m::\u001b[32mlag()\u001b[39m    masks \u001b[34mstats\u001b[39m::lag()\n",
      "\n"
     ]
    }
   ],
   "source": [
    "library(tidyverse)"
   ]
  },
  {
   "cell_type": "markdown",
   "metadata": {},
   "source": [
    "## Load data"
   ]
  },
  {
   "cell_type": "code",
   "execution_count": 2,
   "metadata": {
    "execution": {
     "iopub.execute_input": "2021-07-15T03:59:53.896477Z",
     "iopub.status.busy": "2021-07-15T03:59:53.856801Z",
     "iopub.status.idle": "2021-07-15T03:59:54.005213Z",
     "shell.execute_reply": "2021-07-15T03:59:54.003916Z"
    }
   },
   "outputs": [
    {
     "data": {
      "text/html": [
       "<table class=\"dataframe\">\n",
       "<caption>A data.table: 6 × 2</caption>\n",
       "<thead>\n",
       "\t<tr><th scope=col>RNum</th><th scope=col>BrNum</th></tr>\n",
       "\t<tr><th scope=col>&lt;chr&gt;</th><th scope=col>&lt;chr&gt;</th></tr>\n",
       "</thead>\n",
       "<tbody>\n",
       "\t<tr><td>R5527</td><td>Br822</td></tr>\n",
       "\t<tr><td>R2725</td><td>Br823</td></tr>\n",
       "\t<tr><td>R4805</td><td>Br836</td></tr>\n",
       "\t<tr><td>R5528</td><td>Br845</td></tr>\n",
       "\t<tr><td>R4817</td><td>Br846</td></tr>\n",
       "\t<tr><td>R4793</td><td>Br848</td></tr>\n",
       "</tbody>\n",
       "</table>\n"
      ],
      "text/latex": [
       "A data.table: 6 × 2\n",
       "\\begin{tabular}{ll}\n",
       " RNum & BrNum\\\\\n",
       " <chr> & <chr>\\\\\n",
       "\\hline\n",
       "\t R5527 & Br822\\\\\n",
       "\t R2725 & Br823\\\\\n",
       "\t R4805 & Br836\\\\\n",
       "\t R5528 & Br845\\\\\n",
       "\t R4817 & Br846\\\\\n",
       "\t R4793 & Br848\\\\\n",
       "\\end{tabular}\n"
      ],
      "text/markdown": [
       "\n",
       "A data.table: 6 × 2\n",
       "\n",
       "| RNum &lt;chr&gt; | BrNum &lt;chr&gt; |\n",
       "|---|---|\n",
       "| R5527 | Br822 |\n",
       "| R2725 | Br823 |\n",
       "| R4805 | Br836 |\n",
       "| R5528 | Br845 |\n",
       "| R4817 | Br846 |\n",
       "| R4793 | Br848 |\n",
       "\n"
      ],
      "text/plain": [
       "  RNum  BrNum\n",
       "1 R5527 Br822\n",
       "2 R2725 Br823\n",
       "3 R4805 Br836\n",
       "4 R5528 Br845\n",
       "5 R4817 Br846\n",
       "6 R4793 Br848"
      ]
     },
     "metadata": {},
     "output_type": "display_data"
    }
   ],
   "source": [
    "sample_df = data.table::fread(\"../../_m/sample_id_to_brnum.tsv\")\n",
    "sample_df %>% head()"
   ]
  },
  {
   "cell_type": "code",
   "execution_count": 3,
   "metadata": {
    "execution": {
     "iopub.execute_input": "2021-07-15T03:59:54.018272Z",
     "iopub.status.busy": "2021-07-15T03:59:54.016744Z",
     "iopub.status.idle": "2021-07-15T03:59:54.039709Z",
     "shell.execute_reply": "2021-07-15T03:59:54.038411Z"
    }
   },
   "outputs": [
    {
     "data": {
      "text/html": [
       "<style>\n",
       ".list-inline {list-style: none; margin:0; padding: 0}\n",
       ".list-inline>li {display: inline-block}\n",
       ".list-inline>li:not(:last-child)::after {content: \"\\00b7\"; padding: 0 .5ex}\n",
       "</style>\n",
       "<ol class=list-inline><li>'covsExon0'</li><li>'covsGene0'</li><li>'covsJxn0'</li><li>'covsTx0'</li><li>'sample_df'</li></ol>\n"
      ],
      "text/latex": [
       "\\begin{enumerate*}\n",
       "\\item 'covsExon0'\n",
       "\\item 'covsGene0'\n",
       "\\item 'covsJxn0'\n",
       "\\item 'covsTx0'\n",
       "\\item 'sample\\_df'\n",
       "\\end{enumerate*}\n"
      ],
      "text/markdown": [
       "1. 'covsExon0'\n",
       "2. 'covsGene0'\n",
       "3. 'covsJxn0'\n",
       "4. 'covsTx0'\n",
       "5. 'sample_df'\n",
       "\n",
       "\n"
      ],
      "text/plain": [
       "[1] \"covsExon0\" \"covsGene0\" \"covsJxn0\"  \"covsTx0\"   \"sample_df\""
      ]
     },
     "metadata": {},
     "output_type": "display_data"
    }
   ],
   "source": [
    "load(\"/ceph/users/jbenja13/projects/sex_sz_ria/input/genotypes/covariates/_m/hippocampus/covariates.rda\")\n",
    "ls()"
   ]
  },
  {
   "cell_type": "code",
   "execution_count": 4,
   "metadata": {
    "execution": {
     "iopub.execute_input": "2021-07-15T03:59:54.045908Z",
     "iopub.status.busy": "2021-07-15T03:59:54.044637Z",
     "iopub.status.idle": "2021-07-15T03:59:54.109983Z",
     "shell.execute_reply": "2021-07-15T03:59:54.108720Z"
    }
   },
   "outputs": [
    {
     "data": {
      "text/html": [
       "<table class=\"dataframe\">\n",
       "<caption>A data.frame: 10 × 5</caption>\n",
       "<thead>\n",
       "\t<tr><th></th><th scope=col>ID</th><th scope=col>Br822</th><th scope=col>Br823</th><th scope=col>Br836</th><th scope=col>Br845</th></tr>\n",
       "\t<tr><th></th><th scope=col>&lt;chr&gt;</th><th scope=col>&lt;dbl&gt;</th><th scope=col>&lt;dbl&gt;</th><th scope=col>&lt;dbl&gt;</th><th scope=col>&lt;dbl&gt;</th></tr>\n",
       "</thead>\n",
       "<tbody>\n",
       "\t<tr><th scope=row>1</th><td>DxSchizo</td><td>  0.00000000</td><td> 0.000000e+00</td><td>  0.000000000</td><td>  0.000000000</td></tr>\n",
       "\t<tr><th scope=row>2</th><td>snpPC1  </td><td> -0.03381080</td><td> 8.703800e-02</td><td>  0.101455000</td><td>  0.093891100</td></tr>\n",
       "\t<tr><th scope=row>3</th><td>snpPC2  </td><td> -0.00312935</td><td>-1.717740e-03</td><td> -0.000642496</td><td> -0.002248600</td></tr>\n",
       "\t<tr><th scope=row>4</th><td>snpPC3  </td><td> -0.00154150</td><td> 4.134530e-04</td><td> -0.000923211</td><td>  0.000546358</td></tr>\n",
       "\t<tr><th scope=row>5</th><td>PC1     </td><td>  9.44435325</td><td>-1.404276e+02</td><td> 26.401230170</td><td>  0.176087784</td></tr>\n",
       "\t<tr><th scope=row>6</th><td>PC2     </td><td>-34.30907719</td><td>-4.600464e+01</td><td>-20.957772720</td><td> 19.222797240</td></tr>\n",
       "\t<tr><th scope=row>7</th><td>PC3     </td><td>-36.21790019</td><td> 3.344817e+01</td><td> 32.318500527</td><td>-34.721646225</td></tr>\n",
       "\t<tr><th scope=row>8</th><td>PC4     </td><td>-29.95281698</td><td> 3.715611e+01</td><td> 31.010473643</td><td> -9.989048731</td></tr>\n",
       "\t<tr><th scope=row>9</th><td>PC5     </td><td> 31.56023835</td><td>-1.215883e+01</td><td> 15.831920734</td><td>-37.298617746</td></tr>\n",
       "\t<tr><th scope=row>10</th><td>PC6     </td><td> -8.85540373</td><td> 3.609151e+01</td><td>  8.255974971</td><td> 19.244053361</td></tr>\n",
       "</tbody>\n",
       "</table>\n"
      ],
      "text/latex": [
       "A data.frame: 10 × 5\n",
       "\\begin{tabular}{r|lllll}\n",
       "  & ID & Br822 & Br823 & Br836 & Br845\\\\\n",
       "  & <chr> & <dbl> & <dbl> & <dbl> & <dbl>\\\\\n",
       "\\hline\n",
       "\t1 & DxSchizo &   0.00000000 &  0.000000e+00 &   0.000000000 &   0.000000000\\\\\n",
       "\t2 & snpPC1   &  -0.03381080 &  8.703800e-02 &   0.101455000 &   0.093891100\\\\\n",
       "\t3 & snpPC2   &  -0.00312935 & -1.717740e-03 &  -0.000642496 &  -0.002248600\\\\\n",
       "\t4 & snpPC3   &  -0.00154150 &  4.134530e-04 &  -0.000923211 &   0.000546358\\\\\n",
       "\t5 & PC1      &   9.44435325 & -1.404276e+02 &  26.401230170 &   0.176087784\\\\\n",
       "\t6 & PC2      & -34.30907719 & -4.600464e+01 & -20.957772720 &  19.222797240\\\\\n",
       "\t7 & PC3      & -36.21790019 &  3.344817e+01 &  32.318500527 & -34.721646225\\\\\n",
       "\t8 & PC4      & -29.95281698 &  3.715611e+01 &  31.010473643 &  -9.989048731\\\\\n",
       "\t9 & PC5      &  31.56023835 & -1.215883e+01 &  15.831920734 & -37.298617746\\\\\n",
       "\t10 & PC6      &  -8.85540373 &  3.609151e+01 &   8.255974971 &  19.244053361\\\\\n",
       "\\end{tabular}\n"
      ],
      "text/markdown": [
       "\n",
       "A data.frame: 10 × 5\n",
       "\n",
       "| <!--/--> | ID &lt;chr&gt; | Br822 &lt;dbl&gt; | Br823 &lt;dbl&gt; | Br836 &lt;dbl&gt; | Br845 &lt;dbl&gt; |\n",
       "|---|---|---|---|---|---|\n",
       "| 1 | DxSchizo |   0.00000000 |  0.000000e+00 |   0.000000000 |   0.000000000 |\n",
       "| 2 | snpPC1   |  -0.03381080 |  8.703800e-02 |   0.101455000 |   0.093891100 |\n",
       "| 3 | snpPC2   |  -0.00312935 | -1.717740e-03 |  -0.000642496 |  -0.002248600 |\n",
       "| 4 | snpPC3   |  -0.00154150 |  4.134530e-04 |  -0.000923211 |   0.000546358 |\n",
       "| 5 | PC1      |   9.44435325 | -1.404276e+02 |  26.401230170 |   0.176087784 |\n",
       "| 6 | PC2      | -34.30907719 | -4.600464e+01 | -20.957772720 |  19.222797240 |\n",
       "| 7 | PC3      | -36.21790019 |  3.344817e+01 |  32.318500527 | -34.721646225 |\n",
       "| 8 | PC4      | -29.95281698 |  3.715611e+01 |  31.010473643 |  -9.989048731 |\n",
       "| 9 | PC5      |  31.56023835 | -1.215883e+01 |  15.831920734 | -37.298617746 |\n",
       "| 10 | PC6      |  -8.85540373 |  3.609151e+01 |   8.255974971 |  19.244053361 |\n",
       "\n"
      ],
      "text/plain": [
       "   ID       Br822        Br823         Br836         Br845        \n",
       "1  DxSchizo   0.00000000  0.000000e+00   0.000000000   0.000000000\n",
       "2  snpPC1    -0.03381080  8.703800e-02   0.101455000   0.093891100\n",
       "3  snpPC2    -0.00312935 -1.717740e-03  -0.000642496  -0.002248600\n",
       "4  snpPC3    -0.00154150  4.134530e-04  -0.000923211   0.000546358\n",
       "5  PC1        9.44435325 -1.404276e+02  26.401230170   0.176087784\n",
       "6  PC2      -34.30907719 -4.600464e+01 -20.957772720  19.222797240\n",
       "7  PC3      -36.21790019  3.344817e+01  32.318500527 -34.721646225\n",
       "8  PC4      -29.95281698  3.715611e+01  31.010473643  -9.989048731\n",
       "9  PC5       31.56023835 -1.215883e+01  15.831920734 -37.298617746\n",
       "10 PC6       -8.85540373  3.609151e+01   8.255974971  19.244053361"
      ]
     },
     "metadata": {},
     "output_type": "display_data"
    }
   ],
   "source": [
    "covs = covsTx0 %>% as.data.frame %>% select(sample_df$RNum) %>%\n",
    "    t %>% as.data.frame %>% rownames_to_column(\"RNum\") %>%\n",
    "    inner_join(sample_df, by=c(\"RNum\")) %>% select(-\"RNum\") %>%\n",
    "    rename(\"ID\"=\"BrNum\") %>% column_to_rownames(\"ID\") %>% t %>%\n",
    "    as.data.frame %>% rownames_to_column(\"ID\")\n",
    "\n",
    "covs[1:10, 1:5]"
   ]
  },
  {
   "cell_type": "code",
   "execution_count": 5,
   "metadata": {
    "execution": {
     "iopub.execute_input": "2021-07-15T03:59:54.116138Z",
     "iopub.status.busy": "2021-07-15T03:59:54.114890Z",
     "iopub.status.idle": "2021-07-15T03:59:54.131528Z",
     "shell.execute_reply": "2021-07-15T03:59:54.130166Z"
    }
   },
   "outputs": [],
   "source": [
    "covs %>% data.table::fwrite(\"transcripts.combined_covariates.txt\", sep='\\t')"
   ]
  },
  {
   "cell_type": "markdown",
   "metadata": {},
   "source": [
    "## Repreducibility Information"
   ]
  },
  {
   "cell_type": "code",
   "execution_count": 6,
   "metadata": {
    "execution": {
     "iopub.execute_input": "2021-07-15T03:59:54.137842Z",
     "iopub.status.busy": "2021-07-15T03:59:54.136471Z",
     "iopub.status.idle": "2021-07-15T03:59:54.297337Z",
     "shell.execute_reply": "2021-07-15T03:59:54.295864Z"
    }
   },
   "outputs": [
    {
     "data": {
      "text/plain": [
       "[1] \"2021-07-14 23:59:54 EDT\""
      ]
     },
     "metadata": {},
     "output_type": "display_data"
    },
    {
     "data": {
      "text/plain": [
       "   user  system elapsed \n",
       "  2.390   0.244   2.850 "
      ]
     },
     "metadata": {},
     "output_type": "display_data"
    },
    {
     "data": {
      "text/plain": [
       "─ Session info ───────────────────────────────────────────────────────────────────────────────────────────────────────\n",
       " setting  value                       \n",
       " version  R version 4.0.3 (2020-10-10)\n",
       " os       Arch Linux                  \n",
       " system   x86_64, linux-gnu           \n",
       " ui       X11                         \n",
       " language (EN)                        \n",
       " collate  en_US.UTF-8                 \n",
       " ctype    en_US.UTF-8                 \n",
       " tz       America/New_York            \n",
       " date     2021-07-14                  \n",
       "\n",
       "─ Packages ───────────────────────────────────────────────────────────────────────────────────────────────────────────\n",
       " package     * version date       lib source        \n",
       " assertthat    0.2.1   2019-03-21 [1] CRAN (R 4.0.2)\n",
       " backports     1.2.1   2020-12-09 [1] CRAN (R 4.0.2)\n",
       " base64enc     0.1-3   2015-07-28 [1] CRAN (R 4.0.2)\n",
       " broom         0.7.8   2021-06-24 [1] CRAN (R 4.0.3)\n",
       " cellranger    1.1.0   2016-07-27 [1] CRAN (R 4.0.2)\n",
       " cli           3.0.0   2021-06-30 [1] CRAN (R 4.0.3)\n",
       " colorspace    2.0-2   2021-06-24 [1] CRAN (R 4.0.3)\n",
       " crayon        1.4.1   2021-02-08 [1] CRAN (R 4.0.3)\n",
       " data.table    1.14.0  2021-02-21 [1] CRAN (R 4.0.3)\n",
       " DBI           1.1.1   2021-01-15 [1] CRAN (R 4.0.2)\n",
       " dbplyr        2.1.1   2021-04-06 [1] CRAN (R 4.0.3)\n",
       " digest        0.6.27  2020-10-24 [1] CRAN (R 4.0.2)\n",
       " dplyr       * 1.0.7   2021-06-18 [1] CRAN (R 4.0.3)\n",
       " ellipsis      0.3.2   2021-04-29 [1] CRAN (R 4.0.3)\n",
       " evaluate      0.14    2019-05-28 [1] CRAN (R 4.0.2)\n",
       " fansi         0.5.0   2021-05-25 [1] CRAN (R 4.0.3)\n",
       " forcats     * 0.5.1   2021-01-27 [1] CRAN (R 4.0.2)\n",
       " fs            1.5.0   2020-07-31 [1] CRAN (R 4.0.2)\n",
       " generics      0.1.0   2020-10-31 [1] CRAN (R 4.0.2)\n",
       " ggplot2     * 3.3.5   2021-06-25 [1] CRAN (R 4.0.3)\n",
       " glue          1.4.2   2020-08-27 [1] CRAN (R 4.0.2)\n",
       " gtable        0.3.0   2019-03-25 [1] CRAN (R 4.0.2)\n",
       " haven         2.4.1   2021-04-23 [1] CRAN (R 4.0.3)\n",
       " hms           1.1.0   2021-05-17 [1] CRAN (R 4.0.3)\n",
       " htmltools     0.5.1.1 2021-01-22 [1] CRAN (R 4.0.2)\n",
       " httr          1.4.2   2020-07-20 [1] CRAN (R 4.0.2)\n",
       " IRdisplay     1.0     2021-01-20 [1] CRAN (R 4.0.2)\n",
       " IRkernel      1.2     2021-05-11 [1] CRAN (R 4.0.3)\n",
       " jsonlite      1.7.2   2020-12-09 [1] CRAN (R 4.0.2)\n",
       " lifecycle     1.0.0   2021-02-15 [1] CRAN (R 4.0.3)\n",
       " lubridate     1.7.10  2021-02-26 [1] CRAN (R 4.0.3)\n",
       " magrittr      2.0.1   2020-11-17 [1] CRAN (R 4.0.2)\n",
       " modelr        0.1.8   2020-05-19 [1] CRAN (R 4.0.2)\n",
       " munsell       0.5.0   2018-06-12 [1] CRAN (R 4.0.2)\n",
       " pbdZMQ        0.3-5   2021-02-10 [1] CRAN (R 4.0.3)\n",
       " pillar        1.6.1   2021-05-16 [1] CRAN (R 4.0.3)\n",
       " pkgconfig     2.0.3   2019-09-22 [1] CRAN (R 4.0.2)\n",
       " purrr       * 0.3.4   2020-04-17 [1] CRAN (R 4.0.2)\n",
       " R6            2.5.0   2020-10-28 [1] CRAN (R 4.0.2)\n",
       " Rcpp          1.0.7   2021-07-07 [1] CRAN (R 4.0.3)\n",
       " readr       * 1.4.0   2020-10-05 [1] CRAN (R 4.0.2)\n",
       " readxl        1.3.1   2019-03-13 [1] CRAN (R 4.0.2)\n",
       " repr          1.1.3   2021-01-21 [1] CRAN (R 4.0.2)\n",
       " reprex        2.0.0   2021-04-02 [1] CRAN (R 4.0.3)\n",
       " rlang         0.4.11  2021-04-30 [1] CRAN (R 4.0.3)\n",
       " rstudioapi    0.13    2020-11-12 [1] CRAN (R 4.0.2)\n",
       " rvest         1.0.0   2021-03-09 [1] CRAN (R 4.0.3)\n",
       " scales        1.1.1   2020-05-11 [1] CRAN (R 4.0.2)\n",
       " sessioninfo   1.1.1   2018-11-05 [1] CRAN (R 4.0.2)\n",
       " stringi       1.6.2   2021-05-17 [1] CRAN (R 4.0.3)\n",
       " stringr     * 1.4.0   2019-02-10 [1] CRAN (R 4.0.2)\n",
       " tibble      * 3.1.2   2021-05-16 [1] CRAN (R 4.0.3)\n",
       " tidyr       * 1.1.3   2021-03-03 [1] CRAN (R 4.0.3)\n",
       " tidyselect    1.1.1   2021-04-30 [1] CRAN (R 4.0.3)\n",
       " tidyverse   * 1.3.1   2021-04-15 [1] CRAN (R 4.0.3)\n",
       " utf8          1.2.1   2021-03-12 [1] CRAN (R 4.0.3)\n",
       " uuid          0.1-4   2020-02-26 [1] CRAN (R 4.0.2)\n",
       " vctrs         0.3.8   2021-04-29 [1] CRAN (R 4.0.3)\n",
       " withr         2.4.2   2021-04-18 [1] CRAN (R 4.0.3)\n",
       " xml2          1.3.2   2020-04-23 [1] CRAN (R 4.0.2)\n",
       "\n",
       "[1] /home/jbenja13/R/x86_64-pc-linux-gnu-library/4.0\n",
       "[2] /usr/lib/R/library"
      ]
     },
     "metadata": {},
     "output_type": "display_data"
    }
   ],
   "source": [
    "Sys.time()\n",
    "proc.time()\n",
    "options(width = 120)\n",
    "sessioninfo::session_info()"
   ]
  }
 ],
 "metadata": {
  "kernelspec": {
   "display_name": "R",
   "language": "R",
   "name": "ir"
  },
  "language_info": {
   "codemirror_mode": "r",
   "file_extension": ".r",
   "mimetype": "text/x-r-source",
   "name": "R",
   "pygments_lexer": "r",
   "version": "4.0.3"
  }
 },
 "nbformat": 4,
 "nbformat_minor": 4
}
