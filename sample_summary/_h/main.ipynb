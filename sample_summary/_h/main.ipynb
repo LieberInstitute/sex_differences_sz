{
 "cells": [
  {
   "cell_type": "markdown",
   "metadata": {},
   "source": [
    "# Sample Summary"
   ]
  },
  {
   "cell_type": "code",
   "execution_count": 1,
   "metadata": {},
   "outputs": [],
   "source": [
    "suppressMessages({library(dplyr)\n",
    "                  library(SummarizedExperiment)})"
   ]
  },
  {
   "cell_type": "markdown",
   "metadata": {},
   "source": [
    "## Functions"
   ]
  },
  {
   "cell_type": "code",
   "execution_count": 2,
   "metadata": {},
   "outputs": [],
   "source": [
    "get_mds <- function(){\n",
    "    mds_file = \"/ceph/projects/v4_phase3_paper/inputs/genotypes/mds/_m/LIBD_Brain_TopMed.mds\"\n",
    "    mds = data.table::fread(mds_file) %>%\n",
    "        rename_at(.vars = vars(starts_with(\"C\")),\n",
    "                  function(x){sub(\"C\", \"snpPC\", x)}) %>%\n",
    "        mutate_if(is.character, as.factor)\n",
    "    return(mds)\n",
    "}\n",
    "\n",
    "memMDS <- memoise::memoise(get_mds)\n",
    "\n",
    "get_pheno <- function(tissue){\n",
    "    counts_lt = list(\"caudate\"=\"/ceph/projects/v4_phase3_paper/inputs/counts/_m/caudate_brainseq_phase3_hg38_rseGene_merged_n464.rda\", \n",
    "                     \"dlpfc\"=\"/ceph/projects/v4_phase3_paper/inputs/counts/_m/dlpfc_ribozero_brainseq_phase2_hg38_rseGene_merged_n453.rda\",\n",
    "                     \"hippocampus\"=\"/ceph/projects/v4_phase3_paper/inputs/counts/_m/hippo_brainseq_phase2_hg38_rseGene_merged_n447.rda\")\n",
    "    load(counts_lt[[tissue]])\n",
    "    rse_df = rse_gene\n",
    "    keepIndex = which((rse_df$Dx %in% c(\"Control\", \"Schizo\")) & \n",
    "                      rse_df$Age > 13 & rse_df$Race %in% c(\"AA\", \"CAUC\"))\n",
    "    rse_df = rse_df[, keepIndex]\n",
    "    rse_df$Dx = factor(rse_df$Dx, levels = c(\"Control\", \"Schizo\"))\n",
    "    rse_df$Sex <- factor(rse_df$Sex)\n",
    "    rse_df <- jaffelab::merge_rse_metrics(rse_df)\n",
    "    colData(rse_df)$RIN = sapply(colData(rse_df)$RIN,\"[\",1)\n",
    "    rownames(colData(rse_df)) <- sapply(strsplit(rownames(colData(rse_df)), \"_\"), \"[\", 1)\n",
    "    pheno = colData(rse_df) %>% as.data.frame %>% \n",
    "        inner_join(memMDS(), by=c(\"BrNum\"=\"FID\")) %>% \n",
    "        distinct(RNum, .keep_all = TRUE) \n",
    "    return(pheno)\n",
    "}\n",
    "\n",
    "memPHENO <- memoise::memoise(get_pheno)"
   ]
  },
  {
   "cell_type": "markdown",
   "metadata": {},
   "source": [
    "## Sample breakdown"
   ]
  },
  {
   "cell_type": "markdown",
   "metadata": {},
   "source": [
    "### eQTL analysis"
   ]
  },
  {
   "cell_type": "code",
   "execution_count": 3,
   "metadata": {},
   "outputs": [
    {
     "data": {
      "text/html": [
       "<style>\n",
       ".list-inline {list-style: none; margin:0; padding: 0}\n",
       ".list-inline>li {display: inline-block}\n",
       ".list-inline>li:not(:last-child)::after {content: \"\\00b7\"; padding: 0 .5ex}\n",
       "</style>\n",
       "<ol class=list-inline><li>1170</li><li>16</li></ol>\n"
      ],
      "text/latex": [
       "\\begin{enumerate*}\n",
       "\\item 1170\n",
       "\\item 16\n",
       "\\end{enumerate*}\n"
      ],
      "text/markdown": [
       "1. 1170\n",
       "2. 16\n",
       "\n",
       "\n"
      ],
      "text/plain": [
       "[1] 1170   16"
      ]
     },
     "metadata": {},
     "output_type": "display_data"
    }
   ],
   "source": [
    "cols = c('BrNum','RNum','Region','RIN','Age','Sex','Race','Dx', \n",
    "         'ERCCsumLogErr', 'overallMapRate', 'totalAssignedGene', \n",
    "         'mitoRate', 'rRNA_rate', 'snpPC1', 'snpPC2', 'snpPC3')\n",
    "\n",
    "cc = memPHENO(\"caudate\") %>% select(all_of(cols))\n",
    "dd = memPHENO(\"dlpfc\") %>% select(all_of(cols))\n",
    "hh = memPHENO(\"hippocampus\") %>% select(all_of(cols))\n",
    "df = bind_rows(cc, dd, hh)\n",
    "df %>% dim"
   ]
  },
  {
   "cell_type": "code",
   "execution_count": 4,
   "metadata": {},
   "outputs": [
    {
     "name": "stdout",
     "output_type": "stream",
     "text": [
      "[1] \"There are 504 unique BrNum.\"\n"
     ]
    }
   ],
   "source": [
    "print(paste(\"There are\",df$BrNum %>% unique %>% length, \"unique BrNum.\"))"
   ]
  },
  {
   "cell_type": "code",
   "execution_count": 5,
   "metadata": {},
   "outputs": [
    {
     "data": {
      "text/plain": [
       "\n",
       "Caudate   DLPFC   HIPPO \n",
       "    399     377     394 "
      ]
     },
     "metadata": {},
     "output_type": "display_data"
    }
   ],
   "source": [
    "table(df$Region)"
   ]
  },
  {
   "cell_type": "code",
   "execution_count": 6,
   "metadata": {},
   "outputs": [
    {
     "data": {
      "text/plain": [
       "         \n",
       "          Control Schizo\n",
       "  Caudate     245    154\n",
       "  DLPFC       229    148\n",
       "  HIPPO       261    133"
      ]
     },
     "metadata": {},
     "output_type": "display_data"
    }
   ],
   "source": [
    "table(df$Region, df$Dx)"
   ]
  },
  {
   "cell_type": "code",
   "execution_count": 7,
   "metadata": {},
   "outputs": [
    {
     "data": {
      "text/plain": [
       "         \n",
       "            F   M\n",
       "  Caudate 126 273\n",
       "  DLPFC   121 256\n",
       "  HIPPO   126 268"
      ]
     },
     "metadata": {},
     "output_type": "display_data"
    }
   ],
   "source": [
    "table(df$Region, df$Sex)"
   ]
  },
  {
   "cell_type": "code",
   "execution_count": 8,
   "metadata": {},
   "outputs": [
    {
     "data": {
      "text/plain": [
       "         \n",
       "           AA CAUC\n",
       "  Caudate 206  193\n",
       "  DLPFC   204  173\n",
       "  HIPPO   213  181"
      ]
     },
     "metadata": {},
     "output_type": "display_data"
    }
   ],
   "source": [
    "table(df$Region, df$Race)"
   ]
  },
  {
   "cell_type": "code",
   "execution_count": 9,
   "metadata": {},
   "outputs": [
    {
     "name": "stderr",
     "output_type": "stream",
     "text": [
      "`summarise()` has grouped output by 'Region', 'Sex'. You can override using the `.groups` argument.\n",
      "\n"
     ]
    },
    {
     "data": {
      "text/html": [
       "<table class=\"dataframe\">\n",
       "<caption>A grouped_df: 12 × 4</caption>\n",
       "<thead>\n",
       "\t<tr><th scope=col>Region</th><th scope=col>Sex</th><th scope=col>Dx</th><th scope=col>N</th></tr>\n",
       "\t<tr><th scope=col>&lt;chr&gt;</th><th scope=col>&lt;fct&gt;</th><th scope=col>&lt;fct&gt;</th><th scope=col>&lt;int&gt;</th></tr>\n",
       "</thead>\n",
       "<tbody>\n",
       "\t<tr><td>Caudate</td><td>F</td><td>Control</td><td> 76</td></tr>\n",
       "\t<tr><td>Caudate</td><td>F</td><td>Schizo </td><td> 50</td></tr>\n",
       "\t<tr><td>Caudate</td><td>M</td><td>Control</td><td>169</td></tr>\n",
       "\t<tr><td>Caudate</td><td>M</td><td>Schizo </td><td>104</td></tr>\n",
       "\t<tr><td>DLPFC  </td><td>F</td><td>Control</td><td> 73</td></tr>\n",
       "\t<tr><td>DLPFC  </td><td>F</td><td>Schizo </td><td> 48</td></tr>\n",
       "\t<tr><td>DLPFC  </td><td>M</td><td>Control</td><td>156</td></tr>\n",
       "\t<tr><td>DLPFC  </td><td>M</td><td>Schizo </td><td>100</td></tr>\n",
       "\t<tr><td>HIPPO  </td><td>F</td><td>Control</td><td> 79</td></tr>\n",
       "\t<tr><td>HIPPO  </td><td>F</td><td>Schizo </td><td> 47</td></tr>\n",
       "\t<tr><td>HIPPO  </td><td>M</td><td>Control</td><td>182</td></tr>\n",
       "\t<tr><td>HIPPO  </td><td>M</td><td>Schizo </td><td> 86</td></tr>\n",
       "</tbody>\n",
       "</table>\n"
      ],
      "text/latex": [
       "A grouped\\_df: 12 × 4\n",
       "\\begin{tabular}{llll}\n",
       " Region & Sex & Dx & N\\\\\n",
       " <chr> & <fct> & <fct> & <int>\\\\\n",
       "\\hline\n",
       "\t Caudate & F & Control &  76\\\\\n",
       "\t Caudate & F & Schizo  &  50\\\\\n",
       "\t Caudate & M & Control & 169\\\\\n",
       "\t Caudate & M & Schizo  & 104\\\\\n",
       "\t DLPFC   & F & Control &  73\\\\\n",
       "\t DLPFC   & F & Schizo  &  48\\\\\n",
       "\t DLPFC   & M & Control & 156\\\\\n",
       "\t DLPFC   & M & Schizo  & 100\\\\\n",
       "\t HIPPO   & F & Control &  79\\\\\n",
       "\t HIPPO   & F & Schizo  &  47\\\\\n",
       "\t HIPPO   & M & Control & 182\\\\\n",
       "\t HIPPO   & M & Schizo  &  86\\\\\n",
       "\\end{tabular}\n"
      ],
      "text/markdown": [
       "\n",
       "A grouped_df: 12 × 4\n",
       "\n",
       "| Region &lt;chr&gt; | Sex &lt;fct&gt; | Dx &lt;fct&gt; | N &lt;int&gt; |\n",
       "|---|---|---|---|\n",
       "| Caudate | F | Control |  76 |\n",
       "| Caudate | F | Schizo  |  50 |\n",
       "| Caudate | M | Control | 169 |\n",
       "| Caudate | M | Schizo  | 104 |\n",
       "| DLPFC   | F | Control |  73 |\n",
       "| DLPFC   | F | Schizo  |  48 |\n",
       "| DLPFC   | M | Control | 156 |\n",
       "| DLPFC   | M | Schizo  | 100 |\n",
       "| HIPPO   | F | Control |  79 |\n",
       "| HIPPO   | F | Schizo  |  47 |\n",
       "| HIPPO   | M | Control | 182 |\n",
       "| HIPPO   | M | Schizo  |  86 |\n",
       "\n"
      ],
      "text/plain": [
       "   Region  Sex Dx      N  \n",
       "1  Caudate F   Control  76\n",
       "2  Caudate F   Schizo   50\n",
       "3  Caudate M   Control 169\n",
       "4  Caudate M   Schizo  104\n",
       "5  DLPFC   F   Control  73\n",
       "6  DLPFC   F   Schizo   48\n",
       "7  DLPFC   M   Control 156\n",
       "8  DLPFC   M   Schizo  100\n",
       "9  HIPPO   F   Control  79\n",
       "10 HIPPO   F   Schizo   47\n",
       "11 HIPPO   M   Control 182\n",
       "12 HIPPO   M   Schizo   86"
      ]
     },
     "metadata": {},
     "output_type": "display_data"
    }
   ],
   "source": [
    "df %>% group_by(Region, Sex, Dx) %>% summarise(N=n())"
   ]
  },
  {
   "cell_type": "markdown",
   "metadata": {},
   "source": [
    "#### Mean"
   ]
  },
  {
   "cell_type": "code",
   "execution_count": 10,
   "metadata": {},
   "outputs": [
    {
     "data": {
      "text/html": [
       "<table class=\"dataframe\">\n",
       "<caption>A tibble: 3 × 5</caption>\n",
       "<thead>\n",
       "\t<tr><th scope=col>Region</th><th scope=col>RIN</th><th scope=col>Age</th><th scope=col>rRNA_rate</th><th scope=col>mitoRate</th></tr>\n",
       "\t<tr><th scope=col>&lt;chr&gt;</th><th scope=col>&lt;dbl&gt;</th><th scope=col>&lt;dbl&gt;</th><th scope=col>&lt;dbl&gt;</th><th scope=col>&lt;dbl&gt;</th></tr>\n",
       "</thead>\n",
       "<tbody>\n",
       "\t<tr><td>Caudate</td><td>7.864411</td><td>49.11832</td><td>5.687892e-05</td><td>0.03651875</td></tr>\n",
       "\t<tr><td>DLPFC  </td><td>7.698674</td><td>45.82111</td><td>5.056699e-05</td><td>0.02173725</td></tr>\n",
       "\t<tr><td>HIPPO  </td><td>7.617513</td><td>45.48041</td><td>2.978609e-05</td><td>0.22688140</td></tr>\n",
       "</tbody>\n",
       "</table>\n"
      ],
      "text/latex": [
       "A tibble: 3 × 5\n",
       "\\begin{tabular}{lllll}\n",
       " Region & RIN & Age & rRNA\\_rate & mitoRate\\\\\n",
       " <chr> & <dbl> & <dbl> & <dbl> & <dbl>\\\\\n",
       "\\hline\n",
       "\t Caudate & 7.864411 & 49.11832 & 5.687892e-05 & 0.03651875\\\\\n",
       "\t DLPFC   & 7.698674 & 45.82111 & 5.056699e-05 & 0.02173725\\\\\n",
       "\t HIPPO   & 7.617513 & 45.48041 & 2.978609e-05 & 0.22688140\\\\\n",
       "\\end{tabular}\n"
      ],
      "text/markdown": [
       "\n",
       "A tibble: 3 × 5\n",
       "\n",
       "| Region &lt;chr&gt; | RIN &lt;dbl&gt; | Age &lt;dbl&gt; | rRNA_rate &lt;dbl&gt; | mitoRate &lt;dbl&gt; |\n",
       "|---|---|---|---|---|\n",
       "| Caudate | 7.864411 | 49.11832 | 5.687892e-05 | 0.03651875 |\n",
       "| DLPFC   | 7.698674 | 45.82111 | 5.056699e-05 | 0.02173725 |\n",
       "| HIPPO   | 7.617513 | 45.48041 | 2.978609e-05 | 0.22688140 |\n",
       "\n"
      ],
      "text/plain": [
       "  Region  RIN      Age      rRNA_rate    mitoRate  \n",
       "1 Caudate 7.864411 49.11832 5.687892e-05 0.03651875\n",
       "2 DLPFC   7.698674 45.82111 5.056699e-05 0.02173725\n",
       "3 HIPPO   7.617513 45.48041 2.978609e-05 0.22688140"
      ]
     },
     "metadata": {},
     "output_type": "display_data"
    }
   ],
   "source": [
    "df %>% group_by(Region) %>%\n",
    "    summarise(across(c(\"RIN\", \"Age\", \"rRNA_rate\", \"mitoRate\"), ~ mean(.x, na.rm = TRUE)))"
   ]
  },
  {
   "cell_type": "markdown",
   "metadata": {},
   "source": [
    "#### Median"
   ]
  },
  {
   "cell_type": "code",
   "execution_count": 11,
   "metadata": {},
   "outputs": [
    {
     "data": {
      "text/html": [
       "<table class=\"dataframe\">\n",
       "<caption>A tibble: 3 × 5</caption>\n",
       "<thead>\n",
       "\t<tr><th scope=col>Region</th><th scope=col>RIN</th><th scope=col>Age</th><th scope=col>rRNA_rate</th><th scope=col>mitoRate</th></tr>\n",
       "\t<tr><th scope=col>&lt;chr&gt;</th><th scope=col>&lt;dbl&gt;</th><th scope=col>&lt;dbl&gt;</th><th scope=col>&lt;dbl&gt;</th><th scope=col>&lt;dbl&gt;</th></tr>\n",
       "</thead>\n",
       "<tbody>\n",
       "\t<tr><td>Caudate</td><td>7.8</td><td>49.650</td><td>4.523605e-05</td><td>0.03439737</td></tr>\n",
       "\t<tr><td>DLPFC  </td><td>7.8</td><td>48.100</td><td>4.060600e-05</td><td>0.02063706</td></tr>\n",
       "\t<tr><td>HIPPO  </td><td>7.8</td><td>47.515</td><td>1.991029e-05</td><td>0.23442298</td></tr>\n",
       "</tbody>\n",
       "</table>\n"
      ],
      "text/latex": [
       "A tibble: 3 × 5\n",
       "\\begin{tabular}{lllll}\n",
       " Region & RIN & Age & rRNA\\_rate & mitoRate\\\\\n",
       " <chr> & <dbl> & <dbl> & <dbl> & <dbl>\\\\\n",
       "\\hline\n",
       "\t Caudate & 7.8 & 49.650 & 4.523605e-05 & 0.03439737\\\\\n",
       "\t DLPFC   & 7.8 & 48.100 & 4.060600e-05 & 0.02063706\\\\\n",
       "\t HIPPO   & 7.8 & 47.515 & 1.991029e-05 & 0.23442298\\\\\n",
       "\\end{tabular}\n"
      ],
      "text/markdown": [
       "\n",
       "A tibble: 3 × 5\n",
       "\n",
       "| Region &lt;chr&gt; | RIN &lt;dbl&gt; | Age &lt;dbl&gt; | rRNA_rate &lt;dbl&gt; | mitoRate &lt;dbl&gt; |\n",
       "|---|---|---|---|---|\n",
       "| Caudate | 7.8 | 49.650 | 4.523605e-05 | 0.03439737 |\n",
       "| DLPFC   | 7.8 | 48.100 | 4.060600e-05 | 0.02063706 |\n",
       "| HIPPO   | 7.8 | 47.515 | 1.991029e-05 | 0.23442298 |\n",
       "\n"
      ],
      "text/plain": [
       "  Region  RIN Age    rRNA_rate    mitoRate  \n",
       "1 Caudate 7.8 49.650 4.523605e-05 0.03439737\n",
       "2 DLPFC   7.8 48.100 4.060600e-05 0.02063706\n",
       "3 HIPPO   7.8 47.515 1.991029e-05 0.23442298"
      ]
     },
     "metadata": {},
     "output_type": "display_data"
    }
   ],
   "source": [
    "df %>% group_by(Region) %>%\n",
    "    summarise(across(c(\"RIN\", \"Age\", \"rRNA_rate\", \"mitoRate\"), ~ median(.x, na.rm = TRUE)))"
   ]
  },
  {
   "cell_type": "markdown",
   "metadata": {},
   "source": [
    "#### Standard deviation"
   ]
  },
  {
   "cell_type": "code",
   "execution_count": 12,
   "metadata": {},
   "outputs": [
    {
     "data": {
      "text/html": [
       "<table class=\"dataframe\">\n",
       "<caption>A tibble: 3 × 5</caption>\n",
       "<thead>\n",
       "\t<tr><th scope=col>Region</th><th scope=col>RIN</th><th scope=col>Age</th><th scope=col>rRNA_rate</th><th scope=col>mitoRate</th></tr>\n",
       "\t<tr><th scope=col>&lt;chr&gt;</th><th scope=col>&lt;dbl&gt;</th><th scope=col>&lt;dbl&gt;</th><th scope=col>&lt;dbl&gt;</th><th scope=col>&lt;dbl&gt;</th></tr>\n",
       "</thead>\n",
       "<tbody>\n",
       "\t<tr><td>Caudate</td><td>0.8632861</td><td>16.07355</td><td>3.630981e-05</td><td>0.01664994</td></tr>\n",
       "\t<tr><td>DLPFC  </td><td>0.9352001</td><td>16.51391</td><td>3.180953e-05</td><td>0.00773969</td></tr>\n",
       "\t<tr><td>HIPPO  </td><td>1.0323633</td><td>16.43348</td><td>2.769952e-05</td><td>0.09132075</td></tr>\n",
       "</tbody>\n",
       "</table>\n"
      ],
      "text/latex": [
       "A tibble: 3 × 5\n",
       "\\begin{tabular}{lllll}\n",
       " Region & RIN & Age & rRNA\\_rate & mitoRate\\\\\n",
       " <chr> & <dbl> & <dbl> & <dbl> & <dbl>\\\\\n",
       "\\hline\n",
       "\t Caudate & 0.8632861 & 16.07355 & 3.630981e-05 & 0.01664994\\\\\n",
       "\t DLPFC   & 0.9352001 & 16.51391 & 3.180953e-05 & 0.00773969\\\\\n",
       "\t HIPPO   & 1.0323633 & 16.43348 & 2.769952e-05 & 0.09132075\\\\\n",
       "\\end{tabular}\n"
      ],
      "text/markdown": [
       "\n",
       "A tibble: 3 × 5\n",
       "\n",
       "| Region &lt;chr&gt; | RIN &lt;dbl&gt; | Age &lt;dbl&gt; | rRNA_rate &lt;dbl&gt; | mitoRate &lt;dbl&gt; |\n",
       "|---|---|---|---|---|\n",
       "| Caudate | 0.8632861 | 16.07355 | 3.630981e-05 | 0.01664994 |\n",
       "| DLPFC   | 0.9352001 | 16.51391 | 3.180953e-05 | 0.00773969 |\n",
       "| HIPPO   | 1.0323633 | 16.43348 | 2.769952e-05 | 0.09132075 |\n",
       "\n"
      ],
      "text/plain": [
       "  Region  RIN       Age      rRNA_rate    mitoRate  \n",
       "1 Caudate 0.8632861 16.07355 3.630981e-05 0.01664994\n",
       "2 DLPFC   0.9352001 16.51391 3.180953e-05 0.00773969\n",
       "3 HIPPO   1.0323633 16.43348 2.769952e-05 0.09132075"
      ]
     },
     "metadata": {},
     "output_type": "display_data"
    }
   ],
   "source": [
    "df %>% group_by(Region) %>%\n",
    "    summarise(across(c(\"RIN\", \"Age\", \"rRNA_rate\", \"mitoRate\"), ~ sd(.x, na.rm = TRUE)))"
   ]
  },
  {
   "cell_type": "markdown",
   "metadata": {},
   "source": [
    "### Expression analysis"
   ]
  },
  {
   "cell_type": "code",
   "execution_count": 13,
   "metadata": {},
   "outputs": [
    {
     "data": {
      "text/html": [
       "<style>\n",
       ".list-inline {list-style: none; margin:0; padding: 0}\n",
       ".list-inline>li {display: inline-block}\n",
       ".list-inline>li:not(:last-child)::after {content: \"\\00b7\"; padding: 0 .5ex}\n",
       "</style>\n",
       "<ol class=list-inline><li>1127</li><li>16</li></ol>\n"
      ],
      "text/latex": [
       "\\begin{enumerate*}\n",
       "\\item 1127\n",
       "\\item 16\n",
       "\\end{enumerate*}\n"
      ],
      "text/markdown": [
       "1. 1127\n",
       "2. 16\n",
       "\n",
       "\n"
      ],
      "text/plain": [
       "[1] 1127   16"
      ]
     },
     "metadata": {},
     "output_type": "display_data"
    }
   ],
   "source": [
    "df2 = df %>% filter(Age > 17)\n",
    "df2 %>% dim"
   ]
  },
  {
   "cell_type": "code",
   "execution_count": 14,
   "metadata": {},
   "outputs": [
    {
     "name": "stdout",
     "output_type": "stream",
     "text": [
      "[1] \"There are 480 unique BrNum.\"\n"
     ]
    }
   ],
   "source": [
    "print(paste(\"There are\",df2$BrNum %>% unique %>% length, \"unique BrNum.\"))"
   ]
  },
  {
   "cell_type": "code",
   "execution_count": 15,
   "metadata": {},
   "outputs": [
    {
     "data": {
      "text/plain": [
       "\n",
       "Caudate   DLPFC   HIPPO \n",
       "    393     359     375 "
      ]
     },
     "metadata": {},
     "output_type": "display_data"
    }
   ],
   "source": [
    "table(df2$Region)"
   ]
  },
  {
   "cell_type": "code",
   "execution_count": 17,
   "metadata": {},
   "outputs": [
    {
     "data": {
      "text/plain": [
       "         \n",
       "          Control Schizo\n",
       "  Caudate     239    154\n",
       "  DLPFC       211    148\n",
       "  HIPPO       242    133"
      ]
     },
     "metadata": {},
     "output_type": "display_data"
    }
   ],
   "source": [
    "table(df2$Region, df2$Dx)"
   ]
  },
  {
   "cell_type": "code",
   "execution_count": 18,
   "metadata": {},
   "outputs": [
    {
     "data": {
      "text/plain": [
       "         \n",
       "            F   M\n",
       "  Caudate 121 272\n",
       "  DLPFC   114 245\n",
       "  HIPPO   121 254"
      ]
     },
     "metadata": {},
     "output_type": "display_data"
    }
   ],
   "source": [
    "table(df2$Region, df2$Sex)"
   ]
  },
  {
   "cell_type": "code",
   "execution_count": 19,
   "metadata": {},
   "outputs": [
    {
     "data": {
      "text/plain": [
       "         \n",
       "           AA CAUC\n",
       "  Caudate 205  188\n",
       "  DLPFC   200  159\n",
       "  HIPPO   207  168"
      ]
     },
     "metadata": {},
     "output_type": "display_data"
    }
   ],
   "source": [
    "table(df2$Region, df2$Race)"
   ]
  },
  {
   "cell_type": "markdown",
   "metadata": {},
   "source": [
    "#### Mean"
   ]
  },
  {
   "cell_type": "code",
   "execution_count": 20,
   "metadata": {},
   "outputs": [
    {
     "data": {
      "text/html": [
       "<table class=\"dataframe\">\n",
       "<caption>A tibble: 3 × 5</caption>\n",
       "<thead>\n",
       "\t<tr><th scope=col>Region</th><th scope=col>RIN</th><th scope=col>Age</th><th scope=col>rRNA_rate</th><th scope=col>mitoRate</th></tr>\n",
       "\t<tr><th scope=col>&lt;chr&gt;</th><th scope=col>&lt;dbl&gt;</th><th scope=col>&lt;dbl&gt;</th><th scope=col>&lt;dbl&gt;</th><th scope=col>&lt;dbl&gt;</th></tr>\n",
       "</thead>\n",
       "<tbody>\n",
       "\t<tr><td>Caudate</td><td>7.863613</td><td>49.65076</td><td>5.658740e-05</td><td>0.03639159</td></tr>\n",
       "\t<tr><td>DLPFC  </td><td>7.666295</td><td>47.35662</td><td>5.149245e-05</td><td>0.02148476</td></tr>\n",
       "\t<tr><td>HIPPO  </td><td>7.598667</td><td>47.02501</td><td>3.026710e-05</td><td>0.22567167</td></tr>\n",
       "</tbody>\n",
       "</table>\n"
      ],
      "text/latex": [
       "A tibble: 3 × 5\n",
       "\\begin{tabular}{lllll}\n",
       " Region & RIN & Age & rRNA\\_rate & mitoRate\\\\\n",
       " <chr> & <dbl> & <dbl> & <dbl> & <dbl>\\\\\n",
       "\\hline\n",
       "\t Caudate & 7.863613 & 49.65076 & 5.658740e-05 & 0.03639159\\\\\n",
       "\t DLPFC   & 7.666295 & 47.35662 & 5.149245e-05 & 0.02148476\\\\\n",
       "\t HIPPO   & 7.598667 & 47.02501 & 3.026710e-05 & 0.22567167\\\\\n",
       "\\end{tabular}\n"
      ],
      "text/markdown": [
       "\n",
       "A tibble: 3 × 5\n",
       "\n",
       "| Region &lt;chr&gt; | RIN &lt;dbl&gt; | Age &lt;dbl&gt; | rRNA_rate &lt;dbl&gt; | mitoRate &lt;dbl&gt; |\n",
       "|---|---|---|---|---|\n",
       "| Caudate | 7.863613 | 49.65076 | 5.658740e-05 | 0.03639159 |\n",
       "| DLPFC   | 7.666295 | 47.35662 | 5.149245e-05 | 0.02148476 |\n",
       "| HIPPO   | 7.598667 | 47.02501 | 3.026710e-05 | 0.22567167 |\n",
       "\n"
      ],
      "text/plain": [
       "  Region  RIN      Age      rRNA_rate    mitoRate  \n",
       "1 Caudate 7.863613 49.65076 5.658740e-05 0.03639159\n",
       "2 DLPFC   7.666295 47.35662 5.149245e-05 0.02148476\n",
       "3 HIPPO   7.598667 47.02501 3.026710e-05 0.22567167"
      ]
     },
     "metadata": {},
     "output_type": "display_data"
    }
   ],
   "source": [
    "df2 %>% group_by(Region) %>%\n",
    "    summarise(across(c(\"RIN\", \"Age\", \"rRNA_rate\", \"mitoRate\"), ~ mean(.x, na.rm = TRUE)))"
   ]
  },
  {
   "cell_type": "markdown",
   "metadata": {},
   "source": [
    "#### Median"
   ]
  },
  {
   "cell_type": "code",
   "execution_count": 21,
   "metadata": {},
   "outputs": [
    {
     "data": {
      "text/html": [
       "<table class=\"dataframe\">\n",
       "<caption>A tibble: 3 × 5</caption>\n",
       "<thead>\n",
       "\t<tr><th scope=col>Region</th><th scope=col>RIN</th><th scope=col>Age</th><th scope=col>rRNA_rate</th><th scope=col>mitoRate</th></tr>\n",
       "\t<tr><th scope=col>&lt;chr&gt;</th><th scope=col>&lt;dbl&gt;</th><th scope=col>&lt;dbl&gt;</th><th scope=col>&lt;dbl&gt;</th><th scope=col>&lt;dbl&gt;</th></tr>\n",
       "</thead>\n",
       "<tbody>\n",
       "\t<tr><td>Caudate</td><td>7.8</td><td>50.00</td><td>4.447903e-05</td><td>0.03439737</td></tr>\n",
       "\t<tr><td>DLPFC  </td><td>7.8</td><td>48.66</td><td>4.175559e-05</td><td>0.02044370</td></tr>\n",
       "\t<tr><td>HIPPO  </td><td>7.8</td><td>48.34</td><td>1.997499e-05</td><td>0.23428324</td></tr>\n",
       "</tbody>\n",
       "</table>\n"
      ],
      "text/latex": [
       "A tibble: 3 × 5\n",
       "\\begin{tabular}{lllll}\n",
       " Region & RIN & Age & rRNA\\_rate & mitoRate\\\\\n",
       " <chr> & <dbl> & <dbl> & <dbl> & <dbl>\\\\\n",
       "\\hline\n",
       "\t Caudate & 7.8 & 50.00 & 4.447903e-05 & 0.03439737\\\\\n",
       "\t DLPFC   & 7.8 & 48.66 & 4.175559e-05 & 0.02044370\\\\\n",
       "\t HIPPO   & 7.8 & 48.34 & 1.997499e-05 & 0.23428324\\\\\n",
       "\\end{tabular}\n"
      ],
      "text/markdown": [
       "\n",
       "A tibble: 3 × 5\n",
       "\n",
       "| Region &lt;chr&gt; | RIN &lt;dbl&gt; | Age &lt;dbl&gt; | rRNA_rate &lt;dbl&gt; | mitoRate &lt;dbl&gt; |\n",
       "|---|---|---|---|---|\n",
       "| Caudate | 7.8 | 50.00 | 4.447903e-05 | 0.03439737 |\n",
       "| DLPFC   | 7.8 | 48.66 | 4.175559e-05 | 0.02044370 |\n",
       "| HIPPO   | 7.8 | 48.34 | 1.997499e-05 | 0.23428324 |\n",
       "\n"
      ],
      "text/plain": [
       "  Region  RIN Age   rRNA_rate    mitoRate  \n",
       "1 Caudate 7.8 50.00 4.447903e-05 0.03439737\n",
       "2 DLPFC   7.8 48.66 4.175559e-05 0.02044370\n",
       "3 HIPPO   7.8 48.34 1.997499e-05 0.23428324"
      ]
     },
     "metadata": {},
     "output_type": "display_data"
    }
   ],
   "source": [
    "df2 %>% group_by(Region) %>%\n",
    "    summarise(across(c(\"RIN\", \"Age\", \"rRNA_rate\", \"mitoRate\"), ~ median(.x, na.rm = TRUE)))"
   ]
  },
  {
   "cell_type": "markdown",
   "metadata": {},
   "source": [
    "#### Standard deviation"
   ]
  },
  {
   "cell_type": "code",
   "execution_count": 22,
   "metadata": {},
   "outputs": [
    {
     "data": {
      "text/html": [
       "<table class=\"dataframe\">\n",
       "<caption>A tibble: 3 × 5</caption>\n",
       "<thead>\n",
       "\t<tr><th scope=col>Region</th><th scope=col>RIN</th><th scope=col>Age</th><th scope=col>rRNA_rate</th><th scope=col>mitoRate</th></tr>\n",
       "\t<tr><th scope=col>&lt;chr&gt;</th><th scope=col>&lt;dbl&gt;</th><th scope=col>&lt;dbl&gt;</th><th scope=col>&lt;dbl&gt;</th><th scope=col>&lt;dbl&gt;</th></tr>\n",
       "</thead>\n",
       "<tbody>\n",
       "\t<tr><td>Caudate</td><td>0.8649491</td><td>15.60086</td><td>3.634418e-05</td><td>0.016609313</td></tr>\n",
       "\t<tr><td>DLPFC  </td><td>0.9221092</td><td>15.38859</td><td>3.224609e-05</td><td>0.007513765</td></tr>\n",
       "\t<tr><td>HIPPO  </td><td>1.0321689</td><td>15.29984</td><td>2.823267e-05</td><td>0.092901235</td></tr>\n",
       "</tbody>\n",
       "</table>\n"
      ],
      "text/latex": [
       "A tibble: 3 × 5\n",
       "\\begin{tabular}{lllll}\n",
       " Region & RIN & Age & rRNA\\_rate & mitoRate\\\\\n",
       " <chr> & <dbl> & <dbl> & <dbl> & <dbl>\\\\\n",
       "\\hline\n",
       "\t Caudate & 0.8649491 & 15.60086 & 3.634418e-05 & 0.016609313\\\\\n",
       "\t DLPFC   & 0.9221092 & 15.38859 & 3.224609e-05 & 0.007513765\\\\\n",
       "\t HIPPO   & 1.0321689 & 15.29984 & 2.823267e-05 & 0.092901235\\\\\n",
       "\\end{tabular}\n"
      ],
      "text/markdown": [
       "\n",
       "A tibble: 3 × 5\n",
       "\n",
       "| Region &lt;chr&gt; | RIN &lt;dbl&gt; | Age &lt;dbl&gt; | rRNA_rate &lt;dbl&gt; | mitoRate &lt;dbl&gt; |\n",
       "|---|---|---|---|---|\n",
       "| Caudate | 0.8649491 | 15.60086 | 3.634418e-05 | 0.016609313 |\n",
       "| DLPFC   | 0.9221092 | 15.38859 | 3.224609e-05 | 0.007513765 |\n",
       "| HIPPO   | 1.0321689 | 15.29984 | 2.823267e-05 | 0.092901235 |\n",
       "\n"
      ],
      "text/plain": [
       "  Region  RIN       Age      rRNA_rate    mitoRate   \n",
       "1 Caudate 0.8649491 15.60086 3.634418e-05 0.016609313\n",
       "2 DLPFC   0.9221092 15.38859 3.224609e-05 0.007513765\n",
       "3 HIPPO   1.0321689 15.29984 2.823267e-05 0.092901235"
      ]
     },
     "metadata": {},
     "output_type": "display_data"
    }
   ],
   "source": [
    "df2 %>% group_by(Region) %>%\n",
    "    summarise(across(c(\"RIN\", \"Age\", \"rRNA_rate\", \"mitoRate\"), ~ sd(.x, na.rm = TRUE)))"
   ]
  },
  {
   "cell_type": "code",
   "execution_count": 23,
   "metadata": {},
   "outputs": [
    {
     "name": "stderr",
     "output_type": "stream",
     "text": [
      "`summarise()` has grouped output by 'Region', 'Sex'. You can override using the `.groups` argument.\n",
      "\n"
     ]
    },
    {
     "data": {
      "text/html": [
       "<table class=\"dataframe\">\n",
       "<caption>A grouped_df: 12 × 4</caption>\n",
       "<thead>\n",
       "\t<tr><th scope=col>Region</th><th scope=col>Sex</th><th scope=col>Dx</th><th scope=col>N</th></tr>\n",
       "\t<tr><th scope=col>&lt;chr&gt;</th><th scope=col>&lt;fct&gt;</th><th scope=col>&lt;fct&gt;</th><th scope=col>&lt;int&gt;</th></tr>\n",
       "</thead>\n",
       "<tbody>\n",
       "\t<tr><td>Caudate</td><td>F</td><td>Control</td><td> 71</td></tr>\n",
       "\t<tr><td>Caudate</td><td>F</td><td>Schizo </td><td> 50</td></tr>\n",
       "\t<tr><td>Caudate</td><td>M</td><td>Control</td><td>168</td></tr>\n",
       "\t<tr><td>Caudate</td><td>M</td><td>Schizo </td><td>104</td></tr>\n",
       "\t<tr><td>DLPFC  </td><td>F</td><td>Control</td><td> 66</td></tr>\n",
       "\t<tr><td>DLPFC  </td><td>F</td><td>Schizo </td><td> 48</td></tr>\n",
       "\t<tr><td>DLPFC  </td><td>M</td><td>Control</td><td>145</td></tr>\n",
       "\t<tr><td>DLPFC  </td><td>M</td><td>Schizo </td><td>100</td></tr>\n",
       "\t<tr><td>HIPPO  </td><td>F</td><td>Control</td><td> 74</td></tr>\n",
       "\t<tr><td>HIPPO  </td><td>F</td><td>Schizo </td><td> 47</td></tr>\n",
       "\t<tr><td>HIPPO  </td><td>M</td><td>Control</td><td>168</td></tr>\n",
       "\t<tr><td>HIPPO  </td><td>M</td><td>Schizo </td><td> 86</td></tr>\n",
       "</tbody>\n",
       "</table>\n"
      ],
      "text/latex": [
       "A grouped\\_df: 12 × 4\n",
       "\\begin{tabular}{llll}\n",
       " Region & Sex & Dx & N\\\\\n",
       " <chr> & <fct> & <fct> & <int>\\\\\n",
       "\\hline\n",
       "\t Caudate & F & Control &  71\\\\\n",
       "\t Caudate & F & Schizo  &  50\\\\\n",
       "\t Caudate & M & Control & 168\\\\\n",
       "\t Caudate & M & Schizo  & 104\\\\\n",
       "\t DLPFC   & F & Control &  66\\\\\n",
       "\t DLPFC   & F & Schizo  &  48\\\\\n",
       "\t DLPFC   & M & Control & 145\\\\\n",
       "\t DLPFC   & M & Schizo  & 100\\\\\n",
       "\t HIPPO   & F & Control &  74\\\\\n",
       "\t HIPPO   & F & Schizo  &  47\\\\\n",
       "\t HIPPO   & M & Control & 168\\\\\n",
       "\t HIPPO   & M & Schizo  &  86\\\\\n",
       "\\end{tabular}\n"
      ],
      "text/markdown": [
       "\n",
       "A grouped_df: 12 × 4\n",
       "\n",
       "| Region &lt;chr&gt; | Sex &lt;fct&gt; | Dx &lt;fct&gt; | N &lt;int&gt; |\n",
       "|---|---|---|---|\n",
       "| Caudate | F | Control |  71 |\n",
       "| Caudate | F | Schizo  |  50 |\n",
       "| Caudate | M | Control | 168 |\n",
       "| Caudate | M | Schizo  | 104 |\n",
       "| DLPFC   | F | Control |  66 |\n",
       "| DLPFC   | F | Schizo  |  48 |\n",
       "| DLPFC   | M | Control | 145 |\n",
       "| DLPFC   | M | Schizo  | 100 |\n",
       "| HIPPO   | F | Control |  74 |\n",
       "| HIPPO   | F | Schizo  |  47 |\n",
       "| HIPPO   | M | Control | 168 |\n",
       "| HIPPO   | M | Schizo  |  86 |\n",
       "\n"
      ],
      "text/plain": [
       "   Region  Sex Dx      N  \n",
       "1  Caudate F   Control  71\n",
       "2  Caudate F   Schizo   50\n",
       "3  Caudate M   Control 168\n",
       "4  Caudate M   Schizo  104\n",
       "5  DLPFC   F   Control  66\n",
       "6  DLPFC   F   Schizo   48\n",
       "7  DLPFC   M   Control 145\n",
       "8  DLPFC   M   Schizo  100\n",
       "9  HIPPO   F   Control  74\n",
       "10 HIPPO   F   Schizo   47\n",
       "11 HIPPO   M   Control 168\n",
       "12 HIPPO   M   Schizo   86"
      ]
     },
     "metadata": {},
     "output_type": "display_data"
    }
   ],
   "source": [
    "df2 %>% group_by(Region, Sex, Dx) %>% summarise(N=n())"
   ]
  },
  {
   "cell_type": "markdown",
   "metadata": {},
   "source": [
    "## Reproducibility Information"
   ]
  },
  {
   "cell_type": "code",
   "execution_count": null,
   "metadata": {},
   "outputs": [],
   "source": [
    "Sys.time()\n",
    "proc.time()\n",
    "options(width = 120)\n",
    "sessioninfo::session_info()"
   ]
  }
 ],
 "metadata": {
  "kernelspec": {
   "display_name": "R",
   "language": "R",
   "name": "ir"
  },
  "language_info": {
   "codemirror_mode": "r",
   "file_extension": ".r",
   "mimetype": "text/x-r-source",
   "name": "R",
   "pygments_lexer": "r",
   "version": "4.0.3"
  }
 },
 "nbformat": 4,
 "nbformat_minor": 4
}
