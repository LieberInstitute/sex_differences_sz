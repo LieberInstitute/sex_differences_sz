{
 "cells": [
  {
   "cell_type": "markdown",
   "metadata": {},
   "source": [
    "# Check sex chromosomes for caudate nucleus"
   ]
  },
  {
   "cell_type": "code",
   "execution_count": null,
   "metadata": {},
   "outputs": [],
   "source": [
    "suppressMessages({library(dplyr)\n",
    "                  library(ggpubr)})"
   ]
  },
  {
   "cell_type": "markdown",
   "metadata": {},
   "source": [
    "## Get and annotated sex from genotypes"
   ]
  },
  {
   "cell_type": "code",
   "execution_count": null,
   "metadata": {},
   "outputs": [],
   "source": [
    "sexcheck_file = paste0('../../../input/genotypes/check_sex/_m/', \n",
    "                       'LIBD_Brain_TopMed.sexcheck')\n",
    "pheno_file = '../../..//input/phenotypes/_m/phenotypes.csv'\n",
    "\n",
    "dt = data.table::fread(sexcheck_file) %>% \n",
    "    inner_join(data.table::fread(pheno_file), by=c(\"FID\"=\"BrNum\")) %>%\n",
    "    select(c(\"FID\", \"Dx\", \"Sex\", \"Age\", \"F\", \"SNPSEX\")) %>%\n",
    "    distinct() %>% mutate_if(is.character, as.factor)\n",
    "levels(dt$Sex) <- c('Woman', 'Man')\n",
    "dt %>% head(2)"
   ]
  },
  {
   "cell_type": "markdown",
   "metadata": {},
   "source": [
    "## Plot F estimate"
   ]
  },
  {
   "cell_type": "code",
   "execution_count": null,
   "metadata": {},
   "outputs": [],
   "source": [
    "fig <- ggboxplot(dt, x = \"Sex\", y = \"F\", fill='Sex', width=0.65, palette='npg', \n",
    "                 xlab='Reported Gender', ylab='F estimate\\n(Genotype Sex)', \n",
    "                 ggtheme=theme_pubr(base_size=20), add=\"jitter\", \n",
    "                 add.params=list(alpha=0.5), legend=\"None\") +\n",
    "    font(\"xy.title\", face='bold')\n",
    "fig"
   ]
  },
  {
   "cell_type": "code",
   "execution_count": null,
   "metadata": {},
   "outputs": [],
   "source": [
    "ggsave(\"sex_check.png\")\n",
    "ggsave(\"sex_check.pdf\")\n",
    "ggsave(\"sex_check.svg\")"
   ]
  },
  {
   "cell_type": "code",
   "execution_count": null,
   "metadata": {},
   "outputs": [],
   "source": [
    "dt %>%\n",
    "  group_by(Sex) %>%\n",
    "  summarize(mean_size = mean(F, na.rm = TRUE), max = max(F, na.rm=TRUE))"
   ]
  },
  {
   "cell_type": "markdown",
   "metadata": {},
   "source": [
    "## Check that reported gender matches genotype sex"
   ]
  },
  {
   "cell_type": "code",
   "execution_count": null,
   "metadata": {},
   "outputs": [],
   "source": [
    "sum(dt$Sex == \"Man\")\n",
    "sum(dt$SNPSEX == 1 & dt$Sex == \"Man\")"
   ]
  },
  {
   "cell_type": "code",
   "execution_count": null,
   "metadata": {},
   "outputs": [],
   "source": [
    "sum(dt$Sex == \"Woman\")\n",
    "sum(dt$SNPSEX == 2 & dt$Sex == \"Woman\")"
   ]
  },
  {
   "cell_type": "markdown",
   "metadata": {},
   "source": [
    "### Examine number of X chromosomes"
   ]
  },
  {
   "cell_type": "code",
   "execution_count": null,
   "metadata": {},
   "outputs": [],
   "source": [
    "table(dt$SNPSEX)"
   ]
  },
  {
   "cell_type": "code",
   "execution_count": null,
   "metadata": {},
   "outputs": [],
   "source": [
    "table(dt$Sex)"
   ]
  },
  {
   "cell_type": "markdown",
   "metadata": {},
   "source": [
    "#### Summary: All samples have reported gender matching genotype sex"
   ]
  },
  {
   "cell_type": "markdown",
   "metadata": {},
   "source": [
    "## Reproducibility Information"
   ]
  },
  {
   "cell_type": "code",
   "execution_count": null,
   "metadata": {},
   "outputs": [],
   "source": [
    "Sys.time()\n",
    "proc.time()\n",
    "options(width = 120)\n",
    "sessioninfo::session_info()"
   ]
  }
 ],
 "metadata": {
  "kernelspec": {
   "display_name": "R",
   "language": "R",
   "name": "ir"
  },
  "language_info": {
   "codemirror_mode": "r",
   "file_extension": ".r",
   "mimetype": "text/x-r-source",
   "name": "R",
   "pygments_lexer": "r",
   "version": "4.2.1"
  }
 },
 "nbformat": 4,
 "nbformat_minor": 4
}
