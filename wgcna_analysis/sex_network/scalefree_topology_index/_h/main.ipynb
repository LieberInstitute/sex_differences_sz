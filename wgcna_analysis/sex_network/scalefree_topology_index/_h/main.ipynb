{
 "cells": [
  {
   "cell_type": "code",
   "execution_count": null,
   "id": "5bf34af2-6ed8-4da4-aa46-1364a1945ebf",
   "metadata": {
    "tags": []
   },
   "outputs": [],
   "source": [
    "#!/usr/bin/Rscript\n",
    "#############################################################\n",
    "options(stringsAsFactors = FALSE)\n",
    "##############################################################\n",
    "\n",
    "suppressMessages(\n",
    "    {\n",
    "\n",
    "    library(tidyverse)\n",
    "    library(data.table)\n",
    "    library(dynamicTreeCut)\n",
    "    library(fastcluster)\n",
    "    library(WGCNA)\n",
    "    library(flashClust)\n",
    "    library(lattice)\n",
    "    library(latticeExtra)\n",
    "    library(gridExtra)\n",
    "    library(grid)\n",
    "    library(ggplot2)\n",
    "    library(IRdisplay)\n",
    "\n",
    "    #enableWGCNAThreads(15)\n",
    "    #change that on rf    \n",
    "    allowWGCNAThreads(15)\n",
    "\n",
    "    }\n",
    "                )\n",
    "\n",
    "\n",
    "save_plot <- function(p, fn, w, h){\n",
    "    for(ext in c(\".pdf\", \".png\")){\n",
    "        ggsave(filename=paste0(fn,ext), plot=p, width=w, height=h)\n",
    "    }\n",
    "}\n",
    "\n",
    "\n",
    "dir.create('../_m/')\n",
    "setwd('../_m/')"
   ]
  },
  {
   "cell_type": "code",
   "execution_count": null,
   "id": "f518e955-2614-446a-bb95-fe180c3ab0d5",
   "metadata": {
    "tags": []
   },
   "outputs": [],
   "source": [
    "\n",
    "counts_path <- Sys.glob('../../../../jhpce_data/analysis/*/residualized_expression.tsv')\n",
    "counts_path\n",
    "\n",
    "\n",
    "region <- gsub('.*analysis/|/residu.*','',counts_path)\n",
    "region"
   ]
  },
  {
   "cell_type": "code",
   "execution_count": null,
   "id": "1e177755-c3a3-42e1-9928-c0276f3808be",
   "metadata": {
    "tags": []
   },
   "outputs": [],
   "source": [
    "rdata_path <- Sys.glob('../../../../jhpce_data/analysis/*/voomSVA.RData')\n",
    "rdata_path\n",
    "#load(rdata_path)"
   ]
  },
  {
   "cell_type": "code",
   "execution_count": null,
   "id": "7259e620-dfbc-4ecf-8535-49ef7b83e399",
   "metadata": {
    "tags": []
   },
   "outputs": [],
   "source": [
    "#process the dataframes\n",
    "process_data <- function(data, group) {\n",
    "  data %>%\n",
    "        dplyr::select(row.names(group)) %>%\n",
    "        t() %>%\n",
    "        .[goodSamplesGenes(., verbose = 3)$goodSamples, goodSamplesGenes(., verbose = 3)$goodGenes] %>%\n",
    "        t()\n",
    "    }\n",
    "\n",
    "# split the expr data between groups (ie. case vs control, male vs female etc)\n",
    "separate_data <- function(data,group) {\n",
    "    df_tmp <- table_all %>% \n",
    "                        t() %>%\n",
    "                        as.data.frame() %>%\n",
    "                        tibble::rownames_to_column(var = 'row_name') %>%\n",
    "                        filter(row_name %in% row.names(group)) %>%\n",
    "                        tibble::column_to_rownames(var = 'row_name')\n",
    "    return(df_tmp)\n",
    "    \n",
    "    }\n",
    "\n",
    "# Define a function to get the max value between two vectors\n",
    "max_vector <- function(x, y) { \n",
    "    if (max(x) > max(y)) x else y\n",
    "        }"
   ]
  },
  {
   "cell_type": "code",
   "execution_count": null,
   "id": "ce0b4bb3-a224-4233-b7ab-8364f956b9d3",
   "metadata": {
    "tags": []
   },
   "outputs": [],
   "source": [
    "#c('group_A','group_B')\n",
    "setLabels <- c('Male','Female')\n",
    "setA <- setLabels[1]\n",
    "setB <- setLabels[2]"
   ]
  },
  {
   "cell_type": "code",
   "execution_count": null,
   "id": "05ff95df-dbf6-4a63-9b61-f1de35c2c2f6",
   "metadata": {
    "tags": []
   },
   "outputs": [],
   "source": [
    "scale_free_df = data.frame()"
   ]
  },
  {
   "cell_type": "code",
   "execution_count": null,
   "id": "e6f6c756-da32-4e6a-9c10-060238c8962d",
   "metadata": {
    "tags": []
   },
   "outputs": [],
   "source": [
    "\n",
    "for (i in seq_along(counts_path)){\n",
    "    \n",
    "    load(rdata_path[i])\n",
    "    \n",
    "    dir.create(region[i])\n",
    "    \n",
    "    metadata <- v$targets %>% \n",
    "                        as.data.frame()\n",
    "    \n",
    "    CTL <- metadata %>% \n",
    "                    filter(Dx == 'Control')\n",
    "    SZD <- metadata %>% \n",
    "                    filter(Dx != 'Control')\n",
    "    CTL_SZD <- metadata\n",
    "\n",
    "    \n",
    "    for (sample_filter in c('CTL', 'SZD', 'CTL_SZD')){\n",
    "        \n",
    "        save_path <- paste0(region[i],'/',sample_filter,'/')\n",
    "        print(save_path)\n",
    "        \n",
    "        dir.create(save_path)\n",
    "        \n",
    "        filtered_metadata <- get(sample_filter)\n",
    "        \n",
    "        group_a <- filtered_metadata %>% \n",
    "                                    filter(Sex == 'M') #male only\n",
    "        group_b <- filtered_metadata %>% \n",
    "                                    filter(Sex != 'M') #female only   \n",
    "    \n",
    "        vsd<-fread(counts_path[i],header = T, na.strings = \"\",check.names = F) %>%\n",
    "                                                tibble::column_to_rownames(var = \"feature_id\") #%>% slice_head(n=1000)\n",
    "    \n",
    "        \n",
    "        # Process data for group_a and group_b\n",
    "        vsd_group_a <- process_data(vsd, group_a)\n",
    "        vsd_group_b <- process_data(vsd, group_b)\n",
    "\n",
    "        # Merge the processed data\n",
    "        table_all <- merge(vsd_group_a, vsd_group_b, by = \"row.names\") %>%\n",
    "                                                tibble::column_to_rownames('Row.names') \n",
    "\n",
    "\n",
    "        datExprA <- separate_data(tabble_all, group_a)\n",
    "        datExprB <- separate_data(tabble_all, group_b)\n",
    "        datExprAll <- table_all %>%\n",
    "                                t() %>%\n",
    "                                as.data.frame()\n",
    "\n",
    "        sampleTreeA <- flashClust(dist(datExprA), method=\"average\")\n",
    "        sampleTreeB <- flashClust(dist(datExprB), method=\"average\")\n",
    "        sampleTreeAll <- flashClust(dist(datExprAll), method=\"average\")\n",
    "\n",
    "\n",
    "        ###save as .PDF file \n",
    "        pdf(paste0(save_path,'1a-Dist_clust_',sample_filter,'.pdf'),height=10,width = 15)\n",
    "        par(mar=c(2,4,1,0), mfrow=c(1,2), oma=c(2,0,4,0), cex=0.5)\n",
    "        plot(sampleTreeA, main=paste0(setA, ' ', sample_filter), sub=\"\", cex.lab=1.2, cex.axis=1.2, cex.main=1.7, ylim=20)\n",
    "        plot(sampleTreeB, main=paste0(setB, ' ',sample_filter), sub=\"\", cex.lab=1.2, cex.axis=1.2, cex.main=1.7, ylim=20)\n",
    "        par(cex=1)\n",
    "        title(main=\"Sample Clustering Based on Distance \",outer=TRUE)\n",
    "        dev.off()\n",
    "\n",
    "\n",
    "        ###save as .PDF file \n",
    "        pdf(paste0(save_path,'1a-Dist_clust_all_',sample_filter,'.pdf'),height=10,width = 15)\n",
    "        par(cex=0.5)\n",
    "        plot(sampleTreeAll, main='', sub=\"\", cex.lab=1.2, cex.axis=1.2, cex.main=1.7, ylim=20)\n",
    "        title(main=\"Sample Clustering Based on Distance \",outer=TRUE)\n",
    "        dev.off()\n",
    "        \n",
    "        \n",
    "        powers1 = c(seq(1,30,by = 1))\n",
    "        sink('pickSoftThreshold.log')\n",
    "        RpowerTableA <- pickSoftThreshold(datExprA, powerVector = powers1, RsquaredCut = 0.85, verbose = 1)\n",
    "        RpowerTableB <- pickSoftThreshold(datExprB, powerVector = powers1, RsquaredCut = 0.85, verbose = 1)\n",
    "        sink()\n",
    "        \n",
    "        \n",
    "        male_sfa <- RpowerTableA$fitIndices\n",
    "        male_sfa$brain_region <- region[i]\n",
    "        male_sfa$sex <- 'male'\n",
    "        male_sfa$status <- sample_filter\n",
    "        \n",
    "        female_sfa <- RpowerTableB$fitIndices\n",
    "        female_sfa$brain_region <- region[i]\n",
    "        female_sfa$sex <- 'female'\n",
    "        female_sfa$status <- sample_filter\n",
    "        \n",
    "        male_female_scalefree <- rbind(male_sfa, female_sfa) %>% filter(Power == 15)\n",
    "        \n",
    "                \n",
    "        display('male')\n",
    "        display(RpowerTableA$fitIndices)\n",
    "        display('female')\n",
    "        display(RpowerTableB$fitIndices)\n",
    "\n",
    "        \n",
    "        #save results into a dataframe\n",
    "        RpowerTableA$fitIndices %>%\n",
    "                fwrite(paste0(save_path,setA,'_scale_free_metrics.tsv'),quote=F,sep='\\t',row.names=F)\n",
    "        RpowerTableB$fitIndices %>%\n",
    "                fwrite(paste0(save_path,setB,'_scale_free_metrics.tsv'),quote=F,sep='\\t',row.names=F)\n",
    "        \n",
    "        \n",
    "        \n",
    "        \n",
    "        scale_free_df <- rbind(male_female_scalefree,scale_free_df)\n",
    "                \n",
    "        \n",
    "        print(dim(datExprAll))\n",
    "        \n",
    "        \n",
    "    \n",
    "        }\n",
    "    \n",
    "    }"
   ]
  },
  {
   "cell_type": "code",
   "execution_count": null,
   "id": "7aa7c41f-ff04-407b-8349-b7be5fdf264d",
   "metadata": {
    "tags": []
   },
   "outputs": [],
   "source": [
    "scale_free_df"
   ]
  },
  {
   "cell_type": "code",
   "execution_count": null,
   "id": "c4d59513-e0b2-49f0-9cac-db92f87b3b18",
   "metadata": {
    "tags": []
   },
   "outputs": [],
   "source": [
    "dev.off()"
   ]
  },
  {
   "cell_type": "markdown",
   "id": "29de5874-e394-44f1-9a3b-851aca473805",
   "metadata": {
    "tags": []
   },
   "source": [
    "### We didn't achievied a scale-free topology index (R^2 >= 0.85) on some DLPFC networks using all samples from this brain region, so let's try to remove some possible outliers samples based on  DLPFC hierarchical dendograms ('_m/dlpfc/{CTL,SZD}/*.pdf'), lets try to remove some outliers samples to try to achieve a scale free network"
   ]
  },
  {
   "cell_type": "code",
   "execution_count": null,
   "id": "87103320-cf77-4d32-b2cf-71335524ae5f",
   "metadata": {
    "tags": []
   },
   "outputs": [],
   "source": [
    "# run script again, but only with dlpfc data, removing 3 DLPFC samples\n",
    "\n",
    "scale_free_df2 = data.frame()\n",
    "\n",
    "\n",
    "for (i in 2){ #dlpfc expression data is the second vector from counts_path\n",
    "    \n",
    "    load(rdata_path[i])\n",
    "    \n",
    "    dir.create(region[i])\n",
    "    \n",
    "    metadata <- v$targets %>% \n",
    "                        as.data.frame()\n",
    "    \n",
    "    CTL <- metadata %>% \n",
    "                    filter(Dx == 'Control')\n",
    "    SZD <- metadata %>% \n",
    "                    filter(Dx != 'Control')\n",
    "    CTL_SZD <- metadata\n",
    "\n",
    "    \n",
    "    for (sample_filter in c('CTL', 'SZD', 'CTL_SZD')){\n",
    "            \n",
    "        save_path <- paste0(region[i],'/',sample_filter,'/')\n",
    "        print(save_path)\n",
    "        \n",
    "        dir.create(save_path)\n",
    "        \n",
    "        filtered_metadata <- get(sample_filter)\n",
    "        \n",
    "        group_a <- filtered_metadata %>% \n",
    "                                    filter(Sex == 'M') %>% #male only\n",
    "                                    filter(RNum != 'R3555') #remove this specific sample, huge outlier\n",
    "        group_b <- filtered_metadata %>% \n",
    "                                    filter(Sex != 'M') %>% #female only \n",
    "                                    filter(!RNum %in% c('R12351', 'R12371'))  #remove these specific samples, outliers\n",
    "    \n",
    "        vsd<-fread(counts_path[i],header = T, na.strings = \"\",check.names = F) %>%\n",
    "                                                tibble::column_to_rownames(var = \"feature_id\") #%>% slice_head(n=1000)\n",
    "    \n",
    "        \n",
    "        # Process data for group_a and group_b\n",
    "        vsd_group_a <- process_data(vsd, group_a)\n",
    "        vsd_group_b <- process_data(vsd, group_b)\n",
    "\n",
    "        # Merge the processed data\n",
    "        table_all <- merge(vsd_group_a, vsd_group_b, by = \"row.names\") %>%\n",
    "                                                tibble::column_to_rownames('Row.names') \n",
    "\n",
    "\n",
    "        datExprA <- separate_data(tabble_all, group_a)\n",
    "        datExprB <- separate_data(tabble_all, group_b)\n",
    "        datExprAll <- table_all %>%\n",
    "                                t() %>%\n",
    "                                as.data.frame()\n",
    "\n",
    "        sampleTreeA <- flashClust(dist(datExprA), method=\"average\")\n",
    "        sampleTreeB <- flashClust(dist(datExprB), method=\"average\")\n",
    "        sampleTreeAll <- flashClust(dist(datExprAll), method=\"average\")\n",
    "\n",
    "        \n",
    "        powers1 = c(seq(1,30,by = 1))\n",
    "        # sink('pickSoftThreshold.log')\n",
    "        RpowerTableA <- pickSoftThreshold(datExprA, powerVector = powers1, RsquaredCut = 0.85, verbose = 1)\n",
    "        RpowerTableB <- pickSoftThreshold(datExprB, powerVector = powers1, RsquaredCut = 0.85, verbose = 1)\n",
    "        # sink()\n",
    "        \n",
    "        \n",
    "        male_sfa <- RpowerTableA$fitIndices\n",
    "        male_sfa$brain_region <- region[i]\n",
    "        male_sfa$sex <- 'male'\n",
    "        male_sfa$status <- sample_filter\n",
    "        \n",
    "        female_sfa <- RpowerTableB$fitIndices\n",
    "        female_sfa$brain_region <- region[i]\n",
    "        female_sfa$sex <- 'female'\n",
    "        female_sfa$status <- sample_filter\n",
    "        \n",
    "        male_female_scalefree <- rbind(male_sfa, female_sfa) %>% filter(Power == 15)\n",
    "        \n",
    "                \n",
    "        display('male')\n",
    "        display(RpowerTableA$fitIndices)\n",
    "        display('female')\n",
    "        display(RpowerTableB$fitIndices)\n",
    "\n",
    "        \n",
    "        RpowerTableA$fitIndices #%>%\n",
    "                #fwrite(paste0(save_path,setA,'_scale_free_metrics.tsv'),quote=F,sep='\\t',row.names=F)\n",
    "        RpowerTableB$fitIndices #%>%\n",
    "                #fwrite(paste0(save_path,setB,'_scale_free_metrics.tsv'),quote=F,sep='\\t',row.names=F)\n",
    "        \n",
    "        \n",
    "        \n",
    "        \n",
    "        scale_free_df2 <- rbind(male_female_scalefree,scale_free_df2)\n",
    "        \n",
    "        \n",
    "        print(dim(datExprAll))\n",
    "                \n",
    "    \n",
    "        }\n",
    "    \n",
    "    }"
   ]
  },
  {
   "cell_type": "code",
   "execution_count": null,
   "id": "e7087d1c-6dba-41c0-bb9d-dc8379f5b9a2",
   "metadata": {
    "tags": []
   },
   "outputs": [],
   "source": [
    "scale_free_df2"
   ]
  },
  {
   "cell_type": "markdown",
   "id": "10e0773d-53bd-4e15-8b9c-a47240630821",
   "metadata": {
    "tags": []
   },
   "source": [
    "# Main Results"
   ]
  },
  {
   "cell_type": "code",
   "execution_count": null,
   "id": "0f280b46-2f2b-4556-b325-38eb81de231f",
   "metadata": {
    "tags": []
   },
   "outputs": [],
   "source": [
    "# with these 3 DLPFC samples removed (R3555, R12351, R12371)  we were able to get a scale-free network also on Power 15 (R2 >= 0.85) on all DLPFC data as well\n",
    "\n",
    "metadata %>% \n",
    "        filter(RNum == 'R3555' | RNum == 'R12351' | RNum == 'R12371') %>%\n",
    "        select(RNum, Sex, Dx, RIN, Region)"
   ]
  },
  {
   "cell_type": "code",
   "execution_count": null,
   "id": "f72592ec-8afb-44f3-9e6c-d2f2099c37fd",
   "metadata": {
    "tags": []
   },
   "outputs": [],
   "source": [
    "options(repr.matrix.max.cols=100, repr.matrix.max.rows=100)\n",
    "\n",
    "metadata %>% \n",
    "        filter(RNum == 'R3555' | RNum == 'R12351' | RNum == 'R12371') "
   ]
  },
  {
   "cell_type": "code",
   "execution_count": null,
   "id": "cb9cbb48-7d2a-447d-b6e4-7279fd9f9dd1",
   "metadata": {
    "tags": []
   },
   "outputs": [],
   "source": []
  },
  {
   "cell_type": "markdown",
   "id": "dfffe3bf-2212-4f9d-ade6-0d4640cb5ac9",
   "metadata": {
    "tags": []
   },
   "source": [
    "### Scale free topology index final results from Power 15"
   ]
  },
  {
   "cell_type": "code",
   "execution_count": null,
   "id": "1dc5bbcf-61b9-4651-aee4-a7d1041fdaa6",
   "metadata": {
    "tags": []
   },
   "outputs": [],
   "source": [
    "#Caudate & Hippocampus\n",
    "scale_free_df %>% filter(Power == 15) %>% filter(brain_region != 'dlpfc') "
   ]
  },
  {
   "cell_type": "code",
   "execution_count": null,
   "id": "e5ef9733-e6c7-435f-9cd3-f7642bdaf1d2",
   "metadata": {
    "tags": []
   },
   "outputs": [],
   "source": [
    "#DLPFC\n",
    "scale_free_df2"
   ]
  },
  {
   "cell_type": "code",
   "execution_count": null,
   "id": "5569dac1-a25b-4e03-8961-31b87cb02414",
   "metadata": {
    "tags": []
   },
   "outputs": [],
   "source": [
    "sessionInfo()"
   ]
  }
 ],
 "metadata": {
  "kernelspec": {
   "display_name": "R",
   "language": "R",
   "name": "ir"
  },
  "language_info": {
   "codemirror_mode": "r",
   "file_extension": ".r",
   "mimetype": "text/x-r-source",
   "name": "R",
   "pygments_lexer": "r",
   "version": "4.1.2"
  }
 },
 "nbformat": 4,
 "nbformat_minor": 5
}
